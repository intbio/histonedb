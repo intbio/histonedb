{
 "cells": [
  {
   "cell_type": "code",
   "execution_count": 1,
   "metadata": {
    "tags": []
   },
   "outputs": [
    {
     "name": "stdout",
     "output_type": "stream",
     "text": [
      "/mnt/scratch/v_kulikov/histonedb_Vladimir/CURATED_SET\n"
     ]
    }
   ],
   "source": [
    "%cd '..'"
   ]
  },
  {
   "cell_type": "code",
   "execution_count": 2,
   "metadata": {
    "tags": []
   },
   "outputs": [],
   "source": [
    "import inspect\n",
    "import os\n",
    "import re\n",
    "import sys\n",
    "\n",
    "import pandas as pd\n",
    "from Bio import Entrez, SeqIO\n",
    "from curated_set_services import CuratedSet"
   ]
  },
  {
   "cell_type": "code",
   "execution_count": 3,
   "metadata": {
    "tags": []
   },
   "outputs": [
    {
     "data": {
      "text/plain": [
       "((562, 16),\n",
       " Index(['accession', 'type', 'variant_group', 'variant', 'doublet', 'gi',\n",
       "        'ncbi_gene_id', 'hgnc_gene_name', 'taxonomy_id', 'organism', 'phylum',\n",
       "        'class', 'taxonomy_group', 'info', 'references', 'sequence'],\n",
       "       dtype='object'))"
      ]
     },
     "execution_count": 3,
     "metadata": {},
     "output_type": "execute_result"
    }
   ],
   "source": [
    "# Load data from histones.csv\n",
    "curated_set = CuratedSet()\n",
    "cs = curated_set\n",
    "\n",
    "cs.data.shape, cs.data.columns"
   ]
  },
  {
   "cell_type": "code",
   "execution_count": 4,
   "metadata": {
    "tags": []
   },
   "outputs": [
    {
     "data": {
      "text/plain": [
       "[]"
      ]
     },
     "execution_count": 4,
     "metadata": {},
     "output_type": "execute_result"
    }
   ],
   "source": [
    "list(cs.has_duplicates())"
   ]
  },
  {
   "cell_type": "code",
   "execution_count": 5,
   "metadata": {
    "tags": []
   },
   "outputs": [
    {
     "data": {
      "text/html": [
       "<div>\n",
       "<style scoped>\n",
       "    .dataframe tbody tr th:only-of-type {\n",
       "        vertical-align: middle;\n",
       "    }\n",
       "\n",
       "    .dataframe tbody tr th {\n",
       "        vertical-align: top;\n",
       "    }\n",
       "\n",
       "    .dataframe thead th {\n",
       "        text-align: right;\n",
       "    }\n",
       "</style>\n",
       "<table border=\"1\" class=\"dataframe\">\n",
       "  <thead>\n",
       "    <tr style=\"text-align: right;\">\n",
       "      <th></th>\n",
       "      <th>accession</th>\n",
       "      <th>type</th>\n",
       "      <th>variant_group</th>\n",
       "      <th>variant</th>\n",
       "      <th>doublet</th>\n",
       "      <th>gi</th>\n",
       "      <th>ncbi_gene_id</th>\n",
       "      <th>hgnc_gene_name</th>\n",
       "      <th>taxonomy_id</th>\n",
       "      <th>organism</th>\n",
       "      <th>phylum</th>\n",
       "      <th>class</th>\n",
       "      <th>taxonomy_group</th>\n",
       "      <th>info</th>\n",
       "      <th>references</th>\n",
       "      <th>sequence</th>\n",
       "    </tr>\n",
       "  </thead>\n",
       "  <tbody>\n",
       "  </tbody>\n",
       "</table>\n",
       "</div>"
      ],
      "text/plain": [
       "Empty DataFrame\n",
       "Columns: [accession, type, variant_group, variant, doublet, gi, ncbi_gene_id, hgnc_gene_name, taxonomy_id, organism, phylum, class, taxonomy_group, info, references, sequence]\n",
       "Index: []"
      ]
     },
     "execution_count": 5,
     "metadata": {},
     "output_type": "execute_result"
    }
   ],
   "source": [
    "cs.data[cs.data[\"accession\"] == \"P16889.3\"]"
   ]
  },
  {
   "cell_type": "code",
   "execution_count": 6,
   "metadata": {
    "tags": []
   },
   "outputs": [
    {
     "data": {
      "text/html": [
       "<div>\n",
       "<style scoped>\n",
       "    .dataframe tbody tr th:only-of-type {\n",
       "        vertical-align: middle;\n",
       "    }\n",
       "\n",
       "    .dataframe tbody tr th {\n",
       "        vertical-align: top;\n",
       "    }\n",
       "\n",
       "    .dataframe thead th {\n",
       "        text-align: right;\n",
       "    }\n",
       "</style>\n",
       "<table border=\"1\" class=\"dataframe\">\n",
       "  <thead>\n",
       "    <tr style=\"text-align: right;\">\n",
       "      <th></th>\n",
       "      <th>accession</th>\n",
       "      <th>type</th>\n",
       "      <th>variant_group</th>\n",
       "      <th>variant</th>\n",
       "      <th>doublet</th>\n",
       "      <th>gi</th>\n",
       "      <th>ncbi_gene_id</th>\n",
       "      <th>hgnc_gene_name</th>\n",
       "      <th>taxonomy_id</th>\n",
       "      <th>organism</th>\n",
       "      <th>phylum</th>\n",
       "      <th>class</th>\n",
       "      <th>taxonomy_group</th>\n",
       "      <th>info</th>\n",
       "      <th>references</th>\n",
       "      <th>sequence</th>\n",
       "    </tr>\n",
       "  </thead>\n",
       "  <tbody>\n",
       "    <tr>\n",
       "      <th>NP_505463.1</th>\n",
       "      <td>NP_505463.1</td>\n",
       "      <td>H2A</td>\n",
       "      <td>cH2A</td>\n",
       "      <td>cH2A_(Animals)</td>\n",
       "      <td></td>\n",
       "      <td>17562014</td>\n",
       "      <td></td>\n",
       "      <td></td>\n",
       "      <td>6239</td>\n",
       "      <td>Caenorhabditis elegans</td>\n",
       "      <td>Nematoda</td>\n",
       "      <td>Chromadorea</td>\n",
       "      <td></td>\n",
       "      <td></td>\n",
       "      <td>26989147 22650316(?)</td>\n",
       "      <td>MSGRGKGGKAKTGGKAKSRSSRAGLQFPVGRLHRILRKGNYAQRVG...</td>\n",
       "    </tr>\n",
       "    <tr>\n",
       "      <th>EEC09557.1</th>\n",
       "      <td>EEC09557.1</td>\n",
       "      <td>H2A</td>\n",
       "      <td>cH2A</td>\n",
       "      <td>cH2A_(Animals)</td>\n",
       "      <td></td>\n",
       "      <td>215500063</td>\n",
       "      <td></td>\n",
       "      <td></td>\n",
       "      <td>6945</td>\n",
       "      <td>Ixodes scapularis</td>\n",
       "      <td>Arthropoda</td>\n",
       "      <td>Arachnida</td>\n",
       "      <td></td>\n",
       "      <td></td>\n",
       "      <td>26989147 22650316(?)</td>\n",
       "      <td>MSGRGKGGKVKGKSKTRSSRAGLQFPVGRIHRLLRKGNYAERVGAG...</td>\n",
       "    </tr>\n",
       "    <tr>\n",
       "      <th>NP_724343.1</th>\n",
       "      <td>NP_724343.1</td>\n",
       "      <td>H2A</td>\n",
       "      <td>cH2A</td>\n",
       "      <td>cH2A_(Animals)</td>\n",
       "      <td></td>\n",
       "      <td>24585673</td>\n",
       "      <td></td>\n",
       "      <td></td>\n",
       "      <td>7227</td>\n",
       "      <td>Drosophila melanogaster</td>\n",
       "      <td>Arthropoda</td>\n",
       "      <td>Insecta</td>\n",
       "      <td></td>\n",
       "      <td></td>\n",
       "      <td>26989147 22650316(?)</td>\n",
       "      <td>MSGRGKGGKVKGKAKSRSNRAGLQFPVGRIHRLLRKGNYAERVGAG...</td>\n",
       "    </tr>\n",
       "    <tr>\n",
       "      <th>XP_001119899.1</th>\n",
       "      <td>XP_001119899.1</td>\n",
       "      <td>H2A</td>\n",
       "      <td>cH2A</td>\n",
       "      <td>cH2A_(Animals)</td>\n",
       "      <td></td>\n",
       "      <td>110764935</td>\n",
       "      <td></td>\n",
       "      <td></td>\n",
       "      <td>7460</td>\n",
       "      <td>Apis mellifera</td>\n",
       "      <td>Arthropoda</td>\n",
       "      <td>Insecta</td>\n",
       "      <td></td>\n",
       "      <td></td>\n",
       "      <td>26989147 22650316(?)</td>\n",
       "      <td>MSGRGKGGKAKAKAKSRSNRAGLQFPVGRIHRLLRKGNYAERVGAG...</td>\n",
       "    </tr>\n",
       "    <tr>\n",
       "      <th>EDO48405.1</th>\n",
       "      <td>EDO48405.1</td>\n",
       "      <td>H2A</td>\n",
       "      <td>cH2A</td>\n",
       "      <td>cH2A_(Animals)</td>\n",
       "      <td></td>\n",
       "      <td>156227602</td>\n",
       "      <td></td>\n",
       "      <td></td>\n",
       "      <td>45351</td>\n",
       "      <td>Nematostella vectensis</td>\n",
       "      <td>Cnidaria</td>\n",
       "      <td>Anthozoa</td>\n",
       "      <td></td>\n",
       "      <td></td>\n",
       "      <td>26989147 22650316(?)</td>\n",
       "      <td>MSGRGKGKAKGTKSKTRSSRAGLQFPVGRIHRHLRKGNYAERVGAG...</td>\n",
       "    </tr>\n",
       "  </tbody>\n",
       "</table>\n",
       "</div>"
      ],
      "text/plain": [
       "                     accession type variant_group         variant doublet  \\\n",
       "NP_505463.1        NP_505463.1  H2A          cH2A  cH2A_(Animals)           \n",
       "EEC09557.1          EEC09557.1  H2A          cH2A  cH2A_(Animals)           \n",
       "NP_724343.1        NP_724343.1  H2A          cH2A  cH2A_(Animals)           \n",
       "XP_001119899.1  XP_001119899.1  H2A          cH2A  cH2A_(Animals)           \n",
       "EDO48405.1          EDO48405.1  H2A          cH2A  cH2A_(Animals)           \n",
       "\n",
       "                       gi ncbi_gene_id hgnc_gene_name taxonomy_id  \\\n",
       "NP_505463.1      17562014                                    6239   \n",
       "EEC09557.1      215500063                                    6945   \n",
       "NP_724343.1      24585673                                    7227   \n",
       "XP_001119899.1  110764935                                    7460   \n",
       "EDO48405.1      156227602                                   45351   \n",
       "\n",
       "                               organism      phylum        class  \\\n",
       "NP_505463.1      Caenorhabditis elegans    Nematoda  Chromadorea   \n",
       "EEC09557.1            Ixodes scapularis  Arthropoda    Arachnida   \n",
       "NP_724343.1     Drosophila melanogaster  Arthropoda      Insecta   \n",
       "XP_001119899.1           Apis mellifera  Arthropoda      Insecta   \n",
       "EDO48405.1       Nematostella vectensis    Cnidaria     Anthozoa   \n",
       "\n",
       "               taxonomy_group info            references  \\\n",
       "NP_505463.1                         26989147 22650316(?)   \n",
       "EEC09557.1                          26989147 22650316(?)   \n",
       "NP_724343.1                         26989147 22650316(?)   \n",
       "XP_001119899.1                      26989147 22650316(?)   \n",
       "EDO48405.1                          26989147 22650316(?)   \n",
       "\n",
       "                                                         sequence  \n",
       "NP_505463.1     MSGRGKGGKAKTGGKAKSRSSRAGLQFPVGRLHRILRKGNYAQRVG...  \n",
       "EEC09557.1      MSGRGKGGKVKGKSKTRSSRAGLQFPVGRIHRLLRKGNYAERVGAG...  \n",
       "NP_724343.1     MSGRGKGGKVKGKAKSRSNRAGLQFPVGRIHRLLRKGNYAERVGAG...  \n",
       "XP_001119899.1  MSGRGKGGKAKAKAKSRSNRAGLQFPVGRIHRLLRKGNYAERVGAG...  \n",
       "EDO48405.1      MSGRGKGKAKGTKSKTRSSRAGLQFPVGRIHRHLRKGNYAERVGAG...  "
      ]
     },
     "execution_count": 6,
     "metadata": {},
     "output_type": "execute_result"
    }
   ],
   "source": [
    "cs.data.head()"
   ]
  },
  {
   "cell_type": "code",
   "execution_count": 7,
   "metadata": {
    "tags": []
   },
   "outputs": [
    {
     "data": {
      "text/plain": [
       "(562, 16)"
      ]
     },
     "execution_count": 7,
     "metadata": {},
     "output_type": "execute_result"
    }
   ],
   "source": [
    "cs.data.shape"
   ]
  },
  {
   "cell_type": "code",
   "execution_count": 8,
   "metadata": {
    "tags": []
   },
   "outputs": [],
   "source": [
    "late_h2b_accessions = [\n",
    "    \"P16889.3\",\n",
    "]"
   ]
  },
  {
   "cell_type": "code",
   "execution_count": 9,
   "metadata": {
    "tags": []
   },
   "outputs": [
    {
     "data": {
      "text/plain": [
       "((1, 5),\n",
       " Index(['accession', 'type', 'variant_group', 'variant', 'references'], dtype='object'))"
      ]
     },
     "execution_count": 9,
     "metadata": {},
     "output_type": "execute_result"
    }
   ],
   "source": [
    "df = pd.DataFrame(\n",
    "    {\n",
    "        \"accession\": late_h2b_accessions,\n",
    "        \"type\": [\"H2B\"] * len(late_h2b_accessions),\n",
    "        \"variant_group\": [\"late_H2B\"] * len(late_h2b_accessions),\n",
    "        \"variant\": [\"late_H2B.3\"] * len(late_h2b_accessions),\n",
    "        \"references\": [\"3697096\"] * len(late_h2b_accessions),\n",
    "    }\n",
    ")\n",
    "df.index = df.accession\n",
    "df.shape, df.columns"
   ]
  },
  {
   "cell_type": "code",
   "execution_count": 10,
   "metadata": {
    "tags": []
   },
   "outputs": [
    {
     "data": {
      "text/html": [
       "<div>\n",
       "<style scoped>\n",
       "    .dataframe tbody tr th:only-of-type {\n",
       "        vertical-align: middle;\n",
       "    }\n",
       "\n",
       "    .dataframe tbody tr th {\n",
       "        vertical-align: top;\n",
       "    }\n",
       "\n",
       "    .dataframe thead th {\n",
       "        text-align: right;\n",
       "    }\n",
       "</style>\n",
       "<table border=\"1\" class=\"dataframe\">\n",
       "  <thead>\n",
       "    <tr style=\"text-align: right;\">\n",
       "      <th></th>\n",
       "      <th>accession</th>\n",
       "      <th>type</th>\n",
       "      <th>variant_group</th>\n",
       "      <th>variant</th>\n",
       "      <th>references</th>\n",
       "    </tr>\n",
       "    <tr>\n",
       "      <th>accession</th>\n",
       "      <th></th>\n",
       "      <th></th>\n",
       "      <th></th>\n",
       "      <th></th>\n",
       "      <th></th>\n",
       "    </tr>\n",
       "  </thead>\n",
       "  <tbody>\n",
       "    <tr>\n",
       "      <th>P16889.3</th>\n",
       "      <td>P16889.3</td>\n",
       "      <td>H2B</td>\n",
       "      <td>late_H2B</td>\n",
       "      <td>late_H2B.3</td>\n",
       "      <td>3697096</td>\n",
       "    </tr>\n",
       "  </tbody>\n",
       "</table>\n",
       "</div>"
      ],
      "text/plain": [
       "          accession type variant_group     variant references\n",
       "accession                                                    \n",
       "P16889.3   P16889.3  H2B      late_H2B  late_H2B.3    3697096"
      ]
     },
     "execution_count": 10,
     "metadata": {},
     "output_type": "execute_result"
    }
   ],
   "source": [
    "df.head()"
   ]
  },
  {
   "cell_type": "code",
   "execution_count": 11,
   "metadata": {
    "tags": []
   },
   "outputs": [
    {
     "data": {
      "text/plain": [
       "((563, 16), [])"
      ]
     },
     "execution_count": 11,
     "metadata": {},
     "output_type": "execute_result"
    }
   ],
   "source": [
    "cs.data = pd.concat([cs.data, df]).fillna(\"\")\n",
    "cs.data.shape, list(cs.has_duplicates())"
   ]
  },
  {
   "cell_type": "code",
   "execution_count": 12,
   "metadata": {
    "tags": []
   },
   "outputs": [
    {
     "data": {
      "text/html": [
       "<div>\n",
       "<style scoped>\n",
       "    .dataframe tbody tr th:only-of-type {\n",
       "        vertical-align: middle;\n",
       "    }\n",
       "\n",
       "    .dataframe tbody tr th {\n",
       "        vertical-align: top;\n",
       "    }\n",
       "\n",
       "    .dataframe thead th {\n",
       "        text-align: right;\n",
       "    }\n",
       "</style>\n",
       "<table border=\"1\" class=\"dataframe\">\n",
       "  <thead>\n",
       "    <tr style=\"text-align: right;\">\n",
       "      <th></th>\n",
       "      <th>accession</th>\n",
       "      <th>type</th>\n",
       "      <th>variant_group</th>\n",
       "      <th>variant</th>\n",
       "      <th>doublet</th>\n",
       "      <th>gi</th>\n",
       "      <th>ncbi_gene_id</th>\n",
       "      <th>hgnc_gene_name</th>\n",
       "      <th>taxonomy_id</th>\n",
       "      <th>organism</th>\n",
       "      <th>phylum</th>\n",
       "      <th>class</th>\n",
       "      <th>taxonomy_group</th>\n",
       "      <th>info</th>\n",
       "      <th>references</th>\n",
       "      <th>sequence</th>\n",
       "    </tr>\n",
       "  </thead>\n",
       "  <tbody>\n",
       "    <tr>\n",
       "      <th>NP_001295191.1</th>\n",
       "      <td>NP_001295191.1</td>\n",
       "      <td>H1</td>\n",
       "      <td>H1.8</td>\n",
       "      <td>H1.8_(Homo_sapiens)__???</td>\n",
       "      <td></td>\n",
       "      <td></td>\n",
       "      <td>132243.0</td>\n",
       "      <td>H1-8</td>\n",
       "      <td>9606</td>\n",
       "      <td>Homo sapiens</td>\n",
       "      <td>Chordata</td>\n",
       "      <td>Mammalia</td>\n",
       "      <td>Mammalia</td>\n",
       "      <td></td>\n",
       "      <td>26689747</td>\n",
       "      <td>MAPATAPRRAGEAKGKGPKKPSEAKEDPPNVGKVKKAAKRPAKVQK...</td>\n",
       "    </tr>\n",
       "    <tr>\n",
       "      <th>NP_005311.1</th>\n",
       "      <td>NP_005311.1</td>\n",
       "      <td>H1</td>\n",
       "      <td>H1.3</td>\n",
       "      <td>H1.3_(Homo_sapiens)__???</td>\n",
       "      <td></td>\n",
       "      <td></td>\n",
       "      <td>3007.0</td>\n",
       "      <td>H1-3</td>\n",
       "      <td>9606</td>\n",
       "      <td>Homo sapiens</td>\n",
       "      <td>Chordata</td>\n",
       "      <td>Mammalia</td>\n",
       "      <td>Mammalia</td>\n",
       "      <td></td>\n",
       "      <td>26689747</td>\n",
       "      <td>MSETAPLAPTIPAPAEKTPVKKKAKKAGATAGKRKASGPPVSELIT...</td>\n",
       "    </tr>\n",
       "    <tr>\n",
       "      <th>NP_006017.1</th>\n",
       "      <td>NP_006017.1</td>\n",
       "      <td>H1</td>\n",
       "      <td>H1.10</td>\n",
       "      <td>H1.10_(Homo_sapiens)__???</td>\n",
       "      <td></td>\n",
       "      <td></td>\n",
       "      <td>8971.0</td>\n",
       "      <td>H1-10</td>\n",
       "      <td>9606</td>\n",
       "      <td>Homo sapiens</td>\n",
       "      <td>Chordata</td>\n",
       "      <td>Mammalia</td>\n",
       "      <td>Mammalia</td>\n",
       "      <td></td>\n",
       "      <td>26689747</td>\n",
       "      <td>MSVELEEALPVTTAEGMAKKVTKAGGSAALSPSKKRKNSKKKNQPG...</td>\n",
       "    </tr>\n",
       "    <tr>\n",
       "      <th>NP_005310.1</th>\n",
       "      <td>NP_005310.1</td>\n",
       "      <td>H1</td>\n",
       "      <td>H1.2</td>\n",
       "      <td>H1.2_(Homo_sapiens)__???</td>\n",
       "      <td></td>\n",
       "      <td></td>\n",
       "      <td>3006.0</td>\n",
       "      <td>H1-2</td>\n",
       "      <td>9606</td>\n",
       "      <td>Homo sapiens</td>\n",
       "      <td>Chordata</td>\n",
       "      <td>Mammalia</td>\n",
       "      <td>Mammalia</td>\n",
       "      <td></td>\n",
       "      <td>26689747</td>\n",
       "      <td>MSETAPAAPAAAPPAEKAPVKKKAAKKAGGTPRKASGPPVSELITK...</td>\n",
       "    </tr>\n",
       "    <tr>\n",
       "      <th>P16889.3</th>\n",
       "      <td>P16889.3</td>\n",
       "      <td>H2B</td>\n",
       "      <td>late_H2B</td>\n",
       "      <td>late_H2B.3</td>\n",
       "      <td></td>\n",
       "      <td></td>\n",
       "      <td></td>\n",
       "      <td></td>\n",
       "      <td></td>\n",
       "      <td></td>\n",
       "      <td></td>\n",
       "      <td></td>\n",
       "      <td></td>\n",
       "      <td></td>\n",
       "      <td>3697096</td>\n",
       "      <td></td>\n",
       "    </tr>\n",
       "  </tbody>\n",
       "</table>\n",
       "</div>"
      ],
      "text/plain": [
       "                     accession type variant_group                    variant  \\\n",
       "NP_001295191.1  NP_001295191.1   H1          H1.8   H1.8_(Homo_sapiens)__???   \n",
       "NP_005311.1        NP_005311.1   H1          H1.3   H1.3_(Homo_sapiens)__???   \n",
       "NP_006017.1        NP_006017.1   H1         H1.10  H1.10_(Homo_sapiens)__???   \n",
       "NP_005310.1        NP_005310.1   H1          H1.2   H1.2_(Homo_sapiens)__???   \n",
       "P16889.3              P16889.3  H2B      late_H2B                 late_H2B.3   \n",
       "\n",
       "               doublet gi ncbi_gene_id hgnc_gene_name taxonomy_id  \\\n",
       "NP_001295191.1                132243.0           H1-8        9606   \n",
       "NP_005311.1                     3007.0           H1-3        9606   \n",
       "NP_006017.1                     8971.0          H1-10        9606   \n",
       "NP_005310.1                     3006.0           H1-2        9606   \n",
       "P16889.3                                                            \n",
       "\n",
       "                    organism    phylum     class taxonomy_group info  \\\n",
       "NP_001295191.1  Homo sapiens  Chordata  Mammalia       Mammalia        \n",
       "NP_005311.1     Homo sapiens  Chordata  Mammalia       Mammalia        \n",
       "NP_006017.1     Homo sapiens  Chordata  Mammalia       Mammalia        \n",
       "NP_005310.1     Homo sapiens  Chordata  Mammalia       Mammalia        \n",
       "P16889.3                                                               \n",
       "\n",
       "               references                                           sequence  \n",
       "NP_001295191.1   26689747  MAPATAPRRAGEAKGKGPKKPSEAKEDPPNVGKVKKAAKRPAKVQK...  \n",
       "NP_005311.1      26689747  MSETAPLAPTIPAPAEKTPVKKKAKKAGATAGKRKASGPPVSELIT...  \n",
       "NP_006017.1      26689747  MSVELEEALPVTTAEGMAKKVTKAGGSAALSPSKKRKNSKKKNQPG...  \n",
       "NP_005310.1      26689747  MSETAPAAPAAAPPAEKAPVKKKAAKKAGGTPRKASGPPVSELITK...  \n",
       "P16889.3          3697096                                                     "
      ]
     },
     "execution_count": 12,
     "metadata": {},
     "output_type": "execute_result"
    }
   ],
   "source": [
    "cs.data.tail()"
   ]
  },
  {
   "cell_type": "code",
   "execution_count": 13,
   "metadata": {
    "tags": []
   },
   "outputs": [
    {
     "data": {
      "text/plain": [
       "(1, 16)"
      ]
     },
     "execution_count": 13,
     "metadata": {},
     "output_type": "execute_result"
    }
   ],
   "source": [
    "cs.data[cs.data[\"variant\"] == \"late_H2B.3\"].shape"
   ]
  },
  {
   "cell_type": "code",
   "execution_count": 14,
   "metadata": {
    "tags": []
   },
   "outputs": [
    {
     "name": "stderr",
     "output_type": "stream",
     "text": [
      "/home/l_singh/.conda/envs/histdb_env/lib/python3.8/site-packages/Bio/Entrez/__init__.py:658: UserWarning: \n",
      "Email address is not specified.\n",
      "\n",
      "To make use of NCBI's E-utilities, NCBI requires you to specify your\n",
      "email address with each request.  As an example, if your email address\n",
      "is A.N.Other@example.com, you can specify it as follows:\n",
      "   from Bio import Entrez\n",
      "   Entrez.email = 'A.N.Other@example.com'\n",
      "In case of excessive usage of the E-utilities, NCBI will attempt to contact\n",
      "a user at the email address provided before blocking access to the\n",
      "E-utilities.\n",
      "  warnings.warn(\n",
      "/home/l_singh/.conda/envs/histdb_env/lib/python3.8/site-packages/Bio/GenBank/__init__.py:1143: BiopythonParserWarning: Dropping bond qualifier in feature location\n",
      "  warnings.warn(\n",
      "/mnt/scratch/v_kulikov/histonedb_Vladimir/CURATED_SET/curated_set_services.py:267: SettingWithCopyWarning: \n",
      "A value is trying to be set on a copy of a slice from a DataFrame.\n",
      "Try using .loc[row_indexer,col_indexer] = value instead\n",
      "\n",
      "See the caveats in the documentation: https://pandas.pydata.org/pandas-docs/stable/user_guide/indexing.html#returning-a-view-versus-a-copy\n",
      "  updating_data['accession'] = new_accessions\n"
     ]
    }
   ],
   "source": [
    "cs.update_accession_version()\n",
    "cs.data = cs.data.set_index(cs.data.accession.values)"
   ]
  },
  {
   "cell_type": "code",
   "execution_count": 15,
   "metadata": {
    "tags": []
   },
   "outputs": [
    {
     "data": {
      "text/plain": [
       "(1, 16)"
      ]
     },
     "execution_count": 15,
     "metadata": {},
     "output_type": "execute_result"
    }
   ],
   "source": [
    "cs.data[cs.data[\"variant\"] == \"late_H2B.3\"].shape"
   ]
  },
  {
   "cell_type": "code",
   "execution_count": 16,
   "metadata": {
    "tags": []
   },
   "outputs": [
    {
     "name": "stdout",
     "output_type": "stream",
     "text": [
      "Fetched taxid from NCBI 7668\n",
      " changes to 7668\n",
      " changes to Strongylocentrotus purpuratus\n",
      " changes to Echinodermata\n",
      " changes to Echinoidea\n"
     ]
    }
   ],
   "source": [
    "curated_set.update_taxids(blank_data=True)"
   ]
  },
  {
   "cell_type": "code",
   "execution_count": 17,
   "metadata": {
    "tags": []
   },
   "outputs": [
    {
     "data": {
      "text/plain": [
       "(1, 16)"
      ]
     },
     "execution_count": 17,
     "metadata": {},
     "output_type": "execute_result"
    }
   ],
   "source": [
    "cs.data[cs.data[\"variant\"] == \"late_H2B.3\"].shape"
   ]
  },
  {
   "cell_type": "code",
   "execution_count": 18,
   "metadata": {
    "tags": []
   },
   "outputs": [
    {
     "data": {
      "text/html": [
       "<div>\n",
       "<style scoped>\n",
       "    .dataframe tbody tr th:only-of-type {\n",
       "        vertical-align: middle;\n",
       "    }\n",
       "\n",
       "    .dataframe tbody tr th {\n",
       "        vertical-align: top;\n",
       "    }\n",
       "\n",
       "    .dataframe thead th {\n",
       "        text-align: right;\n",
       "    }\n",
       "</style>\n",
       "<table border=\"1\" class=\"dataframe\">\n",
       "  <thead>\n",
       "    <tr style=\"text-align: right;\">\n",
       "      <th></th>\n",
       "      <th>accession</th>\n",
       "      <th>type</th>\n",
       "      <th>variant_group</th>\n",
       "      <th>variant</th>\n",
       "      <th>doublet</th>\n",
       "      <th>gi</th>\n",
       "      <th>ncbi_gene_id</th>\n",
       "      <th>hgnc_gene_name</th>\n",
       "      <th>taxonomy_id</th>\n",
       "      <th>organism</th>\n",
       "      <th>phylum</th>\n",
       "      <th>class</th>\n",
       "      <th>taxonomy_group</th>\n",
       "      <th>info</th>\n",
       "      <th>references</th>\n",
       "      <th>sequence</th>\n",
       "    </tr>\n",
       "  </thead>\n",
       "  <tbody>\n",
       "    <tr>\n",
       "      <th>P16889.3</th>\n",
       "      <td>P16889.3</td>\n",
       "      <td>H2B</td>\n",
       "      <td>late_H2B</td>\n",
       "      <td>late_H2B.3</td>\n",
       "      <td></td>\n",
       "      <td></td>\n",
       "      <td></td>\n",
       "      <td></td>\n",
       "      <td>7668</td>\n",
       "      <td>Strongylocentrotus purpuratus</td>\n",
       "      <td>Echinodermata</td>\n",
       "      <td>Echinoidea</td>\n",
       "      <td></td>\n",
       "      <td></td>\n",
       "      <td>3697096</td>\n",
       "      <td></td>\n",
       "    </tr>\n",
       "  </tbody>\n",
       "</table>\n",
       "</div>"
      ],
      "text/plain": [
       "         accession type variant_group     variant doublet gi ncbi_gene_id  \\\n",
       "P16889.3  P16889.3  H2B      late_H2B  late_H2B.3                           \n",
       "\n",
       "         hgnc_gene_name taxonomy_id                       organism  \\\n",
       "P16889.3                       7668  Strongylocentrotus purpuratus   \n",
       "\n",
       "                 phylum       class taxonomy_group info references sequence  \n",
       "P16889.3  Echinodermata  Echinoidea                        3697096           "
      ]
     },
     "execution_count": 18,
     "metadata": {},
     "output_type": "execute_result"
    }
   ],
   "source": [
    "cs.data[cs.data[\"variant\"] == \"late_H2B.3\"]"
   ]
  },
  {
   "cell_type": "markdown",
   "metadata": {
    "tags": []
   },
   "source": [
    "## Updating sequences for late_H2B.3"
   ]
  },
  {
   "cell_type": "code",
   "execution_count": 19,
   "metadata": {
    "tags": []
   },
   "outputs": [
    {
     "data": {
      "text/html": [
       "<div>\n",
       "<style scoped>\n",
       "    .dataframe tbody tr th:only-of-type {\n",
       "        vertical-align: middle;\n",
       "    }\n",
       "\n",
       "    .dataframe tbody tr th {\n",
       "        vertical-align: top;\n",
       "    }\n",
       "\n",
       "    .dataframe thead th {\n",
       "        text-align: right;\n",
       "    }\n",
       "</style>\n",
       "<table border=\"1\" class=\"dataframe\">\n",
       "  <thead>\n",
       "    <tr style=\"text-align: right;\">\n",
       "      <th></th>\n",
       "      <th>accession</th>\n",
       "      <th>type</th>\n",
       "      <th>variant_group</th>\n",
       "      <th>variant</th>\n",
       "      <th>doublet</th>\n",
       "      <th>gi</th>\n",
       "      <th>ncbi_gene_id</th>\n",
       "      <th>hgnc_gene_name</th>\n",
       "      <th>taxonomy_id</th>\n",
       "      <th>organism</th>\n",
       "      <th>phylum</th>\n",
       "      <th>class</th>\n",
       "      <th>taxonomy_group</th>\n",
       "      <th>info</th>\n",
       "      <th>references</th>\n",
       "      <th>sequence</th>\n",
       "    </tr>\n",
       "  </thead>\n",
       "  <tbody>\n",
       "    <tr>\n",
       "      <th>P16889.3</th>\n",
       "      <td>P16889.3</td>\n",
       "      <td>H2B</td>\n",
       "      <td>late_H2B</td>\n",
       "      <td>late_H2B.3</td>\n",
       "      <td></td>\n",
       "      <td></td>\n",
       "      <td></td>\n",
       "      <td></td>\n",
       "      <td>7668</td>\n",
       "      <td>Strongylocentrotus purpuratus</td>\n",
       "      <td>Echinodermata</td>\n",
       "      <td>Echinoidea</td>\n",
       "      <td></td>\n",
       "      <td></td>\n",
       "      <td>3697096</td>\n",
       "      <td></td>\n",
       "    </tr>\n",
       "  </tbody>\n",
       "</table>\n",
       "</div>"
      ],
      "text/plain": [
       "         accession type variant_group     variant doublet gi ncbi_gene_id  \\\n",
       "P16889.3  P16889.3  H2B      late_H2B  late_H2B.3                           \n",
       "\n",
       "         hgnc_gene_name taxonomy_id                       organism  \\\n",
       "P16889.3                       7668  Strongylocentrotus purpuratus   \n",
       "\n",
       "                 phylum       class taxonomy_group info references sequence  \n",
       "P16889.3  Echinodermata  Echinoidea                        3697096           "
      ]
     },
     "execution_count": 19,
     "metadata": {},
     "output_type": "execute_result"
    }
   ],
   "source": [
    "cs.data[cs.data['sequence'] == '']"
   ]
  },
  {
   "cell_type": "code",
   "execution_count": 20,
   "metadata": {
    "tags": []
   },
   "outputs": [
    {
     "name": "stdout",
     "output_type": "stream",
     "text": [
      "Downloading FASTA SeqRecords by ACCESSIONs from NCBI\n",
      "Fetching 1 seqs\n"
     ]
    },
    {
     "name": "stderr",
     "output_type": "stream",
     "text": [
      "/home/l_singh/.conda/envs/histdb_env/lib/python3.8/site-packages/Bio/Entrez/__init__.py:658: UserWarning: \n",
      "Email address is not specified.\n",
      "\n",
      "To make use of NCBI's E-utilities, NCBI requires you to specify your\n",
      "email address with each request.  As an example, if your email address\n",
      "is A.N.Other@example.com, you can specify it as follows:\n",
      "   from Bio import Entrez\n",
      "   Entrez.email = 'A.N.Other@example.com'\n",
      "In case of excessive usage of the E-utilities, NCBI will attempt to contact\n",
      "a user at the email address provided before blocking access to the\n",
      "E-utilities.\n",
      "  warnings.warn(\n"
     ]
    },
    {
     "name": "stdout",
     "output_type": "stream",
     "text": [
      "Sequence for P16889.3 changes from  to MPAKAQAAGKKGSKKAKAPKPSGDKKRRRKRKESYGIYIYKVLKQVHPDTGISSRAMSIMNSFVNDVFERIAAEASRLAHYNKKSTITSREVQTAVRLLLPGELAKHAVSEGTKAVTKYTTSK\n",
      "Sequences updated: 1\n"
     ]
    }
   ],
   "source": [
    "cs.update_sequence(blank_data=True)"
   ]
  },
  {
   "cell_type": "code",
   "execution_count": 21,
   "metadata": {
    "tags": []
   },
   "outputs": [
    {
     "data": {
      "text/html": [
       "<div>\n",
       "<style scoped>\n",
       "    .dataframe tbody tr th:only-of-type {\n",
       "        vertical-align: middle;\n",
       "    }\n",
       "\n",
       "    .dataframe tbody tr th {\n",
       "        vertical-align: top;\n",
       "    }\n",
       "\n",
       "    .dataframe thead th {\n",
       "        text-align: right;\n",
       "    }\n",
       "</style>\n",
       "<table border=\"1\" class=\"dataframe\">\n",
       "  <thead>\n",
       "    <tr style=\"text-align: right;\">\n",
       "      <th></th>\n",
       "      <th>accession</th>\n",
       "      <th>type</th>\n",
       "      <th>variant_group</th>\n",
       "      <th>variant</th>\n",
       "      <th>doublet</th>\n",
       "      <th>gi</th>\n",
       "      <th>ncbi_gene_id</th>\n",
       "      <th>hgnc_gene_name</th>\n",
       "      <th>taxonomy_id</th>\n",
       "      <th>organism</th>\n",
       "      <th>phylum</th>\n",
       "      <th>class</th>\n",
       "      <th>taxonomy_group</th>\n",
       "      <th>info</th>\n",
       "      <th>references</th>\n",
       "      <th>sequence</th>\n",
       "    </tr>\n",
       "  </thead>\n",
       "  <tbody>\n",
       "    <tr>\n",
       "      <th>P16889.3</th>\n",
       "      <td>P16889.3</td>\n",
       "      <td>H2B</td>\n",
       "      <td>late_H2B</td>\n",
       "      <td>late_H2B.3</td>\n",
       "      <td></td>\n",
       "      <td></td>\n",
       "      <td></td>\n",
       "      <td></td>\n",
       "      <td>7668</td>\n",
       "      <td>Strongylocentrotus purpuratus</td>\n",
       "      <td>Echinodermata</td>\n",
       "      <td>Echinoidea</td>\n",
       "      <td></td>\n",
       "      <td></td>\n",
       "      <td>3697096</td>\n",
       "      <td>MPAKAQAAGKKGSKKAKAPKPSGDKKRRRKRKESYGIYIYKVLKQV...</td>\n",
       "    </tr>\n",
       "  </tbody>\n",
       "</table>\n",
       "</div>"
      ],
      "text/plain": [
       "         accession type variant_group     variant doublet gi ncbi_gene_id  \\\n",
       "P16889.3  P16889.3  H2B      late_H2B  late_H2B.3                           \n",
       "\n",
       "         hgnc_gene_name taxonomy_id                       organism  \\\n",
       "P16889.3                       7668  Strongylocentrotus purpuratus   \n",
       "\n",
       "                 phylum       class taxonomy_group info references  \\\n",
       "P16889.3  Echinodermata  Echinoidea                        3697096   \n",
       "\n",
       "                                                   sequence  \n",
       "P16889.3  MPAKAQAAGKKGSKKAKAPKPSGDKKRRRKRKESYGIYIYKVLKQV...  "
      ]
     },
     "execution_count": 21,
     "metadata": {},
     "output_type": "execute_result"
    }
   ],
   "source": [
    "cs.data[cs.data[\"variant\"] == \"late_H2B.3\"]"
   ]
  },
  {
   "cell_type": "code",
   "execution_count": 22,
   "metadata": {
    "tags": []
   },
   "outputs": [
    {
     "name": "stdout",
     "output_type": "stream",
     "text": [
      "Added sequence with accession P16889.3\n",
      "cp histones.csv backups/histones.csv-Mar2324100043\n",
      "Previous data backuped to backups/histones.csv-Mar2324100043\n",
      "Results saved to histones.csv\n"
     ]
    }
   ],
   "source": [
    "cs.save()"
   ]
  },
  {
   "cell_type": "code",
   "execution_count": null,
   "metadata": {},
   "outputs": [],
   "source": []
  }
 ],
 "metadata": {
  "kernelspec": {
   "display_name": ".conda-histdb_env",
   "language": "python",
   "name": "conda-env-.conda-histdb_env-py"
  },
  "language_info": {
   "codemirror_mode": {
    "name": "ipython",
    "version": 3
   },
   "file_extension": ".py",
   "mimetype": "text/x-python",
   "name": "python",
   "nbconvert_exporter": "python",
   "pygments_lexer": "ipython3",
   "version": "3.8.1"
  }
 },
 "nbformat": 4,
 "nbformat_minor": 4
}
