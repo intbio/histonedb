{
 "cells": [
  {
   "cell_type": "code",
   "execution_count": 1,
   "id": "53d3ec55-7daf-4ade-8add-2830b709dc54",
   "metadata": {
    "tags": []
   },
   "outputs": [],
   "source": [
    "import io\n",
    "\n",
    "import pandas as pd\n",
    "from Bio import Entrez, SeqIO\n",
    "from mysql.connector import connection\n",
    "from sshtunnel import SSHTunnelForwarder\n",
    "\n",
    "# Укажите ваш email (обязательно для использования Entrez)\n",
    "Entrez.email = \"your.email@example.com\""
   ]
  },
  {
   "cell_type": "code",
   "execution_count": 2,
   "id": "608c4bfe-b979-4b60-b2b5-b94eeb679cb5",
   "metadata": {
    "tags": []
   },
   "outputs": [],
   "source": [
    "with open(\"db_curated_server_info.txt\", \"r\") as file:\n",
    "    lines = file.readlines()\n",
    "\n",
    "config = {}\n",
    "\n",
    "for line in lines:\n",
    "    line = line.strip()\n",
    "    if line and not line.startswith(\"#\"):\n",
    "        key, value = line.split(\"=\", 1)\n",
    "        config[key] = value.strip()\n",
    "\n",
    "server_name = config.get(\"server_name\")\n",
    "srever_port = int(config.get(\"srever_port\"))\n",
    "ssh_password = config.get(\"ssh_password\")\n",
    "ssh_username = config.get(\"ssh_username\")\n",
    "db_adress = config.get(\"db_adress\")\n",
    "db_port = int(config.get(\"db_port\"))"
   ]
  },
  {
   "cell_type": "code",
   "execution_count": 3,
   "id": "4e19aa1c-49a3-48c4-b67f-34c94cef608d",
   "metadata": {
    "tags": []
   },
   "outputs": [
    {
     "name": "stdout",
     "output_type": "stream",
     "text": [
      "38519\n"
     ]
    }
   ],
   "source": [
    "tunnel = SSHTunnelForwarder(\n",
    "    (server_name, srever_port),\n",
    "    ssh_password=ssh_password,\n",
    "    ssh_username=ssh_username,\n",
    "    remote_bind_address=(db_adress, db_port),\n",
    ")\n",
    "tunnel.start()\n",
    "print(tunnel.local_bind_port)"
   ]
  },
  {
   "cell_type": "code",
   "execution_count": 4,
   "id": "cef2275b-12d0-48f1-ad3c-ce4cdb9aa267",
   "metadata": {
    "tags": []
   },
   "outputs": [],
   "source": [
    "conn = connection.MySQLConnection(\n",
    "    user=\"db_user\",\n",
    "    password=\"db_password\",\n",
    "    host=\"localhost\",\n",
    "    port=tunnel.local_bind_port,\n",
    "    database=\"db_name\",\n",
    ")\n",
    "cursor = conn.cursor()"
   ]
  },
  {
   "cell_type": "code",
   "execution_count": 5,
   "id": "f589ea8d-8b83-4331-a1cf-b64ed7621801",
   "metadata": {
    "tags": []
   },
   "outputs": [
    {
     "data": {
      "text/plain": [
       "[('alternative_name',),\n",
       " ('histone',),\n",
       " ('histone_description',),\n",
       " ('histone_has_publication',),\n",
       " ('publication',),\n",
       " ('sequence',),\n",
       " ('sequence_has_publication',)]"
      ]
     },
     "execution_count": 5,
     "metadata": {},
     "output_type": "execute_result"
    }
   ],
   "source": [
    "query = \"SHOW TABLES;\"\n",
    "cursor.execute(query)\n",
    "cursor.fetchall()"
   ]
  },
  {
   "cell_type": "code",
   "execution_count": 13,
   "id": "b3dd9ef8-b162-4127-9535-ac7743af8c69",
   "metadata": {
    "tags": []
   },
   "outputs": [],
   "source": [
    "add_histone = (\n",
    "    \"INSERT INTO histone \"\n",
    "    \"(id, level, taxonomic_span, taxonomic_span_id, description, parent) \"\n",
    "    \"VALUES (%(id)s, %(level)s, %(taxonomic_span)s, %(taxonomic_span_id)s, %(description)s, %(parent)s)\"\n",
    ")\n",
    "add_histone_description = (\n",
    "    \"INSERT INTO histone_description \"\n",
    "    \"(summary, taxonomy, genes, evolution, expression, knock_out, function, sequence, localization, deposition, structure, interactions, disease, caveats) \"\n",
    "    \"VALUES (%s, %s, %s, %s, %s, %s, %s, %s, %s, %s, %s, %s, %s, %s)\"\n",
    ")\n",
    "# add_publication = (\n",
    "#     \"INSERT INTO publication \"\n",
    "#     \"(id, title, doi, author, year) \"\n",
    "#     \"VALUES (%(id)s, %(title)s, %(doi)s, %(author)s, %(year)s)\"\n",
    "# )\n",
    "# add_sequence = (\n",
    "#     \"INSERT INTO sequence \"\n",
    "#     \"(accession, variant, gi, ncbi_gene_id, hgnc_gene_name, taxonomy_id, organism, phylum, class, taxonomy_group, info, sequence, variant_under_consideration) \"\n",
    "#     \"VALUES (%(accession)s, %(variant)s, %(gi)s, %(ncbi_gene_id)s, %(hgnc_gene_name)s, %(taxonomy_id)s, %(organism)s, %(phylum)s, %(class)s, %(taxonomy_group)s, %(info)s, %(sequence)s, %(variant_under_consideration)s)\"\n",
    "# )\n",
    "# add_sequence_has_publication = (\n",
    "#     \"INSERT INTO sequence_has_publication \"\n",
    "#     \"(sequence_accession, publication_id) \"\n",
    "#     \"VALUES (%s, %s)\"\n",
    "# )\n",
    "# add_alternate_names = (\n",
    "#     \"INSERT INTO alternative_name \"\n",
    "#     \"(name, taxonomy, gene, splice, histone) \"\n",
    "#     \"VALUES (%(name)s, %(taxonomy)s, %(gene)s, %(splice)s, %(histone)s)\"\n",
    "# )\n",
    "# add_histone_has_publication = (\n",
    "#     \"INSERT INTO histone_has_publication \"\n",
    "#     \"(histone_id, publication_id) \"\n",
    "#     \"VALUES (%s, %s)\"\n",
    "# )"
   ]
  },
  {
   "cell_type": "markdown",
   "id": "25cdd74d-6ac5-4c99-bbb9-372ca48439f8",
   "metadata": {},
   "source": [
    "# To Do H3\n",
    "\n",
    "## <span style=\"color:green\">Add description to H3.B_(Giardia)</span>\n",
    "\n",
    "### <span style=\"color:green\">Add summary</span>\n",
    "\n",
    "```H3.B_(Giardia) is a poorly studied replication-independent histone H3 variant identified in the genome of Giardia intestinalis, which, unlike canonical H3, exhibits a distinct subnuclear localization and is hypothesized to mark non-centromeric heterochromatin [dawson_cenh3_2007].```\n",
    "\n",
    "### <span style=\"color:green\">Add sequence</span>\n",
    "\n",
    "```H3.B is characterized by an extended N-terminal tail (21 amino acids longer than canonical H3) and lacks the conserved lysine residue H3K9, which is a known site for post-translational modifications. In addition, the protein sequence of H3.B is rapidly evolving [dawson_cenh3_2007].```\n",
    "\n",
    "### <span style=\"color:green\">Add localization</span>\n",
    "\n",
    "```H3.B localizes as numerous small foci on chromosomes throughout interphase and mitosis, and does not colocalize with centromeric markers (cenH3) or active transcriptional sites marked by H3K4 methylation [dawson_cenh3_2007].```\n",
    "\n",
    "## <span style=\"color:green\">Change name from to H3.P_(Moneuplotes) to H3.P_(Euplotes_crassus)</span>\n",
    "\n",
    "## <span style=\"color:green\">Add description to H3.P_(Euplotes_crassus)</span>\n",
    "\n",
    "### <span style=\"color:green\">Add summary</span>\n",
    "\n",
    "```H3.P_(Euplotes_crassus) is a poorly studied histone H3 variant specifically expressed during sexual reproduction and macronuclear development in the ciliate Euplotes crassus [ghosh_development-specific_2000, jahn_unusual_1997].```\n",
    "\n",
    "### <span style=\"color:green\">Add sequence</span>\n",
    "\n",
    "```The amino acid sequence of H3.P differs from the canonical histone H3 of Euplotes crassus by the presence of two additional short amino acid blocks in the N-terminal region, as well as numerous amino acid substitutions in the C-terminal histone-fold domain [ghosh_development-specific_2000, jahn_unusual_1997].```\n",
    "\n",
    "### <span style=\"color:green\">Add expression</span>\n",
    "\n",
    "```H3.P is expressed exclusively during macronuclear development, starting at 20 hours after the initiation of conjugation, peaking during the polytene chromosome stage (20–45 hours), and subsequently declining during the vesicle stage. It is not detected in vegetative cells, the micronucleus, or the old degenerating macronucleus [ghosh_development-specific_2000, jahn_unusual_1997].```"
   ]
  },
  {
   "cell_type": "markdown",
   "id": "d0ec29fa-37ae-4b34-a291-7f43472a5be1",
   "metadata": {},
   "source": [
    "# To Do cenH3\n",
    "\n",
    "## <span style=\"color:green\">Update description to cenH3</span>\n",
    "\n",
    "### <span style=\"color:green\">Update sequence</span>\n",
    "\n",
    "```The cenH3 variant contains a distinctive CENP-A targeting domain (CATD), which encompasses extended L1-loop and α2‑helix within the histone‑fold domain, that mediates specific chaperone recognition and facilitates kinetochore protein assembly [wong_epigenetic_2020, fachinetti_two-step_2013]. The N- or C-terminal tails of CENP-A are essential for the long-term centromere integrity [fachinetti_two-step_2013]. cenH3s typically have only about 50-60% amino acid identity to canonical H3 in the histone fold domain and no conservation of the N-terminus that is also very different from other H3 variants. cenH3s ususally lack a conserved glutamine in the α1-helix of the histone fold. cenH3s have an extended L1-loop and usually replace Phe84 in canonical H3 with Trp, and Thr 107 with Ala, Cys, or Ser.```\n",
    "\n",
    "### <span style=\"color:green\">Update deposition</span>\n",
    "\n",
    "```Unlike canonical histones, cenH3 deposition is replication-independent and mediated by specialized chaperones (HJURP in humans, Scm3 in budding and fission yeast, and CAL1 in Drosophila). The timing of cenH3 deposition is species-specific, occurring in telophase/G1 in humans, G2 phase in Arabidopsis, anaphase in Drosophila embryos, with budding yeast utilizing dual deposition windows in S-phase and anaphase [wong_epigenetic_2020, shivaraju_cell_2012, lermontova_loading_2006, schuh_incorporation_2007]. Notably, both budding yeast and nematodes (C. elegans) exhibit complete turnover of cenH3 each cell cycle [wong_epigenetic_2020]. The assembly and replenishment of cenH3 nucleosomes involves chromatin remodeling, resulting in the displacement of H3.3 histones and active stabilization by specific proteins (e.g., HJURP, CENP-C, CENP-B in humans) [dunleavy_h33_2011, wong_epigenetic_2020, black_epigenetic_2011]. It is possible that new cenH3 deposition doesn't always occur at the same centromeric position during every cell cycle [dunleavy_h33_2011]. Deposition of cenH3 into centromeric nucleosomes depends not only on a specific chaperone but also on numerous other factors. The study using DT40 (chicken) and HeLa S3 (human) cell lines demonstrated that chromatin-remodeling complexes FACT and CHD1 play important roles in the proper recruitment of cenH3 [okada_cenp-hcontaining_2009]. However, this observation is likely not universal across all organisms. For example, in Drosophila, cenH3 incorporation occurs independently of CHD1, yet still involves direct participation of FACT [podhraski_cenh3cid_2010, chen_establishment_2015, chen_cal1_2014].```\n",
    "\n",
    "## <span style=\"color:green\">Update description to cenH3_(Plants)</span>\n",
    "\n",
    "### <span style=\"color:green\">Add deposition</span>\n",
    "\n",
    "```Deposition of CENH3 in Arabidopsis occurs mainly in G2 phase [lermontova_loading_2006].```\n",
    "\n",
    "### <span style=\"color:green\">Add sequence</span>\n",
    "\n",
    "```In maize, the phosphorylation of serine 50 displays kinetics analogous to human Ser7, a known regulator of centromere function [wong_epigenetic_2020, zhang_phosphoserines_2005]. ```\n",
    "\n",
    "## <span style=\"color:green\">Update description to cenH3_(Animals)</span>\n",
    "\n",
    "### <span style=\"color:green\">Add deposition</span>\n",
    "\n",
    "```In humans and most animals, cenH3 is expressed in G2 phase, and but loading occurs during late mitosis and G1 phase of the cell cycle, mediated by specialized chaperones (HJURP in humans and CAL1 in Drosophila).```\n",
    "\n",
    "## <span style=\"color:green\">Update description to cenH3_(Drosophilidae)</span>\n",
    "\n",
    "### <span style=\"color:green\">Update deposition</span>\n",
    "\n",
    "```In Drosophila melanogaster, the deposition of cenH3 into nucleosomes is mediated by the chaperone CAL1 in a DNA sequence-independent manner. CAL1 facilitates nucleosome formation through direct interaction with cenH3-H4 histones and additionally recruits the FACT complex (comprising Dre4 and SSRP1 subunits) along with RNA polymerase II (RNAPII) [chen_establishment_2015, chen_cal1_2014]. FACT destabilizes H3-containing nucleosomes, enabling RNAPII-mediated transcription of DNA, a prerequisite for the replacement of H3 with CENP-A/H4 [chen_establishment_2015]. In the absence of FACT, transcription is abolished, preventing CENP-A incorporation. Importantly, CAL1 mediates the assembly of octameric nucleosomes with left-handed DNA wrapping, analogous to canonical nucleosomes [chen_cal1_2014]. In Drosophila embryos, cenH3 loading occurs during anaphase [schuh_incorporation_2007].```\n",
    "\n",
    "## <span style=\"color:green\">Update description to cenH3_(Homo_sapiens)</span>\n",
    "\n",
    "### <span style=\"color:green\">Update sequence</span>\n",
    "\n",
    "```Post-translational modifications of specific CENP-A residues regulate centromere function. In humans, CENP-A is subject to serine phosphorylation at positions 7, 16, 18, and 68, glycine methylation at position 1, as well as lysine 124 ubiquitination and acetylation [wong_epigenetic_2020, eot-houllier_aurora_2018, gattat_phosphorylation_2013]. Phosphorylation of Ser7 regulates the localization of kinetochore proteins, including the association with CENP-C, and ensures proper mitotic progression. Phosphorylation of Ser68 prevents premature CENP-A loading. During the cell cycle, the conserved residue K124 locaded in histone fold undergoes cyclic modifications [bui_internal_2017]. In G1/S phase, K124ac compacts the nucleosome, interfering with CENP-C binding (crucial for kinetochore assembly) while simultaneously promoting chromatin decondensation for centromere replication. During S phase, K124me stabilizes nucleosomes. Furthermore, K124 mutations disrupt both mitosis and replication, demonstrating its critical role in centromere epigenetic regulation [bui_internal_2017].```\n",
    "\n",
    "### <span style=\"color:green\">Update interactions</span>\n",
    "\n",
    "```CENP-A nucleosomes stabilize the inner kinetochore known as the CCAN complex (Constitutive Centromere-Associated Network) through direct interaction with CENP-C and CENP-N proteins of this complex [cao_constitutive_2018, pesenti_structure_2022, sridhar_kinetochore_2022, xu_gross_2023]. The CENP-A targeting domain (CATD) along with its N- and C-terminal tails play crucial roles in this process [logsdon_both_2015]. Human CENP-C has been demonstrated to bind with the CENP-A C-terminal hydrophobic tail, the acidic patch of H2A-H2B and histone H4, thereby facilitating its engagement with all four histone subunits present on the nucleosome surface [allu_structure_2019]. The binding of CENP-C to CENP-A is critical for long-term viability in human RPE-1 cells [watanabe_cdk1-mediated_2019]. This interaction is stabilized by the process of CENP-C phosphorylation mediated by CDK1, which strengthens the complex's structure through the occurrence of an intramolecular interaction [watanabe_cdk1-mediated_2019, walstein_assembly_2021, ariyoshi_cryoem_2021]. Recruitment of CENP-C also depends on the N-terminal tail of CENP-A, albeit through an indirect mechanism [logsdon_both_2015]. The direct binding of human CENP-N to the CENP-A nucleosome is mediated by its recognition of the CATD, which encompasses the unique L1 and RG loops [chittori_structural_2018, tian_molecular_2018, ariyoshi_cryoem_2021]. However, cryo-EM studies have revealed that CENP-C and CENP-N bind to a single CENP-A nucleosome in a non-simultaneous manner, thereby demonstrating an asymmetric structure where CENP-C and CENP-N bind to opposite sides of the nucleosome [ariyoshi_cryoem_2021]. Furthermore, in 94% of cases, phosphorylated CENP-C exhibits exclusive binding to the RG-loop of CENP-A, suggesting that this particular interaction is predominant [ariyoshi_cryoem_2021]. In addition, in vitro reconstruction of the human CENP-C protein showed that CENP-C can bind to two centromeric nucleosomes simultaneously [walstein_assembly_2021]. Nevertheless, interactions with CENP-C or CENP-N do not determine the stability of CENP-A nucleosomes in chromatin [cao_constitutive_2018].```"
   ]
  },
  {
   "cell_type": "markdown",
   "id": "b6d41d0e-f8ed-459e-b70e-9b7eac058860",
   "metadata": {
    "tags": []
   },
   "source": [
    "# To Do cenH3\n",
    "\n",
    "## <span style=\"color:green\">Add description to cenH3_(Fungi)</span>\n",
    "\n",
    "### <span style=\"color:green\">Add summary</span>\n",
    "\n",
    "```cenH3_(Fungi) is a centromere-specific histone variant in fungi, often called Cse4 budding yeast and Cnp1 fission yeast, and an important component of active centromere required for chromosome segregation [stoler_mutation_1995].```\n",
    "\n",
    "### <span style=\"color:green\">Add localization</span>\n",
    "\n",
    "```In the budding yeast cenH3 is strictly localized to point centromeres, which are specified by a short (~125 bp) specific DNA sequence containing centromeric DNA elements (CDEs) [hara_critical_2017, steiner_diversity_2015]. In the fission yeast cenH3 localizes to regional centromeres that span several kilobases and contain repetitive DNA sequences [hara_critical_2017, steiner_diversity_2015].```\n",
    "\n",
    "### <span style=\"color:green\">Add function</span>\n",
    "\n",
    "```Like in other eukaryotes, in fungi the active centromeric chromatin, enriched with cenH3, defines the region of kinetochore interaction for spindle formation [hara_critical_2017, stoler_mutation_1995].```\n",
    "\n",
    "### <span style=\"color:green\">Add sequence</span>\n",
    "\n",
    "```Like in other eukaryotes, in fungi the cenH3 variant contains a distinctive CENP-A targeting domain (CATD) that mediates specific chaperone recognition and facilitates kinetochore protein assembly [wong_epigenetic_2020]. Cse4 (cenH3 of the budding yeast) possesses a C-terminal histone-fold domain, which is over 60% identical to that of histone H3, and a unique 135-amino acid N-terminal domain that protrudes from the nucleosome core and interacts with kinetochore proteins essential for its assembly [samel_methylation_2012]. Additionally, arginine 37 methylation plays important role in recruitment of inner and linker kinetochore proteins [wong_epigenetic_2020]. The loss of Arg37me has been shown to impair accurate chromosome segregation [samel_methylation_2012].```\n",
    "\n",
    "### <span style=\"color:green\">Add deposition</span>\n",
    "\n",
    "```In fungi cenH3 loading is mediated by Scm3, the HJURP homologue [wong_epigenetic_2020, zasadzinska_dimerization_2013, shivaraju_scm3_2011]. The deposition occurs in two distinct windows: during S-phase and anaphase in budding yeast, compared to S and G2 phases in fission yeast [shivaraju_cell_2012, takayama_biphasic_2008]. Notably, budding yeast exhibit complete turnover of cenH3 each cell cycle [wong_epigenetic_2020].```\n",
    "\n",
    "### <span style=\"color:green\">Add structure</span>\n",
    "\n",
    "```In yeast, cenH3-containing nucleosomes exhibit an octameric structure [dechassa_structure_2011, shivaraju_scm3_2011].```"
   ]
  },
  {
   "cell_type": "markdown",
   "id": "cdc33201-0323-4695-9644-dc6ef6d6b11c",
   "metadata": {},
   "source": [
    "# Done"
   ]
  },
  {
   "cell_type": "markdown",
   "id": "ed612ea8-94da-4e23-9a5c-4325406a0cb7",
   "metadata": {},
   "source": [
    "## <span style=\"color:black\">Add description to H3.B_(Giardia)</span>\n",
    "\n",
    "### <span style=\"color:black\">Add summary</span>\n",
    "\n",
    "```H3.B_(Giardia) is a poorly studied replication-independent histone H3 variant identified in the genome of Giardia intestinalis, which, unlike canonical H3, exhibits a distinct subnuclear localization and is hypothesized to mark non-centromeric heterochromatin [dawson_cenh3_2007].```\n",
    "\n",
    "### <span style=\"color:black\">Add sequence</span>\n",
    "\n",
    "```H3.B is characterized by an extended N-terminal tail (21 amino acids longer than canonical H3) and lacks the conserved lysine residue H3K9, which is a known site for post-translational modifications. In addition, the protein sequence of H3.B is rapidly evolving [dawson_cenh3_2007].```\n",
    "\n",
    "### <span style=\"color:black\">Add localization</span>\n",
    "\n",
    "```H3.B localizes as numerous small foci on chromosomes throughout interphase and mitosis, and does not colocalize with centromeric markers (cenH3) or active transcriptional sites marked by H3K4 methylation [dawson_cenh3_2007].```"
   ]
  },
  {
   "cell_type": "code",
   "execution_count": 8,
   "id": "97c43836-dae1-42d6-9a65-4f1021b740a0",
   "metadata": {
    "tags": []
   },
   "outputs": [
    {
     "data": {
      "text/html": [
       "<div>\n",
       "<style scoped>\n",
       "    .dataframe tbody tr th:only-of-type {\n",
       "        vertical-align: middle;\n",
       "    }\n",
       "\n",
       "    .dataframe tbody tr th {\n",
       "        vertical-align: top;\n",
       "    }\n",
       "\n",
       "    .dataframe thead th {\n",
       "        text-align: right;\n",
       "    }\n",
       "</style>\n",
       "<table border=\"1\" class=\"dataframe\">\n",
       "  <thead>\n",
       "    <tr style=\"text-align: right;\">\n",
       "      <th></th>\n",
       "      <th>id</th>\n",
       "      <th>level</th>\n",
       "      <th>taxonomic_span</th>\n",
       "      <th>taxonomic_span_id</th>\n",
       "      <th>description</th>\n",
       "      <th>parent</th>\n",
       "      <th>id</th>\n",
       "      <th>summary</th>\n",
       "      <th>taxonomy</th>\n",
       "      <th>genes</th>\n",
       "      <th>...</th>\n",
       "      <th>knock_out</th>\n",
       "      <th>function</th>\n",
       "      <th>sequence</th>\n",
       "      <th>localization</th>\n",
       "      <th>deposition</th>\n",
       "      <th>structure</th>\n",
       "      <th>interactions</th>\n",
       "      <th>disease</th>\n",
       "      <th>caveats</th>\n",
       "      <th>relations</th>\n",
       "    </tr>\n",
       "  </thead>\n",
       "  <tbody>\n",
       "    <tr>\n",
       "      <th>0</th>\n",
       "      <td>H3.B_(Giardia?)</td>\n",
       "      <td>variant_group</td>\n",
       "      <td>Giardia</td>\n",
       "      <td>5740</td>\n",
       "      <td>56</td>\n",
       "      <td>H3</td>\n",
       "      <td>56</td>\n",
       "      <td>null</td>\n",
       "      <td>null</td>\n",
       "      <td>null</td>\n",
       "      <td>...</td>\n",
       "      <td>null</td>\n",
       "      <td>null</td>\n",
       "      <td>null</td>\n",
       "      <td>null</td>\n",
       "      <td>null</td>\n",
       "      <td>null</td>\n",
       "      <td>null</td>\n",
       "      <td>null</td>\n",
       "      <td>null</td>\n",
       "      <td>None</td>\n",
       "    </tr>\n",
       "  </tbody>\n",
       "</table>\n",
       "<p>1 rows × 22 columns</p>\n",
       "</div>"
      ],
      "text/plain": [
       "                id          level taxonomic_span taxonomic_span_id  \\\n",
       "0  H3.B_(Giardia?)  variant_group        Giardia              5740   \n",
       "\n",
       "   description parent  id summary taxonomy genes  ... knock_out function  \\\n",
       "0           56     H3  56    null     null  null  ...      null     null   \n",
       "\n",
       "  sequence localization deposition structure interactions disease caveats  \\\n",
       "0     null         null       null      null         null    null    null   \n",
       "\n",
       "  relations  \n",
       "0      None  \n",
       "\n",
       "[1 rows x 22 columns]"
      ]
     },
     "execution_count": 8,
     "metadata": {},
     "output_type": "execute_result"
    }
   ],
   "source": [
    "query = (\n",
    "    \"SELECT * FROM histone h LEFT JOIN histone_description hd \"\n",
    "    \"ON h.description = hd.id \"\n",
    "    \"WHERE h.id='H3.B_(Giardia?)'\"\n",
    ")\n",
    "cursor.execute(query)\n",
    "df = pd.DataFrame(cursor.fetchall(), columns=[i[0] for i in cursor.description])\n",
    "df"
   ]
  },
  {
   "cell_type": "code",
   "execution_count": 10,
   "id": "350b2a9e-a42b-41a8-9e89-7cdc7b64eb08",
   "metadata": {
    "tags": []
   },
   "outputs": [
    {
     "name": "stdout",
     "output_type": "stream",
     "text": [
      "DELETE FROM histone WHERE id='H3.B_(Giardia?)'\n"
     ]
    }
   ],
   "source": [
    "query = \"DELETE FROM histone WHERE id='H3.B_(Giardia?)'\"\n",
    "print(query)\n",
    "cursor.execute(query)"
   ]
  },
  {
   "cell_type": "code",
   "execution_count": 11,
   "id": "61407d0d-57ec-4759-82ab-0168141792c6",
   "metadata": {
    "tags": []
   },
   "outputs": [
    {
     "data": {
      "text/html": [
       "<div>\n",
       "<style scoped>\n",
       "    .dataframe tbody tr th:only-of-type {\n",
       "        vertical-align: middle;\n",
       "    }\n",
       "\n",
       "    .dataframe tbody tr th {\n",
       "        vertical-align: top;\n",
       "    }\n",
       "\n",
       "    .dataframe thead th {\n",
       "        text-align: right;\n",
       "    }\n",
       "</style>\n",
       "<table border=\"1\" class=\"dataframe\">\n",
       "  <thead>\n",
       "    <tr style=\"text-align: right;\">\n",
       "      <th></th>\n",
       "      <th>id</th>\n",
       "      <th>level</th>\n",
       "      <th>taxonomic_span</th>\n",
       "      <th>taxonomic_span_id</th>\n",
       "      <th>description</th>\n",
       "      <th>parent</th>\n",
       "      <th>id</th>\n",
       "      <th>summary</th>\n",
       "      <th>taxonomy</th>\n",
       "      <th>genes</th>\n",
       "      <th>...</th>\n",
       "      <th>knock_out</th>\n",
       "      <th>function</th>\n",
       "      <th>sequence</th>\n",
       "      <th>localization</th>\n",
       "      <th>deposition</th>\n",
       "      <th>structure</th>\n",
       "      <th>interactions</th>\n",
       "      <th>disease</th>\n",
       "      <th>caveats</th>\n",
       "      <th>relations</th>\n",
       "    </tr>\n",
       "  </thead>\n",
       "  <tbody>\n",
       "  </tbody>\n",
       "</table>\n",
       "<p>0 rows × 22 columns</p>\n",
       "</div>"
      ],
      "text/plain": [
       "Empty DataFrame\n",
       "Columns: [id, level, taxonomic_span, taxonomic_span_id, description, parent, id, summary, taxonomy, genes, evolution, expression, knock_out, function, sequence, localization, deposition, structure, interactions, disease, caveats, relations]\n",
       "Index: []\n",
       "\n",
       "[0 rows x 22 columns]"
      ]
     },
     "execution_count": 11,
     "metadata": {},
     "output_type": "execute_result"
    }
   ],
   "source": [
    "query = (\n",
    "    \"SELECT * FROM histone h LEFT JOIN histone_description hd \"\n",
    "    \"ON h.description = hd.id \"\n",
    "    \"WHERE h.id='H3.B_(Giardia?)'\"\n",
    ")\n",
    "cursor.execute(query)\n",
    "pd.DataFrame(cursor.fetchall(), columns=[i[0] for i in cursor.description])"
   ]
  },
  {
   "cell_type": "code",
   "execution_count": 20,
   "id": "2271a245-a81a-4c3f-9f99-c7e7fb93b4ec",
   "metadata": {
    "tags": []
   },
   "outputs": [
    {
     "name": "stdout",
     "output_type": "stream",
     "text": [
      "254\n"
     ]
    }
   ],
   "source": [
    "data_histone_description = {\n",
    "    \"summary\": \"H3.B_(Giardia) is a poorly studied replication-independent histone H3 variant identified in the genome of Giardia intestinalis, which, unlike canonical H3, exhibits a distinct subnuclear localization and is hypothesized to mark non-centromeric heterochromatin [dawson_cenh3_2007].\",\n",
    "    \"taxonomy\": None,\n",
    "    \"genes\": None,\n",
    "    \"evolution\": None,\n",
    "    \"expression\": None,\n",
    "    \"knock_out\": None,\n",
    "    \"function\": None,\n",
    "    \"sequence\": \"H3.B is characterized by an extended N-terminal tail (21 amino acids longer than canonical H3) and lacks the conserved lysine residue H3K9, which is a known site for post-translational modifications. In addition, the protein sequence of H3.B is rapidly evolving [dawson_cenh3_2007].\",\n",
    "    \"localization\": \"H3.B localizes as numerous small foci on chromosomes throughout interphase and mitosis, and does not colocalize with centromeric markers (cenH3) or active transcriptional sites marked by H3K4 methylation [dawson_cenh3_2007].\",\n",
    "    \"deposition\": None,\n",
    "    \"structure\": None,\n",
    "    \"interactions\": None,\n",
    "    \"disease\": None,\n",
    "    \"caveats\": None,\n",
    "}\n",
    "cursor.execute(add_histone_description, tuple(data_histone_description.values()))\n",
    "histone_description_id = cursor.lastrowid\n",
    "print(histone_description_id)"
   ]
  },
  {
   "cell_type": "code",
   "execution_count": 21,
   "id": "1db12d7d-d0b3-4245-a99f-de8a1e8f9911",
   "metadata": {},
   "outputs": [],
   "source": [
    "data_histone = {\n",
    "    \"id\": \"H3.B_(Giardia)\",\n",
    "    \"level\": \"variant\",\n",
    "    \"taxonomic_span\": \"Giardia\",\n",
    "    \"taxonomic_span_id\": \"5740\",\n",
    "    \"description\": histone_description_id,\n",
    "    \"parent\": \"H3\",\n",
    "}\n",
    "cursor.execute(add_histone, data_histone)"
   ]
  },
  {
   "cell_type": "code",
   "execution_count": 22,
   "id": "f0025108-8ea0-4773-ad64-ff5dddfe3042",
   "metadata": {
    "tags": []
   },
   "outputs": [
    {
     "data": {
      "text/html": [
       "<div>\n",
       "<style scoped>\n",
       "    .dataframe tbody tr th:only-of-type {\n",
       "        vertical-align: middle;\n",
       "    }\n",
       "\n",
       "    .dataframe tbody tr th {\n",
       "        vertical-align: top;\n",
       "    }\n",
       "\n",
       "    .dataframe thead th {\n",
       "        text-align: right;\n",
       "    }\n",
       "</style>\n",
       "<table border=\"1\" class=\"dataframe\">\n",
       "  <thead>\n",
       "    <tr style=\"text-align: right;\">\n",
       "      <th></th>\n",
       "      <th>id</th>\n",
       "      <th>level</th>\n",
       "      <th>taxonomic_span</th>\n",
       "      <th>taxonomic_span_id</th>\n",
       "      <th>description</th>\n",
       "      <th>parent</th>\n",
       "      <th>id</th>\n",
       "      <th>summary</th>\n",
       "      <th>taxonomy</th>\n",
       "      <th>genes</th>\n",
       "      <th>...</th>\n",
       "      <th>knock_out</th>\n",
       "      <th>function</th>\n",
       "      <th>sequence</th>\n",
       "      <th>localization</th>\n",
       "      <th>deposition</th>\n",
       "      <th>structure</th>\n",
       "      <th>interactions</th>\n",
       "      <th>disease</th>\n",
       "      <th>caveats</th>\n",
       "      <th>relations</th>\n",
       "    </tr>\n",
       "  </thead>\n",
       "  <tbody>\n",
       "    <tr>\n",
       "      <th>0</th>\n",
       "      <td>H3.B_(Giardia)</td>\n",
       "      <td>variant</td>\n",
       "      <td>Giardia</td>\n",
       "      <td>5740</td>\n",
       "      <td>254</td>\n",
       "      <td>H3</td>\n",
       "      <td>254</td>\n",
       "      <td>H3.B_(Giardia) is a poorly studied replication...</td>\n",
       "      <td>None</td>\n",
       "      <td>None</td>\n",
       "      <td>...</td>\n",
       "      <td>None</td>\n",
       "      <td>None</td>\n",
       "      <td>H3.B is characterized by an extended N-termina...</td>\n",
       "      <td>H3.B localizes as numerous small foci on chrom...</td>\n",
       "      <td>None</td>\n",
       "      <td>None</td>\n",
       "      <td>None</td>\n",
       "      <td>None</td>\n",
       "      <td>None</td>\n",
       "      <td>None</td>\n",
       "    </tr>\n",
       "  </tbody>\n",
       "</table>\n",
       "<p>1 rows × 22 columns</p>\n",
       "</div>"
      ],
      "text/plain": [
       "               id    level taxonomic_span taxonomic_span_id  description  \\\n",
       "0  H3.B_(Giardia)  variant        Giardia              5740          254   \n",
       "\n",
       "  parent   id                                            summary taxonomy  \\\n",
       "0     H3  254  H3.B_(Giardia) is a poorly studied replication...     None   \n",
       "\n",
       "  genes  ... knock_out function  \\\n",
       "0  None  ...      None     None   \n",
       "\n",
       "                                            sequence  \\\n",
       "0  H3.B is characterized by an extended N-termina...   \n",
       "\n",
       "                                        localization deposition structure  \\\n",
       "0  H3.B localizes as numerous small foci on chrom...       None      None   \n",
       "\n",
       "  interactions disease caveats relations  \n",
       "0         None    None    None      None  \n",
       "\n",
       "[1 rows x 22 columns]"
      ]
     },
     "execution_count": 22,
     "metadata": {},
     "output_type": "execute_result"
    }
   ],
   "source": [
    "query = (\n",
    "    \"SELECT * FROM histone h LEFT JOIN histone_description hd \"\n",
    "    \"ON h.description = hd.id \"\n",
    "    \"WHERE h.id='H3.B_(Giardia)'\"\n",
    ")\n",
    "cursor.execute(query)\n",
    "df = pd.DataFrame(cursor.fetchall(), columns=[i[0] for i in cursor.description])\n",
    "df"
   ]
  },
  {
   "cell_type": "code",
   "execution_count": 23,
   "id": "107f4971-f016-4baa-9c58-6fb071488a06",
   "metadata": {
    "tags": []
   },
   "outputs": [],
   "source": [
    "# Make sure data is committed to the database\n",
    "conn.commit()"
   ]
  },
  {
   "cell_type": "code",
   "execution_count": 28,
   "id": "2bb6b982-c312-4739-8e3f-853db9359c18",
   "metadata": {
    "tags": []
   },
   "outputs": [
    {
     "name": "stdout",
     "output_type": "stream",
     "text": [
      "UPDATE histone SET level='variant_group' WHERE id='H3.B_(Giardia)'\n"
     ]
    }
   ],
   "source": [
    "query = f\"UPDATE histone SET level='variant_group' WHERE id='H3.B_(Giardia)'\"\n",
    "print(query)\n",
    "cursor.execute(query)"
   ]
  },
  {
   "cell_type": "code",
   "execution_count": 29,
   "id": "096577f1-c699-4f7e-8178-f616ff4610ce",
   "metadata": {
    "tags": []
   },
   "outputs": [
    {
     "data": {
      "text/html": [
       "<div>\n",
       "<style scoped>\n",
       "    .dataframe tbody tr th:only-of-type {\n",
       "        vertical-align: middle;\n",
       "    }\n",
       "\n",
       "    .dataframe tbody tr th {\n",
       "        vertical-align: top;\n",
       "    }\n",
       "\n",
       "    .dataframe thead th {\n",
       "        text-align: right;\n",
       "    }\n",
       "</style>\n",
       "<table border=\"1\" class=\"dataframe\">\n",
       "  <thead>\n",
       "    <tr style=\"text-align: right;\">\n",
       "      <th></th>\n",
       "      <th>id</th>\n",
       "      <th>level</th>\n",
       "      <th>taxonomic_span</th>\n",
       "      <th>taxonomic_span_id</th>\n",
       "      <th>description</th>\n",
       "      <th>parent</th>\n",
       "      <th>id</th>\n",
       "      <th>summary</th>\n",
       "      <th>taxonomy</th>\n",
       "      <th>genes</th>\n",
       "      <th>...</th>\n",
       "      <th>knock_out</th>\n",
       "      <th>function</th>\n",
       "      <th>sequence</th>\n",
       "      <th>localization</th>\n",
       "      <th>deposition</th>\n",
       "      <th>structure</th>\n",
       "      <th>interactions</th>\n",
       "      <th>disease</th>\n",
       "      <th>caveats</th>\n",
       "      <th>relations</th>\n",
       "    </tr>\n",
       "  </thead>\n",
       "  <tbody>\n",
       "    <tr>\n",
       "      <th>0</th>\n",
       "      <td>H3.B_(Giardia)</td>\n",
       "      <td>variant_group</td>\n",
       "      <td>Giardia</td>\n",
       "      <td>5740</td>\n",
       "      <td>254</td>\n",
       "      <td>H3</td>\n",
       "      <td>254</td>\n",
       "      <td>H3.B_(Giardia) is a poorly studied replication...</td>\n",
       "      <td>None</td>\n",
       "      <td>None</td>\n",
       "      <td>...</td>\n",
       "      <td>None</td>\n",
       "      <td>None</td>\n",
       "      <td>H3.B is characterized by an extended N-termina...</td>\n",
       "      <td>H3.B localizes as numerous small foci on chrom...</td>\n",
       "      <td>None</td>\n",
       "      <td>None</td>\n",
       "      <td>None</td>\n",
       "      <td>None</td>\n",
       "      <td>None</td>\n",
       "      <td>None</td>\n",
       "    </tr>\n",
       "  </tbody>\n",
       "</table>\n",
       "<p>1 rows × 22 columns</p>\n",
       "</div>"
      ],
      "text/plain": [
       "               id          level taxonomic_span taxonomic_span_id  \\\n",
       "0  H3.B_(Giardia)  variant_group        Giardia              5740   \n",
       "\n",
       "   description parent   id                                            summary  \\\n",
       "0          254     H3  254  H3.B_(Giardia) is a poorly studied replication...   \n",
       "\n",
       "  taxonomy genes  ... knock_out function  \\\n",
       "0     None  None  ...      None     None   \n",
       "\n",
       "                                            sequence  \\\n",
       "0  H3.B is characterized by an extended N-termina...   \n",
       "\n",
       "                                        localization deposition structure  \\\n",
       "0  H3.B localizes as numerous small foci on chrom...       None      None   \n",
       "\n",
       "  interactions disease caveats relations  \n",
       "0         None    None    None      None  \n",
       "\n",
       "[1 rows x 22 columns]"
      ]
     },
     "execution_count": 29,
     "metadata": {},
     "output_type": "execute_result"
    }
   ],
   "source": [
    "query = (\n",
    "    \"SELECT * FROM histone h LEFT JOIN histone_description hd \"\n",
    "    \"ON h.description = hd.id \"\n",
    "    \"WHERE h.id='H3.B_(Giardia)'\"\n",
    ")\n",
    "cursor.execute(query)\n",
    "df = pd.DataFrame(cursor.fetchall(), columns=[i[0] for i in cursor.description])\n",
    "df"
   ]
  },
  {
   "cell_type": "code",
   "execution_count": 30,
   "id": "1bf33553-9880-47ab-8897-be3faa451563",
   "metadata": {
    "tags": []
   },
   "outputs": [],
   "source": [
    "# Make sure data is committed to the database\n",
    "conn.commit()"
   ]
  },
  {
   "cell_type": "markdown",
   "id": "2cfbda29-3d0a-4c64-af8b-d43b7f6f18da",
   "metadata": {},
   "source": [
    "## <span style=\"color:black\">Change name from to H3.P_(Moneuplotes) to H3.P_(Euplotes_crassus)</span>\n",
    "\n",
    "## <span style=\"color:black\">Add description to H3.P_(Euplotes_crassus)</span>\n",
    "\n",
    "### <span style=\"color:black\">Add summary</span>\n",
    "\n",
    "```H3.P_(Euplotes_crassus) is a poorly studied histone H3 variant specifically expressed during sexual reproduction and macronuclear development in the ciliate Euplotes crassus [ghosh_development-specific_2000, jahn_unusual_1997].```\n",
    "\n",
    "### <span style=\"color:black\">Add sequence</span>\n",
    "\n",
    "```The amino acid sequence of H3.P differs from the canonical histone H3 of Euplotes crassus by the presence of two additional short amino acid blocks in the N-terminal region, as well as numerous amino acid substitutions in the C-terminal histone-fold domain [ghosh_development-specific_2000, jahn_unusual_1997].```\n",
    "\n",
    "### <span style=\"color:black\">Add expression</span>\n",
    "\n",
    "```H3.P is expressed exclusively during macronuclear development, starting at 20 hours after the initiation of conjugation, peaking during the polytene chromosome stage (20–45 hours), and subsequently declining during the vesicle stage. It is not detected in vegetative cells, the micronucleus, or the old degenerating macronucleus [ghosh_development-specific_2000, jahn_unusual_1997].```"
   ]
  },
  {
   "cell_type": "code",
   "execution_count": 31,
   "id": "f2df9e33-b7bc-43e7-bd42-3caf894313e3",
   "metadata": {
    "tags": []
   },
   "outputs": [
    {
     "data": {
      "text/html": [
       "<div>\n",
       "<style scoped>\n",
       "    .dataframe tbody tr th:only-of-type {\n",
       "        vertical-align: middle;\n",
       "    }\n",
       "\n",
       "    .dataframe tbody tr th {\n",
       "        vertical-align: top;\n",
       "    }\n",
       "\n",
       "    .dataframe thead th {\n",
       "        text-align: right;\n",
       "    }\n",
       "</style>\n",
       "<table border=\"1\" class=\"dataframe\">\n",
       "  <thead>\n",
       "    <tr style=\"text-align: right;\">\n",
       "      <th></th>\n",
       "      <th>id</th>\n",
       "      <th>level</th>\n",
       "      <th>taxonomic_span</th>\n",
       "      <th>taxonomic_span_id</th>\n",
       "      <th>description</th>\n",
       "      <th>parent</th>\n",
       "      <th>id</th>\n",
       "      <th>summary</th>\n",
       "      <th>taxonomy</th>\n",
       "      <th>genes</th>\n",
       "      <th>...</th>\n",
       "      <th>knock_out</th>\n",
       "      <th>function</th>\n",
       "      <th>sequence</th>\n",
       "      <th>localization</th>\n",
       "      <th>deposition</th>\n",
       "      <th>structure</th>\n",
       "      <th>interactions</th>\n",
       "      <th>disease</th>\n",
       "      <th>caveats</th>\n",
       "      <th>relations</th>\n",
       "    </tr>\n",
       "  </thead>\n",
       "  <tbody>\n",
       "    <tr>\n",
       "      <th>0</th>\n",
       "      <td>H3.P_(Moneuplotes?)</td>\n",
       "      <td>variant_group</td>\n",
       "      <td>Moneuplotes</td>\n",
       "      <td>152459</td>\n",
       "      <td>57</td>\n",
       "      <td>H3</td>\n",
       "      <td>57</td>\n",
       "      <td>null</td>\n",
       "      <td>null</td>\n",
       "      <td>null</td>\n",
       "      <td>...</td>\n",
       "      <td>null</td>\n",
       "      <td>null</td>\n",
       "      <td>null</td>\n",
       "      <td>null</td>\n",
       "      <td>null</td>\n",
       "      <td>null</td>\n",
       "      <td>null</td>\n",
       "      <td>null</td>\n",
       "      <td>null</td>\n",
       "      <td>None</td>\n",
       "    </tr>\n",
       "  </tbody>\n",
       "</table>\n",
       "<p>1 rows × 22 columns</p>\n",
       "</div>"
      ],
      "text/plain": [
       "                    id          level taxonomic_span taxonomic_span_id  \\\n",
       "0  H3.P_(Moneuplotes?)  variant_group    Moneuplotes            152459   \n",
       "\n",
       "   description parent  id summary taxonomy genes  ... knock_out function  \\\n",
       "0           57     H3  57    null     null  null  ...      null     null   \n",
       "\n",
       "  sequence localization deposition structure interactions disease caveats  \\\n",
       "0     null         null       null      null         null    null    null   \n",
       "\n",
       "  relations  \n",
       "0      None  \n",
       "\n",
       "[1 rows x 22 columns]"
      ]
     },
     "execution_count": 31,
     "metadata": {},
     "output_type": "execute_result"
    }
   ],
   "source": [
    "query = (\n",
    "    \"SELECT * FROM histone h LEFT JOIN histone_description hd \"\n",
    "    \"ON h.description = hd.id \"\n",
    "    \"WHERE h.id='H3.P_(Moneuplotes?)'\"\n",
    ")\n",
    "cursor.execute(query)\n",
    "df = pd.DataFrame(cursor.fetchall(), columns=[i[0] for i in cursor.description])\n",
    "df"
   ]
  },
  {
   "cell_type": "code",
   "execution_count": 32,
   "id": "08f8edbb-641f-4688-ba67-5202bc847072",
   "metadata": {
    "tags": []
   },
   "outputs": [
    {
     "data": {
      "text/plain": [
       "[{'id': 57,\n",
       "  'level': 'variant_group',\n",
       "  'taxonomic_span': 'Moneuplotes',\n",
       "  'taxonomic_span_id': '152459',\n",
       "  'description': 57,\n",
       "  'parent': 'H3',\n",
       "  'summary': 'null',\n",
       "  'taxonomy': 'null',\n",
       "  'genes': 'null',\n",
       "  'evolution': 'null',\n",
       "  'expression': 'null',\n",
       "  'knock_out': 'null',\n",
       "  'function': 'null',\n",
       "  'sequence': 'null',\n",
       "  'localization': 'null',\n",
       "  'deposition': 'null',\n",
       "  'structure': 'null',\n",
       "  'interactions': 'null',\n",
       "  'disease': 'null',\n",
       "  'caveats': 'null',\n",
       "  'relations': None}]"
      ]
     },
     "execution_count": 32,
     "metadata": {},
     "output_type": "execute_result"
    }
   ],
   "source": [
    "df.to_dict(orient=\"records\")"
   ]
  },
  {
   "cell_type": "code",
   "execution_count": 33,
   "id": "46b5501d-1b54-4734-b233-5b7cc580f927",
   "metadata": {
    "tags": []
   },
   "outputs": [
    {
     "name": "stdout",
     "output_type": "stream",
     "text": [
      "DELETE FROM histone WHERE id='H3.P_(Moneuplotes?)'\n"
     ]
    }
   ],
   "source": [
    "query = \"DELETE FROM histone WHERE id='H3.P_(Moneuplotes?)'\"\n",
    "print(query)\n",
    "cursor.execute(query)"
   ]
  },
  {
   "cell_type": "code",
   "execution_count": 34,
   "id": "e1794bcf-1e2d-437f-94df-3fde3f6a9687",
   "metadata": {
    "tags": []
   },
   "outputs": [
    {
     "data": {
      "text/html": [
       "<div>\n",
       "<style scoped>\n",
       "    .dataframe tbody tr th:only-of-type {\n",
       "        vertical-align: middle;\n",
       "    }\n",
       "\n",
       "    .dataframe tbody tr th {\n",
       "        vertical-align: top;\n",
       "    }\n",
       "\n",
       "    .dataframe thead th {\n",
       "        text-align: right;\n",
       "    }\n",
       "</style>\n",
       "<table border=\"1\" class=\"dataframe\">\n",
       "  <thead>\n",
       "    <tr style=\"text-align: right;\">\n",
       "      <th></th>\n",
       "      <th>id</th>\n",
       "      <th>level</th>\n",
       "      <th>taxonomic_span</th>\n",
       "      <th>taxonomic_span_id</th>\n",
       "      <th>description</th>\n",
       "      <th>parent</th>\n",
       "      <th>id</th>\n",
       "      <th>summary</th>\n",
       "      <th>taxonomy</th>\n",
       "      <th>genes</th>\n",
       "      <th>...</th>\n",
       "      <th>knock_out</th>\n",
       "      <th>function</th>\n",
       "      <th>sequence</th>\n",
       "      <th>localization</th>\n",
       "      <th>deposition</th>\n",
       "      <th>structure</th>\n",
       "      <th>interactions</th>\n",
       "      <th>disease</th>\n",
       "      <th>caveats</th>\n",
       "      <th>relations</th>\n",
       "    </tr>\n",
       "  </thead>\n",
       "  <tbody>\n",
       "  </tbody>\n",
       "</table>\n",
       "<p>0 rows × 22 columns</p>\n",
       "</div>"
      ],
      "text/plain": [
       "Empty DataFrame\n",
       "Columns: [id, level, taxonomic_span, taxonomic_span_id, description, parent, id, summary, taxonomy, genes, evolution, expression, knock_out, function, sequence, localization, deposition, structure, interactions, disease, caveats, relations]\n",
       "Index: []\n",
       "\n",
       "[0 rows x 22 columns]"
      ]
     },
     "execution_count": 34,
     "metadata": {},
     "output_type": "execute_result"
    }
   ],
   "source": [
    "query = (\n",
    "    \"SELECT * FROM histone h LEFT JOIN histone_description hd \"\n",
    "    \"ON h.description = hd.id \"\n",
    "    \"WHERE h.id='H3.P_(Moneuplotes?)'\"\n",
    ")\n",
    "cursor.execute(query)\n",
    "pd.DataFrame(cursor.fetchall(), columns=[i[0] for i in cursor.description])"
   ]
  },
  {
   "cell_type": "code",
   "execution_count": 35,
   "id": "34221d43-e3f6-489e-a89a-2cc417621304",
   "metadata": {
    "tags": []
   },
   "outputs": [
    {
     "name": "stdout",
     "output_type": "stream",
     "text": [
      "255\n"
     ]
    }
   ],
   "source": [
    "data_histone_description = {\n",
    "    \"summary\": \"H3.P_(Euplotes_crassus) is a poorly studied histone H3 variant specifically expressed during sexual reproduction and macronuclear development in the ciliate Euplotes crassus [ghosh_development-specific_2000, jahn_unusual_1997].\",\n",
    "    \"taxonomy\": None,\n",
    "    \"genes\": None,\n",
    "    \"evolution\": None,\n",
    "    \"expression\": \"H3.P is expressed exclusively during macronuclear development, starting at 20 hours after the initiation of conjugation, peaking during the polytene chromosome stage (20–45 hours), and subsequently declining during the vesicle stage. It is not detected in vegetative cells, the micronucleus, or the old degenerating macronucleus [ghosh_development-specific_2000, jahn_unusual_1997].\",\n",
    "    \"knock_out\": None,\n",
    "    \"function\": None,\n",
    "    \"sequence\": \"The amino acid sequence of H3.P differs from the canonical histone H3 of Euplotes crassus by the presence of two additional short amino acid blocks in the N-terminal region, as well as numerous amino acid substitutions in the C-terminal histone-fold domain [ghosh_development-specific_2000, jahn_unusual_1997].\",\n",
    "    \"localization\": None,\n",
    "    \"deposition\": None,\n",
    "    \"structure\": None,\n",
    "    \"interactions\": None,\n",
    "    \"disease\": None,\n",
    "    \"caveats\": None,\n",
    "}\n",
    "cursor.execute(add_histone_description, tuple(data_histone_description.values()))\n",
    "histone_description_id = cursor.lastrowid\n",
    "print(histone_description_id)"
   ]
  },
  {
   "cell_type": "code",
   "execution_count": 36,
   "id": "ca9e8fab-0cb4-484a-b540-f8ed5c166887",
   "metadata": {},
   "outputs": [],
   "source": [
    "data_histone = {\n",
    "    \"id\": \"H3.P_(Euplotes_crassus)\",\n",
    "    \"level\": \"variant_group\",\n",
    "    \"taxonomic_span\": \"Euplotes crassus\",\n",
    "    \"taxonomic_span_id\": \"5936\",\n",
    "    \"description\": histone_description_id,\n",
    "    \"parent\": \"H3\",\n",
    "}\n",
    "cursor.execute(add_histone, data_histone)"
   ]
  },
  {
   "cell_type": "code",
   "execution_count": 37,
   "id": "6eab49e2-0dee-47ab-b3a7-46ee39a3d901",
   "metadata": {
    "tags": []
   },
   "outputs": [
    {
     "data": {
      "text/html": [
       "<div>\n",
       "<style scoped>\n",
       "    .dataframe tbody tr th:only-of-type {\n",
       "        vertical-align: middle;\n",
       "    }\n",
       "\n",
       "    .dataframe tbody tr th {\n",
       "        vertical-align: top;\n",
       "    }\n",
       "\n",
       "    .dataframe thead th {\n",
       "        text-align: right;\n",
       "    }\n",
       "</style>\n",
       "<table border=\"1\" class=\"dataframe\">\n",
       "  <thead>\n",
       "    <tr style=\"text-align: right;\">\n",
       "      <th></th>\n",
       "      <th>id</th>\n",
       "      <th>level</th>\n",
       "      <th>taxonomic_span</th>\n",
       "      <th>taxonomic_span_id</th>\n",
       "      <th>description</th>\n",
       "      <th>parent</th>\n",
       "      <th>id</th>\n",
       "      <th>summary</th>\n",
       "      <th>taxonomy</th>\n",
       "      <th>genes</th>\n",
       "      <th>...</th>\n",
       "      <th>knock_out</th>\n",
       "      <th>function</th>\n",
       "      <th>sequence</th>\n",
       "      <th>localization</th>\n",
       "      <th>deposition</th>\n",
       "      <th>structure</th>\n",
       "      <th>interactions</th>\n",
       "      <th>disease</th>\n",
       "      <th>caveats</th>\n",
       "      <th>relations</th>\n",
       "    </tr>\n",
       "  </thead>\n",
       "  <tbody>\n",
       "    <tr>\n",
       "      <th>0</th>\n",
       "      <td>H3.P_(Euplotes_crassus)</td>\n",
       "      <td>variant_group</td>\n",
       "      <td>Euplotes crassus</td>\n",
       "      <td>5936</td>\n",
       "      <td>255</td>\n",
       "      <td>H3</td>\n",
       "      <td>255</td>\n",
       "      <td>H3.P_(Euplotes_crassus) is a poorly studied hi...</td>\n",
       "      <td>None</td>\n",
       "      <td>None</td>\n",
       "      <td>...</td>\n",
       "      <td>None</td>\n",
       "      <td>None</td>\n",
       "      <td>The amino acid sequence of H3.P differs from t...</td>\n",
       "      <td>None</td>\n",
       "      <td>None</td>\n",
       "      <td>None</td>\n",
       "      <td>None</td>\n",
       "      <td>None</td>\n",
       "      <td>None</td>\n",
       "      <td>None</td>\n",
       "    </tr>\n",
       "  </tbody>\n",
       "</table>\n",
       "<p>1 rows × 22 columns</p>\n",
       "</div>"
      ],
      "text/plain": [
       "                        id          level    taxonomic_span taxonomic_span_id  \\\n",
       "0  H3.P_(Euplotes_crassus)  variant_group  Euplotes crassus              5936   \n",
       "\n",
       "   description parent   id                                            summary  \\\n",
       "0          255     H3  255  H3.P_(Euplotes_crassus) is a poorly studied hi...   \n",
       "\n",
       "  taxonomy genes  ... knock_out function  \\\n",
       "0     None  None  ...      None     None   \n",
       "\n",
       "                                            sequence localization deposition  \\\n",
       "0  The amino acid sequence of H3.P differs from t...         None       None   \n",
       "\n",
       "  structure interactions disease caveats relations  \n",
       "0      None         None    None    None      None  \n",
       "\n",
       "[1 rows x 22 columns]"
      ]
     },
     "execution_count": 37,
     "metadata": {},
     "output_type": "execute_result"
    }
   ],
   "source": [
    "query = (\n",
    "    \"SELECT * FROM histone h LEFT JOIN histone_description hd \"\n",
    "    \"ON h.description = hd.id \"\n",
    "    \"WHERE h.id='H3.P_(Euplotes_crassus)'\"\n",
    ")\n",
    "cursor.execute(query)\n",
    "df = pd.DataFrame(cursor.fetchall(), columns=[i[0] for i in cursor.description])\n",
    "df"
   ]
  },
  {
   "cell_type": "code",
   "execution_count": 38,
   "id": "374a1b54-b5d6-46e9-9d31-923531283e52",
   "metadata": {
    "tags": []
   },
   "outputs": [
    {
     "data": {
      "text/plain": [
       "[{'id': 255,\n",
       "  'level': 'variant_group',\n",
       "  'taxonomic_span': 'Euplotes crassus',\n",
       "  'taxonomic_span_id': '5936',\n",
       "  'description': 255,\n",
       "  'parent': 'H3',\n",
       "  'summary': 'H3.P_(Euplotes_crassus) is a poorly studied histone H3 variant specifically expressed during sexual reproduction and macronuclear development in the ciliate Euplotes crassus [ghosh_development-specific_2000, jahn_unusual_1997].',\n",
       "  'taxonomy': None,\n",
       "  'genes': None,\n",
       "  'evolution': None,\n",
       "  'expression': 'H3.P is expressed exclusively during macronuclear development, starting at 20 hours after the initiation of conjugation, peaking during the polytene chromosome stage (20–45 hours), and subsequently declining during the vesicle stage. It is not detected in vegetative cells, the micronucleus, or the old degenerating macronucleus [ghosh_development-specific_2000, jahn_unusual_1997].',\n",
       "  'knock_out': None,\n",
       "  'function': None,\n",
       "  'sequence': 'The amino acid sequence of H3.P differs from the canonical histone H3 of Euplotes crassus by the presence of two additional short amino acid blocks in the N-terminal region, as well as numerous amino acid substitutions in the C-terminal histone-fold domain [ghosh_development-specific_2000, jahn_unusual_1997].',\n",
       "  'localization': None,\n",
       "  'deposition': None,\n",
       "  'structure': None,\n",
       "  'interactions': None,\n",
       "  'disease': None,\n",
       "  'caveats': None,\n",
       "  'relations': None}]"
      ]
     },
     "execution_count": 38,
     "metadata": {},
     "output_type": "execute_result"
    }
   ],
   "source": [
    "df.to_dict(orient=\"records\")"
   ]
  },
  {
   "cell_type": "code",
   "execution_count": 39,
   "id": "1a7b33b4-426d-4b78-922b-b7163098bac9",
   "metadata": {
    "tags": []
   },
   "outputs": [],
   "source": [
    "# Make sure data is committed to the database\n",
    "conn.commit()"
   ]
  },
  {
   "cell_type": "markdown",
   "id": "ffd74f60-0ddf-4d65-80d0-4f64b2661284",
   "metadata": {},
   "source": [
    "# Done cenH3\n",
    "\n",
    "## <span style=\"color:black\">Update description to cenH3</span>\n",
    "\n",
    "### <span style=\"color:black\">Update sequence</span>\n",
    "\n",
    "```The cenH3 variant contains a distinctive CENP-A targeting domain (CATD), which encompasses extended L1-loop and α2‑helix within the histone‑fold domain, that mediates specific chaperone recognition and facilitates kinetochore protein assembly [wong_epigenetic_2020, fachinetti_two-step_2013]. The N- or C-terminal tails of CENP-A are essential for the long-term centromere integrity [fachinetti_two-step_2013]. cenH3s typically have only about 50-60% amino acid identity to canonical H3 in the histone fold domain and no conservation of the N-terminus that is also very different from other H3 variants. cenH3s ususally lack a conserved glutamine in the α1-helix of the histone fold. cenH3s have an extended L1-loop and usually replace Phe84 in canonical H3 with Trp, and Thr 107 with Ala, Cys, or Ser.```\n",
    "\n",
    "### <span style=\"color:black\">Update deposition</span>\n",
    "\n",
    "```Unlike canonical histones, cenH3 deposition is replication-independent and mediated by specialized chaperones (HJURP in humans, Scm3 in budding and fission yeast, and CAL1 in Drosophila). The timing of cenH3 deposition is species-specific, occurring in telophase/G1 in humans, G2 phase in Arabidopsis, anaphase in Drosophila embryos, with budding yeast utilizing dual deposition windows in S-phase and anaphase [wong_epigenetic_2020, shivaraju_cell_2012, lermontova_loading_2006, schuh_incorporation_2007]. Notably, both budding yeast and nematodes (C. elegans) exhibit complete turnover of cenH3 each cell cycle [wong_epigenetic_2020]. The assembly and replenishment of cenH3 nucleosomes involves chromatin remodeling, resulting in the displacement of H3.3 histones and active stabilization by specific proteins (e.g., HJURP, CENP-C, CENP-B in humans) [dunleavy_h33_2011, wong_epigenetic_2020, black_epigenetic_2011]. It is possible that new cenH3 deposition doesn't always occur at the same centromeric position during every cell cycle [dunleavy_h33_2011]. Deposition of cenH3 into centromeric nucleosomes depends not only on a specific chaperone but also on numerous other factors. The study using DT40 (chicken) and HeLa S3 (human) cell lines demonstrated that chromatin-remodeling complexes FACT and CHD1 play important roles in the proper recruitment of cenH3 [okada_cenp-hcontaining_2009]. However, this observation is likely not universal across all organisms. For example, in Drosophila, cenH3 incorporation occurs independently of CHD1, yet still involves direct participation of FACT [podhraski_cenh3cid_2010, chen_establishment_2015, chen_cal1_2014].```"
   ]
  },
  {
   "cell_type": "code",
   "execution_count": 40,
   "id": "fdd2b11c-9bd8-4830-afe8-0de139c8cc33",
   "metadata": {
    "tags": []
   },
   "outputs": [
    {
     "data": {
      "text/html": [
       "<div>\n",
       "<style scoped>\n",
       "    .dataframe tbody tr th:only-of-type {\n",
       "        vertical-align: middle;\n",
       "    }\n",
       "\n",
       "    .dataframe tbody tr th {\n",
       "        vertical-align: top;\n",
       "    }\n",
       "\n",
       "    .dataframe thead th {\n",
       "        text-align: right;\n",
       "    }\n",
       "</style>\n",
       "<table border=\"1\" class=\"dataframe\">\n",
       "  <thead>\n",
       "    <tr style=\"text-align: right;\">\n",
       "      <th></th>\n",
       "      <th>id</th>\n",
       "      <th>level</th>\n",
       "      <th>taxonomic_span</th>\n",
       "      <th>taxonomic_span_id</th>\n",
       "      <th>description</th>\n",
       "      <th>parent</th>\n",
       "      <th>id</th>\n",
       "      <th>summary</th>\n",
       "      <th>taxonomy</th>\n",
       "      <th>genes</th>\n",
       "      <th>...</th>\n",
       "      <th>knock_out</th>\n",
       "      <th>function</th>\n",
       "      <th>sequence</th>\n",
       "      <th>localization</th>\n",
       "      <th>deposition</th>\n",
       "      <th>structure</th>\n",
       "      <th>interactions</th>\n",
       "      <th>disease</th>\n",
       "      <th>caveats</th>\n",
       "      <th>relations</th>\n",
       "    </tr>\n",
       "  </thead>\n",
       "  <tbody>\n",
       "    <tr>\n",
       "      <th>0</th>\n",
       "      <td>cenH3</td>\n",
       "      <td>variant_group</td>\n",
       "      <td>Eukaryotes</td>\n",
       "      <td>2759</td>\n",
       "      <td>96</td>\n",
       "      <td>H3</td>\n",
       "      <td>96</td>\n",
       "      <td>cenH3 is a centromere-specific histone variant...</td>\n",
       "      <td>cenH3 present in most eukaryotes. However, it ...</td>\n",
       "      <td>null</td>\n",
       "      <td>...</td>\n",
       "      <td>null</td>\n",
       "      <td>Despite the high diversity of cenH3 proteins, ...</td>\n",
       "      <td>cenH3 has an extended L1-loop and its N-termin...</td>\n",
       "      <td>null</td>\n",
       "      <td>Unlike canonical histones, cenH3 deposition is...</td>\n",
       "      <td>null</td>\n",
       "      <td>null</td>\n",
       "      <td>CenH3 plays pro-viral and restriction role in ...</td>\n",
       "      <td>null</td>\n",
       "      <td>None</td>\n",
       "    </tr>\n",
       "  </tbody>\n",
       "</table>\n",
       "<p>1 rows × 22 columns</p>\n",
       "</div>"
      ],
      "text/plain": [
       "      id          level taxonomic_span taxonomic_span_id  description parent  \\\n",
       "0  cenH3  variant_group     Eukaryotes              2759           96     H3   \n",
       "\n",
       "   id                                            summary  \\\n",
       "0  96  cenH3 is a centromere-specific histone variant...   \n",
       "\n",
       "                                            taxonomy genes  ... knock_out  \\\n",
       "0  cenH3 present in most eukaryotes. However, it ...  null  ...      null   \n",
       "\n",
       "                                            function  \\\n",
       "0  Despite the high diversity of cenH3 proteins, ...   \n",
       "\n",
       "                                            sequence localization  \\\n",
       "0  cenH3 has an extended L1-loop and its N-termin...         null   \n",
       "\n",
       "                                          deposition structure interactions  \\\n",
       "0  Unlike canonical histones, cenH3 deposition is...      null         null   \n",
       "\n",
       "                                             disease caveats relations  \n",
       "0  CenH3 plays pro-viral and restriction role in ...    null      None  \n",
       "\n",
       "[1 rows x 22 columns]"
      ]
     },
     "execution_count": 40,
     "metadata": {},
     "output_type": "execute_result"
    }
   ],
   "source": [
    "query = (\n",
    "    \"SELECT * FROM histone h LEFT JOIN histone_description hd \"\n",
    "    \"ON h.description = hd.id \"\n",
    "    \"WHERE h.id='cenH3'\"\n",
    ")\n",
    "cursor.execute(query)\n",
    "df = pd.DataFrame(cursor.fetchall(), columns=[i[0] for i in cursor.description])\n",
    "df"
   ]
  },
  {
   "cell_type": "code",
   "execution_count": 41,
   "id": "78758f90-0d3b-445b-be01-2470f9816fa2",
   "metadata": {
    "tags": []
   },
   "outputs": [
    {
     "data": {
      "text/plain": [
       "[{'id': 96,\n",
       "  'level': 'variant_group',\n",
       "  'taxonomic_span': 'Eukaryotes',\n",
       "  'taxonomic_span_id': '2759',\n",
       "  'description': 96,\n",
       "  'parent': 'H3',\n",
       "  'summary': 'cenH3 is a centromere-specific histone variant, which replaces canonical H3 in centromeric nucleosomes. It is required for kinetochore formation, mitotic progression and chromosome segregation.',\n",
       "  'taxonomy': 'cenH3 present in most eukaryotes. However, it has been lost in trypanosomes, the fungus Mucor, in four clades of holocentric insects and kinetoplastids [talbert_histone_2021, senaratne_formation_2021, sridhar_kinetochore_2022].',\n",
       "  'genes': 'null',\n",
       "  'evolution': 'The co-occurrence of CenH3 loss and holocentricity in insects suggests that the evolutionary development of holocentromeres in this group may have been facilitated by the loss of a CenH3-defined centromere [senaratne_formation_2021]. It has been demonstrated that CenH3 has undergone adaptive evolution at a significantly higher frequency in clades with asymmetric meiosis compared to those with symmetric meiosis [zedek_cenh3_2016]. This finding is in accordance with the predictions of the centromere drive model. Furthermore, the occurrence of more frequent adaptive changes in CenH3 is necessary to offset the negative effects of centromere drive [zedek_cenh3_2016].',\n",
       "  'expression': 'null',\n",
       "  'knock_out': 'null',\n",
       "  'function': 'Despite the high diversity of cenH3 proteins, they represent a key factor involved in centromere identity and recruiting constitutive centromere-associated network (CCAN), ensuring accurate chromosome segregation, across a wide range of organisms. For example, the deep evolutionary conservation of cenH3 histone function in plants demonstarted by the ability of Zea mays cenH3 to functionally replace its counterpart in Arabidopsis thaliana [maheshwari_naturally_2015]. However, certain functional differences of cenH3 in chromosome segregation are observed across different species [wong_epigenetic_2020, steiner_diversity_2015]. Distinction is mainly related to cenH3 distribution on the chromosome, timing of cenH3 replenishment, heterochromatin dependence and chaperone specificity. In most mammals (including humans), cenH3 is incorporated into nucleosomes positioned within satellite repeat regions. In contrast, yeast species exhibit both regional (fission yeast) and point (budding yeast) centromeres, the latter consisting of a single cenH3 nucleosome complex assembled on specific DNA sequences. Nematode holocentromeres are characterized by the distribution of cenH3 along the entire chromosome length. Key factors of centromere identity in speicies with regional centromere (e.g., vertebrates) are the epigenetic context and transcription of centromeric DNA, whereas centromeres in budding yeast (S. cerevisiae) are determined by specific DNA sequences [wong_epigenetic_2020, hara_critical_2017, hori_histone_2014]. Moreover, studies in human and chicken cells have demonstrated the existence of natural and artificially created functional neocentromeres lacking alpha-satellite DNA [hara_critical_2017]. At the same time, despite the possibility of epigenetic drift, cenH3 positioning in maize centromeres is stable over generations and primarily governed by genetic changes [gent_stable_2015].',\n",
       "  'sequence': 'cenH3 has an extended L1-loop and its N-terminal tail is very different from other H3 variants. cenH3s have an extended L1-loop and usually replace Phe84 in canonical H3 with Trp, and Thr 107 with Ala, Cys, or Ser. cenH3s ususally lack a conserved glutamine in the alpha1 helix of the histone fold. cenH3s typically have only about 50-60% amino acid identity to canonical H3 in the histone fold domain and no conservation of the N-terminus.',\n",
       "  'localization': 'null',\n",
       "  'deposition': \"Unlike canonical histones, cenH3 deposition is replication-independent. In most speices, cenH3 synthesis and loading occurs during late mitosis and G1 phase of the cell cycle, mediated by specialized chaperones (HJURP in humans, Scm3 in budding and fission yeast, and CAL1 in Drosophila). However, the timing of deposition differs in some organisms. For instance, in budding yeast, cenH3 replenishment occurs during S-phase [wong_epigenetic_2020, pearson_stable_2004]. Notably, both budding yeast and nematodes (C. elegans) exhibit complete turnover of cenH3 each cell cycle [wong_epigenetic_2020]. The assembly and replenishment of cenH3 nucleosomes involves chromatin remodeling, resulting in the displacement of H3.3 histones and active stabilization by specific proteins (e.g., HJURP, CENP-C, CENP-B in humans) [dunleavy_h33_2011, wong_epigenetic_2020, black_epigenetic_2011]. It is possible that new cenH3 deposition doesn't always occur at the same centromeric position during every cell cycle [dunleavy_h33_2011]. Deposition of cenH3 into centromeric nucleosomes depends not only on a specific chaperone but also on numerous other factors. The study using DT40 (chicken) and HeLa S3 (human) cell lines demonstrated that chromatin-remodeling complexes FACT and CHD1 play important roles in the proper recruitment of cenH3 [okada_cenp-hcontaining_2009]. However, this observation is likely not universal across all organisms. For example, in Drosophila, cenH3 incorporation occurs independently of CHD1, yet still involves direct participation of FACT [podhraski_cenh3cid_2010, chen_establishment_2015, chen_cal1_2014].\",\n",
       "  'structure': 'null',\n",
       "  'interactions': 'null',\n",
       "  'disease': 'CenH3 plays pro-viral and restriction role in tombusvirus replication in plants and in the yeast model host [gonzalez_centromeric_2022].',\n",
       "  'caveats': 'null',\n",
       "  'relations': None}]"
      ]
     },
     "execution_count": 41,
     "metadata": {},
     "output_type": "execute_result"
    }
   ],
   "source": [
    "df.to_dict(orient=\"records\")"
   ]
  },
  {
   "cell_type": "code",
   "execution_count": 44,
   "id": "9091ace4-c277-47fc-a3e8-09af40b97306",
   "metadata": {
    "tags": []
   },
   "outputs": [
    {
     "name": "stdout",
     "output_type": "stream",
     "text": [
      "UPDATE histone_description SET sequence=\"The cenH3 variant contains a distinctive CENP-A targeting domain (CATD), which encompasses extended L1-loop and α2‑helix within the histone‑fold domain, that mediates specific chaperone recognition and facilitates kinetochore protein assembly [wong_epigenetic_2020, fachinetti_two-step_2013]. The N- or C-terminal tails of CENP-A are essential for the long-term centromere integrity [fachinetti_two-step_2013]. cenH3s typically have only about 50-60% amino acid identity to canonical H3 in the histone fold domain and no conservation of the N-terminus that is also very different from other H3 variants. cenH3s ususally lack a conserved glutamine in the α1-helix of the histone fold. cenH3s have an extended L1-loop and usually replace Phe84 in canonical H3 with Trp, and Thr 107 with Ala, Cys, or Ser.\", deposition=\"Unlike canonical histones, cenH3 deposition is replication-independent and mediated by specialized chaperones (HJURP in humans, Scm3 in budding and fission yeast, and CAL1 in Drosophila). The timing of cenH3 deposition is species-specific, occurring in telophase/G1 in humans, G2 phase in Arabidopsis, anaphase in Drosophila embryos, with budding yeast utilizing dual deposition windows in S-phase and anaphase [wong_epigenetic_2020, shivaraju_cell_2012, lermontova_loading_2006, schuh_incorporation_2007]. Notably, both budding yeast and nematodes (C. elegans) exhibit complete turnover of cenH3 each cell cycle [wong_epigenetic_2020]. The assembly and replenishment of cenH3 nucleosomes involves chromatin remodeling, resulting in the displacement of H3.3 histones and active stabilization by specific proteins (e.g., HJURP, CENP-C, CENP-B in humans) [dunleavy_h33_2011, wong_epigenetic_2020, black_epigenetic_2011]. It is possible that new cenH3 deposition doesn't always occur at the same centromeric position during every cell cycle [dunleavy_h33_2011]. Deposition of cenH3 into centromeric nucleosomes depends not only on a specific chaperone but also on numerous other factors. The study using DT40 (chicken) and HeLa S3 (human) cell lines demonstrated that chromatin-remodeling complexes FACT and CHD1 play important roles in the proper recruitment of cenH3 [okada_cenp-hcontaining_2009]. However, this observation is likely not universal across all organisms. For example, in Drosophila, cenH3 incorporation occurs independently of CHD1, yet still involves direct participation of FACT [podhraski_cenh3cid_2010, chen_establishment_2015, chen_cal1_2014].\" WHERE id=96\n"
     ]
    }
   ],
   "source": [
    "sequence_desc = \"The cenH3 variant contains a distinctive CENP-A targeting domain (CATD), which encompasses extended L1-loop and α2‑helix within the histone‑fold domain, that mediates specific chaperone recognition and facilitates kinetochore protein assembly [wong_epigenetic_2020, fachinetti_two-step_2013]. The N- or C-terminal tails of CENP-A are essential for the long-term centromere integrity [fachinetti_two-step_2013]. cenH3s typically have only about 50-60% amino acid identity to canonical H3 in the histone fold domain and no conservation of the N-terminus that is also very different from other H3 variants. cenH3s ususally lack a conserved glutamine in the α1-helix of the histone fold. cenH3s have an extended L1-loop and usually replace Phe84 in canonical H3 with Trp, and Thr 107 with Ala, Cys, or Ser.\"\n",
    "deposition_desc = \"Unlike canonical histones, cenH3 deposition is replication-independent and mediated by specialized chaperones (HJURP in humans, Scm3 in budding and fission yeast, and CAL1 in Drosophila). The timing of cenH3 deposition is species-specific, occurring in telophase/G1 in humans, G2 phase in Arabidopsis, anaphase in Drosophila embryos, with budding yeast utilizing dual deposition windows in S-phase and anaphase [wong_epigenetic_2020, shivaraju_cell_2012, lermontova_loading_2006, schuh_incorporation_2007]. Notably, both budding yeast and nematodes (C. elegans) exhibit complete turnover of cenH3 each cell cycle [wong_epigenetic_2020]. The assembly and replenishment of cenH3 nucleosomes involves chromatin remodeling, resulting in the displacement of H3.3 histones and active stabilization by specific proteins (e.g., HJURP, CENP-C, CENP-B in humans) [dunleavy_h33_2011, wong_epigenetic_2020, black_epigenetic_2011]. It is possible that new cenH3 deposition doesn't always occur at the same centromeric position during every cell cycle [dunleavy_h33_2011]. Deposition of cenH3 into centromeric nucleosomes depends not only on a specific chaperone but also on numerous other factors. The study using DT40 (chicken) and HeLa S3 (human) cell lines demonstrated that chromatin-remodeling complexes FACT and CHD1 play important roles in the proper recruitment of cenH3 [okada_cenp-hcontaining_2009]. However, this observation is likely not universal across all organisms. For example, in Drosophila, cenH3 incorporation occurs independently of CHD1, yet still involves direct participation of FACT [podhraski_cenh3cid_2010, chen_establishment_2015, chen_cal1_2014].\"\n",
    "query = f'UPDATE histone_description SET sequence=\"{sequence_desc}\", deposition=\"{deposition_desc}\" WHERE id=96'\n",
    "print(query)\n",
    "cursor.execute(query)"
   ]
  },
  {
   "cell_type": "code",
   "execution_count": 45,
   "id": "26690f92-33f9-433b-883f-8b2932b2ad81",
   "metadata": {
    "tags": []
   },
   "outputs": [
    {
     "data": {
      "text/html": [
       "<div>\n",
       "<style scoped>\n",
       "    .dataframe tbody tr th:only-of-type {\n",
       "        vertical-align: middle;\n",
       "    }\n",
       "\n",
       "    .dataframe tbody tr th {\n",
       "        vertical-align: top;\n",
       "    }\n",
       "\n",
       "    .dataframe thead th {\n",
       "        text-align: right;\n",
       "    }\n",
       "</style>\n",
       "<table border=\"1\" class=\"dataframe\">\n",
       "  <thead>\n",
       "    <tr style=\"text-align: right;\">\n",
       "      <th></th>\n",
       "      <th>id</th>\n",
       "      <th>level</th>\n",
       "      <th>taxonomic_span</th>\n",
       "      <th>taxonomic_span_id</th>\n",
       "      <th>description</th>\n",
       "      <th>parent</th>\n",
       "      <th>id</th>\n",
       "      <th>summary</th>\n",
       "      <th>taxonomy</th>\n",
       "      <th>genes</th>\n",
       "      <th>...</th>\n",
       "      <th>knock_out</th>\n",
       "      <th>function</th>\n",
       "      <th>sequence</th>\n",
       "      <th>localization</th>\n",
       "      <th>deposition</th>\n",
       "      <th>structure</th>\n",
       "      <th>interactions</th>\n",
       "      <th>disease</th>\n",
       "      <th>caveats</th>\n",
       "      <th>relations</th>\n",
       "    </tr>\n",
       "  </thead>\n",
       "  <tbody>\n",
       "    <tr>\n",
       "      <th>0</th>\n",
       "      <td>cenH3</td>\n",
       "      <td>variant_group</td>\n",
       "      <td>Eukaryotes</td>\n",
       "      <td>2759</td>\n",
       "      <td>96</td>\n",
       "      <td>H3</td>\n",
       "      <td>96</td>\n",
       "      <td>cenH3 is a centromere-specific histone variant...</td>\n",
       "      <td>cenH3 present in most eukaryotes. However, it ...</td>\n",
       "      <td>null</td>\n",
       "      <td>...</td>\n",
       "      <td>null</td>\n",
       "      <td>Despite the high diversity of cenH3 proteins, ...</td>\n",
       "      <td>The cenH3 variant contains a distinctive CENP-...</td>\n",
       "      <td>null</td>\n",
       "      <td>Unlike canonical histones, cenH3 deposition is...</td>\n",
       "      <td>null</td>\n",
       "      <td>null</td>\n",
       "      <td>CenH3 plays pro-viral and restriction role in ...</td>\n",
       "      <td>null</td>\n",
       "      <td>None</td>\n",
       "    </tr>\n",
       "  </tbody>\n",
       "</table>\n",
       "<p>1 rows × 22 columns</p>\n",
       "</div>"
      ],
      "text/plain": [
       "      id          level taxonomic_span taxonomic_span_id  description parent  \\\n",
       "0  cenH3  variant_group     Eukaryotes              2759           96     H3   \n",
       "\n",
       "   id                                            summary  \\\n",
       "0  96  cenH3 is a centromere-specific histone variant...   \n",
       "\n",
       "                                            taxonomy genes  ... knock_out  \\\n",
       "0  cenH3 present in most eukaryotes. However, it ...  null  ...      null   \n",
       "\n",
       "                                            function  \\\n",
       "0  Despite the high diversity of cenH3 proteins, ...   \n",
       "\n",
       "                                            sequence localization  \\\n",
       "0  The cenH3 variant contains a distinctive CENP-...         null   \n",
       "\n",
       "                                          deposition structure interactions  \\\n",
       "0  Unlike canonical histones, cenH3 deposition is...      null         null   \n",
       "\n",
       "                                             disease caveats relations  \n",
       "0  CenH3 plays pro-viral and restriction role in ...    null      None  \n",
       "\n",
       "[1 rows x 22 columns]"
      ]
     },
     "execution_count": 45,
     "metadata": {},
     "output_type": "execute_result"
    }
   ],
   "source": [
    "query = (\n",
    "    \"SELECT * FROM histone h LEFT JOIN histone_description hd \"\n",
    "    \"ON h.description = hd.id \"\n",
    "    \"WHERE h.id='cenH3'\"\n",
    ")\n",
    "cursor.execute(query)\n",
    "df = pd.DataFrame(cursor.fetchall(), columns=[i[0] for i in cursor.description])\n",
    "df"
   ]
  },
  {
   "cell_type": "code",
   "execution_count": 46,
   "id": "9f821e23-2f61-4838-ae22-01161e6ecefa",
   "metadata": {
    "tags": []
   },
   "outputs": [
    {
     "data": {
      "text/plain": [
       "[{'id': 96,\n",
       "  'level': 'variant_group',\n",
       "  'taxonomic_span': 'Eukaryotes',\n",
       "  'taxonomic_span_id': '2759',\n",
       "  'description': 96,\n",
       "  'parent': 'H3',\n",
       "  'summary': 'cenH3 is a centromere-specific histone variant, which replaces canonical H3 in centromeric nucleosomes. It is required for kinetochore formation, mitotic progression and chromosome segregation.',\n",
       "  'taxonomy': 'cenH3 present in most eukaryotes. However, it has been lost in trypanosomes, the fungus Mucor, in four clades of holocentric insects and kinetoplastids [talbert_histone_2021, senaratne_formation_2021, sridhar_kinetochore_2022].',\n",
       "  'genes': 'null',\n",
       "  'evolution': 'The co-occurrence of CenH3 loss and holocentricity in insects suggests that the evolutionary development of holocentromeres in this group may have been facilitated by the loss of a CenH3-defined centromere [senaratne_formation_2021]. It has been demonstrated that CenH3 has undergone adaptive evolution at a significantly higher frequency in clades with asymmetric meiosis compared to those with symmetric meiosis [zedek_cenh3_2016]. This finding is in accordance with the predictions of the centromere drive model. Furthermore, the occurrence of more frequent adaptive changes in CenH3 is necessary to offset the negative effects of centromere drive [zedek_cenh3_2016].',\n",
       "  'expression': 'null',\n",
       "  'knock_out': 'null',\n",
       "  'function': 'Despite the high diversity of cenH3 proteins, they represent a key factor involved in centromere identity and recruiting constitutive centromere-associated network (CCAN), ensuring accurate chromosome segregation, across a wide range of organisms. For example, the deep evolutionary conservation of cenH3 histone function in plants demonstarted by the ability of Zea mays cenH3 to functionally replace its counterpart in Arabidopsis thaliana [maheshwari_naturally_2015]. However, certain functional differences of cenH3 in chromosome segregation are observed across different species [wong_epigenetic_2020, steiner_diversity_2015]. Distinction is mainly related to cenH3 distribution on the chromosome, timing of cenH3 replenishment, heterochromatin dependence and chaperone specificity. In most mammals (including humans), cenH3 is incorporated into nucleosomes positioned within satellite repeat regions. In contrast, yeast species exhibit both regional (fission yeast) and point (budding yeast) centromeres, the latter consisting of a single cenH3 nucleosome complex assembled on specific DNA sequences. Nematode holocentromeres are characterized by the distribution of cenH3 along the entire chromosome length. Key factors of centromere identity in speicies with regional centromere (e.g., vertebrates) are the epigenetic context and transcription of centromeric DNA, whereas centromeres in budding yeast (S. cerevisiae) are determined by specific DNA sequences [wong_epigenetic_2020, hara_critical_2017, hori_histone_2014]. Moreover, studies in human and chicken cells have demonstrated the existence of natural and artificially created functional neocentromeres lacking alpha-satellite DNA [hara_critical_2017]. At the same time, despite the possibility of epigenetic drift, cenH3 positioning in maize centromeres is stable over generations and primarily governed by genetic changes [gent_stable_2015].',\n",
       "  'sequence': 'The cenH3 variant contains a distinctive CENP-A targeting domain (CATD), which encompasses extended L1-loop and α2‑helix within the histone‑fold domain, that mediates specific chaperone recognition and facilitates kinetochore protein assembly [wong_epigenetic_2020, fachinetti_two-step_2013]. The N- or C-terminal tails of CENP-A are essential for the long-term centromere integrity [fachinetti_two-step_2013]. cenH3s typically have only about 50-60% amino acid identity to canonical H3 in the histone fold domain and no conservation of the N-terminus that is also very different from other H3 variants. cenH3s ususally lack a conserved glutamine in the α1-helix of the histone fold. cenH3s have an extended L1-loop and usually replace Phe84 in canonical H3 with Trp, and Thr 107 with Ala, Cys, or Ser.',\n",
       "  'localization': 'null',\n",
       "  'deposition': \"Unlike canonical histones, cenH3 deposition is replication-independent and mediated by specialized chaperones (HJURP in humans, Scm3 in budding and fission yeast, and CAL1 in Drosophila). The timing of cenH3 deposition is species-specific, occurring in telophase/G1 in humans, G2 phase in Arabidopsis, anaphase in Drosophila embryos, with budding yeast utilizing dual deposition windows in S-phase and anaphase [wong_epigenetic_2020, shivaraju_cell_2012, lermontova_loading_2006, schuh_incorporation_2007]. Notably, both budding yeast and nematodes (C. elegans) exhibit complete turnover of cenH3 each cell cycle [wong_epigenetic_2020]. The assembly and replenishment of cenH3 nucleosomes involves chromatin remodeling, resulting in the displacement of H3.3 histones and active stabilization by specific proteins (e.g., HJURP, CENP-C, CENP-B in humans) [dunleavy_h33_2011, wong_epigenetic_2020, black_epigenetic_2011]. It is possible that new cenH3 deposition doesn't always occur at the same centromeric position during every cell cycle [dunleavy_h33_2011]. Deposition of cenH3 into centromeric nucleosomes depends not only on a specific chaperone but also on numerous other factors. The study using DT40 (chicken) and HeLa S3 (human) cell lines demonstrated that chromatin-remodeling complexes FACT and CHD1 play important roles in the proper recruitment of cenH3 [okada_cenp-hcontaining_2009]. However, this observation is likely not universal across all organisms. For example, in Drosophila, cenH3 incorporation occurs independently of CHD1, yet still involves direct participation of FACT [podhraski_cenh3cid_2010, chen_establishment_2015, chen_cal1_2014].\",\n",
       "  'structure': 'null',\n",
       "  'interactions': 'null',\n",
       "  'disease': 'CenH3 plays pro-viral and restriction role in tombusvirus replication in plants and in the yeast model host [gonzalez_centromeric_2022].',\n",
       "  'caveats': 'null',\n",
       "  'relations': None}]"
      ]
     },
     "execution_count": 46,
     "metadata": {},
     "output_type": "execute_result"
    }
   ],
   "source": [
    "df.to_dict(orient=\"records\")"
   ]
  },
  {
   "cell_type": "code",
   "execution_count": 47,
   "id": "4c60620c-a3ca-4cce-aa95-050ad0fca18d",
   "metadata": {
    "tags": []
   },
   "outputs": [],
   "source": [
    "# Make sure data is committed to the database\n",
    "conn.commit()"
   ]
  },
  {
   "cell_type": "markdown",
   "id": "f3711dc3-2fc5-4be1-aba6-bea483fc3e9d",
   "metadata": {
    "jp-MarkdownHeadingCollapsed": true,
    "tags": []
   },
   "source": [
    "## <span style=\"color:black\">Update description to cenH3_(Plants)</span>\n",
    "\n",
    "### <span style=\"color:black\">Add deposition</span>\n",
    "\n",
    "```Deposition of CENH3 in Arabidopsis occurs mainly in G2 phase [lermontova_loading_2006].```\n",
    "\n",
    "### <span style=\"color:black\">Add sequence</span>\n",
    "\n",
    "```In maize, the phosphorylation of serine 50 displays kinetics analogous to human Ser7, a known regulator of centromere function [wong_epigenetic_2020, zhang_phosphoserines_2005]. ```"
   ]
  },
  {
   "cell_type": "code",
   "execution_count": 48,
   "id": "3faa3344-a029-4851-831d-4fbfe7811a33",
   "metadata": {
    "tags": []
   },
   "outputs": [
    {
     "data": {
      "text/html": [
       "<div>\n",
       "<style scoped>\n",
       "    .dataframe tbody tr th:only-of-type {\n",
       "        vertical-align: middle;\n",
       "    }\n",
       "\n",
       "    .dataframe tbody tr th {\n",
       "        vertical-align: top;\n",
       "    }\n",
       "\n",
       "    .dataframe thead th {\n",
       "        text-align: right;\n",
       "    }\n",
       "</style>\n",
       "<table border=\"1\" class=\"dataframe\">\n",
       "  <thead>\n",
       "    <tr style=\"text-align: right;\">\n",
       "      <th></th>\n",
       "      <th>id</th>\n",
       "      <th>level</th>\n",
       "      <th>taxonomic_span</th>\n",
       "      <th>taxonomic_span_id</th>\n",
       "      <th>description</th>\n",
       "      <th>parent</th>\n",
       "      <th>id</th>\n",
       "      <th>summary</th>\n",
       "      <th>taxonomy</th>\n",
       "      <th>genes</th>\n",
       "      <th>...</th>\n",
       "      <th>knock_out</th>\n",
       "      <th>function</th>\n",
       "      <th>sequence</th>\n",
       "      <th>localization</th>\n",
       "      <th>deposition</th>\n",
       "      <th>structure</th>\n",
       "      <th>interactions</th>\n",
       "      <th>disease</th>\n",
       "      <th>caveats</th>\n",
       "      <th>relations</th>\n",
       "    </tr>\n",
       "  </thead>\n",
       "  <tbody>\n",
       "    <tr>\n",
       "      <th>0</th>\n",
       "      <td>cenH3_(Plants)</td>\n",
       "      <td>variant</td>\n",
       "      <td>Eukaryotes</td>\n",
       "      <td>2759</td>\n",
       "      <td>233</td>\n",
       "      <td>cenH3</td>\n",
       "      <td>233</td>\n",
       "      <td>cenH3_(Plants) is a centromere-specific histon...</td>\n",
       "      <td>None</td>\n",
       "      <td>While most diploid eukaryotes and flowering pl...</td>\n",
       "      <td>...</td>\n",
       "      <td>None</td>\n",
       "      <td>None</td>\n",
       "      <td>None</td>\n",
       "      <td>None</td>\n",
       "      <td>None</td>\n",
       "      <td>The L92F mutation in barley βCENH3 (and its or...</td>\n",
       "      <td>None</td>\n",
       "      <td>None</td>\n",
       "      <td>None</td>\n",
       "      <td>None</td>\n",
       "    </tr>\n",
       "  </tbody>\n",
       "</table>\n",
       "<p>1 rows × 22 columns</p>\n",
       "</div>"
      ],
      "text/plain": [
       "               id    level taxonomic_span taxonomic_span_id  description  \\\n",
       "0  cenH3_(Plants)  variant     Eukaryotes              2759          233   \n",
       "\n",
       "  parent   id                                            summary taxonomy  \\\n",
       "0  cenH3  233  cenH3_(Plants) is a centromere-specific histon...     None   \n",
       "\n",
       "                                               genes  ... knock_out function  \\\n",
       "0  While most diploid eukaryotes and flowering pl...  ...      None     None   \n",
       "\n",
       "  sequence localization deposition  \\\n",
       "0     None         None       None   \n",
       "\n",
       "                                           structure interactions disease  \\\n",
       "0  The L92F mutation in barley βCENH3 (and its or...         None    None   \n",
       "\n",
       "  caveats relations  \n",
       "0    None      None  \n",
       "\n",
       "[1 rows x 22 columns]"
      ]
     },
     "execution_count": 48,
     "metadata": {},
     "output_type": "execute_result"
    }
   ],
   "source": [
    "query = (\n",
    "    \"SELECT * FROM histone h LEFT JOIN histone_description hd \"\n",
    "    \"ON h.description = hd.id \"\n",
    "    \"WHERE h.id='cenH3_(Plants)'\"\n",
    ")\n",
    "cursor.execute(query)\n",
    "df = pd.DataFrame(cursor.fetchall(), columns=[i[0] for i in cursor.description])\n",
    "df"
   ]
  },
  {
   "cell_type": "code",
   "execution_count": 49,
   "id": "8d124916-acf6-47d8-bc59-6c083252a81e",
   "metadata": {
    "tags": []
   },
   "outputs": [
    {
     "data": {
      "text/plain": [
       "[{'id': 233,\n",
       "  'level': 'variant',\n",
       "  'taxonomic_span': 'Eukaryotes',\n",
       "  'taxonomic_span_id': '2759',\n",
       "  'description': 233,\n",
       "  'parent': 'cenH3',\n",
       "  'summary': 'cenH3_(Plants) is a centromere-specific histone variant in Plants. This is a subclass of cenH3 (see it for a detailed description).',\n",
       "  'taxonomy': None,\n",
       "  'genes': 'While most diploid eukaryotes and flowering plants maintain only one CENH3 gene copy (even after whole-genome duplications), some diploid species like Arabidopsis lyrata, barley, rye, pea, and related legumes retain two functional CENH3 homologs [ishii_unequal_2020]. It was demonstrated that the duplication of HTR12 in A. lyrata may have facilitated adaptation to multiple centromeric satellite sequences, though the underlying mechanisms of this process require further investigation [kawabe_duplication_2006]. Pisum and closely related Lathyrus species also retain two CenH3 paralogs (CenH3-1 and CenH3-2) originating from a Fabeae ancestor [neumann_centromeres_2015, neumann_stretching_2012]. Despite divergence, they colocalize in centromeres, likely enabling meta-polycentric organization with multiple functional domains. CenH3-2 is highly conserved but shows adaptive evolution in its histone fold, while CenH3-1 is more variable (especially N-terminal) without signs of positive selection [neumann_centromeres_2015]. The diploid barley species H. vulgare and H. bulbosum each encode two functional CENH3 variants (α and β) that arose before their divergence (~7 mya), are expressed and incorporated into centromeres, but display distinct interspecific incorporation patterns in hybrids [sanei_loss_2011, karimi-ashtiyani_point_2015]. Notably, in early embryos, some centromeres (9.6%) contain only βCENH3, while later stages always incorporate both variants, revealing developmental-stage-specific loading [ishii_differential_2015]. In rye, both CENH3 genes (α and β) are actively transcribed, retained in the genome, and likely functionally important for centromeric nucleosome assembly, while alternative splicing of αCENH3 generates protein diversity without affecting key DNA-binding domains (CATD) [evtushenko_conserved_2017].',\n",
       "  'evolution': None,\n",
       "  'expression': None,\n",
       "  'knock_out': None,\n",
       "  'function': None,\n",
       "  'sequence': None,\n",
       "  'localization': None,\n",
       "  'deposition': None,\n",
       "  'structure': 'The L92F mutation in barley βCENH3 (and its orthologous variants in other plants) disrupts centromeric histone loading, enabling the development of haploid inducer lines for accelerated breeding, as it triggers selective elimination of mutant-derived chromosomes in hybrids with wild-type parents [karimi-ashtiyani_point_2015].',\n",
       "  'interactions': None,\n",
       "  'disease': None,\n",
       "  'caveats': None,\n",
       "  'relations': None}]"
      ]
     },
     "execution_count": 49,
     "metadata": {},
     "output_type": "execute_result"
    }
   ],
   "source": [
    "df.to_dict(orient=\"records\")"
   ]
  },
  {
   "cell_type": "code",
   "execution_count": 51,
   "id": "666e2822-0e9a-4312-9450-338d738c49de",
   "metadata": {
    "tags": []
   },
   "outputs": [
    {
     "name": "stdout",
     "output_type": "stream",
     "text": [
      "UPDATE histone_description SET sequence=\"Deposition of CENH3 in Arabidopsis occurs mainly in G2 phase [lermontova_loading_2006].\", deposition=\"In maize, the phosphorylation of serine 50 displays kinetics analogous to human Ser7, a known regulator of centromere function [wong_epigenetic_2020, zhang_phosphoserines_2005].\" WHERE id=233\n"
     ]
    }
   ],
   "source": [
    "sequence_desc = \"Deposition of CENH3 in Arabidopsis occurs mainly in G2 phase [lermontova_loading_2006].\"\n",
    "deposition_desc = \"In maize, the phosphorylation of serine 50 displays kinetics analogous to human Ser7, a known regulator of centromere function [wong_epigenetic_2020, zhang_phosphoserines_2005].\"\n",
    "query = f'UPDATE histone_description SET sequence=\"{sequence_desc}\", deposition=\"{deposition_desc}\" WHERE id=233'\n",
    "print(query)\n",
    "cursor.execute(query)"
   ]
  },
  {
   "cell_type": "code",
   "execution_count": 52,
   "id": "b73de541-f511-4376-84eb-d24879c9eadd",
   "metadata": {
    "tags": []
   },
   "outputs": [
    {
     "data": {
      "text/html": [
       "<div>\n",
       "<style scoped>\n",
       "    .dataframe tbody tr th:only-of-type {\n",
       "        vertical-align: middle;\n",
       "    }\n",
       "\n",
       "    .dataframe tbody tr th {\n",
       "        vertical-align: top;\n",
       "    }\n",
       "\n",
       "    .dataframe thead th {\n",
       "        text-align: right;\n",
       "    }\n",
       "</style>\n",
       "<table border=\"1\" class=\"dataframe\">\n",
       "  <thead>\n",
       "    <tr style=\"text-align: right;\">\n",
       "      <th></th>\n",
       "      <th>id</th>\n",
       "      <th>level</th>\n",
       "      <th>taxonomic_span</th>\n",
       "      <th>taxonomic_span_id</th>\n",
       "      <th>description</th>\n",
       "      <th>parent</th>\n",
       "      <th>id</th>\n",
       "      <th>summary</th>\n",
       "      <th>taxonomy</th>\n",
       "      <th>genes</th>\n",
       "      <th>...</th>\n",
       "      <th>knock_out</th>\n",
       "      <th>function</th>\n",
       "      <th>sequence</th>\n",
       "      <th>localization</th>\n",
       "      <th>deposition</th>\n",
       "      <th>structure</th>\n",
       "      <th>interactions</th>\n",
       "      <th>disease</th>\n",
       "      <th>caveats</th>\n",
       "      <th>relations</th>\n",
       "    </tr>\n",
       "  </thead>\n",
       "  <tbody>\n",
       "    <tr>\n",
       "      <th>0</th>\n",
       "      <td>cenH3_(Plants)</td>\n",
       "      <td>variant</td>\n",
       "      <td>Eukaryotes</td>\n",
       "      <td>2759</td>\n",
       "      <td>233</td>\n",
       "      <td>cenH3</td>\n",
       "      <td>233</td>\n",
       "      <td>cenH3_(Plants) is a centromere-specific histon...</td>\n",
       "      <td>None</td>\n",
       "      <td>While most diploid eukaryotes and flowering pl...</td>\n",
       "      <td>...</td>\n",
       "      <td>None</td>\n",
       "      <td>None</td>\n",
       "      <td>Deposition of CENH3 in Arabidopsis occurs main...</td>\n",
       "      <td>None</td>\n",
       "      <td>In maize, the phosphorylation of serine 50 dis...</td>\n",
       "      <td>The L92F mutation in barley βCENH3 (and its or...</td>\n",
       "      <td>None</td>\n",
       "      <td>None</td>\n",
       "      <td>None</td>\n",
       "      <td>None</td>\n",
       "    </tr>\n",
       "  </tbody>\n",
       "</table>\n",
       "<p>1 rows × 22 columns</p>\n",
       "</div>"
      ],
      "text/plain": [
       "               id    level taxonomic_span taxonomic_span_id  description  \\\n",
       "0  cenH3_(Plants)  variant     Eukaryotes              2759          233   \n",
       "\n",
       "  parent   id                                            summary taxonomy  \\\n",
       "0  cenH3  233  cenH3_(Plants) is a centromere-specific histon...     None   \n",
       "\n",
       "                                               genes  ... knock_out function  \\\n",
       "0  While most diploid eukaryotes and flowering pl...  ...      None     None   \n",
       "\n",
       "                                            sequence localization  \\\n",
       "0  Deposition of CENH3 in Arabidopsis occurs main...         None   \n",
       "\n",
       "                                          deposition  \\\n",
       "0  In maize, the phosphorylation of serine 50 dis...   \n",
       "\n",
       "                                           structure interactions disease  \\\n",
       "0  The L92F mutation in barley βCENH3 (and its or...         None    None   \n",
       "\n",
       "  caveats relations  \n",
       "0    None      None  \n",
       "\n",
       "[1 rows x 22 columns]"
      ]
     },
     "execution_count": 52,
     "metadata": {},
     "output_type": "execute_result"
    }
   ],
   "source": [
    "query = (\n",
    "    \"SELECT * FROM histone h LEFT JOIN histone_description hd \"\n",
    "    \"ON h.description = hd.id \"\n",
    "    \"WHERE h.id='cenH3_(Plants)'\"\n",
    ")\n",
    "cursor.execute(query)\n",
    "df = pd.DataFrame(cursor.fetchall(), columns=[i[0] for i in cursor.description])\n",
    "df"
   ]
  },
  {
   "cell_type": "code",
   "execution_count": 53,
   "id": "34ce29c1-3d12-4c15-9c34-87ef7965fbb0",
   "metadata": {
    "tags": []
   },
   "outputs": [
    {
     "data": {
      "text/plain": [
       "[{'id': 233,\n",
       "  'level': 'variant',\n",
       "  'taxonomic_span': 'Eukaryotes',\n",
       "  'taxonomic_span_id': '2759',\n",
       "  'description': 233,\n",
       "  'parent': 'cenH3',\n",
       "  'summary': 'cenH3_(Plants) is a centromere-specific histone variant in Plants. This is a subclass of cenH3 (see it for a detailed description).',\n",
       "  'taxonomy': None,\n",
       "  'genes': 'While most diploid eukaryotes and flowering plants maintain only one CENH3 gene copy (even after whole-genome duplications), some diploid species like Arabidopsis lyrata, barley, rye, pea, and related legumes retain two functional CENH3 homologs [ishii_unequal_2020]. It was demonstrated that the duplication of HTR12 in A. lyrata may have facilitated adaptation to multiple centromeric satellite sequences, though the underlying mechanisms of this process require further investigation [kawabe_duplication_2006]. Pisum and closely related Lathyrus species also retain two CenH3 paralogs (CenH3-1 and CenH3-2) originating from a Fabeae ancestor [neumann_centromeres_2015, neumann_stretching_2012]. Despite divergence, they colocalize in centromeres, likely enabling meta-polycentric organization with multiple functional domains. CenH3-2 is highly conserved but shows adaptive evolution in its histone fold, while CenH3-1 is more variable (especially N-terminal) without signs of positive selection [neumann_centromeres_2015]. The diploid barley species H. vulgare and H. bulbosum each encode two functional CENH3 variants (α and β) that arose before their divergence (~7 mya), are expressed and incorporated into centromeres, but display distinct interspecific incorporation patterns in hybrids [sanei_loss_2011, karimi-ashtiyani_point_2015]. Notably, in early embryos, some centromeres (9.6%) contain only βCENH3, while later stages always incorporate both variants, revealing developmental-stage-specific loading [ishii_differential_2015]. In rye, both CENH3 genes (α and β) are actively transcribed, retained in the genome, and likely functionally important for centromeric nucleosome assembly, while alternative splicing of αCENH3 generates protein diversity without affecting key DNA-binding domains (CATD) [evtushenko_conserved_2017].',\n",
       "  'evolution': None,\n",
       "  'expression': None,\n",
       "  'knock_out': None,\n",
       "  'function': None,\n",
       "  'sequence': 'Deposition of CENH3 in Arabidopsis occurs mainly in G2 phase [lermontova_loading_2006].',\n",
       "  'localization': None,\n",
       "  'deposition': 'In maize, the phosphorylation of serine 50 displays kinetics analogous to human Ser7, a known regulator of centromere function [wong_epigenetic_2020, zhang_phosphoserines_2005].',\n",
       "  'structure': 'The L92F mutation in barley βCENH3 (and its orthologous variants in other plants) disrupts centromeric histone loading, enabling the development of haploid inducer lines for accelerated breeding, as it triggers selective elimination of mutant-derived chromosomes in hybrids with wild-type parents [karimi-ashtiyani_point_2015].',\n",
       "  'interactions': None,\n",
       "  'disease': None,\n",
       "  'caveats': None,\n",
       "  'relations': None}]"
      ]
     },
     "execution_count": 53,
     "metadata": {},
     "output_type": "execute_result"
    }
   ],
   "source": [
    "df.to_dict(orient=\"records\")"
   ]
  },
  {
   "cell_type": "code",
   "execution_count": 54,
   "id": "9d188946-dc3c-4344-8b14-462b68589bdf",
   "metadata": {
    "tags": []
   },
   "outputs": [],
   "source": [
    "# Make sure data is committed to the database\n",
    "conn.commit()"
   ]
  },
  {
   "cell_type": "markdown",
   "id": "fb218a00-bf70-43bf-950f-d8f341c21302",
   "metadata": {
    "jp-MarkdownHeadingCollapsed": true,
    "tags": []
   },
   "source": [
    "## <span style=\"color:black\">Update description to cenH3_(Animals)</span>\n",
    "\n",
    "### <span style=\"color:black\">Add deposition</span>\n",
    "\n",
    "```In humans and most animals, cenH3 is expressed in G2 phase, and but loading occurs during late mitosis and G1 phase of the cell cycle, mediated by specialized chaperones (HJURP in humans and CAL1 in Drosophila).```"
   ]
  },
  {
   "cell_type": "code",
   "execution_count": 55,
   "id": "e48fe450-c174-4e04-a32c-322b88a02fd9",
   "metadata": {
    "tags": []
   },
   "outputs": [
    {
     "data": {
      "text/html": [
       "<div>\n",
       "<style scoped>\n",
       "    .dataframe tbody tr th:only-of-type {\n",
       "        vertical-align: middle;\n",
       "    }\n",
       "\n",
       "    .dataframe tbody tr th {\n",
       "        vertical-align: top;\n",
       "    }\n",
       "\n",
       "    .dataframe thead th {\n",
       "        text-align: right;\n",
       "    }\n",
       "</style>\n",
       "<table border=\"1\" class=\"dataframe\">\n",
       "  <thead>\n",
       "    <tr style=\"text-align: right;\">\n",
       "      <th></th>\n",
       "      <th>id</th>\n",
       "      <th>level</th>\n",
       "      <th>taxonomic_span</th>\n",
       "      <th>taxonomic_span_id</th>\n",
       "      <th>description</th>\n",
       "      <th>parent</th>\n",
       "      <th>id</th>\n",
       "      <th>summary</th>\n",
       "      <th>taxonomy</th>\n",
       "      <th>genes</th>\n",
       "      <th>...</th>\n",
       "      <th>knock_out</th>\n",
       "      <th>function</th>\n",
       "      <th>sequence</th>\n",
       "      <th>localization</th>\n",
       "      <th>deposition</th>\n",
       "      <th>structure</th>\n",
       "      <th>interactions</th>\n",
       "      <th>disease</th>\n",
       "      <th>caveats</th>\n",
       "      <th>relations</th>\n",
       "    </tr>\n",
       "  </thead>\n",
       "  <tbody>\n",
       "    <tr>\n",
       "      <th>0</th>\n",
       "      <td>cenH3_(Animals)</td>\n",
       "      <td>variant</td>\n",
       "      <td>Homo sapiens</td>\n",
       "      <td>9606</td>\n",
       "      <td>94</td>\n",
       "      <td>cenH3</td>\n",
       "      <td>94</td>\n",
       "      <td>cenH3_(Animals) is a centromere-specific histo...</td>\n",
       "      <td>null</td>\n",
       "      <td>The nematodes Caenorhabditis elegans and C. re...</td>\n",
       "      <td>...</td>\n",
       "      <td>null</td>\n",
       "      <td>The active centromeric chromatin, enriched wit...</td>\n",
       "      <td>null</td>\n",
       "      <td>null</td>\n",
       "      <td>null</td>\n",
       "      <td>null</td>\n",
       "      <td>cenH3 nucleosomes stabilize the inner kinetoch...</td>\n",
       "      <td>null</td>\n",
       "      <td>null</td>\n",
       "      <td>None</td>\n",
       "    </tr>\n",
       "  </tbody>\n",
       "</table>\n",
       "<p>1 rows × 22 columns</p>\n",
       "</div>"
      ],
      "text/plain": [
       "                id    level taxonomic_span taxonomic_span_id  description  \\\n",
       "0  cenH3_(Animals)  variant   Homo sapiens              9606           94   \n",
       "\n",
       "  parent  id                                            summary taxonomy  \\\n",
       "0  cenH3  94  cenH3_(Animals) is a centromere-specific histo...     null   \n",
       "\n",
       "                                               genes  ... knock_out  \\\n",
       "0  The nematodes Caenorhabditis elegans and C. re...  ...      null   \n",
       "\n",
       "                                            function sequence localization  \\\n",
       "0  The active centromeric chromatin, enriched wit...     null         null   \n",
       "\n",
       "  deposition structure                                       interactions  \\\n",
       "0       null      null  cenH3 nucleosomes stabilize the inner kinetoch...   \n",
       "\n",
       "  disease caveats relations  \n",
       "0    null    null      None  \n",
       "\n",
       "[1 rows x 22 columns]"
      ]
     },
     "execution_count": 55,
     "metadata": {},
     "output_type": "execute_result"
    }
   ],
   "source": [
    "query = (\n",
    "    \"SELECT * FROM histone h LEFT JOIN histone_description hd \"\n",
    "    \"ON h.description = hd.id \"\n",
    "    \"WHERE h.id='cenH3_(Animals)'\"\n",
    ")\n",
    "cursor.execute(query)\n",
    "df = pd.DataFrame(cursor.fetchall(), columns=[i[0] for i in cursor.description])\n",
    "df"
   ]
  },
  {
   "cell_type": "code",
   "execution_count": 56,
   "id": "38e21581-bdbb-4e14-b855-1bcdbc450cc9",
   "metadata": {
    "tags": []
   },
   "outputs": [
    {
     "data": {
      "text/plain": [
       "[{'id': 94,\n",
       "  'level': 'variant',\n",
       "  'taxonomic_span': 'Homo sapiens',\n",
       "  'taxonomic_span_id': '9606',\n",
       "  'description': 94,\n",
       "  'parent': 'cenH3',\n",
       "  'summary': 'cenH3_(Animals) is a centromere-specific histone variant in animals (Metazoa), often called CENP-A (Centromere Protein A) in mammals, and an important component of active centromere required for chromosome segregation.',\n",
       "  'taxonomy': 'null',\n",
       "  'genes': 'The nematodes Caenorhabditis elegans and C. remanei possess two genes encoding cenH3: HCP-3 (also known as CeCENP-A) and CPAR-1 [monen_separase_2015, monen_differential_2005]. While HCP-3 functions as the predominant centromeric histone - being highly expressed and essential for precise chromosome segregation during mitotic divisions - CPAR-1 displays distinct characteristics: it exhibits lower expression levels but shows specific enrichment on meiotic chromosomes. Importantly, CPAR-1 undergoes separase-mediated proteolytic cleavage at the meiosis I metaphase-to-anaphase transition, implying a specialized, though not yet fully characterized, role in meiotic processes [monen_separase_2015].',\n",
       "  'evolution': 'null',\n",
       "  'expression': 'null',\n",
       "  'knock_out': 'null',\n",
       "  'function': 'The active centromeric chromatin, enriched with cenH3, defines the region of kinetochore interaction for spindle formation. However, certain functional differences in chromosome segregation are observed across different species. For example, in vertebrates, CENP-A is concentrated in a compact centromeric region, whereas in nematodes, HCP-3 is distributed diffusely, corresponding to a holocentric organization [hara_critical_2017]. Notably, in certain holocentric organisms, cenH3 appears dispensable for meiotic chromosome segregation while remaining essential for mitosis. As demonstrated in Caenorhabditis elegans, cenH3 loading is specifically eliminated following meiosis I, and RNAi-mediated depletion of CENP-A during meiosis fails to disrupt proper chromosome segregation [monen_differential_2005]. This stands in striking contrast to mitotic divisions, where cenH3 is absolutely required for kinetochore assembly and faithful chromosome segregation. Moreover, C. elegans and C. remanei possess a second cenH3 histone gene that likely performs specialized functions distinct from canonical cenH3 roles [monen_separase_2015]. For more detailed information see the \"gene\" section.',\n",
       "  'sequence': 'null',\n",
       "  'localization': 'null',\n",
       "  'deposition': 'null',\n",
       "  'structure': 'null',\n",
       "  'interactions': 'cenH3 nucleosomes stabilize the inner kinetochore known as the CCAN complex (Constitutive Centromere-Associated Network). The initiation of kinetochore assembly involves the interaction between CENP-A and CENP-C [watanabe_cdk1-mediated_2019, walstein_assembly_2021]. CDK1-mediated phosphorylation of CENP-C enhances its binding to CENP-A nucleosomes during mitosis, as shown in both chicken and human cells [watanabe_cdk1-mediated_2019]. However, the functional importance of this interaction varies: while it is nonessential for viability in chicken cells, it is crucial for proper CENP-C kinetochore localization and long-term survival in human cells [watanabe_cdk1-mediated_2019]. It was demonstrated that binding of the CENP-C protein stiffens the cenH3 nucleosome, decreasing its flexibility and stabilizing its conformation, which promotes chromatin condensation and restricts access for transcriptional machinery [melters_intrinsic_2019]. CENP-N specifically recognizes CENP-A in the centromeric nucleosome by binding to its L1 loop through key residues (e.g., E3, T4, E7 in humans) and stabilizes the interaction via electrostatic contacts with nucleosomal DNA [chittori_structural_2018]. This interaction has co-evolved across species to ensure accurate kinetochore assembly and epigenetic centromere inheritance [chittori_structural_2018].',\n",
       "  'disease': 'null',\n",
       "  'caveats': 'null',\n",
       "  'relations': None}]"
      ]
     },
     "execution_count": 56,
     "metadata": {},
     "output_type": "execute_result"
    }
   ],
   "source": [
    "df.to_dict(orient=\"records\")"
   ]
  },
  {
   "cell_type": "code",
   "execution_count": 58,
   "id": "f197c829-fabc-499f-b8b1-6029fa7f5932",
   "metadata": {
    "tags": []
   },
   "outputs": [
    {
     "name": "stdout",
     "output_type": "stream",
     "text": [
      "UPDATE histone_description SET deposition=\"In humans and most animals, cenH3 is expressed in G2 phase, and but loading occurs during late mitosis and G1 phase of the cell cycle, mediated by specialized chaperones (HJURP in humans and CAL1 in Drosophila).\" WHERE id=94\n"
     ]
    }
   ],
   "source": [
    "deposition_desc = \"In humans and most animals, cenH3 is expressed in G2 phase, and but loading occurs during late mitosis and G1 phase of the cell cycle, mediated by specialized chaperones (HJURP in humans and CAL1 in Drosophila).\"\n",
    "query = f'UPDATE histone_description SET deposition=\"{deposition_desc}\" WHERE id=94'\n",
    "print(query)\n",
    "cursor.execute(query)"
   ]
  },
  {
   "cell_type": "code",
   "execution_count": 59,
   "id": "927fdb62-141c-48cd-bcbb-1eac88f5d60c",
   "metadata": {
    "tags": []
   },
   "outputs": [
    {
     "data": {
      "text/html": [
       "<div>\n",
       "<style scoped>\n",
       "    .dataframe tbody tr th:only-of-type {\n",
       "        vertical-align: middle;\n",
       "    }\n",
       "\n",
       "    .dataframe tbody tr th {\n",
       "        vertical-align: top;\n",
       "    }\n",
       "\n",
       "    .dataframe thead th {\n",
       "        text-align: right;\n",
       "    }\n",
       "</style>\n",
       "<table border=\"1\" class=\"dataframe\">\n",
       "  <thead>\n",
       "    <tr style=\"text-align: right;\">\n",
       "      <th></th>\n",
       "      <th>id</th>\n",
       "      <th>level</th>\n",
       "      <th>taxonomic_span</th>\n",
       "      <th>taxonomic_span_id</th>\n",
       "      <th>description</th>\n",
       "      <th>parent</th>\n",
       "      <th>id</th>\n",
       "      <th>summary</th>\n",
       "      <th>taxonomy</th>\n",
       "      <th>genes</th>\n",
       "      <th>...</th>\n",
       "      <th>knock_out</th>\n",
       "      <th>function</th>\n",
       "      <th>sequence</th>\n",
       "      <th>localization</th>\n",
       "      <th>deposition</th>\n",
       "      <th>structure</th>\n",
       "      <th>interactions</th>\n",
       "      <th>disease</th>\n",
       "      <th>caveats</th>\n",
       "      <th>relations</th>\n",
       "    </tr>\n",
       "  </thead>\n",
       "  <tbody>\n",
       "    <tr>\n",
       "      <th>0</th>\n",
       "      <td>cenH3_(Animals)</td>\n",
       "      <td>variant</td>\n",
       "      <td>Homo sapiens</td>\n",
       "      <td>9606</td>\n",
       "      <td>94</td>\n",
       "      <td>cenH3</td>\n",
       "      <td>94</td>\n",
       "      <td>cenH3_(Animals) is a centromere-specific histo...</td>\n",
       "      <td>null</td>\n",
       "      <td>The nematodes Caenorhabditis elegans and C. re...</td>\n",
       "      <td>...</td>\n",
       "      <td>null</td>\n",
       "      <td>The active centromeric chromatin, enriched wit...</td>\n",
       "      <td>null</td>\n",
       "      <td>null</td>\n",
       "      <td>In humans and most animals, cenH3 is expressed...</td>\n",
       "      <td>null</td>\n",
       "      <td>cenH3 nucleosomes stabilize the inner kinetoch...</td>\n",
       "      <td>null</td>\n",
       "      <td>null</td>\n",
       "      <td>None</td>\n",
       "    </tr>\n",
       "  </tbody>\n",
       "</table>\n",
       "<p>1 rows × 22 columns</p>\n",
       "</div>"
      ],
      "text/plain": [
       "                id    level taxonomic_span taxonomic_span_id  description  \\\n",
       "0  cenH3_(Animals)  variant   Homo sapiens              9606           94   \n",
       "\n",
       "  parent  id                                            summary taxonomy  \\\n",
       "0  cenH3  94  cenH3_(Animals) is a centromere-specific histo...     null   \n",
       "\n",
       "                                               genes  ... knock_out  \\\n",
       "0  The nematodes Caenorhabditis elegans and C. re...  ...      null   \n",
       "\n",
       "                                            function sequence localization  \\\n",
       "0  The active centromeric chromatin, enriched wit...     null         null   \n",
       "\n",
       "                                          deposition structure  \\\n",
       "0  In humans and most animals, cenH3 is expressed...      null   \n",
       "\n",
       "                                        interactions disease caveats relations  \n",
       "0  cenH3 nucleosomes stabilize the inner kinetoch...    null    null      None  \n",
       "\n",
       "[1 rows x 22 columns]"
      ]
     },
     "execution_count": 59,
     "metadata": {},
     "output_type": "execute_result"
    }
   ],
   "source": [
    "query = (\n",
    "    \"SELECT * FROM histone h LEFT JOIN histone_description hd \"\n",
    "    \"ON h.description = hd.id \"\n",
    "    \"WHERE h.id='cenH3_(Animals)'\"\n",
    ")\n",
    "cursor.execute(query)\n",
    "df = pd.DataFrame(cursor.fetchall(), columns=[i[0] for i in cursor.description])\n",
    "df"
   ]
  },
  {
   "cell_type": "code",
   "execution_count": 60,
   "id": "2057cfa2-0e04-4905-b14b-bcbfa5988a3e",
   "metadata": {
    "tags": []
   },
   "outputs": [
    {
     "data": {
      "text/plain": [
       "[{'id': 94,\n",
       "  'level': 'variant',\n",
       "  'taxonomic_span': 'Homo sapiens',\n",
       "  'taxonomic_span_id': '9606',\n",
       "  'description': 94,\n",
       "  'parent': 'cenH3',\n",
       "  'summary': 'cenH3_(Animals) is a centromere-specific histone variant in animals (Metazoa), often called CENP-A (Centromere Protein A) in mammals, and an important component of active centromere required for chromosome segregation.',\n",
       "  'taxonomy': 'null',\n",
       "  'genes': 'The nematodes Caenorhabditis elegans and C. remanei possess two genes encoding cenH3: HCP-3 (also known as CeCENP-A) and CPAR-1 [monen_separase_2015, monen_differential_2005]. While HCP-3 functions as the predominant centromeric histone - being highly expressed and essential for precise chromosome segregation during mitotic divisions - CPAR-1 displays distinct characteristics: it exhibits lower expression levels but shows specific enrichment on meiotic chromosomes. Importantly, CPAR-1 undergoes separase-mediated proteolytic cleavage at the meiosis I metaphase-to-anaphase transition, implying a specialized, though not yet fully characterized, role in meiotic processes [monen_separase_2015].',\n",
       "  'evolution': 'null',\n",
       "  'expression': 'null',\n",
       "  'knock_out': 'null',\n",
       "  'function': 'The active centromeric chromatin, enriched with cenH3, defines the region of kinetochore interaction for spindle formation. However, certain functional differences in chromosome segregation are observed across different species. For example, in vertebrates, CENP-A is concentrated in a compact centromeric region, whereas in nematodes, HCP-3 is distributed diffusely, corresponding to a holocentric organization [hara_critical_2017]. Notably, in certain holocentric organisms, cenH3 appears dispensable for meiotic chromosome segregation while remaining essential for mitosis. As demonstrated in Caenorhabditis elegans, cenH3 loading is specifically eliminated following meiosis I, and RNAi-mediated depletion of CENP-A during meiosis fails to disrupt proper chromosome segregation [monen_differential_2005]. This stands in striking contrast to mitotic divisions, where cenH3 is absolutely required for kinetochore assembly and faithful chromosome segregation. Moreover, C. elegans and C. remanei possess a second cenH3 histone gene that likely performs specialized functions distinct from canonical cenH3 roles [monen_separase_2015]. For more detailed information see the \"gene\" section.',\n",
       "  'sequence': 'null',\n",
       "  'localization': 'null',\n",
       "  'deposition': 'In humans and most animals, cenH3 is expressed in G2 phase, and but loading occurs during late mitosis and G1 phase of the cell cycle, mediated by specialized chaperones (HJURP in humans and CAL1 in Drosophila).',\n",
       "  'structure': 'null',\n",
       "  'interactions': 'cenH3 nucleosomes stabilize the inner kinetochore known as the CCAN complex (Constitutive Centromere-Associated Network). The initiation of kinetochore assembly involves the interaction between CENP-A and CENP-C [watanabe_cdk1-mediated_2019, walstein_assembly_2021]. CDK1-mediated phosphorylation of CENP-C enhances its binding to CENP-A nucleosomes during mitosis, as shown in both chicken and human cells [watanabe_cdk1-mediated_2019]. However, the functional importance of this interaction varies: while it is nonessential for viability in chicken cells, it is crucial for proper CENP-C kinetochore localization and long-term survival in human cells [watanabe_cdk1-mediated_2019]. It was demonstrated that binding of the CENP-C protein stiffens the cenH3 nucleosome, decreasing its flexibility and stabilizing its conformation, which promotes chromatin condensation and restricts access for transcriptional machinery [melters_intrinsic_2019]. CENP-N specifically recognizes CENP-A in the centromeric nucleosome by binding to its L1 loop through key residues (e.g., E3, T4, E7 in humans) and stabilizes the interaction via electrostatic contacts with nucleosomal DNA [chittori_structural_2018]. This interaction has co-evolved across species to ensure accurate kinetochore assembly and epigenetic centromere inheritance [chittori_structural_2018].',\n",
       "  'disease': 'null',\n",
       "  'caveats': 'null',\n",
       "  'relations': None}]"
      ]
     },
     "execution_count": 60,
     "metadata": {},
     "output_type": "execute_result"
    }
   ],
   "source": [
    "df.to_dict(orient=\"records\")"
   ]
  },
  {
   "cell_type": "code",
   "execution_count": 61,
   "id": "5125e53d-3fe2-4026-88bb-5c92dfb0fe40",
   "metadata": {
    "tags": []
   },
   "outputs": [],
   "source": [
    "# Make sure data is committed to the database\n",
    "conn.commit()"
   ]
  },
  {
   "cell_type": "markdown",
   "id": "70138c4d-a65a-469f-92c7-5367f77a272d",
   "metadata": {},
   "source": [
    "## <span style=\"color:black\">Update description to cenH3_(Drosophilidae)</span>\n",
    "\n",
    "### <span style=\"color:black\">Update deposition</span>\n",
    "\n",
    "```In Drosophila melanogaster, the deposition of cenH3 into nucleosomes is mediated by the chaperone CAL1 in a DNA sequence-independent manner. CAL1 facilitates nucleosome formation through direct interaction with cenH3-H4 histones and additionally recruits the FACT complex (comprising Dre4 and SSRP1 subunits) along with RNA polymerase II (RNAPII) [chen_establishment_2015, chen_cal1_2014]. FACT destabilizes H3-containing nucleosomes, enabling RNAPII-mediated transcription of DNA, a prerequisite for the replacement of H3 with CENP-A/H4 [chen_establishment_2015]. In the absence of FACT, transcription is abolished, preventing CENP-A incorporation. Importantly, CAL1 mediates the assembly of octameric nucleosomes with left-handed DNA wrapping, analogous to canonical nucleosomes [chen_cal1_2014]. In Drosophila embryos, cenH3 loading occurs during anaphase [schuh_incorporation_2007].```"
   ]
  },
  {
   "cell_type": "code",
   "execution_count": 62,
   "id": "207c2302-aa9c-40c7-953c-4ad07174cf7d",
   "metadata": {
    "tags": []
   },
   "outputs": [
    {
     "data": {
      "text/html": [
       "<div>\n",
       "<style scoped>\n",
       "    .dataframe tbody tr th:only-of-type {\n",
       "        vertical-align: middle;\n",
       "    }\n",
       "\n",
       "    .dataframe tbody tr th {\n",
       "        vertical-align: top;\n",
       "    }\n",
       "\n",
       "    .dataframe thead th {\n",
       "        text-align: right;\n",
       "    }\n",
       "</style>\n",
       "<table border=\"1\" class=\"dataframe\">\n",
       "  <thead>\n",
       "    <tr style=\"text-align: right;\">\n",
       "      <th></th>\n",
       "      <th>id</th>\n",
       "      <th>level</th>\n",
       "      <th>taxonomic_span</th>\n",
       "      <th>taxonomic_span_id</th>\n",
       "      <th>description</th>\n",
       "      <th>parent</th>\n",
       "      <th>id</th>\n",
       "      <th>summary</th>\n",
       "      <th>taxonomy</th>\n",
       "      <th>genes</th>\n",
       "      <th>...</th>\n",
       "      <th>knock_out</th>\n",
       "      <th>function</th>\n",
       "      <th>sequence</th>\n",
       "      <th>localization</th>\n",
       "      <th>deposition</th>\n",
       "      <th>structure</th>\n",
       "      <th>interactions</th>\n",
       "      <th>disease</th>\n",
       "      <th>caveats</th>\n",
       "      <th>relations</th>\n",
       "    </tr>\n",
       "  </thead>\n",
       "  <tbody>\n",
       "    <tr>\n",
       "      <th>0</th>\n",
       "      <td>cenH3_(Drosophilidae)</td>\n",
       "      <td>variant</td>\n",
       "      <td>Drosophilidae</td>\n",
       "      <td>7214</td>\n",
       "      <td>238</td>\n",
       "      <td>cenH3_(Insecta)</td>\n",
       "      <td>238</td>\n",
       "      <td>cenH3_(Drosophilidae) is a centromere-specific...</td>\n",
       "      <td>None</td>\n",
       "      <td>In Drosophila, six cenH3 paralogs (Cid1–Cid6) ...</td>\n",
       "      <td>...</td>\n",
       "      <td>None</td>\n",
       "      <td>Similar to other animals, Drosophila cenH3 fun...</td>\n",
       "      <td>None</td>\n",
       "      <td>None</td>\n",
       "      <td>In Drosophila melanogaster, the deposition of ...</td>\n",
       "      <td>None</td>\n",
       "      <td>None</td>\n",
       "      <td>None</td>\n",
       "      <td>None</td>\n",
       "      <td>None</td>\n",
       "    </tr>\n",
       "  </tbody>\n",
       "</table>\n",
       "<p>1 rows × 22 columns</p>\n",
       "</div>"
      ],
      "text/plain": [
       "                      id    level taxonomic_span taxonomic_span_id  \\\n",
       "0  cenH3_(Drosophilidae)  variant  Drosophilidae              7214   \n",
       "\n",
       "   description           parent   id  \\\n",
       "0          238  cenH3_(Insecta)  238   \n",
       "\n",
       "                                             summary taxonomy  \\\n",
       "0  cenH3_(Drosophilidae) is a centromere-specific...     None   \n",
       "\n",
       "                                               genes  ... knock_out  \\\n",
       "0  In Drosophila, six cenH3 paralogs (Cid1–Cid6) ...  ...      None   \n",
       "\n",
       "                                            function sequence localization  \\\n",
       "0  Similar to other animals, Drosophila cenH3 fun...     None         None   \n",
       "\n",
       "                                          deposition structure interactions  \\\n",
       "0  In Drosophila melanogaster, the deposition of ...      None         None   \n",
       "\n",
       "  disease caveats relations  \n",
       "0    None    None      None  \n",
       "\n",
       "[1 rows x 22 columns]"
      ]
     },
     "execution_count": 62,
     "metadata": {},
     "output_type": "execute_result"
    }
   ],
   "source": [
    "query = (\n",
    "    \"SELECT * FROM histone h LEFT JOIN histone_description hd \"\n",
    "    \"ON h.description = hd.id \"\n",
    "    \"WHERE h.id='cenH3_(Drosophilidae)'\"\n",
    ")\n",
    "cursor.execute(query)\n",
    "df = pd.DataFrame(cursor.fetchall(), columns=[i[0] for i in cursor.description])\n",
    "df"
   ]
  },
  {
   "cell_type": "code",
   "execution_count": 63,
   "id": "b67f7b74-10a4-4f2d-b358-5f33ad7937ef",
   "metadata": {
    "tags": []
   },
   "outputs": [
    {
     "data": {
      "text/plain": [
       "[{'id': 238,\n",
       "  'level': 'variant',\n",
       "  'taxonomic_span': 'Drosophilidae',\n",
       "  'taxonomic_span_id': '7214',\n",
       "  'description': 238,\n",
       "  'parent': 'cenH3_(Insecta)',\n",
       "  'summary': 'cenH3_(Drosophilidae) is a centromere-specific histone variant in Drosophilidae family, functionally analogous to CENP-A in mammals.',\n",
       "  'taxonomy': None,\n",
       "  'genes': 'In Drosophila, six cenH3 paralogs (Cid1–Cid6) have been identified: Cid1, Cid4, and Cid6 (and likely Cid2) are essential for mitotic chromosome segregation and are ubiquitously expressed in somatic cells, while the remaining paralogs are germline-specific and may play a role in suppressing centromere drive [kursel_gametic_2021, kursel_recurrent_2017].',\n",
       "  'evolution': None,\n",
       "  'expression': None,\n",
       "  'knock_out': None,\n",
       "  'function': 'Similar to other animals, Drosophila cenH3 functions primarily in kinetochore assembly through CENP-C recruitment. However, in contrast to vertebrates where CENP-A directly binds CENP-C, Drosophila depends on the CAL1 chaperone to bridge cenH3-CENP-C interaction for proper kinetochore formation and chromosome segregation [chen_cal1_2014].',\n",
       "  'sequence': None,\n",
       "  'localization': None,\n",
       "  'deposition': 'In Drosophila melanogaster, the deposition of cenH3 into nucleosomes is mediated by the chaperone CAL1 in a DNA sequence-independent manner. CAL1 facilitates nucleosome formation through direct interaction with cenH3-H4 histones and additionally recruits the FACT complex (comprising Dre4 and SSRP1 subunits) along with RNA polymerase II (RNAPII) [chen_establishment_2015, chen_cal1_2014]. FACT destabilizes H3-containing nucleosomes, enabling RNAPII-mediated transcription of DNA, a prerequisite for the replacement of H3 with CENP-A/H4 [chen_establishment_2015]. In the absence of FACT, transcription is abolished, preventing CENP-A incorporation. Importantly, CAL1 mediates the assembly of octameric nucleosomes with left-handed DNA wrapping, analogous to canonical nucleosomes [chen_cal1_2014].',\n",
       "  'structure': None,\n",
       "  'interactions': None,\n",
       "  'disease': None,\n",
       "  'caveats': None,\n",
       "  'relations': None}]"
      ]
     },
     "execution_count": 63,
     "metadata": {},
     "output_type": "execute_result"
    }
   ],
   "source": [
    "df.to_dict(orient=\"records\")"
   ]
  },
  {
   "cell_type": "code",
   "execution_count": 65,
   "id": "477a9978-b2e6-4b6c-9c11-ee12dac0b8f0",
   "metadata": {
    "tags": []
   },
   "outputs": [
    {
     "name": "stdout",
     "output_type": "stream",
     "text": [
      "UPDATE histone_description SET deposition=\"In Drosophila melanogaster, the deposition of cenH3 into nucleosomes is mediated by the chaperone CAL1 in a DNA sequence-independent manner. CAL1 facilitates nucleosome formation through direct interaction with cenH3-H4 histones and additionally recruits the FACT complex (comprising Dre4 and SSRP1 subunits) along with RNA polymerase II (RNAPII) [chen_establishment_2015, chen_cal1_2014]. FACT destabilizes H3-containing nucleosomes, enabling RNAPII-mediated transcription of DNA, a prerequisite for the replacement of H3 with CENP-A/H4 [chen_establishment_2015]. In the absence of FACT, transcription is abolished, preventing CENP-A incorporation. Importantly, CAL1 mediates the assembly of octameric nucleosomes with left-handed DNA wrapping, analogous to canonical nucleosomes [chen_cal1_2014]. In Drosophila embryos, cenH3 loading occurs during anaphase [schuh_incorporation_2007].\" WHERE id=238\n"
     ]
    }
   ],
   "source": [
    "deposition_desc = \"In Drosophila melanogaster, the deposition of cenH3 into nucleosomes is mediated by the chaperone CAL1 in a DNA sequence-independent manner. CAL1 facilitates nucleosome formation through direct interaction with cenH3-H4 histones and additionally recruits the FACT complex (comprising Dre4 and SSRP1 subunits) along with RNA polymerase II (RNAPII) [chen_establishment_2015, chen_cal1_2014]. FACT destabilizes H3-containing nucleosomes, enabling RNAPII-mediated transcription of DNA, a prerequisite for the replacement of H3 with CENP-A/H4 [chen_establishment_2015]. In the absence of FACT, transcription is abolished, preventing CENP-A incorporation. Importantly, CAL1 mediates the assembly of octameric nucleosomes with left-handed DNA wrapping, analogous to canonical nucleosomes [chen_cal1_2014]. In Drosophila embryos, cenH3 loading occurs during anaphase [schuh_incorporation_2007].\"\n",
    "query = f'UPDATE histone_description SET deposition=\"{deposition_desc}\" WHERE id=238'\n",
    "print(query)\n",
    "cursor.execute(query)"
   ]
  },
  {
   "cell_type": "code",
   "execution_count": 66,
   "id": "81b6633a-f22a-4bcf-9501-82bca51e3651",
   "metadata": {
    "tags": []
   },
   "outputs": [
    {
     "data": {
      "text/html": [
       "<div>\n",
       "<style scoped>\n",
       "    .dataframe tbody tr th:only-of-type {\n",
       "        vertical-align: middle;\n",
       "    }\n",
       "\n",
       "    .dataframe tbody tr th {\n",
       "        vertical-align: top;\n",
       "    }\n",
       "\n",
       "    .dataframe thead th {\n",
       "        text-align: right;\n",
       "    }\n",
       "</style>\n",
       "<table border=\"1\" class=\"dataframe\">\n",
       "  <thead>\n",
       "    <tr style=\"text-align: right;\">\n",
       "      <th></th>\n",
       "      <th>id</th>\n",
       "      <th>level</th>\n",
       "      <th>taxonomic_span</th>\n",
       "      <th>taxonomic_span_id</th>\n",
       "      <th>description</th>\n",
       "      <th>parent</th>\n",
       "      <th>id</th>\n",
       "      <th>summary</th>\n",
       "      <th>taxonomy</th>\n",
       "      <th>genes</th>\n",
       "      <th>...</th>\n",
       "      <th>knock_out</th>\n",
       "      <th>function</th>\n",
       "      <th>sequence</th>\n",
       "      <th>localization</th>\n",
       "      <th>deposition</th>\n",
       "      <th>structure</th>\n",
       "      <th>interactions</th>\n",
       "      <th>disease</th>\n",
       "      <th>caveats</th>\n",
       "      <th>relations</th>\n",
       "    </tr>\n",
       "  </thead>\n",
       "  <tbody>\n",
       "    <tr>\n",
       "      <th>0</th>\n",
       "      <td>cenH3_(Drosophilidae)</td>\n",
       "      <td>variant</td>\n",
       "      <td>Drosophilidae</td>\n",
       "      <td>7214</td>\n",
       "      <td>238</td>\n",
       "      <td>cenH3_(Insecta)</td>\n",
       "      <td>238</td>\n",
       "      <td>cenH3_(Drosophilidae) is a centromere-specific...</td>\n",
       "      <td>None</td>\n",
       "      <td>In Drosophila, six cenH3 paralogs (Cid1–Cid6) ...</td>\n",
       "      <td>...</td>\n",
       "      <td>None</td>\n",
       "      <td>Similar to other animals, Drosophila cenH3 fun...</td>\n",
       "      <td>None</td>\n",
       "      <td>None</td>\n",
       "      <td>In Drosophila melanogaster, the deposition of ...</td>\n",
       "      <td>None</td>\n",
       "      <td>None</td>\n",
       "      <td>None</td>\n",
       "      <td>None</td>\n",
       "      <td>None</td>\n",
       "    </tr>\n",
       "  </tbody>\n",
       "</table>\n",
       "<p>1 rows × 22 columns</p>\n",
       "</div>"
      ],
      "text/plain": [
       "                      id    level taxonomic_span taxonomic_span_id  \\\n",
       "0  cenH3_(Drosophilidae)  variant  Drosophilidae              7214   \n",
       "\n",
       "   description           parent   id  \\\n",
       "0          238  cenH3_(Insecta)  238   \n",
       "\n",
       "                                             summary taxonomy  \\\n",
       "0  cenH3_(Drosophilidae) is a centromere-specific...     None   \n",
       "\n",
       "                                               genes  ... knock_out  \\\n",
       "0  In Drosophila, six cenH3 paralogs (Cid1–Cid6) ...  ...      None   \n",
       "\n",
       "                                            function sequence localization  \\\n",
       "0  Similar to other animals, Drosophila cenH3 fun...     None         None   \n",
       "\n",
       "                                          deposition structure interactions  \\\n",
       "0  In Drosophila melanogaster, the deposition of ...      None         None   \n",
       "\n",
       "  disease caveats relations  \n",
       "0    None    None      None  \n",
       "\n",
       "[1 rows x 22 columns]"
      ]
     },
     "execution_count": 66,
     "metadata": {},
     "output_type": "execute_result"
    }
   ],
   "source": [
    "query = (\n",
    "    \"SELECT * FROM histone h LEFT JOIN histone_description hd \"\n",
    "    \"ON h.description = hd.id \"\n",
    "    \"WHERE h.id='cenH3_(Drosophilidae)'\"\n",
    ")\n",
    "cursor.execute(query)\n",
    "df = pd.DataFrame(cursor.fetchall(), columns=[i[0] for i in cursor.description])\n",
    "df"
   ]
  },
  {
   "cell_type": "code",
   "execution_count": 67,
   "id": "32fd3bb8-ab2b-4b62-8ddd-68b56c10695f",
   "metadata": {
    "tags": []
   },
   "outputs": [
    {
     "data": {
      "text/plain": [
       "[{'id': 238,\n",
       "  'level': 'variant',\n",
       "  'taxonomic_span': 'Drosophilidae',\n",
       "  'taxonomic_span_id': '7214',\n",
       "  'description': 238,\n",
       "  'parent': 'cenH3_(Insecta)',\n",
       "  'summary': 'cenH3_(Drosophilidae) is a centromere-specific histone variant in Drosophilidae family, functionally analogous to CENP-A in mammals.',\n",
       "  'taxonomy': None,\n",
       "  'genes': 'In Drosophila, six cenH3 paralogs (Cid1–Cid6) have been identified: Cid1, Cid4, and Cid6 (and likely Cid2) are essential for mitotic chromosome segregation and are ubiquitously expressed in somatic cells, while the remaining paralogs are germline-specific and may play a role in suppressing centromere drive [kursel_gametic_2021, kursel_recurrent_2017].',\n",
       "  'evolution': None,\n",
       "  'expression': None,\n",
       "  'knock_out': None,\n",
       "  'function': 'Similar to other animals, Drosophila cenH3 functions primarily in kinetochore assembly through CENP-C recruitment. However, in contrast to vertebrates where CENP-A directly binds CENP-C, Drosophila depends on the CAL1 chaperone to bridge cenH3-CENP-C interaction for proper kinetochore formation and chromosome segregation [chen_cal1_2014].',\n",
       "  'sequence': None,\n",
       "  'localization': None,\n",
       "  'deposition': 'In Drosophila melanogaster, the deposition of cenH3 into nucleosomes is mediated by the chaperone CAL1 in a DNA sequence-independent manner. CAL1 facilitates nucleosome formation through direct interaction with cenH3-H4 histones and additionally recruits the FACT complex (comprising Dre4 and SSRP1 subunits) along with RNA polymerase II (RNAPII) [chen_establishment_2015, chen_cal1_2014]. FACT destabilizes H3-containing nucleosomes, enabling RNAPII-mediated transcription of DNA, a prerequisite for the replacement of H3 with CENP-A/H4 [chen_establishment_2015]. In the absence of FACT, transcription is abolished, preventing CENP-A incorporation. Importantly, CAL1 mediates the assembly of octameric nucleosomes with left-handed DNA wrapping, analogous to canonical nucleosomes [chen_cal1_2014]. In Drosophila embryos, cenH3 loading occurs during anaphase [schuh_incorporation_2007].',\n",
       "  'structure': None,\n",
       "  'interactions': None,\n",
       "  'disease': None,\n",
       "  'caveats': None,\n",
       "  'relations': None}]"
      ]
     },
     "execution_count": 67,
     "metadata": {},
     "output_type": "execute_result"
    }
   ],
   "source": [
    "df.to_dict(orient=\"records\")"
   ]
  },
  {
   "cell_type": "code",
   "execution_count": 68,
   "id": "cc9ef927-6e10-4ffc-a2d7-44fb9372b459",
   "metadata": {
    "tags": []
   },
   "outputs": [],
   "source": [
    "# Make sure data is committed to the database\n",
    "conn.commit()"
   ]
  },
  {
   "cell_type": "markdown",
   "id": "93708303-689f-4f34-a106-52d7a580c241",
   "metadata": {},
   "source": [
    "## <span style=\"color:black\">Update description to cenH3_(Homo_sapiens)</span>\n",
    "\n",
    "### <span style=\"color:black\">Update sequence</span>\n",
    "\n",
    "```Post-translational modifications of specific CENP-A residues regulate centromere function. In humans, CENP-A is subject to serine phosphorylation at positions 7, 16, 18, and 68, glycine methylation at position 1, as well as lysine 124 ubiquitination and acetylation [wong_epigenetic_2020, eot-houllier_aurora_2018, gattat_phosphorylation_2013]. Phosphorylation of Ser7 regulates the localization of kinetochore proteins, including the association with CENP-C, and ensures proper mitotic progression. Phosphorylation of Ser68 prevents premature CENP-A loading. During the cell cycle, the conserved residue K124 locaded in histone fold undergoes cyclic modifications [bui_internal_2017]. In G1/S phase, K124ac compacts the nucleosome, interfering with CENP-C binding (crucial for kinetochore assembly) while simultaneously promoting chromatin decondensation for centromere replication. During S phase, K124me stabilizes nucleosomes. Furthermore, K124 mutations disrupt both mitosis and replication, demonstrating its critical role in centromere epigenetic regulation [bui_internal_2017].```\n",
    "\n",
    "### <span style=\"color:black\">Update interactions</span>\n",
    "\n",
    "```CENP-A nucleosomes stabilize the inner kinetochore known as the CCAN complex (Constitutive Centromere-Associated Network) through direct interaction with CENP-C and CENP-N proteins of this complex [cao_constitutive_2018, pesenti_structure_2022, sridhar_kinetochore_2022, xu_gross_2023]. The CENP-A targeting domain (CATD) along with its N- and C-terminal tails play crucial roles in this process [logsdon_both_2015]. Human CENP-C has been demonstrated to bind with the CENP-A C-terminal hydrophobic tail, the acidic patch of H2A-H2B and histone H4, thereby facilitating its engagement with all four histone subunits present on the nucleosome surface [allu_structure_2019]. The binding of CENP-C to CENP-A is critical for long-term viability in human RPE-1 cells [watanabe_cdk1-mediated_2019]. This interaction is stabilized by the process of CENP-C phosphorylation mediated by CDK1, which strengthens the complex's structure through the occurrence of an intramolecular interaction [watanabe_cdk1-mediated_2019, walstein_assembly_2021, ariyoshi_cryoem_2021]. Recruitment of CENP-C also depends on the N-terminal tail of CENP-A, albeit through an indirect mechanism [logsdon_both_2015]. The direct binding of human CENP-N to the CENP-A nucleosome is mediated by its recognition of the CATD, which encompasses the unique L1 and RG loops [chittori_structural_2018, tian_molecular_2018, ariyoshi_cryoem_2021]. However, cryo-EM studies have revealed that CENP-C and CENP-N bind to a single CENP-A nucleosome in a non-simultaneous manner, thereby demonstrating an asymmetric structure where CENP-C and CENP-N bind to opposite sides of the nucleosome [ariyoshi_cryoem_2021]. Furthermore, in 94% of cases, phosphorylated CENP-C exhibits exclusive binding to the RG-loop of CENP-A, suggesting that this particular interaction is predominant [ariyoshi_cryoem_2021]. In addition, in vitro reconstruction of the human CENP-C protein showed that CENP-C can bind to two centromeric nucleosomes simultaneously [walstein_assembly_2021]. Nevertheless, interactions with CENP-C or CENP-N do not determine the stability of CENP-A nucleosomes in chromatin [cao_constitutive_2018].```"
   ]
  },
  {
   "cell_type": "code",
   "execution_count": 69,
   "id": "73773984-02bf-468b-ac2b-f5fb4d22490c",
   "metadata": {
    "tags": []
   },
   "outputs": [
    {
     "data": {
      "text/html": [
       "<div>\n",
       "<style scoped>\n",
       "    .dataframe tbody tr th:only-of-type {\n",
       "        vertical-align: middle;\n",
       "    }\n",
       "\n",
       "    .dataframe tbody tr th {\n",
       "        vertical-align: top;\n",
       "    }\n",
       "\n",
       "    .dataframe thead th {\n",
       "        text-align: right;\n",
       "    }\n",
       "</style>\n",
       "<table border=\"1\" class=\"dataframe\">\n",
       "  <thead>\n",
       "    <tr style=\"text-align: right;\">\n",
       "      <th></th>\n",
       "      <th>id</th>\n",
       "      <th>level</th>\n",
       "      <th>taxonomic_span</th>\n",
       "      <th>taxonomic_span_id</th>\n",
       "      <th>description</th>\n",
       "      <th>parent</th>\n",
       "      <th>id</th>\n",
       "      <th>summary</th>\n",
       "      <th>taxonomy</th>\n",
       "      <th>genes</th>\n",
       "      <th>...</th>\n",
       "      <th>knock_out</th>\n",
       "      <th>function</th>\n",
       "      <th>sequence</th>\n",
       "      <th>localization</th>\n",
       "      <th>deposition</th>\n",
       "      <th>structure</th>\n",
       "      <th>interactions</th>\n",
       "      <th>disease</th>\n",
       "      <th>caveats</th>\n",
       "      <th>relations</th>\n",
       "    </tr>\n",
       "  </thead>\n",
       "  <tbody>\n",
       "    <tr>\n",
       "      <th>0</th>\n",
       "      <td>cenH3_(Homo_sapiens)</td>\n",
       "      <td>variant</td>\n",
       "      <td>Homo sapiens</td>\n",
       "      <td>9606</td>\n",
       "      <td>158</td>\n",
       "      <td>cenH3_(Mammalia)</td>\n",
       "      <td>158</td>\n",
       "      <td>cenH3_(Homo_sapiens) is a centromere-specific ...</td>\n",
       "      <td>null</td>\n",
       "      <td>null</td>\n",
       "      <td>...</td>\n",
       "      <td>CENP-A depletion at different stages of the ce...</td>\n",
       "      <td>While CENP-A is a crucial centromeric marker, ...</td>\n",
       "      <td>The conserved residue K124 locaded in histone ...</td>\n",
       "      <td>CENP-A in human chromosomes usually localized ...</td>\n",
       "      <td>Deposition of CENP-A into centromeric nucleoso...</td>\n",
       "      <td>CENP-A confers enhanced flexibility and elasti...</td>\n",
       "      <td>CENP-A nucleosomes stabilize the inner kinetoc...</td>\n",
       "      <td>null</td>\n",
       "      <td>null</td>\n",
       "      <td>None</td>\n",
       "    </tr>\n",
       "  </tbody>\n",
       "</table>\n",
       "<p>1 rows × 22 columns</p>\n",
       "</div>"
      ],
      "text/plain": [
       "                     id    level taxonomic_span taxonomic_span_id  \\\n",
       "0  cenH3_(Homo_sapiens)  variant   Homo sapiens              9606   \n",
       "\n",
       "   description            parent   id  \\\n",
       "0          158  cenH3_(Mammalia)  158   \n",
       "\n",
       "                                             summary taxonomy genes  ...  \\\n",
       "0  cenH3_(Homo_sapiens) is a centromere-specific ...     null  null  ...   \n",
       "\n",
       "                                           knock_out  \\\n",
       "0  CENP-A depletion at different stages of the ce...   \n",
       "\n",
       "                                            function  \\\n",
       "0  While CENP-A is a crucial centromeric marker, ...   \n",
       "\n",
       "                                            sequence  \\\n",
       "0  The conserved residue K124 locaded in histone ...   \n",
       "\n",
       "                                        localization  \\\n",
       "0  CENP-A in human chromosomes usually localized ...   \n",
       "\n",
       "                                          deposition  \\\n",
       "0  Deposition of CENP-A into centromeric nucleoso...   \n",
       "\n",
       "                                           structure  \\\n",
       "0  CENP-A confers enhanced flexibility and elasti...   \n",
       "\n",
       "                                        interactions disease caveats relations  \n",
       "0  CENP-A nucleosomes stabilize the inner kinetoc...    null    null      None  \n",
       "\n",
       "[1 rows x 22 columns]"
      ]
     },
     "execution_count": 69,
     "metadata": {},
     "output_type": "execute_result"
    }
   ],
   "source": [
    "query = (\n",
    "    \"SELECT * FROM histone h LEFT JOIN histone_description hd \"\n",
    "    \"ON h.description = hd.id \"\n",
    "    \"WHERE h.id='cenH3_(Homo_sapiens)'\"\n",
    ")\n",
    "cursor.execute(query)\n",
    "df = pd.DataFrame(cursor.fetchall(), columns=[i[0] for i in cursor.description])\n",
    "df"
   ]
  },
  {
   "cell_type": "code",
   "execution_count": 70,
   "id": "cd7e3be6-a4d8-4257-a806-ebfdfc451a1f",
   "metadata": {
    "tags": []
   },
   "outputs": [
    {
     "data": {
      "text/plain": [
       "[{'id': 158,\n",
       "  'level': 'variant',\n",
       "  'taxonomic_span': 'Homo sapiens',\n",
       "  'taxonomic_span_id': '9606',\n",
       "  'description': 158,\n",
       "  'parent': 'cenH3_(Mammalia)',\n",
       "  'summary': 'cenH3_(Homo_sapiens) is a centromere-specific histone variant in human, often called CENP-A (Centromere Protein A), and an important component of active centromere required for chromosome segregation. For a general description see cenH3_(Animals) class.',\n",
       "  'taxonomy': 'null',\n",
       "  'genes': 'null',\n",
       "  'evolution': 'null',\n",
       "  'expression': 'null',\n",
       "  'knock_out': 'CENP-A depletion at different stages of the cell cycle showed that the earlier CENP-A is removed, the more errors accumulate during later cell divisions [hoffmann_cenp-is_2016].',\n",
       "  'function': 'While CENP-A is a crucial centromeric marker, the formation of a functional kinetochore and proper chromosome segregation requires an epigenetic context, including the targeting of the chaperone HJURP and histone PTMs [hara_critical_2017, hori_histone_2014]. Human CENP-A plays an important role in stabilization and retention inner kinetochore during G1 phase of cell cycle [pesenti_structure_2022, hoffmann_cenp-is_2016]. However, mitosis can proceed without CENP-A as long as the CENP-B protein remains stably bound to centromeric sequences, facilitating the assembly of the inner kinetochore [hoffmann_cenp-is_2016].',\n",
       "  'sequence': 'The conserved residue K124 locaded in histone fold of CENP-A plays a crucial role in regulating centromeric function. During the cell cycle, K124 undergoes cyclic modifications [bui_internal_2017]. In G1/S phase, K124ac compacts the nucleosome, interfering with CENP-C binding (crucial for kinetochore assembly) while simultaneously promoting chromatin decondensation for centromere replication [bui_internal_2017]. During S phase, K124me stabilizes nucleosomes. Furthermore, K124 mutations disrupt both mitosis and replication, demonstrating its critical role in centromere epigenetic regulation [bui_internal_2017].',\n",
       "  'localization': 'CENP-A in human chromosomes usually localized in active centromere region within αSat arrays and associated with reduced CpG methylation [altemose_complete_2022, gershman_epigenetic_2022]. Although the centromere position is defined as a window with high CENP-A enrichment (totals 190 to 570 kb on each chromosome), CENP-A was also found near CDRs (centromere dip regions) and no all dips in CpG methylation was associated with CENP-A [altemose_complete_2022]. CENP-A is typically observed in young HOR-haps (although there are a few notable exceptions) [altemose_complete_2022]. Additionally, an analysis of CENP-A enrichment patterns on human chromosome X demonstrated that these patterns exhibit considerable inter-individual variability [altemose_complete_2022].',\n",
       "  'deposition': 'Deposition of CENP-A into centromeric nucleosomes during the late telophase/early G1 phase of the cell cycle mediated by four major and some minor factors and regulators, which are important for identifying centromeric localization and limit the process to a single round [pan_mechanism_2019, xu_gross_2023]. The specific CENP-A chaperone HJURP (Holliday Junction Recognition Protein) plays a key role in stabilizing the binding of CENP-A to histone H4 [foltz_centromere_2009, dunleavy_hjurp_2009, shuaib_hjurp_2010]. To target centromeres and load a new CENP-A HJURP form a stoichiometric complex with the two-subunit Mis18 complex (Mis18α and Mis18β) and Mis18-binding protein 1 (M18BP1) [hayashi_mis16_2004, pan_mechanism_2019]. Among minor proteins required for CENP-A loading there are RSF1, MgcRacGAP, Condensin II, and KAT7 [pan_mechanism_2019]. Furthermore, loading of CENP-A into centromeric nucleosomes contributed by CENP-I and CENP-B proteins that are specifically binds to the centromeric DNA. CENP-I, a subunit of the inner kinetochore complex, has been demonstrated to stabilise CENP-A nucleosomes in vitro [hu_cenp-i_2023]. The loss of CENP-B led to a slightly decrease in CENP-A incorporation, though the effect was less pronounced than with HJURP deletion, and a reduction in M18BP1 binding at centromeres assembled with a CENP-A variant without its CENP-C binding domain [fachinetti_dna_2015]. Notably, in contrast to maintenance, de novo centromere formation (e.g., neocentromere establishment) depends on HJURP-mediated recruitment of CENP-C [tachiwana_hjurp_2015]. The deposition of CENP-A depends not only on protein factors but also on the characteristics of alpha-satellite DNA. CENP-B boxes stabilize CENP-A nucleosomes through interaction with the CENP-B protein [mcnulty_alpha_2018]. During early G1 phase, RNA polymerase II-mediated transcription of alpha-satellite DNA generates non-coding RNAs that facilitate recruitment of the CENP-A/HJURP complex [mcnulty_alpha_2018]. Furthermore, post-translational histone modifications (H3K4me2, H3K36me2, H3K9ac, H4K16ac) establish a permissive chromatin environment and prevent heterochromatin spreading [mcnulty_alpha_2018].',\n",
       "  'structure': 'CENP-A confers enhanced flexibility and elasticity to nucleosomes, influencing centromeric chromatin organization and ensuring accurate chromosome segregation during mitosis [fedulova_molecular_2024, pitman_minimal_2020, melters_intrinsic_2019, tachiwana_crystal_2011]. Partial nucleosome unwrapping in CENP-A-containing nucleosomes is promoted by its shortened αN-helix [roulland_flexible_2016]. Cryo-EM analysis of human CENP-A nucleosomes revealed asymmetric DNA end flexibility, with the right DNA end being highly dynamic and partially detached from the histone core while the left end remained stably bound, a sequence-dependent behavior confirmed by molecular dynamics simulations [kono_free_2019, boopathi_phase-plate_2020]. Notably, this intrinsic asymmetry can be overcome by antibody stabilization. The single-chain antibody fragment PL2-6 symmetrically stabilizes both DNA ends through allosteric interactions, despite the inherent sequence-dependent asymmetry [zhou_atomic_2019, dogan_cenp-nucleosome_2021]. Molecular dynamics simulations revealed that CENP-A-containing tetramers exhibit enhanced stability but distinct dynamics compared to canonical octameric structures, explaining the unusual properties of CENP-A nucleosomes [zhao_oligomerization_2019].',\n",
       "  'interactions': \"CENP-A nucleosomes stabilize the inner kinetochore known as the CCAN complex (Constitutive Centromere-Associated Network) through direct interaction with CENP-C and CENP-N proteins of this complex [cao_constitutive_2018, pesenti_structure_2022, sridhar_kinetochore_2022, xu_gross_2023]. Human CENP-C has been demonstrated to bind with the CENP-A C-terminal hydrophobic tail, the acidic patch of H2A-H2B and histone H4, thereby facilitating its engagement with all four histone subunits present on the nucleosome surface [allu_structure_2019]. The binding of CENP-C to CENP-A is critical for long-term viability in human RPE-1 cells [watanabe_cdk1-mediated_2019]. This interaction is stabilized by the process of CENP-C phosphorylation mediated by CDK1, which strengthens the complex's structure through the occurrence of an intramolecular interaction [watanabe_cdk1-mediated_2019, walstein_assembly_2021, ariyoshi_cryoem_2021]. Human CENP-N has been observed to bind to CENP-A nucleosomes through a direct recognition of the L1 loop and RG loop of CENP-A [chittori_structural_2018, tian_molecular_2018, ariyoshi_cryoem_2021]. However, cryo-EM studies have revealed that CENP-C and CENP-N bind to a single CENP-A nucleosome in a non-simultaneous manner, thereby demonstrating an asymmetric structure where CENP-C and CENP-N bind to opposite sides of the nucleosome [ariyoshi_cryoem_2021]. Furthermore, in 94% of cases, phosphorylated CENP-C exhibits exclusive binding to the RG-loop of CENP-A, suggesting that this particular interaction is predominant [ariyoshi_cryoem_2021]. In addition, in vitro reconstruction of the human CENP-C protein showed that CENP-C can bind to two centromeric nucleosomes simultaneously [walstein_assembly_2021]. Nevertheless, interactions with CENP-C or CENP-N do not determine the stability of CENP-A nucleosomes in chromatin [cao_constitutive_2018].\",\n",
       "  'disease': 'null',\n",
       "  'caveats': 'null',\n",
       "  'relations': None}]"
      ]
     },
     "execution_count": 70,
     "metadata": {},
     "output_type": "execute_result"
    }
   ],
   "source": [
    "df.to_dict(orient=\"records\")"
   ]
  },
  {
   "cell_type": "code",
   "execution_count": 72,
   "id": "565765e9-11dd-40dc-ba27-063f140348d2",
   "metadata": {
    "tags": []
   },
   "outputs": [
    {
     "name": "stdout",
     "output_type": "stream",
     "text": [
      "UPDATE histone_description SET sequence=\"Post-translational modifications of specific CENP-A residues regulate centromere function. In humans, CENP-A is subject to serine phosphorylation at positions 7, 16, 18, and 68, glycine methylation at position 1, as well as lysine 124 ubiquitination and acetylation [wong_epigenetic_2020, eot-houllier_aurora_2018, gattat_phosphorylation_2013]. Phosphorylation of Ser7 regulates the localization of kinetochore proteins, including the association with CENP-C, and ensures proper mitotic progression. Phosphorylation of Ser68 prevents premature CENP-A loading. During the cell cycle, the conserved residue K124 locaded in histone fold undergoes cyclic modifications [bui_internal_2017]. In G1/S phase, K124ac compacts the nucleosome, interfering with CENP-C binding (crucial for kinetochore assembly) while simultaneously promoting chromatin decondensation for centromere replication. During S phase, K124me stabilizes nucleosomes. Furthermore, K124 mutations disrupt both mitosis and replication, demonstrating its critical role in centromere epigenetic regulation [bui_internal_2017].\", interactions=\"CENP-A nucleosomes stabilize the inner kinetochore known as the CCAN complex (Constitutive Centromere-Associated Network) through direct interaction with CENP-C and CENP-N proteins of this complex [cao_constitutive_2018, pesenti_structure_2022, sridhar_kinetochore_2022, xu_gross_2023]. The CENP-A targeting domain (CATD) along with its N- and C-terminal tails play crucial roles in this process [logsdon_both_2015]. Human CENP-C has been demonstrated to bind with the CENP-A C-terminal hydrophobic tail, the acidic patch of H2A-H2B and histone H4, thereby facilitating its engagement with all four histone subunits present on the nucleosome surface [allu_structure_2019]. The binding of CENP-C to CENP-A is critical for long-term viability in human RPE-1 cells [watanabe_cdk1-mediated_2019]. This interaction is stabilized by the process of CENP-C phosphorylation mediated by CDK1, which strengthens the complex's structure through the occurrence of an intramolecular interaction [watanabe_cdk1-mediated_2019, walstein_assembly_2021, ariyoshi_cryoem_2021]. Recruitment of CENP-C also depends on the N-terminal tail of CENP-A, albeit through an indirect mechanism [logsdon_both_2015]. The direct binding of human CENP-N to the CENP-A nucleosome is mediated by its recognition of the CATD, which encompasses the unique L1 and RG loops [chittori_structural_2018, tian_molecular_2018, ariyoshi_cryoem_2021]. However, cryo-EM studies have revealed that CENP-C and CENP-N bind to a single CENP-A nucleosome in a non-simultaneous manner, thereby demonstrating an asymmetric structure where CENP-C and CENP-N bind to opposite sides of the nucleosome [ariyoshi_cryoem_2021]. Furthermore, in 94% of cases, phosphorylated CENP-C exhibits exclusive binding to the RG-loop of CENP-A, suggesting that this particular interaction is predominant [ariyoshi_cryoem_2021]. In addition, in vitro reconstruction of the human CENP-C protein showed that CENP-C can bind to two centromeric nucleosomes simultaneously [walstein_assembly_2021]. Nevertheless, interactions with CENP-C or CENP-N do not determine the stability of CENP-A nucleosomes in chromatin [cao_constitutive_2018].\" WHERE id=158\n"
     ]
    }
   ],
   "source": [
    "sequence_desc = \"Post-translational modifications of specific CENP-A residues regulate centromere function. In humans, CENP-A is subject to serine phosphorylation at positions 7, 16, 18, and 68, glycine methylation at position 1, as well as lysine 124 ubiquitination and acetylation [wong_epigenetic_2020, eot-houllier_aurora_2018, gattat_phosphorylation_2013]. Phosphorylation of Ser7 regulates the localization of kinetochore proteins, including the association with CENP-C, and ensures proper mitotic progression. Phosphorylation of Ser68 prevents premature CENP-A loading. During the cell cycle, the conserved residue K124 locaded in histone fold undergoes cyclic modifications [bui_internal_2017]. In G1/S phase, K124ac compacts the nucleosome, interfering with CENP-C binding (crucial for kinetochore assembly) while simultaneously promoting chromatin decondensation for centromere replication. During S phase, K124me stabilizes nucleosomes. Furthermore, K124 mutations disrupt both mitosis and replication, demonstrating its critical role in centromere epigenetic regulation [bui_internal_2017].\"\n",
    "interactions_desc = \"CENP-A nucleosomes stabilize the inner kinetochore known as the CCAN complex (Constitutive Centromere-Associated Network) through direct interaction with CENP-C and CENP-N proteins of this complex [cao_constitutive_2018, pesenti_structure_2022, sridhar_kinetochore_2022, xu_gross_2023]. The CENP-A targeting domain (CATD) along with its N- and C-terminal tails play crucial roles in this process [logsdon_both_2015]. Human CENP-C has been demonstrated to bind with the CENP-A C-terminal hydrophobic tail, the acidic patch of H2A-H2B and histone H4, thereby facilitating its engagement with all four histone subunits present on the nucleosome surface [allu_structure_2019]. The binding of CENP-C to CENP-A is critical for long-term viability in human RPE-1 cells [watanabe_cdk1-mediated_2019]. This interaction is stabilized by the process of CENP-C phosphorylation mediated by CDK1, which strengthens the complex's structure through the occurrence of an intramolecular interaction [watanabe_cdk1-mediated_2019, walstein_assembly_2021, ariyoshi_cryoem_2021]. Recruitment of CENP-C also depends on the N-terminal tail of CENP-A, albeit through an indirect mechanism [logsdon_both_2015]. The direct binding of human CENP-N to the CENP-A nucleosome is mediated by its recognition of the CATD, which encompasses the unique L1 and RG loops [chittori_structural_2018, tian_molecular_2018, ariyoshi_cryoem_2021]. However, cryo-EM studies have revealed that CENP-C and CENP-N bind to a single CENP-A nucleosome in a non-simultaneous manner, thereby demonstrating an asymmetric structure where CENP-C and CENP-N bind to opposite sides of the nucleosome [ariyoshi_cryoem_2021]. Furthermore, in 94% of cases, phosphorylated CENP-C exhibits exclusive binding to the RG-loop of CENP-A, suggesting that this particular interaction is predominant [ariyoshi_cryoem_2021]. In addition, in vitro reconstruction of the human CENP-C protein showed that CENP-C can bind to two centromeric nucleosomes simultaneously [walstein_assembly_2021]. Nevertheless, interactions with CENP-C or CENP-N do not determine the stability of CENP-A nucleosomes in chromatin [cao_constitutive_2018].\"\n",
    "query = f'UPDATE histone_description SET sequence=\"{sequence_desc}\", interactions=\"{interactions_desc}\" WHERE id=158'\n",
    "print(query)\n",
    "cursor.execute(query)"
   ]
  },
  {
   "cell_type": "code",
   "execution_count": 73,
   "id": "dd73ea7c-7cd1-4e82-9991-3de0bb985ac7",
   "metadata": {
    "tags": []
   },
   "outputs": [
    {
     "data": {
      "text/html": [
       "<div>\n",
       "<style scoped>\n",
       "    .dataframe tbody tr th:only-of-type {\n",
       "        vertical-align: middle;\n",
       "    }\n",
       "\n",
       "    .dataframe tbody tr th {\n",
       "        vertical-align: top;\n",
       "    }\n",
       "\n",
       "    .dataframe thead th {\n",
       "        text-align: right;\n",
       "    }\n",
       "</style>\n",
       "<table border=\"1\" class=\"dataframe\">\n",
       "  <thead>\n",
       "    <tr style=\"text-align: right;\">\n",
       "      <th></th>\n",
       "      <th>id</th>\n",
       "      <th>level</th>\n",
       "      <th>taxonomic_span</th>\n",
       "      <th>taxonomic_span_id</th>\n",
       "      <th>description</th>\n",
       "      <th>parent</th>\n",
       "      <th>id</th>\n",
       "      <th>summary</th>\n",
       "      <th>taxonomy</th>\n",
       "      <th>genes</th>\n",
       "      <th>...</th>\n",
       "      <th>knock_out</th>\n",
       "      <th>function</th>\n",
       "      <th>sequence</th>\n",
       "      <th>localization</th>\n",
       "      <th>deposition</th>\n",
       "      <th>structure</th>\n",
       "      <th>interactions</th>\n",
       "      <th>disease</th>\n",
       "      <th>caveats</th>\n",
       "      <th>relations</th>\n",
       "    </tr>\n",
       "  </thead>\n",
       "  <tbody>\n",
       "    <tr>\n",
       "      <th>0</th>\n",
       "      <td>cenH3_(Homo_sapiens)</td>\n",
       "      <td>variant</td>\n",
       "      <td>Homo sapiens</td>\n",
       "      <td>9606</td>\n",
       "      <td>158</td>\n",
       "      <td>cenH3_(Mammalia)</td>\n",
       "      <td>158</td>\n",
       "      <td>cenH3_(Homo_sapiens) is a centromere-specific ...</td>\n",
       "      <td>null</td>\n",
       "      <td>null</td>\n",
       "      <td>...</td>\n",
       "      <td>CENP-A depletion at different stages of the ce...</td>\n",
       "      <td>While CENP-A is a crucial centromeric marker, ...</td>\n",
       "      <td>Post-translational modifications of specific C...</td>\n",
       "      <td>CENP-A in human chromosomes usually localized ...</td>\n",
       "      <td>Deposition of CENP-A into centromeric nucleoso...</td>\n",
       "      <td>CENP-A confers enhanced flexibility and elasti...</td>\n",
       "      <td>CENP-A nucleosomes stabilize the inner kinetoc...</td>\n",
       "      <td>null</td>\n",
       "      <td>null</td>\n",
       "      <td>None</td>\n",
       "    </tr>\n",
       "  </tbody>\n",
       "</table>\n",
       "<p>1 rows × 22 columns</p>\n",
       "</div>"
      ],
      "text/plain": [
       "                     id    level taxonomic_span taxonomic_span_id  \\\n",
       "0  cenH3_(Homo_sapiens)  variant   Homo sapiens              9606   \n",
       "\n",
       "   description            parent   id  \\\n",
       "0          158  cenH3_(Mammalia)  158   \n",
       "\n",
       "                                             summary taxonomy genes  ...  \\\n",
       "0  cenH3_(Homo_sapiens) is a centromere-specific ...     null  null  ...   \n",
       "\n",
       "                                           knock_out  \\\n",
       "0  CENP-A depletion at different stages of the ce...   \n",
       "\n",
       "                                            function  \\\n",
       "0  While CENP-A is a crucial centromeric marker, ...   \n",
       "\n",
       "                                            sequence  \\\n",
       "0  Post-translational modifications of specific C...   \n",
       "\n",
       "                                        localization  \\\n",
       "0  CENP-A in human chromosomes usually localized ...   \n",
       "\n",
       "                                          deposition  \\\n",
       "0  Deposition of CENP-A into centromeric nucleoso...   \n",
       "\n",
       "                                           structure  \\\n",
       "0  CENP-A confers enhanced flexibility and elasti...   \n",
       "\n",
       "                                        interactions disease caveats relations  \n",
       "0  CENP-A nucleosomes stabilize the inner kinetoc...    null    null      None  \n",
       "\n",
       "[1 rows x 22 columns]"
      ]
     },
     "execution_count": 73,
     "metadata": {},
     "output_type": "execute_result"
    }
   ],
   "source": [
    "query = (\n",
    "    \"SELECT * FROM histone h LEFT JOIN histone_description hd \"\n",
    "    \"ON h.description = hd.id \"\n",
    "    \"WHERE h.id='cenH3_(Homo_sapiens)'\"\n",
    ")\n",
    "cursor.execute(query)\n",
    "df = pd.DataFrame(cursor.fetchall(), columns=[i[0] for i in cursor.description])\n",
    "df"
   ]
  },
  {
   "cell_type": "code",
   "execution_count": 74,
   "id": "99c20d8d-2132-4f10-8edb-874942ef59d3",
   "metadata": {
    "tags": []
   },
   "outputs": [
    {
     "data": {
      "text/plain": [
       "[{'id': 158,\n",
       "  'level': 'variant',\n",
       "  'taxonomic_span': 'Homo sapiens',\n",
       "  'taxonomic_span_id': '9606',\n",
       "  'description': 158,\n",
       "  'parent': 'cenH3_(Mammalia)',\n",
       "  'summary': 'cenH3_(Homo_sapiens) is a centromere-specific histone variant in human, often called CENP-A (Centromere Protein A), and an important component of active centromere required for chromosome segregation. For a general description see cenH3_(Animals) class.',\n",
       "  'taxonomy': 'null',\n",
       "  'genes': 'null',\n",
       "  'evolution': 'null',\n",
       "  'expression': 'null',\n",
       "  'knock_out': 'CENP-A depletion at different stages of the cell cycle showed that the earlier CENP-A is removed, the more errors accumulate during later cell divisions [hoffmann_cenp-is_2016].',\n",
       "  'function': 'While CENP-A is a crucial centromeric marker, the formation of a functional kinetochore and proper chromosome segregation requires an epigenetic context, including the targeting of the chaperone HJURP and histone PTMs [hara_critical_2017, hori_histone_2014]. Human CENP-A plays an important role in stabilization and retention inner kinetochore during G1 phase of cell cycle [pesenti_structure_2022, hoffmann_cenp-is_2016]. However, mitosis can proceed without CENP-A as long as the CENP-B protein remains stably bound to centromeric sequences, facilitating the assembly of the inner kinetochore [hoffmann_cenp-is_2016].',\n",
       "  'sequence': 'Post-translational modifications of specific CENP-A residues regulate centromere function. In humans, CENP-A is subject to serine phosphorylation at positions 7, 16, 18, and 68, glycine methylation at position 1, as well as lysine 124 ubiquitination and acetylation [wong_epigenetic_2020, eot-houllier_aurora_2018, gattat_phosphorylation_2013]. Phosphorylation of Ser7 regulates the localization of kinetochore proteins, including the association with CENP-C, and ensures proper mitotic progression. Phosphorylation of Ser68 prevents premature CENP-A loading. During the cell cycle, the conserved residue K124 locaded in histone fold undergoes cyclic modifications [bui_internal_2017]. In G1/S phase, K124ac compacts the nucleosome, interfering with CENP-C binding (crucial for kinetochore assembly) while simultaneously promoting chromatin decondensation for centromere replication. During S phase, K124me stabilizes nucleosomes. Furthermore, K124 mutations disrupt both mitosis and replication, demonstrating its critical role in centromere epigenetic regulation [bui_internal_2017].',\n",
       "  'localization': 'CENP-A in human chromosomes usually localized in active centromere region within αSat arrays and associated with reduced CpG methylation [altemose_complete_2022, gershman_epigenetic_2022]. Although the centromere position is defined as a window with high CENP-A enrichment (totals 190 to 570 kb on each chromosome), CENP-A was also found near CDRs (centromere dip regions) and no all dips in CpG methylation was associated with CENP-A [altemose_complete_2022]. CENP-A is typically observed in young HOR-haps (although there are a few notable exceptions) [altemose_complete_2022]. Additionally, an analysis of CENP-A enrichment patterns on human chromosome X demonstrated that these patterns exhibit considerable inter-individual variability [altemose_complete_2022].',\n",
       "  'deposition': 'Deposition of CENP-A into centromeric nucleosomes during the late telophase/early G1 phase of the cell cycle mediated by four major and some minor factors and regulators, which are important for identifying centromeric localization and limit the process to a single round [pan_mechanism_2019, xu_gross_2023]. The specific CENP-A chaperone HJURP (Holliday Junction Recognition Protein) plays a key role in stabilizing the binding of CENP-A to histone H4 [foltz_centromere_2009, dunleavy_hjurp_2009, shuaib_hjurp_2010]. To target centromeres and load a new CENP-A HJURP form a stoichiometric complex with the two-subunit Mis18 complex (Mis18α and Mis18β) and Mis18-binding protein 1 (M18BP1) [hayashi_mis16_2004, pan_mechanism_2019]. Among minor proteins required for CENP-A loading there are RSF1, MgcRacGAP, Condensin II, and KAT7 [pan_mechanism_2019]. Furthermore, loading of CENP-A into centromeric nucleosomes contributed by CENP-I and CENP-B proteins that are specifically binds to the centromeric DNA. CENP-I, a subunit of the inner kinetochore complex, has been demonstrated to stabilise CENP-A nucleosomes in vitro [hu_cenp-i_2023]. The loss of CENP-B led to a slightly decrease in CENP-A incorporation, though the effect was less pronounced than with HJURP deletion, and a reduction in M18BP1 binding at centromeres assembled with a CENP-A variant without its CENP-C binding domain [fachinetti_dna_2015]. Notably, in contrast to maintenance, de novo centromere formation (e.g., neocentromere establishment) depends on HJURP-mediated recruitment of CENP-C [tachiwana_hjurp_2015]. The deposition of CENP-A depends not only on protein factors but also on the characteristics of alpha-satellite DNA. CENP-B boxes stabilize CENP-A nucleosomes through interaction with the CENP-B protein [mcnulty_alpha_2018]. During early G1 phase, RNA polymerase II-mediated transcription of alpha-satellite DNA generates non-coding RNAs that facilitate recruitment of the CENP-A/HJURP complex [mcnulty_alpha_2018]. Furthermore, post-translational histone modifications (H3K4me2, H3K36me2, H3K9ac, H4K16ac) establish a permissive chromatin environment and prevent heterochromatin spreading [mcnulty_alpha_2018].',\n",
       "  'structure': 'CENP-A confers enhanced flexibility and elasticity to nucleosomes, influencing centromeric chromatin organization and ensuring accurate chromosome segregation during mitosis [fedulova_molecular_2024, pitman_minimal_2020, melters_intrinsic_2019, tachiwana_crystal_2011]. Partial nucleosome unwrapping in CENP-A-containing nucleosomes is promoted by its shortened αN-helix [roulland_flexible_2016]. Cryo-EM analysis of human CENP-A nucleosomes revealed asymmetric DNA end flexibility, with the right DNA end being highly dynamic and partially detached from the histone core while the left end remained stably bound, a sequence-dependent behavior confirmed by molecular dynamics simulations [kono_free_2019, boopathi_phase-plate_2020]. Notably, this intrinsic asymmetry can be overcome by antibody stabilization. The single-chain antibody fragment PL2-6 symmetrically stabilizes both DNA ends through allosteric interactions, despite the inherent sequence-dependent asymmetry [zhou_atomic_2019, dogan_cenp-nucleosome_2021]. Molecular dynamics simulations revealed that CENP-A-containing tetramers exhibit enhanced stability but distinct dynamics compared to canonical octameric structures, explaining the unusual properties of CENP-A nucleosomes [zhao_oligomerization_2019].',\n",
       "  'interactions': \"CENP-A nucleosomes stabilize the inner kinetochore known as the CCAN complex (Constitutive Centromere-Associated Network) through direct interaction with CENP-C and CENP-N proteins of this complex [cao_constitutive_2018, pesenti_structure_2022, sridhar_kinetochore_2022, xu_gross_2023]. The CENP-A targeting domain (CATD) along with its N- and C-terminal tails play crucial roles in this process [logsdon_both_2015]. Human CENP-C has been demonstrated to bind with the CENP-A C-terminal hydrophobic tail, the acidic patch of H2A-H2B and histone H4, thereby facilitating its engagement with all four histone subunits present on the nucleosome surface [allu_structure_2019]. The binding of CENP-C to CENP-A is critical for long-term viability in human RPE-1 cells [watanabe_cdk1-mediated_2019]. This interaction is stabilized by the process of CENP-C phosphorylation mediated by CDK1, which strengthens the complex's structure through the occurrence of an intramolecular interaction [watanabe_cdk1-mediated_2019, walstein_assembly_2021, ariyoshi_cryoem_2021]. Recruitment of CENP-C also depends on the N-terminal tail of CENP-A, albeit through an indirect mechanism [logsdon_both_2015]. The direct binding of human CENP-N to the CENP-A nucleosome is mediated by its recognition of the CATD, which encompasses the unique L1 and RG loops [chittori_structural_2018, tian_molecular_2018, ariyoshi_cryoem_2021]. However, cryo-EM studies have revealed that CENP-C and CENP-N bind to a single CENP-A nucleosome in a non-simultaneous manner, thereby demonstrating an asymmetric structure where CENP-C and CENP-N bind to opposite sides of the nucleosome [ariyoshi_cryoem_2021]. Furthermore, in 94% of cases, phosphorylated CENP-C exhibits exclusive binding to the RG-loop of CENP-A, suggesting that this particular interaction is predominant [ariyoshi_cryoem_2021]. In addition, in vitro reconstruction of the human CENP-C protein showed that CENP-C can bind to two centromeric nucleosomes simultaneously [walstein_assembly_2021]. Nevertheless, interactions with CENP-C or CENP-N do not determine the stability of CENP-A nucleosomes in chromatin [cao_constitutive_2018].\",\n",
       "  'disease': 'null',\n",
       "  'caveats': 'null',\n",
       "  'relations': None}]"
      ]
     },
     "execution_count": 74,
     "metadata": {},
     "output_type": "execute_result"
    }
   ],
   "source": [
    "df.to_dict(orient=\"records\")"
   ]
  },
  {
   "cell_type": "code",
   "execution_count": 75,
   "id": "b703c257-7a2e-439d-bc05-fa42bc2b3717",
   "metadata": {
    "tags": []
   },
   "outputs": [],
   "source": [
    "# Make sure data is committed to the database\n",
    "conn.commit()"
   ]
  },
  {
   "cell_type": "markdown",
   "id": "5dff12e3-4ad0-4f97-9715-ada8b7e1a7a0",
   "metadata": {},
   "source": [
    "Like in other eukaryotes, in fungi the cenH3 variant contains a distinctive CENP-A targeting domain (CATD) that mediates specific chaperone recognition and facilitates kinetochore protein assembly [wong_epigenetic_2020]. Cse4 (cenH3 of the budding yeast) possesses a C-terminal histone-fold domain, which is over 60% identical to that of histone H3, and a unique 135-amino acid N-terminal domain that protrudes from the nucleosome core and interacts with kinetochore proteins essential for its assembly [samel_methylation_2012]. Additionally, arginine 37 methylation plays important role in recruitment of inner and linker kinetochore proteins [wong_epigenetic_2020]. The loss of Arg37me has been shown to impair accurate chromosome segregation [samel_methylation_2012].## <span style=\"color:black\">Add description to cenH3_(Fungi)</span>\n",
    "\n",
    "### <span style=\"color:black\">Add summary</span>\n",
    "\n",
    "```cenH3_(Fungi) is a centromere-specific histone variant in fungi, often called Cse4 budding yeast and Cnp1 fission yeast, and an important component of active centromere required for chromosome segregation [stoler_mutation_1995].```\n",
    "\n",
    "### <span style=\"color:black\">Add localization</span>\n",
    "\n",
    "```In the budding yeast cenH3 is strictly localized to point centromeres, which are specified by a short (~125 bp) specific DNA sequence containing centromeric DNA elements (CDEs) [hara_critical_2017, steiner_diversity_2015]. In the fission yeast cenH3 localizes to regional centromeres that span several kilobases and contain repetitive DNA sequences [hara_critical_2017, steiner_diversity_2015].```\n",
    "\n",
    "### <span style=\"color:black\">Add function</span>\n",
    "\n",
    "```Like in other eukaryotes, in fungi the active centromeric chromatin, enriched with cenH3, defines the region of kinetochore interaction for spindle formation [hara_critical_2017, stoler_mutation_1995].```\n",
    "\n",
    "### <span style=\"color:black\">Add sequence</span>\n",
    "\n",
    "```Like in other eukaryotes, in fungi the cenH3 variant contains a distinctive CENP-A targeting domain (CATD) that mediates specific chaperone recognition and facilitates kinetochore protein assembly [wong_epigenetic_2020]. Cse4 (cenH3 of the budding yeast) possesses a C-terminal histone-fold domain, which is over 60% identical to that of histone H3, and a unique 135-amino acid N-terminal domain that protrudes from the nucleosome core and interacts with kinetochore proteins essential for its assembly [samel_methylation_2012]. Additionally, arginine 37 methylation plays important role in recruitment of inner and linker kinetochore proteins [wong_epigenetic_2020]. The loss of Arg37me has been shown to impair accurate chromosome segregation [samel_methylation_2012].```\n",
    "\n",
    "### <span style=\"color:black\">Add deposition</span>\n",
    "\n",
    "```In fungi cenH3 loading is mediated by Scm3, the HJURP homologue [wong_epigenetic_2020, zasadzinska_dimerization_2013, shivaraju_scm3_2011]. The deposition occurs in two distinct windows: during S-phase and anaphase in budding yeast, compared to S and G2 phases in fission yeast [shivaraju_cell_2012, takayama_biphasic_2008]. Notably, budding yeast exhibit complete turnover of cenH3 each cell cycle [wong_epigenetic_2020].```\n",
    "\n",
    "### <span style=\"color:black\">Add structure</span>\n",
    "\n",
    "```In yeast, cenH3-containing nucleosomes exhibit an octameric structure [dechassa_structure_2011, shivaraju_scm3_2011].```"
   ]
  },
  {
   "cell_type": "code",
   "execution_count": null,
   "id": "7c3df988-8cf5-4ca2-99c7-a74c2e842529",
   "metadata": {
    "tags": []
   },
   "outputs": [
    {
     "data": {
      "text/html": [
       "<div>\n",
       "<style scoped>\n",
       "    .dataframe tbody tr th:only-of-type {\n",
       "        vertical-align: middle;\n",
       "    }\n",
       "\n",
       "    .dataframe tbody tr th {\n",
       "        vertical-align: top;\n",
       "    }\n",
       "\n",
       "    .dataframe thead th {\n",
       "        text-align: right;\n",
       "    }\n",
       "</style>\n",
       "<table border=\"1\" class=\"dataframe\">\n",
       "  <thead>\n",
       "    <tr style=\"text-align: right;\">\n",
       "      <th></th>\n",
       "      <th>id</th>\n",
       "      <th>level</th>\n",
       "      <th>taxonomic_span</th>\n",
       "      <th>taxonomic_span_id</th>\n",
       "      <th>description</th>\n",
       "      <th>parent</th>\n",
       "      <th>id</th>\n",
       "      <th>summary</th>\n",
       "      <th>taxonomy</th>\n",
       "      <th>genes</th>\n",
       "      <th>...</th>\n",
       "      <th>knock_out</th>\n",
       "      <th>function</th>\n",
       "      <th>sequence</th>\n",
       "      <th>localization</th>\n",
       "      <th>deposition</th>\n",
       "      <th>structure</th>\n",
       "      <th>interactions</th>\n",
       "      <th>disease</th>\n",
       "      <th>caveats</th>\n",
       "      <th>relations</th>\n",
       "    </tr>\n",
       "  </thead>\n",
       "  <tbody>\n",
       "    <tr>\n",
       "      <th>0</th>\n",
       "      <td>cenH3_(Fungi)</td>\n",
       "      <td>variant</td>\n",
       "      <td>Homo sapiens</td>\n",
       "      <td>9606</td>\n",
       "      <td>95</td>\n",
       "      <td>cenH3</td>\n",
       "      <td>95</td>\n",
       "      <td>null</td>\n",
       "      <td>null</td>\n",
       "      <td>null</td>\n",
       "      <td>...</td>\n",
       "      <td>null</td>\n",
       "      <td>null</td>\n",
       "      <td>null</td>\n",
       "      <td>null</td>\n",
       "      <td>null</td>\n",
       "      <td>null</td>\n",
       "      <td>null</td>\n",
       "      <td>null</td>\n",
       "      <td>null</td>\n",
       "      <td>None</td>\n",
       "    </tr>\n",
       "  </tbody>\n",
       "</table>\n",
       "<p>1 rows × 22 columns</p>\n",
       "</div>"
      ],
      "text/plain": [
       "              id    level taxonomic_span taxonomic_span_id  description  \\\n",
       "0  cenH3_(Fungi)  variant   Homo sapiens              9606           95   \n",
       "\n",
       "  parent  id summary taxonomy genes  ... knock_out function sequence  \\\n",
       "0  cenH3  95    null     null  null  ...      null     null     null   \n",
       "\n",
       "  localization deposition structure interactions disease caveats relations  \n",
       "0         null       null      null         null    null    null      None  \n",
       "\n",
       "[1 rows x 22 columns]"
      ]
     },
     "execution_count": 76,
     "metadata": {},
     "output_type": "execute_result"
    }
   ],
   "source": [
    "query = (\n",
    "    \"SELECT * FROM histone h LEFT JOIN histone_description hd \"\n",
    "    \"ON h.description = hd.id \"\n",
    "    \"WHERE h.id='cenH3_(Fungi)'\"\n",
    ")\n",
    "cursor.execute(query)\n",
    "df = pd.DataFrame(cursor.fetchall(), columns=[i[0] for i in cursor.description])\n",
    "df"
   ]
  },
  {
   "cell_type": "code",
   "execution_count": null,
   "id": "796b372f-4500-4bd9-8809-023812cc9987",
   "metadata": {
    "tags": []
   },
   "outputs": [
    {
     "data": {
      "text/plain": [
       "[{'id': 95,\n",
       "  'level': 'variant',\n",
       "  'taxonomic_span': 'Homo sapiens',\n",
       "  'taxonomic_span_id': '9606',\n",
       "  'description': 95,\n",
       "  'parent': 'cenH3',\n",
       "  'summary': 'null',\n",
       "  'taxonomy': 'null',\n",
       "  'genes': 'null',\n",
       "  'evolution': 'null',\n",
       "  'expression': 'null',\n",
       "  'knock_out': 'null',\n",
       "  'function': 'null',\n",
       "  'sequence': 'null',\n",
       "  'localization': 'null',\n",
       "  'deposition': 'null',\n",
       "  'structure': 'null',\n",
       "  'interactions': 'null',\n",
       "  'disease': 'null',\n",
       "  'caveats': 'null',\n",
       "  'relations': None}]"
      ]
     },
     "execution_count": 77,
     "metadata": {},
     "output_type": "execute_result"
    }
   ],
   "source": [
    "df.to_dict(orient=\"records\")"
   ]
  },
  {
   "cell_type": "code",
   "execution_count": 79,
   "id": "6ce90ce7-1308-40ed-bb7f-81868becb263",
   "metadata": {
    "tags": []
   },
   "outputs": [
    {
     "name": "stdout",
     "output_type": "stream",
     "text": [
      "UPDATE histone_description SET summary=\"cenH3_(Fungi) is a centromere-specific histone variant in fungi, often called Cse4 budding yeast and Cnp1 fission yeast, and an important component of active centromere required for chromosome segregation [stoler_mutation_1995].\", localization=\"In the budding yeast cenH3 is strictly localized to point centromeres, which are specified by a short (~125 bp) specific DNA sequence containing centromeric DNA elements (CDEs) [hara_critical_2017, steiner_diversity_2015]. In the fission yeast cenH3 localizes to regional centromeres that span several kilobases and contain repetitive DNA sequences [hara_critical_2017, steiner_diversity_2015].\", function=\"Like in other eukaryotes, in fungi the active centromeric chromatin, enriched with cenH3, defines the region of kinetochore interaction for spindle formation [hara_critical_2017, stoler_mutation_1995].\", sequence=\"Like in other eukaryotes, in fungi the cenH3 variant contains a distinctive CENP-A targeting domain (CATD) that mediates specific chaperone recognition and facilitates kinetochore protein assembly [wong_epigenetic_2020]. Cse4 (cenH3 of the budding yeast) possesses a C-terminal histone-fold domain, which is over 60% identical to that of histone H3, and a unique 135-amino acid N-terminal domain that protrudes from the nucleosome core and interacts with kinetochore proteins essential for its assembly [samel_methylation_2012]. Additionally, arginine 37 methylation plays important role in recruitment of inner and linker kinetochore proteins [wong_epigenetic_2020]. The loss of Arg37me has been shown to impair accurate chromosome segregation [samel_methylation_2012].\", deposition=\"In fungi cenH3 loading is mediated by Scm3, the HJURP homologue [wong_epigenetic_2020, zasadzinska_dimerization_2013, shivaraju_scm3_2011]. The deposition occurs in two distinct windows: during S-phase and anaphase in budding yeast, compared to S and G2 phases in fission yeast [shivaraju_cell_2012, takayama_biphasic_2008]. Notably, budding yeast exhibit complete turnover of cenH3 each cell cycle [wong_epigenetic_2020].\", structure=\"In yeast, cenH3-containing nucleosomes exhibit an octameric structure [dechassa_structure_2011, shivaraju_scm3_2011].\" WHERE id=95\n"
     ]
    }
   ],
   "source": [
    "summary_desc = \"cenH3_(Fungi) is a centromere-specific histone variant in fungi, often called Cse4 budding yeast and Cnp1 fission yeast, and an important component of active centromere required for chromosome segregation [stoler_mutation_1995].\"\n",
    "localization_desc = \"In the budding yeast cenH3 is strictly localized to point centromeres, which are specified by a short (~125 bp) specific DNA sequence containing centromeric DNA elements (CDEs) [hara_critical_2017, steiner_diversity_2015]. In the fission yeast cenH3 localizes to regional centromeres that span several kilobases and contain repetitive DNA sequences [hara_critical_2017, steiner_diversity_2015].\"\n",
    "function_desc = \"Like in other eukaryotes, in fungi the active centromeric chromatin, enriched with cenH3, defines the region of kinetochore interaction for spindle formation [hara_critical_2017, stoler_mutation_1995].\"\n",
    "sequence_desc = \"Like in other eukaryotes, in fungi the cenH3 variant contains a distinctive CENP-A targeting domain (CATD) that mediates specific chaperone recognition and facilitates kinetochore protein assembly [wong_epigenetic_2020]. Cse4 (cenH3 of the budding yeast) possesses a C-terminal histone-fold domain, which is over 60% identical to that of histone H3, and a unique 135-amino acid N-terminal domain that protrudes from the nucleosome core and interacts with kinetochore proteins essential for its assembly [samel_methylation_2012]. Additionally, arginine 37 methylation plays important role in recruitment of inner and linker kinetochore proteins [wong_epigenetic_2020]. The loss of Arg37me has been shown to impair accurate chromosome segregation [samel_methylation_2012].\"\n",
    "deposition_desc = \"In fungi cenH3 loading is mediated by Scm3, the HJURP homologue [wong_epigenetic_2020, zasadzinska_dimerization_2013, shivaraju_scm3_2011]. The deposition occurs in two distinct windows: during S-phase and anaphase in budding yeast, compared to S and G2 phases in fission yeast [shivaraju_cell_2012, takayama_biphasic_2008]. Notably, budding yeast exhibit complete turnover of cenH3 each cell cycle [wong_epigenetic_2020].\"\n",
    "structure_desc = \"In yeast, cenH3-containing nucleosomes exhibit an octameric structure [dechassa_structure_2011, shivaraju_scm3_2011].\"\n",
    "query = f'UPDATE histone_description SET summary=\"{summary_desc}\", localization=\"{localization_desc}\", function=\"{function_desc}\", sequence=\"{sequence_desc}\", deposition=\"{deposition_desc}\", structure=\"{structure_desc}\" WHERE id=95'\n",
    "print(query)\n",
    "cursor.execute(query)"
   ]
  },
  {
   "cell_type": "code",
   "execution_count": 80,
   "id": "a919bd3c-2c39-45bc-b7bd-edad0fa3203c",
   "metadata": {
    "tags": []
   },
   "outputs": [
    {
     "data": {
      "text/html": [
       "<div>\n",
       "<style scoped>\n",
       "    .dataframe tbody tr th:only-of-type {\n",
       "        vertical-align: middle;\n",
       "    }\n",
       "\n",
       "    .dataframe tbody tr th {\n",
       "        vertical-align: top;\n",
       "    }\n",
       "\n",
       "    .dataframe thead th {\n",
       "        text-align: right;\n",
       "    }\n",
       "</style>\n",
       "<table border=\"1\" class=\"dataframe\">\n",
       "  <thead>\n",
       "    <tr style=\"text-align: right;\">\n",
       "      <th></th>\n",
       "      <th>id</th>\n",
       "      <th>level</th>\n",
       "      <th>taxonomic_span</th>\n",
       "      <th>taxonomic_span_id</th>\n",
       "      <th>description</th>\n",
       "      <th>parent</th>\n",
       "      <th>id</th>\n",
       "      <th>summary</th>\n",
       "      <th>taxonomy</th>\n",
       "      <th>genes</th>\n",
       "      <th>...</th>\n",
       "      <th>knock_out</th>\n",
       "      <th>function</th>\n",
       "      <th>sequence</th>\n",
       "      <th>localization</th>\n",
       "      <th>deposition</th>\n",
       "      <th>structure</th>\n",
       "      <th>interactions</th>\n",
       "      <th>disease</th>\n",
       "      <th>caveats</th>\n",
       "      <th>relations</th>\n",
       "    </tr>\n",
       "  </thead>\n",
       "  <tbody>\n",
       "    <tr>\n",
       "      <th>0</th>\n",
       "      <td>cenH3_(Fungi)</td>\n",
       "      <td>variant</td>\n",
       "      <td>Homo sapiens</td>\n",
       "      <td>9606</td>\n",
       "      <td>95</td>\n",
       "      <td>cenH3</td>\n",
       "      <td>95</td>\n",
       "      <td>cenH3_(Fungi) is a centromere-specific histone...</td>\n",
       "      <td>null</td>\n",
       "      <td>null</td>\n",
       "      <td>...</td>\n",
       "      <td>null</td>\n",
       "      <td>Like in other eukaryotes, in fungi the active ...</td>\n",
       "      <td>Like in other eukaryotes, in fungi the cenH3 v...</td>\n",
       "      <td>In the budding yeast cenH3 is strictly localiz...</td>\n",
       "      <td>In fungi cenH3 loading is mediated by Scm3, th...</td>\n",
       "      <td>In yeast, cenH3-containing nucleosomes exhibit...</td>\n",
       "      <td>null</td>\n",
       "      <td>null</td>\n",
       "      <td>null</td>\n",
       "      <td>None</td>\n",
       "    </tr>\n",
       "  </tbody>\n",
       "</table>\n",
       "<p>1 rows × 22 columns</p>\n",
       "</div>"
      ],
      "text/plain": [
       "              id    level taxonomic_span taxonomic_span_id  description  \\\n",
       "0  cenH3_(Fungi)  variant   Homo sapiens              9606           95   \n",
       "\n",
       "  parent  id                                            summary taxonomy  \\\n",
       "0  cenH3  95  cenH3_(Fungi) is a centromere-specific histone...     null   \n",
       "\n",
       "  genes  ... knock_out                                           function  \\\n",
       "0  null  ...      null  Like in other eukaryotes, in fungi the active ...   \n",
       "\n",
       "                                            sequence  \\\n",
       "0  Like in other eukaryotes, in fungi the cenH3 v...   \n",
       "\n",
       "                                        localization  \\\n",
       "0  In the budding yeast cenH3 is strictly localiz...   \n",
       "\n",
       "                                          deposition  \\\n",
       "0  In fungi cenH3 loading is mediated by Scm3, th...   \n",
       "\n",
       "                                           structure interactions disease  \\\n",
       "0  In yeast, cenH3-containing nucleosomes exhibit...         null    null   \n",
       "\n",
       "  caveats relations  \n",
       "0    null      None  \n",
       "\n",
       "[1 rows x 22 columns]"
      ]
     },
     "execution_count": 80,
     "metadata": {},
     "output_type": "execute_result"
    }
   ],
   "source": [
    "query = (\n",
    "    \"SELECT * FROM histone h LEFT JOIN histone_description hd \"\n",
    "    \"ON h.description = hd.id \"\n",
    "    \"WHERE h.id='cenH3_(Fungi)'\"\n",
    ")\n",
    "cursor.execute(query)\n",
    "df = pd.DataFrame(cursor.fetchall(), columns=[i[0] for i in cursor.description])\n",
    "df"
   ]
  },
  {
   "cell_type": "code",
   "execution_count": 81,
   "id": "097d3805-ce7d-4a1d-b4ba-0d9d111e9195",
   "metadata": {
    "tags": []
   },
   "outputs": [
    {
     "data": {
      "text/plain": [
       "[{'id': 95,\n",
       "  'level': 'variant',\n",
       "  'taxonomic_span': 'Homo sapiens',\n",
       "  'taxonomic_span_id': '9606',\n",
       "  'description': 95,\n",
       "  'parent': 'cenH3',\n",
       "  'summary': 'cenH3_(Fungi) is a centromere-specific histone variant in fungi, often called Cse4 budding yeast and Cnp1 fission yeast, and an important component of active centromere required for chromosome segregation [stoler_mutation_1995].',\n",
       "  'taxonomy': 'null',\n",
       "  'genes': 'null',\n",
       "  'evolution': 'null',\n",
       "  'expression': 'null',\n",
       "  'knock_out': 'null',\n",
       "  'function': 'Like in other eukaryotes, in fungi the active centromeric chromatin, enriched with cenH3, defines the region of kinetochore interaction for spindle formation [hara_critical_2017, stoler_mutation_1995].',\n",
       "  'sequence': 'Like in other eukaryotes, in fungi the cenH3 variant contains a distinctive CENP-A targeting domain (CATD) that mediates specific chaperone recognition and facilitates kinetochore protein assembly [wong_epigenetic_2020]. Cse4 (cenH3 of the budding yeast) possesses a C-terminal histone-fold domain, which is over 60% identical to that of histone H3, and a unique 135-amino acid N-terminal domain that protrudes from the nucleosome core and interacts with kinetochore proteins essential for its assembly [samel_methylation_2012]. Additionally, arginine 37 methylation plays important role in recruitment of inner and linker kinetochore proteins [wong_epigenetic_2020]. The loss of Arg37me has been shown to impair accurate chromosome segregation [samel_methylation_2012].',\n",
       "  'localization': 'In the budding yeast cenH3 is strictly localized to point centromeres, which are specified by a short (~125 bp) specific DNA sequence containing centromeric DNA elements (CDEs) [hara_critical_2017, steiner_diversity_2015]. In the fission yeast cenH3 localizes to regional centromeres that span several kilobases and contain repetitive DNA sequences [hara_critical_2017, steiner_diversity_2015].',\n",
       "  'deposition': 'In fungi cenH3 loading is mediated by Scm3, the HJURP homologue [wong_epigenetic_2020, zasadzinska_dimerization_2013, shivaraju_scm3_2011]. The deposition occurs in two distinct windows: during S-phase and anaphase in budding yeast, compared to S and G2 phases in fission yeast [shivaraju_cell_2012, takayama_biphasic_2008]. Notably, budding yeast exhibit complete turnover of cenH3 each cell cycle [wong_epigenetic_2020].',\n",
       "  'structure': 'In yeast, cenH3-containing nucleosomes exhibit an octameric structure [dechassa_structure_2011, shivaraju_scm3_2011].',\n",
       "  'interactions': 'null',\n",
       "  'disease': 'null',\n",
       "  'caveats': 'null',\n",
       "  'relations': None}]"
      ]
     },
     "execution_count": 81,
     "metadata": {},
     "output_type": "execute_result"
    }
   ],
   "source": [
    "df.to_dict(orient=\"records\")"
   ]
  },
  {
   "cell_type": "code",
   "execution_count": 82,
   "id": "ded6459a-937a-476b-b1fc-29c0683450da",
   "metadata": {
    "tags": []
   },
   "outputs": [],
   "source": [
    "# Make sure data is committed to the database\n",
    "conn.commit()"
   ]
  },
  {
   "cell_type": "markdown",
   "id": "9e8bad07-ef74-40fd-a93b-e7897df0c591",
   "metadata": {
    "tags": []
   },
   "source": [
    "# Close connections"
   ]
  },
  {
   "cell_type": "code",
   "execution_count": 83,
   "id": "e5673501-5845-491a-bbb9-f5d213721d58",
   "metadata": {
    "tags": []
   },
   "outputs": [],
   "source": [
    "cursor.close()\n",
    "conn.close()\n",
    "tunnel.stop()"
   ]
  },
  {
   "cell_type": "code",
   "execution_count": null,
   "id": "169cba80-d8e6-4c02-86e4-68aed0d0d381",
   "metadata": {},
   "outputs": [],
   "source": []
  }
 ],
 "metadata": {
  "kernelspec": {
   "display_name": ".conda-histdb_env",
   "language": "python",
   "name": "conda-env-.conda-histdb_env-py"
  },
  "language_info": {
   "codemirror_mode": {
    "name": "ipython",
    "version": 3
   },
   "file_extension": ".py",
   "mimetype": "text/x-python",
   "name": "python",
   "nbconvert_exporter": "python",
   "pygments_lexer": "ipython3",
   "version": "3.8.1"
  }
 },
 "nbformat": 4,
 "nbformat_minor": 5
}
