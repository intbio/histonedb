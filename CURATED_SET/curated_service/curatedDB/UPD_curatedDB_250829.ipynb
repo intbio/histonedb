{
 "cells": [
  {
   "cell_type": "code",
   "execution_count": 1,
   "id": "53d3ec55-7daf-4ade-8add-2830b709dc54",
   "metadata": {
    "tags": []
   },
   "outputs": [],
   "source": [
    "import io\n",
    "\n",
    "import pandas as pd\n",
    "from Bio import Entrez, SeqIO\n",
    "from mysql.connector import connection\n",
    "from sshtunnel import SSHTunnelForwarder\n",
    "\n",
    "# Укажите ваш email (обязательно для использования Entrez)\n",
    "Entrez.email = \"your.email@example.com\""
   ]
  },
  {
   "cell_type": "code",
   "execution_count": 2,
   "id": "608c4bfe-b979-4b60-b2b5-b94eeb679cb5",
   "metadata": {
    "tags": []
   },
   "outputs": [],
   "source": [
    "with open(\"db_curated_server_info.txt\", \"r\") as file:\n",
    "    lines = file.readlines()\n",
    "\n",
    "config = {}\n",
    "\n",
    "for line in lines:\n",
    "    line = line.strip()\n",
    "    if line and not line.startswith(\"#\"):\n",
    "        key, value = line.split(\"=\", 1)\n",
    "        config[key] = value.strip()\n",
    "\n",
    "server_name = config.get(\"server_name\")\n",
    "srever_port = int(config.get(\"srever_port\"))\n",
    "ssh_password = config.get(\"ssh_password\")\n",
    "ssh_username = config.get(\"ssh_username\")\n",
    "db_adress = config.get(\"db_adress\")\n",
    "db_port = int(config.get(\"db_port\"))"
   ]
  },
  {
   "cell_type": "code",
   "execution_count": 3,
   "id": "4e19aa1c-49a3-48c4-b67f-34c94cef608d",
   "metadata": {
    "tags": []
   },
   "outputs": [
    {
     "name": "stdout",
     "output_type": "stream",
     "text": [
      "45747\n"
     ]
    }
   ],
   "source": [
    "tunnel = SSHTunnelForwarder(\n",
    "    (server_name, srever_port),\n",
    "    ssh_password=ssh_password,\n",
    "    ssh_username=ssh_username,\n",
    "    remote_bind_address=(db_adress, db_port),\n",
    ")\n",
    "tunnel.start()\n",
    "print(tunnel.local_bind_port)"
   ]
  },
  {
   "cell_type": "code",
   "execution_count": 4,
   "id": "cef2275b-12d0-48f1-ad3c-ce4cdb9aa267",
   "metadata": {
    "tags": []
   },
   "outputs": [],
   "source": [
    "conn = connection.MySQLConnection(\n",
    "    user=\"db_user\",\n",
    "    password=\"db_password\",\n",
    "    host=\"localhost\",\n",
    "    port=tunnel.local_bind_port,\n",
    "    database=\"db_name\",\n",
    ")\n",
    "cursor = conn.cursor()"
   ]
  },
  {
   "cell_type": "code",
   "execution_count": 5,
   "id": "f589ea8d-8b83-4331-a1cf-b64ed7621801",
   "metadata": {
    "tags": []
   },
   "outputs": [
    {
     "data": {
      "text/plain": [
       "[('alternative_name',),\n",
       " ('histone',),\n",
       " ('histone_description',),\n",
       " ('histone_has_publication',),\n",
       " ('publication',),\n",
       " ('sequence',),\n",
       " ('sequence_has_publication',)]"
      ]
     },
     "execution_count": 5,
     "metadata": {},
     "output_type": "execute_result"
    }
   ],
   "source": [
    "query = \"SHOW TABLES;\"\n",
    "cursor.execute(query)\n",
    "cursor.fetchall()"
   ]
  },
  {
   "cell_type": "code",
   "execution_count": 6,
   "id": "b3dd9ef8-b162-4127-9535-ac7743af8c69",
   "metadata": {
    "tags": []
   },
   "outputs": [],
   "source": [
    "add_histone = (\n",
    "    \"INSERT INTO histone \"\n",
    "    \"(id, level, taxonomic_span, taxonomic_span_id, description, parent) \"\n",
    "    \"VALUES (%(id)s, %(level)s, %(taxonomic_span)s, %(taxonomic_span_id)s, %(description)s, %(parent)s)\"\n",
    ")\n",
    "add_histone_description = (\n",
    "    \"INSERT INTO histone_description \"\n",
    "    \"(summary, taxonomy, genes, evolution, expression, knock_out, function, sequence, localization, deposition, structure, interactions, disease, caveats) \"\n",
    "    \"VALUES (%s, %s, %s, %s, %s, %s, %s, %s, %s, %s, %s, %s, %s, %s)\"\n",
    ")\n",
    "add_publication = (\n",
    "    \"INSERT INTO publication \"\n",
    "    \"(id, title, doi, author, year) \"\n",
    "    \"VALUES (%(id)s, %(title)s, %(doi)s, %(author)s, %(year)s)\"\n",
    ")\n",
    "# add_sequence = (\n",
    "#     \"INSERT INTO sequence \"\n",
    "#     \"(accession, variant, gi, ncbi_gene_id, hgnc_gene_name, taxonomy_id, organism, phylum, class, taxonomy_group, info, sequence, variant_under_consideration) \"\n",
    "#     \"VALUES (%(accession)s, %(variant)s, %(gi)s, %(ncbi_gene_id)s, %(hgnc_gene_name)s, %(taxonomy_id)s, %(organism)s, %(phylum)s, %(class)s, %(taxonomy_group)s, %(info)s, %(sequence)s, %(variant_under_consideration)s)\"\n",
    "# )\n",
    "# add_sequence_has_publication = (\n",
    "#     \"INSERT INTO sequence_has_publication \"\n",
    "#     \"(sequence_accession, publication_id) \"\n",
    "#     \"VALUES (%s, %s)\"\n",
    "# )\n",
    "# add_alternate_names = (\n",
    "#     \"INSERT INTO alternative_name \"\n",
    "#     \"(name, taxonomy, gene, splice, histone) \"\n",
    "#     \"VALUES (%(name)s, %(taxonomy)s, %(gene)s, %(splice)s, %(histone)s)\"\n",
    "# )\n",
    "add_histone_has_publication = (\n",
    "    \"INSERT INTO histone_has_publication \"\n",
    "    \"(histone_id, publication_id) \"\n",
    "    \"VALUES (%s, %s)\"\n",
    ")"
   ]
  },
  {
   "cell_type": "code",
   "execution_count": 10,
   "id": "c1c3bb0c-180f-4fb2-9cdc-ca928f9808be",
   "metadata": {},
   "outputs": [],
   "source": [
    "def get_taxonomy_data(record):\n",
    "    import re\n",
    "    import sys\n",
    "\n",
    "    taxonomy_data = {}\n",
    "    taxonomy_data[\"organism\"] = record.annotations[\"organism\"]\n",
    "    try:\n",
    "        for a in record.features[0].qualifiers[\"db_xref\"]:\n",
    "            text = re.search(\"(\\S+):(\\S+)\", a).group(1)\n",
    "            taxid = re.search(\"(\\S+):(\\S+)\", a).group(2)\n",
    "            if text == \"taxon\":\n",
    "                print(f\"Fetched taxid from NCBI {taxid}\")\n",
    "                taxonomy_data[\"taxonomy_id\"] = int(taxid)\n",
    "            else:\n",
    "                continue\n",
    "    except:\n",
    "        print(\"!!!!!!Unable to get TAXID for this record setting it to 1\")\n",
    "        taxonomy_data[\"taxonomy_id\"] = 1  # unable to identify\n",
    "\n",
    "    lineage = dict()\n",
    "    for i in range(10):\n",
    "        try:\n",
    "            handle = Entrez.efetch(\n",
    "                id=taxonomy_data[\"taxonomy_id\"], db=\"taxonomy\", retmode=\"xml\"\n",
    "            )\n",
    "            tax_data = Entrez.read(handle)\n",
    "            lineage = {\n",
    "                d[\"Rank\"]: d[\"ScientificName\"]\n",
    "                for d in tax_data[0][\"LineageEx\"]\n",
    "                if d[\"Rank\"] in [\"class\", \"phylum\"]\n",
    "            }\n",
    "            break\n",
    "        except:\n",
    "            print(\n",
    "                \"Unexpected error: {}, Retrying, attempt {}\".format(\n",
    "                    sys.exc_info()[0], i\n",
    "                )\n",
    "            )\n",
    "            if i == 9:\n",
    "                print(\n",
    "                    f\"FATAL ERROR could not get class and phylum from NCBI after 10 attempts for taxid:{taxonomy_data['taxonomy_id']}. Will add None for class and phylum!\"\n",
    "                )\n",
    "            else:\n",
    "                continue\n",
    "    taxonomy_data[\"phylum\"] = lineage.get(\"phylum\", None)\n",
    "    taxonomy_data[\"class\"] = lineage.get(\"class\", None)\n",
    "    if taxonomy_data[\"phylum\"] is not None:\n",
    "        taxonomy_data[\"phylum\"] = str(taxonomy_data[\"phylum\"])\n",
    "    if taxonomy_data[\"class\"] is not None:\n",
    "        taxonomy_data[\"class\"] = str(taxonomy_data[\"class\"])\n",
    "    return taxonomy_data"
   ]
  },
  {
   "cell_type": "markdown",
   "id": "0e2527ea-d5b1-4671-9ac8-1340a0c4a714",
   "metadata": {},
   "source": [
    "## <span style=\"color:black\">ВАЖНО!!!</span>\n",
    "\n",
    "Некоторые источники сообщают о том, что CENP-A нуклеосома не во всех фаазах клеточного цикла имеет октамерную структуру in vivo. Цитата из [статьи](https://pubmed.ncbi.nlm.nih.gov/23324462/) ([bui_cenp-nucleosome_2013, bui_cell-cycle-dependent_2012]):\n",
    "\n",
    ">\"Unlike H3 nucleosomes, which exist as invariant octamers, our data revealed that native CENP-A nucleosomes adopt a stable tetrameric structure for the majority of the cell cycle, but alter in shape to an octameric structure at the transition from G1/S to S-phase. In G2 phase, CENP-A nucleosomes convert back to tetramers, suggesting that they are structurally flexible.\"\n",
    "\n",
    "## <span style=\"color:black\">Дополнительно</span>\n",
    "\n",
    "1. Синтез CENP-A происходит в G2 фазе [mcnulty_alpha_2018].\n",
    "2. Экспресия CENP-A происходит в раннюю G1 фазу. Вместе с тем, активно экспрессируется и шаперон HJURP, который встраивает CENP-A в нуклеосомы.\n",
    "3. HJURP важен не просто для вставки CENP-A в нуклеосому, но и для определения локализации центромеры. Это происходит благодаря взаимодействию между HJURP и плотным комплексом, который состоит из белков Mis18α, Mis18β и M18BP1. Можно сказать, что комплекс Mis18 првлекает к себе HJURP, который в свою очередь уже связан с тетрамером CENP-A:H4.\n",
    "4. CENP-A-нуклеосомы стабильны в течение всего клеточного цикла и не разбираются во время репликации ДНК в S-фазе. Во время S-фазы гистоны CENP-A перераспределяются (для наследования) полуконсервативно: после репликации каждая дочерняя хромосома получает примерно половину родительских CENP-A-нуклеосом [mcnulty_alpha_2018]."
   ]
  },
  {
   "cell_type": "markdown",
   "id": "69b2375b-74e2-4050-88de-eb9627ac0aed",
   "metadata": {
    "tags": []
   },
   "source": [
    "# To Do cenH3\n",
    "\n",
    "## <span style=\"color:green\">Update summary of cenH3_(Insecta)</span>\n",
    "\n",
    "```cenH3_(Insecta) is a centromere-specific histone variant in insects, functionally analogous to CENP-A (Centromere Protein A) in other eukaryotes. It is essential for centromere specification and proper chromosome segregation during cell division. Notably, cenH3 is absent in four holocentric insect clades, suggesting alternative centromere organization mechanisms in these lineages [talbert_histone_2021, senaratne_formation_2021, sridhar_kinetochore_2022, cortes-silva_cenh3-independent_2020]. Some insect families, such as Drosophilidae and Culicidae, possess multiple cenH3 paralogs with evidence of functional specialization. For more overview of these families, see the cenH3_(Drosophilidae) and cenH3_(Culicidae) classes.```\n",
    "\n",
    "## <span style=\"color:green\">Update description of cenH3_(Drosophilidae)</span>\n",
    "\n",
    "### <span style=\"color:green\">Add deposition</span>\n",
    "\n",
    "```In Drosophila melanogaster, the deposition of cenH3 into nucleosomes is mediated by the chaperone CAL1 in a DNA sequence-independent manner. CAL1 facilitates nucleosome formation through direct interaction with cenH3-H4 histones and additionally recruits the FACT complex (comprising Dre4 and SSRP1 subunits) along with RNA polymerase II (RNAPII) [chen_establishment_2015, chen_cal1_2014]. FACT destabilizes H3-containing nucleosomes, enabling RNAPII-mediated transcription of DNA, a prerequisite for the replacement of H3 with CENP-A/H4 [chen_establishment_2015]. In the absence of FACT, transcription is abolished, preventing CENP-A incorporation. Importantly, CAL1 mediates the assembly of octameric nucleosomes with left-handed DNA wrapping, analogous to canonical nucleosomes [chen_cal1_2014].```\n",
    "\n",
    "### <span style=\"color:green\">Add function</span>\n",
    "\n",
    "```Similar to other animals, Drosophila cenH3 functions primarily in kinetochore assembly through CENP-C recruitment. However, in contrast to vertebrates where CENP-A directly binds CENP-C, Drosophila depends on the CAL1 chaperone to bridge cenH3-CENP-C interaction for proper kinetochore formation and chromosome segregation [chen_cal1_2014].```\n",
    "\n",
    "## <span style=\"color:green\">Update description of cenH3</span>\n",
    "\n",
    "### <span style=\"color:green\">Update function</span>\n",
    "\n",
    "```Despite the high diversity of cenH3 proteins, they represent a key factor involved in centromere identity and recruiting constitutive centromere-associated network (CCAN), ensuring accurate chromosome segregation, across a wide range of organisms. For example, the deep evolutionary conservation of cenH3 histone function in plants demonstarted by the ability of Zea mays cenH3 to functionally replace its counterpart in Arabidopsis thaliana [maheshwari_naturally_2015]. However, certain functional differences of cenH3 in chromosome segregation are observed across different species [wong_epigenetic_2020, steiner_diversity_2015]. Distinction is mainly related to cenH3 distribution on the chromosome, timing of cenH3 replenishment, heterochromatin dependence and chaperone specificity. In most mammals (including humans), cenH3 is incorporated into nucleosomes positioned within satellite repeat regions. In contrast, yeast species exhibit both regional (fission yeast) and point (budding yeast) centromeres, the latter consisting of a single cenH3 nucleosome complex assembled on specific DNA sequences. Nematode holocentromeres are characterized by the distribution of cenH3 along the entire chromosome length. Key factors of centromere identity in speicies with regional centromere (e.g., vertebrates) are the epigenetic context and transcription of centromeric DNA, whereas centromeres in budding yeast (S. cerevisiae) are determined by specific DNA sequences [wong_epigenetic_2020, hara_critical_2017, hori_histone_2014]. Moreover, studies in human and chicken cells have demonstrated the existence of natural and artificially created functional neocentromeres lacking alpha-satellite DNA [hara_critical_2017]. At the same time, despite the possibility of epigenetic drift, cenH3 positioning in maize centromeres is stable over generations and primarily governed by genetic changes [gent_stable_2015].```\n",
    "\n",
    "### <span style=\"color:green\">Add deposition</span>\n",
    "\n",
    "```Unlike canonical histones, cenH3 deposition is replication-independent. In most speices, cenH3 synthesis and loading occurs during late mitosis and G1 phase of the cell cycle, mediated by specialized chaperones (HJURP in humans, Scm3 in budding and fission yeast, and CAL1 in Drosophila). However, the timing of deposition differs in some organisms. For instance, in budding yeast, cenH3 replenishment occurs during S-phase [wong_epigenetic_2020, pearson_stable_2004]. Notably, both budding yeast and nematodes (C. elegans) exhibit complete turnover of cenH3 each cell cycle [wong_epigenetic_2020]. The assembly and replenishment of cenH3 nucleosomes involves chromatin remodeling, resulting in the displacement of H3.3 histones and active stabilization by specific proteins (e.g., HJURP, CENP-C, CENP-B in humans) [dunleavy_h33_2011, wong_epigenetic_2020, black_epigenetic_2011]. It is possible that new cenH3 deposition doesn't always occur at the same centromeric position during every cell cycle [dunleavy_h33_2011]. Deposition of cenH3 into centromeric nucleosomes depends not only on a specific chaperone but also on numerous other factors. The study using DT40 (chicken) and HeLa S3 (human) cell lines demonstrated that chromatin-remodeling complexes FACT and CHD1 play important roles in the proper recruitment of cenH3 [okada_cenp-hcontaining_2009]. However, this observation is likely not universal across all organisms. For example, in Drosophila, cenH3 incorporation occurs independently of CHD1, yet still involves direct participation of FACT [podhraski_cenh3cid_2010, chen_establishment_2015, chen_cal1_2014].```\n",
    "\n",
    "## <span style=\"color:green\">Update description of cenH3_(Animals)</span>\n",
    "\n",
    "### <span style=\"color:green\">Update summary</span>\n",
    "\n",
    "```cenH3_(Animals) is a centromere-specific histone variant in animals (Metazoa), often called CENP-A (Centromere Protein A) in mammals, and an important component of active centromere required for chromosome segregation.```\n",
    "\n",
    "### <span style=\"color:green\">Add interactions</span>\n",
    "\n",
    "```cenH3 nucleosomes stabilize the inner kinetochore known as the CCAN complex (Constitutive Centromere-Associated Network). The initiation of kinetochore assembly involves the interaction between CENP-A and CENP-C [watanabe_cdk1-mediated_2019, walstein_assembly_2021]. CDK1-mediated phosphorylation of CENP-C enhances its binding to CENP-A nucleosomes during mitosis, as shown in both chicken and human cells [watanabe_cdk1-mediated_2019]. However, the functional importance of this interaction varies: while it is nonessential for viability in chicken cells, it is crucial for proper CENP-C kinetochore localization and long-term survival in human cells [watanabe_cdk1-mediated_2019]. It was demonstrated that binding of the CENP-C protein stiffens the cenH3 nucleosome, decreasing its flexibility and stabilizing its conformation, which promotes chromatin condensation and restricts access for transcriptional machinery [melters_intrinsic_2019]. CENP-N specifically recognizes CENP-A in the centromeric nucleosome by binding to its L1 loop through key residues (e.g., E3, T4, E7 in humans) and stabilizes the interaction via electrostatic contacts with nucleosomal DNA [chittori_structural_2018]. This interaction has co-evolved across species to ensure accurate kinetochore assembly and epigenetic centromere inheritance [chittori_structural_2018].```\n",
    "\n",
    "### <span style=\"color:green\">Update genes</span>\n",
    "\n",
    "```The nematodes Caenorhabditis elegans and C. remanei possess two genes encoding cenH3: HCP-3 (also known as CeCENP-A) and CPAR-1 [monen_separase_2015, monen_differential_2005]. While HCP-3 functions as the predominant centromeric histone - being highly expressed and essential for precise chromosome segregation during mitotic divisions - CPAR-1 displays distinct characteristics: it exhibits lower expression levels but shows specific enrichment on meiotic chromosomes. Importantly, CPAR-1 undergoes separase-mediated proteolytic cleavage at the meiosis I metaphase-to-anaphase transition, implying a specialized, though not yet fully characterized, role in meiotic processes [monen_separase_2015].```\n",
    "\n",
    "### <span style=\"color:green\">Update function</span>\n",
    "\n",
    "```The active centromeric chromatin, enriched with cenH3, defines the region of kinetochore interaction for spindle formation. However, certain functional differences in chromosome segregation are observed across different species. For example, in vertebrates, CENP-A is concentrated in a compact centromeric region, whereas in nematodes, HCP-3 is distributed diffusely, corresponding to a holocentric organization [hara_critical_2017]. Notably, in certain holocentric organisms, cenH3 appears dispensable for meiotic chromosome segregation while remaining essential for mitosis. As demonstrated in Caenorhabditis elegans, cenH3 loading is specifically eliminated following meiosis I, and RNAi-mediated depletion of CENP-A during meiosis fails to disrupt proper chromosome segregation [monen_differential_2005]. This stands in striking contrast to mitotic divisions, where cenH3 is absolutely required for kinetochore assembly and faithful chromosome segregation. Moreover, C. elegans and C. remanei possess a second cenH3 histone gene that likely performs specialized functions distinct from canonical cenH3 roles [monen_separase_2015]. For more detailed information see the \"gene\" section.```\n",
    "\n",
    "## <span style=\"color:green\">Update description of cenH3_(Homo_sapiens)</span>\n",
    "\n",
    "### <span style=\"color:green\">Update summary cenH3_(Homo_sapiens)</span>\n",
    "\n",
    "### <span style=\"color:green\">Update interactions of cenH3_(Homo_sapiens)</span>\n",
    "\n",
    "```CENP-A nucleosomes stabilize the inner kinetochore known as the CCAN complex (Constitutive Centromere-Associated Network) through direct interaction with CENP-C and CENP-N proteins of this complex [cao_constitutive_2018, pesenti_structure_2022, sridhar_kinetochore_2022, xu_gross_2023]. Human CENP-C has been demonstrated to bind with the CENP-A C-terminal hydrophobic tail, the acidic patch of H2A-H2B and histone H4, thereby facilitating its engagement with all four histone subunits present on the nucleosome surface [allu_structure_2019]. The binding of CENP-C to CENP-A is critical for long-term viability in human RPE-1 cells [watanabe_cdk1-mediated_2019]. This interaction is stabilized by the process of CENP-C phosphorylation mediated by CDK1, which strengthens the complex's structure through the occurrence of an intramolecular interaction [watanabe_cdk1-mediated_2019, walstein_assembly_2021, ariyoshi_cryoem_2021]. Human CENP-N has been observed to bind to CENP-A nucleosomes through a direct recognition of the L1 loop and RG loop of CENP-A [chittori_structural_2018, tian_molecular_2018, ariyoshi_cryoem_2021]. However, cryo-EM studies have revealed that CENP-C and CENP-N bind to a single CENP-A nucleosome in a non-simultaneous manner, thereby demonstrating an asymmetric structure where CENP-C and CENP-N bind to opposite sides of the nucleosome [ariyoshi_cryoem_2021]. Furthermore, in 94% of cases, phosphorylated CENP-C exhibits exclusive binding to the RG-loop of CENP-A, suggesting that this particular interaction is predominant [ariyoshi_cryoem_2021]. In addition, in vitro reconstruction of the human CENP-C protein showed that CENP-C can bind to two centromeric nucleosomes simultaneously [walstein_assembly_2021]. Nevertheless, interactions with CENP-C or CENP-N do not determine the stability of CENP-A nucleosomes in chromatin [cao_constitutive_2018].```\n",
    "\n",
    "### <span style=\"color:green\">Update function of cenH3_(Homo_sapiens)</span>\n",
    "\n",
    "```While CENP-A is a crucial centromeric marker, the formation of a functional kinetochore and proper chromosome segregation requires an epigenetic context, including the targeting of the chaperone HJURP and histone PTMs [hara_critical_2017, hori_histone_2014]. Human CENP-A plays an important role in stabilization and retention inner kinetochore during G1 phase of cell cycle [pesenti_structure_2022, hoffmann_cenp-is_2016]. However, mitosis can proceed without CENP-A as long as the CENP-B protein remains stably bound to centromeric sequences, facilitating the assembly of the inner kinetochore [hoffmann_cenp-is_2016].```\n",
    "\n",
    "### <span style=\"color:green\">Add to deposition of cenH3_(Homo_sapiens)</span>\n",
    "\n",
    "```Notably, in contrast to maintenance, de novo centromere formation (e.g., neocentromere establishment) depends on HJURP-mediated recruitment of CENP-C [tachiwana_hjurp_2015]. The deposition of CENP-A depends not only on protein factors but also on the characteristics of alpha-satellite DNA. CENP-B boxes stabilize CENP-A nucleosomes through interaction with the CENP-B protein [mcnulty_alpha_2018]. During early G1 phase, RNA polymerase II-mediated transcription of alpha-satellite DNA generates non-coding RNAs that facilitate recruitment of the CENP-A/HJURP complex [mcnulty_alpha_2018]. Furthermore, post-translational histone modifications (H3K4me2, H3K36me2, H3K9ac, H4K16ac) establish a permissive chromatin environment and prevent heterochromatin spreading [mcnulty_alpha_2018].```\n",
    "\n",
    "### <span style=\"color:green\">Add structure to cenH3_(Homo_sapiens)</span>\n",
    "\n",
    "```CENP-A confers enhanced flexibility and elasticity to nucleosomes, influencing centromeric chromatin organization and ensuring accurate chromosome segregation during mitosis [fedulova_molecular_2024, pitman_minimal_2020, melters_intrinsic_2019, tachiwana_crystal_2011]. Partial nucleosome unwrapping in CENP-A-containing nucleosomes is promoted by its shortened αN-helix [roulland_flexible_2016]. Cryo-EM analysis of human CENP-A nucleosomes revealed asymmetric DNA end flexibility, with the right DNA end being highly dynamic and partially detached from the histone core while the left end remained stably bound, a sequence-dependent behavior confirmed by molecular dynamics simulations [kono_free_2019, boopathi_phase-plate_2020]. Notably, this intrinsic asymmetry can be overcome by antibody stabilization. The single-chain antibody fragment PL2-6 symmetrically stabilizes both DNA ends through allosteric interactions, despite the inherent sequence-dependent asymmetry [zhou_atomic_2019, dogan_cenp-nucleosome_2021]. Molecular dynamics simulations revealed that CENP-A-containing tetramers exhibit enhanced stability but distinct dynamics compared to canonical octameric structures, explaining the unusual properties of CENP-A nucleosomes [zhao_oligomerization_2019].```\n",
    "\n",
    "### <span style=\"color:green\">Add sequence to cenH3_(Homo_sapiens)</span>\n",
    "\n",
    "```The conserved residue K124 locaded in histone fold of CENP-A plays a crucial role in regulating centromeric function. During the cell cycle, K124 undergoes cyclic modifications [bui_internal_2017]. In G1/S phase, K124ac compacts the nucleosome, interfering with CENP-C binding (crucial for kinetochore assembly) while simultaneously promoting chromatin decondensation for centromere replication [bui_internal_2017]. During S phase, K124me stabilizes nucleosomes. Furthermore, K124 mutations disrupt both mitosis and replication, demonstrating its critical role in centromere epigenetic regulation [bui_internal_2017].```\n",
    "\n"
   ]
  },
  {
   "cell_type": "markdown",
   "id": "4468d687-24b1-4bd5-a4bf-2b90e8dc7958",
   "metadata": {},
   "source": [
    "## <span style=\"color:black\">Update summary of cenH3_(Insecta)</span>\n",
    "\n",
    "```cenH3_(Insecta) is a centromere-specific histone variant in insects, functionally analogous to CENP-A (Centromere Protein A) in other eukaryotes. It is essential for centromere specification and proper chromosome segregation during cell division. Notably, cenH3 is absent in four holocentric insect clades, suggesting alternative centromere organization mechanisms in these lineages [talbert_histone_2021, senaratne_formation_2021, sridhar_kinetochore_2022, cortes-silva_cenh3-independent_2020]. Some insect families, such as Drosophilidae and Culicidae, possess multiple cenH3 paralogs with evidence of functional specialization. For more overview of these families, see the cenH3_(Drosophilidae) and cenH3_(Culicidae) classes.```"
   ]
  },
  {
   "cell_type": "code",
   "execution_count": 8,
   "id": "9e47422a-45a2-4410-881c-92c405d028d1",
   "metadata": {
    "tags": []
   },
   "outputs": [
    {
     "data": {
      "text/html": [
       "<div>\n",
       "<style scoped>\n",
       "    .dataframe tbody tr th:only-of-type {\n",
       "        vertical-align: middle;\n",
       "    }\n",
       "\n",
       "    .dataframe tbody tr th {\n",
       "        vertical-align: top;\n",
       "    }\n",
       "\n",
       "    .dataframe thead th {\n",
       "        text-align: right;\n",
       "    }\n",
       "</style>\n",
       "<table border=\"1\" class=\"dataframe\">\n",
       "  <thead>\n",
       "    <tr style=\"text-align: right;\">\n",
       "      <th></th>\n",
       "      <th>id</th>\n",
       "      <th>level</th>\n",
       "      <th>taxonomic_span</th>\n",
       "      <th>taxonomic_span_id</th>\n",
       "      <th>description</th>\n",
       "      <th>parent</th>\n",
       "      <th>id</th>\n",
       "      <th>summary</th>\n",
       "      <th>taxonomy</th>\n",
       "      <th>genes</th>\n",
       "      <th>...</th>\n",
       "      <th>knock_out</th>\n",
       "      <th>function</th>\n",
       "      <th>sequence</th>\n",
       "      <th>localization</th>\n",
       "      <th>deposition</th>\n",
       "      <th>structure</th>\n",
       "      <th>interactions</th>\n",
       "      <th>disease</th>\n",
       "      <th>caveats</th>\n",
       "      <th>relations</th>\n",
       "    </tr>\n",
       "  </thead>\n",
       "  <tbody>\n",
       "    <tr>\n",
       "      <th>0</th>\n",
       "      <td>cenH3_(Insecta)</td>\n",
       "      <td>variant</td>\n",
       "      <td>Insecta</td>\n",
       "      <td>50557</td>\n",
       "      <td>237</td>\n",
       "      <td>cenH3_(Animals)</td>\n",
       "      <td>237</td>\n",
       "      <td>cenH3_(Insecta) is a centromere-specific histo...</td>\n",
       "      <td>None</td>\n",
       "      <td>In some insect lineages, cenH3 has undergone g...</td>\n",
       "      <td>...</td>\n",
       "      <td>None</td>\n",
       "      <td>None</td>\n",
       "      <td>None</td>\n",
       "      <td>None</td>\n",
       "      <td>None</td>\n",
       "      <td>None</td>\n",
       "      <td>None</td>\n",
       "      <td>None</td>\n",
       "      <td>None</td>\n",
       "      <td>None</td>\n",
       "    </tr>\n",
       "  </tbody>\n",
       "</table>\n",
       "<p>1 rows × 22 columns</p>\n",
       "</div>"
      ],
      "text/plain": [
       "                id    level taxonomic_span taxonomic_span_id  description  \\\n",
       "0  cenH3_(Insecta)  variant        Insecta            50557           237   \n",
       "\n",
       "            parent   id                                            summary  \\\n",
       "0  cenH3_(Animals)  237  cenH3_(Insecta) is a centromere-specific histo...   \n",
       "\n",
       "  taxonomy                                              genes  ... knock_out  \\\n",
       "0     None  In some insect lineages, cenH3 has undergone g...  ...      None   \n",
       "\n",
       "  function sequence localization deposition structure interactions disease  \\\n",
       "0     None     None         None       None      None         None    None   \n",
       "\n",
       "  caveats relations  \n",
       "0    None      None  \n",
       "\n",
       "[1 rows x 22 columns]"
      ]
     },
     "execution_count": 8,
     "metadata": {},
     "output_type": "execute_result"
    }
   ],
   "source": [
    "query = (\n",
    "    \"SELECT * FROM histone h LEFT JOIN histone_description hd \"\n",
    "    \"ON h.description = hd.id \"\n",
    "    \"WHERE h.id='cenH3_(Insecta)'\"\n",
    ")\n",
    "cursor.execute(query)\n",
    "df = pd.DataFrame(cursor.fetchall(), columns=[i[0] for i in cursor.description])\n",
    "df"
   ]
  },
  {
   "cell_type": "code",
   "execution_count": 10,
   "id": "243e4f66-24dc-4659-a021-892f21d8fcbc",
   "metadata": {
    "tags": []
   },
   "outputs": [
    {
     "name": "stdout",
     "output_type": "stream",
     "text": [
      "UPDATE histone_description SET summary='cenH3_(Insecta) is a centromere-specific histone variant in insects, functionally analogous to CENP-A (Centromere Protein A) in other eukaryotes. It is essential for centromere specification and proper chromosome segregation during cell division. Notably, cenH3 is absent in four holocentric insect clades, suggesting alternative centromere organization mechanisms in these lineages [talbert_histone_2021, senaratne_formation_2021, sridhar_kinetochore_2022, cortes-silva_cenh3-independent_2020]. Some insect families, such as Drosophilidae and Culicidae, possess multiple cenH3 paralogs with evidence of functional specialization. For more overview of these families, see the cenH3_(Drosophilidae) and cenH3_(Culicidae) classes.' WHERE id=237\n"
     ]
    }
   ],
   "source": [
    "summary_desc = \"cenH3_(Insecta) is a centromere-specific histone variant in insects, functionally analogous to CENP-A (Centromere Protein A) in other eukaryotes. It is essential for centromere specification and proper chromosome segregation during cell division. Notably, cenH3 is absent in four holocentric insect clades, suggesting alternative centromere organization mechanisms in these lineages [talbert_histone_2021, senaratne_formation_2021, sridhar_kinetochore_2022, cortes-silva_cenh3-independent_2020]. Some insect families, such as Drosophilidae and Culicidae, possess multiple cenH3 paralogs with evidence of functional specialization. For more overview of these families, see the cenH3_(Drosophilidae) and cenH3_(Culicidae) classes.\"\n",
    "query = f\"UPDATE histone_description SET summary='{summary_desc}' WHERE id=237\"\n",
    "print(query)\n",
    "cursor.execute(query)"
   ]
  },
  {
   "cell_type": "code",
   "execution_count": 12,
   "id": "2f7ce627-92a2-4808-8399-e66a13e9958a",
   "metadata": {
    "tags": []
   },
   "outputs": [
    {
     "data": {
      "text/plain": [
       "'cenH3_(Insecta) is a centromere-specific histone variant in insects, functionally analogous to CENP-A (Centromere Protein A) in other eukaryotes. It is essential for centromere specification and proper chromosome segregation during cell division. Notably, cenH3 is absent in four holocentric insect clades, suggesting alternative centromere organization mechanisms in these lineages [talbert_histone_2021, senaratne_formation_2021, sridhar_kinetochore_2022, cortes-silva_cenh3-independent_2020]. Some insect families, such as Drosophilidae and Culicidae, possess multiple cenH3 paralogs with evidence of functional specialization. For more overview of these families, see the cenH3_(Drosophilidae) and cenH3_(Culicidae) classes.'"
      ]
     },
     "execution_count": 12,
     "metadata": {},
     "output_type": "execute_result"
    }
   ],
   "source": [
    "query = (\n",
    "    \"SELECT * FROM histone h LEFT JOIN histone_description hd \"\n",
    "    \"ON h.description = hd.id \"\n",
    "    \"WHERE h.id='cenH3_(Insecta)'\"\n",
    ")\n",
    "cursor.execute(query)\n",
    "df = pd.DataFrame(cursor.fetchall(), columns=[i[0] for i in cursor.description])\n",
    "df[\"summary\"].values[0]"
   ]
  },
  {
   "cell_type": "code",
   "execution_count": 13,
   "id": "ad0eec09-3505-4576-8982-db1d9e20e29d",
   "metadata": {
    "tags": []
   },
   "outputs": [],
   "source": [
    "# Make sure data is committed to the database\n",
    "conn.commit()"
   ]
  },
  {
   "cell_type": "markdown",
   "id": "23a1ae2e-c6f7-45ea-9010-88c9f326f7e1",
   "metadata": {},
   "source": [
    "## <span style=\"color:black\">Update description of cenH3_(Drosophilidae)</span>\n",
    "\n",
    "### <span style=\"color:black\">Add deposition</span>\n",
    "\n",
    "```In Drosophila melanogaster, the deposition of cenH3 into nucleosomes is mediated by the chaperone CAL1 in a DNA sequence-independent manner. CAL1 facilitates nucleosome formation through direct interaction with cenH3-H4 histones and additionally recruits the FACT complex (comprising Dre4 and SSRP1 subunits) along with RNA polymerase II (RNAPII) [chen_establishment_2015, chen_cal1_2014]. FACT destabilizes H3-containing nucleosomes, enabling RNAPII-mediated transcription of DNA, a prerequisite for the replacement of H3 with CENP-A/H4 [chen_establishment_2015]. In the absence of FACT, transcription is abolished, preventing CENP-A incorporation. Importantly, CAL1 mediates the assembly of octameric nucleosomes with left-handed DNA wrapping, analogous to canonical nucleosomes [chen_cal1_2014].```\n",
    "\n",
    "### <span style=\"color:black\">Add function</span>\n",
    "\n",
    "```Similar to other animals, Drosophila cenH3 functions primarily in kinetochore assembly through CENP-C recruitment. However, in contrast to vertebrates where CENP-A directly binds CENP-C, Drosophila depends on the CAL1 chaperone to bridge cenH3-CENP-C interaction for proper kinetochore formation and chromosome segregation [chen_cal1_2014].```"
   ]
  },
  {
   "cell_type": "code",
   "execution_count": 14,
   "id": "49bdd939-105d-4ffe-ae14-2bb88e502fd9",
   "metadata": {
    "tags": []
   },
   "outputs": [
    {
     "data": {
      "text/html": [
       "<div>\n",
       "<style scoped>\n",
       "    .dataframe tbody tr th:only-of-type {\n",
       "        vertical-align: middle;\n",
       "    }\n",
       "\n",
       "    .dataframe tbody tr th {\n",
       "        vertical-align: top;\n",
       "    }\n",
       "\n",
       "    .dataframe thead th {\n",
       "        text-align: right;\n",
       "    }\n",
       "</style>\n",
       "<table border=\"1\" class=\"dataframe\">\n",
       "  <thead>\n",
       "    <tr style=\"text-align: right;\">\n",
       "      <th></th>\n",
       "      <th>id</th>\n",
       "      <th>level</th>\n",
       "      <th>taxonomic_span</th>\n",
       "      <th>taxonomic_span_id</th>\n",
       "      <th>description</th>\n",
       "      <th>parent</th>\n",
       "      <th>id</th>\n",
       "      <th>summary</th>\n",
       "      <th>taxonomy</th>\n",
       "      <th>genes</th>\n",
       "      <th>...</th>\n",
       "      <th>knock_out</th>\n",
       "      <th>function</th>\n",
       "      <th>sequence</th>\n",
       "      <th>localization</th>\n",
       "      <th>deposition</th>\n",
       "      <th>structure</th>\n",
       "      <th>interactions</th>\n",
       "      <th>disease</th>\n",
       "      <th>caveats</th>\n",
       "      <th>relations</th>\n",
       "    </tr>\n",
       "  </thead>\n",
       "  <tbody>\n",
       "    <tr>\n",
       "      <th>0</th>\n",
       "      <td>cenH3_(Drosophilidae)</td>\n",
       "      <td>variant</td>\n",
       "      <td>Drosophilidae</td>\n",
       "      <td>7214</td>\n",
       "      <td>238</td>\n",
       "      <td>cenH3_(Insecta)</td>\n",
       "      <td>238</td>\n",
       "      <td>cenH3_(Drosophilidae) is a centromere-specific...</td>\n",
       "      <td>None</td>\n",
       "      <td>In Drosophila, six cenH3 paralogs (Cid1–Cid6) ...</td>\n",
       "      <td>...</td>\n",
       "      <td>None</td>\n",
       "      <td>None</td>\n",
       "      <td>None</td>\n",
       "      <td>None</td>\n",
       "      <td>None</td>\n",
       "      <td>None</td>\n",
       "      <td>None</td>\n",
       "      <td>None</td>\n",
       "      <td>None</td>\n",
       "      <td>None</td>\n",
       "    </tr>\n",
       "  </tbody>\n",
       "</table>\n",
       "<p>1 rows × 22 columns</p>\n",
       "</div>"
      ],
      "text/plain": [
       "                      id    level taxonomic_span taxonomic_span_id  \\\n",
       "0  cenH3_(Drosophilidae)  variant  Drosophilidae              7214   \n",
       "\n",
       "   description           parent   id  \\\n",
       "0          238  cenH3_(Insecta)  238   \n",
       "\n",
       "                                             summary taxonomy  \\\n",
       "0  cenH3_(Drosophilidae) is a centromere-specific...     None   \n",
       "\n",
       "                                               genes  ... knock_out function  \\\n",
       "0  In Drosophila, six cenH3 paralogs (Cid1–Cid6) ...  ...      None     None   \n",
       "\n",
       "  sequence localization deposition structure interactions disease caveats  \\\n",
       "0     None         None       None      None         None    None    None   \n",
       "\n",
       "  relations  \n",
       "0      None  \n",
       "\n",
       "[1 rows x 22 columns]"
      ]
     },
     "execution_count": 14,
     "metadata": {},
     "output_type": "execute_result"
    }
   ],
   "source": [
    "query = (\n",
    "    \"SELECT * FROM histone h LEFT JOIN histone_description hd \"\n",
    "    \"ON h.description = hd.id \"\n",
    "    \"WHERE h.id='cenH3_(Drosophilidae)'\"\n",
    ")\n",
    "cursor.execute(query)\n",
    "df = pd.DataFrame(cursor.fetchall(), columns=[i[0] for i in cursor.description])\n",
    "df"
   ]
  },
  {
   "cell_type": "code",
   "execution_count": 16,
   "id": "205fccbd-c141-437c-96e9-353316bef2ea",
   "metadata": {
    "tags": []
   },
   "outputs": [
    {
     "name": "stdout",
     "output_type": "stream",
     "text": [
      "UPDATE histone_description SET deposition='In Drosophila melanogaster, the deposition of cenH3 into nucleosomes is mediated by the chaperone CAL1 in a DNA sequence-independent manner. CAL1 facilitates nucleosome formation through direct interaction with cenH3-H4 histones and additionally recruits the FACT complex (comprising Dre4 and SSRP1 subunits) along with RNA polymerase II (RNAPII) [chen_establishment_2015, chen_cal1_2014]. FACT destabilizes H3-containing nucleosomes, enabling RNAPII-mediated transcription of DNA, a prerequisite for the replacement of H3 with CENP-A/H4 [chen_establishment_2015]. In the absence of FACT, transcription is abolished, preventing CENP-A incorporation. Importantly, CAL1 mediates the assembly of octameric nucleosomes with left-handed DNA wrapping, analogous to canonical nucleosomes [chen_cal1_2014].', function='Similar to other animals, Drosophila cenH3 functions primarily in kinetochore assembly through CENP-C recruitment. However, in contrast to vertebrates where CENP-A directly binds CENP-C, Drosophila depends on the CAL1 chaperone to bridge cenH3-CENP-C interaction for proper kinetochore formation and chromosome segregation [chen_cal1_2014].' WHERE id=238\n"
     ]
    }
   ],
   "source": [
    "deposition_desc = \"In Drosophila melanogaster, the deposition of cenH3 into nucleosomes is mediated by the chaperone CAL1 in a DNA sequence-independent manner. CAL1 facilitates nucleosome formation through direct interaction with cenH3-H4 histones and additionally recruits the FACT complex (comprising Dre4 and SSRP1 subunits) along with RNA polymerase II (RNAPII) [chen_establishment_2015, chen_cal1_2014]. FACT destabilizes H3-containing nucleosomes, enabling RNAPII-mediated transcription of DNA, a prerequisite for the replacement of H3 with CENP-A/H4 [chen_establishment_2015]. In the absence of FACT, transcription is abolished, preventing CENP-A incorporation. Importantly, CAL1 mediates the assembly of octameric nucleosomes with left-handed DNA wrapping, analogous to canonical nucleosomes [chen_cal1_2014].\"\n",
    "function_desc = \"Similar to other animals, Drosophila cenH3 functions primarily in kinetochore assembly through CENP-C recruitment. However, in contrast to vertebrates where CENP-A directly binds CENP-C, Drosophila depends on the CAL1 chaperone to bridge cenH3-CENP-C interaction for proper kinetochore formation and chromosome segregation [chen_cal1_2014].\"\n",
    "query = f\"UPDATE histone_description SET deposition='{deposition_desc}', function='{function_desc}' WHERE id=238\"\n",
    "print(query)\n",
    "cursor.execute(query)"
   ]
  },
  {
   "cell_type": "code",
   "execution_count": 19,
   "id": "79ae3feb-0222-40f7-a261-5452a02328b3",
   "metadata": {
    "tags": []
   },
   "outputs": [
    {
     "data": {
      "text/html": [
       "<div>\n",
       "<style scoped>\n",
       "    .dataframe tbody tr th:only-of-type {\n",
       "        vertical-align: middle;\n",
       "    }\n",
       "\n",
       "    .dataframe tbody tr th {\n",
       "        vertical-align: top;\n",
       "    }\n",
       "\n",
       "    .dataframe thead th {\n",
       "        text-align: right;\n",
       "    }\n",
       "</style>\n",
       "<table border=\"1\" class=\"dataframe\">\n",
       "  <thead>\n",
       "    <tr style=\"text-align: right;\">\n",
       "      <th></th>\n",
       "      <th>deposition</th>\n",
       "      <th>function</th>\n",
       "    </tr>\n",
       "  </thead>\n",
       "  <tbody>\n",
       "    <tr>\n",
       "      <th>0</th>\n",
       "      <td>In Drosophila melanogaster, the deposition of ...</td>\n",
       "      <td>Similar to other animals, Drosophila cenH3 fun...</td>\n",
       "    </tr>\n",
       "  </tbody>\n",
       "</table>\n",
       "</div>"
      ],
      "text/plain": [
       "                                          deposition  \\\n",
       "0  In Drosophila melanogaster, the deposition of ...   \n",
       "\n",
       "                                            function  \n",
       "0  Similar to other animals, Drosophila cenH3 fun...  "
      ]
     },
     "execution_count": 19,
     "metadata": {},
     "output_type": "execute_result"
    }
   ],
   "source": [
    "query = (\n",
    "    \"SELECT * FROM histone h LEFT JOIN histone_description hd \"\n",
    "    \"ON h.description = hd.id \"\n",
    "    \"WHERE h.id='cenH3_(Drosophilidae)'\"\n",
    ")\n",
    "cursor.execute(query)\n",
    "df = pd.DataFrame(cursor.fetchall(), columns=[i[0] for i in cursor.description])\n",
    "df[[\"deposition\", \"function\"]]"
   ]
  },
  {
   "cell_type": "code",
   "execution_count": 20,
   "id": "83af1119-aa9f-4b32-8970-271753cce7e1",
   "metadata": {
    "tags": []
   },
   "outputs": [],
   "source": [
    "# Make sure data is committed to the database\n",
    "conn.commit()"
   ]
  },
  {
   "cell_type": "markdown",
   "id": "36693426-7c13-403a-9963-5a010744db5b",
   "metadata": {},
   "source": [
    "## <span style=\"color:black\">Update description of cenH3</span>\n",
    "\n",
    "### <span style=\"color:black\">Update function</span>\n",
    "\n",
    "```Despite the high diversity of cenH3 proteins, they represent a key factor involved in centromere identity and recruiting constitutive centromere-associated network (CCAN), ensuring accurate chromosome segregation, across a wide range of organisms. For example, the deep evolutionary conservation of cenH3 histone function in plants demonstarted by the ability of Zea mays cenH3 to functionally replace its counterpart in Arabidopsis thaliana [maheshwari_naturally_2015]. However, certain functional differences of cenH3 in chromosome segregation are observed across different species [wong_epigenetic_2020, steiner_diversity_2015]. Distinction is mainly related to cenH3 distribution on the chromosome, timing of cenH3 replenishment, heterochromatin dependence and chaperone specificity. In most mammals (including humans), cenH3 is incorporated into nucleosomes positioned within satellite repeat regions. In contrast, yeast species exhibit both regional (fission yeast) and point (budding yeast) centromeres, the latter consisting of a single cenH3 nucleosome complex assembled on specific DNA sequences. Nematode holocentromeres are characterized by the distribution of cenH3 along the entire chromosome length. Key factors of centromere identity in speicies with regional centromere (e.g., vertebrates) are the epigenetic context and transcription of centromeric DNA, whereas centromeres in budding yeast (S. cerevisiae) are determined by specific DNA sequences [wong_epigenetic_2020, hara_critical_2017, hori_histone_2014]. Moreover, studies in human and chicken cells have demonstrated the existence of natural and artificially created functional neocentromeres lacking alpha-satellite DNA [hara_critical_2017]. At the same time, despite the possibility of epigenetic drift, cenH3 positioning in maize centromeres is stable over generations and primarily governed by genetic changes [gent_stable_2015].```\n",
    "\n",
    "### <span style=\"color:black\">Add deposition</span>\n",
    "\n",
    "```Unlike canonical histones, cenH3 deposition is replication-independent. In most speices, cenH3 synthesis and loading occurs during late mitosis and G1 phase of the cell cycle, mediated by specialized chaperones (HJURP in humans, Scm3 in budding and fission yeast, and CAL1 in Drosophila). However, the timing of deposition differs in some organisms. For instance, in budding yeast, cenH3 replenishment occurs during S-phase [wong_epigenetic_2020, pearson_stable_2004]. Notably, both budding yeast and nematodes (C. elegans) exhibit complete turnover of cenH3 each cell cycle [wong_epigenetic_2020]. The assembly and replenishment of cenH3 nucleosomes involves chromatin remodeling, resulting in the displacement of H3.3 histones and active stabilization by specific proteins (e.g., HJURP, CENP-C, CENP-B in humans) [dunleavy_h33_2011, wong_epigenetic_2020, black_epigenetic_2011]. It is possible that new cenH3 deposition doesn't always occur at the same centromeric position during every cell cycle [dunleavy_h33_2011]. Deposition of cenH3 into centromeric nucleosomes depends not only on a specific chaperone but also on numerous other factors. The study using DT40 (chicken) and HeLa S3 (human) cell lines demonstrated that chromatin-remodeling complexes FACT and CHD1 play important roles in the proper recruitment of cenH3 [okada_cenp-hcontaining_2009]. However, this observation is likely not universal across all organisms. For example, in Drosophila, cenH3 incorporation occurs independently of CHD1, yet still involves direct participation of FACT [podhraski_cenh3cid_2010, chen_establishment_2015, chen_cal1_2014].```"
   ]
  },
  {
   "cell_type": "code",
   "execution_count": 23,
   "id": "add8b1b8-4af9-4a8b-943b-69aa201674be",
   "metadata": {
    "tags": []
   },
   "outputs": [
    {
     "data": {
      "text/html": [
       "<div>\n",
       "<style scoped>\n",
       "    .dataframe tbody tr th:only-of-type {\n",
       "        vertical-align: middle;\n",
       "    }\n",
       "\n",
       "    .dataframe tbody tr th {\n",
       "        vertical-align: top;\n",
       "    }\n",
       "\n",
       "    .dataframe thead th {\n",
       "        text-align: right;\n",
       "    }\n",
       "</style>\n",
       "<table border=\"1\" class=\"dataframe\">\n",
       "  <thead>\n",
       "    <tr style=\"text-align: right;\">\n",
       "      <th></th>\n",
       "      <th>id</th>\n",
       "      <th>level</th>\n",
       "      <th>taxonomic_span</th>\n",
       "      <th>taxonomic_span_id</th>\n",
       "      <th>description</th>\n",
       "      <th>parent</th>\n",
       "      <th>id</th>\n",
       "      <th>summary</th>\n",
       "      <th>taxonomy</th>\n",
       "      <th>genes</th>\n",
       "      <th>...</th>\n",
       "      <th>knock_out</th>\n",
       "      <th>function</th>\n",
       "      <th>sequence</th>\n",
       "      <th>localization</th>\n",
       "      <th>deposition</th>\n",
       "      <th>structure</th>\n",
       "      <th>interactions</th>\n",
       "      <th>disease</th>\n",
       "      <th>caveats</th>\n",
       "      <th>relations</th>\n",
       "    </tr>\n",
       "  </thead>\n",
       "  <tbody>\n",
       "    <tr>\n",
       "      <th>0</th>\n",
       "      <td>cenH3</td>\n",
       "      <td>variant_group</td>\n",
       "      <td>Eukaryotes</td>\n",
       "      <td>2759</td>\n",
       "      <td>96</td>\n",
       "      <td>H3</td>\n",
       "      <td>96</td>\n",
       "      <td>cenH3 is a centromere-specific histone variant...</td>\n",
       "      <td>cenH3 present in most eukaryotes. However, it ...</td>\n",
       "      <td>null</td>\n",
       "      <td>...</td>\n",
       "      <td>null</td>\n",
       "      <td>Despite the high diversity of cenH3 proteins, ...</td>\n",
       "      <td>cenH3 has an extended L1-loop and its N-termin...</td>\n",
       "      <td>null</td>\n",
       "      <td>null</td>\n",
       "      <td>null</td>\n",
       "      <td>null</td>\n",
       "      <td>CenH3 plays pro-viral and restriction role in ...</td>\n",
       "      <td>null</td>\n",
       "      <td>None</td>\n",
       "    </tr>\n",
       "  </tbody>\n",
       "</table>\n",
       "<p>1 rows × 22 columns</p>\n",
       "</div>"
      ],
      "text/plain": [
       "      id          level taxonomic_span taxonomic_span_id  description parent  \\\n",
       "0  cenH3  variant_group     Eukaryotes              2759           96     H3   \n",
       "\n",
       "   id                                            summary  \\\n",
       "0  96  cenH3 is a centromere-specific histone variant...   \n",
       "\n",
       "                                            taxonomy genes  ... knock_out  \\\n",
       "0  cenH3 present in most eukaryotes. However, it ...  null  ...      null   \n",
       "\n",
       "                                            function  \\\n",
       "0  Despite the high diversity of cenH3 proteins, ...   \n",
       "\n",
       "                                            sequence localization deposition  \\\n",
       "0  cenH3 has an extended L1-loop and its N-termin...         null       null   \n",
       "\n",
       "  structure interactions                                            disease  \\\n",
       "0      null         null  CenH3 plays pro-viral and restriction role in ...   \n",
       "\n",
       "  caveats relations  \n",
       "0    null      None  \n",
       "\n",
       "[1 rows x 22 columns]"
      ]
     },
     "execution_count": 23,
     "metadata": {},
     "output_type": "execute_result"
    }
   ],
   "source": [
    "query = (\n",
    "    \"SELECT * FROM histone h LEFT JOIN histone_description hd \"\n",
    "    \"ON h.description = hd.id \"\n",
    "    \"WHERE h.id='cenH3'\"\n",
    ")\n",
    "cursor.execute(query)\n",
    "df = pd.DataFrame(cursor.fetchall(), columns=[i[0] for i in cursor.description])\n",
    "df"
   ]
  },
  {
   "cell_type": "code",
   "execution_count": 26,
   "id": "e7844526-0703-4fc7-8a55-0301e998eebf",
   "metadata": {
    "tags": []
   },
   "outputs": [
    {
     "name": "stdout",
     "output_type": "stream",
     "text": [
      "UPDATE histone_description SET deposition=\"Unlike canonical histones, cenH3 deposition is replication-independent. In most speices, cenH3 synthesis and loading occurs during late mitosis and G1 phase of the cell cycle, mediated by specialized chaperones (HJURP in humans, Scm3 in budding and fission yeast, and CAL1 in Drosophila). However, the timing of deposition differs in some organisms. For instance, in budding yeast, cenH3 replenishment occurs during S-phase [wong_epigenetic_2020, pearson_stable_2004]. Notably, both budding yeast and nematodes (C. elegans) exhibit complete turnover of cenH3 each cell cycle [wong_epigenetic_2020]. The assembly and replenishment of cenH3 nucleosomes involves chromatin remodeling, resulting in the displacement of H3.3 histones and active stabilization by specific proteins (e.g., HJURP, CENP-C, CENP-B in humans) [dunleavy_h33_2011, wong_epigenetic_2020, black_epigenetic_2011]. It is possible that new cenH3 deposition doesn't always occur at the same centromeric position during every cell cycle [dunleavy_h33_2011]. Deposition of cenH3 into centromeric nucleosomes depends not only on a specific chaperone but also on numerous other factors. The study using DT40 (chicken) and HeLa S3 (human) cell lines demonstrated that chromatin-remodeling complexes FACT and CHD1 play important roles in the proper recruitment of cenH3 [okada_cenp-hcontaining_2009]. However, this observation is likely not universal across all organisms. For example, in Drosophila, cenH3 incorporation occurs independently of CHD1, yet still involves direct participation of FACT [podhraski_cenh3cid_2010, chen_establishment_2015, chen_cal1_2014].\", function=\"Despite the high diversity of cenH3 proteins, they represent a key factor involved in centromere identity and recruiting constitutive centromere-associated network (CCAN), ensuring accurate chromosome segregation, across a wide range of organisms. For example, the deep evolutionary conservation of cenH3 histone function in plants demonstarted by the ability of Zea mays cenH3 to functionally replace its counterpart in Arabidopsis thaliana [maheshwari_naturally_2015]. However, certain functional differences of cenH3 in chromosome segregation are observed across different species [wong_epigenetic_2020, steiner_diversity_2015]. Distinction is mainly related to cenH3 distribution on the chromosome, timing of cenH3 replenishment, heterochromatin dependence and chaperone specificity. In most mammals (including humans), cenH3 is incorporated into nucleosomes positioned within satellite repeat regions. In contrast, yeast species exhibit both regional (fission yeast) and point (budding yeast) centromeres, the latter consisting of a single cenH3 nucleosome complex assembled on specific DNA sequences. Nematode holocentromeres are characterized by the distribution of cenH3 along the entire chromosome length. Key factors of centromere identity in speicies with regional centromere (e.g., vertebrates) are the epigenetic context and transcription of centromeric DNA, whereas centromeres in budding yeast (S. cerevisiae) are determined by specific DNA sequences [wong_epigenetic_2020, hara_critical_2017, hori_histone_2014]. Moreover, studies in human and chicken cells have demonstrated the existence of natural and artificially created functional neocentromeres lacking alpha-satellite DNA [hara_critical_2017]. At the same time, despite the possibility of epigenetic drift, cenH3 positioning in maize centromeres is stable over generations and primarily governed by genetic changes [gent_stable_2015].\" WHERE id=96\n"
     ]
    }
   ],
   "source": [
    "deposition_desc = \"Unlike canonical histones, cenH3 deposition is replication-independent. In most speices, cenH3 synthesis and loading occurs during late mitosis and G1 phase of the cell cycle, mediated by specialized chaperones (HJURP in humans, Scm3 in budding and fission yeast, and CAL1 in Drosophila). However, the timing of deposition differs in some organisms. For instance, in budding yeast, cenH3 replenishment occurs during S-phase [wong_epigenetic_2020, pearson_stable_2004]. Notably, both budding yeast and nematodes (C. elegans) exhibit complete turnover of cenH3 each cell cycle [wong_epigenetic_2020]. The assembly and replenishment of cenH3 nucleosomes involves chromatin remodeling, resulting in the displacement of H3.3 histones and active stabilization by specific proteins (e.g., HJURP, CENP-C, CENP-B in humans) [dunleavy_h33_2011, wong_epigenetic_2020, black_epigenetic_2011]. It is possible that new cenH3 deposition doesn't always occur at the same centromeric position during every cell cycle [dunleavy_h33_2011]. Deposition of cenH3 into centromeric nucleosomes depends not only on a specific chaperone but also on numerous other factors. The study using DT40 (chicken) and HeLa S3 (human) cell lines demonstrated that chromatin-remodeling complexes FACT and CHD1 play important roles in the proper recruitment of cenH3 [okada_cenp-hcontaining_2009]. However, this observation is likely not universal across all organisms. For example, in Drosophila, cenH3 incorporation occurs independently of CHD1, yet still involves direct participation of FACT [podhraski_cenh3cid_2010, chen_establishment_2015, chen_cal1_2014].\"\n",
    "function_desc = \"Despite the high diversity of cenH3 proteins, they represent a key factor involved in centromere identity and recruiting constitutive centromere-associated network (CCAN), ensuring accurate chromosome segregation, across a wide range of organisms. For example, the deep evolutionary conservation of cenH3 histone function in plants demonstarted by the ability of Zea mays cenH3 to functionally replace its counterpart in Arabidopsis thaliana [maheshwari_naturally_2015]. However, certain functional differences of cenH3 in chromosome segregation are observed across different species [wong_epigenetic_2020, steiner_diversity_2015]. Distinction is mainly related to cenH3 distribution on the chromosome, timing of cenH3 replenishment, heterochromatin dependence and chaperone specificity. In most mammals (including humans), cenH3 is incorporated into nucleosomes positioned within satellite repeat regions. In contrast, yeast species exhibit both regional (fission yeast) and point (budding yeast) centromeres, the latter consisting of a single cenH3 nucleosome complex assembled on specific DNA sequences. Nematode holocentromeres are characterized by the distribution of cenH3 along the entire chromosome length. Key factors of centromere identity in speicies with regional centromere (e.g., vertebrates) are the epigenetic context and transcription of centromeric DNA, whereas centromeres in budding yeast (S. cerevisiae) are determined by specific DNA sequences [wong_epigenetic_2020, hara_critical_2017, hori_histone_2014]. Moreover, studies in human and chicken cells have demonstrated the existence of natural and artificially created functional neocentromeres lacking alpha-satellite DNA [hara_critical_2017]. At the same time, despite the possibility of epigenetic drift, cenH3 positioning in maize centromeres is stable over generations and primarily governed by genetic changes [gent_stable_2015].\"\n",
    "query = f'UPDATE histone_description SET deposition=\"{deposition_desc}\", function=\"{function_desc}\" WHERE id=96'\n",
    "print(query)\n",
    "cursor.execute(query)"
   ]
  },
  {
   "cell_type": "code",
   "execution_count": 27,
   "id": "770d4e19-ade0-4de9-b6c8-fd647b9ab578",
   "metadata": {
    "tags": []
   },
   "outputs": [
    {
     "data": {
      "text/html": [
       "<div>\n",
       "<style scoped>\n",
       "    .dataframe tbody tr th:only-of-type {\n",
       "        vertical-align: middle;\n",
       "    }\n",
       "\n",
       "    .dataframe tbody tr th {\n",
       "        vertical-align: top;\n",
       "    }\n",
       "\n",
       "    .dataframe thead th {\n",
       "        text-align: right;\n",
       "    }\n",
       "</style>\n",
       "<table border=\"1\" class=\"dataframe\">\n",
       "  <thead>\n",
       "    <tr style=\"text-align: right;\">\n",
       "      <th></th>\n",
       "      <th>deposition</th>\n",
       "      <th>function</th>\n",
       "    </tr>\n",
       "  </thead>\n",
       "  <tbody>\n",
       "    <tr>\n",
       "      <th>0</th>\n",
       "      <td>Unlike canonical histones, cenH3 deposition is...</td>\n",
       "      <td>Despite the high diversity of cenH3 proteins, ...</td>\n",
       "    </tr>\n",
       "  </tbody>\n",
       "</table>\n",
       "</div>"
      ],
      "text/plain": [
       "                                          deposition  \\\n",
       "0  Unlike canonical histones, cenH3 deposition is...   \n",
       "\n",
       "                                            function  \n",
       "0  Despite the high diversity of cenH3 proteins, ...  "
      ]
     },
     "execution_count": 27,
     "metadata": {},
     "output_type": "execute_result"
    }
   ],
   "source": [
    "query = (\n",
    "    \"SELECT * FROM histone h LEFT JOIN histone_description hd \"\n",
    "    \"ON h.description = hd.id \"\n",
    "    \"WHERE h.id='cenH3'\"\n",
    ")\n",
    "cursor.execute(query)\n",
    "df = pd.DataFrame(cursor.fetchall(), columns=[i[0] for i in cursor.description])\n",
    "df[[\"deposition\", \"function\"]]"
   ]
  },
  {
   "cell_type": "code",
   "execution_count": 28,
   "id": "dfae09da-9c8d-4905-bd17-5c6cb7cf1fff",
   "metadata": {
    "tags": []
   },
   "outputs": [],
   "source": [
    "# Make sure data is committed to the database\n",
    "conn.commit()"
   ]
  },
  {
   "cell_type": "markdown",
   "id": "113a6b0f-31fe-414f-b47e-a56673bdd34c",
   "metadata": {},
   "source": [
    "## <span style=\"color:black\">Update description of cenH3_(Animals)</span>\n",
    "\n",
    "### <span style=\"color:black\">Update summary</span>\n",
    "\n",
    "```cenH3_(Animals) is a centromere-specific histone variant in animals (Metazoa), often called CENP-A (Centromere Protein A) in mammals, and an important component of active centromere required for chromosome segregation.```\n",
    "\n",
    "### <span style=\"color:black\">Add interactions</span>\n",
    "\n",
    "```cenH3 nucleosomes stabilize the inner kinetochore known as the CCAN complex (Constitutive Centromere-Associated Network). The initiation of kinetochore assembly involves the interaction between CENP-A and CENP-C [watanabe_cdk1-mediated_2019, walstein_assembly_2021]. CDK1-mediated phosphorylation of CENP-C enhances its binding to CENP-A nucleosomes during mitosis, as shown in both chicken and human cells [watanabe_cdk1-mediated_2019]. However, the functional importance of this interaction varies: while it is nonessential for viability in chicken cells, it is crucial for proper CENP-C kinetochore localization and long-term survival in human cells [watanabe_cdk1-mediated_2019]. It was demonstrated that binding of the CENP-C protein stiffens the cenH3 nucleosome, decreasing its flexibility and stabilizing its conformation, which promotes chromatin condensation and restricts access for transcriptional machinery [melters_intrinsic_2019]. CENP-N specifically recognizes CENP-A in the centromeric nucleosome by binding to its L1 loop through key residues (e.g., E3, T4, E7 in humans) and stabilizes the interaction via electrostatic contacts with nucleosomal DNA [chittori_structural_2018]. This interaction has co-evolved across species to ensure accurate kinetochore assembly and epigenetic centromere inheritance [chittori_structural_2018].```\n",
    "\n",
    "### <span style=\"color:black\">Update genes</span>\n",
    "\n",
    "```The nematodes Caenorhabditis elegans and C. remanei possess two genes encoding cenH3: HCP-3 (also known as CeCENP-A) and CPAR-1 [monen_separase_2015, monen_differential_2005]. While HCP-3 functions as the predominant centromeric histone - being highly expressed and essential for precise chromosome segregation during mitotic divisions - CPAR-1 displays distinct characteristics: it exhibits lower expression levels but shows specific enrichment on meiotic chromosomes. Importantly, CPAR-1 undergoes separase-mediated proteolytic cleavage at the meiosis I metaphase-to-anaphase transition, implying a specialized, though not yet fully characterized, role in meiotic processes [monen_separase_2015].```\n",
    "\n",
    "### <span style=\"color:black\">Update function</span>\n",
    "\n",
    "```The active centromeric chromatin, enriched with cenH3, defines the region of kinetochore interaction for spindle formation. However, certain functional differences in chromosome segregation are observed across different species. For example, in vertebrates, CENP-A is concentrated in a compact centromeric region, whereas in nematodes, HCP-3 is distributed diffusely, corresponding to a holocentric organization [hara_critical_2017]. Notably, in certain holocentric organisms, cenH3 appears dispensable for meiotic chromosome segregation while remaining essential for mitosis. As demonstrated in Caenorhabditis elegans, cenH3 loading is specifically eliminated following meiosis I, and RNAi-mediated depletion of CENP-A during meiosis fails to disrupt proper chromosome segregation [monen_differential_2005]. This stands in striking contrast to mitotic divisions, where cenH3 is absolutely required for kinetochore assembly and faithful chromosome segregation. Moreover, C. elegans and C. remanei possess a second cenH3 histone gene that likely performs specialized functions distinct from canonical cenH3 roles [monen_separase_2015]. For more detailed information see the \"gene\" section.```"
   ]
  },
  {
   "cell_type": "code",
   "execution_count": 29,
   "id": "d8d02b53-9bab-4572-a61b-155f2f1d013e",
   "metadata": {
    "tags": []
   },
   "outputs": [
    {
     "data": {
      "text/html": [
       "<div>\n",
       "<style scoped>\n",
       "    .dataframe tbody tr th:only-of-type {\n",
       "        vertical-align: middle;\n",
       "    }\n",
       "\n",
       "    .dataframe tbody tr th {\n",
       "        vertical-align: top;\n",
       "    }\n",
       "\n",
       "    .dataframe thead th {\n",
       "        text-align: right;\n",
       "    }\n",
       "</style>\n",
       "<table border=\"1\" class=\"dataframe\">\n",
       "  <thead>\n",
       "    <tr style=\"text-align: right;\">\n",
       "      <th></th>\n",
       "      <th>id</th>\n",
       "      <th>level</th>\n",
       "      <th>taxonomic_span</th>\n",
       "      <th>taxonomic_span_id</th>\n",
       "      <th>description</th>\n",
       "      <th>parent</th>\n",
       "      <th>id</th>\n",
       "      <th>summary</th>\n",
       "      <th>taxonomy</th>\n",
       "      <th>genes</th>\n",
       "      <th>...</th>\n",
       "      <th>knock_out</th>\n",
       "      <th>function</th>\n",
       "      <th>sequence</th>\n",
       "      <th>localization</th>\n",
       "      <th>deposition</th>\n",
       "      <th>structure</th>\n",
       "      <th>interactions</th>\n",
       "      <th>disease</th>\n",
       "      <th>caveats</th>\n",
       "      <th>relations</th>\n",
       "    </tr>\n",
       "  </thead>\n",
       "  <tbody>\n",
       "    <tr>\n",
       "      <th>0</th>\n",
       "      <td>cenH3_(Animals)</td>\n",
       "      <td>variant</td>\n",
       "      <td>Homo sapiens</td>\n",
       "      <td>9606</td>\n",
       "      <td>94</td>\n",
       "      <td>cenH3</td>\n",
       "      <td>94</td>\n",
       "      <td>cenH3_(Animals) is a centromere-specific histo...</td>\n",
       "      <td>null</td>\n",
       "      <td>CENP-A nucleosomes are essential for chromosom...</td>\n",
       "      <td>...</td>\n",
       "      <td>null</td>\n",
       "      <td>The nematodes Caenorhabditis elegans and C. re...</td>\n",
       "      <td>null</td>\n",
       "      <td>null</td>\n",
       "      <td>null</td>\n",
       "      <td>null</td>\n",
       "      <td>null</td>\n",
       "      <td>null</td>\n",
       "      <td>null</td>\n",
       "      <td>None</td>\n",
       "    </tr>\n",
       "  </tbody>\n",
       "</table>\n",
       "<p>1 rows × 22 columns</p>\n",
       "</div>"
      ],
      "text/plain": [
       "                id    level taxonomic_span taxonomic_span_id  description  \\\n",
       "0  cenH3_(Animals)  variant   Homo sapiens              9606           94   \n",
       "\n",
       "  parent  id                                            summary taxonomy  \\\n",
       "0  cenH3  94  cenH3_(Animals) is a centromere-specific histo...     null   \n",
       "\n",
       "                                               genes  ... knock_out  \\\n",
       "0  CENP-A nucleosomes are essential for chromosom...  ...      null   \n",
       "\n",
       "                                            function sequence localization  \\\n",
       "0  The nematodes Caenorhabditis elegans and C. re...     null         null   \n",
       "\n",
       "  deposition structure interactions disease caveats relations  \n",
       "0       null      null         null    null    null      None  \n",
       "\n",
       "[1 rows x 22 columns]"
      ]
     },
     "execution_count": 29,
     "metadata": {},
     "output_type": "execute_result"
    }
   ],
   "source": [
    "query = (\n",
    "    \"SELECT * FROM histone h LEFT JOIN histone_description hd \"\n",
    "    \"ON h.description = hd.id \"\n",
    "    \"WHERE h.id='cenH3_(Animals)'\"\n",
    ")\n",
    "cursor.execute(query)\n",
    "df = pd.DataFrame(cursor.fetchall(), columns=[i[0] for i in cursor.description])\n",
    "df"
   ]
  },
  {
   "cell_type": "code",
   "execution_count": 30,
   "id": "f8763743-f63e-440c-b3dc-872e75e71bc4",
   "metadata": {
    "tags": []
   },
   "outputs": [
    {
     "data": {
      "text/html": [
       "<div>\n",
       "<style scoped>\n",
       "    .dataframe tbody tr th:only-of-type {\n",
       "        vertical-align: middle;\n",
       "    }\n",
       "\n",
       "    .dataframe tbody tr th {\n",
       "        vertical-align: top;\n",
       "    }\n",
       "\n",
       "    .dataframe thead th {\n",
       "        text-align: right;\n",
       "    }\n",
       "</style>\n",
       "<table border=\"1\" class=\"dataframe\">\n",
       "  <thead>\n",
       "    <tr style=\"text-align: right;\">\n",
       "      <th></th>\n",
       "      <th>summary</th>\n",
       "      <th>interactions</th>\n",
       "      <th>genes</th>\n",
       "      <th>function</th>\n",
       "    </tr>\n",
       "  </thead>\n",
       "  <tbody>\n",
       "    <tr>\n",
       "      <th>0</th>\n",
       "      <td>cenH3_(Animals) is a centromere-specific histo...</td>\n",
       "      <td>null</td>\n",
       "      <td>CENP-A nucleosomes are essential for chromosom...</td>\n",
       "      <td>The nematodes Caenorhabditis elegans and C. re...</td>\n",
       "    </tr>\n",
       "  </tbody>\n",
       "</table>\n",
       "</div>"
      ],
      "text/plain": [
       "                                             summary interactions  \\\n",
       "0  cenH3_(Animals) is a centromere-specific histo...         null   \n",
       "\n",
       "                                               genes  \\\n",
       "0  CENP-A nucleosomes are essential for chromosom...   \n",
       "\n",
       "                                            function  \n",
       "0  The nematodes Caenorhabditis elegans and C. re...  "
      ]
     },
     "execution_count": 30,
     "metadata": {},
     "output_type": "execute_result"
    }
   ],
   "source": [
    "df[[\"summary\", \"interactions\", \"genes\", \"function\"]]"
   ]
  },
  {
   "cell_type": "code",
   "execution_count": 33,
   "id": "beb4f439-ba7f-4fd4-a9a2-20e4b22f0b4c",
   "metadata": {
    "tags": []
   },
   "outputs": [
    {
     "name": "stdout",
     "output_type": "stream",
     "text": [
      "UPDATE histone_description SET summary='cenH3_(Animals) is a centromere-specific histone variant in animals (Metazoa), often called CENP-A (Centromere Protein A) in mammals, and an important component of active centromere required for chromosome segregation.', interactions='cenH3 nucleosomes stabilize the inner kinetochore known as the CCAN complex (Constitutive Centromere-Associated Network). The initiation of kinetochore assembly involves the interaction between CENP-A and CENP-C [watanabe_cdk1-mediated_2019, walstein_assembly_2021]. CDK1-mediated phosphorylation of CENP-C enhances its binding to CENP-A nucleosomes during mitosis, as shown in both chicken and human cells [watanabe_cdk1-mediated_2019]. However, the functional importance of this interaction varies: while it is nonessential for viability in chicken cells, it is crucial for proper CENP-C kinetochore localization and long-term survival in human cells [watanabe_cdk1-mediated_2019]. It was demonstrated that binding of the CENP-C protein stiffens the cenH3 nucleosome, decreasing its flexibility and stabilizing its conformation, which promotes chromatin condensation and restricts access for transcriptional machinery [melters_intrinsic_2019]. CENP-N specifically recognizes CENP-A in the centromeric nucleosome by binding to its L1 loop through key residues (e.g., E3, T4, E7 in humans) and stabilizes the interaction via electrostatic contacts with nucleosomal DNA [chittori_structural_2018]. This interaction has co-evolved across species to ensure accurate kinetochore assembly and epigenetic centromere inheritance [chittori_structural_2018].', genes='The nematodes Caenorhabditis elegans and C. remanei possess two genes encoding cenH3: HCP-3 (also known as CeCENP-A) and CPAR-1 [monen_separase_2015, monen_differential_2005]. While HCP-3 functions as the predominant centromeric histone - being highly expressed and essential for precise chromosome segregation during mitotic divisions - CPAR-1 displays distinct characteristics: it exhibits lower expression levels but shows specific enrichment on meiotic chromosomes. Importantly, CPAR-1 undergoes separase-mediated proteolytic cleavage at the meiosis I metaphase-to-anaphase transition, implying a specialized, though not yet fully characterized, role in meiotic processes [monen_separase_2015].', function='The active centromeric chromatin, enriched with cenH3, defines the region of kinetochore interaction for spindle formation. However, certain functional differences in chromosome segregation are observed across different species. For example, in vertebrates, CENP-A is concentrated in a compact centromeric region, whereas in nematodes, HCP-3 is distributed diffusely, corresponding to a holocentric organization [hara_critical_2017]. Notably, in certain holocentric organisms, cenH3 appears dispensable for meiotic chromosome segregation while remaining essential for mitosis. As demonstrated in Caenorhabditis elegans, cenH3 loading is specifically eliminated following meiosis I, and RNAi-mediated depletion of CENP-A during meiosis fails to disrupt proper chromosome segregation [monen_differential_2005]. This stands in striking contrast to mitotic divisions, where cenH3 is absolutely required for kinetochore assembly and faithful chromosome segregation. Moreover, C. elegans and C. remanei possess a second cenH3 histone gene that likely performs specialized functions distinct from canonical cenH3 roles [monen_separase_2015]. For more detailed information see the \"gene\" section.' WHERE id=94\n"
     ]
    }
   ],
   "source": [
    "summary_desc = \"cenH3_(Animals) is a centromere-specific histone variant in animals (Metazoa), often called CENP-A (Centromere Protein A) in mammals, and an important component of active centromere required for chromosome segregation.\"\n",
    "interactions_desc = \"cenH3 nucleosomes stabilize the inner kinetochore known as the CCAN complex (Constitutive Centromere-Associated Network). The initiation of kinetochore assembly involves the interaction between CENP-A and CENP-C [watanabe_cdk1-mediated_2019, walstein_assembly_2021]. CDK1-mediated phosphorylation of CENP-C enhances its binding to CENP-A nucleosomes during mitosis, as shown in both chicken and human cells [watanabe_cdk1-mediated_2019]. However, the functional importance of this interaction varies: while it is nonessential for viability in chicken cells, it is crucial for proper CENP-C kinetochore localization and long-term survival in human cells [watanabe_cdk1-mediated_2019]. It was demonstrated that binding of the CENP-C protein stiffens the cenH3 nucleosome, decreasing its flexibility and stabilizing its conformation, which promotes chromatin condensation and restricts access for transcriptional machinery [melters_intrinsic_2019]. CENP-N specifically recognizes CENP-A in the centromeric nucleosome by binding to its L1 loop through key residues (e.g., E3, T4, E7 in humans) and stabilizes the interaction via electrostatic contacts with nucleosomal DNA [chittori_structural_2018]. This interaction has co-evolved across species to ensure accurate kinetochore assembly and epigenetic centromere inheritance [chittori_structural_2018].\"\n",
    "genes_desc = \"The nematodes Caenorhabditis elegans and C. remanei possess two genes encoding cenH3: HCP-3 (also known as CeCENP-A) and CPAR-1 [monen_separase_2015, monen_differential_2005]. While HCP-3 functions as the predominant centromeric histone - being highly expressed and essential for precise chromosome segregation during mitotic divisions - CPAR-1 displays distinct characteristics: it exhibits lower expression levels but shows specific enrichment on meiotic chromosomes. Importantly, CPAR-1 undergoes separase-mediated proteolytic cleavage at the meiosis I metaphase-to-anaphase transition, implying a specialized, though not yet fully characterized, role in meiotic processes [monen_separase_2015].\"\n",
    "function_desc = 'The active centromeric chromatin, enriched with cenH3, defines the region of kinetochore interaction for spindle formation. However, certain functional differences in chromosome segregation are observed across different species. For example, in vertebrates, CENP-A is concentrated in a compact centromeric region, whereas in nematodes, HCP-3 is distributed diffusely, corresponding to a holocentric organization [hara_critical_2017]. Notably, in certain holocentric organisms, cenH3 appears dispensable for meiotic chromosome segregation while remaining essential for mitosis. As demonstrated in Caenorhabditis elegans, cenH3 loading is specifically eliminated following meiosis I, and RNAi-mediated depletion of CENP-A during meiosis fails to disrupt proper chromosome segregation [monen_differential_2005]. This stands in striking contrast to mitotic divisions, where cenH3 is absolutely required for kinetochore assembly and faithful chromosome segregation. Moreover, C. elegans and C. remanei possess a second cenH3 histone gene that likely performs specialized functions distinct from canonical cenH3 roles [monen_separase_2015]. For more detailed information see the \"gene\" section.'\n",
    "query = f\"UPDATE histone_description SET summary='{summary_desc}', interactions='{interactions_desc}', genes='{genes_desc}', function='{function_desc}' WHERE id=94\"\n",
    "print(query)\n",
    "cursor.execute(query)"
   ]
  },
  {
   "cell_type": "code",
   "execution_count": 34,
   "id": "a56923e1-3aa3-482d-bc2c-96c5bbd8be5c",
   "metadata": {
    "tags": []
   },
   "outputs": [
    {
     "data": {
      "text/html": [
       "<div>\n",
       "<style scoped>\n",
       "    .dataframe tbody tr th:only-of-type {\n",
       "        vertical-align: middle;\n",
       "    }\n",
       "\n",
       "    .dataframe tbody tr th {\n",
       "        vertical-align: top;\n",
       "    }\n",
       "\n",
       "    .dataframe thead th {\n",
       "        text-align: right;\n",
       "    }\n",
       "</style>\n",
       "<table border=\"1\" class=\"dataframe\">\n",
       "  <thead>\n",
       "    <tr style=\"text-align: right;\">\n",
       "      <th></th>\n",
       "      <th>summary</th>\n",
       "      <th>interactions</th>\n",
       "      <th>genes</th>\n",
       "      <th>function</th>\n",
       "    </tr>\n",
       "  </thead>\n",
       "  <tbody>\n",
       "    <tr>\n",
       "      <th>0</th>\n",
       "      <td>cenH3_(Animals) is a centromere-specific histo...</td>\n",
       "      <td>cenH3 nucleosomes stabilize the inner kinetoch...</td>\n",
       "      <td>The nematodes Caenorhabditis elegans and C. re...</td>\n",
       "      <td>The active centromeric chromatin, enriched wit...</td>\n",
       "    </tr>\n",
       "  </tbody>\n",
       "</table>\n",
       "</div>"
      ],
      "text/plain": [
       "                                             summary  \\\n",
       "0  cenH3_(Animals) is a centromere-specific histo...   \n",
       "\n",
       "                                        interactions  \\\n",
       "0  cenH3 nucleosomes stabilize the inner kinetoch...   \n",
       "\n",
       "                                               genes  \\\n",
       "0  The nematodes Caenorhabditis elegans and C. re...   \n",
       "\n",
       "                                            function  \n",
       "0  The active centromeric chromatin, enriched wit...  "
      ]
     },
     "execution_count": 34,
     "metadata": {},
     "output_type": "execute_result"
    }
   ],
   "source": [
    "query = (\n",
    "    \"SELECT * FROM histone h LEFT JOIN histone_description hd \"\n",
    "    \"ON h.description = hd.id \"\n",
    "    \"WHERE h.id='cenH3_(Animals)'\"\n",
    ")\n",
    "cursor.execute(query)\n",
    "df = pd.DataFrame(cursor.fetchall(), columns=[i[0] for i in cursor.description])\n",
    "df[[\"summary\", \"interactions\", \"genes\", \"function\"]]"
   ]
  },
  {
   "cell_type": "code",
   "execution_count": 35,
   "id": "f9475d30-f46c-40cf-96fd-b8074f21b131",
   "metadata": {
    "tags": []
   },
   "outputs": [],
   "source": [
    "# Make sure data is committed to the database\n",
    "conn.commit()"
   ]
  },
  {
   "cell_type": "markdown",
   "id": "1546181f-673f-4b6b-8c24-56be9b4e95c1",
   "metadata": {},
   "source": [
    "## <span style=\"color:black\">Update description of cenH3_(Homo_sapiens)</span>\n",
    "\n",
    "### <span style=\"color:black\">Update summary cenH3_(Homo_sapiens)</span>\n",
    "\n",
    "### <span style=\"color:black\">Update interactions of cenH3_(Homo_sapiens)</span>\n",
    "\n",
    "```CENP-A nucleosomes stabilize the inner kinetochore known as the CCAN complex (Constitutive Centromere-Associated Network) through direct interaction with CENP-C and CENP-N proteins of this complex [cao_constitutive_2018, pesenti_structure_2022, sridhar_kinetochore_2022, xu_gross_2023]. Human CENP-C has been demonstrated to bind with the CENP-A C-terminal hydrophobic tail, the acidic patch of H2A-H2B and histone H4, thereby facilitating its engagement with all four histone subunits present on the nucleosome surface [allu_structure_2019]. The binding of CENP-C to CENP-A is critical for long-term viability in human RPE-1 cells [watanabe_cdk1-mediated_2019]. This interaction is stabilized by the process of CENP-C phosphorylation mediated by CDK1, which strengthens the complex's structure through the occurrence of an intramolecular interaction [watanabe_cdk1-mediated_2019, walstein_assembly_2021, ariyoshi_cryoem_2021]. Human CENP-N has been observed to bind to CENP-A nucleosomes through a direct recognition of the L1 loop and RG loop of CENP-A [chittori_structural_2018, tian_molecular_2018, ariyoshi_cryoem_2021]. However, cryo-EM studies have revealed that CENP-C and CENP-N bind to a single CENP-A nucleosome in a non-simultaneous manner, thereby demonstrating an asymmetric structure where CENP-C and CENP-N bind to opposite sides of the nucleosome [ariyoshi_cryoem_2021]. Furthermore, in 94% of cases, phosphorylated CENP-C exhibits exclusive binding to the RG-loop of CENP-A, suggesting that this particular interaction is predominant [ariyoshi_cryoem_2021]. In addition, in vitro reconstruction of the human CENP-C protein showed that CENP-C can bind to two centromeric nucleosomes simultaneously [walstein_assembly_2021]. Nevertheless, interactions with CENP-C or CENP-N do not determine the stability of CENP-A nucleosomes in chromatin [cao_constitutive_2018].```\n",
    "\n",
    "### <span style=\"color:black\">Update function of cenH3_(Homo_sapiens)</span>\n",
    "\n",
    "```While CENP-A is a crucial centromeric marker, the formation of a functional kinetochore and proper chromosome segregation requires an epigenetic context, including the targeting of the chaperone HJURP and histone PTMs [hara_critical_2017, hori_histone_2014]. Human CENP-A plays an important role in stabilization and retention inner kinetochore during G1 phase of cell cycle [pesenti_structure_2022, hoffmann_cenp-is_2016]. However, mitosis can proceed without CENP-A as long as the CENP-B protein remains stably bound to centromeric sequences, facilitating the assembly of the inner kinetochore [hoffmann_cenp-is_2016].```\n",
    "\n",
    "### <span style=\"color:black\">Add to deposition of cenH3_(Homo_sapiens)</span>\n",
    "\n",
    "```Notably, in contrast to maintenance, de novo centromere formation (e.g., neocentromere establishment) depends on HJURP-mediated recruitment of CENP-C [tachiwana_hjurp_2015]. The deposition of CENP-A depends not only on protein factors but also on the characteristics of alpha-satellite DNA. CENP-B boxes stabilize CENP-A nucleosomes through interaction with the CENP-B protein [mcnulty_alpha_2018]. During early G1 phase, RNA polymerase II-mediated transcription of alpha-satellite DNA generates non-coding RNAs that facilitate recruitment of the CENP-A/HJURP complex [mcnulty_alpha_2018]. Furthermore, post-translational histone modifications (H3K4me2, H3K36me2, H3K9ac, H4K16ac) establish a permissive chromatin environment and prevent heterochromatin spreading [mcnulty_alpha_2018].```\n",
    "\n",
    "### <span style=\"color:black\">Add structure to cenH3_(Homo_sapiens)</span>\n",
    "\n",
    "```CENP-A confers enhanced flexibility and elasticity to nucleosomes, influencing centromeric chromatin organization and ensuring accurate chromosome segregation during mitosis [fedulova_molecular_2024, pitman_minimal_2020, melters_intrinsic_2019, tachiwana_crystal_2011]. Partial nucleosome unwrapping in CENP-A-containing nucleosomes is promoted by its shortened αN-helix [roulland_flexible_2016]. Cryo-EM analysis of human CENP-A nucleosomes revealed asymmetric DNA end flexibility, with the right DNA end being highly dynamic and partially detached from the histone core while the left end remained stably bound, a sequence-dependent behavior confirmed by molecular dynamics simulations [kono_free_2019, boopathi_phase-plate_2020]. Notably, this intrinsic asymmetry can be overcome by antibody stabilization. The single-chain antibody fragment PL2-6 symmetrically stabilizes both DNA ends through allosteric interactions, despite the inherent sequence-dependent asymmetry [zhou_atomic_2019, dogan_cenp-nucleosome_2021]. Molecular dynamics simulations revealed that CENP-A-containing tetramers exhibit enhanced stability but distinct dynamics compared to canonical octameric structures, explaining the unusual properties of CENP-A nucleosomes [zhao_oligomerization_2019].```\n",
    "\n",
    "### <span style=\"color:black\">Add sequence to cenH3_(Homo_sapiens)</span>\n",
    "\n",
    "```The conserved residue K124 locaded in histone fold of CENP-A plays a crucial role in regulating centromeric function. During the cell cycle, K124 undergoes cyclic modifications [bui_internal_2017]. In G1/S phase, K124ac compacts the nucleosome, interfering with CENP-C binding (crucial for kinetochore assembly) while simultaneously promoting chromatin decondensation for centromere replication [bui_internal_2017]. During S phase, K124me stabilizes nucleosomes. Furthermore, K124 mutations disrupt both mitosis and replication, demonstrating its critical role in centromere epigenetic regulation [bui_internal_2017].```"
   ]
  },
  {
   "cell_type": "code",
   "execution_count": 36,
   "id": "eca0b33a-07e8-4ecf-b482-b27bb418a1db",
   "metadata": {
    "tags": []
   },
   "outputs": [
    {
     "data": {
      "text/html": [
       "<div>\n",
       "<style scoped>\n",
       "    .dataframe tbody tr th:only-of-type {\n",
       "        vertical-align: middle;\n",
       "    }\n",
       "\n",
       "    .dataframe tbody tr th {\n",
       "        vertical-align: top;\n",
       "    }\n",
       "\n",
       "    .dataframe thead th {\n",
       "        text-align: right;\n",
       "    }\n",
       "</style>\n",
       "<table border=\"1\" class=\"dataframe\">\n",
       "  <thead>\n",
       "    <tr style=\"text-align: right;\">\n",
       "      <th></th>\n",
       "      <th>id</th>\n",
       "      <th>level</th>\n",
       "      <th>taxonomic_span</th>\n",
       "      <th>taxonomic_span_id</th>\n",
       "      <th>description</th>\n",
       "      <th>parent</th>\n",
       "      <th>id</th>\n",
       "      <th>summary</th>\n",
       "      <th>taxonomy</th>\n",
       "      <th>genes</th>\n",
       "      <th>...</th>\n",
       "      <th>knock_out</th>\n",
       "      <th>function</th>\n",
       "      <th>sequence</th>\n",
       "      <th>localization</th>\n",
       "      <th>deposition</th>\n",
       "      <th>structure</th>\n",
       "      <th>interactions</th>\n",
       "      <th>disease</th>\n",
       "      <th>caveats</th>\n",
       "      <th>relations</th>\n",
       "    </tr>\n",
       "  </thead>\n",
       "  <tbody>\n",
       "    <tr>\n",
       "      <th>0</th>\n",
       "      <td>cenH3_(Homo_sapiens)</td>\n",
       "      <td>variant</td>\n",
       "      <td>Homo sapiens</td>\n",
       "      <td>9606</td>\n",
       "      <td>158</td>\n",
       "      <td>cenH3_(Mammalia)</td>\n",
       "      <td>158</td>\n",
       "      <td>cenH3(Homo_sapiens) is a centromere-specific h...</td>\n",
       "      <td>null</td>\n",
       "      <td>null</td>\n",
       "      <td>...</td>\n",
       "      <td>CENP-A depletion at different stages of the ce...</td>\n",
       "      <td>CENP-A nucleosomes are essential for chromosom...</td>\n",
       "      <td>null</td>\n",
       "      <td>CENP-A in human chromosomes usually localized ...</td>\n",
       "      <td>Deposition of CENP-A into centromeric nucleoso...</td>\n",
       "      <td>CENP-A confers enhanced flexibility and elasti...</td>\n",
       "      <td>CENP-A nucleosomes stabilize the inner kinetoc...</td>\n",
       "      <td>null</td>\n",
       "      <td>null</td>\n",
       "      <td>None</td>\n",
       "    </tr>\n",
       "  </tbody>\n",
       "</table>\n",
       "<p>1 rows × 22 columns</p>\n",
       "</div>"
      ],
      "text/plain": [
       "                     id    level taxonomic_span taxonomic_span_id  \\\n",
       "0  cenH3_(Homo_sapiens)  variant   Homo sapiens              9606   \n",
       "\n",
       "   description            parent   id  \\\n",
       "0          158  cenH3_(Mammalia)  158   \n",
       "\n",
       "                                             summary taxonomy genes  ...  \\\n",
       "0  cenH3(Homo_sapiens) is a centromere-specific h...     null  null  ...   \n",
       "\n",
       "                                           knock_out  \\\n",
       "0  CENP-A depletion at different stages of the ce...   \n",
       "\n",
       "                                            function sequence  \\\n",
       "0  CENP-A nucleosomes are essential for chromosom...     null   \n",
       "\n",
       "                                        localization  \\\n",
       "0  CENP-A in human chromosomes usually localized ...   \n",
       "\n",
       "                                          deposition  \\\n",
       "0  Deposition of CENP-A into centromeric nucleoso...   \n",
       "\n",
       "                                           structure  \\\n",
       "0  CENP-A confers enhanced flexibility and elasti...   \n",
       "\n",
       "                                        interactions disease caveats relations  \n",
       "0  CENP-A nucleosomes stabilize the inner kinetoc...    null    null      None  \n",
       "\n",
       "[1 rows x 22 columns]"
      ]
     },
     "execution_count": 36,
     "metadata": {},
     "output_type": "execute_result"
    }
   ],
   "source": [
    "query = (\n",
    "    \"SELECT * FROM histone h LEFT JOIN histone_description hd \"\n",
    "    \"ON h.description = hd.id \"\n",
    "    \"WHERE h.id='cenH3_(Homo_sapiens)'\"\n",
    ")\n",
    "cursor.execute(query)\n",
    "df = pd.DataFrame(cursor.fetchall(), columns=[i[0] for i in cursor.description])\n",
    "df"
   ]
  },
  {
   "cell_type": "code",
   "execution_count": 37,
   "id": "ccb789e0-7f59-4a6c-b257-4adfff45f27c",
   "metadata": {
    "tags": []
   },
   "outputs": [
    {
     "data": {
      "text/html": [
       "<div>\n",
       "<style scoped>\n",
       "    .dataframe tbody tr th:only-of-type {\n",
       "        vertical-align: middle;\n",
       "    }\n",
       "\n",
       "    .dataframe tbody tr th {\n",
       "        vertical-align: top;\n",
       "    }\n",
       "\n",
       "    .dataframe thead th {\n",
       "        text-align: right;\n",
       "    }\n",
       "</style>\n",
       "<table border=\"1\" class=\"dataframe\">\n",
       "  <thead>\n",
       "    <tr style=\"text-align: right;\">\n",
       "      <th></th>\n",
       "      <th>summary</th>\n",
       "      <th>interactions</th>\n",
       "      <th>function</th>\n",
       "      <th>deposition</th>\n",
       "      <th>structure</th>\n",
       "      <th>sequence</th>\n",
       "    </tr>\n",
       "  </thead>\n",
       "  <tbody>\n",
       "    <tr>\n",
       "      <th>0</th>\n",
       "      <td>cenH3(Homo_sapiens) is a centromere-specific h...</td>\n",
       "      <td>CENP-A nucleosomes stabilize the inner kinetoc...</td>\n",
       "      <td>CENP-A nucleosomes are essential for chromosom...</td>\n",
       "      <td>Deposition of CENP-A into centromeric nucleoso...</td>\n",
       "      <td>CENP-A confers enhanced flexibility and elasti...</td>\n",
       "      <td>null</td>\n",
       "    </tr>\n",
       "  </tbody>\n",
       "</table>\n",
       "</div>"
      ],
      "text/plain": [
       "                                             summary  \\\n",
       "0  cenH3(Homo_sapiens) is a centromere-specific h...   \n",
       "\n",
       "                                        interactions  \\\n",
       "0  CENP-A nucleosomes stabilize the inner kinetoc...   \n",
       "\n",
       "                                            function  \\\n",
       "0  CENP-A nucleosomes are essential for chromosom...   \n",
       "\n",
       "                                          deposition  \\\n",
       "0  Deposition of CENP-A into centromeric nucleoso...   \n",
       "\n",
       "                                           structure sequence  \n",
       "0  CENP-A confers enhanced flexibility and elasti...     null  "
      ]
     },
     "execution_count": 37,
     "metadata": {},
     "output_type": "execute_result"
    }
   ],
   "source": [
    "df[[\"summary\", \"interactions\", \"function\", \"deposition\", \"structure\", \"sequence\"]]"
   ]
  },
  {
   "cell_type": "code",
   "execution_count": 39,
   "id": "0fb3f8c7-2cce-434b-a1ff-1011a4429c4d",
   "metadata": {
    "tags": []
   },
   "outputs": [
    {
     "data": {
      "text/plain": [
       "'Deposition of CENP-A into centromeric nucleosomes during the late telophase/early G1 phase of the cell cycle mediated by four major and some minor factors and regulators, which are important for identifying centromeric localization and limit the process to a single round [pan_mechanism_2019, xu_gross_2023]. The specific CENP-A chaperone HJURP (Holliday Junction Recognition Protein) plays a key role in stabilizing the binding of CENP-A to histone H4 [foltz_centromere_2009, dunleavy_hjurp_2009, shuaib_hjurp_2010]. To target centromeres and load a new CENP-A HJURP form a stoichiometric complex with the two-subunit Mis18 complex (Mis18α and Mis18β) and Mis18-binding protein 1 (M18BP1) [hayashi_mis16_2004, pan_mechanism_2019]. Among minor proteins required for CENP-A loading there are RSF1, MgcRacGAP, Condensin II, and KAT7 [pan_mechanism_2019]. Furthermore, loading of CENP-A into centromeric nucleosomes contributed by CENP-I and CENP-B proteins that are specifically binds to the centromeric DNA. CENP-I, a subunit of the inner kinetochore complex, has been demonstrated to stabilise CENP-A nucleosomes in vitro [hu_cenp-i_2023]. The loss of CENP-B led to a slightly decrease in CENP-A incorporation, though the effect was less pronounced than with HJURP deletion, and a reduction in M18BP1 binding at centromeres assembled with a CENP-A variant without its CENP-C binding domain [fachinetti_dna_2015].'"
      ]
     },
     "execution_count": 39,
     "metadata": {},
     "output_type": "execute_result"
    }
   ],
   "source": [
    "current_deposition_desc = df[\"deposition\"].values[0]\n",
    "current_deposition_desc"
   ]
  },
  {
   "cell_type": "code",
   "execution_count": 43,
   "id": "f81da4be-1e9e-4077-a1f2-ed19154df5c9",
   "metadata": {
    "tags": []
   },
   "outputs": [
    {
     "name": "stdout",
     "output_type": "stream",
     "text": [
      "UPDATE histone_description SET summary=\"cenH3_(Homo_sapiens) is a centromere-specific histone variant in human, often called CENP-A (Centromere Protein A), and an important component of active centromere required for chromosome segregation. For a general description see cenH3_(Animals) class.\", interactions=\"CENP-A nucleosomes stabilize the inner kinetochore known as the CCAN complex (Constitutive Centromere-Associated Network) through direct interaction with CENP-C and CENP-N proteins of this complex [cao_constitutive_2018, pesenti_structure_2022, sridhar_kinetochore_2022, xu_gross_2023]. Human CENP-C has been demonstrated to bind with the CENP-A C-terminal hydrophobic tail, the acidic patch of H2A-H2B and histone H4, thereby facilitating its engagement with all four histone subunits present on the nucleosome surface [allu_structure_2019]. The binding of CENP-C to CENP-A is critical for long-term viability in human RPE-1 cells [watanabe_cdk1-mediated_2019]. This interaction is stabilized by the process of CENP-C phosphorylation mediated by CDK1, which strengthens the complex's structure through the occurrence of an intramolecular interaction [watanabe_cdk1-mediated_2019, walstein_assembly_2021, ariyoshi_cryoem_2021]. Human CENP-N has been observed to bind to CENP-A nucleosomes through a direct recognition of the L1 loop and RG loop of CENP-A [chittori_structural_2018, tian_molecular_2018, ariyoshi_cryoem_2021]. However, cryo-EM studies have revealed that CENP-C and CENP-N bind to a single CENP-A nucleosome in a non-simultaneous manner, thereby demonstrating an asymmetric structure where CENP-C and CENP-N bind to opposite sides of the nucleosome [ariyoshi_cryoem_2021]. Furthermore, in 94% of cases, phosphorylated CENP-C exhibits exclusive binding to the RG-loop of CENP-A, suggesting that this particular interaction is predominant [ariyoshi_cryoem_2021]. In addition, in vitro reconstruction of the human CENP-C protein showed that CENP-C can bind to two centromeric nucleosomes simultaneously [walstein_assembly_2021]. Nevertheless, interactions with CENP-C or CENP-N do not determine the stability of CENP-A nucleosomes in chromatin [cao_constitutive_2018].\", function=\"While CENP-A is a crucial centromeric marker, the formation of a functional kinetochore and proper chromosome segregation requires an epigenetic context, including the targeting of the chaperone HJURP and histone PTMs [hara_critical_2017, hori_histone_2014]. Human CENP-A plays an important role in stabilization and retention inner kinetochore during G1 phase of cell cycle [pesenti_structure_2022, hoffmann_cenp-is_2016]. However, mitosis can proceed without CENP-A as long as the CENP-B protein remains stably bound to centromeric sequences, facilitating the assembly of the inner kinetochore [hoffmann_cenp-is_2016].\", deposition=\"Deposition of CENP-A into centromeric nucleosomes during the late telophase/early G1 phase of the cell cycle mediated by four major and some minor factors and regulators, which are important for identifying centromeric localization and limit the process to a single round [pan_mechanism_2019, xu_gross_2023]. The specific CENP-A chaperone HJURP (Holliday Junction Recognition Protein) plays a key role in stabilizing the binding of CENP-A to histone H4 [foltz_centromere_2009, dunleavy_hjurp_2009, shuaib_hjurp_2010]. To target centromeres and load a new CENP-A HJURP form a stoichiometric complex with the two-subunit Mis18 complex (Mis18α and Mis18β) and Mis18-binding protein 1 (M18BP1) [hayashi_mis16_2004, pan_mechanism_2019]. Among minor proteins required for CENP-A loading there are RSF1, MgcRacGAP, Condensin II, and KAT7 [pan_mechanism_2019]. Furthermore, loading of CENP-A into centromeric nucleosomes contributed by CENP-I and CENP-B proteins that are specifically binds to the centromeric DNA. CENP-I, a subunit of the inner kinetochore complex, has been demonstrated to stabilise CENP-A nucleosomes in vitro [hu_cenp-i_2023]. The loss of CENP-B led to a slightly decrease in CENP-A incorporation, though the effect was less pronounced than with HJURP deletion, and a reduction in M18BP1 binding at centromeres assembled with a CENP-A variant without its CENP-C binding domain [fachinetti_dna_2015]. Notably, in contrast to maintenance, de novo centromere formation (e.g., neocentromere establishment) depends on HJURP-mediated recruitment of CENP-C [tachiwana_hjurp_2015]. The deposition of CENP-A depends not only on protein factors but also on the characteristics of alpha-satellite DNA. CENP-B boxes stabilize CENP-A nucleosomes through interaction with the CENP-B protein [mcnulty_alpha_2018]. During early G1 phase, RNA polymerase II-mediated transcription of alpha-satellite DNA generates non-coding RNAs that facilitate recruitment of the CENP-A/HJURP complex [mcnulty_alpha_2018]. Furthermore, post-translational histone modifications (H3K4me2, H3K36me2, H3K9ac, H4K16ac) establish a permissive chromatin environment and prevent heterochromatin spreading [mcnulty_alpha_2018].\", structure=\"CENP-A confers enhanced flexibility and elasticity to nucleosomes, influencing centromeric chromatin organization and ensuring accurate chromosome segregation during mitosis [fedulova_molecular_2024, pitman_minimal_2020, melters_intrinsic_2019, tachiwana_crystal_2011]. Partial nucleosome unwrapping in CENP-A-containing nucleosomes is promoted by its shortened αN-helix [roulland_flexible_2016]. Cryo-EM analysis of human CENP-A nucleosomes revealed asymmetric DNA end flexibility, with the right DNA end being highly dynamic and partially detached from the histone core while the left end remained stably bound, a sequence-dependent behavior confirmed by molecular dynamics simulations [kono_free_2019, boopathi_phase-plate_2020]. Notably, this intrinsic asymmetry can be overcome by antibody stabilization. The single-chain antibody fragment PL2-6 symmetrically stabilizes both DNA ends through allosteric interactions, despite the inherent sequence-dependent asymmetry [zhou_atomic_2019, dogan_cenp-nucleosome_2021]. Molecular dynamics simulations revealed that CENP-A-containing tetramers exhibit enhanced stability but distinct dynamics compared to canonical octameric structures, explaining the unusual properties of CENP-A nucleosomes [zhao_oligomerization_2019].\", sequence=\"The conserved residue K124 locaded in histone fold of CENP-A plays a crucial role in regulating centromeric function. During the cell cycle, K124 undergoes cyclic modifications [bui_internal_2017]. In G1/S phase, K124ac compacts the nucleosome, interfering with CENP-C binding (crucial for kinetochore assembly) while simultaneously promoting chromatin decondensation for centromere replication [bui_internal_2017]. During S phase, K124me stabilizes nucleosomes. Furthermore, K124 mutations disrupt both mitosis and replication, demonstrating its critical role in centromere epigenetic regulation [bui_internal_2017].\" WHERE id=158\n"
     ]
    }
   ],
   "source": [
    "summary_desc = \"cenH3_(Homo_sapiens) is a centromere-specific histone variant in human, often called CENP-A (Centromere Protein A), and an important component of active centromere required for chromosome segregation. For a general description see cenH3_(Animals) class.\"\n",
    "interactions_desc = \"CENP-A nucleosomes stabilize the inner kinetochore known as the CCAN complex (Constitutive Centromere-Associated Network) through direct interaction with CENP-C and CENP-N proteins of this complex [cao_constitutive_2018, pesenti_structure_2022, sridhar_kinetochore_2022, xu_gross_2023]. Human CENP-C has been demonstrated to bind with the CENP-A C-terminal hydrophobic tail, the acidic patch of H2A-H2B and histone H4, thereby facilitating its engagement with all four histone subunits present on the nucleosome surface [allu_structure_2019]. The binding of CENP-C to CENP-A is critical for long-term viability in human RPE-1 cells [watanabe_cdk1-mediated_2019]. This interaction is stabilized by the process of CENP-C phosphorylation mediated by CDK1, which strengthens the complex's structure through the occurrence of an intramolecular interaction [watanabe_cdk1-mediated_2019, walstein_assembly_2021, ariyoshi_cryoem_2021]. Human CENP-N has been observed to bind to CENP-A nucleosomes through a direct recognition of the L1 loop and RG loop of CENP-A [chittori_structural_2018, tian_molecular_2018, ariyoshi_cryoem_2021]. However, cryo-EM studies have revealed that CENP-C and CENP-N bind to a single CENP-A nucleosome in a non-simultaneous manner, thereby demonstrating an asymmetric structure where CENP-C and CENP-N bind to opposite sides of the nucleosome [ariyoshi_cryoem_2021]. Furthermore, in 94% of cases, phosphorylated CENP-C exhibits exclusive binding to the RG-loop of CENP-A, suggesting that this particular interaction is predominant [ariyoshi_cryoem_2021]. In addition, in vitro reconstruction of the human CENP-C protein showed that CENP-C can bind to two centromeric nucleosomes simultaneously [walstein_assembly_2021]. Nevertheless, interactions with CENP-C or CENP-N do not determine the stability of CENP-A nucleosomes in chromatin [cao_constitutive_2018].\"\n",
    "function_desc = \"While CENP-A is a crucial centromeric marker, the formation of a functional kinetochore and proper chromosome segregation requires an epigenetic context, including the targeting of the chaperone HJURP and histone PTMs [hara_critical_2017, hori_histone_2014]. Human CENP-A plays an important role in stabilization and retention inner kinetochore during G1 phase of cell cycle [pesenti_structure_2022, hoffmann_cenp-is_2016]. However, mitosis can proceed without CENP-A as long as the CENP-B protein remains stably bound to centromeric sequences, facilitating the assembly of the inner kinetochore [hoffmann_cenp-is_2016].\"\n",
    "deposition_desc = current_deposition_desc + \" Notably, in contrast to maintenance, de novo centromere formation (e.g., neocentromere establishment) depends on HJURP-mediated recruitment of CENP-C [tachiwana_hjurp_2015]. The deposition of CENP-A depends not only on protein factors but also on the characteristics of alpha-satellite DNA. CENP-B boxes stabilize CENP-A nucleosomes through interaction with the CENP-B protein [mcnulty_alpha_2018]. During early G1 phase, RNA polymerase II-mediated transcription of alpha-satellite DNA generates non-coding RNAs that facilitate recruitment of the CENP-A/HJURP complex [mcnulty_alpha_2018]. Furthermore, post-translational histone modifications (H3K4me2, H3K36me2, H3K9ac, H4K16ac) establish a permissive chromatin environment and prevent heterochromatin spreading [mcnulty_alpha_2018].\"\n",
    "structure_desc = \"CENP-A confers enhanced flexibility and elasticity to nucleosomes, influencing centromeric chromatin organization and ensuring accurate chromosome segregation during mitosis [fedulova_molecular_2024, pitman_minimal_2020, melters_intrinsic_2019, tachiwana_crystal_2011]. Partial nucleosome unwrapping in CENP-A-containing nucleosomes is promoted by its shortened αN-helix [roulland_flexible_2016]. Cryo-EM analysis of human CENP-A nucleosomes revealed asymmetric DNA end flexibility, with the right DNA end being highly dynamic and partially detached from the histone core while the left end remained stably bound, a sequence-dependent behavior confirmed by molecular dynamics simulations [kono_free_2019, boopathi_phase-plate_2020]. Notably, this intrinsic asymmetry can be overcome by antibody stabilization. The single-chain antibody fragment PL2-6 symmetrically stabilizes both DNA ends through allosteric interactions, despite the inherent sequence-dependent asymmetry [zhou_atomic_2019, dogan_cenp-nucleosome_2021]. Molecular dynamics simulations revealed that CENP-A-containing tetramers exhibit enhanced stability but distinct dynamics compared to canonical octameric structures, explaining the unusual properties of CENP-A nucleosomes [zhao_oligomerization_2019].\"\n",
    "sequence_desc = \"The conserved residue K124 locaded in histone fold of CENP-A plays a crucial role in regulating centromeric function. During the cell cycle, K124 undergoes cyclic modifications [bui_internal_2017]. In G1/S phase, K124ac compacts the nucleosome, interfering with CENP-C binding (crucial for kinetochore assembly) while simultaneously promoting chromatin decondensation for centromere replication [bui_internal_2017]. During S phase, K124me stabilizes nucleosomes. Furthermore, K124 mutations disrupt both mitosis and replication, demonstrating its critical role in centromere epigenetic regulation [bui_internal_2017].\"\n",
    "query = f'UPDATE histone_description SET summary=\"{summary_desc}\", interactions=\"{interactions_desc}\", function=\"{function_desc}\", deposition=\"{deposition_desc}\", structure=\"{structure_desc}\", sequence=\"{sequence_desc}\" WHERE id=158'\n",
    "print(query)\n",
    "cursor.execute(query)"
   ]
  },
  {
   "cell_type": "code",
   "execution_count": 44,
   "id": "8a35d548-549c-4bf6-8a48-e74a19659d19",
   "metadata": {
    "tags": []
   },
   "outputs": [
    {
     "data": {
      "text/html": [
       "<div>\n",
       "<style scoped>\n",
       "    .dataframe tbody tr th:only-of-type {\n",
       "        vertical-align: middle;\n",
       "    }\n",
       "\n",
       "    .dataframe tbody tr th {\n",
       "        vertical-align: top;\n",
       "    }\n",
       "\n",
       "    .dataframe thead th {\n",
       "        text-align: right;\n",
       "    }\n",
       "</style>\n",
       "<table border=\"1\" class=\"dataframe\">\n",
       "  <thead>\n",
       "    <tr style=\"text-align: right;\">\n",
       "      <th></th>\n",
       "      <th>summary</th>\n",
       "      <th>interactions</th>\n",
       "      <th>function</th>\n",
       "      <th>deposition</th>\n",
       "      <th>structure</th>\n",
       "      <th>sequence</th>\n",
       "    </tr>\n",
       "  </thead>\n",
       "  <tbody>\n",
       "    <tr>\n",
       "      <th>0</th>\n",
       "      <td>cenH3_(Homo_sapiens) is a centromere-specific ...</td>\n",
       "      <td>CENP-A nucleosomes stabilize the inner kinetoc...</td>\n",
       "      <td>While CENP-A is a crucial centromeric marker, ...</td>\n",
       "      <td>Deposition of CENP-A into centromeric nucleoso...</td>\n",
       "      <td>CENP-A confers enhanced flexibility and elasti...</td>\n",
       "      <td>The conserved residue K124 locaded in histone ...</td>\n",
       "    </tr>\n",
       "  </tbody>\n",
       "</table>\n",
       "</div>"
      ],
      "text/plain": [
       "                                             summary  \\\n",
       "0  cenH3_(Homo_sapiens) is a centromere-specific ...   \n",
       "\n",
       "                                        interactions  \\\n",
       "0  CENP-A nucleosomes stabilize the inner kinetoc...   \n",
       "\n",
       "                                            function  \\\n",
       "0  While CENP-A is a crucial centromeric marker, ...   \n",
       "\n",
       "                                          deposition  \\\n",
       "0  Deposition of CENP-A into centromeric nucleoso...   \n",
       "\n",
       "                                           structure  \\\n",
       "0  CENP-A confers enhanced flexibility and elasti...   \n",
       "\n",
       "                                            sequence  \n",
       "0  The conserved residue K124 locaded in histone ...  "
      ]
     },
     "execution_count": 44,
     "metadata": {},
     "output_type": "execute_result"
    }
   ],
   "source": [
    "query = (\n",
    "    \"SELECT * FROM histone h LEFT JOIN histone_description hd \"\n",
    "    \"ON h.description = hd.id \"\n",
    "    \"WHERE h.id='cenH3_(Homo_sapiens)'\"\n",
    ")\n",
    "cursor.execute(query)\n",
    "df = pd.DataFrame(cursor.fetchall(), columns=[i[0] for i in cursor.description])\n",
    "df[[\"summary\", \"interactions\", \"function\", \"deposition\", \"structure\", \"sequence\"]]"
   ]
  },
  {
   "cell_type": "code",
   "execution_count": 45,
   "id": "e8c26f76-f27c-436f-83ba-2e71999bde5a",
   "metadata": {
    "tags": []
   },
   "outputs": [],
   "source": [
    "# Make sure data is committed to the database\n",
    "conn.commit()"
   ]
  },
  {
   "cell_type": "markdown",
   "id": "9e8bad07-ef74-40fd-a93b-e7897df0c591",
   "metadata": {
    "tags": []
   },
   "source": [
    "# Close connections"
   ]
  },
  {
   "cell_type": "code",
   "execution_count": 46,
   "id": "e5673501-5845-491a-bbb9-f5d213721d58",
   "metadata": {
    "tags": []
   },
   "outputs": [],
   "source": [
    "cursor.close()\n",
    "conn.close()\n",
    "tunnel.stop()"
   ]
  },
  {
   "cell_type": "code",
   "execution_count": null,
   "id": "b462e609-bb05-4f98-9d2e-7096a4927325",
   "metadata": {},
   "outputs": [],
   "source": []
  }
 ],
 "metadata": {
  "kernelspec": {
   "display_name": ".conda-histdb_env",
   "language": "python",
   "name": "conda-env-.conda-histdb_env-py"
  },
  "language_info": {
   "codemirror_mode": {
    "name": "ipython",
    "version": 3
   },
   "file_extension": ".py",
   "mimetype": "text/x-python",
   "name": "python",
   "nbconvert_exporter": "python",
   "pygments_lexer": "ipython3",
   "version": "3.8.1"
  }
 },
 "nbformat": 4,
 "nbformat_minor": 5
}
