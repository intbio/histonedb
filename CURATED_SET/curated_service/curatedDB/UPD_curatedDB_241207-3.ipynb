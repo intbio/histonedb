{
 "cells": [
  {
   "cell_type": "code",
   "execution_count": 1,
   "id": "fb32231a-293e-45b8-af7d-d996c91a4edd",
   "metadata": {
    "tags": []
   },
   "outputs": [],
   "source": [
    "import pandas as pd\n",
    "from Bio import Entrez, SeqIO\n",
    "from mysql.connector import connection\n",
    "from sshtunnel import SSHTunnelForwarder\n",
    "\n",
    "Entrez.email = \"l.singh@intbio.org\""
   ]
  },
  {
   "cell_type": "code",
   "execution_count": 2,
   "id": "d5fa78a7-4901-4e63-9d91-d9ed584d2f62",
   "metadata": {
    "tags": []
   },
   "outputs": [],
   "source": [
    "with open(\"db_curated_server_info.txt\", \"r\") as file:\n",
    "    lines = file.readlines()\n",
    "\n",
    "config = {}\n",
    "\n",
    "for line in lines:\n",
    "    line = line.strip()\n",
    "    if line and not line.startswith(\"#\"):\n",
    "        key, value = line.split(\"=\", 1)\n",
    "        config[key] = value.strip()\n",
    "\n",
    "server_name = config.get(\"server_name\")\n",
    "srever_port = int(config.get(\"srever_port\"))\n",
    "ssh_password = config.get(\"ssh_password\")\n",
    "ssh_username = config.get(\"ssh_username\")\n",
    "db_adress = config.get(\"db_adress\")\n",
    "db_port = int(config.get(\"db_port\"))"
   ]
  },
  {
   "cell_type": "code",
   "execution_count": 3,
   "id": "ebe3d2e8-9736-4fd9-b3f1-5ec2d255567d",
   "metadata": {
    "tags": []
   },
   "outputs": [
    {
     "name": "stdout",
     "output_type": "stream",
     "text": [
      "35767\n"
     ]
    }
   ],
   "source": [
    "tunnel = SSHTunnelForwarder(\n",
    "    (server_name, srever_port),\n",
    "    ssh_password=ssh_password,\n",
    "    ssh_username=ssh_username,\n",
    "    remote_bind_address=(db_adress, db_port),\n",
    ")\n",
    "tunnel.start()\n",
    "print(tunnel.local_bind_port)"
   ]
  },
  {
   "cell_type": "code",
   "execution_count": 4,
   "id": "0de93630-7502-40f3-ad24-42edf7a11eef",
   "metadata": {
    "tags": []
   },
   "outputs": [],
   "source": [
    "conn = connection.MySQLConnection(\n",
    "    user=\"db_user\",\n",
    "    password=\"db_password\",\n",
    "    host=\"localhost\",\n",
    "    port=tunnel.local_bind_port,\n",
    "    database=\"db_name\",\n",
    ")\n",
    "cursor = conn.cursor()"
   ]
  },
  {
   "cell_type": "code",
   "execution_count": 5,
   "id": "b4767ba0-4ea1-43ae-953f-f2575d9b7a69",
   "metadata": {
    "tags": []
   },
   "outputs": [
    {
     "data": {
      "text/plain": [
       "[('alternative_name',),\n",
       " ('histone',),\n",
       " ('histone_description',),\n",
       " ('histone_has_publication',),\n",
       " ('publication',),\n",
       " ('sequence',),\n",
       " ('sequence_has_publication',)]"
      ]
     },
     "execution_count": 5,
     "metadata": {},
     "output_type": "execute_result"
    }
   ],
   "source": [
    "query = \"SHOW TABLES;\"\n",
    "cursor.execute(query)\n",
    "cursor.fetchall()"
   ]
  },
  {
   "cell_type": "code",
   "execution_count": 18,
   "id": "c68d4b8f-c22c-4f8e-bb4f-71f95668656e",
   "metadata": {
    "tags": []
   },
   "outputs": [],
   "source": [
    "# add_histone = (\n",
    "#     \"INSERT INTO histone \"\n",
    "#     \"(id, level, taxonomic_span, taxonomic_span_id, description, parent) \"\n",
    "#     \"VALUES (%(id)s, %(level)s, %(taxonomic_span)s, %(taxonomic_span_id)s, %(description)s, %(parent)s)\"\n",
    "# )\n",
    "# add_histone_description = (\n",
    "#     \"INSERT INTO histone_description \"\n",
    "#     \"(summary, taxonomy, genes, evolution, expression, knock_out, function, sequence, localization, deposition, structure, interactions, disease, caveats) \"\n",
    "#     \"VALUES (%s, %s, %s, %s, %s, %s, %s, %s, %s, %s, %s, %s, %s, %s)\"\n",
    "# )\n",
    "# add_publication = (\n",
    "#     \"INSERT INTO publication \"\n",
    "#     \"(id, title, doi, author, year) \"\n",
    "#     \"VALUES (%(id)s, %(title)s, %(doi)s, %(author)s, %(year)s)\"\n",
    "# )\n",
    "# add_sequence_has_publication = (\n",
    "#     \"INSERT INTO sequence_has_publication \"\n",
    "#     \"(sequence_accession, publication_id) \"\n",
    "#     \"VALUES (%s, %s)\"\n",
    "# )\n",
    "# add_alternate_names = (\n",
    "#     \"INSERT INTO alternative_name \"\n",
    "#     \"(name, taxonomy, gene, splice, histone) \"\n",
    "#     \"VALUES (%(name)s, %(taxonomy)s, %(gene)s, %(splice)s, %(histone)s)\"\n",
    "# )\n",
    "add_histone_has_publication = (\n",
    "    \"INSERT INTO histone_has_publication \"\n",
    "    \"(histone_id, publication_id) \"\n",
    "    \"VALUES (%s, %s)\"\n",
    ")"
   ]
  },
  {
   "cell_type": "markdown",
   "id": "f0e30842-5f18-4d84-9f5d-50d87f0a90fa",
   "metadata": {
    "tags": []
   },
   "source": [
    "# Change name for some variants\n",
    "\n",
    "H2B.O → H2B.O_(Ornithorhynchus_anatinus)\n",
    "\n",
    "H2B.V → H2B.V_(Trypanosoma)\n",
    "\n",
    "H2B.Z → H2B.Z_(Apicomplexa)\n",
    "\n",
    "cen_H3_(Eukarya) → cen_H3"
   ]
  },
  {
   "cell_type": "markdown",
   "id": "95deaebf-7549-4629-b9bb-a371d02c69cb",
   "metadata": {
    "tags": []
   },
   "source": [
    "## Change name from H2B.O → H2B.O_(Ornithorhynchus_anatinus)"
   ]
  },
  {
   "cell_type": "code",
   "execution_count": 6,
   "id": "d65f5079-5827-48bb-809e-66756704a8af",
   "metadata": {
    "tags": []
   },
   "outputs": [],
   "source": [
    "prev_name, new_name = \"H2B.O\", \"H2B.O_(Ornithorhynchus_anatinus)\""
   ]
  },
  {
   "cell_type": "code",
   "execution_count": 7,
   "id": "82a1397c-3cbf-4d2b-ba7c-d67c395c2047",
   "metadata": {
    "tags": []
   },
   "outputs": [
    {
     "data": {
      "text/html": [
       "<div>\n",
       "<style scoped>\n",
       "    .dataframe tbody tr th:only-of-type {\n",
       "        vertical-align: middle;\n",
       "    }\n",
       "\n",
       "    .dataframe tbody tr th {\n",
       "        vertical-align: top;\n",
       "    }\n",
       "\n",
       "    .dataframe thead th {\n",
       "        text-align: right;\n",
       "    }\n",
       "</style>\n",
       "<table border=\"1\" class=\"dataframe\">\n",
       "  <thead>\n",
       "    <tr style=\"text-align: right;\">\n",
       "      <th></th>\n",
       "      <th>id</th>\n",
       "      <th>level</th>\n",
       "      <th>taxonomic_span</th>\n",
       "      <th>taxonomic_span_id</th>\n",
       "      <th>description</th>\n",
       "      <th>parent</th>\n",
       "      <th>histone_id</th>\n",
       "      <th>publication_id</th>\n",
       "    </tr>\n",
       "  </thead>\n",
       "  <tbody>\n",
       "    <tr>\n",
       "      <th>0</th>\n",
       "      <td>H2B.O</td>\n",
       "      <td>variant_group</td>\n",
       "      <td>Ornithorhynchus anatinus</td>\n",
       "      <td>9258</td>\n",
       "      <td>39</td>\n",
       "      <td>H2B</td>\n",
       "      <td>H2B.O</td>\n",
       "      <td>raman_novel_2022</td>\n",
       "    </tr>\n",
       "  </tbody>\n",
       "</table>\n",
       "</div>"
      ],
      "text/plain": [
       "      id          level            taxonomic_span taxonomic_span_id  \\\n",
       "0  H2B.O  variant_group  Ornithorhynchus anatinus              9258   \n",
       "\n",
       "   description parent histone_id    publication_id  \n",
       "0           39    H2B      H2B.O  raman_novel_2022  "
      ]
     },
     "execution_count": 7,
     "metadata": {},
     "output_type": "execute_result"
    }
   ],
   "source": [
    "query = (\n",
    "    \"SELECT * FROM histone h LEFT JOIN histone_has_publication hp \"\n",
    "    \"ON h.id = hp.histone_id \"\n",
    "    f\"WHERE h.id='{prev_name}'\"\n",
    ")\n",
    "cursor.execute(query)\n",
    "pd.DataFrame(cursor.fetchall(), columns=[i[0] for i in cursor.description])"
   ]
  },
  {
   "cell_type": "markdown",
   "id": "481630b4-fbc0-45f5-a0b9-92683c3233a9",
   "metadata": {
    "tags": []
   },
   "source": [
    "### Save publications"
   ]
  },
  {
   "cell_type": "code",
   "execution_count": 8,
   "id": "6ce1389c-e60b-4174-bc0c-54739f80937c",
   "metadata": {
    "tags": []
   },
   "outputs": [
    {
     "data": {
      "text/plain": [
       "array(['raman_novel_2022'], dtype=object)"
      ]
     },
     "execution_count": 8,
     "metadata": {},
     "output_type": "execute_result"
    }
   ],
   "source": [
    "query = (\n",
    "    \"SELECT * FROM histone h LEFT JOIN histone_has_publication hp \"\n",
    "    \"ON h.id = hp.histone_id \"\n",
    "    f\"WHERE h.id='{prev_name}'\"\n",
    ")\n",
    "cursor.execute(query)\n",
    "publications = pd.DataFrame(\n",
    "    cursor.fetchall(), columns=[i[0] for i in cursor.description]\n",
    ")[\"publication_id\"].values\n",
    "publications"
   ]
  },
  {
   "cell_type": "markdown",
   "id": "7e4033cf-456a-49cf-8d6d-113da9fb61ed",
   "metadata": {
    "tags": []
   },
   "source": [
    "### Delete relations"
   ]
  },
  {
   "cell_type": "code",
   "execution_count": 9,
   "id": "076f6093-7114-4b9b-930d-b0fd46754aea",
   "metadata": {
    "tags": []
   },
   "outputs": [
    {
     "name": "stdout",
     "output_type": "stream",
     "text": [
      "DELETE FROM histone_has_publication WHERE histone_id = 'H2B.O'\n"
     ]
    }
   ],
   "source": [
    "query = f\"DELETE FROM histone_has_publication WHERE histone_id = '{prev_name}'\" \n",
    "print(query) \n",
    "cursor.execute(query)"
   ]
  },
  {
   "cell_type": "code",
   "execution_count": 10,
   "id": "a69d7c67-4aaf-4c6a-b310-9738ec2a617c",
   "metadata": {
    "tags": []
   },
   "outputs": [
    {
     "data": {
      "text/html": [
       "<div>\n",
       "<style scoped>\n",
       "    .dataframe tbody tr th:only-of-type {\n",
       "        vertical-align: middle;\n",
       "    }\n",
       "\n",
       "    .dataframe tbody tr th {\n",
       "        vertical-align: top;\n",
       "    }\n",
       "\n",
       "    .dataframe thead th {\n",
       "        text-align: right;\n",
       "    }\n",
       "</style>\n",
       "<table border=\"1\" class=\"dataframe\">\n",
       "  <thead>\n",
       "    <tr style=\"text-align: right;\">\n",
       "      <th></th>\n",
       "      <th>id</th>\n",
       "      <th>level</th>\n",
       "      <th>taxonomic_span</th>\n",
       "      <th>taxonomic_span_id</th>\n",
       "      <th>description</th>\n",
       "      <th>parent</th>\n",
       "      <th>histone_id</th>\n",
       "      <th>publication_id</th>\n",
       "    </tr>\n",
       "  </thead>\n",
       "  <tbody>\n",
       "    <tr>\n",
       "      <th>0</th>\n",
       "      <td>H2B.O</td>\n",
       "      <td>variant_group</td>\n",
       "      <td>Ornithorhynchus anatinus</td>\n",
       "      <td>9258</td>\n",
       "      <td>39</td>\n",
       "      <td>H2B</td>\n",
       "      <td>None</td>\n",
       "      <td>None</td>\n",
       "    </tr>\n",
       "  </tbody>\n",
       "</table>\n",
       "</div>"
      ],
      "text/plain": [
       "      id          level            taxonomic_span taxonomic_span_id  \\\n",
       "0  H2B.O  variant_group  Ornithorhynchus anatinus              9258   \n",
       "\n",
       "   description parent histone_id publication_id  \n",
       "0           39    H2B       None           None  "
      ]
     },
     "execution_count": 10,
     "metadata": {},
     "output_type": "execute_result"
    }
   ],
   "source": [
    "query = (\n",
    "    \"SELECT * FROM histone h LEFT JOIN histone_has_publication hp \"\n",
    "    \"ON h.id = hp.histone_id \"\n",
    "    f\"WHERE h.id='{prev_name}'\"\n",
    ")\n",
    "cursor.execute(query)\n",
    "pd.DataFrame(cursor.fetchall(), columns=[i[0] for i in cursor.description])"
   ]
  },
  {
   "cell_type": "markdown",
   "id": "beaf2bab-388d-452d-8be6-2197295e30c5",
   "metadata": {
    "tags": []
   },
   "source": [
    "### Update name"
   ]
  },
  {
   "cell_type": "code",
   "execution_count": 11,
   "id": "45c182af-9ea9-4747-9176-b7b6a57aa2b0",
   "metadata": {
    "tags": []
   },
   "outputs": [
    {
     "name": "stdout",
     "output_type": "stream",
     "text": [
      "UPDATE histone SET id='H2B.O_(Ornithorhynchus_anatinus)' WHERE id = 'H2B.O'\n"
     ]
    }
   ],
   "source": [
    "query = f\"UPDATE histone SET id='{new_name}' WHERE id = '{prev_name}'\" \n",
    "print(query) \n",
    "cursor.execute(query) "
   ]
  },
  {
   "cell_type": "code",
   "execution_count": 12,
   "id": "3ba3b53e-1e0a-475b-b855-73243f0e2b26",
   "metadata": {
    "tags": []
   },
   "outputs": [
    {
     "data": {
      "text/html": [
       "<div>\n",
       "<style scoped>\n",
       "    .dataframe tbody tr th:only-of-type {\n",
       "        vertical-align: middle;\n",
       "    }\n",
       "\n",
       "    .dataframe tbody tr th {\n",
       "        vertical-align: top;\n",
       "    }\n",
       "\n",
       "    .dataframe thead th {\n",
       "        text-align: right;\n",
       "    }\n",
       "</style>\n",
       "<table border=\"1\" class=\"dataframe\">\n",
       "  <thead>\n",
       "    <tr style=\"text-align: right;\">\n",
       "      <th></th>\n",
       "      <th>id</th>\n",
       "      <th>level</th>\n",
       "      <th>taxonomic_span</th>\n",
       "      <th>taxonomic_span_id</th>\n",
       "      <th>description</th>\n",
       "      <th>parent</th>\n",
       "      <th>histone_id</th>\n",
       "      <th>publication_id</th>\n",
       "    </tr>\n",
       "  </thead>\n",
       "  <tbody>\n",
       "    <tr>\n",
       "      <th>0</th>\n",
       "      <td>H2B.O_(Ornithorhynchus_anatinus)</td>\n",
       "      <td>variant_group</td>\n",
       "      <td>Ornithorhynchus anatinus</td>\n",
       "      <td>9258</td>\n",
       "      <td>39</td>\n",
       "      <td>H2B</td>\n",
       "      <td>None</td>\n",
       "      <td>None</td>\n",
       "    </tr>\n",
       "  </tbody>\n",
       "</table>\n",
       "</div>"
      ],
      "text/plain": [
       "                                 id          level            taxonomic_span  \\\n",
       "0  H2B.O_(Ornithorhynchus_anatinus)  variant_group  Ornithorhynchus anatinus   \n",
       "\n",
       "  taxonomic_span_id  description parent histone_id publication_id  \n",
       "0              9258           39    H2B       None           None  "
      ]
     },
     "execution_count": 12,
     "metadata": {},
     "output_type": "execute_result"
    }
   ],
   "source": [
    "query = (\n",
    "    \"SELECT * FROM histone h LEFT JOIN histone_has_publication hp \"\n",
    "    \"ON h.id = hp.histone_id \"\n",
    "    f\"WHERE h.id='{new_name}'\"\n",
    ")\n",
    "cursor.execute(query)\n",
    "pd.DataFrame(cursor.fetchall(), columns=[i[0] for i in cursor.description])"
   ]
  },
  {
   "cell_type": "markdown",
   "id": "b86f6405-f50a-4741-9531-1d3d90e61fb9",
   "metadata": {},
   "source": [
    "### Return relations"
   ]
  },
  {
   "cell_type": "code",
   "execution_count": 13,
   "id": "4732251d-6144-4c41-82b4-c1ae0dc9f1e8",
   "metadata": {
    "tags": []
   },
   "outputs": [
    {
     "data": {
      "text/plain": [
       "'H2B.O_(Ornithorhynchus_anatinus)  is a class of H2B sequences identified exclusively in platypus genome that group together in phylogenetic analysis. H2B.O expression appears to be enriched in platypus’ germline tissues (testes or ovaries) albeit at low levels [raman_novel_2022].'"
      ]
     },
     "execution_count": 13,
     "metadata": {},
     "output_type": "execute_result"
    }
   ],
   "source": [
    "query = (\n",
    "    \"SELECT * FROM histone h LEFT JOIN histone_description hd \"\n",
    "    \"ON h.description = hd.id \"\n",
    "    f\"WHERE h.id='{new_name}'\"\n",
    ")\n",
    "cursor.execute(query)\n",
    "summary = (\n",
    "    pd.DataFrame(cursor.fetchall(), columns=[i[0] for i in cursor.description])[\n",
    "        \"summary\"\n",
    "    ]\n",
    "    .values[0]\n",
    "    .replace(prev_name, new_name, 1)\n",
    ")\n",
    "summary"
   ]
  },
  {
   "cell_type": "code",
   "execution_count": 15,
   "id": "1afc7ad8-0ae9-4bee-9778-59ec919502b4",
   "metadata": {
    "tags": []
   },
   "outputs": [
    {
     "name": "stdout",
     "output_type": "stream",
     "text": [
      "UPDATE histone_description SET summary='H2B.O_(Ornithorhynchus_anatinus)  is a class of H2B sequences identified exclusively in platypus genome that group together in phylogenetic analysis. H2B.O expression appears to be enriched in platypus’ germline tissues (testes or ovaries) albeit at low levels [raman_novel_2022].' WHERE id = 39\n"
     ]
    }
   ],
   "source": [
    "query = f\"UPDATE histone_description SET summary='{summary}' WHERE id = 39\" \n",
    "print(query) \n",
    "cursor.execute(query) "
   ]
  },
  {
   "cell_type": "code",
   "execution_count": 16,
   "id": "df90e1e6-8325-4c1b-b939-75773c21d71a",
   "metadata": {
    "tags": []
   },
   "outputs": [
    {
     "data": {
      "text/html": [
       "<div>\n",
       "<style scoped>\n",
       "    .dataframe tbody tr th:only-of-type {\n",
       "        vertical-align: middle;\n",
       "    }\n",
       "\n",
       "    .dataframe tbody tr th {\n",
       "        vertical-align: top;\n",
       "    }\n",
       "\n",
       "    .dataframe thead th {\n",
       "        text-align: right;\n",
       "    }\n",
       "</style>\n",
       "<table border=\"1\" class=\"dataframe\">\n",
       "  <thead>\n",
       "    <tr style=\"text-align: right;\">\n",
       "      <th></th>\n",
       "      <th>id</th>\n",
       "      <th>level</th>\n",
       "      <th>taxonomic_span</th>\n",
       "      <th>taxonomic_span_id</th>\n",
       "      <th>description</th>\n",
       "      <th>parent</th>\n",
       "      <th>id</th>\n",
       "      <th>summary</th>\n",
       "      <th>taxonomy</th>\n",
       "      <th>genes</th>\n",
       "      <th>...</th>\n",
       "      <th>expression</th>\n",
       "      <th>knock_out</th>\n",
       "      <th>function</th>\n",
       "      <th>sequence</th>\n",
       "      <th>localization</th>\n",
       "      <th>deposition</th>\n",
       "      <th>structure</th>\n",
       "      <th>interactions</th>\n",
       "      <th>disease</th>\n",
       "      <th>caveats</th>\n",
       "    </tr>\n",
       "  </thead>\n",
       "  <tbody>\n",
       "    <tr>\n",
       "      <th>0</th>\n",
       "      <td>H2B.O_(Ornithorhynchus_anatinus)</td>\n",
       "      <td>variant_group</td>\n",
       "      <td>Ornithorhynchus anatinus</td>\n",
       "      <td>9258</td>\n",
       "      <td>39</td>\n",
       "      <td>H2B</td>\n",
       "      <td>39</td>\n",
       "      <td>H2B.O_(Ornithorhynchus_anatinus)  is a class o...</td>\n",
       "      <td>Platypus [raman_novel_2022].</td>\n",
       "      <td>null</td>\n",
       "      <td>...</td>\n",
       "      <td>H2B.O expression appears to be enriched in pla...</td>\n",
       "      <td>null</td>\n",
       "      <td>null</td>\n",
       "      <td></td>\n",
       "      <td>null</td>\n",
       "      <td>null</td>\n",
       "      <td>null</td>\n",
       "      <td>null</td>\n",
       "      <td>null</td>\n",
       "      <td>null</td>\n",
       "    </tr>\n",
       "  </tbody>\n",
       "</table>\n",
       "<p>1 rows × 21 columns</p>\n",
       "</div>"
      ],
      "text/plain": [
       "                                 id          level            taxonomic_span  \\\n",
       "0  H2B.O_(Ornithorhynchus_anatinus)  variant_group  Ornithorhynchus anatinus   \n",
       "\n",
       "  taxonomic_span_id  description parent  id  \\\n",
       "0              9258           39    H2B  39   \n",
       "\n",
       "                                             summary  \\\n",
       "0  H2B.O_(Ornithorhynchus_anatinus)  is a class o...   \n",
       "\n",
       "                       taxonomy genes  ...  \\\n",
       "0  Platypus [raman_novel_2022].  null  ...   \n",
       "\n",
       "                                          expression knock_out function  \\\n",
       "0  H2B.O expression appears to be enriched in pla...      null     null   \n",
       "\n",
       "  sequence localization deposition structure interactions disease caveats  \n",
       "0                  null       null      null         null    null    null  \n",
       "\n",
       "[1 rows x 21 columns]"
      ]
     },
     "execution_count": 16,
     "metadata": {},
     "output_type": "execute_result"
    }
   ],
   "source": [
    "query = (\n",
    "    \"SELECT * FROM histone h LEFT JOIN histone_description hd \"\n",
    "    \"ON h.description = hd.id \"\n",
    "    f\"WHERE h.id='{new_name}'\"\n",
    ")\n",
    "cursor.execute(query)\n",
    "pd.DataFrame(cursor.fetchall(), columns=[i[0] for i in cursor.description])"
   ]
  },
  {
   "cell_type": "code",
   "execution_count": 19,
   "id": "7adb1b6d-8056-4cb0-b39b-274d084cb572",
   "metadata": {
    "tags": []
   },
   "outputs": [],
   "source": [
    "query = \"SELECT id FROM publication\"\n",
    "cursor.execute(query)\n",
    "exist_pubs = [i[0] for i in cursor.fetchall()]\n",
    "for pid in publications:\n",
    "    if pid not in exist_pubs:\n",
    "        print(f\"Strange {pid}\")\n",
    "    cursor.execute(add_histone_has_publication, (new_name, pid))"
   ]
  },
  {
   "cell_type": "code",
   "execution_count": 20,
   "id": "d11e464a-9491-42c9-8597-3ce53efa6979",
   "metadata": {
    "tags": []
   },
   "outputs": [
    {
     "data": {
      "text/html": [
       "<div>\n",
       "<style scoped>\n",
       "    .dataframe tbody tr th:only-of-type {\n",
       "        vertical-align: middle;\n",
       "    }\n",
       "\n",
       "    .dataframe tbody tr th {\n",
       "        vertical-align: top;\n",
       "    }\n",
       "\n",
       "    .dataframe thead th {\n",
       "        text-align: right;\n",
       "    }\n",
       "</style>\n",
       "<table border=\"1\" class=\"dataframe\">\n",
       "  <thead>\n",
       "    <tr style=\"text-align: right;\">\n",
       "      <th></th>\n",
       "      <th>id</th>\n",
       "      <th>level</th>\n",
       "      <th>taxonomic_span</th>\n",
       "      <th>taxonomic_span_id</th>\n",
       "      <th>description</th>\n",
       "      <th>parent</th>\n",
       "      <th>histone_id</th>\n",
       "      <th>publication_id</th>\n",
       "    </tr>\n",
       "  </thead>\n",
       "  <tbody>\n",
       "    <tr>\n",
       "      <th>0</th>\n",
       "      <td>H2B.O_(Ornithorhynchus_anatinus)</td>\n",
       "      <td>variant_group</td>\n",
       "      <td>Ornithorhynchus anatinus</td>\n",
       "      <td>9258</td>\n",
       "      <td>39</td>\n",
       "      <td>H2B</td>\n",
       "      <td>H2B.O_(Ornithorhynchus_anatinus)</td>\n",
       "      <td>raman_novel_2022</td>\n",
       "    </tr>\n",
       "  </tbody>\n",
       "</table>\n",
       "</div>"
      ],
      "text/plain": [
       "                                 id          level            taxonomic_span  \\\n",
       "0  H2B.O_(Ornithorhynchus_anatinus)  variant_group  Ornithorhynchus anatinus   \n",
       "\n",
       "  taxonomic_span_id  description parent                        histone_id  \\\n",
       "0              9258           39    H2B  H2B.O_(Ornithorhynchus_anatinus)   \n",
       "\n",
       "     publication_id  \n",
       "0  raman_novel_2022  "
      ]
     },
     "execution_count": 20,
     "metadata": {},
     "output_type": "execute_result"
    }
   ],
   "source": [
    "query = (\n",
    "    \"SELECT * FROM histone h LEFT JOIN histone_has_publication hp \"\n",
    "    \"ON h.id = hp.histone_id \"\n",
    "    f\"WHERE h.id='{new_name}'\"\n",
    ")\n",
    "cursor.execute(query)\n",
    "pd.DataFrame(cursor.fetchall(), columns=[i[0] for i in cursor.description])"
   ]
  },
  {
   "cell_type": "code",
   "execution_count": 21,
   "id": "dc6085a0-7f39-4daf-a3a0-f3b50db13f7c",
   "metadata": {
    "tags": []
   },
   "outputs": [],
   "source": [
    "# Make sure data is committed to the database\n",
    "conn.commit()"
   ]
  },
  {
   "cell_type": "markdown",
   "id": "d2e3e42b-33b6-446e-9bda-b7cc6e57ad5e",
   "metadata": {
    "tags": []
   },
   "source": [
    "## Change name from H2B.V → H2B.V_(Trypanosoma)"
   ]
  },
  {
   "cell_type": "code",
   "execution_count": 22,
   "id": "c3990990-9351-4630-8334-43a14f052d9f",
   "metadata": {
    "tags": []
   },
   "outputs": [],
   "source": [
    "prev_name, new_name = \"H2B.V\", \"H2B.V_(Trypanosoma)\""
   ]
  },
  {
   "cell_type": "code",
   "execution_count": 23,
   "id": "8ea2e787-9fba-4d5d-9d3d-50384e9b7537",
   "metadata": {
    "tags": []
   },
   "outputs": [
    {
     "data": {
      "text/html": [
       "<div>\n",
       "<style scoped>\n",
       "    .dataframe tbody tr th:only-of-type {\n",
       "        vertical-align: middle;\n",
       "    }\n",
       "\n",
       "    .dataframe tbody tr th {\n",
       "        vertical-align: top;\n",
       "    }\n",
       "\n",
       "    .dataframe thead th {\n",
       "        text-align: right;\n",
       "    }\n",
       "</style>\n",
       "<table border=\"1\" class=\"dataframe\">\n",
       "  <thead>\n",
       "    <tr style=\"text-align: right;\">\n",
       "      <th></th>\n",
       "      <th>id</th>\n",
       "      <th>level</th>\n",
       "      <th>taxonomic_span</th>\n",
       "      <th>taxonomic_span_id</th>\n",
       "      <th>description</th>\n",
       "      <th>parent</th>\n",
       "      <th>histone_id</th>\n",
       "      <th>publication_id</th>\n",
       "    </tr>\n",
       "  </thead>\n",
       "  <tbody>\n",
       "    <tr>\n",
       "      <th>0</th>\n",
       "      <td>H2B.V</td>\n",
       "      <td>variant_group</td>\n",
       "      <td>Trypanosoma</td>\n",
       "      <td>5690</td>\n",
       "      <td>41</td>\n",
       "      <td>H2B</td>\n",
       "      <td>H2B.V</td>\n",
       "      <td>lowell_histone_2005</td>\n",
       "    </tr>\n",
       "  </tbody>\n",
       "</table>\n",
       "</div>"
      ],
      "text/plain": [
       "      id          level taxonomic_span taxonomic_span_id  description parent  \\\n",
       "0  H2B.V  variant_group    Trypanosoma              5690           41    H2B   \n",
       "\n",
       "  histone_id       publication_id  \n",
       "0      H2B.V  lowell_histone_2005  "
      ]
     },
     "execution_count": 23,
     "metadata": {},
     "output_type": "execute_result"
    }
   ],
   "source": [
    "query = (\n",
    "    \"SELECT * FROM histone h LEFT JOIN histone_has_publication hp \"\n",
    "    \"ON h.id = hp.histone_id \"\n",
    "    f\"WHERE h.id='{prev_name}'\"\n",
    ")\n",
    "cursor.execute(query)\n",
    "pd.DataFrame(cursor.fetchall(), columns=[i[0] for i in cursor.description])"
   ]
  },
  {
   "cell_type": "markdown",
   "id": "ffe32de2-81ff-48da-a85b-8a01c98dcb43",
   "metadata": {
    "tags": []
   },
   "source": [
    "### Save publications"
   ]
  },
  {
   "cell_type": "code",
   "execution_count": 24,
   "id": "b7c389d4-5194-4228-9c9e-6409b1af026d",
   "metadata": {
    "tags": []
   },
   "outputs": [
    {
     "data": {
      "text/plain": [
       "array(['lowell_histone_2005'], dtype=object)"
      ]
     },
     "execution_count": 24,
     "metadata": {},
     "output_type": "execute_result"
    }
   ],
   "source": [
    "query = (\n",
    "    \"SELECT * FROM histone h LEFT JOIN histone_has_publication hp \"\n",
    "    \"ON h.id = hp.histone_id \"\n",
    "    f\"WHERE h.id='{prev_name}'\"\n",
    ")\n",
    "cursor.execute(query)\n",
    "publications = pd.DataFrame(\n",
    "    cursor.fetchall(), columns=[i[0] for i in cursor.description]\n",
    ")[\"publication_id\"].values\n",
    "publications"
   ]
  },
  {
   "cell_type": "markdown",
   "id": "afe79d7e-1cea-4172-a559-251185909784",
   "metadata": {
    "tags": []
   },
   "source": [
    "### Delete relations"
   ]
  },
  {
   "cell_type": "code",
   "execution_count": 25,
   "id": "9ccd6a95-b88d-4734-91cd-172a88f63b17",
   "metadata": {
    "tags": []
   },
   "outputs": [
    {
     "name": "stdout",
     "output_type": "stream",
     "text": [
      "DELETE FROM histone_has_publication WHERE histone_id = 'H2B.V'\n"
     ]
    }
   ],
   "source": [
    "query = f\"DELETE FROM histone_has_publication WHERE histone_id = '{prev_name}'\" \n",
    "print(query) \n",
    "cursor.execute(query)"
   ]
  },
  {
   "cell_type": "code",
   "execution_count": 26,
   "id": "6e4ee95a-5653-424a-ad67-628544016d8e",
   "metadata": {
    "tags": []
   },
   "outputs": [
    {
     "data": {
      "text/html": [
       "<div>\n",
       "<style scoped>\n",
       "    .dataframe tbody tr th:only-of-type {\n",
       "        vertical-align: middle;\n",
       "    }\n",
       "\n",
       "    .dataframe tbody tr th {\n",
       "        vertical-align: top;\n",
       "    }\n",
       "\n",
       "    .dataframe thead th {\n",
       "        text-align: right;\n",
       "    }\n",
       "</style>\n",
       "<table border=\"1\" class=\"dataframe\">\n",
       "  <thead>\n",
       "    <tr style=\"text-align: right;\">\n",
       "      <th></th>\n",
       "      <th>id</th>\n",
       "      <th>level</th>\n",
       "      <th>taxonomic_span</th>\n",
       "      <th>taxonomic_span_id</th>\n",
       "      <th>description</th>\n",
       "      <th>parent</th>\n",
       "      <th>histone_id</th>\n",
       "      <th>publication_id</th>\n",
       "    </tr>\n",
       "  </thead>\n",
       "  <tbody>\n",
       "    <tr>\n",
       "      <th>0</th>\n",
       "      <td>H2B.V</td>\n",
       "      <td>variant_group</td>\n",
       "      <td>Trypanosoma</td>\n",
       "      <td>5690</td>\n",
       "      <td>41</td>\n",
       "      <td>H2B</td>\n",
       "      <td>None</td>\n",
       "      <td>None</td>\n",
       "    </tr>\n",
       "  </tbody>\n",
       "</table>\n",
       "</div>"
      ],
      "text/plain": [
       "      id          level taxonomic_span taxonomic_span_id  description parent  \\\n",
       "0  H2B.V  variant_group    Trypanosoma              5690           41    H2B   \n",
       "\n",
       "  histone_id publication_id  \n",
       "0       None           None  "
      ]
     },
     "execution_count": 26,
     "metadata": {},
     "output_type": "execute_result"
    }
   ],
   "source": [
    "query = (\n",
    "    \"SELECT * FROM histone h LEFT JOIN histone_has_publication hp \"\n",
    "    \"ON h.id = hp.histone_id \"\n",
    "    f\"WHERE h.id='{prev_name}'\"\n",
    ")\n",
    "cursor.execute(query)\n",
    "pd.DataFrame(cursor.fetchall(), columns=[i[0] for i in cursor.description])"
   ]
  },
  {
   "cell_type": "markdown",
   "id": "ae07da58-6cdc-4605-93c3-32f2fa818e39",
   "metadata": {
    "tags": []
   },
   "source": [
    "### Update name"
   ]
  },
  {
   "cell_type": "code",
   "execution_count": 27,
   "id": "4bb7457f-0fac-4523-86a8-3932c9235e40",
   "metadata": {
    "tags": []
   },
   "outputs": [
    {
     "name": "stdout",
     "output_type": "stream",
     "text": [
      "UPDATE histone SET id='H2B.V_(Trypanosoma)' WHERE id = 'H2B.V'\n"
     ]
    }
   ],
   "source": [
    "query = f\"UPDATE histone SET id='{new_name}' WHERE id = '{prev_name}'\" \n",
    "print(query) \n",
    "cursor.execute(query) "
   ]
  },
  {
   "cell_type": "code",
   "execution_count": 28,
   "id": "1225df13-d8b2-406c-bd08-053d75167214",
   "metadata": {
    "tags": []
   },
   "outputs": [
    {
     "data": {
      "text/html": [
       "<div>\n",
       "<style scoped>\n",
       "    .dataframe tbody tr th:only-of-type {\n",
       "        vertical-align: middle;\n",
       "    }\n",
       "\n",
       "    .dataframe tbody tr th {\n",
       "        vertical-align: top;\n",
       "    }\n",
       "\n",
       "    .dataframe thead th {\n",
       "        text-align: right;\n",
       "    }\n",
       "</style>\n",
       "<table border=\"1\" class=\"dataframe\">\n",
       "  <thead>\n",
       "    <tr style=\"text-align: right;\">\n",
       "      <th></th>\n",
       "      <th>id</th>\n",
       "      <th>level</th>\n",
       "      <th>taxonomic_span</th>\n",
       "      <th>taxonomic_span_id</th>\n",
       "      <th>description</th>\n",
       "      <th>parent</th>\n",
       "      <th>histone_id</th>\n",
       "      <th>publication_id</th>\n",
       "    </tr>\n",
       "  </thead>\n",
       "  <tbody>\n",
       "    <tr>\n",
       "      <th>0</th>\n",
       "      <td>H2B.V_(Trypanosoma)</td>\n",
       "      <td>variant_group</td>\n",
       "      <td>Trypanosoma</td>\n",
       "      <td>5690</td>\n",
       "      <td>41</td>\n",
       "      <td>H2B</td>\n",
       "      <td>None</td>\n",
       "      <td>None</td>\n",
       "    </tr>\n",
       "  </tbody>\n",
       "</table>\n",
       "</div>"
      ],
      "text/plain": [
       "                    id          level taxonomic_span taxonomic_span_id  \\\n",
       "0  H2B.V_(Trypanosoma)  variant_group    Trypanosoma              5690   \n",
       "\n",
       "   description parent histone_id publication_id  \n",
       "0           41    H2B       None           None  "
      ]
     },
     "execution_count": 28,
     "metadata": {},
     "output_type": "execute_result"
    }
   ],
   "source": [
    "query = (\n",
    "    \"SELECT * FROM histone h LEFT JOIN histone_has_publication hp \"\n",
    "    \"ON h.id = hp.histone_id \"\n",
    "    f\"WHERE h.id='{new_name}'\"\n",
    ")\n",
    "cursor.execute(query)\n",
    "pd.DataFrame(cursor.fetchall(), columns=[i[0] for i in cursor.description])"
   ]
  },
  {
   "cell_type": "markdown",
   "id": "7a9d1092-5e6d-4a21-a2a4-13d43ed546c5",
   "metadata": {},
   "source": [
    "### Return relations"
   ]
  },
  {
   "cell_type": "code",
   "execution_count": 29,
   "id": "cfc7ce48-e986-4868-a4ba-34a8a1462253",
   "metadata": {
    "tags": []
   },
   "outputs": [
    {
     "data": {
      "text/plain": [
       "'H2B.V_(Trypanosoma) is a histone variant characterized so far in Trypanosoma brucei. It shares ~38% sequence identity with major H2B. H2B.V is essential for viability. H2A.Z and H2B.V colocalize throughout the cell cycle and exhibit nearly identical genomic distribution. Data strongly suggest that H2A.Z and H2B.V function together within a single nucleosome [lowell_histone_2005]. H2BV possibly regulates H3 K4 and K76 trimethylation in Trypanosoma brucei [mandava_trypanosome_2008].'"
      ]
     },
     "execution_count": 29,
     "metadata": {},
     "output_type": "execute_result"
    }
   ],
   "source": [
    "query = (\n",
    "    \"SELECT * FROM histone h LEFT JOIN histone_description hd \"\n",
    "    \"ON h.description = hd.id \"\n",
    "    f\"WHERE h.id='{new_name}'\"\n",
    ")\n",
    "cursor.execute(query)\n",
    "summary = (\n",
    "    pd.DataFrame(cursor.fetchall(), columns=[i[0] for i in cursor.description])[\n",
    "        \"summary\"\n",
    "    ]\n",
    "    .values[0]\n",
    "    .replace(prev_name, new_name, 1)\n",
    ")\n",
    "summary"
   ]
  },
  {
   "cell_type": "code",
   "execution_count": 30,
   "id": "dd628354-8492-4f2d-8793-1a1709c0ee03",
   "metadata": {
    "tags": []
   },
   "outputs": [
    {
     "name": "stdout",
     "output_type": "stream",
     "text": [
      "UPDATE histone_description SET summary='H2B.V_(Trypanosoma) is a histone variant characterized so far in Trypanosoma brucei. It shares ~38% sequence identity with major H2B. H2B.V is essential for viability. H2A.Z and H2B.V colocalize throughout the cell cycle and exhibit nearly identical genomic distribution. Data strongly suggest that H2A.Z and H2B.V function together within a single nucleosome [lowell_histone_2005]. H2BV possibly regulates H3 K4 and K76 trimethylation in Trypanosoma brucei [mandava_trypanosome_2008].' WHERE id = 41\n"
     ]
    }
   ],
   "source": [
    "query = f\"UPDATE histone_description SET summary='{summary}' WHERE id = 41\" \n",
    "print(query) \n",
    "cursor.execute(query) "
   ]
  },
  {
   "cell_type": "code",
   "execution_count": 31,
   "id": "752b03e8-a558-498f-9b74-977e7a6c277e",
   "metadata": {
    "tags": []
   },
   "outputs": [
    {
     "data": {
      "text/html": [
       "<div>\n",
       "<style scoped>\n",
       "    .dataframe tbody tr th:only-of-type {\n",
       "        vertical-align: middle;\n",
       "    }\n",
       "\n",
       "    .dataframe tbody tr th {\n",
       "        vertical-align: top;\n",
       "    }\n",
       "\n",
       "    .dataframe thead th {\n",
       "        text-align: right;\n",
       "    }\n",
       "</style>\n",
       "<table border=\"1\" class=\"dataframe\">\n",
       "  <thead>\n",
       "    <tr style=\"text-align: right;\">\n",
       "      <th></th>\n",
       "      <th>id</th>\n",
       "      <th>level</th>\n",
       "      <th>taxonomic_span</th>\n",
       "      <th>taxonomic_span_id</th>\n",
       "      <th>description</th>\n",
       "      <th>parent</th>\n",
       "      <th>id</th>\n",
       "      <th>summary</th>\n",
       "      <th>taxonomy</th>\n",
       "      <th>genes</th>\n",
       "      <th>...</th>\n",
       "      <th>expression</th>\n",
       "      <th>knock_out</th>\n",
       "      <th>function</th>\n",
       "      <th>sequence</th>\n",
       "      <th>localization</th>\n",
       "      <th>deposition</th>\n",
       "      <th>structure</th>\n",
       "      <th>interactions</th>\n",
       "      <th>disease</th>\n",
       "      <th>caveats</th>\n",
       "    </tr>\n",
       "  </thead>\n",
       "  <tbody>\n",
       "    <tr>\n",
       "      <th>0</th>\n",
       "      <td>H2B.V_(Trypanosoma)</td>\n",
       "      <td>variant_group</td>\n",
       "      <td>Trypanosoma</td>\n",
       "      <td>5690</td>\n",
       "      <td>41</td>\n",
       "      <td>H2B</td>\n",
       "      <td>41</td>\n",
       "      <td>H2B.V_(Trypanosoma) is a histone variant chara...</td>\n",
       "      <td>Trypanosoma</td>\n",
       "      <td>null</td>\n",
       "      <td>...</td>\n",
       "      <td>null</td>\n",
       "      <td>null</td>\n",
       "      <td>null</td>\n",
       "      <td>null</td>\n",
       "      <td>null</td>\n",
       "      <td>null</td>\n",
       "      <td>null</td>\n",
       "      <td>null</td>\n",
       "      <td>null</td>\n",
       "      <td>null</td>\n",
       "    </tr>\n",
       "  </tbody>\n",
       "</table>\n",
       "<p>1 rows × 21 columns</p>\n",
       "</div>"
      ],
      "text/plain": [
       "                    id          level taxonomic_span taxonomic_span_id  \\\n",
       "0  H2B.V_(Trypanosoma)  variant_group    Trypanosoma              5690   \n",
       "\n",
       "   description parent  id                                            summary  \\\n",
       "0           41    H2B  41  H2B.V_(Trypanosoma) is a histone variant chara...   \n",
       "\n",
       "      taxonomy genes  ... expression knock_out function sequence localization  \\\n",
       "0  Trypanosoma  null  ...       null      null     null     null         null   \n",
       "\n",
       "  deposition structure interactions disease caveats  \n",
       "0       null      null         null    null    null  \n",
       "\n",
       "[1 rows x 21 columns]"
      ]
     },
     "execution_count": 31,
     "metadata": {},
     "output_type": "execute_result"
    }
   ],
   "source": [
    "query = (\n",
    "    \"SELECT * FROM histone h LEFT JOIN histone_description hd \"\n",
    "    \"ON h.description = hd.id \"\n",
    "    f\"WHERE h.id='{new_name}'\"\n",
    ")\n",
    "cursor.execute(query)\n",
    "pd.DataFrame(cursor.fetchall(), columns=[i[0] for i in cursor.description])"
   ]
  },
  {
   "cell_type": "code",
   "execution_count": 32,
   "id": "0df8560f-47ed-490d-8901-6a62ade99a17",
   "metadata": {
    "tags": []
   },
   "outputs": [],
   "source": [
    "query = \"SELECT id FROM publication\"\n",
    "cursor.execute(query)\n",
    "exist_pubs = [i[0] for i in cursor.fetchall()]\n",
    "for pid in publications:\n",
    "    if pid not in exist_pubs:\n",
    "        print(f\"Strange {pid}\")\n",
    "    cursor.execute(add_histone_has_publication, (new_name, pid))"
   ]
  },
  {
   "cell_type": "code",
   "execution_count": 33,
   "id": "ffee4cd5-b9b3-4202-b436-704c0d4e02cd",
   "metadata": {
    "tags": []
   },
   "outputs": [
    {
     "data": {
      "text/html": [
       "<div>\n",
       "<style scoped>\n",
       "    .dataframe tbody tr th:only-of-type {\n",
       "        vertical-align: middle;\n",
       "    }\n",
       "\n",
       "    .dataframe tbody tr th {\n",
       "        vertical-align: top;\n",
       "    }\n",
       "\n",
       "    .dataframe thead th {\n",
       "        text-align: right;\n",
       "    }\n",
       "</style>\n",
       "<table border=\"1\" class=\"dataframe\">\n",
       "  <thead>\n",
       "    <tr style=\"text-align: right;\">\n",
       "      <th></th>\n",
       "      <th>id</th>\n",
       "      <th>level</th>\n",
       "      <th>taxonomic_span</th>\n",
       "      <th>taxonomic_span_id</th>\n",
       "      <th>description</th>\n",
       "      <th>parent</th>\n",
       "      <th>histone_id</th>\n",
       "      <th>publication_id</th>\n",
       "    </tr>\n",
       "  </thead>\n",
       "  <tbody>\n",
       "    <tr>\n",
       "      <th>0</th>\n",
       "      <td>H2B.V_(Trypanosoma)</td>\n",
       "      <td>variant_group</td>\n",
       "      <td>Trypanosoma</td>\n",
       "      <td>5690</td>\n",
       "      <td>41</td>\n",
       "      <td>H2B</td>\n",
       "      <td>H2B.V_(Trypanosoma)</td>\n",
       "      <td>lowell_histone_2005</td>\n",
       "    </tr>\n",
       "  </tbody>\n",
       "</table>\n",
       "</div>"
      ],
      "text/plain": [
       "                    id          level taxonomic_span taxonomic_span_id  \\\n",
       "0  H2B.V_(Trypanosoma)  variant_group    Trypanosoma              5690   \n",
       "\n",
       "   description parent           histone_id       publication_id  \n",
       "0           41    H2B  H2B.V_(Trypanosoma)  lowell_histone_2005  "
      ]
     },
     "execution_count": 33,
     "metadata": {},
     "output_type": "execute_result"
    }
   ],
   "source": [
    "query = (\n",
    "    \"SELECT * FROM histone h LEFT JOIN histone_has_publication hp \"\n",
    "    \"ON h.id = hp.histone_id \"\n",
    "    f\"WHERE h.id='{new_name}'\"\n",
    ")\n",
    "cursor.execute(query)\n",
    "pd.DataFrame(cursor.fetchall(), columns=[i[0] for i in cursor.description])"
   ]
  },
  {
   "cell_type": "code",
   "execution_count": 34,
   "id": "218ba146-90fa-470c-8a9a-e13e3b85f7a7",
   "metadata": {
    "tags": []
   },
   "outputs": [],
   "source": [
    "# Make sure data is committed to the database\n",
    "conn.commit()"
   ]
  },
  {
   "cell_type": "markdown",
   "id": "56fe2864-7a31-4593-b830-31529fe35f22",
   "metadata": {
    "tags": []
   },
   "source": [
    "## Change name from H2B.Z → H2B.Z_(Apicomplexa)"
   ]
  },
  {
   "cell_type": "code",
   "execution_count": 35,
   "id": "ae343796-22a5-417b-b115-27aae97deb29",
   "metadata": {
    "tags": []
   },
   "outputs": [],
   "source": [
    "prev_name, new_name = \"H2B.Z\", \"H2B.Z_(Apicomplexa)\""
   ]
  },
  {
   "cell_type": "code",
   "execution_count": 36,
   "id": "d7ac1605-8142-4be1-bd52-286416e14c34",
   "metadata": {
    "tags": []
   },
   "outputs": [
    {
     "data": {
      "text/html": [
       "<div>\n",
       "<style scoped>\n",
       "    .dataframe tbody tr th:only-of-type {\n",
       "        vertical-align: middle;\n",
       "    }\n",
       "\n",
       "    .dataframe tbody tr th {\n",
       "        vertical-align: top;\n",
       "    }\n",
       "\n",
       "    .dataframe thead th {\n",
       "        text-align: right;\n",
       "    }\n",
       "</style>\n",
       "<table border=\"1\" class=\"dataframe\">\n",
       "  <thead>\n",
       "    <tr style=\"text-align: right;\">\n",
       "      <th></th>\n",
       "      <th>id</th>\n",
       "      <th>level</th>\n",
       "      <th>taxonomic_span</th>\n",
       "      <th>taxonomic_span_id</th>\n",
       "      <th>description</th>\n",
       "      <th>parent</th>\n",
       "      <th>histone_id</th>\n",
       "      <th>publication_id</th>\n",
       "    </tr>\n",
       "  </thead>\n",
       "  <tbody>\n",
       "    <tr>\n",
       "      <th>0</th>\n",
       "      <td>H2B.Z</td>\n",
       "      <td>variant_group</td>\n",
       "      <td>Apicomplexa</td>\n",
       "      <td>5794</td>\n",
       "      <td>43</td>\n",
       "      <td>H2B</td>\n",
       "      <td>H2B.Z</td>\n",
       "      <td>logie_apicomplexa_2020</td>\n",
       "    </tr>\n",
       "  </tbody>\n",
       "</table>\n",
       "</div>"
      ],
      "text/plain": [
       "      id          level taxonomic_span taxonomic_span_id  description parent  \\\n",
       "0  H2B.Z  variant_group    Apicomplexa              5794           43    H2B   \n",
       "\n",
       "  histone_id          publication_id  \n",
       "0      H2B.Z  logie_apicomplexa_2020  "
      ]
     },
     "execution_count": 36,
     "metadata": {},
     "output_type": "execute_result"
    }
   ],
   "source": [
    "query = (\n",
    "    \"SELECT * FROM histone h LEFT JOIN histone_has_publication hp \"\n",
    "    \"ON h.id = hp.histone_id \"\n",
    "    f\"WHERE h.id='{prev_name}'\"\n",
    ")\n",
    "cursor.execute(query)\n",
    "pd.DataFrame(cursor.fetchall(), columns=[i[0] for i in cursor.description])"
   ]
  },
  {
   "cell_type": "markdown",
   "id": "05471aeb-4360-46aa-8b3c-ac80a77519fb",
   "metadata": {
    "tags": []
   },
   "source": [
    "### Save publications"
   ]
  },
  {
   "cell_type": "code",
   "execution_count": 37,
   "id": "f4552a18-ea78-4f15-bf22-5006f0cc667d",
   "metadata": {
    "tags": []
   },
   "outputs": [
    {
     "data": {
      "text/plain": [
       "array(['logie_apicomplexa_2020'], dtype=object)"
      ]
     },
     "execution_count": 37,
     "metadata": {},
     "output_type": "execute_result"
    }
   ],
   "source": [
    "query = (\n",
    "    \"SELECT * FROM histone h LEFT JOIN histone_has_publication hp \"\n",
    "    \"ON h.id = hp.histone_id \"\n",
    "    f\"WHERE h.id='{prev_name}'\"\n",
    ")\n",
    "cursor.execute(query)\n",
    "publications = pd.DataFrame(\n",
    "    cursor.fetchall(), columns=[i[0] for i in cursor.description]\n",
    ")[\"publication_id\"].values\n",
    "publications"
   ]
  },
  {
   "cell_type": "markdown",
   "id": "f8785a93-cdaa-4ccc-9a29-4c1ffa50ad75",
   "metadata": {
    "tags": []
   },
   "source": [
    "### Delete relations"
   ]
  },
  {
   "cell_type": "code",
   "execution_count": 38,
   "id": "c6b6d44e-d65e-4e73-9eb8-850e76652ac5",
   "metadata": {
    "tags": []
   },
   "outputs": [
    {
     "name": "stdout",
     "output_type": "stream",
     "text": [
      "DELETE FROM histone_has_publication WHERE histone_id = 'H2B.Z'\n"
     ]
    }
   ],
   "source": [
    "query = f\"DELETE FROM histone_has_publication WHERE histone_id = '{prev_name}'\" \n",
    "print(query) \n",
    "cursor.execute(query)"
   ]
  },
  {
   "cell_type": "code",
   "execution_count": 39,
   "id": "653803a0-0d8b-4088-b485-984c797acdde",
   "metadata": {
    "tags": []
   },
   "outputs": [
    {
     "data": {
      "text/html": [
       "<div>\n",
       "<style scoped>\n",
       "    .dataframe tbody tr th:only-of-type {\n",
       "        vertical-align: middle;\n",
       "    }\n",
       "\n",
       "    .dataframe tbody tr th {\n",
       "        vertical-align: top;\n",
       "    }\n",
       "\n",
       "    .dataframe thead th {\n",
       "        text-align: right;\n",
       "    }\n",
       "</style>\n",
       "<table border=\"1\" class=\"dataframe\">\n",
       "  <thead>\n",
       "    <tr style=\"text-align: right;\">\n",
       "      <th></th>\n",
       "      <th>id</th>\n",
       "      <th>level</th>\n",
       "      <th>taxonomic_span</th>\n",
       "      <th>taxonomic_span_id</th>\n",
       "      <th>description</th>\n",
       "      <th>parent</th>\n",
       "      <th>histone_id</th>\n",
       "      <th>publication_id</th>\n",
       "    </tr>\n",
       "  </thead>\n",
       "  <tbody>\n",
       "    <tr>\n",
       "      <th>0</th>\n",
       "      <td>H2B.Z</td>\n",
       "      <td>variant_group</td>\n",
       "      <td>Apicomplexa</td>\n",
       "      <td>5794</td>\n",
       "      <td>43</td>\n",
       "      <td>H2B</td>\n",
       "      <td>None</td>\n",
       "      <td>None</td>\n",
       "    </tr>\n",
       "  </tbody>\n",
       "</table>\n",
       "</div>"
      ],
      "text/plain": [
       "      id          level taxonomic_span taxonomic_span_id  description parent  \\\n",
       "0  H2B.Z  variant_group    Apicomplexa              5794           43    H2B   \n",
       "\n",
       "  histone_id publication_id  \n",
       "0       None           None  "
      ]
     },
     "execution_count": 39,
     "metadata": {},
     "output_type": "execute_result"
    }
   ],
   "source": [
    "query = (\n",
    "    \"SELECT * FROM histone h LEFT JOIN histone_has_publication hp \"\n",
    "    \"ON h.id = hp.histone_id \"\n",
    "    f\"WHERE h.id='{prev_name}'\"\n",
    ")\n",
    "cursor.execute(query)\n",
    "pd.DataFrame(cursor.fetchall(), columns=[i[0] for i in cursor.description])"
   ]
  },
  {
   "cell_type": "markdown",
   "id": "db83dbe7-d15d-48bb-ab65-1c2d05fdaf62",
   "metadata": {
    "tags": []
   },
   "source": [
    "### Update name"
   ]
  },
  {
   "cell_type": "code",
   "execution_count": 40,
   "id": "8014248d-265e-4c95-a9e4-6ab3e1a799f0",
   "metadata": {
    "tags": []
   },
   "outputs": [
    {
     "name": "stdout",
     "output_type": "stream",
     "text": [
      "UPDATE histone SET id='H2B.Z_(Apicomplexa)' WHERE id = 'H2B.Z'\n"
     ]
    }
   ],
   "source": [
    "query = f\"UPDATE histone SET id='{new_name}' WHERE id = '{prev_name}'\" \n",
    "print(query) \n",
    "cursor.execute(query) "
   ]
  },
  {
   "cell_type": "code",
   "execution_count": 41,
   "id": "481c492a-094a-4787-83f9-135e7aff0e35",
   "metadata": {
    "tags": []
   },
   "outputs": [
    {
     "data": {
      "text/html": [
       "<div>\n",
       "<style scoped>\n",
       "    .dataframe tbody tr th:only-of-type {\n",
       "        vertical-align: middle;\n",
       "    }\n",
       "\n",
       "    .dataframe tbody tr th {\n",
       "        vertical-align: top;\n",
       "    }\n",
       "\n",
       "    .dataframe thead th {\n",
       "        text-align: right;\n",
       "    }\n",
       "</style>\n",
       "<table border=\"1\" class=\"dataframe\">\n",
       "  <thead>\n",
       "    <tr style=\"text-align: right;\">\n",
       "      <th></th>\n",
       "      <th>id</th>\n",
       "      <th>level</th>\n",
       "      <th>taxonomic_span</th>\n",
       "      <th>taxonomic_span_id</th>\n",
       "      <th>description</th>\n",
       "      <th>parent</th>\n",
       "      <th>histone_id</th>\n",
       "      <th>publication_id</th>\n",
       "    </tr>\n",
       "  </thead>\n",
       "  <tbody>\n",
       "    <tr>\n",
       "      <th>0</th>\n",
       "      <td>H2B.Z_(Apicomplexa)</td>\n",
       "      <td>variant_group</td>\n",
       "      <td>Apicomplexa</td>\n",
       "      <td>5794</td>\n",
       "      <td>43</td>\n",
       "      <td>H2B</td>\n",
       "      <td>None</td>\n",
       "      <td>None</td>\n",
       "    </tr>\n",
       "  </tbody>\n",
       "</table>\n",
       "</div>"
      ],
      "text/plain": [
       "                    id          level taxonomic_span taxonomic_span_id  \\\n",
       "0  H2B.Z_(Apicomplexa)  variant_group    Apicomplexa              5794   \n",
       "\n",
       "   description parent histone_id publication_id  \n",
       "0           43    H2B       None           None  "
      ]
     },
     "execution_count": 41,
     "metadata": {},
     "output_type": "execute_result"
    }
   ],
   "source": [
    "query = (\n",
    "    \"SELECT * FROM histone h LEFT JOIN histone_has_publication hp \"\n",
    "    \"ON h.id = hp.histone_id \"\n",
    "    f\"WHERE h.id='{new_name}'\"\n",
    ")\n",
    "cursor.execute(query)\n",
    "pd.DataFrame(cursor.fetchall(), columns=[i[0] for i in cursor.description])"
   ]
  },
  {
   "cell_type": "markdown",
   "id": "6f441307-c2a5-4434-8bf8-36c5f6d79ea7",
   "metadata": {},
   "source": [
    "### Return relations"
   ]
  },
  {
   "cell_type": "code",
   "execution_count": 42,
   "id": "9933caf6-419d-48ae-a69b-f10448eb5489",
   "metadata": {
    "tags": []
   },
   "outputs": [
    {
     "data": {
      "text/plain": [
       "'H2B.Z_(Apicomplexa) is an apicomplexan specific variant. Different studies performed in Toxoplasma have shown a nucleosome composition in which H2A.Z, but not H2A.X, dimerizes with H2B.Z, while H2A.X dimerizes with canonical H2B (H2Ba in T. gondii), but never with H2B.Z. This fact is also seen in P. falciparum, although this parasite lacks H2A.X variant and has driven the hypothesis of a new double variant nucleosome exclusive of parasites with particular characteristics [logie_apicomplexa_2020].'"
      ]
     },
     "execution_count": 42,
     "metadata": {},
     "output_type": "execute_result"
    }
   ],
   "source": [
    "query = (\n",
    "    \"SELECT * FROM histone h LEFT JOIN histone_description hd \"\n",
    "    \"ON h.description = hd.id \"\n",
    "    f\"WHERE h.id='{new_name}'\"\n",
    ")\n",
    "cursor.execute(query)\n",
    "summary = (\n",
    "    pd.DataFrame(cursor.fetchall(), columns=[i[0] for i in cursor.description])[\n",
    "        \"summary\"\n",
    "    ]\n",
    "    .values[0]\n",
    "    .replace(prev_name, new_name, 1)\n",
    ")\n",
    "summary"
   ]
  },
  {
   "cell_type": "code",
   "execution_count": 43,
   "id": "98524652-acf9-4dfb-89b8-462139892660",
   "metadata": {
    "tags": []
   },
   "outputs": [
    {
     "name": "stdout",
     "output_type": "stream",
     "text": [
      "UPDATE histone_description SET summary='H2B.Z_(Apicomplexa) is an apicomplexan specific variant. Different studies performed in Toxoplasma have shown a nucleosome composition in which H2A.Z, but not H2A.X, dimerizes with H2B.Z, while H2A.X dimerizes with canonical H2B (H2Ba in T. gondii), but never with H2B.Z. This fact is also seen in P. falciparum, although this parasite lacks H2A.X variant and has driven the hypothesis of a new double variant nucleosome exclusive of parasites with particular characteristics [logie_apicomplexa_2020].' WHERE id = 43\n"
     ]
    }
   ],
   "source": [
    "query = f\"UPDATE histone_description SET summary='{summary}' WHERE id = 43\" \n",
    "print(query) \n",
    "cursor.execute(query) "
   ]
  },
  {
   "cell_type": "code",
   "execution_count": 44,
   "id": "b2fbdf38-bcf0-44da-93b2-45fb6467acfa",
   "metadata": {
    "tags": []
   },
   "outputs": [
    {
     "data": {
      "text/html": [
       "<div>\n",
       "<style scoped>\n",
       "    .dataframe tbody tr th:only-of-type {\n",
       "        vertical-align: middle;\n",
       "    }\n",
       "\n",
       "    .dataframe tbody tr th {\n",
       "        vertical-align: top;\n",
       "    }\n",
       "\n",
       "    .dataframe thead th {\n",
       "        text-align: right;\n",
       "    }\n",
       "</style>\n",
       "<table border=\"1\" class=\"dataframe\">\n",
       "  <thead>\n",
       "    <tr style=\"text-align: right;\">\n",
       "      <th></th>\n",
       "      <th>id</th>\n",
       "      <th>level</th>\n",
       "      <th>taxonomic_span</th>\n",
       "      <th>taxonomic_span_id</th>\n",
       "      <th>description</th>\n",
       "      <th>parent</th>\n",
       "      <th>id</th>\n",
       "      <th>summary</th>\n",
       "      <th>taxonomy</th>\n",
       "      <th>genes</th>\n",
       "      <th>...</th>\n",
       "      <th>expression</th>\n",
       "      <th>knock_out</th>\n",
       "      <th>function</th>\n",
       "      <th>sequence</th>\n",
       "      <th>localization</th>\n",
       "      <th>deposition</th>\n",
       "      <th>structure</th>\n",
       "      <th>interactions</th>\n",
       "      <th>disease</th>\n",
       "      <th>caveats</th>\n",
       "    </tr>\n",
       "  </thead>\n",
       "  <tbody>\n",
       "    <tr>\n",
       "      <th>0</th>\n",
       "      <td>H2B.Z_(Apicomplexa)</td>\n",
       "      <td>variant_group</td>\n",
       "      <td>Apicomplexa</td>\n",
       "      <td>5794</td>\n",
       "      <td>43</td>\n",
       "      <td>H2B</td>\n",
       "      <td>43</td>\n",
       "      <td>H2B.Z_(Apicomplexa) is an apicomplexan specifi...</td>\n",
       "      <td>null</td>\n",
       "      <td>null</td>\n",
       "      <td>...</td>\n",
       "      <td>H2B.Z expression was found to be relatively c...</td>\n",
       "      <td>null</td>\n",
       "      <td>null</td>\n",
       "      <td>null</td>\n",
       "      <td>null</td>\n",
       "      <td>null</td>\n",
       "      <td>null</td>\n",
       "      <td>null</td>\n",
       "      <td>null</td>\n",
       "      <td>Former name for this histone variant H2Bv from...</td>\n",
       "    </tr>\n",
       "  </tbody>\n",
       "</table>\n",
       "<p>1 rows × 21 columns</p>\n",
       "</div>"
      ],
      "text/plain": [
       "                    id          level taxonomic_span taxonomic_span_id  \\\n",
       "0  H2B.Z_(Apicomplexa)  variant_group    Apicomplexa              5794   \n",
       "\n",
       "   description parent  id                                            summary  \\\n",
       "0           43    H2B  43  H2B.Z_(Apicomplexa) is an apicomplexan specifi...   \n",
       "\n",
       "  taxonomy genes  ...                                         expression  \\\n",
       "0     null  null  ...   H2B.Z expression was found to be relatively c...   \n",
       "\n",
       "  knock_out function sequence localization deposition structure interactions  \\\n",
       "0      null     null     null         null       null      null         null   \n",
       "\n",
       "  disease                                            caveats  \n",
       "0    null  Former name for this histone variant H2Bv from...  \n",
       "\n",
       "[1 rows x 21 columns]"
      ]
     },
     "execution_count": 44,
     "metadata": {},
     "output_type": "execute_result"
    }
   ],
   "source": [
    "query = (\n",
    "    \"SELECT * FROM histone h LEFT JOIN histone_description hd \"\n",
    "    \"ON h.description = hd.id \"\n",
    "    f\"WHERE h.id='{new_name}'\"\n",
    ")\n",
    "cursor.execute(query)\n",
    "pd.DataFrame(cursor.fetchall(), columns=[i[0] for i in cursor.description])"
   ]
  },
  {
   "cell_type": "code",
   "execution_count": 45,
   "id": "56ffef87-71b8-4331-8607-c80102ccc7a4",
   "metadata": {
    "tags": []
   },
   "outputs": [],
   "source": [
    "query = \"SELECT id FROM publication\"\n",
    "cursor.execute(query)\n",
    "exist_pubs = [i[0] for i in cursor.fetchall()]\n",
    "for pid in publications:\n",
    "    if pid not in exist_pubs:\n",
    "        print(f\"Strange {pid}\")\n",
    "    cursor.execute(add_histone_has_publication, (new_name, pid))"
   ]
  },
  {
   "cell_type": "code",
   "execution_count": 46,
   "id": "f0059ec3-40e8-4824-8edc-b0385017e8d7",
   "metadata": {
    "tags": []
   },
   "outputs": [
    {
     "data": {
      "text/html": [
       "<div>\n",
       "<style scoped>\n",
       "    .dataframe tbody tr th:only-of-type {\n",
       "        vertical-align: middle;\n",
       "    }\n",
       "\n",
       "    .dataframe tbody tr th {\n",
       "        vertical-align: top;\n",
       "    }\n",
       "\n",
       "    .dataframe thead th {\n",
       "        text-align: right;\n",
       "    }\n",
       "</style>\n",
       "<table border=\"1\" class=\"dataframe\">\n",
       "  <thead>\n",
       "    <tr style=\"text-align: right;\">\n",
       "      <th></th>\n",
       "      <th>id</th>\n",
       "      <th>level</th>\n",
       "      <th>taxonomic_span</th>\n",
       "      <th>taxonomic_span_id</th>\n",
       "      <th>description</th>\n",
       "      <th>parent</th>\n",
       "      <th>histone_id</th>\n",
       "      <th>publication_id</th>\n",
       "    </tr>\n",
       "  </thead>\n",
       "  <tbody>\n",
       "    <tr>\n",
       "      <th>0</th>\n",
       "      <td>H2B.Z_(Apicomplexa)</td>\n",
       "      <td>variant_group</td>\n",
       "      <td>Apicomplexa</td>\n",
       "      <td>5794</td>\n",
       "      <td>43</td>\n",
       "      <td>H2B</td>\n",
       "      <td>H2B.Z_(Apicomplexa)</td>\n",
       "      <td>logie_apicomplexa_2020</td>\n",
       "    </tr>\n",
       "  </tbody>\n",
       "</table>\n",
       "</div>"
      ],
      "text/plain": [
       "                    id          level taxonomic_span taxonomic_span_id  \\\n",
       "0  H2B.Z_(Apicomplexa)  variant_group    Apicomplexa              5794   \n",
       "\n",
       "   description parent           histone_id          publication_id  \n",
       "0           43    H2B  H2B.Z_(Apicomplexa)  logie_apicomplexa_2020  "
      ]
     },
     "execution_count": 46,
     "metadata": {},
     "output_type": "execute_result"
    }
   ],
   "source": [
    "query = (\n",
    "    \"SELECT * FROM histone h LEFT JOIN histone_has_publication hp \"\n",
    "    \"ON h.id = hp.histone_id \"\n",
    "    f\"WHERE h.id='{new_name}'\"\n",
    ")\n",
    "cursor.execute(query)\n",
    "pd.DataFrame(cursor.fetchall(), columns=[i[0] for i in cursor.description])"
   ]
  },
  {
   "cell_type": "code",
   "execution_count": 91,
   "id": "c8f92c64-1c64-459a-9386-f36c2d38b201",
   "metadata": {
    "tags": []
   },
   "outputs": [],
   "source": [
    "# Make sure data is committed to the database\n",
    "conn.commit()"
   ]
  },
  {
   "cell_type": "markdown",
   "id": "3222ca15-1529-4a17-ab82-43c3c28b116d",
   "metadata": {
    "tags": []
   },
   "source": [
    "## Change name from cenH3_(Eukarya) → cenH3"
   ]
  },
  {
   "cell_type": "code",
   "execution_count": 49,
   "id": "6f777998-db43-4411-8ab0-cd8a14e58d07",
   "metadata": {
    "tags": []
   },
   "outputs": [],
   "source": [
    "prev_name, new_name = \"cenH3_(Eukarya)\", \"cenH3\""
   ]
  },
  {
   "cell_type": "code",
   "execution_count": 50,
   "id": "60470b27-8db4-417f-ab2e-c0d7a7f5fd98",
   "metadata": {
    "tags": []
   },
   "outputs": [
    {
     "data": {
      "text/html": [
       "<div>\n",
       "<style scoped>\n",
       "    .dataframe tbody tr th:only-of-type {\n",
       "        vertical-align: middle;\n",
       "    }\n",
       "\n",
       "    .dataframe tbody tr th {\n",
       "        vertical-align: top;\n",
       "    }\n",
       "\n",
       "    .dataframe thead th {\n",
       "        text-align: right;\n",
       "    }\n",
       "</style>\n",
       "<table border=\"1\" class=\"dataframe\">\n",
       "  <thead>\n",
       "    <tr style=\"text-align: right;\">\n",
       "      <th></th>\n",
       "      <th>id</th>\n",
       "      <th>level</th>\n",
       "      <th>taxonomic_span</th>\n",
       "      <th>taxonomic_span_id</th>\n",
       "      <th>description</th>\n",
       "      <th>parent</th>\n",
       "      <th>histone_id</th>\n",
       "      <th>publication_id</th>\n",
       "    </tr>\n",
       "  </thead>\n",
       "  <tbody>\n",
       "    <tr>\n",
       "      <th>0</th>\n",
       "      <td>cenH3_(Eukarya)</td>\n",
       "      <td>variant_group</td>\n",
       "      <td>null</td>\n",
       "      <td>null</td>\n",
       "      <td>46</td>\n",
       "      <td>H3</td>\n",
       "      <td>None</td>\n",
       "      <td>None</td>\n",
       "    </tr>\n",
       "  </tbody>\n",
       "</table>\n",
       "</div>"
      ],
      "text/plain": [
       "                id          level taxonomic_span taxonomic_span_id  \\\n",
       "0  cenH3_(Eukarya)  variant_group           null              null   \n",
       "\n",
       "   description parent histone_id publication_id  \n",
       "0           46     H3       None           None  "
      ]
     },
     "execution_count": 50,
     "metadata": {},
     "output_type": "execute_result"
    }
   ],
   "source": [
    "query = (\n",
    "    \"SELECT * FROM histone h LEFT JOIN histone_has_publication hp \"\n",
    "    \"ON h.id = hp.histone_id \"\n",
    "    f\"WHERE h.id='{prev_name}'\"\n",
    ")\n",
    "cursor.execute(query)\n",
    "pd.DataFrame(cursor.fetchall(), columns=[i[0] for i in cursor.description])"
   ]
  },
  {
   "cell_type": "code",
   "execution_count": 51,
   "id": "0ed4dbe4-4c78-41e8-b69a-9fcd4596549f",
   "metadata": {
    "tags": []
   },
   "outputs": [
    {
     "data": {
      "text/html": [
       "<div>\n",
       "<style scoped>\n",
       "    .dataframe tbody tr th:only-of-type {\n",
       "        vertical-align: middle;\n",
       "    }\n",
       "\n",
       "    .dataframe tbody tr th {\n",
       "        vertical-align: top;\n",
       "    }\n",
       "\n",
       "    .dataframe thead th {\n",
       "        text-align: right;\n",
       "    }\n",
       "</style>\n",
       "<table border=\"1\" class=\"dataframe\">\n",
       "  <thead>\n",
       "    <tr style=\"text-align: right;\">\n",
       "      <th></th>\n",
       "      <th>id</th>\n",
       "      <th>level</th>\n",
       "      <th>taxonomic_span</th>\n",
       "      <th>taxonomic_span_id</th>\n",
       "      <th>description</th>\n",
       "      <th>parent</th>\n",
       "    </tr>\n",
       "  </thead>\n",
       "  <tbody>\n",
       "    <tr>\n",
       "      <th>0</th>\n",
       "      <td>cenH3_(Animals)</td>\n",
       "      <td>variant</td>\n",
       "      <td>Homo sapiens</td>\n",
       "      <td>9606</td>\n",
       "      <td>94</td>\n",
       "      <td>cenH3_(Eukarya)</td>\n",
       "    </tr>\n",
       "    <tr>\n",
       "      <th>1</th>\n",
       "      <td>cenH3_(Fungi)</td>\n",
       "      <td>variant</td>\n",
       "      <td>Homo sapiens</td>\n",
       "      <td>9606</td>\n",
       "      <td>95</td>\n",
       "      <td>cenH3_(Eukarya)</td>\n",
       "    </tr>\n",
       "    <tr>\n",
       "      <th>2</th>\n",
       "      <td>cenH3_(Plants)</td>\n",
       "      <td>variant</td>\n",
       "      <td>Eukaryotes</td>\n",
       "      <td>2759</td>\n",
       "      <td>96</td>\n",
       "      <td>cenH3_(Eukarya)</td>\n",
       "    </tr>\n",
       "  </tbody>\n",
       "</table>\n",
       "</div>"
      ],
      "text/plain": [
       "                id    level taxonomic_span taxonomic_span_id  description  \\\n",
       "0  cenH3_(Animals)  variant   Homo sapiens              9606           94   \n",
       "1    cenH3_(Fungi)  variant   Homo sapiens              9606           95   \n",
       "2   cenH3_(Plants)  variant     Eukaryotes              2759           96   \n",
       "\n",
       "            parent  \n",
       "0  cenH3_(Eukarya)  \n",
       "1  cenH3_(Eukarya)  \n",
       "2  cenH3_(Eukarya)  "
      ]
     },
     "execution_count": 51,
     "metadata": {},
     "output_type": "execute_result"
    }
   ],
   "source": [
    "query = (\n",
    "    \"SELECT * FROM histone \"\n",
    "    f\"WHERE parent='{prev_name}'\"\n",
    ")\n",
    "cursor.execute(query)\n",
    "pd.DataFrame(cursor.fetchall(), columns=[i[0] for i in cursor.description])"
   ]
  },
  {
   "cell_type": "markdown",
   "id": "12f49dfb-d936-4be2-bfb2-da0e091ef0fc",
   "metadata": {
    "tags": []
   },
   "source": [
    "### Save children"
   ]
  },
  {
   "cell_type": "code",
   "execution_count": 52,
   "id": "e765cdf2-9840-4f49-827f-eb6dff8e0d4d",
   "metadata": {
    "tags": []
   },
   "outputs": [
    {
     "data": {
      "text/plain": [
       "array(['cenH3_(Animals)', 'cenH3_(Fungi)', 'cenH3_(Plants)'], dtype=object)"
      ]
     },
     "execution_count": 52,
     "metadata": {},
     "output_type": "execute_result"
    }
   ],
   "source": [
    "query = (\n",
    "    \"SELECT * FROM histone \"\n",
    "    f\"WHERE parent='{prev_name}'\"\n",
    ")\n",
    "cursor.execute(query)\n",
    "children = pd.DataFrame(cursor.fetchall(), columns=[i[0] for i in cursor.description])[\"id\"].values\n",
    "children"
   ]
  },
  {
   "cell_type": "markdown",
   "id": "6abecad2-f6b6-4346-9b93-d787fd748c30",
   "metadata": {
    "tags": []
   },
   "source": [
    "### Delete relations"
   ]
  },
  {
   "cell_type": "code",
   "execution_count": 55,
   "id": "7888c58a-d983-4c64-aacf-103074fd7e46",
   "metadata": {
    "tags": []
   },
   "outputs": [
    {
     "name": "stdout",
     "output_type": "stream",
     "text": [
      "UPDATE histone SET parent=null WHERE parent = 'cenH3_(Eukarya)'\n"
     ]
    }
   ],
   "source": [
    "query = f\"UPDATE histone SET parent=null WHERE parent = '{prev_name}'\" \n",
    "print(query) \n",
    "cursor.execute(query) "
   ]
  },
  {
   "cell_type": "code",
   "execution_count": 57,
   "id": "550bdff2-4a64-48ae-806d-664c933e1332",
   "metadata": {
    "tags": []
   },
   "outputs": [
    {
     "data": {
      "text/html": [
       "<div>\n",
       "<style scoped>\n",
       "    .dataframe tbody tr th:only-of-type {\n",
       "        vertical-align: middle;\n",
       "    }\n",
       "\n",
       "    .dataframe tbody tr th {\n",
       "        vertical-align: top;\n",
       "    }\n",
       "\n",
       "    .dataframe thead th {\n",
       "        text-align: right;\n",
       "    }\n",
       "</style>\n",
       "<table border=\"1\" class=\"dataframe\">\n",
       "  <thead>\n",
       "    <tr style=\"text-align: right;\">\n",
       "      <th></th>\n",
       "      <th>id</th>\n",
       "      <th>level</th>\n",
       "      <th>taxonomic_span</th>\n",
       "      <th>taxonomic_span_id</th>\n",
       "      <th>description</th>\n",
       "      <th>parent</th>\n",
       "    </tr>\n",
       "  </thead>\n",
       "  <tbody>\n",
       "  </tbody>\n",
       "</table>\n",
       "</div>"
      ],
      "text/plain": [
       "Empty DataFrame\n",
       "Columns: [id, level, taxonomic_span, taxonomic_span_id, description, parent]\n",
       "Index: []"
      ]
     },
     "execution_count": 57,
     "metadata": {},
     "output_type": "execute_result"
    }
   ],
   "source": [
    "query = (\n",
    "    \"SELECT * FROM histone \"\n",
    "    f\"WHERE parent='{prev_name}'\"\n",
    ")\n",
    "cursor.execute(query)\n",
    "pd.DataFrame(cursor.fetchall(), columns=[i[0] for i in cursor.description])"
   ]
  },
  {
   "cell_type": "markdown",
   "id": "96f1a947-a6ba-4d9c-93fc-549d53d89222",
   "metadata": {
    "tags": []
   },
   "source": [
    "### Update name"
   ]
  },
  {
   "cell_type": "code",
   "execution_count": 58,
   "id": "d41b54b4-64e4-4cea-8c59-7ba247c45226",
   "metadata": {
    "tags": []
   },
   "outputs": [
    {
     "name": "stdout",
     "output_type": "stream",
     "text": [
      "UPDATE histone SET id='cenH3' WHERE id = 'cenH3_(Eukarya)'\n"
     ]
    }
   ],
   "source": [
    "query = f\"UPDATE histone SET id='{new_name}' WHERE id = '{prev_name}'\" \n",
    "print(query) \n",
    "cursor.execute(query) "
   ]
  },
  {
   "cell_type": "code",
   "execution_count": 59,
   "id": "0bab1bdf-c3fa-4320-81b7-2a9bae236af4",
   "metadata": {
    "tags": []
   },
   "outputs": [
    {
     "data": {
      "text/html": [
       "<div>\n",
       "<style scoped>\n",
       "    .dataframe tbody tr th:only-of-type {\n",
       "        vertical-align: middle;\n",
       "    }\n",
       "\n",
       "    .dataframe tbody tr th {\n",
       "        vertical-align: top;\n",
       "    }\n",
       "\n",
       "    .dataframe thead th {\n",
       "        text-align: right;\n",
       "    }\n",
       "</style>\n",
       "<table border=\"1\" class=\"dataframe\">\n",
       "  <thead>\n",
       "    <tr style=\"text-align: right;\">\n",
       "      <th></th>\n",
       "      <th>id</th>\n",
       "      <th>level</th>\n",
       "      <th>taxonomic_span</th>\n",
       "      <th>taxonomic_span_id</th>\n",
       "      <th>description</th>\n",
       "      <th>parent</th>\n",
       "      <th>histone_id</th>\n",
       "      <th>publication_id</th>\n",
       "    </tr>\n",
       "  </thead>\n",
       "  <tbody>\n",
       "    <tr>\n",
       "      <th>0</th>\n",
       "      <td>cenH3</td>\n",
       "      <td>variant_group</td>\n",
       "      <td>null</td>\n",
       "      <td>null</td>\n",
       "      <td>46</td>\n",
       "      <td>H3</td>\n",
       "      <td>None</td>\n",
       "      <td>None</td>\n",
       "    </tr>\n",
       "  </tbody>\n",
       "</table>\n",
       "</div>"
      ],
      "text/plain": [
       "      id          level taxonomic_span taxonomic_span_id  description parent  \\\n",
       "0  cenH3  variant_group           null              null           46     H3   \n",
       "\n",
       "  histone_id publication_id  \n",
       "0       None           None  "
      ]
     },
     "execution_count": 59,
     "metadata": {},
     "output_type": "execute_result"
    }
   ],
   "source": [
    "query = (\n",
    "    \"SELECT * FROM histone h LEFT JOIN histone_has_publication hp \"\n",
    "    \"ON h.id = hp.histone_id \"\n",
    "    f\"WHERE h.id='{new_name}'\"\n",
    ")\n",
    "cursor.execute(query)\n",
    "pd.DataFrame(cursor.fetchall(), columns=[i[0] for i in cursor.description])"
   ]
  },
  {
   "cell_type": "markdown",
   "id": "d871e75c-40cb-4ec6-a20a-5add7a2cf126",
   "metadata": {},
   "source": [
    "### Return relations"
   ]
  },
  {
   "cell_type": "code",
   "execution_count": 60,
   "id": "ebfcda9a-a369-490f-882f-a0be52e3497f",
   "metadata": {
    "tags": []
   },
   "outputs": [
    {
     "data": {
      "text/html": [
       "<div>\n",
       "<style scoped>\n",
       "    .dataframe tbody tr th:only-of-type {\n",
       "        vertical-align: middle;\n",
       "    }\n",
       "\n",
       "    .dataframe tbody tr th {\n",
       "        vertical-align: top;\n",
       "    }\n",
       "\n",
       "    .dataframe thead th {\n",
       "        text-align: right;\n",
       "    }\n",
       "</style>\n",
       "<table border=\"1\" class=\"dataframe\">\n",
       "  <thead>\n",
       "    <tr style=\"text-align: right;\">\n",
       "      <th></th>\n",
       "      <th>id</th>\n",
       "      <th>level</th>\n",
       "      <th>taxonomic_span</th>\n",
       "      <th>taxonomic_span_id</th>\n",
       "      <th>description</th>\n",
       "      <th>parent</th>\n",
       "    </tr>\n",
       "  </thead>\n",
       "  <tbody>\n",
       "    <tr>\n",
       "      <th>2</th>\n",
       "      <td>cenH3_(Animals)</td>\n",
       "      <td>variant</td>\n",
       "      <td>Homo sapiens</td>\n",
       "      <td>9606</td>\n",
       "      <td>94</td>\n",
       "      <td>None</td>\n",
       "    </tr>\n",
       "    <tr>\n",
       "      <th>3</th>\n",
       "      <td>cenH3_(Fungi)</td>\n",
       "      <td>variant</td>\n",
       "      <td>Homo sapiens</td>\n",
       "      <td>9606</td>\n",
       "      <td>95</td>\n",
       "      <td>None</td>\n",
       "    </tr>\n",
       "    <tr>\n",
       "      <th>6</th>\n",
       "      <td>cenH3_(Plants)</td>\n",
       "      <td>variant</td>\n",
       "      <td>Eukaryotes</td>\n",
       "      <td>2759</td>\n",
       "      <td>96</td>\n",
       "      <td>None</td>\n",
       "    </tr>\n",
       "  </tbody>\n",
       "</table>\n",
       "</div>"
      ],
      "text/plain": [
       "                id    level taxonomic_span taxonomic_span_id  description  \\\n",
       "2  cenH3_(Animals)  variant   Homo sapiens              9606           94   \n",
       "3    cenH3_(Fungi)  variant   Homo sapiens              9606           95   \n",
       "6   cenH3_(Plants)  variant     Eukaryotes              2759           96   \n",
       "\n",
       "  parent  \n",
       "2   None  \n",
       "3   None  \n",
       "6   None  "
      ]
     },
     "execution_count": 60,
     "metadata": {},
     "output_type": "execute_result"
    }
   ],
   "source": [
    "query = (\n",
    "    \"SELECT * FROM histone \"\n",
    ")\n",
    "cursor.execute(query)\n",
    "df = pd.DataFrame(cursor.fetchall(), columns=[i[0] for i in cursor.description])\n",
    "df[df[\"id\"].isin(children)]"
   ]
  },
  {
   "cell_type": "code",
   "execution_count": 62,
   "id": "d5e71579-d055-4346-bb59-b85ae64a974d",
   "metadata": {
    "tags": []
   },
   "outputs": [
    {
     "name": "stdout",
     "output_type": "stream",
     "text": [
      "UPDATE histone SET parent='cenH3' WHERE id = 'cenH3_(Animals)'\n",
      "UPDATE histone SET parent='cenH3' WHERE id = 'cenH3_(Fungi)'\n",
      "UPDATE histone SET parent='cenH3' WHERE id = 'cenH3_(Plants)'\n"
     ]
    }
   ],
   "source": [
    "for ch in children:\n",
    "    query = f\"UPDATE histone SET parent='{new_name}' WHERE id = '{ch}'\" \n",
    "    print(query)\n",
    "    cursor.execute(query)"
   ]
  },
  {
   "cell_type": "code",
   "execution_count": 63,
   "id": "8848b4a1-254f-49f1-9f32-53510b44e9d6",
   "metadata": {
    "tags": []
   },
   "outputs": [
    {
     "data": {
      "text/html": [
       "<div>\n",
       "<style scoped>\n",
       "    .dataframe tbody tr th:only-of-type {\n",
       "        vertical-align: middle;\n",
       "    }\n",
       "\n",
       "    .dataframe tbody tr th {\n",
       "        vertical-align: top;\n",
       "    }\n",
       "\n",
       "    .dataframe thead th {\n",
       "        text-align: right;\n",
       "    }\n",
       "</style>\n",
       "<table border=\"1\" class=\"dataframe\">\n",
       "  <thead>\n",
       "    <tr style=\"text-align: right;\">\n",
       "      <th></th>\n",
       "      <th>id</th>\n",
       "      <th>level</th>\n",
       "      <th>taxonomic_span</th>\n",
       "      <th>taxonomic_span_id</th>\n",
       "      <th>description</th>\n",
       "      <th>parent</th>\n",
       "    </tr>\n",
       "  </thead>\n",
       "  <tbody>\n",
       "    <tr>\n",
       "      <th>0</th>\n",
       "      <td>cenH3_(Animals)</td>\n",
       "      <td>variant</td>\n",
       "      <td>Homo sapiens</td>\n",
       "      <td>9606</td>\n",
       "      <td>94</td>\n",
       "      <td>cenH3</td>\n",
       "    </tr>\n",
       "    <tr>\n",
       "      <th>1</th>\n",
       "      <td>cenH3_(Fungi)</td>\n",
       "      <td>variant</td>\n",
       "      <td>Homo sapiens</td>\n",
       "      <td>9606</td>\n",
       "      <td>95</td>\n",
       "      <td>cenH3</td>\n",
       "    </tr>\n",
       "    <tr>\n",
       "      <th>2</th>\n",
       "      <td>cenH3_(Plants)</td>\n",
       "      <td>variant</td>\n",
       "      <td>Eukaryotes</td>\n",
       "      <td>2759</td>\n",
       "      <td>96</td>\n",
       "      <td>cenH3</td>\n",
       "    </tr>\n",
       "  </tbody>\n",
       "</table>\n",
       "</div>"
      ],
      "text/plain": [
       "                id    level taxonomic_span taxonomic_span_id  description  \\\n",
       "0  cenH3_(Animals)  variant   Homo sapiens              9606           94   \n",
       "1    cenH3_(Fungi)  variant   Homo sapiens              9606           95   \n",
       "2   cenH3_(Plants)  variant     Eukaryotes              2759           96   \n",
       "\n",
       "  parent  \n",
       "0  cenH3  \n",
       "1  cenH3  \n",
       "2  cenH3  "
      ]
     },
     "execution_count": 63,
     "metadata": {},
     "output_type": "execute_result"
    }
   ],
   "source": [
    "query = (\n",
    "    \"SELECT * FROM histone \"\n",
    "    f\"WHERE parent='{new_name}'\"\n",
    ")\n",
    "cursor.execute(query)\n",
    "pd.DataFrame(cursor.fetchall(), columns=[i[0] for i in cursor.description])"
   ]
  },
  {
   "cell_type": "code",
   "execution_count": 64,
   "id": "3733e961-6f61-4b26-8346-c24926784b09",
   "metadata": {
    "tags": []
   },
   "outputs": [],
   "source": [
    "# Make sure data is committed to the database\n",
    "conn.commit()"
   ]
  },
  {
   "cell_type": "markdown",
   "id": "d3c8a219-f508-46e1-936f-7d6040016e39",
   "metadata": {
    "tags": []
   },
   "source": [
    "# Close connections"
   ]
  },
  {
   "cell_type": "code",
   "execution_count": 65,
   "id": "572059d8-54f9-4ec7-a2c6-1c8066552845",
   "metadata": {
    "tags": []
   },
   "outputs": [],
   "source": [
    "cursor.close()\n",
    "conn.close()\n",
    "tunnel.stop()"
   ]
  },
  {
   "cell_type": "code",
   "execution_count": null,
   "id": "790ee020-09af-4dcc-9c36-f1b3f69ea8a7",
   "metadata": {},
   "outputs": [],
   "source": []
  }
 ],
 "metadata": {
  "kernelspec": {
   "display_name": ".conda-histdb_env",
   "language": "python",
   "name": "conda-env-.conda-histdb_env-py"
  },
  "language_info": {
   "codemirror_mode": {
    "name": "ipython",
    "version": 3
   },
   "file_extension": ".py",
   "mimetype": "text/x-python",
   "name": "python",
   "nbconvert_exporter": "python",
   "pygments_lexer": "ipython3",
   "version": "3.8.1"
  }
 },
 "nbformat": 4,
 "nbformat_minor": 5
}
