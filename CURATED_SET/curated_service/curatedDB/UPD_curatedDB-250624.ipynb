{
 "cells": [
  {
   "cell_type": "code",
   "execution_count": 1,
   "id": "53d3ec55-7daf-4ade-8add-2830b709dc54",
   "metadata": {
    "tags": []
   },
   "outputs": [],
   "source": [
    "import io\n",
    "\n",
    "import pandas as pd\n",
    "from Bio import Entrez, SeqIO\n",
    "from mysql.connector import connection\n",
    "from sshtunnel import SSHTunnelForwarder\n",
    "\n",
    "# Укажите ваш email (обязательно для использования Entrez)\n",
    "Entrez.email = \"your.email@example.com\""
   ]
  },
  {
   "cell_type": "code",
   "execution_count": 2,
   "id": "608c4bfe-b979-4b60-b2b5-b94eeb679cb5",
   "metadata": {
    "tags": []
   },
   "outputs": [],
   "source": [
    "with open(\"db_curated_server_info.txt\", \"r\") as file:\n",
    "    lines = file.readlines()\n",
    "\n",
    "config = {}\n",
    "\n",
    "for line in lines:\n",
    "    line = line.strip()\n",
    "    if line and not line.startswith(\"#\"):\n",
    "        key, value = line.split(\"=\", 1)\n",
    "        config[key] = value.strip()\n",
    "\n",
    "server_name = config.get(\"server_name\")\n",
    "srever_port = int(config.get(\"srever_port\"))\n",
    "ssh_password = config.get(\"ssh_password\")\n",
    "ssh_username = config.get(\"ssh_username\")\n",
    "db_adress = config.get(\"db_adress\")\n",
    "db_port = int(config.get(\"db_port\"))"
   ]
  },
  {
   "cell_type": "code",
   "execution_count": 3,
   "id": "4e19aa1c-49a3-48c4-b67f-34c94cef608d",
   "metadata": {
    "tags": []
   },
   "outputs": [
    {
     "name": "stdout",
     "output_type": "stream",
     "text": [
      "46327\n"
     ]
    }
   ],
   "source": [
    "tunnel = SSHTunnelForwarder(\n",
    "    (server_name, srever_port),\n",
    "    ssh_password=ssh_password,\n",
    "    ssh_username=ssh_username,\n",
    "    remote_bind_address=(db_adress, db_port),\n",
    ")\n",
    "tunnel.start()\n",
    "print(tunnel.local_bind_port)"
   ]
  },
  {
   "cell_type": "code",
   "execution_count": 4,
   "id": "cef2275b-12d0-48f1-ad3c-ce4cdb9aa267",
   "metadata": {
    "tags": []
   },
   "outputs": [],
   "source": [
    "conn = connection.MySQLConnection(\n",
    "    user=\"db_user\",\n",
    "    password=\"db_password\",\n",
    "    host=\"localhost\",\n",
    "    port=tunnel.local_bind_port,\n",
    "    database=\"db_name\",\n",
    ")\n",
    "cursor = conn.cursor()"
   ]
  },
  {
   "cell_type": "code",
   "execution_count": 5,
   "id": "f589ea8d-8b83-4331-a1cf-b64ed7621801",
   "metadata": {
    "tags": []
   },
   "outputs": [
    {
     "data": {
      "text/plain": [
       "[('alternative_name',),\n",
       " ('histone',),\n",
       " ('histone_description',),\n",
       " ('histone_has_publication',),\n",
       " ('publication',),\n",
       " ('sequence',),\n",
       " ('sequence_has_publication',)]"
      ]
     },
     "execution_count": 5,
     "metadata": {},
     "output_type": "execute_result"
    }
   ],
   "source": [
    "query = \"SHOW TABLES;\"\n",
    "cursor.execute(query)\n",
    "cursor.fetchall()"
   ]
  },
  {
   "cell_type": "code",
   "execution_count": 6,
   "id": "b3dd9ef8-b162-4127-9535-ac7743af8c69",
   "metadata": {
    "jupyter": {
     "source_hidden": true
    },
    "tags": []
   },
   "outputs": [],
   "source": [
    "# add_histone = (\n",
    "#     \"INSERT INTO histone \"\n",
    "#     \"(id, level, taxonomic_span, taxonomic_span_id, description, parent) \"\n",
    "#     \"VALUES (%(id)s, %(level)s, %(taxonomic_span)s, %(taxonomic_span_id)s, %(description)s, %(parent)s)\"\n",
    "# )\n",
    "# add_histone_description = (\n",
    "#     \"INSERT INTO histone_description \"\n",
    "#     \"(summary, taxonomy, genes, evolution, expression, knock_out, function, sequence, localization, deposition, structure, interactions, disease, caveats) \"\n",
    "#     \"VALUES (%s, %s, %s, %s, %s, %s, %s, %s, %s, %s, %s, %s, %s, %s)\"\n",
    "# )\n",
    "add_publication = (\n",
    "    \"INSERT INTO publication \"\n",
    "    \"(id, title, doi, author, year) \"\n",
    "    \"VALUES (%(id)s, %(title)s, %(doi)s, %(author)s, %(year)s)\"\n",
    ")\n",
    "# add_sequence = (\n",
    "#     \"INSERT INTO sequence \"\n",
    "#     \"(accession, variant, gi, ncbi_gene_id, hgnc_gene_name, taxonomy_id, organism, phylum, class, taxonomy_group, info, sequence, variant_under_consideration) \"\n",
    "#     \"VALUES (%(accession)s, %(variant)s, %(gi)s, %(ncbi_gene_id)s, %(hgnc_gene_name)s, %(taxonomy_id)s, %(organism)s, %(phylum)s, %(class)s, %(taxonomy_group)s, %(info)s, %(sequence)s, %(variant_under_consideration)s)\"\n",
    "# )\n",
    "# add_sequence_has_publication = (\n",
    "#     \"INSERT INTO sequence_has_publication \"\n",
    "#     \"(sequence_accession, publication_id) \"\n",
    "#     \"VALUES (%s, %s)\"\n",
    "# )\n",
    "add_alternate_names = (\n",
    "    \"INSERT INTO alternative_name \"\n",
    "    \"(name, taxonomy, gene, splice, histone) \"\n",
    "    \"VALUES (%(name)s, %(taxonomy)s, %(gene)s, %(splice)s, %(histone)s)\"\n",
    ")\n",
    "add_histone_has_publication = (\n",
    "    \"INSERT INTO histone_has_publication \"\n",
    "    \"(histone_id, publication_id) \"\n",
    "    \"VALUES (%s, %s)\"\n",
    ")"
   ]
  },
  {
   "cell_type": "markdown",
   "id": "c060c047-3e7d-4095-b608-9722031af692",
   "metadata": {},
   "source": [
    "# To Do\n",
    "\n",
    "## <span style=\"color:green\">Add to structure description of cenH3_(Homo_sapiens):</span>\n",
    "\n",
    "    ```\n",
    "    CENP-A confers enhanced flexibility and elasticity to nucleosomes, influencing centromeric chromatin organization and ensuring accurate chromosome segregation during mitosis [fedulova_molecular_2024, pitman_minimal_2020, melters_intrinsic_2019]. Partial nucleosome unwrapping in CENP-A-containing nucleosomes is promoted by its shortened αN-helix [roulland_flexible_2016]. Cryo-EM analysis of human CENP-A nucleosomes revealed asymmetric DNA end flexibility, with the right DNA end being highly dynamic and partially detached from the histone core while the left end remained stably bound, a sequence-dependent behavior confirmed by molecular dynamics simulations [kono_free_2019, boopathi_phase-plate_2020]. Notably, this intrinsic asymmetry can be overcome by antibody stabilization. The single-chain antibody fragment PL2-6 symmetrically stabilizes both DNA ends through allosteric interactions, despite the inherent sequence-dependent asymmetry [zhou_atomic_2019, dogan_cenp-nucleosome_2021]. Molecular dynamics simulations revealed that CENP-A-containing tetramers exhibit enhanced stability but distinct dynamics compared to canonical octameric structures, explaining the unusual properties of CENP-A nucleosomes [zhao_oligomerization_2019].\n",
    "    ```\n",
    "    \n",
    "> **Комментарии:**\n",
    "> 1. **CENP-A придает нуклеосомам повышенную гибкость** – из-за укороченной αN-спирали концы ДНК легче раскручиваются, что важно для работы центромер `[roulland_flexible_2016]`. *Комментарий: исследование на клеточной линии **HeLa**, при этом в дискусси говорят о том, что скорее всего так и у других млекопитающих*  \n",
    "> 2. **Асимметрия ДНК-динамики** – на последовательности 601 один конец ДНК в CENP-A нуклеосоме чаще раскручен, а другой остается стабильным `[kono_free_2019, boopathi_phase-plate_2020]`. *Комментарий: в первом исследовании использовалась **человеческая** модель, во втором - реконструированные in vitro нуклеосомы **человека** с CENP-A и ДНК Widom 601*  \n",
    "> 3. **Антитела могут стабилизировать оба конца** – например, PL2-6 симметрично фиксирует ДНК, несмотря на исходную асимметрию, за счет аллостерических взаимодействий `[zhou_atomic_2019, dogan_cenp-nucleosome_2021]`. *Комментарий: первое исследование проводилось для **человеческого** CENP-A, второе - на **синтетической** модели (человек+лягушка)*  \n",
    "> 4. **CENP-A нуклеосомы более эластичны**, чем канонические (H3), а гетеротипические (CENP-A/H3) занимают промежуточное положение `[melters_intrinsic_2019, pitman_minimal_2020]`. *Комментарий: первое исследование проводилось на клеточной линии **HeLa** с использованием **крысиного CENP-С фрагмента**, во втором - исследовались **человеческие** онкогенные нуклеосомы*  \n",
    "> 5. **(CENP-A/H4)₂ тетрамер стабильнее (H3/H4)₂**, но его динамика отличается, что объясняет необычные свойства CENP-содержащих нуклеосом `[zhao_oligomerization_2019]`. *Комментарий: в исследовании использовалась **человеческая** модель*  \n"
   ]
  },
  {
   "cell_type": "markdown",
   "id": "f4f2f8a8-dd44-4a33-a556-3a421077a104",
   "metadata": {},
   "source": [
    "# <span style=\"color:green\">Написать полное описание cenH3</span>\n",
    "\n",
    "## Description\n",
    "\n",
    "**summary:** cenH3 is a centromere-specific histone variant, which replaces canonical H3 in centromeric nucleosomes. It is required for kinetochore formation, mitotic progression and chromosome segregation.\n",
    "\n",
    "**taxonomy:** cenH3 present in most eukaryotes. However, it has been lost in trypanosomes, the fungus Mucor, in four clades of holocentric insects and kinetoplastids [talbert_histone_2021, senaratne_formation_2021, sridhar_kinetochore_2022].\n",
    "\n",
    "**genes:** \n",
    "\n",
    "**evolution:** The co-occurrence of CenH3 loss and holocentricity in insects suggests that the evolutionary development of holocentromeres in this group may have been facilitated by the loss of a CenH3-defined centromere [senaratne_formation_2021]. It has been demonstrated that CenH3 has undergone adaptive evolution at a significantly higher frequency in clades with asymmetric meiosis compared to those with symmetric meiosis [zedek_cenh3_2016]. This finding is in accordance with the predictions of the centromere drive model. Furthermore, the occurrence of more frequent adaptive changes in CenH3 is necessary to offset the negative effects of centromere drive [zedek_cenh3_2016].\n",
    "\n",
    "**expression:** \n",
    "\n",
    "**knock_out:** \n",
    "\n",
    "**function:** Despite the high diversity of cenH3 proteins, they represent a key factor involved in centromere identity across a wide range of organisms. Moreover, it has been demonstrated that cenH3 from the monocot Zea mays is capable of substituting for cenH3 in A. thaliana [maheshwari_naturally_2015]. This example illustrates that the functions of the cenH3 histone are conserved across a broad evolutionary spectrum [maheshwari_naturally_2015].\n",
    "\n",
    "**sequence:** cenH3 has an extended L1-loop and its N-terminal tail is very different from other H3 variants. cenH3s have an extended L1-loop and usually replace Phe84 in canonical H3 with Trp, and Thr 107 with Ala, Cys, or Ser. cenH3s ususally lack a conserved glutamine in the alpha1 helix of the histone fold. cenH3s typically have only about 50-60% amino acid identity to canonical H3 in the histone fold domain and no conservation of the N-terminus.\n",
    "\n",
    "**localization:** \n",
    "\n",
    "**deposition:** Про шапероны\n",
    "\n",
    "**structure:** \n",
    "\n",
    "**interactions:** Про кинетохору (есть статья с моделями сборки кинетохоры в разных видах живых организмов)\n",
    "\n",
    "**disease:** CenH3 plays pro-viral and restriction role in tombusvirus replication in plants and in the yeast model host [gonzalez_centromeric_2022].\n",
    "\n",
    "**caveats:** Разобраться с тем, как связаны cenH3 с транскрипцией центромерной ДНК [[Diverse mechanisms of centromere specification](https://www.notion.so/Diverse-mechanisms-of-centromere-specification-ff20544bd29e46138b5c696198d7857e?pvs=21) ].\n",
    "\n",
    "1. Экспресия CENP-A происходит в раннюю G1 фазу. Вместе с тем, активно экспрессируется и шаперон HJURP, который встраивает CENP-A в нуклеосомы.\n",
    "2. HJURP важен не просто для вставки CENP-A в нуклеосому, но и для определения локализации центромеры. Это происходит благодаря взаимодействию между HJURP и плотным комплексом, который состоит из белков Mis18α, Mis18β и M18BP1. Можно сказать, что комплекс Mis18 првлекает к себе HJURP, который в свою очередь уже связан с тетрамером CENP-A:H4."
   ]
  },
  {
   "cell_type": "markdown",
   "id": "c24eff95-295c-4443-8331-8c56cbfb379a",
   "metadata": {},
   "source": [
    "# Add to structure description of cenH3_(Homo_sapiens):\n",
    "\n",
    "    ```\n",
    "    CENP-A confers enhanced flexibility and elasticity to nucleosomes, influencing centromeric chromatin organization and ensuring accurate chromosome segregation during mitosis [fedulova_molecular_2024, pitman_minimal_2020, melters_intrinsic_2019]. Partial nucleosome unwrapping in CENP-A-containing nucleosomes is promoted by its shortened αN-helix [roulland_flexible_2016]. Cryo-EM analysis of human CENP-A nucleosomes revealed asymmetric DNA end flexibility, with the right DNA end being highly dynamic and partially detached from the histone core while the left end remained stably bound, a sequence-dependent behavior confirmed by molecular dynamics simulations [kono_free_2019, boopathi_phase-plate_2020]. Notably, this intrinsic asymmetry can be overcome by antibody stabilization. The single-chain antibody fragment PL2-6 symmetrically stabilizes both DNA ends through allosteric interactions, despite the inherent sequence-dependent asymmetry [zhou_atomic_2019, dogan_cenp-nucleosome_2021]. Molecular dynamics simulations revealed that CENP-A-containing tetramers exhibit enhanced stability but distinct dynamics compared to canonical octameric structures, explaining the unusual properties of CENP-A nucleosomes [zhao_oligomerization_2019].\n",
    "    ```"
   ]
  },
  {
   "cell_type": "code",
   "execution_count": 6,
   "id": "166d9b0e-8f67-4d88-ace0-b0cc0684d04a",
   "metadata": {
    "tags": []
   },
   "outputs": [
    {
     "data": {
      "text/html": [
       "<div>\n",
       "<style scoped>\n",
       "    .dataframe tbody tr th:only-of-type {\n",
       "        vertical-align: middle;\n",
       "    }\n",
       "\n",
       "    .dataframe tbody tr th {\n",
       "        vertical-align: top;\n",
       "    }\n",
       "\n",
       "    .dataframe thead th {\n",
       "        text-align: right;\n",
       "    }\n",
       "</style>\n",
       "<table border=\"1\" class=\"dataframe\">\n",
       "  <thead>\n",
       "    <tr style=\"text-align: right;\">\n",
       "      <th></th>\n",
       "      <th>id</th>\n",
       "      <th>level</th>\n",
       "      <th>taxonomic_span</th>\n",
       "      <th>taxonomic_span_id</th>\n",
       "      <th>description</th>\n",
       "      <th>parent</th>\n",
       "      <th>id</th>\n",
       "      <th>summary</th>\n",
       "      <th>taxonomy</th>\n",
       "      <th>genes</th>\n",
       "      <th>...</th>\n",
       "      <th>knock_out</th>\n",
       "      <th>function</th>\n",
       "      <th>sequence</th>\n",
       "      <th>localization</th>\n",
       "      <th>deposition</th>\n",
       "      <th>structure</th>\n",
       "      <th>interactions</th>\n",
       "      <th>disease</th>\n",
       "      <th>caveats</th>\n",
       "      <th>relations</th>\n",
       "    </tr>\n",
       "  </thead>\n",
       "  <tbody>\n",
       "    <tr>\n",
       "      <th>0</th>\n",
       "      <td>cenH3_(Homo_sapiens)</td>\n",
       "      <td>variant</td>\n",
       "      <td>Homo sapiens</td>\n",
       "      <td>9606</td>\n",
       "      <td>158</td>\n",
       "      <td>cenH3_(Mammalia)</td>\n",
       "      <td>158</td>\n",
       "      <td>cenH3(Homo_sapiens) is a centromere-specific h...</td>\n",
       "      <td>null</td>\n",
       "      <td>null</td>\n",
       "      <td>...</td>\n",
       "      <td>CENP-A depletion at different stages of the ce...</td>\n",
       "      <td>CENP-A nucleosomes are essential for chromosom...</td>\n",
       "      <td>null</td>\n",
       "      <td>CENP-A in human chromosomes usually localized ...</td>\n",
       "      <td>Deposition of CENP-A into centromeric nucleoso...</td>\n",
       "      <td>null</td>\n",
       "      <td>CENP-A nucleosomes stabilize the inner kinetoc...</td>\n",
       "      <td>null</td>\n",
       "      <td>null</td>\n",
       "      <td>None</td>\n",
       "    </tr>\n",
       "  </tbody>\n",
       "</table>\n",
       "<p>1 rows × 22 columns</p>\n",
       "</div>"
      ],
      "text/plain": [
       "                     id    level taxonomic_span taxonomic_span_id  \\\n",
       "0  cenH3_(Homo_sapiens)  variant   Homo sapiens              9606   \n",
       "\n",
       "   description            parent   id  \\\n",
       "0          158  cenH3_(Mammalia)  158   \n",
       "\n",
       "                                             summary taxonomy genes  ...  \\\n",
       "0  cenH3(Homo_sapiens) is a centromere-specific h...     null  null  ...   \n",
       "\n",
       "                                           knock_out  \\\n",
       "0  CENP-A depletion at different stages of the ce...   \n",
       "\n",
       "                                            function sequence  \\\n",
       "0  CENP-A nucleosomes are essential for chromosom...     null   \n",
       "\n",
       "                                        localization  \\\n",
       "0  CENP-A in human chromosomes usually localized ...   \n",
       "\n",
       "                                          deposition structure  \\\n",
       "0  Deposition of CENP-A into centromeric nucleoso...      null   \n",
       "\n",
       "                                        interactions disease caveats relations  \n",
       "0  CENP-A nucleosomes stabilize the inner kinetoc...    null    null      None  \n",
       "\n",
       "[1 rows x 22 columns]"
      ]
     },
     "execution_count": 6,
     "metadata": {},
     "output_type": "execute_result"
    }
   ],
   "source": [
    "query = (\n",
    "    \"SELECT * FROM histone h LEFT JOIN histone_description hd \"\n",
    "    \"ON h.description = hd.id \"\n",
    "    \"WHERE h.id='cenH3_(Homo_sapiens)'\"\n",
    ")\n",
    "cursor.execute(query)\n",
    "pd.DataFrame(cursor.fetchall(), columns=[i[0] for i in cursor.description])"
   ]
  },
  {
   "cell_type": "code",
   "execution_count": 9,
   "id": "044e8904-fd56-41cf-a07a-156c8907deef",
   "metadata": {
    "tags": []
   },
   "outputs": [
    {
     "name": "stdout",
     "output_type": "stream",
     "text": [
      "UPDATE histone_description SET structure='CENP-A confers enhanced flexibility and elasticity to nucleosomes, influencing centromeric chromatin organization and ensuring accurate chromosome segregation during mitosis [fedulova_molecular_2024, pitman_minimal_2020, melters_intrinsic_2019]. Partial nucleosome unwrapping in CENP-A-containing nucleosomes is promoted by its shortened αN-helix [roulland_flexible_2016]. Cryo-EM analysis of human CENP-A nucleosomes revealed asymmetric DNA end flexibility, with the right DNA end being highly dynamic and partially detached from the histone core while the left end remained stably bound, a sequence-dependent behavior confirmed by molecular dynamics simulations [kono_free_2019, boopathi_phase-plate_2020]. Notably, this intrinsic asymmetry can be overcome by antibody stabilization. The single-chain antibody fragment PL2-6 symmetrically stabilizes both DNA ends through allosteric interactions, despite the inherent sequence-dependent asymmetry [zhou_atomic_2019, dogan_cenp-nucleosome_2021]. Molecular dynamics simulations revealed that CENP-A-containing tetramers exhibit enhanced stability but distinct dynamics compared to canonical octameric structures, explaining the unusual properties of CENP-A nucleosomes [zhao_oligomerization_2019].' WHERE id=158\n"
     ]
    }
   ],
   "source": [
    "structure_desc = \"CENP-A confers enhanced flexibility and elasticity to nucleosomes, influencing centromeric chromatin organization and ensuring accurate chromosome segregation during mitosis [fedulova_molecular_2024, pitman_minimal_2020, melters_intrinsic_2019]. Partial nucleosome unwrapping in CENP-A-containing nucleosomes is promoted by its shortened αN-helix [roulland_flexible_2016]. Cryo-EM analysis of human CENP-A nucleosomes revealed asymmetric DNA end flexibility, with the right DNA end being highly dynamic and partially detached from the histone core while the left end remained stably bound, a sequence-dependent behavior confirmed by molecular dynamics simulations [kono_free_2019, boopathi_phase-plate_2020]. Notably, this intrinsic asymmetry can be overcome by antibody stabilization. The single-chain antibody fragment PL2-6 symmetrically stabilizes both DNA ends through allosteric interactions, despite the inherent sequence-dependent asymmetry [zhou_atomic_2019, dogan_cenp-nucleosome_2021]. Molecular dynamics simulations revealed that CENP-A-containing tetramers exhibit enhanced stability but distinct dynamics compared to canonical octameric structures, explaining the unusual properties of CENP-A nucleosomes [zhao_oligomerization_2019].\"\n",
    "query = f\"UPDATE histone_description SET structure='{structure_desc}' WHERE id=158\"\n",
    "print(query)\n",
    "cursor.execute(query)"
   ]
  },
  {
   "cell_type": "code",
   "execution_count": 10,
   "id": "6d856598-8dfa-4ae5-9d1f-41c6074bbcd8",
   "metadata": {
    "tags": []
   },
   "outputs": [
    {
     "data": {
      "text/html": [
       "<div>\n",
       "<style scoped>\n",
       "    .dataframe tbody tr th:only-of-type {\n",
       "        vertical-align: middle;\n",
       "    }\n",
       "\n",
       "    .dataframe tbody tr th {\n",
       "        vertical-align: top;\n",
       "    }\n",
       "\n",
       "    .dataframe thead th {\n",
       "        text-align: right;\n",
       "    }\n",
       "</style>\n",
       "<table border=\"1\" class=\"dataframe\">\n",
       "  <thead>\n",
       "    <tr style=\"text-align: right;\">\n",
       "      <th></th>\n",
       "      <th>id</th>\n",
       "      <th>level</th>\n",
       "      <th>taxonomic_span</th>\n",
       "      <th>taxonomic_span_id</th>\n",
       "      <th>description</th>\n",
       "      <th>parent</th>\n",
       "      <th>id</th>\n",
       "      <th>summary</th>\n",
       "      <th>taxonomy</th>\n",
       "      <th>genes</th>\n",
       "      <th>...</th>\n",
       "      <th>knock_out</th>\n",
       "      <th>function</th>\n",
       "      <th>sequence</th>\n",
       "      <th>localization</th>\n",
       "      <th>deposition</th>\n",
       "      <th>structure</th>\n",
       "      <th>interactions</th>\n",
       "      <th>disease</th>\n",
       "      <th>caveats</th>\n",
       "      <th>relations</th>\n",
       "    </tr>\n",
       "  </thead>\n",
       "  <tbody>\n",
       "    <tr>\n",
       "      <th>0</th>\n",
       "      <td>cenH3_(Homo_sapiens)</td>\n",
       "      <td>variant</td>\n",
       "      <td>Homo sapiens</td>\n",
       "      <td>9606</td>\n",
       "      <td>158</td>\n",
       "      <td>cenH3_(Mammalia)</td>\n",
       "      <td>158</td>\n",
       "      <td>cenH3(Homo_sapiens) is a centromere-specific h...</td>\n",
       "      <td>null</td>\n",
       "      <td>null</td>\n",
       "      <td>...</td>\n",
       "      <td>CENP-A depletion at different stages of the ce...</td>\n",
       "      <td>CENP-A nucleosomes are essential for chromosom...</td>\n",
       "      <td>null</td>\n",
       "      <td>CENP-A in human chromosomes usually localized ...</td>\n",
       "      <td>Deposition of CENP-A into centromeric nucleoso...</td>\n",
       "      <td>CENP-A confers enhanced flexibility and elasti...</td>\n",
       "      <td>CENP-A nucleosomes stabilize the inner kinetoc...</td>\n",
       "      <td>null</td>\n",
       "      <td>null</td>\n",
       "      <td>None</td>\n",
       "    </tr>\n",
       "  </tbody>\n",
       "</table>\n",
       "<p>1 rows × 22 columns</p>\n",
       "</div>"
      ],
      "text/plain": [
       "                     id    level taxonomic_span taxonomic_span_id  \\\n",
       "0  cenH3_(Homo_sapiens)  variant   Homo sapiens              9606   \n",
       "\n",
       "   description            parent   id  \\\n",
       "0          158  cenH3_(Mammalia)  158   \n",
       "\n",
       "                                             summary taxonomy genes  ...  \\\n",
       "0  cenH3(Homo_sapiens) is a centromere-specific h...     null  null  ...   \n",
       "\n",
       "                                           knock_out  \\\n",
       "0  CENP-A depletion at different stages of the ce...   \n",
       "\n",
       "                                            function sequence  \\\n",
       "0  CENP-A nucleosomes are essential for chromosom...     null   \n",
       "\n",
       "                                        localization  \\\n",
       "0  CENP-A in human chromosomes usually localized ...   \n",
       "\n",
       "                                          deposition  \\\n",
       "0  Deposition of CENP-A into centromeric nucleoso...   \n",
       "\n",
       "                                           structure  \\\n",
       "0  CENP-A confers enhanced flexibility and elasti...   \n",
       "\n",
       "                                        interactions disease caveats relations  \n",
       "0  CENP-A nucleosomes stabilize the inner kinetoc...    null    null      None  \n",
       "\n",
       "[1 rows x 22 columns]"
      ]
     },
     "execution_count": 10,
     "metadata": {},
     "output_type": "execute_result"
    }
   ],
   "source": [
    "query = (\n",
    "    \"SELECT * FROM histone h LEFT JOIN histone_description hd \"\n",
    "    \"ON h.description = hd.id \"\n",
    "    \"WHERE h.id='cenH3_(Homo_sapiens)'\"\n",
    ")\n",
    "cursor.execute(query)\n",
    "pd.DataFrame(cursor.fetchall(), columns=[i[0] for i in cursor.description])"
   ]
  },
  {
   "cell_type": "code",
   "execution_count": 12,
   "id": "44afbe41-bba0-4956-be03-464c60d7aeee",
   "metadata": {
    "tags": []
   },
   "outputs": [],
   "source": [
    "# Make sure data is committed to the database\n",
    "conn.commit()"
   ]
  },
  {
   "cell_type": "markdown",
   "id": "a68a9090-516a-4e8c-8b10-b70846b50366",
   "metadata": {},
   "source": [
    "# Написать полное описание cenH3\n",
    "\n",
    "**summary:** cenH3 is a centromere-specific histone variant, which replaces canonical H3 in centromeric nucleosomes. It is required for kinetochore formation, mitotic progression and chromosome segregation.\n",
    "\n",
    "**taxonomy:** cenH3 present in most eukaryotes. However, it has been lost in trypanosomes, the fungus Mucor, in four clades of holocentric insects and kinetoplastids [talbert_histone_2021, senaratne_formation_2021, sridhar_kinetochore_2022]. \n",
    "\n",
    "**evolution:** The co-occurrence of CenH3 loss and holocentricity in insects suggests that the evolutionary development of holocentromeres in this group may have been facilitated by the loss of a CenH3-defined centromere [senaratne_formation_2021]. It has been demonstrated that CenH3 has undergone adaptive evolution at a significantly higher frequency in clades with asymmetric meiosis compared to those with symmetric meiosis [zedek_cenh3_2016]. This finding is in accordance with the predictions of the centromere drive model. Furthermore, the occurrence of more frequent adaptive changes in CenH3 is necessary to offset the negative effects of centromere drive [zedek_cenh3_2016].\n",
    "\n",
    "**function:** Despite the high diversity of cenH3 proteins, they represent a key factor involved in centromere identity across a wide range of organisms. Moreover, it has been demonstrated that cenH3 from the monocot Zea mays is capable of substituting for cenH3 in A. thaliana [maheshwari_naturally_2015]. This example illustrates that the functions of the cenH3 histone are conserved across a broad evolutionary spectrum [maheshwari_naturally_2015].\n",
    "\n",
    "**sequence:** cenH3 has an extended L1-loop and its N-terminal tail is very different from other H3 variants. cenH3s have an extended L1-loop and usually replace Phe84 in canonical H3 with Trp, and Thr 107 with Ala, Cys, or Ser. cenH3s ususally lack a conserved glutamine in the alpha1 helix of the histone fold. cenH3s typically have only about 50-60% amino acid identity to canonical H3 in the histone fold domain and no conservation of the N-terminus.\n",
    "\n",
    "**disease:** CenH3 plays pro-viral and restriction role in tombusvirus replication in plants and in the yeast model host [gonzalez_centromeric_2022].\n"
   ]
  },
  {
   "cell_type": "code",
   "execution_count": 13,
   "id": "3a265e79-46a0-4262-be9f-d02d1ce16734",
   "metadata": {
    "tags": []
   },
   "outputs": [
    {
     "data": {
      "text/html": [
       "<div>\n",
       "<style scoped>\n",
       "    .dataframe tbody tr th:only-of-type {\n",
       "        vertical-align: middle;\n",
       "    }\n",
       "\n",
       "    .dataframe tbody tr th {\n",
       "        vertical-align: top;\n",
       "    }\n",
       "\n",
       "    .dataframe thead th {\n",
       "        text-align: right;\n",
       "    }\n",
       "</style>\n",
       "<table border=\"1\" class=\"dataframe\">\n",
       "  <thead>\n",
       "    <tr style=\"text-align: right;\">\n",
       "      <th></th>\n",
       "      <th>id</th>\n",
       "      <th>level</th>\n",
       "      <th>taxonomic_span</th>\n",
       "      <th>taxonomic_span_id</th>\n",
       "      <th>description</th>\n",
       "      <th>parent</th>\n",
       "      <th>id</th>\n",
       "      <th>summary</th>\n",
       "      <th>taxonomy</th>\n",
       "      <th>genes</th>\n",
       "      <th>...</th>\n",
       "      <th>knock_out</th>\n",
       "      <th>function</th>\n",
       "      <th>sequence</th>\n",
       "      <th>localization</th>\n",
       "      <th>deposition</th>\n",
       "      <th>structure</th>\n",
       "      <th>interactions</th>\n",
       "      <th>disease</th>\n",
       "      <th>caveats</th>\n",
       "      <th>relations</th>\n",
       "    </tr>\n",
       "  </thead>\n",
       "  <tbody>\n",
       "    <tr>\n",
       "      <th>0</th>\n",
       "      <td>cenH3</td>\n",
       "      <td>variant_group</td>\n",
       "      <td>null</td>\n",
       "      <td>null</td>\n",
       "      <td>96</td>\n",
       "      <td>H3</td>\n",
       "      <td>96</td>\n",
       "      <td>cenH3 is a centromere-specific histone variant...</td>\n",
       "      <td>null</td>\n",
       "      <td>null</td>\n",
       "      <td>...</td>\n",
       "      <td>null</td>\n",
       "      <td>null</td>\n",
       "      <td>null</td>\n",
       "      <td>null</td>\n",
       "      <td>null</td>\n",
       "      <td>null</td>\n",
       "      <td>null</td>\n",
       "      <td>null</td>\n",
       "      <td>null</td>\n",
       "      <td>None</td>\n",
       "    </tr>\n",
       "  </tbody>\n",
       "</table>\n",
       "<p>1 rows × 22 columns</p>\n",
       "</div>"
      ],
      "text/plain": [
       "      id          level taxonomic_span taxonomic_span_id  description parent  \\\n",
       "0  cenH3  variant_group           null              null           96     H3   \n",
       "\n",
       "   id                                            summary taxonomy genes  ...  \\\n",
       "0  96  cenH3 is a centromere-specific histone variant...     null  null  ...   \n",
       "\n",
       "  knock_out function sequence localization deposition structure interactions  \\\n",
       "0      null     null     null         null       null      null         null   \n",
       "\n",
       "  disease caveats relations  \n",
       "0    null    null      None  \n",
       "\n",
       "[1 rows x 22 columns]"
      ]
     },
     "execution_count": 13,
     "metadata": {},
     "output_type": "execute_result"
    }
   ],
   "source": [
    "query = (\n",
    "    \"SELECT * FROM histone h LEFT JOIN histone_description hd \"\n",
    "    \"ON h.description = hd.id \"\n",
    "    \"WHERE h.id='cenH3'\"\n",
    ")\n",
    "cursor.execute(query)\n",
    "pd.DataFrame(cursor.fetchall(), columns=[i[0] for i in cursor.description])"
   ]
  },
  {
   "cell_type": "code",
   "execution_count": 15,
   "id": "c2a24da8-f08d-400b-947f-0ac1646ba9f1",
   "metadata": {
    "tags": []
   },
   "outputs": [
    {
     "name": "stdout",
     "output_type": "stream",
     "text": [
      "UPDATE histone_description SET summary='cenH3 is a centromere-specific histone variant, which replaces canonical H3 in centromeric nucleosomes. It is required for kinetochore formation, mitotic progression and chromosome segregation.', taxonomy='cenH3 present in most eukaryotes. However, it has been lost in trypanosomes, the fungus Mucor, in four clades of holocentric insects and kinetoplastids [talbert_histone_2021, senaratne_formation_2021, sridhar_kinetochore_2022].', evolution='The co-occurrence of CenH3 loss and holocentricity in insects suggests that the evolutionary development of holocentromeres in this group may have been facilitated by the loss of a CenH3-defined centromere [senaratne_formation_2021]. It has been demonstrated that CenH3 has undergone adaptive evolution at a significantly higher frequency in clades with asymmetric meiosis compared to those with symmetric meiosis [zedek_cenh3_2016]. This finding is in accordance with the predictions of the centromere drive model. Furthermore, the occurrence of more frequent adaptive changes in CenH3 is necessary to offset the negative effects of centromere drive [zedek_cenh3_2016].', function='Despite the high diversity of cenH3 proteins, they represent a key factor involved in centromere identity across a wide range of organisms. Moreover, it has been demonstrated that cenH3 from the monocot Zea mays is capable of substituting for cenH3 in A. thaliana [maheshwari_naturally_2015]. This example illustrates that the functions of the cenH3 histone are conserved across a broad evolutionary spectrum [maheshwari_naturally_2015].', sequence='cenH3 has an extended L1-loop and its N-terminal tail is very different from other H3 variants. cenH3s have an extended L1-loop and usually replace Phe84 in canonical H3 with Trp, and Thr 107 with Ala, Cys, or Ser. cenH3s ususally lack a conserved glutamine in the alpha1 helix of the histone fold. cenH3s typically have only about 50-60% amino acid identity to canonical H3 in the histone fold domain and no conservation of the N-terminus.', disease='CenH3 plays pro-viral and restriction role in tombusvirus replication in plants and in the yeast model host [gonzalez_centromeric_2022].' WHERE id=96\n"
     ]
    }
   ],
   "source": [
    "summary_desc = \"cenH3 is a centromere-specific histone variant, which replaces canonical H3 in centromeric nucleosomes. It is required for kinetochore formation, mitotic progression and chromosome segregation.\"\n",
    "taxonomy_desc = \"cenH3 present in most eukaryotes. However, it has been lost in trypanosomes, the fungus Mucor, in four clades of holocentric insects and kinetoplastids [talbert_histone_2021, senaratne_formation_2021, sridhar_kinetochore_2022].\"\n",
    "evolution_desc = \"The co-occurrence of CenH3 loss and holocentricity in insects suggests that the evolutionary development of holocentromeres in this group may have been facilitated by the loss of a CenH3-defined centromere [senaratne_formation_2021]. It has been demonstrated that CenH3 has undergone adaptive evolution at a significantly higher frequency in clades with asymmetric meiosis compared to those with symmetric meiosis [zedek_cenh3_2016]. This finding is in accordance with the predictions of the centromere drive model. Furthermore, the occurrence of more frequent adaptive changes in CenH3 is necessary to offset the negative effects of centromere drive [zedek_cenh3_2016].\"\n",
    "function_desc = \"Despite the high diversity of cenH3 proteins, they represent a key factor involved in centromere identity across a wide range of organisms. Moreover, it has been demonstrated that cenH3 from the monocot Zea mays is capable of substituting for cenH3 in A. thaliana [maheshwari_naturally_2015]. This example illustrates that the functions of the cenH3 histone are conserved across a broad evolutionary spectrum [maheshwari_naturally_2015].\"\n",
    "sequence_desc = \"cenH3 has an extended L1-loop and its N-terminal tail is very different from other H3 variants. cenH3s have an extended L1-loop and usually replace Phe84 in canonical H3 with Trp, and Thr 107 with Ala, Cys, or Ser. cenH3s ususally lack a conserved glutamine in the alpha1 helix of the histone fold. cenH3s typically have only about 50-60% amino acid identity to canonical H3 in the histone fold domain and no conservation of the N-terminus.\"\n",
    "disease_desc = \"CenH3 plays pro-viral and restriction role in tombusvirus replication in plants and in the yeast model host [gonzalez_centromeric_2022].\"\n",
    "query = f\"UPDATE histone_description SET summary='{summary_desc}', taxonomy='{taxonomy_desc}', evolution='{evolution_desc}', function='{function_desc}', sequence='{sequence_desc}', disease='{disease_desc}' WHERE id=96\"\n",
    "print(query)\n",
    "cursor.execute(query)"
   ]
  },
  {
   "cell_type": "code",
   "execution_count": 16,
   "id": "5355cf76-e1d6-4dc4-88d8-d2983ddaded8",
   "metadata": {
    "tags": []
   },
   "outputs": [
    {
     "data": {
      "text/html": [
       "<div>\n",
       "<style scoped>\n",
       "    .dataframe tbody tr th:only-of-type {\n",
       "        vertical-align: middle;\n",
       "    }\n",
       "\n",
       "    .dataframe tbody tr th {\n",
       "        vertical-align: top;\n",
       "    }\n",
       "\n",
       "    .dataframe thead th {\n",
       "        text-align: right;\n",
       "    }\n",
       "</style>\n",
       "<table border=\"1\" class=\"dataframe\">\n",
       "  <thead>\n",
       "    <tr style=\"text-align: right;\">\n",
       "      <th></th>\n",
       "      <th>id</th>\n",
       "      <th>level</th>\n",
       "      <th>taxonomic_span</th>\n",
       "      <th>taxonomic_span_id</th>\n",
       "      <th>description</th>\n",
       "      <th>parent</th>\n",
       "      <th>id</th>\n",
       "      <th>summary</th>\n",
       "      <th>taxonomy</th>\n",
       "      <th>genes</th>\n",
       "      <th>...</th>\n",
       "      <th>knock_out</th>\n",
       "      <th>function</th>\n",
       "      <th>sequence</th>\n",
       "      <th>localization</th>\n",
       "      <th>deposition</th>\n",
       "      <th>structure</th>\n",
       "      <th>interactions</th>\n",
       "      <th>disease</th>\n",
       "      <th>caveats</th>\n",
       "      <th>relations</th>\n",
       "    </tr>\n",
       "  </thead>\n",
       "  <tbody>\n",
       "    <tr>\n",
       "      <th>0</th>\n",
       "      <td>cenH3</td>\n",
       "      <td>variant_group</td>\n",
       "      <td>null</td>\n",
       "      <td>null</td>\n",
       "      <td>96</td>\n",
       "      <td>H3</td>\n",
       "      <td>96</td>\n",
       "      <td>cenH3 is a centromere-specific histone variant...</td>\n",
       "      <td>cenH3 present in most eukaryotes. However, it ...</td>\n",
       "      <td>null</td>\n",
       "      <td>...</td>\n",
       "      <td>null</td>\n",
       "      <td>Despite the high diversity of cenH3 proteins, ...</td>\n",
       "      <td>cenH3 has an extended L1-loop and its N-termin...</td>\n",
       "      <td>null</td>\n",
       "      <td>null</td>\n",
       "      <td>null</td>\n",
       "      <td>null</td>\n",
       "      <td>CenH3 plays pro-viral and restriction role in ...</td>\n",
       "      <td>null</td>\n",
       "      <td>None</td>\n",
       "    </tr>\n",
       "  </tbody>\n",
       "</table>\n",
       "<p>1 rows × 22 columns</p>\n",
       "</div>"
      ],
      "text/plain": [
       "      id          level taxonomic_span taxonomic_span_id  description parent  \\\n",
       "0  cenH3  variant_group           null              null           96     H3   \n",
       "\n",
       "   id                                            summary  \\\n",
       "0  96  cenH3 is a centromere-specific histone variant...   \n",
       "\n",
       "                                            taxonomy genes  ... knock_out  \\\n",
       "0  cenH3 present in most eukaryotes. However, it ...  null  ...      null   \n",
       "\n",
       "                                            function  \\\n",
       "0  Despite the high diversity of cenH3 proteins, ...   \n",
       "\n",
       "                                            sequence localization deposition  \\\n",
       "0  cenH3 has an extended L1-loop and its N-termin...         null       null   \n",
       "\n",
       "  structure interactions                                            disease  \\\n",
       "0      null         null  CenH3 plays pro-viral and restriction role in ...   \n",
       "\n",
       "  caveats relations  \n",
       "0    null      None  \n",
       "\n",
       "[1 rows x 22 columns]"
      ]
     },
     "execution_count": 16,
     "metadata": {},
     "output_type": "execute_result"
    }
   ],
   "source": [
    "query = (\n",
    "    \"SELECT * FROM histone h LEFT JOIN histone_description hd \"\n",
    "    \"ON h.description = hd.id \"\n",
    "    \"WHERE h.id='cenH3'\"\n",
    ")\n",
    "cursor.execute(query)\n",
    "pd.DataFrame(cursor.fetchall(), columns=[i[0] for i in cursor.description])"
   ]
  },
  {
   "cell_type": "code",
   "execution_count": 17,
   "id": "63cffdf5-eb00-4c0d-8ac4-7b0de11e4996",
   "metadata": {
    "tags": []
   },
   "outputs": [],
   "source": [
    "# Make sure data is committed to the database\n",
    "conn.commit()"
   ]
  },
  {
   "cell_type": "markdown",
   "id": "9e8bad07-ef74-40fd-a93b-e7897df0c591",
   "metadata": {
    "tags": []
   },
   "source": [
    "# Close connections"
   ]
  },
  {
   "cell_type": "code",
   "execution_count": 18,
   "id": "e5673501-5845-491a-bbb9-f5d213721d58",
   "metadata": {
    "tags": []
   },
   "outputs": [],
   "source": [
    "cursor.close()\n",
    "conn.close()\n",
    "tunnel.stop()"
   ]
  },
  {
   "cell_type": "code",
   "execution_count": null,
   "id": "fc9ef81c-d38d-4669-a1d7-f2a7b704a9a2",
   "metadata": {},
   "outputs": [],
   "source": []
  }
 ],
 "metadata": {
  "kernelspec": {
   "display_name": ".conda-histdb_env",
   "language": "python",
   "name": "conda-env-.conda-histdb_env-py"
  },
  "language_info": {
   "codemirror_mode": {
    "name": "ipython",
    "version": 3
   },
   "file_extension": ".py",
   "mimetype": "text/x-python",
   "name": "python",
   "nbconvert_exporter": "python",
   "pygments_lexer": "ipython3",
   "version": "3.8.1"
  }
 },
 "nbformat": 4,
 "nbformat_minor": 5
}
