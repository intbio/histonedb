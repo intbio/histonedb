{
 "cells": [
  {
   "cell_type": "code",
   "execution_count": 1,
   "id": "fb32231a-293e-45b8-af7d-d996c91a4edd",
   "metadata": {
    "tags": []
   },
   "outputs": [],
   "source": [
    "import pandas as pd\n",
    "from Bio import Entrez\n",
    "from mysql.connector import connection\n",
    "from sshtunnel import SSHTunnelForwarder\n",
    "\n",
    "Entrez.email = \"l.singh@intbio.org\"\n",
    "\n",
    "import re\n",
    "\n",
    "from Bio import SeqIO"
   ]
  },
  {
   "cell_type": "code",
   "execution_count": 2,
   "id": "d5fa78a7-4901-4e63-9d91-d9ed584d2f62",
   "metadata": {
    "tags": []
   },
   "outputs": [],
   "source": [
    "with open(\"db_curated_server_info.txt\", \"r\") as file:\n",
    "    lines = file.readlines()\n",
    "\n",
    "config = {}\n",
    "\n",
    "for line in lines:\n",
    "    line = line.strip()\n",
    "    if line and not line.startswith(\"#\"):\n",
    "        key, value = line.split(\"=\", 1)\n",
    "        config[key] = value.strip()\n",
    "\n",
    "server_name = config.get(\"server_name\")\n",
    "srever_port = int(config.get(\"srever_port\"))\n",
    "ssh_password = config.get(\"ssh_password\")\n",
    "ssh_username = config.get(\"ssh_username\")\n",
    "db_adress = config.get(\"db_adress\")\n",
    "db_port = int(config.get(\"db_port\"))"
   ]
  },
  {
   "cell_type": "code",
   "execution_count": 3,
   "id": "ebe3d2e8-9736-4fd9-b3f1-5ec2d255567d",
   "metadata": {
    "tags": []
   },
   "outputs": [
    {
     "name": "stdout",
     "output_type": "stream",
     "text": [
      "37745\n"
     ]
    }
   ],
   "source": [
    "tunnel = SSHTunnelForwarder(\n",
    "    (server_name, srever_port),\n",
    "    ssh_password=ssh_password,\n",
    "    ssh_username=ssh_username,\n",
    "    remote_bind_address=(db_adress, db_port),\n",
    ")\n",
    "tunnel.start()\n",
    "print(tunnel.local_bind_port)"
   ]
  },
  {
   "cell_type": "code",
   "execution_count": 4,
   "id": "0de93630-7502-40f3-ad24-42edf7a11eef",
   "metadata": {
    "tags": []
   },
   "outputs": [],
   "source": [
    "conn = connection.MySQLConnection(\n",
    "    user=\"db_user\",\n",
    "    password=\"db_password\",\n",
    "    host=\"localhost\",\n",
    "    port=tunnel.local_bind_port,\n",
    "    database=\"db_name\",\n",
    ")\n",
    "cursor = conn.cursor()"
   ]
  },
  {
   "cell_type": "code",
   "execution_count": 5,
   "id": "b4767ba0-4ea1-43ae-953f-f2575d9b7a69",
   "metadata": {
    "tags": []
   },
   "outputs": [
    {
     "data": {
      "text/plain": [
       "[('alternative_name',),\n",
       " ('histone',),\n",
       " ('histone_description',),\n",
       " ('histone_has_publication',),\n",
       " ('publication',),\n",
       " ('sequence',),\n",
       " ('sequence_has_publication',)]"
      ]
     },
     "execution_count": 5,
     "metadata": {},
     "output_type": "execute_result"
    }
   ],
   "source": [
    "query = \"SHOW TABLES;\"\n",
    "cursor.execute(query)\n",
    "cursor.fetchall()"
   ]
  },
  {
   "cell_type": "code",
   "execution_count": 6,
   "id": "4daefbcb-7dc2-4727-89c3-06d751dd1257",
   "metadata": {
    "tags": []
   },
   "outputs": [
    {
     "data": {
      "text/plain": [
       "'accession, variant, gi, ncbi_gene_id, hgnc_gene_name, taxonomy_id, organism, phylum, class, taxonomy_group, info, sequence, variant_under_consideration'"
      ]
     },
     "execution_count": 6,
     "metadata": {},
     "output_type": "execute_result"
    }
   ],
   "source": [
    "query = \"SELECT * FROM sequence\"\n",
    "cursor.execute(query)\n",
    "cursor.fetchall()\n",
    "\", \".join([i[0] for i in cursor.description])"
   ]
  },
  {
   "cell_type": "code",
   "execution_count": 21,
   "id": "c68d4b8f-c22c-4f8e-bb4f-71f95668656e",
   "metadata": {
    "tags": []
   },
   "outputs": [],
   "source": [
    "add_publication = (\n",
    "    \"INSERT INTO publication \"\n",
    "    \"(id, title, doi, author, year) \"\n",
    "    \"VALUES (%(id)s, %(title)s, %(doi)s, %(author)s, %(year)s)\"\n",
    ")\n",
    "add_sequence_has_publication = (\n",
    "    \"INSERT INTO sequence_has_publication \"\n",
    "    \"(sequence_accession, publication_id) \"\n",
    "    \"VALUES (%s, %s)\"\n",
    ")\n",
    "add_sequence = (\n",
    "    \"INSERT INTO sequence \"\n",
    "    \"(accession, variant, gi, ncbi_gene_id, hgnc_gene_name, taxonomy_id, organism, phylum, class, taxonomy_group, info, sequence, variant_under_consideration) \"\n",
    "    \"VALUES (%(accession)s, %(variant)s, %(gi)s, %(ncbi_gene_id)s, %(hgnc_gene_name)s, %(taxonomy_id)s, %(organism)s, %(phylum)s, %(class)s, %(taxonomy_group)s, %(info)s, %(sequence)s, %(variant_under_consideration)s)\"\n",
    ")"
   ]
  },
  {
   "cell_type": "code",
   "execution_count": 8,
   "id": "a08e6ecd-8100-4900-97a8-2b9bd4e8d4e4",
   "metadata": {
    "tags": []
   },
   "outputs": [],
   "source": [
    "def get_taxonomy_data(record):\n",
    "    taxonomy_data = {}\n",
    "    taxonomy_data[\"organism\"] = record.annotations[\"organism\"]\n",
    "    try:\n",
    "        for a in record.features[0].qualifiers[\"db_xref\"]:\n",
    "            text = re.search(\"(\\S+):(\\S+)\", a).group(1)\n",
    "            taxid = re.search(\"(\\S+):(\\S+)\", a).group(2)\n",
    "            if text == \"taxon\":\n",
    "                print(\"Fetched taxid from NCBI {}\".format(id))\n",
    "                taxonomy_data[\"taxonomy_id\"] = int(taxid)\n",
    "            else:\n",
    "                continue\n",
    "    except:\n",
    "        print(\"!!!!!!Unable to get TAXID for \\n {} setting it to 1\".format(s))\n",
    "        taxids.append(1)  # unable to identify\n",
    "\n",
    "    lineage = dict()\n",
    "    for i in range(10):\n",
    "        try:\n",
    "            handle = Entrez.efetch(\n",
    "                id=taxonomy_data[\"taxonomy_id\"], db=\"taxonomy\", retmode=\"xml\"\n",
    "            )\n",
    "            tax_data = Entrez.read(handle)\n",
    "            lineage = {\n",
    "                d[\"Rank\"]: d[\"ScientificName\"]\n",
    "                for d in tax_data[0][\"LineageEx\"]\n",
    "                if d[\"Rank\"] in [\"class\", \"phylum\"]\n",
    "            }\n",
    "            break\n",
    "        except:\n",
    "            print(\"Unexpected error: {}, Retrying, attempt {}\".format(sys.exc_info()[0], i))\n",
    "            if i == 9:\n",
    "                print(\n",
    "                    f\"FATAL ERROR could not get class and phylum from NCBI after 10 attempts for taxid:{taxonomy_data['taxonomy_id']}. Will add None for class and phylum!\"\n",
    "                )\n",
    "            else:\n",
    "                continue\n",
    "    taxonomy_data[\"phylum\"] = lineage.get(\"phylum\", None)\n",
    "    taxonomy_data[\"class\"] = lineage.get(\"class\", None)\n",
    "    if taxonomy_data[\"phylum\"] is not None: taxonomy_data[\"phylum\"] = str(taxonomy_data[\"phylum\"])\n",
    "    if taxonomy_data[\"class\"] is not None: taxonomy_data[\"class\"] = str(taxonomy_data[\"class\"])\n",
    "    return taxonomy_data"
   ]
  },
  {
   "cell_type": "markdown",
   "id": "28b6f3f8-a11e-4667-9c48-0d73ebedd308",
   "metadata": {
    "tags": []
   },
   "source": [
    "# Add cH2B.15_(Homo_sapiens)\n",
    "\n",
    "https://github.com/intbio/histonedb/blob/master/CURATED_SET/human_histones.csv\n",
    "\n",
    "```H2BC12L histone gene There is a human-specific duplication of the H2BC12 gene from the chromosome 6 replication-dependent cluster gene on chromosome 21. CAGE tag data [37] supports expression of this gene and as there are no frameshifts or deletions within the open reading frame, it is annotated as coding. Although the gene appears to be expressed there is no direct evidence that a protein is produced. The encoded protein does not represent a new histone variant—it only has one nonsynonymous amino acid difference from the H2B protein encoded by the parent gene H2BC12, and is classified as a “canonical” histone when analyzing the sequence via the Histone DB2.0 database. Therefore, this gene has been named as H2BC12L for “H2B clustered histone 12 like”.```\n",
    "**From article:** https://doi.org/10.1186/s13072-022-00467-2\n",
    "\n",
    "**Protein accession:** NP_059141.1"
   ]
  },
  {
   "cell_type": "code",
   "execution_count": 9,
   "id": "c312f98d-dd20-4587-863c-b7c1a3d035c8",
   "metadata": {
    "tags": []
   },
   "outputs": [],
   "source": [
    "ACCESSION = \"NP_059141.1\""
   ]
  },
  {
   "cell_type": "markdown",
   "id": "511f88a2-02f0-4582-bba5-4fec9cdafe8e",
   "metadata": {
    "tags": []
   },
   "source": [
    "## Get sequence NP_059141.1 from NCBI"
   ]
  },
  {
   "cell_type": "code",
   "execution_count": 10,
   "id": "91b571f7-c732-49da-a682-8d974dd8440a",
   "metadata": {
    "tags": []
   },
   "outputs": [
    {
     "name": "stdout",
     "output_type": "stream",
     "text": [
      "ID: NP_059141.1\n",
      "Name: NP_059141\n",
      "Description: histone H2B type F-S [Homo sapiens]\n",
      "Number of features: 8\n",
      "/topology=linear\n",
      "/data_file_division=PRI\n",
      "/date=25-OCT-2021\n",
      "/accessions=['NP_059141']\n",
      "/sequence_version=1\n",
      "/db_source=REFSEQ: accession NM_017445.3\n",
      "/keywords=['RefSeq', 'MANE Select']\n",
      "/source=Homo sapiens (human)\n",
      "/organism=Homo sapiens\n",
      "/taxonomy=['Eukaryota', 'Metazoa', 'Chordata', 'Craniata', 'Vertebrata', 'Euteleostomi', 'Mammalia', 'Eutheria', 'Euarchontoglires', 'Primates', 'Haplorrhini', 'Catarrhini', 'Hominidae', 'Homo']\n",
      "/references=[Reference(title='Histone H2B monoubiquitination functions cooperatively with FACT to regulate elongation by RNA polymerase II', ...), Reference(title='Characterization of histone H2A and H2B variants and their post-translational modifications by mass spectrometry', ...), Reference(title='Monoubiquitination of human histone H2B: the factors involved and their roles in HOX gene regulation', ...), Reference(title='Apoptotic phosphorylation of histone H2B is mediated by mammalian sterile twenty kinase', ...)]\n",
      "/comment=VALIDATED REFSEQ: This record has undergone validation or\n",
      "preliminary review. The reference sequence was derived from\n",
      "AP001051.1.\n",
      "Sequence Note: The RefSeq transcript and protein were derived from\n",
      "genomic sequence to make the sequence consistent with the reference\n",
      "genome assembly. The genomic coordinates used for the transcript\n",
      "record were based on alignments.\n",
      "/structured_comment=OrderedDict([('Evidence-Data', OrderedDict([('Transcript is intronless', 'AA385278.1 [ECO:0000345]')])), ('RefSeq-Attributes', OrderedDict([('MANE Ensembl match', 'ENST00000599962.2/ ENSP00000481622.1'), ('RefSeq Select criteria', 'based on single protein-coding transcript')]))])\n",
      "/molecule_type=protein\n",
      "Seq('MPEPAKSAPAPKKGSKKAVTKAQKKDGRKRKRSRKESYSVYVYKVLKQVHPDTG...SAK')\n"
     ]
    }
   ],
   "source": [
    "with Entrez.efetch(\n",
    "    db=\"protein\", id=ACCESSION, rettype=\"gb\", retmode=\"text\"\n",
    ") as handle:\n",
    "    record = SeqIO.read(handle, \"genbank\")\n",
    "    print(record)"
   ]
  },
  {
   "cell_type": "code",
   "execution_count": 11,
   "id": "21af7a64-da99-43c9-a816-004cfaec4eec",
   "metadata": {
    "tags": []
   },
   "outputs": [
    {
     "data": {
      "text/plain": [
       "'MPEPAKSAPAPKKGSKKAVTKAQKKDGRKRKRSRKESYSVYVYKVLKQVHPDTGISSKAMGIMNSFVNDIFERIAGEASRLPHYNKRSTITSREIQTAVRLLLPGELAKHAVSEGTKAVTKYTSAK'"
      ]
     },
     "execution_count": 11,
     "metadata": {},
     "output_type": "execute_result"
    }
   ],
   "source": [
    "str(record.seq)"
   ]
  },
  {
   "cell_type": "code",
   "execution_count": 12,
   "id": "33743147-e7ef-41c2-87be-d1dac9652ff9",
   "metadata": {
    "tags": []
   },
   "outputs": [
    {
     "data": {
      "text/plain": [
       "'Homo sapiens'"
      ]
     },
     "execution_count": 12,
     "metadata": {},
     "output_type": "execute_result"
    }
   ],
   "source": [
    "record.annotations[\"organism\"]"
   ]
  },
  {
   "cell_type": "code",
   "execution_count": 13,
   "id": "3e4f6bf4-bf4b-4303-ae2b-8f13d6b62eca",
   "metadata": {
    "tags": []
   },
   "outputs": [
    {
     "name": "stdout",
     "output_type": "stream",
     "text": [
      "Fetched taxid from NCBI <built-in function id>\n"
     ]
    },
    {
     "data": {
      "text/plain": [
       "{'organism': 'Homo sapiens',\n",
       " 'taxonomy_id': 9606,\n",
       " 'phylum': 'Chordata',\n",
       " 'class': 'Mammalia'}"
      ]
     },
     "execution_count": 13,
     "metadata": {},
     "output_type": "execute_result"
    }
   ],
   "source": [
    "taxonomy_data = get_taxonomy_data(record)\n",
    "taxonomy_data"
   ]
  },
  {
   "cell_type": "markdown",
   "id": "2815ec50-4170-4ea2-8d79-24ec105ded1f",
   "metadata": {},
   "source": [
    "## Adding"
   ]
  },
  {
   "cell_type": "code",
   "execution_count": 14,
   "id": "e8e879c5-585f-456e-811d-f6dd15461952",
   "metadata": {
    "tags": []
   },
   "outputs": [
    {
     "data": {
      "text/plain": [
       "{'accession': 'NP_059141.1',\n",
       " 'variant': 'cH2B.15_(Homo_sapiens)',\n",
       " 'gi': None,\n",
       " 'ncbi_gene_id': 54145,\n",
       " 'hgnc_gene_name': 'H2BC12L',\n",
       " 'taxonomy_id': 9606,\n",
       " 'organism': 'Homo sapiens',\n",
       " 'phylum': 'Chordata',\n",
       " 'class': 'Mammalia',\n",
       " 'taxonomy_group': None,\n",
       " 'info': None,\n",
       " 'sequence': 'MPEPAKSAPAPKKGSKKAVTKAQKKDGRKRKRSRKESYSVYVYKVLKQVHPDTGISSKAMGIMNSFVNDIFERIAGEASRLPHYNKRSTITSREIQTAVRLLLPGELAKHAVSEGTKAVTKYTSAK',\n",
       " 'variant_under_consideration': None}"
      ]
     },
     "execution_count": 14,
     "metadata": {},
     "output_type": "execute_result"
    }
   ],
   "source": [
    "data_sequence = {\n",
    "    \"accession\": ACCESSION,\n",
    "    \"variant\": \"cH2B.15_(Homo_sapiens)\",\n",
    "    \"gi\": None,\n",
    "    \"ncbi_gene_id\": 54145,\n",
    "    \"hgnc_gene_name\": \"H2BC12L\",\n",
    "    \"taxonomy_id\": 9606,\n",
    "    \"organism\": None,\n",
    "    \"phylum\": None,\n",
    "    \"class\": None,\n",
    "    \"taxonomy_group\": None,\n",
    "    \"info\": None,\n",
    "    \"sequence\": str(record.seq),\n",
    "    \"variant_under_consideration\": None,\n",
    "}\n",
    "data_sequence.update(taxonomy_data)\n",
    "data_sequence"
   ]
  },
  {
   "cell_type": "code",
   "execution_count": 15,
   "id": "4dcbf8bc-ca18-4f9e-876e-76666c741917",
   "metadata": {
    "tags": []
   },
   "outputs": [
    {
     "name": "stdout",
     "output_type": "stream",
     "text": [
      "accession <class 'str'>\n",
      "variant <class 'str'>\n",
      "gi <class 'NoneType'>\n",
      "ncbi_gene_id <class 'int'>\n",
      "hgnc_gene_name <class 'str'>\n",
      "taxonomy_id <class 'int'>\n",
      "organism <class 'str'>\n",
      "phylum <class 'str'>\n",
      "class <class 'str'>\n",
      "taxonomy_group <class 'NoneType'>\n",
      "info <class 'NoneType'>\n",
      "sequence <class 'str'>\n",
      "variant_under_consideration <class 'NoneType'>\n"
     ]
    }
   ],
   "source": [
    "for k, v in data_sequence.items():\n",
    "    print(k, type(v))"
   ]
  },
  {
   "cell_type": "code",
   "execution_count": 16,
   "id": "fc52080a-4d57-4a03-9788-60e5adc5063f",
   "metadata": {
    "tags": []
   },
   "outputs": [],
   "source": [
    "cursor.execute(add_sequence, data_sequence)"
   ]
  },
  {
   "cell_type": "code",
   "execution_count": 17,
   "id": "45530eb3-aa68-4db1-9492-97d992f88668",
   "metadata": {
    "tags": []
   },
   "outputs": [
    {
     "data": {
      "text/html": [
       "<div>\n",
       "<style scoped>\n",
       "    .dataframe tbody tr th:only-of-type {\n",
       "        vertical-align: middle;\n",
       "    }\n",
       "\n",
       "    .dataframe tbody tr th {\n",
       "        vertical-align: top;\n",
       "    }\n",
       "\n",
       "    .dataframe thead th {\n",
       "        text-align: right;\n",
       "    }\n",
       "</style>\n",
       "<table border=\"1\" class=\"dataframe\">\n",
       "  <thead>\n",
       "    <tr style=\"text-align: right;\">\n",
       "      <th></th>\n",
       "      <th>accession</th>\n",
       "      <th>variant</th>\n",
       "      <th>gi</th>\n",
       "      <th>ncbi_gene_id</th>\n",
       "      <th>hgnc_gene_name</th>\n",
       "      <th>taxonomy_id</th>\n",
       "      <th>organism</th>\n",
       "      <th>phylum</th>\n",
       "      <th>class</th>\n",
       "      <th>taxonomy_group</th>\n",
       "      <th>info</th>\n",
       "      <th>sequence</th>\n",
       "      <th>variant_under_consideration</th>\n",
       "      <th>sequence_accession</th>\n",
       "      <th>publication_id</th>\n",
       "    </tr>\n",
       "  </thead>\n",
       "  <tbody>\n",
       "    <tr>\n",
       "      <th>0</th>\n",
       "      <td>NP_059141.1</td>\n",
       "      <td>cH2B.15_(Homo_sapiens)</td>\n",
       "      <td>None</td>\n",
       "      <td>54145</td>\n",
       "      <td>H2BC12L</td>\n",
       "      <td>9606</td>\n",
       "      <td>Homo sapiens</td>\n",
       "      <td>Chordata</td>\n",
       "      <td>Mammalia</td>\n",
       "      <td>None</td>\n",
       "      <td>None</td>\n",
       "      <td>MPEPAKSAPAPKKGSKKAVTKAQKKDGRKRKRSRKESYSVYVYKVL...</td>\n",
       "      <td>None</td>\n",
       "      <td>None</td>\n",
       "      <td>None</td>\n",
       "    </tr>\n",
       "  </tbody>\n",
       "</table>\n",
       "</div>"
      ],
      "text/plain": [
       "     accession                 variant    gi ncbi_gene_id hgnc_gene_name  \\\n",
       "0  NP_059141.1  cH2B.15_(Homo_sapiens)  None        54145        H2BC12L   \n",
       "\n",
       "   taxonomy_id      organism    phylum     class taxonomy_group  info  \\\n",
       "0         9606  Homo sapiens  Chordata  Mammalia           None  None   \n",
       "\n",
       "                                            sequence  \\\n",
       "0  MPEPAKSAPAPKKGSKKAVTKAQKKDGRKRKRSRKESYSVYVYKVL...   \n",
       "\n",
       "  variant_under_consideration sequence_accession publication_id  \n",
       "0                        None               None           None  "
      ]
     },
     "execution_count": 17,
     "metadata": {},
     "output_type": "execute_result"
    }
   ],
   "source": [
    "query = (\n",
    "    \"SELECT * FROM sequence s LEFT JOIN sequence_has_publication sp \"\n",
    "    \"ON s.accession = sp.sequence_accession \"\n",
    "    f\"WHERE s.accession='{ACCESSION}'\"\n",
    ")\n",
    "cursor.execute(query)\n",
    "df = pd.DataFrame(cursor.fetchall(), columns=[i[0] for i in cursor.description])\n",
    "df"
   ]
  },
  {
   "cell_type": "markdown",
   "id": "b4a4e547-4233-4026-a0f5-abc0e8781ef7",
   "metadata": {},
   "source": [
    "## Add publication"
   ]
  },
  {
   "cell_type": "code",
   "execution_count": 20,
   "id": "18f2a79a-90f7-4067-b8f2-cf16446cc4ff",
   "metadata": {
    "tags": []
   },
   "outputs": [
    {
     "data": {
      "text/html": [
       "<div>\n",
       "<style scoped>\n",
       "    .dataframe tbody tr th:only-of-type {\n",
       "        vertical-align: middle;\n",
       "    }\n",
       "\n",
       "    .dataframe tbody tr th {\n",
       "        vertical-align: top;\n",
       "    }\n",
       "\n",
       "    .dataframe thead th {\n",
       "        text-align: right;\n",
       "    }\n",
       "</style>\n",
       "<table border=\"1\" class=\"dataframe\">\n",
       "  <thead>\n",
       "    <tr style=\"text-align: right;\">\n",
       "      <th></th>\n",
       "      <th>id</th>\n",
       "      <th>title</th>\n",
       "      <th>doi</th>\n",
       "      <th>author</th>\n",
       "      <th>year</th>\n",
       "    </tr>\n",
       "  </thead>\n",
       "  <tbody>\n",
       "  </tbody>\n",
       "</table>\n",
       "</div>"
      ],
      "text/plain": [
       "Empty DataFrame\n",
       "Columns: [id, title, doi, author, year]\n",
       "Index: []"
      ]
     },
     "execution_count": 20,
     "metadata": {},
     "output_type": "execute_result"
    }
   ],
   "source": [
    "pid = \"36180920\"\n",
    "query = f\"SELECT * FROM publication WHERE id='{pid}'\"\n",
    "cursor.execute(query)\n",
    "pd.DataFrame(cursor.fetchall(), columns=[i[0] for i in cursor.description])"
   ]
  },
  {
   "cell_type": "code",
   "execution_count": 22,
   "id": "45f873a2-9ff3-4a9d-8bff-385b9eaf3b03",
   "metadata": {
    "tags": []
   },
   "outputs": [],
   "source": [
    "pub_data = {\n",
    "    \"id\": pid,\n",
    "    \"title\": None,\n",
    "    \"doi\": None,\n",
    "    \"author\": None,\n",
    "    \"year\": None\n",
    "}\n",
    "cursor.execute(add_publication, pub_data)"
   ]
  },
  {
   "cell_type": "code",
   "execution_count": 23,
   "id": "08411ebe-fb63-4e60-93c6-748b975258ec",
   "metadata": {
    "tags": []
   },
   "outputs": [
    {
     "data": {
      "text/html": [
       "<div>\n",
       "<style scoped>\n",
       "    .dataframe tbody tr th:only-of-type {\n",
       "        vertical-align: middle;\n",
       "    }\n",
       "\n",
       "    .dataframe tbody tr th {\n",
       "        vertical-align: top;\n",
       "    }\n",
       "\n",
       "    .dataframe thead th {\n",
       "        text-align: right;\n",
       "    }\n",
       "</style>\n",
       "<table border=\"1\" class=\"dataframe\">\n",
       "  <thead>\n",
       "    <tr style=\"text-align: right;\">\n",
       "      <th></th>\n",
       "      <th>id</th>\n",
       "      <th>title</th>\n",
       "      <th>doi</th>\n",
       "      <th>author</th>\n",
       "      <th>year</th>\n",
       "    </tr>\n",
       "  </thead>\n",
       "  <tbody>\n",
       "    <tr>\n",
       "      <th>0</th>\n",
       "      <td>36180920</td>\n",
       "      <td>None</td>\n",
       "      <td>None</td>\n",
       "      <td>None</td>\n",
       "      <td>None</td>\n",
       "    </tr>\n",
       "  </tbody>\n",
       "</table>\n",
       "</div>"
      ],
      "text/plain": [
       "         id title   doi author  year\n",
       "0  36180920  None  None   None  None"
      ]
     },
     "execution_count": 23,
     "metadata": {},
     "output_type": "execute_result"
    }
   ],
   "source": [
    "query = f\"SELECT * FROM publication WHERE id='{pid}'\"\n",
    "cursor.execute(query)\n",
    "pd.DataFrame(cursor.fetchall(), columns=[i[0] for i in cursor.description])"
   ]
  },
  {
   "cell_type": "code",
   "execution_count": 24,
   "id": "2e287bd2-c2ec-4457-b5e9-26054c1938f9",
   "metadata": {
    "tags": []
   },
   "outputs": [],
   "source": [
    "cursor.execute(add_sequence_has_publication, (ACCESSION, pid))"
   ]
  },
  {
   "cell_type": "code",
   "execution_count": 25,
   "id": "f063277a-c003-433f-9653-42c1ab9b22f4",
   "metadata": {
    "tags": []
   },
   "outputs": [
    {
     "data": {
      "text/html": [
       "<div>\n",
       "<style scoped>\n",
       "    .dataframe tbody tr th:only-of-type {\n",
       "        vertical-align: middle;\n",
       "    }\n",
       "\n",
       "    .dataframe tbody tr th {\n",
       "        vertical-align: top;\n",
       "    }\n",
       "\n",
       "    .dataframe thead th {\n",
       "        text-align: right;\n",
       "    }\n",
       "</style>\n",
       "<table border=\"1\" class=\"dataframe\">\n",
       "  <thead>\n",
       "    <tr style=\"text-align: right;\">\n",
       "      <th></th>\n",
       "      <th>accession</th>\n",
       "      <th>variant</th>\n",
       "      <th>gi</th>\n",
       "      <th>ncbi_gene_id</th>\n",
       "      <th>hgnc_gene_name</th>\n",
       "      <th>taxonomy_id</th>\n",
       "      <th>organism</th>\n",
       "      <th>phylum</th>\n",
       "      <th>class</th>\n",
       "      <th>taxonomy_group</th>\n",
       "      <th>info</th>\n",
       "      <th>sequence</th>\n",
       "      <th>variant_under_consideration</th>\n",
       "      <th>sequence_accession</th>\n",
       "      <th>publication_id</th>\n",
       "    </tr>\n",
       "  </thead>\n",
       "  <tbody>\n",
       "    <tr>\n",
       "      <th>0</th>\n",
       "      <td>NP_059141.1</td>\n",
       "      <td>cH2B.15_(Homo_sapiens)</td>\n",
       "      <td>None</td>\n",
       "      <td>54145</td>\n",
       "      <td>H2BC12L</td>\n",
       "      <td>9606</td>\n",
       "      <td>Homo sapiens</td>\n",
       "      <td>Chordata</td>\n",
       "      <td>Mammalia</td>\n",
       "      <td>None</td>\n",
       "      <td>None</td>\n",
       "      <td>MPEPAKSAPAPKKGSKKAVTKAQKKDGRKRKRSRKESYSVYVYKVL...</td>\n",
       "      <td>None</td>\n",
       "      <td>NP_059141.1</td>\n",
       "      <td>36180920</td>\n",
       "    </tr>\n",
       "  </tbody>\n",
       "</table>\n",
       "</div>"
      ],
      "text/plain": [
       "     accession                 variant    gi ncbi_gene_id hgnc_gene_name  \\\n",
       "0  NP_059141.1  cH2B.15_(Homo_sapiens)  None        54145        H2BC12L   \n",
       "\n",
       "   taxonomy_id      organism    phylum     class taxonomy_group  info  \\\n",
       "0         9606  Homo sapiens  Chordata  Mammalia           None  None   \n",
       "\n",
       "                                            sequence  \\\n",
       "0  MPEPAKSAPAPKKGSKKAVTKAQKKDGRKRKRSRKESYSVYVYKVL...   \n",
       "\n",
       "  variant_under_consideration sequence_accession publication_id  \n",
       "0                        None        NP_059141.1       36180920  "
      ]
     },
     "execution_count": 25,
     "metadata": {},
     "output_type": "execute_result"
    }
   ],
   "source": [
    "query = (\n",
    "    \"SELECT * FROM sequence s LEFT JOIN sequence_has_publication sp \"\n",
    "    \"ON s.accession = sp.sequence_accession \"\n",
    "    f\"WHERE s.accession='{ACCESSION}'\"\n",
    ")\n",
    "cursor.execute(query)\n",
    "df = pd.DataFrame(cursor.fetchall(), columns=[i[0] for i in cursor.description])\n",
    "df"
   ]
  },
  {
   "cell_type": "code",
   "execution_count": 26,
   "id": "b9ac4df0-0ad6-494c-85c2-be099ff9e457",
   "metadata": {
    "tags": []
   },
   "outputs": [
    {
     "data": {
      "text/html": [
       "<div>\n",
       "<style scoped>\n",
       "    .dataframe tbody tr th:only-of-type {\n",
       "        vertical-align: middle;\n",
       "    }\n",
       "\n",
       "    .dataframe tbody tr th {\n",
       "        vertical-align: top;\n",
       "    }\n",
       "\n",
       "    .dataframe thead th {\n",
       "        text-align: right;\n",
       "    }\n",
       "</style>\n",
       "<table border=\"1\" class=\"dataframe\">\n",
       "  <thead>\n",
       "    <tr style=\"text-align: right;\">\n",
       "      <th></th>\n",
       "      <th>accession</th>\n",
       "      <th>variant</th>\n",
       "      <th>gi</th>\n",
       "      <th>ncbi_gene_id</th>\n",
       "      <th>hgnc_gene_name</th>\n",
       "      <th>taxonomy_id</th>\n",
       "      <th>organism</th>\n",
       "      <th>phylum</th>\n",
       "      <th>class</th>\n",
       "      <th>taxonomy_group</th>\n",
       "      <th>info</th>\n",
       "      <th>sequence</th>\n",
       "      <th>variant_under_consideration</th>\n",
       "      <th>sequence_accession</th>\n",
       "      <th>publication_id</th>\n",
       "    </tr>\n",
       "  </thead>\n",
       "  <tbody>\n",
       "    <tr>\n",
       "      <th>0</th>\n",
       "      <td>NP_059141.1</td>\n",
       "      <td>cH2B.15_(Homo_sapiens)</td>\n",
       "      <td>None</td>\n",
       "      <td>54145</td>\n",
       "      <td>H2BC12L</td>\n",
       "      <td>9606</td>\n",
       "      <td>Homo sapiens</td>\n",
       "      <td>Chordata</td>\n",
       "      <td>Mammalia</td>\n",
       "      <td>None</td>\n",
       "      <td>None</td>\n",
       "      <td>MPEPAKSAPAPKKGSKKAVTKAQKKDGRKRKRSRKESYSVYVYKVL...</td>\n",
       "      <td>None</td>\n",
       "      <td>NP_059141.1</td>\n",
       "      <td>36180920</td>\n",
       "    </tr>\n",
       "  </tbody>\n",
       "</table>\n",
       "</div>"
      ],
      "text/plain": [
       "     accession                 variant    gi ncbi_gene_id hgnc_gene_name  \\\n",
       "0  NP_059141.1  cH2B.15_(Homo_sapiens)  None        54145        H2BC12L   \n",
       "\n",
       "   taxonomy_id      organism    phylum     class taxonomy_group  info  \\\n",
       "0         9606  Homo sapiens  Chordata  Mammalia           None  None   \n",
       "\n",
       "                                            sequence  \\\n",
       "0  MPEPAKSAPAPKKGSKKAVTKAQKKDGRKRKRSRKESYSVYVYKVL...   \n",
       "\n",
       "  variant_under_consideration sequence_accession publication_id  \n",
       "0                        None        NP_059141.1       36180920  "
      ]
     },
     "execution_count": 26,
     "metadata": {},
     "output_type": "execute_result"
    }
   ],
   "source": [
    "query = (\n",
    "    \"SELECT * FROM sequence s LEFT JOIN sequence_has_publication sp \"\n",
    "    \"ON s.accession = sp.sequence_accession \"\n",
    "    f\"WHERE s.variant='cH2B.15_(Homo_sapiens)'\"\n",
    ")\n",
    "cursor.execute(query)\n",
    "df = pd.DataFrame(cursor.fetchall(), columns=[i[0] for i in cursor.description])\n",
    "df"
   ]
  },
  {
   "cell_type": "code",
   "execution_count": 27,
   "id": "e67342e9-4f3b-4e4c-acdc-c86574c18752",
   "metadata": {
    "tags": []
   },
   "outputs": [],
   "source": [
    "# Make sure data is committed to the database\n",
    "conn.commit()"
   ]
  },
  {
   "cell_type": "markdown",
   "id": "d3c8a219-f508-46e1-936f-7d6040016e39",
   "metadata": {
    "tags": []
   },
   "source": [
    "# Close connections"
   ]
  },
  {
   "cell_type": "code",
   "execution_count": 28,
   "id": "572059d8-54f9-4ec7-a2c6-1c8066552845",
   "metadata": {
    "tags": []
   },
   "outputs": [],
   "source": [
    "cursor.close()\n",
    "conn.close()\n",
    "tunnel.stop()"
   ]
  },
  {
   "cell_type": "code",
   "execution_count": null,
   "id": "a078e121-8348-4ac8-a3f1-7c8b18b6d120",
   "metadata": {},
   "outputs": [],
   "source": []
  }
 ],
 "metadata": {
  "kernelspec": {
   "display_name": ".conda-histdb_env",
   "language": "python",
   "name": "conda-env-.conda-histdb_env-py"
  },
  "language_info": {
   "codemirror_mode": {
    "name": "ipython",
    "version": 3
   },
   "file_extension": ".py",
   "mimetype": "text/x-python",
   "name": "python",
   "nbconvert_exporter": "python",
   "pygments_lexer": "ipython3",
   "version": "3.8.1"
  }
 },
 "nbformat": 4,
 "nbformat_minor": 5
}
