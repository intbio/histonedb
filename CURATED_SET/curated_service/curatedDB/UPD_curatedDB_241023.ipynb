{
 "cells": [
  {
   "cell_type": "code",
   "execution_count": 1,
   "id": "fb32231a-293e-45b8-af7d-d996c91a4edd",
   "metadata": {
    "tags": []
   },
   "outputs": [],
   "source": [
    "import pandas as pd\n",
    "from Bio import Entrez\n",
    "from mysql.connector import connection\n",
    "from sshtunnel import SSHTunnelForwarder\n",
    "\n",
    "Entrez.email = \"l.singh@intbio.org\"\n",
    "\n",
    "import re\n",
    "\n",
    "from Bio import SeqIO"
   ]
  },
  {
   "cell_type": "code",
   "execution_count": 2,
   "id": "d5fa78a7-4901-4e63-9d91-d9ed584d2f62",
   "metadata": {
    "tags": []
   },
   "outputs": [],
   "source": [
    "with open(\"db_curated_server_info.txt\", \"r\") as file:\n",
    "    lines = file.readlines()\n",
    "\n",
    "config = {}\n",
    "\n",
    "for line in lines:\n",
    "    line = line.strip()\n",
    "    if line and not line.startswith(\"#\"):\n",
    "        key, value = line.split(\"=\", 1)\n",
    "        config[key] = value.strip()\n",
    "\n",
    "server_name = config.get(\"server_name\")\n",
    "srever_port = int(config.get(\"srever_port\"))\n",
    "ssh_password = config.get(\"ssh_password\")\n",
    "ssh_username = config.get(\"ssh_username\")\n",
    "db_adress = config.get(\"db_adress\")\n",
    "db_port = int(config.get(\"db_port\"))"
   ]
  },
  {
   "cell_type": "code",
   "execution_count": 3,
   "id": "ebe3d2e8-9736-4fd9-b3f1-5ec2d255567d",
   "metadata": {
    "tags": []
   },
   "outputs": [
    {
     "name": "stdout",
     "output_type": "stream",
     "text": [
      "41671\n"
     ]
    }
   ],
   "source": [
    "tunnel = SSHTunnelForwarder(\n",
    "    (server_name, srever_port),\n",
    "    ssh_password=ssh_password,\n",
    "    ssh_username=ssh_username,\n",
    "    remote_bind_address=(db_adress, db_port),\n",
    ")\n",
    "tunnel.start()\n",
    "print(tunnel.local_bind_port)"
   ]
  },
  {
   "cell_type": "code",
   "execution_count": 4,
   "id": "0de93630-7502-40f3-ad24-42edf7a11eef",
   "metadata": {
    "tags": []
   },
   "outputs": [],
   "source": [
    "conn = connection.MySQLConnection(\n",
    "    user=\"db_user\",\n",
    "    password=\"db_password\",\n",
    "    host=\"localhost\",\n",
    "    port=tunnel.local_bind_port,\n",
    "    database=\"db_name\",\n",
    ")\n",
    "cursor = conn.cursor()"
   ]
  },
  {
   "cell_type": "code",
   "execution_count": 5,
   "id": "b4767ba0-4ea1-43ae-953f-f2575d9b7a69",
   "metadata": {
    "tags": []
   },
   "outputs": [
    {
     "data": {
      "text/plain": [
       "[('alternative_name',),\n",
       " ('histone',),\n",
       " ('histone_description',),\n",
       " ('histone_has_publication',),\n",
       " ('publication',),\n",
       " ('sequence',),\n",
       " ('sequence_has_publication',)]"
      ]
     },
     "execution_count": 5,
     "metadata": {},
     "output_type": "execute_result"
    }
   ],
   "source": [
    "query = \"SHOW TABLES;\"\n",
    "cursor.execute(query)\n",
    "cursor.fetchall()"
   ]
  },
  {
   "cell_type": "code",
   "execution_count": 22,
   "id": "4daefbcb-7dc2-4727-89c3-06d751dd1257",
   "metadata": {
    "tags": []
   },
   "outputs": [
    {
     "data": {
      "text/plain": [
       "'accession, variant, gi, ncbi_gene_id, hgnc_gene_name, taxonomy_id, organism, phylum, class, taxonomy_group, info, sequence, variant_under_consideration'"
      ]
     },
     "execution_count": 22,
     "metadata": {},
     "output_type": "execute_result"
    }
   ],
   "source": [
    "query = \"SELECT * FROM sequence\"\n",
    "cursor.execute(query)\n",
    "cursor.fetchall()\n",
    "\", \".join([i[0] for i in cursor.description])"
   ]
  },
  {
   "cell_type": "code",
   "execution_count": 7,
   "id": "c68d4b8f-c22c-4f8e-bb4f-71f95668656e",
   "metadata": {
    "tags": []
   },
   "outputs": [],
   "source": [
    "# add_publication = (\n",
    "#     \"INSERT INTO publication \"\n",
    "#     \"(id, title, doi, author, year) \"\n",
    "#     \"VALUES (%(id)s, %(title)s, %(doi)s, %(author)s, %(year)s)\"\n",
    "# )\n",
    "add_sequence_has_publication = (\n",
    "    \"INSERT INTO sequence_has_publication \"\n",
    "    \"(sequence_accession, publication_id) \"\n",
    "    \"VALUES (%s, %s)\"\n",
    ")\n",
    "add_sequence = (\n",
    "    \"INSERT INTO sequence \"\n",
    "    \"(accession, variant, gi, ncbi_gene_id, hgnc_gene_name, taxonomy_id, organism, phylum, class, taxonomy_group, info, sequence, variant_under_consideration) \"\n",
    "    \"VALUES (%(accession)s, %(variant)s, %(gi)s, %(ncbi_gene_id)s, %(hgnc_gene_name)s, %(taxonomy_id)s, %(organism)s, %(phylum)s, %(class)s, %(taxonomy_group)s, %(info)s, %(sequence)s, %(variant_under_consideration)s)\"\n",
    ")"
   ]
  },
  {
   "cell_type": "code",
   "execution_count": 33,
   "id": "a08e6ecd-8100-4900-97a8-2b9bd4e8d4e4",
   "metadata": {
    "tags": []
   },
   "outputs": [],
   "source": [
    "def get_taxonomy_data(record):\n",
    "    taxonomy_data = {}\n",
    "    taxonomy_data[\"organism\"] = record.annotations[\"organism\"]\n",
    "    try:\n",
    "        for a in record.features[0].qualifiers[\"db_xref\"]:\n",
    "            text = re.search(\"(\\S+):(\\S+)\", a).group(1)\n",
    "            taxid = re.search(\"(\\S+):(\\S+)\", a).group(2)\n",
    "            if text == \"taxon\":\n",
    "                print(\"Fetched taxid from NCBI {}\".format(id))\n",
    "                taxonomy_data[\"taxonomy_id\"] = int(taxid)\n",
    "            else:\n",
    "                continue\n",
    "    except:\n",
    "        print(\"!!!!!!Unable to get TAXID for \\n {} setting it to 1\".format(s))\n",
    "        taxids.append(1)  # unable to identify\n",
    "\n",
    "    lineage = dict()\n",
    "    for i in range(10):\n",
    "        try:\n",
    "            handle = Entrez.efetch(\n",
    "                id=taxonomy_data[\"taxonomy_id\"], db=\"taxonomy\", retmode=\"xml\"\n",
    "            )\n",
    "            tax_data = Entrez.read(handle)\n",
    "            lineage = {\n",
    "                d[\"Rank\"]: d[\"ScientificName\"]\n",
    "                for d in tax_data[0][\"LineageEx\"]\n",
    "                if d[\"Rank\"] in [\"class\", \"phylum\"]\n",
    "            }\n",
    "            break\n",
    "        except:\n",
    "            print(\"Unexpected error: {}, Retrying, attempt {}\".format(sys.exc_info()[0], i))\n",
    "            if i == 9:\n",
    "                print(\n",
    "                    f\"FATAL ERROR could not get class and phylum from NCBI after 10 attempts for taxid:{taxonomy_data['taxonomy_id']}. Will add None for class and phylum!\"\n",
    "                )\n",
    "            else:\n",
    "                continue\n",
    "    taxonomy_data[\"phylum\"] = lineage.get(\"phylum\", None)\n",
    "    taxonomy_data[\"class\"] = lineage.get(\"class\", None)\n",
    "    if taxonomy_data[\"phylum\"] is not None: taxonomy_data[\"phylum\"] = str(taxonomy_data[\"phylum\"])\n",
    "    if taxonomy_data[\"class\"] is not None: taxonomy_data[\"class\"] = str(taxonomy_data[\"class\"])\n",
    "    return taxonomy_data"
   ]
  },
  {
   "cell_type": "markdown",
   "id": "e91465e3-5f62-4d7e-bb56-f845d4fc97b1",
   "metadata": {
    "jp-MarkdownHeadingCollapsed": true,
    "tags": []
   },
   "source": [
    "# Update sequence XP_012928609.2 to previous version XP_012928609.1\n",
    "\n",
    "Новая версия записи низкого качества (по данным из NCBI). Последовательность имеет длинный лишний фрагмент с N-конца."
   ]
  },
  {
   "cell_type": "code",
   "execution_count": 9,
   "id": "a3bc2030-7177-4ab7-a62c-ec9084367ff0",
   "metadata": {
    "tags": []
   },
   "outputs": [
    {
     "data": {
      "text/html": [
       "<div>\n",
       "<style scoped>\n",
       "    .dataframe tbody tr th:only-of-type {\n",
       "        vertical-align: middle;\n",
       "    }\n",
       "\n",
       "    .dataframe tbody tr th {\n",
       "        vertical-align: top;\n",
       "    }\n",
       "\n",
       "    .dataframe thead th {\n",
       "        text-align: right;\n",
       "    }\n",
       "</style>\n",
       "<table border=\"1\" class=\"dataframe\">\n",
       "  <thead>\n",
       "    <tr style=\"text-align: right;\">\n",
       "      <th></th>\n",
       "      <th>accession</th>\n",
       "      <th>variant</th>\n",
       "      <th>gi</th>\n",
       "      <th>ncbi_gene_id</th>\n",
       "      <th>hgnc_gene_name</th>\n",
       "      <th>taxonomy_id</th>\n",
       "      <th>organism</th>\n",
       "      <th>phylum</th>\n",
       "      <th>class</th>\n",
       "      <th>taxonomy_group</th>\n",
       "      <th>info</th>\n",
       "      <th>sequence</th>\n",
       "      <th>variant_under_consideration</th>\n",
       "      <th>sequence_accession</th>\n",
       "      <th>publication_id</th>\n",
       "    </tr>\n",
       "  </thead>\n",
       "  <tbody>\n",
       "    <tr>\n",
       "      <th>0</th>\n",
       "      <td>XP_012928609.2</td>\n",
       "      <td>cH4</td>\n",
       "      <td>861442511</td>\n",
       "      <td>None</td>\n",
       "      <td>None</td>\n",
       "      <td>10181</td>\n",
       "      <td>Heterocephalus glaber</td>\n",
       "      <td>Chordata</td>\n",
       "      <td>Mammalia</td>\n",
       "      <td>None</td>\n",
       "      <td>None</td>\n",
       "      <td>MFDVFGRDKGGKVLDKGRAKRHPKVLRGNIQGITKPAISRLARRSG...</td>\n",
       "      <td>None</td>\n",
       "      <td>None</td>\n",
       "      <td>None</td>\n",
       "    </tr>\n",
       "  </tbody>\n",
       "</table>\n",
       "</div>"
      ],
      "text/plain": [
       "        accession variant         gi ncbi_gene_id hgnc_gene_name  taxonomy_id  \\\n",
       "0  XP_012928609.2     cH4  861442511         None           None        10181   \n",
       "\n",
       "                organism    phylum     class taxonomy_group  info  \\\n",
       "0  Heterocephalus glaber  Chordata  Mammalia           None  None   \n",
       "\n",
       "                                            sequence  \\\n",
       "0  MFDVFGRDKGGKVLDKGRAKRHPKVLRGNIQGITKPAISRLARRSG...   \n",
       "\n",
       "  variant_under_consideration sequence_accession publication_id  \n",
       "0                        None               None           None  "
      ]
     },
     "execution_count": 9,
     "metadata": {},
     "output_type": "execute_result"
    }
   ],
   "source": [
    "query = (\n",
    "    \"SELECT * FROM sequence s LEFT JOIN sequence_has_publication sp \"\n",
    "    \"ON s.accession = sp.sequence_accession \"\n",
    "    \"WHERE s.accession='XP_012928609.2'\"\n",
    ")\n",
    "cursor.execute(query)\n",
    "df = pd.DataFrame(cursor.fetchall(), columns=[i[0] for i in cursor.description])\n",
    "df"
   ]
  },
  {
   "cell_type": "code",
   "execution_count": 10,
   "id": "0e737a58-8287-4a05-be51-b811d9a4ed43",
   "metadata": {
    "tags": []
   },
   "outputs": [
    {
     "data": {
      "text/html": [
       "<div>\n",
       "<style scoped>\n",
       "    .dataframe tbody tr th:only-of-type {\n",
       "        vertical-align: middle;\n",
       "    }\n",
       "\n",
       "    .dataframe tbody tr th {\n",
       "        vertical-align: top;\n",
       "    }\n",
       "\n",
       "    .dataframe thead th {\n",
       "        text-align: right;\n",
       "    }\n",
       "</style>\n",
       "<table border=\"1\" class=\"dataframe\">\n",
       "  <thead>\n",
       "    <tr style=\"text-align: right;\">\n",
       "      <th></th>\n",
       "      <th>accession</th>\n",
       "      <th>publication_id</th>\n",
       "    </tr>\n",
       "  </thead>\n",
       "  <tbody>\n",
       "    <tr>\n",
       "      <th>0</th>\n",
       "      <td>XP_012928609.2</td>\n",
       "      <td>[]</td>\n",
       "    </tr>\n",
       "  </tbody>\n",
       "</table>\n",
       "</div>"
      ],
      "text/plain": [
       "        accession publication_id\n",
       "0  XP_012928609.2             []"
      ]
     },
     "execution_count": 10,
     "metadata": {},
     "output_type": "execute_result"
    }
   ],
   "source": [
    "df.groupby([\"accession\"])[\"publication_id\"].apply(\n",
    "    lambda x: [] if x.dropna().empty else list(x.unique())\n",
    ").reset_index()"
   ]
  },
  {
   "cell_type": "markdown",
   "id": "04f3ea7c-83ff-412e-9b32-80688e39a590",
   "metadata": {
    "tags": []
   },
   "source": [
    "## Get sequence XP_012928609.1 from NCBI"
   ]
  },
  {
   "cell_type": "code",
   "execution_count": 12,
   "id": "3c965042-a9c0-4f86-9713-8da809fc9b39",
   "metadata": {
    "tags": []
   },
   "outputs": [
    {
     "name": "stdout",
     "output_type": "stream",
     "text": [
      "ID: XP_012928609.1\n",
      "Name: XP_012928609\n",
      "Description: PREDICTED: histone H4 [Heterocephalus glaber]\n",
      "Database cross-references: BioProject:PRJNA197330\n",
      "Number of features: 4\n",
      "/topology=linear\n",
      "/data_file_division=ROD\n",
      "/date=02-JUL-2015\n",
      "/accessions=['XP_012928609']\n",
      "/sequence_version=1\n",
      "/db_source=REFSEQ: accession XM_013073155.1\n",
      "/keywords=['RefSeq', 'includes ab initio']\n",
      "/source=Heterocephalus glaber (naked mole-rat)\n",
      "/organism=Heterocephalus glaber\n",
      "/taxonomy=['Eukaryota', 'Metazoa', 'Chordata', 'Craniata', 'Vertebrata', 'Euteleostomi', 'Mammalia', 'Eutheria', 'Euarchontoglires', 'Glires', 'Rodentia', 'Hystricomorpha', 'Bathyergidae', 'Heterocephalus']\n",
      "/comment=MODEL REFSEQ:  This record is predicted by automated computational\n",
      "analysis. This record is derived from a genomic sequence\n",
      "(NW_004624756.1) annotated using gene prediction method: Gnomon.\n",
      "Also see:\n",
      "    Documentation of NCBI's Annotation Process\n",
      "[WARNING] On May 23, 2017 this sequence was replaced by\n",
      "XP_012928609.2.\n",
      "COMPLETENESS: full length.\n",
      "/structured_comment=OrderedDict([('Genome-Annotation-Data', OrderedDict([('Annotation Provider', 'NCBI'), ('Annotation Status', 'Full annotation'), ('Annotation Version', 'Heterocephalus glaber Annotation Release 101'), ('Annotation Pipeline', 'NCBI eukaryotic genome annotation pipeline'), ('Annotation Software Version', '6.3'), ('Annotation Method', 'Best-placed RefSeq; Gnomon'), ('Features Annotated', 'Gene; mRNA; CDS; ncRNA')])), ('RefSeq-Attributes', OrderedDict([('ab initio', '100% of CDS bases')]))])\n",
      "/molecule_type=protein\n",
      "Seq('MSGRGKGGKGLGKGGAKRHRKVLRDNIQGITKPAIRRLARRGGVKRISGLIYEE...FGG')\n"
     ]
    }
   ],
   "source": [
    "with Entrez.efetch(\n",
    "    db=\"protein\", id=\"XP_012928609.1\", rettype=\"gb\", retmode=\"text\"\n",
    ") as handle:\n",
    "    record = SeqIO.read(handle, \"genbank\")\n",
    "    print(record)"
   ]
  },
  {
   "cell_type": "code",
   "execution_count": 14,
   "id": "fadfd88d-0184-4245-8c59-b19000d14766",
   "metadata": {
    "tags": []
   },
   "outputs": [
    {
     "data": {
      "text/plain": [
       "'MSGRGKGGKGLGKGGAKRHRKVLRDNIQGITKPAIRRLARRGGVKRISGLIYEETRGVLKVFLENVIRDAVTYTEHAKRKTVTAMDVVYALKRQGRTLYGFGG'"
      ]
     },
     "execution_count": 14,
     "metadata": {},
     "output_type": "execute_result"
    }
   ],
   "source": [
    "str(record.seq)"
   ]
  },
  {
   "cell_type": "markdown",
   "id": "5a22f65f-58ce-46cf-b7b0-2b994d755eeb",
   "metadata": {},
   "source": [
    "## Updating"
   ]
  },
  {
   "cell_type": "code",
   "execution_count": 15,
   "id": "fa9f72ea-7860-4d6d-bcf4-0f058376195a",
   "metadata": {
    "tags": []
   },
   "outputs": [
    {
     "name": "stdout",
     "output_type": "stream",
     "text": [
      "UPDATE sequence SET accession='XP_012928609.1' sequence='MSGRGKGGKGLGKGGAKRHRKVLRDNIQGITKPAIRRLARRGGVKRISGLIYEETRGVLKVFLENVIRDAVTYTEHAKRKTVTAMDVVYALKRQGRTLYGFGG' WHERE accession='XP_012928609.2'\n"
     ]
    }
   ],
   "source": [
    "query = (\n",
    "    \"UPDATE sequence SET accession='XP_012928609.1', \"\n",
    "    f\"sequence='{str(record.seq)}' \"\n",
    "    \"WHERE accession='XP_012928609.2'\"\n",
    ")\n",
    "print(query)"
   ]
  },
  {
   "cell_type": "code",
   "execution_count": 17,
   "id": "7a66cf1a-6529-410c-9c1c-1ae8ae428966",
   "metadata": {
    "tags": []
   },
   "outputs": [],
   "source": [
    "query = (\n",
    "    \"UPDATE sequence SET accession='XP_012928609.1', \"\n",
    "    f\"sequence='{str(record.seq)}' \"\n",
    "    \"WHERE accession='XP_012928609.2'\"\n",
    ")\n",
    "cursor.execute(query)\n",
    "# Make sure data is committed to the database\n",
    "conn.commit()"
   ]
  },
  {
   "cell_type": "code",
   "execution_count": 18,
   "id": "ec30cd79-92d3-4c76-a5b8-58669eb2293e",
   "metadata": {
    "tags": []
   },
   "outputs": [
    {
     "data": {
      "text/html": [
       "<div>\n",
       "<style scoped>\n",
       "    .dataframe tbody tr th:only-of-type {\n",
       "        vertical-align: middle;\n",
       "    }\n",
       "\n",
       "    .dataframe tbody tr th {\n",
       "        vertical-align: top;\n",
       "    }\n",
       "\n",
       "    .dataframe thead th {\n",
       "        text-align: right;\n",
       "    }\n",
       "</style>\n",
       "<table border=\"1\" class=\"dataframe\">\n",
       "  <thead>\n",
       "    <tr style=\"text-align: right;\">\n",
       "      <th></th>\n",
       "      <th>accession</th>\n",
       "      <th>variant</th>\n",
       "      <th>gi</th>\n",
       "      <th>ncbi_gene_id</th>\n",
       "      <th>hgnc_gene_name</th>\n",
       "      <th>taxonomy_id</th>\n",
       "      <th>organism</th>\n",
       "      <th>phylum</th>\n",
       "      <th>class</th>\n",
       "      <th>taxonomy_group</th>\n",
       "      <th>info</th>\n",
       "      <th>sequence</th>\n",
       "      <th>variant_under_consideration</th>\n",
       "      <th>sequence_accession</th>\n",
       "      <th>publication_id</th>\n",
       "    </tr>\n",
       "  </thead>\n",
       "  <tbody>\n",
       "  </tbody>\n",
       "</table>\n",
       "</div>"
      ],
      "text/plain": [
       "Empty DataFrame\n",
       "Columns: [accession, variant, gi, ncbi_gene_id, hgnc_gene_name, taxonomy_id, organism, phylum, class, taxonomy_group, info, sequence, variant_under_consideration, sequence_accession, publication_id]\n",
       "Index: []"
      ]
     },
     "execution_count": 18,
     "metadata": {},
     "output_type": "execute_result"
    }
   ],
   "source": [
    "query = (\n",
    "    \"SELECT * FROM sequence s LEFT JOIN sequence_has_publication sp \"\n",
    "    \"ON s.accession = sp.sequence_accession \"\n",
    "    \"WHERE s.accession='XP_012928609.2'\"\n",
    ")\n",
    "cursor.execute(query)\n",
    "df = pd.DataFrame(cursor.fetchall(), columns=[i[0] for i in cursor.description])\n",
    "df"
   ]
  },
  {
   "cell_type": "code",
   "execution_count": 19,
   "id": "9de81f90-387b-4f5d-9103-728005a84d7f",
   "metadata": {
    "tags": []
   },
   "outputs": [
    {
     "data": {
      "text/html": [
       "<div>\n",
       "<style scoped>\n",
       "    .dataframe tbody tr th:only-of-type {\n",
       "        vertical-align: middle;\n",
       "    }\n",
       "\n",
       "    .dataframe tbody tr th {\n",
       "        vertical-align: top;\n",
       "    }\n",
       "\n",
       "    .dataframe thead th {\n",
       "        text-align: right;\n",
       "    }\n",
       "</style>\n",
       "<table border=\"1\" class=\"dataframe\">\n",
       "  <thead>\n",
       "    <tr style=\"text-align: right;\">\n",
       "      <th></th>\n",
       "      <th>accession</th>\n",
       "      <th>variant</th>\n",
       "      <th>gi</th>\n",
       "      <th>ncbi_gene_id</th>\n",
       "      <th>hgnc_gene_name</th>\n",
       "      <th>taxonomy_id</th>\n",
       "      <th>organism</th>\n",
       "      <th>phylum</th>\n",
       "      <th>class</th>\n",
       "      <th>taxonomy_group</th>\n",
       "      <th>info</th>\n",
       "      <th>sequence</th>\n",
       "      <th>variant_under_consideration</th>\n",
       "      <th>sequence_accession</th>\n",
       "      <th>publication_id</th>\n",
       "    </tr>\n",
       "  </thead>\n",
       "  <tbody>\n",
       "    <tr>\n",
       "      <th>0</th>\n",
       "      <td>XP_012928609.1</td>\n",
       "      <td>cH4</td>\n",
       "      <td>861442511</td>\n",
       "      <td>None</td>\n",
       "      <td>None</td>\n",
       "      <td>10181</td>\n",
       "      <td>Heterocephalus glaber</td>\n",
       "      <td>Chordata</td>\n",
       "      <td>Mammalia</td>\n",
       "      <td>None</td>\n",
       "      <td>None</td>\n",
       "      <td>MSGRGKGGKGLGKGGAKRHRKVLRDNIQGITKPAIRRLARRGGVKR...</td>\n",
       "      <td>None</td>\n",
       "      <td>None</td>\n",
       "      <td>None</td>\n",
       "    </tr>\n",
       "  </tbody>\n",
       "</table>\n",
       "</div>"
      ],
      "text/plain": [
       "        accession variant         gi ncbi_gene_id hgnc_gene_name  taxonomy_id  \\\n",
       "0  XP_012928609.1     cH4  861442511         None           None        10181   \n",
       "\n",
       "                organism    phylum     class taxonomy_group  info  \\\n",
       "0  Heterocephalus glaber  Chordata  Mammalia           None  None   \n",
       "\n",
       "                                            sequence  \\\n",
       "0  MSGRGKGGKGLGKGGAKRHRKVLRDNIQGITKPAIRRLARRGGVKR...   \n",
       "\n",
       "  variant_under_consideration sequence_accession publication_id  \n",
       "0                        None               None           None  "
      ]
     },
     "execution_count": 19,
     "metadata": {},
     "output_type": "execute_result"
    }
   ],
   "source": [
    "query = (\n",
    "    \"SELECT * FROM sequence s LEFT JOIN sequence_has_publication sp \"\n",
    "    \"ON s.accession = sp.sequence_accession \"\n",
    "    \"WHERE s.accession='XP_012928609.1'\"\n",
    ")\n",
    "cursor.execute(query)\n",
    "df = pd.DataFrame(cursor.fetchall(), columns=[i[0] for i in cursor.description])\n",
    "df"
   ]
  },
  {
   "cell_type": "markdown",
   "id": "01f74eb9-bc11-44ce-9520-f74c8e4db13a",
   "metadata": {
    "jp-MarkdownHeadingCollapsed": true,
    "tags": []
   },
   "source": [
    "# Update sequence XP_002365268.2 to previous version XP_002365268.1\n",
    "\n",
    "Новая версия записи низкого качества (по данным из NCBI). Последовательность имеет длинный лишний фрагмент с N-конца."
   ]
  },
  {
   "cell_type": "code",
   "execution_count": 20,
   "id": "080c29bf-9bdc-4dfb-af23-ad671fea65ca",
   "metadata": {
    "tags": []
   },
   "outputs": [
    {
     "data": {
      "text/html": [
       "<div>\n",
       "<style scoped>\n",
       "    .dataframe tbody tr th:only-of-type {\n",
       "        vertical-align: middle;\n",
       "    }\n",
       "\n",
       "    .dataframe tbody tr th {\n",
       "        vertical-align: top;\n",
       "    }\n",
       "\n",
       "    .dataframe thead th {\n",
       "        text-align: right;\n",
       "    }\n",
       "</style>\n",
       "<table border=\"1\" class=\"dataframe\">\n",
       "  <thead>\n",
       "    <tr style=\"text-align: right;\">\n",
       "      <th></th>\n",
       "      <th>accession</th>\n",
       "      <th>variant</th>\n",
       "      <th>gi</th>\n",
       "      <th>ncbi_gene_id</th>\n",
       "      <th>hgnc_gene_name</th>\n",
       "      <th>taxonomy_id</th>\n",
       "      <th>organism</th>\n",
       "      <th>phylum</th>\n",
       "      <th>class</th>\n",
       "      <th>taxonomy_group</th>\n",
       "      <th>info</th>\n",
       "      <th>sequence</th>\n",
       "      <th>variant_under_consideration</th>\n",
       "      <th>sequence_accession</th>\n",
       "      <th>publication_id</th>\n",
       "    </tr>\n",
       "  </thead>\n",
       "  <tbody>\n",
       "    <tr>\n",
       "      <th>0</th>\n",
       "      <td>XP_002365268.2</td>\n",
       "      <td>cH2A_(Protists)</td>\n",
       "      <td>237831941</td>\n",
       "      <td>None</td>\n",
       "      <td>None</td>\n",
       "      <td>508771</td>\n",
       "      <td>Toxoplasma gondii ME49</td>\n",
       "      <td>Apicomplexa</td>\n",
       "      <td>Conoidasida</td>\n",
       "      <td>None</td>\n",
       "      <td>None</td>\n",
       "      <td>MWLCDWAKEPEVSFFDSYKISAGNTHTCFPTRGRLLPVFLGSFLHS...</td>\n",
       "      <td>None</td>\n",
       "      <td>XP_002365268.2</td>\n",
       "      <td>22650316</td>\n",
       "    </tr>\n",
       "    <tr>\n",
       "      <th>1</th>\n",
       "      <td>XP_002365268.2</td>\n",
       "      <td>cH2A_(Protists)</td>\n",
       "      <td>237831941</td>\n",
       "      <td>None</td>\n",
       "      <td>None</td>\n",
       "      <td>508771</td>\n",
       "      <td>Toxoplasma gondii ME49</td>\n",
       "      <td>Apicomplexa</td>\n",
       "      <td>Conoidasida</td>\n",
       "      <td>None</td>\n",
       "      <td>None</td>\n",
       "      <td>MWLCDWAKEPEVSFFDSYKISAGNTHTCFPTRGRLLPVFLGSFLHS...</td>\n",
       "      <td>None</td>\n",
       "      <td>XP_002365268.2</td>\n",
       "      <td>26989147</td>\n",
       "    </tr>\n",
       "  </tbody>\n",
       "</table>\n",
       "</div>"
      ],
      "text/plain": [
       "        accession          variant         gi ncbi_gene_id hgnc_gene_name  \\\n",
       "0  XP_002365268.2  cH2A_(Protists)  237831941         None           None   \n",
       "1  XP_002365268.2  cH2A_(Protists)  237831941         None           None   \n",
       "\n",
       "   taxonomy_id                organism       phylum        class  \\\n",
       "0       508771  Toxoplasma gondii ME49  Apicomplexa  Conoidasida   \n",
       "1       508771  Toxoplasma gondii ME49  Apicomplexa  Conoidasida   \n",
       "\n",
       "  taxonomy_group  info                                           sequence  \\\n",
       "0           None  None  MWLCDWAKEPEVSFFDSYKISAGNTHTCFPTRGRLLPVFLGSFLHS...   \n",
       "1           None  None  MWLCDWAKEPEVSFFDSYKISAGNTHTCFPTRGRLLPVFLGSFLHS...   \n",
       "\n",
       "  variant_under_consideration sequence_accession publication_id  \n",
       "0                        None     XP_002365268.2       22650316  \n",
       "1                        None     XP_002365268.2       26989147  "
      ]
     },
     "execution_count": 20,
     "metadata": {},
     "output_type": "execute_result"
    }
   ],
   "source": [
    "query = (\n",
    "    \"SELECT * FROM sequence s LEFT JOIN sequence_has_publication sp \"\n",
    "    \"ON s.accession = sp.sequence_accession \"\n",
    "    \"WHERE s.accession='XP_002365268.2'\"\n",
    ")\n",
    "cursor.execute(query)\n",
    "df = pd.DataFrame(cursor.fetchall(), columns=[i[0] for i in cursor.description])\n",
    "df"
   ]
  },
  {
   "cell_type": "code",
   "execution_count": 21,
   "id": "ec77d2e3-5dd0-427b-824b-9876e2a5cc40",
   "metadata": {
    "tags": []
   },
   "outputs": [
    {
     "data": {
      "text/html": [
       "<div>\n",
       "<style scoped>\n",
       "    .dataframe tbody tr th:only-of-type {\n",
       "        vertical-align: middle;\n",
       "    }\n",
       "\n",
       "    .dataframe tbody tr th {\n",
       "        vertical-align: top;\n",
       "    }\n",
       "\n",
       "    .dataframe thead th {\n",
       "        text-align: right;\n",
       "    }\n",
       "</style>\n",
       "<table border=\"1\" class=\"dataframe\">\n",
       "  <thead>\n",
       "    <tr style=\"text-align: right;\">\n",
       "      <th></th>\n",
       "      <th>accession</th>\n",
       "      <th>publication_id</th>\n",
       "    </tr>\n",
       "  </thead>\n",
       "  <tbody>\n",
       "    <tr>\n",
       "      <th>0</th>\n",
       "      <td>XP_002365268.2</td>\n",
       "      <td>[22650316, 26989147]</td>\n",
       "    </tr>\n",
       "  </tbody>\n",
       "</table>\n",
       "</div>"
      ],
      "text/plain": [
       "        accession        publication_id\n",
       "0  XP_002365268.2  [22650316, 26989147]"
      ]
     },
     "execution_count": 21,
     "metadata": {},
     "output_type": "execute_result"
    }
   ],
   "source": [
    "df.groupby([\"accession\"])[\"publication_id\"].apply(\n",
    "    lambda x: [] if x.dropna().empty else list(x.unique())\n",
    ").reset_index()"
   ]
  },
  {
   "cell_type": "markdown",
   "id": "88225663-0e59-4b75-86ee-c321f37cc549",
   "metadata": {},
   "source": [
    "## Delete relations with publications befor updating sequence record"
   ]
  },
  {
   "cell_type": "code",
   "execution_count": 23,
   "id": "5d9c7dc2-7d2c-48ef-802f-f1b93e25cbb0",
   "metadata": {
    "tags": []
   },
   "outputs": [],
   "source": [
    "publications = [\"22650316\", \"26989147\"]"
   ]
  },
  {
   "cell_type": "code",
   "execution_count": 28,
   "id": "9547f29a-de80-4325-b719-1ed08b14e9f8",
   "metadata": {
    "tags": []
   },
   "outputs": [],
   "source": [
    "query = \"DELETE FROM sequence_has_publication WHERE sequence_accession='XP_002365268.2'\"\n",
    "cursor.execute(query)"
   ]
  },
  {
   "cell_type": "code",
   "execution_count": 29,
   "id": "1aa833c2-f4eb-471d-9d18-accdf40e0ed1",
   "metadata": {
    "tags": []
   },
   "outputs": [
    {
     "data": {
      "text/html": [
       "<div>\n",
       "<style scoped>\n",
       "    .dataframe tbody tr th:only-of-type {\n",
       "        vertical-align: middle;\n",
       "    }\n",
       "\n",
       "    .dataframe tbody tr th {\n",
       "        vertical-align: top;\n",
       "    }\n",
       "\n",
       "    .dataframe thead th {\n",
       "        text-align: right;\n",
       "    }\n",
       "</style>\n",
       "<table border=\"1\" class=\"dataframe\">\n",
       "  <thead>\n",
       "    <tr style=\"text-align: right;\">\n",
       "      <th></th>\n",
       "      <th>accession</th>\n",
       "      <th>publication_id</th>\n",
       "    </tr>\n",
       "  </thead>\n",
       "  <tbody>\n",
       "    <tr>\n",
       "      <th>0</th>\n",
       "      <td>XP_002365268.2</td>\n",
       "      <td>[]</td>\n",
       "    </tr>\n",
       "  </tbody>\n",
       "</table>\n",
       "</div>"
      ],
      "text/plain": [
       "        accession publication_id\n",
       "0  XP_002365268.2             []"
      ]
     },
     "execution_count": 29,
     "metadata": {},
     "output_type": "execute_result"
    }
   ],
   "source": [
    "query = (\n",
    "    \"SELECT * FROM sequence s LEFT JOIN sequence_has_publication sp \"\n",
    "    \"ON s.accession = sp.sequence_accession \"\n",
    "    \"WHERE s.accession='XP_002365268.2'\"\n",
    ")\n",
    "cursor.execute(query)\n",
    "df = pd.DataFrame(cursor.fetchall(), columns=[i[0] for i in cursor.description])\n",
    "df.groupby([\"accession\"])[\"publication_id\"].apply(\n",
    "    lambda x: [] if x.dropna().empty else list(x.unique())\n",
    ").reset_index()"
   ]
  },
  {
   "cell_type": "markdown",
   "id": "6845efb9-d49e-43e4-882a-372cc7274a37",
   "metadata": {
    "tags": []
   },
   "source": [
    "## Get sequence XP_002365268.1 from NCBI"
   ]
  },
  {
   "cell_type": "code",
   "execution_count": 30,
   "id": "8f75e988-0c0c-477f-af6f-8362f6f75af8",
   "metadata": {
    "tags": []
   },
   "outputs": [
    {
     "name": "stdout",
     "output_type": "stream",
     "text": [
      "ID: XP_002365268.1\n",
      "Name: XP_002365268\n",
      "Description: histone H2A, putative [Toxoplasma gondii ME49]\n",
      "Number of features: 4\n",
      "/topology=linear\n",
      "/data_file_division=INV\n",
      "/date=21-NOV-2012\n",
      "/accessions=['XP_002365268']\n",
      "/sequence_version=1\n",
      "/db_source=REFSEQ: accession XM_002365227.1\n",
      "/keywords=['RefSeq']\n",
      "/source=Toxoplasma gondii ME49\n",
      "/organism=Toxoplasma gondii ME49\n",
      "/taxonomy=['Eukaryota', 'Alveolata', 'Apicomplexa', 'Conoidasida', 'Coccidia', 'Eucoccidiorida', 'Eimeriorina', 'Sarcocystidae', 'Toxoplasma']\n",
      "/references=[Reference(title='Annotation of Toxoplasma gondii ME49', ...), Reference(title='Direct Submission', ...)]\n",
      "/comment=PROVISIONAL REFSEQ: This record has not yet been subject to final\n",
      "NCBI review. The reference sequence was derived from EEA98127.\n",
      "[WARNING] On Oct 20, 2016 this sequence was replaced by\n",
      "XP_002365268.2.\n",
      "Method: conceptual translation.\n",
      "/molecule_type=protein\n",
      "Seq('MSAKGKGGRAKKSGKSSSKSAKAGLQFPVGRIGRYLKKGRYAKRVGAGAPVYMA...KSQ')\n"
     ]
    }
   ],
   "source": [
    "with Entrez.efetch(\n",
    "    db=\"protein\", id=\"XP_002365268.1\", rettype=\"gb\", retmode=\"text\"\n",
    ") as handle:\n",
    "    record = SeqIO.read(handle, \"genbank\")\n",
    "    print(record)"
   ]
  },
  {
   "cell_type": "code",
   "execution_count": 31,
   "id": "3a08f2dd-0873-4a85-987c-e6830745cbdb",
   "metadata": {
    "tags": []
   },
   "outputs": [
    {
     "data": {
      "text/plain": [
       "'MSAKGKGGRAKKSGKSSSKSAKAGLQFPVGRIGRYLKKGRYAKRVGAGAPVYMAAVLEYLCAEILELAGNAARDHKKTRIIPRHIQLAVRNDEELSKFLGGVTIASGGVMPNVHSVLLPKKSKGKKSQ'"
      ]
     },
     "execution_count": 31,
     "metadata": {},
     "output_type": "execute_result"
    }
   ],
   "source": [
    "str(record.seq)"
   ]
  },
  {
   "cell_type": "markdown",
   "id": "9d52dd0f-f5a2-45e7-b9aa-ac9faf2abaec",
   "metadata": {},
   "source": [
    "## Updating"
   ]
  },
  {
   "cell_type": "code",
   "execution_count": 32,
   "id": "305d8d1a-ad93-4491-b21b-3336b67e0ba5",
   "metadata": {
    "tags": []
   },
   "outputs": [
    {
     "name": "stdout",
     "output_type": "stream",
     "text": [
      "UPDATE sequence SET accession='XP_002365268.1', sequence='MSAKGKGGRAKKSGKSSSKSAKAGLQFPVGRIGRYLKKGRYAKRVGAGAPVYMAAVLEYLCAEILELAGNAARDHKKTRIIPRHIQLAVRNDEELSKFLGGVTIASGGVMPNVHSVLLPKKSKGKKSQ' WHERE accession='XP_002365268.2'\n"
     ]
    }
   ],
   "source": [
    "query = (\n",
    "    \"UPDATE sequence SET accession='XP_002365268.1', \"\n",
    "    f\"sequence='{str(record.seq)}' \"\n",
    "    \"WHERE accession='XP_002365268.2'\"\n",
    ")\n",
    "print(query)"
   ]
  },
  {
   "cell_type": "code",
   "execution_count": 33,
   "id": "4809e906-793c-467e-afda-c87875b23dde",
   "metadata": {
    "tags": []
   },
   "outputs": [],
   "source": [
    "cursor.execute(query)"
   ]
  },
  {
   "cell_type": "code",
   "execution_count": 34,
   "id": "f35ff306-463a-4d13-9c0a-6f34c5eab58e",
   "metadata": {
    "tags": []
   },
   "outputs": [
    {
     "data": {
      "text/html": [
       "<div>\n",
       "<style scoped>\n",
       "    .dataframe tbody tr th:only-of-type {\n",
       "        vertical-align: middle;\n",
       "    }\n",
       "\n",
       "    .dataframe tbody tr th {\n",
       "        vertical-align: top;\n",
       "    }\n",
       "\n",
       "    .dataframe thead th {\n",
       "        text-align: right;\n",
       "    }\n",
       "</style>\n",
       "<table border=\"1\" class=\"dataframe\">\n",
       "  <thead>\n",
       "    <tr style=\"text-align: right;\">\n",
       "      <th></th>\n",
       "      <th>accession</th>\n",
       "      <th>variant</th>\n",
       "      <th>gi</th>\n",
       "      <th>ncbi_gene_id</th>\n",
       "      <th>hgnc_gene_name</th>\n",
       "      <th>taxonomy_id</th>\n",
       "      <th>organism</th>\n",
       "      <th>phylum</th>\n",
       "      <th>class</th>\n",
       "      <th>taxonomy_group</th>\n",
       "      <th>info</th>\n",
       "      <th>sequence</th>\n",
       "      <th>variant_under_consideration</th>\n",
       "      <th>sequence_accession</th>\n",
       "      <th>publication_id</th>\n",
       "    </tr>\n",
       "  </thead>\n",
       "  <tbody>\n",
       "  </tbody>\n",
       "</table>\n",
       "</div>"
      ],
      "text/plain": [
       "Empty DataFrame\n",
       "Columns: [accession, variant, gi, ncbi_gene_id, hgnc_gene_name, taxonomy_id, organism, phylum, class, taxonomy_group, info, sequence, variant_under_consideration, sequence_accession, publication_id]\n",
       "Index: []"
      ]
     },
     "execution_count": 34,
     "metadata": {},
     "output_type": "execute_result"
    }
   ],
   "source": [
    "query = (\n",
    "    \"SELECT * FROM sequence s LEFT JOIN sequence_has_publication sp \"\n",
    "    \"ON s.accession = sp.sequence_accession \"\n",
    "    \"WHERE s.accession='XP_002365268.2'\"\n",
    ")\n",
    "cursor.execute(query)\n",
    "df = pd.DataFrame(cursor.fetchall(), columns=[i[0] for i in cursor.description])\n",
    "df"
   ]
  },
  {
   "cell_type": "code",
   "execution_count": 35,
   "id": "8d7d0c0c-ff53-4047-a0e5-5a1b3f7a7840",
   "metadata": {
    "tags": []
   },
   "outputs": [
    {
     "data": {
      "text/html": [
       "<div>\n",
       "<style scoped>\n",
       "    .dataframe tbody tr th:only-of-type {\n",
       "        vertical-align: middle;\n",
       "    }\n",
       "\n",
       "    .dataframe tbody tr th {\n",
       "        vertical-align: top;\n",
       "    }\n",
       "\n",
       "    .dataframe thead th {\n",
       "        text-align: right;\n",
       "    }\n",
       "</style>\n",
       "<table border=\"1\" class=\"dataframe\">\n",
       "  <thead>\n",
       "    <tr style=\"text-align: right;\">\n",
       "      <th></th>\n",
       "      <th>accession</th>\n",
       "      <th>variant</th>\n",
       "      <th>gi</th>\n",
       "      <th>ncbi_gene_id</th>\n",
       "      <th>hgnc_gene_name</th>\n",
       "      <th>taxonomy_id</th>\n",
       "      <th>organism</th>\n",
       "      <th>phylum</th>\n",
       "      <th>class</th>\n",
       "      <th>taxonomy_group</th>\n",
       "      <th>info</th>\n",
       "      <th>sequence</th>\n",
       "      <th>variant_under_consideration</th>\n",
       "      <th>sequence_accession</th>\n",
       "      <th>publication_id</th>\n",
       "    </tr>\n",
       "  </thead>\n",
       "  <tbody>\n",
       "    <tr>\n",
       "      <th>0</th>\n",
       "      <td>XP_002365268.1</td>\n",
       "      <td>cH2A_(Protists)</td>\n",
       "      <td>237831941</td>\n",
       "      <td>None</td>\n",
       "      <td>None</td>\n",
       "      <td>508771</td>\n",
       "      <td>Toxoplasma gondii ME49</td>\n",
       "      <td>Apicomplexa</td>\n",
       "      <td>Conoidasida</td>\n",
       "      <td>None</td>\n",
       "      <td>None</td>\n",
       "      <td>MSAKGKGGRAKKSGKSSSKSAKAGLQFPVGRIGRYLKKGRYAKRVG...</td>\n",
       "      <td>None</td>\n",
       "      <td>None</td>\n",
       "      <td>None</td>\n",
       "    </tr>\n",
       "  </tbody>\n",
       "</table>\n",
       "</div>"
      ],
      "text/plain": [
       "        accession          variant         gi ncbi_gene_id hgnc_gene_name  \\\n",
       "0  XP_002365268.1  cH2A_(Protists)  237831941         None           None   \n",
       "\n",
       "   taxonomy_id                organism       phylum        class  \\\n",
       "0       508771  Toxoplasma gondii ME49  Apicomplexa  Conoidasida   \n",
       "\n",
       "  taxonomy_group  info                                           sequence  \\\n",
       "0           None  None  MSAKGKGGRAKKSGKSSSKSAKAGLQFPVGRIGRYLKKGRYAKRVG...   \n",
       "\n",
       "  variant_under_consideration sequence_accession publication_id  \n",
       "0                        None               None           None  "
      ]
     },
     "execution_count": 35,
     "metadata": {},
     "output_type": "execute_result"
    }
   ],
   "source": [
    "query = (\n",
    "    \"SELECT * FROM sequence s LEFT JOIN sequence_has_publication sp \"\n",
    "    \"ON s.accession = sp.sequence_accession \"\n",
    "    \"WHERE s.accession='XP_002365268.1'\"\n",
    ")\n",
    "cursor.execute(query)\n",
    "df = pd.DataFrame(cursor.fetchall(), columns=[i[0] for i in cursor.description])\n",
    "df"
   ]
  },
  {
   "cell_type": "markdown",
   "id": "cda8f048-bc51-493f-a356-6a19543be814",
   "metadata": {},
   "source": [
    "## Return relations to publications"
   ]
  },
  {
   "cell_type": "code",
   "execution_count": 36,
   "id": "ccc06aad-d00b-4d37-a48b-c122d1cfbc89",
   "metadata": {
    "tags": []
   },
   "outputs": [
    {
     "data": {
      "text/plain": [
       "['22650316', '26989147']"
      ]
     },
     "execution_count": 36,
     "metadata": {},
     "output_type": "execute_result"
    }
   ],
   "source": [
    "publications"
   ]
  },
  {
   "cell_type": "code",
   "execution_count": 38,
   "id": "9c9209dc-b1fb-41b3-973b-949679b0f095",
   "metadata": {
    "tags": []
   },
   "outputs": [],
   "source": [
    "for pid in publications:\n",
    "    cursor.execute(add_sequence_has_publication, (\"XP_002365268.1\", pid))"
   ]
  },
  {
   "cell_type": "code",
   "execution_count": 41,
   "id": "4a739069-7a60-40b6-bf9e-e36da9d84f8f",
   "metadata": {
    "tags": []
   },
   "outputs": [
    {
     "data": {
      "text/html": [
       "<div>\n",
       "<style scoped>\n",
       "    .dataframe tbody tr th:only-of-type {\n",
       "        vertical-align: middle;\n",
       "    }\n",
       "\n",
       "    .dataframe tbody tr th {\n",
       "        vertical-align: top;\n",
       "    }\n",
       "\n",
       "    .dataframe thead th {\n",
       "        text-align: right;\n",
       "    }\n",
       "</style>\n",
       "<table border=\"1\" class=\"dataframe\">\n",
       "  <thead>\n",
       "    <tr style=\"text-align: right;\">\n",
       "      <th></th>\n",
       "      <th>accession</th>\n",
       "      <th>variant</th>\n",
       "      <th>gi</th>\n",
       "      <th>ncbi_gene_id</th>\n",
       "      <th>hgnc_gene_name</th>\n",
       "      <th>taxonomy_id</th>\n",
       "      <th>organism</th>\n",
       "      <th>phylum</th>\n",
       "      <th>class</th>\n",
       "      <th>taxonomy_group</th>\n",
       "      <th>info</th>\n",
       "      <th>sequence</th>\n",
       "      <th>variant_under_consideration</th>\n",
       "      <th>sequence_accession</th>\n",
       "      <th>publication_id</th>\n",
       "    </tr>\n",
       "  </thead>\n",
       "  <tbody>\n",
       "    <tr>\n",
       "      <th>0</th>\n",
       "      <td>XP_002365268.1</td>\n",
       "      <td>cH2A_(Protists)</td>\n",
       "      <td>237831941</td>\n",
       "      <td>None</td>\n",
       "      <td>None</td>\n",
       "      <td>508771</td>\n",
       "      <td>Toxoplasma gondii ME49</td>\n",
       "      <td>Apicomplexa</td>\n",
       "      <td>Conoidasida</td>\n",
       "      <td>None</td>\n",
       "      <td>None</td>\n",
       "      <td>MSAKGKGGRAKKSGKSSSKSAKAGLQFPVGRIGRYLKKGRYAKRVG...</td>\n",
       "      <td>None</td>\n",
       "      <td>XP_002365268.1</td>\n",
       "      <td>22650316</td>\n",
       "    </tr>\n",
       "    <tr>\n",
       "      <th>1</th>\n",
       "      <td>XP_002365268.1</td>\n",
       "      <td>cH2A_(Protists)</td>\n",
       "      <td>237831941</td>\n",
       "      <td>None</td>\n",
       "      <td>None</td>\n",
       "      <td>508771</td>\n",
       "      <td>Toxoplasma gondii ME49</td>\n",
       "      <td>Apicomplexa</td>\n",
       "      <td>Conoidasida</td>\n",
       "      <td>None</td>\n",
       "      <td>None</td>\n",
       "      <td>MSAKGKGGRAKKSGKSSSKSAKAGLQFPVGRIGRYLKKGRYAKRVG...</td>\n",
       "      <td>None</td>\n",
       "      <td>XP_002365268.1</td>\n",
       "      <td>26989147</td>\n",
       "    </tr>\n",
       "  </tbody>\n",
       "</table>\n",
       "</div>"
      ],
      "text/plain": [
       "        accession          variant         gi ncbi_gene_id hgnc_gene_name  \\\n",
       "0  XP_002365268.1  cH2A_(Protists)  237831941         None           None   \n",
       "1  XP_002365268.1  cH2A_(Protists)  237831941         None           None   \n",
       "\n",
       "   taxonomy_id                organism       phylum        class  \\\n",
       "0       508771  Toxoplasma gondii ME49  Apicomplexa  Conoidasida   \n",
       "1       508771  Toxoplasma gondii ME49  Apicomplexa  Conoidasida   \n",
       "\n",
       "  taxonomy_group  info                                           sequence  \\\n",
       "0           None  None  MSAKGKGGRAKKSGKSSSKSAKAGLQFPVGRIGRYLKKGRYAKRVG...   \n",
       "1           None  None  MSAKGKGGRAKKSGKSSSKSAKAGLQFPVGRIGRYLKKGRYAKRVG...   \n",
       "\n",
       "  variant_under_consideration sequence_accession publication_id  \n",
       "0                        None     XP_002365268.1       22650316  \n",
       "1                        None     XP_002365268.1       26989147  "
      ]
     },
     "execution_count": 41,
     "metadata": {},
     "output_type": "execute_result"
    }
   ],
   "source": [
    "query = (\n",
    "    \"SELECT * FROM sequence s LEFT JOIN sequence_has_publication sp \"\n",
    "    \"ON s.accession = sp.sequence_accession \"\n",
    "    \"WHERE s.accession='XP_002365268.1'\"\n",
    ")\n",
    "cursor.execute(query)\n",
    "df = pd.DataFrame(cursor.fetchall(), columns=[i[0] for i in cursor.description])\n",
    "df"
   ]
  },
  {
   "cell_type": "code",
   "execution_count": 40,
   "id": "fd060206-5bd2-4055-8e4a-2a0017a71d3d",
   "metadata": {
    "tags": []
   },
   "outputs": [],
   "source": [
    "# Make sure data is committed to the database\n",
    "conn.commit()"
   ]
  },
  {
   "cell_type": "markdown",
   "id": "f8a61ec5-8426-4068-9929-02da2d0968a2",
   "metadata": {
    "jp-MarkdownHeadingCollapsed": true,
    "tags": []
   },
   "source": [
    "# Add rabbit H2B.K\n",
    "\n",
    "**Atricle:** https://academic.oup.com/mbe/article/39/2/msac019/6517784#333890704\n",
    "\n",
    "**Gene:** oryCun2, chr13, +-, 12617595-12619869\n",
    "\n",
    "**Protein accession:** XP_002715119.1\n",
    "\n",
    ">[Genome assembly OryCun2.0](https://www.ncbi.nlm.nih.gov/datasets/genome/GCF_000003625.3/)\n",
    ">\n",
    ">Status: RefSeq GCF_000003625.3 is suppressed\n",
    ">\n",
    ">This record was removed as a result of standard genome annotation processing. Please see www.ncbi.nlm.nih.gov/genome/annotation_euk/process/ for more information.\n",
    "\n",
    "Actual version is [Genome assembly UM_NZW_1.0](https://www.ncbi.nlm.nih.gov/datasets/genome/GCF_009806435.1/)\n",
    "\n",
    "**Protein accession after updating the genome assembly:** XP_002715119.2"
   ]
  },
  {
   "cell_type": "markdown",
   "id": "33c970bf-a012-4dff-9304-9a7283b98d95",
   "metadata": {
    "tags": []
   },
   "source": [
    "## Get sequence XP_002715119.2 from NCBI"
   ]
  },
  {
   "cell_type": "code",
   "execution_count": 8,
   "id": "5023c651-d160-46c7-879d-2b8c247f7faa",
   "metadata": {
    "tags": []
   },
   "outputs": [
    {
     "name": "stdout",
     "output_type": "stream",
     "text": [
      "ID: XP_002715119.2\n",
      "Name: XP_002715119\n",
      "Description: histone H2B type 2-K1 [Oryctolagus cuniculus]\n",
      "Database cross-references: BioProject:PRJNA896980\n",
      "Number of features: 7\n",
      "/topology=linear\n",
      "/data_file_division=MAM\n",
      "/date=09-MAR-2023\n",
      "/accessions=['XP_002715119']\n",
      "/sequence_version=2\n",
      "/db_source=REFSEQ: accession XM_002715073.3\n",
      "/keywords=['RefSeq']\n",
      "/source=Oryctolagus cuniculus (rabbit)\n",
      "/organism=Oryctolagus cuniculus\n",
      "/taxonomy=['Eukaryota', 'Metazoa', 'Chordata', 'Craniata', 'Vertebrata', 'Euteleostomi', 'Mammalia', 'Eutheria', 'Euarchontoglires', 'Glires', 'Lagomorpha', 'Leporidae', 'Oryctolagus']\n",
      "/comment=MODEL REFSEQ:  This record is predicted by automated computational\n",
      "analysis. This record is derived from a genomic sequence\n",
      "(NC_067386) annotated using gene prediction method: Gnomon.\n",
      "Also see:\n",
      "    Documentation of NCBI's Annotation Process\n",
      "On Nov 8, 2022 this sequence version replaced XP_002715119.1.\n",
      "COMPLETENESS: full length.\n",
      "/structured_comment=OrderedDict([('Genome-Annotation-Data', OrderedDict([('Annotation Provider', 'NCBI RefSeq'), ('Annotation Status', 'Updated annotation'), ('Annotation Name', 'GCF_009806435.1-RS_2023_02'), ('Annotation Pipeline', 'NCBI eukaryotic genome annotation pipeline'), ('Annotation Software Version', '10.1'), ('Annotation Method', 'Best-placed RefSeq; Gnomon; cmsearch; tRNAscan-SE'), ('Features Annotated', 'Gene; mRNA; CDS; ncRNA'), ('Annotation Date', '02/27/2023')]))])\n",
      "/molecule_type=protein\n",
      "Seq('MSAERGQQQQQASSRRGRSSGNKKSRKRSKRKETYSMYIYKVLKQVHPDIGISA...SSK')\n"
     ]
    }
   ],
   "source": [
    "with Entrez.efetch(\n",
    "    db=\"protein\", id=\"XP_002715119.2\", rettype=\"gb\", retmode=\"text\"\n",
    ") as handle:\n",
    "    record = SeqIO.read(handle, \"genbank\")\n",
    "    print(record)"
   ]
  },
  {
   "cell_type": "code",
   "execution_count": 9,
   "id": "7f00e20a-181a-4c8a-974d-373130268f62",
   "metadata": {
    "tags": []
   },
   "outputs": [
    {
     "data": {
      "text/plain": [
       "'MSAERGQQQQQASSRRGRSSGNKKSRKRSKRKETYSMYIYKVLKQVHPDIGISARAMSIMNSFVNDVFERLAGEAAQLAQYSGRSTLTSREVQTAVRLLLPGELAKHAVSEGTKAVTKYTSSK'"
      ]
     },
     "execution_count": 9,
     "metadata": {},
     "output_type": "execute_result"
    }
   ],
   "source": [
    "str(record.seq)"
   ]
  },
  {
   "cell_type": "code",
   "execution_count": 10,
   "id": "19b9b174-9ad9-42e2-9ab1-d57e6e68697b",
   "metadata": {
    "tags": []
   },
   "outputs": [
    {
     "data": {
      "text/plain": [
       "'Oryctolagus cuniculus'"
      ]
     },
     "execution_count": 10,
     "metadata": {},
     "output_type": "execute_result"
    }
   ],
   "source": [
    "record.annotations[\"organism\"]"
   ]
  },
  {
   "cell_type": "code",
   "execution_count": 24,
   "id": "ab3fd14f-0293-428b-aaa4-c80765f13e0b",
   "metadata": {
    "tags": []
   },
   "outputs": [
    {
     "name": "stdout",
     "output_type": "stream",
     "text": [
      "Fetched taxid from NCBI <built-in function id>\n"
     ]
    },
    {
     "data": {
      "text/plain": [
       "{'organism': 'Oryctolagus cuniculus',\n",
       " 'taxonomy_id': 9986,\n",
       " 'phylum': 'Chordata',\n",
       " 'class': 'Mammalia'}"
      ]
     },
     "execution_count": 24,
     "metadata": {},
     "output_type": "execute_result"
    }
   ],
   "source": [
    "# record.features[0].qualifiers['db_xref']\n",
    "taxonomy_data = {}\n",
    "taxonomy_data[\"organism\"] = record.annotations[\"organism\"]\n",
    "try:\n",
    "    for a in record.features[0].qualifiers[\"db_xref\"]:\n",
    "        text = re.search(\"(\\S+):(\\S+)\", a).group(1)\n",
    "        taxid = re.search(\"(\\S+):(\\S+)\", a).group(2)\n",
    "        if text == \"taxon\":\n",
    "            print(\"Fetched taxid from NCBI {}\".format(id))\n",
    "            taxonomy_data[\"taxonomy_id\"] = int(taxid)\n",
    "        else:\n",
    "            continue\n",
    "except:\n",
    "    print(\"!!!!!!Unable to get TAXID for \\n {} setting it to 1\".format(s))\n",
    "    taxids.append(1)  # unable to identify\n",
    "\n",
    "lineage = dict()\n",
    "for i in range(10):\n",
    "    try:\n",
    "        handle = Entrez.efetch(\n",
    "            id=taxonomy_data[\"taxonomy_id\"], db=\"taxonomy\", retmode=\"xml\"\n",
    "        )\n",
    "        tax_data = Entrez.read(handle)\n",
    "        lineage = {\n",
    "            d[\"Rank\"]: d[\"ScientificName\"]\n",
    "            for d in tax_data[0][\"LineageEx\"]\n",
    "            if d[\"Rank\"] in [\"class\", \"phylum\"]\n",
    "        }\n",
    "        break\n",
    "    except:\n",
    "        print(\"Unexpected error: {}, Retrying, attempt {}\".format(sys.exc_info()[0], i))\n",
    "        if i == 9:\n",
    "            print(\n",
    "                f\"FATAL ERROR could not get class and phylum from NCBI after 10 attempts for taxid:{taxonomy_data['taxonomy_id']}. Will add None for class and phylum!\"\n",
    "            )\n",
    "        else:\n",
    "            continue\n",
    "taxonomy_data[\"phylum\"] = lineage.get(\"phylum\", None)\n",
    "taxonomy_data[\"class\"] = lineage.get(\"class\", None)\n",
    "if taxonomy_data[\"phylum\"] is not None: taxonomy_data[\"phylum\"] = str(taxonomy_data[\"phylum\"])\n",
    "if taxonomy_data[\"class\"] is not None: taxonomy_data[\"class\"] = str(taxonomy_data[\"class\"])\n",
    "taxonomy_data"
   ]
  },
  {
   "cell_type": "markdown",
   "id": "b4cf73c3-62b9-4edb-98b0-fa01de6a5c84",
   "metadata": {},
   "source": [
    "## Adding"
   ]
  },
  {
   "cell_type": "code",
   "execution_count": 25,
   "id": "03b16cf8-b653-4635-a92d-a8462810be16",
   "metadata": {
    "tags": []
   },
   "outputs": [
    {
     "data": {
      "text/plain": [
       "{'accession': 'XP_002715119.2',\n",
       " 'variant': 'H2B.K',\n",
       " 'gi': None,\n",
       " 'ncbi_gene_id': None,\n",
       " 'hgnc_gene_name': None,\n",
       " 'taxonomy_id': 9986,\n",
       " 'organism': 'Oryctolagus cuniculus',\n",
       " 'phylum': 'Chordata',\n",
       " 'class': 'Mammalia',\n",
       " 'taxonomy_group': None,\n",
       " 'info': None,\n",
       " 'sequence': 'MSAERGQQQQQASSRRGRSSGNKKSRKRSKRKETYSMYIYKVLKQVHPDIGISARAMSIMNSFVNDVFERLAGEAAQLAQYSGRSTLTSREVQTAVRLLLPGELAKHAVSEGTKAVTKYTSSK',\n",
       " 'variant_under_consideration': None}"
      ]
     },
     "execution_count": 25,
     "metadata": {},
     "output_type": "execute_result"
    }
   ],
   "source": [
    "data_sequence = {\n",
    "    \"accession\": \"XP_002715119.2\",\n",
    "    \"variant\": \"H2B.K\",\n",
    "    \"gi\": None,\n",
    "    \"ncbi_gene_id\": None,\n",
    "    \"hgnc_gene_name\": None,\n",
    "    \"taxonomy_id\": None,\n",
    "    \"organism\": None,\n",
    "    \"phylum\": None,\n",
    "    \"class\": None,\n",
    "    \"taxonomy_group\": None,\n",
    "    \"info\": None,\n",
    "    \"sequence\": str(record.seq),\n",
    "    \"variant_under_consideration\": None,\n",
    "}\n",
    "data_sequence.update(taxonomy_data)\n",
    "data_sequence"
   ]
  },
  {
   "cell_type": "code",
   "execution_count": 26,
   "id": "250d191c-78a1-41ed-9260-1a9c09ce821c",
   "metadata": {
    "tags": []
   },
   "outputs": [
    {
     "name": "stdout",
     "output_type": "stream",
     "text": [
      "accession <class 'str'>\n",
      "variant <class 'str'>\n",
      "gi <class 'NoneType'>\n",
      "ncbi_gene_id <class 'NoneType'>\n",
      "hgnc_gene_name <class 'NoneType'>\n",
      "taxonomy_id <class 'int'>\n",
      "organism <class 'str'>\n",
      "phylum <class 'str'>\n",
      "class <class 'str'>\n",
      "taxonomy_group <class 'NoneType'>\n",
      "info <class 'NoneType'>\n",
      "sequence <class 'str'>\n",
      "variant_under_consideration <class 'NoneType'>\n"
     ]
    }
   ],
   "source": [
    "for k, v in data_sequence.items():\n",
    "    print(k, type(v))"
   ]
  },
  {
   "cell_type": "code",
   "execution_count": 27,
   "id": "08311ab2-cdba-4202-9640-7603dad94751",
   "metadata": {
    "tags": []
   },
   "outputs": [],
   "source": [
    "cursor.execute(add_sequence, data_sequence)"
   ]
  },
  {
   "cell_type": "code",
   "execution_count": 28,
   "id": "937813fb-b38f-4089-8d8f-a81120774239",
   "metadata": {
    "tags": []
   },
   "outputs": [
    {
     "data": {
      "text/html": [
       "<div>\n",
       "<style scoped>\n",
       "    .dataframe tbody tr th:only-of-type {\n",
       "        vertical-align: middle;\n",
       "    }\n",
       "\n",
       "    .dataframe tbody tr th {\n",
       "        vertical-align: top;\n",
       "    }\n",
       "\n",
       "    .dataframe thead th {\n",
       "        text-align: right;\n",
       "    }\n",
       "</style>\n",
       "<table border=\"1\" class=\"dataframe\">\n",
       "  <thead>\n",
       "    <tr style=\"text-align: right;\">\n",
       "      <th></th>\n",
       "      <th>accession</th>\n",
       "      <th>variant</th>\n",
       "      <th>gi</th>\n",
       "      <th>ncbi_gene_id</th>\n",
       "      <th>hgnc_gene_name</th>\n",
       "      <th>taxonomy_id</th>\n",
       "      <th>organism</th>\n",
       "      <th>phylum</th>\n",
       "      <th>class</th>\n",
       "      <th>taxonomy_group</th>\n",
       "      <th>info</th>\n",
       "      <th>sequence</th>\n",
       "      <th>variant_under_consideration</th>\n",
       "      <th>sequence_accession</th>\n",
       "      <th>publication_id</th>\n",
       "    </tr>\n",
       "  </thead>\n",
       "  <tbody>\n",
       "    <tr>\n",
       "      <th>0</th>\n",
       "      <td>XP_002715119.2</td>\n",
       "      <td>H2B.K</td>\n",
       "      <td>None</td>\n",
       "      <td>None</td>\n",
       "      <td>None</td>\n",
       "      <td>9986</td>\n",
       "      <td>Oryctolagus cuniculus</td>\n",
       "      <td>Chordata</td>\n",
       "      <td>Mammalia</td>\n",
       "      <td>None</td>\n",
       "      <td>None</td>\n",
       "      <td>MSAERGQQQQQASSRRGRSSGNKKSRKRSKRKETYSMYIYKVLKQV...</td>\n",
       "      <td>None</td>\n",
       "      <td>None</td>\n",
       "      <td>None</td>\n",
       "    </tr>\n",
       "  </tbody>\n",
       "</table>\n",
       "</div>"
      ],
      "text/plain": [
       "        accession variant    gi ncbi_gene_id hgnc_gene_name  taxonomy_id  \\\n",
       "0  XP_002715119.2   H2B.K  None         None           None         9986   \n",
       "\n",
       "                organism    phylum     class taxonomy_group  info  \\\n",
       "0  Oryctolagus cuniculus  Chordata  Mammalia           None  None   \n",
       "\n",
       "                                            sequence  \\\n",
       "0  MSAERGQQQQQASSRRGRSSGNKKSRKRSKRKETYSMYIYKVLKQV...   \n",
       "\n",
       "  variant_under_consideration sequence_accession publication_id  \n",
       "0                        None               None           None  "
      ]
     },
     "execution_count": 28,
     "metadata": {},
     "output_type": "execute_result"
    }
   ],
   "source": [
    "query = (\n",
    "    \"SELECT * FROM sequence s LEFT JOIN sequence_has_publication sp \"\n",
    "    \"ON s.accession = sp.sequence_accession \"\n",
    "    \"WHERE s.accession='XP_002715119.2'\"\n",
    ")\n",
    "cursor.execute(query)\n",
    "df = pd.DataFrame(cursor.fetchall(), columns=[i[0] for i in cursor.description])\n",
    "df"
   ]
  },
  {
   "cell_type": "markdown",
   "id": "51176e27-43ff-49cc-9499-40e039595a17",
   "metadata": {},
   "source": [
    "## Add publication"
   ]
  },
  {
   "cell_type": "code",
   "execution_count": 29,
   "id": "b81a58f1-246f-4a04-a1f0-5bb51a7d1983",
   "metadata": {
    "tags": []
   },
   "outputs": [
    {
     "data": {
      "text/html": [
       "<div>\n",
       "<style scoped>\n",
       "    .dataframe tbody tr th:only-of-type {\n",
       "        vertical-align: middle;\n",
       "    }\n",
       "\n",
       "    .dataframe tbody tr th {\n",
       "        vertical-align: top;\n",
       "    }\n",
       "\n",
       "    .dataframe thead th {\n",
       "        text-align: right;\n",
       "    }\n",
       "</style>\n",
       "<table border=\"1\" class=\"dataframe\">\n",
       "  <thead>\n",
       "    <tr style=\"text-align: right;\">\n",
       "      <th></th>\n",
       "      <th>id</th>\n",
       "      <th>title</th>\n",
       "      <th>doi</th>\n",
       "      <th>author</th>\n",
       "      <th>year</th>\n",
       "    </tr>\n",
       "  </thead>\n",
       "  <tbody>\n",
       "    <tr>\n",
       "      <th>0</th>\n",
       "      <td>35099534</td>\n",
       "      <td>None</td>\n",
       "      <td>None</td>\n",
       "      <td>None</td>\n",
       "      <td>None</td>\n",
       "    </tr>\n",
       "  </tbody>\n",
       "</table>\n",
       "</div>"
      ],
      "text/plain": [
       "         id title   doi author  year\n",
       "0  35099534  None  None   None  None"
      ]
     },
     "execution_count": 29,
     "metadata": {},
     "output_type": "execute_result"
    }
   ],
   "source": [
    "pid = \"35099534\"\n",
    "query = \"SELECT * FROM publication WHERE id='35099534'\"\n",
    "cursor.execute(query)\n",
    "pd.DataFrame(cursor.fetchall(), columns=[i[0] for i in cursor.description])"
   ]
  },
  {
   "cell_type": "code",
   "execution_count": 30,
   "id": "7f8c82f4-bce5-459c-8dde-0ada515aa218",
   "metadata": {
    "tags": []
   },
   "outputs": [],
   "source": [
    "cursor.execute(add_sequence_has_publication, (\"XP_002715119.2\", pid))"
   ]
  },
  {
   "cell_type": "code",
   "execution_count": 31,
   "id": "d21a2334-dd7a-47df-810c-ceb8588aa495",
   "metadata": {
    "tags": []
   },
   "outputs": [
    {
     "data": {
      "text/html": [
       "<div>\n",
       "<style scoped>\n",
       "    .dataframe tbody tr th:only-of-type {\n",
       "        vertical-align: middle;\n",
       "    }\n",
       "\n",
       "    .dataframe tbody tr th {\n",
       "        vertical-align: top;\n",
       "    }\n",
       "\n",
       "    .dataframe thead th {\n",
       "        text-align: right;\n",
       "    }\n",
       "</style>\n",
       "<table border=\"1\" class=\"dataframe\">\n",
       "  <thead>\n",
       "    <tr style=\"text-align: right;\">\n",
       "      <th></th>\n",
       "      <th>accession</th>\n",
       "      <th>variant</th>\n",
       "      <th>gi</th>\n",
       "      <th>ncbi_gene_id</th>\n",
       "      <th>hgnc_gene_name</th>\n",
       "      <th>taxonomy_id</th>\n",
       "      <th>organism</th>\n",
       "      <th>phylum</th>\n",
       "      <th>class</th>\n",
       "      <th>taxonomy_group</th>\n",
       "      <th>info</th>\n",
       "      <th>sequence</th>\n",
       "      <th>variant_under_consideration</th>\n",
       "      <th>sequence_accession</th>\n",
       "      <th>publication_id</th>\n",
       "    </tr>\n",
       "  </thead>\n",
       "  <tbody>\n",
       "    <tr>\n",
       "      <th>0</th>\n",
       "      <td>XP_002715119.2</td>\n",
       "      <td>H2B.K</td>\n",
       "      <td>None</td>\n",
       "      <td>None</td>\n",
       "      <td>None</td>\n",
       "      <td>9986</td>\n",
       "      <td>Oryctolagus cuniculus</td>\n",
       "      <td>Chordata</td>\n",
       "      <td>Mammalia</td>\n",
       "      <td>None</td>\n",
       "      <td>None</td>\n",
       "      <td>MSAERGQQQQQASSRRGRSSGNKKSRKRSKRKETYSMYIYKVLKQV...</td>\n",
       "      <td>None</td>\n",
       "      <td>XP_002715119.2</td>\n",
       "      <td>35099534</td>\n",
       "    </tr>\n",
       "  </tbody>\n",
       "</table>\n",
       "</div>"
      ],
      "text/plain": [
       "        accession variant    gi ncbi_gene_id hgnc_gene_name  taxonomy_id  \\\n",
       "0  XP_002715119.2   H2B.K  None         None           None         9986   \n",
       "\n",
       "                organism    phylum     class taxonomy_group  info  \\\n",
       "0  Oryctolagus cuniculus  Chordata  Mammalia           None  None   \n",
       "\n",
       "                                            sequence  \\\n",
       "0  MSAERGQQQQQASSRRGRSSGNKKSRKRSKRKETYSMYIYKVLKQV...   \n",
       "\n",
       "  variant_under_consideration sequence_accession publication_id  \n",
       "0                        None     XP_002715119.2       35099534  "
      ]
     },
     "execution_count": 31,
     "metadata": {},
     "output_type": "execute_result"
    }
   ],
   "source": [
    "query = (\n",
    "    \"SELECT * FROM sequence s LEFT JOIN sequence_has_publication sp \"\n",
    "    \"ON s.accession = sp.sequence_accession \"\n",
    "    \"WHERE s.accession='XP_002715119.2'\"\n",
    ")\n",
    "cursor.execute(query)\n",
    "df = pd.DataFrame(cursor.fetchall(), columns=[i[0] for i in cursor.description])\n",
    "df"
   ]
  },
  {
   "cell_type": "code",
   "execution_count": 32,
   "id": "99dd3ff7-07a4-4d64-a993-5b3011dfcfd7",
   "metadata": {
    "tags": []
   },
   "outputs": [],
   "source": [
    "# Make sure data is committed to the database\n",
    "conn.commit()"
   ]
  },
  {
   "cell_type": "markdown",
   "id": "ceadff00-9c7f-4efa-b8ea-0352cb2294e0",
   "metadata": {
    "jp-MarkdownHeadingCollapsed": true,
    "tags": []
   },
   "source": [
    "# Add pig H2B.K\n",
    "\n",
    "**Atricle:** https://academic.oup.com/mbe/article/39/2/msac019/6517784#333890704\n",
    "\n",
    "**Gene:** susScr11, chr18, ++, 6019516-6022010\n",
    "\n",
    "**Protein accession:** XP_013846203.1"
   ]
  },
  {
   "cell_type": "code",
   "execution_count": 38,
   "id": "d051a067-9018-4e09-b791-e32f288ff08d",
   "metadata": {
    "tags": []
   },
   "outputs": [],
   "source": [
    "ACCESSION = \"XP_013846203.1\""
   ]
  },
  {
   "cell_type": "markdown",
   "id": "60bb1ccd-346c-4731-99eb-e4e06a4242ed",
   "metadata": {
    "tags": []
   },
   "source": [
    "## Get sequence XP_013846203.1 from NCBI"
   ]
  },
  {
   "cell_type": "code",
   "execution_count": 39,
   "id": "048e5c93-2ce9-4a4f-a62b-c7e9d68a37ad",
   "metadata": {
    "tags": []
   },
   "outputs": [
    {
     "name": "stdout",
     "output_type": "stream",
     "text": [
      "ID: XP_013846203.1\n",
      "Name: XP_013846203\n",
      "Description: late histone H2B.L4-like [Sus scrofa]\n",
      "Database cross-references: BioProject:PRJNA28993\n",
      "Number of features: 7\n",
      "/topology=linear\n",
      "/data_file_division=MAM\n",
      "/date=13-MAY-2017\n",
      "/accessions=['XP_013846203']\n",
      "/sequence_version=1\n",
      "/db_source=REFSEQ: accession XM_013990749.2\n",
      "/keywords=['RefSeq']\n",
      "/source=Sus scrofa (pig)\n",
      "/organism=Sus scrofa\n",
      "/taxonomy=['Eukaryota', 'Metazoa', 'Chordata', 'Craniata', 'Vertebrata', 'Euteleostomi', 'Mammalia', 'Eutheria', 'Laurasiatheria', 'Artiodactyla', 'Suina', 'Suidae', 'Sus']\n",
      "/comment=MODEL REFSEQ:  This record is predicted by automated computational\n",
      "analysis. This record is derived from a genomic sequence\n",
      "(NC_010460.4) annotated using gene prediction method: Gnomon,\n",
      "supported by EST evidence.\n",
      "Also see:\n",
      "    Documentation of NCBI's Annotation Process\n",
      "COMPLETENESS: full length.\n",
      "/structured_comment=OrderedDict([('Genome-Annotation-Data', OrderedDict([('Annotation Provider', 'NCBI'), ('Annotation Status', 'Full annotation'), ('Annotation Version', 'Sus scrofa Annotation Release 106'), ('Annotation Pipeline', 'NCBI eukaryotic genome annotation pipeline'), ('Annotation Software Version', '7.4'), ('Annotation Method', 'Best-placed RefSeq; Gnomon'), ('Features Annotated', 'Gene; mRNA; CDS; ncRNA')]))])\n",
      "/molecule_type=protein\n",
      "Seq('MSSAHGQQQQQQQQQQQQQQQGGGRRGRSSGEKKSKKRNRRKETYSMYIYKVLK...SSK')\n"
     ]
    }
   ],
   "source": [
    "with Entrez.efetch(\n",
    "    db=\"protein\", id=ACCESSION, rettype=\"gb\", retmode=\"text\"\n",
    ") as handle:\n",
    "    record = SeqIO.read(handle, \"genbank\")\n",
    "    print(record)"
   ]
  },
  {
   "cell_type": "code",
   "execution_count": 40,
   "id": "2da58bf7-103f-443f-9dbd-a7a67cbb7c59",
   "metadata": {
    "tags": []
   },
   "outputs": [
    {
     "data": {
      "text/plain": [
       "'MSSAHGQQQQQQQQQQQQQQQGGGRRGRSSGEKKSKKRNRRKETYSMYIYKVLKQVHPDIGISSKAMSIMNSFVNDVFERLAGEAARLAQYSGRTTLTSREVQTAVRLLLPGELAKHAVSEGTKAVTKYTSSK'"
      ]
     },
     "execution_count": 40,
     "metadata": {},
     "output_type": "execute_result"
    }
   ],
   "source": [
    "str(record.seq)"
   ]
  },
  {
   "cell_type": "code",
   "execution_count": 41,
   "id": "85654950-ceb0-40f4-92a0-eefe0e59b53e",
   "metadata": {
    "tags": []
   },
   "outputs": [
    {
     "data": {
      "text/plain": [
       "'Sus scrofa'"
      ]
     },
     "execution_count": 41,
     "metadata": {},
     "output_type": "execute_result"
    }
   ],
   "source": [
    "record.annotations[\"organism\"]"
   ]
  },
  {
   "cell_type": "code",
   "execution_count": 42,
   "id": "524b07b5-4fbe-4e4b-8a39-c049943b7a92",
   "metadata": {
    "tags": []
   },
   "outputs": [
    {
     "name": "stdout",
     "output_type": "stream",
     "text": [
      "Fetched taxid from NCBI <built-in function id>\n"
     ]
    },
    {
     "data": {
      "text/plain": [
       "{'organism': 'Sus scrofa',\n",
       " 'taxonomy_id': 9823,\n",
       " 'phylum': 'Chordata',\n",
       " 'class': 'Mammalia'}"
      ]
     },
     "execution_count": 42,
     "metadata": {},
     "output_type": "execute_result"
    }
   ],
   "source": [
    "taxonomy_data = get_taxonomy_data(record)\n",
    "taxonomy_data"
   ]
  },
  {
   "cell_type": "markdown",
   "id": "c76b4d37-32ce-48a1-99ca-8402f8e52383",
   "metadata": {},
   "source": [
    "## Adding"
   ]
  },
  {
   "cell_type": "code",
   "execution_count": 43,
   "id": "c88966ef-af23-4a63-bba0-d8abb0bb5ba2",
   "metadata": {
    "tags": []
   },
   "outputs": [
    {
     "data": {
      "text/plain": [
       "{'accession': 'XP_013846203.1',\n",
       " 'variant': 'H2B.K',\n",
       " 'gi': None,\n",
       " 'ncbi_gene_id': None,\n",
       " 'hgnc_gene_name': None,\n",
       " 'taxonomy_id': 9823,\n",
       " 'organism': 'Sus scrofa',\n",
       " 'phylum': 'Chordata',\n",
       " 'class': 'Mammalia',\n",
       " 'taxonomy_group': None,\n",
       " 'info': None,\n",
       " 'sequence': 'MSSAHGQQQQQQQQQQQQQQQGGGRRGRSSGEKKSKKRNRRKETYSMYIYKVLKQVHPDIGISSKAMSIMNSFVNDVFERLAGEAARLAQYSGRTTLTSREVQTAVRLLLPGELAKHAVSEGTKAVTKYTSSK',\n",
       " 'variant_under_consideration': None}"
      ]
     },
     "execution_count": 43,
     "metadata": {},
     "output_type": "execute_result"
    }
   ],
   "source": [
    "data_sequence = {\n",
    "    \"accession\": ACCESSION,\n",
    "    \"variant\": \"H2B.K\",\n",
    "    \"gi\": None,\n",
    "    \"ncbi_gene_id\": None,\n",
    "    \"hgnc_gene_name\": None,\n",
    "    \"taxonomy_id\": None,\n",
    "    \"organism\": None,\n",
    "    \"phylum\": None,\n",
    "    \"class\": None,\n",
    "    \"taxonomy_group\": None,\n",
    "    \"info\": None,\n",
    "    \"sequence\": str(record.seq),\n",
    "    \"variant_under_consideration\": None,\n",
    "}\n",
    "data_sequence.update(taxonomy_data)\n",
    "data_sequence"
   ]
  },
  {
   "cell_type": "code",
   "execution_count": 44,
   "id": "f8315861-e055-4276-8059-9af6ecf37094",
   "metadata": {
    "tags": []
   },
   "outputs": [
    {
     "name": "stdout",
     "output_type": "stream",
     "text": [
      "accession <class 'str'>\n",
      "variant <class 'str'>\n",
      "gi <class 'NoneType'>\n",
      "ncbi_gene_id <class 'NoneType'>\n",
      "hgnc_gene_name <class 'NoneType'>\n",
      "taxonomy_id <class 'int'>\n",
      "organism <class 'str'>\n",
      "phylum <class 'str'>\n",
      "class <class 'str'>\n",
      "taxonomy_group <class 'NoneType'>\n",
      "info <class 'NoneType'>\n",
      "sequence <class 'str'>\n",
      "variant_under_consideration <class 'NoneType'>\n"
     ]
    }
   ],
   "source": [
    "for k, v in data_sequence.items():\n",
    "    print(k, type(v))"
   ]
  },
  {
   "cell_type": "code",
   "execution_count": 45,
   "id": "69327b88-6b84-4a65-8fa0-1d719907061e",
   "metadata": {
    "tags": []
   },
   "outputs": [],
   "source": [
    "cursor.execute(add_sequence, data_sequence)"
   ]
  },
  {
   "cell_type": "code",
   "execution_count": 46,
   "id": "deb36caf-27de-4bc0-97f7-33012015d2a4",
   "metadata": {
    "tags": []
   },
   "outputs": [
    {
     "data": {
      "text/html": [
       "<div>\n",
       "<style scoped>\n",
       "    .dataframe tbody tr th:only-of-type {\n",
       "        vertical-align: middle;\n",
       "    }\n",
       "\n",
       "    .dataframe tbody tr th {\n",
       "        vertical-align: top;\n",
       "    }\n",
       "\n",
       "    .dataframe thead th {\n",
       "        text-align: right;\n",
       "    }\n",
       "</style>\n",
       "<table border=\"1\" class=\"dataframe\">\n",
       "  <thead>\n",
       "    <tr style=\"text-align: right;\">\n",
       "      <th></th>\n",
       "      <th>accession</th>\n",
       "      <th>variant</th>\n",
       "      <th>gi</th>\n",
       "      <th>ncbi_gene_id</th>\n",
       "      <th>hgnc_gene_name</th>\n",
       "      <th>taxonomy_id</th>\n",
       "      <th>organism</th>\n",
       "      <th>phylum</th>\n",
       "      <th>class</th>\n",
       "      <th>taxonomy_group</th>\n",
       "      <th>info</th>\n",
       "      <th>sequence</th>\n",
       "      <th>variant_under_consideration</th>\n",
       "      <th>sequence_accession</th>\n",
       "      <th>publication_id</th>\n",
       "    </tr>\n",
       "  </thead>\n",
       "  <tbody>\n",
       "    <tr>\n",
       "      <th>0</th>\n",
       "      <td>XP_013846203.1</td>\n",
       "      <td>H2B.K</td>\n",
       "      <td>None</td>\n",
       "      <td>None</td>\n",
       "      <td>None</td>\n",
       "      <td>9823</td>\n",
       "      <td>Sus scrofa</td>\n",
       "      <td>Chordata</td>\n",
       "      <td>Mammalia</td>\n",
       "      <td>None</td>\n",
       "      <td>None</td>\n",
       "      <td>MSSAHGQQQQQQQQQQQQQQQGGGRRGRSSGEKKSKKRNRRKETYS...</td>\n",
       "      <td>None</td>\n",
       "      <td>None</td>\n",
       "      <td>None</td>\n",
       "    </tr>\n",
       "  </tbody>\n",
       "</table>\n",
       "</div>"
      ],
      "text/plain": [
       "        accession variant    gi ncbi_gene_id hgnc_gene_name  taxonomy_id  \\\n",
       "0  XP_013846203.1   H2B.K  None         None           None         9823   \n",
       "\n",
       "     organism    phylum     class taxonomy_group  info  \\\n",
       "0  Sus scrofa  Chordata  Mammalia           None  None   \n",
       "\n",
       "                                            sequence  \\\n",
       "0  MSSAHGQQQQQQQQQQQQQQQGGGRRGRSSGEKKSKKRNRRKETYS...   \n",
       "\n",
       "  variant_under_consideration sequence_accession publication_id  \n",
       "0                        None               None           None  "
      ]
     },
     "execution_count": 46,
     "metadata": {},
     "output_type": "execute_result"
    }
   ],
   "source": [
    "query = (\n",
    "    \"SELECT * FROM sequence s LEFT JOIN sequence_has_publication sp \"\n",
    "    \"ON s.accession = sp.sequence_accession \"\n",
    "    f\"WHERE s.accession='{ACCESSION}'\"\n",
    ")\n",
    "cursor.execute(query)\n",
    "df = pd.DataFrame(cursor.fetchall(), columns=[i[0] for i in cursor.description])\n",
    "df"
   ]
  },
  {
   "cell_type": "markdown",
   "id": "237aa478-3d44-4e53-a519-a94f593cd1be",
   "metadata": {},
   "source": [
    "## Add publication"
   ]
  },
  {
   "cell_type": "code",
   "execution_count": 47,
   "id": "51b17a9d-cc21-466d-b508-d68cac165b2c",
   "metadata": {
    "tags": []
   },
   "outputs": [
    {
     "data": {
      "text/html": [
       "<div>\n",
       "<style scoped>\n",
       "    .dataframe tbody tr th:only-of-type {\n",
       "        vertical-align: middle;\n",
       "    }\n",
       "\n",
       "    .dataframe tbody tr th {\n",
       "        vertical-align: top;\n",
       "    }\n",
       "\n",
       "    .dataframe thead th {\n",
       "        text-align: right;\n",
       "    }\n",
       "</style>\n",
       "<table border=\"1\" class=\"dataframe\">\n",
       "  <thead>\n",
       "    <tr style=\"text-align: right;\">\n",
       "      <th></th>\n",
       "      <th>id</th>\n",
       "      <th>title</th>\n",
       "      <th>doi</th>\n",
       "      <th>author</th>\n",
       "      <th>year</th>\n",
       "    </tr>\n",
       "  </thead>\n",
       "  <tbody>\n",
       "    <tr>\n",
       "      <th>0</th>\n",
       "      <td>35099534</td>\n",
       "      <td>None</td>\n",
       "      <td>None</td>\n",
       "      <td>None</td>\n",
       "      <td>None</td>\n",
       "    </tr>\n",
       "  </tbody>\n",
       "</table>\n",
       "</div>"
      ],
      "text/plain": [
       "         id title   doi author  year\n",
       "0  35099534  None  None   None  None"
      ]
     },
     "execution_count": 47,
     "metadata": {},
     "output_type": "execute_result"
    }
   ],
   "source": [
    "pid = \"35099534\"\n",
    "query = \"SELECT * FROM publication WHERE id='35099534'\"\n",
    "cursor.execute(query)\n",
    "pd.DataFrame(cursor.fetchall(), columns=[i[0] for i in cursor.description])"
   ]
  },
  {
   "cell_type": "code",
   "execution_count": 48,
   "id": "3cb8bafe-c3b5-4ba7-bc37-a3280b7e7447",
   "metadata": {
    "tags": []
   },
   "outputs": [],
   "source": [
    "cursor.execute(add_sequence_has_publication, (ACCESSION, pid))"
   ]
  },
  {
   "cell_type": "code",
   "execution_count": 49,
   "id": "34c4c6cd-167f-4713-99b3-5d975eb98147",
   "metadata": {
    "tags": []
   },
   "outputs": [
    {
     "data": {
      "text/html": [
       "<div>\n",
       "<style scoped>\n",
       "    .dataframe tbody tr th:only-of-type {\n",
       "        vertical-align: middle;\n",
       "    }\n",
       "\n",
       "    .dataframe tbody tr th {\n",
       "        vertical-align: top;\n",
       "    }\n",
       "\n",
       "    .dataframe thead th {\n",
       "        text-align: right;\n",
       "    }\n",
       "</style>\n",
       "<table border=\"1\" class=\"dataframe\">\n",
       "  <thead>\n",
       "    <tr style=\"text-align: right;\">\n",
       "      <th></th>\n",
       "      <th>accession</th>\n",
       "      <th>variant</th>\n",
       "      <th>gi</th>\n",
       "      <th>ncbi_gene_id</th>\n",
       "      <th>hgnc_gene_name</th>\n",
       "      <th>taxonomy_id</th>\n",
       "      <th>organism</th>\n",
       "      <th>phylum</th>\n",
       "      <th>class</th>\n",
       "      <th>taxonomy_group</th>\n",
       "      <th>info</th>\n",
       "      <th>sequence</th>\n",
       "      <th>variant_under_consideration</th>\n",
       "      <th>sequence_accession</th>\n",
       "      <th>publication_id</th>\n",
       "    </tr>\n",
       "  </thead>\n",
       "  <tbody>\n",
       "    <tr>\n",
       "      <th>0</th>\n",
       "      <td>XP_013846203.1</td>\n",
       "      <td>H2B.K</td>\n",
       "      <td>None</td>\n",
       "      <td>None</td>\n",
       "      <td>None</td>\n",
       "      <td>9823</td>\n",
       "      <td>Sus scrofa</td>\n",
       "      <td>Chordata</td>\n",
       "      <td>Mammalia</td>\n",
       "      <td>None</td>\n",
       "      <td>None</td>\n",
       "      <td>MSSAHGQQQQQQQQQQQQQQQGGGRRGRSSGEKKSKKRNRRKETYS...</td>\n",
       "      <td>None</td>\n",
       "      <td>XP_013846203.1</td>\n",
       "      <td>35099534</td>\n",
       "    </tr>\n",
       "  </tbody>\n",
       "</table>\n",
       "</div>"
      ],
      "text/plain": [
       "        accession variant    gi ncbi_gene_id hgnc_gene_name  taxonomy_id  \\\n",
       "0  XP_013846203.1   H2B.K  None         None           None         9823   \n",
       "\n",
       "     organism    phylum     class taxonomy_group  info  \\\n",
       "0  Sus scrofa  Chordata  Mammalia           None  None   \n",
       "\n",
       "                                            sequence  \\\n",
       "0  MSSAHGQQQQQQQQQQQQQQQGGGRRGRSSGEKKSKKRNRRKETYS...   \n",
       "\n",
       "  variant_under_consideration sequence_accession publication_id  \n",
       "0                        None     XP_013846203.1       35099534  "
      ]
     },
     "execution_count": 49,
     "metadata": {},
     "output_type": "execute_result"
    }
   ],
   "source": [
    "query = (\n",
    "    \"SELECT * FROM sequence s LEFT JOIN sequence_has_publication sp \"\n",
    "    \"ON s.accession = sp.sequence_accession \"\n",
    "    f\"WHERE s.accession='{ACCESSION}'\"\n",
    ")\n",
    "cursor.execute(query)\n",
    "df = pd.DataFrame(cursor.fetchall(), columns=[i[0] for i in cursor.description])\n",
    "df"
   ]
  },
  {
   "cell_type": "code",
   "execution_count": 50,
   "id": "0701910e-c031-4463-9d18-153bc7ae825a",
   "metadata": {
    "tags": []
   },
   "outputs": [],
   "source": [
    "# Make sure data is committed to the database\n",
    "conn.commit()"
   ]
  },
  {
   "cell_type": "markdown",
   "id": "0c56b719-348a-44ea-89f1-41a87181eb42",
   "metadata": {
    "tags": []
   },
   "source": [
    "# Add sheep H2B.K\n",
    "\n",
    "**Atricle:** https://academic.oup.com/mbe/article/39/2/msac019/6517784#333890704\n",
    "\n",
    "**Gene:** oviAri4, chr4, +-, 113150440-113152940\n",
    "\n",
    "**Protein accession:** XP_014950940.1\n",
    "\n",
    ">[Genome assembly Oar_v4.0](https://www.ncbi.nlm.nih.gov/datasets/genome/GCF_000298735.2/)\n",
    ">\n",
    ">Status: RefSeq GCF_000298735.2 is suppressed\n",
    ">\n",
    ">This record was removed as a result of standard genome annotation processing. Please see www.ncbi.nlm.nih.gov/genome/annotation_euk/process/ for more information.\n",
    "\n",
    "Actual version is [Genome assembly ]()\n",
    "\n",
    "**Protein accession after updating the genome assembly:** "
   ]
  },
  {
   "cell_type": "markdown",
   "id": "d3c8a219-f508-46e1-936f-7d6040016e39",
   "metadata": {
    "tags": []
   },
   "source": [
    "# Close connections"
   ]
  },
  {
   "cell_type": "code",
   "execution_count": 51,
   "id": "572059d8-54f9-4ec7-a2c6-1c8066552845",
   "metadata": {
    "tags": []
   },
   "outputs": [],
   "source": [
    "cursor.close()\n",
    "conn.close()\n",
    "tunnel.stop()"
   ]
  },
  {
   "cell_type": "code",
   "execution_count": null,
   "id": "790ee020-09af-4dcc-9c36-f1b3f69ea8a7",
   "metadata": {},
   "outputs": [],
   "source": []
  }
 ],
 "metadata": {
  "kernelspec": {
   "display_name": ".conda-histdb_env",
   "language": "python",
   "name": "conda-env-.conda-histdb_env-py"
  },
  "language_info": {
   "codemirror_mode": {
    "name": "ipython",
    "version": 3
   },
   "file_extension": ".py",
   "mimetype": "text/x-python",
   "name": "python",
   "nbconvert_exporter": "python",
   "pygments_lexer": "ipython3",
   "version": "3.8.1"
  }
 },
 "nbformat": 4,
 "nbformat_minor": 5
}
