{
 "cells": [
  {
   "cell_type": "code",
   "execution_count": 1,
   "id": "fb32231a-293e-45b8-af7d-d996c91a4edd",
   "metadata": {
    "tags": []
   },
   "outputs": [],
   "source": [
    "import pandas as pd\n",
    "from mysql.connector import connection\n",
    "from sshtunnel import SSHTunnelForwarder"
   ]
  },
  {
   "cell_type": "code",
   "execution_count": 2,
   "id": "d5fa78a7-4901-4e63-9d91-d9ed584d2f62",
   "metadata": {
    "tags": []
   },
   "outputs": [],
   "source": [
    "with open(\"db_curated_server_info.txt\", \"r\") as file:\n",
    "    lines = file.readlines()\n",
    "\n",
    "config = {}\n",
    "\n",
    "for line in lines:\n",
    "    line = line.strip()\n",
    "    if line and not line.startswith(\"#\"):\n",
    "        key, value = line.split(\"=\", 1)\n",
    "        config[key] = value.strip()\n",
    "\n",
    "server_name = config.get(\"server_name\")\n",
    "srever_port = int(config.get(\"srever_port\"))\n",
    "ssh_password = config.get(\"ssh_password\")\n",
    "ssh_username = config.get(\"ssh_username\")\n",
    "db_adress = config.get(\"db_adress\")\n",
    "db_port = int(config.get(\"db_port\"))"
   ]
  },
  {
   "cell_type": "code",
   "execution_count": 3,
   "id": "ebe3d2e8-9736-4fd9-b3f1-5ec2d255567d",
   "metadata": {
    "tags": []
   },
   "outputs": [
    {
     "name": "stdout",
     "output_type": "stream",
     "text": [
      "42959\n"
     ]
    }
   ],
   "source": [
    "tunnel = SSHTunnelForwarder(\n",
    "    (server_name, srever_port),\n",
    "    ssh_password=ssh_password,\n",
    "    ssh_username=ssh_username,\n",
    "    remote_bind_address=(db_adress, db_port),\n",
    ")\n",
    "tunnel.start()\n",
    "print(tunnel.local_bind_port)"
   ]
  },
  {
   "cell_type": "code",
   "execution_count": 4,
   "id": "0de93630-7502-40f3-ad24-42edf7a11eef",
   "metadata": {
    "tags": []
   },
   "outputs": [],
   "source": [
    "conn = connection.MySQLConnection(\n",
    "    user=\"db_user\",\n",
    "    password=\"db_password\",\n",
    "    host=\"localhost\",\n",
    "    port=tunnel.local_bind_port,\n",
    "    database=\"db_name\",\n",
    ")\n",
    "cursor = conn.cursor()"
   ]
  },
  {
   "cell_type": "code",
   "execution_count": 5,
   "id": "b4767ba0-4ea1-43ae-953f-f2575d9b7a69",
   "metadata": {
    "tags": []
   },
   "outputs": [
    {
     "data": {
      "text/plain": [
       "[('alternative_name',),\n",
       " ('histone',),\n",
       " ('histone_description',),\n",
       " ('histone_has_publication',),\n",
       " ('publication',),\n",
       " ('sequence',),\n",
       " ('sequence_has_publication',)]"
      ]
     },
     "execution_count": 5,
     "metadata": {},
     "output_type": "execute_result"
    }
   ],
   "source": [
    "query = \"SHOW TABLES;\"\n",
    "cursor.execute(query)\n",
    "cursor.fetchall()"
   ]
  },
  {
   "cell_type": "code",
   "execution_count": 16,
   "id": "7d59b3d0-7801-4177-8843-fdedf36cb6d1",
   "metadata": {
    "tags": []
   },
   "outputs": [],
   "source": [
    "add_histone = (\n",
    "    \"INSERT INTO histone \"\n",
    "    \"(id, level, taxonomic_span, taxonomic_span_id, description, parent) \"\n",
    "    \"VALUES (%(id)s, %(level)s, %(taxonomic_span)s, %(taxonomic_span_id)s, %(description)s, %(parent)s)\"\n",
    ")\n",
    "add_histone_description = (\n",
    "    \"INSERT INTO histone_description \"\n",
    "    \"(summary, taxonomy, genes, evolution, expression, knock_out, function, sequence, localization, deposition, structure, interactions, disease, caveats) \"\n",
    "    \"VALUES (%s, %s, %s, %s, %s, %s, %s, %s, %s, %s, %s, %s, %s, %s)\"\n",
    ")\n",
    "# add_publication = (\n",
    "#     \"INSERT INTO publication \"\n",
    "#     \"(id, title, doi, author, year) \"\n",
    "#     \"VALUES (%(id)s, %(title)s, %(doi)s, %(author)s, %(year)s)\"\n",
    "# )\n",
    "# add_sequence = (\n",
    "#     \"INSERT INTO sequence \"\n",
    "#     \"(accession, variant, gi, ncbi_gene_id, hgnc_gene_name, taxonomy_id, organism, phylum, class, taxonomy_group, info, sequence, variant_under_consideration) \"\n",
    "#     \"VALUES (%(accession)s, %(variant)s, %(gi)s, %(ncbi_gene_id)s, %(hgnc_gene_name)s, %(taxonomy_id)s, %(organism)s, %(phylum)s, %(class)s, %(taxonomy_group)s, %(info)s, %(sequence)s, %(variant_under_consideration)s)\"\n",
    "# )\n",
    "# add_sequence_has_publication = (\n",
    "#     \"INSERT INTO sequence_has_publication \"\n",
    "#     \"(sequence_accession, publication_id) \"\n",
    "#     \"VALUES (%s, %s)\"\n",
    "# )\n",
    "# add_alternate_names = (\n",
    "#     \"INSERT INTO alternative_name \"\n",
    "#     \"(name, taxonomy, gene, splice, histone) \"\n",
    "#     \"VALUES (%(name)s, %(taxonomy)s, %(gene)s, %(splice)s, %(histone)s)\"\n",
    "# )\n",
    "# add_histone_has_publication = (\n",
    "#     \"INSERT INTO histone_has_publication \"\n",
    "#     \"(histone_id, publication_id) \"\n",
    "#     \"VALUES (%s, %s)\"\n",
    "# )"
   ]
  },
  {
   "cell_type": "markdown",
   "id": "78406cff-38dc-4687-88c7-6cd12d0b1a68",
   "metadata": {
    "jp-MarkdownHeadingCollapsed": true,
    "tags": []
   },
   "source": [
    "# Change taxonomic span for Capstones"
   ]
  },
  {
   "cell_type": "code",
   "execution_count": 6,
   "id": "a6614c39-faba-4f7b-89c0-3c412a84e7cf",
   "metadata": {
    "tags": []
   },
   "outputs": [
    {
     "data": {
      "text/html": [
       "<div>\n",
       "<style scoped>\n",
       "    .dataframe tbody tr th:only-of-type {\n",
       "        vertical-align: middle;\n",
       "    }\n",
       "\n",
       "    .dataframe tbody tr th {\n",
       "        vertical-align: top;\n",
       "    }\n",
       "\n",
       "    .dataframe thead th {\n",
       "        text-align: right;\n",
       "    }\n",
       "</style>\n",
       "<table border=\"1\" class=\"dataframe\">\n",
       "  <thead>\n",
       "    <tr style=\"text-align: right;\">\n",
       "      <th></th>\n",
       "      <th>id</th>\n",
       "      <th>level</th>\n",
       "      <th>taxonomic_span</th>\n",
       "      <th>taxonomic_span_id</th>\n",
       "      <th>description</th>\n",
       "      <th>parent</th>\n",
       "    </tr>\n",
       "  </thead>\n",
       "  <tbody>\n",
       "    <tr>\n",
       "      <th>3</th>\n",
       "      <td>Capstone</td>\n",
       "      <td>variant_group</td>\n",
       "      <td>Archaea, Bacteria, Viruses</td>\n",
       "      <td>2157, 2, 10239</td>\n",
       "      <td>211.0</td>\n",
       "      <td>Singlet</td>\n",
       "    </tr>\n",
       "  </tbody>\n",
       "</table>\n",
       "</div>"
      ],
      "text/plain": [
       "         id          level              taxonomic_span taxonomic_span_id  \\\n",
       "3  Capstone  variant_group  Archaea, Bacteria, Viruses    2157, 2, 10239   \n",
       "\n",
       "   description   parent  \n",
       "3        211.0  Singlet  "
      ]
     },
     "execution_count": 6,
     "metadata": {},
     "output_type": "execute_result"
    }
   ],
   "source": [
    "query = \"SELECT * FROM histone\"\n",
    "cursor.execute(query)\n",
    "histone_df = pd.DataFrame(cursor.fetchall(), columns=[i[0] for i in cursor.description])\n",
    "histone_df[histone_df[\"id\"] == \"Capstone\"]"
   ]
  },
  {
   "cell_type": "code",
   "execution_count": 7,
   "id": "988040b7-d5cd-4128-afdd-83cb4dda417e",
   "metadata": {
    "tags": []
   },
   "outputs": [
    {
     "data": {
      "text/html": [
       "<div>\n",
       "<style scoped>\n",
       "    .dataframe tbody tr th:only-of-type {\n",
       "        vertical-align: middle;\n",
       "    }\n",
       "\n",
       "    .dataframe tbody tr th {\n",
       "        vertical-align: top;\n",
       "    }\n",
       "\n",
       "    .dataframe thead th {\n",
       "        text-align: right;\n",
       "    }\n",
       "</style>\n",
       "<table border=\"1\" class=\"dataframe\">\n",
       "  <thead>\n",
       "    <tr style=\"text-align: right;\">\n",
       "      <th></th>\n",
       "      <th>id</th>\n",
       "      <th>level</th>\n",
       "      <th>taxonomic_span</th>\n",
       "      <th>taxonomic_span_id</th>\n",
       "      <th>description</th>\n",
       "      <th>parent</th>\n",
       "    </tr>\n",
       "  </thead>\n",
       "  <tbody>\n",
       "    <tr>\n",
       "      <th>3</th>\n",
       "      <td>Capstone</td>\n",
       "      <td>variant_group</td>\n",
       "      <td>Archaea</td>\n",
       "      <td>2157</td>\n",
       "      <td>211.0</td>\n",
       "      <td>Singlet</td>\n",
       "    </tr>\n",
       "  </tbody>\n",
       "</table>\n",
       "</div>"
      ],
      "text/plain": [
       "         id          level taxonomic_span taxonomic_span_id  description  \\\n",
       "3  Capstone  variant_group        Archaea              2157        211.0   \n",
       "\n",
       "    parent  \n",
       "3  Singlet  "
      ]
     },
     "execution_count": 7,
     "metadata": {},
     "output_type": "execute_result"
    }
   ],
   "source": [
    "query = f\"UPDATE histone SET taxonomic_span='Archaea', taxonomic_span_id=2157 WHERE id='Capstone'\"\n",
    "cursor.execute(query)\n",
    "\n",
    "query = \"SELECT * FROM histone\"\n",
    "cursor.execute(query)\n",
    "histone_df = pd.DataFrame(cursor.fetchall(), columns=[i[0] for i in cursor.description])\n",
    "histone_df[histone_df[\"id\"] == \"Capstone\"]"
   ]
  },
  {
   "cell_type": "code",
   "execution_count": 8,
   "id": "59ffb777-e22e-42ef-99a7-9ffa2b8bdd3f",
   "metadata": {
    "tags": []
   },
   "outputs": [
    {
     "data": {
      "text/html": [
       "<div>\n",
       "<style scoped>\n",
       "    .dataframe tbody tr th:only-of-type {\n",
       "        vertical-align: middle;\n",
       "    }\n",
       "\n",
       "    .dataframe tbody tr th {\n",
       "        vertical-align: top;\n",
       "    }\n",
       "\n",
       "    .dataframe thead th {\n",
       "        text-align: right;\n",
       "    }\n",
       "</style>\n",
       "<table border=\"1\" class=\"dataframe\">\n",
       "  <thead>\n",
       "    <tr style=\"text-align: right;\">\n",
       "      <th></th>\n",
       "      <th>id</th>\n",
       "      <th>level</th>\n",
       "      <th>taxonomic_span</th>\n",
       "      <th>taxonomic_span_id</th>\n",
       "      <th>description</th>\n",
       "      <th>parent</th>\n",
       "      <th>id</th>\n",
       "      <th>summary</th>\n",
       "      <th>taxonomy</th>\n",
       "      <th>genes</th>\n",
       "      <th>...</th>\n",
       "      <th>knock_out</th>\n",
       "      <th>function</th>\n",
       "      <th>sequence</th>\n",
       "      <th>localization</th>\n",
       "      <th>deposition</th>\n",
       "      <th>structure</th>\n",
       "      <th>interactions</th>\n",
       "      <th>disease</th>\n",
       "      <th>caveats</th>\n",
       "      <th>relations</th>\n",
       "    </tr>\n",
       "  </thead>\n",
       "  <tbody>\n",
       "    <tr>\n",
       "      <th>0</th>\n",
       "      <td>Capstone</td>\n",
       "      <td>variant_group</td>\n",
       "      <td>Archaea</td>\n",
       "      <td>2157</td>\n",
       "      <td>211</td>\n",
       "      <td>Singlet</td>\n",
       "      <td>211</td>\n",
       "      <td>Capstones are histone variants found in archae...</td>\n",
       "      <td>None</td>\n",
       "      <td>None</td>\n",
       "      <td>...</td>\n",
       "      <td>None</td>\n",
       "      <td>None</td>\n",
       "      <td>None</td>\n",
       "      <td>None</td>\n",
       "      <td>None</td>\n",
       "      <td>None</td>\n",
       "      <td>None</td>\n",
       "      <td>None</td>\n",
       "      <td>None</td>\n",
       "      <td>None</td>\n",
       "    </tr>\n",
       "  </tbody>\n",
       "</table>\n",
       "<p>1 rows × 22 columns</p>\n",
       "</div>"
      ],
      "text/plain": [
       "         id          level taxonomic_span taxonomic_span_id  description  \\\n",
       "0  Capstone  variant_group        Archaea              2157          211   \n",
       "\n",
       "    parent   id                                            summary taxonomy  \\\n",
       "0  Singlet  211  Capstones are histone variants found in archae...     None   \n",
       "\n",
       "  genes  ... knock_out function sequence localization deposition structure  \\\n",
       "0  None  ...      None     None     None         None       None      None   \n",
       "\n",
       "  interactions disease caveats relations  \n",
       "0         None    None    None      None  \n",
       "\n",
       "[1 rows x 22 columns]"
      ]
     },
     "execution_count": 8,
     "metadata": {},
     "output_type": "execute_result"
    }
   ],
   "source": [
    "query = (\n",
    "    \"SELECT * FROM histone h LEFT JOIN histone_description hd \"\n",
    "    \"ON h.description = hd.id \"\n",
    "    \"WHERE h.id='Capstone'\"\n",
    ")\n",
    "cursor.execute(query)\n",
    "pd.DataFrame(cursor.fetchall(), columns=[i[0] for i in cursor.description])"
   ]
  },
  {
   "cell_type": "markdown",
   "id": "02b62f83-be6e-4626-b7dd-c2e5f6ba1b6d",
   "metadata": {
    "jp-MarkdownHeadingCollapsed": true,
    "tags": []
   },
   "source": [
    "# Delete nodes Archaeal, Viral"
   ]
  },
  {
   "cell_type": "code",
   "execution_count": 9,
   "id": "3c788487-2c97-485b-949f-69d7f446faff",
   "metadata": {
    "tags": []
   },
   "outputs": [
    {
     "data": {
      "text/html": [
       "<div>\n",
       "<style scoped>\n",
       "    .dataframe tbody tr th:only-of-type {\n",
       "        vertical-align: middle;\n",
       "    }\n",
       "\n",
       "    .dataframe tbody tr th {\n",
       "        vertical-align: top;\n",
       "    }\n",
       "\n",
       "    .dataframe thead th {\n",
       "        text-align: right;\n",
       "    }\n",
       "</style>\n",
       "<table border=\"1\" class=\"dataframe\">\n",
       "  <thead>\n",
       "    <tr style=\"text-align: right;\">\n",
       "      <th></th>\n",
       "      <th>id</th>\n",
       "      <th>level</th>\n",
       "      <th>taxonomic_span</th>\n",
       "      <th>taxonomic_span_id</th>\n",
       "      <th>description</th>\n",
       "      <th>parent</th>\n",
       "    </tr>\n",
       "  </thead>\n",
       "  <tbody>\n",
       "    <tr>\n",
       "      <th>0</th>\n",
       "      <td>Archaeal</td>\n",
       "      <td>type</td>\n",
       "      <td>null</td>\n",
       "      <td>null</td>\n",
       "      <td>1.0</td>\n",
       "      <td>None</td>\n",
       "    </tr>\n",
       "  </tbody>\n",
       "</table>\n",
       "</div>"
      ],
      "text/plain": [
       "         id level taxonomic_span taxonomic_span_id  description parent\n",
       "0  Archaeal  type           null              null          1.0   None"
      ]
     },
     "execution_count": 9,
     "metadata": {},
     "output_type": "execute_result"
    }
   ],
   "source": [
    "query = \"SELECT * FROM histone\"\n",
    "cursor.execute(query)\n",
    "histone_df = pd.DataFrame(cursor.fetchall(), columns=[i[0] for i in cursor.description])\n",
    "histone_df[histone_df[\"id\"] == \"Archaeal\"]"
   ]
  },
  {
   "cell_type": "code",
   "execution_count": 10,
   "id": "74be1a80-4e7f-4ee3-81a3-ba557dfb7bd8",
   "metadata": {
    "tags": []
   },
   "outputs": [
    {
     "data": {
      "text/html": [
       "<div>\n",
       "<style scoped>\n",
       "    .dataframe tbody tr th:only-of-type {\n",
       "        vertical-align: middle;\n",
       "    }\n",
       "\n",
       "    .dataframe tbody tr th {\n",
       "        vertical-align: top;\n",
       "    }\n",
       "\n",
       "    .dataframe thead th {\n",
       "        text-align: right;\n",
       "    }\n",
       "</style>\n",
       "<table border=\"1\" class=\"dataframe\">\n",
       "  <thead>\n",
       "    <tr style=\"text-align: right;\">\n",
       "      <th></th>\n",
       "      <th>id</th>\n",
       "      <th>level</th>\n",
       "      <th>taxonomic_span</th>\n",
       "      <th>taxonomic_span_id</th>\n",
       "      <th>description</th>\n",
       "      <th>parent</th>\n",
       "    </tr>\n",
       "  </thead>\n",
       "  <tbody>\n",
       "  </tbody>\n",
       "</table>\n",
       "</div>"
      ],
      "text/plain": [
       "Empty DataFrame\n",
       "Columns: [id, level, taxonomic_span, taxonomic_span_id, description, parent]\n",
       "Index: []"
      ]
     },
     "execution_count": 10,
     "metadata": {},
     "output_type": "execute_result"
    }
   ],
   "source": [
    "query = f\"DELETE FROM histone WHERE id='Archaeal'\"\n",
    "cursor.execute(query)\n",
    "\n",
    "query = \"SELECT * FROM histone\"\n",
    "cursor.execute(query)\n",
    "histone_df = pd.DataFrame(cursor.fetchall(), columns=[i[0] for i in cursor.description])\n",
    "histone_df[histone_df[\"id\"] == \"Archaeal\"]"
   ]
  },
  {
   "cell_type": "code",
   "execution_count": 11,
   "id": "3792d9b0-4865-4bab-a7b8-5a97b628d838",
   "metadata": {
    "tags": []
   },
   "outputs": [
    {
     "data": {
      "text/html": [
       "<div>\n",
       "<style scoped>\n",
       "    .dataframe tbody tr th:only-of-type {\n",
       "        vertical-align: middle;\n",
       "    }\n",
       "\n",
       "    .dataframe tbody tr th {\n",
       "        vertical-align: top;\n",
       "    }\n",
       "\n",
       "    .dataframe thead th {\n",
       "        text-align: right;\n",
       "    }\n",
       "</style>\n",
       "<table border=\"1\" class=\"dataframe\">\n",
       "  <thead>\n",
       "    <tr style=\"text-align: right;\">\n",
       "      <th></th>\n",
       "      <th>id</th>\n",
       "      <th>level</th>\n",
       "      <th>taxonomic_span</th>\n",
       "      <th>taxonomic_span_id</th>\n",
       "      <th>description</th>\n",
       "      <th>parent</th>\n",
       "    </tr>\n",
       "  </thead>\n",
       "  <tbody>\n",
       "    <tr>\n",
       "      <th>210</th>\n",
       "      <td>Viral</td>\n",
       "      <td>type</td>\n",
       "      <td>null</td>\n",
       "      <td>null</td>\n",
       "      <td>7.0</td>\n",
       "      <td>None</td>\n",
       "    </tr>\n",
       "  </tbody>\n",
       "</table>\n",
       "</div>"
      ],
      "text/plain": [
       "        id level taxonomic_span taxonomic_span_id  description parent\n",
       "210  Viral  type           null              null          7.0   None"
      ]
     },
     "execution_count": 11,
     "metadata": {},
     "output_type": "execute_result"
    }
   ],
   "source": [
    "query = \"SELECT * FROM histone\"\n",
    "cursor.execute(query)\n",
    "histone_df = pd.DataFrame(cursor.fetchall(), columns=[i[0] for i in cursor.description])\n",
    "histone_df[histone_df[\"id\"] == \"Viral\"]"
   ]
  },
  {
   "cell_type": "code",
   "execution_count": 12,
   "id": "fc480015-3ad4-473a-8d98-fb9c72607f85",
   "metadata": {
    "tags": []
   },
   "outputs": [
    {
     "data": {
      "text/html": [
       "<div>\n",
       "<style scoped>\n",
       "    .dataframe tbody tr th:only-of-type {\n",
       "        vertical-align: middle;\n",
       "    }\n",
       "\n",
       "    .dataframe tbody tr th {\n",
       "        vertical-align: top;\n",
       "    }\n",
       "\n",
       "    .dataframe thead th {\n",
       "        text-align: right;\n",
       "    }\n",
       "</style>\n",
       "<table border=\"1\" class=\"dataframe\">\n",
       "  <thead>\n",
       "    <tr style=\"text-align: right;\">\n",
       "      <th></th>\n",
       "      <th>id</th>\n",
       "      <th>level</th>\n",
       "      <th>taxonomic_span</th>\n",
       "      <th>taxonomic_span_id</th>\n",
       "      <th>description</th>\n",
       "      <th>parent</th>\n",
       "    </tr>\n",
       "  </thead>\n",
       "  <tbody>\n",
       "  </tbody>\n",
       "</table>\n",
       "</div>"
      ],
      "text/plain": [
       "Empty DataFrame\n",
       "Columns: [id, level, taxonomic_span, taxonomic_span_id, description, parent]\n",
       "Index: []"
      ]
     },
     "execution_count": 12,
     "metadata": {},
     "output_type": "execute_result"
    }
   ],
   "source": [
    "query = f\"DELETE FROM histone WHERE id='Viral'\"\n",
    "cursor.execute(query)\n",
    "\n",
    "query = \"SELECT * FROM histone\"\n",
    "cursor.execute(query)\n",
    "histone_df = pd.DataFrame(cursor.fetchall(), columns=[i[0] for i in cursor.description])\n",
    "histone_df[histone_df[\"id\"] == \"Viral\"]"
   ]
  },
  {
   "cell_type": "markdown",
   "id": "7ba46c5f-ff4b-47fd-aabb-1e5323d931fa",
   "metadata": {
    "jp-MarkdownHeadingCollapsed": true,
    "tags": []
   },
   "source": [
    "# Add Coiled-coil"
   ]
  },
  {
   "cell_type": "code",
   "execution_count": 17,
   "id": "9c76d027-68aa-4902-b20e-7b6c00752433",
   "metadata": {
    "tags": []
   },
   "outputs": [],
   "source": [
    "data_histone = {\n",
    "    \"id\": \"Coiled-coil\",\n",
    "    \"level\": 'variant_group',\n",
    "    \"taxonomic_span\": 'Archaea',\n",
    "    \"taxonomic_span_id\": '2157',\n",
    "    \"description\": None,\n",
    "    \"parent\": 'Bridge',\n",
    "}\n",
    "cursor.execute(add_histone, data_histone)\n",
    "\n",
    "# Make sure data is committed to the database\n",
    "conn.commit()"
   ]
  },
  {
   "cell_type": "code",
   "execution_count": 18,
   "id": "c3071e06-9eec-4107-9e67-9d1d8585e93b",
   "metadata": {
    "tags": []
   },
   "outputs": [
    {
     "data": {
      "text/html": [
       "<div>\n",
       "<style scoped>\n",
       "    .dataframe tbody tr th:only-of-type {\n",
       "        vertical-align: middle;\n",
       "    }\n",
       "\n",
       "    .dataframe tbody tr th {\n",
       "        vertical-align: top;\n",
       "    }\n",
       "\n",
       "    .dataframe thead th {\n",
       "        text-align: right;\n",
       "    }\n",
       "</style>\n",
       "<table border=\"1\" class=\"dataframe\">\n",
       "  <thead>\n",
       "    <tr style=\"text-align: right;\">\n",
       "      <th></th>\n",
       "      <th>id</th>\n",
       "      <th>level</th>\n",
       "      <th>taxonomic_span</th>\n",
       "      <th>taxonomic_span_id</th>\n",
       "      <th>description</th>\n",
       "      <th>parent</th>\n",
       "    </tr>\n",
       "  </thead>\n",
       "  <tbody>\n",
       "    <tr>\n",
       "      <th>76</th>\n",
       "      <td>Coiled-coil</td>\n",
       "      <td>variant_group</td>\n",
       "      <td>Archaea</td>\n",
       "      <td>2157</td>\n",
       "      <td>NaN</td>\n",
       "      <td>Bridge</td>\n",
       "    </tr>\n",
       "  </tbody>\n",
       "</table>\n",
       "</div>"
      ],
      "text/plain": [
       "             id          level taxonomic_span taxonomic_span_id  description  \\\n",
       "76  Coiled-coil  variant_group        Archaea              2157          NaN   \n",
       "\n",
       "    parent  \n",
       "76  Bridge  "
      ]
     },
     "execution_count": 18,
     "metadata": {},
     "output_type": "execute_result"
    }
   ],
   "source": [
    "query = \"SELECT * FROM histone\"\n",
    "cursor.execute(query)\n",
    "histone_df = pd.DataFrame(cursor.fetchall(), columns=[i[0] for i in cursor.description])\n",
    "histone_df[histone_df[\"id\"] == \"Coiled-coil\"]"
   ]
  },
  {
   "cell_type": "code",
   "execution_count": 23,
   "id": "e527cdca-fff5-4743-83ec-059f9efdeaaa",
   "metadata": {
    "tags": []
   },
   "outputs": [
    {
     "data": {
      "text/html": [
       "<div>\n",
       "<style scoped>\n",
       "    .dataframe tbody tr th:only-of-type {\n",
       "        vertical-align: middle;\n",
       "    }\n",
       "\n",
       "    .dataframe tbody tr th {\n",
       "        vertical-align: top;\n",
       "    }\n",
       "\n",
       "    .dataframe thead th {\n",
       "        text-align: right;\n",
       "    }\n",
       "</style>\n",
       "<table border=\"1\" class=\"dataframe\">\n",
       "  <thead>\n",
       "    <tr style=\"text-align: right;\">\n",
       "      <th></th>\n",
       "      <th>id</th>\n",
       "      <th>level</th>\n",
       "      <th>taxonomic_span</th>\n",
       "      <th>taxonomic_span_id</th>\n",
       "      <th>description</th>\n",
       "      <th>parent</th>\n",
       "    </tr>\n",
       "  </thead>\n",
       "  <tbody>\n",
       "    <tr>\n",
       "      <th>76</th>\n",
       "      <td>Coiled-coil</td>\n",
       "      <td>variant</td>\n",
       "      <td>Archaea</td>\n",
       "      <td>2157</td>\n",
       "      <td>NaN</td>\n",
       "      <td>Bridge</td>\n",
       "    </tr>\n",
       "  </tbody>\n",
       "</table>\n",
       "</div>"
      ],
      "text/plain": [
       "             id    level taxonomic_span taxonomic_span_id  description  parent\n",
       "76  Coiled-coil  variant        Archaea              2157          NaN  Bridge"
      ]
     },
     "execution_count": 23,
     "metadata": {},
     "output_type": "execute_result"
    }
   ],
   "source": [
    "query = f\"UPDATE histone SET level='variant' WHERE id='Coiled-coil'\"\n",
    "cursor.execute(query)\n",
    "\n",
    "query = \"SELECT * FROM histone\"\n",
    "cursor.execute(query)\n",
    "histone_df = pd.DataFrame(cursor.fetchall(), columns=[i[0] for i in cursor.description])\n",
    "histone_df[histone_df[\"id\"] == \"Coiled-coil\"]"
   ]
  },
  {
   "cell_type": "code",
   "execution_count": 24,
   "id": "acdb645e-b555-4234-a463-103788e34929",
   "metadata": {
    "tags": []
   },
   "outputs": [],
   "source": [
    "histone_description_summary = 'Coiled-coil (CC) histones are a type of histones that have been identified bioinformatically in archaea [schwab_histones_2024]. These histones contain a long α-helix at their C-terminus, which forms a coiled-coil bundle within a tetrameric structure. Predicted by AlphaFold2, they bind two DNA strands through dimers, demonstrating bridging activity. Experimental observations have revealed that the DNA bridging activity of CC histones increases in a concentration-dependent manner, with higher concentrations of CC histones (referred to as HMfC) from M. fervidus resulting in greater activity [schwab_histones_2024]. CC histones are distinguished by the presence of conserved positively charged residues (R32, K35) on the α1-helix, which facilitate interaction with DNA [schwab_histones_2024].'\n",
    "data_histone_description = (histone_description_summary,) + (None,) * 13\n",
    "cursor.execute(add_histone_description, data_histone_description)\n",
    "\n",
    "histone_description_id = cursor.lastrowid\n",
    "query = f\"UPDATE histone SET description={histone_description_id} WHERE id='Coiled-coil'\"\n",
    "cursor.execute(query)\n",
    "\n",
    "# Make sure data is committed to the database\n",
    "conn.commit()"
   ]
  },
  {
   "cell_type": "code",
   "execution_count": 25,
   "id": "a08a3e72-0189-45a3-ad99-16f99554db90",
   "metadata": {
    "tags": []
   },
   "outputs": [
    {
     "data": {
      "text/html": [
       "<div>\n",
       "<style scoped>\n",
       "    .dataframe tbody tr th:only-of-type {\n",
       "        vertical-align: middle;\n",
       "    }\n",
       "\n",
       "    .dataframe tbody tr th {\n",
       "        vertical-align: top;\n",
       "    }\n",
       "\n",
       "    .dataframe thead th {\n",
       "        text-align: right;\n",
       "    }\n",
       "</style>\n",
       "<table border=\"1\" class=\"dataframe\">\n",
       "  <thead>\n",
       "    <tr style=\"text-align: right;\">\n",
       "      <th></th>\n",
       "      <th>id</th>\n",
       "      <th>level</th>\n",
       "      <th>taxonomic_span</th>\n",
       "      <th>taxonomic_span_id</th>\n",
       "      <th>description</th>\n",
       "      <th>parent</th>\n",
       "      <th>id</th>\n",
       "      <th>summary</th>\n",
       "      <th>taxonomy</th>\n",
       "      <th>genes</th>\n",
       "      <th>...</th>\n",
       "      <th>knock_out</th>\n",
       "      <th>function</th>\n",
       "      <th>sequence</th>\n",
       "      <th>localization</th>\n",
       "      <th>deposition</th>\n",
       "      <th>structure</th>\n",
       "      <th>interactions</th>\n",
       "      <th>disease</th>\n",
       "      <th>caveats</th>\n",
       "      <th>relations</th>\n",
       "    </tr>\n",
       "  </thead>\n",
       "  <tbody>\n",
       "    <tr>\n",
       "      <th>0</th>\n",
       "      <td>Coiled-coil</td>\n",
       "      <td>variant</td>\n",
       "      <td>Archaea</td>\n",
       "      <td>2157</td>\n",
       "      <td>217</td>\n",
       "      <td>Bridge</td>\n",
       "      <td>217</td>\n",
       "      <td>Coiled-coil (CC) histones are a type of histon...</td>\n",
       "      <td>None</td>\n",
       "      <td>None</td>\n",
       "      <td>...</td>\n",
       "      <td>None</td>\n",
       "      <td>None</td>\n",
       "      <td>None</td>\n",
       "      <td>None</td>\n",
       "      <td>None</td>\n",
       "      <td>None</td>\n",
       "      <td>None</td>\n",
       "      <td>None</td>\n",
       "      <td>None</td>\n",
       "      <td>None</td>\n",
       "    </tr>\n",
       "  </tbody>\n",
       "</table>\n",
       "<p>1 rows × 22 columns</p>\n",
       "</div>"
      ],
      "text/plain": [
       "            id    level taxonomic_span taxonomic_span_id  description  parent  \\\n",
       "0  Coiled-coil  variant        Archaea              2157          217  Bridge   \n",
       "\n",
       "    id                                            summary taxonomy genes  ...  \\\n",
       "0  217  Coiled-coil (CC) histones are a type of histon...     None  None  ...   \n",
       "\n",
       "  knock_out function sequence localization deposition structure interactions  \\\n",
       "0      None     None     None         None       None      None         None   \n",
       "\n",
       "  disease caveats relations  \n",
       "0    None    None      None  \n",
       "\n",
       "[1 rows x 22 columns]"
      ]
     },
     "execution_count": 25,
     "metadata": {},
     "output_type": "execute_result"
    }
   ],
   "source": [
    "query = (\n",
    "    \"SELECT * FROM histone h LEFT JOIN histone_description hd \"\n",
    "    \"ON h.description = hd.id \"\n",
    "    \"WHERE h.id='Coiled-coil'\"\n",
    ")\n",
    "cursor.execute(query)\n",
    "pd.DataFrame(cursor.fetchall(), columns=[i[0] for i in cursor.description])"
   ]
  },
  {
   "cell_type": "markdown",
   "id": "c598fad7-2d16-45ac-b285-7382fc493192",
   "metadata": {
    "jp-MarkdownHeadingCollapsed": true,
    "tags": []
   },
   "source": [
    "# Add Bridge_(Methanococcales)"
   ]
  },
  {
   "cell_type": "code",
   "execution_count": 26,
   "id": "9c155a7b-edb9-4a56-8b9e-843afb223b4b",
   "metadata": {
    "tags": []
   },
   "outputs": [],
   "source": [
    "data_histone = {\n",
    "    \"id\": \"Bridge_(Methanococcales)\",\n",
    "    \"level\": 'variant_group',\n",
    "    \"taxonomic_span\": 'Methanococcales',\n",
    "    \"taxonomic_span_id\": '2182',\n",
    "    \"description\": None,\n",
    "    \"parent\": 'Bridge',\n",
    "}\n",
    "cursor.execute(add_histone, data_histone)\n",
    "\n",
    "# Make sure data is committed to the database\n",
    "conn.commit()"
   ]
  },
  {
   "cell_type": "code",
   "execution_count": 27,
   "id": "df7d99a7-68b4-45a1-8423-444fd059f27d",
   "metadata": {
    "tags": []
   },
   "outputs": [
    {
     "data": {
      "text/html": [
       "<div>\n",
       "<style scoped>\n",
       "    .dataframe tbody tr th:only-of-type {\n",
       "        vertical-align: middle;\n",
       "    }\n",
       "\n",
       "    .dataframe tbody tr th {\n",
       "        vertical-align: top;\n",
       "    }\n",
       "\n",
       "    .dataframe thead th {\n",
       "        text-align: right;\n",
       "    }\n",
       "</style>\n",
       "<table border=\"1\" class=\"dataframe\">\n",
       "  <thead>\n",
       "    <tr style=\"text-align: right;\">\n",
       "      <th></th>\n",
       "      <th>id</th>\n",
       "      <th>level</th>\n",
       "      <th>taxonomic_span</th>\n",
       "      <th>taxonomic_span_id</th>\n",
       "      <th>description</th>\n",
       "      <th>parent</th>\n",
       "    </tr>\n",
       "  </thead>\n",
       "  <tbody>\n",
       "    <tr>\n",
       "      <th>2</th>\n",
       "      <td>Bridge_(Methanococcales)</td>\n",
       "      <td>variant_group</td>\n",
       "      <td>Methanococcales</td>\n",
       "      <td>2182</td>\n",
       "      <td>NaN</td>\n",
       "      <td>Bridge</td>\n",
       "    </tr>\n",
       "  </tbody>\n",
       "</table>\n",
       "</div>"
      ],
      "text/plain": [
       "                         id          level   taxonomic_span taxonomic_span_id  \\\n",
       "2  Bridge_(Methanococcales)  variant_group  Methanococcales              2182   \n",
       "\n",
       "   description  parent  \n",
       "2          NaN  Bridge  "
      ]
     },
     "execution_count": 27,
     "metadata": {},
     "output_type": "execute_result"
    }
   ],
   "source": [
    "query = \"SELECT * FROM histone\"\n",
    "cursor.execute(query)\n",
    "histone_df = pd.DataFrame(cursor.fetchall(), columns=[i[0] for i in cursor.description])\n",
    "histone_df[histone_df[\"id\"] == \"Bridge_(Methanococcales)\"]"
   ]
  },
  {
   "cell_type": "code",
   "execution_count": 28,
   "id": "8229095b-16b3-4c7e-a038-d4e72b014c7c",
   "metadata": {
    "tags": []
   },
   "outputs": [
    {
     "data": {
      "text/html": [
       "<div>\n",
       "<style scoped>\n",
       "    .dataframe tbody tr th:only-of-type {\n",
       "        vertical-align: middle;\n",
       "    }\n",
       "\n",
       "    .dataframe tbody tr th {\n",
       "        vertical-align: top;\n",
       "    }\n",
       "\n",
       "    .dataframe thead th {\n",
       "        text-align: right;\n",
       "    }\n",
       "</style>\n",
       "<table border=\"1\" class=\"dataframe\">\n",
       "  <thead>\n",
       "    <tr style=\"text-align: right;\">\n",
       "      <th></th>\n",
       "      <th>id</th>\n",
       "      <th>level</th>\n",
       "      <th>taxonomic_span</th>\n",
       "      <th>taxonomic_span_id</th>\n",
       "      <th>description</th>\n",
       "      <th>parent</th>\n",
       "    </tr>\n",
       "  </thead>\n",
       "  <tbody>\n",
       "    <tr>\n",
       "      <th>2</th>\n",
       "      <td>Bridge_(Methanococcales)</td>\n",
       "      <td>variant</td>\n",
       "      <td>Methanococcales</td>\n",
       "      <td>2182</td>\n",
       "      <td>NaN</td>\n",
       "      <td>Bridge</td>\n",
       "    </tr>\n",
       "  </tbody>\n",
       "</table>\n",
       "</div>"
      ],
      "text/plain": [
       "                         id    level   taxonomic_span taxonomic_span_id  \\\n",
       "2  Bridge_(Methanococcales)  variant  Methanococcales              2182   \n",
       "\n",
       "   description  parent  \n",
       "2          NaN  Bridge  "
      ]
     },
     "execution_count": 28,
     "metadata": {},
     "output_type": "execute_result"
    }
   ],
   "source": [
    "query = f\"UPDATE histone SET level='variant' WHERE id='Bridge_(Methanococcales)'\"\n",
    "cursor.execute(query)\n",
    "\n",
    "query = \"SELECT * FROM histone\"\n",
    "cursor.execute(query)\n",
    "histone_df = pd.DataFrame(cursor.fetchall(), columns=[i[0] for i in cursor.description])\n",
    "histone_df[histone_df[\"id\"] == \"Bridge_(Methanococcales)\"]"
   ]
  },
  {
   "cell_type": "code",
   "execution_count": 29,
   "id": "9c851e95-6831-4438-a84b-ae58239b575f",
   "metadata": {
    "tags": []
   },
   "outputs": [],
   "source": [
    "histone_description_summary = 'Bridge_(Methanococcales) are specialized DNA-bridging histones exclusive to archaea of the order Methanococcales. These histones were predicted and confirmed by AlphaFold2 and crystallography (e.g., MJ1647 from Methanocaldococcus jannaschii, PDB: 8BDK) [schwab_histones_2024, Ofer_dna-bridging_2023]. These histones possess a distinctive C-terminal domain that facilitates tetramerization and the formation of bridges between DNA strands. The conservation of residues such as R45 and K49 on the α1-helix, which bind to DNA, along with the absence of tails, suggests adaptation to hyperthermophilic conditions [schwab_histones_2024].'\n",
    "data_histone_description = (histone_description_summary,) + (None,) * 13\n",
    "cursor.execute(add_histone_description, data_histone_description)\n",
    "\n",
    "histone_description_id = cursor.lastrowid\n",
    "query = f\"UPDATE histone SET description={histone_description_id} WHERE id='Bridge_(Methanococcales)'\"\n",
    "cursor.execute(query)\n",
    "\n",
    "# Make sure data is committed to the database\n",
    "conn.commit()"
   ]
  },
  {
   "cell_type": "code",
   "execution_count": 30,
   "id": "70043c2c-8f2d-4457-a5c9-bd1b4ea408c3",
   "metadata": {
    "tags": []
   },
   "outputs": [
    {
     "data": {
      "text/html": [
       "<div>\n",
       "<style scoped>\n",
       "    .dataframe tbody tr th:only-of-type {\n",
       "        vertical-align: middle;\n",
       "    }\n",
       "\n",
       "    .dataframe tbody tr th {\n",
       "        vertical-align: top;\n",
       "    }\n",
       "\n",
       "    .dataframe thead th {\n",
       "        text-align: right;\n",
       "    }\n",
       "</style>\n",
       "<table border=\"1\" class=\"dataframe\">\n",
       "  <thead>\n",
       "    <tr style=\"text-align: right;\">\n",
       "      <th></th>\n",
       "      <th>id</th>\n",
       "      <th>level</th>\n",
       "      <th>taxonomic_span</th>\n",
       "      <th>taxonomic_span_id</th>\n",
       "      <th>description</th>\n",
       "      <th>parent</th>\n",
       "      <th>id</th>\n",
       "      <th>summary</th>\n",
       "      <th>taxonomy</th>\n",
       "      <th>genes</th>\n",
       "      <th>...</th>\n",
       "      <th>knock_out</th>\n",
       "      <th>function</th>\n",
       "      <th>sequence</th>\n",
       "      <th>localization</th>\n",
       "      <th>deposition</th>\n",
       "      <th>structure</th>\n",
       "      <th>interactions</th>\n",
       "      <th>disease</th>\n",
       "      <th>caveats</th>\n",
       "      <th>relations</th>\n",
       "    </tr>\n",
       "  </thead>\n",
       "  <tbody>\n",
       "    <tr>\n",
       "      <th>0</th>\n",
       "      <td>Bridge_(Methanococcales)</td>\n",
       "      <td>variant</td>\n",
       "      <td>Methanococcales</td>\n",
       "      <td>2182</td>\n",
       "      <td>218</td>\n",
       "      <td>Bridge</td>\n",
       "      <td>218</td>\n",
       "      <td>Bridge_(Methanococcales) are specialized DNA-b...</td>\n",
       "      <td>None</td>\n",
       "      <td>None</td>\n",
       "      <td>...</td>\n",
       "      <td>None</td>\n",
       "      <td>None</td>\n",
       "      <td>None</td>\n",
       "      <td>None</td>\n",
       "      <td>None</td>\n",
       "      <td>None</td>\n",
       "      <td>None</td>\n",
       "      <td>None</td>\n",
       "      <td>None</td>\n",
       "      <td>None</td>\n",
       "    </tr>\n",
       "  </tbody>\n",
       "</table>\n",
       "<p>1 rows × 22 columns</p>\n",
       "</div>"
      ],
      "text/plain": [
       "                         id    level   taxonomic_span taxonomic_span_id  \\\n",
       "0  Bridge_(Methanococcales)  variant  Methanococcales              2182   \n",
       "\n",
       "   description  parent   id  \\\n",
       "0          218  Bridge  218   \n",
       "\n",
       "                                             summary taxonomy genes  ...  \\\n",
       "0  Bridge_(Methanococcales) are specialized DNA-b...     None  None  ...   \n",
       "\n",
       "  knock_out function sequence localization deposition structure interactions  \\\n",
       "0      None     None     None         None       None      None         None   \n",
       "\n",
       "  disease caveats relations  \n",
       "0    None    None      None  \n",
       "\n",
       "[1 rows x 22 columns]"
      ]
     },
     "execution_count": 30,
     "metadata": {},
     "output_type": "execute_result"
    }
   ],
   "source": [
    "query = (\n",
    "    \"SELECT * FROM histone h LEFT JOIN histone_description hd \"\n",
    "    \"ON h.description = hd.id \"\n",
    "    \"WHERE h.id='Bridge_(Methanococcales)'\"\n",
    ")\n",
    "cursor.execute(query)\n",
    "pd.DataFrame(cursor.fetchall(), columns=[i[0] for i in cursor.description])"
   ]
  },
  {
   "cell_type": "markdown",
   "id": "a04238ba-5158-4527-a5c2-fde6abdc2aa1",
   "metadata": {
    "jp-MarkdownHeadingCollapsed": true,
    "tags": []
   },
   "source": [
    "# Update description for Bridge node"
   ]
  },
  {
   "cell_type": "code",
   "execution_count": 35,
   "id": "ec3853c6-8f58-49d9-974a-3db61795bfa4",
   "metadata": {
    "tags": []
   },
   "outputs": [
    {
     "data": {
      "text/plain": [
       "array([['Bridge', 214,\n",
       "        'DNA-bridge histones binds two strands of DNA together to form bridges.']],\n",
       "      dtype=object)"
      ]
     },
     "execution_count": 35,
     "metadata": {},
     "output_type": "execute_result"
    }
   ],
   "source": [
    "query = (\n",
    "    \"SELECT * FROM histone h LEFT JOIN histone_description hd \"\n",
    "    \"ON h.description = hd.id \"\n",
    "    \"WHERE h.id='Bridge'\"\n",
    ")\n",
    "cursor.execute(query)\n",
    "pd.DataFrame(cursor.fetchall(), columns=[i[0] for i in cursor.description])[['id', 'summary']].values"
   ]
  },
  {
   "cell_type": "code",
   "execution_count": 36,
   "id": "6d2ea233-940a-4607-8e43-c2cc8579168d",
   "metadata": {
    "tags": []
   },
   "outputs": [
    {
     "data": {
      "text/plain": [
       "array(['DNA-bridge histones binds two strands of DNA together to form bridges. In contrast to classical histones, these variants do not wrap around DNA, but rather stabilize long-range interactions, thereby contributing to the three-dimensional organization of the genome [schwab_histones_2024].'],\n",
       "      dtype=object)"
      ]
     },
     "execution_count": 36,
     "metadata": {},
     "output_type": "execute_result"
    }
   ],
   "source": [
    "query = f\"UPDATE histone_description SET summary='DNA-bridge histones binds two strands of DNA together to form bridges. In contrast to classical histones, these variants do not wrap around DNA, but rather stabilize long-range interactions, thereby contributing to the three-dimensional organization of the genome [schwab_histones_2024].' WHERE id=214\"\n",
    "cursor.execute(query)\n",
    "\n",
    "query = (\n",
    "    \"SELECT * FROM histone h LEFT JOIN histone_description hd \"\n",
    "    \"ON h.description = hd.id \"\n",
    "    \"WHERE h.id='Bridge'\"\n",
    ")\n",
    "cursor.execute(query)\n",
    "pd.DataFrame(cursor.fetchall(), columns=[i[0] for i in cursor.description])['summary'].values"
   ]
  },
  {
   "cell_type": "code",
   "execution_count": 37,
   "id": "44a196fe-ddbb-4dd2-ba4a-bf12be5c618e",
   "metadata": {
    "tags": []
   },
   "outputs": [],
   "source": [
    "# Make sure data is committed to the database\n",
    "conn.commit()"
   ]
  },
  {
   "cell_type": "markdown",
   "id": "461a33f7-1025-46f8-ae5c-c72639bdfb55",
   "metadata": {
    "jp-MarkdownHeadingCollapsed": true,
    "tags": []
   },
   "source": [
    "# Update taxonomy span for Nucleosomal histones"
   ]
  },
  {
   "cell_type": "code",
   "execution_count": 38,
   "id": "567253e7-f66d-4f25-9702-caafec4a6da3",
   "metadata": {
    "tags": []
   },
   "outputs": [
    {
     "data": {
      "text/html": [
       "<div>\n",
       "<style scoped>\n",
       "    .dataframe tbody tr th:only-of-type {\n",
       "        vertical-align: middle;\n",
       "    }\n",
       "\n",
       "    .dataframe tbody tr th {\n",
       "        vertical-align: top;\n",
       "    }\n",
       "\n",
       "    .dataframe thead th {\n",
       "        text-align: right;\n",
       "    }\n",
       "</style>\n",
       "<table border=\"1\" class=\"dataframe\">\n",
       "  <thead>\n",
       "    <tr style=\"text-align: right;\">\n",
       "      <th></th>\n",
       "      <th>id</th>\n",
       "      <th>level</th>\n",
       "      <th>taxonomic_span</th>\n",
       "      <th>taxonomic_span_id</th>\n",
       "      <th>description</th>\n",
       "      <th>parent</th>\n",
       "    </tr>\n",
       "  </thead>\n",
       "  <tbody>\n",
       "    <tr>\n",
       "      <th>200</th>\n",
       "      <td>Nucleosomal</td>\n",
       "      <td>variant_group</td>\n",
       "      <td>Archaea, Bacteria</td>\n",
       "      <td>2157, 2</td>\n",
       "      <td>213.0</td>\n",
       "      <td>Singlet</td>\n",
       "    </tr>\n",
       "  </tbody>\n",
       "</table>\n",
       "</div>"
      ],
      "text/plain": [
       "              id          level     taxonomic_span taxonomic_span_id  \\\n",
       "200  Nucleosomal  variant_group  Archaea, Bacteria           2157, 2   \n",
       "\n",
       "     description   parent  \n",
       "200        213.0  Singlet  "
      ]
     },
     "execution_count": 38,
     "metadata": {},
     "output_type": "execute_result"
    }
   ],
   "source": [
    "query = \"SELECT * FROM histone\"\n",
    "cursor.execute(query)\n",
    "histone_df = pd.DataFrame(cursor.fetchall(), columns=[i[0] for i in cursor.description])\n",
    "histone_df[histone_df[\"id\"] == \"Nucleosomal\"]"
   ]
  },
  {
   "cell_type": "code",
   "execution_count": 39,
   "id": "7226adde-10fd-4282-b6f5-d33f15cc7387",
   "metadata": {
    "tags": []
   },
   "outputs": [
    {
     "data": {
      "text/html": [
       "<div>\n",
       "<style scoped>\n",
       "    .dataframe tbody tr th:only-of-type {\n",
       "        vertical-align: middle;\n",
       "    }\n",
       "\n",
       "    .dataframe tbody tr th {\n",
       "        vertical-align: top;\n",
       "    }\n",
       "\n",
       "    .dataframe thead th {\n",
       "        text-align: right;\n",
       "    }\n",
       "</style>\n",
       "<table border=\"1\" class=\"dataframe\">\n",
       "  <thead>\n",
       "    <tr style=\"text-align: right;\">\n",
       "      <th></th>\n",
       "      <th>id</th>\n",
       "      <th>level</th>\n",
       "      <th>taxonomic_span</th>\n",
       "      <th>taxonomic_span_id</th>\n",
       "      <th>description</th>\n",
       "      <th>parent</th>\n",
       "    </tr>\n",
       "  </thead>\n",
       "  <tbody>\n",
       "    <tr>\n",
       "      <th>200</th>\n",
       "      <td>Nucleosomal</td>\n",
       "      <td>variant_group</td>\n",
       "      <td>Archaea</td>\n",
       "      <td>2157</td>\n",
       "      <td>213.0</td>\n",
       "      <td>Singlet</td>\n",
       "    </tr>\n",
       "  </tbody>\n",
       "</table>\n",
       "</div>"
      ],
      "text/plain": [
       "              id          level taxonomic_span taxonomic_span_id  description  \\\n",
       "200  Nucleosomal  variant_group        Archaea              2157        213.0   \n",
       "\n",
       "      parent  \n",
       "200  Singlet  "
      ]
     },
     "execution_count": 39,
     "metadata": {},
     "output_type": "execute_result"
    }
   ],
   "source": [
    "query = f\"UPDATE histone SET taxonomic_span='Archaea', taxonomic_span_id=2157 WHERE id='Nucleosomal'\"\n",
    "cursor.execute(query)\n",
    "\n",
    "query = \"SELECT * FROM histone\"\n",
    "cursor.execute(query)\n",
    "histone_df = pd.DataFrame(cursor.fetchall(), columns=[i[0] for i in cursor.description])\n",
    "histone_df[histone_df[\"id\"] == \"Nucleosomal\"]"
   ]
  },
  {
   "cell_type": "code",
   "execution_count": 37,
   "id": "f53421e9-0854-46e6-aa93-0554226eb068",
   "metadata": {
    "tags": []
   },
   "outputs": [],
   "source": [
    "# Make sure data is committed to the database\n",
    "conn.commit()"
   ]
  },
  {
   "cell_type": "markdown",
   "id": "40bcd7a7-2410-4633-81ed-fae1f96412f7",
   "metadata": {
    "jp-MarkdownHeadingCollapsed": true,
    "tags": []
   },
   "source": [
    "# Add RdgC-histones"
   ]
  },
  {
   "cell_type": "code",
   "execution_count": 40,
   "id": "e6843581-efb9-414f-8e81-e0204ca3669e",
   "metadata": {
    "tags": []
   },
   "outputs": [],
   "source": [
    "data_histone = {\n",
    "    \"id\": \"RdgC-histones\",\n",
    "    \"level\": 'variant',\n",
    "    \"taxonomic_span\": 'Bacteria',\n",
    "    \"taxonomic_span_id\": '2',\n",
    "    \"description\": None,\n",
    "    \"parent\": 'Bridge',\n",
    "}\n",
    "cursor.execute(add_histone, data_histone)\n",
    "\n",
    "# Make sure data is committed to the database\n",
    "conn.commit()"
   ]
  },
  {
   "cell_type": "code",
   "execution_count": 42,
   "id": "9cc1e73b-78d2-49d0-b6e4-b1f115381083",
   "metadata": {
    "tags": []
   },
   "outputs": [
    {
     "data": {
      "text/html": [
       "<div>\n",
       "<style scoped>\n",
       "    .dataframe tbody tr th:only-of-type {\n",
       "        vertical-align: middle;\n",
       "    }\n",
       "\n",
       "    .dataframe tbody tr th {\n",
       "        vertical-align: top;\n",
       "    }\n",
       "\n",
       "    .dataframe thead th {\n",
       "        text-align: right;\n",
       "    }\n",
       "</style>\n",
       "<table border=\"1\" class=\"dataframe\">\n",
       "  <thead>\n",
       "    <tr style=\"text-align: right;\">\n",
       "      <th></th>\n",
       "      <th>id</th>\n",
       "      <th>level</th>\n",
       "      <th>taxonomic_span</th>\n",
       "      <th>taxonomic_span_id</th>\n",
       "      <th>description</th>\n",
       "      <th>parent</th>\n",
       "    </tr>\n",
       "  </thead>\n",
       "  <tbody>\n",
       "    <tr>\n",
       "      <th>203</th>\n",
       "      <td>RdgC-histones</td>\n",
       "      <td>variant</td>\n",
       "      <td>Bacteria</td>\n",
       "      <td>2</td>\n",
       "      <td>NaN</td>\n",
       "      <td>Bridge</td>\n",
       "    </tr>\n",
       "  </tbody>\n",
       "</table>\n",
       "</div>"
      ],
      "text/plain": [
       "                id    level taxonomic_span taxonomic_span_id  description  \\\n",
       "203  RdgC-histones  variant       Bacteria                 2          NaN   \n",
       "\n",
       "     parent  \n",
       "203  Bridge  "
      ]
     },
     "execution_count": 42,
     "metadata": {},
     "output_type": "execute_result"
    }
   ],
   "source": [
    "query = \"SELECT * FROM histone\"\n",
    "cursor.execute(query)\n",
    "histone_df = pd.DataFrame(cursor.fetchall(), columns=[i[0] for i in cursor.description])\n",
    "histone_df[histone_df[\"id\"] == \"RdgC-histones\"]"
   ]
  },
  {
   "cell_type": "code",
   "execution_count": 43,
   "id": "3cc834ee-493b-43f4-81fe-a023e0bf970e",
   "metadata": {
    "tags": []
   },
   "outputs": [],
   "source": [
    "histone_description_summary = 'RdgC histones have been identified in certain Bacillus and Halobacteria species through bioinformatic methods including AlphaFold2 structure prediction, sequence clustering (CLANS) and hidden Markov models (HMM) [schwab_histones_2024]. These histones are functionally related to DNA recombination and interaction with proteins (e.g., RecA). RdgC histones are encoded in operons together with RdgC-like proteins and transmembrane domains, suggesting a role in specialized processes other than classical DNA compacting. Despite the low sequence identity, the key DNA-binding residues (e.g., K34) on the α1-helix are retained, thereby confirming their classification within the histone superfamily [schwab_histones_2024].'\n",
    "data_histone_description = (histone_description_summary,) + (None,) * 13\n",
    "cursor.execute(add_histone_description, data_histone_description)\n",
    "\n",
    "histone_description_id = cursor.lastrowid\n",
    "query = f\"UPDATE histone SET description={histone_description_id} WHERE id='RdgC-histones'\"\n",
    "cursor.execute(query)\n",
    "\n",
    "# Make sure data is committed to the database\n",
    "conn.commit()"
   ]
  },
  {
   "cell_type": "code",
   "execution_count": 44,
   "id": "b220354a-979b-4b12-8fea-14395fb8ef18",
   "metadata": {
    "tags": []
   },
   "outputs": [
    {
     "data": {
      "text/html": [
       "<div>\n",
       "<style scoped>\n",
       "    .dataframe tbody tr th:only-of-type {\n",
       "        vertical-align: middle;\n",
       "    }\n",
       "\n",
       "    .dataframe tbody tr th {\n",
       "        vertical-align: top;\n",
       "    }\n",
       "\n",
       "    .dataframe thead th {\n",
       "        text-align: right;\n",
       "    }\n",
       "</style>\n",
       "<table border=\"1\" class=\"dataframe\">\n",
       "  <thead>\n",
       "    <tr style=\"text-align: right;\">\n",
       "      <th></th>\n",
       "      <th>id</th>\n",
       "      <th>level</th>\n",
       "      <th>taxonomic_span</th>\n",
       "      <th>taxonomic_span_id</th>\n",
       "      <th>description</th>\n",
       "      <th>parent</th>\n",
       "      <th>id</th>\n",
       "      <th>summary</th>\n",
       "      <th>taxonomy</th>\n",
       "      <th>genes</th>\n",
       "      <th>...</th>\n",
       "      <th>knock_out</th>\n",
       "      <th>function</th>\n",
       "      <th>sequence</th>\n",
       "      <th>localization</th>\n",
       "      <th>deposition</th>\n",
       "      <th>structure</th>\n",
       "      <th>interactions</th>\n",
       "      <th>disease</th>\n",
       "      <th>caveats</th>\n",
       "      <th>relations</th>\n",
       "    </tr>\n",
       "  </thead>\n",
       "  <tbody>\n",
       "    <tr>\n",
       "      <th>0</th>\n",
       "      <td>RdgC-histones</td>\n",
       "      <td>variant</td>\n",
       "      <td>Bacteria</td>\n",
       "      <td>2</td>\n",
       "      <td>219</td>\n",
       "      <td>Bridge</td>\n",
       "      <td>219</td>\n",
       "      <td>RdgC histones have been identified in certain ...</td>\n",
       "      <td>None</td>\n",
       "      <td>None</td>\n",
       "      <td>...</td>\n",
       "      <td>None</td>\n",
       "      <td>None</td>\n",
       "      <td>None</td>\n",
       "      <td>None</td>\n",
       "      <td>None</td>\n",
       "      <td>None</td>\n",
       "      <td>None</td>\n",
       "      <td>None</td>\n",
       "      <td>None</td>\n",
       "      <td>None</td>\n",
       "    </tr>\n",
       "  </tbody>\n",
       "</table>\n",
       "<p>1 rows × 22 columns</p>\n",
       "</div>"
      ],
      "text/plain": [
       "              id    level taxonomic_span taxonomic_span_id  description  \\\n",
       "0  RdgC-histones  variant       Bacteria                 2          219   \n",
       "\n",
       "   parent   id                                            summary taxonomy  \\\n",
       "0  Bridge  219  RdgC histones have been identified in certain ...     None   \n",
       "\n",
       "  genes  ... knock_out function sequence localization deposition structure  \\\n",
       "0  None  ...      None     None     None         None       None      None   \n",
       "\n",
       "  interactions disease caveats relations  \n",
       "0         None    None    None      None  \n",
       "\n",
       "[1 rows x 22 columns]"
      ]
     },
     "execution_count": 44,
     "metadata": {},
     "output_type": "execute_result"
    }
   ],
   "source": [
    "query = (\n",
    "    \"SELECT * FROM histone h LEFT JOIN histone_description hd \"\n",
    "    \"ON h.description = hd.id \"\n",
    "    \"WHERE h.id='RdgC-histones'\"\n",
    ")\n",
    "cursor.execute(query)\n",
    "pd.DataFrame(cursor.fetchall(), columns=[i[0] for i in cursor.description])"
   ]
  },
  {
   "cell_type": "markdown",
   "id": "e5aff109-0379-4d0b-91d2-be48d67bdd08",
   "metadata": {
    "jp-MarkdownHeadingCollapsed": true,
    "tags": []
   },
   "source": [
    "# Add Phage-histones"
   ]
  },
  {
   "cell_type": "code",
   "execution_count": 46,
   "id": "aee63209-4306-44bb-a784-cb88398cd11d",
   "metadata": {
    "tags": []
   },
   "outputs": [],
   "source": [
    "data_histone = {\n",
    "    \"id\": \"Phage-histones\",\n",
    "    \"level\": 'variant',\n",
    "    \"taxonomic_span\": 'Bacteria (?), Viruses',\n",
    "    \"taxonomic_span_id\": '2 (?), 10239',\n",
    "    \"description\": None,\n",
    "    \"parent\": 'Bridge',\n",
    "}\n",
    "cursor.execute(add_histone, data_histone)\n",
    "\n",
    "# Make sure data is committed to the database\n",
    "conn.commit()"
   ]
  },
  {
   "cell_type": "code",
   "execution_count": 47,
   "id": "7b1fb278-15ac-4b71-b0bf-5f2f36810e74",
   "metadata": {
    "tags": []
   },
   "outputs": [
    {
     "data": {
      "text/html": [
       "<div>\n",
       "<style scoped>\n",
       "    .dataframe tbody tr th:only-of-type {\n",
       "        vertical-align: middle;\n",
       "    }\n",
       "\n",
       "    .dataframe tbody tr th {\n",
       "        vertical-align: top;\n",
       "    }\n",
       "\n",
       "    .dataframe thead th {\n",
       "        text-align: right;\n",
       "    }\n",
       "</style>\n",
       "<table border=\"1\" class=\"dataframe\">\n",
       "  <thead>\n",
       "    <tr style=\"text-align: right;\">\n",
       "      <th></th>\n",
       "      <th>id</th>\n",
       "      <th>level</th>\n",
       "      <th>taxonomic_span</th>\n",
       "      <th>taxonomic_span_id</th>\n",
       "      <th>description</th>\n",
       "      <th>parent</th>\n",
       "    </tr>\n",
       "  </thead>\n",
       "  <tbody>\n",
       "    <tr>\n",
       "      <th>202</th>\n",
       "      <td>Phage-histones</td>\n",
       "      <td>variant</td>\n",
       "      <td>Bacteria (?), Viruses</td>\n",
       "      <td>2 (?), 10239</td>\n",
       "      <td>NaN</td>\n",
       "      <td>Bridge</td>\n",
       "    </tr>\n",
       "  </tbody>\n",
       "</table>\n",
       "</div>"
      ],
      "text/plain": [
       "                 id    level         taxonomic_span taxonomic_span_id  \\\n",
       "202  Phage-histones  variant  Bacteria (?), Viruses      2 (?), 10239   \n",
       "\n",
       "     description  parent  \n",
       "202          NaN  Bridge  "
      ]
     },
     "execution_count": 47,
     "metadata": {},
     "output_type": "execute_result"
    }
   ],
   "source": [
    "query = \"SELECT * FROM histone\"\n",
    "cursor.execute(query)\n",
    "histone_df = pd.DataFrame(cursor.fetchall(), columns=[i[0] for i in cursor.description])\n",
    "histone_df[histone_df[\"id\"] == \"Phage-histones\"]"
   ]
  },
  {
   "cell_type": "code",
   "execution_count": 48,
   "id": "d431379c-c531-48f4-bf79-03d12a35fcf8",
   "metadata": {
    "tags": []
   },
   "outputs": [],
   "source": [
    "histone_description_summary = 'Phage histones are histones identified in DNA-containing bacteriophages (e.g., order Caudovirales) and in some bacterial metagenomes (might be a prophage) using using bioinformatic methods including AlphaFold2 structure prediction, sequence clustering (CLANS) and hidden Markov models (HMM) [schwab_histones_2024]. They contain a histone fold domain at the N-terminus and an α-helical domain at the C-terminus for tetramerization. Phage histones are involved in viral DNA packaging but do not form nucleosomes like eukaryotic histones, it might bridge DNA through C-terminal domain [schwab_histones_2024]. Notably, these histones exhibit low sequence conservation, yet they retain critical DNA-binding residues, such as K10 and K49, which are pivotal for their function [schwab_histones_2024].'\n",
    "data_histone_description = (histone_description_summary,) + (None,) * 13\n",
    "cursor.execute(add_histone_description, data_histone_description)\n",
    "\n",
    "histone_description_id = cursor.lastrowid\n",
    "query = f\"UPDATE histone SET description={histone_description_id} WHERE id='Phage-histones'\"\n",
    "cursor.execute(query)\n",
    "\n",
    "# Make sure data is committed to the database\n",
    "conn.commit()"
   ]
  },
  {
   "cell_type": "code",
   "execution_count": 49,
   "id": "7583320e-5aaa-45b1-a410-ce999161326e",
   "metadata": {
    "tags": []
   },
   "outputs": [
    {
     "data": {
      "text/html": [
       "<div>\n",
       "<style scoped>\n",
       "    .dataframe tbody tr th:only-of-type {\n",
       "        vertical-align: middle;\n",
       "    }\n",
       "\n",
       "    .dataframe tbody tr th {\n",
       "        vertical-align: top;\n",
       "    }\n",
       "\n",
       "    .dataframe thead th {\n",
       "        text-align: right;\n",
       "    }\n",
       "</style>\n",
       "<table border=\"1\" class=\"dataframe\">\n",
       "  <thead>\n",
       "    <tr style=\"text-align: right;\">\n",
       "      <th></th>\n",
       "      <th>id</th>\n",
       "      <th>level</th>\n",
       "      <th>taxonomic_span</th>\n",
       "      <th>taxonomic_span_id</th>\n",
       "      <th>description</th>\n",
       "      <th>parent</th>\n",
       "      <th>id</th>\n",
       "      <th>summary</th>\n",
       "      <th>taxonomy</th>\n",
       "      <th>genes</th>\n",
       "      <th>...</th>\n",
       "      <th>knock_out</th>\n",
       "      <th>function</th>\n",
       "      <th>sequence</th>\n",
       "      <th>localization</th>\n",
       "      <th>deposition</th>\n",
       "      <th>structure</th>\n",
       "      <th>interactions</th>\n",
       "      <th>disease</th>\n",
       "      <th>caveats</th>\n",
       "      <th>relations</th>\n",
       "    </tr>\n",
       "  </thead>\n",
       "  <tbody>\n",
       "    <tr>\n",
       "      <th>0</th>\n",
       "      <td>Phage-histones</td>\n",
       "      <td>variant</td>\n",
       "      <td>Bacteria (?), Viruses</td>\n",
       "      <td>2 (?), 10239</td>\n",
       "      <td>220</td>\n",
       "      <td>Bridge</td>\n",
       "      <td>220</td>\n",
       "      <td>Phage histones are histones identified in DNA-...</td>\n",
       "      <td>None</td>\n",
       "      <td>None</td>\n",
       "      <td>...</td>\n",
       "      <td>None</td>\n",
       "      <td>None</td>\n",
       "      <td>None</td>\n",
       "      <td>None</td>\n",
       "      <td>None</td>\n",
       "      <td>None</td>\n",
       "      <td>None</td>\n",
       "      <td>None</td>\n",
       "      <td>None</td>\n",
       "      <td>None</td>\n",
       "    </tr>\n",
       "  </tbody>\n",
       "</table>\n",
       "<p>1 rows × 22 columns</p>\n",
       "</div>"
      ],
      "text/plain": [
       "               id    level         taxonomic_span taxonomic_span_id  \\\n",
       "0  Phage-histones  variant  Bacteria (?), Viruses      2 (?), 10239   \n",
       "\n",
       "   description  parent   id  \\\n",
       "0          220  Bridge  220   \n",
       "\n",
       "                                             summary taxonomy genes  ...  \\\n",
       "0  Phage histones are histones identified in DNA-...     None  None  ...   \n",
       "\n",
       "  knock_out function sequence localization deposition structure interactions  \\\n",
       "0      None     None     None         None       None      None         None   \n",
       "\n",
       "  disease caveats relations  \n",
       "0    None    None      None  \n",
       "\n",
       "[1 rows x 22 columns]"
      ]
     },
     "execution_count": 49,
     "metadata": {},
     "output_type": "execute_result"
    }
   ],
   "source": [
    "query = (\n",
    "    \"SELECT * FROM histone h LEFT JOIN histone_description hd \"\n",
    "    \"ON h.description = hd.id \"\n",
    "    \"WHERE h.id='Phage-histones'\"\n",
    ")\n",
    "cursor.execute(query)\n",
    "pd.DataFrame(cursor.fetchall(), columns=[i[0] for i in cursor.description])"
   ]
  },
  {
   "cell_type": "markdown",
   "id": "9ec3b090-bdae-4408-8086-8b74d9f0d36e",
   "metadata": {
    "jp-MarkdownHeadingCollapsed": true,
    "tags": []
   },
   "source": [
    "# Add Capstone_(Methanosphaera)"
   ]
  },
  {
   "cell_type": "code",
   "execution_count": 50,
   "id": "1044ed95-ed33-47b0-8c5d-919f5937ed54",
   "metadata": {
    "tags": []
   },
   "outputs": [],
   "source": [
    "data_histone = {\n",
    "    \"id\": \"Capstone_(Methanosphaera)\",\n",
    "    \"level\": 'variant',\n",
    "    \"taxonomic_span\": 'Archaea',\n",
    "    \"taxonomic_span_id\": '2157',\n",
    "    \"description\": None,\n",
    "    \"parent\": 'Bridge',\n",
    "}\n",
    "cursor.execute(add_histone, data_histone)\n",
    "\n",
    "# Make sure data is committed to the database\n",
    "conn.commit()"
   ]
  },
  {
   "cell_type": "code",
   "execution_count": 51,
   "id": "a51960bf-5ede-423d-aafc-4417a0a11100",
   "metadata": {
    "tags": []
   },
   "outputs": [
    {
     "data": {
      "text/html": [
       "<div>\n",
       "<style scoped>\n",
       "    .dataframe tbody tr th:only-of-type {\n",
       "        vertical-align: middle;\n",
       "    }\n",
       "\n",
       "    .dataframe tbody tr th {\n",
       "        vertical-align: top;\n",
       "    }\n",
       "\n",
       "    .dataframe thead th {\n",
       "        text-align: right;\n",
       "    }\n",
       "</style>\n",
       "<table border=\"1\" class=\"dataframe\">\n",
       "  <thead>\n",
       "    <tr style=\"text-align: right;\">\n",
       "      <th></th>\n",
       "      <th>id</th>\n",
       "      <th>level</th>\n",
       "      <th>taxonomic_span</th>\n",
       "      <th>taxonomic_span_id</th>\n",
       "      <th>description</th>\n",
       "      <th>parent</th>\n",
       "    </tr>\n",
       "  </thead>\n",
       "  <tbody>\n",
       "    <tr>\n",
       "      <th>4</th>\n",
       "      <td>Capstone_(Methanosphaera)</td>\n",
       "      <td>variant</td>\n",
       "      <td>Archaea</td>\n",
       "      <td>2157</td>\n",
       "      <td>NaN</td>\n",
       "      <td>Bridge</td>\n",
       "    </tr>\n",
       "  </tbody>\n",
       "</table>\n",
       "</div>"
      ],
      "text/plain": [
       "                          id    level taxonomic_span taxonomic_span_id  \\\n",
       "4  Capstone_(Methanosphaera)  variant        Archaea              2157   \n",
       "\n",
       "   description  parent  \n",
       "4          NaN  Bridge  "
      ]
     },
     "execution_count": 51,
     "metadata": {},
     "output_type": "execute_result"
    }
   ],
   "source": [
    "query = \"SELECT * FROM histone\"\n",
    "cursor.execute(query)\n",
    "histone_df = pd.DataFrame(cursor.fetchall(), columns=[i[0] for i in cursor.description])\n",
    "histone_df[histone_df[\"id\"] == \"Capstone_(Methanosphaera)\"]"
   ]
  },
  {
   "cell_type": "code",
   "execution_count": 52,
   "id": "e9ef5a56-4ea2-4218-9e40-518d5172740d",
   "metadata": {
    "tags": []
   },
   "outputs": [
    {
     "data": {
      "text/html": [
       "<div>\n",
       "<style scoped>\n",
       "    .dataframe tbody tr th:only-of-type {\n",
       "        vertical-align: middle;\n",
       "    }\n",
       "\n",
       "    .dataframe tbody tr th {\n",
       "        vertical-align: top;\n",
       "    }\n",
       "\n",
       "    .dataframe thead th {\n",
       "        text-align: right;\n",
       "    }\n",
       "</style>\n",
       "<table border=\"1\" class=\"dataframe\">\n",
       "  <thead>\n",
       "    <tr style=\"text-align: right;\">\n",
       "      <th></th>\n",
       "      <th>id</th>\n",
       "      <th>level</th>\n",
       "      <th>taxonomic_span</th>\n",
       "      <th>taxonomic_span_id</th>\n",
       "      <th>description</th>\n",
       "      <th>parent</th>\n",
       "    </tr>\n",
       "  </thead>\n",
       "  <tbody>\n",
       "    <tr>\n",
       "      <th>4</th>\n",
       "      <td>Capstone_(Methanosphaera)</td>\n",
       "      <td>variant</td>\n",
       "      <td>Archaea</td>\n",
       "      <td>2157</td>\n",
       "      <td>NaN</td>\n",
       "      <td>Capstone</td>\n",
       "    </tr>\n",
       "  </tbody>\n",
       "</table>\n",
       "</div>"
      ],
      "text/plain": [
       "                          id    level taxonomic_span taxonomic_span_id  \\\n",
       "4  Capstone_(Methanosphaera)  variant        Archaea              2157   \n",
       "\n",
       "   description    parent  \n",
       "4          NaN  Capstone  "
      ]
     },
     "execution_count": 52,
     "metadata": {},
     "output_type": "execute_result"
    }
   ],
   "source": [
    "query = f\"UPDATE histone SET parent='Capstone' WHERE id='Capstone_(Methanosphaera)'\"\n",
    "cursor.execute(query)\n",
    "\n",
    "query = \"SELECT * FROM histone\"\n",
    "cursor.execute(query)\n",
    "histone_df = pd.DataFrame(cursor.fetchall(), columns=[i[0] for i in cursor.description])\n",
    "histone_df[histone_df[\"id\"] == \"Capstone_(Methanosphaera)\"]"
   ]
  },
  {
   "cell_type": "code",
   "execution_count": 53,
   "id": "fdd46f15-06f9-4d7b-b698-f87af789b7b5",
   "metadata": {
    "tags": []
   },
   "outputs": [
    {
     "data": {
      "text/html": [
       "<div>\n",
       "<style scoped>\n",
       "    .dataframe tbody tr th:only-of-type {\n",
       "        vertical-align: middle;\n",
       "    }\n",
       "\n",
       "    .dataframe tbody tr th {\n",
       "        vertical-align: top;\n",
       "    }\n",
       "\n",
       "    .dataframe thead th {\n",
       "        text-align: right;\n",
       "    }\n",
       "</style>\n",
       "<table border=\"1\" class=\"dataframe\">\n",
       "  <thead>\n",
       "    <tr style=\"text-align: right;\">\n",
       "      <th></th>\n",
       "      <th>id</th>\n",
       "      <th>level</th>\n",
       "      <th>taxonomic_span</th>\n",
       "      <th>taxonomic_span_id</th>\n",
       "      <th>description</th>\n",
       "      <th>parent</th>\n",
       "    </tr>\n",
       "  </thead>\n",
       "  <tbody>\n",
       "    <tr>\n",
       "      <th>4</th>\n",
       "      <td>Capstone_(Methanosphaera)</td>\n",
       "      <td>variant</td>\n",
       "      <td>Methanosphaera</td>\n",
       "      <td>2316</td>\n",
       "      <td>NaN</td>\n",
       "      <td>Capstone</td>\n",
       "    </tr>\n",
       "  </tbody>\n",
       "</table>\n",
       "</div>"
      ],
      "text/plain": [
       "                          id    level  taxonomic_span taxonomic_span_id  \\\n",
       "4  Capstone_(Methanosphaera)  variant  Methanosphaera              2316   \n",
       "\n",
       "   description    parent  \n",
       "4          NaN  Capstone  "
      ]
     },
     "execution_count": 53,
     "metadata": {},
     "output_type": "execute_result"
    }
   ],
   "source": [
    "query = f\"UPDATE histone SET taxonomic_span='Methanosphaera', taxonomic_span_id=2316  WHERE id='Capstone_(Methanosphaera)'\"\n",
    "cursor.execute(query)\n",
    "\n",
    "query = \"SELECT * FROM histone\"\n",
    "cursor.execute(query)\n",
    "histone_df = pd.DataFrame(cursor.fetchall(), columns=[i[0] for i in cursor.description])\n",
    "histone_df[histone_df[\"id\"] == \"Capstone_(Methanosphaera)\"]"
   ]
  },
  {
   "cell_type": "code",
   "execution_count": 54,
   "id": "701ff0d8-1f7e-4887-8198-4308a84afadb",
   "metadata": {
    "tags": []
   },
   "outputs": [],
   "source": [
    "histone_description_summary = 'Capostones found in Methanosphaera that contain a hydrophobic amino acid in a specific position have been identified as crucial for tetramer formation [marc_archaeal_2002].'\n",
    "data_histone_description = (histone_description_summary,) + (None,) * 13\n",
    "cursor.execute(add_histone_description, data_histone_description)\n",
    "\n",
    "histone_description_id = cursor.lastrowid\n",
    "query = f\"UPDATE histone SET description={histone_description_id} WHERE id='Capstone_(Methanosphaera)'\"\n",
    "cursor.execute(query)\n",
    "\n",
    "# Make sure data is committed to the database\n",
    "conn.commit()"
   ]
  },
  {
   "cell_type": "code",
   "execution_count": 55,
   "id": "af3cd35d-0de7-46a7-83c9-e7700fee434f",
   "metadata": {
    "tags": []
   },
   "outputs": [
    {
     "data": {
      "text/html": [
       "<div>\n",
       "<style scoped>\n",
       "    .dataframe tbody tr th:only-of-type {\n",
       "        vertical-align: middle;\n",
       "    }\n",
       "\n",
       "    .dataframe tbody tr th {\n",
       "        vertical-align: top;\n",
       "    }\n",
       "\n",
       "    .dataframe thead th {\n",
       "        text-align: right;\n",
       "    }\n",
       "</style>\n",
       "<table border=\"1\" class=\"dataframe\">\n",
       "  <thead>\n",
       "    <tr style=\"text-align: right;\">\n",
       "      <th></th>\n",
       "      <th>id</th>\n",
       "      <th>level</th>\n",
       "      <th>taxonomic_span</th>\n",
       "      <th>taxonomic_span_id</th>\n",
       "      <th>description</th>\n",
       "      <th>parent</th>\n",
       "      <th>id</th>\n",
       "      <th>summary</th>\n",
       "      <th>taxonomy</th>\n",
       "      <th>genes</th>\n",
       "      <th>...</th>\n",
       "      <th>knock_out</th>\n",
       "      <th>function</th>\n",
       "      <th>sequence</th>\n",
       "      <th>localization</th>\n",
       "      <th>deposition</th>\n",
       "      <th>structure</th>\n",
       "      <th>interactions</th>\n",
       "      <th>disease</th>\n",
       "      <th>caveats</th>\n",
       "      <th>relations</th>\n",
       "    </tr>\n",
       "  </thead>\n",
       "  <tbody>\n",
       "    <tr>\n",
       "      <th>0</th>\n",
       "      <td>Capstone_(Methanosphaera)</td>\n",
       "      <td>variant</td>\n",
       "      <td>Methanosphaera</td>\n",
       "      <td>2316</td>\n",
       "      <td>221</td>\n",
       "      <td>Capstone</td>\n",
       "      <td>221</td>\n",
       "      <td>Capostones found in Methanosphaera that contai...</td>\n",
       "      <td>None</td>\n",
       "      <td>None</td>\n",
       "      <td>...</td>\n",
       "      <td>None</td>\n",
       "      <td>None</td>\n",
       "      <td>None</td>\n",
       "      <td>None</td>\n",
       "      <td>None</td>\n",
       "      <td>None</td>\n",
       "      <td>None</td>\n",
       "      <td>None</td>\n",
       "      <td>None</td>\n",
       "      <td>None</td>\n",
       "    </tr>\n",
       "  </tbody>\n",
       "</table>\n",
       "<p>1 rows × 22 columns</p>\n",
       "</div>"
      ],
      "text/plain": [
       "                          id    level  taxonomic_span taxonomic_span_id  \\\n",
       "0  Capstone_(Methanosphaera)  variant  Methanosphaera              2316   \n",
       "\n",
       "   description    parent   id  \\\n",
       "0          221  Capstone  221   \n",
       "\n",
       "                                             summary taxonomy genes  ...  \\\n",
       "0  Capostones found in Methanosphaera that contai...     None  None  ...   \n",
       "\n",
       "  knock_out function sequence localization deposition structure interactions  \\\n",
       "0      None     None     None         None       None      None         None   \n",
       "\n",
       "  disease caveats relations  \n",
       "0    None    None      None  \n",
       "\n",
       "[1 rows x 22 columns]"
      ]
     },
     "execution_count": 55,
     "metadata": {},
     "output_type": "execute_result"
    }
   ],
   "source": [
    "query = (\n",
    "    \"SELECT * FROM histone h LEFT JOIN histone_description hd \"\n",
    "    \"ON h.description = hd.id \"\n",
    "    \"WHERE h.id='Capstone_(Methanosphaera)'\"\n",
    ")\n",
    "cursor.execute(query)\n",
    "pd.DataFrame(cursor.fetchall(), columns=[i[0] for i in cursor.description])"
   ]
  },
  {
   "cell_type": "markdown",
   "id": "62417136-8067-4661-8675-8ccec2bf6e55",
   "metadata": {
    "jp-MarkdownHeadingCollapsed": true,
    "tags": []
   },
   "source": [
    "# Add Capstones_(Methanobrevibacter)"
   ]
  },
  {
   "cell_type": "code",
   "execution_count": 56,
   "id": "dea94b7d-db41-458c-80f3-cf5c1d018db3",
   "metadata": {
    "tags": []
   },
   "outputs": [],
   "source": [
    "data_histone = {\n",
    "    \"id\": \"Capstones_(Methanobrevibacter)\",\n",
    "    \"level\": 'variant',\n",
    "    \"taxonomic_span\": 'Methanobrevibacter',\n",
    "    \"taxonomic_span_id\": '2172 ',\n",
    "    \"description\": None,\n",
    "    \"parent\": 'Capstone',\n",
    "}\n",
    "cursor.execute(add_histone, data_histone)\n",
    "\n",
    "# Make sure data is committed to the database\n",
    "conn.commit()"
   ]
  },
  {
   "cell_type": "code",
   "execution_count": 58,
   "id": "5233c33b-f26e-4424-894b-b9532ec29577",
   "metadata": {
    "tags": []
   },
   "outputs": [
    {
     "data": {
      "text/html": [
       "<div>\n",
       "<style scoped>\n",
       "    .dataframe tbody tr th:only-of-type {\n",
       "        vertical-align: middle;\n",
       "    }\n",
       "\n",
       "    .dataframe tbody tr th {\n",
       "        vertical-align: top;\n",
       "    }\n",
       "\n",
       "    .dataframe thead th {\n",
       "        text-align: right;\n",
       "    }\n",
       "</style>\n",
       "<table border=\"1\" class=\"dataframe\">\n",
       "  <thead>\n",
       "    <tr style=\"text-align: right;\">\n",
       "      <th></th>\n",
       "      <th>id</th>\n",
       "      <th>level</th>\n",
       "      <th>taxonomic_span</th>\n",
       "      <th>taxonomic_span_id</th>\n",
       "      <th>description</th>\n",
       "      <th>parent</th>\n",
       "    </tr>\n",
       "  </thead>\n",
       "  <tbody>\n",
       "    <tr>\n",
       "      <th>4</th>\n",
       "      <td>Capstones_(Methanobrevibacter)</td>\n",
       "      <td>variant</td>\n",
       "      <td>Methanobrevibacter</td>\n",
       "      <td>2172</td>\n",
       "      <td>NaN</td>\n",
       "      <td>Capstone</td>\n",
       "    </tr>\n",
       "  </tbody>\n",
       "</table>\n",
       "</div>"
      ],
      "text/plain": [
       "                               id    level      taxonomic_span  \\\n",
       "4  Capstones_(Methanobrevibacter)  variant  Methanobrevibacter   \n",
       "\n",
       "  taxonomic_span_id  description    parent  \n",
       "4             2172           NaN  Capstone  "
      ]
     },
     "execution_count": 58,
     "metadata": {},
     "output_type": "execute_result"
    }
   ],
   "source": [
    "query = \"SELECT * FROM histone\"\n",
    "cursor.execute(query)\n",
    "histone_df = pd.DataFrame(cursor.fetchall(), columns=[i[0] for i in cursor.description])\n",
    "histone_df[histone_df[\"id\"] == \"Capstones_(Methanobrevibacter)\"]"
   ]
  },
  {
   "cell_type": "code",
   "execution_count": 59,
   "id": "a1fe4fb9-71e4-4fb3-b538-c1ef642e7869",
   "metadata": {
    "tags": []
   },
   "outputs": [],
   "source": [
    "histone_description_summary = 'Capostones found in Methanobrevibacter and contain a negatively amino acid in a specific position have been identified as crucial for tetramer formation [marc_archaeal_2002].'\n",
    "data_histone_description = (histone_description_summary,) + (None,) * 13\n",
    "cursor.execute(add_histone_description, data_histone_description)\n",
    "\n",
    "histone_description_id = cursor.lastrowid\n",
    "query = f\"UPDATE histone SET description={histone_description_id} WHERE id='Capstones_(Methanobrevibacter)'\"\n",
    "cursor.execute(query)\n",
    "\n",
    "# Make sure data is committed to the database\n",
    "conn.commit()"
   ]
  },
  {
   "cell_type": "code",
   "execution_count": 60,
   "id": "95d3ba69-6dc4-4490-be81-007468697138",
   "metadata": {
    "tags": []
   },
   "outputs": [
    {
     "data": {
      "text/html": [
       "<div>\n",
       "<style scoped>\n",
       "    .dataframe tbody tr th:only-of-type {\n",
       "        vertical-align: middle;\n",
       "    }\n",
       "\n",
       "    .dataframe tbody tr th {\n",
       "        vertical-align: top;\n",
       "    }\n",
       "\n",
       "    .dataframe thead th {\n",
       "        text-align: right;\n",
       "    }\n",
       "</style>\n",
       "<table border=\"1\" class=\"dataframe\">\n",
       "  <thead>\n",
       "    <tr style=\"text-align: right;\">\n",
       "      <th></th>\n",
       "      <th>id</th>\n",
       "      <th>level</th>\n",
       "      <th>taxonomic_span</th>\n",
       "      <th>taxonomic_span_id</th>\n",
       "      <th>description</th>\n",
       "      <th>parent</th>\n",
       "      <th>id</th>\n",
       "      <th>summary</th>\n",
       "      <th>taxonomy</th>\n",
       "      <th>genes</th>\n",
       "      <th>...</th>\n",
       "      <th>knock_out</th>\n",
       "      <th>function</th>\n",
       "      <th>sequence</th>\n",
       "      <th>localization</th>\n",
       "      <th>deposition</th>\n",
       "      <th>structure</th>\n",
       "      <th>interactions</th>\n",
       "      <th>disease</th>\n",
       "      <th>caveats</th>\n",
       "      <th>relations</th>\n",
       "    </tr>\n",
       "  </thead>\n",
       "  <tbody>\n",
       "    <tr>\n",
       "      <th>0</th>\n",
       "      <td>Capstones_(Methanobrevibacter)</td>\n",
       "      <td>variant</td>\n",
       "      <td>Methanobrevibacter</td>\n",
       "      <td>2172</td>\n",
       "      <td>222</td>\n",
       "      <td>Capstone</td>\n",
       "      <td>222</td>\n",
       "      <td>Capostones found in Methanobrevibacter and con...</td>\n",
       "      <td>None</td>\n",
       "      <td>None</td>\n",
       "      <td>...</td>\n",
       "      <td>None</td>\n",
       "      <td>None</td>\n",
       "      <td>None</td>\n",
       "      <td>None</td>\n",
       "      <td>None</td>\n",
       "      <td>None</td>\n",
       "      <td>None</td>\n",
       "      <td>None</td>\n",
       "      <td>None</td>\n",
       "      <td>None</td>\n",
       "    </tr>\n",
       "  </tbody>\n",
       "</table>\n",
       "<p>1 rows × 22 columns</p>\n",
       "</div>"
      ],
      "text/plain": [
       "                               id    level      taxonomic_span  \\\n",
       "0  Capstones_(Methanobrevibacter)  variant  Methanobrevibacter   \n",
       "\n",
       "  taxonomic_span_id  description    parent   id  \\\n",
       "0             2172           222  Capstone  222   \n",
       "\n",
       "                                             summary taxonomy genes  ...  \\\n",
       "0  Capostones found in Methanobrevibacter and con...     None  None  ...   \n",
       "\n",
       "  knock_out function sequence localization deposition structure interactions  \\\n",
       "0      None     None     None         None       None      None         None   \n",
       "\n",
       "  disease caveats relations  \n",
       "0    None    None      None  \n",
       "\n",
       "[1 rows x 22 columns]"
      ]
     },
     "execution_count": 60,
     "metadata": {},
     "output_type": "execute_result"
    }
   ],
   "source": [
    "query = (\n",
    "    \"SELECT * FROM histone h LEFT JOIN histone_description hd \"\n",
    "    \"ON h.description = hd.id \"\n",
    "    \"WHERE h.id='Capstones_(Methanobrevibacter)'\"\n",
    ")\n",
    "cursor.execute(query)\n",
    "pd.DataFrame(cursor.fetchall(), columns=[i[0] for i in cursor.description])"
   ]
  },
  {
   "cell_type": "code",
   "execution_count": null,
   "id": "7415b9e8-d482-46dd-994d-438e4994e2dd",
   "metadata": {},
   "outputs": [],
   "source": []
  },
  {
   "cell_type": "markdown",
   "id": "d3c8a219-f508-46e1-936f-7d6040016e39",
   "metadata": {
    "tags": []
   },
   "source": [
    "# Close connections"
   ]
  },
  {
   "cell_type": "code",
   "execution_count": 61,
   "id": "572059d8-54f9-4ec7-a2c6-1c8066552845",
   "metadata": {
    "tags": []
   },
   "outputs": [],
   "source": [
    "cursor.close()\n",
    "conn.close()\n",
    "tunnel.stop()"
   ]
  },
  {
   "cell_type": "code",
   "execution_count": null,
   "id": "790ee020-09af-4dcc-9c36-f1b3f69ea8a7",
   "metadata": {},
   "outputs": [],
   "source": []
  }
 ],
 "metadata": {
  "@deathbeds/ipydrawio": {
   "xml": ""
  },
  "kernelspec": {
   "display_name": ".conda-histdb_env",
   "language": "python",
   "name": "conda-env-.conda-histdb_env-py"
  },
  "language_info": {
   "codemirror_mode": {
    "name": "ipython",
    "version": 3
   },
   "file_extension": ".py",
   "mimetype": "text/x-python",
   "name": "python",
   "nbconvert_exporter": "python",
   "pygments_lexer": "ipython3",
   "version": "3.8.1"
  }
 },
 "nbformat": 4,
 "nbformat_minor": 5
}
