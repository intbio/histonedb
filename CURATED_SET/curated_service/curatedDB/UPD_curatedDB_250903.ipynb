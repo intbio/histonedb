{
 "cells": [
  {
   "cell_type": "code",
   "execution_count": 1,
   "id": "53d3ec55-7daf-4ade-8add-2830b709dc54",
   "metadata": {
    "tags": []
   },
   "outputs": [],
   "source": [
    "import io\n",
    "\n",
    "import pandas as pd\n",
    "from Bio import Entrez, SeqIO\n",
    "from mysql.connector import connection\n",
    "from sshtunnel import SSHTunnelForwarder\n",
    "\n",
    "# Укажите ваш email (обязательно для использования Entrez)\n",
    "Entrez.email = \"your.email@example.com\""
   ]
  },
  {
   "cell_type": "code",
   "execution_count": 2,
   "id": "608c4bfe-b979-4b60-b2b5-b94eeb679cb5",
   "metadata": {
    "tags": []
   },
   "outputs": [],
   "source": [
    "with open(\"db_curated_server_info.txt\", \"r\") as file:\n",
    "    lines = file.readlines()\n",
    "\n",
    "config = {}\n",
    "\n",
    "for line in lines:\n",
    "    line = line.strip()\n",
    "    if line and not line.startswith(\"#\"):\n",
    "        key, value = line.split(\"=\", 1)\n",
    "        config[key] = value.strip()\n",
    "\n",
    "server_name = config.get(\"server_name\")\n",
    "srever_port = int(config.get(\"srever_port\"))\n",
    "ssh_password = config.get(\"ssh_password\")\n",
    "ssh_username = config.get(\"ssh_username\")\n",
    "db_adress = config.get(\"db_adress\")\n",
    "db_port = int(config.get(\"db_port\"))"
   ]
  },
  {
   "cell_type": "code",
   "execution_count": 3,
   "id": "4e19aa1c-49a3-48c4-b67f-34c94cef608d",
   "metadata": {
    "tags": []
   },
   "outputs": [
    {
     "name": "stdout",
     "output_type": "stream",
     "text": [
      "41191\n"
     ]
    }
   ],
   "source": [
    "tunnel = SSHTunnelForwarder(\n",
    "    (server_name, srever_port),\n",
    "    ssh_password=ssh_password,\n",
    "    ssh_username=ssh_username,\n",
    "    remote_bind_address=(db_adress, db_port),\n",
    ")\n",
    "tunnel.start()\n",
    "print(tunnel.local_bind_port)"
   ]
  },
  {
   "cell_type": "code",
   "execution_count": 4,
   "id": "cef2275b-12d0-48f1-ad3c-ce4cdb9aa267",
   "metadata": {
    "tags": []
   },
   "outputs": [],
   "source": [
    "conn = connection.MySQLConnection(\n",
    "    user=\"db_user\",\n",
    "    password=\"db_password\",\n",
    "    host=\"localhost\",\n",
    "    port=tunnel.local_bind_port,\n",
    "    database=\"db_name\",\n",
    ")\n",
    "cursor = conn.cursor()"
   ]
  },
  {
   "cell_type": "code",
   "execution_count": 5,
   "id": "f589ea8d-8b83-4331-a1cf-b64ed7621801",
   "metadata": {
    "tags": []
   },
   "outputs": [
    {
     "data": {
      "text/plain": [
       "[('alternative_name',),\n",
       " ('histone',),\n",
       " ('histone_description',),\n",
       " ('histone_has_publication',),\n",
       " ('publication',),\n",
       " ('sequence',),\n",
       " ('sequence_has_publication',)]"
      ]
     },
     "execution_count": 5,
     "metadata": {},
     "output_type": "execute_result"
    }
   ],
   "source": [
    "query = \"SHOW TABLES;\"\n",
    "cursor.execute(query)\n",
    "cursor.fetchall()"
   ]
  },
  {
   "cell_type": "code",
   "execution_count": 6,
   "id": "b3dd9ef8-b162-4127-9535-ac7743af8c69",
   "metadata": {
    "tags": []
   },
   "outputs": [],
   "source": [
    "# add_histone = (\n",
    "#     \"INSERT INTO histone \"\n",
    "#     \"(id, level, taxonomic_span, taxonomic_span_id, description, parent) \"\n",
    "#     \"VALUES (%(id)s, %(level)s, %(taxonomic_span)s, %(taxonomic_span_id)s, %(description)s, %(parent)s)\"\n",
    "# )\n",
    "add_histone_description = (\n",
    "    \"INSERT INTO histone_description \"\n",
    "    \"(summary, taxonomy, genes, evolution, expression, knock_out, function, sequence, localization, deposition, structure, interactions, disease, caveats) \"\n",
    "    \"VALUES (%s, %s, %s, %s, %s, %s, %s, %s, %s, %s, %s, %s, %s, %s)\"\n",
    ")\n",
    "# add_publication = (\n",
    "#     \"INSERT INTO publication \"\n",
    "#     \"(id, title, doi, author, year) \"\n",
    "#     \"VALUES (%(id)s, %(title)s, %(doi)s, %(author)s, %(year)s)\"\n",
    "# )\n",
    "# add_sequence = (\n",
    "#     \"INSERT INTO sequence \"\n",
    "#     \"(accession, variant, gi, ncbi_gene_id, hgnc_gene_name, taxonomy_id, organism, phylum, class, taxonomy_group, info, sequence, variant_under_consideration) \"\n",
    "#     \"VALUES (%(accession)s, %(variant)s, %(gi)s, %(ncbi_gene_id)s, %(hgnc_gene_name)s, %(taxonomy_id)s, %(organism)s, %(phylum)s, %(class)s, %(taxonomy_group)s, %(info)s, %(sequence)s, %(variant_under_consideration)s)\"\n",
    "# )\n",
    "# add_sequence_has_publication = (\n",
    "#     \"INSERT INTO sequence_has_publication \"\n",
    "#     \"(sequence_accession, publication_id) \"\n",
    "#     \"VALUES (%s, %s)\"\n",
    "# )\n",
    "# add_alternate_names = (\n",
    "#     \"INSERT INTO alternative_name \"\n",
    "#     \"(name, taxonomy, gene, splice, histone) \"\n",
    "#     \"VALUES (%(name)s, %(taxonomy)s, %(gene)s, %(splice)s, %(histone)s)\"\n",
    "# )\n",
    "# add_histone_has_publication = (\n",
    "#     \"INSERT INTO histone_has_publication \"\n",
    "#     \"(histone_id, publication_id) \"\n",
    "#     \"VALUES (%s, %s)\"\n",
    "# )"
   ]
  },
  {
   "cell_type": "markdown",
   "id": "d659289a-26d4-4f4a-9561-6aa324b54cc2",
   "metadata": {},
   "source": [
    "# To Do H3-like\n",
    "\n",
    "## <span style=\"color:green\">Update description to H3.Y.2_(Primates)</span>\n",
    "\n",
    "### <span style=\"color:green\">Update summary</span>\n",
    "\n",
    "```H3.Y.2_(Primates) is a primate-specific histone H3 variant (also known as H3.X) encoded by the gene homologous to human H3Y2 [wiedemann_identification_2010].```\n",
    "\n",
    "## <span style=\"color:green\">Add description to H3.Y.1_(Homo_sapiens)</span>\n",
    "\n",
    "### <span style=\"color:green\">Add summary</span>\n",
    "\n",
    "```H3.Y.1_(Homo_sapiens) is a human histone H3 variant encoded by the H3Y1 gene. Human H3.Y.1, together with H3.Y.2, promotes cell growth, regulates cell cycle genes, and is implicated in primate-specific brain function [wiedemann_identification_2010]. It also facilitates sustained expression of DUX4-target genes [talbert_histone_2021, resnick_dux4-induced_2019].```\n",
    "\n",
    "### <span style=\"color:green\">Add function</span>\n",
    "\n",
    "```Although the functions of H3.Y.1 remain poorly understood, it is known to promote cell growth and regulate the expression of genes involved in cell cycle control and mitosis [wiedemann_identification_2010]. The presence of H3.Y.1 (along with H3.Y.2) in hippocampal neurons suggests a potential role in primate-specific brain functions [wiedemann_identification_2010]. Furthermore, H3.Y.1 and H3.Y.2 are induced by the transcription factor DUX4 to facilitate the persistence and reactivation of DUX4 target genes following its transient expression [talbert_histone_2021, resnick_dux4-induced_2019]. Interestinglly, H3.Y has been identified as a specific marker of 8-cell-like cells (8CLCs) and is also detected in vivo within the nuclei of human 8-cell embryos at the peak of zygotic genome activation (ZGA) [taubenschmid-stowers_8c-like_2022]. During blastomere division, H3.Y shows strong association with condensed chromosomes at prophase and metaphase stages [taubenschmid-stowers_8c-like_2022]. Taubenschmid-Stowers et al. suggest that H3.Y may be necessary for large-scale genome activation during early human embryogenesis [taubenschmid-stowers_8c-like_2022].```\n",
    "\n",
    "### <span style=\"color:green\">Add sequence</span>\n",
    "\n",
    "```The H3.Y.1 protein consists of 135 amino acids and shares high similarity with H3.Y.2 (89.7% identity), primarily differing by a shorter C-terminal tail [wiedemann_identification_2010]. Although its sequence resembles that of H3.3, H3.Y.1 contains specific amino acid substitutions at known post-translational modification sites of canonical H3 variants: S10A, S28R, K14Q, and K79S [wiedemann_identification_2010]. Mass spectrometry analysis confirmed that H3.Y.1 undergoes acetylation at lysines 18, 23, and 27 [wiedemann_identification_2010]. The H3.Y-specific residues, such as Lys42, Leu46, Lys53, and Gln59, are located at the nucleosomal DNA entry/exit sites and may potentially influence DNA-histone interactions and nucleosome stability [kujirai_structure_2016].```\n",
    "\n",
    "### <span style=\"color:green\">Add expression</span>\n",
    "\n",
    "```H3.Y.1 and H3.Y.2 are detected at low levels in certain cell lines (e.g., osteosarcoma U2OS), as well as in a range of normal (brain, testis) and malignant (bone, breast, lung, and ovarian tumors) human tissues [wiedemann_identification_2010]. In addition, H3.Y.1 and H3.Y.2 are expressed in early embryos at the cleavage stage and in testicular tissue, consistently co-expressing with DUX4 [talbert_histone_2021, resnick_dux4-induced_2019].```\n",
    "\n",
    "### <span style=\"color:green\">Add localization</span>\n",
    "\n",
    "```Endogenous H3.Y.1 is predominantly localized outside dense DAPI regions (heterochromatin), associating with less condensed, transcriptionally active euchromatin, enriched H3K4me3 [wiedemann_identification_2010]. H3.Y.1 and H3.Y.2 are incorporated into highly expressed genes, particularly those induced by DUX4, where it is enriched throughout the gene body, while in constitutively expressed genes, it is primarily localized to the transcription start site (TSS) region [resnick_dux4-induced_2019].```\n",
    "\n",
    "### <span style=\"color:green\">Add deposition</span>\n",
    "\n",
    "```H3.Y.1 is deposited into chromatin via the HIRA chaperone complex, which facilitates its replication-independent incorporation into actively transcribed genomic regions [resnick_dux4-induced_2019]. Despite its high similarity to H3.3, H3.Y.1 is incapable of interacting with the DAXX/ATRX complex responsible for H3.3 deposition into heterochromatin [zink_h3y_2017].```\n",
    "\n",
    "### <span style=\"color:green\">Add structure</span>\n",
    "\n",
    "```The crystal structure of the H3.Y.1 nucleosome reveals that its specific amino acid residues located at the DNA entry/exit sites result in increased DNA end flexibility compared to H3.3-containing nucleosomes, as well as reduced binding of linker histone H1 [kujirai_structure_2016]. This facilitates transcription factor access to DNA and may promote transcription activation. Kujirai et al. suggest that the heterotypic H3.Y/H3.3 nucleosome, which retains the same biochemical properties as its homotypic counterpart, is likely the predominant form in cells [kujirai_structure_2016].```\n",
    "\n",
    "### <span style=\"color:green\">Add knock_out</span>\n",
    "\n",
    "```Knockdown of both genes encoding H3.Y (H3Y1 and H3Y2) using siRNA suppresses the super-induction of DUX4 target genes upon reactivation and reduces the persistence of their expression, but does not affect constitutively expressed genes [resnick_dux4-induced_2019].```\n",
    "\n",
    "## <span style=\"color:green\">Add description to H3.Y.2_(Homo_sapiens)</span>\n",
    "\n",
    "### <span style=\"color:green\">Add summary</span>\n",
    "\n",
    "```H3.Y.2_(Homo_sapiens) is a human histone H3 variant (also known as H3.X) encoded by the H3Y2 gene. The protein sequence of H3Y2 differs from that of H3Y1 by the presence of an additional 11 amino acid residues at the C-terminal tail [ding_primate-specific_2021]. Human H3.Y.2, together with H3.Y.1, promotes cell growth, regulates cell cycle genes, and is implicated in primate-specific brain function [wiedemann_identification_2010]. It also facilitates sustained expression of DUX4-target genes [talbert_histone_2021, resnick_dux4-induced_2019].```\n",
    "\n",
    "### <span style=\"color:green\">Add function</span>\n",
    "\n",
    "```The functions of H3.Y.2 remain poorly understood. However, the presence of H3.Y.2 (along with H3.Y.1) in hippocampal neurons suggests a potential role in primate-specific brain functions [wiedemann_identification_2010]. In addition, H3.Y.1 and H3.Y.2 are induced by the transcription factor DUX4 to facilitate the persistence and reactivation of DUX4 target genes following its transient expression [talbert_histone_2021, resnick_dux4-induced_2019].```\n",
    "\n",
    "### <span style=\"color:green\">Add sequence</span>\n",
    "\n",
    "```The H3.Y.2 protein consists of 146 amino acids and shares high similarity with H3.Y.1 (89.7% identity), primarily differing by an additional 11 amino acid residues at the C-terminal tail with no sequence homology to other proteins [wiedemann_identification_2010]. Although its sequence resembles that of H3.3, H3.Y.2 contains specific amino acid substitutions at known post-translational modification sites of canonical H3 variants: S10A, S28R, K14Q, and K79S [wiedemann_identification_2010]. The H3.Y-specific residues, such as Lys42, Leu46, Lys53, and Gln59, are located at the nucleosomal DNA entry/exit sites and may potentially influence DNA-histone interactions and nucleosome stability [kujirai_structure_2016].```\n",
    "\n",
    "### <span style=\"color:green\">Add expression</span>\n",
    "\n",
    "```H3.Y.1 and H3.Y.2 are detected at low levels in certain cell lines (e.g., osteosarcoma U2OS), as well as in a range of normal (brain, testis) and malignant (bone, breast, lung, and ovarian tumors) human tissues [wiedemann_identification_2010]. In addition, H3.Y.1 and H3.Y.2 are expressed in early embryos at the cleavage stage and in testicular tissue, consistently co-expressing with DUX4 [talbert_histone_2021, resnick_dux4-induced_2019].```\n",
    "\n",
    "### <span style=\"color:green\">Add localization</span>\n",
    "\n",
    "```H3.Y.1 and H3.Y.2 are incorporated into highly expressed genes, particularly those induced by DUX4, where it is enriched throughout the gene body, while in constitutively expressed genes, it is primarily localized to the transcription start site (TSS) region [resnick_dux4-induced_2019].```\n",
    "\n",
    "### <span style=\"color:green\">Add deposition</span>\n",
    "\n",
    "```H3.Y.2 is deposited into chromatin via the HIRA chaperone complex, which facilitates its replication-independent incorporation into actively transcribed genomic regions [resnick_dux4-induced_2019]. Despite its high similarity to H3.3, H3.Y.2 is incapable of interacting with the DAXX/ATRX complex responsible for H3.3 deposition into heterochromatin [zink_h3y_2017].```\n",
    "\n",
    "### <span style=\"color:green\">Add structure</span>\n",
    "\n",
    "```The crystal structure of the H3.Y.1 nucleosome reveals that its specific amino acid residues located at the DNA entry/exit sites result in increased DNA end flexibility compared to H3.3-containing nucleosomes, as well as reduced binding of linker histone H1 [talbert_histone_2021, kujirai_structure_2016]. This facilitates transcription factor access to DNA and may promote transcription activation. Kujirai et al. suggest that the heterotypic H3.Y/H3.3 nucleosome, which retains the same biochemical properties as its homotypic counterpart, is likely the predominant form in cells [kujirai_structure_2016].```\n",
    "\n",
    "### <span style=\"color:green\">Add knock_out</span>\n",
    "\n",
    "```Knockdown of both genes encoding H3.Y (H3Y1 and H3Y2) using siRNA suppresses the super-induction of DUX4 target genes upon reactivation and reduces the persistence of their expression, but does not affect constitutively expressed genes [resnick_dux4-induced_2019].```"
   ]
  },
  {
   "cell_type": "markdown",
   "id": "3aa0646e-e0aa-4ca8-afc5-ccc94a3e2d9a",
   "metadata": {},
   "source": [
    "## <span style=\"color:black\">Update description to H3.Y.2_(Primates)</span>\n",
    "\n",
    "### <span style=\"color:black\">Update summary</span>\n",
    "\n",
    "```H3.Y.2_(Primates) is a primate-specific histone H3 variant (also known as H3.X) encoded by the gene homologous to human H3Y2 [wiedemann_identification_2010].```"
   ]
  },
  {
   "cell_type": "code",
   "execution_count": 7,
   "id": "d1b81521-b099-47ca-9d0f-4d38f119d4df",
   "metadata": {
    "tags": []
   },
   "outputs": [
    {
     "data": {
      "text/html": [
       "<div>\n",
       "<style scoped>\n",
       "    .dataframe tbody tr th:only-of-type {\n",
       "        vertical-align: middle;\n",
       "    }\n",
       "\n",
       "    .dataframe tbody tr th {\n",
       "        vertical-align: top;\n",
       "    }\n",
       "\n",
       "    .dataframe thead th {\n",
       "        text-align: right;\n",
       "    }\n",
       "</style>\n",
       "<table border=\"1\" class=\"dataframe\">\n",
       "  <thead>\n",
       "    <tr style=\"text-align: right;\">\n",
       "      <th></th>\n",
       "      <th>id</th>\n",
       "      <th>level</th>\n",
       "      <th>taxonomic_span</th>\n",
       "      <th>taxonomic_span_id</th>\n",
       "      <th>description</th>\n",
       "      <th>parent</th>\n",
       "      <th>id</th>\n",
       "      <th>summary</th>\n",
       "      <th>taxonomy</th>\n",
       "      <th>genes</th>\n",
       "      <th>...</th>\n",
       "      <th>knock_out</th>\n",
       "      <th>function</th>\n",
       "      <th>sequence</th>\n",
       "      <th>localization</th>\n",
       "      <th>deposition</th>\n",
       "      <th>structure</th>\n",
       "      <th>interactions</th>\n",
       "      <th>disease</th>\n",
       "      <th>caveats</th>\n",
       "      <th>relations</th>\n",
       "    </tr>\n",
       "  </thead>\n",
       "  <tbody>\n",
       "    <tr>\n",
       "      <th>0</th>\n",
       "      <td>H3.Y.2_(Primates)</td>\n",
       "      <td>variant</td>\n",
       "      <td>Primates</td>\n",
       "      <td>9443</td>\n",
       "      <td>253</td>\n",
       "      <td>H3.Y_(Primates)</td>\n",
       "      <td>253</td>\n",
       "      <td>H3.Y.2_(Primates) is a primate-specific histon...</td>\n",
       "      <td>None</td>\n",
       "      <td>None</td>\n",
       "      <td>...</td>\n",
       "      <td>None</td>\n",
       "      <td>None</td>\n",
       "      <td>None</td>\n",
       "      <td>None</td>\n",
       "      <td>None</td>\n",
       "      <td>None</td>\n",
       "      <td>None</td>\n",
       "      <td>None</td>\n",
       "      <td>None</td>\n",
       "      <td>None</td>\n",
       "    </tr>\n",
       "  </tbody>\n",
       "</table>\n",
       "<p>1 rows × 22 columns</p>\n",
       "</div>"
      ],
      "text/plain": [
       "                  id    level taxonomic_span taxonomic_span_id  description  \\\n",
       "0  H3.Y.2_(Primates)  variant       Primates              9443          253   \n",
       "\n",
       "            parent   id                                            summary  \\\n",
       "0  H3.Y_(Primates)  253  H3.Y.2_(Primates) is a primate-specific histon...   \n",
       "\n",
       "  taxonomy genes  ... knock_out function sequence localization deposition  \\\n",
       "0     None  None  ...      None     None     None         None       None   \n",
       "\n",
       "  structure interactions disease caveats relations  \n",
       "0      None         None    None    None      None  \n",
       "\n",
       "[1 rows x 22 columns]"
      ]
     },
     "execution_count": 7,
     "metadata": {},
     "output_type": "execute_result"
    }
   ],
   "source": [
    "query = (\n",
    "    \"SELECT * FROM histone h LEFT JOIN histone_description hd \"\n",
    "    \"ON h.description = hd.id \"\n",
    "    \"WHERE h.id='H3.Y.2_(Primates)'\"\n",
    ")\n",
    "cursor.execute(query)\n",
    "df = pd.DataFrame(cursor.fetchall(), columns=[i[0] for i in cursor.description])\n",
    "df"
   ]
  },
  {
   "cell_type": "code",
   "execution_count": 9,
   "id": "3b619264-a11d-49ff-b07b-fc8273ea7c00",
   "metadata": {
    "tags": []
   },
   "outputs": [
    {
     "name": "stdout",
     "output_type": "stream",
     "text": [
      "UPDATE histone_description SET summary='H3.Y.2_(Primates) is a primate-specific histone H3 variant (also known as H3.X) encoded by the gene homologous to human H3Y2 [wiedemann_identification_2010].' WHERE id=253\n"
     ]
    }
   ],
   "source": [
    "summary_desc = \"H3.Y.2_(Primates) is a primate-specific histone H3 variant (also known as H3.X) encoded by the gene homologous to human H3Y2 [wiedemann_identification_2010].\"\n",
    "query = f\"UPDATE histone_description SET summary='{summary_desc}' WHERE id=253\"\n",
    "print(query)\n",
    "cursor.execute(query)"
   ]
  },
  {
   "cell_type": "code",
   "execution_count": 10,
   "id": "6e79a009-9bc2-47d0-ade7-c7cab3f38b23",
   "metadata": {
    "tags": []
   },
   "outputs": [
    {
     "data": {
      "text/plain": [
       "array(['H3.Y.2_(Primates) is a primate-specific histone H3 variant (also known as H3.X) encoded by the gene homologous to human H3Y2 [wiedemann_identification_2010].'],\n",
       "      dtype=object)"
      ]
     },
     "execution_count": 10,
     "metadata": {},
     "output_type": "execute_result"
    }
   ],
   "source": [
    "query = (\n",
    "    \"SELECT * FROM histone h LEFT JOIN histone_description hd \"\n",
    "    \"ON h.description = hd.id \"\n",
    "    \"WHERE h.id='H3.Y.2_(Primates)'\"\n",
    ")\n",
    "cursor.execute(query)\n",
    "df = pd.DataFrame(cursor.fetchall(), columns=[i[0] for i in cursor.description])\n",
    "df[\"summary\"].values"
   ]
  },
  {
   "cell_type": "code",
   "execution_count": 11,
   "id": "f0a67f79-c6b6-452e-919c-7bf78174453c",
   "metadata": {
    "tags": []
   },
   "outputs": [],
   "source": [
    "# Make sure data is committed to the database\n",
    "conn.commit()"
   ]
  },
  {
   "cell_type": "markdown",
   "id": "5d4f3928-616a-4a02-8d21-f78272f78408",
   "metadata": {},
   "source": [
    "## <span style=\"color:black\">Add description to H3.Y.1_(Homo_sapiens)</span>\n",
    "\n",
    "### <span style=\"color:black\">Add summary</span>\n",
    "\n",
    "```H3.Y.1_(Homo_sapiens) is a human histone H3 variant encoded by the H3Y1 gene. Human H3.Y.1, together with H3.Y.2, promotes cell growth, regulates cell cycle genes, and is implicated in primate-specific brain function [wiedemann_identification_2010]. It also facilitates sustained expression of DUX4-target genes [talbert_histone_2021, resnick_dux4-induced_2019].```\n",
    "\n",
    "### <span style=\"color:black\">Add function</span>\n",
    "\n",
    "```Although the functions of H3.Y.1 remain poorly understood, it is known to promote cell growth and regulate the expression of genes involved in cell cycle control and mitosis [wiedemann_identification_2010]. The presence of H3.Y.1 (along with H3.Y.2) in hippocampal neurons suggests a potential role in primate-specific brain functions [wiedemann_identification_2010]. Furthermore, H3.Y.1 and H3.Y.2 are induced by the transcription factor DUX4 to facilitate the persistence and reactivation of DUX4 target genes following its transient expression [talbert_histone_2021, resnick_dux4-induced_2019]. Interestinglly, H3.Y has been identified as a specific marker of 8-cell-like cells (8CLCs) and is also detected in vivo within the nuclei of human 8-cell embryos at the peak of zygotic genome activation (ZGA) [taubenschmid-stowers_8c-like_2022]. During blastomere division, H3.Y shows strong association with condensed chromosomes at prophase and metaphase stages [taubenschmid-stowers_8c-like_2022]. Taubenschmid-Stowers et al. suggest that H3.Y may be necessary for large-scale genome activation during early human embryogenesis [taubenschmid-stowers_8c-like_2022].```\n",
    "\n",
    "### <span style=\"color:black\">Add sequence</span>\n",
    "\n",
    "```The H3.Y.1 protein consists of 135 amino acids and shares high similarity with H3.Y.2 (89.7% identity), primarily differing by a shorter C-terminal tail [wiedemann_identification_2010]. Although its sequence resembles that of H3.3, H3.Y.1 contains specific amino acid substitutions at known post-translational modification sites of canonical H3 variants: S10A, S28R, K14Q, and K79S [wiedemann_identification_2010]. Mass spectrometry analysis confirmed that H3.Y.1 undergoes acetylation at lysines 18, 23, and 27 [wiedemann_identification_2010]. The H3.Y-specific residues, such as Lys42, Leu46, Lys53, and Gln59, are located at the nucleosomal DNA entry/exit sites and may potentially influence DNA-histone interactions and nucleosome stability [kujirai_structure_2016].```\n",
    "\n",
    "### <span style=\"color:black\">Add expression</span>\n",
    "\n",
    "```H3.Y.1 and H3.Y.2 are detected at low levels in certain cell lines (e.g., osteosarcoma U2OS), as well as in a range of normal (brain, testis) and malignant (bone, breast, lung, and ovarian tumors) human tissues [wiedemann_identification_2010]. In addition, H3.Y.1 and H3.Y.2 are expressed in early embryos at the cleavage stage and in testicular tissue, consistently co-expressing with DUX4 [talbert_histone_2021, resnick_dux4-induced_2019].```\n",
    "\n",
    "### <span style=\"color:black\">Add localization</span>\n",
    "\n",
    "```Endogenous H3.Y.1 is predominantly localized outside dense DAPI regions (heterochromatin), associating with less condensed, transcriptionally active euchromatin, enriched H3K4me3 [wiedemann_identification_2010]. H3.Y.1 and H3.Y.2 are incorporated into highly expressed genes, particularly those induced by DUX4, where it is enriched throughout the gene body, while in constitutively expressed genes, it is primarily localized to the transcription start site (TSS) region [resnick_dux4-induced_2019].```\n",
    "\n",
    "### <span style=\"color:black\">Add deposition</span>\n",
    "\n",
    "```H3.Y.1 is deposited into chromatin via the HIRA chaperone complex, which facilitates its replication-independent incorporation into actively transcribed genomic regions [resnick_dux4-induced_2019]. Despite its high similarity to H3.3, H3.Y.1 is incapable of interacting with the DAXX/ATRX complex responsible for H3.3 deposition into heterochromatin [zink_h3y_2017].```\n",
    "\n",
    "### <span style=\"color:black\">Add structure</span>\n",
    "\n",
    "```The crystal structure of the H3.Y.1 nucleosome reveals that its specific amino acid residues located at the DNA entry/exit sites result in increased DNA end flexibility compared to H3.3-containing nucleosomes, as well as reduced binding of linker histone H1 [kujirai_structure_2016]. This facilitates transcription factor access to DNA and may promote transcription activation. Kujirai et al. suggest that the heterotypic H3.Y/H3.3 nucleosome, which retains the same biochemical properties as its homotypic counterpart, is likely the predominant form in cells [kujirai_structure_2016].```\n",
    "\n",
    "### <span style=\"color:black\">Add knock_out</span>\n",
    "\n",
    "```Knockdown of both genes encoding H3.Y (H3Y1 and H3Y2) using siRNA suppresses the super-induction of DUX4 target genes upon reactivation and reduces the persistence of their expression, but does not affect constitutively expressed genes [resnick_dux4-induced_2019].```"
   ]
  },
  {
   "cell_type": "code",
   "execution_count": 12,
   "id": "3bd728d6-50d7-47fe-a00d-1ee5ed5a61f2",
   "metadata": {
    "tags": []
   },
   "outputs": [
    {
     "data": {
      "text/html": [
       "<div>\n",
       "<style scoped>\n",
       "    .dataframe tbody tr th:only-of-type {\n",
       "        vertical-align: middle;\n",
       "    }\n",
       "\n",
       "    .dataframe tbody tr th {\n",
       "        vertical-align: top;\n",
       "    }\n",
       "\n",
       "    .dataframe thead th {\n",
       "        text-align: right;\n",
       "    }\n",
       "</style>\n",
       "<table border=\"1\" class=\"dataframe\">\n",
       "  <thead>\n",
       "    <tr style=\"text-align: right;\">\n",
       "      <th></th>\n",
       "      <th>id</th>\n",
       "      <th>level</th>\n",
       "      <th>taxonomic_span</th>\n",
       "      <th>taxonomic_span_id</th>\n",
       "      <th>description</th>\n",
       "      <th>parent</th>\n",
       "      <th>id</th>\n",
       "      <th>summary</th>\n",
       "      <th>taxonomy</th>\n",
       "      <th>genes</th>\n",
       "      <th>...</th>\n",
       "      <th>knock_out</th>\n",
       "      <th>function</th>\n",
       "      <th>sequence</th>\n",
       "      <th>localization</th>\n",
       "      <th>deposition</th>\n",
       "      <th>structure</th>\n",
       "      <th>interactions</th>\n",
       "      <th>disease</th>\n",
       "      <th>caveats</th>\n",
       "      <th>relations</th>\n",
       "    </tr>\n",
       "  </thead>\n",
       "  <tbody>\n",
       "    <tr>\n",
       "      <th>0</th>\n",
       "      <td>H3.Y.1_(Homo_sapiens)</td>\n",
       "      <td>variant</td>\n",
       "      <td>Homo sapiens</td>\n",
       "      <td>9606</td>\n",
       "      <td>172</td>\n",
       "      <td>H3.Y.1_(Primates)</td>\n",
       "      <td>172</td>\n",
       "      <td>null</td>\n",
       "      <td>null</td>\n",
       "      <td>null</td>\n",
       "      <td>...</td>\n",
       "      <td>null</td>\n",
       "      <td>null</td>\n",
       "      <td>null</td>\n",
       "      <td>null</td>\n",
       "      <td>null</td>\n",
       "      <td>null</td>\n",
       "      <td>null</td>\n",
       "      <td>null</td>\n",
       "      <td>null</td>\n",
       "      <td>None</td>\n",
       "    </tr>\n",
       "  </tbody>\n",
       "</table>\n",
       "<p>1 rows × 22 columns</p>\n",
       "</div>"
      ],
      "text/plain": [
       "                      id    level taxonomic_span taxonomic_span_id  \\\n",
       "0  H3.Y.1_(Homo_sapiens)  variant   Homo sapiens              9606   \n",
       "\n",
       "   description             parent   id summary taxonomy genes  ... knock_out  \\\n",
       "0          172  H3.Y.1_(Primates)  172    null     null  null  ...      null   \n",
       "\n",
       "  function sequence localization deposition structure interactions disease  \\\n",
       "0     null     null         null       null      null         null    null   \n",
       "\n",
       "  caveats relations  \n",
       "0    null      None  \n",
       "\n",
       "[1 rows x 22 columns]"
      ]
     },
     "execution_count": 12,
     "metadata": {},
     "output_type": "execute_result"
    }
   ],
   "source": [
    "query = (\n",
    "    \"SELECT * FROM histone h LEFT JOIN histone_description hd \"\n",
    "    \"ON h.description = hd.id \"\n",
    "    \"WHERE h.id='H3.Y.1_(Homo_sapiens)'\"\n",
    ")\n",
    "cursor.execute(query)\n",
    "df = pd.DataFrame(cursor.fetchall(), columns=[i[0] for i in cursor.description])\n",
    "df"
   ]
  },
  {
   "cell_type": "code",
   "execution_count": 13,
   "id": "59188d59-ad22-4112-af57-f64a4a3a0a49",
   "metadata": {
    "tags": []
   },
   "outputs": [
    {
     "data": {
      "text/plain": [
       "[{'id': 172,\n",
       "  'level': 'variant',\n",
       "  'taxonomic_span': 'Homo sapiens',\n",
       "  'taxonomic_span_id': '9606',\n",
       "  'description': 172,\n",
       "  'parent': 'H3.Y.1_(Primates)',\n",
       "  'summary': 'null',\n",
       "  'taxonomy': 'null',\n",
       "  'genes': 'null',\n",
       "  'evolution': 'null',\n",
       "  'expression': 'null',\n",
       "  'knock_out': 'null',\n",
       "  'function': 'null',\n",
       "  'sequence': 'null',\n",
       "  'localization': 'null',\n",
       "  'deposition': 'null',\n",
       "  'structure': 'null',\n",
       "  'interactions': 'null',\n",
       "  'disease': 'null',\n",
       "  'caveats': 'null',\n",
       "  'relations': None}]"
      ]
     },
     "execution_count": 13,
     "metadata": {},
     "output_type": "execute_result"
    }
   ],
   "source": [
    "df.to_dict(orient='records')"
   ]
  },
  {
   "cell_type": "code",
   "execution_count": 14,
   "id": "23bb8b07",
   "metadata": {
    "tags": []
   },
   "outputs": [],
   "source": [
    "desc_dict = {\n",
    "    \"summary\": \"H3.Y.1_(Homo_sapiens) is a human histone H3 variant encoded by the H3Y1 gene. Human H3.Y.1, together with H3.Y.2, promotes cell growth, regulates cell cycle genes, and is implicated in primate-specific brain function [wiedemann_identification_2010]. It also facilitates sustained expression of DUX4-target genes [talbert_histone_2021, resnick_dux4-induced_2019].\",\n",
    "    \"expression\": \"H3.Y.1 and H3.Y.2 are detected at low levels in certain cell lines (e.g., osteosarcoma U2OS), as well as in a range of normal (brain, testis) and malignant (bone, breast, lung, and ovarian tumors) human tissues [wiedemann_identification_2010]. In addition, H3.Y.1 and H3.Y.2 are expressed in early embryos at the cleavage stage and in testicular tissue, consistently co-expressing with DUX4 [talbert_histone_2021, resnick_dux4-induced_2019].\",\n",
    "    \"knock_out\": \"Knockdown of both genes encoding H3.Y (H3Y1 and H3Y2) using siRNA suppresses the super-induction of DUX4 target genes upon reactivation and reduces the persistence of their expression, but does not affect constitutively expressed genes [resnick_dux4-induced_2019].\",\n",
    "    \"function\":\"Although the functions of H3.Y.1 remain poorly understood, it is known to promote cell growth and regulate the expression of genes involved in cell cycle control and mitosis [wiedemann_identification_2010]. The presence of H3.Y.1 (along with H3.Y.2) in hippocampal neurons suggests a potential role in primate-specific brain functions [wiedemann_identification_2010]. Furthermore, H3.Y.1 and H3.Y.2 are induced by the transcription factor DUX4 to facilitate the persistence and reactivation of DUX4 target genes following its transient expression [talbert_histone_2021, resnick_dux4-induced_2019]. Interestinglly, H3.Y has been identified as a specific marker of 8-cell-like cells (8CLCs) and is also detected in vivo within the nuclei of human 8-cell embryos at the peak of zygotic genome activation (ZGA) [taubenschmid-stowers_8c-like_2022]. During blastomere division, H3.Y shows strong association with condensed chromosomes at prophase and metaphase stages [taubenschmid-stowers_8c-like_2022]. Taubenschmid-Stowers et al. suggest that H3.Y may be necessary for large-scale genome activation during early human embryogenesis [taubenschmid-stowers_8c-like_2022].\",\n",
    "    \"sequence\": \"The H3.Y.1 protein consists of 135 amino acids and shares high similarity with H3.Y.2 (89.7% identity), primarily differing by a shorter C-terminal tail [wiedemann_identification_2010]. Although its sequence resembles that of H3.3, H3.Y.1 contains specific amino acid substitutions at known post-translational modification sites of canonical H3 variants: S10A, S28R, K14Q, and K79S [wiedemann_identification_2010]. Mass spectrometry analysis confirmed that H3.Y.1 undergoes acetylation at lysines 18, 23, and 27 [wiedemann_identification_2010]. The H3.Y-specific residues, such as Lys42, Leu46, Lys53, and Gln59, are located at the nucleosomal DNA entry/exit sites and may potentially influence DNA-histone interactions and nucleosome stability [kujirai_structure_2016].\",\n",
    "    \"localization\": \"Endogenous H3.Y.1 is predominantly localized outside dense DAPI regions (heterochromatin), associating with less condensed, transcriptionally active euchromatin, enriched H3K4me3 [wiedemann_identification_2010]. H3.Y.1 and H3.Y.2 are incorporated into highly expressed genes, particularly those induced by DUX4, where it is enriched throughout the gene body, while in constitutively expressed genes, it is primarily localized to the transcription start site (TSS) region [resnick_dux4-induced_2019].\",\n",
    "    \"deposition\": \"H3.Y.1 is deposited into chromatin via the HIRA chaperone complex, which facilitates its replication-independent incorporation into actively transcribed genomic regions [resnick_dux4-induced_2019]. Despite its high similarity to H3.3, H3.Y.1 is incapable of interacting with the DAXX/ATRX complex responsible for H3.3 deposition into heterochromatin [zink_h3y_2017].\",\n",
    "    \"structure\": \"The crystal structure of the H3.Y.1 nucleosome reveals that its specific amino acid residues located at the DNA entry/exit sites result in increased DNA end flexibility compared to H3.3-containing nucleosomes, as well as reduced binding of linker histone H1 [kujirai_structure_2016]. This facilitates transcription factor access to DNA and may promote transcription activation. Kujirai et al. suggest that the heterotypic H3.Y/H3.3 nucleosome, which retains the same biochemical properties as its homotypic counterpart, is likely the predominant form in cells [kujirai_structure_2016].\",\n",
    "}\n",
    "desk_str = ', '.join([f'{k}=\"{v}\"' for k, v in desc_dict.items()])\n",
    "query = (\n",
    "    f\"UPDATE histone_description SET {desk_str} \"\n",
    "    \"WHERE id = 172\"\n",
    ")\n",
    "print(query)\n",
    "cursor.execute(query)"
   ]
  },
  {
   "cell_type": "code",
   "execution_count": 15,
   "id": "5e3a2870-441e-4f98-8365-7d44478fe64c",
   "metadata": {
    "tags": []
   },
   "outputs": [
    {
     "data": {
      "text/html": [
       "<div>\n",
       "<style scoped>\n",
       "    .dataframe tbody tr th:only-of-type {\n",
       "        vertical-align: middle;\n",
       "    }\n",
       "\n",
       "    .dataframe tbody tr th {\n",
       "        vertical-align: top;\n",
       "    }\n",
       "\n",
       "    .dataframe thead th {\n",
       "        text-align: right;\n",
       "    }\n",
       "</style>\n",
       "<table border=\"1\" class=\"dataframe\">\n",
       "  <thead>\n",
       "    <tr style=\"text-align: right;\">\n",
       "      <th></th>\n",
       "      <th>id</th>\n",
       "      <th>level</th>\n",
       "      <th>taxonomic_span</th>\n",
       "      <th>taxonomic_span_id</th>\n",
       "      <th>description</th>\n",
       "      <th>parent</th>\n",
       "      <th>id</th>\n",
       "      <th>summary</th>\n",
       "      <th>taxonomy</th>\n",
       "      <th>genes</th>\n",
       "      <th>...</th>\n",
       "      <th>knock_out</th>\n",
       "      <th>function</th>\n",
       "      <th>sequence</th>\n",
       "      <th>localization</th>\n",
       "      <th>deposition</th>\n",
       "      <th>structure</th>\n",
       "      <th>interactions</th>\n",
       "      <th>disease</th>\n",
       "      <th>caveats</th>\n",
       "      <th>relations</th>\n",
       "    </tr>\n",
       "  </thead>\n",
       "  <tbody>\n",
       "    <tr>\n",
       "      <th>0</th>\n",
       "      <td>H3.Y.1_(Homo_sapiens)</td>\n",
       "      <td>variant</td>\n",
       "      <td>Homo sapiens</td>\n",
       "      <td>9606</td>\n",
       "      <td>172</td>\n",
       "      <td>H3.Y.1_(Primates)</td>\n",
       "      <td>172</td>\n",
       "      <td>H3.Y.1_(Homo_sapiens) is a human histone H3 va...</td>\n",
       "      <td>null</td>\n",
       "      <td>null</td>\n",
       "      <td>...</td>\n",
       "      <td>Knockdown of both genes encoding H3.Y (H3Y1 an...</td>\n",
       "      <td>Although the functions of H3.Y.1 remain poorly...</td>\n",
       "      <td>The H3.Y.1 protein consists of 135 amino acids...</td>\n",
       "      <td>Endogenous H3.Y.1 is predominantly localized o...</td>\n",
       "      <td>H3.Y.1 is deposited into chromatin via the HIR...</td>\n",
       "      <td>The crystal structure of the H3.Y.1 nucleosome...</td>\n",
       "      <td>null</td>\n",
       "      <td>null</td>\n",
       "      <td>null</td>\n",
       "      <td>None</td>\n",
       "    </tr>\n",
       "  </tbody>\n",
       "</table>\n",
       "<p>1 rows × 22 columns</p>\n",
       "</div>"
      ],
      "text/plain": [
       "                      id    level taxonomic_span taxonomic_span_id  \\\n",
       "0  H3.Y.1_(Homo_sapiens)  variant   Homo sapiens              9606   \n",
       "\n",
       "   description             parent   id  \\\n",
       "0          172  H3.Y.1_(Primates)  172   \n",
       "\n",
       "                                             summary taxonomy genes  ...  \\\n",
       "0  H3.Y.1_(Homo_sapiens) is a human histone H3 va...     null  null  ...   \n",
       "\n",
       "                                           knock_out  \\\n",
       "0  Knockdown of both genes encoding H3.Y (H3Y1 an...   \n",
       "\n",
       "                                            function  \\\n",
       "0  Although the functions of H3.Y.1 remain poorly...   \n",
       "\n",
       "                                            sequence  \\\n",
       "0  The H3.Y.1 protein consists of 135 amino acids...   \n",
       "\n",
       "                                        localization  \\\n",
       "0  Endogenous H3.Y.1 is predominantly localized o...   \n",
       "\n",
       "                                          deposition  \\\n",
       "0  H3.Y.1 is deposited into chromatin via the HIR...   \n",
       "\n",
       "                                           structure interactions disease  \\\n",
       "0  The crystal structure of the H3.Y.1 nucleosome...         null    null   \n",
       "\n",
       "  caveats relations  \n",
       "0    null      None  \n",
       "\n",
       "[1 rows x 22 columns]"
      ]
     },
     "execution_count": 15,
     "metadata": {},
     "output_type": "execute_result"
    }
   ],
   "source": [
    "query = (\n",
    "    \"SELECT * FROM histone h LEFT JOIN histone_description hd \"\n",
    "    \"ON h.description = hd.id \"\n",
    "    \"WHERE h.id='H3.Y.1_(Homo_sapiens)'\"\n",
    ")\n",
    "cursor.execute(query)\n",
    "df = pd.DataFrame(cursor.fetchall(), columns=[i[0] for i in cursor.description])\n",
    "df"
   ]
  },
  {
   "cell_type": "code",
   "execution_count": 16,
   "id": "f3582480-17ec-4ede-8504-c312a293af7c",
   "metadata": {
    "tags": []
   },
   "outputs": [
    {
     "data": {
      "text/plain": [
       "[{'id': 172,\n",
       "  'level': 'variant',\n",
       "  'taxonomic_span': 'Homo sapiens',\n",
       "  'taxonomic_span_id': '9606',\n",
       "  'description': 172,\n",
       "  'parent': 'H3.Y.1_(Primates)',\n",
       "  'summary': 'H3.Y.1_(Homo_sapiens) is a human histone H3 variant encoded by the H3Y1 gene. Human H3.Y.1, together with H3.Y.2, promotes cell growth, regulates cell cycle genes, and is implicated in primate-specific brain function [wiedemann_identification_2010]. It also facilitates sustained expression of DUX4-target genes [talbert_histone_2021, resnick_dux4-induced_2019].',\n",
       "  'taxonomy': 'null',\n",
       "  'genes': 'null',\n",
       "  'evolution': 'null',\n",
       "  'expression': 'H3.Y.1 and H3.Y.2 are detected at low levels in certain cell lines (e.g., osteosarcoma U2OS), as well as in a range of normal (brain, testis) and malignant (bone, breast, lung, and ovarian tumors) human tissues [wiedemann_identification_2010]. In addition, H3.Y.1 and H3.Y.2 are expressed in early embryos at the cleavage stage and in testicular tissue, consistently co-expressing with DUX4 [talbert_histone_2021, resnick_dux4-induced_2019].',\n",
       "  'knock_out': 'Knockdown of both genes encoding H3.Y (H3Y1 and H3Y2) using siRNA suppresses the super-induction of DUX4 target genes upon reactivation and reduces the persistence of their expression, but does not affect constitutively expressed genes [resnick_dux4-induced_2019].',\n",
       "  'function': 'Although the functions of H3.Y.1 remain poorly understood, it is known to promote cell growth and regulate the expression of genes involved in cell cycle control and mitosis [wiedemann_identification_2010]. The presence of H3.Y.1 (along with H3.Y.2) in hippocampal neurons suggests a potential role in primate-specific brain functions [wiedemann_identification_2010]. Furthermore, H3.Y.1 and H3.Y.2 are induced by the transcription factor DUX4 to facilitate the persistence and reactivation of DUX4 target genes following its transient expression [talbert_histone_2021, resnick_dux4-induced_2019]. Interestinglly, H3.Y has been identified as a specific marker of 8-cell-like cells (8CLCs) and is also detected in vivo within the nuclei of human 8-cell embryos at the peak of zygotic genome activation (ZGA) [taubenschmid-stowers_8c-like_2022]. During blastomere division, H3.Y shows strong association with condensed chromosomes at prophase and metaphase stages [taubenschmid-stowers_8c-like_2022]. Taubenschmid-Stowers et al. suggest that H3.Y may be necessary for large-scale genome activation during early human embryogenesis [taubenschmid-stowers_8c-like_2022].',\n",
       "  'sequence': 'The H3.Y.1 protein consists of 135 amino acids and shares high similarity with H3.Y.2 (89.7% identity), primarily differing by a shorter C-terminal tail [wiedemann_identification_2010]. Although its sequence resembles that of H3.3, H3.Y.1 contains specific amino acid substitutions at known post-translational modification sites of canonical H3 variants: S10A, S28R, K14Q, and K79S [wiedemann_identification_2010]. Mass spectrometry analysis confirmed that H3.Y.1 undergoes acetylation at lysines 18, 23, and 27 [wiedemann_identification_2010]. The H3.Y-specific residues, such as Lys42, Leu46, Lys53, and Gln59, are located at the nucleosomal DNA entry/exit sites and may potentially influence DNA-histone interactions and nucleosome stability [kujirai_structure_2016].',\n",
       "  'localization': 'Endogenous H3.Y.1 is predominantly localized outside dense DAPI regions (heterochromatin), associating with less condensed, transcriptionally active euchromatin, enriched H3K4me3 [wiedemann_identification_2010]. H3.Y.1 and H3.Y.2 are incorporated into highly expressed genes, particularly those induced by DUX4, where it is enriched throughout the gene body, while in constitutively expressed genes, it is primarily localized to the transcription start site (TSS) region [resnick_dux4-induced_2019].',\n",
       "  'deposition': 'H3.Y.1 is deposited into chromatin via the HIRA chaperone complex, which facilitates its replication-independent incorporation into actively transcribed genomic regions [resnick_dux4-induced_2019]. Despite its high similarity to H3.3, H3.Y.1 is incapable of interacting with the DAXX/ATRX complex responsible for H3.3 deposition into heterochromatin [zink_h3y_2017].',\n",
       "  'structure': 'The crystal structure of the H3.Y.1 nucleosome reveals that its specific amino acid residues located at the DNA entry/exit sites result in increased DNA end flexibility compared to H3.3-containing nucleosomes, as well as reduced binding of linker histone H1 [kujirai_structure_2016]. This facilitates transcription factor access to DNA and may promote transcription activation. Kujirai et al. suggest that the heterotypic H3.Y/H3.3 nucleosome, which retains the same biochemical properties as its homotypic counterpart, is likely the predominant form in cells [kujirai_structure_2016].',\n",
       "  'interactions': 'null',\n",
       "  'disease': 'null',\n",
       "  'caveats': 'null',\n",
       "  'relations': None}]"
      ]
     },
     "execution_count": 16,
     "metadata": {},
     "output_type": "execute_result"
    }
   ],
   "source": [
    "df.to_dict(orient='records')"
   ]
  },
  {
   "cell_type": "code",
   "execution_count": 17,
   "id": "ec084f48-cc9e-4880-ac27-b242059f30b0",
   "metadata": {
    "tags": []
   },
   "outputs": [],
   "source": [
    "# Make sure data is committed to the database\n",
    "conn.commit()"
   ]
  },
  {
   "cell_type": "markdown",
   "id": "5d5715f0-9f1f-4ca3-9832-76cd1f9396b2",
   "metadata": {},
   "source": [
    "## <span style=\"color:black\">Add description to H3.Y.2_(Homo_sapiens)</span>\n",
    "\n",
    "### <span style=\"color:black\">Add summary</span>\n",
    "\n",
    "```H3.Y.2_(Homo_sapiens) is a human histone H3 variant (also known as H3.X) encoded by the H3Y2 gene. The protein sequence of H3Y2 differs from that of H3Y1 by the presence of an additional 11 amino acid residues at the C-terminal tail [ding_primate-specific_2021]. Human H3.Y.2, together with H3.Y.1, promotes cell growth, regulates cell cycle genes, and is implicated in primate-specific brain function [wiedemann_identification_2010]. It also facilitates sustained expression of DUX4-target genes [talbert_histone_2021, resnick_dux4-induced_2019].```\n",
    "\n",
    "### <span style=\"color:black\">Add function</span>\n",
    "\n",
    "```The functions of H3.Y.2 remain poorly understood. However, the presence of H3.Y.2 (along with H3.Y.1) in hippocampal neurons suggests a potential role in primate-specific brain functions [wiedemann_identification_2010]. In addition, H3.Y.1 and H3.Y.2 are induced by the transcription factor DUX4 to facilitate the persistence and reactivation of DUX4 target genes following its transient expression [talbert_histone_2021, resnick_dux4-induced_2019].```\n",
    "\n",
    "### <span style=\"color:black\">Add sequence</span>\n",
    "\n",
    "```The H3.Y.2 protein consists of 146 amino acids and shares high similarity with H3.Y.1 (89.7% identity), primarily differing by an additional 11 amino acid residues at the C-terminal tail with no sequence homology to other proteins [wiedemann_identification_2010]. Although its sequence resembles that of H3.3, H3.Y.2 contains specific amino acid substitutions at known post-translational modification sites of canonical H3 variants: S10A, S28R, K14Q, and K79S [wiedemann_identification_2010]. The H3.Y-specific residues, such as Lys42, Leu46, Lys53, and Gln59, are located at the nucleosomal DNA entry/exit sites and may potentially influence DNA-histone interactions and nucleosome stability [kujirai_structure_2016].```\n",
    "\n",
    "### <span style=\"color:black\">Add expression</span>\n",
    "\n",
    "```H3.Y.1 and H3.Y.2 are detected at low levels in certain cell lines (e.g., osteosarcoma U2OS), as well as in a range of normal (brain, testis) and malignant (bone, breast, lung, and ovarian tumors) human tissues [wiedemann_identification_2010]. In addition, H3.Y.1 and H3.Y.2 are expressed in early embryos at the cleavage stage and in testicular tissue, consistently co-expressing with DUX4 [talbert_histone_2021, resnick_dux4-induced_2019].```\n",
    "\n",
    "### <span style=\"color:black\">Add localization</span>\n",
    "\n",
    "```H3.Y.1 and H3.Y.2 are incorporated into highly expressed genes, particularly those induced by DUX4, where it is enriched throughout the gene body, while in constitutively expressed genes, it is primarily localized to the transcription start site (TSS) region [resnick_dux4-induced_2019].```\n",
    "\n",
    "### <span style=\"color:black\">Add deposition</span>\n",
    "\n",
    "```H3.Y.2 is deposited into chromatin via the HIRA chaperone complex, which facilitates its replication-independent incorporation into actively transcribed genomic regions [resnick_dux4-induced_2019]. Despite its high similarity to H3.3, H3.Y.2 is incapable of interacting with the DAXX/ATRX complex responsible for H3.3 deposition into heterochromatin [zink_h3y_2017].```\n",
    "\n",
    "### <span style=\"color:black\">Add structure</span>\n",
    "\n",
    "```The crystal structure of the H3.Y.1 nucleosome reveals that its specific amino acid residues located at the DNA entry/exit sites result in increased DNA end flexibility compared to H3.3-containing nucleosomes, as well as reduced binding of linker histone H1 [talbert_histone_2021, kujirai_structure_2016]. This facilitates transcription factor access to DNA and may promote transcription activation. Kujirai et al. suggest that the heterotypic H3.Y/H3.3 nucleosome, which retains the same biochemical properties as its homotypic counterpart, is likely the predominant form in cells [kujirai_structure_2016].```\n",
    "\n",
    "### <span style=\"color:black\">Add knock_out</span>\n",
    "\n",
    "```Knockdown of both genes encoding H3.Y (H3Y1 and H3Y2) using siRNA suppresses the super-induction of DUX4 target genes upon reactivation and reduces the persistence of their expression, but does not affect constitutively expressed genes [resnick_dux4-induced_2019].```"
   ]
  },
  {
   "cell_type": "code",
   "execution_count": 18,
   "id": "cc1619d7-27de-4e33-ab39-d5b055ef15e5",
   "metadata": {
    "tags": []
   },
   "outputs": [
    {
     "data": {
      "text/html": [
       "<div>\n",
       "<style scoped>\n",
       "    .dataframe tbody tr th:only-of-type {\n",
       "        vertical-align: middle;\n",
       "    }\n",
       "\n",
       "    .dataframe tbody tr th {\n",
       "        vertical-align: top;\n",
       "    }\n",
       "\n",
       "    .dataframe thead th {\n",
       "        text-align: right;\n",
       "    }\n",
       "</style>\n",
       "<table border=\"1\" class=\"dataframe\">\n",
       "  <thead>\n",
       "    <tr style=\"text-align: right;\">\n",
       "      <th></th>\n",
       "      <th>id</th>\n",
       "      <th>level</th>\n",
       "      <th>taxonomic_span</th>\n",
       "      <th>taxonomic_span_id</th>\n",
       "      <th>description</th>\n",
       "      <th>parent</th>\n",
       "      <th>id</th>\n",
       "      <th>summary</th>\n",
       "      <th>taxonomy</th>\n",
       "      <th>genes</th>\n",
       "      <th>...</th>\n",
       "      <th>knock_out</th>\n",
       "      <th>function</th>\n",
       "      <th>sequence</th>\n",
       "      <th>localization</th>\n",
       "      <th>deposition</th>\n",
       "      <th>structure</th>\n",
       "      <th>interactions</th>\n",
       "      <th>disease</th>\n",
       "      <th>caveats</th>\n",
       "      <th>relations</th>\n",
       "    </tr>\n",
       "  </thead>\n",
       "  <tbody>\n",
       "    <tr>\n",
       "      <th>0</th>\n",
       "      <td>H3.Y.2_(Homo_sapiens)</td>\n",
       "      <td>variant</td>\n",
       "      <td>Homo sapiens</td>\n",
       "      <td>9606</td>\n",
       "      <td>173</td>\n",
       "      <td>H3.Y.2_(Primates)</td>\n",
       "      <td>173</td>\n",
       "      <td>null</td>\n",
       "      <td>null</td>\n",
       "      <td>null</td>\n",
       "      <td>...</td>\n",
       "      <td>null</td>\n",
       "      <td>null</td>\n",
       "      <td>null</td>\n",
       "      <td>null</td>\n",
       "      <td>null</td>\n",
       "      <td>null</td>\n",
       "      <td>null</td>\n",
       "      <td>null</td>\n",
       "      <td>null</td>\n",
       "      <td>None</td>\n",
       "    </tr>\n",
       "  </tbody>\n",
       "</table>\n",
       "<p>1 rows × 22 columns</p>\n",
       "</div>"
      ],
      "text/plain": [
       "                      id    level taxonomic_span taxonomic_span_id  \\\n",
       "0  H3.Y.2_(Homo_sapiens)  variant   Homo sapiens              9606   \n",
       "\n",
       "   description             parent   id summary taxonomy genes  ... knock_out  \\\n",
       "0          173  H3.Y.2_(Primates)  173    null     null  null  ...      null   \n",
       "\n",
       "  function sequence localization deposition structure interactions disease  \\\n",
       "0     null     null         null       null      null         null    null   \n",
       "\n",
       "  caveats relations  \n",
       "0    null      None  \n",
       "\n",
       "[1 rows x 22 columns]"
      ]
     },
     "execution_count": 18,
     "metadata": {},
     "output_type": "execute_result"
    }
   ],
   "source": [
    "query = (\n",
    "    \"SELECT * FROM histone h LEFT JOIN histone_description hd \"\n",
    "    \"ON h.description = hd.id \"\n",
    "    \"WHERE h.id='H3.Y.2_(Homo_sapiens)'\"\n",
    ")\n",
    "cursor.execute(query)\n",
    "df = pd.DataFrame(cursor.fetchall(), columns=[i[0] for i in cursor.description])\n",
    "df"
   ]
  },
  {
   "cell_type": "code",
   "execution_count": 19,
   "id": "c736b2d8-3fdc-487b-a3bd-f38400f56680",
   "metadata": {
    "tags": []
   },
   "outputs": [
    {
     "data": {
      "text/plain": [
       "[{'id': 173,\n",
       "  'level': 'variant',\n",
       "  'taxonomic_span': 'Homo sapiens',\n",
       "  'taxonomic_span_id': '9606',\n",
       "  'description': 173,\n",
       "  'parent': 'H3.Y.2_(Primates)',\n",
       "  'summary': 'null',\n",
       "  'taxonomy': 'null',\n",
       "  'genes': 'null',\n",
       "  'evolution': 'null',\n",
       "  'expression': 'null',\n",
       "  'knock_out': 'null',\n",
       "  'function': 'null',\n",
       "  'sequence': 'null',\n",
       "  'localization': 'null',\n",
       "  'deposition': 'null',\n",
       "  'structure': 'null',\n",
       "  'interactions': 'null',\n",
       "  'disease': 'null',\n",
       "  'caveats': 'null',\n",
       "  'relations': None}]"
      ]
     },
     "execution_count": 19,
     "metadata": {},
     "output_type": "execute_result"
    }
   ],
   "source": [
    "df.to_dict(orient='records')"
   ]
  },
  {
   "cell_type": "code",
   "execution_count": 20,
   "id": "f2ec2717-52c5-47cc-bec8-073fe6897b60",
   "metadata": {
    "tags": []
   },
   "outputs": [
    {
     "name": "stdout",
     "output_type": "stream",
     "text": [
      "UPDATE histone_description SET summary=\"H3.Y.2_(Homo_sapiens) is a human histone H3 variant (also known as H3.X) encoded by the H3Y2 gene. The protein sequence of H3Y2 differs from that of H3Y1 by the presence of an additional 11 amino acid residues at the C-terminal tail [ding_primate-specific_2021]. Human H3.Y.2, together with H3.Y.1, promotes cell growth, regulates cell cycle genes, and is implicated in primate-specific brain function [wiedemann_identification_2010]. It also facilitates sustained expression of DUX4-target genes [talbert_histone_2021, resnick_dux4-induced_2019].\", expression=\"H3.Y.1 and H3.Y.2 are detected at low levels in certain cell lines (e.g., osteosarcoma U2OS), as well as in a range of normal (brain, testis) and malignant (bone, breast, lung, and ovarian tumors) human tissues [wiedemann_identification_2010]. In addition, H3.Y.1 and H3.Y.2 are expressed in early embryos at the cleavage stage and in testicular tissue, consistently co-expressing with DUX4 [talbert_histone_2021, resnick_dux4-induced_2019].\", knock_out=\"Knockdown of both genes encoding H3.Y (H3Y1 and H3Y2) using siRNA suppresses the super-induction of DUX4 target genes upon reactivation and reduces the persistence of their expression, but does not affect constitutively expressed genes [resnick_dux4-induced_2019].\", function=\"The functions of H3.Y.2 remain poorly understood. However, the presence of H3.Y.2 (along with H3.Y.1) in hippocampal neurons suggests a potential role in primate-specific brain functions [wiedemann_identification_2010]. In addition, H3.Y.1 and H3.Y.2 are induced by the transcription factor DUX4 to facilitate the persistence and reactivation of DUX4 target genes following its transient expression [talbert_histone_2021, resnick_dux4-induced_2019].\", sequence=\"The H3.Y.2 protein consists of 146 amino acids and shares high similarity with H3.Y.1 (89.7% identity), primarily differing by an additional 11 amino acid residues at the C-terminal tail with no sequence homology to other proteins [wiedemann_identification_2010]. Although its sequence resembles that of H3.3, H3.Y.2 contains specific amino acid substitutions at known post-translational modification sites of canonical H3 variants: S10A, S28R, K14Q, and K79S [wiedemann_identification_2010]. The H3.Y-specific residues, such as Lys42, Leu46, Lys53, and Gln59, are located at the nucleosomal DNA entry/exit sites and may potentially influence DNA-histone interactions and nucleosome stability [kujirai_structure_2016].\", localization=\"H3.Y.1 and H3.Y.2 are incorporated into highly expressed genes, particularly those induced by DUX4, where it is enriched throughout the gene body, while in constitutively expressed genes, it is primarily localized to the transcription start site (TSS) region [resnick_dux4-induced_2019].\", deposition=\"H3.Y.2 is deposited into chromatin via the HIRA chaperone complex, which facilitates its replication-independent incorporation into actively transcribed genomic regions [resnick_dux4-induced_2019]. Despite its high similarity to H3.3, H3.Y.2 is incapable of interacting with the DAXX/ATRX complex responsible for H3.3 deposition into heterochromatin [zink_h3y_2017].\", structure=\"The crystal structure of the H3.Y.1 nucleosome reveals that its specific amino acid residues located at the DNA entry/exit sites result in increased DNA end flexibility compared to H3.3-containing nucleosomes, as well as reduced binding of linker histone H1 [talbert_histone_2021, kujirai_structure_2016]. This facilitates transcription factor access to DNA and may promote transcription activation. Kujirai et al. suggest that the heterotypic H3.Y/H3.3 nucleosome, which retains the same biochemical properties as its homotypic counterpart, is likely the predominant form in cells [kujirai_structure_2016].\" WHERE id = 173\n"
     ]
    }
   ],
   "source": [
    "desc_dict = {\n",
    "    \"summary\": \"H3.Y.2_(Homo_sapiens) is a human histone H3 variant (also known as H3.X) encoded by the H3Y2 gene. The protein sequence of H3Y2 differs from that of H3Y1 by the presence of an additional 11 amino acid residues at the C-terminal tail [ding_primate-specific_2021]. Human H3.Y.2, together with H3.Y.1, promotes cell growth, regulates cell cycle genes, and is implicated in primate-specific brain function [wiedemann_identification_2010]. It also facilitates sustained expression of DUX4-target genes [talbert_histone_2021, resnick_dux4-induced_2019].\",\n",
    "    \"expression\": \"H3.Y.1 and H3.Y.2 are detected at low levels in certain cell lines (e.g., osteosarcoma U2OS), as well as in a range of normal (brain, testis) and malignant (bone, breast, lung, and ovarian tumors) human tissues [wiedemann_identification_2010]. In addition, H3.Y.1 and H3.Y.2 are expressed in early embryos at the cleavage stage and in testicular tissue, consistently co-expressing with DUX4 [talbert_histone_2021, resnick_dux4-induced_2019].\",\n",
    "    \"knock_out\": \"Knockdown of both genes encoding H3.Y (H3Y1 and H3Y2) using siRNA suppresses the super-induction of DUX4 target genes upon reactivation and reduces the persistence of their expression, but does not affect constitutively expressed genes [resnick_dux4-induced_2019].\",\n",
    "    \"function\": \"The functions of H3.Y.2 remain poorly understood. However, the presence of H3.Y.2 (along with H3.Y.1) in hippocampal neurons suggests a potential role in primate-specific brain functions [wiedemann_identification_2010]. In addition, H3.Y.1 and H3.Y.2 are induced by the transcription factor DUX4 to facilitate the persistence and reactivation of DUX4 target genes following its transient expression [talbert_histone_2021, resnick_dux4-induced_2019].\",\n",
    "    \"sequence\": \"The H3.Y.2 protein consists of 146 amino acids and shares high similarity with H3.Y.1 (89.7% identity), primarily differing by an additional 11 amino acid residues at the C-terminal tail with no sequence homology to other proteins [wiedemann_identification_2010]. Although its sequence resembles that of H3.3, H3.Y.2 contains specific amino acid substitutions at known post-translational modification sites of canonical H3 variants: S10A, S28R, K14Q, and K79S [wiedemann_identification_2010]. The H3.Y-specific residues, such as Lys42, Leu46, Lys53, and Gln59, are located at the nucleosomal DNA entry/exit sites and may potentially influence DNA-histone interactions and nucleosome stability [kujirai_structure_2016].\",\n",
    "    \"localization\": \"H3.Y.1 and H3.Y.2 are incorporated into highly expressed genes, particularly those induced by DUX4, where it is enriched throughout the gene body, while in constitutively expressed genes, it is primarily localized to the transcription start site (TSS) region [resnick_dux4-induced_2019].\",\n",
    "    \"deposition\": \"H3.Y.2 is deposited into chromatin via the HIRA chaperone complex, which facilitates its replication-independent incorporation into actively transcribed genomic regions [resnick_dux4-induced_2019]. Despite its high similarity to H3.3, H3.Y.2 is incapable of interacting with the DAXX/ATRX complex responsible for H3.3 deposition into heterochromatin [zink_h3y_2017].\",\n",
    "    \"structure\": \"The crystal structure of the H3.Y.1 nucleosome reveals that its specific amino acid residues located at the DNA entry/exit sites result in increased DNA end flexibility compared to H3.3-containing nucleosomes, as well as reduced binding of linker histone H1 [talbert_histone_2021, kujirai_structure_2016]. This facilitates transcription factor access to DNA and may promote transcription activation. Kujirai et al. suggest that the heterotypic H3.Y/H3.3 nucleosome, which retains the same biochemical properties as its homotypic counterpart, is likely the predominant form in cells [kujirai_structure_2016].\",\n",
    "}\n",
    "desk_str = ', '.join([f'{k}=\"{v}\"' for k, v in desc_dict.items()])\n",
    "query = (\n",
    "    f\"UPDATE histone_description SET {desk_str} \"\n",
    "    \"WHERE id = 173\"\n",
    ")\n",
    "print(query)\n",
    "cursor.execute(query)"
   ]
  },
  {
   "cell_type": "code",
   "execution_count": 21,
   "id": "dbe665bd-abab-4e98-8c1d-95d7ba7c83c5",
   "metadata": {
    "tags": []
   },
   "outputs": [
    {
     "data": {
      "text/html": [
       "<div>\n",
       "<style scoped>\n",
       "    .dataframe tbody tr th:only-of-type {\n",
       "        vertical-align: middle;\n",
       "    }\n",
       "\n",
       "    .dataframe tbody tr th {\n",
       "        vertical-align: top;\n",
       "    }\n",
       "\n",
       "    .dataframe thead th {\n",
       "        text-align: right;\n",
       "    }\n",
       "</style>\n",
       "<table border=\"1\" class=\"dataframe\">\n",
       "  <thead>\n",
       "    <tr style=\"text-align: right;\">\n",
       "      <th></th>\n",
       "      <th>id</th>\n",
       "      <th>level</th>\n",
       "      <th>taxonomic_span</th>\n",
       "      <th>taxonomic_span_id</th>\n",
       "      <th>description</th>\n",
       "      <th>parent</th>\n",
       "      <th>id</th>\n",
       "      <th>summary</th>\n",
       "      <th>taxonomy</th>\n",
       "      <th>genes</th>\n",
       "      <th>...</th>\n",
       "      <th>knock_out</th>\n",
       "      <th>function</th>\n",
       "      <th>sequence</th>\n",
       "      <th>localization</th>\n",
       "      <th>deposition</th>\n",
       "      <th>structure</th>\n",
       "      <th>interactions</th>\n",
       "      <th>disease</th>\n",
       "      <th>caveats</th>\n",
       "      <th>relations</th>\n",
       "    </tr>\n",
       "  </thead>\n",
       "  <tbody>\n",
       "    <tr>\n",
       "      <th>0</th>\n",
       "      <td>H3.Y.2_(Homo_sapiens)</td>\n",
       "      <td>variant</td>\n",
       "      <td>Homo sapiens</td>\n",
       "      <td>9606</td>\n",
       "      <td>173</td>\n",
       "      <td>H3.Y.2_(Primates)</td>\n",
       "      <td>173</td>\n",
       "      <td>H3.Y.2_(Homo_sapiens) is a human histone H3 va...</td>\n",
       "      <td>null</td>\n",
       "      <td>null</td>\n",
       "      <td>...</td>\n",
       "      <td>Knockdown of both genes encoding H3.Y (H3Y1 an...</td>\n",
       "      <td>The functions of H3.Y.2 remain poorly understo...</td>\n",
       "      <td>The H3.Y.2 protein consists of 146 amino acids...</td>\n",
       "      <td>H3.Y.1 and H3.Y.2 are incorporated into highly...</td>\n",
       "      <td>H3.Y.2 is deposited into chromatin via the HIR...</td>\n",
       "      <td>The crystal structure of the H3.Y.1 nucleosome...</td>\n",
       "      <td>null</td>\n",
       "      <td>null</td>\n",
       "      <td>null</td>\n",
       "      <td>None</td>\n",
       "    </tr>\n",
       "  </tbody>\n",
       "</table>\n",
       "<p>1 rows × 22 columns</p>\n",
       "</div>"
      ],
      "text/plain": [
       "                      id    level taxonomic_span taxonomic_span_id  \\\n",
       "0  H3.Y.2_(Homo_sapiens)  variant   Homo sapiens              9606   \n",
       "\n",
       "   description             parent   id  \\\n",
       "0          173  H3.Y.2_(Primates)  173   \n",
       "\n",
       "                                             summary taxonomy genes  ...  \\\n",
       "0  H3.Y.2_(Homo_sapiens) is a human histone H3 va...     null  null  ...   \n",
       "\n",
       "                                           knock_out  \\\n",
       "0  Knockdown of both genes encoding H3.Y (H3Y1 an...   \n",
       "\n",
       "                                            function  \\\n",
       "0  The functions of H3.Y.2 remain poorly understo...   \n",
       "\n",
       "                                            sequence  \\\n",
       "0  The H3.Y.2 protein consists of 146 amino acids...   \n",
       "\n",
       "                                        localization  \\\n",
       "0  H3.Y.1 and H3.Y.2 are incorporated into highly...   \n",
       "\n",
       "                                          deposition  \\\n",
       "0  H3.Y.2 is deposited into chromatin via the HIR...   \n",
       "\n",
       "                                           structure interactions disease  \\\n",
       "0  The crystal structure of the H3.Y.1 nucleosome...         null    null   \n",
       "\n",
       "  caveats relations  \n",
       "0    null      None  \n",
       "\n",
       "[1 rows x 22 columns]"
      ]
     },
     "execution_count": 21,
     "metadata": {},
     "output_type": "execute_result"
    }
   ],
   "source": [
    "query = (\n",
    "    \"SELECT * FROM histone h LEFT JOIN histone_description hd \"\n",
    "    \"ON h.description = hd.id \"\n",
    "    \"WHERE h.id='H3.Y.2_(Homo_sapiens)'\"\n",
    ")\n",
    "cursor.execute(query)\n",
    "df = pd.DataFrame(cursor.fetchall(), columns=[i[0] for i in cursor.description])\n",
    "df"
   ]
  },
  {
   "cell_type": "code",
   "execution_count": 22,
   "id": "9149113e-399e-45ae-ac3d-07c962292df4",
   "metadata": {
    "tags": []
   },
   "outputs": [
    {
     "data": {
      "text/plain": [
       "[{'id': 173,\n",
       "  'level': 'variant',\n",
       "  'taxonomic_span': 'Homo sapiens',\n",
       "  'taxonomic_span_id': '9606',\n",
       "  'description': 173,\n",
       "  'parent': 'H3.Y.2_(Primates)',\n",
       "  'summary': 'H3.Y.2_(Homo_sapiens) is a human histone H3 variant (also known as H3.X) encoded by the H3Y2 gene. The protein sequence of H3Y2 differs from that of H3Y1 by the presence of an additional 11 amino acid residues at the C-terminal tail [ding_primate-specific_2021]. Human H3.Y.2, together with H3.Y.1, promotes cell growth, regulates cell cycle genes, and is implicated in primate-specific brain function [wiedemann_identification_2010]. It also facilitates sustained expression of DUX4-target genes [talbert_histone_2021, resnick_dux4-induced_2019].',\n",
       "  'taxonomy': 'null',\n",
       "  'genes': 'null',\n",
       "  'evolution': 'null',\n",
       "  'expression': 'H3.Y.1 and H3.Y.2 are detected at low levels in certain cell lines (e.g., osteosarcoma U2OS), as well as in a range of normal (brain, testis) and malignant (bone, breast, lung, and ovarian tumors) human tissues [wiedemann_identification_2010]. In addition, H3.Y.1 and H3.Y.2 are expressed in early embryos at the cleavage stage and in testicular tissue, consistently co-expressing with DUX4 [talbert_histone_2021, resnick_dux4-induced_2019].',\n",
       "  'knock_out': 'Knockdown of both genes encoding H3.Y (H3Y1 and H3Y2) using siRNA suppresses the super-induction of DUX4 target genes upon reactivation and reduces the persistence of their expression, but does not affect constitutively expressed genes [resnick_dux4-induced_2019].',\n",
       "  'function': 'The functions of H3.Y.2 remain poorly understood. However, the presence of H3.Y.2 (along with H3.Y.1) in hippocampal neurons suggests a potential role in primate-specific brain functions [wiedemann_identification_2010]. In addition, H3.Y.1 and H3.Y.2 are induced by the transcription factor DUX4 to facilitate the persistence and reactivation of DUX4 target genes following its transient expression [talbert_histone_2021, resnick_dux4-induced_2019].',\n",
       "  'sequence': 'The H3.Y.2 protein consists of 146 amino acids and shares high similarity with H3.Y.1 (89.7% identity), primarily differing by an additional 11 amino acid residues at the C-terminal tail with no sequence homology to other proteins [wiedemann_identification_2010]. Although its sequence resembles that of H3.3, H3.Y.2 contains specific amino acid substitutions at known post-translational modification sites of canonical H3 variants: S10A, S28R, K14Q, and K79S [wiedemann_identification_2010]. The H3.Y-specific residues, such as Lys42, Leu46, Lys53, and Gln59, are located at the nucleosomal DNA entry/exit sites and may potentially influence DNA-histone interactions and nucleosome stability [kujirai_structure_2016].',\n",
       "  'localization': 'H3.Y.1 and H3.Y.2 are incorporated into highly expressed genes, particularly those induced by DUX4, where it is enriched throughout the gene body, while in constitutively expressed genes, it is primarily localized to the transcription start site (TSS) region [resnick_dux4-induced_2019].',\n",
       "  'deposition': 'H3.Y.2 is deposited into chromatin via the HIRA chaperone complex, which facilitates its replication-independent incorporation into actively transcribed genomic regions [resnick_dux4-induced_2019]. Despite its high similarity to H3.3, H3.Y.2 is incapable of interacting with the DAXX/ATRX complex responsible for H3.3 deposition into heterochromatin [zink_h3y_2017].',\n",
       "  'structure': 'The crystal structure of the H3.Y.1 nucleosome reveals that its specific amino acid residues located at the DNA entry/exit sites result in increased DNA end flexibility compared to H3.3-containing nucleosomes, as well as reduced binding of linker histone H1 [talbert_histone_2021, kujirai_structure_2016]. This facilitates transcription factor access to DNA and may promote transcription activation. Kujirai et al. suggest that the heterotypic H3.Y/H3.3 nucleosome, which retains the same biochemical properties as its homotypic counterpart, is likely the predominant form in cells [kujirai_structure_2016].',\n",
       "  'interactions': 'null',\n",
       "  'disease': 'null',\n",
       "  'caveats': 'null',\n",
       "  'relations': None}]"
      ]
     },
     "execution_count": 22,
     "metadata": {},
     "output_type": "execute_result"
    }
   ],
   "source": [
    "df.to_dict(orient='records')"
   ]
  },
  {
   "cell_type": "code",
   "execution_count": 23,
   "id": "36774d28-3c6d-4e36-91fa-037e161da776",
   "metadata": {
    "tags": []
   },
   "outputs": [],
   "source": [
    "# Make sure data is committed to the database\n",
    "conn.commit()"
   ]
  },
  {
   "cell_type": "markdown",
   "id": "9e8bad07-ef74-40fd-a93b-e7897df0c591",
   "metadata": {
    "tags": []
   },
   "source": [
    "# Close connections"
   ]
  },
  {
   "cell_type": "code",
   "execution_count": 24,
   "id": "e5673501-5845-491a-bbb9-f5d213721d58",
   "metadata": {
    "tags": []
   },
   "outputs": [],
   "source": [
    "cursor.close()\n",
    "conn.close()\n",
    "tunnel.stop()"
   ]
  },
  {
   "cell_type": "code",
   "execution_count": null,
   "id": "abe34224-c8a2-499e-851f-c97c0b91d1ad",
   "metadata": {},
   "outputs": [],
   "source": []
  }
 ],
 "metadata": {
  "kernelspec": {
   "display_name": ".conda-histdb_env",
   "language": "python",
   "name": "conda-env-.conda-histdb_env-py"
  },
  "language_info": {
   "codemirror_mode": {
    "name": "ipython",
    "version": 3
   },
   "file_extension": ".py",
   "mimetype": "text/x-python",
   "name": "python",
   "nbconvert_exporter": "python",
   "pygments_lexer": "ipython3",
   "version": "3.8.1"
  }
 },
 "nbformat": 4,
 "nbformat_minor": 5
}
