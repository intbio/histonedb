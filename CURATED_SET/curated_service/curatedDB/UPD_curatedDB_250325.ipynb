{
 "cells": [
  {
   "cell_type": "code",
   "execution_count": 1,
   "id": "fb32231a-293e-45b8-af7d-d996c91a4edd",
   "metadata": {
    "tags": []
   },
   "outputs": [],
   "source": [
    "import pandas as pd\n",
    "from mysql.connector import connection\n",
    "from sshtunnel import SSHTunnelForwarder"
   ]
  },
  {
   "cell_type": "code",
   "execution_count": 2,
   "id": "d5fa78a7-4901-4e63-9d91-d9ed584d2f62",
   "metadata": {
    "tags": []
   },
   "outputs": [],
   "source": [
    "with open(\"db_curated_server_info.txt\", \"r\") as file:\n",
    "    lines = file.readlines()\n",
    "\n",
    "config = {}\n",
    "\n",
    "for line in lines:\n",
    "    line = line.strip()\n",
    "    if line and not line.startswith(\"#\"):\n",
    "        key, value = line.split(\"=\", 1)\n",
    "        config[key] = value.strip()\n",
    "\n",
    "server_name = config.get(\"server_name\")\n",
    "srever_port = int(config.get(\"srever_port\"))\n",
    "ssh_password = config.get(\"ssh_password\")\n",
    "ssh_username = config.get(\"ssh_username\")\n",
    "db_adress = config.get(\"db_adress\")\n",
    "db_port = int(config.get(\"db_port\"))"
   ]
  },
  {
   "cell_type": "code",
   "execution_count": 3,
   "id": "ebe3d2e8-9736-4fd9-b3f1-5ec2d255567d",
   "metadata": {
    "tags": []
   },
   "outputs": [
    {
     "name": "stdout",
     "output_type": "stream",
     "text": [
      "43661\n"
     ]
    }
   ],
   "source": [
    "tunnel = SSHTunnelForwarder(\n",
    "    (server_name, srever_port),\n",
    "    ssh_password=ssh_password,\n",
    "    ssh_username=ssh_username,\n",
    "    remote_bind_address=(db_adress, db_port),\n",
    ")\n",
    "tunnel.start()\n",
    "print(tunnel.local_bind_port)"
   ]
  },
  {
   "cell_type": "code",
   "execution_count": 4,
   "id": "0de93630-7502-40f3-ad24-42edf7a11eef",
   "metadata": {
    "tags": []
   },
   "outputs": [],
   "source": [
    "conn = connection.MySQLConnection(\n",
    "    user=\"db_user\",\n",
    "    password=\"db_password\",\n",
    "    host=\"localhost\",\n",
    "    port=tunnel.local_bind_port,\n",
    "    database=\"db_name\",\n",
    ")\n",
    "cursor = conn.cursor()"
   ]
  },
  {
   "cell_type": "code",
   "execution_count": 5,
   "id": "b4767ba0-4ea1-43ae-953f-f2575d9b7a69",
   "metadata": {
    "tags": []
   },
   "outputs": [
    {
     "data": {
      "text/plain": [
       "[('alternative_name',),\n",
       " ('histone',),\n",
       " ('histone_description',),\n",
       " ('histone_has_publication',),\n",
       " ('publication',),\n",
       " ('sequence',),\n",
       " ('sequence_has_publication',)]"
      ]
     },
     "execution_count": 5,
     "metadata": {},
     "output_type": "execute_result"
    }
   ],
   "source": [
    "query = \"SHOW TABLES;\"\n",
    "cursor.execute(query)\n",
    "cursor.fetchall()"
   ]
  },
  {
   "cell_type": "code",
   "execution_count": 18,
   "id": "7d59b3d0-7801-4177-8843-fdedf36cb6d1",
   "metadata": {
    "tags": []
   },
   "outputs": [],
   "source": [
    "add_histone = (\n",
    "    \"INSERT INTO histone \"\n",
    "    \"(id, level, taxonomic_span, taxonomic_span_id, description, parent) \"\n",
    "    \"VALUES (%(id)s, %(level)s, %(taxonomic_span)s, %(taxonomic_span_id)s, %(description)s, %(parent)s)\"\n",
    ")\n",
    "add_histone_description = (\n",
    "    \"INSERT INTO histone_description \"\n",
    "    \"(summary, taxonomy, genes, evolution, expression, knock_out, function, sequence, localization, deposition, structure, interactions, disease, caveats) \"\n",
    "    \"VALUES (%s, %s, %s, %s, %s, %s, %s, %s, %s, %s, %s, %s, %s, %s)\"\n",
    ")\n",
    "# add_publication = (\n",
    "#     \"INSERT INTO publication \"\n",
    "#     \"(id, title, doi, author, year) \"\n",
    "#     \"VALUES (%(id)s, %(title)s, %(doi)s, %(author)s, %(year)s)\"\n",
    "# )\n",
    "# add_sequence_has_publication = (\n",
    "#     \"INSERT INTO sequence_has_publication \"\n",
    "#     \"(sequence_accession, publication_id) \"\n",
    "#     \"VALUES (%s, %s)\"\n",
    "# )\n",
    "# add_alternate_names = (\n",
    "#     \"INSERT INTO alternative_name \"\n",
    "#     \"(name, taxonomy, gene, splice, histone) \"\n",
    "#     \"VALUES (%(name)s, %(taxonomy)s, %(gene)s, %(splice)s, %(histone)s)\"\n",
    "# )\n",
    "# add_histone_has_publication = (\n",
    "#     \"INSERT INTO histone_has_publication \"\n",
    "#     \"(histone_id, publication_id) \"\n",
    "#     \"VALUES (%s, %s)\"\n",
    "# )"
   ]
  },
  {
   "cell_type": "markdown",
   "id": "e91465e3-5f62-4d7e-bb56-f845d4fc97b1",
   "metadata": {
    "jp-MarkdownHeadingCollapsed": true,
    "tags": []
   },
   "source": [
    "# Add Singlets, Doublets, Triplets and Quadruplets nodes"
   ]
  },
  {
   "cell_type": "code",
   "execution_count": 8,
   "id": "ef10cf2b-ef9c-4238-89ed-9d5b348e4d80",
   "metadata": {
    "tags": []
   },
   "outputs": [
    {
     "data": {
      "text/html": [
       "<div>\n",
       "<style scoped>\n",
       "    .dataframe tbody tr th:only-of-type {\n",
       "        vertical-align: middle;\n",
       "    }\n",
       "\n",
       "    .dataframe tbody tr th {\n",
       "        vertical-align: top;\n",
       "    }\n",
       "\n",
       "    .dataframe thead th {\n",
       "        text-align: right;\n",
       "    }\n",
       "</style>\n",
       "<table border=\"1\" class=\"dataframe\">\n",
       "  <thead>\n",
       "    <tr style=\"text-align: right;\">\n",
       "      <th></th>\n",
       "      <th>id</th>\n",
       "      <th>level</th>\n",
       "      <th>taxonomic_span</th>\n",
       "      <th>taxonomic_span_id</th>\n",
       "      <th>description</th>\n",
       "      <th>parent</th>\n",
       "    </tr>\n",
       "  </thead>\n",
       "  <tbody>\n",
       "    <tr>\n",
       "      <th>156</th>\n",
       "      <td>H3</td>\n",
       "      <td>type</td>\n",
       "      <td>Eukaryotes</td>\n",
       "      <td>2759</td>\n",
       "      <td>5.0</td>\n",
       "      <td>None</td>\n",
       "    </tr>\n",
       "  </tbody>\n",
       "</table>\n",
       "</div>"
      ],
      "text/plain": [
       "     id level taxonomic_span taxonomic_span_id  description parent\n",
       "156  H3  type     Eukaryotes              2759          5.0   None"
      ]
     },
     "execution_count": 8,
     "metadata": {},
     "output_type": "execute_result"
    }
   ],
   "source": [
    "query = \"SELECT * FROM histone\"\n",
    "cursor.execute(query)\n",
    "histone_df = pd.DataFrame(cursor.fetchall(), columns=[i[0] for i in cursor.description])\n",
    "histone_df[histone_df[\"id\"] == \"H3\"]"
   ]
  },
  {
   "cell_type": "code",
   "execution_count": 9,
   "id": "79917b5f-bcf9-47eb-bae0-934d0d38cd31",
   "metadata": {
    "tags": []
   },
   "outputs": [],
   "source": [
    "data_histone = {\n",
    "    \"id\": \"Singlet\",\n",
    "    \"level\": 'type',\n",
    "    \"taxonomic_span\": 'Archaea, Bacteria, Viruses',\n",
    "    \"taxonomic_span_id\": '2157, 2, 10239',\n",
    "    \"description\": None,\n",
    "    \"parent\": None,\n",
    "}\n",
    "cursor.execute(add_histone, data_histone)\n",
    "\n",
    "# Make sure data is committed to the database\n",
    "conn.commit()"
   ]
  },
  {
   "cell_type": "code",
   "execution_count": 10,
   "id": "00e44611-3866-470a-a187-a8618938f47f",
   "metadata": {
    "tags": []
   },
   "outputs": [
    {
     "data": {
      "text/html": [
       "<div>\n",
       "<style scoped>\n",
       "    .dataframe tbody tr th:only-of-type {\n",
       "        vertical-align: middle;\n",
       "    }\n",
       "\n",
       "    .dataframe tbody tr th {\n",
       "        vertical-align: top;\n",
       "    }\n",
       "\n",
       "    .dataframe thead th {\n",
       "        text-align: right;\n",
       "    }\n",
       "</style>\n",
       "<table border=\"1\" class=\"dataframe\">\n",
       "  <thead>\n",
       "    <tr style=\"text-align: right;\">\n",
       "      <th></th>\n",
       "      <th>id</th>\n",
       "      <th>level</th>\n",
       "      <th>taxonomic_span</th>\n",
       "      <th>taxonomic_span_id</th>\n",
       "      <th>description</th>\n",
       "      <th>parent</th>\n",
       "    </tr>\n",
       "  </thead>\n",
       "  <tbody>\n",
       "    <tr>\n",
       "      <th>196</th>\n",
       "      <td>Singlet</td>\n",
       "      <td>type</td>\n",
       "      <td>Archaea, Bacteria, Viruses</td>\n",
       "      <td>2157, 2, 10239</td>\n",
       "      <td>NaN</td>\n",
       "      <td>None</td>\n",
       "    </tr>\n",
       "  </tbody>\n",
       "</table>\n",
       "</div>"
      ],
      "text/plain": [
       "          id level              taxonomic_span taxonomic_span_id  description  \\\n",
       "196  Singlet  type  Archaea, Bacteria, Viruses    2157, 2, 10239          NaN   \n",
       "\n",
       "    parent  \n",
       "196   None  "
      ]
     },
     "execution_count": 10,
     "metadata": {},
     "output_type": "execute_result"
    }
   ],
   "source": [
    "query = \"SELECT * FROM histone\"\n",
    "cursor.execute(query)\n",
    "histone_df = pd.DataFrame(cursor.fetchall(), columns=[i[0] for i in cursor.description])\n",
    "histone_df[histone_df[\"id\"] == \"Singlet\"]"
   ]
  },
  {
   "cell_type": "code",
   "execution_count": 11,
   "id": "9ba3d9a6-51c4-49b3-9f06-a857711bca76",
   "metadata": {
    "tags": []
   },
   "outputs": [],
   "source": [
    "data_histone = {\n",
    "    \"id\": \"Doublet\",\n",
    "    \"level\": 'type',\n",
    "    \"taxonomic_span\": 'Archaea, Bacteria, Viruses',\n",
    "    \"taxonomic_span_id\": '2157, 2, 10239',\n",
    "    \"description\": None,\n",
    "    \"parent\": None,\n",
    "}\n",
    "cursor.execute(add_histone, data_histone)\n",
    "\n",
    "# Make sure data is committed to the database\n",
    "conn.commit()"
   ]
  },
  {
   "cell_type": "code",
   "execution_count": 12,
   "id": "9aa0049a-0d2d-42ba-9081-e26831cc8139",
   "metadata": {
    "tags": []
   },
   "outputs": [
    {
     "data": {
      "text/html": [
       "<div>\n",
       "<style scoped>\n",
       "    .dataframe tbody tr th:only-of-type {\n",
       "        vertical-align: middle;\n",
       "    }\n",
       "\n",
       "    .dataframe tbody tr th {\n",
       "        vertical-align: top;\n",
       "    }\n",
       "\n",
       "    .dataframe thead th {\n",
       "        text-align: right;\n",
       "    }\n",
       "</style>\n",
       "<table border=\"1\" class=\"dataframe\">\n",
       "  <thead>\n",
       "    <tr style=\"text-align: right;\">\n",
       "      <th></th>\n",
       "      <th>id</th>\n",
       "      <th>level</th>\n",
       "      <th>taxonomic_span</th>\n",
       "      <th>taxonomic_span_id</th>\n",
       "      <th>description</th>\n",
       "      <th>parent</th>\n",
       "    </tr>\n",
       "  </thead>\n",
       "  <tbody>\n",
       "    <tr>\n",
       "      <th>75</th>\n",
       "      <td>Doublet</td>\n",
       "      <td>type</td>\n",
       "      <td>Archaea, Bacteria, Viruses</td>\n",
       "      <td>2157, 2, 10239</td>\n",
       "      <td>NaN</td>\n",
       "      <td>None</td>\n",
       "    </tr>\n",
       "  </tbody>\n",
       "</table>\n",
       "</div>"
      ],
      "text/plain": [
       "         id level              taxonomic_span taxonomic_span_id  description  \\\n",
       "75  Doublet  type  Archaea, Bacteria, Viruses    2157, 2, 10239          NaN   \n",
       "\n",
       "   parent  \n",
       "75   None  "
      ]
     },
     "execution_count": 12,
     "metadata": {},
     "output_type": "execute_result"
    }
   ],
   "source": [
    "query = \"SELECT * FROM histone\"\n",
    "cursor.execute(query)\n",
    "histone_df = pd.DataFrame(cursor.fetchall(), columns=[i[0] for i in cursor.description])\n",
    "histone_df[histone_df[\"id\"] == \"Doublet\"]"
   ]
  },
  {
   "cell_type": "code",
   "execution_count": 13,
   "id": "119d579b-bb6d-4481-8c46-d0603bb73cd4",
   "metadata": {
    "tags": []
   },
   "outputs": [],
   "source": [
    "data_histone = {\n",
    "    \"id\": \"Triplet\",\n",
    "    \"level\": 'type',\n",
    "    \"taxonomic_span\": 'Viruses',\n",
    "    \"taxonomic_span_id\": '10239',\n",
    "    \"description\": None,\n",
    "    \"parent\": None,\n",
    "}\n",
    "cursor.execute(add_histone, data_histone)\n",
    "\n",
    "# Make sure data is committed to the database\n",
    "conn.commit()"
   ]
  },
  {
   "cell_type": "code",
   "execution_count": 14,
   "id": "6b4002d3-800f-448c-b0ef-b46855f1f842",
   "metadata": {
    "tags": []
   },
   "outputs": [
    {
     "data": {
      "text/html": [
       "<div>\n",
       "<style scoped>\n",
       "    .dataframe tbody tr th:only-of-type {\n",
       "        vertical-align: middle;\n",
       "    }\n",
       "\n",
       "    .dataframe tbody tr th {\n",
       "        vertical-align: top;\n",
       "    }\n",
       "\n",
       "    .dataframe thead th {\n",
       "        text-align: right;\n",
       "    }\n",
       "</style>\n",
       "<table border=\"1\" class=\"dataframe\">\n",
       "  <thead>\n",
       "    <tr style=\"text-align: right;\">\n",
       "      <th></th>\n",
       "      <th>id</th>\n",
       "      <th>level</th>\n",
       "      <th>taxonomic_span</th>\n",
       "      <th>taxonomic_span_id</th>\n",
       "      <th>description</th>\n",
       "      <th>parent</th>\n",
       "    </tr>\n",
       "  </thead>\n",
       "  <tbody>\n",
       "    <tr>\n",
       "      <th>199</th>\n",
       "      <td>Triplet</td>\n",
       "      <td>type</td>\n",
       "      <td>Viruses</td>\n",
       "      <td>10239</td>\n",
       "      <td>NaN</td>\n",
       "      <td>None</td>\n",
       "    </tr>\n",
       "  </tbody>\n",
       "</table>\n",
       "</div>"
      ],
      "text/plain": [
       "          id level taxonomic_span taxonomic_span_id  description parent\n",
       "199  Triplet  type        Viruses             10239          NaN   None"
      ]
     },
     "execution_count": 14,
     "metadata": {},
     "output_type": "execute_result"
    }
   ],
   "source": [
    "query = \"SELECT * FROM histone\"\n",
    "cursor.execute(query)\n",
    "histone_df = pd.DataFrame(cursor.fetchall(), columns=[i[0] for i in cursor.description])\n",
    "histone_df[histone_df[\"id\"] == \"Triplet\"]"
   ]
  },
  {
   "cell_type": "code",
   "execution_count": 15,
   "id": "b0a1af23-e64d-4695-86a3-99ce1c0a56b6",
   "metadata": {
    "tags": []
   },
   "outputs": [],
   "source": [
    "data_histone = {\n",
    "    \"id\": \"Quadruplet\",\n",
    "    \"level\": 'type',\n",
    "    \"taxonomic_span\": 'Viruses',\n",
    "    \"taxonomic_span_id\": '10239',\n",
    "    \"description\": None,\n",
    "    \"parent\": None,\n",
    "}\n",
    "cursor.execute(add_histone, data_histone)\n",
    "\n",
    "# Make sure data is committed to the database\n",
    "conn.commit()"
   ]
  },
  {
   "cell_type": "code",
   "execution_count": 16,
   "id": "a26ddf84-b31f-4ab6-bf69-c8154076711c",
   "metadata": {
    "tags": []
   },
   "outputs": [
    {
     "data": {
      "text/html": [
       "<div>\n",
       "<style scoped>\n",
       "    .dataframe tbody tr th:only-of-type {\n",
       "        vertical-align: middle;\n",
       "    }\n",
       "\n",
       "    .dataframe tbody tr th {\n",
       "        vertical-align: top;\n",
       "    }\n",
       "\n",
       "    .dataframe thead th {\n",
       "        text-align: right;\n",
       "    }\n",
       "</style>\n",
       "<table border=\"1\" class=\"dataframe\">\n",
       "  <thead>\n",
       "    <tr style=\"text-align: right;\">\n",
       "      <th></th>\n",
       "      <th>id</th>\n",
       "      <th>level</th>\n",
       "      <th>taxonomic_span</th>\n",
       "      <th>taxonomic_span_id</th>\n",
       "      <th>description</th>\n",
       "      <th>parent</th>\n",
       "    </tr>\n",
       "  </thead>\n",
       "  <tbody>\n",
       "    <tr>\n",
       "      <th>195</th>\n",
       "      <td>Quadruplet</td>\n",
       "      <td>type</td>\n",
       "      <td>Viruses</td>\n",
       "      <td>10239</td>\n",
       "      <td>NaN</td>\n",
       "      <td>None</td>\n",
       "    </tr>\n",
       "  </tbody>\n",
       "</table>\n",
       "</div>"
      ],
      "text/plain": [
       "             id level taxonomic_span taxonomic_span_id  description parent\n",
       "195  Quadruplet  type        Viruses             10239          NaN   None"
      ]
     },
     "execution_count": 16,
     "metadata": {},
     "output_type": "execute_result"
    }
   ],
   "source": [
    "query = \"SELECT * FROM histone\"\n",
    "cursor.execute(query)\n",
    "histone_df = pd.DataFrame(cursor.fetchall(), columns=[i[0] for i in cursor.description])\n",
    "histone_df[histone_df[\"id\"] == \"Quadruplet\"]"
   ]
  },
  {
   "cell_type": "markdown",
   "id": "ce1425e3-6529-4fc5-abb1-9ed6154072a9",
   "metadata": {
    "jp-MarkdownHeadingCollapsed": true,
    "tags": []
   },
   "source": [
    "# Создадим описания"
   ]
  },
  {
   "cell_type": "code",
   "execution_count": 19,
   "id": "166fe12f-8eb3-4cc7-bbfd-79c51bbbdc6a",
   "metadata": {
    "tags": []
   },
   "outputs": [],
   "source": [
    "histone_description_summary = \"Singlet is one of the histone types present in Archaea, Bacteria and Viruses.\"\n",
    "data_histone_description = (histone_description_summary,) + (None,) * 13\n",
    "cursor.execute(add_histone_description, data_histone_description)\n",
    "\n",
    "histone_description_id = cursor.lastrowid\n",
    "query = f\"UPDATE histone SET description={histone_description_id} WHERE id='Singlet'\"\n",
    "cursor.execute(query)\n",
    "\n",
    "# Make sure data is committed to the database\n",
    "conn.commit()"
   ]
  },
  {
   "cell_type": "code",
   "execution_count": 20,
   "id": "d7337b50-35e5-4fdc-95ae-9473f47079bc",
   "metadata": {
    "tags": []
   },
   "outputs": [
    {
     "data": {
      "text/html": [
       "<div>\n",
       "<style scoped>\n",
       "    .dataframe tbody tr th:only-of-type {\n",
       "        vertical-align: middle;\n",
       "    }\n",
       "\n",
       "    .dataframe tbody tr th {\n",
       "        vertical-align: top;\n",
       "    }\n",
       "\n",
       "    .dataframe thead th {\n",
       "        text-align: right;\n",
       "    }\n",
       "</style>\n",
       "<table border=\"1\" class=\"dataframe\">\n",
       "  <thead>\n",
       "    <tr style=\"text-align: right;\">\n",
       "      <th></th>\n",
       "      <th>id</th>\n",
       "      <th>level</th>\n",
       "      <th>taxonomic_span</th>\n",
       "      <th>taxonomic_span_id</th>\n",
       "      <th>description</th>\n",
       "      <th>parent</th>\n",
       "      <th>id</th>\n",
       "      <th>summary</th>\n",
       "      <th>taxonomy</th>\n",
       "      <th>genes</th>\n",
       "      <th>...</th>\n",
       "      <th>knock_out</th>\n",
       "      <th>function</th>\n",
       "      <th>sequence</th>\n",
       "      <th>localization</th>\n",
       "      <th>deposition</th>\n",
       "      <th>structure</th>\n",
       "      <th>interactions</th>\n",
       "      <th>disease</th>\n",
       "      <th>caveats</th>\n",
       "      <th>relations</th>\n",
       "    </tr>\n",
       "  </thead>\n",
       "  <tbody>\n",
       "    <tr>\n",
       "      <th>0</th>\n",
       "      <td>Singlet</td>\n",
       "      <td>type</td>\n",
       "      <td>Archaea, Bacteria, Viruses</td>\n",
       "      <td>2157, 2, 10239</td>\n",
       "      <td>207</td>\n",
       "      <td>None</td>\n",
       "      <td>207</td>\n",
       "      <td>Singlet is one of the histone types present in...</td>\n",
       "      <td>None</td>\n",
       "      <td>None</td>\n",
       "      <td>...</td>\n",
       "      <td>None</td>\n",
       "      <td>None</td>\n",
       "      <td>None</td>\n",
       "      <td>None</td>\n",
       "      <td>None</td>\n",
       "      <td>None</td>\n",
       "      <td>None</td>\n",
       "      <td>None</td>\n",
       "      <td>None</td>\n",
       "      <td>None</td>\n",
       "    </tr>\n",
       "  </tbody>\n",
       "</table>\n",
       "<p>1 rows × 22 columns</p>\n",
       "</div>"
      ],
      "text/plain": [
       "        id level              taxonomic_span taxonomic_span_id  description  \\\n",
       "0  Singlet  type  Archaea, Bacteria, Viruses    2157, 2, 10239          207   \n",
       "\n",
       "  parent   id                                            summary taxonomy  \\\n",
       "0   None  207  Singlet is one of the histone types present in...     None   \n",
       "\n",
       "  genes  ... knock_out function sequence localization deposition structure  \\\n",
       "0  None  ...      None     None     None         None       None      None   \n",
       "\n",
       "  interactions disease caveats relations  \n",
       "0         None    None    None      None  \n",
       "\n",
       "[1 rows x 22 columns]"
      ]
     },
     "execution_count": 20,
     "metadata": {},
     "output_type": "execute_result"
    }
   ],
   "source": [
    "query = (\n",
    "    \"SELECT * FROM histone h LEFT JOIN histone_description hd \"\n",
    "    \"ON h.description = hd.id \"\n",
    "    \"WHERE h.id='Singlet'\"\n",
    ")\n",
    "cursor.execute(query)\n",
    "pd.DataFrame(cursor.fetchall(), columns=[i[0] for i in cursor.description])"
   ]
  },
  {
   "cell_type": "code",
   "execution_count": 21,
   "id": "185a06fa-d485-47f7-b09e-0e00f181af94",
   "metadata": {
    "tags": []
   },
   "outputs": [],
   "source": [
    "histone_description_summary = 'Doublet is one of the histone types present in Archaea, Bacteria and Viruses. Doublets are histone proteins in which two histone-fold domains (structural motifs responsible for DNA binding) are fused into a single gene. These domains are arranged sequentially (\"back-to-back\") and linked by a flexible peptide connector, allowing the protein to fold into a functional dimer. '\n",
    "data_histone_description = (histone_description_summary,) + (None,) * 13\n",
    "cursor.execute(add_histone_description, data_histone_description)\n",
    "\n",
    "histone_description_id = cursor.lastrowid\n",
    "query = f\"UPDATE histone SET description={histone_description_id} WHERE id='Doublet'\"\n",
    "cursor.execute(query)\n",
    "\n",
    "# Make sure data is committed to the database\n",
    "conn.commit()"
   ]
  },
  {
   "cell_type": "code",
   "execution_count": 22,
   "id": "e68f5fb9-0c7c-4456-a4f1-52cba4743dab",
   "metadata": {
    "tags": []
   },
   "outputs": [
    {
     "data": {
      "text/html": [
       "<div>\n",
       "<style scoped>\n",
       "    .dataframe tbody tr th:only-of-type {\n",
       "        vertical-align: middle;\n",
       "    }\n",
       "\n",
       "    .dataframe tbody tr th {\n",
       "        vertical-align: top;\n",
       "    }\n",
       "\n",
       "    .dataframe thead th {\n",
       "        text-align: right;\n",
       "    }\n",
       "</style>\n",
       "<table border=\"1\" class=\"dataframe\">\n",
       "  <thead>\n",
       "    <tr style=\"text-align: right;\">\n",
       "      <th></th>\n",
       "      <th>id</th>\n",
       "      <th>level</th>\n",
       "      <th>taxonomic_span</th>\n",
       "      <th>taxonomic_span_id</th>\n",
       "      <th>description</th>\n",
       "      <th>parent</th>\n",
       "      <th>id</th>\n",
       "      <th>summary</th>\n",
       "      <th>taxonomy</th>\n",
       "      <th>genes</th>\n",
       "      <th>...</th>\n",
       "      <th>knock_out</th>\n",
       "      <th>function</th>\n",
       "      <th>sequence</th>\n",
       "      <th>localization</th>\n",
       "      <th>deposition</th>\n",
       "      <th>structure</th>\n",
       "      <th>interactions</th>\n",
       "      <th>disease</th>\n",
       "      <th>caveats</th>\n",
       "      <th>relations</th>\n",
       "    </tr>\n",
       "  </thead>\n",
       "  <tbody>\n",
       "    <tr>\n",
       "      <th>0</th>\n",
       "      <td>Doublet</td>\n",
       "      <td>type</td>\n",
       "      <td>Archaea, Bacteria, Viruses</td>\n",
       "      <td>2157, 2, 10239</td>\n",
       "      <td>208</td>\n",
       "      <td>None</td>\n",
       "      <td>208</td>\n",
       "      <td>Doublet is one of the histone types present in...</td>\n",
       "      <td>None</td>\n",
       "      <td>None</td>\n",
       "      <td>...</td>\n",
       "      <td>None</td>\n",
       "      <td>None</td>\n",
       "      <td>None</td>\n",
       "      <td>None</td>\n",
       "      <td>None</td>\n",
       "      <td>None</td>\n",
       "      <td>None</td>\n",
       "      <td>None</td>\n",
       "      <td>None</td>\n",
       "      <td>None</td>\n",
       "    </tr>\n",
       "  </tbody>\n",
       "</table>\n",
       "<p>1 rows × 22 columns</p>\n",
       "</div>"
      ],
      "text/plain": [
       "        id level              taxonomic_span taxonomic_span_id  description  \\\n",
       "0  Doublet  type  Archaea, Bacteria, Viruses    2157, 2, 10239          208   \n",
       "\n",
       "  parent   id                                            summary taxonomy  \\\n",
       "0   None  208  Doublet is one of the histone types present in...     None   \n",
       "\n",
       "  genes  ... knock_out function sequence localization deposition structure  \\\n",
       "0  None  ...      None     None     None         None       None      None   \n",
       "\n",
       "  interactions disease caveats relations  \n",
       "0         None    None    None      None  \n",
       "\n",
       "[1 rows x 22 columns]"
      ]
     },
     "execution_count": 22,
     "metadata": {},
     "output_type": "execute_result"
    }
   ],
   "source": [
    "query = (\n",
    "    \"SELECT * FROM histone h LEFT JOIN histone_description hd \"\n",
    "    \"ON h.description = hd.id \"\n",
    "    \"WHERE h.id='Doublet'\"\n",
    ")\n",
    "cursor.execute(query)\n",
    "pd.DataFrame(cursor.fetchall(), columns=[i[0] for i in cursor.description])"
   ]
  },
  {
   "cell_type": "code",
   "execution_count": 23,
   "id": "7fe02a70-c665-427f-9b5c-b185c21f9163",
   "metadata": {
    "tags": []
   },
   "outputs": [],
   "source": [
    "histone_description_summary = 'Triplet is one of the histone types present in Viruses. Triplets are histone proteins in which tree histone-fold domains (structural motifs responsible for DNA binding) are fused into a single gene. These domains are arranged sequentially (\"back-to-back\") and linked by a flexible peptide connector. '\n",
    "data_histone_description = (histone_description_summary,) + (None,) * 13\n",
    "cursor.execute(add_histone_description, data_histone_description)\n",
    "\n",
    "histone_description_id = cursor.lastrowid\n",
    "query = f\"UPDATE histone SET description={histone_description_id} WHERE id='Triplet'\"\n",
    "cursor.execute(query)\n",
    "\n",
    "# Make sure data is committed to the database\n",
    "conn.commit()"
   ]
  },
  {
   "cell_type": "code",
   "execution_count": 24,
   "id": "b33a49c6-faf5-4cf8-9577-c3b10901032b",
   "metadata": {
    "tags": []
   },
   "outputs": [
    {
     "data": {
      "text/html": [
       "<div>\n",
       "<style scoped>\n",
       "    .dataframe tbody tr th:only-of-type {\n",
       "        vertical-align: middle;\n",
       "    }\n",
       "\n",
       "    .dataframe tbody tr th {\n",
       "        vertical-align: top;\n",
       "    }\n",
       "\n",
       "    .dataframe thead th {\n",
       "        text-align: right;\n",
       "    }\n",
       "</style>\n",
       "<table border=\"1\" class=\"dataframe\">\n",
       "  <thead>\n",
       "    <tr style=\"text-align: right;\">\n",
       "      <th></th>\n",
       "      <th>id</th>\n",
       "      <th>level</th>\n",
       "      <th>taxonomic_span</th>\n",
       "      <th>taxonomic_span_id</th>\n",
       "      <th>description</th>\n",
       "      <th>parent</th>\n",
       "      <th>id</th>\n",
       "      <th>summary</th>\n",
       "      <th>taxonomy</th>\n",
       "      <th>genes</th>\n",
       "      <th>...</th>\n",
       "      <th>knock_out</th>\n",
       "      <th>function</th>\n",
       "      <th>sequence</th>\n",
       "      <th>localization</th>\n",
       "      <th>deposition</th>\n",
       "      <th>structure</th>\n",
       "      <th>interactions</th>\n",
       "      <th>disease</th>\n",
       "      <th>caveats</th>\n",
       "      <th>relations</th>\n",
       "    </tr>\n",
       "  </thead>\n",
       "  <tbody>\n",
       "    <tr>\n",
       "      <th>0</th>\n",
       "      <td>Triplet</td>\n",
       "      <td>type</td>\n",
       "      <td>Viruses</td>\n",
       "      <td>10239</td>\n",
       "      <td>209</td>\n",
       "      <td>None</td>\n",
       "      <td>209</td>\n",
       "      <td>Triplet is one of the histone types present in...</td>\n",
       "      <td>None</td>\n",
       "      <td>None</td>\n",
       "      <td>...</td>\n",
       "      <td>None</td>\n",
       "      <td>None</td>\n",
       "      <td>None</td>\n",
       "      <td>None</td>\n",
       "      <td>None</td>\n",
       "      <td>None</td>\n",
       "      <td>None</td>\n",
       "      <td>None</td>\n",
       "      <td>None</td>\n",
       "      <td>None</td>\n",
       "    </tr>\n",
       "  </tbody>\n",
       "</table>\n",
       "<p>1 rows × 22 columns</p>\n",
       "</div>"
      ],
      "text/plain": [
       "        id level taxonomic_span taxonomic_span_id  description parent   id  \\\n",
       "0  Triplet  type        Viruses             10239          209   None  209   \n",
       "\n",
       "                                             summary taxonomy genes  ...  \\\n",
       "0  Triplet is one of the histone types present in...     None  None  ...   \n",
       "\n",
       "  knock_out function sequence localization deposition structure interactions  \\\n",
       "0      None     None     None         None       None      None         None   \n",
       "\n",
       "  disease caveats relations  \n",
       "0    None    None      None  \n",
       "\n",
       "[1 rows x 22 columns]"
      ]
     },
     "execution_count": 24,
     "metadata": {},
     "output_type": "execute_result"
    }
   ],
   "source": [
    "query = (\n",
    "    \"SELECT * FROM histone h LEFT JOIN histone_description hd \"\n",
    "    \"ON h.description = hd.id \"\n",
    "    \"WHERE h.id='Triplet'\"\n",
    ")\n",
    "cursor.execute(query)\n",
    "pd.DataFrame(cursor.fetchall(), columns=[i[0] for i in cursor.description])"
   ]
  },
  {
   "cell_type": "code",
   "execution_count": 25,
   "id": "2255243b-7696-4e92-8420-1ad04ee326ef",
   "metadata": {
    "tags": []
   },
   "outputs": [],
   "source": [
    "histone_description_summary = 'Quadruplet is one of the histone types present in Viruses. Quadruplets are histone proteins in which four histone-fold domains (structural motifs responsible for DNA binding) are fused into a single gene. These domains are arranged sequentially (\"back-to-back\") and linked by a flexible peptide connector. '\n",
    "data_histone_description = (histone_description_summary,) + (None,) * 13\n",
    "cursor.execute(add_histone_description, data_histone_description)\n",
    "\n",
    "histone_description_id = cursor.lastrowid\n",
    "query = f\"UPDATE histone SET description={histone_description_id} WHERE id='Quadruplet'\"\n",
    "cursor.execute(query)\n",
    "\n",
    "# Make sure data is committed to the database\n",
    "conn.commit()"
   ]
  },
  {
   "cell_type": "code",
   "execution_count": 26,
   "id": "e7be7873-3376-4da6-a205-ee49b21a09aa",
   "metadata": {
    "tags": []
   },
   "outputs": [
    {
     "data": {
      "text/html": [
       "<div>\n",
       "<style scoped>\n",
       "    .dataframe tbody tr th:only-of-type {\n",
       "        vertical-align: middle;\n",
       "    }\n",
       "\n",
       "    .dataframe tbody tr th {\n",
       "        vertical-align: top;\n",
       "    }\n",
       "\n",
       "    .dataframe thead th {\n",
       "        text-align: right;\n",
       "    }\n",
       "</style>\n",
       "<table border=\"1\" class=\"dataframe\">\n",
       "  <thead>\n",
       "    <tr style=\"text-align: right;\">\n",
       "      <th></th>\n",
       "      <th>id</th>\n",
       "      <th>level</th>\n",
       "      <th>taxonomic_span</th>\n",
       "      <th>taxonomic_span_id</th>\n",
       "      <th>description</th>\n",
       "      <th>parent</th>\n",
       "      <th>id</th>\n",
       "      <th>summary</th>\n",
       "      <th>taxonomy</th>\n",
       "      <th>genes</th>\n",
       "      <th>...</th>\n",
       "      <th>knock_out</th>\n",
       "      <th>function</th>\n",
       "      <th>sequence</th>\n",
       "      <th>localization</th>\n",
       "      <th>deposition</th>\n",
       "      <th>structure</th>\n",
       "      <th>interactions</th>\n",
       "      <th>disease</th>\n",
       "      <th>caveats</th>\n",
       "      <th>relations</th>\n",
       "    </tr>\n",
       "  </thead>\n",
       "  <tbody>\n",
       "    <tr>\n",
       "      <th>0</th>\n",
       "      <td>Quadruplet</td>\n",
       "      <td>type</td>\n",
       "      <td>Viruses</td>\n",
       "      <td>10239</td>\n",
       "      <td>210</td>\n",
       "      <td>None</td>\n",
       "      <td>210</td>\n",
       "      <td>Quadruplet is one of the histone types present...</td>\n",
       "      <td>None</td>\n",
       "      <td>None</td>\n",
       "      <td>...</td>\n",
       "      <td>None</td>\n",
       "      <td>None</td>\n",
       "      <td>None</td>\n",
       "      <td>None</td>\n",
       "      <td>None</td>\n",
       "      <td>None</td>\n",
       "      <td>None</td>\n",
       "      <td>None</td>\n",
       "      <td>None</td>\n",
       "      <td>None</td>\n",
       "    </tr>\n",
       "  </tbody>\n",
       "</table>\n",
       "<p>1 rows × 22 columns</p>\n",
       "</div>"
      ],
      "text/plain": [
       "           id level taxonomic_span taxonomic_span_id  description parent   id  \\\n",
       "0  Quadruplet  type        Viruses             10239          210   None  210   \n",
       "\n",
       "                                             summary taxonomy genes  ...  \\\n",
       "0  Quadruplet is one of the histone types present...     None  None  ...   \n",
       "\n",
       "  knock_out function sequence localization deposition structure interactions  \\\n",
       "0      None     None     None         None       None      None         None   \n",
       "\n",
       "  disease caveats relations  \n",
       "0    None    None      None  \n",
       "\n",
       "[1 rows x 22 columns]"
      ]
     },
     "execution_count": 26,
     "metadata": {},
     "output_type": "execute_result"
    }
   ],
   "source": [
    "query = (\n",
    "    \"SELECT * FROM histone h LEFT JOIN histone_description hd \"\n",
    "    \"ON h.description = hd.id \"\n",
    "    \"WHERE h.id='Quadruplet'\"\n",
    ")\n",
    "cursor.execute(query)\n",
    "pd.DataFrame(cursor.fetchall(), columns=[i[0] for i in cursor.description])"
   ]
  },
  {
   "cell_type": "markdown",
   "id": "78406cff-38dc-4687-88c7-6cd12d0b1a68",
   "metadata": {
    "jp-MarkdownHeadingCollapsed": true,
    "tags": []
   },
   "source": [
    "# Add Capstones"
   ]
  },
  {
   "cell_type": "code",
   "execution_count": 27,
   "id": "ff519fb6-75db-4c05-9bc8-d35d49a662e6",
   "metadata": {
    "tags": []
   },
   "outputs": [],
   "source": [
    "data_histone = {\n",
    "    \"id\": \"Capstone\",\n",
    "    \"level\": 'type',\n",
    "    \"taxonomic_span\": 'Archaea, Bacteria, Viruses',\n",
    "    \"taxonomic_span_id\": '2157, 2, 10239',\n",
    "    \"description\": None,\n",
    "    \"parent\": 'Singlet',\n",
    "}\n",
    "cursor.execute(add_histone, data_histone)\n",
    "\n",
    "# Make sure data is committed to the database\n",
    "conn.commit()"
   ]
  },
  {
   "cell_type": "code",
   "execution_count": 30,
   "id": "a6614c39-faba-4f7b-89c0-3c412a84e7cf",
   "metadata": {
    "tags": []
   },
   "outputs": [
    {
     "data": {
      "text/html": [
       "<div>\n",
       "<style scoped>\n",
       "    .dataframe tbody tr th:only-of-type {\n",
       "        vertical-align: middle;\n",
       "    }\n",
       "\n",
       "    .dataframe tbody tr th {\n",
       "        vertical-align: top;\n",
       "    }\n",
       "\n",
       "    .dataframe thead th {\n",
       "        text-align: right;\n",
       "    }\n",
       "</style>\n",
       "<table border=\"1\" class=\"dataframe\">\n",
       "  <thead>\n",
       "    <tr style=\"text-align: right;\">\n",
       "      <th></th>\n",
       "      <th>id</th>\n",
       "      <th>level</th>\n",
       "      <th>taxonomic_span</th>\n",
       "      <th>taxonomic_span_id</th>\n",
       "      <th>description</th>\n",
       "      <th>parent</th>\n",
       "    </tr>\n",
       "  </thead>\n",
       "  <tbody>\n",
       "    <tr>\n",
       "      <th>1</th>\n",
       "      <td>Capstone</td>\n",
       "      <td>type</td>\n",
       "      <td>Archaea, Bacteria, Viruses</td>\n",
       "      <td>2157, 2, 10239</td>\n",
       "      <td>NaN</td>\n",
       "      <td>Singlet</td>\n",
       "    </tr>\n",
       "  </tbody>\n",
       "</table>\n",
       "</div>"
      ],
      "text/plain": [
       "         id level              taxonomic_span taxonomic_span_id  description  \\\n",
       "1  Capstone  type  Archaea, Bacteria, Viruses    2157, 2, 10239          NaN   \n",
       "\n",
       "    parent  \n",
       "1  Singlet  "
      ]
     },
     "execution_count": 30,
     "metadata": {},
     "output_type": "execute_result"
    }
   ],
   "source": [
    "query = \"SELECT * FROM histone\"\n",
    "cursor.execute(query)\n",
    "histone_df = pd.DataFrame(cursor.fetchall(), columns=[i[0] for i in cursor.description])\n",
    "histone_df[histone_df[\"id\"] == \"Capstone\"]"
   ]
  },
  {
   "cell_type": "code",
   "execution_count": 31,
   "id": "988040b7-d5cd-4128-afdd-83cb4dda417e",
   "metadata": {
    "tags": []
   },
   "outputs": [
    {
     "data": {
      "text/html": [
       "<div>\n",
       "<style scoped>\n",
       "    .dataframe tbody tr th:only-of-type {\n",
       "        vertical-align: middle;\n",
       "    }\n",
       "\n",
       "    .dataframe tbody tr th {\n",
       "        vertical-align: top;\n",
       "    }\n",
       "\n",
       "    .dataframe thead th {\n",
       "        text-align: right;\n",
       "    }\n",
       "</style>\n",
       "<table border=\"1\" class=\"dataframe\">\n",
       "  <thead>\n",
       "    <tr style=\"text-align: right;\">\n",
       "      <th></th>\n",
       "      <th>id</th>\n",
       "      <th>level</th>\n",
       "      <th>taxonomic_span</th>\n",
       "      <th>taxonomic_span_id</th>\n",
       "      <th>description</th>\n",
       "      <th>parent</th>\n",
       "    </tr>\n",
       "  </thead>\n",
       "  <tbody>\n",
       "    <tr>\n",
       "      <th>1</th>\n",
       "      <td>Capstone</td>\n",
       "      <td>variant_group</td>\n",
       "      <td>Archaea, Bacteria, Viruses</td>\n",
       "      <td>2157, 2, 10239</td>\n",
       "      <td>NaN</td>\n",
       "      <td>Singlet</td>\n",
       "    </tr>\n",
       "  </tbody>\n",
       "</table>\n",
       "</div>"
      ],
      "text/plain": [
       "         id          level              taxonomic_span taxonomic_span_id  \\\n",
       "1  Capstone  variant_group  Archaea, Bacteria, Viruses    2157, 2, 10239   \n",
       "\n",
       "   description   parent  \n",
       "1          NaN  Singlet  "
      ]
     },
     "execution_count": 31,
     "metadata": {},
     "output_type": "execute_result"
    }
   ],
   "source": [
    "query = f\"UPDATE histone SET level='variant_group' WHERE id='Capstone'\"\n",
    "cursor.execute(query)\n",
    "\n",
    "query = \"SELECT * FROM histone\"\n",
    "cursor.execute(query)\n",
    "histone_df = pd.DataFrame(cursor.fetchall(), columns=[i[0] for i in cursor.description])\n",
    "histone_df[histone_df[\"id\"] == \"Capstone\"]"
   ]
  },
  {
   "cell_type": "code",
   "execution_count": 32,
   "id": "020a5bae-aba4-484d-afc6-4cef2e3e74af",
   "metadata": {
    "tags": []
   },
   "outputs": [],
   "source": [
    "histone_description_summary = 'Capstones are histone variants found in archaea that hinder stable tetramer formation and further elongation of oligomeric chromatin structures. They are distinguished by their unstable interfaces between dimers, frequently resulting from key amino acid substitutions (e.g., the loss of histidine at the end of α2 in the capstone of Methanobrevibacter smithii), which disrupts interactions between histone complexes [stevens_histone_2023, stevens_histone_2020, henneman_structure_2018]. These histones act as \"capstones\", thereby limiting DNA compactization and regulating genome accessibility. It is noteworthy that capstones are evolutionarily conserved and have arisen independently in different lineages of archaea, which underscores their significance in chromatin organisation, akin to functional variants of histones in eukaryotes [stevens_histone_2020].'\n",
    "data_histone_description = (histone_description_summary,) + (None,) * 13\n",
    "cursor.execute(add_histone_description, data_histone_description)\n",
    "\n",
    "histone_description_id = cursor.lastrowid\n",
    "query = f\"UPDATE histone SET description={histone_description_id} WHERE id='Capstone'\"\n",
    "cursor.execute(query)\n",
    "\n",
    "# Make sure data is committed to the database\n",
    "conn.commit()"
   ]
  },
  {
   "cell_type": "code",
   "execution_count": 33,
   "id": "59ffb777-e22e-42ef-99a7-9ffa2b8bdd3f",
   "metadata": {
    "tags": []
   },
   "outputs": [
    {
     "data": {
      "text/html": [
       "<div>\n",
       "<style scoped>\n",
       "    .dataframe tbody tr th:only-of-type {\n",
       "        vertical-align: middle;\n",
       "    }\n",
       "\n",
       "    .dataframe tbody tr th {\n",
       "        vertical-align: top;\n",
       "    }\n",
       "\n",
       "    .dataframe thead th {\n",
       "        text-align: right;\n",
       "    }\n",
       "</style>\n",
       "<table border=\"1\" class=\"dataframe\">\n",
       "  <thead>\n",
       "    <tr style=\"text-align: right;\">\n",
       "      <th></th>\n",
       "      <th>id</th>\n",
       "      <th>level</th>\n",
       "      <th>taxonomic_span</th>\n",
       "      <th>taxonomic_span_id</th>\n",
       "      <th>description</th>\n",
       "      <th>parent</th>\n",
       "      <th>id</th>\n",
       "      <th>summary</th>\n",
       "      <th>taxonomy</th>\n",
       "      <th>genes</th>\n",
       "      <th>...</th>\n",
       "      <th>knock_out</th>\n",
       "      <th>function</th>\n",
       "      <th>sequence</th>\n",
       "      <th>localization</th>\n",
       "      <th>deposition</th>\n",
       "      <th>structure</th>\n",
       "      <th>interactions</th>\n",
       "      <th>disease</th>\n",
       "      <th>caveats</th>\n",
       "      <th>relations</th>\n",
       "    </tr>\n",
       "  </thead>\n",
       "  <tbody>\n",
       "    <tr>\n",
       "      <th>0</th>\n",
       "      <td>Capstone</td>\n",
       "      <td>variant_group</td>\n",
       "      <td>Archaea, Bacteria, Viruses</td>\n",
       "      <td>2157, 2, 10239</td>\n",
       "      <td>211</td>\n",
       "      <td>Singlet</td>\n",
       "      <td>211</td>\n",
       "      <td>Capstones are histone variants found in archae...</td>\n",
       "      <td>None</td>\n",
       "      <td>None</td>\n",
       "      <td>...</td>\n",
       "      <td>None</td>\n",
       "      <td>None</td>\n",
       "      <td>None</td>\n",
       "      <td>None</td>\n",
       "      <td>None</td>\n",
       "      <td>None</td>\n",
       "      <td>None</td>\n",
       "      <td>None</td>\n",
       "      <td>None</td>\n",
       "      <td>None</td>\n",
       "    </tr>\n",
       "  </tbody>\n",
       "</table>\n",
       "<p>1 rows × 22 columns</p>\n",
       "</div>"
      ],
      "text/plain": [
       "         id          level              taxonomic_span taxonomic_span_id  \\\n",
       "0  Capstone  variant_group  Archaea, Bacteria, Viruses    2157, 2, 10239   \n",
       "\n",
       "   description   parent   id  \\\n",
       "0          211  Singlet  211   \n",
       "\n",
       "                                             summary taxonomy genes  ...  \\\n",
       "0  Capstones are histone variants found in archae...     None  None  ...   \n",
       "\n",
       "  knock_out function sequence localization deposition structure interactions  \\\n",
       "0      None     None     None         None       None      None         None   \n",
       "\n",
       "  disease caveats relations  \n",
       "0    None    None      None  \n",
       "\n",
       "[1 rows x 22 columns]"
      ]
     },
     "execution_count": 33,
     "metadata": {},
     "output_type": "execute_result"
    }
   ],
   "source": [
    "query = (\n",
    "    \"SELECT * FROM histone h LEFT JOIN histone_description hd \"\n",
    "    \"ON h.description = hd.id \"\n",
    "    \"WHERE h.id='Capstone'\"\n",
    ")\n",
    "cursor.execute(query)\n",
    "pd.DataFrame(cursor.fetchall(), columns=[i[0] for i in cursor.description])"
   ]
  },
  {
   "cell_type": "markdown",
   "id": "1e727559-ab94-4fea-9af3-ea5efa03bd41",
   "metadata": {
    "jp-MarkdownHeadingCollapsed": true,
    "tags": []
   },
   "source": [
    "# Add FtF"
   ]
  },
  {
   "cell_type": "code",
   "execution_count": 34,
   "id": "2c92a128-02b4-4698-8fd7-2cb472068bc6",
   "metadata": {
    "tags": []
   },
   "outputs": [],
   "source": [
    "data_histone = {\n",
    "    \"id\": \"FtF\",\n",
    "    \"level\": 'variant_group',\n",
    "    \"taxonomic_span\": 'Archaea, Bacteria',\n",
    "    \"taxonomic_span_id\": '2157, 2',\n",
    "    \"description\": None,\n",
    "    \"parent\": 'Singlet',\n",
    "}\n",
    "cursor.execute(add_histone, data_histone)\n",
    "\n",
    "# Make sure data is committed to the database\n",
    "conn.commit()"
   ]
  },
  {
   "cell_type": "code",
   "execution_count": 35,
   "id": "b7f3f860-6cfe-4875-84d4-32e83a8b141a",
   "metadata": {
    "tags": []
   },
   "outputs": [
    {
     "data": {
      "text/html": [
       "<div>\n",
       "<style scoped>\n",
       "    .dataframe tbody tr th:only-of-type {\n",
       "        vertical-align: middle;\n",
       "    }\n",
       "\n",
       "    .dataframe tbody tr th {\n",
       "        vertical-align: top;\n",
       "    }\n",
       "\n",
       "    .dataframe thead th {\n",
       "        text-align: right;\n",
       "    }\n",
       "</style>\n",
       "<table border=\"1\" class=\"dataframe\">\n",
       "  <thead>\n",
       "    <tr style=\"text-align: right;\">\n",
       "      <th></th>\n",
       "      <th>id</th>\n",
       "      <th>level</th>\n",
       "      <th>taxonomic_span</th>\n",
       "      <th>taxonomic_span_id</th>\n",
       "      <th>description</th>\n",
       "      <th>parent</th>\n",
       "    </tr>\n",
       "  </thead>\n",
       "  <tbody>\n",
       "    <tr>\n",
       "      <th>78</th>\n",
       "      <td>FtF</td>\n",
       "      <td>variant_group</td>\n",
       "      <td>Archaea, Bacteria</td>\n",
       "      <td>2157, 2</td>\n",
       "      <td>NaN</td>\n",
       "      <td>Singlet</td>\n",
       "    </tr>\n",
       "  </tbody>\n",
       "</table>\n",
       "</div>"
      ],
      "text/plain": [
       "     id          level     taxonomic_span taxonomic_span_id  description  \\\n",
       "78  FtF  variant_group  Archaea, Bacteria           2157, 2          NaN   \n",
       "\n",
       "     parent  \n",
       "78  Singlet  "
      ]
     },
     "execution_count": 35,
     "metadata": {},
     "output_type": "execute_result"
    }
   ],
   "source": [
    "query = \"SELECT * FROM histone\"\n",
    "cursor.execute(query)\n",
    "histone_df = pd.DataFrame(cursor.fetchall(), columns=[i[0] for i in cursor.description])\n",
    "histone_df[histone_df[\"id\"] == \"FtF\"]"
   ]
  },
  {
   "cell_type": "code",
   "execution_count": 36,
   "id": "8ba79b4f-1e46-42d4-b002-605dd4cb05b0",
   "metadata": {
    "tags": []
   },
   "outputs": [],
   "source": [
    "histone_description_summary = 'Face-to-Face (FtF) histones represent a distinct class of histones that have been identified in archaea (e.g., Haloferax volcanii) and select bacteria (e.g., Bdellovibrio bacteriovorus) using bioinformatic methods including AlphaFold2 structure prediction, sequence clustering (CLANS) and hidden Markov models (HMM) [schwab_histones_2024]. The structural configuration of FtF histones is comprised of a tetrameric assembly, wherein two distinct dimers engage via the interface of α2- and α3-helices, thereby establishing a ring-shaped structural arrangement. Multiple sequence alignment and structural analysis of FtF histones identified conserved positions, including the conserved RxTxxxD motif, that may be involved in DNA compactification [schwab_histones_2024].'\n",
    "data_histone_description = (histone_description_summary,) + (None,) * 13\n",
    "cursor.execute(add_histone_description, data_histone_description)\n",
    "\n",
    "histone_description_id = cursor.lastrowid\n",
    "query = f\"UPDATE histone SET description={histone_description_id} WHERE id='FtF'\"\n",
    "cursor.execute(query)\n",
    "\n",
    "# Make sure data is committed to the database\n",
    "conn.commit()"
   ]
  },
  {
   "cell_type": "code",
   "execution_count": 37,
   "id": "8f67a773-0f80-40d5-8b1f-6a7b5d06b674",
   "metadata": {
    "tags": []
   },
   "outputs": [
    {
     "data": {
      "text/html": [
       "<div>\n",
       "<style scoped>\n",
       "    .dataframe tbody tr th:only-of-type {\n",
       "        vertical-align: middle;\n",
       "    }\n",
       "\n",
       "    .dataframe tbody tr th {\n",
       "        vertical-align: top;\n",
       "    }\n",
       "\n",
       "    .dataframe thead th {\n",
       "        text-align: right;\n",
       "    }\n",
       "</style>\n",
       "<table border=\"1\" class=\"dataframe\">\n",
       "  <thead>\n",
       "    <tr style=\"text-align: right;\">\n",
       "      <th></th>\n",
       "      <th>id</th>\n",
       "      <th>level</th>\n",
       "      <th>taxonomic_span</th>\n",
       "      <th>taxonomic_span_id</th>\n",
       "      <th>description</th>\n",
       "      <th>parent</th>\n",
       "      <th>id</th>\n",
       "      <th>summary</th>\n",
       "      <th>taxonomy</th>\n",
       "      <th>genes</th>\n",
       "      <th>...</th>\n",
       "      <th>knock_out</th>\n",
       "      <th>function</th>\n",
       "      <th>sequence</th>\n",
       "      <th>localization</th>\n",
       "      <th>deposition</th>\n",
       "      <th>structure</th>\n",
       "      <th>interactions</th>\n",
       "      <th>disease</th>\n",
       "      <th>caveats</th>\n",
       "      <th>relations</th>\n",
       "    </tr>\n",
       "  </thead>\n",
       "  <tbody>\n",
       "    <tr>\n",
       "      <th>0</th>\n",
       "      <td>FtF</td>\n",
       "      <td>variant_group</td>\n",
       "      <td>Archaea, Bacteria</td>\n",
       "      <td>2157, 2</td>\n",
       "      <td>212</td>\n",
       "      <td>Singlet</td>\n",
       "      <td>212</td>\n",
       "      <td>Face-to-Face (FtF) histones represent a distin...</td>\n",
       "      <td>None</td>\n",
       "      <td>None</td>\n",
       "      <td>...</td>\n",
       "      <td>None</td>\n",
       "      <td>None</td>\n",
       "      <td>None</td>\n",
       "      <td>None</td>\n",
       "      <td>None</td>\n",
       "      <td>None</td>\n",
       "      <td>None</td>\n",
       "      <td>None</td>\n",
       "      <td>None</td>\n",
       "      <td>None</td>\n",
       "    </tr>\n",
       "  </tbody>\n",
       "</table>\n",
       "<p>1 rows × 22 columns</p>\n",
       "</div>"
      ],
      "text/plain": [
       "    id          level     taxonomic_span taxonomic_span_id  description  \\\n",
       "0  FtF  variant_group  Archaea, Bacteria           2157, 2          212   \n",
       "\n",
       "    parent   id                                            summary taxonomy  \\\n",
       "0  Singlet  212  Face-to-Face (FtF) histones represent a distin...     None   \n",
       "\n",
       "  genes  ... knock_out function sequence localization deposition structure  \\\n",
       "0  None  ...      None     None     None         None       None      None   \n",
       "\n",
       "  interactions disease caveats relations  \n",
       "0         None    None    None      None  \n",
       "\n",
       "[1 rows x 22 columns]"
      ]
     },
     "execution_count": 37,
     "metadata": {},
     "output_type": "execute_result"
    }
   ],
   "source": [
    "query = (\n",
    "    \"SELECT * FROM histone h LEFT JOIN histone_description hd \"\n",
    "    \"ON h.description = hd.id \"\n",
    "    \"WHERE h.id='FtF'\"\n",
    ")\n",
    "cursor.execute(query)\n",
    "pd.DataFrame(cursor.fetchall(), columns=[i[0] for i in cursor.description])"
   ]
  },
  {
   "cell_type": "markdown",
   "id": "b278c390-a451-43d6-80db-aaf07376d258",
   "metadata": {
    "jp-MarkdownHeadingCollapsed": true,
    "tags": []
   },
   "source": [
    "# Add Nucleosomal"
   ]
  },
  {
   "cell_type": "code",
   "execution_count": 38,
   "id": "201a2785-da86-46c0-8b66-db3fbddd86df",
   "metadata": {
    "tags": []
   },
   "outputs": [],
   "source": [
    "data_histone = {\n",
    "    \"id\": \"Nucleosomal\",\n",
    "    \"level\": 'variant_group',\n",
    "    \"taxonomic_span\": 'Archaea, Bacteria',\n",
    "    \"taxonomic_span_id\": '2157, 2',\n",
    "    \"description\": None,\n",
    "    \"parent\": 'Singlet',\n",
    "}\n",
    "cursor.execute(add_histone, data_histone)\n",
    "\n",
    "# Make sure data is committed to the database\n",
    "conn.commit()"
   ]
  },
  {
   "cell_type": "code",
   "execution_count": 39,
   "id": "0d72ae72-c2df-4fd1-b5c9-1934066c4cd6",
   "metadata": {
    "tags": []
   },
   "outputs": [
    {
     "data": {
      "text/html": [
       "<div>\n",
       "<style scoped>\n",
       "    .dataframe tbody tr th:only-of-type {\n",
       "        vertical-align: middle;\n",
       "    }\n",
       "\n",
       "    .dataframe tbody tr th {\n",
       "        vertical-align: top;\n",
       "    }\n",
       "\n",
       "    .dataframe thead th {\n",
       "        text-align: right;\n",
       "    }\n",
       "</style>\n",
       "<table border=\"1\" class=\"dataframe\">\n",
       "  <thead>\n",
       "    <tr style=\"text-align: right;\">\n",
       "      <th></th>\n",
       "      <th>id</th>\n",
       "      <th>level</th>\n",
       "      <th>taxonomic_span</th>\n",
       "      <th>taxonomic_span_id</th>\n",
       "      <th>description</th>\n",
       "      <th>parent</th>\n",
       "    </tr>\n",
       "  </thead>\n",
       "  <tbody>\n",
       "    <tr>\n",
       "      <th>196</th>\n",
       "      <td>Nucleosomal</td>\n",
       "      <td>variant_group</td>\n",
       "      <td>Archaea, Bacteria</td>\n",
       "      <td>2157, 2</td>\n",
       "      <td>NaN</td>\n",
       "      <td>Singlet</td>\n",
       "    </tr>\n",
       "  </tbody>\n",
       "</table>\n",
       "</div>"
      ],
      "text/plain": [
       "              id          level     taxonomic_span taxonomic_span_id  \\\n",
       "196  Nucleosomal  variant_group  Archaea, Bacteria           2157, 2   \n",
       "\n",
       "     description   parent  \n",
       "196          NaN  Singlet  "
      ]
     },
     "execution_count": 39,
     "metadata": {},
     "output_type": "execute_result"
    }
   ],
   "source": [
    "query = \"SELECT * FROM histone\"\n",
    "cursor.execute(query)\n",
    "histone_df = pd.DataFrame(cursor.fetchall(), columns=[i[0] for i in cursor.description])\n",
    "histone_df[histone_df[\"id\"] == \"Nucleosomal\"]"
   ]
  },
  {
   "cell_type": "code",
   "execution_count": 40,
   "id": "d5a726a0-8a17-463b-884b-073d75dc0b3c",
   "metadata": {
    "tags": []
   },
   "outputs": [],
   "source": [
    "histone_description_summary = 'Nucleosomal histones form structures similar to eukaryotic nucleosomes (including archaeal hypernucleosomes) by wrapping around DNA.'\n",
    "data_histone_description = (histone_description_summary,) + (None,) * 13\n",
    "cursor.execute(add_histone_description, data_histone_description)\n",
    "\n",
    "histone_description_id = cursor.lastrowid\n",
    "query = f\"UPDATE histone SET description={histone_description_id} WHERE id='Nucleosomal'\"\n",
    "cursor.execute(query)\n",
    "\n",
    "# Make sure data is committed to the database\n",
    "conn.commit()"
   ]
  },
  {
   "cell_type": "code",
   "execution_count": 41,
   "id": "15ff6651-3065-41b5-86a1-b982e4c03fad",
   "metadata": {
    "tags": []
   },
   "outputs": [
    {
     "data": {
      "text/html": [
       "<div>\n",
       "<style scoped>\n",
       "    .dataframe tbody tr th:only-of-type {\n",
       "        vertical-align: middle;\n",
       "    }\n",
       "\n",
       "    .dataframe tbody tr th {\n",
       "        vertical-align: top;\n",
       "    }\n",
       "\n",
       "    .dataframe thead th {\n",
       "        text-align: right;\n",
       "    }\n",
       "</style>\n",
       "<table border=\"1\" class=\"dataframe\">\n",
       "  <thead>\n",
       "    <tr style=\"text-align: right;\">\n",
       "      <th></th>\n",
       "      <th>id</th>\n",
       "      <th>level</th>\n",
       "      <th>taxonomic_span</th>\n",
       "      <th>taxonomic_span_id</th>\n",
       "      <th>description</th>\n",
       "      <th>parent</th>\n",
       "      <th>id</th>\n",
       "      <th>summary</th>\n",
       "      <th>taxonomy</th>\n",
       "      <th>genes</th>\n",
       "      <th>...</th>\n",
       "      <th>knock_out</th>\n",
       "      <th>function</th>\n",
       "      <th>sequence</th>\n",
       "      <th>localization</th>\n",
       "      <th>deposition</th>\n",
       "      <th>structure</th>\n",
       "      <th>interactions</th>\n",
       "      <th>disease</th>\n",
       "      <th>caveats</th>\n",
       "      <th>relations</th>\n",
       "    </tr>\n",
       "  </thead>\n",
       "  <tbody>\n",
       "    <tr>\n",
       "      <th>0</th>\n",
       "      <td>Nucleosomal</td>\n",
       "      <td>variant_group</td>\n",
       "      <td>Archaea, Bacteria</td>\n",
       "      <td>2157, 2</td>\n",
       "      <td>213</td>\n",
       "      <td>Singlet</td>\n",
       "      <td>213</td>\n",
       "      <td>Nucleosomal histones form structures similar t...</td>\n",
       "      <td>None</td>\n",
       "      <td>None</td>\n",
       "      <td>...</td>\n",
       "      <td>None</td>\n",
       "      <td>None</td>\n",
       "      <td>None</td>\n",
       "      <td>None</td>\n",
       "      <td>None</td>\n",
       "      <td>None</td>\n",
       "      <td>None</td>\n",
       "      <td>None</td>\n",
       "      <td>None</td>\n",
       "      <td>None</td>\n",
       "    </tr>\n",
       "  </tbody>\n",
       "</table>\n",
       "<p>1 rows × 22 columns</p>\n",
       "</div>"
      ],
      "text/plain": [
       "            id          level     taxonomic_span taxonomic_span_id  \\\n",
       "0  Nucleosomal  variant_group  Archaea, Bacteria           2157, 2   \n",
       "\n",
       "   description   parent   id  \\\n",
       "0          213  Singlet  213   \n",
       "\n",
       "                                             summary taxonomy genes  ...  \\\n",
       "0  Nucleosomal histones form structures similar t...     None  None  ...   \n",
       "\n",
       "  knock_out function sequence localization deposition structure interactions  \\\n",
       "0      None     None     None         None       None      None         None   \n",
       "\n",
       "  disease caveats relations  \n",
       "0    None    None      None  \n",
       "\n",
       "[1 rows x 22 columns]"
      ]
     },
     "execution_count": 41,
     "metadata": {},
     "output_type": "execute_result"
    }
   ],
   "source": [
    "query = (\n",
    "    \"SELECT * FROM histone h LEFT JOIN histone_description hd \"\n",
    "    \"ON h.description = hd.id \"\n",
    "    \"WHERE h.id='Nucleosomal'\"\n",
    ")\n",
    "cursor.execute(query)\n",
    "pd.DataFrame(cursor.fetchall(), columns=[i[0] for i in cursor.description])"
   ]
  },
  {
   "cell_type": "markdown",
   "id": "7563a0ca-8e32-4d11-bea3-e09e124c3b10",
   "metadata": {
    "jp-MarkdownHeadingCollapsed": true,
    "tags": []
   },
   "source": [
    "# Add Bridge"
   ]
  },
  {
   "cell_type": "code",
   "execution_count": 42,
   "id": "9c76d027-68aa-4902-b20e-7b6c00752433",
   "metadata": {
    "tags": []
   },
   "outputs": [],
   "source": [
    "data_histone = {\n",
    "    \"id\": \"Bridge\",\n",
    "    \"level\": 'variant_group',\n",
    "    \"taxonomic_span\": 'Archaea, Bacteria, Viruses',\n",
    "    \"taxonomic_span_id\": '2157, 2, 10239',\n",
    "    \"description\": None,\n",
    "    \"parent\": 'Singlet',\n",
    "}\n",
    "cursor.execute(add_histone, data_histone)\n",
    "\n",
    "# Make sure data is committed to the database\n",
    "conn.commit()"
   ]
  },
  {
   "cell_type": "code",
   "execution_count": 43,
   "id": "c3071e06-9eec-4107-9e67-9d1d8585e93b",
   "metadata": {
    "tags": []
   },
   "outputs": [
    {
     "data": {
      "text/html": [
       "<div>\n",
       "<style scoped>\n",
       "    .dataframe tbody tr th:only-of-type {\n",
       "        vertical-align: middle;\n",
       "    }\n",
       "\n",
       "    .dataframe tbody tr th {\n",
       "        vertical-align: top;\n",
       "    }\n",
       "\n",
       "    .dataframe thead th {\n",
       "        text-align: right;\n",
       "    }\n",
       "</style>\n",
       "<table border=\"1\" class=\"dataframe\">\n",
       "  <thead>\n",
       "    <tr style=\"text-align: right;\">\n",
       "      <th></th>\n",
       "      <th>id</th>\n",
       "      <th>level</th>\n",
       "      <th>taxonomic_span</th>\n",
       "      <th>taxonomic_span_id</th>\n",
       "      <th>description</th>\n",
       "      <th>parent</th>\n",
       "    </tr>\n",
       "  </thead>\n",
       "  <tbody>\n",
       "    <tr>\n",
       "      <th>1</th>\n",
       "      <td>Bridge</td>\n",
       "      <td>variant_group</td>\n",
       "      <td>Archaea, Bacteria, Viruses</td>\n",
       "      <td>2157, 2, 10239</td>\n",
       "      <td>NaN</td>\n",
       "      <td>Singlet</td>\n",
       "    </tr>\n",
       "  </tbody>\n",
       "</table>\n",
       "</div>"
      ],
      "text/plain": [
       "       id          level              taxonomic_span taxonomic_span_id  \\\n",
       "1  Bridge  variant_group  Archaea, Bacteria, Viruses    2157, 2, 10239   \n",
       "\n",
       "   description   parent  \n",
       "1          NaN  Singlet  "
      ]
     },
     "execution_count": 43,
     "metadata": {},
     "output_type": "execute_result"
    }
   ],
   "source": [
    "query = \"SELECT * FROM histone\"\n",
    "cursor.execute(query)\n",
    "histone_df = pd.DataFrame(cursor.fetchall(), columns=[i[0] for i in cursor.description])\n",
    "histone_df[histone_df[\"id\"] == \"Bridge\"]"
   ]
  },
  {
   "cell_type": "code",
   "execution_count": 44,
   "id": "acdb645e-b555-4234-a463-103788e34929",
   "metadata": {
    "tags": []
   },
   "outputs": [],
   "source": [
    "histone_description_summary = 'DNA-bridge histones binds two strands of DNA together to form bridges.'\n",
    "data_histone_description = (histone_description_summary,) + (None,) * 13\n",
    "cursor.execute(add_histone_description, data_histone_description)\n",
    "\n",
    "histone_description_id = cursor.lastrowid\n",
    "query = f\"UPDATE histone SET description={histone_description_id} WHERE id='Bridge'\"\n",
    "cursor.execute(query)\n",
    "\n",
    "# Make sure data is committed to the database\n",
    "conn.commit()"
   ]
  },
  {
   "cell_type": "code",
   "execution_count": 45,
   "id": "a08a3e72-0189-45a3-ad99-16f99554db90",
   "metadata": {
    "tags": []
   },
   "outputs": [
    {
     "data": {
      "text/html": [
       "<div>\n",
       "<style scoped>\n",
       "    .dataframe tbody tr th:only-of-type {\n",
       "        vertical-align: middle;\n",
       "    }\n",
       "\n",
       "    .dataframe tbody tr th {\n",
       "        vertical-align: top;\n",
       "    }\n",
       "\n",
       "    .dataframe thead th {\n",
       "        text-align: right;\n",
       "    }\n",
       "</style>\n",
       "<table border=\"1\" class=\"dataframe\">\n",
       "  <thead>\n",
       "    <tr style=\"text-align: right;\">\n",
       "      <th></th>\n",
       "      <th>id</th>\n",
       "      <th>level</th>\n",
       "      <th>taxonomic_span</th>\n",
       "      <th>taxonomic_span_id</th>\n",
       "      <th>description</th>\n",
       "      <th>parent</th>\n",
       "      <th>id</th>\n",
       "      <th>summary</th>\n",
       "      <th>taxonomy</th>\n",
       "      <th>genes</th>\n",
       "      <th>...</th>\n",
       "      <th>knock_out</th>\n",
       "      <th>function</th>\n",
       "      <th>sequence</th>\n",
       "      <th>localization</th>\n",
       "      <th>deposition</th>\n",
       "      <th>structure</th>\n",
       "      <th>interactions</th>\n",
       "      <th>disease</th>\n",
       "      <th>caveats</th>\n",
       "      <th>relations</th>\n",
       "    </tr>\n",
       "  </thead>\n",
       "  <tbody>\n",
       "    <tr>\n",
       "      <th>0</th>\n",
       "      <td>Bridge</td>\n",
       "      <td>variant_group</td>\n",
       "      <td>Archaea, Bacteria, Viruses</td>\n",
       "      <td>2157, 2, 10239</td>\n",
       "      <td>214</td>\n",
       "      <td>Singlet</td>\n",
       "      <td>214</td>\n",
       "      <td>DNA-bridge histones binds two strands of DNA t...</td>\n",
       "      <td>None</td>\n",
       "      <td>None</td>\n",
       "      <td>...</td>\n",
       "      <td>None</td>\n",
       "      <td>None</td>\n",
       "      <td>None</td>\n",
       "      <td>None</td>\n",
       "      <td>None</td>\n",
       "      <td>None</td>\n",
       "      <td>None</td>\n",
       "      <td>None</td>\n",
       "      <td>None</td>\n",
       "      <td>None</td>\n",
       "    </tr>\n",
       "  </tbody>\n",
       "</table>\n",
       "<p>1 rows × 22 columns</p>\n",
       "</div>"
      ],
      "text/plain": [
       "       id          level              taxonomic_span taxonomic_span_id  \\\n",
       "0  Bridge  variant_group  Archaea, Bacteria, Viruses    2157, 2, 10239   \n",
       "\n",
       "   description   parent   id  \\\n",
       "0          214  Singlet  214   \n",
       "\n",
       "                                             summary taxonomy genes  ...  \\\n",
       "0  DNA-bridge histones binds two strands of DNA t...     None  None  ...   \n",
       "\n",
       "  knock_out function sequence localization deposition structure interactions  \\\n",
       "0      None     None     None         None       None      None         None   \n",
       "\n",
       "  disease caveats relations  \n",
       "0    None    None      None  \n",
       "\n",
       "[1 rows x 22 columns]"
      ]
     },
     "execution_count": 45,
     "metadata": {},
     "output_type": "execute_result"
    }
   ],
   "source": [
    "query = (\n",
    "    \"SELECT * FROM histone h LEFT JOIN histone_description hd \"\n",
    "    \"ON h.description = hd.id \"\n",
    "    \"WHERE h.id='Bridge'\"\n",
    ")\n",
    "cursor.execute(query)\n",
    "pd.DataFrame(cursor.fetchall(), columns=[i[0] for i in cursor.description])"
   ]
  },
  {
   "cell_type": "markdown",
   "id": "7b4553a7-89d4-40f9-9957-0953e4de6348",
   "metadata": {
    "jp-MarkdownHeadingCollapsed": true,
    "tags": []
   },
   "source": [
    "# Add Bacterial dimers"
   ]
  },
  {
   "cell_type": "code",
   "execution_count": null,
   "id": "3e94ce40-ffe0-41ee-afa8-1e4244adac76",
   "metadata": {
    "tags": []
   },
   "outputs": [],
   "source": [
    "data_histone = {\n",
    "    \"id\": \"Bacterial dimers\",\n",
    "    \"level\": 'variant_group',\n",
    "    \"taxonomic_span\": 'Bacteria',\n",
    "    \"taxonomic_span_id\": '2',\n",
    "    \"description\": None,\n",
    "    \"parent\": 'Singlet',\n",
    "}\n",
    "cursor.execute(add_histone, data_histone)\n",
    "\n",
    "# Make sure data is committed to the database\n",
    "conn.commit()"
   ]
  },
  {
   "cell_type": "code",
   "execution_count": 49,
   "id": "310b8b5e-4a43-4489-8bc5-0c8c59e6ce3d",
   "metadata": {
    "tags": []
   },
   "outputs": [
    {
     "data": {
      "text/html": [
       "<div>\n",
       "<style scoped>\n",
       "    .dataframe tbody tr th:only-of-type {\n",
       "        vertical-align: middle;\n",
       "    }\n",
       "\n",
       "    .dataframe tbody tr th {\n",
       "        vertical-align: top;\n",
       "    }\n",
       "\n",
       "    .dataframe thead th {\n",
       "        text-align: right;\n",
       "    }\n",
       "</style>\n",
       "<table border=\"1\" class=\"dataframe\">\n",
       "  <thead>\n",
       "    <tr style=\"text-align: right;\">\n",
       "      <th></th>\n",
       "      <th>id</th>\n",
       "      <th>level</th>\n",
       "      <th>taxonomic_span</th>\n",
       "      <th>taxonomic_span_id</th>\n",
       "      <th>description</th>\n",
       "      <th>parent</th>\n",
       "    </tr>\n",
       "  </thead>\n",
       "  <tbody>\n",
       "    <tr>\n",
       "      <th>1</th>\n",
       "      <td>Bacterial dimers</td>\n",
       "      <td>variant_group</td>\n",
       "      <td>Bacteria</td>\n",
       "      <td>2</td>\n",
       "      <td>NaN</td>\n",
       "      <td>Singlet</td>\n",
       "    </tr>\n",
       "  </tbody>\n",
       "</table>\n",
       "</div>"
      ],
      "text/plain": [
       "                 id          level taxonomic_span taxonomic_span_id  \\\n",
       "1  Bacterial dimers  variant_group       Bacteria                 2   \n",
       "\n",
       "   description   parent  \n",
       "1          NaN  Singlet  "
      ]
     },
     "execution_count": 49,
     "metadata": {},
     "output_type": "execute_result"
    }
   ],
   "source": [
    "query = \"SELECT * FROM histone\"\n",
    "cursor.execute(query)\n",
    "histone_df = pd.DataFrame(cursor.fetchall(), columns=[i[0] for i in cursor.description])\n",
    "histone_df[histone_df[\"id\"] == \"Bacterial dimers\"]"
   ]
  },
  {
   "cell_type": "code",
   "execution_count": 50,
   "id": "44427c51-7a83-470d-bd3a-dacc06d6edb6",
   "metadata": {
    "tags": []
   },
   "outputs": [],
   "source": [
    "histone_description_summary = 'Bacterial dimers have been defined as a group of bacterial histones capable of binding to DNA in order to form nucleohistone filaments. These histones have the capacity to dimerise, yet do not form tetramers. For the bacterial singlet Bd0055, which is highly expressed, a crystallographic structure was obtained in which one monomer is covalently linked to its partner via double symmetry [noauthor_histones_2023]. This group of bacterial histones also includes histones predicted using AlphaFold2 and CLANS clustering, which are characterised by a shortened α3-helix and form stable dimers but do not form tetramers due to the absence of conserved residues, similar to Bd0055 [schwab_histones_2024].'\n",
    "data_histone_description = (histone_description_summary,) + (None,) * 13\n",
    "cursor.execute(add_histone_description, data_histone_description)\n",
    "\n",
    "histone_description_id = cursor.lastrowid\n",
    "query = f\"UPDATE histone SET description={histone_description_id} WHERE id='Bacterial dimers'\"\n",
    "cursor.execute(query)\n",
    "\n",
    "# Make sure data is committed to the database\n",
    "conn.commit()"
   ]
  },
  {
   "cell_type": "code",
   "execution_count": 51,
   "id": "5a81203d-e10a-43f5-beba-fca1df74e0d9",
   "metadata": {
    "tags": []
   },
   "outputs": [
    {
     "data": {
      "text/html": [
       "<div>\n",
       "<style scoped>\n",
       "    .dataframe tbody tr th:only-of-type {\n",
       "        vertical-align: middle;\n",
       "    }\n",
       "\n",
       "    .dataframe tbody tr th {\n",
       "        vertical-align: top;\n",
       "    }\n",
       "\n",
       "    .dataframe thead th {\n",
       "        text-align: right;\n",
       "    }\n",
       "</style>\n",
       "<table border=\"1\" class=\"dataframe\">\n",
       "  <thead>\n",
       "    <tr style=\"text-align: right;\">\n",
       "      <th></th>\n",
       "      <th>id</th>\n",
       "      <th>level</th>\n",
       "      <th>taxonomic_span</th>\n",
       "      <th>taxonomic_span_id</th>\n",
       "      <th>description</th>\n",
       "      <th>parent</th>\n",
       "      <th>id</th>\n",
       "      <th>summary</th>\n",
       "      <th>taxonomy</th>\n",
       "      <th>genes</th>\n",
       "      <th>...</th>\n",
       "      <th>knock_out</th>\n",
       "      <th>function</th>\n",
       "      <th>sequence</th>\n",
       "      <th>localization</th>\n",
       "      <th>deposition</th>\n",
       "      <th>structure</th>\n",
       "      <th>interactions</th>\n",
       "      <th>disease</th>\n",
       "      <th>caveats</th>\n",
       "      <th>relations</th>\n",
       "    </tr>\n",
       "  </thead>\n",
       "  <tbody>\n",
       "    <tr>\n",
       "      <th>0</th>\n",
       "      <td>Bacterial dimers</td>\n",
       "      <td>variant_group</td>\n",
       "      <td>Bacteria</td>\n",
       "      <td>2</td>\n",
       "      <td>215</td>\n",
       "      <td>Singlet</td>\n",
       "      <td>215</td>\n",
       "      <td>Bacterial dimers have been defined as a group ...</td>\n",
       "      <td>None</td>\n",
       "      <td>None</td>\n",
       "      <td>...</td>\n",
       "      <td>None</td>\n",
       "      <td>None</td>\n",
       "      <td>None</td>\n",
       "      <td>None</td>\n",
       "      <td>None</td>\n",
       "      <td>None</td>\n",
       "      <td>None</td>\n",
       "      <td>None</td>\n",
       "      <td>None</td>\n",
       "      <td>None</td>\n",
       "    </tr>\n",
       "  </tbody>\n",
       "</table>\n",
       "<p>1 rows × 22 columns</p>\n",
       "</div>"
      ],
      "text/plain": [
       "                 id          level taxonomic_span taxonomic_span_id  \\\n",
       "0  Bacterial dimers  variant_group       Bacteria                 2   \n",
       "\n",
       "   description   parent   id  \\\n",
       "0          215  Singlet  215   \n",
       "\n",
       "                                             summary taxonomy genes  ...  \\\n",
       "0  Bacterial dimers have been defined as a group ...     None  None  ...   \n",
       "\n",
       "  knock_out function sequence localization deposition structure interactions  \\\n",
       "0      None     None     None         None       None      None         None   \n",
       "\n",
       "  disease caveats relations  \n",
       "0    None    None      None  \n",
       "\n",
       "[1 rows x 22 columns]"
      ]
     },
     "execution_count": 51,
     "metadata": {},
     "output_type": "execute_result"
    }
   ],
   "source": [
    "query = (\n",
    "    \"SELECT * FROM histone h LEFT JOIN histone_description hd \"\n",
    "    \"ON h.description = hd.id \"\n",
    "    \"WHERE h.id='Bacterial dimers'\"\n",
    ")\n",
    "cursor.execute(query)\n",
    "pd.DataFrame(cursor.fetchall(), columns=[i[0] for i in cursor.description])"
   ]
  },
  {
   "cell_type": "markdown",
   "id": "c0566799-6a0b-4d22-8c55-d7c652e7158a",
   "metadata": {
    "tags": []
   },
   "source": [
    "# Add H1-like_(Viruses)"
   ]
  },
  {
   "cell_type": "code",
   "execution_count": 52,
   "id": "78ee3125-e1a9-4475-8fb3-c1da4e06ee10",
   "metadata": {
    "tags": []
   },
   "outputs": [],
   "source": [
    "data_histone = {\n",
    "    \"id\": \"H1-like_(Viruses)\",\n",
    "    \"level\": 'variant_group',\n",
    "    \"taxonomic_span\": 'Viruses',\n",
    "    \"taxonomic_span_id\": '10239',\n",
    "    \"description\": None,\n",
    "    \"parent\": 'Singlet',\n",
    "}\n",
    "cursor.execute(add_histone, data_histone)\n",
    "\n",
    "# Make sure data is committed to the database\n",
    "conn.commit()"
   ]
  },
  {
   "cell_type": "code",
   "execution_count": 53,
   "id": "cb8a8496-b18c-4762-bf2d-29251e809a61",
   "metadata": {
    "tags": []
   },
   "outputs": [
    {
     "data": {
      "text/html": [
       "<div>\n",
       "<style scoped>\n",
       "    .dataframe tbody tr th:only-of-type {\n",
       "        vertical-align: middle;\n",
       "    }\n",
       "\n",
       "    .dataframe tbody tr th {\n",
       "        vertical-align: top;\n",
       "    }\n",
       "\n",
       "    .dataframe thead th {\n",
       "        text-align: right;\n",
       "    }\n",
       "</style>\n",
       "<table border=\"1\" class=\"dataframe\">\n",
       "  <thead>\n",
       "    <tr style=\"text-align: right;\">\n",
       "      <th></th>\n",
       "      <th>id</th>\n",
       "      <th>level</th>\n",
       "      <th>taxonomic_span</th>\n",
       "      <th>taxonomic_span_id</th>\n",
       "      <th>description</th>\n",
       "      <th>parent</th>\n",
       "    </tr>\n",
       "  </thead>\n",
       "  <tbody>\n",
       "    <tr>\n",
       "      <th>85</th>\n",
       "      <td>H1-like_(Viruses)</td>\n",
       "      <td>variant_group</td>\n",
       "      <td>Viruses</td>\n",
       "      <td>10239</td>\n",
       "      <td>NaN</td>\n",
       "      <td>Singlet</td>\n",
       "    </tr>\n",
       "  </tbody>\n",
       "</table>\n",
       "</div>"
      ],
      "text/plain": [
       "                   id          level taxonomic_span taxonomic_span_id  \\\n",
       "85  H1-like_(Viruses)  variant_group        Viruses             10239   \n",
       "\n",
       "    description   parent  \n",
       "85          NaN  Singlet  "
      ]
     },
     "execution_count": 53,
     "metadata": {},
     "output_type": "execute_result"
    }
   ],
   "source": [
    "query = \"SELECT * FROM histone\"\n",
    "cursor.execute(query)\n",
    "histone_df = pd.DataFrame(cursor.fetchall(), columns=[i[0] for i in cursor.description])\n",
    "histone_df[histone_df[\"id\"] == \"H1-like_(Viruses)\"]"
   ]
  },
  {
   "cell_type": "code",
   "execution_count": 54,
   "id": "dc4a3fe8-c858-4d86-82d9-9393c883e661",
   "metadata": {
    "tags": []
   },
   "outputs": [],
   "source": [
    "histone_description_summary = 'Viral H1 histone is a putative homolog of the eukaryotic linker histone H1 encoded by the giant DNA virus Medusavirus medusae (NCLDV). Unlike classical H1, it is not involved in tri-nucleosome compactization, indicating a functional divergence from its eukaryotic counterparts [toner_characterization_2024].'\n",
    "data_histone_description = (histone_description_summary,) + (None,) * 13\n",
    "cursor.execute(add_histone_description, data_histone_description)\n",
    "\n",
    "histone_description_id = cursor.lastrowid\n",
    "query = f\"UPDATE histone SET description={histone_description_id} WHERE id='H1-like_(Viruses)'\"\n",
    "cursor.execute(query)\n",
    "\n",
    "# Make sure data is committed to the database\n",
    "conn.commit()"
   ]
  },
  {
   "cell_type": "code",
   "execution_count": 55,
   "id": "cf4d3b65-41bb-47d1-9202-bcdf61ca0a8c",
   "metadata": {
    "tags": []
   },
   "outputs": [
    {
     "data": {
      "text/html": [
       "<div>\n",
       "<style scoped>\n",
       "    .dataframe tbody tr th:only-of-type {\n",
       "        vertical-align: middle;\n",
       "    }\n",
       "\n",
       "    .dataframe tbody tr th {\n",
       "        vertical-align: top;\n",
       "    }\n",
       "\n",
       "    .dataframe thead th {\n",
       "        text-align: right;\n",
       "    }\n",
       "</style>\n",
       "<table border=\"1\" class=\"dataframe\">\n",
       "  <thead>\n",
       "    <tr style=\"text-align: right;\">\n",
       "      <th></th>\n",
       "      <th>id</th>\n",
       "      <th>level</th>\n",
       "      <th>taxonomic_span</th>\n",
       "      <th>taxonomic_span_id</th>\n",
       "      <th>description</th>\n",
       "      <th>parent</th>\n",
       "      <th>id</th>\n",
       "      <th>summary</th>\n",
       "      <th>taxonomy</th>\n",
       "      <th>genes</th>\n",
       "      <th>...</th>\n",
       "      <th>knock_out</th>\n",
       "      <th>function</th>\n",
       "      <th>sequence</th>\n",
       "      <th>localization</th>\n",
       "      <th>deposition</th>\n",
       "      <th>structure</th>\n",
       "      <th>interactions</th>\n",
       "      <th>disease</th>\n",
       "      <th>caveats</th>\n",
       "      <th>relations</th>\n",
       "    </tr>\n",
       "  </thead>\n",
       "  <tbody>\n",
       "    <tr>\n",
       "      <th>0</th>\n",
       "      <td>H1-like_(Viruses)</td>\n",
       "      <td>variant_group</td>\n",
       "      <td>Viruses</td>\n",
       "      <td>10239</td>\n",
       "      <td>216</td>\n",
       "      <td>Singlet</td>\n",
       "      <td>216</td>\n",
       "      <td>Viral H1 histone is a putative homolog of the ...</td>\n",
       "      <td>None</td>\n",
       "      <td>None</td>\n",
       "      <td>...</td>\n",
       "      <td>None</td>\n",
       "      <td>None</td>\n",
       "      <td>None</td>\n",
       "      <td>None</td>\n",
       "      <td>None</td>\n",
       "      <td>None</td>\n",
       "      <td>None</td>\n",
       "      <td>None</td>\n",
       "      <td>None</td>\n",
       "      <td>None</td>\n",
       "    </tr>\n",
       "  </tbody>\n",
       "</table>\n",
       "<p>1 rows × 22 columns</p>\n",
       "</div>"
      ],
      "text/plain": [
       "                  id          level taxonomic_span taxonomic_span_id  \\\n",
       "0  H1-like_(Viruses)  variant_group        Viruses             10239   \n",
       "\n",
       "   description   parent   id  \\\n",
       "0          216  Singlet  216   \n",
       "\n",
       "                                             summary taxonomy genes  ...  \\\n",
       "0  Viral H1 histone is a putative homolog of the ...     None  None  ...   \n",
       "\n",
       "  knock_out function sequence localization deposition structure interactions  \\\n",
       "0      None     None     None         None       None      None         None   \n",
       "\n",
       "  disease caveats relations  \n",
       "0    None    None      None  \n",
       "\n",
       "[1 rows x 22 columns]"
      ]
     },
     "execution_count": 55,
     "metadata": {},
     "output_type": "execute_result"
    }
   ],
   "source": [
    "query = (\n",
    "    \"SELECT * FROM histone h LEFT JOIN histone_description hd \"\n",
    "    \"ON h.description = hd.id \"\n",
    "    \"WHERE h.id='H1-like_(Viruses)'\"\n",
    ")\n",
    "cursor.execute(query)\n",
    "pd.DataFrame(cursor.fetchall(), columns=[i[0] for i in cursor.description])"
   ]
  },
  {
   "cell_type": "markdown",
   "id": "d3c8a219-f508-46e1-936f-7d6040016e39",
   "metadata": {
    "tags": []
   },
   "source": [
    "# Close connections"
   ]
  },
  {
   "cell_type": "code",
   "execution_count": 56,
   "id": "572059d8-54f9-4ec7-a2c6-1c8066552845",
   "metadata": {
    "tags": []
   },
   "outputs": [],
   "source": [
    "cursor.close()\n",
    "conn.close()\n",
    "tunnel.stop()"
   ]
  },
  {
   "cell_type": "code",
   "execution_count": null,
   "id": "790ee020-09af-4dcc-9c36-f1b3f69ea8a7",
   "metadata": {},
   "outputs": [],
   "source": []
  }
 ],
 "metadata": {
  "@deathbeds/ipydrawio": {
   "xml": ""
  },
  "kernelspec": {
   "display_name": ".conda-histdb_env",
   "language": "python",
   "name": "conda-env-.conda-histdb_env-py"
  },
  "language_info": {
   "codemirror_mode": {
    "name": "ipython",
    "version": 3
   },
   "file_extension": ".py",
   "mimetype": "text/x-python",
   "name": "python",
   "nbconvert_exporter": "python",
   "pygments_lexer": "ipython3",
   "version": "3.8.1"
  }
 },
 "nbformat": 4,
 "nbformat_minor": 5
}
