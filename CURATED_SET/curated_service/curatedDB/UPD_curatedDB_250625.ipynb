{
 "cells": [
  {
   "cell_type": "code",
   "execution_count": 21,
   "id": "53d3ec55-7daf-4ade-8add-2830b709dc54",
   "metadata": {
    "tags": []
   },
   "outputs": [],
   "source": [
    "import io\n",
    "\n",
    "import pandas as pd\n",
    "from Bio import Entrez, SeqIO\n",
    "from mysql.connector import connection\n",
    "from sshtunnel import SSHTunnelForwarder\n",
    "\n",
    "# Укажите ваш email (обязательно для использования Entrez)\n",
    "Entrez.email = \"your.email@example.com\""
   ]
  },
  {
   "cell_type": "code",
   "execution_count": 22,
   "id": "608c4bfe-b979-4b60-b2b5-b94eeb679cb5",
   "metadata": {
    "tags": []
   },
   "outputs": [],
   "source": [
    "with open(\"db_curated_server_info.txt\", \"r\") as file:\n",
    "    lines = file.readlines()\n",
    "\n",
    "config = {}\n",
    "\n",
    "for line in lines:\n",
    "    line = line.strip()\n",
    "    if line and not line.startswith(\"#\"):\n",
    "        key, value = line.split(\"=\", 1)\n",
    "        config[key] = value.strip()\n",
    "\n",
    "server_name = config.get(\"server_name\")\n",
    "srever_port = int(config.get(\"srever_port\"))\n",
    "ssh_password = config.get(\"ssh_password\")\n",
    "ssh_username = config.get(\"ssh_username\")\n",
    "db_adress = config.get(\"db_adress\")\n",
    "db_port = int(config.get(\"db_port\"))"
   ]
  },
  {
   "cell_type": "code",
   "execution_count": 23,
   "id": "4e19aa1c-49a3-48c4-b67f-34c94cef608d",
   "metadata": {
    "tags": []
   },
   "outputs": [
    {
     "name": "stdout",
     "output_type": "stream",
     "text": [
      "41951\n"
     ]
    }
   ],
   "source": [
    "tunnel = SSHTunnelForwarder(\n",
    "    (server_name, srever_port),\n",
    "    ssh_password=ssh_password,\n",
    "    ssh_username=ssh_username,\n",
    "    remote_bind_address=(db_adress, db_port),\n",
    ")\n",
    "tunnel.start()\n",
    "print(tunnel.local_bind_port)"
   ]
  },
  {
   "cell_type": "code",
   "execution_count": 24,
   "id": "cef2275b-12d0-48f1-ad3c-ce4cdb9aa267",
   "metadata": {
    "tags": []
   },
   "outputs": [],
   "source": [
    "conn = connection.MySQLConnection(\n",
    "    user=\"db_user\",\n",
    "    password=\"db_password\",\n",
    "    host=\"localhost\",\n",
    "    port=tunnel.local_bind_port,\n",
    "    database=\"db_name\",\n",
    ")\n",
    "cursor = conn.cursor()"
   ]
  },
  {
   "cell_type": "code",
   "execution_count": 25,
   "id": "f589ea8d-8b83-4331-a1cf-b64ed7621801",
   "metadata": {
    "tags": []
   },
   "outputs": [
    {
     "data": {
      "text/plain": [
       "[('alternative_name',),\n",
       " ('histone',),\n",
       " ('histone_description',),\n",
       " ('histone_has_publication',),\n",
       " ('publication',),\n",
       " ('sequence',),\n",
       " ('sequence_has_publication',)]"
      ]
     },
     "execution_count": 25,
     "metadata": {},
     "output_type": "execute_result"
    }
   ],
   "source": [
    "query = \"SHOW TABLES;\"\n",
    "cursor.execute(query)\n",
    "cursor.fetchall()"
   ]
  },
  {
   "cell_type": "code",
   "execution_count": 26,
   "id": "b3dd9ef8-b162-4127-9535-ac7743af8c69",
   "metadata": {
    "tags": []
   },
   "outputs": [],
   "source": [
    "# add_histone = (\n",
    "#     \"INSERT INTO histone \"\n",
    "#     \"(id, level, taxonomic_span, taxonomic_span_id, description, parent) \"\n",
    "#     \"VALUES (%(id)s, %(level)s, %(taxonomic_span)s, %(taxonomic_span_id)s, %(description)s, %(parent)s)\"\n",
    "# )\n",
    "# add_histone_description = (\n",
    "#     \"INSERT INTO histone_description \"\n",
    "#     \"(summary, taxonomy, genes, evolution, expression, knock_out, function, sequence, localization, deposition, structure, interactions, disease, caveats) \"\n",
    "#     \"VALUES (%s, %s, %s, %s, %s, %s, %s, %s, %s, %s, %s, %s, %s, %s)\"\n",
    "# )\n",
    "# add_publication = (\n",
    "#     \"INSERT INTO publication \"\n",
    "#     \"(id, title, doi, author, year) \"\n",
    "#     \"VALUES (%(id)s, %(title)s, %(doi)s, %(author)s, %(year)s)\"\n",
    "# )\n",
    "# add_sequence = (\n",
    "#     \"INSERT INTO sequence \"\n",
    "#     \"(accession, variant, gi, ncbi_gene_id, hgnc_gene_name, taxonomy_id, organism, phylum, class, taxonomy_group, info, sequence, variant_under_consideration) \"\n",
    "#     \"VALUES (%(accession)s, %(variant)s, %(gi)s, %(ncbi_gene_id)s, %(hgnc_gene_name)s, %(taxonomy_id)s, %(organism)s, %(phylum)s, %(class)s, %(taxonomy_group)s, %(info)s, %(sequence)s, %(variant_under_consideration)s)\"\n",
    "# )\n",
    "# add_sequence_has_publication = (\n",
    "#     \"INSERT INTO sequence_has_publication \"\n",
    "#     \"(sequence_accession, publication_id) \"\n",
    "#     \"VALUES (%s, %s)\"\n",
    "# )\n",
    "add_alternate_names = (\n",
    "    \"INSERT INTO alternative_name \"\n",
    "    \"(name, taxonomy, gene, splice, histone) \"\n",
    "    \"VALUES (%(name)s, %(taxonomy)s, %(gene)s, %(splice)s, %(histone)s)\"\n",
    ")\n",
    "# add_histone_has_publication = (\n",
    "#     \"INSERT INTO histone_has_publication \"\n",
    "#     \"(histone_id, publication_id) \"\n",
    "#     \"VALUES (%s, %s)\"\n",
    "# )"
   ]
  },
  {
   "cell_type": "code",
   "execution_count": 27,
   "id": "9a15b106-5cf1-40d4-8597-2b11dc30ff33",
   "metadata": {
    "tags": []
   },
   "outputs": [
    {
     "data": {
      "text/html": [
       "<div>\n",
       "<style scoped>\n",
       "    .dataframe tbody tr th:only-of-type {\n",
       "        vertical-align: middle;\n",
       "    }\n",
       "\n",
       "    .dataframe tbody tr th {\n",
       "        vertical-align: top;\n",
       "    }\n",
       "\n",
       "    .dataframe thead th {\n",
       "        text-align: right;\n",
       "    }\n",
       "</style>\n",
       "<table border=\"1\" class=\"dataframe\">\n",
       "  <thead>\n",
       "    <tr style=\"text-align: right;\">\n",
       "      <th></th>\n",
       "      <th>id</th>\n",
       "      <th>name</th>\n",
       "      <th>taxonomy</th>\n",
       "      <th>gene</th>\n",
       "      <th>splice</th>\n",
       "      <th>histone</th>\n",
       "    </tr>\n",
       "  </thead>\n",
       "  <tbody>\n",
       "    <tr>\n",
       "      <th>0</th>\n",
       "      <td>65</td>\n",
       "      <td>cid</td>\n",
       "      <td>None</td>\n",
       "      <td>None</td>\n",
       "      <td>None</td>\n",
       "      <td>cenH3_(Plants)</td>\n",
       "    </tr>\n",
       "  </tbody>\n",
       "</table>\n",
       "</div>"
      ],
      "text/plain": [
       "   id name taxonomy  gene splice         histone\n",
       "0  65  cid     None  None   None  cenH3_(Plants)"
      ]
     },
     "execution_count": 27,
     "metadata": {},
     "output_type": "execute_result"
    }
   ],
   "source": [
    "query = (\n",
    "    \"SELECT * FROM alternative_name \"\n",
    "    \"WHERE name='cid'\"\n",
    ")\n",
    "cursor.execute(query)\n",
    "pd.DataFrame(cursor.fetchall(), columns=[i[0] for i in cursor.description])"
   ]
  },
  {
   "cell_type": "markdown",
   "id": "c060c047-3e7d-4095-b608-9722031af692",
   "metadata": {},
   "source": [
    "# To Do\n",
    "\n",
    "## <span style=\"color:green\">Set `Taxonomic span` of cenH3 to Eukaryotes, 2759</span>\n",
    "\n",
    "## <span style=\"color:green\">Set `Alternate names` CENP-A, Cse4, HCP-3, CNP1, HTR12, CNA1, cid to their nodes</span>\n",
    "\n",
    "1. **CENP-A** (Centromere Protein A) — стандартное название у млекопитающих, включая человека.\n",
    "2. **Cse4** and **CNP1** — названия в дрожжах *Saccharomyces cerevisiae*.  \n",
    "3. **HCP-3** — вариант у нематоды *Caenorhabditis elegans*.  \n",
    "4. **CNA1** — альтернативное название у *Tetrahymena thermophila* (SAR).  \n",
    "5. **HTR12** — обозначение у растения *Arabidopsis thaliana*.  \n",
    "6. **cid** — название у дрозофилы (*Drosophila melanogaster*).  \n",
    "\n",
    "**cenH3:** CENP-A, Cse4, HCP-3, CNP1, HTR12, CNA1, cid\n",
    "\n",
    "**cenH3_(Animals):** CENP-A, HCP-3, cid\n",
    "\n",
    "**cenH3_(Mammalia):** CENP-A\n",
    "\n",
    "**cenH3_(Homo_sapiens):** CENP-A\n",
    "\n",
    "**cenH3_(Fungi):** Cse4, CNP1\n",
    "\n",
    "**cenH3_(Plants):** HTR12\n"
   ]
  },
  {
   "cell_type": "markdown",
   "id": "c5673eb8-a6eb-4916-88ab-7de5e75eff77",
   "metadata": {},
   "source": [
    "# Set `Taxonomic span` of cenH3 to Eukaryotes, 2759"
   ]
  },
  {
   "cell_type": "code",
   "execution_count": 7,
   "id": "e42b255a-737c-424b-98d3-c6a46650aaba",
   "metadata": {
    "tags": []
   },
   "outputs": [
    {
     "data": {
      "text/html": [
       "<div>\n",
       "<style scoped>\n",
       "    .dataframe tbody tr th:only-of-type {\n",
       "        vertical-align: middle;\n",
       "    }\n",
       "\n",
       "    .dataframe tbody tr th {\n",
       "        vertical-align: top;\n",
       "    }\n",
       "\n",
       "    .dataframe thead th {\n",
       "        text-align: right;\n",
       "    }\n",
       "</style>\n",
       "<table border=\"1\" class=\"dataframe\">\n",
       "  <thead>\n",
       "    <tr style=\"text-align: right;\">\n",
       "      <th></th>\n",
       "      <th>id</th>\n",
       "      <th>level</th>\n",
       "      <th>taxonomic_span</th>\n",
       "      <th>taxonomic_span_id</th>\n",
       "      <th>description</th>\n",
       "      <th>parent</th>\n",
       "    </tr>\n",
       "  </thead>\n",
       "  <tbody>\n",
       "    <tr>\n",
       "      <th>0</th>\n",
       "      <td>cenH3</td>\n",
       "      <td>variant_group</td>\n",
       "      <td>null</td>\n",
       "      <td>null</td>\n",
       "      <td>96</td>\n",
       "      <td>H3</td>\n",
       "    </tr>\n",
       "  </tbody>\n",
       "</table>\n",
       "</div>"
      ],
      "text/plain": [
       "      id          level taxonomic_span taxonomic_span_id  description parent\n",
       "0  cenH3  variant_group           null              null           96     H3"
      ]
     },
     "execution_count": 7,
     "metadata": {},
     "output_type": "execute_result"
    }
   ],
   "source": [
    "query = (\n",
    "    \"SELECT * FROM histone \"\n",
    "    \"WHERE id='cenH3'\"\n",
    ")\n",
    "cursor.execute(query)\n",
    "pd.DataFrame(cursor.fetchall(), columns=[i[0] for i in cursor.description])"
   ]
  },
  {
   "cell_type": "code",
   "execution_count": 9,
   "id": "e933ecdf-0a93-476c-9757-8bae2f1a6260",
   "metadata": {
    "tags": []
   },
   "outputs": [
    {
     "name": "stdout",
     "output_type": "stream",
     "text": [
      "UPDATE histone SET taxonomic_span='Eukaryotes', taxonomic_span_id=2759 WHERE id='cenH3'\n"
     ]
    }
   ],
   "source": [
    "query = f\"UPDATE histone SET taxonomic_span='Eukaryotes', taxonomic_span_id=2759 WHERE id='cenH3'\"\n",
    "print(query)\n",
    "cursor.execute(query)"
   ]
  },
  {
   "cell_type": "code",
   "execution_count": 10,
   "id": "6cdae55c-315e-4b39-8596-9e7e8331439a",
   "metadata": {
    "tags": []
   },
   "outputs": [
    {
     "data": {
      "text/html": [
       "<div>\n",
       "<style scoped>\n",
       "    .dataframe tbody tr th:only-of-type {\n",
       "        vertical-align: middle;\n",
       "    }\n",
       "\n",
       "    .dataframe tbody tr th {\n",
       "        vertical-align: top;\n",
       "    }\n",
       "\n",
       "    .dataframe thead th {\n",
       "        text-align: right;\n",
       "    }\n",
       "</style>\n",
       "<table border=\"1\" class=\"dataframe\">\n",
       "  <thead>\n",
       "    <tr style=\"text-align: right;\">\n",
       "      <th></th>\n",
       "      <th>id</th>\n",
       "      <th>level</th>\n",
       "      <th>taxonomic_span</th>\n",
       "      <th>taxonomic_span_id</th>\n",
       "      <th>description</th>\n",
       "      <th>parent</th>\n",
       "    </tr>\n",
       "  </thead>\n",
       "  <tbody>\n",
       "    <tr>\n",
       "      <th>0</th>\n",
       "      <td>cenH3</td>\n",
       "      <td>variant_group</td>\n",
       "      <td>Eukaryotes</td>\n",
       "      <td>2759</td>\n",
       "      <td>96</td>\n",
       "      <td>H3</td>\n",
       "    </tr>\n",
       "  </tbody>\n",
       "</table>\n",
       "</div>"
      ],
      "text/plain": [
       "      id          level taxonomic_span taxonomic_span_id  description parent\n",
       "0  cenH3  variant_group     Eukaryotes              2759           96     H3"
      ]
     },
     "execution_count": 10,
     "metadata": {},
     "output_type": "execute_result"
    }
   ],
   "source": [
    "query = (\n",
    "    \"SELECT * FROM histone \"\n",
    "    \"WHERE id='cenH3'\"\n",
    ")\n",
    "cursor.execute(query)\n",
    "pd.DataFrame(cursor.fetchall(), columns=[i[0] for i in cursor.description])"
   ]
  },
  {
   "cell_type": "code",
   "execution_count": 11,
   "id": "d61f3181-7ebf-49b6-8032-1f67d683950c",
   "metadata": {
    "tags": []
   },
   "outputs": [],
   "source": [
    "# Make sure data is committed to the database\n",
    "conn.commit()"
   ]
  },
  {
   "cell_type": "markdown",
   "id": "4091c323-a1c8-4927-8a5e-85f5359d64db",
   "metadata": {},
   "source": [
    "# Set `Alternate names` CENP-A, Cse4, HCP-3, CNP1, HTR12, CNA1, cid to their nodes\n",
    "\n",
    "1. **CENP-A** (Centromere Protein A) — стандартное название у млекопитающих, включая человека.\n",
    "2. **Cse4** and **CNP1** — названия в дрожжах *Saccharomyces cerevisiae*.  \n",
    "3. **HCP-3** — вариант у нематоды *Caenorhabditis elegans*.  \n",
    "4. **CNA1** — альтернативное название у *Tetrahymena thermophila* (SAR).  \n",
    "5. **HTR12** — обозначение у растения *Arabidopsis thaliana*.  \n",
    "6. **cid** — название у дрозофилы (*Drosophila melanogaster*).  \n",
    "\n",
    "**cenH3:** CENP-A, Cse4, HCP-3, CNP1, HTR12, CNA1, cid\n",
    "\n",
    "**cenH3_(Animals):** CENP-A, HCP-3, cid\n",
    "\n",
    "**cenH3_(Mammalia):** CENP-A\n",
    "\n",
    "**cenH3_(Homo_sapiens):** CENP-A\n",
    "\n",
    "**cenH3_(Fungi):** Cse4, CNP1\n",
    "\n",
    "**cenH3_(Plants):** HTR12"
   ]
  },
  {
   "cell_type": "code",
   "execution_count": 30,
   "id": "5a644c5f-b8fd-429d-935a-71752cae3b6c",
   "metadata": {
    "tags": []
   },
   "outputs": [
    {
     "data": {
      "text/html": [
       "<div>\n",
       "<style scoped>\n",
       "    .dataframe tbody tr th:only-of-type {\n",
       "        vertical-align: middle;\n",
       "    }\n",
       "\n",
       "    .dataframe tbody tr th {\n",
       "        vertical-align: top;\n",
       "    }\n",
       "\n",
       "    .dataframe thead th {\n",
       "        text-align: right;\n",
       "    }\n",
       "</style>\n",
       "<table border=\"1\" class=\"dataframe\">\n",
       "  <thead>\n",
       "    <tr style=\"text-align: right;\">\n",
       "      <th></th>\n",
       "      <th>id</th>\n",
       "      <th>level</th>\n",
       "      <th>taxonomic_span</th>\n",
       "      <th>taxonomic_span_id</th>\n",
       "      <th>description</th>\n",
       "      <th>parent</th>\n",
       "      <th>id</th>\n",
       "      <th>name</th>\n",
       "      <th>taxonomy</th>\n",
       "      <th>gene</th>\n",
       "      <th>splice</th>\n",
       "      <th>histone</th>\n",
       "    </tr>\n",
       "  </thead>\n",
       "  <tbody>\n",
       "    <tr>\n",
       "      <th>0</th>\n",
       "      <td>cenH3</td>\n",
       "      <td>variant_group</td>\n",
       "      <td>Eukaryotes</td>\n",
       "      <td>2759</td>\n",
       "      <td>96</td>\n",
       "      <td>H3</td>\n",
       "      <td>None</td>\n",
       "      <td>None</td>\n",
       "      <td>None</td>\n",
       "      <td>None</td>\n",
       "      <td>None</td>\n",
       "      <td>None</td>\n",
       "    </tr>\n",
       "  </tbody>\n",
       "</table>\n",
       "</div>"
      ],
      "text/plain": [
       "      id          level taxonomic_span taxonomic_span_id  description parent  \\\n",
       "0  cenH3  variant_group     Eukaryotes              2759           96     H3   \n",
       "\n",
       "     id  name taxonomy  gene splice histone  \n",
       "0  None  None     None  None   None    None  "
      ]
     },
     "execution_count": 30,
     "metadata": {},
     "output_type": "execute_result"
    }
   ],
   "source": [
    "query = (\n",
    "    \"SELECT * FROM histone h LEFT JOIN alternative_name an \"\n",
    "    \"ON h.id = an.histone \"\n",
    "    \"WHERE h.id='cenH3'\"\n",
    ")\n",
    "cursor.execute(query)\n",
    "pd.DataFrame(cursor.fetchall(), columns=[i[0] for i in cursor.description])"
   ]
  },
  {
   "cell_type": "code",
   "execution_count": 31,
   "id": "e547e60f-fc97-4f53-b6fd-3d3ad9cafe08",
   "metadata": {
    "tags": []
   },
   "outputs": [
    {
     "data": {
      "text/html": [
       "<div>\n",
       "<style scoped>\n",
       "    .dataframe tbody tr th:only-of-type {\n",
       "        vertical-align: middle;\n",
       "    }\n",
       "\n",
       "    .dataframe tbody tr th {\n",
       "        vertical-align: top;\n",
       "    }\n",
       "\n",
       "    .dataframe thead th {\n",
       "        text-align: right;\n",
       "    }\n",
       "</style>\n",
       "<table border=\"1\" class=\"dataframe\">\n",
       "  <thead>\n",
       "    <tr style=\"text-align: right;\">\n",
       "      <th></th>\n",
       "      <th>id</th>\n",
       "      <th>level</th>\n",
       "      <th>taxonomic_span</th>\n",
       "      <th>taxonomic_span_id</th>\n",
       "      <th>description</th>\n",
       "      <th>parent</th>\n",
       "      <th>id</th>\n",
       "      <th>name</th>\n",
       "      <th>taxonomy</th>\n",
       "      <th>gene</th>\n",
       "      <th>splice</th>\n",
       "      <th>histone</th>\n",
       "    </tr>\n",
       "  </thead>\n",
       "  <tbody>\n",
       "    <tr>\n",
       "      <th>0</th>\n",
       "      <td>cenH3_(Plants)</td>\n",
       "      <td>variant</td>\n",
       "      <td>Eukaryotes</td>\n",
       "      <td>2759</td>\n",
       "      <td>233</td>\n",
       "      <td>cenH3</td>\n",
       "      <td>59</td>\n",
       "      <td>CENP-A</td>\n",
       "      <td>None</td>\n",
       "      <td>None</td>\n",
       "      <td>None</td>\n",
       "      <td>cenH3_(Plants)</td>\n",
       "    </tr>\n",
       "    <tr>\n",
       "      <th>1</th>\n",
       "      <td>cenH3_(Plants)</td>\n",
       "      <td>variant</td>\n",
       "      <td>Eukaryotes</td>\n",
       "      <td>2759</td>\n",
       "      <td>233</td>\n",
       "      <td>cenH3</td>\n",
       "      <td>60</td>\n",
       "      <td>Cse4</td>\n",
       "      <td>None</td>\n",
       "      <td>None</td>\n",
       "      <td>None</td>\n",
       "      <td>cenH3_(Plants)</td>\n",
       "    </tr>\n",
       "    <tr>\n",
       "      <th>2</th>\n",
       "      <td>cenH3_(Plants)</td>\n",
       "      <td>variant</td>\n",
       "      <td>Eukaryotes</td>\n",
       "      <td>2759</td>\n",
       "      <td>233</td>\n",
       "      <td>cenH3</td>\n",
       "      <td>61</td>\n",
       "      <td>HCP-3</td>\n",
       "      <td>None</td>\n",
       "      <td>None</td>\n",
       "      <td>None</td>\n",
       "      <td>cenH3_(Plants)</td>\n",
       "    </tr>\n",
       "    <tr>\n",
       "      <th>3</th>\n",
       "      <td>cenH3_(Plants)</td>\n",
       "      <td>variant</td>\n",
       "      <td>Eukaryotes</td>\n",
       "      <td>2759</td>\n",
       "      <td>233</td>\n",
       "      <td>cenH3</td>\n",
       "      <td>62</td>\n",
       "      <td>CNP1</td>\n",
       "      <td>None</td>\n",
       "      <td>None</td>\n",
       "      <td>None</td>\n",
       "      <td>cenH3_(Plants)</td>\n",
       "    </tr>\n",
       "    <tr>\n",
       "      <th>4</th>\n",
       "      <td>cenH3_(Plants)</td>\n",
       "      <td>variant</td>\n",
       "      <td>Eukaryotes</td>\n",
       "      <td>2759</td>\n",
       "      <td>233</td>\n",
       "      <td>cenH3</td>\n",
       "      <td>63</td>\n",
       "      <td>HTR12</td>\n",
       "      <td>None</td>\n",
       "      <td>None</td>\n",
       "      <td>None</td>\n",
       "      <td>cenH3_(Plants)</td>\n",
       "    </tr>\n",
       "    <tr>\n",
       "      <th>5</th>\n",
       "      <td>cenH3_(Plants)</td>\n",
       "      <td>variant</td>\n",
       "      <td>Eukaryotes</td>\n",
       "      <td>2759</td>\n",
       "      <td>233</td>\n",
       "      <td>cenH3</td>\n",
       "      <td>64</td>\n",
       "      <td>CNA1</td>\n",
       "      <td>None</td>\n",
       "      <td>None</td>\n",
       "      <td>None</td>\n",
       "      <td>cenH3_(Plants)</td>\n",
       "    </tr>\n",
       "    <tr>\n",
       "      <th>6</th>\n",
       "      <td>cenH3_(Plants)</td>\n",
       "      <td>variant</td>\n",
       "      <td>Eukaryotes</td>\n",
       "      <td>2759</td>\n",
       "      <td>233</td>\n",
       "      <td>cenH3</td>\n",
       "      <td>65</td>\n",
       "      <td>cid</td>\n",
       "      <td>None</td>\n",
       "      <td>None</td>\n",
       "      <td>None</td>\n",
       "      <td>cenH3_(Plants)</td>\n",
       "    </tr>\n",
       "  </tbody>\n",
       "</table>\n",
       "</div>"
      ],
      "text/plain": [
       "               id    level taxonomic_span taxonomic_span_id  description  \\\n",
       "0  cenH3_(Plants)  variant     Eukaryotes              2759          233   \n",
       "1  cenH3_(Plants)  variant     Eukaryotes              2759          233   \n",
       "2  cenH3_(Plants)  variant     Eukaryotes              2759          233   \n",
       "3  cenH3_(Plants)  variant     Eukaryotes              2759          233   \n",
       "4  cenH3_(Plants)  variant     Eukaryotes              2759          233   \n",
       "5  cenH3_(Plants)  variant     Eukaryotes              2759          233   \n",
       "6  cenH3_(Plants)  variant     Eukaryotes              2759          233   \n",
       "\n",
       "  parent  id    name taxonomy  gene splice         histone  \n",
       "0  cenH3  59  CENP-A     None  None   None  cenH3_(Plants)  \n",
       "1  cenH3  60    Cse4     None  None   None  cenH3_(Plants)  \n",
       "2  cenH3  61   HCP-3     None  None   None  cenH3_(Plants)  \n",
       "3  cenH3  62    CNP1     None  None   None  cenH3_(Plants)  \n",
       "4  cenH3  63   HTR12     None  None   None  cenH3_(Plants)  \n",
       "5  cenH3  64    CNA1     None  None   None  cenH3_(Plants)  \n",
       "6  cenH3  65     cid     None  None   None  cenH3_(Plants)  "
      ]
     },
     "execution_count": 31,
     "metadata": {},
     "output_type": "execute_result"
    }
   ],
   "source": [
    "query = (\n",
    "    \"SELECT * FROM histone h LEFT JOIN alternative_name an \"\n",
    "    \"ON h.id = an.histone \"\n",
    "    \"WHERE h.id='cenH3_(Plants)'\"\n",
    ")\n",
    "cursor.execute(query)\n",
    "pd.DataFrame(cursor.fetchall(), columns=[i[0] for i in cursor.description])"
   ]
  },
  {
   "cell_type": "code",
   "execution_count": 32,
   "id": "1f76ef55-9bba-4cf2-ac80-47d82827eec0",
   "metadata": {
    "tags": []
   },
   "outputs": [
    {
     "data": {
      "text/html": [
       "<div>\n",
       "<style scoped>\n",
       "    .dataframe tbody tr th:only-of-type {\n",
       "        vertical-align: middle;\n",
       "    }\n",
       "\n",
       "    .dataframe tbody tr th {\n",
       "        vertical-align: top;\n",
       "    }\n",
       "\n",
       "    .dataframe thead th {\n",
       "        text-align: right;\n",
       "    }\n",
       "</style>\n",
       "<table border=\"1\" class=\"dataframe\">\n",
       "  <thead>\n",
       "    <tr style=\"text-align: right;\">\n",
       "      <th></th>\n",
       "      <th>id</th>\n",
       "      <th>name</th>\n",
       "      <th>taxonomy</th>\n",
       "      <th>gene</th>\n",
       "      <th>splice</th>\n",
       "      <th>histone</th>\n",
       "    </tr>\n",
       "  </thead>\n",
       "  <tbody>\n",
       "    <tr>\n",
       "      <th>0</th>\n",
       "      <td>59</td>\n",
       "      <td>CENP-A</td>\n",
       "      <td>None</td>\n",
       "      <td>None</td>\n",
       "      <td>None</td>\n",
       "      <td>cenH3_(Plants)</td>\n",
       "    </tr>\n",
       "    <tr>\n",
       "      <th>1</th>\n",
       "      <td>60</td>\n",
       "      <td>Cse4</td>\n",
       "      <td>None</td>\n",
       "      <td>None</td>\n",
       "      <td>None</td>\n",
       "      <td>cenH3_(Plants)</td>\n",
       "    </tr>\n",
       "    <tr>\n",
       "      <th>2</th>\n",
       "      <td>61</td>\n",
       "      <td>HCP-3</td>\n",
       "      <td>None</td>\n",
       "      <td>None</td>\n",
       "      <td>None</td>\n",
       "      <td>cenH3_(Plants)</td>\n",
       "    </tr>\n",
       "    <tr>\n",
       "      <th>3</th>\n",
       "      <td>62</td>\n",
       "      <td>CNP1</td>\n",
       "      <td>None</td>\n",
       "      <td>None</td>\n",
       "      <td>None</td>\n",
       "      <td>cenH3_(Plants)</td>\n",
       "    </tr>\n",
       "    <tr>\n",
       "      <th>4</th>\n",
       "      <td>63</td>\n",
       "      <td>HTR12</td>\n",
       "      <td>None</td>\n",
       "      <td>None</td>\n",
       "      <td>None</td>\n",
       "      <td>cenH3_(Plants)</td>\n",
       "    </tr>\n",
       "    <tr>\n",
       "      <th>5</th>\n",
       "      <td>64</td>\n",
       "      <td>CNA1</td>\n",
       "      <td>None</td>\n",
       "      <td>None</td>\n",
       "      <td>None</td>\n",
       "      <td>cenH3_(Plants)</td>\n",
       "    </tr>\n",
       "    <tr>\n",
       "      <th>6</th>\n",
       "      <td>65</td>\n",
       "      <td>cid</td>\n",
       "      <td>None</td>\n",
       "      <td>None</td>\n",
       "      <td>None</td>\n",
       "      <td>cenH3_(Plants)</td>\n",
       "    </tr>\n",
       "  </tbody>\n",
       "</table>\n",
       "</div>"
      ],
      "text/plain": [
       "   id    name taxonomy  gene splice         histone\n",
       "0  59  CENP-A     None  None   None  cenH3_(Plants)\n",
       "1  60    Cse4     None  None   None  cenH3_(Plants)\n",
       "2  61   HCP-3     None  None   None  cenH3_(Plants)\n",
       "3  62    CNP1     None  None   None  cenH3_(Plants)\n",
       "4  63   HTR12     None  None   None  cenH3_(Plants)\n",
       "5  64    CNA1     None  None   None  cenH3_(Plants)\n",
       "6  65     cid     None  None   None  cenH3_(Plants)"
      ]
     },
     "execution_count": 32,
     "metadata": {},
     "output_type": "execute_result"
    }
   ],
   "source": [
    "query = (\n",
    "    \"SELECT * FROM alternative_name \"\n",
    "    \"WHERE histone='cenH3_(Plants)'\"\n",
    ")\n",
    "cursor.execute(query)\n",
    "pd.DataFrame(cursor.fetchall(), columns=[i[0] for i in cursor.description])"
   ]
  },
  {
   "cell_type": "code",
   "execution_count": 33,
   "id": "e62fde93-27d8-4b3a-b97b-40ff26e67d7c",
   "metadata": {
    "tags": []
   },
   "outputs": [
    {
     "name": "stdout",
     "output_type": "stream",
     "text": [
      "UPDATE alternative_name SET histone='cenH3' WHERE id='59'\n",
      "UPDATE alternative_name SET histone='cenH3' WHERE id='60'\n",
      "UPDATE alternative_name SET histone='cenH3' WHERE id='61'\n",
      "UPDATE alternative_name SET histone='cenH3' WHERE id='62'\n",
      "UPDATE alternative_name SET histone='cenH3' WHERE id='63'\n",
      "UPDATE alternative_name SET histone='cenH3' WHERE id='64'\n",
      "UPDATE alternative_name SET histone='cenH3' WHERE id='65'\n"
     ]
    }
   ],
   "source": [
    "for i in range(59, 66):\n",
    "    query = f\"UPDATE alternative_name SET histone='cenH3' WHERE id='{i}'\"\n",
    "    print(query)\n",
    "    cursor.execute(query)"
   ]
  },
  {
   "cell_type": "code",
   "execution_count": 34,
   "id": "3a32bcf8-3609-4e90-862c-82f15b38bddb",
   "metadata": {
    "tags": []
   },
   "outputs": [
    {
     "data": {
      "text/html": [
       "<div>\n",
       "<style scoped>\n",
       "    .dataframe tbody tr th:only-of-type {\n",
       "        vertical-align: middle;\n",
       "    }\n",
       "\n",
       "    .dataframe tbody tr th {\n",
       "        vertical-align: top;\n",
       "    }\n",
       "\n",
       "    .dataframe thead th {\n",
       "        text-align: right;\n",
       "    }\n",
       "</style>\n",
       "<table border=\"1\" class=\"dataframe\">\n",
       "  <thead>\n",
       "    <tr style=\"text-align: right;\">\n",
       "      <th></th>\n",
       "      <th>id</th>\n",
       "      <th>name</th>\n",
       "      <th>taxonomy</th>\n",
       "      <th>gene</th>\n",
       "      <th>splice</th>\n",
       "      <th>histone</th>\n",
       "    </tr>\n",
       "  </thead>\n",
       "  <tbody>\n",
       "    <tr>\n",
       "      <th>0</th>\n",
       "      <td>59</td>\n",
       "      <td>CENP-A</td>\n",
       "      <td>None</td>\n",
       "      <td>None</td>\n",
       "      <td>None</td>\n",
       "      <td>cenH3</td>\n",
       "    </tr>\n",
       "    <tr>\n",
       "      <th>1</th>\n",
       "      <td>60</td>\n",
       "      <td>Cse4</td>\n",
       "      <td>None</td>\n",
       "      <td>None</td>\n",
       "      <td>None</td>\n",
       "      <td>cenH3</td>\n",
       "    </tr>\n",
       "    <tr>\n",
       "      <th>2</th>\n",
       "      <td>61</td>\n",
       "      <td>HCP-3</td>\n",
       "      <td>None</td>\n",
       "      <td>None</td>\n",
       "      <td>None</td>\n",
       "      <td>cenH3</td>\n",
       "    </tr>\n",
       "    <tr>\n",
       "      <th>3</th>\n",
       "      <td>62</td>\n",
       "      <td>CNP1</td>\n",
       "      <td>None</td>\n",
       "      <td>None</td>\n",
       "      <td>None</td>\n",
       "      <td>cenH3</td>\n",
       "    </tr>\n",
       "    <tr>\n",
       "      <th>4</th>\n",
       "      <td>63</td>\n",
       "      <td>HTR12</td>\n",
       "      <td>None</td>\n",
       "      <td>None</td>\n",
       "      <td>None</td>\n",
       "      <td>cenH3</td>\n",
       "    </tr>\n",
       "    <tr>\n",
       "      <th>5</th>\n",
       "      <td>64</td>\n",
       "      <td>CNA1</td>\n",
       "      <td>None</td>\n",
       "      <td>None</td>\n",
       "      <td>None</td>\n",
       "      <td>cenH3</td>\n",
       "    </tr>\n",
       "    <tr>\n",
       "      <th>6</th>\n",
       "      <td>65</td>\n",
       "      <td>cid</td>\n",
       "      <td>None</td>\n",
       "      <td>None</td>\n",
       "      <td>None</td>\n",
       "      <td>cenH3</td>\n",
       "    </tr>\n",
       "  </tbody>\n",
       "</table>\n",
       "</div>"
      ],
      "text/plain": [
       "   id    name taxonomy  gene splice histone\n",
       "0  59  CENP-A     None  None   None   cenH3\n",
       "1  60    Cse4     None  None   None   cenH3\n",
       "2  61   HCP-3     None  None   None   cenH3\n",
       "3  62    CNP1     None  None   None   cenH3\n",
       "4  63   HTR12     None  None   None   cenH3\n",
       "5  64    CNA1     None  None   None   cenH3\n",
       "6  65     cid     None  None   None   cenH3"
      ]
     },
     "execution_count": 34,
     "metadata": {},
     "output_type": "execute_result"
    }
   ],
   "source": [
    "query = (\n",
    "    \"SELECT * FROM alternative_name \"\n",
    "    \"WHERE histone='cenH3'\"\n",
    ")\n",
    "cursor.execute(query)\n",
    "pd.DataFrame(cursor.fetchall(), columns=[i[0] for i in cursor.description])"
   ]
  },
  {
   "cell_type": "markdown",
   "id": "9d3e88ff-c2d5-49e6-b70d-a721e3ec8ab6",
   "metadata": {},
   "source": [
    "## Add cenH3_(Animals): CENP-A, HCP-3, cid"
   ]
  },
  {
   "cell_type": "code",
   "execution_count": 36,
   "id": "0705df05-0e42-4b8b-b5eb-719c93e53fe3",
   "metadata": {
    "tags": []
   },
   "outputs": [
    {
     "data": {
      "text/html": [
       "<div>\n",
       "<style scoped>\n",
       "    .dataframe tbody tr th:only-of-type {\n",
       "        vertical-align: middle;\n",
       "    }\n",
       "\n",
       "    .dataframe tbody tr th {\n",
       "        vertical-align: top;\n",
       "    }\n",
       "\n",
       "    .dataframe thead th {\n",
       "        text-align: right;\n",
       "    }\n",
       "</style>\n",
       "<table border=\"1\" class=\"dataframe\">\n",
       "  <thead>\n",
       "    <tr style=\"text-align: right;\">\n",
       "      <th></th>\n",
       "      <th>id</th>\n",
       "      <th>name</th>\n",
       "      <th>taxonomy</th>\n",
       "      <th>gene</th>\n",
       "      <th>splice</th>\n",
       "      <th>histone</th>\n",
       "    </tr>\n",
       "  </thead>\n",
       "  <tbody>\n",
       "  </tbody>\n",
       "</table>\n",
       "</div>"
      ],
      "text/plain": [
       "Empty DataFrame\n",
       "Columns: [id, name, taxonomy, gene, splice, histone]\n",
       "Index: []"
      ]
     },
     "execution_count": 36,
     "metadata": {},
     "output_type": "execute_result"
    }
   ],
   "source": [
    "query = (\n",
    "    \"SELECT * FROM alternative_name \"\n",
    "    \"WHERE histone='cenH3_(Animals)'\"\n",
    ")\n",
    "cursor.execute(query)\n",
    "pd.DataFrame(cursor.fetchall(), columns=[i[0] for i in cursor.description])"
   ]
  },
  {
   "cell_type": "code",
   "execution_count": 38,
   "id": "d98e4f10-0dce-4f3d-bcae-2b56c4bec13c",
   "metadata": {},
   "outputs": [],
   "source": [
    "alternate_names = [\"CENP-A\", \"HCP-3\", \"cid\"]\n",
    "for an in alternate_names:\n",
    "    data_alternate_name = {\n",
    "        \"name\": an,\n",
    "        \"taxonomy\": None,\n",
    "        \"gene\": None,\n",
    "        \"splice\": None,\n",
    "        \"histone\": \"cenH3_(Animals)\",\n",
    "    }\n",
    "    cursor.execute(add_alternate_names, data_alternate_name)"
   ]
  },
  {
   "cell_type": "code",
   "execution_count": 39,
   "id": "057c93af-1e1b-480c-8a0d-499c619ff44d",
   "metadata": {
    "tags": []
   },
   "outputs": [
    {
     "data": {
      "text/html": [
       "<div>\n",
       "<style scoped>\n",
       "    .dataframe tbody tr th:only-of-type {\n",
       "        vertical-align: middle;\n",
       "    }\n",
       "\n",
       "    .dataframe tbody tr th {\n",
       "        vertical-align: top;\n",
       "    }\n",
       "\n",
       "    .dataframe thead th {\n",
       "        text-align: right;\n",
       "    }\n",
       "</style>\n",
       "<table border=\"1\" class=\"dataframe\">\n",
       "  <thead>\n",
       "    <tr style=\"text-align: right;\">\n",
       "      <th></th>\n",
       "      <th>id</th>\n",
       "      <th>name</th>\n",
       "      <th>taxonomy</th>\n",
       "      <th>gene</th>\n",
       "      <th>splice</th>\n",
       "      <th>histone</th>\n",
       "    </tr>\n",
       "  </thead>\n",
       "  <tbody>\n",
       "    <tr>\n",
       "      <th>0</th>\n",
       "      <td>91</td>\n",
       "      <td>CENP-A</td>\n",
       "      <td>None</td>\n",
       "      <td>None</td>\n",
       "      <td>None</td>\n",
       "      <td>cenH3_(Animals)</td>\n",
       "    </tr>\n",
       "    <tr>\n",
       "      <th>1</th>\n",
       "      <td>92</td>\n",
       "      <td>HCP-3</td>\n",
       "      <td>None</td>\n",
       "      <td>None</td>\n",
       "      <td>None</td>\n",
       "      <td>cenH3_(Animals)</td>\n",
       "    </tr>\n",
       "    <tr>\n",
       "      <th>2</th>\n",
       "      <td>93</td>\n",
       "      <td>cid</td>\n",
       "      <td>None</td>\n",
       "      <td>None</td>\n",
       "      <td>None</td>\n",
       "      <td>cenH3_(Animals)</td>\n",
       "    </tr>\n",
       "  </tbody>\n",
       "</table>\n",
       "</div>"
      ],
      "text/plain": [
       "   id    name taxonomy  gene splice          histone\n",
       "0  91  CENP-A     None  None   None  cenH3_(Animals)\n",
       "1  92   HCP-3     None  None   None  cenH3_(Animals)\n",
       "2  93     cid     None  None   None  cenH3_(Animals)"
      ]
     },
     "execution_count": 39,
     "metadata": {},
     "output_type": "execute_result"
    }
   ],
   "source": [
    "query = (\n",
    "    \"SELECT * FROM alternative_name \"\n",
    "    \"WHERE histone='cenH3_(Animals)'\"\n",
    ")\n",
    "cursor.execute(query)\n",
    "pd.DataFrame(cursor.fetchall(), columns=[i[0] for i in cursor.description])"
   ]
  },
  {
   "cell_type": "markdown",
   "id": "de26fec1-46fd-4471-b6ae-0e4ba54dd810",
   "metadata": {},
   "source": [
    "## Add cenH3_(Mammalia): CENP-A"
   ]
  },
  {
   "cell_type": "code",
   "execution_count": 40,
   "id": "d6341f18-8c29-4dfa-8888-b84a035cf286",
   "metadata": {
    "tags": []
   },
   "outputs": [
    {
     "data": {
      "text/html": [
       "<div>\n",
       "<style scoped>\n",
       "    .dataframe tbody tr th:only-of-type {\n",
       "        vertical-align: middle;\n",
       "    }\n",
       "\n",
       "    .dataframe tbody tr th {\n",
       "        vertical-align: top;\n",
       "    }\n",
       "\n",
       "    .dataframe thead th {\n",
       "        text-align: right;\n",
       "    }\n",
       "</style>\n",
       "<table border=\"1\" class=\"dataframe\">\n",
       "  <thead>\n",
       "    <tr style=\"text-align: right;\">\n",
       "      <th></th>\n",
       "      <th>id</th>\n",
       "      <th>name</th>\n",
       "      <th>taxonomy</th>\n",
       "      <th>gene</th>\n",
       "      <th>splice</th>\n",
       "      <th>histone</th>\n",
       "    </tr>\n",
       "  </thead>\n",
       "  <tbody>\n",
       "  </tbody>\n",
       "</table>\n",
       "</div>"
      ],
      "text/plain": [
       "Empty DataFrame\n",
       "Columns: [id, name, taxonomy, gene, splice, histone]\n",
       "Index: []"
      ]
     },
     "execution_count": 40,
     "metadata": {},
     "output_type": "execute_result"
    }
   ],
   "source": [
    "query = (\n",
    "    \"SELECT * FROM alternative_name \"\n",
    "    \"WHERE histone='cenH3_(Mammalia)'\"\n",
    ")\n",
    "cursor.execute(query)\n",
    "pd.DataFrame(cursor.fetchall(), columns=[i[0] for i in cursor.description])"
   ]
  },
  {
   "cell_type": "code",
   "execution_count": 41,
   "id": "f17111cc-bf3d-47bc-a02e-d87077cdd509",
   "metadata": {},
   "outputs": [],
   "source": [
    "alternate_names = [\"CENP-A\"]\n",
    "for an in alternate_names:\n",
    "    data_alternate_name = {\n",
    "        \"name\": an,\n",
    "        \"taxonomy\": None,\n",
    "        \"gene\": None,\n",
    "        \"splice\": None,\n",
    "        \"histone\": \"cenH3_(Mammalia)\",\n",
    "    }\n",
    "    cursor.execute(add_alternate_names, data_alternate_name)"
   ]
  },
  {
   "cell_type": "code",
   "execution_count": 42,
   "id": "23145d3b-a323-4463-800f-259183042735",
   "metadata": {
    "tags": []
   },
   "outputs": [
    {
     "data": {
      "text/html": [
       "<div>\n",
       "<style scoped>\n",
       "    .dataframe tbody tr th:only-of-type {\n",
       "        vertical-align: middle;\n",
       "    }\n",
       "\n",
       "    .dataframe tbody tr th {\n",
       "        vertical-align: top;\n",
       "    }\n",
       "\n",
       "    .dataframe thead th {\n",
       "        text-align: right;\n",
       "    }\n",
       "</style>\n",
       "<table border=\"1\" class=\"dataframe\">\n",
       "  <thead>\n",
       "    <tr style=\"text-align: right;\">\n",
       "      <th></th>\n",
       "      <th>id</th>\n",
       "      <th>name</th>\n",
       "      <th>taxonomy</th>\n",
       "      <th>gene</th>\n",
       "      <th>splice</th>\n",
       "      <th>histone</th>\n",
       "    </tr>\n",
       "  </thead>\n",
       "  <tbody>\n",
       "    <tr>\n",
       "      <th>0</th>\n",
       "      <td>94</td>\n",
       "      <td>CENP-A</td>\n",
       "      <td>None</td>\n",
       "      <td>None</td>\n",
       "      <td>None</td>\n",
       "      <td>cenH3_(Mammalia)</td>\n",
       "    </tr>\n",
       "  </tbody>\n",
       "</table>\n",
       "</div>"
      ],
      "text/plain": [
       "   id    name taxonomy  gene splice           histone\n",
       "0  94  CENP-A     None  None   None  cenH3_(Mammalia)"
      ]
     },
     "execution_count": 42,
     "metadata": {},
     "output_type": "execute_result"
    }
   ],
   "source": [
    "query = (\n",
    "    \"SELECT * FROM alternative_name \"\n",
    "    \"WHERE histone='cenH3_(Mammalia)'\"\n",
    ")\n",
    "cursor.execute(query)\n",
    "pd.DataFrame(cursor.fetchall(), columns=[i[0] for i in cursor.description])"
   ]
  },
  {
   "cell_type": "markdown",
   "id": "fa7673a1-46ac-49fe-9113-a7fd87be51fc",
   "metadata": {},
   "source": [
    "## Add cenH3_(Homo_sapiens): CENP-A"
   ]
  },
  {
   "cell_type": "code",
   "execution_count": 43,
   "id": "dccdbcc3-fd95-4b2e-9d37-d013beeeeb8a",
   "metadata": {
    "tags": []
   },
   "outputs": [
    {
     "data": {
      "text/html": [
       "<div>\n",
       "<style scoped>\n",
       "    .dataframe tbody tr th:only-of-type {\n",
       "        vertical-align: middle;\n",
       "    }\n",
       "\n",
       "    .dataframe tbody tr th {\n",
       "        vertical-align: top;\n",
       "    }\n",
       "\n",
       "    .dataframe thead th {\n",
       "        text-align: right;\n",
       "    }\n",
       "</style>\n",
       "<table border=\"1\" class=\"dataframe\">\n",
       "  <thead>\n",
       "    <tr style=\"text-align: right;\">\n",
       "      <th></th>\n",
       "      <th>id</th>\n",
       "      <th>name</th>\n",
       "      <th>taxonomy</th>\n",
       "      <th>gene</th>\n",
       "      <th>splice</th>\n",
       "      <th>histone</th>\n",
       "    </tr>\n",
       "  </thead>\n",
       "  <tbody>\n",
       "  </tbody>\n",
       "</table>\n",
       "</div>"
      ],
      "text/plain": [
       "Empty DataFrame\n",
       "Columns: [id, name, taxonomy, gene, splice, histone]\n",
       "Index: []"
      ]
     },
     "execution_count": 43,
     "metadata": {},
     "output_type": "execute_result"
    }
   ],
   "source": [
    "query = (\n",
    "    \"SELECT * FROM alternative_name \"\n",
    "    \"WHERE histone='cenH3_(Homo_sapiens)'\"\n",
    ")\n",
    "cursor.execute(query)\n",
    "pd.DataFrame(cursor.fetchall(), columns=[i[0] for i in cursor.description])"
   ]
  },
  {
   "cell_type": "code",
   "execution_count": 44,
   "id": "e8330331-8e14-4008-a949-469a7c3e6269",
   "metadata": {},
   "outputs": [],
   "source": [
    "alternate_names = [\"CENP-A\"]\n",
    "for an in alternate_names:\n",
    "    data_alternate_name = {\n",
    "        \"name\": an,\n",
    "        \"taxonomy\": None,\n",
    "        \"gene\": None,\n",
    "        \"splice\": None,\n",
    "        \"histone\": \"cenH3_(Homo_sapiens)\",\n",
    "    }\n",
    "    cursor.execute(add_alternate_names, data_alternate_name)"
   ]
  },
  {
   "cell_type": "code",
   "execution_count": 45,
   "id": "a07f35a0-aea8-4a2b-948a-77da52e0891e",
   "metadata": {
    "tags": []
   },
   "outputs": [
    {
     "data": {
      "text/html": [
       "<div>\n",
       "<style scoped>\n",
       "    .dataframe tbody tr th:only-of-type {\n",
       "        vertical-align: middle;\n",
       "    }\n",
       "\n",
       "    .dataframe tbody tr th {\n",
       "        vertical-align: top;\n",
       "    }\n",
       "\n",
       "    .dataframe thead th {\n",
       "        text-align: right;\n",
       "    }\n",
       "</style>\n",
       "<table border=\"1\" class=\"dataframe\">\n",
       "  <thead>\n",
       "    <tr style=\"text-align: right;\">\n",
       "      <th></th>\n",
       "      <th>id</th>\n",
       "      <th>name</th>\n",
       "      <th>taxonomy</th>\n",
       "      <th>gene</th>\n",
       "      <th>splice</th>\n",
       "      <th>histone</th>\n",
       "    </tr>\n",
       "  </thead>\n",
       "  <tbody>\n",
       "    <tr>\n",
       "      <th>0</th>\n",
       "      <td>95</td>\n",
       "      <td>CENP-A</td>\n",
       "      <td>None</td>\n",
       "      <td>None</td>\n",
       "      <td>None</td>\n",
       "      <td>cenH3_(Homo_sapiens)</td>\n",
       "    </tr>\n",
       "  </tbody>\n",
       "</table>\n",
       "</div>"
      ],
      "text/plain": [
       "   id    name taxonomy  gene splice               histone\n",
       "0  95  CENP-A     None  None   None  cenH3_(Homo_sapiens)"
      ]
     },
     "execution_count": 45,
     "metadata": {},
     "output_type": "execute_result"
    }
   ],
   "source": [
    "query = (\n",
    "    \"SELECT * FROM alternative_name \"\n",
    "    \"WHERE histone='cenH3_(Homo_sapiens)'\"\n",
    ")\n",
    "cursor.execute(query)\n",
    "pd.DataFrame(cursor.fetchall(), columns=[i[0] for i in cursor.description])"
   ]
  },
  {
   "cell_type": "markdown",
   "id": "feee82cd-e691-4dcf-9c78-60469f7c238e",
   "metadata": {},
   "source": [
    "## Add cenH3_(Fungi): Cse4, CNP1"
   ]
  },
  {
   "cell_type": "code",
   "execution_count": 46,
   "id": "fe4a8b19-383f-4883-8c4a-85e65b0f75eb",
   "metadata": {
    "tags": []
   },
   "outputs": [
    {
     "data": {
      "text/html": [
       "<div>\n",
       "<style scoped>\n",
       "    .dataframe tbody tr th:only-of-type {\n",
       "        vertical-align: middle;\n",
       "    }\n",
       "\n",
       "    .dataframe tbody tr th {\n",
       "        vertical-align: top;\n",
       "    }\n",
       "\n",
       "    .dataframe thead th {\n",
       "        text-align: right;\n",
       "    }\n",
       "</style>\n",
       "<table border=\"1\" class=\"dataframe\">\n",
       "  <thead>\n",
       "    <tr style=\"text-align: right;\">\n",
       "      <th></th>\n",
       "      <th>id</th>\n",
       "      <th>name</th>\n",
       "      <th>taxonomy</th>\n",
       "      <th>gene</th>\n",
       "      <th>splice</th>\n",
       "      <th>histone</th>\n",
       "    </tr>\n",
       "  </thead>\n",
       "  <tbody>\n",
       "  </tbody>\n",
       "</table>\n",
       "</div>"
      ],
      "text/plain": [
       "Empty DataFrame\n",
       "Columns: [id, name, taxonomy, gene, splice, histone]\n",
       "Index: []"
      ]
     },
     "execution_count": 46,
     "metadata": {},
     "output_type": "execute_result"
    }
   ],
   "source": [
    "query = (\n",
    "    \"SELECT * FROM alternative_name \"\n",
    "    \"WHERE histone='cenH3_(Fungi)'\"\n",
    ")\n",
    "cursor.execute(query)\n",
    "pd.DataFrame(cursor.fetchall(), columns=[i[0] for i in cursor.description])"
   ]
  },
  {
   "cell_type": "code",
   "execution_count": 47,
   "id": "ac08f813-6263-4495-92a9-d62b83c09406",
   "metadata": {},
   "outputs": [],
   "source": [
    "alternate_names = [\"Cse4\", \"CNP1\"]\n",
    "for an in alternate_names:\n",
    "    data_alternate_name = {\n",
    "        \"name\": an,\n",
    "        \"taxonomy\": None,\n",
    "        \"gene\": None,\n",
    "        \"splice\": None,\n",
    "        \"histone\": \"cenH3_(Fungi)\",\n",
    "    }\n",
    "    cursor.execute(add_alternate_names, data_alternate_name)"
   ]
  },
  {
   "cell_type": "code",
   "execution_count": 48,
   "id": "3b3d67bd-8cc6-4dad-88e5-3f945adb941e",
   "metadata": {
    "tags": []
   },
   "outputs": [
    {
     "data": {
      "text/html": [
       "<div>\n",
       "<style scoped>\n",
       "    .dataframe tbody tr th:only-of-type {\n",
       "        vertical-align: middle;\n",
       "    }\n",
       "\n",
       "    .dataframe tbody tr th {\n",
       "        vertical-align: top;\n",
       "    }\n",
       "\n",
       "    .dataframe thead th {\n",
       "        text-align: right;\n",
       "    }\n",
       "</style>\n",
       "<table border=\"1\" class=\"dataframe\">\n",
       "  <thead>\n",
       "    <tr style=\"text-align: right;\">\n",
       "      <th></th>\n",
       "      <th>id</th>\n",
       "      <th>name</th>\n",
       "      <th>taxonomy</th>\n",
       "      <th>gene</th>\n",
       "      <th>splice</th>\n",
       "      <th>histone</th>\n",
       "    </tr>\n",
       "  </thead>\n",
       "  <tbody>\n",
       "    <tr>\n",
       "      <th>0</th>\n",
       "      <td>96</td>\n",
       "      <td>Cse4</td>\n",
       "      <td>None</td>\n",
       "      <td>None</td>\n",
       "      <td>None</td>\n",
       "      <td>cenH3_(Fungi)</td>\n",
       "    </tr>\n",
       "    <tr>\n",
       "      <th>1</th>\n",
       "      <td>97</td>\n",
       "      <td>CNP1</td>\n",
       "      <td>None</td>\n",
       "      <td>None</td>\n",
       "      <td>None</td>\n",
       "      <td>cenH3_(Fungi)</td>\n",
       "    </tr>\n",
       "  </tbody>\n",
       "</table>\n",
       "</div>"
      ],
      "text/plain": [
       "   id  name taxonomy  gene splice        histone\n",
       "0  96  Cse4     None  None   None  cenH3_(Fungi)\n",
       "1  97  CNP1     None  None   None  cenH3_(Fungi)"
      ]
     },
     "execution_count": 48,
     "metadata": {},
     "output_type": "execute_result"
    }
   ],
   "source": [
    "query = (\n",
    "    \"SELECT * FROM alternative_name \"\n",
    "    \"WHERE histone='cenH3_(Fungi)'\"\n",
    ")\n",
    "cursor.execute(query)\n",
    "pd.DataFrame(cursor.fetchall(), columns=[i[0] for i in cursor.description])"
   ]
  },
  {
   "cell_type": "markdown",
   "id": "084801aa-4535-47d2-a4a6-2f7b32465825",
   "metadata": {},
   "source": [
    "## Add cenH3_(Plants): HTR12"
   ]
  },
  {
   "cell_type": "code",
   "execution_count": 49,
   "id": "53d21bd6-2b77-4915-8f8d-0bfa4a286e86",
   "metadata": {
    "tags": []
   },
   "outputs": [
    {
     "data": {
      "text/html": [
       "<div>\n",
       "<style scoped>\n",
       "    .dataframe tbody tr th:only-of-type {\n",
       "        vertical-align: middle;\n",
       "    }\n",
       "\n",
       "    .dataframe tbody tr th {\n",
       "        vertical-align: top;\n",
       "    }\n",
       "\n",
       "    .dataframe thead th {\n",
       "        text-align: right;\n",
       "    }\n",
       "</style>\n",
       "<table border=\"1\" class=\"dataframe\">\n",
       "  <thead>\n",
       "    <tr style=\"text-align: right;\">\n",
       "      <th></th>\n",
       "      <th>id</th>\n",
       "      <th>name</th>\n",
       "      <th>taxonomy</th>\n",
       "      <th>gene</th>\n",
       "      <th>splice</th>\n",
       "      <th>histone</th>\n",
       "    </tr>\n",
       "  </thead>\n",
       "  <tbody>\n",
       "  </tbody>\n",
       "</table>\n",
       "</div>"
      ],
      "text/plain": [
       "Empty DataFrame\n",
       "Columns: [id, name, taxonomy, gene, splice, histone]\n",
       "Index: []"
      ]
     },
     "execution_count": 49,
     "metadata": {},
     "output_type": "execute_result"
    }
   ],
   "source": [
    "query = (\n",
    "    \"SELECT * FROM alternative_name \"\n",
    "    \"WHERE histone='cenH3_(Plants)'\"\n",
    ")\n",
    "cursor.execute(query)\n",
    "pd.DataFrame(cursor.fetchall(), columns=[i[0] for i in cursor.description])"
   ]
  },
  {
   "cell_type": "code",
   "execution_count": 50,
   "id": "61e1ea44-faa4-4720-aef1-b139eea9cc55",
   "metadata": {},
   "outputs": [],
   "source": [
    "alternate_names = [\"HTR12\"]\n",
    "for an in alternate_names:\n",
    "    data_alternate_name = {\n",
    "        \"name\": an,\n",
    "        \"taxonomy\": None,\n",
    "        \"gene\": None,\n",
    "        \"splice\": None,\n",
    "        \"histone\": \"cenH3_(Plants)\",\n",
    "    }\n",
    "    cursor.execute(add_alternate_names, data_alternate_name)"
   ]
  },
  {
   "cell_type": "code",
   "execution_count": 51,
   "id": "7fc31211-734e-45f4-b541-05cd15c87ac5",
   "metadata": {
    "tags": []
   },
   "outputs": [
    {
     "data": {
      "text/html": [
       "<div>\n",
       "<style scoped>\n",
       "    .dataframe tbody tr th:only-of-type {\n",
       "        vertical-align: middle;\n",
       "    }\n",
       "\n",
       "    .dataframe tbody tr th {\n",
       "        vertical-align: top;\n",
       "    }\n",
       "\n",
       "    .dataframe thead th {\n",
       "        text-align: right;\n",
       "    }\n",
       "</style>\n",
       "<table border=\"1\" class=\"dataframe\">\n",
       "  <thead>\n",
       "    <tr style=\"text-align: right;\">\n",
       "      <th></th>\n",
       "      <th>id</th>\n",
       "      <th>name</th>\n",
       "      <th>taxonomy</th>\n",
       "      <th>gene</th>\n",
       "      <th>splice</th>\n",
       "      <th>histone</th>\n",
       "    </tr>\n",
       "  </thead>\n",
       "  <tbody>\n",
       "    <tr>\n",
       "      <th>0</th>\n",
       "      <td>98</td>\n",
       "      <td>HTR12</td>\n",
       "      <td>None</td>\n",
       "      <td>None</td>\n",
       "      <td>None</td>\n",
       "      <td>cenH3_(Plants)</td>\n",
       "    </tr>\n",
       "  </tbody>\n",
       "</table>\n",
       "</div>"
      ],
      "text/plain": [
       "   id   name taxonomy  gene splice         histone\n",
       "0  98  HTR12     None  None   None  cenH3_(Plants)"
      ]
     },
     "execution_count": 51,
     "metadata": {},
     "output_type": "execute_result"
    }
   ],
   "source": [
    "query = (\n",
    "    \"SELECT * FROM alternative_name \"\n",
    "    \"WHERE histone='cenH3_(Plants)'\"\n",
    ")\n",
    "cursor.execute(query)\n",
    "pd.DataFrame(cursor.fetchall(), columns=[i[0] for i in cursor.description])"
   ]
  },
  {
   "cell_type": "code",
   "execution_count": 52,
   "id": "386323ea-656b-4a7c-8ee5-35fe47570fee",
   "metadata": {
    "tags": []
   },
   "outputs": [],
   "source": [
    "# Make sure data is committed to the database\n",
    "conn.commit()"
   ]
  },
  {
   "cell_type": "markdown",
   "id": "9e8bad07-ef74-40fd-a93b-e7897df0c591",
   "metadata": {
    "tags": []
   },
   "source": [
    "# Close connections"
   ]
  },
  {
   "cell_type": "code",
   "execution_count": 53,
   "id": "e5673501-5845-491a-bbb9-f5d213721d58",
   "metadata": {
    "tags": []
   },
   "outputs": [],
   "source": [
    "cursor.close()\n",
    "conn.close()\n",
    "tunnel.stop()"
   ]
  },
  {
   "cell_type": "code",
   "execution_count": null,
   "id": "24a11ffe-ea9f-4258-b15a-da35eb45a1d4",
   "metadata": {},
   "outputs": [],
   "source": []
  }
 ],
 "metadata": {
  "@deathbeds/ipydrawio": {
   "xml": ""
  },
  "kernelspec": {
   "display_name": ".conda-histdb_env",
   "language": "python",
   "name": "conda-env-.conda-histdb_env-py"
  },
  "language_info": {
   "codemirror_mode": {
    "name": "ipython",
    "version": 3
   },
   "file_extension": ".py",
   "mimetype": "text/x-python",
   "name": "python",
   "nbconvert_exporter": "python",
   "pygments_lexer": "ipython3",
   "version": "3.8.1"
  }
 },
 "nbformat": 4,
 "nbformat_minor": 5
}
