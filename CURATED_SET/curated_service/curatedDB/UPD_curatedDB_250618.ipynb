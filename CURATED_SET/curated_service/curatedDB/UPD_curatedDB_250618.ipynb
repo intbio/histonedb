{
 "cells": [
  {
   "cell_type": "code",
   "execution_count": 1,
   "id": "53d3ec55-7daf-4ade-8add-2830b709dc54",
   "metadata": {
    "tags": []
   },
   "outputs": [],
   "source": [
    "import io\n",
    "\n",
    "import pandas as pd\n",
    "from Bio import Entrez, SeqIO\n",
    "from mysql.connector import connection\n",
    "from sshtunnel import SSHTunnelForwarder\n",
    "\n",
    "# Укажите ваш email (обязательно для использования Entrez)\n",
    "Entrez.email = \"your.email@example.com\""
   ]
  },
  {
   "cell_type": "code",
   "execution_count": 2,
   "id": "608c4bfe-b979-4b60-b2b5-b94eeb679cb5",
   "metadata": {
    "tags": []
   },
   "outputs": [],
   "source": [
    "with open(\"db_curated_server_info.txt\", \"r\") as file:\n",
    "    lines = file.readlines()\n",
    "\n",
    "config = {}\n",
    "\n",
    "for line in lines:\n",
    "    line = line.strip()\n",
    "    if line and not line.startswith(\"#\"):\n",
    "        key, value = line.split(\"=\", 1)\n",
    "        config[key] = value.strip()\n",
    "\n",
    "server_name = config.get(\"server_name\")\n",
    "srever_port = int(config.get(\"srever_port\"))\n",
    "ssh_password = config.get(\"ssh_password\")\n",
    "ssh_username = config.get(\"ssh_username\")\n",
    "db_adress = config.get(\"db_adress\")\n",
    "db_port = int(config.get(\"db_port\"))"
   ]
  },
  {
   "cell_type": "code",
   "execution_count": 3,
   "id": "4e19aa1c-49a3-48c4-b67f-34c94cef608d",
   "metadata": {
    "tags": []
   },
   "outputs": [
    {
     "name": "stdout",
     "output_type": "stream",
     "text": [
      "36687\n"
     ]
    }
   ],
   "source": [
    "tunnel = SSHTunnelForwarder(\n",
    "    (server_name, srever_port),\n",
    "    ssh_password=ssh_password,\n",
    "    ssh_username=ssh_username,\n",
    "    remote_bind_address=(db_adress, db_port),\n",
    ")\n",
    "tunnel.start()\n",
    "print(tunnel.local_bind_port)"
   ]
  },
  {
   "cell_type": "code",
   "execution_count": 4,
   "id": "cef2275b-12d0-48f1-ad3c-ce4cdb9aa267",
   "metadata": {
    "tags": []
   },
   "outputs": [],
   "source": [
    "conn = connection.MySQLConnection(\n",
    "    user=\"db_user\",\n",
    "    password=\"db_password\",\n",
    "    host=\"localhost\",\n",
    "    port=tunnel.local_bind_port,\n",
    "    database=\"db_name\",\n",
    ")\n",
    "cursor = conn.cursor()"
   ]
  },
  {
   "cell_type": "code",
   "execution_count": 5,
   "id": "f589ea8d-8b83-4331-a1cf-b64ed7621801",
   "metadata": {
    "tags": []
   },
   "outputs": [
    {
     "data": {
      "text/plain": [
       "[('alternative_name',),\n",
       " ('histone',),\n",
       " ('histone_description',),\n",
       " ('histone_has_publication',),\n",
       " ('publication',),\n",
       " ('sequence',),\n",
       " ('sequence_has_publication',)]"
      ]
     },
     "execution_count": 5,
     "metadata": {},
     "output_type": "execute_result"
    }
   ],
   "source": [
    "query = \"SHOW TABLES;\"\n",
    "cursor.execute(query)\n",
    "cursor.fetchall()"
   ]
  },
  {
   "cell_type": "code",
   "execution_count": 84,
   "id": "b3dd9ef8-b162-4127-9535-ac7743af8c69",
   "metadata": {
    "tags": []
   },
   "outputs": [],
   "source": [
    "add_histone = (\n",
    "    \"INSERT INTO histone \"\n",
    "    \"(id, level, taxonomic_span, taxonomic_span_id, description, parent) \"\n",
    "    \"VALUES (%(id)s, %(level)s, %(taxonomic_span)s, %(taxonomic_span_id)s, %(description)s, %(parent)s)\"\n",
    ")\n",
    "add_histone_description = (\n",
    "    \"INSERT INTO histone_description \"\n",
    "    \"(summary, taxonomy, genes, evolution, expression, knock_out, function, sequence, localization, deposition, structure, interactions, disease, caveats) \"\n",
    "    \"VALUES (%s, %s, %s, %s, %s, %s, %s, %s, %s, %s, %s, %s, %s, %s)\"\n",
    ")\n",
    "add_publication = (\n",
    "    \"INSERT INTO publication \"\n",
    "    \"(id, title, doi, author, year) \"\n",
    "    \"VALUES (%(id)s, %(title)s, %(doi)s, %(author)s, %(year)s)\"\n",
    ")\n",
    "add_sequence = (\n",
    "    \"INSERT INTO sequence \"\n",
    "    \"(accession, variant, gi, ncbi_gene_id, hgnc_gene_name, taxonomy_id, organism, phylum, class, taxonomy_group, info, sequence, variant_under_consideration) \"\n",
    "    \"VALUES (%(accession)s, %(variant)s, %(gi)s, %(ncbi_gene_id)s, %(hgnc_gene_name)s, %(taxonomy_id)s, %(organism)s, %(phylum)s, %(class)s, %(taxonomy_group)s, %(info)s, %(sequence)s, %(variant_under_consideration)s)\"\n",
    ")\n",
    "add_sequence_has_publication = (\n",
    "    \"INSERT INTO sequence_has_publication \"\n",
    "    \"(sequence_accession, publication_id) \"\n",
    "    \"VALUES (%s, %s)\"\n",
    ")\n",
    "# add_alternate_names = (\n",
    "#     \"INSERT INTO alternative_name \"\n",
    "#     \"(name, taxonomy, gene, splice, histone) \"\n",
    "#     \"VALUES (%(name)s, %(taxonomy)s, %(gene)s, %(splice)s, %(histone)s)\"\n",
    "# )\n",
    "add_histone_has_publication = (\n",
    "    \"INSERT INTO histone_has_publication \"\n",
    "    \"(histone_id, publication_id) \"\n",
    "    \"VALUES (%s, %s)\"\n",
    ")"
   ]
  },
  {
   "cell_type": "code",
   "execution_count": 55,
   "id": "aac114a4-6ff3-4f91-9619-9100f6abe671",
   "metadata": {
    "tags": []
   },
   "outputs": [],
   "source": [
    "def get_taxonomy_data(record):\n",
    "    import re\n",
    "    import sys\n",
    "\n",
    "    taxonomy_data = {}\n",
    "    taxonomy_data[\"organism\"] = record.annotations[\"organism\"]\n",
    "    try:\n",
    "        for a in record.features[0].qualifiers[\"db_xref\"]:\n",
    "            text = re.search(\"(\\S+):(\\S+)\", a).group(1)\n",
    "            taxid = re.search(\"(\\S+):(\\S+)\", a).group(2)\n",
    "            if text == \"taxon\":\n",
    "                print(f\"Fetched taxid from NCBI {taxid}\")\n",
    "                taxonomy_data[\"taxonomy_id\"] = int(taxid)\n",
    "            else:\n",
    "                continue\n",
    "    except:\n",
    "        print(\"!!!!!!Unable to get TAXID for this record setting it to 1\")\n",
    "        taxonomy_data[\"taxonomy_id\"] = 1  # unable to identify\n",
    "\n",
    "    lineage = dict()\n",
    "    for i in range(10):\n",
    "        try:\n",
    "            handle = Entrez.efetch(\n",
    "                id=taxonomy_data[\"taxonomy_id\"], db=\"taxonomy\", retmode=\"xml\"\n",
    "            )\n",
    "            tax_data = Entrez.read(handle)\n",
    "            lineage = {\n",
    "                d[\"Rank\"]: d[\"ScientificName\"]\n",
    "                for d in tax_data[0][\"LineageEx\"]\n",
    "                if d[\"Rank\"] in [\"class\", \"phylum\"]\n",
    "            }\n",
    "            break\n",
    "        except:\n",
    "            print(\n",
    "                \"Unexpected error: {}, Retrying, attempt {}\".format(\n",
    "                    sys.exc_info()[0], i\n",
    "                )\n",
    "            )\n",
    "            if i == 9:\n",
    "                print(\n",
    "                    f\"FATAL ERROR could not get class and phylum from NCBI after 10 attempts for taxid:{taxonomy_data['taxonomy_id']}. Will add None for class and phylum!\"\n",
    "                )\n",
    "            else:\n",
    "                continue\n",
    "    taxonomy_data[\"phylum\"] = lineage.get(\"phylum\", None)\n",
    "    taxonomy_data[\"class\"] = lineage.get(\"class\", None)\n",
    "    if taxonomy_data[\"phylum\"] is not None:\n",
    "        taxonomy_data[\"phylum\"] = str(taxonomy_data[\"phylum\"])\n",
    "    if taxonomy_data[\"class\"] is not None:\n",
    "        taxonomy_data[\"class\"] = str(taxonomy_data[\"class\"])\n",
    "    return taxonomy_data"
   ]
  },
  {
   "cell_type": "markdown",
   "id": "c060c047-3e7d-4095-b608-9722031af692",
   "metadata": {
    "tags": []
   },
   "source": [
    "# Done\n",
    "\n",
    "## <span style=\"color:green\">Add to description of cenH3_(Plants):\n",
    "\n",
    "    ```\n",
    "    While most diploid eukaryotes and flowering plants maintain only one CENH3 gene copy (even after whole-genome duplications), some diploid species like Arabidopsis lyrata, barley, rye, pea, and related legumes retain two functional CENH3 homologs [ishii_unequal_2020].\n",
    "    ```\n",
    "</span>\n",
    "\n",
    "## <span style=\"color:green\">Add node cenH3_(Vigna_unguiculata) before children nodes cenH3.1_(Vigna_unguiculata) and cenH3.2_(Vigna_unguiculata).</span>\n",
    "\n",
    "## <span style=\"color:green\">Add node cenH3_(Triticeae) after cenH3_(Plants).</span>\n",
    "\n",
    "## <span style=\"color:green\">Add two children nodes for cenH3_(Triticeae): cenH3.1_(Triticeae) and cenH3.1_(Triticeae)</span>\n",
    "\n",
    "## <span style=\"color:green\">Add descriptions and publication for new nodes [yuan_characterization_2015]</span>\n",
    "\n",
    "## <span style=\"color:green\">Add sequences for cenH3.1_(Triticeae) and cenH3.1_(Triticeae)</span>\n",
    "\n",
    "## See more in DeepSeek \"Отличия αCENH3 и βCENH3 в пшенице\""
   ]
  },
  {
   "cell_type": "markdown",
   "id": "7ea443fb-fe7f-4932-a1fa-464f7d70b266",
   "metadata": {
    "tags": []
   },
   "source": [
    "Вот структурированная выгрузка ключевых выводов из нашего обсуждения статьи **Yuan et al. (2015)** о генах *αCENH3* и *βCENH3* у пшеницы и родственных видов:\n",
    "\n",
    "---\n",
    "\n",
    "### **1. Основные открытия статьи [yuan_characterization_2015]**  \n",
    "- **Два гена *CENH3*** (*α* и *β*) обнаружены у:  \n",
    "  - Всех изученных видов *Triticum* (диплоиды, тетраплоиды, гексаплоиды).  \n",
    "  - Диплоидных предков (*Aegilops speltoides* (SS), *Ae. tauschii* (DD)).  \n",
    "  - Ячменя (*Hordeum vulgare*).  \n",
    "- **Функциональные различия**:  \n",
    "  - *αCENH3* критичен для митоза и развития растений. Подавление экспрессии *αCENH3* приводит к сильной карликовости и ослаблению корневой системы, что указывает на его критическую роль в развитии растения.\n",
    "  - *βCENH3* важен для репродукции и адаптации полиплоидов. Подавление *βCENH3* вызывает менее выраженные фенотипические изменения, но снижает репродуктивную способность, что предполагает его специализированную роль в репродуктивном развитии.\n",
    "\n",
    "**Цитата**:  \n",
    "> *\"Plants inoculated with BSMV:αCENH3 were extremely dwarfed [...] while BSMV:βCENH3-treated plants produced very few seeds.\"*  \n",
    "\n",
    "---\n",
    "\n",
    "### **2. Таксономические уточнения**  \n",
    "- **Не все злаки имеют два гена**:  \n",
    "  - Один ген: рис (*Oryza*), кукуруза (*Zea*), сорго (*Sorghum*).  \n",
    "  - Два гена: пшеница (*Triticum*), ячмень (*Hordeum*), *Aegilops*.  \n",
    "- **Aegilops ≠ пшеница**:  \n",
    "  - *Ae. speltoides* (SS) — дикий предок B-генома пшеницы, но относится к другому роду.  \n",
    "\n",
    "**Цитата**:  \n",
    "> *\"Tetraploid wheat evolved through hybridization between Triticum (AA) and Aegilops (SS).\"*  \n",
    "\n",
    "---\n",
    "\n",
    "### **3. Методология**  \n",
    "- **Экспериментальное открытие *βCENH3***:  \n",
    "  - ПЦР с праймерами P1/P2 на консервативном участке CATD.  \n",
    "  - Не биоинформатика (BLAST выявил только *αCENH3*).  \n",
    "- **Подтверждение**:  \n",
    "  - Секвенирование, FISH, VIGS, филогенетический анализ.  \n",
    "\n",
    "**Цитата**:  \n",
    "> *\"Using primers P1 and P2, we identified a second CENH3, named βCENH3.\"*  \n",
    "\n",
    "---\n",
    "\n",
    "### **4. Ограничения и открытые вопросы**  \n",
    "- **Не все *Triticinae* изучены**:  \n",
    "  - Нет данных по родам *Ambylopyrum*, *Henrardia* и др.  \n",
    "- **Причины дупликации**:  \n",
    "  - Предполагается общий предок *Pooideae* (~13 млн лет назад), но механизмы не ясны.  \n",
    "\n",
    "---\n",
    "\n",
    "### **5. Ключевые цитаты**  \n",
    "1. О роли *βCENH3*:  \n",
    "   > *\"βCENH3 is under positive selection in cultivated tetraploids, suggesting adaptive evolution.\"*  \n",
    "2. О локализации:  \n",
    "   > *\"αCENH3 is present at all mitotic stages, while βCENH3 is detected mainly in interphase.\"*  \n"
   ]
  },
  {
   "cell_type": "markdown",
   "id": "aecb4925-ad73-4327-bf32-97181b92405c",
   "metadata": {},
   "source": [
    "# Add to description of cenH3_(Plants)\n",
    "\n",
    "\n",
    "    ```\n",
    "    While most diploid eukaryotes and flowering plants maintain only one CENH3 gene copy (even after whole-genome duplications), some diploid species like Arabidopsis lyrata, barley, rye, pea, and related legumes retain two functional CENH3 homologs [ishii_unequal_2020].\n",
    "    ```"
   ]
  },
  {
   "cell_type": "code",
   "execution_count": 7,
   "id": "b4059eb8-f278-481d-848d-ec9f7d287980",
   "metadata": {
    "tags": []
   },
   "outputs": [
    {
     "data": {
      "text/html": [
       "<div>\n",
       "<style scoped>\n",
       "    .dataframe tbody tr th:only-of-type {\n",
       "        vertical-align: middle;\n",
       "    }\n",
       "\n",
       "    .dataframe tbody tr th {\n",
       "        vertical-align: top;\n",
       "    }\n",
       "\n",
       "    .dataframe thead th {\n",
       "        text-align: right;\n",
       "    }\n",
       "</style>\n",
       "<table border=\"1\" class=\"dataframe\">\n",
       "  <thead>\n",
       "    <tr style=\"text-align: right;\">\n",
       "      <th></th>\n",
       "      <th>id</th>\n",
       "      <th>level</th>\n",
       "      <th>taxonomic_span</th>\n",
       "      <th>taxonomic_span_id</th>\n",
       "      <th>description</th>\n",
       "      <th>parent</th>\n",
       "      <th>id</th>\n",
       "      <th>summary</th>\n",
       "      <th>taxonomy</th>\n",
       "      <th>genes</th>\n",
       "      <th>...</th>\n",
       "      <th>knock_out</th>\n",
       "      <th>function</th>\n",
       "      <th>sequence</th>\n",
       "      <th>localization</th>\n",
       "      <th>deposition</th>\n",
       "      <th>structure</th>\n",
       "      <th>interactions</th>\n",
       "      <th>disease</th>\n",
       "      <th>caveats</th>\n",
       "      <th>relations</th>\n",
       "    </tr>\n",
       "  </thead>\n",
       "  <tbody>\n",
       "    <tr>\n",
       "      <th>0</th>\n",
       "      <td>cenH3_(Plants)</td>\n",
       "      <td>variant</td>\n",
       "      <td>Eukaryotes</td>\n",
       "      <td>2759</td>\n",
       "      <td>None</td>\n",
       "      <td>cenH3</td>\n",
       "      <td>None</td>\n",
       "      <td>None</td>\n",
       "      <td>None</td>\n",
       "      <td>None</td>\n",
       "      <td>...</td>\n",
       "      <td>None</td>\n",
       "      <td>None</td>\n",
       "      <td>None</td>\n",
       "      <td>None</td>\n",
       "      <td>None</td>\n",
       "      <td>None</td>\n",
       "      <td>None</td>\n",
       "      <td>None</td>\n",
       "      <td>None</td>\n",
       "      <td>None</td>\n",
       "    </tr>\n",
       "  </tbody>\n",
       "</table>\n",
       "<p>1 rows × 22 columns</p>\n",
       "</div>"
      ],
      "text/plain": [
       "               id    level taxonomic_span taxonomic_span_id description  \\\n",
       "0  cenH3_(Plants)  variant     Eukaryotes              2759        None   \n",
       "\n",
       "  parent    id summary taxonomy genes  ... knock_out function sequence  \\\n",
       "0  cenH3  None    None     None  None  ...      None     None     None   \n",
       "\n",
       "  localization deposition structure interactions disease caveats relations  \n",
       "0         None       None      None         None    None    None      None  \n",
       "\n",
       "[1 rows x 22 columns]"
      ]
     },
     "execution_count": 7,
     "metadata": {},
     "output_type": "execute_result"
    }
   ],
   "source": [
    "query = (\n",
    "    \"SELECT * FROM histone h LEFT JOIN histone_description hd \"\n",
    "    \"ON h.description = hd.id \"\n",
    "    \"WHERE h.id='cenH3_(Plants)'\"\n",
    ")\n",
    "cursor.execute(query)\n",
    "pd.DataFrame(cursor.fetchall(), columns=[i[0] for i in cursor.description])"
   ]
  },
  {
   "cell_type": "code",
   "execution_count": 10,
   "id": "2d0f2248-699c-4377-9416-6b7eb93fe675",
   "metadata": {
    "tags": []
   },
   "outputs": [],
   "source": [
    "histone_desc_summary = \"cenH3_(Plants) is a centromere-specific histone variant in Plants. This is a subclass of cenH3 (see it for a detailed description).\"\n",
    "genes_desc = \"While most diploid eukaryotes and flowering plants maintain only one CENH3 gene copy (even after whole-genome duplications), some diploid species like Arabidopsis lyrata, barley, rye, pea, and related legumes retain two functional CENH3 homologs [ishii_unequal_2020].\"\n",
    "data_histone_description = (histone_desc_summary, None, genes_desc) + (None,) * 11\n",
    "cursor.execute(add_histone_description, data_histone_description)\n",
    "\n",
    "histone_description_id = cursor.lastrowid\n",
    "query = (\n",
    "    f\"UPDATE histone SET description={histone_description_id} WHERE id='cenH3_(Plants)'\"\n",
    ")\n",
    "cursor.execute(query)"
   ]
  },
  {
   "cell_type": "code",
   "execution_count": 11,
   "id": "fad5f4f9-b021-41e1-aadf-e911e5feb3f5",
   "metadata": {
    "tags": []
   },
   "outputs": [
    {
     "data": {
      "text/html": [
       "<div>\n",
       "<style scoped>\n",
       "    .dataframe tbody tr th:only-of-type {\n",
       "        vertical-align: middle;\n",
       "    }\n",
       "\n",
       "    .dataframe tbody tr th {\n",
       "        vertical-align: top;\n",
       "    }\n",
       "\n",
       "    .dataframe thead th {\n",
       "        text-align: right;\n",
       "    }\n",
       "</style>\n",
       "<table border=\"1\" class=\"dataframe\">\n",
       "  <thead>\n",
       "    <tr style=\"text-align: right;\">\n",
       "      <th></th>\n",
       "      <th>id</th>\n",
       "      <th>level</th>\n",
       "      <th>taxonomic_span</th>\n",
       "      <th>taxonomic_span_id</th>\n",
       "      <th>description</th>\n",
       "      <th>parent</th>\n",
       "      <th>id</th>\n",
       "      <th>summary</th>\n",
       "      <th>taxonomy</th>\n",
       "      <th>genes</th>\n",
       "      <th>...</th>\n",
       "      <th>knock_out</th>\n",
       "      <th>function</th>\n",
       "      <th>sequence</th>\n",
       "      <th>localization</th>\n",
       "      <th>deposition</th>\n",
       "      <th>structure</th>\n",
       "      <th>interactions</th>\n",
       "      <th>disease</th>\n",
       "      <th>caveats</th>\n",
       "      <th>relations</th>\n",
       "    </tr>\n",
       "  </thead>\n",
       "  <tbody>\n",
       "    <tr>\n",
       "      <th>0</th>\n",
       "      <td>cenH3_(Plants)</td>\n",
       "      <td>variant</td>\n",
       "      <td>Eukaryotes</td>\n",
       "      <td>2759</td>\n",
       "      <td>233</td>\n",
       "      <td>cenH3</td>\n",
       "      <td>233</td>\n",
       "      <td>cenH3_(Plants) is a centromere-specific histon...</td>\n",
       "      <td>None</td>\n",
       "      <td>While most diploid eukaryotes and flowering pl...</td>\n",
       "      <td>...</td>\n",
       "      <td>None</td>\n",
       "      <td>None</td>\n",
       "      <td>None</td>\n",
       "      <td>None</td>\n",
       "      <td>None</td>\n",
       "      <td>None</td>\n",
       "      <td>None</td>\n",
       "      <td>None</td>\n",
       "      <td>None</td>\n",
       "      <td>None</td>\n",
       "    </tr>\n",
       "  </tbody>\n",
       "</table>\n",
       "<p>1 rows × 22 columns</p>\n",
       "</div>"
      ],
      "text/plain": [
       "               id    level taxonomic_span taxonomic_span_id  description  \\\n",
       "0  cenH3_(Plants)  variant     Eukaryotes              2759          233   \n",
       "\n",
       "  parent   id                                            summary taxonomy  \\\n",
       "0  cenH3  233  cenH3_(Plants) is a centromere-specific histon...     None   \n",
       "\n",
       "                                               genes  ... knock_out function  \\\n",
       "0  While most diploid eukaryotes and flowering pl...  ...      None     None   \n",
       "\n",
       "  sequence localization deposition structure interactions disease caveats  \\\n",
       "0     None         None       None      None         None    None    None   \n",
       "\n",
       "  relations  \n",
       "0      None  \n",
       "\n",
       "[1 rows x 22 columns]"
      ]
     },
     "execution_count": 11,
     "metadata": {},
     "output_type": "execute_result"
    }
   ],
   "source": [
    "query = (\n",
    "    \"SELECT * FROM histone h LEFT JOIN histone_description hd \"\n",
    "    \"ON h.description = hd.id \"\n",
    "    \"WHERE h.id='cenH3_(Plants)'\"\n",
    ")\n",
    "cursor.execute(query)\n",
    "pd.DataFrame(cursor.fetchall(), columns=[i[0] for i in cursor.description])"
   ]
  },
  {
   "cell_type": "code",
   "execution_count": 12,
   "id": "03599edf-b14f-4b3f-9602-39f6878e1d69",
   "metadata": {
    "tags": []
   },
   "outputs": [],
   "source": [
    "# Make sure data is committed to the database\n",
    "conn.commit()"
   ]
  },
  {
   "cell_type": "markdown",
   "id": "a4addb7f-3205-4a0f-bf5f-59a8d60f0e7e",
   "metadata": {},
   "source": [
    "# Add node cenH3_(Vigna_unguiculata) before children nodes cenH3.1_(Vigna_unguiculata) and cenH3.2_(Vigna_unguiculata)"
   ]
  },
  {
   "cell_type": "code",
   "execution_count": 14,
   "id": "832e94de-4ab7-42d0-993f-3f85a4ed53c3",
   "metadata": {
    "tags": []
   },
   "outputs": [],
   "source": [
    "data_histone = {\n",
    "    \"id\": \"cenH3_(Vigna_unguiculata)\",\n",
    "    \"level\": \"variant\",\n",
    "    \"taxonomic_span\": \"Vigna unguiculata\",\n",
    "    \"taxonomic_span_id\": \"3917\",\n",
    "    \"description\": None,\n",
    "    \"parent\": \"cenH3_(Plants)\",\n",
    "}\n",
    "cursor.execute(add_histone, data_histone)"
   ]
  },
  {
   "cell_type": "code",
   "execution_count": 15,
   "id": "024c28cb-49cb-4d6b-8acb-6c474ddc2254",
   "metadata": {
    "tags": []
   },
   "outputs": [
    {
     "data": {
      "text/html": [
       "<div>\n",
       "<style scoped>\n",
       "    .dataframe tbody tr th:only-of-type {\n",
       "        vertical-align: middle;\n",
       "    }\n",
       "\n",
       "    .dataframe tbody tr th {\n",
       "        vertical-align: top;\n",
       "    }\n",
       "\n",
       "    .dataframe thead th {\n",
       "        text-align: right;\n",
       "    }\n",
       "</style>\n",
       "<table border=\"1\" class=\"dataframe\">\n",
       "  <thead>\n",
       "    <tr style=\"text-align: right;\">\n",
       "      <th></th>\n",
       "      <th>id</th>\n",
       "      <th>level</th>\n",
       "      <th>taxonomic_span</th>\n",
       "      <th>taxonomic_span_id</th>\n",
       "      <th>description</th>\n",
       "      <th>parent</th>\n",
       "    </tr>\n",
       "  </thead>\n",
       "  <tbody>\n",
       "    <tr>\n",
       "      <th>12</th>\n",
       "      <td>cenH3_(Vigna_unguiculata)</td>\n",
       "      <td>variant</td>\n",
       "      <td>Vigna unguiculata</td>\n",
       "      <td>3917</td>\n",
       "      <td>NaN</td>\n",
       "      <td>cenH3_(Plants)</td>\n",
       "    </tr>\n",
       "  </tbody>\n",
       "</table>\n",
       "</div>"
      ],
      "text/plain": [
       "                           id    level     taxonomic_span taxonomic_span_id  \\\n",
       "12  cenH3_(Vigna_unguiculata)  variant  Vigna unguiculata              3917   \n",
       "\n",
       "    description          parent  \n",
       "12          NaN  cenH3_(Plants)  "
      ]
     },
     "execution_count": 15,
     "metadata": {},
     "output_type": "execute_result"
    }
   ],
   "source": [
    "query = \"SELECT * FROM histone\"\n",
    "cursor.execute(query)\n",
    "histone_df = pd.DataFrame(cursor.fetchall(), columns=[i[0] for i in cursor.description])\n",
    "histone_df[histone_df[\"id\"].isin([\"cenH3_(Vigna_unguiculata)\"])]"
   ]
  },
  {
   "cell_type": "code",
   "execution_count": 16,
   "id": "b0a2236a-7739-429a-8806-f7e3bd3688b1",
   "metadata": {
    "tags": []
   },
   "outputs": [],
   "source": [
    "# Make sure data is committed to the database\n",
    "conn.commit()"
   ]
  },
  {
   "cell_type": "code",
   "execution_count": 17,
   "id": "51b2f54d-9cd5-4dd0-b0b1-86ee86b76869",
   "metadata": {
    "tags": []
   },
   "outputs": [
    {
     "data": {
      "text/html": [
       "<div>\n",
       "<style scoped>\n",
       "    .dataframe tbody tr th:only-of-type {\n",
       "        vertical-align: middle;\n",
       "    }\n",
       "\n",
       "    .dataframe tbody tr th {\n",
       "        vertical-align: top;\n",
       "    }\n",
       "\n",
       "    .dataframe thead th {\n",
       "        text-align: right;\n",
       "    }\n",
       "</style>\n",
       "<table border=\"1\" class=\"dataframe\">\n",
       "  <thead>\n",
       "    <tr style=\"text-align: right;\">\n",
       "      <th></th>\n",
       "      <th>id</th>\n",
       "      <th>level</th>\n",
       "      <th>taxonomic_span</th>\n",
       "      <th>taxonomic_span_id</th>\n",
       "      <th>description</th>\n",
       "      <th>parent</th>\n",
       "    </tr>\n",
       "  </thead>\n",
       "  <tbody>\n",
       "    <tr>\n",
       "      <th>5</th>\n",
       "      <td>cenH3.1_(Vigna_unguiculata)</td>\n",
       "      <td>variant</td>\n",
       "      <td>Vigna unguiculata</td>\n",
       "      <td>3917</td>\n",
       "      <td>231.0</td>\n",
       "      <td>cenH3_(Plants)</td>\n",
       "    </tr>\n",
       "    <tr>\n",
       "      <th>6</th>\n",
       "      <td>cenH3.2_(Vigna_unguiculata)</td>\n",
       "      <td>variant</td>\n",
       "      <td>Vigna unguiculata</td>\n",
       "      <td>3917</td>\n",
       "      <td>232.0</td>\n",
       "      <td>cenH3_(Plants)</td>\n",
       "    </tr>\n",
       "  </tbody>\n",
       "</table>\n",
       "</div>"
      ],
      "text/plain": [
       "                            id    level     taxonomic_span taxonomic_span_id  \\\n",
       "5  cenH3.1_(Vigna_unguiculata)  variant  Vigna unguiculata              3917   \n",
       "6  cenH3.2_(Vigna_unguiculata)  variant  Vigna unguiculata              3917   \n",
       "\n",
       "   description          parent  \n",
       "5        231.0  cenH3_(Plants)  \n",
       "6        232.0  cenH3_(Plants)  "
      ]
     },
     "execution_count": 17,
     "metadata": {},
     "output_type": "execute_result"
    }
   ],
   "source": [
    "query = \"SELECT * FROM histone\"\n",
    "cursor.execute(query)\n",
    "histone_df = pd.DataFrame(cursor.fetchall(), columns=[i[0] for i in cursor.description])\n",
    "histone_df[\n",
    "    histone_df[\"id\"].isin(\n",
    "        [\"cenH3.1_(Vigna_unguiculata)\", \"cenH3.2_(Vigna_unguiculata)\"]\n",
    "    )\n",
    "]"
   ]
  },
  {
   "cell_type": "code",
   "execution_count": 19,
   "id": "cd2441a2-b8d0-4ad2-8a97-ed06491446b2",
   "metadata": {
    "tags": []
   },
   "outputs": [
    {
     "name": "stdout",
     "output_type": "stream",
     "text": [
      "UPDATE histone SET parent='cenH3_(Vigna_unguiculata)' WHERE id='cenH3.1_(Vigna_unguiculata)'\n"
     ]
    }
   ],
   "source": [
    "query = f\"UPDATE histone SET parent='cenH3_(Vigna_unguiculata)' WHERE id='cenH3.1_(Vigna_unguiculata)'\"\n",
    "print(query)\n",
    "cursor.execute(query)"
   ]
  },
  {
   "cell_type": "code",
   "execution_count": 21,
   "id": "3acd8159-e46e-473f-bbfc-d41650f89a2d",
   "metadata": {
    "tags": []
   },
   "outputs": [
    {
     "name": "stdout",
     "output_type": "stream",
     "text": [
      "UPDATE histone SET parent='cenH3_(Vigna_unguiculata)' WHERE id='cenH3.2_(Vigna_unguiculata)'\n"
     ]
    }
   ],
   "source": [
    "query = f\"UPDATE histone SET parent='cenH3_(Vigna_unguiculata)' WHERE id='cenH3.2_(Vigna_unguiculata)'\"\n",
    "print(query)\n",
    "cursor.execute(query)"
   ]
  },
  {
   "cell_type": "code",
   "execution_count": 22,
   "id": "d1ff1be9-61a2-4b52-9bd1-4d1598cb6b8c",
   "metadata": {
    "tags": []
   },
   "outputs": [
    {
     "data": {
      "text/html": [
       "<div>\n",
       "<style scoped>\n",
       "    .dataframe tbody tr th:only-of-type {\n",
       "        vertical-align: middle;\n",
       "    }\n",
       "\n",
       "    .dataframe tbody tr th {\n",
       "        vertical-align: top;\n",
       "    }\n",
       "\n",
       "    .dataframe thead th {\n",
       "        text-align: right;\n",
       "    }\n",
       "</style>\n",
       "<table border=\"1\" class=\"dataframe\">\n",
       "  <thead>\n",
       "    <tr style=\"text-align: right;\">\n",
       "      <th></th>\n",
       "      <th>id</th>\n",
       "      <th>level</th>\n",
       "      <th>taxonomic_span</th>\n",
       "      <th>taxonomic_span_id</th>\n",
       "      <th>description</th>\n",
       "      <th>parent</th>\n",
       "    </tr>\n",
       "  </thead>\n",
       "  <tbody>\n",
       "    <tr>\n",
       "      <th>5</th>\n",
       "      <td>cenH3.1_(Vigna_unguiculata)</td>\n",
       "      <td>variant</td>\n",
       "      <td>Vigna unguiculata</td>\n",
       "      <td>3917</td>\n",
       "      <td>231.0</td>\n",
       "      <td>cenH3_(Vigna_unguiculata)</td>\n",
       "    </tr>\n",
       "    <tr>\n",
       "      <th>6</th>\n",
       "      <td>cenH3.2_(Vigna_unguiculata)</td>\n",
       "      <td>variant</td>\n",
       "      <td>Vigna unguiculata</td>\n",
       "      <td>3917</td>\n",
       "      <td>232.0</td>\n",
       "      <td>cenH3_(Vigna_unguiculata)</td>\n",
       "    </tr>\n",
       "  </tbody>\n",
       "</table>\n",
       "</div>"
      ],
      "text/plain": [
       "                            id    level     taxonomic_span taxonomic_span_id  \\\n",
       "5  cenH3.1_(Vigna_unguiculata)  variant  Vigna unguiculata              3917   \n",
       "6  cenH3.2_(Vigna_unguiculata)  variant  Vigna unguiculata              3917   \n",
       "\n",
       "   description                     parent  \n",
       "5        231.0  cenH3_(Vigna_unguiculata)  \n",
       "6        232.0  cenH3_(Vigna_unguiculata)  "
      ]
     },
     "execution_count": 22,
     "metadata": {},
     "output_type": "execute_result"
    }
   ],
   "source": [
    "query = \"SELECT * FROM histone\"\n",
    "cursor.execute(query)\n",
    "histone_df = pd.DataFrame(cursor.fetchall(), columns=[i[0] for i in cursor.description])\n",
    "histone_df[\n",
    "    histone_df[\"id\"].isin(\n",
    "        [\"cenH3.1_(Vigna_unguiculata)\", \"cenH3.2_(Vigna_unguiculata)\"]\n",
    "    )\n",
    "]"
   ]
  },
  {
   "cell_type": "code",
   "execution_count": 23,
   "id": "2638b5f9-f688-4f92-b1ca-ed7ff8db61dc",
   "metadata": {
    "tags": []
   },
   "outputs": [],
   "source": [
    "# Make sure data is committed to the database\n",
    "conn.commit()"
   ]
  },
  {
   "cell_type": "markdown",
   "id": "0696acdd-6024-48a0-8843-3cba0f52f1df",
   "metadata": {},
   "source": [
    "# Add node cenH3_(Triticeae) after cenH3_(Plants)"
   ]
  },
  {
   "cell_type": "code",
   "execution_count": 24,
   "id": "8a24217b-3297-40d7-b3a9-8df780790db6",
   "metadata": {
    "tags": []
   },
   "outputs": [],
   "source": [
    "data_histone = {\n",
    "    \"id\": \"cenH3_(Triticeae)\",\n",
    "    \"level\": \"variant\",\n",
    "    \"taxonomic_span\": \"Triticeae(?)\",\n",
    "    \"taxonomic_span_id\": \"147389\",\n",
    "    \"description\": None,\n",
    "    \"parent\": \"cenH3_(Plants)\",\n",
    "}\n",
    "cursor.execute(add_histone, data_histone)"
   ]
  },
  {
   "cell_type": "code",
   "execution_count": 25,
   "id": "e84c3dac-2d0c-4429-93a0-3ef780177aae",
   "metadata": {
    "tags": []
   },
   "outputs": [
    {
     "data": {
      "text/html": [
       "<div>\n",
       "<style scoped>\n",
       "    .dataframe tbody tr th:only-of-type {\n",
       "        vertical-align: middle;\n",
       "    }\n",
       "\n",
       "    .dataframe tbody tr th {\n",
       "        vertical-align: top;\n",
       "    }\n",
       "\n",
       "    .dataframe thead th {\n",
       "        text-align: right;\n",
       "    }\n",
       "</style>\n",
       "<table border=\"1\" class=\"dataframe\">\n",
       "  <thead>\n",
       "    <tr style=\"text-align: right;\">\n",
       "      <th></th>\n",
       "      <th>id</th>\n",
       "      <th>level</th>\n",
       "      <th>taxonomic_span</th>\n",
       "      <th>taxonomic_span_id</th>\n",
       "      <th>description</th>\n",
       "      <th>parent</th>\n",
       "    </tr>\n",
       "  </thead>\n",
       "  <tbody>\n",
       "    <tr>\n",
       "      <th>12</th>\n",
       "      <td>cenH3_(Triticeae)</td>\n",
       "      <td>variant</td>\n",
       "      <td>Triticeae(?)</td>\n",
       "      <td>147389</td>\n",
       "      <td>NaN</td>\n",
       "      <td>cenH3_(Plants)</td>\n",
       "    </tr>\n",
       "  </tbody>\n",
       "</table>\n",
       "</div>"
      ],
      "text/plain": [
       "                   id    level taxonomic_span taxonomic_span_id  description  \\\n",
       "12  cenH3_(Triticeae)  variant   Triticeae(?)            147389          NaN   \n",
       "\n",
       "            parent  \n",
       "12  cenH3_(Plants)  "
      ]
     },
     "execution_count": 25,
     "metadata": {},
     "output_type": "execute_result"
    }
   ],
   "source": [
    "query = \"SELECT * FROM histone\"\n",
    "cursor.execute(query)\n",
    "histone_df = pd.DataFrame(cursor.fetchall(), columns=[i[0] for i in cursor.description])\n",
    "histone_df[histone_df[\"id\"].isin([\"cenH3_(Triticeae)\"])]"
   ]
  },
  {
   "cell_type": "code",
   "execution_count": 26,
   "id": "de474d7a-1a28-40f3-967e-2015ae28362b",
   "metadata": {
    "tags": []
   },
   "outputs": [],
   "source": [
    "# Make sure data is committed to the database\n",
    "conn.commit()"
   ]
  },
  {
   "cell_type": "markdown",
   "id": "5e43fe56-a28d-41b9-a6ca-fff72da77b46",
   "metadata": {},
   "source": [
    "**Таксономическое положение**  \n",
    "- **Род *Triticum*** (пшеница) включает культурные виды:  \n",
    "  - Диплоиды (AA): *T. urartu*, *T. monococcum*.  \n",
    "  - Тетраплоиды (AABB): *T. turgidum*, *T. timopheevii*.  \n",
    "  - Гексаплоиды (AABBDD): *T. aestivum*.  \n",
    "\n",
    "- **Род *Aegilops*** (козлобородник) — **дикие предки** B- и D-геномов пшеницы:  \n",
    "  - *Ae. speltoides* (SS ≈ BB) — вероятный донор B-генома.  \n",
    "  - *Ae. tauschii* (DD) — донор D-генома.  \n",
    "\n",
    "**Цитата из статьи**:  \n",
    "> *\"Tetraploid wheat [...] evolved through hybridization between Sect. Monococcon (AA genome) and a species (SS genome, the alias of the BB genome in wild species) that belonged to the genus Aegilops.\"*  "
   ]
  },
  {
   "cell_type": "markdown",
   "id": "6a3e1072-8a52-488c-8c67-73f079a19933",
   "metadata": {},
   "source": [
    "- **Изученные виды**:  \n",
    "  - У всех проанализированных представителей родов *Triticum* (пшеница) и *Aegilops* (козлобородник) обнаружены **два гена *CENH3*** (*α* и *β*).  \n",
    "  - Примеры:  \n",
    "    - *Triticum urartu* (AA), *T. aestivum* (AABBDD).  \n",
    "    - *Aegilops speltoides* (SS), *Ae. tauschii* (DD).  \n",
    "\n",
    "- **Филогенетический контекст**:  \n",
    "  - Дупликация гена произошла у общего предка **подсемейства *Pooideae*** (включая *Triticum*, *Aegilops*, *Hordeum*).  \n",
    "  - У других злаков (например, риса, кукурузы) — только один ген.  \n",
    "\n",
    "**Цитата**:  \n",
    "> *\"The two CENH3s of wheat species are homologous to αHvCENH3 and βHvCENH3 from barley (Hordeum vulgare).\"*  \n"
   ]
  },
  {
   "cell_type": "code",
   "execution_count": 27,
   "id": "0c3cb546-c615-4d11-9821-c5f3b0d5ad11",
   "metadata": {
    "tags": []
   },
   "outputs": [],
   "source": [
    "histone_desc_summary = \"cenH3_(Triticeae) is a centromere-specific histone variant found in wheat (Triticum) and its close relatives (Aegilops and Hordeum). Interestingly, two functionally distinct CENH3 genes (α and β) were identified for this group of variants [yuan_characterization_2015]. While other cereals (like rice, maize) possess only one CENH3 gene.\"\n",
    "taxonomy_desc = \"This group of variants described in 11 diploid wheat species (Triticum urartu, T. monococcum and Aegilops spp.), 15 tetraploid and one hexaploid species [yuan_characterization_2015].\"\n",
    "data_histone_description = (histone_desc_summary, taxonomy_desc) + (None,) * 12\n",
    "cursor.execute(add_histone_description, data_histone_description)\n",
    "\n",
    "histone_description_id = cursor.lastrowid\n",
    "query = f\"UPDATE histone SET description={histone_description_id} WHERE id='cenH3_(Triticeae)'\"\n",
    "cursor.execute(query)"
   ]
  },
  {
   "cell_type": "code",
   "execution_count": 30,
   "id": "4a65ef37-d3c1-42e2-9efb-4e7876bc8a47",
   "metadata": {
    "tags": []
   },
   "outputs": [
    {
     "data": {
      "text/html": [
       "<div>\n",
       "<style scoped>\n",
       "    .dataframe tbody tr th:only-of-type {\n",
       "        vertical-align: middle;\n",
       "    }\n",
       "\n",
       "    .dataframe tbody tr th {\n",
       "        vertical-align: top;\n",
       "    }\n",
       "\n",
       "    .dataframe thead th {\n",
       "        text-align: right;\n",
       "    }\n",
       "</style>\n",
       "<table border=\"1\" class=\"dataframe\">\n",
       "  <thead>\n",
       "    <tr style=\"text-align: right;\">\n",
       "      <th></th>\n",
       "      <th>id</th>\n",
       "      <th>level</th>\n",
       "      <th>taxonomic_span</th>\n",
       "      <th>taxonomic_span_id</th>\n",
       "      <th>description</th>\n",
       "      <th>parent</th>\n",
       "      <th>id</th>\n",
       "      <th>summary</th>\n",
       "      <th>taxonomy</th>\n",
       "      <th>genes</th>\n",
       "      <th>...</th>\n",
       "      <th>knock_out</th>\n",
       "      <th>function</th>\n",
       "      <th>sequence</th>\n",
       "      <th>localization</th>\n",
       "      <th>deposition</th>\n",
       "      <th>structure</th>\n",
       "      <th>interactions</th>\n",
       "      <th>disease</th>\n",
       "      <th>caveats</th>\n",
       "      <th>relations</th>\n",
       "    </tr>\n",
       "  </thead>\n",
       "  <tbody>\n",
       "    <tr>\n",
       "      <th>0</th>\n",
       "      <td>cenH3_(Triticeae)</td>\n",
       "      <td>variant</td>\n",
       "      <td>Triticeae(?)</td>\n",
       "      <td>147389</td>\n",
       "      <td>234</td>\n",
       "      <td>cenH3_(Plants)</td>\n",
       "      <td>234</td>\n",
       "      <td>cenH3_(Triticeae) is a centromere-specific his...</td>\n",
       "      <td>This group of variants described in 11 diploid...</td>\n",
       "      <td>None</td>\n",
       "      <td>...</td>\n",
       "      <td>None</td>\n",
       "      <td>None</td>\n",
       "      <td>None</td>\n",
       "      <td>None</td>\n",
       "      <td>None</td>\n",
       "      <td>None</td>\n",
       "      <td>None</td>\n",
       "      <td>None</td>\n",
       "      <td>None</td>\n",
       "      <td>None</td>\n",
       "    </tr>\n",
       "  </tbody>\n",
       "</table>\n",
       "<p>1 rows × 22 columns</p>\n",
       "</div>"
      ],
      "text/plain": [
       "                  id    level taxonomic_span taxonomic_span_id  description  \\\n",
       "0  cenH3_(Triticeae)  variant   Triticeae(?)            147389          234   \n",
       "\n",
       "           parent   id                                            summary  \\\n",
       "0  cenH3_(Plants)  234  cenH3_(Triticeae) is a centromere-specific his...   \n",
       "\n",
       "                                            taxonomy genes  ... knock_out  \\\n",
       "0  This group of variants described in 11 diploid...  None  ...      None   \n",
       "\n",
       "  function sequence localization deposition structure interactions disease  \\\n",
       "0     None     None         None       None      None         None    None   \n",
       "\n",
       "  caveats relations  \n",
       "0    None      None  \n",
       "\n",
       "[1 rows x 22 columns]"
      ]
     },
     "execution_count": 30,
     "metadata": {},
     "output_type": "execute_result"
    }
   ],
   "source": [
    "query = (\n",
    "    \"SELECT * FROM histone h LEFT JOIN histone_description hd \"\n",
    "    \"ON h.description = hd.id \"\n",
    "    \"WHERE h.id='cenH3_(Triticeae)'\"\n",
    ")\n",
    "cursor.execute(query)\n",
    "pd.DataFrame(cursor.fetchall(), columns=[i[0] for i in cursor.description])"
   ]
  },
  {
   "cell_type": "code",
   "execution_count": 31,
   "id": "a9afbe7e-2c34-4e39-ba46-7b5c2676d116",
   "metadata": {
    "tags": []
   },
   "outputs": [],
   "source": [
    "# Make sure data is committed to the database\n",
    "conn.commit()"
   ]
  },
  {
   "cell_type": "markdown",
   "id": "24ae928e-cc76-442f-94eb-baa839b5af29",
   "metadata": {},
   "source": [
    "# Add two children nodes for cenH3_(Triticeae): cenH3.1_(Triticeae) and cenH3.2_(Triticeae)"
   ]
  },
  {
   "cell_type": "code",
   "execution_count": 32,
   "id": "f7c289b7-f7e8-492d-91c5-49fd523efd99",
   "metadata": {
    "tags": []
   },
   "outputs": [],
   "source": [
    "data_histone = [\n",
    "    {\n",
    "        \"id\": \"cenH3.1_(Triticeae)\",\n",
    "        \"level\": \"variant\",\n",
    "        \"taxonomic_span\": \"Triticeae(?)\",\n",
    "        \"taxonomic_span_id\": \"147389\",\n",
    "        \"description\": None,\n",
    "        \"parent\": \"cenH3_(Triticeae)\",\n",
    "    },\n",
    "    {\n",
    "        \"id\": \"cenH3.2_(Triticeae)\",\n",
    "        \"level\": \"variant\",\n",
    "        \"taxonomic_span\": \"Triticeae(?)\",\n",
    "        \"taxonomic_span_id\": \"147389\",\n",
    "        \"description\": None,\n",
    "        \"parent\": \"cenH3_(Triticeae)\",\n",
    "    },\n",
    "]\n",
    "for dh in data_histone:\n",
    "    cursor.execute(add_histone, dh)"
   ]
  },
  {
   "cell_type": "code",
   "execution_count": 33,
   "id": "44189578-77de-4b5c-b9fb-9d1cefb4f25f",
   "metadata": {
    "tags": []
   },
   "outputs": [
    {
     "data": {
      "text/html": [
       "<div>\n",
       "<style scoped>\n",
       "    .dataframe tbody tr th:only-of-type {\n",
       "        vertical-align: middle;\n",
       "    }\n",
       "\n",
       "    .dataframe tbody tr th {\n",
       "        vertical-align: top;\n",
       "    }\n",
       "\n",
       "    .dataframe thead th {\n",
       "        text-align: right;\n",
       "    }\n",
       "</style>\n",
       "<table border=\"1\" class=\"dataframe\">\n",
       "  <thead>\n",
       "    <tr style=\"text-align: right;\">\n",
       "      <th></th>\n",
       "      <th>id</th>\n",
       "      <th>level</th>\n",
       "      <th>taxonomic_span</th>\n",
       "      <th>taxonomic_span_id</th>\n",
       "      <th>description</th>\n",
       "      <th>parent</th>\n",
       "    </tr>\n",
       "  </thead>\n",
       "  <tbody>\n",
       "    <tr>\n",
       "      <th>5</th>\n",
       "      <td>cenH3.1_(Triticeae)</td>\n",
       "      <td>variant</td>\n",
       "      <td>Triticeae(?)</td>\n",
       "      <td>147389</td>\n",
       "      <td>NaN</td>\n",
       "      <td>cenH3_(Triticeae)</td>\n",
       "    </tr>\n",
       "    <tr>\n",
       "      <th>7</th>\n",
       "      <td>cenH3.2_(Triticeae)</td>\n",
       "      <td>variant</td>\n",
       "      <td>Triticeae(?)</td>\n",
       "      <td>147389</td>\n",
       "      <td>NaN</td>\n",
       "      <td>cenH3_(Triticeae)</td>\n",
       "    </tr>\n",
       "  </tbody>\n",
       "</table>\n",
       "</div>"
      ],
      "text/plain": [
       "                    id    level taxonomic_span taxonomic_span_id  description  \\\n",
       "5  cenH3.1_(Triticeae)  variant   Triticeae(?)            147389          NaN   \n",
       "7  cenH3.2_(Triticeae)  variant   Triticeae(?)            147389          NaN   \n",
       "\n",
       "              parent  \n",
       "5  cenH3_(Triticeae)  \n",
       "7  cenH3_(Triticeae)  "
      ]
     },
     "execution_count": 33,
     "metadata": {},
     "output_type": "execute_result"
    }
   ],
   "source": [
    "query = \"SELECT * FROM histone\"\n",
    "cursor.execute(query)\n",
    "histone_df = pd.DataFrame(cursor.fetchall(), columns=[i[0] for i in cursor.description])\n",
    "histone_df[histone_df[\"id\"].isin([\"cenH3.1_(Triticeae)\", \"cenH3.2_(Triticeae)\"])]"
   ]
  },
  {
   "cell_type": "code",
   "execution_count": 34,
   "id": "0806f584-5b89-45f4-b2f2-5423eea40854",
   "metadata": {
    "tags": []
   },
   "outputs": [],
   "source": [
    "# Make sure data is committed to the database\n",
    "conn.commit()"
   ]
  },
  {
   "cell_type": "code",
   "execution_count": 35,
   "id": "19fa37b2-8fe0-4d30-90bf-eefab5df3415",
   "metadata": {
    "tags": []
   },
   "outputs": [],
   "source": [
    "histone_desc_summary = \"cenH3.1_(Triticeae) is a centromere-specific histone H3 variant encoded by the αCENH3 gene (one of two paralogs) in polyploid wheat (Triticum spp.) [yuan_characterization_2015]. Unlike βCENH3, it is essential for mitotic progression and vegetative growth, as its silencing causes severe dwarfism and root system defects. The αCENH3 protein contains conserved histone-fold domains but differs from βCENH3 in its N-terminal tail and loop1 region. αCENH3 is constitutively expressed and maintains centromere localization throughout the cell cycle, while βCENH3 shows cell cycle-dependent deposition and specializes in reproductive adaptation [yuan_characterization_2015].\"\n",
    "taxonomy_desc = \"This group of variants described in 11 diploid wheat species (Triticum urartu, T. monococcum and Aegilops spp.), 15 tetraploid and one hexaploid species [yuan_characterization_2015].\"\n",
    "data_histone_description = (histone_desc_summary, taxonomy_desc) + (None,) * 12\n",
    "cursor.execute(add_histone_description, data_histone_description)\n",
    "\n",
    "histone_description_id = cursor.lastrowid\n",
    "query = f\"UPDATE histone SET description={histone_description_id} WHERE id='cenH3.1_(Triticeae)'\"\n",
    "cursor.execute(query)"
   ]
  },
  {
   "cell_type": "code",
   "execution_count": 36,
   "id": "ec428fdd-f029-4eba-941b-e660f676263d",
   "metadata": {
    "tags": []
   },
   "outputs": [
    {
     "data": {
      "text/html": [
       "<div>\n",
       "<style scoped>\n",
       "    .dataframe tbody tr th:only-of-type {\n",
       "        vertical-align: middle;\n",
       "    }\n",
       "\n",
       "    .dataframe tbody tr th {\n",
       "        vertical-align: top;\n",
       "    }\n",
       "\n",
       "    .dataframe thead th {\n",
       "        text-align: right;\n",
       "    }\n",
       "</style>\n",
       "<table border=\"1\" class=\"dataframe\">\n",
       "  <thead>\n",
       "    <tr style=\"text-align: right;\">\n",
       "      <th></th>\n",
       "      <th>id</th>\n",
       "      <th>level</th>\n",
       "      <th>taxonomic_span</th>\n",
       "      <th>taxonomic_span_id</th>\n",
       "      <th>description</th>\n",
       "      <th>parent</th>\n",
       "      <th>id</th>\n",
       "      <th>summary</th>\n",
       "      <th>taxonomy</th>\n",
       "      <th>genes</th>\n",
       "      <th>...</th>\n",
       "      <th>knock_out</th>\n",
       "      <th>function</th>\n",
       "      <th>sequence</th>\n",
       "      <th>localization</th>\n",
       "      <th>deposition</th>\n",
       "      <th>structure</th>\n",
       "      <th>interactions</th>\n",
       "      <th>disease</th>\n",
       "      <th>caveats</th>\n",
       "      <th>relations</th>\n",
       "    </tr>\n",
       "  </thead>\n",
       "  <tbody>\n",
       "    <tr>\n",
       "      <th>0</th>\n",
       "      <td>cenH3.1_(Triticeae)</td>\n",
       "      <td>variant</td>\n",
       "      <td>Triticeae(?)</td>\n",
       "      <td>147389</td>\n",
       "      <td>235</td>\n",
       "      <td>cenH3_(Triticeae)</td>\n",
       "      <td>235</td>\n",
       "      <td>cenH3.1_(Triticeae) is a centromere-specific h...</td>\n",
       "      <td>This group of variants described in 11 diploid...</td>\n",
       "      <td>None</td>\n",
       "      <td>...</td>\n",
       "      <td>None</td>\n",
       "      <td>None</td>\n",
       "      <td>None</td>\n",
       "      <td>None</td>\n",
       "      <td>None</td>\n",
       "      <td>None</td>\n",
       "      <td>None</td>\n",
       "      <td>None</td>\n",
       "      <td>None</td>\n",
       "      <td>None</td>\n",
       "    </tr>\n",
       "  </tbody>\n",
       "</table>\n",
       "<p>1 rows × 22 columns</p>\n",
       "</div>"
      ],
      "text/plain": [
       "                    id    level taxonomic_span taxonomic_span_id  description  \\\n",
       "0  cenH3.1_(Triticeae)  variant   Triticeae(?)            147389          235   \n",
       "\n",
       "              parent   id                                            summary  \\\n",
       "0  cenH3_(Triticeae)  235  cenH3.1_(Triticeae) is a centromere-specific h...   \n",
       "\n",
       "                                            taxonomy genes  ... knock_out  \\\n",
       "0  This group of variants described in 11 diploid...  None  ...      None   \n",
       "\n",
       "  function sequence localization deposition structure interactions disease  \\\n",
       "0     None     None         None       None      None         None    None   \n",
       "\n",
       "  caveats relations  \n",
       "0    None      None  \n",
       "\n",
       "[1 rows x 22 columns]"
      ]
     },
     "execution_count": 36,
     "metadata": {},
     "output_type": "execute_result"
    }
   ],
   "source": [
    "query = (\n",
    "    \"SELECT * FROM histone h LEFT JOIN histone_description hd \"\n",
    "    \"ON h.description = hd.id \"\n",
    "    \"WHERE h.id='cenH3.1_(Triticeae)'\"\n",
    ")\n",
    "cursor.execute(query)\n",
    "pd.DataFrame(cursor.fetchall(), columns=[i[0] for i in cursor.description])"
   ]
  },
  {
   "cell_type": "code",
   "execution_count": 37,
   "id": "6cab58fa-2e78-4d91-95fe-7eda9bb420be",
   "metadata": {
    "tags": []
   },
   "outputs": [],
   "source": [
    "# Make sure data is committed to the database\n",
    "conn.commit()"
   ]
  },
  {
   "cell_type": "code",
   "execution_count": 38,
   "id": "9150b8e5-d021-4266-a640-f5cfbca0ef3c",
   "metadata": {
    "tags": []
   },
   "outputs": [],
   "source": [
    "histone_desc_summary = \"cenH3.2_(Triticeae) is a centromeric histone H3 variant encoded by the βCENH3 paralog in polyploid wheat (Triticum spp.) [yuan_characterization_2015]. Unlike the essential αCENH3, βCENH3 shows specialized functions in reproductive development and polyploid adaptation. While dispensable for vegetative growth, its silencing leads to reduced fertility and seed set. The βCENH3 protein features distinct loop1 domain variations and undergoes cell cycle-specific centromere deposition, being predominantly present during interphase. Evolutionary analysis reveals positive selection in its histone-fold domain, particularly in cultivated wheat varieties, suggesting adaptive evolution under domestication pressures [yuan_characterization_2015].\"\n",
    "taxonomy_desc = \"This group of variants described in 11 diploid wheat species (Triticum urartu, T. monococcum and Aegilops spp.), 15 tetraploid and one hexaploid species [yuan_characterization_2015].\"\n",
    "data_histone_description = (histone_desc_summary, taxonomy_desc) + (None,) * 12\n",
    "cursor.execute(add_histone_description, data_histone_description)\n",
    "\n",
    "histone_description_id = cursor.lastrowid\n",
    "query = f\"UPDATE histone SET description={histone_description_id} WHERE id='cenH3.2_(Triticeae)'\"\n",
    "cursor.execute(query)"
   ]
  },
  {
   "cell_type": "code",
   "execution_count": 39,
   "id": "4f11be41-27d4-4a0d-a414-3751d5201125",
   "metadata": {
    "tags": []
   },
   "outputs": [
    {
     "data": {
      "text/html": [
       "<div>\n",
       "<style scoped>\n",
       "    .dataframe tbody tr th:only-of-type {\n",
       "        vertical-align: middle;\n",
       "    }\n",
       "\n",
       "    .dataframe tbody tr th {\n",
       "        vertical-align: top;\n",
       "    }\n",
       "\n",
       "    .dataframe thead th {\n",
       "        text-align: right;\n",
       "    }\n",
       "</style>\n",
       "<table border=\"1\" class=\"dataframe\">\n",
       "  <thead>\n",
       "    <tr style=\"text-align: right;\">\n",
       "      <th></th>\n",
       "      <th>id</th>\n",
       "      <th>level</th>\n",
       "      <th>taxonomic_span</th>\n",
       "      <th>taxonomic_span_id</th>\n",
       "      <th>description</th>\n",
       "      <th>parent</th>\n",
       "      <th>id</th>\n",
       "      <th>summary</th>\n",
       "      <th>taxonomy</th>\n",
       "      <th>genes</th>\n",
       "      <th>...</th>\n",
       "      <th>knock_out</th>\n",
       "      <th>function</th>\n",
       "      <th>sequence</th>\n",
       "      <th>localization</th>\n",
       "      <th>deposition</th>\n",
       "      <th>structure</th>\n",
       "      <th>interactions</th>\n",
       "      <th>disease</th>\n",
       "      <th>caveats</th>\n",
       "      <th>relations</th>\n",
       "    </tr>\n",
       "  </thead>\n",
       "  <tbody>\n",
       "    <tr>\n",
       "      <th>0</th>\n",
       "      <td>cenH3.2_(Triticeae)</td>\n",
       "      <td>variant</td>\n",
       "      <td>Triticeae(?)</td>\n",
       "      <td>147389</td>\n",
       "      <td>236</td>\n",
       "      <td>cenH3_(Triticeae)</td>\n",
       "      <td>236</td>\n",
       "      <td>cenH3.2_(Triticeae) is a centromeric histone H...</td>\n",
       "      <td>This group of variants described in 11 diploid...</td>\n",
       "      <td>None</td>\n",
       "      <td>...</td>\n",
       "      <td>None</td>\n",
       "      <td>None</td>\n",
       "      <td>None</td>\n",
       "      <td>None</td>\n",
       "      <td>None</td>\n",
       "      <td>None</td>\n",
       "      <td>None</td>\n",
       "      <td>None</td>\n",
       "      <td>None</td>\n",
       "      <td>None</td>\n",
       "    </tr>\n",
       "  </tbody>\n",
       "</table>\n",
       "<p>1 rows × 22 columns</p>\n",
       "</div>"
      ],
      "text/plain": [
       "                    id    level taxonomic_span taxonomic_span_id  description  \\\n",
       "0  cenH3.2_(Triticeae)  variant   Triticeae(?)            147389          236   \n",
       "\n",
       "              parent   id                                            summary  \\\n",
       "0  cenH3_(Triticeae)  236  cenH3.2_(Triticeae) is a centromeric histone H...   \n",
       "\n",
       "                                            taxonomy genes  ... knock_out  \\\n",
       "0  This group of variants described in 11 diploid...  None  ...      None   \n",
       "\n",
       "  function sequence localization deposition structure interactions disease  \\\n",
       "0     None     None         None       None      None         None    None   \n",
       "\n",
       "  caveats relations  \n",
       "0    None      None  \n",
       "\n",
       "[1 rows x 22 columns]"
      ]
     },
     "execution_count": 39,
     "metadata": {},
     "output_type": "execute_result"
    }
   ],
   "source": [
    "query = (\n",
    "    \"SELECT * FROM histone h LEFT JOIN histone_description hd \"\n",
    "    \"ON h.description = hd.id \"\n",
    "    \"WHERE h.id='cenH3.2_(Triticeae)'\"\n",
    ")\n",
    "cursor.execute(query)\n",
    "pd.DataFrame(cursor.fetchall(), columns=[i[0] for i in cursor.description])"
   ]
  },
  {
   "cell_type": "code",
   "execution_count": 40,
   "id": "9a70a032-1ad3-4fa4-90fd-130b98637bb9",
   "metadata": {
    "tags": []
   },
   "outputs": [],
   "source": [
    "# Make sure data is committed to the database\n",
    "conn.commit()"
   ]
  },
  {
   "cell_type": "markdown",
   "id": "6c1e9710-f97c-41dd-a080-68ab830caeb9",
   "metadata": {},
   "source": [
    "# Add publication for new nodes [yuan_characterization_2015]"
   ]
  },
  {
   "cell_type": "markdown",
   "id": "151baebe-918d-418a-876c-f1a6a16da843",
   "metadata": {},
   "source": [
    "## cenH3_(Vigna_unguiculata)\n",
    "\n",
    "[ishii_unequal_2020]"
   ]
  },
  {
   "cell_type": "code",
   "execution_count": 42,
   "id": "857d03d4-a002-4bf3-91bf-9e3b01452959",
   "metadata": {
    "tags": []
   },
   "outputs": [
    {
     "data": {
      "text/html": [
       "<div>\n",
       "<style scoped>\n",
       "    .dataframe tbody tr th:only-of-type {\n",
       "        vertical-align: middle;\n",
       "    }\n",
       "\n",
       "    .dataframe tbody tr th {\n",
       "        vertical-align: top;\n",
       "    }\n",
       "\n",
       "    .dataframe thead th {\n",
       "        text-align: right;\n",
       "    }\n",
       "</style>\n",
       "<table border=\"1\" class=\"dataframe\">\n",
       "  <thead>\n",
       "    <tr style=\"text-align: right;\">\n",
       "      <th></th>\n",
       "      <th>id</th>\n",
       "      <th>level</th>\n",
       "      <th>taxonomic_span</th>\n",
       "      <th>taxonomic_span_id</th>\n",
       "      <th>description</th>\n",
       "      <th>parent</th>\n",
       "      <th>histone_id</th>\n",
       "      <th>publication_id</th>\n",
       "    </tr>\n",
       "  </thead>\n",
       "  <tbody>\n",
       "    <tr>\n",
       "      <th>20</th>\n",
       "      <td>cenH3_(Vigna_unguiculata)</td>\n",
       "      <td>variant</td>\n",
       "      <td>Vigna unguiculata</td>\n",
       "      <td>3917</td>\n",
       "      <td>NaN</td>\n",
       "      <td>cenH3_(Plants)</td>\n",
       "      <td>None</td>\n",
       "      <td>None</td>\n",
       "    </tr>\n",
       "  </tbody>\n",
       "</table>\n",
       "</div>"
      ],
      "text/plain": [
       "                           id    level     taxonomic_span taxonomic_span_id  \\\n",
       "20  cenH3_(Vigna_unguiculata)  variant  Vigna unguiculata              3917   \n",
       "\n",
       "    description          parent histone_id publication_id  \n",
       "20          NaN  cenH3_(Plants)       None           None  "
      ]
     },
     "execution_count": 42,
     "metadata": {},
     "output_type": "execute_result"
    }
   ],
   "source": [
    "query = (\n",
    "    \"SELECT * FROM histone h LEFT JOIN histone_has_publication hp \"\n",
    "    \"ON h.id = hp.histone_id \"\n",
    ")\n",
    "cursor.execute(query)\n",
    "df = pd.DataFrame(cursor.fetchall(), columns=[i[0] for i in cursor.description])\n",
    "df[df[\"id\"].isin([\"cenH3_(Vigna_unguiculata)\"])]"
   ]
  },
  {
   "cell_type": "code",
   "execution_count": 43,
   "id": "dc309e19-82ed-437d-8ba9-e5e01ffdaa61",
   "metadata": {
    "tags": []
   },
   "outputs": [
    {
     "data": {
      "text/html": [
       "<div>\n",
       "<style scoped>\n",
       "    .dataframe tbody tr th:only-of-type {\n",
       "        vertical-align: middle;\n",
       "    }\n",
       "\n",
       "    .dataframe tbody tr th {\n",
       "        vertical-align: top;\n",
       "    }\n",
       "\n",
       "    .dataframe thead th {\n",
       "        text-align: right;\n",
       "    }\n",
       "</style>\n",
       "<table border=\"1\" class=\"dataframe\">\n",
       "  <thead>\n",
       "    <tr style=\"text-align: right;\">\n",
       "      <th></th>\n",
       "      <th>id</th>\n",
       "      <th>title</th>\n",
       "      <th>doi</th>\n",
       "      <th>author</th>\n",
       "      <th>year</th>\n",
       "    </tr>\n",
       "  </thead>\n",
       "  <tbody>\n",
       "    <tr>\n",
       "      <th>0</th>\n",
       "      <td>ishii_unequal_2020</td>\n",
       "      <td>Unequal contribution of two paralogous CENH3 v...</td>\n",
       "      <td>10.1038/s42003-020-01507-x</td>\n",
       "      <td>None</td>\n",
       "      <td>2020</td>\n",
       "    </tr>\n",
       "  </tbody>\n",
       "</table>\n",
       "</div>"
      ],
      "text/plain": [
       "                   id                                              title  \\\n",
       "0  ishii_unequal_2020  Unequal contribution of two paralogous CENH3 v...   \n",
       "\n",
       "                          doi author  year  \n",
       "0  10.1038/s42003-020-01507-x   None  2020  "
      ]
     },
     "execution_count": 43,
     "metadata": {},
     "output_type": "execute_result"
    }
   ],
   "source": [
    "pid = \"ishii_unequal_2020\"\n",
    "query = f\"SELECT * FROM publication WHERE id='{pid}'\"\n",
    "cursor.execute(query)\n",
    "pd.DataFrame(cursor.fetchall(), columns=[i[0] for i in cursor.description])"
   ]
  },
  {
   "cell_type": "code",
   "execution_count": 44,
   "id": "bc3240f4-37ed-479d-b94d-7b487a4d14dc",
   "metadata": {
    "tags": []
   },
   "outputs": [],
   "source": [
    "cursor.execute(add_histone_has_publication, (\"cenH3_(Vigna_unguiculata)\", pid))"
   ]
  },
  {
   "cell_type": "code",
   "execution_count": 46,
   "id": "f330417b-94dc-448f-80b1-a662da8b18db",
   "metadata": {
    "tags": []
   },
   "outputs": [
    {
     "data": {
      "text/html": [
       "<div>\n",
       "<style scoped>\n",
       "    .dataframe tbody tr th:only-of-type {\n",
       "        vertical-align: middle;\n",
       "    }\n",
       "\n",
       "    .dataframe tbody tr th {\n",
       "        vertical-align: top;\n",
       "    }\n",
       "\n",
       "    .dataframe thead th {\n",
       "        text-align: right;\n",
       "    }\n",
       "</style>\n",
       "<table border=\"1\" class=\"dataframe\">\n",
       "  <thead>\n",
       "    <tr style=\"text-align: right;\">\n",
       "      <th></th>\n",
       "      <th>id</th>\n",
       "      <th>level</th>\n",
       "      <th>taxonomic_span</th>\n",
       "      <th>taxonomic_span_id</th>\n",
       "      <th>description</th>\n",
       "      <th>parent</th>\n",
       "      <th>histone_id</th>\n",
       "      <th>publication_id</th>\n",
       "    </tr>\n",
       "  </thead>\n",
       "  <tbody>\n",
       "    <tr>\n",
       "      <th>20</th>\n",
       "      <td>cenH3_(Vigna_unguiculata)</td>\n",
       "      <td>variant</td>\n",
       "      <td>Vigna unguiculata</td>\n",
       "      <td>3917</td>\n",
       "      <td>NaN</td>\n",
       "      <td>cenH3_(Plants)</td>\n",
       "      <td>cenH3_(Vigna_unguiculata)</td>\n",
       "      <td>ishii_unequal_2020</td>\n",
       "    </tr>\n",
       "  </tbody>\n",
       "</table>\n",
       "</div>"
      ],
      "text/plain": [
       "                           id    level     taxonomic_span taxonomic_span_id  \\\n",
       "20  cenH3_(Vigna_unguiculata)  variant  Vigna unguiculata              3917   \n",
       "\n",
       "    description          parent                 histone_id      publication_id  \n",
       "20          NaN  cenH3_(Plants)  cenH3_(Vigna_unguiculata)  ishii_unequal_2020  "
      ]
     },
     "execution_count": 46,
     "metadata": {},
     "output_type": "execute_result"
    }
   ],
   "source": [
    "query = (\n",
    "    \"SELECT * FROM histone h LEFT JOIN histone_has_publication hp \"\n",
    "    \"ON h.id = hp.histone_id \"\n",
    ")\n",
    "cursor.execute(query)\n",
    "df = pd.DataFrame(cursor.fetchall(), columns=[i[0] for i in cursor.description])\n",
    "df[df[\"id\"].isin([\"cenH3_(Vigna_unguiculata)\"])]"
   ]
  },
  {
   "cell_type": "code",
   "execution_count": 47,
   "id": "047d3410-8f5a-478d-8db2-7683c8bd3dfc",
   "metadata": {
    "tags": []
   },
   "outputs": [],
   "source": [
    "# Make sure data is committed to the database\n",
    "conn.commit()"
   ]
  },
  {
   "cell_type": "markdown",
   "id": "15496c94-3b9d-4046-84d2-8dd065a7e708",
   "metadata": {},
   "source": [
    "## cenH3_(Triticeae), cenH3.1_(Triticeae) and cenH3.2_(Triticeae)\n",
    "\n",
    "[yuan_characterization_2015]"
   ]
  },
  {
   "cell_type": "code",
   "execution_count": 48,
   "id": "b16b6096-fd5d-4ca3-893c-7a1c4ee254ef",
   "metadata": {
    "tags": []
   },
   "outputs": [],
   "source": [
    "variant_names = [\"cenH3_(Triticeae)\", \"cenH3.1_(Triticeae)\", \"cenH3.2_(Triticeae)\"]"
   ]
  },
  {
   "cell_type": "code",
   "execution_count": 49,
   "id": "1010f00d-7502-4399-b337-3f75b759f029",
   "metadata": {
    "tags": []
   },
   "outputs": [
    {
     "data": {
      "text/html": [
       "<div>\n",
       "<style scoped>\n",
       "    .dataframe tbody tr th:only-of-type {\n",
       "        vertical-align: middle;\n",
       "    }\n",
       "\n",
       "    .dataframe tbody tr th {\n",
       "        vertical-align: top;\n",
       "    }\n",
       "\n",
       "    .dataframe thead th {\n",
       "        text-align: right;\n",
       "    }\n",
       "</style>\n",
       "<table border=\"1\" class=\"dataframe\">\n",
       "  <thead>\n",
       "    <tr style=\"text-align: right;\">\n",
       "      <th></th>\n",
       "      <th>id</th>\n",
       "      <th>level</th>\n",
       "      <th>taxonomic_span</th>\n",
       "      <th>taxonomic_span_id</th>\n",
       "      <th>description</th>\n",
       "      <th>parent</th>\n",
       "      <th>histone_id</th>\n",
       "      <th>publication_id</th>\n",
       "    </tr>\n",
       "  </thead>\n",
       "  <tbody>\n",
       "    <tr>\n",
       "      <th>5</th>\n",
       "      <td>cenH3.1_(Triticeae)</td>\n",
       "      <td>variant</td>\n",
       "      <td>Triticeae(?)</td>\n",
       "      <td>147389</td>\n",
       "      <td>235.0</td>\n",
       "      <td>cenH3_(Triticeae)</td>\n",
       "      <td>None</td>\n",
       "      <td>None</td>\n",
       "    </tr>\n",
       "    <tr>\n",
       "      <th>7</th>\n",
       "      <td>cenH3.2_(Triticeae)</td>\n",
       "      <td>variant</td>\n",
       "      <td>Triticeae(?)</td>\n",
       "      <td>147389</td>\n",
       "      <td>236.0</td>\n",
       "      <td>cenH3_(Triticeae)</td>\n",
       "      <td>None</td>\n",
       "      <td>None</td>\n",
       "    </tr>\n",
       "    <tr>\n",
       "      <th>19</th>\n",
       "      <td>cenH3_(Triticeae)</td>\n",
       "      <td>variant</td>\n",
       "      <td>Triticeae(?)</td>\n",
       "      <td>147389</td>\n",
       "      <td>234.0</td>\n",
       "      <td>cenH3_(Plants)</td>\n",
       "      <td>None</td>\n",
       "      <td>None</td>\n",
       "    </tr>\n",
       "  </tbody>\n",
       "</table>\n",
       "</div>"
      ],
      "text/plain": [
       "                     id    level taxonomic_span taxonomic_span_id  \\\n",
       "5   cenH3.1_(Triticeae)  variant   Triticeae(?)            147389   \n",
       "7   cenH3.2_(Triticeae)  variant   Triticeae(?)            147389   \n",
       "19    cenH3_(Triticeae)  variant   Triticeae(?)            147389   \n",
       "\n",
       "    description             parent histone_id publication_id  \n",
       "5         235.0  cenH3_(Triticeae)       None           None  \n",
       "7         236.0  cenH3_(Triticeae)       None           None  \n",
       "19        234.0     cenH3_(Plants)       None           None  "
      ]
     },
     "execution_count": 49,
     "metadata": {},
     "output_type": "execute_result"
    }
   ],
   "source": [
    "query = (\n",
    "    \"SELECT * FROM histone h LEFT JOIN histone_has_publication hp \"\n",
    "    \"ON h.id = hp.histone_id \"\n",
    ")\n",
    "cursor.execute(query)\n",
    "df = pd.DataFrame(cursor.fetchall(), columns=[i[0] for i in cursor.description])\n",
    "df[df[\"id\"].isin(variant_names)]"
   ]
  },
  {
   "cell_type": "code",
   "execution_count": 50,
   "id": "5576e234-402c-4703-a6dd-a946e5dca340",
   "metadata": {
    "tags": []
   },
   "outputs": [
    {
     "data": {
      "text/html": [
       "<div>\n",
       "<style scoped>\n",
       "    .dataframe tbody tr th:only-of-type {\n",
       "        vertical-align: middle;\n",
       "    }\n",
       "\n",
       "    .dataframe tbody tr th {\n",
       "        vertical-align: top;\n",
       "    }\n",
       "\n",
       "    .dataframe thead th {\n",
       "        text-align: right;\n",
       "    }\n",
       "</style>\n",
       "<table border=\"1\" class=\"dataframe\">\n",
       "  <thead>\n",
       "    <tr style=\"text-align: right;\">\n",
       "      <th></th>\n",
       "      <th>id</th>\n",
       "      <th>title</th>\n",
       "      <th>doi</th>\n",
       "      <th>author</th>\n",
       "      <th>year</th>\n",
       "    </tr>\n",
       "  </thead>\n",
       "  <tbody>\n",
       "  </tbody>\n",
       "</table>\n",
       "</div>"
      ],
      "text/plain": [
       "Empty DataFrame\n",
       "Columns: [id, title, doi, author, year]\n",
       "Index: []"
      ]
     },
     "execution_count": 50,
     "metadata": {},
     "output_type": "execute_result"
    }
   ],
   "source": [
    "pid = \"yuan_characterization_2015\"\n",
    "query = f\"SELECT * FROM publication WHERE id='{pid}'\"\n",
    "cursor.execute(query)\n",
    "pd.DataFrame(cursor.fetchall(), columns=[i[0] for i in cursor.description])"
   ]
  },
  {
   "cell_type": "code",
   "execution_count": 51,
   "id": "5937affe-1250-47b1-b41a-81b594eceb67",
   "metadata": {
    "tags": []
   },
   "outputs": [],
   "source": [
    "data_publication = {\n",
    "    \"id\": pid,\n",
    "    \"title\": \"Characterization of two CENH3 genes and their roles in wheat evolution\",\n",
    "    \"doi\": \"10.1111/nph.13235\",\n",
    "    \"author\": None,\n",
    "    \"year\": \"2015\",\n",
    "}\n",
    "cursor.execute(add_publication, data_publication)"
   ]
  },
  {
   "cell_type": "code",
   "execution_count": 52,
   "id": "17a1a565-f65f-4667-85e5-de924a97cdd0",
   "metadata": {
    "tags": []
   },
   "outputs": [],
   "source": [
    "for vn in variant_names:\n",
    "    cursor.execute(add_histone_has_publication, (vn, pid))"
   ]
  },
  {
   "cell_type": "code",
   "execution_count": 53,
   "id": "2fea9747-9925-4d80-b218-fa98e4a63523",
   "metadata": {
    "tags": []
   },
   "outputs": [
    {
     "data": {
      "text/html": [
       "<div>\n",
       "<style scoped>\n",
       "    .dataframe tbody tr th:only-of-type {\n",
       "        vertical-align: middle;\n",
       "    }\n",
       "\n",
       "    .dataframe tbody tr th {\n",
       "        vertical-align: top;\n",
       "    }\n",
       "\n",
       "    .dataframe thead th {\n",
       "        text-align: right;\n",
       "    }\n",
       "</style>\n",
       "<table border=\"1\" class=\"dataframe\">\n",
       "  <thead>\n",
       "    <tr style=\"text-align: right;\">\n",
       "      <th></th>\n",
       "      <th>id</th>\n",
       "      <th>level</th>\n",
       "      <th>taxonomic_span</th>\n",
       "      <th>taxonomic_span_id</th>\n",
       "      <th>description</th>\n",
       "      <th>parent</th>\n",
       "      <th>histone_id</th>\n",
       "      <th>publication_id</th>\n",
       "    </tr>\n",
       "  </thead>\n",
       "  <tbody>\n",
       "    <tr>\n",
       "      <th>5</th>\n",
       "      <td>cenH3.1_(Triticeae)</td>\n",
       "      <td>variant</td>\n",
       "      <td>Triticeae(?)</td>\n",
       "      <td>147389</td>\n",
       "      <td>235.0</td>\n",
       "      <td>cenH3_(Triticeae)</td>\n",
       "      <td>cenH3.1_(Triticeae)</td>\n",
       "      <td>yuan_characterization_2015</td>\n",
       "    </tr>\n",
       "    <tr>\n",
       "      <th>7</th>\n",
       "      <td>cenH3.2_(Triticeae)</td>\n",
       "      <td>variant</td>\n",
       "      <td>Triticeae(?)</td>\n",
       "      <td>147389</td>\n",
       "      <td>236.0</td>\n",
       "      <td>cenH3_(Triticeae)</td>\n",
       "      <td>cenH3.2_(Triticeae)</td>\n",
       "      <td>yuan_characterization_2015</td>\n",
       "    </tr>\n",
       "    <tr>\n",
       "      <th>19</th>\n",
       "      <td>cenH3_(Triticeae)</td>\n",
       "      <td>variant</td>\n",
       "      <td>Triticeae(?)</td>\n",
       "      <td>147389</td>\n",
       "      <td>234.0</td>\n",
       "      <td>cenH3_(Plants)</td>\n",
       "      <td>cenH3_(Triticeae)</td>\n",
       "      <td>yuan_characterization_2015</td>\n",
       "    </tr>\n",
       "  </tbody>\n",
       "</table>\n",
       "</div>"
      ],
      "text/plain": [
       "                     id    level taxonomic_span taxonomic_span_id  \\\n",
       "5   cenH3.1_(Triticeae)  variant   Triticeae(?)            147389   \n",
       "7   cenH3.2_(Triticeae)  variant   Triticeae(?)            147389   \n",
       "19    cenH3_(Triticeae)  variant   Triticeae(?)            147389   \n",
       "\n",
       "    description             parent           histone_id  \\\n",
       "5         235.0  cenH3_(Triticeae)  cenH3.1_(Triticeae)   \n",
       "7         236.0  cenH3_(Triticeae)  cenH3.2_(Triticeae)   \n",
       "19        234.0     cenH3_(Plants)    cenH3_(Triticeae)   \n",
       "\n",
       "                publication_id  \n",
       "5   yuan_characterization_2015  \n",
       "7   yuan_characterization_2015  \n",
       "19  yuan_characterization_2015  "
      ]
     },
     "execution_count": 53,
     "metadata": {},
     "output_type": "execute_result"
    }
   ],
   "source": [
    "query = (\n",
    "    \"SELECT * FROM histone h LEFT JOIN histone_has_publication hp \"\n",
    "    \"ON h.id = hp.histone_id \"\n",
    ")\n",
    "cursor.execute(query)\n",
    "df = pd.DataFrame(cursor.fetchall(), columns=[i[0] for i in cursor.description])\n",
    "df[df[\"id\"].isin(variant_names)]"
   ]
  },
  {
   "cell_type": "code",
   "execution_count": 54,
   "id": "e396677a-6939-4e0e-8568-8e0a7628105f",
   "metadata": {
    "tags": []
   },
   "outputs": [],
   "source": [
    "# Make sure data is committed to the database\n",
    "conn.commit()"
   ]
  },
  {
   "cell_type": "markdown",
   "id": "9dcf330f-091b-4f87-9720-7616bd662810",
   "metadata": {},
   "source": [
    "# Correct taxonomy description for cenH3_(Triticeae), cenH3.1_(Triticeae) and cenH3.2_(Triticeae)"
   ]
  },
  {
   "cell_type": "code",
   "execution_count": 59,
   "id": "95eac30e-ac65-4460-bc70-bbdb41b0fb32",
   "metadata": {
    "tags": []
   },
   "outputs": [
    {
     "data": {
      "text/html": [
       "<div>\n",
       "<style scoped>\n",
       "    .dataframe tbody tr th:only-of-type {\n",
       "        vertical-align: middle;\n",
       "    }\n",
       "\n",
       "    .dataframe tbody tr th {\n",
       "        vertical-align: top;\n",
       "    }\n",
       "\n",
       "    .dataframe thead th {\n",
       "        text-align: right;\n",
       "    }\n",
       "</style>\n",
       "<table border=\"1\" class=\"dataframe\">\n",
       "  <thead>\n",
       "    <tr style=\"text-align: right;\">\n",
       "      <th></th>\n",
       "      <th>id</th>\n",
       "      <th>level</th>\n",
       "      <th>taxonomic_span</th>\n",
       "      <th>taxonomic_span_id</th>\n",
       "      <th>description</th>\n",
       "      <th>parent</th>\n",
       "      <th>id</th>\n",
       "      <th>summary</th>\n",
       "      <th>taxonomy</th>\n",
       "      <th>genes</th>\n",
       "      <th>...</th>\n",
       "      <th>knock_out</th>\n",
       "      <th>function</th>\n",
       "      <th>sequence</th>\n",
       "      <th>localization</th>\n",
       "      <th>deposition</th>\n",
       "      <th>structure</th>\n",
       "      <th>interactions</th>\n",
       "      <th>disease</th>\n",
       "      <th>caveats</th>\n",
       "      <th>relations</th>\n",
       "    </tr>\n",
       "  </thead>\n",
       "  <tbody>\n",
       "    <tr>\n",
       "      <th>5</th>\n",
       "      <td>cenH3.1_(Triticeae)</td>\n",
       "      <td>variant</td>\n",
       "      <td>Triticeae(?)</td>\n",
       "      <td>147389</td>\n",
       "      <td>235.0</td>\n",
       "      <td>cenH3_(Triticeae)</td>\n",
       "      <td>235.0</td>\n",
       "      <td>cenH3.1_(Triticeae) is a centromere-specific h...</td>\n",
       "      <td>This group of variants described in 11 diploid...</td>\n",
       "      <td>None</td>\n",
       "      <td>...</td>\n",
       "      <td>None</td>\n",
       "      <td>None</td>\n",
       "      <td>None</td>\n",
       "      <td>None</td>\n",
       "      <td>None</td>\n",
       "      <td>None</td>\n",
       "      <td>None</td>\n",
       "      <td>None</td>\n",
       "      <td>None</td>\n",
       "      <td>None</td>\n",
       "    </tr>\n",
       "    <tr>\n",
       "      <th>7</th>\n",
       "      <td>cenH3.2_(Triticeae)</td>\n",
       "      <td>variant</td>\n",
       "      <td>Triticeae(?)</td>\n",
       "      <td>147389</td>\n",
       "      <td>236.0</td>\n",
       "      <td>cenH3_(Triticeae)</td>\n",
       "      <td>236.0</td>\n",
       "      <td>cenH3.2_(Triticeae) is a centromeric histone H...</td>\n",
       "      <td>This group of variants described in 11 diploid...</td>\n",
       "      <td>None</td>\n",
       "      <td>...</td>\n",
       "      <td>None</td>\n",
       "      <td>None</td>\n",
       "      <td>None</td>\n",
       "      <td>None</td>\n",
       "      <td>None</td>\n",
       "      <td>None</td>\n",
       "      <td>None</td>\n",
       "      <td>None</td>\n",
       "      <td>None</td>\n",
       "      <td>None</td>\n",
       "    </tr>\n",
       "    <tr>\n",
       "      <th>14</th>\n",
       "      <td>cenH3_(Triticeae)</td>\n",
       "      <td>variant</td>\n",
       "      <td>Triticeae(?)</td>\n",
       "      <td>147389</td>\n",
       "      <td>234.0</td>\n",
       "      <td>cenH3_(Plants)</td>\n",
       "      <td>234.0</td>\n",
       "      <td>cenH3_(Triticeae) is a centromere-specific his...</td>\n",
       "      <td>This group of variants described in 11 diploid...</td>\n",
       "      <td>None</td>\n",
       "      <td>...</td>\n",
       "      <td>None</td>\n",
       "      <td>None</td>\n",
       "      <td>None</td>\n",
       "      <td>None</td>\n",
       "      <td>None</td>\n",
       "      <td>None</td>\n",
       "      <td>None</td>\n",
       "      <td>None</td>\n",
       "      <td>None</td>\n",
       "      <td>None</td>\n",
       "    </tr>\n",
       "  </tbody>\n",
       "</table>\n",
       "<p>3 rows × 22 columns</p>\n",
       "</div>"
      ],
      "text/plain": [
       "                     id    level taxonomic_span taxonomic_span_id  \\\n",
       "5   cenH3.1_(Triticeae)  variant   Triticeae(?)            147389   \n",
       "7   cenH3.2_(Triticeae)  variant   Triticeae(?)            147389   \n",
       "14    cenH3_(Triticeae)  variant   Triticeae(?)            147389   \n",
       "\n",
       "    description             parent     id  \\\n",
       "5         235.0  cenH3_(Triticeae)  235.0   \n",
       "7         236.0  cenH3_(Triticeae)  236.0   \n",
       "14        234.0     cenH3_(Plants)  234.0   \n",
       "\n",
       "                                              summary  \\\n",
       "5   cenH3.1_(Triticeae) is a centromere-specific h...   \n",
       "7   cenH3.2_(Triticeae) is a centromeric histone H...   \n",
       "14  cenH3_(Triticeae) is a centromere-specific his...   \n",
       "\n",
       "                                             taxonomy genes  ... knock_out  \\\n",
       "5   This group of variants described in 11 diploid...  None  ...      None   \n",
       "7   This group of variants described in 11 diploid...  None  ...      None   \n",
       "14  This group of variants described in 11 diploid...  None  ...      None   \n",
       "\n",
       "   function sequence localization deposition structure interactions disease  \\\n",
       "5      None     None         None       None      None         None    None   \n",
       "7      None     None         None       None      None         None    None   \n",
       "14     None     None         None       None      None         None    None   \n",
       "\n",
       "   caveats relations  \n",
       "5     None      None  \n",
       "7     None      None  \n",
       "14    None      None  \n",
       "\n",
       "[3 rows x 22 columns]"
      ]
     },
     "execution_count": 59,
     "metadata": {},
     "output_type": "execute_result"
    }
   ],
   "source": [
    "query = (\n",
    "    \"SELECT * FROM histone h LEFT JOIN histone_description hd \"\n",
    "    \"ON h.description = hd.id \"\n",
    ")\n",
    "cursor.execute(query)\n",
    "df = pd.DataFrame(cursor.fetchall(), columns=[i[0] for i in cursor.description])\n",
    "df[df.iloc[:, 0].isin(variant_names)]"
   ]
  },
  {
   "cell_type": "code",
   "execution_count": 87,
   "id": "a345c361-394b-4fe8-8c98-d500d866e069",
   "metadata": {
    "tags": []
   },
   "outputs": [
    {
     "name": "stdout",
     "output_type": "stream",
     "text": [
      "UPDATE histone_description SET taxonomy='This group of variants described in 11 diploid wheat species (Triticum urartu L., Triticum monococcum L. and Aegilops L.), 15 tetraploid (Triticum turgidum L. and Triticum timopheevii L.) and one hexaploid species (Triticum aestivum L.) [yuan_characterization_2015].' WHERE id=234\n",
      "UPDATE histone_description SET taxonomy='This group of variants described in 11 diploid wheat species (Triticum urartu L., Triticum monococcum L. and Aegilops L.), 15 tetraploid (Triticum turgidum L. and Triticum timopheevii L.) and one hexaploid species (Triticum aestivum L.) [yuan_characterization_2015].' WHERE id=235\n",
      "UPDATE histone_description SET taxonomy='This group of variants described in 11 diploid wheat species (Triticum urartu L., Triticum monococcum L. and Aegilops L.), 15 tetraploid (Triticum turgidum L. and Triticum timopheevii L.) and one hexaploid species (Triticum aestivum L.) [yuan_characterization_2015].' WHERE id=236\n"
     ]
    }
   ],
   "source": [
    "taxonomy_desc = \"This group of variants described in 11 diploid wheat species (Triticum urartu L., Triticum monococcum L. and Aegilops L.), 15 tetraploid (Triticum turgidum L. and Triticum timopheevii L.) and one hexaploid species (Triticum aestivum L.) [yuan_characterization_2015].\"\n",
    "for desc_id in range(234, 237):\n",
    "    query = (\n",
    "        f\"UPDATE histone_description SET taxonomy='{taxonomy_desc}' WHERE id={desc_id}\"\n",
    "    )\n",
    "    print(query)\n",
    "    cursor.execute(query)"
   ]
  },
  {
   "cell_type": "code",
   "execution_count": 88,
   "id": "f147586a-0f60-449e-9f7c-8b6a5996fdf2",
   "metadata": {
    "tags": []
   },
   "outputs": [
    {
     "data": {
      "text/plain": [
       "'This group of variants described in 11 diploid wheat species (Triticum urartu L., Triticum monococcum L. and Aegilops L.), 15 tetraploid (Triticum turgidum L. and Triticum timopheevii L.) and one hexaploid species (Triticum aestivum L.) [yuan_characterization_2015].'"
      ]
     },
     "execution_count": 88,
     "metadata": {},
     "output_type": "execute_result"
    }
   ],
   "source": [
    "query = (\n",
    "    \"SELECT * FROM histone h LEFT JOIN histone_description hd \"\n",
    "    \"ON h.description = hd.id \"\n",
    ")\n",
    "cursor.execute(query)\n",
    "df = pd.DataFrame(cursor.fetchall(), columns=[i[0] for i in cursor.description])\n",
    "df[df.iloc[:, 0].isin(variant_names)][\"taxonomy\"].values[0]"
   ]
  },
  {
   "cell_type": "code",
   "execution_count": 89,
   "id": "52435ad3-119a-4cf1-b9f6-e262590f1ac7",
   "metadata": {
    "tags": []
   },
   "outputs": [],
   "source": [
    "# Make sure data is committed to the database\n",
    "conn.commit()"
   ]
  },
  {
   "cell_type": "markdown",
   "id": "b2056b75-016d-4c7d-8dcd-fa1b4ccc12a3",
   "metadata": {},
   "source": [
    "# Add sequences for cenH3.1_(Triticeae) and cenH3.2_(Triticeae)"
   ]
  },
  {
   "cell_type": "markdown",
   "id": "f73e2656-13e4-4e27-9804-8f709a7c2da9",
   "metadata": {},
   "source": [
    "Using RACE we obtained the full gene sequences of aCENH3 and bCENH3 in diploid species TMU38 (T. urartu, AA), AE739 (A. speltoides, SS) and TQ27 (A. tauschii, DD). <...> Multiple amino acid sequence alignment was conducted among <span style=\"color:green\">aTuCENH3 (KM507181), bTuCENH3 (KM507184), aAsCENH3 (KM507182), bAsCENH3 (KM507185), aAtaCENH3 (KM507183), bAtaCENH3 (KM507186)</span> and other grass CENH3 proteins, including aHvCENH3 and bHvCENH3 from H. vulgare, OsCENH3 from rice, ZmCENH3 from maize, and SbCENH3 from Sorghum bicolor."
   ]
  },
  {
   "cell_type": "markdown",
   "id": "f03fcac6-9a4f-4043-a8b7-f6ec00f29962",
   "metadata": {},
   "source": [
    "Список изученных в статье видов пшеницы (*Triticum*) и их диплоидных предков (*Aegilops*) с указанием геномов:\n",
    "\n",
    "---\n",
    "\n",
    "### **1. Диплоидные виды (2n=14)**\n",
    "| Вид (латинское название)          | Геном | Роль в эволюции пшеницы          |\n",
    "|-----------------------------------|-------|----------------------------------|\n",
    "| *Triticum urartu*                 | AA    | Дикий предок **A-генома** культурной пшеницы |\n",
    "| *Triticum monococcum*             | AA    | Однозернянка (примитивная пшеница) |\n",
    "| *Aegilops speltoides*             | SS    | Ближайший аналог **B-генома** (не прямой предок) |\n",
    "| *Aegilops tauschii* (син. *Ae. squarrosa*)| DD | Прямой предок **D-генома** гексаплоидной пшеницы |\n",
    "\n",
    "---\n",
    "\n",
    "### **2. Тетраплоидные виды (2n=28)**\n",
    "| Вид (латинское название)          | Еще название | Геном | Категория        |\n",
    "|-----------------------------------|--------------|-------|------------------|\n",
    "| *Triticum turgidum* ssp. *dicoccoides* | TTD92 | AABB | **Дикая** эммерная пшеница |\n",
    "| *Triticum turgidum* ssp. *durum*  | TTR04 | AABB | **Культурная** твердая пшеница (макаронная) |\n",
    "| *Triticum turgidum* ssp. *polonicum* | Polonicum | AABB | Польская пшеница |\n",
    "| *Triticum turgidum* ssp. *turgidum* | Turgidum1 | AABB | Голая пшеница    |\n",
    "| *Triticum timopheevii*            | Отсутствует | AAGG | Дикий/культурный вид (отдельная ветвь) |\n",
    "\n",
    "---\n",
    "\n",
    "### **3. Гексаплоидные виды (2n=42)**\n",
    "| Вид (латинское название)          | Геном | Примечание       |\n",
    "|-----------------------------------|-------|------------------|\n",
    "| *Triticum aestivum* (сорт Chinese Spring) | AABBDD | Мягкая пшеница (хлебная) |\n",
    "\n",
    "---\n",
    "\n",
    "### **4. Ключевые моменты**\n",
    "1. **Геномные обозначения**:  \n",
    "   - **A, B, D** — основные геномы пшеницы.  \n",
    "   - **S (Ae. speltoides)** и **G (T. timopheevii)** — альтернативные обозначения для близких геномов.  \n",
    "\n",
    "2. **Происхождение полиплоидов**:  \n",
    "   - **AABB**: Гибридизация *T. urartu* (AA) × *Ae. speltoides* (SS).  \n",
    "   - **AABBDD**: Гибридизация *T. turgidum* (AABB) × *Ae. tauschii* (DD).  \n",
    "\n",
    "3. **Почему *Ae. speltoides* не считается \"пшеницей\"?**  \n",
    "   - Принадлежит к роду *Aegilops*, хотя и участвовал в образовании B-генома.  \n"
   ]
  },
  {
   "cell_type": "markdown",
   "id": "e0e4f653-d093-4c7f-a4ff-a72a8f2c1416",
   "metadata": {},
   "source": [
    "**В статье приведены данные о последовательностях только для диплоидных видов.**"
   ]
  },
  {
   "cell_type": "markdown",
   "id": "4e928986-6777-4ddc-973f-208de9dae3ed",
   "metadata": {},
   "source": [
    "## Get protein IDs"
   ]
  },
  {
   "cell_type": "code",
   "execution_count": 73,
   "id": "550415f8-6042-45c8-a337-d5df3b9f181c",
   "metadata": {
    "tags": []
   },
   "outputs": [
    {
     "name": "stdout",
     "output_type": "stream",
     "text": [
      "### Search for KM507181 ...\n",
      "ID: KM507181.1\n",
      "Описание: Triticum urartu centromeric histone H3 (alphaCENH3) mRNA, partial cds\n",
      "Найденные идентификаторы белков: AKM28567.1\n",
      "### Search for KM507182 ...\n",
      "ID: KM507182.1\n",
      "Описание: Aegilops speltoides centromeric histone H3 (alphaCENH3) mRNA, partial cds\n",
      "Найденные идентификаторы белков: AKM28568.1\n",
      "### Search for KM507183 ...\n",
      "ID: KM507183.1\n",
      "Описание: Aegilops tauschii centromeric histone H3 (alphaCENH3) mRNA, partial cds\n",
      "Найденные идентификаторы белков: AKM28569.1\n",
      "### Search for KM507184 ...\n",
      "ID: KM507184.1\n",
      "Описание: Triticum urartu centromeric histone H3 (betaCENH3) mRNA, partial cds\n",
      "Найденные идентификаторы белков: AKM28570.1\n",
      "### Search for KM507185 ...\n",
      "ID: KM507185.1\n",
      "Описание: Aegilops speltoides centromeric histone H3 (betaCENH3) mRNA, partial cds\n",
      "Найденные идентификаторы белков: AKM28571.1\n",
      "### Search for KM507186 ...\n",
      "ID: KM507186.1\n",
      "Описание: Aegilops tauschii centromeric histone H3 (betaCENH3) mRNA, partial cds\n",
      "Найденные идентификаторы белков: AKM28572.1\n"
     ]
    }
   ],
   "source": [
    "records_data = {}\n",
    "other_records = {}\n",
    "for accession_id in [f\"KM50718{i}\" for i in range(1, 7)]:\n",
    "    # ID записи в DDBJ\n",
    "    print(f\"### Search for {accession_id} ...\")\n",
    "    # Загружаем запись в формате GenBank\n",
    "    with Entrez.efetch(\n",
    "        db=\"nucleotide\", id=accession_id, rettype=\"gb\", retmode=\"text\"\n",
    "    ) as handle:\n",
    "        record = SeqIO.read(handle, \"genbank\")\n",
    "    if not (\n",
    "        record.annotations[\"organism\"].startswith(\"Triticum\")\n",
    "        or record.annotations[\"organism\"].startswith(\"Aegilops\")\n",
    "    ):\n",
    "        other_records[accession_id] = {\n",
    "            \"ID\": record.id,\n",
    "            \"Description\": record.description,\n",
    "            \"Organism\": record.annotations[\"organism\"],\n",
    "        }\n",
    "        continue\n",
    "    # Выводим информацию о записи\n",
    "    print(f\"ID: {record.id}\")\n",
    "    print(f\"Описание: {record.description}\")\n",
    "    # Извлекаем идентификаторы белков\n",
    "    protein_ids = []\n",
    "    for feature in record.features:\n",
    "        if feature.type == \"CDS\":  # Ищем только кодирующие последовательности (белки)\n",
    "            if \"protein_id\" in feature.qualifiers:\n",
    "                protein_ids.append(feature.qualifiers[\"protein_id\"][0])\n",
    "            elif (\n",
    "                \"db_xref\" in feature.qualifiers\n",
    "            ):  # Ищем идентификаторы в db_xref (например, UniProt)\n",
    "                for xref in feature.qualifiers[\"db_xref\"]:\n",
    "                    if xref.startswith(\"GI:\") or xref.startswith(\n",
    "                        \"UniProt:\"\n",
    "                    ):  # Можно добавить другие базы\n",
    "                        protein_ids.append(xref)\n",
    "    # Выводим результат\n",
    "    print(\"Найденные идентификаторы белков:\", end=\" \")\n",
    "    for pid in protein_ids:\n",
    "        print(pid)\n",
    "    records_data[accession_id] = {\n",
    "        \"ID\": record.id,\n",
    "        \"Description\": record.description,\n",
    "        \"Organism\": record.annotations[\"organism\"],\n",
    "        \"Protein ID\": protein_ids[0],\n",
    "    }"
   ]
  },
  {
   "cell_type": "code",
   "execution_count": 74,
   "id": "5aba848f-adf0-4363-a883-c8abc4f0525a",
   "metadata": {
    "tags": []
   },
   "outputs": [
    {
     "data": {
      "text/plain": [
       "{'KM507181': {'ID': 'KM507181.1',\n",
       "  'Description': 'Triticum urartu centromeric histone H3 (alphaCENH3) mRNA, partial cds',\n",
       "  'Organism': 'Triticum urartu',\n",
       "  'Protein ID': 'AKM28567.1'},\n",
       " 'KM507182': {'ID': 'KM507182.1',\n",
       "  'Description': 'Aegilops speltoides centromeric histone H3 (alphaCENH3) mRNA, partial cds',\n",
       "  'Organism': 'Aegilops speltoides',\n",
       "  'Protein ID': 'AKM28568.1'},\n",
       " 'KM507183': {'ID': 'KM507183.1',\n",
       "  'Description': 'Aegilops tauschii centromeric histone H3 (alphaCENH3) mRNA, partial cds',\n",
       "  'Organism': 'Aegilops tauschii',\n",
       "  'Protein ID': 'AKM28569.1'},\n",
       " 'KM507184': {'ID': 'KM507184.1',\n",
       "  'Description': 'Triticum urartu centromeric histone H3 (betaCENH3) mRNA, partial cds',\n",
       "  'Organism': 'Triticum urartu',\n",
       "  'Protein ID': 'AKM28570.1'},\n",
       " 'KM507185': {'ID': 'KM507185.1',\n",
       "  'Description': 'Aegilops speltoides centromeric histone H3 (betaCENH3) mRNA, partial cds',\n",
       "  'Organism': 'Aegilops speltoides',\n",
       "  'Protein ID': 'AKM28571.1'},\n",
       " 'KM507186': {'ID': 'KM507186.1',\n",
       "  'Description': 'Aegilops tauschii centromeric histone H3 (betaCENH3) mRNA, partial cds',\n",
       "  'Organism': 'Aegilops tauschii',\n",
       "  'Protein ID': 'AKM28572.1'}}"
      ]
     },
     "execution_count": 74,
     "metadata": {},
     "output_type": "execute_result"
    }
   ],
   "source": [
    "records_data"
   ]
  },
  {
   "cell_type": "code",
   "execution_count": 75,
   "id": "146ccbca-ed8b-4299-aadd-01d7afa76ea3",
   "metadata": {
    "tags": []
   },
   "outputs": [
    {
     "data": {
      "text/plain": [
       "{}"
      ]
     },
     "execution_count": 75,
     "metadata": {},
     "output_type": "execute_result"
    }
   ],
   "source": [
    "other_records"
   ]
  },
  {
   "cell_type": "markdown",
   "id": "bd47649d-3d53-426f-9cfa-2ba2064df120",
   "metadata": {},
   "source": [
    "## Add sequences to curatedDB"
   ]
  },
  {
   "cell_type": "code",
   "execution_count": 76,
   "id": "fd18984a-b860-4c35-9ac7-a269b7a892cc",
   "metadata": {
    "tags": []
   },
   "outputs": [
    {
     "data": {
      "text/html": [
       "<div>\n",
       "<style scoped>\n",
       "    .dataframe tbody tr th:only-of-type {\n",
       "        vertical-align: middle;\n",
       "    }\n",
       "\n",
       "    .dataframe tbody tr th {\n",
       "        vertical-align: top;\n",
       "    }\n",
       "\n",
       "    .dataframe thead th {\n",
       "        text-align: right;\n",
       "    }\n",
       "</style>\n",
       "<table border=\"1\" class=\"dataframe\">\n",
       "  <thead>\n",
       "    <tr style=\"text-align: right;\">\n",
       "      <th></th>\n",
       "      <th>accession</th>\n",
       "      <th>variant</th>\n",
       "      <th>gi</th>\n",
       "      <th>ncbi_gene_id</th>\n",
       "      <th>hgnc_gene_name</th>\n",
       "      <th>taxonomy_id</th>\n",
       "      <th>organism</th>\n",
       "      <th>phylum</th>\n",
       "      <th>class</th>\n",
       "      <th>taxonomy_group</th>\n",
       "      <th>info</th>\n",
       "      <th>sequence</th>\n",
       "      <th>variant_under_consideration</th>\n",
       "    </tr>\n",
       "  </thead>\n",
       "  <tbody>\n",
       "  </tbody>\n",
       "</table>\n",
       "</div>"
      ],
      "text/plain": [
       "Empty DataFrame\n",
       "Columns: [accession, variant, gi, ncbi_gene_id, hgnc_gene_name, taxonomy_id, organism, phylum, class, taxonomy_group, info, sequence, variant_under_consideration]\n",
       "Index: []"
      ]
     },
     "execution_count": 76,
     "metadata": {},
     "output_type": "execute_result"
    }
   ],
   "source": [
    "query = \"SELECT * FROM sequence \"\n",
    "cursor.execute(query)\n",
    "df = pd.DataFrame(cursor.fetchall(), columns=[i[0] for i in cursor.description])\n",
    "df[df[\"accession\"].isin([v[\"Protein ID\"] for k, v in records_data.items()])]"
   ]
  },
  {
   "cell_type": "code",
   "execution_count": 77,
   "id": "2520e227-c6e8-4e52-bf36-ba2bd416247e",
   "metadata": {
    "tags": []
   },
   "outputs": [
    {
     "data": {
      "text/plain": [
       "'MARTKHPAVRKTKAPPKKQLGPRPAQRRQETDGAGTSATPRRAGRAAAPGGAEGATGQPKQRKPHRFRPGTVALREIRRYQKSVDFLIPFAPFVRLIKEVTDFFCPEISRWTPQALVAIQEAAEYHLVDVFERANHCAIHAKRVTVMQKDIQLARRIGGRRLW'"
      ]
     },
     "execution_count": 77,
     "metadata": {},
     "output_type": "execute_result"
    }
   ],
   "source": [
    "with Entrez.efetch(\n",
    "    db=\"protein\", id=\"AKM28567.1\", rettype=\"gb\", retmode=\"text\"\n",
    ") as handle:\n",
    "    record = SeqIO.read(handle, \"genbank\")\n",
    "str(record.seq)"
   ]
  },
  {
   "cell_type": "code",
   "execution_count": 81,
   "id": "66043962-2469-4f68-ad02-205866563e38",
   "metadata": {
    "tags": []
   },
   "outputs": [
    {
     "name": "stdout",
     "output_type": "stream",
     "text": [
      "Fetched taxid from NCBI 4572\n",
      "Fetched taxid from NCBI 4573\n",
      "Fetched taxid from NCBI 37682\n",
      "Fetched taxid from NCBI 4572\n",
      "Fetched taxid from NCBI 4573\n",
      "Fetched taxid from NCBI 37682\n",
      "accession AKM28572.1 <class 'str'>\n",
      "variant cenH3.2_(Triticeae) <class 'str'>\n",
      "gi None <class 'NoneType'>\n",
      "ncbi_gene_id None <class 'NoneType'>\n",
      "hgnc_gene_name None <class 'NoneType'>\n",
      "taxonomy_id 37682 <class 'int'>\n",
      "organism Aegilops tauschii <class 'str'>\n",
      "phylum Streptophyta <class 'str'>\n",
      "class Magnoliopsida <class 'str'>\n",
      "taxonomy_group None <class 'NoneType'>\n",
      "info None <class 'NoneType'>\n",
      "sequence MGRTKHAVAATATTTTTETKKRLRFELSPRWRPPPPMRQVPPEPQPEKKKKRAYRFRPGTVALREVRKYQKSTGPLIPFAPFVRLVKEITNDLTKGELNHWTPQALFALQEAAEYHIVDVFEKANLCAIHAKRVTIMQKDIQLARRIGGRRLW <class 'str'>\n",
      "variant_under_consideration None <class 'NoneType'>\n"
     ]
    }
   ],
   "source": [
    "variant_dict = {\"alphaCENH3\": \"cenH3.1_(Triticeae)\", \"betaCENH3\": \"cenH3.2_(Triticeae)\"}\n",
    "data_sequence_list = []\n",
    "for k, v in records_data.items():\n",
    "    with Entrez.efetch(\n",
    "        db=\"protein\", id=v[\"Protein ID\"], rettype=\"gb\", retmode=\"text\"\n",
    "    ) as handle:\n",
    "        record = SeqIO.read(handle, \"genbank\")\n",
    "    isoform = v[\"Description\"].split(\"(\")[1].split(\")\")[0]\n",
    "    taxonomy_data = get_taxonomy_data(record)\n",
    "    data_sequence = {\n",
    "        \"accession\": record.id,\n",
    "        \"variant\": variant_dict[isoform],\n",
    "        \"gi\": None,\n",
    "        \"ncbi_gene_id\": None,\n",
    "        \"hgnc_gene_name\": None,\n",
    "        \"taxonomy_id\": None,\n",
    "        \"organism\": None,\n",
    "        \"phylum\": None,\n",
    "        \"class\": None,\n",
    "        \"taxonomy_group\": None,\n",
    "        \"info\": None,\n",
    "        \"sequence\": str(record.seq),\n",
    "        \"variant_under_consideration\": None,\n",
    "    }\n",
    "    data_sequence.update(taxonomy_data)\n",
    "    data_sequence_list.append(data_sequence)\n",
    "for k, v in data_sequence_list[-1].items():\n",
    "    print(k, v, type(v))"
   ]
  },
  {
   "cell_type": "code",
   "execution_count": 85,
   "id": "d8a6009d-d50c-469b-80b4-87365d989af4",
   "metadata": {
    "tags": []
   },
   "outputs": [],
   "source": [
    "for ds in data_sequence_list:\n",
    "    cursor.execute(add_sequence, ds)"
   ]
  },
  {
   "cell_type": "code",
   "execution_count": 86,
   "id": "00150a62-0f0e-4a76-84e6-3f378366ff32",
   "metadata": {
    "tags": []
   },
   "outputs": [
    {
     "data": {
      "text/html": [
       "<div>\n",
       "<style scoped>\n",
       "    .dataframe tbody tr th:only-of-type {\n",
       "        vertical-align: middle;\n",
       "    }\n",
       "\n",
       "    .dataframe tbody tr th {\n",
       "        vertical-align: top;\n",
       "    }\n",
       "\n",
       "    .dataframe thead th {\n",
       "        text-align: right;\n",
       "    }\n",
       "</style>\n",
       "<table border=\"1\" class=\"dataframe\">\n",
       "  <thead>\n",
       "    <tr style=\"text-align: right;\">\n",
       "      <th></th>\n",
       "      <th>accession</th>\n",
       "      <th>variant</th>\n",
       "      <th>gi</th>\n",
       "      <th>ncbi_gene_id</th>\n",
       "      <th>hgnc_gene_name</th>\n",
       "      <th>taxonomy_id</th>\n",
       "      <th>organism</th>\n",
       "      <th>phylum</th>\n",
       "      <th>class</th>\n",
       "      <th>taxonomy_group</th>\n",
       "      <th>info</th>\n",
       "      <th>sequence</th>\n",
       "      <th>variant_under_consideration</th>\n",
       "    </tr>\n",
       "  </thead>\n",
       "  <tbody>\n",
       "    <tr>\n",
       "      <th>327</th>\n",
       "      <td>AKM28567.1</td>\n",
       "      <td>cenH3.1_(Triticeae)</td>\n",
       "      <td>None</td>\n",
       "      <td>None</td>\n",
       "      <td>None</td>\n",
       "      <td>4572.0</td>\n",
       "      <td>Triticum urartu</td>\n",
       "      <td>Streptophyta</td>\n",
       "      <td>Magnoliopsida</td>\n",
       "      <td>None</td>\n",
       "      <td>None</td>\n",
       "      <td>MARTKHPAVRKTKAPPKKQLGPRPAQRRQETDGAGTSATPRRAGRA...</td>\n",
       "      <td>None</td>\n",
       "    </tr>\n",
       "    <tr>\n",
       "      <th>328</th>\n",
       "      <td>AKM28568.1</td>\n",
       "      <td>cenH3.1_(Triticeae)</td>\n",
       "      <td>None</td>\n",
       "      <td>None</td>\n",
       "      <td>None</td>\n",
       "      <td>4573.0</td>\n",
       "      <td>Aegilops speltoides</td>\n",
       "      <td>Streptophyta</td>\n",
       "      <td>Magnoliopsida</td>\n",
       "      <td>None</td>\n",
       "      <td>None</td>\n",
       "      <td>MGRTKHPAVRKTKAPPKKQLGPRPAQRRQETDGAGTSATPRRAGRA...</td>\n",
       "      <td>None</td>\n",
       "    </tr>\n",
       "    <tr>\n",
       "      <th>329</th>\n",
       "      <td>AKM28569.1</td>\n",
       "      <td>cenH3.1_(Triticeae)</td>\n",
       "      <td>None</td>\n",
       "      <td>None</td>\n",
       "      <td>None</td>\n",
       "      <td>37682.0</td>\n",
       "      <td>Aegilops tauschii</td>\n",
       "      <td>Streptophyta</td>\n",
       "      <td>Magnoliopsida</td>\n",
       "      <td>None</td>\n",
       "      <td>None</td>\n",
       "      <td>MARTKHPAVRKTKAPPKKQLGPRPAQRRQETGATGQPKQRKPHRFR...</td>\n",
       "      <td>None</td>\n",
       "    </tr>\n",
       "    <tr>\n",
       "      <th>330</th>\n",
       "      <td>AKM28570.1</td>\n",
       "      <td>cenH3.2_(Triticeae)</td>\n",
       "      <td>None</td>\n",
       "      <td>None</td>\n",
       "      <td>None</td>\n",
       "      <td>4572.0</td>\n",
       "      <td>Triticum urartu</td>\n",
       "      <td>Streptophyta</td>\n",
       "      <td>Magnoliopsida</td>\n",
       "      <td>None</td>\n",
       "      <td>None</td>\n",
       "      <td>MGRTKHAVAATAATTETKKRLRFELSPRWRPPPALRQVPPEPQPEK...</td>\n",
       "      <td>None</td>\n",
       "    </tr>\n",
       "    <tr>\n",
       "      <th>331</th>\n",
       "      <td>AKM28571.1</td>\n",
       "      <td>cenH3.2_(Triticeae)</td>\n",
       "      <td>None</td>\n",
       "      <td>None</td>\n",
       "      <td>None</td>\n",
       "      <td>4573.0</td>\n",
       "      <td>Aegilops speltoides</td>\n",
       "      <td>Streptophyta</td>\n",
       "      <td>Magnoliopsida</td>\n",
       "      <td>None</td>\n",
       "      <td>None</td>\n",
       "      <td>MGRTKHAVAATAATTETKKRLRFELSPRWRPPPPMRQVPPEPQPQP...</td>\n",
       "      <td>None</td>\n",
       "    </tr>\n",
       "    <tr>\n",
       "      <th>332</th>\n",
       "      <td>AKM28572.1</td>\n",
       "      <td>cenH3.2_(Triticeae)</td>\n",
       "      <td>None</td>\n",
       "      <td>None</td>\n",
       "      <td>None</td>\n",
       "      <td>37682.0</td>\n",
       "      <td>Aegilops tauschii</td>\n",
       "      <td>Streptophyta</td>\n",
       "      <td>Magnoliopsida</td>\n",
       "      <td>None</td>\n",
       "      <td>None</td>\n",
       "      <td>MGRTKHAVAATATTTTTETKKRLRFELSPRWRPPPPMRQVPPEPQP...</td>\n",
       "      <td>None</td>\n",
       "    </tr>\n",
       "  </tbody>\n",
       "</table>\n",
       "</div>"
      ],
      "text/plain": [
       "      accession              variant    gi ncbi_gene_id hgnc_gene_name  \\\n",
       "327  AKM28567.1  cenH3.1_(Triticeae)  None         None           None   \n",
       "328  AKM28568.1  cenH3.1_(Triticeae)  None         None           None   \n",
       "329  AKM28569.1  cenH3.1_(Triticeae)  None         None           None   \n",
       "330  AKM28570.1  cenH3.2_(Triticeae)  None         None           None   \n",
       "331  AKM28571.1  cenH3.2_(Triticeae)  None         None           None   \n",
       "332  AKM28572.1  cenH3.2_(Triticeae)  None         None           None   \n",
       "\n",
       "     taxonomy_id             organism        phylum          class  \\\n",
       "327       4572.0      Triticum urartu  Streptophyta  Magnoliopsida   \n",
       "328       4573.0  Aegilops speltoides  Streptophyta  Magnoliopsida   \n",
       "329      37682.0    Aegilops tauschii  Streptophyta  Magnoliopsida   \n",
       "330       4572.0      Triticum urartu  Streptophyta  Magnoliopsida   \n",
       "331       4573.0  Aegilops speltoides  Streptophyta  Magnoliopsida   \n",
       "332      37682.0    Aegilops tauschii  Streptophyta  Magnoliopsida   \n",
       "\n",
       "    taxonomy_group  info                                           sequence  \\\n",
       "327           None  None  MARTKHPAVRKTKAPPKKQLGPRPAQRRQETDGAGTSATPRRAGRA...   \n",
       "328           None  None  MGRTKHPAVRKTKAPPKKQLGPRPAQRRQETDGAGTSATPRRAGRA...   \n",
       "329           None  None  MARTKHPAVRKTKAPPKKQLGPRPAQRRQETGATGQPKQRKPHRFR...   \n",
       "330           None  None  MGRTKHAVAATAATTETKKRLRFELSPRWRPPPALRQVPPEPQPEK...   \n",
       "331           None  None  MGRTKHAVAATAATTETKKRLRFELSPRWRPPPPMRQVPPEPQPQP...   \n",
       "332           None  None  MGRTKHAVAATATTTTTETKKRLRFELSPRWRPPPPMRQVPPEPQP...   \n",
       "\n",
       "    variant_under_consideration  \n",
       "327                        None  \n",
       "328                        None  \n",
       "329                        None  \n",
       "330                        None  \n",
       "331                        None  \n",
       "332                        None  "
      ]
     },
     "execution_count": 86,
     "metadata": {},
     "output_type": "execute_result"
    }
   ],
   "source": [
    "query = \"SELECT * FROM sequence \"\n",
    "cursor.execute(query)\n",
    "df = pd.DataFrame(cursor.fetchall(), columns=[i[0] for i in cursor.description])\n",
    "df[df[\"accession\"].isin([v[\"Protein ID\"] for k, v in records_data.items()])]"
   ]
  },
  {
   "cell_type": "code",
   "execution_count": 91,
   "id": "c4cf8a5f-4b07-4e73-9167-919cd3f3d2d0",
   "metadata": {
    "tags": []
   },
   "outputs": [],
   "source": [
    "# Make sure data is committed to the database\n",
    "conn.commit()"
   ]
  },
  {
   "cell_type": "markdown",
   "id": "0fb80dba-0809-467c-90ff-b3a4da534ebb",
   "metadata": {},
   "source": [
    "## Add sequence publication"
   ]
  },
  {
   "cell_type": "code",
   "execution_count": 92,
   "id": "60c7b8ee-64b7-4f5f-b00b-514fea4cb4c1",
   "metadata": {
    "tags": []
   },
   "outputs": [
    {
     "data": {
      "text/html": [
       "<div>\n",
       "<style scoped>\n",
       "    .dataframe tbody tr th:only-of-type {\n",
       "        vertical-align: middle;\n",
       "    }\n",
       "\n",
       "    .dataframe tbody tr th {\n",
       "        vertical-align: top;\n",
       "    }\n",
       "\n",
       "    .dataframe thead th {\n",
       "        text-align: right;\n",
       "    }\n",
       "</style>\n",
       "<table border=\"1\" class=\"dataframe\">\n",
       "  <thead>\n",
       "    <tr style=\"text-align: right;\">\n",
       "      <th></th>\n",
       "      <th>id</th>\n",
       "      <th>title</th>\n",
       "      <th>doi</th>\n",
       "      <th>author</th>\n",
       "      <th>year</th>\n",
       "    </tr>\n",
       "  </thead>\n",
       "  <tbody>\n",
       "    <tr>\n",
       "      <th>0</th>\n",
       "      <td>yuan_characterization_2015</td>\n",
       "      <td>Characterization of two CENH3 genes and their ...</td>\n",
       "      <td>10.1111/nph.13235</td>\n",
       "      <td>None</td>\n",
       "      <td>2015</td>\n",
       "    </tr>\n",
       "  </tbody>\n",
       "</table>\n",
       "</div>"
      ],
      "text/plain": [
       "                           id  \\\n",
       "0  yuan_characterization_2015   \n",
       "\n",
       "                                               title                doi  \\\n",
       "0  Characterization of two CENH3 genes and their ...  10.1111/nph.13235   \n",
       "\n",
       "  author  year  \n",
       "0   None  2015  "
      ]
     },
     "execution_count": 92,
     "metadata": {},
     "output_type": "execute_result"
    }
   ],
   "source": [
    "pid = \"yuan_characterization_2015\"\n",
    "query = f\"SELECT * FROM publication WHERE id='{pid}'\"\n",
    "cursor.execute(query)\n",
    "pd.DataFrame(cursor.fetchall(), columns=[i[0] for i in cursor.description])"
   ]
  },
  {
   "cell_type": "code",
   "execution_count": 93,
   "id": "be137ccb-51c9-4964-aee5-b0589a281424",
   "metadata": {
    "tags": []
   },
   "outputs": [],
   "source": [
    "for acc in [v[\"Protein ID\"] for k, v in records_data.items()]:\n",
    "    cursor.execute(add_sequence_has_publication, (acc, pid))"
   ]
  },
  {
   "cell_type": "code",
   "execution_count": 94,
   "id": "a5140363-2c51-48ee-b718-575d0c766e42",
   "metadata": {
    "tags": []
   },
   "outputs": [
    {
     "data": {
      "text/html": [
       "<div>\n",
       "<style scoped>\n",
       "    .dataframe tbody tr th:only-of-type {\n",
       "        vertical-align: middle;\n",
       "    }\n",
       "\n",
       "    .dataframe tbody tr th {\n",
       "        vertical-align: top;\n",
       "    }\n",
       "\n",
       "    .dataframe thead th {\n",
       "        text-align: right;\n",
       "    }\n",
       "</style>\n",
       "<table border=\"1\" class=\"dataframe\">\n",
       "  <thead>\n",
       "    <tr style=\"text-align: right;\">\n",
       "      <th></th>\n",
       "      <th>accession</th>\n",
       "      <th>variant</th>\n",
       "      <th>gi</th>\n",
       "      <th>ncbi_gene_id</th>\n",
       "      <th>hgnc_gene_name</th>\n",
       "      <th>taxonomy_id</th>\n",
       "      <th>organism</th>\n",
       "      <th>phylum</th>\n",
       "      <th>class</th>\n",
       "      <th>taxonomy_group</th>\n",
       "      <th>info</th>\n",
       "      <th>sequence</th>\n",
       "      <th>variant_under_consideration</th>\n",
       "      <th>sequence_accession</th>\n",
       "      <th>publication_id</th>\n",
       "    </tr>\n",
       "  </thead>\n",
       "  <tbody>\n",
       "    <tr>\n",
       "      <th>404</th>\n",
       "      <td>AKM28567.1</td>\n",
       "      <td>cenH3.1_(Triticeae)</td>\n",
       "      <td>None</td>\n",
       "      <td>None</td>\n",
       "      <td>None</td>\n",
       "      <td>4572.0</td>\n",
       "      <td>Triticum urartu</td>\n",
       "      <td>Streptophyta</td>\n",
       "      <td>Magnoliopsida</td>\n",
       "      <td>None</td>\n",
       "      <td>None</td>\n",
       "      <td>MARTKHPAVRKTKAPPKKQLGPRPAQRRQETDGAGTSATPRRAGRA...</td>\n",
       "      <td>None</td>\n",
       "      <td>AKM28567.1</td>\n",
       "      <td>yuan_characterization_2015</td>\n",
       "    </tr>\n",
       "    <tr>\n",
       "      <th>405</th>\n",
       "      <td>AKM28568.1</td>\n",
       "      <td>cenH3.1_(Triticeae)</td>\n",
       "      <td>None</td>\n",
       "      <td>None</td>\n",
       "      <td>None</td>\n",
       "      <td>4573.0</td>\n",
       "      <td>Aegilops speltoides</td>\n",
       "      <td>Streptophyta</td>\n",
       "      <td>Magnoliopsida</td>\n",
       "      <td>None</td>\n",
       "      <td>None</td>\n",
       "      <td>MGRTKHPAVRKTKAPPKKQLGPRPAQRRQETDGAGTSATPRRAGRA...</td>\n",
       "      <td>None</td>\n",
       "      <td>AKM28568.1</td>\n",
       "      <td>yuan_characterization_2015</td>\n",
       "    </tr>\n",
       "    <tr>\n",
       "      <th>406</th>\n",
       "      <td>AKM28569.1</td>\n",
       "      <td>cenH3.1_(Triticeae)</td>\n",
       "      <td>None</td>\n",
       "      <td>None</td>\n",
       "      <td>None</td>\n",
       "      <td>37682.0</td>\n",
       "      <td>Aegilops tauschii</td>\n",
       "      <td>Streptophyta</td>\n",
       "      <td>Magnoliopsida</td>\n",
       "      <td>None</td>\n",
       "      <td>None</td>\n",
       "      <td>MARTKHPAVRKTKAPPKKQLGPRPAQRRQETGATGQPKQRKPHRFR...</td>\n",
       "      <td>None</td>\n",
       "      <td>AKM28569.1</td>\n",
       "      <td>yuan_characterization_2015</td>\n",
       "    </tr>\n",
       "    <tr>\n",
       "      <th>407</th>\n",
       "      <td>AKM28570.1</td>\n",
       "      <td>cenH3.2_(Triticeae)</td>\n",
       "      <td>None</td>\n",
       "      <td>None</td>\n",
       "      <td>None</td>\n",
       "      <td>4572.0</td>\n",
       "      <td>Triticum urartu</td>\n",
       "      <td>Streptophyta</td>\n",
       "      <td>Magnoliopsida</td>\n",
       "      <td>None</td>\n",
       "      <td>None</td>\n",
       "      <td>MGRTKHAVAATAATTETKKRLRFELSPRWRPPPALRQVPPEPQPEK...</td>\n",
       "      <td>None</td>\n",
       "      <td>AKM28570.1</td>\n",
       "      <td>yuan_characterization_2015</td>\n",
       "    </tr>\n",
       "    <tr>\n",
       "      <th>408</th>\n",
       "      <td>AKM28571.1</td>\n",
       "      <td>cenH3.2_(Triticeae)</td>\n",
       "      <td>None</td>\n",
       "      <td>None</td>\n",
       "      <td>None</td>\n",
       "      <td>4573.0</td>\n",
       "      <td>Aegilops speltoides</td>\n",
       "      <td>Streptophyta</td>\n",
       "      <td>Magnoliopsida</td>\n",
       "      <td>None</td>\n",
       "      <td>None</td>\n",
       "      <td>MGRTKHAVAATAATTETKKRLRFELSPRWRPPPPMRQVPPEPQPQP...</td>\n",
       "      <td>None</td>\n",
       "      <td>AKM28571.1</td>\n",
       "      <td>yuan_characterization_2015</td>\n",
       "    </tr>\n",
       "    <tr>\n",
       "      <th>409</th>\n",
       "      <td>AKM28572.1</td>\n",
       "      <td>cenH3.2_(Triticeae)</td>\n",
       "      <td>None</td>\n",
       "      <td>None</td>\n",
       "      <td>None</td>\n",
       "      <td>37682.0</td>\n",
       "      <td>Aegilops tauschii</td>\n",
       "      <td>Streptophyta</td>\n",
       "      <td>Magnoliopsida</td>\n",
       "      <td>None</td>\n",
       "      <td>None</td>\n",
       "      <td>MGRTKHAVAATATTTTTETKKRLRFELSPRWRPPPPMRQVPPEPQP...</td>\n",
       "      <td>None</td>\n",
       "      <td>AKM28572.1</td>\n",
       "      <td>yuan_characterization_2015</td>\n",
       "    </tr>\n",
       "  </tbody>\n",
       "</table>\n",
       "</div>"
      ],
      "text/plain": [
       "      accession              variant    gi ncbi_gene_id hgnc_gene_name  \\\n",
       "404  AKM28567.1  cenH3.1_(Triticeae)  None         None           None   \n",
       "405  AKM28568.1  cenH3.1_(Triticeae)  None         None           None   \n",
       "406  AKM28569.1  cenH3.1_(Triticeae)  None         None           None   \n",
       "407  AKM28570.1  cenH3.2_(Triticeae)  None         None           None   \n",
       "408  AKM28571.1  cenH3.2_(Triticeae)  None         None           None   \n",
       "409  AKM28572.1  cenH3.2_(Triticeae)  None         None           None   \n",
       "\n",
       "     taxonomy_id             organism        phylum          class  \\\n",
       "404       4572.0      Triticum urartu  Streptophyta  Magnoliopsida   \n",
       "405       4573.0  Aegilops speltoides  Streptophyta  Magnoliopsida   \n",
       "406      37682.0    Aegilops tauschii  Streptophyta  Magnoliopsida   \n",
       "407       4572.0      Triticum urartu  Streptophyta  Magnoliopsida   \n",
       "408       4573.0  Aegilops speltoides  Streptophyta  Magnoliopsida   \n",
       "409      37682.0    Aegilops tauschii  Streptophyta  Magnoliopsida   \n",
       "\n",
       "    taxonomy_group  info                                           sequence  \\\n",
       "404           None  None  MARTKHPAVRKTKAPPKKQLGPRPAQRRQETDGAGTSATPRRAGRA...   \n",
       "405           None  None  MGRTKHPAVRKTKAPPKKQLGPRPAQRRQETDGAGTSATPRRAGRA...   \n",
       "406           None  None  MARTKHPAVRKTKAPPKKQLGPRPAQRRQETGATGQPKQRKPHRFR...   \n",
       "407           None  None  MGRTKHAVAATAATTETKKRLRFELSPRWRPPPALRQVPPEPQPEK...   \n",
       "408           None  None  MGRTKHAVAATAATTETKKRLRFELSPRWRPPPPMRQVPPEPQPQP...   \n",
       "409           None  None  MGRTKHAVAATATTTTTETKKRLRFELSPRWRPPPPMRQVPPEPQP...   \n",
       "\n",
       "    variant_under_consideration sequence_accession              publication_id  \n",
       "404                        None         AKM28567.1  yuan_characterization_2015  \n",
       "405                        None         AKM28568.1  yuan_characterization_2015  \n",
       "406                        None         AKM28569.1  yuan_characterization_2015  \n",
       "407                        None         AKM28570.1  yuan_characterization_2015  \n",
       "408                        None         AKM28571.1  yuan_characterization_2015  \n",
       "409                        None         AKM28572.1  yuan_characterization_2015  "
      ]
     },
     "execution_count": 94,
     "metadata": {},
     "output_type": "execute_result"
    }
   ],
   "source": [
    "query = (\n",
    "    \"SELECT * FROM sequence s LEFT JOIN sequence_has_publication sp \"\n",
    "    \"ON s.accession = sp.sequence_accession \"\n",
    ")\n",
    "cursor.execute(query)\n",
    "df = pd.DataFrame(cursor.fetchall(), columns=[i[0] for i in cursor.description])\n",
    "df[df[\"accession\"].isin([v[\"Protein ID\"] for k, v in records_data.items()])]"
   ]
  },
  {
   "cell_type": "code",
   "execution_count": 95,
   "id": "11a67b0b-b843-4fae-9fd9-eaa983dfb96d",
   "metadata": {
    "tags": []
   },
   "outputs": [],
   "source": [
    "# Make sure data is committed to the database\n",
    "conn.commit()"
   ]
  },
  {
   "cell_type": "markdown",
   "id": "9e8bad07-ef74-40fd-a93b-e7897df0c591",
   "metadata": {
    "tags": []
   },
   "source": [
    "# Close connections"
   ]
  },
  {
   "cell_type": "code",
   "execution_count": 96,
   "id": "e5673501-5845-491a-bbb9-f5d213721d58",
   "metadata": {
    "tags": []
   },
   "outputs": [],
   "source": [
    "cursor.close()\n",
    "conn.close()\n",
    "tunnel.stop()"
   ]
  },
  {
   "cell_type": "code",
   "execution_count": null,
   "id": "cb31877a-4a31-479b-a644-fe317e5e9a51",
   "metadata": {},
   "outputs": [],
   "source": []
  }
 ],
 "metadata": {
  "kernelspec": {
   "display_name": ".conda-histdb_env",
   "language": "python",
   "name": "conda-env-.conda-histdb_env-py"
  },
  "language_info": {
   "codemirror_mode": {
    "name": "ipython",
    "version": 3
   },
   "file_extension": ".py",
   "mimetype": "text/x-python",
   "name": "python",
   "nbconvert_exporter": "python",
   "pygments_lexer": "ipython3",
   "version": "3.8.1"
  }
 },
 "nbformat": 4,
 "nbformat_minor": 5
}
