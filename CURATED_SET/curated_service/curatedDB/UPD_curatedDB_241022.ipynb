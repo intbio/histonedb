{
 "cells": [
  {
   "cell_type": "code",
   "execution_count": 1,
   "id": "fb32231a-293e-45b8-af7d-d996c91a4edd",
   "metadata": {
    "tags": []
   },
   "outputs": [],
   "source": [
    "import pandas as pd\n",
    "from mysql.connector import connection\n",
    "from sshtunnel import SSHTunnelForwarder"
   ]
  },
  {
   "cell_type": "code",
   "execution_count": 2,
   "id": "d5fa78a7-4901-4e63-9d91-d9ed584d2f62",
   "metadata": {
    "tags": []
   },
   "outputs": [],
   "source": [
    "with open(\"db_curated_server_info.txt\", \"r\") as file:\n",
    "    lines = file.readlines()\n",
    "\n",
    "config = {}\n",
    "\n",
    "for line in lines:\n",
    "    line = line.strip()\n",
    "    if line and not line.startswith(\"#\"):\n",
    "        key, value = line.split(\"=\", 1)\n",
    "        config[key] = value.strip()\n",
    "\n",
    "server_name = config.get(\"server_name\")\n",
    "srever_port = int(config.get(\"srever_port\"))\n",
    "ssh_password = config.get(\"ssh_password\")\n",
    "ssh_username = config.get(\"ssh_username\")\n",
    "db_adress = config.get(\"db_adress\")\n",
    "db_port = int(config.get(\"db_port\"))"
   ]
  },
  {
   "cell_type": "code",
   "execution_count": 3,
   "id": "ebe3d2e8-9736-4fd9-b3f1-5ec2d255567d",
   "metadata": {
    "tags": []
   },
   "outputs": [
    {
     "name": "stdout",
     "output_type": "stream",
     "text": [
      "36235\n"
     ]
    }
   ],
   "source": [
    "tunnel = SSHTunnelForwarder(\n",
    "    (server_name, srever_port),\n",
    "    ssh_password=ssh_password,\n",
    "    ssh_username=ssh_username,\n",
    "    remote_bind_address=(db_adress, db_port),\n",
    ")\n",
    "tunnel.start()\n",
    "print(tunnel.local_bind_port)"
   ]
  },
  {
   "cell_type": "code",
   "execution_count": 4,
   "id": "0de93630-7502-40f3-ad24-42edf7a11eef",
   "metadata": {
    "tags": []
   },
   "outputs": [],
   "source": [
    "conn = connection.MySQLConnection(\n",
    "    user=\"db_user\",\n",
    "    password=\"db_password\",\n",
    "    host=\"localhost\",\n",
    "    port=tunnel.local_bind_port,\n",
    "    database=\"db_name\",\n",
    ")\n",
    "cursor = conn.cursor()"
   ]
  },
  {
   "cell_type": "code",
   "execution_count": 5,
   "id": "b4767ba0-4ea1-43ae-953f-f2575d9b7a69",
   "metadata": {
    "tags": []
   },
   "outputs": [
    {
     "data": {
      "text/plain": [
       "[('alternative_name',),\n",
       " ('histone',),\n",
       " ('histone_description',),\n",
       " ('histone_has_publication',),\n",
       " ('publication',),\n",
       " ('sequence',),\n",
       " ('sequence_has_publication',)]"
      ]
     },
     "execution_count": 5,
     "metadata": {},
     "output_type": "execute_result"
    }
   ],
   "source": [
    "query = \"SHOW TABLES;\"\n",
    "cursor.execute(query)\n",
    "cursor.fetchall()"
   ]
  },
  {
   "cell_type": "code",
   "execution_count": 6,
   "id": "c68d4b8f-c22c-4f8e-bb4f-71f95668656e",
   "metadata": {
    "tags": []
   },
   "outputs": [],
   "source": [
    "add_publication = (\n",
    "    \"INSERT INTO publication \"\n",
    "    \"(id, title, doi, author, year) \"\n",
    "    \"VALUES (%(id)s, %(title)s, %(doi)s, %(author)s, %(year)s)\"\n",
    ")\n",
    "add_sequence_has_publication = (\n",
    "    \"INSERT INTO sequence_has_publication \"\n",
    "    \"(sequence_accession, publication_id) \"\n",
    "    \"VALUES (%s, %s)\"\n",
    ")"
   ]
  },
  {
   "cell_type": "markdown",
   "id": "e91465e3-5f62-4d7e-bb56-f845d4fc97b1",
   "metadata": {
    "tags": []
   },
   "source": [
    "# Update references of H2B.W sequences"
   ]
  },
  {
   "cell_type": "code",
   "execution_count": 7,
   "id": "a3bc2030-7177-4ab7-a62c-ec9084367ff0",
   "metadata": {
    "tags": []
   },
   "outputs": [
    {
     "data": {
      "text/html": [
       "<div>\n",
       "<style scoped>\n",
       "    .dataframe tbody tr th:only-of-type {\n",
       "        vertical-align: middle;\n",
       "    }\n",
       "\n",
       "    .dataframe tbody tr th {\n",
       "        vertical-align: top;\n",
       "    }\n",
       "\n",
       "    .dataframe thead th {\n",
       "        text-align: right;\n",
       "    }\n",
       "</style>\n",
       "<table border=\"1\" class=\"dataframe\">\n",
       "  <thead>\n",
       "    <tr style=\"text-align: right;\">\n",
       "      <th></th>\n",
       "      <th>accession</th>\n",
       "      <th>variant</th>\n",
       "      <th>gi</th>\n",
       "      <th>ncbi_gene_id</th>\n",
       "      <th>hgnc_gene_name</th>\n",
       "      <th>taxonomy_id</th>\n",
       "      <th>organism</th>\n",
       "      <th>phylum</th>\n",
       "      <th>class</th>\n",
       "      <th>taxonomy_group</th>\n",
       "      <th>info</th>\n",
       "      <th>sequence</th>\n",
       "      <th>variant_under_consideration</th>\n",
       "      <th>sequence_accession</th>\n",
       "      <th>publication_id</th>\n",
       "    </tr>\n",
       "  </thead>\n",
       "  <tbody>\n",
       "    <tr>\n",
       "      <th>38</th>\n",
       "      <td>DAA13058.1</td>\n",
       "      <td>H2B.W</td>\n",
       "      <td>296470943</td>\n",
       "      <td>None</td>\n",
       "      <td>None</td>\n",
       "      <td>9913.0</td>\n",
       "      <td>Bos taurus</td>\n",
       "      <td>Chordata</td>\n",
       "      <td>Mammalia</td>\n",
       "      <td>None</td>\n",
       "      <td>None</td>\n",
       "      <td>MGIGGSILSETSSDSYEEDVITKETGISEIEPSEKEMAKVETSKPD...</td>\n",
       "      <td>None</td>\n",
       "      <td>None</td>\n",
       "      <td>None</td>\n",
       "    </tr>\n",
       "    <tr>\n",
       "      <th>199</th>\n",
       "      <td>NP_001180847.1</td>\n",
       "      <td>H2B.W</td>\n",
       "      <td>302564969</td>\n",
       "      <td>None</td>\n",
       "      <td>None</td>\n",
       "      <td>9544.0</td>\n",
       "      <td>Macaca mulatta</td>\n",
       "      <td>Chordata</td>\n",
       "      <td>Mammalia</td>\n",
       "      <td>None</td>\n",
       "      <td>None</td>\n",
       "      <td>MLRTQVPPLLRSTTAIVWSCRVMAAASAMAEPSSETTSEEQLITQE...</td>\n",
       "      <td>None</td>\n",
       "      <td>None</td>\n",
       "      <td>None</td>\n",
       "    </tr>\n",
       "    <tr>\n",
       "      <th>575</th>\n",
       "      <td>XP_002720211.1</td>\n",
       "      <td>H2B.W</td>\n",
       "      <td>291407712</td>\n",
       "      <td>None</td>\n",
       "      <td>None</td>\n",
       "      <td>9986.0</td>\n",
       "      <td>Oryctolagus cuniculus</td>\n",
       "      <td>Chordata</td>\n",
       "      <td>Mammalia</td>\n",
       "      <td>None</td>\n",
       "      <td>None</td>\n",
       "      <td>MAEPASHVASEENLSLEPKTTASSTPKEKQPRRRRRRRQGHNYSFA...</td>\n",
       "      <td>None</td>\n",
       "      <td>None</td>\n",
       "      <td>None</td>\n",
       "    </tr>\n",
       "    <tr>\n",
       "      <th>592</th>\n",
       "      <td>XP_002925981.1</td>\n",
       "      <td>H2B.W</td>\n",
       "      <td>301781100</td>\n",
       "      <td>None</td>\n",
       "      <td>None</td>\n",
       "      <td>9646.0</td>\n",
       "      <td>Ailuropoda melanoleuca</td>\n",
       "      <td>Chordata</td>\n",
       "      <td>Mammalia</td>\n",
       "      <td>None</td>\n",
       "      <td>None</td>\n",
       "      <td>MAEPGCETSSEESLGTEEPSAANPKSPKQKQKQPRRQCRRRCRRCP...</td>\n",
       "      <td>None</td>\n",
       "      <td>None</td>\n",
       "      <td>None</td>\n",
       "    </tr>\n",
       "    <tr>\n",
       "      <th>745</th>\n",
       "      <td>XP_548517.2</td>\n",
       "      <td>H2B.W</td>\n",
       "      <td>545560116</td>\n",
       "      <td>None</td>\n",
       "      <td>None</td>\n",
       "      <td>9615.0</td>\n",
       "      <td>Canis lupus familiaris</td>\n",
       "      <td>Chordata</td>\n",
       "      <td>Mammalia</td>\n",
       "      <td>None</td>\n",
       "      <td>None</td>\n",
       "      <td>MIPGKPEEGKGSSEGPICDTEVACDVRKCSDYKGASAPQQPPLSVL...</td>\n",
       "      <td>None</td>\n",
       "      <td>None</td>\n",
       "      <td>None</td>\n",
       "    </tr>\n",
       "  </tbody>\n",
       "</table>\n",
       "</div>"
      ],
      "text/plain": [
       "          accession variant         gi ncbi_gene_id hgnc_gene_name  \\\n",
       "38       DAA13058.1   H2B.W  296470943         None           None   \n",
       "199  NP_001180847.1   H2B.W  302564969         None           None   \n",
       "575  XP_002720211.1   H2B.W  291407712         None           None   \n",
       "592  XP_002925981.1   H2B.W  301781100         None           None   \n",
       "745     XP_548517.2   H2B.W  545560116         None           None   \n",
       "\n",
       "     taxonomy_id                organism    phylum     class taxonomy_group  \\\n",
       "38        9913.0              Bos taurus  Chordata  Mammalia           None   \n",
       "199       9544.0          Macaca mulatta  Chordata  Mammalia           None   \n",
       "575       9986.0   Oryctolagus cuniculus  Chordata  Mammalia           None   \n",
       "592       9646.0  Ailuropoda melanoleuca  Chordata  Mammalia           None   \n",
       "745       9615.0  Canis lupus familiaris  Chordata  Mammalia           None   \n",
       "\n",
       "     info                                           sequence  \\\n",
       "38   None  MGIGGSILSETSSDSYEEDVITKETGISEIEPSEKEMAKVETSKPD...   \n",
       "199  None  MLRTQVPPLLRSTTAIVWSCRVMAAASAMAEPSSETTSEEQLITQE...   \n",
       "575  None  MAEPASHVASEENLSLEPKTTASSTPKEKQPRRRRRRRQGHNYSFA...   \n",
       "592  None  MAEPGCETSSEESLGTEEPSAANPKSPKQKQKQPRRQCRRRCRRCP...   \n",
       "745  None  MIPGKPEEGKGSSEGPICDTEVACDVRKCSDYKGASAPQQPPLSVL...   \n",
       "\n",
       "    variant_under_consideration sequence_accession publication_id  \n",
       "38                         None               None           None  \n",
       "199                        None               None           None  \n",
       "575                        None               None           None  \n",
       "592                        None               None           None  \n",
       "745                        None               None           None  "
      ]
     },
     "execution_count": 7,
     "metadata": {},
     "output_type": "execute_result"
    }
   ],
   "source": [
    "query = \"SELECT * FROM sequence s LEFT JOIN sequence_has_publication sp ON s.accession = sp.sequence_accession\"\n",
    "cursor.execute(query)\n",
    "df = pd.DataFrame(cursor.fetchall(), columns=[i[0] for i in cursor.description])\n",
    "df[df[\"variant\"] == \"H2B.W\"]"
   ]
  },
  {
   "cell_type": "code",
   "execution_count": 8,
   "id": "0e737a58-8287-4a05-be51-b811d9a4ed43",
   "metadata": {
    "tags": []
   },
   "outputs": [
    {
     "data": {
      "text/html": [
       "<div>\n",
       "<style scoped>\n",
       "    .dataframe tbody tr th:only-of-type {\n",
       "        vertical-align: middle;\n",
       "    }\n",
       "\n",
       "    .dataframe tbody tr th {\n",
       "        vertical-align: top;\n",
       "    }\n",
       "\n",
       "    .dataframe thead th {\n",
       "        text-align: right;\n",
       "    }\n",
       "</style>\n",
       "<table border=\"1\" class=\"dataframe\">\n",
       "  <thead>\n",
       "    <tr style=\"text-align: right;\">\n",
       "      <th></th>\n",
       "      <th>accession</th>\n",
       "      <th>publication_id</th>\n",
       "    </tr>\n",
       "  </thead>\n",
       "  <tbody>\n",
       "    <tr>\n",
       "      <th>0</th>\n",
       "      <td>DAA13058.1</td>\n",
       "      <td>[]</td>\n",
       "    </tr>\n",
       "    <tr>\n",
       "      <th>1</th>\n",
       "      <td>NP_001180847.1</td>\n",
       "      <td>[]</td>\n",
       "    </tr>\n",
       "    <tr>\n",
       "      <th>2</th>\n",
       "      <td>XP_002720211.1</td>\n",
       "      <td>[]</td>\n",
       "    </tr>\n",
       "    <tr>\n",
       "      <th>3</th>\n",
       "      <td>XP_002925981.1</td>\n",
       "      <td>[]</td>\n",
       "    </tr>\n",
       "    <tr>\n",
       "      <th>4</th>\n",
       "      <td>XP_548517.2</td>\n",
       "      <td>[]</td>\n",
       "    </tr>\n",
       "  </tbody>\n",
       "</table>\n",
       "</div>"
      ],
      "text/plain": [
       "        accession publication_id\n",
       "0      DAA13058.1             []\n",
       "1  NP_001180847.1             []\n",
       "2  XP_002720211.1             []\n",
       "3  XP_002925981.1             []\n",
       "4     XP_548517.2             []"
      ]
     },
     "execution_count": 8,
     "metadata": {},
     "output_type": "execute_result"
    }
   ],
   "source": [
    "df[df[\"variant\"] == \"H2B.W\"].groupby([\"accession\"])[\"publication_id\"].apply(\n",
    "    lambda x: [] if x.dropna().empty else list(x.unique())\n",
    ").reset_index()"
   ]
  },
  {
   "cell_type": "code",
   "execution_count": 9,
   "id": "6681937a-9739-4c5e-92ec-77b3829bcc31",
   "metadata": {
    "tags": []
   },
   "outputs": [
    {
     "data": {
      "text/plain": [
       "38         DAA13058.1\n",
       "199    NP_001180847.1\n",
       "575    XP_002720211.1\n",
       "592    XP_002925981.1\n",
       "745       XP_548517.2\n",
       "Name: accession, dtype: object"
      ]
     },
     "execution_count": 9,
     "metadata": {},
     "output_type": "execute_result"
    }
   ],
   "source": [
    "df[df[\"variant\"] == \"H2B.W\"]['accession']"
   ]
  },
  {
   "cell_type": "code",
   "execution_count": 10,
   "id": "fb3c1563-c6b6-41a4-92c7-749f4f76c0da",
   "metadata": {
    "tags": []
   },
   "outputs": [],
   "source": [
    "pubmedids = [\"22650316\", \"25731851\", \"19583817\", \"16449661\"]\n",
    "query = \"SELECT id FROM publication\"\n",
    "cursor.execute(query)\n",
    "exist_pubs = [i[0] for i in cursor.fetchall()]\n",
    "for pid in pubmedids:\n",
    "    if pid not in exist_pubs:\n",
    "        data_publication = {\n",
    "            \"id\": pid,\n",
    "            \"title\": None,\n",
    "            \"doi\": None,\n",
    "            \"author\": None,\n",
    "            \"year\": None,\n",
    "        }\n",
    "        cursor.execute(add_publication, data_publication)\n",
    "    for acc in df[df[\"variant\"] == \"H2B.W\"]['accession']:\n",
    "        cursor.execute(add_sequence_has_publication, (acc, pid))\n",
    "\n",
    "# Make sure data is committed to the database\n",
    "conn.commit()"
   ]
  },
  {
   "cell_type": "code",
   "execution_count": 13,
   "id": "dfb697f0-1d9f-4a68-82d3-848655512536",
   "metadata": {},
   "outputs": [
    {
     "data": {
      "text/html": [
       "<div>\n",
       "<style scoped>\n",
       "    .dataframe tbody tr th:only-of-type {\n",
       "        vertical-align: middle;\n",
       "    }\n",
       "\n",
       "    .dataframe tbody tr th {\n",
       "        vertical-align: top;\n",
       "    }\n",
       "\n",
       "    .dataframe thead th {\n",
       "        text-align: right;\n",
       "    }\n",
       "</style>\n",
       "<table border=\"1\" class=\"dataframe\">\n",
       "  <thead>\n",
       "    <tr style=\"text-align: right;\">\n",
       "      <th></th>\n",
       "      <th>accession</th>\n",
       "      <th>publication_id</th>\n",
       "    </tr>\n",
       "  </thead>\n",
       "  <tbody>\n",
       "    <tr>\n",
       "      <th>0</th>\n",
       "      <td>DAA13058.1</td>\n",
       "      <td>[16449661, 19583817, 22650316, 25731851]</td>\n",
       "    </tr>\n",
       "    <tr>\n",
       "      <th>1</th>\n",
       "      <td>NP_001180847.1</td>\n",
       "      <td>[16449661, 19583817, 22650316, 25731851]</td>\n",
       "    </tr>\n",
       "    <tr>\n",
       "      <th>2</th>\n",
       "      <td>XP_002720211.1</td>\n",
       "      <td>[16449661, 19583817, 22650316, 25731851]</td>\n",
       "    </tr>\n",
       "    <tr>\n",
       "      <th>3</th>\n",
       "      <td>XP_002925981.1</td>\n",
       "      <td>[16449661, 19583817, 22650316, 25731851]</td>\n",
       "    </tr>\n",
       "    <tr>\n",
       "      <th>4</th>\n",
       "      <td>XP_548517.2</td>\n",
       "      <td>[16449661, 19583817, 22650316, 25731851]</td>\n",
       "    </tr>\n",
       "  </tbody>\n",
       "</table>\n",
       "</div>"
      ],
      "text/plain": [
       "        accession                            publication_id\n",
       "0      DAA13058.1  [16449661, 19583817, 22650316, 25731851]\n",
       "1  NP_001180847.1  [16449661, 19583817, 22650316, 25731851]\n",
       "2  XP_002720211.1  [16449661, 19583817, 22650316, 25731851]\n",
       "3  XP_002925981.1  [16449661, 19583817, 22650316, 25731851]\n",
       "4     XP_548517.2  [16449661, 19583817, 22650316, 25731851]"
      ]
     },
     "execution_count": 13,
     "metadata": {},
     "output_type": "execute_result"
    }
   ],
   "source": [
    "query = \"SELECT * FROM sequence s LEFT JOIN sequence_has_publication sp ON s.accession = sp.sequence_accession\"\n",
    "cursor.execute(query)\n",
    "df = pd.DataFrame(cursor.fetchall(), columns=[i[0] for i in cursor.description])\n",
    "df[df[\"variant\"] == \"H2B.W\"].groupby([\"accession\"])[\"publication_id\"].apply(\n",
    "    lambda x: [] if x.dropna().empty else list(x.unique())\n",
    ").reset_index()"
   ]
  },
  {
   "cell_type": "code",
   "execution_count": null,
   "id": "15d411aa-b3ee-48bf-b3c9-27ca29ca83b7",
   "metadata": {},
   "outputs": [],
   "source": [
    "histone_description_summary = \"H3.5 is a hominid-specific histone H3 variant expressed in the seminiferous tubules of human testes, encoded on chromosome 12p11.21 region of human chromosome 12. H3.3 is the most similar variant to H3.5 (approximately 96% identity). H3.5 has two copies of the ARKST motif and 5 amino acids differences comparing to H3.3 [schenk_h35_2011, ederveen_human_2011]. H3.5 likely evolved from H3F3B gene duplication and is associated with euchromatin and actively transcribed genes [schenk_h35_2011]. Nucleosomes containing histone variant H3.5 are less stable than H3.1 and H3.3 nucleosomes, but more stable than H3.4 nucleosome [urahama_histone_2016]. Notable, amino acid L in position 103 of H3.5 (amino acid F at the corresponding position in H3.3) reduces the number of hydrophobic bonds with histone H4 leading to instability of nucleosome [urahama_histone_2016]. H3.5 localizes primarely at exons, 5'UTR, 3'UTR, promoters and introns. Although it enreached around transcription start sites (TSSs), H3.5 distribution is independent of gene expression levels [urahama_histone_2016]. Clinical data indicate that H3.5 mRNA levels are significantly lower in patients with nonobstructive azoospermia compared to those with obstructive azoospermia or normal individuals, suggesting H3.5's role in normal spermatogenesis and its regulation by gonadotropins [ding_primate-specific_2021].\"\n",
    "data_histone_description = (histone_description_summary,) + (None,) * 13\n",
    "cursor.execute(add_histone_description, data_histone_description)\n",
    "# Make sure data is committed to the database\n",
    "conn.commit()"
   ]
  },
  {
   "cell_type": "code",
   "execution_count": 20,
   "id": "75387116-5300-4546-b90c-42373ed1eceb",
   "metadata": {
    "tags": []
   },
   "outputs": [
    {
     "data": {
      "text/html": [
       "<div>\n",
       "<style scoped>\n",
       "    .dataframe tbody tr th:only-of-type {\n",
       "        vertical-align: middle;\n",
       "    }\n",
       "\n",
       "    .dataframe tbody tr th {\n",
       "        vertical-align: top;\n",
       "    }\n",
       "\n",
       "    .dataframe thead th {\n",
       "        text-align: right;\n",
       "    }\n",
       "</style>\n",
       "<table border=\"1\" class=\"dataframe\">\n",
       "  <thead>\n",
       "    <tr style=\"text-align: right;\">\n",
       "      <th></th>\n",
       "      <th>id</th>\n",
       "      <th>summary</th>\n",
       "      <th>taxonomy</th>\n",
       "      <th>genes</th>\n",
       "      <th>evolution</th>\n",
       "      <th>expression</th>\n",
       "      <th>knock_out</th>\n",
       "      <th>function</th>\n",
       "      <th>sequence</th>\n",
       "      <th>localization</th>\n",
       "      <th>deposition</th>\n",
       "      <th>structure</th>\n",
       "      <th>interactions</th>\n",
       "      <th>disease</th>\n",
       "      <th>caveats</th>\n",
       "    </tr>\n",
       "  </thead>\n",
       "  <tbody>\n",
       "    <tr>\n",
       "      <th>204</th>\n",
       "      <td>206</td>\n",
       "      <td>H3.5 is a hominid-specific histone H3 variant ...</td>\n",
       "      <td>None</td>\n",
       "      <td>None</td>\n",
       "      <td>None</td>\n",
       "      <td>None</td>\n",
       "      <td>None</td>\n",
       "      <td>None</td>\n",
       "      <td>None</td>\n",
       "      <td>None</td>\n",
       "      <td>None</td>\n",
       "      <td>None</td>\n",
       "      <td>None</td>\n",
       "      <td>None</td>\n",
       "      <td>None</td>\n",
       "    </tr>\n",
       "  </tbody>\n",
       "</table>\n",
       "</div>"
      ],
      "text/plain": [
       "      id                                            summary taxonomy genes  \\\n",
       "204  206  H3.5 is a hominid-specific histone H3 variant ...     None  None   \n",
       "\n",
       "    evolution expression knock_out function sequence localization deposition  \\\n",
       "204      None       None      None     None     None         None       None   \n",
       "\n",
       "    structure interactions disease caveats  \n",
       "204      None         None    None    None  "
      ]
     },
     "execution_count": 20,
     "metadata": {},
     "output_type": "execute_result"
    }
   ],
   "source": [
    "query = \"SELECT * FROM histone_description\"\n",
    "cursor.execute(query)\n",
    "histone_df = pd.DataFrame(cursor.fetchall(), columns=[i[0] for i in cursor.description])\n",
    "histone_df[histone_df[\"summary\"].str.contains(\"H3.5\")]"
   ]
  },
  {
   "cell_type": "code",
   "execution_count": 14,
   "id": "f02c673b-f7d9-4abb-8566-418159fce533",
   "metadata": {
    "tags": []
   },
   "outputs": [
    {
     "data": {
      "text/plain": [
       "('H3.5_(Primates_or_Hominids?)', 'variant_group', 'null', 'null', 52, 'H3')"
      ]
     },
     "execution_count": 14,
     "metadata": {},
     "output_type": "execute_result"
    }
   ],
   "source": [
    "query = \"SELECT * FROM histone WHERE id='H3.5_(Primates_or_Hominids?)'\"\n",
    "cursor.execute(query)\n",
    "cursor.fetchone()"
   ]
  },
  {
   "cell_type": "code",
   "execution_count": 24,
   "id": "6fe828e2-a45e-429c-a1f7-f4099eb2b94d",
   "metadata": {
    "tags": []
   },
   "outputs": [],
   "source": [
    "query = \"SELECT * FROM histone WHERE id='H3.5_(Primates_or_Hominids?)'\"\n",
    "cursor.execute(query)\n",
    "old_histone_data = cursor.fetchone()\n",
    "\n",
    "data_histone = {\n",
    "    \"id\": \"H3.5_(Hominidae)\",\n",
    "    \"level\": old_histone_data[1],\n",
    "    \"taxonomic_span\": old_histone_data[2],\n",
    "    \"taxonomic_span_id\": old_histone_data[3],\n",
    "    \"description\": 206,\n",
    "    \"parent\": old_histone_data[5],\n",
    "}\n",
    "cursor.execute(add_histone, data_histone)\n",
    "\n",
    "# Make sure data is committed to the database\n",
    "conn.commit()"
   ]
  },
  {
   "cell_type": "code",
   "execution_count": 25,
   "id": "30c49697-97dd-440c-b204-dcced96a3a47",
   "metadata": {
    "tags": []
   },
   "outputs": [
    {
     "data": {
      "text/html": [
       "<div>\n",
       "<style scoped>\n",
       "    .dataframe tbody tr th:only-of-type {\n",
       "        vertical-align: middle;\n",
       "    }\n",
       "\n",
       "    .dataframe tbody tr th {\n",
       "        vertical-align: top;\n",
       "    }\n",
       "\n",
       "    .dataframe thead th {\n",
       "        text-align: right;\n",
       "    }\n",
       "</style>\n",
       "<table border=\"1\" class=\"dataframe\">\n",
       "  <thead>\n",
       "    <tr style=\"text-align: right;\">\n",
       "      <th></th>\n",
       "      <th>id</th>\n",
       "      <th>level</th>\n",
       "      <th>taxonomic_span</th>\n",
       "      <th>taxonomic_span_id</th>\n",
       "      <th>description</th>\n",
       "      <th>parent</th>\n",
       "    </tr>\n",
       "  </thead>\n",
       "  <tbody>\n",
       "    <tr>\n",
       "      <th>170</th>\n",
       "      <td>H3.5_(Hominidae)</td>\n",
       "      <td>variant_group</td>\n",
       "      <td>null</td>\n",
       "      <td>null</td>\n",
       "      <td>206.0</td>\n",
       "      <td>H3</td>\n",
       "    </tr>\n",
       "    <tr>\n",
       "      <th>171</th>\n",
       "      <td>H3.5_(Homo_sapiens)</td>\n",
       "      <td>variant</td>\n",
       "      <td>Homo sapiens</td>\n",
       "      <td>9606</td>\n",
       "      <td>108.0</td>\n",
       "      <td>H3.5_(Primates_or_Hominids?)</td>\n",
       "    </tr>\n",
       "    <tr>\n",
       "      <th>172</th>\n",
       "      <td>H3.5_(Primates_or_Hominids?)</td>\n",
       "      <td>variant_group</td>\n",
       "      <td>null</td>\n",
       "      <td>null</td>\n",
       "      <td>NaN</td>\n",
       "      <td>H3</td>\n",
       "    </tr>\n",
       "  </tbody>\n",
       "</table>\n",
       "</div>"
      ],
      "text/plain": [
       "                               id          level taxonomic_span  \\\n",
       "170              H3.5_(Hominidae)  variant_group           null   \n",
       "171           H3.5_(Homo_sapiens)        variant   Homo sapiens   \n",
       "172  H3.5_(Primates_or_Hominids?)  variant_group           null   \n",
       "\n",
       "    taxonomic_span_id  description                        parent  \n",
       "170              null        206.0                            H3  \n",
       "171              9606        108.0  H3.5_(Primates_or_Hominids?)  \n",
       "172              null          NaN                            H3  "
      ]
     },
     "execution_count": 25,
     "metadata": {},
     "output_type": "execute_result"
    }
   ],
   "source": [
    "query = \"SELECT * FROM histone\"\n",
    "cursor.execute(query)\n",
    "histone_df = pd.DataFrame(cursor.fetchall(), columns=[i[0] for i in cursor.description])\n",
    "histone_df[histone_df[\"id\"].str.contains(\"H3.5\")]"
   ]
  },
  {
   "cell_type": "code",
   "execution_count": 28,
   "id": "2299b45d-edf9-4e99-9991-af36508794a1",
   "metadata": {
    "tags": []
   },
   "outputs": [],
   "source": [
    "query = f\"UPDATE histone SET parent='H3.5_(Hominidae)' WHERE parent='H3.5_(Primates_or_Hominids?)'\"\n",
    "cursor.execute(query)\n",
    "# Make sure data is committed to the database\n",
    "conn.commit()"
   ]
  },
  {
   "cell_type": "code",
   "execution_count": 29,
   "id": "e4a2df83-6816-44e8-a22d-7f6606986112",
   "metadata": {
    "tags": []
   },
   "outputs": [
    {
     "data": {
      "text/html": [
       "<div>\n",
       "<style scoped>\n",
       "    .dataframe tbody tr th:only-of-type {\n",
       "        vertical-align: middle;\n",
       "    }\n",
       "\n",
       "    .dataframe tbody tr th {\n",
       "        vertical-align: top;\n",
       "    }\n",
       "\n",
       "    .dataframe thead th {\n",
       "        text-align: right;\n",
       "    }\n",
       "</style>\n",
       "<table border=\"1\" class=\"dataframe\">\n",
       "  <thead>\n",
       "    <tr style=\"text-align: right;\">\n",
       "      <th></th>\n",
       "      <th>id</th>\n",
       "      <th>level</th>\n",
       "      <th>taxonomic_span</th>\n",
       "      <th>taxonomic_span_id</th>\n",
       "      <th>description</th>\n",
       "      <th>parent</th>\n",
       "    </tr>\n",
       "  </thead>\n",
       "  <tbody>\n",
       "    <tr>\n",
       "      <th>170</th>\n",
       "      <td>H3.5_(Hominidae)</td>\n",
       "      <td>variant_group</td>\n",
       "      <td>null</td>\n",
       "      <td>null</td>\n",
       "      <td>206.0</td>\n",
       "      <td>H3</td>\n",
       "    </tr>\n",
       "    <tr>\n",
       "      <th>171</th>\n",
       "      <td>H3.5_(Homo_sapiens)</td>\n",
       "      <td>variant</td>\n",
       "      <td>Homo sapiens</td>\n",
       "      <td>9606</td>\n",
       "      <td>108.0</td>\n",
       "      <td>H3.5_(Hominidae)</td>\n",
       "    </tr>\n",
       "    <tr>\n",
       "      <th>172</th>\n",
       "      <td>H3.5_(Primates_or_Hominids?)</td>\n",
       "      <td>variant_group</td>\n",
       "      <td>null</td>\n",
       "      <td>null</td>\n",
       "      <td>NaN</td>\n",
       "      <td>H3</td>\n",
       "    </tr>\n",
       "  </tbody>\n",
       "</table>\n",
       "</div>"
      ],
      "text/plain": [
       "                               id          level taxonomic_span  \\\n",
       "170              H3.5_(Hominidae)  variant_group           null   \n",
       "171           H3.5_(Homo_sapiens)        variant   Homo sapiens   \n",
       "172  H3.5_(Primates_or_Hominids?)  variant_group           null   \n",
       "\n",
       "    taxonomic_span_id  description            parent  \n",
       "170              null        206.0                H3  \n",
       "171              9606        108.0  H3.5_(Hominidae)  \n",
       "172              null          NaN                H3  "
      ]
     },
     "execution_count": 29,
     "metadata": {},
     "output_type": "execute_result"
    }
   ],
   "source": [
    "query = \"SELECT * FROM histone\"\n",
    "cursor.execute(query)\n",
    "histone_df = pd.DataFrame(cursor.fetchall(), columns=[i[0] for i in cursor.description])\n",
    "histone_df[histone_df[\"id\"].str.contains(\"H3.5\")]"
   ]
  },
  {
   "cell_type": "code",
   "execution_count": 27,
   "id": "357cf312-f46c-4ede-9bcc-98b52e350bed",
   "metadata": {
    "tags": []
   },
   "outputs": [
    {
     "data": {
      "text/html": [
       "<div>\n",
       "<style scoped>\n",
       "    .dataframe tbody tr th:only-of-type {\n",
       "        vertical-align: middle;\n",
       "    }\n",
       "\n",
       "    .dataframe tbody tr th {\n",
       "        vertical-align: top;\n",
       "    }\n",
       "\n",
       "    .dataframe thead th {\n",
       "        text-align: right;\n",
       "    }\n",
       "</style>\n",
       "<table border=\"1\" class=\"dataframe\">\n",
       "  <thead>\n",
       "    <tr style=\"text-align: right;\">\n",
       "      <th></th>\n",
       "      <th>accession</th>\n",
       "      <th>variant</th>\n",
       "      <th>gi</th>\n",
       "      <th>ncbi_gene_id</th>\n",
       "      <th>hgnc_gene_name</th>\n",
       "      <th>taxonomy_id</th>\n",
       "      <th>organism</th>\n",
       "      <th>phylum</th>\n",
       "      <th>class</th>\n",
       "      <th>taxonomy_group</th>\n",
       "      <th>info</th>\n",
       "      <th>sequence</th>\n",
       "      <th>variant_under_consideration</th>\n",
       "    </tr>\n",
       "  </thead>\n",
       "  <tbody>\n",
       "    <tr>\n",
       "      <th>468</th>\n",
       "      <td>XP_003954426.1</td>\n",
       "      <td>H3.5_(Primates_or_Hominids?)</td>\n",
       "      <td>410046862</td>\n",
       "      <td>None</td>\n",
       "      <td>None</td>\n",
       "      <td>9598.0</td>\n",
       "      <td>Pan troglodytes</td>\n",
       "      <td>Chordata</td>\n",
       "      <td>Mammalia</td>\n",
       "      <td>None</td>\n",
       "      <td>None</td>\n",
       "      <td>MARTKQTARKSTGGKAPRKQLATKAARKSTPSTXGVKKPHRYRPGT...</td>\n",
       "      <td>None</td>\n",
       "    </tr>\n",
       "  </tbody>\n",
       "</table>\n",
       "</div>"
      ],
      "text/plain": [
       "          accession                       variant         gi ncbi_gene_id  \\\n",
       "468  XP_003954426.1  H3.5_(Primates_or_Hominids?)  410046862         None   \n",
       "\n",
       "    hgnc_gene_name  taxonomy_id         organism    phylum     class  \\\n",
       "468           None       9598.0  Pan troglodytes  Chordata  Mammalia   \n",
       "\n",
       "    taxonomy_group  info                                           sequence  \\\n",
       "468           None  None  MARTKQTARKSTGGKAPRKQLATKAARKSTPSTXGVKKPHRYRPGT...   \n",
       "\n",
       "    variant_under_consideration  \n",
       "468                        None  "
      ]
     },
     "execution_count": 27,
     "metadata": {},
     "output_type": "execute_result"
    }
   ],
   "source": [
    "query = \"SELECT * FROM sequence\"\n",
    "cursor.execute(query)\n",
    "histone_df = pd.DataFrame(cursor.fetchall(), columns=[i[0] for i in cursor.description])\n",
    "histone_df[histone_df[\"variant\"] == \"H3.5_(Primates_or_Hominids?)\"]"
   ]
  },
  {
   "cell_type": "code",
   "execution_count": 30,
   "id": "6ce01459-612a-4ce3-b3a9-91cfa8a0ca75",
   "metadata": {
    "tags": []
   },
   "outputs": [],
   "source": [
    "query = f\"UPDATE sequence SET variant='H3.5_(Hominidae)' WHERE variant='H3.5_(Primates_or_Hominids?)'\"\n",
    "cursor.execute(query)\n",
    "# Make sure data is committed to the database\n",
    "conn.commit()"
   ]
  },
  {
   "cell_type": "code",
   "execution_count": 32,
   "id": "a9b950c9-2b0f-4e81-a895-47488eebda98",
   "metadata": {
    "tags": []
   },
   "outputs": [
    {
     "data": {
      "text/html": [
       "<div>\n",
       "<style scoped>\n",
       "    .dataframe tbody tr th:only-of-type {\n",
       "        vertical-align: middle;\n",
       "    }\n",
       "\n",
       "    .dataframe tbody tr th {\n",
       "        vertical-align: top;\n",
       "    }\n",
       "\n",
       "    .dataframe thead th {\n",
       "        text-align: right;\n",
       "    }\n",
       "</style>\n",
       "<table border=\"1\" class=\"dataframe\">\n",
       "  <thead>\n",
       "    <tr style=\"text-align: right;\">\n",
       "      <th></th>\n",
       "      <th>accession</th>\n",
       "      <th>variant</th>\n",
       "      <th>gi</th>\n",
       "      <th>ncbi_gene_id</th>\n",
       "      <th>hgnc_gene_name</th>\n",
       "      <th>taxonomy_id</th>\n",
       "      <th>organism</th>\n",
       "      <th>phylum</th>\n",
       "      <th>class</th>\n",
       "      <th>taxonomy_group</th>\n",
       "      <th>info</th>\n",
       "      <th>sequence</th>\n",
       "      <th>variant_under_consideration</th>\n",
       "    </tr>\n",
       "  </thead>\n",
       "  <tbody>\n",
       "    <tr>\n",
       "      <th>468</th>\n",
       "      <td>XP_003954426.1</td>\n",
       "      <td>H3.5_(Hominidae)</td>\n",
       "      <td>410046862</td>\n",
       "      <td>None</td>\n",
       "      <td>None</td>\n",
       "      <td>9598.0</td>\n",
       "      <td>Pan troglodytes</td>\n",
       "      <td>Chordata</td>\n",
       "      <td>Mammalia</td>\n",
       "      <td>None</td>\n",
       "      <td>None</td>\n",
       "      <td>MARTKQTARKSTGGKAPRKQLATKAARKSTPSTXGVKKPHRYRPGT...</td>\n",
       "      <td>None</td>\n",
       "    </tr>\n",
       "  </tbody>\n",
       "</table>\n",
       "</div>"
      ],
      "text/plain": [
       "          accession           variant         gi ncbi_gene_id hgnc_gene_name  \\\n",
       "468  XP_003954426.1  H3.5_(Hominidae)  410046862         None           None   \n",
       "\n",
       "     taxonomy_id         organism    phylum     class taxonomy_group  info  \\\n",
       "468       9598.0  Pan troglodytes  Chordata  Mammalia           None  None   \n",
       "\n",
       "                                              sequence  \\\n",
       "468  MARTKQTARKSTGGKAPRKQLATKAARKSTPSTXGVKKPHRYRPGT...   \n",
       "\n",
       "    variant_under_consideration  \n",
       "468                        None  "
      ]
     },
     "execution_count": 32,
     "metadata": {},
     "output_type": "execute_result"
    }
   ],
   "source": [
    "query = \"SELECT * FROM sequence\"\n",
    "cursor.execute(query)\n",
    "histone_df = pd.DataFrame(cursor.fetchall(), columns=[i[0] for i in cursor.description])\n",
    "histone_df[histone_df[\"variant\"] == \"H3.5_(Hominidae)\"]"
   ]
  },
  {
   "cell_type": "code",
   "execution_count": 34,
   "id": "e2c0ffba-b288-494b-90ae-db5d1f38c711",
   "metadata": {
    "tags": []
   },
   "outputs": [
    {
     "data": {
      "text/html": [
       "<div>\n",
       "<style scoped>\n",
       "    .dataframe tbody tr th:only-of-type {\n",
       "        vertical-align: middle;\n",
       "    }\n",
       "\n",
       "    .dataframe tbody tr th {\n",
       "        vertical-align: top;\n",
       "    }\n",
       "\n",
       "    .dataframe thead th {\n",
       "        text-align: right;\n",
       "    }\n",
       "</style>\n",
       "<table border=\"1\" class=\"dataframe\">\n",
       "  <thead>\n",
       "    <tr style=\"text-align: right;\">\n",
       "      <th></th>\n",
       "      <th>id</th>\n",
       "      <th>name</th>\n",
       "      <th>taxonomy</th>\n",
       "      <th>gene</th>\n",
       "      <th>splice</th>\n",
       "      <th>histone</th>\n",
       "    </tr>\n",
       "  </thead>\n",
       "  <tbody>\n",
       "  </tbody>\n",
       "</table>\n",
       "</div>"
      ],
      "text/plain": [
       "Empty DataFrame\n",
       "Columns: [id, name, taxonomy, gene, splice, histone]\n",
       "Index: []"
      ]
     },
     "execution_count": 34,
     "metadata": {},
     "output_type": "execute_result"
    }
   ],
   "source": [
    "query = \"SELECT * FROM alternative_name\"\n",
    "cursor.execute(query)\n",
    "histone_df = pd.DataFrame(cursor.fetchall(), columns=[i[0] for i in cursor.description])\n",
    "histone_df[histone_df[\"histone\"] == \"H3.5_(Primates_or_Hominids?)\"]"
   ]
  },
  {
   "cell_type": "code",
   "execution_count": 35,
   "id": "a9d26a8d-20c7-4c07-b5e0-8b051a72ad5b",
   "metadata": {
    "tags": []
   },
   "outputs": [
    {
     "data": {
      "text/html": [
       "<div>\n",
       "<style scoped>\n",
       "    .dataframe tbody tr th:only-of-type {\n",
       "        vertical-align: middle;\n",
       "    }\n",
       "\n",
       "    .dataframe tbody tr th {\n",
       "        vertical-align: top;\n",
       "    }\n",
       "\n",
       "    .dataframe thead th {\n",
       "        text-align: right;\n",
       "    }\n",
       "</style>\n",
       "<table border=\"1\" class=\"dataframe\">\n",
       "  <thead>\n",
       "    <tr style=\"text-align: right;\">\n",
       "      <th></th>\n",
       "      <th>histone_id</th>\n",
       "      <th>publication_id</th>\n",
       "    </tr>\n",
       "  </thead>\n",
       "  <tbody>\n",
       "  </tbody>\n",
       "</table>\n",
       "</div>"
      ],
      "text/plain": [
       "Empty DataFrame\n",
       "Columns: [histone_id, publication_id]\n",
       "Index: []"
      ]
     },
     "execution_count": 35,
     "metadata": {},
     "output_type": "execute_result"
    }
   ],
   "source": [
    "query = \"SELECT * FROM histone_has_publication\"\n",
    "cursor.execute(query)\n",
    "histone_df = pd.DataFrame(cursor.fetchall(), columns=[i[0] for i in cursor.description])\n",
    "histone_df[histone_df[\"histone_id\"] == \"H3.5_(Primates_or_Hominids?)\"]"
   ]
  },
  {
   "cell_type": "code",
   "execution_count": 36,
   "id": "80e871c7-0b11-4834-b9a0-66d2cb12c415",
   "metadata": {},
   "outputs": [],
   "source": [
    "query = \"DELETE FROM histone WHERE id='H3.5_(Primates_or_Hominids?)'\"\n",
    "cursor.execute(query)\n",
    "# Make sure data is committed to the database\n",
    "conn.commit()"
   ]
  },
  {
   "cell_type": "code",
   "execution_count": 37,
   "id": "0300195d-46dd-4c94-b7dc-a0382289fc50",
   "metadata": {
    "tags": []
   },
   "outputs": [
    {
     "data": {
      "text/html": [
       "<div>\n",
       "<style scoped>\n",
       "    .dataframe tbody tr th:only-of-type {\n",
       "        vertical-align: middle;\n",
       "    }\n",
       "\n",
       "    .dataframe tbody tr th {\n",
       "        vertical-align: top;\n",
       "    }\n",
       "\n",
       "    .dataframe thead th {\n",
       "        text-align: right;\n",
       "    }\n",
       "</style>\n",
       "<table border=\"1\" class=\"dataframe\">\n",
       "  <thead>\n",
       "    <tr style=\"text-align: right;\">\n",
       "      <th></th>\n",
       "      <th>id</th>\n",
       "      <th>level</th>\n",
       "      <th>taxonomic_span</th>\n",
       "      <th>taxonomic_span_id</th>\n",
       "      <th>description</th>\n",
       "      <th>parent</th>\n",
       "    </tr>\n",
       "  </thead>\n",
       "  <tbody>\n",
       "    <tr>\n",
       "      <th>170</th>\n",
       "      <td>H3.5_(Hominidae)</td>\n",
       "      <td>variant_group</td>\n",
       "      <td>null</td>\n",
       "      <td>null</td>\n",
       "      <td>206</td>\n",
       "      <td>H3</td>\n",
       "    </tr>\n",
       "    <tr>\n",
       "      <th>171</th>\n",
       "      <td>H3.5_(Homo_sapiens)</td>\n",
       "      <td>variant</td>\n",
       "      <td>Homo sapiens</td>\n",
       "      <td>9606</td>\n",
       "      <td>108</td>\n",
       "      <td>H3.5_(Hominidae)</td>\n",
       "    </tr>\n",
       "  </tbody>\n",
       "</table>\n",
       "</div>"
      ],
      "text/plain": [
       "                      id          level taxonomic_span taxonomic_span_id  \\\n",
       "170     H3.5_(Hominidae)  variant_group           null              null   \n",
       "171  H3.5_(Homo_sapiens)        variant   Homo sapiens              9606   \n",
       "\n",
       "     description            parent  \n",
       "170          206                H3  \n",
       "171          108  H3.5_(Hominidae)  "
      ]
     },
     "execution_count": 37,
     "metadata": {},
     "output_type": "execute_result"
    }
   ],
   "source": [
    "query = \"SELECT * FROM histone\"\n",
    "cursor.execute(query)\n",
    "histone_df = pd.DataFrame(cursor.fetchall(), columns=[i[0] for i in cursor.description])\n",
    "histone_df[histone_df[\"id\"].str.contains(\"H3.5\")]"
   ]
  },
  {
   "cell_type": "markdown",
   "id": "d3c8a219-f508-46e1-936f-7d6040016e39",
   "metadata": {
    "tags": []
   },
   "source": [
    "# Close connections"
   ]
  },
  {
   "cell_type": "code",
   "execution_count": 14,
   "id": "572059d8-54f9-4ec7-a2c6-1c8066552845",
   "metadata": {
    "tags": []
   },
   "outputs": [],
   "source": [
    "cursor.close()\n",
    "conn.close()\n",
    "tunnel.stop()"
   ]
  },
  {
   "cell_type": "code",
   "execution_count": null,
   "id": "790ee020-09af-4dcc-9c36-f1b3f69ea8a7",
   "metadata": {},
   "outputs": [],
   "source": []
  }
 ],
 "metadata": {
  "kernelspec": {
   "display_name": ".conda-histdb_env",
   "language": "python",
   "name": "conda-env-.conda-histdb_env-py"
  },
  "language_info": {
   "codemirror_mode": {
    "name": "ipython",
    "version": 3
   },
   "file_extension": ".py",
   "mimetype": "text/x-python",
   "name": "python",
   "nbconvert_exporter": "python",
   "pygments_lexer": "ipython3",
   "version": "3.8.1"
  }
 },
 "nbformat": 4,
 "nbformat_minor": 5
}
