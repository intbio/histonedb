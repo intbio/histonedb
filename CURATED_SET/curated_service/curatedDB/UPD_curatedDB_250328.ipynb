{
 "cells": [
  {
   "cell_type": "code",
   "execution_count": 1,
   "id": "fb32231a-293e-45b8-af7d-d996c91a4edd",
   "metadata": {
    "tags": []
   },
   "outputs": [],
   "source": [
    "import pandas as pd\n",
    "from Bio import Entrez, SeqIO\n",
    "from mysql.connector import connection\n",
    "from sshtunnel import SSHTunnelForwarder\n",
    "\n",
    "Entrez.email = \"l.singh@intbio.org\""
   ]
  },
  {
   "cell_type": "code",
   "execution_count": 2,
   "id": "d5fa78a7-4901-4e63-9d91-d9ed584d2f62",
   "metadata": {
    "tags": []
   },
   "outputs": [],
   "source": [
    "with open(\"db_curated_server_info.txt\", \"r\") as file:\n",
    "    lines = file.readlines()\n",
    "\n",
    "config = {}\n",
    "\n",
    "for line in lines:\n",
    "    line = line.strip()\n",
    "    if line and not line.startswith(\"#\"):\n",
    "        key, value = line.split(\"=\", 1)\n",
    "        config[key] = value.strip()\n",
    "\n",
    "server_name = config.get(\"server_name\")\n",
    "srever_port = int(config.get(\"srever_port\"))\n",
    "ssh_password = config.get(\"ssh_password\")\n",
    "ssh_username = config.get(\"ssh_username\")\n",
    "db_adress = config.get(\"db_adress\")\n",
    "db_port = int(config.get(\"db_port\"))"
   ]
  },
  {
   "cell_type": "code",
   "execution_count": 3,
   "id": "ebe3d2e8-9736-4fd9-b3f1-5ec2d255567d",
   "metadata": {
    "tags": []
   },
   "outputs": [
    {
     "name": "stdout",
     "output_type": "stream",
     "text": [
      "43813\n"
     ]
    }
   ],
   "source": [
    "tunnel = SSHTunnelForwarder(\n",
    "    (server_name, srever_port),\n",
    "    ssh_password=ssh_password,\n",
    "    ssh_username=ssh_username,\n",
    "    remote_bind_address=(db_adress, db_port),\n",
    ")\n",
    "tunnel.start()\n",
    "print(tunnel.local_bind_port)"
   ]
  },
  {
   "cell_type": "code",
   "execution_count": 4,
   "id": "0de93630-7502-40f3-ad24-42edf7a11eef",
   "metadata": {
    "tags": []
   },
   "outputs": [],
   "source": [
    "conn = connection.MySQLConnection(\n",
    "    user=\"db_user\",\n",
    "    password=\"db_password\",\n",
    "    host=\"localhost\",\n",
    "    port=tunnel.local_bind_port,\n",
    "    database=\"db_name\",\n",
    ")\n",
    "cursor = conn.cursor()"
   ]
  },
  {
   "cell_type": "code",
   "execution_count": 5,
   "id": "b4767ba0-4ea1-43ae-953f-f2575d9b7a69",
   "metadata": {
    "tags": []
   },
   "outputs": [
    {
     "data": {
      "text/plain": [
       "[('alternative_name',),\n",
       " ('histone',),\n",
       " ('histone_description',),\n",
       " ('histone_has_publication',),\n",
       " ('publication',),\n",
       " ('sequence',),\n",
       " ('sequence_has_publication',)]"
      ]
     },
     "execution_count": 5,
     "metadata": {},
     "output_type": "execute_result"
    }
   ],
   "source": [
    "query = \"SHOW TABLES;\"\n",
    "cursor.execute(query)\n",
    "cursor.fetchall()"
   ]
  },
  {
   "cell_type": "code",
   "execution_count": 59,
   "id": "7d59b3d0-7801-4177-8843-fdedf36cb6d1",
   "metadata": {
    "tags": []
   },
   "outputs": [],
   "source": [
    "add_histone = (\n",
    "    \"INSERT INTO histone \"\n",
    "    \"(id, level, taxonomic_span, taxonomic_span_id, description, parent) \"\n",
    "    \"VALUES (%(id)s, %(level)s, %(taxonomic_span)s, %(taxonomic_span_id)s, %(description)s, %(parent)s)\"\n",
    ")\n",
    "add_histone_description = (\n",
    "    \"INSERT INTO histone_description \"\n",
    "    \"(summary, taxonomy, genes, evolution, expression, knock_out, function, sequence, localization, deposition, structure, interactions, disease, caveats) \"\n",
    "    \"VALUES (%s, %s, %s, %s, %s, %s, %s, %s, %s, %s, %s, %s, %s, %s)\"\n",
    ")\n",
    "add_publication = (\n",
    "    \"INSERT INTO publication \"\n",
    "    \"(id, title, doi, author, year) \"\n",
    "    \"VALUES (%(id)s, %(title)s, %(doi)s, %(author)s, %(year)s)\"\n",
    ")\n",
    "add_sequence = (\n",
    "    \"INSERT INTO sequence \"\n",
    "    \"(accession, variant, gi, ncbi_gene_id, hgnc_gene_name, taxonomy_id, organism, phylum, class, taxonomy_group, info, sequence, variant_under_consideration) \"\n",
    "    \"VALUES (%(accession)s, %(variant)s, %(gi)s, %(ncbi_gene_id)s, %(hgnc_gene_name)s, %(taxonomy_id)s, %(organism)s, %(phylum)s, %(class)s, %(taxonomy_group)s, %(info)s, %(sequence)s, %(variant_under_consideration)s)\"\n",
    ")\n",
    "add_sequence_has_publication = (\n",
    "    \"INSERT INTO sequence_has_publication \"\n",
    "    \"(sequence_accession, publication_id) \"\n",
    "    \"VALUES (%s, %s)\"\n",
    ")\n",
    "# add_alternate_names = (\n",
    "#     \"INSERT INTO alternative_name \"\n",
    "#     \"(name, taxonomy, gene, splice, histone) \"\n",
    "#     \"VALUES (%(name)s, %(taxonomy)s, %(gene)s, %(splice)s, %(histone)s)\"\n",
    "# )\n",
    "# add_histone_has_publication = (\n",
    "#     \"INSERT INTO histone_has_publication \"\n",
    "#     \"(histone_id, publication_id) \"\n",
    "#     \"VALUES (%s, %s)\"\n",
    "# )"
   ]
  },
  {
   "cell_type": "code",
   "execution_count": 53,
   "id": "722ba070-6274-4e3c-a5cc-7dc1c956f972",
   "metadata": {
    "tags": []
   },
   "outputs": [],
   "source": [
    "def get_taxonomy_data(record):\n",
    "    import re\n",
    "    import sys\n",
    "\n",
    "    taxonomy_data = {}\n",
    "    taxonomy_data[\"organism\"] = record.annotations[\"organism\"]\n",
    "    try:\n",
    "        for a in record.features[0].qualifiers[\"db_xref\"]:\n",
    "            text = re.search(\"(\\S+):(\\S+)\", a).group(1)\n",
    "            taxid = re.search(\"(\\S+):(\\S+)\", a).group(2)\n",
    "            if text == \"taxon\":\n",
    "                print(f\"Fetched taxid from NCBI {taxid}\")\n",
    "                taxonomy_data[\"taxonomy_id\"] = int(taxid)\n",
    "            else:\n",
    "                continue\n",
    "    except:\n",
    "        print(\"!!!!!!Unable to get TAXID for this record setting it to 1\")\n",
    "        taxonomy_data[\"taxonomy_id\"] = 1  # unable to identify\n",
    "\n",
    "    lineage = dict()\n",
    "    for i in range(10):\n",
    "        try:\n",
    "            handle = Entrez.efetch(\n",
    "                id=taxonomy_data[\"taxonomy_id\"], db=\"taxonomy\", retmode=\"xml\"\n",
    "            )\n",
    "            tax_data = Entrez.read(handle)\n",
    "            lineage = {\n",
    "                d[\"Rank\"]: d[\"ScientificName\"]\n",
    "                for d in tax_data[0][\"LineageEx\"]\n",
    "                if d[\"Rank\"] in [\"class\", \"phylum\"]\n",
    "            }\n",
    "            break\n",
    "        except:\n",
    "            print(\n",
    "                \"Unexpected error: {}, Retrying, attempt {}\".format(\n",
    "                    sys.exc_info()[0], i\n",
    "                )\n",
    "            )\n",
    "            if i == 9:\n",
    "                print(\n",
    "                    f\"FATAL ERROR could not get class and phylum from NCBI after 10 attempts for taxid:{taxonomy_data['taxonomy_id']}. Will add None for class and phylum!\"\n",
    "                )\n",
    "            else:\n",
    "                continue\n",
    "    taxonomy_data[\"phylum\"] = lineage.get(\"phylum\", None)\n",
    "    taxonomy_data[\"class\"] = lineage.get(\"class\", None)\n",
    "    if taxonomy_data[\"phylum\"] is not None:\n",
    "        taxonomy_data[\"phylum\"] = str(taxonomy_data[\"phylum\"])\n",
    "    if taxonomy_data[\"class\"] is not None:\n",
    "        taxonomy_data[\"class\"] = str(taxonomy_data[\"class\"])\n",
    "    return taxonomy_data"
   ]
  },
  {
   "cell_type": "markdown",
   "id": "63d3a73d-d1f0-4a53-b034-6032e8dae5e5",
   "metadata": {
    "jp-MarkdownHeadingCollapsed": true,
    "tags": []
   },
   "source": [
    "# Methanothermus fervidus\n",
    "\n",
    "В базе уже добавлены 5 последовательностей данного вида.\n",
    "\n",
    "Последовательности ADP77717.1 и ADP77985.1 являются HMfA и HMfB, соответственно (см. [статью](https://www.pnas.org/content/117/52/33384)).\n",
    "\n",
    "ADP77742.1 классифицирован как Coiled-coil ???"
   ]
  },
  {
   "cell_type": "code",
   "execution_count": 6,
   "id": "f3a7ea09-9f9b-4e8a-923c-714bb1725ea4",
   "metadata": {
    "tags": []
   },
   "outputs": [
    {
     "data": {
      "text/html": [
       "<div>\n",
       "<style scoped>\n",
       "    .dataframe tbody tr th:only-of-type {\n",
       "        vertical-align: middle;\n",
       "    }\n",
       "\n",
       "    .dataframe tbody tr th {\n",
       "        vertical-align: top;\n",
       "    }\n",
       "\n",
       "    .dataframe thead th {\n",
       "        text-align: right;\n",
       "    }\n",
       "</style>\n",
       "<table border=\"1\" class=\"dataframe\">\n",
       "  <thead>\n",
       "    <tr style=\"text-align: right;\">\n",
       "      <th></th>\n",
       "      <th>accession</th>\n",
       "      <th>variant</th>\n",
       "      <th>gi</th>\n",
       "      <th>ncbi_gene_id</th>\n",
       "      <th>hgnc_gene_name</th>\n",
       "      <th>taxonomy_id</th>\n",
       "      <th>organism</th>\n",
       "      <th>phylum</th>\n",
       "      <th>class</th>\n",
       "      <th>taxonomy_group</th>\n",
       "      <th>info</th>\n",
       "      <th>sequence</th>\n",
       "      <th>variant_under_consideration</th>\n",
       "    </tr>\n",
       "  </thead>\n",
       "  <tbody>\n",
       "  </tbody>\n",
       "</table>\n",
       "</div>"
      ],
      "text/plain": [
       "Empty DataFrame\n",
       "Columns: [accession, variant, gi, ncbi_gene_id, hgnc_gene_name, taxonomy_id, organism, phylum, class, taxonomy_group, info, sequence, variant_under_consideration]\n",
       "Index: []"
      ]
     },
     "execution_count": 6,
     "metadata": {},
     "output_type": "execute_result"
    }
   ],
   "source": [
    "query = \"SELECT * FROM sequence \"\n",
    "cursor.execute(query)\n",
    "df = pd.DataFrame(cursor.fetchall(), columns=[i[0] for i in cursor.description])\n",
    "df[df[\"accession\"].str.contains(\"WP_013414263\")]"
   ]
  },
  {
   "cell_type": "code",
   "execution_count": 7,
   "id": "b8e0c0aa-bf1b-410e-b872-831ff19f3768",
   "metadata": {
    "tags": []
   },
   "outputs": [
    {
     "data": {
      "text/plain": [
       "'MELPIAPIGRIIKDAGAERVSDDARITLAKILEEMGRDIASEAIKLARHAGRKTIKAEDIELAVRRFKK'"
      ]
     },
     "execution_count": 7,
     "metadata": {},
     "output_type": "execute_result"
    }
   ],
   "source": [
    "\"melpiapigriikdagaervsddaritlakileemgrdiaseaiklarhagrktikaedielavrrfkk\".upper()"
   ]
  },
  {
   "cell_type": "code",
   "execution_count": 8,
   "id": "d6c61a8c-3964-4e9d-a1b6-311b6b82063a",
   "metadata": {
    "tags": []
   },
   "outputs": [
    {
     "data": {
      "text/html": [
       "<div>\n",
       "<style scoped>\n",
       "    .dataframe tbody tr th:only-of-type {\n",
       "        vertical-align: middle;\n",
       "    }\n",
       "\n",
       "    .dataframe tbody tr th {\n",
       "        vertical-align: top;\n",
       "    }\n",
       "\n",
       "    .dataframe thead th {\n",
       "        text-align: right;\n",
       "    }\n",
       "</style>\n",
       "<table border=\"1\" class=\"dataframe\">\n",
       "  <thead>\n",
       "    <tr style=\"text-align: right;\">\n",
       "      <th></th>\n",
       "      <th>accession</th>\n",
       "      <th>variant</th>\n",
       "      <th>gi</th>\n",
       "      <th>ncbi_gene_id</th>\n",
       "      <th>hgnc_gene_name</th>\n",
       "      <th>taxonomy_id</th>\n",
       "      <th>organism</th>\n",
       "      <th>phylum</th>\n",
       "      <th>class</th>\n",
       "      <th>taxonomy_group</th>\n",
       "      <th>info</th>\n",
       "      <th>sequence</th>\n",
       "      <th>variant_under_consideration</th>\n",
       "    </tr>\n",
       "  </thead>\n",
       "  <tbody>\n",
       "    <tr>\n",
       "      <th>4</th>\n",
       "      <td>AAA72080.1</td>\n",
       "      <td>Nucleosomal</td>\n",
       "      <td>None</td>\n",
       "      <td>None</td>\n",
       "      <td>None</td>\n",
       "      <td>2180.0</td>\n",
       "      <td>Methanothermus fervidus</td>\n",
       "      <td>Methanobacteriota</td>\n",
       "      <td>Methanobacteria</td>\n",
       "      <td>None</td>\n",
       "      <td>None</td>\n",
       "      <td>MELPIAPIGRIIKDAGAERVSDDARITLAKILEEMGRDIASEAIKL...</td>\n",
       "      <td>None</td>\n",
       "    </tr>\n",
       "    <tr>\n",
       "      <th>161</th>\n",
       "      <td>ADP77985.1</td>\n",
       "      <td>Nucleosomal</td>\n",
       "      <td>None</td>\n",
       "      <td>None</td>\n",
       "      <td>None</td>\n",
       "      <td>523846.0</td>\n",
       "      <td>Methanothermus fervidus DSM 2088</td>\n",
       "      <td>Methanobacteriota</td>\n",
       "      <td>Methanobacteria</td>\n",
       "      <td>None</td>\n",
       "      <td>None</td>\n",
       "      <td>MELPIAPIGRIIKDAGAERVSDDARITLAKILEEMGRDIASEAIKL...</td>\n",
       "      <td>None</td>\n",
       "    </tr>\n",
       "  </tbody>\n",
       "</table>\n",
       "</div>"
      ],
      "text/plain": [
       "      accession      variant    gi ncbi_gene_id hgnc_gene_name  taxonomy_id  \\\n",
       "4    AAA72080.1  Nucleosomal  None         None           None       2180.0   \n",
       "161  ADP77985.1  Nucleosomal  None         None           None     523846.0   \n",
       "\n",
       "                             organism             phylum            class  \\\n",
       "4             Methanothermus fervidus  Methanobacteriota  Methanobacteria   \n",
       "161  Methanothermus fervidus DSM 2088  Methanobacteriota  Methanobacteria   \n",
       "\n",
       "    taxonomy_group  info                                           sequence  \\\n",
       "4             None  None  MELPIAPIGRIIKDAGAERVSDDARITLAKILEEMGRDIASEAIKL...   \n",
       "161           None  None  MELPIAPIGRIIKDAGAERVSDDARITLAKILEEMGRDIASEAIKL...   \n",
       "\n",
       "    variant_under_consideration  \n",
       "4                          None  \n",
       "161                        None  "
      ]
     },
     "execution_count": 8,
     "metadata": {},
     "output_type": "execute_result"
    }
   ],
   "source": [
    "seq = \"melpiapigriikdagaervsddaritlakileemgrdiaseaiklarhagrktikaedielavrrfkk\".upper()\n",
    "df[df[\"sequence\"] == seq]"
   ]
  },
  {
   "cell_type": "code",
   "execution_count": 9,
   "id": "b22b00c8-1a9e-433b-bed2-83245935b53d",
   "metadata": {
    "tags": []
   },
   "outputs": [
    {
     "data": {
      "text/html": [
       "<div>\n",
       "<style scoped>\n",
       "    .dataframe tbody tr th:only-of-type {\n",
       "        vertical-align: middle;\n",
       "    }\n",
       "\n",
       "    .dataframe tbody tr th {\n",
       "        vertical-align: top;\n",
       "    }\n",
       "\n",
       "    .dataframe thead th {\n",
       "        text-align: right;\n",
       "    }\n",
       "</style>\n",
       "<table border=\"1\" class=\"dataframe\">\n",
       "  <thead>\n",
       "    <tr style=\"text-align: right;\">\n",
       "      <th></th>\n",
       "      <th>accession</th>\n",
       "      <th>variant</th>\n",
       "      <th>gi</th>\n",
       "      <th>ncbi_gene_id</th>\n",
       "      <th>hgnc_gene_name</th>\n",
       "      <th>taxonomy_id</th>\n",
       "      <th>organism</th>\n",
       "      <th>phylum</th>\n",
       "      <th>class</th>\n",
       "      <th>taxonomy_group</th>\n",
       "      <th>info</th>\n",
       "      <th>sequence</th>\n",
       "      <th>variant_under_consideration</th>\n",
       "    </tr>\n",
       "  </thead>\n",
       "  <tbody>\n",
       "    <tr>\n",
       "      <th>4</th>\n",
       "      <td>AAA72080.1</td>\n",
       "      <td>Nucleosomal</td>\n",
       "      <td>None</td>\n",
       "      <td>None</td>\n",
       "      <td>None</td>\n",
       "      <td>2180.0</td>\n",
       "      <td>Methanothermus fervidus</td>\n",
       "      <td>Methanobacteriota</td>\n",
       "      <td>Methanobacteria</td>\n",
       "      <td>None</td>\n",
       "      <td>None</td>\n",
       "      <td>MELPIAPIGRIIKDAGAERVSDDARITLAKILEEMGRDIASEAIKL...</td>\n",
       "      <td>None</td>\n",
       "    </tr>\n",
       "    <tr>\n",
       "      <th>7</th>\n",
       "      <td>AAA73366.1</td>\n",
       "      <td>Nucleosomal</td>\n",
       "      <td>None</td>\n",
       "      <td>None</td>\n",
       "      <td>None</td>\n",
       "      <td>2180.0</td>\n",
       "      <td>Methanothermus fervidus</td>\n",
       "      <td>Methanobacteriota</td>\n",
       "      <td>Methanobacteria</td>\n",
       "      <td>None</td>\n",
       "      <td>None</td>\n",
       "      <td>MGELPIAPIGRIIKNAGAERVSDDARIALAKVLEEMGEEIASEAVK...</td>\n",
       "      <td>None</td>\n",
       "    </tr>\n",
       "    <tr>\n",
       "      <th>159</th>\n",
       "      <td>ADP77717.1</td>\n",
       "      <td>Nucleosomal</td>\n",
       "      <td>None</td>\n",
       "      <td>None</td>\n",
       "      <td>None</td>\n",
       "      <td>523846.0</td>\n",
       "      <td>Methanothermus fervidus DSM 2088</td>\n",
       "      <td>Methanobacteriota</td>\n",
       "      <td>Methanobacteria</td>\n",
       "      <td>None</td>\n",
       "      <td>None</td>\n",
       "      <td>MGELPIAPIGRIIKNAGAERVSDDARIALAKVLEEMGEEIASEAVK...</td>\n",
       "      <td>None</td>\n",
       "    </tr>\n",
       "    <tr>\n",
       "      <th>160</th>\n",
       "      <td>ADP77742.1</td>\n",
       "      <td>Coiled-coil</td>\n",
       "      <td>None</td>\n",
       "      <td>None</td>\n",
       "      <td>None</td>\n",
       "      <td>523846.0</td>\n",
       "      <td>Methanothermus fervidus DSM 2088</td>\n",
       "      <td>Methanobacteriota</td>\n",
       "      <td>Methanobacteria</td>\n",
       "      <td>None</td>\n",
       "      <td>None</td>\n",
       "      <td>MEEKLPFAKAEVVRLMRKYLDDDKMIRERVKIEMNKFLGEIVKNIC...</td>\n",
       "      <td>None</td>\n",
       "    </tr>\n",
       "    <tr>\n",
       "      <th>161</th>\n",
       "      <td>ADP77985.1</td>\n",
       "      <td>Nucleosomal</td>\n",
       "      <td>None</td>\n",
       "      <td>None</td>\n",
       "      <td>None</td>\n",
       "      <td>523846.0</td>\n",
       "      <td>Methanothermus fervidus DSM 2088</td>\n",
       "      <td>Methanobacteriota</td>\n",
       "      <td>Methanobacteria</td>\n",
       "      <td>None</td>\n",
       "      <td>None</td>\n",
       "      <td>MELPIAPIGRIIKDAGAERVSDDARITLAKILEEMGRDIASEAIKL...</td>\n",
       "      <td>None</td>\n",
       "    </tr>\n",
       "  </tbody>\n",
       "</table>\n",
       "</div>"
      ],
      "text/plain": [
       "      accession      variant    gi ncbi_gene_id hgnc_gene_name  taxonomy_id  \\\n",
       "4    AAA72080.1  Nucleosomal  None         None           None       2180.0   \n",
       "7    AAA73366.1  Nucleosomal  None         None           None       2180.0   \n",
       "159  ADP77717.1  Nucleosomal  None         None           None     523846.0   \n",
       "160  ADP77742.1  Coiled-coil  None         None           None     523846.0   \n",
       "161  ADP77985.1  Nucleosomal  None         None           None     523846.0   \n",
       "\n",
       "                             organism             phylum            class  \\\n",
       "4             Methanothermus fervidus  Methanobacteriota  Methanobacteria   \n",
       "7             Methanothermus fervidus  Methanobacteriota  Methanobacteria   \n",
       "159  Methanothermus fervidus DSM 2088  Methanobacteriota  Methanobacteria   \n",
       "160  Methanothermus fervidus DSM 2088  Methanobacteriota  Methanobacteria   \n",
       "161  Methanothermus fervidus DSM 2088  Methanobacteriota  Methanobacteria   \n",
       "\n",
       "    taxonomy_group  info                                           sequence  \\\n",
       "4             None  None  MELPIAPIGRIIKDAGAERVSDDARITLAKILEEMGRDIASEAIKL...   \n",
       "7             None  None  MGELPIAPIGRIIKNAGAERVSDDARIALAKVLEEMGEEIASEAVK...   \n",
       "159           None  None  MGELPIAPIGRIIKNAGAERVSDDARIALAKVLEEMGEEIASEAVK...   \n",
       "160           None  None  MEEKLPFAKAEVVRLMRKYLDDDKMIRERVKIEMNKFLGEIVKNIC...   \n",
       "161           None  None  MELPIAPIGRIIKDAGAERVSDDARITLAKILEEMGRDIASEAIKL...   \n",
       "\n",
       "    variant_under_consideration  \n",
       "4                          None  \n",
       "7                          None  \n",
       "159                        None  \n",
       "160                        None  \n",
       "161                        None  "
      ]
     },
     "execution_count": 9,
     "metadata": {},
     "output_type": "execute_result"
    }
   ],
   "source": [
    "df[df[\"organism\"].str.contains(\"Methanothermus\")]"
   ]
  },
  {
   "cell_type": "markdown",
   "id": "5b032056-eb45-455e-b558-1673d7d6f8a3",
   "metadata": {
    "tags": []
   },
   "source": [
    "# Add HMfA and HMfB"
   ]
  },
  {
   "cell_type": "markdown",
   "id": "77ebe921-8339-4643-a4da-6295ad07cdc3",
   "metadata": {
    "jp-MarkdownHeadingCollapsed": true,
    "tags": []
   },
   "source": [
    "## HMfA_(Methanobacteriales)"
   ]
  },
  {
   "cell_type": "code",
   "execution_count": 20,
   "id": "9b841cc3-6e57-43db-a09e-266e00b73533",
   "metadata": {
    "tags": []
   },
   "outputs": [],
   "source": [
    "data_histone = {\n",
    "    \"id\": \"HMfA\",\n",
    "    \"level\": \"variant\",\n",
    "    \"taxonomic_span\": \"Methanothermus fervidus\",\n",
    "    \"taxonomic_span_id\": \"523846\",\n",
    "    \"description\": None,\n",
    "    \"parent\": \"Nucleosomal\",\n",
    "}\n",
    "cursor.execute(add_histone, data_histone)\n",
    "\n",
    "# Make sure data is committed to the database\n",
    "conn.commit()"
   ]
  },
  {
   "cell_type": "code",
   "execution_count": 21,
   "id": "136ab147-0cec-473b-ad36-8c52b9394d5a",
   "metadata": {
    "tags": []
   },
   "outputs": [
    {
     "data": {
      "text/html": [
       "<div>\n",
       "<style scoped>\n",
       "    .dataframe tbody tr th:only-of-type {\n",
       "        vertical-align: middle;\n",
       "    }\n",
       "\n",
       "    .dataframe tbody tr th {\n",
       "        vertical-align: top;\n",
       "    }\n",
       "\n",
       "    .dataframe thead th {\n",
       "        text-align: right;\n",
       "    }\n",
       "</style>\n",
       "<table border=\"1\" class=\"dataframe\">\n",
       "  <thead>\n",
       "    <tr style=\"text-align: right;\">\n",
       "      <th></th>\n",
       "      <th>id</th>\n",
       "      <th>level</th>\n",
       "      <th>taxonomic_span</th>\n",
       "      <th>taxonomic_span_id</th>\n",
       "      <th>description</th>\n",
       "      <th>parent</th>\n",
       "    </tr>\n",
       "  </thead>\n",
       "  <tbody>\n",
       "    <tr>\n",
       "      <th>193</th>\n",
       "      <td>HMfA</td>\n",
       "      <td>variant</td>\n",
       "      <td>Methanothermus fervidus</td>\n",
       "      <td>523846</td>\n",
       "      <td>NaN</td>\n",
       "      <td>Nucleosomal</td>\n",
       "    </tr>\n",
       "  </tbody>\n",
       "</table>\n",
       "</div>"
      ],
      "text/plain": [
       "       id    level           taxonomic_span taxonomic_span_id  description  \\\n",
       "193  HMfA  variant  Methanothermus fervidus            523846          NaN   \n",
       "\n",
       "          parent  \n",
       "193  Nucleosomal  "
      ]
     },
     "execution_count": 21,
     "metadata": {},
     "output_type": "execute_result"
    }
   ],
   "source": [
    "query = \"SELECT * FROM histone\"\n",
    "cursor.execute(query)\n",
    "histone_df = pd.DataFrame(cursor.fetchall(), columns=[i[0] for i in cursor.description])\n",
    "histone_df[histone_df[\"id\"] == \"HMfA\"]"
   ]
  },
  {
   "cell_type": "code",
   "execution_count": 22,
   "id": "425e78a3-d590-49f0-8287-4b7e9abcb201",
   "metadata": {
    "tags": []
   },
   "outputs": [
    {
     "data": {
      "text/html": [
       "<div>\n",
       "<style scoped>\n",
       "    .dataframe tbody tr th:only-of-type {\n",
       "        vertical-align: middle;\n",
       "    }\n",
       "\n",
       "    .dataframe tbody tr th {\n",
       "        vertical-align: top;\n",
       "    }\n",
       "\n",
       "    .dataframe thead th {\n",
       "        text-align: right;\n",
       "    }\n",
       "</style>\n",
       "<table border=\"1\" class=\"dataframe\">\n",
       "  <thead>\n",
       "    <tr style=\"text-align: right;\">\n",
       "      <th></th>\n",
       "      <th>id</th>\n",
       "      <th>level</th>\n",
       "      <th>taxonomic_span</th>\n",
       "      <th>taxonomic_span_id</th>\n",
       "      <th>description</th>\n",
       "      <th>parent</th>\n",
       "    </tr>\n",
       "  </thead>\n",
       "  <tbody>\n",
       "    <tr>\n",
       "      <th>193</th>\n",
       "      <td>HMfA_(Methanobacteriales)</td>\n",
       "      <td>variant</td>\n",
       "      <td>Methanobacteriales</td>\n",
       "      <td>2158</td>\n",
       "      <td>NaN</td>\n",
       "      <td>Nucleosomal</td>\n",
       "    </tr>\n",
       "  </tbody>\n",
       "</table>\n",
       "</div>"
      ],
      "text/plain": [
       "                            id    level      taxonomic_span taxonomic_span_id  \\\n",
       "193  HMfA_(Methanobacteriales)  variant  Methanobacteriales              2158   \n",
       "\n",
       "     description       parent  \n",
       "193          NaN  Nucleosomal  "
      ]
     },
     "execution_count": 22,
     "metadata": {},
     "output_type": "execute_result"
    }
   ],
   "source": [
    "query = f\"UPDATE histone SET id='HMfA_(Methanobacteriales)', taxonomic_span='Methanobacteriales', taxonomic_span_id=2158 WHERE id='HMfA'\"\n",
    "cursor.execute(query)\n",
    "\n",
    "query = \"SELECT * FROM histone\"\n",
    "cursor.execute(query)\n",
    "histone_df = pd.DataFrame(cursor.fetchall(), columns=[i[0] for i in cursor.description])\n",
    "histone_df[histone_df[\"id\"] == \"HMfA_(Methanobacteriales)\"]"
   ]
  },
  {
   "cell_type": "code",
   "execution_count": 23,
   "id": "56cb5f4d-a185-4a08-a258-278120f59a55",
   "metadata": {
    "tags": []
   },
   "outputs": [],
   "source": [
    "histone_description_summary = \"HMfA_(Methanobacteriales) is a group of histones from various species of Methanobacteriales. These histones are homologs for the HMfA histone of Methanothermus fervidus [stevens_histone_2020].\"\n",
    "data_histone_description = (histone_description_summary,) + (None,) * 13\n",
    "cursor.execute(add_histone_description, data_histone_description)\n",
    "\n",
    "histone_description_id = cursor.lastrowid\n",
    "query = f\"UPDATE histone SET description={histone_description_id} WHERE id='HMfA_(Methanobacteriales)'\"\n",
    "cursor.execute(query)\n",
    "\n",
    "# Make sure data is committed to the database\n",
    "conn.commit()"
   ]
  },
  {
   "cell_type": "code",
   "execution_count": 24,
   "id": "a0650c64-0a7c-4927-9251-418f1fcde004",
   "metadata": {
    "tags": []
   },
   "outputs": [
    {
     "data": {
      "text/html": [
       "<div>\n",
       "<style scoped>\n",
       "    .dataframe tbody tr th:only-of-type {\n",
       "        vertical-align: middle;\n",
       "    }\n",
       "\n",
       "    .dataframe tbody tr th {\n",
       "        vertical-align: top;\n",
       "    }\n",
       "\n",
       "    .dataframe thead th {\n",
       "        text-align: right;\n",
       "    }\n",
       "</style>\n",
       "<table border=\"1\" class=\"dataframe\">\n",
       "  <thead>\n",
       "    <tr style=\"text-align: right;\">\n",
       "      <th></th>\n",
       "      <th>id</th>\n",
       "      <th>level</th>\n",
       "      <th>taxonomic_span</th>\n",
       "      <th>taxonomic_span_id</th>\n",
       "      <th>description</th>\n",
       "      <th>parent</th>\n",
       "      <th>id</th>\n",
       "      <th>summary</th>\n",
       "      <th>taxonomy</th>\n",
       "      <th>genes</th>\n",
       "      <th>...</th>\n",
       "      <th>knock_out</th>\n",
       "      <th>function</th>\n",
       "      <th>sequence</th>\n",
       "      <th>localization</th>\n",
       "      <th>deposition</th>\n",
       "      <th>structure</th>\n",
       "      <th>interactions</th>\n",
       "      <th>disease</th>\n",
       "      <th>caveats</th>\n",
       "      <th>relations</th>\n",
       "    </tr>\n",
       "  </thead>\n",
       "  <tbody>\n",
       "    <tr>\n",
       "      <th>0</th>\n",
       "      <td>HMfA_(Methanobacteriales)</td>\n",
       "      <td>variant</td>\n",
       "      <td>Methanobacteriales</td>\n",
       "      <td>2158</td>\n",
       "      <td>223</td>\n",
       "      <td>Nucleosomal</td>\n",
       "      <td>223</td>\n",
       "      <td>HMfA_(Methanobacteriales) is a group of histon...</td>\n",
       "      <td>None</td>\n",
       "      <td>None</td>\n",
       "      <td>...</td>\n",
       "      <td>None</td>\n",
       "      <td>None</td>\n",
       "      <td>None</td>\n",
       "      <td>None</td>\n",
       "      <td>None</td>\n",
       "      <td>None</td>\n",
       "      <td>None</td>\n",
       "      <td>None</td>\n",
       "      <td>None</td>\n",
       "      <td>None</td>\n",
       "    </tr>\n",
       "  </tbody>\n",
       "</table>\n",
       "<p>1 rows × 22 columns</p>\n",
       "</div>"
      ],
      "text/plain": [
       "                          id    level      taxonomic_span taxonomic_span_id  \\\n",
       "0  HMfA_(Methanobacteriales)  variant  Methanobacteriales              2158   \n",
       "\n",
       "   description       parent   id  \\\n",
       "0          223  Nucleosomal  223   \n",
       "\n",
       "                                             summary taxonomy genes  ...  \\\n",
       "0  HMfA_(Methanobacteriales) is a group of histon...     None  None  ...   \n",
       "\n",
       "  knock_out function sequence localization deposition structure interactions  \\\n",
       "0      None     None     None         None       None      None         None   \n",
       "\n",
       "  disease caveats relations  \n",
       "0    None    None      None  \n",
       "\n",
       "[1 rows x 22 columns]"
      ]
     },
     "execution_count": 24,
     "metadata": {},
     "output_type": "execute_result"
    }
   ],
   "source": [
    "query = (\n",
    "    \"SELECT * FROM histone h LEFT JOIN histone_description hd \"\n",
    "    \"ON h.description = hd.id \"\n",
    "    \"WHERE h.id='HMfA_(Methanobacteriales)'\"\n",
    ")\n",
    "cursor.execute(query)\n",
    "pd.DataFrame(cursor.fetchall(), columns=[i[0] for i in cursor.description])"
   ]
  },
  {
   "cell_type": "markdown",
   "id": "17a03d16-9374-4bdd-bdf2-65ca87c3aa8e",
   "metadata": {
    "jp-MarkdownHeadingCollapsed": true,
    "tags": []
   },
   "source": [
    "## HMfA_(Methanothermus_fervidus)"
   ]
  },
  {
   "cell_type": "code",
   "execution_count": 27,
   "id": "62f93d14-2ea4-4b90-b781-6673f50d203a",
   "metadata": {
    "tags": []
   },
   "outputs": [],
   "source": [
    "data_histone = {\n",
    "    \"id\": \"HMfA_(Methanothermus_fervidus)\",\n",
    "    \"level\": \"variant\",\n",
    "    \"taxonomic_span\": \"Methanothermus fervidus DSM 2088\",\n",
    "    \"taxonomic_span_id\": \"523846\",\n",
    "    \"description\": None,\n",
    "    \"parent\": \"HMfA_(Methanobacteriales)\",\n",
    "}\n",
    "cursor.execute(add_histone, data_histone)\n",
    "\n",
    "# Make sure data is committed to the database\n",
    "conn.commit()"
   ]
  },
  {
   "cell_type": "code",
   "execution_count": 28,
   "id": "50107cc0-1fa0-4072-9eb6-63c1faab4eec",
   "metadata": {
    "tags": []
   },
   "outputs": [
    {
     "data": {
      "text/html": [
       "<div>\n",
       "<style scoped>\n",
       "    .dataframe tbody tr th:only-of-type {\n",
       "        vertical-align: middle;\n",
       "    }\n",
       "\n",
       "    .dataframe tbody tr th {\n",
       "        vertical-align: top;\n",
       "    }\n",
       "\n",
       "    .dataframe thead th {\n",
       "        text-align: right;\n",
       "    }\n",
       "</style>\n",
       "<table border=\"1\" class=\"dataframe\">\n",
       "  <thead>\n",
       "    <tr style=\"text-align: right;\">\n",
       "      <th></th>\n",
       "      <th>id</th>\n",
       "      <th>level</th>\n",
       "      <th>taxonomic_span</th>\n",
       "      <th>taxonomic_span_id</th>\n",
       "      <th>description</th>\n",
       "      <th>parent</th>\n",
       "    </tr>\n",
       "  </thead>\n",
       "  <tbody>\n",
       "    <tr>\n",
       "      <th>194</th>\n",
       "      <td>HMfA_(Methanothermus_fervidus)</td>\n",
       "      <td>variant</td>\n",
       "      <td>Methanothermus fervidus DSM 2088</td>\n",
       "      <td>523846</td>\n",
       "      <td>NaN</td>\n",
       "      <td>HMfA_(Methanobacteriales)</td>\n",
       "    </tr>\n",
       "  </tbody>\n",
       "</table>\n",
       "</div>"
      ],
      "text/plain": [
       "                                 id    level  \\\n",
       "194  HMfA_(Methanothermus_fervidus)  variant   \n",
       "\n",
       "                       taxonomic_span taxonomic_span_id  description  \\\n",
       "194  Methanothermus fervidus DSM 2088            523846          NaN   \n",
       "\n",
       "                        parent  \n",
       "194  HMfA_(Methanobacteriales)  "
      ]
     },
     "execution_count": 28,
     "metadata": {},
     "output_type": "execute_result"
    }
   ],
   "source": [
    "query = \"SELECT * FROM histone\"\n",
    "cursor.execute(query)\n",
    "histone_df = pd.DataFrame(cursor.fetchall(), columns=[i[0] for i in cursor.description])\n",
    "histone_df[histone_df[\"id\"] == \"HMfA_(Methanothermus_fervidus)\"]"
   ]
  },
  {
   "cell_type": "code",
   "execution_count": 29,
   "id": "a06e29b4-90c7-4a2d-83da-5fe02e44ef11",
   "metadata": {
    "tags": []
   },
   "outputs": [],
   "source": [
    "histone_description_summary = \"HMfA_(Methanothermus_fervidus) are histones encoded by the HMfA gene of Methanothermus fervidus [stevens_histone_2020].\"\n",
    "data_histone_description = (histone_description_summary,) + (None,) * 13\n",
    "cursor.execute(add_histone_description, data_histone_description)\n",
    "\n",
    "histone_description_id = cursor.lastrowid\n",
    "query = f\"UPDATE histone SET description={histone_description_id} WHERE id='HMfA_(Methanothermus_fervidus)'\"\n",
    "cursor.execute(query)\n",
    "\n",
    "# Make sure data is committed to the database\n",
    "conn.commit()"
   ]
  },
  {
   "cell_type": "code",
   "execution_count": 30,
   "id": "16ea6299-64c3-4adc-9f81-0efbe7ecbd9e",
   "metadata": {
    "tags": []
   },
   "outputs": [
    {
     "data": {
      "text/html": [
       "<div>\n",
       "<style scoped>\n",
       "    .dataframe tbody tr th:only-of-type {\n",
       "        vertical-align: middle;\n",
       "    }\n",
       "\n",
       "    .dataframe tbody tr th {\n",
       "        vertical-align: top;\n",
       "    }\n",
       "\n",
       "    .dataframe thead th {\n",
       "        text-align: right;\n",
       "    }\n",
       "</style>\n",
       "<table border=\"1\" class=\"dataframe\">\n",
       "  <thead>\n",
       "    <tr style=\"text-align: right;\">\n",
       "      <th></th>\n",
       "      <th>id</th>\n",
       "      <th>level</th>\n",
       "      <th>taxonomic_span</th>\n",
       "      <th>taxonomic_span_id</th>\n",
       "      <th>description</th>\n",
       "      <th>parent</th>\n",
       "      <th>id</th>\n",
       "      <th>summary</th>\n",
       "      <th>taxonomy</th>\n",
       "      <th>genes</th>\n",
       "      <th>...</th>\n",
       "      <th>knock_out</th>\n",
       "      <th>function</th>\n",
       "      <th>sequence</th>\n",
       "      <th>localization</th>\n",
       "      <th>deposition</th>\n",
       "      <th>structure</th>\n",
       "      <th>interactions</th>\n",
       "      <th>disease</th>\n",
       "      <th>caveats</th>\n",
       "      <th>relations</th>\n",
       "    </tr>\n",
       "  </thead>\n",
       "  <tbody>\n",
       "    <tr>\n",
       "      <th>0</th>\n",
       "      <td>HMfA_(Methanothermus_fervidus)</td>\n",
       "      <td>variant</td>\n",
       "      <td>Methanothermus fervidus DSM 2088</td>\n",
       "      <td>523846</td>\n",
       "      <td>224</td>\n",
       "      <td>HMfA_(Methanobacteriales)</td>\n",
       "      <td>224</td>\n",
       "      <td>HMfA_(Methanothermus_fervidus) are histones en...</td>\n",
       "      <td>None</td>\n",
       "      <td>None</td>\n",
       "      <td>...</td>\n",
       "      <td>None</td>\n",
       "      <td>None</td>\n",
       "      <td>None</td>\n",
       "      <td>None</td>\n",
       "      <td>None</td>\n",
       "      <td>None</td>\n",
       "      <td>None</td>\n",
       "      <td>None</td>\n",
       "      <td>None</td>\n",
       "      <td>None</td>\n",
       "    </tr>\n",
       "  </tbody>\n",
       "</table>\n",
       "<p>1 rows × 22 columns</p>\n",
       "</div>"
      ],
      "text/plain": [
       "                               id    level                    taxonomic_span  \\\n",
       "0  HMfA_(Methanothermus_fervidus)  variant  Methanothermus fervidus DSM 2088   \n",
       "\n",
       "  taxonomic_span_id  description                     parent   id  \\\n",
       "0            523846          224  HMfA_(Methanobacteriales)  224   \n",
       "\n",
       "                                             summary taxonomy genes  ...  \\\n",
       "0  HMfA_(Methanothermus_fervidus) are histones en...     None  None  ...   \n",
       "\n",
       "  knock_out function sequence localization deposition structure interactions  \\\n",
       "0      None     None     None         None       None      None         None   \n",
       "\n",
       "  disease caveats relations  \n",
       "0    None    None      None  \n",
       "\n",
       "[1 rows x 22 columns]"
      ]
     },
     "execution_count": 30,
     "metadata": {},
     "output_type": "execute_result"
    }
   ],
   "source": [
    "query = (\n",
    "    \"SELECT * FROM histone h LEFT JOIN histone_description hd \"\n",
    "    \"ON h.description = hd.id \"\n",
    "    \"WHERE h.id='HMfA_(Methanothermus_fervidus)'\"\n",
    ")\n",
    "cursor.execute(query)\n",
    "pd.DataFrame(cursor.fetchall(), columns=[i[0] for i in cursor.description])"
   ]
  },
  {
   "cell_type": "markdown",
   "id": "bafc1652-1026-44f2-9347-3330d77354a8",
   "metadata": {
    "jp-MarkdownHeadingCollapsed": true,
    "tags": []
   },
   "source": [
    "## HMfB_(Methanobacteriales)"
   ]
  },
  {
   "cell_type": "code",
   "execution_count": 32,
   "id": "05d9f3c4-19c2-4d34-a564-7edf30e8be8d",
   "metadata": {
    "tags": []
   },
   "outputs": [],
   "source": [
    "data_histone = {\n",
    "    \"id\": \"HMfB_(Methanobacteriales)\",\n",
    "    \"level\": \"variant\",\n",
    "    \"taxonomic_span\": \"Methanothermus fervidus\",\n",
    "    \"taxonomic_span_id\": \"523846\",\n",
    "    \"description\": None,\n",
    "    \"parent\": \"Nucleosomal\",\n",
    "}\n",
    "cursor.execute(add_histone, data_histone)\n",
    "\n",
    "# Make sure data is committed to the database\n",
    "conn.commit()"
   ]
  },
  {
   "cell_type": "code",
   "execution_count": 33,
   "id": "606916a4-c563-4fe4-9e3d-77fad408777a",
   "metadata": {
    "tags": []
   },
   "outputs": [
    {
     "data": {
      "text/html": [
       "<div>\n",
       "<style scoped>\n",
       "    .dataframe tbody tr th:only-of-type {\n",
       "        vertical-align: middle;\n",
       "    }\n",
       "\n",
       "    .dataframe tbody tr th {\n",
       "        vertical-align: top;\n",
       "    }\n",
       "\n",
       "    .dataframe thead th {\n",
       "        text-align: right;\n",
       "    }\n",
       "</style>\n",
       "<table border=\"1\" class=\"dataframe\">\n",
       "  <thead>\n",
       "    <tr style=\"text-align: right;\">\n",
       "      <th></th>\n",
       "      <th>id</th>\n",
       "      <th>level</th>\n",
       "      <th>taxonomic_span</th>\n",
       "      <th>taxonomic_span_id</th>\n",
       "      <th>description</th>\n",
       "      <th>parent</th>\n",
       "    </tr>\n",
       "  </thead>\n",
       "  <tbody>\n",
       "    <tr>\n",
       "      <th>195</th>\n",
       "      <td>HMfB_(Methanobacteriales)</td>\n",
       "      <td>variant</td>\n",
       "      <td>Methanothermus fervidus</td>\n",
       "      <td>523846</td>\n",
       "      <td>NaN</td>\n",
       "      <td>Nucleosomal</td>\n",
       "    </tr>\n",
       "  </tbody>\n",
       "</table>\n",
       "</div>"
      ],
      "text/plain": [
       "                            id    level           taxonomic_span  \\\n",
       "195  HMfB_(Methanobacteriales)  variant  Methanothermus fervidus   \n",
       "\n",
       "    taxonomic_span_id  description       parent  \n",
       "195            523846          NaN  Nucleosomal  "
      ]
     },
     "execution_count": 33,
     "metadata": {},
     "output_type": "execute_result"
    }
   ],
   "source": [
    "query = \"SELECT * FROM histone\"\n",
    "cursor.execute(query)\n",
    "histone_df = pd.DataFrame(cursor.fetchall(), columns=[i[0] for i in cursor.description])\n",
    "histone_df[histone_df[\"id\"] == \"HMfB_(Methanobacteriales)\"]"
   ]
  },
  {
   "cell_type": "code",
   "execution_count": 34,
   "id": "48638182-7bab-4140-b693-040d4e3a6551",
   "metadata": {
    "tags": []
   },
   "outputs": [],
   "source": [
    "histone_description_summary = \"HMfB_(Methanobacteriales) is a group of histones from various species of Methanobacteriales. These histones are homologs for the HMfB histone of Methanothermus fervidus [stevens_histone_2020].\"\n",
    "data_histone_description = (histone_description_summary,) + (None,) * 13\n",
    "cursor.execute(add_histone_description, data_histone_description)\n",
    "\n",
    "histone_description_id = cursor.lastrowid\n",
    "query = f\"UPDATE histone SET description={histone_description_id} WHERE id='HMfB_(Methanobacteriales)'\"\n",
    "cursor.execute(query)\n",
    "\n",
    "# Make sure data is committed to the database\n",
    "conn.commit()"
   ]
  },
  {
   "cell_type": "code",
   "execution_count": 35,
   "id": "a09dc950-e85c-4a34-aaaa-e27ed2e4abec",
   "metadata": {
    "tags": []
   },
   "outputs": [
    {
     "data": {
      "text/html": [
       "<div>\n",
       "<style scoped>\n",
       "    .dataframe tbody tr th:only-of-type {\n",
       "        vertical-align: middle;\n",
       "    }\n",
       "\n",
       "    .dataframe tbody tr th {\n",
       "        vertical-align: top;\n",
       "    }\n",
       "\n",
       "    .dataframe thead th {\n",
       "        text-align: right;\n",
       "    }\n",
       "</style>\n",
       "<table border=\"1\" class=\"dataframe\">\n",
       "  <thead>\n",
       "    <tr style=\"text-align: right;\">\n",
       "      <th></th>\n",
       "      <th>id</th>\n",
       "      <th>level</th>\n",
       "      <th>taxonomic_span</th>\n",
       "      <th>taxonomic_span_id</th>\n",
       "      <th>description</th>\n",
       "      <th>parent</th>\n",
       "      <th>id</th>\n",
       "      <th>summary</th>\n",
       "      <th>taxonomy</th>\n",
       "      <th>genes</th>\n",
       "      <th>...</th>\n",
       "      <th>knock_out</th>\n",
       "      <th>function</th>\n",
       "      <th>sequence</th>\n",
       "      <th>localization</th>\n",
       "      <th>deposition</th>\n",
       "      <th>structure</th>\n",
       "      <th>interactions</th>\n",
       "      <th>disease</th>\n",
       "      <th>caveats</th>\n",
       "      <th>relations</th>\n",
       "    </tr>\n",
       "  </thead>\n",
       "  <tbody>\n",
       "    <tr>\n",
       "      <th>0</th>\n",
       "      <td>HMfB_(Methanobacteriales)</td>\n",
       "      <td>variant</td>\n",
       "      <td>Methanothermus fervidus</td>\n",
       "      <td>523846</td>\n",
       "      <td>225</td>\n",
       "      <td>Nucleosomal</td>\n",
       "      <td>225</td>\n",
       "      <td>HMfB_(Methanobacteriales) is a group of histon...</td>\n",
       "      <td>None</td>\n",
       "      <td>None</td>\n",
       "      <td>...</td>\n",
       "      <td>None</td>\n",
       "      <td>None</td>\n",
       "      <td>None</td>\n",
       "      <td>None</td>\n",
       "      <td>None</td>\n",
       "      <td>None</td>\n",
       "      <td>None</td>\n",
       "      <td>None</td>\n",
       "      <td>None</td>\n",
       "      <td>None</td>\n",
       "    </tr>\n",
       "  </tbody>\n",
       "</table>\n",
       "<p>1 rows × 22 columns</p>\n",
       "</div>"
      ],
      "text/plain": [
       "                          id    level           taxonomic_span  \\\n",
       "0  HMfB_(Methanobacteriales)  variant  Methanothermus fervidus   \n",
       "\n",
       "  taxonomic_span_id  description       parent   id  \\\n",
       "0            523846          225  Nucleosomal  225   \n",
       "\n",
       "                                             summary taxonomy genes  ...  \\\n",
       "0  HMfB_(Methanobacteriales) is a group of histon...     None  None  ...   \n",
       "\n",
       "  knock_out function sequence localization deposition structure interactions  \\\n",
       "0      None     None     None         None       None      None         None   \n",
       "\n",
       "  disease caveats relations  \n",
       "0    None    None      None  \n",
       "\n",
       "[1 rows x 22 columns]"
      ]
     },
     "execution_count": 35,
     "metadata": {},
     "output_type": "execute_result"
    }
   ],
   "source": [
    "query = (\n",
    "    \"SELECT * FROM histone h LEFT JOIN histone_description hd \"\n",
    "    \"ON h.description = hd.id \"\n",
    "    \"WHERE h.id='HMfB_(Methanobacteriales)'\"\n",
    ")\n",
    "cursor.execute(query)\n",
    "pd.DataFrame(cursor.fetchall(), columns=[i[0] for i in cursor.description])"
   ]
  },
  {
   "cell_type": "markdown",
   "id": "7b0243ca-8ed2-4235-9e1d-0d4c39bddd0a",
   "metadata": {
    "jp-MarkdownHeadingCollapsed": true,
    "tags": []
   },
   "source": [
    "## HMfB_(Methanothermus_fervidus)"
   ]
  },
  {
   "cell_type": "code",
   "execution_count": 36,
   "id": "9e0e69a7-88a3-4230-8453-def1fc173c11",
   "metadata": {
    "tags": []
   },
   "outputs": [],
   "source": [
    "data_histone = {\n",
    "    \"id\": \"HMfB_(Methanothermus_fervidus)\",\n",
    "    \"level\": \"variant\",\n",
    "    \"taxonomic_span\": \"Methanothermus fervidus DSM 2088\",\n",
    "    \"taxonomic_span_id\": \"523846\",\n",
    "    \"description\": None,\n",
    "    \"parent\": \"HMfB_(Methanobacteriales)\",\n",
    "}\n",
    "cursor.execute(add_histone, data_histone)\n",
    "\n",
    "# Make sure data is committed to the database\n",
    "conn.commit()"
   ]
  },
  {
   "cell_type": "code",
   "execution_count": 37,
   "id": "f06c1294-d1fa-4a31-be68-c83ad6808fd4",
   "metadata": {
    "tags": []
   },
   "outputs": [
    {
     "data": {
      "text/html": [
       "<div>\n",
       "<style scoped>\n",
       "    .dataframe tbody tr th:only-of-type {\n",
       "        vertical-align: middle;\n",
       "    }\n",
       "\n",
       "    .dataframe tbody tr th {\n",
       "        vertical-align: top;\n",
       "    }\n",
       "\n",
       "    .dataframe thead th {\n",
       "        text-align: right;\n",
       "    }\n",
       "</style>\n",
       "<table border=\"1\" class=\"dataframe\">\n",
       "  <thead>\n",
       "    <tr style=\"text-align: right;\">\n",
       "      <th></th>\n",
       "      <th>id</th>\n",
       "      <th>level</th>\n",
       "      <th>taxonomic_span</th>\n",
       "      <th>taxonomic_span_id</th>\n",
       "      <th>description</th>\n",
       "      <th>parent</th>\n",
       "    </tr>\n",
       "  </thead>\n",
       "  <tbody>\n",
       "    <tr>\n",
       "      <th>196</th>\n",
       "      <td>HMfB_(Methanothermus_fervidus)</td>\n",
       "      <td>variant</td>\n",
       "      <td>Methanothermus fervidus DSM 2088</td>\n",
       "      <td>523846</td>\n",
       "      <td>NaN</td>\n",
       "      <td>HMfB_(Methanobacteriales)</td>\n",
       "    </tr>\n",
       "  </tbody>\n",
       "</table>\n",
       "</div>"
      ],
      "text/plain": [
       "                                 id    level  \\\n",
       "196  HMfB_(Methanothermus_fervidus)  variant   \n",
       "\n",
       "                       taxonomic_span taxonomic_span_id  description  \\\n",
       "196  Methanothermus fervidus DSM 2088            523846          NaN   \n",
       "\n",
       "                        parent  \n",
       "196  HMfB_(Methanobacteriales)  "
      ]
     },
     "execution_count": 37,
     "metadata": {},
     "output_type": "execute_result"
    }
   ],
   "source": [
    "query = \"SELECT * FROM histone\"\n",
    "cursor.execute(query)\n",
    "histone_df = pd.DataFrame(cursor.fetchall(), columns=[i[0] for i in cursor.description])\n",
    "histone_df[histone_df[\"id\"] == \"HMfB_(Methanothermus_fervidus)\"]"
   ]
  },
  {
   "cell_type": "code",
   "execution_count": 38,
   "id": "7b7808db-4447-4d8a-9d06-87a2f584e339",
   "metadata": {
    "tags": []
   },
   "outputs": [],
   "source": [
    "histone_description_summary = \"HMfB_(Methanothermus_fervidus) are histones encoded by the HMfB gene of Methanothermus fervidus [stevens_histone_2020].\"\n",
    "data_histone_description = (histone_description_summary,) + (None,) * 13\n",
    "cursor.execute(add_histone_description, data_histone_description)\n",
    "\n",
    "histone_description_id = cursor.lastrowid\n",
    "query = f\"UPDATE histone SET description={histone_description_id} WHERE id='HMfB_(Methanothermus_fervidus)'\"\n",
    "cursor.execute(query)\n",
    "\n",
    "# Make sure data is committed to the database\n",
    "conn.commit()"
   ]
  },
  {
   "cell_type": "code",
   "execution_count": 39,
   "id": "c4a22aff-bf70-4618-a356-79a30ac39100",
   "metadata": {
    "tags": []
   },
   "outputs": [
    {
     "data": {
      "text/html": [
       "<div>\n",
       "<style scoped>\n",
       "    .dataframe tbody tr th:only-of-type {\n",
       "        vertical-align: middle;\n",
       "    }\n",
       "\n",
       "    .dataframe tbody tr th {\n",
       "        vertical-align: top;\n",
       "    }\n",
       "\n",
       "    .dataframe thead th {\n",
       "        text-align: right;\n",
       "    }\n",
       "</style>\n",
       "<table border=\"1\" class=\"dataframe\">\n",
       "  <thead>\n",
       "    <tr style=\"text-align: right;\">\n",
       "      <th></th>\n",
       "      <th>id</th>\n",
       "      <th>level</th>\n",
       "      <th>taxonomic_span</th>\n",
       "      <th>taxonomic_span_id</th>\n",
       "      <th>description</th>\n",
       "      <th>parent</th>\n",
       "      <th>id</th>\n",
       "      <th>summary</th>\n",
       "      <th>taxonomy</th>\n",
       "      <th>genes</th>\n",
       "      <th>...</th>\n",
       "      <th>knock_out</th>\n",
       "      <th>function</th>\n",
       "      <th>sequence</th>\n",
       "      <th>localization</th>\n",
       "      <th>deposition</th>\n",
       "      <th>structure</th>\n",
       "      <th>interactions</th>\n",
       "      <th>disease</th>\n",
       "      <th>caveats</th>\n",
       "      <th>relations</th>\n",
       "    </tr>\n",
       "  </thead>\n",
       "  <tbody>\n",
       "    <tr>\n",
       "      <th>0</th>\n",
       "      <td>HMfB_(Methanothermus_fervidus)</td>\n",
       "      <td>variant</td>\n",
       "      <td>Methanothermus fervidus DSM 2088</td>\n",
       "      <td>523846</td>\n",
       "      <td>226</td>\n",
       "      <td>HMfB_(Methanobacteriales)</td>\n",
       "      <td>226</td>\n",
       "      <td>HMfB_(Methanothermus_fervidus) are histones en...</td>\n",
       "      <td>None</td>\n",
       "      <td>None</td>\n",
       "      <td>...</td>\n",
       "      <td>None</td>\n",
       "      <td>None</td>\n",
       "      <td>None</td>\n",
       "      <td>None</td>\n",
       "      <td>None</td>\n",
       "      <td>None</td>\n",
       "      <td>None</td>\n",
       "      <td>None</td>\n",
       "      <td>None</td>\n",
       "      <td>None</td>\n",
       "    </tr>\n",
       "  </tbody>\n",
       "</table>\n",
       "<p>1 rows × 22 columns</p>\n",
       "</div>"
      ],
      "text/plain": [
       "                               id    level                    taxonomic_span  \\\n",
       "0  HMfB_(Methanothermus_fervidus)  variant  Methanothermus fervidus DSM 2088   \n",
       "\n",
       "  taxonomic_span_id  description                     parent   id  \\\n",
       "0            523846          226  HMfB_(Methanobacteriales)  226   \n",
       "\n",
       "                                             summary taxonomy genes  ...  \\\n",
       "0  HMfB_(Methanothermus_fervidus) are histones en...     None  None  ...   \n",
       "\n",
       "  knock_out function sequence localization deposition structure interactions  \\\n",
       "0      None     None     None         None       None      None         None   \n",
       "\n",
       "  disease caveats relations  \n",
       "0    None    None      None  \n",
       "\n",
       "[1 rows x 22 columns]"
      ]
     },
     "execution_count": 39,
     "metadata": {},
     "output_type": "execute_result"
    }
   ],
   "source": [
    "query = (\n",
    "    \"SELECT * FROM histone h LEFT JOIN histone_description hd \"\n",
    "    \"ON h.description = hd.id \"\n",
    "    \"WHERE h.id='HMfB_(Methanothermus_fervidus)'\"\n",
    ")\n",
    "cursor.execute(query)\n",
    "pd.DataFrame(cursor.fetchall(), columns=[i[0] for i in cursor.description])"
   ]
  },
  {
   "cell_type": "markdown",
   "id": "0c0166c7-94af-4878-81e4-fe7f2d6c4992",
   "metadata": {
    "jp-MarkdownHeadingCollapsed": true,
    "tags": []
   },
   "source": [
    "## Correct variant for ADP77717.1 and ADP77985.1\n",
    "\n",
    "Последовательности ADP77717.1 и ADP77985.1 являются HMfA и HMfB, соответственной (см. [статью](https://www.pnas.org/content/117/52/33384))."
   ]
  },
  {
   "cell_type": "code",
   "execution_count": 40,
   "id": "4eddb7af-0705-4ce4-9954-7968f6722efb",
   "metadata": {
    "tags": []
   },
   "outputs": [
    {
     "data": {
      "text/html": [
       "<div>\n",
       "<style scoped>\n",
       "    .dataframe tbody tr th:only-of-type {\n",
       "        vertical-align: middle;\n",
       "    }\n",
       "\n",
       "    .dataframe tbody tr th {\n",
       "        vertical-align: top;\n",
       "    }\n",
       "\n",
       "    .dataframe thead th {\n",
       "        text-align: right;\n",
       "    }\n",
       "</style>\n",
       "<table border=\"1\" class=\"dataframe\">\n",
       "  <thead>\n",
       "    <tr style=\"text-align: right;\">\n",
       "      <th></th>\n",
       "      <th>accession</th>\n",
       "      <th>variant</th>\n",
       "      <th>gi</th>\n",
       "      <th>ncbi_gene_id</th>\n",
       "      <th>hgnc_gene_name</th>\n",
       "      <th>taxonomy_id</th>\n",
       "      <th>organism</th>\n",
       "      <th>phylum</th>\n",
       "      <th>class</th>\n",
       "      <th>taxonomy_group</th>\n",
       "      <th>info</th>\n",
       "      <th>sequence</th>\n",
       "      <th>variant_under_consideration</th>\n",
       "    </tr>\n",
       "  </thead>\n",
       "  <tbody>\n",
       "    <tr>\n",
       "      <th>159</th>\n",
       "      <td>ADP77717.1</td>\n",
       "      <td>Nucleosomal</td>\n",
       "      <td>None</td>\n",
       "      <td>None</td>\n",
       "      <td>None</td>\n",
       "      <td>523846.0</td>\n",
       "      <td>Methanothermus fervidus DSM 2088</td>\n",
       "      <td>Methanobacteriota</td>\n",
       "      <td>Methanobacteria</td>\n",
       "      <td>None</td>\n",
       "      <td>None</td>\n",
       "      <td>MGELPIAPIGRIIKNAGAERVSDDARIALAKVLEEMGEEIASEAVK...</td>\n",
       "      <td>None</td>\n",
       "    </tr>\n",
       "  </tbody>\n",
       "</table>\n",
       "</div>"
      ],
      "text/plain": [
       "      accession      variant    gi ncbi_gene_id hgnc_gene_name  taxonomy_id  \\\n",
       "159  ADP77717.1  Nucleosomal  None         None           None     523846.0   \n",
       "\n",
       "                             organism             phylum            class  \\\n",
       "159  Methanothermus fervidus DSM 2088  Methanobacteriota  Methanobacteria   \n",
       "\n",
       "    taxonomy_group  info                                           sequence  \\\n",
       "159           None  None  MGELPIAPIGRIIKNAGAERVSDDARIALAKVLEEMGEEIASEAVK...   \n",
       "\n",
       "    variant_under_consideration  \n",
       "159                        None  "
      ]
     },
     "execution_count": 40,
     "metadata": {},
     "output_type": "execute_result"
    }
   ],
   "source": [
    "query = \"SELECT * FROM sequence \"\n",
    "cursor.execute(query)\n",
    "df = pd.DataFrame(cursor.fetchall(), columns=[i[0] for i in cursor.description])\n",
    "df[df[\"accession\"].str.contains(\"ADP77717.1\")]"
   ]
  },
  {
   "cell_type": "code",
   "execution_count": 41,
   "id": "0fa0098f-745a-42cd-8d81-6cc830b18bb1",
   "metadata": {
    "tags": []
   },
   "outputs": [],
   "source": [
    "query = f\"UPDATE sequence SET variant='HMfA_(Methanothermus_fervidus)' WHERE accession='ADP77717.1'\"\n",
    "cursor.execute(query)\n",
    "\n",
    "query = f\"UPDATE sequence SET variant='HMfB_(Methanothermus_fervidus)' WHERE accession='ADP77985.1'\"\n",
    "cursor.execute(query)"
   ]
  },
  {
   "cell_type": "code",
   "execution_count": 42,
   "id": "89aa5ca6-da91-4593-8f49-5959db558f4f",
   "metadata": {
    "tags": []
   },
   "outputs": [
    {
     "data": {
      "text/html": [
       "<div>\n",
       "<style scoped>\n",
       "    .dataframe tbody tr th:only-of-type {\n",
       "        vertical-align: middle;\n",
       "    }\n",
       "\n",
       "    .dataframe tbody tr th {\n",
       "        vertical-align: top;\n",
       "    }\n",
       "\n",
       "    .dataframe thead th {\n",
       "        text-align: right;\n",
       "    }\n",
       "</style>\n",
       "<table border=\"1\" class=\"dataframe\">\n",
       "  <thead>\n",
       "    <tr style=\"text-align: right;\">\n",
       "      <th></th>\n",
       "      <th>accession</th>\n",
       "      <th>variant</th>\n",
       "      <th>gi</th>\n",
       "      <th>ncbi_gene_id</th>\n",
       "      <th>hgnc_gene_name</th>\n",
       "      <th>taxonomy_id</th>\n",
       "      <th>organism</th>\n",
       "      <th>phylum</th>\n",
       "      <th>class</th>\n",
       "      <th>taxonomy_group</th>\n",
       "      <th>info</th>\n",
       "      <th>sequence</th>\n",
       "      <th>variant_under_consideration</th>\n",
       "    </tr>\n",
       "  </thead>\n",
       "  <tbody>\n",
       "    <tr>\n",
       "      <th>159</th>\n",
       "      <td>ADP77717.1</td>\n",
       "      <td>HMfA_(Methanothermus_fervidus)</td>\n",
       "      <td>None</td>\n",
       "      <td>None</td>\n",
       "      <td>None</td>\n",
       "      <td>523846.0</td>\n",
       "      <td>Methanothermus fervidus DSM 2088</td>\n",
       "      <td>Methanobacteriota</td>\n",
       "      <td>Methanobacteria</td>\n",
       "      <td>None</td>\n",
       "      <td>None</td>\n",
       "      <td>MGELPIAPIGRIIKNAGAERVSDDARIALAKVLEEMGEEIASEAVK...</td>\n",
       "      <td>None</td>\n",
       "    </tr>\n",
       "    <tr>\n",
       "      <th>161</th>\n",
       "      <td>ADP77985.1</td>\n",
       "      <td>HMfB_(Methanothermus_fervidus)</td>\n",
       "      <td>None</td>\n",
       "      <td>None</td>\n",
       "      <td>None</td>\n",
       "      <td>523846.0</td>\n",
       "      <td>Methanothermus fervidus DSM 2088</td>\n",
       "      <td>Methanobacteriota</td>\n",
       "      <td>Methanobacteria</td>\n",
       "      <td>None</td>\n",
       "      <td>None</td>\n",
       "      <td>MELPIAPIGRIIKDAGAERVSDDARITLAKILEEMGRDIASEAIKL...</td>\n",
       "      <td>None</td>\n",
       "    </tr>\n",
       "  </tbody>\n",
       "</table>\n",
       "</div>"
      ],
      "text/plain": [
       "      accession                         variant    gi ncbi_gene_id  \\\n",
       "159  ADP77717.1  HMfA_(Methanothermus_fervidus)  None         None   \n",
       "161  ADP77985.1  HMfB_(Methanothermus_fervidus)  None         None   \n",
       "\n",
       "    hgnc_gene_name  taxonomy_id                          organism  \\\n",
       "159           None     523846.0  Methanothermus fervidus DSM 2088   \n",
       "161           None     523846.0  Methanothermus fervidus DSM 2088   \n",
       "\n",
       "                phylum            class taxonomy_group  info  \\\n",
       "159  Methanobacteriota  Methanobacteria           None  None   \n",
       "161  Methanobacteriota  Methanobacteria           None  None   \n",
       "\n",
       "                                              sequence  \\\n",
       "159  MGELPIAPIGRIIKNAGAERVSDDARIALAKVLEEMGEEIASEAVK...   \n",
       "161  MELPIAPIGRIIKDAGAERVSDDARITLAKILEEMGRDIASEAIKL...   \n",
       "\n",
       "    variant_under_consideration  \n",
       "159                        None  \n",
       "161                        None  "
      ]
     },
     "execution_count": 42,
     "metadata": {},
     "output_type": "execute_result"
    }
   ],
   "source": [
    "query = \"SELECT * FROM sequence \"\n",
    "cursor.execute(query)\n",
    "df = pd.DataFrame(cursor.fetchall(), columns=[i[0] for i in cursor.description])\n",
    "df[df[\"accession\"].isin([\"ADP77717.1\", \"ADP77985.1\"])]"
   ]
  },
  {
   "cell_type": "code",
   "execution_count": 43,
   "id": "d65d7702-78c2-4539-a96c-d0558838560e",
   "metadata": {
    "tags": []
   },
   "outputs": [
    {
     "data": {
      "text/html": [
       "<div>\n",
       "<style scoped>\n",
       "    .dataframe tbody tr th:only-of-type {\n",
       "        vertical-align: middle;\n",
       "    }\n",
       "\n",
       "    .dataframe tbody tr th {\n",
       "        vertical-align: top;\n",
       "    }\n",
       "\n",
       "    .dataframe thead th {\n",
       "        text-align: right;\n",
       "    }\n",
       "</style>\n",
       "<table border=\"1\" class=\"dataframe\">\n",
       "  <thead>\n",
       "    <tr style=\"text-align: right;\">\n",
       "      <th></th>\n",
       "      <th>accession</th>\n",
       "      <th>variant</th>\n",
       "      <th>gi</th>\n",
       "      <th>ncbi_gene_id</th>\n",
       "      <th>hgnc_gene_name</th>\n",
       "      <th>taxonomy_id</th>\n",
       "      <th>organism</th>\n",
       "      <th>phylum</th>\n",
       "      <th>class</th>\n",
       "      <th>taxonomy_group</th>\n",
       "      <th>info</th>\n",
       "      <th>sequence</th>\n",
       "      <th>variant_under_consideration</th>\n",
       "      <th>sequence_accession</th>\n",
       "      <th>publication_id</th>\n",
       "    </tr>\n",
       "  </thead>\n",
       "  <tbody>\n",
       "    <tr>\n",
       "      <th>163</th>\n",
       "      <td>ADP77717.1</td>\n",
       "      <td>HMfA_(Methanothermus_fervidus)</td>\n",
       "      <td>None</td>\n",
       "      <td>None</td>\n",
       "      <td>None</td>\n",
       "      <td>523846.0</td>\n",
       "      <td>Methanothermus fervidus DSM 2088</td>\n",
       "      <td>Methanobacteriota</td>\n",
       "      <td>Methanobacteria</td>\n",
       "      <td>None</td>\n",
       "      <td>None</td>\n",
       "      <td>MGELPIAPIGRIIKNAGAERVSDDARIALAKVLEEMGEEIASEAVK...</td>\n",
       "      <td>None</td>\n",
       "      <td>ADP77717.1</td>\n",
       "      <td>schwab_histones_2024</td>\n",
       "    </tr>\n",
       "    <tr>\n",
       "      <th>165</th>\n",
       "      <td>ADP77985.1</td>\n",
       "      <td>HMfB_(Methanothermus_fervidus)</td>\n",
       "      <td>None</td>\n",
       "      <td>None</td>\n",
       "      <td>None</td>\n",
       "      <td>523846.0</td>\n",
       "      <td>Methanothermus fervidus DSM 2088</td>\n",
       "      <td>Methanobacteriota</td>\n",
       "      <td>Methanobacteria</td>\n",
       "      <td>None</td>\n",
       "      <td>None</td>\n",
       "      <td>MELPIAPIGRIIKDAGAERVSDDARITLAKILEEMGRDIASEAIKL...</td>\n",
       "      <td>None</td>\n",
       "      <td>ADP77985.1</td>\n",
       "      <td>schwab_histones_2024</td>\n",
       "    </tr>\n",
       "  </tbody>\n",
       "</table>\n",
       "</div>"
      ],
      "text/plain": [
       "      accession                         variant    gi ncbi_gene_id  \\\n",
       "163  ADP77717.1  HMfA_(Methanothermus_fervidus)  None         None   \n",
       "165  ADP77985.1  HMfB_(Methanothermus_fervidus)  None         None   \n",
       "\n",
       "    hgnc_gene_name  taxonomy_id                          organism  \\\n",
       "163           None     523846.0  Methanothermus fervidus DSM 2088   \n",
       "165           None     523846.0  Methanothermus fervidus DSM 2088   \n",
       "\n",
       "                phylum            class taxonomy_group  info  \\\n",
       "163  Methanobacteriota  Methanobacteria           None  None   \n",
       "165  Methanobacteriota  Methanobacteria           None  None   \n",
       "\n",
       "                                              sequence  \\\n",
       "163  MGELPIAPIGRIIKNAGAERVSDDARIALAKVLEEMGEEIASEAVK...   \n",
       "165  MELPIAPIGRIIKDAGAERVSDDARITLAKILEEMGRDIASEAIKL...   \n",
       "\n",
       "    variant_under_consideration sequence_accession        publication_id  \n",
       "163                        None         ADP77717.1  schwab_histones_2024  \n",
       "165                        None         ADP77985.1  schwab_histones_2024  "
      ]
     },
     "execution_count": 43,
     "metadata": {},
     "output_type": "execute_result"
    }
   ],
   "source": [
    "query = (\n",
    "    \"SELECT * FROM sequence s LEFT JOIN sequence_has_publication sp \"\n",
    "    \"ON s.accession = sp.sequence_accession \"\n",
    ")\n",
    "cursor.execute(query)\n",
    "df = pd.DataFrame(cursor.fetchall(), columns=[i[0] for i in cursor.description])\n",
    "df[df[\"accession\"].isin([\"ADP77717.1\", \"ADP77985.1\"])]"
   ]
  },
  {
   "cell_type": "code",
   "execution_count": 45,
   "id": "6214f3c6-0709-4536-9a3e-7073e42e4a29",
   "metadata": {
    "tags": []
   },
   "outputs": [
    {
     "data": {
      "text/html": [
       "<div>\n",
       "<style scoped>\n",
       "    .dataframe tbody tr th:only-of-type {\n",
       "        vertical-align: middle;\n",
       "    }\n",
       "\n",
       "    .dataframe tbody tr th {\n",
       "        vertical-align: top;\n",
       "    }\n",
       "\n",
       "    .dataframe thead th {\n",
       "        text-align: right;\n",
       "    }\n",
       "</style>\n",
       "<table border=\"1\" class=\"dataframe\">\n",
       "  <thead>\n",
       "    <tr style=\"text-align: right;\">\n",
       "      <th></th>\n",
       "      <th>id</th>\n",
       "      <th>title</th>\n",
       "      <th>doi</th>\n",
       "      <th>author</th>\n",
       "      <th>year</th>\n",
       "    </tr>\n",
       "  </thead>\n",
       "  <tbody>\n",
       "  </tbody>\n",
       "</table>\n",
       "</div>"
      ],
      "text/plain": [
       "Empty DataFrame\n",
       "Columns: [id, title, doi, author, year]\n",
       "Index: []"
      ]
     },
     "execution_count": 45,
     "metadata": {},
     "output_type": "execute_result"
    }
   ],
   "source": [
    "pid = \"stevens_histone_2020\"\n",
    "query = f\"SELECT * FROM publication WHERE id='{pid}'\"\n",
    "cursor.execute(query)\n",
    "pd.DataFrame(cursor.fetchall(), columns=[i[0] for i in cursor.description])"
   ]
  },
  {
   "cell_type": "code",
   "execution_count": 46,
   "id": "a3887416-d00a-452d-a935-0708ad87b121",
   "metadata": {
    "tags": []
   },
   "outputs": [],
   "source": [
    "data_publication = {\n",
    "    \"id\": pid,\n",
    "    \"title\": \"Histone variants in archaea and the evolution of combinatorial chromatin complexity\",\n",
    "    \"doi\": \"10.1073/pnas.2007056117\",\n",
    "    \"author\": None,\n",
    "    \"year\": \"2020\",\n",
    "}\n",
    "cursor.execute(add_publication, data_publication)"
   ]
  },
  {
   "cell_type": "code",
   "execution_count": 47,
   "id": "2b4db2e9-0041-40f5-945a-39a7fd09ff2d",
   "metadata": {
    "tags": []
   },
   "outputs": [],
   "source": [
    "for acc in [\"ADP77717.1\", \"ADP77985.1\"]:\n",
    "    cursor.execute(add_sequence_has_publication, (acc, pid))"
   ]
  },
  {
   "cell_type": "code",
   "execution_count": 48,
   "id": "292c66eb-4619-49bd-aa55-aa06e7ca2ae9",
   "metadata": {
    "tags": []
   },
   "outputs": [
    {
     "data": {
      "text/html": [
       "<div>\n",
       "<style scoped>\n",
       "    .dataframe tbody tr th:only-of-type {\n",
       "        vertical-align: middle;\n",
       "    }\n",
       "\n",
       "    .dataframe tbody tr th {\n",
       "        vertical-align: top;\n",
       "    }\n",
       "\n",
       "    .dataframe thead th {\n",
       "        text-align: right;\n",
       "    }\n",
       "</style>\n",
       "<table border=\"1\" class=\"dataframe\">\n",
       "  <thead>\n",
       "    <tr style=\"text-align: right;\">\n",
       "      <th></th>\n",
       "      <th>accession</th>\n",
       "      <th>variant</th>\n",
       "      <th>gi</th>\n",
       "      <th>ncbi_gene_id</th>\n",
       "      <th>hgnc_gene_name</th>\n",
       "      <th>taxonomy_id</th>\n",
       "      <th>organism</th>\n",
       "      <th>phylum</th>\n",
       "      <th>class</th>\n",
       "      <th>taxonomy_group</th>\n",
       "      <th>info</th>\n",
       "      <th>sequence</th>\n",
       "      <th>variant_under_consideration</th>\n",
       "      <th>sequence_accession</th>\n",
       "      <th>publication_id</th>\n",
       "    </tr>\n",
       "  </thead>\n",
       "  <tbody>\n",
       "    <tr>\n",
       "      <th>163</th>\n",
       "      <td>ADP77717.1</td>\n",
       "      <td>HMfA_(Methanothermus_fervidus)</td>\n",
       "      <td>None</td>\n",
       "      <td>None</td>\n",
       "      <td>None</td>\n",
       "      <td>523846.0</td>\n",
       "      <td>Methanothermus fervidus DSM 2088</td>\n",
       "      <td>Methanobacteriota</td>\n",
       "      <td>Methanobacteria</td>\n",
       "      <td>None</td>\n",
       "      <td>None</td>\n",
       "      <td>MGELPIAPIGRIIKNAGAERVSDDARIALAKVLEEMGEEIASEAVK...</td>\n",
       "      <td>None</td>\n",
       "      <td>ADP77717.1</td>\n",
       "      <td>schwab_histones_2024</td>\n",
       "    </tr>\n",
       "    <tr>\n",
       "      <th>164</th>\n",
       "      <td>ADP77717.1</td>\n",
       "      <td>HMfA_(Methanothermus_fervidus)</td>\n",
       "      <td>None</td>\n",
       "      <td>None</td>\n",
       "      <td>None</td>\n",
       "      <td>523846.0</td>\n",
       "      <td>Methanothermus fervidus DSM 2088</td>\n",
       "      <td>Methanobacteriota</td>\n",
       "      <td>Methanobacteria</td>\n",
       "      <td>None</td>\n",
       "      <td>None</td>\n",
       "      <td>MGELPIAPIGRIIKNAGAERVSDDARIALAKVLEEMGEEIASEAVK...</td>\n",
       "      <td>None</td>\n",
       "      <td>ADP77717.1</td>\n",
       "      <td>stevens_histone_2020</td>\n",
       "    </tr>\n",
       "    <tr>\n",
       "      <th>166</th>\n",
       "      <td>ADP77985.1</td>\n",
       "      <td>HMfB_(Methanothermus_fervidus)</td>\n",
       "      <td>None</td>\n",
       "      <td>None</td>\n",
       "      <td>None</td>\n",
       "      <td>523846.0</td>\n",
       "      <td>Methanothermus fervidus DSM 2088</td>\n",
       "      <td>Methanobacteriota</td>\n",
       "      <td>Methanobacteria</td>\n",
       "      <td>None</td>\n",
       "      <td>None</td>\n",
       "      <td>MELPIAPIGRIIKDAGAERVSDDARITLAKILEEMGRDIASEAIKL...</td>\n",
       "      <td>None</td>\n",
       "      <td>ADP77985.1</td>\n",
       "      <td>schwab_histones_2024</td>\n",
       "    </tr>\n",
       "    <tr>\n",
       "      <th>167</th>\n",
       "      <td>ADP77985.1</td>\n",
       "      <td>HMfB_(Methanothermus_fervidus)</td>\n",
       "      <td>None</td>\n",
       "      <td>None</td>\n",
       "      <td>None</td>\n",
       "      <td>523846.0</td>\n",
       "      <td>Methanothermus fervidus DSM 2088</td>\n",
       "      <td>Methanobacteriota</td>\n",
       "      <td>Methanobacteria</td>\n",
       "      <td>None</td>\n",
       "      <td>None</td>\n",
       "      <td>MELPIAPIGRIIKDAGAERVSDDARITLAKILEEMGRDIASEAIKL...</td>\n",
       "      <td>None</td>\n",
       "      <td>ADP77985.1</td>\n",
       "      <td>stevens_histone_2020</td>\n",
       "    </tr>\n",
       "  </tbody>\n",
       "</table>\n",
       "</div>"
      ],
      "text/plain": [
       "      accession                         variant    gi ncbi_gene_id  \\\n",
       "163  ADP77717.1  HMfA_(Methanothermus_fervidus)  None         None   \n",
       "164  ADP77717.1  HMfA_(Methanothermus_fervidus)  None         None   \n",
       "166  ADP77985.1  HMfB_(Methanothermus_fervidus)  None         None   \n",
       "167  ADP77985.1  HMfB_(Methanothermus_fervidus)  None         None   \n",
       "\n",
       "    hgnc_gene_name  taxonomy_id                          organism  \\\n",
       "163           None     523846.0  Methanothermus fervidus DSM 2088   \n",
       "164           None     523846.0  Methanothermus fervidus DSM 2088   \n",
       "166           None     523846.0  Methanothermus fervidus DSM 2088   \n",
       "167           None     523846.0  Methanothermus fervidus DSM 2088   \n",
       "\n",
       "                phylum            class taxonomy_group  info  \\\n",
       "163  Methanobacteriota  Methanobacteria           None  None   \n",
       "164  Methanobacteriota  Methanobacteria           None  None   \n",
       "166  Methanobacteriota  Methanobacteria           None  None   \n",
       "167  Methanobacteriota  Methanobacteria           None  None   \n",
       "\n",
       "                                              sequence  \\\n",
       "163  MGELPIAPIGRIIKNAGAERVSDDARIALAKVLEEMGEEIASEAVK...   \n",
       "164  MGELPIAPIGRIIKNAGAERVSDDARIALAKVLEEMGEEIASEAVK...   \n",
       "166  MELPIAPIGRIIKDAGAERVSDDARITLAKILEEMGRDIASEAIKL...   \n",
       "167  MELPIAPIGRIIKDAGAERVSDDARITLAKILEEMGRDIASEAIKL...   \n",
       "\n",
       "    variant_under_consideration sequence_accession        publication_id  \n",
       "163                        None         ADP77717.1  schwab_histones_2024  \n",
       "164                        None         ADP77717.1  stevens_histone_2020  \n",
       "166                        None         ADP77985.1  schwab_histones_2024  \n",
       "167                        None         ADP77985.1  stevens_histone_2020  "
      ]
     },
     "execution_count": 48,
     "metadata": {},
     "output_type": "execute_result"
    }
   ],
   "source": [
    "query = (\n",
    "    \"SELECT * FROM sequence s LEFT JOIN sequence_has_publication sp \"\n",
    "    \"ON s.accession = sp.sequence_accession \"\n",
    ")\n",
    "cursor.execute(query)\n",
    "df = pd.DataFrame(cursor.fetchall(), columns=[i[0] for i in cursor.description])\n",
    "df[df[\"accession\"].isin([\"ADP77717.1\", \"ADP77985.1\"])]"
   ]
  },
  {
   "cell_type": "code",
   "execution_count": 49,
   "id": "98164756-2de1-46f9-8c39-e7199d7d6e59",
   "metadata": {
    "tags": []
   },
   "outputs": [],
   "source": [
    "# Make sure data is committed to the database\n",
    "conn.commit()"
   ]
  },
  {
   "cell_type": "markdown",
   "id": "2b31f986-02a2-408e-abac-40adaad5601e",
   "metadata": {
    "jp-MarkdownHeadingCollapsed": true,
    "tags": []
   },
   "source": [
    "# Add WP_013413995 and WP_013414263\n",
    "\n",
    "These seqs from [article](https://journals.plos.org/plosgenetics/article?id=10.1371/journal.pgen.1007582)"
   ]
  },
  {
   "cell_type": "code",
   "execution_count": 52,
   "id": "891b79fc-d7e5-48e1-8881-252360fea218",
   "metadata": {
    "tags": []
   },
   "outputs": [
    {
     "data": {
      "text/html": [
       "<div>\n",
       "<style scoped>\n",
       "    .dataframe tbody tr th:only-of-type {\n",
       "        vertical-align: middle;\n",
       "    }\n",
       "\n",
       "    .dataframe tbody tr th {\n",
       "        vertical-align: top;\n",
       "    }\n",
       "\n",
       "    .dataframe thead th {\n",
       "        text-align: right;\n",
       "    }\n",
       "</style>\n",
       "<table border=\"1\" class=\"dataframe\">\n",
       "  <thead>\n",
       "    <tr style=\"text-align: right;\">\n",
       "      <th></th>\n",
       "      <th>accession</th>\n",
       "      <th>variant</th>\n",
       "      <th>gi</th>\n",
       "      <th>ncbi_gene_id</th>\n",
       "      <th>hgnc_gene_name</th>\n",
       "      <th>taxonomy_id</th>\n",
       "      <th>organism</th>\n",
       "      <th>phylum</th>\n",
       "      <th>class</th>\n",
       "      <th>taxonomy_group</th>\n",
       "      <th>info</th>\n",
       "      <th>sequence</th>\n",
       "      <th>variant_under_consideration</th>\n",
       "    </tr>\n",
       "  </thead>\n",
       "  <tbody>\n",
       "  </tbody>\n",
       "</table>\n",
       "</div>"
      ],
      "text/plain": [
       "Empty DataFrame\n",
       "Columns: [accession, variant, gi, ncbi_gene_id, hgnc_gene_name, taxonomy_id, organism, phylum, class, taxonomy_group, info, sequence, variant_under_consideration]\n",
       "Index: []"
      ]
     },
     "execution_count": 52,
     "metadata": {},
     "output_type": "execute_result"
    }
   ],
   "source": [
    "query = \"SELECT * FROM sequence \"\n",
    "cursor.execute(query)\n",
    "df = pd.DataFrame(cursor.fetchall(), columns=[i[0] for i in cursor.description])\n",
    "df[df[\"accession\"].isin([\"WP_013413995\", \"WP_013414263\"])]"
   ]
  },
  {
   "cell_type": "markdown",
   "id": "f288650c-e006-4467-b66e-73f3483ecab6",
   "metadata": {
    "tags": []
   },
   "source": [
    "## Add WP_013413995 as HMfA_(Methanothermus_fervidus)"
   ]
  },
  {
   "cell_type": "code",
   "execution_count": 54,
   "id": "510373df-13f1-48d0-9940-78fd0ed02d46",
   "metadata": {
    "tags": []
   },
   "outputs": [],
   "source": [
    "accession = \"WP_013413995\""
   ]
  },
  {
   "cell_type": "code",
   "execution_count": 55,
   "id": "72d8d54f-f2ed-46a1-9647-2ebc4a23a706",
   "metadata": {
    "tags": []
   },
   "outputs": [
    {
     "name": "stdout",
     "output_type": "stream",
     "text": [
      "ID: WP_013413995.1\n",
      "Name: WP_013413995\n",
      "Description: histone HmfA [Methanothermus fervidus]\n",
      "Number of features: 4\n",
      "/topology=linear\n",
      "/data_file_division=BCT\n",
      "/date=22-OCT-2023\n",
      "/accessions=['WP_013413995']\n",
      "/sequence_version=1\n",
      "/keywords=['RefSeq']\n",
      "/source=Methanothermus fervidus\n",
      "/organism=Methanothermus fervidus\n",
      "/taxonomy=['Archaea', 'Euryarchaeota', 'Methanomada group', 'Methanobacteria', 'Methanobacteriales', 'Methanothermaceae', 'Methanothermus']\n",
      "/references=[Reference(title='Specific DNA binding of archaeal histones HMfA and HMfB', ...), Reference(title='Crystal structures of recombinant histones HMfA and HMfB from the hyperthermophilic archaeon Methanothermus fervidus', ...), Reference(title='HMf, a DNA-binding protein isolated from the hyperthermophilic archaeon Methanothermus fervidus, is most closely related to histones', ...)]\n",
      "/comment=REFSEQ: This record represents a single, non-redundant, protein\n",
      "sequence which may be annotated on many different RefSeq genomes\n",
      "from the same, or different, species.\n",
      "COMPLETENESS: full length.\n",
      "/structured_comment=OrderedDict([('Evidence-For-Name-Assignment', OrderedDict([('Evidence Category', 'BlastRule'), ('Evidence Accession', 'NBR016328'), ('Evidence Source', 'NCBI')]))])\n",
      "/molecule_type=protein\n",
      "Seq('MGELPIAPIGRIIKNAGAERVSDDARIALAKVLEEMGEEIASEAVKLAKHAGRK...MFK')\n",
      "MGELPIAPIGRIIKNAGAERVSDDARIALAKVLEEMGEEIASEAVKLAKHAGRKTIKAEDIELARKMFK\n"
     ]
    }
   ],
   "source": [
    "with Entrez.efetch(db=\"protein\", id=accession, rettype=\"gb\", retmode=\"text\") as handle:\n",
    "    record = SeqIO.read(handle, \"genbank\")\n",
    "    print(record)\n",
    "print(record.seq)"
   ]
  },
  {
   "cell_type": "code",
   "execution_count": 62,
   "id": "9c008420-3163-42dc-8aa9-007015d337c3",
   "metadata": {
    "tags": []
   },
   "outputs": [
    {
     "data": {
      "text/plain": [
       "'WP_013413995.1'"
      ]
     },
     "execution_count": 62,
     "metadata": {},
     "output_type": "execute_result"
    }
   ],
   "source": [
    "record.id"
   ]
  },
  {
   "cell_type": "code",
   "execution_count": 57,
   "id": "ac5e3f52-3303-4b26-bc4b-b0c1d6729a28",
   "metadata": {
    "tags": []
   },
   "outputs": [
    {
     "name": "stdout",
     "output_type": "stream",
     "text": [
      "Fetched taxid from NCBI 2180\n",
      "accession WP_013413995 <class 'str'>\n",
      "variant HMfA_(Methanothermus_fervidus) <class 'str'>\n",
      "gi None <class 'NoneType'>\n",
      "ncbi_gene_id None <class 'NoneType'>\n",
      "hgnc_gene_name None <class 'NoneType'>\n",
      "taxonomy_id 2180 <class 'int'>\n",
      "organism Methanothermus fervidus <class 'str'>\n",
      "phylum Methanobacteriota <class 'str'>\n",
      "class Methanobacteria <class 'str'>\n",
      "taxonomy_group None <class 'NoneType'>\n",
      "info None <class 'NoneType'>\n",
      "sequence MGELPIAPIGRIIKNAGAERVSDDARIALAKVLEEMGEEIASEAVKLAKHAGRKTIKAEDIELARKMFK <class 'str'>\n",
      "variant_under_consideration None <class 'NoneType'>\n"
     ]
    }
   ],
   "source": [
    "taxonomy_data = get_taxonomy_data(record)\n",
    "data_sequence = {\n",
    "    \"accession\": accession,\n",
    "    \"variant\": \"HMfA_(Methanothermus_fervidus)\",\n",
    "    \"gi\": None,\n",
    "    \"ncbi_gene_id\": None,\n",
    "    \"hgnc_gene_name\": None,\n",
    "    \"taxonomy_id\": None,\n",
    "    \"organism\": None,\n",
    "    \"phylum\": None,\n",
    "    \"class\": None,\n",
    "    \"taxonomy_group\": None,\n",
    "    \"info\": None,\n",
    "    \"sequence\": str(record.seq),\n",
    "    \"variant_under_consideration\": None,\n",
    "}\n",
    "data_sequence.update(taxonomy_data)\n",
    "for k, v in data_sequence.items():\n",
    "    print(k, v, type(v))"
   ]
  },
  {
   "cell_type": "code",
   "execution_count": 60,
   "id": "53b0b155-13fd-440f-a513-3e97e0e50163",
   "metadata": {
    "tags": []
   },
   "outputs": [],
   "source": [
    "cursor.execute(add_sequence, data_sequence)"
   ]
  },
  {
   "cell_type": "code",
   "execution_count": 63,
   "id": "6f396f70-d36c-4511-b8ac-469ccdfc1f4a",
   "metadata": {
    "tags": []
   },
   "outputs": [],
   "source": [
    "query = f\"UPDATE sequence SET accession='{record.id}' WHERE accession='WP_013413995'\"\n",
    "cursor.execute(query)"
   ]
  },
  {
   "cell_type": "code",
   "execution_count": 65,
   "id": "9a106228-44cc-4be5-9a8b-78f85be9cabc",
   "metadata": {
    "tags": []
   },
   "outputs": [
    {
     "data": {
      "text/html": [
       "<div>\n",
       "<style scoped>\n",
       "    .dataframe tbody tr th:only-of-type {\n",
       "        vertical-align: middle;\n",
       "    }\n",
       "\n",
       "    .dataframe tbody tr th {\n",
       "        vertical-align: top;\n",
       "    }\n",
       "\n",
       "    .dataframe thead th {\n",
       "        text-align: right;\n",
       "    }\n",
       "</style>\n",
       "<table border=\"1\" class=\"dataframe\">\n",
       "  <thead>\n",
       "    <tr style=\"text-align: right;\">\n",
       "      <th></th>\n",
       "      <th>accession</th>\n",
       "      <th>variant</th>\n",
       "      <th>gi</th>\n",
       "      <th>ncbi_gene_id</th>\n",
       "      <th>hgnc_gene_name</th>\n",
       "      <th>taxonomy_id</th>\n",
       "      <th>organism</th>\n",
       "      <th>phylum</th>\n",
       "      <th>class</th>\n",
       "      <th>taxonomy_group</th>\n",
       "      <th>info</th>\n",
       "      <th>sequence</th>\n",
       "      <th>variant_under_consideration</th>\n",
       "      <th>sequence_accession</th>\n",
       "      <th>publication_id</th>\n",
       "    </tr>\n",
       "  </thead>\n",
       "  <tbody>\n",
       "    <tr>\n",
       "      <th>5002</th>\n",
       "      <td>WP_013413995.1</td>\n",
       "      <td>HMfA_(Methanothermus_fervidus)</td>\n",
       "      <td>None</td>\n",
       "      <td>None</td>\n",
       "      <td>None</td>\n",
       "      <td>2180.0</td>\n",
       "      <td>Methanothermus fervidus</td>\n",
       "      <td>Methanobacteriota</td>\n",
       "      <td>Methanobacteria</td>\n",
       "      <td>None</td>\n",
       "      <td>None</td>\n",
       "      <td>MGELPIAPIGRIIKNAGAERVSDDARIALAKVLEEMGEEIASEAVK...</td>\n",
       "      <td>None</td>\n",
       "      <td>None</td>\n",
       "      <td>None</td>\n",
       "    </tr>\n",
       "  </tbody>\n",
       "</table>\n",
       "</div>"
      ],
      "text/plain": [
       "           accession                         variant    gi ncbi_gene_id  \\\n",
       "5002  WP_013413995.1  HMfA_(Methanothermus_fervidus)  None         None   \n",
       "\n",
       "     hgnc_gene_name  taxonomy_id                 organism             phylum  \\\n",
       "5002           None       2180.0  Methanothermus fervidus  Methanobacteriota   \n",
       "\n",
       "                class taxonomy_group  info  \\\n",
       "5002  Methanobacteria           None  None   \n",
       "\n",
       "                                               sequence  \\\n",
       "5002  MGELPIAPIGRIIKNAGAERVSDDARIALAKVLEEMGEEIASEAVK...   \n",
       "\n",
       "     variant_under_consideration sequence_accession publication_id  \n",
       "5002                        None               None           None  "
      ]
     },
     "execution_count": 65,
     "metadata": {},
     "output_type": "execute_result"
    }
   ],
   "source": [
    "query = (\n",
    "    \"SELECT * FROM sequence s LEFT JOIN sequence_has_publication sp \"\n",
    "    \"ON s.accession = sp.sequence_accession \"\n",
    ")\n",
    "cursor.execute(query)\n",
    "df = pd.DataFrame(cursor.fetchall(), columns=[i[0] for i in cursor.description])\n",
    "df[df[\"accession\"].str.contains(\"WP_013413995\")]"
   ]
  },
  {
   "cell_type": "code",
   "execution_count": 66,
   "id": "5117c140-7e2e-4e90-b076-f62cf8971fc6",
   "metadata": {
    "tags": []
   },
   "outputs": [
    {
     "data": {
      "text/html": [
       "<div>\n",
       "<style scoped>\n",
       "    .dataframe tbody tr th:only-of-type {\n",
       "        vertical-align: middle;\n",
       "    }\n",
       "\n",
       "    .dataframe tbody tr th {\n",
       "        vertical-align: top;\n",
       "    }\n",
       "\n",
       "    .dataframe thead th {\n",
       "        text-align: right;\n",
       "    }\n",
       "</style>\n",
       "<table border=\"1\" class=\"dataframe\">\n",
       "  <thead>\n",
       "    <tr style=\"text-align: right;\">\n",
       "      <th></th>\n",
       "      <th>id</th>\n",
       "      <th>title</th>\n",
       "      <th>doi</th>\n",
       "      <th>author</th>\n",
       "      <th>year</th>\n",
       "    </tr>\n",
       "  </thead>\n",
       "  <tbody>\n",
       "  </tbody>\n",
       "</table>\n",
       "</div>"
      ],
      "text/plain": [
       "Empty DataFrame\n",
       "Columns: [id, title, doi, author, year]\n",
       "Index: []"
      ]
     },
     "execution_count": 66,
     "metadata": {},
     "output_type": "execute_result"
    }
   ],
   "source": [
    "pid = \"henneman_structure_2018\"\n",
    "query = f\"SELECT * FROM publication WHERE id='{pid}'\"\n",
    "cursor.execute(query)\n",
    "pd.DataFrame(cursor.fetchall(), columns=[i[0] for i in cursor.description])"
   ]
  },
  {
   "cell_type": "code",
   "execution_count": 67,
   "id": "200c3930-f1ce-4826-86a4-2aa6728ad35d",
   "metadata": {
    "tags": []
   },
   "outputs": [],
   "source": [
    "data_publication = {\n",
    "    \"id\": pid,\n",
    "    \"title\": \"Structure and function of archaeal histones\",\n",
    "    \"doi\": \"10.1371/journal.pgen.1007582\",\n",
    "    \"author\": None,\n",
    "    \"year\": \"2018\",\n",
    "}\n",
    "cursor.execute(add_publication, data_publication)"
   ]
  },
  {
   "cell_type": "code",
   "execution_count": 68,
   "id": "8c29b8d8-c8fe-46e7-8351-6285494a91f1",
   "metadata": {
    "tags": []
   },
   "outputs": [],
   "source": [
    "cursor.execute(add_sequence_has_publication, (\"WP_013413995.1\", pid))"
   ]
  },
  {
   "cell_type": "code",
   "execution_count": 69,
   "id": "eec5907c-b134-434f-a1a1-b44347064cb9",
   "metadata": {
    "tags": []
   },
   "outputs": [
    {
     "data": {
      "text/html": [
       "<div>\n",
       "<style scoped>\n",
       "    .dataframe tbody tr th:only-of-type {\n",
       "        vertical-align: middle;\n",
       "    }\n",
       "\n",
       "    .dataframe tbody tr th {\n",
       "        vertical-align: top;\n",
       "    }\n",
       "\n",
       "    .dataframe thead th {\n",
       "        text-align: right;\n",
       "    }\n",
       "</style>\n",
       "<table border=\"1\" class=\"dataframe\">\n",
       "  <thead>\n",
       "    <tr style=\"text-align: right;\">\n",
       "      <th></th>\n",
       "      <th>accession</th>\n",
       "      <th>variant</th>\n",
       "      <th>gi</th>\n",
       "      <th>ncbi_gene_id</th>\n",
       "      <th>hgnc_gene_name</th>\n",
       "      <th>taxonomy_id</th>\n",
       "      <th>organism</th>\n",
       "      <th>phylum</th>\n",
       "      <th>class</th>\n",
       "      <th>taxonomy_group</th>\n",
       "      <th>info</th>\n",
       "      <th>sequence</th>\n",
       "      <th>variant_under_consideration</th>\n",
       "      <th>sequence_accession</th>\n",
       "      <th>publication_id</th>\n",
       "    </tr>\n",
       "  </thead>\n",
       "  <tbody>\n",
       "    <tr>\n",
       "      <th>5002</th>\n",
       "      <td>WP_013413995.1</td>\n",
       "      <td>HMfA_(Methanothermus_fervidus)</td>\n",
       "      <td>None</td>\n",
       "      <td>None</td>\n",
       "      <td>None</td>\n",
       "      <td>2180.0</td>\n",
       "      <td>Methanothermus fervidus</td>\n",
       "      <td>Methanobacteriota</td>\n",
       "      <td>Methanobacteria</td>\n",
       "      <td>None</td>\n",
       "      <td>None</td>\n",
       "      <td>MGELPIAPIGRIIKNAGAERVSDDARIALAKVLEEMGEEIASEAVK...</td>\n",
       "      <td>None</td>\n",
       "      <td>WP_013413995.1</td>\n",
       "      <td>henneman_structure_2018</td>\n",
       "    </tr>\n",
       "  </tbody>\n",
       "</table>\n",
       "</div>"
      ],
      "text/plain": [
       "           accession                         variant    gi ncbi_gene_id  \\\n",
       "5002  WP_013413995.1  HMfA_(Methanothermus_fervidus)  None         None   \n",
       "\n",
       "     hgnc_gene_name  taxonomy_id                 organism             phylum  \\\n",
       "5002           None       2180.0  Methanothermus fervidus  Methanobacteriota   \n",
       "\n",
       "                class taxonomy_group  info  \\\n",
       "5002  Methanobacteria           None  None   \n",
       "\n",
       "                                               sequence  \\\n",
       "5002  MGELPIAPIGRIIKNAGAERVSDDARIALAKVLEEMGEEIASEAVK...   \n",
       "\n",
       "     variant_under_consideration sequence_accession           publication_id  \n",
       "5002                        None     WP_013413995.1  henneman_structure_2018  "
      ]
     },
     "execution_count": 69,
     "metadata": {},
     "output_type": "execute_result"
    }
   ],
   "source": [
    "query = (\n",
    "    \"SELECT * FROM sequence s LEFT JOIN sequence_has_publication sp \"\n",
    "    \"ON s.accession = sp.sequence_accession \"\n",
    ")\n",
    "cursor.execute(query)\n",
    "df = pd.DataFrame(cursor.fetchall(), columns=[i[0] for i in cursor.description])\n",
    "df[df[\"accession\"].str.contains(\"WP_013413995\")]"
   ]
  },
  {
   "cell_type": "code",
   "execution_count": 70,
   "id": "dc421b2d-70d9-42d6-ac1b-2402b64f6336",
   "metadata": {
    "tags": []
   },
   "outputs": [],
   "source": [
    "# Make sure data is committed to the database\n",
    "conn.commit()"
   ]
  },
  {
   "cell_type": "markdown",
   "id": "52b23b02-4f27-4ee0-8635-7561b3f36ada",
   "metadata": {
    "jp-MarkdownHeadingCollapsed": true,
    "tags": []
   },
   "source": [
    "## Add WP_013414263 as HMfB_(Methanothermus_fervidus)"
   ]
  },
  {
   "cell_type": "code",
   "execution_count": 71,
   "id": "84332ffd-f123-4882-9fac-14a7caef70d4",
   "metadata": {
    "tags": []
   },
   "outputs": [],
   "source": [
    "accession = \"WP_013414263\""
   ]
  },
  {
   "cell_type": "code",
   "execution_count": 72,
   "id": "1061cffa-edee-4784-9b7d-00dd030660a9",
   "metadata": {
    "tags": []
   },
   "outputs": [
    {
     "name": "stdout",
     "output_type": "stream",
     "text": [
      "ID: WP_013414263.1\n",
      "Name: WP_013414263\n",
      "Description: histone HmfB [Methanothermus fervidus]\n",
      "Number of features: 4\n",
      "/topology=linear\n",
      "/data_file_division=BCT\n",
      "/date=22-OCT-2023\n",
      "/accessions=['WP_013414263']\n",
      "/sequence_version=1\n",
      "/keywords=['RefSeq']\n",
      "/source=Methanothermus fervidus\n",
      "/organism=Methanothermus fervidus\n",
      "/taxonomy=['Archaea', 'Euryarchaeota', 'Methanomada group', 'Methanobacteria', 'Methanobacteriales', 'Methanothermaceae', 'Methanothermus']\n",
      "/references=[Reference(title='Specific DNA binding of archaeal histones HMfA and HMfB', ...), Reference(title='Crystal structures of recombinant histones HMfA and HMfB from the hyperthermophilic archaeon Methanothermus fervidus', ...), Reference(title='NMR structure of HMfB from the hyperthermophile, Methanothermus fervidus, confirms that this archaeal protein is a histone', ...), Reference(title='HMf, a DNA-binding protein isolated from the hyperthermophilic archaeon Methanothermus fervidus, is most closely related to histones', ...)]\n",
      "/comment=REFSEQ: This record represents a single, non-redundant, protein\n",
      "sequence which may be annotated on many different RefSeq genomes\n",
      "from the same, or different, species.\n",
      "COMPLETENESS: full length.\n",
      "/structured_comment=OrderedDict([('Evidence-For-Name-Assignment', OrderedDict([('Evidence Category', 'BlastRule'), ('Evidence Accession', 'NBR016329'), ('Evidence Source', 'NCBI')]))])\n",
      "/molecule_type=protein\n",
      "Seq('MELPIAPIGRIIKDAGAERVSDDARITLAKILEEMGRDIASEAIKLARHAGRKT...FKK')\n",
      "MELPIAPIGRIIKDAGAERVSDDARITLAKILEEMGRDIASEAIKLARHAGRKTIKAEDIELAVRRFKK\n"
     ]
    }
   ],
   "source": [
    "with Entrez.efetch(db=\"protein\", id=accession, rettype=\"gb\", retmode=\"text\") as handle:\n",
    "    record = SeqIO.read(handle, \"genbank\")\n",
    "    print(record)\n",
    "print(record.seq)"
   ]
  },
  {
   "cell_type": "code",
   "execution_count": 73,
   "id": "81ad7239-16c0-4338-9db1-2e1d737c50bc",
   "metadata": {
    "tags": []
   },
   "outputs": [],
   "source": [
    "accession = record.id"
   ]
  },
  {
   "cell_type": "code",
   "execution_count": 75,
   "id": "f11ac6f5-d021-4070-9cfc-f227c76de84e",
   "metadata": {
    "tags": []
   },
   "outputs": [
    {
     "name": "stdout",
     "output_type": "stream",
     "text": [
      "Fetched taxid from NCBI 2180\n",
      "accession WP_013414263.1 <class 'str'>\n",
      "variant HMfB_(Methanothermus_fervidus) <class 'str'>\n",
      "gi None <class 'NoneType'>\n",
      "ncbi_gene_id None <class 'NoneType'>\n",
      "hgnc_gene_name None <class 'NoneType'>\n",
      "taxonomy_id 2180 <class 'int'>\n",
      "organism Methanothermus fervidus <class 'str'>\n",
      "phylum Methanobacteriota <class 'str'>\n",
      "class Methanobacteria <class 'str'>\n",
      "taxonomy_group None <class 'NoneType'>\n",
      "info None <class 'NoneType'>\n",
      "sequence MELPIAPIGRIIKDAGAERVSDDARITLAKILEEMGRDIASEAIKLARHAGRKTIKAEDIELAVRRFKK <class 'str'>\n",
      "variant_under_consideration None <class 'NoneType'>\n"
     ]
    }
   ],
   "source": [
    "taxonomy_data = get_taxonomy_data(record)\n",
    "data_sequence = {\n",
    "    \"accession\": accession,\n",
    "    \"variant\": \"HMfB_(Methanothermus_fervidus)\",\n",
    "    \"gi\": None,\n",
    "    \"ncbi_gene_id\": None,\n",
    "    \"hgnc_gene_name\": None,\n",
    "    \"taxonomy_id\": None,\n",
    "    \"organism\": None,\n",
    "    \"phylum\": None,\n",
    "    \"class\": None,\n",
    "    \"taxonomy_group\": None,\n",
    "    \"info\": None,\n",
    "    \"sequence\": str(record.seq),\n",
    "    \"variant_under_consideration\": None,\n",
    "}\n",
    "data_sequence.update(taxonomy_data)\n",
    "for k, v in data_sequence.items():\n",
    "    print(k, v, type(v))"
   ]
  },
  {
   "cell_type": "code",
   "execution_count": 76,
   "id": "a56ba8f4-38a9-4d5f-91ac-5ff2c26bfbb0",
   "metadata": {
    "tags": []
   },
   "outputs": [],
   "source": [
    "cursor.execute(add_sequence, data_sequence)"
   ]
  },
  {
   "cell_type": "code",
   "execution_count": 77,
   "id": "08612541-f543-45d7-a3a3-b9f00d758db9",
   "metadata": {
    "tags": []
   },
   "outputs": [
    {
     "data": {
      "text/html": [
       "<div>\n",
       "<style scoped>\n",
       "    .dataframe tbody tr th:only-of-type {\n",
       "        vertical-align: middle;\n",
       "    }\n",
       "\n",
       "    .dataframe tbody tr th {\n",
       "        vertical-align: top;\n",
       "    }\n",
       "\n",
       "    .dataframe thead th {\n",
       "        text-align: right;\n",
       "    }\n",
       "</style>\n",
       "<table border=\"1\" class=\"dataframe\">\n",
       "  <thead>\n",
       "    <tr style=\"text-align: right;\">\n",
       "      <th></th>\n",
       "      <th>accession</th>\n",
       "      <th>variant</th>\n",
       "      <th>gi</th>\n",
       "      <th>ncbi_gene_id</th>\n",
       "      <th>hgnc_gene_name</th>\n",
       "      <th>taxonomy_id</th>\n",
       "      <th>organism</th>\n",
       "      <th>phylum</th>\n",
       "      <th>class</th>\n",
       "      <th>taxonomy_group</th>\n",
       "      <th>info</th>\n",
       "      <th>sequence</th>\n",
       "      <th>variant_under_consideration</th>\n",
       "      <th>sequence_accession</th>\n",
       "      <th>publication_id</th>\n",
       "    </tr>\n",
       "  </thead>\n",
       "  <tbody>\n",
       "    <tr>\n",
       "      <th>5003</th>\n",
       "      <td>WP_013414263.1</td>\n",
       "      <td>HMfB_(Methanothermus_fervidus)</td>\n",
       "      <td>None</td>\n",
       "      <td>None</td>\n",
       "      <td>None</td>\n",
       "      <td>2180.0</td>\n",
       "      <td>Methanothermus fervidus</td>\n",
       "      <td>Methanobacteriota</td>\n",
       "      <td>Methanobacteria</td>\n",
       "      <td>None</td>\n",
       "      <td>None</td>\n",
       "      <td>MELPIAPIGRIIKDAGAERVSDDARITLAKILEEMGRDIASEAIKL...</td>\n",
       "      <td>None</td>\n",
       "      <td>None</td>\n",
       "      <td>None</td>\n",
       "    </tr>\n",
       "  </tbody>\n",
       "</table>\n",
       "</div>"
      ],
      "text/plain": [
       "           accession                         variant    gi ncbi_gene_id  \\\n",
       "5003  WP_013414263.1  HMfB_(Methanothermus_fervidus)  None         None   \n",
       "\n",
       "     hgnc_gene_name  taxonomy_id                 organism             phylum  \\\n",
       "5003           None       2180.0  Methanothermus fervidus  Methanobacteriota   \n",
       "\n",
       "                class taxonomy_group  info  \\\n",
       "5003  Methanobacteria           None  None   \n",
       "\n",
       "                                               sequence  \\\n",
       "5003  MELPIAPIGRIIKDAGAERVSDDARITLAKILEEMGRDIASEAIKL...   \n",
       "\n",
       "     variant_under_consideration sequence_accession publication_id  \n",
       "5003                        None               None           None  "
      ]
     },
     "execution_count": 77,
     "metadata": {},
     "output_type": "execute_result"
    }
   ],
   "source": [
    "query = (\n",
    "    \"SELECT * FROM sequence s LEFT JOIN sequence_has_publication sp \"\n",
    "    \"ON s.accession = sp.sequence_accession \"\n",
    ")\n",
    "cursor.execute(query)\n",
    "df = pd.DataFrame(cursor.fetchall(), columns=[i[0] for i in cursor.description])\n",
    "df[df[\"accession\"] == accession]"
   ]
  },
  {
   "cell_type": "code",
   "execution_count": 78,
   "id": "4b0f35fd-85ec-4def-adee-ba037819b793",
   "metadata": {
    "tags": []
   },
   "outputs": [
    {
     "data": {
      "text/html": [
       "<div>\n",
       "<style scoped>\n",
       "    .dataframe tbody tr th:only-of-type {\n",
       "        vertical-align: middle;\n",
       "    }\n",
       "\n",
       "    .dataframe tbody tr th {\n",
       "        vertical-align: top;\n",
       "    }\n",
       "\n",
       "    .dataframe thead th {\n",
       "        text-align: right;\n",
       "    }\n",
       "</style>\n",
       "<table border=\"1\" class=\"dataframe\">\n",
       "  <thead>\n",
       "    <tr style=\"text-align: right;\">\n",
       "      <th></th>\n",
       "      <th>id</th>\n",
       "      <th>title</th>\n",
       "      <th>doi</th>\n",
       "      <th>author</th>\n",
       "      <th>year</th>\n",
       "    </tr>\n",
       "  </thead>\n",
       "  <tbody>\n",
       "    <tr>\n",
       "      <th>0</th>\n",
       "      <td>henneman_structure_2018</td>\n",
       "      <td>Structure and function of archaeal histones</td>\n",
       "      <td>10.1371/journal.pgen.1007582</td>\n",
       "      <td>None</td>\n",
       "      <td>2018</td>\n",
       "    </tr>\n",
       "  </tbody>\n",
       "</table>\n",
       "</div>"
      ],
      "text/plain": [
       "                        id                                        title  \\\n",
       "0  henneman_structure_2018  Structure and function of archaeal histones   \n",
       "\n",
       "                            doi author  year  \n",
       "0  10.1371/journal.pgen.1007582   None  2018  "
      ]
     },
     "execution_count": 78,
     "metadata": {},
     "output_type": "execute_result"
    }
   ],
   "source": [
    "pid = \"henneman_structure_2018\"\n",
    "query = f\"SELECT * FROM publication WHERE id='{pid}'\"\n",
    "cursor.execute(query)\n",
    "pd.DataFrame(cursor.fetchall(), columns=[i[0] for i in cursor.description])"
   ]
  },
  {
   "cell_type": "code",
   "execution_count": 79,
   "id": "ef99f5e0-e07a-4839-9a19-b685fe9a96a8",
   "metadata": {
    "tags": []
   },
   "outputs": [],
   "source": [
    "cursor.execute(add_sequence_has_publication, (accession, pid))"
   ]
  },
  {
   "cell_type": "code",
   "execution_count": 80,
   "id": "251fac33-2190-484b-a2ab-7f5ffdc2458e",
   "metadata": {
    "tags": []
   },
   "outputs": [
    {
     "data": {
      "text/html": [
       "<div>\n",
       "<style scoped>\n",
       "    .dataframe tbody tr th:only-of-type {\n",
       "        vertical-align: middle;\n",
       "    }\n",
       "\n",
       "    .dataframe tbody tr th {\n",
       "        vertical-align: top;\n",
       "    }\n",
       "\n",
       "    .dataframe thead th {\n",
       "        text-align: right;\n",
       "    }\n",
       "</style>\n",
       "<table border=\"1\" class=\"dataframe\">\n",
       "  <thead>\n",
       "    <tr style=\"text-align: right;\">\n",
       "      <th></th>\n",
       "      <th>accession</th>\n",
       "      <th>variant</th>\n",
       "      <th>gi</th>\n",
       "      <th>ncbi_gene_id</th>\n",
       "      <th>hgnc_gene_name</th>\n",
       "      <th>taxonomy_id</th>\n",
       "      <th>organism</th>\n",
       "      <th>phylum</th>\n",
       "      <th>class</th>\n",
       "      <th>taxonomy_group</th>\n",
       "      <th>info</th>\n",
       "      <th>sequence</th>\n",
       "      <th>variant_under_consideration</th>\n",
       "      <th>sequence_accession</th>\n",
       "      <th>publication_id</th>\n",
       "    </tr>\n",
       "  </thead>\n",
       "  <tbody>\n",
       "    <tr>\n",
       "      <th>5003</th>\n",
       "      <td>WP_013414263.1</td>\n",
       "      <td>HMfB_(Methanothermus_fervidus)</td>\n",
       "      <td>None</td>\n",
       "      <td>None</td>\n",
       "      <td>None</td>\n",
       "      <td>2180.0</td>\n",
       "      <td>Methanothermus fervidus</td>\n",
       "      <td>Methanobacteriota</td>\n",
       "      <td>Methanobacteria</td>\n",
       "      <td>None</td>\n",
       "      <td>None</td>\n",
       "      <td>MELPIAPIGRIIKDAGAERVSDDARITLAKILEEMGRDIASEAIKL...</td>\n",
       "      <td>None</td>\n",
       "      <td>WP_013414263.1</td>\n",
       "      <td>henneman_structure_2018</td>\n",
       "    </tr>\n",
       "  </tbody>\n",
       "</table>\n",
       "</div>"
      ],
      "text/plain": [
       "           accession                         variant    gi ncbi_gene_id  \\\n",
       "5003  WP_013414263.1  HMfB_(Methanothermus_fervidus)  None         None   \n",
       "\n",
       "     hgnc_gene_name  taxonomy_id                 organism             phylum  \\\n",
       "5003           None       2180.0  Methanothermus fervidus  Methanobacteriota   \n",
       "\n",
       "                class taxonomy_group  info  \\\n",
       "5003  Methanobacteria           None  None   \n",
       "\n",
       "                                               sequence  \\\n",
       "5003  MELPIAPIGRIIKDAGAERVSDDARITLAKILEEMGRDIASEAIKL...   \n",
       "\n",
       "     variant_under_consideration sequence_accession           publication_id  \n",
       "5003                        None     WP_013414263.1  henneman_structure_2018  "
      ]
     },
     "execution_count": 80,
     "metadata": {},
     "output_type": "execute_result"
    }
   ],
   "source": [
    "query = (\n",
    "    \"SELECT * FROM sequence s LEFT JOIN sequence_has_publication sp \"\n",
    "    \"ON s.accession = sp.sequence_accession \"\n",
    ")\n",
    "cursor.execute(query)\n",
    "df = pd.DataFrame(cursor.fetchall(), columns=[i[0] for i in cursor.description])\n",
    "df[df[\"accession\"] == accession]"
   ]
  },
  {
   "cell_type": "code",
   "execution_count": 81,
   "id": "bd57655c-f62f-49f2-adb8-eadfd2db2281",
   "metadata": {
    "tags": []
   },
   "outputs": [],
   "source": [
    "# Make sure data is committed to the database\n",
    "conn.commit()"
   ]
  },
  {
   "cell_type": "markdown",
   "id": "bff25246-ff99-490c-a91b-ba3c8de2ddf0",
   "metadata": {
    "tags": []
   },
   "source": [
    "## Correct references"
   ]
  },
  {
   "cell_type": "code",
   "execution_count": 84,
   "id": "0db077bd-6fc9-4e52-849f-d4e05a3707bf",
   "metadata": {
    "tags": []
   },
   "outputs": [],
   "source": [
    "accessions = [\"WP_013413995.1\", \"WP_013414263.1\"]"
   ]
  },
  {
   "cell_type": "code",
   "execution_count": 85,
   "id": "ffe854a5-8fb4-4a46-8623-8c4fa52e60e4",
   "metadata": {
    "tags": []
   },
   "outputs": [
    {
     "data": {
      "text/html": [
       "<div>\n",
       "<style scoped>\n",
       "    .dataframe tbody tr th:only-of-type {\n",
       "        vertical-align: middle;\n",
       "    }\n",
       "\n",
       "    .dataframe tbody tr th {\n",
       "        vertical-align: top;\n",
       "    }\n",
       "\n",
       "    .dataframe thead th {\n",
       "        text-align: right;\n",
       "    }\n",
       "</style>\n",
       "<table border=\"1\" class=\"dataframe\">\n",
       "  <thead>\n",
       "    <tr style=\"text-align: right;\">\n",
       "      <th></th>\n",
       "      <th>accession</th>\n",
       "      <th>variant</th>\n",
       "      <th>gi</th>\n",
       "      <th>ncbi_gene_id</th>\n",
       "      <th>hgnc_gene_name</th>\n",
       "      <th>taxonomy_id</th>\n",
       "      <th>organism</th>\n",
       "      <th>phylum</th>\n",
       "      <th>class</th>\n",
       "      <th>taxonomy_group</th>\n",
       "      <th>info</th>\n",
       "      <th>sequence</th>\n",
       "      <th>variant_under_consideration</th>\n",
       "      <th>sequence_accession</th>\n",
       "      <th>publication_id</th>\n",
       "    </tr>\n",
       "  </thead>\n",
       "  <tbody>\n",
       "    <tr>\n",
       "      <th>5002</th>\n",
       "      <td>WP_013413995.1</td>\n",
       "      <td>HMfA_(Methanothermus_fervidus)</td>\n",
       "      <td>None</td>\n",
       "      <td>None</td>\n",
       "      <td>None</td>\n",
       "      <td>2180.0</td>\n",
       "      <td>Methanothermus fervidus</td>\n",
       "      <td>Methanobacteriota</td>\n",
       "      <td>Methanobacteria</td>\n",
       "      <td>None</td>\n",
       "      <td>None</td>\n",
       "      <td>MGELPIAPIGRIIKNAGAERVSDDARIALAKVLEEMGEEIASEAVK...</td>\n",
       "      <td>None</td>\n",
       "      <td>WP_013413995.1</td>\n",
       "      <td>henneman_structure_2018</td>\n",
       "    </tr>\n",
       "    <tr>\n",
       "      <th>5003</th>\n",
       "      <td>WP_013414263.1</td>\n",
       "      <td>HMfB_(Methanothermus_fervidus)</td>\n",
       "      <td>None</td>\n",
       "      <td>None</td>\n",
       "      <td>None</td>\n",
       "      <td>2180.0</td>\n",
       "      <td>Methanothermus fervidus</td>\n",
       "      <td>Methanobacteriota</td>\n",
       "      <td>Methanobacteria</td>\n",
       "      <td>None</td>\n",
       "      <td>None</td>\n",
       "      <td>MELPIAPIGRIIKDAGAERVSDDARITLAKILEEMGRDIASEAIKL...</td>\n",
       "      <td>None</td>\n",
       "      <td>WP_013414263.1</td>\n",
       "      <td>henneman_structure_2018</td>\n",
       "    </tr>\n",
       "  </tbody>\n",
       "</table>\n",
       "</div>"
      ],
      "text/plain": [
       "           accession                         variant    gi ncbi_gene_id  \\\n",
       "5002  WP_013413995.1  HMfA_(Methanothermus_fervidus)  None         None   \n",
       "5003  WP_013414263.1  HMfB_(Methanothermus_fervidus)  None         None   \n",
       "\n",
       "     hgnc_gene_name  taxonomy_id                 organism             phylum  \\\n",
       "5002           None       2180.0  Methanothermus fervidus  Methanobacteriota   \n",
       "5003           None       2180.0  Methanothermus fervidus  Methanobacteriota   \n",
       "\n",
       "                class taxonomy_group  info  \\\n",
       "5002  Methanobacteria           None  None   \n",
       "5003  Methanobacteria           None  None   \n",
       "\n",
       "                                               sequence  \\\n",
       "5002  MGELPIAPIGRIIKNAGAERVSDDARIALAKVLEEMGEEIASEAVK...   \n",
       "5003  MELPIAPIGRIIKDAGAERVSDDARITLAKILEEMGRDIASEAIKL...   \n",
       "\n",
       "     variant_under_consideration sequence_accession           publication_id  \n",
       "5002                        None     WP_013413995.1  henneman_structure_2018  \n",
       "5003                        None     WP_013414263.1  henneman_structure_2018  "
      ]
     },
     "execution_count": 85,
     "metadata": {},
     "output_type": "execute_result"
    }
   ],
   "source": [
    "query = (\n",
    "    \"SELECT * FROM sequence s LEFT JOIN sequence_has_publication sp \"\n",
    "    \"ON s.accession = sp.sequence_accession \"\n",
    ")\n",
    "cursor.execute(query)\n",
    "df = pd.DataFrame(cursor.fetchall(), columns=[i[0] for i in cursor.description])\n",
    "df[df[\"accession\"].isin(accessions)]"
   ]
  },
  {
   "cell_type": "code",
   "execution_count": 87,
   "id": "2b104bab-d0b3-430d-a652-b8f55691214d",
   "metadata": {
    "tags": []
   },
   "outputs": [],
   "source": [
    "query = (\n",
    "    f\"DELETE FROM sequence_has_publication WHERE sequence_accession='WP_013413995.1'\"\n",
    ")\n",
    "cursor.execute(query)\n",
    "\n",
    "query = (\n",
    "    f\"DELETE FROM sequence_has_publication WHERE sequence_accession='WP_013414263.1'\"\n",
    ")\n",
    "cursor.execute(query)"
   ]
  },
  {
   "cell_type": "code",
   "execution_count": 88,
   "id": "25dad875-34e3-4186-8f45-c0c47a1b6614",
   "metadata": {
    "tags": []
   },
   "outputs": [
    {
     "data": {
      "text/html": [
       "<div>\n",
       "<style scoped>\n",
       "    .dataframe tbody tr th:only-of-type {\n",
       "        vertical-align: middle;\n",
       "    }\n",
       "\n",
       "    .dataframe tbody tr th {\n",
       "        vertical-align: top;\n",
       "    }\n",
       "\n",
       "    .dataframe thead th {\n",
       "        text-align: right;\n",
       "    }\n",
       "</style>\n",
       "<table border=\"1\" class=\"dataframe\">\n",
       "  <thead>\n",
       "    <tr style=\"text-align: right;\">\n",
       "      <th></th>\n",
       "      <th>accession</th>\n",
       "      <th>variant</th>\n",
       "      <th>gi</th>\n",
       "      <th>ncbi_gene_id</th>\n",
       "      <th>hgnc_gene_name</th>\n",
       "      <th>taxonomy_id</th>\n",
       "      <th>organism</th>\n",
       "      <th>phylum</th>\n",
       "      <th>class</th>\n",
       "      <th>taxonomy_group</th>\n",
       "      <th>info</th>\n",
       "      <th>sequence</th>\n",
       "      <th>variant_under_consideration</th>\n",
       "      <th>sequence_accession</th>\n",
       "      <th>publication_id</th>\n",
       "    </tr>\n",
       "  </thead>\n",
       "  <tbody>\n",
       "    <tr>\n",
       "      <th>5002</th>\n",
       "      <td>WP_013413995.1</td>\n",
       "      <td>HMfA_(Methanothermus_fervidus)</td>\n",
       "      <td>None</td>\n",
       "      <td>None</td>\n",
       "      <td>None</td>\n",
       "      <td>2180.0</td>\n",
       "      <td>Methanothermus fervidus</td>\n",
       "      <td>Methanobacteriota</td>\n",
       "      <td>Methanobacteria</td>\n",
       "      <td>None</td>\n",
       "      <td>None</td>\n",
       "      <td>MGELPIAPIGRIIKNAGAERVSDDARIALAKVLEEMGEEIASEAVK...</td>\n",
       "      <td>None</td>\n",
       "      <td>None</td>\n",
       "      <td>None</td>\n",
       "    </tr>\n",
       "    <tr>\n",
       "      <th>5003</th>\n",
       "      <td>WP_013414263.1</td>\n",
       "      <td>HMfB_(Methanothermus_fervidus)</td>\n",
       "      <td>None</td>\n",
       "      <td>None</td>\n",
       "      <td>None</td>\n",
       "      <td>2180.0</td>\n",
       "      <td>Methanothermus fervidus</td>\n",
       "      <td>Methanobacteriota</td>\n",
       "      <td>Methanobacteria</td>\n",
       "      <td>None</td>\n",
       "      <td>None</td>\n",
       "      <td>MELPIAPIGRIIKDAGAERVSDDARITLAKILEEMGRDIASEAIKL...</td>\n",
       "      <td>None</td>\n",
       "      <td>None</td>\n",
       "      <td>None</td>\n",
       "    </tr>\n",
       "  </tbody>\n",
       "</table>\n",
       "</div>"
      ],
      "text/plain": [
       "           accession                         variant    gi ncbi_gene_id  \\\n",
       "5002  WP_013413995.1  HMfA_(Methanothermus_fervidus)  None         None   \n",
       "5003  WP_013414263.1  HMfB_(Methanothermus_fervidus)  None         None   \n",
       "\n",
       "     hgnc_gene_name  taxonomy_id                 organism             phylum  \\\n",
       "5002           None       2180.0  Methanothermus fervidus  Methanobacteriota   \n",
       "5003           None       2180.0  Methanothermus fervidus  Methanobacteriota   \n",
       "\n",
       "                class taxonomy_group  info  \\\n",
       "5002  Methanobacteria           None  None   \n",
       "5003  Methanobacteria           None  None   \n",
       "\n",
       "                                               sequence  \\\n",
       "5002  MGELPIAPIGRIIKNAGAERVSDDARIALAKVLEEMGEEIASEAVK...   \n",
       "5003  MELPIAPIGRIIKDAGAERVSDDARITLAKILEEMGRDIASEAIKL...   \n",
       "\n",
       "     variant_under_consideration sequence_accession publication_id  \n",
       "5002                        None               None           None  \n",
       "5003                        None               None           None  "
      ]
     },
     "execution_count": 88,
     "metadata": {},
     "output_type": "execute_result"
    }
   ],
   "source": [
    "query = (\n",
    "    \"SELECT * FROM sequence s LEFT JOIN sequence_has_publication sp \"\n",
    "    \"ON s.accession = sp.sequence_accession \"\n",
    ")\n",
    "cursor.execute(query)\n",
    "df = pd.DataFrame(cursor.fetchall(), columns=[i[0] for i in cursor.description])\n",
    "df[df[\"accession\"].isin(accessions)]"
   ]
  },
  {
   "cell_type": "code",
   "execution_count": 89,
   "id": "af080fac-850a-4572-9041-41a97c8db0d3",
   "metadata": {
    "tags": []
   },
   "outputs": [
    {
     "data": {
      "text/html": [
       "<div>\n",
       "<style scoped>\n",
       "    .dataframe tbody tr th:only-of-type {\n",
       "        vertical-align: middle;\n",
       "    }\n",
       "\n",
       "    .dataframe tbody tr th {\n",
       "        vertical-align: top;\n",
       "    }\n",
       "\n",
       "    .dataframe thead th {\n",
       "        text-align: right;\n",
       "    }\n",
       "</style>\n",
       "<table border=\"1\" class=\"dataframe\">\n",
       "  <thead>\n",
       "    <tr style=\"text-align: right;\">\n",
       "      <th></th>\n",
       "      <th>id</th>\n",
       "      <th>title</th>\n",
       "      <th>doi</th>\n",
       "      <th>author</th>\n",
       "      <th>year</th>\n",
       "    </tr>\n",
       "  </thead>\n",
       "  <tbody>\n",
       "  </tbody>\n",
       "</table>\n",
       "</div>"
      ],
      "text/plain": [
       "Empty DataFrame\n",
       "Columns: [id, title, doi, author, year]\n",
       "Index: []"
      ]
     },
     "execution_count": 89,
     "metadata": {},
     "output_type": "execute_result"
    }
   ],
   "source": [
    "pid = \"mattiroli_structure_2017\"\n",
    "query = f\"SELECT * FROM publication WHERE id='{pid}'\"\n",
    "cursor.execute(query)\n",
    "pd.DataFrame(cursor.fetchall(), columns=[i[0] for i in cursor.description])"
   ]
  },
  {
   "cell_type": "code",
   "execution_count": 90,
   "id": "bb844d06-73bb-4345-87d5-622879594c6a",
   "metadata": {
    "tags": []
   },
   "outputs": [],
   "source": [
    "data_publication = {\n",
    "    \"id\": pid,\n",
    "    \"title\": \"Structure of Histone-based Chromatin in Archaea\",\n",
    "    \"doi\": \"10.1126/science.aaj1849\",\n",
    "    \"author\": None,\n",
    "    \"year\": \"2017\",\n",
    "}\n",
    "cursor.execute(add_publication, data_publication)"
   ]
  },
  {
   "cell_type": "code",
   "execution_count": 91,
   "id": "3b61eecc-d6c5-4531-827a-04a367ef4975",
   "metadata": {
    "tags": []
   },
   "outputs": [],
   "source": [
    "for acc in accessions:\n",
    "    cursor.execute(add_sequence_has_publication, (acc, pid))"
   ]
  },
  {
   "cell_type": "code",
   "execution_count": 92,
   "id": "e981e4ba-5499-49f8-86a8-be7634132d1e",
   "metadata": {
    "tags": []
   },
   "outputs": [
    {
     "data": {
      "text/html": [
       "<div>\n",
       "<style scoped>\n",
       "    .dataframe tbody tr th:only-of-type {\n",
       "        vertical-align: middle;\n",
       "    }\n",
       "\n",
       "    .dataframe tbody tr th {\n",
       "        vertical-align: top;\n",
       "    }\n",
       "\n",
       "    .dataframe thead th {\n",
       "        text-align: right;\n",
       "    }\n",
       "</style>\n",
       "<table border=\"1\" class=\"dataframe\">\n",
       "  <thead>\n",
       "    <tr style=\"text-align: right;\">\n",
       "      <th></th>\n",
       "      <th>accession</th>\n",
       "      <th>variant</th>\n",
       "      <th>gi</th>\n",
       "      <th>ncbi_gene_id</th>\n",
       "      <th>hgnc_gene_name</th>\n",
       "      <th>taxonomy_id</th>\n",
       "      <th>organism</th>\n",
       "      <th>phylum</th>\n",
       "      <th>class</th>\n",
       "      <th>taxonomy_group</th>\n",
       "      <th>info</th>\n",
       "      <th>sequence</th>\n",
       "      <th>variant_under_consideration</th>\n",
       "      <th>sequence_accession</th>\n",
       "      <th>publication_id</th>\n",
       "    </tr>\n",
       "  </thead>\n",
       "  <tbody>\n",
       "    <tr>\n",
       "      <th>5002</th>\n",
       "      <td>WP_013413995.1</td>\n",
       "      <td>HMfA_(Methanothermus_fervidus)</td>\n",
       "      <td>None</td>\n",
       "      <td>None</td>\n",
       "      <td>None</td>\n",
       "      <td>2180.0</td>\n",
       "      <td>Methanothermus fervidus</td>\n",
       "      <td>Methanobacteriota</td>\n",
       "      <td>Methanobacteria</td>\n",
       "      <td>None</td>\n",
       "      <td>None</td>\n",
       "      <td>MGELPIAPIGRIIKNAGAERVSDDARIALAKVLEEMGEEIASEAVK...</td>\n",
       "      <td>None</td>\n",
       "      <td>WP_013413995.1</td>\n",
       "      <td>mattiroli_structure_2017</td>\n",
       "    </tr>\n",
       "    <tr>\n",
       "      <th>5003</th>\n",
       "      <td>WP_013414263.1</td>\n",
       "      <td>HMfB_(Methanothermus_fervidus)</td>\n",
       "      <td>None</td>\n",
       "      <td>None</td>\n",
       "      <td>None</td>\n",
       "      <td>2180.0</td>\n",
       "      <td>Methanothermus fervidus</td>\n",
       "      <td>Methanobacteriota</td>\n",
       "      <td>Methanobacteria</td>\n",
       "      <td>None</td>\n",
       "      <td>None</td>\n",
       "      <td>MELPIAPIGRIIKDAGAERVSDDARITLAKILEEMGRDIASEAIKL...</td>\n",
       "      <td>None</td>\n",
       "      <td>WP_013414263.1</td>\n",
       "      <td>mattiroli_structure_2017</td>\n",
       "    </tr>\n",
       "  </tbody>\n",
       "</table>\n",
       "</div>"
      ],
      "text/plain": [
       "           accession                         variant    gi ncbi_gene_id  \\\n",
       "5002  WP_013413995.1  HMfA_(Methanothermus_fervidus)  None         None   \n",
       "5003  WP_013414263.1  HMfB_(Methanothermus_fervidus)  None         None   \n",
       "\n",
       "     hgnc_gene_name  taxonomy_id                 organism             phylum  \\\n",
       "5002           None       2180.0  Methanothermus fervidus  Methanobacteriota   \n",
       "5003           None       2180.0  Methanothermus fervidus  Methanobacteriota   \n",
       "\n",
       "                class taxonomy_group  info  \\\n",
       "5002  Methanobacteria           None  None   \n",
       "5003  Methanobacteria           None  None   \n",
       "\n",
       "                                               sequence  \\\n",
       "5002  MGELPIAPIGRIIKNAGAERVSDDARIALAKVLEEMGEEIASEAVK...   \n",
       "5003  MELPIAPIGRIIKDAGAERVSDDARITLAKILEEMGRDIASEAIKL...   \n",
       "\n",
       "     variant_under_consideration sequence_accession            publication_id  \n",
       "5002                        None     WP_013413995.1  mattiroli_structure_2017  \n",
       "5003                        None     WP_013414263.1  mattiroli_structure_2017  "
      ]
     },
     "execution_count": 92,
     "metadata": {},
     "output_type": "execute_result"
    }
   ],
   "source": [
    "query = (\n",
    "    \"SELECT * FROM sequence s LEFT JOIN sequence_has_publication sp \"\n",
    "    \"ON s.accession = sp.sequence_accession \"\n",
    ")\n",
    "cursor.execute(query)\n",
    "df = pd.DataFrame(cursor.fetchall(), columns=[i[0] for i in cursor.description])\n",
    "df[df[\"accession\"].isin(accessions)]"
   ]
  },
  {
   "cell_type": "code",
   "execution_count": 93,
   "id": "76987415-58bb-486a-a5ba-efc8fb485fa5",
   "metadata": {
    "tags": []
   },
   "outputs": [],
   "source": [
    "# Make sure data is committed to the database\n",
    "conn.commit()"
   ]
  },
  {
   "cell_type": "markdown",
   "id": "64eeb69d-7b59-4630-9d56-7fd47a294be6",
   "metadata": {
    "jp-MarkdownHeadingCollapsed": true,
    "tags": []
   },
   "source": [
    "# Thermococcus"
   ]
  },
  {
   "cell_type": "code",
   "execution_count": 110,
   "id": "5de9b38f-c06c-40b8-afb2-4d523aea7671",
   "metadata": {
    "tags": []
   },
   "outputs": [
    {
     "data": {
      "text/html": [
       "<div>\n",
       "<style scoped>\n",
       "    .dataframe tbody tr th:only-of-type {\n",
       "        vertical-align: middle;\n",
       "    }\n",
       "\n",
       "    .dataframe tbody tr th {\n",
       "        vertical-align: top;\n",
       "    }\n",
       "\n",
       "    .dataframe thead th {\n",
       "        text-align: right;\n",
       "    }\n",
       "</style>\n",
       "<table border=\"1\" class=\"dataframe\">\n",
       "  <thead>\n",
       "    <tr style=\"text-align: right;\">\n",
       "      <th></th>\n",
       "      <th>accession</th>\n",
       "      <th>variant</th>\n",
       "      <th>gi</th>\n",
       "      <th>ncbi_gene_id</th>\n",
       "      <th>hgnc_gene_name</th>\n",
       "      <th>taxonomy_id</th>\n",
       "      <th>organism</th>\n",
       "      <th>phylum</th>\n",
       "      <th>class</th>\n",
       "      <th>taxonomy_group</th>\n",
       "      <th>info</th>\n",
       "      <th>sequence</th>\n",
       "      <th>variant_under_consideration</th>\n",
       "    </tr>\n",
       "  </thead>\n",
       "  <tbody>\n",
       "    <tr>\n",
       "      <th>11</th>\n",
       "      <td>AAB53861.1</td>\n",
       "      <td>Nucleosomal</td>\n",
       "      <td>None</td>\n",
       "      <td>None</td>\n",
       "      <td>None</td>\n",
       "      <td>1151117.0</td>\n",
       "      <td>Thermococcus zilligii AN1</td>\n",
       "      <td>Methanobacteriota</td>\n",
       "      <td>Thermococci</td>\n",
       "      <td>None</td>\n",
       "      <td>None</td>\n",
       "      <td>MAELPIAPIDRLIRKAGAERVSEDAAKALAEYLEEYAIEVGKKATE...</td>\n",
       "      <td>None</td>\n",
       "    </tr>\n",
       "    <tr>\n",
       "      <th>93</th>\n",
       "      <td>ACJ15670.1</td>\n",
       "      <td>Nucleosomal</td>\n",
       "      <td>None</td>\n",
       "      <td>None</td>\n",
       "      <td>None</td>\n",
       "      <td>523850.0</td>\n",
       "      <td>Thermococcus onnurineus NA1</td>\n",
       "      <td>Methanobacteriota</td>\n",
       "      <td>Thermococci</td>\n",
       "      <td>None</td>\n",
       "      <td>None</td>\n",
       "      <td>MAELPIAPIDRLIRKAGAERVSEEAAKVLAEYLEEYAMDLAKRAAE...</td>\n",
       "      <td>None</td>\n",
       "    </tr>\n",
       "    <tr>\n",
       "      <th>94</th>\n",
       "      <td>ACJ16232.1</td>\n",
       "      <td>FtF</td>\n",
       "      <td>None</td>\n",
       "      <td>None</td>\n",
       "      <td>None</td>\n",
       "      <td>523850.0</td>\n",
       "      <td>Thermococcus onnurineus NA1</td>\n",
       "      <td>Methanobacteriota</td>\n",
       "      <td>Thermococci</td>\n",
       "      <td>None</td>\n",
       "      <td>None</td>\n",
       "      <td>MAEMIVKSKVKEAVKAIDPEMRINPEFYEALEAEIKILIEKAVKRA...</td>\n",
       "      <td>None</td>\n",
       "    </tr>\n",
       "    <tr>\n",
       "      <th>95</th>\n",
       "      <td>ACJ16723.1</td>\n",
       "      <td>Nucleosomal</td>\n",
       "      <td>None</td>\n",
       "      <td>None</td>\n",
       "      <td>None</td>\n",
       "      <td>523850.0</td>\n",
       "      <td>Thermococcus onnurineus NA1</td>\n",
       "      <td>Methanobacteriota</td>\n",
       "      <td>Thermococci</td>\n",
       "      <td>None</td>\n",
       "      <td>None</td>\n",
       "      <td>MAELPIAPVDRLIRKAGAARVSEDAAKLLAEHLEEKALEIAKKAVD...</td>\n",
       "      <td>None</td>\n",
       "    </tr>\n",
       "    <tr>\n",
       "      <th>105</th>\n",
       "      <td>ACS32979.1</td>\n",
       "      <td>Nucleosomal</td>\n",
       "      <td>None</td>\n",
       "      <td>None</td>\n",
       "      <td>None</td>\n",
       "      <td>593117.0</td>\n",
       "      <td>Thermococcus gammatolerans EJ3</td>\n",
       "      <td>Methanobacteriota</td>\n",
       "      <td>Thermococci</td>\n",
       "      <td>None</td>\n",
       "      <td>None</td>\n",
       "      <td>MAELPIAPVDRLIRKAGAARVSEEAAKVLAEHLEEKAIEIAKKAVE...</td>\n",
       "      <td>None</td>\n",
       "    </tr>\n",
       "    <tr>\n",
       "      <th>...</th>\n",
       "      <td>...</td>\n",
       "      <td>...</td>\n",
       "      <td>...</td>\n",
       "      <td>...</td>\n",
       "      <td>...</td>\n",
       "      <td>...</td>\n",
       "      <td>...</td>\n",
       "      <td>...</td>\n",
       "      <td>...</td>\n",
       "      <td>...</td>\n",
       "      <td>...</td>\n",
       "      <td>...</td>\n",
       "      <td>...</td>\n",
       "    </tr>\n",
       "    <tr>\n",
       "      <th>3764</th>\n",
       "      <td>QEK14533.1</td>\n",
       "      <td>Nucleosomal</td>\n",
       "      <td>None</td>\n",
       "      <td>None</td>\n",
       "      <td>None</td>\n",
       "      <td>2598455.0</td>\n",
       "      <td>Thermococcus aciditolerans</td>\n",
       "      <td>Methanobacteriota</td>\n",
       "      <td>Thermococci</td>\n",
       "      <td>None</td>\n",
       "      <td>None</td>\n",
       "      <td>MAELPIAPIDRLIRKAGAERVSEDAAKVLAEYLEEYAIELARKSAD...</td>\n",
       "      <td>None</td>\n",
       "    </tr>\n",
       "    <tr>\n",
       "      <th>3765</th>\n",
       "      <td>QEK15571.1</td>\n",
       "      <td>Nucleosomal</td>\n",
       "      <td>None</td>\n",
       "      <td>None</td>\n",
       "      <td>None</td>\n",
       "      <td>2598455.0</td>\n",
       "      <td>Thermococcus aciditolerans</td>\n",
       "      <td>Methanobacteriota</td>\n",
       "      <td>Thermococci</td>\n",
       "      <td>None</td>\n",
       "      <td>None</td>\n",
       "      <td>MAELPIAPVDRLIRKAGAARVSEDAAKLLAEHLEEKAMEIARKAVD...</td>\n",
       "      <td>None</td>\n",
       "    </tr>\n",
       "    <tr>\n",
       "      <th>4414</th>\n",
       "      <td>SEV81931.1</td>\n",
       "      <td>Nucleosomal</td>\n",
       "      <td>None</td>\n",
       "      <td>None</td>\n",
       "      <td>None</td>\n",
       "      <td>277988.0</td>\n",
       "      <td>Thermococcus thioreducens</td>\n",
       "      <td>Methanobacteriota</td>\n",
       "      <td>Thermococci</td>\n",
       "      <td>None</td>\n",
       "      <td>None</td>\n",
       "      <td>MAELPIAPVDRLIRKAGAARVSEDAAKLLAEHLEEKALEIAKKAVD...</td>\n",
       "      <td>None</td>\n",
       "    </tr>\n",
       "    <tr>\n",
       "      <th>4415</th>\n",
       "      <td>SEV88938.1</td>\n",
       "      <td>FtF</td>\n",
       "      <td>None</td>\n",
       "      <td>None</td>\n",
       "      <td>None</td>\n",
       "      <td>277988.0</td>\n",
       "      <td>Thermococcus thioreducens</td>\n",
       "      <td>Methanobacteriota</td>\n",
       "      <td>Thermococci</td>\n",
       "      <td>None</td>\n",
       "      <td>None</td>\n",
       "      <td>MAELIVKSKVKEAVKAIEPEMRVNPEFYEALEAEIKALIEKAVKRA...</td>\n",
       "      <td>None</td>\n",
       "    </tr>\n",
       "    <tr>\n",
       "      <th>4416</th>\n",
       "      <td>SEW09872.1</td>\n",
       "      <td>Nucleosomal</td>\n",
       "      <td>None</td>\n",
       "      <td>None</td>\n",
       "      <td>None</td>\n",
       "      <td>277988.0</td>\n",
       "      <td>Thermococcus thioreducens</td>\n",
       "      <td>Methanobacteriota</td>\n",
       "      <td>Thermococci</td>\n",
       "      <td>None</td>\n",
       "      <td>None</td>\n",
       "      <td>MAELPIAPIDRLIRKAGAERVSEEAAKVLAEYLEEYAIELAKKSAE...</td>\n",
       "      <td>None</td>\n",
       "    </tr>\n",
       "  </tbody>\n",
       "</table>\n",
       "<p>132 rows × 13 columns</p>\n",
       "</div>"
      ],
      "text/plain": [
       "       accession      variant    gi ncbi_gene_id hgnc_gene_name  taxonomy_id  \\\n",
       "11    AAB53861.1  Nucleosomal  None         None           None    1151117.0   \n",
       "93    ACJ15670.1  Nucleosomal  None         None           None     523850.0   \n",
       "94    ACJ16232.1          FtF  None         None           None     523850.0   \n",
       "95    ACJ16723.1  Nucleosomal  None         None           None     523850.0   \n",
       "105   ACS32979.1  Nucleosomal  None         None           None     593117.0   \n",
       "...          ...          ...   ...          ...            ...          ...   \n",
       "3764  QEK14533.1  Nucleosomal  None         None           None    2598455.0   \n",
       "3765  QEK15571.1  Nucleosomal  None         None           None    2598455.0   \n",
       "4414  SEV81931.1  Nucleosomal  None         None           None     277988.0   \n",
       "4415  SEV88938.1          FtF  None         None           None     277988.0   \n",
       "4416  SEW09872.1  Nucleosomal  None         None           None     277988.0   \n",
       "\n",
       "                            organism             phylum        class  \\\n",
       "11         Thermococcus zilligii AN1  Methanobacteriota  Thermococci   \n",
       "93       Thermococcus onnurineus NA1  Methanobacteriota  Thermococci   \n",
       "94       Thermococcus onnurineus NA1  Methanobacteriota  Thermococci   \n",
       "95       Thermococcus onnurineus NA1  Methanobacteriota  Thermococci   \n",
       "105   Thermococcus gammatolerans EJ3  Methanobacteriota  Thermococci   \n",
       "...                              ...                ...          ...   \n",
       "3764      Thermococcus aciditolerans  Methanobacteriota  Thermococci   \n",
       "3765      Thermococcus aciditolerans  Methanobacteriota  Thermococci   \n",
       "4414       Thermococcus thioreducens  Methanobacteriota  Thermococci   \n",
       "4415       Thermococcus thioreducens  Methanobacteriota  Thermococci   \n",
       "4416       Thermococcus thioreducens  Methanobacteriota  Thermococci   \n",
       "\n",
       "     taxonomy_group  info                                           sequence  \\\n",
       "11             None  None  MAELPIAPIDRLIRKAGAERVSEDAAKALAEYLEEYAIEVGKKATE...   \n",
       "93             None  None  MAELPIAPIDRLIRKAGAERVSEEAAKVLAEYLEEYAMDLAKRAAE...   \n",
       "94             None  None  MAEMIVKSKVKEAVKAIDPEMRINPEFYEALEAEIKILIEKAVKRA...   \n",
       "95             None  None  MAELPIAPVDRLIRKAGAARVSEDAAKLLAEHLEEKALEIAKKAVD...   \n",
       "105            None  None  MAELPIAPVDRLIRKAGAARVSEEAAKVLAEHLEEKAIEIAKKAVE...   \n",
       "...             ...   ...                                                ...   \n",
       "3764           None  None  MAELPIAPIDRLIRKAGAERVSEDAAKVLAEYLEEYAIELARKSAD...   \n",
       "3765           None  None  MAELPIAPVDRLIRKAGAARVSEDAAKLLAEHLEEKAMEIARKAVD...   \n",
       "4414           None  None  MAELPIAPVDRLIRKAGAARVSEDAAKLLAEHLEEKALEIAKKAVD...   \n",
       "4415           None  None  MAELIVKSKVKEAVKAIEPEMRVNPEFYEALEAEIKALIEKAVKRA...   \n",
       "4416           None  None  MAELPIAPIDRLIRKAGAERVSEEAAKVLAEYLEEYAIELAKKSAE...   \n",
       "\n",
       "     variant_under_consideration  \n",
       "11                          None  \n",
       "93                          None  \n",
       "94                          None  \n",
       "95                          None  \n",
       "105                         None  \n",
       "...                          ...  \n",
       "3764                        None  \n",
       "3765                        None  \n",
       "4414                        None  \n",
       "4415                        None  \n",
       "4416                        None  \n",
       "\n",
       "[132 rows x 13 columns]"
      ]
     },
     "execution_count": 110,
     "metadata": {},
     "output_type": "execute_result"
    }
   ],
   "source": [
    "query = \"SELECT * FROM sequence \"\n",
    "cursor.execute(query)\n",
    "df = pd.DataFrame(cursor.fetchall(), columns=[i[0] for i in cursor.description])\n",
    "df[df[\"organism\"].str.contains(\"Thermococcus\")]"
   ]
  },
  {
   "cell_type": "code",
   "execution_count": 111,
   "id": "c642285a-41e4-4f46-b989-cb80cdf3cb14",
   "metadata": {
    "tags": []
   },
   "outputs": [],
   "source": [
    "df_therm = df[df[\"organism\"].str.contains(\"Thermococcus\")]"
   ]
  },
  {
   "cell_type": "code",
   "execution_count": 112,
   "id": "f50a99cb-da9e-4602-bb0b-c85cb4c998de",
   "metadata": {
    "tags": []
   },
   "outputs": [
    {
     "data": {
      "text/plain": [
       "variant\n",
       "Nucleosomal    91\n",
       "FtF            41\n",
       "Name: count, dtype: int64"
      ]
     },
     "execution_count": 112,
     "metadata": {},
     "output_type": "execute_result"
    }
   ],
   "source": [
    "df_therm[\"variant\"].value_counts()"
   ]
  },
  {
   "cell_type": "code",
   "execution_count": 113,
   "id": "1ae272e0-0b83-4626-abb7-5d269da200da",
   "metadata": {
    "tags": []
   },
   "outputs": [
    {
     "data": {
      "text/html": [
       "<div>\n",
       "<style scoped>\n",
       "    .dataframe tbody tr th:only-of-type {\n",
       "        vertical-align: middle;\n",
       "    }\n",
       "\n",
       "    .dataframe tbody tr th {\n",
       "        vertical-align: top;\n",
       "    }\n",
       "\n",
       "    .dataframe thead th {\n",
       "        text-align: right;\n",
       "    }\n",
       "</style>\n",
       "<table border=\"1\" class=\"dataframe\">\n",
       "  <thead>\n",
       "    <tr style=\"text-align: right;\">\n",
       "      <th></th>\n",
       "      <th>accession</th>\n",
       "      <th>variant</th>\n",
       "      <th>gi</th>\n",
       "      <th>ncbi_gene_id</th>\n",
       "      <th>hgnc_gene_name</th>\n",
       "      <th>taxonomy_id</th>\n",
       "      <th>organism</th>\n",
       "      <th>phylum</th>\n",
       "      <th>class</th>\n",
       "      <th>taxonomy_group</th>\n",
       "      <th>info</th>\n",
       "      <th>sequence</th>\n",
       "      <th>variant_under_consideration</th>\n",
       "    </tr>\n",
       "  </thead>\n",
       "  <tbody>\n",
       "  </tbody>\n",
       "</table>\n",
       "</div>"
      ],
      "text/plain": [
       "Empty DataFrame\n",
       "Columns: [accession, variant, gi, ncbi_gene_id, hgnc_gene_name, taxonomy_id, organism, phylum, class, taxonomy_group, info, sequence, variant_under_consideration]\n",
       "Index: []"
      ]
     },
     "execution_count": 113,
     "metadata": {},
     "output_type": "execute_result"
    }
   ],
   "source": [
    "df_therm[df_therm[\"organism\"].str.contains(\"TS600\")]"
   ]
  },
  {
   "cell_type": "markdown",
   "id": "0a31f6b8-09ab-4f02-8508-6e957f904310",
   "metadata": {
    "tags": []
   },
   "source": [
    "# Add HTkA and HTkB"
   ]
  },
  {
   "cell_type": "markdown",
   "id": "5f2816cb-5512-4b86-aeb7-9c45489a95d0",
   "metadata": {
    "jp-MarkdownHeadingCollapsed": true,
    "tags": []
   },
   "source": [
    "## HTkA_(Thermococcales)"
   ]
  },
  {
   "cell_type": "code",
   "execution_count": 94,
   "id": "4b96cf37-e728-498b-bdb7-04fa0f1c2d5c",
   "metadata": {
    "tags": []
   },
   "outputs": [],
   "source": [
    "data_histone = {\n",
    "    \"id\": \"HTkA_(Thermococcales)\",\n",
    "    \"level\": \"variant\",\n",
    "    \"taxonomic_span\": \"Thermococcales\",\n",
    "    \"taxonomic_span_id\": \"2258\",\n",
    "    \"description\": None,\n",
    "    \"parent\": \"Nucleosomal\",\n",
    "}\n",
    "cursor.execute(add_histone, data_histone)\n",
    "\n",
    "# Make sure data is committed to the database\n",
    "conn.commit()"
   ]
  },
  {
   "cell_type": "code",
   "execution_count": 95,
   "id": "86372996-3e8b-4a53-879b-437da90379b5",
   "metadata": {
    "tags": []
   },
   "outputs": [
    {
     "data": {
      "text/html": [
       "<div>\n",
       "<style scoped>\n",
       "    .dataframe tbody tr th:only-of-type {\n",
       "        vertical-align: middle;\n",
       "    }\n",
       "\n",
       "    .dataframe tbody tr th {\n",
       "        vertical-align: top;\n",
       "    }\n",
       "\n",
       "    .dataframe thead th {\n",
       "        text-align: right;\n",
       "    }\n",
       "</style>\n",
       "<table border=\"1\" class=\"dataframe\">\n",
       "  <thead>\n",
       "    <tr style=\"text-align: right;\">\n",
       "      <th></th>\n",
       "      <th>id</th>\n",
       "      <th>level</th>\n",
       "      <th>taxonomic_span</th>\n",
       "      <th>taxonomic_span_id</th>\n",
       "      <th>description</th>\n",
       "      <th>parent</th>\n",
       "    </tr>\n",
       "  </thead>\n",
       "  <tbody>\n",
       "    <tr>\n",
       "      <th>197</th>\n",
       "      <td>HTkA_(Thermococcales)</td>\n",
       "      <td>variant</td>\n",
       "      <td>Thermococcales</td>\n",
       "      <td>2258</td>\n",
       "      <td>NaN</td>\n",
       "      <td>Nucleosomal</td>\n",
       "    </tr>\n",
       "  </tbody>\n",
       "</table>\n",
       "</div>"
      ],
      "text/plain": [
       "                        id    level  taxonomic_span taxonomic_span_id  \\\n",
       "197  HTkA_(Thermococcales)  variant  Thermococcales              2258   \n",
       "\n",
       "     description       parent  \n",
       "197          NaN  Nucleosomal  "
      ]
     },
     "execution_count": 95,
     "metadata": {},
     "output_type": "execute_result"
    }
   ],
   "source": [
    "query = \"SELECT * FROM histone\"\n",
    "cursor.execute(query)\n",
    "histone_df = pd.DataFrame(cursor.fetchall(), columns=[i[0] for i in cursor.description])\n",
    "histone_df[histone_df[\"id\"] == \"HTkA_(Thermococcales)\"]"
   ]
  },
  {
   "cell_type": "code",
   "execution_count": 96,
   "id": "b6158ce6-7b34-4005-8f7a-9091e1ae32c1",
   "metadata": {
    "tags": []
   },
   "outputs": [],
   "source": [
    "histone_description_summary = \"HTkA_(Thermococcales) is a group of histones from various species of Thermococcales. These histones are homologs for the HTkA histone of Thermococcus kodakarensis [stevens_deep_2022].\"\n",
    "data_histone_description = (histone_description_summary,) + (None,) * 13\n",
    "cursor.execute(add_histone_description, data_histone_description)\n",
    "\n",
    "histone_description_id = cursor.lastrowid\n",
    "query = f\"UPDATE histone SET description={histone_description_id} WHERE id='HTkA_(Thermococcales)'\"\n",
    "cursor.execute(query)\n",
    "\n",
    "# Make sure data is committed to the database\n",
    "conn.commit()"
   ]
  },
  {
   "cell_type": "code",
   "execution_count": 97,
   "id": "24c78165-e675-4d9f-9ec4-1e5ef6ceb4a6",
   "metadata": {
    "tags": []
   },
   "outputs": [
    {
     "data": {
      "text/html": [
       "<div>\n",
       "<style scoped>\n",
       "    .dataframe tbody tr th:only-of-type {\n",
       "        vertical-align: middle;\n",
       "    }\n",
       "\n",
       "    .dataframe tbody tr th {\n",
       "        vertical-align: top;\n",
       "    }\n",
       "\n",
       "    .dataframe thead th {\n",
       "        text-align: right;\n",
       "    }\n",
       "</style>\n",
       "<table border=\"1\" class=\"dataframe\">\n",
       "  <thead>\n",
       "    <tr style=\"text-align: right;\">\n",
       "      <th></th>\n",
       "      <th>id</th>\n",
       "      <th>level</th>\n",
       "      <th>taxonomic_span</th>\n",
       "      <th>taxonomic_span_id</th>\n",
       "      <th>description</th>\n",
       "      <th>parent</th>\n",
       "      <th>id</th>\n",
       "      <th>summary</th>\n",
       "      <th>taxonomy</th>\n",
       "      <th>genes</th>\n",
       "      <th>...</th>\n",
       "      <th>knock_out</th>\n",
       "      <th>function</th>\n",
       "      <th>sequence</th>\n",
       "      <th>localization</th>\n",
       "      <th>deposition</th>\n",
       "      <th>structure</th>\n",
       "      <th>interactions</th>\n",
       "      <th>disease</th>\n",
       "      <th>caveats</th>\n",
       "      <th>relations</th>\n",
       "    </tr>\n",
       "  </thead>\n",
       "  <tbody>\n",
       "    <tr>\n",
       "      <th>0</th>\n",
       "      <td>HTkA_(Thermococcales)</td>\n",
       "      <td>variant</td>\n",
       "      <td>Thermococcales</td>\n",
       "      <td>2258</td>\n",
       "      <td>227</td>\n",
       "      <td>Nucleosomal</td>\n",
       "      <td>227</td>\n",
       "      <td>HTkA_(Thermococcales) is a group of histones f...</td>\n",
       "      <td>None</td>\n",
       "      <td>None</td>\n",
       "      <td>...</td>\n",
       "      <td>None</td>\n",
       "      <td>None</td>\n",
       "      <td>None</td>\n",
       "      <td>None</td>\n",
       "      <td>None</td>\n",
       "      <td>None</td>\n",
       "      <td>None</td>\n",
       "      <td>None</td>\n",
       "      <td>None</td>\n",
       "      <td>None</td>\n",
       "    </tr>\n",
       "  </tbody>\n",
       "</table>\n",
       "<p>1 rows × 22 columns</p>\n",
       "</div>"
      ],
      "text/plain": [
       "                      id    level  taxonomic_span taxonomic_span_id  \\\n",
       "0  HTkA_(Thermococcales)  variant  Thermococcales              2258   \n",
       "\n",
       "   description       parent   id  \\\n",
       "0          227  Nucleosomal  227   \n",
       "\n",
       "                                             summary taxonomy genes  ...  \\\n",
       "0  HTkA_(Thermococcales) is a group of histones f...     None  None  ...   \n",
       "\n",
       "  knock_out function sequence localization deposition structure interactions  \\\n",
       "0      None     None     None         None       None      None         None   \n",
       "\n",
       "  disease caveats relations  \n",
       "0    None    None      None  \n",
       "\n",
       "[1 rows x 22 columns]"
      ]
     },
     "execution_count": 97,
     "metadata": {},
     "output_type": "execute_result"
    }
   ],
   "source": [
    "query = (\n",
    "    \"SELECT * FROM histone h LEFT JOIN histone_description hd \"\n",
    "    \"ON h.description = hd.id \"\n",
    "    \"WHERE h.id='HTkA_(Thermococcales)'\"\n",
    ")\n",
    "cursor.execute(query)\n",
    "pd.DataFrame(cursor.fetchall(), columns=[i[0] for i in cursor.description])"
   ]
  },
  {
   "cell_type": "markdown",
   "id": "63173961-e00c-4c1c-80dd-407caca176e4",
   "metadata": {
    "jp-MarkdownHeadingCollapsed": true,
    "tags": []
   },
   "source": [
    "## HTkA_(Thermococcus_kodakarensis)"
   ]
  },
  {
   "cell_type": "code",
   "execution_count": 98,
   "id": "9ebf4265-d6a0-4c6c-8907-c80835431af7",
   "metadata": {
    "tags": []
   },
   "outputs": [],
   "source": [
    "data_histone = {\n",
    "    \"id\": \"HTkA_(Thermococcus_kodakarensis)\",\n",
    "    \"level\": \"variant\",\n",
    "    \"taxonomic_span\": \"Thermococcus kodakarensis\",\n",
    "    \"taxonomic_span_id\": \"311400 \",\n",
    "    \"description\": None,\n",
    "    \"parent\": \"HTkA_(Thermococcales)\",\n",
    "}\n",
    "cursor.execute(add_histone, data_histone)\n",
    "\n",
    "# Make sure data is committed to the database\n",
    "conn.commit()"
   ]
  },
  {
   "cell_type": "code",
   "execution_count": 99,
   "id": "cb90737e-9bcf-45b7-bddd-be4bd812be6e",
   "metadata": {
    "tags": []
   },
   "outputs": [
    {
     "data": {
      "text/html": [
       "<div>\n",
       "<style scoped>\n",
       "    .dataframe tbody tr th:only-of-type {\n",
       "        vertical-align: middle;\n",
       "    }\n",
       "\n",
       "    .dataframe tbody tr th {\n",
       "        vertical-align: top;\n",
       "    }\n",
       "\n",
       "    .dataframe thead th {\n",
       "        text-align: right;\n",
       "    }\n",
       "</style>\n",
       "<table border=\"1\" class=\"dataframe\">\n",
       "  <thead>\n",
       "    <tr style=\"text-align: right;\">\n",
       "      <th></th>\n",
       "      <th>id</th>\n",
       "      <th>level</th>\n",
       "      <th>taxonomic_span</th>\n",
       "      <th>taxonomic_span_id</th>\n",
       "      <th>description</th>\n",
       "      <th>parent</th>\n",
       "    </tr>\n",
       "  </thead>\n",
       "  <tbody>\n",
       "    <tr>\n",
       "      <th>198</th>\n",
       "      <td>HTkA_(Thermococcus_kodakarensis)</td>\n",
       "      <td>variant</td>\n",
       "      <td>Thermococcus kodakarensis</td>\n",
       "      <td>311400</td>\n",
       "      <td>NaN</td>\n",
       "      <td>HTkA_(Thermococcales)</td>\n",
       "    </tr>\n",
       "  </tbody>\n",
       "</table>\n",
       "</div>"
      ],
      "text/plain": [
       "                                   id    level             taxonomic_span  \\\n",
       "198  HTkA_(Thermococcus_kodakarensis)  variant  Thermococcus kodakarensis   \n",
       "\n",
       "    taxonomic_span_id  description                 parent  \n",
       "198           311400           NaN  HTkA_(Thermococcales)  "
      ]
     },
     "execution_count": 99,
     "metadata": {},
     "output_type": "execute_result"
    }
   ],
   "source": [
    "query = \"SELECT * FROM histone\"\n",
    "cursor.execute(query)\n",
    "histone_df = pd.DataFrame(cursor.fetchall(), columns=[i[0] for i in cursor.description])\n",
    "histone_df[histone_df[\"id\"] == \"HTkA_(Thermococcus_kodakarensis)\"]"
   ]
  },
  {
   "cell_type": "code",
   "execution_count": 100,
   "id": "2884726f-0583-433c-bb3e-7775b90ec33c",
   "metadata": {
    "tags": []
   },
   "outputs": [],
   "source": [
    "histone_description_summary = \"HTkA_(Thermococcus_kodakarensis) are histones encoded by the HTkA gene of Thermococcus_kodakarensis [stevens_deep_2022].\"\n",
    "data_histone_description = (histone_description_summary,) + (None,) * 13\n",
    "cursor.execute(add_histone_description, data_histone_description)\n",
    "\n",
    "histone_description_id = cursor.lastrowid\n",
    "query = f\"UPDATE histone SET description={histone_description_id} WHERE id='HTkA_(Thermococcus_kodakarensis)'\"\n",
    "cursor.execute(query)\n",
    "\n",
    "# Make sure data is committed to the database\n",
    "conn.commit()"
   ]
  },
  {
   "cell_type": "code",
   "execution_count": 101,
   "id": "23901da3-99d3-4e6a-8bf8-e8a82b4c2ba4",
   "metadata": {
    "tags": []
   },
   "outputs": [
    {
     "data": {
      "text/html": [
       "<div>\n",
       "<style scoped>\n",
       "    .dataframe tbody tr th:only-of-type {\n",
       "        vertical-align: middle;\n",
       "    }\n",
       "\n",
       "    .dataframe tbody tr th {\n",
       "        vertical-align: top;\n",
       "    }\n",
       "\n",
       "    .dataframe thead th {\n",
       "        text-align: right;\n",
       "    }\n",
       "</style>\n",
       "<table border=\"1\" class=\"dataframe\">\n",
       "  <thead>\n",
       "    <tr style=\"text-align: right;\">\n",
       "      <th></th>\n",
       "      <th>id</th>\n",
       "      <th>level</th>\n",
       "      <th>taxonomic_span</th>\n",
       "      <th>taxonomic_span_id</th>\n",
       "      <th>description</th>\n",
       "      <th>parent</th>\n",
       "      <th>id</th>\n",
       "      <th>summary</th>\n",
       "      <th>taxonomy</th>\n",
       "      <th>genes</th>\n",
       "      <th>...</th>\n",
       "      <th>knock_out</th>\n",
       "      <th>function</th>\n",
       "      <th>sequence</th>\n",
       "      <th>localization</th>\n",
       "      <th>deposition</th>\n",
       "      <th>structure</th>\n",
       "      <th>interactions</th>\n",
       "      <th>disease</th>\n",
       "      <th>caveats</th>\n",
       "      <th>relations</th>\n",
       "    </tr>\n",
       "  </thead>\n",
       "  <tbody>\n",
       "    <tr>\n",
       "      <th>0</th>\n",
       "      <td>HTkA_(Thermococcus_kodakarensis)</td>\n",
       "      <td>variant</td>\n",
       "      <td>Thermococcus kodakarensis</td>\n",
       "      <td>311400</td>\n",
       "      <td>228</td>\n",
       "      <td>HTkA_(Thermococcales)</td>\n",
       "      <td>228</td>\n",
       "      <td>HTkA_(Thermococcus_kodakarensis) are histones ...</td>\n",
       "      <td>None</td>\n",
       "      <td>None</td>\n",
       "      <td>...</td>\n",
       "      <td>None</td>\n",
       "      <td>None</td>\n",
       "      <td>None</td>\n",
       "      <td>None</td>\n",
       "      <td>None</td>\n",
       "      <td>None</td>\n",
       "      <td>None</td>\n",
       "      <td>None</td>\n",
       "      <td>None</td>\n",
       "      <td>None</td>\n",
       "    </tr>\n",
       "  </tbody>\n",
       "</table>\n",
       "<p>1 rows × 22 columns</p>\n",
       "</div>"
      ],
      "text/plain": [
       "                                 id    level             taxonomic_span  \\\n",
       "0  HTkA_(Thermococcus_kodakarensis)  variant  Thermococcus kodakarensis   \n",
       "\n",
       "  taxonomic_span_id  description                 parent   id  \\\n",
       "0           311400           228  HTkA_(Thermococcales)  228   \n",
       "\n",
       "                                             summary taxonomy genes  ...  \\\n",
       "0  HTkA_(Thermococcus_kodakarensis) are histones ...     None  None  ...   \n",
       "\n",
       "  knock_out function sequence localization deposition structure interactions  \\\n",
       "0      None     None     None         None       None      None         None   \n",
       "\n",
       "  disease caveats relations  \n",
       "0    None    None      None  \n",
       "\n",
       "[1 rows x 22 columns]"
      ]
     },
     "execution_count": 101,
     "metadata": {},
     "output_type": "execute_result"
    }
   ],
   "source": [
    "query = (\n",
    "    \"SELECT * FROM histone h LEFT JOIN histone_description hd \"\n",
    "    \"ON h.description = hd.id \"\n",
    "    \"WHERE h.id='HTkA_(Thermococcus_kodakarensis)'\"\n",
    ")\n",
    "cursor.execute(query)\n",
    "pd.DataFrame(cursor.fetchall(), columns=[i[0] for i in cursor.description])"
   ]
  },
  {
   "cell_type": "markdown",
   "id": "d7edf3c4-ee50-42ce-9765-bd8248e597ca",
   "metadata": {
    "jp-MarkdownHeadingCollapsed": true,
    "tags": []
   },
   "source": [
    "## HTkB_(Thermococcales)"
   ]
  },
  {
   "cell_type": "code",
   "execution_count": 102,
   "id": "148cb8c0-53ce-4888-9f91-ebfa7343729c",
   "metadata": {
    "tags": []
   },
   "outputs": [],
   "source": [
    "data_histone = {\n",
    "    \"id\": \"HTkB_(Thermococcales)\",\n",
    "    \"level\": \"variant\",\n",
    "    \"taxonomic_span\": \"Thermococcales\",\n",
    "    \"taxonomic_span_id\": \"2258\",\n",
    "    \"description\": None,\n",
    "    \"parent\": \"Nucleosomal\",\n",
    "}\n",
    "cursor.execute(add_histone, data_histone)\n",
    "\n",
    "# Make sure data is committed to the database\n",
    "conn.commit()"
   ]
  },
  {
   "cell_type": "code",
   "execution_count": 103,
   "id": "16d4100c-b9f0-4c7e-971b-4c37579e8dab",
   "metadata": {
    "tags": []
   },
   "outputs": [
    {
     "data": {
      "text/html": [
       "<div>\n",
       "<style scoped>\n",
       "    .dataframe tbody tr th:only-of-type {\n",
       "        vertical-align: middle;\n",
       "    }\n",
       "\n",
       "    .dataframe tbody tr th {\n",
       "        vertical-align: top;\n",
       "    }\n",
       "\n",
       "    .dataframe thead th {\n",
       "        text-align: right;\n",
       "    }\n",
       "</style>\n",
       "<table border=\"1\" class=\"dataframe\">\n",
       "  <thead>\n",
       "    <tr style=\"text-align: right;\">\n",
       "      <th></th>\n",
       "      <th>id</th>\n",
       "      <th>level</th>\n",
       "      <th>taxonomic_span</th>\n",
       "      <th>taxonomic_span_id</th>\n",
       "      <th>description</th>\n",
       "      <th>parent</th>\n",
       "    </tr>\n",
       "  </thead>\n",
       "  <tbody>\n",
       "    <tr>\n",
       "      <th>199</th>\n",
       "      <td>HTkB_(Thermococcales)</td>\n",
       "      <td>variant</td>\n",
       "      <td>Thermococcales</td>\n",
       "      <td>2258</td>\n",
       "      <td>NaN</td>\n",
       "      <td>Nucleosomal</td>\n",
       "    </tr>\n",
       "  </tbody>\n",
       "</table>\n",
       "</div>"
      ],
      "text/plain": [
       "                        id    level  taxonomic_span taxonomic_span_id  \\\n",
       "199  HTkB_(Thermococcales)  variant  Thermococcales              2258   \n",
       "\n",
       "     description       parent  \n",
       "199          NaN  Nucleosomal  "
      ]
     },
     "execution_count": 103,
     "metadata": {},
     "output_type": "execute_result"
    }
   ],
   "source": [
    "query = \"SELECT * FROM histone\"\n",
    "cursor.execute(query)\n",
    "histone_df = pd.DataFrame(cursor.fetchall(), columns=[i[0] for i in cursor.description])\n",
    "histone_df[histone_df[\"id\"] == \"HTkB_(Thermococcales)\"]"
   ]
  },
  {
   "cell_type": "code",
   "execution_count": 104,
   "id": "f26008f0-a8ac-4370-afd8-6402e3b161ca",
   "metadata": {
    "tags": []
   },
   "outputs": [],
   "source": [
    "histone_description_summary = \"HTkB_(Thermococcales) is a group of histones from various species of Thermococcales. These histones are homologs for the HTkB histone of Thermococcus kodakarensis [stevens_deep_2022].\"\n",
    "data_histone_description = (histone_description_summary,) + (None,) * 13\n",
    "cursor.execute(add_histone_description, data_histone_description)\n",
    "\n",
    "histone_description_id = cursor.lastrowid\n",
    "query = f\"UPDATE histone SET description={histone_description_id} WHERE id='HTkB_(Thermococcales)'\"\n",
    "cursor.execute(query)\n",
    "\n",
    "# Make sure data is committed to the database\n",
    "conn.commit()"
   ]
  },
  {
   "cell_type": "code",
   "execution_count": 105,
   "id": "5d354108-e3a8-45fd-ba57-80c2c89ae050",
   "metadata": {
    "tags": []
   },
   "outputs": [
    {
     "data": {
      "text/html": [
       "<div>\n",
       "<style scoped>\n",
       "    .dataframe tbody tr th:only-of-type {\n",
       "        vertical-align: middle;\n",
       "    }\n",
       "\n",
       "    .dataframe tbody tr th {\n",
       "        vertical-align: top;\n",
       "    }\n",
       "\n",
       "    .dataframe thead th {\n",
       "        text-align: right;\n",
       "    }\n",
       "</style>\n",
       "<table border=\"1\" class=\"dataframe\">\n",
       "  <thead>\n",
       "    <tr style=\"text-align: right;\">\n",
       "      <th></th>\n",
       "      <th>id</th>\n",
       "      <th>level</th>\n",
       "      <th>taxonomic_span</th>\n",
       "      <th>taxonomic_span_id</th>\n",
       "      <th>description</th>\n",
       "      <th>parent</th>\n",
       "      <th>id</th>\n",
       "      <th>summary</th>\n",
       "      <th>taxonomy</th>\n",
       "      <th>genes</th>\n",
       "      <th>...</th>\n",
       "      <th>knock_out</th>\n",
       "      <th>function</th>\n",
       "      <th>sequence</th>\n",
       "      <th>localization</th>\n",
       "      <th>deposition</th>\n",
       "      <th>structure</th>\n",
       "      <th>interactions</th>\n",
       "      <th>disease</th>\n",
       "      <th>caveats</th>\n",
       "      <th>relations</th>\n",
       "    </tr>\n",
       "  </thead>\n",
       "  <tbody>\n",
       "    <tr>\n",
       "      <th>0</th>\n",
       "      <td>HTkB_(Thermococcales)</td>\n",
       "      <td>variant</td>\n",
       "      <td>Thermococcales</td>\n",
       "      <td>2258</td>\n",
       "      <td>229</td>\n",
       "      <td>Nucleosomal</td>\n",
       "      <td>229</td>\n",
       "      <td>HTkB_(Thermococcales) is a group of histones f...</td>\n",
       "      <td>None</td>\n",
       "      <td>None</td>\n",
       "      <td>...</td>\n",
       "      <td>None</td>\n",
       "      <td>None</td>\n",
       "      <td>None</td>\n",
       "      <td>None</td>\n",
       "      <td>None</td>\n",
       "      <td>None</td>\n",
       "      <td>None</td>\n",
       "      <td>None</td>\n",
       "      <td>None</td>\n",
       "      <td>None</td>\n",
       "    </tr>\n",
       "  </tbody>\n",
       "</table>\n",
       "<p>1 rows × 22 columns</p>\n",
       "</div>"
      ],
      "text/plain": [
       "                      id    level  taxonomic_span taxonomic_span_id  \\\n",
       "0  HTkB_(Thermococcales)  variant  Thermococcales              2258   \n",
       "\n",
       "   description       parent   id  \\\n",
       "0          229  Nucleosomal  229   \n",
       "\n",
       "                                             summary taxonomy genes  ...  \\\n",
       "0  HTkB_(Thermococcales) is a group of histones f...     None  None  ...   \n",
       "\n",
       "  knock_out function sequence localization deposition structure interactions  \\\n",
       "0      None     None     None         None       None      None         None   \n",
       "\n",
       "  disease caveats relations  \n",
       "0    None    None      None  \n",
       "\n",
       "[1 rows x 22 columns]"
      ]
     },
     "execution_count": 105,
     "metadata": {},
     "output_type": "execute_result"
    }
   ],
   "source": [
    "query = (\n",
    "    \"SELECT * FROM histone h LEFT JOIN histone_description hd \"\n",
    "    \"ON h.description = hd.id \"\n",
    "    \"WHERE h.id='HTkB_(Thermococcales)'\"\n",
    ")\n",
    "cursor.execute(query)\n",
    "pd.DataFrame(cursor.fetchall(), columns=[i[0] for i in cursor.description])"
   ]
  },
  {
   "cell_type": "markdown",
   "id": "90ae5bc6-1971-448b-a590-7a3b7b0498f1",
   "metadata": {
    "jp-MarkdownHeadingCollapsed": true,
    "tags": []
   },
   "source": [
    "## HTkB_(Thermococcus_kodakarensis)"
   ]
  },
  {
   "cell_type": "code",
   "execution_count": 106,
   "id": "94ae87b0-0571-4c1e-87ff-067bc6ec858a",
   "metadata": {
    "tags": []
   },
   "outputs": [],
   "source": [
    "data_histone = {\n",
    "    \"id\": \"HTkB_(Thermococcus_kodakarensis)\",\n",
    "    \"level\": \"variant\",\n",
    "    \"taxonomic_span\": \"Thermococcus kodakarensis\",\n",
    "    \"taxonomic_span_id\": \"311400\",\n",
    "    \"description\": None,\n",
    "    \"parent\": \"HTkB_(Thermococcales)\",\n",
    "}\n",
    "cursor.execute(add_histone, data_histone)\n",
    "\n",
    "# Make sure data is committed to the database\n",
    "conn.commit()"
   ]
  },
  {
   "cell_type": "code",
   "execution_count": 107,
   "id": "29b5111c-21bd-434f-8038-1b96e758542d",
   "metadata": {
    "tags": []
   },
   "outputs": [
    {
     "data": {
      "text/html": [
       "<div>\n",
       "<style scoped>\n",
       "    .dataframe tbody tr th:only-of-type {\n",
       "        vertical-align: middle;\n",
       "    }\n",
       "\n",
       "    .dataframe tbody tr th {\n",
       "        vertical-align: top;\n",
       "    }\n",
       "\n",
       "    .dataframe thead th {\n",
       "        text-align: right;\n",
       "    }\n",
       "</style>\n",
       "<table border=\"1\" class=\"dataframe\">\n",
       "  <thead>\n",
       "    <tr style=\"text-align: right;\">\n",
       "      <th></th>\n",
       "      <th>id</th>\n",
       "      <th>level</th>\n",
       "      <th>taxonomic_span</th>\n",
       "      <th>taxonomic_span_id</th>\n",
       "      <th>description</th>\n",
       "      <th>parent</th>\n",
       "    </tr>\n",
       "  </thead>\n",
       "  <tbody>\n",
       "    <tr>\n",
       "      <th>200</th>\n",
       "      <td>HTkB_(Thermococcus_kodakarensis)</td>\n",
       "      <td>variant</td>\n",
       "      <td>Thermococcus kodakarensis</td>\n",
       "      <td>311400</td>\n",
       "      <td>NaN</td>\n",
       "      <td>HTkB_(Thermococcales)</td>\n",
       "    </tr>\n",
       "  </tbody>\n",
       "</table>\n",
       "</div>"
      ],
      "text/plain": [
       "                                   id    level             taxonomic_span  \\\n",
       "200  HTkB_(Thermococcus_kodakarensis)  variant  Thermococcus kodakarensis   \n",
       "\n",
       "    taxonomic_span_id  description                 parent  \n",
       "200            311400          NaN  HTkB_(Thermococcales)  "
      ]
     },
     "execution_count": 107,
     "metadata": {},
     "output_type": "execute_result"
    }
   ],
   "source": [
    "query = \"SELECT * FROM histone\"\n",
    "cursor.execute(query)\n",
    "histone_df = pd.DataFrame(cursor.fetchall(), columns=[i[0] for i in cursor.description])\n",
    "histone_df[histone_df[\"id\"] == \"HTkB_(Thermococcus_kodakarensis)\"]"
   ]
  },
  {
   "cell_type": "code",
   "execution_count": 108,
   "id": "3dc79c5d-ebd4-477d-9e51-6594199a10e7",
   "metadata": {
    "tags": []
   },
   "outputs": [],
   "source": [
    "histone_description_summary = \"HTkB_(Thermococcus_kodakarensis) are histones encoded by the HTkB gene of Thermococcus kodakarensis [stevens_deep_2022].\"\n",
    "data_histone_description = (histone_description_summary,) + (None,) * 13\n",
    "cursor.execute(add_histone_description, data_histone_description)\n",
    "\n",
    "histone_description_id = cursor.lastrowid\n",
    "query = f\"UPDATE histone SET description={histone_description_id} WHERE id='HTkB_(Thermococcus_kodakarensis)'\"\n",
    "cursor.execute(query)\n",
    "\n",
    "# Make sure data is committed to the database\n",
    "conn.commit()"
   ]
  },
  {
   "cell_type": "code",
   "execution_count": 109,
   "id": "a1ebbbd6-00f8-4b2b-bb26-36a9c07adffc",
   "metadata": {
    "tags": []
   },
   "outputs": [
    {
     "data": {
      "text/html": [
       "<div>\n",
       "<style scoped>\n",
       "    .dataframe tbody tr th:only-of-type {\n",
       "        vertical-align: middle;\n",
       "    }\n",
       "\n",
       "    .dataframe tbody tr th {\n",
       "        vertical-align: top;\n",
       "    }\n",
       "\n",
       "    .dataframe thead th {\n",
       "        text-align: right;\n",
       "    }\n",
       "</style>\n",
       "<table border=\"1\" class=\"dataframe\">\n",
       "  <thead>\n",
       "    <tr style=\"text-align: right;\">\n",
       "      <th></th>\n",
       "      <th>id</th>\n",
       "      <th>level</th>\n",
       "      <th>taxonomic_span</th>\n",
       "      <th>taxonomic_span_id</th>\n",
       "      <th>description</th>\n",
       "      <th>parent</th>\n",
       "      <th>id</th>\n",
       "      <th>summary</th>\n",
       "      <th>taxonomy</th>\n",
       "      <th>genes</th>\n",
       "      <th>...</th>\n",
       "      <th>knock_out</th>\n",
       "      <th>function</th>\n",
       "      <th>sequence</th>\n",
       "      <th>localization</th>\n",
       "      <th>deposition</th>\n",
       "      <th>structure</th>\n",
       "      <th>interactions</th>\n",
       "      <th>disease</th>\n",
       "      <th>caveats</th>\n",
       "      <th>relations</th>\n",
       "    </tr>\n",
       "  </thead>\n",
       "  <tbody>\n",
       "    <tr>\n",
       "      <th>0</th>\n",
       "      <td>HTkB_(Thermococcus_kodakarensis)</td>\n",
       "      <td>variant</td>\n",
       "      <td>Thermococcus kodakarensis</td>\n",
       "      <td>311400</td>\n",
       "      <td>230</td>\n",
       "      <td>HTkB_(Thermococcales)</td>\n",
       "      <td>230</td>\n",
       "      <td>HTkB_(Thermococcus_kodakarensis) are histones ...</td>\n",
       "      <td>None</td>\n",
       "      <td>None</td>\n",
       "      <td>...</td>\n",
       "      <td>None</td>\n",
       "      <td>None</td>\n",
       "      <td>None</td>\n",
       "      <td>None</td>\n",
       "      <td>None</td>\n",
       "      <td>None</td>\n",
       "      <td>None</td>\n",
       "      <td>None</td>\n",
       "      <td>None</td>\n",
       "      <td>None</td>\n",
       "    </tr>\n",
       "  </tbody>\n",
       "</table>\n",
       "<p>1 rows × 22 columns</p>\n",
       "</div>"
      ],
      "text/plain": [
       "                                 id    level             taxonomic_span  \\\n",
       "0  HTkB_(Thermococcus_kodakarensis)  variant  Thermococcus kodakarensis   \n",
       "\n",
       "  taxonomic_span_id  description                 parent   id  \\\n",
       "0            311400          230  HTkB_(Thermococcales)  230   \n",
       "\n",
       "                                             summary taxonomy genes  ...  \\\n",
       "0  HTkB_(Thermococcus_kodakarensis) are histones ...     None  None  ...   \n",
       "\n",
       "  knock_out function sequence localization deposition structure interactions  \\\n",
       "0      None     None     None         None       None      None         None   \n",
       "\n",
       "  disease caveats relations  \n",
       "0    None    None      None  \n",
       "\n",
       "[1 rows x 22 columns]"
      ]
     },
     "execution_count": 109,
     "metadata": {},
     "output_type": "execute_result"
    }
   ],
   "source": [
    "query = (\n",
    "    \"SELECT * FROM histone h LEFT JOIN histone_description hd \"\n",
    "    \"ON h.description = hd.id \"\n",
    "    \"WHERE h.id='HTkB_(Thermococcus_kodakarensis)'\"\n",
    ")\n",
    "cursor.execute(query)\n",
    "pd.DataFrame(cursor.fetchall(), columns=[i[0] for i in cursor.description])"
   ]
  },
  {
   "cell_type": "code",
   "execution_count": null,
   "id": "a280ec5a-f699-4fe3-b4be-7570188c214c",
   "metadata": {},
   "outputs": [],
   "source": [
    "pid = \"stevens_deep_2022\""
   ]
  },
  {
   "cell_type": "markdown",
   "id": "d3c8a219-f508-46e1-936f-7d6040016e39",
   "metadata": {
    "tags": []
   },
   "source": [
    "# Close connections"
   ]
  },
  {
   "cell_type": "code",
   "execution_count": 114,
   "id": "572059d8-54f9-4ec7-a2c6-1c8066552845",
   "metadata": {
    "tags": []
   },
   "outputs": [],
   "source": [
    "cursor.close()\n",
    "conn.close()\n",
    "tunnel.stop()"
   ]
  },
  {
   "cell_type": "code",
   "execution_count": null,
   "id": "790ee020-09af-4dcc-9c36-f1b3f69ea8a7",
   "metadata": {},
   "outputs": [],
   "source": []
  }
 ],
 "metadata": {
  "@deathbeds/ipydrawio": {
   "xml": ""
  },
  "kernelspec": {
   "display_name": ".conda-histdb_env",
   "language": "python",
   "name": "conda-env-.conda-histdb_env-py"
  },
  "language_info": {
   "codemirror_mode": {
    "name": "ipython",
    "version": 3
   },
   "file_extension": ".py",
   "mimetype": "text/x-python",
   "name": "python",
   "nbconvert_exporter": "python",
   "pygments_lexer": "ipython3",
   "version": "3.8.1"
  }
 },
 "nbformat": 4,
 "nbformat_minor": 5
}
