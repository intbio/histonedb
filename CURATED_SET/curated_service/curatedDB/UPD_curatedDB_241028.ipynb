{
 "cells": [
  {
   "cell_type": "code",
   "execution_count": 1,
   "id": "fb32231a-293e-45b8-af7d-d996c91a4edd",
   "metadata": {
    "tags": []
   },
   "outputs": [],
   "source": [
    "import pandas as pd\n",
    "from Bio import Entrez\n",
    "from mysql.connector import connection\n",
    "from sshtunnel import SSHTunnelForwarder\n",
    "\n",
    "Entrez.email = \"l.singh@intbio.org\"\n",
    "\n",
    "import re\n",
    "\n",
    "from Bio import SeqIO"
   ]
  },
  {
   "cell_type": "code",
   "execution_count": 2,
   "id": "d5fa78a7-4901-4e63-9d91-d9ed584d2f62",
   "metadata": {
    "tags": []
   },
   "outputs": [],
   "source": [
    "with open(\"db_curated_server_info.txt\", \"r\") as file:\n",
    "    lines = file.readlines()\n",
    "\n",
    "config = {}\n",
    "\n",
    "for line in lines:\n",
    "    line = line.strip()\n",
    "    if line and not line.startswith(\"#\"):\n",
    "        key, value = line.split(\"=\", 1)\n",
    "        config[key] = value.strip()\n",
    "\n",
    "server_name = config.get(\"server_name\")\n",
    "srever_port = int(config.get(\"srever_port\"))\n",
    "ssh_password = config.get(\"ssh_password\")\n",
    "ssh_username = config.get(\"ssh_username\")\n",
    "db_adress = config.get(\"db_adress\")\n",
    "db_port = int(config.get(\"db_port\"))"
   ]
  },
  {
   "cell_type": "code",
   "execution_count": 3,
   "id": "ebe3d2e8-9736-4fd9-b3f1-5ec2d255567d",
   "metadata": {
    "tags": []
   },
   "outputs": [
    {
     "name": "stdout",
     "output_type": "stream",
     "text": [
      "39799\n"
     ]
    }
   ],
   "source": [
    "tunnel = SSHTunnelForwarder(\n",
    "    (server_name, srever_port),\n",
    "    ssh_password=ssh_password,\n",
    "    ssh_username=ssh_username,\n",
    "    remote_bind_address=(db_adress, db_port),\n",
    ")\n",
    "tunnel.start()\n",
    "print(tunnel.local_bind_port)"
   ]
  },
  {
   "cell_type": "code",
   "execution_count": 4,
   "id": "0de93630-7502-40f3-ad24-42edf7a11eef",
   "metadata": {
    "tags": []
   },
   "outputs": [],
   "source": [
    "conn = connection.MySQLConnection(\n",
    "    user=\"db_user\",\n",
    "    password=\"db_password\",\n",
    "    host=\"localhost\",\n",
    "    port=tunnel.local_bind_port,\n",
    "    database=\"db_name\",\n",
    ")\n",
    "cursor = conn.cursor()"
   ]
  },
  {
   "cell_type": "code",
   "execution_count": 5,
   "id": "b4767ba0-4ea1-43ae-953f-f2575d9b7a69",
   "metadata": {
    "tags": []
   },
   "outputs": [
    {
     "data": {
      "text/plain": [
       "[('alternative_name',),\n",
       " ('histone',),\n",
       " ('histone_description',),\n",
       " ('histone_has_publication',),\n",
       " ('publication',),\n",
       " ('sequence',),\n",
       " ('sequence_has_publication',)]"
      ]
     },
     "execution_count": 5,
     "metadata": {},
     "output_type": "execute_result"
    }
   ],
   "source": [
    "query = \"SHOW TABLES;\"\n",
    "cursor.execute(query)\n",
    "cursor.fetchall()"
   ]
  },
  {
   "cell_type": "code",
   "execution_count": 6,
   "id": "4daefbcb-7dc2-4727-89c3-06d751dd1257",
   "metadata": {
    "tags": []
   },
   "outputs": [
    {
     "data": {
      "text/plain": [
       "'accession, variant, gi, ncbi_gene_id, hgnc_gene_name, taxonomy_id, organism, phylum, class, taxonomy_group, info, sequence, variant_under_consideration'"
      ]
     },
     "execution_count": 6,
     "metadata": {},
     "output_type": "execute_result"
    }
   ],
   "source": [
    "query = \"SELECT * FROM sequence\"\n",
    "cursor.execute(query)\n",
    "cursor.fetchall()\n",
    "\", \".join([i[0] for i in cursor.description])"
   ]
  },
  {
   "cell_type": "code",
   "execution_count": 7,
   "id": "c68d4b8f-c22c-4f8e-bb4f-71f95668656e",
   "metadata": {
    "tags": []
   },
   "outputs": [],
   "source": [
    "# add_publication = (\n",
    "#     \"INSERT INTO publication \"\n",
    "#     \"(id, title, doi, author, year) \"\n",
    "#     \"VALUES (%(id)s, %(title)s, %(doi)s, %(author)s, %(year)s)\"\n",
    "# )\n",
    "add_sequence_has_publication = (\n",
    "    \"INSERT INTO sequence_has_publication \"\n",
    "    \"(sequence_accession, publication_id) \"\n",
    "    \"VALUES (%s, %s)\"\n",
    ")\n",
    "add_sequence = (\n",
    "    \"INSERT INTO sequence \"\n",
    "    \"(accession, variant, gi, ncbi_gene_id, hgnc_gene_name, taxonomy_id, organism, phylum, class, taxonomy_group, info, sequence, variant_under_consideration) \"\n",
    "    \"VALUES (%(accession)s, %(variant)s, %(gi)s, %(ncbi_gene_id)s, %(hgnc_gene_name)s, %(taxonomy_id)s, %(organism)s, %(phylum)s, %(class)s, %(taxonomy_group)s, %(info)s, %(sequence)s, %(variant_under_consideration)s)\"\n",
    ")"
   ]
  },
  {
   "cell_type": "code",
   "execution_count": 8,
   "id": "a08e6ecd-8100-4900-97a8-2b9bd4e8d4e4",
   "metadata": {
    "tags": []
   },
   "outputs": [],
   "source": [
    "def get_taxonomy_data(record):\n",
    "    taxonomy_data = {}\n",
    "    taxonomy_data[\"organism\"] = record.annotations[\"organism\"]\n",
    "    try:\n",
    "        for a in record.features[0].qualifiers[\"db_xref\"]:\n",
    "            text = re.search(\"(\\S+):(\\S+)\", a).group(1)\n",
    "            taxid = re.search(\"(\\S+):(\\S+)\", a).group(2)\n",
    "            if text == \"taxon\":\n",
    "                print(\"Fetched taxid from NCBI {}\".format(id))\n",
    "                taxonomy_data[\"taxonomy_id\"] = int(taxid)\n",
    "            else:\n",
    "                continue\n",
    "    except:\n",
    "        print(\"!!!!!!Unable to get TAXID for \\n {} setting it to 1\".format(s))\n",
    "        taxids.append(1)  # unable to identify\n",
    "\n",
    "    lineage = dict()\n",
    "    for i in range(10):\n",
    "        try:\n",
    "            handle = Entrez.efetch(\n",
    "                id=taxonomy_data[\"taxonomy_id\"], db=\"taxonomy\", retmode=\"xml\"\n",
    "            )\n",
    "            tax_data = Entrez.read(handle)\n",
    "            lineage = {\n",
    "                d[\"Rank\"]: d[\"ScientificName\"]\n",
    "                for d in tax_data[0][\"LineageEx\"]\n",
    "                if d[\"Rank\"] in [\"class\", \"phylum\"]\n",
    "            }\n",
    "            break\n",
    "        except:\n",
    "            print(\"Unexpected error: {}, Retrying, attempt {}\".format(sys.exc_info()[0], i))\n",
    "            if i == 9:\n",
    "                print(\n",
    "                    f\"FATAL ERROR could not get class and phylum from NCBI after 10 attempts for taxid:{taxonomy_data['taxonomy_id']}. Will add None for class and phylum!\"\n",
    "                )\n",
    "            else:\n",
    "                continue\n",
    "    taxonomy_data[\"phylum\"] = lineage.get(\"phylum\", None)\n",
    "    taxonomy_data[\"class\"] = lineage.get(\"class\", None)\n",
    "    if taxonomy_data[\"phylum\"] is not None: taxonomy_data[\"phylum\"] = str(taxonomy_data[\"phylum\"])\n",
    "    if taxonomy_data[\"class\"] is not None: taxonomy_data[\"class\"] = str(taxonomy_data[\"class\"])\n",
    "    return taxonomy_data"
   ]
  },
  {
   "cell_type": "markdown",
   "id": "0c56b719-348a-44ea-89f1-41a87181eb42",
   "metadata": {
    "jp-MarkdownHeadingCollapsed": true,
    "tags": []
   },
   "source": [
    "# Add sheep H2B.N\n",
    "\n",
    "**Atricle:** https://academic.oup.com/mbe/article/39/2/msac019/6517784#333890704\n",
    "\n",
    "**Gene:** Ovis aries, oviAri4, chr11, +-, 16915435-16919543\n",
    "\n",
    "**Sequence from article:**\n",
    "```fasta\n",
    ">Sheep_H2B.N\n",
    "MHFICLHGLQFPKRKLTISIPAKEKDEWVHSATGKKRRKKKEAYFNYMGKLLKQGHPDFSGCSWILDALRALEDWQLEWVSLEAVRLSLYNHRRTVTSREILEAVQQRCSQKTLGINEVALHGSVVEMIALVQKQKIGSFGGLS\n",
    "```\n",
    "\n",
    "BLASTP has one result with 100% coverage and 99% identity (1 substitution).\n",
    "\n",
    "**Protein accession:** XP_060251208.1"
   ]
  },
  {
   "cell_type": "code",
   "execution_count": 10,
   "id": "64dd89fb-9227-4ccb-b91d-318773da9d33",
   "metadata": {
    "tags": []
   },
   "outputs": [],
   "source": [
    "ACCESSION = \"HISTDB_H2B_N_0\""
   ]
  },
  {
   "cell_type": "markdown",
   "id": "f4b28229-b230-4027-be9b-e440fd4c57fd",
   "metadata": {
    "tags": []
   },
   "source": [
    "## Adding HISTDB_H2B_N_0"
   ]
  },
  {
   "cell_type": "code",
   "execution_count": 11,
   "id": "20b7823a-a245-4e1b-90b7-6bdae9c27ccd",
   "metadata": {
    "tags": []
   },
   "outputs": [
    {
     "data": {
      "text/plain": [
       "{'accession': 'HISTDB_H2B_N_0',\n",
       " 'variant': 'H2B.N',\n",
       " 'gi': None,\n",
       " 'ncbi_gene_id': None,\n",
       " 'hgnc_gene_name': None,\n",
       " 'taxonomy_id': 9940,\n",
       " 'organism': 'Ovis aries',\n",
       " 'phylum': 'Chordata',\n",
       " 'class': 'Mammalia',\n",
       " 'taxonomy_group': None,\n",
       " 'info': None,\n",
       " 'sequence': 'MHFICLHGLQFPKRKLTISIPAKEKDEWVHSATGKKRRKKKEAYFNYMGKLLKQGHPDFSGCSWILDALRALEDWQLEWVSLEAVRLSLYNHRRTVTSREILEAVQQRCSQKTLGINEVALHGSVVEMIALVQKQKIGSFGGLS',\n",
       " 'variant_under_consideration': None}"
      ]
     },
     "execution_count": 11,
     "metadata": {},
     "output_type": "execute_result"
    }
   ],
   "source": [
    "data_sequence = {\n",
    "    \"accession\": ACCESSION,\n",
    "    \"variant\": \"H2B.N\",\n",
    "    \"gi\": None,\n",
    "    \"ncbi_gene_id\": None,\n",
    "    \"hgnc_gene_name\": None,\n",
    "    \"taxonomy_id\": 9940 ,\n",
    "    \"organism\": \"Ovis aries\",\n",
    "    \"phylum\": \"Chordata\",\n",
    "    \"class\": \"Mammalia\",\n",
    "    \"taxonomy_group\": None,\n",
    "    \"info\": None,\n",
    "    \"sequence\": \"MHFICLHGLQFPKRKLTISIPAKEKDEWVHSATGKKRRKKKEAYFNYMGKLLKQGHPDFSGCSWILDALRALEDWQLEWVSLEAVRLSLYNHRRTVTSREILEAVQQRCSQKTLGINEVALHGSVVEMIALVQKQKIGSFGGLS\",\n",
    "    \"variant_under_consideration\": None,\n",
    "}\n",
    "data_sequence"
   ]
  },
  {
   "cell_type": "code",
   "execution_count": 12,
   "id": "bef4ca50-210f-4cb6-a56a-e7509b13e2a1",
   "metadata": {
    "tags": []
   },
   "outputs": [
    {
     "name": "stdout",
     "output_type": "stream",
     "text": [
      "accession <class 'str'>\n",
      "variant <class 'str'>\n",
      "gi <class 'NoneType'>\n",
      "ncbi_gene_id <class 'NoneType'>\n",
      "hgnc_gene_name <class 'NoneType'>\n",
      "taxonomy_id <class 'int'>\n",
      "organism <class 'str'>\n",
      "phylum <class 'str'>\n",
      "class <class 'str'>\n",
      "taxonomy_group <class 'NoneType'>\n",
      "info <class 'NoneType'>\n",
      "sequence <class 'str'>\n",
      "variant_under_consideration <class 'NoneType'>\n"
     ]
    }
   ],
   "source": [
    "for k, v in data_sequence.items():\n",
    "    print(k, type(v))"
   ]
  },
  {
   "cell_type": "code",
   "execution_count": 13,
   "id": "f5a69746-b9b4-494c-8af2-244536260533",
   "metadata": {
    "tags": []
   },
   "outputs": [],
   "source": [
    "cursor.execute(add_sequence, data_sequence)"
   ]
  },
  {
   "cell_type": "code",
   "execution_count": 14,
   "id": "59ca3040-b842-412e-bbab-6a2700a0f631",
   "metadata": {
    "tags": []
   },
   "outputs": [
    {
     "data": {
      "text/html": [
       "<div>\n",
       "<style scoped>\n",
       "    .dataframe tbody tr th:only-of-type {\n",
       "        vertical-align: middle;\n",
       "    }\n",
       "\n",
       "    .dataframe tbody tr th {\n",
       "        vertical-align: top;\n",
       "    }\n",
       "\n",
       "    .dataframe thead th {\n",
       "        text-align: right;\n",
       "    }\n",
       "</style>\n",
       "<table border=\"1\" class=\"dataframe\">\n",
       "  <thead>\n",
       "    <tr style=\"text-align: right;\">\n",
       "      <th></th>\n",
       "      <th>accession</th>\n",
       "      <th>variant</th>\n",
       "      <th>gi</th>\n",
       "      <th>ncbi_gene_id</th>\n",
       "      <th>hgnc_gene_name</th>\n",
       "      <th>taxonomy_id</th>\n",
       "      <th>organism</th>\n",
       "      <th>phylum</th>\n",
       "      <th>class</th>\n",
       "      <th>taxonomy_group</th>\n",
       "      <th>info</th>\n",
       "      <th>sequence</th>\n",
       "      <th>variant_under_consideration</th>\n",
       "      <th>sequence_accession</th>\n",
       "      <th>publication_id</th>\n",
       "    </tr>\n",
       "  </thead>\n",
       "  <tbody>\n",
       "    <tr>\n",
       "      <th>0</th>\n",
       "      <td>HISTDB_H2B_N_0</td>\n",
       "      <td>H2B.N</td>\n",
       "      <td>None</td>\n",
       "      <td>None</td>\n",
       "      <td>None</td>\n",
       "      <td>9940</td>\n",
       "      <td>Ovis aries</td>\n",
       "      <td>Chordata</td>\n",
       "      <td>Mammalia</td>\n",
       "      <td>None</td>\n",
       "      <td>None</td>\n",
       "      <td>MHFICLHGLQFPKRKLTISIPAKEKDEWVHSATGKKRRKKKEAYFN...</td>\n",
       "      <td>None</td>\n",
       "      <td>None</td>\n",
       "      <td>None</td>\n",
       "    </tr>\n",
       "  </tbody>\n",
       "</table>\n",
       "</div>"
      ],
      "text/plain": [
       "        accession variant    gi ncbi_gene_id hgnc_gene_name  taxonomy_id  \\\n",
       "0  HISTDB_H2B_N_0   H2B.N  None         None           None         9940   \n",
       "\n",
       "     organism    phylum     class taxonomy_group  info  \\\n",
       "0  Ovis aries  Chordata  Mammalia           None  None   \n",
       "\n",
       "                                            sequence  \\\n",
       "0  MHFICLHGLQFPKRKLTISIPAKEKDEWVHSATGKKRRKKKEAYFN...   \n",
       "\n",
       "  variant_under_consideration sequence_accession publication_id  \n",
       "0                        None               None           None  "
      ]
     },
     "execution_count": 14,
     "metadata": {},
     "output_type": "execute_result"
    }
   ],
   "source": [
    "query = (\n",
    "    \"SELECT * FROM sequence s LEFT JOIN sequence_has_publication sp \"\n",
    "    \"ON s.accession = sp.sequence_accession \"\n",
    "    f\"WHERE s.accession='{ACCESSION}'\"\n",
    ")\n",
    "cursor.execute(query)\n",
    "df = pd.DataFrame(cursor.fetchall(), columns=[i[0] for i in cursor.description])\n",
    "df"
   ]
  },
  {
   "cell_type": "markdown",
   "id": "8cc41980-aff2-4f1c-9dca-a31bfda4932a",
   "metadata": {
    "tags": []
   },
   "source": [
    "## Add publication"
   ]
  },
  {
   "cell_type": "code",
   "execution_count": 15,
   "id": "fb2df071-bfce-4d2f-a7c6-748f8b9f6c0f",
   "metadata": {
    "tags": []
   },
   "outputs": [
    {
     "data": {
      "text/html": [
       "<div>\n",
       "<style scoped>\n",
       "    .dataframe tbody tr th:only-of-type {\n",
       "        vertical-align: middle;\n",
       "    }\n",
       "\n",
       "    .dataframe tbody tr th {\n",
       "        vertical-align: top;\n",
       "    }\n",
       "\n",
       "    .dataframe thead th {\n",
       "        text-align: right;\n",
       "    }\n",
       "</style>\n",
       "<table border=\"1\" class=\"dataframe\">\n",
       "  <thead>\n",
       "    <tr style=\"text-align: right;\">\n",
       "      <th></th>\n",
       "      <th>id</th>\n",
       "      <th>title</th>\n",
       "      <th>doi</th>\n",
       "      <th>author</th>\n",
       "      <th>year</th>\n",
       "    </tr>\n",
       "  </thead>\n",
       "  <tbody>\n",
       "    <tr>\n",
       "      <th>0</th>\n",
       "      <td>35099534</td>\n",
       "      <td>None</td>\n",
       "      <td>None</td>\n",
       "      <td>None</td>\n",
       "      <td>None</td>\n",
       "    </tr>\n",
       "  </tbody>\n",
       "</table>\n",
       "</div>"
      ],
      "text/plain": [
       "         id title   doi author  year\n",
       "0  35099534  None  None   None  None"
      ]
     },
     "execution_count": 15,
     "metadata": {},
     "output_type": "execute_result"
    }
   ],
   "source": [
    "pid = \"35099534\"\n",
    "query = \"SELECT * FROM publication WHERE id='35099534'\"\n",
    "cursor.execute(query)\n",
    "pd.DataFrame(cursor.fetchall(), columns=[i[0] for i in cursor.description])"
   ]
  },
  {
   "cell_type": "code",
   "execution_count": 16,
   "id": "2fe037d0-5ea6-46c2-9d13-fa4eae92e3b4",
   "metadata": {
    "tags": []
   },
   "outputs": [],
   "source": [
    "cursor.execute(add_sequence_has_publication, (ACCESSION, pid))"
   ]
  },
  {
   "cell_type": "code",
   "execution_count": 17,
   "id": "1211f70a-8cbb-47a7-aafb-77191f34ba42",
   "metadata": {
    "tags": []
   },
   "outputs": [
    {
     "data": {
      "text/html": [
       "<div>\n",
       "<style scoped>\n",
       "    .dataframe tbody tr th:only-of-type {\n",
       "        vertical-align: middle;\n",
       "    }\n",
       "\n",
       "    .dataframe tbody tr th {\n",
       "        vertical-align: top;\n",
       "    }\n",
       "\n",
       "    .dataframe thead th {\n",
       "        text-align: right;\n",
       "    }\n",
       "</style>\n",
       "<table border=\"1\" class=\"dataframe\">\n",
       "  <thead>\n",
       "    <tr style=\"text-align: right;\">\n",
       "      <th></th>\n",
       "      <th>accession</th>\n",
       "      <th>variant</th>\n",
       "      <th>gi</th>\n",
       "      <th>ncbi_gene_id</th>\n",
       "      <th>hgnc_gene_name</th>\n",
       "      <th>taxonomy_id</th>\n",
       "      <th>organism</th>\n",
       "      <th>phylum</th>\n",
       "      <th>class</th>\n",
       "      <th>taxonomy_group</th>\n",
       "      <th>info</th>\n",
       "      <th>sequence</th>\n",
       "      <th>variant_under_consideration</th>\n",
       "      <th>sequence_accession</th>\n",
       "      <th>publication_id</th>\n",
       "    </tr>\n",
       "  </thead>\n",
       "  <tbody>\n",
       "    <tr>\n",
       "      <th>0</th>\n",
       "      <td>HISTDB_H2B_N_0</td>\n",
       "      <td>H2B.N</td>\n",
       "      <td>None</td>\n",
       "      <td>None</td>\n",
       "      <td>None</td>\n",
       "      <td>9940</td>\n",
       "      <td>Ovis aries</td>\n",
       "      <td>Chordata</td>\n",
       "      <td>Mammalia</td>\n",
       "      <td>None</td>\n",
       "      <td>None</td>\n",
       "      <td>MHFICLHGLQFPKRKLTISIPAKEKDEWVHSATGKKRRKKKEAYFN...</td>\n",
       "      <td>None</td>\n",
       "      <td>HISTDB_H2B_N_0</td>\n",
       "      <td>35099534</td>\n",
       "    </tr>\n",
       "  </tbody>\n",
       "</table>\n",
       "</div>"
      ],
      "text/plain": [
       "        accession variant    gi ncbi_gene_id hgnc_gene_name  taxonomy_id  \\\n",
       "0  HISTDB_H2B_N_0   H2B.N  None         None           None         9940   \n",
       "\n",
       "     organism    phylum     class taxonomy_group  info  \\\n",
       "0  Ovis aries  Chordata  Mammalia           None  None   \n",
       "\n",
       "                                            sequence  \\\n",
       "0  MHFICLHGLQFPKRKLTISIPAKEKDEWVHSATGKKRRKKKEAYFN...   \n",
       "\n",
       "  variant_under_consideration sequence_accession publication_id  \n",
       "0                        None     HISTDB_H2B_N_0       35099534  "
      ]
     },
     "execution_count": 17,
     "metadata": {},
     "output_type": "execute_result"
    }
   ],
   "source": [
    "query = (\n",
    "    \"SELECT * FROM sequence s LEFT JOIN sequence_has_publication sp \"\n",
    "    \"ON s.accession = sp.sequence_accession \"\n",
    "    f\"WHERE s.accession='{ACCESSION}'\"\n",
    ")\n",
    "cursor.execute(query)\n",
    "df = pd.DataFrame(cursor.fetchall(), columns=[i[0] for i in cursor.description])\n",
    "df"
   ]
  },
  {
   "cell_type": "markdown",
   "id": "088d5922-fa5e-4d9e-86cd-a649849c494a",
   "metadata": {
    "tags": []
   },
   "source": [
    "## Get sequence XP_060251208.1 from NCBI"
   ]
  },
  {
   "cell_type": "code",
   "execution_count": 18,
   "id": "e891cb9a-7f5b-4302-9f6d-2144cc6b18b7",
   "metadata": {
    "tags": []
   },
   "outputs": [],
   "source": [
    "ACCESSION = \"XP_060251208.1\""
   ]
  },
  {
   "cell_type": "code",
   "execution_count": 19,
   "id": "426202a9-59e8-40bc-a2b3-75a150b7b50f",
   "metadata": {
    "tags": []
   },
   "outputs": [
    {
     "name": "stdout",
     "output_type": "stream",
     "text": [
      "ID: XP_060251208.1\n",
      "Name: XP_060251208\n",
      "Description: histone H2A.N [Ovis aries]\n",
      "Database cross-references: BioProject:PRJNA739192\n",
      "Number of features: 3\n",
      "/topology=linear\n",
      "/data_file_division=MAM\n",
      "/date=30-OCT-2023\n",
      "/accessions=['XP_060251208']\n",
      "/sequence_version=1\n",
      "/db_source=REFSEQ: accession XM_060395225.1\n",
      "/keywords=['RefSeq']\n",
      "/source=Ovis aries (sheep)\n",
      "/organism=Ovis aries\n",
      "/taxonomy=['Eukaryota', 'Metazoa', 'Chordata', 'Craniata', 'Vertebrata', 'Euteleostomi', 'Mammalia', 'Eutheria', 'Laurasiatheria', 'Artiodactyla', 'Ruminantia', 'Pecora', 'Bovidae', 'Caprinae', 'Ovis']\n",
      "/comment=MODEL REFSEQ:  This record is predicted by automated computational\n",
      "analysis. This record is derived from a genomic sequence\n",
      "(NC_056064.1) annotated using gene prediction method: Gnomon.\n",
      "Also see:\n",
      "    Documentation of NCBI's Annotation Process\n",
      "COMPLETENESS: full length.\n",
      "/structured_comment=OrderedDict([('Genome-Annotation-Data', OrderedDict([('Annotation Provider', 'NCBI RefSeq'), ('Annotation Status', 'Full annotation'), ('Annotation Name', 'GCF_016772045.2-RS_2023_10'), ('Annotation Pipeline', 'NCBI eukaryotic genome annotation pipeline'), ('Annotation Software Version', '10.2'), ('Annotation Method', 'Best-placed RefSeq; Gnomon; cmsearch; tRNAscan-SE'), ('Features Annotated', 'Gene; mRNA; CDS; ncRNA'), ('Annotation Date', '10/17/2023')]))])\n",
      "/molecule_type=protein\n",
      "Seq('MHFICLHGLQFPKRKLTISIPAKEKDEWVHSATGKKRRKKKEAYFNYMGKLLKQ...GLS')\n"
     ]
    }
   ],
   "source": [
    "with Entrez.efetch(\n",
    "    db=\"protein\", id=ACCESSION, rettype=\"gb\", retmode=\"text\"\n",
    ") as handle:\n",
    "    record = SeqIO.read(handle, \"genbank\")\n",
    "    print(record)"
   ]
  },
  {
   "cell_type": "code",
   "execution_count": 20,
   "id": "15abded6-d35b-467e-ab84-66af98f366b3",
   "metadata": {
    "tags": []
   },
   "outputs": [
    {
     "data": {
      "text/plain": [
       "'MHFICLHGLQFPKRKLTISIPAKEKDEWVHSATGKKRRKKKEAYFNYMGKLLKQGHPDFSGCSWILDALRALEDWQLEWISLEAVRLSLYNHRRTVTSREILEAVQQRCSQKTLGINEVALHGSVVEMIALVQKQKIGSFGGLS'"
      ]
     },
     "execution_count": 20,
     "metadata": {},
     "output_type": "execute_result"
    }
   ],
   "source": [
    "str(record.seq)"
   ]
  },
  {
   "cell_type": "code",
   "execution_count": 21,
   "id": "746cc9a2-f0cd-4ecb-b8a5-65fb9c5e3daa",
   "metadata": {
    "tags": []
   },
   "outputs": [
    {
     "data": {
      "text/plain": [
       "'Ovis aries'"
      ]
     },
     "execution_count": 21,
     "metadata": {},
     "output_type": "execute_result"
    }
   ],
   "source": [
    "record.annotations[\"organism\"]"
   ]
  },
  {
   "cell_type": "code",
   "execution_count": 22,
   "id": "9e2f7126-7cd4-4265-aa0e-a764b6659fb4",
   "metadata": {
    "tags": []
   },
   "outputs": [
    {
     "name": "stdout",
     "output_type": "stream",
     "text": [
      "Fetched taxid from NCBI <built-in function id>\n"
     ]
    },
    {
     "data": {
      "text/plain": [
       "{'organism': 'Ovis aries',\n",
       " 'taxonomy_id': 9940,\n",
       " 'phylum': 'Chordata',\n",
       " 'class': 'Mammalia'}"
      ]
     },
     "execution_count": 22,
     "metadata": {},
     "output_type": "execute_result"
    }
   ],
   "source": [
    "taxonomy_data = get_taxonomy_data(record)\n",
    "taxonomy_data"
   ]
  },
  {
   "cell_type": "markdown",
   "id": "f95c5b01-f3c3-4e84-9be9-a93a8f44e6de",
   "metadata": {},
   "source": [
    "## Adding XP_060251208.1"
   ]
  },
  {
   "cell_type": "code",
   "execution_count": 23,
   "id": "817afbc1-8eaa-49a2-8da9-6b5a0d9f8563",
   "metadata": {
    "tags": []
   },
   "outputs": [
    {
     "data": {
      "text/plain": [
       "{'accession': 'XP_060251208.1',\n",
       " 'variant': 'H2B.N',\n",
       " 'gi': None,\n",
       " 'ncbi_gene_id': None,\n",
       " 'hgnc_gene_name': None,\n",
       " 'taxonomy_id': 9940,\n",
       " 'organism': 'Ovis aries',\n",
       " 'phylum': 'Chordata',\n",
       " 'class': 'Mammalia',\n",
       " 'taxonomy_group': None,\n",
       " 'info': None,\n",
       " 'sequence': 'MHFICLHGLQFPKRKLTISIPAKEKDEWVHSATGKKRRKKKEAYFNYMGKLLKQGHPDFSGCSWILDALRALEDWQLEWISLEAVRLSLYNHRRTVTSREILEAVQQRCSQKTLGINEVALHGSVVEMIALVQKQKIGSFGGLS',\n",
       " 'variant_under_consideration': None}"
      ]
     },
     "execution_count": 23,
     "metadata": {},
     "output_type": "execute_result"
    }
   ],
   "source": [
    "data_sequence = {\n",
    "    \"accession\": ACCESSION,\n",
    "    \"variant\": \"H2B.N\",\n",
    "    \"gi\": None,\n",
    "    \"ncbi_gene_id\": None,\n",
    "    \"hgnc_gene_name\": None,\n",
    "    \"taxonomy_id\": None,\n",
    "    \"organism\": None,\n",
    "    \"phylum\": None,\n",
    "    \"class\": None,\n",
    "    \"taxonomy_group\": None,\n",
    "    \"info\": None,\n",
    "    \"sequence\": str(record.seq),\n",
    "    \"variant_under_consideration\": None,\n",
    "}\n",
    "data_sequence.update(taxonomy_data)\n",
    "data_sequence"
   ]
  },
  {
   "cell_type": "code",
   "execution_count": 24,
   "id": "80153e27-10cf-4e67-b5d9-baa0c30cded8",
   "metadata": {
    "tags": []
   },
   "outputs": [
    {
     "name": "stdout",
     "output_type": "stream",
     "text": [
      "accession <class 'str'>\n",
      "variant <class 'str'>\n",
      "gi <class 'NoneType'>\n",
      "ncbi_gene_id <class 'NoneType'>\n",
      "hgnc_gene_name <class 'NoneType'>\n",
      "taxonomy_id <class 'int'>\n",
      "organism <class 'str'>\n",
      "phylum <class 'str'>\n",
      "class <class 'str'>\n",
      "taxonomy_group <class 'NoneType'>\n",
      "info <class 'NoneType'>\n",
      "sequence <class 'str'>\n",
      "variant_under_consideration <class 'NoneType'>\n"
     ]
    }
   ],
   "source": [
    "for k, v in data_sequence.items():\n",
    "    print(k, type(v))"
   ]
  },
  {
   "cell_type": "code",
   "execution_count": 25,
   "id": "8f7b6b35-0189-4eb0-baa4-26edcf790037",
   "metadata": {
    "tags": []
   },
   "outputs": [],
   "source": [
    "cursor.execute(add_sequence, data_sequence)"
   ]
  },
  {
   "cell_type": "code",
   "execution_count": 26,
   "id": "ada5f893-01c8-4b80-876d-c36f13f307b2",
   "metadata": {
    "tags": []
   },
   "outputs": [
    {
     "data": {
      "text/html": [
       "<div>\n",
       "<style scoped>\n",
       "    .dataframe tbody tr th:only-of-type {\n",
       "        vertical-align: middle;\n",
       "    }\n",
       "\n",
       "    .dataframe tbody tr th {\n",
       "        vertical-align: top;\n",
       "    }\n",
       "\n",
       "    .dataframe thead th {\n",
       "        text-align: right;\n",
       "    }\n",
       "</style>\n",
       "<table border=\"1\" class=\"dataframe\">\n",
       "  <thead>\n",
       "    <tr style=\"text-align: right;\">\n",
       "      <th></th>\n",
       "      <th>accession</th>\n",
       "      <th>variant</th>\n",
       "      <th>gi</th>\n",
       "      <th>ncbi_gene_id</th>\n",
       "      <th>hgnc_gene_name</th>\n",
       "      <th>taxonomy_id</th>\n",
       "      <th>organism</th>\n",
       "      <th>phylum</th>\n",
       "      <th>class</th>\n",
       "      <th>taxonomy_group</th>\n",
       "      <th>info</th>\n",
       "      <th>sequence</th>\n",
       "      <th>variant_under_consideration</th>\n",
       "      <th>sequence_accession</th>\n",
       "      <th>publication_id</th>\n",
       "    </tr>\n",
       "  </thead>\n",
       "  <tbody>\n",
       "    <tr>\n",
       "      <th>0</th>\n",
       "      <td>XP_060251208.1</td>\n",
       "      <td>H2B.N</td>\n",
       "      <td>None</td>\n",
       "      <td>None</td>\n",
       "      <td>None</td>\n",
       "      <td>9940</td>\n",
       "      <td>Ovis aries</td>\n",
       "      <td>Chordata</td>\n",
       "      <td>Mammalia</td>\n",
       "      <td>None</td>\n",
       "      <td>None</td>\n",
       "      <td>MHFICLHGLQFPKRKLTISIPAKEKDEWVHSATGKKRRKKKEAYFN...</td>\n",
       "      <td>None</td>\n",
       "      <td>None</td>\n",
       "      <td>None</td>\n",
       "    </tr>\n",
       "  </tbody>\n",
       "</table>\n",
       "</div>"
      ],
      "text/plain": [
       "        accession variant    gi ncbi_gene_id hgnc_gene_name  taxonomy_id  \\\n",
       "0  XP_060251208.1   H2B.N  None         None           None         9940   \n",
       "\n",
       "     organism    phylum     class taxonomy_group  info  \\\n",
       "0  Ovis aries  Chordata  Mammalia           None  None   \n",
       "\n",
       "                                            sequence  \\\n",
       "0  MHFICLHGLQFPKRKLTISIPAKEKDEWVHSATGKKRRKKKEAYFN...   \n",
       "\n",
       "  variant_under_consideration sequence_accession publication_id  \n",
       "0                        None               None           None  "
      ]
     },
     "execution_count": 26,
     "metadata": {},
     "output_type": "execute_result"
    }
   ],
   "source": [
    "query = (\n",
    "    \"SELECT * FROM sequence s LEFT JOIN sequence_has_publication sp \"\n",
    "    \"ON s.accession = sp.sequence_accession \"\n",
    "    f\"WHERE s.accession='{ACCESSION}'\"\n",
    ")\n",
    "cursor.execute(query)\n",
    "df = pd.DataFrame(cursor.fetchall(), columns=[i[0] for i in cursor.description])\n",
    "df"
   ]
  },
  {
   "cell_type": "markdown",
   "id": "57c7e471-1ae8-4a62-bcd5-f4688bd07bcf",
   "metadata": {},
   "source": [
    "## Add publication"
   ]
  },
  {
   "cell_type": "code",
   "execution_count": 27,
   "id": "9f936c57-3777-4818-aa57-d60b49a14123",
   "metadata": {
    "tags": []
   },
   "outputs": [
    {
     "data": {
      "text/html": [
       "<div>\n",
       "<style scoped>\n",
       "    .dataframe tbody tr th:only-of-type {\n",
       "        vertical-align: middle;\n",
       "    }\n",
       "\n",
       "    .dataframe tbody tr th {\n",
       "        vertical-align: top;\n",
       "    }\n",
       "\n",
       "    .dataframe thead th {\n",
       "        text-align: right;\n",
       "    }\n",
       "</style>\n",
       "<table border=\"1\" class=\"dataframe\">\n",
       "  <thead>\n",
       "    <tr style=\"text-align: right;\">\n",
       "      <th></th>\n",
       "      <th>id</th>\n",
       "      <th>title</th>\n",
       "      <th>doi</th>\n",
       "      <th>author</th>\n",
       "      <th>year</th>\n",
       "    </tr>\n",
       "  </thead>\n",
       "  <tbody>\n",
       "    <tr>\n",
       "      <th>0</th>\n",
       "      <td>35099534</td>\n",
       "      <td>None</td>\n",
       "      <td>None</td>\n",
       "      <td>None</td>\n",
       "      <td>None</td>\n",
       "    </tr>\n",
       "  </tbody>\n",
       "</table>\n",
       "</div>"
      ],
      "text/plain": [
       "         id title   doi author  year\n",
       "0  35099534  None  None   None  None"
      ]
     },
     "execution_count": 27,
     "metadata": {},
     "output_type": "execute_result"
    }
   ],
   "source": [
    "pid = \"35099534\"\n",
    "query = \"SELECT * FROM publication WHERE id='35099534'\"\n",
    "cursor.execute(query)\n",
    "pd.DataFrame(cursor.fetchall(), columns=[i[0] for i in cursor.description])"
   ]
  },
  {
   "cell_type": "code",
   "execution_count": 28,
   "id": "5fbc660d-8ed0-4c34-81a4-264425b945d4",
   "metadata": {
    "tags": []
   },
   "outputs": [],
   "source": [
    "cursor.execute(add_sequence_has_publication, (ACCESSION, pid))"
   ]
  },
  {
   "cell_type": "code",
   "execution_count": 29,
   "id": "257d4ef1-5d17-427f-95f0-f0c07d89442b",
   "metadata": {
    "tags": []
   },
   "outputs": [
    {
     "data": {
      "text/html": [
       "<div>\n",
       "<style scoped>\n",
       "    .dataframe tbody tr th:only-of-type {\n",
       "        vertical-align: middle;\n",
       "    }\n",
       "\n",
       "    .dataframe tbody tr th {\n",
       "        vertical-align: top;\n",
       "    }\n",
       "\n",
       "    .dataframe thead th {\n",
       "        text-align: right;\n",
       "    }\n",
       "</style>\n",
       "<table border=\"1\" class=\"dataframe\">\n",
       "  <thead>\n",
       "    <tr style=\"text-align: right;\">\n",
       "      <th></th>\n",
       "      <th>accession</th>\n",
       "      <th>variant</th>\n",
       "      <th>gi</th>\n",
       "      <th>ncbi_gene_id</th>\n",
       "      <th>hgnc_gene_name</th>\n",
       "      <th>taxonomy_id</th>\n",
       "      <th>organism</th>\n",
       "      <th>phylum</th>\n",
       "      <th>class</th>\n",
       "      <th>taxonomy_group</th>\n",
       "      <th>info</th>\n",
       "      <th>sequence</th>\n",
       "      <th>variant_under_consideration</th>\n",
       "      <th>sequence_accession</th>\n",
       "      <th>publication_id</th>\n",
       "    </tr>\n",
       "  </thead>\n",
       "  <tbody>\n",
       "    <tr>\n",
       "      <th>0</th>\n",
       "      <td>XP_060251208.1</td>\n",
       "      <td>H2B.N</td>\n",
       "      <td>None</td>\n",
       "      <td>None</td>\n",
       "      <td>None</td>\n",
       "      <td>9940</td>\n",
       "      <td>Ovis aries</td>\n",
       "      <td>Chordata</td>\n",
       "      <td>Mammalia</td>\n",
       "      <td>None</td>\n",
       "      <td>None</td>\n",
       "      <td>MHFICLHGLQFPKRKLTISIPAKEKDEWVHSATGKKRRKKKEAYFN...</td>\n",
       "      <td>None</td>\n",
       "      <td>XP_060251208.1</td>\n",
       "      <td>35099534</td>\n",
       "    </tr>\n",
       "  </tbody>\n",
       "</table>\n",
       "</div>"
      ],
      "text/plain": [
       "        accession variant    gi ncbi_gene_id hgnc_gene_name  taxonomy_id  \\\n",
       "0  XP_060251208.1   H2B.N  None         None           None         9940   \n",
       "\n",
       "     organism    phylum     class taxonomy_group  info  \\\n",
       "0  Ovis aries  Chordata  Mammalia           None  None   \n",
       "\n",
       "                                            sequence  \\\n",
       "0  MHFICLHGLQFPKRKLTISIPAKEKDEWVHSATGKKRRKKKEAYFN...   \n",
       "\n",
       "  variant_under_consideration sequence_accession publication_id  \n",
       "0                        None     XP_060251208.1       35099534  "
      ]
     },
     "execution_count": 29,
     "metadata": {},
     "output_type": "execute_result"
    }
   ],
   "source": [
    "query = (\n",
    "    \"SELECT * FROM sequence s LEFT JOIN sequence_has_publication sp \"\n",
    "    \"ON s.accession = sp.sequence_accession \"\n",
    "    f\"WHERE s.accession='{ACCESSION}'\"\n",
    ")\n",
    "cursor.execute(query)\n",
    "df = pd.DataFrame(cursor.fetchall(), columns=[i[0] for i in cursor.description])\n",
    "df"
   ]
  },
  {
   "cell_type": "code",
   "execution_count": 31,
   "id": "e159f2b8-6698-48b1-9827-6d641a76afbf",
   "metadata": {
    "tags": []
   },
   "outputs": [
    {
     "data": {
      "text/html": [
       "<div>\n",
       "<style scoped>\n",
       "    .dataframe tbody tr th:only-of-type {\n",
       "        vertical-align: middle;\n",
       "    }\n",
       "\n",
       "    .dataframe tbody tr th {\n",
       "        vertical-align: top;\n",
       "    }\n",
       "\n",
       "    .dataframe thead th {\n",
       "        text-align: right;\n",
       "    }\n",
       "</style>\n",
       "<table border=\"1\" class=\"dataframe\">\n",
       "  <thead>\n",
       "    <tr style=\"text-align: right;\">\n",
       "      <th></th>\n",
       "      <th>accession</th>\n",
       "      <th>variant</th>\n",
       "      <th>gi</th>\n",
       "      <th>ncbi_gene_id</th>\n",
       "      <th>hgnc_gene_name</th>\n",
       "      <th>taxonomy_id</th>\n",
       "      <th>organism</th>\n",
       "      <th>phylum</th>\n",
       "      <th>class</th>\n",
       "      <th>taxonomy_group</th>\n",
       "      <th>info</th>\n",
       "      <th>sequence</th>\n",
       "      <th>variant_under_consideration</th>\n",
       "      <th>sequence_accession</th>\n",
       "      <th>publication_id</th>\n",
       "    </tr>\n",
       "  </thead>\n",
       "  <tbody>\n",
       "    <tr>\n",
       "      <th>0</th>\n",
       "      <td>HISTDB_H2B_N_0</td>\n",
       "      <td>H2B.N</td>\n",
       "      <td>None</td>\n",
       "      <td>None</td>\n",
       "      <td>None</td>\n",
       "      <td>9940</td>\n",
       "      <td>Ovis aries</td>\n",
       "      <td>Chordata</td>\n",
       "      <td>Mammalia</td>\n",
       "      <td>None</td>\n",
       "      <td>None</td>\n",
       "      <td>MHFICLHGLQFPKRKLTISIPAKEKDEWVHSATGKKRRKKKEAYFN...</td>\n",
       "      <td>None</td>\n",
       "      <td>HISTDB_H2B_N_0</td>\n",
       "      <td>35099534</td>\n",
       "    </tr>\n",
       "    <tr>\n",
       "      <th>1</th>\n",
       "      <td>XP_060251208.1</td>\n",
       "      <td>H2B.N</td>\n",
       "      <td>None</td>\n",
       "      <td>None</td>\n",
       "      <td>None</td>\n",
       "      <td>9940</td>\n",
       "      <td>Ovis aries</td>\n",
       "      <td>Chordata</td>\n",
       "      <td>Mammalia</td>\n",
       "      <td>None</td>\n",
       "      <td>None</td>\n",
       "      <td>MHFICLHGLQFPKRKLTISIPAKEKDEWVHSATGKKRRKKKEAYFN...</td>\n",
       "      <td>None</td>\n",
       "      <td>XP_060251208.1</td>\n",
       "      <td>35099534</td>\n",
       "    </tr>\n",
       "  </tbody>\n",
       "</table>\n",
       "</div>"
      ],
      "text/plain": [
       "        accession variant    gi ncbi_gene_id hgnc_gene_name  taxonomy_id  \\\n",
       "0  HISTDB_H2B_N_0   H2B.N  None         None           None         9940   \n",
       "1  XP_060251208.1   H2B.N  None         None           None         9940   \n",
       "\n",
       "     organism    phylum     class taxonomy_group  info  \\\n",
       "0  Ovis aries  Chordata  Mammalia           None  None   \n",
       "1  Ovis aries  Chordata  Mammalia           None  None   \n",
       "\n",
       "                                            sequence  \\\n",
       "0  MHFICLHGLQFPKRKLTISIPAKEKDEWVHSATGKKRRKKKEAYFN...   \n",
       "1  MHFICLHGLQFPKRKLTISIPAKEKDEWVHSATGKKRRKKKEAYFN...   \n",
       "\n",
       "  variant_under_consideration sequence_accession publication_id  \n",
       "0                        None     HISTDB_H2B_N_0       35099534  \n",
       "1                        None     XP_060251208.1       35099534  "
      ]
     },
     "execution_count": 31,
     "metadata": {},
     "output_type": "execute_result"
    }
   ],
   "source": [
    "query = (\n",
    "    \"SELECT * FROM sequence s LEFT JOIN sequence_has_publication sp \"\n",
    "    \"ON s.accession = sp.sequence_accession \"\n",
    "    f\"WHERE s.variant='H2B.N'\"\n",
    ")\n",
    "cursor.execute(query)\n",
    "df = pd.DataFrame(cursor.fetchall(), columns=[i[0] for i in cursor.description])\n",
    "df"
   ]
  },
  {
   "cell_type": "code",
   "execution_count": 32,
   "id": "945003f7-4d7e-4658-961d-741bf60401ef",
   "metadata": {
    "tags": []
   },
   "outputs": [],
   "source": [
    "# Make sure data is committed to the database\n",
    "conn.commit()"
   ]
  },
  {
   "cell_type": "markdown",
   "id": "bc189846-e8f2-4647-ac12-65f569eb3bb0",
   "metadata": {
    "jp-MarkdownHeadingCollapsed": true,
    "tags": []
   },
   "source": [
    "# Add cow H2B.Ns\n",
    "\n",
    "**Atricle:** https://academic.oup.com/mbe/article/39/2/msac019/6517784#333890704\n",
    "\n",
    "**Genes:**\n",
    "- Bos taurus, bosTau9, chr19, +-, 17314140-17318442, H2B.N.1 (ancestral)\n",
    "- Bos taurus, bosTau9, chr10, ++, 64118789-64119220, H2B.N.2\n",
    "\n",
    "**Sequences from article:**\n",
    "```fasta\n",
    ">Cow_H2B.N.1\n",
    "MYFICLHGLQFPKRKLTIYIPAKEKDEWVHSATGKKRRKKKETYFNYMGKLLKQVHPDFSGCSWILDALRVLEDWQLEWVSLEAVRLSLYNHRRTITSREILEAVKQRCSQKSLGINEVDLHGSVVEMIALVQKQKIGSFGGLS\n",
    ">Cow_H2B.N.2\n",
    "MHFICLHGLQFPKRKLTIYIPAKEKDEWVCSATGKKRRKKKEAYFNYMEKLLKQVHPDFSGCSWILDALRVLEDWQLEWVSLEAVRLSFYNHRRTITTKEILKAVKQRCSQKSLGINEVDLHGSVVEMIALVQKQKIGSFGGLS\n",
    "```\n",
    "\n",
    "BLASTP results:\n",
    "- one H2B.N.1 with 100% coverage and 100% identity;\n",
    "- one H2B.N.2 with 100% coverage and 100% identity.\n",
    "\n",
    "**Protein accessions:** XP_059734412.1, XP_059746706.1"
   ]
  },
  {
   "cell_type": "markdown",
   "id": "5d133712-1f44-4b7f-885f-346ef584a10c",
   "metadata": {
    "tags": []
   },
   "source": [
    "## Accession XP_059734412.1"
   ]
  },
  {
   "cell_type": "code",
   "execution_count": 33,
   "id": "00290854-f12d-4d6c-af26-577136855ca8",
   "metadata": {
    "tags": []
   },
   "outputs": [],
   "source": [
    "ACCESSION = \"XP_059734412.1\""
   ]
  },
  {
   "cell_type": "markdown",
   "id": "248e9c4f-9d34-45f8-b564-7d4d85c73b68",
   "metadata": {
    "tags": []
   },
   "source": [
    "## Get sequence XP_059734412.1 from NCBI"
   ]
  },
  {
   "cell_type": "code",
   "execution_count": 34,
   "id": "c1e9b9ff-48d6-4f39-9715-e003e4ebc6c7",
   "metadata": {
    "tags": []
   },
   "outputs": [
    {
     "name": "stdout",
     "output_type": "stream",
     "text": [
      "ID: XP_059734412.1\n",
      "Name: XP_059734412\n",
      "Description: histone H2A.N [Bos taurus]\n",
      "Database cross-references: BioProject:PRJNA450837\n",
      "Number of features: 4\n",
      "/topology=linear\n",
      "/data_file_division=MAM\n",
      "/date=03-OCT-2023\n",
      "/accessions=['XP_059734412']\n",
      "/sequence_version=1\n",
      "/db_source=REFSEQ: accession XM_059878429.1\n",
      "/keywords=['RefSeq']\n",
      "/source=Bos taurus (domestic cattle)\n",
      "/organism=Bos taurus\n",
      "/taxonomy=['Eukaryota', 'Metazoa', 'Chordata', 'Craniata', 'Vertebrata', 'Euteleostomi', 'Mammalia', 'Eutheria', 'Laurasiatheria', 'Artiodactyla', 'Ruminantia', 'Pecora', 'Bovidae', 'Bovinae', 'Bos']\n",
      "/comment=MODEL REFSEQ:  This record is predicted by automated computational\n",
      "analysis. This record is derived from a genomic sequence\n",
      "(NC_037346.1) annotated using gene prediction method: Gnomon.\n",
      "Also see:\n",
      "    Documentation of NCBI's Annotation Process\n",
      "COMPLETENESS: full length.\n",
      "/structured_comment=OrderedDict([('Genome-Annotation-Data', OrderedDict([('Annotation Provider', 'NCBI RefSeq'), ('Annotation Status', 'Full annotation'), ('Annotation Name', 'GCF_002263795.3-RS_2023_09'), ('Annotation Pipeline', 'NCBI eukaryotic genome annotation pipeline'), ('Annotation Software Version', '10.2'), ('Annotation Method', 'Best-placed RefSeq; Gnomon; cmsearch; tRNAscan-SE'), ('Features Annotated', 'Gene; mRNA; CDS; ncRNA'), ('Annotation Date', '09/28/2023')]))])\n",
      "/molecule_type=protein\n",
      "Seq('MYFICLHGLQFPKRKLTIYIPAKEKDEWVHSATGKKRRKKKETYFNYMGKLLKQ...GLS')\n"
     ]
    }
   ],
   "source": [
    "with Entrez.efetch(\n",
    "    db=\"protein\", id=ACCESSION, rettype=\"gb\", retmode=\"text\"\n",
    ") as handle:\n",
    "    record = SeqIO.read(handle, \"genbank\")\n",
    "    print(record)"
   ]
  },
  {
   "cell_type": "code",
   "execution_count": 35,
   "id": "05d222f8-285d-42e2-b692-577e0b245891",
   "metadata": {
    "tags": []
   },
   "outputs": [
    {
     "data": {
      "text/plain": [
       "'MYFICLHGLQFPKRKLTIYIPAKEKDEWVHSATGKKRRKKKETYFNYMGKLLKQVHPDFSGCSWILDALRVLEDWQLEWVSLEAVRLSLYNHRRTITSREILEAVKQRCSQKSLGINEVDLHGSVVEMIALVQKQKIGSFGGLS'"
      ]
     },
     "execution_count": 35,
     "metadata": {},
     "output_type": "execute_result"
    }
   ],
   "source": [
    "str(record.seq)"
   ]
  },
  {
   "cell_type": "code",
   "execution_count": 36,
   "id": "f79aa319-2afc-406f-a032-aa613e92d679",
   "metadata": {
    "tags": []
   },
   "outputs": [
    {
     "data": {
      "text/plain": [
       "'Bos taurus'"
      ]
     },
     "execution_count": 36,
     "metadata": {},
     "output_type": "execute_result"
    }
   ],
   "source": [
    "record.annotations[\"organism\"]"
   ]
  },
  {
   "cell_type": "code",
   "execution_count": 37,
   "id": "fbcce30f-6d69-4c5e-b89d-0b3502d892bf",
   "metadata": {
    "tags": []
   },
   "outputs": [
    {
     "name": "stdout",
     "output_type": "stream",
     "text": [
      "Fetched taxid from NCBI <built-in function id>\n"
     ]
    },
    {
     "data": {
      "text/plain": [
       "{'organism': 'Bos taurus',\n",
       " 'taxonomy_id': 9913,\n",
       " 'phylum': 'Chordata',\n",
       " 'class': 'Mammalia'}"
      ]
     },
     "execution_count": 37,
     "metadata": {},
     "output_type": "execute_result"
    }
   ],
   "source": [
    "taxonomy_data = get_taxonomy_data(record)\n",
    "taxonomy_data"
   ]
  },
  {
   "cell_type": "markdown",
   "id": "16814d33-065d-48d8-a411-1a08a3669aa2",
   "metadata": {},
   "source": [
    "## Adding XP_059734412.1"
   ]
  },
  {
   "cell_type": "code",
   "execution_count": 38,
   "id": "ef2b30f2-5832-4437-b72a-9b383d01b79e",
   "metadata": {
    "tags": []
   },
   "outputs": [
    {
     "data": {
      "text/plain": [
       "{'accession': 'XP_059734412.1',\n",
       " 'variant': 'H2B.N',\n",
       " 'gi': None,\n",
       " 'ncbi_gene_id': None,\n",
       " 'hgnc_gene_name': None,\n",
       " 'taxonomy_id': 9913,\n",
       " 'organism': 'Bos taurus',\n",
       " 'phylum': 'Chordata',\n",
       " 'class': 'Mammalia',\n",
       " 'taxonomy_group': None,\n",
       " 'info': None,\n",
       " 'sequence': 'MYFICLHGLQFPKRKLTIYIPAKEKDEWVHSATGKKRRKKKETYFNYMGKLLKQVHPDFSGCSWILDALRVLEDWQLEWVSLEAVRLSLYNHRRTITSREILEAVKQRCSQKSLGINEVDLHGSVVEMIALVQKQKIGSFGGLS',\n",
       " 'variant_under_consideration': None}"
      ]
     },
     "execution_count": 38,
     "metadata": {},
     "output_type": "execute_result"
    }
   ],
   "source": [
    "data_sequence = {\n",
    "    \"accession\": ACCESSION,\n",
    "    \"variant\": \"H2B.N\",\n",
    "    \"gi\": None,\n",
    "    \"ncbi_gene_id\": None,\n",
    "    \"hgnc_gene_name\": None,\n",
    "    \"taxonomy_id\": None,\n",
    "    \"organism\": None,\n",
    "    \"phylum\": None,\n",
    "    \"class\": None,\n",
    "    \"taxonomy_group\": None,\n",
    "    \"info\": None,\n",
    "    \"sequence\": str(record.seq),\n",
    "    \"variant_under_consideration\": None,\n",
    "}\n",
    "data_sequence.update(taxonomy_data)\n",
    "data_sequence"
   ]
  },
  {
   "cell_type": "code",
   "execution_count": 39,
   "id": "56fecadc-589a-4b0a-9640-b1fc091d9859",
   "metadata": {
    "tags": []
   },
   "outputs": [
    {
     "name": "stdout",
     "output_type": "stream",
     "text": [
      "accession <class 'str'>\n",
      "variant <class 'str'>\n",
      "gi <class 'NoneType'>\n",
      "ncbi_gene_id <class 'NoneType'>\n",
      "hgnc_gene_name <class 'NoneType'>\n",
      "taxonomy_id <class 'int'>\n",
      "organism <class 'str'>\n",
      "phylum <class 'str'>\n",
      "class <class 'str'>\n",
      "taxonomy_group <class 'NoneType'>\n",
      "info <class 'NoneType'>\n",
      "sequence <class 'str'>\n",
      "variant_under_consideration <class 'NoneType'>\n"
     ]
    }
   ],
   "source": [
    "for k, v in data_sequence.items():\n",
    "    print(k, type(v))"
   ]
  },
  {
   "cell_type": "code",
   "execution_count": 40,
   "id": "6dc6444f-5e4e-47c3-9cfb-b0b03661c55d",
   "metadata": {
    "tags": []
   },
   "outputs": [],
   "source": [
    "cursor.execute(add_sequence, data_sequence)"
   ]
  },
  {
   "cell_type": "code",
   "execution_count": 41,
   "id": "96a01e7f-e5f8-4bde-be0d-7ce43443a506",
   "metadata": {
    "tags": []
   },
   "outputs": [
    {
     "data": {
      "text/html": [
       "<div>\n",
       "<style scoped>\n",
       "    .dataframe tbody tr th:only-of-type {\n",
       "        vertical-align: middle;\n",
       "    }\n",
       "\n",
       "    .dataframe tbody tr th {\n",
       "        vertical-align: top;\n",
       "    }\n",
       "\n",
       "    .dataframe thead th {\n",
       "        text-align: right;\n",
       "    }\n",
       "</style>\n",
       "<table border=\"1\" class=\"dataframe\">\n",
       "  <thead>\n",
       "    <tr style=\"text-align: right;\">\n",
       "      <th></th>\n",
       "      <th>accession</th>\n",
       "      <th>variant</th>\n",
       "      <th>gi</th>\n",
       "      <th>ncbi_gene_id</th>\n",
       "      <th>hgnc_gene_name</th>\n",
       "      <th>taxonomy_id</th>\n",
       "      <th>organism</th>\n",
       "      <th>phylum</th>\n",
       "      <th>class</th>\n",
       "      <th>taxonomy_group</th>\n",
       "      <th>info</th>\n",
       "      <th>sequence</th>\n",
       "      <th>variant_under_consideration</th>\n",
       "      <th>sequence_accession</th>\n",
       "      <th>publication_id</th>\n",
       "    </tr>\n",
       "  </thead>\n",
       "  <tbody>\n",
       "    <tr>\n",
       "      <th>0</th>\n",
       "      <td>XP_059734412.1</td>\n",
       "      <td>H2B.N</td>\n",
       "      <td>None</td>\n",
       "      <td>None</td>\n",
       "      <td>None</td>\n",
       "      <td>9913</td>\n",
       "      <td>Bos taurus</td>\n",
       "      <td>Chordata</td>\n",
       "      <td>Mammalia</td>\n",
       "      <td>None</td>\n",
       "      <td>None</td>\n",
       "      <td>MYFICLHGLQFPKRKLTIYIPAKEKDEWVHSATGKKRRKKKETYFN...</td>\n",
       "      <td>None</td>\n",
       "      <td>None</td>\n",
       "      <td>None</td>\n",
       "    </tr>\n",
       "  </tbody>\n",
       "</table>\n",
       "</div>"
      ],
      "text/plain": [
       "        accession variant    gi ncbi_gene_id hgnc_gene_name  taxonomy_id  \\\n",
       "0  XP_059734412.1   H2B.N  None         None           None         9913   \n",
       "\n",
       "     organism    phylum     class taxonomy_group  info  \\\n",
       "0  Bos taurus  Chordata  Mammalia           None  None   \n",
       "\n",
       "                                            sequence  \\\n",
       "0  MYFICLHGLQFPKRKLTIYIPAKEKDEWVHSATGKKRRKKKETYFN...   \n",
       "\n",
       "  variant_under_consideration sequence_accession publication_id  \n",
       "0                        None               None           None  "
      ]
     },
     "execution_count": 41,
     "metadata": {},
     "output_type": "execute_result"
    }
   ],
   "source": [
    "query = (\n",
    "    \"SELECT * FROM sequence s LEFT JOIN sequence_has_publication sp \"\n",
    "    \"ON s.accession = sp.sequence_accession \"\n",
    "    f\"WHERE s.accession='{ACCESSION}'\"\n",
    ")\n",
    "cursor.execute(query)\n",
    "df = pd.DataFrame(cursor.fetchall(), columns=[i[0] for i in cursor.description])\n",
    "df"
   ]
  },
  {
   "cell_type": "markdown",
   "id": "3e57a75c-f498-409a-994c-2a2a5cb4b79c",
   "metadata": {},
   "source": [
    "## Add publication"
   ]
  },
  {
   "cell_type": "code",
   "execution_count": 42,
   "id": "eaa88dff-df92-46e5-b5b5-586b6cb0a0fe",
   "metadata": {
    "tags": []
   },
   "outputs": [
    {
     "data": {
      "text/html": [
       "<div>\n",
       "<style scoped>\n",
       "    .dataframe tbody tr th:only-of-type {\n",
       "        vertical-align: middle;\n",
       "    }\n",
       "\n",
       "    .dataframe tbody tr th {\n",
       "        vertical-align: top;\n",
       "    }\n",
       "\n",
       "    .dataframe thead th {\n",
       "        text-align: right;\n",
       "    }\n",
       "</style>\n",
       "<table border=\"1\" class=\"dataframe\">\n",
       "  <thead>\n",
       "    <tr style=\"text-align: right;\">\n",
       "      <th></th>\n",
       "      <th>id</th>\n",
       "      <th>title</th>\n",
       "      <th>doi</th>\n",
       "      <th>author</th>\n",
       "      <th>year</th>\n",
       "    </tr>\n",
       "  </thead>\n",
       "  <tbody>\n",
       "    <tr>\n",
       "      <th>0</th>\n",
       "      <td>35099534</td>\n",
       "      <td>None</td>\n",
       "      <td>None</td>\n",
       "      <td>None</td>\n",
       "      <td>None</td>\n",
       "    </tr>\n",
       "  </tbody>\n",
       "</table>\n",
       "</div>"
      ],
      "text/plain": [
       "         id title   doi author  year\n",
       "0  35099534  None  None   None  None"
      ]
     },
     "execution_count": 42,
     "metadata": {},
     "output_type": "execute_result"
    }
   ],
   "source": [
    "pid = \"35099534\"\n",
    "query = \"SELECT * FROM publication WHERE id='35099534'\"\n",
    "cursor.execute(query)\n",
    "pd.DataFrame(cursor.fetchall(), columns=[i[0] for i in cursor.description])"
   ]
  },
  {
   "cell_type": "code",
   "execution_count": 43,
   "id": "05fda0f2-24c4-44e8-899e-1a77cef1644f",
   "metadata": {
    "tags": []
   },
   "outputs": [],
   "source": [
    "cursor.execute(add_sequence_has_publication, (ACCESSION, pid))"
   ]
  },
  {
   "cell_type": "code",
   "execution_count": 44,
   "id": "24f9c495-4649-46e4-89a6-d88252f57df5",
   "metadata": {
    "tags": []
   },
   "outputs": [
    {
     "data": {
      "text/html": [
       "<div>\n",
       "<style scoped>\n",
       "    .dataframe tbody tr th:only-of-type {\n",
       "        vertical-align: middle;\n",
       "    }\n",
       "\n",
       "    .dataframe tbody tr th {\n",
       "        vertical-align: top;\n",
       "    }\n",
       "\n",
       "    .dataframe thead th {\n",
       "        text-align: right;\n",
       "    }\n",
       "</style>\n",
       "<table border=\"1\" class=\"dataframe\">\n",
       "  <thead>\n",
       "    <tr style=\"text-align: right;\">\n",
       "      <th></th>\n",
       "      <th>accession</th>\n",
       "      <th>variant</th>\n",
       "      <th>gi</th>\n",
       "      <th>ncbi_gene_id</th>\n",
       "      <th>hgnc_gene_name</th>\n",
       "      <th>taxonomy_id</th>\n",
       "      <th>organism</th>\n",
       "      <th>phylum</th>\n",
       "      <th>class</th>\n",
       "      <th>taxonomy_group</th>\n",
       "      <th>info</th>\n",
       "      <th>sequence</th>\n",
       "      <th>variant_under_consideration</th>\n",
       "      <th>sequence_accession</th>\n",
       "      <th>publication_id</th>\n",
       "    </tr>\n",
       "  </thead>\n",
       "  <tbody>\n",
       "    <tr>\n",
       "      <th>0</th>\n",
       "      <td>XP_059734412.1</td>\n",
       "      <td>H2B.N</td>\n",
       "      <td>None</td>\n",
       "      <td>None</td>\n",
       "      <td>None</td>\n",
       "      <td>9913</td>\n",
       "      <td>Bos taurus</td>\n",
       "      <td>Chordata</td>\n",
       "      <td>Mammalia</td>\n",
       "      <td>None</td>\n",
       "      <td>None</td>\n",
       "      <td>MYFICLHGLQFPKRKLTIYIPAKEKDEWVHSATGKKRRKKKETYFN...</td>\n",
       "      <td>None</td>\n",
       "      <td>XP_059734412.1</td>\n",
       "      <td>35099534</td>\n",
       "    </tr>\n",
       "  </tbody>\n",
       "</table>\n",
       "</div>"
      ],
      "text/plain": [
       "        accession variant    gi ncbi_gene_id hgnc_gene_name  taxonomy_id  \\\n",
       "0  XP_059734412.1   H2B.N  None         None           None         9913   \n",
       "\n",
       "     organism    phylum     class taxonomy_group  info  \\\n",
       "0  Bos taurus  Chordata  Mammalia           None  None   \n",
       "\n",
       "                                            sequence  \\\n",
       "0  MYFICLHGLQFPKRKLTIYIPAKEKDEWVHSATGKKRRKKKETYFN...   \n",
       "\n",
       "  variant_under_consideration sequence_accession publication_id  \n",
       "0                        None     XP_059734412.1       35099534  "
      ]
     },
     "execution_count": 44,
     "metadata": {},
     "output_type": "execute_result"
    }
   ],
   "source": [
    "query = (\n",
    "    \"SELECT * FROM sequence s LEFT JOIN sequence_has_publication sp \"\n",
    "    \"ON s.accession = sp.sequence_accession \"\n",
    "    f\"WHERE s.accession='{ACCESSION}'\"\n",
    ")\n",
    "cursor.execute(query)\n",
    "df = pd.DataFrame(cursor.fetchall(), columns=[i[0] for i in cursor.description])\n",
    "df"
   ]
  },
  {
   "cell_type": "code",
   "execution_count": 45,
   "id": "14326993-c609-4424-a80e-a9bbf1fcec45",
   "metadata": {
    "tags": []
   },
   "outputs": [
    {
     "data": {
      "text/html": [
       "<div>\n",
       "<style scoped>\n",
       "    .dataframe tbody tr th:only-of-type {\n",
       "        vertical-align: middle;\n",
       "    }\n",
       "\n",
       "    .dataframe tbody tr th {\n",
       "        vertical-align: top;\n",
       "    }\n",
       "\n",
       "    .dataframe thead th {\n",
       "        text-align: right;\n",
       "    }\n",
       "</style>\n",
       "<table border=\"1\" class=\"dataframe\">\n",
       "  <thead>\n",
       "    <tr style=\"text-align: right;\">\n",
       "      <th></th>\n",
       "      <th>accession</th>\n",
       "      <th>variant</th>\n",
       "      <th>gi</th>\n",
       "      <th>ncbi_gene_id</th>\n",
       "      <th>hgnc_gene_name</th>\n",
       "      <th>taxonomy_id</th>\n",
       "      <th>organism</th>\n",
       "      <th>phylum</th>\n",
       "      <th>class</th>\n",
       "      <th>taxonomy_group</th>\n",
       "      <th>info</th>\n",
       "      <th>sequence</th>\n",
       "      <th>variant_under_consideration</th>\n",
       "      <th>sequence_accession</th>\n",
       "      <th>publication_id</th>\n",
       "    </tr>\n",
       "  </thead>\n",
       "  <tbody>\n",
       "    <tr>\n",
       "      <th>0</th>\n",
       "      <td>HISTDB_H2B_N_0</td>\n",
       "      <td>H2B.N</td>\n",
       "      <td>None</td>\n",
       "      <td>None</td>\n",
       "      <td>None</td>\n",
       "      <td>9940</td>\n",
       "      <td>Ovis aries</td>\n",
       "      <td>Chordata</td>\n",
       "      <td>Mammalia</td>\n",
       "      <td>None</td>\n",
       "      <td>None</td>\n",
       "      <td>MHFICLHGLQFPKRKLTISIPAKEKDEWVHSATGKKRRKKKEAYFN...</td>\n",
       "      <td>None</td>\n",
       "      <td>HISTDB_H2B_N_0</td>\n",
       "      <td>35099534</td>\n",
       "    </tr>\n",
       "    <tr>\n",
       "      <th>1</th>\n",
       "      <td>XP_059734412.1</td>\n",
       "      <td>H2B.N</td>\n",
       "      <td>None</td>\n",
       "      <td>None</td>\n",
       "      <td>None</td>\n",
       "      <td>9913</td>\n",
       "      <td>Bos taurus</td>\n",
       "      <td>Chordata</td>\n",
       "      <td>Mammalia</td>\n",
       "      <td>None</td>\n",
       "      <td>None</td>\n",
       "      <td>MYFICLHGLQFPKRKLTIYIPAKEKDEWVHSATGKKRRKKKETYFN...</td>\n",
       "      <td>None</td>\n",
       "      <td>XP_059734412.1</td>\n",
       "      <td>35099534</td>\n",
       "    </tr>\n",
       "    <tr>\n",
       "      <th>2</th>\n",
       "      <td>XP_060251208.1</td>\n",
       "      <td>H2B.N</td>\n",
       "      <td>None</td>\n",
       "      <td>None</td>\n",
       "      <td>None</td>\n",
       "      <td>9940</td>\n",
       "      <td>Ovis aries</td>\n",
       "      <td>Chordata</td>\n",
       "      <td>Mammalia</td>\n",
       "      <td>None</td>\n",
       "      <td>None</td>\n",
       "      <td>MHFICLHGLQFPKRKLTISIPAKEKDEWVHSATGKKRRKKKEAYFN...</td>\n",
       "      <td>None</td>\n",
       "      <td>XP_060251208.1</td>\n",
       "      <td>35099534</td>\n",
       "    </tr>\n",
       "  </tbody>\n",
       "</table>\n",
       "</div>"
      ],
      "text/plain": [
       "        accession variant    gi ncbi_gene_id hgnc_gene_name  taxonomy_id  \\\n",
       "0  HISTDB_H2B_N_0   H2B.N  None         None           None         9940   \n",
       "1  XP_059734412.1   H2B.N  None         None           None         9913   \n",
       "2  XP_060251208.1   H2B.N  None         None           None         9940   \n",
       "\n",
       "     organism    phylum     class taxonomy_group  info  \\\n",
       "0  Ovis aries  Chordata  Mammalia           None  None   \n",
       "1  Bos taurus  Chordata  Mammalia           None  None   \n",
       "2  Ovis aries  Chordata  Mammalia           None  None   \n",
       "\n",
       "                                            sequence  \\\n",
       "0  MHFICLHGLQFPKRKLTISIPAKEKDEWVHSATGKKRRKKKEAYFN...   \n",
       "1  MYFICLHGLQFPKRKLTIYIPAKEKDEWVHSATGKKRRKKKETYFN...   \n",
       "2  MHFICLHGLQFPKRKLTISIPAKEKDEWVHSATGKKRRKKKEAYFN...   \n",
       "\n",
       "  variant_under_consideration sequence_accession publication_id  \n",
       "0                        None     HISTDB_H2B_N_0       35099534  \n",
       "1                        None     XP_059734412.1       35099534  \n",
       "2                        None     XP_060251208.1       35099534  "
      ]
     },
     "execution_count": 45,
     "metadata": {},
     "output_type": "execute_result"
    }
   ],
   "source": [
    "query = (\n",
    "    \"SELECT * FROM sequence s LEFT JOIN sequence_has_publication sp \"\n",
    "    \"ON s.accession = sp.sequence_accession \"\n",
    "    f\"WHERE s.variant='H2B.N'\"\n",
    ")\n",
    "cursor.execute(query)\n",
    "df = pd.DataFrame(cursor.fetchall(), columns=[i[0] for i in cursor.description])\n",
    "df"
   ]
  },
  {
   "cell_type": "markdown",
   "id": "b25c4087-b22f-48ab-9bbe-f5406a542fff",
   "metadata": {},
   "source": [
    "## Accession XP_059746706.1"
   ]
  },
  {
   "cell_type": "code",
   "execution_count": 46,
   "id": "b982ac55-1a27-47d2-ac41-5cc21f919517",
   "metadata": {
    "tags": []
   },
   "outputs": [],
   "source": [
    "ACCESSION = \"XP_059746706.1\""
   ]
  },
  {
   "cell_type": "markdown",
   "id": "7e87a44e-8e30-4883-8286-2e17713dc66d",
   "metadata": {
    "tags": []
   },
   "source": [
    "## Get sequence XP_059746706.1 from NCBI"
   ]
  },
  {
   "cell_type": "code",
   "execution_count": 47,
   "id": "bce64968-0ce0-40ea-bcf3-8137756be761",
   "metadata": {
    "tags": []
   },
   "outputs": [
    {
     "name": "stdout",
     "output_type": "stream",
     "text": [
      "ID: XP_059746706.1\n",
      "Name: XP_059746706\n",
      "Description: histone H2A.N-like [Bos taurus]\n",
      "Database cross-references: BioProject:PRJNA450837\n",
      "Number of features: 4\n",
      "/topology=linear\n",
      "/data_file_division=MAM\n",
      "/date=03-OCT-2023\n",
      "/accessions=['XP_059746706']\n",
      "/sequence_version=1\n",
      "/db_source=REFSEQ: accession XM_059890723.1\n",
      "/keywords=['RefSeq']\n",
      "/source=Bos taurus (domestic cattle)\n",
      "/organism=Bos taurus\n",
      "/taxonomy=['Eukaryota', 'Metazoa', 'Chordata', 'Craniata', 'Vertebrata', 'Euteleostomi', 'Mammalia', 'Eutheria', 'Laurasiatheria', 'Artiodactyla', 'Ruminantia', 'Pecora', 'Bovidae', 'Bovinae', 'Bos']\n",
      "/comment=MODEL REFSEQ:  This record is predicted by automated computational\n",
      "analysis. This record is derived from a genomic sequence\n",
      "(NC_037337.1) annotated using gene prediction method: Gnomon.\n",
      "Also see:\n",
      "    Documentation of NCBI's Annotation Process\n",
      "COMPLETENESS: full length.\n",
      "/structured_comment=OrderedDict([('Genome-Annotation-Data', OrderedDict([('Annotation Provider', 'NCBI RefSeq'), ('Annotation Status', 'Full annotation'), ('Annotation Name', 'GCF_002263795.3-RS_2023_09'), ('Annotation Pipeline', 'NCBI eukaryotic genome annotation pipeline'), ('Annotation Software Version', '10.2'), ('Annotation Method', 'Best-placed RefSeq; Gnomon; cmsearch; tRNAscan-SE'), ('Features Annotated', 'Gene; mRNA; CDS; ncRNA'), ('Annotation Date', '09/28/2023')]))])\n",
      "/molecule_type=protein\n",
      "Seq('MHFICLHGLQFPKRKLTIYIPAKEKDEWVCSATGKKRRKKKEAYFNYMEKLLKQ...GLS')\n"
     ]
    }
   ],
   "source": [
    "with Entrez.efetch(\n",
    "    db=\"protein\", id=ACCESSION, rettype=\"gb\", retmode=\"text\"\n",
    ") as handle:\n",
    "    record = SeqIO.read(handle, \"genbank\")\n",
    "    print(record)"
   ]
  },
  {
   "cell_type": "code",
   "execution_count": 48,
   "id": "2644785c-ecf9-420c-a056-ab0aee2ca9d8",
   "metadata": {
    "tags": []
   },
   "outputs": [
    {
     "data": {
      "text/plain": [
       "'MHFICLHGLQFPKRKLTIYIPAKEKDEWVCSATGKKRRKKKEAYFNYMEKLLKQVHPDFSGCSWILDALRVLEDWQLEWVSLEAVRLSFYNHRRTITTKEILKAVKQRCSQKSLGINEVDLHGSVVEMIALVQKQKIGSFGGLS'"
      ]
     },
     "execution_count": 48,
     "metadata": {},
     "output_type": "execute_result"
    }
   ],
   "source": [
    "str(record.seq)"
   ]
  },
  {
   "cell_type": "code",
   "execution_count": 49,
   "id": "31004396-8912-4fce-bf5e-c51f87d0a634",
   "metadata": {
    "tags": []
   },
   "outputs": [
    {
     "data": {
      "text/plain": [
       "'Bos taurus'"
      ]
     },
     "execution_count": 49,
     "metadata": {},
     "output_type": "execute_result"
    }
   ],
   "source": [
    "record.annotations[\"organism\"]"
   ]
  },
  {
   "cell_type": "code",
   "execution_count": 50,
   "id": "46b6e82f-ba4d-46ef-9420-effa564137d9",
   "metadata": {
    "tags": []
   },
   "outputs": [
    {
     "name": "stdout",
     "output_type": "stream",
     "text": [
      "Fetched taxid from NCBI <built-in function id>\n"
     ]
    },
    {
     "data": {
      "text/plain": [
       "{'organism': 'Bos taurus',\n",
       " 'taxonomy_id': 9913,\n",
       " 'phylum': 'Chordata',\n",
       " 'class': 'Mammalia'}"
      ]
     },
     "execution_count": 50,
     "metadata": {},
     "output_type": "execute_result"
    }
   ],
   "source": [
    "taxonomy_data = get_taxonomy_data(record)\n",
    "taxonomy_data"
   ]
  },
  {
   "cell_type": "markdown",
   "id": "6e0d9e1b-4323-4aca-8441-92e71dead4cd",
   "metadata": {},
   "source": [
    "## Adding XP_059746706.1"
   ]
  },
  {
   "cell_type": "code",
   "execution_count": 51,
   "id": "9e2716eb-6e0f-49ac-bb34-598f95c6967d",
   "metadata": {
    "tags": []
   },
   "outputs": [
    {
     "data": {
      "text/plain": [
       "{'accession': 'XP_059746706.1',\n",
       " 'variant': 'H2B.N',\n",
       " 'gi': None,\n",
       " 'ncbi_gene_id': None,\n",
       " 'hgnc_gene_name': None,\n",
       " 'taxonomy_id': 9913,\n",
       " 'organism': 'Bos taurus',\n",
       " 'phylum': 'Chordata',\n",
       " 'class': 'Mammalia',\n",
       " 'taxonomy_group': None,\n",
       " 'info': None,\n",
       " 'sequence': 'MHFICLHGLQFPKRKLTIYIPAKEKDEWVCSATGKKRRKKKEAYFNYMEKLLKQVHPDFSGCSWILDALRVLEDWQLEWVSLEAVRLSFYNHRRTITTKEILKAVKQRCSQKSLGINEVDLHGSVVEMIALVQKQKIGSFGGLS',\n",
       " 'variant_under_consideration': None}"
      ]
     },
     "execution_count": 51,
     "metadata": {},
     "output_type": "execute_result"
    }
   ],
   "source": [
    "data_sequence = {\n",
    "    \"accession\": ACCESSION,\n",
    "    \"variant\": \"H2B.N\",\n",
    "    \"gi\": None,\n",
    "    \"ncbi_gene_id\": None,\n",
    "    \"hgnc_gene_name\": None,\n",
    "    \"taxonomy_id\": None,\n",
    "    \"organism\": None,\n",
    "    \"phylum\": None,\n",
    "    \"class\": None,\n",
    "    \"taxonomy_group\": None,\n",
    "    \"info\": None,\n",
    "    \"sequence\": str(record.seq),\n",
    "    \"variant_under_consideration\": None,\n",
    "}\n",
    "data_sequence.update(taxonomy_data)\n",
    "data_sequence"
   ]
  },
  {
   "cell_type": "code",
   "execution_count": 52,
   "id": "c2579287-f051-4e9f-8214-7d2ac015ce49",
   "metadata": {
    "tags": []
   },
   "outputs": [
    {
     "name": "stdout",
     "output_type": "stream",
     "text": [
      "accession <class 'str'>\n",
      "variant <class 'str'>\n",
      "gi <class 'NoneType'>\n",
      "ncbi_gene_id <class 'NoneType'>\n",
      "hgnc_gene_name <class 'NoneType'>\n",
      "taxonomy_id <class 'int'>\n",
      "organism <class 'str'>\n",
      "phylum <class 'str'>\n",
      "class <class 'str'>\n",
      "taxonomy_group <class 'NoneType'>\n",
      "info <class 'NoneType'>\n",
      "sequence <class 'str'>\n",
      "variant_under_consideration <class 'NoneType'>\n"
     ]
    }
   ],
   "source": [
    "for k, v in data_sequence.items():\n",
    "    print(k, type(v))"
   ]
  },
  {
   "cell_type": "code",
   "execution_count": 53,
   "id": "81a87817-52bc-42d0-8786-4be402a88186",
   "metadata": {
    "tags": []
   },
   "outputs": [],
   "source": [
    "cursor.execute(add_sequence, data_sequence)"
   ]
  },
  {
   "cell_type": "code",
   "execution_count": 54,
   "id": "e37c14e7-2169-4634-b210-958dbfa26fc7",
   "metadata": {
    "tags": []
   },
   "outputs": [
    {
     "data": {
      "text/html": [
       "<div>\n",
       "<style scoped>\n",
       "    .dataframe tbody tr th:only-of-type {\n",
       "        vertical-align: middle;\n",
       "    }\n",
       "\n",
       "    .dataframe tbody tr th {\n",
       "        vertical-align: top;\n",
       "    }\n",
       "\n",
       "    .dataframe thead th {\n",
       "        text-align: right;\n",
       "    }\n",
       "</style>\n",
       "<table border=\"1\" class=\"dataframe\">\n",
       "  <thead>\n",
       "    <tr style=\"text-align: right;\">\n",
       "      <th></th>\n",
       "      <th>accession</th>\n",
       "      <th>variant</th>\n",
       "      <th>gi</th>\n",
       "      <th>ncbi_gene_id</th>\n",
       "      <th>hgnc_gene_name</th>\n",
       "      <th>taxonomy_id</th>\n",
       "      <th>organism</th>\n",
       "      <th>phylum</th>\n",
       "      <th>class</th>\n",
       "      <th>taxonomy_group</th>\n",
       "      <th>info</th>\n",
       "      <th>sequence</th>\n",
       "      <th>variant_under_consideration</th>\n",
       "      <th>sequence_accession</th>\n",
       "      <th>publication_id</th>\n",
       "    </tr>\n",
       "  </thead>\n",
       "  <tbody>\n",
       "    <tr>\n",
       "      <th>0</th>\n",
       "      <td>XP_059746706.1</td>\n",
       "      <td>H2B.N</td>\n",
       "      <td>None</td>\n",
       "      <td>None</td>\n",
       "      <td>None</td>\n",
       "      <td>9913</td>\n",
       "      <td>Bos taurus</td>\n",
       "      <td>Chordata</td>\n",
       "      <td>Mammalia</td>\n",
       "      <td>None</td>\n",
       "      <td>None</td>\n",
       "      <td>MHFICLHGLQFPKRKLTIYIPAKEKDEWVCSATGKKRRKKKEAYFN...</td>\n",
       "      <td>None</td>\n",
       "      <td>None</td>\n",
       "      <td>None</td>\n",
       "    </tr>\n",
       "  </tbody>\n",
       "</table>\n",
       "</div>"
      ],
      "text/plain": [
       "        accession variant    gi ncbi_gene_id hgnc_gene_name  taxonomy_id  \\\n",
       "0  XP_059746706.1   H2B.N  None         None           None         9913   \n",
       "\n",
       "     organism    phylum     class taxonomy_group  info  \\\n",
       "0  Bos taurus  Chordata  Mammalia           None  None   \n",
       "\n",
       "                                            sequence  \\\n",
       "0  MHFICLHGLQFPKRKLTIYIPAKEKDEWVCSATGKKRRKKKEAYFN...   \n",
       "\n",
       "  variant_under_consideration sequence_accession publication_id  \n",
       "0                        None               None           None  "
      ]
     },
     "execution_count": 54,
     "metadata": {},
     "output_type": "execute_result"
    }
   ],
   "source": [
    "query = (\n",
    "    \"SELECT * FROM sequence s LEFT JOIN sequence_has_publication sp \"\n",
    "    \"ON s.accession = sp.sequence_accession \"\n",
    "    f\"WHERE s.accession='{ACCESSION}'\"\n",
    ")\n",
    "cursor.execute(query)\n",
    "df = pd.DataFrame(cursor.fetchall(), columns=[i[0] for i in cursor.description])\n",
    "df"
   ]
  },
  {
   "cell_type": "markdown",
   "id": "dd890bbe-f361-4931-8245-425590cae8de",
   "metadata": {},
   "source": [
    "## Add publication"
   ]
  },
  {
   "cell_type": "code",
   "execution_count": 55,
   "id": "cba1bb7c-9b00-4ffb-8964-adc461aa7086",
   "metadata": {
    "tags": []
   },
   "outputs": [
    {
     "data": {
      "text/html": [
       "<div>\n",
       "<style scoped>\n",
       "    .dataframe tbody tr th:only-of-type {\n",
       "        vertical-align: middle;\n",
       "    }\n",
       "\n",
       "    .dataframe tbody tr th {\n",
       "        vertical-align: top;\n",
       "    }\n",
       "\n",
       "    .dataframe thead th {\n",
       "        text-align: right;\n",
       "    }\n",
       "</style>\n",
       "<table border=\"1\" class=\"dataframe\">\n",
       "  <thead>\n",
       "    <tr style=\"text-align: right;\">\n",
       "      <th></th>\n",
       "      <th>id</th>\n",
       "      <th>title</th>\n",
       "      <th>doi</th>\n",
       "      <th>author</th>\n",
       "      <th>year</th>\n",
       "    </tr>\n",
       "  </thead>\n",
       "  <tbody>\n",
       "    <tr>\n",
       "      <th>0</th>\n",
       "      <td>35099534</td>\n",
       "      <td>None</td>\n",
       "      <td>None</td>\n",
       "      <td>None</td>\n",
       "      <td>None</td>\n",
       "    </tr>\n",
       "  </tbody>\n",
       "</table>\n",
       "</div>"
      ],
      "text/plain": [
       "         id title   doi author  year\n",
       "0  35099534  None  None   None  None"
      ]
     },
     "execution_count": 55,
     "metadata": {},
     "output_type": "execute_result"
    }
   ],
   "source": [
    "pid = \"35099534\"\n",
    "query = \"SELECT * FROM publication WHERE id='35099534'\"\n",
    "cursor.execute(query)\n",
    "pd.DataFrame(cursor.fetchall(), columns=[i[0] for i in cursor.description])"
   ]
  },
  {
   "cell_type": "code",
   "execution_count": 56,
   "id": "f0cbaee3-9b61-4992-a1ab-c7c9cb9f2177",
   "metadata": {
    "tags": []
   },
   "outputs": [],
   "source": [
    "cursor.execute(add_sequence_has_publication, (ACCESSION, pid))"
   ]
  },
  {
   "cell_type": "code",
   "execution_count": 57,
   "id": "06a93dc0-cfd2-4158-b77f-a6c2e97d5528",
   "metadata": {
    "tags": []
   },
   "outputs": [
    {
     "data": {
      "text/html": [
       "<div>\n",
       "<style scoped>\n",
       "    .dataframe tbody tr th:only-of-type {\n",
       "        vertical-align: middle;\n",
       "    }\n",
       "\n",
       "    .dataframe tbody tr th {\n",
       "        vertical-align: top;\n",
       "    }\n",
       "\n",
       "    .dataframe thead th {\n",
       "        text-align: right;\n",
       "    }\n",
       "</style>\n",
       "<table border=\"1\" class=\"dataframe\">\n",
       "  <thead>\n",
       "    <tr style=\"text-align: right;\">\n",
       "      <th></th>\n",
       "      <th>accession</th>\n",
       "      <th>variant</th>\n",
       "      <th>gi</th>\n",
       "      <th>ncbi_gene_id</th>\n",
       "      <th>hgnc_gene_name</th>\n",
       "      <th>taxonomy_id</th>\n",
       "      <th>organism</th>\n",
       "      <th>phylum</th>\n",
       "      <th>class</th>\n",
       "      <th>taxonomy_group</th>\n",
       "      <th>info</th>\n",
       "      <th>sequence</th>\n",
       "      <th>variant_under_consideration</th>\n",
       "      <th>sequence_accession</th>\n",
       "      <th>publication_id</th>\n",
       "    </tr>\n",
       "  </thead>\n",
       "  <tbody>\n",
       "    <tr>\n",
       "      <th>0</th>\n",
       "      <td>XP_059746706.1</td>\n",
       "      <td>H2B.N</td>\n",
       "      <td>None</td>\n",
       "      <td>None</td>\n",
       "      <td>None</td>\n",
       "      <td>9913</td>\n",
       "      <td>Bos taurus</td>\n",
       "      <td>Chordata</td>\n",
       "      <td>Mammalia</td>\n",
       "      <td>None</td>\n",
       "      <td>None</td>\n",
       "      <td>MHFICLHGLQFPKRKLTIYIPAKEKDEWVCSATGKKRRKKKEAYFN...</td>\n",
       "      <td>None</td>\n",
       "      <td>XP_059746706.1</td>\n",
       "      <td>35099534</td>\n",
       "    </tr>\n",
       "  </tbody>\n",
       "</table>\n",
       "</div>"
      ],
      "text/plain": [
       "        accession variant    gi ncbi_gene_id hgnc_gene_name  taxonomy_id  \\\n",
       "0  XP_059746706.1   H2B.N  None         None           None         9913   \n",
       "\n",
       "     organism    phylum     class taxonomy_group  info  \\\n",
       "0  Bos taurus  Chordata  Mammalia           None  None   \n",
       "\n",
       "                                            sequence  \\\n",
       "0  MHFICLHGLQFPKRKLTIYIPAKEKDEWVCSATGKKRRKKKEAYFN...   \n",
       "\n",
       "  variant_under_consideration sequence_accession publication_id  \n",
       "0                        None     XP_059746706.1       35099534  "
      ]
     },
     "execution_count": 57,
     "metadata": {},
     "output_type": "execute_result"
    }
   ],
   "source": [
    "query = (\n",
    "    \"SELECT * FROM sequence s LEFT JOIN sequence_has_publication sp \"\n",
    "    \"ON s.accession = sp.sequence_accession \"\n",
    "    f\"WHERE s.accession='{ACCESSION}'\"\n",
    ")\n",
    "cursor.execute(query)\n",
    "df = pd.DataFrame(cursor.fetchall(), columns=[i[0] for i in cursor.description])\n",
    "df"
   ]
  },
  {
   "cell_type": "code",
   "execution_count": 58,
   "id": "d70834b1-cbff-4f3f-ae98-651aa7b68e34",
   "metadata": {
    "tags": []
   },
   "outputs": [
    {
     "data": {
      "text/html": [
       "<div>\n",
       "<style scoped>\n",
       "    .dataframe tbody tr th:only-of-type {\n",
       "        vertical-align: middle;\n",
       "    }\n",
       "\n",
       "    .dataframe tbody tr th {\n",
       "        vertical-align: top;\n",
       "    }\n",
       "\n",
       "    .dataframe thead th {\n",
       "        text-align: right;\n",
       "    }\n",
       "</style>\n",
       "<table border=\"1\" class=\"dataframe\">\n",
       "  <thead>\n",
       "    <tr style=\"text-align: right;\">\n",
       "      <th></th>\n",
       "      <th>accession</th>\n",
       "      <th>variant</th>\n",
       "      <th>gi</th>\n",
       "      <th>ncbi_gene_id</th>\n",
       "      <th>hgnc_gene_name</th>\n",
       "      <th>taxonomy_id</th>\n",
       "      <th>organism</th>\n",
       "      <th>phylum</th>\n",
       "      <th>class</th>\n",
       "      <th>taxonomy_group</th>\n",
       "      <th>info</th>\n",
       "      <th>sequence</th>\n",
       "      <th>variant_under_consideration</th>\n",
       "      <th>sequence_accession</th>\n",
       "      <th>publication_id</th>\n",
       "    </tr>\n",
       "  </thead>\n",
       "  <tbody>\n",
       "    <tr>\n",
       "      <th>0</th>\n",
       "      <td>HISTDB_H2B_N_0</td>\n",
       "      <td>H2B.N</td>\n",
       "      <td>None</td>\n",
       "      <td>None</td>\n",
       "      <td>None</td>\n",
       "      <td>9940</td>\n",
       "      <td>Ovis aries</td>\n",
       "      <td>Chordata</td>\n",
       "      <td>Mammalia</td>\n",
       "      <td>None</td>\n",
       "      <td>None</td>\n",
       "      <td>MHFICLHGLQFPKRKLTISIPAKEKDEWVHSATGKKRRKKKEAYFN...</td>\n",
       "      <td>None</td>\n",
       "      <td>HISTDB_H2B_N_0</td>\n",
       "      <td>35099534</td>\n",
       "    </tr>\n",
       "    <tr>\n",
       "      <th>1</th>\n",
       "      <td>XP_059734412.1</td>\n",
       "      <td>H2B.N</td>\n",
       "      <td>None</td>\n",
       "      <td>None</td>\n",
       "      <td>None</td>\n",
       "      <td>9913</td>\n",
       "      <td>Bos taurus</td>\n",
       "      <td>Chordata</td>\n",
       "      <td>Mammalia</td>\n",
       "      <td>None</td>\n",
       "      <td>None</td>\n",
       "      <td>MYFICLHGLQFPKRKLTIYIPAKEKDEWVHSATGKKRRKKKETYFN...</td>\n",
       "      <td>None</td>\n",
       "      <td>XP_059734412.1</td>\n",
       "      <td>35099534</td>\n",
       "    </tr>\n",
       "    <tr>\n",
       "      <th>2</th>\n",
       "      <td>XP_059746706.1</td>\n",
       "      <td>H2B.N</td>\n",
       "      <td>None</td>\n",
       "      <td>None</td>\n",
       "      <td>None</td>\n",
       "      <td>9913</td>\n",
       "      <td>Bos taurus</td>\n",
       "      <td>Chordata</td>\n",
       "      <td>Mammalia</td>\n",
       "      <td>None</td>\n",
       "      <td>None</td>\n",
       "      <td>MHFICLHGLQFPKRKLTIYIPAKEKDEWVCSATGKKRRKKKEAYFN...</td>\n",
       "      <td>None</td>\n",
       "      <td>XP_059746706.1</td>\n",
       "      <td>35099534</td>\n",
       "    </tr>\n",
       "    <tr>\n",
       "      <th>3</th>\n",
       "      <td>XP_060251208.1</td>\n",
       "      <td>H2B.N</td>\n",
       "      <td>None</td>\n",
       "      <td>None</td>\n",
       "      <td>None</td>\n",
       "      <td>9940</td>\n",
       "      <td>Ovis aries</td>\n",
       "      <td>Chordata</td>\n",
       "      <td>Mammalia</td>\n",
       "      <td>None</td>\n",
       "      <td>None</td>\n",
       "      <td>MHFICLHGLQFPKRKLTISIPAKEKDEWVHSATGKKRRKKKEAYFN...</td>\n",
       "      <td>None</td>\n",
       "      <td>XP_060251208.1</td>\n",
       "      <td>35099534</td>\n",
       "    </tr>\n",
       "  </tbody>\n",
       "</table>\n",
       "</div>"
      ],
      "text/plain": [
       "        accession variant    gi ncbi_gene_id hgnc_gene_name  taxonomy_id  \\\n",
       "0  HISTDB_H2B_N_0   H2B.N  None         None           None         9940   \n",
       "1  XP_059734412.1   H2B.N  None         None           None         9913   \n",
       "2  XP_059746706.1   H2B.N  None         None           None         9913   \n",
       "3  XP_060251208.1   H2B.N  None         None           None         9940   \n",
       "\n",
       "     organism    phylum     class taxonomy_group  info  \\\n",
       "0  Ovis aries  Chordata  Mammalia           None  None   \n",
       "1  Bos taurus  Chordata  Mammalia           None  None   \n",
       "2  Bos taurus  Chordata  Mammalia           None  None   \n",
       "3  Ovis aries  Chordata  Mammalia           None  None   \n",
       "\n",
       "                                            sequence  \\\n",
       "0  MHFICLHGLQFPKRKLTISIPAKEKDEWVHSATGKKRRKKKEAYFN...   \n",
       "1  MYFICLHGLQFPKRKLTIYIPAKEKDEWVHSATGKKRRKKKETYFN...   \n",
       "2  MHFICLHGLQFPKRKLTIYIPAKEKDEWVCSATGKKRRKKKEAYFN...   \n",
       "3  MHFICLHGLQFPKRKLTISIPAKEKDEWVHSATGKKRRKKKEAYFN...   \n",
       "\n",
       "  variant_under_consideration sequence_accession publication_id  \n",
       "0                        None     HISTDB_H2B_N_0       35099534  \n",
       "1                        None     XP_059734412.1       35099534  \n",
       "2                        None     XP_059746706.1       35099534  \n",
       "3                        None     XP_060251208.1       35099534  "
      ]
     },
     "execution_count": 58,
     "metadata": {},
     "output_type": "execute_result"
    }
   ],
   "source": [
    "query = (\n",
    "    \"SELECT * FROM sequence s LEFT JOIN sequence_has_publication sp \"\n",
    "    \"ON s.accession = sp.sequence_accession \"\n",
    "    f\"WHERE s.variant='H2B.N'\"\n",
    ")\n",
    "cursor.execute(query)\n",
    "df = pd.DataFrame(cursor.fetchall(), columns=[i[0] for i in cursor.description])\n",
    "df"
   ]
  },
  {
   "cell_type": "code",
   "execution_count": 59,
   "id": "3734db4e-1294-4008-89cb-ed7627f39166",
   "metadata": {
    "tags": []
   },
   "outputs": [],
   "source": [
    "# Make sure data is committed to the database\n",
    "conn.commit()"
   ]
  },
  {
   "cell_type": "markdown",
   "id": "fa75c0c9-6f7f-4d63-9aae-a6d4be9676db",
   "metadata": {
    "jp-MarkdownHeadingCollapsed": true,
    "tags": []
   },
   "source": [
    "# Add white rhinocerous H2B.N\n",
    "\n",
    "**Atricle:** https://academic.oup.com/mbe/article/39/2/msac019/6517784#333890704\n",
    "\n",
    "**Gene:** Ceratotherium simum, cerSim1, JH767835, +-, 2022797-2025311\n",
    "\n",
    "**Sequence from article:**\n",
    "```fasta\n",
    ">Rhino_H2B.N\n",
    "MYFICLRGLRFPKKTTNYILAKKKYEWTSSAIGKKRRRKKKEAYFSYMGKILEQIAHYRKLSRLCLILVPFLPRPTQTSVGAPGSWMHWALEAWRLEWVSLEAVRLSFCNHRRAVTSREILEAVKRRSSWKSF\n",
    "```\n",
    "\n",
    "BLASTP has NO results."
   ]
  },
  {
   "cell_type": "code",
   "execution_count": 60,
   "id": "f89677a9-11d1-4a42-9b9d-91b09b766343",
   "metadata": {
    "tags": []
   },
   "outputs": [],
   "source": [
    "ACCESSION = \"HISTDB_H2B_N_1\""
   ]
  },
  {
   "cell_type": "markdown",
   "id": "7bb4b74f-7a59-47ff-b142-32e81b2fd9be",
   "metadata": {
    "tags": []
   },
   "source": [
    "## Adding HISTDB_H2B_N_1"
   ]
  },
  {
   "cell_type": "code",
   "execution_count": 62,
   "id": "f2a72b04-6c15-43e2-bc36-d753d08e3aca",
   "metadata": {
    "tags": []
   },
   "outputs": [
    {
     "data": {
      "text/plain": [
       "{'accession': 'HISTDB_H2B_N_1',\n",
       " 'variant': 'H2B.N',\n",
       " 'gi': None,\n",
       " 'ncbi_gene_id': None,\n",
       " 'hgnc_gene_name': None,\n",
       " 'taxonomy_id': 9807,\n",
       " 'organism': 'Ceratotherium simum',\n",
       " 'phylum': 'Chordata',\n",
       " 'class': 'Mammalia',\n",
       " 'taxonomy_group': None,\n",
       " 'info': None,\n",
       " 'sequence': 'MYFICLRGLRFPKKTTNYILAKKKYEWTSSAIGKKRRRKKKEAYFSYMGKILEQIAHYRKLSRLCLILVPFLPRPTQTSVGAPGSWMHWALEAWRLEWVSLEAVRLSFCNHRRAVTSREILEAVKRRSSWKSF',\n",
       " 'variant_under_consideration': None}"
      ]
     },
     "execution_count": 62,
     "metadata": {},
     "output_type": "execute_result"
    }
   ],
   "source": [
    "data_sequence = {\n",
    "    \"accession\": ACCESSION,\n",
    "    \"variant\": \"H2B.N\",\n",
    "    \"gi\": None,\n",
    "    \"ncbi_gene_id\": None,\n",
    "    \"hgnc_gene_name\": None,\n",
    "    \"taxonomy_id\": 9807,\n",
    "    \"organism\": \"Ceratotherium simum\",\n",
    "    \"phylum\": \"Chordata\",\n",
    "    \"class\": \"Mammalia\",\n",
    "    \"taxonomy_group\": None,\n",
    "    \"info\": None,\n",
    "    \"sequence\": \"MYFICLRGLRFPKKTTNYILAKKKYEWTSSAIGKKRRRKKKEAYFSYMGKILEQIAHYRKLSRLCLILVPFLPRPTQTSVGAPGSWMHWALEAWRLEWVSLEAVRLSFCNHRRAVTSREILEAVKRRSSWKSF\",\n",
    "    \"variant_under_consideration\": None,\n",
    "}\n",
    "data_sequence"
   ]
  },
  {
   "cell_type": "code",
   "execution_count": 63,
   "id": "71ce173d-74f6-49db-8488-5414f1f85d36",
   "metadata": {
    "tags": []
   },
   "outputs": [
    {
     "name": "stdout",
     "output_type": "stream",
     "text": [
      "accession <class 'str'>\n",
      "variant <class 'str'>\n",
      "gi <class 'NoneType'>\n",
      "ncbi_gene_id <class 'NoneType'>\n",
      "hgnc_gene_name <class 'NoneType'>\n",
      "taxonomy_id <class 'int'>\n",
      "organism <class 'str'>\n",
      "phylum <class 'str'>\n",
      "class <class 'str'>\n",
      "taxonomy_group <class 'NoneType'>\n",
      "info <class 'NoneType'>\n",
      "sequence <class 'str'>\n",
      "variant_under_consideration <class 'NoneType'>\n"
     ]
    }
   ],
   "source": [
    "for k, v in data_sequence.items():\n",
    "    print(k, type(v))"
   ]
  },
  {
   "cell_type": "code",
   "execution_count": 64,
   "id": "27fa13fc-c439-46f6-a8e6-1d825b6ff506",
   "metadata": {
    "tags": []
   },
   "outputs": [],
   "source": [
    "cursor.execute(add_sequence, data_sequence)"
   ]
  },
  {
   "cell_type": "code",
   "execution_count": 65,
   "id": "64f599eb-fe80-4447-b95c-7a7b061d1f58",
   "metadata": {
    "tags": []
   },
   "outputs": [
    {
     "data": {
      "text/html": [
       "<div>\n",
       "<style scoped>\n",
       "    .dataframe tbody tr th:only-of-type {\n",
       "        vertical-align: middle;\n",
       "    }\n",
       "\n",
       "    .dataframe tbody tr th {\n",
       "        vertical-align: top;\n",
       "    }\n",
       "\n",
       "    .dataframe thead th {\n",
       "        text-align: right;\n",
       "    }\n",
       "</style>\n",
       "<table border=\"1\" class=\"dataframe\">\n",
       "  <thead>\n",
       "    <tr style=\"text-align: right;\">\n",
       "      <th></th>\n",
       "      <th>accession</th>\n",
       "      <th>variant</th>\n",
       "      <th>gi</th>\n",
       "      <th>ncbi_gene_id</th>\n",
       "      <th>hgnc_gene_name</th>\n",
       "      <th>taxonomy_id</th>\n",
       "      <th>organism</th>\n",
       "      <th>phylum</th>\n",
       "      <th>class</th>\n",
       "      <th>taxonomy_group</th>\n",
       "      <th>info</th>\n",
       "      <th>sequence</th>\n",
       "      <th>variant_under_consideration</th>\n",
       "      <th>sequence_accession</th>\n",
       "      <th>publication_id</th>\n",
       "    </tr>\n",
       "  </thead>\n",
       "  <tbody>\n",
       "    <tr>\n",
       "      <th>0</th>\n",
       "      <td>HISTDB_H2B_N_1</td>\n",
       "      <td>H2B.N</td>\n",
       "      <td>None</td>\n",
       "      <td>None</td>\n",
       "      <td>None</td>\n",
       "      <td>9807</td>\n",
       "      <td>Ceratotherium simum</td>\n",
       "      <td>Chordata</td>\n",
       "      <td>Mammalia</td>\n",
       "      <td>None</td>\n",
       "      <td>None</td>\n",
       "      <td>MYFICLRGLRFPKKTTNYILAKKKYEWTSSAIGKKRRRKKKEAYFS...</td>\n",
       "      <td>None</td>\n",
       "      <td>None</td>\n",
       "      <td>None</td>\n",
       "    </tr>\n",
       "  </tbody>\n",
       "</table>\n",
       "</div>"
      ],
      "text/plain": [
       "        accession variant    gi ncbi_gene_id hgnc_gene_name  taxonomy_id  \\\n",
       "0  HISTDB_H2B_N_1   H2B.N  None         None           None         9807   \n",
       "\n",
       "              organism    phylum     class taxonomy_group  info  \\\n",
       "0  Ceratotherium simum  Chordata  Mammalia           None  None   \n",
       "\n",
       "                                            sequence  \\\n",
       "0  MYFICLRGLRFPKKTTNYILAKKKYEWTSSAIGKKRRRKKKEAYFS...   \n",
       "\n",
       "  variant_under_consideration sequence_accession publication_id  \n",
       "0                        None               None           None  "
      ]
     },
     "execution_count": 65,
     "metadata": {},
     "output_type": "execute_result"
    }
   ],
   "source": [
    "query = (\n",
    "    \"SELECT * FROM sequence s LEFT JOIN sequence_has_publication sp \"\n",
    "    \"ON s.accession = sp.sequence_accession \"\n",
    "    f\"WHERE s.accession='{ACCESSION}'\"\n",
    ")\n",
    "cursor.execute(query)\n",
    "df = pd.DataFrame(cursor.fetchall(), columns=[i[0] for i in cursor.description])\n",
    "df"
   ]
  },
  {
   "cell_type": "markdown",
   "id": "1fe67234-72df-4c61-ab67-6d03b34126e4",
   "metadata": {
    "tags": []
   },
   "source": [
    "## Add publication"
   ]
  },
  {
   "cell_type": "code",
   "execution_count": 66,
   "id": "f1d8c511-f94e-4b88-866f-0c48787f67d5",
   "metadata": {
    "tags": []
   },
   "outputs": [
    {
     "data": {
      "text/html": [
       "<div>\n",
       "<style scoped>\n",
       "    .dataframe tbody tr th:only-of-type {\n",
       "        vertical-align: middle;\n",
       "    }\n",
       "\n",
       "    .dataframe tbody tr th {\n",
       "        vertical-align: top;\n",
       "    }\n",
       "\n",
       "    .dataframe thead th {\n",
       "        text-align: right;\n",
       "    }\n",
       "</style>\n",
       "<table border=\"1\" class=\"dataframe\">\n",
       "  <thead>\n",
       "    <tr style=\"text-align: right;\">\n",
       "      <th></th>\n",
       "      <th>id</th>\n",
       "      <th>title</th>\n",
       "      <th>doi</th>\n",
       "      <th>author</th>\n",
       "      <th>year</th>\n",
       "    </tr>\n",
       "  </thead>\n",
       "  <tbody>\n",
       "    <tr>\n",
       "      <th>0</th>\n",
       "      <td>35099534</td>\n",
       "      <td>None</td>\n",
       "      <td>None</td>\n",
       "      <td>None</td>\n",
       "      <td>None</td>\n",
       "    </tr>\n",
       "  </tbody>\n",
       "</table>\n",
       "</div>"
      ],
      "text/plain": [
       "         id title   doi author  year\n",
       "0  35099534  None  None   None  None"
      ]
     },
     "execution_count": 66,
     "metadata": {},
     "output_type": "execute_result"
    }
   ],
   "source": [
    "pid = \"35099534\"\n",
    "query = \"SELECT * FROM publication WHERE id='35099534'\"\n",
    "cursor.execute(query)\n",
    "pd.DataFrame(cursor.fetchall(), columns=[i[0] for i in cursor.description])"
   ]
  },
  {
   "cell_type": "code",
   "execution_count": 67,
   "id": "a95d922a-f705-487e-a7c7-f446ce0ac413",
   "metadata": {
    "tags": []
   },
   "outputs": [],
   "source": [
    "cursor.execute(add_sequence_has_publication, (ACCESSION, pid))"
   ]
  },
  {
   "cell_type": "code",
   "execution_count": 68,
   "id": "ae62c17d-d69a-45cf-a6bf-8b867c60ae6a",
   "metadata": {
    "tags": []
   },
   "outputs": [
    {
     "data": {
      "text/html": [
       "<div>\n",
       "<style scoped>\n",
       "    .dataframe tbody tr th:only-of-type {\n",
       "        vertical-align: middle;\n",
       "    }\n",
       "\n",
       "    .dataframe tbody tr th {\n",
       "        vertical-align: top;\n",
       "    }\n",
       "\n",
       "    .dataframe thead th {\n",
       "        text-align: right;\n",
       "    }\n",
       "</style>\n",
       "<table border=\"1\" class=\"dataframe\">\n",
       "  <thead>\n",
       "    <tr style=\"text-align: right;\">\n",
       "      <th></th>\n",
       "      <th>accession</th>\n",
       "      <th>variant</th>\n",
       "      <th>gi</th>\n",
       "      <th>ncbi_gene_id</th>\n",
       "      <th>hgnc_gene_name</th>\n",
       "      <th>taxonomy_id</th>\n",
       "      <th>organism</th>\n",
       "      <th>phylum</th>\n",
       "      <th>class</th>\n",
       "      <th>taxonomy_group</th>\n",
       "      <th>info</th>\n",
       "      <th>sequence</th>\n",
       "      <th>variant_under_consideration</th>\n",
       "      <th>sequence_accession</th>\n",
       "      <th>publication_id</th>\n",
       "    </tr>\n",
       "  </thead>\n",
       "  <tbody>\n",
       "    <tr>\n",
       "      <th>0</th>\n",
       "      <td>HISTDB_H2B_N_1</td>\n",
       "      <td>H2B.N</td>\n",
       "      <td>None</td>\n",
       "      <td>None</td>\n",
       "      <td>None</td>\n",
       "      <td>9807</td>\n",
       "      <td>Ceratotherium simum</td>\n",
       "      <td>Chordata</td>\n",
       "      <td>Mammalia</td>\n",
       "      <td>None</td>\n",
       "      <td>None</td>\n",
       "      <td>MYFICLRGLRFPKKTTNYILAKKKYEWTSSAIGKKRRRKKKEAYFS...</td>\n",
       "      <td>None</td>\n",
       "      <td>HISTDB_H2B_N_1</td>\n",
       "      <td>35099534</td>\n",
       "    </tr>\n",
       "  </tbody>\n",
       "</table>\n",
       "</div>"
      ],
      "text/plain": [
       "        accession variant    gi ncbi_gene_id hgnc_gene_name  taxonomy_id  \\\n",
       "0  HISTDB_H2B_N_1   H2B.N  None         None           None         9807   \n",
       "\n",
       "              organism    phylum     class taxonomy_group  info  \\\n",
       "0  Ceratotherium simum  Chordata  Mammalia           None  None   \n",
       "\n",
       "                                            sequence  \\\n",
       "0  MYFICLRGLRFPKKTTNYILAKKKYEWTSSAIGKKRRRKKKEAYFS...   \n",
       "\n",
       "  variant_under_consideration sequence_accession publication_id  \n",
       "0                        None     HISTDB_H2B_N_1       35099534  "
      ]
     },
     "execution_count": 68,
     "metadata": {},
     "output_type": "execute_result"
    }
   ],
   "source": [
    "query = (\n",
    "    \"SELECT * FROM sequence s LEFT JOIN sequence_has_publication sp \"\n",
    "    \"ON s.accession = sp.sequence_accession \"\n",
    "    f\"WHERE s.accession='{ACCESSION}'\"\n",
    ")\n",
    "cursor.execute(query)\n",
    "df = pd.DataFrame(cursor.fetchall(), columns=[i[0] for i in cursor.description])\n",
    "df"
   ]
  },
  {
   "cell_type": "code",
   "execution_count": 69,
   "id": "f05de95b-f5a9-4ecb-a56f-dd5c3bdc478f",
   "metadata": {
    "tags": []
   },
   "outputs": [
    {
     "data": {
      "text/html": [
       "<div>\n",
       "<style scoped>\n",
       "    .dataframe tbody tr th:only-of-type {\n",
       "        vertical-align: middle;\n",
       "    }\n",
       "\n",
       "    .dataframe tbody tr th {\n",
       "        vertical-align: top;\n",
       "    }\n",
       "\n",
       "    .dataframe thead th {\n",
       "        text-align: right;\n",
       "    }\n",
       "</style>\n",
       "<table border=\"1\" class=\"dataframe\">\n",
       "  <thead>\n",
       "    <tr style=\"text-align: right;\">\n",
       "      <th></th>\n",
       "      <th>accession</th>\n",
       "      <th>variant</th>\n",
       "      <th>gi</th>\n",
       "      <th>ncbi_gene_id</th>\n",
       "      <th>hgnc_gene_name</th>\n",
       "      <th>taxonomy_id</th>\n",
       "      <th>organism</th>\n",
       "      <th>phylum</th>\n",
       "      <th>class</th>\n",
       "      <th>taxonomy_group</th>\n",
       "      <th>info</th>\n",
       "      <th>sequence</th>\n",
       "      <th>variant_under_consideration</th>\n",
       "      <th>sequence_accession</th>\n",
       "      <th>publication_id</th>\n",
       "    </tr>\n",
       "  </thead>\n",
       "  <tbody>\n",
       "    <tr>\n",
       "      <th>0</th>\n",
       "      <td>HISTDB_H2B_N_0</td>\n",
       "      <td>H2B.N</td>\n",
       "      <td>None</td>\n",
       "      <td>None</td>\n",
       "      <td>None</td>\n",
       "      <td>9940</td>\n",
       "      <td>Ovis aries</td>\n",
       "      <td>Chordata</td>\n",
       "      <td>Mammalia</td>\n",
       "      <td>None</td>\n",
       "      <td>None</td>\n",
       "      <td>MHFICLHGLQFPKRKLTISIPAKEKDEWVHSATGKKRRKKKEAYFN...</td>\n",
       "      <td>None</td>\n",
       "      <td>HISTDB_H2B_N_0</td>\n",
       "      <td>35099534</td>\n",
       "    </tr>\n",
       "    <tr>\n",
       "      <th>1</th>\n",
       "      <td>HISTDB_H2B_N_1</td>\n",
       "      <td>H2B.N</td>\n",
       "      <td>None</td>\n",
       "      <td>None</td>\n",
       "      <td>None</td>\n",
       "      <td>9807</td>\n",
       "      <td>Ceratotherium simum</td>\n",
       "      <td>Chordata</td>\n",
       "      <td>Mammalia</td>\n",
       "      <td>None</td>\n",
       "      <td>None</td>\n",
       "      <td>MYFICLRGLRFPKKTTNYILAKKKYEWTSSAIGKKRRRKKKEAYFS...</td>\n",
       "      <td>None</td>\n",
       "      <td>HISTDB_H2B_N_1</td>\n",
       "      <td>35099534</td>\n",
       "    </tr>\n",
       "    <tr>\n",
       "      <th>2</th>\n",
       "      <td>XP_059734412.1</td>\n",
       "      <td>H2B.N</td>\n",
       "      <td>None</td>\n",
       "      <td>None</td>\n",
       "      <td>None</td>\n",
       "      <td>9913</td>\n",
       "      <td>Bos taurus</td>\n",
       "      <td>Chordata</td>\n",
       "      <td>Mammalia</td>\n",
       "      <td>None</td>\n",
       "      <td>None</td>\n",
       "      <td>MYFICLHGLQFPKRKLTIYIPAKEKDEWVHSATGKKRRKKKETYFN...</td>\n",
       "      <td>None</td>\n",
       "      <td>XP_059734412.1</td>\n",
       "      <td>35099534</td>\n",
       "    </tr>\n",
       "    <tr>\n",
       "      <th>3</th>\n",
       "      <td>XP_059746706.1</td>\n",
       "      <td>H2B.N</td>\n",
       "      <td>None</td>\n",
       "      <td>None</td>\n",
       "      <td>None</td>\n",
       "      <td>9913</td>\n",
       "      <td>Bos taurus</td>\n",
       "      <td>Chordata</td>\n",
       "      <td>Mammalia</td>\n",
       "      <td>None</td>\n",
       "      <td>None</td>\n",
       "      <td>MHFICLHGLQFPKRKLTIYIPAKEKDEWVCSATGKKRRKKKEAYFN...</td>\n",
       "      <td>None</td>\n",
       "      <td>XP_059746706.1</td>\n",
       "      <td>35099534</td>\n",
       "    </tr>\n",
       "    <tr>\n",
       "      <th>4</th>\n",
       "      <td>XP_060251208.1</td>\n",
       "      <td>H2B.N</td>\n",
       "      <td>None</td>\n",
       "      <td>None</td>\n",
       "      <td>None</td>\n",
       "      <td>9940</td>\n",
       "      <td>Ovis aries</td>\n",
       "      <td>Chordata</td>\n",
       "      <td>Mammalia</td>\n",
       "      <td>None</td>\n",
       "      <td>None</td>\n",
       "      <td>MHFICLHGLQFPKRKLTISIPAKEKDEWVHSATGKKRRKKKEAYFN...</td>\n",
       "      <td>None</td>\n",
       "      <td>XP_060251208.1</td>\n",
       "      <td>35099534</td>\n",
       "    </tr>\n",
       "  </tbody>\n",
       "</table>\n",
       "</div>"
      ],
      "text/plain": [
       "        accession variant    gi ncbi_gene_id hgnc_gene_name  taxonomy_id  \\\n",
       "0  HISTDB_H2B_N_0   H2B.N  None         None           None         9940   \n",
       "1  HISTDB_H2B_N_1   H2B.N  None         None           None         9807   \n",
       "2  XP_059734412.1   H2B.N  None         None           None         9913   \n",
       "3  XP_059746706.1   H2B.N  None         None           None         9913   \n",
       "4  XP_060251208.1   H2B.N  None         None           None         9940   \n",
       "\n",
       "              organism    phylum     class taxonomy_group  info  \\\n",
       "0           Ovis aries  Chordata  Mammalia           None  None   \n",
       "1  Ceratotherium simum  Chordata  Mammalia           None  None   \n",
       "2           Bos taurus  Chordata  Mammalia           None  None   \n",
       "3           Bos taurus  Chordata  Mammalia           None  None   \n",
       "4           Ovis aries  Chordata  Mammalia           None  None   \n",
       "\n",
       "                                            sequence  \\\n",
       "0  MHFICLHGLQFPKRKLTISIPAKEKDEWVHSATGKKRRKKKEAYFN...   \n",
       "1  MYFICLRGLRFPKKTTNYILAKKKYEWTSSAIGKKRRRKKKEAYFS...   \n",
       "2  MYFICLHGLQFPKRKLTIYIPAKEKDEWVHSATGKKRRKKKETYFN...   \n",
       "3  MHFICLHGLQFPKRKLTIYIPAKEKDEWVCSATGKKRRKKKEAYFN...   \n",
       "4  MHFICLHGLQFPKRKLTISIPAKEKDEWVHSATGKKRRKKKEAYFN...   \n",
       "\n",
       "  variant_under_consideration sequence_accession publication_id  \n",
       "0                        None     HISTDB_H2B_N_0       35099534  \n",
       "1                        None     HISTDB_H2B_N_1       35099534  \n",
       "2                        None     XP_059734412.1       35099534  \n",
       "3                        None     XP_059746706.1       35099534  \n",
       "4                        None     XP_060251208.1       35099534  "
      ]
     },
     "execution_count": 69,
     "metadata": {},
     "output_type": "execute_result"
    }
   ],
   "source": [
    "query = (\n",
    "    \"SELECT * FROM sequence s LEFT JOIN sequence_has_publication sp \"\n",
    "    \"ON s.accession = sp.sequence_accession \"\n",
    "    f\"WHERE s.variant='H2B.N'\"\n",
    ")\n",
    "cursor.execute(query)\n",
    "df = pd.DataFrame(cursor.fetchall(), columns=[i[0] for i in cursor.description])\n",
    "df"
   ]
  },
  {
   "cell_type": "code",
   "execution_count": 70,
   "id": "d19b399d-f8e5-4c28-b68b-c59ef3b70e70",
   "metadata": {
    "tags": []
   },
   "outputs": [],
   "source": [
    "# Make sure data is committed to the database\n",
    "conn.commit()"
   ]
  },
  {
   "cell_type": "markdown",
   "id": "ec37afab-9376-4ec1-b618-984aa2f4fb6d",
   "metadata": {
    "jp-MarkdownHeadingCollapsed": true,
    "tags": []
   },
   "source": [
    "# Add dog H2B.N\n",
    "\n",
    "**Atricle:** https://academic.oup.com/mbe/article/39/2/msac019/6517784#333890704\n",
    "\n",
    "**Gene:** Canis lupus familiaris, canFam3, chr9, +-, 40155561-40158159\n",
    "\n",
    "**Sequences from article:**\n",
    "```fasta\n",
    ">Dog_H2B.N\n",
    "MYYICLHGLRFPEKRTILYIPAREKYEWANSALRKKRKKKEVYFSYMGKILKQTHPDFSGCSWILDALGSLEDWLLEQVSLEAVRLSFYNHRRAVTSREILGAIKQRSFLKSFCVNEVF\n",
    "```\n",
    "\n",
    "BLASTP has NO results."
   ]
  },
  {
   "cell_type": "code",
   "execution_count": 71,
   "id": "ef6c6875-710b-47df-8a63-48170d91e788",
   "metadata": {
    "tags": []
   },
   "outputs": [],
   "source": [
    "ACCESSION = \"HISTDB_H2B_N_2\""
   ]
  },
  {
   "cell_type": "markdown",
   "id": "92d83c6e-668e-4b0a-bf23-08598a20582d",
   "metadata": {
    "tags": []
   },
   "source": [
    "## Adding HISTDB_H2B_N_2"
   ]
  },
  {
   "cell_type": "code",
   "execution_count": 72,
   "id": "04467207-0df1-4b26-99e0-6a221c9f8f15",
   "metadata": {
    "tags": []
   },
   "outputs": [
    {
     "data": {
      "text/plain": [
       "{'accession': 'HISTDB_H2B_N_2',\n",
       " 'variant': 'H2B.N',\n",
       " 'gi': None,\n",
       " 'ncbi_gene_id': None,\n",
       " 'hgnc_gene_name': None,\n",
       " 'taxonomy_id': 9615,\n",
       " 'organism': 'Canis lupus familiaris',\n",
       " 'phylum': 'Chordata',\n",
       " 'class': 'Mammalia',\n",
       " 'taxonomy_group': None,\n",
       " 'info': None,\n",
       " 'sequence': 'MYYICLHGLRFPEKRTILYIPAREKYEWANSALRKKRKKKEVYFSYMGKILKQTHPDFSGCSWILDALGSLEDWLLEQVSLEAVRLSFYNHRRAVTSREILGAIKQRSFLKSFCVNEVF',\n",
       " 'variant_under_consideration': None}"
      ]
     },
     "execution_count": 72,
     "metadata": {},
     "output_type": "execute_result"
    }
   ],
   "source": [
    "data_sequence = {\n",
    "    \"accession\": ACCESSION,\n",
    "    \"variant\": \"H2B.N\",\n",
    "    \"gi\": None,\n",
    "    \"ncbi_gene_id\": None,\n",
    "    \"hgnc_gene_name\": None,\n",
    "    \"taxonomy_id\": 9615,\n",
    "    \"organism\": \"Canis lupus familiaris\",\n",
    "    \"phylum\": \"Chordata\",\n",
    "    \"class\": \"Mammalia\",\n",
    "    \"taxonomy_group\": None,\n",
    "    \"info\": None,\n",
    "    \"sequence\": \"MYYICLHGLRFPEKRTILYIPAREKYEWANSALRKKRKKKEVYFSYMGKILKQTHPDFSGCSWILDALGSLEDWLLEQVSLEAVRLSFYNHRRAVTSREILGAIKQRSFLKSFCVNEVF\",\n",
    "    \"variant_under_consideration\": None,\n",
    "}\n",
    "data_sequence"
   ]
  },
  {
   "cell_type": "code",
   "execution_count": 73,
   "id": "6f3ab7df-4686-4b50-a824-b3b8d818a41d",
   "metadata": {
    "tags": []
   },
   "outputs": [
    {
     "name": "stdout",
     "output_type": "stream",
     "text": [
      "accession <class 'str'>\n",
      "variant <class 'str'>\n",
      "gi <class 'NoneType'>\n",
      "ncbi_gene_id <class 'NoneType'>\n",
      "hgnc_gene_name <class 'NoneType'>\n",
      "taxonomy_id <class 'int'>\n",
      "organism <class 'str'>\n",
      "phylum <class 'str'>\n",
      "class <class 'str'>\n",
      "taxonomy_group <class 'NoneType'>\n",
      "info <class 'NoneType'>\n",
      "sequence <class 'str'>\n",
      "variant_under_consideration <class 'NoneType'>\n"
     ]
    }
   ],
   "source": [
    "for k, v in data_sequence.items():\n",
    "    print(k, type(v))"
   ]
  },
  {
   "cell_type": "code",
   "execution_count": 74,
   "id": "def5126f-78cb-41d4-8114-19be6b179be2",
   "metadata": {
    "tags": []
   },
   "outputs": [],
   "source": [
    "cursor.execute(add_sequence, data_sequence)"
   ]
  },
  {
   "cell_type": "code",
   "execution_count": 75,
   "id": "35d9e8cb-3e38-47c4-b7bd-59fcbbf918a5",
   "metadata": {
    "tags": []
   },
   "outputs": [
    {
     "data": {
      "text/html": [
       "<div>\n",
       "<style scoped>\n",
       "    .dataframe tbody tr th:only-of-type {\n",
       "        vertical-align: middle;\n",
       "    }\n",
       "\n",
       "    .dataframe tbody tr th {\n",
       "        vertical-align: top;\n",
       "    }\n",
       "\n",
       "    .dataframe thead th {\n",
       "        text-align: right;\n",
       "    }\n",
       "</style>\n",
       "<table border=\"1\" class=\"dataframe\">\n",
       "  <thead>\n",
       "    <tr style=\"text-align: right;\">\n",
       "      <th></th>\n",
       "      <th>accession</th>\n",
       "      <th>variant</th>\n",
       "      <th>gi</th>\n",
       "      <th>ncbi_gene_id</th>\n",
       "      <th>hgnc_gene_name</th>\n",
       "      <th>taxonomy_id</th>\n",
       "      <th>organism</th>\n",
       "      <th>phylum</th>\n",
       "      <th>class</th>\n",
       "      <th>taxonomy_group</th>\n",
       "      <th>info</th>\n",
       "      <th>sequence</th>\n",
       "      <th>variant_under_consideration</th>\n",
       "      <th>sequence_accession</th>\n",
       "      <th>publication_id</th>\n",
       "    </tr>\n",
       "  </thead>\n",
       "  <tbody>\n",
       "    <tr>\n",
       "      <th>0</th>\n",
       "      <td>HISTDB_H2B_N_2</td>\n",
       "      <td>H2B.N</td>\n",
       "      <td>None</td>\n",
       "      <td>None</td>\n",
       "      <td>None</td>\n",
       "      <td>9615</td>\n",
       "      <td>Canis lupus familiaris</td>\n",
       "      <td>Chordata</td>\n",
       "      <td>Mammalia</td>\n",
       "      <td>None</td>\n",
       "      <td>None</td>\n",
       "      <td>MYYICLHGLRFPEKRTILYIPAREKYEWANSALRKKRKKKEVYFSY...</td>\n",
       "      <td>None</td>\n",
       "      <td>None</td>\n",
       "      <td>None</td>\n",
       "    </tr>\n",
       "  </tbody>\n",
       "</table>\n",
       "</div>"
      ],
      "text/plain": [
       "        accession variant    gi ncbi_gene_id hgnc_gene_name  taxonomy_id  \\\n",
       "0  HISTDB_H2B_N_2   H2B.N  None         None           None         9615   \n",
       "\n",
       "                 organism    phylum     class taxonomy_group  info  \\\n",
       "0  Canis lupus familiaris  Chordata  Mammalia           None  None   \n",
       "\n",
       "                                            sequence  \\\n",
       "0  MYYICLHGLRFPEKRTILYIPAREKYEWANSALRKKRKKKEVYFSY...   \n",
       "\n",
       "  variant_under_consideration sequence_accession publication_id  \n",
       "0                        None               None           None  "
      ]
     },
     "execution_count": 75,
     "metadata": {},
     "output_type": "execute_result"
    }
   ],
   "source": [
    "query = (\n",
    "    \"SELECT * FROM sequence s LEFT JOIN sequence_has_publication sp \"\n",
    "    \"ON s.accession = sp.sequence_accession \"\n",
    "    f\"WHERE s.accession='{ACCESSION}'\"\n",
    ")\n",
    "cursor.execute(query)\n",
    "df = pd.DataFrame(cursor.fetchall(), columns=[i[0] for i in cursor.description])\n",
    "df"
   ]
  },
  {
   "cell_type": "markdown",
   "id": "efd2552f-0e59-4c42-b846-6ff863c088a3",
   "metadata": {
    "tags": []
   },
   "source": [
    "## Add publication"
   ]
  },
  {
   "cell_type": "code",
   "execution_count": 76,
   "id": "cc8836ef-558e-4d21-ab2c-00d97b3b0a95",
   "metadata": {
    "tags": []
   },
   "outputs": [
    {
     "data": {
      "text/html": [
       "<div>\n",
       "<style scoped>\n",
       "    .dataframe tbody tr th:only-of-type {\n",
       "        vertical-align: middle;\n",
       "    }\n",
       "\n",
       "    .dataframe tbody tr th {\n",
       "        vertical-align: top;\n",
       "    }\n",
       "\n",
       "    .dataframe thead th {\n",
       "        text-align: right;\n",
       "    }\n",
       "</style>\n",
       "<table border=\"1\" class=\"dataframe\">\n",
       "  <thead>\n",
       "    <tr style=\"text-align: right;\">\n",
       "      <th></th>\n",
       "      <th>id</th>\n",
       "      <th>title</th>\n",
       "      <th>doi</th>\n",
       "      <th>author</th>\n",
       "      <th>year</th>\n",
       "    </tr>\n",
       "  </thead>\n",
       "  <tbody>\n",
       "    <tr>\n",
       "      <th>0</th>\n",
       "      <td>35099534</td>\n",
       "      <td>None</td>\n",
       "      <td>None</td>\n",
       "      <td>None</td>\n",
       "      <td>None</td>\n",
       "    </tr>\n",
       "  </tbody>\n",
       "</table>\n",
       "</div>"
      ],
      "text/plain": [
       "         id title   doi author  year\n",
       "0  35099534  None  None   None  None"
      ]
     },
     "execution_count": 76,
     "metadata": {},
     "output_type": "execute_result"
    }
   ],
   "source": [
    "pid = \"35099534\"\n",
    "query = \"SELECT * FROM publication WHERE id='35099534'\"\n",
    "cursor.execute(query)\n",
    "pd.DataFrame(cursor.fetchall(), columns=[i[0] for i in cursor.description])"
   ]
  },
  {
   "cell_type": "code",
   "execution_count": 77,
   "id": "910aa63c-32f9-442f-b578-d57574902463",
   "metadata": {
    "tags": []
   },
   "outputs": [],
   "source": [
    "cursor.execute(add_sequence_has_publication, (ACCESSION, pid))"
   ]
  },
  {
   "cell_type": "code",
   "execution_count": 78,
   "id": "1e0b41e3-7c34-4d77-a583-d892d7e37f83",
   "metadata": {
    "tags": []
   },
   "outputs": [
    {
     "data": {
      "text/html": [
       "<div>\n",
       "<style scoped>\n",
       "    .dataframe tbody tr th:only-of-type {\n",
       "        vertical-align: middle;\n",
       "    }\n",
       "\n",
       "    .dataframe tbody tr th {\n",
       "        vertical-align: top;\n",
       "    }\n",
       "\n",
       "    .dataframe thead th {\n",
       "        text-align: right;\n",
       "    }\n",
       "</style>\n",
       "<table border=\"1\" class=\"dataframe\">\n",
       "  <thead>\n",
       "    <tr style=\"text-align: right;\">\n",
       "      <th></th>\n",
       "      <th>accession</th>\n",
       "      <th>variant</th>\n",
       "      <th>gi</th>\n",
       "      <th>ncbi_gene_id</th>\n",
       "      <th>hgnc_gene_name</th>\n",
       "      <th>taxonomy_id</th>\n",
       "      <th>organism</th>\n",
       "      <th>phylum</th>\n",
       "      <th>class</th>\n",
       "      <th>taxonomy_group</th>\n",
       "      <th>info</th>\n",
       "      <th>sequence</th>\n",
       "      <th>variant_under_consideration</th>\n",
       "      <th>sequence_accession</th>\n",
       "      <th>publication_id</th>\n",
       "    </tr>\n",
       "  </thead>\n",
       "  <tbody>\n",
       "    <tr>\n",
       "      <th>0</th>\n",
       "      <td>HISTDB_H2B_N_2</td>\n",
       "      <td>H2B.N</td>\n",
       "      <td>None</td>\n",
       "      <td>None</td>\n",
       "      <td>None</td>\n",
       "      <td>9615</td>\n",
       "      <td>Canis lupus familiaris</td>\n",
       "      <td>Chordata</td>\n",
       "      <td>Mammalia</td>\n",
       "      <td>None</td>\n",
       "      <td>None</td>\n",
       "      <td>MYYICLHGLRFPEKRTILYIPAREKYEWANSALRKKRKKKEVYFSY...</td>\n",
       "      <td>None</td>\n",
       "      <td>HISTDB_H2B_N_2</td>\n",
       "      <td>35099534</td>\n",
       "    </tr>\n",
       "  </tbody>\n",
       "</table>\n",
       "</div>"
      ],
      "text/plain": [
       "        accession variant    gi ncbi_gene_id hgnc_gene_name  taxonomy_id  \\\n",
       "0  HISTDB_H2B_N_2   H2B.N  None         None           None         9615   \n",
       "\n",
       "                 organism    phylum     class taxonomy_group  info  \\\n",
       "0  Canis lupus familiaris  Chordata  Mammalia           None  None   \n",
       "\n",
       "                                            sequence  \\\n",
       "0  MYYICLHGLRFPEKRTILYIPAREKYEWANSALRKKRKKKEVYFSY...   \n",
       "\n",
       "  variant_under_consideration sequence_accession publication_id  \n",
       "0                        None     HISTDB_H2B_N_2       35099534  "
      ]
     },
     "execution_count": 78,
     "metadata": {},
     "output_type": "execute_result"
    }
   ],
   "source": [
    "query = (\n",
    "    \"SELECT * FROM sequence s LEFT JOIN sequence_has_publication sp \"\n",
    "    \"ON s.accession = sp.sequence_accession \"\n",
    "    f\"WHERE s.accession='{ACCESSION}'\"\n",
    ")\n",
    "cursor.execute(query)\n",
    "df = pd.DataFrame(cursor.fetchall(), columns=[i[0] for i in cursor.description])\n",
    "df"
   ]
  },
  {
   "cell_type": "code",
   "execution_count": 79,
   "id": "9b7b1520-344a-4567-b835-2003e759f52a",
   "metadata": {
    "tags": []
   },
   "outputs": [
    {
     "data": {
      "text/html": [
       "<div>\n",
       "<style scoped>\n",
       "    .dataframe tbody tr th:only-of-type {\n",
       "        vertical-align: middle;\n",
       "    }\n",
       "\n",
       "    .dataframe tbody tr th {\n",
       "        vertical-align: top;\n",
       "    }\n",
       "\n",
       "    .dataframe thead th {\n",
       "        text-align: right;\n",
       "    }\n",
       "</style>\n",
       "<table border=\"1\" class=\"dataframe\">\n",
       "  <thead>\n",
       "    <tr style=\"text-align: right;\">\n",
       "      <th></th>\n",
       "      <th>accession</th>\n",
       "      <th>variant</th>\n",
       "      <th>gi</th>\n",
       "      <th>ncbi_gene_id</th>\n",
       "      <th>hgnc_gene_name</th>\n",
       "      <th>taxonomy_id</th>\n",
       "      <th>organism</th>\n",
       "      <th>phylum</th>\n",
       "      <th>class</th>\n",
       "      <th>taxonomy_group</th>\n",
       "      <th>info</th>\n",
       "      <th>sequence</th>\n",
       "      <th>variant_under_consideration</th>\n",
       "      <th>sequence_accession</th>\n",
       "      <th>publication_id</th>\n",
       "    </tr>\n",
       "  </thead>\n",
       "  <tbody>\n",
       "    <tr>\n",
       "      <th>0</th>\n",
       "      <td>HISTDB_H2B_N_0</td>\n",
       "      <td>H2B.N</td>\n",
       "      <td>None</td>\n",
       "      <td>None</td>\n",
       "      <td>None</td>\n",
       "      <td>9940</td>\n",
       "      <td>Ovis aries</td>\n",
       "      <td>Chordata</td>\n",
       "      <td>Mammalia</td>\n",
       "      <td>None</td>\n",
       "      <td>None</td>\n",
       "      <td>MHFICLHGLQFPKRKLTISIPAKEKDEWVHSATGKKRRKKKEAYFN...</td>\n",
       "      <td>None</td>\n",
       "      <td>HISTDB_H2B_N_0</td>\n",
       "      <td>35099534</td>\n",
       "    </tr>\n",
       "    <tr>\n",
       "      <th>1</th>\n",
       "      <td>HISTDB_H2B_N_1</td>\n",
       "      <td>H2B.N</td>\n",
       "      <td>None</td>\n",
       "      <td>None</td>\n",
       "      <td>None</td>\n",
       "      <td>9807</td>\n",
       "      <td>Ceratotherium simum</td>\n",
       "      <td>Chordata</td>\n",
       "      <td>Mammalia</td>\n",
       "      <td>None</td>\n",
       "      <td>None</td>\n",
       "      <td>MYFICLRGLRFPKKTTNYILAKKKYEWTSSAIGKKRRRKKKEAYFS...</td>\n",
       "      <td>None</td>\n",
       "      <td>HISTDB_H2B_N_1</td>\n",
       "      <td>35099534</td>\n",
       "    </tr>\n",
       "    <tr>\n",
       "      <th>2</th>\n",
       "      <td>HISTDB_H2B_N_2</td>\n",
       "      <td>H2B.N</td>\n",
       "      <td>None</td>\n",
       "      <td>None</td>\n",
       "      <td>None</td>\n",
       "      <td>9615</td>\n",
       "      <td>Canis lupus familiaris</td>\n",
       "      <td>Chordata</td>\n",
       "      <td>Mammalia</td>\n",
       "      <td>None</td>\n",
       "      <td>None</td>\n",
       "      <td>MYYICLHGLRFPEKRTILYIPAREKYEWANSALRKKRKKKEVYFSY...</td>\n",
       "      <td>None</td>\n",
       "      <td>HISTDB_H2B_N_2</td>\n",
       "      <td>35099534</td>\n",
       "    </tr>\n",
       "    <tr>\n",
       "      <th>3</th>\n",
       "      <td>XP_059734412.1</td>\n",
       "      <td>H2B.N</td>\n",
       "      <td>None</td>\n",
       "      <td>None</td>\n",
       "      <td>None</td>\n",
       "      <td>9913</td>\n",
       "      <td>Bos taurus</td>\n",
       "      <td>Chordata</td>\n",
       "      <td>Mammalia</td>\n",
       "      <td>None</td>\n",
       "      <td>None</td>\n",
       "      <td>MYFICLHGLQFPKRKLTIYIPAKEKDEWVHSATGKKRRKKKETYFN...</td>\n",
       "      <td>None</td>\n",
       "      <td>XP_059734412.1</td>\n",
       "      <td>35099534</td>\n",
       "    </tr>\n",
       "    <tr>\n",
       "      <th>4</th>\n",
       "      <td>XP_059746706.1</td>\n",
       "      <td>H2B.N</td>\n",
       "      <td>None</td>\n",
       "      <td>None</td>\n",
       "      <td>None</td>\n",
       "      <td>9913</td>\n",
       "      <td>Bos taurus</td>\n",
       "      <td>Chordata</td>\n",
       "      <td>Mammalia</td>\n",
       "      <td>None</td>\n",
       "      <td>None</td>\n",
       "      <td>MHFICLHGLQFPKRKLTIYIPAKEKDEWVCSATGKKRRKKKEAYFN...</td>\n",
       "      <td>None</td>\n",
       "      <td>XP_059746706.1</td>\n",
       "      <td>35099534</td>\n",
       "    </tr>\n",
       "    <tr>\n",
       "      <th>5</th>\n",
       "      <td>XP_060251208.1</td>\n",
       "      <td>H2B.N</td>\n",
       "      <td>None</td>\n",
       "      <td>None</td>\n",
       "      <td>None</td>\n",
       "      <td>9940</td>\n",
       "      <td>Ovis aries</td>\n",
       "      <td>Chordata</td>\n",
       "      <td>Mammalia</td>\n",
       "      <td>None</td>\n",
       "      <td>None</td>\n",
       "      <td>MHFICLHGLQFPKRKLTISIPAKEKDEWVHSATGKKRRKKKEAYFN...</td>\n",
       "      <td>None</td>\n",
       "      <td>XP_060251208.1</td>\n",
       "      <td>35099534</td>\n",
       "    </tr>\n",
       "  </tbody>\n",
       "</table>\n",
       "</div>"
      ],
      "text/plain": [
       "        accession variant    gi ncbi_gene_id hgnc_gene_name  taxonomy_id  \\\n",
       "0  HISTDB_H2B_N_0   H2B.N  None         None           None         9940   \n",
       "1  HISTDB_H2B_N_1   H2B.N  None         None           None         9807   \n",
       "2  HISTDB_H2B_N_2   H2B.N  None         None           None         9615   \n",
       "3  XP_059734412.1   H2B.N  None         None           None         9913   \n",
       "4  XP_059746706.1   H2B.N  None         None           None         9913   \n",
       "5  XP_060251208.1   H2B.N  None         None           None         9940   \n",
       "\n",
       "                 organism    phylum     class taxonomy_group  info  \\\n",
       "0              Ovis aries  Chordata  Mammalia           None  None   \n",
       "1     Ceratotherium simum  Chordata  Mammalia           None  None   \n",
       "2  Canis lupus familiaris  Chordata  Mammalia           None  None   \n",
       "3              Bos taurus  Chordata  Mammalia           None  None   \n",
       "4              Bos taurus  Chordata  Mammalia           None  None   \n",
       "5              Ovis aries  Chordata  Mammalia           None  None   \n",
       "\n",
       "                                            sequence  \\\n",
       "0  MHFICLHGLQFPKRKLTISIPAKEKDEWVHSATGKKRRKKKEAYFN...   \n",
       "1  MYFICLRGLRFPKKTTNYILAKKKYEWTSSAIGKKRRRKKKEAYFS...   \n",
       "2  MYYICLHGLRFPEKRTILYIPAREKYEWANSALRKKRKKKEVYFSY...   \n",
       "3  MYFICLHGLQFPKRKLTIYIPAKEKDEWVHSATGKKRRKKKETYFN...   \n",
       "4  MHFICLHGLQFPKRKLTIYIPAKEKDEWVCSATGKKRRKKKEAYFN...   \n",
       "5  MHFICLHGLQFPKRKLTISIPAKEKDEWVHSATGKKRRKKKEAYFN...   \n",
       "\n",
       "  variant_under_consideration sequence_accession publication_id  \n",
       "0                        None     HISTDB_H2B_N_0       35099534  \n",
       "1                        None     HISTDB_H2B_N_1       35099534  \n",
       "2                        None     HISTDB_H2B_N_2       35099534  \n",
       "3                        None     XP_059734412.1       35099534  \n",
       "4                        None     XP_059746706.1       35099534  \n",
       "5                        None     XP_060251208.1       35099534  "
      ]
     },
     "execution_count": 79,
     "metadata": {},
     "output_type": "execute_result"
    }
   ],
   "source": [
    "query = (\n",
    "    \"SELECT * FROM sequence s LEFT JOIN sequence_has_publication sp \"\n",
    "    \"ON s.accession = sp.sequence_accession \"\n",
    "    f\"WHERE s.variant='H2B.N'\"\n",
    ")\n",
    "cursor.execute(query)\n",
    "df = pd.DataFrame(cursor.fetchall(), columns=[i[0] for i in cursor.description])\n",
    "df"
   ]
  },
  {
   "cell_type": "code",
   "execution_count": 80,
   "id": "82542516-50aa-4b2b-b7fb-5af734f5e5ec",
   "metadata": {
    "tags": []
   },
   "outputs": [],
   "source": [
    "# Make sure data is committed to the database\n",
    "conn.commit()"
   ]
  },
  {
   "cell_type": "markdown",
   "id": "e84024d7-195f-4dbb-aaf0-422086cc291a",
   "metadata": {
    "jp-MarkdownHeadingCollapsed": true,
    "tags": []
   },
   "source": [
    "# Add panda H2B.N\n",
    "\n",
    "**Atricle:** https://academic.oup.com/mbe/article/39/2/msac019/6517784#333890704\n",
    "\n",
    "**Gene:** Ailuropoda melanoleuca, ailMel1, GL192339.1, ++, 4628399-4630866\n",
    "\n",
    "**Sequence from article:**\n",
    "```fasta\n",
    ">Panda_H2B.N\n",
    "MYYVCLHDPRFPKKRTTLYIPAKAKYECANSALRHKRKKKEVYFSYMGKILKQTHPDFSGCSWILDALGSLEDWLLEWVSLEAVRLSFYNHRRAVTSREILGAVKQRSFRKSFCINKVF\n",
    "```\n",
    "\n",
    "BLASTP has one result with 100% coverage and 100% identity (is that a same gene as in the article?).\n",
    "\n",
    "**Protein accession:** HISTDB_H2B_N_3"
   ]
  },
  {
   "cell_type": "code",
   "execution_count": 81,
   "id": "8c148ec5-617c-4519-a635-9aa1d92c708c",
   "metadata": {
    "tags": []
   },
   "outputs": [],
   "source": [
    "ACCESSION = \"HISTDB_H2B_N_3\""
   ]
  },
  {
   "cell_type": "markdown",
   "id": "e949c2c9-f893-4d52-b309-2749d1713417",
   "metadata": {
    "tags": []
   },
   "source": [
    "## Adding HISTDB_H2B_N_3"
   ]
  },
  {
   "cell_type": "code",
   "execution_count": 82,
   "id": "c84edd1f-b2c2-4e7f-ab8e-2e52cf8f4a94",
   "metadata": {
    "tags": []
   },
   "outputs": [
    {
     "data": {
      "text/plain": [
       "{'accession': 'HISTDB_H2B_N_3',\n",
       " 'variant': 'H2B.N',\n",
       " 'gi': None,\n",
       " 'ncbi_gene_id': None,\n",
       " 'hgnc_gene_name': None,\n",
       " 'taxonomy_id': 9646,\n",
       " 'organism': 'Ailuropoda melanoleuca',\n",
       " 'phylum': 'Chordata',\n",
       " 'class': 'Mammalia',\n",
       " 'taxonomy_group': None,\n",
       " 'info': None,\n",
       " 'sequence': 'MYYVCLHDPRFPKKRTTLYIPAKAKYECANSALRHKRKKKEVYFSYMGKILKQTHPDFSGCSWILDALGSLEDWLLEWVSLEAVRLSFYNHRRAVTSREILGAVKQRSFRKSFCINKVF',\n",
       " 'variant_under_consideration': None}"
      ]
     },
     "execution_count": 82,
     "metadata": {},
     "output_type": "execute_result"
    }
   ],
   "source": [
    "data_sequence = {\n",
    "    \"accession\": ACCESSION,\n",
    "    \"variant\": \"H2B.N\",\n",
    "    \"gi\": None,\n",
    "    \"ncbi_gene_id\": None,\n",
    "    \"hgnc_gene_name\": None,\n",
    "    \"taxonomy_id\": 9646,\n",
    "    \"organism\": \"Ailuropoda melanoleuca\",\n",
    "    \"phylum\": \"Chordata\",\n",
    "    \"class\": \"Mammalia\",\n",
    "    \"taxonomy_group\": None,\n",
    "    \"info\": None,\n",
    "    \"sequence\": \"MYYVCLHDPRFPKKRTTLYIPAKAKYECANSALRHKRKKKEVYFSYMGKILKQTHPDFSGCSWILDALGSLEDWLLEWVSLEAVRLSFYNHRRAVTSREILGAVKQRSFRKSFCINKVF\",\n",
    "    \"variant_under_consideration\": None,\n",
    "}\n",
    "data_sequence"
   ]
  },
  {
   "cell_type": "code",
   "execution_count": 83,
   "id": "75f5205a-55aa-488d-95a2-6a5db26b29ce",
   "metadata": {
    "tags": []
   },
   "outputs": [
    {
     "name": "stdout",
     "output_type": "stream",
     "text": [
      "accession <class 'str'>\n",
      "variant <class 'str'>\n",
      "gi <class 'NoneType'>\n",
      "ncbi_gene_id <class 'NoneType'>\n",
      "hgnc_gene_name <class 'NoneType'>\n",
      "taxonomy_id <class 'int'>\n",
      "organism <class 'str'>\n",
      "phylum <class 'str'>\n",
      "class <class 'str'>\n",
      "taxonomy_group <class 'NoneType'>\n",
      "info <class 'NoneType'>\n",
      "sequence <class 'str'>\n",
      "variant_under_consideration <class 'NoneType'>\n"
     ]
    }
   ],
   "source": [
    "for k, v in data_sequence.items():\n",
    "    print(k, type(v))"
   ]
  },
  {
   "cell_type": "code",
   "execution_count": 84,
   "id": "eacf1e01-53d9-418c-ad1f-d34046da829a",
   "metadata": {
    "tags": []
   },
   "outputs": [],
   "source": [
    "cursor.execute(add_sequence, data_sequence)"
   ]
  },
  {
   "cell_type": "code",
   "execution_count": 85,
   "id": "884249b5-e8ea-45ac-a208-ba045ae42304",
   "metadata": {
    "tags": []
   },
   "outputs": [
    {
     "data": {
      "text/html": [
       "<div>\n",
       "<style scoped>\n",
       "    .dataframe tbody tr th:only-of-type {\n",
       "        vertical-align: middle;\n",
       "    }\n",
       "\n",
       "    .dataframe tbody tr th {\n",
       "        vertical-align: top;\n",
       "    }\n",
       "\n",
       "    .dataframe thead th {\n",
       "        text-align: right;\n",
       "    }\n",
       "</style>\n",
       "<table border=\"1\" class=\"dataframe\">\n",
       "  <thead>\n",
       "    <tr style=\"text-align: right;\">\n",
       "      <th></th>\n",
       "      <th>accession</th>\n",
       "      <th>variant</th>\n",
       "      <th>gi</th>\n",
       "      <th>ncbi_gene_id</th>\n",
       "      <th>hgnc_gene_name</th>\n",
       "      <th>taxonomy_id</th>\n",
       "      <th>organism</th>\n",
       "      <th>phylum</th>\n",
       "      <th>class</th>\n",
       "      <th>taxonomy_group</th>\n",
       "      <th>info</th>\n",
       "      <th>sequence</th>\n",
       "      <th>variant_under_consideration</th>\n",
       "      <th>sequence_accession</th>\n",
       "      <th>publication_id</th>\n",
       "    </tr>\n",
       "  </thead>\n",
       "  <tbody>\n",
       "    <tr>\n",
       "      <th>0</th>\n",
       "      <td>HISTDB_H2B_N_3</td>\n",
       "      <td>H2B.N</td>\n",
       "      <td>None</td>\n",
       "      <td>None</td>\n",
       "      <td>None</td>\n",
       "      <td>9646</td>\n",
       "      <td>Ailuropoda melanoleuca</td>\n",
       "      <td>Chordata</td>\n",
       "      <td>Mammalia</td>\n",
       "      <td>None</td>\n",
       "      <td>None</td>\n",
       "      <td>MYYVCLHDPRFPKKRTTLYIPAKAKYECANSALRHKRKKKEVYFSY...</td>\n",
       "      <td>None</td>\n",
       "      <td>None</td>\n",
       "      <td>None</td>\n",
       "    </tr>\n",
       "  </tbody>\n",
       "</table>\n",
       "</div>"
      ],
      "text/plain": [
       "        accession variant    gi ncbi_gene_id hgnc_gene_name  taxonomy_id  \\\n",
       "0  HISTDB_H2B_N_3   H2B.N  None         None           None         9646   \n",
       "\n",
       "                 organism    phylum     class taxonomy_group  info  \\\n",
       "0  Ailuropoda melanoleuca  Chordata  Mammalia           None  None   \n",
       "\n",
       "                                            sequence  \\\n",
       "0  MYYVCLHDPRFPKKRTTLYIPAKAKYECANSALRHKRKKKEVYFSY...   \n",
       "\n",
       "  variant_under_consideration sequence_accession publication_id  \n",
       "0                        None               None           None  "
      ]
     },
     "execution_count": 85,
     "metadata": {},
     "output_type": "execute_result"
    }
   ],
   "source": [
    "query = (\n",
    "    \"SELECT * FROM sequence s LEFT JOIN sequence_has_publication sp \"\n",
    "    \"ON s.accession = sp.sequence_accession \"\n",
    "    f\"WHERE s.accession='{ACCESSION}'\"\n",
    ")\n",
    "cursor.execute(query)\n",
    "df = pd.DataFrame(cursor.fetchall(), columns=[i[0] for i in cursor.description])\n",
    "df"
   ]
  },
  {
   "cell_type": "markdown",
   "id": "5d1ee053-6ac0-4cff-9e1c-7416df6f8ccd",
   "metadata": {
    "tags": []
   },
   "source": [
    "## Add publication"
   ]
  },
  {
   "cell_type": "code",
   "execution_count": 86,
   "id": "3928d79b-084c-4b14-99ed-7829188b8223",
   "metadata": {
    "tags": []
   },
   "outputs": [
    {
     "data": {
      "text/html": [
       "<div>\n",
       "<style scoped>\n",
       "    .dataframe tbody tr th:only-of-type {\n",
       "        vertical-align: middle;\n",
       "    }\n",
       "\n",
       "    .dataframe tbody tr th {\n",
       "        vertical-align: top;\n",
       "    }\n",
       "\n",
       "    .dataframe thead th {\n",
       "        text-align: right;\n",
       "    }\n",
       "</style>\n",
       "<table border=\"1\" class=\"dataframe\">\n",
       "  <thead>\n",
       "    <tr style=\"text-align: right;\">\n",
       "      <th></th>\n",
       "      <th>id</th>\n",
       "      <th>title</th>\n",
       "      <th>doi</th>\n",
       "      <th>author</th>\n",
       "      <th>year</th>\n",
       "    </tr>\n",
       "  </thead>\n",
       "  <tbody>\n",
       "    <tr>\n",
       "      <th>0</th>\n",
       "      <td>35099534</td>\n",
       "      <td>None</td>\n",
       "      <td>None</td>\n",
       "      <td>None</td>\n",
       "      <td>None</td>\n",
       "    </tr>\n",
       "  </tbody>\n",
       "</table>\n",
       "</div>"
      ],
      "text/plain": [
       "         id title   doi author  year\n",
       "0  35099534  None  None   None  None"
      ]
     },
     "execution_count": 86,
     "metadata": {},
     "output_type": "execute_result"
    }
   ],
   "source": [
    "pid = \"35099534\"\n",
    "query = \"SELECT * FROM publication WHERE id='35099534'\"\n",
    "cursor.execute(query)\n",
    "pd.DataFrame(cursor.fetchall(), columns=[i[0] for i in cursor.description])"
   ]
  },
  {
   "cell_type": "code",
   "execution_count": 87,
   "id": "483ac947-b3f5-4a1e-87e6-61b438f881ac",
   "metadata": {
    "tags": []
   },
   "outputs": [],
   "source": [
    "cursor.execute(add_sequence_has_publication, (ACCESSION, pid))"
   ]
  },
  {
   "cell_type": "code",
   "execution_count": 88,
   "id": "58b2324d-9c22-4086-863b-45a1192eaa0d",
   "metadata": {
    "tags": []
   },
   "outputs": [
    {
     "data": {
      "text/html": [
       "<div>\n",
       "<style scoped>\n",
       "    .dataframe tbody tr th:only-of-type {\n",
       "        vertical-align: middle;\n",
       "    }\n",
       "\n",
       "    .dataframe tbody tr th {\n",
       "        vertical-align: top;\n",
       "    }\n",
       "\n",
       "    .dataframe thead th {\n",
       "        text-align: right;\n",
       "    }\n",
       "</style>\n",
       "<table border=\"1\" class=\"dataframe\">\n",
       "  <thead>\n",
       "    <tr style=\"text-align: right;\">\n",
       "      <th></th>\n",
       "      <th>accession</th>\n",
       "      <th>variant</th>\n",
       "      <th>gi</th>\n",
       "      <th>ncbi_gene_id</th>\n",
       "      <th>hgnc_gene_name</th>\n",
       "      <th>taxonomy_id</th>\n",
       "      <th>organism</th>\n",
       "      <th>phylum</th>\n",
       "      <th>class</th>\n",
       "      <th>taxonomy_group</th>\n",
       "      <th>info</th>\n",
       "      <th>sequence</th>\n",
       "      <th>variant_under_consideration</th>\n",
       "      <th>sequence_accession</th>\n",
       "      <th>publication_id</th>\n",
       "    </tr>\n",
       "  </thead>\n",
       "  <tbody>\n",
       "    <tr>\n",
       "      <th>0</th>\n",
       "      <td>HISTDB_H2B_N_3</td>\n",
       "      <td>H2B.N</td>\n",
       "      <td>None</td>\n",
       "      <td>None</td>\n",
       "      <td>None</td>\n",
       "      <td>9646</td>\n",
       "      <td>Ailuropoda melanoleuca</td>\n",
       "      <td>Chordata</td>\n",
       "      <td>Mammalia</td>\n",
       "      <td>None</td>\n",
       "      <td>None</td>\n",
       "      <td>MYYVCLHDPRFPKKRTTLYIPAKAKYECANSALRHKRKKKEVYFSY...</td>\n",
       "      <td>None</td>\n",
       "      <td>HISTDB_H2B_N_3</td>\n",
       "      <td>35099534</td>\n",
       "    </tr>\n",
       "  </tbody>\n",
       "</table>\n",
       "</div>"
      ],
      "text/plain": [
       "        accession variant    gi ncbi_gene_id hgnc_gene_name  taxonomy_id  \\\n",
       "0  HISTDB_H2B_N_3   H2B.N  None         None           None         9646   \n",
       "\n",
       "                 organism    phylum     class taxonomy_group  info  \\\n",
       "0  Ailuropoda melanoleuca  Chordata  Mammalia           None  None   \n",
       "\n",
       "                                            sequence  \\\n",
       "0  MYYVCLHDPRFPKKRTTLYIPAKAKYECANSALRHKRKKKEVYFSY...   \n",
       "\n",
       "  variant_under_consideration sequence_accession publication_id  \n",
       "0                        None     HISTDB_H2B_N_3       35099534  "
      ]
     },
     "execution_count": 88,
     "metadata": {},
     "output_type": "execute_result"
    }
   ],
   "source": [
    "query = (\n",
    "    \"SELECT * FROM sequence s LEFT JOIN sequence_has_publication sp \"\n",
    "    \"ON s.accession = sp.sequence_accession \"\n",
    "    f\"WHERE s.accession='{ACCESSION}'\"\n",
    ")\n",
    "cursor.execute(query)\n",
    "df = pd.DataFrame(cursor.fetchall(), columns=[i[0] for i in cursor.description])\n",
    "df"
   ]
  },
  {
   "cell_type": "code",
   "execution_count": 89,
   "id": "b26f62dc-6a05-4da6-bf1e-cf6906d13e69",
   "metadata": {
    "tags": []
   },
   "outputs": [
    {
     "data": {
      "text/html": [
       "<div>\n",
       "<style scoped>\n",
       "    .dataframe tbody tr th:only-of-type {\n",
       "        vertical-align: middle;\n",
       "    }\n",
       "\n",
       "    .dataframe tbody tr th {\n",
       "        vertical-align: top;\n",
       "    }\n",
       "\n",
       "    .dataframe thead th {\n",
       "        text-align: right;\n",
       "    }\n",
       "</style>\n",
       "<table border=\"1\" class=\"dataframe\">\n",
       "  <thead>\n",
       "    <tr style=\"text-align: right;\">\n",
       "      <th></th>\n",
       "      <th>accession</th>\n",
       "      <th>variant</th>\n",
       "      <th>gi</th>\n",
       "      <th>ncbi_gene_id</th>\n",
       "      <th>hgnc_gene_name</th>\n",
       "      <th>taxonomy_id</th>\n",
       "      <th>organism</th>\n",
       "      <th>phylum</th>\n",
       "      <th>class</th>\n",
       "      <th>taxonomy_group</th>\n",
       "      <th>info</th>\n",
       "      <th>sequence</th>\n",
       "      <th>variant_under_consideration</th>\n",
       "      <th>sequence_accession</th>\n",
       "      <th>publication_id</th>\n",
       "    </tr>\n",
       "  </thead>\n",
       "  <tbody>\n",
       "    <tr>\n",
       "      <th>0</th>\n",
       "      <td>HISTDB_H2B_N_0</td>\n",
       "      <td>H2B.N</td>\n",
       "      <td>None</td>\n",
       "      <td>None</td>\n",
       "      <td>None</td>\n",
       "      <td>9940</td>\n",
       "      <td>Ovis aries</td>\n",
       "      <td>Chordata</td>\n",
       "      <td>Mammalia</td>\n",
       "      <td>None</td>\n",
       "      <td>None</td>\n",
       "      <td>MHFICLHGLQFPKRKLTISIPAKEKDEWVHSATGKKRRKKKEAYFN...</td>\n",
       "      <td>None</td>\n",
       "      <td>HISTDB_H2B_N_0</td>\n",
       "      <td>35099534</td>\n",
       "    </tr>\n",
       "    <tr>\n",
       "      <th>1</th>\n",
       "      <td>HISTDB_H2B_N_1</td>\n",
       "      <td>H2B.N</td>\n",
       "      <td>None</td>\n",
       "      <td>None</td>\n",
       "      <td>None</td>\n",
       "      <td>9807</td>\n",
       "      <td>Ceratotherium simum</td>\n",
       "      <td>Chordata</td>\n",
       "      <td>Mammalia</td>\n",
       "      <td>None</td>\n",
       "      <td>None</td>\n",
       "      <td>MYFICLRGLRFPKKTTNYILAKKKYEWTSSAIGKKRRRKKKEAYFS...</td>\n",
       "      <td>None</td>\n",
       "      <td>HISTDB_H2B_N_1</td>\n",
       "      <td>35099534</td>\n",
       "    </tr>\n",
       "    <tr>\n",
       "      <th>2</th>\n",
       "      <td>HISTDB_H2B_N_2</td>\n",
       "      <td>H2B.N</td>\n",
       "      <td>None</td>\n",
       "      <td>None</td>\n",
       "      <td>None</td>\n",
       "      <td>9615</td>\n",
       "      <td>Canis lupus familiaris</td>\n",
       "      <td>Chordata</td>\n",
       "      <td>Mammalia</td>\n",
       "      <td>None</td>\n",
       "      <td>None</td>\n",
       "      <td>MYYICLHGLRFPEKRTILYIPAREKYEWANSALRKKRKKKEVYFSY...</td>\n",
       "      <td>None</td>\n",
       "      <td>HISTDB_H2B_N_2</td>\n",
       "      <td>35099534</td>\n",
       "    </tr>\n",
       "    <tr>\n",
       "      <th>3</th>\n",
       "      <td>HISTDB_H2B_N_3</td>\n",
       "      <td>H2B.N</td>\n",
       "      <td>None</td>\n",
       "      <td>None</td>\n",
       "      <td>None</td>\n",
       "      <td>9646</td>\n",
       "      <td>Ailuropoda melanoleuca</td>\n",
       "      <td>Chordata</td>\n",
       "      <td>Mammalia</td>\n",
       "      <td>None</td>\n",
       "      <td>None</td>\n",
       "      <td>MYYVCLHDPRFPKKRTTLYIPAKAKYECANSALRHKRKKKEVYFSY...</td>\n",
       "      <td>None</td>\n",
       "      <td>HISTDB_H2B_N_3</td>\n",
       "      <td>35099534</td>\n",
       "    </tr>\n",
       "    <tr>\n",
       "      <th>4</th>\n",
       "      <td>XP_059734412.1</td>\n",
       "      <td>H2B.N</td>\n",
       "      <td>None</td>\n",
       "      <td>None</td>\n",
       "      <td>None</td>\n",
       "      <td>9913</td>\n",
       "      <td>Bos taurus</td>\n",
       "      <td>Chordata</td>\n",
       "      <td>Mammalia</td>\n",
       "      <td>None</td>\n",
       "      <td>None</td>\n",
       "      <td>MYFICLHGLQFPKRKLTIYIPAKEKDEWVHSATGKKRRKKKETYFN...</td>\n",
       "      <td>None</td>\n",
       "      <td>XP_059734412.1</td>\n",
       "      <td>35099534</td>\n",
       "    </tr>\n",
       "    <tr>\n",
       "      <th>5</th>\n",
       "      <td>XP_059746706.1</td>\n",
       "      <td>H2B.N</td>\n",
       "      <td>None</td>\n",
       "      <td>None</td>\n",
       "      <td>None</td>\n",
       "      <td>9913</td>\n",
       "      <td>Bos taurus</td>\n",
       "      <td>Chordata</td>\n",
       "      <td>Mammalia</td>\n",
       "      <td>None</td>\n",
       "      <td>None</td>\n",
       "      <td>MHFICLHGLQFPKRKLTIYIPAKEKDEWVCSATGKKRRKKKEAYFN...</td>\n",
       "      <td>None</td>\n",
       "      <td>XP_059746706.1</td>\n",
       "      <td>35099534</td>\n",
       "    </tr>\n",
       "    <tr>\n",
       "      <th>6</th>\n",
       "      <td>XP_060251208.1</td>\n",
       "      <td>H2B.N</td>\n",
       "      <td>None</td>\n",
       "      <td>None</td>\n",
       "      <td>None</td>\n",
       "      <td>9940</td>\n",
       "      <td>Ovis aries</td>\n",
       "      <td>Chordata</td>\n",
       "      <td>Mammalia</td>\n",
       "      <td>None</td>\n",
       "      <td>None</td>\n",
       "      <td>MHFICLHGLQFPKRKLTISIPAKEKDEWVHSATGKKRRKKKEAYFN...</td>\n",
       "      <td>None</td>\n",
       "      <td>XP_060251208.1</td>\n",
       "      <td>35099534</td>\n",
       "    </tr>\n",
       "  </tbody>\n",
       "</table>\n",
       "</div>"
      ],
      "text/plain": [
       "        accession variant    gi ncbi_gene_id hgnc_gene_name  taxonomy_id  \\\n",
       "0  HISTDB_H2B_N_0   H2B.N  None         None           None         9940   \n",
       "1  HISTDB_H2B_N_1   H2B.N  None         None           None         9807   \n",
       "2  HISTDB_H2B_N_2   H2B.N  None         None           None         9615   \n",
       "3  HISTDB_H2B_N_3   H2B.N  None         None           None         9646   \n",
       "4  XP_059734412.1   H2B.N  None         None           None         9913   \n",
       "5  XP_059746706.1   H2B.N  None         None           None         9913   \n",
       "6  XP_060251208.1   H2B.N  None         None           None         9940   \n",
       "\n",
       "                 organism    phylum     class taxonomy_group  info  \\\n",
       "0              Ovis aries  Chordata  Mammalia           None  None   \n",
       "1     Ceratotherium simum  Chordata  Mammalia           None  None   \n",
       "2  Canis lupus familiaris  Chordata  Mammalia           None  None   \n",
       "3  Ailuropoda melanoleuca  Chordata  Mammalia           None  None   \n",
       "4              Bos taurus  Chordata  Mammalia           None  None   \n",
       "5              Bos taurus  Chordata  Mammalia           None  None   \n",
       "6              Ovis aries  Chordata  Mammalia           None  None   \n",
       "\n",
       "                                            sequence  \\\n",
       "0  MHFICLHGLQFPKRKLTISIPAKEKDEWVHSATGKKRRKKKEAYFN...   \n",
       "1  MYFICLRGLRFPKKTTNYILAKKKYEWTSSAIGKKRRRKKKEAYFS...   \n",
       "2  MYYICLHGLRFPEKRTILYIPAREKYEWANSALRKKRKKKEVYFSY...   \n",
       "3  MYYVCLHDPRFPKKRTTLYIPAKAKYECANSALRHKRKKKEVYFSY...   \n",
       "4  MYFICLHGLQFPKRKLTIYIPAKEKDEWVHSATGKKRRKKKETYFN...   \n",
       "5  MHFICLHGLQFPKRKLTIYIPAKEKDEWVCSATGKKRRKKKEAYFN...   \n",
       "6  MHFICLHGLQFPKRKLTISIPAKEKDEWVHSATGKKRRKKKEAYFN...   \n",
       "\n",
       "  variant_under_consideration sequence_accession publication_id  \n",
       "0                        None     HISTDB_H2B_N_0       35099534  \n",
       "1                        None     HISTDB_H2B_N_1       35099534  \n",
       "2                        None     HISTDB_H2B_N_2       35099534  \n",
       "3                        None     HISTDB_H2B_N_3       35099534  \n",
       "4                        None     XP_059734412.1       35099534  \n",
       "5                        None     XP_059746706.1       35099534  \n",
       "6                        None     XP_060251208.1       35099534  "
      ]
     },
     "execution_count": 89,
     "metadata": {},
     "output_type": "execute_result"
    }
   ],
   "source": [
    "query = (\n",
    "    \"SELECT * FROM sequence s LEFT JOIN sequence_has_publication sp \"\n",
    "    \"ON s.accession = sp.sequence_accession \"\n",
    "    f\"WHERE s.variant='H2B.N'\"\n",
    ")\n",
    "cursor.execute(query)\n",
    "df = pd.DataFrame(cursor.fetchall(), columns=[i[0] for i in cursor.description])\n",
    "df"
   ]
  },
  {
   "cell_type": "code",
   "execution_count": 90,
   "id": "84483e68-d3fa-4312-8212-aae9634d1ecb",
   "metadata": {
    "tags": []
   },
   "outputs": [],
   "source": [
    "# Make sure data is committed to the database\n",
    "conn.commit()"
   ]
  },
  {
   "cell_type": "markdown",
   "id": "35d315bd-3529-4783-94af-ccb9232b6666",
   "metadata": {
    "jp-MarkdownHeadingCollapsed": true,
    "tags": []
   },
   "source": [
    "# Add elephant H2B.N\n",
    "\n",
    "**Atricle:** https://academic.oup.com/mbe/article/39/2/msac019/6517784#333890704\n",
    "\n",
    "**Gene:** Loxodonta africana, loxAfr3, scaffold_31, ++, 2335286-2338599\n",
    "\n",
    "**Sequence from article:**\n",
    "```fasta\n",
    ">Elephant_H2B.N\n",
    "MYYVCLGGLKFPKKSEVHIPAKKKYEWANSAFEKKRRRRRRKKKEAHFCYMGKILKQTHPDFSGCSWVLEALGCLDDWQLEWVSLEAVRLSFYKHRRAITSREILEAMKQRSPRRSF\n",
    "```\n",
    "\n",
    "BLASTP has one result with 100% coverage and 100% identity (is that a same gene as in the article?).\n",
    "\n",
    "**Protein accession:** HISTDB_H2B_N_4"
   ]
  },
  {
   "cell_type": "code",
   "execution_count": 91,
   "id": "9fb6588e-6f16-4660-8990-fbe58b4c5d88",
   "metadata": {
    "tags": []
   },
   "outputs": [],
   "source": [
    "ACCESSION = \"HISTDB_H2B_N_4\""
   ]
  },
  {
   "cell_type": "markdown",
   "id": "23f9ef89-b80e-4a26-8907-a8da526c1f35",
   "metadata": {
    "tags": []
   },
   "source": [
    "## Adding HISTDB_H2B_N_4"
   ]
  },
  {
   "cell_type": "code",
   "execution_count": 92,
   "id": "ad499f44-2cc0-4387-af07-e80c271a7e36",
   "metadata": {
    "tags": []
   },
   "outputs": [
    {
     "data": {
      "text/plain": [
       "{'accession': 'HISTDB_H2B_N_4',\n",
       " 'variant': 'H2B.N',\n",
       " 'gi': None,\n",
       " 'ncbi_gene_id': None,\n",
       " 'hgnc_gene_name': None,\n",
       " 'taxonomy_id': 9785,\n",
       " 'organism': 'Loxodonta africana',\n",
       " 'phylum': 'Chordata',\n",
       " 'class': 'Mammalia',\n",
       " 'taxonomy_group': None,\n",
       " 'info': None,\n",
       " 'sequence': 'MYYVCLGGLKFPKKSEVHIPAKKKYEWANSAFEKKRRRRRRKKKEAHFCYMGKILKQTHPDFSGCSWVLEALGCLDDWQLEWVSLEAVRLSFYKHRRAITSREILEAMKQRSPRRSF',\n",
       " 'variant_under_consideration': None}"
      ]
     },
     "execution_count": 92,
     "metadata": {},
     "output_type": "execute_result"
    }
   ],
   "source": [
    "data_sequence = {\n",
    "    \"accession\": ACCESSION,\n",
    "    \"variant\": \"H2B.N\",\n",
    "    \"gi\": None,\n",
    "    \"ncbi_gene_id\": None,\n",
    "    \"hgnc_gene_name\": None,\n",
    "    \"taxonomy_id\": 9785,\n",
    "    \"organism\": \"Loxodonta africana\",\n",
    "    \"phylum\": \"Chordata\",\n",
    "    \"class\": \"Mammalia\",\n",
    "    \"taxonomy_group\": None,\n",
    "    \"info\": None,\n",
    "    \"sequence\": \"MYYVCLGGLKFPKKSEVHIPAKKKYEWANSAFEKKRRRRRRKKKEAHFCYMGKILKQTHPDFSGCSWVLEALGCLDDWQLEWVSLEAVRLSFYKHRRAITSREILEAMKQRSPRRSF\",\n",
    "    \"variant_under_consideration\": None,\n",
    "}\n",
    "data_sequence"
   ]
  },
  {
   "cell_type": "code",
   "execution_count": 93,
   "id": "3696aac1-b12a-45c8-bcb0-d9f95bbf4bcd",
   "metadata": {
    "tags": []
   },
   "outputs": [
    {
     "name": "stdout",
     "output_type": "stream",
     "text": [
      "accession <class 'str'>\n",
      "variant <class 'str'>\n",
      "gi <class 'NoneType'>\n",
      "ncbi_gene_id <class 'NoneType'>\n",
      "hgnc_gene_name <class 'NoneType'>\n",
      "taxonomy_id <class 'int'>\n",
      "organism <class 'str'>\n",
      "phylum <class 'str'>\n",
      "class <class 'str'>\n",
      "taxonomy_group <class 'NoneType'>\n",
      "info <class 'NoneType'>\n",
      "sequence <class 'str'>\n",
      "variant_under_consideration <class 'NoneType'>\n"
     ]
    }
   ],
   "source": [
    "for k, v in data_sequence.items():\n",
    "    print(k, type(v))"
   ]
  },
  {
   "cell_type": "code",
   "execution_count": 94,
   "id": "fac2ba2e-4393-432f-b1b0-caeb5447c35c",
   "metadata": {
    "tags": []
   },
   "outputs": [],
   "source": [
    "cursor.execute(add_sequence, data_sequence)"
   ]
  },
  {
   "cell_type": "code",
   "execution_count": 95,
   "id": "3afd3866-a465-41d0-9dd0-d732ee6c987b",
   "metadata": {
    "tags": []
   },
   "outputs": [
    {
     "data": {
      "text/html": [
       "<div>\n",
       "<style scoped>\n",
       "    .dataframe tbody tr th:only-of-type {\n",
       "        vertical-align: middle;\n",
       "    }\n",
       "\n",
       "    .dataframe tbody tr th {\n",
       "        vertical-align: top;\n",
       "    }\n",
       "\n",
       "    .dataframe thead th {\n",
       "        text-align: right;\n",
       "    }\n",
       "</style>\n",
       "<table border=\"1\" class=\"dataframe\">\n",
       "  <thead>\n",
       "    <tr style=\"text-align: right;\">\n",
       "      <th></th>\n",
       "      <th>accession</th>\n",
       "      <th>variant</th>\n",
       "      <th>gi</th>\n",
       "      <th>ncbi_gene_id</th>\n",
       "      <th>hgnc_gene_name</th>\n",
       "      <th>taxonomy_id</th>\n",
       "      <th>organism</th>\n",
       "      <th>phylum</th>\n",
       "      <th>class</th>\n",
       "      <th>taxonomy_group</th>\n",
       "      <th>info</th>\n",
       "      <th>sequence</th>\n",
       "      <th>variant_under_consideration</th>\n",
       "      <th>sequence_accession</th>\n",
       "      <th>publication_id</th>\n",
       "    </tr>\n",
       "  </thead>\n",
       "  <tbody>\n",
       "    <tr>\n",
       "      <th>0</th>\n",
       "      <td>HISTDB_H2B_N_4</td>\n",
       "      <td>H2B.N</td>\n",
       "      <td>None</td>\n",
       "      <td>None</td>\n",
       "      <td>None</td>\n",
       "      <td>9785</td>\n",
       "      <td>Loxodonta africana</td>\n",
       "      <td>Chordata</td>\n",
       "      <td>Mammalia</td>\n",
       "      <td>None</td>\n",
       "      <td>None</td>\n",
       "      <td>MYYVCLGGLKFPKKSEVHIPAKKKYEWANSAFEKKRRRRRRKKKEA...</td>\n",
       "      <td>None</td>\n",
       "      <td>None</td>\n",
       "      <td>None</td>\n",
       "    </tr>\n",
       "  </tbody>\n",
       "</table>\n",
       "</div>"
      ],
      "text/plain": [
       "        accession variant    gi ncbi_gene_id hgnc_gene_name  taxonomy_id  \\\n",
       "0  HISTDB_H2B_N_4   H2B.N  None         None           None         9785   \n",
       "\n",
       "             organism    phylum     class taxonomy_group  info  \\\n",
       "0  Loxodonta africana  Chordata  Mammalia           None  None   \n",
       "\n",
       "                                            sequence  \\\n",
       "0  MYYVCLGGLKFPKKSEVHIPAKKKYEWANSAFEKKRRRRRRKKKEA...   \n",
       "\n",
       "  variant_under_consideration sequence_accession publication_id  \n",
       "0                        None               None           None  "
      ]
     },
     "execution_count": 95,
     "metadata": {},
     "output_type": "execute_result"
    }
   ],
   "source": [
    "query = (\n",
    "    \"SELECT * FROM sequence s LEFT JOIN sequence_has_publication sp \"\n",
    "    \"ON s.accession = sp.sequence_accession \"\n",
    "    f\"WHERE s.accession='{ACCESSION}'\"\n",
    ")\n",
    "cursor.execute(query)\n",
    "df = pd.DataFrame(cursor.fetchall(), columns=[i[0] for i in cursor.description])\n",
    "df"
   ]
  },
  {
   "cell_type": "markdown",
   "id": "2efd2633-f9fe-4d1c-a328-8d9d3f9b3832",
   "metadata": {
    "tags": []
   },
   "source": [
    "## Add publication"
   ]
  },
  {
   "cell_type": "code",
   "execution_count": 96,
   "id": "fc96b35e-a403-4ee5-87a7-f76ba01587c1",
   "metadata": {
    "tags": []
   },
   "outputs": [
    {
     "data": {
      "text/html": [
       "<div>\n",
       "<style scoped>\n",
       "    .dataframe tbody tr th:only-of-type {\n",
       "        vertical-align: middle;\n",
       "    }\n",
       "\n",
       "    .dataframe tbody tr th {\n",
       "        vertical-align: top;\n",
       "    }\n",
       "\n",
       "    .dataframe thead th {\n",
       "        text-align: right;\n",
       "    }\n",
       "</style>\n",
       "<table border=\"1\" class=\"dataframe\">\n",
       "  <thead>\n",
       "    <tr style=\"text-align: right;\">\n",
       "      <th></th>\n",
       "      <th>id</th>\n",
       "      <th>title</th>\n",
       "      <th>doi</th>\n",
       "      <th>author</th>\n",
       "      <th>year</th>\n",
       "    </tr>\n",
       "  </thead>\n",
       "  <tbody>\n",
       "    <tr>\n",
       "      <th>0</th>\n",
       "      <td>35099534</td>\n",
       "      <td>None</td>\n",
       "      <td>None</td>\n",
       "      <td>None</td>\n",
       "      <td>None</td>\n",
       "    </tr>\n",
       "  </tbody>\n",
       "</table>\n",
       "</div>"
      ],
      "text/plain": [
       "         id title   doi author  year\n",
       "0  35099534  None  None   None  None"
      ]
     },
     "execution_count": 96,
     "metadata": {},
     "output_type": "execute_result"
    }
   ],
   "source": [
    "pid = \"35099534\"\n",
    "query = \"SELECT * FROM publication WHERE id='35099534'\"\n",
    "cursor.execute(query)\n",
    "pd.DataFrame(cursor.fetchall(), columns=[i[0] for i in cursor.description])"
   ]
  },
  {
   "cell_type": "code",
   "execution_count": 97,
   "id": "9ea4421f-3a87-4f32-99c8-e3e4c266fd91",
   "metadata": {
    "tags": []
   },
   "outputs": [],
   "source": [
    "cursor.execute(add_sequence_has_publication, (ACCESSION, pid))"
   ]
  },
  {
   "cell_type": "code",
   "execution_count": 98,
   "id": "473c230f-3e46-4fb4-8fbc-1bbb26a77a77",
   "metadata": {
    "tags": []
   },
   "outputs": [
    {
     "data": {
      "text/html": [
       "<div>\n",
       "<style scoped>\n",
       "    .dataframe tbody tr th:only-of-type {\n",
       "        vertical-align: middle;\n",
       "    }\n",
       "\n",
       "    .dataframe tbody tr th {\n",
       "        vertical-align: top;\n",
       "    }\n",
       "\n",
       "    .dataframe thead th {\n",
       "        text-align: right;\n",
       "    }\n",
       "</style>\n",
       "<table border=\"1\" class=\"dataframe\">\n",
       "  <thead>\n",
       "    <tr style=\"text-align: right;\">\n",
       "      <th></th>\n",
       "      <th>accession</th>\n",
       "      <th>variant</th>\n",
       "      <th>gi</th>\n",
       "      <th>ncbi_gene_id</th>\n",
       "      <th>hgnc_gene_name</th>\n",
       "      <th>taxonomy_id</th>\n",
       "      <th>organism</th>\n",
       "      <th>phylum</th>\n",
       "      <th>class</th>\n",
       "      <th>taxonomy_group</th>\n",
       "      <th>info</th>\n",
       "      <th>sequence</th>\n",
       "      <th>variant_under_consideration</th>\n",
       "      <th>sequence_accession</th>\n",
       "      <th>publication_id</th>\n",
       "    </tr>\n",
       "  </thead>\n",
       "  <tbody>\n",
       "    <tr>\n",
       "      <th>0</th>\n",
       "      <td>HISTDB_H2B_N_4</td>\n",
       "      <td>H2B.N</td>\n",
       "      <td>None</td>\n",
       "      <td>None</td>\n",
       "      <td>None</td>\n",
       "      <td>9785</td>\n",
       "      <td>Loxodonta africana</td>\n",
       "      <td>Chordata</td>\n",
       "      <td>Mammalia</td>\n",
       "      <td>None</td>\n",
       "      <td>None</td>\n",
       "      <td>MYYVCLGGLKFPKKSEVHIPAKKKYEWANSAFEKKRRRRRRKKKEA...</td>\n",
       "      <td>None</td>\n",
       "      <td>HISTDB_H2B_N_4</td>\n",
       "      <td>35099534</td>\n",
       "    </tr>\n",
       "  </tbody>\n",
       "</table>\n",
       "</div>"
      ],
      "text/plain": [
       "        accession variant    gi ncbi_gene_id hgnc_gene_name  taxonomy_id  \\\n",
       "0  HISTDB_H2B_N_4   H2B.N  None         None           None         9785   \n",
       "\n",
       "             organism    phylum     class taxonomy_group  info  \\\n",
       "0  Loxodonta africana  Chordata  Mammalia           None  None   \n",
       "\n",
       "                                            sequence  \\\n",
       "0  MYYVCLGGLKFPKKSEVHIPAKKKYEWANSAFEKKRRRRRRKKKEA...   \n",
       "\n",
       "  variant_under_consideration sequence_accession publication_id  \n",
       "0                        None     HISTDB_H2B_N_4       35099534  "
      ]
     },
     "execution_count": 98,
     "metadata": {},
     "output_type": "execute_result"
    }
   ],
   "source": [
    "query = (\n",
    "    \"SELECT * FROM sequence s LEFT JOIN sequence_has_publication sp \"\n",
    "    \"ON s.accession = sp.sequence_accession \"\n",
    "    f\"WHERE s.accession='{ACCESSION}'\"\n",
    ")\n",
    "cursor.execute(query)\n",
    "df = pd.DataFrame(cursor.fetchall(), columns=[i[0] for i in cursor.description])\n",
    "df"
   ]
  },
  {
   "cell_type": "code",
   "execution_count": 99,
   "id": "d979e794-727f-47ff-ab67-da1d8826d8ce",
   "metadata": {
    "tags": []
   },
   "outputs": [
    {
     "data": {
      "text/html": [
       "<div>\n",
       "<style scoped>\n",
       "    .dataframe tbody tr th:only-of-type {\n",
       "        vertical-align: middle;\n",
       "    }\n",
       "\n",
       "    .dataframe tbody tr th {\n",
       "        vertical-align: top;\n",
       "    }\n",
       "\n",
       "    .dataframe thead th {\n",
       "        text-align: right;\n",
       "    }\n",
       "</style>\n",
       "<table border=\"1\" class=\"dataframe\">\n",
       "  <thead>\n",
       "    <tr style=\"text-align: right;\">\n",
       "      <th></th>\n",
       "      <th>accession</th>\n",
       "      <th>variant</th>\n",
       "      <th>gi</th>\n",
       "      <th>ncbi_gene_id</th>\n",
       "      <th>hgnc_gene_name</th>\n",
       "      <th>taxonomy_id</th>\n",
       "      <th>organism</th>\n",
       "      <th>phylum</th>\n",
       "      <th>class</th>\n",
       "      <th>taxonomy_group</th>\n",
       "      <th>info</th>\n",
       "      <th>sequence</th>\n",
       "      <th>variant_under_consideration</th>\n",
       "      <th>sequence_accession</th>\n",
       "      <th>publication_id</th>\n",
       "    </tr>\n",
       "  </thead>\n",
       "  <tbody>\n",
       "    <tr>\n",
       "      <th>0</th>\n",
       "      <td>HISTDB_H2B_N_0</td>\n",
       "      <td>H2B.N</td>\n",
       "      <td>None</td>\n",
       "      <td>None</td>\n",
       "      <td>None</td>\n",
       "      <td>9940</td>\n",
       "      <td>Ovis aries</td>\n",
       "      <td>Chordata</td>\n",
       "      <td>Mammalia</td>\n",
       "      <td>None</td>\n",
       "      <td>None</td>\n",
       "      <td>MHFICLHGLQFPKRKLTISIPAKEKDEWVHSATGKKRRKKKEAYFN...</td>\n",
       "      <td>None</td>\n",
       "      <td>HISTDB_H2B_N_0</td>\n",
       "      <td>35099534</td>\n",
       "    </tr>\n",
       "    <tr>\n",
       "      <th>1</th>\n",
       "      <td>HISTDB_H2B_N_1</td>\n",
       "      <td>H2B.N</td>\n",
       "      <td>None</td>\n",
       "      <td>None</td>\n",
       "      <td>None</td>\n",
       "      <td>9807</td>\n",
       "      <td>Ceratotherium simum</td>\n",
       "      <td>Chordata</td>\n",
       "      <td>Mammalia</td>\n",
       "      <td>None</td>\n",
       "      <td>None</td>\n",
       "      <td>MYFICLRGLRFPKKTTNYILAKKKYEWTSSAIGKKRRRKKKEAYFS...</td>\n",
       "      <td>None</td>\n",
       "      <td>HISTDB_H2B_N_1</td>\n",
       "      <td>35099534</td>\n",
       "    </tr>\n",
       "    <tr>\n",
       "      <th>2</th>\n",
       "      <td>HISTDB_H2B_N_2</td>\n",
       "      <td>H2B.N</td>\n",
       "      <td>None</td>\n",
       "      <td>None</td>\n",
       "      <td>None</td>\n",
       "      <td>9615</td>\n",
       "      <td>Canis lupus familiaris</td>\n",
       "      <td>Chordata</td>\n",
       "      <td>Mammalia</td>\n",
       "      <td>None</td>\n",
       "      <td>None</td>\n",
       "      <td>MYYICLHGLRFPEKRTILYIPAREKYEWANSALRKKRKKKEVYFSY...</td>\n",
       "      <td>None</td>\n",
       "      <td>HISTDB_H2B_N_2</td>\n",
       "      <td>35099534</td>\n",
       "    </tr>\n",
       "    <tr>\n",
       "      <th>3</th>\n",
       "      <td>HISTDB_H2B_N_3</td>\n",
       "      <td>H2B.N</td>\n",
       "      <td>None</td>\n",
       "      <td>None</td>\n",
       "      <td>None</td>\n",
       "      <td>9646</td>\n",
       "      <td>Ailuropoda melanoleuca</td>\n",
       "      <td>Chordata</td>\n",
       "      <td>Mammalia</td>\n",
       "      <td>None</td>\n",
       "      <td>None</td>\n",
       "      <td>MYYVCLHDPRFPKKRTTLYIPAKAKYECANSALRHKRKKKEVYFSY...</td>\n",
       "      <td>None</td>\n",
       "      <td>HISTDB_H2B_N_3</td>\n",
       "      <td>35099534</td>\n",
       "    </tr>\n",
       "    <tr>\n",
       "      <th>4</th>\n",
       "      <td>HISTDB_H2B_N_4</td>\n",
       "      <td>H2B.N</td>\n",
       "      <td>None</td>\n",
       "      <td>None</td>\n",
       "      <td>None</td>\n",
       "      <td>9785</td>\n",
       "      <td>Loxodonta africana</td>\n",
       "      <td>Chordata</td>\n",
       "      <td>Mammalia</td>\n",
       "      <td>None</td>\n",
       "      <td>None</td>\n",
       "      <td>MYYVCLGGLKFPKKSEVHIPAKKKYEWANSAFEKKRRRRRRKKKEA...</td>\n",
       "      <td>None</td>\n",
       "      <td>HISTDB_H2B_N_4</td>\n",
       "      <td>35099534</td>\n",
       "    </tr>\n",
       "    <tr>\n",
       "      <th>5</th>\n",
       "      <td>XP_059734412.1</td>\n",
       "      <td>H2B.N</td>\n",
       "      <td>None</td>\n",
       "      <td>None</td>\n",
       "      <td>None</td>\n",
       "      <td>9913</td>\n",
       "      <td>Bos taurus</td>\n",
       "      <td>Chordata</td>\n",
       "      <td>Mammalia</td>\n",
       "      <td>None</td>\n",
       "      <td>None</td>\n",
       "      <td>MYFICLHGLQFPKRKLTIYIPAKEKDEWVHSATGKKRRKKKETYFN...</td>\n",
       "      <td>None</td>\n",
       "      <td>XP_059734412.1</td>\n",
       "      <td>35099534</td>\n",
       "    </tr>\n",
       "    <tr>\n",
       "      <th>6</th>\n",
       "      <td>XP_059746706.1</td>\n",
       "      <td>H2B.N</td>\n",
       "      <td>None</td>\n",
       "      <td>None</td>\n",
       "      <td>None</td>\n",
       "      <td>9913</td>\n",
       "      <td>Bos taurus</td>\n",
       "      <td>Chordata</td>\n",
       "      <td>Mammalia</td>\n",
       "      <td>None</td>\n",
       "      <td>None</td>\n",
       "      <td>MHFICLHGLQFPKRKLTIYIPAKEKDEWVCSATGKKRRKKKEAYFN...</td>\n",
       "      <td>None</td>\n",
       "      <td>XP_059746706.1</td>\n",
       "      <td>35099534</td>\n",
       "    </tr>\n",
       "    <tr>\n",
       "      <th>7</th>\n",
       "      <td>XP_060251208.1</td>\n",
       "      <td>H2B.N</td>\n",
       "      <td>None</td>\n",
       "      <td>None</td>\n",
       "      <td>None</td>\n",
       "      <td>9940</td>\n",
       "      <td>Ovis aries</td>\n",
       "      <td>Chordata</td>\n",
       "      <td>Mammalia</td>\n",
       "      <td>None</td>\n",
       "      <td>None</td>\n",
       "      <td>MHFICLHGLQFPKRKLTISIPAKEKDEWVHSATGKKRRKKKEAYFN...</td>\n",
       "      <td>None</td>\n",
       "      <td>XP_060251208.1</td>\n",
       "      <td>35099534</td>\n",
       "    </tr>\n",
       "  </tbody>\n",
       "</table>\n",
       "</div>"
      ],
      "text/plain": [
       "        accession variant    gi ncbi_gene_id hgnc_gene_name  taxonomy_id  \\\n",
       "0  HISTDB_H2B_N_0   H2B.N  None         None           None         9940   \n",
       "1  HISTDB_H2B_N_1   H2B.N  None         None           None         9807   \n",
       "2  HISTDB_H2B_N_2   H2B.N  None         None           None         9615   \n",
       "3  HISTDB_H2B_N_3   H2B.N  None         None           None         9646   \n",
       "4  HISTDB_H2B_N_4   H2B.N  None         None           None         9785   \n",
       "5  XP_059734412.1   H2B.N  None         None           None         9913   \n",
       "6  XP_059746706.1   H2B.N  None         None           None         9913   \n",
       "7  XP_060251208.1   H2B.N  None         None           None         9940   \n",
       "\n",
       "                 organism    phylum     class taxonomy_group  info  \\\n",
       "0              Ovis aries  Chordata  Mammalia           None  None   \n",
       "1     Ceratotherium simum  Chordata  Mammalia           None  None   \n",
       "2  Canis lupus familiaris  Chordata  Mammalia           None  None   \n",
       "3  Ailuropoda melanoleuca  Chordata  Mammalia           None  None   \n",
       "4      Loxodonta africana  Chordata  Mammalia           None  None   \n",
       "5              Bos taurus  Chordata  Mammalia           None  None   \n",
       "6              Bos taurus  Chordata  Mammalia           None  None   \n",
       "7              Ovis aries  Chordata  Mammalia           None  None   \n",
       "\n",
       "                                            sequence  \\\n",
       "0  MHFICLHGLQFPKRKLTISIPAKEKDEWVHSATGKKRRKKKEAYFN...   \n",
       "1  MYFICLRGLRFPKKTTNYILAKKKYEWTSSAIGKKRRRKKKEAYFS...   \n",
       "2  MYYICLHGLRFPEKRTILYIPAREKYEWANSALRKKRKKKEVYFSY...   \n",
       "3  MYYVCLHDPRFPKKRTTLYIPAKAKYECANSALRHKRKKKEVYFSY...   \n",
       "4  MYYVCLGGLKFPKKSEVHIPAKKKYEWANSAFEKKRRRRRRKKKEA...   \n",
       "5  MYFICLHGLQFPKRKLTIYIPAKEKDEWVHSATGKKRRKKKETYFN...   \n",
       "6  MHFICLHGLQFPKRKLTIYIPAKEKDEWVCSATGKKRRKKKEAYFN...   \n",
       "7  MHFICLHGLQFPKRKLTISIPAKEKDEWVHSATGKKRRKKKEAYFN...   \n",
       "\n",
       "  variant_under_consideration sequence_accession publication_id  \n",
       "0                        None     HISTDB_H2B_N_0       35099534  \n",
       "1                        None     HISTDB_H2B_N_1       35099534  \n",
       "2                        None     HISTDB_H2B_N_2       35099534  \n",
       "3                        None     HISTDB_H2B_N_3       35099534  \n",
       "4                        None     HISTDB_H2B_N_4       35099534  \n",
       "5                        None     XP_059734412.1       35099534  \n",
       "6                        None     XP_059746706.1       35099534  \n",
       "7                        None     XP_060251208.1       35099534  "
      ]
     },
     "execution_count": 99,
     "metadata": {},
     "output_type": "execute_result"
    }
   ],
   "source": [
    "query = (\n",
    "    \"SELECT * FROM sequence s LEFT JOIN sequence_has_publication sp \"\n",
    "    \"ON s.accession = sp.sequence_accession \"\n",
    "    f\"WHERE s.variant='H2B.N'\"\n",
    ")\n",
    "cursor.execute(query)\n",
    "df = pd.DataFrame(cursor.fetchall(), columns=[i[0] for i in cursor.description])\n",
    "df"
   ]
  },
  {
   "cell_type": "code",
   "execution_count": 100,
   "id": "5e866a5d-dd2b-49d0-9790-a6d2e7d8c58c",
   "metadata": {
    "tags": []
   },
   "outputs": [],
   "source": [
    "# Make sure data is committed to the database\n",
    "conn.commit()"
   ]
  },
  {
   "cell_type": "markdown",
   "id": "28b6f3f8-a11e-4667-9c48-0d73ebedd308",
   "metadata": {
    "jp-MarkdownHeadingCollapsed": true,
    "tags": []
   },
   "source": [
    "# Add armadillo H2B.N\n",
    "\n",
    "**Atricle:** https://academic.oup.com/mbe/article/39/2/msac019/6517784#333890704\n",
    "\n",
    "**Gene:** Dasypus novemcinctus, dasNov3, JH566127, ++, 1120922-1123462\n",
    "\n",
    "**Sequence from article:**\n",
    "```fasta\n",
    ">Armadillo_H2B.N\n",
    "MYYVCLDSLKFPKKKTDVYSLAERKYEWARSAFGKRRRRRWRRKKKEVYFSYMRKILKQVHADFSGCSWVLDALGSLDDWRLEWVSLEAVRLSFYNHRRAVTSREILEAVKQRLSWKSF\n",
    "```\n",
    "\n",
    "BLASTP has one result with 100% coverage and 100% identity.\n",
    "\n",
    "**Protein accession:** XP_058139847.1"
   ]
  },
  {
   "cell_type": "markdown",
   "id": "44e5b8bc-aad4-4787-9696-d863950344c1",
   "metadata": {},
   "source": [
    "## Accession XP_058139847.1"
   ]
  },
  {
   "cell_type": "code",
   "execution_count": 101,
   "id": "c312f98d-dd20-4587-863c-b7c1a3d035c8",
   "metadata": {
    "tags": []
   },
   "outputs": [],
   "source": [
    "ACCESSION = \"XP_058139847.1\""
   ]
  },
  {
   "cell_type": "markdown",
   "id": "511f88a2-02f0-4582-bba5-4fec9cdafe8e",
   "metadata": {
    "tags": []
   },
   "source": [
    "## Get sequence XP_058139847.1 from NCBI"
   ]
  },
  {
   "cell_type": "code",
   "execution_count": 102,
   "id": "91b571f7-c732-49da-a682-8d974dd8440a",
   "metadata": {
    "tags": []
   },
   "outputs": [
    {
     "name": "stdout",
     "output_type": "stream",
     "text": [
      "ID: XP_058139847.1\n",
      "Name: XP_058139847\n",
      "Description: histone H2A.N [Dasypus novemcinctus]\n",
      "Database cross-references: BioProject:PRJNA994966\n",
      "Number of features: 4\n",
      "/topology=linear\n",
      "/data_file_division=MAM\n",
      "/date=21-JUL-2023\n",
      "/accessions=['XP_058139847']\n",
      "/sequence_version=1\n",
      "/db_source=REFSEQ: accession XM_058283864.1\n",
      "/keywords=['RefSeq']\n",
      "/source=Dasypus novemcinctus (nine-banded armadillo)\n",
      "/organism=Dasypus novemcinctus\n",
      "/taxonomy=['Eukaryota', 'Metazoa', 'Chordata', 'Craniata', 'Vertebrata', 'Euteleostomi', 'Mammalia', 'Eutheria', 'Xenarthra', 'Cingulata', 'Dasypodidae', 'Dasypus']\n",
      "/comment=MODEL REFSEQ:  This record is predicted by automated computational\n",
      "analysis. This record is derived from a genomic sequence\n",
      "(NC_080693) annotated using gene prediction method: Gnomon.\n",
      "Also see:\n",
      "    Documentation of NCBI's Annotation Process\n",
      "COMPLETENESS: full length.\n",
      "/structured_comment=OrderedDict([('Genome-Annotation-Data', OrderedDict([('Annotation Provider', 'NCBI RefSeq'), ('Annotation Status', 'Full annotation'), ('Annotation Name', 'GCF_030445035.1-RS_2023_07'), ('Annotation Pipeline', 'NCBI eukaryotic genome annotation pipeline'), ('Annotation Software Version', '10.1'), ('Annotation Method', 'Best-placed RefSeq; Gnomon; cmsearch; tRNAscan-SE'), ('Features Annotated', 'Gene; mRNA; CDS; ncRNA'), ('Annotation Date', '07/18/2023')]))])\n",
      "/molecule_type=protein\n",
      "Seq('MYYVCLDSLKFPKKKTDVYSLAERKYEWARSAFGKRRRRRWRRKKKEVYFSYMR...KSF')\n"
     ]
    }
   ],
   "source": [
    "with Entrez.efetch(\n",
    "    db=\"protein\", id=ACCESSION, rettype=\"gb\", retmode=\"text\"\n",
    ") as handle:\n",
    "    record = SeqIO.read(handle, \"genbank\")\n",
    "    print(record)"
   ]
  },
  {
   "cell_type": "code",
   "execution_count": 103,
   "id": "21af7a64-da99-43c9-a816-004cfaec4eec",
   "metadata": {
    "tags": []
   },
   "outputs": [
    {
     "data": {
      "text/plain": [
       "'MYYVCLDSLKFPKKKTDVYSLAERKYEWARSAFGKRRRRRWRRKKKEVYFSYMRKILKQVHADFSGCSWVLDALGSLDDWRLEWVSLEAVRLSFYNHRRAVTSREILEAVKQRLSWKSF'"
      ]
     },
     "execution_count": 103,
     "metadata": {},
     "output_type": "execute_result"
    }
   ],
   "source": [
    "str(record.seq)"
   ]
  },
  {
   "cell_type": "code",
   "execution_count": 104,
   "id": "33743147-e7ef-41c2-87be-d1dac9652ff9",
   "metadata": {
    "tags": []
   },
   "outputs": [
    {
     "data": {
      "text/plain": [
       "'Dasypus novemcinctus'"
      ]
     },
     "execution_count": 104,
     "metadata": {},
     "output_type": "execute_result"
    }
   ],
   "source": [
    "record.annotations[\"organism\"]"
   ]
  },
  {
   "cell_type": "code",
   "execution_count": 105,
   "id": "3e4f6bf4-bf4b-4303-ae2b-8f13d6b62eca",
   "metadata": {
    "tags": []
   },
   "outputs": [
    {
     "name": "stdout",
     "output_type": "stream",
     "text": [
      "Fetched taxid from NCBI <built-in function id>\n"
     ]
    },
    {
     "data": {
      "text/plain": [
       "{'organism': 'Dasypus novemcinctus',\n",
       " 'taxonomy_id': 9361,\n",
       " 'phylum': 'Chordata',\n",
       " 'class': 'Mammalia'}"
      ]
     },
     "execution_count": 105,
     "metadata": {},
     "output_type": "execute_result"
    }
   ],
   "source": [
    "taxonomy_data = get_taxonomy_data(record)\n",
    "taxonomy_data"
   ]
  },
  {
   "cell_type": "markdown",
   "id": "2815ec50-4170-4ea2-8d79-24ec105ded1f",
   "metadata": {},
   "source": [
    "## Adding XP_058139847.1"
   ]
  },
  {
   "cell_type": "code",
   "execution_count": 106,
   "id": "e8e879c5-585f-456e-811d-f6dd15461952",
   "metadata": {
    "tags": []
   },
   "outputs": [
    {
     "data": {
      "text/plain": [
       "{'accession': 'XP_058139847.1',\n",
       " 'variant': 'H2B.N',\n",
       " 'gi': None,\n",
       " 'ncbi_gene_id': None,\n",
       " 'hgnc_gene_name': None,\n",
       " 'taxonomy_id': 9361,\n",
       " 'organism': 'Dasypus novemcinctus',\n",
       " 'phylum': 'Chordata',\n",
       " 'class': 'Mammalia',\n",
       " 'taxonomy_group': None,\n",
       " 'info': None,\n",
       " 'sequence': 'MYYVCLDSLKFPKKKTDVYSLAERKYEWARSAFGKRRRRRWRRKKKEVYFSYMRKILKQVHADFSGCSWVLDALGSLDDWRLEWVSLEAVRLSFYNHRRAVTSREILEAVKQRLSWKSF',\n",
       " 'variant_under_consideration': None}"
      ]
     },
     "execution_count": 106,
     "metadata": {},
     "output_type": "execute_result"
    }
   ],
   "source": [
    "data_sequence = {\n",
    "    \"accession\": ACCESSION,\n",
    "    \"variant\": \"H2B.N\",\n",
    "    \"gi\": None,\n",
    "    \"ncbi_gene_id\": None,\n",
    "    \"hgnc_gene_name\": None,\n",
    "    \"taxonomy_id\": None,\n",
    "    \"organism\": None,\n",
    "    \"phylum\": None,\n",
    "    \"class\": None,\n",
    "    \"taxonomy_group\": None,\n",
    "    \"info\": None,\n",
    "    \"sequence\": str(record.seq),\n",
    "    \"variant_under_consideration\": None,\n",
    "}\n",
    "data_sequence.update(taxonomy_data)\n",
    "data_sequence"
   ]
  },
  {
   "cell_type": "code",
   "execution_count": 107,
   "id": "4dcbf8bc-ca18-4f9e-876e-76666c741917",
   "metadata": {
    "tags": []
   },
   "outputs": [
    {
     "name": "stdout",
     "output_type": "stream",
     "text": [
      "accession <class 'str'>\n",
      "variant <class 'str'>\n",
      "gi <class 'NoneType'>\n",
      "ncbi_gene_id <class 'NoneType'>\n",
      "hgnc_gene_name <class 'NoneType'>\n",
      "taxonomy_id <class 'int'>\n",
      "organism <class 'str'>\n",
      "phylum <class 'str'>\n",
      "class <class 'str'>\n",
      "taxonomy_group <class 'NoneType'>\n",
      "info <class 'NoneType'>\n",
      "sequence <class 'str'>\n",
      "variant_under_consideration <class 'NoneType'>\n"
     ]
    }
   ],
   "source": [
    "for k, v in data_sequence.items():\n",
    "    print(k, type(v))"
   ]
  },
  {
   "cell_type": "code",
   "execution_count": 108,
   "id": "fc52080a-4d57-4a03-9788-60e5adc5063f",
   "metadata": {
    "tags": []
   },
   "outputs": [],
   "source": [
    "cursor.execute(add_sequence, data_sequence)"
   ]
  },
  {
   "cell_type": "code",
   "execution_count": 109,
   "id": "45530eb3-aa68-4db1-9492-97d992f88668",
   "metadata": {
    "tags": []
   },
   "outputs": [
    {
     "data": {
      "text/html": [
       "<div>\n",
       "<style scoped>\n",
       "    .dataframe tbody tr th:only-of-type {\n",
       "        vertical-align: middle;\n",
       "    }\n",
       "\n",
       "    .dataframe tbody tr th {\n",
       "        vertical-align: top;\n",
       "    }\n",
       "\n",
       "    .dataframe thead th {\n",
       "        text-align: right;\n",
       "    }\n",
       "</style>\n",
       "<table border=\"1\" class=\"dataframe\">\n",
       "  <thead>\n",
       "    <tr style=\"text-align: right;\">\n",
       "      <th></th>\n",
       "      <th>accession</th>\n",
       "      <th>variant</th>\n",
       "      <th>gi</th>\n",
       "      <th>ncbi_gene_id</th>\n",
       "      <th>hgnc_gene_name</th>\n",
       "      <th>taxonomy_id</th>\n",
       "      <th>organism</th>\n",
       "      <th>phylum</th>\n",
       "      <th>class</th>\n",
       "      <th>taxonomy_group</th>\n",
       "      <th>info</th>\n",
       "      <th>sequence</th>\n",
       "      <th>variant_under_consideration</th>\n",
       "      <th>sequence_accession</th>\n",
       "      <th>publication_id</th>\n",
       "    </tr>\n",
       "  </thead>\n",
       "  <tbody>\n",
       "    <tr>\n",
       "      <th>0</th>\n",
       "      <td>XP_058139847.1</td>\n",
       "      <td>H2B.N</td>\n",
       "      <td>None</td>\n",
       "      <td>None</td>\n",
       "      <td>None</td>\n",
       "      <td>9361</td>\n",
       "      <td>Dasypus novemcinctus</td>\n",
       "      <td>Chordata</td>\n",
       "      <td>Mammalia</td>\n",
       "      <td>None</td>\n",
       "      <td>None</td>\n",
       "      <td>MYYVCLDSLKFPKKKTDVYSLAERKYEWARSAFGKRRRRRWRRKKK...</td>\n",
       "      <td>None</td>\n",
       "      <td>None</td>\n",
       "      <td>None</td>\n",
       "    </tr>\n",
       "  </tbody>\n",
       "</table>\n",
       "</div>"
      ],
      "text/plain": [
       "        accession variant    gi ncbi_gene_id hgnc_gene_name  taxonomy_id  \\\n",
       "0  XP_058139847.1   H2B.N  None         None           None         9361   \n",
       "\n",
       "               organism    phylum     class taxonomy_group  info  \\\n",
       "0  Dasypus novemcinctus  Chordata  Mammalia           None  None   \n",
       "\n",
       "                                            sequence  \\\n",
       "0  MYYVCLDSLKFPKKKTDVYSLAERKYEWARSAFGKRRRRRWRRKKK...   \n",
       "\n",
       "  variant_under_consideration sequence_accession publication_id  \n",
       "0                        None               None           None  "
      ]
     },
     "execution_count": 109,
     "metadata": {},
     "output_type": "execute_result"
    }
   ],
   "source": [
    "query = (\n",
    "    \"SELECT * FROM sequence s LEFT JOIN sequence_has_publication sp \"\n",
    "    \"ON s.accession = sp.sequence_accession \"\n",
    "    f\"WHERE s.accession='{ACCESSION}'\"\n",
    ")\n",
    "cursor.execute(query)\n",
    "df = pd.DataFrame(cursor.fetchall(), columns=[i[0] for i in cursor.description])\n",
    "df"
   ]
  },
  {
   "cell_type": "markdown",
   "id": "b4a4e547-4233-4026-a0f5-abc0e8781ef7",
   "metadata": {},
   "source": [
    "## Add publication"
   ]
  },
  {
   "cell_type": "code",
   "execution_count": 110,
   "id": "18f2a79a-90f7-4067-b8f2-cf16446cc4ff",
   "metadata": {
    "tags": []
   },
   "outputs": [
    {
     "data": {
      "text/html": [
       "<div>\n",
       "<style scoped>\n",
       "    .dataframe tbody tr th:only-of-type {\n",
       "        vertical-align: middle;\n",
       "    }\n",
       "\n",
       "    .dataframe tbody tr th {\n",
       "        vertical-align: top;\n",
       "    }\n",
       "\n",
       "    .dataframe thead th {\n",
       "        text-align: right;\n",
       "    }\n",
       "</style>\n",
       "<table border=\"1\" class=\"dataframe\">\n",
       "  <thead>\n",
       "    <tr style=\"text-align: right;\">\n",
       "      <th></th>\n",
       "      <th>id</th>\n",
       "      <th>title</th>\n",
       "      <th>doi</th>\n",
       "      <th>author</th>\n",
       "      <th>year</th>\n",
       "    </tr>\n",
       "  </thead>\n",
       "  <tbody>\n",
       "    <tr>\n",
       "      <th>0</th>\n",
       "      <td>35099534</td>\n",
       "      <td>None</td>\n",
       "      <td>None</td>\n",
       "      <td>None</td>\n",
       "      <td>None</td>\n",
       "    </tr>\n",
       "  </tbody>\n",
       "</table>\n",
       "</div>"
      ],
      "text/plain": [
       "         id title   doi author  year\n",
       "0  35099534  None  None   None  None"
      ]
     },
     "execution_count": 110,
     "metadata": {},
     "output_type": "execute_result"
    }
   ],
   "source": [
    "pid = \"35099534\"\n",
    "query = \"SELECT * FROM publication WHERE id='35099534'\"\n",
    "cursor.execute(query)\n",
    "pd.DataFrame(cursor.fetchall(), columns=[i[0] for i in cursor.description])"
   ]
  },
  {
   "cell_type": "code",
   "execution_count": 111,
   "id": "2e287bd2-c2ec-4457-b5e9-26054c1938f9",
   "metadata": {
    "tags": []
   },
   "outputs": [],
   "source": [
    "cursor.execute(add_sequence_has_publication, (ACCESSION, pid))"
   ]
  },
  {
   "cell_type": "code",
   "execution_count": 112,
   "id": "f063277a-c003-433f-9653-42c1ab9b22f4",
   "metadata": {
    "tags": []
   },
   "outputs": [
    {
     "data": {
      "text/html": [
       "<div>\n",
       "<style scoped>\n",
       "    .dataframe tbody tr th:only-of-type {\n",
       "        vertical-align: middle;\n",
       "    }\n",
       "\n",
       "    .dataframe tbody tr th {\n",
       "        vertical-align: top;\n",
       "    }\n",
       "\n",
       "    .dataframe thead th {\n",
       "        text-align: right;\n",
       "    }\n",
       "</style>\n",
       "<table border=\"1\" class=\"dataframe\">\n",
       "  <thead>\n",
       "    <tr style=\"text-align: right;\">\n",
       "      <th></th>\n",
       "      <th>accession</th>\n",
       "      <th>variant</th>\n",
       "      <th>gi</th>\n",
       "      <th>ncbi_gene_id</th>\n",
       "      <th>hgnc_gene_name</th>\n",
       "      <th>taxonomy_id</th>\n",
       "      <th>organism</th>\n",
       "      <th>phylum</th>\n",
       "      <th>class</th>\n",
       "      <th>taxonomy_group</th>\n",
       "      <th>info</th>\n",
       "      <th>sequence</th>\n",
       "      <th>variant_under_consideration</th>\n",
       "      <th>sequence_accession</th>\n",
       "      <th>publication_id</th>\n",
       "    </tr>\n",
       "  </thead>\n",
       "  <tbody>\n",
       "    <tr>\n",
       "      <th>0</th>\n",
       "      <td>XP_058139847.1</td>\n",
       "      <td>H2B.N</td>\n",
       "      <td>None</td>\n",
       "      <td>None</td>\n",
       "      <td>None</td>\n",
       "      <td>9361</td>\n",
       "      <td>Dasypus novemcinctus</td>\n",
       "      <td>Chordata</td>\n",
       "      <td>Mammalia</td>\n",
       "      <td>None</td>\n",
       "      <td>None</td>\n",
       "      <td>MYYVCLDSLKFPKKKTDVYSLAERKYEWARSAFGKRRRRRWRRKKK...</td>\n",
       "      <td>None</td>\n",
       "      <td>XP_058139847.1</td>\n",
       "      <td>35099534</td>\n",
       "    </tr>\n",
       "  </tbody>\n",
       "</table>\n",
       "</div>"
      ],
      "text/plain": [
       "        accession variant    gi ncbi_gene_id hgnc_gene_name  taxonomy_id  \\\n",
       "0  XP_058139847.1   H2B.N  None         None           None         9361   \n",
       "\n",
       "               organism    phylum     class taxonomy_group  info  \\\n",
       "0  Dasypus novemcinctus  Chordata  Mammalia           None  None   \n",
       "\n",
       "                                            sequence  \\\n",
       "0  MYYVCLDSLKFPKKKTDVYSLAERKYEWARSAFGKRRRRRWRRKKK...   \n",
       "\n",
       "  variant_under_consideration sequence_accession publication_id  \n",
       "0                        None     XP_058139847.1       35099534  "
      ]
     },
     "execution_count": 112,
     "metadata": {},
     "output_type": "execute_result"
    }
   ],
   "source": [
    "query = (\n",
    "    \"SELECT * FROM sequence s LEFT JOIN sequence_has_publication sp \"\n",
    "    \"ON s.accession = sp.sequence_accession \"\n",
    "    f\"WHERE s.accession='{ACCESSION}'\"\n",
    ")\n",
    "cursor.execute(query)\n",
    "df = pd.DataFrame(cursor.fetchall(), columns=[i[0] for i in cursor.description])\n",
    "df"
   ]
  },
  {
   "cell_type": "code",
   "execution_count": 113,
   "id": "b9ac4df0-0ad6-494c-85c2-be099ff9e457",
   "metadata": {
    "tags": []
   },
   "outputs": [
    {
     "data": {
      "text/html": [
       "<div>\n",
       "<style scoped>\n",
       "    .dataframe tbody tr th:only-of-type {\n",
       "        vertical-align: middle;\n",
       "    }\n",
       "\n",
       "    .dataframe tbody tr th {\n",
       "        vertical-align: top;\n",
       "    }\n",
       "\n",
       "    .dataframe thead th {\n",
       "        text-align: right;\n",
       "    }\n",
       "</style>\n",
       "<table border=\"1\" class=\"dataframe\">\n",
       "  <thead>\n",
       "    <tr style=\"text-align: right;\">\n",
       "      <th></th>\n",
       "      <th>accession</th>\n",
       "      <th>variant</th>\n",
       "      <th>gi</th>\n",
       "      <th>ncbi_gene_id</th>\n",
       "      <th>hgnc_gene_name</th>\n",
       "      <th>taxonomy_id</th>\n",
       "      <th>organism</th>\n",
       "      <th>phylum</th>\n",
       "      <th>class</th>\n",
       "      <th>taxonomy_group</th>\n",
       "      <th>info</th>\n",
       "      <th>sequence</th>\n",
       "      <th>variant_under_consideration</th>\n",
       "      <th>sequence_accession</th>\n",
       "      <th>publication_id</th>\n",
       "    </tr>\n",
       "  </thead>\n",
       "  <tbody>\n",
       "    <tr>\n",
       "      <th>0</th>\n",
       "      <td>HISTDB_H2B_N_0</td>\n",
       "      <td>H2B.N</td>\n",
       "      <td>None</td>\n",
       "      <td>None</td>\n",
       "      <td>None</td>\n",
       "      <td>9940</td>\n",
       "      <td>Ovis aries</td>\n",
       "      <td>Chordata</td>\n",
       "      <td>Mammalia</td>\n",
       "      <td>None</td>\n",
       "      <td>None</td>\n",
       "      <td>MHFICLHGLQFPKRKLTISIPAKEKDEWVHSATGKKRRKKKEAYFN...</td>\n",
       "      <td>None</td>\n",
       "      <td>HISTDB_H2B_N_0</td>\n",
       "      <td>35099534</td>\n",
       "    </tr>\n",
       "    <tr>\n",
       "      <th>1</th>\n",
       "      <td>HISTDB_H2B_N_1</td>\n",
       "      <td>H2B.N</td>\n",
       "      <td>None</td>\n",
       "      <td>None</td>\n",
       "      <td>None</td>\n",
       "      <td>9807</td>\n",
       "      <td>Ceratotherium simum</td>\n",
       "      <td>Chordata</td>\n",
       "      <td>Mammalia</td>\n",
       "      <td>None</td>\n",
       "      <td>None</td>\n",
       "      <td>MYFICLRGLRFPKKTTNYILAKKKYEWTSSAIGKKRRRKKKEAYFS...</td>\n",
       "      <td>None</td>\n",
       "      <td>HISTDB_H2B_N_1</td>\n",
       "      <td>35099534</td>\n",
       "    </tr>\n",
       "    <tr>\n",
       "      <th>2</th>\n",
       "      <td>HISTDB_H2B_N_2</td>\n",
       "      <td>H2B.N</td>\n",
       "      <td>None</td>\n",
       "      <td>None</td>\n",
       "      <td>None</td>\n",
       "      <td>9615</td>\n",
       "      <td>Canis lupus familiaris</td>\n",
       "      <td>Chordata</td>\n",
       "      <td>Mammalia</td>\n",
       "      <td>None</td>\n",
       "      <td>None</td>\n",
       "      <td>MYYICLHGLRFPEKRTILYIPAREKYEWANSALRKKRKKKEVYFSY...</td>\n",
       "      <td>None</td>\n",
       "      <td>HISTDB_H2B_N_2</td>\n",
       "      <td>35099534</td>\n",
       "    </tr>\n",
       "    <tr>\n",
       "      <th>3</th>\n",
       "      <td>HISTDB_H2B_N_3</td>\n",
       "      <td>H2B.N</td>\n",
       "      <td>None</td>\n",
       "      <td>None</td>\n",
       "      <td>None</td>\n",
       "      <td>9646</td>\n",
       "      <td>Ailuropoda melanoleuca</td>\n",
       "      <td>Chordata</td>\n",
       "      <td>Mammalia</td>\n",
       "      <td>None</td>\n",
       "      <td>None</td>\n",
       "      <td>MYYVCLHDPRFPKKRTTLYIPAKAKYECANSALRHKRKKKEVYFSY...</td>\n",
       "      <td>None</td>\n",
       "      <td>HISTDB_H2B_N_3</td>\n",
       "      <td>35099534</td>\n",
       "    </tr>\n",
       "    <tr>\n",
       "      <th>4</th>\n",
       "      <td>HISTDB_H2B_N_4</td>\n",
       "      <td>H2B.N</td>\n",
       "      <td>None</td>\n",
       "      <td>None</td>\n",
       "      <td>None</td>\n",
       "      <td>9785</td>\n",
       "      <td>Loxodonta africana</td>\n",
       "      <td>Chordata</td>\n",
       "      <td>Mammalia</td>\n",
       "      <td>None</td>\n",
       "      <td>None</td>\n",
       "      <td>MYYVCLGGLKFPKKSEVHIPAKKKYEWANSAFEKKRRRRRRKKKEA...</td>\n",
       "      <td>None</td>\n",
       "      <td>HISTDB_H2B_N_4</td>\n",
       "      <td>35099534</td>\n",
       "    </tr>\n",
       "    <tr>\n",
       "      <th>5</th>\n",
       "      <td>XP_058139847.1</td>\n",
       "      <td>H2B.N</td>\n",
       "      <td>None</td>\n",
       "      <td>None</td>\n",
       "      <td>None</td>\n",
       "      <td>9361</td>\n",
       "      <td>Dasypus novemcinctus</td>\n",
       "      <td>Chordata</td>\n",
       "      <td>Mammalia</td>\n",
       "      <td>None</td>\n",
       "      <td>None</td>\n",
       "      <td>MYYVCLDSLKFPKKKTDVYSLAERKYEWARSAFGKRRRRRWRRKKK...</td>\n",
       "      <td>None</td>\n",
       "      <td>XP_058139847.1</td>\n",
       "      <td>35099534</td>\n",
       "    </tr>\n",
       "    <tr>\n",
       "      <th>6</th>\n",
       "      <td>XP_059734412.1</td>\n",
       "      <td>H2B.N</td>\n",
       "      <td>None</td>\n",
       "      <td>None</td>\n",
       "      <td>None</td>\n",
       "      <td>9913</td>\n",
       "      <td>Bos taurus</td>\n",
       "      <td>Chordata</td>\n",
       "      <td>Mammalia</td>\n",
       "      <td>None</td>\n",
       "      <td>None</td>\n",
       "      <td>MYFICLHGLQFPKRKLTIYIPAKEKDEWVHSATGKKRRKKKETYFN...</td>\n",
       "      <td>None</td>\n",
       "      <td>XP_059734412.1</td>\n",
       "      <td>35099534</td>\n",
       "    </tr>\n",
       "    <tr>\n",
       "      <th>7</th>\n",
       "      <td>XP_059746706.1</td>\n",
       "      <td>H2B.N</td>\n",
       "      <td>None</td>\n",
       "      <td>None</td>\n",
       "      <td>None</td>\n",
       "      <td>9913</td>\n",
       "      <td>Bos taurus</td>\n",
       "      <td>Chordata</td>\n",
       "      <td>Mammalia</td>\n",
       "      <td>None</td>\n",
       "      <td>None</td>\n",
       "      <td>MHFICLHGLQFPKRKLTIYIPAKEKDEWVCSATGKKRRKKKEAYFN...</td>\n",
       "      <td>None</td>\n",
       "      <td>XP_059746706.1</td>\n",
       "      <td>35099534</td>\n",
       "    </tr>\n",
       "    <tr>\n",
       "      <th>8</th>\n",
       "      <td>XP_060251208.1</td>\n",
       "      <td>H2B.N</td>\n",
       "      <td>None</td>\n",
       "      <td>None</td>\n",
       "      <td>None</td>\n",
       "      <td>9940</td>\n",
       "      <td>Ovis aries</td>\n",
       "      <td>Chordata</td>\n",
       "      <td>Mammalia</td>\n",
       "      <td>None</td>\n",
       "      <td>None</td>\n",
       "      <td>MHFICLHGLQFPKRKLTISIPAKEKDEWVHSATGKKRRKKKEAYFN...</td>\n",
       "      <td>None</td>\n",
       "      <td>XP_060251208.1</td>\n",
       "      <td>35099534</td>\n",
       "    </tr>\n",
       "  </tbody>\n",
       "</table>\n",
       "</div>"
      ],
      "text/plain": [
       "        accession variant    gi ncbi_gene_id hgnc_gene_name  taxonomy_id  \\\n",
       "0  HISTDB_H2B_N_0   H2B.N  None         None           None         9940   \n",
       "1  HISTDB_H2B_N_1   H2B.N  None         None           None         9807   \n",
       "2  HISTDB_H2B_N_2   H2B.N  None         None           None         9615   \n",
       "3  HISTDB_H2B_N_3   H2B.N  None         None           None         9646   \n",
       "4  HISTDB_H2B_N_4   H2B.N  None         None           None         9785   \n",
       "5  XP_058139847.1   H2B.N  None         None           None         9361   \n",
       "6  XP_059734412.1   H2B.N  None         None           None         9913   \n",
       "7  XP_059746706.1   H2B.N  None         None           None         9913   \n",
       "8  XP_060251208.1   H2B.N  None         None           None         9940   \n",
       "\n",
       "                 organism    phylum     class taxonomy_group  info  \\\n",
       "0              Ovis aries  Chordata  Mammalia           None  None   \n",
       "1     Ceratotherium simum  Chordata  Mammalia           None  None   \n",
       "2  Canis lupus familiaris  Chordata  Mammalia           None  None   \n",
       "3  Ailuropoda melanoleuca  Chordata  Mammalia           None  None   \n",
       "4      Loxodonta africana  Chordata  Mammalia           None  None   \n",
       "5    Dasypus novemcinctus  Chordata  Mammalia           None  None   \n",
       "6              Bos taurus  Chordata  Mammalia           None  None   \n",
       "7              Bos taurus  Chordata  Mammalia           None  None   \n",
       "8              Ovis aries  Chordata  Mammalia           None  None   \n",
       "\n",
       "                                            sequence  \\\n",
       "0  MHFICLHGLQFPKRKLTISIPAKEKDEWVHSATGKKRRKKKEAYFN...   \n",
       "1  MYFICLRGLRFPKKTTNYILAKKKYEWTSSAIGKKRRRKKKEAYFS...   \n",
       "2  MYYICLHGLRFPEKRTILYIPAREKYEWANSALRKKRKKKEVYFSY...   \n",
       "3  MYYVCLHDPRFPKKRTTLYIPAKAKYECANSALRHKRKKKEVYFSY...   \n",
       "4  MYYVCLGGLKFPKKSEVHIPAKKKYEWANSAFEKKRRRRRRKKKEA...   \n",
       "5  MYYVCLDSLKFPKKKTDVYSLAERKYEWARSAFGKRRRRRWRRKKK...   \n",
       "6  MYFICLHGLQFPKRKLTIYIPAKEKDEWVHSATGKKRRKKKETYFN...   \n",
       "7  MHFICLHGLQFPKRKLTIYIPAKEKDEWVCSATGKKRRKKKEAYFN...   \n",
       "8  MHFICLHGLQFPKRKLTISIPAKEKDEWVHSATGKKRRKKKEAYFN...   \n",
       "\n",
       "  variant_under_consideration sequence_accession publication_id  \n",
       "0                        None     HISTDB_H2B_N_0       35099534  \n",
       "1                        None     HISTDB_H2B_N_1       35099534  \n",
       "2                        None     HISTDB_H2B_N_2       35099534  \n",
       "3                        None     HISTDB_H2B_N_3       35099534  \n",
       "4                        None     HISTDB_H2B_N_4       35099534  \n",
       "5                        None     XP_058139847.1       35099534  \n",
       "6                        None     XP_059734412.1       35099534  \n",
       "7                        None     XP_059746706.1       35099534  \n",
       "8                        None     XP_060251208.1       35099534  "
      ]
     },
     "execution_count": 113,
     "metadata": {},
     "output_type": "execute_result"
    }
   ],
   "source": [
    "query = (\n",
    "    \"SELECT * FROM sequence s LEFT JOIN sequence_has_publication sp \"\n",
    "    \"ON s.accession = sp.sequence_accession \"\n",
    "    f\"WHERE s.variant='H2B.N'\"\n",
    ")\n",
    "cursor.execute(query)\n",
    "df = pd.DataFrame(cursor.fetchall(), columns=[i[0] for i in cursor.description])\n",
    "df"
   ]
  },
  {
   "cell_type": "code",
   "execution_count": 114,
   "id": "e67342e9-4f3b-4e4c-acdc-c86574c18752",
   "metadata": {
    "tags": []
   },
   "outputs": [],
   "source": [
    "# Make sure data is committed to the database\n",
    "conn.commit()"
   ]
  },
  {
   "cell_type": "markdown",
   "id": "d368f191-9a39-4840-b694-0cdd66faea5d",
   "metadata": {
    "jp-MarkdownHeadingCollapsed": true,
    "tags": []
   },
   "source": [
    "# Add opposum H2B.Ns\n",
    "\n",
    "**Atricle:** https://academic.oup.com/mbe/article/39/2/msac019/6517784#333890704\n",
    "\n",
    "**Genes:**\n",
    "- Monodelphis domestica, monDom5, chr2, +-, 502881650-502884120, H2B.N.1 (ancestral)\n",
    "- Monodelphis domestica, monDom5, chr2, +-, 384161946-384162260, H2B.N.2\n",
    "\n",
    "**Sequences from article:**\n",
    "```fasta\n",
    ">Opposum_H2B.N.1\n",
    "MKIPRAGATVPRSFLRTGKRRGYMRTVSGKKKDFYFSYIAKILKQVHQDFSGYSWVLDALWSLDYYLFEQATLEAVRLSFYNHRRVVTSREMLEALNKVPLEGWM\n",
    ">Opposum_H2B.N.2\n",
    "MKILRAGATVPRSFITTGKRRGYMRTVSGKKKDFYFSYIAKILKQVHQDFSGYSWVLDALWSLDYYLFEQATLEAVRLSFYNHRRVVTSREMLETLSKVPLEGWM\n",
    "```\n",
    "\n",
    "BLASTP results:\n",
    "- two H2B.N.1 with 100% coverage and 100% identity (maybe shifted reading frame, 5-6aa extra from N-tail);\n",
    "- one H2B.N.2 with 100% coverage and 99% identity (1 insertion).\n",
    "\n",
    "**Protein accessions:** XP_007485606.1, XP_007485607.1, XP_007485268.2"
   ]
  },
  {
   "cell_type": "markdown",
   "id": "4a822e01-e2a7-4c05-9689-c49fea4d4e5a",
   "metadata": {},
   "source": [
    "## Accession XP_007485606.1"
   ]
  },
  {
   "cell_type": "code",
   "execution_count": 117,
   "id": "a85ea7c7-a361-45df-a2e2-e391543e727d",
   "metadata": {
    "tags": []
   },
   "outputs": [],
   "source": [
    "ACCESSION = \"XP_007485606.1\""
   ]
  },
  {
   "cell_type": "markdown",
   "id": "3000d134-a226-49f5-ac25-817eaaa9aed0",
   "metadata": {
    "tags": []
   },
   "source": [
    "## Get sequence XP_007485606.1 from NCBI"
   ]
  },
  {
   "cell_type": "code",
   "execution_count": 118,
   "id": "db21a053-9add-4c03-aaa9-d21e9e200021",
   "metadata": {
    "tags": []
   },
   "outputs": [
    {
     "name": "stdout",
     "output_type": "stream",
     "text": [
      "ID: XP_007485606.1\n",
      "Name: XP_007485606\n",
      "Description: histone H2A.N isoform X1 [Monodelphis domestica]\n",
      "Database cross-references: BioProject:PRJNA967365\n",
      "Number of features: 4\n",
      "/topology=linear\n",
      "/data_file_division=MAM\n",
      "/date=05-JUN-2023\n",
      "/accessions=['XP_007485606']\n",
      "/sequence_version=1\n",
      "/db_source=REFSEQ: accession XM_007485544.2\n",
      "/keywords=['RefSeq']\n",
      "/source=Monodelphis domestica (gray short-tailed opossum)\n",
      "/organism=Monodelphis domestica\n",
      "/taxonomy=['Eukaryota', 'Metazoa', 'Chordata', 'Craniata', 'Vertebrata', 'Euteleostomi', 'Mammalia', 'Metatheria', 'Didelphimorphia', 'Didelphidae', 'Monodelphis']\n",
      "/comment=MODEL REFSEQ:  This record is predicted by automated computational\n",
      "analysis. This record is derived from a genomic sequence\n",
      "(NC_077228) annotated using gene prediction method: Gnomon.\n",
      "Also see:\n",
      "    Documentation of NCBI's Annotation Process\n",
      "COMPLETENESS: full length.\n",
      "/structured_comment=OrderedDict([('Genome-Annotation-Data', OrderedDict([('Annotation Provider', 'NCBI RefSeq'), ('Annotation Status', 'Full annotation'), ('Annotation Name', 'GCF_027887165.1-RS_2023_05'), ('Annotation Pipeline', 'NCBI eukaryotic genome annotation pipeline'), ('Annotation Software Version', '10.1'), ('Annotation Method', 'Best-placed RefSeq; Gnomon; cmsearch; tRNAscan-SE'), ('Features Annotated', 'Gene; mRNA; CDS; ncRNA'), ('Annotation Date', '05/17/2023')]))])\n",
      "/molecule_type=protein\n",
      "Seq('MEVGTEMKIPRAGATVPRSFLRTGKRRGYMRTVSGKKKDFYFSYIAKILKQVHQ...GWM')\n"
     ]
    }
   ],
   "source": [
    "with Entrez.efetch(\n",
    "    db=\"protein\", id=ACCESSION, rettype=\"gb\", retmode=\"text\"\n",
    ") as handle:\n",
    "    record = SeqIO.read(handle, \"genbank\")\n",
    "    print(record)"
   ]
  },
  {
   "cell_type": "code",
   "execution_count": 119,
   "id": "f939ef95-f73f-4279-9bd3-aa13916d9b05",
   "metadata": {
    "tags": []
   },
   "outputs": [
    {
     "data": {
      "text/plain": [
       "'MEVGTEMKIPRAGATVPRSFLRTGKRRGYMRTVSGKKKDFYFSYIAKILKQVHQDFSGYSWVLDALWSLDYYLFEQATLEAVRLSFYNHRRVVTSREMLEALNKVPLEGWM'"
      ]
     },
     "execution_count": 119,
     "metadata": {},
     "output_type": "execute_result"
    }
   ],
   "source": [
    "str(record.seq)"
   ]
  },
  {
   "cell_type": "code",
   "execution_count": 120,
   "id": "6d86f454-e515-4d02-9445-f3effcd6d510",
   "metadata": {
    "tags": []
   },
   "outputs": [
    {
     "data": {
      "text/plain": [
       "'Monodelphis domestica'"
      ]
     },
     "execution_count": 120,
     "metadata": {},
     "output_type": "execute_result"
    }
   ],
   "source": [
    "record.annotations[\"organism\"]"
   ]
  },
  {
   "cell_type": "code",
   "execution_count": 121,
   "id": "5014c69c-8160-4b36-bfed-a45e41f287d9",
   "metadata": {
    "tags": []
   },
   "outputs": [
    {
     "name": "stdout",
     "output_type": "stream",
     "text": [
      "Fetched taxid from NCBI <built-in function id>\n"
     ]
    },
    {
     "data": {
      "text/plain": [
       "{'organism': 'Monodelphis domestica',\n",
       " 'taxonomy_id': 13616,\n",
       " 'phylum': 'Chordata',\n",
       " 'class': 'Mammalia'}"
      ]
     },
     "execution_count": 121,
     "metadata": {},
     "output_type": "execute_result"
    }
   ],
   "source": [
    "taxonomy_data = get_taxonomy_data(record)\n",
    "taxonomy_data"
   ]
  },
  {
   "cell_type": "markdown",
   "id": "a8d94702-cf87-4106-b138-b626f7f4b918",
   "metadata": {},
   "source": [
    "## Adding XP_007485606.1"
   ]
  },
  {
   "cell_type": "code",
   "execution_count": 122,
   "id": "e8198395-3555-466e-b367-52d613b25a89",
   "metadata": {
    "tags": []
   },
   "outputs": [
    {
     "data": {
      "text/plain": [
       "{'accession': 'XP_007485606.1',\n",
       " 'variant': 'H2B.N',\n",
       " 'gi': None,\n",
       " 'ncbi_gene_id': None,\n",
       " 'hgnc_gene_name': None,\n",
       " 'taxonomy_id': 13616,\n",
       " 'organism': 'Monodelphis domestica',\n",
       " 'phylum': 'Chordata',\n",
       " 'class': 'Mammalia',\n",
       " 'taxonomy_group': None,\n",
       " 'info': None,\n",
       " 'sequence': 'MEVGTEMKIPRAGATVPRSFLRTGKRRGYMRTVSGKKKDFYFSYIAKILKQVHQDFSGYSWVLDALWSLDYYLFEQATLEAVRLSFYNHRRVVTSREMLEALNKVPLEGWM',\n",
       " 'variant_under_consideration': None}"
      ]
     },
     "execution_count": 122,
     "metadata": {},
     "output_type": "execute_result"
    }
   ],
   "source": [
    "data_sequence = {\n",
    "    \"accession\": ACCESSION,\n",
    "    \"variant\": \"H2B.N\",\n",
    "    \"gi\": None,\n",
    "    \"ncbi_gene_id\": None,\n",
    "    \"hgnc_gene_name\": None,\n",
    "    \"taxonomy_id\": None,\n",
    "    \"organism\": None,\n",
    "    \"phylum\": None,\n",
    "    \"class\": None,\n",
    "    \"taxonomy_group\": None,\n",
    "    \"info\": None,\n",
    "    \"sequence\": str(record.seq),\n",
    "    \"variant_under_consideration\": None,\n",
    "}\n",
    "data_sequence.update(taxonomy_data)\n",
    "data_sequence"
   ]
  },
  {
   "cell_type": "code",
   "execution_count": 123,
   "id": "7027072d-cec2-4598-99d8-b80339d9870c",
   "metadata": {
    "tags": []
   },
   "outputs": [
    {
     "name": "stdout",
     "output_type": "stream",
     "text": [
      "accession <class 'str'>\n",
      "variant <class 'str'>\n",
      "gi <class 'NoneType'>\n",
      "ncbi_gene_id <class 'NoneType'>\n",
      "hgnc_gene_name <class 'NoneType'>\n",
      "taxonomy_id <class 'int'>\n",
      "organism <class 'str'>\n",
      "phylum <class 'str'>\n",
      "class <class 'str'>\n",
      "taxonomy_group <class 'NoneType'>\n",
      "info <class 'NoneType'>\n",
      "sequence <class 'str'>\n",
      "variant_under_consideration <class 'NoneType'>\n"
     ]
    }
   ],
   "source": [
    "for k, v in data_sequence.items():\n",
    "    print(k, type(v))"
   ]
  },
  {
   "cell_type": "code",
   "execution_count": 124,
   "id": "f1006302-18e5-4007-b7ef-a9173139eef7",
   "metadata": {
    "tags": []
   },
   "outputs": [],
   "source": [
    "cursor.execute(add_sequence, data_sequence)"
   ]
  },
  {
   "cell_type": "code",
   "execution_count": 125,
   "id": "0f9c072b-f578-4dc9-add5-59ade8dc45dd",
   "metadata": {
    "tags": []
   },
   "outputs": [
    {
     "data": {
      "text/html": [
       "<div>\n",
       "<style scoped>\n",
       "    .dataframe tbody tr th:only-of-type {\n",
       "        vertical-align: middle;\n",
       "    }\n",
       "\n",
       "    .dataframe tbody tr th {\n",
       "        vertical-align: top;\n",
       "    }\n",
       "\n",
       "    .dataframe thead th {\n",
       "        text-align: right;\n",
       "    }\n",
       "</style>\n",
       "<table border=\"1\" class=\"dataframe\">\n",
       "  <thead>\n",
       "    <tr style=\"text-align: right;\">\n",
       "      <th></th>\n",
       "      <th>accession</th>\n",
       "      <th>variant</th>\n",
       "      <th>gi</th>\n",
       "      <th>ncbi_gene_id</th>\n",
       "      <th>hgnc_gene_name</th>\n",
       "      <th>taxonomy_id</th>\n",
       "      <th>organism</th>\n",
       "      <th>phylum</th>\n",
       "      <th>class</th>\n",
       "      <th>taxonomy_group</th>\n",
       "      <th>info</th>\n",
       "      <th>sequence</th>\n",
       "      <th>variant_under_consideration</th>\n",
       "      <th>sequence_accession</th>\n",
       "      <th>publication_id</th>\n",
       "    </tr>\n",
       "  </thead>\n",
       "  <tbody>\n",
       "    <tr>\n",
       "      <th>0</th>\n",
       "      <td>XP_007485606.1</td>\n",
       "      <td>H2B.N</td>\n",
       "      <td>None</td>\n",
       "      <td>None</td>\n",
       "      <td>None</td>\n",
       "      <td>13616</td>\n",
       "      <td>Monodelphis domestica</td>\n",
       "      <td>Chordata</td>\n",
       "      <td>Mammalia</td>\n",
       "      <td>None</td>\n",
       "      <td>None</td>\n",
       "      <td>MEVGTEMKIPRAGATVPRSFLRTGKRRGYMRTVSGKKKDFYFSYIA...</td>\n",
       "      <td>None</td>\n",
       "      <td>None</td>\n",
       "      <td>None</td>\n",
       "    </tr>\n",
       "  </tbody>\n",
       "</table>\n",
       "</div>"
      ],
      "text/plain": [
       "        accession variant    gi ncbi_gene_id hgnc_gene_name  taxonomy_id  \\\n",
       "0  XP_007485606.1   H2B.N  None         None           None        13616   \n",
       "\n",
       "                organism    phylum     class taxonomy_group  info  \\\n",
       "0  Monodelphis domestica  Chordata  Mammalia           None  None   \n",
       "\n",
       "                                            sequence  \\\n",
       "0  MEVGTEMKIPRAGATVPRSFLRTGKRRGYMRTVSGKKKDFYFSYIA...   \n",
       "\n",
       "  variant_under_consideration sequence_accession publication_id  \n",
       "0                        None               None           None  "
      ]
     },
     "execution_count": 125,
     "metadata": {},
     "output_type": "execute_result"
    }
   ],
   "source": [
    "query = (\n",
    "    \"SELECT * FROM sequence s LEFT JOIN sequence_has_publication sp \"\n",
    "    \"ON s.accession = sp.sequence_accession \"\n",
    "    f\"WHERE s.accession='{ACCESSION}'\"\n",
    ")\n",
    "cursor.execute(query)\n",
    "df = pd.DataFrame(cursor.fetchall(), columns=[i[0] for i in cursor.description])\n",
    "df"
   ]
  },
  {
   "cell_type": "markdown",
   "id": "9673a790-9d40-4a9f-8d94-bbf3febeed81",
   "metadata": {},
   "source": [
    "## Add publication"
   ]
  },
  {
   "cell_type": "code",
   "execution_count": 126,
   "id": "1831bc55-6397-4946-9c2e-2394af347a8d",
   "metadata": {
    "tags": []
   },
   "outputs": [
    {
     "data": {
      "text/html": [
       "<div>\n",
       "<style scoped>\n",
       "    .dataframe tbody tr th:only-of-type {\n",
       "        vertical-align: middle;\n",
       "    }\n",
       "\n",
       "    .dataframe tbody tr th {\n",
       "        vertical-align: top;\n",
       "    }\n",
       "\n",
       "    .dataframe thead th {\n",
       "        text-align: right;\n",
       "    }\n",
       "</style>\n",
       "<table border=\"1\" class=\"dataframe\">\n",
       "  <thead>\n",
       "    <tr style=\"text-align: right;\">\n",
       "      <th></th>\n",
       "      <th>id</th>\n",
       "      <th>title</th>\n",
       "      <th>doi</th>\n",
       "      <th>author</th>\n",
       "      <th>year</th>\n",
       "    </tr>\n",
       "  </thead>\n",
       "  <tbody>\n",
       "    <tr>\n",
       "      <th>0</th>\n",
       "      <td>35099534</td>\n",
       "      <td>None</td>\n",
       "      <td>None</td>\n",
       "      <td>None</td>\n",
       "      <td>None</td>\n",
       "    </tr>\n",
       "  </tbody>\n",
       "</table>\n",
       "</div>"
      ],
      "text/plain": [
       "         id title   doi author  year\n",
       "0  35099534  None  None   None  None"
      ]
     },
     "execution_count": 126,
     "metadata": {},
     "output_type": "execute_result"
    }
   ],
   "source": [
    "pid = \"35099534\"\n",
    "query = \"SELECT * FROM publication WHERE id='35099534'\"\n",
    "cursor.execute(query)\n",
    "pd.DataFrame(cursor.fetchall(), columns=[i[0] for i in cursor.description])"
   ]
  },
  {
   "cell_type": "code",
   "execution_count": 127,
   "id": "e755251c-1049-4ca2-a881-826399bf5a2b",
   "metadata": {
    "tags": []
   },
   "outputs": [],
   "source": [
    "cursor.execute(add_sequence_has_publication, (ACCESSION, pid))"
   ]
  },
  {
   "cell_type": "code",
   "execution_count": 128,
   "id": "3928259d-93aa-42d5-aa33-ad47db23385b",
   "metadata": {
    "tags": []
   },
   "outputs": [
    {
     "data": {
      "text/html": [
       "<div>\n",
       "<style scoped>\n",
       "    .dataframe tbody tr th:only-of-type {\n",
       "        vertical-align: middle;\n",
       "    }\n",
       "\n",
       "    .dataframe tbody tr th {\n",
       "        vertical-align: top;\n",
       "    }\n",
       "\n",
       "    .dataframe thead th {\n",
       "        text-align: right;\n",
       "    }\n",
       "</style>\n",
       "<table border=\"1\" class=\"dataframe\">\n",
       "  <thead>\n",
       "    <tr style=\"text-align: right;\">\n",
       "      <th></th>\n",
       "      <th>accession</th>\n",
       "      <th>variant</th>\n",
       "      <th>gi</th>\n",
       "      <th>ncbi_gene_id</th>\n",
       "      <th>hgnc_gene_name</th>\n",
       "      <th>taxonomy_id</th>\n",
       "      <th>organism</th>\n",
       "      <th>phylum</th>\n",
       "      <th>class</th>\n",
       "      <th>taxonomy_group</th>\n",
       "      <th>info</th>\n",
       "      <th>sequence</th>\n",
       "      <th>variant_under_consideration</th>\n",
       "      <th>sequence_accession</th>\n",
       "      <th>publication_id</th>\n",
       "    </tr>\n",
       "  </thead>\n",
       "  <tbody>\n",
       "    <tr>\n",
       "      <th>0</th>\n",
       "      <td>XP_007485606.1</td>\n",
       "      <td>H2B.N</td>\n",
       "      <td>None</td>\n",
       "      <td>None</td>\n",
       "      <td>None</td>\n",
       "      <td>13616</td>\n",
       "      <td>Monodelphis domestica</td>\n",
       "      <td>Chordata</td>\n",
       "      <td>Mammalia</td>\n",
       "      <td>None</td>\n",
       "      <td>None</td>\n",
       "      <td>MEVGTEMKIPRAGATVPRSFLRTGKRRGYMRTVSGKKKDFYFSYIA...</td>\n",
       "      <td>None</td>\n",
       "      <td>XP_007485606.1</td>\n",
       "      <td>35099534</td>\n",
       "    </tr>\n",
       "  </tbody>\n",
       "</table>\n",
       "</div>"
      ],
      "text/plain": [
       "        accession variant    gi ncbi_gene_id hgnc_gene_name  taxonomy_id  \\\n",
       "0  XP_007485606.1   H2B.N  None         None           None        13616   \n",
       "\n",
       "                organism    phylum     class taxonomy_group  info  \\\n",
       "0  Monodelphis domestica  Chordata  Mammalia           None  None   \n",
       "\n",
       "                                            sequence  \\\n",
       "0  MEVGTEMKIPRAGATVPRSFLRTGKRRGYMRTVSGKKKDFYFSYIA...   \n",
       "\n",
       "  variant_under_consideration sequence_accession publication_id  \n",
       "0                        None     XP_007485606.1       35099534  "
      ]
     },
     "execution_count": 128,
     "metadata": {},
     "output_type": "execute_result"
    }
   ],
   "source": [
    "query = (\n",
    "    \"SELECT * FROM sequence s LEFT JOIN sequence_has_publication sp \"\n",
    "    \"ON s.accession = sp.sequence_accession \"\n",
    "    f\"WHERE s.accession='{ACCESSION}'\"\n",
    ")\n",
    "cursor.execute(query)\n",
    "df = pd.DataFrame(cursor.fetchall(), columns=[i[0] for i in cursor.description])\n",
    "df"
   ]
  },
  {
   "cell_type": "markdown",
   "id": "b694fc3c-c377-4b71-8add-b02d5560d7a1",
   "metadata": {},
   "source": [
    "## Accession XP_007485607.1"
   ]
  },
  {
   "cell_type": "code",
   "execution_count": 130,
   "id": "93e58be8-a2a1-404a-9afb-15d22a24cfc5",
   "metadata": {
    "tags": []
   },
   "outputs": [],
   "source": [
    "ACCESSION = \"XP_007485607.1\""
   ]
  },
  {
   "cell_type": "markdown",
   "id": "c642f17d-d325-4d3e-95e6-28eb3feeb4b5",
   "metadata": {
    "tags": []
   },
   "source": [
    "## Get sequence XP_007485607.1 from NCBI"
   ]
  },
  {
   "cell_type": "code",
   "execution_count": 131,
   "id": "ca9c6e2b-512a-4951-ac82-19ba8c4e744e",
   "metadata": {
    "tags": []
   },
   "outputs": [
    {
     "name": "stdout",
     "output_type": "stream",
     "text": [
      "ID: XP_007485607.1\n",
      "Name: XP_007485607\n",
      "Description: histone H2A.N isoform X2 [Monodelphis domestica]\n",
      "Database cross-references: BioProject:PRJNA967365\n",
      "Number of features: 4\n",
      "/topology=linear\n",
      "/data_file_division=MAM\n",
      "/date=05-JUN-2023\n",
      "/accessions=['XP_007485607']\n",
      "/sequence_version=1\n",
      "/db_source=REFSEQ: accession XM_007485545.2\n",
      "/keywords=['RefSeq']\n",
      "/source=Monodelphis domestica (gray short-tailed opossum)\n",
      "/organism=Monodelphis domestica\n",
      "/taxonomy=['Eukaryota', 'Metazoa', 'Chordata', 'Craniata', 'Vertebrata', 'Euteleostomi', 'Mammalia', 'Metatheria', 'Didelphimorphia', 'Didelphidae', 'Monodelphis']\n",
      "/comment=MODEL REFSEQ:  This record is predicted by automated computational\n",
      "analysis. This record is derived from a genomic sequence\n",
      "(NC_077228) annotated using gene prediction method: Gnomon.\n",
      "Also see:\n",
      "    Documentation of NCBI's Annotation Process\n",
      "COMPLETENESS: full length.\n",
      "/structured_comment=OrderedDict([('Genome-Annotation-Data', OrderedDict([('Annotation Provider', 'NCBI RefSeq'), ('Annotation Status', 'Full annotation'), ('Annotation Name', 'GCF_027887165.1-RS_2023_05'), ('Annotation Pipeline', 'NCBI eukaryotic genome annotation pipeline'), ('Annotation Software Version', '10.1'), ('Annotation Method', 'Best-placed RefSeq; Gnomon; cmsearch; tRNAscan-SE'), ('Features Annotated', 'Gene; mRNA; CDS; ncRNA'), ('Annotation Date', '05/17/2023')]))])\n",
      "/molecule_type=protein\n",
      "Seq('MEGTEMKIPRAGATVPRSFLRTGKRRGYMRTVSGKKKDFYFSYIAKILKQVHQD...GWM')\n"
     ]
    }
   ],
   "source": [
    "with Entrez.efetch(\n",
    "    db=\"protein\", id=ACCESSION, rettype=\"gb\", retmode=\"text\"\n",
    ") as handle:\n",
    "    record = SeqIO.read(handle, \"genbank\")\n",
    "    print(record)"
   ]
  },
  {
   "cell_type": "code",
   "execution_count": 132,
   "id": "6454aea2-8543-48f0-a614-5def7335645f",
   "metadata": {
    "tags": []
   },
   "outputs": [
    {
     "data": {
      "text/plain": [
       "'MEGTEMKIPRAGATVPRSFLRTGKRRGYMRTVSGKKKDFYFSYIAKILKQVHQDFSGYSWVLDALWSLDYYLFEQATLEAVRLSFYNHRRVVTSREMLEALNKVPLEGWM'"
      ]
     },
     "execution_count": 132,
     "metadata": {},
     "output_type": "execute_result"
    }
   ],
   "source": [
    "str(record.seq)"
   ]
  },
  {
   "cell_type": "code",
   "execution_count": 133,
   "id": "b26c5f6c-1634-42dd-9866-6da33e79545b",
   "metadata": {
    "tags": []
   },
   "outputs": [
    {
     "data": {
      "text/plain": [
       "'Monodelphis domestica'"
      ]
     },
     "execution_count": 133,
     "metadata": {},
     "output_type": "execute_result"
    }
   ],
   "source": [
    "record.annotations[\"organism\"]"
   ]
  },
  {
   "cell_type": "code",
   "execution_count": 134,
   "id": "1287fbb0-f4b3-4627-a688-0ecfbf9eabb8",
   "metadata": {
    "tags": []
   },
   "outputs": [
    {
     "name": "stdout",
     "output_type": "stream",
     "text": [
      "Fetched taxid from NCBI <built-in function id>\n"
     ]
    },
    {
     "data": {
      "text/plain": [
       "{'organism': 'Monodelphis domestica',\n",
       " 'taxonomy_id': 13616,\n",
       " 'phylum': 'Chordata',\n",
       " 'class': 'Mammalia'}"
      ]
     },
     "execution_count": 134,
     "metadata": {},
     "output_type": "execute_result"
    }
   ],
   "source": [
    "taxonomy_data = get_taxonomy_data(record)\n",
    "taxonomy_data"
   ]
  },
  {
   "cell_type": "markdown",
   "id": "1cbd7838-6208-4801-bcb1-976c198188e0",
   "metadata": {},
   "source": [
    "## Adding XP_007485607.1"
   ]
  },
  {
   "cell_type": "code",
   "execution_count": 135,
   "id": "536d694c-5d87-4434-a19b-0f32cb630671",
   "metadata": {
    "tags": []
   },
   "outputs": [
    {
     "data": {
      "text/plain": [
       "{'accession': 'XP_007485607.1',\n",
       " 'variant': 'H2B.N',\n",
       " 'gi': None,\n",
       " 'ncbi_gene_id': None,\n",
       " 'hgnc_gene_name': None,\n",
       " 'taxonomy_id': 13616,\n",
       " 'organism': 'Monodelphis domestica',\n",
       " 'phylum': 'Chordata',\n",
       " 'class': 'Mammalia',\n",
       " 'taxonomy_group': None,\n",
       " 'info': None,\n",
       " 'sequence': 'MEGTEMKIPRAGATVPRSFLRTGKRRGYMRTVSGKKKDFYFSYIAKILKQVHQDFSGYSWVLDALWSLDYYLFEQATLEAVRLSFYNHRRVVTSREMLEALNKVPLEGWM',\n",
       " 'variant_under_consideration': None}"
      ]
     },
     "execution_count": 135,
     "metadata": {},
     "output_type": "execute_result"
    }
   ],
   "source": [
    "data_sequence = {\n",
    "    \"accession\": ACCESSION,\n",
    "    \"variant\": \"H2B.N\",\n",
    "    \"gi\": None,\n",
    "    \"ncbi_gene_id\": None,\n",
    "    \"hgnc_gene_name\": None,\n",
    "    \"taxonomy_id\": None,\n",
    "    \"organism\": None,\n",
    "    \"phylum\": None,\n",
    "    \"class\": None,\n",
    "    \"taxonomy_group\": None,\n",
    "    \"info\": None,\n",
    "    \"sequence\": str(record.seq),\n",
    "    \"variant_under_consideration\": None,\n",
    "}\n",
    "data_sequence.update(taxonomy_data)\n",
    "data_sequence"
   ]
  },
  {
   "cell_type": "code",
   "execution_count": 136,
   "id": "2510abd0-b0ce-47ab-8738-6f1be9d63d13",
   "metadata": {
    "tags": []
   },
   "outputs": [
    {
     "name": "stdout",
     "output_type": "stream",
     "text": [
      "accession <class 'str'>\n",
      "variant <class 'str'>\n",
      "gi <class 'NoneType'>\n",
      "ncbi_gene_id <class 'NoneType'>\n",
      "hgnc_gene_name <class 'NoneType'>\n",
      "taxonomy_id <class 'int'>\n",
      "organism <class 'str'>\n",
      "phylum <class 'str'>\n",
      "class <class 'str'>\n",
      "taxonomy_group <class 'NoneType'>\n",
      "info <class 'NoneType'>\n",
      "sequence <class 'str'>\n",
      "variant_under_consideration <class 'NoneType'>\n"
     ]
    }
   ],
   "source": [
    "for k, v in data_sequence.items():\n",
    "    print(k, type(v))"
   ]
  },
  {
   "cell_type": "code",
   "execution_count": 137,
   "id": "e5cdb7f1-a5c9-4364-ab8c-1109cd13174e",
   "metadata": {
    "tags": []
   },
   "outputs": [],
   "source": [
    "cursor.execute(add_sequence, data_sequence)"
   ]
  },
  {
   "cell_type": "code",
   "execution_count": 139,
   "id": "3243aaea-8342-48f9-9741-766d1a5ee181",
   "metadata": {
    "tags": []
   },
   "outputs": [
    {
     "data": {
      "text/html": [
       "<div>\n",
       "<style scoped>\n",
       "    .dataframe tbody tr th:only-of-type {\n",
       "        vertical-align: middle;\n",
       "    }\n",
       "\n",
       "    .dataframe tbody tr th {\n",
       "        vertical-align: top;\n",
       "    }\n",
       "\n",
       "    .dataframe thead th {\n",
       "        text-align: right;\n",
       "    }\n",
       "</style>\n",
       "<table border=\"1\" class=\"dataframe\">\n",
       "  <thead>\n",
       "    <tr style=\"text-align: right;\">\n",
       "      <th></th>\n",
       "      <th>accession</th>\n",
       "      <th>variant</th>\n",
       "      <th>gi</th>\n",
       "      <th>ncbi_gene_id</th>\n",
       "      <th>hgnc_gene_name</th>\n",
       "      <th>taxonomy_id</th>\n",
       "      <th>organism</th>\n",
       "      <th>phylum</th>\n",
       "      <th>class</th>\n",
       "      <th>taxonomy_group</th>\n",
       "      <th>info</th>\n",
       "      <th>sequence</th>\n",
       "      <th>variant_under_consideration</th>\n",
       "      <th>sequence_accession</th>\n",
       "      <th>publication_id</th>\n",
       "    </tr>\n",
       "  </thead>\n",
       "  <tbody>\n",
       "    <tr>\n",
       "      <th>0</th>\n",
       "      <td>XP_007485607.1</td>\n",
       "      <td>H2B.N</td>\n",
       "      <td>None</td>\n",
       "      <td>None</td>\n",
       "      <td>None</td>\n",
       "      <td>13616</td>\n",
       "      <td>Monodelphis domestica</td>\n",
       "      <td>Chordata</td>\n",
       "      <td>Mammalia</td>\n",
       "      <td>None</td>\n",
       "      <td>None</td>\n",
       "      <td>MEGTEMKIPRAGATVPRSFLRTGKRRGYMRTVSGKKKDFYFSYIAK...</td>\n",
       "      <td>None</td>\n",
       "      <td>None</td>\n",
       "      <td>None</td>\n",
       "    </tr>\n",
       "  </tbody>\n",
       "</table>\n",
       "</div>"
      ],
      "text/plain": [
       "        accession variant    gi ncbi_gene_id hgnc_gene_name  taxonomy_id  \\\n",
       "0  XP_007485607.1   H2B.N  None         None           None        13616   \n",
       "\n",
       "                organism    phylum     class taxonomy_group  info  \\\n",
       "0  Monodelphis domestica  Chordata  Mammalia           None  None   \n",
       "\n",
       "                                            sequence  \\\n",
       "0  MEGTEMKIPRAGATVPRSFLRTGKRRGYMRTVSGKKKDFYFSYIAK...   \n",
       "\n",
       "  variant_under_consideration sequence_accession publication_id  \n",
       "0                        None               None           None  "
      ]
     },
     "execution_count": 139,
     "metadata": {},
     "output_type": "execute_result"
    }
   ],
   "source": [
    "query = (\n",
    "    \"SELECT * FROM sequence s LEFT JOIN sequence_has_publication sp \"\n",
    "    \"ON s.accession = sp.sequence_accession \"\n",
    "    f\"WHERE s.accession='{ACCESSION}'\"\n",
    ")\n",
    "cursor.execute(query)\n",
    "df = pd.DataFrame(cursor.fetchall(), columns=[i[0] for i in cursor.description])\n",
    "df"
   ]
  },
  {
   "cell_type": "markdown",
   "id": "7ed5cebc-5966-445d-8a13-e6e60cf4b143",
   "metadata": {},
   "source": [
    "## Add publication"
   ]
  },
  {
   "cell_type": "code",
   "execution_count": 140,
   "id": "59a05098-c77c-4aac-9048-ddd320c2c2cc",
   "metadata": {
    "tags": []
   },
   "outputs": [
    {
     "data": {
      "text/html": [
       "<div>\n",
       "<style scoped>\n",
       "    .dataframe tbody tr th:only-of-type {\n",
       "        vertical-align: middle;\n",
       "    }\n",
       "\n",
       "    .dataframe tbody tr th {\n",
       "        vertical-align: top;\n",
       "    }\n",
       "\n",
       "    .dataframe thead th {\n",
       "        text-align: right;\n",
       "    }\n",
       "</style>\n",
       "<table border=\"1\" class=\"dataframe\">\n",
       "  <thead>\n",
       "    <tr style=\"text-align: right;\">\n",
       "      <th></th>\n",
       "      <th>id</th>\n",
       "      <th>title</th>\n",
       "      <th>doi</th>\n",
       "      <th>author</th>\n",
       "      <th>year</th>\n",
       "    </tr>\n",
       "  </thead>\n",
       "  <tbody>\n",
       "    <tr>\n",
       "      <th>0</th>\n",
       "      <td>35099534</td>\n",
       "      <td>None</td>\n",
       "      <td>None</td>\n",
       "      <td>None</td>\n",
       "      <td>None</td>\n",
       "    </tr>\n",
       "  </tbody>\n",
       "</table>\n",
       "</div>"
      ],
      "text/plain": [
       "         id title   doi author  year\n",
       "0  35099534  None  None   None  None"
      ]
     },
     "execution_count": 140,
     "metadata": {},
     "output_type": "execute_result"
    }
   ],
   "source": [
    "pid = \"35099534\"\n",
    "query = \"SELECT * FROM publication WHERE id='35099534'\"\n",
    "cursor.execute(query)\n",
    "pd.DataFrame(cursor.fetchall(), columns=[i[0] for i in cursor.description])"
   ]
  },
  {
   "cell_type": "code",
   "execution_count": 141,
   "id": "01119a93-3910-4d53-a011-a9b0784e7bad",
   "metadata": {
    "tags": []
   },
   "outputs": [],
   "source": [
    "cursor.execute(add_sequence_has_publication, (ACCESSION, pid))"
   ]
  },
  {
   "cell_type": "code",
   "execution_count": 142,
   "id": "3b85af82-a1df-4620-a59f-c22fe5804764",
   "metadata": {
    "tags": []
   },
   "outputs": [
    {
     "data": {
      "text/html": [
       "<div>\n",
       "<style scoped>\n",
       "    .dataframe tbody tr th:only-of-type {\n",
       "        vertical-align: middle;\n",
       "    }\n",
       "\n",
       "    .dataframe tbody tr th {\n",
       "        vertical-align: top;\n",
       "    }\n",
       "\n",
       "    .dataframe thead th {\n",
       "        text-align: right;\n",
       "    }\n",
       "</style>\n",
       "<table border=\"1\" class=\"dataframe\">\n",
       "  <thead>\n",
       "    <tr style=\"text-align: right;\">\n",
       "      <th></th>\n",
       "      <th>accession</th>\n",
       "      <th>variant</th>\n",
       "      <th>gi</th>\n",
       "      <th>ncbi_gene_id</th>\n",
       "      <th>hgnc_gene_name</th>\n",
       "      <th>taxonomy_id</th>\n",
       "      <th>organism</th>\n",
       "      <th>phylum</th>\n",
       "      <th>class</th>\n",
       "      <th>taxonomy_group</th>\n",
       "      <th>info</th>\n",
       "      <th>sequence</th>\n",
       "      <th>variant_under_consideration</th>\n",
       "      <th>sequence_accession</th>\n",
       "      <th>publication_id</th>\n",
       "    </tr>\n",
       "  </thead>\n",
       "  <tbody>\n",
       "    <tr>\n",
       "      <th>0</th>\n",
       "      <td>XP_007485607.1</td>\n",
       "      <td>H2B.N</td>\n",
       "      <td>None</td>\n",
       "      <td>None</td>\n",
       "      <td>None</td>\n",
       "      <td>13616</td>\n",
       "      <td>Monodelphis domestica</td>\n",
       "      <td>Chordata</td>\n",
       "      <td>Mammalia</td>\n",
       "      <td>None</td>\n",
       "      <td>None</td>\n",
       "      <td>MEGTEMKIPRAGATVPRSFLRTGKRRGYMRTVSGKKKDFYFSYIAK...</td>\n",
       "      <td>None</td>\n",
       "      <td>XP_007485607.1</td>\n",
       "      <td>35099534</td>\n",
       "    </tr>\n",
       "  </tbody>\n",
       "</table>\n",
       "</div>"
      ],
      "text/plain": [
       "        accession variant    gi ncbi_gene_id hgnc_gene_name  taxonomy_id  \\\n",
       "0  XP_007485607.1   H2B.N  None         None           None        13616   \n",
       "\n",
       "                organism    phylum     class taxonomy_group  info  \\\n",
       "0  Monodelphis domestica  Chordata  Mammalia           None  None   \n",
       "\n",
       "                                            sequence  \\\n",
       "0  MEGTEMKIPRAGATVPRSFLRTGKRRGYMRTVSGKKKDFYFSYIAK...   \n",
       "\n",
       "  variant_under_consideration sequence_accession publication_id  \n",
       "0                        None     XP_007485607.1       35099534  "
      ]
     },
     "execution_count": 142,
     "metadata": {},
     "output_type": "execute_result"
    }
   ],
   "source": [
    "query = (\n",
    "    \"SELECT * FROM sequence s LEFT JOIN sequence_has_publication sp \"\n",
    "    \"ON s.accession = sp.sequence_accession \"\n",
    "    f\"WHERE s.accession='{ACCESSION}'\"\n",
    ")\n",
    "cursor.execute(query)\n",
    "df = pd.DataFrame(cursor.fetchall(), columns=[i[0] for i in cursor.description])\n",
    "df"
   ]
  },
  {
   "cell_type": "markdown",
   "id": "541234d3-ff7a-4178-9d53-d5da0a86e818",
   "metadata": {},
   "source": [
    "## Accession XP_007485268.2"
   ]
  },
  {
   "cell_type": "code",
   "execution_count": 144,
   "id": "ec6d7fb0-1038-4bd6-8eed-2ab93461343b",
   "metadata": {
    "tags": []
   },
   "outputs": [],
   "source": [
    "ACCESSION = \"XP_007485268.2\""
   ]
  },
  {
   "cell_type": "markdown",
   "id": "3e5ab1f4-06ae-4119-ab3b-174c333ce049",
   "metadata": {
    "tags": []
   },
   "source": [
    "## Get sequence XP_007485268.2 from NCBI"
   ]
  },
  {
   "cell_type": "code",
   "execution_count": 145,
   "id": "2b9a6c54-d652-441c-9b00-7d1fdfc04150",
   "metadata": {
    "tags": []
   },
   "outputs": [
    {
     "name": "stdout",
     "output_type": "stream",
     "text": [
      "ID: XP_007485268.2\n",
      "Name: XP_007485268\n",
      "Description: histone H2A.N-like [Monodelphis domestica]\n",
      "Database cross-references: BioProject:PRJNA967365\n",
      "Number of features: 4\n",
      "/topology=linear\n",
      "/data_file_division=MAM\n",
      "/date=05-JUN-2023\n",
      "/accessions=['XP_007485268']\n",
      "/sequence_version=2\n",
      "/db_source=REFSEQ: accession XM_007485206.2\n",
      "/keywords=['RefSeq', 'includes ab initio']\n",
      "/source=Monodelphis domestica (gray short-tailed opossum)\n",
      "/organism=Monodelphis domestica\n",
      "/taxonomy=['Eukaryota', 'Metazoa', 'Chordata', 'Craniata', 'Vertebrata', 'Euteleostomi', 'Mammalia', 'Metatheria', 'Didelphimorphia', 'Didelphidae', 'Monodelphis']\n",
      "/comment=MODEL REFSEQ:  This record is predicted by automated computational\n",
      "analysis. This record is derived from a genomic sequence\n",
      "(NC_077228) annotated using gene prediction method: Gnomon.\n",
      "Also see:\n",
      "    Documentation of NCBI's Annotation Process\n",
      "On Jun 5, 2023 this sequence version replaced XP_007485268.1.\n",
      "COMPLETENESS: full length.\n",
      "/structured_comment=OrderedDict([('Genome-Annotation-Data', OrderedDict([('Annotation Provider', 'NCBI RefSeq'), ('Annotation Status', 'Full annotation'), ('Annotation Name', 'GCF_027887165.1-RS_2023_05'), ('Annotation Pipeline', 'NCBI eukaryotic genome annotation pipeline'), ('Annotation Software Version', '10.1'), ('Annotation Method', 'Best-placed RefSeq; Gnomon; cmsearch; tRNAscan-SE'), ('Features Annotated', 'Gene; mRNA; CDS; ncRNA'), ('Annotation Date', '05/17/2023')])), ('RefSeq-Attributes', OrderedDict([('ab initio', '100% of CDS bases')]))])\n",
      "/molecule_type=protein\n",
      "Seq('MKIPRAGATVPRSFITTGKRRGYMRTVSGKKKDFYFSYIAKILKQVHQDFSGYS...GWM')\n"
     ]
    }
   ],
   "source": [
    "with Entrez.efetch(\n",
    "    db=\"protein\", id=ACCESSION, rettype=\"gb\", retmode=\"text\"\n",
    ") as handle:\n",
    "    record = SeqIO.read(handle, \"genbank\")\n",
    "    print(record)"
   ]
  },
  {
   "cell_type": "code",
   "execution_count": 146,
   "id": "39706e30-dd1c-4263-a1cf-71eddd9e5147",
   "metadata": {
    "tags": []
   },
   "outputs": [
    {
     "data": {
      "text/plain": [
       "'MKIPRAGATVPRSFITTGKRRGYMRTVSGKKKDFYFSYIAKILKQVHQDFSGYSWVLDALWSLDYYLFEQATLEAVRLSFYNHRRVVTSREMLETLSKVPLEGWM'"
      ]
     },
     "execution_count": 146,
     "metadata": {},
     "output_type": "execute_result"
    }
   ],
   "source": [
    "str(record.seq)"
   ]
  },
  {
   "cell_type": "code",
   "execution_count": 147,
   "id": "93533b0f-58b6-4d65-8f3d-ccaefef28a90",
   "metadata": {
    "tags": []
   },
   "outputs": [
    {
     "data": {
      "text/plain": [
       "'Monodelphis domestica'"
      ]
     },
     "execution_count": 147,
     "metadata": {},
     "output_type": "execute_result"
    }
   ],
   "source": [
    "record.annotations[\"organism\"]"
   ]
  },
  {
   "cell_type": "code",
   "execution_count": 148,
   "id": "d9515774-2504-4934-bab8-9f91ed060b9f",
   "metadata": {
    "tags": []
   },
   "outputs": [
    {
     "name": "stdout",
     "output_type": "stream",
     "text": [
      "Fetched taxid from NCBI <built-in function id>\n"
     ]
    },
    {
     "data": {
      "text/plain": [
       "{'organism': 'Monodelphis domestica',\n",
       " 'taxonomy_id': 13616,\n",
       " 'phylum': 'Chordata',\n",
       " 'class': 'Mammalia'}"
      ]
     },
     "execution_count": 148,
     "metadata": {},
     "output_type": "execute_result"
    }
   ],
   "source": [
    "taxonomy_data = get_taxonomy_data(record)\n",
    "taxonomy_data"
   ]
  },
  {
   "cell_type": "markdown",
   "id": "16764ccc-8007-4e21-952f-d4058fcb265c",
   "metadata": {},
   "source": [
    "## Adding XP_007485268.2"
   ]
  },
  {
   "cell_type": "code",
   "execution_count": 149,
   "id": "26571aba-ecfe-4f45-add9-84c912e4230f",
   "metadata": {
    "tags": []
   },
   "outputs": [
    {
     "data": {
      "text/plain": [
       "{'accession': 'XP_007485268.2',\n",
       " 'variant': 'H2B.N',\n",
       " 'gi': None,\n",
       " 'ncbi_gene_id': None,\n",
       " 'hgnc_gene_name': None,\n",
       " 'taxonomy_id': 13616,\n",
       " 'organism': 'Monodelphis domestica',\n",
       " 'phylum': 'Chordata',\n",
       " 'class': 'Mammalia',\n",
       " 'taxonomy_group': None,\n",
       " 'info': None,\n",
       " 'sequence': 'MKIPRAGATVPRSFITTGKRRGYMRTVSGKKKDFYFSYIAKILKQVHQDFSGYSWVLDALWSLDYYLFEQATLEAVRLSFYNHRRVVTSREMLETLSKVPLEGWM',\n",
       " 'variant_under_consideration': None}"
      ]
     },
     "execution_count": 149,
     "metadata": {},
     "output_type": "execute_result"
    }
   ],
   "source": [
    "data_sequence = {\n",
    "    \"accession\": ACCESSION,\n",
    "    \"variant\": \"H2B.N\",\n",
    "    \"gi\": None,\n",
    "    \"ncbi_gene_id\": None,\n",
    "    \"hgnc_gene_name\": None,\n",
    "    \"taxonomy_id\": None,\n",
    "    \"organism\": None,\n",
    "    \"phylum\": None,\n",
    "    \"class\": None,\n",
    "    \"taxonomy_group\": None,\n",
    "    \"info\": None,\n",
    "    \"sequence\": str(record.seq),\n",
    "    \"variant_under_consideration\": None,\n",
    "}\n",
    "data_sequence.update(taxonomy_data)\n",
    "data_sequence"
   ]
  },
  {
   "cell_type": "code",
   "execution_count": 150,
   "id": "691e41ef-4ccc-413c-8b44-9c76d479191b",
   "metadata": {
    "tags": []
   },
   "outputs": [
    {
     "name": "stdout",
     "output_type": "stream",
     "text": [
      "accession <class 'str'>\n",
      "variant <class 'str'>\n",
      "gi <class 'NoneType'>\n",
      "ncbi_gene_id <class 'NoneType'>\n",
      "hgnc_gene_name <class 'NoneType'>\n",
      "taxonomy_id <class 'int'>\n",
      "organism <class 'str'>\n",
      "phylum <class 'str'>\n",
      "class <class 'str'>\n",
      "taxonomy_group <class 'NoneType'>\n",
      "info <class 'NoneType'>\n",
      "sequence <class 'str'>\n",
      "variant_under_consideration <class 'NoneType'>\n"
     ]
    }
   ],
   "source": [
    "for k, v in data_sequence.items():\n",
    "    print(k, type(v))"
   ]
  },
  {
   "cell_type": "code",
   "execution_count": 151,
   "id": "8b97ac25-bde4-41b0-bfba-1bd516177b93",
   "metadata": {
    "tags": []
   },
   "outputs": [],
   "source": [
    "cursor.execute(add_sequence, data_sequence)"
   ]
  },
  {
   "cell_type": "code",
   "execution_count": 152,
   "id": "5fef0b07-fdcd-4380-9f15-25f90ecaf337",
   "metadata": {
    "tags": []
   },
   "outputs": [
    {
     "data": {
      "text/html": [
       "<div>\n",
       "<style scoped>\n",
       "    .dataframe tbody tr th:only-of-type {\n",
       "        vertical-align: middle;\n",
       "    }\n",
       "\n",
       "    .dataframe tbody tr th {\n",
       "        vertical-align: top;\n",
       "    }\n",
       "\n",
       "    .dataframe thead th {\n",
       "        text-align: right;\n",
       "    }\n",
       "</style>\n",
       "<table border=\"1\" class=\"dataframe\">\n",
       "  <thead>\n",
       "    <tr style=\"text-align: right;\">\n",
       "      <th></th>\n",
       "      <th>accession</th>\n",
       "      <th>variant</th>\n",
       "      <th>gi</th>\n",
       "      <th>ncbi_gene_id</th>\n",
       "      <th>hgnc_gene_name</th>\n",
       "      <th>taxonomy_id</th>\n",
       "      <th>organism</th>\n",
       "      <th>phylum</th>\n",
       "      <th>class</th>\n",
       "      <th>taxonomy_group</th>\n",
       "      <th>info</th>\n",
       "      <th>sequence</th>\n",
       "      <th>variant_under_consideration</th>\n",
       "      <th>sequence_accession</th>\n",
       "      <th>publication_id</th>\n",
       "    </tr>\n",
       "  </thead>\n",
       "  <tbody>\n",
       "    <tr>\n",
       "      <th>0</th>\n",
       "      <td>XP_007485268.2</td>\n",
       "      <td>H2B.N</td>\n",
       "      <td>None</td>\n",
       "      <td>None</td>\n",
       "      <td>None</td>\n",
       "      <td>13616</td>\n",
       "      <td>Monodelphis domestica</td>\n",
       "      <td>Chordata</td>\n",
       "      <td>Mammalia</td>\n",
       "      <td>None</td>\n",
       "      <td>None</td>\n",
       "      <td>MKIPRAGATVPRSFITTGKRRGYMRTVSGKKKDFYFSYIAKILKQV...</td>\n",
       "      <td>None</td>\n",
       "      <td>None</td>\n",
       "      <td>None</td>\n",
       "    </tr>\n",
       "  </tbody>\n",
       "</table>\n",
       "</div>"
      ],
      "text/plain": [
       "        accession variant    gi ncbi_gene_id hgnc_gene_name  taxonomy_id  \\\n",
       "0  XP_007485268.2   H2B.N  None         None           None        13616   \n",
       "\n",
       "                organism    phylum     class taxonomy_group  info  \\\n",
       "0  Monodelphis domestica  Chordata  Mammalia           None  None   \n",
       "\n",
       "                                            sequence  \\\n",
       "0  MKIPRAGATVPRSFITTGKRRGYMRTVSGKKKDFYFSYIAKILKQV...   \n",
       "\n",
       "  variant_under_consideration sequence_accession publication_id  \n",
       "0                        None               None           None  "
      ]
     },
     "execution_count": 152,
     "metadata": {},
     "output_type": "execute_result"
    }
   ],
   "source": [
    "query = (\n",
    "    \"SELECT * FROM sequence s LEFT JOIN sequence_has_publication sp \"\n",
    "    \"ON s.accession = sp.sequence_accession \"\n",
    "    f\"WHERE s.accession='{ACCESSION}'\"\n",
    ")\n",
    "cursor.execute(query)\n",
    "df = pd.DataFrame(cursor.fetchall(), columns=[i[0] for i in cursor.description])\n",
    "df"
   ]
  },
  {
   "cell_type": "markdown",
   "id": "499bb893-85c5-4bc0-a399-5b4e052c12b5",
   "metadata": {},
   "source": [
    "## Add publication"
   ]
  },
  {
   "cell_type": "code",
   "execution_count": 153,
   "id": "c3f06edc-4b0a-4655-befa-4e41fb1283b4",
   "metadata": {
    "tags": []
   },
   "outputs": [
    {
     "data": {
      "text/html": [
       "<div>\n",
       "<style scoped>\n",
       "    .dataframe tbody tr th:only-of-type {\n",
       "        vertical-align: middle;\n",
       "    }\n",
       "\n",
       "    .dataframe tbody tr th {\n",
       "        vertical-align: top;\n",
       "    }\n",
       "\n",
       "    .dataframe thead th {\n",
       "        text-align: right;\n",
       "    }\n",
       "</style>\n",
       "<table border=\"1\" class=\"dataframe\">\n",
       "  <thead>\n",
       "    <tr style=\"text-align: right;\">\n",
       "      <th></th>\n",
       "      <th>id</th>\n",
       "      <th>title</th>\n",
       "      <th>doi</th>\n",
       "      <th>author</th>\n",
       "      <th>year</th>\n",
       "    </tr>\n",
       "  </thead>\n",
       "  <tbody>\n",
       "    <tr>\n",
       "      <th>0</th>\n",
       "      <td>35099534</td>\n",
       "      <td>None</td>\n",
       "      <td>None</td>\n",
       "      <td>None</td>\n",
       "      <td>None</td>\n",
       "    </tr>\n",
       "  </tbody>\n",
       "</table>\n",
       "</div>"
      ],
      "text/plain": [
       "         id title   doi author  year\n",
       "0  35099534  None  None   None  None"
      ]
     },
     "execution_count": 153,
     "metadata": {},
     "output_type": "execute_result"
    }
   ],
   "source": [
    "pid = \"35099534\"\n",
    "query = \"SELECT * FROM publication WHERE id='35099534'\"\n",
    "cursor.execute(query)\n",
    "pd.DataFrame(cursor.fetchall(), columns=[i[0] for i in cursor.description])"
   ]
  },
  {
   "cell_type": "code",
   "execution_count": 154,
   "id": "412baf2b-499b-4964-af31-2b81b3d1faac",
   "metadata": {
    "tags": []
   },
   "outputs": [],
   "source": [
    "cursor.execute(add_sequence_has_publication, (ACCESSION, pid))"
   ]
  },
  {
   "cell_type": "code",
   "execution_count": 155,
   "id": "754bc07e-0f6e-4b83-b835-4dd0ee73814d",
   "metadata": {
    "tags": []
   },
   "outputs": [
    {
     "data": {
      "text/html": [
       "<div>\n",
       "<style scoped>\n",
       "    .dataframe tbody tr th:only-of-type {\n",
       "        vertical-align: middle;\n",
       "    }\n",
       "\n",
       "    .dataframe tbody tr th {\n",
       "        vertical-align: top;\n",
       "    }\n",
       "\n",
       "    .dataframe thead th {\n",
       "        text-align: right;\n",
       "    }\n",
       "</style>\n",
       "<table border=\"1\" class=\"dataframe\">\n",
       "  <thead>\n",
       "    <tr style=\"text-align: right;\">\n",
       "      <th></th>\n",
       "      <th>accession</th>\n",
       "      <th>variant</th>\n",
       "      <th>gi</th>\n",
       "      <th>ncbi_gene_id</th>\n",
       "      <th>hgnc_gene_name</th>\n",
       "      <th>taxonomy_id</th>\n",
       "      <th>organism</th>\n",
       "      <th>phylum</th>\n",
       "      <th>class</th>\n",
       "      <th>taxonomy_group</th>\n",
       "      <th>info</th>\n",
       "      <th>sequence</th>\n",
       "      <th>variant_under_consideration</th>\n",
       "      <th>sequence_accession</th>\n",
       "      <th>publication_id</th>\n",
       "    </tr>\n",
       "  </thead>\n",
       "  <tbody>\n",
       "    <tr>\n",
       "      <th>0</th>\n",
       "      <td>XP_007485268.2</td>\n",
       "      <td>H2B.N</td>\n",
       "      <td>None</td>\n",
       "      <td>None</td>\n",
       "      <td>None</td>\n",
       "      <td>13616</td>\n",
       "      <td>Monodelphis domestica</td>\n",
       "      <td>Chordata</td>\n",
       "      <td>Mammalia</td>\n",
       "      <td>None</td>\n",
       "      <td>None</td>\n",
       "      <td>MKIPRAGATVPRSFITTGKRRGYMRTVSGKKKDFYFSYIAKILKQV...</td>\n",
       "      <td>None</td>\n",
       "      <td>XP_007485268.2</td>\n",
       "      <td>35099534</td>\n",
       "    </tr>\n",
       "  </tbody>\n",
       "</table>\n",
       "</div>"
      ],
      "text/plain": [
       "        accession variant    gi ncbi_gene_id hgnc_gene_name  taxonomy_id  \\\n",
       "0  XP_007485268.2   H2B.N  None         None           None        13616   \n",
       "\n",
       "                organism    phylum     class taxonomy_group  info  \\\n",
       "0  Monodelphis domestica  Chordata  Mammalia           None  None   \n",
       "\n",
       "                                            sequence  \\\n",
       "0  MKIPRAGATVPRSFITTGKRRGYMRTVSGKKKDFYFSYIAKILKQV...   \n",
       "\n",
       "  variant_under_consideration sequence_accession publication_id  \n",
       "0                        None     XP_007485268.2       35099534  "
      ]
     },
     "execution_count": 155,
     "metadata": {},
     "output_type": "execute_result"
    }
   ],
   "source": [
    "query = (\n",
    "    \"SELECT * FROM sequence s LEFT JOIN sequence_has_publication sp \"\n",
    "    \"ON s.accession = sp.sequence_accession \"\n",
    "    f\"WHERE s.accession='{ACCESSION}'\"\n",
    ")\n",
    "cursor.execute(query)\n",
    "df = pd.DataFrame(cursor.fetchall(), columns=[i[0] for i in cursor.description])\n",
    "df"
   ]
  },
  {
   "cell_type": "code",
   "execution_count": 156,
   "id": "e8fb8749-16bf-4050-a068-bb16632c532e",
   "metadata": {
    "tags": []
   },
   "outputs": [
    {
     "data": {
      "text/html": [
       "<div>\n",
       "<style scoped>\n",
       "    .dataframe tbody tr th:only-of-type {\n",
       "        vertical-align: middle;\n",
       "    }\n",
       "\n",
       "    .dataframe tbody tr th {\n",
       "        vertical-align: top;\n",
       "    }\n",
       "\n",
       "    .dataframe thead th {\n",
       "        text-align: right;\n",
       "    }\n",
       "</style>\n",
       "<table border=\"1\" class=\"dataframe\">\n",
       "  <thead>\n",
       "    <tr style=\"text-align: right;\">\n",
       "      <th></th>\n",
       "      <th>accession</th>\n",
       "      <th>variant</th>\n",
       "      <th>gi</th>\n",
       "      <th>ncbi_gene_id</th>\n",
       "      <th>hgnc_gene_name</th>\n",
       "      <th>taxonomy_id</th>\n",
       "      <th>organism</th>\n",
       "      <th>phylum</th>\n",
       "      <th>class</th>\n",
       "      <th>taxonomy_group</th>\n",
       "      <th>info</th>\n",
       "      <th>sequence</th>\n",
       "      <th>variant_under_consideration</th>\n",
       "      <th>sequence_accession</th>\n",
       "      <th>publication_id</th>\n",
       "    </tr>\n",
       "  </thead>\n",
       "  <tbody>\n",
       "    <tr>\n",
       "      <th>0</th>\n",
       "      <td>HISTDB_H2B_N_0</td>\n",
       "      <td>H2B.N</td>\n",
       "      <td>None</td>\n",
       "      <td>None</td>\n",
       "      <td>None</td>\n",
       "      <td>9940</td>\n",
       "      <td>Ovis aries</td>\n",
       "      <td>Chordata</td>\n",
       "      <td>Mammalia</td>\n",
       "      <td>None</td>\n",
       "      <td>None</td>\n",
       "      <td>MHFICLHGLQFPKRKLTISIPAKEKDEWVHSATGKKRRKKKEAYFN...</td>\n",
       "      <td>None</td>\n",
       "      <td>HISTDB_H2B_N_0</td>\n",
       "      <td>35099534</td>\n",
       "    </tr>\n",
       "    <tr>\n",
       "      <th>1</th>\n",
       "      <td>HISTDB_H2B_N_1</td>\n",
       "      <td>H2B.N</td>\n",
       "      <td>None</td>\n",
       "      <td>None</td>\n",
       "      <td>None</td>\n",
       "      <td>9807</td>\n",
       "      <td>Ceratotherium simum</td>\n",
       "      <td>Chordata</td>\n",
       "      <td>Mammalia</td>\n",
       "      <td>None</td>\n",
       "      <td>None</td>\n",
       "      <td>MYFICLRGLRFPKKTTNYILAKKKYEWTSSAIGKKRRRKKKEAYFS...</td>\n",
       "      <td>None</td>\n",
       "      <td>HISTDB_H2B_N_1</td>\n",
       "      <td>35099534</td>\n",
       "    </tr>\n",
       "    <tr>\n",
       "      <th>2</th>\n",
       "      <td>HISTDB_H2B_N_2</td>\n",
       "      <td>H2B.N</td>\n",
       "      <td>None</td>\n",
       "      <td>None</td>\n",
       "      <td>None</td>\n",
       "      <td>9615</td>\n",
       "      <td>Canis lupus familiaris</td>\n",
       "      <td>Chordata</td>\n",
       "      <td>Mammalia</td>\n",
       "      <td>None</td>\n",
       "      <td>None</td>\n",
       "      <td>MYYICLHGLRFPEKRTILYIPAREKYEWANSALRKKRKKKEVYFSY...</td>\n",
       "      <td>None</td>\n",
       "      <td>HISTDB_H2B_N_2</td>\n",
       "      <td>35099534</td>\n",
       "    </tr>\n",
       "    <tr>\n",
       "      <th>3</th>\n",
       "      <td>HISTDB_H2B_N_3</td>\n",
       "      <td>H2B.N</td>\n",
       "      <td>None</td>\n",
       "      <td>None</td>\n",
       "      <td>None</td>\n",
       "      <td>9646</td>\n",
       "      <td>Ailuropoda melanoleuca</td>\n",
       "      <td>Chordata</td>\n",
       "      <td>Mammalia</td>\n",
       "      <td>None</td>\n",
       "      <td>None</td>\n",
       "      <td>MYYVCLHDPRFPKKRTTLYIPAKAKYECANSALRHKRKKKEVYFSY...</td>\n",
       "      <td>None</td>\n",
       "      <td>HISTDB_H2B_N_3</td>\n",
       "      <td>35099534</td>\n",
       "    </tr>\n",
       "    <tr>\n",
       "      <th>4</th>\n",
       "      <td>HISTDB_H2B_N_4</td>\n",
       "      <td>H2B.N</td>\n",
       "      <td>None</td>\n",
       "      <td>None</td>\n",
       "      <td>None</td>\n",
       "      <td>9785</td>\n",
       "      <td>Loxodonta africana</td>\n",
       "      <td>Chordata</td>\n",
       "      <td>Mammalia</td>\n",
       "      <td>None</td>\n",
       "      <td>None</td>\n",
       "      <td>MYYVCLGGLKFPKKSEVHIPAKKKYEWANSAFEKKRRRRRRKKKEA...</td>\n",
       "      <td>None</td>\n",
       "      <td>HISTDB_H2B_N_4</td>\n",
       "      <td>35099534</td>\n",
       "    </tr>\n",
       "    <tr>\n",
       "      <th>5</th>\n",
       "      <td>XP_007485268.2</td>\n",
       "      <td>H2B.N</td>\n",
       "      <td>None</td>\n",
       "      <td>None</td>\n",
       "      <td>None</td>\n",
       "      <td>13616</td>\n",
       "      <td>Monodelphis domestica</td>\n",
       "      <td>Chordata</td>\n",
       "      <td>Mammalia</td>\n",
       "      <td>None</td>\n",
       "      <td>None</td>\n",
       "      <td>MKIPRAGATVPRSFITTGKRRGYMRTVSGKKKDFYFSYIAKILKQV...</td>\n",
       "      <td>None</td>\n",
       "      <td>XP_007485268.2</td>\n",
       "      <td>35099534</td>\n",
       "    </tr>\n",
       "    <tr>\n",
       "      <th>6</th>\n",
       "      <td>XP_007485606.1</td>\n",
       "      <td>H2B.N</td>\n",
       "      <td>None</td>\n",
       "      <td>None</td>\n",
       "      <td>None</td>\n",
       "      <td>13616</td>\n",
       "      <td>Monodelphis domestica</td>\n",
       "      <td>Chordata</td>\n",
       "      <td>Mammalia</td>\n",
       "      <td>None</td>\n",
       "      <td>None</td>\n",
       "      <td>MEVGTEMKIPRAGATVPRSFLRTGKRRGYMRTVSGKKKDFYFSYIA...</td>\n",
       "      <td>None</td>\n",
       "      <td>XP_007485606.1</td>\n",
       "      <td>35099534</td>\n",
       "    </tr>\n",
       "    <tr>\n",
       "      <th>7</th>\n",
       "      <td>XP_007485607.1</td>\n",
       "      <td>H2B.N</td>\n",
       "      <td>None</td>\n",
       "      <td>None</td>\n",
       "      <td>None</td>\n",
       "      <td>13616</td>\n",
       "      <td>Monodelphis domestica</td>\n",
       "      <td>Chordata</td>\n",
       "      <td>Mammalia</td>\n",
       "      <td>None</td>\n",
       "      <td>None</td>\n",
       "      <td>MEGTEMKIPRAGATVPRSFLRTGKRRGYMRTVSGKKKDFYFSYIAK...</td>\n",
       "      <td>None</td>\n",
       "      <td>XP_007485607.1</td>\n",
       "      <td>35099534</td>\n",
       "    </tr>\n",
       "    <tr>\n",
       "      <th>8</th>\n",
       "      <td>XP_058139847.1</td>\n",
       "      <td>H2B.N</td>\n",
       "      <td>None</td>\n",
       "      <td>None</td>\n",
       "      <td>None</td>\n",
       "      <td>9361</td>\n",
       "      <td>Dasypus novemcinctus</td>\n",
       "      <td>Chordata</td>\n",
       "      <td>Mammalia</td>\n",
       "      <td>None</td>\n",
       "      <td>None</td>\n",
       "      <td>MYYVCLDSLKFPKKKTDVYSLAERKYEWARSAFGKRRRRRWRRKKK...</td>\n",
       "      <td>None</td>\n",
       "      <td>XP_058139847.1</td>\n",
       "      <td>35099534</td>\n",
       "    </tr>\n",
       "    <tr>\n",
       "      <th>9</th>\n",
       "      <td>XP_059734412.1</td>\n",
       "      <td>H2B.N</td>\n",
       "      <td>None</td>\n",
       "      <td>None</td>\n",
       "      <td>None</td>\n",
       "      <td>9913</td>\n",
       "      <td>Bos taurus</td>\n",
       "      <td>Chordata</td>\n",
       "      <td>Mammalia</td>\n",
       "      <td>None</td>\n",
       "      <td>None</td>\n",
       "      <td>MYFICLHGLQFPKRKLTIYIPAKEKDEWVHSATGKKRRKKKETYFN...</td>\n",
       "      <td>None</td>\n",
       "      <td>XP_059734412.1</td>\n",
       "      <td>35099534</td>\n",
       "    </tr>\n",
       "    <tr>\n",
       "      <th>10</th>\n",
       "      <td>XP_059746706.1</td>\n",
       "      <td>H2B.N</td>\n",
       "      <td>None</td>\n",
       "      <td>None</td>\n",
       "      <td>None</td>\n",
       "      <td>9913</td>\n",
       "      <td>Bos taurus</td>\n",
       "      <td>Chordata</td>\n",
       "      <td>Mammalia</td>\n",
       "      <td>None</td>\n",
       "      <td>None</td>\n",
       "      <td>MHFICLHGLQFPKRKLTIYIPAKEKDEWVCSATGKKRRKKKEAYFN...</td>\n",
       "      <td>None</td>\n",
       "      <td>XP_059746706.1</td>\n",
       "      <td>35099534</td>\n",
       "    </tr>\n",
       "    <tr>\n",
       "      <th>11</th>\n",
       "      <td>XP_060251208.1</td>\n",
       "      <td>H2B.N</td>\n",
       "      <td>None</td>\n",
       "      <td>None</td>\n",
       "      <td>None</td>\n",
       "      <td>9940</td>\n",
       "      <td>Ovis aries</td>\n",
       "      <td>Chordata</td>\n",
       "      <td>Mammalia</td>\n",
       "      <td>None</td>\n",
       "      <td>None</td>\n",
       "      <td>MHFICLHGLQFPKRKLTISIPAKEKDEWVHSATGKKRRKKKEAYFN...</td>\n",
       "      <td>None</td>\n",
       "      <td>XP_060251208.1</td>\n",
       "      <td>35099534</td>\n",
       "    </tr>\n",
       "  </tbody>\n",
       "</table>\n",
       "</div>"
      ],
      "text/plain": [
       "         accession variant    gi ncbi_gene_id hgnc_gene_name  taxonomy_id  \\\n",
       "0   HISTDB_H2B_N_0   H2B.N  None         None           None         9940   \n",
       "1   HISTDB_H2B_N_1   H2B.N  None         None           None         9807   \n",
       "2   HISTDB_H2B_N_2   H2B.N  None         None           None         9615   \n",
       "3   HISTDB_H2B_N_3   H2B.N  None         None           None         9646   \n",
       "4   HISTDB_H2B_N_4   H2B.N  None         None           None         9785   \n",
       "5   XP_007485268.2   H2B.N  None         None           None        13616   \n",
       "6   XP_007485606.1   H2B.N  None         None           None        13616   \n",
       "7   XP_007485607.1   H2B.N  None         None           None        13616   \n",
       "8   XP_058139847.1   H2B.N  None         None           None         9361   \n",
       "9   XP_059734412.1   H2B.N  None         None           None         9913   \n",
       "10  XP_059746706.1   H2B.N  None         None           None         9913   \n",
       "11  XP_060251208.1   H2B.N  None         None           None         9940   \n",
       "\n",
       "                  organism    phylum     class taxonomy_group  info  \\\n",
       "0               Ovis aries  Chordata  Mammalia           None  None   \n",
       "1      Ceratotherium simum  Chordata  Mammalia           None  None   \n",
       "2   Canis lupus familiaris  Chordata  Mammalia           None  None   \n",
       "3   Ailuropoda melanoleuca  Chordata  Mammalia           None  None   \n",
       "4       Loxodonta africana  Chordata  Mammalia           None  None   \n",
       "5    Monodelphis domestica  Chordata  Mammalia           None  None   \n",
       "6    Monodelphis domestica  Chordata  Mammalia           None  None   \n",
       "7    Monodelphis domestica  Chordata  Mammalia           None  None   \n",
       "8     Dasypus novemcinctus  Chordata  Mammalia           None  None   \n",
       "9               Bos taurus  Chordata  Mammalia           None  None   \n",
       "10              Bos taurus  Chordata  Mammalia           None  None   \n",
       "11              Ovis aries  Chordata  Mammalia           None  None   \n",
       "\n",
       "                                             sequence  \\\n",
       "0   MHFICLHGLQFPKRKLTISIPAKEKDEWVHSATGKKRRKKKEAYFN...   \n",
       "1   MYFICLRGLRFPKKTTNYILAKKKYEWTSSAIGKKRRRKKKEAYFS...   \n",
       "2   MYYICLHGLRFPEKRTILYIPAREKYEWANSALRKKRKKKEVYFSY...   \n",
       "3   MYYVCLHDPRFPKKRTTLYIPAKAKYECANSALRHKRKKKEVYFSY...   \n",
       "4   MYYVCLGGLKFPKKSEVHIPAKKKYEWANSAFEKKRRRRRRKKKEA...   \n",
       "5   MKIPRAGATVPRSFITTGKRRGYMRTVSGKKKDFYFSYIAKILKQV...   \n",
       "6   MEVGTEMKIPRAGATVPRSFLRTGKRRGYMRTVSGKKKDFYFSYIA...   \n",
       "7   MEGTEMKIPRAGATVPRSFLRTGKRRGYMRTVSGKKKDFYFSYIAK...   \n",
       "8   MYYVCLDSLKFPKKKTDVYSLAERKYEWARSAFGKRRRRRWRRKKK...   \n",
       "9   MYFICLHGLQFPKRKLTIYIPAKEKDEWVHSATGKKRRKKKETYFN...   \n",
       "10  MHFICLHGLQFPKRKLTIYIPAKEKDEWVCSATGKKRRKKKEAYFN...   \n",
       "11  MHFICLHGLQFPKRKLTISIPAKEKDEWVHSATGKKRRKKKEAYFN...   \n",
       "\n",
       "   variant_under_consideration sequence_accession publication_id  \n",
       "0                         None     HISTDB_H2B_N_0       35099534  \n",
       "1                         None     HISTDB_H2B_N_1       35099534  \n",
       "2                         None     HISTDB_H2B_N_2       35099534  \n",
       "3                         None     HISTDB_H2B_N_3       35099534  \n",
       "4                         None     HISTDB_H2B_N_4       35099534  \n",
       "5                         None     XP_007485268.2       35099534  \n",
       "6                         None     XP_007485606.1       35099534  \n",
       "7                         None     XP_007485607.1       35099534  \n",
       "8                         None     XP_058139847.1       35099534  \n",
       "9                         None     XP_059734412.1       35099534  \n",
       "10                        None     XP_059746706.1       35099534  \n",
       "11                        None     XP_060251208.1       35099534  "
      ]
     },
     "execution_count": 156,
     "metadata": {},
     "output_type": "execute_result"
    }
   ],
   "source": [
    "query = (\n",
    "    \"SELECT * FROM sequence s LEFT JOIN sequence_has_publication sp \"\n",
    "    \"ON s.accession = sp.sequence_accession \"\n",
    "    f\"WHERE s.variant='H2B.N'\"\n",
    ")\n",
    "cursor.execute(query)\n",
    "df = pd.DataFrame(cursor.fetchall(), columns=[i[0] for i in cursor.description])\n",
    "df"
   ]
  },
  {
   "cell_type": "code",
   "execution_count": 157,
   "id": "10d06124-c65c-4be1-9bc5-c269b45914b0",
   "metadata": {
    "tags": []
   },
   "outputs": [],
   "source": [
    "# Make sure data is committed to the database\n",
    "conn.commit()"
   ]
  },
  {
   "cell_type": "markdown",
   "id": "0b0d0cf6-1a48-4975-b88c-47cc83336236",
   "metadata": {
    "jp-MarkdownHeadingCollapsed": true,
    "tags": []
   },
   "source": [
    "# Add platypus H2B.N\n",
    "\n",
    "**Atricle:** https://academic.oup.com/mbe/article/39/2/msac019/6517784#333890704\n",
    "\n",
    "**Gene:** Ornithorhynchus anatinus, ornAna2, chrUn_DS198020v1, +-, 11357-11548\n",
    "\n",
    "**Sequence from article:**\n",
    "```fasta\n",
    ">Platypus_H2B.N\n",
    "MGGPLGPGFLSLLETETKSPAVAPEAEMEGPVEARKEYRCVRTSLSKKKEAYSSYIAHVLKQTQPEPRGWGRAEGNLESRDGQLLERVAGEAVRLTLLQAAKTVTSRVVRGALELVLAELVEE\n",
    "```\n",
    "\n",
    "BLASTP has one result with 100% coverage and 100% identity (is that a same gene as in the article?).\n",
    "\n",
    "**Protein accession:** HISTDB_H2B_N_5"
   ]
  },
  {
   "cell_type": "markdown",
   "id": "1f34e705-84e8-4203-b33a-8c4b611d5e22",
   "metadata": {},
   "source": [
    "## Add HISTDB_H2B_N_5"
   ]
  },
  {
   "cell_type": "code",
   "execution_count": 158,
   "id": "77687410-c920-4889-b02d-08f0599d7003",
   "metadata": {
    "tags": []
   },
   "outputs": [],
   "source": [
    "ACCESSION = \"HISTDB_H2B_N_5\""
   ]
  },
  {
   "cell_type": "code",
   "execution_count": 159,
   "id": "aff415f1-89c1-4797-a9bb-f5beb3b8fb0d",
   "metadata": {
    "tags": []
   },
   "outputs": [
    {
     "data": {
      "text/plain": [
       "{'accession': 'HISTDB_H2B_N_5',\n",
       " 'variant': 'H2B.N',\n",
       " 'gi': None,\n",
       " 'ncbi_gene_id': None,\n",
       " 'hgnc_gene_name': None,\n",
       " 'taxonomy_id': 9258,\n",
       " 'organism': 'Ornithorhynchus anatinus',\n",
       " 'phylum': 'Chordata',\n",
       " 'class': 'Mammalia',\n",
       " 'taxonomy_group': None,\n",
       " 'info': None,\n",
       " 'sequence': 'MGGPLGPGFLSLLETETKSPAVAPEAEMEGPVEARKEYRCVRTSLSKKKEAYSSYIAHVLKQTQPEPRGWGRAEGNLESRDGQLLERVAGEAVRLTLLQAAKTVTSRVVRGALELVLAELVEE',\n",
       " 'variant_under_consideration': None}"
      ]
     },
     "execution_count": 159,
     "metadata": {},
     "output_type": "execute_result"
    }
   ],
   "source": [
    "data_sequence = {\n",
    "    \"accession\": ACCESSION,\n",
    "    \"variant\": \"H2B.N\",\n",
    "    \"gi\": None,\n",
    "    \"ncbi_gene_id\": None,\n",
    "    \"hgnc_gene_name\": None,\n",
    "    \"taxonomy_id\": 9258,\n",
    "    \"organism\": \"Ornithorhynchus anatinus\",\n",
    "    \"phylum\": \"Chordata\",\n",
    "    \"class\": \"Mammalia\",\n",
    "    \"taxonomy_group\": None,\n",
    "    \"info\": None,\n",
    "    \"sequence\": \"MGGPLGPGFLSLLETETKSPAVAPEAEMEGPVEARKEYRCVRTSLSKKKEAYSSYIAHVLKQTQPEPRGWGRAEGNLESRDGQLLERVAGEAVRLTLLQAAKTVTSRVVRGALELVLAELVEE\",\n",
    "    \"variant_under_consideration\": None,\n",
    "}\n",
    "data_sequence"
   ]
  },
  {
   "cell_type": "code",
   "execution_count": 160,
   "id": "3e7eb488-5db0-4312-a773-1bc36cdb08de",
   "metadata": {
    "tags": []
   },
   "outputs": [
    {
     "name": "stdout",
     "output_type": "stream",
     "text": [
      "accession <class 'str'>\n",
      "variant <class 'str'>\n",
      "gi <class 'NoneType'>\n",
      "ncbi_gene_id <class 'NoneType'>\n",
      "hgnc_gene_name <class 'NoneType'>\n",
      "taxonomy_id <class 'int'>\n",
      "organism <class 'str'>\n",
      "phylum <class 'str'>\n",
      "class <class 'str'>\n",
      "taxonomy_group <class 'NoneType'>\n",
      "info <class 'NoneType'>\n",
      "sequence <class 'str'>\n",
      "variant_under_consideration <class 'NoneType'>\n"
     ]
    }
   ],
   "source": [
    "for k, v in data_sequence.items():\n",
    "    print(k, type(v))"
   ]
  },
  {
   "cell_type": "code",
   "execution_count": 161,
   "id": "cf170576-414d-4fd1-886e-f9de5ad52f4d",
   "metadata": {
    "tags": []
   },
   "outputs": [],
   "source": [
    "cursor.execute(add_sequence, data_sequence)"
   ]
  },
  {
   "cell_type": "code",
   "execution_count": 162,
   "id": "722f1375-69f8-440b-9774-adca260f1ec3",
   "metadata": {
    "tags": []
   },
   "outputs": [
    {
     "data": {
      "text/html": [
       "<div>\n",
       "<style scoped>\n",
       "    .dataframe tbody tr th:only-of-type {\n",
       "        vertical-align: middle;\n",
       "    }\n",
       "\n",
       "    .dataframe tbody tr th {\n",
       "        vertical-align: top;\n",
       "    }\n",
       "\n",
       "    .dataframe thead th {\n",
       "        text-align: right;\n",
       "    }\n",
       "</style>\n",
       "<table border=\"1\" class=\"dataframe\">\n",
       "  <thead>\n",
       "    <tr style=\"text-align: right;\">\n",
       "      <th></th>\n",
       "      <th>accession</th>\n",
       "      <th>variant</th>\n",
       "      <th>gi</th>\n",
       "      <th>ncbi_gene_id</th>\n",
       "      <th>hgnc_gene_name</th>\n",
       "      <th>taxonomy_id</th>\n",
       "      <th>organism</th>\n",
       "      <th>phylum</th>\n",
       "      <th>class</th>\n",
       "      <th>taxonomy_group</th>\n",
       "      <th>info</th>\n",
       "      <th>sequence</th>\n",
       "      <th>variant_under_consideration</th>\n",
       "      <th>sequence_accession</th>\n",
       "      <th>publication_id</th>\n",
       "    </tr>\n",
       "  </thead>\n",
       "  <tbody>\n",
       "    <tr>\n",
       "      <th>0</th>\n",
       "      <td>HISTDB_H2B_N_5</td>\n",
       "      <td>H2B.N</td>\n",
       "      <td>None</td>\n",
       "      <td>None</td>\n",
       "      <td>None</td>\n",
       "      <td>9258</td>\n",
       "      <td>Ornithorhynchus anatinus</td>\n",
       "      <td>Chordata</td>\n",
       "      <td>Mammalia</td>\n",
       "      <td>None</td>\n",
       "      <td>None</td>\n",
       "      <td>MGGPLGPGFLSLLETETKSPAVAPEAEMEGPVEARKEYRCVRTSLS...</td>\n",
       "      <td>None</td>\n",
       "      <td>None</td>\n",
       "      <td>None</td>\n",
       "    </tr>\n",
       "  </tbody>\n",
       "</table>\n",
       "</div>"
      ],
      "text/plain": [
       "        accession variant    gi ncbi_gene_id hgnc_gene_name  taxonomy_id  \\\n",
       "0  HISTDB_H2B_N_5   H2B.N  None         None           None         9258   \n",
       "\n",
       "                   organism    phylum     class taxonomy_group  info  \\\n",
       "0  Ornithorhynchus anatinus  Chordata  Mammalia           None  None   \n",
       "\n",
       "                                            sequence  \\\n",
       "0  MGGPLGPGFLSLLETETKSPAVAPEAEMEGPVEARKEYRCVRTSLS...   \n",
       "\n",
       "  variant_under_consideration sequence_accession publication_id  \n",
       "0                        None               None           None  "
      ]
     },
     "execution_count": 162,
     "metadata": {},
     "output_type": "execute_result"
    }
   ],
   "source": [
    "query = (\n",
    "    \"SELECT * FROM sequence s LEFT JOIN sequence_has_publication sp \"\n",
    "    \"ON s.accession = sp.sequence_accession \"\n",
    "    f\"WHERE s.accession='{ACCESSION}'\"\n",
    ")\n",
    "cursor.execute(query)\n",
    "df = pd.DataFrame(cursor.fetchall(), columns=[i[0] for i in cursor.description])\n",
    "df"
   ]
  },
  {
   "cell_type": "markdown",
   "id": "0e795069-8f15-4e21-85df-8a2a6c8b8808",
   "metadata": {
    "tags": []
   },
   "source": [
    "## Add publication"
   ]
  },
  {
   "cell_type": "code",
   "execution_count": 163,
   "id": "cf8f265b-729b-4a1e-84fe-26a86d78c22a",
   "metadata": {
    "tags": []
   },
   "outputs": [
    {
     "data": {
      "text/html": [
       "<div>\n",
       "<style scoped>\n",
       "    .dataframe tbody tr th:only-of-type {\n",
       "        vertical-align: middle;\n",
       "    }\n",
       "\n",
       "    .dataframe tbody tr th {\n",
       "        vertical-align: top;\n",
       "    }\n",
       "\n",
       "    .dataframe thead th {\n",
       "        text-align: right;\n",
       "    }\n",
       "</style>\n",
       "<table border=\"1\" class=\"dataframe\">\n",
       "  <thead>\n",
       "    <tr style=\"text-align: right;\">\n",
       "      <th></th>\n",
       "      <th>id</th>\n",
       "      <th>title</th>\n",
       "      <th>doi</th>\n",
       "      <th>author</th>\n",
       "      <th>year</th>\n",
       "    </tr>\n",
       "  </thead>\n",
       "  <tbody>\n",
       "    <tr>\n",
       "      <th>0</th>\n",
       "      <td>35099534</td>\n",
       "      <td>None</td>\n",
       "      <td>None</td>\n",
       "      <td>None</td>\n",
       "      <td>None</td>\n",
       "    </tr>\n",
       "  </tbody>\n",
       "</table>\n",
       "</div>"
      ],
      "text/plain": [
       "         id title   doi author  year\n",
       "0  35099534  None  None   None  None"
      ]
     },
     "execution_count": 163,
     "metadata": {},
     "output_type": "execute_result"
    }
   ],
   "source": [
    "pid = \"35099534\"\n",
    "query = \"SELECT * FROM publication WHERE id='35099534'\"\n",
    "cursor.execute(query)\n",
    "pd.DataFrame(cursor.fetchall(), columns=[i[0] for i in cursor.description])"
   ]
  },
  {
   "cell_type": "code",
   "execution_count": 164,
   "id": "8c7f46be-623c-4224-8def-d3f6cfb8fa76",
   "metadata": {
    "tags": []
   },
   "outputs": [],
   "source": [
    "cursor.execute(add_sequence_has_publication, (ACCESSION, pid))"
   ]
  },
  {
   "cell_type": "code",
   "execution_count": 165,
   "id": "545c4981-ea2a-4a8f-b4a8-b962710a2cc3",
   "metadata": {
    "tags": []
   },
   "outputs": [
    {
     "data": {
      "text/html": [
       "<div>\n",
       "<style scoped>\n",
       "    .dataframe tbody tr th:only-of-type {\n",
       "        vertical-align: middle;\n",
       "    }\n",
       "\n",
       "    .dataframe tbody tr th {\n",
       "        vertical-align: top;\n",
       "    }\n",
       "\n",
       "    .dataframe thead th {\n",
       "        text-align: right;\n",
       "    }\n",
       "</style>\n",
       "<table border=\"1\" class=\"dataframe\">\n",
       "  <thead>\n",
       "    <tr style=\"text-align: right;\">\n",
       "      <th></th>\n",
       "      <th>accession</th>\n",
       "      <th>variant</th>\n",
       "      <th>gi</th>\n",
       "      <th>ncbi_gene_id</th>\n",
       "      <th>hgnc_gene_name</th>\n",
       "      <th>taxonomy_id</th>\n",
       "      <th>organism</th>\n",
       "      <th>phylum</th>\n",
       "      <th>class</th>\n",
       "      <th>taxonomy_group</th>\n",
       "      <th>info</th>\n",
       "      <th>sequence</th>\n",
       "      <th>variant_under_consideration</th>\n",
       "      <th>sequence_accession</th>\n",
       "      <th>publication_id</th>\n",
       "    </tr>\n",
       "  </thead>\n",
       "  <tbody>\n",
       "    <tr>\n",
       "      <th>0</th>\n",
       "      <td>HISTDB_H2B_N_5</td>\n",
       "      <td>H2B.N</td>\n",
       "      <td>None</td>\n",
       "      <td>None</td>\n",
       "      <td>None</td>\n",
       "      <td>9258</td>\n",
       "      <td>Ornithorhynchus anatinus</td>\n",
       "      <td>Chordata</td>\n",
       "      <td>Mammalia</td>\n",
       "      <td>None</td>\n",
       "      <td>None</td>\n",
       "      <td>MGGPLGPGFLSLLETETKSPAVAPEAEMEGPVEARKEYRCVRTSLS...</td>\n",
       "      <td>None</td>\n",
       "      <td>HISTDB_H2B_N_5</td>\n",
       "      <td>35099534</td>\n",
       "    </tr>\n",
       "  </tbody>\n",
       "</table>\n",
       "</div>"
      ],
      "text/plain": [
       "        accession variant    gi ncbi_gene_id hgnc_gene_name  taxonomy_id  \\\n",
       "0  HISTDB_H2B_N_5   H2B.N  None         None           None         9258   \n",
       "\n",
       "                   organism    phylum     class taxonomy_group  info  \\\n",
       "0  Ornithorhynchus anatinus  Chordata  Mammalia           None  None   \n",
       "\n",
       "                                            sequence  \\\n",
       "0  MGGPLGPGFLSLLETETKSPAVAPEAEMEGPVEARKEYRCVRTSLS...   \n",
       "\n",
       "  variant_under_consideration sequence_accession publication_id  \n",
       "0                        None     HISTDB_H2B_N_5       35099534  "
      ]
     },
     "execution_count": 165,
     "metadata": {},
     "output_type": "execute_result"
    }
   ],
   "source": [
    "query = (\n",
    "    \"SELECT * FROM sequence s LEFT JOIN sequence_has_publication sp \"\n",
    "    \"ON s.accession = sp.sequence_accession \"\n",
    "    f\"WHERE s.accession='{ACCESSION}'\"\n",
    ")\n",
    "cursor.execute(query)\n",
    "df = pd.DataFrame(cursor.fetchall(), columns=[i[0] for i in cursor.description])\n",
    "df"
   ]
  },
  {
   "cell_type": "code",
   "execution_count": 167,
   "id": "e4c18bf0-4403-4fdf-bbe6-de03236c797e",
   "metadata": {
    "tags": []
   },
   "outputs": [
    {
     "data": {
      "text/html": [
       "<div>\n",
       "<style scoped>\n",
       "    .dataframe tbody tr th:only-of-type {\n",
       "        vertical-align: middle;\n",
       "    }\n",
       "\n",
       "    .dataframe tbody tr th {\n",
       "        vertical-align: top;\n",
       "    }\n",
       "\n",
       "    .dataframe thead th {\n",
       "        text-align: right;\n",
       "    }\n",
       "</style>\n",
       "<table border=\"1\" class=\"dataframe\">\n",
       "  <thead>\n",
       "    <tr style=\"text-align: right;\">\n",
       "      <th></th>\n",
       "      <th>accession</th>\n",
       "      <th>variant</th>\n",
       "      <th>gi</th>\n",
       "      <th>ncbi_gene_id</th>\n",
       "      <th>hgnc_gene_name</th>\n",
       "      <th>taxonomy_id</th>\n",
       "      <th>organism</th>\n",
       "      <th>phylum</th>\n",
       "      <th>class</th>\n",
       "      <th>taxonomy_group</th>\n",
       "      <th>info</th>\n",
       "      <th>sequence</th>\n",
       "      <th>variant_under_consideration</th>\n",
       "      <th>sequence_accession</th>\n",
       "      <th>publication_id</th>\n",
       "    </tr>\n",
       "  </thead>\n",
       "  <tbody>\n",
       "    <tr>\n",
       "      <th>0</th>\n",
       "      <td>HISTDB_H2B_N_0</td>\n",
       "      <td>H2B.N</td>\n",
       "      <td>None</td>\n",
       "      <td>None</td>\n",
       "      <td>None</td>\n",
       "      <td>9940</td>\n",
       "      <td>Ovis aries</td>\n",
       "      <td>Chordata</td>\n",
       "      <td>Mammalia</td>\n",
       "      <td>None</td>\n",
       "      <td>None</td>\n",
       "      <td>MHFICLHGLQFPKRKLTISIPAKEKDEWVHSATGKKRRKKKEAYFN...</td>\n",
       "      <td>None</td>\n",
       "      <td>HISTDB_H2B_N_0</td>\n",
       "      <td>35099534</td>\n",
       "    </tr>\n",
       "    <tr>\n",
       "      <th>1</th>\n",
       "      <td>HISTDB_H2B_N_1</td>\n",
       "      <td>H2B.N</td>\n",
       "      <td>None</td>\n",
       "      <td>None</td>\n",
       "      <td>None</td>\n",
       "      <td>9807</td>\n",
       "      <td>Ceratotherium simum</td>\n",
       "      <td>Chordata</td>\n",
       "      <td>Mammalia</td>\n",
       "      <td>None</td>\n",
       "      <td>None</td>\n",
       "      <td>MYFICLRGLRFPKKTTNYILAKKKYEWTSSAIGKKRRRKKKEAYFS...</td>\n",
       "      <td>None</td>\n",
       "      <td>HISTDB_H2B_N_1</td>\n",
       "      <td>35099534</td>\n",
       "    </tr>\n",
       "    <tr>\n",
       "      <th>2</th>\n",
       "      <td>HISTDB_H2B_N_2</td>\n",
       "      <td>H2B.N</td>\n",
       "      <td>None</td>\n",
       "      <td>None</td>\n",
       "      <td>None</td>\n",
       "      <td>9615</td>\n",
       "      <td>Canis lupus familiaris</td>\n",
       "      <td>Chordata</td>\n",
       "      <td>Mammalia</td>\n",
       "      <td>None</td>\n",
       "      <td>None</td>\n",
       "      <td>MYYICLHGLRFPEKRTILYIPAREKYEWANSALRKKRKKKEVYFSY...</td>\n",
       "      <td>None</td>\n",
       "      <td>HISTDB_H2B_N_2</td>\n",
       "      <td>35099534</td>\n",
       "    </tr>\n",
       "    <tr>\n",
       "      <th>3</th>\n",
       "      <td>HISTDB_H2B_N_3</td>\n",
       "      <td>H2B.N</td>\n",
       "      <td>None</td>\n",
       "      <td>None</td>\n",
       "      <td>None</td>\n",
       "      <td>9646</td>\n",
       "      <td>Ailuropoda melanoleuca</td>\n",
       "      <td>Chordata</td>\n",
       "      <td>Mammalia</td>\n",
       "      <td>None</td>\n",
       "      <td>None</td>\n",
       "      <td>MYYVCLHDPRFPKKRTTLYIPAKAKYECANSALRHKRKKKEVYFSY...</td>\n",
       "      <td>None</td>\n",
       "      <td>HISTDB_H2B_N_3</td>\n",
       "      <td>35099534</td>\n",
       "    </tr>\n",
       "    <tr>\n",
       "      <th>4</th>\n",
       "      <td>HISTDB_H2B_N_4</td>\n",
       "      <td>H2B.N</td>\n",
       "      <td>None</td>\n",
       "      <td>None</td>\n",
       "      <td>None</td>\n",
       "      <td>9785</td>\n",
       "      <td>Loxodonta africana</td>\n",
       "      <td>Chordata</td>\n",
       "      <td>Mammalia</td>\n",
       "      <td>None</td>\n",
       "      <td>None</td>\n",
       "      <td>MYYVCLGGLKFPKKSEVHIPAKKKYEWANSAFEKKRRRRRRKKKEA...</td>\n",
       "      <td>None</td>\n",
       "      <td>HISTDB_H2B_N_4</td>\n",
       "      <td>35099534</td>\n",
       "    </tr>\n",
       "    <tr>\n",
       "      <th>5</th>\n",
       "      <td>HISTDB_H2B_N_5</td>\n",
       "      <td>H2B.N</td>\n",
       "      <td>None</td>\n",
       "      <td>None</td>\n",
       "      <td>None</td>\n",
       "      <td>9258</td>\n",
       "      <td>Ornithorhynchus anatinus</td>\n",
       "      <td>Chordata</td>\n",
       "      <td>Mammalia</td>\n",
       "      <td>None</td>\n",
       "      <td>None</td>\n",
       "      <td>MGGPLGPGFLSLLETETKSPAVAPEAEMEGPVEARKEYRCVRTSLS...</td>\n",
       "      <td>None</td>\n",
       "      <td>HISTDB_H2B_N_5</td>\n",
       "      <td>35099534</td>\n",
       "    </tr>\n",
       "    <tr>\n",
       "      <th>6</th>\n",
       "      <td>XP_007485268.2</td>\n",
       "      <td>H2B.N</td>\n",
       "      <td>None</td>\n",
       "      <td>None</td>\n",
       "      <td>None</td>\n",
       "      <td>13616</td>\n",
       "      <td>Monodelphis domestica</td>\n",
       "      <td>Chordata</td>\n",
       "      <td>Mammalia</td>\n",
       "      <td>None</td>\n",
       "      <td>None</td>\n",
       "      <td>MKIPRAGATVPRSFITTGKRRGYMRTVSGKKKDFYFSYIAKILKQV...</td>\n",
       "      <td>None</td>\n",
       "      <td>XP_007485268.2</td>\n",
       "      <td>35099534</td>\n",
       "    </tr>\n",
       "    <tr>\n",
       "      <th>7</th>\n",
       "      <td>XP_007485606.1</td>\n",
       "      <td>H2B.N</td>\n",
       "      <td>None</td>\n",
       "      <td>None</td>\n",
       "      <td>None</td>\n",
       "      <td>13616</td>\n",
       "      <td>Monodelphis domestica</td>\n",
       "      <td>Chordata</td>\n",
       "      <td>Mammalia</td>\n",
       "      <td>None</td>\n",
       "      <td>None</td>\n",
       "      <td>MEVGTEMKIPRAGATVPRSFLRTGKRRGYMRTVSGKKKDFYFSYIA...</td>\n",
       "      <td>None</td>\n",
       "      <td>XP_007485606.1</td>\n",
       "      <td>35099534</td>\n",
       "    </tr>\n",
       "    <tr>\n",
       "      <th>8</th>\n",
       "      <td>XP_007485607.1</td>\n",
       "      <td>H2B.N</td>\n",
       "      <td>None</td>\n",
       "      <td>None</td>\n",
       "      <td>None</td>\n",
       "      <td>13616</td>\n",
       "      <td>Monodelphis domestica</td>\n",
       "      <td>Chordata</td>\n",
       "      <td>Mammalia</td>\n",
       "      <td>None</td>\n",
       "      <td>None</td>\n",
       "      <td>MEGTEMKIPRAGATVPRSFLRTGKRRGYMRTVSGKKKDFYFSYIAK...</td>\n",
       "      <td>None</td>\n",
       "      <td>XP_007485607.1</td>\n",
       "      <td>35099534</td>\n",
       "    </tr>\n",
       "    <tr>\n",
       "      <th>9</th>\n",
       "      <td>XP_058139847.1</td>\n",
       "      <td>H2B.N</td>\n",
       "      <td>None</td>\n",
       "      <td>None</td>\n",
       "      <td>None</td>\n",
       "      <td>9361</td>\n",
       "      <td>Dasypus novemcinctus</td>\n",
       "      <td>Chordata</td>\n",
       "      <td>Mammalia</td>\n",
       "      <td>None</td>\n",
       "      <td>None</td>\n",
       "      <td>MYYVCLDSLKFPKKKTDVYSLAERKYEWARSAFGKRRRRRWRRKKK...</td>\n",
       "      <td>None</td>\n",
       "      <td>XP_058139847.1</td>\n",
       "      <td>35099534</td>\n",
       "    </tr>\n",
       "    <tr>\n",
       "      <th>10</th>\n",
       "      <td>XP_059734412.1</td>\n",
       "      <td>H2B.N</td>\n",
       "      <td>None</td>\n",
       "      <td>None</td>\n",
       "      <td>None</td>\n",
       "      <td>9913</td>\n",
       "      <td>Bos taurus</td>\n",
       "      <td>Chordata</td>\n",
       "      <td>Mammalia</td>\n",
       "      <td>None</td>\n",
       "      <td>None</td>\n",
       "      <td>MYFICLHGLQFPKRKLTIYIPAKEKDEWVHSATGKKRRKKKETYFN...</td>\n",
       "      <td>None</td>\n",
       "      <td>XP_059734412.1</td>\n",
       "      <td>35099534</td>\n",
       "    </tr>\n",
       "    <tr>\n",
       "      <th>11</th>\n",
       "      <td>XP_059746706.1</td>\n",
       "      <td>H2B.N</td>\n",
       "      <td>None</td>\n",
       "      <td>None</td>\n",
       "      <td>None</td>\n",
       "      <td>9913</td>\n",
       "      <td>Bos taurus</td>\n",
       "      <td>Chordata</td>\n",
       "      <td>Mammalia</td>\n",
       "      <td>None</td>\n",
       "      <td>None</td>\n",
       "      <td>MHFICLHGLQFPKRKLTIYIPAKEKDEWVCSATGKKRRKKKEAYFN...</td>\n",
       "      <td>None</td>\n",
       "      <td>XP_059746706.1</td>\n",
       "      <td>35099534</td>\n",
       "    </tr>\n",
       "    <tr>\n",
       "      <th>12</th>\n",
       "      <td>XP_060251208.1</td>\n",
       "      <td>H2B.N</td>\n",
       "      <td>None</td>\n",
       "      <td>None</td>\n",
       "      <td>None</td>\n",
       "      <td>9940</td>\n",
       "      <td>Ovis aries</td>\n",
       "      <td>Chordata</td>\n",
       "      <td>Mammalia</td>\n",
       "      <td>None</td>\n",
       "      <td>None</td>\n",
       "      <td>MHFICLHGLQFPKRKLTISIPAKEKDEWVHSATGKKRRKKKEAYFN...</td>\n",
       "      <td>None</td>\n",
       "      <td>XP_060251208.1</td>\n",
       "      <td>35099534</td>\n",
       "    </tr>\n",
       "  </tbody>\n",
       "</table>\n",
       "</div>"
      ],
      "text/plain": [
       "         accession variant    gi ncbi_gene_id hgnc_gene_name  taxonomy_id  \\\n",
       "0   HISTDB_H2B_N_0   H2B.N  None         None           None         9940   \n",
       "1   HISTDB_H2B_N_1   H2B.N  None         None           None         9807   \n",
       "2   HISTDB_H2B_N_2   H2B.N  None         None           None         9615   \n",
       "3   HISTDB_H2B_N_3   H2B.N  None         None           None         9646   \n",
       "4   HISTDB_H2B_N_4   H2B.N  None         None           None         9785   \n",
       "5   HISTDB_H2B_N_5   H2B.N  None         None           None         9258   \n",
       "6   XP_007485268.2   H2B.N  None         None           None        13616   \n",
       "7   XP_007485606.1   H2B.N  None         None           None        13616   \n",
       "8   XP_007485607.1   H2B.N  None         None           None        13616   \n",
       "9   XP_058139847.1   H2B.N  None         None           None         9361   \n",
       "10  XP_059734412.1   H2B.N  None         None           None         9913   \n",
       "11  XP_059746706.1   H2B.N  None         None           None         9913   \n",
       "12  XP_060251208.1   H2B.N  None         None           None         9940   \n",
       "\n",
       "                    organism    phylum     class taxonomy_group  info  \\\n",
       "0                 Ovis aries  Chordata  Mammalia           None  None   \n",
       "1        Ceratotherium simum  Chordata  Mammalia           None  None   \n",
       "2     Canis lupus familiaris  Chordata  Mammalia           None  None   \n",
       "3     Ailuropoda melanoleuca  Chordata  Mammalia           None  None   \n",
       "4         Loxodonta africana  Chordata  Mammalia           None  None   \n",
       "5   Ornithorhynchus anatinus  Chordata  Mammalia           None  None   \n",
       "6      Monodelphis domestica  Chordata  Mammalia           None  None   \n",
       "7      Monodelphis domestica  Chordata  Mammalia           None  None   \n",
       "8      Monodelphis domestica  Chordata  Mammalia           None  None   \n",
       "9       Dasypus novemcinctus  Chordata  Mammalia           None  None   \n",
       "10                Bos taurus  Chordata  Mammalia           None  None   \n",
       "11                Bos taurus  Chordata  Mammalia           None  None   \n",
       "12                Ovis aries  Chordata  Mammalia           None  None   \n",
       "\n",
       "                                             sequence  \\\n",
       "0   MHFICLHGLQFPKRKLTISIPAKEKDEWVHSATGKKRRKKKEAYFN...   \n",
       "1   MYFICLRGLRFPKKTTNYILAKKKYEWTSSAIGKKRRRKKKEAYFS...   \n",
       "2   MYYICLHGLRFPEKRTILYIPAREKYEWANSALRKKRKKKEVYFSY...   \n",
       "3   MYYVCLHDPRFPKKRTTLYIPAKAKYECANSALRHKRKKKEVYFSY...   \n",
       "4   MYYVCLGGLKFPKKSEVHIPAKKKYEWANSAFEKKRRRRRRKKKEA...   \n",
       "5   MGGPLGPGFLSLLETETKSPAVAPEAEMEGPVEARKEYRCVRTSLS...   \n",
       "6   MKIPRAGATVPRSFITTGKRRGYMRTVSGKKKDFYFSYIAKILKQV...   \n",
       "7   MEVGTEMKIPRAGATVPRSFLRTGKRRGYMRTVSGKKKDFYFSYIA...   \n",
       "8   MEGTEMKIPRAGATVPRSFLRTGKRRGYMRTVSGKKKDFYFSYIAK...   \n",
       "9   MYYVCLDSLKFPKKKTDVYSLAERKYEWARSAFGKRRRRRWRRKKK...   \n",
       "10  MYFICLHGLQFPKRKLTIYIPAKEKDEWVHSATGKKRRKKKETYFN...   \n",
       "11  MHFICLHGLQFPKRKLTIYIPAKEKDEWVCSATGKKRRKKKEAYFN...   \n",
       "12  MHFICLHGLQFPKRKLTISIPAKEKDEWVHSATGKKRRKKKEAYFN...   \n",
       "\n",
       "   variant_under_consideration sequence_accession publication_id  \n",
       "0                         None     HISTDB_H2B_N_0       35099534  \n",
       "1                         None     HISTDB_H2B_N_1       35099534  \n",
       "2                         None     HISTDB_H2B_N_2       35099534  \n",
       "3                         None     HISTDB_H2B_N_3       35099534  \n",
       "4                         None     HISTDB_H2B_N_4       35099534  \n",
       "5                         None     HISTDB_H2B_N_5       35099534  \n",
       "6                         None     XP_007485268.2       35099534  \n",
       "7                         None     XP_007485606.1       35099534  \n",
       "8                         None     XP_007485607.1       35099534  \n",
       "9                         None     XP_058139847.1       35099534  \n",
       "10                        None     XP_059734412.1       35099534  \n",
       "11                        None     XP_059746706.1       35099534  \n",
       "12                        None     XP_060251208.1       35099534  "
      ]
     },
     "execution_count": 167,
     "metadata": {},
     "output_type": "execute_result"
    }
   ],
   "source": [
    "query = (\n",
    "    \"SELECT * FROM sequence s LEFT JOIN sequence_has_publication sp \"\n",
    "    \"ON s.accession = sp.sequence_accession \"\n",
    "    f\"WHERE s.variant='H2B.N'\"\n",
    ")\n",
    "cursor.execute(query)\n",
    "df = pd.DataFrame(cursor.fetchall(), columns=[i[0] for i in cursor.description])\n",
    "df"
   ]
  },
  {
   "cell_type": "code",
   "execution_count": 168,
   "id": "e4b76a8d-80e0-47c7-94ee-2ed0e0130017",
   "metadata": {
    "tags": []
   },
   "outputs": [],
   "source": [
    "# Make sure data is committed to the database\n",
    "conn.commit()"
   ]
  },
  {
   "cell_type": "markdown",
   "id": "d3c8a219-f508-46e1-936f-7d6040016e39",
   "metadata": {
    "tags": []
   },
   "source": [
    "# Close connections"
   ]
  },
  {
   "cell_type": "code",
   "execution_count": 169,
   "id": "572059d8-54f9-4ec7-a2c6-1c8066552845",
   "metadata": {
    "tags": []
   },
   "outputs": [],
   "source": [
    "cursor.close()\n",
    "conn.close()\n",
    "tunnel.stop()"
   ]
  },
  {
   "cell_type": "code",
   "execution_count": null,
   "id": "a078e121-8348-4ac8-a3f1-7c8b18b6d120",
   "metadata": {},
   "outputs": [],
   "source": []
  }
 ],
 "metadata": {
  "kernelspec": {
   "display_name": ".conda-histdb_env",
   "language": "python",
   "name": "conda-env-.conda-histdb_env-py"
  },
  "language_info": {
   "codemirror_mode": {
    "name": "ipython",
    "version": 3
   },
   "file_extension": ".py",
   "mimetype": "text/x-python",
   "name": "python",
   "nbconvert_exporter": "python",
   "pygments_lexer": "ipython3",
   "version": "3.8.1"
  }
 },
 "nbformat": 4,
 "nbformat_minor": 5
}
