{
 "cells": [
  {
   "cell_type": "code",
   "execution_count": 1,
   "id": "fb32231a-293e-45b8-af7d-d996c91a4edd",
   "metadata": {
    "tags": []
   },
   "outputs": [],
   "source": [
    "import pandas as pd\n",
    "from Bio import Entrez, SeqIO\n",
    "from mysql.connector import connection\n",
    "from sshtunnel import SSHTunnelForwarder\n",
    "\n",
    "Entrez.email = \"l.singh@intbio.org\""
   ]
  },
  {
   "cell_type": "code",
   "execution_count": 2,
   "id": "d5fa78a7-4901-4e63-9d91-d9ed584d2f62",
   "metadata": {
    "tags": []
   },
   "outputs": [],
   "source": [
    "with open(\"db_curated_server_info.txt\", \"r\") as file:\n",
    "    lines = file.readlines()\n",
    "\n",
    "config = {}\n",
    "\n",
    "for line in lines:\n",
    "    line = line.strip()\n",
    "    if line and not line.startswith(\"#\"):\n",
    "        key, value = line.split(\"=\", 1)\n",
    "        config[key] = value.strip()\n",
    "\n",
    "server_name = config.get(\"server_name\")\n",
    "srever_port = int(config.get(\"srever_port\"))\n",
    "ssh_password = config.get(\"ssh_password\")\n",
    "ssh_username = config.get(\"ssh_username\")\n",
    "db_adress = config.get(\"db_adress\")\n",
    "db_port = int(config.get(\"db_port\"))"
   ]
  },
  {
   "cell_type": "code",
   "execution_count": 3,
   "id": "ebe3d2e8-9736-4fd9-b3f1-5ec2d255567d",
   "metadata": {
    "tags": []
   },
   "outputs": [
    {
     "name": "stdout",
     "output_type": "stream",
     "text": [
      "43717\n"
     ]
    }
   ],
   "source": [
    "tunnel = SSHTunnelForwarder(\n",
    "    (server_name, srever_port),\n",
    "    ssh_password=ssh_password,\n",
    "    ssh_username=ssh_username,\n",
    "    remote_bind_address=(db_adress, db_port),\n",
    ")\n",
    "tunnel.start()\n",
    "print(tunnel.local_bind_port)"
   ]
  },
  {
   "cell_type": "code",
   "execution_count": 4,
   "id": "0de93630-7502-40f3-ad24-42edf7a11eef",
   "metadata": {
    "tags": []
   },
   "outputs": [],
   "source": [
    "conn = connection.MySQLConnection(\n",
    "    user=\"db_user\",\n",
    "    password=\"db_password\",\n",
    "    host=\"localhost\",\n",
    "    port=tunnel.local_bind_port,\n",
    "    database=\"db_name\",\n",
    ")\n",
    "cursor = conn.cursor()"
   ]
  },
  {
   "cell_type": "code",
   "execution_count": 5,
   "id": "b4767ba0-4ea1-43ae-953f-f2575d9b7a69",
   "metadata": {
    "tags": []
   },
   "outputs": [
    {
     "data": {
      "text/plain": [
       "[('alternative_name',),\n",
       " ('histone',),\n",
       " ('histone_description',),\n",
       " ('histone_has_publication',),\n",
       " ('publication',),\n",
       " ('sequence',),\n",
       " ('sequence_has_publication',)]"
      ]
     },
     "execution_count": 5,
     "metadata": {},
     "output_type": "execute_result"
    }
   ],
   "source": [
    "query = \"SHOW TABLES;\"\n",
    "cursor.execute(query)\n",
    "cursor.fetchall()"
   ]
  },
  {
   "cell_type": "code",
   "execution_count": 24,
   "id": "c68d4b8f-c22c-4f8e-bb4f-71f95668656e",
   "metadata": {
    "tags": []
   },
   "outputs": [],
   "source": [
    "# add_histone = (\n",
    "#     \"INSERT INTO histone \"\n",
    "#     \"(id, level, taxonomic_span, taxonomic_span_id, description, parent) \"\n",
    "#     \"VALUES (%(id)s, %(level)s, %(taxonomic_span)s, %(taxonomic_span_id)s, %(description)s, %(parent)s)\"\n",
    "# )\n",
    "# add_histone_description = (\n",
    "#     \"INSERT INTO histone_description \"\n",
    "#     \"(summary, taxonomy, genes, evolution, expression, knock_out, function, sequence, localization, deposition, structure, interactions, disease, caveats) \"\n",
    "#     \"VALUES (%s, %s, %s, %s, %s, %s, %s, %s, %s, %s, %s, %s, %s, %s)\"\n",
    "# )\n",
    "# add_publication = (\n",
    "#     \"INSERT INTO publication \"\n",
    "#     \"(id, title, doi, author, year) \"\n",
    "#     \"VALUES (%(id)s, %(title)s, %(doi)s, %(author)s, %(year)s)\"\n",
    "# )\n",
    "# add_sequence_has_publication = (\n",
    "#     \"INSERT INTO sequence_has_publication \"\n",
    "#     \"(sequence_accession, publication_id) \"\n",
    "#     \"VALUES (%s, %s)\"\n",
    "# )\n",
    "# add_alternate_names = (\n",
    "#     \"INSERT INTO alternative_name \"\n",
    "#     \"(name, taxonomy, gene, splice, histone) \"\n",
    "#     \"VALUES (%(name)s, %(taxonomy)s, %(gene)s, %(splice)s, %(histone)s)\"\n",
    "# )\n",
    "add_histone_has_publication = (\n",
    "    \"INSERT INTO histone_has_publication \"\n",
    "    \"(histone_id, publication_id) \"\n",
    "    \"VALUES (%s, %s)\"\n",
    ")"
   ]
  },
  {
   "cell_type": "markdown",
   "id": "0d1ec52b-a171-45d7-b2d3-411be7b43838",
   "metadata": {},
   "source": [
    "# Change name for some variants\n",
    "\n",
    "short_H2A → short_H2A_(Eutheria)"
   ]
  },
  {
   "cell_type": "markdown",
   "id": "f92e3def-e225-41ff-9607-124912396d03",
   "metadata": {
    "tags": []
   },
   "source": [
    "## Change name from short_H2A → short_H2A_(Eutheria)"
   ]
  },
  {
   "cell_type": "code",
   "execution_count": 6,
   "id": "d65f5079-5827-48bb-809e-66756704a8af",
   "metadata": {
    "tags": []
   },
   "outputs": [],
   "source": [
    "prev_name, new_name = \"short_H2A\", \"short_H2A_(Eutheria)\""
   ]
  },
  {
   "cell_type": "code",
   "execution_count": 7,
   "id": "82a1397c-3cbf-4d2b-ba7c-d67c395c2047",
   "metadata": {
    "tags": []
   },
   "outputs": [
    {
     "data": {
      "text/html": [
       "<div>\n",
       "<style scoped>\n",
       "    .dataframe tbody tr th:only-of-type {\n",
       "        vertical-align: middle;\n",
       "    }\n",
       "\n",
       "    .dataframe tbody tr th {\n",
       "        vertical-align: top;\n",
       "    }\n",
       "\n",
       "    .dataframe thead th {\n",
       "        text-align: right;\n",
       "    }\n",
       "</style>\n",
       "<table border=\"1\" class=\"dataframe\">\n",
       "  <thead>\n",
       "    <tr style=\"text-align: right;\">\n",
       "      <th></th>\n",
       "      <th>id</th>\n",
       "      <th>level</th>\n",
       "      <th>taxonomic_span</th>\n",
       "      <th>taxonomic_span_id</th>\n",
       "      <th>description</th>\n",
       "      <th>parent</th>\n",
       "      <th>histone_id</th>\n",
       "      <th>publication_id</th>\n",
       "    </tr>\n",
       "  </thead>\n",
       "  <tbody>\n",
       "    <tr>\n",
       "      <th>0</th>\n",
       "      <td>short_H2A</td>\n",
       "      <td>variant_group</td>\n",
       "      <td>Eutheria</td>\n",
       "      <td>9347</td>\n",
       "      <td>31</td>\n",
       "      <td>H2A</td>\n",
       "      <td>short_H2A</td>\n",
       "      <td>chew_short_2021</td>\n",
       "    </tr>\n",
       "    <tr>\n",
       "      <th>1</th>\n",
       "      <td>short_H2A</td>\n",
       "      <td>variant_group</td>\n",
       "      <td>Eutheria</td>\n",
       "      <td>9347</td>\n",
       "      <td>31</td>\n",
       "      <td>H2A</td>\n",
       "      <td>short_H2A</td>\n",
       "      <td>jiang_short_2020</td>\n",
       "    </tr>\n",
       "    <tr>\n",
       "      <th>2</th>\n",
       "      <td>short_H2A</td>\n",
       "      <td>variant_group</td>\n",
       "      <td>Eutheria</td>\n",
       "      <td>9347</td>\n",
       "      <td>31</td>\n",
       "      <td>H2A</td>\n",
       "      <td>short_H2A</td>\n",
       "      <td>molaro_evolutionary_2018</td>\n",
       "    </tr>\n",
       "  </tbody>\n",
       "</table>\n",
       "</div>"
      ],
      "text/plain": [
       "          id          level taxonomic_span taxonomic_span_id  description  \\\n",
       "0  short_H2A  variant_group       Eutheria              9347           31   \n",
       "1  short_H2A  variant_group       Eutheria              9347           31   \n",
       "2  short_H2A  variant_group       Eutheria              9347           31   \n",
       "\n",
       "  parent histone_id            publication_id  \n",
       "0    H2A  short_H2A           chew_short_2021  \n",
       "1    H2A  short_H2A          jiang_short_2020  \n",
       "2    H2A  short_H2A  molaro_evolutionary_2018  "
      ]
     },
     "execution_count": 7,
     "metadata": {},
     "output_type": "execute_result"
    }
   ],
   "source": [
    "query = (\n",
    "    \"SELECT * FROM histone h LEFT JOIN histone_has_publication hp \"\n",
    "    \"ON h.id = hp.histone_id \"\n",
    "    f\"WHERE h.id='{prev_name}'\"\n",
    ")\n",
    "cursor.execute(query)\n",
    "pd.DataFrame(cursor.fetchall(), columns=[i[0] for i in cursor.description])"
   ]
  },
  {
   "cell_type": "code",
   "execution_count": 9,
   "id": "211d4303-6867-4918-925f-9f12dc52037f",
   "metadata": {
    "tags": []
   },
   "outputs": [
    {
     "data": {
      "text/html": [
       "<div>\n",
       "<style scoped>\n",
       "    .dataframe tbody tr th:only-of-type {\n",
       "        vertical-align: middle;\n",
       "    }\n",
       "\n",
       "    .dataframe tbody tr th {\n",
       "        vertical-align: top;\n",
       "    }\n",
       "\n",
       "    .dataframe thead th {\n",
       "        text-align: right;\n",
       "    }\n",
       "</style>\n",
       "<table border=\"1\" class=\"dataframe\">\n",
       "  <thead>\n",
       "    <tr style=\"text-align: right;\">\n",
       "      <th></th>\n",
       "      <th>id</th>\n",
       "      <th>level</th>\n",
       "      <th>taxonomic_span</th>\n",
       "      <th>taxonomic_span_id</th>\n",
       "      <th>description</th>\n",
       "      <th>parent</th>\n",
       "    </tr>\n",
       "  </thead>\n",
       "  <tbody>\n",
       "    <tr>\n",
       "      <th>0</th>\n",
       "      <td>H2A.B</td>\n",
       "      <td>variant</td>\n",
       "      <td>Eutheria</td>\n",
       "      <td>9347</td>\n",
       "      <td>83</td>\n",
       "      <td>short_H2A</td>\n",
       "    </tr>\n",
       "    <tr>\n",
       "      <th>1</th>\n",
       "      <td>H2A.L</td>\n",
       "      <td>variant</td>\n",
       "      <td>Eutheria</td>\n",
       "      <td>9347</td>\n",
       "      <td>84</td>\n",
       "      <td>short_H2A</td>\n",
       "    </tr>\n",
       "    <tr>\n",
       "      <th>2</th>\n",
       "      <td>H2A.P</td>\n",
       "      <td>variant</td>\n",
       "      <td>Eutheria</td>\n",
       "      <td>9347</td>\n",
       "      <td>85</td>\n",
       "      <td>short_H2A</td>\n",
       "    </tr>\n",
       "    <tr>\n",
       "      <th>3</th>\n",
       "      <td>H2A.Q</td>\n",
       "      <td>variant</td>\n",
       "      <td>Eutheria</td>\n",
       "      <td>9347</td>\n",
       "      <td>86</td>\n",
       "      <td>short_H2A</td>\n",
       "    </tr>\n",
       "  </tbody>\n",
       "</table>\n",
       "</div>"
      ],
      "text/plain": [
       "      id    level taxonomic_span taxonomic_span_id  description     parent\n",
       "0  H2A.B  variant       Eutheria              9347           83  short_H2A\n",
       "1  H2A.L  variant       Eutheria              9347           84  short_H2A\n",
       "2  H2A.P  variant       Eutheria              9347           85  short_H2A\n",
       "3  H2A.Q  variant       Eutheria              9347           86  short_H2A"
      ]
     },
     "execution_count": 9,
     "metadata": {},
     "output_type": "execute_result"
    }
   ],
   "source": [
    "query = (\n",
    "    \"SELECT * FROM histone \"\n",
    "    f\"WHERE parent='{prev_name}'\"\n",
    ")\n",
    "cursor.execute(query)\n",
    "pd.DataFrame(cursor.fetchall(), columns=[i[0] for i in cursor.description])"
   ]
  },
  {
   "cell_type": "markdown",
   "id": "96eb53c6-e842-4a1b-a2a1-62277987a753",
   "metadata": {
    "tags": []
   },
   "source": [
    "### Save children and publications"
   ]
  },
  {
   "cell_type": "code",
   "execution_count": 10,
   "id": "00eed638-5254-44cd-8a35-63574985b95e",
   "metadata": {
    "tags": []
   },
   "outputs": [
    {
     "data": {
      "text/plain": [
       "array(['H2A.B', 'H2A.L', 'H2A.P', 'H2A.Q'], dtype=object)"
      ]
     },
     "execution_count": 10,
     "metadata": {},
     "output_type": "execute_result"
    }
   ],
   "source": [
    "query = (\n",
    "    \"SELECT * FROM histone \"\n",
    "    f\"WHERE parent='{prev_name}'\"\n",
    ")\n",
    "cursor.execute(query)\n",
    "children = pd.DataFrame(cursor.fetchall(), columns=[i[0] for i in cursor.description])[\"id\"].values\n",
    "children"
   ]
  },
  {
   "cell_type": "code",
   "execution_count": 11,
   "id": "6ce1389c-e60b-4174-bc0c-54739f80937c",
   "metadata": {
    "tags": []
   },
   "outputs": [
    {
     "data": {
      "text/plain": [
       "array(['chew_short_2021', 'jiang_short_2020', 'molaro_evolutionary_2018'],\n",
       "      dtype=object)"
      ]
     },
     "execution_count": 11,
     "metadata": {},
     "output_type": "execute_result"
    }
   ],
   "source": [
    "query = (\n",
    "    \"SELECT * FROM histone h LEFT JOIN histone_has_publication hp \"\n",
    "    \"ON h.id = hp.histone_id \"\n",
    "    f\"WHERE h.id='{prev_name}'\"\n",
    ")\n",
    "cursor.execute(query)\n",
    "publications = pd.DataFrame(\n",
    "    cursor.fetchall(), columns=[i[0] for i in cursor.description]\n",
    ")[\"publication_id\"].values\n",
    "publications"
   ]
  },
  {
   "cell_type": "markdown",
   "id": "ba6c88ef-f115-4493-9edf-d6b881da042d",
   "metadata": {
    "tags": []
   },
   "source": [
    "### Delete relations"
   ]
  },
  {
   "cell_type": "code",
   "execution_count": 12,
   "id": "076f6093-7114-4b9b-930d-b0fd46754aea",
   "metadata": {
    "tags": []
   },
   "outputs": [
    {
     "name": "stdout",
     "output_type": "stream",
     "text": [
      "DELETE FROM histone_has_publication WHERE histone_id = 'short_H2A'\n"
     ]
    }
   ],
   "source": [
    "query = f\"DELETE FROM histone_has_publication WHERE histone_id = '{prev_name}'\" \n",
    "print(query) \n",
    "cursor.execute(query)"
   ]
  },
  {
   "cell_type": "code",
   "execution_count": 13,
   "id": "6fbb9b8a-fc7d-4fcd-be34-b8a90a5088dc",
   "metadata": {
    "tags": []
   },
   "outputs": [
    {
     "name": "stdout",
     "output_type": "stream",
     "text": [
      "UPDATE histone SET parent=null WHERE parent = 'short_H2A'\n"
     ]
    }
   ],
   "source": [
    "query = f\"UPDATE histone SET parent=null WHERE parent = '{prev_name}'\" \n",
    "print(query) \n",
    "cursor.execute(query) "
   ]
  },
  {
   "cell_type": "code",
   "execution_count": 14,
   "id": "a69d7c67-4aaf-4c6a-b310-9738ec2a617c",
   "metadata": {
    "tags": []
   },
   "outputs": [
    {
     "data": {
      "text/html": [
       "<div>\n",
       "<style scoped>\n",
       "    .dataframe tbody tr th:only-of-type {\n",
       "        vertical-align: middle;\n",
       "    }\n",
       "\n",
       "    .dataframe tbody tr th {\n",
       "        vertical-align: top;\n",
       "    }\n",
       "\n",
       "    .dataframe thead th {\n",
       "        text-align: right;\n",
       "    }\n",
       "</style>\n",
       "<table border=\"1\" class=\"dataframe\">\n",
       "  <thead>\n",
       "    <tr style=\"text-align: right;\">\n",
       "      <th></th>\n",
       "      <th>id</th>\n",
       "      <th>level</th>\n",
       "      <th>taxonomic_span</th>\n",
       "      <th>taxonomic_span_id</th>\n",
       "      <th>description</th>\n",
       "      <th>parent</th>\n",
       "      <th>histone_id</th>\n",
       "      <th>publication_id</th>\n",
       "    </tr>\n",
       "  </thead>\n",
       "  <tbody>\n",
       "    <tr>\n",
       "      <th>0</th>\n",
       "      <td>short_H2A</td>\n",
       "      <td>variant_group</td>\n",
       "      <td>Eutheria</td>\n",
       "      <td>9347</td>\n",
       "      <td>31</td>\n",
       "      <td>H2A</td>\n",
       "      <td>None</td>\n",
       "      <td>None</td>\n",
       "    </tr>\n",
       "  </tbody>\n",
       "</table>\n",
       "</div>"
      ],
      "text/plain": [
       "          id          level taxonomic_span taxonomic_span_id  description  \\\n",
       "0  short_H2A  variant_group       Eutheria              9347           31   \n",
       "\n",
       "  parent histone_id publication_id  \n",
       "0    H2A       None           None  "
      ]
     },
     "execution_count": 14,
     "metadata": {},
     "output_type": "execute_result"
    }
   ],
   "source": [
    "query = (\n",
    "    \"SELECT * FROM histone h LEFT JOIN histone_has_publication hp \"\n",
    "    \"ON h.id = hp.histone_id \"\n",
    "    f\"WHERE h.id='{prev_name}'\"\n",
    ")\n",
    "cursor.execute(query)\n",
    "pd.DataFrame(cursor.fetchall(), columns=[i[0] for i in cursor.description])"
   ]
  },
  {
   "cell_type": "code",
   "execution_count": 15,
   "id": "d7e7920b-68d6-47c4-bef0-f9c9df0beeec",
   "metadata": {
    "tags": []
   },
   "outputs": [
    {
     "data": {
      "text/html": [
       "<div>\n",
       "<style scoped>\n",
       "    .dataframe tbody tr th:only-of-type {\n",
       "        vertical-align: middle;\n",
       "    }\n",
       "\n",
       "    .dataframe tbody tr th {\n",
       "        vertical-align: top;\n",
       "    }\n",
       "\n",
       "    .dataframe thead th {\n",
       "        text-align: right;\n",
       "    }\n",
       "</style>\n",
       "<table border=\"1\" class=\"dataframe\">\n",
       "  <thead>\n",
       "    <tr style=\"text-align: right;\">\n",
       "      <th></th>\n",
       "      <th>id</th>\n",
       "      <th>level</th>\n",
       "      <th>taxonomic_span</th>\n",
       "      <th>taxonomic_span_id</th>\n",
       "      <th>description</th>\n",
       "      <th>parent</th>\n",
       "    </tr>\n",
       "  </thead>\n",
       "  <tbody>\n",
       "  </tbody>\n",
       "</table>\n",
       "</div>"
      ],
      "text/plain": [
       "Empty DataFrame\n",
       "Columns: [id, level, taxonomic_span, taxonomic_span_id, description, parent]\n",
       "Index: []"
      ]
     },
     "execution_count": 15,
     "metadata": {},
     "output_type": "execute_result"
    }
   ],
   "source": [
    "query = (\n",
    "    \"SELECT * FROM histone \"\n",
    "    f\"WHERE parent='{prev_name}'\"\n",
    ")\n",
    "cursor.execute(query)\n",
    "pd.DataFrame(cursor.fetchall(), columns=[i[0] for i in cursor.description])"
   ]
  },
  {
   "cell_type": "markdown",
   "id": "fcc23dfc-f869-4e24-90fe-0f2a25bbf1f0",
   "metadata": {
    "tags": []
   },
   "source": [
    "### Update name"
   ]
  },
  {
   "cell_type": "code",
   "execution_count": 16,
   "id": "45c182af-9ea9-4747-9176-b7b6a57aa2b0",
   "metadata": {
    "tags": []
   },
   "outputs": [
    {
     "name": "stdout",
     "output_type": "stream",
     "text": [
      "UPDATE histone SET id='short_H2A_(Eutheria)' WHERE id = 'short_H2A'\n"
     ]
    }
   ],
   "source": [
    "query = f\"UPDATE histone SET id='{new_name}' WHERE id = '{prev_name}'\" \n",
    "print(query) \n",
    "cursor.execute(query) "
   ]
  },
  {
   "cell_type": "code",
   "execution_count": 17,
   "id": "3ba3b53e-1e0a-475b-b855-73243f0e2b26",
   "metadata": {
    "tags": []
   },
   "outputs": [
    {
     "data": {
      "text/html": [
       "<div>\n",
       "<style scoped>\n",
       "    .dataframe tbody tr th:only-of-type {\n",
       "        vertical-align: middle;\n",
       "    }\n",
       "\n",
       "    .dataframe tbody tr th {\n",
       "        vertical-align: top;\n",
       "    }\n",
       "\n",
       "    .dataframe thead th {\n",
       "        text-align: right;\n",
       "    }\n",
       "</style>\n",
       "<table border=\"1\" class=\"dataframe\">\n",
       "  <thead>\n",
       "    <tr style=\"text-align: right;\">\n",
       "      <th></th>\n",
       "      <th>id</th>\n",
       "      <th>level</th>\n",
       "      <th>taxonomic_span</th>\n",
       "      <th>taxonomic_span_id</th>\n",
       "      <th>description</th>\n",
       "      <th>parent</th>\n",
       "      <th>histone_id</th>\n",
       "      <th>publication_id</th>\n",
       "    </tr>\n",
       "  </thead>\n",
       "  <tbody>\n",
       "    <tr>\n",
       "      <th>0</th>\n",
       "      <td>short_H2A_(Eutheria)</td>\n",
       "      <td>variant_group</td>\n",
       "      <td>Eutheria</td>\n",
       "      <td>9347</td>\n",
       "      <td>31</td>\n",
       "      <td>H2A</td>\n",
       "      <td>None</td>\n",
       "      <td>None</td>\n",
       "    </tr>\n",
       "  </tbody>\n",
       "</table>\n",
       "</div>"
      ],
      "text/plain": [
       "                     id          level taxonomic_span taxonomic_span_id  \\\n",
       "0  short_H2A_(Eutheria)  variant_group       Eutheria              9347   \n",
       "\n",
       "   description parent histone_id publication_id  \n",
       "0           31    H2A       None           None  "
      ]
     },
     "execution_count": 17,
     "metadata": {},
     "output_type": "execute_result"
    }
   ],
   "source": [
    "query = (\n",
    "    \"SELECT * FROM histone h LEFT JOIN histone_has_publication hp \"\n",
    "    \"ON h.id = hp.histone_id \"\n",
    "    f\"WHERE h.id='{new_name}'\"\n",
    ")\n",
    "cursor.execute(query)\n",
    "pd.DataFrame(cursor.fetchall(), columns=[i[0] for i in cursor.description])"
   ]
  },
  {
   "cell_type": "markdown",
   "id": "862bcf6f-bf00-493d-91f1-e1b96b6f52e7",
   "metadata": {},
   "source": [
    "### Return relations"
   ]
  },
  {
   "cell_type": "code",
   "execution_count": 19,
   "id": "6b14c242-269a-4bbe-bc70-af4773ea23e9",
   "metadata": {
    "tags": []
   },
   "outputs": [
    {
     "data": {
      "text/html": [
       "<div>\n",
       "<style scoped>\n",
       "    .dataframe tbody tr th:only-of-type {\n",
       "        vertical-align: middle;\n",
       "    }\n",
       "\n",
       "    .dataframe tbody tr th {\n",
       "        vertical-align: top;\n",
       "    }\n",
       "\n",
       "    .dataframe thead th {\n",
       "        text-align: right;\n",
       "    }\n",
       "</style>\n",
       "<table border=\"1\" class=\"dataframe\">\n",
       "  <thead>\n",
       "    <tr style=\"text-align: right;\">\n",
       "      <th></th>\n",
       "      <th>id</th>\n",
       "      <th>level</th>\n",
       "      <th>taxonomic_span</th>\n",
       "      <th>taxonomic_span_id</th>\n",
       "      <th>description</th>\n",
       "      <th>parent</th>\n",
       "    </tr>\n",
       "  </thead>\n",
       "  <tbody>\n",
       "    <tr>\n",
       "      <th>98</th>\n",
       "      <td>H2A.B</td>\n",
       "      <td>variant</td>\n",
       "      <td>Eutheria</td>\n",
       "      <td>9347</td>\n",
       "      <td>83</td>\n",
       "      <td>None</td>\n",
       "    </tr>\n",
       "    <tr>\n",
       "      <th>108</th>\n",
       "      <td>H2A.L</td>\n",
       "      <td>variant</td>\n",
       "      <td>Eutheria</td>\n",
       "      <td>9347</td>\n",
       "      <td>84</td>\n",
       "      <td>None</td>\n",
       "    </tr>\n",
       "    <tr>\n",
       "      <th>117</th>\n",
       "      <td>H2A.P</td>\n",
       "      <td>variant</td>\n",
       "      <td>Eutheria</td>\n",
       "      <td>9347</td>\n",
       "      <td>85</td>\n",
       "      <td>None</td>\n",
       "    </tr>\n",
       "    <tr>\n",
       "      <th>120</th>\n",
       "      <td>H2A.Q</td>\n",
       "      <td>variant</td>\n",
       "      <td>Eutheria</td>\n",
       "      <td>9347</td>\n",
       "      <td>86</td>\n",
       "      <td>None</td>\n",
       "    </tr>\n",
       "  </tbody>\n",
       "</table>\n",
       "</div>"
      ],
      "text/plain": [
       "        id    level taxonomic_span taxonomic_span_id  description parent\n",
       "98   H2A.B  variant       Eutheria              9347           83   None\n",
       "108  H2A.L  variant       Eutheria              9347           84   None\n",
       "117  H2A.P  variant       Eutheria              9347           85   None\n",
       "120  H2A.Q  variant       Eutheria              9347           86   None"
      ]
     },
     "execution_count": 19,
     "metadata": {},
     "output_type": "execute_result"
    }
   ],
   "source": [
    "query = (\n",
    "    \"SELECT * FROM histone \"\n",
    ")\n",
    "cursor.execute(query)\n",
    "df = pd.DataFrame(cursor.fetchall(), columns=[i[0] for i in cursor.description])\n",
    "df[df[\"id\"].isin(children)]"
   ]
  },
  {
   "cell_type": "code",
   "execution_count": 20,
   "id": "51654fb5-03ba-45db-bf19-45a984deb8ff",
   "metadata": {
    "tags": []
   },
   "outputs": [
    {
     "name": "stdout",
     "output_type": "stream",
     "text": [
      "UPDATE histone SET parent='short_H2A_(Eutheria)' WHERE id = 'H2A.B'\n",
      "UPDATE histone SET parent='short_H2A_(Eutheria)' WHERE id = 'H2A.L'\n",
      "UPDATE histone SET parent='short_H2A_(Eutheria)' WHERE id = 'H2A.P'\n",
      "UPDATE histone SET parent='short_H2A_(Eutheria)' WHERE id = 'H2A.Q'\n"
     ]
    }
   ],
   "source": [
    "for ch in children:\n",
    "    query = f\"UPDATE histone SET parent='{new_name}' WHERE id = '{ch}'\" \n",
    "    print(query)\n",
    "    cursor.execute(query)"
   ]
  },
  {
   "cell_type": "code",
   "execution_count": 22,
   "id": "5d804053-5107-4793-a46c-f233d56f0277",
   "metadata": {
    "tags": []
   },
   "outputs": [
    {
     "data": {
      "text/html": [
       "<div>\n",
       "<style scoped>\n",
       "    .dataframe tbody tr th:only-of-type {\n",
       "        vertical-align: middle;\n",
       "    }\n",
       "\n",
       "    .dataframe tbody tr th {\n",
       "        vertical-align: top;\n",
       "    }\n",
       "\n",
       "    .dataframe thead th {\n",
       "        text-align: right;\n",
       "    }\n",
       "</style>\n",
       "<table border=\"1\" class=\"dataframe\">\n",
       "  <thead>\n",
       "    <tr style=\"text-align: right;\">\n",
       "      <th></th>\n",
       "      <th>id</th>\n",
       "      <th>level</th>\n",
       "      <th>taxonomic_span</th>\n",
       "      <th>taxonomic_span_id</th>\n",
       "      <th>description</th>\n",
       "      <th>parent</th>\n",
       "    </tr>\n",
       "  </thead>\n",
       "  <tbody>\n",
       "    <tr>\n",
       "      <th>0</th>\n",
       "      <td>H2A.B</td>\n",
       "      <td>variant</td>\n",
       "      <td>Eutheria</td>\n",
       "      <td>9347</td>\n",
       "      <td>83</td>\n",
       "      <td>short_H2A_(Eutheria)</td>\n",
       "    </tr>\n",
       "    <tr>\n",
       "      <th>1</th>\n",
       "      <td>H2A.L</td>\n",
       "      <td>variant</td>\n",
       "      <td>Eutheria</td>\n",
       "      <td>9347</td>\n",
       "      <td>84</td>\n",
       "      <td>short_H2A_(Eutheria)</td>\n",
       "    </tr>\n",
       "    <tr>\n",
       "      <th>2</th>\n",
       "      <td>H2A.P</td>\n",
       "      <td>variant</td>\n",
       "      <td>Eutheria</td>\n",
       "      <td>9347</td>\n",
       "      <td>85</td>\n",
       "      <td>short_H2A_(Eutheria)</td>\n",
       "    </tr>\n",
       "    <tr>\n",
       "      <th>3</th>\n",
       "      <td>H2A.Q</td>\n",
       "      <td>variant</td>\n",
       "      <td>Eutheria</td>\n",
       "      <td>9347</td>\n",
       "      <td>86</td>\n",
       "      <td>short_H2A_(Eutheria)</td>\n",
       "    </tr>\n",
       "  </tbody>\n",
       "</table>\n",
       "</div>"
      ],
      "text/plain": [
       "      id    level taxonomic_span taxonomic_span_id  description  \\\n",
       "0  H2A.B  variant       Eutheria              9347           83   \n",
       "1  H2A.L  variant       Eutheria              9347           84   \n",
       "2  H2A.P  variant       Eutheria              9347           85   \n",
       "3  H2A.Q  variant       Eutheria              9347           86   \n",
       "\n",
       "                 parent  \n",
       "0  short_H2A_(Eutheria)  \n",
       "1  short_H2A_(Eutheria)  \n",
       "2  short_H2A_(Eutheria)  \n",
       "3  short_H2A_(Eutheria)  "
      ]
     },
     "execution_count": 22,
     "metadata": {},
     "output_type": "execute_result"
    }
   ],
   "source": [
    "query = (\n",
    "    \"SELECT * FROM histone \"\n",
    "    f\"WHERE parent='{new_name}'\"\n",
    ")\n",
    "cursor.execute(query)\n",
    "pd.DataFrame(cursor.fetchall(), columns=[i[0] for i in cursor.description])"
   ]
  },
  {
   "cell_type": "code",
   "execution_count": 25,
   "id": "7adb1b6d-8056-4cb0-b39b-274d084cb572",
   "metadata": {
    "tags": []
   },
   "outputs": [],
   "source": [
    "query = \"SELECT id FROM publication\"\n",
    "cursor.execute(query)\n",
    "exist_pubs = [i[0] for i in cursor.fetchall()]\n",
    "for pid in publications:\n",
    "    if pid not in exist_pubs:\n",
    "        print(f\"Strange {pid}\")\n",
    "    cursor.execute(add_histone_has_publication, (new_name, pid))"
   ]
  },
  {
   "cell_type": "code",
   "execution_count": 26,
   "id": "d11e464a-9491-42c9-8597-3ce53efa6979",
   "metadata": {
    "tags": []
   },
   "outputs": [
    {
     "data": {
      "text/html": [
       "<div>\n",
       "<style scoped>\n",
       "    .dataframe tbody tr th:only-of-type {\n",
       "        vertical-align: middle;\n",
       "    }\n",
       "\n",
       "    .dataframe tbody tr th {\n",
       "        vertical-align: top;\n",
       "    }\n",
       "\n",
       "    .dataframe thead th {\n",
       "        text-align: right;\n",
       "    }\n",
       "</style>\n",
       "<table border=\"1\" class=\"dataframe\">\n",
       "  <thead>\n",
       "    <tr style=\"text-align: right;\">\n",
       "      <th></th>\n",
       "      <th>id</th>\n",
       "      <th>level</th>\n",
       "      <th>taxonomic_span</th>\n",
       "      <th>taxonomic_span_id</th>\n",
       "      <th>description</th>\n",
       "      <th>parent</th>\n",
       "      <th>histone_id</th>\n",
       "      <th>publication_id</th>\n",
       "    </tr>\n",
       "  </thead>\n",
       "  <tbody>\n",
       "    <tr>\n",
       "      <th>0</th>\n",
       "      <td>short_H2A_(Eutheria)</td>\n",
       "      <td>variant_group</td>\n",
       "      <td>Eutheria</td>\n",
       "      <td>9347</td>\n",
       "      <td>31</td>\n",
       "      <td>H2A</td>\n",
       "      <td>short_H2A_(Eutheria)</td>\n",
       "      <td>chew_short_2021</td>\n",
       "    </tr>\n",
       "    <tr>\n",
       "      <th>1</th>\n",
       "      <td>short_H2A_(Eutheria)</td>\n",
       "      <td>variant_group</td>\n",
       "      <td>Eutheria</td>\n",
       "      <td>9347</td>\n",
       "      <td>31</td>\n",
       "      <td>H2A</td>\n",
       "      <td>short_H2A_(Eutheria)</td>\n",
       "      <td>jiang_short_2020</td>\n",
       "    </tr>\n",
       "    <tr>\n",
       "      <th>2</th>\n",
       "      <td>short_H2A_(Eutheria)</td>\n",
       "      <td>variant_group</td>\n",
       "      <td>Eutheria</td>\n",
       "      <td>9347</td>\n",
       "      <td>31</td>\n",
       "      <td>H2A</td>\n",
       "      <td>short_H2A_(Eutheria)</td>\n",
       "      <td>molaro_evolutionary_2018</td>\n",
       "    </tr>\n",
       "  </tbody>\n",
       "</table>\n",
       "</div>"
      ],
      "text/plain": [
       "                     id          level taxonomic_span taxonomic_span_id  \\\n",
       "0  short_H2A_(Eutheria)  variant_group       Eutheria              9347   \n",
       "1  short_H2A_(Eutheria)  variant_group       Eutheria              9347   \n",
       "2  short_H2A_(Eutheria)  variant_group       Eutheria              9347   \n",
       "\n",
       "   description parent            histone_id            publication_id  \n",
       "0           31    H2A  short_H2A_(Eutheria)           chew_short_2021  \n",
       "1           31    H2A  short_H2A_(Eutheria)          jiang_short_2020  \n",
       "2           31    H2A  short_H2A_(Eutheria)  molaro_evolutionary_2018  "
      ]
     },
     "execution_count": 26,
     "metadata": {},
     "output_type": "execute_result"
    }
   ],
   "source": [
    "query = (\n",
    "    \"SELECT * FROM histone h LEFT JOIN histone_has_publication hp \"\n",
    "    \"ON h.id = hp.histone_id \"\n",
    "    f\"WHERE h.id='{new_name}'\"\n",
    ")\n",
    "cursor.execute(query)\n",
    "pd.DataFrame(cursor.fetchall(), columns=[i[0] for i in cursor.description])"
   ]
  },
  {
   "cell_type": "code",
   "execution_count": 27,
   "id": "dc6085a0-7f39-4daf-a3a0-f3b50db13f7c",
   "metadata": {
    "tags": []
   },
   "outputs": [],
   "source": [
    "# Make sure data is committed to the database\n",
    "conn.commit()"
   ]
  },
  {
   "cell_type": "markdown",
   "id": "f0e30842-5f18-4d84-9f5d-50d87f0a90fa",
   "metadata": {
    "tags": []
   },
   "source": [
    "# Поменять поле description у short_H2A_(Eutheria) и всех подвариантов\n",
    "\n",
    "Все значения полей у short_H2A_(Eutheria) и его подвариантов попали в summary. Необходимо разнести их на свои места."
   ]
  },
  {
   "cell_type": "code",
   "execution_count": 28,
   "id": "4b8536f7-b5e9-4507-b6e3-95e2dd86dd38",
   "metadata": {
    "tags": []
   },
   "outputs": [
    {
     "data": {
      "text/html": [
       "<div>\n",
       "<style scoped>\n",
       "    .dataframe tbody tr th:only-of-type {\n",
       "        vertical-align: middle;\n",
       "    }\n",
       "\n",
       "    .dataframe tbody tr th {\n",
       "        vertical-align: top;\n",
       "    }\n",
       "\n",
       "    .dataframe thead th {\n",
       "        text-align: right;\n",
       "    }\n",
       "</style>\n",
       "<table border=\"1\" class=\"dataframe\">\n",
       "  <thead>\n",
       "    <tr style=\"text-align: right;\">\n",
       "      <th></th>\n",
       "      <th>id</th>\n",
       "      <th>level</th>\n",
       "      <th>taxonomic_span</th>\n",
       "      <th>taxonomic_span_id</th>\n",
       "      <th>description</th>\n",
       "      <th>parent</th>\n",
       "      <th>id</th>\n",
       "      <th>summary</th>\n",
       "      <th>taxonomy</th>\n",
       "      <th>genes</th>\n",
       "      <th>...</th>\n",
       "      <th>expression</th>\n",
       "      <th>knock_out</th>\n",
       "      <th>function</th>\n",
       "      <th>sequence</th>\n",
       "      <th>localization</th>\n",
       "      <th>deposition</th>\n",
       "      <th>structure</th>\n",
       "      <th>interactions</th>\n",
       "      <th>disease</th>\n",
       "      <th>caveats</th>\n",
       "    </tr>\n",
       "  </thead>\n",
       "  <tbody>\n",
       "    <tr>\n",
       "      <th>0</th>\n",
       "      <td>short_H2A_(Eutheria)</td>\n",
       "      <td>variant_group</td>\n",
       "      <td>Eutheria</td>\n",
       "      <td>9347</td>\n",
       "      <td>31</td>\n",
       "      <td>H2A</td>\n",
       "      <td>31</td>\n",
       "      <td>short_H2A is a class encompassing several hist...</td>\n",
       "      <td>null</td>\n",
       "      <td>null</td>\n",
       "      <td>...</td>\n",
       "      <td>null</td>\n",
       "      <td>null</td>\n",
       "      <td>null</td>\n",
       "      <td>null</td>\n",
       "      <td>null</td>\n",
       "      <td>null</td>\n",
       "      <td>null</td>\n",
       "      <td>null</td>\n",
       "      <td>null</td>\n",
       "      <td>null</td>\n",
       "    </tr>\n",
       "  </tbody>\n",
       "</table>\n",
       "<p>1 rows × 21 columns</p>\n",
       "</div>"
      ],
      "text/plain": [
       "                     id          level taxonomic_span taxonomic_span_id  \\\n",
       "0  short_H2A_(Eutheria)  variant_group       Eutheria              9347   \n",
       "\n",
       "   description parent  id                                            summary  \\\n",
       "0           31    H2A  31  short_H2A is a class encompassing several hist...   \n",
       "\n",
       "  taxonomy genes  ... expression knock_out function sequence localization  \\\n",
       "0     null  null  ...       null      null     null     null         null   \n",
       "\n",
       "  deposition structure interactions disease caveats  \n",
       "0       null      null         null    null    null  \n",
       "\n",
       "[1 rows x 21 columns]"
      ]
     },
     "execution_count": 28,
     "metadata": {},
     "output_type": "execute_result"
    }
   ],
   "source": [
    "query = (\n",
    "    \"SELECT * FROM histone h LEFT JOIN histone_description hd \"\n",
    "    \"ON h.description = hd.id \"\n",
    "    f\"WHERE h.id = '{new_name}' \"\n",
    ")\n",
    "cursor.execute(query)\n",
    "df = pd.DataFrame(cursor.fetchall(), columns=[i[0] for i in cursor.description])\n",
    "df"
   ]
  },
  {
   "cell_type": "code",
   "execution_count": 32,
   "id": "4e1f9a6e-6690-4194-ba2b-d4a065de38c0",
   "metadata": {
    "tags": []
   },
   "outputs": [
    {
     "data": {
      "text/plain": [
       "'short_H2A_(Eutheria) is a class encompassing several histone H2A variants in placental (eutherian) mammals with shortened C-terminus expressed mainly during mammalian male germ cell development before the nearly complete replacement of histones by protamines in sperm nuclei. The repertoires of short histone H2A variants vary extensively among eutherian mammals due to lineage-specific gains and losses. Short H2A variants include H2A.B, H2A.L, H2A.P, H2A.Q, their genes are usually located on X chromosome and are intronless. These four clades of eutherian mammal short H2A variants emerged from a single, well-supported monophyletic clade, confirming their common ancestry [molaro_evolutionary_2018]. Due to shortened docking domain and changes within the acidic patch nucleosomes incorporating short H2As wrap less DNA (120-130 bp) and form loosely packed chromatin. There are few conserved residues in the histone fold domain of sH2As that distinguish them from each other, instead much of their specialization may stem from changes in the N- and C-terminal tails of these variatns [molaro_evolutionary_2018].  Abberant short H2A upregulation was reported in a broad range of cancers [chew_short_2021]. Caveats: H2A.B is also expressed in the brain [jiang_short_2020].'"
      ]
     },
     "execution_count": 32,
     "metadata": {},
     "output_type": "execute_result"
    }
   ],
   "source": [
    "df[\"summary\"].values[0].replace(prev_name, new_name, 1)"
   ]
  },
  {
   "cell_type": "code",
   "execution_count": 34,
   "id": "a8747fa5-d1ae-4dc3-b749-127ae6799857",
   "metadata": {
    "tags": []
   },
   "outputs": [
    {
     "data": {
      "text/plain": [
       "{'summary': 'short_H2A_(Eutheria) is a class encompassing several histone H2A variants in placental (eutherian) mammals with shortened C-terminus expressed mainly during mammalian male germ cell development before the nearly complete replacement of histones by protamines in sperm nuclei. The repertoires of short histone H2A variants vary extensively among eutherian mammals due to lineage-specific gains and losses. Short H2A variants include H2A.B, H2A.L, H2A.P, H2A.Q, their genes are usually located on X chromosome and are intronless. These four clades of eutherian mammal short H2A variants emerged from a single, well-supported monophyletic clade, confirming their common ancestry [molaro_evolutionary_2018]. Due to shortened docking domain and changes within the acidic patch nucleosomes incorporating short H2As wrap less DNA (120-130 bp) and form loosely packed chromatin. There are few conserved residues in the histone fold domain of sH2As that distinguish them from each other, instead much of their specialization may stem from changes in the N- and C-terminal tails of these variatns [molaro_evolutionary_2018].  Abberant short H2A upregulation was reported in a broad range of cancers [chew_short_2021].',\n",
       " 'caveats': 'H2A.B is also expressed in the brain [jiang_short_2020].'}"
      ]
     },
     "execution_count": 34,
     "metadata": {},
     "output_type": "execute_result"
    }
   ],
   "source": [
    "desc_dict = {\n",
    "    \"summary\": \"short_H2A_(Eutheria) is a class encompassing several histone H2A variants in placental (eutherian) mammals with shortened C-terminus expressed mainly during mammalian male germ cell development before the nearly complete replacement of histones by protamines in sperm nuclei. The repertoires of short histone H2A variants vary extensively among eutherian mammals due to lineage-specific gains and losses. Short H2A variants include H2A.B, H2A.L, H2A.P, H2A.Q, their genes are usually located on X chromosome and are intronless. These four clades of eutherian mammal short H2A variants emerged from a single, well-supported monophyletic clade, confirming their common ancestry [molaro_evolutionary_2018]. Due to shortened docking domain and changes within the acidic patch nucleosomes incorporating short H2As wrap less DNA (120-130 bp) and form loosely packed chromatin. There are few conserved residues in the histone fold domain of sH2As that distinguish them from each other, instead much of their specialization may stem from changes in the N- and C-terminal tails of these variatns [molaro_evolutionary_2018].  Abberant short H2A upregulation was reported in a broad range of cancers [chew_short_2021].\", \n",
    "    \"caveats\": \"H2A.B is also expressed in the brain [jiang_short_2020].\",\n",
    "}\n",
    "desc_dict"
   ]
  },
  {
   "cell_type": "code",
   "execution_count": 36,
   "id": "2ff80e5e-95e3-4296-8623-10bf8a2e2545",
   "metadata": {
    "tags": []
   },
   "outputs": [
    {
     "name": "stdout",
     "output_type": "stream",
     "text": [
      "UPDATE histone_description SET summary=\"short_H2A_(Eutheria) is a class encompassing several histone H2A variants in placental (eutherian) mammals with shortened C-terminus expressed mainly during mammalian male germ cell development before the nearly complete replacement of histones by protamines in sperm nuclei. The repertoires of short histone H2A variants vary extensively among eutherian mammals due to lineage-specific gains and losses. Short H2A variants include H2A.B, H2A.L, H2A.P, H2A.Q, their genes are usually located on X chromosome and are intronless. These four clades of eutherian mammal short H2A variants emerged from a single, well-supported monophyletic clade, confirming their common ancestry [molaro_evolutionary_2018]. Due to shortened docking domain and changes within the acidic patch nucleosomes incorporating short H2As wrap less DNA (120-130 bp) and form loosely packed chromatin. There are few conserved residues in the histone fold domain of sH2As that distinguish them from each other, instead much of their specialization may stem from changes in the N- and C-terminal tails of these variatns [molaro_evolutionary_2018].  Abberant short H2A upregulation was reported in a broad range of cancers [chew_short_2021].\", caveats=\"H2A.B is also expressed in the brain [jiang_short_2020].\" WHERE id = 31\n"
     ]
    }
   ],
   "source": [
    "desk_str = ', '.join([f'{k}=\"{v}\"' for k, v in desc_dict.items()])\n",
    "query = (\n",
    "    f\"UPDATE histone_description SET {desk_str} \"\n",
    "    \"WHERE id = 31\"\n",
    ")\n",
    "print(query)\n",
    "cursor.execute(query)"
   ]
  },
  {
   "cell_type": "code",
   "execution_count": 38,
   "id": "2af17d8a-19bd-46e5-9f63-db6cb142580e",
   "metadata": {
    "tags": []
   },
   "outputs": [
    {
     "data": {
      "text/html": [
       "<div>\n",
       "<style scoped>\n",
       "    .dataframe tbody tr th:only-of-type {\n",
       "        vertical-align: middle;\n",
       "    }\n",
       "\n",
       "    .dataframe tbody tr th {\n",
       "        vertical-align: top;\n",
       "    }\n",
       "\n",
       "    .dataframe thead th {\n",
       "        text-align: right;\n",
       "    }\n",
       "</style>\n",
       "<table border=\"1\" class=\"dataframe\">\n",
       "  <thead>\n",
       "    <tr style=\"text-align: right;\">\n",
       "      <th></th>\n",
       "      <th>id</th>\n",
       "      <th>level</th>\n",
       "      <th>taxonomic_span</th>\n",
       "      <th>taxonomic_span_id</th>\n",
       "      <th>description</th>\n",
       "      <th>parent</th>\n",
       "      <th>id</th>\n",
       "      <th>summary</th>\n",
       "      <th>taxonomy</th>\n",
       "      <th>genes</th>\n",
       "      <th>...</th>\n",
       "      <th>expression</th>\n",
       "      <th>knock_out</th>\n",
       "      <th>function</th>\n",
       "      <th>sequence</th>\n",
       "      <th>localization</th>\n",
       "      <th>deposition</th>\n",
       "      <th>structure</th>\n",
       "      <th>interactions</th>\n",
       "      <th>disease</th>\n",
       "      <th>caveats</th>\n",
       "    </tr>\n",
       "  </thead>\n",
       "  <tbody>\n",
       "    <tr>\n",
       "      <th>0</th>\n",
       "      <td>short_H2A_(Eutheria)</td>\n",
       "      <td>variant_group</td>\n",
       "      <td>Eutheria</td>\n",
       "      <td>9347</td>\n",
       "      <td>31</td>\n",
       "      <td>H2A</td>\n",
       "      <td>31</td>\n",
       "      <td>short_H2A_(Eutheria) is a class encompassing s...</td>\n",
       "      <td>null</td>\n",
       "      <td>null</td>\n",
       "      <td>...</td>\n",
       "      <td>null</td>\n",
       "      <td>null</td>\n",
       "      <td>null</td>\n",
       "      <td>null</td>\n",
       "      <td>null</td>\n",
       "      <td>null</td>\n",
       "      <td>null</td>\n",
       "      <td>null</td>\n",
       "      <td>null</td>\n",
       "      <td>H2A.B is also expressed in the brain [jiang_sh...</td>\n",
       "    </tr>\n",
       "  </tbody>\n",
       "</table>\n",
       "<p>1 rows × 21 columns</p>\n",
       "</div>"
      ],
      "text/plain": [
       "                     id          level taxonomic_span taxonomic_span_id  \\\n",
       "0  short_H2A_(Eutheria)  variant_group       Eutheria              9347   \n",
       "\n",
       "   description parent  id                                            summary  \\\n",
       "0           31    H2A  31  short_H2A_(Eutheria) is a class encompassing s...   \n",
       "\n",
       "  taxonomy genes  ... expression knock_out function sequence localization  \\\n",
       "0     null  null  ...       null      null     null     null         null   \n",
       "\n",
       "  deposition structure interactions disease  \\\n",
       "0       null      null         null    null   \n",
       "\n",
       "                                             caveats  \n",
       "0  H2A.B is also expressed in the brain [jiang_sh...  \n",
       "\n",
       "[1 rows x 21 columns]"
      ]
     },
     "execution_count": 38,
     "metadata": {},
     "output_type": "execute_result"
    }
   ],
   "source": [
    "query = (\n",
    "    \"SELECT * FROM histone h LEFT JOIN histone_description hd \"\n",
    "    \"ON h.description = hd.id \"\n",
    "    f\"WHERE h.id = '{new_name}' \"\n",
    ")\n",
    "cursor.execute(query)\n",
    "df = pd.DataFrame(cursor.fetchall(), columns=[i[0] for i in cursor.description])\n",
    "df"
   ]
  },
  {
   "cell_type": "code",
   "execution_count": 39,
   "id": "540e6000-346c-47de-93a2-f311156be10f",
   "metadata": {
    "tags": []
   },
   "outputs": [
    {
     "data": {
      "text/plain": [
       "'short_H2A_(Eutheria) is a class encompassing several histone H2A variants in placental (eutherian) mammals with shortened C-terminus expressed mainly during mammalian male germ cell development before the nearly complete replacement of histones by protamines in sperm nuclei. The repertoires of short histone H2A variants vary extensively among eutherian mammals due to lineage-specific gains and losses. Short H2A variants include H2A.B, H2A.L, H2A.P, H2A.Q, their genes are usually located on X chromosome and are intronless. These four clades of eutherian mammal short H2A variants emerged from a single, well-supported monophyletic clade, confirming their common ancestry [molaro_evolutionary_2018]. Due to shortened docking domain and changes within the acidic patch nucleosomes incorporating short H2As wrap less DNA (120-130 bp) and form loosely packed chromatin. There are few conserved residues in the histone fold domain of sH2As that distinguish them from each other, instead much of their specialization may stem from changes in the N- and C-terminal tails of these variatns [molaro_evolutionary_2018].  Abberant short H2A upregulation was reported in a broad range of cancers [chew_short_2021].'"
      ]
     },
     "execution_count": 39,
     "metadata": {},
     "output_type": "execute_result"
    }
   ],
   "source": [
    "df[\"summary\"].values[0]"
   ]
  },
  {
   "cell_type": "markdown",
   "id": "55411a31-17a5-43ec-8252-5d8a0a18dbdf",
   "metadata": {},
   "source": [
    "## Поменять поле description у H2A.B"
   ]
  },
  {
   "cell_type": "code",
   "execution_count": 78,
   "id": "661fcaf3-e648-4ea5-a4a0-d500741c73e4",
   "metadata": {
    "tags": []
   },
   "outputs": [],
   "source": [
    "ch_name = \"H2A.B\""
   ]
  },
  {
   "cell_type": "code",
   "execution_count": 41,
   "id": "fa21d66d-6e73-449e-8740-eb4c384b2e1a",
   "metadata": {
    "tags": []
   },
   "outputs": [
    {
     "data": {
      "text/html": [
       "<div>\n",
       "<style scoped>\n",
       "    .dataframe tbody tr th:only-of-type {\n",
       "        vertical-align: middle;\n",
       "    }\n",
       "\n",
       "    .dataframe tbody tr th {\n",
       "        vertical-align: top;\n",
       "    }\n",
       "\n",
       "    .dataframe thead th {\n",
       "        text-align: right;\n",
       "    }\n",
       "</style>\n",
       "<table border=\"1\" class=\"dataframe\">\n",
       "  <thead>\n",
       "    <tr style=\"text-align: right;\">\n",
       "      <th></th>\n",
       "      <th>id</th>\n",
       "      <th>level</th>\n",
       "      <th>taxonomic_span</th>\n",
       "      <th>taxonomic_span_id</th>\n",
       "      <th>description</th>\n",
       "      <th>parent</th>\n",
       "      <th>id</th>\n",
       "      <th>summary</th>\n",
       "      <th>taxonomy</th>\n",
       "      <th>genes</th>\n",
       "      <th>...</th>\n",
       "      <th>expression</th>\n",
       "      <th>knock_out</th>\n",
       "      <th>function</th>\n",
       "      <th>sequence</th>\n",
       "      <th>localization</th>\n",
       "      <th>deposition</th>\n",
       "      <th>structure</th>\n",
       "      <th>interactions</th>\n",
       "      <th>disease</th>\n",
       "      <th>caveats</th>\n",
       "    </tr>\n",
       "  </thead>\n",
       "  <tbody>\n",
       "    <tr>\n",
       "      <th>0</th>\n",
       "      <td>H2A.B</td>\n",
       "      <td>variant</td>\n",
       "      <td>Eutheria</td>\n",
       "      <td>9347</td>\n",
       "      <td>83</td>\n",
       "      <td>short_H2A_(Eutheria)</td>\n",
       "      <td>83</td>\n",
       "      <td>H2A.B, previously known as \"Barr body deficien...</td>\n",
       "      <td>null</td>\n",
       "      <td>null</td>\n",
       "      <td>...</td>\n",
       "      <td>null</td>\n",
       "      <td>null</td>\n",
       "      <td>null</td>\n",
       "      <td>null</td>\n",
       "      <td>null</td>\n",
       "      <td>null</td>\n",
       "      <td>null</td>\n",
       "      <td>null</td>\n",
       "      <td>null</td>\n",
       "      <td>null</td>\n",
       "    </tr>\n",
       "  </tbody>\n",
       "</table>\n",
       "<p>1 rows × 21 columns</p>\n",
       "</div>"
      ],
      "text/plain": [
       "      id    level taxonomic_span taxonomic_span_id  description  \\\n",
       "0  H2A.B  variant       Eutheria              9347           83   \n",
       "\n",
       "                 parent  id  \\\n",
       "0  short_H2A_(Eutheria)  83   \n",
       "\n",
       "                                             summary taxonomy genes  ...  \\\n",
       "0  H2A.B, previously known as \"Barr body deficien...     null  null  ...   \n",
       "\n",
       "  expression knock_out function sequence localization deposition structure  \\\n",
       "0       null      null     null     null         null       null      null   \n",
       "\n",
       "  interactions disease caveats  \n",
       "0         null    null    null  \n",
       "\n",
       "[1 rows x 21 columns]"
      ]
     },
     "execution_count": 41,
     "metadata": {},
     "output_type": "execute_result"
    }
   ],
   "source": [
    "query = (\n",
    "    \"SELECT * FROM histone h LEFT JOIN histone_description hd \"\n",
    "    \"ON h.description = hd.id \"\n",
    "    f\"WHERE h.id = '{ch_name}' \"\n",
    ")\n",
    "cursor.execute(query)\n",
    "df = pd.DataFrame(cursor.fetchall(), columns=[i[0] for i in cursor.description])\n",
    "df"
   ]
  },
  {
   "cell_type": "code",
   "execution_count": 80,
   "id": "b6ffadff-613e-4d99-8bec-53d080735878",
   "metadata": {
    "tags": []
   },
   "outputs": [
    {
     "data": {
      "text/plain": [
       "83"
      ]
     },
     "execution_count": 80,
     "metadata": {},
     "output_type": "execute_result"
    }
   ],
   "source": [
    "desc_id = df[\"description\"].values[0]\n",
    "desc_id"
   ]
  },
  {
   "cell_type": "code",
   "execution_count": null,
   "id": "2555ace6-7325-49f1-97f3-6ed9366f83d9",
   "metadata": {
    "tags": []
   },
   "outputs": [],
   "source": [
    "df[\"summary\"].values[0]"
   ]
  },
  {
   "cell_type": "code",
   "execution_count": 82,
   "id": "954c5267-613a-40d6-9ef4-985810e47f28",
   "metadata": {
    "tags": []
   },
   "outputs": [
    {
     "data": {
      "text/plain": [
       "{'summary': 'H2A.B_(Eutheria), previously known as \"Barr body deficient\" (H2A.Bbd) variant  is a short replication independent H2A variant found in eutherian mammals implicated in spermiogenesis, transcription regulation, splicing, DNA synthesis.',\n",
       " 'genes': 'Common ancestor of eutherian mammals encoded two or three H2A.B genes. Genes are usually located on X chromosome in three conserved locations (except in mouse, where H2A.B genes are located at other locations on X chromosome with unclear kinship to the ancestral genes that relocated to autosomes and decayed [molaro_evolutionary_2018]). Human and mouse have three genes encoding H2A.Bs [molaro_evolutionary_2018].',\n",
       " 'evolution': 'H2A.B is a rapildy evolving variant which is closely related to H2A.L, H2A.P, H2A.Q. It was suggested that H2A.B have been the subject to diversifying selection in simian primates, although mucj of the increased divergence of short histone H2A variants may be better explained by relaxed purifying selection [molaro_evolutionary_2018].',\n",
       " 'knock_out': 'H2A.B knock-out mice are viable, subfertile and display changes in splicing events [anuar_gene_2019].',\n",
       " 'sequence': 'round 50% identity with the canonical H2A, has truncated docking domain, divergent histone fold domain, altered acidic patch, arginine rich N-terminus [molaro_evolutionary_2018].',\n",
       " 'localization': 'H2A.B is expressed during mammalian male germ cell development and in the brain [molaro_evolutionary_2018,jiang_short_2020]. Originally, H2A.B  was characterized by its exclusion from the inactive X chromosome if overexpressed in female somatic cells [chadwick_novel_2001]. However, experiments in mouse testis revealed that H2A.B is in fact present on the inactive X chromosome  [soboleva_unique_2011]. Short H2A variants localize to sites of open chromatin and potentiate DNA synthesis, transcription, and splicing [molaro_evolutionary_2018]. This histone variant can bind to RNA directly in vitro and in vivo, and associates with mRNA at intron—exon boundaries [soboleva_new_2017]. Structural effects: H2A.B containing nucleosomes wrap less DNA (~120-130 bp instead of ~150 bp) [sugiyama_distinct_2014,doyen_dissection_2006], form loosely packed chromatin.',\n",
       " 'disease': 'H2A.B is upregulated in cancer as other short H2A variants [chew_short_2021].',\n",
       " 'caveats': 'Due to rapid evolution H2A.B function in different species may vary. For example, human H2A.B is retained during spermiogenesis, while is mouse it disappears and H2A.L is retained instead [molaro_evolutionary_2018]. Mouse H2A.B has additional negative residue in acidic patch, which is thought to increase its propensity to compact nucleosomal arrays relative to human H2A.B. H2A.B is also expressed in the brain [jiang_short_2020].'}"
      ]
     },
     "execution_count": 82,
     "metadata": {},
     "output_type": "execute_result"
    }
   ],
   "source": [
    "desc_dict = {\n",
    "    \"summary\": 'H2A.B_(Eutheria), previously known as \"Barr body deficient\" (H2A.Bbd) variant  is a short replication independent H2A variant found in eutherian mammals implicated in spermiogenesis, transcription regulation, splicing, DNA synthesis.',\n",
    "    \"genes\": \"Common ancestor of eutherian mammals encoded two or three H2A.B genes. Genes are usually located on X chromosome in three conserved locations (except in mouse, where H2A.B genes are located at other locations on X chromosome with unclear kinship to the ancestral genes that relocated to autosomes and decayed [molaro_evolutionary_2018]). Human and mouse have three genes encoding H2A.Bs [molaro_evolutionary_2018].\",\n",
    "    \"evolution\": \"H2A.B is a rapildy evolving variant which is closely related to H2A.L, H2A.P, H2A.Q. It was suggested that H2A.B have been the subject to diversifying selection in simian primates, although mucj of the increased divergence of short histone H2A variants may be better explained by relaxed purifying selection [molaro_evolutionary_2018].\",\n",
    "    \"knock_out\": \"H2A.B knock-out mice are viable, subfertile and display changes in splicing events [anuar_gene_2019].\",\n",
    "    \"sequence\": \"round 50% identity with the canonical H2A, has truncated docking domain, divergent histone fold domain, altered acidic patch, arginine rich N-terminus [molaro_evolutionary_2018].\",\n",
    "    \"localization\": \"H2A.B is expressed during mammalian male germ cell development and in the brain [molaro_evolutionary_2018,jiang_short_2020]. Originally, H2A.B  was characterized by its exclusion from the inactive X chromosome if overexpressed in female somatic cells [chadwick_novel_2001]. However, experiments in mouse testis revealed that H2A.B is in fact present on the inactive X chromosome  [soboleva_unique_2011]. Short H2A variants localize to sites of open chromatin and potentiate DNA synthesis, transcription, and splicing [molaro_evolutionary_2018]. This histone variant can bind to RNA directly in vitro and in vivo, and associates with mRNA at intron—exon boundaries [soboleva_new_2017]. Structural effects: H2A.B containing nucleosomes wrap less DNA (~120-130 bp instead of ~150 bp) [sugiyama_distinct_2014,doyen_dissection_2006], form loosely packed chromatin.\",\n",
    "    \"disease\": \"H2A.B is upregulated in cancer as other short H2A variants [chew_short_2021].\",\n",
    "    \"caveats\": \"Due to rapid evolution H2A.B function in different species may vary. For example, human H2A.B is retained during spermiogenesis, while is mouse it disappears and H2A.L is retained instead [molaro_evolutionary_2018]. Mouse H2A.B has additional negative residue in acidic patch, which is thought to increase its propensity to compact nucleosomal arrays relative to human H2A.B. H2A.B is also expressed in the brain [jiang_short_2020].\",\n",
    "}\n",
    "desc_dict"
   ]
  },
  {
   "cell_type": "code",
   "execution_count": 84,
   "id": "afdead3a-df08-448c-ad45-890186b1e94d",
   "metadata": {
    "tags": []
   },
   "outputs": [
    {
     "name": "stdout",
     "output_type": "stream",
     "text": [
      "UPDATE histone_description SET summary='H2A.B_(Eutheria), previously known as \"Barr body deficient\" (H2A.Bbd) variant  is a short replication independent H2A variant found in eutherian mammals implicated in spermiogenesis, transcription regulation, splicing, DNA synthesis.', genes='Common ancestor of eutherian mammals encoded two or three H2A.B genes. Genes are usually located on X chromosome in three conserved locations (except in mouse, where H2A.B genes are located at other locations on X chromosome with unclear kinship to the ancestral genes that relocated to autosomes and decayed [molaro_evolutionary_2018]). Human and mouse have three genes encoding H2A.Bs [molaro_evolutionary_2018].', evolution='H2A.B is a rapildy evolving variant which is closely related to H2A.L, H2A.P, H2A.Q. It was suggested that H2A.B have been the subject to diversifying selection in simian primates, although mucj of the increased divergence of short histone H2A variants may be better explained by relaxed purifying selection [molaro_evolutionary_2018].', knock_out='H2A.B knock-out mice are viable, subfertile and display changes in splicing events [anuar_gene_2019].', sequence='round 50% identity with the canonical H2A, has truncated docking domain, divergent histone fold domain, altered acidic patch, arginine rich N-terminus [molaro_evolutionary_2018].', localization='H2A.B is expressed during mammalian male germ cell development and in the brain [molaro_evolutionary_2018,jiang_short_2020]. Originally, H2A.B  was characterized by its exclusion from the inactive X chromosome if overexpressed in female somatic cells [chadwick_novel_2001]. However, experiments in mouse testis revealed that H2A.B is in fact present on the inactive X chromosome  [soboleva_unique_2011]. Short H2A variants localize to sites of open chromatin and potentiate DNA synthesis, transcription, and splicing [molaro_evolutionary_2018]. This histone variant can bind to RNA directly in vitro and in vivo, and associates with mRNA at intron—exon boundaries [soboleva_new_2017]. Structural effects: H2A.B containing nucleosomes wrap less DNA (~120-130 bp instead of ~150 bp) [sugiyama_distinct_2014,doyen_dissection_2006], form loosely packed chromatin.', disease='H2A.B is upregulated in cancer as other short H2A variants [chew_short_2021].', caveats='Due to rapid evolution H2A.B function in different species may vary. For example, human H2A.B is retained during spermiogenesis, while is mouse it disappears and H2A.L is retained instead [molaro_evolutionary_2018]. Mouse H2A.B has additional negative residue in acidic patch, which is thought to increase its propensity to compact nucleosomal arrays relative to human H2A.B. H2A.B is also expressed in the brain [jiang_short_2020].' WHERE id = 83\n"
     ]
    }
   ],
   "source": [
    "desk_str = ', '.join([f\"{k}='{v}'\" for k, v in desc_dict.items()])\n",
    "query = (\n",
    "    f\"UPDATE histone_description SET {desk_str} \"\n",
    "    f\"WHERE id = {desc_id}\"\n",
    ")\n",
    "print(query)\n",
    "cursor.execute(query)"
   ]
  },
  {
   "cell_type": "code",
   "execution_count": 85,
   "id": "7b1a5944-feea-4224-b2e9-9c7e980dcad6",
   "metadata": {
    "tags": []
   },
   "outputs": [
    {
     "data": {
      "text/html": [
       "<div>\n",
       "<style scoped>\n",
       "    .dataframe tbody tr th:only-of-type {\n",
       "        vertical-align: middle;\n",
       "    }\n",
       "\n",
       "    .dataframe tbody tr th {\n",
       "        vertical-align: top;\n",
       "    }\n",
       "\n",
       "    .dataframe thead th {\n",
       "        text-align: right;\n",
       "    }\n",
       "</style>\n",
       "<table border=\"1\" class=\"dataframe\">\n",
       "  <thead>\n",
       "    <tr style=\"text-align: right;\">\n",
       "      <th></th>\n",
       "      <th>id</th>\n",
       "      <th>level</th>\n",
       "      <th>taxonomic_span</th>\n",
       "      <th>taxonomic_span_id</th>\n",
       "      <th>description</th>\n",
       "      <th>parent</th>\n",
       "      <th>id</th>\n",
       "      <th>summary</th>\n",
       "      <th>taxonomy</th>\n",
       "      <th>genes</th>\n",
       "      <th>...</th>\n",
       "      <th>expression</th>\n",
       "      <th>knock_out</th>\n",
       "      <th>function</th>\n",
       "      <th>sequence</th>\n",
       "      <th>localization</th>\n",
       "      <th>deposition</th>\n",
       "      <th>structure</th>\n",
       "      <th>interactions</th>\n",
       "      <th>disease</th>\n",
       "      <th>caveats</th>\n",
       "    </tr>\n",
       "  </thead>\n",
       "  <tbody>\n",
       "    <tr>\n",
       "      <th>0</th>\n",
       "      <td>H2A.B</td>\n",
       "      <td>variant</td>\n",
       "      <td>Eutheria</td>\n",
       "      <td>9347</td>\n",
       "      <td>83</td>\n",
       "      <td>short_H2A_(Eutheria)</td>\n",
       "      <td>83</td>\n",
       "      <td>H2A.B_(Eutheria), previously known as \"Barr bo...</td>\n",
       "      <td>null</td>\n",
       "      <td>Common ancestor of eutherian mammals encoded t...</td>\n",
       "      <td>...</td>\n",
       "      <td>null</td>\n",
       "      <td>H2A.B knock-out mice are viable, subfertile an...</td>\n",
       "      <td>null</td>\n",
       "      <td>round 50% identity with the canonical H2A, has...</td>\n",
       "      <td>H2A.B is expressed during mammalian male germ ...</td>\n",
       "      <td>null</td>\n",
       "      <td>null</td>\n",
       "      <td>null</td>\n",
       "      <td>H2A.B is upregulated in cancer as other short ...</td>\n",
       "      <td>Due to rapid evolution H2A.B function in diffe...</td>\n",
       "    </tr>\n",
       "  </tbody>\n",
       "</table>\n",
       "<p>1 rows × 21 columns</p>\n",
       "</div>"
      ],
      "text/plain": [
       "      id    level taxonomic_span taxonomic_span_id  description  \\\n",
       "0  H2A.B  variant       Eutheria              9347           83   \n",
       "\n",
       "                 parent  id  \\\n",
       "0  short_H2A_(Eutheria)  83   \n",
       "\n",
       "                                             summary taxonomy  \\\n",
       "0  H2A.B_(Eutheria), previously known as \"Barr bo...     null   \n",
       "\n",
       "                                               genes  ... expression  \\\n",
       "0  Common ancestor of eutherian mammals encoded t...  ...       null   \n",
       "\n",
       "                                           knock_out function  \\\n",
       "0  H2A.B knock-out mice are viable, subfertile an...     null   \n",
       "\n",
       "                                            sequence  \\\n",
       "0  round 50% identity with the canonical H2A, has...   \n",
       "\n",
       "                                        localization deposition structure  \\\n",
       "0  H2A.B is expressed during mammalian male germ ...       null      null   \n",
       "\n",
       "  interactions                                            disease  \\\n",
       "0         null  H2A.B is upregulated in cancer as other short ...   \n",
       "\n",
       "                                             caveats  \n",
       "0  Due to rapid evolution H2A.B function in diffe...  \n",
       "\n",
       "[1 rows x 21 columns]"
      ]
     },
     "execution_count": 85,
     "metadata": {},
     "output_type": "execute_result"
    }
   ],
   "source": [
    "query = (\n",
    "    \"SELECT * FROM histone h LEFT JOIN histone_description hd \"\n",
    "    \"ON h.description = hd.id \"\n",
    "    f\"WHERE h.id = '{ch_name}' \"\n",
    ")\n",
    "cursor.execute(query)\n",
    "df = pd.DataFrame(cursor.fetchall(), columns=[i[0] for i in cursor.description])\n",
    "df"
   ]
  },
  {
   "cell_type": "code",
   "execution_count": 86,
   "id": "2e0d3069-004f-4846-a545-54062523abc1",
   "metadata": {
    "tags": []
   },
   "outputs": [
    {
     "data": {
      "text/plain": [
       "'H2A.B_(Eutheria), previously known as \"Barr body deficient\" (H2A.Bbd) variant  is a short replication independent H2A variant found in eutherian mammals implicated in spermiogenesis, transcription regulation, splicing, DNA synthesis.'"
      ]
     },
     "execution_count": 86,
     "metadata": {},
     "output_type": "execute_result"
    }
   ],
   "source": [
    "df[\"summary\"].values[0]"
   ]
  },
  {
   "cell_type": "code",
   "execution_count": 87,
   "id": "932c9a57-edf2-4ff8-876e-eb74014b902b",
   "metadata": {
    "tags": []
   },
   "outputs": [
    {
     "data": {
      "text/plain": [
       "'Due to rapid evolution H2A.B function in different species may vary. For example, human H2A.B is retained during spermiogenesis, while is mouse it disappears and H2A.L is retained instead [molaro_evolutionary_2018]. Mouse H2A.B has additional negative residue in acidic patch, which is thought to increase its propensity to compact nucleosomal arrays relative to human H2A.B. H2A.B is also expressed in the brain [jiang_short_2020].'"
      ]
     },
     "execution_count": 87,
     "metadata": {},
     "output_type": "execute_result"
    }
   ],
   "source": [
    "df[\"caveats\"].values[0]"
   ]
  },
  {
   "cell_type": "markdown",
   "id": "831ad191-468d-440b-b6b9-e431748c4f6a",
   "metadata": {},
   "source": [
    "## Поменять поле description у H2A.L"
   ]
  },
  {
   "cell_type": "code",
   "execution_count": 88,
   "id": "31559daa-40f7-4b29-8f38-62370488df7d",
   "metadata": {
    "tags": []
   },
   "outputs": [],
   "source": [
    "ch_name = \"H2A.L\""
   ]
  },
  {
   "cell_type": "code",
   "execution_count": 58,
   "id": "925225fc-847b-4938-b33a-851d54dfe655",
   "metadata": {
    "tags": []
   },
   "outputs": [
    {
     "data": {
      "text/html": [
       "<div>\n",
       "<style scoped>\n",
       "    .dataframe tbody tr th:only-of-type {\n",
       "        vertical-align: middle;\n",
       "    }\n",
       "\n",
       "    .dataframe tbody tr th {\n",
       "        vertical-align: top;\n",
       "    }\n",
       "\n",
       "    .dataframe thead th {\n",
       "        text-align: right;\n",
       "    }\n",
       "</style>\n",
       "<table border=\"1\" class=\"dataframe\">\n",
       "  <thead>\n",
       "    <tr style=\"text-align: right;\">\n",
       "      <th></th>\n",
       "      <th>id</th>\n",
       "      <th>level</th>\n",
       "      <th>taxonomic_span</th>\n",
       "      <th>taxonomic_span_id</th>\n",
       "      <th>description</th>\n",
       "      <th>parent</th>\n",
       "      <th>id</th>\n",
       "      <th>summary</th>\n",
       "      <th>taxonomy</th>\n",
       "      <th>genes</th>\n",
       "      <th>...</th>\n",
       "      <th>expression</th>\n",
       "      <th>knock_out</th>\n",
       "      <th>function</th>\n",
       "      <th>sequence</th>\n",
       "      <th>localization</th>\n",
       "      <th>deposition</th>\n",
       "      <th>structure</th>\n",
       "      <th>interactions</th>\n",
       "      <th>disease</th>\n",
       "      <th>caveats</th>\n",
       "    </tr>\n",
       "  </thead>\n",
       "  <tbody>\n",
       "    <tr>\n",
       "      <th>0</th>\n",
       "      <td>H2A.L</td>\n",
       "      <td>variant</td>\n",
       "      <td>Eutheria</td>\n",
       "      <td>9347</td>\n",
       "      <td>84</td>\n",
       "      <td>short_H2A_(Eutheria)</td>\n",
       "      <td>84</td>\n",
       "      <td>H2A.L - is a class of short H2A variants in eu...</td>\n",
       "      <td>null</td>\n",
       "      <td>null</td>\n",
       "      <td>...</td>\n",
       "      <td>null</td>\n",
       "      <td>null</td>\n",
       "      <td>null</td>\n",
       "      <td>null</td>\n",
       "      <td>null</td>\n",
       "      <td>null</td>\n",
       "      <td>null</td>\n",
       "      <td>null</td>\n",
       "      <td>null</td>\n",
       "      <td>null</td>\n",
       "    </tr>\n",
       "  </tbody>\n",
       "</table>\n",
       "<p>1 rows × 21 columns</p>\n",
       "</div>"
      ],
      "text/plain": [
       "      id    level taxonomic_span taxonomic_span_id  description  \\\n",
       "0  H2A.L  variant       Eutheria              9347           84   \n",
       "\n",
       "                 parent  id  \\\n",
       "0  short_H2A_(Eutheria)  84   \n",
       "\n",
       "                                             summary taxonomy genes  ...  \\\n",
       "0  H2A.L - is a class of short H2A variants in eu...     null  null  ...   \n",
       "\n",
       "  expression knock_out function sequence localization deposition structure  \\\n",
       "0       null      null     null     null         null       null      null   \n",
       "\n",
       "  interactions disease caveats  \n",
       "0         null    null    null  \n",
       "\n",
       "[1 rows x 21 columns]"
      ]
     },
     "execution_count": 58,
     "metadata": {},
     "output_type": "execute_result"
    }
   ],
   "source": [
    "query = (\n",
    "    \"SELECT * FROM histone h LEFT JOIN histone_description hd \"\n",
    "    \"ON h.description = hd.id \"\n",
    "    f\"WHERE h.id = '{ch_name}' \"\n",
    ")\n",
    "cursor.execute(query)\n",
    "df = pd.DataFrame(cursor.fetchall(), columns=[i[0] for i in cursor.description])\n",
    "df"
   ]
  },
  {
   "cell_type": "code",
   "execution_count": 90,
   "id": "d3d472b0-263c-47ba-969f-a49b70629004",
   "metadata": {
    "tags": []
   },
   "outputs": [
    {
     "data": {
      "text/plain": [
       "84"
      ]
     },
     "execution_count": 90,
     "metadata": {},
     "output_type": "execute_result"
    }
   ],
   "source": [
    "desc_id = df[\"description\"].values[0]\n",
    "desc_id"
   ]
  },
  {
   "cell_type": "code",
   "execution_count": 60,
   "id": "08e6355b-ed70-4757-8f42-c1773bd040e0",
   "metadata": {
    "tags": []
   },
   "outputs": [
    {
     "data": {
      "text/plain": [
       "\"H2A.L - is a class of short H2A variants in eutherian mammals implicated in spermatogenesis and replacement of histones with protamines. Genes: Сommon ancestor of eutherian mammals encoded three H2A.L genes. These genes are usually located on X chromosome at three locations (named H2A.L.1, H2A.L.2 and H2A.L.3 by Molaro et al.) [molaro_evolutionary_2018]. Humans have two putative genes (H2AL1Q, H2AL3, located at H2A.L.1 and H2A.L.3 loci, respectively) and H2AL1MP pseudogene (located at H2A.L.2 loci has inactivating mutation in all primates). The H2AL1Q and H2AL3 genes have unusually long extensions at their 3'-ends and have not so far been detected at protein level. Mouse genome has a leneage specific expansion of H2A.L genes, encoding a total of 18 genes (15 genes on X chromosome H2a1a-H2a1o and H2al3; two genes on Y-chromosome H2al2c and H2al2b; one gene on chromosome 2 H2al2a) and two pseudogenes [molaro_evolutionary_2018].  At H2A.L.1 locus mouse has a pseudogene H2al1q-ps. The most studied gene in mice is H2al2a. This gene was first identified in [govin_pericentric_2007] (NCBI protein id NP_080903) and was refered to as H2AL2 or H2A.L.2 histone in the following papers. However, this gene is not located at the H2A.L.2 locus (as defined by Molaro et al.) on X-chromosome, but it is rather located on chromosome 2. A synthenic location of H2A.L.2 locus in mouse is occupied by H2al1m gene [Seal et al. unpublished]. Previous names for mouse H2A.Ls include H2A.Lap2, H2A.Lap3, H2A.Lap4, H2AL1, H2AL2 [soboleva_unique_2011, govin_pericentric_2007]. H2AL1 has been used to reffer to H2al1a gene [govin_pericentric_2007]. Evolution: Molaro et al. found that short H2A variants show greater evolutionary divergence between species than even CENPA, the fastest-evolving histone variant examined to date [molaro_evolutionary_2018]. Evolutionary analysis of purifying selection suggested that H2A.L function may have been lost in Old World monkeys and hominoids but retained in New World monkeys [molaro_evolutionary_2018]. Knock-out: H2A.L.2 knock out mice are infertile because transition proteins can no longer associate with chromatin [barral_histone_2017]. Function: Required for the histone–protamine exchange process [barral_histone_2017]. Sequence: Sequence is divergent from cH2A. Identity with cH2A may be as low as 30%. H2A.L variants have a shortened C-termus, truncated docking domain, altered acidic patch, arginine rich N-terminus. Nucleosomes incorporating H2A.L warp less DNA and from more loosely packed chromatin [molaro_evolutionary_2018].  Localization: Accumulates in spermatid nuclei until the end of spermatogenesis and remains in mature sperm chromatin even after protamine exchange in mouse, eventually disappearing from the paternal pronucleus following fertilization [molaro_evolutionary_2018]. Involved in pericentric chromatin organization in spermatids, is retained after histone-to-protamine replacement [hoghoughi_rna-guided_2020]. H2A.L.2 is maximally expressed at later stages of spermatogenesis (condensing spermatids) when histones are bound by transition proteins and then replaced with protamines Structural effects: Interactions: H2A.L.2 preferentially dimerizes with H2B.1 (TH2B) at least in mice [govin_pericentric_2007]. Intranuclear localization of H2A.L.2 is controlled by its ability to bind RNA via its N-terminus [hoghoughi_rna-guided_2020]. Deposition: Likely mediated by interaction with RNA [hoghoughi_rna-guided_2020]. Disease: no information, since no H2A.L have been so far detect at protein level in humans. Caveats: there is some confusion in literature with respect to numbering H2A.L subvariants, especially in mouse (see caveats in description of mouse H2A.L variants).\""
      ]
     },
     "execution_count": 60,
     "metadata": {},
     "output_type": "execute_result"
    }
   ],
   "source": [
    "df[\"summary\"].values[0]"
   ]
  },
  {
   "cell_type": "code",
   "execution_count": 91,
   "id": "0cb87985-5e94-4210-868f-e708afb215d7",
   "metadata": {
    "tags": []
   },
   "outputs": [
    {
     "data": {
      "text/plain": [
       "{'summary': 'H2A.L_(Eutheria) - is a class of short H2A variants in eutherian mammals implicated in spermatogenesis and replacement of histones with protamines.',\n",
       " 'genes': \"Сommon ancestor of eutherian mammals encoded three H2A.L genes. These genes are usually located on X chromosome at three locations (named H2A.L.1, H2A.L.2 and H2A.L.3 by Molaro et al.) [molaro_evolutionary_2018]. Humans have two putative genes (H2AL1Q, H2AL3, located at H2A.L.1 and H2A.L.3 loci, respectively) and H2AL1MP pseudogene (located at H2A.L.2 loci has inactivating mutation in all primates). The H2AL1Q and H2AL3 genes have unusually long extensions at their 3'-ends and have not so far been detected at protein level. Mouse genome has a leneage specific expansion of H2A.L genes, encoding a total of 18 genes (15 genes on X chromosome H2a1a-H2a1o and H2al3; two genes on Y-chromosome H2al2c and H2al2b; one gene on chromosome 2 H2al2a) and two pseudogenes [molaro_evolutionary_2018].  At H2A.L.1 locus mouse has a pseudogene H2al1q-ps. The most studied gene in mice is H2al2a. This gene was first identified in [govin_pericentric_2007] (NCBI protein id NP_080903) and was refered to as H2AL2 or H2A.L.2 histone in the following papers. However, this gene is not located at the H2A.L.2 locus (as defined by Molaro et al.) on X-chromosome, but it is rather located on chromosome 2. A synthenic location of H2A.L.2 locus in mouse is occupied by H2al1m gene [Seal et al. unpublished]. Previous names for mouse H2A.Ls include H2A.Lap2, H2A.Lap3, H2A.Lap4, H2AL1, H2AL2 [soboleva_unique_2011, govin_pericentric_2007]. H2AL1 has been used to reffer to H2al1a gene [govin_pericentric_2007].\",\n",
       " 'evolution': 'Molaro et al. found that short H2A variants show greater evolutionary divergence between species than even CENPA, the fastest-evolving histone variant examined to date [molaro_evolutionary_2018]. Evolutionary analysis of purifying selection suggested that H2A.L function may have been lost in Old World monkeys and hominoids but retained in New World monkeys [molaro_evolutionary_2018].',\n",
       " 'knock_out': 'H2A.L.2 knock out mice are infertile because transition proteins can no longer associate with chromatin [barral_histone_2017].',\n",
       " 'function': 'Required for the histone–protamine exchange process [barral_histone_2017].',\n",
       " 'sequence': 'Sequence is divergent from cH2A. Identity with cH2A may be as low as 30%. H2A.L variants have a shortened C-termus, truncated docking domain, altered acidic patch, arginine rich N-terminus. Nucleosomes incorporating H2A.L warp less DNA and from more loosely packed chromatin [molaro_evolutionary_2018].',\n",
       " 'localization': 'Accumulates in spermatid nuclei until the end of spermatogenesis and remains in mature sperm chromatin even after protamine exchange in mouse, eventually disappearing from the paternal pronucleus following fertilization [molaro_evolutionary_2018]. Involved in pericentric chromatin organization in spermatids, is retained after histone-to-protamine replacement [hoghoughi_rna-guided_2020]. H2A.L.2 is maximally expressed at later stages of spermatogenesis (condensing spermatids) when histones are bound by transition proteins and then replaced with protamines.',\n",
       " 'deposition': 'Likely mediated by interaction with RNA [hoghoughi_rna-guided_2020].',\n",
       " 'interactions': 'H2A.L.2 preferentially dimerizes with H2B.1 (TH2B) at least in mice [govin_pericentric_2007]. Intranuclear localization of H2A.L.2 is controlled by its ability to bind RNA via its N-terminus [hoghoughi_rna-guided_2020].',\n",
       " 'disease': 'No information, since no H2A.L have been so far detect at protein level in humans.',\n",
       " 'caveats': 'There is some confusion in literature with respect to numbering H2A.L subvariants, especially in mouse (see caveats in description of mouse H2A.L variants).'}"
      ]
     },
     "execution_count": 91,
     "metadata": {},
     "output_type": "execute_result"
    }
   ],
   "source": [
    "desc_dict = {\n",
    "    \"summary\": \"H2A.L_(Eutheria) - is a class of short H2A variants in eutherian mammals implicated in spermatogenesis and replacement of histones with protamines.\",\n",
    "    \"genes\": \"Сommon ancestor of eutherian mammals encoded three H2A.L genes. These genes are usually located on X chromosome at three locations (named H2A.L.1, H2A.L.2 and H2A.L.3 by Molaro et al.) [molaro_evolutionary_2018]. Humans have two putative genes (H2AL1Q, H2AL3, located at H2A.L.1 and H2A.L.3 loci, respectively) and H2AL1MP pseudogene (located at H2A.L.2 loci has inactivating mutation in all primates). The H2AL1Q and H2AL3 genes have unusually long extensions at their 3'-ends and have not so far been detected at protein level. Mouse genome has a leneage specific expansion of H2A.L genes, encoding a total of 18 genes (15 genes on X chromosome H2a1a-H2a1o and H2al3; two genes on Y-chromosome H2al2c and H2al2b; one gene on chromosome 2 H2al2a) and two pseudogenes [molaro_evolutionary_2018].  At H2A.L.1 locus mouse has a pseudogene H2al1q-ps. The most studied gene in mice is H2al2a. This gene was first identified in [govin_pericentric_2007] (NCBI protein id NP_080903) and was refered to as H2AL2 or H2A.L.2 histone in the following papers. However, this gene is not located at the H2A.L.2 locus (as defined by Molaro et al.) on X-chromosome, but it is rather located on chromosome 2. A synthenic location of H2A.L.2 locus in mouse is occupied by H2al1m gene [Seal et al. unpublished]. Previous names for mouse H2A.Ls include H2A.Lap2, H2A.Lap3, H2A.Lap4, H2AL1, H2AL2 [soboleva_unique_2011, govin_pericentric_2007]. H2AL1 has been used to reffer to H2al1a gene [govin_pericentric_2007].\",\n",
    "    \"evolution\": \"Molaro et al. found that short H2A variants show greater evolutionary divergence between species than even CENPA, the fastest-evolving histone variant examined to date [molaro_evolutionary_2018]. Evolutionary analysis of purifying selection suggested that H2A.L function may have been lost in Old World monkeys and hominoids but retained in New World monkeys [molaro_evolutionary_2018].\",\n",
    "    \"knock_out\": \"H2A.L.2 knock out mice are infertile because transition proteins can no longer associate with chromatin [barral_histone_2017].\",\n",
    "    \"function\": \"Required for the histone–protamine exchange process [barral_histone_2017].\",\n",
    "    \"sequence\": \"Sequence is divergent from cH2A. Identity with cH2A may be as low as 30%. H2A.L variants have a shortened C-termus, truncated docking domain, altered acidic patch, arginine rich N-terminus. Nucleosomes incorporating H2A.L warp less DNA and from more loosely packed chromatin [molaro_evolutionary_2018].\",\n",
    "    \"localization\": \"Accumulates in spermatid nuclei until the end of spermatogenesis and remains in mature sperm chromatin even after protamine exchange in mouse, eventually disappearing from the paternal pronucleus following fertilization [molaro_evolutionary_2018]. Involved in pericentric chromatin organization in spermatids, is retained after histone-to-protamine replacement [hoghoughi_rna-guided_2020]. H2A.L.2 is maximally expressed at later stages of spermatogenesis (condensing spermatids) when histones are bound by transition proteins and then replaced with protamines.\",\n",
    "    \"deposition\": \"Likely mediated by interaction with RNA [hoghoughi_rna-guided_2020].\",\n",
    "    \"interactions\": \"H2A.L.2 preferentially dimerizes with H2B.1 (TH2B) at least in mice [govin_pericentric_2007]. Intranuclear localization of H2A.L.2 is controlled by its ability to bind RNA via its N-terminus [hoghoughi_rna-guided_2020].\",\n",
    "    \"disease\": \"No information, since no H2A.L have been so far detect at protein level in humans.\",\n",
    "    \"caveats\": \"There is some confusion in literature with respect to numbering H2A.L subvariants, especially in mouse (see caveats in description of mouse H2A.L variants).\",\n",
    "}\n",
    "desc_dict"
   ]
  },
  {
   "cell_type": "code",
   "execution_count": 93,
   "id": "19aa64e2-476c-401c-a891-358e270da90b",
   "metadata": {
    "tags": []
   },
   "outputs": [
    {
     "name": "stdout",
     "output_type": "stream",
     "text": [
      "UPDATE histone_description SET summary=\"H2A.L_(Eutheria) - is a class of short H2A variants in eutherian mammals implicated in spermatogenesis and replacement of histones with protamines.\", genes=\"Сommon ancestor of eutherian mammals encoded three H2A.L genes. These genes are usually located on X chromosome at three locations (named H2A.L.1, H2A.L.2 and H2A.L.3 by Molaro et al.) [molaro_evolutionary_2018]. Humans have two putative genes (H2AL1Q, H2AL3, located at H2A.L.1 and H2A.L.3 loci, respectively) and H2AL1MP pseudogene (located at H2A.L.2 loci has inactivating mutation in all primates). The H2AL1Q and H2AL3 genes have unusually long extensions at their 3'-ends and have not so far been detected at protein level. Mouse genome has a leneage specific expansion of H2A.L genes, encoding a total of 18 genes (15 genes on X chromosome H2a1a-H2a1o and H2al3; two genes on Y-chromosome H2al2c and H2al2b; one gene on chromosome 2 H2al2a) and two pseudogenes [molaro_evolutionary_2018].  At H2A.L.1 locus mouse has a pseudogene H2al1q-ps. The most studied gene in mice is H2al2a. This gene was first identified in [govin_pericentric_2007] (NCBI protein id NP_080903) and was refered to as H2AL2 or H2A.L.2 histone in the following papers. However, this gene is not located at the H2A.L.2 locus (as defined by Molaro et al.) on X-chromosome, but it is rather located on chromosome 2. A synthenic location of H2A.L.2 locus in mouse is occupied by H2al1m gene [Seal et al. unpublished]. Previous names for mouse H2A.Ls include H2A.Lap2, H2A.Lap3, H2A.Lap4, H2AL1, H2AL2 [soboleva_unique_2011, govin_pericentric_2007]. H2AL1 has been used to reffer to H2al1a gene [govin_pericentric_2007].\", evolution=\"Molaro et al. found that short H2A variants show greater evolutionary divergence between species than even CENPA, the fastest-evolving histone variant examined to date [molaro_evolutionary_2018]. Evolutionary analysis of purifying selection suggested that H2A.L function may have been lost in Old World monkeys and hominoids but retained in New World monkeys [molaro_evolutionary_2018].\", knock_out=\"H2A.L.2 knock out mice are infertile because transition proteins can no longer associate with chromatin [barral_histone_2017].\", function=\"Required for the histone–protamine exchange process [barral_histone_2017].\", sequence=\"Sequence is divergent from cH2A. Identity with cH2A may be as low as 30%. H2A.L variants have a shortened C-termus, truncated docking domain, altered acidic patch, arginine rich N-terminus. Nucleosomes incorporating H2A.L warp less DNA and from more loosely packed chromatin [molaro_evolutionary_2018].\", localization=\"Accumulates in spermatid nuclei until the end of spermatogenesis and remains in mature sperm chromatin even after protamine exchange in mouse, eventually disappearing from the paternal pronucleus following fertilization [molaro_evolutionary_2018]. Involved in pericentric chromatin organization in spermatids, is retained after histone-to-protamine replacement [hoghoughi_rna-guided_2020]. H2A.L.2 is maximally expressed at later stages of spermatogenesis (condensing spermatids) when histones are bound by transition proteins and then replaced with protamines.\", deposition=\"Likely mediated by interaction with RNA [hoghoughi_rna-guided_2020].\", interactions=\"H2A.L.2 preferentially dimerizes with H2B.1 (TH2B) at least in mice [govin_pericentric_2007]. Intranuclear localization of H2A.L.2 is controlled by its ability to bind RNA via its N-terminus [hoghoughi_rna-guided_2020].\", disease=\"No information, since no H2A.L have been so far detect at protein level in humans.\", caveats=\"There is some confusion in literature with respect to numbering H2A.L subvariants, especially in mouse (see caveats in description of mouse H2A.L variants).\" WHERE id = 84\n"
     ]
    }
   ],
   "source": [
    "desk_str = ', '.join([f'{k}=\"{v}\"' for k, v in desc_dict.items()])\n",
    "query = (\n",
    "    f\"UPDATE histone_description SET {desk_str} \"\n",
    "    f\"WHERE id = {desc_id}\"\n",
    ")\n",
    "print(query)\n",
    "cursor.execute(query)"
   ]
  },
  {
   "cell_type": "code",
   "execution_count": 94,
   "id": "98154afd-f661-434e-93bb-f73b2b08b2c8",
   "metadata": {
    "tags": []
   },
   "outputs": [
    {
     "data": {
      "text/html": [
       "<div>\n",
       "<style scoped>\n",
       "    .dataframe tbody tr th:only-of-type {\n",
       "        vertical-align: middle;\n",
       "    }\n",
       "\n",
       "    .dataframe tbody tr th {\n",
       "        vertical-align: top;\n",
       "    }\n",
       "\n",
       "    .dataframe thead th {\n",
       "        text-align: right;\n",
       "    }\n",
       "</style>\n",
       "<table border=\"1\" class=\"dataframe\">\n",
       "  <thead>\n",
       "    <tr style=\"text-align: right;\">\n",
       "      <th></th>\n",
       "      <th>id</th>\n",
       "      <th>level</th>\n",
       "      <th>taxonomic_span</th>\n",
       "      <th>taxonomic_span_id</th>\n",
       "      <th>description</th>\n",
       "      <th>parent</th>\n",
       "      <th>id</th>\n",
       "      <th>summary</th>\n",
       "      <th>taxonomy</th>\n",
       "      <th>genes</th>\n",
       "      <th>...</th>\n",
       "      <th>expression</th>\n",
       "      <th>knock_out</th>\n",
       "      <th>function</th>\n",
       "      <th>sequence</th>\n",
       "      <th>localization</th>\n",
       "      <th>deposition</th>\n",
       "      <th>structure</th>\n",
       "      <th>interactions</th>\n",
       "      <th>disease</th>\n",
       "      <th>caveats</th>\n",
       "    </tr>\n",
       "  </thead>\n",
       "  <tbody>\n",
       "    <tr>\n",
       "      <th>0</th>\n",
       "      <td>H2A.L</td>\n",
       "      <td>variant</td>\n",
       "      <td>Eutheria</td>\n",
       "      <td>9347</td>\n",
       "      <td>84</td>\n",
       "      <td>short_H2A_(Eutheria)</td>\n",
       "      <td>84</td>\n",
       "      <td>H2A.L_(Eutheria) - is a class of short H2A var...</td>\n",
       "      <td>null</td>\n",
       "      <td>Сommon ancestor of eutherian mammals encoded t...</td>\n",
       "      <td>...</td>\n",
       "      <td>null</td>\n",
       "      <td>H2A.L.2 knock out mice are infertile because t...</td>\n",
       "      <td>Required for the histone–protamine exchange pr...</td>\n",
       "      <td>Sequence is divergent from cH2A. Identity with...</td>\n",
       "      <td>Accumulates in spermatid nuclei until the end ...</td>\n",
       "      <td>Likely mediated by interaction with RNA [hogho...</td>\n",
       "      <td>null</td>\n",
       "      <td>H2A.L.2 preferentially dimerizes with H2B.1 (T...</td>\n",
       "      <td>No information, since no H2A.L have been so fa...</td>\n",
       "      <td>There is some confusion in literature with res...</td>\n",
       "    </tr>\n",
       "  </tbody>\n",
       "</table>\n",
       "<p>1 rows × 21 columns</p>\n",
       "</div>"
      ],
      "text/plain": [
       "      id    level taxonomic_span taxonomic_span_id  description  \\\n",
       "0  H2A.L  variant       Eutheria              9347           84   \n",
       "\n",
       "                 parent  id  \\\n",
       "0  short_H2A_(Eutheria)  84   \n",
       "\n",
       "                                             summary taxonomy  \\\n",
       "0  H2A.L_(Eutheria) - is a class of short H2A var...     null   \n",
       "\n",
       "                                               genes  ... expression  \\\n",
       "0  Сommon ancestor of eutherian mammals encoded t...  ...       null   \n",
       "\n",
       "                                           knock_out  \\\n",
       "0  H2A.L.2 knock out mice are infertile because t...   \n",
       "\n",
       "                                            function  \\\n",
       "0  Required for the histone–protamine exchange pr...   \n",
       "\n",
       "                                            sequence  \\\n",
       "0  Sequence is divergent from cH2A. Identity with...   \n",
       "\n",
       "                                        localization  \\\n",
       "0  Accumulates in spermatid nuclei until the end ...   \n",
       "\n",
       "                                          deposition structure  \\\n",
       "0  Likely mediated by interaction with RNA [hogho...      null   \n",
       "\n",
       "                                        interactions  \\\n",
       "0  H2A.L.2 preferentially dimerizes with H2B.1 (T...   \n",
       "\n",
       "                                             disease  \\\n",
       "0  No information, since no H2A.L have been so fa...   \n",
       "\n",
       "                                             caveats  \n",
       "0  There is some confusion in literature with res...  \n",
       "\n",
       "[1 rows x 21 columns]"
      ]
     },
     "execution_count": 94,
     "metadata": {},
     "output_type": "execute_result"
    }
   ],
   "source": [
    "query = (\n",
    "    \"SELECT * FROM histone h LEFT JOIN histone_description hd \"\n",
    "    \"ON h.description = hd.id \"\n",
    "    f\"WHERE h.id = '{ch_name}' \"\n",
    ")\n",
    "cursor.execute(query)\n",
    "df = pd.DataFrame(cursor.fetchall(), columns=[i[0] for i in cursor.description])\n",
    "df"
   ]
  },
  {
   "cell_type": "code",
   "execution_count": 95,
   "id": "e087dfeb-15f4-4e59-9730-82f0c6588d23",
   "metadata": {
    "tags": []
   },
   "outputs": [
    {
     "data": {
      "text/plain": [
       "'H2A.L_(Eutheria) - is a class of short H2A variants in eutherian mammals implicated in spermatogenesis and replacement of histones with protamines.'"
      ]
     },
     "execution_count": 95,
     "metadata": {},
     "output_type": "execute_result"
    }
   ],
   "source": [
    "df[\"summary\"].values[0]"
   ]
  },
  {
   "cell_type": "markdown",
   "id": "b214f077-a4fd-4a59-ae0b-76eee712e289",
   "metadata": {},
   "source": [
    "## Поменять поле description у H2A.P"
   ]
  },
  {
   "cell_type": "code",
   "execution_count": 96,
   "id": "68311f88-8367-48ab-a489-fc702ad5e76f",
   "metadata": {
    "tags": []
   },
   "outputs": [],
   "source": [
    "ch_name = \"H2A.P\""
   ]
  },
  {
   "cell_type": "code",
   "execution_count": 67,
   "id": "8c7e8513-cc0d-4c30-bced-3ba8cfe5c739",
   "metadata": {
    "tags": []
   },
   "outputs": [
    {
     "data": {
      "text/html": [
       "<div>\n",
       "<style scoped>\n",
       "    .dataframe tbody tr th:only-of-type {\n",
       "        vertical-align: middle;\n",
       "    }\n",
       "\n",
       "    .dataframe tbody tr th {\n",
       "        vertical-align: top;\n",
       "    }\n",
       "\n",
       "    .dataframe thead th {\n",
       "        text-align: right;\n",
       "    }\n",
       "</style>\n",
       "<table border=\"1\" class=\"dataframe\">\n",
       "  <thead>\n",
       "    <tr style=\"text-align: right;\">\n",
       "      <th></th>\n",
       "      <th>id</th>\n",
       "      <th>level</th>\n",
       "      <th>taxonomic_span</th>\n",
       "      <th>taxonomic_span_id</th>\n",
       "      <th>description</th>\n",
       "      <th>parent</th>\n",
       "      <th>id</th>\n",
       "      <th>summary</th>\n",
       "      <th>taxonomy</th>\n",
       "      <th>genes</th>\n",
       "      <th>...</th>\n",
       "      <th>expression</th>\n",
       "      <th>knock_out</th>\n",
       "      <th>function</th>\n",
       "      <th>sequence</th>\n",
       "      <th>localization</th>\n",
       "      <th>deposition</th>\n",
       "      <th>structure</th>\n",
       "      <th>interactions</th>\n",
       "      <th>disease</th>\n",
       "      <th>caveats</th>\n",
       "    </tr>\n",
       "  </thead>\n",
       "  <tbody>\n",
       "    <tr>\n",
       "      <th>0</th>\n",
       "      <td>H2A.P</td>\n",
       "      <td>variant</td>\n",
       "      <td>Eutheria</td>\n",
       "      <td>9347</td>\n",
       "      <td>85</td>\n",
       "      <td>short_H2A_(Eutheria)</td>\n",
       "      <td>85</td>\n",
       "      <td>H2A.P - is a class of testis-specific short H2...</td>\n",
       "      <td>null</td>\n",
       "      <td>null</td>\n",
       "      <td>...</td>\n",
       "      <td>null</td>\n",
       "      <td>null</td>\n",
       "      <td>null</td>\n",
       "      <td>null</td>\n",
       "      <td>null</td>\n",
       "      <td>null</td>\n",
       "      <td>null</td>\n",
       "      <td>null</td>\n",
       "      <td>null</td>\n",
       "      <td>null</td>\n",
       "    </tr>\n",
       "  </tbody>\n",
       "</table>\n",
       "<p>1 rows × 21 columns</p>\n",
       "</div>"
      ],
      "text/plain": [
       "      id    level taxonomic_span taxonomic_span_id  description  \\\n",
       "0  H2A.P  variant       Eutheria              9347           85   \n",
       "\n",
       "                 parent  id  \\\n",
       "0  short_H2A_(Eutheria)  85   \n",
       "\n",
       "                                             summary taxonomy genes  ...  \\\n",
       "0  H2A.P - is a class of testis-specific short H2...     null  null  ...   \n",
       "\n",
       "  expression knock_out function sequence localization deposition structure  \\\n",
       "0       null      null     null     null         null       null      null   \n",
       "\n",
       "  interactions disease caveats  \n",
       "0         null    null    null  \n",
       "\n",
       "[1 rows x 21 columns]"
      ]
     },
     "execution_count": 67,
     "metadata": {},
     "output_type": "execute_result"
    }
   ],
   "source": [
    "query = (\n",
    "    \"SELECT * FROM histone h LEFT JOIN histone_description hd \"\n",
    "    \"ON h.description = hd.id \"\n",
    "    f\"WHERE h.id = '{ch_name}' \"\n",
    ")\n",
    "cursor.execute(query)\n",
    "df = pd.DataFrame(cursor.fetchall(), columns=[i[0] for i in cursor.description])\n",
    "df"
   ]
  },
  {
   "cell_type": "code",
   "execution_count": 68,
   "id": "bb1de74d-eccf-40d9-aeb0-9dc5273a303e",
   "metadata": {
    "tags": []
   },
   "outputs": [
    {
     "data": {
      "text/plain": [
       "85"
      ]
     },
     "execution_count": 68,
     "metadata": {},
     "output_type": "execute_result"
    }
   ],
   "source": [
    "desc_id = df[\"description\"].values[0]\n",
    "desc_id"
   ]
  },
  {
   "cell_type": "code",
   "execution_count": 69,
   "id": "e2244f6a-83c7-4d0e-98ff-029ff3a8e56e",
   "metadata": {
    "tags": []
   },
   "outputs": [
    {
     "data": {
      "text/plain": [
       "\"H2A.P - is a class of testis-specific short H2A variants in eutherian mammals expressed at post-meiotic stages of spermatogensis. It is not well studied. Its expression in mouse has been shown only at mRNA level [el_kennani_ms_histonedb_2017], although evolutionary analysis strongly argues that it is a protein coding gene [molaro_evolutionary_2018]. In human H2A.P gene H2ap was previously named HYPM (Huntingtin-interacting protein M) since in yeast two-hybrid experiments it was shown to interact with huntingtin, which contains an expanded polyglutamine tract in individuals with Huntington's disease [faber_huntingtin_1998]. Genes: Сommon ancestor of eutherian mammals encoded a single H2A.P gene. These genes are usually located on X chromosome as do other short H2As [molaro_evolutionary_2018]. Humans and mouse have one gene name H2AP and H2ap, respectively. Evolution: Molaro et al. found that short H2A variants show greater evolutionary divergence between species than even CENPA, the fastest-evolving histone variant examined to date. Their results indicate that H2A.P and possible H2A.B have been subject to diversifying selection in simian primates, which could partly ecplame the greater divergence of short H2A histone variants compared to other H2A histones in mammals [molaro_evolutionary_2018]. Knock-out: no studies. Function: no specific studies have been reported, but by its similarity to H2A.L it is likely that it participates in the histone–protamine exchange process. Sequence: Has one of the most divergent sequences from cH2A. Identity with cH2A may be as low as 24%. H2A.P variants have a shortened C-termus, truncated docking domain, altered acidic patch, arginine rich N-terminus. H2A.P have lost two key conserved arginine (R) residues in Loop 1 and 2 that contact the DNA minor-groove and acquired many acidic residues at sites including contacts with DNA and H2B. The last 14 residues in H2A.P are more evolutionary contrained than the rest of the protein, suggesting their potential interaction with non-histone proteins. Localization: H2A.P presence has not been confirmed at protein level. H2A.P mRNA were found to be strongly enriched in round and elongating spermatids [govin_pericentric_2007], expressed in the post-meiotic stages of spermatogenesis [el_kennani_ms_histonedb_2017]. Structural effects: Nucleosomes incorporating H2A.P are predicted to be highly destabilized [molaro_evolutionary_2018]. Interactions: In yeast two-hybrid screens was shown to interact with huntingtin [faber_huntingtin_1998]. Disease: no information. Caveats: H2A.P in mice was previously name H2AL3 [govin_pericentric_2007] and H2A.Lap4 [soboleva_unique_2011].\""
      ]
     },
     "execution_count": 69,
     "metadata": {},
     "output_type": "execute_result"
    }
   ],
   "source": [
    "df[\"summary\"].values[0]"
   ]
  },
  {
   "cell_type": "code",
   "execution_count": 71,
   "id": "497d2a96-d74f-43fa-8dd2-b9462fc860b1",
   "metadata": {
    "tags": []
   },
   "outputs": [
    {
     "data": {
      "text/plain": [
       "{'summary': \"H2A.P_(Eutheria) - is a class of testis-specific short H2A variants in eutherian mammals expressed at post-meiotic stages of spermatogensis. It is not well studied. Its expression in mouse has been shown only at mRNA level [el_kennani_ms_histonedb_2017], although evolutionary analysis strongly argues that it is a protein coding gene [molaro_evolutionary_2018]. In human H2A.P gene H2ap was previously named HYPM (Huntingtin-interacting protein M) since in yeast two-hybrid experiments it was shown to interact with huntingtin, which contains an expanded polyglutamine tract in individuals with Huntington's disease [faber_huntingtin_1998].\",\n",
       " 'genes': 'Сommon ancestor of eutherian mammals encoded a single H2A.P gene. These genes are usually located on X chromosome as do other short H2As [molaro_evolutionary_2018]. Humans and mouse have one gene name H2AP and H2ap, respectively.',\n",
       " 'evolution': 'Molaro et al. found that short H2A variants show greater evolutionary divergence between species than even CENPA, the fastest-evolving histone variant examined to date. Their results indicate that H2A.P and possible H2A.B have been subject to diversifying selection in simian primates, which could partly ecplame the greater divergence of short H2A histone variants compared to other H2A histones in mammals [molaro_evolutionary_2018].',\n",
       " 'knock_out': 'No studies.',\n",
       " 'function': 'No specific studies have been reported, but by its similarity to H2A.L it is likely that it participates in the histone–protamine exchange process.',\n",
       " 'sequence': 'Has one of the most divergent sequences from cH2A. Identity with cH2A may be as low as 24%. H2A.P variants have a shortened C-termus, truncated docking domain, altered acidic patch, arginine rich N-terminus. H2A.P have lost two key conserved arginine (R) residues in Loop 1 and 2 that contact the DNA minor-groove and acquired many acidic residues at sites including contacts with DNA and H2B. The last 14 residues in H2A.P are more evolutionary contrained than the rest of the protein, suggesting their potential interaction with non-histone proteins.',\n",
       " 'localization': 'H2A.P presence has not been confirmed at protein level. H2A.P mRNA were found to be strongly enriched in round and elongating spermatids [govin_pericentric_2007], expressed in the post-meiotic stages of spermatogenesis [el_kennani_ms_histonedb_2017].',\n",
       " 'structure': 'Nucleosomes incorporating H2A.P are predicted to be highly destabilized [molaro_evolutionary_2018].',\n",
       " 'interactions': 'In yeast two-hybrid screens was shown to interact with huntingtin [faber_huntingtin_1998].',\n",
       " 'disease': 'No information.',\n",
       " 'caveats': 'H2A.P in mice was previously name H2AL3 [govin_pericentric_2007] and H2A.Lap4 [soboleva_unique_2011].'}"
      ]
     },
     "execution_count": 71,
     "metadata": {},
     "output_type": "execute_result"
    }
   ],
   "source": [
    "desc_dict = {\n",
    "    \"summary\": \"H2A.P_(Eutheria) - is a class of testis-specific short H2A variants in eutherian mammals expressed at post-meiotic stages of spermatogensis. It is not well studied. Its expression in mouse has been shown only at mRNA level [el_kennani_ms_histonedb_2017], although evolutionary analysis strongly argues that it is a protein coding gene [molaro_evolutionary_2018]. In human H2A.P gene H2ap was previously named HYPM (Huntingtin-interacting protein M) since in yeast two-hybrid experiments it was shown to interact with huntingtin, which contains an expanded polyglutamine tract in individuals with Huntington's disease [faber_huntingtin_1998].\",\n",
    "    \"genes\": \"Сommon ancestor of eutherian mammals encoded a single H2A.P gene. These genes are usually located on X chromosome as do other short H2As [molaro_evolutionary_2018]. Humans and mouse have one gene name H2AP and H2ap, respectively.\",\n",
    "    \"evolution\": \"Molaro et al. found that short H2A variants show greater evolutionary divergence between species than even CENPA, the fastest-evolving histone variant examined to date. Their results indicate that H2A.P and possible H2A.B have been subject to diversifying selection in simian primates, which could partly ecplame the greater divergence of short H2A histone variants compared to other H2A histones in mammals [molaro_evolutionary_2018].\",\n",
    "    \"knock_out\": \"No studies.\",\n",
    "    \"function\": \"No specific studies have been reported, but by its similarity to H2A.L it is likely that it participates in the histone–protamine exchange process.\",\n",
    "    \"sequence\": \"Has one of the most divergent sequences from cH2A. Identity with cH2A may be as low as 24%. H2A.P variants have a shortened C-termus, truncated docking domain, altered acidic patch, arginine rich N-terminus. H2A.P have lost two key conserved arginine (R) residues in Loop 1 and 2 that contact the DNA minor-groove and acquired many acidic residues at sites including contacts with DNA and H2B. The last 14 residues in H2A.P are more evolutionary contrained than the rest of the protein, suggesting their potential interaction with non-histone proteins.\",\n",
    "    \"localization\": \"H2A.P presence has not been confirmed at protein level. H2A.P mRNA were found to be strongly enriched in round and elongating spermatids [govin_pericentric_2007], expressed in the post-meiotic stages of spermatogenesis [el_kennani_ms_histonedb_2017].\",\n",
    "    \"structure\": \"Nucleosomes incorporating H2A.P are predicted to be highly destabilized [molaro_evolutionary_2018].\",\n",
    "    \"interactions\": \"In yeast two-hybrid screens was shown to interact with huntingtin [faber_huntingtin_1998].\",\n",
    "    \"disease\": \"No information.\",\n",
    "    \"caveats\": \"H2A.P in mice was previously name H2AL3 [govin_pericentric_2007] and H2A.Lap4 [soboleva_unique_2011].\",\n",
    "}\n",
    "desc_dict"
   ]
  },
  {
   "cell_type": "code",
   "execution_count": 73,
   "id": "34a1f84c-3fdb-4e7c-a76e-e6b15003db15",
   "metadata": {
    "tags": []
   },
   "outputs": [
    {
     "name": "stdout",
     "output_type": "stream",
     "text": [
      "UPDATE histone_description SET summary=\"H2A.P_(Eutheria) - is a class of testis-specific short H2A variants in eutherian mammals expressed at post-meiotic stages of spermatogensis. It is not well studied. Its expression in mouse has been shown only at mRNA level [el_kennani_ms_histonedb_2017], although evolutionary analysis strongly argues that it is a protein coding gene [molaro_evolutionary_2018]. In human H2A.P gene H2ap was previously named HYPM (Huntingtin-interacting protein M) since in yeast two-hybrid experiments it was shown to interact with huntingtin, which contains an expanded polyglutamine tract in individuals with Huntington's disease [faber_huntingtin_1998].\", genes=\"Сommon ancestor of eutherian mammals encoded a single H2A.P gene. These genes are usually located on X chromosome as do other short H2As [molaro_evolutionary_2018]. Humans and mouse have one gene name H2AP and H2ap, respectively.\", evolution=\"Molaro et al. found that short H2A variants show greater evolutionary divergence between species than even CENPA, the fastest-evolving histone variant examined to date. Their results indicate that H2A.P and possible H2A.B have been subject to diversifying selection in simian primates, which could partly ecplame the greater divergence of short H2A histone variants compared to other H2A histones in mammals [molaro_evolutionary_2018].\", knock_out=\"No studies.\", function=\"No specific studies have been reported, but by its similarity to H2A.L it is likely that it participates in the histone–protamine exchange process.\", sequence=\"Has one of the most divergent sequences from cH2A. Identity with cH2A may be as low as 24%. H2A.P variants have a shortened C-termus, truncated docking domain, altered acidic patch, arginine rich N-terminus. H2A.P have lost two key conserved arginine (R) residues in Loop 1 and 2 that contact the DNA minor-groove and acquired many acidic residues at sites including contacts with DNA and H2B. The last 14 residues in H2A.P are more evolutionary contrained than the rest of the protein, suggesting their potential interaction with non-histone proteins.\", localization=\"H2A.P presence has not been confirmed at protein level. H2A.P mRNA were found to be strongly enriched in round and elongating spermatids [govin_pericentric_2007], expressed in the post-meiotic stages of spermatogenesis [el_kennani_ms_histonedb_2017].\", structure=\"Nucleosomes incorporating H2A.P are predicted to be highly destabilized [molaro_evolutionary_2018].\", interactions=\"In yeast two-hybrid screens was shown to interact with huntingtin [faber_huntingtin_1998].\", disease=\"No information.\", caveats=\"H2A.P in mice was previously name H2AL3 [govin_pericentric_2007] and H2A.Lap4 [soboleva_unique_2011].\" WHERE id = 85\n"
     ]
    }
   ],
   "source": [
    "desk_str = ', '.join([f'{k}=\"{v}\"' for k, v in desc_dict.items()])\n",
    "query = (\n",
    "    f\"UPDATE histone_description SET {desk_str} \"\n",
    "    f\"WHERE id = {desc_id}\"\n",
    ")\n",
    "print(query)\n",
    "cursor.execute(query)"
   ]
  },
  {
   "cell_type": "code",
   "execution_count": 74,
   "id": "08858819-3d87-4795-9162-a971c998871e",
   "metadata": {
    "tags": []
   },
   "outputs": [
    {
     "data": {
      "text/html": [
       "<div>\n",
       "<style scoped>\n",
       "    .dataframe tbody tr th:only-of-type {\n",
       "        vertical-align: middle;\n",
       "    }\n",
       "\n",
       "    .dataframe tbody tr th {\n",
       "        vertical-align: top;\n",
       "    }\n",
       "\n",
       "    .dataframe thead th {\n",
       "        text-align: right;\n",
       "    }\n",
       "</style>\n",
       "<table border=\"1\" class=\"dataframe\">\n",
       "  <thead>\n",
       "    <tr style=\"text-align: right;\">\n",
       "      <th></th>\n",
       "      <th>id</th>\n",
       "      <th>level</th>\n",
       "      <th>taxonomic_span</th>\n",
       "      <th>taxonomic_span_id</th>\n",
       "      <th>description</th>\n",
       "      <th>parent</th>\n",
       "      <th>id</th>\n",
       "      <th>summary</th>\n",
       "      <th>taxonomy</th>\n",
       "      <th>genes</th>\n",
       "      <th>...</th>\n",
       "      <th>expression</th>\n",
       "      <th>knock_out</th>\n",
       "      <th>function</th>\n",
       "      <th>sequence</th>\n",
       "      <th>localization</th>\n",
       "      <th>deposition</th>\n",
       "      <th>structure</th>\n",
       "      <th>interactions</th>\n",
       "      <th>disease</th>\n",
       "      <th>caveats</th>\n",
       "    </tr>\n",
       "  </thead>\n",
       "  <tbody>\n",
       "    <tr>\n",
       "      <th>0</th>\n",
       "      <td>H2A.P</td>\n",
       "      <td>variant</td>\n",
       "      <td>Eutheria</td>\n",
       "      <td>9347</td>\n",
       "      <td>85</td>\n",
       "      <td>short_H2A_(Eutheria)</td>\n",
       "      <td>85</td>\n",
       "      <td>H2A.P_(Eutheria) - is a class of testis-specif...</td>\n",
       "      <td>null</td>\n",
       "      <td>Сommon ancestor of eutherian mammals encoded a...</td>\n",
       "      <td>...</td>\n",
       "      <td>null</td>\n",
       "      <td>No studies.</td>\n",
       "      <td>No specific studies have been reported, but by...</td>\n",
       "      <td>Has one of the most divergent sequences from c...</td>\n",
       "      <td>H2A.P presence has not been confirmed at prote...</td>\n",
       "      <td>null</td>\n",
       "      <td>Nucleosomes incorporating H2A.P are predicted ...</td>\n",
       "      <td>In yeast two-hybrid screens was shown to inter...</td>\n",
       "      <td>No information.</td>\n",
       "      <td>H2A.P in mice was previously name H2AL3 [govin...</td>\n",
       "    </tr>\n",
       "  </tbody>\n",
       "</table>\n",
       "<p>1 rows × 21 columns</p>\n",
       "</div>"
      ],
      "text/plain": [
       "      id    level taxonomic_span taxonomic_span_id  description  \\\n",
       "0  H2A.P  variant       Eutheria              9347           85   \n",
       "\n",
       "                 parent  id  \\\n",
       "0  short_H2A_(Eutheria)  85   \n",
       "\n",
       "                                             summary taxonomy  \\\n",
       "0  H2A.P_(Eutheria) - is a class of testis-specif...     null   \n",
       "\n",
       "                                               genes  ... expression  \\\n",
       "0  Сommon ancestor of eutherian mammals encoded a...  ...       null   \n",
       "\n",
       "     knock_out                                           function  \\\n",
       "0  No studies.  No specific studies have been reported, but by...   \n",
       "\n",
       "                                            sequence  \\\n",
       "0  Has one of the most divergent sequences from c...   \n",
       "\n",
       "                                        localization deposition  \\\n",
       "0  H2A.P presence has not been confirmed at prote...       null   \n",
       "\n",
       "                                           structure  \\\n",
       "0  Nucleosomes incorporating H2A.P are predicted ...   \n",
       "\n",
       "                                        interactions          disease  \\\n",
       "0  In yeast two-hybrid screens was shown to inter...  No information.   \n",
       "\n",
       "                                             caveats  \n",
       "0  H2A.P in mice was previously name H2AL3 [govin...  \n",
       "\n",
       "[1 rows x 21 columns]"
      ]
     },
     "execution_count": 74,
     "metadata": {},
     "output_type": "execute_result"
    }
   ],
   "source": [
    "query = (\n",
    "    \"SELECT * FROM histone h LEFT JOIN histone_description hd \"\n",
    "    \"ON h.description = hd.id \"\n",
    "    f\"WHERE h.id = '{ch_name}' \"\n",
    ")\n",
    "cursor.execute(query)\n",
    "df = pd.DataFrame(cursor.fetchall(), columns=[i[0] for i in cursor.description])\n",
    "df"
   ]
  },
  {
   "cell_type": "code",
   "execution_count": 75,
   "id": "283cfed6-9038-4651-a390-a38371bc51a3",
   "metadata": {
    "tags": []
   },
   "outputs": [
    {
     "data": {
      "text/plain": [
       "\"H2A.P_(Eutheria) - is a class of testis-specific short H2A variants in eutherian mammals expressed at post-meiotic stages of spermatogensis. It is not well studied. Its expression in mouse has been shown only at mRNA level [el_kennani_ms_histonedb_2017], although evolutionary analysis strongly argues that it is a protein coding gene [molaro_evolutionary_2018]. In human H2A.P gene H2ap was previously named HYPM (Huntingtin-interacting protein M) since in yeast two-hybrid experiments it was shown to interact with huntingtin, which contains an expanded polyglutamine tract in individuals with Huntington's disease [faber_huntingtin_1998].\""
      ]
     },
     "execution_count": 75,
     "metadata": {},
     "output_type": "execute_result"
    }
   ],
   "source": [
    "df[\"summary\"].values[0]"
   ]
  },
  {
   "cell_type": "markdown",
   "id": "99104d07-e7b7-401f-b525-948cf87bd415",
   "metadata": {},
   "source": [
    "## Поменять поле description у H2A.B_(Homo_sapiens)"
   ]
  },
  {
   "cell_type": "code",
   "execution_count": 97,
   "id": "31a694e2-a275-411e-a3a0-371e39d88a95",
   "metadata": {
    "tags": []
   },
   "outputs": [],
   "source": [
    "ch_name = \"H2A.B_(Homo_sapiens)\""
   ]
  },
  {
   "cell_type": "code",
   "execution_count": 98,
   "id": "9d3c118b-426a-4906-9a10-2f788559276f",
   "metadata": {
    "tags": []
   },
   "outputs": [
    {
     "data": {
      "text/html": [
       "<div>\n",
       "<style scoped>\n",
       "    .dataframe tbody tr th:only-of-type {\n",
       "        vertical-align: middle;\n",
       "    }\n",
       "\n",
       "    .dataframe tbody tr th {\n",
       "        vertical-align: top;\n",
       "    }\n",
       "\n",
       "    .dataframe thead th {\n",
       "        text-align: right;\n",
       "    }\n",
       "</style>\n",
       "<table border=\"1\" class=\"dataframe\">\n",
       "  <thead>\n",
       "    <tr style=\"text-align: right;\">\n",
       "      <th></th>\n",
       "      <th>id</th>\n",
       "      <th>level</th>\n",
       "      <th>taxonomic_span</th>\n",
       "      <th>taxonomic_span_id</th>\n",
       "      <th>description</th>\n",
       "      <th>parent</th>\n",
       "      <th>id</th>\n",
       "      <th>summary</th>\n",
       "      <th>taxonomy</th>\n",
       "      <th>genes</th>\n",
       "      <th>...</th>\n",
       "      <th>expression</th>\n",
       "      <th>knock_out</th>\n",
       "      <th>function</th>\n",
       "      <th>sequence</th>\n",
       "      <th>localization</th>\n",
       "      <th>deposition</th>\n",
       "      <th>structure</th>\n",
       "      <th>interactions</th>\n",
       "      <th>disease</th>\n",
       "      <th>caveats</th>\n",
       "    </tr>\n",
       "  </thead>\n",
       "  <tbody>\n",
       "    <tr>\n",
       "      <th>0</th>\n",
       "      <td>H2A.B_(Homo_sapiens)</td>\n",
       "      <td>variant</td>\n",
       "      <td>Homo sapiens</td>\n",
       "      <td>9606</td>\n",
       "      <td>119</td>\n",
       "      <td>H2A.B</td>\n",
       "      <td>119</td>\n",
       "      <td>H2A.B_(Homo_sapiens), previously known as \"Bar...</td>\n",
       "      <td>null</td>\n",
       "      <td>null</td>\n",
       "      <td>...</td>\n",
       "      <td>null</td>\n",
       "      <td>null</td>\n",
       "      <td>null</td>\n",
       "      <td>null</td>\n",
       "      <td>null</td>\n",
       "      <td>null</td>\n",
       "      <td>null</td>\n",
       "      <td>null</td>\n",
       "      <td>null</td>\n",
       "      <td>null</td>\n",
       "    </tr>\n",
       "  </tbody>\n",
       "</table>\n",
       "<p>1 rows × 21 columns</p>\n",
       "</div>"
      ],
      "text/plain": [
       "                     id    level taxonomic_span taxonomic_span_id  \\\n",
       "0  H2A.B_(Homo_sapiens)  variant   Homo sapiens              9606   \n",
       "\n",
       "   description parent   id                                            summary  \\\n",
       "0          119  H2A.B  119  H2A.B_(Homo_sapiens), previously known as \"Bar...   \n",
       "\n",
       "  taxonomy genes  ... expression knock_out function sequence localization  \\\n",
       "0     null  null  ...       null      null     null     null         null   \n",
       "\n",
       "  deposition structure interactions disease caveats  \n",
       "0       null      null         null    null    null  \n",
       "\n",
       "[1 rows x 21 columns]"
      ]
     },
     "execution_count": 98,
     "metadata": {},
     "output_type": "execute_result"
    }
   ],
   "source": [
    "query = (\n",
    "    \"SELECT * FROM histone h LEFT JOIN histone_description hd \"\n",
    "    \"ON h.description = hd.id \"\n",
    "    f\"WHERE h.id = '{ch_name}' \"\n",
    ")\n",
    "cursor.execute(query)\n",
    "df = pd.DataFrame(cursor.fetchall(), columns=[i[0] for i in cursor.description])\n",
    "df"
   ]
  },
  {
   "cell_type": "code",
   "execution_count": 99,
   "id": "51a5de7b-aebc-4806-b436-972535222a5a",
   "metadata": {
    "tags": []
   },
   "outputs": [
    {
     "data": {
      "text/plain": [
       "119"
      ]
     },
     "execution_count": 99,
     "metadata": {},
     "output_type": "execute_result"
    }
   ],
   "source": [
    "desc_id = df[\"description\"].values[0]\n",
    "desc_id"
   ]
  },
  {
   "cell_type": "code",
   "execution_count": 100,
   "id": "75bdca99-2147-4f5b-87bb-85add6607b7e",
   "metadata": {
    "tags": []
   },
   "outputs": [
    {
     "data": {
      "text/plain": [
       "'H2A.B_(Homo_sapiens), previously known as \"Barr body deficient\" (H2A.Bbd) variant  is a group of short replication independent H2A variants in humans encoded by H2AB1, H2AB2 and H2AB3 genes. They are involved in spermiogenesis, transcription regulation, splicing, DNA synthesis. Genes: In human H2A.B is encoded by H2AB1, H2AB2 and H2AB3 genes. Genes are intronless. H2AB2 and H2AB3 encode identical proteins. H2AB1 protein which differes by ??one?? amino acid. Genes are located on X chromosome. Evolution: H2A.B is a rapildy evolving variant which is closely related to H2A.L, H2A.P, H2A.Q [molaro_evolutionary_2018]. Common ancestor of eutherian mammals encoded two or three H2A.B genes. Knock-out: H2A.B knock-out mice are viable, subfertile and display changes in splicing events [anuar_gene_2019]. Sequence: Around 50% identity with the canonical H2A, has truncated docking domain, divergent histone fold domain, altered acidic patch, arginine rich N-terminus [molaro_evolutionary_2018]. Localization: H2A.B is expressed during mammalian male germ cell development and in the brain [molaro_evolutionary_2018,jiang_short_2020]. Originally, H2A.B  was characterized by its exclusion from the inactive X chromosome if overexpressed in female somatic cells [chadwick_novel_2001]. However, experiments in mouse testis revealed that H2A.B is in fact present on the inactive X chromosome  [soboleva_unique_2011]. Short H2A variants localize to sites of open chromatin and potentiate DNA synthesis, transcription, and splicing [molaro_evolutionary_2018]. In mouse this histone variant was shown to bind to RNA directly in vitro and in vivo, and associate with mRNA at intron—exon boundaries [soboleva_new_2017]. Structural effects: H2A.B containing nucleosomes wrap less DNA (~120-130 bp instead of ~150 bp) [sugiyama_distinct_2014,doyen_dissection_2006], form loosely packed chromatin. Interactions: RNA processing factors, proteins involved in the piRNA pathway [jiang_short_2020]  Deposition: It was suggested that H2A.B is incorporated into DNA sites that are transiently exposed, for instance, during DNA replication [jiang_short_2020]. H2A.B-H2A dimers in nucleosomes can spontaneously be replaced by H2A-H2B dimers [hirano_histone_2021]. Disease: H2A.B is upregulated in cancer as other short H2A variants [chew_short_2021]. Caveats: Due to rapid evolution H2A.B function in different species may vary. For example, human H2A.B is retained during spermiogenesis, while is mouse it disappears and H2A.L is retained instead [molaro_evolutionary_2018]. Mouse H2A.B has additional negative residue in acidic patch, which is thought to increase its propensity to compact nucleosomal arrays relative to human H2A.B.'"
      ]
     },
     "execution_count": 100,
     "metadata": {},
     "output_type": "execute_result"
    }
   ],
   "source": [
    "df[\"summary\"].values[0]"
   ]
  },
  {
   "cell_type": "code",
   "execution_count": 101,
   "id": "8b1867aa-4ab8-4359-8e5a-184a1ae68a1c",
   "metadata": {
    "tags": []
   },
   "outputs": [
    {
     "data": {
      "text/plain": [
       "{'summary': 'H2A.B_(Homo_sapiens), previously known as \"Barr body deficient\" (H2A.Bbd) variant  is a group of short replication independent H2A variants in humans encoded by H2AB1, H2AB2 and H2AB3 genes. They are involved in spermiogenesis, transcription regulation, splicing, DNA synthesis.',\n",
       " 'genes': 'In human H2A.B is encoded by H2AB1, H2AB2 and H2AB3 genes. Genes are intronless. H2AB2 and H2AB3 encode identical proteins. H2AB1 protein which differes by ??one?? amino acid. Genes are located on X chromosome.',\n",
       " 'evolution': 'H2A.B is a rapildy evolving variant which is closely related to H2A.L, H2A.P, H2A.Q [molaro_evolutionary_2018]. Common ancestor of eutherian mammals encoded two or three H2A.B genes.',\n",
       " 'knock_out': 'H2A.B knock-out mice are viable, subfertile and display changes in splicing events [anuar_gene_2019].',\n",
       " 'sequence': 'Around 50% identity with the canonical H2A, has truncated docking domain, divergent histone fold domain, altered acidic patch, arginine rich N-terminus [molaro_evolutionary_2018].',\n",
       " 'localization': 'H2A.B is expressed during mammalian male germ cell development and in the brain [molaro_evolutionary_2018,jiang_short_2020]. Originally, H2A.B  was characterized by its exclusion from the inactive X chromosome if overexpressed in female somatic cells [chadwick_novel_2001]. However, experiments in mouse testis revealed that H2A.B is in fact present on the inactive X chromosome  [soboleva_unique_2011]. Short H2A variants localize to sites of open chromatin and potentiate DNA synthesis, transcription, and splicing [molaro_evolutionary_2018]. In mouse this histone variant was shown to bind to RNA directly in vitro and in vivo, and associate with mRNA at intron—exon boundaries [soboleva_new_2017].',\n",
       " 'deposition': 'It was suggested that H2A.B is incorporated into DNA sites that are transiently exposed, for instance, during DNA replication [jiang_short_2020]. H2A.B-H2A dimers in nucleosomes can spontaneously be replaced by H2A-H2B dimers [hirano_histone_2021].',\n",
       " 'structure': 'H2A.B containing nucleosomes wrap less DNA (~120-130 bp instead of ~150 bp) [sugiyama_distinct_2014,doyen_dissection_2006], form loosely packed chromatin.',\n",
       " 'interactions': 'RNA processing factors, proteins involved in the piRNA pathway [jiang_short_2020].',\n",
       " 'disease': 'H2A.B is upregulated in cancer as other short H2A variants [chew_short_2021].',\n",
       " 'caveats': 'Due to rapid evolution H2A.B function in different species may vary. For example, human H2A.B is retained during spermiogenesis, while is mouse it disappears and H2A.L is retained instead [molaro_evolutionary_2018]. Mouse H2A.B has additional negative residue in acidic patch, which is thought to increase its propensity to compact nucleosomal arrays relative to human H2A.B.'}"
      ]
     },
     "execution_count": 101,
     "metadata": {},
     "output_type": "execute_result"
    }
   ],
   "source": [
    "desc_dict = {\n",
    "    \"summary\": 'H2A.B_(Homo_sapiens), previously known as \"Barr body deficient\" (H2A.Bbd) variant  is a group of short replication independent H2A variants in humans encoded by H2AB1, H2AB2 and H2AB3 genes. They are involved in spermiogenesis, transcription regulation, splicing, DNA synthesis.',\n",
    "    \"genes\": \"In human H2A.B is encoded by H2AB1, H2AB2 and H2AB3 genes. Genes are intronless. H2AB2 and H2AB3 encode identical proteins. H2AB1 protein which differes by ??one?? amino acid. Genes are located on X chromosome.\",\n",
    "    \"evolution\": \"H2A.B is a rapildy evolving variant which is closely related to H2A.L, H2A.P, H2A.Q [molaro_evolutionary_2018]. Common ancestor of eutherian mammals encoded two or three H2A.B genes.\",\n",
    "    \"knock_out\": \"H2A.B knock-out mice are viable, subfertile and display changes in splicing events [anuar_gene_2019].\",\n",
    "    \"sequence\": \"Around 50% identity with the canonical H2A, has truncated docking domain, divergent histone fold domain, altered acidic patch, arginine rich N-terminus [molaro_evolutionary_2018].\",\n",
    "    \"localization\": \"H2A.B is expressed during mammalian male germ cell development and in the brain [molaro_evolutionary_2018,jiang_short_2020]. Originally, H2A.B  was characterized by its exclusion from the inactive X chromosome if overexpressed in female somatic cells [chadwick_novel_2001]. However, experiments in mouse testis revealed that H2A.B is in fact present on the inactive X chromosome  [soboleva_unique_2011]. Short H2A variants localize to sites of open chromatin and potentiate DNA synthesis, transcription, and splicing [molaro_evolutionary_2018]. In mouse this histone variant was shown to bind to RNA directly in vitro and in vivo, and associate with mRNA at intron—exon boundaries [soboleva_new_2017].\",\n",
    "    \"deposition\": \"It was suggested that H2A.B is incorporated into DNA sites that are transiently exposed, for instance, during DNA replication [jiang_short_2020]. H2A.B-H2A dimers in nucleosomes can spontaneously be replaced by H2A-H2B dimers [hirano_histone_2021].\",\n",
    "    \"structure\": \"H2A.B containing nucleosomes wrap less DNA (~120-130 bp instead of ~150 bp) [sugiyama_distinct_2014,doyen_dissection_2006], form loosely packed chromatin.\",\n",
    "    \"interactions\": \"RNA processing factors, proteins involved in the piRNA pathway [jiang_short_2020].\",\n",
    "    \"disease\": \"H2A.B is upregulated in cancer as other short H2A variants [chew_short_2021].\",\n",
    "    \"caveats\": \"Due to rapid evolution H2A.B function in different species may vary. For example, human H2A.B is retained during spermiogenesis, while is mouse it disappears and H2A.L is retained instead [molaro_evolutionary_2018]. Mouse H2A.B has additional negative residue in acidic patch, which is thought to increase its propensity to compact nucleosomal arrays relative to human H2A.B.\",\n",
    "}\n",
    "desc_dict"
   ]
  },
  {
   "cell_type": "code",
   "execution_count": 104,
   "id": "2bae53b9-f12a-495b-8f44-4d18a1100922",
   "metadata": {
    "tags": []
   },
   "outputs": [
    {
     "name": "stdout",
     "output_type": "stream",
     "text": [
      "UPDATE histone_description SET summary='H2A.B_(Homo_sapiens), previously known as \"Barr body deficient\" (H2A.Bbd) variant  is a group of short replication independent H2A variants in humans encoded by H2AB1, H2AB2 and H2AB3 genes. They are involved in spermiogenesis, transcription regulation, splicing, DNA synthesis.', genes='In human H2A.B is encoded by H2AB1, H2AB2 and H2AB3 genes. Genes are intronless. H2AB2 and H2AB3 encode identical proteins. H2AB1 protein which differes by ??one?? amino acid. Genes are located on X chromosome.', evolution='H2A.B is a rapildy evolving variant which is closely related to H2A.L, H2A.P, H2A.Q [molaro_evolutionary_2018]. Common ancestor of eutherian mammals encoded two or three H2A.B genes.', knock_out='H2A.B knock-out mice are viable, subfertile and display changes in splicing events [anuar_gene_2019].', sequence='Around 50% identity with the canonical H2A, has truncated docking domain, divergent histone fold domain, altered acidic patch, arginine rich N-terminus [molaro_evolutionary_2018].', localization='H2A.B is expressed during mammalian male germ cell development and in the brain [molaro_evolutionary_2018,jiang_short_2020]. Originally, H2A.B  was characterized by its exclusion from the inactive X chromosome if overexpressed in female somatic cells [chadwick_novel_2001]. However, experiments in mouse testis revealed that H2A.B is in fact present on the inactive X chromosome  [soboleva_unique_2011]. Short H2A variants localize to sites of open chromatin and potentiate DNA synthesis, transcription, and splicing [molaro_evolutionary_2018]. In mouse this histone variant was shown to bind to RNA directly in vitro and in vivo, and associate with mRNA at intron—exon boundaries [soboleva_new_2017].', deposition='It was suggested that H2A.B is incorporated into DNA sites that are transiently exposed, for instance, during DNA replication [jiang_short_2020]. H2A.B-H2A dimers in nucleosomes can spontaneously be replaced by H2A-H2B dimers [hirano_histone_2021].', structure='H2A.B containing nucleosomes wrap less DNA (~120-130 bp instead of ~150 bp) [sugiyama_distinct_2014,doyen_dissection_2006], form loosely packed chromatin.', interactions='RNA processing factors, proteins involved in the piRNA pathway [jiang_short_2020].', disease='H2A.B is upregulated in cancer as other short H2A variants [chew_short_2021].', caveats='Due to rapid evolution H2A.B function in different species may vary. For example, human H2A.B is retained during spermiogenesis, while is mouse it disappears and H2A.L is retained instead [molaro_evolutionary_2018]. Mouse H2A.B has additional negative residue in acidic patch, which is thought to increase its propensity to compact nucleosomal arrays relative to human H2A.B.' WHERE id = 119\n"
     ]
    }
   ],
   "source": [
    "desk_str = ', '.join([f\"{k}='{v}'\" for k, v in desc_dict.items()])\n",
    "query = (\n",
    "    f\"UPDATE histone_description SET {desk_str} \"\n",
    "    f\"WHERE id = {desc_id}\"\n",
    ")\n",
    "print(query)\n",
    "cursor.execute(query)"
   ]
  },
  {
   "cell_type": "code",
   "execution_count": 105,
   "id": "150549fa-3aa3-4715-9540-4f65fba96634",
   "metadata": {
    "tags": []
   },
   "outputs": [
    {
     "data": {
      "text/html": [
       "<div>\n",
       "<style scoped>\n",
       "    .dataframe tbody tr th:only-of-type {\n",
       "        vertical-align: middle;\n",
       "    }\n",
       "\n",
       "    .dataframe tbody tr th {\n",
       "        vertical-align: top;\n",
       "    }\n",
       "\n",
       "    .dataframe thead th {\n",
       "        text-align: right;\n",
       "    }\n",
       "</style>\n",
       "<table border=\"1\" class=\"dataframe\">\n",
       "  <thead>\n",
       "    <tr style=\"text-align: right;\">\n",
       "      <th></th>\n",
       "      <th>id</th>\n",
       "      <th>level</th>\n",
       "      <th>taxonomic_span</th>\n",
       "      <th>taxonomic_span_id</th>\n",
       "      <th>description</th>\n",
       "      <th>parent</th>\n",
       "      <th>id</th>\n",
       "      <th>summary</th>\n",
       "      <th>taxonomy</th>\n",
       "      <th>genes</th>\n",
       "      <th>...</th>\n",
       "      <th>expression</th>\n",
       "      <th>knock_out</th>\n",
       "      <th>function</th>\n",
       "      <th>sequence</th>\n",
       "      <th>localization</th>\n",
       "      <th>deposition</th>\n",
       "      <th>structure</th>\n",
       "      <th>interactions</th>\n",
       "      <th>disease</th>\n",
       "      <th>caveats</th>\n",
       "    </tr>\n",
       "  </thead>\n",
       "  <tbody>\n",
       "    <tr>\n",
       "      <th>0</th>\n",
       "      <td>H2A.B_(Homo_sapiens)</td>\n",
       "      <td>variant</td>\n",
       "      <td>Homo sapiens</td>\n",
       "      <td>9606</td>\n",
       "      <td>119</td>\n",
       "      <td>H2A.B</td>\n",
       "      <td>119</td>\n",
       "      <td>H2A.B_(Homo_sapiens), previously known as \"Bar...</td>\n",
       "      <td>null</td>\n",
       "      <td>In human H2A.B is encoded by H2AB1, H2AB2 and ...</td>\n",
       "      <td>...</td>\n",
       "      <td>null</td>\n",
       "      <td>H2A.B knock-out mice are viable, subfertile an...</td>\n",
       "      <td>null</td>\n",
       "      <td>Around 50% identity with the canonical H2A, ha...</td>\n",
       "      <td>H2A.B is expressed during mammalian male germ ...</td>\n",
       "      <td>It was suggested that H2A.B is incorporated in...</td>\n",
       "      <td>H2A.B containing nucleosomes wrap less DNA (~1...</td>\n",
       "      <td>RNA processing factors, proteins involved in t...</td>\n",
       "      <td>H2A.B is upregulated in cancer as other short ...</td>\n",
       "      <td>Due to rapid evolution H2A.B function in diffe...</td>\n",
       "    </tr>\n",
       "  </tbody>\n",
       "</table>\n",
       "<p>1 rows × 21 columns</p>\n",
       "</div>"
      ],
      "text/plain": [
       "                     id    level taxonomic_span taxonomic_span_id  \\\n",
       "0  H2A.B_(Homo_sapiens)  variant   Homo sapiens              9606   \n",
       "\n",
       "   description parent   id                                            summary  \\\n",
       "0          119  H2A.B  119  H2A.B_(Homo_sapiens), previously known as \"Bar...   \n",
       "\n",
       "  taxonomy                                              genes  ... expression  \\\n",
       "0     null  In human H2A.B is encoded by H2AB1, H2AB2 and ...  ...       null   \n",
       "\n",
       "                                           knock_out function  \\\n",
       "0  H2A.B knock-out mice are viable, subfertile an...     null   \n",
       "\n",
       "                                            sequence  \\\n",
       "0  Around 50% identity with the canonical H2A, ha...   \n",
       "\n",
       "                                        localization  \\\n",
       "0  H2A.B is expressed during mammalian male germ ...   \n",
       "\n",
       "                                          deposition  \\\n",
       "0  It was suggested that H2A.B is incorporated in...   \n",
       "\n",
       "                                           structure  \\\n",
       "0  H2A.B containing nucleosomes wrap less DNA (~1...   \n",
       "\n",
       "                                        interactions  \\\n",
       "0  RNA processing factors, proteins involved in t...   \n",
       "\n",
       "                                             disease  \\\n",
       "0  H2A.B is upregulated in cancer as other short ...   \n",
       "\n",
       "                                             caveats  \n",
       "0  Due to rapid evolution H2A.B function in diffe...  \n",
       "\n",
       "[1 rows x 21 columns]"
      ]
     },
     "execution_count": 105,
     "metadata": {},
     "output_type": "execute_result"
    }
   ],
   "source": [
    "query = (\n",
    "    \"SELECT * FROM histone h LEFT JOIN histone_description hd \"\n",
    "    \"ON h.description = hd.id \"\n",
    "    f\"WHERE h.id = '{ch_name}' \"\n",
    ")\n",
    "cursor.execute(query)\n",
    "df = pd.DataFrame(cursor.fetchall(), columns=[i[0] for i in cursor.description])\n",
    "df"
   ]
  },
  {
   "cell_type": "code",
   "execution_count": 106,
   "id": "94759e02-8fab-4c28-98cc-fd6643d07cf0",
   "metadata": {
    "tags": []
   },
   "outputs": [
    {
     "data": {
      "text/plain": [
       "'H2A.B_(Homo_sapiens), previously known as \"Barr body deficient\" (H2A.Bbd) variant  is a group of short replication independent H2A variants in humans encoded by H2AB1, H2AB2 and H2AB3 genes. They are involved in spermiogenesis, transcription regulation, splicing, DNA synthesis.'"
      ]
     },
     "execution_count": 106,
     "metadata": {},
     "output_type": "execute_result"
    }
   ],
   "source": [
    "df[\"summary\"].values[0]"
   ]
  },
  {
   "cell_type": "markdown",
   "id": "a662fa3b-67a4-41d4-ab66-ee357072c285",
   "metadata": {},
   "source": [
    "## Поменять поле description у H2A.B_(Mus_musculus)"
   ]
  },
  {
   "cell_type": "code",
   "execution_count": 107,
   "id": "26ab9f91-7163-44dc-a649-8b082be11e97",
   "metadata": {
    "tags": []
   },
   "outputs": [],
   "source": [
    "ch_name = \"H2A.B_(Mus_musculus)\""
   ]
  },
  {
   "cell_type": "code",
   "execution_count": 108,
   "id": "de290bbe-61fd-4778-bd7d-764cd5f1317e",
   "metadata": {
    "tags": []
   },
   "outputs": [
    {
     "data": {
      "text/html": [
       "<div>\n",
       "<style scoped>\n",
       "    .dataframe tbody tr th:only-of-type {\n",
       "        vertical-align: middle;\n",
       "    }\n",
       "\n",
       "    .dataframe tbody tr th {\n",
       "        vertical-align: top;\n",
       "    }\n",
       "\n",
       "    .dataframe thead th {\n",
       "        text-align: right;\n",
       "    }\n",
       "</style>\n",
       "<table border=\"1\" class=\"dataframe\">\n",
       "  <thead>\n",
       "    <tr style=\"text-align: right;\">\n",
       "      <th></th>\n",
       "      <th>id</th>\n",
       "      <th>level</th>\n",
       "      <th>taxonomic_span</th>\n",
       "      <th>taxonomic_span_id</th>\n",
       "      <th>description</th>\n",
       "      <th>parent</th>\n",
       "      <th>id</th>\n",
       "      <th>summary</th>\n",
       "      <th>taxonomy</th>\n",
       "      <th>genes</th>\n",
       "      <th>...</th>\n",
       "      <th>expression</th>\n",
       "      <th>knock_out</th>\n",
       "      <th>function</th>\n",
       "      <th>sequence</th>\n",
       "      <th>localization</th>\n",
       "      <th>deposition</th>\n",
       "      <th>structure</th>\n",
       "      <th>interactions</th>\n",
       "      <th>disease</th>\n",
       "      <th>caveats</th>\n",
       "    </tr>\n",
       "  </thead>\n",
       "  <tbody>\n",
       "    <tr>\n",
       "      <th>0</th>\n",
       "      <td>H2A.B_(Mus_musculus)</td>\n",
       "      <td>variant</td>\n",
       "      <td>Mus musculus</td>\n",
       "      <td>10090</td>\n",
       "      <td>120</td>\n",
       "      <td>H2A.B</td>\n",
       "      <td>120</td>\n",
       "      <td>H2A.B_(Mus_musculus) is a group of three isofo...</td>\n",
       "      <td>null</td>\n",
       "      <td>null</td>\n",
       "      <td>...</td>\n",
       "      <td>null</td>\n",
       "      <td>null</td>\n",
       "      <td>null</td>\n",
       "      <td>null</td>\n",
       "      <td>null</td>\n",
       "      <td>null</td>\n",
       "      <td>null</td>\n",
       "      <td>null</td>\n",
       "      <td>null</td>\n",
       "      <td>null</td>\n",
       "    </tr>\n",
       "  </tbody>\n",
       "</table>\n",
       "<p>1 rows × 21 columns</p>\n",
       "</div>"
      ],
      "text/plain": [
       "                     id    level taxonomic_span taxonomic_span_id  \\\n",
       "0  H2A.B_(Mus_musculus)  variant   Mus musculus             10090   \n",
       "\n",
       "   description parent   id                                            summary  \\\n",
       "0          120  H2A.B  120  H2A.B_(Mus_musculus) is a group of three isofo...   \n",
       "\n",
       "  taxonomy genes  ... expression knock_out function sequence localization  \\\n",
       "0     null  null  ...       null      null     null     null         null   \n",
       "\n",
       "  deposition structure interactions disease caveats  \n",
       "0       null      null         null    null    null  \n",
       "\n",
       "[1 rows x 21 columns]"
      ]
     },
     "execution_count": 108,
     "metadata": {},
     "output_type": "execute_result"
    }
   ],
   "source": [
    "query = (\n",
    "    \"SELECT * FROM histone h LEFT JOIN histone_description hd \"\n",
    "    \"ON h.description = hd.id \"\n",
    "    f\"WHERE h.id = '{ch_name}' \"\n",
    ")\n",
    "cursor.execute(query)\n",
    "df = pd.DataFrame(cursor.fetchall(), columns=[i[0] for i in cursor.description])\n",
    "df"
   ]
  },
  {
   "cell_type": "code",
   "execution_count": 109,
   "id": "e2259eba-8678-4743-94eb-8a471f26c2ae",
   "metadata": {
    "tags": []
   },
   "outputs": [
    {
     "data": {
      "text/plain": [
       "120"
      ]
     },
     "execution_count": 109,
     "metadata": {},
     "output_type": "execute_result"
    }
   ],
   "source": [
    "desc_id = df[\"description\"].values[0]\n",
    "desc_id"
   ]
  },
  {
   "cell_type": "code",
   "execution_count": 110,
   "id": "462da59d-13f1-4090-81a8-aa9e58c4c5fe",
   "metadata": {
    "tags": []
   },
   "outputs": [
    {
     "data": {
      "text/plain": [
       "'H2A.B_(Mus_musculus) is a group of three isoforms of H2A.B variant in mouse encoded by H2ab1, H2ab2 and H2ab3 genes. H2ab1 is the most studied gene and corresponds to H2A.B.3 variant. Evolution: Moreover, the ancestral loci encoding H2A.B genes relocated away from the X Chromosome to autosomes in mouse (Chr 3 and Chr 16) and rat genomes (Chr 20 and Chr 18) as determined by flanking genes, and the encoded H2A.B genes have now been deleted or have decayed beyond recognition. However, the rat-mouse common ancestor acquired an intact H2A.B gene in a new X-linked locus [molaro_evolutionary_2018]. Caveats: Unfortunately there is some confusion with respect to the number suffixes in the literature and between the gene names and variant names. The H2ab1 gene variant was named initially H2A.Lap1 [soboleva_unique_2011], but renamed afterwards to H2A.B.3 [soboleva_new_2017], and this name has been used afterwards [anuar_gene_2019,jiang_short_2020]. Hence we follow the established convention.'"
      ]
     },
     "execution_count": 110,
     "metadata": {},
     "output_type": "execute_result"
    }
   ],
   "source": [
    "df[\"summary\"].values[0]"
   ]
  },
  {
   "cell_type": "code",
   "execution_count": 111,
   "id": "545d053f-8f17-4db2-b799-21f607fa6c02",
   "metadata": {
    "tags": []
   },
   "outputs": [
    {
     "data": {
      "text/plain": [
       "{'summary': 'H2A.B_(Mus_musculus) is a group of three isoforms of H2A.B variant in mouse encoded by H2ab1, H2ab2 and H2ab3 genes. H2ab1 is the most studied gene and corresponds to H2A.B.3 variant.',\n",
       " 'evolution': 'Moreover, the ancestral loci encoding H2A.B genes relocated away from the X Chromosome to autosomes in mouse (Chr 3 and Chr 16) and rat genomes (Chr 20 and Chr 18) as determined by flanking genes, and the encoded H2A.B genes have now been deleted or have decayed beyond recognition. However, the rat-mouse common ancestor acquired an intact H2A.B gene in a new X-linked locus [molaro_evolutionary_2018].',\n",
       " 'caveats': 'Unfortunately there is some confusion with respect to the number suffixes in the literature and between the gene names and variant names. The H2ab1 gene variant was named initially H2A.Lap1 [soboleva_unique_2011], but renamed afterwards to H2A.B.3 [soboleva_new_2017], and this name has been used afterwards [anuar_gene_2019,jiang_short_2020]. Hence we follow the established convention.'}"
      ]
     },
     "execution_count": 111,
     "metadata": {},
     "output_type": "execute_result"
    }
   ],
   "source": [
    "desc_dict = {\n",
    "    \"summary\": \"H2A.B_(Mus_musculus) is a group of three isoforms of H2A.B variant in mouse encoded by H2ab1, H2ab2 and H2ab3 genes. H2ab1 is the most studied gene and corresponds to H2A.B.3 variant.\",\n",
    "    \"evolution\": \"Moreover, the ancestral loci encoding H2A.B genes relocated away from the X Chromosome to autosomes in mouse (Chr 3 and Chr 16) and rat genomes (Chr 20 and Chr 18) as determined by flanking genes, and the encoded H2A.B genes have now been deleted or have decayed beyond recognition. However, the rat-mouse common ancestor acquired an intact H2A.B gene in a new X-linked locus [molaro_evolutionary_2018].\",\n",
    "    \"caveats\": \"Unfortunately there is some confusion with respect to the number suffixes in the literature and between the gene names and variant names. The H2ab1 gene variant was named initially H2A.Lap1 [soboleva_unique_2011], but renamed afterwards to H2A.B.3 [soboleva_new_2017], and this name has been used afterwards [anuar_gene_2019,jiang_short_2020]. Hence we follow the established convention.\",\n",
    "}\n",
    "desc_dict"
   ]
  },
  {
   "cell_type": "code",
   "execution_count": 113,
   "id": "4d08095a-bba5-4012-b9a8-15e1438cf2b8",
   "metadata": {
    "tags": []
   },
   "outputs": [
    {
     "name": "stdout",
     "output_type": "stream",
     "text": [
      "UPDATE histone_description SET summary='H2A.B_(Mus_musculus) is a group of three isoforms of H2A.B variant in mouse encoded by H2ab1, H2ab2 and H2ab3 genes. H2ab1 is the most studied gene and corresponds to H2A.B.3 variant.', evolution='Moreover, the ancestral loci encoding H2A.B genes relocated away from the X Chromosome to autosomes in mouse (Chr 3 and Chr 16) and rat genomes (Chr 20 and Chr 18) as determined by flanking genes, and the encoded H2A.B genes have now been deleted or have decayed beyond recognition. However, the rat-mouse common ancestor acquired an intact H2A.B gene in a new X-linked locus [molaro_evolutionary_2018].', caveats='Unfortunately there is some confusion with respect to the number suffixes in the literature and between the gene names and variant names. The H2ab1 gene variant was named initially H2A.Lap1 [soboleva_unique_2011], but renamed afterwards to H2A.B.3 [soboleva_new_2017], and this name has been used afterwards [anuar_gene_2019,jiang_short_2020]. Hence we follow the established convention.' WHERE id = 120\n"
     ]
    }
   ],
   "source": [
    "desk_str = ', '.join([f\"{k}='{v}'\" for k, v in desc_dict.items()])\n",
    "query = (\n",
    "    f\"UPDATE histone_description SET {desk_str} \"\n",
    "    f\"WHERE id = {desc_id}\"\n",
    ")\n",
    "print(query)\n",
    "cursor.execute(query)"
   ]
  },
  {
   "cell_type": "code",
   "execution_count": 114,
   "id": "6edfb76a-fbc1-44ce-ac21-13135fb9402f",
   "metadata": {
    "tags": []
   },
   "outputs": [
    {
     "data": {
      "text/html": [
       "<div>\n",
       "<style scoped>\n",
       "    .dataframe tbody tr th:only-of-type {\n",
       "        vertical-align: middle;\n",
       "    }\n",
       "\n",
       "    .dataframe tbody tr th {\n",
       "        vertical-align: top;\n",
       "    }\n",
       "\n",
       "    .dataframe thead th {\n",
       "        text-align: right;\n",
       "    }\n",
       "</style>\n",
       "<table border=\"1\" class=\"dataframe\">\n",
       "  <thead>\n",
       "    <tr style=\"text-align: right;\">\n",
       "      <th></th>\n",
       "      <th>id</th>\n",
       "      <th>level</th>\n",
       "      <th>taxonomic_span</th>\n",
       "      <th>taxonomic_span_id</th>\n",
       "      <th>description</th>\n",
       "      <th>parent</th>\n",
       "      <th>id</th>\n",
       "      <th>summary</th>\n",
       "      <th>taxonomy</th>\n",
       "      <th>genes</th>\n",
       "      <th>...</th>\n",
       "      <th>expression</th>\n",
       "      <th>knock_out</th>\n",
       "      <th>function</th>\n",
       "      <th>sequence</th>\n",
       "      <th>localization</th>\n",
       "      <th>deposition</th>\n",
       "      <th>structure</th>\n",
       "      <th>interactions</th>\n",
       "      <th>disease</th>\n",
       "      <th>caveats</th>\n",
       "    </tr>\n",
       "  </thead>\n",
       "  <tbody>\n",
       "    <tr>\n",
       "      <th>0</th>\n",
       "      <td>H2A.B_(Mus_musculus)</td>\n",
       "      <td>variant</td>\n",
       "      <td>Mus musculus</td>\n",
       "      <td>10090</td>\n",
       "      <td>120</td>\n",
       "      <td>H2A.B</td>\n",
       "      <td>120</td>\n",
       "      <td>H2A.B_(Mus_musculus) is a group of three isofo...</td>\n",
       "      <td>null</td>\n",
       "      <td>null</td>\n",
       "      <td>...</td>\n",
       "      <td>null</td>\n",
       "      <td>null</td>\n",
       "      <td>null</td>\n",
       "      <td>null</td>\n",
       "      <td>null</td>\n",
       "      <td>null</td>\n",
       "      <td>null</td>\n",
       "      <td>null</td>\n",
       "      <td>null</td>\n",
       "      <td>Unfortunately there is some confusion with res...</td>\n",
       "    </tr>\n",
       "  </tbody>\n",
       "</table>\n",
       "<p>1 rows × 21 columns</p>\n",
       "</div>"
      ],
      "text/plain": [
       "                     id    level taxonomic_span taxonomic_span_id  \\\n",
       "0  H2A.B_(Mus_musculus)  variant   Mus musculus             10090   \n",
       "\n",
       "   description parent   id                                            summary  \\\n",
       "0          120  H2A.B  120  H2A.B_(Mus_musculus) is a group of three isofo...   \n",
       "\n",
       "  taxonomy genes  ... expression knock_out function sequence localization  \\\n",
       "0     null  null  ...       null      null     null     null         null   \n",
       "\n",
       "  deposition structure interactions disease  \\\n",
       "0       null      null         null    null   \n",
       "\n",
       "                                             caveats  \n",
       "0  Unfortunately there is some confusion with res...  \n",
       "\n",
       "[1 rows x 21 columns]"
      ]
     },
     "execution_count": 114,
     "metadata": {},
     "output_type": "execute_result"
    }
   ],
   "source": [
    "query = (\n",
    "    \"SELECT * FROM histone h LEFT JOIN histone_description hd \"\n",
    "    \"ON h.description = hd.id \"\n",
    "    f\"WHERE h.id = '{ch_name}' \"\n",
    ")\n",
    "cursor.execute(query)\n",
    "df = pd.DataFrame(cursor.fetchall(), columns=[i[0] for i in cursor.description])\n",
    "df"
   ]
  },
  {
   "cell_type": "code",
   "execution_count": 115,
   "id": "34ab5488-5902-4049-958d-12e2d719db86",
   "metadata": {
    "tags": []
   },
   "outputs": [
    {
     "data": {
      "text/plain": [
       "'H2A.B_(Mus_musculus) is a group of three isoforms of H2A.B variant in mouse encoded by H2ab1, H2ab2 and H2ab3 genes. H2ab1 is the most studied gene and corresponds to H2A.B.3 variant.'"
      ]
     },
     "execution_count": 115,
     "metadata": {},
     "output_type": "execute_result"
    }
   ],
   "source": [
    "df[\"summary\"].values[0]"
   ]
  },
  {
   "cell_type": "markdown",
   "id": "0a4a2b40-53ed-4788-b12e-5bfb469250c4",
   "metadata": {},
   "source": [
    "## Поменять поле description у H2A.L_(Mus_musculus)"
   ]
  },
  {
   "cell_type": "code",
   "execution_count": 116,
   "id": "adeb16fa-a0fc-482c-9960-30dab3d7e47d",
   "metadata": {
    "tags": []
   },
   "outputs": [],
   "source": [
    "ch_name = \"H2A.L_(Mus_musculus)\""
   ]
  },
  {
   "cell_type": "code",
   "execution_count": 117,
   "id": "ab6f5010-7f36-4066-b37a-ea388e453fd0",
   "metadata": {
    "tags": []
   },
   "outputs": [
    {
     "data": {
      "text/html": [
       "<div>\n",
       "<style scoped>\n",
       "    .dataframe tbody tr th:only-of-type {\n",
       "        vertical-align: middle;\n",
       "    }\n",
       "\n",
       "    .dataframe tbody tr th {\n",
       "        vertical-align: top;\n",
       "    }\n",
       "\n",
       "    .dataframe thead th {\n",
       "        text-align: right;\n",
       "    }\n",
       "</style>\n",
       "<table border=\"1\" class=\"dataframe\">\n",
       "  <thead>\n",
       "    <tr style=\"text-align: right;\">\n",
       "      <th></th>\n",
       "      <th>id</th>\n",
       "      <th>level</th>\n",
       "      <th>taxonomic_span</th>\n",
       "      <th>taxonomic_span_id</th>\n",
       "      <th>description</th>\n",
       "      <th>parent</th>\n",
       "      <th>id</th>\n",
       "      <th>summary</th>\n",
       "      <th>taxonomy</th>\n",
       "      <th>genes</th>\n",
       "      <th>...</th>\n",
       "      <th>expression</th>\n",
       "      <th>knock_out</th>\n",
       "      <th>function</th>\n",
       "      <th>sequence</th>\n",
       "      <th>localization</th>\n",
       "      <th>deposition</th>\n",
       "      <th>structure</th>\n",
       "      <th>interactions</th>\n",
       "      <th>disease</th>\n",
       "      <th>caveats</th>\n",
       "    </tr>\n",
       "  </thead>\n",
       "  <tbody>\n",
       "    <tr>\n",
       "      <th>0</th>\n",
       "      <td>H2A.L_(Mus_musculus)</td>\n",
       "      <td>variant</td>\n",
       "      <td>Mus musculus</td>\n",
       "      <td>10090</td>\n",
       "      <td>122</td>\n",
       "      <td>H2A.L</td>\n",
       "      <td>122</td>\n",
       "      <td>H2A.L_(Mus_musculus) - is a group of H2A.L his...</td>\n",
       "      <td>null</td>\n",
       "      <td>null</td>\n",
       "      <td>...</td>\n",
       "      <td>null</td>\n",
       "      <td>null</td>\n",
       "      <td>null</td>\n",
       "      <td>null</td>\n",
       "      <td>null</td>\n",
       "      <td>null</td>\n",
       "      <td>null</td>\n",
       "      <td>null</td>\n",
       "      <td>null</td>\n",
       "      <td>null</td>\n",
       "    </tr>\n",
       "  </tbody>\n",
       "</table>\n",
       "<p>1 rows × 21 columns</p>\n",
       "</div>"
      ],
      "text/plain": [
       "                     id    level taxonomic_span taxonomic_span_id  \\\n",
       "0  H2A.L_(Mus_musculus)  variant   Mus musculus             10090   \n",
       "\n",
       "   description parent   id                                            summary  \\\n",
       "0          122  H2A.L  122  H2A.L_(Mus_musculus) - is a group of H2A.L his...   \n",
       "\n",
       "  taxonomy genes  ... expression knock_out function sequence localization  \\\n",
       "0     null  null  ...       null      null     null     null         null   \n",
       "\n",
       "  deposition structure interactions disease caveats  \n",
       "0       null      null         null    null    null  \n",
       "\n",
       "[1 rows x 21 columns]"
      ]
     },
     "execution_count": 117,
     "metadata": {},
     "output_type": "execute_result"
    }
   ],
   "source": [
    "query = (\n",
    "    \"SELECT * FROM histone h LEFT JOIN histone_description hd \"\n",
    "    \"ON h.description = hd.id \"\n",
    "    f\"WHERE h.id = '{ch_name}' \"\n",
    ")\n",
    "cursor.execute(query)\n",
    "df = pd.DataFrame(cursor.fetchall(), columns=[i[0] for i in cursor.description])\n",
    "df"
   ]
  },
  {
   "cell_type": "code",
   "execution_count": 118,
   "id": "dbca4969-8c03-400f-8737-bd71041b6edf",
   "metadata": {
    "tags": []
   },
   "outputs": [
    {
     "data": {
      "text/plain": [
       "122"
      ]
     },
     "execution_count": 118,
     "metadata": {},
     "output_type": "execute_result"
    }
   ],
   "source": [
    "desc_id = df[\"description\"].values[0]\n",
    "desc_id"
   ]
  },
  {
   "cell_type": "code",
   "execution_count": 119,
   "id": "df5beb66-9c94-4260-a5f4-60d18da91a49",
   "metadata": {
    "tags": []
   },
   "outputs": [
    {
     "data": {
      "text/plain": [
       "'H2A.L_(Mus_musculus) - is a group of H2A.L histone variants in mouse. The single autosomal H2al2a (H2A.L.2 variant) gene in mouse located on chromosome 2 is expressed at much higher levels than the sex-linked copies; knockout of this single gene is sufficient to cause male sterility [molaro_evolutionary_2018]. See H2A.L description for more information. Caveats: there is some confusion with the variant names in the literature. Govin et al. initially identified and named three variants H2AL1, H2AL2, H2AL3 [govin_pericentric_2007]. These are encoded by H2al1a, H2al2a and H2ap genes, respectively. The H2Al2 endoded variant was later renamed in the literature as H2A.L.2 [jiang_short_2020]. The H2ap gencoded variant is in fact H2A.P in the current nomenclature. Alternatively, Molaro et al. have named three evolutionary conserved loci on X chromosome that harbor H2A.L genes, these loci are H2A.L.1, H2A.L.2 and H2A.L.3 [molaro_evolutionary_2018]. While human gene and variant naming is in line with the names of these loci, in mouse names of these loci do not correspond exactly to the originally proposed gene names except for H2A.L.3 locus which harbors H2al3 gene (not H2ap gene(!)). In mouse at H2A.L.1 locus a pseudogene H2al1q-ps is located, at H2A.L.2 locus mouse has H2al1m gene (H2al1a-H2al1o genes located within 5 megabases from this locus have similar protein sequences(?)), while H2A.L.2 variant encoded by H2al2a is located on chromosome 2 (two similar genes H2al2b and H2al2c are located on Y chromosome). In this classification we follow the numbering used in gene names which also corresponds to the one established earlier in the literature. Hence, H2A.L.2 variant in mouse encompasses H2al2a gene and similar H2al2b and H2al2c genes, while H2A.L.1 variant encompasses 14 H2al1a-H2al1o genes including H2al1m gene located at a syntenic location of the H2A.L.2 locus'"
      ]
     },
     "execution_count": 119,
     "metadata": {},
     "output_type": "execute_result"
    }
   ],
   "source": [
    "df[\"summary\"].values[0]"
   ]
  },
  {
   "cell_type": "code",
   "execution_count": 120,
   "id": "6b494762-81b2-4cb7-8722-e501bbecde1a",
   "metadata": {
    "tags": []
   },
   "outputs": [
    {
     "data": {
      "text/plain": [
       "{'summary': 'H2A.L_(Mus_musculus) - is a group of H2A.L histone variants in mouse. The single autosomal H2al2a (H2A.L.2 variant) gene in mouse located on chromosome 2 is expressed at much higher levels than the sex-linked copies; knockout of this single gene is sufficient to cause male sterility [molaro_evolutionary_2018]. See H2A.L description for more information.',\n",
       " 'caveats': 'There is some confusion with the variant names in the literature. Govin et al. initially identified and named three variants H2AL1, H2AL2, H2AL3 [govin_pericentric_2007]. These are encoded by H2al1a, H2al2a and H2ap genes, respectively. The H2Al2 endoded variant was later renamed in the literature as H2A.L.2 [jiang_short_2020]. The H2ap gencoded variant is in fact H2A.P in the current nomenclature. Alternatively, Molaro et al. have named three evolutionary conserved loci on X chromosome that harbor H2A.L genes, these loci are H2A.L.1, H2A.L.2 and H2A.L.3 [molaro_evolutionary_2018]. While human gene and variant naming is in line with the names of these loci, in mouse names of these loci do not correspond exactly to the originally proposed gene names except for H2A.L.3 locus which harbors H2al3 gene (not H2ap gene(!)). In mouse at H2A.L.1 locus a pseudogene H2al1q-ps is located, at H2A.L.2 locus mouse has H2al1m gene (H2al1a-H2al1o genes located within 5 megabases from this locus have similar protein sequences(?)), while H2A.L.2 variant encoded by H2al2a is located on chromosome 2 (two similar genes H2al2b and H2al2c are located on Y chromosome). In this classification we follow the numbering used in gene names which also corresponds to the one established earlier in the literature. Hence, H2A.L.2 variant in mouse encompasses H2al2a gene and similar H2al2b and H2al2c genes, while H2A.L.1 variant encompasses 14 H2al1a-H2al1o genes including H2al1m gene located at a syntenic location of the H2A.L.2 locus.'}"
      ]
     },
     "execution_count": 120,
     "metadata": {},
     "output_type": "execute_result"
    }
   ],
   "source": [
    "desc_dict = {\n",
    "    \"summary\": \"H2A.L_(Mus_musculus) - is a group of H2A.L histone variants in mouse. The single autosomal H2al2a (H2A.L.2 variant) gene in mouse located on chromosome 2 is expressed at much higher levels than the sex-linked copies; knockout of this single gene is sufficient to cause male sterility [molaro_evolutionary_2018]. See H2A.L description for more information.\",\n",
    "    \"caveats\": \"There is some confusion with the variant names in the literature. Govin et al. initially identified and named three variants H2AL1, H2AL2, H2AL3 [govin_pericentric_2007]. These are encoded by H2al1a, H2al2a and H2ap genes, respectively. The H2Al2 endoded variant was later renamed in the literature as H2A.L.2 [jiang_short_2020]. The H2ap gencoded variant is in fact H2A.P in the current nomenclature. Alternatively, Molaro et al. have named three evolutionary conserved loci on X chromosome that harbor H2A.L genes, these loci are H2A.L.1, H2A.L.2 and H2A.L.3 [molaro_evolutionary_2018]. While human gene and variant naming is in line with the names of these loci, in mouse names of these loci do not correspond exactly to the originally proposed gene names except for H2A.L.3 locus which harbors H2al3 gene (not H2ap gene(!)). In mouse at H2A.L.1 locus a pseudogene H2al1q-ps is located, at H2A.L.2 locus mouse has H2al1m gene (H2al1a-H2al1o genes located within 5 megabases from this locus have similar protein sequences(?)), while H2A.L.2 variant encoded by H2al2a is located on chromosome 2 (two similar genes H2al2b and H2al2c are located on Y chromosome). In this classification we follow the numbering used in gene names which also corresponds to the one established earlier in the literature. Hence, H2A.L.2 variant in mouse encompasses H2al2a gene and similar H2al2b and H2al2c genes, while H2A.L.1 variant encompasses 14 H2al1a-H2al1o genes including H2al1m gene located at a syntenic location of the H2A.L.2 locus.\",\n",
    "}\n",
    "desc_dict"
   ]
  },
  {
   "cell_type": "code",
   "execution_count": 122,
   "id": "24f182f4-6f0a-46c5-8866-d8cebd222eb2",
   "metadata": {
    "tags": []
   },
   "outputs": [
    {
     "name": "stdout",
     "output_type": "stream",
     "text": [
      "UPDATE histone_description SET summary='H2A.L_(Mus_musculus) - is a group of H2A.L histone variants in mouse. The single autosomal H2al2a (H2A.L.2 variant) gene in mouse located on chromosome 2 is expressed at much higher levels than the sex-linked copies; knockout of this single gene is sufficient to cause male sterility [molaro_evolutionary_2018]. See H2A.L description for more information.', caveats='There is some confusion with the variant names in the literature. Govin et al. initially identified and named three variants H2AL1, H2AL2, H2AL3 [govin_pericentric_2007]. These are encoded by H2al1a, H2al2a and H2ap genes, respectively. The H2Al2 endoded variant was later renamed in the literature as H2A.L.2 [jiang_short_2020]. The H2ap gencoded variant is in fact H2A.P in the current nomenclature. Alternatively, Molaro et al. have named three evolutionary conserved loci on X chromosome that harbor H2A.L genes, these loci are H2A.L.1, H2A.L.2 and H2A.L.3 [molaro_evolutionary_2018]. While human gene and variant naming is in line with the names of these loci, in mouse names of these loci do not correspond exactly to the originally proposed gene names except for H2A.L.3 locus which harbors H2al3 gene (not H2ap gene(!)). In mouse at H2A.L.1 locus a pseudogene H2al1q-ps is located, at H2A.L.2 locus mouse has H2al1m gene (H2al1a-H2al1o genes located within 5 megabases from this locus have similar protein sequences(?)), while H2A.L.2 variant encoded by H2al2a is located on chromosome 2 (two similar genes H2al2b and H2al2c are located on Y chromosome). In this classification we follow the numbering used in gene names which also corresponds to the one established earlier in the literature. Hence, H2A.L.2 variant in mouse encompasses H2al2a gene and similar H2al2b and H2al2c genes, while H2A.L.1 variant encompasses 14 H2al1a-H2al1o genes including H2al1m gene located at a syntenic location of the H2A.L.2 locus.' WHERE id = 122\n"
     ]
    }
   ],
   "source": [
    "desk_str = ', '.join([f\"{k}='{v}'\" for k, v in desc_dict.items()])\n",
    "query = (\n",
    "    f\"UPDATE histone_description SET {desk_str} \"\n",
    "    f\"WHERE id = {desc_id}\"\n",
    ")\n",
    "print(query)\n",
    "cursor.execute(query)"
   ]
  },
  {
   "cell_type": "code",
   "execution_count": 123,
   "id": "e99f5c49-d7ac-4da0-a261-a25d60ffe530",
   "metadata": {
    "tags": []
   },
   "outputs": [
    {
     "data": {
      "text/html": [
       "<div>\n",
       "<style scoped>\n",
       "    .dataframe tbody tr th:only-of-type {\n",
       "        vertical-align: middle;\n",
       "    }\n",
       "\n",
       "    .dataframe tbody tr th {\n",
       "        vertical-align: top;\n",
       "    }\n",
       "\n",
       "    .dataframe thead th {\n",
       "        text-align: right;\n",
       "    }\n",
       "</style>\n",
       "<table border=\"1\" class=\"dataframe\">\n",
       "  <thead>\n",
       "    <tr style=\"text-align: right;\">\n",
       "      <th></th>\n",
       "      <th>id</th>\n",
       "      <th>level</th>\n",
       "      <th>taxonomic_span</th>\n",
       "      <th>taxonomic_span_id</th>\n",
       "      <th>description</th>\n",
       "      <th>parent</th>\n",
       "      <th>id</th>\n",
       "      <th>summary</th>\n",
       "      <th>taxonomy</th>\n",
       "      <th>genes</th>\n",
       "      <th>...</th>\n",
       "      <th>expression</th>\n",
       "      <th>knock_out</th>\n",
       "      <th>function</th>\n",
       "      <th>sequence</th>\n",
       "      <th>localization</th>\n",
       "      <th>deposition</th>\n",
       "      <th>structure</th>\n",
       "      <th>interactions</th>\n",
       "      <th>disease</th>\n",
       "      <th>caveats</th>\n",
       "    </tr>\n",
       "  </thead>\n",
       "  <tbody>\n",
       "    <tr>\n",
       "      <th>0</th>\n",
       "      <td>H2A.L_(Mus_musculus)</td>\n",
       "      <td>variant</td>\n",
       "      <td>Mus musculus</td>\n",
       "      <td>10090</td>\n",
       "      <td>122</td>\n",
       "      <td>H2A.L</td>\n",
       "      <td>122</td>\n",
       "      <td>H2A.L_(Mus_musculus) - is a group of H2A.L his...</td>\n",
       "      <td>null</td>\n",
       "      <td>null</td>\n",
       "      <td>...</td>\n",
       "      <td>null</td>\n",
       "      <td>null</td>\n",
       "      <td>null</td>\n",
       "      <td>null</td>\n",
       "      <td>null</td>\n",
       "      <td>null</td>\n",
       "      <td>null</td>\n",
       "      <td>null</td>\n",
       "      <td>null</td>\n",
       "      <td>There is some confusion with the variant names...</td>\n",
       "    </tr>\n",
       "  </tbody>\n",
       "</table>\n",
       "<p>1 rows × 21 columns</p>\n",
       "</div>"
      ],
      "text/plain": [
       "                     id    level taxonomic_span taxonomic_span_id  \\\n",
       "0  H2A.L_(Mus_musculus)  variant   Mus musculus             10090   \n",
       "\n",
       "   description parent   id                                            summary  \\\n",
       "0          122  H2A.L  122  H2A.L_(Mus_musculus) - is a group of H2A.L his...   \n",
       "\n",
       "  taxonomy genes  ... expression knock_out function sequence localization  \\\n",
       "0     null  null  ...       null      null     null     null         null   \n",
       "\n",
       "  deposition structure interactions disease  \\\n",
       "0       null      null         null    null   \n",
       "\n",
       "                                             caveats  \n",
       "0  There is some confusion with the variant names...  \n",
       "\n",
       "[1 rows x 21 columns]"
      ]
     },
     "execution_count": 123,
     "metadata": {},
     "output_type": "execute_result"
    }
   ],
   "source": [
    "query = (\n",
    "    \"SELECT * FROM histone h LEFT JOIN histone_description hd \"\n",
    "    \"ON h.description = hd.id \"\n",
    "    f\"WHERE h.id = '{ch_name}' \"\n",
    ")\n",
    "cursor.execute(query)\n",
    "df = pd.DataFrame(cursor.fetchall(), columns=[i[0] for i in cursor.description])\n",
    "df"
   ]
  },
  {
   "cell_type": "code",
   "execution_count": 124,
   "id": "2a8a141c-3b5b-42a8-96a5-0fc0286abd4c",
   "metadata": {
    "tags": []
   },
   "outputs": [
    {
     "data": {
      "text/plain": [
       "'H2A.L_(Mus_musculus) - is a group of H2A.L histone variants in mouse. The single autosomal H2al2a (H2A.L.2 variant) gene in mouse located on chromosome 2 is expressed at much higher levels than the sex-linked copies; knockout of this single gene is sufficient to cause male sterility [molaro_evolutionary_2018]. See H2A.L description for more information.'"
      ]
     },
     "execution_count": 124,
     "metadata": {},
     "output_type": "execute_result"
    }
   ],
   "source": [
    "df[\"summary\"].values[0]"
   ]
  },
  {
   "cell_type": "markdown",
   "id": "c96e2879-386f-4a75-ac34-29d1d44c8022",
   "metadata": {},
   "source": [
    "## Поменять поле description у H2A.B.3_(Mus_musculus)"
   ]
  },
  {
   "cell_type": "code",
   "execution_count": 125,
   "id": "07953740-f3b8-4ec8-b117-3b9e3ebc1356",
   "metadata": {
    "tags": []
   },
   "outputs": [],
   "source": [
    "ch_name = \"H2A.B.3_(Mus_musculus)\""
   ]
  },
  {
   "cell_type": "code",
   "execution_count": 126,
   "id": "03d21ab3-2e16-495d-aa91-5fd6794ed306",
   "metadata": {
    "tags": []
   },
   "outputs": [
    {
     "data": {
      "text/html": [
       "<div>\n",
       "<style scoped>\n",
       "    .dataframe tbody tr th:only-of-type {\n",
       "        vertical-align: middle;\n",
       "    }\n",
       "\n",
       "    .dataframe tbody tr th {\n",
       "        vertical-align: top;\n",
       "    }\n",
       "\n",
       "    .dataframe thead th {\n",
       "        text-align: right;\n",
       "    }\n",
       "</style>\n",
       "<table border=\"1\" class=\"dataframe\">\n",
       "  <thead>\n",
       "    <tr style=\"text-align: right;\">\n",
       "      <th></th>\n",
       "      <th>id</th>\n",
       "      <th>level</th>\n",
       "      <th>taxonomic_span</th>\n",
       "      <th>taxonomic_span_id</th>\n",
       "      <th>description</th>\n",
       "      <th>parent</th>\n",
       "      <th>id</th>\n",
       "      <th>summary</th>\n",
       "      <th>taxonomy</th>\n",
       "      <th>genes</th>\n",
       "      <th>...</th>\n",
       "      <th>expression</th>\n",
       "      <th>knock_out</th>\n",
       "      <th>function</th>\n",
       "      <th>sequence</th>\n",
       "      <th>localization</th>\n",
       "      <th>deposition</th>\n",
       "      <th>structure</th>\n",
       "      <th>interactions</th>\n",
       "      <th>disease</th>\n",
       "      <th>caveats</th>\n",
       "    </tr>\n",
       "  </thead>\n",
       "  <tbody>\n",
       "    <tr>\n",
       "      <th>0</th>\n",
       "      <td>H2A.B.3_(Mus_musculus)</td>\n",
       "      <td>variant</td>\n",
       "      <td>Mus musculus</td>\n",
       "      <td>10090</td>\n",
       "      <td>151</td>\n",
       "      <td>H2A.B_(Mus_musculus)</td>\n",
       "      <td>151</td>\n",
       "      <td>H2A.B.3_(Mus_musculus) is one of the three iso...</td>\n",
       "      <td>null</td>\n",
       "      <td>null</td>\n",
       "      <td>...</td>\n",
       "      <td>null</td>\n",
       "      <td>null</td>\n",
       "      <td>null</td>\n",
       "      <td>null</td>\n",
       "      <td>null</td>\n",
       "      <td>null</td>\n",
       "      <td>null</td>\n",
       "      <td>null</td>\n",
       "      <td>null</td>\n",
       "      <td>null</td>\n",
       "    </tr>\n",
       "  </tbody>\n",
       "</table>\n",
       "<p>1 rows × 21 columns</p>\n",
       "</div>"
      ],
      "text/plain": [
       "                       id    level taxonomic_span taxonomic_span_id  \\\n",
       "0  H2A.B.3_(Mus_musculus)  variant   Mus musculus             10090   \n",
       "\n",
       "   description                parent   id  \\\n",
       "0          151  H2A.B_(Mus_musculus)  151   \n",
       "\n",
       "                                             summary taxonomy genes  ...  \\\n",
       "0  H2A.B.3_(Mus_musculus) is one of the three iso...     null  null  ...   \n",
       "\n",
       "  expression knock_out function sequence localization deposition structure  \\\n",
       "0       null      null     null     null         null       null      null   \n",
       "\n",
       "  interactions disease caveats  \n",
       "0         null    null    null  \n",
       "\n",
       "[1 rows x 21 columns]"
      ]
     },
     "execution_count": 126,
     "metadata": {},
     "output_type": "execute_result"
    }
   ],
   "source": [
    "query = (\n",
    "    \"SELECT * FROM histone h LEFT JOIN histone_description hd \"\n",
    "    \"ON h.description = hd.id \"\n",
    "    f\"WHERE h.id = '{ch_name}' \"\n",
    ")\n",
    "cursor.execute(query)\n",
    "df = pd.DataFrame(cursor.fetchall(), columns=[i[0] for i in cursor.description])\n",
    "df"
   ]
  },
  {
   "cell_type": "code",
   "execution_count": 127,
   "id": "5d1f2e94-e9de-414b-862e-0734489034c4",
   "metadata": {
    "tags": []
   },
   "outputs": [
    {
     "data": {
      "text/plain": [
       "151"
      ]
     },
     "execution_count": 127,
     "metadata": {},
     "output_type": "execute_result"
    }
   ],
   "source": [
    "desc_id = df[\"description\"].values[0]\n",
    "desc_id"
   ]
  },
  {
   "cell_type": "code",
   "execution_count": 128,
   "id": "4754e830-26ab-4c7c-a462-d4211b014eb0",
   "metadata": {
    "tags": []
   },
   "outputs": [
    {
     "data": {
      "text/plain": [
       "'H2A.B.3_(Mus_musculus) is one of the three isoforms of H2A.B variant in mouse encoded by H2ab1 gene. This gene has been characterized the most experimentally among all H2A.B. variants. Caveats: Unfortunately there is some confusion with respect to the number suffixes in the literature and between the gene names and variant names. This variant was named initially H2A.Lap1 [soboleva_unique_2011], but renamed afterwards to H2A.B.3 [soboleva_new_2017], and this name has been used afterwards [anuar_gene_2019,jiang_short_2020]. Hence we follow the established convention. Caveat: Moralo et al. suggests that \"rat-mouse common ancestor acquired an intact H2A.B gene in a new X-linked locus (H2a.b.ratMouse1, also historically named H2A.B.3) [molaro_evolutionary_2018]\". Our analysis of supplementary information suggests that H2a.b.ratMouse1 is H2ab2 gene in the current nomenclature. Our analysis of sequences published by Soboleva et al. suggests that H2A.B.3 (H2A.Lap1) is H2ab1 gene and not H2ab2 [soboleva_unique_2011].'"
      ]
     },
     "execution_count": 128,
     "metadata": {},
     "output_type": "execute_result"
    }
   ],
   "source": [
    "df[\"summary\"].values[0]"
   ]
  },
  {
   "cell_type": "code",
   "execution_count": 129,
   "id": "a13648f7-3e33-4509-b993-c651456d783e",
   "metadata": {
    "tags": []
   },
   "outputs": [
    {
     "data": {
      "text/plain": [
       "{'summary': 'H2A.B.3_(Mus_musculus) is one of the three isoforms of H2A.B variant in mouse encoded by H2ab1 gene. This gene has been characterized the most experimentally among all H2A.B. variants.',\n",
       " 'caveats': 'Unfortunately there is some confusion with respect to the number suffixes in the literature and between the gene names and variant names. This variant was named initially H2A.Lap1 [soboleva_unique_2011], but renamed afterwards to H2A.B.3 [soboleva_new_2017], and this name has been used afterwards [anuar_gene_2019,jiang_short_2020]. Hence we follow the established convention. Moralo et al. suggests that rat-mouse common ancestor acquired an intact H2A.B gene in a new X-linked locus (H2a.b.ratMouse1, also historically named H2A.B.3) [molaro_evolutionary_2018]. Our analysis of supplementary information suggests that H2a.b.ratMouse1 is H2ab2 gene in the current nomenclature. Our analysis of sequences published by Soboleva et al. suggests that H2A.B.3 (H2A.Lap1) is H2ab1 gene and not H2ab2 [soboleva_unique_2011].'}"
      ]
     },
     "execution_count": 129,
     "metadata": {},
     "output_type": "execute_result"
    }
   ],
   "source": [
    "desc_dict = {\n",
    "    \"summary\": \"H2A.B.3_(Mus_musculus) is one of the three isoforms of H2A.B variant in mouse encoded by H2ab1 gene. This gene has been characterized the most experimentally among all H2A.B. variants.\",\n",
    "    \"caveats\": \"Unfortunately there is some confusion with respect to the number suffixes in the literature and between the gene names and variant names. This variant was named initially H2A.Lap1 [soboleva_unique_2011], but renamed afterwards to H2A.B.3 [soboleva_new_2017], and this name has been used afterwards [anuar_gene_2019,jiang_short_2020]. Hence we follow the established convention. Moralo et al. suggests that rat-mouse common ancestor acquired an intact H2A.B gene in a new X-linked locus (H2a.b.ratMouse1, also historically named H2A.B.3) [molaro_evolutionary_2018]. Our analysis of supplementary information suggests that H2a.b.ratMouse1 is H2ab2 gene in the current nomenclature. Our analysis of sequences published by Soboleva et al. suggests that H2A.B.3 (H2A.Lap1) is H2ab1 gene and not H2ab2 [soboleva_unique_2011].\",\n",
    "}\n",
    "desc_dict"
   ]
  },
  {
   "cell_type": "code",
   "execution_count": 131,
   "id": "44fac776-8dfc-4b92-ab4f-c98a93b46d95",
   "metadata": {
    "tags": []
   },
   "outputs": [
    {
     "name": "stdout",
     "output_type": "stream",
     "text": [
      "UPDATE histone_description SET summary='H2A.B.3_(Mus_musculus) is one of the three isoforms of H2A.B variant in mouse encoded by H2ab1 gene. This gene has been characterized the most experimentally among all H2A.B. variants.', caveats='Unfortunately there is some confusion with respect to the number suffixes in the literature and between the gene names and variant names. This variant was named initially H2A.Lap1 [soboleva_unique_2011], but renamed afterwards to H2A.B.3 [soboleva_new_2017], and this name has been used afterwards [anuar_gene_2019,jiang_short_2020]. Hence we follow the established convention. Moralo et al. suggests that rat-mouse common ancestor acquired an intact H2A.B gene in a new X-linked locus (H2a.b.ratMouse1, also historically named H2A.B.3) [molaro_evolutionary_2018]. Our analysis of supplementary information suggests that H2a.b.ratMouse1 is H2ab2 gene in the current nomenclature. Our analysis of sequences published by Soboleva et al. suggests that H2A.B.3 (H2A.Lap1) is H2ab1 gene and not H2ab2 [soboleva_unique_2011].' WHERE id = 151\n"
     ]
    }
   ],
   "source": [
    "desk_str = ', '.join([f\"{k}='{v}'\" for k, v in desc_dict.items()])\n",
    "query = (\n",
    "    f\"UPDATE histone_description SET {desk_str} \"\n",
    "    f\"WHERE id = {desc_id}\"\n",
    ")\n",
    "print(query)\n",
    "cursor.execute(query)"
   ]
  },
  {
   "cell_type": "code",
   "execution_count": 132,
   "id": "a066656d-0e2a-4cdc-8718-92f29c2cb492",
   "metadata": {
    "tags": []
   },
   "outputs": [
    {
     "data": {
      "text/html": [
       "<div>\n",
       "<style scoped>\n",
       "    .dataframe tbody tr th:only-of-type {\n",
       "        vertical-align: middle;\n",
       "    }\n",
       "\n",
       "    .dataframe tbody tr th {\n",
       "        vertical-align: top;\n",
       "    }\n",
       "\n",
       "    .dataframe thead th {\n",
       "        text-align: right;\n",
       "    }\n",
       "</style>\n",
       "<table border=\"1\" class=\"dataframe\">\n",
       "  <thead>\n",
       "    <tr style=\"text-align: right;\">\n",
       "      <th></th>\n",
       "      <th>id</th>\n",
       "      <th>level</th>\n",
       "      <th>taxonomic_span</th>\n",
       "      <th>taxonomic_span_id</th>\n",
       "      <th>description</th>\n",
       "      <th>parent</th>\n",
       "      <th>id</th>\n",
       "      <th>summary</th>\n",
       "      <th>taxonomy</th>\n",
       "      <th>genes</th>\n",
       "      <th>...</th>\n",
       "      <th>expression</th>\n",
       "      <th>knock_out</th>\n",
       "      <th>function</th>\n",
       "      <th>sequence</th>\n",
       "      <th>localization</th>\n",
       "      <th>deposition</th>\n",
       "      <th>structure</th>\n",
       "      <th>interactions</th>\n",
       "      <th>disease</th>\n",
       "      <th>caveats</th>\n",
       "    </tr>\n",
       "  </thead>\n",
       "  <tbody>\n",
       "    <tr>\n",
       "      <th>0</th>\n",
       "      <td>H2A.B.3_(Mus_musculus)</td>\n",
       "      <td>variant</td>\n",
       "      <td>Mus musculus</td>\n",
       "      <td>10090</td>\n",
       "      <td>151</td>\n",
       "      <td>H2A.B_(Mus_musculus)</td>\n",
       "      <td>151</td>\n",
       "      <td>H2A.B.3_(Mus_musculus) is one of the three iso...</td>\n",
       "      <td>null</td>\n",
       "      <td>null</td>\n",
       "      <td>...</td>\n",
       "      <td>null</td>\n",
       "      <td>null</td>\n",
       "      <td>null</td>\n",
       "      <td>null</td>\n",
       "      <td>null</td>\n",
       "      <td>null</td>\n",
       "      <td>null</td>\n",
       "      <td>null</td>\n",
       "      <td>null</td>\n",
       "      <td>Unfortunately there is some confusion with res...</td>\n",
       "    </tr>\n",
       "  </tbody>\n",
       "</table>\n",
       "<p>1 rows × 21 columns</p>\n",
       "</div>"
      ],
      "text/plain": [
       "                       id    level taxonomic_span taxonomic_span_id  \\\n",
       "0  H2A.B.3_(Mus_musculus)  variant   Mus musculus             10090   \n",
       "\n",
       "   description                parent   id  \\\n",
       "0          151  H2A.B_(Mus_musculus)  151   \n",
       "\n",
       "                                             summary taxonomy genes  ...  \\\n",
       "0  H2A.B.3_(Mus_musculus) is one of the three iso...     null  null  ...   \n",
       "\n",
       "  expression knock_out function sequence localization deposition structure  \\\n",
       "0       null      null     null     null         null       null      null   \n",
       "\n",
       "  interactions disease                                            caveats  \n",
       "0         null    null  Unfortunately there is some confusion with res...  \n",
       "\n",
       "[1 rows x 21 columns]"
      ]
     },
     "execution_count": 132,
     "metadata": {},
     "output_type": "execute_result"
    }
   ],
   "source": [
    "query = (\n",
    "    \"SELECT * FROM histone h LEFT JOIN histone_description hd \"\n",
    "    \"ON h.description = hd.id \"\n",
    "    f\"WHERE h.id = '{ch_name}' \"\n",
    ")\n",
    "cursor.execute(query)\n",
    "df = pd.DataFrame(cursor.fetchall(), columns=[i[0] for i in cursor.description])\n",
    "df"
   ]
  },
  {
   "cell_type": "code",
   "execution_count": 133,
   "id": "afbcacd9-8ff0-4199-a7f3-b8518eca45ad",
   "metadata": {
    "tags": []
   },
   "outputs": [
    {
     "data": {
      "text/plain": [
       "'H2A.B.3_(Mus_musculus) is one of the three isoforms of H2A.B variant in mouse encoded by H2ab1 gene. This gene has been characterized the most experimentally among all H2A.B. variants.'"
      ]
     },
     "execution_count": 133,
     "metadata": {},
     "output_type": "execute_result"
    }
   ],
   "source": [
    "df[\"summary\"].values[0]"
   ]
  },
  {
   "cell_type": "code",
   "execution_count": 134,
   "id": "2100aa92-cdac-4325-85e8-d47f182c2644",
   "metadata": {
    "tags": []
   },
   "outputs": [
    {
     "data": {
      "text/html": [
       "<div>\n",
       "<style scoped>\n",
       "    .dataframe tbody tr th:only-of-type {\n",
       "        vertical-align: middle;\n",
       "    }\n",
       "\n",
       "    .dataframe tbody tr th {\n",
       "        vertical-align: top;\n",
       "    }\n",
       "\n",
       "    .dataframe thead th {\n",
       "        text-align: right;\n",
       "    }\n",
       "</style>\n",
       "<table border=\"1\" class=\"dataframe\">\n",
       "  <thead>\n",
       "    <tr style=\"text-align: right;\">\n",
       "      <th></th>\n",
       "      <th>id</th>\n",
       "      <th>level</th>\n",
       "      <th>taxonomic_span</th>\n",
       "      <th>taxonomic_span_id</th>\n",
       "      <th>description</th>\n",
       "      <th>parent</th>\n",
       "      <th>id</th>\n",
       "      <th>summary</th>\n",
       "      <th>taxonomy</th>\n",
       "      <th>genes</th>\n",
       "      <th>...</th>\n",
       "      <th>expression</th>\n",
       "      <th>knock_out</th>\n",
       "      <th>function</th>\n",
       "      <th>sequence</th>\n",
       "      <th>localization</th>\n",
       "      <th>deposition</th>\n",
       "      <th>structure</th>\n",
       "      <th>interactions</th>\n",
       "      <th>disease</th>\n",
       "      <th>caveats</th>\n",
       "    </tr>\n",
       "  </thead>\n",
       "  <tbody>\n",
       "    <tr>\n",
       "      <th>0</th>\n",
       "      <td>H2A.B</td>\n",
       "      <td>variant</td>\n",
       "      <td>Eutheria</td>\n",
       "      <td>9347</td>\n",
       "      <td>83</td>\n",
       "      <td>short_H2A_(Eutheria)</td>\n",
       "      <td>83</td>\n",
       "      <td>H2A.B_(Eutheria), previously known as \"Barr bo...</td>\n",
       "      <td>null</td>\n",
       "      <td>Common ancestor of eutherian mammals encoded t...</td>\n",
       "      <td>...</td>\n",
       "      <td>null</td>\n",
       "      <td>H2A.B knock-out mice are viable, subfertile an...</td>\n",
       "      <td>null</td>\n",
       "      <td>round 50% identity with the canonical H2A, has...</td>\n",
       "      <td>H2A.B is expressed during mammalian male germ ...</td>\n",
       "      <td>null</td>\n",
       "      <td>null</td>\n",
       "      <td>null</td>\n",
       "      <td>H2A.B is upregulated in cancer as other short ...</td>\n",
       "      <td>Due to rapid evolution H2A.B function in diffe...</td>\n",
       "    </tr>\n",
       "    <tr>\n",
       "      <th>1</th>\n",
       "      <td>H2A.L</td>\n",
       "      <td>variant</td>\n",
       "      <td>Eutheria</td>\n",
       "      <td>9347</td>\n",
       "      <td>84</td>\n",
       "      <td>short_H2A_(Eutheria)</td>\n",
       "      <td>84</td>\n",
       "      <td>H2A.L_(Eutheria) - is a class of short H2A var...</td>\n",
       "      <td>null</td>\n",
       "      <td>Сommon ancestor of eutherian mammals encoded t...</td>\n",
       "      <td>...</td>\n",
       "      <td>null</td>\n",
       "      <td>H2A.L.2 knock out mice are infertile because t...</td>\n",
       "      <td>Required for the histone–protamine exchange pr...</td>\n",
       "      <td>Sequence is divergent from cH2A. Identity with...</td>\n",
       "      <td>Accumulates in spermatid nuclei until the end ...</td>\n",
       "      <td>Likely mediated by interaction with RNA [hogho...</td>\n",
       "      <td>null</td>\n",
       "      <td>H2A.L.2 preferentially dimerizes with H2B.1 (T...</td>\n",
       "      <td>No information, since no H2A.L have been so fa...</td>\n",
       "      <td>There is some confusion in literature with res...</td>\n",
       "    </tr>\n",
       "    <tr>\n",
       "      <th>2</th>\n",
       "      <td>H2A.P</td>\n",
       "      <td>variant</td>\n",
       "      <td>Eutheria</td>\n",
       "      <td>9347</td>\n",
       "      <td>85</td>\n",
       "      <td>short_H2A_(Eutheria)</td>\n",
       "      <td>85</td>\n",
       "      <td>H2A.P_(Eutheria) - is a class of testis-specif...</td>\n",
       "      <td>null</td>\n",
       "      <td>Сommon ancestor of eutherian mammals encoded a...</td>\n",
       "      <td>...</td>\n",
       "      <td>null</td>\n",
       "      <td>No studies.</td>\n",
       "      <td>No specific studies have been reported, but by...</td>\n",
       "      <td>Has one of the most divergent sequences from c...</td>\n",
       "      <td>H2A.P presence has not been confirmed at prote...</td>\n",
       "      <td>null</td>\n",
       "      <td>Nucleosomes incorporating H2A.P are predicted ...</td>\n",
       "      <td>In yeast two-hybrid screens was shown to inter...</td>\n",
       "      <td>No information.</td>\n",
       "      <td>H2A.P in mice was previously name H2AL3 [govin...</td>\n",
       "    </tr>\n",
       "    <tr>\n",
       "      <th>3</th>\n",
       "      <td>H2A.Q</td>\n",
       "      <td>variant</td>\n",
       "      <td>Eutheria</td>\n",
       "      <td>9347</td>\n",
       "      <td>86</td>\n",
       "      <td>short_H2A_(Eutheria)</td>\n",
       "      <td>86</td>\n",
       "      <td>H2A.Q - is a short H2A variant present in many...</td>\n",
       "      <td>null</td>\n",
       "      <td>null</td>\n",
       "      <td>...</td>\n",
       "      <td>null</td>\n",
       "      <td>null</td>\n",
       "      <td>null</td>\n",
       "      <td>null</td>\n",
       "      <td>null</td>\n",
       "      <td>null</td>\n",
       "      <td>null</td>\n",
       "      <td>null</td>\n",
       "      <td>null</td>\n",
       "      <td>null</td>\n",
       "    </tr>\n",
       "  </tbody>\n",
       "</table>\n",
       "<p>4 rows × 21 columns</p>\n",
       "</div>"
      ],
      "text/plain": [
       "      id    level taxonomic_span taxonomic_span_id  description  \\\n",
       "0  H2A.B  variant       Eutheria              9347           83   \n",
       "1  H2A.L  variant       Eutheria              9347           84   \n",
       "2  H2A.P  variant       Eutheria              9347           85   \n",
       "3  H2A.Q  variant       Eutheria              9347           86   \n",
       "\n",
       "                 parent  id  \\\n",
       "0  short_H2A_(Eutheria)  83   \n",
       "1  short_H2A_(Eutheria)  84   \n",
       "2  short_H2A_(Eutheria)  85   \n",
       "3  short_H2A_(Eutheria)  86   \n",
       "\n",
       "                                             summary taxonomy  \\\n",
       "0  H2A.B_(Eutheria), previously known as \"Barr bo...     null   \n",
       "1  H2A.L_(Eutheria) - is a class of short H2A var...     null   \n",
       "2  H2A.P_(Eutheria) - is a class of testis-specif...     null   \n",
       "3  H2A.Q - is a short H2A variant present in many...     null   \n",
       "\n",
       "                                               genes  ... expression  \\\n",
       "0  Common ancestor of eutherian mammals encoded t...  ...       null   \n",
       "1  Сommon ancestor of eutherian mammals encoded t...  ...       null   \n",
       "2  Сommon ancestor of eutherian mammals encoded a...  ...       null   \n",
       "3                                               null  ...       null   \n",
       "\n",
       "                                           knock_out  \\\n",
       "0  H2A.B knock-out mice are viable, subfertile an...   \n",
       "1  H2A.L.2 knock out mice are infertile because t...   \n",
       "2                                        No studies.   \n",
       "3                                               null   \n",
       "\n",
       "                                            function  \\\n",
       "0                                               null   \n",
       "1  Required for the histone–protamine exchange pr...   \n",
       "2  No specific studies have been reported, but by...   \n",
       "3                                               null   \n",
       "\n",
       "                                            sequence  \\\n",
       "0  round 50% identity with the canonical H2A, has...   \n",
       "1  Sequence is divergent from cH2A. Identity with...   \n",
       "2  Has one of the most divergent sequences from c...   \n",
       "3                                               null   \n",
       "\n",
       "                                        localization  \\\n",
       "0  H2A.B is expressed during mammalian male germ ...   \n",
       "1  Accumulates in spermatid nuclei until the end ...   \n",
       "2  H2A.P presence has not been confirmed at prote...   \n",
       "3                                               null   \n",
       "\n",
       "                                          deposition  \\\n",
       "0                                               null   \n",
       "1  Likely mediated by interaction with RNA [hogho...   \n",
       "2                                               null   \n",
       "3                                               null   \n",
       "\n",
       "                                           structure  \\\n",
       "0                                               null   \n",
       "1                                               null   \n",
       "2  Nucleosomes incorporating H2A.P are predicted ...   \n",
       "3                                               null   \n",
       "\n",
       "                                        interactions  \\\n",
       "0                                               null   \n",
       "1  H2A.L.2 preferentially dimerizes with H2B.1 (T...   \n",
       "2  In yeast two-hybrid screens was shown to inter...   \n",
       "3                                               null   \n",
       "\n",
       "                                             disease  \\\n",
       "0  H2A.B is upregulated in cancer as other short ...   \n",
       "1  No information, since no H2A.L have been so fa...   \n",
       "2                                    No information.   \n",
       "3                                               null   \n",
       "\n",
       "                                             caveats  \n",
       "0  Due to rapid evolution H2A.B function in diffe...  \n",
       "1  There is some confusion in literature with res...  \n",
       "2  H2A.P in mice was previously name H2AL3 [govin...  \n",
       "3                                               null  \n",
       "\n",
       "[4 rows x 21 columns]"
      ]
     },
     "execution_count": 134,
     "metadata": {},
     "output_type": "execute_result"
    }
   ],
   "source": [
    "query = (\n",
    "    \"SELECT * FROM histone h LEFT JOIN histone_description hd \"\n",
    "    \"ON h.description = hd.id \"\n",
    "    f\"WHERE h.parent = '{new_name}' \"\n",
    ")\n",
    "cursor.execute(query)\n",
    "pd.DataFrame(cursor.fetchall(), columns=[i[0] for i in cursor.description])"
   ]
  },
  {
   "cell_type": "code",
   "execution_count": 135,
   "id": "6d4988b9-e08b-49c8-9bcb-a761ad6d2153",
   "metadata": {
    "tags": []
   },
   "outputs": [],
   "source": [
    "# Make sure data is committed to the database\n",
    "conn.commit()"
   ]
  },
  {
   "cell_type": "markdown",
   "id": "85f84847-d4dd-41df-929d-092a11e4d680",
   "metadata": {
    "tags": []
   },
   "source": [
    "## Change name from H2A.B → H2A.B_(Eutheria)"
   ]
  },
  {
   "cell_type": "code",
   "execution_count": 136,
   "id": "3f240937-40b9-40d4-a435-d1deb374c1b7",
   "metadata": {
    "tags": []
   },
   "outputs": [],
   "source": [
    "prev_name, new_name = \"H2A.B\", \"H2A.B_(Eutheria)\""
   ]
  },
  {
   "cell_type": "code",
   "execution_count": 137,
   "id": "1da58fba-6773-4d08-8e82-d23ad1e37181",
   "metadata": {
    "tags": []
   },
   "outputs": [
    {
     "data": {
      "text/html": [
       "<div>\n",
       "<style scoped>\n",
       "    .dataframe tbody tr th:only-of-type {\n",
       "        vertical-align: middle;\n",
       "    }\n",
       "\n",
       "    .dataframe tbody tr th {\n",
       "        vertical-align: top;\n",
       "    }\n",
       "\n",
       "    .dataframe thead th {\n",
       "        text-align: right;\n",
       "    }\n",
       "</style>\n",
       "<table border=\"1\" class=\"dataframe\">\n",
       "  <thead>\n",
       "    <tr style=\"text-align: right;\">\n",
       "      <th></th>\n",
       "      <th>id</th>\n",
       "      <th>level</th>\n",
       "      <th>taxonomic_span</th>\n",
       "      <th>taxonomic_span_id</th>\n",
       "      <th>description</th>\n",
       "      <th>parent</th>\n",
       "      <th>histone_id</th>\n",
       "      <th>publication_id</th>\n",
       "    </tr>\n",
       "  </thead>\n",
       "  <tbody>\n",
       "    <tr>\n",
       "      <th>0</th>\n",
       "      <td>H2A.B</td>\n",
       "      <td>variant</td>\n",
       "      <td>Eutheria</td>\n",
       "      <td>9347</td>\n",
       "      <td>83</td>\n",
       "      <td>short_H2A_(Eutheria)</td>\n",
       "      <td>H2A.B</td>\n",
       "      <td>anuar_gene_2019</td>\n",
       "    </tr>\n",
       "    <tr>\n",
       "      <th>1</th>\n",
       "      <td>H2A.B</td>\n",
       "      <td>variant</td>\n",
       "      <td>Eutheria</td>\n",
       "      <td>9347</td>\n",
       "      <td>83</td>\n",
       "      <td>short_H2A_(Eutheria)</td>\n",
       "      <td>H2A.B</td>\n",
       "      <td>chadwick_novel_2001</td>\n",
       "    </tr>\n",
       "    <tr>\n",
       "      <th>2</th>\n",
       "      <td>H2A.B</td>\n",
       "      <td>variant</td>\n",
       "      <td>Eutheria</td>\n",
       "      <td>9347</td>\n",
       "      <td>83</td>\n",
       "      <td>short_H2A_(Eutheria)</td>\n",
       "      <td>H2A.B</td>\n",
       "      <td>chew_short_2021</td>\n",
       "    </tr>\n",
       "    <tr>\n",
       "      <th>3</th>\n",
       "      <td>H2A.B</td>\n",
       "      <td>variant</td>\n",
       "      <td>Eutheria</td>\n",
       "      <td>9347</td>\n",
       "      <td>83</td>\n",
       "      <td>short_H2A_(Eutheria)</td>\n",
       "      <td>H2A.B</td>\n",
       "      <td>doyen_dissection_2006</td>\n",
       "    </tr>\n",
       "    <tr>\n",
       "      <th>4</th>\n",
       "      <td>H2A.B</td>\n",
       "      <td>variant</td>\n",
       "      <td>Eutheria</td>\n",
       "      <td>9347</td>\n",
       "      <td>83</td>\n",
       "      <td>short_H2A_(Eutheria)</td>\n",
       "      <td>H2A.B</td>\n",
       "      <td>hirano_histone_2021</td>\n",
       "    </tr>\n",
       "    <tr>\n",
       "      <th>5</th>\n",
       "      <td>H2A.B</td>\n",
       "      <td>variant</td>\n",
       "      <td>Eutheria</td>\n",
       "      <td>9347</td>\n",
       "      <td>83</td>\n",
       "      <td>short_H2A_(Eutheria)</td>\n",
       "      <td>H2A.B</td>\n",
       "      <td>jiang_short_2020</td>\n",
       "    </tr>\n",
       "    <tr>\n",
       "      <th>6</th>\n",
       "      <td>H2A.B</td>\n",
       "      <td>variant</td>\n",
       "      <td>Eutheria</td>\n",
       "      <td>9347</td>\n",
       "      <td>83</td>\n",
       "      <td>short_H2A_(Eutheria)</td>\n",
       "      <td>H2A.B</td>\n",
       "      <td>molaro_evolutionary_2018</td>\n",
       "    </tr>\n",
       "    <tr>\n",
       "      <th>7</th>\n",
       "      <td>H2A.B</td>\n",
       "      <td>variant</td>\n",
       "      <td>Eutheria</td>\n",
       "      <td>9347</td>\n",
       "      <td>83</td>\n",
       "      <td>short_H2A_(Eutheria)</td>\n",
       "      <td>H2A.B</td>\n",
       "      <td>soboleva_new_2017</td>\n",
       "    </tr>\n",
       "    <tr>\n",
       "      <th>8</th>\n",
       "      <td>H2A.B</td>\n",
       "      <td>variant</td>\n",
       "      <td>Eutheria</td>\n",
       "      <td>9347</td>\n",
       "      <td>83</td>\n",
       "      <td>short_H2A_(Eutheria)</td>\n",
       "      <td>H2A.B</td>\n",
       "      <td>soboleva_unique_2011</td>\n",
       "    </tr>\n",
       "    <tr>\n",
       "      <th>9</th>\n",
       "      <td>H2A.B</td>\n",
       "      <td>variant</td>\n",
       "      <td>Eutheria</td>\n",
       "      <td>9347</td>\n",
       "      <td>83</td>\n",
       "      <td>short_H2A_(Eutheria)</td>\n",
       "      <td>H2A.B</td>\n",
       "      <td>sugiyama_distinct_2014</td>\n",
       "    </tr>\n",
       "  </tbody>\n",
       "</table>\n",
       "</div>"
      ],
      "text/plain": [
       "      id    level taxonomic_span taxonomic_span_id  description  \\\n",
       "0  H2A.B  variant       Eutheria              9347           83   \n",
       "1  H2A.B  variant       Eutheria              9347           83   \n",
       "2  H2A.B  variant       Eutheria              9347           83   \n",
       "3  H2A.B  variant       Eutheria              9347           83   \n",
       "4  H2A.B  variant       Eutheria              9347           83   \n",
       "5  H2A.B  variant       Eutheria              9347           83   \n",
       "6  H2A.B  variant       Eutheria              9347           83   \n",
       "7  H2A.B  variant       Eutheria              9347           83   \n",
       "8  H2A.B  variant       Eutheria              9347           83   \n",
       "9  H2A.B  variant       Eutheria              9347           83   \n",
       "\n",
       "                 parent histone_id            publication_id  \n",
       "0  short_H2A_(Eutheria)      H2A.B           anuar_gene_2019  \n",
       "1  short_H2A_(Eutheria)      H2A.B       chadwick_novel_2001  \n",
       "2  short_H2A_(Eutheria)      H2A.B           chew_short_2021  \n",
       "3  short_H2A_(Eutheria)      H2A.B     doyen_dissection_2006  \n",
       "4  short_H2A_(Eutheria)      H2A.B       hirano_histone_2021  \n",
       "5  short_H2A_(Eutheria)      H2A.B          jiang_short_2020  \n",
       "6  short_H2A_(Eutheria)      H2A.B  molaro_evolutionary_2018  \n",
       "7  short_H2A_(Eutheria)      H2A.B         soboleva_new_2017  \n",
       "8  short_H2A_(Eutheria)      H2A.B      soboleva_unique_2011  \n",
       "9  short_H2A_(Eutheria)      H2A.B    sugiyama_distinct_2014  "
      ]
     },
     "execution_count": 137,
     "metadata": {},
     "output_type": "execute_result"
    }
   ],
   "source": [
    "query = (\n",
    "    \"SELECT * FROM histone h LEFT JOIN histone_has_publication hp \"\n",
    "    \"ON h.id = hp.histone_id \"\n",
    "    f\"WHERE h.id='{prev_name}'\"\n",
    ")\n",
    "cursor.execute(query)\n",
    "pd.DataFrame(cursor.fetchall(), columns=[i[0] for i in cursor.description])"
   ]
  },
  {
   "cell_type": "code",
   "execution_count": 138,
   "id": "8493332f-e54c-419d-9529-a26038f6528c",
   "metadata": {
    "tags": []
   },
   "outputs": [
    {
     "data": {
      "text/html": [
       "<div>\n",
       "<style scoped>\n",
       "    .dataframe tbody tr th:only-of-type {\n",
       "        vertical-align: middle;\n",
       "    }\n",
       "\n",
       "    .dataframe tbody tr th {\n",
       "        vertical-align: top;\n",
       "    }\n",
       "\n",
       "    .dataframe thead th {\n",
       "        text-align: right;\n",
       "    }\n",
       "</style>\n",
       "<table border=\"1\" class=\"dataframe\">\n",
       "  <thead>\n",
       "    <tr style=\"text-align: right;\">\n",
       "      <th></th>\n",
       "      <th>id</th>\n",
       "      <th>level</th>\n",
       "      <th>taxonomic_span</th>\n",
       "      <th>taxonomic_span_id</th>\n",
       "      <th>description</th>\n",
       "      <th>parent</th>\n",
       "    </tr>\n",
       "  </thead>\n",
       "  <tbody>\n",
       "    <tr>\n",
       "      <th>0</th>\n",
       "      <td>H2A.B_(Homo_sapiens)</td>\n",
       "      <td>variant</td>\n",
       "      <td>Homo sapiens</td>\n",
       "      <td>9606</td>\n",
       "      <td>119</td>\n",
       "      <td>H2A.B</td>\n",
       "    </tr>\n",
       "    <tr>\n",
       "      <th>1</th>\n",
       "      <td>H2A.B_(Mus_musculus)</td>\n",
       "      <td>variant</td>\n",
       "      <td>Mus musculus</td>\n",
       "      <td>10090</td>\n",
       "      <td>120</td>\n",
       "      <td>H2A.B</td>\n",
       "    </tr>\n",
       "  </tbody>\n",
       "</table>\n",
       "</div>"
      ],
      "text/plain": [
       "                     id    level taxonomic_span taxonomic_span_id  \\\n",
       "0  H2A.B_(Homo_sapiens)  variant   Homo sapiens              9606   \n",
       "1  H2A.B_(Mus_musculus)  variant   Mus musculus             10090   \n",
       "\n",
       "   description parent  \n",
       "0          119  H2A.B  \n",
       "1          120  H2A.B  "
      ]
     },
     "execution_count": 138,
     "metadata": {},
     "output_type": "execute_result"
    }
   ],
   "source": [
    "query = (\n",
    "    \"SELECT * FROM histone \"\n",
    "    f\"WHERE parent='{prev_name}'\"\n",
    ")\n",
    "cursor.execute(query)\n",
    "pd.DataFrame(cursor.fetchall(), columns=[i[0] for i in cursor.description])"
   ]
  },
  {
   "cell_type": "markdown",
   "id": "56e30f5c-02df-4c7f-87fa-70f159f8c72a",
   "metadata": {
    "tags": []
   },
   "source": [
    "### Save children and publications"
   ]
  },
  {
   "cell_type": "code",
   "execution_count": 139,
   "id": "a792b4b7-65c6-4b1f-b286-cd76e4597265",
   "metadata": {
    "tags": []
   },
   "outputs": [
    {
     "data": {
      "text/plain": [
       "array(['H2A.B_(Homo_sapiens)', 'H2A.B_(Mus_musculus)'], dtype=object)"
      ]
     },
     "execution_count": 139,
     "metadata": {},
     "output_type": "execute_result"
    }
   ],
   "source": [
    "query = (\n",
    "    \"SELECT * FROM histone \"\n",
    "    f\"WHERE parent='{prev_name}'\"\n",
    ")\n",
    "cursor.execute(query)\n",
    "children = pd.DataFrame(cursor.fetchall(), columns=[i[0] for i in cursor.description])[\"id\"].values\n",
    "children"
   ]
  },
  {
   "cell_type": "code",
   "execution_count": 140,
   "id": "743299af-08b5-42f5-9063-ef364c83c675",
   "metadata": {
    "tags": []
   },
   "outputs": [
    {
     "data": {
      "text/plain": [
       "array(['anuar_gene_2019', 'chadwick_novel_2001', 'chew_short_2021',\n",
       "       'doyen_dissection_2006', 'hirano_histone_2021', 'jiang_short_2020',\n",
       "       'molaro_evolutionary_2018', 'soboleva_new_2017',\n",
       "       'soboleva_unique_2011', 'sugiyama_distinct_2014'], dtype=object)"
      ]
     },
     "execution_count": 140,
     "metadata": {},
     "output_type": "execute_result"
    }
   ],
   "source": [
    "query = (\n",
    "    \"SELECT * FROM histone h LEFT JOIN histone_has_publication hp \"\n",
    "    \"ON h.id = hp.histone_id \"\n",
    "    f\"WHERE h.id='{prev_name}'\"\n",
    ")\n",
    "cursor.execute(query)\n",
    "publications = pd.DataFrame(\n",
    "    cursor.fetchall(), columns=[i[0] for i in cursor.description]\n",
    ")[\"publication_id\"].values\n",
    "publications"
   ]
  },
  {
   "cell_type": "markdown",
   "id": "de789e3a-86fd-4e59-a2ad-e526b40a83c7",
   "metadata": {
    "tags": []
   },
   "source": [
    "### Delete relations"
   ]
  },
  {
   "cell_type": "code",
   "execution_count": 141,
   "id": "dbbfc382-1f7f-4829-864c-99a4d8c1baff",
   "metadata": {
    "tags": []
   },
   "outputs": [
    {
     "name": "stdout",
     "output_type": "stream",
     "text": [
      "DELETE FROM histone_has_publication WHERE histone_id = 'H2A.B'\n"
     ]
    }
   ],
   "source": [
    "query = f\"DELETE FROM histone_has_publication WHERE histone_id = '{prev_name}'\" \n",
    "print(query) \n",
    "cursor.execute(query)"
   ]
  },
  {
   "cell_type": "code",
   "execution_count": 142,
   "id": "63a8616c-766c-4012-b837-f84f3bf739b5",
   "metadata": {
    "tags": []
   },
   "outputs": [
    {
     "name": "stdout",
     "output_type": "stream",
     "text": [
      "UPDATE histone SET parent=null WHERE parent = 'H2A.B'\n"
     ]
    }
   ],
   "source": [
    "query = f\"UPDATE histone SET parent=null WHERE parent = '{prev_name}'\" \n",
    "print(query) \n",
    "cursor.execute(query) "
   ]
  },
  {
   "cell_type": "code",
   "execution_count": 143,
   "id": "6d946297-4f9a-4393-80b3-725df6ea40e8",
   "metadata": {
    "tags": []
   },
   "outputs": [
    {
     "data": {
      "text/html": [
       "<div>\n",
       "<style scoped>\n",
       "    .dataframe tbody tr th:only-of-type {\n",
       "        vertical-align: middle;\n",
       "    }\n",
       "\n",
       "    .dataframe tbody tr th {\n",
       "        vertical-align: top;\n",
       "    }\n",
       "\n",
       "    .dataframe thead th {\n",
       "        text-align: right;\n",
       "    }\n",
       "</style>\n",
       "<table border=\"1\" class=\"dataframe\">\n",
       "  <thead>\n",
       "    <tr style=\"text-align: right;\">\n",
       "      <th></th>\n",
       "      <th>id</th>\n",
       "      <th>level</th>\n",
       "      <th>taxonomic_span</th>\n",
       "      <th>taxonomic_span_id</th>\n",
       "      <th>description</th>\n",
       "      <th>parent</th>\n",
       "      <th>histone_id</th>\n",
       "      <th>publication_id</th>\n",
       "    </tr>\n",
       "  </thead>\n",
       "  <tbody>\n",
       "    <tr>\n",
       "      <th>0</th>\n",
       "      <td>H2A.B</td>\n",
       "      <td>variant</td>\n",
       "      <td>Eutheria</td>\n",
       "      <td>9347</td>\n",
       "      <td>83</td>\n",
       "      <td>short_H2A_(Eutheria)</td>\n",
       "      <td>None</td>\n",
       "      <td>None</td>\n",
       "    </tr>\n",
       "  </tbody>\n",
       "</table>\n",
       "</div>"
      ],
      "text/plain": [
       "      id    level taxonomic_span taxonomic_span_id  description  \\\n",
       "0  H2A.B  variant       Eutheria              9347           83   \n",
       "\n",
       "                 parent histone_id publication_id  \n",
       "0  short_H2A_(Eutheria)       None           None  "
      ]
     },
     "execution_count": 143,
     "metadata": {},
     "output_type": "execute_result"
    }
   ],
   "source": [
    "query = (\n",
    "    \"SELECT * FROM histone h LEFT JOIN histone_has_publication hp \"\n",
    "    \"ON h.id = hp.histone_id \"\n",
    "    f\"WHERE h.id='{prev_name}'\"\n",
    ")\n",
    "cursor.execute(query)\n",
    "pd.DataFrame(cursor.fetchall(), columns=[i[0] for i in cursor.description])"
   ]
  },
  {
   "cell_type": "code",
   "execution_count": 144,
   "id": "6246e38f-37a6-47c1-aa98-2e1ea8200036",
   "metadata": {
    "tags": []
   },
   "outputs": [
    {
     "data": {
      "text/html": [
       "<div>\n",
       "<style scoped>\n",
       "    .dataframe tbody tr th:only-of-type {\n",
       "        vertical-align: middle;\n",
       "    }\n",
       "\n",
       "    .dataframe tbody tr th {\n",
       "        vertical-align: top;\n",
       "    }\n",
       "\n",
       "    .dataframe thead th {\n",
       "        text-align: right;\n",
       "    }\n",
       "</style>\n",
       "<table border=\"1\" class=\"dataframe\">\n",
       "  <thead>\n",
       "    <tr style=\"text-align: right;\">\n",
       "      <th></th>\n",
       "      <th>id</th>\n",
       "      <th>level</th>\n",
       "      <th>taxonomic_span</th>\n",
       "      <th>taxonomic_span_id</th>\n",
       "      <th>description</th>\n",
       "      <th>parent</th>\n",
       "    </tr>\n",
       "  </thead>\n",
       "  <tbody>\n",
       "  </tbody>\n",
       "</table>\n",
       "</div>"
      ],
      "text/plain": [
       "Empty DataFrame\n",
       "Columns: [id, level, taxonomic_span, taxonomic_span_id, description, parent]\n",
       "Index: []"
      ]
     },
     "execution_count": 144,
     "metadata": {},
     "output_type": "execute_result"
    }
   ],
   "source": [
    "query = (\n",
    "    \"SELECT * FROM histone \"\n",
    "    f\"WHERE parent='{prev_name}'\"\n",
    ")\n",
    "cursor.execute(query)\n",
    "pd.DataFrame(cursor.fetchall(), columns=[i[0] for i in cursor.description])"
   ]
  },
  {
   "cell_type": "markdown",
   "id": "31bd9ecf-91f6-468f-aa26-670da42e2cb0",
   "metadata": {
    "tags": []
   },
   "source": [
    "### Update name"
   ]
  },
  {
   "cell_type": "code",
   "execution_count": 145,
   "id": "64d6d0d2-174a-4364-845c-95dd6330582c",
   "metadata": {
    "tags": []
   },
   "outputs": [
    {
     "name": "stdout",
     "output_type": "stream",
     "text": [
      "UPDATE histone SET id='H2A.B_(Eutheria)' WHERE id = 'H2A.B'\n"
     ]
    }
   ],
   "source": [
    "query = f\"UPDATE histone SET id='{new_name}' WHERE id = '{prev_name}'\" \n",
    "print(query) \n",
    "cursor.execute(query) "
   ]
  },
  {
   "cell_type": "code",
   "execution_count": 146,
   "id": "06b2881d-7af2-431b-9e8b-64b990447047",
   "metadata": {
    "tags": []
   },
   "outputs": [
    {
     "data": {
      "text/html": [
       "<div>\n",
       "<style scoped>\n",
       "    .dataframe tbody tr th:only-of-type {\n",
       "        vertical-align: middle;\n",
       "    }\n",
       "\n",
       "    .dataframe tbody tr th {\n",
       "        vertical-align: top;\n",
       "    }\n",
       "\n",
       "    .dataframe thead th {\n",
       "        text-align: right;\n",
       "    }\n",
       "</style>\n",
       "<table border=\"1\" class=\"dataframe\">\n",
       "  <thead>\n",
       "    <tr style=\"text-align: right;\">\n",
       "      <th></th>\n",
       "      <th>id</th>\n",
       "      <th>level</th>\n",
       "      <th>taxonomic_span</th>\n",
       "      <th>taxonomic_span_id</th>\n",
       "      <th>description</th>\n",
       "      <th>parent</th>\n",
       "      <th>histone_id</th>\n",
       "      <th>publication_id</th>\n",
       "    </tr>\n",
       "  </thead>\n",
       "  <tbody>\n",
       "    <tr>\n",
       "      <th>0</th>\n",
       "      <td>H2A.B_(Eutheria)</td>\n",
       "      <td>variant</td>\n",
       "      <td>Eutheria</td>\n",
       "      <td>9347</td>\n",
       "      <td>83</td>\n",
       "      <td>short_H2A_(Eutheria)</td>\n",
       "      <td>None</td>\n",
       "      <td>None</td>\n",
       "    </tr>\n",
       "  </tbody>\n",
       "</table>\n",
       "</div>"
      ],
      "text/plain": [
       "                 id    level taxonomic_span taxonomic_span_id  description  \\\n",
       "0  H2A.B_(Eutheria)  variant       Eutheria              9347           83   \n",
       "\n",
       "                 parent histone_id publication_id  \n",
       "0  short_H2A_(Eutheria)       None           None  "
      ]
     },
     "execution_count": 146,
     "metadata": {},
     "output_type": "execute_result"
    }
   ],
   "source": [
    "query = (\n",
    "    \"SELECT * FROM histone h LEFT JOIN histone_has_publication hp \"\n",
    "    \"ON h.id = hp.histone_id \"\n",
    "    f\"WHERE h.id='{new_name}'\"\n",
    ")\n",
    "cursor.execute(query)\n",
    "pd.DataFrame(cursor.fetchall(), columns=[i[0] for i in cursor.description])"
   ]
  },
  {
   "cell_type": "markdown",
   "id": "0c655559-b5b4-4d58-86a7-cdee6740c94b",
   "metadata": {},
   "source": [
    "### Return relations"
   ]
  },
  {
   "cell_type": "code",
   "execution_count": 147,
   "id": "0a75b62a-3c06-4099-82e9-9bacc77199cf",
   "metadata": {
    "tags": []
   },
   "outputs": [
    {
     "data": {
      "text/html": [
       "<div>\n",
       "<style scoped>\n",
       "    .dataframe tbody tr th:only-of-type {\n",
       "        vertical-align: middle;\n",
       "    }\n",
       "\n",
       "    .dataframe tbody tr th {\n",
       "        vertical-align: top;\n",
       "    }\n",
       "\n",
       "    .dataframe thead th {\n",
       "        text-align: right;\n",
       "    }\n",
       "</style>\n",
       "<table border=\"1\" class=\"dataframe\">\n",
       "  <thead>\n",
       "    <tr style=\"text-align: right;\">\n",
       "      <th></th>\n",
       "      <th>id</th>\n",
       "      <th>level</th>\n",
       "      <th>taxonomic_span</th>\n",
       "      <th>taxonomic_span_id</th>\n",
       "      <th>description</th>\n",
       "      <th>parent</th>\n",
       "    </tr>\n",
       "  </thead>\n",
       "  <tbody>\n",
       "    <tr>\n",
       "      <th>104</th>\n",
       "      <td>H2A.B_(Homo_sapiens)</td>\n",
       "      <td>variant</td>\n",
       "      <td>Homo sapiens</td>\n",
       "      <td>9606</td>\n",
       "      <td>119</td>\n",
       "      <td>None</td>\n",
       "    </tr>\n",
       "    <tr>\n",
       "      <th>105</th>\n",
       "      <td>H2A.B_(Mus_musculus)</td>\n",
       "      <td>variant</td>\n",
       "      <td>Mus musculus</td>\n",
       "      <td>10090</td>\n",
       "      <td>120</td>\n",
       "      <td>None</td>\n",
       "    </tr>\n",
       "  </tbody>\n",
       "</table>\n",
       "</div>"
      ],
      "text/plain": [
       "                       id    level taxonomic_span taxonomic_span_id  \\\n",
       "104  H2A.B_(Homo_sapiens)  variant   Homo sapiens              9606   \n",
       "105  H2A.B_(Mus_musculus)  variant   Mus musculus             10090   \n",
       "\n",
       "     description parent  \n",
       "104          119   None  \n",
       "105          120   None  "
      ]
     },
     "execution_count": 147,
     "metadata": {},
     "output_type": "execute_result"
    }
   ],
   "source": [
    "query = (\n",
    "    \"SELECT * FROM histone \"\n",
    ")\n",
    "cursor.execute(query)\n",
    "df = pd.DataFrame(cursor.fetchall(), columns=[i[0] for i in cursor.description])\n",
    "df[df[\"id\"].isin(children)]"
   ]
  },
  {
   "cell_type": "code",
   "execution_count": 148,
   "id": "cabe6d49-fe5b-4e4b-bc35-c98702072812",
   "metadata": {
    "tags": []
   },
   "outputs": [
    {
     "name": "stdout",
     "output_type": "stream",
     "text": [
      "UPDATE histone SET parent='H2A.B_(Eutheria)' WHERE id = 'H2A.B_(Homo_sapiens)'\n",
      "UPDATE histone SET parent='H2A.B_(Eutheria)' WHERE id = 'H2A.B_(Mus_musculus)'\n"
     ]
    }
   ],
   "source": [
    "for ch in children:\n",
    "    query = f\"UPDATE histone SET parent='{new_name}' WHERE id = '{ch}'\" \n",
    "    print(query)\n",
    "    cursor.execute(query)"
   ]
  },
  {
   "cell_type": "code",
   "execution_count": 149,
   "id": "63809126-da5d-4dfd-bfe1-a27691791782",
   "metadata": {
    "tags": []
   },
   "outputs": [
    {
     "data": {
      "text/html": [
       "<div>\n",
       "<style scoped>\n",
       "    .dataframe tbody tr th:only-of-type {\n",
       "        vertical-align: middle;\n",
       "    }\n",
       "\n",
       "    .dataframe tbody tr th {\n",
       "        vertical-align: top;\n",
       "    }\n",
       "\n",
       "    .dataframe thead th {\n",
       "        text-align: right;\n",
       "    }\n",
       "</style>\n",
       "<table border=\"1\" class=\"dataframe\">\n",
       "  <thead>\n",
       "    <tr style=\"text-align: right;\">\n",
       "      <th></th>\n",
       "      <th>id</th>\n",
       "      <th>level</th>\n",
       "      <th>taxonomic_span</th>\n",
       "      <th>taxonomic_span_id</th>\n",
       "      <th>description</th>\n",
       "      <th>parent</th>\n",
       "    </tr>\n",
       "  </thead>\n",
       "  <tbody>\n",
       "    <tr>\n",
       "      <th>0</th>\n",
       "      <td>H2A.B_(Homo_sapiens)</td>\n",
       "      <td>variant</td>\n",
       "      <td>Homo sapiens</td>\n",
       "      <td>9606</td>\n",
       "      <td>119</td>\n",
       "      <td>H2A.B_(Eutheria)</td>\n",
       "    </tr>\n",
       "    <tr>\n",
       "      <th>1</th>\n",
       "      <td>H2A.B_(Mus_musculus)</td>\n",
       "      <td>variant</td>\n",
       "      <td>Mus musculus</td>\n",
       "      <td>10090</td>\n",
       "      <td>120</td>\n",
       "      <td>H2A.B_(Eutheria)</td>\n",
       "    </tr>\n",
       "  </tbody>\n",
       "</table>\n",
       "</div>"
      ],
      "text/plain": [
       "                     id    level taxonomic_span taxonomic_span_id  \\\n",
       "0  H2A.B_(Homo_sapiens)  variant   Homo sapiens              9606   \n",
       "1  H2A.B_(Mus_musculus)  variant   Mus musculus             10090   \n",
       "\n",
       "   description            parent  \n",
       "0          119  H2A.B_(Eutheria)  \n",
       "1          120  H2A.B_(Eutheria)  "
      ]
     },
     "execution_count": 149,
     "metadata": {},
     "output_type": "execute_result"
    }
   ],
   "source": [
    "query = (\n",
    "    \"SELECT * FROM histone \"\n",
    "    f\"WHERE parent='{new_name}'\"\n",
    ")\n",
    "cursor.execute(query)\n",
    "pd.DataFrame(cursor.fetchall(), columns=[i[0] for i in cursor.description])"
   ]
  },
  {
   "cell_type": "code",
   "execution_count": 150,
   "id": "2ec4cc7a-0add-43c9-aa9c-5069081ab920",
   "metadata": {
    "tags": []
   },
   "outputs": [],
   "source": [
    "query = \"SELECT id FROM publication\"\n",
    "cursor.execute(query)\n",
    "exist_pubs = [i[0] for i in cursor.fetchall()]\n",
    "for pid in publications:\n",
    "    if pid not in exist_pubs:\n",
    "        print(f\"Strange {pid}\")\n",
    "    cursor.execute(add_histone_has_publication, (new_name, pid))"
   ]
  },
  {
   "cell_type": "code",
   "execution_count": 151,
   "id": "21d5b7c9-121f-4fce-95d6-70fc7ea064c3",
   "metadata": {
    "tags": []
   },
   "outputs": [
    {
     "data": {
      "text/html": [
       "<div>\n",
       "<style scoped>\n",
       "    .dataframe tbody tr th:only-of-type {\n",
       "        vertical-align: middle;\n",
       "    }\n",
       "\n",
       "    .dataframe tbody tr th {\n",
       "        vertical-align: top;\n",
       "    }\n",
       "\n",
       "    .dataframe thead th {\n",
       "        text-align: right;\n",
       "    }\n",
       "</style>\n",
       "<table border=\"1\" class=\"dataframe\">\n",
       "  <thead>\n",
       "    <tr style=\"text-align: right;\">\n",
       "      <th></th>\n",
       "      <th>id</th>\n",
       "      <th>level</th>\n",
       "      <th>taxonomic_span</th>\n",
       "      <th>taxonomic_span_id</th>\n",
       "      <th>description</th>\n",
       "      <th>parent</th>\n",
       "      <th>histone_id</th>\n",
       "      <th>publication_id</th>\n",
       "    </tr>\n",
       "  </thead>\n",
       "  <tbody>\n",
       "    <tr>\n",
       "      <th>0</th>\n",
       "      <td>H2A.B_(Eutheria)</td>\n",
       "      <td>variant</td>\n",
       "      <td>Eutheria</td>\n",
       "      <td>9347</td>\n",
       "      <td>83</td>\n",
       "      <td>short_H2A_(Eutheria)</td>\n",
       "      <td>H2A.B_(Eutheria)</td>\n",
       "      <td>anuar_gene_2019</td>\n",
       "    </tr>\n",
       "    <tr>\n",
       "      <th>1</th>\n",
       "      <td>H2A.B_(Eutheria)</td>\n",
       "      <td>variant</td>\n",
       "      <td>Eutheria</td>\n",
       "      <td>9347</td>\n",
       "      <td>83</td>\n",
       "      <td>short_H2A_(Eutheria)</td>\n",
       "      <td>H2A.B_(Eutheria)</td>\n",
       "      <td>chadwick_novel_2001</td>\n",
       "    </tr>\n",
       "    <tr>\n",
       "      <th>2</th>\n",
       "      <td>H2A.B_(Eutheria)</td>\n",
       "      <td>variant</td>\n",
       "      <td>Eutheria</td>\n",
       "      <td>9347</td>\n",
       "      <td>83</td>\n",
       "      <td>short_H2A_(Eutheria)</td>\n",
       "      <td>H2A.B_(Eutheria)</td>\n",
       "      <td>chew_short_2021</td>\n",
       "    </tr>\n",
       "    <tr>\n",
       "      <th>3</th>\n",
       "      <td>H2A.B_(Eutheria)</td>\n",
       "      <td>variant</td>\n",
       "      <td>Eutheria</td>\n",
       "      <td>9347</td>\n",
       "      <td>83</td>\n",
       "      <td>short_H2A_(Eutheria)</td>\n",
       "      <td>H2A.B_(Eutheria)</td>\n",
       "      <td>doyen_dissection_2006</td>\n",
       "    </tr>\n",
       "    <tr>\n",
       "      <th>4</th>\n",
       "      <td>H2A.B_(Eutheria)</td>\n",
       "      <td>variant</td>\n",
       "      <td>Eutheria</td>\n",
       "      <td>9347</td>\n",
       "      <td>83</td>\n",
       "      <td>short_H2A_(Eutheria)</td>\n",
       "      <td>H2A.B_(Eutheria)</td>\n",
       "      <td>hirano_histone_2021</td>\n",
       "    </tr>\n",
       "    <tr>\n",
       "      <th>5</th>\n",
       "      <td>H2A.B_(Eutheria)</td>\n",
       "      <td>variant</td>\n",
       "      <td>Eutheria</td>\n",
       "      <td>9347</td>\n",
       "      <td>83</td>\n",
       "      <td>short_H2A_(Eutheria)</td>\n",
       "      <td>H2A.B_(Eutheria)</td>\n",
       "      <td>jiang_short_2020</td>\n",
       "    </tr>\n",
       "    <tr>\n",
       "      <th>6</th>\n",
       "      <td>H2A.B_(Eutheria)</td>\n",
       "      <td>variant</td>\n",
       "      <td>Eutheria</td>\n",
       "      <td>9347</td>\n",
       "      <td>83</td>\n",
       "      <td>short_H2A_(Eutheria)</td>\n",
       "      <td>H2A.B_(Eutheria)</td>\n",
       "      <td>molaro_evolutionary_2018</td>\n",
       "    </tr>\n",
       "    <tr>\n",
       "      <th>7</th>\n",
       "      <td>H2A.B_(Eutheria)</td>\n",
       "      <td>variant</td>\n",
       "      <td>Eutheria</td>\n",
       "      <td>9347</td>\n",
       "      <td>83</td>\n",
       "      <td>short_H2A_(Eutheria)</td>\n",
       "      <td>H2A.B_(Eutheria)</td>\n",
       "      <td>soboleva_new_2017</td>\n",
       "    </tr>\n",
       "    <tr>\n",
       "      <th>8</th>\n",
       "      <td>H2A.B_(Eutheria)</td>\n",
       "      <td>variant</td>\n",
       "      <td>Eutheria</td>\n",
       "      <td>9347</td>\n",
       "      <td>83</td>\n",
       "      <td>short_H2A_(Eutheria)</td>\n",
       "      <td>H2A.B_(Eutheria)</td>\n",
       "      <td>soboleva_unique_2011</td>\n",
       "    </tr>\n",
       "    <tr>\n",
       "      <th>9</th>\n",
       "      <td>H2A.B_(Eutheria)</td>\n",
       "      <td>variant</td>\n",
       "      <td>Eutheria</td>\n",
       "      <td>9347</td>\n",
       "      <td>83</td>\n",
       "      <td>short_H2A_(Eutheria)</td>\n",
       "      <td>H2A.B_(Eutheria)</td>\n",
       "      <td>sugiyama_distinct_2014</td>\n",
       "    </tr>\n",
       "  </tbody>\n",
       "</table>\n",
       "</div>"
      ],
      "text/plain": [
       "                 id    level taxonomic_span taxonomic_span_id  description  \\\n",
       "0  H2A.B_(Eutheria)  variant       Eutheria              9347           83   \n",
       "1  H2A.B_(Eutheria)  variant       Eutheria              9347           83   \n",
       "2  H2A.B_(Eutheria)  variant       Eutheria              9347           83   \n",
       "3  H2A.B_(Eutheria)  variant       Eutheria              9347           83   \n",
       "4  H2A.B_(Eutheria)  variant       Eutheria              9347           83   \n",
       "5  H2A.B_(Eutheria)  variant       Eutheria              9347           83   \n",
       "6  H2A.B_(Eutheria)  variant       Eutheria              9347           83   \n",
       "7  H2A.B_(Eutheria)  variant       Eutheria              9347           83   \n",
       "8  H2A.B_(Eutheria)  variant       Eutheria              9347           83   \n",
       "9  H2A.B_(Eutheria)  variant       Eutheria              9347           83   \n",
       "\n",
       "                 parent        histone_id            publication_id  \n",
       "0  short_H2A_(Eutheria)  H2A.B_(Eutheria)           anuar_gene_2019  \n",
       "1  short_H2A_(Eutheria)  H2A.B_(Eutheria)       chadwick_novel_2001  \n",
       "2  short_H2A_(Eutheria)  H2A.B_(Eutheria)           chew_short_2021  \n",
       "3  short_H2A_(Eutheria)  H2A.B_(Eutheria)     doyen_dissection_2006  \n",
       "4  short_H2A_(Eutheria)  H2A.B_(Eutheria)       hirano_histone_2021  \n",
       "5  short_H2A_(Eutheria)  H2A.B_(Eutheria)          jiang_short_2020  \n",
       "6  short_H2A_(Eutheria)  H2A.B_(Eutheria)  molaro_evolutionary_2018  \n",
       "7  short_H2A_(Eutheria)  H2A.B_(Eutheria)         soboleva_new_2017  \n",
       "8  short_H2A_(Eutheria)  H2A.B_(Eutheria)      soboleva_unique_2011  \n",
       "9  short_H2A_(Eutheria)  H2A.B_(Eutheria)    sugiyama_distinct_2014  "
      ]
     },
     "execution_count": 151,
     "metadata": {},
     "output_type": "execute_result"
    }
   ],
   "source": [
    "query = (\n",
    "    \"SELECT * FROM histone h LEFT JOIN histone_has_publication hp \"\n",
    "    \"ON h.id = hp.histone_id \"\n",
    "    f\"WHERE h.id='{new_name}'\"\n",
    ")\n",
    "cursor.execute(query)\n",
    "pd.DataFrame(cursor.fetchall(), columns=[i[0] for i in cursor.description])"
   ]
  },
  {
   "cell_type": "code",
   "execution_count": 152,
   "id": "11e4443b-3a5a-4d1a-924b-a70e618a7f7d",
   "metadata": {
    "tags": []
   },
   "outputs": [],
   "source": [
    "# Make sure data is committed to the database\n",
    "conn.commit()"
   ]
  },
  {
   "cell_type": "markdown",
   "id": "df064fa3-dc40-471b-aec7-f9395ba50bb7",
   "metadata": {
    "tags": []
   },
   "source": [
    "## Change name from H2A.L → H2A.L_(Eutheria)"
   ]
  },
  {
   "cell_type": "code",
   "execution_count": 153,
   "id": "cbcfb9c3-1694-488d-a3a6-9c2d8f69a0bb",
   "metadata": {
    "tags": []
   },
   "outputs": [],
   "source": [
    "prev_name, new_name = \"H2A.L\", \"H2A.L_(Eutheria)\""
   ]
  },
  {
   "cell_type": "code",
   "execution_count": 154,
   "id": "7f691615-cec9-4dd2-b350-03ea4cc5b541",
   "metadata": {
    "tags": []
   },
   "outputs": [
    {
     "data": {
      "text/html": [
       "<div>\n",
       "<style scoped>\n",
       "    .dataframe tbody tr th:only-of-type {\n",
       "        vertical-align: middle;\n",
       "    }\n",
       "\n",
       "    .dataframe tbody tr th {\n",
       "        vertical-align: top;\n",
       "    }\n",
       "\n",
       "    .dataframe thead th {\n",
       "        text-align: right;\n",
       "    }\n",
       "</style>\n",
       "<table border=\"1\" class=\"dataframe\">\n",
       "  <thead>\n",
       "    <tr style=\"text-align: right;\">\n",
       "      <th></th>\n",
       "      <th>id</th>\n",
       "      <th>level</th>\n",
       "      <th>taxonomic_span</th>\n",
       "      <th>taxonomic_span_id</th>\n",
       "      <th>description</th>\n",
       "      <th>parent</th>\n",
       "      <th>histone_id</th>\n",
       "      <th>publication_id</th>\n",
       "    </tr>\n",
       "  </thead>\n",
       "  <tbody>\n",
       "    <tr>\n",
       "      <th>0</th>\n",
       "      <td>H2A.L</td>\n",
       "      <td>variant</td>\n",
       "      <td>Eutheria</td>\n",
       "      <td>9347</td>\n",
       "      <td>84</td>\n",
       "      <td>short_H2A_(Eutheria)</td>\n",
       "      <td>H2A.L</td>\n",
       "      <td>govin_pericentric_2007</td>\n",
       "    </tr>\n",
       "    <tr>\n",
       "      <th>1</th>\n",
       "      <td>H2A.L</td>\n",
       "      <td>variant</td>\n",
       "      <td>Eutheria</td>\n",
       "      <td>9347</td>\n",
       "      <td>84</td>\n",
       "      <td>short_H2A_(Eutheria)</td>\n",
       "      <td>H2A.L</td>\n",
       "      <td>17261847</td>\n",
       "    </tr>\n",
       "    <tr>\n",
       "      <th>2</th>\n",
       "      <td>H2A.L</td>\n",
       "      <td>variant</td>\n",
       "      <td>Eutheria</td>\n",
       "      <td>9347</td>\n",
       "      <td>84</td>\n",
       "      <td>short_H2A_(Eutheria)</td>\n",
       "      <td>H2A.L</td>\n",
       "      <td>18703863</td>\n",
       "    </tr>\n",
       "    <tr>\n",
       "      <th>3</th>\n",
       "      <td>H2A.L</td>\n",
       "      <td>variant</td>\n",
       "      <td>Eutheria</td>\n",
       "      <td>9347</td>\n",
       "      <td>84</td>\n",
       "      <td>short_H2A_(Eutheria)</td>\n",
       "      <td>H2A.L</td>\n",
       "      <td>19506029</td>\n",
       "    </tr>\n",
       "    <tr>\n",
       "      <th>4</th>\n",
       "      <td>H2A.L</td>\n",
       "      <td>variant</td>\n",
       "      <td>Eutheria</td>\n",
       "      <td>9347</td>\n",
       "      <td>84</td>\n",
       "      <td>short_H2A_(Eutheria)</td>\n",
       "      <td>H2A.L</td>\n",
       "      <td>22650316</td>\n",
       "    </tr>\n",
       "    <tr>\n",
       "      <th>5</th>\n",
       "      <td>H2A.L</td>\n",
       "      <td>variant</td>\n",
       "      <td>Eutheria</td>\n",
       "      <td>9347</td>\n",
       "      <td>84</td>\n",
       "      <td>short_H2A_(Eutheria)</td>\n",
       "      <td>H2A.L</td>\n",
       "      <td>25731851</td>\n",
       "    </tr>\n",
       "    <tr>\n",
       "      <th>6</th>\n",
       "      <td>H2A.L</td>\n",
       "      <td>variant</td>\n",
       "      <td>Eutheria</td>\n",
       "      <td>9347</td>\n",
       "      <td>84</td>\n",
       "      <td>short_H2A_(Eutheria)</td>\n",
       "      <td>H2A.L</td>\n",
       "      <td>barral_histone_2017</td>\n",
       "    </tr>\n",
       "    <tr>\n",
       "      <th>7</th>\n",
       "      <td>H2A.L</td>\n",
       "      <td>variant</td>\n",
       "      <td>Eutheria</td>\n",
       "      <td>9347</td>\n",
       "      <td>84</td>\n",
       "      <td>short_H2A_(Eutheria)</td>\n",
       "      <td>H2A.L</td>\n",
       "      <td>govin_pericentric_2007</td>\n",
       "    </tr>\n",
       "    <tr>\n",
       "      <th>8</th>\n",
       "      <td>H2A.L</td>\n",
       "      <td>variant</td>\n",
       "      <td>Eutheria</td>\n",
       "      <td>9347</td>\n",
       "      <td>84</td>\n",
       "      <td>short_H2A_(Eutheria)</td>\n",
       "      <td>H2A.L</td>\n",
       "      <td>hoghoughi_rna-guided_2020</td>\n",
       "    </tr>\n",
       "    <tr>\n",
       "      <th>9</th>\n",
       "      <td>H2A.L</td>\n",
       "      <td>variant</td>\n",
       "      <td>Eutheria</td>\n",
       "      <td>9347</td>\n",
       "      <td>84</td>\n",
       "      <td>short_H2A_(Eutheria)</td>\n",
       "      <td>H2A.L</td>\n",
       "      <td>molaro_evolutionary_2018</td>\n",
       "    </tr>\n",
       "    <tr>\n",
       "      <th>10</th>\n",
       "      <td>H2A.L</td>\n",
       "      <td>variant</td>\n",
       "      <td>Eutheria</td>\n",
       "      <td>9347</td>\n",
       "      <td>84</td>\n",
       "      <td>short_H2A_(Eutheria)</td>\n",
       "      <td>H2A.L</td>\n",
       "      <td>Seal et al. unpublished</td>\n",
       "    </tr>\n",
       "    <tr>\n",
       "      <th>11</th>\n",
       "      <td>H2A.L</td>\n",
       "      <td>variant</td>\n",
       "      <td>Eutheria</td>\n",
       "      <td>9347</td>\n",
       "      <td>84</td>\n",
       "      <td>short_H2A_(Eutheria)</td>\n",
       "      <td>H2A.L</td>\n",
       "      <td>soboleva_unique_2011</td>\n",
       "    </tr>\n",
       "  </tbody>\n",
       "</table>\n",
       "</div>"
      ],
      "text/plain": [
       "       id    level taxonomic_span taxonomic_span_id  description  \\\n",
       "0   H2A.L  variant       Eutheria              9347           84   \n",
       "1   H2A.L  variant       Eutheria              9347           84   \n",
       "2   H2A.L  variant       Eutheria              9347           84   \n",
       "3   H2A.L  variant       Eutheria              9347           84   \n",
       "4   H2A.L  variant       Eutheria              9347           84   \n",
       "5   H2A.L  variant       Eutheria              9347           84   \n",
       "6   H2A.L  variant       Eutheria              9347           84   \n",
       "7   H2A.L  variant       Eutheria              9347           84   \n",
       "8   H2A.L  variant       Eutheria              9347           84   \n",
       "9   H2A.L  variant       Eutheria              9347           84   \n",
       "10  H2A.L  variant       Eutheria              9347           84   \n",
       "11  H2A.L  variant       Eutheria              9347           84   \n",
       "\n",
       "                  parent histone_id             publication_id  \n",
       "0   short_H2A_(Eutheria)      H2A.L     govin_pericentric_2007  \n",
       "1   short_H2A_(Eutheria)      H2A.L                   17261847  \n",
       "2   short_H2A_(Eutheria)      H2A.L                   18703863  \n",
       "3   short_H2A_(Eutheria)      H2A.L                   19506029  \n",
       "4   short_H2A_(Eutheria)      H2A.L                   22650316  \n",
       "5   short_H2A_(Eutheria)      H2A.L                   25731851  \n",
       "6   short_H2A_(Eutheria)      H2A.L        barral_histone_2017  \n",
       "7   short_H2A_(Eutheria)      H2A.L     govin_pericentric_2007  \n",
       "8   short_H2A_(Eutheria)      H2A.L  hoghoughi_rna-guided_2020  \n",
       "9   short_H2A_(Eutheria)      H2A.L   molaro_evolutionary_2018  \n",
       "10  short_H2A_(Eutheria)      H2A.L    Seal et al. unpublished  \n",
       "11  short_H2A_(Eutheria)      H2A.L       soboleva_unique_2011  "
      ]
     },
     "execution_count": 154,
     "metadata": {},
     "output_type": "execute_result"
    }
   ],
   "source": [
    "query = (\n",
    "    \"SELECT * FROM histone h LEFT JOIN histone_has_publication hp \"\n",
    "    \"ON h.id = hp.histone_id \"\n",
    "    f\"WHERE h.id='{prev_name}'\"\n",
    ")\n",
    "cursor.execute(query)\n",
    "pd.DataFrame(cursor.fetchall(), columns=[i[0] for i in cursor.description])"
   ]
  },
  {
   "cell_type": "code",
   "execution_count": 155,
   "id": "c7108a89-e50b-4ed7-9c72-11e93b845064",
   "metadata": {
    "tags": []
   },
   "outputs": [
    {
     "data": {
      "text/html": [
       "<div>\n",
       "<style scoped>\n",
       "    .dataframe tbody tr th:only-of-type {\n",
       "        vertical-align: middle;\n",
       "    }\n",
       "\n",
       "    .dataframe tbody tr th {\n",
       "        vertical-align: top;\n",
       "    }\n",
       "\n",
       "    .dataframe thead th {\n",
       "        text-align: right;\n",
       "    }\n",
       "</style>\n",
       "<table border=\"1\" class=\"dataframe\">\n",
       "  <thead>\n",
       "    <tr style=\"text-align: right;\">\n",
       "      <th></th>\n",
       "      <th>id</th>\n",
       "      <th>level</th>\n",
       "      <th>taxonomic_span</th>\n",
       "      <th>taxonomic_span_id</th>\n",
       "      <th>description</th>\n",
       "      <th>parent</th>\n",
       "    </tr>\n",
       "  </thead>\n",
       "  <tbody>\n",
       "    <tr>\n",
       "      <th>0</th>\n",
       "      <td>H2A.L_(Homo_sapiens)</td>\n",
       "      <td>variant</td>\n",
       "      <td>Homo sapiens</td>\n",
       "      <td>9606</td>\n",
       "      <td>121</td>\n",
       "      <td>H2A.L</td>\n",
       "    </tr>\n",
       "    <tr>\n",
       "      <th>1</th>\n",
       "      <td>H2A.L_(Mus_musculus)</td>\n",
       "      <td>variant</td>\n",
       "      <td>Mus musculus</td>\n",
       "      <td>10090</td>\n",
       "      <td>122</td>\n",
       "      <td>H2A.L</td>\n",
       "    </tr>\n",
       "  </tbody>\n",
       "</table>\n",
       "</div>"
      ],
      "text/plain": [
       "                     id    level taxonomic_span taxonomic_span_id  \\\n",
       "0  H2A.L_(Homo_sapiens)  variant   Homo sapiens              9606   \n",
       "1  H2A.L_(Mus_musculus)  variant   Mus musculus             10090   \n",
       "\n",
       "   description parent  \n",
       "0          121  H2A.L  \n",
       "1          122  H2A.L  "
      ]
     },
     "execution_count": 155,
     "metadata": {},
     "output_type": "execute_result"
    }
   ],
   "source": [
    "query = (\n",
    "    \"SELECT * FROM histone \"\n",
    "    f\"WHERE parent='{prev_name}'\"\n",
    ")\n",
    "cursor.execute(query)\n",
    "pd.DataFrame(cursor.fetchall(), columns=[i[0] for i in cursor.description])"
   ]
  },
  {
   "cell_type": "markdown",
   "id": "d0e2d816-40b5-46f4-a229-0777dd30d00c",
   "metadata": {
    "tags": []
   },
   "source": [
    "### Save children and publications"
   ]
  },
  {
   "cell_type": "code",
   "execution_count": 156,
   "id": "fb4b7ef3-193c-40f6-b925-6d43fe25f91b",
   "metadata": {
    "tags": []
   },
   "outputs": [
    {
     "data": {
      "text/plain": [
       "array(['H2A.L_(Homo_sapiens)', 'H2A.L_(Mus_musculus)'], dtype=object)"
      ]
     },
     "execution_count": 156,
     "metadata": {},
     "output_type": "execute_result"
    }
   ],
   "source": [
    "query = (\n",
    "    \"SELECT * FROM histone \"\n",
    "    f\"WHERE parent='{prev_name}'\"\n",
    ")\n",
    "cursor.execute(query)\n",
    "children = pd.DataFrame(cursor.fetchall(), columns=[i[0] for i in cursor.description])[\"id\"].values\n",
    "children"
   ]
  },
  {
   "cell_type": "code",
   "execution_count": 157,
   "id": "bc5d251d-fe29-40b7-bc1d-4d180d8e14bb",
   "metadata": {
    "tags": []
   },
   "outputs": [
    {
     "data": {
      "text/plain": [
       "array([' govin_pericentric_2007', '17261847', '18703863', '19506029',\n",
       "       '22650316', '25731851', 'barral_histone_2017',\n",
       "       'govin_pericentric_2007', 'hoghoughi_rna-guided_2020',\n",
       "       'molaro_evolutionary_2018', 'Seal et al. unpublished',\n",
       "       'soboleva_unique_2011'], dtype=object)"
      ]
     },
     "execution_count": 157,
     "metadata": {},
     "output_type": "execute_result"
    }
   ],
   "source": [
    "query = (\n",
    "    \"SELECT * FROM histone h LEFT JOIN histone_has_publication hp \"\n",
    "    \"ON h.id = hp.histone_id \"\n",
    "    f\"WHERE h.id='{prev_name}'\"\n",
    ")\n",
    "cursor.execute(query)\n",
    "publications = pd.DataFrame(\n",
    "    cursor.fetchall(), columns=[i[0] for i in cursor.description]\n",
    ")[\"publication_id\"].values\n",
    "publications"
   ]
  },
  {
   "cell_type": "markdown",
   "id": "c2312c8e-04d5-465f-8db1-0e7c4f92db75",
   "metadata": {
    "tags": []
   },
   "source": [
    "### Delete relations"
   ]
  },
  {
   "cell_type": "code",
   "execution_count": 158,
   "id": "7f1aefef-ce06-4382-946c-69b6e1ef9ec4",
   "metadata": {
    "tags": []
   },
   "outputs": [
    {
     "name": "stdout",
     "output_type": "stream",
     "text": [
      "DELETE FROM histone_has_publication WHERE histone_id = 'H2A.L'\n"
     ]
    }
   ],
   "source": [
    "query = f\"DELETE FROM histone_has_publication WHERE histone_id = '{prev_name}'\" \n",
    "print(query) \n",
    "cursor.execute(query)"
   ]
  },
  {
   "cell_type": "code",
   "execution_count": 159,
   "id": "0c6cb983-b3e4-4d60-be2d-be65cf22d7a5",
   "metadata": {
    "tags": []
   },
   "outputs": [
    {
     "name": "stdout",
     "output_type": "stream",
     "text": [
      "UPDATE histone SET parent=null WHERE parent = 'H2A.L'\n"
     ]
    }
   ],
   "source": [
    "query = f\"UPDATE histone SET parent=null WHERE parent = '{prev_name}'\" \n",
    "print(query) \n",
    "cursor.execute(query) "
   ]
  },
  {
   "cell_type": "code",
   "execution_count": 160,
   "id": "117390b6-2093-4ca8-9a43-a9faac7617f6",
   "metadata": {
    "tags": []
   },
   "outputs": [
    {
     "data": {
      "text/html": [
       "<div>\n",
       "<style scoped>\n",
       "    .dataframe tbody tr th:only-of-type {\n",
       "        vertical-align: middle;\n",
       "    }\n",
       "\n",
       "    .dataframe tbody tr th {\n",
       "        vertical-align: top;\n",
       "    }\n",
       "\n",
       "    .dataframe thead th {\n",
       "        text-align: right;\n",
       "    }\n",
       "</style>\n",
       "<table border=\"1\" class=\"dataframe\">\n",
       "  <thead>\n",
       "    <tr style=\"text-align: right;\">\n",
       "      <th></th>\n",
       "      <th>id</th>\n",
       "      <th>level</th>\n",
       "      <th>taxonomic_span</th>\n",
       "      <th>taxonomic_span_id</th>\n",
       "      <th>description</th>\n",
       "      <th>parent</th>\n",
       "      <th>histone_id</th>\n",
       "      <th>publication_id</th>\n",
       "    </tr>\n",
       "  </thead>\n",
       "  <tbody>\n",
       "    <tr>\n",
       "      <th>0</th>\n",
       "      <td>H2A.L</td>\n",
       "      <td>variant</td>\n",
       "      <td>Eutheria</td>\n",
       "      <td>9347</td>\n",
       "      <td>84</td>\n",
       "      <td>short_H2A_(Eutheria)</td>\n",
       "      <td>None</td>\n",
       "      <td>None</td>\n",
       "    </tr>\n",
       "  </tbody>\n",
       "</table>\n",
       "</div>"
      ],
      "text/plain": [
       "      id    level taxonomic_span taxonomic_span_id  description  \\\n",
       "0  H2A.L  variant       Eutheria              9347           84   \n",
       "\n",
       "                 parent histone_id publication_id  \n",
       "0  short_H2A_(Eutheria)       None           None  "
      ]
     },
     "execution_count": 160,
     "metadata": {},
     "output_type": "execute_result"
    }
   ],
   "source": [
    "query = (\n",
    "    \"SELECT * FROM histone h LEFT JOIN histone_has_publication hp \"\n",
    "    \"ON h.id = hp.histone_id \"\n",
    "    f\"WHERE h.id='{prev_name}'\"\n",
    ")\n",
    "cursor.execute(query)\n",
    "pd.DataFrame(cursor.fetchall(), columns=[i[0] for i in cursor.description])"
   ]
  },
  {
   "cell_type": "code",
   "execution_count": 161,
   "id": "d6a5c814-d36c-4264-88a9-bb85ab24e4a0",
   "metadata": {
    "tags": []
   },
   "outputs": [
    {
     "data": {
      "text/html": [
       "<div>\n",
       "<style scoped>\n",
       "    .dataframe tbody tr th:only-of-type {\n",
       "        vertical-align: middle;\n",
       "    }\n",
       "\n",
       "    .dataframe tbody tr th {\n",
       "        vertical-align: top;\n",
       "    }\n",
       "\n",
       "    .dataframe thead th {\n",
       "        text-align: right;\n",
       "    }\n",
       "</style>\n",
       "<table border=\"1\" class=\"dataframe\">\n",
       "  <thead>\n",
       "    <tr style=\"text-align: right;\">\n",
       "      <th></th>\n",
       "      <th>id</th>\n",
       "      <th>level</th>\n",
       "      <th>taxonomic_span</th>\n",
       "      <th>taxonomic_span_id</th>\n",
       "      <th>description</th>\n",
       "      <th>parent</th>\n",
       "    </tr>\n",
       "  </thead>\n",
       "  <tbody>\n",
       "  </tbody>\n",
       "</table>\n",
       "</div>"
      ],
      "text/plain": [
       "Empty DataFrame\n",
       "Columns: [id, level, taxonomic_span, taxonomic_span_id, description, parent]\n",
       "Index: []"
      ]
     },
     "execution_count": 161,
     "metadata": {},
     "output_type": "execute_result"
    }
   ],
   "source": [
    "query = (\n",
    "    \"SELECT * FROM histone \"\n",
    "    f\"WHERE parent='{prev_name}'\"\n",
    ")\n",
    "cursor.execute(query)\n",
    "pd.DataFrame(cursor.fetchall(), columns=[i[0] for i in cursor.description])"
   ]
  },
  {
   "cell_type": "markdown",
   "id": "f1dbfd0a-f1d2-40e3-9561-5f48234c4c4c",
   "metadata": {
    "tags": []
   },
   "source": [
    "### Update name"
   ]
  },
  {
   "cell_type": "code",
   "execution_count": 162,
   "id": "57919783-7db8-4152-b056-666707267a91",
   "metadata": {
    "tags": []
   },
   "outputs": [
    {
     "name": "stdout",
     "output_type": "stream",
     "text": [
      "UPDATE histone SET id='H2A.L_(Eutheria)' WHERE id = 'H2A.L'\n"
     ]
    }
   ],
   "source": [
    "query = f\"UPDATE histone SET id='{new_name}' WHERE id = '{prev_name}'\" \n",
    "print(query) \n",
    "cursor.execute(query) "
   ]
  },
  {
   "cell_type": "code",
   "execution_count": 163,
   "id": "5baee127-dab0-4694-9ea0-ad4d3b602071",
   "metadata": {
    "tags": []
   },
   "outputs": [
    {
     "data": {
      "text/html": [
       "<div>\n",
       "<style scoped>\n",
       "    .dataframe tbody tr th:only-of-type {\n",
       "        vertical-align: middle;\n",
       "    }\n",
       "\n",
       "    .dataframe tbody tr th {\n",
       "        vertical-align: top;\n",
       "    }\n",
       "\n",
       "    .dataframe thead th {\n",
       "        text-align: right;\n",
       "    }\n",
       "</style>\n",
       "<table border=\"1\" class=\"dataframe\">\n",
       "  <thead>\n",
       "    <tr style=\"text-align: right;\">\n",
       "      <th></th>\n",
       "      <th>id</th>\n",
       "      <th>level</th>\n",
       "      <th>taxonomic_span</th>\n",
       "      <th>taxonomic_span_id</th>\n",
       "      <th>description</th>\n",
       "      <th>parent</th>\n",
       "      <th>histone_id</th>\n",
       "      <th>publication_id</th>\n",
       "    </tr>\n",
       "  </thead>\n",
       "  <tbody>\n",
       "    <tr>\n",
       "      <th>0</th>\n",
       "      <td>H2A.L_(Eutheria)</td>\n",
       "      <td>variant</td>\n",
       "      <td>Eutheria</td>\n",
       "      <td>9347</td>\n",
       "      <td>84</td>\n",
       "      <td>short_H2A_(Eutheria)</td>\n",
       "      <td>None</td>\n",
       "      <td>None</td>\n",
       "    </tr>\n",
       "  </tbody>\n",
       "</table>\n",
       "</div>"
      ],
      "text/plain": [
       "                 id    level taxonomic_span taxonomic_span_id  description  \\\n",
       "0  H2A.L_(Eutheria)  variant       Eutheria              9347           84   \n",
       "\n",
       "                 parent histone_id publication_id  \n",
       "0  short_H2A_(Eutheria)       None           None  "
      ]
     },
     "execution_count": 163,
     "metadata": {},
     "output_type": "execute_result"
    }
   ],
   "source": [
    "query = (\n",
    "    \"SELECT * FROM histone h LEFT JOIN histone_has_publication hp \"\n",
    "    \"ON h.id = hp.histone_id \"\n",
    "    f\"WHERE h.id='{new_name}'\"\n",
    ")\n",
    "cursor.execute(query)\n",
    "pd.DataFrame(cursor.fetchall(), columns=[i[0] for i in cursor.description])"
   ]
  },
  {
   "cell_type": "markdown",
   "id": "678d3367-9272-46b6-8213-5e5584e7a642",
   "metadata": {},
   "source": [
    "### Return relations"
   ]
  },
  {
   "cell_type": "code",
   "execution_count": 164,
   "id": "ba870c3e-8f3a-47f7-b2d2-a100612a6f84",
   "metadata": {
    "tags": []
   },
   "outputs": [
    {
     "data": {
      "text/html": [
       "<div>\n",
       "<style scoped>\n",
       "    .dataframe tbody tr th:only-of-type {\n",
       "        vertical-align: middle;\n",
       "    }\n",
       "\n",
       "    .dataframe tbody tr th {\n",
       "        vertical-align: top;\n",
       "    }\n",
       "\n",
       "    .dataframe thead th {\n",
       "        text-align: right;\n",
       "    }\n",
       "</style>\n",
       "<table border=\"1\" class=\"dataframe\">\n",
       "  <thead>\n",
       "    <tr style=\"text-align: right;\">\n",
       "      <th></th>\n",
       "      <th>id</th>\n",
       "      <th>level</th>\n",
       "      <th>taxonomic_span</th>\n",
       "      <th>taxonomic_span_id</th>\n",
       "      <th>description</th>\n",
       "      <th>parent</th>\n",
       "    </tr>\n",
       "  </thead>\n",
       "  <tbody>\n",
       "    <tr>\n",
       "      <th>114</th>\n",
       "      <td>H2A.L_(Homo_sapiens)</td>\n",
       "      <td>variant</td>\n",
       "      <td>Homo sapiens</td>\n",
       "      <td>9606</td>\n",
       "      <td>121</td>\n",
       "      <td>None</td>\n",
       "    </tr>\n",
       "    <tr>\n",
       "      <th>115</th>\n",
       "      <td>H2A.L_(Mus_musculus)</td>\n",
       "      <td>variant</td>\n",
       "      <td>Mus musculus</td>\n",
       "      <td>10090</td>\n",
       "      <td>122</td>\n",
       "      <td>None</td>\n",
       "    </tr>\n",
       "  </tbody>\n",
       "</table>\n",
       "</div>"
      ],
      "text/plain": [
       "                       id    level taxonomic_span taxonomic_span_id  \\\n",
       "114  H2A.L_(Homo_sapiens)  variant   Homo sapiens              9606   \n",
       "115  H2A.L_(Mus_musculus)  variant   Mus musculus             10090   \n",
       "\n",
       "     description parent  \n",
       "114          121   None  \n",
       "115          122   None  "
      ]
     },
     "execution_count": 164,
     "metadata": {},
     "output_type": "execute_result"
    }
   ],
   "source": [
    "query = (\n",
    "    \"SELECT * FROM histone \"\n",
    ")\n",
    "cursor.execute(query)\n",
    "df = pd.DataFrame(cursor.fetchall(), columns=[i[0] for i in cursor.description])\n",
    "df[df[\"id\"].isin(children)]"
   ]
  },
  {
   "cell_type": "code",
   "execution_count": 165,
   "id": "1146efd0-89a9-4b72-ab49-b5de6b944353",
   "metadata": {
    "tags": []
   },
   "outputs": [
    {
     "name": "stdout",
     "output_type": "stream",
     "text": [
      "UPDATE histone SET parent='H2A.L_(Eutheria)' WHERE id = 'H2A.L_(Homo_sapiens)'\n",
      "UPDATE histone SET parent='H2A.L_(Eutheria)' WHERE id = 'H2A.L_(Mus_musculus)'\n"
     ]
    }
   ],
   "source": [
    "for ch in children:\n",
    "    query = f\"UPDATE histone SET parent='{new_name}' WHERE id = '{ch}'\" \n",
    "    print(query)\n",
    "    cursor.execute(query)"
   ]
  },
  {
   "cell_type": "code",
   "execution_count": 166,
   "id": "92d04857-a760-4c3c-a1f8-c5be9d84c99e",
   "metadata": {
    "tags": []
   },
   "outputs": [
    {
     "data": {
      "text/html": [
       "<div>\n",
       "<style scoped>\n",
       "    .dataframe tbody tr th:only-of-type {\n",
       "        vertical-align: middle;\n",
       "    }\n",
       "\n",
       "    .dataframe tbody tr th {\n",
       "        vertical-align: top;\n",
       "    }\n",
       "\n",
       "    .dataframe thead th {\n",
       "        text-align: right;\n",
       "    }\n",
       "</style>\n",
       "<table border=\"1\" class=\"dataframe\">\n",
       "  <thead>\n",
       "    <tr style=\"text-align: right;\">\n",
       "      <th></th>\n",
       "      <th>id</th>\n",
       "      <th>level</th>\n",
       "      <th>taxonomic_span</th>\n",
       "      <th>taxonomic_span_id</th>\n",
       "      <th>description</th>\n",
       "      <th>parent</th>\n",
       "    </tr>\n",
       "  </thead>\n",
       "  <tbody>\n",
       "    <tr>\n",
       "      <th>0</th>\n",
       "      <td>H2A.L_(Homo_sapiens)</td>\n",
       "      <td>variant</td>\n",
       "      <td>Homo sapiens</td>\n",
       "      <td>9606</td>\n",
       "      <td>121</td>\n",
       "      <td>H2A.L_(Eutheria)</td>\n",
       "    </tr>\n",
       "    <tr>\n",
       "      <th>1</th>\n",
       "      <td>H2A.L_(Mus_musculus)</td>\n",
       "      <td>variant</td>\n",
       "      <td>Mus musculus</td>\n",
       "      <td>10090</td>\n",
       "      <td>122</td>\n",
       "      <td>H2A.L_(Eutheria)</td>\n",
       "    </tr>\n",
       "  </tbody>\n",
       "</table>\n",
       "</div>"
      ],
      "text/plain": [
       "                     id    level taxonomic_span taxonomic_span_id  \\\n",
       "0  H2A.L_(Homo_sapiens)  variant   Homo sapiens              9606   \n",
       "1  H2A.L_(Mus_musculus)  variant   Mus musculus             10090   \n",
       "\n",
       "   description            parent  \n",
       "0          121  H2A.L_(Eutheria)  \n",
       "1          122  H2A.L_(Eutheria)  "
      ]
     },
     "execution_count": 166,
     "metadata": {},
     "output_type": "execute_result"
    }
   ],
   "source": [
    "query = (\n",
    "    \"SELECT * FROM histone \"\n",
    "    f\"WHERE parent='{new_name}'\"\n",
    ")\n",
    "cursor.execute(query)\n",
    "pd.DataFrame(cursor.fetchall(), columns=[i[0] for i in cursor.description])"
   ]
  },
  {
   "cell_type": "code",
   "execution_count": 167,
   "id": "3e66cded-215b-4517-a5bb-abbf0a5d9afa",
   "metadata": {
    "tags": []
   },
   "outputs": [],
   "source": [
    "query = \"SELECT id FROM publication\"\n",
    "cursor.execute(query)\n",
    "exist_pubs = [i[0] for i in cursor.fetchall()]\n",
    "for pid in publications:\n",
    "    if pid not in exist_pubs:\n",
    "        print(f\"Strange {pid}\")\n",
    "    cursor.execute(add_histone_has_publication, (new_name, pid))"
   ]
  },
  {
   "cell_type": "code",
   "execution_count": 168,
   "id": "2b2cb8a2-c956-4de2-bcb5-90eff7ab7640",
   "metadata": {
    "tags": []
   },
   "outputs": [
    {
     "data": {
      "text/html": [
       "<div>\n",
       "<style scoped>\n",
       "    .dataframe tbody tr th:only-of-type {\n",
       "        vertical-align: middle;\n",
       "    }\n",
       "\n",
       "    .dataframe tbody tr th {\n",
       "        vertical-align: top;\n",
       "    }\n",
       "\n",
       "    .dataframe thead th {\n",
       "        text-align: right;\n",
       "    }\n",
       "</style>\n",
       "<table border=\"1\" class=\"dataframe\">\n",
       "  <thead>\n",
       "    <tr style=\"text-align: right;\">\n",
       "      <th></th>\n",
       "      <th>id</th>\n",
       "      <th>level</th>\n",
       "      <th>taxonomic_span</th>\n",
       "      <th>taxonomic_span_id</th>\n",
       "      <th>description</th>\n",
       "      <th>parent</th>\n",
       "      <th>histone_id</th>\n",
       "      <th>publication_id</th>\n",
       "    </tr>\n",
       "  </thead>\n",
       "  <tbody>\n",
       "    <tr>\n",
       "      <th>0</th>\n",
       "      <td>H2A.L_(Eutheria)</td>\n",
       "      <td>variant</td>\n",
       "      <td>Eutheria</td>\n",
       "      <td>9347</td>\n",
       "      <td>84</td>\n",
       "      <td>short_H2A_(Eutheria)</td>\n",
       "      <td>H2A.L_(Eutheria)</td>\n",
       "      <td>govin_pericentric_2007</td>\n",
       "    </tr>\n",
       "    <tr>\n",
       "      <th>1</th>\n",
       "      <td>H2A.L_(Eutheria)</td>\n",
       "      <td>variant</td>\n",
       "      <td>Eutheria</td>\n",
       "      <td>9347</td>\n",
       "      <td>84</td>\n",
       "      <td>short_H2A_(Eutheria)</td>\n",
       "      <td>H2A.L_(Eutheria)</td>\n",
       "      <td>17261847</td>\n",
       "    </tr>\n",
       "    <tr>\n",
       "      <th>2</th>\n",
       "      <td>H2A.L_(Eutheria)</td>\n",
       "      <td>variant</td>\n",
       "      <td>Eutheria</td>\n",
       "      <td>9347</td>\n",
       "      <td>84</td>\n",
       "      <td>short_H2A_(Eutheria)</td>\n",
       "      <td>H2A.L_(Eutheria)</td>\n",
       "      <td>18703863</td>\n",
       "    </tr>\n",
       "    <tr>\n",
       "      <th>3</th>\n",
       "      <td>H2A.L_(Eutheria)</td>\n",
       "      <td>variant</td>\n",
       "      <td>Eutheria</td>\n",
       "      <td>9347</td>\n",
       "      <td>84</td>\n",
       "      <td>short_H2A_(Eutheria)</td>\n",
       "      <td>H2A.L_(Eutheria)</td>\n",
       "      <td>19506029</td>\n",
       "    </tr>\n",
       "    <tr>\n",
       "      <th>4</th>\n",
       "      <td>H2A.L_(Eutheria)</td>\n",
       "      <td>variant</td>\n",
       "      <td>Eutheria</td>\n",
       "      <td>9347</td>\n",
       "      <td>84</td>\n",
       "      <td>short_H2A_(Eutheria)</td>\n",
       "      <td>H2A.L_(Eutheria)</td>\n",
       "      <td>22650316</td>\n",
       "    </tr>\n",
       "    <tr>\n",
       "      <th>5</th>\n",
       "      <td>H2A.L_(Eutheria)</td>\n",
       "      <td>variant</td>\n",
       "      <td>Eutheria</td>\n",
       "      <td>9347</td>\n",
       "      <td>84</td>\n",
       "      <td>short_H2A_(Eutheria)</td>\n",
       "      <td>H2A.L_(Eutheria)</td>\n",
       "      <td>25731851</td>\n",
       "    </tr>\n",
       "    <tr>\n",
       "      <th>6</th>\n",
       "      <td>H2A.L_(Eutheria)</td>\n",
       "      <td>variant</td>\n",
       "      <td>Eutheria</td>\n",
       "      <td>9347</td>\n",
       "      <td>84</td>\n",
       "      <td>short_H2A_(Eutheria)</td>\n",
       "      <td>H2A.L_(Eutheria)</td>\n",
       "      <td>barral_histone_2017</td>\n",
       "    </tr>\n",
       "    <tr>\n",
       "      <th>7</th>\n",
       "      <td>H2A.L_(Eutheria)</td>\n",
       "      <td>variant</td>\n",
       "      <td>Eutheria</td>\n",
       "      <td>9347</td>\n",
       "      <td>84</td>\n",
       "      <td>short_H2A_(Eutheria)</td>\n",
       "      <td>H2A.L_(Eutheria)</td>\n",
       "      <td>govin_pericentric_2007</td>\n",
       "    </tr>\n",
       "    <tr>\n",
       "      <th>8</th>\n",
       "      <td>H2A.L_(Eutheria)</td>\n",
       "      <td>variant</td>\n",
       "      <td>Eutheria</td>\n",
       "      <td>9347</td>\n",
       "      <td>84</td>\n",
       "      <td>short_H2A_(Eutheria)</td>\n",
       "      <td>H2A.L_(Eutheria)</td>\n",
       "      <td>hoghoughi_rna-guided_2020</td>\n",
       "    </tr>\n",
       "    <tr>\n",
       "      <th>9</th>\n",
       "      <td>H2A.L_(Eutheria)</td>\n",
       "      <td>variant</td>\n",
       "      <td>Eutheria</td>\n",
       "      <td>9347</td>\n",
       "      <td>84</td>\n",
       "      <td>short_H2A_(Eutheria)</td>\n",
       "      <td>H2A.L_(Eutheria)</td>\n",
       "      <td>molaro_evolutionary_2018</td>\n",
       "    </tr>\n",
       "    <tr>\n",
       "      <th>10</th>\n",
       "      <td>H2A.L_(Eutheria)</td>\n",
       "      <td>variant</td>\n",
       "      <td>Eutheria</td>\n",
       "      <td>9347</td>\n",
       "      <td>84</td>\n",
       "      <td>short_H2A_(Eutheria)</td>\n",
       "      <td>H2A.L_(Eutheria)</td>\n",
       "      <td>Seal et al. unpublished</td>\n",
       "    </tr>\n",
       "    <tr>\n",
       "      <th>11</th>\n",
       "      <td>H2A.L_(Eutheria)</td>\n",
       "      <td>variant</td>\n",
       "      <td>Eutheria</td>\n",
       "      <td>9347</td>\n",
       "      <td>84</td>\n",
       "      <td>short_H2A_(Eutheria)</td>\n",
       "      <td>H2A.L_(Eutheria)</td>\n",
       "      <td>soboleva_unique_2011</td>\n",
       "    </tr>\n",
       "  </tbody>\n",
       "</table>\n",
       "</div>"
      ],
      "text/plain": [
       "                  id    level taxonomic_span taxonomic_span_id  description  \\\n",
       "0   H2A.L_(Eutheria)  variant       Eutheria              9347           84   \n",
       "1   H2A.L_(Eutheria)  variant       Eutheria              9347           84   \n",
       "2   H2A.L_(Eutheria)  variant       Eutheria              9347           84   \n",
       "3   H2A.L_(Eutheria)  variant       Eutheria              9347           84   \n",
       "4   H2A.L_(Eutheria)  variant       Eutheria              9347           84   \n",
       "5   H2A.L_(Eutheria)  variant       Eutheria              9347           84   \n",
       "6   H2A.L_(Eutheria)  variant       Eutheria              9347           84   \n",
       "7   H2A.L_(Eutheria)  variant       Eutheria              9347           84   \n",
       "8   H2A.L_(Eutheria)  variant       Eutheria              9347           84   \n",
       "9   H2A.L_(Eutheria)  variant       Eutheria              9347           84   \n",
       "10  H2A.L_(Eutheria)  variant       Eutheria              9347           84   \n",
       "11  H2A.L_(Eutheria)  variant       Eutheria              9347           84   \n",
       "\n",
       "                  parent        histone_id             publication_id  \n",
       "0   short_H2A_(Eutheria)  H2A.L_(Eutheria)     govin_pericentric_2007  \n",
       "1   short_H2A_(Eutheria)  H2A.L_(Eutheria)                   17261847  \n",
       "2   short_H2A_(Eutheria)  H2A.L_(Eutheria)                   18703863  \n",
       "3   short_H2A_(Eutheria)  H2A.L_(Eutheria)                   19506029  \n",
       "4   short_H2A_(Eutheria)  H2A.L_(Eutheria)                   22650316  \n",
       "5   short_H2A_(Eutheria)  H2A.L_(Eutheria)                   25731851  \n",
       "6   short_H2A_(Eutheria)  H2A.L_(Eutheria)        barral_histone_2017  \n",
       "7   short_H2A_(Eutheria)  H2A.L_(Eutheria)     govin_pericentric_2007  \n",
       "8   short_H2A_(Eutheria)  H2A.L_(Eutheria)  hoghoughi_rna-guided_2020  \n",
       "9   short_H2A_(Eutheria)  H2A.L_(Eutheria)   molaro_evolutionary_2018  \n",
       "10  short_H2A_(Eutheria)  H2A.L_(Eutheria)    Seal et al. unpublished  \n",
       "11  short_H2A_(Eutheria)  H2A.L_(Eutheria)       soboleva_unique_2011  "
      ]
     },
     "execution_count": 168,
     "metadata": {},
     "output_type": "execute_result"
    }
   ],
   "source": [
    "query = (\n",
    "    \"SELECT * FROM histone h LEFT JOIN histone_has_publication hp \"\n",
    "    \"ON h.id = hp.histone_id \"\n",
    "    f\"WHERE h.id='{new_name}'\"\n",
    ")\n",
    "cursor.execute(query)\n",
    "pd.DataFrame(cursor.fetchall(), columns=[i[0] for i in cursor.description])"
   ]
  },
  {
   "cell_type": "code",
   "execution_count": 169,
   "id": "336d76eb-948b-4496-b4ff-b6b937d6bf20",
   "metadata": {
    "tags": []
   },
   "outputs": [],
   "source": [
    "# Make sure data is committed to the database\n",
    "conn.commit()"
   ]
  },
  {
   "cell_type": "markdown",
   "id": "443506ca-8db8-43a4-be41-29e9f37344de",
   "metadata": {
    "tags": []
   },
   "source": [
    "## Change name from H2A.P → H2A.P_(Eutheria)"
   ]
  },
  {
   "cell_type": "code",
   "execution_count": 170,
   "id": "95743917-bf77-4335-bdab-df7f8ef40aa5",
   "metadata": {
    "tags": []
   },
   "outputs": [],
   "source": [
    "prev_name, new_name = \"H2A.P\", \"H2A.P_(Eutheria)\""
   ]
  },
  {
   "cell_type": "code",
   "execution_count": 171,
   "id": "8f74bc89-2e67-497f-89c9-b5ede3c6de0b",
   "metadata": {
    "tags": []
   },
   "outputs": [
    {
     "data": {
      "text/html": [
       "<div>\n",
       "<style scoped>\n",
       "    .dataframe tbody tr th:only-of-type {\n",
       "        vertical-align: middle;\n",
       "    }\n",
       "\n",
       "    .dataframe tbody tr th {\n",
       "        vertical-align: top;\n",
       "    }\n",
       "\n",
       "    .dataframe thead th {\n",
       "        text-align: right;\n",
       "    }\n",
       "</style>\n",
       "<table border=\"1\" class=\"dataframe\">\n",
       "  <thead>\n",
       "    <tr style=\"text-align: right;\">\n",
       "      <th></th>\n",
       "      <th>id</th>\n",
       "      <th>level</th>\n",
       "      <th>taxonomic_span</th>\n",
       "      <th>taxonomic_span_id</th>\n",
       "      <th>description</th>\n",
       "      <th>parent</th>\n",
       "      <th>histone_id</th>\n",
       "      <th>publication_id</th>\n",
       "    </tr>\n",
       "  </thead>\n",
       "  <tbody>\n",
       "    <tr>\n",
       "      <th>0</th>\n",
       "      <td>H2A.P</td>\n",
       "      <td>variant</td>\n",
       "      <td>Eutheria</td>\n",
       "      <td>9347</td>\n",
       "      <td>85</td>\n",
       "      <td>short_H2A_(Eutheria)</td>\n",
       "      <td>H2A.P</td>\n",
       "      <td>9700202</td>\n",
       "    </tr>\n",
       "    <tr>\n",
       "      <th>1</th>\n",
       "      <td>H2A.P</td>\n",
       "      <td>variant</td>\n",
       "      <td>Eutheria</td>\n",
       "      <td>9347</td>\n",
       "      <td>85</td>\n",
       "      <td>short_H2A_(Eutheria)</td>\n",
       "      <td>H2A.P</td>\n",
       "      <td>el_kennani_ms_histonedb_2017</td>\n",
       "    </tr>\n",
       "    <tr>\n",
       "      <th>2</th>\n",
       "      <td>H2A.P</td>\n",
       "      <td>variant</td>\n",
       "      <td>Eutheria</td>\n",
       "      <td>9347</td>\n",
       "      <td>85</td>\n",
       "      <td>short_H2A_(Eutheria)</td>\n",
       "      <td>H2A.P</td>\n",
       "      <td>faber_huntingtin_1998</td>\n",
       "    </tr>\n",
       "    <tr>\n",
       "      <th>3</th>\n",
       "      <td>H2A.P</td>\n",
       "      <td>variant</td>\n",
       "      <td>Eutheria</td>\n",
       "      <td>9347</td>\n",
       "      <td>85</td>\n",
       "      <td>short_H2A_(Eutheria)</td>\n",
       "      <td>H2A.P</td>\n",
       "      <td>govin_pericentric_2007</td>\n",
       "    </tr>\n",
       "    <tr>\n",
       "      <th>4</th>\n",
       "      <td>H2A.P</td>\n",
       "      <td>variant</td>\n",
       "      <td>Eutheria</td>\n",
       "      <td>9347</td>\n",
       "      <td>85</td>\n",
       "      <td>short_H2A_(Eutheria)</td>\n",
       "      <td>H2A.P</td>\n",
       "      <td>molaro_evolutionary_2018</td>\n",
       "    </tr>\n",
       "    <tr>\n",
       "      <th>5</th>\n",
       "      <td>H2A.P</td>\n",
       "      <td>variant</td>\n",
       "      <td>Eutheria</td>\n",
       "      <td>9347</td>\n",
       "      <td>85</td>\n",
       "      <td>short_H2A_(Eutheria)</td>\n",
       "      <td>H2A.P</td>\n",
       "      <td>soboleva_unique_2011</td>\n",
       "    </tr>\n",
       "  </tbody>\n",
       "</table>\n",
       "</div>"
      ],
      "text/plain": [
       "      id    level taxonomic_span taxonomic_span_id  description  \\\n",
       "0  H2A.P  variant       Eutheria              9347           85   \n",
       "1  H2A.P  variant       Eutheria              9347           85   \n",
       "2  H2A.P  variant       Eutheria              9347           85   \n",
       "3  H2A.P  variant       Eutheria              9347           85   \n",
       "4  H2A.P  variant       Eutheria              9347           85   \n",
       "5  H2A.P  variant       Eutheria              9347           85   \n",
       "\n",
       "                 parent histone_id                publication_id  \n",
       "0  short_H2A_(Eutheria)      H2A.P                       9700202  \n",
       "1  short_H2A_(Eutheria)      H2A.P  el_kennani_ms_histonedb_2017  \n",
       "2  short_H2A_(Eutheria)      H2A.P         faber_huntingtin_1998  \n",
       "3  short_H2A_(Eutheria)      H2A.P        govin_pericentric_2007  \n",
       "4  short_H2A_(Eutheria)      H2A.P      molaro_evolutionary_2018  \n",
       "5  short_H2A_(Eutheria)      H2A.P          soboleva_unique_2011  "
      ]
     },
     "execution_count": 171,
     "metadata": {},
     "output_type": "execute_result"
    }
   ],
   "source": [
    "query = (\n",
    "    \"SELECT * FROM histone h LEFT JOIN histone_has_publication hp \"\n",
    "    \"ON h.id = hp.histone_id \"\n",
    "    f\"WHERE h.id='{prev_name}'\"\n",
    ")\n",
    "cursor.execute(query)\n",
    "pd.DataFrame(cursor.fetchall(), columns=[i[0] for i in cursor.description])"
   ]
  },
  {
   "cell_type": "code",
   "execution_count": 172,
   "id": "a4bfad4e-683e-4a40-bc8b-3b255559aa30",
   "metadata": {
    "tags": []
   },
   "outputs": [
    {
     "data": {
      "text/html": [
       "<div>\n",
       "<style scoped>\n",
       "    .dataframe tbody tr th:only-of-type {\n",
       "        vertical-align: middle;\n",
       "    }\n",
       "\n",
       "    .dataframe tbody tr th {\n",
       "        vertical-align: top;\n",
       "    }\n",
       "\n",
       "    .dataframe thead th {\n",
       "        text-align: right;\n",
       "    }\n",
       "</style>\n",
       "<table border=\"1\" class=\"dataframe\">\n",
       "  <thead>\n",
       "    <tr style=\"text-align: right;\">\n",
       "      <th></th>\n",
       "      <th>id</th>\n",
       "      <th>level</th>\n",
       "      <th>taxonomic_span</th>\n",
       "      <th>taxonomic_span_id</th>\n",
       "      <th>description</th>\n",
       "      <th>parent</th>\n",
       "    </tr>\n",
       "  </thead>\n",
       "  <tbody>\n",
       "    <tr>\n",
       "      <th>0</th>\n",
       "      <td>H2A.P_(Homo_sapiens)</td>\n",
       "      <td>variant</td>\n",
       "      <td>Homo sapiens</td>\n",
       "      <td>9606</td>\n",
       "      <td>123</td>\n",
       "      <td>H2A.P</td>\n",
       "    </tr>\n",
       "    <tr>\n",
       "      <th>1</th>\n",
       "      <td>H2A.P_(Mus_musculus)</td>\n",
       "      <td>variant</td>\n",
       "      <td>Mus musculus</td>\n",
       "      <td>10090</td>\n",
       "      <td>124</td>\n",
       "      <td>H2A.P</td>\n",
       "    </tr>\n",
       "  </tbody>\n",
       "</table>\n",
       "</div>"
      ],
      "text/plain": [
       "                     id    level taxonomic_span taxonomic_span_id  \\\n",
       "0  H2A.P_(Homo_sapiens)  variant   Homo sapiens              9606   \n",
       "1  H2A.P_(Mus_musculus)  variant   Mus musculus             10090   \n",
       "\n",
       "   description parent  \n",
       "0          123  H2A.P  \n",
       "1          124  H2A.P  "
      ]
     },
     "execution_count": 172,
     "metadata": {},
     "output_type": "execute_result"
    }
   ],
   "source": [
    "query = (\n",
    "    \"SELECT * FROM histone \"\n",
    "    f\"WHERE parent='{prev_name}'\"\n",
    ")\n",
    "cursor.execute(query)\n",
    "pd.DataFrame(cursor.fetchall(), columns=[i[0] for i in cursor.description])"
   ]
  },
  {
   "cell_type": "markdown",
   "id": "0f0e3104-c397-4270-aa93-c987d83f4820",
   "metadata": {
    "tags": []
   },
   "source": [
    "### Save children and publications"
   ]
  },
  {
   "cell_type": "code",
   "execution_count": 173,
   "id": "d04a2755-01f5-4e58-9572-ae4b8780bc4d",
   "metadata": {
    "tags": []
   },
   "outputs": [
    {
     "data": {
      "text/plain": [
       "array(['H2A.P_(Homo_sapiens)', 'H2A.P_(Mus_musculus)'], dtype=object)"
      ]
     },
     "execution_count": 173,
     "metadata": {},
     "output_type": "execute_result"
    }
   ],
   "source": [
    "query = (\n",
    "    \"SELECT * FROM histone \"\n",
    "    f\"WHERE parent='{prev_name}'\"\n",
    ")\n",
    "cursor.execute(query)\n",
    "children = pd.DataFrame(cursor.fetchall(), columns=[i[0] for i in cursor.description])[\"id\"].values\n",
    "children"
   ]
  },
  {
   "cell_type": "code",
   "execution_count": 174,
   "id": "b1dc8e8e-79d9-4c03-a548-55f744717bf4",
   "metadata": {
    "tags": []
   },
   "outputs": [
    {
     "data": {
      "text/plain": [
       "array(['9700202', 'el_kennani_ms_histonedb_2017', 'faber_huntingtin_1998',\n",
       "       'govin_pericentric_2007', 'molaro_evolutionary_2018',\n",
       "       'soboleva_unique_2011'], dtype=object)"
      ]
     },
     "execution_count": 174,
     "metadata": {},
     "output_type": "execute_result"
    }
   ],
   "source": [
    "query = (\n",
    "    \"SELECT * FROM histone h LEFT JOIN histone_has_publication hp \"\n",
    "    \"ON h.id = hp.histone_id \"\n",
    "    f\"WHERE h.id='{prev_name}'\"\n",
    ")\n",
    "cursor.execute(query)\n",
    "publications = pd.DataFrame(\n",
    "    cursor.fetchall(), columns=[i[0] for i in cursor.description]\n",
    ")[\"publication_id\"].values\n",
    "publications"
   ]
  },
  {
   "cell_type": "markdown",
   "id": "c6e6c2a8-5747-4f65-9e2a-f6f1bc0b337f",
   "metadata": {
    "tags": []
   },
   "source": [
    "### Delete relations"
   ]
  },
  {
   "cell_type": "code",
   "execution_count": 175,
   "id": "22106ace-66f1-45f4-8051-2fff44f97059",
   "metadata": {
    "tags": []
   },
   "outputs": [
    {
     "name": "stdout",
     "output_type": "stream",
     "text": [
      "DELETE FROM histone_has_publication WHERE histone_id = 'H2A.P'\n"
     ]
    }
   ],
   "source": [
    "query = f\"DELETE FROM histone_has_publication WHERE histone_id = '{prev_name}'\" \n",
    "print(query) \n",
    "cursor.execute(query)"
   ]
  },
  {
   "cell_type": "code",
   "execution_count": 176,
   "id": "651d24a8-fa8b-4a12-8aa9-594d77dc4765",
   "metadata": {
    "tags": []
   },
   "outputs": [
    {
     "name": "stdout",
     "output_type": "stream",
     "text": [
      "UPDATE histone SET parent=null WHERE parent = 'H2A.P'\n"
     ]
    }
   ],
   "source": [
    "query = f\"UPDATE histone SET parent=null WHERE parent = '{prev_name}'\" \n",
    "print(query) \n",
    "cursor.execute(query) "
   ]
  },
  {
   "cell_type": "code",
   "execution_count": 177,
   "id": "becdc6e7-8c36-4f53-9267-d1067a3c6461",
   "metadata": {
    "tags": []
   },
   "outputs": [
    {
     "data": {
      "text/html": [
       "<div>\n",
       "<style scoped>\n",
       "    .dataframe tbody tr th:only-of-type {\n",
       "        vertical-align: middle;\n",
       "    }\n",
       "\n",
       "    .dataframe tbody tr th {\n",
       "        vertical-align: top;\n",
       "    }\n",
       "\n",
       "    .dataframe thead th {\n",
       "        text-align: right;\n",
       "    }\n",
       "</style>\n",
       "<table border=\"1\" class=\"dataframe\">\n",
       "  <thead>\n",
       "    <tr style=\"text-align: right;\">\n",
       "      <th></th>\n",
       "      <th>id</th>\n",
       "      <th>level</th>\n",
       "      <th>taxonomic_span</th>\n",
       "      <th>taxonomic_span_id</th>\n",
       "      <th>description</th>\n",
       "      <th>parent</th>\n",
       "      <th>histone_id</th>\n",
       "      <th>publication_id</th>\n",
       "    </tr>\n",
       "  </thead>\n",
       "  <tbody>\n",
       "    <tr>\n",
       "      <th>0</th>\n",
       "      <td>H2A.P</td>\n",
       "      <td>variant</td>\n",
       "      <td>Eutheria</td>\n",
       "      <td>9347</td>\n",
       "      <td>85</td>\n",
       "      <td>short_H2A_(Eutheria)</td>\n",
       "      <td>None</td>\n",
       "      <td>None</td>\n",
       "    </tr>\n",
       "  </tbody>\n",
       "</table>\n",
       "</div>"
      ],
      "text/plain": [
       "      id    level taxonomic_span taxonomic_span_id  description  \\\n",
       "0  H2A.P  variant       Eutheria              9347           85   \n",
       "\n",
       "                 parent histone_id publication_id  \n",
       "0  short_H2A_(Eutheria)       None           None  "
      ]
     },
     "execution_count": 177,
     "metadata": {},
     "output_type": "execute_result"
    }
   ],
   "source": [
    "query = (\n",
    "    \"SELECT * FROM histone h LEFT JOIN histone_has_publication hp \"\n",
    "    \"ON h.id = hp.histone_id \"\n",
    "    f\"WHERE h.id='{prev_name}'\"\n",
    ")\n",
    "cursor.execute(query)\n",
    "pd.DataFrame(cursor.fetchall(), columns=[i[0] for i in cursor.description])"
   ]
  },
  {
   "cell_type": "code",
   "execution_count": 178,
   "id": "9fcf6f3c-7129-452c-bdad-d0c0acb88f6d",
   "metadata": {
    "tags": []
   },
   "outputs": [
    {
     "data": {
      "text/html": [
       "<div>\n",
       "<style scoped>\n",
       "    .dataframe tbody tr th:only-of-type {\n",
       "        vertical-align: middle;\n",
       "    }\n",
       "\n",
       "    .dataframe tbody tr th {\n",
       "        vertical-align: top;\n",
       "    }\n",
       "\n",
       "    .dataframe thead th {\n",
       "        text-align: right;\n",
       "    }\n",
       "</style>\n",
       "<table border=\"1\" class=\"dataframe\">\n",
       "  <thead>\n",
       "    <tr style=\"text-align: right;\">\n",
       "      <th></th>\n",
       "      <th>id</th>\n",
       "      <th>level</th>\n",
       "      <th>taxonomic_span</th>\n",
       "      <th>taxonomic_span_id</th>\n",
       "      <th>description</th>\n",
       "      <th>parent</th>\n",
       "    </tr>\n",
       "  </thead>\n",
       "  <tbody>\n",
       "  </tbody>\n",
       "</table>\n",
       "</div>"
      ],
      "text/plain": [
       "Empty DataFrame\n",
       "Columns: [id, level, taxonomic_span, taxonomic_span_id, description, parent]\n",
       "Index: []"
      ]
     },
     "execution_count": 178,
     "metadata": {},
     "output_type": "execute_result"
    }
   ],
   "source": [
    "query = (\n",
    "    \"SELECT * FROM histone \"\n",
    "    f\"WHERE parent='{prev_name}'\"\n",
    ")\n",
    "cursor.execute(query)\n",
    "pd.DataFrame(cursor.fetchall(), columns=[i[0] for i in cursor.description])"
   ]
  },
  {
   "cell_type": "markdown",
   "id": "f825c863-5cd5-4b7f-b569-4f405cf6dc65",
   "metadata": {
    "tags": []
   },
   "source": [
    "### Update name"
   ]
  },
  {
   "cell_type": "code",
   "execution_count": 179,
   "id": "358e7d6d-a7b9-444e-9e7f-75a191efdb04",
   "metadata": {
    "tags": []
   },
   "outputs": [
    {
     "name": "stdout",
     "output_type": "stream",
     "text": [
      "UPDATE histone SET id='H2A.P_(Eutheria)' WHERE id = 'H2A.P'\n"
     ]
    }
   ],
   "source": [
    "query = f\"UPDATE histone SET id='{new_name}' WHERE id = '{prev_name}'\" \n",
    "print(query) \n",
    "cursor.execute(query) "
   ]
  },
  {
   "cell_type": "code",
   "execution_count": 180,
   "id": "3e4816ab-6838-4149-8975-2fd2c1f26382",
   "metadata": {
    "tags": []
   },
   "outputs": [
    {
     "data": {
      "text/html": [
       "<div>\n",
       "<style scoped>\n",
       "    .dataframe tbody tr th:only-of-type {\n",
       "        vertical-align: middle;\n",
       "    }\n",
       "\n",
       "    .dataframe tbody tr th {\n",
       "        vertical-align: top;\n",
       "    }\n",
       "\n",
       "    .dataframe thead th {\n",
       "        text-align: right;\n",
       "    }\n",
       "</style>\n",
       "<table border=\"1\" class=\"dataframe\">\n",
       "  <thead>\n",
       "    <tr style=\"text-align: right;\">\n",
       "      <th></th>\n",
       "      <th>id</th>\n",
       "      <th>level</th>\n",
       "      <th>taxonomic_span</th>\n",
       "      <th>taxonomic_span_id</th>\n",
       "      <th>description</th>\n",
       "      <th>parent</th>\n",
       "      <th>histone_id</th>\n",
       "      <th>publication_id</th>\n",
       "    </tr>\n",
       "  </thead>\n",
       "  <tbody>\n",
       "    <tr>\n",
       "      <th>0</th>\n",
       "      <td>H2A.P_(Eutheria)</td>\n",
       "      <td>variant</td>\n",
       "      <td>Eutheria</td>\n",
       "      <td>9347</td>\n",
       "      <td>85</td>\n",
       "      <td>short_H2A_(Eutheria)</td>\n",
       "      <td>None</td>\n",
       "      <td>None</td>\n",
       "    </tr>\n",
       "  </tbody>\n",
       "</table>\n",
       "</div>"
      ],
      "text/plain": [
       "                 id    level taxonomic_span taxonomic_span_id  description  \\\n",
       "0  H2A.P_(Eutheria)  variant       Eutheria              9347           85   \n",
       "\n",
       "                 parent histone_id publication_id  \n",
       "0  short_H2A_(Eutheria)       None           None  "
      ]
     },
     "execution_count": 180,
     "metadata": {},
     "output_type": "execute_result"
    }
   ],
   "source": [
    "query = (\n",
    "    \"SELECT * FROM histone h LEFT JOIN histone_has_publication hp \"\n",
    "    \"ON h.id = hp.histone_id \"\n",
    "    f\"WHERE h.id='{new_name}'\"\n",
    ")\n",
    "cursor.execute(query)\n",
    "pd.DataFrame(cursor.fetchall(), columns=[i[0] for i in cursor.description])"
   ]
  },
  {
   "cell_type": "markdown",
   "id": "276ac25b-d0ba-47e5-97bf-0eb21106359a",
   "metadata": {},
   "source": [
    "### Return relations"
   ]
  },
  {
   "cell_type": "code",
   "execution_count": 181,
   "id": "07f09950-4146-4c49-897e-339dbf0aa2ce",
   "metadata": {
    "tags": []
   },
   "outputs": [
    {
     "data": {
      "text/html": [
       "<div>\n",
       "<style scoped>\n",
       "    .dataframe tbody tr th:only-of-type {\n",
       "        vertical-align: middle;\n",
       "    }\n",
       "\n",
       "    .dataframe tbody tr th {\n",
       "        vertical-align: top;\n",
       "    }\n",
       "\n",
       "    .dataframe thead th {\n",
       "        text-align: right;\n",
       "    }\n",
       "</style>\n",
       "<table border=\"1\" class=\"dataframe\">\n",
       "  <thead>\n",
       "    <tr style=\"text-align: right;\">\n",
       "      <th></th>\n",
       "      <th>id</th>\n",
       "      <th>level</th>\n",
       "      <th>taxonomic_span</th>\n",
       "      <th>taxonomic_span_id</th>\n",
       "      <th>description</th>\n",
       "      <th>parent</th>\n",
       "    </tr>\n",
       "  </thead>\n",
       "  <tbody>\n",
       "    <tr>\n",
       "      <th>118</th>\n",
       "      <td>H2A.P_(Homo_sapiens)</td>\n",
       "      <td>variant</td>\n",
       "      <td>Homo sapiens</td>\n",
       "      <td>9606</td>\n",
       "      <td>123</td>\n",
       "      <td>None</td>\n",
       "    </tr>\n",
       "    <tr>\n",
       "      <th>119</th>\n",
       "      <td>H2A.P_(Mus_musculus)</td>\n",
       "      <td>variant</td>\n",
       "      <td>Mus musculus</td>\n",
       "      <td>10090</td>\n",
       "      <td>124</td>\n",
       "      <td>None</td>\n",
       "    </tr>\n",
       "  </tbody>\n",
       "</table>\n",
       "</div>"
      ],
      "text/plain": [
       "                       id    level taxonomic_span taxonomic_span_id  \\\n",
       "118  H2A.P_(Homo_sapiens)  variant   Homo sapiens              9606   \n",
       "119  H2A.P_(Mus_musculus)  variant   Mus musculus             10090   \n",
       "\n",
       "     description parent  \n",
       "118          123   None  \n",
       "119          124   None  "
      ]
     },
     "execution_count": 181,
     "metadata": {},
     "output_type": "execute_result"
    }
   ],
   "source": [
    "query = (\n",
    "    \"SELECT * FROM histone \"\n",
    ")\n",
    "cursor.execute(query)\n",
    "df = pd.DataFrame(cursor.fetchall(), columns=[i[0] for i in cursor.description])\n",
    "df[df[\"id\"].isin(children)]"
   ]
  },
  {
   "cell_type": "code",
   "execution_count": 182,
   "id": "777d82f3-3a99-4303-97f7-5804a46f8915",
   "metadata": {
    "tags": []
   },
   "outputs": [
    {
     "name": "stdout",
     "output_type": "stream",
     "text": [
      "UPDATE histone SET parent='H2A.P_(Eutheria)' WHERE id = 'H2A.P_(Homo_sapiens)'\n",
      "UPDATE histone SET parent='H2A.P_(Eutheria)' WHERE id = 'H2A.P_(Mus_musculus)'\n"
     ]
    }
   ],
   "source": [
    "for ch in children:\n",
    "    query = f\"UPDATE histone SET parent='{new_name}' WHERE id = '{ch}'\" \n",
    "    print(query)\n",
    "    cursor.execute(query)"
   ]
  },
  {
   "cell_type": "code",
   "execution_count": 183,
   "id": "a8d32446-3a1b-4923-83bf-9a1ac9afca3e",
   "metadata": {
    "tags": []
   },
   "outputs": [
    {
     "data": {
      "text/html": [
       "<div>\n",
       "<style scoped>\n",
       "    .dataframe tbody tr th:only-of-type {\n",
       "        vertical-align: middle;\n",
       "    }\n",
       "\n",
       "    .dataframe tbody tr th {\n",
       "        vertical-align: top;\n",
       "    }\n",
       "\n",
       "    .dataframe thead th {\n",
       "        text-align: right;\n",
       "    }\n",
       "</style>\n",
       "<table border=\"1\" class=\"dataframe\">\n",
       "  <thead>\n",
       "    <tr style=\"text-align: right;\">\n",
       "      <th></th>\n",
       "      <th>id</th>\n",
       "      <th>level</th>\n",
       "      <th>taxonomic_span</th>\n",
       "      <th>taxonomic_span_id</th>\n",
       "      <th>description</th>\n",
       "      <th>parent</th>\n",
       "    </tr>\n",
       "  </thead>\n",
       "  <tbody>\n",
       "    <tr>\n",
       "      <th>0</th>\n",
       "      <td>H2A.P_(Homo_sapiens)</td>\n",
       "      <td>variant</td>\n",
       "      <td>Homo sapiens</td>\n",
       "      <td>9606</td>\n",
       "      <td>123</td>\n",
       "      <td>H2A.P_(Eutheria)</td>\n",
       "    </tr>\n",
       "    <tr>\n",
       "      <th>1</th>\n",
       "      <td>H2A.P_(Mus_musculus)</td>\n",
       "      <td>variant</td>\n",
       "      <td>Mus musculus</td>\n",
       "      <td>10090</td>\n",
       "      <td>124</td>\n",
       "      <td>H2A.P_(Eutheria)</td>\n",
       "    </tr>\n",
       "  </tbody>\n",
       "</table>\n",
       "</div>"
      ],
      "text/plain": [
       "                     id    level taxonomic_span taxonomic_span_id  \\\n",
       "0  H2A.P_(Homo_sapiens)  variant   Homo sapiens              9606   \n",
       "1  H2A.P_(Mus_musculus)  variant   Mus musculus             10090   \n",
       "\n",
       "   description            parent  \n",
       "0          123  H2A.P_(Eutheria)  \n",
       "1          124  H2A.P_(Eutheria)  "
      ]
     },
     "execution_count": 183,
     "metadata": {},
     "output_type": "execute_result"
    }
   ],
   "source": [
    "query = (\n",
    "    \"SELECT * FROM histone \"\n",
    "    f\"WHERE parent='{new_name}'\"\n",
    ")\n",
    "cursor.execute(query)\n",
    "pd.DataFrame(cursor.fetchall(), columns=[i[0] for i in cursor.description])"
   ]
  },
  {
   "cell_type": "code",
   "execution_count": 184,
   "id": "65b5b001-399c-460b-a6e4-c92b609415c8",
   "metadata": {
    "tags": []
   },
   "outputs": [],
   "source": [
    "query = \"SELECT id FROM publication\"\n",
    "cursor.execute(query)\n",
    "exist_pubs = [i[0] for i in cursor.fetchall()]\n",
    "for pid in publications:\n",
    "    if pid not in exist_pubs:\n",
    "        print(f\"Strange {pid}\")\n",
    "    cursor.execute(add_histone_has_publication, (new_name, pid))"
   ]
  },
  {
   "cell_type": "code",
   "execution_count": 185,
   "id": "aa0cc0e0-b8cc-4cd7-a4e6-217f1008b5e0",
   "metadata": {
    "tags": []
   },
   "outputs": [
    {
     "data": {
      "text/html": [
       "<div>\n",
       "<style scoped>\n",
       "    .dataframe tbody tr th:only-of-type {\n",
       "        vertical-align: middle;\n",
       "    }\n",
       "\n",
       "    .dataframe tbody tr th {\n",
       "        vertical-align: top;\n",
       "    }\n",
       "\n",
       "    .dataframe thead th {\n",
       "        text-align: right;\n",
       "    }\n",
       "</style>\n",
       "<table border=\"1\" class=\"dataframe\">\n",
       "  <thead>\n",
       "    <tr style=\"text-align: right;\">\n",
       "      <th></th>\n",
       "      <th>id</th>\n",
       "      <th>level</th>\n",
       "      <th>taxonomic_span</th>\n",
       "      <th>taxonomic_span_id</th>\n",
       "      <th>description</th>\n",
       "      <th>parent</th>\n",
       "      <th>histone_id</th>\n",
       "      <th>publication_id</th>\n",
       "    </tr>\n",
       "  </thead>\n",
       "  <tbody>\n",
       "    <tr>\n",
       "      <th>0</th>\n",
       "      <td>H2A.P_(Eutheria)</td>\n",
       "      <td>variant</td>\n",
       "      <td>Eutheria</td>\n",
       "      <td>9347</td>\n",
       "      <td>85</td>\n",
       "      <td>short_H2A_(Eutheria)</td>\n",
       "      <td>H2A.P_(Eutheria)</td>\n",
       "      <td>9700202</td>\n",
       "    </tr>\n",
       "    <tr>\n",
       "      <th>1</th>\n",
       "      <td>H2A.P_(Eutheria)</td>\n",
       "      <td>variant</td>\n",
       "      <td>Eutheria</td>\n",
       "      <td>9347</td>\n",
       "      <td>85</td>\n",
       "      <td>short_H2A_(Eutheria)</td>\n",
       "      <td>H2A.P_(Eutheria)</td>\n",
       "      <td>el_kennani_ms_histonedb_2017</td>\n",
       "    </tr>\n",
       "    <tr>\n",
       "      <th>2</th>\n",
       "      <td>H2A.P_(Eutheria)</td>\n",
       "      <td>variant</td>\n",
       "      <td>Eutheria</td>\n",
       "      <td>9347</td>\n",
       "      <td>85</td>\n",
       "      <td>short_H2A_(Eutheria)</td>\n",
       "      <td>H2A.P_(Eutheria)</td>\n",
       "      <td>faber_huntingtin_1998</td>\n",
       "    </tr>\n",
       "    <tr>\n",
       "      <th>3</th>\n",
       "      <td>H2A.P_(Eutheria)</td>\n",
       "      <td>variant</td>\n",
       "      <td>Eutheria</td>\n",
       "      <td>9347</td>\n",
       "      <td>85</td>\n",
       "      <td>short_H2A_(Eutheria)</td>\n",
       "      <td>H2A.P_(Eutheria)</td>\n",
       "      <td>govin_pericentric_2007</td>\n",
       "    </tr>\n",
       "    <tr>\n",
       "      <th>4</th>\n",
       "      <td>H2A.P_(Eutheria)</td>\n",
       "      <td>variant</td>\n",
       "      <td>Eutheria</td>\n",
       "      <td>9347</td>\n",
       "      <td>85</td>\n",
       "      <td>short_H2A_(Eutheria)</td>\n",
       "      <td>H2A.P_(Eutheria)</td>\n",
       "      <td>molaro_evolutionary_2018</td>\n",
       "    </tr>\n",
       "    <tr>\n",
       "      <th>5</th>\n",
       "      <td>H2A.P_(Eutheria)</td>\n",
       "      <td>variant</td>\n",
       "      <td>Eutheria</td>\n",
       "      <td>9347</td>\n",
       "      <td>85</td>\n",
       "      <td>short_H2A_(Eutheria)</td>\n",
       "      <td>H2A.P_(Eutheria)</td>\n",
       "      <td>soboleva_unique_2011</td>\n",
       "    </tr>\n",
       "  </tbody>\n",
       "</table>\n",
       "</div>"
      ],
      "text/plain": [
       "                 id    level taxonomic_span taxonomic_span_id  description  \\\n",
       "0  H2A.P_(Eutheria)  variant       Eutheria              9347           85   \n",
       "1  H2A.P_(Eutheria)  variant       Eutheria              9347           85   \n",
       "2  H2A.P_(Eutheria)  variant       Eutheria              9347           85   \n",
       "3  H2A.P_(Eutheria)  variant       Eutheria              9347           85   \n",
       "4  H2A.P_(Eutheria)  variant       Eutheria              9347           85   \n",
       "5  H2A.P_(Eutheria)  variant       Eutheria              9347           85   \n",
       "\n",
       "                 parent        histone_id                publication_id  \n",
       "0  short_H2A_(Eutheria)  H2A.P_(Eutheria)                       9700202  \n",
       "1  short_H2A_(Eutheria)  H2A.P_(Eutheria)  el_kennani_ms_histonedb_2017  \n",
       "2  short_H2A_(Eutheria)  H2A.P_(Eutheria)         faber_huntingtin_1998  \n",
       "3  short_H2A_(Eutheria)  H2A.P_(Eutheria)        govin_pericentric_2007  \n",
       "4  short_H2A_(Eutheria)  H2A.P_(Eutheria)      molaro_evolutionary_2018  \n",
       "5  short_H2A_(Eutheria)  H2A.P_(Eutheria)          soboleva_unique_2011  "
      ]
     },
     "execution_count": 185,
     "metadata": {},
     "output_type": "execute_result"
    }
   ],
   "source": [
    "query = (\n",
    "    \"SELECT * FROM histone h LEFT JOIN histone_has_publication hp \"\n",
    "    \"ON h.id = hp.histone_id \"\n",
    "    f\"WHERE h.id='{new_name}'\"\n",
    ")\n",
    "cursor.execute(query)\n",
    "pd.DataFrame(cursor.fetchall(), columns=[i[0] for i in cursor.description])"
   ]
  },
  {
   "cell_type": "code",
   "execution_count": 186,
   "id": "cd887dda-756a-48b8-bdea-8eb9856730eb",
   "metadata": {
    "tags": []
   },
   "outputs": [],
   "source": [
    "# Make sure data is committed to the database\n",
    "conn.commit()"
   ]
  },
  {
   "cell_type": "markdown",
   "id": "b5a7bdfc-c14a-4786-8ed6-7c6bfb6de7a2",
   "metadata": {
    "tags": []
   },
   "source": [
    "## Change name from H2A.Q → H2A.Q_(Eutheria)"
   ]
  },
  {
   "cell_type": "code",
   "execution_count": 187,
   "id": "91f3a8c1-23b3-4b5a-a263-ecd3f590eb1f",
   "metadata": {
    "tags": []
   },
   "outputs": [],
   "source": [
    "prev_name, new_name = \"H2A.Q\", \"H2A.Q_(Eutheria)\""
   ]
  },
  {
   "cell_type": "code",
   "execution_count": 188,
   "id": "a0425757-0e6a-4c03-bd40-9aba32757095",
   "metadata": {
    "tags": []
   },
   "outputs": [
    {
     "data": {
      "text/html": [
       "<div>\n",
       "<style scoped>\n",
       "    .dataframe tbody tr th:only-of-type {\n",
       "        vertical-align: middle;\n",
       "    }\n",
       "\n",
       "    .dataframe tbody tr th {\n",
       "        vertical-align: top;\n",
       "    }\n",
       "\n",
       "    .dataframe thead th {\n",
       "        text-align: right;\n",
       "    }\n",
       "</style>\n",
       "<table border=\"1\" class=\"dataframe\">\n",
       "  <thead>\n",
       "    <tr style=\"text-align: right;\">\n",
       "      <th></th>\n",
       "      <th>id</th>\n",
       "      <th>level</th>\n",
       "      <th>taxonomic_span</th>\n",
       "      <th>taxonomic_span_id</th>\n",
       "      <th>description</th>\n",
       "      <th>parent</th>\n",
       "      <th>histone_id</th>\n",
       "      <th>publication_id</th>\n",
       "    </tr>\n",
       "  </thead>\n",
       "  <tbody>\n",
       "    <tr>\n",
       "      <th>0</th>\n",
       "      <td>H2A.Q</td>\n",
       "      <td>variant</td>\n",
       "      <td>Eutheria</td>\n",
       "      <td>9347</td>\n",
       "      <td>86</td>\n",
       "      <td>short_H2A_(Eutheria)</td>\n",
       "      <td>H2A.Q</td>\n",
       "      <td>jiang_short_2020</td>\n",
       "    </tr>\n",
       "    <tr>\n",
       "      <th>1</th>\n",
       "      <td>H2A.Q</td>\n",
       "      <td>variant</td>\n",
       "      <td>Eutheria</td>\n",
       "      <td>9347</td>\n",
       "      <td>86</td>\n",
       "      <td>short_H2A_(Eutheria)</td>\n",
       "      <td>H2A.Q</td>\n",
       "      <td>molaro_evolutionary_2018</td>\n",
       "    </tr>\n",
       "  </tbody>\n",
       "</table>\n",
       "</div>"
      ],
      "text/plain": [
       "      id    level taxonomic_span taxonomic_span_id  description  \\\n",
       "0  H2A.Q  variant       Eutheria              9347           86   \n",
       "1  H2A.Q  variant       Eutheria              9347           86   \n",
       "\n",
       "                 parent histone_id            publication_id  \n",
       "0  short_H2A_(Eutheria)      H2A.Q          jiang_short_2020  \n",
       "1  short_H2A_(Eutheria)      H2A.Q  molaro_evolutionary_2018  "
      ]
     },
     "execution_count": 188,
     "metadata": {},
     "output_type": "execute_result"
    }
   ],
   "source": [
    "query = (\n",
    "    \"SELECT * FROM histone h LEFT JOIN histone_has_publication hp \"\n",
    "    \"ON h.id = hp.histone_id \"\n",
    "    f\"WHERE h.id='{prev_name}'\"\n",
    ")\n",
    "cursor.execute(query)\n",
    "pd.DataFrame(cursor.fetchall(), columns=[i[0] for i in cursor.description])"
   ]
  },
  {
   "cell_type": "code",
   "execution_count": 189,
   "id": "433ce300-02ad-426e-9718-d3d9673933ed",
   "metadata": {
    "tags": []
   },
   "outputs": [
    {
     "data": {
      "text/html": [
       "<div>\n",
       "<style scoped>\n",
       "    .dataframe tbody tr th:only-of-type {\n",
       "        vertical-align: middle;\n",
       "    }\n",
       "\n",
       "    .dataframe tbody tr th {\n",
       "        vertical-align: top;\n",
       "    }\n",
       "\n",
       "    .dataframe thead th {\n",
       "        text-align: right;\n",
       "    }\n",
       "</style>\n",
       "<table border=\"1\" class=\"dataframe\">\n",
       "  <thead>\n",
       "    <tr style=\"text-align: right;\">\n",
       "      <th></th>\n",
       "      <th>id</th>\n",
       "      <th>level</th>\n",
       "      <th>taxonomic_span</th>\n",
       "      <th>taxonomic_span_id</th>\n",
       "      <th>description</th>\n",
       "      <th>parent</th>\n",
       "    </tr>\n",
       "  </thead>\n",
       "  <tbody>\n",
       "  </tbody>\n",
       "</table>\n",
       "</div>"
      ],
      "text/plain": [
       "Empty DataFrame\n",
       "Columns: [id, level, taxonomic_span, taxonomic_span_id, description, parent]\n",
       "Index: []"
      ]
     },
     "execution_count": 189,
     "metadata": {},
     "output_type": "execute_result"
    }
   ],
   "source": [
    "query = (\n",
    "    \"SELECT * FROM histone \"\n",
    "    f\"WHERE parent='{prev_name}'\"\n",
    ")\n",
    "cursor.execute(query)\n",
    "pd.DataFrame(cursor.fetchall(), columns=[i[0] for i in cursor.description])"
   ]
  },
  {
   "cell_type": "markdown",
   "id": "f3f1a44d-0953-4733-abc9-d72940b95464",
   "metadata": {
    "tags": []
   },
   "source": [
    "### Save publications"
   ]
  },
  {
   "cell_type": "code",
   "execution_count": 190,
   "id": "b98a63bc-ff8f-4ba8-b9ce-ef431ca710e1",
   "metadata": {
    "tags": []
   },
   "outputs": [
    {
     "data": {
      "text/plain": [
       "array(['jiang_short_2020', 'molaro_evolutionary_2018'], dtype=object)"
      ]
     },
     "execution_count": 190,
     "metadata": {},
     "output_type": "execute_result"
    }
   ],
   "source": [
    "query = (\n",
    "    \"SELECT * FROM histone h LEFT JOIN histone_has_publication hp \"\n",
    "    \"ON h.id = hp.histone_id \"\n",
    "    f\"WHERE h.id='{prev_name}'\"\n",
    ")\n",
    "cursor.execute(query)\n",
    "publications = pd.DataFrame(\n",
    "    cursor.fetchall(), columns=[i[0] for i in cursor.description]\n",
    ")[\"publication_id\"].values\n",
    "publications"
   ]
  },
  {
   "cell_type": "markdown",
   "id": "f29e70ac-207d-4910-91ef-dc5ff6fbf7a7",
   "metadata": {
    "tags": []
   },
   "source": [
    "### Delete relations"
   ]
  },
  {
   "cell_type": "code",
   "execution_count": 191,
   "id": "d1029bc2-7bed-4fa8-b5aa-d056849c6d2f",
   "metadata": {
    "tags": []
   },
   "outputs": [
    {
     "name": "stdout",
     "output_type": "stream",
     "text": [
      "DELETE FROM histone_has_publication WHERE histone_id = 'H2A.Q'\n"
     ]
    }
   ],
   "source": [
    "query = f\"DELETE FROM histone_has_publication WHERE histone_id = '{prev_name}'\" \n",
    "print(query) \n",
    "cursor.execute(query)"
   ]
  },
  {
   "cell_type": "code",
   "execution_count": 192,
   "id": "3d36a086-625d-4c87-ac7e-18cd52ce490b",
   "metadata": {
    "tags": []
   },
   "outputs": [
    {
     "data": {
      "text/html": [
       "<div>\n",
       "<style scoped>\n",
       "    .dataframe tbody tr th:only-of-type {\n",
       "        vertical-align: middle;\n",
       "    }\n",
       "\n",
       "    .dataframe tbody tr th {\n",
       "        vertical-align: top;\n",
       "    }\n",
       "\n",
       "    .dataframe thead th {\n",
       "        text-align: right;\n",
       "    }\n",
       "</style>\n",
       "<table border=\"1\" class=\"dataframe\">\n",
       "  <thead>\n",
       "    <tr style=\"text-align: right;\">\n",
       "      <th></th>\n",
       "      <th>id</th>\n",
       "      <th>level</th>\n",
       "      <th>taxonomic_span</th>\n",
       "      <th>taxonomic_span_id</th>\n",
       "      <th>description</th>\n",
       "      <th>parent</th>\n",
       "      <th>histone_id</th>\n",
       "      <th>publication_id</th>\n",
       "    </tr>\n",
       "  </thead>\n",
       "  <tbody>\n",
       "    <tr>\n",
       "      <th>0</th>\n",
       "      <td>H2A.Q</td>\n",
       "      <td>variant</td>\n",
       "      <td>Eutheria</td>\n",
       "      <td>9347</td>\n",
       "      <td>86</td>\n",
       "      <td>short_H2A_(Eutheria)</td>\n",
       "      <td>None</td>\n",
       "      <td>None</td>\n",
       "    </tr>\n",
       "  </tbody>\n",
       "</table>\n",
       "</div>"
      ],
      "text/plain": [
       "      id    level taxonomic_span taxonomic_span_id  description  \\\n",
       "0  H2A.Q  variant       Eutheria              9347           86   \n",
       "\n",
       "                 parent histone_id publication_id  \n",
       "0  short_H2A_(Eutheria)       None           None  "
      ]
     },
     "execution_count": 192,
     "metadata": {},
     "output_type": "execute_result"
    }
   ],
   "source": [
    "query = (\n",
    "    \"SELECT * FROM histone h LEFT JOIN histone_has_publication hp \"\n",
    "    \"ON h.id = hp.histone_id \"\n",
    "    f\"WHERE h.id='{prev_name}'\"\n",
    ")\n",
    "cursor.execute(query)\n",
    "pd.DataFrame(cursor.fetchall(), columns=[i[0] for i in cursor.description])"
   ]
  },
  {
   "cell_type": "markdown",
   "id": "69655e24-04a3-403a-b43a-a08a590e477e",
   "metadata": {
    "tags": []
   },
   "source": [
    "### Update name"
   ]
  },
  {
   "cell_type": "code",
   "execution_count": 193,
   "id": "0a04009e-8885-44c3-9dbe-6ee0284b502e",
   "metadata": {
    "tags": []
   },
   "outputs": [
    {
     "name": "stdout",
     "output_type": "stream",
     "text": [
      "UPDATE histone SET id='H2A.Q_(Eutheria)' WHERE id = 'H2A.Q'\n"
     ]
    }
   ],
   "source": [
    "query = f\"UPDATE histone SET id='{new_name}' WHERE id = '{prev_name}'\" \n",
    "print(query) \n",
    "cursor.execute(query) "
   ]
  },
  {
   "cell_type": "code",
   "execution_count": 194,
   "id": "a67891b4-6aee-4391-abd9-7539c4863bb6",
   "metadata": {
    "tags": []
   },
   "outputs": [
    {
     "data": {
      "text/html": [
       "<div>\n",
       "<style scoped>\n",
       "    .dataframe tbody tr th:only-of-type {\n",
       "        vertical-align: middle;\n",
       "    }\n",
       "\n",
       "    .dataframe tbody tr th {\n",
       "        vertical-align: top;\n",
       "    }\n",
       "\n",
       "    .dataframe thead th {\n",
       "        text-align: right;\n",
       "    }\n",
       "</style>\n",
       "<table border=\"1\" class=\"dataframe\">\n",
       "  <thead>\n",
       "    <tr style=\"text-align: right;\">\n",
       "      <th></th>\n",
       "      <th>id</th>\n",
       "      <th>level</th>\n",
       "      <th>taxonomic_span</th>\n",
       "      <th>taxonomic_span_id</th>\n",
       "      <th>description</th>\n",
       "      <th>parent</th>\n",
       "      <th>histone_id</th>\n",
       "      <th>publication_id</th>\n",
       "    </tr>\n",
       "  </thead>\n",
       "  <tbody>\n",
       "    <tr>\n",
       "      <th>0</th>\n",
       "      <td>H2A.Q_(Eutheria)</td>\n",
       "      <td>variant</td>\n",
       "      <td>Eutheria</td>\n",
       "      <td>9347</td>\n",
       "      <td>86</td>\n",
       "      <td>short_H2A_(Eutheria)</td>\n",
       "      <td>None</td>\n",
       "      <td>None</td>\n",
       "    </tr>\n",
       "  </tbody>\n",
       "</table>\n",
       "</div>"
      ],
      "text/plain": [
       "                 id    level taxonomic_span taxonomic_span_id  description  \\\n",
       "0  H2A.Q_(Eutheria)  variant       Eutheria              9347           86   \n",
       "\n",
       "                 parent histone_id publication_id  \n",
       "0  short_H2A_(Eutheria)       None           None  "
      ]
     },
     "execution_count": 194,
     "metadata": {},
     "output_type": "execute_result"
    }
   ],
   "source": [
    "query = (\n",
    "    \"SELECT * FROM histone h LEFT JOIN histone_has_publication hp \"\n",
    "    \"ON h.id = hp.histone_id \"\n",
    "    f\"WHERE h.id='{new_name}'\"\n",
    ")\n",
    "cursor.execute(query)\n",
    "pd.DataFrame(cursor.fetchall(), columns=[i[0] for i in cursor.description])"
   ]
  },
  {
   "cell_type": "markdown",
   "id": "f3b9e3f0-5111-46b1-9612-de24a54b74e9",
   "metadata": {},
   "source": [
    "### Return relations"
   ]
  },
  {
   "cell_type": "code",
   "execution_count": 195,
   "id": "28e1bb9b-b5f9-4195-8082-e157959d2c0b",
   "metadata": {
    "tags": []
   },
   "outputs": [],
   "source": [
    "query = \"SELECT id FROM publication\"\n",
    "cursor.execute(query)\n",
    "exist_pubs = [i[0] for i in cursor.fetchall()]\n",
    "for pid in publications:\n",
    "    if pid not in exist_pubs:\n",
    "        print(f\"Strange {pid}\")\n",
    "    cursor.execute(add_histone_has_publication, (new_name, pid))"
   ]
  },
  {
   "cell_type": "code",
   "execution_count": 196,
   "id": "134038ca-d39c-4778-8a20-647274e46bdd",
   "metadata": {
    "tags": []
   },
   "outputs": [
    {
     "data": {
      "text/html": [
       "<div>\n",
       "<style scoped>\n",
       "    .dataframe tbody tr th:only-of-type {\n",
       "        vertical-align: middle;\n",
       "    }\n",
       "\n",
       "    .dataframe tbody tr th {\n",
       "        vertical-align: top;\n",
       "    }\n",
       "\n",
       "    .dataframe thead th {\n",
       "        text-align: right;\n",
       "    }\n",
       "</style>\n",
       "<table border=\"1\" class=\"dataframe\">\n",
       "  <thead>\n",
       "    <tr style=\"text-align: right;\">\n",
       "      <th></th>\n",
       "      <th>id</th>\n",
       "      <th>level</th>\n",
       "      <th>taxonomic_span</th>\n",
       "      <th>taxonomic_span_id</th>\n",
       "      <th>description</th>\n",
       "      <th>parent</th>\n",
       "      <th>histone_id</th>\n",
       "      <th>publication_id</th>\n",
       "    </tr>\n",
       "  </thead>\n",
       "  <tbody>\n",
       "    <tr>\n",
       "      <th>0</th>\n",
       "      <td>H2A.Q_(Eutheria)</td>\n",
       "      <td>variant</td>\n",
       "      <td>Eutheria</td>\n",
       "      <td>9347</td>\n",
       "      <td>86</td>\n",
       "      <td>short_H2A_(Eutheria)</td>\n",
       "      <td>H2A.Q_(Eutheria)</td>\n",
       "      <td>jiang_short_2020</td>\n",
       "    </tr>\n",
       "    <tr>\n",
       "      <th>1</th>\n",
       "      <td>H2A.Q_(Eutheria)</td>\n",
       "      <td>variant</td>\n",
       "      <td>Eutheria</td>\n",
       "      <td>9347</td>\n",
       "      <td>86</td>\n",
       "      <td>short_H2A_(Eutheria)</td>\n",
       "      <td>H2A.Q_(Eutheria)</td>\n",
       "      <td>molaro_evolutionary_2018</td>\n",
       "    </tr>\n",
       "  </tbody>\n",
       "</table>\n",
       "</div>"
      ],
      "text/plain": [
       "                 id    level taxonomic_span taxonomic_span_id  description  \\\n",
       "0  H2A.Q_(Eutheria)  variant       Eutheria              9347           86   \n",
       "1  H2A.Q_(Eutheria)  variant       Eutheria              9347           86   \n",
       "\n",
       "                 parent        histone_id            publication_id  \n",
       "0  short_H2A_(Eutheria)  H2A.Q_(Eutheria)          jiang_short_2020  \n",
       "1  short_H2A_(Eutheria)  H2A.Q_(Eutheria)  molaro_evolutionary_2018  "
      ]
     },
     "execution_count": 196,
     "metadata": {},
     "output_type": "execute_result"
    }
   ],
   "source": [
    "query = (\n",
    "    \"SELECT * FROM histone h LEFT JOIN histone_has_publication hp \"\n",
    "    \"ON h.id = hp.histone_id \"\n",
    "    f\"WHERE h.id='{new_name}'\"\n",
    ")\n",
    "cursor.execute(query)\n",
    "pd.DataFrame(cursor.fetchall(), columns=[i[0] for i in cursor.description])"
   ]
  },
  {
   "cell_type": "code",
   "execution_count": 197,
   "id": "7a5bf5be-b99b-4e23-bb16-0be9b7a1ad9d",
   "metadata": {
    "tags": []
   },
   "outputs": [],
   "source": [
    "# Make sure data is committed to the database\n",
    "conn.commit()"
   ]
  },
  {
   "cell_type": "code",
   "execution_count": null,
   "id": "2d2e8c24-9076-457f-9560-71ecd663d5e6",
   "metadata": {
    "tags": []
   },
   "outputs": [],
   "source": [
    "# desc_dict = {\n",
    "#     \"summary\": None,\n",
    "#     \"taxonomy\": None,\n",
    "#     \"genes\": None,\n",
    "#     \"evolution\": None,\n",
    "#     \"expression\": None,\n",
    "#     \"knock_out\": None,\n",
    "#     \"function\": None,\n",
    "#     \"sequence\": None,\n",
    "#     \"localization\": None,\n",
    "#     \"deposition\": None,\n",
    "#     \"structure\": None,\n",
    "#     \"interactions\": None,\n",
    "#     \"disease\": None,\n",
    "#     \"caveats\": None,\n",
    "# }"
   ]
  },
  {
   "cell_type": "markdown",
   "id": "d3c8a219-f508-46e1-936f-7d6040016e39",
   "metadata": {
    "tags": []
   },
   "source": [
    "# Close connections"
   ]
  },
  {
   "cell_type": "code",
   "execution_count": 198,
   "id": "572059d8-54f9-4ec7-a2c6-1c8066552845",
   "metadata": {
    "tags": []
   },
   "outputs": [],
   "source": [
    "cursor.close()\n",
    "conn.close()\n",
    "tunnel.stop()"
   ]
  },
  {
   "cell_type": "code",
   "execution_count": null,
   "id": "790ee020-09af-4dcc-9c36-f1b3f69ea8a7",
   "metadata": {},
   "outputs": [],
   "source": []
  }
 ],
 "metadata": {
  "kernelspec": {
   "display_name": ".conda-histdb_env",
   "language": "python",
   "name": "conda-env-.conda-histdb_env-py"
  },
  "language_info": {
   "codemirror_mode": {
    "name": "ipython",
    "version": 3
   },
   "file_extension": ".py",
   "mimetype": "text/x-python",
   "name": "python",
   "nbconvert_exporter": "python",
   "pygments_lexer": "ipython3",
   "version": "3.8.1"
  }
 },
 "nbformat": 4,
 "nbformat_minor": 5
}
