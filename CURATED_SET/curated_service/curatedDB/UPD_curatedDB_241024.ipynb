{
 "cells": [
  {
   "cell_type": "code",
   "execution_count": 1,
   "id": "fb32231a-293e-45b8-af7d-d996c91a4edd",
   "metadata": {
    "tags": []
   },
   "outputs": [],
   "source": [
    "import pandas as pd\n",
    "from Bio import Entrez\n",
    "from mysql.connector import connection\n",
    "from sshtunnel import SSHTunnelForwarder\n",
    "\n",
    "Entrez.email = \"l.singh@intbio.org\"\n",
    "\n",
    "import re\n",
    "\n",
    "from Bio import SeqIO"
   ]
  },
  {
   "cell_type": "code",
   "execution_count": 2,
   "id": "d5fa78a7-4901-4e63-9d91-d9ed584d2f62",
   "metadata": {
    "tags": []
   },
   "outputs": [],
   "source": [
    "with open(\"db_curated_server_info.txt\", \"r\") as file:\n",
    "    lines = file.readlines()\n",
    "\n",
    "config = {}\n",
    "\n",
    "for line in lines:\n",
    "    line = line.strip()\n",
    "    if line and not line.startswith(\"#\"):\n",
    "        key, value = line.split(\"=\", 1)\n",
    "        config[key] = value.strip()\n",
    "\n",
    "server_name = config.get(\"server_name\")\n",
    "srever_port = int(config.get(\"srever_port\"))\n",
    "ssh_password = config.get(\"ssh_password\")\n",
    "ssh_username = config.get(\"ssh_username\")\n",
    "db_adress = config.get(\"db_adress\")\n",
    "db_port = int(config.get(\"db_port\"))"
   ]
  },
  {
   "cell_type": "code",
   "execution_count": 3,
   "id": "ebe3d2e8-9736-4fd9-b3f1-5ec2d255567d",
   "metadata": {
    "tags": []
   },
   "outputs": [
    {
     "name": "stdout",
     "output_type": "stream",
     "text": [
      "39395\n"
     ]
    }
   ],
   "source": [
    "tunnel = SSHTunnelForwarder(\n",
    "    (server_name, srever_port),\n",
    "    ssh_password=ssh_password,\n",
    "    ssh_username=ssh_username,\n",
    "    remote_bind_address=(db_adress, db_port),\n",
    ")\n",
    "tunnel.start()\n",
    "print(tunnel.local_bind_port)"
   ]
  },
  {
   "cell_type": "code",
   "execution_count": 4,
   "id": "0de93630-7502-40f3-ad24-42edf7a11eef",
   "metadata": {
    "tags": []
   },
   "outputs": [],
   "source": [
    "conn = connection.MySQLConnection(\n",
    "    user=\"db_user\",\n",
    "    password=\"db_password\",\n",
    "    host=\"localhost\",\n",
    "    port=tunnel.local_bind_port,\n",
    "    database=\"db_name\",\n",
    ")\n",
    "cursor = conn.cursor()"
   ]
  },
  {
   "cell_type": "code",
   "execution_count": 5,
   "id": "b4767ba0-4ea1-43ae-953f-f2575d9b7a69",
   "metadata": {
    "tags": []
   },
   "outputs": [
    {
     "data": {
      "text/plain": [
       "[('alternative_name',),\n",
       " ('histone',),\n",
       " ('histone_description',),\n",
       " ('histone_has_publication',),\n",
       " ('publication',),\n",
       " ('sequence',),\n",
       " ('sequence_has_publication',)]"
      ]
     },
     "execution_count": 5,
     "metadata": {},
     "output_type": "execute_result"
    }
   ],
   "source": [
    "query = \"SHOW TABLES;\"\n",
    "cursor.execute(query)\n",
    "cursor.fetchall()"
   ]
  },
  {
   "cell_type": "code",
   "execution_count": 6,
   "id": "4daefbcb-7dc2-4727-89c3-06d751dd1257",
   "metadata": {
    "tags": []
   },
   "outputs": [
    {
     "data": {
      "text/plain": [
       "'accession, variant, gi, ncbi_gene_id, hgnc_gene_name, taxonomy_id, organism, phylum, class, taxonomy_group, info, sequence, variant_under_consideration'"
      ]
     },
     "execution_count": 6,
     "metadata": {},
     "output_type": "execute_result"
    }
   ],
   "source": [
    "query = \"SELECT * FROM sequence\"\n",
    "cursor.execute(query)\n",
    "cursor.fetchall()\n",
    "\", \".join([i[0] for i in cursor.description])"
   ]
  },
  {
   "cell_type": "code",
   "execution_count": 7,
   "id": "c68d4b8f-c22c-4f8e-bb4f-71f95668656e",
   "metadata": {
    "tags": []
   },
   "outputs": [],
   "source": [
    "# add_publication = (\n",
    "#     \"INSERT INTO publication \"\n",
    "#     \"(id, title, doi, author, year) \"\n",
    "#     \"VALUES (%(id)s, %(title)s, %(doi)s, %(author)s, %(year)s)\"\n",
    "# )\n",
    "add_sequence_has_publication = (\n",
    "    \"INSERT INTO sequence_has_publication \"\n",
    "    \"(sequence_accession, publication_id) \"\n",
    "    \"VALUES (%s, %s)\"\n",
    ")\n",
    "add_sequence = (\n",
    "    \"INSERT INTO sequence \"\n",
    "    \"(accession, variant, gi, ncbi_gene_id, hgnc_gene_name, taxonomy_id, organism, phylum, class, taxonomy_group, info, sequence, variant_under_consideration) \"\n",
    "    \"VALUES (%(accession)s, %(variant)s, %(gi)s, %(ncbi_gene_id)s, %(hgnc_gene_name)s, %(taxonomy_id)s, %(organism)s, %(phylum)s, %(class)s, %(taxonomy_group)s, %(info)s, %(sequence)s, %(variant_under_consideration)s)\"\n",
    ")"
   ]
  },
  {
   "cell_type": "code",
   "execution_count": 8,
   "id": "a08e6ecd-8100-4900-97a8-2b9bd4e8d4e4",
   "metadata": {
    "tags": []
   },
   "outputs": [],
   "source": [
    "def get_taxonomy_data(record):\n",
    "    taxonomy_data = {}\n",
    "    taxonomy_data[\"organism\"] = record.annotations[\"organism\"]\n",
    "    try:\n",
    "        for a in record.features[0].qualifiers[\"db_xref\"]:\n",
    "            text = re.search(\"(\\S+):(\\S+)\", a).group(1)\n",
    "            taxid = re.search(\"(\\S+):(\\S+)\", a).group(2)\n",
    "            if text == \"taxon\":\n",
    "                print(\"Fetched taxid from NCBI {}\".format(id))\n",
    "                taxonomy_data[\"taxonomy_id\"] = int(taxid)\n",
    "            else:\n",
    "                continue\n",
    "    except:\n",
    "        print(\"!!!!!!Unable to get TAXID for \\n {} setting it to 1\".format(s))\n",
    "        taxids.append(1)  # unable to identify\n",
    "\n",
    "    lineage = dict()\n",
    "    for i in range(10):\n",
    "        try:\n",
    "            handle = Entrez.efetch(\n",
    "                id=taxonomy_data[\"taxonomy_id\"], db=\"taxonomy\", retmode=\"xml\"\n",
    "            )\n",
    "            tax_data = Entrez.read(handle)\n",
    "            lineage = {\n",
    "                d[\"Rank\"]: d[\"ScientificName\"]\n",
    "                for d in tax_data[0][\"LineageEx\"]\n",
    "                if d[\"Rank\"] in [\"class\", \"phylum\"]\n",
    "            }\n",
    "            break\n",
    "        except:\n",
    "            print(\"Unexpected error: {}, Retrying, attempt {}\".format(sys.exc_info()[0], i))\n",
    "            if i == 9:\n",
    "                print(\n",
    "                    f\"FATAL ERROR could not get class and phylum from NCBI after 10 attempts for taxid:{taxonomy_data['taxonomy_id']}. Will add None for class and phylum!\"\n",
    "                )\n",
    "            else:\n",
    "                continue\n",
    "    taxonomy_data[\"phylum\"] = lineage.get(\"phylum\", None)\n",
    "    taxonomy_data[\"class\"] = lineage.get(\"class\", None)\n",
    "    if taxonomy_data[\"phylum\"] is not None: taxonomy_data[\"phylum\"] = str(taxonomy_data[\"phylum\"])\n",
    "    if taxonomy_data[\"class\"] is not None: taxonomy_data[\"class\"] = str(taxonomy_data[\"class\"])\n",
    "    return taxonomy_data"
   ]
  },
  {
   "cell_type": "markdown",
   "id": "0c56b719-348a-44ea-89f1-41a87181eb42",
   "metadata": {
    "jp-MarkdownHeadingCollapsed": true,
    "tags": []
   },
   "source": [
    "# Add sheep H2B.K\n",
    "\n",
    "**Atricle:** https://academic.oup.com/mbe/article/39/2/msac019/6517784#333890704\n",
    "\n",
    "**Gene:** oviAri4, chr4, +-, 113150440-113152940\n",
    "\n",
    "**Sequence from article:**\n",
    "```fasta\n",
    ">Sheep_H2B.K\n",
    "MSAEHGQLQQAGGRRGRSPGDKKSRRRSRRKETYSMYIYKVLKQVHPDIGISSKAMSIMNSFVNDLFERLAGEAARLAQYSGRTTLTSREVQTAVRLLLPGELAKHAVSEGTKAVTKYTSSK\n",
    "```\n",
    "\n",
    "BLASTP has one result with 100% coverage and 99% identity (1 substitution).\n",
    "\n",
    "**Protein accession:** XP_027824938.1"
   ]
  },
  {
   "cell_type": "code",
   "execution_count": 9,
   "id": "64dd89fb-9227-4ccb-b91d-318773da9d33",
   "metadata": {
    "tags": []
   },
   "outputs": [],
   "source": [
    "ACCESSION = \"HISTDB_H2B_K_0\""
   ]
  },
  {
   "cell_type": "markdown",
   "id": "f4b28229-b230-4027-be9b-e440fd4c57fd",
   "metadata": {
    "tags": []
   },
   "source": [
    "## Adding HISTDB_H2B_K_0"
   ]
  },
  {
   "cell_type": "code",
   "execution_count": 10,
   "id": "20b7823a-a245-4e1b-90b7-6bdae9c27ccd",
   "metadata": {
    "tags": []
   },
   "outputs": [
    {
     "data": {
      "text/plain": [
       "{'accession': 'HISTDB_H2B_K_0',\n",
       " 'variant': 'H2B.K',\n",
       " 'gi': None,\n",
       " 'ncbi_gene_id': None,\n",
       " 'hgnc_gene_name': None,\n",
       " 'taxonomy_id': 9940,\n",
       " 'organism': 'Ovis aries',\n",
       " 'phylum': 'Chordata',\n",
       " 'class': 'Mammalia',\n",
       " 'taxonomy_group': None,\n",
       " 'info': None,\n",
       " 'sequence': 'MSAEHGQLQQAGGRRGRSPGDKKSRRRSRRKETYSMYIYKVLKQVHPDIGISSKAMSIMNSFVNDLFERLAGEAARLAQYSGRTTLTSREVQTAVRLLLPGELAKHAVSEGTKAVTKYTSSK',\n",
       " 'variant_under_consideration': None}"
      ]
     },
     "execution_count": 10,
     "metadata": {},
     "output_type": "execute_result"
    }
   ],
   "source": [
    "data_sequence = {\n",
    "    \"accession\": ACCESSION,\n",
    "    \"variant\": \"H2B.K\",\n",
    "    \"gi\": None,\n",
    "    \"ncbi_gene_id\": None,\n",
    "    \"hgnc_gene_name\": None,\n",
    "    \"taxonomy_id\": 9940 ,\n",
    "    \"organism\": \"Ovis aries\",\n",
    "    \"phylum\": \"Chordata\",\n",
    "    \"class\": \"Mammalia\",\n",
    "    \"taxonomy_group\": None,\n",
    "    \"info\": None,\n",
    "    \"sequence\": \"MSAEHGQLQQAGGRRGRSPGDKKSRRRSRRKETYSMYIYKVLKQVHPDIGISSKAMSIMNSFVNDLFERLAGEAARLAQYSGRTTLTSREVQTAVRLLLPGELAKHAVSEGTKAVTKYTSSK\",\n",
    "    \"variant_under_consideration\": None,\n",
    "}\n",
    "data_sequence"
   ]
  },
  {
   "cell_type": "code",
   "execution_count": 11,
   "id": "bef4ca50-210f-4cb6-a56a-e7509b13e2a1",
   "metadata": {
    "tags": []
   },
   "outputs": [
    {
     "name": "stdout",
     "output_type": "stream",
     "text": [
      "accession <class 'str'>\n",
      "variant <class 'str'>\n",
      "gi <class 'NoneType'>\n",
      "ncbi_gene_id <class 'NoneType'>\n",
      "hgnc_gene_name <class 'NoneType'>\n",
      "taxonomy_id <class 'int'>\n",
      "organism <class 'str'>\n",
      "phylum <class 'str'>\n",
      "class <class 'str'>\n",
      "taxonomy_group <class 'NoneType'>\n",
      "info <class 'NoneType'>\n",
      "sequence <class 'str'>\n",
      "variant_under_consideration <class 'NoneType'>\n"
     ]
    }
   ],
   "source": [
    "for k, v in data_sequence.items():\n",
    "    print(k, type(v))"
   ]
  },
  {
   "cell_type": "code",
   "execution_count": 12,
   "id": "f5a69746-b9b4-494c-8af2-244536260533",
   "metadata": {
    "tags": []
   },
   "outputs": [],
   "source": [
    "cursor.execute(add_sequence, data_sequence)"
   ]
  },
  {
   "cell_type": "code",
   "execution_count": 13,
   "id": "59ca3040-b842-412e-bbab-6a2700a0f631",
   "metadata": {
    "tags": []
   },
   "outputs": [
    {
     "data": {
      "text/html": [
       "<div>\n",
       "<style scoped>\n",
       "    .dataframe tbody tr th:only-of-type {\n",
       "        vertical-align: middle;\n",
       "    }\n",
       "\n",
       "    .dataframe tbody tr th {\n",
       "        vertical-align: top;\n",
       "    }\n",
       "\n",
       "    .dataframe thead th {\n",
       "        text-align: right;\n",
       "    }\n",
       "</style>\n",
       "<table border=\"1\" class=\"dataframe\">\n",
       "  <thead>\n",
       "    <tr style=\"text-align: right;\">\n",
       "      <th></th>\n",
       "      <th>accession</th>\n",
       "      <th>variant</th>\n",
       "      <th>gi</th>\n",
       "      <th>ncbi_gene_id</th>\n",
       "      <th>hgnc_gene_name</th>\n",
       "      <th>taxonomy_id</th>\n",
       "      <th>organism</th>\n",
       "      <th>phylum</th>\n",
       "      <th>class</th>\n",
       "      <th>taxonomy_group</th>\n",
       "      <th>info</th>\n",
       "      <th>sequence</th>\n",
       "      <th>variant_under_consideration</th>\n",
       "      <th>sequence_accession</th>\n",
       "      <th>publication_id</th>\n",
       "    </tr>\n",
       "  </thead>\n",
       "  <tbody>\n",
       "    <tr>\n",
       "      <th>0</th>\n",
       "      <td>HISTDB_H2B_K_0</td>\n",
       "      <td>H2B.K</td>\n",
       "      <td>None</td>\n",
       "      <td>None</td>\n",
       "      <td>None</td>\n",
       "      <td>9940</td>\n",
       "      <td>Ovis aries</td>\n",
       "      <td>Chordata</td>\n",
       "      <td>Mammalia</td>\n",
       "      <td>None</td>\n",
       "      <td>None</td>\n",
       "      <td>MSAEHGQLQQAGGRRGRSPGDKKSRRRSRRKETYSMYIYKVLKQVH...</td>\n",
       "      <td>None</td>\n",
       "      <td>None</td>\n",
       "      <td>None</td>\n",
       "    </tr>\n",
       "  </tbody>\n",
       "</table>\n",
       "</div>"
      ],
      "text/plain": [
       "        accession variant    gi ncbi_gene_id hgnc_gene_name  taxonomy_id  \\\n",
       "0  HISTDB_H2B_K_0   H2B.K  None         None           None         9940   \n",
       "\n",
       "     organism    phylum     class taxonomy_group  info  \\\n",
       "0  Ovis aries  Chordata  Mammalia           None  None   \n",
       "\n",
       "                                            sequence  \\\n",
       "0  MSAEHGQLQQAGGRRGRSPGDKKSRRRSRRKETYSMYIYKVLKQVH...   \n",
       "\n",
       "  variant_under_consideration sequence_accession publication_id  \n",
       "0                        None               None           None  "
      ]
     },
     "execution_count": 13,
     "metadata": {},
     "output_type": "execute_result"
    }
   ],
   "source": [
    "query = (\n",
    "    \"SELECT * FROM sequence s LEFT JOIN sequence_has_publication sp \"\n",
    "    \"ON s.accession = sp.sequence_accession \"\n",
    "    f\"WHERE s.accession='{ACCESSION}'\"\n",
    ")\n",
    "cursor.execute(query)\n",
    "df = pd.DataFrame(cursor.fetchall(), columns=[i[0] for i in cursor.description])\n",
    "df"
   ]
  },
  {
   "cell_type": "markdown",
   "id": "8cc41980-aff2-4f1c-9dca-a31bfda4932a",
   "metadata": {
    "tags": []
   },
   "source": [
    "## Add publication"
   ]
  },
  {
   "cell_type": "code",
   "execution_count": 14,
   "id": "fb2df071-bfce-4d2f-a7c6-748f8b9f6c0f",
   "metadata": {
    "tags": []
   },
   "outputs": [
    {
     "data": {
      "text/html": [
       "<div>\n",
       "<style scoped>\n",
       "    .dataframe tbody tr th:only-of-type {\n",
       "        vertical-align: middle;\n",
       "    }\n",
       "\n",
       "    .dataframe tbody tr th {\n",
       "        vertical-align: top;\n",
       "    }\n",
       "\n",
       "    .dataframe thead th {\n",
       "        text-align: right;\n",
       "    }\n",
       "</style>\n",
       "<table border=\"1\" class=\"dataframe\">\n",
       "  <thead>\n",
       "    <tr style=\"text-align: right;\">\n",
       "      <th></th>\n",
       "      <th>id</th>\n",
       "      <th>title</th>\n",
       "      <th>doi</th>\n",
       "      <th>author</th>\n",
       "      <th>year</th>\n",
       "    </tr>\n",
       "  </thead>\n",
       "  <tbody>\n",
       "    <tr>\n",
       "      <th>0</th>\n",
       "      <td>35099534</td>\n",
       "      <td>None</td>\n",
       "      <td>None</td>\n",
       "      <td>None</td>\n",
       "      <td>None</td>\n",
       "    </tr>\n",
       "  </tbody>\n",
       "</table>\n",
       "</div>"
      ],
      "text/plain": [
       "         id title   doi author  year\n",
       "0  35099534  None  None   None  None"
      ]
     },
     "execution_count": 14,
     "metadata": {},
     "output_type": "execute_result"
    }
   ],
   "source": [
    "pid = \"35099534\"\n",
    "query = \"SELECT * FROM publication WHERE id='35099534'\"\n",
    "cursor.execute(query)\n",
    "pd.DataFrame(cursor.fetchall(), columns=[i[0] for i in cursor.description])"
   ]
  },
  {
   "cell_type": "code",
   "execution_count": 15,
   "id": "2fe037d0-5ea6-46c2-9d13-fa4eae92e3b4",
   "metadata": {
    "tags": []
   },
   "outputs": [],
   "source": [
    "cursor.execute(add_sequence_has_publication, (ACCESSION, pid))"
   ]
  },
  {
   "cell_type": "code",
   "execution_count": 16,
   "id": "1211f70a-8cbb-47a7-aafb-77191f34ba42",
   "metadata": {
    "tags": []
   },
   "outputs": [
    {
     "data": {
      "text/html": [
       "<div>\n",
       "<style scoped>\n",
       "    .dataframe tbody tr th:only-of-type {\n",
       "        vertical-align: middle;\n",
       "    }\n",
       "\n",
       "    .dataframe tbody tr th {\n",
       "        vertical-align: top;\n",
       "    }\n",
       "\n",
       "    .dataframe thead th {\n",
       "        text-align: right;\n",
       "    }\n",
       "</style>\n",
       "<table border=\"1\" class=\"dataframe\">\n",
       "  <thead>\n",
       "    <tr style=\"text-align: right;\">\n",
       "      <th></th>\n",
       "      <th>accession</th>\n",
       "      <th>variant</th>\n",
       "      <th>gi</th>\n",
       "      <th>ncbi_gene_id</th>\n",
       "      <th>hgnc_gene_name</th>\n",
       "      <th>taxonomy_id</th>\n",
       "      <th>organism</th>\n",
       "      <th>phylum</th>\n",
       "      <th>class</th>\n",
       "      <th>taxonomy_group</th>\n",
       "      <th>info</th>\n",
       "      <th>sequence</th>\n",
       "      <th>variant_under_consideration</th>\n",
       "      <th>sequence_accession</th>\n",
       "      <th>publication_id</th>\n",
       "    </tr>\n",
       "  </thead>\n",
       "  <tbody>\n",
       "    <tr>\n",
       "      <th>0</th>\n",
       "      <td>HISTDB_H2B_K_0</td>\n",
       "      <td>H2B.K</td>\n",
       "      <td>None</td>\n",
       "      <td>None</td>\n",
       "      <td>None</td>\n",
       "      <td>9940</td>\n",
       "      <td>Ovis aries</td>\n",
       "      <td>Chordata</td>\n",
       "      <td>Mammalia</td>\n",
       "      <td>None</td>\n",
       "      <td>None</td>\n",
       "      <td>MSAEHGQLQQAGGRRGRSPGDKKSRRRSRRKETYSMYIYKVLKQVH...</td>\n",
       "      <td>None</td>\n",
       "      <td>HISTDB_H2B_K_0</td>\n",
       "      <td>35099534</td>\n",
       "    </tr>\n",
       "  </tbody>\n",
       "</table>\n",
       "</div>"
      ],
      "text/plain": [
       "        accession variant    gi ncbi_gene_id hgnc_gene_name  taxonomy_id  \\\n",
       "0  HISTDB_H2B_K_0   H2B.K  None         None           None         9940   \n",
       "\n",
       "     organism    phylum     class taxonomy_group  info  \\\n",
       "0  Ovis aries  Chordata  Mammalia           None  None   \n",
       "\n",
       "                                            sequence  \\\n",
       "0  MSAEHGQLQQAGGRRGRSPGDKKSRRRSRRKETYSMYIYKVLKQVH...   \n",
       "\n",
       "  variant_under_consideration sequence_accession publication_id  \n",
       "0                        None     HISTDB_H2B_K_0       35099534  "
      ]
     },
     "execution_count": 16,
     "metadata": {},
     "output_type": "execute_result"
    }
   ],
   "source": [
    "query = (\n",
    "    \"SELECT * FROM sequence s LEFT JOIN sequence_has_publication sp \"\n",
    "    \"ON s.accession = sp.sequence_accession \"\n",
    "    f\"WHERE s.accession='{ACCESSION}'\"\n",
    ")\n",
    "cursor.execute(query)\n",
    "df = pd.DataFrame(cursor.fetchall(), columns=[i[0] for i in cursor.description])\n",
    "df"
   ]
  },
  {
   "cell_type": "markdown",
   "id": "088d5922-fa5e-4d9e-86cd-a649849c494a",
   "metadata": {
    "tags": []
   },
   "source": [
    "## Get sequence XP_027824938.1 from NCBI"
   ]
  },
  {
   "cell_type": "code",
   "execution_count": 18,
   "id": "e891cb9a-7f5b-4302-9f6d-2144cc6b18b7",
   "metadata": {
    "tags": []
   },
   "outputs": [],
   "source": [
    "ACCESSION = \"XP_027824938.1\""
   ]
  },
  {
   "cell_type": "code",
   "execution_count": 19,
   "id": "426202a9-59e8-40bc-a2b3-75a150b7b50f",
   "metadata": {
    "tags": []
   },
   "outputs": [
    {
     "name": "stdout",
     "output_type": "stream",
     "text": [
      "ID: XP_027824938.1\n",
      "Name: XP_027824938\n",
      "Description: histone H2B type 2-K1 [Ovis aries]\n",
      "Database cross-references: BioProject:PRJNA739192\n",
      "Number of features: 7\n",
      "/topology=linear\n",
      "/data_file_division=MAM\n",
      "/date=30-OCT-2023\n",
      "/accessions=['XP_027824938']\n",
      "/sequence_version=1\n",
      "/db_source=REFSEQ: accession XM_027969137.3\n",
      "/keywords=['RefSeq']\n",
      "/source=Ovis aries (sheep)\n",
      "/organism=Ovis aries\n",
      "/taxonomy=['Eukaryota', 'Metazoa', 'Chordata', 'Craniata', 'Vertebrata', 'Euteleostomi', 'Mammalia', 'Eutheria', 'Laurasiatheria', 'Artiodactyla', 'Ruminantia', 'Pecora', 'Bovidae', 'Caprinae', 'Ovis']\n",
      "/comment=MODEL REFSEQ:  This record is predicted by automated computational\n",
      "analysis. This record is derived from a genomic sequence\n",
      "(NC_056057.1) annotated using gene prediction method: Gnomon.\n",
      "Also see:\n",
      "    Documentation of NCBI's Annotation Process\n",
      "COMPLETENESS: full length.\n",
      "/structured_comment=OrderedDict([('Genome-Annotation-Data', OrderedDict([('Annotation Provider', 'NCBI RefSeq'), ('Annotation Status', 'Full annotation'), ('Annotation Name', 'GCF_016772045.2-RS_2023_10'), ('Annotation Pipeline', 'NCBI eukaryotic genome annotation pipeline'), ('Annotation Software Version', '10.2'), ('Annotation Method', 'Best-placed RefSeq; Gnomon; cmsearch; tRNAscan-SE'), ('Features Annotated', 'Gene; mRNA; CDS; ncRNA'), ('Annotation Date', '10/17/2023')]))])\n",
      "/molecule_type=protein\n",
      "Seq('MSAEHGQLQQSGGRRGRSPGDKKSRRRSRRKETYSMYIYKVLKQVHPDIGISSK...SSK')\n"
     ]
    }
   ],
   "source": [
    "with Entrez.efetch(\n",
    "    db=\"protein\", id=ACCESSION, rettype=\"gb\", retmode=\"text\"\n",
    ") as handle:\n",
    "    record = SeqIO.read(handle, \"genbank\")\n",
    "    print(record)"
   ]
  },
  {
   "cell_type": "code",
   "execution_count": 20,
   "id": "15abded6-d35b-467e-ab84-66af98f366b3",
   "metadata": {
    "tags": []
   },
   "outputs": [
    {
     "data": {
      "text/plain": [
       "'MSAEHGQLQQSGGRRGRSPGDKKSRRRSRRKETYSMYIYKVLKQVHPDIGISSKAMSIMNSFVNDLFERLAGEAARLAQYSGRTTLTSREVQTAVRLLLPGELAKHAVSEGTKAVTKYTSSK'"
      ]
     },
     "execution_count": 20,
     "metadata": {},
     "output_type": "execute_result"
    }
   ],
   "source": [
    "str(record.seq)"
   ]
  },
  {
   "cell_type": "code",
   "execution_count": 21,
   "id": "746cc9a2-f0cd-4ecb-b8a5-65fb9c5e3daa",
   "metadata": {
    "tags": []
   },
   "outputs": [
    {
     "data": {
      "text/plain": [
       "'Ovis aries'"
      ]
     },
     "execution_count": 21,
     "metadata": {},
     "output_type": "execute_result"
    }
   ],
   "source": [
    "record.annotations[\"organism\"]"
   ]
  },
  {
   "cell_type": "code",
   "execution_count": 22,
   "id": "9e2f7126-7cd4-4265-aa0e-a764b6659fb4",
   "metadata": {
    "tags": []
   },
   "outputs": [
    {
     "name": "stdout",
     "output_type": "stream",
     "text": [
      "Fetched taxid from NCBI <built-in function id>\n"
     ]
    },
    {
     "data": {
      "text/plain": [
       "{'organism': 'Ovis aries',\n",
       " 'taxonomy_id': 9940,\n",
       " 'phylum': 'Chordata',\n",
       " 'class': 'Mammalia'}"
      ]
     },
     "execution_count": 22,
     "metadata": {},
     "output_type": "execute_result"
    }
   ],
   "source": [
    "taxonomy_data = get_taxonomy_data(record)\n",
    "taxonomy_data"
   ]
  },
  {
   "cell_type": "markdown",
   "id": "f95c5b01-f3c3-4e84-9be9-a93a8f44e6de",
   "metadata": {},
   "source": [
    "## Adding XP_027824938.1"
   ]
  },
  {
   "cell_type": "code",
   "execution_count": 23,
   "id": "817afbc1-8eaa-49a2-8da9-6b5a0d9f8563",
   "metadata": {
    "tags": []
   },
   "outputs": [
    {
     "data": {
      "text/plain": [
       "{'accession': 'XP_027824938.1',\n",
       " 'variant': 'H2B.K',\n",
       " 'gi': None,\n",
       " 'ncbi_gene_id': None,\n",
       " 'hgnc_gene_name': None,\n",
       " 'taxonomy_id': 9940,\n",
       " 'organism': 'Ovis aries',\n",
       " 'phylum': 'Chordata',\n",
       " 'class': 'Mammalia',\n",
       " 'taxonomy_group': None,\n",
       " 'info': None,\n",
       " 'sequence': 'MSAEHGQLQQSGGRRGRSPGDKKSRRRSRRKETYSMYIYKVLKQVHPDIGISSKAMSIMNSFVNDLFERLAGEAARLAQYSGRTTLTSREVQTAVRLLLPGELAKHAVSEGTKAVTKYTSSK',\n",
       " 'variant_under_consideration': None}"
      ]
     },
     "execution_count": 23,
     "metadata": {},
     "output_type": "execute_result"
    }
   ],
   "source": [
    "data_sequence = {\n",
    "    \"accession\": ACCESSION,\n",
    "    \"variant\": \"H2B.K\",\n",
    "    \"gi\": None,\n",
    "    \"ncbi_gene_id\": None,\n",
    "    \"hgnc_gene_name\": None,\n",
    "    \"taxonomy_id\": None,\n",
    "    \"organism\": None,\n",
    "    \"phylum\": None,\n",
    "    \"class\": None,\n",
    "    \"taxonomy_group\": None,\n",
    "    \"info\": None,\n",
    "    \"sequence\": str(record.seq),\n",
    "    \"variant_under_consideration\": None,\n",
    "}\n",
    "data_sequence.update(taxonomy_data)\n",
    "data_sequence"
   ]
  },
  {
   "cell_type": "code",
   "execution_count": 24,
   "id": "80153e27-10cf-4e67-b5d9-baa0c30cded8",
   "metadata": {
    "tags": []
   },
   "outputs": [
    {
     "name": "stdout",
     "output_type": "stream",
     "text": [
      "accession <class 'str'>\n",
      "variant <class 'str'>\n",
      "gi <class 'NoneType'>\n",
      "ncbi_gene_id <class 'NoneType'>\n",
      "hgnc_gene_name <class 'NoneType'>\n",
      "taxonomy_id <class 'int'>\n",
      "organism <class 'str'>\n",
      "phylum <class 'str'>\n",
      "class <class 'str'>\n",
      "taxonomy_group <class 'NoneType'>\n",
      "info <class 'NoneType'>\n",
      "sequence <class 'str'>\n",
      "variant_under_consideration <class 'NoneType'>\n"
     ]
    }
   ],
   "source": [
    "for k, v in data_sequence.items():\n",
    "    print(k, type(v))"
   ]
  },
  {
   "cell_type": "code",
   "execution_count": 25,
   "id": "8f7b6b35-0189-4eb0-baa4-26edcf790037",
   "metadata": {
    "tags": []
   },
   "outputs": [],
   "source": [
    "cursor.execute(add_sequence, data_sequence)"
   ]
  },
  {
   "cell_type": "code",
   "execution_count": 26,
   "id": "ada5f893-01c8-4b80-876d-c36f13f307b2",
   "metadata": {
    "tags": []
   },
   "outputs": [
    {
     "data": {
      "text/html": [
       "<div>\n",
       "<style scoped>\n",
       "    .dataframe tbody tr th:only-of-type {\n",
       "        vertical-align: middle;\n",
       "    }\n",
       "\n",
       "    .dataframe tbody tr th {\n",
       "        vertical-align: top;\n",
       "    }\n",
       "\n",
       "    .dataframe thead th {\n",
       "        text-align: right;\n",
       "    }\n",
       "</style>\n",
       "<table border=\"1\" class=\"dataframe\">\n",
       "  <thead>\n",
       "    <tr style=\"text-align: right;\">\n",
       "      <th></th>\n",
       "      <th>accession</th>\n",
       "      <th>variant</th>\n",
       "      <th>gi</th>\n",
       "      <th>ncbi_gene_id</th>\n",
       "      <th>hgnc_gene_name</th>\n",
       "      <th>taxonomy_id</th>\n",
       "      <th>organism</th>\n",
       "      <th>phylum</th>\n",
       "      <th>class</th>\n",
       "      <th>taxonomy_group</th>\n",
       "      <th>info</th>\n",
       "      <th>sequence</th>\n",
       "      <th>variant_under_consideration</th>\n",
       "      <th>sequence_accession</th>\n",
       "      <th>publication_id</th>\n",
       "    </tr>\n",
       "  </thead>\n",
       "  <tbody>\n",
       "    <tr>\n",
       "      <th>0</th>\n",
       "      <td>XP_027824938.1</td>\n",
       "      <td>H2B.K</td>\n",
       "      <td>None</td>\n",
       "      <td>None</td>\n",
       "      <td>None</td>\n",
       "      <td>9940</td>\n",
       "      <td>Ovis aries</td>\n",
       "      <td>Chordata</td>\n",
       "      <td>Mammalia</td>\n",
       "      <td>None</td>\n",
       "      <td>None</td>\n",
       "      <td>MSAEHGQLQQSGGRRGRSPGDKKSRRRSRRKETYSMYIYKVLKQVH...</td>\n",
       "      <td>None</td>\n",
       "      <td>None</td>\n",
       "      <td>None</td>\n",
       "    </tr>\n",
       "  </tbody>\n",
       "</table>\n",
       "</div>"
      ],
      "text/plain": [
       "        accession variant    gi ncbi_gene_id hgnc_gene_name  taxonomy_id  \\\n",
       "0  XP_027824938.1   H2B.K  None         None           None         9940   \n",
       "\n",
       "     organism    phylum     class taxonomy_group  info  \\\n",
       "0  Ovis aries  Chordata  Mammalia           None  None   \n",
       "\n",
       "                                            sequence  \\\n",
       "0  MSAEHGQLQQSGGRRGRSPGDKKSRRRSRRKETYSMYIYKVLKQVH...   \n",
       "\n",
       "  variant_under_consideration sequence_accession publication_id  \n",
       "0                        None               None           None  "
      ]
     },
     "execution_count": 26,
     "metadata": {},
     "output_type": "execute_result"
    }
   ],
   "source": [
    "query = (\n",
    "    \"SELECT * FROM sequence s LEFT JOIN sequence_has_publication sp \"\n",
    "    \"ON s.accession = sp.sequence_accession \"\n",
    "    f\"WHERE s.accession='{ACCESSION}'\"\n",
    ")\n",
    "cursor.execute(query)\n",
    "df = pd.DataFrame(cursor.fetchall(), columns=[i[0] for i in cursor.description])\n",
    "df"
   ]
  },
  {
   "cell_type": "markdown",
   "id": "57c7e471-1ae8-4a62-bcd5-f4688bd07bcf",
   "metadata": {},
   "source": [
    "## Add publication"
   ]
  },
  {
   "cell_type": "code",
   "execution_count": 27,
   "id": "9f936c57-3777-4818-aa57-d60b49a14123",
   "metadata": {
    "tags": []
   },
   "outputs": [
    {
     "data": {
      "text/html": [
       "<div>\n",
       "<style scoped>\n",
       "    .dataframe tbody tr th:only-of-type {\n",
       "        vertical-align: middle;\n",
       "    }\n",
       "\n",
       "    .dataframe tbody tr th {\n",
       "        vertical-align: top;\n",
       "    }\n",
       "\n",
       "    .dataframe thead th {\n",
       "        text-align: right;\n",
       "    }\n",
       "</style>\n",
       "<table border=\"1\" class=\"dataframe\">\n",
       "  <thead>\n",
       "    <tr style=\"text-align: right;\">\n",
       "      <th></th>\n",
       "      <th>id</th>\n",
       "      <th>title</th>\n",
       "      <th>doi</th>\n",
       "      <th>author</th>\n",
       "      <th>year</th>\n",
       "    </tr>\n",
       "  </thead>\n",
       "  <tbody>\n",
       "    <tr>\n",
       "      <th>0</th>\n",
       "      <td>35099534</td>\n",
       "      <td>None</td>\n",
       "      <td>None</td>\n",
       "      <td>None</td>\n",
       "      <td>None</td>\n",
       "    </tr>\n",
       "  </tbody>\n",
       "</table>\n",
       "</div>"
      ],
      "text/plain": [
       "         id title   doi author  year\n",
       "0  35099534  None  None   None  None"
      ]
     },
     "execution_count": 27,
     "metadata": {},
     "output_type": "execute_result"
    }
   ],
   "source": [
    "pid = \"35099534\"\n",
    "query = \"SELECT * FROM publication WHERE id='35099534'\"\n",
    "cursor.execute(query)\n",
    "pd.DataFrame(cursor.fetchall(), columns=[i[0] for i in cursor.description])"
   ]
  },
  {
   "cell_type": "code",
   "execution_count": 28,
   "id": "5fbc660d-8ed0-4c34-81a4-264425b945d4",
   "metadata": {
    "tags": []
   },
   "outputs": [],
   "source": [
    "cursor.execute(add_sequence_has_publication, (ACCESSION, pid))"
   ]
  },
  {
   "cell_type": "code",
   "execution_count": 29,
   "id": "257d4ef1-5d17-427f-95f0-f0c07d89442b",
   "metadata": {
    "tags": []
   },
   "outputs": [
    {
     "data": {
      "text/html": [
       "<div>\n",
       "<style scoped>\n",
       "    .dataframe tbody tr th:only-of-type {\n",
       "        vertical-align: middle;\n",
       "    }\n",
       "\n",
       "    .dataframe tbody tr th {\n",
       "        vertical-align: top;\n",
       "    }\n",
       "\n",
       "    .dataframe thead th {\n",
       "        text-align: right;\n",
       "    }\n",
       "</style>\n",
       "<table border=\"1\" class=\"dataframe\">\n",
       "  <thead>\n",
       "    <tr style=\"text-align: right;\">\n",
       "      <th></th>\n",
       "      <th>accession</th>\n",
       "      <th>variant</th>\n",
       "      <th>gi</th>\n",
       "      <th>ncbi_gene_id</th>\n",
       "      <th>hgnc_gene_name</th>\n",
       "      <th>taxonomy_id</th>\n",
       "      <th>organism</th>\n",
       "      <th>phylum</th>\n",
       "      <th>class</th>\n",
       "      <th>taxonomy_group</th>\n",
       "      <th>info</th>\n",
       "      <th>sequence</th>\n",
       "      <th>variant_under_consideration</th>\n",
       "      <th>sequence_accession</th>\n",
       "      <th>publication_id</th>\n",
       "    </tr>\n",
       "  </thead>\n",
       "  <tbody>\n",
       "    <tr>\n",
       "      <th>0</th>\n",
       "      <td>XP_027824938.1</td>\n",
       "      <td>H2B.K</td>\n",
       "      <td>None</td>\n",
       "      <td>None</td>\n",
       "      <td>None</td>\n",
       "      <td>9940</td>\n",
       "      <td>Ovis aries</td>\n",
       "      <td>Chordata</td>\n",
       "      <td>Mammalia</td>\n",
       "      <td>None</td>\n",
       "      <td>None</td>\n",
       "      <td>MSAEHGQLQQSGGRRGRSPGDKKSRRRSRRKETYSMYIYKVLKQVH...</td>\n",
       "      <td>None</td>\n",
       "      <td>XP_027824938.1</td>\n",
       "      <td>35099534</td>\n",
       "    </tr>\n",
       "  </tbody>\n",
       "</table>\n",
       "</div>"
      ],
      "text/plain": [
       "        accession variant    gi ncbi_gene_id hgnc_gene_name  taxonomy_id  \\\n",
       "0  XP_027824938.1   H2B.K  None         None           None         9940   \n",
       "\n",
       "     organism    phylum     class taxonomy_group  info  \\\n",
       "0  Ovis aries  Chordata  Mammalia           None  None   \n",
       "\n",
       "                                            sequence  \\\n",
       "0  MSAEHGQLQQSGGRRGRSPGDKKSRRRSRRKETYSMYIYKVLKQVH...   \n",
       "\n",
       "  variant_under_consideration sequence_accession publication_id  \n",
       "0                        None     XP_027824938.1       35099534  "
      ]
     },
     "execution_count": 29,
     "metadata": {},
     "output_type": "execute_result"
    }
   ],
   "source": [
    "query = (\n",
    "    \"SELECT * FROM sequence s LEFT JOIN sequence_has_publication sp \"\n",
    "    \"ON s.accession = sp.sequence_accession \"\n",
    "    f\"WHERE s.accession='{ACCESSION}'\"\n",
    ")\n",
    "cursor.execute(query)\n",
    "df = pd.DataFrame(cursor.fetchall(), columns=[i[0] for i in cursor.description])\n",
    "df"
   ]
  },
  {
   "cell_type": "code",
   "execution_count": 30,
   "id": "e159f2b8-6698-48b1-9827-6d641a76afbf",
   "metadata": {
    "tags": []
   },
   "outputs": [
    {
     "data": {
      "text/html": [
       "<div>\n",
       "<style scoped>\n",
       "    .dataframe tbody tr th:only-of-type {\n",
       "        vertical-align: middle;\n",
       "    }\n",
       "\n",
       "    .dataframe tbody tr th {\n",
       "        vertical-align: top;\n",
       "    }\n",
       "\n",
       "    .dataframe thead th {\n",
       "        text-align: right;\n",
       "    }\n",
       "</style>\n",
       "<table border=\"1\" class=\"dataframe\">\n",
       "  <thead>\n",
       "    <tr style=\"text-align: right;\">\n",
       "      <th></th>\n",
       "      <th>accession</th>\n",
       "      <th>variant</th>\n",
       "      <th>gi</th>\n",
       "      <th>ncbi_gene_id</th>\n",
       "      <th>hgnc_gene_name</th>\n",
       "      <th>taxonomy_id</th>\n",
       "      <th>organism</th>\n",
       "      <th>phylum</th>\n",
       "      <th>class</th>\n",
       "      <th>taxonomy_group</th>\n",
       "      <th>info</th>\n",
       "      <th>sequence</th>\n",
       "      <th>variant_under_consideration</th>\n",
       "      <th>sequence_accession</th>\n",
       "      <th>publication_id</th>\n",
       "    </tr>\n",
       "  </thead>\n",
       "  <tbody>\n",
       "    <tr>\n",
       "      <th>0</th>\n",
       "      <td>HISTDB_H2B_K_0</td>\n",
       "      <td>H2B.K</td>\n",
       "      <td>None</td>\n",
       "      <td>None</td>\n",
       "      <td>None</td>\n",
       "      <td>9940</td>\n",
       "      <td>Ovis aries</td>\n",
       "      <td>Chordata</td>\n",
       "      <td>Mammalia</td>\n",
       "      <td>None</td>\n",
       "      <td>None</td>\n",
       "      <td>MSAEHGQLQQAGGRRGRSPGDKKSRRRSRRKETYSMYIYKVLKQVH...</td>\n",
       "      <td>None</td>\n",
       "      <td>HISTDB_H2B_K_0</td>\n",
       "      <td>35099534</td>\n",
       "    </tr>\n",
       "    <tr>\n",
       "      <th>1</th>\n",
       "      <td>XP_002715119.2</td>\n",
       "      <td>H2B.K</td>\n",
       "      <td>None</td>\n",
       "      <td>None</td>\n",
       "      <td>None</td>\n",
       "      <td>9986</td>\n",
       "      <td>Oryctolagus cuniculus</td>\n",
       "      <td>Chordata</td>\n",
       "      <td>Mammalia</td>\n",
       "      <td>None</td>\n",
       "      <td>None</td>\n",
       "      <td>MSAERGQQQQQASSRRGRSSGNKKSRKRSKRKETYSMYIYKVLKQV...</td>\n",
       "      <td>None</td>\n",
       "      <td>XP_002715119.2</td>\n",
       "      <td>35099534</td>\n",
       "    </tr>\n",
       "    <tr>\n",
       "      <th>2</th>\n",
       "      <td>XP_013846203.1</td>\n",
       "      <td>H2B.K</td>\n",
       "      <td>None</td>\n",
       "      <td>None</td>\n",
       "      <td>None</td>\n",
       "      <td>9823</td>\n",
       "      <td>Sus scrofa</td>\n",
       "      <td>Chordata</td>\n",
       "      <td>Mammalia</td>\n",
       "      <td>None</td>\n",
       "      <td>None</td>\n",
       "      <td>MSSAHGQQQQQQQQQQQQQQQGGGRRGRSSGEKKSKKRNRRKETYS...</td>\n",
       "      <td>None</td>\n",
       "      <td>XP_013846203.1</td>\n",
       "      <td>35099534</td>\n",
       "    </tr>\n",
       "    <tr>\n",
       "      <th>3</th>\n",
       "      <td>XP_027824938.1</td>\n",
       "      <td>H2B.K</td>\n",
       "      <td>None</td>\n",
       "      <td>None</td>\n",
       "      <td>None</td>\n",
       "      <td>9940</td>\n",
       "      <td>Ovis aries</td>\n",
       "      <td>Chordata</td>\n",
       "      <td>Mammalia</td>\n",
       "      <td>None</td>\n",
       "      <td>None</td>\n",
       "      <td>MSAEHGQLQQSGGRRGRSPGDKKSRRRSRRKETYSMYIYKVLKQVH...</td>\n",
       "      <td>None</td>\n",
       "      <td>XP_027824938.1</td>\n",
       "      <td>35099534</td>\n",
       "    </tr>\n",
       "  </tbody>\n",
       "</table>\n",
       "</div>"
      ],
      "text/plain": [
       "        accession variant    gi ncbi_gene_id hgnc_gene_name  taxonomy_id  \\\n",
       "0  HISTDB_H2B_K_0   H2B.K  None         None           None         9940   \n",
       "1  XP_002715119.2   H2B.K  None         None           None         9986   \n",
       "2  XP_013846203.1   H2B.K  None         None           None         9823   \n",
       "3  XP_027824938.1   H2B.K  None         None           None         9940   \n",
       "\n",
       "                organism    phylum     class taxonomy_group  info  \\\n",
       "0             Ovis aries  Chordata  Mammalia           None  None   \n",
       "1  Oryctolagus cuniculus  Chordata  Mammalia           None  None   \n",
       "2             Sus scrofa  Chordata  Mammalia           None  None   \n",
       "3             Ovis aries  Chordata  Mammalia           None  None   \n",
       "\n",
       "                                            sequence  \\\n",
       "0  MSAEHGQLQQAGGRRGRSPGDKKSRRRSRRKETYSMYIYKVLKQVH...   \n",
       "1  MSAERGQQQQQASSRRGRSSGNKKSRKRSKRKETYSMYIYKVLKQV...   \n",
       "2  MSSAHGQQQQQQQQQQQQQQQGGGRRGRSSGEKKSKKRNRRKETYS...   \n",
       "3  MSAEHGQLQQSGGRRGRSPGDKKSRRRSRRKETYSMYIYKVLKQVH...   \n",
       "\n",
       "  variant_under_consideration sequence_accession publication_id  \n",
       "0                        None     HISTDB_H2B_K_0       35099534  \n",
       "1                        None     XP_002715119.2       35099534  \n",
       "2                        None     XP_013846203.1       35099534  \n",
       "3                        None     XP_027824938.1       35099534  "
      ]
     },
     "execution_count": 30,
     "metadata": {},
     "output_type": "execute_result"
    }
   ],
   "source": [
    "query = (\n",
    "    \"SELECT * FROM sequence s LEFT JOIN sequence_has_publication sp \"\n",
    "    \"ON s.accession = sp.sequence_accession \"\n",
    "    f\"WHERE s.variant='H2B.K'\"\n",
    ")\n",
    "cursor.execute(query)\n",
    "df = pd.DataFrame(cursor.fetchall(), columns=[i[0] for i in cursor.description])\n",
    "df"
   ]
  },
  {
   "cell_type": "code",
   "execution_count": 31,
   "id": "945003f7-4d7e-4658-961d-741bf60401ef",
   "metadata": {
    "tags": []
   },
   "outputs": [],
   "source": [
    "# Make sure data is committed to the database\n",
    "conn.commit()"
   ]
  },
  {
   "cell_type": "markdown",
   "id": "bc189846-e8f2-4647-ac12-65f569eb3bb0",
   "metadata": {
    "jp-MarkdownHeadingCollapsed": true,
    "tags": []
   },
   "source": [
    "# Add cow H2B.Ks\n",
    "\n",
    "**Atricle:** https://academic.oup.com/mbe/article/39/2/msac019/6517784#333890704\n",
    "\n",
    "**Genes:**\n",
    "- bosTau9, chr4, +-, 113782777-113785296, H2B.K.1 (ancestral)\n",
    "- bosTau9, chr11, ++, 102459398-102459763, H2B.K.3\n",
    "- bosTau9, chr1, ++, 7246094-7246459, H2B.K.2\n",
    "\n",
    "**Sequences from article:**\n",
    "```fasta\n",
    ">Cow_H2B.K.1\n",
    "MSAEHGQLQQSGGRRGRSPGDKKSRRRSRRKETYSMYIYKVLKQVHPDIGISSKAMSIMNSFVNDLFERLAGEAARLAQYSGRTTLTSREVQTAVRLLLPGELAKHAVSEGTKAVTKYTSSK\n",
    ">Cow_H2B.K.2\n",
    "MSAEHGQLQQSGGRRGRSPGDKKSRRRSRRKETYSMYIYKVLKQVHPDIGISSKAMSIVNLFVNDLFERLAGKAAWLAQYSGRTTLTSREVQTAVRLLLPGELAKHAVSEGTKAVTKYTSSK\n",
    ">Cow_H2B.K.3\n",
    "MSAEHGQLQQSGGRRGRSPGDKKSRRRSRRKETYSMYIYKVLKQVHPDIGISSKAMSIMNSFVNDLFERLAGEAARLAQYSGRTTLTSREVQTAVRLLLPGELAKHAVSEGTKAVTKYTSSK\n",
    "```\n",
    "\n",
    "BLASTP results:\n",
    "- one H2B.K.1 with 100% coverage and 100% identity;\n",
    "- one H2B.K.2 with 100% coverage and 100% identity;\n",
    "- one H2B.K.3 with 100% coverage and 100% identity (maybe shifted reading frame, 19aa extra from N-tail).\n",
    "\n",
    "**Protein accessions:** XP_024846715.1, XP_010799227.1, XP_059747847.1"
   ]
  },
  {
   "cell_type": "markdown",
   "id": "5d133712-1f44-4b7f-885f-346ef584a10c",
   "metadata": {
    "tags": []
   },
   "source": [
    "## Accession XP_024846715.1"
   ]
  },
  {
   "cell_type": "code",
   "execution_count": 32,
   "id": "00290854-f12d-4d6c-af26-577136855ca8",
   "metadata": {
    "tags": []
   },
   "outputs": [],
   "source": [
    "ACCESSION = \"XP_024846715.1\""
   ]
  },
  {
   "cell_type": "markdown",
   "id": "248e9c4f-9d34-45f8-b564-7d4d85c73b68",
   "metadata": {
    "tags": []
   },
   "source": [
    "## Get sequence XP_024846715.1 from NCBI"
   ]
  },
  {
   "cell_type": "code",
   "execution_count": 33,
   "id": "c1e9b9ff-48d6-4f39-9715-e003e4ebc6c7",
   "metadata": {
    "tags": []
   },
   "outputs": [
    {
     "name": "stdout",
     "output_type": "stream",
     "text": [
      "ID: XP_024846715.1\n",
      "Name: XP_024846715\n",
      "Description: histone H2B type 2-K1 [Bos taurus]\n",
      "Database cross-references: BioProject:PRJNA450837\n",
      "Number of features: 7\n",
      "/topology=linear\n",
      "/data_file_division=MAM\n",
      "/date=03-OCT-2023\n",
      "/accessions=['XP_024846715']\n",
      "/sequence_version=1\n",
      "/db_source=REFSEQ: accession XM_024990947.2\n",
      "/keywords=['RefSeq', 'includes ab initio']\n",
      "/source=Bos taurus (domestic cattle)\n",
      "/organism=Bos taurus\n",
      "/taxonomy=['Eukaryota', 'Metazoa', 'Chordata', 'Craniata', 'Vertebrata', 'Euteleostomi', 'Mammalia', 'Eutheria', 'Laurasiatheria', 'Artiodactyla', 'Ruminantia', 'Pecora', 'Bovidae', 'Bovinae', 'Bos']\n",
      "/comment=MODEL REFSEQ:  This record is predicted by automated computational\n",
      "analysis. This record is derived from a genomic sequence\n",
      "(NC_037331.1) annotated using gene prediction method: Gnomon.\n",
      "Also see:\n",
      "    Documentation of NCBI's Annotation Process\n",
      "COMPLETENESS: full length.\n",
      "/structured_comment=OrderedDict([('Genome-Annotation-Data', OrderedDict([('Annotation Provider', 'NCBI RefSeq'), ('Annotation Status', 'Full annotation'), ('Annotation Name', 'GCF_002263795.3-RS_2023_09'), ('Annotation Pipeline', 'NCBI eukaryotic genome annotation pipeline'), ('Annotation Software Version', '10.2'), ('Annotation Method', 'Best-placed RefSeq; Gnomon; cmsearch; tRNAscan-SE'), ('Features Annotated', 'Gene; mRNA; CDS; ncRNA'), ('Annotation Date', '09/28/2023')])), ('RefSeq-Attributes', OrderedDict([('ab initio', '100% of CDS bases')]))])\n",
      "/molecule_type=protein\n",
      "Seq('MSAEHGQLQQSGGRRGRSPGDKKSRRRSRRKETYSMYIYKVLKQVHPDIGISSK...SSK')\n"
     ]
    }
   ],
   "source": [
    "with Entrez.efetch(\n",
    "    db=\"protein\", id=ACCESSION, rettype=\"gb\", retmode=\"text\"\n",
    ") as handle:\n",
    "    record = SeqIO.read(handle, \"genbank\")\n",
    "    print(record)"
   ]
  },
  {
   "cell_type": "code",
   "execution_count": 34,
   "id": "05d222f8-285d-42e2-b692-577e0b245891",
   "metadata": {
    "tags": []
   },
   "outputs": [
    {
     "data": {
      "text/plain": [
       "'MSAEHGQLQQSGGRRGRSPGDKKSRRRSRRKETYSMYIYKVLKQVHPDIGISSKAMSIMNSFVNDLFERLAGEAARLAQYSGRTTLTSREVQTAVRLLLPGELAKHAVSEGTKAVTKYTSSK'"
      ]
     },
     "execution_count": 34,
     "metadata": {},
     "output_type": "execute_result"
    }
   ],
   "source": [
    "str(record.seq)"
   ]
  },
  {
   "cell_type": "code",
   "execution_count": 35,
   "id": "f79aa319-2afc-406f-a032-aa613e92d679",
   "metadata": {
    "tags": []
   },
   "outputs": [
    {
     "data": {
      "text/plain": [
       "'Bos taurus'"
      ]
     },
     "execution_count": 35,
     "metadata": {},
     "output_type": "execute_result"
    }
   ],
   "source": [
    "record.annotations[\"organism\"]"
   ]
  },
  {
   "cell_type": "code",
   "execution_count": 36,
   "id": "fbcce30f-6d69-4c5e-b89d-0b3502d892bf",
   "metadata": {
    "tags": []
   },
   "outputs": [
    {
     "name": "stdout",
     "output_type": "stream",
     "text": [
      "Fetched taxid from NCBI <built-in function id>\n"
     ]
    },
    {
     "data": {
      "text/plain": [
       "{'organism': 'Bos taurus',\n",
       " 'taxonomy_id': 9913,\n",
       " 'phylum': 'Chordata',\n",
       " 'class': 'Mammalia'}"
      ]
     },
     "execution_count": 36,
     "metadata": {},
     "output_type": "execute_result"
    }
   ],
   "source": [
    "taxonomy_data = get_taxonomy_data(record)\n",
    "taxonomy_data"
   ]
  },
  {
   "cell_type": "markdown",
   "id": "16814d33-065d-48d8-a411-1a08a3669aa2",
   "metadata": {},
   "source": [
    "## Adding XP_024846715.1"
   ]
  },
  {
   "cell_type": "code",
   "execution_count": 37,
   "id": "ef2b30f2-5832-4437-b72a-9b383d01b79e",
   "metadata": {
    "tags": []
   },
   "outputs": [
    {
     "data": {
      "text/plain": [
       "{'accession': 'XP_024846715.1',\n",
       " 'variant': 'H2B.K',\n",
       " 'gi': None,\n",
       " 'ncbi_gene_id': None,\n",
       " 'hgnc_gene_name': None,\n",
       " 'taxonomy_id': 9913,\n",
       " 'organism': 'Bos taurus',\n",
       " 'phylum': 'Chordata',\n",
       " 'class': 'Mammalia',\n",
       " 'taxonomy_group': None,\n",
       " 'info': None,\n",
       " 'sequence': 'MSAEHGQLQQSGGRRGRSPGDKKSRRRSRRKETYSMYIYKVLKQVHPDIGISSKAMSIMNSFVNDLFERLAGEAARLAQYSGRTTLTSREVQTAVRLLLPGELAKHAVSEGTKAVTKYTSSK',\n",
       " 'variant_under_consideration': None}"
      ]
     },
     "execution_count": 37,
     "metadata": {},
     "output_type": "execute_result"
    }
   ],
   "source": [
    "data_sequence = {\n",
    "    \"accession\": ACCESSION,\n",
    "    \"variant\": \"H2B.K\",\n",
    "    \"gi\": None,\n",
    "    \"ncbi_gene_id\": None,\n",
    "    \"hgnc_gene_name\": None,\n",
    "    \"taxonomy_id\": None,\n",
    "    \"organism\": None,\n",
    "    \"phylum\": None,\n",
    "    \"class\": None,\n",
    "    \"taxonomy_group\": None,\n",
    "    \"info\": None,\n",
    "    \"sequence\": str(record.seq),\n",
    "    \"variant_under_consideration\": None,\n",
    "}\n",
    "data_sequence.update(taxonomy_data)\n",
    "data_sequence"
   ]
  },
  {
   "cell_type": "code",
   "execution_count": 38,
   "id": "56fecadc-589a-4b0a-9640-b1fc091d9859",
   "metadata": {
    "tags": []
   },
   "outputs": [
    {
     "name": "stdout",
     "output_type": "stream",
     "text": [
      "accession <class 'str'>\n",
      "variant <class 'str'>\n",
      "gi <class 'NoneType'>\n",
      "ncbi_gene_id <class 'NoneType'>\n",
      "hgnc_gene_name <class 'NoneType'>\n",
      "taxonomy_id <class 'int'>\n",
      "organism <class 'str'>\n",
      "phylum <class 'str'>\n",
      "class <class 'str'>\n",
      "taxonomy_group <class 'NoneType'>\n",
      "info <class 'NoneType'>\n",
      "sequence <class 'str'>\n",
      "variant_under_consideration <class 'NoneType'>\n"
     ]
    }
   ],
   "source": [
    "for k, v in data_sequence.items():\n",
    "    print(k, type(v))"
   ]
  },
  {
   "cell_type": "code",
   "execution_count": 39,
   "id": "6dc6444f-5e4e-47c3-9cfb-b0b03661c55d",
   "metadata": {
    "tags": []
   },
   "outputs": [],
   "source": [
    "cursor.execute(add_sequence, data_sequence)"
   ]
  },
  {
   "cell_type": "code",
   "execution_count": 40,
   "id": "96a01e7f-e5f8-4bde-be0d-7ce43443a506",
   "metadata": {
    "tags": []
   },
   "outputs": [
    {
     "data": {
      "text/html": [
       "<div>\n",
       "<style scoped>\n",
       "    .dataframe tbody tr th:only-of-type {\n",
       "        vertical-align: middle;\n",
       "    }\n",
       "\n",
       "    .dataframe tbody tr th {\n",
       "        vertical-align: top;\n",
       "    }\n",
       "\n",
       "    .dataframe thead th {\n",
       "        text-align: right;\n",
       "    }\n",
       "</style>\n",
       "<table border=\"1\" class=\"dataframe\">\n",
       "  <thead>\n",
       "    <tr style=\"text-align: right;\">\n",
       "      <th></th>\n",
       "      <th>accession</th>\n",
       "      <th>variant</th>\n",
       "      <th>gi</th>\n",
       "      <th>ncbi_gene_id</th>\n",
       "      <th>hgnc_gene_name</th>\n",
       "      <th>taxonomy_id</th>\n",
       "      <th>organism</th>\n",
       "      <th>phylum</th>\n",
       "      <th>class</th>\n",
       "      <th>taxonomy_group</th>\n",
       "      <th>info</th>\n",
       "      <th>sequence</th>\n",
       "      <th>variant_under_consideration</th>\n",
       "      <th>sequence_accession</th>\n",
       "      <th>publication_id</th>\n",
       "    </tr>\n",
       "  </thead>\n",
       "  <tbody>\n",
       "    <tr>\n",
       "      <th>0</th>\n",
       "      <td>XP_024846715.1</td>\n",
       "      <td>H2B.K</td>\n",
       "      <td>None</td>\n",
       "      <td>None</td>\n",
       "      <td>None</td>\n",
       "      <td>9913</td>\n",
       "      <td>Bos taurus</td>\n",
       "      <td>Chordata</td>\n",
       "      <td>Mammalia</td>\n",
       "      <td>None</td>\n",
       "      <td>None</td>\n",
       "      <td>MSAEHGQLQQSGGRRGRSPGDKKSRRRSRRKETYSMYIYKVLKQVH...</td>\n",
       "      <td>None</td>\n",
       "      <td>None</td>\n",
       "      <td>None</td>\n",
       "    </tr>\n",
       "  </tbody>\n",
       "</table>\n",
       "</div>"
      ],
      "text/plain": [
       "        accession variant    gi ncbi_gene_id hgnc_gene_name  taxonomy_id  \\\n",
       "0  XP_024846715.1   H2B.K  None         None           None         9913   \n",
       "\n",
       "     organism    phylum     class taxonomy_group  info  \\\n",
       "0  Bos taurus  Chordata  Mammalia           None  None   \n",
       "\n",
       "                                            sequence  \\\n",
       "0  MSAEHGQLQQSGGRRGRSPGDKKSRRRSRRKETYSMYIYKVLKQVH...   \n",
       "\n",
       "  variant_under_consideration sequence_accession publication_id  \n",
       "0                        None               None           None  "
      ]
     },
     "execution_count": 40,
     "metadata": {},
     "output_type": "execute_result"
    }
   ],
   "source": [
    "query = (\n",
    "    \"SELECT * FROM sequence s LEFT JOIN sequence_has_publication sp \"\n",
    "    \"ON s.accession = sp.sequence_accession \"\n",
    "    f\"WHERE s.accession='{ACCESSION}'\"\n",
    ")\n",
    "cursor.execute(query)\n",
    "df = pd.DataFrame(cursor.fetchall(), columns=[i[0] for i in cursor.description])\n",
    "df"
   ]
  },
  {
   "cell_type": "markdown",
   "id": "3e57a75c-f498-409a-994c-2a2a5cb4b79c",
   "metadata": {},
   "source": [
    "## Add publication"
   ]
  },
  {
   "cell_type": "code",
   "execution_count": 41,
   "id": "eaa88dff-df92-46e5-b5b5-586b6cb0a0fe",
   "metadata": {
    "tags": []
   },
   "outputs": [
    {
     "data": {
      "text/html": [
       "<div>\n",
       "<style scoped>\n",
       "    .dataframe tbody tr th:only-of-type {\n",
       "        vertical-align: middle;\n",
       "    }\n",
       "\n",
       "    .dataframe tbody tr th {\n",
       "        vertical-align: top;\n",
       "    }\n",
       "\n",
       "    .dataframe thead th {\n",
       "        text-align: right;\n",
       "    }\n",
       "</style>\n",
       "<table border=\"1\" class=\"dataframe\">\n",
       "  <thead>\n",
       "    <tr style=\"text-align: right;\">\n",
       "      <th></th>\n",
       "      <th>id</th>\n",
       "      <th>title</th>\n",
       "      <th>doi</th>\n",
       "      <th>author</th>\n",
       "      <th>year</th>\n",
       "    </tr>\n",
       "  </thead>\n",
       "  <tbody>\n",
       "    <tr>\n",
       "      <th>0</th>\n",
       "      <td>35099534</td>\n",
       "      <td>None</td>\n",
       "      <td>None</td>\n",
       "      <td>None</td>\n",
       "      <td>None</td>\n",
       "    </tr>\n",
       "  </tbody>\n",
       "</table>\n",
       "</div>"
      ],
      "text/plain": [
       "         id title   doi author  year\n",
       "0  35099534  None  None   None  None"
      ]
     },
     "execution_count": 41,
     "metadata": {},
     "output_type": "execute_result"
    }
   ],
   "source": [
    "pid = \"35099534\"\n",
    "query = \"SELECT * FROM publication WHERE id='35099534'\"\n",
    "cursor.execute(query)\n",
    "pd.DataFrame(cursor.fetchall(), columns=[i[0] for i in cursor.description])"
   ]
  },
  {
   "cell_type": "code",
   "execution_count": 42,
   "id": "05fda0f2-24c4-44e8-899e-1a77cef1644f",
   "metadata": {
    "tags": []
   },
   "outputs": [],
   "source": [
    "cursor.execute(add_sequence_has_publication, (ACCESSION, pid))"
   ]
  },
  {
   "cell_type": "code",
   "execution_count": 43,
   "id": "24f9c495-4649-46e4-89a6-d88252f57df5",
   "metadata": {
    "tags": []
   },
   "outputs": [
    {
     "data": {
      "text/html": [
       "<div>\n",
       "<style scoped>\n",
       "    .dataframe tbody tr th:only-of-type {\n",
       "        vertical-align: middle;\n",
       "    }\n",
       "\n",
       "    .dataframe tbody tr th {\n",
       "        vertical-align: top;\n",
       "    }\n",
       "\n",
       "    .dataframe thead th {\n",
       "        text-align: right;\n",
       "    }\n",
       "</style>\n",
       "<table border=\"1\" class=\"dataframe\">\n",
       "  <thead>\n",
       "    <tr style=\"text-align: right;\">\n",
       "      <th></th>\n",
       "      <th>accession</th>\n",
       "      <th>variant</th>\n",
       "      <th>gi</th>\n",
       "      <th>ncbi_gene_id</th>\n",
       "      <th>hgnc_gene_name</th>\n",
       "      <th>taxonomy_id</th>\n",
       "      <th>organism</th>\n",
       "      <th>phylum</th>\n",
       "      <th>class</th>\n",
       "      <th>taxonomy_group</th>\n",
       "      <th>info</th>\n",
       "      <th>sequence</th>\n",
       "      <th>variant_under_consideration</th>\n",
       "      <th>sequence_accession</th>\n",
       "      <th>publication_id</th>\n",
       "    </tr>\n",
       "  </thead>\n",
       "  <tbody>\n",
       "    <tr>\n",
       "      <th>0</th>\n",
       "      <td>XP_024846715.1</td>\n",
       "      <td>H2B.K</td>\n",
       "      <td>None</td>\n",
       "      <td>None</td>\n",
       "      <td>None</td>\n",
       "      <td>9913</td>\n",
       "      <td>Bos taurus</td>\n",
       "      <td>Chordata</td>\n",
       "      <td>Mammalia</td>\n",
       "      <td>None</td>\n",
       "      <td>None</td>\n",
       "      <td>MSAEHGQLQQSGGRRGRSPGDKKSRRRSRRKETYSMYIYKVLKQVH...</td>\n",
       "      <td>None</td>\n",
       "      <td>XP_024846715.1</td>\n",
       "      <td>35099534</td>\n",
       "    </tr>\n",
       "  </tbody>\n",
       "</table>\n",
       "</div>"
      ],
      "text/plain": [
       "        accession variant    gi ncbi_gene_id hgnc_gene_name  taxonomy_id  \\\n",
       "0  XP_024846715.1   H2B.K  None         None           None         9913   \n",
       "\n",
       "     organism    phylum     class taxonomy_group  info  \\\n",
       "0  Bos taurus  Chordata  Mammalia           None  None   \n",
       "\n",
       "                                            sequence  \\\n",
       "0  MSAEHGQLQQSGGRRGRSPGDKKSRRRSRRKETYSMYIYKVLKQVH...   \n",
       "\n",
       "  variant_under_consideration sequence_accession publication_id  \n",
       "0                        None     XP_024846715.1       35099534  "
      ]
     },
     "execution_count": 43,
     "metadata": {},
     "output_type": "execute_result"
    }
   ],
   "source": [
    "query = (\n",
    "    \"SELECT * FROM sequence s LEFT JOIN sequence_has_publication sp \"\n",
    "    \"ON s.accession = sp.sequence_accession \"\n",
    "    f\"WHERE s.accession='{ACCESSION}'\"\n",
    ")\n",
    "cursor.execute(query)\n",
    "df = pd.DataFrame(cursor.fetchall(), columns=[i[0] for i in cursor.description])\n",
    "df"
   ]
  },
  {
   "cell_type": "code",
   "execution_count": 44,
   "id": "14326993-c609-4424-a80e-a9bbf1fcec45",
   "metadata": {
    "tags": []
   },
   "outputs": [
    {
     "data": {
      "text/html": [
       "<div>\n",
       "<style scoped>\n",
       "    .dataframe tbody tr th:only-of-type {\n",
       "        vertical-align: middle;\n",
       "    }\n",
       "\n",
       "    .dataframe tbody tr th {\n",
       "        vertical-align: top;\n",
       "    }\n",
       "\n",
       "    .dataframe thead th {\n",
       "        text-align: right;\n",
       "    }\n",
       "</style>\n",
       "<table border=\"1\" class=\"dataframe\">\n",
       "  <thead>\n",
       "    <tr style=\"text-align: right;\">\n",
       "      <th></th>\n",
       "      <th>accession</th>\n",
       "      <th>variant</th>\n",
       "      <th>gi</th>\n",
       "      <th>ncbi_gene_id</th>\n",
       "      <th>hgnc_gene_name</th>\n",
       "      <th>taxonomy_id</th>\n",
       "      <th>organism</th>\n",
       "      <th>phylum</th>\n",
       "      <th>class</th>\n",
       "      <th>taxonomy_group</th>\n",
       "      <th>info</th>\n",
       "      <th>sequence</th>\n",
       "      <th>variant_under_consideration</th>\n",
       "      <th>sequence_accession</th>\n",
       "      <th>publication_id</th>\n",
       "    </tr>\n",
       "  </thead>\n",
       "  <tbody>\n",
       "    <tr>\n",
       "      <th>0</th>\n",
       "      <td>HISTDB_H2B_K_0</td>\n",
       "      <td>H2B.K</td>\n",
       "      <td>None</td>\n",
       "      <td>None</td>\n",
       "      <td>None</td>\n",
       "      <td>9940</td>\n",
       "      <td>Ovis aries</td>\n",
       "      <td>Chordata</td>\n",
       "      <td>Mammalia</td>\n",
       "      <td>None</td>\n",
       "      <td>None</td>\n",
       "      <td>MSAEHGQLQQAGGRRGRSPGDKKSRRRSRRKETYSMYIYKVLKQVH...</td>\n",
       "      <td>None</td>\n",
       "      <td>HISTDB_H2B_K_0</td>\n",
       "      <td>35099534</td>\n",
       "    </tr>\n",
       "    <tr>\n",
       "      <th>1</th>\n",
       "      <td>XP_002715119.2</td>\n",
       "      <td>H2B.K</td>\n",
       "      <td>None</td>\n",
       "      <td>None</td>\n",
       "      <td>None</td>\n",
       "      <td>9986</td>\n",
       "      <td>Oryctolagus cuniculus</td>\n",
       "      <td>Chordata</td>\n",
       "      <td>Mammalia</td>\n",
       "      <td>None</td>\n",
       "      <td>None</td>\n",
       "      <td>MSAERGQQQQQASSRRGRSSGNKKSRKRSKRKETYSMYIYKVLKQV...</td>\n",
       "      <td>None</td>\n",
       "      <td>XP_002715119.2</td>\n",
       "      <td>35099534</td>\n",
       "    </tr>\n",
       "    <tr>\n",
       "      <th>2</th>\n",
       "      <td>XP_013846203.1</td>\n",
       "      <td>H2B.K</td>\n",
       "      <td>None</td>\n",
       "      <td>None</td>\n",
       "      <td>None</td>\n",
       "      <td>9823</td>\n",
       "      <td>Sus scrofa</td>\n",
       "      <td>Chordata</td>\n",
       "      <td>Mammalia</td>\n",
       "      <td>None</td>\n",
       "      <td>None</td>\n",
       "      <td>MSSAHGQQQQQQQQQQQQQQQGGGRRGRSSGEKKSKKRNRRKETYS...</td>\n",
       "      <td>None</td>\n",
       "      <td>XP_013846203.1</td>\n",
       "      <td>35099534</td>\n",
       "    </tr>\n",
       "    <tr>\n",
       "      <th>3</th>\n",
       "      <td>XP_024846715.1</td>\n",
       "      <td>H2B.K</td>\n",
       "      <td>None</td>\n",
       "      <td>None</td>\n",
       "      <td>None</td>\n",
       "      <td>9913</td>\n",
       "      <td>Bos taurus</td>\n",
       "      <td>Chordata</td>\n",
       "      <td>Mammalia</td>\n",
       "      <td>None</td>\n",
       "      <td>None</td>\n",
       "      <td>MSAEHGQLQQSGGRRGRSPGDKKSRRRSRRKETYSMYIYKVLKQVH...</td>\n",
       "      <td>None</td>\n",
       "      <td>XP_024846715.1</td>\n",
       "      <td>35099534</td>\n",
       "    </tr>\n",
       "    <tr>\n",
       "      <th>4</th>\n",
       "      <td>XP_027824938.1</td>\n",
       "      <td>H2B.K</td>\n",
       "      <td>None</td>\n",
       "      <td>None</td>\n",
       "      <td>None</td>\n",
       "      <td>9940</td>\n",
       "      <td>Ovis aries</td>\n",
       "      <td>Chordata</td>\n",
       "      <td>Mammalia</td>\n",
       "      <td>None</td>\n",
       "      <td>None</td>\n",
       "      <td>MSAEHGQLQQSGGRRGRSPGDKKSRRRSRRKETYSMYIYKVLKQVH...</td>\n",
       "      <td>None</td>\n",
       "      <td>XP_027824938.1</td>\n",
       "      <td>35099534</td>\n",
       "    </tr>\n",
       "  </tbody>\n",
       "</table>\n",
       "</div>"
      ],
      "text/plain": [
       "        accession variant    gi ncbi_gene_id hgnc_gene_name  taxonomy_id  \\\n",
       "0  HISTDB_H2B_K_0   H2B.K  None         None           None         9940   \n",
       "1  XP_002715119.2   H2B.K  None         None           None         9986   \n",
       "2  XP_013846203.1   H2B.K  None         None           None         9823   \n",
       "3  XP_024846715.1   H2B.K  None         None           None         9913   \n",
       "4  XP_027824938.1   H2B.K  None         None           None         9940   \n",
       "\n",
       "                organism    phylum     class taxonomy_group  info  \\\n",
       "0             Ovis aries  Chordata  Mammalia           None  None   \n",
       "1  Oryctolagus cuniculus  Chordata  Mammalia           None  None   \n",
       "2             Sus scrofa  Chordata  Mammalia           None  None   \n",
       "3             Bos taurus  Chordata  Mammalia           None  None   \n",
       "4             Ovis aries  Chordata  Mammalia           None  None   \n",
       "\n",
       "                                            sequence  \\\n",
       "0  MSAEHGQLQQAGGRRGRSPGDKKSRRRSRRKETYSMYIYKVLKQVH...   \n",
       "1  MSAERGQQQQQASSRRGRSSGNKKSRKRSKRKETYSMYIYKVLKQV...   \n",
       "2  MSSAHGQQQQQQQQQQQQQQQGGGRRGRSSGEKKSKKRNRRKETYS...   \n",
       "3  MSAEHGQLQQSGGRRGRSPGDKKSRRRSRRKETYSMYIYKVLKQVH...   \n",
       "4  MSAEHGQLQQSGGRRGRSPGDKKSRRRSRRKETYSMYIYKVLKQVH...   \n",
       "\n",
       "  variant_under_consideration sequence_accession publication_id  \n",
       "0                        None     HISTDB_H2B_K_0       35099534  \n",
       "1                        None     XP_002715119.2       35099534  \n",
       "2                        None     XP_013846203.1       35099534  \n",
       "3                        None     XP_024846715.1       35099534  \n",
       "4                        None     XP_027824938.1       35099534  "
      ]
     },
     "execution_count": 44,
     "metadata": {},
     "output_type": "execute_result"
    }
   ],
   "source": [
    "query = (\n",
    "    \"SELECT * FROM sequence s LEFT JOIN sequence_has_publication sp \"\n",
    "    \"ON s.accession = sp.sequence_accession \"\n",
    "    f\"WHERE s.variant='H2B.K'\"\n",
    ")\n",
    "cursor.execute(query)\n",
    "df = pd.DataFrame(cursor.fetchall(), columns=[i[0] for i in cursor.description])\n",
    "df"
   ]
  },
  {
   "cell_type": "markdown",
   "id": "b25c4087-b22f-48ab-9bbe-f5406a542fff",
   "metadata": {},
   "source": [
    "## Accession XP_010799227.1"
   ]
  },
  {
   "cell_type": "code",
   "execution_count": 45,
   "id": "b982ac55-1a27-47d2-ac41-5cc21f919517",
   "metadata": {
    "tags": []
   },
   "outputs": [],
   "source": [
    "ACCESSION = \"XP_010799227.1\""
   ]
  },
  {
   "cell_type": "markdown",
   "id": "7e87a44e-8e30-4883-8286-2e17713dc66d",
   "metadata": {
    "tags": []
   },
   "source": [
    "## Get sequence XP_010799227.1 from NCBI"
   ]
  },
  {
   "cell_type": "code",
   "execution_count": 46,
   "id": "bce64968-0ce0-40ea-bcf3-8137756be761",
   "metadata": {
    "tags": []
   },
   "outputs": [
    {
     "name": "stdout",
     "output_type": "stream",
     "text": [
      "ID: XP_010799227.1\n",
      "Name: XP_010799227\n",
      "Description: histone H2B type 2-K1 [Bos taurus]\n",
      "Database cross-references: BioProject:PRJNA450837\n",
      "Number of features: 7\n",
      "/topology=linear\n",
      "/data_file_division=MAM\n",
      "/date=03-OCT-2023\n",
      "/accessions=['XP_010799227']\n",
      "/sequence_version=1\n",
      "/db_source=REFSEQ: accession XM_010800925.4\n",
      "/keywords=['RefSeq']\n",
      "/source=Bos taurus (domestic cattle)\n",
      "/organism=Bos taurus\n",
      "/taxonomy=['Eukaryota', 'Metazoa', 'Chordata', 'Craniata', 'Vertebrata', 'Euteleostomi', 'Mammalia', 'Eutheria', 'Laurasiatheria', 'Artiodactyla', 'Ruminantia', 'Pecora', 'Bovidae', 'Bovinae', 'Bos']\n",
      "/comment=MODEL REFSEQ:  This record is predicted by automated computational\n",
      "analysis. This record is derived from a genomic sequence\n",
      "(NC_037328.1) annotated using gene prediction method: Gnomon,\n",
      "supported by EST evidence.\n",
      "Also see:\n",
      "    Documentation of NCBI's Annotation Process\n",
      "COMPLETENESS: full length.\n",
      "/structured_comment=OrderedDict([('Genome-Annotation-Data', OrderedDict([('Annotation Provider', 'NCBI RefSeq'), ('Annotation Status', 'Full annotation'), ('Annotation Name', 'GCF_002263795.3-RS_2023_09'), ('Annotation Pipeline', 'NCBI eukaryotic genome annotation pipeline'), ('Annotation Software Version', '10.2'), ('Annotation Method', 'Best-placed RefSeq; Gnomon; cmsearch; tRNAscan-SE'), ('Features Annotated', 'Gene; mRNA; CDS; ncRNA'), ('Annotation Date', '09/28/2023')]))])\n",
      "/molecule_type=protein\n",
      "Seq('MSAEHGQLQQSGGRRGRSPGDKKSRRRSRRKETYSMYIYKVLKQVHPDIGISSK...SSK')\n"
     ]
    }
   ],
   "source": [
    "with Entrez.efetch(\n",
    "    db=\"protein\", id=ACCESSION, rettype=\"gb\", retmode=\"text\"\n",
    ") as handle:\n",
    "    record = SeqIO.read(handle, \"genbank\")\n",
    "    print(record)"
   ]
  },
  {
   "cell_type": "code",
   "execution_count": 47,
   "id": "2644785c-ecf9-420c-a056-ab0aee2ca9d8",
   "metadata": {
    "tags": []
   },
   "outputs": [
    {
     "data": {
      "text/plain": [
       "'MSAEHGQLQQSGGRRGRSPGDKKSRRRSRRKETYSMYIYKVLKQVHPDIGISSKAMSIVNLFVNDLFERLAGKAAWLAQYSGRTTLTSREVQTAVRLLLPGELAKHAVSEGTKAVTKYTSSK'"
      ]
     },
     "execution_count": 47,
     "metadata": {},
     "output_type": "execute_result"
    }
   ],
   "source": [
    "str(record.seq)"
   ]
  },
  {
   "cell_type": "code",
   "execution_count": 48,
   "id": "31004396-8912-4fce-bf5e-c51f87d0a634",
   "metadata": {
    "tags": []
   },
   "outputs": [
    {
     "data": {
      "text/plain": [
       "'Bos taurus'"
      ]
     },
     "execution_count": 48,
     "metadata": {},
     "output_type": "execute_result"
    }
   ],
   "source": [
    "record.annotations[\"organism\"]"
   ]
  },
  {
   "cell_type": "code",
   "execution_count": 49,
   "id": "46b6e82f-ba4d-46ef-9420-effa564137d9",
   "metadata": {
    "tags": []
   },
   "outputs": [
    {
     "name": "stdout",
     "output_type": "stream",
     "text": [
      "Fetched taxid from NCBI <built-in function id>\n"
     ]
    },
    {
     "data": {
      "text/plain": [
       "{'organism': 'Bos taurus',\n",
       " 'taxonomy_id': 9913,\n",
       " 'phylum': 'Chordata',\n",
       " 'class': 'Mammalia'}"
      ]
     },
     "execution_count": 49,
     "metadata": {},
     "output_type": "execute_result"
    }
   ],
   "source": [
    "taxonomy_data = get_taxonomy_data(record)\n",
    "taxonomy_data"
   ]
  },
  {
   "cell_type": "markdown",
   "id": "6e0d9e1b-4323-4aca-8441-92e71dead4cd",
   "metadata": {},
   "source": [
    "## Adding XP_010799227.1"
   ]
  },
  {
   "cell_type": "code",
   "execution_count": 50,
   "id": "9e2716eb-6e0f-49ac-bb34-598f95c6967d",
   "metadata": {
    "tags": []
   },
   "outputs": [
    {
     "data": {
      "text/plain": [
       "{'accession': 'XP_010799227.1',\n",
       " 'variant': 'H2B.K',\n",
       " 'gi': None,\n",
       " 'ncbi_gene_id': None,\n",
       " 'hgnc_gene_name': None,\n",
       " 'taxonomy_id': 9913,\n",
       " 'organism': 'Bos taurus',\n",
       " 'phylum': 'Chordata',\n",
       " 'class': 'Mammalia',\n",
       " 'taxonomy_group': None,\n",
       " 'info': None,\n",
       " 'sequence': 'MSAEHGQLQQSGGRRGRSPGDKKSRRRSRRKETYSMYIYKVLKQVHPDIGISSKAMSIVNLFVNDLFERLAGKAAWLAQYSGRTTLTSREVQTAVRLLLPGELAKHAVSEGTKAVTKYTSSK',\n",
       " 'variant_under_consideration': None}"
      ]
     },
     "execution_count": 50,
     "metadata": {},
     "output_type": "execute_result"
    }
   ],
   "source": [
    "data_sequence = {\n",
    "    \"accession\": ACCESSION,\n",
    "    \"variant\": \"H2B.K\",\n",
    "    \"gi\": None,\n",
    "    \"ncbi_gene_id\": None,\n",
    "    \"hgnc_gene_name\": None,\n",
    "    \"taxonomy_id\": None,\n",
    "    \"organism\": None,\n",
    "    \"phylum\": None,\n",
    "    \"class\": None,\n",
    "    \"taxonomy_group\": None,\n",
    "    \"info\": None,\n",
    "    \"sequence\": str(record.seq),\n",
    "    \"variant_under_consideration\": None,\n",
    "}\n",
    "data_sequence.update(taxonomy_data)\n",
    "data_sequence"
   ]
  },
  {
   "cell_type": "code",
   "execution_count": 51,
   "id": "c2579287-f051-4e9f-8214-7d2ac015ce49",
   "metadata": {
    "tags": []
   },
   "outputs": [
    {
     "name": "stdout",
     "output_type": "stream",
     "text": [
      "accession <class 'str'>\n",
      "variant <class 'str'>\n",
      "gi <class 'NoneType'>\n",
      "ncbi_gene_id <class 'NoneType'>\n",
      "hgnc_gene_name <class 'NoneType'>\n",
      "taxonomy_id <class 'int'>\n",
      "organism <class 'str'>\n",
      "phylum <class 'str'>\n",
      "class <class 'str'>\n",
      "taxonomy_group <class 'NoneType'>\n",
      "info <class 'NoneType'>\n",
      "sequence <class 'str'>\n",
      "variant_under_consideration <class 'NoneType'>\n"
     ]
    }
   ],
   "source": [
    "for k, v in data_sequence.items():\n",
    "    print(k, type(v))"
   ]
  },
  {
   "cell_type": "code",
   "execution_count": 52,
   "id": "81a87817-52bc-42d0-8786-4be402a88186",
   "metadata": {
    "tags": []
   },
   "outputs": [],
   "source": [
    "cursor.execute(add_sequence, data_sequence)"
   ]
  },
  {
   "cell_type": "code",
   "execution_count": 53,
   "id": "e37c14e7-2169-4634-b210-958dbfa26fc7",
   "metadata": {
    "tags": []
   },
   "outputs": [
    {
     "data": {
      "text/html": [
       "<div>\n",
       "<style scoped>\n",
       "    .dataframe tbody tr th:only-of-type {\n",
       "        vertical-align: middle;\n",
       "    }\n",
       "\n",
       "    .dataframe tbody tr th {\n",
       "        vertical-align: top;\n",
       "    }\n",
       "\n",
       "    .dataframe thead th {\n",
       "        text-align: right;\n",
       "    }\n",
       "</style>\n",
       "<table border=\"1\" class=\"dataframe\">\n",
       "  <thead>\n",
       "    <tr style=\"text-align: right;\">\n",
       "      <th></th>\n",
       "      <th>accession</th>\n",
       "      <th>variant</th>\n",
       "      <th>gi</th>\n",
       "      <th>ncbi_gene_id</th>\n",
       "      <th>hgnc_gene_name</th>\n",
       "      <th>taxonomy_id</th>\n",
       "      <th>organism</th>\n",
       "      <th>phylum</th>\n",
       "      <th>class</th>\n",
       "      <th>taxonomy_group</th>\n",
       "      <th>info</th>\n",
       "      <th>sequence</th>\n",
       "      <th>variant_under_consideration</th>\n",
       "      <th>sequence_accession</th>\n",
       "      <th>publication_id</th>\n",
       "    </tr>\n",
       "  </thead>\n",
       "  <tbody>\n",
       "    <tr>\n",
       "      <th>0</th>\n",
       "      <td>XP_010799227.1</td>\n",
       "      <td>H2B.K</td>\n",
       "      <td>None</td>\n",
       "      <td>None</td>\n",
       "      <td>None</td>\n",
       "      <td>9913</td>\n",
       "      <td>Bos taurus</td>\n",
       "      <td>Chordata</td>\n",
       "      <td>Mammalia</td>\n",
       "      <td>None</td>\n",
       "      <td>None</td>\n",
       "      <td>MSAEHGQLQQSGGRRGRSPGDKKSRRRSRRKETYSMYIYKVLKQVH...</td>\n",
       "      <td>None</td>\n",
       "      <td>None</td>\n",
       "      <td>None</td>\n",
       "    </tr>\n",
       "  </tbody>\n",
       "</table>\n",
       "</div>"
      ],
      "text/plain": [
       "        accession variant    gi ncbi_gene_id hgnc_gene_name  taxonomy_id  \\\n",
       "0  XP_010799227.1   H2B.K  None         None           None         9913   \n",
       "\n",
       "     organism    phylum     class taxonomy_group  info  \\\n",
       "0  Bos taurus  Chordata  Mammalia           None  None   \n",
       "\n",
       "                                            sequence  \\\n",
       "0  MSAEHGQLQQSGGRRGRSPGDKKSRRRSRRKETYSMYIYKVLKQVH...   \n",
       "\n",
       "  variant_under_consideration sequence_accession publication_id  \n",
       "0                        None               None           None  "
      ]
     },
     "execution_count": 53,
     "metadata": {},
     "output_type": "execute_result"
    }
   ],
   "source": [
    "query = (\n",
    "    \"SELECT * FROM sequence s LEFT JOIN sequence_has_publication sp \"\n",
    "    \"ON s.accession = sp.sequence_accession \"\n",
    "    f\"WHERE s.accession='{ACCESSION}'\"\n",
    ")\n",
    "cursor.execute(query)\n",
    "df = pd.DataFrame(cursor.fetchall(), columns=[i[0] for i in cursor.description])\n",
    "df"
   ]
  },
  {
   "cell_type": "markdown",
   "id": "dd890bbe-f361-4931-8245-425590cae8de",
   "metadata": {},
   "source": [
    "## Add publication"
   ]
  },
  {
   "cell_type": "code",
   "execution_count": 54,
   "id": "cba1bb7c-9b00-4ffb-8964-adc461aa7086",
   "metadata": {
    "tags": []
   },
   "outputs": [
    {
     "data": {
      "text/html": [
       "<div>\n",
       "<style scoped>\n",
       "    .dataframe tbody tr th:only-of-type {\n",
       "        vertical-align: middle;\n",
       "    }\n",
       "\n",
       "    .dataframe tbody tr th {\n",
       "        vertical-align: top;\n",
       "    }\n",
       "\n",
       "    .dataframe thead th {\n",
       "        text-align: right;\n",
       "    }\n",
       "</style>\n",
       "<table border=\"1\" class=\"dataframe\">\n",
       "  <thead>\n",
       "    <tr style=\"text-align: right;\">\n",
       "      <th></th>\n",
       "      <th>id</th>\n",
       "      <th>title</th>\n",
       "      <th>doi</th>\n",
       "      <th>author</th>\n",
       "      <th>year</th>\n",
       "    </tr>\n",
       "  </thead>\n",
       "  <tbody>\n",
       "    <tr>\n",
       "      <th>0</th>\n",
       "      <td>35099534</td>\n",
       "      <td>None</td>\n",
       "      <td>None</td>\n",
       "      <td>None</td>\n",
       "      <td>None</td>\n",
       "    </tr>\n",
       "  </tbody>\n",
       "</table>\n",
       "</div>"
      ],
      "text/plain": [
       "         id title   doi author  year\n",
       "0  35099534  None  None   None  None"
      ]
     },
     "execution_count": 54,
     "metadata": {},
     "output_type": "execute_result"
    }
   ],
   "source": [
    "pid = \"35099534\"\n",
    "query = \"SELECT * FROM publication WHERE id='35099534'\"\n",
    "cursor.execute(query)\n",
    "pd.DataFrame(cursor.fetchall(), columns=[i[0] for i in cursor.description])"
   ]
  },
  {
   "cell_type": "code",
   "execution_count": 55,
   "id": "f0cbaee3-9b61-4992-a1ab-c7c9cb9f2177",
   "metadata": {
    "tags": []
   },
   "outputs": [],
   "source": [
    "cursor.execute(add_sequence_has_publication, (ACCESSION, pid))"
   ]
  },
  {
   "cell_type": "code",
   "execution_count": 56,
   "id": "06a93dc0-cfd2-4158-b77f-a6c2e97d5528",
   "metadata": {
    "tags": []
   },
   "outputs": [
    {
     "data": {
      "text/html": [
       "<div>\n",
       "<style scoped>\n",
       "    .dataframe tbody tr th:only-of-type {\n",
       "        vertical-align: middle;\n",
       "    }\n",
       "\n",
       "    .dataframe tbody tr th {\n",
       "        vertical-align: top;\n",
       "    }\n",
       "\n",
       "    .dataframe thead th {\n",
       "        text-align: right;\n",
       "    }\n",
       "</style>\n",
       "<table border=\"1\" class=\"dataframe\">\n",
       "  <thead>\n",
       "    <tr style=\"text-align: right;\">\n",
       "      <th></th>\n",
       "      <th>accession</th>\n",
       "      <th>variant</th>\n",
       "      <th>gi</th>\n",
       "      <th>ncbi_gene_id</th>\n",
       "      <th>hgnc_gene_name</th>\n",
       "      <th>taxonomy_id</th>\n",
       "      <th>organism</th>\n",
       "      <th>phylum</th>\n",
       "      <th>class</th>\n",
       "      <th>taxonomy_group</th>\n",
       "      <th>info</th>\n",
       "      <th>sequence</th>\n",
       "      <th>variant_under_consideration</th>\n",
       "      <th>sequence_accession</th>\n",
       "      <th>publication_id</th>\n",
       "    </tr>\n",
       "  </thead>\n",
       "  <tbody>\n",
       "    <tr>\n",
       "      <th>0</th>\n",
       "      <td>XP_010799227.1</td>\n",
       "      <td>H2B.K</td>\n",
       "      <td>None</td>\n",
       "      <td>None</td>\n",
       "      <td>None</td>\n",
       "      <td>9913</td>\n",
       "      <td>Bos taurus</td>\n",
       "      <td>Chordata</td>\n",
       "      <td>Mammalia</td>\n",
       "      <td>None</td>\n",
       "      <td>None</td>\n",
       "      <td>MSAEHGQLQQSGGRRGRSPGDKKSRRRSRRKETYSMYIYKVLKQVH...</td>\n",
       "      <td>None</td>\n",
       "      <td>XP_010799227.1</td>\n",
       "      <td>35099534</td>\n",
       "    </tr>\n",
       "  </tbody>\n",
       "</table>\n",
       "</div>"
      ],
      "text/plain": [
       "        accession variant    gi ncbi_gene_id hgnc_gene_name  taxonomy_id  \\\n",
       "0  XP_010799227.1   H2B.K  None         None           None         9913   \n",
       "\n",
       "     organism    phylum     class taxonomy_group  info  \\\n",
       "0  Bos taurus  Chordata  Mammalia           None  None   \n",
       "\n",
       "                                            sequence  \\\n",
       "0  MSAEHGQLQQSGGRRGRSPGDKKSRRRSRRKETYSMYIYKVLKQVH...   \n",
       "\n",
       "  variant_under_consideration sequence_accession publication_id  \n",
       "0                        None     XP_010799227.1       35099534  "
      ]
     },
     "execution_count": 56,
     "metadata": {},
     "output_type": "execute_result"
    }
   ],
   "source": [
    "query = (\n",
    "    \"SELECT * FROM sequence s LEFT JOIN sequence_has_publication sp \"\n",
    "    \"ON s.accession = sp.sequence_accession \"\n",
    "    f\"WHERE s.accession='{ACCESSION}'\"\n",
    ")\n",
    "cursor.execute(query)\n",
    "df = pd.DataFrame(cursor.fetchall(), columns=[i[0] for i in cursor.description])\n",
    "df"
   ]
  },
  {
   "cell_type": "code",
   "execution_count": 57,
   "id": "d70834b1-cbff-4f3f-ae98-651aa7b68e34",
   "metadata": {
    "tags": []
   },
   "outputs": [
    {
     "data": {
      "text/html": [
       "<div>\n",
       "<style scoped>\n",
       "    .dataframe tbody tr th:only-of-type {\n",
       "        vertical-align: middle;\n",
       "    }\n",
       "\n",
       "    .dataframe tbody tr th {\n",
       "        vertical-align: top;\n",
       "    }\n",
       "\n",
       "    .dataframe thead th {\n",
       "        text-align: right;\n",
       "    }\n",
       "</style>\n",
       "<table border=\"1\" class=\"dataframe\">\n",
       "  <thead>\n",
       "    <tr style=\"text-align: right;\">\n",
       "      <th></th>\n",
       "      <th>accession</th>\n",
       "      <th>variant</th>\n",
       "      <th>gi</th>\n",
       "      <th>ncbi_gene_id</th>\n",
       "      <th>hgnc_gene_name</th>\n",
       "      <th>taxonomy_id</th>\n",
       "      <th>organism</th>\n",
       "      <th>phylum</th>\n",
       "      <th>class</th>\n",
       "      <th>taxonomy_group</th>\n",
       "      <th>info</th>\n",
       "      <th>sequence</th>\n",
       "      <th>variant_under_consideration</th>\n",
       "      <th>sequence_accession</th>\n",
       "      <th>publication_id</th>\n",
       "    </tr>\n",
       "  </thead>\n",
       "  <tbody>\n",
       "    <tr>\n",
       "      <th>0</th>\n",
       "      <td>HISTDB_H2B_K_0</td>\n",
       "      <td>H2B.K</td>\n",
       "      <td>None</td>\n",
       "      <td>None</td>\n",
       "      <td>None</td>\n",
       "      <td>9940</td>\n",
       "      <td>Ovis aries</td>\n",
       "      <td>Chordata</td>\n",
       "      <td>Mammalia</td>\n",
       "      <td>None</td>\n",
       "      <td>None</td>\n",
       "      <td>MSAEHGQLQQAGGRRGRSPGDKKSRRRSRRKETYSMYIYKVLKQVH...</td>\n",
       "      <td>None</td>\n",
       "      <td>HISTDB_H2B_K_0</td>\n",
       "      <td>35099534</td>\n",
       "    </tr>\n",
       "    <tr>\n",
       "      <th>1</th>\n",
       "      <td>XP_002715119.2</td>\n",
       "      <td>H2B.K</td>\n",
       "      <td>None</td>\n",
       "      <td>None</td>\n",
       "      <td>None</td>\n",
       "      <td>9986</td>\n",
       "      <td>Oryctolagus cuniculus</td>\n",
       "      <td>Chordata</td>\n",
       "      <td>Mammalia</td>\n",
       "      <td>None</td>\n",
       "      <td>None</td>\n",
       "      <td>MSAERGQQQQQASSRRGRSSGNKKSRKRSKRKETYSMYIYKVLKQV...</td>\n",
       "      <td>None</td>\n",
       "      <td>XP_002715119.2</td>\n",
       "      <td>35099534</td>\n",
       "    </tr>\n",
       "    <tr>\n",
       "      <th>2</th>\n",
       "      <td>XP_010799227.1</td>\n",
       "      <td>H2B.K</td>\n",
       "      <td>None</td>\n",
       "      <td>None</td>\n",
       "      <td>None</td>\n",
       "      <td>9913</td>\n",
       "      <td>Bos taurus</td>\n",
       "      <td>Chordata</td>\n",
       "      <td>Mammalia</td>\n",
       "      <td>None</td>\n",
       "      <td>None</td>\n",
       "      <td>MSAEHGQLQQSGGRRGRSPGDKKSRRRSRRKETYSMYIYKVLKQVH...</td>\n",
       "      <td>None</td>\n",
       "      <td>XP_010799227.1</td>\n",
       "      <td>35099534</td>\n",
       "    </tr>\n",
       "    <tr>\n",
       "      <th>3</th>\n",
       "      <td>XP_013846203.1</td>\n",
       "      <td>H2B.K</td>\n",
       "      <td>None</td>\n",
       "      <td>None</td>\n",
       "      <td>None</td>\n",
       "      <td>9823</td>\n",
       "      <td>Sus scrofa</td>\n",
       "      <td>Chordata</td>\n",
       "      <td>Mammalia</td>\n",
       "      <td>None</td>\n",
       "      <td>None</td>\n",
       "      <td>MSSAHGQQQQQQQQQQQQQQQGGGRRGRSSGEKKSKKRNRRKETYS...</td>\n",
       "      <td>None</td>\n",
       "      <td>XP_013846203.1</td>\n",
       "      <td>35099534</td>\n",
       "    </tr>\n",
       "    <tr>\n",
       "      <th>4</th>\n",
       "      <td>XP_024846715.1</td>\n",
       "      <td>H2B.K</td>\n",
       "      <td>None</td>\n",
       "      <td>None</td>\n",
       "      <td>None</td>\n",
       "      <td>9913</td>\n",
       "      <td>Bos taurus</td>\n",
       "      <td>Chordata</td>\n",
       "      <td>Mammalia</td>\n",
       "      <td>None</td>\n",
       "      <td>None</td>\n",
       "      <td>MSAEHGQLQQSGGRRGRSPGDKKSRRRSRRKETYSMYIYKVLKQVH...</td>\n",
       "      <td>None</td>\n",
       "      <td>XP_024846715.1</td>\n",
       "      <td>35099534</td>\n",
       "    </tr>\n",
       "    <tr>\n",
       "      <th>5</th>\n",
       "      <td>XP_027824938.1</td>\n",
       "      <td>H2B.K</td>\n",
       "      <td>None</td>\n",
       "      <td>None</td>\n",
       "      <td>None</td>\n",
       "      <td>9940</td>\n",
       "      <td>Ovis aries</td>\n",
       "      <td>Chordata</td>\n",
       "      <td>Mammalia</td>\n",
       "      <td>None</td>\n",
       "      <td>None</td>\n",
       "      <td>MSAEHGQLQQSGGRRGRSPGDKKSRRRSRRKETYSMYIYKVLKQVH...</td>\n",
       "      <td>None</td>\n",
       "      <td>XP_027824938.1</td>\n",
       "      <td>35099534</td>\n",
       "    </tr>\n",
       "  </tbody>\n",
       "</table>\n",
       "</div>"
      ],
      "text/plain": [
       "        accession variant    gi ncbi_gene_id hgnc_gene_name  taxonomy_id  \\\n",
       "0  HISTDB_H2B_K_0   H2B.K  None         None           None         9940   \n",
       "1  XP_002715119.2   H2B.K  None         None           None         9986   \n",
       "2  XP_010799227.1   H2B.K  None         None           None         9913   \n",
       "3  XP_013846203.1   H2B.K  None         None           None         9823   \n",
       "4  XP_024846715.1   H2B.K  None         None           None         9913   \n",
       "5  XP_027824938.1   H2B.K  None         None           None         9940   \n",
       "\n",
       "                organism    phylum     class taxonomy_group  info  \\\n",
       "0             Ovis aries  Chordata  Mammalia           None  None   \n",
       "1  Oryctolagus cuniculus  Chordata  Mammalia           None  None   \n",
       "2             Bos taurus  Chordata  Mammalia           None  None   \n",
       "3             Sus scrofa  Chordata  Mammalia           None  None   \n",
       "4             Bos taurus  Chordata  Mammalia           None  None   \n",
       "5             Ovis aries  Chordata  Mammalia           None  None   \n",
       "\n",
       "                                            sequence  \\\n",
       "0  MSAEHGQLQQAGGRRGRSPGDKKSRRRSRRKETYSMYIYKVLKQVH...   \n",
       "1  MSAERGQQQQQASSRRGRSSGNKKSRKRSKRKETYSMYIYKVLKQV...   \n",
       "2  MSAEHGQLQQSGGRRGRSPGDKKSRRRSRRKETYSMYIYKVLKQVH...   \n",
       "3  MSSAHGQQQQQQQQQQQQQQQGGGRRGRSSGEKKSKKRNRRKETYS...   \n",
       "4  MSAEHGQLQQSGGRRGRSPGDKKSRRRSRRKETYSMYIYKVLKQVH...   \n",
       "5  MSAEHGQLQQSGGRRGRSPGDKKSRRRSRRKETYSMYIYKVLKQVH...   \n",
       "\n",
       "  variant_under_consideration sequence_accession publication_id  \n",
       "0                        None     HISTDB_H2B_K_0       35099534  \n",
       "1                        None     XP_002715119.2       35099534  \n",
       "2                        None     XP_010799227.1       35099534  \n",
       "3                        None     XP_013846203.1       35099534  \n",
       "4                        None     XP_024846715.1       35099534  \n",
       "5                        None     XP_027824938.1       35099534  "
      ]
     },
     "execution_count": 57,
     "metadata": {},
     "output_type": "execute_result"
    }
   ],
   "source": [
    "query = (\n",
    "    \"SELECT * FROM sequence s LEFT JOIN sequence_has_publication sp \"\n",
    "    \"ON s.accession = sp.sequence_accession \"\n",
    "    f\"WHERE s.variant='H2B.K'\"\n",
    ")\n",
    "cursor.execute(query)\n",
    "df = pd.DataFrame(cursor.fetchall(), columns=[i[0] for i in cursor.description])\n",
    "df"
   ]
  },
  {
   "cell_type": "markdown",
   "id": "d8d82905-9bc3-4e8b-a1cd-def51cf1bf11",
   "metadata": {},
   "source": [
    "## Accession XP_059747847.1"
   ]
  },
  {
   "cell_type": "code",
   "execution_count": 58,
   "id": "47a0282a-b544-4313-ad6c-31caafcd9d11",
   "metadata": {
    "tags": []
   },
   "outputs": [],
   "source": [
    "ACCESSION = \"XP_059747847.1\""
   ]
  },
  {
   "cell_type": "markdown",
   "id": "b973ae64-0b83-4be6-8827-dc11558db677",
   "metadata": {
    "tags": []
   },
   "source": [
    "## Get sequence XP_059747847.1 from NCBI"
   ]
  },
  {
   "cell_type": "code",
   "execution_count": 59,
   "id": "3067a494-92a0-4d65-a61b-3d77441fa7bf",
   "metadata": {
    "tags": []
   },
   "outputs": [
    {
     "name": "stdout",
     "output_type": "stream",
     "text": [
      "ID: XP_059747847.1\n",
      "Name: XP_059747847\n",
      "Description: histone H2B type 2-K1-like [Bos taurus]\n",
      "Database cross-references: BioProject:PRJNA450837\n",
      "Number of features: 7\n",
      "/topology=linear\n",
      "/data_file_division=MAM\n",
      "/date=03-OCT-2023\n",
      "/accessions=['XP_059747847']\n",
      "/sequence_version=1\n",
      "/db_source=REFSEQ: accession XM_059891864.1\n",
      "/keywords=['RefSeq']\n",
      "/source=Bos taurus (domestic cattle)\n",
      "/organism=Bos taurus\n",
      "/taxonomy=['Eukaryota', 'Metazoa', 'Chordata', 'Craniata', 'Vertebrata', 'Euteleostomi', 'Mammalia', 'Eutheria', 'Laurasiatheria', 'Artiodactyla', 'Ruminantia', 'Pecora', 'Bovidae', 'Bovinae', 'Bos']\n",
      "/comment=MODEL REFSEQ:  This record is predicted by automated computational\n",
      "analysis. This record is derived from a genomic sequence\n",
      "(NC_037338.1) annotated using gene prediction method: Gnomon,\n",
      "supported by EST evidence.\n",
      "Also see:\n",
      "    Documentation of NCBI's Annotation Process\n",
      "COMPLETENESS: full length.\n",
      "/structured_comment=OrderedDict([('Genome-Annotation-Data', OrderedDict([('Annotation Provider', 'NCBI RefSeq'), ('Annotation Status', 'Full annotation'), ('Annotation Name', 'GCF_002263795.3-RS_2023_09'), ('Annotation Pipeline', 'NCBI eukaryotic genome annotation pipeline'), ('Annotation Software Version', '10.2'), ('Annotation Method', 'Best-placed RefSeq; Gnomon; cmsearch; tRNAscan-SE'), ('Features Annotated', 'Gene; mRNA; CDS; ncRNA'), ('Annotation Date', '09/28/2023')]))])\n",
      "/molecule_type=protein\n",
      "Seq('MMDTRSSKLVCHNILRTRRMSAEHGQLQQSGGRRGRSPGDKKSRRRSRRKETYS...SSK')\n"
     ]
    }
   ],
   "source": [
    "with Entrez.efetch(\n",
    "    db=\"protein\", id=ACCESSION, rettype=\"gb\", retmode=\"text\"\n",
    ") as handle:\n",
    "    record = SeqIO.read(handle, \"genbank\")\n",
    "    print(record)"
   ]
  },
  {
   "cell_type": "code",
   "execution_count": 60,
   "id": "c4ee4387-7b77-4c48-9b46-e4d1a0522672",
   "metadata": {
    "tags": []
   },
   "outputs": [
    {
     "data": {
      "text/plain": [
       "'MMDTRSSKLVCHNILRTRRMSAEHGQLQQSGGRRGRSPGDKKSRRRSRRKETYSMYIYKVLKQVHPDIGISSKAMSIMNSFVNDLFERLAGEAARLAQYSGRTTLTSREVQTAVRLLLPGELAKHAVSEGTKAVTKYTSSK'"
      ]
     },
     "execution_count": 60,
     "metadata": {},
     "output_type": "execute_result"
    }
   ],
   "source": [
    "str(record.seq)"
   ]
  },
  {
   "cell_type": "code",
   "execution_count": 61,
   "id": "e002afc0-2573-4fc8-80c7-9979f47e8d3f",
   "metadata": {
    "tags": []
   },
   "outputs": [
    {
     "data": {
      "text/plain": [
       "'Bos taurus'"
      ]
     },
     "execution_count": 61,
     "metadata": {},
     "output_type": "execute_result"
    }
   ],
   "source": [
    "record.annotations[\"organism\"]"
   ]
  },
  {
   "cell_type": "code",
   "execution_count": 62,
   "id": "08c3cb1f-92f2-4faf-a8fe-62caf85abb0c",
   "metadata": {
    "tags": []
   },
   "outputs": [
    {
     "name": "stdout",
     "output_type": "stream",
     "text": [
      "Fetched taxid from NCBI <built-in function id>\n"
     ]
    },
    {
     "data": {
      "text/plain": [
       "{'organism': 'Bos taurus',\n",
       " 'taxonomy_id': 9913,\n",
       " 'phylum': 'Chordata',\n",
       " 'class': 'Mammalia'}"
      ]
     },
     "execution_count": 62,
     "metadata": {},
     "output_type": "execute_result"
    }
   ],
   "source": [
    "taxonomy_data = get_taxonomy_data(record)\n",
    "taxonomy_data"
   ]
  },
  {
   "cell_type": "markdown",
   "id": "912cc434-820c-4952-a8e7-8592ba8fad30",
   "metadata": {},
   "source": [
    "## Adding XP_059747847.1"
   ]
  },
  {
   "cell_type": "code",
   "execution_count": 63,
   "id": "56348237-6cce-4b0e-bc94-04d838f840fc",
   "metadata": {
    "tags": []
   },
   "outputs": [
    {
     "data": {
      "text/plain": [
       "{'accession': 'XP_059747847.1',\n",
       " 'variant': 'H2B.K',\n",
       " 'gi': None,\n",
       " 'ncbi_gene_id': None,\n",
       " 'hgnc_gene_name': None,\n",
       " 'taxonomy_id': 9913,\n",
       " 'organism': 'Bos taurus',\n",
       " 'phylum': 'Chordata',\n",
       " 'class': 'Mammalia',\n",
       " 'taxonomy_group': None,\n",
       " 'info': None,\n",
       " 'sequence': 'MMDTRSSKLVCHNILRTRRMSAEHGQLQQSGGRRGRSPGDKKSRRRSRRKETYSMYIYKVLKQVHPDIGISSKAMSIMNSFVNDLFERLAGEAARLAQYSGRTTLTSREVQTAVRLLLPGELAKHAVSEGTKAVTKYTSSK',\n",
       " 'variant_under_consideration': None}"
      ]
     },
     "execution_count": 63,
     "metadata": {},
     "output_type": "execute_result"
    }
   ],
   "source": [
    "data_sequence = {\n",
    "    \"accession\": ACCESSION,\n",
    "    \"variant\": \"H2B.K\",\n",
    "    \"gi\": None,\n",
    "    \"ncbi_gene_id\": None,\n",
    "    \"hgnc_gene_name\": None,\n",
    "    \"taxonomy_id\": None,\n",
    "    \"organism\": None,\n",
    "    \"phylum\": None,\n",
    "    \"class\": None,\n",
    "    \"taxonomy_group\": None,\n",
    "    \"info\": None,\n",
    "    \"sequence\": str(record.seq),\n",
    "    \"variant_under_consideration\": None,\n",
    "}\n",
    "data_sequence.update(taxonomy_data)\n",
    "data_sequence"
   ]
  },
  {
   "cell_type": "code",
   "execution_count": 64,
   "id": "ca73f2f6-a46b-4a51-8901-1386fc4ef381",
   "metadata": {
    "tags": []
   },
   "outputs": [
    {
     "name": "stdout",
     "output_type": "stream",
     "text": [
      "accession <class 'str'>\n",
      "variant <class 'str'>\n",
      "gi <class 'NoneType'>\n",
      "ncbi_gene_id <class 'NoneType'>\n",
      "hgnc_gene_name <class 'NoneType'>\n",
      "taxonomy_id <class 'int'>\n",
      "organism <class 'str'>\n",
      "phylum <class 'str'>\n",
      "class <class 'str'>\n",
      "taxonomy_group <class 'NoneType'>\n",
      "info <class 'NoneType'>\n",
      "sequence <class 'str'>\n",
      "variant_under_consideration <class 'NoneType'>\n"
     ]
    }
   ],
   "source": [
    "for k, v in data_sequence.items():\n",
    "    print(k, type(v))"
   ]
  },
  {
   "cell_type": "code",
   "execution_count": 65,
   "id": "6d2e54a7-9fef-4284-b282-5b5be97474c7",
   "metadata": {
    "tags": []
   },
   "outputs": [],
   "source": [
    "cursor.execute(add_sequence, data_sequence)"
   ]
  },
  {
   "cell_type": "code",
   "execution_count": 66,
   "id": "a768147a-2ac6-4941-b758-57f0b956ba86",
   "metadata": {
    "tags": []
   },
   "outputs": [
    {
     "data": {
      "text/html": [
       "<div>\n",
       "<style scoped>\n",
       "    .dataframe tbody tr th:only-of-type {\n",
       "        vertical-align: middle;\n",
       "    }\n",
       "\n",
       "    .dataframe tbody tr th {\n",
       "        vertical-align: top;\n",
       "    }\n",
       "\n",
       "    .dataframe thead th {\n",
       "        text-align: right;\n",
       "    }\n",
       "</style>\n",
       "<table border=\"1\" class=\"dataframe\">\n",
       "  <thead>\n",
       "    <tr style=\"text-align: right;\">\n",
       "      <th></th>\n",
       "      <th>accession</th>\n",
       "      <th>variant</th>\n",
       "      <th>gi</th>\n",
       "      <th>ncbi_gene_id</th>\n",
       "      <th>hgnc_gene_name</th>\n",
       "      <th>taxonomy_id</th>\n",
       "      <th>organism</th>\n",
       "      <th>phylum</th>\n",
       "      <th>class</th>\n",
       "      <th>taxonomy_group</th>\n",
       "      <th>info</th>\n",
       "      <th>sequence</th>\n",
       "      <th>variant_under_consideration</th>\n",
       "      <th>sequence_accession</th>\n",
       "      <th>publication_id</th>\n",
       "    </tr>\n",
       "  </thead>\n",
       "  <tbody>\n",
       "    <tr>\n",
       "      <th>0</th>\n",
       "      <td>XP_059747847.1</td>\n",
       "      <td>H2B.K</td>\n",
       "      <td>None</td>\n",
       "      <td>None</td>\n",
       "      <td>None</td>\n",
       "      <td>9913</td>\n",
       "      <td>Bos taurus</td>\n",
       "      <td>Chordata</td>\n",
       "      <td>Mammalia</td>\n",
       "      <td>None</td>\n",
       "      <td>None</td>\n",
       "      <td>MMDTRSSKLVCHNILRTRRMSAEHGQLQQSGGRRGRSPGDKKSRRR...</td>\n",
       "      <td>None</td>\n",
       "      <td>None</td>\n",
       "      <td>None</td>\n",
       "    </tr>\n",
       "  </tbody>\n",
       "</table>\n",
       "</div>"
      ],
      "text/plain": [
       "        accession variant    gi ncbi_gene_id hgnc_gene_name  taxonomy_id  \\\n",
       "0  XP_059747847.1   H2B.K  None         None           None         9913   \n",
       "\n",
       "     organism    phylum     class taxonomy_group  info  \\\n",
       "0  Bos taurus  Chordata  Mammalia           None  None   \n",
       "\n",
       "                                            sequence  \\\n",
       "0  MMDTRSSKLVCHNILRTRRMSAEHGQLQQSGGRRGRSPGDKKSRRR...   \n",
       "\n",
       "  variant_under_consideration sequence_accession publication_id  \n",
       "0                        None               None           None  "
      ]
     },
     "execution_count": 66,
     "metadata": {},
     "output_type": "execute_result"
    }
   ],
   "source": [
    "query = (\n",
    "    \"SELECT * FROM sequence s LEFT JOIN sequence_has_publication sp \"\n",
    "    \"ON s.accession = sp.sequence_accession \"\n",
    "    f\"WHERE s.accession='{ACCESSION}'\"\n",
    ")\n",
    "cursor.execute(query)\n",
    "df = pd.DataFrame(cursor.fetchall(), columns=[i[0] for i in cursor.description])\n",
    "df"
   ]
  },
  {
   "cell_type": "markdown",
   "id": "5100c83b-735f-4619-960c-8a1ede0cbd0f",
   "metadata": {},
   "source": [
    "## Add publication"
   ]
  },
  {
   "cell_type": "code",
   "execution_count": 67,
   "id": "4c811142-f317-4643-8803-327f546b26f4",
   "metadata": {
    "tags": []
   },
   "outputs": [
    {
     "data": {
      "text/html": [
       "<div>\n",
       "<style scoped>\n",
       "    .dataframe tbody tr th:only-of-type {\n",
       "        vertical-align: middle;\n",
       "    }\n",
       "\n",
       "    .dataframe tbody tr th {\n",
       "        vertical-align: top;\n",
       "    }\n",
       "\n",
       "    .dataframe thead th {\n",
       "        text-align: right;\n",
       "    }\n",
       "</style>\n",
       "<table border=\"1\" class=\"dataframe\">\n",
       "  <thead>\n",
       "    <tr style=\"text-align: right;\">\n",
       "      <th></th>\n",
       "      <th>id</th>\n",
       "      <th>title</th>\n",
       "      <th>doi</th>\n",
       "      <th>author</th>\n",
       "      <th>year</th>\n",
       "    </tr>\n",
       "  </thead>\n",
       "  <tbody>\n",
       "    <tr>\n",
       "      <th>0</th>\n",
       "      <td>35099534</td>\n",
       "      <td>None</td>\n",
       "      <td>None</td>\n",
       "      <td>None</td>\n",
       "      <td>None</td>\n",
       "    </tr>\n",
       "  </tbody>\n",
       "</table>\n",
       "</div>"
      ],
      "text/plain": [
       "         id title   doi author  year\n",
       "0  35099534  None  None   None  None"
      ]
     },
     "execution_count": 67,
     "metadata": {},
     "output_type": "execute_result"
    }
   ],
   "source": [
    "pid = \"35099534\"\n",
    "query = \"SELECT * FROM publication WHERE id='35099534'\"\n",
    "cursor.execute(query)\n",
    "pd.DataFrame(cursor.fetchall(), columns=[i[0] for i in cursor.description])"
   ]
  },
  {
   "cell_type": "code",
   "execution_count": 68,
   "id": "4975dd86-46f2-490c-b529-4f99b2f2ed78",
   "metadata": {
    "tags": []
   },
   "outputs": [],
   "source": [
    "cursor.execute(add_sequence_has_publication, (ACCESSION, pid))"
   ]
  },
  {
   "cell_type": "code",
   "execution_count": 69,
   "id": "8902d336-e133-40dd-830d-57ae82dcd23e",
   "metadata": {
    "tags": []
   },
   "outputs": [
    {
     "data": {
      "text/html": [
       "<div>\n",
       "<style scoped>\n",
       "    .dataframe tbody tr th:only-of-type {\n",
       "        vertical-align: middle;\n",
       "    }\n",
       "\n",
       "    .dataframe tbody tr th {\n",
       "        vertical-align: top;\n",
       "    }\n",
       "\n",
       "    .dataframe thead th {\n",
       "        text-align: right;\n",
       "    }\n",
       "</style>\n",
       "<table border=\"1\" class=\"dataframe\">\n",
       "  <thead>\n",
       "    <tr style=\"text-align: right;\">\n",
       "      <th></th>\n",
       "      <th>accession</th>\n",
       "      <th>variant</th>\n",
       "      <th>gi</th>\n",
       "      <th>ncbi_gene_id</th>\n",
       "      <th>hgnc_gene_name</th>\n",
       "      <th>taxonomy_id</th>\n",
       "      <th>organism</th>\n",
       "      <th>phylum</th>\n",
       "      <th>class</th>\n",
       "      <th>taxonomy_group</th>\n",
       "      <th>info</th>\n",
       "      <th>sequence</th>\n",
       "      <th>variant_under_consideration</th>\n",
       "      <th>sequence_accession</th>\n",
       "      <th>publication_id</th>\n",
       "    </tr>\n",
       "  </thead>\n",
       "  <tbody>\n",
       "    <tr>\n",
       "      <th>0</th>\n",
       "      <td>XP_059747847.1</td>\n",
       "      <td>H2B.K</td>\n",
       "      <td>None</td>\n",
       "      <td>None</td>\n",
       "      <td>None</td>\n",
       "      <td>9913</td>\n",
       "      <td>Bos taurus</td>\n",
       "      <td>Chordata</td>\n",
       "      <td>Mammalia</td>\n",
       "      <td>None</td>\n",
       "      <td>None</td>\n",
       "      <td>MMDTRSSKLVCHNILRTRRMSAEHGQLQQSGGRRGRSPGDKKSRRR...</td>\n",
       "      <td>None</td>\n",
       "      <td>XP_059747847.1</td>\n",
       "      <td>35099534</td>\n",
       "    </tr>\n",
       "  </tbody>\n",
       "</table>\n",
       "</div>"
      ],
      "text/plain": [
       "        accession variant    gi ncbi_gene_id hgnc_gene_name  taxonomy_id  \\\n",
       "0  XP_059747847.1   H2B.K  None         None           None         9913   \n",
       "\n",
       "     organism    phylum     class taxonomy_group  info  \\\n",
       "0  Bos taurus  Chordata  Mammalia           None  None   \n",
       "\n",
       "                                            sequence  \\\n",
       "0  MMDTRSSKLVCHNILRTRRMSAEHGQLQQSGGRRGRSPGDKKSRRR...   \n",
       "\n",
       "  variant_under_consideration sequence_accession publication_id  \n",
       "0                        None     XP_059747847.1       35099534  "
      ]
     },
     "execution_count": 69,
     "metadata": {},
     "output_type": "execute_result"
    }
   ],
   "source": [
    "query = (\n",
    "    \"SELECT * FROM sequence s LEFT JOIN sequence_has_publication sp \"\n",
    "    \"ON s.accession = sp.sequence_accession \"\n",
    "    f\"WHERE s.accession='{ACCESSION}'\"\n",
    ")\n",
    "cursor.execute(query)\n",
    "df = pd.DataFrame(cursor.fetchall(), columns=[i[0] for i in cursor.description])\n",
    "df"
   ]
  },
  {
   "cell_type": "code",
   "execution_count": 70,
   "id": "a0c0541d-a478-4ce3-8fac-d05a49d51451",
   "metadata": {
    "tags": []
   },
   "outputs": [
    {
     "data": {
      "text/html": [
       "<div>\n",
       "<style scoped>\n",
       "    .dataframe tbody tr th:only-of-type {\n",
       "        vertical-align: middle;\n",
       "    }\n",
       "\n",
       "    .dataframe tbody tr th {\n",
       "        vertical-align: top;\n",
       "    }\n",
       "\n",
       "    .dataframe thead th {\n",
       "        text-align: right;\n",
       "    }\n",
       "</style>\n",
       "<table border=\"1\" class=\"dataframe\">\n",
       "  <thead>\n",
       "    <tr style=\"text-align: right;\">\n",
       "      <th></th>\n",
       "      <th>accession</th>\n",
       "      <th>variant</th>\n",
       "      <th>gi</th>\n",
       "      <th>ncbi_gene_id</th>\n",
       "      <th>hgnc_gene_name</th>\n",
       "      <th>taxonomy_id</th>\n",
       "      <th>organism</th>\n",
       "      <th>phylum</th>\n",
       "      <th>class</th>\n",
       "      <th>taxonomy_group</th>\n",
       "      <th>info</th>\n",
       "      <th>sequence</th>\n",
       "      <th>variant_under_consideration</th>\n",
       "      <th>sequence_accession</th>\n",
       "      <th>publication_id</th>\n",
       "    </tr>\n",
       "  </thead>\n",
       "  <tbody>\n",
       "    <tr>\n",
       "      <th>0</th>\n",
       "      <td>HISTDB_H2B_K_0</td>\n",
       "      <td>H2B.K</td>\n",
       "      <td>None</td>\n",
       "      <td>None</td>\n",
       "      <td>None</td>\n",
       "      <td>9940</td>\n",
       "      <td>Ovis aries</td>\n",
       "      <td>Chordata</td>\n",
       "      <td>Mammalia</td>\n",
       "      <td>None</td>\n",
       "      <td>None</td>\n",
       "      <td>MSAEHGQLQQAGGRRGRSPGDKKSRRRSRRKETYSMYIYKVLKQVH...</td>\n",
       "      <td>None</td>\n",
       "      <td>HISTDB_H2B_K_0</td>\n",
       "      <td>35099534</td>\n",
       "    </tr>\n",
       "    <tr>\n",
       "      <th>1</th>\n",
       "      <td>XP_002715119.2</td>\n",
       "      <td>H2B.K</td>\n",
       "      <td>None</td>\n",
       "      <td>None</td>\n",
       "      <td>None</td>\n",
       "      <td>9986</td>\n",
       "      <td>Oryctolagus cuniculus</td>\n",
       "      <td>Chordata</td>\n",
       "      <td>Mammalia</td>\n",
       "      <td>None</td>\n",
       "      <td>None</td>\n",
       "      <td>MSAERGQQQQQASSRRGRSSGNKKSRKRSKRKETYSMYIYKVLKQV...</td>\n",
       "      <td>None</td>\n",
       "      <td>XP_002715119.2</td>\n",
       "      <td>35099534</td>\n",
       "    </tr>\n",
       "    <tr>\n",
       "      <th>2</th>\n",
       "      <td>XP_010799227.1</td>\n",
       "      <td>H2B.K</td>\n",
       "      <td>None</td>\n",
       "      <td>None</td>\n",
       "      <td>None</td>\n",
       "      <td>9913</td>\n",
       "      <td>Bos taurus</td>\n",
       "      <td>Chordata</td>\n",
       "      <td>Mammalia</td>\n",
       "      <td>None</td>\n",
       "      <td>None</td>\n",
       "      <td>MSAEHGQLQQSGGRRGRSPGDKKSRRRSRRKETYSMYIYKVLKQVH...</td>\n",
       "      <td>None</td>\n",
       "      <td>XP_010799227.1</td>\n",
       "      <td>35099534</td>\n",
       "    </tr>\n",
       "    <tr>\n",
       "      <th>3</th>\n",
       "      <td>XP_013846203.1</td>\n",
       "      <td>H2B.K</td>\n",
       "      <td>None</td>\n",
       "      <td>None</td>\n",
       "      <td>None</td>\n",
       "      <td>9823</td>\n",
       "      <td>Sus scrofa</td>\n",
       "      <td>Chordata</td>\n",
       "      <td>Mammalia</td>\n",
       "      <td>None</td>\n",
       "      <td>None</td>\n",
       "      <td>MSSAHGQQQQQQQQQQQQQQQGGGRRGRSSGEKKSKKRNRRKETYS...</td>\n",
       "      <td>None</td>\n",
       "      <td>XP_013846203.1</td>\n",
       "      <td>35099534</td>\n",
       "    </tr>\n",
       "    <tr>\n",
       "      <th>4</th>\n",
       "      <td>XP_024846715.1</td>\n",
       "      <td>H2B.K</td>\n",
       "      <td>None</td>\n",
       "      <td>None</td>\n",
       "      <td>None</td>\n",
       "      <td>9913</td>\n",
       "      <td>Bos taurus</td>\n",
       "      <td>Chordata</td>\n",
       "      <td>Mammalia</td>\n",
       "      <td>None</td>\n",
       "      <td>None</td>\n",
       "      <td>MSAEHGQLQQSGGRRGRSPGDKKSRRRSRRKETYSMYIYKVLKQVH...</td>\n",
       "      <td>None</td>\n",
       "      <td>XP_024846715.1</td>\n",
       "      <td>35099534</td>\n",
       "    </tr>\n",
       "    <tr>\n",
       "      <th>5</th>\n",
       "      <td>XP_027824938.1</td>\n",
       "      <td>H2B.K</td>\n",
       "      <td>None</td>\n",
       "      <td>None</td>\n",
       "      <td>None</td>\n",
       "      <td>9940</td>\n",
       "      <td>Ovis aries</td>\n",
       "      <td>Chordata</td>\n",
       "      <td>Mammalia</td>\n",
       "      <td>None</td>\n",
       "      <td>None</td>\n",
       "      <td>MSAEHGQLQQSGGRRGRSPGDKKSRRRSRRKETYSMYIYKVLKQVH...</td>\n",
       "      <td>None</td>\n",
       "      <td>XP_027824938.1</td>\n",
       "      <td>35099534</td>\n",
       "    </tr>\n",
       "    <tr>\n",
       "      <th>6</th>\n",
       "      <td>XP_059747847.1</td>\n",
       "      <td>H2B.K</td>\n",
       "      <td>None</td>\n",
       "      <td>None</td>\n",
       "      <td>None</td>\n",
       "      <td>9913</td>\n",
       "      <td>Bos taurus</td>\n",
       "      <td>Chordata</td>\n",
       "      <td>Mammalia</td>\n",
       "      <td>None</td>\n",
       "      <td>None</td>\n",
       "      <td>MMDTRSSKLVCHNILRTRRMSAEHGQLQQSGGRRGRSPGDKKSRRR...</td>\n",
       "      <td>None</td>\n",
       "      <td>XP_059747847.1</td>\n",
       "      <td>35099534</td>\n",
       "    </tr>\n",
       "  </tbody>\n",
       "</table>\n",
       "</div>"
      ],
      "text/plain": [
       "        accession variant    gi ncbi_gene_id hgnc_gene_name  taxonomy_id  \\\n",
       "0  HISTDB_H2B_K_0   H2B.K  None         None           None         9940   \n",
       "1  XP_002715119.2   H2B.K  None         None           None         9986   \n",
       "2  XP_010799227.1   H2B.K  None         None           None         9913   \n",
       "3  XP_013846203.1   H2B.K  None         None           None         9823   \n",
       "4  XP_024846715.1   H2B.K  None         None           None         9913   \n",
       "5  XP_027824938.1   H2B.K  None         None           None         9940   \n",
       "6  XP_059747847.1   H2B.K  None         None           None         9913   \n",
       "\n",
       "                organism    phylum     class taxonomy_group  info  \\\n",
       "0             Ovis aries  Chordata  Mammalia           None  None   \n",
       "1  Oryctolagus cuniculus  Chordata  Mammalia           None  None   \n",
       "2             Bos taurus  Chordata  Mammalia           None  None   \n",
       "3             Sus scrofa  Chordata  Mammalia           None  None   \n",
       "4             Bos taurus  Chordata  Mammalia           None  None   \n",
       "5             Ovis aries  Chordata  Mammalia           None  None   \n",
       "6             Bos taurus  Chordata  Mammalia           None  None   \n",
       "\n",
       "                                            sequence  \\\n",
       "0  MSAEHGQLQQAGGRRGRSPGDKKSRRRSRRKETYSMYIYKVLKQVH...   \n",
       "1  MSAERGQQQQQASSRRGRSSGNKKSRKRSKRKETYSMYIYKVLKQV...   \n",
       "2  MSAEHGQLQQSGGRRGRSPGDKKSRRRSRRKETYSMYIYKVLKQVH...   \n",
       "3  MSSAHGQQQQQQQQQQQQQQQGGGRRGRSSGEKKSKKRNRRKETYS...   \n",
       "4  MSAEHGQLQQSGGRRGRSPGDKKSRRRSRRKETYSMYIYKVLKQVH...   \n",
       "5  MSAEHGQLQQSGGRRGRSPGDKKSRRRSRRKETYSMYIYKVLKQVH...   \n",
       "6  MMDTRSSKLVCHNILRTRRMSAEHGQLQQSGGRRGRSPGDKKSRRR...   \n",
       "\n",
       "  variant_under_consideration sequence_accession publication_id  \n",
       "0                        None     HISTDB_H2B_K_0       35099534  \n",
       "1                        None     XP_002715119.2       35099534  \n",
       "2                        None     XP_010799227.1       35099534  \n",
       "3                        None     XP_013846203.1       35099534  \n",
       "4                        None     XP_024846715.1       35099534  \n",
       "5                        None     XP_027824938.1       35099534  \n",
       "6                        None     XP_059747847.1       35099534  "
      ]
     },
     "execution_count": 70,
     "metadata": {},
     "output_type": "execute_result"
    }
   ],
   "source": [
    "query = (\n",
    "    \"SELECT * FROM sequence s LEFT JOIN sequence_has_publication sp \"\n",
    "    \"ON s.accession = sp.sequence_accession \"\n",
    "    f\"WHERE s.variant='H2B.K'\"\n",
    ")\n",
    "cursor.execute(query)\n",
    "df = pd.DataFrame(cursor.fetchall(), columns=[i[0] for i in cursor.description])\n",
    "df"
   ]
  },
  {
   "cell_type": "code",
   "execution_count": 71,
   "id": "3734db4e-1294-4008-89cb-ed7627f39166",
   "metadata": {
    "tags": []
   },
   "outputs": [],
   "source": [
    "# Make sure data is committed to the database\n",
    "conn.commit()"
   ]
  },
  {
   "cell_type": "markdown",
   "id": "e2669db7-48d6-4040-9c40-d82e96297b5b",
   "metadata": {
    "jp-MarkdownHeadingCollapsed": true,
    "tags": []
   },
   "source": [
    "# Add hourse H2B.K\n",
    "\n",
    "**Atricle:** https://academic.oup.com/mbe/article/39/2/msac019/6517784#333890704\n",
    "\n",
    "**Gene:** Equus caballus, equCab3, chr4, +-, 102919882-102922597\n",
    "\n",
    "**Sequence from article:**\n",
    "```fasta\n",
    ">Horse_H2B.K\n",
    "MSTEHGQQHQSGGRRGCSSGDKKSKKRSRRKETYSMYIYKVLKQVHPDIGISSKAMSIMNSFVNDVFERLAGEAAQLAQYSGRTTLTSREVQTAVRLLLPGELAKHAVSEGTKAVTKYTSSK\n",
    "```\n",
    "\n",
    "BLASTP has one result with 100% coverage and 100% identity.\n",
    "\n",
    "**Protein accession:** XP_005609614.1"
   ]
  },
  {
   "cell_type": "code",
   "execution_count": 72,
   "id": "3bf339aa-4b36-4221-ab77-416dc85a8d3a",
   "metadata": {
    "tags": []
   },
   "outputs": [],
   "source": [
    "ACCESSION = \"XP_005609614.1\""
   ]
  },
  {
   "cell_type": "markdown",
   "id": "78ca3c22-39f0-43ac-a9d5-97617536ce7d",
   "metadata": {
    "tags": []
   },
   "source": [
    "## Get sequence XP_005609614.1 from NCBI"
   ]
  },
  {
   "cell_type": "code",
   "execution_count": 73,
   "id": "2060822f-db77-487b-bf69-8c06bd8ab22d",
   "metadata": {
    "tags": []
   },
   "outputs": [
    {
     "name": "stdout",
     "output_type": "stream",
     "text": [
      "ID: XP_005609614.1\n",
      "Name: XP_005609614\n",
      "Description: histone H2B type 2-K1 [Equus caballus]\n",
      "Database cross-references: BioProject:PRJNA19129\n",
      "Number of features: 7\n",
      "/topology=linear\n",
      "/data_file_division=MAM\n",
      "/date=07-AUG-2024\n",
      "/accessions=['XP_005609614']\n",
      "/sequence_version=1\n",
      "/db_source=REFSEQ: accession XM_005609557.3\n",
      "/keywords=['RefSeq']\n",
      "/source=Equus caballus (horse)\n",
      "/organism=Equus caballus\n",
      "/taxonomy=['Eukaryota', 'Metazoa', 'Chordata', 'Craniata', 'Vertebrata', 'Euteleostomi', 'Mammalia', 'Eutheria', 'Laurasiatheria', 'Perissodactyla', 'Equidae', 'Equus']\n",
      "/comment=MODEL REFSEQ:  This record is predicted by automated computational\n",
      "analysis. This record is derived from a genomic sequence\n",
      "(NC_009147.3) annotated using gene prediction method: Gnomon.\n",
      "Also see:\n",
      "    Documentation of NCBI's Annotation Process\n",
      "COMPLETENESS: full length.\n",
      "/structured_comment=OrderedDict([('Genome-Annotation-Data', OrderedDict([('Annotation Provider', 'NCBI RefSeq'), ('Annotation Status', 'Updated annotation'), ('Annotation Name', 'GCF_002863925.1-RS_2024_08'), ('Annotation Pipeline', 'NCBI eukaryotic genome annotation pipeline'), ('Annotation Software Version', '10.3'), ('Annotation Method', 'Best-placed RefSeq; Gnomon; cmsearch; tRNAscan-SE'), ('Features Annotated', 'Gene; mRNA; CDS; ncRNA'), ('Annotation Date', '08/01/2024')]))])\n",
      "/molecule_type=protein\n",
      "Seq('MSTEHGQQHQSGGRRGCSSGDKKSKKRSRRKETYSMYIYKVLKQVHPDIGISSK...SSK')\n"
     ]
    }
   ],
   "source": [
    "with Entrez.efetch(\n",
    "    db=\"protein\", id=ACCESSION, rettype=\"gb\", retmode=\"text\"\n",
    ") as handle:\n",
    "    record = SeqIO.read(handle, \"genbank\")\n",
    "    print(record)"
   ]
  },
  {
   "cell_type": "code",
   "execution_count": 74,
   "id": "2ffd977c-4528-4d40-a439-eb68322ab629",
   "metadata": {
    "tags": []
   },
   "outputs": [
    {
     "data": {
      "text/plain": [
       "'MSTEHGQQHQSGGRRGCSSGDKKSKKRSRRKETYSMYIYKVLKQVHPDIGISSKAMSIMNSFVNDVFERLAGEAAQLAQYSGRTTLTSREVQTAVRLLLPGELAKHAVSEGTKAVTKYTSSK'"
      ]
     },
     "execution_count": 74,
     "metadata": {},
     "output_type": "execute_result"
    }
   ],
   "source": [
    "str(record.seq)"
   ]
  },
  {
   "cell_type": "code",
   "execution_count": 75,
   "id": "6b75d523-c1b6-442a-8ca7-55e6e731b64d",
   "metadata": {
    "tags": []
   },
   "outputs": [
    {
     "data": {
      "text/plain": [
       "'Equus caballus'"
      ]
     },
     "execution_count": 75,
     "metadata": {},
     "output_type": "execute_result"
    }
   ],
   "source": [
    "record.annotations[\"organism\"]"
   ]
  },
  {
   "cell_type": "code",
   "execution_count": 76,
   "id": "41c0d8c3-60dc-4f4b-8a9b-1d6c850822f3",
   "metadata": {
    "tags": []
   },
   "outputs": [
    {
     "name": "stdout",
     "output_type": "stream",
     "text": [
      "Fetched taxid from NCBI <built-in function id>\n"
     ]
    },
    {
     "data": {
      "text/plain": [
       "{'organism': 'Equus caballus',\n",
       " 'taxonomy_id': 9796,\n",
       " 'phylum': 'Chordata',\n",
       " 'class': 'Mammalia'}"
      ]
     },
     "execution_count": 76,
     "metadata": {},
     "output_type": "execute_result"
    }
   ],
   "source": [
    "taxonomy_data = get_taxonomy_data(record)\n",
    "taxonomy_data"
   ]
  },
  {
   "cell_type": "markdown",
   "id": "4f53cb06-8aea-48e1-8cd2-4e7e94e9ce7c",
   "metadata": {},
   "source": [
    "## Adding XP_005609614.1"
   ]
  },
  {
   "cell_type": "code",
   "execution_count": 77,
   "id": "0f25b3fc-9ade-4ee1-a649-ae8e97ca59f6",
   "metadata": {
    "tags": []
   },
   "outputs": [
    {
     "data": {
      "text/plain": [
       "{'accession': 'XP_005609614.1',\n",
       " 'variant': 'H2B.K',\n",
       " 'gi': None,\n",
       " 'ncbi_gene_id': None,\n",
       " 'hgnc_gene_name': None,\n",
       " 'taxonomy_id': 9796,\n",
       " 'organism': 'Equus caballus',\n",
       " 'phylum': 'Chordata',\n",
       " 'class': 'Mammalia',\n",
       " 'taxonomy_group': None,\n",
       " 'info': None,\n",
       " 'sequence': 'MSTEHGQQHQSGGRRGCSSGDKKSKKRSRRKETYSMYIYKVLKQVHPDIGISSKAMSIMNSFVNDVFERLAGEAAQLAQYSGRTTLTSREVQTAVRLLLPGELAKHAVSEGTKAVTKYTSSK',\n",
       " 'variant_under_consideration': None}"
      ]
     },
     "execution_count": 77,
     "metadata": {},
     "output_type": "execute_result"
    }
   ],
   "source": [
    "data_sequence = {\n",
    "    \"accession\": ACCESSION,\n",
    "    \"variant\": \"H2B.K\",\n",
    "    \"gi\": None,\n",
    "    \"ncbi_gene_id\": None,\n",
    "    \"hgnc_gene_name\": None,\n",
    "    \"taxonomy_id\": None,\n",
    "    \"organism\": None,\n",
    "    \"phylum\": None,\n",
    "    \"class\": None,\n",
    "    \"taxonomy_group\": None,\n",
    "    \"info\": None,\n",
    "    \"sequence\": str(record.seq),\n",
    "    \"variant_under_consideration\": None,\n",
    "}\n",
    "data_sequence.update(taxonomy_data)\n",
    "data_sequence"
   ]
  },
  {
   "cell_type": "code",
   "execution_count": 78,
   "id": "6edf2f64-3d20-473e-af84-dc14bcd7cbb7",
   "metadata": {
    "tags": []
   },
   "outputs": [
    {
     "name": "stdout",
     "output_type": "stream",
     "text": [
      "accession <class 'str'>\n",
      "variant <class 'str'>\n",
      "gi <class 'NoneType'>\n",
      "ncbi_gene_id <class 'NoneType'>\n",
      "hgnc_gene_name <class 'NoneType'>\n",
      "taxonomy_id <class 'int'>\n",
      "organism <class 'str'>\n",
      "phylum <class 'str'>\n",
      "class <class 'str'>\n",
      "taxonomy_group <class 'NoneType'>\n",
      "info <class 'NoneType'>\n",
      "sequence <class 'str'>\n",
      "variant_under_consideration <class 'NoneType'>\n"
     ]
    }
   ],
   "source": [
    "for k, v in data_sequence.items():\n",
    "    print(k, type(v))"
   ]
  },
  {
   "cell_type": "code",
   "execution_count": 79,
   "id": "be2f3da9-7284-4979-8e64-b26e6d5082af",
   "metadata": {
    "tags": []
   },
   "outputs": [],
   "source": [
    "cursor.execute(add_sequence, data_sequence)"
   ]
  },
  {
   "cell_type": "code",
   "execution_count": 80,
   "id": "93d1a0e1-6c0d-42c3-b96d-433c0dbac945",
   "metadata": {
    "tags": []
   },
   "outputs": [
    {
     "data": {
      "text/html": [
       "<div>\n",
       "<style scoped>\n",
       "    .dataframe tbody tr th:only-of-type {\n",
       "        vertical-align: middle;\n",
       "    }\n",
       "\n",
       "    .dataframe tbody tr th {\n",
       "        vertical-align: top;\n",
       "    }\n",
       "\n",
       "    .dataframe thead th {\n",
       "        text-align: right;\n",
       "    }\n",
       "</style>\n",
       "<table border=\"1\" class=\"dataframe\">\n",
       "  <thead>\n",
       "    <tr style=\"text-align: right;\">\n",
       "      <th></th>\n",
       "      <th>accession</th>\n",
       "      <th>variant</th>\n",
       "      <th>gi</th>\n",
       "      <th>ncbi_gene_id</th>\n",
       "      <th>hgnc_gene_name</th>\n",
       "      <th>taxonomy_id</th>\n",
       "      <th>organism</th>\n",
       "      <th>phylum</th>\n",
       "      <th>class</th>\n",
       "      <th>taxonomy_group</th>\n",
       "      <th>info</th>\n",
       "      <th>sequence</th>\n",
       "      <th>variant_under_consideration</th>\n",
       "      <th>sequence_accession</th>\n",
       "      <th>publication_id</th>\n",
       "    </tr>\n",
       "  </thead>\n",
       "  <tbody>\n",
       "    <tr>\n",
       "      <th>0</th>\n",
       "      <td>XP_005609614.1</td>\n",
       "      <td>H2B.K</td>\n",
       "      <td>None</td>\n",
       "      <td>None</td>\n",
       "      <td>None</td>\n",
       "      <td>9796</td>\n",
       "      <td>Equus caballus</td>\n",
       "      <td>Chordata</td>\n",
       "      <td>Mammalia</td>\n",
       "      <td>None</td>\n",
       "      <td>None</td>\n",
       "      <td>MSTEHGQQHQSGGRRGCSSGDKKSKKRSRRKETYSMYIYKVLKQVH...</td>\n",
       "      <td>None</td>\n",
       "      <td>None</td>\n",
       "      <td>None</td>\n",
       "    </tr>\n",
       "  </tbody>\n",
       "</table>\n",
       "</div>"
      ],
      "text/plain": [
       "        accession variant    gi ncbi_gene_id hgnc_gene_name  taxonomy_id  \\\n",
       "0  XP_005609614.1   H2B.K  None         None           None         9796   \n",
       "\n",
       "         organism    phylum     class taxonomy_group  info  \\\n",
       "0  Equus caballus  Chordata  Mammalia           None  None   \n",
       "\n",
       "                                            sequence  \\\n",
       "0  MSTEHGQQHQSGGRRGCSSGDKKSKKRSRRKETYSMYIYKVLKQVH...   \n",
       "\n",
       "  variant_under_consideration sequence_accession publication_id  \n",
       "0                        None               None           None  "
      ]
     },
     "execution_count": 80,
     "metadata": {},
     "output_type": "execute_result"
    }
   ],
   "source": [
    "query = (\n",
    "    \"SELECT * FROM sequence s LEFT JOIN sequence_has_publication sp \"\n",
    "    \"ON s.accession = sp.sequence_accession \"\n",
    "    f\"WHERE s.accession='{ACCESSION}'\"\n",
    ")\n",
    "cursor.execute(query)\n",
    "df = pd.DataFrame(cursor.fetchall(), columns=[i[0] for i in cursor.description])\n",
    "df"
   ]
  },
  {
   "cell_type": "markdown",
   "id": "1ca44cc1-65b9-4733-881a-4f431861aee9",
   "metadata": {},
   "source": [
    "## Add publication"
   ]
  },
  {
   "cell_type": "code",
   "execution_count": 81,
   "id": "dff7bd0b-3cfe-4a02-9364-8debcdf149d1",
   "metadata": {
    "tags": []
   },
   "outputs": [
    {
     "data": {
      "text/html": [
       "<div>\n",
       "<style scoped>\n",
       "    .dataframe tbody tr th:only-of-type {\n",
       "        vertical-align: middle;\n",
       "    }\n",
       "\n",
       "    .dataframe tbody tr th {\n",
       "        vertical-align: top;\n",
       "    }\n",
       "\n",
       "    .dataframe thead th {\n",
       "        text-align: right;\n",
       "    }\n",
       "</style>\n",
       "<table border=\"1\" class=\"dataframe\">\n",
       "  <thead>\n",
       "    <tr style=\"text-align: right;\">\n",
       "      <th></th>\n",
       "      <th>id</th>\n",
       "      <th>title</th>\n",
       "      <th>doi</th>\n",
       "      <th>author</th>\n",
       "      <th>year</th>\n",
       "    </tr>\n",
       "  </thead>\n",
       "  <tbody>\n",
       "    <tr>\n",
       "      <th>0</th>\n",
       "      <td>35099534</td>\n",
       "      <td>None</td>\n",
       "      <td>None</td>\n",
       "      <td>None</td>\n",
       "      <td>None</td>\n",
       "    </tr>\n",
       "  </tbody>\n",
       "</table>\n",
       "</div>"
      ],
      "text/plain": [
       "         id title   doi author  year\n",
       "0  35099534  None  None   None  None"
      ]
     },
     "execution_count": 81,
     "metadata": {},
     "output_type": "execute_result"
    }
   ],
   "source": [
    "pid = \"35099534\"\n",
    "query = \"SELECT * FROM publication WHERE id='35099534'\"\n",
    "cursor.execute(query)\n",
    "pd.DataFrame(cursor.fetchall(), columns=[i[0] for i in cursor.description])"
   ]
  },
  {
   "cell_type": "code",
   "execution_count": 82,
   "id": "3aead0b8-a07c-4b63-bbcf-3dbebc62e71d",
   "metadata": {
    "tags": []
   },
   "outputs": [],
   "source": [
    "cursor.execute(add_sequence_has_publication, (ACCESSION, pid))"
   ]
  },
  {
   "cell_type": "code",
   "execution_count": 83,
   "id": "f3ed20d7-60ee-4bf5-b062-d042ecf33c54",
   "metadata": {
    "tags": []
   },
   "outputs": [
    {
     "data": {
      "text/html": [
       "<div>\n",
       "<style scoped>\n",
       "    .dataframe tbody tr th:only-of-type {\n",
       "        vertical-align: middle;\n",
       "    }\n",
       "\n",
       "    .dataframe tbody tr th {\n",
       "        vertical-align: top;\n",
       "    }\n",
       "\n",
       "    .dataframe thead th {\n",
       "        text-align: right;\n",
       "    }\n",
       "</style>\n",
       "<table border=\"1\" class=\"dataframe\">\n",
       "  <thead>\n",
       "    <tr style=\"text-align: right;\">\n",
       "      <th></th>\n",
       "      <th>accession</th>\n",
       "      <th>variant</th>\n",
       "      <th>gi</th>\n",
       "      <th>ncbi_gene_id</th>\n",
       "      <th>hgnc_gene_name</th>\n",
       "      <th>taxonomy_id</th>\n",
       "      <th>organism</th>\n",
       "      <th>phylum</th>\n",
       "      <th>class</th>\n",
       "      <th>taxonomy_group</th>\n",
       "      <th>info</th>\n",
       "      <th>sequence</th>\n",
       "      <th>variant_under_consideration</th>\n",
       "      <th>sequence_accession</th>\n",
       "      <th>publication_id</th>\n",
       "    </tr>\n",
       "  </thead>\n",
       "  <tbody>\n",
       "    <tr>\n",
       "      <th>0</th>\n",
       "      <td>XP_005609614.1</td>\n",
       "      <td>H2B.K</td>\n",
       "      <td>None</td>\n",
       "      <td>None</td>\n",
       "      <td>None</td>\n",
       "      <td>9796</td>\n",
       "      <td>Equus caballus</td>\n",
       "      <td>Chordata</td>\n",
       "      <td>Mammalia</td>\n",
       "      <td>None</td>\n",
       "      <td>None</td>\n",
       "      <td>MSTEHGQQHQSGGRRGCSSGDKKSKKRSRRKETYSMYIYKVLKQVH...</td>\n",
       "      <td>None</td>\n",
       "      <td>XP_005609614.1</td>\n",
       "      <td>35099534</td>\n",
       "    </tr>\n",
       "  </tbody>\n",
       "</table>\n",
       "</div>"
      ],
      "text/plain": [
       "        accession variant    gi ncbi_gene_id hgnc_gene_name  taxonomy_id  \\\n",
       "0  XP_005609614.1   H2B.K  None         None           None         9796   \n",
       "\n",
       "         organism    phylum     class taxonomy_group  info  \\\n",
       "0  Equus caballus  Chordata  Mammalia           None  None   \n",
       "\n",
       "                                            sequence  \\\n",
       "0  MSTEHGQQHQSGGRRGCSSGDKKSKKRSRRKETYSMYIYKVLKQVH...   \n",
       "\n",
       "  variant_under_consideration sequence_accession publication_id  \n",
       "0                        None     XP_005609614.1       35099534  "
      ]
     },
     "execution_count": 83,
     "metadata": {},
     "output_type": "execute_result"
    }
   ],
   "source": [
    "query = (\n",
    "    \"SELECT * FROM sequence s LEFT JOIN sequence_has_publication sp \"\n",
    "    \"ON s.accession = sp.sequence_accession \"\n",
    "    f\"WHERE s.accession='{ACCESSION}'\"\n",
    ")\n",
    "cursor.execute(query)\n",
    "df = pd.DataFrame(cursor.fetchall(), columns=[i[0] for i in cursor.description])\n",
    "df"
   ]
  },
  {
   "cell_type": "code",
   "execution_count": 84,
   "id": "c68d7366-1745-4d6c-9cf2-6b24220c1a31",
   "metadata": {
    "tags": []
   },
   "outputs": [
    {
     "data": {
      "text/html": [
       "<div>\n",
       "<style scoped>\n",
       "    .dataframe tbody tr th:only-of-type {\n",
       "        vertical-align: middle;\n",
       "    }\n",
       "\n",
       "    .dataframe tbody tr th {\n",
       "        vertical-align: top;\n",
       "    }\n",
       "\n",
       "    .dataframe thead th {\n",
       "        text-align: right;\n",
       "    }\n",
       "</style>\n",
       "<table border=\"1\" class=\"dataframe\">\n",
       "  <thead>\n",
       "    <tr style=\"text-align: right;\">\n",
       "      <th></th>\n",
       "      <th>accession</th>\n",
       "      <th>variant</th>\n",
       "      <th>gi</th>\n",
       "      <th>ncbi_gene_id</th>\n",
       "      <th>hgnc_gene_name</th>\n",
       "      <th>taxonomy_id</th>\n",
       "      <th>organism</th>\n",
       "      <th>phylum</th>\n",
       "      <th>class</th>\n",
       "      <th>taxonomy_group</th>\n",
       "      <th>info</th>\n",
       "      <th>sequence</th>\n",
       "      <th>variant_under_consideration</th>\n",
       "      <th>sequence_accession</th>\n",
       "      <th>publication_id</th>\n",
       "    </tr>\n",
       "  </thead>\n",
       "  <tbody>\n",
       "    <tr>\n",
       "      <th>0</th>\n",
       "      <td>HISTDB_H2B_K_0</td>\n",
       "      <td>H2B.K</td>\n",
       "      <td>None</td>\n",
       "      <td>None</td>\n",
       "      <td>None</td>\n",
       "      <td>9940</td>\n",
       "      <td>Ovis aries</td>\n",
       "      <td>Chordata</td>\n",
       "      <td>Mammalia</td>\n",
       "      <td>None</td>\n",
       "      <td>None</td>\n",
       "      <td>MSAEHGQLQQAGGRRGRSPGDKKSRRRSRRKETYSMYIYKVLKQVH...</td>\n",
       "      <td>None</td>\n",
       "      <td>HISTDB_H2B_K_0</td>\n",
       "      <td>35099534</td>\n",
       "    </tr>\n",
       "    <tr>\n",
       "      <th>1</th>\n",
       "      <td>XP_002715119.2</td>\n",
       "      <td>H2B.K</td>\n",
       "      <td>None</td>\n",
       "      <td>None</td>\n",
       "      <td>None</td>\n",
       "      <td>9986</td>\n",
       "      <td>Oryctolagus cuniculus</td>\n",
       "      <td>Chordata</td>\n",
       "      <td>Mammalia</td>\n",
       "      <td>None</td>\n",
       "      <td>None</td>\n",
       "      <td>MSAERGQQQQQASSRRGRSSGNKKSRKRSKRKETYSMYIYKVLKQV...</td>\n",
       "      <td>None</td>\n",
       "      <td>XP_002715119.2</td>\n",
       "      <td>35099534</td>\n",
       "    </tr>\n",
       "    <tr>\n",
       "      <th>2</th>\n",
       "      <td>XP_005609614.1</td>\n",
       "      <td>H2B.K</td>\n",
       "      <td>None</td>\n",
       "      <td>None</td>\n",
       "      <td>None</td>\n",
       "      <td>9796</td>\n",
       "      <td>Equus caballus</td>\n",
       "      <td>Chordata</td>\n",
       "      <td>Mammalia</td>\n",
       "      <td>None</td>\n",
       "      <td>None</td>\n",
       "      <td>MSTEHGQQHQSGGRRGCSSGDKKSKKRSRRKETYSMYIYKVLKQVH...</td>\n",
       "      <td>None</td>\n",
       "      <td>XP_005609614.1</td>\n",
       "      <td>35099534</td>\n",
       "    </tr>\n",
       "    <tr>\n",
       "      <th>3</th>\n",
       "      <td>XP_010799227.1</td>\n",
       "      <td>H2B.K</td>\n",
       "      <td>None</td>\n",
       "      <td>None</td>\n",
       "      <td>None</td>\n",
       "      <td>9913</td>\n",
       "      <td>Bos taurus</td>\n",
       "      <td>Chordata</td>\n",
       "      <td>Mammalia</td>\n",
       "      <td>None</td>\n",
       "      <td>None</td>\n",
       "      <td>MSAEHGQLQQSGGRRGRSPGDKKSRRRSRRKETYSMYIYKVLKQVH...</td>\n",
       "      <td>None</td>\n",
       "      <td>XP_010799227.1</td>\n",
       "      <td>35099534</td>\n",
       "    </tr>\n",
       "    <tr>\n",
       "      <th>4</th>\n",
       "      <td>XP_013846203.1</td>\n",
       "      <td>H2B.K</td>\n",
       "      <td>None</td>\n",
       "      <td>None</td>\n",
       "      <td>None</td>\n",
       "      <td>9823</td>\n",
       "      <td>Sus scrofa</td>\n",
       "      <td>Chordata</td>\n",
       "      <td>Mammalia</td>\n",
       "      <td>None</td>\n",
       "      <td>None</td>\n",
       "      <td>MSSAHGQQQQQQQQQQQQQQQGGGRRGRSSGEKKSKKRNRRKETYS...</td>\n",
       "      <td>None</td>\n",
       "      <td>XP_013846203.1</td>\n",
       "      <td>35099534</td>\n",
       "    </tr>\n",
       "    <tr>\n",
       "      <th>5</th>\n",
       "      <td>XP_024846715.1</td>\n",
       "      <td>H2B.K</td>\n",
       "      <td>None</td>\n",
       "      <td>None</td>\n",
       "      <td>None</td>\n",
       "      <td>9913</td>\n",
       "      <td>Bos taurus</td>\n",
       "      <td>Chordata</td>\n",
       "      <td>Mammalia</td>\n",
       "      <td>None</td>\n",
       "      <td>None</td>\n",
       "      <td>MSAEHGQLQQSGGRRGRSPGDKKSRRRSRRKETYSMYIYKVLKQVH...</td>\n",
       "      <td>None</td>\n",
       "      <td>XP_024846715.1</td>\n",
       "      <td>35099534</td>\n",
       "    </tr>\n",
       "    <tr>\n",
       "      <th>6</th>\n",
       "      <td>XP_027824938.1</td>\n",
       "      <td>H2B.K</td>\n",
       "      <td>None</td>\n",
       "      <td>None</td>\n",
       "      <td>None</td>\n",
       "      <td>9940</td>\n",
       "      <td>Ovis aries</td>\n",
       "      <td>Chordata</td>\n",
       "      <td>Mammalia</td>\n",
       "      <td>None</td>\n",
       "      <td>None</td>\n",
       "      <td>MSAEHGQLQQSGGRRGRSPGDKKSRRRSRRKETYSMYIYKVLKQVH...</td>\n",
       "      <td>None</td>\n",
       "      <td>XP_027824938.1</td>\n",
       "      <td>35099534</td>\n",
       "    </tr>\n",
       "    <tr>\n",
       "      <th>7</th>\n",
       "      <td>XP_059747847.1</td>\n",
       "      <td>H2B.K</td>\n",
       "      <td>None</td>\n",
       "      <td>None</td>\n",
       "      <td>None</td>\n",
       "      <td>9913</td>\n",
       "      <td>Bos taurus</td>\n",
       "      <td>Chordata</td>\n",
       "      <td>Mammalia</td>\n",
       "      <td>None</td>\n",
       "      <td>None</td>\n",
       "      <td>MMDTRSSKLVCHNILRTRRMSAEHGQLQQSGGRRGRSPGDKKSRRR...</td>\n",
       "      <td>None</td>\n",
       "      <td>XP_059747847.1</td>\n",
       "      <td>35099534</td>\n",
       "    </tr>\n",
       "  </tbody>\n",
       "</table>\n",
       "</div>"
      ],
      "text/plain": [
       "        accession variant    gi ncbi_gene_id hgnc_gene_name  taxonomy_id  \\\n",
       "0  HISTDB_H2B_K_0   H2B.K  None         None           None         9940   \n",
       "1  XP_002715119.2   H2B.K  None         None           None         9986   \n",
       "2  XP_005609614.1   H2B.K  None         None           None         9796   \n",
       "3  XP_010799227.1   H2B.K  None         None           None         9913   \n",
       "4  XP_013846203.1   H2B.K  None         None           None         9823   \n",
       "5  XP_024846715.1   H2B.K  None         None           None         9913   \n",
       "6  XP_027824938.1   H2B.K  None         None           None         9940   \n",
       "7  XP_059747847.1   H2B.K  None         None           None         9913   \n",
       "\n",
       "                organism    phylum     class taxonomy_group  info  \\\n",
       "0             Ovis aries  Chordata  Mammalia           None  None   \n",
       "1  Oryctolagus cuniculus  Chordata  Mammalia           None  None   \n",
       "2         Equus caballus  Chordata  Mammalia           None  None   \n",
       "3             Bos taurus  Chordata  Mammalia           None  None   \n",
       "4             Sus scrofa  Chordata  Mammalia           None  None   \n",
       "5             Bos taurus  Chordata  Mammalia           None  None   \n",
       "6             Ovis aries  Chordata  Mammalia           None  None   \n",
       "7             Bos taurus  Chordata  Mammalia           None  None   \n",
       "\n",
       "                                            sequence  \\\n",
       "0  MSAEHGQLQQAGGRRGRSPGDKKSRRRSRRKETYSMYIYKVLKQVH...   \n",
       "1  MSAERGQQQQQASSRRGRSSGNKKSRKRSKRKETYSMYIYKVLKQV...   \n",
       "2  MSTEHGQQHQSGGRRGCSSGDKKSKKRSRRKETYSMYIYKVLKQVH...   \n",
       "3  MSAEHGQLQQSGGRRGRSPGDKKSRRRSRRKETYSMYIYKVLKQVH...   \n",
       "4  MSSAHGQQQQQQQQQQQQQQQGGGRRGRSSGEKKSKKRNRRKETYS...   \n",
       "5  MSAEHGQLQQSGGRRGRSPGDKKSRRRSRRKETYSMYIYKVLKQVH...   \n",
       "6  MSAEHGQLQQSGGRRGRSPGDKKSRRRSRRKETYSMYIYKVLKQVH...   \n",
       "7  MMDTRSSKLVCHNILRTRRMSAEHGQLQQSGGRRGRSPGDKKSRRR...   \n",
       "\n",
       "  variant_under_consideration sequence_accession publication_id  \n",
       "0                        None     HISTDB_H2B_K_0       35099534  \n",
       "1                        None     XP_002715119.2       35099534  \n",
       "2                        None     XP_005609614.1       35099534  \n",
       "3                        None     XP_010799227.1       35099534  \n",
       "4                        None     XP_013846203.1       35099534  \n",
       "5                        None     XP_024846715.1       35099534  \n",
       "6                        None     XP_027824938.1       35099534  \n",
       "7                        None     XP_059747847.1       35099534  "
      ]
     },
     "execution_count": 84,
     "metadata": {},
     "output_type": "execute_result"
    }
   ],
   "source": [
    "query = (\n",
    "    \"SELECT * FROM sequence s LEFT JOIN sequence_has_publication sp \"\n",
    "    \"ON s.accession = sp.sequence_accession \"\n",
    "    f\"WHERE s.variant='H2B.K'\"\n",
    ")\n",
    "cursor.execute(query)\n",
    "df = pd.DataFrame(cursor.fetchall(), columns=[i[0] for i in cursor.description])\n",
    "df"
   ]
  },
  {
   "cell_type": "code",
   "execution_count": 85,
   "id": "314994e2-7ff6-4bad-bece-00860f68845a",
   "metadata": {
    "tags": []
   },
   "outputs": [],
   "source": [
    "# Make sure data is committed to the database\n",
    "conn.commit()"
   ]
  },
  {
   "cell_type": "markdown",
   "id": "fa75c0c9-6f7f-4d63-9aae-a6d4be9676db",
   "metadata": {
    "jp-MarkdownHeadingCollapsed": true,
    "tags": []
   },
   "source": [
    "# Add white rhinocerous H2B.K\n",
    "\n",
    "**Atricle:** https://academic.oup.com/mbe/article/39/2/msac019/6517784#333890704\n",
    "\n",
    "**Gene:** Ceratotherium simum, cerSim1, JH767754, ++, 6739207-6741678\n",
    "\n",
    "**Sequence from article:**\n",
    "```fasta\n",
    ">Rhino_H2B.K\n",
    "MSTEHGQQHHPGGRRGCSPGDKKFKKRSRRKETYSMYIYKVLKQVHPDIGISSKAMSIMNSFVNDVFERLAGEAARLAQYSGRTTLTSREVQTAVRLLLPGELAKHAVSEGTKAVTKYTSSK\n",
    "```\n",
    "\n",
    "BLASTP has one result with 100% coverage and 100% identity.\n",
    "\n",
    "**Protein accession:** XP_014643104.1"
   ]
  },
  {
   "cell_type": "code",
   "execution_count": 86,
   "id": "44bf2892-7bbe-4311-956b-4dbf5e336be0",
   "metadata": {
    "tags": []
   },
   "outputs": [],
   "source": [
    "ACCESSION = \"XP_014643104.1\""
   ]
  },
  {
   "cell_type": "markdown",
   "id": "20d27415-ebcf-491f-bdff-b87897587b1c",
   "metadata": {
    "tags": []
   },
   "source": [
    "## Get sequence XP_014643104.1 from NCBI"
   ]
  },
  {
   "cell_type": "code",
   "execution_count": 87,
   "id": "dde78a32-d756-4d16-a69b-4a0f073317e7",
   "metadata": {
    "tags": []
   },
   "outputs": [
    {
     "name": "stdout",
     "output_type": "stream",
     "text": [
      "ID: XP_014643104.1\n",
      "Name: XP_014643104\n",
      "Description: PREDICTED: late histone H2B.L4-like [Ceratotherium simum simum]\n",
      "Database cross-references: BioProject:PRJNA191537\n",
      "Number of features: 7\n",
      "/topology=linear\n",
      "/data_file_division=MAM\n",
      "/date=27-NOV-2015\n",
      "/accessions=['XP_014643104']\n",
      "/sequence_version=1\n",
      "/db_source=REFSEQ: accession XM_014787618.1\n",
      "/keywords=['RefSeq']\n",
      "/source=Ceratotherium simum simum (southern white rhinoceros)\n",
      "/organism=Ceratotherium simum simum\n",
      "/taxonomy=['Eukaryota', 'Metazoa', 'Chordata', 'Craniata', 'Vertebrata', 'Euteleostomi', 'Mammalia', 'Eutheria', 'Laurasiatheria', 'Perissodactyla', 'Rhinocerotidae', 'Ceratotherium']\n",
      "/comment=MODEL REFSEQ:  This record is predicted by automated computational\n",
      "analysis. This record is derived from a genomic sequence\n",
      "(NW_004454187.1) annotated using gene prediction method: Gnomon.\n",
      "Also see:\n",
      "    Documentation of NCBI's Annotation Process\n",
      "COMPLETENESS: full length.\n",
      "/structured_comment=OrderedDict([('Genome-Annotation-Data', OrderedDict([('Annotation Provider', 'NCBI'), ('Annotation Status', 'Full annotation'), ('Annotation Version', 'Ceratotherium simum simum Annotation Release 101'), ('Annotation Pipeline', 'NCBI eukaryotic genome annotation pipeline'), ('Annotation Software Version', '6.5'), ('Annotation Method', 'Best-placed RefSeq; Gnomon'), ('Features Annotated', 'Gene; mRNA; CDS; ncRNA')]))])\n",
      "/molecule_type=protein\n",
      "Seq('MSTEHGQQHHPGGRRGCSPGDKKFKKRSRRKETYSMYIYKVLKQVHPDIGISSK...SSK')\n"
     ]
    }
   ],
   "source": [
    "with Entrez.efetch(\n",
    "    db=\"protein\", id=ACCESSION, rettype=\"gb\", retmode=\"text\"\n",
    ") as handle:\n",
    "    record = SeqIO.read(handle, \"genbank\")\n",
    "    print(record)"
   ]
  },
  {
   "cell_type": "code",
   "execution_count": 88,
   "id": "2c1d0dce-5a66-40c2-b617-bd8ce8c66779",
   "metadata": {
    "tags": []
   },
   "outputs": [
    {
     "data": {
      "text/plain": [
       "'MSTEHGQQHHPGGRRGCSPGDKKFKKRSRRKETYSMYIYKVLKQVHPDIGISSKAMSIMNSFVNDVFERLAGEAARLAQYSGRTTLTSREVQTAVRLLLPGELAKHAVSEGTKAVTKYTSSK'"
      ]
     },
     "execution_count": 88,
     "metadata": {},
     "output_type": "execute_result"
    }
   ],
   "source": [
    "str(record.seq)"
   ]
  },
  {
   "cell_type": "code",
   "execution_count": 89,
   "id": "d5579d93-b049-4ecc-885b-225aab60ce91",
   "metadata": {
    "tags": []
   },
   "outputs": [
    {
     "data": {
      "text/plain": [
       "'Ceratotherium simum simum'"
      ]
     },
     "execution_count": 89,
     "metadata": {},
     "output_type": "execute_result"
    }
   ],
   "source": [
    "record.annotations[\"organism\"]"
   ]
  },
  {
   "cell_type": "code",
   "execution_count": 90,
   "id": "1216884e-4f93-4d4a-be11-ebd8fdf78e50",
   "metadata": {
    "tags": []
   },
   "outputs": [
    {
     "name": "stdout",
     "output_type": "stream",
     "text": [
      "Fetched taxid from NCBI <built-in function id>\n"
     ]
    },
    {
     "data": {
      "text/plain": [
       "{'organism': 'Ceratotherium simum simum',\n",
       " 'taxonomy_id': 73337,\n",
       " 'phylum': 'Chordata',\n",
       " 'class': 'Mammalia'}"
      ]
     },
     "execution_count": 90,
     "metadata": {},
     "output_type": "execute_result"
    }
   ],
   "source": [
    "taxonomy_data = get_taxonomy_data(record)\n",
    "taxonomy_data"
   ]
  },
  {
   "cell_type": "markdown",
   "id": "f4f58661-e24d-4287-91ed-8b536d65a52a",
   "metadata": {},
   "source": [
    "## Adding XP_014643104.1"
   ]
  },
  {
   "cell_type": "code",
   "execution_count": 91,
   "id": "2e8f51ad-3e39-43f4-b2e0-6147a75cd98a",
   "metadata": {
    "tags": []
   },
   "outputs": [
    {
     "data": {
      "text/plain": [
       "{'accession': 'XP_014643104.1',\n",
       " 'variant': 'H2B.K',\n",
       " 'gi': None,\n",
       " 'ncbi_gene_id': None,\n",
       " 'hgnc_gene_name': None,\n",
       " 'taxonomy_id': 73337,\n",
       " 'organism': 'Ceratotherium simum simum',\n",
       " 'phylum': 'Chordata',\n",
       " 'class': 'Mammalia',\n",
       " 'taxonomy_group': None,\n",
       " 'info': None,\n",
       " 'sequence': 'MSTEHGQQHHPGGRRGCSPGDKKFKKRSRRKETYSMYIYKVLKQVHPDIGISSKAMSIMNSFVNDVFERLAGEAARLAQYSGRTTLTSREVQTAVRLLLPGELAKHAVSEGTKAVTKYTSSK',\n",
       " 'variant_under_consideration': None}"
      ]
     },
     "execution_count": 91,
     "metadata": {},
     "output_type": "execute_result"
    }
   ],
   "source": [
    "data_sequence = {\n",
    "    \"accession\": ACCESSION,\n",
    "    \"variant\": \"H2B.K\",\n",
    "    \"gi\": None,\n",
    "    \"ncbi_gene_id\": None,\n",
    "    \"hgnc_gene_name\": None,\n",
    "    \"taxonomy_id\": None,\n",
    "    \"organism\": None,\n",
    "    \"phylum\": None,\n",
    "    \"class\": None,\n",
    "    \"taxonomy_group\": None,\n",
    "    \"info\": None,\n",
    "    \"sequence\": str(record.seq),\n",
    "    \"variant_under_consideration\": None,\n",
    "}\n",
    "data_sequence.update(taxonomy_data)\n",
    "data_sequence"
   ]
  },
  {
   "cell_type": "code",
   "execution_count": 92,
   "id": "6c2d1a67-41ef-4297-b233-5225e7f6b914",
   "metadata": {
    "tags": []
   },
   "outputs": [
    {
     "name": "stdout",
     "output_type": "stream",
     "text": [
      "accession <class 'str'>\n",
      "variant <class 'str'>\n",
      "gi <class 'NoneType'>\n",
      "ncbi_gene_id <class 'NoneType'>\n",
      "hgnc_gene_name <class 'NoneType'>\n",
      "taxonomy_id <class 'int'>\n",
      "organism <class 'str'>\n",
      "phylum <class 'str'>\n",
      "class <class 'str'>\n",
      "taxonomy_group <class 'NoneType'>\n",
      "info <class 'NoneType'>\n",
      "sequence <class 'str'>\n",
      "variant_under_consideration <class 'NoneType'>\n"
     ]
    }
   ],
   "source": [
    "for k, v in data_sequence.items():\n",
    "    print(k, type(v))"
   ]
  },
  {
   "cell_type": "code",
   "execution_count": 93,
   "id": "bcef3284-78d4-4891-a0ec-38f521249fc3",
   "metadata": {
    "tags": []
   },
   "outputs": [],
   "source": [
    "cursor.execute(add_sequence, data_sequence)"
   ]
  },
  {
   "cell_type": "code",
   "execution_count": 94,
   "id": "8b4179ca-9069-4117-a645-8154822610f3",
   "metadata": {
    "tags": []
   },
   "outputs": [
    {
     "data": {
      "text/html": [
       "<div>\n",
       "<style scoped>\n",
       "    .dataframe tbody tr th:only-of-type {\n",
       "        vertical-align: middle;\n",
       "    }\n",
       "\n",
       "    .dataframe tbody tr th {\n",
       "        vertical-align: top;\n",
       "    }\n",
       "\n",
       "    .dataframe thead th {\n",
       "        text-align: right;\n",
       "    }\n",
       "</style>\n",
       "<table border=\"1\" class=\"dataframe\">\n",
       "  <thead>\n",
       "    <tr style=\"text-align: right;\">\n",
       "      <th></th>\n",
       "      <th>accession</th>\n",
       "      <th>variant</th>\n",
       "      <th>gi</th>\n",
       "      <th>ncbi_gene_id</th>\n",
       "      <th>hgnc_gene_name</th>\n",
       "      <th>taxonomy_id</th>\n",
       "      <th>organism</th>\n",
       "      <th>phylum</th>\n",
       "      <th>class</th>\n",
       "      <th>taxonomy_group</th>\n",
       "      <th>info</th>\n",
       "      <th>sequence</th>\n",
       "      <th>variant_under_consideration</th>\n",
       "      <th>sequence_accession</th>\n",
       "      <th>publication_id</th>\n",
       "    </tr>\n",
       "  </thead>\n",
       "  <tbody>\n",
       "    <tr>\n",
       "      <th>0</th>\n",
       "      <td>XP_014643104.1</td>\n",
       "      <td>H2B.K</td>\n",
       "      <td>None</td>\n",
       "      <td>None</td>\n",
       "      <td>None</td>\n",
       "      <td>73337</td>\n",
       "      <td>Ceratotherium simum simum</td>\n",
       "      <td>Chordata</td>\n",
       "      <td>Mammalia</td>\n",
       "      <td>None</td>\n",
       "      <td>None</td>\n",
       "      <td>MSTEHGQQHHPGGRRGCSPGDKKFKKRSRRKETYSMYIYKVLKQVH...</td>\n",
       "      <td>None</td>\n",
       "      <td>None</td>\n",
       "      <td>None</td>\n",
       "    </tr>\n",
       "  </tbody>\n",
       "</table>\n",
       "</div>"
      ],
      "text/plain": [
       "        accession variant    gi ncbi_gene_id hgnc_gene_name  taxonomy_id  \\\n",
       "0  XP_014643104.1   H2B.K  None         None           None        73337   \n",
       "\n",
       "                    organism    phylum     class taxonomy_group  info  \\\n",
       "0  Ceratotherium simum simum  Chordata  Mammalia           None  None   \n",
       "\n",
       "                                            sequence  \\\n",
       "0  MSTEHGQQHHPGGRRGCSPGDKKFKKRSRRKETYSMYIYKVLKQVH...   \n",
       "\n",
       "  variant_under_consideration sequence_accession publication_id  \n",
       "0                        None               None           None  "
      ]
     },
     "execution_count": 94,
     "metadata": {},
     "output_type": "execute_result"
    }
   ],
   "source": [
    "query = (\n",
    "    \"SELECT * FROM sequence s LEFT JOIN sequence_has_publication sp \"\n",
    "    \"ON s.accession = sp.sequence_accession \"\n",
    "    f\"WHERE s.accession='{ACCESSION}'\"\n",
    ")\n",
    "cursor.execute(query)\n",
    "df = pd.DataFrame(cursor.fetchall(), columns=[i[0] for i in cursor.description])\n",
    "df"
   ]
  },
  {
   "cell_type": "markdown",
   "id": "35ebe0ce-6a77-4bf0-8c21-804a155335ec",
   "metadata": {},
   "source": [
    "## Add publication"
   ]
  },
  {
   "cell_type": "code",
   "execution_count": 95,
   "id": "6e8d2456-9152-4e6e-be21-b5276f42e570",
   "metadata": {
    "tags": []
   },
   "outputs": [
    {
     "data": {
      "text/html": [
       "<div>\n",
       "<style scoped>\n",
       "    .dataframe tbody tr th:only-of-type {\n",
       "        vertical-align: middle;\n",
       "    }\n",
       "\n",
       "    .dataframe tbody tr th {\n",
       "        vertical-align: top;\n",
       "    }\n",
       "\n",
       "    .dataframe thead th {\n",
       "        text-align: right;\n",
       "    }\n",
       "</style>\n",
       "<table border=\"1\" class=\"dataframe\">\n",
       "  <thead>\n",
       "    <tr style=\"text-align: right;\">\n",
       "      <th></th>\n",
       "      <th>id</th>\n",
       "      <th>title</th>\n",
       "      <th>doi</th>\n",
       "      <th>author</th>\n",
       "      <th>year</th>\n",
       "    </tr>\n",
       "  </thead>\n",
       "  <tbody>\n",
       "    <tr>\n",
       "      <th>0</th>\n",
       "      <td>35099534</td>\n",
       "      <td>None</td>\n",
       "      <td>None</td>\n",
       "      <td>None</td>\n",
       "      <td>None</td>\n",
       "    </tr>\n",
       "  </tbody>\n",
       "</table>\n",
       "</div>"
      ],
      "text/plain": [
       "         id title   doi author  year\n",
       "0  35099534  None  None   None  None"
      ]
     },
     "execution_count": 95,
     "metadata": {},
     "output_type": "execute_result"
    }
   ],
   "source": [
    "pid = \"35099534\"\n",
    "query = \"SELECT * FROM publication WHERE id='35099534'\"\n",
    "cursor.execute(query)\n",
    "pd.DataFrame(cursor.fetchall(), columns=[i[0] for i in cursor.description])"
   ]
  },
  {
   "cell_type": "code",
   "execution_count": 96,
   "id": "3554ed22-b637-45d8-a855-eef6eef177ad",
   "metadata": {
    "tags": []
   },
   "outputs": [],
   "source": [
    "cursor.execute(add_sequence_has_publication, (ACCESSION, pid))"
   ]
  },
  {
   "cell_type": "code",
   "execution_count": 97,
   "id": "6f1cbc98-5790-4e81-95fc-83e61fefbb9a",
   "metadata": {
    "tags": []
   },
   "outputs": [
    {
     "data": {
      "text/html": [
       "<div>\n",
       "<style scoped>\n",
       "    .dataframe tbody tr th:only-of-type {\n",
       "        vertical-align: middle;\n",
       "    }\n",
       "\n",
       "    .dataframe tbody tr th {\n",
       "        vertical-align: top;\n",
       "    }\n",
       "\n",
       "    .dataframe thead th {\n",
       "        text-align: right;\n",
       "    }\n",
       "</style>\n",
       "<table border=\"1\" class=\"dataframe\">\n",
       "  <thead>\n",
       "    <tr style=\"text-align: right;\">\n",
       "      <th></th>\n",
       "      <th>accession</th>\n",
       "      <th>variant</th>\n",
       "      <th>gi</th>\n",
       "      <th>ncbi_gene_id</th>\n",
       "      <th>hgnc_gene_name</th>\n",
       "      <th>taxonomy_id</th>\n",
       "      <th>organism</th>\n",
       "      <th>phylum</th>\n",
       "      <th>class</th>\n",
       "      <th>taxonomy_group</th>\n",
       "      <th>info</th>\n",
       "      <th>sequence</th>\n",
       "      <th>variant_under_consideration</th>\n",
       "      <th>sequence_accession</th>\n",
       "      <th>publication_id</th>\n",
       "    </tr>\n",
       "  </thead>\n",
       "  <tbody>\n",
       "    <tr>\n",
       "      <th>0</th>\n",
       "      <td>XP_014643104.1</td>\n",
       "      <td>H2B.K</td>\n",
       "      <td>None</td>\n",
       "      <td>None</td>\n",
       "      <td>None</td>\n",
       "      <td>73337</td>\n",
       "      <td>Ceratotherium simum simum</td>\n",
       "      <td>Chordata</td>\n",
       "      <td>Mammalia</td>\n",
       "      <td>None</td>\n",
       "      <td>None</td>\n",
       "      <td>MSTEHGQQHHPGGRRGCSPGDKKFKKRSRRKETYSMYIYKVLKQVH...</td>\n",
       "      <td>None</td>\n",
       "      <td>XP_014643104.1</td>\n",
       "      <td>35099534</td>\n",
       "    </tr>\n",
       "  </tbody>\n",
       "</table>\n",
       "</div>"
      ],
      "text/plain": [
       "        accession variant    gi ncbi_gene_id hgnc_gene_name  taxonomy_id  \\\n",
       "0  XP_014643104.1   H2B.K  None         None           None        73337   \n",
       "\n",
       "                    organism    phylum     class taxonomy_group  info  \\\n",
       "0  Ceratotherium simum simum  Chordata  Mammalia           None  None   \n",
       "\n",
       "                                            sequence  \\\n",
       "0  MSTEHGQQHHPGGRRGCSPGDKKFKKRSRRKETYSMYIYKVLKQVH...   \n",
       "\n",
       "  variant_under_consideration sequence_accession publication_id  \n",
       "0                        None     XP_014643104.1       35099534  "
      ]
     },
     "execution_count": 97,
     "metadata": {},
     "output_type": "execute_result"
    }
   ],
   "source": [
    "query = (\n",
    "    \"SELECT * FROM sequence s LEFT JOIN sequence_has_publication sp \"\n",
    "    \"ON s.accession = sp.sequence_accession \"\n",
    "    f\"WHERE s.accession='{ACCESSION}'\"\n",
    ")\n",
    "cursor.execute(query)\n",
    "df = pd.DataFrame(cursor.fetchall(), columns=[i[0] for i in cursor.description])\n",
    "df"
   ]
  },
  {
   "cell_type": "code",
   "execution_count": 98,
   "id": "bc377b2d-3805-4587-bd29-a184ec0e996d",
   "metadata": {
    "tags": []
   },
   "outputs": [
    {
     "data": {
      "text/html": [
       "<div>\n",
       "<style scoped>\n",
       "    .dataframe tbody tr th:only-of-type {\n",
       "        vertical-align: middle;\n",
       "    }\n",
       "\n",
       "    .dataframe tbody tr th {\n",
       "        vertical-align: top;\n",
       "    }\n",
       "\n",
       "    .dataframe thead th {\n",
       "        text-align: right;\n",
       "    }\n",
       "</style>\n",
       "<table border=\"1\" class=\"dataframe\">\n",
       "  <thead>\n",
       "    <tr style=\"text-align: right;\">\n",
       "      <th></th>\n",
       "      <th>accession</th>\n",
       "      <th>variant</th>\n",
       "      <th>gi</th>\n",
       "      <th>ncbi_gene_id</th>\n",
       "      <th>hgnc_gene_name</th>\n",
       "      <th>taxonomy_id</th>\n",
       "      <th>organism</th>\n",
       "      <th>phylum</th>\n",
       "      <th>class</th>\n",
       "      <th>taxonomy_group</th>\n",
       "      <th>info</th>\n",
       "      <th>sequence</th>\n",
       "      <th>variant_under_consideration</th>\n",
       "      <th>sequence_accession</th>\n",
       "      <th>publication_id</th>\n",
       "    </tr>\n",
       "  </thead>\n",
       "  <tbody>\n",
       "    <tr>\n",
       "      <th>0</th>\n",
       "      <td>HISTDB_H2B_K_0</td>\n",
       "      <td>H2B.K</td>\n",
       "      <td>None</td>\n",
       "      <td>None</td>\n",
       "      <td>None</td>\n",
       "      <td>9940</td>\n",
       "      <td>Ovis aries</td>\n",
       "      <td>Chordata</td>\n",
       "      <td>Mammalia</td>\n",
       "      <td>None</td>\n",
       "      <td>None</td>\n",
       "      <td>MSAEHGQLQQAGGRRGRSPGDKKSRRRSRRKETYSMYIYKVLKQVH...</td>\n",
       "      <td>None</td>\n",
       "      <td>HISTDB_H2B_K_0</td>\n",
       "      <td>35099534</td>\n",
       "    </tr>\n",
       "    <tr>\n",
       "      <th>1</th>\n",
       "      <td>XP_002715119.2</td>\n",
       "      <td>H2B.K</td>\n",
       "      <td>None</td>\n",
       "      <td>None</td>\n",
       "      <td>None</td>\n",
       "      <td>9986</td>\n",
       "      <td>Oryctolagus cuniculus</td>\n",
       "      <td>Chordata</td>\n",
       "      <td>Mammalia</td>\n",
       "      <td>None</td>\n",
       "      <td>None</td>\n",
       "      <td>MSAERGQQQQQASSRRGRSSGNKKSRKRSKRKETYSMYIYKVLKQV...</td>\n",
       "      <td>None</td>\n",
       "      <td>XP_002715119.2</td>\n",
       "      <td>35099534</td>\n",
       "    </tr>\n",
       "    <tr>\n",
       "      <th>2</th>\n",
       "      <td>XP_005609614.1</td>\n",
       "      <td>H2B.K</td>\n",
       "      <td>None</td>\n",
       "      <td>None</td>\n",
       "      <td>None</td>\n",
       "      <td>9796</td>\n",
       "      <td>Equus caballus</td>\n",
       "      <td>Chordata</td>\n",
       "      <td>Mammalia</td>\n",
       "      <td>None</td>\n",
       "      <td>None</td>\n",
       "      <td>MSTEHGQQHQSGGRRGCSSGDKKSKKRSRRKETYSMYIYKVLKQVH...</td>\n",
       "      <td>None</td>\n",
       "      <td>XP_005609614.1</td>\n",
       "      <td>35099534</td>\n",
       "    </tr>\n",
       "    <tr>\n",
       "      <th>3</th>\n",
       "      <td>XP_010799227.1</td>\n",
       "      <td>H2B.K</td>\n",
       "      <td>None</td>\n",
       "      <td>None</td>\n",
       "      <td>None</td>\n",
       "      <td>9913</td>\n",
       "      <td>Bos taurus</td>\n",
       "      <td>Chordata</td>\n",
       "      <td>Mammalia</td>\n",
       "      <td>None</td>\n",
       "      <td>None</td>\n",
       "      <td>MSAEHGQLQQSGGRRGRSPGDKKSRRRSRRKETYSMYIYKVLKQVH...</td>\n",
       "      <td>None</td>\n",
       "      <td>XP_010799227.1</td>\n",
       "      <td>35099534</td>\n",
       "    </tr>\n",
       "    <tr>\n",
       "      <th>4</th>\n",
       "      <td>XP_013846203.1</td>\n",
       "      <td>H2B.K</td>\n",
       "      <td>None</td>\n",
       "      <td>None</td>\n",
       "      <td>None</td>\n",
       "      <td>9823</td>\n",
       "      <td>Sus scrofa</td>\n",
       "      <td>Chordata</td>\n",
       "      <td>Mammalia</td>\n",
       "      <td>None</td>\n",
       "      <td>None</td>\n",
       "      <td>MSSAHGQQQQQQQQQQQQQQQGGGRRGRSSGEKKSKKRNRRKETYS...</td>\n",
       "      <td>None</td>\n",
       "      <td>XP_013846203.1</td>\n",
       "      <td>35099534</td>\n",
       "    </tr>\n",
       "    <tr>\n",
       "      <th>5</th>\n",
       "      <td>XP_014643104.1</td>\n",
       "      <td>H2B.K</td>\n",
       "      <td>None</td>\n",
       "      <td>None</td>\n",
       "      <td>None</td>\n",
       "      <td>73337</td>\n",
       "      <td>Ceratotherium simum simum</td>\n",
       "      <td>Chordata</td>\n",
       "      <td>Mammalia</td>\n",
       "      <td>None</td>\n",
       "      <td>None</td>\n",
       "      <td>MSTEHGQQHHPGGRRGCSPGDKKFKKRSRRKETYSMYIYKVLKQVH...</td>\n",
       "      <td>None</td>\n",
       "      <td>XP_014643104.1</td>\n",
       "      <td>35099534</td>\n",
       "    </tr>\n",
       "    <tr>\n",
       "      <th>6</th>\n",
       "      <td>XP_024846715.1</td>\n",
       "      <td>H2B.K</td>\n",
       "      <td>None</td>\n",
       "      <td>None</td>\n",
       "      <td>None</td>\n",
       "      <td>9913</td>\n",
       "      <td>Bos taurus</td>\n",
       "      <td>Chordata</td>\n",
       "      <td>Mammalia</td>\n",
       "      <td>None</td>\n",
       "      <td>None</td>\n",
       "      <td>MSAEHGQLQQSGGRRGRSPGDKKSRRRSRRKETYSMYIYKVLKQVH...</td>\n",
       "      <td>None</td>\n",
       "      <td>XP_024846715.1</td>\n",
       "      <td>35099534</td>\n",
       "    </tr>\n",
       "    <tr>\n",
       "      <th>7</th>\n",
       "      <td>XP_027824938.1</td>\n",
       "      <td>H2B.K</td>\n",
       "      <td>None</td>\n",
       "      <td>None</td>\n",
       "      <td>None</td>\n",
       "      <td>9940</td>\n",
       "      <td>Ovis aries</td>\n",
       "      <td>Chordata</td>\n",
       "      <td>Mammalia</td>\n",
       "      <td>None</td>\n",
       "      <td>None</td>\n",
       "      <td>MSAEHGQLQQSGGRRGRSPGDKKSRRRSRRKETYSMYIYKVLKQVH...</td>\n",
       "      <td>None</td>\n",
       "      <td>XP_027824938.1</td>\n",
       "      <td>35099534</td>\n",
       "    </tr>\n",
       "    <tr>\n",
       "      <th>8</th>\n",
       "      <td>XP_059747847.1</td>\n",
       "      <td>H2B.K</td>\n",
       "      <td>None</td>\n",
       "      <td>None</td>\n",
       "      <td>None</td>\n",
       "      <td>9913</td>\n",
       "      <td>Bos taurus</td>\n",
       "      <td>Chordata</td>\n",
       "      <td>Mammalia</td>\n",
       "      <td>None</td>\n",
       "      <td>None</td>\n",
       "      <td>MMDTRSSKLVCHNILRTRRMSAEHGQLQQSGGRRGRSPGDKKSRRR...</td>\n",
       "      <td>None</td>\n",
       "      <td>XP_059747847.1</td>\n",
       "      <td>35099534</td>\n",
       "    </tr>\n",
       "  </tbody>\n",
       "</table>\n",
       "</div>"
      ],
      "text/plain": [
       "        accession variant    gi ncbi_gene_id hgnc_gene_name  taxonomy_id  \\\n",
       "0  HISTDB_H2B_K_0   H2B.K  None         None           None         9940   \n",
       "1  XP_002715119.2   H2B.K  None         None           None         9986   \n",
       "2  XP_005609614.1   H2B.K  None         None           None         9796   \n",
       "3  XP_010799227.1   H2B.K  None         None           None         9913   \n",
       "4  XP_013846203.1   H2B.K  None         None           None         9823   \n",
       "5  XP_014643104.1   H2B.K  None         None           None        73337   \n",
       "6  XP_024846715.1   H2B.K  None         None           None         9913   \n",
       "7  XP_027824938.1   H2B.K  None         None           None         9940   \n",
       "8  XP_059747847.1   H2B.K  None         None           None         9913   \n",
       "\n",
       "                    organism    phylum     class taxonomy_group  info  \\\n",
       "0                 Ovis aries  Chordata  Mammalia           None  None   \n",
       "1      Oryctolagus cuniculus  Chordata  Mammalia           None  None   \n",
       "2             Equus caballus  Chordata  Mammalia           None  None   \n",
       "3                 Bos taurus  Chordata  Mammalia           None  None   \n",
       "4                 Sus scrofa  Chordata  Mammalia           None  None   \n",
       "5  Ceratotherium simum simum  Chordata  Mammalia           None  None   \n",
       "6                 Bos taurus  Chordata  Mammalia           None  None   \n",
       "7                 Ovis aries  Chordata  Mammalia           None  None   \n",
       "8                 Bos taurus  Chordata  Mammalia           None  None   \n",
       "\n",
       "                                            sequence  \\\n",
       "0  MSAEHGQLQQAGGRRGRSPGDKKSRRRSRRKETYSMYIYKVLKQVH...   \n",
       "1  MSAERGQQQQQASSRRGRSSGNKKSRKRSKRKETYSMYIYKVLKQV...   \n",
       "2  MSTEHGQQHQSGGRRGCSSGDKKSKKRSRRKETYSMYIYKVLKQVH...   \n",
       "3  MSAEHGQLQQSGGRRGRSPGDKKSRRRSRRKETYSMYIYKVLKQVH...   \n",
       "4  MSSAHGQQQQQQQQQQQQQQQGGGRRGRSSGEKKSKKRNRRKETYS...   \n",
       "5  MSTEHGQQHHPGGRRGCSPGDKKFKKRSRRKETYSMYIYKVLKQVH...   \n",
       "6  MSAEHGQLQQSGGRRGRSPGDKKSRRRSRRKETYSMYIYKVLKQVH...   \n",
       "7  MSAEHGQLQQSGGRRGRSPGDKKSRRRSRRKETYSMYIYKVLKQVH...   \n",
       "8  MMDTRSSKLVCHNILRTRRMSAEHGQLQQSGGRRGRSPGDKKSRRR...   \n",
       "\n",
       "  variant_under_consideration sequence_accession publication_id  \n",
       "0                        None     HISTDB_H2B_K_0       35099534  \n",
       "1                        None     XP_002715119.2       35099534  \n",
       "2                        None     XP_005609614.1       35099534  \n",
       "3                        None     XP_010799227.1       35099534  \n",
       "4                        None     XP_013846203.1       35099534  \n",
       "5                        None     XP_014643104.1       35099534  \n",
       "6                        None     XP_024846715.1       35099534  \n",
       "7                        None     XP_027824938.1       35099534  \n",
       "8                        None     XP_059747847.1       35099534  "
      ]
     },
     "execution_count": 98,
     "metadata": {},
     "output_type": "execute_result"
    }
   ],
   "source": [
    "query = (\n",
    "    \"SELECT * FROM sequence s LEFT JOIN sequence_has_publication sp \"\n",
    "    \"ON s.accession = sp.sequence_accession \"\n",
    "    f\"WHERE s.variant='H2B.K'\"\n",
    ")\n",
    "cursor.execute(query)\n",
    "df = pd.DataFrame(cursor.fetchall(), columns=[i[0] for i in cursor.description])\n",
    "df"
   ]
  },
  {
   "cell_type": "code",
   "execution_count": 99,
   "id": "d19b399d-f8e5-4c28-b68b-c59ef3b70e70",
   "metadata": {
    "tags": []
   },
   "outputs": [],
   "source": [
    "# Make sure data is committed to the database\n",
    "conn.commit()"
   ]
  },
  {
   "cell_type": "markdown",
   "id": "2efd481a-acd6-4d25-9165-cb365f368aca",
   "metadata": {
    "jp-MarkdownHeadingCollapsed": true,
    "tags": []
   },
   "source": [
    "# Add cat H2B.K\n",
    "\n",
    "**Atricle:** https://academic.oup.com/mbe/article/39/2/msac019/6517784#333890704\n",
    "\n",
    "**Gene:** Felis catus, felCat9, chrA2, +-, 165304073-165306381\n",
    "\n",
    "**Sequence from article:**\n",
    "```fasta\n",
    ">Cat_H2B.K\n",
    "MSAEHGQQQQSGGRRGRSSGDKKSKKRSRRKETYSMYIYKVLKQVHPDIGISSKAMSIMNSFVNDVFERLAGEAARLAQYSGRTTLTSREVQTAVRLLLPGELAKHAVSEGTKAVTKYTSSK\n",
    "```\n",
    "\n",
    "BLASTP has one result with 100% coverage and 100% identity.\n",
    "\n",
    "**Protein accession:** XP_019681595.1"
   ]
  },
  {
   "cell_type": "code",
   "execution_count": 100,
   "id": "87d3c87c-1438-47a2-bb72-16dd33ee2741",
   "metadata": {
    "tags": []
   },
   "outputs": [],
   "source": [
    "ACCESSION = \"XP_019681595.1\""
   ]
  },
  {
   "cell_type": "markdown",
   "id": "b95f5626-ac41-43e6-91bb-525bc3fd6699",
   "metadata": {
    "tags": []
   },
   "source": [
    "## Get sequence XP_019681595.1 from NCBI"
   ]
  },
  {
   "cell_type": "code",
   "execution_count": 101,
   "id": "7e170d16-0c94-48db-958c-14ba7a66ccfe",
   "metadata": {
    "tags": []
   },
   "outputs": [
    {
     "name": "stdout",
     "output_type": "stream",
     "text": [
      "ID: XP_019681595.1\n",
      "Name: XP_019681595\n",
      "Description: histone H2B type 2-E1 isoform X1 [Felis catus]\n",
      "Database cross-references: BioProject:PRJNA773801\n",
      "Number of features: 7\n",
      "/topology=linear\n",
      "/data_file_division=MAM\n",
      "/date=09-NOV-2021\n",
      "/accessions=['XP_019681595']\n",
      "/sequence_version=1\n",
      "/db_source=REFSEQ: accession XM_019826036.3\n",
      "/keywords=['RefSeq']\n",
      "/source=Felis catus (domestic cat)\n",
      "/organism=Felis catus\n",
      "/taxonomy=['Eukaryota', 'Metazoa', 'Chordata', 'Craniata', 'Vertebrata', 'Euteleostomi', 'Mammalia', 'Eutheria', 'Laurasiatheria', 'Carnivora', 'Feliformia', 'Felidae', 'Felinae', 'Felis']\n",
      "/comment=MODEL REFSEQ:  This record is predicted by automated computational\n",
      "analysis. This record is derived from a genomic sequence\n",
      "(NC_058369.1) annotated using gene prediction method: Gnomon.\n",
      "Also see:\n",
      "    Documentation of NCBI's Annotation Process\n",
      "COMPLETENESS: full length.\n",
      "/structured_comment=OrderedDict([('Genome-Annotation-Data', OrderedDict([('Annotation Provider', 'NCBI'), ('Annotation Status', 'Full annotation'), ('Annotation Name', 'Felis catus Annotation Release 105'), ('Annotation Version', '105'), ('Annotation Pipeline', 'NCBI eukaryotic genome annotation pipeline'), ('Annotation Software Version', '9.0'), ('Annotation Method', 'Best-placed RefSeq; Gnomon'), ('Features Annotated', 'Gene; mRNA; CDS; ncRNA')]))])\n",
      "/molecule_type=protein\n",
      "Seq('MSAEHGQQQQSGGRRGRSSGDKKSKKRSRRKETYSMYIYKVLKQVHPDIGISSK...SSK')\n"
     ]
    }
   ],
   "source": [
    "with Entrez.efetch(\n",
    "    db=\"protein\", id=ACCESSION, rettype=\"gb\", retmode=\"text\"\n",
    ") as handle:\n",
    "    record = SeqIO.read(handle, \"genbank\")\n",
    "    print(record)"
   ]
  },
  {
   "cell_type": "code",
   "execution_count": 102,
   "id": "388aea79-66cc-47aa-bca2-61840e14449e",
   "metadata": {
    "tags": []
   },
   "outputs": [
    {
     "data": {
      "text/plain": [
       "'MSAEHGQQQQSGGRRGRSSGDKKSKKRSRRKETYSMYIYKVLKQVHPDIGISSKAMSIMNSFVNDVFERLAGEAARLAQYSGRTTLTSREVQTAVRLLLPGELAKHAVSEGTKAVTKYTSSK'"
      ]
     },
     "execution_count": 102,
     "metadata": {},
     "output_type": "execute_result"
    }
   ],
   "source": [
    "str(record.seq)"
   ]
  },
  {
   "cell_type": "code",
   "execution_count": 103,
   "id": "31cb1c1b-3ea6-48b0-8a20-a285b53f202b",
   "metadata": {
    "tags": []
   },
   "outputs": [
    {
     "data": {
      "text/plain": [
       "'Felis catus'"
      ]
     },
     "execution_count": 103,
     "metadata": {},
     "output_type": "execute_result"
    }
   ],
   "source": [
    "record.annotations[\"organism\"]"
   ]
  },
  {
   "cell_type": "code",
   "execution_count": 104,
   "id": "d4847bdf-497b-4187-9791-1c33340283b3",
   "metadata": {
    "tags": []
   },
   "outputs": [
    {
     "name": "stdout",
     "output_type": "stream",
     "text": [
      "Fetched taxid from NCBI <built-in function id>\n"
     ]
    },
    {
     "data": {
      "text/plain": [
       "{'organism': 'Felis catus',\n",
       " 'taxonomy_id': 9685,\n",
       " 'phylum': 'Chordata',\n",
       " 'class': 'Mammalia'}"
      ]
     },
     "execution_count": 104,
     "metadata": {},
     "output_type": "execute_result"
    }
   ],
   "source": [
    "taxonomy_data = get_taxonomy_data(record)\n",
    "taxonomy_data"
   ]
  },
  {
   "cell_type": "markdown",
   "id": "11ceb5e1-83ab-4976-b174-f0edd28e71b9",
   "metadata": {},
   "source": [
    "## Adding XP_014643104.1"
   ]
  },
  {
   "cell_type": "code",
   "execution_count": 105,
   "id": "9e7e476c-ff40-4fcd-ba4b-2c292afc88ae",
   "metadata": {
    "tags": []
   },
   "outputs": [
    {
     "data": {
      "text/plain": [
       "{'accession': 'XP_019681595.1',\n",
       " 'variant': 'H2B.K',\n",
       " 'gi': None,\n",
       " 'ncbi_gene_id': None,\n",
       " 'hgnc_gene_name': None,\n",
       " 'taxonomy_id': 9685,\n",
       " 'organism': 'Felis catus',\n",
       " 'phylum': 'Chordata',\n",
       " 'class': 'Mammalia',\n",
       " 'taxonomy_group': None,\n",
       " 'info': None,\n",
       " 'sequence': 'MSAEHGQQQQSGGRRGRSSGDKKSKKRSRRKETYSMYIYKVLKQVHPDIGISSKAMSIMNSFVNDVFERLAGEAARLAQYSGRTTLTSREVQTAVRLLLPGELAKHAVSEGTKAVTKYTSSK',\n",
       " 'variant_under_consideration': None}"
      ]
     },
     "execution_count": 105,
     "metadata": {},
     "output_type": "execute_result"
    }
   ],
   "source": [
    "data_sequence = {\n",
    "    \"accession\": ACCESSION,\n",
    "    \"variant\": \"H2B.K\",\n",
    "    \"gi\": None,\n",
    "    \"ncbi_gene_id\": None,\n",
    "    \"hgnc_gene_name\": None,\n",
    "    \"taxonomy_id\": None,\n",
    "    \"organism\": None,\n",
    "    \"phylum\": None,\n",
    "    \"class\": None,\n",
    "    \"taxonomy_group\": None,\n",
    "    \"info\": None,\n",
    "    \"sequence\": str(record.seq),\n",
    "    \"variant_under_consideration\": None,\n",
    "}\n",
    "data_sequence.update(taxonomy_data)\n",
    "data_sequence"
   ]
  },
  {
   "cell_type": "code",
   "execution_count": 106,
   "id": "fb3ee7a4-0c6a-4f31-9fbf-9098a5a337dc",
   "metadata": {
    "tags": []
   },
   "outputs": [
    {
     "name": "stdout",
     "output_type": "stream",
     "text": [
      "accession <class 'str'>\n",
      "variant <class 'str'>\n",
      "gi <class 'NoneType'>\n",
      "ncbi_gene_id <class 'NoneType'>\n",
      "hgnc_gene_name <class 'NoneType'>\n",
      "taxonomy_id <class 'int'>\n",
      "organism <class 'str'>\n",
      "phylum <class 'str'>\n",
      "class <class 'str'>\n",
      "taxonomy_group <class 'NoneType'>\n",
      "info <class 'NoneType'>\n",
      "sequence <class 'str'>\n",
      "variant_under_consideration <class 'NoneType'>\n"
     ]
    }
   ],
   "source": [
    "for k, v in data_sequence.items():\n",
    "    print(k, type(v))"
   ]
  },
  {
   "cell_type": "code",
   "execution_count": 107,
   "id": "d1d14de0-ac35-4ee4-81de-c5290813b03c",
   "metadata": {
    "tags": []
   },
   "outputs": [],
   "source": [
    "cursor.execute(add_sequence, data_sequence)"
   ]
  },
  {
   "cell_type": "code",
   "execution_count": 108,
   "id": "fa323cef-33d2-4b53-a270-23419d5e250d",
   "metadata": {
    "tags": []
   },
   "outputs": [
    {
     "data": {
      "text/html": [
       "<div>\n",
       "<style scoped>\n",
       "    .dataframe tbody tr th:only-of-type {\n",
       "        vertical-align: middle;\n",
       "    }\n",
       "\n",
       "    .dataframe tbody tr th {\n",
       "        vertical-align: top;\n",
       "    }\n",
       "\n",
       "    .dataframe thead th {\n",
       "        text-align: right;\n",
       "    }\n",
       "</style>\n",
       "<table border=\"1\" class=\"dataframe\">\n",
       "  <thead>\n",
       "    <tr style=\"text-align: right;\">\n",
       "      <th></th>\n",
       "      <th>accession</th>\n",
       "      <th>variant</th>\n",
       "      <th>gi</th>\n",
       "      <th>ncbi_gene_id</th>\n",
       "      <th>hgnc_gene_name</th>\n",
       "      <th>taxonomy_id</th>\n",
       "      <th>organism</th>\n",
       "      <th>phylum</th>\n",
       "      <th>class</th>\n",
       "      <th>taxonomy_group</th>\n",
       "      <th>info</th>\n",
       "      <th>sequence</th>\n",
       "      <th>variant_under_consideration</th>\n",
       "      <th>sequence_accession</th>\n",
       "      <th>publication_id</th>\n",
       "    </tr>\n",
       "  </thead>\n",
       "  <tbody>\n",
       "    <tr>\n",
       "      <th>0</th>\n",
       "      <td>XP_019681595.1</td>\n",
       "      <td>H2B.K</td>\n",
       "      <td>None</td>\n",
       "      <td>None</td>\n",
       "      <td>None</td>\n",
       "      <td>9685</td>\n",
       "      <td>Felis catus</td>\n",
       "      <td>Chordata</td>\n",
       "      <td>Mammalia</td>\n",
       "      <td>None</td>\n",
       "      <td>None</td>\n",
       "      <td>MSAEHGQQQQSGGRRGRSSGDKKSKKRSRRKETYSMYIYKVLKQVH...</td>\n",
       "      <td>None</td>\n",
       "      <td>None</td>\n",
       "      <td>None</td>\n",
       "    </tr>\n",
       "  </tbody>\n",
       "</table>\n",
       "</div>"
      ],
      "text/plain": [
       "        accession variant    gi ncbi_gene_id hgnc_gene_name  taxonomy_id  \\\n",
       "0  XP_019681595.1   H2B.K  None         None           None         9685   \n",
       "\n",
       "      organism    phylum     class taxonomy_group  info  \\\n",
       "0  Felis catus  Chordata  Mammalia           None  None   \n",
       "\n",
       "                                            sequence  \\\n",
       "0  MSAEHGQQQQSGGRRGRSSGDKKSKKRSRRKETYSMYIYKVLKQVH...   \n",
       "\n",
       "  variant_under_consideration sequence_accession publication_id  \n",
       "0                        None               None           None  "
      ]
     },
     "execution_count": 108,
     "metadata": {},
     "output_type": "execute_result"
    }
   ],
   "source": [
    "query = (\n",
    "    \"SELECT * FROM sequence s LEFT JOIN sequence_has_publication sp \"\n",
    "    \"ON s.accession = sp.sequence_accession \"\n",
    "    f\"WHERE s.accession='{ACCESSION}'\"\n",
    ")\n",
    "cursor.execute(query)\n",
    "df = pd.DataFrame(cursor.fetchall(), columns=[i[0] for i in cursor.description])\n",
    "df"
   ]
  },
  {
   "cell_type": "markdown",
   "id": "e939cc79-fed1-4c3d-b8a4-61a838b31897",
   "metadata": {},
   "source": [
    "## Add publication"
   ]
  },
  {
   "cell_type": "code",
   "execution_count": 109,
   "id": "98ee39e9-4824-44c4-ac4f-550398026381",
   "metadata": {
    "tags": []
   },
   "outputs": [
    {
     "data": {
      "text/html": [
       "<div>\n",
       "<style scoped>\n",
       "    .dataframe tbody tr th:only-of-type {\n",
       "        vertical-align: middle;\n",
       "    }\n",
       "\n",
       "    .dataframe tbody tr th {\n",
       "        vertical-align: top;\n",
       "    }\n",
       "\n",
       "    .dataframe thead th {\n",
       "        text-align: right;\n",
       "    }\n",
       "</style>\n",
       "<table border=\"1\" class=\"dataframe\">\n",
       "  <thead>\n",
       "    <tr style=\"text-align: right;\">\n",
       "      <th></th>\n",
       "      <th>id</th>\n",
       "      <th>title</th>\n",
       "      <th>doi</th>\n",
       "      <th>author</th>\n",
       "      <th>year</th>\n",
       "    </tr>\n",
       "  </thead>\n",
       "  <tbody>\n",
       "    <tr>\n",
       "      <th>0</th>\n",
       "      <td>35099534</td>\n",
       "      <td>None</td>\n",
       "      <td>None</td>\n",
       "      <td>None</td>\n",
       "      <td>None</td>\n",
       "    </tr>\n",
       "  </tbody>\n",
       "</table>\n",
       "</div>"
      ],
      "text/plain": [
       "         id title   doi author  year\n",
       "0  35099534  None  None   None  None"
      ]
     },
     "execution_count": 109,
     "metadata": {},
     "output_type": "execute_result"
    }
   ],
   "source": [
    "pid = \"35099534\"\n",
    "query = \"SELECT * FROM publication WHERE id='35099534'\"\n",
    "cursor.execute(query)\n",
    "pd.DataFrame(cursor.fetchall(), columns=[i[0] for i in cursor.description])"
   ]
  },
  {
   "cell_type": "code",
   "execution_count": 110,
   "id": "6b5facad-df4c-4b19-bb26-c06336a13823",
   "metadata": {
    "tags": []
   },
   "outputs": [],
   "source": [
    "cursor.execute(add_sequence_has_publication, (ACCESSION, pid))"
   ]
  },
  {
   "cell_type": "code",
   "execution_count": 111,
   "id": "61e42654-d35d-43e3-854d-a8436e35cf70",
   "metadata": {
    "tags": []
   },
   "outputs": [
    {
     "data": {
      "text/html": [
       "<div>\n",
       "<style scoped>\n",
       "    .dataframe tbody tr th:only-of-type {\n",
       "        vertical-align: middle;\n",
       "    }\n",
       "\n",
       "    .dataframe tbody tr th {\n",
       "        vertical-align: top;\n",
       "    }\n",
       "\n",
       "    .dataframe thead th {\n",
       "        text-align: right;\n",
       "    }\n",
       "</style>\n",
       "<table border=\"1\" class=\"dataframe\">\n",
       "  <thead>\n",
       "    <tr style=\"text-align: right;\">\n",
       "      <th></th>\n",
       "      <th>accession</th>\n",
       "      <th>variant</th>\n",
       "      <th>gi</th>\n",
       "      <th>ncbi_gene_id</th>\n",
       "      <th>hgnc_gene_name</th>\n",
       "      <th>taxonomy_id</th>\n",
       "      <th>organism</th>\n",
       "      <th>phylum</th>\n",
       "      <th>class</th>\n",
       "      <th>taxonomy_group</th>\n",
       "      <th>info</th>\n",
       "      <th>sequence</th>\n",
       "      <th>variant_under_consideration</th>\n",
       "      <th>sequence_accession</th>\n",
       "      <th>publication_id</th>\n",
       "    </tr>\n",
       "  </thead>\n",
       "  <tbody>\n",
       "    <tr>\n",
       "      <th>0</th>\n",
       "      <td>XP_019681595.1</td>\n",
       "      <td>H2B.K</td>\n",
       "      <td>None</td>\n",
       "      <td>None</td>\n",
       "      <td>None</td>\n",
       "      <td>9685</td>\n",
       "      <td>Felis catus</td>\n",
       "      <td>Chordata</td>\n",
       "      <td>Mammalia</td>\n",
       "      <td>None</td>\n",
       "      <td>None</td>\n",
       "      <td>MSAEHGQQQQSGGRRGRSSGDKKSKKRSRRKETYSMYIYKVLKQVH...</td>\n",
       "      <td>None</td>\n",
       "      <td>XP_019681595.1</td>\n",
       "      <td>35099534</td>\n",
       "    </tr>\n",
       "  </tbody>\n",
       "</table>\n",
       "</div>"
      ],
      "text/plain": [
       "        accession variant    gi ncbi_gene_id hgnc_gene_name  taxonomy_id  \\\n",
       "0  XP_019681595.1   H2B.K  None         None           None         9685   \n",
       "\n",
       "      organism    phylum     class taxonomy_group  info  \\\n",
       "0  Felis catus  Chordata  Mammalia           None  None   \n",
       "\n",
       "                                            sequence  \\\n",
       "0  MSAEHGQQQQSGGRRGRSSGDKKSKKRSRRKETYSMYIYKVLKQVH...   \n",
       "\n",
       "  variant_under_consideration sequence_accession publication_id  \n",
       "0                        None     XP_019681595.1       35099534  "
      ]
     },
     "execution_count": 111,
     "metadata": {},
     "output_type": "execute_result"
    }
   ],
   "source": [
    "query = (\n",
    "    \"SELECT * FROM sequence s LEFT JOIN sequence_has_publication sp \"\n",
    "    \"ON s.accession = sp.sequence_accession \"\n",
    "    f\"WHERE s.accession='{ACCESSION}'\"\n",
    ")\n",
    "cursor.execute(query)\n",
    "df = pd.DataFrame(cursor.fetchall(), columns=[i[0] for i in cursor.description])\n",
    "df"
   ]
  },
  {
   "cell_type": "code",
   "execution_count": 112,
   "id": "e6ee7bf9-a1e9-4120-a333-4437df964d48",
   "metadata": {
    "tags": []
   },
   "outputs": [
    {
     "data": {
      "text/html": [
       "<div>\n",
       "<style scoped>\n",
       "    .dataframe tbody tr th:only-of-type {\n",
       "        vertical-align: middle;\n",
       "    }\n",
       "\n",
       "    .dataframe tbody tr th {\n",
       "        vertical-align: top;\n",
       "    }\n",
       "\n",
       "    .dataframe thead th {\n",
       "        text-align: right;\n",
       "    }\n",
       "</style>\n",
       "<table border=\"1\" class=\"dataframe\">\n",
       "  <thead>\n",
       "    <tr style=\"text-align: right;\">\n",
       "      <th></th>\n",
       "      <th>accession</th>\n",
       "      <th>variant</th>\n",
       "      <th>gi</th>\n",
       "      <th>ncbi_gene_id</th>\n",
       "      <th>hgnc_gene_name</th>\n",
       "      <th>taxonomy_id</th>\n",
       "      <th>organism</th>\n",
       "      <th>phylum</th>\n",
       "      <th>class</th>\n",
       "      <th>taxonomy_group</th>\n",
       "      <th>info</th>\n",
       "      <th>sequence</th>\n",
       "      <th>variant_under_consideration</th>\n",
       "      <th>sequence_accession</th>\n",
       "      <th>publication_id</th>\n",
       "    </tr>\n",
       "  </thead>\n",
       "  <tbody>\n",
       "    <tr>\n",
       "      <th>0</th>\n",
       "      <td>HISTDB_H2B_K_0</td>\n",
       "      <td>H2B.K</td>\n",
       "      <td>None</td>\n",
       "      <td>None</td>\n",
       "      <td>None</td>\n",
       "      <td>9940</td>\n",
       "      <td>Ovis aries</td>\n",
       "      <td>Chordata</td>\n",
       "      <td>Mammalia</td>\n",
       "      <td>None</td>\n",
       "      <td>None</td>\n",
       "      <td>MSAEHGQLQQAGGRRGRSPGDKKSRRRSRRKETYSMYIYKVLKQVH...</td>\n",
       "      <td>None</td>\n",
       "      <td>HISTDB_H2B_K_0</td>\n",
       "      <td>35099534</td>\n",
       "    </tr>\n",
       "    <tr>\n",
       "      <th>1</th>\n",
       "      <td>XP_002715119.2</td>\n",
       "      <td>H2B.K</td>\n",
       "      <td>None</td>\n",
       "      <td>None</td>\n",
       "      <td>None</td>\n",
       "      <td>9986</td>\n",
       "      <td>Oryctolagus cuniculus</td>\n",
       "      <td>Chordata</td>\n",
       "      <td>Mammalia</td>\n",
       "      <td>None</td>\n",
       "      <td>None</td>\n",
       "      <td>MSAERGQQQQQASSRRGRSSGNKKSRKRSKRKETYSMYIYKVLKQV...</td>\n",
       "      <td>None</td>\n",
       "      <td>XP_002715119.2</td>\n",
       "      <td>35099534</td>\n",
       "    </tr>\n",
       "    <tr>\n",
       "      <th>2</th>\n",
       "      <td>XP_005609614.1</td>\n",
       "      <td>H2B.K</td>\n",
       "      <td>None</td>\n",
       "      <td>None</td>\n",
       "      <td>None</td>\n",
       "      <td>9796</td>\n",
       "      <td>Equus caballus</td>\n",
       "      <td>Chordata</td>\n",
       "      <td>Mammalia</td>\n",
       "      <td>None</td>\n",
       "      <td>None</td>\n",
       "      <td>MSTEHGQQHQSGGRRGCSSGDKKSKKRSRRKETYSMYIYKVLKQVH...</td>\n",
       "      <td>None</td>\n",
       "      <td>XP_005609614.1</td>\n",
       "      <td>35099534</td>\n",
       "    </tr>\n",
       "    <tr>\n",
       "      <th>3</th>\n",
       "      <td>XP_010799227.1</td>\n",
       "      <td>H2B.K</td>\n",
       "      <td>None</td>\n",
       "      <td>None</td>\n",
       "      <td>None</td>\n",
       "      <td>9913</td>\n",
       "      <td>Bos taurus</td>\n",
       "      <td>Chordata</td>\n",
       "      <td>Mammalia</td>\n",
       "      <td>None</td>\n",
       "      <td>None</td>\n",
       "      <td>MSAEHGQLQQSGGRRGRSPGDKKSRRRSRRKETYSMYIYKVLKQVH...</td>\n",
       "      <td>None</td>\n",
       "      <td>XP_010799227.1</td>\n",
       "      <td>35099534</td>\n",
       "    </tr>\n",
       "    <tr>\n",
       "      <th>4</th>\n",
       "      <td>XP_013846203.1</td>\n",
       "      <td>H2B.K</td>\n",
       "      <td>None</td>\n",
       "      <td>None</td>\n",
       "      <td>None</td>\n",
       "      <td>9823</td>\n",
       "      <td>Sus scrofa</td>\n",
       "      <td>Chordata</td>\n",
       "      <td>Mammalia</td>\n",
       "      <td>None</td>\n",
       "      <td>None</td>\n",
       "      <td>MSSAHGQQQQQQQQQQQQQQQGGGRRGRSSGEKKSKKRNRRKETYS...</td>\n",
       "      <td>None</td>\n",
       "      <td>XP_013846203.1</td>\n",
       "      <td>35099534</td>\n",
       "    </tr>\n",
       "    <tr>\n",
       "      <th>5</th>\n",
       "      <td>XP_014643104.1</td>\n",
       "      <td>H2B.K</td>\n",
       "      <td>None</td>\n",
       "      <td>None</td>\n",
       "      <td>None</td>\n",
       "      <td>73337</td>\n",
       "      <td>Ceratotherium simum simum</td>\n",
       "      <td>Chordata</td>\n",
       "      <td>Mammalia</td>\n",
       "      <td>None</td>\n",
       "      <td>None</td>\n",
       "      <td>MSTEHGQQHHPGGRRGCSPGDKKFKKRSRRKETYSMYIYKVLKQVH...</td>\n",
       "      <td>None</td>\n",
       "      <td>XP_014643104.1</td>\n",
       "      <td>35099534</td>\n",
       "    </tr>\n",
       "    <tr>\n",
       "      <th>6</th>\n",
       "      <td>XP_019681595.1</td>\n",
       "      <td>H2B.K</td>\n",
       "      <td>None</td>\n",
       "      <td>None</td>\n",
       "      <td>None</td>\n",
       "      <td>9685</td>\n",
       "      <td>Felis catus</td>\n",
       "      <td>Chordata</td>\n",
       "      <td>Mammalia</td>\n",
       "      <td>None</td>\n",
       "      <td>None</td>\n",
       "      <td>MSAEHGQQQQSGGRRGRSSGDKKSKKRSRRKETYSMYIYKVLKQVH...</td>\n",
       "      <td>None</td>\n",
       "      <td>XP_019681595.1</td>\n",
       "      <td>35099534</td>\n",
       "    </tr>\n",
       "    <tr>\n",
       "      <th>7</th>\n",
       "      <td>XP_024846715.1</td>\n",
       "      <td>H2B.K</td>\n",
       "      <td>None</td>\n",
       "      <td>None</td>\n",
       "      <td>None</td>\n",
       "      <td>9913</td>\n",
       "      <td>Bos taurus</td>\n",
       "      <td>Chordata</td>\n",
       "      <td>Mammalia</td>\n",
       "      <td>None</td>\n",
       "      <td>None</td>\n",
       "      <td>MSAEHGQLQQSGGRRGRSPGDKKSRRRSRRKETYSMYIYKVLKQVH...</td>\n",
       "      <td>None</td>\n",
       "      <td>XP_024846715.1</td>\n",
       "      <td>35099534</td>\n",
       "    </tr>\n",
       "    <tr>\n",
       "      <th>8</th>\n",
       "      <td>XP_027824938.1</td>\n",
       "      <td>H2B.K</td>\n",
       "      <td>None</td>\n",
       "      <td>None</td>\n",
       "      <td>None</td>\n",
       "      <td>9940</td>\n",
       "      <td>Ovis aries</td>\n",
       "      <td>Chordata</td>\n",
       "      <td>Mammalia</td>\n",
       "      <td>None</td>\n",
       "      <td>None</td>\n",
       "      <td>MSAEHGQLQQSGGRRGRSPGDKKSRRRSRRKETYSMYIYKVLKQVH...</td>\n",
       "      <td>None</td>\n",
       "      <td>XP_027824938.1</td>\n",
       "      <td>35099534</td>\n",
       "    </tr>\n",
       "    <tr>\n",
       "      <th>9</th>\n",
       "      <td>XP_059747847.1</td>\n",
       "      <td>H2B.K</td>\n",
       "      <td>None</td>\n",
       "      <td>None</td>\n",
       "      <td>None</td>\n",
       "      <td>9913</td>\n",
       "      <td>Bos taurus</td>\n",
       "      <td>Chordata</td>\n",
       "      <td>Mammalia</td>\n",
       "      <td>None</td>\n",
       "      <td>None</td>\n",
       "      <td>MMDTRSSKLVCHNILRTRRMSAEHGQLQQSGGRRGRSPGDKKSRRR...</td>\n",
       "      <td>None</td>\n",
       "      <td>XP_059747847.1</td>\n",
       "      <td>35099534</td>\n",
       "    </tr>\n",
       "  </tbody>\n",
       "</table>\n",
       "</div>"
      ],
      "text/plain": [
       "        accession variant    gi ncbi_gene_id hgnc_gene_name  taxonomy_id  \\\n",
       "0  HISTDB_H2B_K_0   H2B.K  None         None           None         9940   \n",
       "1  XP_002715119.2   H2B.K  None         None           None         9986   \n",
       "2  XP_005609614.1   H2B.K  None         None           None         9796   \n",
       "3  XP_010799227.1   H2B.K  None         None           None         9913   \n",
       "4  XP_013846203.1   H2B.K  None         None           None         9823   \n",
       "5  XP_014643104.1   H2B.K  None         None           None        73337   \n",
       "6  XP_019681595.1   H2B.K  None         None           None         9685   \n",
       "7  XP_024846715.1   H2B.K  None         None           None         9913   \n",
       "8  XP_027824938.1   H2B.K  None         None           None         9940   \n",
       "9  XP_059747847.1   H2B.K  None         None           None         9913   \n",
       "\n",
       "                    organism    phylum     class taxonomy_group  info  \\\n",
       "0                 Ovis aries  Chordata  Mammalia           None  None   \n",
       "1      Oryctolagus cuniculus  Chordata  Mammalia           None  None   \n",
       "2             Equus caballus  Chordata  Mammalia           None  None   \n",
       "3                 Bos taurus  Chordata  Mammalia           None  None   \n",
       "4                 Sus scrofa  Chordata  Mammalia           None  None   \n",
       "5  Ceratotherium simum simum  Chordata  Mammalia           None  None   \n",
       "6                Felis catus  Chordata  Mammalia           None  None   \n",
       "7                 Bos taurus  Chordata  Mammalia           None  None   \n",
       "8                 Ovis aries  Chordata  Mammalia           None  None   \n",
       "9                 Bos taurus  Chordata  Mammalia           None  None   \n",
       "\n",
       "                                            sequence  \\\n",
       "0  MSAEHGQLQQAGGRRGRSPGDKKSRRRSRRKETYSMYIYKVLKQVH...   \n",
       "1  MSAERGQQQQQASSRRGRSSGNKKSRKRSKRKETYSMYIYKVLKQV...   \n",
       "2  MSTEHGQQHQSGGRRGCSSGDKKSKKRSRRKETYSMYIYKVLKQVH...   \n",
       "3  MSAEHGQLQQSGGRRGRSPGDKKSRRRSRRKETYSMYIYKVLKQVH...   \n",
       "4  MSSAHGQQQQQQQQQQQQQQQGGGRRGRSSGEKKSKKRNRRKETYS...   \n",
       "5  MSTEHGQQHHPGGRRGCSPGDKKFKKRSRRKETYSMYIYKVLKQVH...   \n",
       "6  MSAEHGQQQQSGGRRGRSSGDKKSKKRSRRKETYSMYIYKVLKQVH...   \n",
       "7  MSAEHGQLQQSGGRRGRSPGDKKSRRRSRRKETYSMYIYKVLKQVH...   \n",
       "8  MSAEHGQLQQSGGRRGRSPGDKKSRRRSRRKETYSMYIYKVLKQVH...   \n",
       "9  MMDTRSSKLVCHNILRTRRMSAEHGQLQQSGGRRGRSPGDKKSRRR...   \n",
       "\n",
       "  variant_under_consideration sequence_accession publication_id  \n",
       "0                        None     HISTDB_H2B_K_0       35099534  \n",
       "1                        None     XP_002715119.2       35099534  \n",
       "2                        None     XP_005609614.1       35099534  \n",
       "3                        None     XP_010799227.1       35099534  \n",
       "4                        None     XP_013846203.1       35099534  \n",
       "5                        None     XP_014643104.1       35099534  \n",
       "6                        None     XP_019681595.1       35099534  \n",
       "7                        None     XP_024846715.1       35099534  \n",
       "8                        None     XP_027824938.1       35099534  \n",
       "9                        None     XP_059747847.1       35099534  "
      ]
     },
     "execution_count": 112,
     "metadata": {},
     "output_type": "execute_result"
    }
   ],
   "source": [
    "query = (\n",
    "    \"SELECT * FROM sequence s LEFT JOIN sequence_has_publication sp \"\n",
    "    \"ON s.accession = sp.sequence_accession \"\n",
    "    f\"WHERE s.variant='H2B.K'\"\n",
    ")\n",
    "cursor.execute(query)\n",
    "df = pd.DataFrame(cursor.fetchall(), columns=[i[0] for i in cursor.description])\n",
    "df"
   ]
  },
  {
   "cell_type": "code",
   "execution_count": 113,
   "id": "80a67dff-d968-4ad5-91ed-5c07862fc389",
   "metadata": {
    "tags": []
   },
   "outputs": [],
   "source": [
    "# Make sure data is committed to the database\n",
    "conn.commit()"
   ]
  },
  {
   "cell_type": "markdown",
   "id": "ec37afab-9376-4ec1-b618-984aa2f4fb6d",
   "metadata": {
    "jp-MarkdownHeadingCollapsed": true,
    "tags": []
   },
   "source": [
    "# Add dog H2B.Ks\n",
    "\n",
    "**Atricle:** https://academic.oup.com/mbe/article/39/2/msac019/6517784#333890704\n",
    "\n",
    "**Genes:**\n",
    "- Canis lupus familiaris, canFam3, chr16, +-, 15248179-15250469, H2B.K.1 (ancestral)\n",
    "- Canis lupus familiaris, canFam3, chr18, +-, 49216892-49217257, H2B.K.2\n",
    "\n",
    "**Sequences from article:**\n",
    "```fasta\n",
    ">Dog_H2B.K.1\n",
    "MGAEHGQQPQSGGRRGRGSGDKKSKKRSRRKETYSMYIYKVLKQVHPDIGISSKAMSIMNSFVNDVFERLAGEAARLAQYSGRTTLTSREVQTAVRLLLPGELAKHAVSEGTKAVTKYTSSK\n",
    ">Dog_H2B.K.2\n",
    "MGTEHGQQPQSGGRRGHGSGDKKSKKHSRRKETYSMYIYKVLKQVHPDIGIFSKAMSIMNSFVNDVFERLAGKAAQLAQYLGQTTLTSWEVQTAVRWLLPGELAKHAISEGTKAITKYTGSK\n",
    "```\n",
    "\n",
    "BLASTP results:\n",
    "- one H2B.K.1 with 100% coverage and 100% identity (gene also known as H2BE);\n",
    "- one H2B.K.2 with 100% coverage and 100% identity (is that a same gene as in the article?).\n",
    "\n",
    "**Protein accessions:** XP_022259586.1, HISTDB_H2B_K_1"
   ]
  },
  {
   "cell_type": "markdown",
   "id": "ec5e7f7f-dc35-4227-82f2-6b5d0e4a70c2",
   "metadata": {
    "tags": []
   },
   "source": [
    "## Add XP_022259586.1"
   ]
  },
  {
   "cell_type": "code",
   "execution_count": 114,
   "id": "edcc910e-7d40-4865-b0f2-4efda590a2dd",
   "metadata": {
    "tags": []
   },
   "outputs": [],
   "source": [
    "ACCESSION = \"XP_022259586.1\""
   ]
  },
  {
   "cell_type": "markdown",
   "id": "3a8c7f05-e67a-4181-8868-04838d96b88f",
   "metadata": {
    "tags": []
   },
   "source": [
    "## Get sequence XP_022259586.1 from NCBI"
   ]
  },
  {
   "cell_type": "code",
   "execution_count": 115,
   "id": "5207733a-667d-49ad-b355-b5b8c715aae0",
   "metadata": {
    "tags": []
   },
   "outputs": [
    {
     "name": "stdout",
     "output_type": "stream",
     "text": [
      "ID: XP_022259586.1\n",
      "Name: XP_022259586\n",
      "Description: histone H2B type 2-E1 [Canis lupus familiaris]\n",
      "Database cross-references: BioProject:PRJNA12384\n",
      "Number of features: 7\n",
      "/topology=linear\n",
      "/data_file_division=MAM\n",
      "/date=06-JAN-2021\n",
      "/accessions=['XP_022259586']\n",
      "/sequence_version=1\n",
      "/db_source=REFSEQ: accession XM_022403878.2\n",
      "/keywords=['RefSeq']\n",
      "/source=Canis lupus familiaris (dog)\n",
      "/organism=Canis lupus familiaris\n",
      "/taxonomy=['Eukaryota', 'Metazoa', 'Chordata', 'Craniata', 'Vertebrata', 'Euteleostomi', 'Mammalia', 'Eutheria', 'Laurasiatheria', 'Carnivora', 'Caniformia', 'Canidae', 'Canis']\n",
      "/comment=MODEL REFSEQ:  This record is predicted by automated computational\n",
      "analysis. This record is derived from a genomic sequence\n",
      "(NC_006598.4) annotated using gene prediction method: Gnomon.\n",
      "Also see:\n",
      "    Documentation of NCBI's Annotation Process\n",
      "COMPLETENESS: full length.\n",
      "/structured_comment=OrderedDict([('Genome-Annotation-Data', OrderedDict([('Annotation Provider', 'NCBI'), ('Annotation Status', 'Full annotation'), ('Annotation Name', 'Canis lupus familiaris Annotation Release 106'), ('Annotation Version', '106'), ('Annotation Pipeline', 'NCBI eukaryotic genome annotation pipeline'), ('Annotation Software Version', '8.5'), ('Annotation Method', 'Best-placed RefSeq; Gnomon'), ('Features Annotated', 'Gene; mRNA; CDS; ncRNA')]))])\n",
      "/molecule_type=protein\n",
      "Seq('MGAEHGQQPQSGGRRGRGSGDKKSKKRSRRKETYSMYIYKVLKQVHPDIGISSK...SSK')\n"
     ]
    }
   ],
   "source": [
    "with Entrez.efetch(\n",
    "    db=\"protein\", id=ACCESSION, rettype=\"gb\", retmode=\"text\"\n",
    ") as handle:\n",
    "    record = SeqIO.read(handle, \"genbank\")\n",
    "    print(record)"
   ]
  },
  {
   "cell_type": "code",
   "execution_count": 116,
   "id": "cc0cd991-98a3-45bb-a292-e931c61b73fd",
   "metadata": {
    "tags": []
   },
   "outputs": [
    {
     "data": {
      "text/plain": [
       "'MGAEHGQQPQSGGRRGRGSGDKKSKKRSRRKETYSMYIYKVLKQVHPDIGISSKAMSIMNSFVNDVFERLAGEAARLAQYSGRTTLTSREVQTAVRLLLPGELAKHAVSEGTKAVTKYTSSK'"
      ]
     },
     "execution_count": 116,
     "metadata": {},
     "output_type": "execute_result"
    }
   ],
   "source": [
    "str(record.seq)"
   ]
  },
  {
   "cell_type": "code",
   "execution_count": 117,
   "id": "f5d41aed-302e-4d8c-a3fb-8a60a247c6a5",
   "metadata": {
    "tags": []
   },
   "outputs": [
    {
     "data": {
      "text/plain": [
       "'Canis lupus familiaris'"
      ]
     },
     "execution_count": 117,
     "metadata": {},
     "output_type": "execute_result"
    }
   ],
   "source": [
    "record.annotations[\"organism\"]"
   ]
  },
  {
   "cell_type": "code",
   "execution_count": 118,
   "id": "679ef2f6-c53e-4fb6-9a52-b548e3f58c16",
   "metadata": {
    "tags": []
   },
   "outputs": [
    {
     "name": "stdout",
     "output_type": "stream",
     "text": [
      "Fetched taxid from NCBI <built-in function id>\n"
     ]
    },
    {
     "data": {
      "text/plain": [
       "{'organism': 'Canis lupus familiaris',\n",
       " 'taxonomy_id': 9615,\n",
       " 'phylum': 'Chordata',\n",
       " 'class': 'Mammalia'}"
      ]
     },
     "execution_count": 118,
     "metadata": {},
     "output_type": "execute_result"
    }
   ],
   "source": [
    "taxonomy_data = get_taxonomy_data(record)\n",
    "taxonomy_data"
   ]
  },
  {
   "cell_type": "markdown",
   "id": "a77fe333-7931-4199-954d-2517956ecd8f",
   "metadata": {},
   "source": [
    "## Adding XP_022259586.1"
   ]
  },
  {
   "cell_type": "code",
   "execution_count": 119,
   "id": "cd45177c-458f-437d-9d73-4769248e8ee3",
   "metadata": {
    "tags": []
   },
   "outputs": [
    {
     "data": {
      "text/plain": [
       "{'accession': 'XP_022259586.1',\n",
       " 'variant': 'H2B.K',\n",
       " 'gi': None,\n",
       " 'ncbi_gene_id': None,\n",
       " 'hgnc_gene_name': None,\n",
       " 'taxonomy_id': 9615,\n",
       " 'organism': 'Canis lupus familiaris',\n",
       " 'phylum': 'Chordata',\n",
       " 'class': 'Mammalia',\n",
       " 'taxonomy_group': None,\n",
       " 'info': None,\n",
       " 'sequence': 'MGAEHGQQPQSGGRRGRGSGDKKSKKRSRRKETYSMYIYKVLKQVHPDIGISSKAMSIMNSFVNDVFERLAGEAARLAQYSGRTTLTSREVQTAVRLLLPGELAKHAVSEGTKAVTKYTSSK',\n",
       " 'variant_under_consideration': None}"
      ]
     },
     "execution_count": 119,
     "metadata": {},
     "output_type": "execute_result"
    }
   ],
   "source": [
    "data_sequence = {\n",
    "    \"accession\": ACCESSION,\n",
    "    \"variant\": \"H2B.K\",\n",
    "    \"gi\": None,\n",
    "    \"ncbi_gene_id\": None,\n",
    "    \"hgnc_gene_name\": None,\n",
    "    \"taxonomy_id\": None,\n",
    "    \"organism\": None,\n",
    "    \"phylum\": None,\n",
    "    \"class\": None,\n",
    "    \"taxonomy_group\": None,\n",
    "    \"info\": None,\n",
    "    \"sequence\": str(record.seq),\n",
    "    \"variant_under_consideration\": None,\n",
    "}\n",
    "data_sequence.update(taxonomy_data)\n",
    "data_sequence"
   ]
  },
  {
   "cell_type": "code",
   "execution_count": 120,
   "id": "ea2d41b8-f2ad-477a-a9eb-e60ace73c307",
   "metadata": {
    "tags": []
   },
   "outputs": [
    {
     "name": "stdout",
     "output_type": "stream",
     "text": [
      "accession <class 'str'>\n",
      "variant <class 'str'>\n",
      "gi <class 'NoneType'>\n",
      "ncbi_gene_id <class 'NoneType'>\n",
      "hgnc_gene_name <class 'NoneType'>\n",
      "taxonomy_id <class 'int'>\n",
      "organism <class 'str'>\n",
      "phylum <class 'str'>\n",
      "class <class 'str'>\n",
      "taxonomy_group <class 'NoneType'>\n",
      "info <class 'NoneType'>\n",
      "sequence <class 'str'>\n",
      "variant_under_consideration <class 'NoneType'>\n"
     ]
    }
   ],
   "source": [
    "for k, v in data_sequence.items():\n",
    "    print(k, type(v))"
   ]
  },
  {
   "cell_type": "code",
   "execution_count": 121,
   "id": "4a35b922-5da1-46a4-9c44-bb598b129219",
   "metadata": {
    "tags": []
   },
   "outputs": [],
   "source": [
    "cursor.execute(add_sequence, data_sequence)"
   ]
  },
  {
   "cell_type": "code",
   "execution_count": 122,
   "id": "58492fe9-0ad4-4dc7-863c-d07655d8474b",
   "metadata": {
    "tags": []
   },
   "outputs": [
    {
     "data": {
      "text/html": [
       "<div>\n",
       "<style scoped>\n",
       "    .dataframe tbody tr th:only-of-type {\n",
       "        vertical-align: middle;\n",
       "    }\n",
       "\n",
       "    .dataframe tbody tr th {\n",
       "        vertical-align: top;\n",
       "    }\n",
       "\n",
       "    .dataframe thead th {\n",
       "        text-align: right;\n",
       "    }\n",
       "</style>\n",
       "<table border=\"1\" class=\"dataframe\">\n",
       "  <thead>\n",
       "    <tr style=\"text-align: right;\">\n",
       "      <th></th>\n",
       "      <th>accession</th>\n",
       "      <th>variant</th>\n",
       "      <th>gi</th>\n",
       "      <th>ncbi_gene_id</th>\n",
       "      <th>hgnc_gene_name</th>\n",
       "      <th>taxonomy_id</th>\n",
       "      <th>organism</th>\n",
       "      <th>phylum</th>\n",
       "      <th>class</th>\n",
       "      <th>taxonomy_group</th>\n",
       "      <th>info</th>\n",
       "      <th>sequence</th>\n",
       "      <th>variant_under_consideration</th>\n",
       "      <th>sequence_accession</th>\n",
       "      <th>publication_id</th>\n",
       "    </tr>\n",
       "  </thead>\n",
       "  <tbody>\n",
       "    <tr>\n",
       "      <th>0</th>\n",
       "      <td>XP_022259586.1</td>\n",
       "      <td>H2B.K</td>\n",
       "      <td>None</td>\n",
       "      <td>None</td>\n",
       "      <td>None</td>\n",
       "      <td>9615</td>\n",
       "      <td>Canis lupus familiaris</td>\n",
       "      <td>Chordata</td>\n",
       "      <td>Mammalia</td>\n",
       "      <td>None</td>\n",
       "      <td>None</td>\n",
       "      <td>MGAEHGQQPQSGGRRGRGSGDKKSKKRSRRKETYSMYIYKVLKQVH...</td>\n",
       "      <td>None</td>\n",
       "      <td>None</td>\n",
       "      <td>None</td>\n",
       "    </tr>\n",
       "  </tbody>\n",
       "</table>\n",
       "</div>"
      ],
      "text/plain": [
       "        accession variant    gi ncbi_gene_id hgnc_gene_name  taxonomy_id  \\\n",
       "0  XP_022259586.1   H2B.K  None         None           None         9615   \n",
       "\n",
       "                 organism    phylum     class taxonomy_group  info  \\\n",
       "0  Canis lupus familiaris  Chordata  Mammalia           None  None   \n",
       "\n",
       "                                            sequence  \\\n",
       "0  MGAEHGQQPQSGGRRGRGSGDKKSKKRSRRKETYSMYIYKVLKQVH...   \n",
       "\n",
       "  variant_under_consideration sequence_accession publication_id  \n",
       "0                        None               None           None  "
      ]
     },
     "execution_count": 122,
     "metadata": {},
     "output_type": "execute_result"
    }
   ],
   "source": [
    "query = (\n",
    "    \"SELECT * FROM sequence s LEFT JOIN sequence_has_publication sp \"\n",
    "    \"ON s.accession = sp.sequence_accession \"\n",
    "    f\"WHERE s.accession='{ACCESSION}'\"\n",
    ")\n",
    "cursor.execute(query)\n",
    "df = pd.DataFrame(cursor.fetchall(), columns=[i[0] for i in cursor.description])\n",
    "df"
   ]
  },
  {
   "cell_type": "markdown",
   "id": "a435b937-4d19-431c-9d4b-be456b2537ef",
   "metadata": {},
   "source": [
    "## Add publication"
   ]
  },
  {
   "cell_type": "code",
   "execution_count": 123,
   "id": "203ccbb0-60e8-4546-b8ff-5b8d7b57563c",
   "metadata": {
    "tags": []
   },
   "outputs": [
    {
     "data": {
      "text/html": [
       "<div>\n",
       "<style scoped>\n",
       "    .dataframe tbody tr th:only-of-type {\n",
       "        vertical-align: middle;\n",
       "    }\n",
       "\n",
       "    .dataframe tbody tr th {\n",
       "        vertical-align: top;\n",
       "    }\n",
       "\n",
       "    .dataframe thead th {\n",
       "        text-align: right;\n",
       "    }\n",
       "</style>\n",
       "<table border=\"1\" class=\"dataframe\">\n",
       "  <thead>\n",
       "    <tr style=\"text-align: right;\">\n",
       "      <th></th>\n",
       "      <th>id</th>\n",
       "      <th>title</th>\n",
       "      <th>doi</th>\n",
       "      <th>author</th>\n",
       "      <th>year</th>\n",
       "    </tr>\n",
       "  </thead>\n",
       "  <tbody>\n",
       "    <tr>\n",
       "      <th>0</th>\n",
       "      <td>35099534</td>\n",
       "      <td>None</td>\n",
       "      <td>None</td>\n",
       "      <td>None</td>\n",
       "      <td>None</td>\n",
       "    </tr>\n",
       "  </tbody>\n",
       "</table>\n",
       "</div>"
      ],
      "text/plain": [
       "         id title   doi author  year\n",
       "0  35099534  None  None   None  None"
      ]
     },
     "execution_count": 123,
     "metadata": {},
     "output_type": "execute_result"
    }
   ],
   "source": [
    "pid = \"35099534\"\n",
    "query = \"SELECT * FROM publication WHERE id='35099534'\"\n",
    "cursor.execute(query)\n",
    "pd.DataFrame(cursor.fetchall(), columns=[i[0] for i in cursor.description])"
   ]
  },
  {
   "cell_type": "code",
   "execution_count": 124,
   "id": "b39e3b38-5437-44df-a213-eee7f3593f84",
   "metadata": {
    "tags": []
   },
   "outputs": [],
   "source": [
    "cursor.execute(add_sequence_has_publication, (ACCESSION, pid))"
   ]
  },
  {
   "cell_type": "code",
   "execution_count": 125,
   "id": "37642985-e829-44c5-a0ee-616adc8aefcc",
   "metadata": {
    "tags": []
   },
   "outputs": [
    {
     "data": {
      "text/html": [
       "<div>\n",
       "<style scoped>\n",
       "    .dataframe tbody tr th:only-of-type {\n",
       "        vertical-align: middle;\n",
       "    }\n",
       "\n",
       "    .dataframe tbody tr th {\n",
       "        vertical-align: top;\n",
       "    }\n",
       "\n",
       "    .dataframe thead th {\n",
       "        text-align: right;\n",
       "    }\n",
       "</style>\n",
       "<table border=\"1\" class=\"dataframe\">\n",
       "  <thead>\n",
       "    <tr style=\"text-align: right;\">\n",
       "      <th></th>\n",
       "      <th>accession</th>\n",
       "      <th>variant</th>\n",
       "      <th>gi</th>\n",
       "      <th>ncbi_gene_id</th>\n",
       "      <th>hgnc_gene_name</th>\n",
       "      <th>taxonomy_id</th>\n",
       "      <th>organism</th>\n",
       "      <th>phylum</th>\n",
       "      <th>class</th>\n",
       "      <th>taxonomy_group</th>\n",
       "      <th>info</th>\n",
       "      <th>sequence</th>\n",
       "      <th>variant_under_consideration</th>\n",
       "      <th>sequence_accession</th>\n",
       "      <th>publication_id</th>\n",
       "    </tr>\n",
       "  </thead>\n",
       "  <tbody>\n",
       "    <tr>\n",
       "      <th>0</th>\n",
       "      <td>XP_022259586.1</td>\n",
       "      <td>H2B.K</td>\n",
       "      <td>None</td>\n",
       "      <td>None</td>\n",
       "      <td>None</td>\n",
       "      <td>9615</td>\n",
       "      <td>Canis lupus familiaris</td>\n",
       "      <td>Chordata</td>\n",
       "      <td>Mammalia</td>\n",
       "      <td>None</td>\n",
       "      <td>None</td>\n",
       "      <td>MGAEHGQQPQSGGRRGRGSGDKKSKKRSRRKETYSMYIYKVLKQVH...</td>\n",
       "      <td>None</td>\n",
       "      <td>XP_022259586.1</td>\n",
       "      <td>35099534</td>\n",
       "    </tr>\n",
       "  </tbody>\n",
       "</table>\n",
       "</div>"
      ],
      "text/plain": [
       "        accession variant    gi ncbi_gene_id hgnc_gene_name  taxonomy_id  \\\n",
       "0  XP_022259586.1   H2B.K  None         None           None         9615   \n",
       "\n",
       "                 organism    phylum     class taxonomy_group  info  \\\n",
       "0  Canis lupus familiaris  Chordata  Mammalia           None  None   \n",
       "\n",
       "                                            sequence  \\\n",
       "0  MGAEHGQQPQSGGRRGRGSGDKKSKKRSRRKETYSMYIYKVLKQVH...   \n",
       "\n",
       "  variant_under_consideration sequence_accession publication_id  \n",
       "0                        None     XP_022259586.1       35099534  "
      ]
     },
     "execution_count": 125,
     "metadata": {},
     "output_type": "execute_result"
    }
   ],
   "source": [
    "query = (\n",
    "    \"SELECT * FROM sequence s LEFT JOIN sequence_has_publication sp \"\n",
    "    \"ON s.accession = sp.sequence_accession \"\n",
    "    f\"WHERE s.accession='{ACCESSION}'\"\n",
    ")\n",
    "cursor.execute(query)\n",
    "df = pd.DataFrame(cursor.fetchall(), columns=[i[0] for i in cursor.description])\n",
    "df"
   ]
  },
  {
   "cell_type": "markdown",
   "id": "d24c745f-f62a-4177-b652-2152b1e239cd",
   "metadata": {},
   "source": [
    "## Add HISTDB_H2B_K_1"
   ]
  },
  {
   "cell_type": "code",
   "execution_count": 127,
   "id": "3bf2ee56-0022-40a0-96c0-cb118d57cf50",
   "metadata": {
    "tags": []
   },
   "outputs": [],
   "source": [
    "ACCESSION = \"HISTDB_H2B_K_1\""
   ]
  },
  {
   "cell_type": "code",
   "execution_count": 129,
   "id": "9b00c5d5-d064-45a3-a311-07c516cae443",
   "metadata": {
    "tags": []
   },
   "outputs": [
    {
     "data": {
      "text/plain": [
       "{'accession': 'HISTDB_H2B_K_1',\n",
       " 'variant': 'H2B.K',\n",
       " 'gi': None,\n",
       " 'ncbi_gene_id': None,\n",
       " 'hgnc_gene_name': None,\n",
       " 'taxonomy_id': 9615,\n",
       " 'organism': 'Canis lupus familiaris',\n",
       " 'phylum': 'Chordata',\n",
       " 'class': 'Mammalia',\n",
       " 'taxonomy_group': None,\n",
       " 'info': None,\n",
       " 'sequence': 'MGTEHGQQPQSGGRRGHGSGDKKSKKHSRRKETYSMYIYKVLKQVHPDIGIFSKAMSIMNSFVNDVFERLAGKAAQLAQYLGQTTLTSWEVQTAVRWLLPGELAKHAISEGTKAITKYTGSK',\n",
       " 'variant_under_consideration': None}"
      ]
     },
     "execution_count": 129,
     "metadata": {},
     "output_type": "execute_result"
    }
   ],
   "source": [
    "data_sequence = {\n",
    "    \"accession\": ACCESSION,\n",
    "    \"variant\": \"H2B.K\",\n",
    "    \"gi\": None,\n",
    "    \"ncbi_gene_id\": None,\n",
    "    \"hgnc_gene_name\": None,\n",
    "    \"taxonomy_id\": 9615 ,\n",
    "    \"organism\": \"Canis lupus familiaris\",\n",
    "    \"phylum\": \"Chordata\",\n",
    "    \"class\": \"Mammalia\",\n",
    "    \"taxonomy_group\": None,\n",
    "    \"info\": None,\n",
    "    \"sequence\": \"MGTEHGQQPQSGGRRGHGSGDKKSKKHSRRKETYSMYIYKVLKQVHPDIGIFSKAMSIMNSFVNDVFERLAGKAAQLAQYLGQTTLTSWEVQTAVRWLLPGELAKHAISEGTKAITKYTGSK\",\n",
    "    \"variant_under_consideration\": None,\n",
    "}\n",
    "data_sequence"
   ]
  },
  {
   "cell_type": "code",
   "execution_count": 130,
   "id": "d00a349c-46ac-4535-874d-f59305a20ccd",
   "metadata": {
    "tags": []
   },
   "outputs": [
    {
     "name": "stdout",
     "output_type": "stream",
     "text": [
      "accession <class 'str'>\n",
      "variant <class 'str'>\n",
      "gi <class 'NoneType'>\n",
      "ncbi_gene_id <class 'NoneType'>\n",
      "hgnc_gene_name <class 'NoneType'>\n",
      "taxonomy_id <class 'int'>\n",
      "organism <class 'str'>\n",
      "phylum <class 'str'>\n",
      "class <class 'str'>\n",
      "taxonomy_group <class 'NoneType'>\n",
      "info <class 'NoneType'>\n",
      "sequence <class 'str'>\n",
      "variant_under_consideration <class 'NoneType'>\n"
     ]
    }
   ],
   "source": [
    "for k, v in data_sequence.items():\n",
    "    print(k, type(v))"
   ]
  },
  {
   "cell_type": "code",
   "execution_count": 131,
   "id": "bfa5806c-0871-42a4-a9d2-34b924cac1ae",
   "metadata": {
    "tags": []
   },
   "outputs": [],
   "source": [
    "cursor.execute(add_sequence, data_sequence)"
   ]
  },
  {
   "cell_type": "code",
   "execution_count": 132,
   "id": "3c19dde8-e20e-4789-913a-d91699d035ae",
   "metadata": {
    "tags": []
   },
   "outputs": [
    {
     "data": {
      "text/html": [
       "<div>\n",
       "<style scoped>\n",
       "    .dataframe tbody tr th:only-of-type {\n",
       "        vertical-align: middle;\n",
       "    }\n",
       "\n",
       "    .dataframe tbody tr th {\n",
       "        vertical-align: top;\n",
       "    }\n",
       "\n",
       "    .dataframe thead th {\n",
       "        text-align: right;\n",
       "    }\n",
       "</style>\n",
       "<table border=\"1\" class=\"dataframe\">\n",
       "  <thead>\n",
       "    <tr style=\"text-align: right;\">\n",
       "      <th></th>\n",
       "      <th>accession</th>\n",
       "      <th>variant</th>\n",
       "      <th>gi</th>\n",
       "      <th>ncbi_gene_id</th>\n",
       "      <th>hgnc_gene_name</th>\n",
       "      <th>taxonomy_id</th>\n",
       "      <th>organism</th>\n",
       "      <th>phylum</th>\n",
       "      <th>class</th>\n",
       "      <th>taxonomy_group</th>\n",
       "      <th>info</th>\n",
       "      <th>sequence</th>\n",
       "      <th>variant_under_consideration</th>\n",
       "      <th>sequence_accession</th>\n",
       "      <th>publication_id</th>\n",
       "    </tr>\n",
       "  </thead>\n",
       "  <tbody>\n",
       "    <tr>\n",
       "      <th>0</th>\n",
       "      <td>HISTDB_H2B_K_1</td>\n",
       "      <td>H2B.K</td>\n",
       "      <td>None</td>\n",
       "      <td>None</td>\n",
       "      <td>None</td>\n",
       "      <td>9615</td>\n",
       "      <td>Canis lupus familiaris</td>\n",
       "      <td>Chordata</td>\n",
       "      <td>Mammalia</td>\n",
       "      <td>None</td>\n",
       "      <td>None</td>\n",
       "      <td>MGTEHGQQPQSGGRRGHGSGDKKSKKHSRRKETYSMYIYKVLKQVH...</td>\n",
       "      <td>None</td>\n",
       "      <td>None</td>\n",
       "      <td>None</td>\n",
       "    </tr>\n",
       "  </tbody>\n",
       "</table>\n",
       "</div>"
      ],
      "text/plain": [
       "        accession variant    gi ncbi_gene_id hgnc_gene_name  taxonomy_id  \\\n",
       "0  HISTDB_H2B_K_1   H2B.K  None         None           None         9615   \n",
       "\n",
       "                 organism    phylum     class taxonomy_group  info  \\\n",
       "0  Canis lupus familiaris  Chordata  Mammalia           None  None   \n",
       "\n",
       "                                            sequence  \\\n",
       "0  MGTEHGQQPQSGGRRGHGSGDKKSKKHSRRKETYSMYIYKVLKQVH...   \n",
       "\n",
       "  variant_under_consideration sequence_accession publication_id  \n",
       "0                        None               None           None  "
      ]
     },
     "execution_count": 132,
     "metadata": {},
     "output_type": "execute_result"
    }
   ],
   "source": [
    "query = (\n",
    "    \"SELECT * FROM sequence s LEFT JOIN sequence_has_publication sp \"\n",
    "    \"ON s.accession = sp.sequence_accession \"\n",
    "    f\"WHERE s.accession='{ACCESSION}'\"\n",
    ")\n",
    "cursor.execute(query)\n",
    "df = pd.DataFrame(cursor.fetchall(), columns=[i[0] for i in cursor.description])\n",
    "df"
   ]
  },
  {
   "cell_type": "markdown",
   "id": "b90ac063-f6c7-41a0-9ca8-e6409af74ec9",
   "metadata": {
    "tags": []
   },
   "source": [
    "## Add publication"
   ]
  },
  {
   "cell_type": "code",
   "execution_count": 133,
   "id": "bcfaa7a0-2163-448e-a7f5-0142f08ccb7e",
   "metadata": {
    "tags": []
   },
   "outputs": [
    {
     "data": {
      "text/html": [
       "<div>\n",
       "<style scoped>\n",
       "    .dataframe tbody tr th:only-of-type {\n",
       "        vertical-align: middle;\n",
       "    }\n",
       "\n",
       "    .dataframe tbody tr th {\n",
       "        vertical-align: top;\n",
       "    }\n",
       "\n",
       "    .dataframe thead th {\n",
       "        text-align: right;\n",
       "    }\n",
       "</style>\n",
       "<table border=\"1\" class=\"dataframe\">\n",
       "  <thead>\n",
       "    <tr style=\"text-align: right;\">\n",
       "      <th></th>\n",
       "      <th>id</th>\n",
       "      <th>title</th>\n",
       "      <th>doi</th>\n",
       "      <th>author</th>\n",
       "      <th>year</th>\n",
       "    </tr>\n",
       "  </thead>\n",
       "  <tbody>\n",
       "    <tr>\n",
       "      <th>0</th>\n",
       "      <td>35099534</td>\n",
       "      <td>None</td>\n",
       "      <td>None</td>\n",
       "      <td>None</td>\n",
       "      <td>None</td>\n",
       "    </tr>\n",
       "  </tbody>\n",
       "</table>\n",
       "</div>"
      ],
      "text/plain": [
       "         id title   doi author  year\n",
       "0  35099534  None  None   None  None"
      ]
     },
     "execution_count": 133,
     "metadata": {},
     "output_type": "execute_result"
    }
   ],
   "source": [
    "pid = \"35099534\"\n",
    "query = \"SELECT * FROM publication WHERE id='35099534'\"\n",
    "cursor.execute(query)\n",
    "pd.DataFrame(cursor.fetchall(), columns=[i[0] for i in cursor.description])"
   ]
  },
  {
   "cell_type": "code",
   "execution_count": 134,
   "id": "92af027b-e86e-4779-8267-dab856dbe052",
   "metadata": {
    "tags": []
   },
   "outputs": [],
   "source": [
    "cursor.execute(add_sequence_has_publication, (ACCESSION, pid))"
   ]
  },
  {
   "cell_type": "code",
   "execution_count": 135,
   "id": "34aeed2b-e0e0-4d36-84ed-b0f25cc58293",
   "metadata": {
    "tags": []
   },
   "outputs": [
    {
     "data": {
      "text/html": [
       "<div>\n",
       "<style scoped>\n",
       "    .dataframe tbody tr th:only-of-type {\n",
       "        vertical-align: middle;\n",
       "    }\n",
       "\n",
       "    .dataframe tbody tr th {\n",
       "        vertical-align: top;\n",
       "    }\n",
       "\n",
       "    .dataframe thead th {\n",
       "        text-align: right;\n",
       "    }\n",
       "</style>\n",
       "<table border=\"1\" class=\"dataframe\">\n",
       "  <thead>\n",
       "    <tr style=\"text-align: right;\">\n",
       "      <th></th>\n",
       "      <th>accession</th>\n",
       "      <th>variant</th>\n",
       "      <th>gi</th>\n",
       "      <th>ncbi_gene_id</th>\n",
       "      <th>hgnc_gene_name</th>\n",
       "      <th>taxonomy_id</th>\n",
       "      <th>organism</th>\n",
       "      <th>phylum</th>\n",
       "      <th>class</th>\n",
       "      <th>taxonomy_group</th>\n",
       "      <th>info</th>\n",
       "      <th>sequence</th>\n",
       "      <th>variant_under_consideration</th>\n",
       "      <th>sequence_accession</th>\n",
       "      <th>publication_id</th>\n",
       "    </tr>\n",
       "  </thead>\n",
       "  <tbody>\n",
       "    <tr>\n",
       "      <th>0</th>\n",
       "      <td>HISTDB_H2B_K_1</td>\n",
       "      <td>H2B.K</td>\n",
       "      <td>None</td>\n",
       "      <td>None</td>\n",
       "      <td>None</td>\n",
       "      <td>9615</td>\n",
       "      <td>Canis lupus familiaris</td>\n",
       "      <td>Chordata</td>\n",
       "      <td>Mammalia</td>\n",
       "      <td>None</td>\n",
       "      <td>None</td>\n",
       "      <td>MGTEHGQQPQSGGRRGHGSGDKKSKKHSRRKETYSMYIYKVLKQVH...</td>\n",
       "      <td>None</td>\n",
       "      <td>HISTDB_H2B_K_1</td>\n",
       "      <td>35099534</td>\n",
       "    </tr>\n",
       "  </tbody>\n",
       "</table>\n",
       "</div>"
      ],
      "text/plain": [
       "        accession variant    gi ncbi_gene_id hgnc_gene_name  taxonomy_id  \\\n",
       "0  HISTDB_H2B_K_1   H2B.K  None         None           None         9615   \n",
       "\n",
       "                 organism    phylum     class taxonomy_group  info  \\\n",
       "0  Canis lupus familiaris  Chordata  Mammalia           None  None   \n",
       "\n",
       "                                            sequence  \\\n",
       "0  MGTEHGQQPQSGGRRGHGSGDKKSKKHSRRKETYSMYIYKVLKQVH...   \n",
       "\n",
       "  variant_under_consideration sequence_accession publication_id  \n",
       "0                        None     HISTDB_H2B_K_1       35099534  "
      ]
     },
     "execution_count": 135,
     "metadata": {},
     "output_type": "execute_result"
    }
   ],
   "source": [
    "query = (\n",
    "    \"SELECT * FROM sequence s LEFT JOIN sequence_has_publication sp \"\n",
    "    \"ON s.accession = sp.sequence_accession \"\n",
    "    f\"WHERE s.accession='{ACCESSION}'\"\n",
    ")\n",
    "cursor.execute(query)\n",
    "df = pd.DataFrame(cursor.fetchall(), columns=[i[0] for i in cursor.description])\n",
    "df"
   ]
  },
  {
   "cell_type": "code",
   "execution_count": 136,
   "id": "67121c76-3965-4930-b104-babfab1d4f33",
   "metadata": {
    "tags": []
   },
   "outputs": [
    {
     "data": {
      "text/html": [
       "<div>\n",
       "<style scoped>\n",
       "    .dataframe tbody tr th:only-of-type {\n",
       "        vertical-align: middle;\n",
       "    }\n",
       "\n",
       "    .dataframe tbody tr th {\n",
       "        vertical-align: top;\n",
       "    }\n",
       "\n",
       "    .dataframe thead th {\n",
       "        text-align: right;\n",
       "    }\n",
       "</style>\n",
       "<table border=\"1\" class=\"dataframe\">\n",
       "  <thead>\n",
       "    <tr style=\"text-align: right;\">\n",
       "      <th></th>\n",
       "      <th>accession</th>\n",
       "      <th>variant</th>\n",
       "      <th>gi</th>\n",
       "      <th>ncbi_gene_id</th>\n",
       "      <th>hgnc_gene_name</th>\n",
       "      <th>taxonomy_id</th>\n",
       "      <th>organism</th>\n",
       "      <th>phylum</th>\n",
       "      <th>class</th>\n",
       "      <th>taxonomy_group</th>\n",
       "      <th>info</th>\n",
       "      <th>sequence</th>\n",
       "      <th>variant_under_consideration</th>\n",
       "      <th>sequence_accession</th>\n",
       "      <th>publication_id</th>\n",
       "    </tr>\n",
       "  </thead>\n",
       "  <tbody>\n",
       "    <tr>\n",
       "      <th>0</th>\n",
       "      <td>HISTDB_H2B_K_0</td>\n",
       "      <td>H2B.K</td>\n",
       "      <td>None</td>\n",
       "      <td>None</td>\n",
       "      <td>None</td>\n",
       "      <td>9940</td>\n",
       "      <td>Ovis aries</td>\n",
       "      <td>Chordata</td>\n",
       "      <td>Mammalia</td>\n",
       "      <td>None</td>\n",
       "      <td>None</td>\n",
       "      <td>MSAEHGQLQQAGGRRGRSPGDKKSRRRSRRKETYSMYIYKVLKQVH...</td>\n",
       "      <td>None</td>\n",
       "      <td>HISTDB_H2B_K_0</td>\n",
       "      <td>35099534</td>\n",
       "    </tr>\n",
       "    <tr>\n",
       "      <th>1</th>\n",
       "      <td>HISTDB_H2B_K_1</td>\n",
       "      <td>H2B.K</td>\n",
       "      <td>None</td>\n",
       "      <td>None</td>\n",
       "      <td>None</td>\n",
       "      <td>9615</td>\n",
       "      <td>Canis lupus familiaris</td>\n",
       "      <td>Chordata</td>\n",
       "      <td>Mammalia</td>\n",
       "      <td>None</td>\n",
       "      <td>None</td>\n",
       "      <td>MGTEHGQQPQSGGRRGHGSGDKKSKKHSRRKETYSMYIYKVLKQVH...</td>\n",
       "      <td>None</td>\n",
       "      <td>HISTDB_H2B_K_1</td>\n",
       "      <td>35099534</td>\n",
       "    </tr>\n",
       "    <tr>\n",
       "      <th>2</th>\n",
       "      <td>XP_002715119.2</td>\n",
       "      <td>H2B.K</td>\n",
       "      <td>None</td>\n",
       "      <td>None</td>\n",
       "      <td>None</td>\n",
       "      <td>9986</td>\n",
       "      <td>Oryctolagus cuniculus</td>\n",
       "      <td>Chordata</td>\n",
       "      <td>Mammalia</td>\n",
       "      <td>None</td>\n",
       "      <td>None</td>\n",
       "      <td>MSAERGQQQQQASSRRGRSSGNKKSRKRSKRKETYSMYIYKVLKQV...</td>\n",
       "      <td>None</td>\n",
       "      <td>XP_002715119.2</td>\n",
       "      <td>35099534</td>\n",
       "    </tr>\n",
       "    <tr>\n",
       "      <th>3</th>\n",
       "      <td>XP_005609614.1</td>\n",
       "      <td>H2B.K</td>\n",
       "      <td>None</td>\n",
       "      <td>None</td>\n",
       "      <td>None</td>\n",
       "      <td>9796</td>\n",
       "      <td>Equus caballus</td>\n",
       "      <td>Chordata</td>\n",
       "      <td>Mammalia</td>\n",
       "      <td>None</td>\n",
       "      <td>None</td>\n",
       "      <td>MSTEHGQQHQSGGRRGCSSGDKKSKKRSRRKETYSMYIYKVLKQVH...</td>\n",
       "      <td>None</td>\n",
       "      <td>XP_005609614.1</td>\n",
       "      <td>35099534</td>\n",
       "    </tr>\n",
       "    <tr>\n",
       "      <th>4</th>\n",
       "      <td>XP_010799227.1</td>\n",
       "      <td>H2B.K</td>\n",
       "      <td>None</td>\n",
       "      <td>None</td>\n",
       "      <td>None</td>\n",
       "      <td>9913</td>\n",
       "      <td>Bos taurus</td>\n",
       "      <td>Chordata</td>\n",
       "      <td>Mammalia</td>\n",
       "      <td>None</td>\n",
       "      <td>None</td>\n",
       "      <td>MSAEHGQLQQSGGRRGRSPGDKKSRRRSRRKETYSMYIYKVLKQVH...</td>\n",
       "      <td>None</td>\n",
       "      <td>XP_010799227.1</td>\n",
       "      <td>35099534</td>\n",
       "    </tr>\n",
       "    <tr>\n",
       "      <th>5</th>\n",
       "      <td>XP_013846203.1</td>\n",
       "      <td>H2B.K</td>\n",
       "      <td>None</td>\n",
       "      <td>None</td>\n",
       "      <td>None</td>\n",
       "      <td>9823</td>\n",
       "      <td>Sus scrofa</td>\n",
       "      <td>Chordata</td>\n",
       "      <td>Mammalia</td>\n",
       "      <td>None</td>\n",
       "      <td>None</td>\n",
       "      <td>MSSAHGQQQQQQQQQQQQQQQGGGRRGRSSGEKKSKKRNRRKETYS...</td>\n",
       "      <td>None</td>\n",
       "      <td>XP_013846203.1</td>\n",
       "      <td>35099534</td>\n",
       "    </tr>\n",
       "    <tr>\n",
       "      <th>6</th>\n",
       "      <td>XP_014643104.1</td>\n",
       "      <td>H2B.K</td>\n",
       "      <td>None</td>\n",
       "      <td>None</td>\n",
       "      <td>None</td>\n",
       "      <td>73337</td>\n",
       "      <td>Ceratotherium simum simum</td>\n",
       "      <td>Chordata</td>\n",
       "      <td>Mammalia</td>\n",
       "      <td>None</td>\n",
       "      <td>None</td>\n",
       "      <td>MSTEHGQQHHPGGRRGCSPGDKKFKKRSRRKETYSMYIYKVLKQVH...</td>\n",
       "      <td>None</td>\n",
       "      <td>XP_014643104.1</td>\n",
       "      <td>35099534</td>\n",
       "    </tr>\n",
       "    <tr>\n",
       "      <th>7</th>\n",
       "      <td>XP_019681595.1</td>\n",
       "      <td>H2B.K</td>\n",
       "      <td>None</td>\n",
       "      <td>None</td>\n",
       "      <td>None</td>\n",
       "      <td>9685</td>\n",
       "      <td>Felis catus</td>\n",
       "      <td>Chordata</td>\n",
       "      <td>Mammalia</td>\n",
       "      <td>None</td>\n",
       "      <td>None</td>\n",
       "      <td>MSAEHGQQQQSGGRRGRSSGDKKSKKRSRRKETYSMYIYKVLKQVH...</td>\n",
       "      <td>None</td>\n",
       "      <td>XP_019681595.1</td>\n",
       "      <td>35099534</td>\n",
       "    </tr>\n",
       "    <tr>\n",
       "      <th>8</th>\n",
       "      <td>XP_022259586.1</td>\n",
       "      <td>H2B.K</td>\n",
       "      <td>None</td>\n",
       "      <td>None</td>\n",
       "      <td>None</td>\n",
       "      <td>9615</td>\n",
       "      <td>Canis lupus familiaris</td>\n",
       "      <td>Chordata</td>\n",
       "      <td>Mammalia</td>\n",
       "      <td>None</td>\n",
       "      <td>None</td>\n",
       "      <td>MGAEHGQQPQSGGRRGRGSGDKKSKKRSRRKETYSMYIYKVLKQVH...</td>\n",
       "      <td>None</td>\n",
       "      <td>XP_022259586.1</td>\n",
       "      <td>35099534</td>\n",
       "    </tr>\n",
       "    <tr>\n",
       "      <th>9</th>\n",
       "      <td>XP_024846715.1</td>\n",
       "      <td>H2B.K</td>\n",
       "      <td>None</td>\n",
       "      <td>None</td>\n",
       "      <td>None</td>\n",
       "      <td>9913</td>\n",
       "      <td>Bos taurus</td>\n",
       "      <td>Chordata</td>\n",
       "      <td>Mammalia</td>\n",
       "      <td>None</td>\n",
       "      <td>None</td>\n",
       "      <td>MSAEHGQLQQSGGRRGRSPGDKKSRRRSRRKETYSMYIYKVLKQVH...</td>\n",
       "      <td>None</td>\n",
       "      <td>XP_024846715.1</td>\n",
       "      <td>35099534</td>\n",
       "    </tr>\n",
       "    <tr>\n",
       "      <th>10</th>\n",
       "      <td>XP_027824938.1</td>\n",
       "      <td>H2B.K</td>\n",
       "      <td>None</td>\n",
       "      <td>None</td>\n",
       "      <td>None</td>\n",
       "      <td>9940</td>\n",
       "      <td>Ovis aries</td>\n",
       "      <td>Chordata</td>\n",
       "      <td>Mammalia</td>\n",
       "      <td>None</td>\n",
       "      <td>None</td>\n",
       "      <td>MSAEHGQLQQSGGRRGRSPGDKKSRRRSRRKETYSMYIYKVLKQVH...</td>\n",
       "      <td>None</td>\n",
       "      <td>XP_027824938.1</td>\n",
       "      <td>35099534</td>\n",
       "    </tr>\n",
       "    <tr>\n",
       "      <th>11</th>\n",
       "      <td>XP_059747847.1</td>\n",
       "      <td>H2B.K</td>\n",
       "      <td>None</td>\n",
       "      <td>None</td>\n",
       "      <td>None</td>\n",
       "      <td>9913</td>\n",
       "      <td>Bos taurus</td>\n",
       "      <td>Chordata</td>\n",
       "      <td>Mammalia</td>\n",
       "      <td>None</td>\n",
       "      <td>None</td>\n",
       "      <td>MMDTRSSKLVCHNILRTRRMSAEHGQLQQSGGRRGRSPGDKKSRRR...</td>\n",
       "      <td>None</td>\n",
       "      <td>XP_059747847.1</td>\n",
       "      <td>35099534</td>\n",
       "    </tr>\n",
       "  </tbody>\n",
       "</table>\n",
       "</div>"
      ],
      "text/plain": [
       "         accession variant    gi ncbi_gene_id hgnc_gene_name  taxonomy_id  \\\n",
       "0   HISTDB_H2B_K_0   H2B.K  None         None           None         9940   \n",
       "1   HISTDB_H2B_K_1   H2B.K  None         None           None         9615   \n",
       "2   XP_002715119.2   H2B.K  None         None           None         9986   \n",
       "3   XP_005609614.1   H2B.K  None         None           None         9796   \n",
       "4   XP_010799227.1   H2B.K  None         None           None         9913   \n",
       "5   XP_013846203.1   H2B.K  None         None           None         9823   \n",
       "6   XP_014643104.1   H2B.K  None         None           None        73337   \n",
       "7   XP_019681595.1   H2B.K  None         None           None         9685   \n",
       "8   XP_022259586.1   H2B.K  None         None           None         9615   \n",
       "9   XP_024846715.1   H2B.K  None         None           None         9913   \n",
       "10  XP_027824938.1   H2B.K  None         None           None         9940   \n",
       "11  XP_059747847.1   H2B.K  None         None           None         9913   \n",
       "\n",
       "                     organism    phylum     class taxonomy_group  info  \\\n",
       "0                  Ovis aries  Chordata  Mammalia           None  None   \n",
       "1      Canis lupus familiaris  Chordata  Mammalia           None  None   \n",
       "2       Oryctolagus cuniculus  Chordata  Mammalia           None  None   \n",
       "3              Equus caballus  Chordata  Mammalia           None  None   \n",
       "4                  Bos taurus  Chordata  Mammalia           None  None   \n",
       "5                  Sus scrofa  Chordata  Mammalia           None  None   \n",
       "6   Ceratotherium simum simum  Chordata  Mammalia           None  None   \n",
       "7                 Felis catus  Chordata  Mammalia           None  None   \n",
       "8      Canis lupus familiaris  Chordata  Mammalia           None  None   \n",
       "9                  Bos taurus  Chordata  Mammalia           None  None   \n",
       "10                 Ovis aries  Chordata  Mammalia           None  None   \n",
       "11                 Bos taurus  Chordata  Mammalia           None  None   \n",
       "\n",
       "                                             sequence  \\\n",
       "0   MSAEHGQLQQAGGRRGRSPGDKKSRRRSRRKETYSMYIYKVLKQVH...   \n",
       "1   MGTEHGQQPQSGGRRGHGSGDKKSKKHSRRKETYSMYIYKVLKQVH...   \n",
       "2   MSAERGQQQQQASSRRGRSSGNKKSRKRSKRKETYSMYIYKVLKQV...   \n",
       "3   MSTEHGQQHQSGGRRGCSSGDKKSKKRSRRKETYSMYIYKVLKQVH...   \n",
       "4   MSAEHGQLQQSGGRRGRSPGDKKSRRRSRRKETYSMYIYKVLKQVH...   \n",
       "5   MSSAHGQQQQQQQQQQQQQQQGGGRRGRSSGEKKSKKRNRRKETYS...   \n",
       "6   MSTEHGQQHHPGGRRGCSPGDKKFKKRSRRKETYSMYIYKVLKQVH...   \n",
       "7   MSAEHGQQQQSGGRRGRSSGDKKSKKRSRRKETYSMYIYKVLKQVH...   \n",
       "8   MGAEHGQQPQSGGRRGRGSGDKKSKKRSRRKETYSMYIYKVLKQVH...   \n",
       "9   MSAEHGQLQQSGGRRGRSPGDKKSRRRSRRKETYSMYIYKVLKQVH...   \n",
       "10  MSAEHGQLQQSGGRRGRSPGDKKSRRRSRRKETYSMYIYKVLKQVH...   \n",
       "11  MMDTRSSKLVCHNILRTRRMSAEHGQLQQSGGRRGRSPGDKKSRRR...   \n",
       "\n",
       "   variant_under_consideration sequence_accession publication_id  \n",
       "0                         None     HISTDB_H2B_K_0       35099534  \n",
       "1                         None     HISTDB_H2B_K_1       35099534  \n",
       "2                         None     XP_002715119.2       35099534  \n",
       "3                         None     XP_005609614.1       35099534  \n",
       "4                         None     XP_010799227.1       35099534  \n",
       "5                         None     XP_013846203.1       35099534  \n",
       "6                         None     XP_014643104.1       35099534  \n",
       "7                         None     XP_019681595.1       35099534  \n",
       "8                         None     XP_022259586.1       35099534  \n",
       "9                         None     XP_024846715.1       35099534  \n",
       "10                        None     XP_027824938.1       35099534  \n",
       "11                        None     XP_059747847.1       35099534  "
      ]
     },
     "execution_count": 136,
     "metadata": {},
     "output_type": "execute_result"
    }
   ],
   "source": [
    "query = (\n",
    "    \"SELECT * FROM sequence s LEFT JOIN sequence_has_publication sp \"\n",
    "    \"ON s.accession = sp.sequence_accession \"\n",
    "    f\"WHERE s.variant='H2B.K'\"\n",
    ")\n",
    "cursor.execute(query)\n",
    "df = pd.DataFrame(cursor.fetchall(), columns=[i[0] for i in cursor.description])\n",
    "df"
   ]
  },
  {
   "cell_type": "code",
   "execution_count": 137,
   "id": "82542516-50aa-4b2b-b7fb-5af734f5e5ec",
   "metadata": {
    "tags": []
   },
   "outputs": [],
   "source": [
    "# Make sure data is committed to the database\n",
    "conn.commit()"
   ]
  },
  {
   "cell_type": "markdown",
   "id": "e84024d7-195f-4dbb-aaf0-422086cc291a",
   "metadata": {
    "jp-MarkdownHeadingCollapsed": true,
    "tags": []
   },
   "source": [
    "# Add panda H2B.K\n",
    "\n",
    "**Atricle:** https://academic.oup.com/mbe/article/39/2/msac019/6517784#333890704\n",
    "\n",
    "**Gene:** Ailuropoda melanoleuca, ailMel1, GL192435.1, ++, 2497397-2499608\n",
    "\n",
    "**Sequence from article:**\n",
    "```fasta\n",
    ">Panda_H2B.K\n",
    "MSAEHGRQQQPGGRRGRSSGDKKSRKRSRRKETYSMYIYKVLKQVHPDIGISSKAMSIMNSFVNDVFERLAGEAARLAQYSGRTTLTSREVQTAVRLLLPGELAKHAVSEGTKAVTKYTSSK\n",
    "```\n",
    "\n",
    "BLASTP has one result with 100% coverage and 100% identity.\n",
    "\n",
    "**Protein accession:** XP_019651116.1"
   ]
  },
  {
   "cell_type": "code",
   "execution_count": 153,
   "id": "36883f21-96a3-452d-8210-fca3c342ca04",
   "metadata": {
    "tags": []
   },
   "outputs": [],
   "source": [
    "ACCESSION = \"XP_019651116.1\""
   ]
  },
  {
   "cell_type": "markdown",
   "id": "376e1ef8-468e-4f01-ab17-3a9c559c4585",
   "metadata": {
    "tags": []
   },
   "source": [
    "## Get sequence XP_019651116.1 from NCBI"
   ]
  },
  {
   "cell_type": "code",
   "execution_count": 154,
   "id": "bb5d9b58-7e56-4db1-8f93-b76376217f05",
   "metadata": {
    "tags": []
   },
   "outputs": [
    {
     "name": "stdout",
     "output_type": "stream",
     "text": [
      "ID: XP_019651116.1\n",
      "Name: XP_019651116\n",
      "Description: late histone H2B.L4 [Ailuropoda melanoleuca]\n",
      "Database cross-references: BioProject:PRJNA633539\n",
      "Number of features: 7\n",
      "/topology=linear\n",
      "/data_file_division=MAM\n",
      "/date=26-MAY-2020\n",
      "/accessions=['XP_019651116']\n",
      "/sequence_version=1\n",
      "/db_source=REFSEQ: accession XM_019795557.2\n",
      "/keywords=['RefSeq']\n",
      "/source=Ailuropoda melanoleuca (giant panda)\n",
      "/organism=Ailuropoda melanoleuca\n",
      "/taxonomy=['Eukaryota', 'Metazoa', 'Chordata', 'Craniata', 'Vertebrata', 'Euteleostomi', 'Mammalia', 'Eutheria', 'Laurasiatheria', 'Carnivora', 'Caniformia', 'Ursidae', 'Ailuropoda']\n",
      "/comment=MODEL REFSEQ:  This record is predicted by automated computational\n",
      "analysis. This record is derived from a genomic sequence\n",
      "(NC_048218.1) annotated using gene prediction method: Gnomon.\n",
      "Also see:\n",
      "    Documentation of NCBI's Annotation Process\n",
      "COMPLETENESS: full length.\n",
      "/structured_comment=OrderedDict([('Genome-Annotation-Data', OrderedDict([('Annotation Provider', 'NCBI'), ('Annotation Status', 'Full annotation'), ('Annotation Name', 'Ailuropoda melanoleuca Annotation Release 103'), ('Annotation Version', '103'), ('Annotation Pipeline', 'NCBI eukaryotic genome annotation pipeline'), ('Annotation Software Version', '8.4'), ('Annotation Method', 'Best-placed RefSeq; Gnomon'), ('Features Annotated', 'Gene; mRNA; CDS; ncRNA')]))])\n",
      "/molecule_type=protein\n",
      "Seq('MSAEHGRQQQPGGRRGRSSGDKKSRKRSRRKETYSMYIYKVLKQVHPDIGISSK...SSK')\n"
     ]
    }
   ],
   "source": [
    "with Entrez.efetch(\n",
    "    db=\"protein\", id=ACCESSION, rettype=\"gb\", retmode=\"text\"\n",
    ") as handle:\n",
    "    record = SeqIO.read(handle, \"genbank\")\n",
    "    print(record)"
   ]
  },
  {
   "cell_type": "code",
   "execution_count": 155,
   "id": "75519d51-b406-44b5-b052-7264eaec427f",
   "metadata": {
    "tags": []
   },
   "outputs": [
    {
     "data": {
      "text/plain": [
       "'MSAEHGRQQQPGGRRGRSSGDKKSRKRSRRKETYSMYIYKVLKQVHPDIGISSKAMSIMNSFVNDVFERLAGEAARLAQYSGRTTLTSREVQTAVRLLLPGELAKHAVSEGTKAVTKYTSSK'"
      ]
     },
     "execution_count": 155,
     "metadata": {},
     "output_type": "execute_result"
    }
   ],
   "source": [
    "str(record.seq)"
   ]
  },
  {
   "cell_type": "code",
   "execution_count": 156,
   "id": "026ac822-e7b8-4346-bcab-b80d2d177eed",
   "metadata": {
    "tags": []
   },
   "outputs": [
    {
     "data": {
      "text/plain": [
       "'Ailuropoda melanoleuca'"
      ]
     },
     "execution_count": 156,
     "metadata": {},
     "output_type": "execute_result"
    }
   ],
   "source": [
    "record.annotations[\"organism\"]"
   ]
  },
  {
   "cell_type": "code",
   "execution_count": 157,
   "id": "3f3ca68c-225c-4828-be9d-e27d171a8331",
   "metadata": {
    "tags": []
   },
   "outputs": [
    {
     "name": "stdout",
     "output_type": "stream",
     "text": [
      "Fetched taxid from NCBI <built-in function id>\n"
     ]
    },
    {
     "data": {
      "text/plain": [
       "{'organism': 'Ailuropoda melanoleuca',\n",
       " 'taxonomy_id': 9646,\n",
       " 'phylum': 'Chordata',\n",
       " 'class': 'Mammalia'}"
      ]
     },
     "execution_count": 157,
     "metadata": {},
     "output_type": "execute_result"
    }
   ],
   "source": [
    "taxonomy_data = get_taxonomy_data(record)\n",
    "taxonomy_data"
   ]
  },
  {
   "cell_type": "markdown",
   "id": "20e439d7-3475-431e-b0db-fdbbb51809cf",
   "metadata": {},
   "source": [
    "## Adding XP_014643104.1"
   ]
  },
  {
   "cell_type": "code",
   "execution_count": 158,
   "id": "39c6de7a-5367-4b57-9b02-fe475a1eaab0",
   "metadata": {
    "tags": []
   },
   "outputs": [
    {
     "data": {
      "text/plain": [
       "{'accession': 'XP_019651116.1',\n",
       " 'variant': 'H2B.K',\n",
       " 'gi': None,\n",
       " 'ncbi_gene_id': None,\n",
       " 'hgnc_gene_name': None,\n",
       " 'taxonomy_id': 9646,\n",
       " 'organism': 'Ailuropoda melanoleuca',\n",
       " 'phylum': 'Chordata',\n",
       " 'class': 'Mammalia',\n",
       " 'taxonomy_group': None,\n",
       " 'info': None,\n",
       " 'sequence': 'MSAEHGRQQQPGGRRGRSSGDKKSRKRSRRKETYSMYIYKVLKQVHPDIGISSKAMSIMNSFVNDVFERLAGEAARLAQYSGRTTLTSREVQTAVRLLLPGELAKHAVSEGTKAVTKYTSSK',\n",
       " 'variant_under_consideration': None}"
      ]
     },
     "execution_count": 158,
     "metadata": {},
     "output_type": "execute_result"
    }
   ],
   "source": [
    "data_sequence = {\n",
    "    \"accession\": ACCESSION,\n",
    "    \"variant\": \"H2B.K\",\n",
    "    \"gi\": None,\n",
    "    \"ncbi_gene_id\": None,\n",
    "    \"hgnc_gene_name\": None,\n",
    "    \"taxonomy_id\": None,\n",
    "    \"organism\": None,\n",
    "    \"phylum\": None,\n",
    "    \"class\": None,\n",
    "    \"taxonomy_group\": None,\n",
    "    \"info\": None,\n",
    "    \"sequence\": str(record.seq),\n",
    "    \"variant_under_consideration\": None,\n",
    "}\n",
    "data_sequence.update(taxonomy_data)\n",
    "data_sequence"
   ]
  },
  {
   "cell_type": "code",
   "execution_count": 159,
   "id": "fe801b06-6ab3-43a6-abe0-ddf278eb8805",
   "metadata": {
    "tags": []
   },
   "outputs": [
    {
     "name": "stdout",
     "output_type": "stream",
     "text": [
      "accession <class 'str'>\n",
      "variant <class 'str'>\n",
      "gi <class 'NoneType'>\n",
      "ncbi_gene_id <class 'NoneType'>\n",
      "hgnc_gene_name <class 'NoneType'>\n",
      "taxonomy_id <class 'int'>\n",
      "organism <class 'str'>\n",
      "phylum <class 'str'>\n",
      "class <class 'str'>\n",
      "taxonomy_group <class 'NoneType'>\n",
      "info <class 'NoneType'>\n",
      "sequence <class 'str'>\n",
      "variant_under_consideration <class 'NoneType'>\n"
     ]
    }
   ],
   "source": [
    "for k, v in data_sequence.items():\n",
    "    print(k, type(v))"
   ]
  },
  {
   "cell_type": "code",
   "execution_count": 160,
   "id": "d753423e-bf95-45cb-8c2c-8a1cd9ea74bb",
   "metadata": {
    "tags": []
   },
   "outputs": [],
   "source": [
    "cursor.execute(add_sequence, data_sequence)"
   ]
  },
  {
   "cell_type": "code",
   "execution_count": 161,
   "id": "9d22b62b-e78f-4467-b0c7-fbdd80013b15",
   "metadata": {
    "tags": []
   },
   "outputs": [
    {
     "data": {
      "text/html": [
       "<div>\n",
       "<style scoped>\n",
       "    .dataframe tbody tr th:only-of-type {\n",
       "        vertical-align: middle;\n",
       "    }\n",
       "\n",
       "    .dataframe tbody tr th {\n",
       "        vertical-align: top;\n",
       "    }\n",
       "\n",
       "    .dataframe thead th {\n",
       "        text-align: right;\n",
       "    }\n",
       "</style>\n",
       "<table border=\"1\" class=\"dataframe\">\n",
       "  <thead>\n",
       "    <tr style=\"text-align: right;\">\n",
       "      <th></th>\n",
       "      <th>accession</th>\n",
       "      <th>variant</th>\n",
       "      <th>gi</th>\n",
       "      <th>ncbi_gene_id</th>\n",
       "      <th>hgnc_gene_name</th>\n",
       "      <th>taxonomy_id</th>\n",
       "      <th>organism</th>\n",
       "      <th>phylum</th>\n",
       "      <th>class</th>\n",
       "      <th>taxonomy_group</th>\n",
       "      <th>info</th>\n",
       "      <th>sequence</th>\n",
       "      <th>variant_under_consideration</th>\n",
       "      <th>sequence_accession</th>\n",
       "      <th>publication_id</th>\n",
       "    </tr>\n",
       "  </thead>\n",
       "  <tbody>\n",
       "    <tr>\n",
       "      <th>0</th>\n",
       "      <td>XP_019651116.1</td>\n",
       "      <td>H2B.K</td>\n",
       "      <td>None</td>\n",
       "      <td>None</td>\n",
       "      <td>None</td>\n",
       "      <td>9646</td>\n",
       "      <td>Ailuropoda melanoleuca</td>\n",
       "      <td>Chordata</td>\n",
       "      <td>Mammalia</td>\n",
       "      <td>None</td>\n",
       "      <td>None</td>\n",
       "      <td>MSAEHGRQQQPGGRRGRSSGDKKSRKRSRRKETYSMYIYKVLKQVH...</td>\n",
       "      <td>None</td>\n",
       "      <td>None</td>\n",
       "      <td>None</td>\n",
       "    </tr>\n",
       "  </tbody>\n",
       "</table>\n",
       "</div>"
      ],
      "text/plain": [
       "        accession variant    gi ncbi_gene_id hgnc_gene_name  taxonomy_id  \\\n",
       "0  XP_019651116.1   H2B.K  None         None           None         9646   \n",
       "\n",
       "                 organism    phylum     class taxonomy_group  info  \\\n",
       "0  Ailuropoda melanoleuca  Chordata  Mammalia           None  None   \n",
       "\n",
       "                                            sequence  \\\n",
       "0  MSAEHGRQQQPGGRRGRSSGDKKSRKRSRRKETYSMYIYKVLKQVH...   \n",
       "\n",
       "  variant_under_consideration sequence_accession publication_id  \n",
       "0                        None               None           None  "
      ]
     },
     "execution_count": 161,
     "metadata": {},
     "output_type": "execute_result"
    }
   ],
   "source": [
    "query = (\n",
    "    \"SELECT * FROM sequence s LEFT JOIN sequence_has_publication sp \"\n",
    "    \"ON s.accession = sp.sequence_accession \"\n",
    "    f\"WHERE s.accession='{ACCESSION}'\"\n",
    ")\n",
    "cursor.execute(query)\n",
    "df = pd.DataFrame(cursor.fetchall(), columns=[i[0] for i in cursor.description])\n",
    "df"
   ]
  },
  {
   "cell_type": "markdown",
   "id": "295ffb3a-22d7-4d47-8d0a-137dc2245c5e",
   "metadata": {},
   "source": [
    "## Add publication"
   ]
  },
  {
   "cell_type": "code",
   "execution_count": 162,
   "id": "9e3cdff8-4653-465d-999b-0e7717c69785",
   "metadata": {
    "tags": []
   },
   "outputs": [
    {
     "data": {
      "text/html": [
       "<div>\n",
       "<style scoped>\n",
       "    .dataframe tbody tr th:only-of-type {\n",
       "        vertical-align: middle;\n",
       "    }\n",
       "\n",
       "    .dataframe tbody tr th {\n",
       "        vertical-align: top;\n",
       "    }\n",
       "\n",
       "    .dataframe thead th {\n",
       "        text-align: right;\n",
       "    }\n",
       "</style>\n",
       "<table border=\"1\" class=\"dataframe\">\n",
       "  <thead>\n",
       "    <tr style=\"text-align: right;\">\n",
       "      <th></th>\n",
       "      <th>id</th>\n",
       "      <th>title</th>\n",
       "      <th>doi</th>\n",
       "      <th>author</th>\n",
       "      <th>year</th>\n",
       "    </tr>\n",
       "  </thead>\n",
       "  <tbody>\n",
       "    <tr>\n",
       "      <th>0</th>\n",
       "      <td>35099534</td>\n",
       "      <td>None</td>\n",
       "      <td>None</td>\n",
       "      <td>None</td>\n",
       "      <td>None</td>\n",
       "    </tr>\n",
       "  </tbody>\n",
       "</table>\n",
       "</div>"
      ],
      "text/plain": [
       "         id title   doi author  year\n",
       "0  35099534  None  None   None  None"
      ]
     },
     "execution_count": 162,
     "metadata": {},
     "output_type": "execute_result"
    }
   ],
   "source": [
    "pid = \"35099534\"\n",
    "query = \"SELECT * FROM publication WHERE id='35099534'\"\n",
    "cursor.execute(query)\n",
    "pd.DataFrame(cursor.fetchall(), columns=[i[0] for i in cursor.description])"
   ]
  },
  {
   "cell_type": "code",
   "execution_count": 163,
   "id": "8b78df6d-2f77-48c1-ae21-bc513bb5fcbf",
   "metadata": {
    "tags": []
   },
   "outputs": [],
   "source": [
    "cursor.execute(add_sequence_has_publication, (ACCESSION, pid))"
   ]
  },
  {
   "cell_type": "code",
   "execution_count": 164,
   "id": "6c0631c8-39c6-45d9-8cd2-82d1ec6ca233",
   "metadata": {
    "tags": []
   },
   "outputs": [
    {
     "data": {
      "text/html": [
       "<div>\n",
       "<style scoped>\n",
       "    .dataframe tbody tr th:only-of-type {\n",
       "        vertical-align: middle;\n",
       "    }\n",
       "\n",
       "    .dataframe tbody tr th {\n",
       "        vertical-align: top;\n",
       "    }\n",
       "\n",
       "    .dataframe thead th {\n",
       "        text-align: right;\n",
       "    }\n",
       "</style>\n",
       "<table border=\"1\" class=\"dataframe\">\n",
       "  <thead>\n",
       "    <tr style=\"text-align: right;\">\n",
       "      <th></th>\n",
       "      <th>accession</th>\n",
       "      <th>variant</th>\n",
       "      <th>gi</th>\n",
       "      <th>ncbi_gene_id</th>\n",
       "      <th>hgnc_gene_name</th>\n",
       "      <th>taxonomy_id</th>\n",
       "      <th>organism</th>\n",
       "      <th>phylum</th>\n",
       "      <th>class</th>\n",
       "      <th>taxonomy_group</th>\n",
       "      <th>info</th>\n",
       "      <th>sequence</th>\n",
       "      <th>variant_under_consideration</th>\n",
       "      <th>sequence_accession</th>\n",
       "      <th>publication_id</th>\n",
       "    </tr>\n",
       "  </thead>\n",
       "  <tbody>\n",
       "    <tr>\n",
       "      <th>0</th>\n",
       "      <td>XP_019651116.1</td>\n",
       "      <td>H2B.K</td>\n",
       "      <td>None</td>\n",
       "      <td>None</td>\n",
       "      <td>None</td>\n",
       "      <td>9646</td>\n",
       "      <td>Ailuropoda melanoleuca</td>\n",
       "      <td>Chordata</td>\n",
       "      <td>Mammalia</td>\n",
       "      <td>None</td>\n",
       "      <td>None</td>\n",
       "      <td>MSAEHGRQQQPGGRRGRSSGDKKSRKRSRRKETYSMYIYKVLKQVH...</td>\n",
       "      <td>None</td>\n",
       "      <td>XP_019651116.1</td>\n",
       "      <td>35099534</td>\n",
       "    </tr>\n",
       "  </tbody>\n",
       "</table>\n",
       "</div>"
      ],
      "text/plain": [
       "        accession variant    gi ncbi_gene_id hgnc_gene_name  taxonomy_id  \\\n",
       "0  XP_019651116.1   H2B.K  None         None           None         9646   \n",
       "\n",
       "                 organism    phylum     class taxonomy_group  info  \\\n",
       "0  Ailuropoda melanoleuca  Chordata  Mammalia           None  None   \n",
       "\n",
       "                                            sequence  \\\n",
       "0  MSAEHGRQQQPGGRRGRSSGDKKSRKRSRRKETYSMYIYKVLKQVH...   \n",
       "\n",
       "  variant_under_consideration sequence_accession publication_id  \n",
       "0                        None     XP_019651116.1       35099534  "
      ]
     },
     "execution_count": 164,
     "metadata": {},
     "output_type": "execute_result"
    }
   ],
   "source": [
    "query = (\n",
    "    \"SELECT * FROM sequence s LEFT JOIN sequence_has_publication sp \"\n",
    "    \"ON s.accession = sp.sequence_accession \"\n",
    "    f\"WHERE s.accession='{ACCESSION}'\"\n",
    ")\n",
    "cursor.execute(query)\n",
    "df = pd.DataFrame(cursor.fetchall(), columns=[i[0] for i in cursor.description])\n",
    "df"
   ]
  },
  {
   "cell_type": "code",
   "execution_count": 165,
   "id": "f36db050-e72b-4829-9f3f-9d572d242e9e",
   "metadata": {
    "tags": []
   },
   "outputs": [
    {
     "data": {
      "text/html": [
       "<div>\n",
       "<style scoped>\n",
       "    .dataframe tbody tr th:only-of-type {\n",
       "        vertical-align: middle;\n",
       "    }\n",
       "\n",
       "    .dataframe tbody tr th {\n",
       "        vertical-align: top;\n",
       "    }\n",
       "\n",
       "    .dataframe thead th {\n",
       "        text-align: right;\n",
       "    }\n",
       "</style>\n",
       "<table border=\"1\" class=\"dataframe\">\n",
       "  <thead>\n",
       "    <tr style=\"text-align: right;\">\n",
       "      <th></th>\n",
       "      <th>accession</th>\n",
       "      <th>variant</th>\n",
       "      <th>gi</th>\n",
       "      <th>ncbi_gene_id</th>\n",
       "      <th>hgnc_gene_name</th>\n",
       "      <th>taxonomy_id</th>\n",
       "      <th>organism</th>\n",
       "      <th>phylum</th>\n",
       "      <th>class</th>\n",
       "      <th>taxonomy_group</th>\n",
       "      <th>info</th>\n",
       "      <th>sequence</th>\n",
       "      <th>variant_under_consideration</th>\n",
       "      <th>sequence_accession</th>\n",
       "      <th>publication_id</th>\n",
       "    </tr>\n",
       "  </thead>\n",
       "  <tbody>\n",
       "    <tr>\n",
       "      <th>0</th>\n",
       "      <td>HISTDB_H2B_K_0</td>\n",
       "      <td>H2B.K</td>\n",
       "      <td>None</td>\n",
       "      <td>None</td>\n",
       "      <td>None</td>\n",
       "      <td>9940</td>\n",
       "      <td>Ovis aries</td>\n",
       "      <td>Chordata</td>\n",
       "      <td>Mammalia</td>\n",
       "      <td>None</td>\n",
       "      <td>None</td>\n",
       "      <td>MSAEHGQLQQAGGRRGRSPGDKKSRRRSRRKETYSMYIYKVLKQVH...</td>\n",
       "      <td>None</td>\n",
       "      <td>HISTDB_H2B_K_0</td>\n",
       "      <td>35099534</td>\n",
       "    </tr>\n",
       "    <tr>\n",
       "      <th>1</th>\n",
       "      <td>HISTDB_H2B_K_1</td>\n",
       "      <td>H2B.K</td>\n",
       "      <td>None</td>\n",
       "      <td>None</td>\n",
       "      <td>None</td>\n",
       "      <td>9615</td>\n",
       "      <td>Canis lupus familiaris</td>\n",
       "      <td>Chordata</td>\n",
       "      <td>Mammalia</td>\n",
       "      <td>None</td>\n",
       "      <td>None</td>\n",
       "      <td>MGTEHGQQPQSGGRRGHGSGDKKSKKHSRRKETYSMYIYKVLKQVH...</td>\n",
       "      <td>None</td>\n",
       "      <td>HISTDB_H2B_K_1</td>\n",
       "      <td>35099534</td>\n",
       "    </tr>\n",
       "    <tr>\n",
       "      <th>2</th>\n",
       "      <td>XP_002715119.2</td>\n",
       "      <td>H2B.K</td>\n",
       "      <td>None</td>\n",
       "      <td>None</td>\n",
       "      <td>None</td>\n",
       "      <td>9986</td>\n",
       "      <td>Oryctolagus cuniculus</td>\n",
       "      <td>Chordata</td>\n",
       "      <td>Mammalia</td>\n",
       "      <td>None</td>\n",
       "      <td>None</td>\n",
       "      <td>MSAERGQQQQQASSRRGRSSGNKKSRKRSKRKETYSMYIYKVLKQV...</td>\n",
       "      <td>None</td>\n",
       "      <td>XP_002715119.2</td>\n",
       "      <td>35099534</td>\n",
       "    </tr>\n",
       "    <tr>\n",
       "      <th>3</th>\n",
       "      <td>XP_005609614.1</td>\n",
       "      <td>H2B.K</td>\n",
       "      <td>None</td>\n",
       "      <td>None</td>\n",
       "      <td>None</td>\n",
       "      <td>9796</td>\n",
       "      <td>Equus caballus</td>\n",
       "      <td>Chordata</td>\n",
       "      <td>Mammalia</td>\n",
       "      <td>None</td>\n",
       "      <td>None</td>\n",
       "      <td>MSTEHGQQHQSGGRRGCSSGDKKSKKRSRRKETYSMYIYKVLKQVH...</td>\n",
       "      <td>None</td>\n",
       "      <td>XP_005609614.1</td>\n",
       "      <td>35099534</td>\n",
       "    </tr>\n",
       "    <tr>\n",
       "      <th>4</th>\n",
       "      <td>XP_010799227.1</td>\n",
       "      <td>H2B.K</td>\n",
       "      <td>None</td>\n",
       "      <td>None</td>\n",
       "      <td>None</td>\n",
       "      <td>9913</td>\n",
       "      <td>Bos taurus</td>\n",
       "      <td>Chordata</td>\n",
       "      <td>Mammalia</td>\n",
       "      <td>None</td>\n",
       "      <td>None</td>\n",
       "      <td>MSAEHGQLQQSGGRRGRSPGDKKSRRRSRRKETYSMYIYKVLKQVH...</td>\n",
       "      <td>None</td>\n",
       "      <td>XP_010799227.1</td>\n",
       "      <td>35099534</td>\n",
       "    </tr>\n",
       "    <tr>\n",
       "      <th>5</th>\n",
       "      <td>XP_013846203.1</td>\n",
       "      <td>H2B.K</td>\n",
       "      <td>None</td>\n",
       "      <td>None</td>\n",
       "      <td>None</td>\n",
       "      <td>9823</td>\n",
       "      <td>Sus scrofa</td>\n",
       "      <td>Chordata</td>\n",
       "      <td>Mammalia</td>\n",
       "      <td>None</td>\n",
       "      <td>None</td>\n",
       "      <td>MSSAHGQQQQQQQQQQQQQQQGGGRRGRSSGEKKSKKRNRRKETYS...</td>\n",
       "      <td>None</td>\n",
       "      <td>XP_013846203.1</td>\n",
       "      <td>35099534</td>\n",
       "    </tr>\n",
       "    <tr>\n",
       "      <th>6</th>\n",
       "      <td>XP_014643104.1</td>\n",
       "      <td>H2B.K</td>\n",
       "      <td>None</td>\n",
       "      <td>None</td>\n",
       "      <td>None</td>\n",
       "      <td>73337</td>\n",
       "      <td>Ceratotherium simum simum</td>\n",
       "      <td>Chordata</td>\n",
       "      <td>Mammalia</td>\n",
       "      <td>None</td>\n",
       "      <td>None</td>\n",
       "      <td>MSTEHGQQHHPGGRRGCSPGDKKFKKRSRRKETYSMYIYKVLKQVH...</td>\n",
       "      <td>None</td>\n",
       "      <td>XP_014643104.1</td>\n",
       "      <td>35099534</td>\n",
       "    </tr>\n",
       "    <tr>\n",
       "      <th>7</th>\n",
       "      <td>XP_019651116.1</td>\n",
       "      <td>H2B.K</td>\n",
       "      <td>None</td>\n",
       "      <td>None</td>\n",
       "      <td>None</td>\n",
       "      <td>9646</td>\n",
       "      <td>Ailuropoda melanoleuca</td>\n",
       "      <td>Chordata</td>\n",
       "      <td>Mammalia</td>\n",
       "      <td>None</td>\n",
       "      <td>None</td>\n",
       "      <td>MSAEHGRQQQPGGRRGRSSGDKKSRKRSRRKETYSMYIYKVLKQVH...</td>\n",
       "      <td>None</td>\n",
       "      <td>XP_019651116.1</td>\n",
       "      <td>35099534</td>\n",
       "    </tr>\n",
       "    <tr>\n",
       "      <th>8</th>\n",
       "      <td>XP_019681595.1</td>\n",
       "      <td>H2B.K</td>\n",
       "      <td>None</td>\n",
       "      <td>None</td>\n",
       "      <td>None</td>\n",
       "      <td>9685</td>\n",
       "      <td>Felis catus</td>\n",
       "      <td>Chordata</td>\n",
       "      <td>Mammalia</td>\n",
       "      <td>None</td>\n",
       "      <td>None</td>\n",
       "      <td>MSAEHGQQQQSGGRRGRSSGDKKSKKRSRRKETYSMYIYKVLKQVH...</td>\n",
       "      <td>None</td>\n",
       "      <td>XP_019681595.1</td>\n",
       "      <td>35099534</td>\n",
       "    </tr>\n",
       "    <tr>\n",
       "      <th>9</th>\n",
       "      <td>XP_022259586.1</td>\n",
       "      <td>H2B.K</td>\n",
       "      <td>None</td>\n",
       "      <td>None</td>\n",
       "      <td>None</td>\n",
       "      <td>9615</td>\n",
       "      <td>Canis lupus familiaris</td>\n",
       "      <td>Chordata</td>\n",
       "      <td>Mammalia</td>\n",
       "      <td>None</td>\n",
       "      <td>None</td>\n",
       "      <td>MGAEHGQQPQSGGRRGRGSGDKKSKKRSRRKETYSMYIYKVLKQVH...</td>\n",
       "      <td>None</td>\n",
       "      <td>XP_022259586.1</td>\n",
       "      <td>35099534</td>\n",
       "    </tr>\n",
       "    <tr>\n",
       "      <th>10</th>\n",
       "      <td>XP_024846715.1</td>\n",
       "      <td>H2B.K</td>\n",
       "      <td>None</td>\n",
       "      <td>None</td>\n",
       "      <td>None</td>\n",
       "      <td>9913</td>\n",
       "      <td>Bos taurus</td>\n",
       "      <td>Chordata</td>\n",
       "      <td>Mammalia</td>\n",
       "      <td>None</td>\n",
       "      <td>None</td>\n",
       "      <td>MSAEHGQLQQSGGRRGRSPGDKKSRRRSRRKETYSMYIYKVLKQVH...</td>\n",
       "      <td>None</td>\n",
       "      <td>XP_024846715.1</td>\n",
       "      <td>35099534</td>\n",
       "    </tr>\n",
       "    <tr>\n",
       "      <th>11</th>\n",
       "      <td>XP_027824938.1</td>\n",
       "      <td>H2B.K</td>\n",
       "      <td>None</td>\n",
       "      <td>None</td>\n",
       "      <td>None</td>\n",
       "      <td>9940</td>\n",
       "      <td>Ovis aries</td>\n",
       "      <td>Chordata</td>\n",
       "      <td>Mammalia</td>\n",
       "      <td>None</td>\n",
       "      <td>None</td>\n",
       "      <td>MSAEHGQLQQSGGRRGRSPGDKKSRRRSRRKETYSMYIYKVLKQVH...</td>\n",
       "      <td>None</td>\n",
       "      <td>XP_027824938.1</td>\n",
       "      <td>35099534</td>\n",
       "    </tr>\n",
       "    <tr>\n",
       "      <th>12</th>\n",
       "      <td>XP_059747847.1</td>\n",
       "      <td>H2B.K</td>\n",
       "      <td>None</td>\n",
       "      <td>None</td>\n",
       "      <td>None</td>\n",
       "      <td>9913</td>\n",
       "      <td>Bos taurus</td>\n",
       "      <td>Chordata</td>\n",
       "      <td>Mammalia</td>\n",
       "      <td>None</td>\n",
       "      <td>None</td>\n",
       "      <td>MMDTRSSKLVCHNILRTRRMSAEHGQLQQSGGRRGRSPGDKKSRRR...</td>\n",
       "      <td>None</td>\n",
       "      <td>XP_059747847.1</td>\n",
       "      <td>35099534</td>\n",
       "    </tr>\n",
       "  </tbody>\n",
       "</table>\n",
       "</div>"
      ],
      "text/plain": [
       "         accession variant    gi ncbi_gene_id hgnc_gene_name  taxonomy_id  \\\n",
       "0   HISTDB_H2B_K_0   H2B.K  None         None           None         9940   \n",
       "1   HISTDB_H2B_K_1   H2B.K  None         None           None         9615   \n",
       "2   XP_002715119.2   H2B.K  None         None           None         9986   \n",
       "3   XP_005609614.1   H2B.K  None         None           None         9796   \n",
       "4   XP_010799227.1   H2B.K  None         None           None         9913   \n",
       "5   XP_013846203.1   H2B.K  None         None           None         9823   \n",
       "6   XP_014643104.1   H2B.K  None         None           None        73337   \n",
       "7   XP_019651116.1   H2B.K  None         None           None         9646   \n",
       "8   XP_019681595.1   H2B.K  None         None           None         9685   \n",
       "9   XP_022259586.1   H2B.K  None         None           None         9615   \n",
       "10  XP_024846715.1   H2B.K  None         None           None         9913   \n",
       "11  XP_027824938.1   H2B.K  None         None           None         9940   \n",
       "12  XP_059747847.1   H2B.K  None         None           None         9913   \n",
       "\n",
       "                     organism    phylum     class taxonomy_group  info  \\\n",
       "0                  Ovis aries  Chordata  Mammalia           None  None   \n",
       "1      Canis lupus familiaris  Chordata  Mammalia           None  None   \n",
       "2       Oryctolagus cuniculus  Chordata  Mammalia           None  None   \n",
       "3              Equus caballus  Chordata  Mammalia           None  None   \n",
       "4                  Bos taurus  Chordata  Mammalia           None  None   \n",
       "5                  Sus scrofa  Chordata  Mammalia           None  None   \n",
       "6   Ceratotherium simum simum  Chordata  Mammalia           None  None   \n",
       "7      Ailuropoda melanoleuca  Chordata  Mammalia           None  None   \n",
       "8                 Felis catus  Chordata  Mammalia           None  None   \n",
       "9      Canis lupus familiaris  Chordata  Mammalia           None  None   \n",
       "10                 Bos taurus  Chordata  Mammalia           None  None   \n",
       "11                 Ovis aries  Chordata  Mammalia           None  None   \n",
       "12                 Bos taurus  Chordata  Mammalia           None  None   \n",
       "\n",
       "                                             sequence  \\\n",
       "0   MSAEHGQLQQAGGRRGRSPGDKKSRRRSRRKETYSMYIYKVLKQVH...   \n",
       "1   MGTEHGQQPQSGGRRGHGSGDKKSKKHSRRKETYSMYIYKVLKQVH...   \n",
       "2   MSAERGQQQQQASSRRGRSSGNKKSRKRSKRKETYSMYIYKVLKQV...   \n",
       "3   MSTEHGQQHQSGGRRGCSSGDKKSKKRSRRKETYSMYIYKVLKQVH...   \n",
       "4   MSAEHGQLQQSGGRRGRSPGDKKSRRRSRRKETYSMYIYKVLKQVH...   \n",
       "5   MSSAHGQQQQQQQQQQQQQQQGGGRRGRSSGEKKSKKRNRRKETYS...   \n",
       "6   MSTEHGQQHHPGGRRGCSPGDKKFKKRSRRKETYSMYIYKVLKQVH...   \n",
       "7   MSAEHGRQQQPGGRRGRSSGDKKSRKRSRRKETYSMYIYKVLKQVH...   \n",
       "8   MSAEHGQQQQSGGRRGRSSGDKKSKKRSRRKETYSMYIYKVLKQVH...   \n",
       "9   MGAEHGQQPQSGGRRGRGSGDKKSKKRSRRKETYSMYIYKVLKQVH...   \n",
       "10  MSAEHGQLQQSGGRRGRSPGDKKSRRRSRRKETYSMYIYKVLKQVH...   \n",
       "11  MSAEHGQLQQSGGRRGRSPGDKKSRRRSRRKETYSMYIYKVLKQVH...   \n",
       "12  MMDTRSSKLVCHNILRTRRMSAEHGQLQQSGGRRGRSPGDKKSRRR...   \n",
       "\n",
       "   variant_under_consideration sequence_accession publication_id  \n",
       "0                         None     HISTDB_H2B_K_0       35099534  \n",
       "1                         None     HISTDB_H2B_K_1       35099534  \n",
       "2                         None     XP_002715119.2       35099534  \n",
       "3                         None     XP_005609614.1       35099534  \n",
       "4                         None     XP_010799227.1       35099534  \n",
       "5                         None     XP_013846203.1       35099534  \n",
       "6                         None     XP_014643104.1       35099534  \n",
       "7                         None     XP_019651116.1       35099534  \n",
       "8                         None     XP_019681595.1       35099534  \n",
       "9                         None     XP_022259586.1       35099534  \n",
       "10                        None     XP_024846715.1       35099534  \n",
       "11                        None     XP_027824938.1       35099534  \n",
       "12                        None     XP_059747847.1       35099534  "
      ]
     },
     "execution_count": 165,
     "metadata": {},
     "output_type": "execute_result"
    }
   ],
   "source": [
    "query = (\n",
    "    \"SELECT * FROM sequence s LEFT JOIN sequence_has_publication sp \"\n",
    "    \"ON s.accession = sp.sequence_accession \"\n",
    "    f\"WHERE s.variant='H2B.K'\"\n",
    ")\n",
    "cursor.execute(query)\n",
    "df = pd.DataFrame(cursor.fetchall(), columns=[i[0] for i in cursor.description])\n",
    "df"
   ]
  },
  {
   "cell_type": "code",
   "execution_count": 166,
   "id": "39c1ef1a-0fdd-4156-9959-250b9dc7c3ca",
   "metadata": {
    "tags": []
   },
   "outputs": [],
   "source": [
    "# Make sure data is committed to the database\n",
    "conn.commit()"
   ]
  },
  {
   "cell_type": "markdown",
   "id": "35d315bd-3529-4783-94af-ccb9232b6666",
   "metadata": {
    "jp-MarkdownHeadingCollapsed": true,
    "tags": []
   },
   "source": [
    "# Add elephant H2B.K\n",
    "\n",
    "**Atricle:** https://academic.oup.com/mbe/article/39/2/msac019/6517784#333890704\n",
    "\n",
    "**Gene:** Loxodonta africana, loxAfr3, scaffold_12, +-, 59810077-59812441\n",
    "\n",
    "**Sequence from article:**\n",
    "```fasta\n",
    ">Elephant_H2B.K\n",
    "MSAELGQQQQQQQSGGQRGRSSGDKKPKKRSRRKENYSVYIYKVLKQVHPDISISSKAMSIMNSFVNDVFERLAGEATRLAQYSGRTTLTSREVQTAARLLLPGELAKHAVSEGTKAVTKYISSK\n",
    "```\n",
    "\n",
    "BLASTP has one result with 100% coverage and 100% identity.\n",
    "\n",
    "**Protein accession:** XP_023403847.1"
   ]
  },
  {
   "cell_type": "code",
   "execution_count": 167,
   "id": "a97b570e-0d14-4c5c-8ee1-5af6d007561d",
   "metadata": {
    "tags": []
   },
   "outputs": [],
   "source": [
    "ACCESSION = \"XP_023403847.1\""
   ]
  },
  {
   "cell_type": "markdown",
   "id": "005998ec-8f3a-45ec-bd58-9b705e3a1784",
   "metadata": {
    "tags": []
   },
   "source": [
    "## Get sequence XP_023403847.1 from NCBI"
   ]
  },
  {
   "cell_type": "code",
   "execution_count": 168,
   "id": "a7a5e7eb-7378-44c6-a806-f3e8228aaca5",
   "metadata": {
    "tags": []
   },
   "outputs": [
    {
     "name": "stdout",
     "output_type": "stream",
     "text": [
      "ID: XP_023403847.1\n",
      "Name: XP_023403847\n",
      "Description: histone H2B type 2-K1 [Loxodonta africana]\n",
      "Database cross-references: BioProject:PRJNA1092696\n",
      "Number of features: 7\n",
      "/topology=linear\n",
      "/data_file_division=MAM\n",
      "/date=05-APR-2024\n",
      "/accessions=['XP_023403847']\n",
      "/sequence_version=1\n",
      "/db_source=REFSEQ: accession XM_023548079.2\n",
      "/keywords=['RefSeq']\n",
      "/source=Loxodonta africana (African savanna elephant)\n",
      "/organism=Loxodonta africana\n",
      "/taxonomy=['Eukaryota', 'Metazoa', 'Chordata', 'Craniata', 'Vertebrata', 'Euteleostomi', 'Mammalia', 'Eutheria', 'Afrotheria', 'Proboscidea', 'Elephantidae', 'Loxodonta']\n",
      "/comment=MODEL REFSEQ:  This record is predicted by automated computational\n",
      "analysis. This record is derived from a genomic sequence\n",
      "(NC_087363) annotated using gene prediction method: Gnomon.\n",
      "Also see:\n",
      "    Documentation of NCBI's Annotation Process\n",
      "COMPLETENESS: full length.\n",
      "/structured_comment=OrderedDict([('Genome-Annotation-Data', OrderedDict([('Annotation Provider', 'NCBI RefSeq'), ('Annotation Status', 'Full annotation'), ('Annotation Name', 'GCF_030014295.1-RS_2024_04'), ('Annotation Pipeline', 'NCBI eukaryotic genome annotation pipeline'), ('Annotation Software Version', '10.2'), ('Annotation Method', 'Best-placed RefSeq; Gnomon; cmsearch; tRNAscan-SE'), ('Features Annotated', 'Gene; mRNA; CDS; ncRNA'), ('Annotation Date', '04/02/2024')]))])\n",
      "/molecule_type=protein\n",
      "Seq('MSAELGQQQQQQQSGGQRGRSSGDKKPKKRSRRKENYSVYIYKVLKQVHPDISI...SSK')\n"
     ]
    }
   ],
   "source": [
    "with Entrez.efetch(\n",
    "    db=\"protein\", id=ACCESSION, rettype=\"gb\", retmode=\"text\"\n",
    ") as handle:\n",
    "    record = SeqIO.read(handle, \"genbank\")\n",
    "    print(record)"
   ]
  },
  {
   "cell_type": "code",
   "execution_count": 169,
   "id": "4fb45497-5d9b-4e95-84b8-13093f04cdeb",
   "metadata": {
    "tags": []
   },
   "outputs": [
    {
     "data": {
      "text/plain": [
       "'MSAELGQQQQQQQSGGQRGRSSGDKKPKKRSRRKENYSVYIYKVLKQVHPDISISSKAMSIMNSFVNDVFERLAGEATRLAQYSGRTTLTSREVQTAARLLLPGELAKHAVSEGTKAVTKYISSK'"
      ]
     },
     "execution_count": 169,
     "metadata": {},
     "output_type": "execute_result"
    }
   ],
   "source": [
    "str(record.seq)"
   ]
  },
  {
   "cell_type": "code",
   "execution_count": 170,
   "id": "9156b039-e212-4faf-b717-3cbdc9c6763e",
   "metadata": {
    "tags": []
   },
   "outputs": [
    {
     "data": {
      "text/plain": [
       "'Loxodonta africana'"
      ]
     },
     "execution_count": 170,
     "metadata": {},
     "output_type": "execute_result"
    }
   ],
   "source": [
    "record.annotations[\"organism\"]"
   ]
  },
  {
   "cell_type": "code",
   "execution_count": 171,
   "id": "6b3b0bd4-29d4-4095-a543-723b8a33e2b5",
   "metadata": {
    "tags": []
   },
   "outputs": [
    {
     "name": "stdout",
     "output_type": "stream",
     "text": [
      "Fetched taxid from NCBI <built-in function id>\n"
     ]
    },
    {
     "data": {
      "text/plain": [
       "{'organism': 'Loxodonta africana',\n",
       " 'taxonomy_id': 9785,\n",
       " 'phylum': 'Chordata',\n",
       " 'class': 'Mammalia'}"
      ]
     },
     "execution_count": 171,
     "metadata": {},
     "output_type": "execute_result"
    }
   ],
   "source": [
    "taxonomy_data = get_taxonomy_data(record)\n",
    "taxonomy_data"
   ]
  },
  {
   "cell_type": "markdown",
   "id": "a94e561c-5550-498b-8dcf-5c289d793efc",
   "metadata": {},
   "source": [
    "## Adding XP_023403847.1"
   ]
  },
  {
   "cell_type": "code",
   "execution_count": 172,
   "id": "4ffa9218-2b6f-40d1-a51a-91416f582fbc",
   "metadata": {
    "tags": []
   },
   "outputs": [
    {
     "data": {
      "text/plain": [
       "{'accession': 'XP_023403847.1',\n",
       " 'variant': 'H2B.K',\n",
       " 'gi': None,\n",
       " 'ncbi_gene_id': None,\n",
       " 'hgnc_gene_name': None,\n",
       " 'taxonomy_id': 9785,\n",
       " 'organism': 'Loxodonta africana',\n",
       " 'phylum': 'Chordata',\n",
       " 'class': 'Mammalia',\n",
       " 'taxonomy_group': None,\n",
       " 'info': None,\n",
       " 'sequence': 'MSAELGQQQQQQQSGGQRGRSSGDKKPKKRSRRKENYSVYIYKVLKQVHPDISISSKAMSIMNSFVNDVFERLAGEATRLAQYSGRTTLTSREVQTAARLLLPGELAKHAVSEGTKAVTKYISSK',\n",
       " 'variant_under_consideration': None}"
      ]
     },
     "execution_count": 172,
     "metadata": {},
     "output_type": "execute_result"
    }
   ],
   "source": [
    "data_sequence = {\n",
    "    \"accession\": ACCESSION,\n",
    "    \"variant\": \"H2B.K\",\n",
    "    \"gi\": None,\n",
    "    \"ncbi_gene_id\": None,\n",
    "    \"hgnc_gene_name\": None,\n",
    "    \"taxonomy_id\": None,\n",
    "    \"organism\": None,\n",
    "    \"phylum\": None,\n",
    "    \"class\": None,\n",
    "    \"taxonomy_group\": None,\n",
    "    \"info\": None,\n",
    "    \"sequence\": str(record.seq),\n",
    "    \"variant_under_consideration\": None,\n",
    "}\n",
    "data_sequence.update(taxonomy_data)\n",
    "data_sequence"
   ]
  },
  {
   "cell_type": "code",
   "execution_count": 173,
   "id": "cf56e9cc-27f8-4592-99b7-d49abea249f6",
   "metadata": {
    "tags": []
   },
   "outputs": [
    {
     "name": "stdout",
     "output_type": "stream",
     "text": [
      "accession <class 'str'>\n",
      "variant <class 'str'>\n",
      "gi <class 'NoneType'>\n",
      "ncbi_gene_id <class 'NoneType'>\n",
      "hgnc_gene_name <class 'NoneType'>\n",
      "taxonomy_id <class 'int'>\n",
      "organism <class 'str'>\n",
      "phylum <class 'str'>\n",
      "class <class 'str'>\n",
      "taxonomy_group <class 'NoneType'>\n",
      "info <class 'NoneType'>\n",
      "sequence <class 'str'>\n",
      "variant_under_consideration <class 'NoneType'>\n"
     ]
    }
   ],
   "source": [
    "for k, v in data_sequence.items():\n",
    "    print(k, type(v))"
   ]
  },
  {
   "cell_type": "code",
   "execution_count": 174,
   "id": "25a52455-65eb-4a77-a835-46e3526bea0f",
   "metadata": {
    "tags": []
   },
   "outputs": [],
   "source": [
    "cursor.execute(add_sequence, data_sequence)"
   ]
  },
  {
   "cell_type": "code",
   "execution_count": 175,
   "id": "debc27a8-0ce7-4797-86ec-d205511e4d5b",
   "metadata": {
    "tags": []
   },
   "outputs": [
    {
     "data": {
      "text/html": [
       "<div>\n",
       "<style scoped>\n",
       "    .dataframe tbody tr th:only-of-type {\n",
       "        vertical-align: middle;\n",
       "    }\n",
       "\n",
       "    .dataframe tbody tr th {\n",
       "        vertical-align: top;\n",
       "    }\n",
       "\n",
       "    .dataframe thead th {\n",
       "        text-align: right;\n",
       "    }\n",
       "</style>\n",
       "<table border=\"1\" class=\"dataframe\">\n",
       "  <thead>\n",
       "    <tr style=\"text-align: right;\">\n",
       "      <th></th>\n",
       "      <th>accession</th>\n",
       "      <th>variant</th>\n",
       "      <th>gi</th>\n",
       "      <th>ncbi_gene_id</th>\n",
       "      <th>hgnc_gene_name</th>\n",
       "      <th>taxonomy_id</th>\n",
       "      <th>organism</th>\n",
       "      <th>phylum</th>\n",
       "      <th>class</th>\n",
       "      <th>taxonomy_group</th>\n",
       "      <th>info</th>\n",
       "      <th>sequence</th>\n",
       "      <th>variant_under_consideration</th>\n",
       "      <th>sequence_accession</th>\n",
       "      <th>publication_id</th>\n",
       "    </tr>\n",
       "  </thead>\n",
       "  <tbody>\n",
       "    <tr>\n",
       "      <th>0</th>\n",
       "      <td>XP_023403847.1</td>\n",
       "      <td>H2B.K</td>\n",
       "      <td>None</td>\n",
       "      <td>None</td>\n",
       "      <td>None</td>\n",
       "      <td>9785</td>\n",
       "      <td>Loxodonta africana</td>\n",
       "      <td>Chordata</td>\n",
       "      <td>Mammalia</td>\n",
       "      <td>None</td>\n",
       "      <td>None</td>\n",
       "      <td>MSAELGQQQQQQQSGGQRGRSSGDKKPKKRSRRKENYSVYIYKVLK...</td>\n",
       "      <td>None</td>\n",
       "      <td>None</td>\n",
       "      <td>None</td>\n",
       "    </tr>\n",
       "  </tbody>\n",
       "</table>\n",
       "</div>"
      ],
      "text/plain": [
       "        accession variant    gi ncbi_gene_id hgnc_gene_name  taxonomy_id  \\\n",
       "0  XP_023403847.1   H2B.K  None         None           None         9785   \n",
       "\n",
       "             organism    phylum     class taxonomy_group  info  \\\n",
       "0  Loxodonta africana  Chordata  Mammalia           None  None   \n",
       "\n",
       "                                            sequence  \\\n",
       "0  MSAELGQQQQQQQSGGQRGRSSGDKKPKKRSRRKENYSVYIYKVLK...   \n",
       "\n",
       "  variant_under_consideration sequence_accession publication_id  \n",
       "0                        None               None           None  "
      ]
     },
     "execution_count": 175,
     "metadata": {},
     "output_type": "execute_result"
    }
   ],
   "source": [
    "query = (\n",
    "    \"SELECT * FROM sequence s LEFT JOIN sequence_has_publication sp \"\n",
    "    \"ON s.accession = sp.sequence_accession \"\n",
    "    f\"WHERE s.accession='{ACCESSION}'\"\n",
    ")\n",
    "cursor.execute(query)\n",
    "df = pd.DataFrame(cursor.fetchall(), columns=[i[0] for i in cursor.description])\n",
    "df"
   ]
  },
  {
   "cell_type": "markdown",
   "id": "0e5c04bd-4427-4ce0-a251-f9b021116200",
   "metadata": {},
   "source": [
    "## Add publication"
   ]
  },
  {
   "cell_type": "code",
   "execution_count": 176,
   "id": "24ebecd6-bc63-4b60-b561-66a83d744f70",
   "metadata": {
    "tags": []
   },
   "outputs": [
    {
     "data": {
      "text/html": [
       "<div>\n",
       "<style scoped>\n",
       "    .dataframe tbody tr th:only-of-type {\n",
       "        vertical-align: middle;\n",
       "    }\n",
       "\n",
       "    .dataframe tbody tr th {\n",
       "        vertical-align: top;\n",
       "    }\n",
       "\n",
       "    .dataframe thead th {\n",
       "        text-align: right;\n",
       "    }\n",
       "</style>\n",
       "<table border=\"1\" class=\"dataframe\">\n",
       "  <thead>\n",
       "    <tr style=\"text-align: right;\">\n",
       "      <th></th>\n",
       "      <th>id</th>\n",
       "      <th>title</th>\n",
       "      <th>doi</th>\n",
       "      <th>author</th>\n",
       "      <th>year</th>\n",
       "    </tr>\n",
       "  </thead>\n",
       "  <tbody>\n",
       "    <tr>\n",
       "      <th>0</th>\n",
       "      <td>35099534</td>\n",
       "      <td>None</td>\n",
       "      <td>None</td>\n",
       "      <td>None</td>\n",
       "      <td>None</td>\n",
       "    </tr>\n",
       "  </tbody>\n",
       "</table>\n",
       "</div>"
      ],
      "text/plain": [
       "         id title   doi author  year\n",
       "0  35099534  None  None   None  None"
      ]
     },
     "execution_count": 176,
     "metadata": {},
     "output_type": "execute_result"
    }
   ],
   "source": [
    "pid = \"35099534\"\n",
    "query = \"SELECT * FROM publication WHERE id='35099534'\"\n",
    "cursor.execute(query)\n",
    "pd.DataFrame(cursor.fetchall(), columns=[i[0] for i in cursor.description])"
   ]
  },
  {
   "cell_type": "code",
   "execution_count": 177,
   "id": "5b255d19-ea72-4544-8b05-e05693986ebc",
   "metadata": {
    "tags": []
   },
   "outputs": [],
   "source": [
    "cursor.execute(add_sequence_has_publication, (ACCESSION, pid))"
   ]
  },
  {
   "cell_type": "code",
   "execution_count": 178,
   "id": "3c0cd69d-7d91-4874-bf14-bfaa249f1614",
   "metadata": {
    "tags": []
   },
   "outputs": [
    {
     "data": {
      "text/html": [
       "<div>\n",
       "<style scoped>\n",
       "    .dataframe tbody tr th:only-of-type {\n",
       "        vertical-align: middle;\n",
       "    }\n",
       "\n",
       "    .dataframe tbody tr th {\n",
       "        vertical-align: top;\n",
       "    }\n",
       "\n",
       "    .dataframe thead th {\n",
       "        text-align: right;\n",
       "    }\n",
       "</style>\n",
       "<table border=\"1\" class=\"dataframe\">\n",
       "  <thead>\n",
       "    <tr style=\"text-align: right;\">\n",
       "      <th></th>\n",
       "      <th>accession</th>\n",
       "      <th>variant</th>\n",
       "      <th>gi</th>\n",
       "      <th>ncbi_gene_id</th>\n",
       "      <th>hgnc_gene_name</th>\n",
       "      <th>taxonomy_id</th>\n",
       "      <th>organism</th>\n",
       "      <th>phylum</th>\n",
       "      <th>class</th>\n",
       "      <th>taxonomy_group</th>\n",
       "      <th>info</th>\n",
       "      <th>sequence</th>\n",
       "      <th>variant_under_consideration</th>\n",
       "      <th>sequence_accession</th>\n",
       "      <th>publication_id</th>\n",
       "    </tr>\n",
       "  </thead>\n",
       "  <tbody>\n",
       "    <tr>\n",
       "      <th>0</th>\n",
       "      <td>XP_023403847.1</td>\n",
       "      <td>H2B.K</td>\n",
       "      <td>None</td>\n",
       "      <td>None</td>\n",
       "      <td>None</td>\n",
       "      <td>9785</td>\n",
       "      <td>Loxodonta africana</td>\n",
       "      <td>Chordata</td>\n",
       "      <td>Mammalia</td>\n",
       "      <td>None</td>\n",
       "      <td>None</td>\n",
       "      <td>MSAELGQQQQQQQSGGQRGRSSGDKKPKKRSRRKENYSVYIYKVLK...</td>\n",
       "      <td>None</td>\n",
       "      <td>XP_023403847.1</td>\n",
       "      <td>35099534</td>\n",
       "    </tr>\n",
       "  </tbody>\n",
       "</table>\n",
       "</div>"
      ],
      "text/plain": [
       "        accession variant    gi ncbi_gene_id hgnc_gene_name  taxonomy_id  \\\n",
       "0  XP_023403847.1   H2B.K  None         None           None         9785   \n",
       "\n",
       "             organism    phylum     class taxonomy_group  info  \\\n",
       "0  Loxodonta africana  Chordata  Mammalia           None  None   \n",
       "\n",
       "                                            sequence  \\\n",
       "0  MSAELGQQQQQQQSGGQRGRSSGDKKPKKRSRRKENYSVYIYKVLK...   \n",
       "\n",
       "  variant_under_consideration sequence_accession publication_id  \n",
       "0                        None     XP_023403847.1       35099534  "
      ]
     },
     "execution_count": 178,
     "metadata": {},
     "output_type": "execute_result"
    }
   ],
   "source": [
    "query = (\n",
    "    \"SELECT * FROM sequence s LEFT JOIN sequence_has_publication sp \"\n",
    "    \"ON s.accession = sp.sequence_accession \"\n",
    "    f\"WHERE s.accession='{ACCESSION}'\"\n",
    ")\n",
    "cursor.execute(query)\n",
    "df = pd.DataFrame(cursor.fetchall(), columns=[i[0] for i in cursor.description])\n",
    "df"
   ]
  },
  {
   "cell_type": "code",
   "execution_count": 179,
   "id": "95d1f986-6366-4040-8a04-7edc29744f97",
   "metadata": {
    "tags": []
   },
   "outputs": [
    {
     "data": {
      "text/html": [
       "<div>\n",
       "<style scoped>\n",
       "    .dataframe tbody tr th:only-of-type {\n",
       "        vertical-align: middle;\n",
       "    }\n",
       "\n",
       "    .dataframe tbody tr th {\n",
       "        vertical-align: top;\n",
       "    }\n",
       "\n",
       "    .dataframe thead th {\n",
       "        text-align: right;\n",
       "    }\n",
       "</style>\n",
       "<table border=\"1\" class=\"dataframe\">\n",
       "  <thead>\n",
       "    <tr style=\"text-align: right;\">\n",
       "      <th></th>\n",
       "      <th>accession</th>\n",
       "      <th>variant</th>\n",
       "      <th>gi</th>\n",
       "      <th>ncbi_gene_id</th>\n",
       "      <th>hgnc_gene_name</th>\n",
       "      <th>taxonomy_id</th>\n",
       "      <th>organism</th>\n",
       "      <th>phylum</th>\n",
       "      <th>class</th>\n",
       "      <th>taxonomy_group</th>\n",
       "      <th>info</th>\n",
       "      <th>sequence</th>\n",
       "      <th>variant_under_consideration</th>\n",
       "      <th>sequence_accession</th>\n",
       "      <th>publication_id</th>\n",
       "    </tr>\n",
       "  </thead>\n",
       "  <tbody>\n",
       "    <tr>\n",
       "      <th>0</th>\n",
       "      <td>HISTDB_H2B_K_0</td>\n",
       "      <td>H2B.K</td>\n",
       "      <td>None</td>\n",
       "      <td>None</td>\n",
       "      <td>None</td>\n",
       "      <td>9940</td>\n",
       "      <td>Ovis aries</td>\n",
       "      <td>Chordata</td>\n",
       "      <td>Mammalia</td>\n",
       "      <td>None</td>\n",
       "      <td>None</td>\n",
       "      <td>MSAEHGQLQQAGGRRGRSPGDKKSRRRSRRKETYSMYIYKVLKQVH...</td>\n",
       "      <td>None</td>\n",
       "      <td>HISTDB_H2B_K_0</td>\n",
       "      <td>35099534</td>\n",
       "    </tr>\n",
       "    <tr>\n",
       "      <th>1</th>\n",
       "      <td>HISTDB_H2B_K_1</td>\n",
       "      <td>H2B.K</td>\n",
       "      <td>None</td>\n",
       "      <td>None</td>\n",
       "      <td>None</td>\n",
       "      <td>9615</td>\n",
       "      <td>Canis lupus familiaris</td>\n",
       "      <td>Chordata</td>\n",
       "      <td>Mammalia</td>\n",
       "      <td>None</td>\n",
       "      <td>None</td>\n",
       "      <td>MGTEHGQQPQSGGRRGHGSGDKKSKKHSRRKETYSMYIYKVLKQVH...</td>\n",
       "      <td>None</td>\n",
       "      <td>HISTDB_H2B_K_1</td>\n",
       "      <td>35099534</td>\n",
       "    </tr>\n",
       "    <tr>\n",
       "      <th>2</th>\n",
       "      <td>XP_002715119.2</td>\n",
       "      <td>H2B.K</td>\n",
       "      <td>None</td>\n",
       "      <td>None</td>\n",
       "      <td>None</td>\n",
       "      <td>9986</td>\n",
       "      <td>Oryctolagus cuniculus</td>\n",
       "      <td>Chordata</td>\n",
       "      <td>Mammalia</td>\n",
       "      <td>None</td>\n",
       "      <td>None</td>\n",
       "      <td>MSAERGQQQQQASSRRGRSSGNKKSRKRSKRKETYSMYIYKVLKQV...</td>\n",
       "      <td>None</td>\n",
       "      <td>XP_002715119.2</td>\n",
       "      <td>35099534</td>\n",
       "    </tr>\n",
       "    <tr>\n",
       "      <th>3</th>\n",
       "      <td>XP_005609614.1</td>\n",
       "      <td>H2B.K</td>\n",
       "      <td>None</td>\n",
       "      <td>None</td>\n",
       "      <td>None</td>\n",
       "      <td>9796</td>\n",
       "      <td>Equus caballus</td>\n",
       "      <td>Chordata</td>\n",
       "      <td>Mammalia</td>\n",
       "      <td>None</td>\n",
       "      <td>None</td>\n",
       "      <td>MSTEHGQQHQSGGRRGCSSGDKKSKKRSRRKETYSMYIYKVLKQVH...</td>\n",
       "      <td>None</td>\n",
       "      <td>XP_005609614.1</td>\n",
       "      <td>35099534</td>\n",
       "    </tr>\n",
       "    <tr>\n",
       "      <th>4</th>\n",
       "      <td>XP_010799227.1</td>\n",
       "      <td>H2B.K</td>\n",
       "      <td>None</td>\n",
       "      <td>None</td>\n",
       "      <td>None</td>\n",
       "      <td>9913</td>\n",
       "      <td>Bos taurus</td>\n",
       "      <td>Chordata</td>\n",
       "      <td>Mammalia</td>\n",
       "      <td>None</td>\n",
       "      <td>None</td>\n",
       "      <td>MSAEHGQLQQSGGRRGRSPGDKKSRRRSRRKETYSMYIYKVLKQVH...</td>\n",
       "      <td>None</td>\n",
       "      <td>XP_010799227.1</td>\n",
       "      <td>35099534</td>\n",
       "    </tr>\n",
       "    <tr>\n",
       "      <th>5</th>\n",
       "      <td>XP_013846203.1</td>\n",
       "      <td>H2B.K</td>\n",
       "      <td>None</td>\n",
       "      <td>None</td>\n",
       "      <td>None</td>\n",
       "      <td>9823</td>\n",
       "      <td>Sus scrofa</td>\n",
       "      <td>Chordata</td>\n",
       "      <td>Mammalia</td>\n",
       "      <td>None</td>\n",
       "      <td>None</td>\n",
       "      <td>MSSAHGQQQQQQQQQQQQQQQGGGRRGRSSGEKKSKKRNRRKETYS...</td>\n",
       "      <td>None</td>\n",
       "      <td>XP_013846203.1</td>\n",
       "      <td>35099534</td>\n",
       "    </tr>\n",
       "    <tr>\n",
       "      <th>6</th>\n",
       "      <td>XP_014643104.1</td>\n",
       "      <td>H2B.K</td>\n",
       "      <td>None</td>\n",
       "      <td>None</td>\n",
       "      <td>None</td>\n",
       "      <td>73337</td>\n",
       "      <td>Ceratotherium simum simum</td>\n",
       "      <td>Chordata</td>\n",
       "      <td>Mammalia</td>\n",
       "      <td>None</td>\n",
       "      <td>None</td>\n",
       "      <td>MSTEHGQQHHPGGRRGCSPGDKKFKKRSRRKETYSMYIYKVLKQVH...</td>\n",
       "      <td>None</td>\n",
       "      <td>XP_014643104.1</td>\n",
       "      <td>35099534</td>\n",
       "    </tr>\n",
       "    <tr>\n",
       "      <th>7</th>\n",
       "      <td>XP_019651116.1</td>\n",
       "      <td>H2B.K</td>\n",
       "      <td>None</td>\n",
       "      <td>None</td>\n",
       "      <td>None</td>\n",
       "      <td>9646</td>\n",
       "      <td>Ailuropoda melanoleuca</td>\n",
       "      <td>Chordata</td>\n",
       "      <td>Mammalia</td>\n",
       "      <td>None</td>\n",
       "      <td>None</td>\n",
       "      <td>MSAEHGRQQQPGGRRGRSSGDKKSRKRSRRKETYSMYIYKVLKQVH...</td>\n",
       "      <td>None</td>\n",
       "      <td>XP_019651116.1</td>\n",
       "      <td>35099534</td>\n",
       "    </tr>\n",
       "    <tr>\n",
       "      <th>8</th>\n",
       "      <td>XP_019681595.1</td>\n",
       "      <td>H2B.K</td>\n",
       "      <td>None</td>\n",
       "      <td>None</td>\n",
       "      <td>None</td>\n",
       "      <td>9685</td>\n",
       "      <td>Felis catus</td>\n",
       "      <td>Chordata</td>\n",
       "      <td>Mammalia</td>\n",
       "      <td>None</td>\n",
       "      <td>None</td>\n",
       "      <td>MSAEHGQQQQSGGRRGRSSGDKKSKKRSRRKETYSMYIYKVLKQVH...</td>\n",
       "      <td>None</td>\n",
       "      <td>XP_019681595.1</td>\n",
       "      <td>35099534</td>\n",
       "    </tr>\n",
       "    <tr>\n",
       "      <th>9</th>\n",
       "      <td>XP_022259586.1</td>\n",
       "      <td>H2B.K</td>\n",
       "      <td>None</td>\n",
       "      <td>None</td>\n",
       "      <td>None</td>\n",
       "      <td>9615</td>\n",
       "      <td>Canis lupus familiaris</td>\n",
       "      <td>Chordata</td>\n",
       "      <td>Mammalia</td>\n",
       "      <td>None</td>\n",
       "      <td>None</td>\n",
       "      <td>MGAEHGQQPQSGGRRGRGSGDKKSKKRSRRKETYSMYIYKVLKQVH...</td>\n",
       "      <td>None</td>\n",
       "      <td>XP_022259586.1</td>\n",
       "      <td>35099534</td>\n",
       "    </tr>\n",
       "    <tr>\n",
       "      <th>10</th>\n",
       "      <td>XP_023403847.1</td>\n",
       "      <td>H2B.K</td>\n",
       "      <td>None</td>\n",
       "      <td>None</td>\n",
       "      <td>None</td>\n",
       "      <td>9785</td>\n",
       "      <td>Loxodonta africana</td>\n",
       "      <td>Chordata</td>\n",
       "      <td>Mammalia</td>\n",
       "      <td>None</td>\n",
       "      <td>None</td>\n",
       "      <td>MSAELGQQQQQQQSGGQRGRSSGDKKPKKRSRRKENYSVYIYKVLK...</td>\n",
       "      <td>None</td>\n",
       "      <td>XP_023403847.1</td>\n",
       "      <td>35099534</td>\n",
       "    </tr>\n",
       "    <tr>\n",
       "      <th>11</th>\n",
       "      <td>XP_024846715.1</td>\n",
       "      <td>H2B.K</td>\n",
       "      <td>None</td>\n",
       "      <td>None</td>\n",
       "      <td>None</td>\n",
       "      <td>9913</td>\n",
       "      <td>Bos taurus</td>\n",
       "      <td>Chordata</td>\n",
       "      <td>Mammalia</td>\n",
       "      <td>None</td>\n",
       "      <td>None</td>\n",
       "      <td>MSAEHGQLQQSGGRRGRSPGDKKSRRRSRRKETYSMYIYKVLKQVH...</td>\n",
       "      <td>None</td>\n",
       "      <td>XP_024846715.1</td>\n",
       "      <td>35099534</td>\n",
       "    </tr>\n",
       "    <tr>\n",
       "      <th>12</th>\n",
       "      <td>XP_027824938.1</td>\n",
       "      <td>H2B.K</td>\n",
       "      <td>None</td>\n",
       "      <td>None</td>\n",
       "      <td>None</td>\n",
       "      <td>9940</td>\n",
       "      <td>Ovis aries</td>\n",
       "      <td>Chordata</td>\n",
       "      <td>Mammalia</td>\n",
       "      <td>None</td>\n",
       "      <td>None</td>\n",
       "      <td>MSAEHGQLQQSGGRRGRSPGDKKSRRRSRRKETYSMYIYKVLKQVH...</td>\n",
       "      <td>None</td>\n",
       "      <td>XP_027824938.1</td>\n",
       "      <td>35099534</td>\n",
       "    </tr>\n",
       "    <tr>\n",
       "      <th>13</th>\n",
       "      <td>XP_059747847.1</td>\n",
       "      <td>H2B.K</td>\n",
       "      <td>None</td>\n",
       "      <td>None</td>\n",
       "      <td>None</td>\n",
       "      <td>9913</td>\n",
       "      <td>Bos taurus</td>\n",
       "      <td>Chordata</td>\n",
       "      <td>Mammalia</td>\n",
       "      <td>None</td>\n",
       "      <td>None</td>\n",
       "      <td>MMDTRSSKLVCHNILRTRRMSAEHGQLQQSGGRRGRSPGDKKSRRR...</td>\n",
       "      <td>None</td>\n",
       "      <td>XP_059747847.1</td>\n",
       "      <td>35099534</td>\n",
       "    </tr>\n",
       "  </tbody>\n",
       "</table>\n",
       "</div>"
      ],
      "text/plain": [
       "         accession variant    gi ncbi_gene_id hgnc_gene_name  taxonomy_id  \\\n",
       "0   HISTDB_H2B_K_0   H2B.K  None         None           None         9940   \n",
       "1   HISTDB_H2B_K_1   H2B.K  None         None           None         9615   \n",
       "2   XP_002715119.2   H2B.K  None         None           None         9986   \n",
       "3   XP_005609614.1   H2B.K  None         None           None         9796   \n",
       "4   XP_010799227.1   H2B.K  None         None           None         9913   \n",
       "5   XP_013846203.1   H2B.K  None         None           None         9823   \n",
       "6   XP_014643104.1   H2B.K  None         None           None        73337   \n",
       "7   XP_019651116.1   H2B.K  None         None           None         9646   \n",
       "8   XP_019681595.1   H2B.K  None         None           None         9685   \n",
       "9   XP_022259586.1   H2B.K  None         None           None         9615   \n",
       "10  XP_023403847.1   H2B.K  None         None           None         9785   \n",
       "11  XP_024846715.1   H2B.K  None         None           None         9913   \n",
       "12  XP_027824938.1   H2B.K  None         None           None         9940   \n",
       "13  XP_059747847.1   H2B.K  None         None           None         9913   \n",
       "\n",
       "                     organism    phylum     class taxonomy_group  info  \\\n",
       "0                  Ovis aries  Chordata  Mammalia           None  None   \n",
       "1      Canis lupus familiaris  Chordata  Mammalia           None  None   \n",
       "2       Oryctolagus cuniculus  Chordata  Mammalia           None  None   \n",
       "3              Equus caballus  Chordata  Mammalia           None  None   \n",
       "4                  Bos taurus  Chordata  Mammalia           None  None   \n",
       "5                  Sus scrofa  Chordata  Mammalia           None  None   \n",
       "6   Ceratotherium simum simum  Chordata  Mammalia           None  None   \n",
       "7      Ailuropoda melanoleuca  Chordata  Mammalia           None  None   \n",
       "8                 Felis catus  Chordata  Mammalia           None  None   \n",
       "9      Canis lupus familiaris  Chordata  Mammalia           None  None   \n",
       "10         Loxodonta africana  Chordata  Mammalia           None  None   \n",
       "11                 Bos taurus  Chordata  Mammalia           None  None   \n",
       "12                 Ovis aries  Chordata  Mammalia           None  None   \n",
       "13                 Bos taurus  Chordata  Mammalia           None  None   \n",
       "\n",
       "                                             sequence  \\\n",
       "0   MSAEHGQLQQAGGRRGRSPGDKKSRRRSRRKETYSMYIYKVLKQVH...   \n",
       "1   MGTEHGQQPQSGGRRGHGSGDKKSKKHSRRKETYSMYIYKVLKQVH...   \n",
       "2   MSAERGQQQQQASSRRGRSSGNKKSRKRSKRKETYSMYIYKVLKQV...   \n",
       "3   MSTEHGQQHQSGGRRGCSSGDKKSKKRSRRKETYSMYIYKVLKQVH...   \n",
       "4   MSAEHGQLQQSGGRRGRSPGDKKSRRRSRRKETYSMYIYKVLKQVH...   \n",
       "5   MSSAHGQQQQQQQQQQQQQQQGGGRRGRSSGEKKSKKRNRRKETYS...   \n",
       "6   MSTEHGQQHHPGGRRGCSPGDKKFKKRSRRKETYSMYIYKVLKQVH...   \n",
       "7   MSAEHGRQQQPGGRRGRSSGDKKSRKRSRRKETYSMYIYKVLKQVH...   \n",
       "8   MSAEHGQQQQSGGRRGRSSGDKKSKKRSRRKETYSMYIYKVLKQVH...   \n",
       "9   MGAEHGQQPQSGGRRGRGSGDKKSKKRSRRKETYSMYIYKVLKQVH...   \n",
       "10  MSAELGQQQQQQQSGGQRGRSSGDKKPKKRSRRKENYSVYIYKVLK...   \n",
       "11  MSAEHGQLQQSGGRRGRSPGDKKSRRRSRRKETYSMYIYKVLKQVH...   \n",
       "12  MSAEHGQLQQSGGRRGRSPGDKKSRRRSRRKETYSMYIYKVLKQVH...   \n",
       "13  MMDTRSSKLVCHNILRTRRMSAEHGQLQQSGGRRGRSPGDKKSRRR...   \n",
       "\n",
       "   variant_under_consideration sequence_accession publication_id  \n",
       "0                         None     HISTDB_H2B_K_0       35099534  \n",
       "1                         None     HISTDB_H2B_K_1       35099534  \n",
       "2                         None     XP_002715119.2       35099534  \n",
       "3                         None     XP_005609614.1       35099534  \n",
       "4                         None     XP_010799227.1       35099534  \n",
       "5                         None     XP_013846203.1       35099534  \n",
       "6                         None     XP_014643104.1       35099534  \n",
       "7                         None     XP_019651116.1       35099534  \n",
       "8                         None     XP_019681595.1       35099534  \n",
       "9                         None     XP_022259586.1       35099534  \n",
       "10                        None     XP_023403847.1       35099534  \n",
       "11                        None     XP_024846715.1       35099534  \n",
       "12                        None     XP_027824938.1       35099534  \n",
       "13                        None     XP_059747847.1       35099534  "
      ]
     },
     "execution_count": 179,
     "metadata": {},
     "output_type": "execute_result"
    }
   ],
   "source": [
    "query = (\n",
    "    \"SELECT * FROM sequence s LEFT JOIN sequence_has_publication sp \"\n",
    "    \"ON s.accession = sp.sequence_accession \"\n",
    "    f\"WHERE s.variant='H2B.K'\"\n",
    ")\n",
    "cursor.execute(query)\n",
    "df = pd.DataFrame(cursor.fetchall(), columns=[i[0] for i in cursor.description])\n",
    "df"
   ]
  },
  {
   "cell_type": "code",
   "execution_count": 180,
   "id": "3aa71fce-4f5a-4db9-9745-6b02eaabd847",
   "metadata": {
    "tags": []
   },
   "outputs": [],
   "source": [
    "# Make sure data is committed to the database\n",
    "conn.commit()"
   ]
  },
  {
   "cell_type": "markdown",
   "id": "0b0d0cf6-1a48-4975-b88c-47cc83336236",
   "metadata": {
    "jp-MarkdownHeadingCollapsed": true,
    "tags": []
   },
   "source": [
    "# Add platypus H2B.K\n",
    "\n",
    "**Atricle:** https://academic.oup.com/mbe/article/39/2/msac019/6517784#333890704\n",
    "\n",
    "**Gene:** Ornithorhynchus anatinus, ornAna2, chrUn_DS181150v1, ++, 14809945-14812026\n",
    "\n",
    "**Sequence from article:**\n",
    "```fasta\n",
    ">Platypus_H2B.K\n",
    "MSPEGGQQQQQQPRPRARGDRRPKRRTRRKETYSVYIYKVLKQVHPDTGISSKAMSIMNSFVNDVFEQLAGEAARLAQYLGRSTLTSREVQTAVRLLLPGELAKHAVSEGTKAVTKYTSSK\n",
    "```\n",
    "\n",
    "BLASTP has one result with 100% coverage and 100% identity (is that a same gene as in the article?).\n",
    "\n",
    "**Protein accession:** HISTDB_H2B_K_2"
   ]
  },
  {
   "cell_type": "markdown",
   "id": "1f34e705-84e8-4203-b33a-8c4b611d5e22",
   "metadata": {},
   "source": [
    "## Add HISTDB_H2B_K_2"
   ]
  },
  {
   "cell_type": "code",
   "execution_count": 185,
   "id": "77687410-c920-4889-b02d-08f0599d7003",
   "metadata": {
    "tags": []
   },
   "outputs": [],
   "source": [
    "ACCESSION = \"HISTDB_H2B_K_2\""
   ]
  },
  {
   "cell_type": "code",
   "execution_count": 186,
   "id": "aff415f1-89c1-4797-a9bb-f5beb3b8fb0d",
   "metadata": {
    "tags": []
   },
   "outputs": [
    {
     "data": {
      "text/plain": [
       "{'accession': 'HISTDB_H2B_K_2',\n",
       " 'variant': 'H2B.K',\n",
       " 'gi': None,\n",
       " 'ncbi_gene_id': None,\n",
       " 'hgnc_gene_name': None,\n",
       " 'taxonomy_id': 9258,\n",
       " 'organism': 'Ornithorhynchus anatinus',\n",
       " 'phylum': 'Chordata',\n",
       " 'class': 'Mammalia',\n",
       " 'taxonomy_group': None,\n",
       " 'info': None,\n",
       " 'sequence': 'MSPEGGQQQQQQPRPRARGDRRPKRRTRRKETYSVYIYKVLKQVHPDTGISSKAMSIMNSFVNDVFEQLAGEAARLAQYLGRSTLTSREVQTAVRLLLPGELAKHAVSEGTKAVTKYTSSK',\n",
       " 'variant_under_consideration': None}"
      ]
     },
     "execution_count": 186,
     "metadata": {},
     "output_type": "execute_result"
    }
   ],
   "source": [
    "data_sequence = {\n",
    "    \"accession\": ACCESSION,\n",
    "    \"variant\": \"H2B.K\",\n",
    "    \"gi\": None,\n",
    "    \"ncbi_gene_id\": None,\n",
    "    \"hgnc_gene_name\": None,\n",
    "    \"taxonomy_id\": 9258,\n",
    "    \"organism\": \"Ornithorhynchus anatinus\",\n",
    "    \"phylum\": \"Chordata\",\n",
    "    \"class\": \"Mammalia\",\n",
    "    \"taxonomy_group\": None,\n",
    "    \"info\": None,\n",
    "    \"sequence\": \"MSPEGGQQQQQQPRPRARGDRRPKRRTRRKETYSVYIYKVLKQVHPDTGISSKAMSIMNSFVNDVFEQLAGEAARLAQYLGRSTLTSREVQTAVRLLLPGELAKHAVSEGTKAVTKYTSSK\",\n",
    "    \"variant_under_consideration\": None,\n",
    "}\n",
    "data_sequence"
   ]
  },
  {
   "cell_type": "code",
   "execution_count": 187,
   "id": "3e7eb488-5db0-4312-a773-1bc36cdb08de",
   "metadata": {
    "tags": []
   },
   "outputs": [
    {
     "name": "stdout",
     "output_type": "stream",
     "text": [
      "accession <class 'str'>\n",
      "variant <class 'str'>\n",
      "gi <class 'NoneType'>\n",
      "ncbi_gene_id <class 'NoneType'>\n",
      "hgnc_gene_name <class 'NoneType'>\n",
      "taxonomy_id <class 'int'>\n",
      "organism <class 'str'>\n",
      "phylum <class 'str'>\n",
      "class <class 'str'>\n",
      "taxonomy_group <class 'NoneType'>\n",
      "info <class 'NoneType'>\n",
      "sequence <class 'str'>\n",
      "variant_under_consideration <class 'NoneType'>\n"
     ]
    }
   ],
   "source": [
    "for k, v in data_sequence.items():\n",
    "    print(k, type(v))"
   ]
  },
  {
   "cell_type": "code",
   "execution_count": 188,
   "id": "cf170576-414d-4fd1-886e-f9de5ad52f4d",
   "metadata": {
    "tags": []
   },
   "outputs": [],
   "source": [
    "cursor.execute(add_sequence, data_sequence)"
   ]
  },
  {
   "cell_type": "code",
   "execution_count": 189,
   "id": "722f1375-69f8-440b-9774-adca260f1ec3",
   "metadata": {
    "tags": []
   },
   "outputs": [
    {
     "data": {
      "text/html": [
       "<div>\n",
       "<style scoped>\n",
       "    .dataframe tbody tr th:only-of-type {\n",
       "        vertical-align: middle;\n",
       "    }\n",
       "\n",
       "    .dataframe tbody tr th {\n",
       "        vertical-align: top;\n",
       "    }\n",
       "\n",
       "    .dataframe thead th {\n",
       "        text-align: right;\n",
       "    }\n",
       "</style>\n",
       "<table border=\"1\" class=\"dataframe\">\n",
       "  <thead>\n",
       "    <tr style=\"text-align: right;\">\n",
       "      <th></th>\n",
       "      <th>accession</th>\n",
       "      <th>variant</th>\n",
       "      <th>gi</th>\n",
       "      <th>ncbi_gene_id</th>\n",
       "      <th>hgnc_gene_name</th>\n",
       "      <th>taxonomy_id</th>\n",
       "      <th>organism</th>\n",
       "      <th>phylum</th>\n",
       "      <th>class</th>\n",
       "      <th>taxonomy_group</th>\n",
       "      <th>info</th>\n",
       "      <th>sequence</th>\n",
       "      <th>variant_under_consideration</th>\n",
       "      <th>sequence_accession</th>\n",
       "      <th>publication_id</th>\n",
       "    </tr>\n",
       "  </thead>\n",
       "  <tbody>\n",
       "    <tr>\n",
       "      <th>0</th>\n",
       "      <td>HISTDB_H2B_K_2</td>\n",
       "      <td>H2B.K</td>\n",
       "      <td>None</td>\n",
       "      <td>None</td>\n",
       "      <td>None</td>\n",
       "      <td>9258</td>\n",
       "      <td>Ornithorhynchus anatinus</td>\n",
       "      <td>Chordata</td>\n",
       "      <td>Mammalia</td>\n",
       "      <td>None</td>\n",
       "      <td>None</td>\n",
       "      <td>MSPEGGQQQQQQPRPRARGDRRPKRRTRRKETYSVYIYKVLKQVHP...</td>\n",
       "      <td>None</td>\n",
       "      <td>None</td>\n",
       "      <td>None</td>\n",
       "    </tr>\n",
       "  </tbody>\n",
       "</table>\n",
       "</div>"
      ],
      "text/plain": [
       "        accession variant    gi ncbi_gene_id hgnc_gene_name  taxonomy_id  \\\n",
       "0  HISTDB_H2B_K_2   H2B.K  None         None           None         9258   \n",
       "\n",
       "                   organism    phylum     class taxonomy_group  info  \\\n",
       "0  Ornithorhynchus anatinus  Chordata  Mammalia           None  None   \n",
       "\n",
       "                                            sequence  \\\n",
       "0  MSPEGGQQQQQQPRPRARGDRRPKRRTRRKETYSVYIYKVLKQVHP...   \n",
       "\n",
       "  variant_under_consideration sequence_accession publication_id  \n",
       "0                        None               None           None  "
      ]
     },
     "execution_count": 189,
     "metadata": {},
     "output_type": "execute_result"
    }
   ],
   "source": [
    "query = (\n",
    "    \"SELECT * FROM sequence s LEFT JOIN sequence_has_publication sp \"\n",
    "    \"ON s.accession = sp.sequence_accession \"\n",
    "    f\"WHERE s.accession='{ACCESSION}'\"\n",
    ")\n",
    "cursor.execute(query)\n",
    "df = pd.DataFrame(cursor.fetchall(), columns=[i[0] for i in cursor.description])\n",
    "df"
   ]
  },
  {
   "cell_type": "markdown",
   "id": "0e795069-8f15-4e21-85df-8a2a6c8b8808",
   "metadata": {
    "tags": []
   },
   "source": [
    "## Add publication"
   ]
  },
  {
   "cell_type": "code",
   "execution_count": 190,
   "id": "cf8f265b-729b-4a1e-84fe-26a86d78c22a",
   "metadata": {
    "tags": []
   },
   "outputs": [
    {
     "data": {
      "text/html": [
       "<div>\n",
       "<style scoped>\n",
       "    .dataframe tbody tr th:only-of-type {\n",
       "        vertical-align: middle;\n",
       "    }\n",
       "\n",
       "    .dataframe tbody tr th {\n",
       "        vertical-align: top;\n",
       "    }\n",
       "\n",
       "    .dataframe thead th {\n",
       "        text-align: right;\n",
       "    }\n",
       "</style>\n",
       "<table border=\"1\" class=\"dataframe\">\n",
       "  <thead>\n",
       "    <tr style=\"text-align: right;\">\n",
       "      <th></th>\n",
       "      <th>id</th>\n",
       "      <th>title</th>\n",
       "      <th>doi</th>\n",
       "      <th>author</th>\n",
       "      <th>year</th>\n",
       "    </tr>\n",
       "  </thead>\n",
       "  <tbody>\n",
       "    <tr>\n",
       "      <th>0</th>\n",
       "      <td>35099534</td>\n",
       "      <td>None</td>\n",
       "      <td>None</td>\n",
       "      <td>None</td>\n",
       "      <td>None</td>\n",
       "    </tr>\n",
       "  </tbody>\n",
       "</table>\n",
       "</div>"
      ],
      "text/plain": [
       "         id title   doi author  year\n",
       "0  35099534  None  None   None  None"
      ]
     },
     "execution_count": 190,
     "metadata": {},
     "output_type": "execute_result"
    }
   ],
   "source": [
    "pid = \"35099534\"\n",
    "query = \"SELECT * FROM publication WHERE id='35099534'\"\n",
    "cursor.execute(query)\n",
    "pd.DataFrame(cursor.fetchall(), columns=[i[0] for i in cursor.description])"
   ]
  },
  {
   "cell_type": "code",
   "execution_count": 191,
   "id": "8c7f46be-623c-4224-8def-d3f6cfb8fa76",
   "metadata": {
    "tags": []
   },
   "outputs": [],
   "source": [
    "cursor.execute(add_sequence_has_publication, (ACCESSION, pid))"
   ]
  },
  {
   "cell_type": "code",
   "execution_count": 192,
   "id": "545c4981-ea2a-4a8f-b4a8-b962710a2cc3",
   "metadata": {
    "tags": []
   },
   "outputs": [
    {
     "data": {
      "text/html": [
       "<div>\n",
       "<style scoped>\n",
       "    .dataframe tbody tr th:only-of-type {\n",
       "        vertical-align: middle;\n",
       "    }\n",
       "\n",
       "    .dataframe tbody tr th {\n",
       "        vertical-align: top;\n",
       "    }\n",
       "\n",
       "    .dataframe thead th {\n",
       "        text-align: right;\n",
       "    }\n",
       "</style>\n",
       "<table border=\"1\" class=\"dataframe\">\n",
       "  <thead>\n",
       "    <tr style=\"text-align: right;\">\n",
       "      <th></th>\n",
       "      <th>accession</th>\n",
       "      <th>variant</th>\n",
       "      <th>gi</th>\n",
       "      <th>ncbi_gene_id</th>\n",
       "      <th>hgnc_gene_name</th>\n",
       "      <th>taxonomy_id</th>\n",
       "      <th>organism</th>\n",
       "      <th>phylum</th>\n",
       "      <th>class</th>\n",
       "      <th>taxonomy_group</th>\n",
       "      <th>info</th>\n",
       "      <th>sequence</th>\n",
       "      <th>variant_under_consideration</th>\n",
       "      <th>sequence_accession</th>\n",
       "      <th>publication_id</th>\n",
       "    </tr>\n",
       "  </thead>\n",
       "  <tbody>\n",
       "    <tr>\n",
       "      <th>0</th>\n",
       "      <td>HISTDB_H2B_K_2</td>\n",
       "      <td>H2B.K</td>\n",
       "      <td>None</td>\n",
       "      <td>None</td>\n",
       "      <td>None</td>\n",
       "      <td>9258</td>\n",
       "      <td>Ornithorhynchus anatinus</td>\n",
       "      <td>Chordata</td>\n",
       "      <td>Mammalia</td>\n",
       "      <td>None</td>\n",
       "      <td>None</td>\n",
       "      <td>MSPEGGQQQQQQPRPRARGDRRPKRRTRRKETYSVYIYKVLKQVHP...</td>\n",
       "      <td>None</td>\n",
       "      <td>HISTDB_H2B_K_2</td>\n",
       "      <td>35099534</td>\n",
       "    </tr>\n",
       "  </tbody>\n",
       "</table>\n",
       "</div>"
      ],
      "text/plain": [
       "        accession variant    gi ncbi_gene_id hgnc_gene_name  taxonomy_id  \\\n",
       "0  HISTDB_H2B_K_2   H2B.K  None         None           None         9258   \n",
       "\n",
       "                   organism    phylum     class taxonomy_group  info  \\\n",
       "0  Ornithorhynchus anatinus  Chordata  Mammalia           None  None   \n",
       "\n",
       "                                            sequence  \\\n",
       "0  MSPEGGQQQQQQPRPRARGDRRPKRRTRRKETYSVYIYKVLKQVHP...   \n",
       "\n",
       "  variant_under_consideration sequence_accession publication_id  \n",
       "0                        None     HISTDB_H2B_K_2       35099534  "
      ]
     },
     "execution_count": 192,
     "metadata": {},
     "output_type": "execute_result"
    }
   ],
   "source": [
    "query = (\n",
    "    \"SELECT * FROM sequence s LEFT JOIN sequence_has_publication sp \"\n",
    "    \"ON s.accession = sp.sequence_accession \"\n",
    "    f\"WHERE s.accession='{ACCESSION}'\"\n",
    ")\n",
    "cursor.execute(query)\n",
    "df = pd.DataFrame(cursor.fetchall(), columns=[i[0] for i in cursor.description])\n",
    "df"
   ]
  },
  {
   "cell_type": "code",
   "execution_count": 193,
   "id": "e4c18bf0-4403-4fdf-bbe6-de03236c797e",
   "metadata": {
    "tags": []
   },
   "outputs": [
    {
     "data": {
      "text/html": [
       "<div>\n",
       "<style scoped>\n",
       "    .dataframe tbody tr th:only-of-type {\n",
       "        vertical-align: middle;\n",
       "    }\n",
       "\n",
       "    .dataframe tbody tr th {\n",
       "        vertical-align: top;\n",
       "    }\n",
       "\n",
       "    .dataframe thead th {\n",
       "        text-align: right;\n",
       "    }\n",
       "</style>\n",
       "<table border=\"1\" class=\"dataframe\">\n",
       "  <thead>\n",
       "    <tr style=\"text-align: right;\">\n",
       "      <th></th>\n",
       "      <th>accession</th>\n",
       "      <th>variant</th>\n",
       "      <th>gi</th>\n",
       "      <th>ncbi_gene_id</th>\n",
       "      <th>hgnc_gene_name</th>\n",
       "      <th>taxonomy_id</th>\n",
       "      <th>organism</th>\n",
       "      <th>phylum</th>\n",
       "      <th>class</th>\n",
       "      <th>taxonomy_group</th>\n",
       "      <th>info</th>\n",
       "      <th>sequence</th>\n",
       "      <th>variant_under_consideration</th>\n",
       "      <th>sequence_accession</th>\n",
       "      <th>publication_id</th>\n",
       "    </tr>\n",
       "  </thead>\n",
       "  <tbody>\n",
       "    <tr>\n",
       "      <th>0</th>\n",
       "      <td>HISTDB_H2B_K_0</td>\n",
       "      <td>H2B.K</td>\n",
       "      <td>None</td>\n",
       "      <td>None</td>\n",
       "      <td>None</td>\n",
       "      <td>9940</td>\n",
       "      <td>Ovis aries</td>\n",
       "      <td>Chordata</td>\n",
       "      <td>Mammalia</td>\n",
       "      <td>None</td>\n",
       "      <td>None</td>\n",
       "      <td>MSAEHGQLQQAGGRRGRSPGDKKSRRRSRRKETYSMYIYKVLKQVH...</td>\n",
       "      <td>None</td>\n",
       "      <td>HISTDB_H2B_K_0</td>\n",
       "      <td>35099534</td>\n",
       "    </tr>\n",
       "    <tr>\n",
       "      <th>1</th>\n",
       "      <td>HISTDB_H2B_K_1</td>\n",
       "      <td>H2B.K</td>\n",
       "      <td>None</td>\n",
       "      <td>None</td>\n",
       "      <td>None</td>\n",
       "      <td>9615</td>\n",
       "      <td>Canis lupus familiaris</td>\n",
       "      <td>Chordata</td>\n",
       "      <td>Mammalia</td>\n",
       "      <td>None</td>\n",
       "      <td>None</td>\n",
       "      <td>MGTEHGQQPQSGGRRGHGSGDKKSKKHSRRKETYSMYIYKVLKQVH...</td>\n",
       "      <td>None</td>\n",
       "      <td>HISTDB_H2B_K_1</td>\n",
       "      <td>35099534</td>\n",
       "    </tr>\n",
       "    <tr>\n",
       "      <th>2</th>\n",
       "      <td>HISTDB_H2B_K_2</td>\n",
       "      <td>H2B.K</td>\n",
       "      <td>None</td>\n",
       "      <td>None</td>\n",
       "      <td>None</td>\n",
       "      <td>9258</td>\n",
       "      <td>Ornithorhynchus anatinus</td>\n",
       "      <td>Chordata</td>\n",
       "      <td>Mammalia</td>\n",
       "      <td>None</td>\n",
       "      <td>None</td>\n",
       "      <td>MSPEGGQQQQQQPRPRARGDRRPKRRTRRKETYSVYIYKVLKQVHP...</td>\n",
       "      <td>None</td>\n",
       "      <td>HISTDB_H2B_K_2</td>\n",
       "      <td>35099534</td>\n",
       "    </tr>\n",
       "    <tr>\n",
       "      <th>3</th>\n",
       "      <td>XP_002715119.2</td>\n",
       "      <td>H2B.K</td>\n",
       "      <td>None</td>\n",
       "      <td>None</td>\n",
       "      <td>None</td>\n",
       "      <td>9986</td>\n",
       "      <td>Oryctolagus cuniculus</td>\n",
       "      <td>Chordata</td>\n",
       "      <td>Mammalia</td>\n",
       "      <td>None</td>\n",
       "      <td>None</td>\n",
       "      <td>MSAERGQQQQQASSRRGRSSGNKKSRKRSKRKETYSMYIYKVLKQV...</td>\n",
       "      <td>None</td>\n",
       "      <td>XP_002715119.2</td>\n",
       "      <td>35099534</td>\n",
       "    </tr>\n",
       "    <tr>\n",
       "      <th>4</th>\n",
       "      <td>XP_005609614.1</td>\n",
       "      <td>H2B.K</td>\n",
       "      <td>None</td>\n",
       "      <td>None</td>\n",
       "      <td>None</td>\n",
       "      <td>9796</td>\n",
       "      <td>Equus caballus</td>\n",
       "      <td>Chordata</td>\n",
       "      <td>Mammalia</td>\n",
       "      <td>None</td>\n",
       "      <td>None</td>\n",
       "      <td>MSTEHGQQHQSGGRRGCSSGDKKSKKRSRRKETYSMYIYKVLKQVH...</td>\n",
       "      <td>None</td>\n",
       "      <td>XP_005609614.1</td>\n",
       "      <td>35099534</td>\n",
       "    </tr>\n",
       "    <tr>\n",
       "      <th>5</th>\n",
       "      <td>XP_010799227.1</td>\n",
       "      <td>H2B.K</td>\n",
       "      <td>None</td>\n",
       "      <td>None</td>\n",
       "      <td>None</td>\n",
       "      <td>9913</td>\n",
       "      <td>Bos taurus</td>\n",
       "      <td>Chordata</td>\n",
       "      <td>Mammalia</td>\n",
       "      <td>None</td>\n",
       "      <td>None</td>\n",
       "      <td>MSAEHGQLQQSGGRRGRSPGDKKSRRRSRRKETYSMYIYKVLKQVH...</td>\n",
       "      <td>None</td>\n",
       "      <td>XP_010799227.1</td>\n",
       "      <td>35099534</td>\n",
       "    </tr>\n",
       "    <tr>\n",
       "      <th>6</th>\n",
       "      <td>XP_013846203.1</td>\n",
       "      <td>H2B.K</td>\n",
       "      <td>None</td>\n",
       "      <td>None</td>\n",
       "      <td>None</td>\n",
       "      <td>9823</td>\n",
       "      <td>Sus scrofa</td>\n",
       "      <td>Chordata</td>\n",
       "      <td>Mammalia</td>\n",
       "      <td>None</td>\n",
       "      <td>None</td>\n",
       "      <td>MSSAHGQQQQQQQQQQQQQQQGGGRRGRSSGEKKSKKRNRRKETYS...</td>\n",
       "      <td>None</td>\n",
       "      <td>XP_013846203.1</td>\n",
       "      <td>35099534</td>\n",
       "    </tr>\n",
       "    <tr>\n",
       "      <th>7</th>\n",
       "      <td>XP_014643104.1</td>\n",
       "      <td>H2B.K</td>\n",
       "      <td>None</td>\n",
       "      <td>None</td>\n",
       "      <td>None</td>\n",
       "      <td>73337</td>\n",
       "      <td>Ceratotherium simum simum</td>\n",
       "      <td>Chordata</td>\n",
       "      <td>Mammalia</td>\n",
       "      <td>None</td>\n",
       "      <td>None</td>\n",
       "      <td>MSTEHGQQHHPGGRRGCSPGDKKFKKRSRRKETYSMYIYKVLKQVH...</td>\n",
       "      <td>None</td>\n",
       "      <td>XP_014643104.1</td>\n",
       "      <td>35099534</td>\n",
       "    </tr>\n",
       "    <tr>\n",
       "      <th>8</th>\n",
       "      <td>XP_019651116.1</td>\n",
       "      <td>H2B.K</td>\n",
       "      <td>None</td>\n",
       "      <td>None</td>\n",
       "      <td>None</td>\n",
       "      <td>9646</td>\n",
       "      <td>Ailuropoda melanoleuca</td>\n",
       "      <td>Chordata</td>\n",
       "      <td>Mammalia</td>\n",
       "      <td>None</td>\n",
       "      <td>None</td>\n",
       "      <td>MSAEHGRQQQPGGRRGRSSGDKKSRKRSRRKETYSMYIYKVLKQVH...</td>\n",
       "      <td>None</td>\n",
       "      <td>XP_019651116.1</td>\n",
       "      <td>35099534</td>\n",
       "    </tr>\n",
       "    <tr>\n",
       "      <th>9</th>\n",
       "      <td>XP_019681595.1</td>\n",
       "      <td>H2B.K</td>\n",
       "      <td>None</td>\n",
       "      <td>None</td>\n",
       "      <td>None</td>\n",
       "      <td>9685</td>\n",
       "      <td>Felis catus</td>\n",
       "      <td>Chordata</td>\n",
       "      <td>Mammalia</td>\n",
       "      <td>None</td>\n",
       "      <td>None</td>\n",
       "      <td>MSAEHGQQQQSGGRRGRSSGDKKSKKRSRRKETYSMYIYKVLKQVH...</td>\n",
       "      <td>None</td>\n",
       "      <td>XP_019681595.1</td>\n",
       "      <td>35099534</td>\n",
       "    </tr>\n",
       "    <tr>\n",
       "      <th>10</th>\n",
       "      <td>XP_022259586.1</td>\n",
       "      <td>H2B.K</td>\n",
       "      <td>None</td>\n",
       "      <td>None</td>\n",
       "      <td>None</td>\n",
       "      <td>9615</td>\n",
       "      <td>Canis lupus familiaris</td>\n",
       "      <td>Chordata</td>\n",
       "      <td>Mammalia</td>\n",
       "      <td>None</td>\n",
       "      <td>None</td>\n",
       "      <td>MGAEHGQQPQSGGRRGRGSGDKKSKKRSRRKETYSMYIYKVLKQVH...</td>\n",
       "      <td>None</td>\n",
       "      <td>XP_022259586.1</td>\n",
       "      <td>35099534</td>\n",
       "    </tr>\n",
       "    <tr>\n",
       "      <th>11</th>\n",
       "      <td>XP_023403847.1</td>\n",
       "      <td>H2B.K</td>\n",
       "      <td>None</td>\n",
       "      <td>None</td>\n",
       "      <td>None</td>\n",
       "      <td>9785</td>\n",
       "      <td>Loxodonta africana</td>\n",
       "      <td>Chordata</td>\n",
       "      <td>Mammalia</td>\n",
       "      <td>None</td>\n",
       "      <td>None</td>\n",
       "      <td>MSAELGQQQQQQQSGGQRGRSSGDKKPKKRSRRKENYSVYIYKVLK...</td>\n",
       "      <td>None</td>\n",
       "      <td>XP_023403847.1</td>\n",
       "      <td>35099534</td>\n",
       "    </tr>\n",
       "    <tr>\n",
       "      <th>12</th>\n",
       "      <td>XP_024846715.1</td>\n",
       "      <td>H2B.K</td>\n",
       "      <td>None</td>\n",
       "      <td>None</td>\n",
       "      <td>None</td>\n",
       "      <td>9913</td>\n",
       "      <td>Bos taurus</td>\n",
       "      <td>Chordata</td>\n",
       "      <td>Mammalia</td>\n",
       "      <td>None</td>\n",
       "      <td>None</td>\n",
       "      <td>MSAEHGQLQQSGGRRGRSPGDKKSRRRSRRKETYSMYIYKVLKQVH...</td>\n",
       "      <td>None</td>\n",
       "      <td>XP_024846715.1</td>\n",
       "      <td>35099534</td>\n",
       "    </tr>\n",
       "    <tr>\n",
       "      <th>13</th>\n",
       "      <td>XP_027824938.1</td>\n",
       "      <td>H2B.K</td>\n",
       "      <td>None</td>\n",
       "      <td>None</td>\n",
       "      <td>None</td>\n",
       "      <td>9940</td>\n",
       "      <td>Ovis aries</td>\n",
       "      <td>Chordata</td>\n",
       "      <td>Mammalia</td>\n",
       "      <td>None</td>\n",
       "      <td>None</td>\n",
       "      <td>MSAEHGQLQQSGGRRGRSPGDKKSRRRSRRKETYSMYIYKVLKQVH...</td>\n",
       "      <td>None</td>\n",
       "      <td>XP_027824938.1</td>\n",
       "      <td>35099534</td>\n",
       "    </tr>\n",
       "    <tr>\n",
       "      <th>14</th>\n",
       "      <td>XP_059747847.1</td>\n",
       "      <td>H2B.K</td>\n",
       "      <td>None</td>\n",
       "      <td>None</td>\n",
       "      <td>None</td>\n",
       "      <td>9913</td>\n",
       "      <td>Bos taurus</td>\n",
       "      <td>Chordata</td>\n",
       "      <td>Mammalia</td>\n",
       "      <td>None</td>\n",
       "      <td>None</td>\n",
       "      <td>MMDTRSSKLVCHNILRTRRMSAEHGQLQQSGGRRGRSPGDKKSRRR...</td>\n",
       "      <td>None</td>\n",
       "      <td>XP_059747847.1</td>\n",
       "      <td>35099534</td>\n",
       "    </tr>\n",
       "  </tbody>\n",
       "</table>\n",
       "</div>"
      ],
      "text/plain": [
       "         accession variant    gi ncbi_gene_id hgnc_gene_name  taxonomy_id  \\\n",
       "0   HISTDB_H2B_K_0   H2B.K  None         None           None         9940   \n",
       "1   HISTDB_H2B_K_1   H2B.K  None         None           None         9615   \n",
       "2   HISTDB_H2B_K_2   H2B.K  None         None           None         9258   \n",
       "3   XP_002715119.2   H2B.K  None         None           None         9986   \n",
       "4   XP_005609614.1   H2B.K  None         None           None         9796   \n",
       "5   XP_010799227.1   H2B.K  None         None           None         9913   \n",
       "6   XP_013846203.1   H2B.K  None         None           None         9823   \n",
       "7   XP_014643104.1   H2B.K  None         None           None        73337   \n",
       "8   XP_019651116.1   H2B.K  None         None           None         9646   \n",
       "9   XP_019681595.1   H2B.K  None         None           None         9685   \n",
       "10  XP_022259586.1   H2B.K  None         None           None         9615   \n",
       "11  XP_023403847.1   H2B.K  None         None           None         9785   \n",
       "12  XP_024846715.1   H2B.K  None         None           None         9913   \n",
       "13  XP_027824938.1   H2B.K  None         None           None         9940   \n",
       "14  XP_059747847.1   H2B.K  None         None           None         9913   \n",
       "\n",
       "                     organism    phylum     class taxonomy_group  info  \\\n",
       "0                  Ovis aries  Chordata  Mammalia           None  None   \n",
       "1      Canis lupus familiaris  Chordata  Mammalia           None  None   \n",
       "2    Ornithorhynchus anatinus  Chordata  Mammalia           None  None   \n",
       "3       Oryctolagus cuniculus  Chordata  Mammalia           None  None   \n",
       "4              Equus caballus  Chordata  Mammalia           None  None   \n",
       "5                  Bos taurus  Chordata  Mammalia           None  None   \n",
       "6                  Sus scrofa  Chordata  Mammalia           None  None   \n",
       "7   Ceratotherium simum simum  Chordata  Mammalia           None  None   \n",
       "8      Ailuropoda melanoleuca  Chordata  Mammalia           None  None   \n",
       "9                 Felis catus  Chordata  Mammalia           None  None   \n",
       "10     Canis lupus familiaris  Chordata  Mammalia           None  None   \n",
       "11         Loxodonta africana  Chordata  Mammalia           None  None   \n",
       "12                 Bos taurus  Chordata  Mammalia           None  None   \n",
       "13                 Ovis aries  Chordata  Mammalia           None  None   \n",
       "14                 Bos taurus  Chordata  Mammalia           None  None   \n",
       "\n",
       "                                             sequence  \\\n",
       "0   MSAEHGQLQQAGGRRGRSPGDKKSRRRSRRKETYSMYIYKVLKQVH...   \n",
       "1   MGTEHGQQPQSGGRRGHGSGDKKSKKHSRRKETYSMYIYKVLKQVH...   \n",
       "2   MSPEGGQQQQQQPRPRARGDRRPKRRTRRKETYSVYIYKVLKQVHP...   \n",
       "3   MSAERGQQQQQASSRRGRSSGNKKSRKRSKRKETYSMYIYKVLKQV...   \n",
       "4   MSTEHGQQHQSGGRRGCSSGDKKSKKRSRRKETYSMYIYKVLKQVH...   \n",
       "5   MSAEHGQLQQSGGRRGRSPGDKKSRRRSRRKETYSMYIYKVLKQVH...   \n",
       "6   MSSAHGQQQQQQQQQQQQQQQGGGRRGRSSGEKKSKKRNRRKETYS...   \n",
       "7   MSTEHGQQHHPGGRRGCSPGDKKFKKRSRRKETYSMYIYKVLKQVH...   \n",
       "8   MSAEHGRQQQPGGRRGRSSGDKKSRKRSRRKETYSMYIYKVLKQVH...   \n",
       "9   MSAEHGQQQQSGGRRGRSSGDKKSKKRSRRKETYSMYIYKVLKQVH...   \n",
       "10  MGAEHGQQPQSGGRRGRGSGDKKSKKRSRRKETYSMYIYKVLKQVH...   \n",
       "11  MSAELGQQQQQQQSGGQRGRSSGDKKPKKRSRRKENYSVYIYKVLK...   \n",
       "12  MSAEHGQLQQSGGRRGRSPGDKKSRRRSRRKETYSMYIYKVLKQVH...   \n",
       "13  MSAEHGQLQQSGGRRGRSPGDKKSRRRSRRKETYSMYIYKVLKQVH...   \n",
       "14  MMDTRSSKLVCHNILRTRRMSAEHGQLQQSGGRRGRSPGDKKSRRR...   \n",
       "\n",
       "   variant_under_consideration sequence_accession publication_id  \n",
       "0                         None     HISTDB_H2B_K_0       35099534  \n",
       "1                         None     HISTDB_H2B_K_1       35099534  \n",
       "2                         None     HISTDB_H2B_K_2       35099534  \n",
       "3                         None     XP_002715119.2       35099534  \n",
       "4                         None     XP_005609614.1       35099534  \n",
       "5                         None     XP_010799227.1       35099534  \n",
       "6                         None     XP_013846203.1       35099534  \n",
       "7                         None     XP_014643104.1       35099534  \n",
       "8                         None     XP_019651116.1       35099534  \n",
       "9                         None     XP_019681595.1       35099534  \n",
       "10                        None     XP_022259586.1       35099534  \n",
       "11                        None     XP_023403847.1       35099534  \n",
       "12                        None     XP_024846715.1       35099534  \n",
       "13                        None     XP_027824938.1       35099534  \n",
       "14                        None     XP_059747847.1       35099534  "
      ]
     },
     "execution_count": 193,
     "metadata": {},
     "output_type": "execute_result"
    }
   ],
   "source": [
    "query = (\n",
    "    \"SELECT * FROM sequence s LEFT JOIN sequence_has_publication sp \"\n",
    "    \"ON s.accession = sp.sequence_accession \"\n",
    "    f\"WHERE s.variant='H2B.K'\"\n",
    ")\n",
    "cursor.execute(query)\n",
    "df = pd.DataFrame(cursor.fetchall(), columns=[i[0] for i in cursor.description])\n",
    "df"
   ]
  },
  {
   "cell_type": "code",
   "execution_count": null,
   "id": "e4b76a8d-80e0-47c7-94ee-2ed0e0130017",
   "metadata": {
    "tags": []
   },
   "outputs": [],
   "source": [
    "# Make sure data is committed to the database\n",
    "conn.commit()"
   ]
  },
  {
   "cell_type": "markdown",
   "id": "32648ee8-2821-4aa1-bd59-6284be667255",
   "metadata": {
    "jp-MarkdownHeadingCollapsed": true,
    "tags": []
   },
   "source": [
    "# Add chicken H2B.K\n",
    "\n",
    "**Atricle:** https://academic.oup.com/mbe/article/39/2/msac019/6517784#333890704\n",
    "\n",
    "**Gene:** Gallus gallus, galGal6, chr2, ++, 174543-175540\n",
    "\n",
    "**Protein accession:** XP_423715.4"
   ]
  },
  {
   "cell_type": "code",
   "execution_count": 9,
   "id": "0b631176-6a54-41d1-b850-f09d1c604615",
   "metadata": {
    "tags": []
   },
   "outputs": [],
   "source": [
    "ACCESSION = \"XP_423715.4\""
   ]
  },
  {
   "cell_type": "markdown",
   "id": "d7d6be3b-a366-4753-bd3f-bfaa196d110c",
   "metadata": {
    "tags": []
   },
   "source": [
    "## Get sequence XP_423715.4 from NCBI"
   ]
  },
  {
   "cell_type": "code",
   "execution_count": 10,
   "id": "cd07cc18-b38b-4392-b5e5-1c2743e73150",
   "metadata": {
    "tags": []
   },
   "outputs": [
    {
     "name": "stdout",
     "output_type": "stream",
     "text": [
      "ID: XP_423715.4\n",
      "Name: XP_423715\n",
      "Description: late histone H2B.L4 [Gallus gallus]\n",
      "Database cross-references: BioProject:PRJNA698609\n",
      "Number of features: 7\n",
      "/topology=linear\n",
      "/data_file_division=VRT\n",
      "/date=01-MAR-2022\n",
      "/accessions=['XP_423715']\n",
      "/sequence_version=4\n",
      "/db_source=REFSEQ: accession XM_423715.8\n",
      "/keywords=['RefSeq']\n",
      "/source=Gallus gallus (chicken)\n",
      "/organism=Gallus gallus\n",
      "/taxonomy=['Eukaryota', 'Metazoa', 'Chordata', 'Craniata', 'Vertebrata', 'Euteleostomi', 'Archelosauria', 'Archosauria', 'Dinosauria', 'Saurischia', 'Theropoda', 'Coelurosauria', 'Aves', 'Neognathae', 'Galloanserae', 'Galliformes', 'Phasianidae', 'Phasianinae', 'Gallus']\n",
      "/comment=MODEL REFSEQ:  This record is predicted by automated computational\n",
      "analysis. This record is derived from a genomic sequence\n",
      "(NC_052533.1) annotated using gene prediction method: Gnomon.\n",
      "Also see:\n",
      "    Documentation of NCBI's Annotation Process\n",
      "On May 17, 2018 this sequence version replaced XP_423715.3.\n",
      "COMPLETENESS: full length.\n",
      "/structured_comment=OrderedDict([('Genome-Annotation-Data', OrderedDict([('Annotation Provider', 'NCBI'), ('Annotation Status', 'Full annotation'), ('Annotation Name', 'Gallus gallus Annotation Release 106'), ('Annotation Version', '106'), ('Annotation Pipeline', 'NCBI eukaryotic genome annotation pipeline'), ('Annotation Software Version', '9.0'), ('Annotation Method', 'Best-placed RefSeq; Gnomon'), ('Features Annotated', 'Gene; mRNA; CDS; ncRNA')]))])\n",
      "/molecule_type=protein\n",
      "Seq('MSAESGRMRGHPSSSGDKKSKRKPKRKETYSVYIYKVLKQVHPDTGISSKAMSI...SSK')\n"
     ]
    }
   ],
   "source": [
    "with Entrez.efetch(\n",
    "    db=\"protein\", id=ACCESSION, rettype=\"gb\", retmode=\"text\"\n",
    ") as handle:\n",
    "    record = SeqIO.read(handle, \"genbank\")\n",
    "    print(record)"
   ]
  },
  {
   "cell_type": "code",
   "execution_count": 11,
   "id": "9c8ab94c-4510-48dc-b7be-a803c9f39f9d",
   "metadata": {
    "tags": []
   },
   "outputs": [
    {
     "data": {
      "text/plain": [
       "'MSAESGRMRGHPSSSGDKKSKRKPKRKETYSVYIYKVLKQVHPDTGISSKAMSIMNSFVNDIFERLAVEASRLAQYNHRSTITSREVQTAVRLLLPGELAKHAVSEGTKAVTKYTSSK'"
      ]
     },
     "execution_count": 11,
     "metadata": {},
     "output_type": "execute_result"
    }
   ],
   "source": [
    "str(record.seq)"
   ]
  },
  {
   "cell_type": "code",
   "execution_count": 12,
   "id": "5ff225fb-b3ae-42dc-bcf6-4541c5007b41",
   "metadata": {
    "tags": []
   },
   "outputs": [
    {
     "data": {
      "text/plain": [
       "'Gallus gallus'"
      ]
     },
     "execution_count": 12,
     "metadata": {},
     "output_type": "execute_result"
    }
   ],
   "source": [
    "record.annotations[\"organism\"]"
   ]
  },
  {
   "cell_type": "code",
   "execution_count": 13,
   "id": "217971dc-487f-40d7-862b-f53527a3b0e7",
   "metadata": {
    "tags": []
   },
   "outputs": [
    {
     "name": "stdout",
     "output_type": "stream",
     "text": [
      "Fetched taxid from NCBI <built-in function id>\n"
     ]
    },
    {
     "data": {
      "text/plain": [
       "{'organism': 'Gallus gallus',\n",
       " 'taxonomy_id': 9031,\n",
       " 'phylum': 'Chordata',\n",
       " 'class': 'Aves'}"
      ]
     },
     "execution_count": 13,
     "metadata": {},
     "output_type": "execute_result"
    }
   ],
   "source": [
    "taxonomy_data = get_taxonomy_data(record)\n",
    "taxonomy_data"
   ]
  },
  {
   "cell_type": "markdown",
   "id": "df73ebab-ea7f-4573-a00e-00c8733d50a7",
   "metadata": {},
   "source": [
    "## Adding XP_023403847.1"
   ]
  },
  {
   "cell_type": "code",
   "execution_count": 14,
   "id": "22d36f33-d00f-416d-85fe-e5660530f45f",
   "metadata": {
    "tags": []
   },
   "outputs": [
    {
     "data": {
      "text/plain": [
       "{'accession': 'XP_423715.4',\n",
       " 'variant': 'H2B.K',\n",
       " 'gi': None,\n",
       " 'ncbi_gene_id': None,\n",
       " 'hgnc_gene_name': None,\n",
       " 'taxonomy_id': 9031,\n",
       " 'organism': 'Gallus gallus',\n",
       " 'phylum': 'Chordata',\n",
       " 'class': 'Aves',\n",
       " 'taxonomy_group': None,\n",
       " 'info': None,\n",
       " 'sequence': 'MSAESGRMRGHPSSSGDKKSKRKPKRKETYSVYIYKVLKQVHPDTGISSKAMSIMNSFVNDIFERLAVEASRLAQYNHRSTITSREVQTAVRLLLPGELAKHAVSEGTKAVTKYTSSK',\n",
       " 'variant_under_consideration': None}"
      ]
     },
     "execution_count": 14,
     "metadata": {},
     "output_type": "execute_result"
    }
   ],
   "source": [
    "data_sequence = {\n",
    "    \"accession\": ACCESSION,\n",
    "    \"variant\": \"H2B.K\",\n",
    "    \"gi\": None,\n",
    "    \"ncbi_gene_id\": None,\n",
    "    \"hgnc_gene_name\": None,\n",
    "    \"taxonomy_id\": None,\n",
    "    \"organism\": None,\n",
    "    \"phylum\": None,\n",
    "    \"class\": None,\n",
    "    \"taxonomy_group\": None,\n",
    "    \"info\": None,\n",
    "    \"sequence\": str(record.seq),\n",
    "    \"variant_under_consideration\": None,\n",
    "}\n",
    "data_sequence.update(taxonomy_data)\n",
    "data_sequence"
   ]
  },
  {
   "cell_type": "code",
   "execution_count": 15,
   "id": "604af2f9-8560-4686-a8fd-720030fc1c5f",
   "metadata": {
    "tags": []
   },
   "outputs": [
    {
     "name": "stdout",
     "output_type": "stream",
     "text": [
      "accession <class 'str'>\n",
      "variant <class 'str'>\n",
      "gi <class 'NoneType'>\n",
      "ncbi_gene_id <class 'NoneType'>\n",
      "hgnc_gene_name <class 'NoneType'>\n",
      "taxonomy_id <class 'int'>\n",
      "organism <class 'str'>\n",
      "phylum <class 'str'>\n",
      "class <class 'str'>\n",
      "taxonomy_group <class 'NoneType'>\n",
      "info <class 'NoneType'>\n",
      "sequence <class 'str'>\n",
      "variant_under_consideration <class 'NoneType'>\n"
     ]
    }
   ],
   "source": [
    "for k, v in data_sequence.items():\n",
    "    print(k, type(v))"
   ]
  },
  {
   "cell_type": "code",
   "execution_count": 16,
   "id": "caf7f1d8-300a-4cac-bc04-a929f7317ab9",
   "metadata": {
    "tags": []
   },
   "outputs": [],
   "source": [
    "cursor.execute(add_sequence, data_sequence)"
   ]
  },
  {
   "cell_type": "code",
   "execution_count": 17,
   "id": "5d8f1cfb-0b40-4563-acab-cf9771144604",
   "metadata": {
    "tags": []
   },
   "outputs": [
    {
     "data": {
      "text/html": [
       "<div>\n",
       "<style scoped>\n",
       "    .dataframe tbody tr th:only-of-type {\n",
       "        vertical-align: middle;\n",
       "    }\n",
       "\n",
       "    .dataframe tbody tr th {\n",
       "        vertical-align: top;\n",
       "    }\n",
       "\n",
       "    .dataframe thead th {\n",
       "        text-align: right;\n",
       "    }\n",
       "</style>\n",
       "<table border=\"1\" class=\"dataframe\">\n",
       "  <thead>\n",
       "    <tr style=\"text-align: right;\">\n",
       "      <th></th>\n",
       "      <th>accession</th>\n",
       "      <th>variant</th>\n",
       "      <th>gi</th>\n",
       "      <th>ncbi_gene_id</th>\n",
       "      <th>hgnc_gene_name</th>\n",
       "      <th>taxonomy_id</th>\n",
       "      <th>organism</th>\n",
       "      <th>phylum</th>\n",
       "      <th>class</th>\n",
       "      <th>taxonomy_group</th>\n",
       "      <th>info</th>\n",
       "      <th>sequence</th>\n",
       "      <th>variant_under_consideration</th>\n",
       "      <th>sequence_accession</th>\n",
       "      <th>publication_id</th>\n",
       "    </tr>\n",
       "  </thead>\n",
       "  <tbody>\n",
       "    <tr>\n",
       "      <th>0</th>\n",
       "      <td>XP_423715.4</td>\n",
       "      <td>H2B.K</td>\n",
       "      <td>None</td>\n",
       "      <td>None</td>\n",
       "      <td>None</td>\n",
       "      <td>9031</td>\n",
       "      <td>Gallus gallus</td>\n",
       "      <td>Chordata</td>\n",
       "      <td>Aves</td>\n",
       "      <td>None</td>\n",
       "      <td>None</td>\n",
       "      <td>MSAESGRMRGHPSSSGDKKSKRKPKRKETYSVYIYKVLKQVHPDTG...</td>\n",
       "      <td>None</td>\n",
       "      <td>None</td>\n",
       "      <td>None</td>\n",
       "    </tr>\n",
       "  </tbody>\n",
       "</table>\n",
       "</div>"
      ],
      "text/plain": [
       "     accession variant    gi ncbi_gene_id hgnc_gene_name  taxonomy_id  \\\n",
       "0  XP_423715.4   H2B.K  None         None           None         9031   \n",
       "\n",
       "        organism    phylum class taxonomy_group  info  \\\n",
       "0  Gallus gallus  Chordata  Aves           None  None   \n",
       "\n",
       "                                            sequence  \\\n",
       "0  MSAESGRMRGHPSSSGDKKSKRKPKRKETYSVYIYKVLKQVHPDTG...   \n",
       "\n",
       "  variant_under_consideration sequence_accession publication_id  \n",
       "0                        None               None           None  "
      ]
     },
     "execution_count": 17,
     "metadata": {},
     "output_type": "execute_result"
    }
   ],
   "source": [
    "query = (\n",
    "    \"SELECT * FROM sequence s LEFT JOIN sequence_has_publication sp \"\n",
    "    \"ON s.accession = sp.sequence_accession \"\n",
    "    f\"WHERE s.accession='{ACCESSION}'\"\n",
    ")\n",
    "cursor.execute(query)\n",
    "df = pd.DataFrame(cursor.fetchall(), columns=[i[0] for i in cursor.description])\n",
    "df"
   ]
  },
  {
   "cell_type": "markdown",
   "id": "76b93d90-bae3-40fc-a704-70d05b7e6354",
   "metadata": {},
   "source": [
    "## Add publication"
   ]
  },
  {
   "cell_type": "code",
   "execution_count": 18,
   "id": "986d8b19-825f-43c8-b1a0-9c9bbdf18f7f",
   "metadata": {
    "tags": []
   },
   "outputs": [
    {
     "data": {
      "text/html": [
       "<div>\n",
       "<style scoped>\n",
       "    .dataframe tbody tr th:only-of-type {\n",
       "        vertical-align: middle;\n",
       "    }\n",
       "\n",
       "    .dataframe tbody tr th {\n",
       "        vertical-align: top;\n",
       "    }\n",
       "\n",
       "    .dataframe thead th {\n",
       "        text-align: right;\n",
       "    }\n",
       "</style>\n",
       "<table border=\"1\" class=\"dataframe\">\n",
       "  <thead>\n",
       "    <tr style=\"text-align: right;\">\n",
       "      <th></th>\n",
       "      <th>id</th>\n",
       "      <th>title</th>\n",
       "      <th>doi</th>\n",
       "      <th>author</th>\n",
       "      <th>year</th>\n",
       "    </tr>\n",
       "  </thead>\n",
       "  <tbody>\n",
       "    <tr>\n",
       "      <th>0</th>\n",
       "      <td>35099534</td>\n",
       "      <td>None</td>\n",
       "      <td>None</td>\n",
       "      <td>None</td>\n",
       "      <td>None</td>\n",
       "    </tr>\n",
       "  </tbody>\n",
       "</table>\n",
       "</div>"
      ],
      "text/plain": [
       "         id title   doi author  year\n",
       "0  35099534  None  None   None  None"
      ]
     },
     "execution_count": 18,
     "metadata": {},
     "output_type": "execute_result"
    }
   ],
   "source": [
    "pid = \"35099534\"\n",
    "query = \"SELECT * FROM publication WHERE id='35099534'\"\n",
    "cursor.execute(query)\n",
    "pd.DataFrame(cursor.fetchall(), columns=[i[0] for i in cursor.description])"
   ]
  },
  {
   "cell_type": "code",
   "execution_count": 19,
   "id": "1a0ff2d3-ae03-4525-8e52-7529a7c09c0d",
   "metadata": {
    "tags": []
   },
   "outputs": [],
   "source": [
    "cursor.execute(add_sequence_has_publication, (ACCESSION, pid))"
   ]
  },
  {
   "cell_type": "code",
   "execution_count": 20,
   "id": "2e1fa5ca-c10d-4b26-a1b2-a8031f98215f",
   "metadata": {
    "tags": []
   },
   "outputs": [
    {
     "data": {
      "text/html": [
       "<div>\n",
       "<style scoped>\n",
       "    .dataframe tbody tr th:only-of-type {\n",
       "        vertical-align: middle;\n",
       "    }\n",
       "\n",
       "    .dataframe tbody tr th {\n",
       "        vertical-align: top;\n",
       "    }\n",
       "\n",
       "    .dataframe thead th {\n",
       "        text-align: right;\n",
       "    }\n",
       "</style>\n",
       "<table border=\"1\" class=\"dataframe\">\n",
       "  <thead>\n",
       "    <tr style=\"text-align: right;\">\n",
       "      <th></th>\n",
       "      <th>accession</th>\n",
       "      <th>variant</th>\n",
       "      <th>gi</th>\n",
       "      <th>ncbi_gene_id</th>\n",
       "      <th>hgnc_gene_name</th>\n",
       "      <th>taxonomy_id</th>\n",
       "      <th>organism</th>\n",
       "      <th>phylum</th>\n",
       "      <th>class</th>\n",
       "      <th>taxonomy_group</th>\n",
       "      <th>info</th>\n",
       "      <th>sequence</th>\n",
       "      <th>variant_under_consideration</th>\n",
       "      <th>sequence_accession</th>\n",
       "      <th>publication_id</th>\n",
       "    </tr>\n",
       "  </thead>\n",
       "  <tbody>\n",
       "    <tr>\n",
       "      <th>0</th>\n",
       "      <td>XP_423715.4</td>\n",
       "      <td>H2B.K</td>\n",
       "      <td>None</td>\n",
       "      <td>None</td>\n",
       "      <td>None</td>\n",
       "      <td>9031</td>\n",
       "      <td>Gallus gallus</td>\n",
       "      <td>Chordata</td>\n",
       "      <td>Aves</td>\n",
       "      <td>None</td>\n",
       "      <td>None</td>\n",
       "      <td>MSAESGRMRGHPSSSGDKKSKRKPKRKETYSVYIYKVLKQVHPDTG...</td>\n",
       "      <td>None</td>\n",
       "      <td>XP_423715.4</td>\n",
       "      <td>35099534</td>\n",
       "    </tr>\n",
       "  </tbody>\n",
       "</table>\n",
       "</div>"
      ],
      "text/plain": [
       "     accession variant    gi ncbi_gene_id hgnc_gene_name  taxonomy_id  \\\n",
       "0  XP_423715.4   H2B.K  None         None           None         9031   \n",
       "\n",
       "        organism    phylum class taxonomy_group  info  \\\n",
       "0  Gallus gallus  Chordata  Aves           None  None   \n",
       "\n",
       "                                            sequence  \\\n",
       "0  MSAESGRMRGHPSSSGDKKSKRKPKRKETYSVYIYKVLKQVHPDTG...   \n",
       "\n",
       "  variant_under_consideration sequence_accession publication_id  \n",
       "0                        None        XP_423715.4       35099534  "
      ]
     },
     "execution_count": 20,
     "metadata": {},
     "output_type": "execute_result"
    }
   ],
   "source": [
    "query = (\n",
    "    \"SELECT * FROM sequence s LEFT JOIN sequence_has_publication sp \"\n",
    "    \"ON s.accession = sp.sequence_accession \"\n",
    "    f\"WHERE s.accession='{ACCESSION}'\"\n",
    ")\n",
    "cursor.execute(query)\n",
    "df = pd.DataFrame(cursor.fetchall(), columns=[i[0] for i in cursor.description])\n",
    "df"
   ]
  },
  {
   "cell_type": "code",
   "execution_count": 21,
   "id": "24c59f80-2d0e-4b62-b124-f420c8d083fe",
   "metadata": {
    "tags": []
   },
   "outputs": [
    {
     "data": {
      "text/html": [
       "<div>\n",
       "<style scoped>\n",
       "    .dataframe tbody tr th:only-of-type {\n",
       "        vertical-align: middle;\n",
       "    }\n",
       "\n",
       "    .dataframe tbody tr th {\n",
       "        vertical-align: top;\n",
       "    }\n",
       "\n",
       "    .dataframe thead th {\n",
       "        text-align: right;\n",
       "    }\n",
       "</style>\n",
       "<table border=\"1\" class=\"dataframe\">\n",
       "  <thead>\n",
       "    <tr style=\"text-align: right;\">\n",
       "      <th></th>\n",
       "      <th>accession</th>\n",
       "      <th>variant</th>\n",
       "      <th>gi</th>\n",
       "      <th>ncbi_gene_id</th>\n",
       "      <th>hgnc_gene_name</th>\n",
       "      <th>taxonomy_id</th>\n",
       "      <th>organism</th>\n",
       "      <th>phylum</th>\n",
       "      <th>class</th>\n",
       "      <th>taxonomy_group</th>\n",
       "      <th>info</th>\n",
       "      <th>sequence</th>\n",
       "      <th>variant_under_consideration</th>\n",
       "      <th>sequence_accession</th>\n",
       "      <th>publication_id</th>\n",
       "    </tr>\n",
       "  </thead>\n",
       "  <tbody>\n",
       "    <tr>\n",
       "      <th>0</th>\n",
       "      <td>HISTDB_H2B_K_0</td>\n",
       "      <td>H2B.K</td>\n",
       "      <td>None</td>\n",
       "      <td>None</td>\n",
       "      <td>None</td>\n",
       "      <td>9940</td>\n",
       "      <td>Ovis aries</td>\n",
       "      <td>Chordata</td>\n",
       "      <td>Mammalia</td>\n",
       "      <td>None</td>\n",
       "      <td>None</td>\n",
       "      <td>MSAEHGQLQQAGGRRGRSPGDKKSRRRSRRKETYSMYIYKVLKQVH...</td>\n",
       "      <td>None</td>\n",
       "      <td>HISTDB_H2B_K_0</td>\n",
       "      <td>35099534</td>\n",
       "    </tr>\n",
       "    <tr>\n",
       "      <th>1</th>\n",
       "      <td>HISTDB_H2B_K_1</td>\n",
       "      <td>H2B.K</td>\n",
       "      <td>None</td>\n",
       "      <td>None</td>\n",
       "      <td>None</td>\n",
       "      <td>9615</td>\n",
       "      <td>Canis lupus familiaris</td>\n",
       "      <td>Chordata</td>\n",
       "      <td>Mammalia</td>\n",
       "      <td>None</td>\n",
       "      <td>None</td>\n",
       "      <td>MGTEHGQQPQSGGRRGHGSGDKKSKKHSRRKETYSMYIYKVLKQVH...</td>\n",
       "      <td>None</td>\n",
       "      <td>HISTDB_H2B_K_1</td>\n",
       "      <td>35099534</td>\n",
       "    </tr>\n",
       "    <tr>\n",
       "      <th>2</th>\n",
       "      <td>HISTDB_H2B_K_2</td>\n",
       "      <td>H2B.K</td>\n",
       "      <td>None</td>\n",
       "      <td>None</td>\n",
       "      <td>None</td>\n",
       "      <td>9258</td>\n",
       "      <td>Ornithorhynchus anatinus</td>\n",
       "      <td>Chordata</td>\n",
       "      <td>Mammalia</td>\n",
       "      <td>None</td>\n",
       "      <td>None</td>\n",
       "      <td>MSPEGGQQQQQQPRPRARGDRRPKRRTRRKETYSVYIYKVLKQVHP...</td>\n",
       "      <td>None</td>\n",
       "      <td>HISTDB_H2B_K_2</td>\n",
       "      <td>35099534</td>\n",
       "    </tr>\n",
       "    <tr>\n",
       "      <th>3</th>\n",
       "      <td>XP_002715119.2</td>\n",
       "      <td>H2B.K</td>\n",
       "      <td>None</td>\n",
       "      <td>None</td>\n",
       "      <td>None</td>\n",
       "      <td>9986</td>\n",
       "      <td>Oryctolagus cuniculus</td>\n",
       "      <td>Chordata</td>\n",
       "      <td>Mammalia</td>\n",
       "      <td>None</td>\n",
       "      <td>None</td>\n",
       "      <td>MSAERGQQQQQASSRRGRSSGNKKSRKRSKRKETYSMYIYKVLKQV...</td>\n",
       "      <td>None</td>\n",
       "      <td>XP_002715119.2</td>\n",
       "      <td>35099534</td>\n",
       "    </tr>\n",
       "    <tr>\n",
       "      <th>4</th>\n",
       "      <td>XP_005609614.1</td>\n",
       "      <td>H2B.K</td>\n",
       "      <td>None</td>\n",
       "      <td>None</td>\n",
       "      <td>None</td>\n",
       "      <td>9796</td>\n",
       "      <td>Equus caballus</td>\n",
       "      <td>Chordata</td>\n",
       "      <td>Mammalia</td>\n",
       "      <td>None</td>\n",
       "      <td>None</td>\n",
       "      <td>MSTEHGQQHQSGGRRGCSSGDKKSKKRSRRKETYSMYIYKVLKQVH...</td>\n",
       "      <td>None</td>\n",
       "      <td>XP_005609614.1</td>\n",
       "      <td>35099534</td>\n",
       "    </tr>\n",
       "    <tr>\n",
       "      <th>5</th>\n",
       "      <td>XP_010799227.1</td>\n",
       "      <td>H2B.K</td>\n",
       "      <td>None</td>\n",
       "      <td>None</td>\n",
       "      <td>None</td>\n",
       "      <td>9913</td>\n",
       "      <td>Bos taurus</td>\n",
       "      <td>Chordata</td>\n",
       "      <td>Mammalia</td>\n",
       "      <td>None</td>\n",
       "      <td>None</td>\n",
       "      <td>MSAEHGQLQQSGGRRGRSPGDKKSRRRSRRKETYSMYIYKVLKQVH...</td>\n",
       "      <td>None</td>\n",
       "      <td>XP_010799227.1</td>\n",
       "      <td>35099534</td>\n",
       "    </tr>\n",
       "    <tr>\n",
       "      <th>6</th>\n",
       "      <td>XP_013846203.1</td>\n",
       "      <td>H2B.K</td>\n",
       "      <td>None</td>\n",
       "      <td>None</td>\n",
       "      <td>None</td>\n",
       "      <td>9823</td>\n",
       "      <td>Sus scrofa</td>\n",
       "      <td>Chordata</td>\n",
       "      <td>Mammalia</td>\n",
       "      <td>None</td>\n",
       "      <td>None</td>\n",
       "      <td>MSSAHGQQQQQQQQQQQQQQQGGGRRGRSSGEKKSKKRNRRKETYS...</td>\n",
       "      <td>None</td>\n",
       "      <td>XP_013846203.1</td>\n",
       "      <td>35099534</td>\n",
       "    </tr>\n",
       "    <tr>\n",
       "      <th>7</th>\n",
       "      <td>XP_014643104.1</td>\n",
       "      <td>H2B.K</td>\n",
       "      <td>None</td>\n",
       "      <td>None</td>\n",
       "      <td>None</td>\n",
       "      <td>73337</td>\n",
       "      <td>Ceratotherium simum simum</td>\n",
       "      <td>Chordata</td>\n",
       "      <td>Mammalia</td>\n",
       "      <td>None</td>\n",
       "      <td>None</td>\n",
       "      <td>MSTEHGQQHHPGGRRGCSPGDKKFKKRSRRKETYSMYIYKVLKQVH...</td>\n",
       "      <td>None</td>\n",
       "      <td>XP_014643104.1</td>\n",
       "      <td>35099534</td>\n",
       "    </tr>\n",
       "    <tr>\n",
       "      <th>8</th>\n",
       "      <td>XP_019651116.1</td>\n",
       "      <td>H2B.K</td>\n",
       "      <td>None</td>\n",
       "      <td>None</td>\n",
       "      <td>None</td>\n",
       "      <td>9646</td>\n",
       "      <td>Ailuropoda melanoleuca</td>\n",
       "      <td>Chordata</td>\n",
       "      <td>Mammalia</td>\n",
       "      <td>None</td>\n",
       "      <td>None</td>\n",
       "      <td>MSAEHGRQQQPGGRRGRSSGDKKSRKRSRRKETYSMYIYKVLKQVH...</td>\n",
       "      <td>None</td>\n",
       "      <td>XP_019651116.1</td>\n",
       "      <td>35099534</td>\n",
       "    </tr>\n",
       "    <tr>\n",
       "      <th>9</th>\n",
       "      <td>XP_019681595.1</td>\n",
       "      <td>H2B.K</td>\n",
       "      <td>None</td>\n",
       "      <td>None</td>\n",
       "      <td>None</td>\n",
       "      <td>9685</td>\n",
       "      <td>Felis catus</td>\n",
       "      <td>Chordata</td>\n",
       "      <td>Mammalia</td>\n",
       "      <td>None</td>\n",
       "      <td>None</td>\n",
       "      <td>MSAEHGQQQQSGGRRGRSSGDKKSKKRSRRKETYSMYIYKVLKQVH...</td>\n",
       "      <td>None</td>\n",
       "      <td>XP_019681595.1</td>\n",
       "      <td>35099534</td>\n",
       "    </tr>\n",
       "    <tr>\n",
       "      <th>10</th>\n",
       "      <td>XP_022259586.1</td>\n",
       "      <td>H2B.K</td>\n",
       "      <td>None</td>\n",
       "      <td>None</td>\n",
       "      <td>None</td>\n",
       "      <td>9615</td>\n",
       "      <td>Canis lupus familiaris</td>\n",
       "      <td>Chordata</td>\n",
       "      <td>Mammalia</td>\n",
       "      <td>None</td>\n",
       "      <td>None</td>\n",
       "      <td>MGAEHGQQPQSGGRRGRGSGDKKSKKRSRRKETYSMYIYKVLKQVH...</td>\n",
       "      <td>None</td>\n",
       "      <td>XP_022259586.1</td>\n",
       "      <td>35099534</td>\n",
       "    </tr>\n",
       "    <tr>\n",
       "      <th>11</th>\n",
       "      <td>XP_023403847.1</td>\n",
       "      <td>H2B.K</td>\n",
       "      <td>None</td>\n",
       "      <td>None</td>\n",
       "      <td>None</td>\n",
       "      <td>9785</td>\n",
       "      <td>Loxodonta africana</td>\n",
       "      <td>Chordata</td>\n",
       "      <td>Mammalia</td>\n",
       "      <td>None</td>\n",
       "      <td>None</td>\n",
       "      <td>MSAELGQQQQQQQSGGQRGRSSGDKKPKKRSRRKENYSVYIYKVLK...</td>\n",
       "      <td>None</td>\n",
       "      <td>XP_023403847.1</td>\n",
       "      <td>35099534</td>\n",
       "    </tr>\n",
       "    <tr>\n",
       "      <th>12</th>\n",
       "      <td>XP_024846715.1</td>\n",
       "      <td>H2B.K</td>\n",
       "      <td>None</td>\n",
       "      <td>None</td>\n",
       "      <td>None</td>\n",
       "      <td>9913</td>\n",
       "      <td>Bos taurus</td>\n",
       "      <td>Chordata</td>\n",
       "      <td>Mammalia</td>\n",
       "      <td>None</td>\n",
       "      <td>None</td>\n",
       "      <td>MSAEHGQLQQSGGRRGRSPGDKKSRRRSRRKETYSMYIYKVLKQVH...</td>\n",
       "      <td>None</td>\n",
       "      <td>XP_024846715.1</td>\n",
       "      <td>35099534</td>\n",
       "    </tr>\n",
       "    <tr>\n",
       "      <th>13</th>\n",
       "      <td>XP_027824938.1</td>\n",
       "      <td>H2B.K</td>\n",
       "      <td>None</td>\n",
       "      <td>None</td>\n",
       "      <td>None</td>\n",
       "      <td>9940</td>\n",
       "      <td>Ovis aries</td>\n",
       "      <td>Chordata</td>\n",
       "      <td>Mammalia</td>\n",
       "      <td>None</td>\n",
       "      <td>None</td>\n",
       "      <td>MSAEHGQLQQSGGRRGRSPGDKKSRRRSRRKETYSMYIYKVLKQVH...</td>\n",
       "      <td>None</td>\n",
       "      <td>XP_027824938.1</td>\n",
       "      <td>35099534</td>\n",
       "    </tr>\n",
       "    <tr>\n",
       "      <th>14</th>\n",
       "      <td>XP_059747847.1</td>\n",
       "      <td>H2B.K</td>\n",
       "      <td>None</td>\n",
       "      <td>None</td>\n",
       "      <td>None</td>\n",
       "      <td>9913</td>\n",
       "      <td>Bos taurus</td>\n",
       "      <td>Chordata</td>\n",
       "      <td>Mammalia</td>\n",
       "      <td>None</td>\n",
       "      <td>None</td>\n",
       "      <td>MMDTRSSKLVCHNILRTRRMSAEHGQLQQSGGRRGRSPGDKKSRRR...</td>\n",
       "      <td>None</td>\n",
       "      <td>XP_059747847.1</td>\n",
       "      <td>35099534</td>\n",
       "    </tr>\n",
       "    <tr>\n",
       "      <th>15</th>\n",
       "      <td>XP_423715.4</td>\n",
       "      <td>H2B.K</td>\n",
       "      <td>None</td>\n",
       "      <td>None</td>\n",
       "      <td>None</td>\n",
       "      <td>9031</td>\n",
       "      <td>Gallus gallus</td>\n",
       "      <td>Chordata</td>\n",
       "      <td>Aves</td>\n",
       "      <td>None</td>\n",
       "      <td>None</td>\n",
       "      <td>MSAESGRMRGHPSSSGDKKSKRKPKRKETYSVYIYKVLKQVHPDTG...</td>\n",
       "      <td>None</td>\n",
       "      <td>XP_423715.4</td>\n",
       "      <td>35099534</td>\n",
       "    </tr>\n",
       "  </tbody>\n",
       "</table>\n",
       "</div>"
      ],
      "text/plain": [
       "         accession variant    gi ncbi_gene_id hgnc_gene_name  taxonomy_id  \\\n",
       "0   HISTDB_H2B_K_0   H2B.K  None         None           None         9940   \n",
       "1   HISTDB_H2B_K_1   H2B.K  None         None           None         9615   \n",
       "2   HISTDB_H2B_K_2   H2B.K  None         None           None         9258   \n",
       "3   XP_002715119.2   H2B.K  None         None           None         9986   \n",
       "4   XP_005609614.1   H2B.K  None         None           None         9796   \n",
       "5   XP_010799227.1   H2B.K  None         None           None         9913   \n",
       "6   XP_013846203.1   H2B.K  None         None           None         9823   \n",
       "7   XP_014643104.1   H2B.K  None         None           None        73337   \n",
       "8   XP_019651116.1   H2B.K  None         None           None         9646   \n",
       "9   XP_019681595.1   H2B.K  None         None           None         9685   \n",
       "10  XP_022259586.1   H2B.K  None         None           None         9615   \n",
       "11  XP_023403847.1   H2B.K  None         None           None         9785   \n",
       "12  XP_024846715.1   H2B.K  None         None           None         9913   \n",
       "13  XP_027824938.1   H2B.K  None         None           None         9940   \n",
       "14  XP_059747847.1   H2B.K  None         None           None         9913   \n",
       "15     XP_423715.4   H2B.K  None         None           None         9031   \n",
       "\n",
       "                     organism    phylum     class taxonomy_group  info  \\\n",
       "0                  Ovis aries  Chordata  Mammalia           None  None   \n",
       "1      Canis lupus familiaris  Chordata  Mammalia           None  None   \n",
       "2    Ornithorhynchus anatinus  Chordata  Mammalia           None  None   \n",
       "3       Oryctolagus cuniculus  Chordata  Mammalia           None  None   \n",
       "4              Equus caballus  Chordata  Mammalia           None  None   \n",
       "5                  Bos taurus  Chordata  Mammalia           None  None   \n",
       "6                  Sus scrofa  Chordata  Mammalia           None  None   \n",
       "7   Ceratotherium simum simum  Chordata  Mammalia           None  None   \n",
       "8      Ailuropoda melanoleuca  Chordata  Mammalia           None  None   \n",
       "9                 Felis catus  Chordata  Mammalia           None  None   \n",
       "10     Canis lupus familiaris  Chordata  Mammalia           None  None   \n",
       "11         Loxodonta africana  Chordata  Mammalia           None  None   \n",
       "12                 Bos taurus  Chordata  Mammalia           None  None   \n",
       "13                 Ovis aries  Chordata  Mammalia           None  None   \n",
       "14                 Bos taurus  Chordata  Mammalia           None  None   \n",
       "15              Gallus gallus  Chordata      Aves           None  None   \n",
       "\n",
       "                                             sequence  \\\n",
       "0   MSAEHGQLQQAGGRRGRSPGDKKSRRRSRRKETYSMYIYKVLKQVH...   \n",
       "1   MGTEHGQQPQSGGRRGHGSGDKKSKKHSRRKETYSMYIYKVLKQVH...   \n",
       "2   MSPEGGQQQQQQPRPRARGDRRPKRRTRRKETYSVYIYKVLKQVHP...   \n",
       "3   MSAERGQQQQQASSRRGRSSGNKKSRKRSKRKETYSMYIYKVLKQV...   \n",
       "4   MSTEHGQQHQSGGRRGCSSGDKKSKKRSRRKETYSMYIYKVLKQVH...   \n",
       "5   MSAEHGQLQQSGGRRGRSPGDKKSRRRSRRKETYSMYIYKVLKQVH...   \n",
       "6   MSSAHGQQQQQQQQQQQQQQQGGGRRGRSSGEKKSKKRNRRKETYS...   \n",
       "7   MSTEHGQQHHPGGRRGCSPGDKKFKKRSRRKETYSMYIYKVLKQVH...   \n",
       "8   MSAEHGRQQQPGGRRGRSSGDKKSRKRSRRKETYSMYIYKVLKQVH...   \n",
       "9   MSAEHGQQQQSGGRRGRSSGDKKSKKRSRRKETYSMYIYKVLKQVH...   \n",
       "10  MGAEHGQQPQSGGRRGRGSGDKKSKKRSRRKETYSMYIYKVLKQVH...   \n",
       "11  MSAELGQQQQQQQSGGQRGRSSGDKKPKKRSRRKENYSVYIYKVLK...   \n",
       "12  MSAEHGQLQQSGGRRGRSPGDKKSRRRSRRKETYSMYIYKVLKQVH...   \n",
       "13  MSAEHGQLQQSGGRRGRSPGDKKSRRRSRRKETYSMYIYKVLKQVH...   \n",
       "14  MMDTRSSKLVCHNILRTRRMSAEHGQLQQSGGRRGRSPGDKKSRRR...   \n",
       "15  MSAESGRMRGHPSSSGDKKSKRKPKRKETYSVYIYKVLKQVHPDTG...   \n",
       "\n",
       "   variant_under_consideration sequence_accession publication_id  \n",
       "0                         None     HISTDB_H2B_K_0       35099534  \n",
       "1                         None     HISTDB_H2B_K_1       35099534  \n",
       "2                         None     HISTDB_H2B_K_2       35099534  \n",
       "3                         None     XP_002715119.2       35099534  \n",
       "4                         None     XP_005609614.1       35099534  \n",
       "5                         None     XP_010799227.1       35099534  \n",
       "6                         None     XP_013846203.1       35099534  \n",
       "7                         None     XP_014643104.1       35099534  \n",
       "8                         None     XP_019651116.1       35099534  \n",
       "9                         None     XP_019681595.1       35099534  \n",
       "10                        None     XP_022259586.1       35099534  \n",
       "11                        None     XP_023403847.1       35099534  \n",
       "12                        None     XP_024846715.1       35099534  \n",
       "13                        None     XP_027824938.1       35099534  \n",
       "14                        None     XP_059747847.1       35099534  \n",
       "15                        None        XP_423715.4       35099534  "
      ]
     },
     "execution_count": 21,
     "metadata": {},
     "output_type": "execute_result"
    }
   ],
   "source": [
    "query = (\n",
    "    \"SELECT * FROM sequence s LEFT JOIN sequence_has_publication sp \"\n",
    "    \"ON s.accession = sp.sequence_accession \"\n",
    "    f\"WHERE s.variant='H2B.K'\"\n",
    ")\n",
    "cursor.execute(query)\n",
    "df = pd.DataFrame(cursor.fetchall(), columns=[i[0] for i in cursor.description])\n",
    "df"
   ]
  },
  {
   "cell_type": "code",
   "execution_count": 22,
   "id": "054ddcc7-8c0a-459d-aef4-dd64c6ddec6b",
   "metadata": {
    "tags": []
   },
   "outputs": [],
   "source": [
    "# Make sure data is committed to the database\n",
    "conn.commit()"
   ]
  },
  {
   "cell_type": "markdown",
   "id": "7bd5ac37-2243-4e6d-8bcb-60bf7169ec70",
   "metadata": {
    "jp-MarkdownHeadingCollapsed": true,
    "tags": []
   },
   "source": [
    "# Add zebra finch H2B.K\n",
    "\n",
    "**Atricle:** https://academic.oup.com/mbe/article/39/2/msac019/6517784#333890704\n",
    "\n",
    "**Gene:** Taeniopygia guttata, taeGut2, chr2, ++, 118721-119732\n",
    "\n",
    "**Protein accession:** XP_002190629.1"
   ]
  },
  {
   "cell_type": "code",
   "execution_count": 27,
   "id": "35309078-6aba-48a9-97f0-3df4c80c4d45",
   "metadata": {
    "tags": []
   },
   "outputs": [],
   "source": [
    "ACCESSION = \"XP_002190629.1\""
   ]
  },
  {
   "cell_type": "markdown",
   "id": "3621b302-3bd6-4c99-a86a-40ae2f1b8525",
   "metadata": {
    "tags": []
   },
   "source": [
    "## Get sequence XP_002190629.1 from NCBI"
   ]
  },
  {
   "cell_type": "code",
   "execution_count": 28,
   "id": "993f5bf3-4e95-45fd-9989-65ee0a204072",
   "metadata": {
    "tags": []
   },
   "outputs": [
    {
     "name": "stdout",
     "output_type": "stream",
     "text": [
      "ID: XP_002190629.1\n",
      "Name: XP_002190629\n",
      "Description: PREDICTED: late histone H2B.L4-like [Taeniopygia guttata]\n",
      "Database cross-references: BioProject:PRJNA32405\n",
      "Number of features: 3\n",
      "/topology=linear\n",
      "/data_file_division=VRT\n",
      "/date=26-MAY-2015\n",
      "/accessions=['XP_002190629']\n",
      "/sequence_version=1\n",
      "/db_source=REFSEQ: accession XM_002190593.1\n",
      "/keywords=['RefSeq', 'includes ab initio']\n",
      "/source=Taeniopygia guttata (zebra finch)\n",
      "/organism=Taeniopygia guttata\n",
      "/taxonomy=['Eukaryota', 'Metazoa', 'Chordata', 'Craniata', 'Vertebrata', 'Euteleostomi', 'Archelosauria', 'Archosauria', 'Dinosauria', 'Saurischia', 'Theropoda', 'Coelurosauria', 'Aves', 'Neognathae', 'Passeriformes', 'Passeroidea', 'Estrildidae', 'Estrildinae', 'Taeniopygia']\n",
      "/comment=MODEL REFSEQ:  This record is predicted by automated computational\n",
      "analysis. This record is derived from a genomic sequence\n",
      "(NW_002198248.1) annotated using gene prediction method: Gnomon.\n",
      "Also see:\n",
      "    Documentation of NCBI's Annotation Process\n",
      "[WARNING] On Aug 9, 2019 this sequence was replaced by\n",
      "XP_002190629.2.\n",
      "COMPLETENESS: full length.\n",
      "/structured_comment=OrderedDict([('Genome-Annotation-Data', OrderedDict([('Annotation Provider', 'NCBI'), ('Annotation Status', 'Full annotation'), ('Annotation Version', 'Taeniopygia guttata Annotation Release 103'), ('Annotation Pipeline', 'NCBI eukaryotic genome annotation pipeline'), ('Annotation Software Version', '6.3'), ('Annotation Method', 'Best-placed RefSeq; Gnomon'), ('Features Annotated', 'Gene; mRNA; CDS; ncRNA')])), ('RefSeq-Attributes', OrderedDict([('ab initio', '14% of CDS bases')]))])\n",
      "/molecule_type=protein\n",
      "Seq('MSSERLKKRGHAVASGKKSSKRKPKRKEAFSVYIYKVLKQVHPDLAISSKAMSI...TSK')\n"
     ]
    }
   ],
   "source": [
    "with Entrez.efetch(\n",
    "    db=\"protein\", id=ACCESSION, rettype=\"gb\", retmode=\"text\"\n",
    ") as handle:\n",
    "    record = SeqIO.read(handle, \"genbank\")\n",
    "    print(record)"
   ]
  },
  {
   "cell_type": "code",
   "execution_count": 29,
   "id": "c9bb3f46-c617-4d26-af01-0aca97ee0d75",
   "metadata": {
    "tags": []
   },
   "outputs": [
    {
     "data": {
      "text/plain": [
       "'MSSERLKKRGHAVASGKKSSKRKPKRKEAFSVYIYKVLKQVHPDLAISSKAMSIMNSFVNDMLERLAAEASRLARYRCHTTVSSREVQAAARQLLPGQLAQHAVSEGTKAVTKYTTSK'"
      ]
     },
     "execution_count": 29,
     "metadata": {},
     "output_type": "execute_result"
    }
   ],
   "source": [
    "str(record.seq)"
   ]
  },
  {
   "cell_type": "code",
   "execution_count": 30,
   "id": "d26a4b68-c647-41ae-a636-276a0412626a",
   "metadata": {
    "tags": []
   },
   "outputs": [
    {
     "data": {
      "text/plain": [
       "'Taeniopygia guttata'"
      ]
     },
     "execution_count": 30,
     "metadata": {},
     "output_type": "execute_result"
    }
   ],
   "source": [
    "record.annotations[\"organism\"]"
   ]
  },
  {
   "cell_type": "code",
   "execution_count": 31,
   "id": "b86b83c7-1818-4137-b2f1-137ca1ea9cfa",
   "metadata": {
    "tags": []
   },
   "outputs": [
    {
     "name": "stdout",
     "output_type": "stream",
     "text": [
      "Fetched taxid from NCBI <built-in function id>\n"
     ]
    },
    {
     "data": {
      "text/plain": [
       "{'organism': 'Taeniopygia guttata',\n",
       " 'taxonomy_id': 59729,\n",
       " 'phylum': 'Chordata',\n",
       " 'class': 'Aves'}"
      ]
     },
     "execution_count": 31,
     "metadata": {},
     "output_type": "execute_result"
    }
   ],
   "source": [
    "taxonomy_data = get_taxonomy_data(record)\n",
    "taxonomy_data"
   ]
  },
  {
   "cell_type": "markdown",
   "id": "afebc9c5-e47e-4157-8412-0ee27c97d24c",
   "metadata": {},
   "source": [
    "## Adding XP_002190629.1"
   ]
  },
  {
   "cell_type": "code",
   "execution_count": 32,
   "id": "decdcbf8-f485-4ae7-a6f7-c6641932009e",
   "metadata": {
    "tags": []
   },
   "outputs": [
    {
     "data": {
      "text/plain": [
       "{'accession': 'XP_002190629.1',\n",
       " 'variant': 'H2B.K',\n",
       " 'gi': None,\n",
       " 'ncbi_gene_id': None,\n",
       " 'hgnc_gene_name': None,\n",
       " 'taxonomy_id': 59729,\n",
       " 'organism': 'Taeniopygia guttata',\n",
       " 'phylum': 'Chordata',\n",
       " 'class': 'Aves',\n",
       " 'taxonomy_group': None,\n",
       " 'info': None,\n",
       " 'sequence': 'MSSERLKKRGHAVASGKKSSKRKPKRKEAFSVYIYKVLKQVHPDLAISSKAMSIMNSFVNDMLERLAAEASRLARYRCHTTVSSREVQAAARQLLPGQLAQHAVSEGTKAVTKYTTSK',\n",
       " 'variant_under_consideration': None}"
      ]
     },
     "execution_count": 32,
     "metadata": {},
     "output_type": "execute_result"
    }
   ],
   "source": [
    "data_sequence = {\n",
    "    \"accession\": ACCESSION,\n",
    "    \"variant\": \"H2B.K\",\n",
    "    \"gi\": None,\n",
    "    \"ncbi_gene_id\": None,\n",
    "    \"hgnc_gene_name\": None,\n",
    "    \"taxonomy_id\": None,\n",
    "    \"organism\": None,\n",
    "    \"phylum\": None,\n",
    "    \"class\": None,\n",
    "    \"taxonomy_group\": None,\n",
    "    \"info\": None,\n",
    "    \"sequence\": str(record.seq),\n",
    "    \"variant_under_consideration\": None,\n",
    "}\n",
    "data_sequence.update(taxonomy_data)\n",
    "data_sequence"
   ]
  },
  {
   "cell_type": "code",
   "execution_count": 33,
   "id": "3884d68f-be7f-4b8b-919d-373beaddcc52",
   "metadata": {
    "tags": []
   },
   "outputs": [
    {
     "name": "stdout",
     "output_type": "stream",
     "text": [
      "accession <class 'str'>\n",
      "variant <class 'str'>\n",
      "gi <class 'NoneType'>\n",
      "ncbi_gene_id <class 'NoneType'>\n",
      "hgnc_gene_name <class 'NoneType'>\n",
      "taxonomy_id <class 'int'>\n",
      "organism <class 'str'>\n",
      "phylum <class 'str'>\n",
      "class <class 'str'>\n",
      "taxonomy_group <class 'NoneType'>\n",
      "info <class 'NoneType'>\n",
      "sequence <class 'str'>\n",
      "variant_under_consideration <class 'NoneType'>\n"
     ]
    }
   ],
   "source": [
    "for k, v in data_sequence.items():\n",
    "    print(k, type(v))"
   ]
  },
  {
   "cell_type": "code",
   "execution_count": 34,
   "id": "4d637130-a7f1-476a-9e06-be3de2d09029",
   "metadata": {
    "tags": []
   },
   "outputs": [],
   "source": [
    "cursor.execute(add_sequence, data_sequence)"
   ]
  },
  {
   "cell_type": "code",
   "execution_count": 35,
   "id": "e082e6a8-dfd5-4659-871f-2ba63d0a39e0",
   "metadata": {
    "tags": []
   },
   "outputs": [
    {
     "data": {
      "text/html": [
       "<div>\n",
       "<style scoped>\n",
       "    .dataframe tbody tr th:only-of-type {\n",
       "        vertical-align: middle;\n",
       "    }\n",
       "\n",
       "    .dataframe tbody tr th {\n",
       "        vertical-align: top;\n",
       "    }\n",
       "\n",
       "    .dataframe thead th {\n",
       "        text-align: right;\n",
       "    }\n",
       "</style>\n",
       "<table border=\"1\" class=\"dataframe\">\n",
       "  <thead>\n",
       "    <tr style=\"text-align: right;\">\n",
       "      <th></th>\n",
       "      <th>accession</th>\n",
       "      <th>variant</th>\n",
       "      <th>gi</th>\n",
       "      <th>ncbi_gene_id</th>\n",
       "      <th>hgnc_gene_name</th>\n",
       "      <th>taxonomy_id</th>\n",
       "      <th>organism</th>\n",
       "      <th>phylum</th>\n",
       "      <th>class</th>\n",
       "      <th>taxonomy_group</th>\n",
       "      <th>info</th>\n",
       "      <th>sequence</th>\n",
       "      <th>variant_under_consideration</th>\n",
       "      <th>sequence_accession</th>\n",
       "      <th>publication_id</th>\n",
       "    </tr>\n",
       "  </thead>\n",
       "  <tbody>\n",
       "    <tr>\n",
       "      <th>0</th>\n",
       "      <td>XP_002190629.1</td>\n",
       "      <td>H2B.K</td>\n",
       "      <td>None</td>\n",
       "      <td>None</td>\n",
       "      <td>None</td>\n",
       "      <td>59729</td>\n",
       "      <td>Taeniopygia guttata</td>\n",
       "      <td>Chordata</td>\n",
       "      <td>Aves</td>\n",
       "      <td>None</td>\n",
       "      <td>None</td>\n",
       "      <td>MSSERLKKRGHAVASGKKSSKRKPKRKEAFSVYIYKVLKQVHPDLA...</td>\n",
       "      <td>None</td>\n",
       "      <td>None</td>\n",
       "      <td>None</td>\n",
       "    </tr>\n",
       "  </tbody>\n",
       "</table>\n",
       "</div>"
      ],
      "text/plain": [
       "        accession variant    gi ncbi_gene_id hgnc_gene_name  taxonomy_id  \\\n",
       "0  XP_002190629.1   H2B.K  None         None           None        59729   \n",
       "\n",
       "              organism    phylum class taxonomy_group  info  \\\n",
       "0  Taeniopygia guttata  Chordata  Aves           None  None   \n",
       "\n",
       "                                            sequence  \\\n",
       "0  MSSERLKKRGHAVASGKKSSKRKPKRKEAFSVYIYKVLKQVHPDLA...   \n",
       "\n",
       "  variant_under_consideration sequence_accession publication_id  \n",
       "0                        None               None           None  "
      ]
     },
     "execution_count": 35,
     "metadata": {},
     "output_type": "execute_result"
    }
   ],
   "source": [
    "query = (\n",
    "    \"SELECT * FROM sequence s LEFT JOIN sequence_has_publication sp \"\n",
    "    \"ON s.accession = sp.sequence_accession \"\n",
    "    f\"WHERE s.accession='{ACCESSION}'\"\n",
    ")\n",
    "cursor.execute(query)\n",
    "df = pd.DataFrame(cursor.fetchall(), columns=[i[0] for i in cursor.description])\n",
    "df"
   ]
  },
  {
   "cell_type": "markdown",
   "id": "0832af55-d156-4c99-8897-088c3d7cbb93",
   "metadata": {},
   "source": [
    "## Add publication"
   ]
  },
  {
   "cell_type": "code",
   "execution_count": 36,
   "id": "19848430-697c-4024-a013-2331aa3c26d0",
   "metadata": {
    "tags": []
   },
   "outputs": [
    {
     "data": {
      "text/html": [
       "<div>\n",
       "<style scoped>\n",
       "    .dataframe tbody tr th:only-of-type {\n",
       "        vertical-align: middle;\n",
       "    }\n",
       "\n",
       "    .dataframe tbody tr th {\n",
       "        vertical-align: top;\n",
       "    }\n",
       "\n",
       "    .dataframe thead th {\n",
       "        text-align: right;\n",
       "    }\n",
       "</style>\n",
       "<table border=\"1\" class=\"dataframe\">\n",
       "  <thead>\n",
       "    <tr style=\"text-align: right;\">\n",
       "      <th></th>\n",
       "      <th>id</th>\n",
       "      <th>title</th>\n",
       "      <th>doi</th>\n",
       "      <th>author</th>\n",
       "      <th>year</th>\n",
       "    </tr>\n",
       "  </thead>\n",
       "  <tbody>\n",
       "    <tr>\n",
       "      <th>0</th>\n",
       "      <td>35099534</td>\n",
       "      <td>None</td>\n",
       "      <td>None</td>\n",
       "      <td>None</td>\n",
       "      <td>None</td>\n",
       "    </tr>\n",
       "  </tbody>\n",
       "</table>\n",
       "</div>"
      ],
      "text/plain": [
       "         id title   doi author  year\n",
       "0  35099534  None  None   None  None"
      ]
     },
     "execution_count": 36,
     "metadata": {},
     "output_type": "execute_result"
    }
   ],
   "source": [
    "pid = \"35099534\"\n",
    "query = \"SELECT * FROM publication WHERE id='35099534'\"\n",
    "cursor.execute(query)\n",
    "pd.DataFrame(cursor.fetchall(), columns=[i[0] for i in cursor.description])"
   ]
  },
  {
   "cell_type": "code",
   "execution_count": 37,
   "id": "94dcce42-cfb0-4d4f-b2c2-c10a462dc330",
   "metadata": {
    "tags": []
   },
   "outputs": [],
   "source": [
    "cursor.execute(add_sequence_has_publication, (ACCESSION, pid))"
   ]
  },
  {
   "cell_type": "code",
   "execution_count": 38,
   "id": "2a407220-1105-47c9-8e33-95854157cf3f",
   "metadata": {
    "tags": []
   },
   "outputs": [
    {
     "data": {
      "text/html": [
       "<div>\n",
       "<style scoped>\n",
       "    .dataframe tbody tr th:only-of-type {\n",
       "        vertical-align: middle;\n",
       "    }\n",
       "\n",
       "    .dataframe tbody tr th {\n",
       "        vertical-align: top;\n",
       "    }\n",
       "\n",
       "    .dataframe thead th {\n",
       "        text-align: right;\n",
       "    }\n",
       "</style>\n",
       "<table border=\"1\" class=\"dataframe\">\n",
       "  <thead>\n",
       "    <tr style=\"text-align: right;\">\n",
       "      <th></th>\n",
       "      <th>accession</th>\n",
       "      <th>variant</th>\n",
       "      <th>gi</th>\n",
       "      <th>ncbi_gene_id</th>\n",
       "      <th>hgnc_gene_name</th>\n",
       "      <th>taxonomy_id</th>\n",
       "      <th>organism</th>\n",
       "      <th>phylum</th>\n",
       "      <th>class</th>\n",
       "      <th>taxonomy_group</th>\n",
       "      <th>info</th>\n",
       "      <th>sequence</th>\n",
       "      <th>variant_under_consideration</th>\n",
       "      <th>sequence_accession</th>\n",
       "      <th>publication_id</th>\n",
       "    </tr>\n",
       "  </thead>\n",
       "  <tbody>\n",
       "    <tr>\n",
       "      <th>0</th>\n",
       "      <td>XP_002190629.1</td>\n",
       "      <td>H2B.K</td>\n",
       "      <td>None</td>\n",
       "      <td>None</td>\n",
       "      <td>None</td>\n",
       "      <td>59729</td>\n",
       "      <td>Taeniopygia guttata</td>\n",
       "      <td>Chordata</td>\n",
       "      <td>Aves</td>\n",
       "      <td>None</td>\n",
       "      <td>None</td>\n",
       "      <td>MSSERLKKRGHAVASGKKSSKRKPKRKEAFSVYIYKVLKQVHPDLA...</td>\n",
       "      <td>None</td>\n",
       "      <td>XP_002190629.1</td>\n",
       "      <td>35099534</td>\n",
       "    </tr>\n",
       "  </tbody>\n",
       "</table>\n",
       "</div>"
      ],
      "text/plain": [
       "        accession variant    gi ncbi_gene_id hgnc_gene_name  taxonomy_id  \\\n",
       "0  XP_002190629.1   H2B.K  None         None           None        59729   \n",
       "\n",
       "              organism    phylum class taxonomy_group  info  \\\n",
       "0  Taeniopygia guttata  Chordata  Aves           None  None   \n",
       "\n",
       "                                            sequence  \\\n",
       "0  MSSERLKKRGHAVASGKKSSKRKPKRKEAFSVYIYKVLKQVHPDLA...   \n",
       "\n",
       "  variant_under_consideration sequence_accession publication_id  \n",
       "0                        None     XP_002190629.1       35099534  "
      ]
     },
     "execution_count": 38,
     "metadata": {},
     "output_type": "execute_result"
    }
   ],
   "source": [
    "query = (\n",
    "    \"SELECT * FROM sequence s LEFT JOIN sequence_has_publication sp \"\n",
    "    \"ON s.accession = sp.sequence_accession \"\n",
    "    f\"WHERE s.accession='{ACCESSION}'\"\n",
    ")\n",
    "cursor.execute(query)\n",
    "df = pd.DataFrame(cursor.fetchall(), columns=[i[0] for i in cursor.description])\n",
    "df"
   ]
  },
  {
   "cell_type": "code",
   "execution_count": 39,
   "id": "59b97f4e-cece-4dd9-a45b-a752baaf9ab6",
   "metadata": {
    "tags": []
   },
   "outputs": [
    {
     "data": {
      "text/html": [
       "<div>\n",
       "<style scoped>\n",
       "    .dataframe tbody tr th:only-of-type {\n",
       "        vertical-align: middle;\n",
       "    }\n",
       "\n",
       "    .dataframe tbody tr th {\n",
       "        vertical-align: top;\n",
       "    }\n",
       "\n",
       "    .dataframe thead th {\n",
       "        text-align: right;\n",
       "    }\n",
       "</style>\n",
       "<table border=\"1\" class=\"dataframe\">\n",
       "  <thead>\n",
       "    <tr style=\"text-align: right;\">\n",
       "      <th></th>\n",
       "      <th>accession</th>\n",
       "      <th>variant</th>\n",
       "      <th>gi</th>\n",
       "      <th>ncbi_gene_id</th>\n",
       "      <th>hgnc_gene_name</th>\n",
       "      <th>taxonomy_id</th>\n",
       "      <th>organism</th>\n",
       "      <th>phylum</th>\n",
       "      <th>class</th>\n",
       "      <th>taxonomy_group</th>\n",
       "      <th>info</th>\n",
       "      <th>sequence</th>\n",
       "      <th>variant_under_consideration</th>\n",
       "      <th>sequence_accession</th>\n",
       "      <th>publication_id</th>\n",
       "    </tr>\n",
       "  </thead>\n",
       "  <tbody>\n",
       "    <tr>\n",
       "      <th>0</th>\n",
       "      <td>HISTDB_H2B_K_0</td>\n",
       "      <td>H2B.K</td>\n",
       "      <td>None</td>\n",
       "      <td>None</td>\n",
       "      <td>None</td>\n",
       "      <td>9940</td>\n",
       "      <td>Ovis aries</td>\n",
       "      <td>Chordata</td>\n",
       "      <td>Mammalia</td>\n",
       "      <td>None</td>\n",
       "      <td>None</td>\n",
       "      <td>MSAEHGQLQQAGGRRGRSPGDKKSRRRSRRKETYSMYIYKVLKQVH...</td>\n",
       "      <td>None</td>\n",
       "      <td>HISTDB_H2B_K_0</td>\n",
       "      <td>35099534</td>\n",
       "    </tr>\n",
       "    <tr>\n",
       "      <th>1</th>\n",
       "      <td>HISTDB_H2B_K_1</td>\n",
       "      <td>H2B.K</td>\n",
       "      <td>None</td>\n",
       "      <td>None</td>\n",
       "      <td>None</td>\n",
       "      <td>9615</td>\n",
       "      <td>Canis lupus familiaris</td>\n",
       "      <td>Chordata</td>\n",
       "      <td>Mammalia</td>\n",
       "      <td>None</td>\n",
       "      <td>None</td>\n",
       "      <td>MGTEHGQQPQSGGRRGHGSGDKKSKKHSRRKETYSMYIYKVLKQVH...</td>\n",
       "      <td>None</td>\n",
       "      <td>HISTDB_H2B_K_1</td>\n",
       "      <td>35099534</td>\n",
       "    </tr>\n",
       "    <tr>\n",
       "      <th>2</th>\n",
       "      <td>HISTDB_H2B_K_2</td>\n",
       "      <td>H2B.K</td>\n",
       "      <td>None</td>\n",
       "      <td>None</td>\n",
       "      <td>None</td>\n",
       "      <td>9258</td>\n",
       "      <td>Ornithorhynchus anatinus</td>\n",
       "      <td>Chordata</td>\n",
       "      <td>Mammalia</td>\n",
       "      <td>None</td>\n",
       "      <td>None</td>\n",
       "      <td>MSPEGGQQQQQQPRPRARGDRRPKRRTRRKETYSVYIYKVLKQVHP...</td>\n",
       "      <td>None</td>\n",
       "      <td>HISTDB_H2B_K_2</td>\n",
       "      <td>35099534</td>\n",
       "    </tr>\n",
       "    <tr>\n",
       "      <th>3</th>\n",
       "      <td>XP_002190629.1</td>\n",
       "      <td>H2B.K</td>\n",
       "      <td>None</td>\n",
       "      <td>None</td>\n",
       "      <td>None</td>\n",
       "      <td>59729</td>\n",
       "      <td>Taeniopygia guttata</td>\n",
       "      <td>Chordata</td>\n",
       "      <td>Aves</td>\n",
       "      <td>None</td>\n",
       "      <td>None</td>\n",
       "      <td>MSSERLKKRGHAVASGKKSSKRKPKRKEAFSVYIYKVLKQVHPDLA...</td>\n",
       "      <td>None</td>\n",
       "      <td>XP_002190629.1</td>\n",
       "      <td>35099534</td>\n",
       "    </tr>\n",
       "    <tr>\n",
       "      <th>4</th>\n",
       "      <td>XP_002715119.2</td>\n",
       "      <td>H2B.K</td>\n",
       "      <td>None</td>\n",
       "      <td>None</td>\n",
       "      <td>None</td>\n",
       "      <td>9986</td>\n",
       "      <td>Oryctolagus cuniculus</td>\n",
       "      <td>Chordata</td>\n",
       "      <td>Mammalia</td>\n",
       "      <td>None</td>\n",
       "      <td>None</td>\n",
       "      <td>MSAERGQQQQQASSRRGRSSGNKKSRKRSKRKETYSMYIYKVLKQV...</td>\n",
       "      <td>None</td>\n",
       "      <td>XP_002715119.2</td>\n",
       "      <td>35099534</td>\n",
       "    </tr>\n",
       "    <tr>\n",
       "      <th>5</th>\n",
       "      <td>XP_005609614.1</td>\n",
       "      <td>H2B.K</td>\n",
       "      <td>None</td>\n",
       "      <td>None</td>\n",
       "      <td>None</td>\n",
       "      <td>9796</td>\n",
       "      <td>Equus caballus</td>\n",
       "      <td>Chordata</td>\n",
       "      <td>Mammalia</td>\n",
       "      <td>None</td>\n",
       "      <td>None</td>\n",
       "      <td>MSTEHGQQHQSGGRRGCSSGDKKSKKRSRRKETYSMYIYKVLKQVH...</td>\n",
       "      <td>None</td>\n",
       "      <td>XP_005609614.1</td>\n",
       "      <td>35099534</td>\n",
       "    </tr>\n",
       "    <tr>\n",
       "      <th>6</th>\n",
       "      <td>XP_010799227.1</td>\n",
       "      <td>H2B.K</td>\n",
       "      <td>None</td>\n",
       "      <td>None</td>\n",
       "      <td>None</td>\n",
       "      <td>9913</td>\n",
       "      <td>Bos taurus</td>\n",
       "      <td>Chordata</td>\n",
       "      <td>Mammalia</td>\n",
       "      <td>None</td>\n",
       "      <td>None</td>\n",
       "      <td>MSAEHGQLQQSGGRRGRSPGDKKSRRRSRRKETYSMYIYKVLKQVH...</td>\n",
       "      <td>None</td>\n",
       "      <td>XP_010799227.1</td>\n",
       "      <td>35099534</td>\n",
       "    </tr>\n",
       "    <tr>\n",
       "      <th>7</th>\n",
       "      <td>XP_013846203.1</td>\n",
       "      <td>H2B.K</td>\n",
       "      <td>None</td>\n",
       "      <td>None</td>\n",
       "      <td>None</td>\n",
       "      <td>9823</td>\n",
       "      <td>Sus scrofa</td>\n",
       "      <td>Chordata</td>\n",
       "      <td>Mammalia</td>\n",
       "      <td>None</td>\n",
       "      <td>None</td>\n",
       "      <td>MSSAHGQQQQQQQQQQQQQQQGGGRRGRSSGEKKSKKRNRRKETYS...</td>\n",
       "      <td>None</td>\n",
       "      <td>XP_013846203.1</td>\n",
       "      <td>35099534</td>\n",
       "    </tr>\n",
       "    <tr>\n",
       "      <th>8</th>\n",
       "      <td>XP_014643104.1</td>\n",
       "      <td>H2B.K</td>\n",
       "      <td>None</td>\n",
       "      <td>None</td>\n",
       "      <td>None</td>\n",
       "      <td>73337</td>\n",
       "      <td>Ceratotherium simum simum</td>\n",
       "      <td>Chordata</td>\n",
       "      <td>Mammalia</td>\n",
       "      <td>None</td>\n",
       "      <td>None</td>\n",
       "      <td>MSTEHGQQHHPGGRRGCSPGDKKFKKRSRRKETYSMYIYKVLKQVH...</td>\n",
       "      <td>None</td>\n",
       "      <td>XP_014643104.1</td>\n",
       "      <td>35099534</td>\n",
       "    </tr>\n",
       "    <tr>\n",
       "      <th>9</th>\n",
       "      <td>XP_019651116.1</td>\n",
       "      <td>H2B.K</td>\n",
       "      <td>None</td>\n",
       "      <td>None</td>\n",
       "      <td>None</td>\n",
       "      <td>9646</td>\n",
       "      <td>Ailuropoda melanoleuca</td>\n",
       "      <td>Chordata</td>\n",
       "      <td>Mammalia</td>\n",
       "      <td>None</td>\n",
       "      <td>None</td>\n",
       "      <td>MSAEHGRQQQPGGRRGRSSGDKKSRKRSRRKETYSMYIYKVLKQVH...</td>\n",
       "      <td>None</td>\n",
       "      <td>XP_019651116.1</td>\n",
       "      <td>35099534</td>\n",
       "    </tr>\n",
       "    <tr>\n",
       "      <th>10</th>\n",
       "      <td>XP_019681595.1</td>\n",
       "      <td>H2B.K</td>\n",
       "      <td>None</td>\n",
       "      <td>None</td>\n",
       "      <td>None</td>\n",
       "      <td>9685</td>\n",
       "      <td>Felis catus</td>\n",
       "      <td>Chordata</td>\n",
       "      <td>Mammalia</td>\n",
       "      <td>None</td>\n",
       "      <td>None</td>\n",
       "      <td>MSAEHGQQQQSGGRRGRSSGDKKSKKRSRRKETYSMYIYKVLKQVH...</td>\n",
       "      <td>None</td>\n",
       "      <td>XP_019681595.1</td>\n",
       "      <td>35099534</td>\n",
       "    </tr>\n",
       "    <tr>\n",
       "      <th>11</th>\n",
       "      <td>XP_022259586.1</td>\n",
       "      <td>H2B.K</td>\n",
       "      <td>None</td>\n",
       "      <td>None</td>\n",
       "      <td>None</td>\n",
       "      <td>9615</td>\n",
       "      <td>Canis lupus familiaris</td>\n",
       "      <td>Chordata</td>\n",
       "      <td>Mammalia</td>\n",
       "      <td>None</td>\n",
       "      <td>None</td>\n",
       "      <td>MGAEHGQQPQSGGRRGRGSGDKKSKKRSRRKETYSMYIYKVLKQVH...</td>\n",
       "      <td>None</td>\n",
       "      <td>XP_022259586.1</td>\n",
       "      <td>35099534</td>\n",
       "    </tr>\n",
       "    <tr>\n",
       "      <th>12</th>\n",
       "      <td>XP_023403847.1</td>\n",
       "      <td>H2B.K</td>\n",
       "      <td>None</td>\n",
       "      <td>None</td>\n",
       "      <td>None</td>\n",
       "      <td>9785</td>\n",
       "      <td>Loxodonta africana</td>\n",
       "      <td>Chordata</td>\n",
       "      <td>Mammalia</td>\n",
       "      <td>None</td>\n",
       "      <td>None</td>\n",
       "      <td>MSAELGQQQQQQQSGGQRGRSSGDKKPKKRSRRKENYSVYIYKVLK...</td>\n",
       "      <td>None</td>\n",
       "      <td>XP_023403847.1</td>\n",
       "      <td>35099534</td>\n",
       "    </tr>\n",
       "    <tr>\n",
       "      <th>13</th>\n",
       "      <td>XP_024846715.1</td>\n",
       "      <td>H2B.K</td>\n",
       "      <td>None</td>\n",
       "      <td>None</td>\n",
       "      <td>None</td>\n",
       "      <td>9913</td>\n",
       "      <td>Bos taurus</td>\n",
       "      <td>Chordata</td>\n",
       "      <td>Mammalia</td>\n",
       "      <td>None</td>\n",
       "      <td>None</td>\n",
       "      <td>MSAEHGQLQQSGGRRGRSPGDKKSRRRSRRKETYSMYIYKVLKQVH...</td>\n",
       "      <td>None</td>\n",
       "      <td>XP_024846715.1</td>\n",
       "      <td>35099534</td>\n",
       "    </tr>\n",
       "    <tr>\n",
       "      <th>14</th>\n",
       "      <td>XP_027824938.1</td>\n",
       "      <td>H2B.K</td>\n",
       "      <td>None</td>\n",
       "      <td>None</td>\n",
       "      <td>None</td>\n",
       "      <td>9940</td>\n",
       "      <td>Ovis aries</td>\n",
       "      <td>Chordata</td>\n",
       "      <td>Mammalia</td>\n",
       "      <td>None</td>\n",
       "      <td>None</td>\n",
       "      <td>MSAEHGQLQQSGGRRGRSPGDKKSRRRSRRKETYSMYIYKVLKQVH...</td>\n",
       "      <td>None</td>\n",
       "      <td>XP_027824938.1</td>\n",
       "      <td>35099534</td>\n",
       "    </tr>\n",
       "    <tr>\n",
       "      <th>15</th>\n",
       "      <td>XP_059747847.1</td>\n",
       "      <td>H2B.K</td>\n",
       "      <td>None</td>\n",
       "      <td>None</td>\n",
       "      <td>None</td>\n",
       "      <td>9913</td>\n",
       "      <td>Bos taurus</td>\n",
       "      <td>Chordata</td>\n",
       "      <td>Mammalia</td>\n",
       "      <td>None</td>\n",
       "      <td>None</td>\n",
       "      <td>MMDTRSSKLVCHNILRTRRMSAEHGQLQQSGGRRGRSPGDKKSRRR...</td>\n",
       "      <td>None</td>\n",
       "      <td>XP_059747847.1</td>\n",
       "      <td>35099534</td>\n",
       "    </tr>\n",
       "    <tr>\n",
       "      <th>16</th>\n",
       "      <td>XP_423715.4</td>\n",
       "      <td>H2B.K</td>\n",
       "      <td>None</td>\n",
       "      <td>None</td>\n",
       "      <td>None</td>\n",
       "      <td>9031</td>\n",
       "      <td>Gallus gallus</td>\n",
       "      <td>Chordata</td>\n",
       "      <td>Aves</td>\n",
       "      <td>None</td>\n",
       "      <td>None</td>\n",
       "      <td>MSAESGRMRGHPSSSGDKKSKRKPKRKETYSVYIYKVLKQVHPDTG...</td>\n",
       "      <td>None</td>\n",
       "      <td>XP_423715.4</td>\n",
       "      <td>35099534</td>\n",
       "    </tr>\n",
       "  </tbody>\n",
       "</table>\n",
       "</div>"
      ],
      "text/plain": [
       "         accession variant    gi ncbi_gene_id hgnc_gene_name  taxonomy_id  \\\n",
       "0   HISTDB_H2B_K_0   H2B.K  None         None           None         9940   \n",
       "1   HISTDB_H2B_K_1   H2B.K  None         None           None         9615   \n",
       "2   HISTDB_H2B_K_2   H2B.K  None         None           None         9258   \n",
       "3   XP_002190629.1   H2B.K  None         None           None        59729   \n",
       "4   XP_002715119.2   H2B.K  None         None           None         9986   \n",
       "5   XP_005609614.1   H2B.K  None         None           None         9796   \n",
       "6   XP_010799227.1   H2B.K  None         None           None         9913   \n",
       "7   XP_013846203.1   H2B.K  None         None           None         9823   \n",
       "8   XP_014643104.1   H2B.K  None         None           None        73337   \n",
       "9   XP_019651116.1   H2B.K  None         None           None         9646   \n",
       "10  XP_019681595.1   H2B.K  None         None           None         9685   \n",
       "11  XP_022259586.1   H2B.K  None         None           None         9615   \n",
       "12  XP_023403847.1   H2B.K  None         None           None         9785   \n",
       "13  XP_024846715.1   H2B.K  None         None           None         9913   \n",
       "14  XP_027824938.1   H2B.K  None         None           None         9940   \n",
       "15  XP_059747847.1   H2B.K  None         None           None         9913   \n",
       "16     XP_423715.4   H2B.K  None         None           None         9031   \n",
       "\n",
       "                     organism    phylum     class taxonomy_group  info  \\\n",
       "0                  Ovis aries  Chordata  Mammalia           None  None   \n",
       "1      Canis lupus familiaris  Chordata  Mammalia           None  None   \n",
       "2    Ornithorhynchus anatinus  Chordata  Mammalia           None  None   \n",
       "3         Taeniopygia guttata  Chordata      Aves           None  None   \n",
       "4       Oryctolagus cuniculus  Chordata  Mammalia           None  None   \n",
       "5              Equus caballus  Chordata  Mammalia           None  None   \n",
       "6                  Bos taurus  Chordata  Mammalia           None  None   \n",
       "7                  Sus scrofa  Chordata  Mammalia           None  None   \n",
       "8   Ceratotherium simum simum  Chordata  Mammalia           None  None   \n",
       "9      Ailuropoda melanoleuca  Chordata  Mammalia           None  None   \n",
       "10                Felis catus  Chordata  Mammalia           None  None   \n",
       "11     Canis lupus familiaris  Chordata  Mammalia           None  None   \n",
       "12         Loxodonta africana  Chordata  Mammalia           None  None   \n",
       "13                 Bos taurus  Chordata  Mammalia           None  None   \n",
       "14                 Ovis aries  Chordata  Mammalia           None  None   \n",
       "15                 Bos taurus  Chordata  Mammalia           None  None   \n",
       "16              Gallus gallus  Chordata      Aves           None  None   \n",
       "\n",
       "                                             sequence  \\\n",
       "0   MSAEHGQLQQAGGRRGRSPGDKKSRRRSRRKETYSMYIYKVLKQVH...   \n",
       "1   MGTEHGQQPQSGGRRGHGSGDKKSKKHSRRKETYSMYIYKVLKQVH...   \n",
       "2   MSPEGGQQQQQQPRPRARGDRRPKRRTRRKETYSVYIYKVLKQVHP...   \n",
       "3   MSSERLKKRGHAVASGKKSSKRKPKRKEAFSVYIYKVLKQVHPDLA...   \n",
       "4   MSAERGQQQQQASSRRGRSSGNKKSRKRSKRKETYSMYIYKVLKQV...   \n",
       "5   MSTEHGQQHQSGGRRGCSSGDKKSKKRSRRKETYSMYIYKVLKQVH...   \n",
       "6   MSAEHGQLQQSGGRRGRSPGDKKSRRRSRRKETYSMYIYKVLKQVH...   \n",
       "7   MSSAHGQQQQQQQQQQQQQQQGGGRRGRSSGEKKSKKRNRRKETYS...   \n",
       "8   MSTEHGQQHHPGGRRGCSPGDKKFKKRSRRKETYSMYIYKVLKQVH...   \n",
       "9   MSAEHGRQQQPGGRRGRSSGDKKSRKRSRRKETYSMYIYKVLKQVH...   \n",
       "10  MSAEHGQQQQSGGRRGRSSGDKKSKKRSRRKETYSMYIYKVLKQVH...   \n",
       "11  MGAEHGQQPQSGGRRGRGSGDKKSKKRSRRKETYSMYIYKVLKQVH...   \n",
       "12  MSAELGQQQQQQQSGGQRGRSSGDKKPKKRSRRKENYSVYIYKVLK...   \n",
       "13  MSAEHGQLQQSGGRRGRSPGDKKSRRRSRRKETYSMYIYKVLKQVH...   \n",
       "14  MSAEHGQLQQSGGRRGRSPGDKKSRRRSRRKETYSMYIYKVLKQVH...   \n",
       "15  MMDTRSSKLVCHNILRTRRMSAEHGQLQQSGGRRGRSPGDKKSRRR...   \n",
       "16  MSAESGRMRGHPSSSGDKKSKRKPKRKETYSVYIYKVLKQVHPDTG...   \n",
       "\n",
       "   variant_under_consideration sequence_accession publication_id  \n",
       "0                         None     HISTDB_H2B_K_0       35099534  \n",
       "1                         None     HISTDB_H2B_K_1       35099534  \n",
       "2                         None     HISTDB_H2B_K_2       35099534  \n",
       "3                         None     XP_002190629.1       35099534  \n",
       "4                         None     XP_002715119.2       35099534  \n",
       "5                         None     XP_005609614.1       35099534  \n",
       "6                         None     XP_010799227.1       35099534  \n",
       "7                         None     XP_013846203.1       35099534  \n",
       "8                         None     XP_014643104.1       35099534  \n",
       "9                         None     XP_019651116.1       35099534  \n",
       "10                        None     XP_019681595.1       35099534  \n",
       "11                        None     XP_022259586.1       35099534  \n",
       "12                        None     XP_023403847.1       35099534  \n",
       "13                        None     XP_024846715.1       35099534  \n",
       "14                        None     XP_027824938.1       35099534  \n",
       "15                        None     XP_059747847.1       35099534  \n",
       "16                        None        XP_423715.4       35099534  "
      ]
     },
     "execution_count": 39,
     "metadata": {},
     "output_type": "execute_result"
    }
   ],
   "source": [
    "query = (\n",
    "    \"SELECT * FROM sequence s LEFT JOIN sequence_has_publication sp \"\n",
    "    \"ON s.accession = sp.sequence_accession \"\n",
    "    f\"WHERE s.variant='H2B.K'\"\n",
    ")\n",
    "cursor.execute(query)\n",
    "df = pd.DataFrame(cursor.fetchall(), columns=[i[0] for i in cursor.description])\n",
    "df"
   ]
  },
  {
   "cell_type": "code",
   "execution_count": 41,
   "id": "b00e68d9-2c97-403d-a8ef-b78339235a04",
   "metadata": {
    "tags": []
   },
   "outputs": [],
   "source": [
    "# Make sure data is committed to the database\n",
    "conn.commit()"
   ]
  },
  {
   "cell_type": "markdown",
   "id": "964938d8-ebfa-4fa0-b189-171cae34703b",
   "metadata": {
    "jp-MarkdownHeadingCollapsed": true,
    "tags": []
   },
   "source": [
    "# Add zebrafish H2B.K\n",
    "\n",
    "**Atricle:** https://academic.oup.com/mbe/article/39/2/msac019/6517784#333890704\n",
    "\n",
    "**Gene:** Danio rerio, danRer11, chr24, ++, 34069746-34071923\n",
    "\n",
    "**Protein accession:** NP_001002724.1"
   ]
  },
  {
   "cell_type": "code",
   "execution_count": 42,
   "id": "83e06e52-b30d-4c61-859b-f86296e031eb",
   "metadata": {
    "tags": []
   },
   "outputs": [],
   "source": [
    "ACCESSION = \"NP_001002724.1\""
   ]
  },
  {
   "cell_type": "markdown",
   "id": "02c420eb-bda1-415a-bbb1-ad8bb8725a45",
   "metadata": {
    "tags": []
   },
   "source": [
    "## Get sequence NP_001002724.1 from NCBI"
   ]
  },
  {
   "cell_type": "code",
   "execution_count": 43,
   "id": "719e2813-3db1-458e-a766-dfb940dcfff7",
   "metadata": {
    "tags": []
   },
   "outputs": [
    {
     "name": "stdout",
     "output_type": "stream",
     "text": [
      "ID: NP_001002724.1\n",
      "Name: NP_001002724\n",
      "Description: histone H2B type 2-K1 [Danio rerio]\n",
      "Number of features: 7\n",
      "/topology=linear\n",
      "/data_file_division=VRT\n",
      "/date=11-SEP-2024\n",
      "/accessions=['NP_001002724', 'XP_685271']\n",
      "/sequence_version=1\n",
      "/db_source=REFSEQ: accession NM_001002724.2\n",
      "/keywords=['RefSeq']\n",
      "/source=Danio rerio (zebrafish)\n",
      "/organism=Danio rerio\n",
      "/taxonomy=['Eukaryota', 'Metazoa', 'Chordata', 'Craniata', 'Vertebrata', 'Euteleostomi', 'Actinopterygii', 'Neopterygii', 'Teleostei', 'Ostariophysi', 'Cypriniformes', 'Danionidae', 'Danioninae', 'Danio']\n",
      "/references=[Reference(title='Enhancer trap lines with GFP driven by smad6b and frizzled1 regulatory sequences for the study of epithelial morphogenesis in the developing zebrafish inner ear', ...), Reference(title='A cell cycle-coordinated Polymerase II transcription compartment encompasses gene expression before global genome activation', ...), Reference(title='Comparison of proteomic profiles in the zebrafish retina during experimental degeneration and regeneration', ...), Reference(title='Evolution of complexity in the zebrafish synapse proteome', ...), Reference(title='Scratch2 prevents cell cycle re-entry by repressing miR-25 in postmitotic primary neurons', ...)]\n",
      "/comment=VALIDATED REFSEQ: This record has undergone validation or\n",
      "preliminary review. The reference sequence was derived from\n",
      "BX247871.8.\n",
      "On Jul 6, 2005 this sequence version replaced XP_685271.1.\n",
      "/structured_comment=OrderedDict([('Evidence-Data', OrderedDict([('Transcript exon combination', 'EH543329.1, EH552468.1 [ECO:0000332]'), ('RNAseq introns', 'single sample supports all introns SAMEA3505381, SAMEA3505388 [ECO:0000348]')])), ('RefSeq-Attributes', OrderedDict([('CDS uses downstream in-frame AUG', 'upstream AUG and CDS extension is not conserved')]))])\n",
      "/molecule_type=protein\n",
      "Seq('MSNEGAKKKGKAPGDKKGSKRKSKRRETYAVYIYKVLKQVHPDTGISSRAMSIM...SSK')\n"
     ]
    }
   ],
   "source": [
    "with Entrez.efetch(\n",
    "    db=\"protein\", id=ACCESSION, rettype=\"gb\", retmode=\"text\"\n",
    ") as handle:\n",
    "    record = SeqIO.read(handle, \"genbank\")\n",
    "    print(record)"
   ]
  },
  {
   "cell_type": "code",
   "execution_count": 44,
   "id": "6dbfc61e-a600-414c-ab67-baeeaa56d02e",
   "metadata": {
    "tags": []
   },
   "outputs": [
    {
     "data": {
      "text/plain": [
       "'MSNEGAKKKGKAPGDKKGSKRKSKRRETYAVYIYKVLKQVHPDTGISSRAMSIMNSFVNDVFERIATEASRLAHYNKRSTITSREVQTAVRLLLPGELAKHAVSEGTKAVTKYTSSK'"
      ]
     },
     "execution_count": 44,
     "metadata": {},
     "output_type": "execute_result"
    }
   ],
   "source": [
    "str(record.seq)"
   ]
  },
  {
   "cell_type": "code",
   "execution_count": 45,
   "id": "8de19741-baaf-4b91-9145-14708138d7a1",
   "metadata": {
    "tags": []
   },
   "outputs": [
    {
     "data": {
      "text/plain": [
       "'Danio rerio'"
      ]
     },
     "execution_count": 45,
     "metadata": {},
     "output_type": "execute_result"
    }
   ],
   "source": [
    "record.annotations[\"organism\"]"
   ]
  },
  {
   "cell_type": "code",
   "execution_count": 46,
   "id": "73952d6e-d74a-44d2-ada6-5c690bb7d094",
   "metadata": {
    "tags": []
   },
   "outputs": [
    {
     "name": "stdout",
     "output_type": "stream",
     "text": [
      "Fetched taxid from NCBI <built-in function id>\n"
     ]
    },
    {
     "data": {
      "text/plain": [
       "{'organism': 'Danio rerio',\n",
       " 'taxonomy_id': 7955,\n",
       " 'phylum': 'Chordata',\n",
       " 'class': 'Actinopteri'}"
      ]
     },
     "execution_count": 46,
     "metadata": {},
     "output_type": "execute_result"
    }
   ],
   "source": [
    "taxonomy_data = get_taxonomy_data(record)\n",
    "taxonomy_data"
   ]
  },
  {
   "cell_type": "markdown",
   "id": "daa73c93-122d-4520-9904-6fe6fb8b5de4",
   "metadata": {},
   "source": [
    "## Adding NP_001002724.1"
   ]
  },
  {
   "cell_type": "code",
   "execution_count": 47,
   "id": "2ae1775f-4003-4245-8271-f9c69e24dc7e",
   "metadata": {
    "tags": []
   },
   "outputs": [
    {
     "data": {
      "text/plain": [
       "{'accession': 'NP_001002724.1',\n",
       " 'variant': 'H2B.K',\n",
       " 'gi': None,\n",
       " 'ncbi_gene_id': None,\n",
       " 'hgnc_gene_name': None,\n",
       " 'taxonomy_id': 7955,\n",
       " 'organism': 'Danio rerio',\n",
       " 'phylum': 'Chordata',\n",
       " 'class': 'Actinopteri',\n",
       " 'taxonomy_group': None,\n",
       " 'info': None,\n",
       " 'sequence': 'MSNEGAKKKGKAPGDKKGSKRKSKRRETYAVYIYKVLKQVHPDTGISSRAMSIMNSFVNDVFERIATEASRLAHYNKRSTITSREVQTAVRLLLPGELAKHAVSEGTKAVTKYTSSK',\n",
       " 'variant_under_consideration': None}"
      ]
     },
     "execution_count": 47,
     "metadata": {},
     "output_type": "execute_result"
    }
   ],
   "source": [
    "data_sequence = {\n",
    "    \"accession\": ACCESSION,\n",
    "    \"variant\": \"H2B.K\",\n",
    "    \"gi\": None,\n",
    "    \"ncbi_gene_id\": None,\n",
    "    \"hgnc_gene_name\": None,\n",
    "    \"taxonomy_id\": None,\n",
    "    \"organism\": None,\n",
    "    \"phylum\": None,\n",
    "    \"class\": None,\n",
    "    \"taxonomy_group\": None,\n",
    "    \"info\": None,\n",
    "    \"sequence\": str(record.seq),\n",
    "    \"variant_under_consideration\": None,\n",
    "}\n",
    "data_sequence.update(taxonomy_data)\n",
    "data_sequence"
   ]
  },
  {
   "cell_type": "code",
   "execution_count": 48,
   "id": "165ed06b-eb81-435a-b007-c0da37eacd82",
   "metadata": {
    "tags": []
   },
   "outputs": [
    {
     "name": "stdout",
     "output_type": "stream",
     "text": [
      "accession <class 'str'>\n",
      "variant <class 'str'>\n",
      "gi <class 'NoneType'>\n",
      "ncbi_gene_id <class 'NoneType'>\n",
      "hgnc_gene_name <class 'NoneType'>\n",
      "taxonomy_id <class 'int'>\n",
      "organism <class 'str'>\n",
      "phylum <class 'str'>\n",
      "class <class 'str'>\n",
      "taxonomy_group <class 'NoneType'>\n",
      "info <class 'NoneType'>\n",
      "sequence <class 'str'>\n",
      "variant_under_consideration <class 'NoneType'>\n"
     ]
    }
   ],
   "source": [
    "for k, v in data_sequence.items():\n",
    "    print(k, type(v))"
   ]
  },
  {
   "cell_type": "code",
   "execution_count": 49,
   "id": "6d565313-a2c0-4b15-8a8d-4cd2faea6bd9",
   "metadata": {
    "tags": []
   },
   "outputs": [],
   "source": [
    "cursor.execute(add_sequence, data_sequence)"
   ]
  },
  {
   "cell_type": "code",
   "execution_count": 51,
   "id": "02e161c0-c9ea-436f-8275-8ed981629f1e",
   "metadata": {
    "tags": []
   },
   "outputs": [
    {
     "data": {
      "text/html": [
       "<div>\n",
       "<style scoped>\n",
       "    .dataframe tbody tr th:only-of-type {\n",
       "        vertical-align: middle;\n",
       "    }\n",
       "\n",
       "    .dataframe tbody tr th {\n",
       "        vertical-align: top;\n",
       "    }\n",
       "\n",
       "    .dataframe thead th {\n",
       "        text-align: right;\n",
       "    }\n",
       "</style>\n",
       "<table border=\"1\" class=\"dataframe\">\n",
       "  <thead>\n",
       "    <tr style=\"text-align: right;\">\n",
       "      <th></th>\n",
       "      <th>accession</th>\n",
       "      <th>variant</th>\n",
       "      <th>gi</th>\n",
       "      <th>ncbi_gene_id</th>\n",
       "      <th>hgnc_gene_name</th>\n",
       "      <th>taxonomy_id</th>\n",
       "      <th>organism</th>\n",
       "      <th>phylum</th>\n",
       "      <th>class</th>\n",
       "      <th>taxonomy_group</th>\n",
       "      <th>info</th>\n",
       "      <th>sequence</th>\n",
       "      <th>variant_under_consideration</th>\n",
       "      <th>sequence_accession</th>\n",
       "      <th>publication_id</th>\n",
       "    </tr>\n",
       "  </thead>\n",
       "  <tbody>\n",
       "    <tr>\n",
       "      <th>0</th>\n",
       "      <td>NP_001002724.1</td>\n",
       "      <td>H2B.K</td>\n",
       "      <td>None</td>\n",
       "      <td>None</td>\n",
       "      <td>None</td>\n",
       "      <td>7955</td>\n",
       "      <td>Danio rerio</td>\n",
       "      <td>Chordata</td>\n",
       "      <td>Actinopteri</td>\n",
       "      <td>None</td>\n",
       "      <td>None</td>\n",
       "      <td>MSNEGAKKKGKAPGDKKGSKRKSKRRETYAVYIYKVLKQVHPDTGI...</td>\n",
       "      <td>None</td>\n",
       "      <td>None</td>\n",
       "      <td>None</td>\n",
       "    </tr>\n",
       "  </tbody>\n",
       "</table>\n",
       "</div>"
      ],
      "text/plain": [
       "        accession variant    gi ncbi_gene_id hgnc_gene_name  taxonomy_id  \\\n",
       "0  NP_001002724.1   H2B.K  None         None           None         7955   \n",
       "\n",
       "      organism    phylum        class taxonomy_group  info  \\\n",
       "0  Danio rerio  Chordata  Actinopteri           None  None   \n",
       "\n",
       "                                            sequence  \\\n",
       "0  MSNEGAKKKGKAPGDKKGSKRKSKRRETYAVYIYKVLKQVHPDTGI...   \n",
       "\n",
       "  variant_under_consideration sequence_accession publication_id  \n",
       "0                        None               None           None  "
      ]
     },
     "execution_count": 51,
     "metadata": {},
     "output_type": "execute_result"
    }
   ],
   "source": [
    "query = (\n",
    "    \"SELECT * FROM sequence s LEFT JOIN sequence_has_publication sp \"\n",
    "    \"ON s.accession = sp.sequence_accession \"\n",
    "    f\"WHERE s.accession='{ACCESSION}'\"\n",
    ")\n",
    "cursor.execute(query)\n",
    "df = pd.DataFrame(cursor.fetchall(), columns=[i[0] for i in cursor.description])\n",
    "df"
   ]
  },
  {
   "cell_type": "markdown",
   "id": "24bc04ec-e8c0-4643-ae61-a9e17080eb00",
   "metadata": {},
   "source": [
    "## Add publication"
   ]
  },
  {
   "cell_type": "code",
   "execution_count": 52,
   "id": "45c90b73-e71a-4e5a-920e-c35e8e51af51",
   "metadata": {
    "tags": []
   },
   "outputs": [
    {
     "data": {
      "text/html": [
       "<div>\n",
       "<style scoped>\n",
       "    .dataframe tbody tr th:only-of-type {\n",
       "        vertical-align: middle;\n",
       "    }\n",
       "\n",
       "    .dataframe tbody tr th {\n",
       "        vertical-align: top;\n",
       "    }\n",
       "\n",
       "    .dataframe thead th {\n",
       "        text-align: right;\n",
       "    }\n",
       "</style>\n",
       "<table border=\"1\" class=\"dataframe\">\n",
       "  <thead>\n",
       "    <tr style=\"text-align: right;\">\n",
       "      <th></th>\n",
       "      <th>id</th>\n",
       "      <th>title</th>\n",
       "      <th>doi</th>\n",
       "      <th>author</th>\n",
       "      <th>year</th>\n",
       "    </tr>\n",
       "  </thead>\n",
       "  <tbody>\n",
       "    <tr>\n",
       "      <th>0</th>\n",
       "      <td>35099534</td>\n",
       "      <td>None</td>\n",
       "      <td>None</td>\n",
       "      <td>None</td>\n",
       "      <td>None</td>\n",
       "    </tr>\n",
       "  </tbody>\n",
       "</table>\n",
       "</div>"
      ],
      "text/plain": [
       "         id title   doi author  year\n",
       "0  35099534  None  None   None  None"
      ]
     },
     "execution_count": 52,
     "metadata": {},
     "output_type": "execute_result"
    }
   ],
   "source": [
    "pid = \"35099534\"\n",
    "query = \"SELECT * FROM publication WHERE id='35099534'\"\n",
    "cursor.execute(query)\n",
    "pd.DataFrame(cursor.fetchall(), columns=[i[0] for i in cursor.description])"
   ]
  },
  {
   "cell_type": "code",
   "execution_count": 53,
   "id": "074ac753-cc9f-47f8-9683-9899a76416d7",
   "metadata": {
    "tags": []
   },
   "outputs": [],
   "source": [
    "cursor.execute(add_sequence_has_publication, (ACCESSION, pid))"
   ]
  },
  {
   "cell_type": "code",
   "execution_count": 54,
   "id": "1e2296c3-bf6d-4411-8c2e-f6b742e671ea",
   "metadata": {
    "tags": []
   },
   "outputs": [
    {
     "data": {
      "text/html": [
       "<div>\n",
       "<style scoped>\n",
       "    .dataframe tbody tr th:only-of-type {\n",
       "        vertical-align: middle;\n",
       "    }\n",
       "\n",
       "    .dataframe tbody tr th {\n",
       "        vertical-align: top;\n",
       "    }\n",
       "\n",
       "    .dataframe thead th {\n",
       "        text-align: right;\n",
       "    }\n",
       "</style>\n",
       "<table border=\"1\" class=\"dataframe\">\n",
       "  <thead>\n",
       "    <tr style=\"text-align: right;\">\n",
       "      <th></th>\n",
       "      <th>accession</th>\n",
       "      <th>variant</th>\n",
       "      <th>gi</th>\n",
       "      <th>ncbi_gene_id</th>\n",
       "      <th>hgnc_gene_name</th>\n",
       "      <th>taxonomy_id</th>\n",
       "      <th>organism</th>\n",
       "      <th>phylum</th>\n",
       "      <th>class</th>\n",
       "      <th>taxonomy_group</th>\n",
       "      <th>info</th>\n",
       "      <th>sequence</th>\n",
       "      <th>variant_under_consideration</th>\n",
       "      <th>sequence_accession</th>\n",
       "      <th>publication_id</th>\n",
       "    </tr>\n",
       "  </thead>\n",
       "  <tbody>\n",
       "    <tr>\n",
       "      <th>0</th>\n",
       "      <td>NP_001002724.1</td>\n",
       "      <td>H2B.K</td>\n",
       "      <td>None</td>\n",
       "      <td>None</td>\n",
       "      <td>None</td>\n",
       "      <td>7955</td>\n",
       "      <td>Danio rerio</td>\n",
       "      <td>Chordata</td>\n",
       "      <td>Actinopteri</td>\n",
       "      <td>None</td>\n",
       "      <td>None</td>\n",
       "      <td>MSNEGAKKKGKAPGDKKGSKRKSKRRETYAVYIYKVLKQVHPDTGI...</td>\n",
       "      <td>None</td>\n",
       "      <td>NP_001002724.1</td>\n",
       "      <td>35099534</td>\n",
       "    </tr>\n",
       "  </tbody>\n",
       "</table>\n",
       "</div>"
      ],
      "text/plain": [
       "        accession variant    gi ncbi_gene_id hgnc_gene_name  taxonomy_id  \\\n",
       "0  NP_001002724.1   H2B.K  None         None           None         7955   \n",
       "\n",
       "      organism    phylum        class taxonomy_group  info  \\\n",
       "0  Danio rerio  Chordata  Actinopteri           None  None   \n",
       "\n",
       "                                            sequence  \\\n",
       "0  MSNEGAKKKGKAPGDKKGSKRKSKRRETYAVYIYKVLKQVHPDTGI...   \n",
       "\n",
       "  variant_under_consideration sequence_accession publication_id  \n",
       "0                        None     NP_001002724.1       35099534  "
      ]
     },
     "execution_count": 54,
     "metadata": {},
     "output_type": "execute_result"
    }
   ],
   "source": [
    "query = (\n",
    "    \"SELECT * FROM sequence s LEFT JOIN sequence_has_publication sp \"\n",
    "    \"ON s.accession = sp.sequence_accession \"\n",
    "    f\"WHERE s.accession='{ACCESSION}'\"\n",
    ")\n",
    "cursor.execute(query)\n",
    "df = pd.DataFrame(cursor.fetchall(), columns=[i[0] for i in cursor.description])\n",
    "df"
   ]
  },
  {
   "cell_type": "code",
   "execution_count": 55,
   "id": "575cab9d-bf71-429b-88de-e07617c649f1",
   "metadata": {
    "tags": []
   },
   "outputs": [
    {
     "data": {
      "text/html": [
       "<div>\n",
       "<style scoped>\n",
       "    .dataframe tbody tr th:only-of-type {\n",
       "        vertical-align: middle;\n",
       "    }\n",
       "\n",
       "    .dataframe tbody tr th {\n",
       "        vertical-align: top;\n",
       "    }\n",
       "\n",
       "    .dataframe thead th {\n",
       "        text-align: right;\n",
       "    }\n",
       "</style>\n",
       "<table border=\"1\" class=\"dataframe\">\n",
       "  <thead>\n",
       "    <tr style=\"text-align: right;\">\n",
       "      <th></th>\n",
       "      <th>accession</th>\n",
       "      <th>variant</th>\n",
       "      <th>gi</th>\n",
       "      <th>ncbi_gene_id</th>\n",
       "      <th>hgnc_gene_name</th>\n",
       "      <th>taxonomy_id</th>\n",
       "      <th>organism</th>\n",
       "      <th>phylum</th>\n",
       "      <th>class</th>\n",
       "      <th>taxonomy_group</th>\n",
       "      <th>info</th>\n",
       "      <th>sequence</th>\n",
       "      <th>variant_under_consideration</th>\n",
       "      <th>sequence_accession</th>\n",
       "      <th>publication_id</th>\n",
       "    </tr>\n",
       "  </thead>\n",
       "  <tbody>\n",
       "    <tr>\n",
       "      <th>0</th>\n",
       "      <td>HISTDB_H2B_K_0</td>\n",
       "      <td>H2B.K</td>\n",
       "      <td>None</td>\n",
       "      <td>None</td>\n",
       "      <td>None</td>\n",
       "      <td>9940</td>\n",
       "      <td>Ovis aries</td>\n",
       "      <td>Chordata</td>\n",
       "      <td>Mammalia</td>\n",
       "      <td>None</td>\n",
       "      <td>None</td>\n",
       "      <td>MSAEHGQLQQAGGRRGRSPGDKKSRRRSRRKETYSMYIYKVLKQVH...</td>\n",
       "      <td>None</td>\n",
       "      <td>HISTDB_H2B_K_0</td>\n",
       "      <td>35099534</td>\n",
       "    </tr>\n",
       "    <tr>\n",
       "      <th>1</th>\n",
       "      <td>HISTDB_H2B_K_1</td>\n",
       "      <td>H2B.K</td>\n",
       "      <td>None</td>\n",
       "      <td>None</td>\n",
       "      <td>None</td>\n",
       "      <td>9615</td>\n",
       "      <td>Canis lupus familiaris</td>\n",
       "      <td>Chordata</td>\n",
       "      <td>Mammalia</td>\n",
       "      <td>None</td>\n",
       "      <td>None</td>\n",
       "      <td>MGTEHGQQPQSGGRRGHGSGDKKSKKHSRRKETYSMYIYKVLKQVH...</td>\n",
       "      <td>None</td>\n",
       "      <td>HISTDB_H2B_K_1</td>\n",
       "      <td>35099534</td>\n",
       "    </tr>\n",
       "    <tr>\n",
       "      <th>2</th>\n",
       "      <td>HISTDB_H2B_K_2</td>\n",
       "      <td>H2B.K</td>\n",
       "      <td>None</td>\n",
       "      <td>None</td>\n",
       "      <td>None</td>\n",
       "      <td>9258</td>\n",
       "      <td>Ornithorhynchus anatinus</td>\n",
       "      <td>Chordata</td>\n",
       "      <td>Mammalia</td>\n",
       "      <td>None</td>\n",
       "      <td>None</td>\n",
       "      <td>MSPEGGQQQQQQPRPRARGDRRPKRRTRRKETYSVYIYKVLKQVHP...</td>\n",
       "      <td>None</td>\n",
       "      <td>HISTDB_H2B_K_2</td>\n",
       "      <td>35099534</td>\n",
       "    </tr>\n",
       "    <tr>\n",
       "      <th>3</th>\n",
       "      <td>NP_001002724.1</td>\n",
       "      <td>H2B.K</td>\n",
       "      <td>None</td>\n",
       "      <td>None</td>\n",
       "      <td>None</td>\n",
       "      <td>7955</td>\n",
       "      <td>Danio rerio</td>\n",
       "      <td>Chordata</td>\n",
       "      <td>Actinopteri</td>\n",
       "      <td>None</td>\n",
       "      <td>None</td>\n",
       "      <td>MSNEGAKKKGKAPGDKKGSKRKSKRRETYAVYIYKVLKQVHPDTGI...</td>\n",
       "      <td>None</td>\n",
       "      <td>NP_001002724.1</td>\n",
       "      <td>35099534</td>\n",
       "    </tr>\n",
       "    <tr>\n",
       "      <th>4</th>\n",
       "      <td>XP_002190629.1</td>\n",
       "      <td>H2B.K</td>\n",
       "      <td>None</td>\n",
       "      <td>None</td>\n",
       "      <td>None</td>\n",
       "      <td>59729</td>\n",
       "      <td>Taeniopygia guttata</td>\n",
       "      <td>Chordata</td>\n",
       "      <td>Aves</td>\n",
       "      <td>None</td>\n",
       "      <td>None</td>\n",
       "      <td>MSSERLKKRGHAVASGKKSSKRKPKRKEAFSVYIYKVLKQVHPDLA...</td>\n",
       "      <td>None</td>\n",
       "      <td>XP_002190629.1</td>\n",
       "      <td>35099534</td>\n",
       "    </tr>\n",
       "    <tr>\n",
       "      <th>5</th>\n",
       "      <td>XP_002715119.2</td>\n",
       "      <td>H2B.K</td>\n",
       "      <td>None</td>\n",
       "      <td>None</td>\n",
       "      <td>None</td>\n",
       "      <td>9986</td>\n",
       "      <td>Oryctolagus cuniculus</td>\n",
       "      <td>Chordata</td>\n",
       "      <td>Mammalia</td>\n",
       "      <td>None</td>\n",
       "      <td>None</td>\n",
       "      <td>MSAERGQQQQQASSRRGRSSGNKKSRKRSKRKETYSMYIYKVLKQV...</td>\n",
       "      <td>None</td>\n",
       "      <td>XP_002715119.2</td>\n",
       "      <td>35099534</td>\n",
       "    </tr>\n",
       "    <tr>\n",
       "      <th>6</th>\n",
       "      <td>XP_005609614.1</td>\n",
       "      <td>H2B.K</td>\n",
       "      <td>None</td>\n",
       "      <td>None</td>\n",
       "      <td>None</td>\n",
       "      <td>9796</td>\n",
       "      <td>Equus caballus</td>\n",
       "      <td>Chordata</td>\n",
       "      <td>Mammalia</td>\n",
       "      <td>None</td>\n",
       "      <td>None</td>\n",
       "      <td>MSTEHGQQHQSGGRRGCSSGDKKSKKRSRRKETYSMYIYKVLKQVH...</td>\n",
       "      <td>None</td>\n",
       "      <td>XP_005609614.1</td>\n",
       "      <td>35099534</td>\n",
       "    </tr>\n",
       "    <tr>\n",
       "      <th>7</th>\n",
       "      <td>XP_010799227.1</td>\n",
       "      <td>H2B.K</td>\n",
       "      <td>None</td>\n",
       "      <td>None</td>\n",
       "      <td>None</td>\n",
       "      <td>9913</td>\n",
       "      <td>Bos taurus</td>\n",
       "      <td>Chordata</td>\n",
       "      <td>Mammalia</td>\n",
       "      <td>None</td>\n",
       "      <td>None</td>\n",
       "      <td>MSAEHGQLQQSGGRRGRSPGDKKSRRRSRRKETYSMYIYKVLKQVH...</td>\n",
       "      <td>None</td>\n",
       "      <td>XP_010799227.1</td>\n",
       "      <td>35099534</td>\n",
       "    </tr>\n",
       "    <tr>\n",
       "      <th>8</th>\n",
       "      <td>XP_013846203.1</td>\n",
       "      <td>H2B.K</td>\n",
       "      <td>None</td>\n",
       "      <td>None</td>\n",
       "      <td>None</td>\n",
       "      <td>9823</td>\n",
       "      <td>Sus scrofa</td>\n",
       "      <td>Chordata</td>\n",
       "      <td>Mammalia</td>\n",
       "      <td>None</td>\n",
       "      <td>None</td>\n",
       "      <td>MSSAHGQQQQQQQQQQQQQQQGGGRRGRSSGEKKSKKRNRRKETYS...</td>\n",
       "      <td>None</td>\n",
       "      <td>XP_013846203.1</td>\n",
       "      <td>35099534</td>\n",
       "    </tr>\n",
       "    <tr>\n",
       "      <th>9</th>\n",
       "      <td>XP_014643104.1</td>\n",
       "      <td>H2B.K</td>\n",
       "      <td>None</td>\n",
       "      <td>None</td>\n",
       "      <td>None</td>\n",
       "      <td>73337</td>\n",
       "      <td>Ceratotherium simum simum</td>\n",
       "      <td>Chordata</td>\n",
       "      <td>Mammalia</td>\n",
       "      <td>None</td>\n",
       "      <td>None</td>\n",
       "      <td>MSTEHGQQHHPGGRRGCSPGDKKFKKRSRRKETYSMYIYKVLKQVH...</td>\n",
       "      <td>None</td>\n",
       "      <td>XP_014643104.1</td>\n",
       "      <td>35099534</td>\n",
       "    </tr>\n",
       "    <tr>\n",
       "      <th>10</th>\n",
       "      <td>XP_019651116.1</td>\n",
       "      <td>H2B.K</td>\n",
       "      <td>None</td>\n",
       "      <td>None</td>\n",
       "      <td>None</td>\n",
       "      <td>9646</td>\n",
       "      <td>Ailuropoda melanoleuca</td>\n",
       "      <td>Chordata</td>\n",
       "      <td>Mammalia</td>\n",
       "      <td>None</td>\n",
       "      <td>None</td>\n",
       "      <td>MSAEHGRQQQPGGRRGRSSGDKKSRKRSRRKETYSMYIYKVLKQVH...</td>\n",
       "      <td>None</td>\n",
       "      <td>XP_019651116.1</td>\n",
       "      <td>35099534</td>\n",
       "    </tr>\n",
       "    <tr>\n",
       "      <th>11</th>\n",
       "      <td>XP_019681595.1</td>\n",
       "      <td>H2B.K</td>\n",
       "      <td>None</td>\n",
       "      <td>None</td>\n",
       "      <td>None</td>\n",
       "      <td>9685</td>\n",
       "      <td>Felis catus</td>\n",
       "      <td>Chordata</td>\n",
       "      <td>Mammalia</td>\n",
       "      <td>None</td>\n",
       "      <td>None</td>\n",
       "      <td>MSAEHGQQQQSGGRRGRSSGDKKSKKRSRRKETYSMYIYKVLKQVH...</td>\n",
       "      <td>None</td>\n",
       "      <td>XP_019681595.1</td>\n",
       "      <td>35099534</td>\n",
       "    </tr>\n",
       "    <tr>\n",
       "      <th>12</th>\n",
       "      <td>XP_022259586.1</td>\n",
       "      <td>H2B.K</td>\n",
       "      <td>None</td>\n",
       "      <td>None</td>\n",
       "      <td>None</td>\n",
       "      <td>9615</td>\n",
       "      <td>Canis lupus familiaris</td>\n",
       "      <td>Chordata</td>\n",
       "      <td>Mammalia</td>\n",
       "      <td>None</td>\n",
       "      <td>None</td>\n",
       "      <td>MGAEHGQQPQSGGRRGRGSGDKKSKKRSRRKETYSMYIYKVLKQVH...</td>\n",
       "      <td>None</td>\n",
       "      <td>XP_022259586.1</td>\n",
       "      <td>35099534</td>\n",
       "    </tr>\n",
       "    <tr>\n",
       "      <th>13</th>\n",
       "      <td>XP_023403847.1</td>\n",
       "      <td>H2B.K</td>\n",
       "      <td>None</td>\n",
       "      <td>None</td>\n",
       "      <td>None</td>\n",
       "      <td>9785</td>\n",
       "      <td>Loxodonta africana</td>\n",
       "      <td>Chordata</td>\n",
       "      <td>Mammalia</td>\n",
       "      <td>None</td>\n",
       "      <td>None</td>\n",
       "      <td>MSAELGQQQQQQQSGGQRGRSSGDKKPKKRSRRKENYSVYIYKVLK...</td>\n",
       "      <td>None</td>\n",
       "      <td>XP_023403847.1</td>\n",
       "      <td>35099534</td>\n",
       "    </tr>\n",
       "    <tr>\n",
       "      <th>14</th>\n",
       "      <td>XP_024846715.1</td>\n",
       "      <td>H2B.K</td>\n",
       "      <td>None</td>\n",
       "      <td>None</td>\n",
       "      <td>None</td>\n",
       "      <td>9913</td>\n",
       "      <td>Bos taurus</td>\n",
       "      <td>Chordata</td>\n",
       "      <td>Mammalia</td>\n",
       "      <td>None</td>\n",
       "      <td>None</td>\n",
       "      <td>MSAEHGQLQQSGGRRGRSPGDKKSRRRSRRKETYSMYIYKVLKQVH...</td>\n",
       "      <td>None</td>\n",
       "      <td>XP_024846715.1</td>\n",
       "      <td>35099534</td>\n",
       "    </tr>\n",
       "    <tr>\n",
       "      <th>15</th>\n",
       "      <td>XP_027824938.1</td>\n",
       "      <td>H2B.K</td>\n",
       "      <td>None</td>\n",
       "      <td>None</td>\n",
       "      <td>None</td>\n",
       "      <td>9940</td>\n",
       "      <td>Ovis aries</td>\n",
       "      <td>Chordata</td>\n",
       "      <td>Mammalia</td>\n",
       "      <td>None</td>\n",
       "      <td>None</td>\n",
       "      <td>MSAEHGQLQQSGGRRGRSPGDKKSRRRSRRKETYSMYIYKVLKQVH...</td>\n",
       "      <td>None</td>\n",
       "      <td>XP_027824938.1</td>\n",
       "      <td>35099534</td>\n",
       "    </tr>\n",
       "    <tr>\n",
       "      <th>16</th>\n",
       "      <td>XP_059747847.1</td>\n",
       "      <td>H2B.K</td>\n",
       "      <td>None</td>\n",
       "      <td>None</td>\n",
       "      <td>None</td>\n",
       "      <td>9913</td>\n",
       "      <td>Bos taurus</td>\n",
       "      <td>Chordata</td>\n",
       "      <td>Mammalia</td>\n",
       "      <td>None</td>\n",
       "      <td>None</td>\n",
       "      <td>MMDTRSSKLVCHNILRTRRMSAEHGQLQQSGGRRGRSPGDKKSRRR...</td>\n",
       "      <td>None</td>\n",
       "      <td>XP_059747847.1</td>\n",
       "      <td>35099534</td>\n",
       "    </tr>\n",
       "    <tr>\n",
       "      <th>17</th>\n",
       "      <td>XP_423715.4</td>\n",
       "      <td>H2B.K</td>\n",
       "      <td>None</td>\n",
       "      <td>None</td>\n",
       "      <td>None</td>\n",
       "      <td>9031</td>\n",
       "      <td>Gallus gallus</td>\n",
       "      <td>Chordata</td>\n",
       "      <td>Aves</td>\n",
       "      <td>None</td>\n",
       "      <td>None</td>\n",
       "      <td>MSAESGRMRGHPSSSGDKKSKRKPKRKETYSVYIYKVLKQVHPDTG...</td>\n",
       "      <td>None</td>\n",
       "      <td>XP_423715.4</td>\n",
       "      <td>35099534</td>\n",
       "    </tr>\n",
       "  </tbody>\n",
       "</table>\n",
       "</div>"
      ],
      "text/plain": [
       "         accession variant    gi ncbi_gene_id hgnc_gene_name  taxonomy_id  \\\n",
       "0   HISTDB_H2B_K_0   H2B.K  None         None           None         9940   \n",
       "1   HISTDB_H2B_K_1   H2B.K  None         None           None         9615   \n",
       "2   HISTDB_H2B_K_2   H2B.K  None         None           None         9258   \n",
       "3   NP_001002724.1   H2B.K  None         None           None         7955   \n",
       "4   XP_002190629.1   H2B.K  None         None           None        59729   \n",
       "5   XP_002715119.2   H2B.K  None         None           None         9986   \n",
       "6   XP_005609614.1   H2B.K  None         None           None         9796   \n",
       "7   XP_010799227.1   H2B.K  None         None           None         9913   \n",
       "8   XP_013846203.1   H2B.K  None         None           None         9823   \n",
       "9   XP_014643104.1   H2B.K  None         None           None        73337   \n",
       "10  XP_019651116.1   H2B.K  None         None           None         9646   \n",
       "11  XP_019681595.1   H2B.K  None         None           None         9685   \n",
       "12  XP_022259586.1   H2B.K  None         None           None         9615   \n",
       "13  XP_023403847.1   H2B.K  None         None           None         9785   \n",
       "14  XP_024846715.1   H2B.K  None         None           None         9913   \n",
       "15  XP_027824938.1   H2B.K  None         None           None         9940   \n",
       "16  XP_059747847.1   H2B.K  None         None           None         9913   \n",
       "17     XP_423715.4   H2B.K  None         None           None         9031   \n",
       "\n",
       "                     organism    phylum        class taxonomy_group  info  \\\n",
       "0                  Ovis aries  Chordata     Mammalia           None  None   \n",
       "1      Canis lupus familiaris  Chordata     Mammalia           None  None   \n",
       "2    Ornithorhynchus anatinus  Chordata     Mammalia           None  None   \n",
       "3                 Danio rerio  Chordata  Actinopteri           None  None   \n",
       "4         Taeniopygia guttata  Chordata         Aves           None  None   \n",
       "5       Oryctolagus cuniculus  Chordata     Mammalia           None  None   \n",
       "6              Equus caballus  Chordata     Mammalia           None  None   \n",
       "7                  Bos taurus  Chordata     Mammalia           None  None   \n",
       "8                  Sus scrofa  Chordata     Mammalia           None  None   \n",
       "9   Ceratotherium simum simum  Chordata     Mammalia           None  None   \n",
       "10     Ailuropoda melanoleuca  Chordata     Mammalia           None  None   \n",
       "11                Felis catus  Chordata     Mammalia           None  None   \n",
       "12     Canis lupus familiaris  Chordata     Mammalia           None  None   \n",
       "13         Loxodonta africana  Chordata     Mammalia           None  None   \n",
       "14                 Bos taurus  Chordata     Mammalia           None  None   \n",
       "15                 Ovis aries  Chordata     Mammalia           None  None   \n",
       "16                 Bos taurus  Chordata     Mammalia           None  None   \n",
       "17              Gallus gallus  Chordata         Aves           None  None   \n",
       "\n",
       "                                             sequence  \\\n",
       "0   MSAEHGQLQQAGGRRGRSPGDKKSRRRSRRKETYSMYIYKVLKQVH...   \n",
       "1   MGTEHGQQPQSGGRRGHGSGDKKSKKHSRRKETYSMYIYKVLKQVH...   \n",
       "2   MSPEGGQQQQQQPRPRARGDRRPKRRTRRKETYSVYIYKVLKQVHP...   \n",
       "3   MSNEGAKKKGKAPGDKKGSKRKSKRRETYAVYIYKVLKQVHPDTGI...   \n",
       "4   MSSERLKKRGHAVASGKKSSKRKPKRKEAFSVYIYKVLKQVHPDLA...   \n",
       "5   MSAERGQQQQQASSRRGRSSGNKKSRKRSKRKETYSMYIYKVLKQV...   \n",
       "6   MSTEHGQQHQSGGRRGCSSGDKKSKKRSRRKETYSMYIYKVLKQVH...   \n",
       "7   MSAEHGQLQQSGGRRGRSPGDKKSRRRSRRKETYSMYIYKVLKQVH...   \n",
       "8   MSSAHGQQQQQQQQQQQQQQQGGGRRGRSSGEKKSKKRNRRKETYS...   \n",
       "9   MSTEHGQQHHPGGRRGCSPGDKKFKKRSRRKETYSMYIYKVLKQVH...   \n",
       "10  MSAEHGRQQQPGGRRGRSSGDKKSRKRSRRKETYSMYIYKVLKQVH...   \n",
       "11  MSAEHGQQQQSGGRRGRSSGDKKSKKRSRRKETYSMYIYKVLKQVH...   \n",
       "12  MGAEHGQQPQSGGRRGRGSGDKKSKKRSRRKETYSMYIYKVLKQVH...   \n",
       "13  MSAELGQQQQQQQSGGQRGRSSGDKKPKKRSRRKENYSVYIYKVLK...   \n",
       "14  MSAEHGQLQQSGGRRGRSPGDKKSRRRSRRKETYSMYIYKVLKQVH...   \n",
       "15  MSAEHGQLQQSGGRRGRSPGDKKSRRRSRRKETYSMYIYKVLKQVH...   \n",
       "16  MMDTRSSKLVCHNILRTRRMSAEHGQLQQSGGRRGRSPGDKKSRRR...   \n",
       "17  MSAESGRMRGHPSSSGDKKSKRKPKRKETYSVYIYKVLKQVHPDTG...   \n",
       "\n",
       "   variant_under_consideration sequence_accession publication_id  \n",
       "0                         None     HISTDB_H2B_K_0       35099534  \n",
       "1                         None     HISTDB_H2B_K_1       35099534  \n",
       "2                         None     HISTDB_H2B_K_2       35099534  \n",
       "3                         None     NP_001002724.1       35099534  \n",
       "4                         None     XP_002190629.1       35099534  \n",
       "5                         None     XP_002715119.2       35099534  \n",
       "6                         None     XP_005609614.1       35099534  \n",
       "7                         None     XP_010799227.1       35099534  \n",
       "8                         None     XP_013846203.1       35099534  \n",
       "9                         None     XP_014643104.1       35099534  \n",
       "10                        None     XP_019651116.1       35099534  \n",
       "11                        None     XP_019681595.1       35099534  \n",
       "12                        None     XP_022259586.1       35099534  \n",
       "13                        None     XP_023403847.1       35099534  \n",
       "14                        None     XP_024846715.1       35099534  \n",
       "15                        None     XP_027824938.1       35099534  \n",
       "16                        None     XP_059747847.1       35099534  \n",
       "17                        None        XP_423715.4       35099534  "
      ]
     },
     "execution_count": 55,
     "metadata": {},
     "output_type": "execute_result"
    }
   ],
   "source": [
    "query = (\n",
    "    \"SELECT * FROM sequence s LEFT JOIN sequence_has_publication sp \"\n",
    "    \"ON s.accession = sp.sequence_accession \"\n",
    "    f\"WHERE s.variant='H2B.K'\"\n",
    ")\n",
    "cursor.execute(query)\n",
    "df = pd.DataFrame(cursor.fetchall(), columns=[i[0] for i in cursor.description])\n",
    "df"
   ]
  },
  {
   "cell_type": "code",
   "execution_count": 56,
   "id": "fe1dfb73-6318-44ca-92ed-f4f883f14e51",
   "metadata": {
    "tags": []
   },
   "outputs": [],
   "source": [
    "# Make sure data is committed to the database\n",
    "conn.commit()"
   ]
  },
  {
   "cell_type": "markdown",
   "id": "09d49f0d-b572-4981-bcab-ebece2045139",
   "metadata": {
    "jp-MarkdownHeadingCollapsed": true,
    "tags": []
   },
   "source": [
    "# Add coelacanth H2B.K\n",
    "\n",
    "**Atricle:** https://academic.oup.com/mbe/article/39/2/msac019/6517784#333890704\n",
    "\n",
    "**Gene:** Latimeria chalumnae, LatCha1, JH128031, +-, 495204-499714\n",
    "\n",
    "**Protein accession:** XP_006007163.1"
   ]
  },
  {
   "cell_type": "code",
   "execution_count": 57,
   "id": "68e0a9bd-a789-4906-8096-4173724e4a65",
   "metadata": {
    "tags": []
   },
   "outputs": [],
   "source": [
    "ACCESSION = \"XP_006007163.1\""
   ]
  },
  {
   "cell_type": "markdown",
   "id": "67e64103-89bb-4498-a65b-6e5dd0ad0b3f",
   "metadata": {
    "tags": []
   },
   "source": [
    "## Get sequence XP_006007163.1 from NCBI"
   ]
  },
  {
   "cell_type": "code",
   "execution_count": 58,
   "id": "a9f451f5-7889-4a98-8854-385a8a90b607",
   "metadata": {
    "tags": []
   },
   "outputs": [
    {
     "name": "stdout",
     "output_type": "stream",
     "text": [
      "ID: XP_006007163.1\n",
      "Name: XP_006007163\n",
      "Description: late histone H2B.L4 [Latimeria chalumnae]\n",
      "Database cross-references: BioProject:PRJNA1100969\n",
      "Number of features: 7\n",
      "/topology=linear\n",
      "/data_file_division=VRT\n",
      "/date=25-APR-2024\n",
      "/accessions=['XP_006007163']\n",
      "/sequence_version=1\n",
      "/db_source=REFSEQ: accession XM_006007101.2\n",
      "/keywords=['RefSeq']\n",
      "/source=Latimeria chalumnae (coelacanth)\n",
      "/organism=Latimeria chalumnae\n",
      "/taxonomy=['Eukaryota', 'Metazoa', 'Chordata', 'Craniata', 'Vertebrata', 'Euteleostomi', 'Coelacanthiformes', 'Coelacanthidae', 'Latimeria']\n",
      "/comment=MODEL REFSEQ:  This record is predicted by automated computational\n",
      "analysis. This record is derived from a genomic sequence\n",
      "(NC_088140) annotated using gene prediction method: Gnomon,\n",
      "supported by mRNA evidence.\n",
      "Also see:\n",
      "    Documentation of NCBI's Annotation Process\n",
      "COMPLETENESS: full length.\n",
      "/structured_comment=OrderedDict([('Genome-Annotation-Data', OrderedDict([('Annotation Provider', 'NCBI RefSeq'), ('Annotation Status', 'Full annotation'), ('Annotation Name', 'GCF_037176945.1-RS_2024_04'), ('Annotation Pipeline', 'NCBI eukaryotic genome annotation pipeline'), ('Annotation Software Version', '10.2'), ('Annotation Method', 'Best-placed RefSeq; Gnomon; cmsearch; tRNAscan-SE'), ('Features Annotated', 'Gene; mRNA; CDS; ncRNA'), ('Annotation Date', '04/18/2024')]))])\n",
      "/molecule_type=protein\n",
      "Seq('MTNDPGKKKSKNPGEKKSSKKKAKRRETYSVYIYKVLKQVHPDTGISSKAMSIM...SSK')\n"
     ]
    }
   ],
   "source": [
    "with Entrez.efetch(\n",
    "    db=\"protein\", id=ACCESSION, rettype=\"gb\", retmode=\"text\"\n",
    ") as handle:\n",
    "    record = SeqIO.read(handle, \"genbank\")\n",
    "    print(record)"
   ]
  },
  {
   "cell_type": "code",
   "execution_count": 59,
   "id": "bd47995f-a737-4cc3-bd91-1f3cfd721237",
   "metadata": {
    "tags": []
   },
   "outputs": [
    {
     "data": {
      "text/plain": [
       "'MTNDPGKKKSKNPGEKKSSKKKAKRRETYSVYIYKVLKQVHPDTGISSKAMSIMNSFVNDVFERIATEASRLAQYNKRSTITSREVQTAVRLLLPGELAKHAVSEGTKAVTKYTSSK'"
      ]
     },
     "execution_count": 59,
     "metadata": {},
     "output_type": "execute_result"
    }
   ],
   "source": [
    "str(record.seq)"
   ]
  },
  {
   "cell_type": "code",
   "execution_count": 60,
   "id": "a24d84cc-7df2-459c-9ae3-5465e7efd205",
   "metadata": {
    "tags": []
   },
   "outputs": [
    {
     "data": {
      "text/plain": [
       "'Latimeria chalumnae'"
      ]
     },
     "execution_count": 60,
     "metadata": {},
     "output_type": "execute_result"
    }
   ],
   "source": [
    "record.annotations[\"organism\"]"
   ]
  },
  {
   "cell_type": "code",
   "execution_count": 61,
   "id": "610f6474-21df-4f1e-a0a5-669ec6a41aa7",
   "metadata": {
    "tags": []
   },
   "outputs": [
    {
     "name": "stdout",
     "output_type": "stream",
     "text": [
      "Fetched taxid from NCBI <built-in function id>\n"
     ]
    },
    {
     "data": {
      "text/plain": [
       "{'organism': 'Latimeria chalumnae',\n",
       " 'taxonomy_id': 7897,\n",
       " 'phylum': 'Chordata',\n",
       " 'class': None}"
      ]
     },
     "execution_count": 61,
     "metadata": {},
     "output_type": "execute_result"
    }
   ],
   "source": [
    "taxonomy_data = get_taxonomy_data(record)\n",
    "taxonomy_data"
   ]
  },
  {
   "cell_type": "markdown",
   "id": "3fb64efd-5f1c-4110-91ef-35100291afc3",
   "metadata": {},
   "source": [
    "## Adding NP_001002724.1"
   ]
  },
  {
   "cell_type": "code",
   "execution_count": 62,
   "id": "b1d00128-4850-4646-9889-ce20277961db",
   "metadata": {
    "tags": []
   },
   "outputs": [
    {
     "data": {
      "text/plain": [
       "{'accession': 'XP_006007163.1',\n",
       " 'variant': 'H2B.K',\n",
       " 'gi': None,\n",
       " 'ncbi_gene_id': None,\n",
       " 'hgnc_gene_name': None,\n",
       " 'taxonomy_id': 7897,\n",
       " 'organism': 'Latimeria chalumnae',\n",
       " 'phylum': 'Chordata',\n",
       " 'class': None,\n",
       " 'taxonomy_group': None,\n",
       " 'info': None,\n",
       " 'sequence': 'MTNDPGKKKSKNPGEKKSSKKKAKRRETYSVYIYKVLKQVHPDTGISSKAMSIMNSFVNDVFERIATEASRLAQYNKRSTITSREVQTAVRLLLPGELAKHAVSEGTKAVTKYTSSK',\n",
       " 'variant_under_consideration': None}"
      ]
     },
     "execution_count": 62,
     "metadata": {},
     "output_type": "execute_result"
    }
   ],
   "source": [
    "data_sequence = {\n",
    "    \"accession\": ACCESSION,\n",
    "    \"variant\": \"H2B.K\",\n",
    "    \"gi\": None,\n",
    "    \"ncbi_gene_id\": None,\n",
    "    \"hgnc_gene_name\": None,\n",
    "    \"taxonomy_id\": None,\n",
    "    \"organism\": None,\n",
    "    \"phylum\": None,\n",
    "    \"class\": None,\n",
    "    \"taxonomy_group\": None,\n",
    "    \"info\": None,\n",
    "    \"sequence\": str(record.seq),\n",
    "    \"variant_under_consideration\": None,\n",
    "}\n",
    "data_sequence.update(taxonomy_data)\n",
    "data_sequence"
   ]
  },
  {
   "cell_type": "code",
   "execution_count": 63,
   "id": "6716a9f7-da58-43b8-8dd6-716a77d7f2f0",
   "metadata": {
    "tags": []
   },
   "outputs": [
    {
     "name": "stdout",
     "output_type": "stream",
     "text": [
      "accession <class 'str'>\n",
      "variant <class 'str'>\n",
      "gi <class 'NoneType'>\n",
      "ncbi_gene_id <class 'NoneType'>\n",
      "hgnc_gene_name <class 'NoneType'>\n",
      "taxonomy_id <class 'int'>\n",
      "organism <class 'str'>\n",
      "phylum <class 'str'>\n",
      "class <class 'NoneType'>\n",
      "taxonomy_group <class 'NoneType'>\n",
      "info <class 'NoneType'>\n",
      "sequence <class 'str'>\n",
      "variant_under_consideration <class 'NoneType'>\n"
     ]
    }
   ],
   "source": [
    "for k, v in data_sequence.items():\n",
    "    print(k, type(v))"
   ]
  },
  {
   "cell_type": "code",
   "execution_count": 64,
   "id": "04ea3b23-02cd-4173-b19b-247124c00395",
   "metadata": {
    "tags": []
   },
   "outputs": [],
   "source": [
    "cursor.execute(add_sequence, data_sequence)"
   ]
  },
  {
   "cell_type": "code",
   "execution_count": 65,
   "id": "7fde761a-4eb2-4334-9e3f-5f8f8c5fb8a9",
   "metadata": {
    "tags": []
   },
   "outputs": [
    {
     "data": {
      "text/html": [
       "<div>\n",
       "<style scoped>\n",
       "    .dataframe tbody tr th:only-of-type {\n",
       "        vertical-align: middle;\n",
       "    }\n",
       "\n",
       "    .dataframe tbody tr th {\n",
       "        vertical-align: top;\n",
       "    }\n",
       "\n",
       "    .dataframe thead th {\n",
       "        text-align: right;\n",
       "    }\n",
       "</style>\n",
       "<table border=\"1\" class=\"dataframe\">\n",
       "  <thead>\n",
       "    <tr style=\"text-align: right;\">\n",
       "      <th></th>\n",
       "      <th>accession</th>\n",
       "      <th>variant</th>\n",
       "      <th>gi</th>\n",
       "      <th>ncbi_gene_id</th>\n",
       "      <th>hgnc_gene_name</th>\n",
       "      <th>taxonomy_id</th>\n",
       "      <th>organism</th>\n",
       "      <th>phylum</th>\n",
       "      <th>class</th>\n",
       "      <th>taxonomy_group</th>\n",
       "      <th>info</th>\n",
       "      <th>sequence</th>\n",
       "      <th>variant_under_consideration</th>\n",
       "      <th>sequence_accession</th>\n",
       "      <th>publication_id</th>\n",
       "    </tr>\n",
       "  </thead>\n",
       "  <tbody>\n",
       "    <tr>\n",
       "      <th>0</th>\n",
       "      <td>XP_006007163.1</td>\n",
       "      <td>H2B.K</td>\n",
       "      <td>None</td>\n",
       "      <td>None</td>\n",
       "      <td>None</td>\n",
       "      <td>7897</td>\n",
       "      <td>Latimeria chalumnae</td>\n",
       "      <td>Chordata</td>\n",
       "      <td>None</td>\n",
       "      <td>None</td>\n",
       "      <td>None</td>\n",
       "      <td>MTNDPGKKKSKNPGEKKSSKKKAKRRETYSVYIYKVLKQVHPDTGI...</td>\n",
       "      <td>None</td>\n",
       "      <td>None</td>\n",
       "      <td>None</td>\n",
       "    </tr>\n",
       "  </tbody>\n",
       "</table>\n",
       "</div>"
      ],
      "text/plain": [
       "        accession variant    gi ncbi_gene_id hgnc_gene_name  taxonomy_id  \\\n",
       "0  XP_006007163.1   H2B.K  None         None           None         7897   \n",
       "\n",
       "              organism    phylum class taxonomy_group  info  \\\n",
       "0  Latimeria chalumnae  Chordata  None           None  None   \n",
       "\n",
       "                                            sequence  \\\n",
       "0  MTNDPGKKKSKNPGEKKSSKKKAKRRETYSVYIYKVLKQVHPDTGI...   \n",
       "\n",
       "  variant_under_consideration sequence_accession publication_id  \n",
       "0                        None               None           None  "
      ]
     },
     "execution_count": 65,
     "metadata": {},
     "output_type": "execute_result"
    }
   ],
   "source": [
    "query = (\n",
    "    \"SELECT * FROM sequence s LEFT JOIN sequence_has_publication sp \"\n",
    "    \"ON s.accession = sp.sequence_accession \"\n",
    "    f\"WHERE s.accession='{ACCESSION}'\"\n",
    ")\n",
    "cursor.execute(query)\n",
    "df = pd.DataFrame(cursor.fetchall(), columns=[i[0] for i in cursor.description])\n",
    "df"
   ]
  },
  {
   "cell_type": "markdown",
   "id": "236e4790-f7bb-4a23-97d9-6283b3f99d22",
   "metadata": {},
   "source": [
    "## Add publication"
   ]
  },
  {
   "cell_type": "code",
   "execution_count": 66,
   "id": "ceddb7f1-e575-4ab9-bde1-067519fbdb0e",
   "metadata": {
    "tags": []
   },
   "outputs": [
    {
     "data": {
      "text/html": [
       "<div>\n",
       "<style scoped>\n",
       "    .dataframe tbody tr th:only-of-type {\n",
       "        vertical-align: middle;\n",
       "    }\n",
       "\n",
       "    .dataframe tbody tr th {\n",
       "        vertical-align: top;\n",
       "    }\n",
       "\n",
       "    .dataframe thead th {\n",
       "        text-align: right;\n",
       "    }\n",
       "</style>\n",
       "<table border=\"1\" class=\"dataframe\">\n",
       "  <thead>\n",
       "    <tr style=\"text-align: right;\">\n",
       "      <th></th>\n",
       "      <th>id</th>\n",
       "      <th>title</th>\n",
       "      <th>doi</th>\n",
       "      <th>author</th>\n",
       "      <th>year</th>\n",
       "    </tr>\n",
       "  </thead>\n",
       "  <tbody>\n",
       "    <tr>\n",
       "      <th>0</th>\n",
       "      <td>35099534</td>\n",
       "      <td>None</td>\n",
       "      <td>None</td>\n",
       "      <td>None</td>\n",
       "      <td>None</td>\n",
       "    </tr>\n",
       "  </tbody>\n",
       "</table>\n",
       "</div>"
      ],
      "text/plain": [
       "         id title   doi author  year\n",
       "0  35099534  None  None   None  None"
      ]
     },
     "execution_count": 66,
     "metadata": {},
     "output_type": "execute_result"
    }
   ],
   "source": [
    "pid = \"35099534\"\n",
    "query = \"SELECT * FROM publication WHERE id='35099534'\"\n",
    "cursor.execute(query)\n",
    "pd.DataFrame(cursor.fetchall(), columns=[i[0] for i in cursor.description])"
   ]
  },
  {
   "cell_type": "code",
   "execution_count": 67,
   "id": "1d252eb7-9ab3-4eed-bc5d-7fc761044407",
   "metadata": {
    "tags": []
   },
   "outputs": [],
   "source": [
    "cursor.execute(add_sequence_has_publication, (ACCESSION, pid))"
   ]
  },
  {
   "cell_type": "code",
   "execution_count": 68,
   "id": "6f8bd437-5da3-448e-ab08-35dd0e34a6f9",
   "metadata": {
    "tags": []
   },
   "outputs": [
    {
     "data": {
      "text/html": [
       "<div>\n",
       "<style scoped>\n",
       "    .dataframe tbody tr th:only-of-type {\n",
       "        vertical-align: middle;\n",
       "    }\n",
       "\n",
       "    .dataframe tbody tr th {\n",
       "        vertical-align: top;\n",
       "    }\n",
       "\n",
       "    .dataframe thead th {\n",
       "        text-align: right;\n",
       "    }\n",
       "</style>\n",
       "<table border=\"1\" class=\"dataframe\">\n",
       "  <thead>\n",
       "    <tr style=\"text-align: right;\">\n",
       "      <th></th>\n",
       "      <th>accession</th>\n",
       "      <th>variant</th>\n",
       "      <th>gi</th>\n",
       "      <th>ncbi_gene_id</th>\n",
       "      <th>hgnc_gene_name</th>\n",
       "      <th>taxonomy_id</th>\n",
       "      <th>organism</th>\n",
       "      <th>phylum</th>\n",
       "      <th>class</th>\n",
       "      <th>taxonomy_group</th>\n",
       "      <th>info</th>\n",
       "      <th>sequence</th>\n",
       "      <th>variant_under_consideration</th>\n",
       "      <th>sequence_accession</th>\n",
       "      <th>publication_id</th>\n",
       "    </tr>\n",
       "  </thead>\n",
       "  <tbody>\n",
       "    <tr>\n",
       "      <th>0</th>\n",
       "      <td>XP_006007163.1</td>\n",
       "      <td>H2B.K</td>\n",
       "      <td>None</td>\n",
       "      <td>None</td>\n",
       "      <td>None</td>\n",
       "      <td>7897</td>\n",
       "      <td>Latimeria chalumnae</td>\n",
       "      <td>Chordata</td>\n",
       "      <td>None</td>\n",
       "      <td>None</td>\n",
       "      <td>None</td>\n",
       "      <td>MTNDPGKKKSKNPGEKKSSKKKAKRRETYSVYIYKVLKQVHPDTGI...</td>\n",
       "      <td>None</td>\n",
       "      <td>XP_006007163.1</td>\n",
       "      <td>35099534</td>\n",
       "    </tr>\n",
       "  </tbody>\n",
       "</table>\n",
       "</div>"
      ],
      "text/plain": [
       "        accession variant    gi ncbi_gene_id hgnc_gene_name  taxonomy_id  \\\n",
       "0  XP_006007163.1   H2B.K  None         None           None         7897   \n",
       "\n",
       "              organism    phylum class taxonomy_group  info  \\\n",
       "0  Latimeria chalumnae  Chordata  None           None  None   \n",
       "\n",
       "                                            sequence  \\\n",
       "0  MTNDPGKKKSKNPGEKKSSKKKAKRRETYSVYIYKVLKQVHPDTGI...   \n",
       "\n",
       "  variant_under_consideration sequence_accession publication_id  \n",
       "0                        None     XP_006007163.1       35099534  "
      ]
     },
     "execution_count": 68,
     "metadata": {},
     "output_type": "execute_result"
    }
   ],
   "source": [
    "query = (\n",
    "    \"SELECT * FROM sequence s LEFT JOIN sequence_has_publication sp \"\n",
    "    \"ON s.accession = sp.sequence_accession \"\n",
    "    f\"WHERE s.accession='{ACCESSION}'\"\n",
    ")\n",
    "cursor.execute(query)\n",
    "df = pd.DataFrame(cursor.fetchall(), columns=[i[0] for i in cursor.description])\n",
    "df"
   ]
  },
  {
   "cell_type": "code",
   "execution_count": 69,
   "id": "c9b4719e-2421-4a71-adf3-966d8c52a8a6",
   "metadata": {
    "tags": []
   },
   "outputs": [
    {
     "data": {
      "text/html": [
       "<div>\n",
       "<style scoped>\n",
       "    .dataframe tbody tr th:only-of-type {\n",
       "        vertical-align: middle;\n",
       "    }\n",
       "\n",
       "    .dataframe tbody tr th {\n",
       "        vertical-align: top;\n",
       "    }\n",
       "\n",
       "    .dataframe thead th {\n",
       "        text-align: right;\n",
       "    }\n",
       "</style>\n",
       "<table border=\"1\" class=\"dataframe\">\n",
       "  <thead>\n",
       "    <tr style=\"text-align: right;\">\n",
       "      <th></th>\n",
       "      <th>accession</th>\n",
       "      <th>variant</th>\n",
       "      <th>gi</th>\n",
       "      <th>ncbi_gene_id</th>\n",
       "      <th>hgnc_gene_name</th>\n",
       "      <th>taxonomy_id</th>\n",
       "      <th>organism</th>\n",
       "      <th>phylum</th>\n",
       "      <th>class</th>\n",
       "      <th>taxonomy_group</th>\n",
       "      <th>info</th>\n",
       "      <th>sequence</th>\n",
       "      <th>variant_under_consideration</th>\n",
       "      <th>sequence_accession</th>\n",
       "      <th>publication_id</th>\n",
       "    </tr>\n",
       "  </thead>\n",
       "  <tbody>\n",
       "    <tr>\n",
       "      <th>0</th>\n",
       "      <td>HISTDB_H2B_K_0</td>\n",
       "      <td>H2B.K</td>\n",
       "      <td>None</td>\n",
       "      <td>None</td>\n",
       "      <td>None</td>\n",
       "      <td>9940</td>\n",
       "      <td>Ovis aries</td>\n",
       "      <td>Chordata</td>\n",
       "      <td>Mammalia</td>\n",
       "      <td>None</td>\n",
       "      <td>None</td>\n",
       "      <td>MSAEHGQLQQAGGRRGRSPGDKKSRRRSRRKETYSMYIYKVLKQVH...</td>\n",
       "      <td>None</td>\n",
       "      <td>HISTDB_H2B_K_0</td>\n",
       "      <td>35099534</td>\n",
       "    </tr>\n",
       "    <tr>\n",
       "      <th>1</th>\n",
       "      <td>HISTDB_H2B_K_1</td>\n",
       "      <td>H2B.K</td>\n",
       "      <td>None</td>\n",
       "      <td>None</td>\n",
       "      <td>None</td>\n",
       "      <td>9615</td>\n",
       "      <td>Canis lupus familiaris</td>\n",
       "      <td>Chordata</td>\n",
       "      <td>Mammalia</td>\n",
       "      <td>None</td>\n",
       "      <td>None</td>\n",
       "      <td>MGTEHGQQPQSGGRRGHGSGDKKSKKHSRRKETYSMYIYKVLKQVH...</td>\n",
       "      <td>None</td>\n",
       "      <td>HISTDB_H2B_K_1</td>\n",
       "      <td>35099534</td>\n",
       "    </tr>\n",
       "    <tr>\n",
       "      <th>2</th>\n",
       "      <td>HISTDB_H2B_K_2</td>\n",
       "      <td>H2B.K</td>\n",
       "      <td>None</td>\n",
       "      <td>None</td>\n",
       "      <td>None</td>\n",
       "      <td>9258</td>\n",
       "      <td>Ornithorhynchus anatinus</td>\n",
       "      <td>Chordata</td>\n",
       "      <td>Mammalia</td>\n",
       "      <td>None</td>\n",
       "      <td>None</td>\n",
       "      <td>MSPEGGQQQQQQPRPRARGDRRPKRRTRRKETYSVYIYKVLKQVHP...</td>\n",
       "      <td>None</td>\n",
       "      <td>HISTDB_H2B_K_2</td>\n",
       "      <td>35099534</td>\n",
       "    </tr>\n",
       "    <tr>\n",
       "      <th>3</th>\n",
       "      <td>NP_001002724.1</td>\n",
       "      <td>H2B.K</td>\n",
       "      <td>None</td>\n",
       "      <td>None</td>\n",
       "      <td>None</td>\n",
       "      <td>7955</td>\n",
       "      <td>Danio rerio</td>\n",
       "      <td>Chordata</td>\n",
       "      <td>Actinopteri</td>\n",
       "      <td>None</td>\n",
       "      <td>None</td>\n",
       "      <td>MSNEGAKKKGKAPGDKKGSKRKSKRRETYAVYIYKVLKQVHPDTGI...</td>\n",
       "      <td>None</td>\n",
       "      <td>NP_001002724.1</td>\n",
       "      <td>35099534</td>\n",
       "    </tr>\n",
       "    <tr>\n",
       "      <th>4</th>\n",
       "      <td>XP_002190629.1</td>\n",
       "      <td>H2B.K</td>\n",
       "      <td>None</td>\n",
       "      <td>None</td>\n",
       "      <td>None</td>\n",
       "      <td>59729</td>\n",
       "      <td>Taeniopygia guttata</td>\n",
       "      <td>Chordata</td>\n",
       "      <td>Aves</td>\n",
       "      <td>None</td>\n",
       "      <td>None</td>\n",
       "      <td>MSSERLKKRGHAVASGKKSSKRKPKRKEAFSVYIYKVLKQVHPDLA...</td>\n",
       "      <td>None</td>\n",
       "      <td>XP_002190629.1</td>\n",
       "      <td>35099534</td>\n",
       "    </tr>\n",
       "    <tr>\n",
       "      <th>5</th>\n",
       "      <td>XP_002715119.2</td>\n",
       "      <td>H2B.K</td>\n",
       "      <td>None</td>\n",
       "      <td>None</td>\n",
       "      <td>None</td>\n",
       "      <td>9986</td>\n",
       "      <td>Oryctolagus cuniculus</td>\n",
       "      <td>Chordata</td>\n",
       "      <td>Mammalia</td>\n",
       "      <td>None</td>\n",
       "      <td>None</td>\n",
       "      <td>MSAERGQQQQQASSRRGRSSGNKKSRKRSKRKETYSMYIYKVLKQV...</td>\n",
       "      <td>None</td>\n",
       "      <td>XP_002715119.2</td>\n",
       "      <td>35099534</td>\n",
       "    </tr>\n",
       "    <tr>\n",
       "      <th>6</th>\n",
       "      <td>XP_005609614.1</td>\n",
       "      <td>H2B.K</td>\n",
       "      <td>None</td>\n",
       "      <td>None</td>\n",
       "      <td>None</td>\n",
       "      <td>9796</td>\n",
       "      <td>Equus caballus</td>\n",
       "      <td>Chordata</td>\n",
       "      <td>Mammalia</td>\n",
       "      <td>None</td>\n",
       "      <td>None</td>\n",
       "      <td>MSTEHGQQHQSGGRRGCSSGDKKSKKRSRRKETYSMYIYKVLKQVH...</td>\n",
       "      <td>None</td>\n",
       "      <td>XP_005609614.1</td>\n",
       "      <td>35099534</td>\n",
       "    </tr>\n",
       "    <tr>\n",
       "      <th>7</th>\n",
       "      <td>XP_006007163.1</td>\n",
       "      <td>H2B.K</td>\n",
       "      <td>None</td>\n",
       "      <td>None</td>\n",
       "      <td>None</td>\n",
       "      <td>7897</td>\n",
       "      <td>Latimeria chalumnae</td>\n",
       "      <td>Chordata</td>\n",
       "      <td>None</td>\n",
       "      <td>None</td>\n",
       "      <td>None</td>\n",
       "      <td>MTNDPGKKKSKNPGEKKSSKKKAKRRETYSVYIYKVLKQVHPDTGI...</td>\n",
       "      <td>None</td>\n",
       "      <td>XP_006007163.1</td>\n",
       "      <td>35099534</td>\n",
       "    </tr>\n",
       "    <tr>\n",
       "      <th>8</th>\n",
       "      <td>XP_010799227.1</td>\n",
       "      <td>H2B.K</td>\n",
       "      <td>None</td>\n",
       "      <td>None</td>\n",
       "      <td>None</td>\n",
       "      <td>9913</td>\n",
       "      <td>Bos taurus</td>\n",
       "      <td>Chordata</td>\n",
       "      <td>Mammalia</td>\n",
       "      <td>None</td>\n",
       "      <td>None</td>\n",
       "      <td>MSAEHGQLQQSGGRRGRSPGDKKSRRRSRRKETYSMYIYKVLKQVH...</td>\n",
       "      <td>None</td>\n",
       "      <td>XP_010799227.1</td>\n",
       "      <td>35099534</td>\n",
       "    </tr>\n",
       "    <tr>\n",
       "      <th>9</th>\n",
       "      <td>XP_013846203.1</td>\n",
       "      <td>H2B.K</td>\n",
       "      <td>None</td>\n",
       "      <td>None</td>\n",
       "      <td>None</td>\n",
       "      <td>9823</td>\n",
       "      <td>Sus scrofa</td>\n",
       "      <td>Chordata</td>\n",
       "      <td>Mammalia</td>\n",
       "      <td>None</td>\n",
       "      <td>None</td>\n",
       "      <td>MSSAHGQQQQQQQQQQQQQQQGGGRRGRSSGEKKSKKRNRRKETYS...</td>\n",
       "      <td>None</td>\n",
       "      <td>XP_013846203.1</td>\n",
       "      <td>35099534</td>\n",
       "    </tr>\n",
       "    <tr>\n",
       "      <th>10</th>\n",
       "      <td>XP_014643104.1</td>\n",
       "      <td>H2B.K</td>\n",
       "      <td>None</td>\n",
       "      <td>None</td>\n",
       "      <td>None</td>\n",
       "      <td>73337</td>\n",
       "      <td>Ceratotherium simum simum</td>\n",
       "      <td>Chordata</td>\n",
       "      <td>Mammalia</td>\n",
       "      <td>None</td>\n",
       "      <td>None</td>\n",
       "      <td>MSTEHGQQHHPGGRRGCSPGDKKFKKRSRRKETYSMYIYKVLKQVH...</td>\n",
       "      <td>None</td>\n",
       "      <td>XP_014643104.1</td>\n",
       "      <td>35099534</td>\n",
       "    </tr>\n",
       "    <tr>\n",
       "      <th>11</th>\n",
       "      <td>XP_019651116.1</td>\n",
       "      <td>H2B.K</td>\n",
       "      <td>None</td>\n",
       "      <td>None</td>\n",
       "      <td>None</td>\n",
       "      <td>9646</td>\n",
       "      <td>Ailuropoda melanoleuca</td>\n",
       "      <td>Chordata</td>\n",
       "      <td>Mammalia</td>\n",
       "      <td>None</td>\n",
       "      <td>None</td>\n",
       "      <td>MSAEHGRQQQPGGRRGRSSGDKKSRKRSRRKETYSMYIYKVLKQVH...</td>\n",
       "      <td>None</td>\n",
       "      <td>XP_019651116.1</td>\n",
       "      <td>35099534</td>\n",
       "    </tr>\n",
       "    <tr>\n",
       "      <th>12</th>\n",
       "      <td>XP_019681595.1</td>\n",
       "      <td>H2B.K</td>\n",
       "      <td>None</td>\n",
       "      <td>None</td>\n",
       "      <td>None</td>\n",
       "      <td>9685</td>\n",
       "      <td>Felis catus</td>\n",
       "      <td>Chordata</td>\n",
       "      <td>Mammalia</td>\n",
       "      <td>None</td>\n",
       "      <td>None</td>\n",
       "      <td>MSAEHGQQQQSGGRRGRSSGDKKSKKRSRRKETYSMYIYKVLKQVH...</td>\n",
       "      <td>None</td>\n",
       "      <td>XP_019681595.1</td>\n",
       "      <td>35099534</td>\n",
       "    </tr>\n",
       "    <tr>\n",
       "      <th>13</th>\n",
       "      <td>XP_022259586.1</td>\n",
       "      <td>H2B.K</td>\n",
       "      <td>None</td>\n",
       "      <td>None</td>\n",
       "      <td>None</td>\n",
       "      <td>9615</td>\n",
       "      <td>Canis lupus familiaris</td>\n",
       "      <td>Chordata</td>\n",
       "      <td>Mammalia</td>\n",
       "      <td>None</td>\n",
       "      <td>None</td>\n",
       "      <td>MGAEHGQQPQSGGRRGRGSGDKKSKKRSRRKETYSMYIYKVLKQVH...</td>\n",
       "      <td>None</td>\n",
       "      <td>XP_022259586.1</td>\n",
       "      <td>35099534</td>\n",
       "    </tr>\n",
       "    <tr>\n",
       "      <th>14</th>\n",
       "      <td>XP_023403847.1</td>\n",
       "      <td>H2B.K</td>\n",
       "      <td>None</td>\n",
       "      <td>None</td>\n",
       "      <td>None</td>\n",
       "      <td>9785</td>\n",
       "      <td>Loxodonta africana</td>\n",
       "      <td>Chordata</td>\n",
       "      <td>Mammalia</td>\n",
       "      <td>None</td>\n",
       "      <td>None</td>\n",
       "      <td>MSAELGQQQQQQQSGGQRGRSSGDKKPKKRSRRKENYSVYIYKVLK...</td>\n",
       "      <td>None</td>\n",
       "      <td>XP_023403847.1</td>\n",
       "      <td>35099534</td>\n",
       "    </tr>\n",
       "    <tr>\n",
       "      <th>15</th>\n",
       "      <td>XP_024846715.1</td>\n",
       "      <td>H2B.K</td>\n",
       "      <td>None</td>\n",
       "      <td>None</td>\n",
       "      <td>None</td>\n",
       "      <td>9913</td>\n",
       "      <td>Bos taurus</td>\n",
       "      <td>Chordata</td>\n",
       "      <td>Mammalia</td>\n",
       "      <td>None</td>\n",
       "      <td>None</td>\n",
       "      <td>MSAEHGQLQQSGGRRGRSPGDKKSRRRSRRKETYSMYIYKVLKQVH...</td>\n",
       "      <td>None</td>\n",
       "      <td>XP_024846715.1</td>\n",
       "      <td>35099534</td>\n",
       "    </tr>\n",
       "    <tr>\n",
       "      <th>16</th>\n",
       "      <td>XP_027824938.1</td>\n",
       "      <td>H2B.K</td>\n",
       "      <td>None</td>\n",
       "      <td>None</td>\n",
       "      <td>None</td>\n",
       "      <td>9940</td>\n",
       "      <td>Ovis aries</td>\n",
       "      <td>Chordata</td>\n",
       "      <td>Mammalia</td>\n",
       "      <td>None</td>\n",
       "      <td>None</td>\n",
       "      <td>MSAEHGQLQQSGGRRGRSPGDKKSRRRSRRKETYSMYIYKVLKQVH...</td>\n",
       "      <td>None</td>\n",
       "      <td>XP_027824938.1</td>\n",
       "      <td>35099534</td>\n",
       "    </tr>\n",
       "    <tr>\n",
       "      <th>17</th>\n",
       "      <td>XP_059747847.1</td>\n",
       "      <td>H2B.K</td>\n",
       "      <td>None</td>\n",
       "      <td>None</td>\n",
       "      <td>None</td>\n",
       "      <td>9913</td>\n",
       "      <td>Bos taurus</td>\n",
       "      <td>Chordata</td>\n",
       "      <td>Mammalia</td>\n",
       "      <td>None</td>\n",
       "      <td>None</td>\n",
       "      <td>MMDTRSSKLVCHNILRTRRMSAEHGQLQQSGGRRGRSPGDKKSRRR...</td>\n",
       "      <td>None</td>\n",
       "      <td>XP_059747847.1</td>\n",
       "      <td>35099534</td>\n",
       "    </tr>\n",
       "    <tr>\n",
       "      <th>18</th>\n",
       "      <td>XP_423715.4</td>\n",
       "      <td>H2B.K</td>\n",
       "      <td>None</td>\n",
       "      <td>None</td>\n",
       "      <td>None</td>\n",
       "      <td>9031</td>\n",
       "      <td>Gallus gallus</td>\n",
       "      <td>Chordata</td>\n",
       "      <td>Aves</td>\n",
       "      <td>None</td>\n",
       "      <td>None</td>\n",
       "      <td>MSAESGRMRGHPSSSGDKKSKRKPKRKETYSVYIYKVLKQVHPDTG...</td>\n",
       "      <td>None</td>\n",
       "      <td>XP_423715.4</td>\n",
       "      <td>35099534</td>\n",
       "    </tr>\n",
       "  </tbody>\n",
       "</table>\n",
       "</div>"
      ],
      "text/plain": [
       "         accession variant    gi ncbi_gene_id hgnc_gene_name  taxonomy_id  \\\n",
       "0   HISTDB_H2B_K_0   H2B.K  None         None           None         9940   \n",
       "1   HISTDB_H2B_K_1   H2B.K  None         None           None         9615   \n",
       "2   HISTDB_H2B_K_2   H2B.K  None         None           None         9258   \n",
       "3   NP_001002724.1   H2B.K  None         None           None         7955   \n",
       "4   XP_002190629.1   H2B.K  None         None           None        59729   \n",
       "5   XP_002715119.2   H2B.K  None         None           None         9986   \n",
       "6   XP_005609614.1   H2B.K  None         None           None         9796   \n",
       "7   XP_006007163.1   H2B.K  None         None           None         7897   \n",
       "8   XP_010799227.1   H2B.K  None         None           None         9913   \n",
       "9   XP_013846203.1   H2B.K  None         None           None         9823   \n",
       "10  XP_014643104.1   H2B.K  None         None           None        73337   \n",
       "11  XP_019651116.1   H2B.K  None         None           None         9646   \n",
       "12  XP_019681595.1   H2B.K  None         None           None         9685   \n",
       "13  XP_022259586.1   H2B.K  None         None           None         9615   \n",
       "14  XP_023403847.1   H2B.K  None         None           None         9785   \n",
       "15  XP_024846715.1   H2B.K  None         None           None         9913   \n",
       "16  XP_027824938.1   H2B.K  None         None           None         9940   \n",
       "17  XP_059747847.1   H2B.K  None         None           None         9913   \n",
       "18     XP_423715.4   H2B.K  None         None           None         9031   \n",
       "\n",
       "                     organism    phylum        class taxonomy_group  info  \\\n",
       "0                  Ovis aries  Chordata     Mammalia           None  None   \n",
       "1      Canis lupus familiaris  Chordata     Mammalia           None  None   \n",
       "2    Ornithorhynchus anatinus  Chordata     Mammalia           None  None   \n",
       "3                 Danio rerio  Chordata  Actinopteri           None  None   \n",
       "4         Taeniopygia guttata  Chordata         Aves           None  None   \n",
       "5       Oryctolagus cuniculus  Chordata     Mammalia           None  None   \n",
       "6              Equus caballus  Chordata     Mammalia           None  None   \n",
       "7         Latimeria chalumnae  Chordata         None           None  None   \n",
       "8                  Bos taurus  Chordata     Mammalia           None  None   \n",
       "9                  Sus scrofa  Chordata     Mammalia           None  None   \n",
       "10  Ceratotherium simum simum  Chordata     Mammalia           None  None   \n",
       "11     Ailuropoda melanoleuca  Chordata     Mammalia           None  None   \n",
       "12                Felis catus  Chordata     Mammalia           None  None   \n",
       "13     Canis lupus familiaris  Chordata     Mammalia           None  None   \n",
       "14         Loxodonta africana  Chordata     Mammalia           None  None   \n",
       "15                 Bos taurus  Chordata     Mammalia           None  None   \n",
       "16                 Ovis aries  Chordata     Mammalia           None  None   \n",
       "17                 Bos taurus  Chordata     Mammalia           None  None   \n",
       "18              Gallus gallus  Chordata         Aves           None  None   \n",
       "\n",
       "                                             sequence  \\\n",
       "0   MSAEHGQLQQAGGRRGRSPGDKKSRRRSRRKETYSMYIYKVLKQVH...   \n",
       "1   MGTEHGQQPQSGGRRGHGSGDKKSKKHSRRKETYSMYIYKVLKQVH...   \n",
       "2   MSPEGGQQQQQQPRPRARGDRRPKRRTRRKETYSVYIYKVLKQVHP...   \n",
       "3   MSNEGAKKKGKAPGDKKGSKRKSKRRETYAVYIYKVLKQVHPDTGI...   \n",
       "4   MSSERLKKRGHAVASGKKSSKRKPKRKEAFSVYIYKVLKQVHPDLA...   \n",
       "5   MSAERGQQQQQASSRRGRSSGNKKSRKRSKRKETYSMYIYKVLKQV...   \n",
       "6   MSTEHGQQHQSGGRRGCSSGDKKSKKRSRRKETYSMYIYKVLKQVH...   \n",
       "7   MTNDPGKKKSKNPGEKKSSKKKAKRRETYSVYIYKVLKQVHPDTGI...   \n",
       "8   MSAEHGQLQQSGGRRGRSPGDKKSRRRSRRKETYSMYIYKVLKQVH...   \n",
       "9   MSSAHGQQQQQQQQQQQQQQQGGGRRGRSSGEKKSKKRNRRKETYS...   \n",
       "10  MSTEHGQQHHPGGRRGCSPGDKKFKKRSRRKETYSMYIYKVLKQVH...   \n",
       "11  MSAEHGRQQQPGGRRGRSSGDKKSRKRSRRKETYSMYIYKVLKQVH...   \n",
       "12  MSAEHGQQQQSGGRRGRSSGDKKSKKRSRRKETYSMYIYKVLKQVH...   \n",
       "13  MGAEHGQQPQSGGRRGRGSGDKKSKKRSRRKETYSMYIYKVLKQVH...   \n",
       "14  MSAELGQQQQQQQSGGQRGRSSGDKKPKKRSRRKENYSVYIYKVLK...   \n",
       "15  MSAEHGQLQQSGGRRGRSPGDKKSRRRSRRKETYSMYIYKVLKQVH...   \n",
       "16  MSAEHGQLQQSGGRRGRSPGDKKSRRRSRRKETYSMYIYKVLKQVH...   \n",
       "17  MMDTRSSKLVCHNILRTRRMSAEHGQLQQSGGRRGRSPGDKKSRRR...   \n",
       "18  MSAESGRMRGHPSSSGDKKSKRKPKRKETYSVYIYKVLKQVHPDTG...   \n",
       "\n",
       "   variant_under_consideration sequence_accession publication_id  \n",
       "0                         None     HISTDB_H2B_K_0       35099534  \n",
       "1                         None     HISTDB_H2B_K_1       35099534  \n",
       "2                         None     HISTDB_H2B_K_2       35099534  \n",
       "3                         None     NP_001002724.1       35099534  \n",
       "4                         None     XP_002190629.1       35099534  \n",
       "5                         None     XP_002715119.2       35099534  \n",
       "6                         None     XP_005609614.1       35099534  \n",
       "7                         None     XP_006007163.1       35099534  \n",
       "8                         None     XP_010799227.1       35099534  \n",
       "9                         None     XP_013846203.1       35099534  \n",
       "10                        None     XP_014643104.1       35099534  \n",
       "11                        None     XP_019651116.1       35099534  \n",
       "12                        None     XP_019681595.1       35099534  \n",
       "13                        None     XP_022259586.1       35099534  \n",
       "14                        None     XP_023403847.1       35099534  \n",
       "15                        None     XP_024846715.1       35099534  \n",
       "16                        None     XP_027824938.1       35099534  \n",
       "17                        None     XP_059747847.1       35099534  \n",
       "18                        None        XP_423715.4       35099534  "
      ]
     },
     "execution_count": 69,
     "metadata": {},
     "output_type": "execute_result"
    }
   ],
   "source": [
    "query = (\n",
    "    \"SELECT * FROM sequence s LEFT JOIN sequence_has_publication sp \"\n",
    "    \"ON s.accession = sp.sequence_accession \"\n",
    "    f\"WHERE s.variant='H2B.K'\"\n",
    ")\n",
    "cursor.execute(query)\n",
    "df = pd.DataFrame(cursor.fetchall(), columns=[i[0] for i in cursor.description])\n",
    "df"
   ]
  },
  {
   "cell_type": "code",
   "execution_count": 70,
   "id": "bb69ff0d-0549-41c3-bda5-a61ea4f669db",
   "metadata": {
    "tags": []
   },
   "outputs": [],
   "source": [
    "# Make sure data is committed to the database\n",
    "conn.commit()"
   ]
  },
  {
   "cell_type": "markdown",
   "id": "d3c8a219-f508-46e1-936f-7d6040016e39",
   "metadata": {
    "tags": []
   },
   "source": [
    "# Close connections"
   ]
  },
  {
   "cell_type": "code",
   "execution_count": 71,
   "id": "572059d8-54f9-4ec7-a2c6-1c8066552845",
   "metadata": {
    "tags": []
   },
   "outputs": [],
   "source": [
    "cursor.close()\n",
    "conn.close()\n",
    "tunnel.stop()"
   ]
  },
  {
   "cell_type": "code",
   "execution_count": null,
   "id": "a078e121-8348-4ac8-a3f1-7c8b18b6d120",
   "metadata": {},
   "outputs": [],
   "source": []
  }
 ],
 "metadata": {
  "kernelspec": {
   "display_name": ".conda-histdb_env",
   "language": "python",
   "name": "conda-env-.conda-histdb_env-py"
  },
  "language_info": {
   "codemirror_mode": {
    "name": "ipython",
    "version": 3
   },
   "file_extension": ".py",
   "mimetype": "text/x-python",
   "name": "python",
   "nbconvert_exporter": "python",
   "pygments_lexer": "ipython3",
   "version": "3.8.1"
  }
 },
 "nbformat": 4,
 "nbformat_minor": 5
}
