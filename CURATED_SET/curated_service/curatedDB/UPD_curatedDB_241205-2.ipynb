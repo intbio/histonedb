{
 "cells": [
  {
   "cell_type": "code",
   "execution_count": 1,
   "id": "fb32231a-293e-45b8-af7d-d996c91a4edd",
   "metadata": {
    "tags": []
   },
   "outputs": [],
   "source": [
    "import pandas as pd\n",
    "from Bio import Entrez, SeqIO\n",
    "from mysql.connector import connection\n",
    "from sshtunnel import SSHTunnelForwarder\n",
    "\n",
    "Entrez.email = \"l.singh@intbio.org\""
   ]
  },
  {
   "cell_type": "code",
   "execution_count": 2,
   "id": "d5fa78a7-4901-4e63-9d91-d9ed584d2f62",
   "metadata": {
    "tags": []
   },
   "outputs": [],
   "source": [
    "with open(\"db_curated_server_info.txt\", \"r\") as file:\n",
    "    lines = file.readlines()\n",
    "\n",
    "config = {}\n",
    "\n",
    "for line in lines:\n",
    "    line = line.strip()\n",
    "    if line and not line.startswith(\"#\"):\n",
    "        key, value = line.split(\"=\", 1)\n",
    "        config[key] = value.strip()\n",
    "\n",
    "server_name = config.get(\"server_name\")\n",
    "srever_port = int(config.get(\"srever_port\"))\n",
    "ssh_password = config.get(\"ssh_password\")\n",
    "ssh_username = config.get(\"ssh_username\")\n",
    "db_adress = config.get(\"db_adress\")\n",
    "db_port = int(config.get(\"db_port\"))"
   ]
  },
  {
   "cell_type": "code",
   "execution_count": 3,
   "id": "ebe3d2e8-9736-4fd9-b3f1-5ec2d255567d",
   "metadata": {
    "tags": []
   },
   "outputs": [
    {
     "name": "stdout",
     "output_type": "stream",
     "text": [
      "37653\n"
     ]
    }
   ],
   "source": [
    "tunnel = SSHTunnelForwarder(\n",
    "    (server_name, srever_port),\n",
    "    ssh_password=ssh_password,\n",
    "    ssh_username=ssh_username,\n",
    "    remote_bind_address=(db_adress, db_port),\n",
    ")\n",
    "tunnel.start()\n",
    "print(tunnel.local_bind_port)"
   ]
  },
  {
   "cell_type": "code",
   "execution_count": 4,
   "id": "0de93630-7502-40f3-ad24-42edf7a11eef",
   "metadata": {
    "tags": []
   },
   "outputs": [],
   "source": [
    "conn = connection.MySQLConnection(\n",
    "    user=\"db_user\",\n",
    "    password=\"db_password\",\n",
    "    host=\"localhost\",\n",
    "    port=tunnel.local_bind_port,\n",
    "    database=\"db_name\",\n",
    ")\n",
    "cursor = conn.cursor()"
   ]
  },
  {
   "cell_type": "code",
   "execution_count": 5,
   "id": "b4767ba0-4ea1-43ae-953f-f2575d9b7a69",
   "metadata": {
    "tags": []
   },
   "outputs": [
    {
     "data": {
      "text/plain": [
       "[('alternative_name',),\n",
       " ('histone',),\n",
       " ('histone_description',),\n",
       " ('histone_has_publication',),\n",
       " ('publication',),\n",
       " ('sequence',),\n",
       " ('sequence_has_publication',)]"
      ]
     },
     "execution_count": 5,
     "metadata": {},
     "output_type": "execute_result"
    }
   ],
   "source": [
    "query = \"SHOW TABLES;\"\n",
    "cursor.execute(query)\n",
    "cursor.fetchall()"
   ]
  },
  {
   "cell_type": "code",
   "execution_count": 106,
   "id": "c68d4b8f-c22c-4f8e-bb4f-71f95668656e",
   "metadata": {
    "tags": []
   },
   "outputs": [],
   "source": [
    "# add_histone = (\n",
    "#     \"INSERT INTO histone \"\n",
    "#     \"(id, level, taxonomic_span, taxonomic_span_id, description, parent) \"\n",
    "#     \"VALUES (%(id)s, %(level)s, %(taxonomic_span)s, %(taxonomic_span_id)s, %(description)s, %(parent)s)\"\n",
    "# )\n",
    "# add_histone_description = (\n",
    "#     \"INSERT INTO histone_description \"\n",
    "#     \"(summary, taxonomy, genes, evolution, expression, knock_out, function, sequence, localization, deposition, structure, interactions, disease, caveats) \"\n",
    "#     \"VALUES (%s, %s, %s, %s, %s, %s, %s, %s, %s, %s, %s, %s, %s, %s)\"\n",
    "# )\n",
    "add_publication = (\n",
    "    \"INSERT INTO publication \"\n",
    "    \"(id, title, doi, author, year) \"\n",
    "    \"VALUES (%(id)s, %(title)s, %(doi)s, %(author)s, %(year)s)\"\n",
    ")\n",
    "# add_sequence_has_publication = (\n",
    "#     \"INSERT INTO sequence_has_publication \"\n",
    "#     \"(sequence_accession, publication_id) \"\n",
    "#     \"VALUES (%s, %s)\"\n",
    "# )\n",
    "# add_alternate_names = (\n",
    "#     \"INSERT INTO alternative_name \"\n",
    "#     \"(name, taxonomy, gene, splice, histone) \"\n",
    "#     \"VALUES (%(name)s, %(taxonomy)s, %(gene)s, %(splice)s, %(histone)s)\"\n",
    "# )\n",
    "add_histone_has_publication = (\n",
    "    \"INSERT INTO histone_has_publication \"\n",
    "    \"(histone_id, publication_id) \"\n",
    "    \"VALUES (%s, %s)\"\n",
    ")"
   ]
  },
  {
   "cell_type": "markdown",
   "id": "f0e30842-5f18-4d84-9f5d-50d87f0a90fa",
   "metadata": {
    "tags": []
   },
   "source": [
    "# Change name for some variants\n",
    "\n",
    "gH2A → gH2A_(Lilium)\n",
    "\n",
    "gH2B → gH2B_(Lilium)\n",
    "\n",
    "H2B.S → H2B.S_(Magnoliopsida)\n",
    "\n",
    "H2A.M → H2A.M_(Viridiplantae)\n",
    "\n",
    "H2A.W → H2A.W_(Magnoliopsida)"
   ]
  },
  {
   "cell_type": "markdown",
   "id": "c882de0e-cfc0-4511-a113-53febecdfffb",
   "metadata": {
    "jp-MarkdownHeadingCollapsed": true,
    "tags": []
   },
   "source": [
    "## Change name from gH2A to gH2A_(Lilium)"
   ]
  },
  {
   "cell_type": "code",
   "execution_count": 8,
   "id": "4b8536f7-b5e9-4507-b6e3-95e2dd86dd38",
   "metadata": {
    "tags": []
   },
   "outputs": [
    {
     "data": {
      "text/html": [
       "<div>\n",
       "<style scoped>\n",
       "    .dataframe tbody tr th:only-of-type {\n",
       "        vertical-align: middle;\n",
       "    }\n",
       "\n",
       "    .dataframe tbody tr th {\n",
       "        vertical-align: top;\n",
       "    }\n",
       "\n",
       "    .dataframe thead th {\n",
       "        text-align: right;\n",
       "    }\n",
       "</style>\n",
       "<table border=\"1\" class=\"dataframe\">\n",
       "  <thead>\n",
       "    <tr style=\"text-align: right;\">\n",
       "      <th></th>\n",
       "      <th>id</th>\n",
       "      <th>level</th>\n",
       "      <th>taxonomic_span</th>\n",
       "      <th>taxonomic_span_id</th>\n",
       "      <th>description</th>\n",
       "      <th>parent</th>\n",
       "      <th>histone_id</th>\n",
       "      <th>publication_id</th>\n",
       "    </tr>\n",
       "  </thead>\n",
       "  <tbody>\n",
       "    <tr>\n",
       "      <th>0</th>\n",
       "      <td>gH2A</td>\n",
       "      <td>variant_group</td>\n",
       "      <td>Lilium</td>\n",
       "      <td>4688</td>\n",
       "      <td>23</td>\n",
       "      <td>H2A</td>\n",
       "      <td>gH2A</td>\n",
       "      <td>alvarez-venegas_canonical_2019</td>\n",
       "    </tr>\n",
       "    <tr>\n",
       "      <th>1</th>\n",
       "      <td>gH2A</td>\n",
       "      <td>variant_group</td>\n",
       "      <td>Lilium</td>\n",
       "      <td>4688</td>\n",
       "      <td>23</td>\n",
       "      <td>H2A</td>\n",
       "      <td>gH2A</td>\n",
       "      <td>ueda_male_2005</td>\n",
       "    </tr>\n",
       "  </tbody>\n",
       "</table>\n",
       "</div>"
      ],
      "text/plain": [
       "     id          level taxonomic_span taxonomic_span_id  description parent  \\\n",
       "0  gH2A  variant_group         Lilium              4688           23    H2A   \n",
       "1  gH2A  variant_group         Lilium              4688           23    H2A   \n",
       "\n",
       "  histone_id                  publication_id  \n",
       "0       gH2A  alvarez-venegas_canonical_2019  \n",
       "1       gH2A                  ueda_male_2005  "
      ]
     },
     "execution_count": 8,
     "metadata": {},
     "output_type": "execute_result"
    }
   ],
   "source": [
    "query = (\n",
    "    \"SELECT * FROM histone h LEFT JOIN histone_has_publication hp \"\n",
    "    \"ON h.id = hp.histone_id \"\n",
    "    \"WHERE h.id='gH2A'\"\n",
    ")\n",
    "cursor.execute(query)\n",
    "pd.DataFrame(cursor.fetchall(), columns=[i[0] for i in cursor.description])"
   ]
  },
  {
   "cell_type": "code",
   "execution_count": 7,
   "id": "e1f735c6-e34f-4475-b74f-667e3ef6dd57",
   "metadata": {
    "tags": []
   },
   "outputs": [
    {
     "data": {
      "text/html": [
       "<div>\n",
       "<style scoped>\n",
       "    .dataframe tbody tr th:only-of-type {\n",
       "        vertical-align: middle;\n",
       "    }\n",
       "\n",
       "    .dataframe tbody tr th {\n",
       "        vertical-align: top;\n",
       "    }\n",
       "\n",
       "    .dataframe thead th {\n",
       "        text-align: right;\n",
       "    }\n",
       "</style>\n",
       "<table border=\"1\" class=\"dataframe\">\n",
       "  <thead>\n",
       "    <tr style=\"text-align: right;\">\n",
       "      <th></th>\n",
       "      <th>id</th>\n",
       "      <th>level</th>\n",
       "      <th>taxonomic_span</th>\n",
       "      <th>taxonomic_span_id</th>\n",
       "      <th>description</th>\n",
       "      <th>parent</th>\n",
       "      <th>id</th>\n",
       "      <th>summary</th>\n",
       "      <th>taxonomy</th>\n",
       "      <th>genes</th>\n",
       "      <th>...</th>\n",
       "      <th>expression</th>\n",
       "      <th>knock_out</th>\n",
       "      <th>function</th>\n",
       "      <th>sequence</th>\n",
       "      <th>localization</th>\n",
       "      <th>deposition</th>\n",
       "      <th>structure</th>\n",
       "      <th>interactions</th>\n",
       "      <th>disease</th>\n",
       "      <th>caveats</th>\n",
       "    </tr>\n",
       "  </thead>\n",
       "  <tbody>\n",
       "    <tr>\n",
       "      <th>0</th>\n",
       "      <td>gH2A</td>\n",
       "      <td>variant_group</td>\n",
       "      <td>Lilium</td>\n",
       "      <td>4688</td>\n",
       "      <td>23</td>\n",
       "      <td>H2A</td>\n",
       "      <td>23</td>\n",
       "      <td>gH2A is a male-gamete-specific variant found i...</td>\n",
       "      <td>Suggested to be a distinctive variant that evl...</td>\n",
       "      <td>gH2A gene in Lilium longiflorum. The gene is i...</td>\n",
       "      <td>...</td>\n",
       "      <td>null</td>\n",
       "      <td>null</td>\n",
       "      <td>This histone variant is expected to be specifi...</td>\n",
       "      <td>null</td>\n",
       "      <td>null</td>\n",
       "      <td>null</td>\n",
       "      <td>null</td>\n",
       "      <td>null</td>\n",
       "      <td>null</td>\n",
       "      <td>null</td>\n",
       "    </tr>\n",
       "  </tbody>\n",
       "</table>\n",
       "<p>1 rows × 21 columns</p>\n",
       "</div>"
      ],
      "text/plain": [
       "     id          level taxonomic_span taxonomic_span_id  description parent  \\\n",
       "0  gH2A  variant_group         Lilium              4688           23    H2A   \n",
       "\n",
       "   id                                            summary  \\\n",
       "0  23  gH2A is a male-gamete-specific variant found i...   \n",
       "\n",
       "                                            taxonomy  \\\n",
       "0  Suggested to be a distinctive variant that evl...   \n",
       "\n",
       "                                               genes  ... expression  \\\n",
       "0  gH2A gene in Lilium longiflorum. The gene is i...  ...       null   \n",
       "\n",
       "  knock_out                                           function sequence  \\\n",
       "0      null  This histone variant is expected to be specifi...     null   \n",
       "\n",
       "  localization deposition structure interactions disease caveats  \n",
       "0         null       null      null         null    null    null  \n",
       "\n",
       "[1 rows x 21 columns]"
      ]
     },
     "execution_count": 7,
     "metadata": {},
     "output_type": "execute_result"
    }
   ],
   "source": [
    "query = (\n",
    "    \"SELECT * FROM histone h LEFT JOIN histone_description hd \"\n",
    "    \"ON h.description = hd.id \"\n",
    "    \"WHERE h.id='gH2A'\"\n",
    ")\n",
    "cursor.execute(query)\n",
    "pd.DataFrame(cursor.fetchall(), columns=[i[0] for i in cursor.description])"
   ]
  },
  {
   "cell_type": "markdown",
   "id": "5a9d9670-90b1-4ee1-a9ba-2a7f6cf6cca5",
   "metadata": {
    "tags": []
   },
   "source": [
    "### Save publications and description id"
   ]
  },
  {
   "cell_type": "code",
   "execution_count": 11,
   "id": "78431f56-4251-498c-8633-e09ec0f1270f",
   "metadata": {
    "tags": []
   },
   "outputs": [
    {
     "data": {
      "text/plain": [
       "array(['alvarez-venegas_canonical_2019', 'ueda_male_2005'], dtype=object)"
      ]
     },
     "execution_count": 11,
     "metadata": {},
     "output_type": "execute_result"
    }
   ],
   "source": [
    "query = (\n",
    "    \"SELECT * FROM histone h LEFT JOIN histone_has_publication hp \"\n",
    "    \"ON h.id = hp.histone_id \"\n",
    "    \"WHERE h.id='gH2A'\"\n",
    ")\n",
    "cursor.execute(query)\n",
    "publications = pd.DataFrame(\n",
    "    cursor.fetchall(), columns=[i[0] for i in cursor.description]\n",
    ")[\"publication_id\"].values\n",
    "publications"
   ]
  },
  {
   "cell_type": "code",
   "execution_count": 14,
   "id": "fc7936c5-010d-46e8-9fad-3b928786e5dc",
   "metadata": {
    "tags": []
   },
   "outputs": [
    {
     "data": {
      "text/plain": [
       "23"
      ]
     },
     "execution_count": 14,
     "metadata": {},
     "output_type": "execute_result"
    }
   ],
   "source": [
    "query = (\n",
    "    \"SELECT * FROM histone h LEFT JOIN histone_description hd \"\n",
    "    \"ON h.description = hd.id \"\n",
    "    \"WHERE h.id='gH2A'\"\n",
    ")\n",
    "cursor.execute(query)\n",
    "desc_id = pd.DataFrame(cursor.fetchall(), columns=[i[0] for i in cursor.description])[\n",
    "    \"description\"\n",
    "].values[0]\n",
    "desc_id"
   ]
  },
  {
   "cell_type": "markdown",
   "id": "ecf3057e-77e4-4c1f-8bb7-ed2f96a47593",
   "metadata": {
    "tags": []
   },
   "source": [
    "### Delete relations"
   ]
  },
  {
   "cell_type": "code",
   "execution_count": 16,
   "id": "59cb1373",
   "metadata": {
    "tags": []
   },
   "outputs": [
    {
     "name": "stdout",
     "output_type": "stream",
     "text": [
      "DELETE FROM histone_has_publication WHERE histone_id = 'gH2A'\n"
     ]
    }
   ],
   "source": [
    "query = \"DELETE FROM histone_has_publication WHERE histone_id = 'gH2A'\" \n",
    "print(query) \n",
    "cursor.execute(query)"
   ]
  },
  {
   "cell_type": "code",
   "execution_count": 17,
   "id": "fdc609a7-9949-4b76-bb27-352db00414c1",
   "metadata": {
    "tags": []
   },
   "outputs": [
    {
     "name": "stdout",
     "output_type": "stream",
     "text": [
      "UPDATE histone SET description=null WHERE id = 'gH2A'\n"
     ]
    }
   ],
   "source": [
    "query = \"UPDATE histone SET description=null WHERE id = 'gH2A'\" \n",
    "print(query) \n",
    "cursor.execute(query) "
   ]
  },
  {
   "cell_type": "code",
   "execution_count": 18,
   "id": "2d687c84-3d4c-4079-9f4e-4fb772f22bc9",
   "metadata": {
    "tags": []
   },
   "outputs": [
    {
     "data": {
      "text/html": [
       "<div>\n",
       "<style scoped>\n",
       "    .dataframe tbody tr th:only-of-type {\n",
       "        vertical-align: middle;\n",
       "    }\n",
       "\n",
       "    .dataframe tbody tr th {\n",
       "        vertical-align: top;\n",
       "    }\n",
       "\n",
       "    .dataframe thead th {\n",
       "        text-align: right;\n",
       "    }\n",
       "</style>\n",
       "<table border=\"1\" class=\"dataframe\">\n",
       "  <thead>\n",
       "    <tr style=\"text-align: right;\">\n",
       "      <th></th>\n",
       "      <th>id</th>\n",
       "      <th>level</th>\n",
       "      <th>taxonomic_span</th>\n",
       "      <th>taxonomic_span_id</th>\n",
       "      <th>description</th>\n",
       "      <th>parent</th>\n",
       "      <th>histone_id</th>\n",
       "      <th>publication_id</th>\n",
       "    </tr>\n",
       "  </thead>\n",
       "  <tbody>\n",
       "    <tr>\n",
       "      <th>0</th>\n",
       "      <td>gH2A</td>\n",
       "      <td>variant_group</td>\n",
       "      <td>Lilium</td>\n",
       "      <td>4688</td>\n",
       "      <td>None</td>\n",
       "      <td>H2A</td>\n",
       "      <td>None</td>\n",
       "      <td>None</td>\n",
       "    </tr>\n",
       "  </tbody>\n",
       "</table>\n",
       "</div>"
      ],
      "text/plain": [
       "     id          level taxonomic_span taxonomic_span_id description parent  \\\n",
       "0  gH2A  variant_group         Lilium              4688        None    H2A   \n",
       "\n",
       "  histone_id publication_id  \n",
       "0       None           None  "
      ]
     },
     "execution_count": 18,
     "metadata": {},
     "output_type": "execute_result"
    }
   ],
   "source": [
    "query = (\n",
    "    \"SELECT * FROM histone h LEFT JOIN histone_has_publication hp \"\n",
    "    \"ON h.id = hp.histone_id \"\n",
    "    \"WHERE h.id='gH2A'\"\n",
    ")\n",
    "cursor.execute(query)\n",
    "pd.DataFrame(cursor.fetchall(), columns=[i[0] for i in cursor.description])"
   ]
  },
  {
   "cell_type": "markdown",
   "id": "6f832021-f290-433e-87eb-82c25b158127",
   "metadata": {
    "tags": []
   },
   "source": [
    "### Update name"
   ]
  },
  {
   "cell_type": "code",
   "execution_count": 20,
   "id": "020757e0",
   "metadata": {
    "tags": []
   },
   "outputs": [
    {
     "name": "stdout",
     "output_type": "stream",
     "text": [
      "UPDATE histone SET id='gH2A_(Lilium)' WHERE id = 'gH2A'\n"
     ]
    }
   ],
   "source": [
    "query = \"UPDATE histone SET id='gH2A_(Lilium)' WHERE id = 'gH2A'\" \n",
    "print(query) \n",
    "cursor.execute(query) "
   ]
  },
  {
   "cell_type": "code",
   "execution_count": 22,
   "id": "e13a0259",
   "metadata": {
    "tags": []
   },
   "outputs": [
    {
     "data": {
      "text/html": [
       "<div>\n",
       "<style scoped>\n",
       "    .dataframe tbody tr th:only-of-type {\n",
       "        vertical-align: middle;\n",
       "    }\n",
       "\n",
       "    .dataframe tbody tr th {\n",
       "        vertical-align: top;\n",
       "    }\n",
       "\n",
       "    .dataframe thead th {\n",
       "        text-align: right;\n",
       "    }\n",
       "</style>\n",
       "<table border=\"1\" class=\"dataframe\">\n",
       "  <thead>\n",
       "    <tr style=\"text-align: right;\">\n",
       "      <th></th>\n",
       "      <th>id</th>\n",
       "      <th>level</th>\n",
       "      <th>taxonomic_span</th>\n",
       "      <th>taxonomic_span_id</th>\n",
       "      <th>description</th>\n",
       "      <th>parent</th>\n",
       "      <th>histone_id</th>\n",
       "      <th>publication_id</th>\n",
       "    </tr>\n",
       "  </thead>\n",
       "  <tbody>\n",
       "    <tr>\n",
       "      <th>0</th>\n",
       "      <td>gH2A_(Lilium)</td>\n",
       "      <td>variant_group</td>\n",
       "      <td>Lilium</td>\n",
       "      <td>4688</td>\n",
       "      <td>None</td>\n",
       "      <td>H2A</td>\n",
       "      <td>None</td>\n",
       "      <td>None</td>\n",
       "    </tr>\n",
       "  </tbody>\n",
       "</table>\n",
       "</div>"
      ],
      "text/plain": [
       "              id          level taxonomic_span taxonomic_span_id description  \\\n",
       "0  gH2A_(Lilium)  variant_group         Lilium              4688        None   \n",
       "\n",
       "  parent histone_id publication_id  \n",
       "0    H2A       None           None  "
      ]
     },
     "execution_count": 22,
     "metadata": {},
     "output_type": "execute_result"
    }
   ],
   "source": [
    "query = (\n",
    "    \"SELECT * FROM histone h LEFT JOIN histone_has_publication hp \"\n",
    "    \"ON h.id = hp.histone_id \"\n",
    "    \"WHERE h.id='gH2A_(Lilium)'\"\n",
    ")\n",
    "cursor.execute(query)\n",
    "pd.DataFrame(cursor.fetchall(), columns=[i[0] for i in cursor.description])"
   ]
  },
  {
   "cell_type": "markdown",
   "id": "6f9fae2e-29b8-4253-8670-2a00109b0d24",
   "metadata": {},
   "source": [
    "### Return relations"
   ]
  },
  {
   "cell_type": "code",
   "execution_count": 25,
   "id": "23ef1543-d312-4489-bc87-90a68781b1b1",
   "metadata": {
    "tags": []
   },
   "outputs": [
    {
     "name": "stdout",
     "output_type": "stream",
     "text": [
      "UPDATE histone SET description=23 WHERE id = 'gH2A_(Lilium)'\n"
     ]
    }
   ],
   "source": [
    "query = f\"UPDATE histone SET description={desc_id} WHERE id = 'gH2A_(Lilium)'\" \n",
    "print(query) \n",
    "cursor.execute(query) "
   ]
  },
  {
   "cell_type": "code",
   "execution_count": 27,
   "id": "19158df2-d318-422d-8828-b516b2fe36ce",
   "metadata": {
    "tags": []
   },
   "outputs": [
    {
     "data": {
      "text/html": [
       "<div>\n",
       "<style scoped>\n",
       "    .dataframe tbody tr th:only-of-type {\n",
       "        vertical-align: middle;\n",
       "    }\n",
       "\n",
       "    .dataframe tbody tr th {\n",
       "        vertical-align: top;\n",
       "    }\n",
       "\n",
       "    .dataframe thead th {\n",
       "        text-align: right;\n",
       "    }\n",
       "</style>\n",
       "<table border=\"1\" class=\"dataframe\">\n",
       "  <thead>\n",
       "    <tr style=\"text-align: right;\">\n",
       "      <th></th>\n",
       "      <th>id</th>\n",
       "      <th>level</th>\n",
       "      <th>taxonomic_span</th>\n",
       "      <th>taxonomic_span_id</th>\n",
       "      <th>description</th>\n",
       "      <th>parent</th>\n",
       "      <th>id</th>\n",
       "      <th>summary</th>\n",
       "      <th>taxonomy</th>\n",
       "      <th>genes</th>\n",
       "      <th>...</th>\n",
       "      <th>expression</th>\n",
       "      <th>knock_out</th>\n",
       "      <th>function</th>\n",
       "      <th>sequence</th>\n",
       "      <th>localization</th>\n",
       "      <th>deposition</th>\n",
       "      <th>structure</th>\n",
       "      <th>interactions</th>\n",
       "      <th>disease</th>\n",
       "      <th>caveats</th>\n",
       "    </tr>\n",
       "  </thead>\n",
       "  <tbody>\n",
       "    <tr>\n",
       "      <th>0</th>\n",
       "      <td>gH2A_(Lilium)</td>\n",
       "      <td>variant_group</td>\n",
       "      <td>Lilium</td>\n",
       "      <td>4688</td>\n",
       "      <td>23</td>\n",
       "      <td>H2A</td>\n",
       "      <td>23</td>\n",
       "      <td>gH2A is a male-gamete-specific variant found i...</td>\n",
       "      <td>Suggested to be a distinctive variant that evl...</td>\n",
       "      <td>gH2A gene in Lilium longiflorum. The gene is i...</td>\n",
       "      <td>...</td>\n",
       "      <td>null</td>\n",
       "      <td>null</td>\n",
       "      <td>This histone variant is expected to be specifi...</td>\n",
       "      <td>null</td>\n",
       "      <td>null</td>\n",
       "      <td>null</td>\n",
       "      <td>null</td>\n",
       "      <td>null</td>\n",
       "      <td>null</td>\n",
       "      <td>null</td>\n",
       "    </tr>\n",
       "  </tbody>\n",
       "</table>\n",
       "<p>1 rows × 21 columns</p>\n",
       "</div>"
      ],
      "text/plain": [
       "              id          level taxonomic_span taxonomic_span_id  description  \\\n",
       "0  gH2A_(Lilium)  variant_group         Lilium              4688           23   \n",
       "\n",
       "  parent  id                                            summary  \\\n",
       "0    H2A  23  gH2A is a male-gamete-specific variant found i...   \n",
       "\n",
       "                                            taxonomy  \\\n",
       "0  Suggested to be a distinctive variant that evl...   \n",
       "\n",
       "                                               genes  ... expression  \\\n",
       "0  gH2A gene in Lilium longiflorum. The gene is i...  ...       null   \n",
       "\n",
       "  knock_out                                           function sequence  \\\n",
       "0      null  This histone variant is expected to be specifi...     null   \n",
       "\n",
       "  localization deposition structure interactions disease caveats  \n",
       "0         null       null      null         null    null    null  \n",
       "\n",
       "[1 rows x 21 columns]"
      ]
     },
     "execution_count": 27,
     "metadata": {},
     "output_type": "execute_result"
    }
   ],
   "source": [
    "query = (\n",
    "    \"SELECT * FROM histone h LEFT JOIN histone_description hd \"\n",
    "    \"ON h.description = hd.id \"\n",
    "    \"WHERE h.id='gH2A_(Lilium)'\"\n",
    ")\n",
    "cursor.execute(query)\n",
    "pd.DataFrame(cursor.fetchall(), columns=[i[0] for i in cursor.description])"
   ]
  },
  {
   "cell_type": "code",
   "execution_count": 29,
   "id": "011a8c9d-a624-42f1-a25e-04dee4eb3842",
   "metadata": {
    "tags": []
   },
   "outputs": [
    {
     "data": {
      "text/plain": [
       "'gH2A_(Lilium) is a male-gamete-specific variant found in the genus Lilium [alvarez-venegas_canonical_2019,ueda_male_2005].'"
      ]
     },
     "execution_count": 29,
     "metadata": {},
     "output_type": "execute_result"
    }
   ],
   "source": [
    "query = (\n",
    "    \"SELECT * FROM histone h LEFT JOIN histone_description hd \"\n",
    "    \"ON h.description = hd.id \"\n",
    "    \"WHERE h.id='gH2A_(Lilium)'\"\n",
    ")\n",
    "cursor.execute(query)\n",
    "summary = pd.DataFrame(cursor.fetchall(), columns=[i[0] for i in cursor.description])[\"summary\"].values[0].replace(\"gH2A\", \"gH2A_(Lilium)\", 1)\n",
    "summary"
   ]
  },
  {
   "cell_type": "code",
   "execution_count": 33,
   "id": "ba56f783-3229-465f-a1b6-ce141c4c376c",
   "metadata": {
    "tags": []
   },
   "outputs": [
    {
     "name": "stdout",
     "output_type": "stream",
     "text": [
      "UPDATE histone_description SET summary='gH2A_(Lilium) is a male-gamete-specific variant found in the genus Lilium [alvarez-venegas_canonical_2019,ueda_male_2005].' WHERE id = '23'\n"
     ]
    }
   ],
   "source": [
    "query = f\"UPDATE histone_description SET summary='{summary}' WHERE id = '{desc_id}'\" \n",
    "print(query) \n",
    "cursor.execute(query) "
   ]
  },
  {
   "cell_type": "code",
   "execution_count": 34,
   "id": "9202781e-ba9f-498a-b4b5-2103961c4339",
   "metadata": {
    "tags": []
   },
   "outputs": [
    {
     "data": {
      "text/html": [
       "<div>\n",
       "<style scoped>\n",
       "    .dataframe tbody tr th:only-of-type {\n",
       "        vertical-align: middle;\n",
       "    }\n",
       "\n",
       "    .dataframe tbody tr th {\n",
       "        vertical-align: top;\n",
       "    }\n",
       "\n",
       "    .dataframe thead th {\n",
       "        text-align: right;\n",
       "    }\n",
       "</style>\n",
       "<table border=\"1\" class=\"dataframe\">\n",
       "  <thead>\n",
       "    <tr style=\"text-align: right;\">\n",
       "      <th></th>\n",
       "      <th>id</th>\n",
       "      <th>level</th>\n",
       "      <th>taxonomic_span</th>\n",
       "      <th>taxonomic_span_id</th>\n",
       "      <th>description</th>\n",
       "      <th>parent</th>\n",
       "      <th>id</th>\n",
       "      <th>summary</th>\n",
       "      <th>taxonomy</th>\n",
       "      <th>genes</th>\n",
       "      <th>...</th>\n",
       "      <th>expression</th>\n",
       "      <th>knock_out</th>\n",
       "      <th>function</th>\n",
       "      <th>sequence</th>\n",
       "      <th>localization</th>\n",
       "      <th>deposition</th>\n",
       "      <th>structure</th>\n",
       "      <th>interactions</th>\n",
       "      <th>disease</th>\n",
       "      <th>caveats</th>\n",
       "    </tr>\n",
       "  </thead>\n",
       "  <tbody>\n",
       "    <tr>\n",
       "      <th>0</th>\n",
       "      <td>gH2A_(Lilium)</td>\n",
       "      <td>variant_group</td>\n",
       "      <td>Lilium</td>\n",
       "      <td>4688</td>\n",
       "      <td>23</td>\n",
       "      <td>H2A</td>\n",
       "      <td>23</td>\n",
       "      <td>gH2A_(Lilium) is a male-gamete-specific varian...</td>\n",
       "      <td>Suggested to be a distinctive variant that evl...</td>\n",
       "      <td>gH2A gene in Lilium longiflorum. The gene is i...</td>\n",
       "      <td>...</td>\n",
       "      <td>null</td>\n",
       "      <td>null</td>\n",
       "      <td>This histone variant is expected to be specifi...</td>\n",
       "      <td>null</td>\n",
       "      <td>null</td>\n",
       "      <td>null</td>\n",
       "      <td>null</td>\n",
       "      <td>null</td>\n",
       "      <td>null</td>\n",
       "      <td>null</td>\n",
       "    </tr>\n",
       "  </tbody>\n",
       "</table>\n",
       "<p>1 rows × 21 columns</p>\n",
       "</div>"
      ],
      "text/plain": [
       "              id          level taxonomic_span taxonomic_span_id  description  \\\n",
       "0  gH2A_(Lilium)  variant_group         Lilium              4688           23   \n",
       "\n",
       "  parent  id                                            summary  \\\n",
       "0    H2A  23  gH2A_(Lilium) is a male-gamete-specific varian...   \n",
       "\n",
       "                                            taxonomy  \\\n",
       "0  Suggested to be a distinctive variant that evl...   \n",
       "\n",
       "                                               genes  ... expression  \\\n",
       "0  gH2A gene in Lilium longiflorum. The gene is i...  ...       null   \n",
       "\n",
       "  knock_out                                           function sequence  \\\n",
       "0      null  This histone variant is expected to be specifi...     null   \n",
       "\n",
       "  localization deposition structure interactions disease caveats  \n",
       "0         null       null      null         null    null    null  \n",
       "\n",
       "[1 rows x 21 columns]"
      ]
     },
     "execution_count": 34,
     "metadata": {},
     "output_type": "execute_result"
    }
   ],
   "source": [
    "query = (\n",
    "    \"SELECT * FROM histone h LEFT JOIN histone_description hd \"\n",
    "    \"ON h.description = hd.id \"\n",
    "    \"WHERE h.id='gH2A_(Lilium)'\"\n",
    ")\n",
    "cursor.execute(query)\n",
    "pd.DataFrame(cursor.fetchall(), columns=[i[0] for i in cursor.description])"
   ]
  },
  {
   "cell_type": "code",
   "execution_count": 35,
   "id": "db6a6e7f-40d2-444b-977a-e9d7281e51ee",
   "metadata": {
    "tags": []
   },
   "outputs": [],
   "source": [
    "query = \"SELECT id FROM publication\"\n",
    "cursor.execute(query)\n",
    "exist_pubs = [i[0] for i in cursor.fetchall()]\n",
    "for pid in publications:\n",
    "    if pid not in exist_pubs:\n",
    "        print(f\"Strange {pid}\")\n",
    "    cursor.execute(add_histone_has_publication, (\"gH2A_(Lilium)\", pid))"
   ]
  },
  {
   "cell_type": "code",
   "execution_count": 36,
   "id": "26f8d262-c5f5-445c-befb-b3e58e0d128d",
   "metadata": {
    "tags": []
   },
   "outputs": [
    {
     "data": {
      "text/html": [
       "<div>\n",
       "<style scoped>\n",
       "    .dataframe tbody tr th:only-of-type {\n",
       "        vertical-align: middle;\n",
       "    }\n",
       "\n",
       "    .dataframe tbody tr th {\n",
       "        vertical-align: top;\n",
       "    }\n",
       "\n",
       "    .dataframe thead th {\n",
       "        text-align: right;\n",
       "    }\n",
       "</style>\n",
       "<table border=\"1\" class=\"dataframe\">\n",
       "  <thead>\n",
       "    <tr style=\"text-align: right;\">\n",
       "      <th></th>\n",
       "      <th>id</th>\n",
       "      <th>level</th>\n",
       "      <th>taxonomic_span</th>\n",
       "      <th>taxonomic_span_id</th>\n",
       "      <th>description</th>\n",
       "      <th>parent</th>\n",
       "      <th>histone_id</th>\n",
       "      <th>publication_id</th>\n",
       "    </tr>\n",
       "  </thead>\n",
       "  <tbody>\n",
       "    <tr>\n",
       "      <th>0</th>\n",
       "      <td>gH2A_(Lilium)</td>\n",
       "      <td>variant_group</td>\n",
       "      <td>Lilium</td>\n",
       "      <td>4688</td>\n",
       "      <td>23</td>\n",
       "      <td>H2A</td>\n",
       "      <td>gH2A_(Lilium)</td>\n",
       "      <td>alvarez-venegas_canonical_2019</td>\n",
       "    </tr>\n",
       "    <tr>\n",
       "      <th>1</th>\n",
       "      <td>gH2A_(Lilium)</td>\n",
       "      <td>variant_group</td>\n",
       "      <td>Lilium</td>\n",
       "      <td>4688</td>\n",
       "      <td>23</td>\n",
       "      <td>H2A</td>\n",
       "      <td>gH2A_(Lilium)</td>\n",
       "      <td>ueda_male_2005</td>\n",
       "    </tr>\n",
       "  </tbody>\n",
       "</table>\n",
       "</div>"
      ],
      "text/plain": [
       "              id          level taxonomic_span taxonomic_span_id  description  \\\n",
       "0  gH2A_(Lilium)  variant_group         Lilium              4688           23   \n",
       "1  gH2A_(Lilium)  variant_group         Lilium              4688           23   \n",
       "\n",
       "  parent     histone_id                  publication_id  \n",
       "0    H2A  gH2A_(Lilium)  alvarez-venegas_canonical_2019  \n",
       "1    H2A  gH2A_(Lilium)                  ueda_male_2005  "
      ]
     },
     "execution_count": 36,
     "metadata": {},
     "output_type": "execute_result"
    }
   ],
   "source": [
    "query = (\n",
    "    \"SELECT * FROM histone h LEFT JOIN histone_has_publication hp \"\n",
    "    \"ON h.id = hp.histone_id \"\n",
    "    \"WHERE h.id='gH2A_(Lilium)'\"\n",
    ")\n",
    "cursor.execute(query)\n",
    "pd.DataFrame(cursor.fetchall(), columns=[i[0] for i in cursor.description])"
   ]
  },
  {
   "cell_type": "code",
   "execution_count": 37,
   "id": "730f42c9-6611-4baf-b5dc-0b7454b5aef2",
   "metadata": {
    "tags": []
   },
   "outputs": [],
   "source": [
    "# Make sure data is committed to the database\n",
    "conn.commit()"
   ]
  },
  {
   "cell_type": "markdown",
   "id": "95deaebf-7549-4629-b9bb-a371d02c69cb",
   "metadata": {
    "tags": []
   },
   "source": [
    "## Change name from gH2B to gH2B_(Lilium)"
   ]
  },
  {
   "cell_type": "code",
   "execution_count": 38,
   "id": "d65f5079-5827-48bb-809e-66756704a8af",
   "metadata": {
    "tags": []
   },
   "outputs": [],
   "source": [
    "prev_name, new_name = \"gH2B\", \"gH2B_(Lilium)\""
   ]
  },
  {
   "cell_type": "code",
   "execution_count": 39,
   "id": "82a1397c-3cbf-4d2b-ba7c-d67c395c2047",
   "metadata": {
    "tags": []
   },
   "outputs": [
    {
     "data": {
      "text/html": [
       "<div>\n",
       "<style scoped>\n",
       "    .dataframe tbody tr th:only-of-type {\n",
       "        vertical-align: middle;\n",
       "    }\n",
       "\n",
       "    .dataframe tbody tr th {\n",
       "        vertical-align: top;\n",
       "    }\n",
       "\n",
       "    .dataframe thead th {\n",
       "        text-align: right;\n",
       "    }\n",
       "</style>\n",
       "<table border=\"1\" class=\"dataframe\">\n",
       "  <thead>\n",
       "    <tr style=\"text-align: right;\">\n",
       "      <th></th>\n",
       "      <th>id</th>\n",
       "      <th>level</th>\n",
       "      <th>taxonomic_span</th>\n",
       "      <th>taxonomic_span_id</th>\n",
       "      <th>description</th>\n",
       "      <th>parent</th>\n",
       "      <th>histone_id</th>\n",
       "      <th>publication_id</th>\n",
       "    </tr>\n",
       "  </thead>\n",
       "  <tbody>\n",
       "    <tr>\n",
       "      <th>0</th>\n",
       "      <td>gH2B</td>\n",
       "      <td>variant_group</td>\n",
       "      <td>Lilium</td>\n",
       "      <td>4688</td>\n",
       "      <td>35</td>\n",
       "      <td>H2B</td>\n",
       "      <td>gH2B</td>\n",
       "      <td>alvarez-venegas_canonical_2019</td>\n",
       "    </tr>\n",
       "    <tr>\n",
       "      <th>1</th>\n",
       "      <td>gH2B</td>\n",
       "      <td>variant_group</td>\n",
       "      <td>Lilium</td>\n",
       "      <td>4688</td>\n",
       "      <td>35</td>\n",
       "      <td>H2B</td>\n",
       "      <td>gH2B</td>\n",
       "      <td>jiang_evolution_2020</td>\n",
       "    </tr>\n",
       "    <tr>\n",
       "      <th>2</th>\n",
       "      <td>gH2B</td>\n",
       "      <td>variant_group</td>\n",
       "      <td>Lilium</td>\n",
       "      <td>4688</td>\n",
       "      <td>35</td>\n",
       "      <td>H2B</td>\n",
       "      <td>gH2B</td>\n",
       "      <td>ueda_unusual_2000</td>\n",
       "    </tr>\n",
       "    <tr>\n",
       "      <th>3</th>\n",
       "      <td>gH2B</td>\n",
       "      <td>variant_group</td>\n",
       "      <td>Lilium</td>\n",
       "      <td>4688</td>\n",
       "      <td>35</td>\n",
       "      <td>H2B</td>\n",
       "      <td>gH2B</td>\n",
       "      <td>yang_proteomic_2016</td>\n",
       "    </tr>\n",
       "  </tbody>\n",
       "</table>\n",
       "</div>"
      ],
      "text/plain": [
       "     id          level taxonomic_span taxonomic_span_id  description parent  \\\n",
       "0  gH2B  variant_group         Lilium              4688           35    H2B   \n",
       "1  gH2B  variant_group         Lilium              4688           35    H2B   \n",
       "2  gH2B  variant_group         Lilium              4688           35    H2B   \n",
       "3  gH2B  variant_group         Lilium              4688           35    H2B   \n",
       "\n",
       "  histone_id                  publication_id  \n",
       "0       gH2B  alvarez-venegas_canonical_2019  \n",
       "1       gH2B            jiang_evolution_2020  \n",
       "2       gH2B               ueda_unusual_2000  \n",
       "3       gH2B             yang_proteomic_2016  "
      ]
     },
     "execution_count": 39,
     "metadata": {},
     "output_type": "execute_result"
    }
   ],
   "source": [
    "query = (\n",
    "    \"SELECT * FROM histone h LEFT JOIN histone_has_publication hp \"\n",
    "    \"ON h.id = hp.histone_id \"\n",
    "    f\"WHERE h.id='{prev_name}'\"\n",
    ")\n",
    "cursor.execute(query)\n",
    "pd.DataFrame(cursor.fetchall(), columns=[i[0] for i in cursor.description])"
   ]
  },
  {
   "cell_type": "code",
   "execution_count": 40,
   "id": "73cb8c37-9f5c-4154-9f80-0f1034e73719",
   "metadata": {
    "tags": []
   },
   "outputs": [
    {
     "data": {
      "text/html": [
       "<div>\n",
       "<style scoped>\n",
       "    .dataframe tbody tr th:only-of-type {\n",
       "        vertical-align: middle;\n",
       "    }\n",
       "\n",
       "    .dataframe tbody tr th {\n",
       "        vertical-align: top;\n",
       "    }\n",
       "\n",
       "    .dataframe thead th {\n",
       "        text-align: right;\n",
       "    }\n",
       "</style>\n",
       "<table border=\"1\" class=\"dataframe\">\n",
       "  <thead>\n",
       "    <tr style=\"text-align: right;\">\n",
       "      <th></th>\n",
       "      <th>id</th>\n",
       "      <th>level</th>\n",
       "      <th>taxonomic_span</th>\n",
       "      <th>taxonomic_span_id</th>\n",
       "      <th>description</th>\n",
       "      <th>parent</th>\n",
       "      <th>id</th>\n",
       "      <th>summary</th>\n",
       "      <th>taxonomy</th>\n",
       "      <th>genes</th>\n",
       "      <th>...</th>\n",
       "      <th>expression</th>\n",
       "      <th>knock_out</th>\n",
       "      <th>function</th>\n",
       "      <th>sequence</th>\n",
       "      <th>localization</th>\n",
       "      <th>deposition</th>\n",
       "      <th>structure</th>\n",
       "      <th>interactions</th>\n",
       "      <th>disease</th>\n",
       "      <th>caveats</th>\n",
       "    </tr>\n",
       "  </thead>\n",
       "  <tbody>\n",
       "    <tr>\n",
       "      <th>0</th>\n",
       "      <td>gH2B</td>\n",
       "      <td>variant_group</td>\n",
       "      <td>Lilium</td>\n",
       "      <td>4688</td>\n",
       "      <td>35</td>\n",
       "      <td>H2B</td>\n",
       "      <td>35</td>\n",
       "      <td>gH2B is a group of plant H2B variants found in...</td>\n",
       "      <td>null</td>\n",
       "      <td>null</td>\n",
       "      <td>...</td>\n",
       "      <td>null</td>\n",
       "      <td>null</td>\n",
       "      <td>null</td>\n",
       "      <td>null</td>\n",
       "      <td>null</td>\n",
       "      <td>null</td>\n",
       "      <td>null</td>\n",
       "      <td>null</td>\n",
       "      <td>null</td>\n",
       "      <td>null</td>\n",
       "    </tr>\n",
       "  </tbody>\n",
       "</table>\n",
       "<p>1 rows × 21 columns</p>\n",
       "</div>"
      ],
      "text/plain": [
       "     id          level taxonomic_span taxonomic_span_id  description parent  \\\n",
       "0  gH2B  variant_group         Lilium              4688           35    H2B   \n",
       "\n",
       "   id                                            summary taxonomy genes  ...  \\\n",
       "0  35  gH2B is a group of plant H2B variants found in...     null  null  ...   \n",
       "\n",
       "  expression knock_out function sequence localization deposition structure  \\\n",
       "0       null      null     null     null         null       null      null   \n",
       "\n",
       "  interactions disease caveats  \n",
       "0         null    null    null  \n",
       "\n",
       "[1 rows x 21 columns]"
      ]
     },
     "execution_count": 40,
     "metadata": {},
     "output_type": "execute_result"
    }
   ],
   "source": [
    "query = (\n",
    "    \"SELECT * FROM histone h LEFT JOIN histone_description hd \"\n",
    "    \"ON h.description = hd.id \"\n",
    "    f\"WHERE h.id='{prev_name}'\"\n",
    ")\n",
    "cursor.execute(query)\n",
    "pd.DataFrame(cursor.fetchall(), columns=[i[0] for i in cursor.description])"
   ]
  },
  {
   "cell_type": "markdown",
   "id": "481630b4-fbc0-45f5-a0b9-92683c3233a9",
   "metadata": {
    "tags": []
   },
   "source": [
    "### Save publications and description id"
   ]
  },
  {
   "cell_type": "code",
   "execution_count": 41,
   "id": "6ce1389c-e60b-4174-bc0c-54739f80937c",
   "metadata": {
    "tags": []
   },
   "outputs": [
    {
     "data": {
      "text/plain": [
       "array(['alvarez-venegas_canonical_2019', 'jiang_evolution_2020',\n",
       "       'ueda_unusual_2000', 'yang_proteomic_2016'], dtype=object)"
      ]
     },
     "execution_count": 41,
     "metadata": {},
     "output_type": "execute_result"
    }
   ],
   "source": [
    "query = (\n",
    "    \"SELECT * FROM histone h LEFT JOIN histone_has_publication hp \"\n",
    "    \"ON h.id = hp.histone_id \"\n",
    "    f\"WHERE h.id='{prev_name}'\"\n",
    ")\n",
    "cursor.execute(query)\n",
    "publications = pd.DataFrame(\n",
    "    cursor.fetchall(), columns=[i[0] for i in cursor.description]\n",
    ")[\"publication_id\"].values\n",
    "publications"
   ]
  },
  {
   "cell_type": "code",
   "execution_count": 42,
   "id": "8fdca02f-cc32-426f-be2d-1041d538434a",
   "metadata": {
    "tags": []
   },
   "outputs": [
    {
     "data": {
      "text/plain": [
       "35"
      ]
     },
     "execution_count": 42,
     "metadata": {},
     "output_type": "execute_result"
    }
   ],
   "source": [
    "query = (\n",
    "    \"SELECT * FROM histone h LEFT JOIN histone_description hd \"\n",
    "    \"ON h.description = hd.id \"\n",
    "    f\"WHERE h.id='{prev_name}'\"\n",
    ")\n",
    "cursor.execute(query)\n",
    "desc_id = pd.DataFrame(cursor.fetchall(), columns=[i[0] for i in cursor.description])[\n",
    "    \"description\"\n",
    "].values[0]\n",
    "desc_id"
   ]
  },
  {
   "cell_type": "markdown",
   "id": "7e4033cf-456a-49cf-8d6d-113da9fb61ed",
   "metadata": {
    "tags": []
   },
   "source": [
    "### Delete relations"
   ]
  },
  {
   "cell_type": "code",
   "execution_count": 43,
   "id": "076f6093-7114-4b9b-930d-b0fd46754aea",
   "metadata": {
    "tags": []
   },
   "outputs": [
    {
     "name": "stdout",
     "output_type": "stream",
     "text": [
      "DELETE FROM histone_has_publication WHERE histone_id = 'gH2B'\n"
     ]
    }
   ],
   "source": [
    "query = f\"DELETE FROM histone_has_publication WHERE histone_id = '{prev_name}'\" \n",
    "print(query) \n",
    "cursor.execute(query)"
   ]
  },
  {
   "cell_type": "code",
   "execution_count": 44,
   "id": "6fbb9b8a-fc7d-4fcd-be34-b8a90a5088dc",
   "metadata": {
    "tags": []
   },
   "outputs": [
    {
     "name": "stdout",
     "output_type": "stream",
     "text": [
      "UPDATE histone SET description=null WHERE id = 'gH2B'\n"
     ]
    }
   ],
   "source": [
    "query = f\"UPDATE histone SET description=null WHERE id = '{prev_name}'\" \n",
    "print(query) \n",
    "cursor.execute(query) "
   ]
  },
  {
   "cell_type": "code",
   "execution_count": 45,
   "id": "a69d7c67-4aaf-4c6a-b310-9738ec2a617c",
   "metadata": {
    "tags": []
   },
   "outputs": [
    {
     "data": {
      "text/html": [
       "<div>\n",
       "<style scoped>\n",
       "    .dataframe tbody tr th:only-of-type {\n",
       "        vertical-align: middle;\n",
       "    }\n",
       "\n",
       "    .dataframe tbody tr th {\n",
       "        vertical-align: top;\n",
       "    }\n",
       "\n",
       "    .dataframe thead th {\n",
       "        text-align: right;\n",
       "    }\n",
       "</style>\n",
       "<table border=\"1\" class=\"dataframe\">\n",
       "  <thead>\n",
       "    <tr style=\"text-align: right;\">\n",
       "      <th></th>\n",
       "      <th>id</th>\n",
       "      <th>level</th>\n",
       "      <th>taxonomic_span</th>\n",
       "      <th>taxonomic_span_id</th>\n",
       "      <th>description</th>\n",
       "      <th>parent</th>\n",
       "      <th>histone_id</th>\n",
       "      <th>publication_id</th>\n",
       "    </tr>\n",
       "  </thead>\n",
       "  <tbody>\n",
       "    <tr>\n",
       "      <th>0</th>\n",
       "      <td>gH2B</td>\n",
       "      <td>variant_group</td>\n",
       "      <td>Lilium</td>\n",
       "      <td>4688</td>\n",
       "      <td>None</td>\n",
       "      <td>H2B</td>\n",
       "      <td>None</td>\n",
       "      <td>None</td>\n",
       "    </tr>\n",
       "  </tbody>\n",
       "</table>\n",
       "</div>"
      ],
      "text/plain": [
       "     id          level taxonomic_span taxonomic_span_id description parent  \\\n",
       "0  gH2B  variant_group         Lilium              4688        None    H2B   \n",
       "\n",
       "  histone_id publication_id  \n",
       "0       None           None  "
      ]
     },
     "execution_count": 45,
     "metadata": {},
     "output_type": "execute_result"
    }
   ],
   "source": [
    "query = (\n",
    "    \"SELECT * FROM histone h LEFT JOIN histone_has_publication hp \"\n",
    "    \"ON h.id = hp.histone_id \"\n",
    "    f\"WHERE h.id='{prev_name}'\"\n",
    ")\n",
    "cursor.execute(query)\n",
    "pd.DataFrame(cursor.fetchall(), columns=[i[0] for i in cursor.description])"
   ]
  },
  {
   "cell_type": "markdown",
   "id": "beaf2bab-388d-452d-8be6-2197295e30c5",
   "metadata": {
    "tags": []
   },
   "source": [
    "### Update name"
   ]
  },
  {
   "cell_type": "code",
   "execution_count": 46,
   "id": "45c182af-9ea9-4747-9176-b7b6a57aa2b0",
   "metadata": {
    "tags": []
   },
   "outputs": [
    {
     "name": "stdout",
     "output_type": "stream",
     "text": [
      "UPDATE histone SET id='gH2B_(Lilium)' WHERE id = 'gH2B'\n"
     ]
    }
   ],
   "source": [
    "query = f\"UPDATE histone SET id='{new_name}' WHERE id = '{prev_name}'\" \n",
    "print(query) \n",
    "cursor.execute(query) "
   ]
  },
  {
   "cell_type": "code",
   "execution_count": 47,
   "id": "3ba3b53e-1e0a-475b-b855-73243f0e2b26",
   "metadata": {
    "tags": []
   },
   "outputs": [
    {
     "data": {
      "text/html": [
       "<div>\n",
       "<style scoped>\n",
       "    .dataframe tbody tr th:only-of-type {\n",
       "        vertical-align: middle;\n",
       "    }\n",
       "\n",
       "    .dataframe tbody tr th {\n",
       "        vertical-align: top;\n",
       "    }\n",
       "\n",
       "    .dataframe thead th {\n",
       "        text-align: right;\n",
       "    }\n",
       "</style>\n",
       "<table border=\"1\" class=\"dataframe\">\n",
       "  <thead>\n",
       "    <tr style=\"text-align: right;\">\n",
       "      <th></th>\n",
       "      <th>id</th>\n",
       "      <th>level</th>\n",
       "      <th>taxonomic_span</th>\n",
       "      <th>taxonomic_span_id</th>\n",
       "      <th>description</th>\n",
       "      <th>parent</th>\n",
       "      <th>histone_id</th>\n",
       "      <th>publication_id</th>\n",
       "    </tr>\n",
       "  </thead>\n",
       "  <tbody>\n",
       "    <tr>\n",
       "      <th>0</th>\n",
       "      <td>gH2B_(Lilium)</td>\n",
       "      <td>variant_group</td>\n",
       "      <td>Lilium</td>\n",
       "      <td>4688</td>\n",
       "      <td>None</td>\n",
       "      <td>H2B</td>\n",
       "      <td>None</td>\n",
       "      <td>None</td>\n",
       "    </tr>\n",
       "  </tbody>\n",
       "</table>\n",
       "</div>"
      ],
      "text/plain": [
       "              id          level taxonomic_span taxonomic_span_id description  \\\n",
       "0  gH2B_(Lilium)  variant_group         Lilium              4688        None   \n",
       "\n",
       "  parent histone_id publication_id  \n",
       "0    H2B       None           None  "
      ]
     },
     "execution_count": 47,
     "metadata": {},
     "output_type": "execute_result"
    }
   ],
   "source": [
    "query = (\n",
    "    \"SELECT * FROM histone h LEFT JOIN histone_has_publication hp \"\n",
    "    \"ON h.id = hp.histone_id \"\n",
    "    f\"WHERE h.id='{new_name}'\"\n",
    ")\n",
    "cursor.execute(query)\n",
    "pd.DataFrame(cursor.fetchall(), columns=[i[0] for i in cursor.description])"
   ]
  },
  {
   "cell_type": "markdown",
   "id": "b86f6405-f50a-4741-9531-1d3d90e61fb9",
   "metadata": {},
   "source": [
    "### Return relations"
   ]
  },
  {
   "cell_type": "code",
   "execution_count": 48,
   "id": "7ebd6320-32f4-4a9b-8964-04ee505e496d",
   "metadata": {
    "tags": []
   },
   "outputs": [
    {
     "name": "stdout",
     "output_type": "stream",
     "text": [
      "UPDATE histone SET description=35 WHERE id = 'gH2B_(Lilium)'\n"
     ]
    }
   ],
   "source": [
    "query = f\"UPDATE histone SET description={desc_id} WHERE id = '{new_name}'\" \n",
    "print(query) \n",
    "cursor.execute(query) "
   ]
  },
  {
   "cell_type": "code",
   "execution_count": 49,
   "id": "920c5f21-b344-4699-ae59-a3aacac916d2",
   "metadata": {
    "tags": []
   },
   "outputs": [
    {
     "data": {
      "text/html": [
       "<div>\n",
       "<style scoped>\n",
       "    .dataframe tbody tr th:only-of-type {\n",
       "        vertical-align: middle;\n",
       "    }\n",
       "\n",
       "    .dataframe tbody tr th {\n",
       "        vertical-align: top;\n",
       "    }\n",
       "\n",
       "    .dataframe thead th {\n",
       "        text-align: right;\n",
       "    }\n",
       "</style>\n",
       "<table border=\"1\" class=\"dataframe\">\n",
       "  <thead>\n",
       "    <tr style=\"text-align: right;\">\n",
       "      <th></th>\n",
       "      <th>id</th>\n",
       "      <th>level</th>\n",
       "      <th>taxonomic_span</th>\n",
       "      <th>taxonomic_span_id</th>\n",
       "      <th>description</th>\n",
       "      <th>parent</th>\n",
       "      <th>id</th>\n",
       "      <th>summary</th>\n",
       "      <th>taxonomy</th>\n",
       "      <th>genes</th>\n",
       "      <th>...</th>\n",
       "      <th>expression</th>\n",
       "      <th>knock_out</th>\n",
       "      <th>function</th>\n",
       "      <th>sequence</th>\n",
       "      <th>localization</th>\n",
       "      <th>deposition</th>\n",
       "      <th>structure</th>\n",
       "      <th>interactions</th>\n",
       "      <th>disease</th>\n",
       "      <th>caveats</th>\n",
       "    </tr>\n",
       "  </thead>\n",
       "  <tbody>\n",
       "    <tr>\n",
       "      <th>0</th>\n",
       "      <td>gH2B_(Lilium)</td>\n",
       "      <td>variant_group</td>\n",
       "      <td>Lilium</td>\n",
       "      <td>4688</td>\n",
       "      <td>35</td>\n",
       "      <td>H2B</td>\n",
       "      <td>35</td>\n",
       "      <td>gH2B is a group of plant H2B variants found in...</td>\n",
       "      <td>null</td>\n",
       "      <td>null</td>\n",
       "      <td>...</td>\n",
       "      <td>null</td>\n",
       "      <td>null</td>\n",
       "      <td>null</td>\n",
       "      <td>null</td>\n",
       "      <td>null</td>\n",
       "      <td>null</td>\n",
       "      <td>null</td>\n",
       "      <td>null</td>\n",
       "      <td>null</td>\n",
       "      <td>null</td>\n",
       "    </tr>\n",
       "  </tbody>\n",
       "</table>\n",
       "<p>1 rows × 21 columns</p>\n",
       "</div>"
      ],
      "text/plain": [
       "              id          level taxonomic_span taxonomic_span_id  description  \\\n",
       "0  gH2B_(Lilium)  variant_group         Lilium              4688           35   \n",
       "\n",
       "  parent  id                                            summary taxonomy  \\\n",
       "0    H2B  35  gH2B is a group of plant H2B variants found in...     null   \n",
       "\n",
       "  genes  ... expression knock_out function sequence localization deposition  \\\n",
       "0  null  ...       null      null     null     null         null       null   \n",
       "\n",
       "  structure interactions disease caveats  \n",
       "0      null         null    null    null  \n",
       "\n",
       "[1 rows x 21 columns]"
      ]
     },
     "execution_count": 49,
     "metadata": {},
     "output_type": "execute_result"
    }
   ],
   "source": [
    "query = (\n",
    "    \"SELECT * FROM histone h LEFT JOIN histone_description hd \"\n",
    "    \"ON h.description = hd.id \"\n",
    "    f\"WHERE h.id='{new_name}'\"\n",
    ")\n",
    "cursor.execute(query)\n",
    "pd.DataFrame(cursor.fetchall(), columns=[i[0] for i in cursor.description])"
   ]
  },
  {
   "cell_type": "code",
   "execution_count": 50,
   "id": "4732251d-6144-4c41-82b4-c1ae0dc9f1e8",
   "metadata": {
    "tags": []
   },
   "outputs": [
    {
     "data": {
      "text/plain": [
       "'gH2B_(Lilium) is a group of plant H2B variants found in Lilium that are highly divergent from the canonical H2B and are expressed in the generative cell of the bicellular pollen where it may be necessary for chromatin remodeling of the male germline [alvarez-venegas_canonical_2019,yang_proteomic_2016,ueda_unusual_2000]. The subvariants so far identified are named gH2B in Lilium longiflorum, mgH2B in Lilium davidii, and mgH2B.in in Lilium davidii. These subvariants are rather different and are grouped due to lack of further information. Some phylogenetic reconstructions cluster these variant together with H2B.S [alvarez-venegas_canonical_2019], however, this may be likely to long branch attraction, and the exact phylogeny remains to be studied [jiang_evolution_2020].'"
      ]
     },
     "execution_count": 50,
     "metadata": {},
     "output_type": "execute_result"
    }
   ],
   "source": [
    "query = (\n",
    "    \"SELECT * FROM histone h LEFT JOIN histone_description hd \"\n",
    "    \"ON h.description = hd.id \"\n",
    "    f\"WHERE h.id='{new_name}'\"\n",
    ")\n",
    "cursor.execute(query)\n",
    "summary = (\n",
    "    pd.DataFrame(cursor.fetchall(), columns=[i[0] for i in cursor.description])[\n",
    "        \"summary\"\n",
    "    ]\n",
    "    .values[0]\n",
    "    .replace(prev_name, new_name, 1)\n",
    ")\n",
    "summary"
   ]
  },
  {
   "cell_type": "code",
   "execution_count": 51,
   "id": "1afc7ad8-0ae9-4bee-9778-59ec919502b4",
   "metadata": {
    "tags": []
   },
   "outputs": [
    {
     "name": "stdout",
     "output_type": "stream",
     "text": [
      "UPDATE histone_description SET summary='gH2B_(Lilium) is a group of plant H2B variants found in Lilium that are highly divergent from the canonical H2B and are expressed in the generative cell of the bicellular pollen where it may be necessary for chromatin remodeling of the male germline [alvarez-venegas_canonical_2019,yang_proteomic_2016,ueda_unusual_2000]. The subvariants so far identified are named gH2B in Lilium longiflorum, mgH2B in Lilium davidii, and mgH2B.in in Lilium davidii. These subvariants are rather different and are grouped due to lack of further information. Some phylogenetic reconstructions cluster these variant together with H2B.S [alvarez-venegas_canonical_2019], however, this may be likely to long branch attraction, and the exact phylogeny remains to be studied [jiang_evolution_2020].' WHERE id = '35'\n"
     ]
    }
   ],
   "source": [
    "query = f\"UPDATE histone_description SET summary='{summary}' WHERE id = '{desc_id}'\" \n",
    "print(query) \n",
    "cursor.execute(query) "
   ]
  },
  {
   "cell_type": "code",
   "execution_count": 52,
   "id": "df90e1e6-8325-4c1b-b939-75773c21d71a",
   "metadata": {
    "tags": []
   },
   "outputs": [
    {
     "data": {
      "text/html": [
       "<div>\n",
       "<style scoped>\n",
       "    .dataframe tbody tr th:only-of-type {\n",
       "        vertical-align: middle;\n",
       "    }\n",
       "\n",
       "    .dataframe tbody tr th {\n",
       "        vertical-align: top;\n",
       "    }\n",
       "\n",
       "    .dataframe thead th {\n",
       "        text-align: right;\n",
       "    }\n",
       "</style>\n",
       "<table border=\"1\" class=\"dataframe\">\n",
       "  <thead>\n",
       "    <tr style=\"text-align: right;\">\n",
       "      <th></th>\n",
       "      <th>id</th>\n",
       "      <th>level</th>\n",
       "      <th>taxonomic_span</th>\n",
       "      <th>taxonomic_span_id</th>\n",
       "      <th>description</th>\n",
       "      <th>parent</th>\n",
       "      <th>id</th>\n",
       "      <th>summary</th>\n",
       "      <th>taxonomy</th>\n",
       "      <th>genes</th>\n",
       "      <th>...</th>\n",
       "      <th>expression</th>\n",
       "      <th>knock_out</th>\n",
       "      <th>function</th>\n",
       "      <th>sequence</th>\n",
       "      <th>localization</th>\n",
       "      <th>deposition</th>\n",
       "      <th>structure</th>\n",
       "      <th>interactions</th>\n",
       "      <th>disease</th>\n",
       "      <th>caveats</th>\n",
       "    </tr>\n",
       "  </thead>\n",
       "  <tbody>\n",
       "    <tr>\n",
       "      <th>0</th>\n",
       "      <td>gH2B_(Lilium)</td>\n",
       "      <td>variant_group</td>\n",
       "      <td>Lilium</td>\n",
       "      <td>4688</td>\n",
       "      <td>35</td>\n",
       "      <td>H2B</td>\n",
       "      <td>35</td>\n",
       "      <td>gH2B_(Lilium) is a group of plant H2B variants...</td>\n",
       "      <td>null</td>\n",
       "      <td>null</td>\n",
       "      <td>...</td>\n",
       "      <td>null</td>\n",
       "      <td>null</td>\n",
       "      <td>null</td>\n",
       "      <td>null</td>\n",
       "      <td>null</td>\n",
       "      <td>null</td>\n",
       "      <td>null</td>\n",
       "      <td>null</td>\n",
       "      <td>null</td>\n",
       "      <td>null</td>\n",
       "    </tr>\n",
       "  </tbody>\n",
       "</table>\n",
       "<p>1 rows × 21 columns</p>\n",
       "</div>"
      ],
      "text/plain": [
       "              id          level taxonomic_span taxonomic_span_id  description  \\\n",
       "0  gH2B_(Lilium)  variant_group         Lilium              4688           35   \n",
       "\n",
       "  parent  id                                            summary taxonomy  \\\n",
       "0    H2B  35  gH2B_(Lilium) is a group of plant H2B variants...     null   \n",
       "\n",
       "  genes  ... expression knock_out function sequence localization deposition  \\\n",
       "0  null  ...       null      null     null     null         null       null   \n",
       "\n",
       "  structure interactions disease caveats  \n",
       "0      null         null    null    null  \n",
       "\n",
       "[1 rows x 21 columns]"
      ]
     },
     "execution_count": 52,
     "metadata": {},
     "output_type": "execute_result"
    }
   ],
   "source": [
    "query = (\n",
    "    \"SELECT * FROM histone h LEFT JOIN histone_description hd \"\n",
    "    \"ON h.description = hd.id \"\n",
    "    f\"WHERE h.id='{new_name}'\"\n",
    ")\n",
    "cursor.execute(query)\n",
    "pd.DataFrame(cursor.fetchall(), columns=[i[0] for i in cursor.description])"
   ]
  },
  {
   "cell_type": "code",
   "execution_count": 53,
   "id": "7adb1b6d-8056-4cb0-b39b-274d084cb572",
   "metadata": {
    "tags": []
   },
   "outputs": [],
   "source": [
    "query = \"SELECT id FROM publication\"\n",
    "cursor.execute(query)\n",
    "exist_pubs = [i[0] for i in cursor.fetchall()]\n",
    "for pid in publications:\n",
    "    if pid not in exist_pubs:\n",
    "        print(f\"Strange {pid}\")\n",
    "    cursor.execute(add_histone_has_publication, (new_name, pid))"
   ]
  },
  {
   "cell_type": "code",
   "execution_count": 54,
   "id": "d11e464a-9491-42c9-8597-3ce53efa6979",
   "metadata": {
    "tags": []
   },
   "outputs": [
    {
     "data": {
      "text/html": [
       "<div>\n",
       "<style scoped>\n",
       "    .dataframe tbody tr th:only-of-type {\n",
       "        vertical-align: middle;\n",
       "    }\n",
       "\n",
       "    .dataframe tbody tr th {\n",
       "        vertical-align: top;\n",
       "    }\n",
       "\n",
       "    .dataframe thead th {\n",
       "        text-align: right;\n",
       "    }\n",
       "</style>\n",
       "<table border=\"1\" class=\"dataframe\">\n",
       "  <thead>\n",
       "    <tr style=\"text-align: right;\">\n",
       "      <th></th>\n",
       "      <th>id</th>\n",
       "      <th>level</th>\n",
       "      <th>taxonomic_span</th>\n",
       "      <th>taxonomic_span_id</th>\n",
       "      <th>description</th>\n",
       "      <th>parent</th>\n",
       "      <th>histone_id</th>\n",
       "      <th>publication_id</th>\n",
       "    </tr>\n",
       "  </thead>\n",
       "  <tbody>\n",
       "    <tr>\n",
       "      <th>0</th>\n",
       "      <td>gH2B_(Lilium)</td>\n",
       "      <td>variant_group</td>\n",
       "      <td>Lilium</td>\n",
       "      <td>4688</td>\n",
       "      <td>35</td>\n",
       "      <td>H2B</td>\n",
       "      <td>gH2B_(Lilium)</td>\n",
       "      <td>alvarez-venegas_canonical_2019</td>\n",
       "    </tr>\n",
       "    <tr>\n",
       "      <th>1</th>\n",
       "      <td>gH2B_(Lilium)</td>\n",
       "      <td>variant_group</td>\n",
       "      <td>Lilium</td>\n",
       "      <td>4688</td>\n",
       "      <td>35</td>\n",
       "      <td>H2B</td>\n",
       "      <td>gH2B_(Lilium)</td>\n",
       "      <td>jiang_evolution_2020</td>\n",
       "    </tr>\n",
       "    <tr>\n",
       "      <th>2</th>\n",
       "      <td>gH2B_(Lilium)</td>\n",
       "      <td>variant_group</td>\n",
       "      <td>Lilium</td>\n",
       "      <td>4688</td>\n",
       "      <td>35</td>\n",
       "      <td>H2B</td>\n",
       "      <td>gH2B_(Lilium)</td>\n",
       "      <td>ueda_unusual_2000</td>\n",
       "    </tr>\n",
       "    <tr>\n",
       "      <th>3</th>\n",
       "      <td>gH2B_(Lilium)</td>\n",
       "      <td>variant_group</td>\n",
       "      <td>Lilium</td>\n",
       "      <td>4688</td>\n",
       "      <td>35</td>\n",
       "      <td>H2B</td>\n",
       "      <td>gH2B_(Lilium)</td>\n",
       "      <td>yang_proteomic_2016</td>\n",
       "    </tr>\n",
       "  </tbody>\n",
       "</table>\n",
       "</div>"
      ],
      "text/plain": [
       "              id          level taxonomic_span taxonomic_span_id  description  \\\n",
       "0  gH2B_(Lilium)  variant_group         Lilium              4688           35   \n",
       "1  gH2B_(Lilium)  variant_group         Lilium              4688           35   \n",
       "2  gH2B_(Lilium)  variant_group         Lilium              4688           35   \n",
       "3  gH2B_(Lilium)  variant_group         Lilium              4688           35   \n",
       "\n",
       "  parent     histone_id                  publication_id  \n",
       "0    H2B  gH2B_(Lilium)  alvarez-venegas_canonical_2019  \n",
       "1    H2B  gH2B_(Lilium)            jiang_evolution_2020  \n",
       "2    H2B  gH2B_(Lilium)               ueda_unusual_2000  \n",
       "3    H2B  gH2B_(Lilium)             yang_proteomic_2016  "
      ]
     },
     "execution_count": 54,
     "metadata": {},
     "output_type": "execute_result"
    }
   ],
   "source": [
    "query = (\n",
    "    \"SELECT * FROM histone h LEFT JOIN histone_has_publication hp \"\n",
    "    \"ON h.id = hp.histone_id \"\n",
    "    f\"WHERE h.id='{new_name}'\"\n",
    ")\n",
    "cursor.execute(query)\n",
    "pd.DataFrame(cursor.fetchall(), columns=[i[0] for i in cursor.description])"
   ]
  },
  {
   "cell_type": "code",
   "execution_count": 55,
   "id": "dc6085a0-7f39-4daf-a3a0-f3b50db13f7c",
   "metadata": {
    "tags": []
   },
   "outputs": [],
   "source": [
    "# Make sure data is committed to the database\n",
    "conn.commit()"
   ]
  },
  {
   "cell_type": "markdown",
   "id": "d2e3e42b-33b6-446e-9bda-b7cc6e57ad5e",
   "metadata": {
    "jp-MarkdownHeadingCollapsed": true,
    "tags": []
   },
   "source": [
    "## Change name from H2B.S → H2B.S_(Magnoliopsida)"
   ]
  },
  {
   "cell_type": "code",
   "execution_count": 56,
   "id": "c3990990-9351-4630-8334-43a14f052d9f",
   "metadata": {
    "tags": []
   },
   "outputs": [],
   "source": [
    "prev_name, new_name = \"H2B.S\", \"H2B.S_(Magnoliopsida)\""
   ]
  },
  {
   "cell_type": "code",
   "execution_count": 57,
   "id": "8ea2e787-9fba-4d5d-9d3d-50384e9b7537",
   "metadata": {
    "tags": []
   },
   "outputs": [
    {
     "data": {
      "text/html": [
       "<div>\n",
       "<style scoped>\n",
       "    .dataframe tbody tr th:only-of-type {\n",
       "        vertical-align: middle;\n",
       "    }\n",
       "\n",
       "    .dataframe tbody tr th {\n",
       "        vertical-align: top;\n",
       "    }\n",
       "\n",
       "    .dataframe thead th {\n",
       "        text-align: right;\n",
       "    }\n",
       "</style>\n",
       "<table border=\"1\" class=\"dataframe\">\n",
       "  <thead>\n",
       "    <tr style=\"text-align: right;\">\n",
       "      <th></th>\n",
       "      <th>id</th>\n",
       "      <th>level</th>\n",
       "      <th>taxonomic_span</th>\n",
       "      <th>taxonomic_span_id</th>\n",
       "      <th>description</th>\n",
       "      <th>parent</th>\n",
       "      <th>histone_id</th>\n",
       "      <th>publication_id</th>\n",
       "    </tr>\n",
       "  </thead>\n",
       "  <tbody>\n",
       "    <tr>\n",
       "      <th>0</th>\n",
       "      <td>H2B.S</td>\n",
       "      <td>variant_group</td>\n",
       "      <td>Magnoliopsida</td>\n",
       "      <td>3398</td>\n",
       "      <td>40</td>\n",
       "      <td>H2B</td>\n",
       "      <td>H2B.S</td>\n",
       "      <td>jiang_evolution_2020</td>\n",
       "    </tr>\n",
       "  </tbody>\n",
       "</table>\n",
       "</div>"
      ],
      "text/plain": [
       "      id          level taxonomic_span taxonomic_span_id  description parent  \\\n",
       "0  H2B.S  variant_group  Magnoliopsida              3398           40    H2B   \n",
       "\n",
       "  histone_id        publication_id  \n",
       "0      H2B.S  jiang_evolution_2020  "
      ]
     },
     "execution_count": 57,
     "metadata": {},
     "output_type": "execute_result"
    }
   ],
   "source": [
    "query = (\n",
    "    \"SELECT * FROM histone h LEFT JOIN histone_has_publication hp \"\n",
    "    \"ON h.id = hp.histone_id \"\n",
    "    f\"WHERE h.id='{prev_name}'\"\n",
    ")\n",
    "cursor.execute(query)\n",
    "pd.DataFrame(cursor.fetchall(), columns=[i[0] for i in cursor.description])"
   ]
  },
  {
   "cell_type": "code",
   "execution_count": 58,
   "id": "164c7b01-2604-460a-951c-d48605e05ecf",
   "metadata": {
    "tags": []
   },
   "outputs": [
    {
     "data": {
      "text/html": [
       "<div>\n",
       "<style scoped>\n",
       "    .dataframe tbody tr th:only-of-type {\n",
       "        vertical-align: middle;\n",
       "    }\n",
       "\n",
       "    .dataframe tbody tr th {\n",
       "        vertical-align: top;\n",
       "    }\n",
       "\n",
       "    .dataframe thead th {\n",
       "        text-align: right;\n",
       "    }\n",
       "</style>\n",
       "<table border=\"1\" class=\"dataframe\">\n",
       "  <thead>\n",
       "    <tr style=\"text-align: right;\">\n",
       "      <th></th>\n",
       "      <th>id</th>\n",
       "      <th>level</th>\n",
       "      <th>taxonomic_span</th>\n",
       "      <th>taxonomic_span_id</th>\n",
       "      <th>description</th>\n",
       "      <th>parent</th>\n",
       "      <th>id</th>\n",
       "      <th>summary</th>\n",
       "      <th>taxonomy</th>\n",
       "      <th>genes</th>\n",
       "      <th>...</th>\n",
       "      <th>expression</th>\n",
       "      <th>knock_out</th>\n",
       "      <th>function</th>\n",
       "      <th>sequence</th>\n",
       "      <th>localization</th>\n",
       "      <th>deposition</th>\n",
       "      <th>structure</th>\n",
       "      <th>interactions</th>\n",
       "      <th>disease</th>\n",
       "      <th>caveats</th>\n",
       "    </tr>\n",
       "  </thead>\n",
       "  <tbody>\n",
       "    <tr>\n",
       "      <th>0</th>\n",
       "      <td>H2B.S</td>\n",
       "      <td>variant_group</td>\n",
       "      <td>Magnoliopsida</td>\n",
       "      <td>3398</td>\n",
       "      <td>40</td>\n",
       "      <td>H2B</td>\n",
       "      <td>40</td>\n",
       "      <td>H2B.S  is a class a new class of highly diverg...</td>\n",
       "      <td>Flowering plants (angiosperms) [jiang_evolutio...</td>\n",
       "      <td>HTB8 gene in Arabidopsis, Solyc06g074750.1 in ...</td>\n",
       "      <td>...</td>\n",
       "      <td>Arabidopsis HTB8 is specifically expressed in ...</td>\n",
       "      <td>null</td>\n",
       "      <td>For Arabidopsis an adaptive function in cell t...</td>\n",
       "      <td>The angiosperm-specific clade of Arabidopsis H...</td>\n",
       "      <td>null</td>\n",
       "      <td>null</td>\n",
       "      <td>Two HTB8 residues, Arg152 and Met179, were hig...</td>\n",
       "      <td>null</td>\n",
       "      <td>null</td>\n",
       "      <td>null</td>\n",
       "    </tr>\n",
       "  </tbody>\n",
       "</table>\n",
       "<p>1 rows × 21 columns</p>\n",
       "</div>"
      ],
      "text/plain": [
       "      id          level taxonomic_span taxonomic_span_id  description parent  \\\n",
       "0  H2B.S  variant_group  Magnoliopsida              3398           40    H2B   \n",
       "\n",
       "   id                                            summary  \\\n",
       "0  40  H2B.S  is a class a new class of highly diverg...   \n",
       "\n",
       "                                            taxonomy  \\\n",
       "0  Flowering plants (angiosperms) [jiang_evolutio...   \n",
       "\n",
       "                                               genes  ...  \\\n",
       "0  HTB8 gene in Arabidopsis, Solyc06g074750.1 in ...  ...   \n",
       "\n",
       "                                          expression knock_out  \\\n",
       "0  Arabidopsis HTB8 is specifically expressed in ...      null   \n",
       "\n",
       "                                            function  \\\n",
       "0  For Arabidopsis an adaptive function in cell t...   \n",
       "\n",
       "                                            sequence localization deposition  \\\n",
       "0  The angiosperm-specific clade of Arabidopsis H...         null       null   \n",
       "\n",
       "                                           structure interactions disease  \\\n",
       "0  Two HTB8 residues, Arg152 and Met179, were hig...         null    null   \n",
       "\n",
       "  caveats  \n",
       "0    null  \n",
       "\n",
       "[1 rows x 21 columns]"
      ]
     },
     "execution_count": 58,
     "metadata": {},
     "output_type": "execute_result"
    }
   ],
   "source": [
    "query = (\n",
    "    \"SELECT * FROM histone h LEFT JOIN histone_description hd \"\n",
    "    \"ON h.description = hd.id \"\n",
    "    f\"WHERE h.id='{prev_name}'\"\n",
    ")\n",
    "cursor.execute(query)\n",
    "pd.DataFrame(cursor.fetchall(), columns=[i[0] for i in cursor.description])"
   ]
  },
  {
   "cell_type": "markdown",
   "id": "ffe32de2-81ff-48da-a85b-8a01c98dcb43",
   "metadata": {
    "tags": []
   },
   "source": [
    "### Save publications and description id"
   ]
  },
  {
   "cell_type": "code",
   "execution_count": 59,
   "id": "b7c389d4-5194-4228-9c9e-6409b1af026d",
   "metadata": {
    "tags": []
   },
   "outputs": [
    {
     "data": {
      "text/plain": [
       "array(['jiang_evolution_2020'], dtype=object)"
      ]
     },
     "execution_count": 59,
     "metadata": {},
     "output_type": "execute_result"
    }
   ],
   "source": [
    "query = (\n",
    "    \"SELECT * FROM histone h LEFT JOIN histone_has_publication hp \"\n",
    "    \"ON h.id = hp.histone_id \"\n",
    "    f\"WHERE h.id='{prev_name}'\"\n",
    ")\n",
    "cursor.execute(query)\n",
    "publications = pd.DataFrame(\n",
    "    cursor.fetchall(), columns=[i[0] for i in cursor.description]\n",
    ")[\"publication_id\"].values\n",
    "publications"
   ]
  },
  {
   "cell_type": "code",
   "execution_count": 60,
   "id": "f82863f0-0c91-4b78-b96e-4813de04a58c",
   "metadata": {
    "tags": []
   },
   "outputs": [
    {
     "data": {
      "text/plain": [
       "40"
      ]
     },
     "execution_count": 60,
     "metadata": {},
     "output_type": "execute_result"
    }
   ],
   "source": [
    "query = (\n",
    "    \"SELECT * FROM histone h LEFT JOIN histone_description hd \"\n",
    "    \"ON h.description = hd.id \"\n",
    "    f\"WHERE h.id='{prev_name}'\"\n",
    ")\n",
    "cursor.execute(query)\n",
    "desc_id = pd.DataFrame(cursor.fetchall(), columns=[i[0] for i in cursor.description])[\n",
    "    \"description\"\n",
    "].values[0]\n",
    "desc_id"
   ]
  },
  {
   "cell_type": "markdown",
   "id": "afe79d7e-1cea-4172-a559-251185909784",
   "metadata": {
    "tags": []
   },
   "source": [
    "### Delete relations"
   ]
  },
  {
   "cell_type": "code",
   "execution_count": 61,
   "id": "9ccd6a95-b88d-4734-91cd-172a88f63b17",
   "metadata": {
    "tags": []
   },
   "outputs": [
    {
     "name": "stdout",
     "output_type": "stream",
     "text": [
      "DELETE FROM histone_has_publication WHERE histone_id = 'H2B.S'\n"
     ]
    }
   ],
   "source": [
    "query = f\"DELETE FROM histone_has_publication WHERE histone_id = '{prev_name}'\" \n",
    "print(query) \n",
    "cursor.execute(query)"
   ]
  },
  {
   "cell_type": "code",
   "execution_count": 62,
   "id": "be536c96-625a-4354-81b5-e32f2a536b9b",
   "metadata": {
    "tags": []
   },
   "outputs": [
    {
     "name": "stdout",
     "output_type": "stream",
     "text": [
      "UPDATE histone SET description=null WHERE id = 'H2B.S'\n"
     ]
    }
   ],
   "source": [
    "query = f\"UPDATE histone SET description=null WHERE id = '{prev_name}'\" \n",
    "print(query) \n",
    "cursor.execute(query) "
   ]
  },
  {
   "cell_type": "code",
   "execution_count": 63,
   "id": "6e4ee95a-5653-424a-ad67-628544016d8e",
   "metadata": {
    "tags": []
   },
   "outputs": [
    {
     "data": {
      "text/html": [
       "<div>\n",
       "<style scoped>\n",
       "    .dataframe tbody tr th:only-of-type {\n",
       "        vertical-align: middle;\n",
       "    }\n",
       "\n",
       "    .dataframe tbody tr th {\n",
       "        vertical-align: top;\n",
       "    }\n",
       "\n",
       "    .dataframe thead th {\n",
       "        text-align: right;\n",
       "    }\n",
       "</style>\n",
       "<table border=\"1\" class=\"dataframe\">\n",
       "  <thead>\n",
       "    <tr style=\"text-align: right;\">\n",
       "      <th></th>\n",
       "      <th>id</th>\n",
       "      <th>level</th>\n",
       "      <th>taxonomic_span</th>\n",
       "      <th>taxonomic_span_id</th>\n",
       "      <th>description</th>\n",
       "      <th>parent</th>\n",
       "      <th>histone_id</th>\n",
       "      <th>publication_id</th>\n",
       "    </tr>\n",
       "  </thead>\n",
       "  <tbody>\n",
       "    <tr>\n",
       "      <th>0</th>\n",
       "      <td>H2B.S</td>\n",
       "      <td>variant_group</td>\n",
       "      <td>Magnoliopsida</td>\n",
       "      <td>3398</td>\n",
       "      <td>None</td>\n",
       "      <td>H2B</td>\n",
       "      <td>None</td>\n",
       "      <td>None</td>\n",
       "    </tr>\n",
       "  </tbody>\n",
       "</table>\n",
       "</div>"
      ],
      "text/plain": [
       "      id          level taxonomic_span taxonomic_span_id description parent  \\\n",
       "0  H2B.S  variant_group  Magnoliopsida              3398        None    H2B   \n",
       "\n",
       "  histone_id publication_id  \n",
       "0       None           None  "
      ]
     },
     "execution_count": 63,
     "metadata": {},
     "output_type": "execute_result"
    }
   ],
   "source": [
    "query = (\n",
    "    \"SELECT * FROM histone h LEFT JOIN histone_has_publication hp \"\n",
    "    \"ON h.id = hp.histone_id \"\n",
    "    f\"WHERE h.id='{prev_name}'\"\n",
    ")\n",
    "cursor.execute(query)\n",
    "pd.DataFrame(cursor.fetchall(), columns=[i[0] for i in cursor.description])"
   ]
  },
  {
   "cell_type": "markdown",
   "id": "ae07da58-6cdc-4605-93c3-32f2fa818e39",
   "metadata": {
    "tags": []
   },
   "source": [
    "### Update name"
   ]
  },
  {
   "cell_type": "code",
   "execution_count": 64,
   "id": "4bb7457f-0fac-4523-86a8-3932c9235e40",
   "metadata": {
    "tags": []
   },
   "outputs": [
    {
     "name": "stdout",
     "output_type": "stream",
     "text": [
      "UPDATE histone SET id='H2B.S_(Magnoliopsida)' WHERE id = 'H2B.S'\n"
     ]
    }
   ],
   "source": [
    "query = f\"UPDATE histone SET id='{new_name}' WHERE id = '{prev_name}'\" \n",
    "print(query) \n",
    "cursor.execute(query) "
   ]
  },
  {
   "cell_type": "code",
   "execution_count": 65,
   "id": "1225df13-d8b2-406c-bd08-053d75167214",
   "metadata": {
    "tags": []
   },
   "outputs": [
    {
     "data": {
      "text/html": [
       "<div>\n",
       "<style scoped>\n",
       "    .dataframe tbody tr th:only-of-type {\n",
       "        vertical-align: middle;\n",
       "    }\n",
       "\n",
       "    .dataframe tbody tr th {\n",
       "        vertical-align: top;\n",
       "    }\n",
       "\n",
       "    .dataframe thead th {\n",
       "        text-align: right;\n",
       "    }\n",
       "</style>\n",
       "<table border=\"1\" class=\"dataframe\">\n",
       "  <thead>\n",
       "    <tr style=\"text-align: right;\">\n",
       "      <th></th>\n",
       "      <th>id</th>\n",
       "      <th>level</th>\n",
       "      <th>taxonomic_span</th>\n",
       "      <th>taxonomic_span_id</th>\n",
       "      <th>description</th>\n",
       "      <th>parent</th>\n",
       "      <th>histone_id</th>\n",
       "      <th>publication_id</th>\n",
       "    </tr>\n",
       "  </thead>\n",
       "  <tbody>\n",
       "    <tr>\n",
       "      <th>0</th>\n",
       "      <td>H2B.S_(Magnoliopsida)</td>\n",
       "      <td>variant_group</td>\n",
       "      <td>Magnoliopsida</td>\n",
       "      <td>3398</td>\n",
       "      <td>None</td>\n",
       "      <td>H2B</td>\n",
       "      <td>None</td>\n",
       "      <td>None</td>\n",
       "    </tr>\n",
       "  </tbody>\n",
       "</table>\n",
       "</div>"
      ],
      "text/plain": [
       "                      id          level taxonomic_span taxonomic_span_id  \\\n",
       "0  H2B.S_(Magnoliopsida)  variant_group  Magnoliopsida              3398   \n",
       "\n",
       "  description parent histone_id publication_id  \n",
       "0        None    H2B       None           None  "
      ]
     },
     "execution_count": 65,
     "metadata": {},
     "output_type": "execute_result"
    }
   ],
   "source": [
    "query = (\n",
    "    \"SELECT * FROM histone h LEFT JOIN histone_has_publication hp \"\n",
    "    \"ON h.id = hp.histone_id \"\n",
    "    f\"WHERE h.id='{new_name}'\"\n",
    ")\n",
    "cursor.execute(query)\n",
    "pd.DataFrame(cursor.fetchall(), columns=[i[0] for i in cursor.description])"
   ]
  },
  {
   "cell_type": "markdown",
   "id": "7a9d1092-5e6d-4a21-a2a4-13d43ed546c5",
   "metadata": {},
   "source": [
    "### Return relations"
   ]
  },
  {
   "cell_type": "code",
   "execution_count": 66,
   "id": "c2fcd713-443a-4109-ba70-112d5919d52d",
   "metadata": {
    "tags": []
   },
   "outputs": [
    {
     "name": "stdout",
     "output_type": "stream",
     "text": [
      "UPDATE histone SET description=40 WHERE id = 'H2B.S_(Magnoliopsida)'\n"
     ]
    }
   ],
   "source": [
    "query = f\"UPDATE histone SET description={desc_id} WHERE id = '{new_name}'\" \n",
    "print(query) \n",
    "cursor.execute(query) "
   ]
  },
  {
   "cell_type": "code",
   "execution_count": 67,
   "id": "d9a157b6-d7fb-46f7-aafa-1923e50f4a3d",
   "metadata": {
    "tags": []
   },
   "outputs": [
    {
     "data": {
      "text/html": [
       "<div>\n",
       "<style scoped>\n",
       "    .dataframe tbody tr th:only-of-type {\n",
       "        vertical-align: middle;\n",
       "    }\n",
       "\n",
       "    .dataframe tbody tr th {\n",
       "        vertical-align: top;\n",
       "    }\n",
       "\n",
       "    .dataframe thead th {\n",
       "        text-align: right;\n",
       "    }\n",
       "</style>\n",
       "<table border=\"1\" class=\"dataframe\">\n",
       "  <thead>\n",
       "    <tr style=\"text-align: right;\">\n",
       "      <th></th>\n",
       "      <th>id</th>\n",
       "      <th>level</th>\n",
       "      <th>taxonomic_span</th>\n",
       "      <th>taxonomic_span_id</th>\n",
       "      <th>description</th>\n",
       "      <th>parent</th>\n",
       "      <th>id</th>\n",
       "      <th>summary</th>\n",
       "      <th>taxonomy</th>\n",
       "      <th>genes</th>\n",
       "      <th>...</th>\n",
       "      <th>expression</th>\n",
       "      <th>knock_out</th>\n",
       "      <th>function</th>\n",
       "      <th>sequence</th>\n",
       "      <th>localization</th>\n",
       "      <th>deposition</th>\n",
       "      <th>structure</th>\n",
       "      <th>interactions</th>\n",
       "      <th>disease</th>\n",
       "      <th>caveats</th>\n",
       "    </tr>\n",
       "  </thead>\n",
       "  <tbody>\n",
       "    <tr>\n",
       "      <th>0</th>\n",
       "      <td>H2B.S_(Magnoliopsida)</td>\n",
       "      <td>variant_group</td>\n",
       "      <td>Magnoliopsida</td>\n",
       "      <td>3398</td>\n",
       "      <td>40</td>\n",
       "      <td>H2B</td>\n",
       "      <td>40</td>\n",
       "      <td>H2B.S  is a class a new class of highly diverg...</td>\n",
       "      <td>Flowering plants (angiosperms) [jiang_evolutio...</td>\n",
       "      <td>HTB8 gene in Arabidopsis, Solyc06g074750.1 in ...</td>\n",
       "      <td>...</td>\n",
       "      <td>Arabidopsis HTB8 is specifically expressed in ...</td>\n",
       "      <td>null</td>\n",
       "      <td>For Arabidopsis an adaptive function in cell t...</td>\n",
       "      <td>The angiosperm-specific clade of Arabidopsis H...</td>\n",
       "      <td>null</td>\n",
       "      <td>null</td>\n",
       "      <td>Two HTB8 residues, Arg152 and Met179, were hig...</td>\n",
       "      <td>null</td>\n",
       "      <td>null</td>\n",
       "      <td>null</td>\n",
       "    </tr>\n",
       "  </tbody>\n",
       "</table>\n",
       "<p>1 rows × 21 columns</p>\n",
       "</div>"
      ],
      "text/plain": [
       "                      id          level taxonomic_span taxonomic_span_id  \\\n",
       "0  H2B.S_(Magnoliopsida)  variant_group  Magnoliopsida              3398   \n",
       "\n",
       "   description parent  id                                            summary  \\\n",
       "0           40    H2B  40  H2B.S  is a class a new class of highly diverg...   \n",
       "\n",
       "                                            taxonomy  \\\n",
       "0  Flowering plants (angiosperms) [jiang_evolutio...   \n",
       "\n",
       "                                               genes  ...  \\\n",
       "0  HTB8 gene in Arabidopsis, Solyc06g074750.1 in ...  ...   \n",
       "\n",
       "                                          expression knock_out  \\\n",
       "0  Arabidopsis HTB8 is specifically expressed in ...      null   \n",
       "\n",
       "                                            function  \\\n",
       "0  For Arabidopsis an adaptive function in cell t...   \n",
       "\n",
       "                                            sequence localization deposition  \\\n",
       "0  The angiosperm-specific clade of Arabidopsis H...         null       null   \n",
       "\n",
       "                                           structure interactions disease  \\\n",
       "0  Two HTB8 residues, Arg152 and Met179, were hig...         null    null   \n",
       "\n",
       "  caveats  \n",
       "0    null  \n",
       "\n",
       "[1 rows x 21 columns]"
      ]
     },
     "execution_count": 67,
     "metadata": {},
     "output_type": "execute_result"
    }
   ],
   "source": [
    "query = (\n",
    "    \"SELECT * FROM histone h LEFT JOIN histone_description hd \"\n",
    "    \"ON h.description = hd.id \"\n",
    "    f\"WHERE h.id='{new_name}'\"\n",
    ")\n",
    "cursor.execute(query)\n",
    "pd.DataFrame(cursor.fetchall(), columns=[i[0] for i in cursor.description])"
   ]
  },
  {
   "cell_type": "code",
   "execution_count": 68,
   "id": "cfc7ce48-e986-4868-a4ba-34a8a1462253",
   "metadata": {
    "tags": []
   },
   "outputs": [
    {
     "data": {
      "text/plain": [
       "'H2B.S_(Magnoliopsida)  is a class a new class of highly divergent H2B variants identified by Jiang et al. that specifically accumulate during chromatin compaction of dry seed embryos in multiple species of flowering plants [jiang_evolution_2020].'"
      ]
     },
     "execution_count": 68,
     "metadata": {},
     "output_type": "execute_result"
    }
   ],
   "source": [
    "query = (\n",
    "    \"SELECT * FROM histone h LEFT JOIN histone_description hd \"\n",
    "    \"ON h.description = hd.id \"\n",
    "    f\"WHERE h.id='{new_name}'\"\n",
    ")\n",
    "cursor.execute(query)\n",
    "summary = (\n",
    "    pd.DataFrame(cursor.fetchall(), columns=[i[0] for i in cursor.description])[\n",
    "        \"summary\"\n",
    "    ]\n",
    "    .values[0]\n",
    "    .replace(prev_name, new_name, 1)\n",
    ")\n",
    "summary"
   ]
  },
  {
   "cell_type": "code",
   "execution_count": 69,
   "id": "dd628354-8492-4f2d-8793-1a1709c0ee03",
   "metadata": {
    "tags": []
   },
   "outputs": [
    {
     "name": "stdout",
     "output_type": "stream",
     "text": [
      "UPDATE histone_description SET summary='H2B.S_(Magnoliopsida)  is a class a new class of highly divergent H2B variants identified by Jiang et al. that specifically accumulate during chromatin compaction of dry seed embryos in multiple species of flowering plants [jiang_evolution_2020].' WHERE id = '40'\n"
     ]
    }
   ],
   "source": [
    "query = f\"UPDATE histone_description SET summary='{summary}' WHERE id = '{desc_id}'\" \n",
    "print(query) \n",
    "cursor.execute(query) "
   ]
  },
  {
   "cell_type": "code",
   "execution_count": 70,
   "id": "752b03e8-a558-498f-9b74-977e7a6c277e",
   "metadata": {
    "tags": []
   },
   "outputs": [
    {
     "data": {
      "text/html": [
       "<div>\n",
       "<style scoped>\n",
       "    .dataframe tbody tr th:only-of-type {\n",
       "        vertical-align: middle;\n",
       "    }\n",
       "\n",
       "    .dataframe tbody tr th {\n",
       "        vertical-align: top;\n",
       "    }\n",
       "\n",
       "    .dataframe thead th {\n",
       "        text-align: right;\n",
       "    }\n",
       "</style>\n",
       "<table border=\"1\" class=\"dataframe\">\n",
       "  <thead>\n",
       "    <tr style=\"text-align: right;\">\n",
       "      <th></th>\n",
       "      <th>id</th>\n",
       "      <th>level</th>\n",
       "      <th>taxonomic_span</th>\n",
       "      <th>taxonomic_span_id</th>\n",
       "      <th>description</th>\n",
       "      <th>parent</th>\n",
       "      <th>id</th>\n",
       "      <th>summary</th>\n",
       "      <th>taxonomy</th>\n",
       "      <th>genes</th>\n",
       "      <th>...</th>\n",
       "      <th>expression</th>\n",
       "      <th>knock_out</th>\n",
       "      <th>function</th>\n",
       "      <th>sequence</th>\n",
       "      <th>localization</th>\n",
       "      <th>deposition</th>\n",
       "      <th>structure</th>\n",
       "      <th>interactions</th>\n",
       "      <th>disease</th>\n",
       "      <th>caveats</th>\n",
       "    </tr>\n",
       "  </thead>\n",
       "  <tbody>\n",
       "    <tr>\n",
       "      <th>0</th>\n",
       "      <td>H2B.S_(Magnoliopsida)</td>\n",
       "      <td>variant_group</td>\n",
       "      <td>Magnoliopsida</td>\n",
       "      <td>3398</td>\n",
       "      <td>40</td>\n",
       "      <td>H2B</td>\n",
       "      <td>40</td>\n",
       "      <td>H2B.S_(Magnoliopsida)  is a class a new class ...</td>\n",
       "      <td>Flowering plants (angiosperms) [jiang_evolutio...</td>\n",
       "      <td>HTB8 gene in Arabidopsis, Solyc06g074750.1 in ...</td>\n",
       "      <td>...</td>\n",
       "      <td>Arabidopsis HTB8 is specifically expressed in ...</td>\n",
       "      <td>null</td>\n",
       "      <td>For Arabidopsis an adaptive function in cell t...</td>\n",
       "      <td>The angiosperm-specific clade of Arabidopsis H...</td>\n",
       "      <td>null</td>\n",
       "      <td>null</td>\n",
       "      <td>Two HTB8 residues, Arg152 and Met179, were hig...</td>\n",
       "      <td>null</td>\n",
       "      <td>null</td>\n",
       "      <td>null</td>\n",
       "    </tr>\n",
       "  </tbody>\n",
       "</table>\n",
       "<p>1 rows × 21 columns</p>\n",
       "</div>"
      ],
      "text/plain": [
       "                      id          level taxonomic_span taxonomic_span_id  \\\n",
       "0  H2B.S_(Magnoliopsida)  variant_group  Magnoliopsida              3398   \n",
       "\n",
       "   description parent  id                                            summary  \\\n",
       "0           40    H2B  40  H2B.S_(Magnoliopsida)  is a class a new class ...   \n",
       "\n",
       "                                            taxonomy  \\\n",
       "0  Flowering plants (angiosperms) [jiang_evolutio...   \n",
       "\n",
       "                                               genes  ...  \\\n",
       "0  HTB8 gene in Arabidopsis, Solyc06g074750.1 in ...  ...   \n",
       "\n",
       "                                          expression knock_out  \\\n",
       "0  Arabidopsis HTB8 is specifically expressed in ...      null   \n",
       "\n",
       "                                            function  \\\n",
       "0  For Arabidopsis an adaptive function in cell t...   \n",
       "\n",
       "                                            sequence localization deposition  \\\n",
       "0  The angiosperm-specific clade of Arabidopsis H...         null       null   \n",
       "\n",
       "                                           structure interactions disease  \\\n",
       "0  Two HTB8 residues, Arg152 and Met179, were hig...         null    null   \n",
       "\n",
       "  caveats  \n",
       "0    null  \n",
       "\n",
       "[1 rows x 21 columns]"
      ]
     },
     "execution_count": 70,
     "metadata": {},
     "output_type": "execute_result"
    }
   ],
   "source": [
    "query = (\n",
    "    \"SELECT * FROM histone h LEFT JOIN histone_description hd \"\n",
    "    \"ON h.description = hd.id \"\n",
    "    f\"WHERE h.id='{new_name}'\"\n",
    ")\n",
    "cursor.execute(query)\n",
    "pd.DataFrame(cursor.fetchall(), columns=[i[0] for i in cursor.description])"
   ]
  },
  {
   "cell_type": "code",
   "execution_count": 71,
   "id": "0df8560f-47ed-490d-8901-6a62ade99a17",
   "metadata": {
    "tags": []
   },
   "outputs": [],
   "source": [
    "query = \"SELECT id FROM publication\"\n",
    "cursor.execute(query)\n",
    "exist_pubs = [i[0] for i in cursor.fetchall()]\n",
    "for pid in publications:\n",
    "    if pid not in exist_pubs:\n",
    "        print(f\"Strange {pid}\")\n",
    "    cursor.execute(add_histone_has_publication, (new_name, pid))"
   ]
  },
  {
   "cell_type": "code",
   "execution_count": 72,
   "id": "ffee4cd5-b9b3-4202-b436-704c0d4e02cd",
   "metadata": {
    "tags": []
   },
   "outputs": [
    {
     "data": {
      "text/html": [
       "<div>\n",
       "<style scoped>\n",
       "    .dataframe tbody tr th:only-of-type {\n",
       "        vertical-align: middle;\n",
       "    }\n",
       "\n",
       "    .dataframe tbody tr th {\n",
       "        vertical-align: top;\n",
       "    }\n",
       "\n",
       "    .dataframe thead th {\n",
       "        text-align: right;\n",
       "    }\n",
       "</style>\n",
       "<table border=\"1\" class=\"dataframe\">\n",
       "  <thead>\n",
       "    <tr style=\"text-align: right;\">\n",
       "      <th></th>\n",
       "      <th>id</th>\n",
       "      <th>level</th>\n",
       "      <th>taxonomic_span</th>\n",
       "      <th>taxonomic_span_id</th>\n",
       "      <th>description</th>\n",
       "      <th>parent</th>\n",
       "      <th>histone_id</th>\n",
       "      <th>publication_id</th>\n",
       "    </tr>\n",
       "  </thead>\n",
       "  <tbody>\n",
       "    <tr>\n",
       "      <th>0</th>\n",
       "      <td>H2B.S_(Magnoliopsida)</td>\n",
       "      <td>variant_group</td>\n",
       "      <td>Magnoliopsida</td>\n",
       "      <td>3398</td>\n",
       "      <td>40</td>\n",
       "      <td>H2B</td>\n",
       "      <td>H2B.S_(Magnoliopsida)</td>\n",
       "      <td>jiang_evolution_2020</td>\n",
       "    </tr>\n",
       "  </tbody>\n",
       "</table>\n",
       "</div>"
      ],
      "text/plain": [
       "                      id          level taxonomic_span taxonomic_span_id  \\\n",
       "0  H2B.S_(Magnoliopsida)  variant_group  Magnoliopsida              3398   \n",
       "\n",
       "   description parent             histone_id        publication_id  \n",
       "0           40    H2B  H2B.S_(Magnoliopsida)  jiang_evolution_2020  "
      ]
     },
     "execution_count": 72,
     "metadata": {},
     "output_type": "execute_result"
    }
   ],
   "source": [
    "query = (\n",
    "    \"SELECT * FROM histone h LEFT JOIN histone_has_publication hp \"\n",
    "    \"ON h.id = hp.histone_id \"\n",
    "    f\"WHERE h.id='{new_name}'\"\n",
    ")\n",
    "cursor.execute(query)\n",
    "pd.DataFrame(cursor.fetchall(), columns=[i[0] for i in cursor.description])"
   ]
  },
  {
   "cell_type": "code",
   "execution_count": 73,
   "id": "218ba146-90fa-470c-8a9a-e13e3b85f7a7",
   "metadata": {
    "tags": []
   },
   "outputs": [],
   "source": [
    "# Make sure data is committed to the database\n",
    "conn.commit()"
   ]
  },
  {
   "cell_type": "markdown",
   "id": "56fe2864-7a31-4593-b830-31529fe35f22",
   "metadata": {
    "jp-MarkdownHeadingCollapsed": true,
    "tags": []
   },
   "source": [
    "## Change name from H2A.M → H2A.M_(Viridiplantae)"
   ]
  },
  {
   "cell_type": "code",
   "execution_count": 74,
   "id": "ae343796-22a5-417b-b115-27aae97deb29",
   "metadata": {
    "tags": []
   },
   "outputs": [],
   "source": [
    "prev_name, new_name = \"H2A.M\", \"H2A.M_(Viridiplantae)\""
   ]
  },
  {
   "cell_type": "code",
   "execution_count": 75,
   "id": "d7ac1605-8142-4be1-bd52-286416e14c34",
   "metadata": {
    "tags": []
   },
   "outputs": [
    {
     "data": {
      "text/html": [
       "<div>\n",
       "<style scoped>\n",
       "    .dataframe tbody tr th:only-of-type {\n",
       "        vertical-align: middle;\n",
       "    }\n",
       "\n",
       "    .dataframe tbody tr th {\n",
       "        vertical-align: top;\n",
       "    }\n",
       "\n",
       "    .dataframe thead th {\n",
       "        text-align: right;\n",
       "    }\n",
       "</style>\n",
       "<table border=\"1\" class=\"dataframe\">\n",
       "  <thead>\n",
       "    <tr style=\"text-align: right;\">\n",
       "      <th></th>\n",
       "      <th>id</th>\n",
       "      <th>level</th>\n",
       "      <th>taxonomic_span</th>\n",
       "      <th>taxonomic_span_id</th>\n",
       "      <th>description</th>\n",
       "      <th>parent</th>\n",
       "      <th>histone_id</th>\n",
       "      <th>publication_id</th>\n",
       "    </tr>\n",
       "  </thead>\n",
       "  <tbody>\n",
       "    <tr>\n",
       "      <th>0</th>\n",
       "      <td>H2A.M</td>\n",
       "      <td>variant_group</td>\n",
       "      <td>Viridiplantae</td>\n",
       "      <td>33090</td>\n",
       "      <td>25</td>\n",
       "      <td>H2A</td>\n",
       "      <td>H2A.M</td>\n",
       "      <td>kawashima_diversification_2015</td>\n",
       "    </tr>\n",
       "  </tbody>\n",
       "</table>\n",
       "</div>"
      ],
      "text/plain": [
       "      id          level taxonomic_span taxonomic_span_id  description parent  \\\n",
       "0  H2A.M  variant_group  Viridiplantae             33090           25    H2A   \n",
       "\n",
       "  histone_id                  publication_id  \n",
       "0      H2A.M  kawashima_diversification_2015  "
      ]
     },
     "execution_count": 75,
     "metadata": {},
     "output_type": "execute_result"
    }
   ],
   "source": [
    "query = (\n",
    "    \"SELECT * FROM histone h LEFT JOIN histone_has_publication hp \"\n",
    "    \"ON h.id = hp.histone_id \"\n",
    "    f\"WHERE h.id='{prev_name}'\"\n",
    ")\n",
    "cursor.execute(query)\n",
    "pd.DataFrame(cursor.fetchall(), columns=[i[0] for i in cursor.description])"
   ]
  },
  {
   "cell_type": "code",
   "execution_count": 76,
   "id": "f7b52ef7-e362-43e8-87bd-4c812f816c3f",
   "metadata": {
    "tags": []
   },
   "outputs": [
    {
     "data": {
      "text/html": [
       "<div>\n",
       "<style scoped>\n",
       "    .dataframe tbody tr th:only-of-type {\n",
       "        vertical-align: middle;\n",
       "    }\n",
       "\n",
       "    .dataframe tbody tr th {\n",
       "        vertical-align: top;\n",
       "    }\n",
       "\n",
       "    .dataframe thead th {\n",
       "        text-align: right;\n",
       "    }\n",
       "</style>\n",
       "<table border=\"1\" class=\"dataframe\">\n",
       "  <thead>\n",
       "    <tr style=\"text-align: right;\">\n",
       "      <th></th>\n",
       "      <th>id</th>\n",
       "      <th>level</th>\n",
       "      <th>taxonomic_span</th>\n",
       "      <th>taxonomic_span_id</th>\n",
       "      <th>description</th>\n",
       "      <th>parent</th>\n",
       "      <th>id</th>\n",
       "      <th>summary</th>\n",
       "      <th>taxonomy</th>\n",
       "      <th>genes</th>\n",
       "      <th>...</th>\n",
       "      <th>expression</th>\n",
       "      <th>knock_out</th>\n",
       "      <th>function</th>\n",
       "      <th>sequence</th>\n",
       "      <th>localization</th>\n",
       "      <th>deposition</th>\n",
       "      <th>structure</th>\n",
       "      <th>interactions</th>\n",
       "      <th>disease</th>\n",
       "      <th>caveats</th>\n",
       "    </tr>\n",
       "  </thead>\n",
       "  <tbody>\n",
       "    <tr>\n",
       "      <th>0</th>\n",
       "      <td>H2A.M</td>\n",
       "      <td>variant_group</td>\n",
       "      <td>Viridiplantae</td>\n",
       "      <td>33090</td>\n",
       "      <td>25</td>\n",
       "      <td>H2A</td>\n",
       "      <td>25</td>\n",
       "      <td>H2A.M is a plant specific variant related to H...</td>\n",
       "      <td>H2A.M was characterized in genomes of liverwor...</td>\n",
       "      <td>null</td>\n",
       "      <td>...</td>\n",
       "      <td>null</td>\n",
       "      <td>null</td>\n",
       "      <td>null</td>\n",
       "      <td>In the L1 loop, all H2A.M variants share the m...</td>\n",
       "      <td>null</td>\n",
       "      <td>null</td>\n",
       "      <td>null</td>\n",
       "      <td>null</td>\n",
       "      <td>null</td>\n",
       "      <td>null</td>\n",
       "    </tr>\n",
       "  </tbody>\n",
       "</table>\n",
       "<p>1 rows × 21 columns</p>\n",
       "</div>"
      ],
      "text/plain": [
       "      id          level taxonomic_span taxonomic_span_id  description parent  \\\n",
       "0  H2A.M  variant_group  Viridiplantae             33090           25    H2A   \n",
       "\n",
       "   id                                            summary  \\\n",
       "0  25  H2A.M is a plant specific variant related to H...   \n",
       "\n",
       "                                            taxonomy genes  ... expression  \\\n",
       "0  H2A.M was characterized in genomes of liverwor...  null  ...       null   \n",
       "\n",
       "  knock_out function                                           sequence  \\\n",
       "0      null     null  In the L1 loop, all H2A.M variants share the m...   \n",
       "\n",
       "  localization deposition structure interactions disease caveats  \n",
       "0         null       null      null         null    null    null  \n",
       "\n",
       "[1 rows x 21 columns]"
      ]
     },
     "execution_count": 76,
     "metadata": {},
     "output_type": "execute_result"
    }
   ],
   "source": [
    "query = (\n",
    "    \"SELECT * FROM histone h LEFT JOIN histone_description hd \"\n",
    "    \"ON h.description = hd.id \"\n",
    "    f\"WHERE h.id='{prev_name}'\"\n",
    ")\n",
    "cursor.execute(query)\n",
    "pd.DataFrame(cursor.fetchall(), columns=[i[0] for i in cursor.description])"
   ]
  },
  {
   "cell_type": "markdown",
   "id": "05471aeb-4360-46aa-8b3c-ac80a77519fb",
   "metadata": {
    "tags": []
   },
   "source": [
    "### Save publications and description id"
   ]
  },
  {
   "cell_type": "code",
   "execution_count": 77,
   "id": "f4552a18-ea78-4f15-bf22-5006f0cc667d",
   "metadata": {
    "tags": []
   },
   "outputs": [
    {
     "data": {
      "text/plain": [
       "array(['kawashima_diversification_2015'], dtype=object)"
      ]
     },
     "execution_count": 77,
     "metadata": {},
     "output_type": "execute_result"
    }
   ],
   "source": [
    "query = (\n",
    "    \"SELECT * FROM histone h LEFT JOIN histone_has_publication hp \"\n",
    "    \"ON h.id = hp.histone_id \"\n",
    "    f\"WHERE h.id='{prev_name}'\"\n",
    ")\n",
    "cursor.execute(query)\n",
    "publications = pd.DataFrame(\n",
    "    cursor.fetchall(), columns=[i[0] for i in cursor.description]\n",
    ")[\"publication_id\"].values\n",
    "publications"
   ]
  },
  {
   "cell_type": "code",
   "execution_count": 78,
   "id": "c68e8d45-fca7-43fc-9712-fc8c1a3687a0",
   "metadata": {
    "tags": []
   },
   "outputs": [
    {
     "data": {
      "text/plain": [
       "25"
      ]
     },
     "execution_count": 78,
     "metadata": {},
     "output_type": "execute_result"
    }
   ],
   "source": [
    "query = (\n",
    "    \"SELECT * FROM histone h LEFT JOIN histone_description hd \"\n",
    "    \"ON h.description = hd.id \"\n",
    "    f\"WHERE h.id='{prev_name}'\"\n",
    ")\n",
    "cursor.execute(query)\n",
    "desc_id = pd.DataFrame(cursor.fetchall(), columns=[i[0] for i in cursor.description])[\n",
    "    \"description\"\n",
    "].values[0]\n",
    "desc_id"
   ]
  },
  {
   "cell_type": "markdown",
   "id": "f8785a93-cdaa-4ccc-9a29-4c1ffa50ad75",
   "metadata": {
    "tags": []
   },
   "source": [
    "### Delete relations"
   ]
  },
  {
   "cell_type": "code",
   "execution_count": 79,
   "id": "c6b6d44e-d65e-4e73-9eb8-850e76652ac5",
   "metadata": {
    "tags": []
   },
   "outputs": [
    {
     "name": "stdout",
     "output_type": "stream",
     "text": [
      "DELETE FROM histone_has_publication WHERE histone_id = 'H2A.M'\n"
     ]
    }
   ],
   "source": [
    "query = f\"DELETE FROM histone_has_publication WHERE histone_id = '{prev_name}'\" \n",
    "print(query) \n",
    "cursor.execute(query)"
   ]
  },
  {
   "cell_type": "code",
   "execution_count": 80,
   "id": "88826f3d-36c5-4e84-b1d6-2d5fa229c123",
   "metadata": {
    "tags": []
   },
   "outputs": [
    {
     "name": "stdout",
     "output_type": "stream",
     "text": [
      "UPDATE histone SET description=null WHERE id = 'H2A.M'\n"
     ]
    }
   ],
   "source": [
    "query = f\"UPDATE histone SET description=null WHERE id = '{prev_name}'\" \n",
    "print(query) \n",
    "cursor.execute(query) "
   ]
  },
  {
   "cell_type": "code",
   "execution_count": 81,
   "id": "653803a0-0d8b-4088-b485-984c797acdde",
   "metadata": {
    "tags": []
   },
   "outputs": [
    {
     "data": {
      "text/html": [
       "<div>\n",
       "<style scoped>\n",
       "    .dataframe tbody tr th:only-of-type {\n",
       "        vertical-align: middle;\n",
       "    }\n",
       "\n",
       "    .dataframe tbody tr th {\n",
       "        vertical-align: top;\n",
       "    }\n",
       "\n",
       "    .dataframe thead th {\n",
       "        text-align: right;\n",
       "    }\n",
       "</style>\n",
       "<table border=\"1\" class=\"dataframe\">\n",
       "  <thead>\n",
       "    <tr style=\"text-align: right;\">\n",
       "      <th></th>\n",
       "      <th>id</th>\n",
       "      <th>level</th>\n",
       "      <th>taxonomic_span</th>\n",
       "      <th>taxonomic_span_id</th>\n",
       "      <th>description</th>\n",
       "      <th>parent</th>\n",
       "      <th>histone_id</th>\n",
       "      <th>publication_id</th>\n",
       "    </tr>\n",
       "  </thead>\n",
       "  <tbody>\n",
       "    <tr>\n",
       "      <th>0</th>\n",
       "      <td>H2A.M</td>\n",
       "      <td>variant_group</td>\n",
       "      <td>Viridiplantae</td>\n",
       "      <td>33090</td>\n",
       "      <td>None</td>\n",
       "      <td>H2A</td>\n",
       "      <td>None</td>\n",
       "      <td>None</td>\n",
       "    </tr>\n",
       "  </tbody>\n",
       "</table>\n",
       "</div>"
      ],
      "text/plain": [
       "      id          level taxonomic_span taxonomic_span_id description parent  \\\n",
       "0  H2A.M  variant_group  Viridiplantae             33090        None    H2A   \n",
       "\n",
       "  histone_id publication_id  \n",
       "0       None           None  "
      ]
     },
     "execution_count": 81,
     "metadata": {},
     "output_type": "execute_result"
    }
   ],
   "source": [
    "query = (\n",
    "    \"SELECT * FROM histone h LEFT JOIN histone_has_publication hp \"\n",
    "    \"ON h.id = hp.histone_id \"\n",
    "    f\"WHERE h.id='{prev_name}'\"\n",
    ")\n",
    "cursor.execute(query)\n",
    "pd.DataFrame(cursor.fetchall(), columns=[i[0] for i in cursor.description])"
   ]
  },
  {
   "cell_type": "markdown",
   "id": "db83dbe7-d15d-48bb-ab65-1c2d05fdaf62",
   "metadata": {
    "tags": []
   },
   "source": [
    "### Update name"
   ]
  },
  {
   "cell_type": "code",
   "execution_count": 82,
   "id": "8014248d-265e-4c95-a9e4-6ab3e1a799f0",
   "metadata": {
    "tags": []
   },
   "outputs": [
    {
     "name": "stdout",
     "output_type": "stream",
     "text": [
      "UPDATE histone SET id='H2A.M_(Viridiplantae)' WHERE id = 'H2A.M'\n"
     ]
    }
   ],
   "source": [
    "query = f\"UPDATE histone SET id='{new_name}' WHERE id = '{prev_name}'\" \n",
    "print(query) \n",
    "cursor.execute(query) "
   ]
  },
  {
   "cell_type": "code",
   "execution_count": 83,
   "id": "481c492a-094a-4787-83f9-135e7aff0e35",
   "metadata": {
    "tags": []
   },
   "outputs": [
    {
     "data": {
      "text/html": [
       "<div>\n",
       "<style scoped>\n",
       "    .dataframe tbody tr th:only-of-type {\n",
       "        vertical-align: middle;\n",
       "    }\n",
       "\n",
       "    .dataframe tbody tr th {\n",
       "        vertical-align: top;\n",
       "    }\n",
       "\n",
       "    .dataframe thead th {\n",
       "        text-align: right;\n",
       "    }\n",
       "</style>\n",
       "<table border=\"1\" class=\"dataframe\">\n",
       "  <thead>\n",
       "    <tr style=\"text-align: right;\">\n",
       "      <th></th>\n",
       "      <th>id</th>\n",
       "      <th>level</th>\n",
       "      <th>taxonomic_span</th>\n",
       "      <th>taxonomic_span_id</th>\n",
       "      <th>description</th>\n",
       "      <th>parent</th>\n",
       "      <th>histone_id</th>\n",
       "      <th>publication_id</th>\n",
       "    </tr>\n",
       "  </thead>\n",
       "  <tbody>\n",
       "    <tr>\n",
       "      <th>0</th>\n",
       "      <td>H2A.M_(Viridiplantae)</td>\n",
       "      <td>variant_group</td>\n",
       "      <td>Viridiplantae</td>\n",
       "      <td>33090</td>\n",
       "      <td>None</td>\n",
       "      <td>H2A</td>\n",
       "      <td>None</td>\n",
       "      <td>None</td>\n",
       "    </tr>\n",
       "  </tbody>\n",
       "</table>\n",
       "</div>"
      ],
      "text/plain": [
       "                      id          level taxonomic_span taxonomic_span_id  \\\n",
       "0  H2A.M_(Viridiplantae)  variant_group  Viridiplantae             33090   \n",
       "\n",
       "  description parent histone_id publication_id  \n",
       "0        None    H2A       None           None  "
      ]
     },
     "execution_count": 83,
     "metadata": {},
     "output_type": "execute_result"
    }
   ],
   "source": [
    "query = (\n",
    "    \"SELECT * FROM histone h LEFT JOIN histone_has_publication hp \"\n",
    "    \"ON h.id = hp.histone_id \"\n",
    "    f\"WHERE h.id='{new_name}'\"\n",
    ")\n",
    "cursor.execute(query)\n",
    "pd.DataFrame(cursor.fetchall(), columns=[i[0] for i in cursor.description])"
   ]
  },
  {
   "cell_type": "markdown",
   "id": "6f441307-c2a5-4434-8bf8-36c5f6d79ea7",
   "metadata": {},
   "source": [
    "### Return relations"
   ]
  },
  {
   "cell_type": "code",
   "execution_count": 84,
   "id": "f10e28bf-bf87-4022-b5ac-395c00aadd2d",
   "metadata": {
    "tags": []
   },
   "outputs": [
    {
     "name": "stdout",
     "output_type": "stream",
     "text": [
      "UPDATE histone SET description=25 WHERE id = 'H2A.M_(Viridiplantae)'\n"
     ]
    }
   ],
   "source": [
    "query = f\"UPDATE histone SET description={desc_id} WHERE id = '{new_name}'\" \n",
    "print(query) \n",
    "cursor.execute(query) "
   ]
  },
  {
   "cell_type": "code",
   "execution_count": 85,
   "id": "7cc88600-7271-4123-bc29-c81332faa709",
   "metadata": {
    "tags": []
   },
   "outputs": [
    {
     "data": {
      "text/html": [
       "<div>\n",
       "<style scoped>\n",
       "    .dataframe tbody tr th:only-of-type {\n",
       "        vertical-align: middle;\n",
       "    }\n",
       "\n",
       "    .dataframe tbody tr th {\n",
       "        vertical-align: top;\n",
       "    }\n",
       "\n",
       "    .dataframe thead th {\n",
       "        text-align: right;\n",
       "    }\n",
       "</style>\n",
       "<table border=\"1\" class=\"dataframe\">\n",
       "  <thead>\n",
       "    <tr style=\"text-align: right;\">\n",
       "      <th></th>\n",
       "      <th>id</th>\n",
       "      <th>level</th>\n",
       "      <th>taxonomic_span</th>\n",
       "      <th>taxonomic_span_id</th>\n",
       "      <th>description</th>\n",
       "      <th>parent</th>\n",
       "      <th>id</th>\n",
       "      <th>summary</th>\n",
       "      <th>taxonomy</th>\n",
       "      <th>genes</th>\n",
       "      <th>...</th>\n",
       "      <th>expression</th>\n",
       "      <th>knock_out</th>\n",
       "      <th>function</th>\n",
       "      <th>sequence</th>\n",
       "      <th>localization</th>\n",
       "      <th>deposition</th>\n",
       "      <th>structure</th>\n",
       "      <th>interactions</th>\n",
       "      <th>disease</th>\n",
       "      <th>caveats</th>\n",
       "    </tr>\n",
       "  </thead>\n",
       "  <tbody>\n",
       "    <tr>\n",
       "      <th>0</th>\n",
       "      <td>H2A.M_(Viridiplantae)</td>\n",
       "      <td>variant_group</td>\n",
       "      <td>Viridiplantae</td>\n",
       "      <td>33090</td>\n",
       "      <td>25</td>\n",
       "      <td>H2A</td>\n",
       "      <td>25</td>\n",
       "      <td>H2A.M is a plant specific variant related to H...</td>\n",
       "      <td>H2A.M was characterized in genomes of liverwor...</td>\n",
       "      <td>null</td>\n",
       "      <td>...</td>\n",
       "      <td>null</td>\n",
       "      <td>null</td>\n",
       "      <td>null</td>\n",
       "      <td>In the L1 loop, all H2A.M variants share the m...</td>\n",
       "      <td>null</td>\n",
       "      <td>null</td>\n",
       "      <td>null</td>\n",
       "      <td>null</td>\n",
       "      <td>null</td>\n",
       "      <td>null</td>\n",
       "    </tr>\n",
       "  </tbody>\n",
       "</table>\n",
       "<p>1 rows × 21 columns</p>\n",
       "</div>"
      ],
      "text/plain": [
       "                      id          level taxonomic_span taxonomic_span_id  \\\n",
       "0  H2A.M_(Viridiplantae)  variant_group  Viridiplantae             33090   \n",
       "\n",
       "   description parent  id                                            summary  \\\n",
       "0           25    H2A  25  H2A.M is a plant specific variant related to H...   \n",
       "\n",
       "                                            taxonomy genes  ... expression  \\\n",
       "0  H2A.M was characterized in genomes of liverwor...  null  ...       null   \n",
       "\n",
       "  knock_out function                                           sequence  \\\n",
       "0      null     null  In the L1 loop, all H2A.M variants share the m...   \n",
       "\n",
       "  localization deposition structure interactions disease caveats  \n",
       "0         null       null      null         null    null    null  \n",
       "\n",
       "[1 rows x 21 columns]"
      ]
     },
     "execution_count": 85,
     "metadata": {},
     "output_type": "execute_result"
    }
   ],
   "source": [
    "query = (\n",
    "    \"SELECT * FROM histone h LEFT JOIN histone_description hd \"\n",
    "    \"ON h.description = hd.id \"\n",
    "    f\"WHERE h.id='{new_name}'\"\n",
    ")\n",
    "cursor.execute(query)\n",
    "pd.DataFrame(cursor.fetchall(), columns=[i[0] for i in cursor.description])"
   ]
  },
  {
   "cell_type": "code",
   "execution_count": 86,
   "id": "9933caf6-419d-48ae-a69b-f10448eb5489",
   "metadata": {
    "tags": []
   },
   "outputs": [
    {
     "data": {
      "text/plain": [
       "'H2A.M_(Viridiplantae) is a plant specific variant related to H2A.W found in non-flowering plants such as liverworts, mosses, and lycophytes. H2A.M variants are characterized by having a long C-terminal tail domain, rich in lysine, serine and acidic residues, not present in the other H2A variants. The variant was described by Kawashima et al. [kawashima_diversification_2015].'"
      ]
     },
     "execution_count": 86,
     "metadata": {},
     "output_type": "execute_result"
    }
   ],
   "source": [
    "query = (\n",
    "    \"SELECT * FROM histone h LEFT JOIN histone_description hd \"\n",
    "    \"ON h.description = hd.id \"\n",
    "    f\"WHERE h.id='{new_name}'\"\n",
    ")\n",
    "cursor.execute(query)\n",
    "summary = (\n",
    "    pd.DataFrame(cursor.fetchall(), columns=[i[0] for i in cursor.description])[\n",
    "        \"summary\"\n",
    "    ]\n",
    "    .values[0]\n",
    "    .replace(prev_name, new_name, 1)\n",
    ")\n",
    "summary"
   ]
  },
  {
   "cell_type": "code",
   "execution_count": 87,
   "id": "98524652-acf9-4dfb-89b8-462139892660",
   "metadata": {
    "tags": []
   },
   "outputs": [
    {
     "name": "stdout",
     "output_type": "stream",
     "text": [
      "UPDATE histone_description SET summary='H2A.M_(Viridiplantae) is a plant specific variant related to H2A.W found in non-flowering plants such as liverworts, mosses, and lycophytes. H2A.M variants are characterized by having a long C-terminal tail domain, rich in lysine, serine and acidic residues, not present in the other H2A variants. The variant was described by Kawashima et al. [kawashima_diversification_2015].' WHERE id = '25'\n"
     ]
    }
   ],
   "source": [
    "query = f\"UPDATE histone_description SET summary='{summary}' WHERE id = '{desc_id}'\" \n",
    "print(query) \n",
    "cursor.execute(query) "
   ]
  },
  {
   "cell_type": "code",
   "execution_count": 88,
   "id": "b2fbdf38-bcf0-44da-93b2-45fb6467acfa",
   "metadata": {
    "tags": []
   },
   "outputs": [
    {
     "data": {
      "text/html": [
       "<div>\n",
       "<style scoped>\n",
       "    .dataframe tbody tr th:only-of-type {\n",
       "        vertical-align: middle;\n",
       "    }\n",
       "\n",
       "    .dataframe tbody tr th {\n",
       "        vertical-align: top;\n",
       "    }\n",
       "\n",
       "    .dataframe thead th {\n",
       "        text-align: right;\n",
       "    }\n",
       "</style>\n",
       "<table border=\"1\" class=\"dataframe\">\n",
       "  <thead>\n",
       "    <tr style=\"text-align: right;\">\n",
       "      <th></th>\n",
       "      <th>id</th>\n",
       "      <th>level</th>\n",
       "      <th>taxonomic_span</th>\n",
       "      <th>taxonomic_span_id</th>\n",
       "      <th>description</th>\n",
       "      <th>parent</th>\n",
       "      <th>id</th>\n",
       "      <th>summary</th>\n",
       "      <th>taxonomy</th>\n",
       "      <th>genes</th>\n",
       "      <th>...</th>\n",
       "      <th>expression</th>\n",
       "      <th>knock_out</th>\n",
       "      <th>function</th>\n",
       "      <th>sequence</th>\n",
       "      <th>localization</th>\n",
       "      <th>deposition</th>\n",
       "      <th>structure</th>\n",
       "      <th>interactions</th>\n",
       "      <th>disease</th>\n",
       "      <th>caveats</th>\n",
       "    </tr>\n",
       "  </thead>\n",
       "  <tbody>\n",
       "    <tr>\n",
       "      <th>0</th>\n",
       "      <td>H2A.M_(Viridiplantae)</td>\n",
       "      <td>variant_group</td>\n",
       "      <td>Viridiplantae</td>\n",
       "      <td>33090</td>\n",
       "      <td>25</td>\n",
       "      <td>H2A</td>\n",
       "      <td>25</td>\n",
       "      <td>H2A.M_(Viridiplantae) is a plant specific vari...</td>\n",
       "      <td>H2A.M was characterized in genomes of liverwor...</td>\n",
       "      <td>null</td>\n",
       "      <td>...</td>\n",
       "      <td>null</td>\n",
       "      <td>null</td>\n",
       "      <td>null</td>\n",
       "      <td>In the L1 loop, all H2A.M variants share the m...</td>\n",
       "      <td>null</td>\n",
       "      <td>null</td>\n",
       "      <td>null</td>\n",
       "      <td>null</td>\n",
       "      <td>null</td>\n",
       "      <td>null</td>\n",
       "    </tr>\n",
       "  </tbody>\n",
       "</table>\n",
       "<p>1 rows × 21 columns</p>\n",
       "</div>"
      ],
      "text/plain": [
       "                      id          level taxonomic_span taxonomic_span_id  \\\n",
       "0  H2A.M_(Viridiplantae)  variant_group  Viridiplantae             33090   \n",
       "\n",
       "   description parent  id                                            summary  \\\n",
       "0           25    H2A  25  H2A.M_(Viridiplantae) is a plant specific vari...   \n",
       "\n",
       "                                            taxonomy genes  ... expression  \\\n",
       "0  H2A.M was characterized in genomes of liverwor...  null  ...       null   \n",
       "\n",
       "  knock_out function                                           sequence  \\\n",
       "0      null     null  In the L1 loop, all H2A.M variants share the m...   \n",
       "\n",
       "  localization deposition structure interactions disease caveats  \n",
       "0         null       null      null         null    null    null  \n",
       "\n",
       "[1 rows x 21 columns]"
      ]
     },
     "execution_count": 88,
     "metadata": {},
     "output_type": "execute_result"
    }
   ],
   "source": [
    "query = (\n",
    "    \"SELECT * FROM histone h LEFT JOIN histone_description hd \"\n",
    "    \"ON h.description = hd.id \"\n",
    "    f\"WHERE h.id='{new_name}'\"\n",
    ")\n",
    "cursor.execute(query)\n",
    "pd.DataFrame(cursor.fetchall(), columns=[i[0] for i in cursor.description])"
   ]
  },
  {
   "cell_type": "code",
   "execution_count": 89,
   "id": "56ffef87-71b8-4331-8607-c80102ccc7a4",
   "metadata": {
    "tags": []
   },
   "outputs": [],
   "source": [
    "query = \"SELECT id FROM publication\"\n",
    "cursor.execute(query)\n",
    "exist_pubs = [i[0] for i in cursor.fetchall()]\n",
    "for pid in publications:\n",
    "    if pid not in exist_pubs:\n",
    "        print(f\"Strange {pid}\")\n",
    "    cursor.execute(add_histone_has_publication, (new_name, pid))"
   ]
  },
  {
   "cell_type": "code",
   "execution_count": 90,
   "id": "f0059ec3-40e8-4824-8edc-b0385017e8d7",
   "metadata": {
    "tags": []
   },
   "outputs": [
    {
     "data": {
      "text/html": [
       "<div>\n",
       "<style scoped>\n",
       "    .dataframe tbody tr th:only-of-type {\n",
       "        vertical-align: middle;\n",
       "    }\n",
       "\n",
       "    .dataframe tbody tr th {\n",
       "        vertical-align: top;\n",
       "    }\n",
       "\n",
       "    .dataframe thead th {\n",
       "        text-align: right;\n",
       "    }\n",
       "</style>\n",
       "<table border=\"1\" class=\"dataframe\">\n",
       "  <thead>\n",
       "    <tr style=\"text-align: right;\">\n",
       "      <th></th>\n",
       "      <th>id</th>\n",
       "      <th>level</th>\n",
       "      <th>taxonomic_span</th>\n",
       "      <th>taxonomic_span_id</th>\n",
       "      <th>description</th>\n",
       "      <th>parent</th>\n",
       "      <th>histone_id</th>\n",
       "      <th>publication_id</th>\n",
       "    </tr>\n",
       "  </thead>\n",
       "  <tbody>\n",
       "    <tr>\n",
       "      <th>0</th>\n",
       "      <td>H2A.M_(Viridiplantae)</td>\n",
       "      <td>variant_group</td>\n",
       "      <td>Viridiplantae</td>\n",
       "      <td>33090</td>\n",
       "      <td>25</td>\n",
       "      <td>H2A</td>\n",
       "      <td>H2A.M_(Viridiplantae)</td>\n",
       "      <td>kawashima_diversification_2015</td>\n",
       "    </tr>\n",
       "  </tbody>\n",
       "</table>\n",
       "</div>"
      ],
      "text/plain": [
       "                      id          level taxonomic_span taxonomic_span_id  \\\n",
       "0  H2A.M_(Viridiplantae)  variant_group  Viridiplantae             33090   \n",
       "\n",
       "   description parent             histone_id                  publication_id  \n",
       "0           25    H2A  H2A.M_(Viridiplantae)  kawashima_diversification_2015  "
      ]
     },
     "execution_count": 90,
     "metadata": {},
     "output_type": "execute_result"
    }
   ],
   "source": [
    "query = (\n",
    "    \"SELECT * FROM histone h LEFT JOIN histone_has_publication hp \"\n",
    "    \"ON h.id = hp.histone_id \"\n",
    "    f\"WHERE h.id='{new_name}'\"\n",
    ")\n",
    "cursor.execute(query)\n",
    "pd.DataFrame(cursor.fetchall(), columns=[i[0] for i in cursor.description])"
   ]
  },
  {
   "cell_type": "code",
   "execution_count": 91,
   "id": "c8f92c64-1c64-459a-9386-f36c2d38b201",
   "metadata": {
    "tags": []
   },
   "outputs": [],
   "source": [
    "# Make sure data is committed to the database\n",
    "conn.commit()"
   ]
  },
  {
   "cell_type": "markdown",
   "id": "3222ca15-1529-4a17-ab82-43c3c28b116d",
   "metadata": {
    "jp-MarkdownHeadingCollapsed": true,
    "tags": []
   },
   "source": [
    "## Change name from H2A.W → H2A.W_(Magnoliopsida)"
   ]
  },
  {
   "cell_type": "code",
   "execution_count": 92,
   "id": "6f777998-db43-4411-8ab0-cd8a14e58d07",
   "metadata": {
    "tags": []
   },
   "outputs": [],
   "source": [
    "prev_name, new_name = \"H2A.W\", \"H2A.W_(Magnoliopsida)\""
   ]
  },
  {
   "cell_type": "code",
   "execution_count": 93,
   "id": "60470b27-8db4-417f-ab2e-c0d7a7f5fd98",
   "metadata": {
    "tags": []
   },
   "outputs": [
    {
     "data": {
      "text/html": [
       "<div>\n",
       "<style scoped>\n",
       "    .dataframe tbody tr th:only-of-type {\n",
       "        vertical-align: middle;\n",
       "    }\n",
       "\n",
       "    .dataframe tbody tr th {\n",
       "        vertical-align: top;\n",
       "    }\n",
       "\n",
       "    .dataframe thead th {\n",
       "        text-align: right;\n",
       "    }\n",
       "</style>\n",
       "<table border=\"1\" class=\"dataframe\">\n",
       "  <thead>\n",
       "    <tr style=\"text-align: right;\">\n",
       "      <th></th>\n",
       "      <th>id</th>\n",
       "      <th>level</th>\n",
       "      <th>taxonomic_span</th>\n",
       "      <th>taxonomic_span_id</th>\n",
       "      <th>description</th>\n",
       "      <th>parent</th>\n",
       "      <th>histone_id</th>\n",
       "      <th>publication_id</th>\n",
       "    </tr>\n",
       "  </thead>\n",
       "  <tbody>\n",
       "    <tr>\n",
       "      <th>0</th>\n",
       "      <td>H2A.W</td>\n",
       "      <td>variant_group</td>\n",
       "      <td>Magnoliopsida</td>\n",
       "      <td>3398</td>\n",
       "      <td>27</td>\n",
       "      <td>H2A</td>\n",
       "      <td>None</td>\n",
       "      <td>None</td>\n",
       "    </tr>\n",
       "  </tbody>\n",
       "</table>\n",
       "</div>"
      ],
      "text/plain": [
       "      id          level taxonomic_span taxonomic_span_id  description parent  \\\n",
       "0  H2A.W  variant_group  Magnoliopsida              3398           27    H2A   \n",
       "\n",
       "  histone_id publication_id  \n",
       "0       None           None  "
      ]
     },
     "execution_count": 93,
     "metadata": {},
     "output_type": "execute_result"
    }
   ],
   "source": [
    "query = (\n",
    "    \"SELECT * FROM histone h LEFT JOIN histone_has_publication hp \"\n",
    "    \"ON h.id = hp.histone_id \"\n",
    "    f\"WHERE h.id='{prev_name}'\"\n",
    ")\n",
    "cursor.execute(query)\n",
    "pd.DataFrame(cursor.fetchall(), columns=[i[0] for i in cursor.description])"
   ]
  },
  {
   "cell_type": "code",
   "execution_count": 94,
   "id": "5dad2ed4-97f6-4052-9c58-0671aee7c94e",
   "metadata": {
    "tags": []
   },
   "outputs": [
    {
     "data": {
      "text/html": [
       "<div>\n",
       "<style scoped>\n",
       "    .dataframe tbody tr th:only-of-type {\n",
       "        vertical-align: middle;\n",
       "    }\n",
       "\n",
       "    .dataframe tbody tr th {\n",
       "        vertical-align: top;\n",
       "    }\n",
       "\n",
       "    .dataframe thead th {\n",
       "        text-align: right;\n",
       "    }\n",
       "</style>\n",
       "<table border=\"1\" class=\"dataframe\">\n",
       "  <thead>\n",
       "    <tr style=\"text-align: right;\">\n",
       "      <th></th>\n",
       "      <th>id</th>\n",
       "      <th>level</th>\n",
       "      <th>taxonomic_span</th>\n",
       "      <th>taxonomic_span_id</th>\n",
       "      <th>description</th>\n",
       "      <th>parent</th>\n",
       "      <th>id</th>\n",
       "      <th>summary</th>\n",
       "      <th>taxonomy</th>\n",
       "      <th>genes</th>\n",
       "      <th>...</th>\n",
       "      <th>expression</th>\n",
       "      <th>knock_out</th>\n",
       "      <th>function</th>\n",
       "      <th>sequence</th>\n",
       "      <th>localization</th>\n",
       "      <th>deposition</th>\n",
       "      <th>structure</th>\n",
       "      <th>interactions</th>\n",
       "      <th>disease</th>\n",
       "      <th>caveats</th>\n",
       "    </tr>\n",
       "  </thead>\n",
       "  <tbody>\n",
       "    <tr>\n",
       "      <th>0</th>\n",
       "      <td>H2A.W</td>\n",
       "      <td>variant_group</td>\n",
       "      <td>Magnoliopsida</td>\n",
       "      <td>3398</td>\n",
       "      <td>27</td>\n",
       "      <td>H2A</td>\n",
       "      <td>27</td>\n",
       "      <td>H2A.W is a plant specific variant found in ang...</td>\n",
       "      <td>H2A.W variant is found exclusively in angiospe...</td>\n",
       "      <td>Arabidopsis has three H2A.W genes (HTA6, HTA7,...</td>\n",
       "      <td>...</td>\n",
       "      <td>In Arabidopsis HTA6 and HTA7 were found to hav...</td>\n",
       "      <td>In Arabidopsis single mutants of H2A.W genes d...</td>\n",
       "      <td>H2A.W participates in constitutive heterochrom...</td>\n",
       "      <td>A characteristic feature of H2A.W sequences is...</td>\n",
       "      <td>Genome-wide analysis showed that H2A.W variant...</td>\n",
       "      <td>Specific deposition mechanism are not known. C...</td>\n",
       "      <td>The extended C-terminal tail of H2A.W interact...</td>\n",
       "      <td>It was hypothesized that C-terminal tail of H2...</td>\n",
       "      <td>null</td>\n",
       "      <td>null</td>\n",
       "    </tr>\n",
       "  </tbody>\n",
       "</table>\n",
       "<p>1 rows × 21 columns</p>\n",
       "</div>"
      ],
      "text/plain": [
       "      id          level taxonomic_span taxonomic_span_id  description parent  \\\n",
       "0  H2A.W  variant_group  Magnoliopsida              3398           27    H2A   \n",
       "\n",
       "   id                                            summary  \\\n",
       "0  27  H2A.W is a plant specific variant found in ang...   \n",
       "\n",
       "                                            taxonomy  \\\n",
       "0  H2A.W variant is found exclusively in angiospe...   \n",
       "\n",
       "                                               genes  ...  \\\n",
       "0  Arabidopsis has three H2A.W genes (HTA6, HTA7,...  ...   \n",
       "\n",
       "                                          expression  \\\n",
       "0  In Arabidopsis HTA6 and HTA7 were found to hav...   \n",
       "\n",
       "                                           knock_out  \\\n",
       "0  In Arabidopsis single mutants of H2A.W genes d...   \n",
       "\n",
       "                                            function  \\\n",
       "0  H2A.W participates in constitutive heterochrom...   \n",
       "\n",
       "                                            sequence  \\\n",
       "0  A characteristic feature of H2A.W sequences is...   \n",
       "\n",
       "                                        localization  \\\n",
       "0  Genome-wide analysis showed that H2A.W variant...   \n",
       "\n",
       "                                          deposition  \\\n",
       "0  Specific deposition mechanism are not known. C...   \n",
       "\n",
       "                                           structure  \\\n",
       "0  The extended C-terminal tail of H2A.W interact...   \n",
       "\n",
       "                                        interactions disease caveats  \n",
       "0  It was hypothesized that C-terminal tail of H2...    null    null  \n",
       "\n",
       "[1 rows x 21 columns]"
      ]
     },
     "execution_count": 94,
     "metadata": {},
     "output_type": "execute_result"
    }
   ],
   "source": [
    "query = (\n",
    "    \"SELECT * FROM histone h LEFT JOIN histone_description hd \"\n",
    "    \"ON h.description = hd.id \"\n",
    "    f\"WHERE h.id='{prev_name}'\"\n",
    ")\n",
    "cursor.execute(query)\n",
    "pd.DataFrame(cursor.fetchall(), columns=[i[0] for i in cursor.description])"
   ]
  },
  {
   "cell_type": "markdown",
   "id": "7dda793b-9ee7-4e14-9749-2e4d73bd5f45",
   "metadata": {
    "tags": []
   },
   "source": [
    "### Set publications list and save description id"
   ]
  },
  {
   "cell_type": "code",
   "execution_count": 95,
   "id": "f05e94df-03dc-4826-92a4-2c96982f8af9",
   "metadata": {
    "tags": []
   },
   "outputs": [
    {
     "data": {
      "text/plain": [
       "['alvarez-venegas_canonical_2019',\n",
       " 'kawashima_diversification_2015',\n",
       " 'menges_genome-wide_2003',\n",
       " 'yelagandula_histone_2014',\n",
       " 'lorkovic_compartmentalization_2017',\n",
       " 'osakabe_histone_2018']"
      ]
     },
     "execution_count": 95,
     "metadata": {},
     "output_type": "execute_result"
    }
   ],
   "source": [
    "publications = [\n",
    "    \"alvarez-venegas_canonical_2019\",\n",
    "    \"kawashima_diversification_2015\",\n",
    "    \"menges_genome-wide_2003\",\n",
    "    \"yelagandula_histone_2014\",\n",
    "    \"lorkovic_compartmentalization_2017\",\n",
    "    \"osakabe_histone_2018\"\n",
    "]\n",
    "publications"
   ]
  },
  {
   "cell_type": "code",
   "execution_count": 96,
   "id": "b32cd308-36ef-4d45-b044-7332c875490a",
   "metadata": {
    "tags": []
   },
   "outputs": [
    {
     "data": {
      "text/plain": [
       "27"
      ]
     },
     "execution_count": 96,
     "metadata": {},
     "output_type": "execute_result"
    }
   ],
   "source": [
    "query = (\n",
    "    \"SELECT * FROM histone h LEFT JOIN histone_description hd \"\n",
    "    \"ON h.description = hd.id \"\n",
    "    f\"WHERE h.id='{prev_name}'\"\n",
    ")\n",
    "cursor.execute(query)\n",
    "desc_id = pd.DataFrame(cursor.fetchall(), columns=[i[0] for i in cursor.description])[\n",
    "    \"description\"\n",
    "].values[0]\n",
    "desc_id"
   ]
  },
  {
   "cell_type": "markdown",
   "id": "7bcbc2ab-955c-4f8c-a60a-52836f681abe",
   "metadata": {
    "tags": []
   },
   "source": [
    "### Delete relations"
   ]
  },
  {
   "cell_type": "code",
   "execution_count": 97,
   "id": "144353a3-ad5a-415e-a005-9fe82fc7068f",
   "metadata": {
    "tags": []
   },
   "outputs": [
    {
     "name": "stdout",
     "output_type": "stream",
     "text": [
      "UPDATE histone SET description=null WHERE id = 'H2A.W'\n"
     ]
    }
   ],
   "source": [
    "query = f\"UPDATE histone SET description=null WHERE id = '{prev_name}'\" \n",
    "print(query) \n",
    "cursor.execute(query) "
   ]
  },
  {
   "cell_type": "code",
   "execution_count": 98,
   "id": "397e1c86-5399-4637-981c-43715bc3df8a",
   "metadata": {
    "tags": []
   },
   "outputs": [
    {
     "data": {
      "text/html": [
       "<div>\n",
       "<style scoped>\n",
       "    .dataframe tbody tr th:only-of-type {\n",
       "        vertical-align: middle;\n",
       "    }\n",
       "\n",
       "    .dataframe tbody tr th {\n",
       "        vertical-align: top;\n",
       "    }\n",
       "\n",
       "    .dataframe thead th {\n",
       "        text-align: right;\n",
       "    }\n",
       "</style>\n",
       "<table border=\"1\" class=\"dataframe\">\n",
       "  <thead>\n",
       "    <tr style=\"text-align: right;\">\n",
       "      <th></th>\n",
       "      <th>id</th>\n",
       "      <th>level</th>\n",
       "      <th>taxonomic_span</th>\n",
       "      <th>taxonomic_span_id</th>\n",
       "      <th>description</th>\n",
       "      <th>parent</th>\n",
       "      <th>histone_id</th>\n",
       "      <th>publication_id</th>\n",
       "    </tr>\n",
       "  </thead>\n",
       "  <tbody>\n",
       "    <tr>\n",
       "      <th>0</th>\n",
       "      <td>H2A.W</td>\n",
       "      <td>variant_group</td>\n",
       "      <td>Magnoliopsida</td>\n",
       "      <td>3398</td>\n",
       "      <td>None</td>\n",
       "      <td>H2A</td>\n",
       "      <td>None</td>\n",
       "      <td>None</td>\n",
       "    </tr>\n",
       "  </tbody>\n",
       "</table>\n",
       "</div>"
      ],
      "text/plain": [
       "      id          level taxonomic_span taxonomic_span_id description parent  \\\n",
       "0  H2A.W  variant_group  Magnoliopsida              3398        None    H2A   \n",
       "\n",
       "  histone_id publication_id  \n",
       "0       None           None  "
      ]
     },
     "execution_count": 98,
     "metadata": {},
     "output_type": "execute_result"
    }
   ],
   "source": [
    "query = (\n",
    "    \"SELECT * FROM histone h LEFT JOIN histone_has_publication hp \"\n",
    "    \"ON h.id = hp.histone_id \"\n",
    "    f\"WHERE h.id='{prev_name}'\"\n",
    ")\n",
    "cursor.execute(query)\n",
    "pd.DataFrame(cursor.fetchall(), columns=[i[0] for i in cursor.description])"
   ]
  },
  {
   "cell_type": "markdown",
   "id": "cd940955-625d-4c4f-8cb3-53df1f0dd118",
   "metadata": {
    "tags": []
   },
   "source": [
    "### Update name"
   ]
  },
  {
   "cell_type": "code",
   "execution_count": 99,
   "id": "3f9712b8-ec2a-4093-8528-0f06fea79236",
   "metadata": {
    "tags": []
   },
   "outputs": [
    {
     "name": "stdout",
     "output_type": "stream",
     "text": [
      "UPDATE histone SET id='H2A.W_(Magnoliopsida)' WHERE id = 'H2A.W'\n"
     ]
    }
   ],
   "source": [
    "query = f\"UPDATE histone SET id='{new_name}' WHERE id = '{prev_name}'\" \n",
    "print(query) \n",
    "cursor.execute(query) "
   ]
  },
  {
   "cell_type": "code",
   "execution_count": 100,
   "id": "1f631dee-49bf-44e1-99e8-579566451490",
   "metadata": {
    "tags": []
   },
   "outputs": [
    {
     "data": {
      "text/html": [
       "<div>\n",
       "<style scoped>\n",
       "    .dataframe tbody tr th:only-of-type {\n",
       "        vertical-align: middle;\n",
       "    }\n",
       "\n",
       "    .dataframe tbody tr th {\n",
       "        vertical-align: top;\n",
       "    }\n",
       "\n",
       "    .dataframe thead th {\n",
       "        text-align: right;\n",
       "    }\n",
       "</style>\n",
       "<table border=\"1\" class=\"dataframe\">\n",
       "  <thead>\n",
       "    <tr style=\"text-align: right;\">\n",
       "      <th></th>\n",
       "      <th>id</th>\n",
       "      <th>level</th>\n",
       "      <th>taxonomic_span</th>\n",
       "      <th>taxonomic_span_id</th>\n",
       "      <th>description</th>\n",
       "      <th>parent</th>\n",
       "      <th>histone_id</th>\n",
       "      <th>publication_id</th>\n",
       "    </tr>\n",
       "  </thead>\n",
       "  <tbody>\n",
       "    <tr>\n",
       "      <th>0</th>\n",
       "      <td>H2A.W_(Magnoliopsida)</td>\n",
       "      <td>variant_group</td>\n",
       "      <td>Magnoliopsida</td>\n",
       "      <td>3398</td>\n",
       "      <td>None</td>\n",
       "      <td>H2A</td>\n",
       "      <td>None</td>\n",
       "      <td>None</td>\n",
       "    </tr>\n",
       "  </tbody>\n",
       "</table>\n",
       "</div>"
      ],
      "text/plain": [
       "                      id          level taxonomic_span taxonomic_span_id  \\\n",
       "0  H2A.W_(Magnoliopsida)  variant_group  Magnoliopsida              3398   \n",
       "\n",
       "  description parent histone_id publication_id  \n",
       "0        None    H2A       None           None  "
      ]
     },
     "execution_count": 100,
     "metadata": {},
     "output_type": "execute_result"
    }
   ],
   "source": [
    "query = (\n",
    "    \"SELECT * FROM histone h LEFT JOIN histone_has_publication hp \"\n",
    "    \"ON h.id = hp.histone_id \"\n",
    "    f\"WHERE h.id='{new_name}'\"\n",
    ")\n",
    "cursor.execute(query)\n",
    "pd.DataFrame(cursor.fetchall(), columns=[i[0] for i in cursor.description])"
   ]
  },
  {
   "cell_type": "markdown",
   "id": "175dd1e1-681e-4fb2-aade-5081dd9565e6",
   "metadata": {},
   "source": [
    "### Return relations"
   ]
  },
  {
   "cell_type": "code",
   "execution_count": 101,
   "id": "0c893f85-cf8b-4e09-b161-ddeb52fa6022",
   "metadata": {
    "tags": []
   },
   "outputs": [
    {
     "name": "stdout",
     "output_type": "stream",
     "text": [
      "UPDATE histone SET description=27 WHERE id = 'H2A.W_(Magnoliopsida)'\n"
     ]
    }
   ],
   "source": [
    "query = f\"UPDATE histone SET description={desc_id} WHERE id = '{new_name}'\" \n",
    "print(query) \n",
    "cursor.execute(query) "
   ]
  },
  {
   "cell_type": "code",
   "execution_count": 102,
   "id": "20d0700d-ba3b-489f-b032-d66643b6e0eb",
   "metadata": {
    "tags": []
   },
   "outputs": [
    {
     "data": {
      "text/html": [
       "<div>\n",
       "<style scoped>\n",
       "    .dataframe tbody tr th:only-of-type {\n",
       "        vertical-align: middle;\n",
       "    }\n",
       "\n",
       "    .dataframe tbody tr th {\n",
       "        vertical-align: top;\n",
       "    }\n",
       "\n",
       "    .dataframe thead th {\n",
       "        text-align: right;\n",
       "    }\n",
       "</style>\n",
       "<table border=\"1\" class=\"dataframe\">\n",
       "  <thead>\n",
       "    <tr style=\"text-align: right;\">\n",
       "      <th></th>\n",
       "      <th>id</th>\n",
       "      <th>level</th>\n",
       "      <th>taxonomic_span</th>\n",
       "      <th>taxonomic_span_id</th>\n",
       "      <th>description</th>\n",
       "      <th>parent</th>\n",
       "      <th>id</th>\n",
       "      <th>summary</th>\n",
       "      <th>taxonomy</th>\n",
       "      <th>genes</th>\n",
       "      <th>...</th>\n",
       "      <th>expression</th>\n",
       "      <th>knock_out</th>\n",
       "      <th>function</th>\n",
       "      <th>sequence</th>\n",
       "      <th>localization</th>\n",
       "      <th>deposition</th>\n",
       "      <th>structure</th>\n",
       "      <th>interactions</th>\n",
       "      <th>disease</th>\n",
       "      <th>caveats</th>\n",
       "    </tr>\n",
       "  </thead>\n",
       "  <tbody>\n",
       "    <tr>\n",
       "      <th>0</th>\n",
       "      <td>H2A.W_(Magnoliopsida)</td>\n",
       "      <td>variant_group</td>\n",
       "      <td>Magnoliopsida</td>\n",
       "      <td>3398</td>\n",
       "      <td>27</td>\n",
       "      <td>H2A</td>\n",
       "      <td>27</td>\n",
       "      <td>H2A.W is a plant specific variant found in ang...</td>\n",
       "      <td>H2A.W variant is found exclusively in angiospe...</td>\n",
       "      <td>Arabidopsis has three H2A.W genes (HTA6, HTA7,...</td>\n",
       "      <td>...</td>\n",
       "      <td>In Arabidopsis HTA6 and HTA7 were found to hav...</td>\n",
       "      <td>In Arabidopsis single mutants of H2A.W genes d...</td>\n",
       "      <td>H2A.W participates in constitutive heterochrom...</td>\n",
       "      <td>A characteristic feature of H2A.W sequences is...</td>\n",
       "      <td>Genome-wide analysis showed that H2A.W variant...</td>\n",
       "      <td>Specific deposition mechanism are not known. C...</td>\n",
       "      <td>The extended C-terminal tail of H2A.W interact...</td>\n",
       "      <td>It was hypothesized that C-terminal tail of H2...</td>\n",
       "      <td>null</td>\n",
       "      <td>null</td>\n",
       "    </tr>\n",
       "  </tbody>\n",
       "</table>\n",
       "<p>1 rows × 21 columns</p>\n",
       "</div>"
      ],
      "text/plain": [
       "                      id          level taxonomic_span taxonomic_span_id  \\\n",
       "0  H2A.W_(Magnoliopsida)  variant_group  Magnoliopsida              3398   \n",
       "\n",
       "   description parent  id                                            summary  \\\n",
       "0           27    H2A  27  H2A.W is a plant specific variant found in ang...   \n",
       "\n",
       "                                            taxonomy  \\\n",
       "0  H2A.W variant is found exclusively in angiospe...   \n",
       "\n",
       "                                               genes  ...  \\\n",
       "0  Arabidopsis has three H2A.W genes (HTA6, HTA7,...  ...   \n",
       "\n",
       "                                          expression  \\\n",
       "0  In Arabidopsis HTA6 and HTA7 were found to hav...   \n",
       "\n",
       "                                           knock_out  \\\n",
       "0  In Arabidopsis single mutants of H2A.W genes d...   \n",
       "\n",
       "                                            function  \\\n",
       "0  H2A.W participates in constitutive heterochrom...   \n",
       "\n",
       "                                            sequence  \\\n",
       "0  A characteristic feature of H2A.W sequences is...   \n",
       "\n",
       "                                        localization  \\\n",
       "0  Genome-wide analysis showed that H2A.W variant...   \n",
       "\n",
       "                                          deposition  \\\n",
       "0  Specific deposition mechanism are not known. C...   \n",
       "\n",
       "                                           structure  \\\n",
       "0  The extended C-terminal tail of H2A.W interact...   \n",
       "\n",
       "                                        interactions disease caveats  \n",
       "0  It was hypothesized that C-terminal tail of H2...    null    null  \n",
       "\n",
       "[1 rows x 21 columns]"
      ]
     },
     "execution_count": 102,
     "metadata": {},
     "output_type": "execute_result"
    }
   ],
   "source": [
    "query = (\n",
    "    \"SELECT * FROM histone h LEFT JOIN histone_description hd \"\n",
    "    \"ON h.description = hd.id \"\n",
    "    f\"WHERE h.id='{new_name}'\"\n",
    ")\n",
    "cursor.execute(query)\n",
    "pd.DataFrame(cursor.fetchall(), columns=[i[0] for i in cursor.description])"
   ]
  },
  {
   "cell_type": "code",
   "execution_count": 103,
   "id": "25aba032-35b6-4a54-8ff7-f3b6ffd4a8ec",
   "metadata": {
    "tags": []
   },
   "outputs": [
    {
     "data": {
      "text/plain": [
       "'H2A.W_(Magnoliopsida) is a plant specific variant found in angiosperms (flowering plants) having a potentially DNA minor-groove-binding SPKK (sometime reffered to as KSPKKA) motif within its C-terminal tail, it is enriched in heterochromatin and implicated in gene silencing and DNA damage response.'"
      ]
     },
     "execution_count": 103,
     "metadata": {},
     "output_type": "execute_result"
    }
   ],
   "source": [
    "query = (\n",
    "    \"SELECT * FROM histone h LEFT JOIN histone_description hd \"\n",
    "    \"ON h.description = hd.id \"\n",
    "    f\"WHERE h.id='{new_name}'\"\n",
    ")\n",
    "cursor.execute(query)\n",
    "summary = (\n",
    "    pd.DataFrame(cursor.fetchall(), columns=[i[0] for i in cursor.description])[\n",
    "        \"summary\"\n",
    "    ]\n",
    "    .values[0]\n",
    "    .replace(prev_name, new_name, 1)\n",
    ")\n",
    "summary"
   ]
  },
  {
   "cell_type": "code",
   "execution_count": 104,
   "id": "47537c38-24f3-46ae-a8d0-553db5be7d68",
   "metadata": {
    "tags": []
   },
   "outputs": [
    {
     "name": "stdout",
     "output_type": "stream",
     "text": [
      "UPDATE histone_description SET summary='H2A.W_(Magnoliopsida) is a plant specific variant found in angiosperms (flowering plants) having a potentially DNA minor-groove-binding SPKK (sometime reffered to as KSPKKA) motif within its C-terminal tail, it is enriched in heterochromatin and implicated in gene silencing and DNA damage response.' WHERE id = '27'\n"
     ]
    }
   ],
   "source": [
    "query = f\"UPDATE histone_description SET summary='{summary}' WHERE id = '{desc_id}'\" \n",
    "print(query) \n",
    "cursor.execute(query) "
   ]
  },
  {
   "cell_type": "code",
   "execution_count": 105,
   "id": "2c2f3fb9-3636-419c-aaf3-214178c27945",
   "metadata": {
    "tags": []
   },
   "outputs": [
    {
     "data": {
      "text/html": [
       "<div>\n",
       "<style scoped>\n",
       "    .dataframe tbody tr th:only-of-type {\n",
       "        vertical-align: middle;\n",
       "    }\n",
       "\n",
       "    .dataframe tbody tr th {\n",
       "        vertical-align: top;\n",
       "    }\n",
       "\n",
       "    .dataframe thead th {\n",
       "        text-align: right;\n",
       "    }\n",
       "</style>\n",
       "<table border=\"1\" class=\"dataframe\">\n",
       "  <thead>\n",
       "    <tr style=\"text-align: right;\">\n",
       "      <th></th>\n",
       "      <th>id</th>\n",
       "      <th>level</th>\n",
       "      <th>taxonomic_span</th>\n",
       "      <th>taxonomic_span_id</th>\n",
       "      <th>description</th>\n",
       "      <th>parent</th>\n",
       "      <th>id</th>\n",
       "      <th>summary</th>\n",
       "      <th>taxonomy</th>\n",
       "      <th>genes</th>\n",
       "      <th>...</th>\n",
       "      <th>expression</th>\n",
       "      <th>knock_out</th>\n",
       "      <th>function</th>\n",
       "      <th>sequence</th>\n",
       "      <th>localization</th>\n",
       "      <th>deposition</th>\n",
       "      <th>structure</th>\n",
       "      <th>interactions</th>\n",
       "      <th>disease</th>\n",
       "      <th>caveats</th>\n",
       "    </tr>\n",
       "  </thead>\n",
       "  <tbody>\n",
       "    <tr>\n",
       "      <th>0</th>\n",
       "      <td>H2A.W_(Magnoliopsida)</td>\n",
       "      <td>variant_group</td>\n",
       "      <td>Magnoliopsida</td>\n",
       "      <td>3398</td>\n",
       "      <td>27</td>\n",
       "      <td>H2A</td>\n",
       "      <td>27</td>\n",
       "      <td>H2A.W_(Magnoliopsida) is a plant specific vari...</td>\n",
       "      <td>H2A.W variant is found exclusively in angiospe...</td>\n",
       "      <td>Arabidopsis has three H2A.W genes (HTA6, HTA7,...</td>\n",
       "      <td>...</td>\n",
       "      <td>In Arabidopsis HTA6 and HTA7 were found to hav...</td>\n",
       "      <td>In Arabidopsis single mutants of H2A.W genes d...</td>\n",
       "      <td>H2A.W participates in constitutive heterochrom...</td>\n",
       "      <td>A characteristic feature of H2A.W sequences is...</td>\n",
       "      <td>Genome-wide analysis showed that H2A.W variant...</td>\n",
       "      <td>Specific deposition mechanism are not known. C...</td>\n",
       "      <td>The extended C-terminal tail of H2A.W interact...</td>\n",
       "      <td>It was hypothesized that C-terminal tail of H2...</td>\n",
       "      <td>null</td>\n",
       "      <td>null</td>\n",
       "    </tr>\n",
       "  </tbody>\n",
       "</table>\n",
       "<p>1 rows × 21 columns</p>\n",
       "</div>"
      ],
      "text/plain": [
       "                      id          level taxonomic_span taxonomic_span_id  \\\n",
       "0  H2A.W_(Magnoliopsida)  variant_group  Magnoliopsida              3398   \n",
       "\n",
       "   description parent  id                                            summary  \\\n",
       "0           27    H2A  27  H2A.W_(Magnoliopsida) is a plant specific vari...   \n",
       "\n",
       "                                            taxonomy  \\\n",
       "0  H2A.W variant is found exclusively in angiospe...   \n",
       "\n",
       "                                               genes  ...  \\\n",
       "0  Arabidopsis has three H2A.W genes (HTA6, HTA7,...  ...   \n",
       "\n",
       "                                          expression  \\\n",
       "0  In Arabidopsis HTA6 and HTA7 were found to hav...   \n",
       "\n",
       "                                           knock_out  \\\n",
       "0  In Arabidopsis single mutants of H2A.W genes d...   \n",
       "\n",
       "                                            function  \\\n",
       "0  H2A.W participates in constitutive heterochrom...   \n",
       "\n",
       "                                            sequence  \\\n",
       "0  A characteristic feature of H2A.W sequences is...   \n",
       "\n",
       "                                        localization  \\\n",
       "0  Genome-wide analysis showed that H2A.W variant...   \n",
       "\n",
       "                                          deposition  \\\n",
       "0  Specific deposition mechanism are not known. C...   \n",
       "\n",
       "                                           structure  \\\n",
       "0  The extended C-terminal tail of H2A.W interact...   \n",
       "\n",
       "                                        interactions disease caveats  \n",
       "0  It was hypothesized that C-terminal tail of H2...    null    null  \n",
       "\n",
       "[1 rows x 21 columns]"
      ]
     },
     "execution_count": 105,
     "metadata": {},
     "output_type": "execute_result"
    }
   ],
   "source": [
    "query = (\n",
    "    \"SELECT * FROM histone h LEFT JOIN histone_description hd \"\n",
    "    \"ON h.description = hd.id \"\n",
    "    f\"WHERE h.id='{new_name}'\"\n",
    ")\n",
    "cursor.execute(query)\n",
    "pd.DataFrame(cursor.fetchall(), columns=[i[0] for i in cursor.description])"
   ]
  },
  {
   "cell_type": "code",
   "execution_count": 107,
   "id": "2a4172f1-5c71-4ae6-af3f-12c8f6e818a0",
   "metadata": {
    "tags": []
   },
   "outputs": [],
   "source": [
    "query = \"SELECT id FROM publication\"\n",
    "cursor.execute(query)\n",
    "exist_pubs = [i[0] for i in cursor.fetchall()]\n",
    "for pid in publications:\n",
    "    if pid not in exist_pubs:\n",
    "        data_publication = {\n",
    "            \"id\": pid,\n",
    "            \"title\": None,\n",
    "            \"doi\": None,\n",
    "            \"author\": None,\n",
    "            \"year\": None,\n",
    "        }\n",
    "        cursor.execute(add_publication, data_publication)\n",
    "    cursor.execute(add_histone_has_publication, (new_name, pid))"
   ]
  },
  {
   "cell_type": "code",
   "execution_count": 108,
   "id": "e4f6e8ca-c03b-45c1-8ca5-ffe110737eb3",
   "metadata": {
    "tags": []
   },
   "outputs": [
    {
     "data": {
      "text/html": [
       "<div>\n",
       "<style scoped>\n",
       "    .dataframe tbody tr th:only-of-type {\n",
       "        vertical-align: middle;\n",
       "    }\n",
       "\n",
       "    .dataframe tbody tr th {\n",
       "        vertical-align: top;\n",
       "    }\n",
       "\n",
       "    .dataframe thead th {\n",
       "        text-align: right;\n",
       "    }\n",
       "</style>\n",
       "<table border=\"1\" class=\"dataframe\">\n",
       "  <thead>\n",
       "    <tr style=\"text-align: right;\">\n",
       "      <th></th>\n",
       "      <th>id</th>\n",
       "      <th>level</th>\n",
       "      <th>taxonomic_span</th>\n",
       "      <th>taxonomic_span_id</th>\n",
       "      <th>description</th>\n",
       "      <th>parent</th>\n",
       "      <th>histone_id</th>\n",
       "      <th>publication_id</th>\n",
       "    </tr>\n",
       "  </thead>\n",
       "  <tbody>\n",
       "    <tr>\n",
       "      <th>0</th>\n",
       "      <td>H2A.W_(Magnoliopsida)</td>\n",
       "      <td>variant_group</td>\n",
       "      <td>Magnoliopsida</td>\n",
       "      <td>3398</td>\n",
       "      <td>27</td>\n",
       "      <td>H2A</td>\n",
       "      <td>H2A.W_(Magnoliopsida)</td>\n",
       "      <td>alvarez-venegas_canonical_2019</td>\n",
       "    </tr>\n",
       "    <tr>\n",
       "      <th>1</th>\n",
       "      <td>H2A.W_(Magnoliopsida)</td>\n",
       "      <td>variant_group</td>\n",
       "      <td>Magnoliopsida</td>\n",
       "      <td>3398</td>\n",
       "      <td>27</td>\n",
       "      <td>H2A</td>\n",
       "      <td>H2A.W_(Magnoliopsida)</td>\n",
       "      <td>kawashima_diversification_2015</td>\n",
       "    </tr>\n",
       "    <tr>\n",
       "      <th>2</th>\n",
       "      <td>H2A.W_(Magnoliopsida)</td>\n",
       "      <td>variant_group</td>\n",
       "      <td>Magnoliopsida</td>\n",
       "      <td>3398</td>\n",
       "      <td>27</td>\n",
       "      <td>H2A</td>\n",
       "      <td>H2A.W_(Magnoliopsida)</td>\n",
       "      <td>lorkovic_compartmentalization_2017</td>\n",
       "    </tr>\n",
       "    <tr>\n",
       "      <th>3</th>\n",
       "      <td>H2A.W_(Magnoliopsida)</td>\n",
       "      <td>variant_group</td>\n",
       "      <td>Magnoliopsida</td>\n",
       "      <td>3398</td>\n",
       "      <td>27</td>\n",
       "      <td>H2A</td>\n",
       "      <td>H2A.W_(Magnoliopsida)</td>\n",
       "      <td>menges_genome-wide_2003</td>\n",
       "    </tr>\n",
       "    <tr>\n",
       "      <th>4</th>\n",
       "      <td>H2A.W_(Magnoliopsida)</td>\n",
       "      <td>variant_group</td>\n",
       "      <td>Magnoliopsida</td>\n",
       "      <td>3398</td>\n",
       "      <td>27</td>\n",
       "      <td>H2A</td>\n",
       "      <td>H2A.W_(Magnoliopsida)</td>\n",
       "      <td>osakabe_histone_2018</td>\n",
       "    </tr>\n",
       "    <tr>\n",
       "      <th>5</th>\n",
       "      <td>H2A.W_(Magnoliopsida)</td>\n",
       "      <td>variant_group</td>\n",
       "      <td>Magnoliopsida</td>\n",
       "      <td>3398</td>\n",
       "      <td>27</td>\n",
       "      <td>H2A</td>\n",
       "      <td>H2A.W_(Magnoliopsida)</td>\n",
       "      <td>yelagandula_histone_2014</td>\n",
       "    </tr>\n",
       "  </tbody>\n",
       "</table>\n",
       "</div>"
      ],
      "text/plain": [
       "                      id          level taxonomic_span taxonomic_span_id  \\\n",
       "0  H2A.W_(Magnoliopsida)  variant_group  Magnoliopsida              3398   \n",
       "1  H2A.W_(Magnoliopsida)  variant_group  Magnoliopsida              3398   \n",
       "2  H2A.W_(Magnoliopsida)  variant_group  Magnoliopsida              3398   \n",
       "3  H2A.W_(Magnoliopsida)  variant_group  Magnoliopsida              3398   \n",
       "4  H2A.W_(Magnoliopsida)  variant_group  Magnoliopsida              3398   \n",
       "5  H2A.W_(Magnoliopsida)  variant_group  Magnoliopsida              3398   \n",
       "\n",
       "   description parent             histone_id  \\\n",
       "0           27    H2A  H2A.W_(Magnoliopsida)   \n",
       "1           27    H2A  H2A.W_(Magnoliopsida)   \n",
       "2           27    H2A  H2A.W_(Magnoliopsida)   \n",
       "3           27    H2A  H2A.W_(Magnoliopsida)   \n",
       "4           27    H2A  H2A.W_(Magnoliopsida)   \n",
       "5           27    H2A  H2A.W_(Magnoliopsida)   \n",
       "\n",
       "                       publication_id  \n",
       "0      alvarez-venegas_canonical_2019  \n",
       "1      kawashima_diversification_2015  \n",
       "2  lorkovic_compartmentalization_2017  \n",
       "3             menges_genome-wide_2003  \n",
       "4                osakabe_histone_2018  \n",
       "5            yelagandula_histone_2014  "
      ]
     },
     "execution_count": 108,
     "metadata": {},
     "output_type": "execute_result"
    }
   ],
   "source": [
    "query = (\n",
    "    \"SELECT * FROM histone h LEFT JOIN histone_has_publication hp \"\n",
    "    \"ON h.id = hp.histone_id \"\n",
    "    f\"WHERE h.id='{new_name}'\"\n",
    ")\n",
    "cursor.execute(query)\n",
    "pd.DataFrame(cursor.fetchall(), columns=[i[0] for i in cursor.description])"
   ]
  },
  {
   "cell_type": "code",
   "execution_count": 109,
   "id": "7ea18b35-0c32-4df0-b336-f7e74254bfc8",
   "metadata": {
    "tags": []
   },
   "outputs": [],
   "source": [
    "# Make sure data is committed to the database\n",
    "conn.commit()"
   ]
  },
  {
   "cell_type": "markdown",
   "id": "d3c8a219-f508-46e1-936f-7d6040016e39",
   "metadata": {
    "tags": []
   },
   "source": [
    "# Close connections"
   ]
  },
  {
   "cell_type": "code",
   "execution_count": 110,
   "id": "572059d8-54f9-4ec7-a2c6-1c8066552845",
   "metadata": {
    "tags": []
   },
   "outputs": [],
   "source": [
    "cursor.close()\n",
    "conn.close()\n",
    "tunnel.stop()"
   ]
  },
  {
   "cell_type": "code",
   "execution_count": null,
   "id": "790ee020-09af-4dcc-9c36-f1b3f69ea8a7",
   "metadata": {},
   "outputs": [],
   "source": []
  }
 ],
 "metadata": {
  "kernelspec": {
   "display_name": ".conda-histdb_env",
   "language": "python",
   "name": "conda-env-.conda-histdb_env-py"
  },
  "language_info": {
   "codemirror_mode": {
    "name": "ipython",
    "version": 3
   },
   "file_extension": ".py",
   "mimetype": "text/x-python",
   "name": "python",
   "nbconvert_exporter": "python",
   "pygments_lexer": "ipython3",
   "version": "3.8.1"
  }
 },
 "nbformat": 4,
 "nbformat_minor": 5
}
