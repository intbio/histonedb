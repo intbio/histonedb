{
 "cells": [
  {
   "cell_type": "code",
   "execution_count": 1,
   "id": "53d3ec55-7daf-4ade-8add-2830b709dc54",
   "metadata": {
    "tags": []
   },
   "outputs": [],
   "source": [
    "import io\n",
    "\n",
    "import pandas as pd\n",
    "from Bio import Entrez, SeqIO\n",
    "from mysql.connector import connection\n",
    "from sshtunnel import SSHTunnelForwarder\n",
    "\n",
    "# Укажите ваш email (обязательно для использования Entrez)\n",
    "Entrez.email = \"your.email@example.com\""
   ]
  },
  {
   "cell_type": "code",
   "execution_count": 2,
   "id": "608c4bfe-b979-4b60-b2b5-b94eeb679cb5",
   "metadata": {
    "tags": []
   },
   "outputs": [],
   "source": [
    "with open(\"db_curated_server_info.txt\", \"r\") as file:\n",
    "    lines = file.readlines()\n",
    "\n",
    "config = {}\n",
    "\n",
    "for line in lines:\n",
    "    line = line.strip()\n",
    "    if line and not line.startswith(\"#\"):\n",
    "        key, value = line.split(\"=\", 1)\n",
    "        config[key] = value.strip()\n",
    "\n",
    "server_name = config.get(\"server_name\")\n",
    "srever_port = int(config.get(\"srever_port\"))\n",
    "ssh_password = config.get(\"ssh_password\")\n",
    "ssh_username = config.get(\"ssh_username\")\n",
    "db_adress = config.get(\"db_adress\")\n",
    "db_port = int(config.get(\"db_port\"))"
   ]
  },
  {
   "cell_type": "code",
   "execution_count": 3,
   "id": "4e19aa1c-49a3-48c4-b67f-34c94cef608d",
   "metadata": {
    "tags": []
   },
   "outputs": [
    {
     "name": "stdout",
     "output_type": "stream",
     "text": [
      "37879\n"
     ]
    }
   ],
   "source": [
    "tunnel = SSHTunnelForwarder(\n",
    "    (server_name, srever_port),\n",
    "    ssh_password=ssh_password,\n",
    "    ssh_username=ssh_username,\n",
    "    remote_bind_address=(db_adress, db_port),\n",
    ")\n",
    "tunnel.start()\n",
    "print(tunnel.local_bind_port)"
   ]
  },
  {
   "cell_type": "code",
   "execution_count": 4,
   "id": "cef2275b-12d0-48f1-ad3c-ce4cdb9aa267",
   "metadata": {
    "tags": []
   },
   "outputs": [],
   "source": [
    "conn = connection.MySQLConnection(\n",
    "    user=\"db_user\",\n",
    "    password=\"db_password\",\n",
    "    host=\"localhost\",\n",
    "    port=tunnel.local_bind_port,\n",
    "    database=\"db_name\",\n",
    ")\n",
    "cursor = conn.cursor()"
   ]
  },
  {
   "cell_type": "code",
   "execution_count": 5,
   "id": "f589ea8d-8b83-4331-a1cf-b64ed7621801",
   "metadata": {
    "tags": []
   },
   "outputs": [
    {
     "data": {
      "text/plain": [
       "[('alternative_name',),\n",
       " ('histone',),\n",
       " ('histone_description',),\n",
       " ('histone_has_publication',),\n",
       " ('publication',),\n",
       " ('sequence',),\n",
       " ('sequence_has_publication',)]"
      ]
     },
     "execution_count": 5,
     "metadata": {},
     "output_type": "execute_result"
    }
   ],
   "source": [
    "query = \"SHOW TABLES;\"\n",
    "cursor.execute(query)\n",
    "cursor.fetchall()"
   ]
  },
  {
   "cell_type": "code",
   "execution_count": 6,
   "id": "b3dd9ef8-b162-4127-9535-ac7743af8c69",
   "metadata": {
    "tags": []
   },
   "outputs": [],
   "source": [
    "# add_histone = (\n",
    "#     \"INSERT INTO histone \"\n",
    "#     \"(id, level, taxonomic_span, taxonomic_span_id, description, parent) \"\n",
    "#     \"VALUES (%(id)s, %(level)s, %(taxonomic_span)s, %(taxonomic_span_id)s, %(description)s, %(parent)s)\"\n",
    "# )\n",
    "# add_histone_description = (\n",
    "#     \"INSERT INTO histone_description \"\n",
    "#     \"(summary, taxonomy, genes, evolution, expression, knock_out, function, sequence, localization, deposition, structure, interactions, disease, caveats) \"\n",
    "#     \"VALUES (%s, %s, %s, %s, %s, %s, %s, %s, %s, %s, %s, %s, %s, %s)\"\n",
    "# )\n",
    "add_publication = (\n",
    "    \"INSERT INTO publication \"\n",
    "    \"(id, title, doi, author, year) \"\n",
    "    \"VALUES (%(id)s, %(title)s, %(doi)s, %(author)s, %(year)s)\"\n",
    ")\n",
    "# add_sequence = (\n",
    "#     \"INSERT INTO sequence \"\n",
    "#     \"(accession, variant, gi, ncbi_gene_id, hgnc_gene_name, taxonomy_id, organism, phylum, class, taxonomy_group, info, sequence, variant_under_consideration) \"\n",
    "#     \"VALUES (%(accession)s, %(variant)s, %(gi)s, %(ncbi_gene_id)s, %(hgnc_gene_name)s, %(taxonomy_id)s, %(organism)s, %(phylum)s, %(class)s, %(taxonomy_group)s, %(info)s, %(sequence)s, %(variant_under_consideration)s)\"\n",
    "# )\n",
    "# add_sequence_has_publication = (\n",
    "#     \"INSERT INTO sequence_has_publication \"\n",
    "#     \"(sequence_accession, publication_id) \"\n",
    "#     \"VALUES (%s, %s)\"\n",
    "# )\n",
    "add_alternate_names = (\n",
    "    \"INSERT INTO alternative_name \"\n",
    "    \"(name, taxonomy, gene, splice, histone) \"\n",
    "    \"VALUES (%(name)s, %(taxonomy)s, %(gene)s, %(splice)s, %(histone)s)\"\n",
    ")\n",
    "add_histone_has_publication = (\n",
    "    \"INSERT INTO histone_has_publication \"\n",
    "    \"(histone_id, publication_id) \"\n",
    "    \"VALUES (%s, %s)\"\n",
    ")"
   ]
  },
  {
   "cell_type": "code",
   "execution_count": null,
   "id": "c1c3bb0c-180f-4fb2-9cdc-ca928f9808be",
   "metadata": {},
   "outputs": [],
   "source": [
    "def get_taxonomy_data(record):\n",
    "    import re\n",
    "    import sys\n",
    "\n",
    "    taxonomy_data = {}\n",
    "    taxonomy_data[\"organism\"] = record.annotations[\"organism\"]\n",
    "    try:\n",
    "        for a in record.features[0].qualifiers[\"db_xref\"]:\n",
    "            text = re.search(\"(\\S+):(\\S+)\", a).group(1)\n",
    "            taxid = re.search(\"(\\S+):(\\S+)\", a).group(2)\n",
    "            if text == \"taxon\":\n",
    "                print(f\"Fetched taxid from NCBI {taxid}\")\n",
    "                taxonomy_data[\"taxonomy_id\"] = int(taxid)\n",
    "            else:\n",
    "                continue\n",
    "    except:\n",
    "        print(\"!!!!!!Unable to get TAXID for this record setting it to 1\")\n",
    "        taxonomy_data[\"taxonomy_id\"] = 1  # unable to identify\n",
    "\n",
    "    lineage = dict()\n",
    "    for i in range(10):\n",
    "        try:\n",
    "            handle = Entrez.efetch(\n",
    "                id=taxonomy_data[\"taxonomy_id\"], db=\"taxonomy\", retmode=\"xml\"\n",
    "            )\n",
    "            tax_data = Entrez.read(handle)\n",
    "            lineage = {\n",
    "                d[\"Rank\"]: d[\"ScientificName\"]\n",
    "                for d in tax_data[0][\"LineageEx\"]\n",
    "                if d[\"Rank\"] in [\"class\", \"phylum\"]\n",
    "            }\n",
    "            break\n",
    "        except:\n",
    "            print(\n",
    "                \"Unexpected error: {}, Retrying, attempt {}\".format(\n",
    "                    sys.exc_info()[0], i\n",
    "                )\n",
    "            )\n",
    "            if i == 9:\n",
    "                print(\n",
    "                    f\"FATAL ERROR could not get class and phylum from NCBI after 10 attempts for taxid:{taxonomy_data['taxonomy_id']}. Will add None for class and phylum!\"\n",
    "                )\n",
    "            else:\n",
    "                continue\n",
    "    taxonomy_data[\"phylum\"] = lineage.get(\"phylum\", None)\n",
    "    taxonomy_data[\"class\"] = lineage.get(\"class\", None)\n",
    "    if taxonomy_data[\"phylum\"] is not None:\n",
    "        taxonomy_data[\"phylum\"] = str(taxonomy_data[\"phylum\"])\n",
    "    if taxonomy_data[\"class\"] is not None:\n",
    "        taxonomy_data[\"class\"] = str(taxonomy_data[\"class\"])\n",
    "    return taxonomy_data"
   ]
  },
  {
   "cell_type": "code",
   "execution_count": 8,
   "id": "9a15b106-5cf1-40d4-8597-2b11dc30ff33",
   "metadata": {
    "tags": []
   },
   "outputs": [
    {
     "data": {
      "text/html": [
       "<div>\n",
       "<style scoped>\n",
       "    .dataframe tbody tr th:only-of-type {\n",
       "        vertical-align: middle;\n",
       "    }\n",
       "\n",
       "    .dataframe tbody tr th {\n",
       "        vertical-align: top;\n",
       "    }\n",
       "\n",
       "    .dataframe thead th {\n",
       "        text-align: right;\n",
       "    }\n",
       "</style>\n",
       "<table border=\"1\" class=\"dataframe\">\n",
       "  <thead>\n",
       "    <tr style=\"text-align: right;\">\n",
       "      <th></th>\n",
       "      <th>id</th>\n",
       "      <th>name</th>\n",
       "      <th>taxonomy</th>\n",
       "      <th>gene</th>\n",
       "      <th>splice</th>\n",
       "      <th>histone</th>\n",
       "    </tr>\n",
       "  </thead>\n",
       "  <tbody>\n",
       "    <tr>\n",
       "      <th>0</th>\n",
       "      <td>65</td>\n",
       "      <td>cid</td>\n",
       "      <td>None</td>\n",
       "      <td>None</td>\n",
       "      <td>None</td>\n",
       "      <td>cenH3_(Plants)</td>\n",
       "    </tr>\n",
       "  </tbody>\n",
       "</table>\n",
       "</div>"
      ],
      "text/plain": [
       "   id name taxonomy  gene splice         histone\n",
       "0  65  cid     None  None   None  cenH3_(Plants)"
      ]
     },
     "execution_count": 8,
     "metadata": {},
     "output_type": "execute_result"
    }
   ],
   "source": [
    "query = (\n",
    "    \"SELECT * FROM alternative_name \"\n",
    "    \"WHERE name='cid'\"\n",
    ")\n",
    "cursor.execute(query)\n",
    "pd.DataFrame(cursor.fetchall(), columns=[i[0] for i in cursor.description])"
   ]
  },
  {
   "cell_type": "markdown",
   "id": "18f1e9cd-b558-4a68-b487-1060754cbdb7",
   "metadata": {},
   "source": [
    "# Остановилась на этом моменте:\n",
    "\n",
    "- **Название:** Unequal contribution of two paralogous CENH3 variants in cowpea centromere function\n",
    "- **Год:** 2020\n",
    "- **Автор:** Ishii\n",
    "\n",
    "### **Примеры организмов с двумя CENH3-генами**  \n",
    "1. **Растения**:  \n",
    "   - <span style=\"color:green\">*Arabidopsis lyrata* (двоюродный родственник *A. thaliana*) – ссылка **[9]**  </span>\n",
    "   - *Luzula nivea* (ситник белоснежный) – **[???]**  \n",
    "   - <span style=\"color:green\">Ячмень (*Hordeum vulgare*) – **[11,15]**  \n",
    "       - sanei_loss_2011 говорит о наличии двух генов у H. vulgare and H. bulbosum, диверсификация которых вероятно произошла около ~7 mya.\n",
    "       - karimi-ashtiyani_point_2015 исследует значимость мутации L92F в H. vulgare (в ней есть полезная сстылка на статью ishii_differential_2015)</span>\n",
    "   - <span style=\"color:green\">Рожь (*Secale cereale*) – **[14]**  </span>\n",
    "   - <span style=\"color:green\">Горох (*Pisum sativum*) и *Lathyrus sativus* – **[12, 13]**  </span>\n",
    "\n",
    "2. **Животные**:  \n",
    "   - В разделе **Discussion** авторы отмечают, что множественные копии **CENH3/CENP-A** встречаются и у животных:  \n",
    "     - <span style=\"color:green\">*Caenorhabditis elegans* и *C. remanei* (нематоды) – **[28,30]**  </span>\n",
    "     - <span style=\"color:green\">Представители семейства **Bovidae** (коровьи) – **[29]**  </span>\n",
    "     - *Drosophila* (мухи-дрозофилы) – **[31]**  \n",
    "\n",
    "### **Ключевые выводы**  \n",
    "- У этих организмов дупликация **CENH3** не всегда приводит к псевдогенизации одного из генов.  \n",
    "- В некоторых случаях оба гена остаются функциональными, возможно, из-за **субфункционализации** (разделения функций) или **неофункционализации**.  \n",
    "- Например, у *Drosophila* дупликации **CENH3 (Cid)** происходили независимо несколько раз, и разные варианты могут выполнять специализированные роли **[31]**.  \n",
    "\n",
    "### **Ссылки на статьи**\n",
    "Номера в квадратных скобках (например, [9], [31]) соответствуют списку литературы в оригинальной статье. Если вам нужны полные библиографические данные по конкретной ссылке, уточните номер — я могу выписать полное цитирование.  \n",
    "\n",
    "*(Этот ответ объединяет информацию из нескольких разделов статьи, включая Introduction и Discussion.)*"
   ]
  },
  {
   "cell_type": "markdown",
   "id": "c060c047-3e7d-4095-b608-9722031af692",
   "metadata": {},
   "source": [
    "# To Do\n",
    "    \n",
    "## <span style=\"color:black\">Add publicationes for added histone nodes</span>\n",
    "\n",
    "## <span style=\"color:black\">Написать полное описание cenH3</span>\n",
    "\n",
    "**deposition:** Про шапероны\n",
    "\n",
    "**interactions:** Про кинетохору (есть статья с моделями сборки кинетохоры в разных видах живых организмов)\n",
    "\n",
    "**caveats:** Разобраться с тем, как связаны cenH3 с транскрипцией центромерной ДНК [[Diverse mechanisms of centromere specification](https://www.notion.so/Diverse-mechanisms-of-centromere-specification-ff20544bd29e46138b5c696198d7857e?pvs=21) ].\n",
    "\n",
    "1. Экспресия CENP-A происходит в раннюю G1 фазу. Вместе с тем, активно экспрессируется и шаперон HJURP, который встраивает CENP-A в нуклеосомы.\n",
    "2. HJURP важен не просто для вставки CENP-A в нуклеосому, но и для определения локализации центромеры. Это происходит благодаря взаимодействию между HJURP и плотным комплексом, который состоит из белков Mis18α, Mis18β и M18BP1. Можно сказать, что комплекс Mis18 првлекает к себе HJURP, который в свою очередь уже связан с тетрамером CENP-A:H4.\n"
   ]
  },
  {
   "cell_type": "markdown",
   "id": "9e8bad07-ef74-40fd-a93b-e7897df0c591",
   "metadata": {
    "tags": []
   },
   "source": [
    "# Close connections"
   ]
  },
  {
   "cell_type": "code",
   "execution_count": 35,
   "id": "e5673501-5845-491a-bbb9-f5d213721d58",
   "metadata": {
    "tags": []
   },
   "outputs": [],
   "source": [
    "cursor.close()\n",
    "conn.close()\n",
    "tunnel.stop()"
   ]
  }
 ],
 "metadata": {
  "kernelspec": {
   "display_name": ".conda-histdb_env",
   "language": "python",
   "name": "conda-env-.conda-histdb_env-py"
  },
  "language_info": {
   "codemirror_mode": {
    "name": "ipython",
    "version": 3
   },
   "file_extension": ".py",
   "mimetype": "text/x-python",
   "name": "python",
   "nbconvert_exporter": "python",
   "pygments_lexer": "ipython3",
   "version": "3.8.1"
  }
 },
 "nbformat": 4,
 "nbformat_minor": 5
}
