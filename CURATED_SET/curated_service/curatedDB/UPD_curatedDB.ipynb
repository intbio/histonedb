{
 "cells": [
  {
   "cell_type": "code",
   "execution_count": 1,
   "id": "53d3ec55-7daf-4ade-8add-2830b709dc54",
   "metadata": {
    "tags": []
   },
   "outputs": [],
   "source": [
    "import io\n",
    "\n",
    "import pandas as pd\n",
    "from Bio import Entrez, SeqIO\n",
    "from mysql.connector import connection\n",
    "from sshtunnel import SSHTunnelForwarder\n",
    "\n",
    "# Укажите ваш email (обязательно для использования Entrez)\n",
    "Entrez.email = \"your.email@example.com\""
   ]
  },
  {
   "cell_type": "code",
   "execution_count": 2,
   "id": "608c4bfe-b979-4b60-b2b5-b94eeb679cb5",
   "metadata": {
    "tags": []
   },
   "outputs": [],
   "source": [
    "with open(\"db_curated_server_info.txt\", \"r\") as file:\n",
    "    lines = file.readlines()\n",
    "\n",
    "config = {}\n",
    "\n",
    "for line in lines:\n",
    "    line = line.strip()\n",
    "    if line and not line.startswith(\"#\"):\n",
    "        key, value = line.split(\"=\", 1)\n",
    "        config[key] = value.strip()\n",
    "\n",
    "server_name = config.get(\"server_name\")\n",
    "srever_port = int(config.get(\"srever_port\"))\n",
    "ssh_password = config.get(\"ssh_password\")\n",
    "ssh_username = config.get(\"ssh_username\")\n",
    "db_adress = config.get(\"db_adress\")\n",
    "db_port = int(config.get(\"db_port\"))"
   ]
  },
  {
   "cell_type": "code",
   "execution_count": 3,
   "id": "4e19aa1c-49a3-48c4-b67f-34c94cef608d",
   "metadata": {
    "tags": []
   },
   "outputs": [
    {
     "name": "stdout",
     "output_type": "stream",
     "text": [
      "34123\n"
     ]
    }
   ],
   "source": [
    "tunnel = SSHTunnelForwarder(\n",
    "    (server_name, srever_port),\n",
    "    ssh_password=ssh_password,\n",
    "    ssh_username=ssh_username,\n",
    "    remote_bind_address=(db_adress, db_port),\n",
    ")\n",
    "tunnel.start()\n",
    "print(tunnel.local_bind_port)"
   ]
  },
  {
   "cell_type": "code",
   "execution_count": 4,
   "id": "cef2275b-12d0-48f1-ad3c-ce4cdb9aa267",
   "metadata": {
    "tags": []
   },
   "outputs": [],
   "source": [
    "conn = connection.MySQLConnection(\n",
    "    user=\"db_user\",\n",
    "    password=\"db_password\",\n",
    "    host=\"localhost\",\n",
    "    port=tunnel.local_bind_port,\n",
    "    database=\"db_name\",\n",
    ")\n",
    "cursor = conn.cursor()"
   ]
  },
  {
   "cell_type": "code",
   "execution_count": 5,
   "id": "f589ea8d-8b83-4331-a1cf-b64ed7621801",
   "metadata": {
    "tags": []
   },
   "outputs": [
    {
     "data": {
      "text/plain": [
       "[('alternative_name',),\n",
       " ('histone',),\n",
       " ('histone_description',),\n",
       " ('histone_has_publication',),\n",
       " ('publication',),\n",
       " ('sequence',),\n",
       " ('sequence_has_publication',)]"
      ]
     },
     "execution_count": 5,
     "metadata": {},
     "output_type": "execute_result"
    }
   ],
   "source": [
    "query = \"SHOW TABLES;\"\n",
    "cursor.execute(query)\n",
    "cursor.fetchall()"
   ]
  },
  {
   "cell_type": "code",
   "execution_count": 6,
   "id": "b3dd9ef8-b162-4127-9535-ac7743af8c69",
   "metadata": {
    "tags": []
   },
   "outputs": [],
   "source": [
    "# add_histone = (\n",
    "#     \"INSERT INTO histone \"\n",
    "#     \"(id, level, taxonomic_span, taxonomic_span_id, description, parent) \"\n",
    "#     \"VALUES (%(id)s, %(level)s, %(taxonomic_span)s, %(taxonomic_span_id)s, %(description)s, %(parent)s)\"\n",
    "# )\n",
    "# add_histone_description = (\n",
    "#     \"INSERT INTO histone_description \"\n",
    "#     \"(summary, taxonomy, genes, evolution, expression, knock_out, function, sequence, localization, deposition, structure, interactions, disease, caveats) \"\n",
    "#     \"VALUES (%s, %s, %s, %s, %s, %s, %s, %s, %s, %s, %s, %s, %s, %s)\"\n",
    "# )\n",
    "add_publication = (\n",
    "    \"INSERT INTO publication \"\n",
    "    \"(id, title, doi, author, year) \"\n",
    "    \"VALUES (%(id)s, %(title)s, %(doi)s, %(author)s, %(year)s)\"\n",
    ")\n",
    "# add_sequence = (\n",
    "#     \"INSERT INTO sequence \"\n",
    "#     \"(accession, variant, gi, ncbi_gene_id, hgnc_gene_name, taxonomy_id, organism, phylum, class, taxonomy_group, info, sequence, variant_under_consideration) \"\n",
    "#     \"VALUES (%(accession)s, %(variant)s, %(gi)s, %(ncbi_gene_id)s, %(hgnc_gene_name)s, %(taxonomy_id)s, %(organism)s, %(phylum)s, %(class)s, %(taxonomy_group)s, %(info)s, %(sequence)s, %(variant_under_consideration)s)\"\n",
    "# )\n",
    "# add_sequence_has_publication = (\n",
    "#     \"INSERT INTO sequence_has_publication \"\n",
    "#     \"(sequence_accession, publication_id) \"\n",
    "#     \"VALUES (%s, %s)\"\n",
    "# )\n",
    "add_alternate_names = (\n",
    "    \"INSERT INTO alternative_name \"\n",
    "    \"(name, taxonomy, gene, splice, histone) \"\n",
    "    \"VALUES (%(name)s, %(taxonomy)s, %(gene)s, %(splice)s, %(histone)s)\"\n",
    ")\n",
    "add_histone_has_publication = (\n",
    "    \"INSERT INTO histone_has_publication \"\n",
    "    \"(histone_id, publication_id) \"\n",
    "    \"VALUES (%s, %s)\"\n",
    ")"
   ]
  },
  {
   "cell_type": "markdown",
   "id": "c060c047-3e7d-4095-b608-9722031af692",
   "metadata": {},
   "source": [
    "# To Do\n",
    "\n",
    "1. Add to description of cenH3_(Plants):\n",
    "\n",
    "    ```\n",
    "    While most diploid eukaryotes and flowering plants maintain only one CENH3 gene copy (even after whole-genome duplications), some diploid species like Arabidopsis lyrata, barley, rye, pea, and related legumes retain two functional CENH3 homologs [ishii_unequal_2020].\n",
    "    ```\n",
    "\n",
    "2. Add node cenH3_(Vigna_unguiculata) before children nodes cenH3.1_(Vigna_unguiculata) and cenH3.2_(Vigna_unguiculata).\n",
    "3. Add node cenH3_(Wheat) after cenH3_(Plants).\n",
    "4. Add two children nodes for cenH3_(Triticeae): cenH3.1_(Triticeae) and cenH3.1_(Triticeae)\n",
    "5. Add descriptions and publication for new nodes [yuan_characterization_2015]\n",
    "6. Add sequences for cenH3.1_(Triticeae) and cenH3.1_(Triticeae)\n",
    "\n",
    "\n",
    "*See more in DeepSeek \"Отличия αCENH3 и βCENH3 в пшенице\"*"
   ]
  },
  {
   "cell_type": "markdown",
   "id": "7ea443fb-fe7f-4932-a1fa-464f7d70b266",
   "metadata": {},
   "source": [
    "Вот структурированная выгрузка ключевых выводов из нашего обсуждения статьи **Yuan et al. (2015)** о генах *αCENH3* и *βCENH3* у пшеницы и родственных видов:\n",
    "\n",
    "---\n",
    "\n",
    "### **1. Основные открытия статьи [yuan_characterization_2015]**  \n",
    "- **Два гена *CENH3*** (*α* и *β*) обнаружены у:  \n",
    "  - Всех изученных видов *Triticum* (диплоиды, тетраплоиды, гексаплоиды).  \n",
    "  - Диплоидных предков (*Aegilops speltoides* (SS), *Ae. tauschii* (DD)).  \n",
    "  - Ячменя (*Hordeum vulgare*).  \n",
    "- **Функциональные различия**:  \n",
    "  - *αCENH3* критичен для митоза и развития растений. Подавление экспрессии *αCENH3* приводит к сильной карликовости и ослаблению корневой системы, что указывает на его критическую роль в развитии растения.\n",
    "  - *βCENH3* важен для репродукции и адаптации полиплоидов. Подавление *βCENH3* вызывает менее выраженные фенотипические изменения, но снижает репродуктивную способность, что предполагает его специализированную роль в репродуктивном развитии.\n",
    "\n",
    "**Цитата**:  \n",
    "> *\"Plants inoculated with BSMV:αCENH3 were extremely dwarfed [...] while BSMV:βCENH3-treated plants produced very few seeds.\"*  \n",
    "\n",
    "---\n",
    "\n",
    "### **2. Таксономические уточнения**  \n",
    "- **Не все злаки имеют два гена**:  \n",
    "  - Один ген: рис (*Oryza*), кукуруза (*Zea*), сорго (*Sorghum*).  \n",
    "  - Два гена: пшеница (*Triticum*), ячмень (*Hordeum*), *Aegilops*.  \n",
    "- **Aegilops ≠ пшеница**:  \n",
    "  - *Ae. speltoides* (SS) — дикий предок B-генома пшеницы, но относится к другому роду.  \n",
    "\n",
    "**Цитата**:  \n",
    "> *\"Tetraploid wheat evolved through hybridization between Triticum (AA) and Aegilops (SS).\"*  \n",
    "\n",
    "---\n",
    "\n",
    "### **3. Методология**  \n",
    "- **Экспериментальное открытие *βCENH3***:  \n",
    "  - ПЦР с праймерами P1/P2 на консервативном участке CATD.  \n",
    "  - Не биоинформатика (BLAST выявил только *αCENH3*).  \n",
    "- **Подтверждение**:  \n",
    "  - Секвенирование, FISH, VIGS, филогенетический анализ.  \n",
    "\n",
    "**Цитата**:  \n",
    "> *\"Using primers P1 and P2, we identified a second CENH3, named βCENH3.\"*  \n",
    "\n",
    "---\n",
    "\n",
    "### **4. Ограничения и открытые вопросы**  \n",
    "- **Не все *Triticinae* изучены**:  \n",
    "  - Нет данных по родам *Ambylopyrum*, *Henrardia* и др.  \n",
    "- **Причины дупликации**:  \n",
    "  - Предполагается общий предок *Pooideae* (~13 млн лет назад), но механизмы не ясны.  \n",
    "\n",
    "---\n",
    "\n",
    "### **5. Ключевые цитаты**  \n",
    "1. О роли *βCENH3*:  \n",
    "   > *\"βCENH3 is under positive selection in cultivated tetraploids, suggesting adaptive evolution.\"*  \n",
    "2. О локализации:  \n",
    "   > *\"αCENH3 is present at all mitotic stages, while βCENH3 is detected mainly in interphase.\"*  \n"
   ]
  },
  {
   "cell_type": "markdown",
   "id": "9e8bad07-ef74-40fd-a93b-e7897df0c591",
   "metadata": {
    "tags": []
   },
   "source": [
    "# Close connections"
   ]
  },
  {
   "cell_type": "code",
   "execution_count": 35,
   "id": "e5673501-5845-491a-bbb9-f5d213721d58",
   "metadata": {
    "tags": []
   },
   "outputs": [],
   "source": [
    "cursor.close()\n",
    "conn.close()\n",
    "tunnel.stop()"
   ]
  }
 ],
 "metadata": {
  "kernelspec": {
   "display_name": ".conda-histdb_env",
   "language": "python",
   "name": "conda-env-.conda-histdb_env-py"
  },
  "language_info": {
   "codemirror_mode": {
    "name": "ipython",
    "version": 3
   },
   "file_extension": ".py",
   "mimetype": "text/x-python",
   "name": "python",
   "nbconvert_exporter": "python",
   "pygments_lexer": "ipython3",
   "version": "3.8.1"
  }
 },
 "nbformat": 4,
 "nbformat_minor": 5
}
