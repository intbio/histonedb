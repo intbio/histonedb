{
 "cells": [
  {
   "cell_type": "code",
   "execution_count": 2,
   "id": "53d3ec55-7daf-4ade-8add-2830b709dc54",
   "metadata": {
    "tags": []
   },
   "outputs": [],
   "source": [
    "import io\n",
    "\n",
    "import pandas as pd\n",
    "from Bio import Entrez, SeqIO\n",
    "from mysql.connector import connection\n",
    "from sshtunnel import SSHTunnelForwarder\n",
    "\n",
    "# Укажите ваш email (обязательно для использования Entrez)\n",
    "Entrez.email = \"your.email@example.com\""
   ]
  },
  {
   "cell_type": "code",
   "execution_count": 5,
   "id": "608c4bfe-b979-4b60-b2b5-b94eeb679cb5",
   "metadata": {
    "tags": []
   },
   "outputs": [],
   "source": [
    "with open(\"db_curated_server_info.txt\", \"r\") as file:\n",
    "    lines = file.readlines()\n",
    "\n",
    "config = {}\n",
    "\n",
    "for line in lines:\n",
    "    line = line.strip()\n",
    "    if line and not line.startswith(\"#\"):\n",
    "        key, value = line.split(\"=\", 1)\n",
    "        config[key] = value.strip()\n",
    "\n",
    "server_name = config.get(\"server_name\")\n",
    "srever_port = int(config.get(\"srever_port\"))\n",
    "ssh_password = config.get(\"ssh_password\")\n",
    "ssh_username = config.get(\"ssh_username\")\n",
    "db_adress = config.get(\"db_adress\")\n",
    "db_port = int(config.get(\"db_port\"))"
   ]
  },
  {
   "cell_type": "code",
   "execution_count": 6,
   "id": "4e19aa1c-49a3-48c4-b67f-34c94cef608d",
   "metadata": {
    "tags": []
   },
   "outputs": [
    {
     "name": "stdout",
     "output_type": "stream",
     "text": [
      "37591\n"
     ]
    }
   ],
   "source": [
    "tunnel = SSHTunnelForwarder(\n",
    "    (server_name, srever_port),\n",
    "    ssh_password=ssh_password,\n",
    "    ssh_username=ssh_username,\n",
    "    remote_bind_address=(db_adress, db_port),\n",
    ")\n",
    "tunnel.start()\n",
    "print(tunnel.local_bind_port)"
   ]
  },
  {
   "cell_type": "code",
   "execution_count": 7,
   "id": "cef2275b-12d0-48f1-ad3c-ce4cdb9aa267",
   "metadata": {
    "tags": []
   },
   "outputs": [],
   "source": [
    "conn = connection.MySQLConnection(\n",
    "    user=\"db_user\",\n",
    "    password=\"db_password\",\n",
    "    host=\"localhost\",\n",
    "    port=tunnel.local_bind_port,\n",
    "    database=\"db_name\",\n",
    ")\n",
    "cursor = conn.cursor()"
   ]
  },
  {
   "cell_type": "code",
   "execution_count": 8,
   "id": "f589ea8d-8b83-4331-a1cf-b64ed7621801",
   "metadata": {
    "tags": []
   },
   "outputs": [
    {
     "data": {
      "text/plain": [
       "[('alternative_name',),\n",
       " ('histone',),\n",
       " ('histone_description',),\n",
       " ('histone_has_publication',),\n",
       " ('publication',),\n",
       " ('sequence',),\n",
       " ('sequence_has_publication',)]"
      ]
     },
     "execution_count": 8,
     "metadata": {},
     "output_type": "execute_result"
    }
   ],
   "source": [
    "query = \"SHOW TABLES;\"\n",
    "cursor.execute(query)\n",
    "cursor.fetchall()"
   ]
  },
  {
   "cell_type": "code",
   "execution_count": 9,
   "id": "b3dd9ef8-b162-4127-9535-ac7743af8c69",
   "metadata": {
    "tags": []
   },
   "outputs": [],
   "source": [
    "# add_histone = (\n",
    "#     \"INSERT INTO histone \"\n",
    "#     \"(id, level, taxonomic_span, taxonomic_span_id, description, parent) \"\n",
    "#     \"VALUES (%(id)s, %(level)s, %(taxonomic_span)s, %(taxonomic_span_id)s, %(description)s, %(parent)s)\"\n",
    "# )\n",
    "# add_histone_description = (\n",
    "#     \"INSERT INTO histone_description \"\n",
    "#     \"(summary, taxonomy, genes, evolution, expression, knock_out, function, sequence, localization, deposition, structure, interactions, disease, caveats) \"\n",
    "#     \"VALUES (%s, %s, %s, %s, %s, %s, %s, %s, %s, %s, %s, %s, %s, %s)\"\n",
    "# )\n",
    "add_publication = (\n",
    "    \"INSERT INTO publication \"\n",
    "    \"(id, title, doi, author, year) \"\n",
    "    \"VALUES (%(id)s, %(title)s, %(doi)s, %(author)s, %(year)s)\"\n",
    ")\n",
    "# add_sequence = (\n",
    "#     \"INSERT INTO sequence \"\n",
    "#     \"(accession, variant, gi, ncbi_gene_id, hgnc_gene_name, taxonomy_id, organism, phylum, class, taxonomy_group, info, sequence, variant_under_consideration) \"\n",
    "#     \"VALUES (%(accession)s, %(variant)s, %(gi)s, %(ncbi_gene_id)s, %(hgnc_gene_name)s, %(taxonomy_id)s, %(organism)s, %(phylum)s, %(class)s, %(taxonomy_group)s, %(info)s, %(sequence)s, %(variant_under_consideration)s)\"\n",
    "# )\n",
    "# add_sequence_has_publication = (\n",
    "#     \"INSERT INTO sequence_has_publication \"\n",
    "#     \"(sequence_accession, publication_id) \"\n",
    "#     \"VALUES (%s, %s)\"\n",
    "# )\n",
    "add_alternate_names = (\n",
    "    \"INSERT INTO alternative_name \"\n",
    "    \"(name, taxonomy, gene, splice, histone) \"\n",
    "    \"VALUES (%(name)s, %(taxonomy)s, %(gene)s, %(splice)s, %(histone)s)\"\n",
    ")\n",
    "add_histone_has_publication = (\n",
    "    \"INSERT INTO histone_has_publication \"\n",
    "    \"(histone_id, publication_id) \"\n",
    "    \"VALUES (%s, %s)\"\n",
    ")"
   ]
  },
  {
   "cell_type": "code",
   "execution_count": 10,
   "id": "c1c3bb0c-180f-4fb2-9cdc-ca928f9808be",
   "metadata": {},
   "outputs": [],
   "source": [
    "def get_taxonomy_data(record):\n",
    "    import re\n",
    "    import sys\n",
    "\n",
    "    taxonomy_data = {}\n",
    "    taxonomy_data[\"organism\"] = record.annotations[\"organism\"]\n",
    "    try:\n",
    "        for a in record.features[0].qualifiers[\"db_xref\"]:\n",
    "            text = re.search(\"(\\S+):(\\S+)\", a).group(1)\n",
    "            taxid = re.search(\"(\\S+):(\\S+)\", a).group(2)\n",
    "            if text == \"taxon\":\n",
    "                print(f\"Fetched taxid from NCBI {taxid}\")\n",
    "                taxonomy_data[\"taxonomy_id\"] = int(taxid)\n",
    "            else:\n",
    "                continue\n",
    "    except:\n",
    "        print(\"!!!!!!Unable to get TAXID for this record setting it to 1\")\n",
    "        taxonomy_data[\"taxonomy_id\"] = 1  # unable to identify\n",
    "\n",
    "    lineage = dict()\n",
    "    for i in range(10):\n",
    "        try:\n",
    "            handle = Entrez.efetch(\n",
    "                id=taxonomy_data[\"taxonomy_id\"], db=\"taxonomy\", retmode=\"xml\"\n",
    "            )\n",
    "            tax_data = Entrez.read(handle)\n",
    "            lineage = {\n",
    "                d[\"Rank\"]: d[\"ScientificName\"]\n",
    "                for d in tax_data[0][\"LineageEx\"]\n",
    "                if d[\"Rank\"] in [\"class\", \"phylum\"]\n",
    "            }\n",
    "            break\n",
    "        except:\n",
    "            print(\n",
    "                \"Unexpected error: {}, Retrying, attempt {}\".format(\n",
    "                    sys.exc_info()[0], i\n",
    "                )\n",
    "            )\n",
    "            if i == 9:\n",
    "                print(\n",
    "                    f\"FATAL ERROR could not get class and phylum from NCBI after 10 attempts for taxid:{taxonomy_data['taxonomy_id']}. Will add None for class and phylum!\"\n",
    "                )\n",
    "            else:\n",
    "                continue\n",
    "    taxonomy_data[\"phylum\"] = lineage.get(\"phylum\", None)\n",
    "    taxonomy_data[\"class\"] = lineage.get(\"class\", None)\n",
    "    if taxonomy_data[\"phylum\"] is not None:\n",
    "        taxonomy_data[\"phylum\"] = str(taxonomy_data[\"phylum\"])\n",
    "    if taxonomy_data[\"class\"] is not None:\n",
    "        taxonomy_data[\"class\"] = str(taxonomy_data[\"class\"])\n",
    "    return taxonomy_data"
   ]
  },
  {
   "cell_type": "code",
   "execution_count": 8,
   "id": "9a15b106-5cf1-40d4-8597-2b11dc30ff33",
   "metadata": {
    "tags": []
   },
   "outputs": [
    {
     "data": {
      "text/html": [
       "<div>\n",
       "<style scoped>\n",
       "    .dataframe tbody tr th:only-of-type {\n",
       "        vertical-align: middle;\n",
       "    }\n",
       "\n",
       "    .dataframe tbody tr th {\n",
       "        vertical-align: top;\n",
       "    }\n",
       "\n",
       "    .dataframe thead th {\n",
       "        text-align: right;\n",
       "    }\n",
       "</style>\n",
       "<table border=\"1\" class=\"dataframe\">\n",
       "  <thead>\n",
       "    <tr style=\"text-align: right;\">\n",
       "      <th></th>\n",
       "      <th>id</th>\n",
       "      <th>name</th>\n",
       "      <th>taxonomy</th>\n",
       "      <th>gene</th>\n",
       "      <th>splice</th>\n",
       "      <th>histone</th>\n",
       "    </tr>\n",
       "  </thead>\n",
       "  <tbody>\n",
       "    <tr>\n",
       "      <th>0</th>\n",
       "      <td>65</td>\n",
       "      <td>cid</td>\n",
       "      <td>None</td>\n",
       "      <td>None</td>\n",
       "      <td>None</td>\n",
       "      <td>cenH3_(Plants)</td>\n",
       "    </tr>\n",
       "  </tbody>\n",
       "</table>\n",
       "</div>"
      ],
      "text/plain": [
       "   id name taxonomy  gene splice         histone\n",
       "0  65  cid     None  None   None  cenH3_(Plants)"
      ]
     },
     "execution_count": 8,
     "metadata": {},
     "output_type": "execute_result"
    }
   ],
   "source": [
    "query = \"SELECT * FROM alternative_name \" \"WHERE name='cid'\"\n",
    "cursor.execute(query)\n",
    "pd.DataFrame(cursor.fetchall(), columns=[i[0] for i in cursor.description])"
   ]
  },
  {
   "cell_type": "code",
   "execution_count": 14,
   "id": "acf1cf14-5f3d-475a-a62d-592198b0dbe9",
   "metadata": {
    "tags": []
   },
   "outputs": [
    {
     "data": {
      "text/html": [
       "<div>\n",
       "<style scoped>\n",
       "    .dataframe tbody tr th:only-of-type {\n",
       "        vertical-align: middle;\n",
       "    }\n",
       "\n",
       "    .dataframe tbody tr th {\n",
       "        vertical-align: top;\n",
       "    }\n",
       "\n",
       "    .dataframe thead th {\n",
       "        text-align: right;\n",
       "    }\n",
       "</style>\n",
       "<table border=\"1\" class=\"dataframe\">\n",
       "  <thead>\n",
       "    <tr style=\"text-align: right;\">\n",
       "      <th></th>\n",
       "      <th>id</th>\n",
       "      <th>title</th>\n",
       "      <th>doi</th>\n",
       "      <th>author</th>\n",
       "      <th>year</th>\n",
       "      <th>pubmed_id</th>\n",
       "    </tr>\n",
       "  </thead>\n",
       "  <tbody>\n",
       "  </tbody>\n",
       "</table>\n",
       "</div>"
      ],
      "text/plain": [
       "Empty DataFrame\n",
       "Columns: [id, title, doi, author, year, pubmed_id]\n",
       "Index: []"
      ]
     },
     "execution_count": 14,
     "metadata": {},
     "output_type": "execute_result"
    }
   ],
   "source": [
    "query = \"SELECT * FROM publication \"\n",
    "cursor.execute(query)\n",
    "df = pd.DataFrame(cursor.fetchall(), columns=[i[0] for i in cursor.description])\n",
    "df[df[\"id\"].str.startswith(\"hara\")]"
   ]
  },
  {
   "cell_type": "code",
   "execution_count": 23,
   "id": "fe3a730d-c2fc-4212-b77a-5d4844d8059c",
   "metadata": {
    "tags": []
   },
   "outputs": [
    {
     "data": {
      "text/html": [
       "<div>\n",
       "<style scoped>\n",
       "    .dataframe tbody tr th:only-of-type {\n",
       "        vertical-align: middle;\n",
       "    }\n",
       "\n",
       "    .dataframe tbody tr th {\n",
       "        vertical-align: top;\n",
       "    }\n",
       "\n",
       "    .dataframe thead th {\n",
       "        text-align: right;\n",
       "    }\n",
       "</style>\n",
       "<table border=\"1\" class=\"dataframe\">\n",
       "  <thead>\n",
       "    <tr style=\"text-align: right;\">\n",
       "      <th></th>\n",
       "      <th>id</th>\n",
       "      <th>level</th>\n",
       "      <th>taxonomic_span</th>\n",
       "      <th>taxonomic_span_id</th>\n",
       "      <th>description</th>\n",
       "      <th>parent</th>\n",
       "      <th>id</th>\n",
       "      <th>summary</th>\n",
       "      <th>taxonomy</th>\n",
       "      <th>genes</th>\n",
       "      <th>...</th>\n",
       "      <th>knock_out</th>\n",
       "      <th>function</th>\n",
       "      <th>sequence</th>\n",
       "      <th>localization</th>\n",
       "      <th>deposition</th>\n",
       "      <th>structure</th>\n",
       "      <th>interactions</th>\n",
       "      <th>disease</th>\n",
       "      <th>caveats</th>\n",
       "      <th>relations</th>\n",
       "    </tr>\n",
       "  </thead>\n",
       "  <tbody>\n",
       "    <tr>\n",
       "      <th>0</th>\n",
       "      <td>cenH3_(Animals)</td>\n",
       "      <td>variant</td>\n",
       "      <td>Homo sapiens</td>\n",
       "      <td>9606</td>\n",
       "      <td>94</td>\n",
       "      <td>cenH3</td>\n",
       "      <td>94</td>\n",
       "      <td>cenH3_(Animals) is a centromere-specific histo...</td>\n",
       "      <td>null</td>\n",
       "      <td>CENP-A nucleosomes are essential for chromosom...</td>\n",
       "      <td>...</td>\n",
       "      <td>null</td>\n",
       "      <td>The nematodes Caenorhabditis elegans and C. re...</td>\n",
       "      <td>null</td>\n",
       "      <td>null</td>\n",
       "      <td>null</td>\n",
       "      <td>null</td>\n",
       "      <td>null</td>\n",
       "      <td>null</td>\n",
       "      <td>null</td>\n",
       "      <td>None</td>\n",
       "    </tr>\n",
       "  </tbody>\n",
       "</table>\n",
       "<p>1 rows × 22 columns</p>\n",
       "</div>"
      ],
      "text/plain": [
       "                id    level taxonomic_span taxonomic_span_id  description  \\\n",
       "0  cenH3_(Animals)  variant   Homo sapiens              9606           94   \n",
       "\n",
       "  parent  id                                            summary taxonomy  \\\n",
       "0  cenH3  94  cenH3_(Animals) is a centromere-specific histo...     null   \n",
       "\n",
       "                                               genes  ... knock_out  \\\n",
       "0  CENP-A nucleosomes are essential for chromosom...  ...      null   \n",
       "\n",
       "                                            function sequence localization  \\\n",
       "0  The nematodes Caenorhabditis elegans and C. re...     null         null   \n",
       "\n",
       "  deposition structure interactions disease caveats relations  \n",
       "0       null      null         null    null    null      None  \n",
       "\n",
       "[1 rows x 22 columns]"
      ]
     },
     "execution_count": 23,
     "metadata": {},
     "output_type": "execute_result"
    }
   ],
   "source": [
    "query = (\n",
    "    \"SELECT * FROM histone as h LEFT JOIN histone_description as hd \"\n",
    "    \"ON h.description = hd.id \"\n",
    "    \"WHERE h.id = 'cenH3_(Animals)' \"\n",
    ")\n",
    "cursor.execute(query)\n",
    "df = pd.DataFrame(cursor.fetchall(), columns=[i[0] for i in cursor.description])\n",
    "df"
   ]
  },
  {
   "cell_type": "code",
   "execution_count": 28,
   "id": "fb49b9fa-f514-49d9-a8ee-dc9f9283c76b",
   "metadata": {
    "tags": []
   },
   "outputs": [
    {
     "data": {
      "text/plain": [
       "'CENP-A nucleosomes are essential for chromosome segregation. A functional kinetochore interacts with active centromeric chromatin reached with CENP-A to form the mitotic spindle. Notably, in certain holocentric organisms, CENP-A appears dispensable for meiotic chromosome segregation while remaining essential for mitosis. As demonstrated in Caenorhabditis elegans, CENP-A loading is specifically eliminated following meiosis I, and RNAi-mediated depletion of CENP-A during meiosis fails to disrupt proper chromosome segregation [monen_differential_2005]. This stands in striking contrast to mitotic divisions, where CENP-A is absolutely required for kinetochore assembly and faithful chromosome segregation. Moreover, C. elegans and C. remanei possess a second cenH3 histone gene that likely performs specialized functions distinct from canonical CENP-A roles [monen_separase_2015]. For more detailed information see the \"gene\" section.'"
      ]
     },
     "execution_count": 28,
     "metadata": {},
     "output_type": "execute_result"
    }
   ],
   "source": [
    "df[\"genes\"].values[0]"
   ]
  },
  {
   "cell_type": "code",
   "execution_count": 70,
   "id": "5fb70ce5-8cd8-4602-be43-096516d085ec",
   "metadata": {
    "tags": []
   },
   "outputs": [],
   "source": [
    "query = \"SELECT * FROM histone_description \"\n",
    "cursor.execute(query)\n",
    "df = pd.DataFrame(cursor.fetchall(), columns=[i[0] for i in cursor.description])\n",
    "# df\n",
    "for s in df.apply(lambda row: ''.join(row.astype(str)), axis=1):\n",
    "    if \"henikoff_heterochromatic_2000\" in s:\n",
    "        print(s)\n",
    "        print(\"---------------\")"
   ]
  },
  {
   "cell_type": "code",
   "execution_count": 41,
   "id": "400c2338-9a32-4efa-9e1a-e582d4424c20",
   "metadata": {
    "tags": []
   },
   "outputs": [
    {
     "data": {
      "text/html": [
       "<div>\n",
       "<style scoped>\n",
       "    .dataframe tbody tr th:only-of-type {\n",
       "        vertical-align: middle;\n",
       "    }\n",
       "\n",
       "    .dataframe tbody tr th {\n",
       "        vertical-align: top;\n",
       "    }\n",
       "\n",
       "    .dataframe thead th {\n",
       "        text-align: right;\n",
       "    }\n",
       "</style>\n",
       "<table border=\"1\" class=\"dataframe\">\n",
       "  <thead>\n",
       "    <tr style=\"text-align: right;\">\n",
       "      <th></th>\n",
       "      <th>Tables_in_db_name</th>\n",
       "    </tr>\n",
       "  </thead>\n",
       "  <tbody>\n",
       "    <tr>\n",
       "      <th>0</th>\n",
       "      <td>alternative_name</td>\n",
       "    </tr>\n",
       "    <tr>\n",
       "      <th>1</th>\n",
       "      <td>histone</td>\n",
       "    </tr>\n",
       "    <tr>\n",
       "      <th>2</th>\n",
       "      <td>histone_description</td>\n",
       "    </tr>\n",
       "    <tr>\n",
       "      <th>3</th>\n",
       "      <td>histone_has_publication</td>\n",
       "    </tr>\n",
       "    <tr>\n",
       "      <th>4</th>\n",
       "      <td>publication</td>\n",
       "    </tr>\n",
       "    <tr>\n",
       "      <th>5</th>\n",
       "      <td>sequence</td>\n",
       "    </tr>\n",
       "    <tr>\n",
       "      <th>6</th>\n",
       "      <td>sequence_has_publication</td>\n",
       "    </tr>\n",
       "  </tbody>\n",
       "</table>\n",
       "</div>"
      ],
      "text/plain": [
       "          Tables_in_db_name\n",
       "0          alternative_name\n",
       "1                   histone\n",
       "2       histone_description\n",
       "3   histone_has_publication\n",
       "4               publication\n",
       "5                  sequence\n",
       "6  sequence_has_publication"
      ]
     },
     "execution_count": 41,
     "metadata": {},
     "output_type": "execute_result"
    }
   ],
   "source": [
    "query = \"SHOW TABLES; \"\n",
    "cursor.execute(query)\n",
    "pd.DataFrame(cursor.fetchall(), columns=[i[0] for i in cursor.description])"
   ]
  },
  {
   "cell_type": "code",
   "execution_count": null,
   "id": "f5b32a2a-ee60-44f2-9b3f-46a239ebaa84",
   "metadata": {},
   "outputs": [],
   "source": []
  },
  {
   "cell_type": "markdown",
   "id": "d659289a-26d4-4f4a-9561-6aa324b54cc2",
   "metadata": {},
   "source": [
    "# To Do H3-like\n",
    "\n",
    "## <span style=\"color:green\">Add description to H3.Y.1_(Primates)</span>\n",
    "\n",
    "### <span style=\"color:green\">Add summary</span>\n",
    "\n",
    "```H3.Y.1_(Primates) is a primate-specific histone H3 variant encoded by the gene homologous to human H3Y1 [wiedemann_identification_2010].```\n",
    "\n",
    "## <span style=\"color:black\">Update description to H3.Y.2_(Primates)</span>\n",
    "\n",
    "### <span style=\"color:black\">Update summary</span>\n",
    "\n",
    "```H3.Y.2_(Primates) is a primate-specific histone H3 variant (also known as H3.X) encoded by the gene homologous to human H3Y2 [wiedemann_identification_2010].```\n",
    "\n",
    "## <span style=\"color:black\">Add description to H3.Y.1_(Homo_sapiens)</span>\n",
    "\n",
    "### <span style=\"color:black\">Add summary</span>\n",
    "\n",
    "```H3.Y.1_(Homo_sapiens) is a human histone H3 variant encoded by the H3Y1 gene. Human H3.Y.1, together with H3.Y.2, promotes cell growth, regulates cell cycle genes, and is implicated in primate-specific brain function [wiedemann_identification_2010]. It also facilitates sustained expression of DUX4-target genes [talbert_histone_2021, resnick_dux4-induced_2019].```\n",
    "\n",
    "### <span style=\"color:black\">Add function</span>\n",
    "\n",
    "```Although the functions of H3.Y.1 remain poorly understood, it is known to promote cell growth and regulate the expression of genes involved in cell cycle control and mitosis [wiedemann_identification_2010]. The presence of H3.Y.1 (along with H3.Y.2) in hippocampal neurons suggests a potential role in primate-specific brain functions [wiedemann_identification_2010]. Furthermore, H3.Y.1 and H3.Y.2 are induced by the transcription factor DUX4 to facilitate the persistence and reactivation of DUX4 target genes following its transient expression [talbert_histone_2021, resnick_dux4-induced_2019]. Interestinglly, H3.Y has been identified as a specific marker of 8-cell-like cells (8CLCs) and is also detected in vivo within the nuclei of human 8-cell embryos at the peak of zygotic genome activation (ZGA) [taubenschmid-stowers_8c-like_2022]. During blastomere division, H3.Y shows strong association with condensed chromosomes at prophase and metaphase stages [taubenschmid-stowers_8c-like_2022]. Taubenschmid-Stowers et al. suggest that H3.Y may be necessary for large-scale genome activation during early human embryogenesis [taubenschmid-stowers_8c-like_2022].```\n",
    "\n",
    "### <span style=\"color:black\">Add sequence</span>\n",
    "\n",
    "```The H3.Y.1 protein consists of 135 amino acids and shares high similarity with H3.Y.2 (89.7% identity), primarily differing by a shorter C-terminal tail [wiedemann_identification_2010]. Although its sequence resembles that of H3.3, H3.Y.1 contains specific amino acid substitutions at known post-translational modification sites of canonical H3 variants: S10A, S28R, K14Q, and K79S [wiedemann_identification_2010]. Mass spectrometry analysis confirmed that H3.Y.1 undergoes acetylation at lysines 18, 23, and 27 [wiedemann_identification_2010]. The H3.Y-specific residues, such as Lys42, Leu46, Lys53, and Gln59, are located at the nucleosomal DNA entry/exit sites and may potentially influence DNA-histone interactions and nucleosome stability [kujirai_structure_2016].```\n",
    "\n",
    "### <span style=\"color:black\">Add expression</span>\n",
    "\n",
    "```H3.Y.1 and H3.Y.2 are detected at low levels in certain cell lines (e.g., osteosarcoma U2OS), as well as in a range of normal (brain, testis) and malignant (bone, breast, lung, and ovarian tumors) human tissues [wiedemann_identification_2010]. In addition, H3.Y.1 and H3.Y.2 are expressed in early embryos at the cleavage stage and in testicular tissue, consistently co-expressing with DUX4 [talbert_histone_2021, resnick_dux4-induced_2019].```\n",
    "\n",
    "### <span style=\"color:black\">Add localization</span>\n",
    "\n",
    "```Endogenous H3.Y.1 is predominantly localized outside dense DAPI regions (heterochromatin), associating with less condensed, transcriptionally active euchromatin, enriched H3K4me3 [wiedemann_identification_2010]. H3.Y.1 and H3.Y.2 are incorporated into highly expressed genes, particularly those induced by DUX4, where it is enriched throughout the gene body, while in constitutively expressed genes, it is primarily localized to the transcription start site (TSS) region [resnick_dux4-induced_2019].```\n",
    "\n",
    "### <span style=\"color:black\">Add deposition</span>\n",
    "\n",
    "```H3.Y.1 is deposited into chromatin via the HIRA chaperone complex, which facilitates its replication-independent incorporation into actively transcribed genomic regions [resnick_dux4-induced_2019]. Despite its high similarity to H3.3, H3.Y.1 is incapable of interacting with the DAXX/ATRX complex responsible for H3.3 deposition into heterochromatin [zink_h3y_2017].```\n",
    "\n",
    "### <span style=\"color:black\">Add structure</span>\n",
    "\n",
    "```The crystal structure of the H3.Y.1 nucleosome reveals that its specific amino acid residues located at the DNA entry/exit sites result in increased DNA end flexibility compared to H3.3-containing nucleosomes, as well as reduced binding of linker histone H1 [kujirai_structure_2016]. This facilitates transcription factor access to DNA and may promote transcription activation. Kujirai et al. suggest that the heterotypic H3.Y/H3.3 nucleosome, which retains the same biochemical properties as its homotypic counterpart, is likely the predominant form in cells [kujirai_structure_2016].```\n",
    "\n",
    "### <span style=\"color:black\">Add knock_out</span>\n",
    "\n",
    "```Knockdown of both genes encoding H3.Y (H3Y1 and H3Y2) using siRNA suppresses the super-induction of DUX4 target genes upon reactivation and reduces the persistence of their expression, but does not affect constitutively expressed genes [resnick_dux4-induced_2019].```\n",
    "\n",
    "## <span style=\"color:black\">Add description to H3.Y.2_(Homo_sapiens)</span>\n",
    "\n",
    "### <span style=\"color:black\">Add summary</span>\n",
    "\n",
    "```H3.Y.2_(Homo_sapiens) is a human histone H3 variant (also known as H3.X) encoded by the H3Y2 gene. The protein sequence of H3Y2 differs from that of H3Y1 by the presence of an additional 11 amino acid residues at the C-terminal tail [ding_primate-specific_2021]. Human H3.Y.2, together with H3.Y.1, promotes cell growth, regulates cell cycle genes, and is implicated in primate-specific brain function [wiedemann_identification_2010]. It also facilitates sustained expression of DUX4-target genes [talbert_histone_2021, resnick_dux4-induced_2019].```\n",
    "\n",
    "### <span style=\"color:black\">Add function</span>\n",
    "\n",
    "```The functions of H3.Y.2 remain poorly understood. However, the presence of H3.Y.2 (along with H3.Y.1) in hippocampal neurons suggests a potential role in primate-specific brain functions [wiedemann_identification_2010]. In addition, H3.Y.1 and H3.Y.2 are induced by the transcription factor DUX4 to facilitate the persistence and reactivation of DUX4 target genes following its transient expression [talbert_histone_2021, resnick_dux4-induced_2019].```\n",
    "\n",
    "### <span style=\"color:black\">Add sequence</span>\n",
    "\n",
    "```The H3.Y.2 protein consists of 146 amino acids and shares high similarity with H3.Y.1 (89.7% identity), primarily differing by an additional 11 amino acid residues at the C-terminal tail with no sequence homology to other proteins [wiedemann_identification_2010]. Although its sequence resembles that of H3.3, H3.Y.2 contains specific amino acid substitutions at known post-translational modification sites of canonical H3 variants: S10A, S28R, K14Q, and K79S [wiedemann_identification_2010]. The H3.Y-specific residues, such as Lys42, Leu46, Lys53, and Gln59, are located at the nucleosomal DNA entry/exit sites and may potentially influence DNA-histone interactions and nucleosome stability [kujirai_structure_2016].```\n",
    "\n",
    "### <span style=\"color:black\">Add expression</span>\n",
    "\n",
    "```H3.Y.1 and H3.Y.2 are detected at low levels in certain cell lines (e.g., osteosarcoma U2OS), as well as in a range of normal (brain, testis) and malignant (bone, breast, lung, and ovarian tumors) human tissues [wiedemann_identification_2010]. In addition, H3.Y.1 and H3.Y.2 are expressed in early embryos at the cleavage stage and in testicular tissue, consistently co-expressing with DUX4 [talbert_histone_2021, resnick_dux4-induced_2019].```\n",
    "\n",
    "### <span style=\"color:black\">Add localization</span>\n",
    "\n",
    "```H3.Y.1 and H3.Y.2 are incorporated into highly expressed genes, particularly those induced by DUX4, where it is enriched throughout the gene body, while in constitutively expressed genes, it is primarily localized to the transcription start site (TSS) region [resnick_dux4-induced_2019].```\n",
    "\n",
    "### <span style=\"color:black\">Add deposition</span>\n",
    "\n",
    "```H3.Y.2 is deposited into chromatin via the HIRA chaperone complex, which facilitates its replication-independent incorporation into actively transcribed genomic regions [resnick_dux4-induced_2019]. Despite its high similarity to H3.3, H3.Y.2 is incapable of interacting with the DAXX/ATRX complex responsible for H3.3 deposition into heterochromatin [zink_h3y_2017].```\n",
    "\n",
    "### <span style=\"color:black\">Add structure</span>\n",
    "\n",
    "```The crystal structure of the H3.Y.1 nucleosome reveals that its specific amino acid residues located at the DNA entry/exit sites result in increased DNA end flexibility compared to H3.3-containing nucleosomes, as well as reduced binding of linker histone H1 [talbert_histone_2021, kujirai_structure_2016]. This facilitates transcription factor access to DNA and may promote transcription activation. Kujirai et al. suggest that the heterotypic H3.Y/H3.3 nucleosome, which retains the same biochemical properties as its homotypic counterpart, is likely the predominant form in cells [kujirai_structure_2016].```\n",
    "\n",
    "### <span style=\"color:black\">Add knock_out</span>\n",
    "\n",
    "```Knockdown of both genes encoding H3.Y (H3Y1 and H3Y2) using siRNA suppresses the super-induction of DUX4 target genes upon reactivation and reduces the persistence of their expression, but does not affect constitutively expressed genes [resnick_dux4-induced_2019].```\n",
    "\n",
    "## <span style=\"color:black\">ВАЖНО!!!</span>\n",
    "\n",
    "### Предыдущее описание H3.Y:\n",
    "\n",
    "**Summary:** H3.Y is involved in memory formation due to its presence in neurons in human hippocampus. One splice isoform has an extended C-terminal alpha tail that may interacts with the H2A.Z acidic patch\n",
    "**Taxonomic span:** Primates, 9443\n",
    "**Alternate names:** H3.X"
   ]
  },
  {
   "cell_type": "markdown",
   "id": "9e8bad07-ef74-40fd-a93b-e7897df0c591",
   "metadata": {
    "tags": []
   },
   "source": [
    "# Close connections"
   ]
  },
  {
   "cell_type": "code",
   "execution_count": 35,
   "id": "e5673501-5845-491a-bbb9-f5d213721d58",
   "metadata": {
    "tags": []
   },
   "outputs": [],
   "source": [
    "cursor.close()\n",
    "conn.close()\n",
    "tunnel.stop()"
   ]
  }
 ],
 "metadata": {
  "kernelspec": {
   "display_name": ".conda-histdb_env",
   "language": "python",
   "name": "conda-env-.conda-histdb_env-py"
  },
  "language_info": {
   "codemirror_mode": {
    "name": "ipython",
    "version": 3
   },
   "file_extension": ".py",
   "mimetype": "text/x-python",
   "name": "python",
   "nbconvert_exporter": "python",
   "pygments_lexer": "ipython3",
   "version": "3.8.1"
  }
 },
 "nbformat": 4,
 "nbformat_minor": 5
}
