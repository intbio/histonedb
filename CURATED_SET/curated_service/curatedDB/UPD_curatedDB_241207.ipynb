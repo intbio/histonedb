{
 "cells": [
  {
   "cell_type": "code",
   "execution_count": 1,
   "id": "fb32231a-293e-45b8-af7d-d996c91a4edd",
   "metadata": {
    "tags": []
   },
   "outputs": [],
   "source": [
    "import pandas as pd\n",
    "from Bio import Entrez, SeqIO\n",
    "from mysql.connector import connection\n",
    "from sshtunnel import SSHTunnelForwarder\n",
    "\n",
    "Entrez.email = \"l.singh@intbio.org\""
   ]
  },
  {
   "cell_type": "code",
   "execution_count": 2,
   "id": "d5fa78a7-4901-4e63-9d91-d9ed584d2f62",
   "metadata": {
    "tags": []
   },
   "outputs": [],
   "source": [
    "with open(\"db_curated_server_info.txt\", \"r\") as file:\n",
    "    lines = file.readlines()\n",
    "\n",
    "config = {}\n",
    "\n",
    "for line in lines:\n",
    "    line = line.strip()\n",
    "    if line and not line.startswith(\"#\"):\n",
    "        key, value = line.split(\"=\", 1)\n",
    "        config[key] = value.strip()\n",
    "\n",
    "server_name = config.get(\"server_name\")\n",
    "srever_port = int(config.get(\"srever_port\"))\n",
    "ssh_password = config.get(\"ssh_password\")\n",
    "ssh_username = config.get(\"ssh_username\")\n",
    "db_adress = config.get(\"db_adress\")\n",
    "db_port = int(config.get(\"db_port\"))"
   ]
  },
  {
   "cell_type": "code",
   "execution_count": 3,
   "id": "ebe3d2e8-9736-4fd9-b3f1-5ec2d255567d",
   "metadata": {
    "tags": []
   },
   "outputs": [
    {
     "name": "stdout",
     "output_type": "stream",
     "text": [
      "45479\n"
     ]
    }
   ],
   "source": [
    "tunnel = SSHTunnelForwarder(\n",
    "    (server_name, srever_port),\n",
    "    ssh_password=ssh_password,\n",
    "    ssh_username=ssh_username,\n",
    "    remote_bind_address=(db_adress, db_port),\n",
    ")\n",
    "tunnel.start()\n",
    "print(tunnel.local_bind_port)"
   ]
  },
  {
   "cell_type": "code",
   "execution_count": 4,
   "id": "0de93630-7502-40f3-ad24-42edf7a11eef",
   "metadata": {
    "tags": []
   },
   "outputs": [],
   "source": [
    "conn = connection.MySQLConnection(\n",
    "    user=\"db_user\",\n",
    "    password=\"db_password\",\n",
    "    host=\"localhost\",\n",
    "    port=tunnel.local_bind_port,\n",
    "    database=\"db_name\",\n",
    ")\n",
    "cursor = conn.cursor()"
   ]
  },
  {
   "cell_type": "code",
   "execution_count": 5,
   "id": "b4767ba0-4ea1-43ae-953f-f2575d9b7a69",
   "metadata": {
    "tags": []
   },
   "outputs": [
    {
     "data": {
      "text/plain": [
       "[('alternative_name',),\n",
       " ('histone',),\n",
       " ('histone_description',),\n",
       " ('histone_has_publication',),\n",
       " ('publication',),\n",
       " ('sequence',),\n",
       " ('sequence_has_publication',)]"
      ]
     },
     "execution_count": 5,
     "metadata": {},
     "output_type": "execute_result"
    }
   ],
   "source": [
    "query = \"SHOW TABLES;\"\n",
    "cursor.execute(query)\n",
    "cursor.fetchall()"
   ]
  },
  {
   "cell_type": "code",
   "execution_count": 106,
   "id": "c68d4b8f-c22c-4f8e-bb4f-71f95668656e",
   "metadata": {
    "tags": []
   },
   "outputs": [],
   "source": [
    "# add_histone = (\n",
    "#     \"INSERT INTO histone \"\n",
    "#     \"(id, level, taxonomic_span, taxonomic_span_id, description, parent) \"\n",
    "#     \"VALUES (%(id)s, %(level)s, %(taxonomic_span)s, %(taxonomic_span_id)s, %(description)s, %(parent)s)\"\n",
    "# )\n",
    "# add_histone_description = (\n",
    "#     \"INSERT INTO histone_description \"\n",
    "#     \"(summary, taxonomy, genes, evolution, expression, knock_out, function, sequence, localization, deposition, structure, interactions, disease, caveats) \"\n",
    "#     \"VALUES (%s, %s, %s, %s, %s, %s, %s, %s, %s, %s, %s, %s, %s, %s)\"\n",
    "# )\n",
    "# add_publication = (\n",
    "#     \"INSERT INTO publication \"\n",
    "#     \"(id, title, doi, author, year) \"\n",
    "#     \"VALUES (%(id)s, %(title)s, %(doi)s, %(author)s, %(year)s)\"\n",
    "# )\n",
    "# add_sequence_has_publication = (\n",
    "#     \"INSERT INTO sequence_has_publication \"\n",
    "#     \"(sequence_accession, publication_id) \"\n",
    "#     \"VALUES (%s, %s)\"\n",
    "# )\n",
    "# add_alternate_names = (\n",
    "#     \"INSERT INTO alternative_name \"\n",
    "#     \"(name, taxonomy, gene, splice, histone) \"\n",
    "#     \"VALUES (%(name)s, %(taxonomy)s, %(gene)s, %(splice)s, %(histone)s)\"\n",
    "# )\n",
    "# add_histone_has_publication = (\n",
    "#     \"INSERT INTO histone_has_publication \"\n",
    "#     \"(histone_id, publication_id) \"\n",
    "#     \"VALUES (%s, %s)\"\n",
    "# )"
   ]
  },
  {
   "cell_type": "markdown",
   "id": "f0e30842-5f18-4d84-9f5d-50d87f0a90fa",
   "metadata": {
    "tags": []
   },
   "source": [
    "# Поменять поле description у H2A.J\n",
    "\n",
    "Все значения полей у H2A.J попали в summary. Необходимо разнести их на свои места."
   ]
  },
  {
   "cell_type": "code",
   "execution_count": 8,
   "id": "4b8536f7-b5e9-4507-b6e3-95e2dd86dd38",
   "metadata": {
    "tags": []
   },
   "outputs": [
    {
     "data": {
      "text/html": [
       "<div>\n",
       "<style scoped>\n",
       "    .dataframe tbody tr th:only-of-type {\n",
       "        vertical-align: middle;\n",
       "    }\n",
       "\n",
       "    .dataframe tbody tr th {\n",
       "        vertical-align: top;\n",
       "    }\n",
       "\n",
       "    .dataframe thead th {\n",
       "        text-align: right;\n",
       "    }\n",
       "</style>\n",
       "<table border=\"1\" class=\"dataframe\">\n",
       "  <thead>\n",
       "    <tr style=\"text-align: right;\">\n",
       "      <th></th>\n",
       "      <th>id</th>\n",
       "      <th>level</th>\n",
       "      <th>taxonomic_span</th>\n",
       "      <th>taxonomic_span_id</th>\n",
       "      <th>description</th>\n",
       "      <th>parent</th>\n",
       "      <th>id</th>\n",
       "      <th>summary</th>\n",
       "      <th>taxonomy</th>\n",
       "      <th>genes</th>\n",
       "      <th>...</th>\n",
       "      <th>expression</th>\n",
       "      <th>knock_out</th>\n",
       "      <th>function</th>\n",
       "      <th>sequence</th>\n",
       "      <th>localization</th>\n",
       "      <th>deposition</th>\n",
       "      <th>structure</th>\n",
       "      <th>interactions</th>\n",
       "      <th>disease</th>\n",
       "      <th>caveats</th>\n",
       "    </tr>\n",
       "  </thead>\n",
       "  <tbody>\n",
       "    <tr>\n",
       "      <th>0</th>\n",
       "      <td>H2A.J</td>\n",
       "      <td>variant_group</td>\n",
       "      <td>Mammalia</td>\n",
       "      <td>40674</td>\n",
       "      <td>24</td>\n",
       "      <td>H2A</td>\n",
       "      <td>24</td>\n",
       "      <td>H2A.J is a poorly studied replication independ...</td>\n",
       "      <td>null</td>\n",
       "      <td>null</td>\n",
       "      <td>...</td>\n",
       "      <td>null</td>\n",
       "      <td>null</td>\n",
       "      <td>null</td>\n",
       "      <td>null</td>\n",
       "      <td>null</td>\n",
       "      <td>null</td>\n",
       "      <td>null</td>\n",
       "      <td>null</td>\n",
       "      <td>null</td>\n",
       "      <td>null</td>\n",
       "    </tr>\n",
       "  </tbody>\n",
       "</table>\n",
       "<p>1 rows × 21 columns</p>\n",
       "</div>"
      ],
      "text/plain": [
       "      id          level taxonomic_span taxonomic_span_id  description parent  \\\n",
       "0  H2A.J  variant_group       Mammalia             40674           24    H2A   \n",
       "\n",
       "   id                                            summary taxonomy genes  ...  \\\n",
       "0  24  H2A.J is a poorly studied replication independ...     null  null  ...   \n",
       "\n",
       "  expression knock_out function sequence localization deposition structure  \\\n",
       "0       null      null     null     null         null       null      null   \n",
       "\n",
       "  interactions disease caveats  \n",
       "0         null    null    null  \n",
       "\n",
       "[1 rows x 21 columns]"
      ]
     },
     "execution_count": 8,
     "metadata": {},
     "output_type": "execute_result"
    }
   ],
   "source": [
    "query = (\n",
    "    \"SELECT * FROM histone h LEFT JOIN histone_description hd \"\n",
    "    \"ON h.description = hd.id \"\n",
    "    \"WHERE h.id = 'H2A.J' \"\n",
    ")\n",
    "cursor.execute(query)\n",
    "df = pd.DataFrame(cursor.fetchall(), columns=[i[0] for i in cursor.description])\n",
    "df"
   ]
  },
  {
   "cell_type": "code",
   "execution_count": 10,
   "id": "4e1f9a6e-6690-4194-ba2b-d4a065de38c0",
   "metadata": {
    "tags": []
   },
   "outputs": [
    {
     "data": {
      "text/plain": [
       "\"H2A.J is a poorly studied replication independent H2A histone variant very similar in sequence to canonical H2A histones. It was characterized in human and mouse, similar genes are present in other mammals. It has been implicated in cell senesecence. Genes: In human it is encoded by H2AJ gene on chormomosome 12, in mouse by H2aj gene on chromosome 6. Both genes are intronless. H2aj gene lacks a stem-loop structure at the 3'-UTR but contains a poly (A) signal [nishida_novel_2005]. Similar genes are found in other mammals [contrepois_histone_2017]. Evolution: no studies available. Knock-out: Depletion of H2A.J via RNA interference modifies senesecence-associated chromatin re-structuring and abolishes senesecence-associated secretory phenotype in human fibroblasts subject to ionizing radiation [isermann_histone_2020]. Function, disease: It has been shown that H2A.J accumulates in senescent cells and promotes inflammatory gene expression [isermann_histone_2020,contrepois_histone_2017]. Sequence: It differs from canonical H2A protein sequences only by an A11V substitution and the presence of an SQK motif near the C-terminus, which is a potential phosphorylation site [talbert_histone_2021]. Localization: In fibroblast irradiation experiments it was shown that H2A.J colocalizes with 53BP1 and is incorporated at the periphery of so-called senesecence-associated chromatin foci (SAHF) [isermann_histone_2020]. Deposition: unclear. Structural effects: sequence changes lie only within the histone tails, alterations to the C-terminal tail may theoretically alter interactions with linker DNA and H1-histone, but this has not been studied. Interactions: colocalizes with 53BP1 [isermann_histone_2020].\""
      ]
     },
     "execution_count": 10,
     "metadata": {},
     "output_type": "execute_result"
    }
   ],
   "source": [
    "df[\"summary\"].values[0]"
   ]
  },
  {
   "cell_type": "code",
   "execution_count": 12,
   "id": "7fc334f9-8062-4a6a-b51f-e73f3b04ddb3",
   "metadata": {
    "tags": []
   },
   "outputs": [],
   "source": [
    "# desc_dict = {\n",
    "#     \"summary\": None,\n",
    "#     \"taxonomy\": None,\n",
    "#     \"genes\": None,\n",
    "#     \"evolution\": None,\n",
    "#     \"expression\": None,\n",
    "#     \"knock_out\": None,\n",
    "#     \"function\": None,\n",
    "#     \"sequence\": None,\n",
    "#     \"localization\": None,\n",
    "#     \"deposition\": None,\n",
    "#     \"structure\": None,\n",
    "#     \"interactions\": None,\n",
    "#     \"disease\": None,\n",
    "#     \"caveats\": None,\n",
    "# }"
   ]
  },
  {
   "cell_type": "code",
   "execution_count": 20,
   "id": "a8747fa5-d1ae-4dc3-b749-127ae6799857",
   "metadata": {
    "tags": []
   },
   "outputs": [
    {
     "data": {
      "text/plain": [
       "{'summary': 'H2A.J is a poorly studied replication independent H2A histone variant very similar in sequence to canonical H2A histones. It was characterized in human and mouse, similar genes are present in other mammals. It has been implicated in cell senesecence.',\n",
       " 'genes': \"In human it is encoded by H2AJ gene on chormomosome 12, in mouse by H2aj gene on chromosome 6. Both genes are intronless. H2aj gene lacks a stem-loop structure at the 3'-UTR but contains a poly (A) signal [nishida_novel_2005]. Similar genes are found in other mammals [contrepois_histone_2017].\",\n",
       " 'evolution': 'No studies available.',\n",
       " 'knock_out': 'Depletion of H2A.J via RNA interference modifies senesecence-associated chromatin re-structuring and abolishes senesecence-associated secretory phenotype in human fibroblasts subject to ionizing radiation [isermann_histone_2020].',\n",
       " 'disease': 'It has been shown that H2A.J accumulates in senescent cells and promotes inflammatory gene expression [isermann_histone_2020,contrepois_histone_2017].',\n",
       " 'sequence': 'It differs from canonical H2A protein sequences only by an A11V substitution and the presence of an SQK motif near the C-terminus, which is a potential phosphorylation site [talbert_histone_2021].',\n",
       " 'localization': 'In fibroblast irradiation experiments it was shown that H2A.J colocalizes with 53BP1 and is incorporated at the periphery of so-called senesecence-associated chromatin foci (SAHF) [isermann_histone_2020].',\n",
       " 'deposition': 'Unclear.',\n",
       " 'structure': 'Sequence changes lie only within the histone tails, alterations to the C-terminal tail may theoretically alter interactions with linker DNA and H1-histone, but this has not been studied.',\n",
       " 'interactions': 'Colocalizes with 53BP1 [isermann_histone_2020].'}"
      ]
     },
     "execution_count": 20,
     "metadata": {},
     "output_type": "execute_result"
    }
   ],
   "source": [
    "desc_dict = {\n",
    "    \"summary\": \"H2A.J is a poorly studied replication independent H2A histone variant very similar in sequence to canonical H2A histones. It was characterized in human and mouse, similar genes are present in other mammals. It has been implicated in cell senesecence.\",\n",
    "    \"genes\": \"In human it is encoded by H2AJ gene on chormomosome 12, in mouse by H2aj gene on chromosome 6. Both genes are intronless. H2aj gene lacks a stem-loop structure at the 3'-UTR but contains a poly (A) signal [nishida_novel_2005]. Similar genes are found in other mammals [contrepois_histone_2017].\",\n",
    "    \"evolution\": \"No studies available.\",\n",
    "    \"knock_out\": \"Depletion of H2A.J via RNA interference modifies senesecence-associated chromatin re-structuring and abolishes senesecence-associated secretory phenotype in human fibroblasts subject to ionizing radiation [isermann_histone_2020].\",\n",
    "    \"disease\": \"It has been shown that H2A.J accumulates in senescent cells and promotes inflammatory gene expression [isermann_histone_2020,contrepois_histone_2017].\",\n",
    "    \"sequence\": \"It differs from canonical H2A protein sequences only by an A11V substitution and the presence of an SQK motif near the C-terminus, which is a potential phosphorylation site [talbert_histone_2021].\",\n",
    "    \"localization\": \"In fibroblast irradiation experiments it was shown that H2A.J colocalizes with 53BP1 and is incorporated at the periphery of so-called senesecence-associated chromatin foci (SAHF) [isermann_histone_2020].\",\n",
    "    \"deposition\": \"Unclear.\",\n",
    "    \"structure\": \"Sequence changes lie only within the histone tails, alterations to the C-terminal tail may theoretically alter interactions with linker DNA and H1-histone, but this has not been studied.\",\n",
    "    \"interactions\": \"Colocalizes with 53BP1 [isermann_histone_2020].\",\n",
    "}\n",
    "desc_dict"
   ]
  },
  {
   "cell_type": "code",
   "execution_count": 21,
   "id": "2ff80e5e-95e3-4296-8623-10bf8a2e2545",
   "metadata": {
    "tags": []
   },
   "outputs": [
    {
     "name": "stdout",
     "output_type": "stream",
     "text": [
      "UPDATE histone_description SET summary=\"H2A.J is a poorly studied replication independent H2A histone variant very similar in sequence to canonical H2A histones. It was characterized in human and mouse, similar genes are present in other mammals. It has been implicated in cell senesecence.\", genes=\"In human it is encoded by H2AJ gene on chormomosome 12, in mouse by H2aj gene on chromosome 6. Both genes are intronless. H2aj gene lacks a stem-loop structure at the 3'-UTR but contains a poly (A) signal [nishida_novel_2005]. Similar genes are found in other mammals [contrepois_histone_2017].\", evolution=\"No studies available.\", knock_out=\"Depletion of H2A.J via RNA interference modifies senesecence-associated chromatin re-structuring and abolishes senesecence-associated secretory phenotype in human fibroblasts subject to ionizing radiation [isermann_histone_2020].\", disease=\"It has been shown that H2A.J accumulates in senescent cells and promotes inflammatory gene expression [isermann_histone_2020,contrepois_histone_2017].\", sequence=\"It differs from canonical H2A protein sequences only by an A11V substitution and the presence of an SQK motif near the C-terminus, which is a potential phosphorylation site [talbert_histone_2021].\", localization=\"In fibroblast irradiation experiments it was shown that H2A.J colocalizes with 53BP1 and is incorporated at the periphery of so-called senesecence-associated chromatin foci (SAHF) [isermann_histone_2020].\", deposition=\"Unclear.\", structure=\"Sequence changes lie only within the histone tails, alterations to the C-terminal tail may theoretically alter interactions with linker DNA and H1-histone, but this has not been studied.\", interactions=\"Colocalizes with 53BP1 [isermann_histone_2020].\" WHERE id = 24\n"
     ]
    }
   ],
   "source": [
    "desk_str = ', '.join([f'{k}=\"{v}\"' for k, v in desc_dict.items()])\n",
    "query = (\n",
    "    f\"UPDATE histone_description SET {desk_str} \"\n",
    "    \"WHERE id = 24\"\n",
    ")\n",
    "print(query)\n",
    "cursor.execute(query)"
   ]
  },
  {
   "cell_type": "code",
   "execution_count": 22,
   "id": "2af17d8a-19bd-46e5-9f63-db6cb142580e",
   "metadata": {
    "tags": []
   },
   "outputs": [
    {
     "data": {
      "text/html": [
       "<div>\n",
       "<style scoped>\n",
       "    .dataframe tbody tr th:only-of-type {\n",
       "        vertical-align: middle;\n",
       "    }\n",
       "\n",
       "    .dataframe tbody tr th {\n",
       "        vertical-align: top;\n",
       "    }\n",
       "\n",
       "    .dataframe thead th {\n",
       "        text-align: right;\n",
       "    }\n",
       "</style>\n",
       "<table border=\"1\" class=\"dataframe\">\n",
       "  <thead>\n",
       "    <tr style=\"text-align: right;\">\n",
       "      <th></th>\n",
       "      <th>id</th>\n",
       "      <th>level</th>\n",
       "      <th>taxonomic_span</th>\n",
       "      <th>taxonomic_span_id</th>\n",
       "      <th>description</th>\n",
       "      <th>parent</th>\n",
       "      <th>id</th>\n",
       "      <th>summary</th>\n",
       "      <th>taxonomy</th>\n",
       "      <th>genes</th>\n",
       "      <th>...</th>\n",
       "      <th>expression</th>\n",
       "      <th>knock_out</th>\n",
       "      <th>function</th>\n",
       "      <th>sequence</th>\n",
       "      <th>localization</th>\n",
       "      <th>deposition</th>\n",
       "      <th>structure</th>\n",
       "      <th>interactions</th>\n",
       "      <th>disease</th>\n",
       "      <th>caveats</th>\n",
       "    </tr>\n",
       "  </thead>\n",
       "  <tbody>\n",
       "    <tr>\n",
       "      <th>0</th>\n",
       "      <td>H2A.J</td>\n",
       "      <td>variant_group</td>\n",
       "      <td>Mammalia</td>\n",
       "      <td>40674</td>\n",
       "      <td>24</td>\n",
       "      <td>H2A</td>\n",
       "      <td>24</td>\n",
       "      <td>H2A.J is a poorly studied replication independ...</td>\n",
       "      <td>null</td>\n",
       "      <td>In human it is encoded by H2AJ gene on chormom...</td>\n",
       "      <td>...</td>\n",
       "      <td>null</td>\n",
       "      <td>Depletion of H2A.J via RNA interference modifi...</td>\n",
       "      <td>null</td>\n",
       "      <td>It differs from canonical H2A protein sequence...</td>\n",
       "      <td>In fibroblast irradiation experiments it was s...</td>\n",
       "      <td>Unclear.</td>\n",
       "      <td>Sequence changes lie only within the histone t...</td>\n",
       "      <td>Colocalizes with 53BP1 [isermann_histone_2020].</td>\n",
       "      <td>It has been shown that H2A.J accumulates in se...</td>\n",
       "      <td>null</td>\n",
       "    </tr>\n",
       "  </tbody>\n",
       "</table>\n",
       "<p>1 rows × 21 columns</p>\n",
       "</div>"
      ],
      "text/plain": [
       "      id          level taxonomic_span taxonomic_span_id  description parent  \\\n",
       "0  H2A.J  variant_group       Mammalia             40674           24    H2A   \n",
       "\n",
       "   id                                            summary taxonomy  \\\n",
       "0  24  H2A.J is a poorly studied replication independ...     null   \n",
       "\n",
       "                                               genes  ... expression  \\\n",
       "0  In human it is encoded by H2AJ gene on chormom...  ...       null   \n",
       "\n",
       "                                           knock_out function  \\\n",
       "0  Depletion of H2A.J via RNA interference modifi...     null   \n",
       "\n",
       "                                            sequence  \\\n",
       "0  It differs from canonical H2A protein sequence...   \n",
       "\n",
       "                                        localization deposition  \\\n",
       "0  In fibroblast irradiation experiments it was s...   Unclear.   \n",
       "\n",
       "                                           structure  \\\n",
       "0  Sequence changes lie only within the histone t...   \n",
       "\n",
       "                                      interactions  \\\n",
       "0  Colocalizes with 53BP1 [isermann_histone_2020].   \n",
       "\n",
       "                                             disease caveats  \n",
       "0  It has been shown that H2A.J accumulates in se...    null  \n",
       "\n",
       "[1 rows x 21 columns]"
      ]
     },
     "execution_count": 22,
     "metadata": {},
     "output_type": "execute_result"
    }
   ],
   "source": [
    "query = (\n",
    "    \"SELECT * FROM histone h LEFT JOIN histone_description hd \"\n",
    "    \"ON h.description = hd.id \"\n",
    "    \"WHERE h.id = 'H2A.J' \"\n",
    ")\n",
    "cursor.execute(query)\n",
    "df = pd.DataFrame(cursor.fetchall(), columns=[i[0] for i in cursor.description])\n",
    "df"
   ]
  },
  {
   "cell_type": "code",
   "execution_count": 23,
   "id": "540e6000-346c-47de-93a2-f311156be10f",
   "metadata": {
    "tags": []
   },
   "outputs": [
    {
     "data": {
      "text/plain": [
       "'H2A.J is a poorly studied replication independent H2A histone variant very similar in sequence to canonical H2A histones. It was characterized in human and mouse, similar genes are present in other mammals. It has been implicated in cell senesecence.'"
      ]
     },
     "execution_count": 23,
     "metadata": {},
     "output_type": "execute_result"
    }
   ],
   "source": [
    "df[\"summary\"].values[0]"
   ]
  },
  {
   "cell_type": "code",
   "execution_count": 24,
   "id": "7ea18b35-0c32-4df0-b336-f7e74254bfc8",
   "metadata": {
    "tags": []
   },
   "outputs": [],
   "source": [
    "# Make sure data is committed to the database\n",
    "conn.commit()"
   ]
  },
  {
   "cell_type": "markdown",
   "id": "d3c8a219-f508-46e1-936f-7d6040016e39",
   "metadata": {
    "tags": []
   },
   "source": [
    "# Close connections"
   ]
  },
  {
   "cell_type": "code",
   "execution_count": 25,
   "id": "572059d8-54f9-4ec7-a2c6-1c8066552845",
   "metadata": {
    "tags": []
   },
   "outputs": [],
   "source": [
    "cursor.close()\n",
    "conn.close()\n",
    "tunnel.stop()"
   ]
  },
  {
   "cell_type": "code",
   "execution_count": null,
   "id": "790ee020-09af-4dcc-9c36-f1b3f69ea8a7",
   "metadata": {},
   "outputs": [],
   "source": []
  }
 ],
 "metadata": {
  "kernelspec": {
   "display_name": ".conda-histdb_env",
   "language": "python",
   "name": "conda-env-.conda-histdb_env-py"
  },
  "language_info": {
   "codemirror_mode": {
    "name": "ipython",
    "version": 3
   },
   "file_extension": ".py",
   "mimetype": "text/x-python",
   "name": "python",
   "nbconvert_exporter": "python",
   "pygments_lexer": "ipython3",
   "version": "3.8.1"
  }
 },
 "nbformat": 4,
 "nbformat_minor": 5
}
