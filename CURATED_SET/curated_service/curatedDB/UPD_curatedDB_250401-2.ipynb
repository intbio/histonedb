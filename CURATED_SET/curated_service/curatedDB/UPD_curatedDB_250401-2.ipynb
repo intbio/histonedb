{
 "cells": [
  {
   "cell_type": "code",
   "execution_count": 1,
   "id": "fb32231a-293e-45b8-af7d-d996c91a4edd",
   "metadata": {
    "tags": []
   },
   "outputs": [],
   "source": [
    "import pandas as pd\n",
    "from Bio import Entrez, SeqIO\n",
    "from mysql.connector import connection\n",
    "from sshtunnel import SSHTunnelForwarder\n",
    "\n",
    "Entrez.email = \"l.singh@intbio.org\""
   ]
  },
  {
   "cell_type": "code",
   "execution_count": 2,
   "id": "d5fa78a7-4901-4e63-9d91-d9ed584d2f62",
   "metadata": {
    "tags": []
   },
   "outputs": [],
   "source": [
    "with open(\"db_curated_server_info.txt\", \"r\") as file:\n",
    "    lines = file.readlines()\n",
    "\n",
    "config = {}\n",
    "\n",
    "for line in lines:\n",
    "    line = line.strip()\n",
    "    if line and not line.startswith(\"#\"):\n",
    "        key, value = line.split(\"=\", 1)\n",
    "        config[key] = value.strip()\n",
    "\n",
    "server_name = config.get(\"server_name\")\n",
    "srever_port = int(config.get(\"srever_port\"))\n",
    "ssh_password = config.get(\"ssh_password\")\n",
    "ssh_username = config.get(\"ssh_username\")\n",
    "db_adress = config.get(\"db_adress\")\n",
    "db_port = int(config.get(\"db_port\"))"
   ]
  },
  {
   "cell_type": "code",
   "execution_count": 3,
   "id": "ebe3d2e8-9736-4fd9-b3f1-5ec2d255567d",
   "metadata": {
    "tags": []
   },
   "outputs": [
    {
     "name": "stdout",
     "output_type": "stream",
     "text": [
      "43087\n"
     ]
    }
   ],
   "source": [
    "tunnel = SSHTunnelForwarder(\n",
    "    (server_name, srever_port),\n",
    "    ssh_password=ssh_password,\n",
    "    ssh_username=ssh_username,\n",
    "    remote_bind_address=(db_adress, db_port),\n",
    ")\n",
    "tunnel.start()\n",
    "print(tunnel.local_bind_port)"
   ]
  },
  {
   "cell_type": "code",
   "execution_count": 4,
   "id": "0de93630-7502-40f3-ad24-42edf7a11eef",
   "metadata": {
    "tags": []
   },
   "outputs": [],
   "source": [
    "conn = connection.MySQLConnection(\n",
    "    user=\"db_user\",\n",
    "    password=\"db_password\",\n",
    "    host=\"localhost\",\n",
    "    port=tunnel.local_bind_port,\n",
    "    database=\"db_name\",\n",
    ")\n",
    "cursor = conn.cursor()"
   ]
  },
  {
   "cell_type": "code",
   "execution_count": 5,
   "id": "b4767ba0-4ea1-43ae-953f-f2575d9b7a69",
   "metadata": {
    "tags": []
   },
   "outputs": [
    {
     "data": {
      "text/plain": [
       "[('alternative_name',),\n",
       " ('histone',),\n",
       " ('histone_description',),\n",
       " ('histone_has_publication',),\n",
       " ('publication',),\n",
       " ('sequence',),\n",
       " ('sequence_has_publication',)]"
      ]
     },
     "execution_count": 5,
     "metadata": {},
     "output_type": "execute_result"
    }
   ],
   "source": [
    "query = \"SHOW TABLES;\"\n",
    "cursor.execute(query)\n",
    "cursor.fetchall()"
   ]
  },
  {
   "cell_type": "code",
   "execution_count": 6,
   "id": "7d59b3d0-7801-4177-8843-fdedf36cb6d1",
   "metadata": {
    "tags": []
   },
   "outputs": [],
   "source": [
    "# add_histone = (\n",
    "#     \"INSERT INTO histone \"\n",
    "#     \"(id, level, taxonomic_span, taxonomic_span_id, description, parent) \"\n",
    "#     \"VALUES (%(id)s, %(level)s, %(taxonomic_span)s, %(taxonomic_span_id)s, %(description)s, %(parent)s)\"\n",
    "# )\n",
    "# add_histone_description = (\n",
    "#     \"INSERT INTO histone_description \"\n",
    "#     \"(summary, taxonomy, genes, evolution, expression, knock_out, function, sequence, localization, deposition, structure, interactions, disease, caveats) \"\n",
    "#     \"VALUES (%s, %s, %s, %s, %s, %s, %s, %s, %s, %s, %s, %s, %s, %s)\"\n",
    "# )\n",
    "add_publication = (\n",
    "    \"INSERT INTO publication \"\n",
    "    \"(id, title, doi, author, year) \"\n",
    "    \"VALUES (%(id)s, %(title)s, %(doi)s, %(author)s, %(year)s)\"\n",
    ")\n",
    "add_sequence = (\n",
    "    \"INSERT INTO sequence \"\n",
    "    \"(accession, variant, gi, ncbi_gene_id, hgnc_gene_name, taxonomy_id, organism, phylum, class, taxonomy_group, info, sequence, variant_under_consideration) \"\n",
    "    \"VALUES (%(accession)s, %(variant)s, %(gi)s, %(ncbi_gene_id)s, %(hgnc_gene_name)s, %(taxonomy_id)s, %(organism)s, %(phylum)s, %(class)s, %(taxonomy_group)s, %(info)s, %(sequence)s, %(variant_under_consideration)s)\"\n",
    ")\n",
    "add_sequence_has_publication = (\n",
    "    \"INSERT INTO sequence_has_publication \"\n",
    "    \"(sequence_accession, publication_id) \"\n",
    "    \"VALUES (%s, %s)\"\n",
    ")\n",
    "# add_alternate_names = (\n",
    "#     \"INSERT INTO alternative_name \"\n",
    "#     \"(name, taxonomy, gene, splice, histone) \"\n",
    "#     \"VALUES (%(name)s, %(taxonomy)s, %(gene)s, %(splice)s, %(histone)s)\"\n",
    "# )\n",
    "# add_histone_has_publication = (\n",
    "#     \"INSERT INTO histone_has_publication \"\n",
    "#     \"(histone_id, publication_id) \"\n",
    "#     \"VALUES (%s, %s)\"\n",
    "# )"
   ]
  },
  {
   "cell_type": "code",
   "execution_count": 7,
   "id": "722ba070-6274-4e3c-a5cc-7dc1c956f972",
   "metadata": {
    "tags": []
   },
   "outputs": [],
   "source": [
    "def get_taxonomy_data(record):\n",
    "    import re\n",
    "    import sys\n",
    "\n",
    "    taxonomy_data = {}\n",
    "    taxonomy_data[\"organism\"] = record.annotations[\"organism\"]\n",
    "    try:\n",
    "        for a in record.features[0].qualifiers[\"db_xref\"]:\n",
    "            text = re.search(\"(\\S+):(\\S+)\", a).group(1)\n",
    "            taxid = re.search(\"(\\S+):(\\S+)\", a).group(2)\n",
    "            if text == \"taxon\":\n",
    "                print(f\"Fetched taxid from NCBI {taxid}\")\n",
    "                taxonomy_data[\"taxonomy_id\"] = int(taxid)\n",
    "            else:\n",
    "                continue\n",
    "    except:\n",
    "        print(\"!!!!!!Unable to get TAXID for this record setting it to 1\")\n",
    "        taxonomy_data[\"taxonomy_id\"] = 1  # unable to identify\n",
    "\n",
    "    lineage = dict()\n",
    "    for i in range(10):\n",
    "        try:\n",
    "            handle = Entrez.efetch(\n",
    "                id=taxonomy_data[\"taxonomy_id\"], db=\"taxonomy\", retmode=\"xml\"\n",
    "            )\n",
    "            tax_data = Entrez.read(handle)\n",
    "            lineage = {\n",
    "                d[\"Rank\"]: d[\"ScientificName\"]\n",
    "                for d in tax_data[0][\"LineageEx\"]\n",
    "                if d[\"Rank\"] in [\"class\", \"phylum\"]\n",
    "            }\n",
    "            break\n",
    "        except:\n",
    "            print(\n",
    "                \"Unexpected error: {}, Retrying, attempt {}\".format(\n",
    "                    sys.exc_info()[0], i\n",
    "                )\n",
    "            )\n",
    "            if i == 9:\n",
    "                print(\n",
    "                    f\"FATAL ERROR could not get class and phylum from NCBI after 10 attempts for taxid:{taxonomy_data['taxonomy_id']}. Will add None for class and phylum!\"\n",
    "                )\n",
    "            else:\n",
    "                continue\n",
    "    taxonomy_data[\"phylum\"] = lineage.get(\"phylum\", None)\n",
    "    taxonomy_data[\"class\"] = lineage.get(\"class\", None)\n",
    "    if taxonomy_data[\"phylum\"] is not None:\n",
    "        taxonomy_data[\"phylum\"] = str(taxonomy_data[\"phylum\"])\n",
    "    if taxonomy_data[\"class\"] is not None:\n",
    "        taxonomy_data[\"class\"] = str(taxonomy_data[\"class\"])\n",
    "    return taxonomy_data"
   ]
  },
  {
   "cell_type": "markdown",
   "id": "48368684-db5a-4d66-b832-0c5c4c9573ff",
   "metadata": {},
   "source": [
    "# Update name for Bacterial dimers"
   ]
  },
  {
   "cell_type": "code",
   "execution_count": 8,
   "id": "dddca561-d3aa-401a-bfee-4c9bfd02de5e",
   "metadata": {
    "tags": []
   },
   "outputs": [
    {
     "data": {
      "text/html": [
       "<div>\n",
       "<style scoped>\n",
       "    .dataframe tbody tr th:only-of-type {\n",
       "        vertical-align: middle;\n",
       "    }\n",
       "\n",
       "    .dataframe tbody tr th {\n",
       "        vertical-align: top;\n",
       "    }\n",
       "\n",
       "    .dataframe thead th {\n",
       "        text-align: right;\n",
       "    }\n",
       "</style>\n",
       "<table border=\"1\" class=\"dataframe\">\n",
       "  <thead>\n",
       "    <tr style=\"text-align: right;\">\n",
       "      <th></th>\n",
       "      <th>id</th>\n",
       "      <th>level</th>\n",
       "      <th>taxonomic_span</th>\n",
       "      <th>taxonomic_span_id</th>\n",
       "      <th>description</th>\n",
       "      <th>parent</th>\n",
       "    </tr>\n",
       "  </thead>\n",
       "  <tbody>\n",
       "    <tr>\n",
       "      <th>0</th>\n",
       "      <td>Bacterial dimers</td>\n",
       "      <td>variant_group</td>\n",
       "      <td>Bacteria</td>\n",
       "      <td>2</td>\n",
       "      <td>215.0</td>\n",
       "      <td>Singlet</td>\n",
       "    </tr>\n",
       "  </tbody>\n",
       "</table>\n",
       "</div>"
      ],
      "text/plain": [
       "                 id          level taxonomic_span taxonomic_span_id  \\\n",
       "0  Bacterial dimers  variant_group       Bacteria                 2   \n",
       "\n",
       "   description   parent  \n",
       "0        215.0  Singlet  "
      ]
     },
     "execution_count": 8,
     "metadata": {},
     "output_type": "execute_result"
    }
   ],
   "source": [
    "query = \"SELECT * FROM histone\"\n",
    "cursor.execute(query)\n",
    "histone_df = pd.DataFrame(cursor.fetchall(), columns=[i[0] for i in cursor.description])\n",
    "histone_df[histone_df[\"id\"] == \"Bacterial dimers\"]"
   ]
  },
  {
   "cell_type": "code",
   "execution_count": 9,
   "id": "2d09e1e7-13a6-4fd6-b2d4-1480e9f88fe3",
   "metadata": {
    "tags": []
   },
   "outputs": [],
   "source": [
    "query = f\"UPDATE histone SET id='Filament_forming' WHERE id='Bacterial dimers'\"\n",
    "cursor.execute(query)"
   ]
  },
  {
   "cell_type": "code",
   "execution_count": 10,
   "id": "1394c265-0cfd-4932-acd4-89ebaea4f617",
   "metadata": {
    "tags": []
   },
   "outputs": [
    {
     "data": {
      "text/html": [
       "<div>\n",
       "<style scoped>\n",
       "    .dataframe tbody tr th:only-of-type {\n",
       "        vertical-align: middle;\n",
       "    }\n",
       "\n",
       "    .dataframe tbody tr th {\n",
       "        vertical-align: top;\n",
       "    }\n",
       "\n",
       "    .dataframe thead th {\n",
       "        text-align: right;\n",
       "    }\n",
       "</style>\n",
       "<table border=\"1\" class=\"dataframe\">\n",
       "  <thead>\n",
       "    <tr style=\"text-align: right;\">\n",
       "      <th></th>\n",
       "      <th>id</th>\n",
       "      <th>level</th>\n",
       "      <th>taxonomic_span</th>\n",
       "      <th>taxonomic_span_id</th>\n",
       "      <th>description</th>\n",
       "      <th>parent</th>\n",
       "    </tr>\n",
       "  </thead>\n",
       "  <tbody>\n",
       "  </tbody>\n",
       "</table>\n",
       "</div>"
      ],
      "text/plain": [
       "Empty DataFrame\n",
       "Columns: [id, level, taxonomic_span, taxonomic_span_id, description, parent]\n",
       "Index: []"
      ]
     },
     "execution_count": 10,
     "metadata": {},
     "output_type": "execute_result"
    }
   ],
   "source": [
    "query = \"SELECT * FROM histone\"\n",
    "cursor.execute(query)\n",
    "histone_df = pd.DataFrame(cursor.fetchall(), columns=[i[0] for i in cursor.description])\n",
    "histone_df[histone_df[\"id\"] == \"Bacterial dimers\"]"
   ]
  },
  {
   "cell_type": "code",
   "execution_count": 11,
   "id": "e8b08368-3f70-479a-8b87-46b9a1b406a4",
   "metadata": {
    "tags": []
   },
   "outputs": [
    {
     "data": {
      "text/html": [
       "<div>\n",
       "<style scoped>\n",
       "    .dataframe tbody tr th:only-of-type {\n",
       "        vertical-align: middle;\n",
       "    }\n",
       "\n",
       "    .dataframe tbody tr th {\n",
       "        vertical-align: top;\n",
       "    }\n",
       "\n",
       "    .dataframe thead th {\n",
       "        text-align: right;\n",
       "    }\n",
       "</style>\n",
       "<table border=\"1\" class=\"dataframe\">\n",
       "  <thead>\n",
       "    <tr style=\"text-align: right;\">\n",
       "      <th></th>\n",
       "      <th>id</th>\n",
       "      <th>level</th>\n",
       "      <th>taxonomic_span</th>\n",
       "      <th>taxonomic_span_id</th>\n",
       "      <th>description</th>\n",
       "      <th>parent</th>\n",
       "    </tr>\n",
       "  </thead>\n",
       "  <tbody>\n",
       "    <tr>\n",
       "      <th>82</th>\n",
       "      <td>Filament_forming</td>\n",
       "      <td>variant_group</td>\n",
       "      <td>Bacteria</td>\n",
       "      <td>2</td>\n",
       "      <td>215.0</td>\n",
       "      <td>Singlet</td>\n",
       "    </tr>\n",
       "  </tbody>\n",
       "</table>\n",
       "</div>"
      ],
      "text/plain": [
       "                  id          level taxonomic_span taxonomic_span_id  \\\n",
       "82  Filament_forming  variant_group       Bacteria                 2   \n",
       "\n",
       "    description   parent  \n",
       "82        215.0  Singlet  "
      ]
     },
     "execution_count": 11,
     "metadata": {},
     "output_type": "execute_result"
    }
   ],
   "source": [
    "histone_df[histone_df[\"id\"] == \"Filament_forming\"]"
   ]
  },
  {
   "cell_type": "code",
   "execution_count": 12,
   "id": "98d8495b-e41f-4845-93cf-c80a4e94ac47",
   "metadata": {
    "tags": []
   },
   "outputs": [
    {
     "data": {
      "text/html": [
       "<div>\n",
       "<style scoped>\n",
       "    .dataframe tbody tr th:only-of-type {\n",
       "        vertical-align: middle;\n",
       "    }\n",
       "\n",
       "    .dataframe tbody tr th {\n",
       "        vertical-align: top;\n",
       "    }\n",
       "\n",
       "    .dataframe thead th {\n",
       "        text-align: right;\n",
       "    }\n",
       "</style>\n",
       "<table border=\"1\" class=\"dataframe\">\n",
       "  <thead>\n",
       "    <tr style=\"text-align: right;\">\n",
       "      <th></th>\n",
       "      <th>accession</th>\n",
       "      <th>variant</th>\n",
       "      <th>gi</th>\n",
       "      <th>ncbi_gene_id</th>\n",
       "      <th>hgnc_gene_name</th>\n",
       "      <th>taxonomy_id</th>\n",
       "      <th>organism</th>\n",
       "      <th>phylum</th>\n",
       "      <th>class</th>\n",
       "      <th>taxonomy_group</th>\n",
       "      <th>info</th>\n",
       "      <th>sequence</th>\n",
       "      <th>variant_under_consideration</th>\n",
       "    </tr>\n",
       "  </thead>\n",
       "  <tbody>\n",
       "    <tr>\n",
       "      <th>0</th>\n",
       "      <td>ADI38622.1</td>\n",
       "      <td>Filament_forming</td>\n",
       "      <td>None</td>\n",
       "      <td>None</td>\n",
       "      <td>None</td>\n",
       "      <td>716544</td>\n",
       "      <td>Waddlia chondrophila WSU 86-1044</td>\n",
       "      <td>Chlamydiota</td>\n",
       "      <td>Chlamydiia</td>\n",
       "      <td>None</td>\n",
       "      <td>None</td>\n",
       "      <td>MNENLVVVSKVKKYIKSKAGMNTSANVMDQLSKIVEKEIEKAVQNA...</td>\n",
       "      <td>None</td>\n",
       "    </tr>\n",
       "    <tr>\n",
       "      <th>1</th>\n",
       "      <td>AFX99764.1</td>\n",
       "      <td>Filament_forming</td>\n",
       "      <td>None</td>\n",
       "      <td>None</td>\n",
       "      <td>None</td>\n",
       "      <td>1069642</td>\n",
       "      <td>Bdellovibrio bacteriovorus str. Tiberius</td>\n",
       "      <td>Bdellovibrionota</td>\n",
       "      <td>Bdellovibrionia</td>\n",
       "      <td>None</td>\n",
       "      <td>None</td>\n",
       "      <td>MAEVLVVTSKVKKLIKEKGQMNTSAETIDVLSKAIEQLCLKGVESA...</td>\n",
       "      <td>None</td>\n",
       "    </tr>\n",
       "    <tr>\n",
       "      <th>2</th>\n",
       "      <td>AGH94288.1</td>\n",
       "      <td>Filament_forming</td>\n",
       "      <td>None</td>\n",
       "      <td>None</td>\n",
       "      <td>None</td>\n",
       "      <td>1184267</td>\n",
       "      <td>Pseudobdellovibrio exovorus JSS</td>\n",
       "      <td>Bdellovibrionota</td>\n",
       "      <td>Bdellovibrionia</td>\n",
       "      <td>None</td>\n",
       "      <td>None</td>\n",
       "      <td>MSEEVVLVVTSKVKKFIKEKGEMNTSAETIDMLSKAIERLCLKGIE...</td>\n",
       "      <td>None</td>\n",
       "    </tr>\n",
       "    <tr>\n",
       "      <th>3</th>\n",
       "      <td>ASD65320.1</td>\n",
       "      <td>Filament_forming</td>\n",
       "      <td>None</td>\n",
       "      <td>None</td>\n",
       "      <td>None</td>\n",
       "      <td>959</td>\n",
       "      <td>Bdellovibrio bacteriovorus</td>\n",
       "      <td>Bdellovibrionota</td>\n",
       "      <td>Bdellovibrionia</td>\n",
       "      <td>None</td>\n",
       "      <td>None</td>\n",
       "      <td>MAEVLVVTSKVKKLIKEKGQMNTSAETIDVLSKAIEQLCLKGVESA...</td>\n",
       "      <td>None</td>\n",
       "    </tr>\n",
       "    <tr>\n",
       "      <th>4</th>\n",
       "      <td>AZZ35344.1</td>\n",
       "      <td>Filament_forming</td>\n",
       "      <td>None</td>\n",
       "      <td>None</td>\n",
       "      <td>None</td>\n",
       "      <td>1916293</td>\n",
       "      <td>Bdellovibrio sp. qaytius</td>\n",
       "      <td>Bdellovibrionota</td>\n",
       "      <td>Bdellovibrionia</td>\n",
       "      <td>None</td>\n",
       "      <td>None</td>\n",
       "      <td>MSDDILVVTSKVKKYIKEKGQMNTSAETIDMLTKAVERLCAKGIES...</td>\n",
       "      <td>None</td>\n",
       "    </tr>\n",
       "    <tr>\n",
       "      <th>...</th>\n",
       "      <td>...</td>\n",
       "      <td>...</td>\n",
       "      <td>...</td>\n",
       "      <td>...</td>\n",
       "      <td>...</td>\n",
       "      <td>...</td>\n",
       "      <td>...</td>\n",
       "      <td>...</td>\n",
       "      <td>...</td>\n",
       "      <td>...</td>\n",
       "      <td>...</td>\n",
       "      <td>...</td>\n",
       "      <td>...</td>\n",
       "    </tr>\n",
       "    <tr>\n",
       "      <th>206</th>\n",
       "      <td>TVQ38025.1</td>\n",
       "      <td>Filament_forming</td>\n",
       "      <td>None</td>\n",
       "      <td>None</td>\n",
       "      <td>None</td>\n",
       "      <td>1898206</td>\n",
       "      <td>Spirochaetaceae bacterium</td>\n",
       "      <td>Spirochaetota</td>\n",
       "      <td>Spirochaetia</td>\n",
       "      <td>None</td>\n",
       "      <td>None</td>\n",
       "      <td>MSDKESLVIASKVKSYIKNTGDLKCSAAVMDVLSDKIRAICDEAIR...</td>\n",
       "      <td>None</td>\n",
       "    </tr>\n",
       "    <tr>\n",
       "      <th>207</th>\n",
       "      <td>TVR55163.1</td>\n",
       "      <td>Filament_forming</td>\n",
       "      <td>None</td>\n",
       "      <td>None</td>\n",
       "      <td>None</td>\n",
       "      <td>1898206</td>\n",
       "      <td>Spirochaetaceae bacterium</td>\n",
       "      <td>Spirochaetota</td>\n",
       "      <td>Spirochaetia</td>\n",
       "      <td>None</td>\n",
       "      <td>None</td>\n",
       "      <td>MRYIMSQHFFEGVSMGEKEVLVIASKVKSYIKSKGDLKCSAAVADV...</td>\n",
       "      <td>None</td>\n",
       "    </tr>\n",
       "    <tr>\n",
       "      <th>208</th>\n",
       "      <td>TWU31271.1</td>\n",
       "      <td>Filament_forming</td>\n",
       "      <td>None</td>\n",
       "      <td>None</td>\n",
       "      <td>None</td>\n",
       "      <td>2528033</td>\n",
       "      <td>Candidatus Brocadiaceae bacterium S225</td>\n",
       "      <td>Planctomycetota</td>\n",
       "      <td>Candidatus Brocadiia</td>\n",
       "      <td>None</td>\n",
       "      <td>None</td>\n",
       "      <td>MSDSNSEKEVLVVTSKLKKYIRESSGMSTSANVAPALSDTIRNLCN...</td>\n",
       "      <td>None</td>\n",
       "    </tr>\n",
       "    <tr>\n",
       "      <th>209</th>\n",
       "      <td>TXI77600.1</td>\n",
       "      <td>Filament_forming</td>\n",
       "      <td>None</td>\n",
       "      <td>None</td>\n",
       "      <td>None</td>\n",
       "      <td>2291710</td>\n",
       "      <td>Dokdonella sp.</td>\n",
       "      <td>Pseudomonadota</td>\n",
       "      <td>Gammaproteobacteria</td>\n",
       "      <td>None</td>\n",
       "      <td>None</td>\n",
       "      <td>MAETLVVVSKIKKMVKDKGLRTGGDYIEGLSKKVEDIVNAAVAKVQ...</td>\n",
       "      <td>None</td>\n",
       "    </tr>\n",
       "    <tr>\n",
       "      <th>210</th>\n",
       "      <td>UYL10501.1</td>\n",
       "      <td>Filament_forming</td>\n",
       "      <td>None</td>\n",
       "      <td>None</td>\n",
       "      <td>None</td>\n",
       "      <td>1732569</td>\n",
       "      <td>Bdellovibrio sp. SKB1291214</td>\n",
       "      <td>Bdellovibrionota</td>\n",
       "      <td>Bdellovibrionia</td>\n",
       "      <td>None</td>\n",
       "      <td>None</td>\n",
       "      <td>MAEVLVVTSKVKKLIKEKGGMNTSAETIDVLSKAIEQLCLKGVESA...</td>\n",
       "      <td>None</td>\n",
       "    </tr>\n",
       "  </tbody>\n",
       "</table>\n",
       "<p>211 rows × 13 columns</p>\n",
       "</div>"
      ],
      "text/plain": [
       "      accession           variant    gi ncbi_gene_id hgnc_gene_name  \\\n",
       "0    ADI38622.1  Filament_forming  None         None           None   \n",
       "1    AFX99764.1  Filament_forming  None         None           None   \n",
       "2    AGH94288.1  Filament_forming  None         None           None   \n",
       "3    ASD65320.1  Filament_forming  None         None           None   \n",
       "4    AZZ35344.1  Filament_forming  None         None           None   \n",
       "..          ...               ...   ...          ...            ...   \n",
       "206  TVQ38025.1  Filament_forming  None         None           None   \n",
       "207  TVR55163.1  Filament_forming  None         None           None   \n",
       "208  TWU31271.1  Filament_forming  None         None           None   \n",
       "209  TXI77600.1  Filament_forming  None         None           None   \n",
       "210  UYL10501.1  Filament_forming  None         None           None   \n",
       "\n",
       "     taxonomy_id                                  organism            phylum  \\\n",
       "0         716544          Waddlia chondrophila WSU 86-1044       Chlamydiota   \n",
       "1        1069642  Bdellovibrio bacteriovorus str. Tiberius  Bdellovibrionota   \n",
       "2        1184267           Pseudobdellovibrio exovorus JSS  Bdellovibrionota   \n",
       "3            959                Bdellovibrio bacteriovorus  Bdellovibrionota   \n",
       "4        1916293                  Bdellovibrio sp. qaytius  Bdellovibrionota   \n",
       "..           ...                                       ...               ...   \n",
       "206      1898206                 Spirochaetaceae bacterium     Spirochaetota   \n",
       "207      1898206                 Spirochaetaceae bacterium     Spirochaetota   \n",
       "208      2528033    Candidatus Brocadiaceae bacterium S225   Planctomycetota   \n",
       "209      2291710                            Dokdonella sp.    Pseudomonadota   \n",
       "210      1732569               Bdellovibrio sp. SKB1291214  Bdellovibrionota   \n",
       "\n",
       "                    class taxonomy_group  info  \\\n",
       "0              Chlamydiia           None  None   \n",
       "1         Bdellovibrionia           None  None   \n",
       "2         Bdellovibrionia           None  None   \n",
       "3         Bdellovibrionia           None  None   \n",
       "4         Bdellovibrionia           None  None   \n",
       "..                    ...            ...   ...   \n",
       "206          Spirochaetia           None  None   \n",
       "207          Spirochaetia           None  None   \n",
       "208  Candidatus Brocadiia           None  None   \n",
       "209   Gammaproteobacteria           None  None   \n",
       "210       Bdellovibrionia           None  None   \n",
       "\n",
       "                                              sequence  \\\n",
       "0    MNENLVVVSKVKKYIKSKAGMNTSANVMDQLSKIVEKEIEKAVQNA...   \n",
       "1    MAEVLVVTSKVKKLIKEKGQMNTSAETIDVLSKAIEQLCLKGVESA...   \n",
       "2    MSEEVVLVVTSKVKKFIKEKGEMNTSAETIDMLSKAIERLCLKGIE...   \n",
       "3    MAEVLVVTSKVKKLIKEKGQMNTSAETIDVLSKAIEQLCLKGVESA...   \n",
       "4    MSDDILVVTSKVKKYIKEKGQMNTSAETIDMLTKAVERLCAKGIES...   \n",
       "..                                                 ...   \n",
       "206  MSDKESLVIASKVKSYIKNTGDLKCSAAVMDVLSDKIRAICDEAIR...   \n",
       "207  MRYIMSQHFFEGVSMGEKEVLVIASKVKSYIKSKGDLKCSAAVADV...   \n",
       "208  MSDSNSEKEVLVVTSKLKKYIRESSGMSTSANVAPALSDTIRNLCN...   \n",
       "209  MAETLVVVSKIKKMVKDKGLRTGGDYIEGLSKKVEDIVNAAVAKVQ...   \n",
       "210  MAEVLVVTSKVKKLIKEKGGMNTSAETIDVLSKAIEQLCLKGVESA...   \n",
       "\n",
       "    variant_under_consideration  \n",
       "0                          None  \n",
       "1                          None  \n",
       "2                          None  \n",
       "3                          None  \n",
       "4                          None  \n",
       "..                          ...  \n",
       "206                        None  \n",
       "207                        None  \n",
       "208                        None  \n",
       "209                        None  \n",
       "210                        None  \n",
       "\n",
       "[211 rows x 13 columns]"
      ]
     },
     "execution_count": 12,
     "metadata": {},
     "output_type": "execute_result"
    }
   ],
   "source": [
    "query = \"SELECT * FROM sequence WHERE variant='Filament_forming'\"\n",
    "cursor.execute(query)\n",
    "pd.DataFrame(cursor.fetchall(), columns=[i[0] for i in cursor.description])"
   ]
  },
  {
   "cell_type": "code",
   "execution_count": 13,
   "id": "9732544f-b759-464b-82ac-967111cd9dfb",
   "metadata": {
    "tags": []
   },
   "outputs": [],
   "source": [
    "# Make sure data is committed to the database\n",
    "conn.commit()"
   ]
  },
  {
   "cell_type": "markdown",
   "id": "93338ac8-f557-44c7-9ac9-4ab6d7953fac",
   "metadata": {},
   "source": [
    "# Update name for Bridge"
   ]
  },
  {
   "cell_type": "code",
   "execution_count": 14,
   "id": "db92a71d-8272-488d-8d16-0f32eb94843a",
   "metadata": {
    "tags": []
   },
   "outputs": [
    {
     "data": {
      "text/html": [
       "<div>\n",
       "<style scoped>\n",
       "    .dataframe tbody tr th:only-of-type {\n",
       "        vertical-align: middle;\n",
       "    }\n",
       "\n",
       "    .dataframe tbody tr th {\n",
       "        vertical-align: top;\n",
       "    }\n",
       "\n",
       "    .dataframe thead th {\n",
       "        text-align: right;\n",
       "    }\n",
       "</style>\n",
       "<table border=\"1\" class=\"dataframe\">\n",
       "  <thead>\n",
       "    <tr style=\"text-align: right;\">\n",
       "      <th></th>\n",
       "      <th>id</th>\n",
       "      <th>level</th>\n",
       "      <th>taxonomic_span</th>\n",
       "      <th>taxonomic_span_id</th>\n",
       "      <th>description</th>\n",
       "      <th>parent</th>\n",
       "    </tr>\n",
       "  </thead>\n",
       "  <tbody>\n",
       "    <tr>\n",
       "      <th>0</th>\n",
       "      <td>Bridge</td>\n",
       "      <td>variant_group</td>\n",
       "      <td>Archaea, Bacteria, Viruses</td>\n",
       "      <td>2157, 2, 10239</td>\n",
       "      <td>214.0</td>\n",
       "      <td>Singlet</td>\n",
       "    </tr>\n",
       "  </tbody>\n",
       "</table>\n",
       "</div>"
      ],
      "text/plain": [
       "       id          level              taxonomic_span taxonomic_span_id  \\\n",
       "0  Bridge  variant_group  Archaea, Bacteria, Viruses    2157, 2, 10239   \n",
       "\n",
       "   description   parent  \n",
       "0        214.0  Singlet  "
      ]
     },
     "execution_count": 14,
     "metadata": {},
     "output_type": "execute_result"
    }
   ],
   "source": [
    "query = \"SELECT * FROM histone\"\n",
    "cursor.execute(query)\n",
    "histone_df = pd.DataFrame(cursor.fetchall(), columns=[i[0] for i in cursor.description])\n",
    "histone_df[histone_df[\"id\"] == \"Bridge\"]"
   ]
  },
  {
   "cell_type": "code",
   "execution_count": 22,
   "id": "2fbfad4b-0df8-45e4-883e-0a5f556a919e",
   "metadata": {
    "tags": []
   },
   "outputs": [
    {
     "data": {
      "text/plain": [
       "array(['Bridge_(Methanococcales)', 'Coiled-coil', 'Phage-histones',\n",
       "       'RdgC-histones'], dtype=object)"
      ]
     },
     "execution_count": 22,
     "metadata": {},
     "output_type": "execute_result"
    }
   ],
   "source": [
    "query = \"SELECT * FROM histone WHERE parent='Bridge'\"\n",
    "cursor.execute(query)\n",
    "children = pd.DataFrame(cursor.fetchall(), columns=[i[0] for i in cursor.description])['id'].values\n",
    "children"
   ]
  },
  {
   "cell_type": "code",
   "execution_count": 29,
   "id": "3dda376c-b2ee-4928-9ca3-a17a3731181d",
   "metadata": {
    "tags": []
   },
   "outputs": [],
   "source": [
    "for ch in children:\n",
    "    query = f\"UPDATE histone SET parent=null WHERE id='{ch}'\"\n",
    "    cursor.execute(query)"
   ]
  },
  {
   "cell_type": "code",
   "execution_count": 30,
   "id": "de2d8768-8fa4-4b32-bbe8-993809f2bcec",
   "metadata": {
    "tags": []
   },
   "outputs": [
    {
     "data": {
      "text/plain": [
       "array([], dtype=object)"
      ]
     },
     "execution_count": 30,
     "metadata": {},
     "output_type": "execute_result"
    }
   ],
   "source": [
    "query = \"SELECT * FROM histone WHERE parent='Bridge'\"\n",
    "cursor.execute(query)\n",
    "pd.DataFrame(cursor.fetchall(), columns=[i[0] for i in cursor.description])['id'].values"
   ]
  },
  {
   "cell_type": "code",
   "execution_count": 31,
   "id": "55bafdfb-1818-497e-aabf-a6e624559132",
   "metadata": {
    "tags": []
   },
   "outputs": [],
   "source": [
    "query = f\"UPDATE histone SET id='DNA_bridging' WHERE id='Bridge'\"\n",
    "cursor.execute(query)"
   ]
  },
  {
   "cell_type": "code",
   "execution_count": 32,
   "id": "f935b4d9-16be-43f9-963f-fd66cfe1f614",
   "metadata": {
    "tags": []
   },
   "outputs": [
    {
     "data": {
      "text/html": [
       "<div>\n",
       "<style scoped>\n",
       "    .dataframe tbody tr th:only-of-type {\n",
       "        vertical-align: middle;\n",
       "    }\n",
       "\n",
       "    .dataframe tbody tr th {\n",
       "        vertical-align: top;\n",
       "    }\n",
       "\n",
       "    .dataframe thead th {\n",
       "        text-align: right;\n",
       "    }\n",
       "</style>\n",
       "<table border=\"1\" class=\"dataframe\">\n",
       "  <thead>\n",
       "    <tr style=\"text-align: right;\">\n",
       "      <th></th>\n",
       "      <th>id</th>\n",
       "      <th>level</th>\n",
       "      <th>taxonomic_span</th>\n",
       "      <th>taxonomic_span_id</th>\n",
       "      <th>description</th>\n",
       "      <th>parent</th>\n",
       "    </tr>\n",
       "  </thead>\n",
       "  <tbody>\n",
       "  </tbody>\n",
       "</table>\n",
       "</div>"
      ],
      "text/plain": [
       "Empty DataFrame\n",
       "Columns: [id, level, taxonomic_span, taxonomic_span_id, description, parent]\n",
       "Index: []"
      ]
     },
     "execution_count": 32,
     "metadata": {},
     "output_type": "execute_result"
    }
   ],
   "source": [
    "query = \"SELECT * FROM histone\"\n",
    "cursor.execute(query)\n",
    "histone_df = pd.DataFrame(cursor.fetchall(), columns=[i[0] for i in cursor.description])\n",
    "histone_df[histone_df[\"id\"] == \"Bridge\"]"
   ]
  },
  {
   "cell_type": "code",
   "execution_count": 33,
   "id": "2c09b6ac-03c0-4b7e-bfbe-c660e7f573f6",
   "metadata": {
    "tags": []
   },
   "outputs": [
    {
     "data": {
      "text/html": [
       "<div>\n",
       "<style scoped>\n",
       "    .dataframe tbody tr th:only-of-type {\n",
       "        vertical-align: middle;\n",
       "    }\n",
       "\n",
       "    .dataframe tbody tr th {\n",
       "        vertical-align: top;\n",
       "    }\n",
       "\n",
       "    .dataframe thead th {\n",
       "        text-align: right;\n",
       "    }\n",
       "</style>\n",
       "<table border=\"1\" class=\"dataframe\">\n",
       "  <thead>\n",
       "    <tr style=\"text-align: right;\">\n",
       "      <th></th>\n",
       "      <th>id</th>\n",
       "      <th>level</th>\n",
       "      <th>taxonomic_span</th>\n",
       "      <th>taxonomic_span_id</th>\n",
       "      <th>description</th>\n",
       "      <th>parent</th>\n",
       "    </tr>\n",
       "  </thead>\n",
       "  <tbody>\n",
       "    <tr>\n",
       "      <th>79</th>\n",
       "      <td>DNA_bridging</td>\n",
       "      <td>variant_group</td>\n",
       "      <td>Archaea, Bacteria, Viruses</td>\n",
       "      <td>2157, 2, 10239</td>\n",
       "      <td>214.0</td>\n",
       "      <td>Singlet</td>\n",
       "    </tr>\n",
       "  </tbody>\n",
       "</table>\n",
       "</div>"
      ],
      "text/plain": [
       "              id          level              taxonomic_span taxonomic_span_id  \\\n",
       "79  DNA_bridging  variant_group  Archaea, Bacteria, Viruses    2157, 2, 10239   \n",
       "\n",
       "    description   parent  \n",
       "79        214.0  Singlet  "
      ]
     },
     "execution_count": 33,
     "metadata": {},
     "output_type": "execute_result"
    }
   ],
   "source": [
    "histone_df[histone_df[\"id\"] == \"DNA_bridging\"]"
   ]
  },
  {
   "cell_type": "code",
   "execution_count": 34,
   "id": "09130a7e-a3de-417d-82d7-a19a192f93b4",
   "metadata": {
    "tags": []
   },
   "outputs": [],
   "source": [
    "for ch in children:\n",
    "    query = f\"UPDATE histone SET parent='DNA_bridging' WHERE id='{ch}'\"\n",
    "    cursor.execute(query)"
   ]
  },
  {
   "cell_type": "code",
   "execution_count": 35,
   "id": "8afe9d5c-5d09-4242-857e-05cad6350c73",
   "metadata": {
    "tags": []
   },
   "outputs": [
    {
     "data": {
      "text/plain": [
       "array(['Bridge_(Methanococcales)', 'Coiled-coil', 'Phage-histones',\n",
       "       'RdgC-histones'], dtype=object)"
      ]
     },
     "execution_count": 35,
     "metadata": {},
     "output_type": "execute_result"
    }
   ],
   "source": [
    "query = \"SELECT * FROM histone WHERE parent='DNA_bridging'\"\n",
    "cursor.execute(query)\n",
    "pd.DataFrame(cursor.fetchall(), columns=[i[0] for i in cursor.description])['id'].values"
   ]
  },
  {
   "cell_type": "code",
   "execution_count": 36,
   "id": "244a3e7d-4921-4da6-994c-a8096e1820c9",
   "metadata": {
    "tags": []
   },
   "outputs": [
    {
     "data": {
      "text/html": [
       "<div>\n",
       "<style scoped>\n",
       "    .dataframe tbody tr th:only-of-type {\n",
       "        vertical-align: middle;\n",
       "    }\n",
       "\n",
       "    .dataframe tbody tr th {\n",
       "        vertical-align: top;\n",
       "    }\n",
       "\n",
       "    .dataframe thead th {\n",
       "        text-align: right;\n",
       "    }\n",
       "</style>\n",
       "<table border=\"1\" class=\"dataframe\">\n",
       "  <thead>\n",
       "    <tr style=\"text-align: right;\">\n",
       "      <th></th>\n",
       "      <th>accession</th>\n",
       "      <th>variant</th>\n",
       "      <th>gi</th>\n",
       "      <th>ncbi_gene_id</th>\n",
       "      <th>hgnc_gene_name</th>\n",
       "      <th>taxonomy_id</th>\n",
       "      <th>organism</th>\n",
       "      <th>phylum</th>\n",
       "      <th>class</th>\n",
       "      <th>taxonomy_group</th>\n",
       "      <th>info</th>\n",
       "      <th>sequence</th>\n",
       "      <th>variant_under_consideration</th>\n",
       "    </tr>\n",
       "  </thead>\n",
       "  <tbody>\n",
       "  </tbody>\n",
       "</table>\n",
       "</div>"
      ],
      "text/plain": [
       "Empty DataFrame\n",
       "Columns: [accession, variant, gi, ncbi_gene_id, hgnc_gene_name, taxonomy_id, organism, phylum, class, taxonomy_group, info, sequence, variant_under_consideration]\n",
       "Index: []"
      ]
     },
     "execution_count": 36,
     "metadata": {},
     "output_type": "execute_result"
    }
   ],
   "source": [
    "query = \"SELECT * FROM sequence WHERE variant='DNA_bridging'\"\n",
    "cursor.execute(query)\n",
    "pd.DataFrame(cursor.fetchall(), columns=[i[0] for i in cursor.description])"
   ]
  },
  {
   "cell_type": "code",
   "execution_count": 37,
   "id": "a5a114fc-a254-4b69-ace9-eb02f4fe04b2",
   "metadata": {
    "tags": []
   },
   "outputs": [],
   "source": [
    "# Make sure data is committed to the database\n",
    "conn.commit()"
   ]
  },
  {
   "cell_type": "markdown",
   "id": "d3c8a219-f508-46e1-936f-7d6040016e39",
   "metadata": {
    "tags": []
   },
   "source": [
    "# Close connections"
   ]
  },
  {
   "cell_type": "code",
   "execution_count": 38,
   "id": "572059d8-54f9-4ec7-a2c6-1c8066552845",
   "metadata": {
    "tags": []
   },
   "outputs": [],
   "source": [
    "cursor.close()\n",
    "conn.close()\n",
    "tunnel.stop()"
   ]
  },
  {
   "cell_type": "code",
   "execution_count": null,
   "id": "790ee020-09af-4dcc-9c36-f1b3f69ea8a7",
   "metadata": {},
   "outputs": [],
   "source": []
  }
 ],
 "metadata": {
  "@deathbeds/ipydrawio": {
   "xml": ""
  },
  "kernelspec": {
   "display_name": ".conda-histdb_env",
   "language": "python",
   "name": "conda-env-.conda-histdb_env-py"
  },
  "language_info": {
   "codemirror_mode": {
    "name": "ipython",
    "version": 3
   },
   "file_extension": ".py",
   "mimetype": "text/x-python",
   "name": "python",
   "nbconvert_exporter": "python",
   "pygments_lexer": "ipython3",
   "version": "3.8.1"
  }
 },
 "nbformat": 4,
 "nbformat_minor": 5
}
