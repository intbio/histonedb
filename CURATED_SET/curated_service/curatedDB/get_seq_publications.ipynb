{
 "cells": [
  {
   "cell_type": "code",
   "execution_count": 1,
   "id": "713ac3f3-2233-4f7e-bce8-490dac1a0f26",
   "metadata": {
    "tags": []
   },
   "outputs": [],
   "source": [
    "import json\n",
    "\n",
    "import pandas as pd\n",
    "from mysql.connector import connection\n",
    "from sshtunnel import SSHTunnelForwarder"
   ]
  },
  {
   "cell_type": "code",
   "execution_count": null,
   "id": "c332deda-7088-4224-84ed-99f3444ed931",
   "metadata": {},
   "outputs": [],
   "source": [
    "with open('db_curated_server_info.txt', 'r') as file:\n",
    "    lines = file.readlines()\n",
    "\n",
    "config = {}\n",
    "\n",
    "for line in lines:\n",
    "    line = line.strip()  \n",
    "    if line and not line.startswith('#'):  \n",
    "        key, value = line.split('=', 1)  \n",
    "        config[key] = value.strip()  \n",
    "\n",
    "server_name = config.get('server_name')\n",
    "srever_port = int(config.get('srever_port'))\n",
    "ssh_password = config.get('ssh_password')\n",
    "ssh_username = config.get('ssh_username')\n",
    "db_adress = config.get('db_adress')\n",
    "db_port = int(config.get('db_port'))"
   ]
  },
  {
   "cell_type": "code",
   "execution_count": 2,
   "id": "8f76aa83-7659-4283-b61b-d4771339452a",
   "metadata": {},
   "outputs": [
    {
     "name": "stdout",
     "output_type": "stream",
     "text": [
      "46825\n"
     ]
    }
   ],
   "source": [
    "tunnel = SSHTunnelForwarder(\n",
    "    (server_name, srever_port),\n",
    "    ssh_password=ssh_password,\n",
    "    ssh_username=ssh_username,\n",
    "    remote_bind_address=(db_adress, db_port),\n",
    ")\n",
    "tunnel.start()\n",
    "print(tunnel.local_bind_port)"
   ]
  },
  {
   "cell_type": "code",
   "execution_count": 3,
   "id": "194c4be6-c39c-4e6a-bd65-6265aff2b2e3",
   "metadata": {
    "tags": []
   },
   "outputs": [],
   "source": [
    "conn = connection.MySQLConnection(\n",
    "    user=\"db_user\",\n",
    "    password=\"db_password\",\n",
    "    host=\"localhost\",\n",
    "    port=tunnel.local_bind_port,\n",
    "    database=\"db_name\",\n",
    ")\n",
    "cursor = conn.cursor()"
   ]
  },
  {
   "cell_type": "code",
   "execution_count": 4,
   "id": "55e0025e-1aa7-429d-b742-7992a0807386",
   "metadata": {
    "tags": []
   },
   "outputs": [
    {
     "data": {
      "text/plain": [
       "[('alternative_name',),\n",
       " ('histone',),\n",
       " ('histone_description',),\n",
       " ('histone_has_publication',),\n",
       " ('publication',),\n",
       " ('sequence',),\n",
       " ('sequence_has_publication',)]"
      ]
     },
     "execution_count": 4,
     "metadata": {},
     "output_type": "execute_result"
    }
   ],
   "source": [
    "query = \"SHOW TABLES;\"\n",
    "cursor.execute(query)\n",
    "cursor.fetchall()"
   ]
  },
  {
   "cell_type": "code",
   "execution_count": 21,
   "id": "1b94c6f5-aa1f-4e8f-8fb5-e9fe90349ad2",
   "metadata": {
    "tags": []
   },
   "outputs": [
    {
     "data": {
      "text/plain": [
       "'id, h.level, h.taxonomic_span, h.taxonomic_span_id, h.description, h.parent'"
      ]
     },
     "execution_count": 21,
     "metadata": {},
     "output_type": "execute_result"
    }
   ],
   "source": [
    "query = \"SELECT * FROM histone\"\n",
    "cursor.execute(query)\n",
    "cursor.fetchall()\n",
    "\", h.\".join([i[0] for i in cursor.description])"
   ]
  },
  {
   "cell_type": "code",
   "execution_count": 18,
   "id": "3e9fc8d6-6cec-458f-bc88-c2b0dba44eac",
   "metadata": {
    "tags": []
   },
   "outputs": [
    {
     "data": {
      "text/plain": [
       "'id, d.summary, d.taxonomy, d.genes, d.evolution, d.expression, d.knock_out, d.function, d.sequence, d.localization, d.deposition, d.structure, d.interactions, d.disease, d.caveats'"
      ]
     },
     "execution_count": 18,
     "metadata": {},
     "output_type": "execute_result"
    }
   ],
   "source": [
    "query = \"SELECT * FROM histone_description\"\n",
    "cursor.execute(query)\n",
    "cursor.fetchall()\n",
    "\", d.\".join([i[0] for i in cursor.description])"
   ]
  },
  {
   "cell_type": "code",
   "execution_count": 20,
   "id": "1e69ddc4-1026-497c-ba5c-6052910bf0dd",
   "metadata": {
    "tags": []
   },
   "outputs": [
    {
     "data": {
      "text/plain": [
       "'id, an.name, an.taxonomy, an.gene, an.splice, an.histone'"
      ]
     },
     "execution_count": 20,
     "metadata": {},
     "output_type": "execute_result"
    }
   ],
   "source": [
    "query = \"SELECT * FROM alternative_name\"\n",
    "cursor.execute(query)\n",
    "cursor.fetchall()\n",
    "\", an.\".join([i[0] for i in cursor.description])"
   ]
  },
  {
   "cell_type": "code",
   "execution_count": 22,
   "id": "31e1c1a9-4f47-4561-8c86-f400aeaa5524",
   "metadata": {
    "tags": []
   },
   "outputs": [
    {
     "data": {
      "text/plain": [
       "'id, p.title, p.doi, p.author, p.year'"
      ]
     },
     "execution_count": 22,
     "metadata": {},
     "output_type": "execute_result"
    }
   ],
   "source": [
    "query = \"SELECT * FROM publication\"\n",
    "cursor.execute(query)\n",
    "cursor.fetchall()\n",
    "\", p.\".join([i[0] for i in cursor.description])"
   ]
  },
  {
   "cell_type": "code",
   "execution_count": 6,
   "id": "43ea2683-0420-49de-bbfe-fdac3ab08566",
   "metadata": {
    "tags": []
   },
   "outputs": [
    {
     "data": {
      "text/html": [
       "<div>\n",
       "<style scoped>\n",
       "    .dataframe tbody tr th:only-of-type {\n",
       "        vertical-align: middle;\n",
       "    }\n",
       "\n",
       "    .dataframe tbody tr th {\n",
       "        vertical-align: top;\n",
       "    }\n",
       "\n",
       "    .dataframe thead th {\n",
       "        text-align: right;\n",
       "    }\n",
       "</style>\n",
       "<table border=\"1\" class=\"dataframe\">\n",
       "  <thead>\n",
       "    <tr style=\"text-align: right;\">\n",
       "      <th></th>\n",
       "      <th>id</th>\n",
       "      <th>level</th>\n",
       "      <th>taxonomic_span</th>\n",
       "      <th>taxonomic_span_id</th>\n",
       "      <th>description</th>\n",
       "      <th>parent</th>\n",
       "    </tr>\n",
       "  </thead>\n",
       "  <tbody>\n",
       "    <tr>\n",
       "      <th>0</th>\n",
       "      <td>H3.3</td>\n",
       "      <td>variant_group</td>\n",
       "      <td>Eukaryotes</td>\n",
       "      <td>2759</td>\n",
       "      <td>31</td>\n",
       "      <td>H3</td>\n",
       "    </tr>\n",
       "  </tbody>\n",
       "</table>\n",
       "</div>"
      ],
      "text/plain": [
       "     id          level taxonomic_span taxonomic_span_id  description parent\n",
       "0  H3.3  variant_group     Eukaryotes              2759           31     H3"
      ]
     },
     "execution_count": 6,
     "metadata": {},
     "output_type": "execute_result"
    }
   ],
   "source": [
    "query = \"SELECT * FROM histone WHERE id='H3.3'\"\n",
    "cursor.execute(query)\n",
    "# for i in cursor:\n",
    "#     print(i)\n",
    "histone_df = pd.DataFrame(cursor.fetchall(), columns=[i[0] for i in cursor.description])\n",
    "histone_df"
   ]
  },
  {
   "cell_type": "code",
   "execution_count": 10,
   "id": "1ddfa9a3-7e80-4455-b1b4-96e9abdb724a",
   "metadata": {
    "tags": []
   },
   "outputs": [
    {
     "data": {
      "text/plain": [
       "[('Archaeal',), ('H1',), ('H2A',), ('H2B',), ('H3',), ('H4',), ('Viral',)]"
      ]
     },
     "execution_count": 10,
     "metadata": {},
     "output_type": "execute_result"
    }
   ],
   "source": [
    "query = \"SELECT id FROM histone WHERE parent IS NULL\"\n",
    "cursor.execute(query)\n",
    "types = cursor.fetchall()\n",
    "types"
   ]
  },
  {
   "cell_type": "code",
   "execution_count": 16,
   "id": "673a11dc-fd2f-47e8-a387-3b96a2b3baf3",
   "metadata": {
    "tags": []
   },
   "outputs": [],
   "source": [
    "query = \"SELECT * FROM sequence s RIGHT JOIN sequence_has_publication sp ON s.accession = sp.sequence_accession\"\n",
    "cursor.execute(query)\n",
    "sequence_df = pd.DataFrame(\n",
    "    cursor.fetchall(), columns=[i[0] for i in cursor.description]\n",
    ")\n",
    "# sequence_df\n",
    "sequence_df[\n",
    "    [\"publication_id\", \"accession\", \"variant\", \"variant_under_consideration\", \"organism\", \"sequence\"]\n",
    "].to_csv(\"publications.csv\")\n",
    "# .groupby([\"publication_id\"])[\"accession\"].apply(\n",
    "#     lambda x: [] if x.dropna().empty else list(x.unique())\n",
    "# ).reset_index().to_csv('publications.csv')"
   ]
  },
  {
   "cell_type": "code",
   "execution_count": 140,
   "id": "45a8f045-1e72-4729-94f6-3ecd87bef698",
   "metadata": {
    "tags": []
   },
   "outputs": [
    {
     "data": {
      "text/plain": [
       "['sequence_accession', 'publication_id']"
      ]
     },
     "execution_count": 140,
     "metadata": {},
     "output_type": "execute_result"
    }
   ],
   "source": [
    "query = \"SELECT * FROM sequence_has_publication\"\n",
    "cursor.execute(query)\n",
    "cursor.fetchall()\n",
    "[i[0] for i in cursor.description]"
   ]
  },
  {
   "cell_type": "code",
   "execution_count": 6,
   "id": "b7719968-002f-4229-846d-e4a8f180ec6b",
   "metadata": {
    "tags": []
   },
   "outputs": [],
   "source": [
    "cursor.close()\n",
    "conn.close()\n",
    "tunnel.stop()"
   ]
  },
  {
   "cell_type": "code",
   "execution_count": null,
   "id": "80ac59fe-375e-4e82-9b6a-81c472b6dbb1",
   "metadata": {},
   "outputs": [],
   "source": []
  }
 ],
 "metadata": {
  "kernelspec": {
   "display_name": ".conda-histdb_env",
   "language": "python",
   "name": "conda-env-.conda-histdb_env-py"
  },
  "language_info": {
   "codemirror_mode": {
    "name": "ipython",
    "version": 3
   },
   "file_extension": ".py",
   "mimetype": "text/x-python",
   "name": "python",
   "nbconvert_exporter": "python",
   "pygments_lexer": "ipython3",
   "version": "3.8.1"
  }
 },
 "nbformat": 4,
 "nbformat_minor": 5
}
