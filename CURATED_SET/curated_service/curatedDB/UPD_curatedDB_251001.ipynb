{
 "cells": [
  {
   "cell_type": "code",
   "execution_count": 1,
   "id": "53d3ec55-7daf-4ade-8add-2830b709dc54",
   "metadata": {
    "tags": []
   },
   "outputs": [],
   "source": [
    "import io\n",
    "\n",
    "import pandas as pd\n",
    "from Bio import Entrez, SeqIO\n",
    "from mysql.connector import connection\n",
    "from sshtunnel import SSHTunnelForwarder\n",
    "\n",
    "# Укажите ваш email (обязательно для использования Entrez)\n",
    "Entrez.email = \"your.email@example.com\""
   ]
  },
  {
   "cell_type": "code",
   "execution_count": 2,
   "id": "608c4bfe-b979-4b60-b2b5-b94eeb679cb5",
   "metadata": {
    "tags": []
   },
   "outputs": [],
   "source": [
    "with open(\"db_curated_server_info.txt\", \"r\") as file:\n",
    "    lines = file.readlines()\n",
    "\n",
    "config = {}\n",
    "\n",
    "for line in lines:\n",
    "    line = line.strip()\n",
    "    if line and not line.startswith(\"#\"):\n",
    "        key, value = line.split(\"=\", 1)\n",
    "        config[key] = value.strip()\n",
    "\n",
    "server_name = config.get(\"server_name\")\n",
    "srever_port = int(config.get(\"srever_port\"))\n",
    "ssh_password = config.get(\"ssh_password\")\n",
    "ssh_username = config.get(\"ssh_username\")\n",
    "db_adress = config.get(\"db_adress\")\n",
    "db_port = int(config.get(\"db_port\"))"
   ]
  },
  {
   "cell_type": "code",
   "execution_count": 3,
   "id": "4e19aa1c-49a3-48c4-b67f-34c94cef608d",
   "metadata": {
    "tags": []
   },
   "outputs": [
    {
     "name": "stdout",
     "output_type": "stream",
     "text": [
      "43809\n"
     ]
    }
   ],
   "source": [
    "tunnel = SSHTunnelForwarder(\n",
    "    (server_name, srever_port),\n",
    "    ssh_password=ssh_password,\n",
    "    ssh_username=ssh_username,\n",
    "    remote_bind_address=(db_adress, db_port),\n",
    ")\n",
    "tunnel.start()\n",
    "print(tunnel.local_bind_port)"
   ]
  },
  {
   "cell_type": "code",
   "execution_count": 4,
   "id": "cef2275b-12d0-48f1-ad3c-ce4cdb9aa267",
   "metadata": {
    "tags": []
   },
   "outputs": [],
   "source": [
    "conn = connection.MySQLConnection(\n",
    "    user=\"db_user\",\n",
    "    password=\"db_password\",\n",
    "    host=\"localhost\",\n",
    "    port=tunnel.local_bind_port,\n",
    "    database=\"db_name\",\n",
    ")\n",
    "cursor = conn.cursor()"
   ]
  },
  {
   "cell_type": "code",
   "execution_count": 5,
   "id": "f589ea8d-8b83-4331-a1cf-b64ed7621801",
   "metadata": {
    "tags": []
   },
   "outputs": [
    {
     "data": {
      "text/plain": [
       "[('alternative_name',),\n",
       " ('histone',),\n",
       " ('histone_description',),\n",
       " ('histone_has_publication',),\n",
       " ('publication',),\n",
       " ('sequence',),\n",
       " ('sequence_has_publication',)]"
      ]
     },
     "execution_count": 5,
     "metadata": {},
     "output_type": "execute_result"
    }
   ],
   "source": [
    "query = \"SHOW TABLES;\"\n",
    "cursor.execute(query)\n",
    "cursor.fetchall()"
   ]
  },
  {
   "cell_type": "code",
   "execution_count": 18,
   "id": "b3dd9ef8-b162-4127-9535-ac7743af8c69",
   "metadata": {
    "tags": []
   },
   "outputs": [],
   "source": [
    "# add_histone = (\n",
    "#     \"INSERT INTO histone \"\n",
    "#     \"(id, level, taxonomic_span, taxonomic_span_id, description, parent) \"\n",
    "#     \"VALUES (%(id)s, %(level)s, %(taxonomic_span)s, %(taxonomic_span_id)s, %(description)s, %(parent)s)\"\n",
    "# )\n",
    "add_histone_description = (\n",
    "    \"INSERT INTO histone_description \"\n",
    "    \"(summary, taxonomy, genes, evolution, expression, knock_out, function, sequence, localization, deposition, structure, interactions, disease, caveats) \"\n",
    "    \"VALUES (%s, %s, %s, %s, %s, %s, %s, %s, %s, %s, %s, %s, %s, %s)\"\n",
    ")\n",
    "add_publication = (\n",
    "    \"INSERT INTO publication \"\n",
    "    \"(id, title, doi, author, year) \"\n",
    "    \"VALUES (%(id)s, %(title)s, %(doi)s, %(author)s, %(year)s)\"\n",
    ")\n",
    "# add_sequence = (\n",
    "#     \"INSERT INTO sequence \"\n",
    "#     \"(accession, variant, gi, ncbi_gene_id, hgnc_gene_name, taxonomy_id, organism, phylum, class, taxonomy_group, info, sequence, variant_under_consideration) \"\n",
    "#     \"VALUES (%(accession)s, %(variant)s, %(gi)s, %(ncbi_gene_id)s, %(hgnc_gene_name)s, %(taxonomy_id)s, %(organism)s, %(phylum)s, %(class)s, %(taxonomy_group)s, %(info)s, %(sequence)s, %(variant_under_consideration)s)\"\n",
    "# )\n",
    "# add_sequence_has_publication = (\n",
    "#     \"INSERT INTO sequence_has_publication \"\n",
    "#     \"(sequence_accession, publication_id) \"\n",
    "#     \"VALUES (%s, %s)\"\n",
    "# )\n",
    "# add_alternate_names = (\n",
    "#     \"INSERT INTO alternative_name \"\n",
    "#     \"(name, taxonomy, gene, splice, histone) \"\n",
    "#     \"VALUES (%(name)s, %(taxonomy)s, %(gene)s, %(splice)s, %(histone)s)\"\n",
    "# )\n",
    "add_histone_has_publication = (\n",
    "    \"INSERT INTO histone_has_publication \"\n",
    "    \"(histone_id, publication_id) \"\n",
    "    \"VALUES (%s, %s)\"\n",
    ")"
   ]
  },
  {
   "cell_type": "code",
   "execution_count": 14,
   "id": "acf1cf14-5f3d-475a-a62d-592198b0dbe9",
   "metadata": {
    "tags": []
   },
   "outputs": [
    {
     "data": {
      "text/html": [
       "<div>\n",
       "<style scoped>\n",
       "    .dataframe tbody tr th:only-of-type {\n",
       "        vertical-align: middle;\n",
       "    }\n",
       "\n",
       "    .dataframe tbody tr th {\n",
       "        vertical-align: top;\n",
       "    }\n",
       "\n",
       "    .dataframe thead th {\n",
       "        text-align: right;\n",
       "    }\n",
       "</style>\n",
       "<table border=\"1\" class=\"dataframe\">\n",
       "  <thead>\n",
       "    <tr style=\"text-align: right;\">\n",
       "      <th></th>\n",
       "      <th>id</th>\n",
       "      <th>title</th>\n",
       "      <th>doi</th>\n",
       "      <th>author</th>\n",
       "      <th>year</th>\n",
       "      <th>pubmed_id</th>\n",
       "    </tr>\n",
       "  </thead>\n",
       "  <tbody>\n",
       "  </tbody>\n",
       "</table>\n",
       "</div>"
      ],
      "text/plain": [
       "Empty DataFrame\n",
       "Columns: [id, title, doi, author, year, pubmed_id]\n",
       "Index: []"
      ]
     },
     "execution_count": 14,
     "metadata": {},
     "output_type": "execute_result"
    }
   ],
   "source": [
    "query = \"SELECT * FROM publication \"\n",
    "cursor.execute(query)\n",
    "df = pd.DataFrame(cursor.fetchall(), columns=[i[0] for i in cursor.description])\n",
    "df[df[\"id\"].str.startswith(\"hara\")]"
   ]
  },
  {
   "cell_type": "code",
   "execution_count": 70,
   "id": "5fb70ce5-8cd8-4602-be43-096516d085ec",
   "metadata": {
    "tags": []
   },
   "outputs": [],
   "source": [
    "query = \"SELECT * FROM histone_description \"\n",
    "cursor.execute(query)\n",
    "df = pd.DataFrame(cursor.fetchall(), columns=[i[0] for i in cursor.description])\n",
    "# df\n",
    "for s in df.apply(lambda row: \"\".join(row.astype(str)), axis=1):\n",
    "    if \"henikoff_heterochromatic_2000\" in s:\n",
    "        print(s)\n",
    "        print(\"---------------\")"
   ]
  },
  {
   "cell_type": "code",
   "execution_count": 41,
   "id": "400c2338-9a32-4efa-9e1a-e582d4424c20",
   "metadata": {
    "tags": []
   },
   "outputs": [
    {
     "data": {
      "text/html": [
       "<div>\n",
       "<style scoped>\n",
       "    .dataframe tbody tr th:only-of-type {\n",
       "        vertical-align: middle;\n",
       "    }\n",
       "\n",
       "    .dataframe tbody tr th {\n",
       "        vertical-align: top;\n",
       "    }\n",
       "\n",
       "    .dataframe thead th {\n",
       "        text-align: right;\n",
       "    }\n",
       "</style>\n",
       "<table border=\"1\" class=\"dataframe\">\n",
       "  <thead>\n",
       "    <tr style=\"text-align: right;\">\n",
       "      <th></th>\n",
       "      <th>Tables_in_db_name</th>\n",
       "    </tr>\n",
       "  </thead>\n",
       "  <tbody>\n",
       "    <tr>\n",
       "      <th>0</th>\n",
       "      <td>alternative_name</td>\n",
       "    </tr>\n",
       "    <tr>\n",
       "      <th>1</th>\n",
       "      <td>histone</td>\n",
       "    </tr>\n",
       "    <tr>\n",
       "      <th>2</th>\n",
       "      <td>histone_description</td>\n",
       "    </tr>\n",
       "    <tr>\n",
       "      <th>3</th>\n",
       "      <td>histone_has_publication</td>\n",
       "    </tr>\n",
       "    <tr>\n",
       "      <th>4</th>\n",
       "      <td>publication</td>\n",
       "    </tr>\n",
       "    <tr>\n",
       "      <th>5</th>\n",
       "      <td>sequence</td>\n",
       "    </tr>\n",
       "    <tr>\n",
       "      <th>6</th>\n",
       "      <td>sequence_has_publication</td>\n",
       "    </tr>\n",
       "  </tbody>\n",
       "</table>\n",
       "</div>"
      ],
      "text/plain": [
       "          Tables_in_db_name\n",
       "0          alternative_name\n",
       "1                   histone\n",
       "2       histone_description\n",
       "3   histone_has_publication\n",
       "4               publication\n",
       "5                  sequence\n",
       "6  sequence_has_publication"
      ]
     },
     "execution_count": 41,
     "metadata": {},
     "output_type": "execute_result"
    }
   ],
   "source": [
    "query = \"SHOW TABLES; \"\n",
    "cursor.execute(query)\n",
    "pd.DataFrame(cursor.fetchall(), columns=[i[0] for i in cursor.description])"
   ]
  },
  {
   "cell_type": "code",
   "execution_count": null,
   "id": "f5b32a2a-ee60-44f2-9b3f-46a239ebaa84",
   "metadata": {},
   "outputs": [],
   "source": []
  },
  {
   "cell_type": "markdown",
   "id": "d659289a-26d4-4f4a-9561-6aa324b54cc2",
   "metadata": {},
   "source": [
    "# To Do H3-like\n",
    "\n",
    "## <span style=\"color:green\">Update description to H3.Y.1_(Homo_sapiens)</span>\n",
    "\n",
    "### <span style=\"color:green\">Update knock_out</span>\n",
    "\n",
    "```Knockdown of both genes encoding H3.Y (H3Y1 and H3Y2) using siRNA suppresses the super-induction of DUX4 target genes (including LEUTX) upon reactivation and reduces the persistence of their expression, but does not affect constitutively expressed genes [resnick_dux4-induced_2019, kong_engineered_2024].```\n",
    "\n",
    "### <span style=\"color:green\">Update function</span>\n",
    "\n",
    "```Although the functions of H3.Y.1 remain poorly understood, it is known to promote cell growth and regulate the expression of genes involved in cell cycle control and mitosis [wiedemann_identification_2010]. The presence of H3.Y.1 (along with H3.Y.2) in hippocampal neurons suggests a potential role in primate-specific brain functions [wiedemann_identification_2010]. Furthermore, H3.Y.1 and H3.Y.2 are induced by the transcription factor DUX4, participant of zygotic genome activation (ZGA), to facilitate the persistence and reactivation of DUX4 target genes following its transient expression [kong_engineered_2024, talbert_histone_2021, resnick_dux4-induced_2019]. Interestinglly, H3.Y.1 and H3.Y.2 have been identified as a specific marker of 8-cell-like cells (8CLCs) and are also detected in vivo within the nuclei of human 8-cell embryos at the peak of ZGA [taubenschmid-stowers_8c-like_2022]. During blastomere division, H3.Y.1 and H3.Y.2 show strong association with condensed chromosomes at prophase and metaphase stages [taubenschmid-stowers_8c-like_2022]. Taubenschmid-Stowers et al. suggest that H3.Y.1 and H3.Y.2 may be necessary for large-scale genome activation during early human embryogenesis [taubenschmid-stowers_8c-like_2022].```\n",
    "\n",
    "### <span style=\"color:green\">Add disease</span>\n",
    "\n",
    "```H3.Y.1 and H3.Y.2 are critical epigenetic amplifiers in facioscapulohumeral dystrophy (FSHD) pathogenesis [kong_engineered_2024]. They incorporate into chromatin to activate late targets like LEUTX, which in turn stimulates H3.Y.1 and H3.Y.2 expression, forming a pathogenic positive feedback loop. This coherent feedforward network with DUX4 and LEUTX potently stabilizes and enhances the aberrant FSHD gene expression signature [kong_engineered_2024.```\n",
    "\n",
    "## <span style=\"color:green\">Update description to H3.Y.2_(Homo_sapiens)</span>\n",
    "\n",
    "### <span style=\"color:green\">Update knock_out</span>\n",
    "\n",
    "```Knockdown of both genes encoding H3.Y (H3Y1 and H3Y2) using siRNA suppresses the super-induction of DUX4 target genes (including LEUTX) upon reactivation and reduces the persistence of their expression, but does not affect constitutively expressed genes [resnick_dux4-induced_2019, kong_engineered_2024].```\n",
    "\n",
    "### <span style=\"color:green\">Update function</span>\n",
    "\n",
    "```The functions of H3.Y.2 remain poorly understood. However, the presence of H3.Y.2 (along with H3.Y.1) in hippocampal neurons suggests a potential role in primate-specific brain functions [wiedemann_identification_2010]. In addition, H3.Y.1 and H3.Y.2 are induced by the transcription factor DUX4, participant of zygotic genome activation (ZGA), to facilitate the persistence and reactivation of DUX4 target genes following its transient expression [kong_engineered_2024, talbert_histone_2021, resnick_dux4-induced_2019]. Interestinglly, H3.Y.1 and H3.Y.2 have been identified as a specific marker of 8-cell-like cells (8CLCs) and are also detected in vivo within the nuclei of human 8-cell embryos at the peak of ZGA [taubenschmid-stowers_8c-like_2022]. During blastomere division, H3.Y.1 and H3.Y.2 show strong association with condensed chromosomes at prophase and metaphase stages [taubenschmid-stowers_8c-like_2022]. Taubenschmid-Stowers et al. suggest that H3.Y.1 and H3.Y.2 may be necessary for large-scale genome activation during early human embryogenesis [taubenschmid-stowers_8c-like_2022].```\n",
    "\n",
    "### <span style=\"color:green\">Add disease</span>\n",
    "\n",
    "```H3.Y.1 and H3.Y.2 are critical epigenetic amplifiers in facioscapulohumeral dystrophy (FSHD) pathogenesis [kong_engineered_2024]. They incorporate into chromatin to activate late targets like LEUTX, which in turn stimulates H3.Y.1 and H3.Y.2 expression, forming a pathogenic positive feedback loop. This coherent feedforward network with DUX4 and LEUTX potently stabilizes and enhances the aberrant FSHD gene expression signature [kong_engineered_2024.```\n",
    "\n",
    "## <span style=\"color:black\">ВАЖНО!!!</span>\n",
    "\n",
    "### Предыдущее описание H3.Y:\n",
    "\n",
    "**Summary:** H3.Y is involved in memory formation due to its presence in neurons in human hippocampus. One splice isoform has an extended C-terminal alpha tail that may interacts with the H2A.Z acidic patch\n",
    "**Taxonomic span:** Primates, 9443\n",
    "**Alternate names:** H3.X"
   ]
  },
  {
   "cell_type": "markdown",
   "id": "6964d62a-4a89-4404-b7c2-7006adc0f366",
   "metadata": {},
   "source": [
    "# To Do H3\n",
    "\n",
    "## <span style=\"color:green\">Add description to H3.4_(Homo_sapiens)</span>\n",
    "\n",
    "### <span style=\"color:green\">Add summary</span>\n",
    "\n",
    "```H3.4_(Homo_sapiens) is a human H3 histone variant highly expressed in testis and at lower level in other tissues.```\n",
    "\n",
    "### <span style=\"color:green\">Add gene</span>\n",
    "\n",
    "```H3.4 is encoded by H3-4 gene (formerly HIST3H3, also an alias name H3C16 has been suggested (Seal et al.)), located on chromosome 1 adjacent to genes H2AC25 and H2BC26 in a small histone gene cluster [kycia_tudor_2014]. This gene is intronless, its mRNA has a stem-loop structure.```\n",
    "\n",
    "### <span style=\"color:green\">Add deposition</span>\n",
    "\n",
    "```Tachiwana et al. have found that H3.4/H4 is not efficiently incorporated into the nucleosome by human Nap1 chaperone, due to its defective H3.4/H4 deposition on DNA. In contrast, human Nap2 chaperone, a paralog of Nap1, promoted nucleosome assembly with H3.4/H4. Mutational analyses revealed that the A111V mutation in H3.4 is essential for this difference [tachiwana_nucleosome_2008].```\n",
    "\n",
    "### <span style=\"color:green\">Add structure</span>\n",
    "\n",
    "```PDB structure of human H3.4 containing nucleosome is available with id 3A6N. Structural studies have revealed that H3.4 containing nucleosome are less stable, particularly due to V71M and A111V substitutions [tachiwana_structural_2010].```\n",
    "\n",
    "### <span style=\"color:green\">Add sequence</span>\n",
    "\n",
    "```In human H3.4 has only 4 amino acid difference from cH3s (A23V, V71M, A98S, A111V) [ueda_testis-specific_2017].```\n",
    "\n",
    "### <span style=\"color:green\">Add disease</span>\n",
    "\n",
    "```The single‑nucleotide polymorphism c190C>T (Arg64Cys) in the human testis‑specific histone variant, H3.4, was studied in Japanese patients for its association with Sertoli cell‑only syndrome, which causes infertility [miyamoto_association_2018].```\n",
    "\n",
    "## <span style=\"color:green\">Update description to H3.4_(Mammalia)</span>\n",
    "\n",
    "### <span style=\"color:green\">Update summary</span>\n",
    "\n",
    "```H3.4_(Mammalia) is a mammal-specific H3 histone variant highly expressed in testis and at lower level in other tissues [kycia_tudor_2014]. This variant is also reffered to as H3.1t, H3T, or TS H3.4. The H3.4 variant is very similar to canonical H3 histones both in sequence, gene location and transcriptional regulation. In human H3.4 has only 4 amino acid difference from cH3s (A23V, V71M, A98S, A111V), its gene is located within histone gene cluster, is intronless, its mRNA has a stem-loop structure. H3.4 expression is replication-dependent [kycia_tudor_2014, ueda_testis-specific_2017].```\n",
    "\n",
    "### <span style=\"color:green\">Update knock_out</span>\n",
    "\n",
    "```Knockout mice for H3.4 were first generated in 2017; both male and female H3t null mice were viable and healthy, but the male mice were sterile. H3.4 deficiency leads to azoospermia because of the loss of haploid germ cells [kawaguchi_comprehensive_2024, ueda_testis-specific_2017].```\n",
    "\n",
    "### <span style=\"color:green\">Update function</span>\n",
    "\n",
    "```H3.4 is mainly responsible for facilitating the transition from spermatogonia stem cells to active spermatogenesis. Mouse H3.4 was shown to be essential for very early stages of spermatogenesis, its deficiency leads to azoospermia because of the loss of haploid germ cells [kawaguchi_comprehensive_2024]. When differentiating spermatogonia emerge in normal spermatogenesis, H3.4 appears and replaces the canonical H3 proteins [ueda_testis-specific_2017].```\n",
    "\n",
    "### <span style=\"color:green\">Update expression</span>\n",
    "\n",
    "```Expression of H3.4 is strictly restricted to testicular tissue. In mice, it is detected in spermatogonia, meiotic cells, and haploid round spermatids. However, its expression level decreases significantly in early elongating spermatids, indicating stage-specific regulation during spermatogenesis [kawaguchi_comprehensive_2024].```\n",
    "\n",
    "### <span style=\"color:green\">Update localization</span>\n",
    "\n",
    "```In mouse H3.4 is not incorporated into the XY body, which forms during pachytene of meiotic prophase I, suggesting a potential role for H3.4 in organizing active chromatin regions [kawaguchi_comprehensive_2024].```\n",
    "\n",
    "### <span style=\"color:green\">Update interactions</span>\n",
    "\n",
    "```It was demostrated that A23V mutation favors the interaction of trymethyllysine-binding Tudor domains of PHF1 and PHF2 proteins (critical components of the PCR2 complex) with H3K27me3 marks. PHF1 co-localizes with H3.4 in testis and its Tudor domain preferentially binds to H3.4K27me3 over canonical H3K27me3 in vitro, implicating that H3.4K27me3 might be a physiological ligand of PHF1/19. [dong_structural_2020, kycia_tudor_2014].```\n",
    "\n",
    "### <span style=\"color:green\">Add structure</span>\n",
    "\n",
    "```Structural studies have revealed that human H3.4 containing nucleosome are less stable, particularly due to V71M and A111V substitutions [tachiwana_structural_2010].```\n",
    "\n",
    "### <span style=\"color:green\">Update disease to NULL</span>\n",
    "\n",
    "## <span style=\"color:green\">Update description to H3.5_(Hominidae)</span>\n",
    "\n",
    "### <span style=\"color:green\">Update summary</span>\n",
    "\n",
    "```H3.5 is a hominid-specific histone H3 variant, also known as H3.3C, expressed in the seminiferous tubules of the human testis and plays a role in regulating spermatogenesis. H3.5 likely evolved from H3F3B gene duplication and is associated with euchromatin and actively transcribed genes [schenk_h35_2011].```\n",
    "\n",
    "### <span style=\"color:green\">Update sequence</span>\n",
    "\n",
    "```H3.3 is the most similar variant to H3.5 (approximately 96% identity). H3.5 has two copies of the ARKST motif and 5 amino acids differences comparing to H3.3 [schenk_h35_2011, ederveen_human_2011].```\n",
    "\n",
    "## <span style=\"color:green\">Add description to H3.5_(Homo_sapiens)</span>\n",
    "\n",
    "### <span style=\"color:green\">Add summary</span>\n",
    "\n",
    "```H3.5_(Homo_sapiens) is a H3 histone variant expressed in the seminiferous tubules of human testes.```\n",
    "\n",
    "### <span style=\"color:green\">Add function</span>\n",
    "\n",
    "```H3.5 plays a significant role in testicular cell differentiation, with potential implications in the pathogenesis of testicular diseases.```\n",
    "\n",
    "### <span style=\"color:green\">Add expression</span>\n",
    "\n",
    "```The highest expression of H3.5 is found in spermatocytes, while lower levels are present in early and late spermatids, and absent in mature spermatozoa [weil_histone_2024, ding_primate-specific_2021]. However, low-abundance H3.5 transcripts were also identified in leukocytes and hepatocytes [schenk_h35_2011].```\n",
    "\n",
    "### <span style=\"color:green\">Add gene</span>\n",
    "\n",
    "```H3.5 is encoded by H3-5 gene on chromosome 12. Methylation of the CpG island in the promoter region of the gene plays a key role in its tissue-specific expression regulation [weil_histone_2024].```\n",
    "\n",
    "### <span style=\"color:green\">Update sequence</span>\n",
    "\n",
    "```H3.5 differs from H3.3 by five amino acid substitutions: Thr29, Cys33, Asn78, Val88, and Leu103 (which correspond to Ala29, Gly33, Lys79, Ile89, and Phe104 in H3.3, respectively) [urahama_histone_2016]. Furthermore, H3.5 lacks the lysine residue at position 37, which is present in the major H3 variants.```\n",
    "\n",
    "### <span style=\"color:green\">Update localization</span>\n",
    "\n",
    "```H3.5 localizes primarely at exons, 5'UTR, 3'UTR, promoters and introns. Although it enreached around transcription start sites (TSSs), H3.5 distribution is independent of gene expression levels [urahama_histone_2016].```\n",
    "\n",
    "### <span style=\"color:green\">Add deposition</span>\n",
    "\n",
    "```H3.5 physically interacts with histone chaperones Asf1a, Asf1b, HIRA, CAF-1 p150, and DAXX, suggesting its involvement in chromatin remodeling and gene regulation processes [weil_histone_2024]. An unpublished experiment by Ding et al. demonstrated that the chaperone NAP1L1 exhibits a higher binding affinity for the H3.5/H4 tetramer compared to the H3.3/H4 tetramer, attributable to amino acid alterations within the N-terminal region of H3.5 [ding_primate-specific_2021].```\n",
    "\n",
    "### <span style=\"color:green\">Update structure</span>\n",
    "\n",
    "```Nucleosomes containing histone variant H3.5 are less stable than H3.1 and H3.3 nucleosomes, but more stable than H3.4 nucleosome [urahama_histone_2016]. Notable, amino acid L in position 103 of H3.5 (amino acid F at the corresponding position in H3.3) reduces the number of hydrophobic bonds with histone H4 leading to instability of nucleosome [urahama_histone_2016].```\n",
    "\n",
    "### <span style=\"color:green\">Update disease</span>\n",
    "\n",
    "```Clinical data indicate that H3.5 mRNA levels are significantly lower in patients with nonobstructive azoospermia compared to those with obstructive azoospermia or normal individuals, suggesting H3.5's role in normal spermatogenesis and its regulation by gonadotropins [ding_primate-specific_2021]. Elevated H3.5 expression is observed in seminomas, and H3-5 gene copy number gain is associated with its increased expression in tumor tissues [weil_histone_2024].```"
   ]
  },
  {
   "cell_type": "markdown",
   "id": "80675a92-b6b1-4104-97bd-616d1190972f",
   "metadata": {},
   "source": [
    "# Done"
   ]
  },
  {
   "cell_type": "markdown",
   "id": "ddc86bdc-d02d-4630-8e92-a1c6142120ff",
   "metadata": {},
   "source": [
    "## <span style=\"color:black\">Update description to H3.Y.1_(Homo_sapiens)</span>\n",
    "\n",
    "### <span style=\"color:black\">Update knock_out</span>\n",
    "\n",
    "```Knockdown of both genes encoding H3.Y (H3Y1 and H3Y2) using siRNA suppresses the super-induction of DUX4 target genes (including LEUTX) upon reactivation and reduces the persistence of their expression, but does not affect constitutively expressed genes [resnick_dux4-induced_2019, kong_engineered_2024].```\n",
    "\n",
    "### <span style=\"color:black\">Update function</span>\n",
    "\n",
    "```Although the functions of H3.Y.1 remain poorly understood, it is known to promote cell growth and regulate the expression of genes involved in cell cycle control and mitosis [wiedemann_identification_2010]. The presence of H3.Y.1 (along with H3.Y.2) in hippocampal neurons suggests a potential role in primate-specific brain functions [wiedemann_identification_2010]. Furthermore, H3.Y.1 and H3.Y.2 are induced by the transcription factor DUX4, participant of zygotic genome activation (ZGA), to facilitate the persistence and reactivation of DUX4 target genes following its transient expression [kong_engineered_2024, talbert_histone_2021, resnick_dux4-induced_2019]. Interestinglly, H3.Y.1 and H3.Y.2 have been identified as a specific marker of 8-cell-like cells (8CLCs) and are also detected in vivo within the nuclei of human 8-cell embryos at the peak of ZGA [taubenschmid-stowers_8c-like_2022]. During blastomere division, H3.Y.1 and H3.Y.2 show strong association with condensed chromosomes at prophase and metaphase stages [taubenschmid-stowers_8c-like_2022]. Taubenschmid-Stowers et al. suggest that H3.Y.1 and H3.Y.2 may be necessary for large-scale genome activation during early human embryogenesis [taubenschmid-stowers_8c-like_2022].```\n",
    "\n",
    "### <span style=\"color:black\">Add disease</span>\n",
    "\n",
    "```H3.Y.1 and H3.Y.2 are critical epigenetic amplifiers in facioscapulohumeral dystrophy (FSHD) pathogenesis [kong_engineered_2024]. They incorporate into chromatin to activate late targets like LEUTX, which in turn stimulates H3.Y.1 and H3.Y.2 expression, forming a pathogenic positive feedback loop. This coherent feedforward network with DUX4 and LEUTX potently stabilizes and enhances the aberrant FSHD gene expression signature [kong_engineered_2024.```"
   ]
  },
  {
   "cell_type": "code",
   "execution_count": 7,
   "id": "d1b81521-b099-47ca-9d0f-4d38f119d4df",
   "metadata": {
    "tags": []
   },
   "outputs": [
    {
     "data": {
      "text/html": [
       "<div>\n",
       "<style scoped>\n",
       "    .dataframe tbody tr th:only-of-type {\n",
       "        vertical-align: middle;\n",
       "    }\n",
       "\n",
       "    .dataframe tbody tr th {\n",
       "        vertical-align: top;\n",
       "    }\n",
       "\n",
       "    .dataframe thead th {\n",
       "        text-align: right;\n",
       "    }\n",
       "</style>\n",
       "<table border=\"1\" class=\"dataframe\">\n",
       "  <thead>\n",
       "    <tr style=\"text-align: right;\">\n",
       "      <th></th>\n",
       "      <th>id</th>\n",
       "      <th>level</th>\n",
       "      <th>taxonomic_span</th>\n",
       "      <th>taxonomic_span_id</th>\n",
       "      <th>description</th>\n",
       "      <th>parent</th>\n",
       "      <th>id</th>\n",
       "      <th>summary</th>\n",
       "      <th>taxonomy</th>\n",
       "      <th>genes</th>\n",
       "      <th>...</th>\n",
       "      <th>knock_out</th>\n",
       "      <th>function</th>\n",
       "      <th>sequence</th>\n",
       "      <th>localization</th>\n",
       "      <th>deposition</th>\n",
       "      <th>structure</th>\n",
       "      <th>interactions</th>\n",
       "      <th>disease</th>\n",
       "      <th>caveats</th>\n",
       "      <th>relations</th>\n",
       "    </tr>\n",
       "  </thead>\n",
       "  <tbody>\n",
       "    <tr>\n",
       "      <th>0</th>\n",
       "      <td>H3.Y.1_(Homo_sapiens)</td>\n",
       "      <td>variant</td>\n",
       "      <td>Homo sapiens</td>\n",
       "      <td>9606</td>\n",
       "      <td>172</td>\n",
       "      <td>H3.Y.1_(Primates)</td>\n",
       "      <td>172</td>\n",
       "      <td>H3.Y.1_(Homo_sapiens) is a human histone H3 va...</td>\n",
       "      <td>null</td>\n",
       "      <td>null</td>\n",
       "      <td>...</td>\n",
       "      <td>Knockdown of both genes encoding H3.Y (H3Y1 an...</td>\n",
       "      <td>Although the functions of H3.Y.1 remain poorly...</td>\n",
       "      <td>The H3.Y.1 protein consists of 135 amino acids...</td>\n",
       "      <td>Endogenous H3.Y.1 is predominantly localized o...</td>\n",
       "      <td>H3.Y.1 is deposited into chromatin via the HIR...</td>\n",
       "      <td>The crystal structure of the H3.Y.1 nucleosome...</td>\n",
       "      <td>null</td>\n",
       "      <td>null</td>\n",
       "      <td>null</td>\n",
       "      <td>None</td>\n",
       "    </tr>\n",
       "  </tbody>\n",
       "</table>\n",
       "<p>1 rows × 22 columns</p>\n",
       "</div>"
      ],
      "text/plain": [
       "                      id    level taxonomic_span taxonomic_span_id  \\\n",
       "0  H3.Y.1_(Homo_sapiens)  variant   Homo sapiens              9606   \n",
       "\n",
       "   description             parent   id  \\\n",
       "0          172  H3.Y.1_(Primates)  172   \n",
       "\n",
       "                                             summary taxonomy genes  ...  \\\n",
       "0  H3.Y.1_(Homo_sapiens) is a human histone H3 va...     null  null  ...   \n",
       "\n",
       "                                           knock_out  \\\n",
       "0  Knockdown of both genes encoding H3.Y (H3Y1 an...   \n",
       "\n",
       "                                            function  \\\n",
       "0  Although the functions of H3.Y.1 remain poorly...   \n",
       "\n",
       "                                            sequence  \\\n",
       "0  The H3.Y.1 protein consists of 135 amino acids...   \n",
       "\n",
       "                                        localization  \\\n",
       "0  Endogenous H3.Y.1 is predominantly localized o...   \n",
       "\n",
       "                                          deposition  \\\n",
       "0  H3.Y.1 is deposited into chromatin via the HIR...   \n",
       "\n",
       "                                           structure interactions disease  \\\n",
       "0  The crystal structure of the H3.Y.1 nucleosome...         null    null   \n",
       "\n",
       "  caveats relations  \n",
       "0    null      None  \n",
       "\n",
       "[1 rows x 22 columns]"
      ]
     },
     "execution_count": 7,
     "metadata": {},
     "output_type": "execute_result"
    }
   ],
   "source": [
    "query = (\n",
    "    \"SELECT * FROM histone h LEFT JOIN histone_description hd \"\n",
    "    \"ON h.description = hd.id \"\n",
    "    \"WHERE h.id='H3.Y.1_(Homo_sapiens)'\"\n",
    ")\n",
    "cursor.execute(query)\n",
    "df = pd.DataFrame(cursor.fetchall(), columns=[i[0] for i in cursor.description])\n",
    "df"
   ]
  },
  {
   "cell_type": "code",
   "execution_count": 9,
   "id": "3b619264-a11d-49ff-b07b-fc8273ea7c00",
   "metadata": {
    "tags": []
   },
   "outputs": [
    {
     "name": "stdout",
     "output_type": "stream",
     "text": [
      "UPDATE histone_description SET knock_out='Knockdown of both genes encoding H3.Y (H3Y1 and H3Y2) using siRNA suppresses the super-induction of DUX4 target genes (including LEUTX) upon reactivation and reduces the persistence of their expression, but does not affect constitutively expressed genes [resnick_dux4-induced_2019, kong_engineered_2024].', function='Although the functions of H3.Y.1 remain poorly understood, it is known to promote cell growth and regulate the expression of genes involved in cell cycle control and mitosis [wiedemann_identification_2010]. The presence of H3.Y.1 (along with H3.Y.2) in hippocampal neurons suggests a potential role in primate-specific brain functions [wiedemann_identification_2010]. Furthermore, H3.Y.1 and H3.Y.2 are induced by the transcription factor DUX4, participant of zygotic genome activation (ZGA), to facilitate the persistence and reactivation of DUX4 target genes following its transient expression [kong_engineered_2024, talbert_histone_2021, resnick_dux4-induced_2019]. Interestinglly, H3.Y.1 and H3.Y.2 have been identified as a specific marker of 8-cell-like cells (8CLCs) and are also detected in vivo within the nuclei of human 8-cell embryos at the peak of ZGA [taubenschmid-stowers_8c-like_2022]. During blastomere division, H3.Y.1 and H3.Y.2 show strong association with condensed chromosomes at prophase and metaphase stages [taubenschmid-stowers_8c-like_2022]. Taubenschmid-Stowers et al. suggest that H3.Y.1 and H3.Y.2 may be necessary for large-scale genome activation during early human embryogenesis [taubenschmid-stowers_8c-like_2022].', disease='H3.Y.1 and H3.Y.2 are critical epigenetic amplifiers in facioscapulohumeral dystrophy (FSHD) pathogenesis [kong_engineered_2024]. They incorporate into chromatin to activate late targets like LEUTX, which in turn stimulates H3.Y.1 and H3.Y.2 expression, forming a pathogenic positive feedback loop. This coherent feedforward network with DUX4 and LEUTX potently stabilizes and enhances the aberrant FSHD gene expression signature [kong_engineered_2024].' WHERE id=172\n"
     ]
    }
   ],
   "source": [
    "knock_out_desc = \"Knockdown of both genes encoding H3.Y (H3Y1 and H3Y2) using siRNA suppresses the super-induction of DUX4 target genes (including LEUTX) upon reactivation and reduces the persistence of their expression, but does not affect constitutively expressed genes [resnick_dux4-induced_2019, kong_engineered_2024].\"\n",
    "function_desc = \"Although the functions of H3.Y.1 remain poorly understood, it is known to promote cell growth and regulate the expression of genes involved in cell cycle control and mitosis [wiedemann_identification_2010]. The presence of H3.Y.1 (along with H3.Y.2) in hippocampal neurons suggests a potential role in primate-specific brain functions [wiedemann_identification_2010]. Furthermore, H3.Y.1 and H3.Y.2 are induced by the transcription factor DUX4, participant of zygotic genome activation (ZGA), to facilitate the persistence and reactivation of DUX4 target genes following its transient expression [kong_engineered_2024, talbert_histone_2021, resnick_dux4-induced_2019]. Interestinglly, H3.Y.1 and H3.Y.2 have been identified as a specific marker of 8-cell-like cells (8CLCs) and are also detected in vivo within the nuclei of human 8-cell embryos at the peak of ZGA [taubenschmid-stowers_8c-like_2022]. During blastomere division, H3.Y.1 and H3.Y.2 show strong association with condensed chromosomes at prophase and metaphase stages [taubenschmid-stowers_8c-like_2022]. Taubenschmid-Stowers et al. suggest that H3.Y.1 and H3.Y.2 may be necessary for large-scale genome activation during early human embryogenesis [taubenschmid-stowers_8c-like_2022].\"\n",
    "disease_desc = \"H3.Y.1 and H3.Y.2 are critical epigenetic amplifiers in facioscapulohumeral dystrophy (FSHD) pathogenesis [kong_engineered_2024]. They incorporate into chromatin to activate late targets like LEUTX, which in turn stimulates H3.Y.1 and H3.Y.2 expression, forming a pathogenic positive feedback loop. This coherent feedforward network with DUX4 and LEUTX potently stabilizes and enhances the aberrant FSHD gene expression signature [kong_engineered_2024].\"\n",
    "query = f\"UPDATE histone_description SET knock_out='{knock_out_desc}', function='{function_desc}', disease='{disease_desc}' WHERE id=172\"\n",
    "print(query)\n",
    "cursor.execute(query)"
   ]
  },
  {
   "cell_type": "code",
   "execution_count": 11,
   "id": "6e79a009-9bc2-47d0-ade7-c7cab3f38b23",
   "metadata": {
    "tags": []
   },
   "outputs": [
    {
     "data": {
      "text/html": [
       "<div>\n",
       "<style scoped>\n",
       "    .dataframe tbody tr th:only-of-type {\n",
       "        vertical-align: middle;\n",
       "    }\n",
       "\n",
       "    .dataframe tbody tr th {\n",
       "        vertical-align: top;\n",
       "    }\n",
       "\n",
       "    .dataframe thead th {\n",
       "        text-align: right;\n",
       "    }\n",
       "</style>\n",
       "<table border=\"1\" class=\"dataframe\">\n",
       "  <thead>\n",
       "    <tr style=\"text-align: right;\">\n",
       "      <th></th>\n",
       "      <th>id</th>\n",
       "      <th>level</th>\n",
       "      <th>taxonomic_span</th>\n",
       "      <th>taxonomic_span_id</th>\n",
       "      <th>description</th>\n",
       "      <th>parent</th>\n",
       "      <th>id</th>\n",
       "      <th>summary</th>\n",
       "      <th>taxonomy</th>\n",
       "      <th>genes</th>\n",
       "      <th>...</th>\n",
       "      <th>knock_out</th>\n",
       "      <th>function</th>\n",
       "      <th>sequence</th>\n",
       "      <th>localization</th>\n",
       "      <th>deposition</th>\n",
       "      <th>structure</th>\n",
       "      <th>interactions</th>\n",
       "      <th>disease</th>\n",
       "      <th>caveats</th>\n",
       "      <th>relations</th>\n",
       "    </tr>\n",
       "  </thead>\n",
       "  <tbody>\n",
       "    <tr>\n",
       "      <th>0</th>\n",
       "      <td>H3.Y.1_(Homo_sapiens)</td>\n",
       "      <td>variant</td>\n",
       "      <td>Homo sapiens</td>\n",
       "      <td>9606</td>\n",
       "      <td>172</td>\n",
       "      <td>H3.Y.1_(Primates)</td>\n",
       "      <td>172</td>\n",
       "      <td>H3.Y.1_(Homo_sapiens) is a human histone H3 va...</td>\n",
       "      <td>null</td>\n",
       "      <td>null</td>\n",
       "      <td>...</td>\n",
       "      <td>Knockdown of both genes encoding H3.Y (H3Y1 an...</td>\n",
       "      <td>Although the functions of H3.Y.1 remain poorly...</td>\n",
       "      <td>The H3.Y.1 protein consists of 135 amino acids...</td>\n",
       "      <td>Endogenous H3.Y.1 is predominantly localized o...</td>\n",
       "      <td>H3.Y.1 is deposited into chromatin via the HIR...</td>\n",
       "      <td>The crystal structure of the H3.Y.1 nucleosome...</td>\n",
       "      <td>null</td>\n",
       "      <td>H3.Y.1 and H3.Y.2 are critical epigenetic ampl...</td>\n",
       "      <td>null</td>\n",
       "      <td>None</td>\n",
       "    </tr>\n",
       "  </tbody>\n",
       "</table>\n",
       "<p>1 rows × 22 columns</p>\n",
       "</div>"
      ],
      "text/plain": [
       "                      id    level taxonomic_span taxonomic_span_id  \\\n",
       "0  H3.Y.1_(Homo_sapiens)  variant   Homo sapiens              9606   \n",
       "\n",
       "   description             parent   id  \\\n",
       "0          172  H3.Y.1_(Primates)  172   \n",
       "\n",
       "                                             summary taxonomy genes  ...  \\\n",
       "0  H3.Y.1_(Homo_sapiens) is a human histone H3 va...     null  null  ...   \n",
       "\n",
       "                                           knock_out  \\\n",
       "0  Knockdown of both genes encoding H3.Y (H3Y1 an...   \n",
       "\n",
       "                                            function  \\\n",
       "0  Although the functions of H3.Y.1 remain poorly...   \n",
       "\n",
       "                                            sequence  \\\n",
       "0  The H3.Y.1 protein consists of 135 amino acids...   \n",
       "\n",
       "                                        localization  \\\n",
       "0  Endogenous H3.Y.1 is predominantly localized o...   \n",
       "\n",
       "                                          deposition  \\\n",
       "0  H3.Y.1 is deposited into chromatin via the HIR...   \n",
       "\n",
       "                                           structure interactions  \\\n",
       "0  The crystal structure of the H3.Y.1 nucleosome...         null   \n",
       "\n",
       "                                             disease caveats relations  \n",
       "0  H3.Y.1 and H3.Y.2 are critical epigenetic ampl...    null      None  \n",
       "\n",
       "[1 rows x 22 columns]"
      ]
     },
     "execution_count": 11,
     "metadata": {},
     "output_type": "execute_result"
    }
   ],
   "source": [
    "query = (\n",
    "    \"SELECT * FROM histone h LEFT JOIN histone_description hd \"\n",
    "    \"ON h.description = hd.id \"\n",
    "    \"WHERE h.id='H3.Y.1_(Homo_sapiens)'\"\n",
    ")\n",
    "cursor.execute(query)\n",
    "pd.DataFrame(cursor.fetchall(), columns=[i[0] for i in cursor.description])"
   ]
  },
  {
   "cell_type": "code",
   "execution_count": 12,
   "id": "f0a67f79-c6b6-452e-919c-7bf78174453c",
   "metadata": {
    "tags": []
   },
   "outputs": [],
   "source": [
    "# Make sure data is committed to the database\n",
    "conn.commit()"
   ]
  },
  {
   "cell_type": "markdown",
   "id": "a8cd5d4e-cb90-4379-85a6-f92a5901222d",
   "metadata": {},
   "source": [
    "## <span style=\"color:black\">Update description to H3.Y.2_(Homo_sapiens)</span>\n",
    "\n",
    "### <span style=\"color:black\">Update knock_out</span>\n",
    "\n",
    "```Knockdown of both genes encoding H3.Y (H3Y1 and H3Y2) using siRNA suppresses the super-induction of DUX4 target genes (including LEUTX) upon reactivation and reduces the persistence of their expression, but does not affect constitutively expressed genes [resnick_dux4-induced_2019, kong_engineered_2024].```\n",
    "\n",
    "### <span style=\"color:black\">Update function</span>\n",
    "\n",
    "```The functions of H3.Y.2 remain poorly understood. However, the presence of H3.Y.2 (along with H3.Y.1) in hippocampal neurons suggests a potential role in primate-specific brain functions [wiedemann_identification_2010]. In addition, H3.Y.1 and H3.Y.2 are induced by the transcription factor DUX4, participant of zygotic genome activation (ZGA), to facilitate the persistence and reactivation of DUX4 target genes following its transient expression [kong_engineered_2024, talbert_histone_2021, resnick_dux4-induced_2019]. Interestinglly, H3.Y.1 and H3.Y.2 have been identified as a specific marker of 8-cell-like cells (8CLCs) and are also detected in vivo within the nuclei of human 8-cell embryos at the peak of ZGA [taubenschmid-stowers_8c-like_2022]. During blastomere division, H3.Y.1 and H3.Y.2 show strong association with condensed chromosomes at prophase and metaphase stages [taubenschmid-stowers_8c-like_2022]. Taubenschmid-Stowers et al. suggest that H3.Y.1 and H3.Y.2 may be necessary for large-scale genome activation during early human embryogenesis [taubenschmid-stowers_8c-like_2022].```\n",
    "\n",
    "### <span style=\"color:black\">Add disease</span>\n",
    "\n",
    "```H3.Y.1 and H3.Y.2 are critical epigenetic amplifiers in facioscapulohumeral dystrophy (FSHD) pathogenesis [kong_engineered_2024]. They incorporate into chromatin to activate late targets like LEUTX, which in turn stimulates H3.Y.1 and H3.Y.2 expression, forming a pathogenic positive feedback loop. This coherent feedforward network with DUX4 and LEUTX potently stabilizes and enhances the aberrant FSHD gene expression signature [kong_engineered_2024.```"
   ]
  },
  {
   "cell_type": "code",
   "execution_count": 13,
   "id": "8423a0cb-8046-4287-8ca3-ea3975092af1",
   "metadata": {
    "tags": []
   },
   "outputs": [
    {
     "data": {
      "text/html": [
       "<div>\n",
       "<style scoped>\n",
       "    .dataframe tbody tr th:only-of-type {\n",
       "        vertical-align: middle;\n",
       "    }\n",
       "\n",
       "    .dataframe tbody tr th {\n",
       "        vertical-align: top;\n",
       "    }\n",
       "\n",
       "    .dataframe thead th {\n",
       "        text-align: right;\n",
       "    }\n",
       "</style>\n",
       "<table border=\"1\" class=\"dataframe\">\n",
       "  <thead>\n",
       "    <tr style=\"text-align: right;\">\n",
       "      <th></th>\n",
       "      <th>id</th>\n",
       "      <th>level</th>\n",
       "      <th>taxonomic_span</th>\n",
       "      <th>taxonomic_span_id</th>\n",
       "      <th>description</th>\n",
       "      <th>parent</th>\n",
       "      <th>id</th>\n",
       "      <th>summary</th>\n",
       "      <th>taxonomy</th>\n",
       "      <th>genes</th>\n",
       "      <th>...</th>\n",
       "      <th>knock_out</th>\n",
       "      <th>function</th>\n",
       "      <th>sequence</th>\n",
       "      <th>localization</th>\n",
       "      <th>deposition</th>\n",
       "      <th>structure</th>\n",
       "      <th>interactions</th>\n",
       "      <th>disease</th>\n",
       "      <th>caveats</th>\n",
       "      <th>relations</th>\n",
       "    </tr>\n",
       "  </thead>\n",
       "  <tbody>\n",
       "    <tr>\n",
       "      <th>0</th>\n",
       "      <td>H3.Y.2_(Homo_sapiens)</td>\n",
       "      <td>variant</td>\n",
       "      <td>Homo sapiens</td>\n",
       "      <td>9606</td>\n",
       "      <td>173</td>\n",
       "      <td>H3.Y.2_(Primates)</td>\n",
       "      <td>173</td>\n",
       "      <td>H3.Y.2_(Homo_sapiens) is a human histone H3 va...</td>\n",
       "      <td>null</td>\n",
       "      <td>null</td>\n",
       "      <td>...</td>\n",
       "      <td>Knockdown of both genes encoding H3.Y (H3Y1 an...</td>\n",
       "      <td>The functions of H3.Y.2 remain poorly understo...</td>\n",
       "      <td>The H3.Y.2 protein consists of 146 amino acids...</td>\n",
       "      <td>H3.Y.1 and H3.Y.2 are incorporated into highly...</td>\n",
       "      <td>H3.Y.2 is deposited into chromatin via the HIR...</td>\n",
       "      <td>The crystal structure of the H3.Y.1 nucleosome...</td>\n",
       "      <td>null</td>\n",
       "      <td>null</td>\n",
       "      <td>null</td>\n",
       "      <td>None</td>\n",
       "    </tr>\n",
       "  </tbody>\n",
       "</table>\n",
       "<p>1 rows × 22 columns</p>\n",
       "</div>"
      ],
      "text/plain": [
       "                      id    level taxonomic_span taxonomic_span_id  \\\n",
       "0  H3.Y.2_(Homo_sapiens)  variant   Homo sapiens              9606   \n",
       "\n",
       "   description             parent   id  \\\n",
       "0          173  H3.Y.2_(Primates)  173   \n",
       "\n",
       "                                             summary taxonomy genes  ...  \\\n",
       "0  H3.Y.2_(Homo_sapiens) is a human histone H3 va...     null  null  ...   \n",
       "\n",
       "                                           knock_out  \\\n",
       "0  Knockdown of both genes encoding H3.Y (H3Y1 an...   \n",
       "\n",
       "                                            function  \\\n",
       "0  The functions of H3.Y.2 remain poorly understo...   \n",
       "\n",
       "                                            sequence  \\\n",
       "0  The H3.Y.2 protein consists of 146 amino acids...   \n",
       "\n",
       "                                        localization  \\\n",
       "0  H3.Y.1 and H3.Y.2 are incorporated into highly...   \n",
       "\n",
       "                                          deposition  \\\n",
       "0  H3.Y.2 is deposited into chromatin via the HIR...   \n",
       "\n",
       "                                           structure interactions disease  \\\n",
       "0  The crystal structure of the H3.Y.1 nucleosome...         null    null   \n",
       "\n",
       "  caveats relations  \n",
       "0    null      None  \n",
       "\n",
       "[1 rows x 22 columns]"
      ]
     },
     "execution_count": 13,
     "metadata": {},
     "output_type": "execute_result"
    }
   ],
   "source": [
    "query = (\n",
    "    \"SELECT * FROM histone h LEFT JOIN histone_description hd \"\n",
    "    \"ON h.description = hd.id \"\n",
    "    \"WHERE h.id='H3.Y.2_(Homo_sapiens)'\"\n",
    ")\n",
    "cursor.execute(query)\n",
    "df = pd.DataFrame(cursor.fetchall(), columns=[i[0] for i in cursor.description])\n",
    "df"
   ]
  },
  {
   "cell_type": "code",
   "execution_count": 15,
   "id": "f32ba174-242e-4e68-a35b-48c7c79ae84f",
   "metadata": {
    "tags": []
   },
   "outputs": [
    {
     "name": "stdout",
     "output_type": "stream",
     "text": [
      "UPDATE histone_description SET knock_out='Knockdown of both genes encoding H3.Y (H3Y1 and H3Y2) using siRNA suppresses the super-induction of DUX4 target genes (including LEUTX) upon reactivation and reduces the persistence of their expression, but does not affect constitutively expressed genes [resnick_dux4-induced_2019, kong_engineered_2024].', function='The functions of H3.Y.2 remain poorly understood. However, the presence of H3.Y.2 (along with H3.Y.1) in hippocampal neurons suggests a potential role in primate-specific brain functions [wiedemann_identification_2010]. In addition, H3.Y.1 and H3.Y.2 are induced by the transcription factor DUX4, participant of zygotic genome activation (ZGA), to facilitate the persistence and reactivation of DUX4 target genes following its transient expression [kong_engineered_2024, talbert_histone_2021, resnick_dux4-induced_2019]. Interestinglly, H3.Y.1 and H3.Y.2 have been identified as a specific marker of 8-cell-like cells (8CLCs) and are also detected in vivo within the nuclei of human 8-cell embryos at the peak of ZGA [taubenschmid-stowers_8c-like_2022]. During blastomere division, H3.Y.1 and H3.Y.2 show strong association with condensed chromosomes at prophase and metaphase stages [taubenschmid-stowers_8c-like_2022]. Taubenschmid-Stowers et al. suggest that H3.Y.1 and H3.Y.2 may be necessary for large-scale genome activation during early human embryogenesis [taubenschmid-stowers_8c-like_2022].', disease='H3.Y.1 and H3.Y.2 are critical epigenetic amplifiers in facioscapulohumeral dystrophy (FSHD) pathogenesis [kong_engineered_2024]. They incorporate into chromatin to activate late targets like LEUTX, which in turn stimulates H3.Y.1 and H3.Y.2 expression, forming a pathogenic positive feedback loop. This coherent feedforward network with DUX4 and LEUTX potently stabilizes and enhances the aberrant FSHD gene expression signature [kong_engineered_2024].' WHERE id=173\n"
     ]
    }
   ],
   "source": [
    "knock_out_desc = \"Knockdown of both genes encoding H3.Y (H3Y1 and H3Y2) using siRNA suppresses the super-induction of DUX4 target genes (including LEUTX) upon reactivation and reduces the persistence of their expression, but does not affect constitutively expressed genes [resnick_dux4-induced_2019, kong_engineered_2024].\"\n",
    "function_desc = \"The functions of H3.Y.2 remain poorly understood. However, the presence of H3.Y.2 (along with H3.Y.1) in hippocampal neurons suggests a potential role in primate-specific brain functions [wiedemann_identification_2010]. In addition, H3.Y.1 and H3.Y.2 are induced by the transcription factor DUX4, participant of zygotic genome activation (ZGA), to facilitate the persistence and reactivation of DUX4 target genes following its transient expression [kong_engineered_2024, talbert_histone_2021, resnick_dux4-induced_2019]. Interestinglly, H3.Y.1 and H3.Y.2 have been identified as a specific marker of 8-cell-like cells (8CLCs) and are also detected in vivo within the nuclei of human 8-cell embryos at the peak of ZGA [taubenschmid-stowers_8c-like_2022]. During blastomere division, H3.Y.1 and H3.Y.2 show strong association with condensed chromosomes at prophase and metaphase stages [taubenschmid-stowers_8c-like_2022]. Taubenschmid-Stowers et al. suggest that H3.Y.1 and H3.Y.2 may be necessary for large-scale genome activation during early human embryogenesis [taubenschmid-stowers_8c-like_2022].\"\n",
    "disease_desc = \"H3.Y.1 and H3.Y.2 are critical epigenetic amplifiers in facioscapulohumeral dystrophy (FSHD) pathogenesis [kong_engineered_2024]. They incorporate into chromatin to activate late targets like LEUTX, which in turn stimulates H3.Y.1 and H3.Y.2 expression, forming a pathogenic positive feedback loop. This coherent feedforward network with DUX4 and LEUTX potently stabilizes and enhances the aberrant FSHD gene expression signature [kong_engineered_2024].\"\n",
    "query = f\"UPDATE histone_description SET knock_out='{knock_out_desc}', function='{function_desc}', disease='{disease_desc}' WHERE id=173\"\n",
    "print(query)\n",
    "cursor.execute(query)"
   ]
  },
  {
   "cell_type": "code",
   "execution_count": 16,
   "id": "55f61d85-1ffc-4df1-946f-7308671ac4c4",
   "metadata": {
    "tags": []
   },
   "outputs": [
    {
     "data": {
      "text/html": [
       "<div>\n",
       "<style scoped>\n",
       "    .dataframe tbody tr th:only-of-type {\n",
       "        vertical-align: middle;\n",
       "    }\n",
       "\n",
       "    .dataframe tbody tr th {\n",
       "        vertical-align: top;\n",
       "    }\n",
       "\n",
       "    .dataframe thead th {\n",
       "        text-align: right;\n",
       "    }\n",
       "</style>\n",
       "<table border=\"1\" class=\"dataframe\">\n",
       "  <thead>\n",
       "    <tr style=\"text-align: right;\">\n",
       "      <th></th>\n",
       "      <th>id</th>\n",
       "      <th>level</th>\n",
       "      <th>taxonomic_span</th>\n",
       "      <th>taxonomic_span_id</th>\n",
       "      <th>description</th>\n",
       "      <th>parent</th>\n",
       "      <th>id</th>\n",
       "      <th>summary</th>\n",
       "      <th>taxonomy</th>\n",
       "      <th>genes</th>\n",
       "      <th>...</th>\n",
       "      <th>knock_out</th>\n",
       "      <th>function</th>\n",
       "      <th>sequence</th>\n",
       "      <th>localization</th>\n",
       "      <th>deposition</th>\n",
       "      <th>structure</th>\n",
       "      <th>interactions</th>\n",
       "      <th>disease</th>\n",
       "      <th>caveats</th>\n",
       "      <th>relations</th>\n",
       "    </tr>\n",
       "  </thead>\n",
       "  <tbody>\n",
       "    <tr>\n",
       "      <th>0</th>\n",
       "      <td>H3.Y.2_(Homo_sapiens)</td>\n",
       "      <td>variant</td>\n",
       "      <td>Homo sapiens</td>\n",
       "      <td>9606</td>\n",
       "      <td>173</td>\n",
       "      <td>H3.Y.2_(Primates)</td>\n",
       "      <td>173</td>\n",
       "      <td>H3.Y.2_(Homo_sapiens) is a human histone H3 va...</td>\n",
       "      <td>null</td>\n",
       "      <td>null</td>\n",
       "      <td>...</td>\n",
       "      <td>Knockdown of both genes encoding H3.Y (H3Y1 an...</td>\n",
       "      <td>The functions of H3.Y.2 remain poorly understo...</td>\n",
       "      <td>The H3.Y.2 protein consists of 146 amino acids...</td>\n",
       "      <td>H3.Y.1 and H3.Y.2 are incorporated into highly...</td>\n",
       "      <td>H3.Y.2 is deposited into chromatin via the HIR...</td>\n",
       "      <td>The crystal structure of the H3.Y.1 nucleosome...</td>\n",
       "      <td>null</td>\n",
       "      <td>H3.Y.1 and H3.Y.2 are critical epigenetic ampl...</td>\n",
       "      <td>null</td>\n",
       "      <td>None</td>\n",
       "    </tr>\n",
       "  </tbody>\n",
       "</table>\n",
       "<p>1 rows × 22 columns</p>\n",
       "</div>"
      ],
      "text/plain": [
       "                      id    level taxonomic_span taxonomic_span_id  \\\n",
       "0  H3.Y.2_(Homo_sapiens)  variant   Homo sapiens              9606   \n",
       "\n",
       "   description             parent   id  \\\n",
       "0          173  H3.Y.2_(Primates)  173   \n",
       "\n",
       "                                             summary taxonomy genes  ...  \\\n",
       "0  H3.Y.2_(Homo_sapiens) is a human histone H3 va...     null  null  ...   \n",
       "\n",
       "                                           knock_out  \\\n",
       "0  Knockdown of both genes encoding H3.Y (H3Y1 an...   \n",
       "\n",
       "                                            function  \\\n",
       "0  The functions of H3.Y.2 remain poorly understo...   \n",
       "\n",
       "                                            sequence  \\\n",
       "0  The H3.Y.2 protein consists of 146 amino acids...   \n",
       "\n",
       "                                        localization  \\\n",
       "0  H3.Y.1 and H3.Y.2 are incorporated into highly...   \n",
       "\n",
       "                                          deposition  \\\n",
       "0  H3.Y.2 is deposited into chromatin via the HIR...   \n",
       "\n",
       "                                           structure interactions  \\\n",
       "0  The crystal structure of the H3.Y.1 nucleosome...         null   \n",
       "\n",
       "                                             disease caveats relations  \n",
       "0  H3.Y.1 and H3.Y.2 are critical epigenetic ampl...    null      None  \n",
       "\n",
       "[1 rows x 22 columns]"
      ]
     },
     "execution_count": 16,
     "metadata": {},
     "output_type": "execute_result"
    }
   ],
   "source": [
    "query = (\n",
    "    \"SELECT * FROM histone h LEFT JOIN histone_description hd \"\n",
    "    \"ON h.description = hd.id \"\n",
    "    \"WHERE h.id='H3.Y.2_(Homo_sapiens)'\"\n",
    ")\n",
    "cursor.execute(query)\n",
    "pd.DataFrame(cursor.fetchall(), columns=[i[0] for i in cursor.description])"
   ]
  },
  {
   "cell_type": "code",
   "execution_count": 17,
   "id": "4cf5e4b2-39fa-4d66-8f80-ca585fa45d82",
   "metadata": {
    "tags": []
   },
   "outputs": [],
   "source": [
    "# Make sure data is committed to the database\n",
    "conn.commit()"
   ]
  },
  {
   "cell_type": "markdown",
   "id": "1da1b704-54d4-4980-9b07-2c28dcb7ba07",
   "metadata": {},
   "source": [
    "## <span style=\"color:black\">Add description to H3.4_(Homo_sapiens)</span>\n",
    "\n",
    "### <span style=\"color:black\">Add summary</span>\n",
    "\n",
    "```H3.4_(Homo_sapiens) is a human H3 histone variant highly expressed in testis and at lower level in other tissues.```\n",
    "\n",
    "### <span style=\"color:black\">Add gene</span>\n",
    "\n",
    "```H3.4 is encoded by H3-4 gene (formerly HIST3H3, also an alias name H3C16 has been suggested (Seal et al.)), located on chromosome 1 adjacent to genes H2AC25 and H2BC26 in a small histone gene cluster [kycia_tudor_2014]. This gene is intronless, its mRNA has a stem-loop structure.```\n",
    "\n",
    "### <span style=\"color:black\">Add deposition</span>\n",
    "\n",
    "```Tachiwana et al. have found that H3.4/H4 is not efficiently incorporated into the nucleosome by human Nap1 chaperone, due to its defective H3.4/H4 deposition on DNA. In contrast, human Nap2 chaperone, a paralog of Nap1, promoted nucleosome assembly with H3.4/H4. Mutational analyses revealed that the A111V mutation in H3.4 is essential for this difference [tachiwana_nucleosome_2008].```\n",
    "\n",
    "### <span style=\"color:black\">Add structure</span>\n",
    "\n",
    "```PDB structure of human H3.4 containing nucleosome is available with id 3A6N. Structural studies have revealed that H3.4 containing nucleosome are less stable, particularly due to V71M and A111V substitutions [tachiwana_structural_2010].```\n",
    "\n",
    "### <span style=\"color:black\">Add sequence</span>\n",
    "\n",
    "```In human H3.4 has only 4 amino acid difference from cH3s (A23V, V71M, A98S, A111V) [ueda_testis-specific_2017].```\n",
    "\n",
    "### <span style=\"color:black\">Add disease</span>\n",
    "\n",
    "```The single‑nucleotide polymorphism c190C>T (Arg64Cys) in the human testis‑specific histone variant, H3.4, was studied in Japanese patients for its association with Sertoli cell‑only syndrome, which causes infertility [miyamoto_association_2018].```"
   ]
  },
  {
   "cell_type": "code",
   "execution_count": 19,
   "id": "7b57ee99-e4fd-43c7-82f5-5243c36809ec",
   "metadata": {
    "tags": []
   },
   "outputs": [
    {
     "data": {
      "text/html": [
       "<div>\n",
       "<style scoped>\n",
       "    .dataframe tbody tr th:only-of-type {\n",
       "        vertical-align: middle;\n",
       "    }\n",
       "\n",
       "    .dataframe tbody tr th {\n",
       "        vertical-align: top;\n",
       "    }\n",
       "\n",
       "    .dataframe thead th {\n",
       "        text-align: right;\n",
       "    }\n",
       "</style>\n",
       "<table border=\"1\" class=\"dataframe\">\n",
       "  <thead>\n",
       "    <tr style=\"text-align: right;\">\n",
       "      <th></th>\n",
       "      <th>id</th>\n",
       "      <th>level</th>\n",
       "      <th>taxonomic_span</th>\n",
       "      <th>taxonomic_span_id</th>\n",
       "      <th>description</th>\n",
       "      <th>parent</th>\n",
       "      <th>id</th>\n",
       "      <th>summary</th>\n",
       "      <th>taxonomy</th>\n",
       "      <th>genes</th>\n",
       "      <th>...</th>\n",
       "      <th>knock_out</th>\n",
       "      <th>function</th>\n",
       "      <th>sequence</th>\n",
       "      <th>localization</th>\n",
       "      <th>deposition</th>\n",
       "      <th>structure</th>\n",
       "      <th>interactions</th>\n",
       "      <th>disease</th>\n",
       "      <th>caveats</th>\n",
       "      <th>relations</th>\n",
       "    </tr>\n",
       "  </thead>\n",
       "  <tbody>\n",
       "    <tr>\n",
       "      <th>0</th>\n",
       "      <td>H3.4_(Homo_sapiens)</td>\n",
       "      <td>variant</td>\n",
       "      <td>Homo sapiens</td>\n",
       "      <td>9606</td>\n",
       "      <td>107</td>\n",
       "      <td>H3.4_(Mammalia)</td>\n",
       "      <td>107</td>\n",
       "      <td>null</td>\n",
       "      <td>null</td>\n",
       "      <td>null</td>\n",
       "      <td>...</td>\n",
       "      <td>null</td>\n",
       "      <td>null</td>\n",
       "      <td>null</td>\n",
       "      <td>null</td>\n",
       "      <td>null</td>\n",
       "      <td>null</td>\n",
       "      <td>null</td>\n",
       "      <td>null</td>\n",
       "      <td>null</td>\n",
       "      <td>None</td>\n",
       "    </tr>\n",
       "  </tbody>\n",
       "</table>\n",
       "<p>1 rows × 22 columns</p>\n",
       "</div>"
      ],
      "text/plain": [
       "                    id    level taxonomic_span taxonomic_span_id  description  \\\n",
       "0  H3.4_(Homo_sapiens)  variant   Homo sapiens              9606          107   \n",
       "\n",
       "            parent   id summary taxonomy genes  ... knock_out function  \\\n",
       "0  H3.4_(Mammalia)  107    null     null  null  ...      null     null   \n",
       "\n",
       "  sequence localization deposition structure interactions disease caveats  \\\n",
       "0     null         null       null      null         null    null    null   \n",
       "\n",
       "  relations  \n",
       "0      None  \n",
       "\n",
       "[1 rows x 22 columns]"
      ]
     },
     "execution_count": 19,
     "metadata": {},
     "output_type": "execute_result"
    }
   ],
   "source": [
    "query = (\n",
    "    \"SELECT * FROM histone h LEFT JOIN histone_description hd \"\n",
    "    \"ON h.description = hd.id \"\n",
    "    \"WHERE h.id='H3.4_(Homo_sapiens)'\"\n",
    ")\n",
    "cursor.execute(query)\n",
    "df = pd.DataFrame(cursor.fetchall(), columns=[i[0] for i in cursor.description])\n",
    "df"
   ]
  },
  {
   "cell_type": "code",
   "execution_count": 20,
   "id": "693fbd2c-668d-48ff-90a8-a837dadcdee3",
   "metadata": {
    "tags": []
   },
   "outputs": [
    {
     "data": {
      "text/plain": [
       "[{'id': 107,\n",
       "  'level': 'variant',\n",
       "  'taxonomic_span': 'Homo sapiens',\n",
       "  'taxonomic_span_id': '9606',\n",
       "  'description': 107,\n",
       "  'parent': 'H3.4_(Mammalia)',\n",
       "  'summary': 'null',\n",
       "  'taxonomy': 'null',\n",
       "  'genes': 'null',\n",
       "  'evolution': 'null',\n",
       "  'expression': 'null',\n",
       "  'knock_out': 'null',\n",
       "  'function': 'null',\n",
       "  'sequence': 'null',\n",
       "  'localization': 'null',\n",
       "  'deposition': 'null',\n",
       "  'structure': 'null',\n",
       "  'interactions': 'null',\n",
       "  'disease': 'null',\n",
       "  'caveats': 'null',\n",
       "  'relations': None}]"
      ]
     },
     "execution_count": 20,
     "metadata": {},
     "output_type": "execute_result"
    }
   ],
   "source": [
    "df.to_dict(orient=\"records\")"
   ]
  },
  {
   "cell_type": "code",
   "execution_count": 22,
   "id": "49203aa4-5ada-4b5b-9db9-779029879baf",
   "metadata": {
    "tags": []
   },
   "outputs": [
    {
     "name": "stdout",
     "output_type": "stream",
     "text": [
      "UPDATE histone_description SET summary=\"H3.4_(Homo_sapiens) is a human H3 histone variant highly expressed in testis and at lower level in other tissues.\", sequence=\"In human H3.4 has only 4 amino acid difference from cH3s (A23V, V71M, A98S, A111V) [ueda_testis-specific_2017].\", deposition=\"Tachiwana et al. have found that H3.4/H4 is not efficiently incorporated into the nucleosome by human Nap1 chaperone, due to its defective H3.4/H4 deposition on DNA. In contrast, human Nap2 chaperone, a paralog of Nap1, promoted nucleosome assembly with H3.4/H4. Mutational analyses revealed that the A111V mutation in H3.4 is essential for this difference [tachiwana_nucleosome_2008].\", structure=\"PDB structure of human H3.4 containing nucleosome is available with id 3A6N. Structural studies have revealed that H3.4 containing nucleosome are less stable, particularly due to V71M and A111V substitutions [tachiwana_structural_2010].\", disease=\"The single‑nucleotide polymorphism c190C>T (Arg64Cys) in the human testis‑specific histone variant, H3.4, was studied in Japanese patients for its association with Sertoli cell‑only syndrome, which causes infertility [miyamoto_association_2018].\" WHERE id = 107\n"
     ]
    }
   ],
   "source": [
    "desc_dict = {\n",
    "    \"summary\": \"H3.4_(Homo_sapiens) is a human H3 histone variant highly expressed in testis and at lower level in other tissues.\",\n",
    "    \"sequence\": \"In human H3.4 has only 4 amino acid difference from cH3s (A23V, V71M, A98S, A111V) [ueda_testis-specific_2017].\",\n",
    "    \"deposition\": \"Tachiwana et al. have found that H3.4/H4 is not efficiently incorporated into the nucleosome by human Nap1 chaperone, due to its defective H3.4/H4 deposition on DNA. In contrast, human Nap2 chaperone, a paralog of Nap1, promoted nucleosome assembly with H3.4/H4. Mutational analyses revealed that the A111V mutation in H3.4 is essential for this difference [tachiwana_nucleosome_2008].\",\n",
    "    \"structure\": \"PDB structure of human H3.4 containing nucleosome is available with id 3A6N. Structural studies have revealed that H3.4 containing nucleosome are less stable, particularly due to V71M and A111V substitutions [tachiwana_structural_2010].\",\n",
    "    \"disease\": \"The single‑nucleotide polymorphism c190C>T (Arg64Cys) in the human testis‑specific histone variant, H3.4, was studied in Japanese patients for its association with Sertoli cell‑only syndrome, which causes infertility [miyamoto_association_2018].\",\n",
    "}\n",
    "desk_str = \", \".join([f'{k}=\"{v}\"' for k, v in desc_dict.items()])\n",
    "query = f\"UPDATE histone_description SET {desk_str} \" \"WHERE id = 107\"\n",
    "print(query)\n",
    "cursor.execute(query)"
   ]
  },
  {
   "cell_type": "code",
   "execution_count": 23,
   "id": "9e66c241-a23f-4893-bcc3-cc68d89d59d3",
   "metadata": {
    "tags": []
   },
   "outputs": [
    {
     "data": {
      "text/html": [
       "<div>\n",
       "<style scoped>\n",
       "    .dataframe tbody tr th:only-of-type {\n",
       "        vertical-align: middle;\n",
       "    }\n",
       "\n",
       "    .dataframe tbody tr th {\n",
       "        vertical-align: top;\n",
       "    }\n",
       "\n",
       "    .dataframe thead th {\n",
       "        text-align: right;\n",
       "    }\n",
       "</style>\n",
       "<table border=\"1\" class=\"dataframe\">\n",
       "  <thead>\n",
       "    <tr style=\"text-align: right;\">\n",
       "      <th></th>\n",
       "      <th>id</th>\n",
       "      <th>level</th>\n",
       "      <th>taxonomic_span</th>\n",
       "      <th>taxonomic_span_id</th>\n",
       "      <th>description</th>\n",
       "      <th>parent</th>\n",
       "      <th>id</th>\n",
       "      <th>summary</th>\n",
       "      <th>taxonomy</th>\n",
       "      <th>genes</th>\n",
       "      <th>...</th>\n",
       "      <th>knock_out</th>\n",
       "      <th>function</th>\n",
       "      <th>sequence</th>\n",
       "      <th>localization</th>\n",
       "      <th>deposition</th>\n",
       "      <th>structure</th>\n",
       "      <th>interactions</th>\n",
       "      <th>disease</th>\n",
       "      <th>caveats</th>\n",
       "      <th>relations</th>\n",
       "    </tr>\n",
       "  </thead>\n",
       "  <tbody>\n",
       "    <tr>\n",
       "      <th>0</th>\n",
       "      <td>H3.4_(Homo_sapiens)</td>\n",
       "      <td>variant</td>\n",
       "      <td>Homo sapiens</td>\n",
       "      <td>9606</td>\n",
       "      <td>107</td>\n",
       "      <td>H3.4_(Mammalia)</td>\n",
       "      <td>107</td>\n",
       "      <td>H3.4_(Homo_sapiens) is a human H3 histone vari...</td>\n",
       "      <td>null</td>\n",
       "      <td>null</td>\n",
       "      <td>...</td>\n",
       "      <td>null</td>\n",
       "      <td>null</td>\n",
       "      <td>In human H3.4 has only 4 amino acid difference...</td>\n",
       "      <td>null</td>\n",
       "      <td>Tachiwana et al. have found that H3.4/H4 is no...</td>\n",
       "      <td>PDB structure of human H3.4 containing nucleos...</td>\n",
       "      <td>null</td>\n",
       "      <td>The single‑nucleotide polymorphism c190C&gt;T (Ar...</td>\n",
       "      <td>null</td>\n",
       "      <td>None</td>\n",
       "    </tr>\n",
       "  </tbody>\n",
       "</table>\n",
       "<p>1 rows × 22 columns</p>\n",
       "</div>"
      ],
      "text/plain": [
       "                    id    level taxonomic_span taxonomic_span_id  description  \\\n",
       "0  H3.4_(Homo_sapiens)  variant   Homo sapiens              9606          107   \n",
       "\n",
       "            parent   id                                            summary  \\\n",
       "0  H3.4_(Mammalia)  107  H3.4_(Homo_sapiens) is a human H3 histone vari...   \n",
       "\n",
       "  taxonomy genes  ... knock_out function  \\\n",
       "0     null  null  ...      null     null   \n",
       "\n",
       "                                            sequence localization  \\\n",
       "0  In human H3.4 has only 4 amino acid difference...         null   \n",
       "\n",
       "                                          deposition  \\\n",
       "0  Tachiwana et al. have found that H3.4/H4 is no...   \n",
       "\n",
       "                                           structure interactions  \\\n",
       "0  PDB structure of human H3.4 containing nucleos...         null   \n",
       "\n",
       "                                             disease caveats relations  \n",
       "0  The single‑nucleotide polymorphism c190C>T (Ar...    null      None  \n",
       "\n",
       "[1 rows x 22 columns]"
      ]
     },
     "execution_count": 23,
     "metadata": {},
     "output_type": "execute_result"
    }
   ],
   "source": [
    "query = (\n",
    "    \"SELECT * FROM histone h LEFT JOIN histone_description hd \"\n",
    "    \"ON h.description = hd.id \"\n",
    "    \"WHERE h.id='H3.4_(Homo_sapiens)'\"\n",
    ")\n",
    "cursor.execute(query)\n",
    "df = pd.DataFrame(cursor.fetchall(), columns=[i[0] for i in cursor.description])\n",
    "df"
   ]
  },
  {
   "cell_type": "code",
   "execution_count": 24,
   "id": "4066360a-4914-4a4b-8d8e-c4c02fd997fc",
   "metadata": {
    "tags": []
   },
   "outputs": [
    {
     "data": {
      "text/plain": [
       "[{'id': 107,\n",
       "  'level': 'variant',\n",
       "  'taxonomic_span': 'Homo sapiens',\n",
       "  'taxonomic_span_id': '9606',\n",
       "  'description': 107,\n",
       "  'parent': 'H3.4_(Mammalia)',\n",
       "  'summary': 'H3.4_(Homo_sapiens) is a human H3 histone variant highly expressed in testis and at lower level in other tissues.',\n",
       "  'taxonomy': 'null',\n",
       "  'genes': 'null',\n",
       "  'evolution': 'null',\n",
       "  'expression': 'null',\n",
       "  'knock_out': 'null',\n",
       "  'function': 'null',\n",
       "  'sequence': 'In human H3.4 has only 4 amino acid difference from cH3s (A23V, V71M, A98S, A111V) [ueda_testis-specific_2017].',\n",
       "  'localization': 'null',\n",
       "  'deposition': 'Tachiwana et al. have found that H3.4/H4 is not efficiently incorporated into the nucleosome by human Nap1 chaperone, due to its defective H3.4/H4 deposition on DNA. In contrast, human Nap2 chaperone, a paralog of Nap1, promoted nucleosome assembly with H3.4/H4. Mutational analyses revealed that the A111V mutation in H3.4 is essential for this difference [tachiwana_nucleosome_2008].',\n",
       "  'structure': 'PDB structure of human H3.4 containing nucleosome is available with id 3A6N. Structural studies have revealed that H3.4 containing nucleosome are less stable, particularly due to V71M and A111V substitutions [tachiwana_structural_2010].',\n",
       "  'interactions': 'null',\n",
       "  'disease': 'The single‑nucleotide polymorphism c190C>T (Arg64Cys) in the human testis‑specific histone variant, H3.4, was studied in Japanese patients for its association with Sertoli cell‑only syndrome, which causes infertility [miyamoto_association_2018].',\n",
       "  'caveats': 'null',\n",
       "  'relations': None}]"
      ]
     },
     "execution_count": 24,
     "metadata": {},
     "output_type": "execute_result"
    }
   ],
   "source": [
    "df.to_dict(orient=\"records\")"
   ]
  },
  {
   "cell_type": "code",
   "execution_count": 25,
   "id": "da017d2f-2779-4c2f-880a-4f26657b1115",
   "metadata": {
    "tags": []
   },
   "outputs": [],
   "source": [
    "# Make sure data is committed to the database\n",
    "conn.commit()"
   ]
  },
  {
   "cell_type": "markdown",
   "id": "27c17e99-9607-4a86-b694-2b14d0d06c46",
   "metadata": {},
   "source": [
    "## <span style=\"color:black\">Update description to H3.4_(Mammalia)</span>\n",
    "\n",
    "### <span style=\"color:black\">Update summary</span>\n",
    "\n",
    "```H3.4_(Mammalia) is a mammal-specific H3 histone variant highly expressed in testis and at lower level in other tissues [kycia_tudor_2014]. This variant is also reffered to as H3.1t, H3T, or TS H3.4. The H3.4 variant is very similar to canonical H3 histones both in sequence, gene location and transcriptional regulation. In human H3.4 has only 4 amino acid difference from cH3s (A23V, V71M, A98S, A111V), its gene is located within histone gene cluster, is intronless, its mRNA has a stem-loop structure. H3.4 expression is replication-dependent [kycia_tudor_2014, ueda_testis-specific_2017].```\n",
    "\n",
    "### <span style=\"color:black\">Update knock_out</span>\n",
    "\n",
    "```Knockout mice for H3.4 were first generated in 2017; both male and female H3t null mice were viable and healthy, but the male mice were sterile. H3.4 deficiency leads to azoospermia because of the loss of haploid germ cells [kawaguchi_comprehensive_2024, ueda_testis-specific_2017].```\n",
    "\n",
    "### <span style=\"color:black\">Update function</span>\n",
    "\n",
    "```H3.4 is mainly responsible for facilitating the transition from spermatogonia stem cells to active spermatogenesis. Mouse H3.4 was shown to be essential for very early stages of spermatogenesis, its deficiency leads to azoospermia because of the loss of haploid germ cells [kawaguchi_comprehensive_2024]. When differentiating spermatogonia emerge in normal spermatogenesis, H3.4 appears and replaces the canonical H3 proteins [ueda_testis-specific_2017].```\n",
    "\n",
    "### <span style=\"color:black\">Update expression</span>\n",
    "\n",
    "```Expression of H3.4 is strictly restricted to testicular tissue. In mice, it is detected in spermatogonia, meiotic cells, and haploid round spermatids. However, its expression level decreases significantly in early elongating spermatids, indicating stage-specific regulation during spermatogenesis [kawaguchi_comprehensive_2024].```\n",
    "\n",
    "### <span style=\"color:black\">Update localization</span>\n",
    "\n",
    "```In mouse H3.4 is not incorporated into the XY body, which forms during pachytene of meiotic prophase I, suggesting a potential role for H3.4 in organizing active chromatin regions [kawaguchi_comprehensive_2024].```\n",
    "\n",
    "### <span style=\"color:black\">Update interactions</span>\n",
    "\n",
    "```It was demostrated that A23V mutation favors the interaction of trymethyllysine-binding Tudor domains of PHF1 and PHF2 proteins (critical components of the PCR2 complex) with H3K27me3 marks. PHF1 co-localizes with H3.4 in testis and its Tudor domain preferentially binds to H3.4K27me3 over canonical H3K27me3 in vitro, implicating that H3.4K27me3 might be a physiological ligand of PHF1/19. [dong_structural_2020, kycia_tudor_2014].```\n",
    "\n",
    "### <span style=\"color:black\">Add structure</span>\n",
    "\n",
    "```Structural studies have revealed that human H3.4 containing nucleosome are less stable, particularly due to V71M and A111V substitutions [tachiwana_structural_2010].```\n",
    "\n",
    "### <span style=\"color:black\">Update disease to NULL</span>"
   ]
  },
  {
   "cell_type": "code",
   "execution_count": 26,
   "id": "efe55afd-274d-441d-a0f2-bca97722ebcd",
   "metadata": {
    "tags": []
   },
   "outputs": [
    {
     "data": {
      "text/html": [
       "<div>\n",
       "<style scoped>\n",
       "    .dataframe tbody tr th:only-of-type {\n",
       "        vertical-align: middle;\n",
       "    }\n",
       "\n",
       "    .dataframe tbody tr th {\n",
       "        vertical-align: top;\n",
       "    }\n",
       "\n",
       "    .dataframe thead th {\n",
       "        text-align: right;\n",
       "    }\n",
       "</style>\n",
       "<table border=\"1\" class=\"dataframe\">\n",
       "  <thead>\n",
       "    <tr style=\"text-align: right;\">\n",
       "      <th></th>\n",
       "      <th>id</th>\n",
       "      <th>level</th>\n",
       "      <th>taxonomic_span</th>\n",
       "      <th>taxonomic_span_id</th>\n",
       "      <th>description</th>\n",
       "      <th>parent</th>\n",
       "      <th>id</th>\n",
       "      <th>summary</th>\n",
       "      <th>taxonomy</th>\n",
       "      <th>genes</th>\n",
       "      <th>...</th>\n",
       "      <th>knock_out</th>\n",
       "      <th>function</th>\n",
       "      <th>sequence</th>\n",
       "      <th>localization</th>\n",
       "      <th>deposition</th>\n",
       "      <th>structure</th>\n",
       "      <th>interactions</th>\n",
       "      <th>disease</th>\n",
       "      <th>caveats</th>\n",
       "      <th>relations</th>\n",
       "    </tr>\n",
       "  </thead>\n",
       "  <tbody>\n",
       "    <tr>\n",
       "      <th>0</th>\n",
       "      <td>H3.4_(Mammalia)</td>\n",
       "      <td>variant_group</td>\n",
       "      <td>Mammalia</td>\n",
       "      <td>40674</td>\n",
       "      <td>51</td>\n",
       "      <td>H3</td>\n",
       "      <td>51</td>\n",
       "      <td>H3.4_(Mammalia)  is a mammal-specific H3 histo...</td>\n",
       "      <td>Mammals</td>\n",
       "      <td>In human is encoded by H3-4 gene (formerly HIS...</td>\n",
       "      <td>...</td>\n",
       "      <td>Knockout mice for H3.4 were first generated in...</td>\n",
       "      <td>null</td>\n",
       "      <td>null</td>\n",
       "      <td>null</td>\n",
       "      <td>null</td>\n",
       "      <td>PDB structure of human H3.4 containing nucleos...</td>\n",
       "      <td>null</td>\n",
       "      <td>The single‑nucleotide polymorphism c190C&gt;T (Ar...</td>\n",
       "      <td>null</td>\n",
       "      <td>None</td>\n",
       "    </tr>\n",
       "  </tbody>\n",
       "</table>\n",
       "<p>1 rows × 22 columns</p>\n",
       "</div>"
      ],
      "text/plain": [
       "                id          level taxonomic_span taxonomic_span_id  \\\n",
       "0  H3.4_(Mammalia)  variant_group       Mammalia             40674   \n",
       "\n",
       "   description parent  id                                            summary  \\\n",
       "0           51     H3  51  H3.4_(Mammalia)  is a mammal-specific H3 histo...   \n",
       "\n",
       "  taxonomy                                              genes  ...  \\\n",
       "0  Mammals  In human is encoded by H3-4 gene (formerly HIS...  ...   \n",
       "\n",
       "                                           knock_out function sequence  \\\n",
       "0  Knockout mice for H3.4 were first generated in...     null     null   \n",
       "\n",
       "  localization deposition                                          structure  \\\n",
       "0         null       null  PDB structure of human H3.4 containing nucleos...   \n",
       "\n",
       "  interactions                                            disease caveats  \\\n",
       "0         null  The single‑nucleotide polymorphism c190C>T (Ar...    null   \n",
       "\n",
       "  relations  \n",
       "0      None  \n",
       "\n",
       "[1 rows x 22 columns]"
      ]
     },
     "execution_count": 26,
     "metadata": {},
     "output_type": "execute_result"
    }
   ],
   "source": [
    "query = (\n",
    "    \"SELECT * FROM histone h LEFT JOIN histone_description hd \"\n",
    "    \"ON h.description = hd.id \"\n",
    "    \"WHERE h.id='H3.4_(Mammalia)'\"\n",
    ")\n",
    "cursor.execute(query)\n",
    "df = pd.DataFrame(cursor.fetchall(), columns=[i[0] for i in cursor.description])\n",
    "df"
   ]
  },
  {
   "cell_type": "code",
   "execution_count": 27,
   "id": "5e1fc74a-7730-4343-96f9-ec5c5fe95b37",
   "metadata": {
    "collapsed": true,
    "jupyter": {
     "outputs_hidden": true
    },
    "tags": []
   },
   "outputs": [
    {
     "data": {
      "text/plain": [
       "[{'id': 51,\n",
       "  'level': 'variant_group',\n",
       "  'taxonomic_span': 'Mammalia',\n",
       "  'taxonomic_span_id': '40674',\n",
       "  'description': 51,\n",
       "  'parent': 'H3',\n",
       "  'summary': 'H3.4_(Mammalia)  is a mammal-specific H3 histone variant highly expressed in testis and at lower level in other tissues [kycia_tudor_2014]. This variant is also reffered to as H3.1t, H3T, or TS H3.4. The H3.4 variant is very similar to canonical H3 histones both in sequence, gene location and transcriptional regulation. In human H3.4 has only 4 amino acid difference from cH3s (A23V,V71M, A98S, A111V), its gene is located within histone gene cluster, is intronless, its mRNA has a stem-loop structure. H3.4 expression is  replication-dependent [ueda_testis-specific_2017]. Mouse H3.4 was shown to be essential for very early stages of spermatogenesis, its deficiency leads to azoospermia because of the loss of haploid germ cells. When differentiating spermatogonia emerge in normal spermatogenesis, H3.4 appears and replaces the canonical H3 proteins [ueda_testis-specific_2017]. Structural studies have revealed that H3.4 containing nucleosome are less stable, particularly due to V71M and A111V substitutions [tachiwana_structural_2010]. Tachiwana et al. have found that H3.4/H4 is not efficiently incorporated into the nucleosome by human Nap1 chaperone, due to its defective H3.4/H4 deposition on DNA. In contrast, human Nap2 chaperone, a paralog of Nap1, promoted nucleosome assembly with H3.4/H4. Mutational analyses revealed that the A111V mutation in H3.4 is essential for this difference [tachiwana_nucleosome_2008]. It was demostrated that A23V mutation favors the interaction of trymethyllysine-binding Tudor domains of PHF1 and PHF2 proteins (critical components of the PCR2 complex) with H3K27me3 marks. PHF1 co-localizes with H3.4 in testis and its Tudor domain preferentially binds to H3.4K27me3 over canonical H3K27me3 in vitro, implicating that H3.4K27me3 might be a physiological ligand of PHF1/19. [dong_structural_2020, kycia_tudor_2014].',\n",
       "  'taxonomy': 'Mammals',\n",
       "  'genes': 'In human is encoded by H3-4 gene (formerly HIST3H3, also an alias name H3C16 has been suggested (Seal et al.)), in mouse by H3f4 gene. The gene encodes mRNA with a stem loop structure. In human the gene is located on chromosome 1 adjacent to genes H2AC25 and H2BC26 in a small histone gene cluster.',\n",
       "  'evolution': 'null',\n",
       "  'expression': 'null',\n",
       "  'knock_out': 'Knockout mice for H3.4 were first generated in 2017; both male and female H3t null mice were viable and healthy, but the male mice were sterile. H3.4 deficiency leads to azoospermia because of the loss of haploid germ cells[ueda_testis-specific_2017].',\n",
       "  'function': 'null',\n",
       "  'sequence': 'null',\n",
       "  'localization': 'null',\n",
       "  'deposition': 'null',\n",
       "  'structure': 'PDB structure of human H3.4 containing nucleosome is available with id 3A6N [tachiwana_structural_2010].',\n",
       "  'interactions': 'null',\n",
       "  'disease': 'The single‑nucleotide polymorphism c190C>T (Arg64Cys) in the human testis‑specific histone variant, H3.4, was studied in Japanese patients for its association with Sertoli cell‑only syndrome, which causes infertility [dong_structural_2020].',\n",
       "  'caveats': 'null',\n",
       "  'relations': None}]"
      ]
     },
     "execution_count": 27,
     "metadata": {},
     "output_type": "execute_result"
    }
   ],
   "source": [
    "df.to_dict(orient=\"records\")"
   ]
  },
  {
   "cell_type": "code",
   "execution_count": 29,
   "id": "41d6d260-c88a-463a-906d-68ed6e370015",
   "metadata": {
    "tags": []
   },
   "outputs": [
    {
     "name": "stdout",
     "output_type": "stream",
     "text": [
      "UPDATE histone_description SET summary=\"H3.4_(Mammalia) is a mammal-specific H3 histone variant highly expressed in testis and at lower level in other tissues [kycia_tudor_2014]. This variant is also reffered to as H3.1t, H3T, or TS H3.4. The H3.4 variant is very similar to canonical H3 histones both in sequence, gene location and transcriptional regulation. In human H3.4 has only 4 amino acid difference from cH3s (A23V, V71M, A98S, A111V), its gene is located within histone gene cluster, is intronless, its mRNA has a stem-loop structure. H3.4 expression is replication-dependent [kycia_tudor_2014, ueda_testis-specific_2017].\", knock_out=\"Knockout mice for H3.4 were first generated in 2017; both male and female H3t null mice were viable and healthy, but the male mice were sterile. H3.4 deficiency leads to azoospermia because of the loss of haploid germ cells [kawaguchi_comprehensive_2024, ueda_testis-specific_2017].\", function=\"H3.4 is mainly responsible for facilitating the transition from spermatogonia stem cells to active spermatogenesis. Mouse H3.4 was shown to be essential for very early stages of spermatogenesis, its deficiency leads to azoospermia because of the loss of haploid germ cells [kawaguchi_comprehensive_2024]. When differentiating spermatogonia emerge in normal spermatogenesis, H3.4 appears and replaces the canonical H3 proteins [ueda_testis-specific_2017].\", expression=\"Expression of H3.4 is strictly restricted to testicular tissue. In mice, it is detected in spermatogonia, meiotic cells, and haploid round spermatids. However, its expression level decreases significantly in early elongating spermatids, indicating stage-specific regulation during spermatogenesis [kawaguchi_comprehensive_2024].\", localization=\"In mouse H3.4 is not incorporated into the XY body, which forms during pachytene of meiotic prophase I, suggesting a potential role for H3.4 in organizing active chromatin regions [kawaguchi_comprehensive_2024].\", interactions=\"It was demostrated that A23V mutation favors the interaction of trymethyllysine-binding Tudor domains of PHF1 and PHF2 proteins (critical components of the PCR2 complex) with H3K27me3 marks. PHF1 co-localizes with H3.4 in testis and its Tudor domain preferentially binds to H3.4K27me3 over canonical H3K27me3 in vitro, implicating that H3.4K27me3 might be a physiological ligand of PHF1/19. [dong_structural_2020, kycia_tudor_2014].\", structure=\"Structural studies have revealed that human H3.4 containing nucleosome are less stable, particularly due to V71M and A111V substitutions [tachiwana_structural_2010].\" WHERE id = 51\n"
     ]
    }
   ],
   "source": [
    "desc_dict = {\n",
    "    \"summary\": \"H3.4_(Mammalia) is a mammal-specific H3 histone variant highly expressed in testis and at lower level in other tissues [kycia_tudor_2014]. This variant is also reffered to as H3.1t, H3T, or TS H3.4. The H3.4 variant is very similar to canonical H3 histones both in sequence, gene location and transcriptional regulation. In human H3.4 has only 4 amino acid difference from cH3s (A23V, V71M, A98S, A111V), its gene is located within histone gene cluster, is intronless, its mRNA has a stem-loop structure. H3.4 expression is replication-dependent [kycia_tudor_2014, ueda_testis-specific_2017].\",\n",
    "    \"knock_out\": \"Knockout mice for H3.4 were first generated in 2017; both male and female H3t null mice were viable and healthy, but the male mice were sterile. H3.4 deficiency leads to azoospermia because of the loss of haploid germ cells [kawaguchi_comprehensive_2024, ueda_testis-specific_2017].\",\n",
    "    \"function\": \"H3.4 is mainly responsible for facilitating the transition from spermatogonia stem cells to active spermatogenesis. Mouse H3.4 was shown to be essential for very early stages of spermatogenesis, its deficiency leads to azoospermia because of the loss of haploid germ cells [kawaguchi_comprehensive_2024]. When differentiating spermatogonia emerge in normal spermatogenesis, H3.4 appears and replaces the canonical H3 proteins [ueda_testis-specific_2017].\",\n",
    "    \"expression\": \"Expression of H3.4 is strictly restricted to testicular tissue. In mice, it is detected in spermatogonia, meiotic cells, and haploid round spermatids. However, its expression level decreases significantly in early elongating spermatids, indicating stage-specific regulation during spermatogenesis [kawaguchi_comprehensive_2024].\",\n",
    "    \"localization\": \"In mouse H3.4 is not incorporated into the XY body, which forms during pachytene of meiotic prophase I, suggesting a potential role for H3.4 in organizing active chromatin regions [kawaguchi_comprehensive_2024].\",\n",
    "    \"interactions\": \"It was demostrated that A23V mutation favors the interaction of trymethyllysine-binding Tudor domains of PHF1 and PHF2 proteins (critical components of the PCR2 complex) with H3K27me3 marks. PHF1 co-localizes with H3.4 in testis and its Tudor domain preferentially binds to H3.4K27me3 over canonical H3K27me3 in vitro, implicating that H3.4K27me3 might be a physiological ligand of PHF1/19. [dong_structural_2020, kycia_tudor_2014].\",\n",
    "    \"structure\": \"Structural studies have revealed that human H3.4 containing nucleosome are less stable, particularly due to V71M and A111V substitutions [tachiwana_structural_2010].\",\n",
    "}\n",
    "desk_str = \", \".join([f'{k}=\"{v}\"' for k, v in desc_dict.items()])\n",
    "query = f\"UPDATE histone_description SET {desk_str} \" \"WHERE id = 51\"\n",
    "print(query)\n",
    "cursor.execute(query)"
   ]
  },
  {
   "cell_type": "code",
   "execution_count": 30,
   "id": "a8ce8937-ea6d-4913-8690-af0fc68dd692",
   "metadata": {
    "tags": []
   },
   "outputs": [
    {
     "data": {
      "text/html": [
       "<div>\n",
       "<style scoped>\n",
       "    .dataframe tbody tr th:only-of-type {\n",
       "        vertical-align: middle;\n",
       "    }\n",
       "\n",
       "    .dataframe tbody tr th {\n",
       "        vertical-align: top;\n",
       "    }\n",
       "\n",
       "    .dataframe thead th {\n",
       "        text-align: right;\n",
       "    }\n",
       "</style>\n",
       "<table border=\"1\" class=\"dataframe\">\n",
       "  <thead>\n",
       "    <tr style=\"text-align: right;\">\n",
       "      <th></th>\n",
       "      <th>id</th>\n",
       "      <th>level</th>\n",
       "      <th>taxonomic_span</th>\n",
       "      <th>taxonomic_span_id</th>\n",
       "      <th>description</th>\n",
       "      <th>parent</th>\n",
       "      <th>id</th>\n",
       "      <th>summary</th>\n",
       "      <th>taxonomy</th>\n",
       "      <th>genes</th>\n",
       "      <th>...</th>\n",
       "      <th>knock_out</th>\n",
       "      <th>function</th>\n",
       "      <th>sequence</th>\n",
       "      <th>localization</th>\n",
       "      <th>deposition</th>\n",
       "      <th>structure</th>\n",
       "      <th>interactions</th>\n",
       "      <th>disease</th>\n",
       "      <th>caveats</th>\n",
       "      <th>relations</th>\n",
       "    </tr>\n",
       "  </thead>\n",
       "  <tbody>\n",
       "    <tr>\n",
       "      <th>0</th>\n",
       "      <td>H3.4_(Mammalia)</td>\n",
       "      <td>variant_group</td>\n",
       "      <td>Mammalia</td>\n",
       "      <td>40674</td>\n",
       "      <td>51</td>\n",
       "      <td>H3</td>\n",
       "      <td>51</td>\n",
       "      <td>H3.4_(Mammalia) is a mammal-specific H3 histon...</td>\n",
       "      <td>Mammals</td>\n",
       "      <td>In human is encoded by H3-4 gene (formerly HIS...</td>\n",
       "      <td>...</td>\n",
       "      <td>Knockout mice for H3.4 were first generated in...</td>\n",
       "      <td>H3.4 is mainly responsible for facilitating th...</td>\n",
       "      <td>null</td>\n",
       "      <td>In mouse H3.4 is not incorporated into the XY ...</td>\n",
       "      <td>null</td>\n",
       "      <td>Structural studies have revealed that human H3...</td>\n",
       "      <td>It was demostrated that A23V mutation favors t...</td>\n",
       "      <td>The single‑nucleotide polymorphism c190C&gt;T (Ar...</td>\n",
       "      <td>null</td>\n",
       "      <td>None</td>\n",
       "    </tr>\n",
       "  </tbody>\n",
       "</table>\n",
       "<p>1 rows × 22 columns</p>\n",
       "</div>"
      ],
      "text/plain": [
       "                id          level taxonomic_span taxonomic_span_id  \\\n",
       "0  H3.4_(Mammalia)  variant_group       Mammalia             40674   \n",
       "\n",
       "   description parent  id                                            summary  \\\n",
       "0           51     H3  51  H3.4_(Mammalia) is a mammal-specific H3 histon...   \n",
       "\n",
       "  taxonomy                                              genes  ...  \\\n",
       "0  Mammals  In human is encoded by H3-4 gene (formerly HIS...  ...   \n",
       "\n",
       "                                           knock_out  \\\n",
       "0  Knockout mice for H3.4 were first generated in...   \n",
       "\n",
       "                                            function sequence  \\\n",
       "0  H3.4 is mainly responsible for facilitating th...     null   \n",
       "\n",
       "                                        localization deposition  \\\n",
       "0  In mouse H3.4 is not incorporated into the XY ...       null   \n",
       "\n",
       "                                           structure  \\\n",
       "0  Structural studies have revealed that human H3...   \n",
       "\n",
       "                                        interactions  \\\n",
       "0  It was demostrated that A23V mutation favors t...   \n",
       "\n",
       "                                             disease caveats relations  \n",
       "0  The single‑nucleotide polymorphism c190C>T (Ar...    null      None  \n",
       "\n",
       "[1 rows x 22 columns]"
      ]
     },
     "execution_count": 30,
     "metadata": {},
     "output_type": "execute_result"
    }
   ],
   "source": [
    "query = (\n",
    "    \"SELECT * FROM histone h LEFT JOIN histone_description hd \"\n",
    "    \"ON h.description = hd.id \"\n",
    "    \"WHERE h.id='H3.4_(Mammalia)'\"\n",
    ")\n",
    "cursor.execute(query)\n",
    "df = pd.DataFrame(cursor.fetchall(), columns=[i[0] for i in cursor.description])\n",
    "df"
   ]
  },
  {
   "cell_type": "code",
   "execution_count": 31,
   "id": "e58d93ed-1dff-4109-8872-f1c739b04b0d",
   "metadata": {
    "tags": []
   },
   "outputs": [
    {
     "data": {
      "text/plain": [
       "[{'id': 51,\n",
       "  'level': 'variant_group',\n",
       "  'taxonomic_span': 'Mammalia',\n",
       "  'taxonomic_span_id': '40674',\n",
       "  'description': 51,\n",
       "  'parent': 'H3',\n",
       "  'summary': 'H3.4_(Mammalia) is a mammal-specific H3 histone variant highly expressed in testis and at lower level in other tissues [kycia_tudor_2014]. This variant is also reffered to as H3.1t, H3T, or TS H3.4. The H3.4 variant is very similar to canonical H3 histones both in sequence, gene location and transcriptional regulation. In human H3.4 has only 4 amino acid difference from cH3s (A23V, V71M, A98S, A111V), its gene is located within histone gene cluster, is intronless, its mRNA has a stem-loop structure. H3.4 expression is replication-dependent [kycia_tudor_2014, ueda_testis-specific_2017].',\n",
       "  'taxonomy': 'Mammals',\n",
       "  'genes': 'In human is encoded by H3-4 gene (formerly HIST3H3, also an alias name H3C16 has been suggested (Seal et al.)), in mouse by H3f4 gene. The gene encodes mRNA with a stem loop structure. In human the gene is located on chromosome 1 adjacent to genes H2AC25 and H2BC26 in a small histone gene cluster.',\n",
       "  'evolution': 'null',\n",
       "  'expression': 'Expression of H3.4 is strictly restricted to testicular tissue. In mice, it is detected in spermatogonia, meiotic cells, and haploid round spermatids. However, its expression level decreases significantly in early elongating spermatids, indicating stage-specific regulation during spermatogenesis [kawaguchi_comprehensive_2024].',\n",
       "  'knock_out': 'Knockout mice for H3.4 were first generated in 2017; both male and female H3t null mice were viable and healthy, but the male mice were sterile. H3.4 deficiency leads to azoospermia because of the loss of haploid germ cells [kawaguchi_comprehensive_2024, ueda_testis-specific_2017].',\n",
       "  'function': 'H3.4 is mainly responsible for facilitating the transition from spermatogonia stem cells to active spermatogenesis. Mouse H3.4 was shown to be essential for very early stages of spermatogenesis, its deficiency leads to azoospermia because of the loss of haploid germ cells [kawaguchi_comprehensive_2024]. When differentiating spermatogonia emerge in normal spermatogenesis, H3.4 appears and replaces the canonical H3 proteins [ueda_testis-specific_2017].',\n",
       "  'sequence': 'null',\n",
       "  'localization': 'In mouse H3.4 is not incorporated into the XY body, which forms during pachytene of meiotic prophase I, suggesting a potential role for H3.4 in organizing active chromatin regions [kawaguchi_comprehensive_2024].',\n",
       "  'deposition': 'null',\n",
       "  'structure': 'Structural studies have revealed that human H3.4 containing nucleosome are less stable, particularly due to V71M and A111V substitutions [tachiwana_structural_2010].',\n",
       "  'interactions': 'It was demostrated that A23V mutation favors the interaction of trymethyllysine-binding Tudor domains of PHF1 and PHF2 proteins (critical components of the PCR2 complex) with H3K27me3 marks. PHF1 co-localizes with H3.4 in testis and its Tudor domain preferentially binds to H3.4K27me3 over canonical H3K27me3 in vitro, implicating that H3.4K27me3 might be a physiological ligand of PHF1/19. [dong_structural_2020, kycia_tudor_2014].',\n",
       "  'disease': 'The single‑nucleotide polymorphism c190C>T (Arg64Cys) in the human testis‑specific histone variant, H3.4, was studied in Japanese patients for its association with Sertoli cell‑only syndrome, which causes infertility [dong_structural_2020].',\n",
       "  'caveats': 'null',\n",
       "  'relations': None}]"
      ]
     },
     "execution_count": 31,
     "metadata": {},
     "output_type": "execute_result"
    }
   ],
   "source": [
    "df.to_dict(orient=\"records\")"
   ]
  },
  {
   "cell_type": "code",
   "execution_count": 34,
   "id": "1f1a1702-f2e5-467d-bd50-518cbff221b8",
   "metadata": {
    "tags": []
   },
   "outputs": [
    {
     "name": "stdout",
     "output_type": "stream",
     "text": [
      "UPDATE histone_description SET disease=null WHERE id = 51\n"
     ]
    }
   ],
   "source": [
    "query = f\"UPDATE histone_description SET disease=null \" \"WHERE id = 51\"\n",
    "print(query)\n",
    "cursor.execute(query)"
   ]
  },
  {
   "cell_type": "code",
   "execution_count": 36,
   "id": "9469c774-29c3-43a8-b975-f462888abd03",
   "metadata": {
    "tags": []
   },
   "outputs": [
    {
     "data": {
      "text/html": [
       "<div>\n",
       "<style scoped>\n",
       "    .dataframe tbody tr th:only-of-type {\n",
       "        vertical-align: middle;\n",
       "    }\n",
       "\n",
       "    .dataframe tbody tr th {\n",
       "        vertical-align: top;\n",
       "    }\n",
       "\n",
       "    .dataframe thead th {\n",
       "        text-align: right;\n",
       "    }\n",
       "</style>\n",
       "<table border=\"1\" class=\"dataframe\">\n",
       "  <thead>\n",
       "    <tr style=\"text-align: right;\">\n",
       "      <th></th>\n",
       "      <th>id</th>\n",
       "      <th>level</th>\n",
       "      <th>taxonomic_span</th>\n",
       "      <th>taxonomic_span_id</th>\n",
       "      <th>description</th>\n",
       "      <th>parent</th>\n",
       "      <th>id</th>\n",
       "      <th>summary</th>\n",
       "      <th>taxonomy</th>\n",
       "      <th>genes</th>\n",
       "      <th>...</th>\n",
       "      <th>knock_out</th>\n",
       "      <th>function</th>\n",
       "      <th>sequence</th>\n",
       "      <th>localization</th>\n",
       "      <th>deposition</th>\n",
       "      <th>structure</th>\n",
       "      <th>interactions</th>\n",
       "      <th>disease</th>\n",
       "      <th>caveats</th>\n",
       "      <th>relations</th>\n",
       "    </tr>\n",
       "  </thead>\n",
       "  <tbody>\n",
       "    <tr>\n",
       "      <th>0</th>\n",
       "      <td>H3.4_(Mammalia)</td>\n",
       "      <td>variant_group</td>\n",
       "      <td>Mammalia</td>\n",
       "      <td>40674</td>\n",
       "      <td>51</td>\n",
       "      <td>H3</td>\n",
       "      <td>51</td>\n",
       "      <td>H3.4_(Mammalia) is a mammal-specific H3 histon...</td>\n",
       "      <td>Mammals</td>\n",
       "      <td>In human is encoded by H3-4 gene (formerly HIS...</td>\n",
       "      <td>...</td>\n",
       "      <td>Knockout mice for H3.4 were first generated in...</td>\n",
       "      <td>H3.4 is mainly responsible for facilitating th...</td>\n",
       "      <td>null</td>\n",
       "      <td>In mouse H3.4 is not incorporated into the XY ...</td>\n",
       "      <td>null</td>\n",
       "      <td>Structural studies have revealed that human H3...</td>\n",
       "      <td>It was demostrated that A23V mutation favors t...</td>\n",
       "      <td>None</td>\n",
       "      <td>null</td>\n",
       "      <td>None</td>\n",
       "    </tr>\n",
       "  </tbody>\n",
       "</table>\n",
       "<p>1 rows × 22 columns</p>\n",
       "</div>"
      ],
      "text/plain": [
       "                id          level taxonomic_span taxonomic_span_id  \\\n",
       "0  H3.4_(Mammalia)  variant_group       Mammalia             40674   \n",
       "\n",
       "   description parent  id                                            summary  \\\n",
       "0           51     H3  51  H3.4_(Mammalia) is a mammal-specific H3 histon...   \n",
       "\n",
       "  taxonomy                                              genes  ...  \\\n",
       "0  Mammals  In human is encoded by H3-4 gene (formerly HIS...  ...   \n",
       "\n",
       "                                           knock_out  \\\n",
       "0  Knockout mice for H3.4 were first generated in...   \n",
       "\n",
       "                                            function sequence  \\\n",
       "0  H3.4 is mainly responsible for facilitating th...     null   \n",
       "\n",
       "                                        localization deposition  \\\n",
       "0  In mouse H3.4 is not incorporated into the XY ...       null   \n",
       "\n",
       "                                           structure  \\\n",
       "0  Structural studies have revealed that human H3...   \n",
       "\n",
       "                                        interactions disease caveats relations  \n",
       "0  It was demostrated that A23V mutation favors t...    None    null      None  \n",
       "\n",
       "[1 rows x 22 columns]"
      ]
     },
     "execution_count": 36,
     "metadata": {},
     "output_type": "execute_result"
    }
   ],
   "source": [
    "query = (\n",
    "    \"SELECT * FROM histone h LEFT JOIN histone_description hd \"\n",
    "    \"ON h.description = hd.id \"\n",
    "    \"WHERE h.id='H3.4_(Mammalia)'\"\n",
    ")\n",
    "cursor.execute(query)\n",
    "df = pd.DataFrame(cursor.fetchall(), columns=[i[0] for i in cursor.description])\n",
    "df"
   ]
  },
  {
   "cell_type": "code",
   "execution_count": 35,
   "id": "044a5c77-ee06-446d-8637-4733e9430c4e",
   "metadata": {
    "tags": []
   },
   "outputs": [],
   "source": [
    "# Make sure data is committed to the database\n",
    "conn.commit()"
   ]
  },
  {
   "cell_type": "markdown",
   "id": "364d5640-2eca-400b-b16e-0c183fbbe832",
   "metadata": {},
   "source": [
    "## <span style=\"color:black\">Update description to H3.5_(Hominidae)</span>\n",
    "\n",
    "### <span style=\"color:black\">Update summary</span>\n",
    "\n",
    "```H3.5 is a hominid-specific histone H3 variant, also known as H3.3C, expressed in the seminiferous tubules of the human testis and plays a role in regulating spermatogenesis. H3.5 likely evolved from H3F3B gene duplication and is associated with euchromatin and actively transcribed genes [schenk_h35_2011].```\n",
    "\n",
    "### <span style=\"color:black\">Update sequence</span>\n",
    "\n",
    "```H3.3 is the most similar variant to H3.5 (approximately 96% identity). H3.5 has two copies of the ARKST motif and 5 amino acids differences comparing to H3.3 [schenk_h35_2011, ederveen_human_2011].```"
   ]
  },
  {
   "cell_type": "code",
   "execution_count": 37,
   "id": "6e2f9bcb-5e9e-4a12-8213-dd28d2d2a757",
   "metadata": {
    "tags": []
   },
   "outputs": [
    {
     "data": {
      "text/html": [
       "<div>\n",
       "<style scoped>\n",
       "    .dataframe tbody tr th:only-of-type {\n",
       "        vertical-align: middle;\n",
       "    }\n",
       "\n",
       "    .dataframe tbody tr th {\n",
       "        vertical-align: top;\n",
       "    }\n",
       "\n",
       "    .dataframe thead th {\n",
       "        text-align: right;\n",
       "    }\n",
       "</style>\n",
       "<table border=\"1\" class=\"dataframe\">\n",
       "  <thead>\n",
       "    <tr style=\"text-align: right;\">\n",
       "      <th></th>\n",
       "      <th>id</th>\n",
       "      <th>level</th>\n",
       "      <th>taxonomic_span</th>\n",
       "      <th>taxonomic_span_id</th>\n",
       "      <th>description</th>\n",
       "      <th>parent</th>\n",
       "      <th>id</th>\n",
       "      <th>summary</th>\n",
       "      <th>taxonomy</th>\n",
       "      <th>genes</th>\n",
       "      <th>...</th>\n",
       "      <th>knock_out</th>\n",
       "      <th>function</th>\n",
       "      <th>sequence</th>\n",
       "      <th>localization</th>\n",
       "      <th>deposition</th>\n",
       "      <th>structure</th>\n",
       "      <th>interactions</th>\n",
       "      <th>disease</th>\n",
       "      <th>caveats</th>\n",
       "      <th>relations</th>\n",
       "    </tr>\n",
       "  </thead>\n",
       "  <tbody>\n",
       "    <tr>\n",
       "      <th>0</th>\n",
       "      <td>H3.5_(Hominidae)</td>\n",
       "      <td>variant_group</td>\n",
       "      <td>null</td>\n",
       "      <td>null</td>\n",
       "      <td>206</td>\n",
       "      <td>H3</td>\n",
       "      <td>206</td>\n",
       "      <td>H3.5 is a hominid-specific histone H3 variant ...</td>\n",
       "      <td>None</td>\n",
       "      <td>None</td>\n",
       "      <td>...</td>\n",
       "      <td>None</td>\n",
       "      <td>None</td>\n",
       "      <td>None</td>\n",
       "      <td>None</td>\n",
       "      <td>None</td>\n",
       "      <td>None</td>\n",
       "      <td>None</td>\n",
       "      <td>None</td>\n",
       "      <td>None</td>\n",
       "      <td>None</td>\n",
       "    </tr>\n",
       "  </tbody>\n",
       "</table>\n",
       "<p>1 rows × 22 columns</p>\n",
       "</div>"
      ],
      "text/plain": [
       "                 id          level taxonomic_span taxonomic_span_id  \\\n",
       "0  H3.5_(Hominidae)  variant_group           null              null   \n",
       "\n",
       "   description parent   id                                            summary  \\\n",
       "0          206     H3  206  H3.5 is a hominid-specific histone H3 variant ...   \n",
       "\n",
       "  taxonomy genes  ... knock_out function sequence localization deposition  \\\n",
       "0     None  None  ...      None     None     None         None       None   \n",
       "\n",
       "  structure interactions disease caveats relations  \n",
       "0      None         None    None    None      None  \n",
       "\n",
       "[1 rows x 22 columns]"
      ]
     },
     "execution_count": 37,
     "metadata": {},
     "output_type": "execute_result"
    }
   ],
   "source": [
    "query = (\n",
    "    \"SELECT * FROM histone h LEFT JOIN histone_description hd \"\n",
    "    \"ON h.description = hd.id \"\n",
    "    \"WHERE h.id='H3.5_(Hominidae)'\"\n",
    ")\n",
    "cursor.execute(query)\n",
    "df = pd.DataFrame(cursor.fetchall(), columns=[i[0] for i in cursor.description])\n",
    "df"
   ]
  },
  {
   "cell_type": "code",
   "execution_count": 38,
   "id": "50c3dd9d-9f51-40c5-b48e-c1018cb7d1ed",
   "metadata": {
    "collapsed": true,
    "jupyter": {
     "outputs_hidden": true
    },
    "tags": []
   },
   "outputs": [
    {
     "data": {
      "text/plain": [
       "[{'id': 206,\n",
       "  'level': 'variant_group',\n",
       "  'taxonomic_span': 'null',\n",
       "  'taxonomic_span_id': 'null',\n",
       "  'description': 206,\n",
       "  'parent': 'H3',\n",
       "  'summary': \"H3.5 is a hominid-specific histone H3 variant expressed in the seminiferous tubules of human testes, encoded on chromosome 12p11.21 region of human chromosome 12. H3.3 is the most similar variant to H3.5 (approximately 96% identity). H3.5 has two copies of the ARKST motif and 5 amino acids differences comparing to H3.3 [schenk_h35_2011, ederveen_human_2011]. H3.5 likely evolved from H3F3B gene duplication and is associated with euchromatin and actively transcribed genes [schenk_h35_2011]. Nucleosomes containing histone variant H3.5 are less stable than H3.1 and H3.3 nucleosomes, but more stable than H3.4 nucleosome [urahama_histone_2016]. Notable, amino acid L in position 103 of H3.5 (amino acid F at the corresponding position in H3.3) reduces the number of hydrophobic bonds with histone H4 leading to instability of nucleosome [urahama_histone_2016]. H3.5 localizes primarely at exons, 5'UTR, 3'UTR, promoters and introns. Although it enreached around transcription start sites (TSSs), H3.5 distribution is independent of gene expression levels [urahama_histone_2016]. Clinical data indicate that H3.5 mRNA levels are significantly lower in patients with nonobstructive azoospermia compared to those with obstructive azoospermia or normal individuals, suggesting H3.5's role in normal spermatogenesis and its regulation by gonadotropins [ding_primate-specific_2021].\",\n",
       "  'taxonomy': None,\n",
       "  'genes': None,\n",
       "  'evolution': None,\n",
       "  'expression': None,\n",
       "  'knock_out': None,\n",
       "  'function': None,\n",
       "  'sequence': None,\n",
       "  'localization': None,\n",
       "  'deposition': None,\n",
       "  'structure': None,\n",
       "  'interactions': None,\n",
       "  'disease': None,\n",
       "  'caveats': None,\n",
       "  'relations': None}]"
      ]
     },
     "execution_count": 38,
     "metadata": {},
     "output_type": "execute_result"
    }
   ],
   "source": [
    "df.to_dict(orient=\"records\")"
   ]
  },
  {
   "cell_type": "code",
   "execution_count": 39,
   "id": "59298114-d777-4439-a9e4-71d1f7aa06ca",
   "metadata": {
    "tags": []
   },
   "outputs": [
    {
     "name": "stdout",
     "output_type": "stream",
     "text": [
      "UPDATE histone_description SET summary=\"H3.5 is a hominid-specific histone H3 variant, also known as H3.3C, expressed in the seminiferous tubules of the human testis and plays a role in regulating spermatogenesis. H3.5 likely evolved from H3F3B gene duplication and is associated with euchromatin and actively transcribed genes [schenk_h35_2011].\", sequence=\"H3.3 is the most similar variant to H3.5 (approximately 96% identity). H3.5 has two copies of the ARKST motif and 5 amino acids differences comparing to H3.3 [schenk_h35_2011, ederveen_human_2011].\" WHERE id = 206\n"
     ]
    }
   ],
   "source": [
    "desc_dict = {\n",
    "    \"summary\": \"H3.5 is a hominid-specific histone H3 variant, also known as H3.3C, expressed in the seminiferous tubules of the human testis and plays a role in regulating spermatogenesis. H3.5 likely evolved from H3F3B gene duplication and is associated with euchromatin and actively transcribed genes [schenk_h35_2011].\",\n",
    "    \"sequence\": \"H3.3 is the most similar variant to H3.5 (approximately 96% identity). H3.5 has two copies of the ARKST motif and 5 amino acids differences comparing to H3.3 [schenk_h35_2011, ederveen_human_2011].\",\n",
    "}\n",
    "desk_str = \", \".join([f'{k}=\"{v}\"' for k, v in desc_dict.items()])\n",
    "query = f\"UPDATE histone_description SET {desk_str} \" \"WHERE id = 206\"\n",
    "print(query)\n",
    "cursor.execute(query)"
   ]
  },
  {
   "cell_type": "code",
   "execution_count": 40,
   "id": "99c85755-e63f-4320-9a36-fd950891e9d8",
   "metadata": {
    "tags": []
   },
   "outputs": [
    {
     "data": {
      "text/html": [
       "<div>\n",
       "<style scoped>\n",
       "    .dataframe tbody tr th:only-of-type {\n",
       "        vertical-align: middle;\n",
       "    }\n",
       "\n",
       "    .dataframe tbody tr th {\n",
       "        vertical-align: top;\n",
       "    }\n",
       "\n",
       "    .dataframe thead th {\n",
       "        text-align: right;\n",
       "    }\n",
       "</style>\n",
       "<table border=\"1\" class=\"dataframe\">\n",
       "  <thead>\n",
       "    <tr style=\"text-align: right;\">\n",
       "      <th></th>\n",
       "      <th>id</th>\n",
       "      <th>level</th>\n",
       "      <th>taxonomic_span</th>\n",
       "      <th>taxonomic_span_id</th>\n",
       "      <th>description</th>\n",
       "      <th>parent</th>\n",
       "      <th>id</th>\n",
       "      <th>summary</th>\n",
       "      <th>taxonomy</th>\n",
       "      <th>genes</th>\n",
       "      <th>...</th>\n",
       "      <th>knock_out</th>\n",
       "      <th>function</th>\n",
       "      <th>sequence</th>\n",
       "      <th>localization</th>\n",
       "      <th>deposition</th>\n",
       "      <th>structure</th>\n",
       "      <th>interactions</th>\n",
       "      <th>disease</th>\n",
       "      <th>caveats</th>\n",
       "      <th>relations</th>\n",
       "    </tr>\n",
       "  </thead>\n",
       "  <tbody>\n",
       "    <tr>\n",
       "      <th>0</th>\n",
       "      <td>H3.5_(Hominidae)</td>\n",
       "      <td>variant_group</td>\n",
       "      <td>null</td>\n",
       "      <td>null</td>\n",
       "      <td>206</td>\n",
       "      <td>H3</td>\n",
       "      <td>206</td>\n",
       "      <td>H3.5 is a hominid-specific histone H3 variant,...</td>\n",
       "      <td>None</td>\n",
       "      <td>None</td>\n",
       "      <td>...</td>\n",
       "      <td>None</td>\n",
       "      <td>None</td>\n",
       "      <td>H3.3 is the most similar variant to H3.5 (appr...</td>\n",
       "      <td>None</td>\n",
       "      <td>None</td>\n",
       "      <td>None</td>\n",
       "      <td>None</td>\n",
       "      <td>None</td>\n",
       "      <td>None</td>\n",
       "      <td>None</td>\n",
       "    </tr>\n",
       "  </tbody>\n",
       "</table>\n",
       "<p>1 rows × 22 columns</p>\n",
       "</div>"
      ],
      "text/plain": [
       "                 id          level taxonomic_span taxonomic_span_id  \\\n",
       "0  H3.5_(Hominidae)  variant_group           null              null   \n",
       "\n",
       "   description parent   id                                            summary  \\\n",
       "0          206     H3  206  H3.5 is a hominid-specific histone H3 variant,...   \n",
       "\n",
       "  taxonomy genes  ... knock_out function  \\\n",
       "0     None  None  ...      None     None   \n",
       "\n",
       "                                            sequence localization deposition  \\\n",
       "0  H3.3 is the most similar variant to H3.5 (appr...         None       None   \n",
       "\n",
       "  structure interactions disease caveats relations  \n",
       "0      None         None    None    None      None  \n",
       "\n",
       "[1 rows x 22 columns]"
      ]
     },
     "execution_count": 40,
     "metadata": {},
     "output_type": "execute_result"
    }
   ],
   "source": [
    "query = (\n",
    "    \"SELECT * FROM histone h LEFT JOIN histone_description hd \"\n",
    "    \"ON h.description = hd.id \"\n",
    "    \"WHERE h.id='H3.5_(Hominidae)'\"\n",
    ")\n",
    "cursor.execute(query)\n",
    "df = pd.DataFrame(cursor.fetchall(), columns=[i[0] for i in cursor.description])\n",
    "df"
   ]
  },
  {
   "cell_type": "code",
   "execution_count": 41,
   "id": "ce524df0-ed0a-4471-ab96-9422cf91e96c",
   "metadata": {
    "tags": []
   },
   "outputs": [
    {
     "data": {
      "text/plain": [
       "[{'id': 206,\n",
       "  'level': 'variant_group',\n",
       "  'taxonomic_span': 'null',\n",
       "  'taxonomic_span_id': 'null',\n",
       "  'description': 206,\n",
       "  'parent': 'H3',\n",
       "  'summary': 'H3.5 is a hominid-specific histone H3 variant, also known as H3.3C, expressed in the seminiferous tubules of the human testis and plays a role in regulating spermatogenesis. H3.5 likely evolved from H3F3B gene duplication and is associated with euchromatin and actively transcribed genes [schenk_h35_2011].',\n",
       "  'taxonomy': None,\n",
       "  'genes': None,\n",
       "  'evolution': None,\n",
       "  'expression': None,\n",
       "  'knock_out': None,\n",
       "  'function': None,\n",
       "  'sequence': 'H3.3 is the most similar variant to H3.5 (approximately 96% identity). H3.5 has two copies of the ARKST motif and 5 amino acids differences comparing to H3.3 [schenk_h35_2011, ederveen_human_2011].',\n",
       "  'localization': None,\n",
       "  'deposition': None,\n",
       "  'structure': None,\n",
       "  'interactions': None,\n",
       "  'disease': None,\n",
       "  'caveats': None,\n",
       "  'relations': None}]"
      ]
     },
     "execution_count": 41,
     "metadata": {},
     "output_type": "execute_result"
    }
   ],
   "source": [
    "df.to_dict(orient=\"records\")"
   ]
  },
  {
   "cell_type": "code",
   "execution_count": 42,
   "id": "2b53f480-e1a0-48f4-82a2-4932dae4a7d5",
   "metadata": {
    "tags": []
   },
   "outputs": [],
   "source": [
    "# Make sure data is committed to the database\n",
    "conn.commit()"
   ]
  },
  {
   "cell_type": "markdown",
   "id": "37d8c329-9ae2-42ed-8f88-e52da11b5b40",
   "metadata": {},
   "source": [
    "## <span style=\"color:black\">Add description to H3.5_(Homo_sapiens)</span>\n",
    "\n",
    "### <span style=\"color:black\">Add summary</span>\n",
    "\n",
    "```H3.5_(Homo_sapiens) is a H3 histone variant expressed in the seminiferous tubules of human testes.```\n",
    "\n",
    "### <span style=\"color:black\">Add function</span>\n",
    "\n",
    "```H3.5 plays a significant role in testicular cell differentiation, with potential implications in the pathogenesis of testicular diseases.```\n",
    "\n",
    "### <span style=\"color:black\">Add expression</span>\n",
    "\n",
    "```The highest expression of H3.5 is found in spermatocytes, while lower levels are present in early and late spermatids, and absent in mature spermatozoa [weil_histone_2024, ding_primate-specific_2021]. However, low-abundance H3.5 transcripts were also identified in leukocytes and hepatocytes [schenk_h35_2011].```\n",
    "\n",
    "### <span style=\"color:black\">Add gene</span>\n",
    "\n",
    "```H3.5 is encoded by H3-5 gene on chromosome 12. Methylation of the CpG island in the promoter region of the gene plays a key role in its tissue-specific expression regulation [weil_histone_2024].```\n",
    "\n",
    "### <span style=\"color:black\">Update sequence</span>\n",
    "\n",
    "```H3.5 differs from H3.3 by five amino acid substitutions: Thr29, Cys33, Asn78, Val88, and Leu103 (which correspond to Ala29, Gly33, Lys79, Ile89, and Phe104 in H3.3, respectively) [urahama_histone_2016]. Furthermore, H3.5 lacks the lysine residue at position 37, which is present in the major H3 variants.```\n",
    "\n",
    "### <span style=\"color:black\">Update localization</span>\n",
    "\n",
    "```H3.5 localizes primarely at exons, 5'UTR, 3'UTR, promoters and introns. Although it enreached around transcription start sites (TSSs), H3.5 distribution is independent of gene expression levels [urahama_histone_2016].```\n",
    "\n",
    "### <span style=\"color:black\">Add deposition</span>\n",
    "\n",
    "```H3.5 physically interacts with histone chaperones Asf1a, Asf1b, HIRA, CAF-1 p150, and DAXX, suggesting its involvement in chromatin remodeling and gene regulation processes [weil_histone_2024]. An unpublished experiment by Ding et al. demonstrated that the chaperone NAP1L1 exhibits a higher binding affinity for the H3.5/H4 tetramer compared to the H3.3/H4 tetramer, attributable to amino acid alterations within the N-terminal region of H3.5 [ding_primate-specific_2021].```\n",
    "\n",
    "### <span style=\"color:black\">Update structure</span>\n",
    "\n",
    "```Nucleosomes containing histone variant H3.5 are less stable than H3.1 and H3.3 nucleosomes, but more stable than H3.4 nucleosome [urahama_histone_2016]. Notable, amino acid L in position 103 of H3.5 (amino acid F at the corresponding position in H3.3) reduces the number of hydrophobic bonds with histone H4 leading to instability of nucleosome [urahama_histone_2016].```\n",
    "\n",
    "### <span style=\"color:black\">Update disease</span>\n",
    "\n",
    "```Clinical data indicate that H3.5 mRNA levels are significantly lower in patients with nonobstructive azoospermia compared to those with obstructive azoospermia or normal individuals, suggesting H3.5's role in normal spermatogenesis and its regulation by gonadotropins [ding_primate-specific_2021]. Elevated H3.5 expression is observed in seminomas, and H3-5 gene copy number gain is associated with its increased expression in tumor tissues [weil_histone_2024].```"
   ]
  },
  {
   "cell_type": "code",
   "execution_count": 43,
   "id": "218c9d5c-f4ae-464a-8cbe-d26e7e688cab",
   "metadata": {
    "tags": []
   },
   "outputs": [
    {
     "data": {
      "text/html": [
       "<div>\n",
       "<style scoped>\n",
       "    .dataframe tbody tr th:only-of-type {\n",
       "        vertical-align: middle;\n",
       "    }\n",
       "\n",
       "    .dataframe tbody tr th {\n",
       "        vertical-align: top;\n",
       "    }\n",
       "\n",
       "    .dataframe thead th {\n",
       "        text-align: right;\n",
       "    }\n",
       "</style>\n",
       "<table border=\"1\" class=\"dataframe\">\n",
       "  <thead>\n",
       "    <tr style=\"text-align: right;\">\n",
       "      <th></th>\n",
       "      <th>id</th>\n",
       "      <th>level</th>\n",
       "      <th>taxonomic_span</th>\n",
       "      <th>taxonomic_span_id</th>\n",
       "      <th>description</th>\n",
       "      <th>parent</th>\n",
       "      <th>id</th>\n",
       "      <th>summary</th>\n",
       "      <th>taxonomy</th>\n",
       "      <th>genes</th>\n",
       "      <th>...</th>\n",
       "      <th>knock_out</th>\n",
       "      <th>function</th>\n",
       "      <th>sequence</th>\n",
       "      <th>localization</th>\n",
       "      <th>deposition</th>\n",
       "      <th>structure</th>\n",
       "      <th>interactions</th>\n",
       "      <th>disease</th>\n",
       "      <th>caveats</th>\n",
       "      <th>relations</th>\n",
       "    </tr>\n",
       "  </thead>\n",
       "  <tbody>\n",
       "    <tr>\n",
       "      <th>0</th>\n",
       "      <td>H3.5_(Homo_sapiens)</td>\n",
       "      <td>variant</td>\n",
       "      <td>Homo sapiens</td>\n",
       "      <td>9606</td>\n",
       "      <td>108</td>\n",
       "      <td>H3.5_(Hominidae)</td>\n",
       "      <td>108</td>\n",
       "      <td>null</td>\n",
       "      <td>null</td>\n",
       "      <td>null</td>\n",
       "      <td>...</td>\n",
       "      <td>null</td>\n",
       "      <td>null</td>\n",
       "      <td>null</td>\n",
       "      <td>null</td>\n",
       "      <td>null</td>\n",
       "      <td>null</td>\n",
       "      <td>null</td>\n",
       "      <td>null</td>\n",
       "      <td>null</td>\n",
       "      <td>None</td>\n",
       "    </tr>\n",
       "  </tbody>\n",
       "</table>\n",
       "<p>1 rows × 22 columns</p>\n",
       "</div>"
      ],
      "text/plain": [
       "                    id    level taxonomic_span taxonomic_span_id  description  \\\n",
       "0  H3.5_(Homo_sapiens)  variant   Homo sapiens              9606          108   \n",
       "\n",
       "             parent   id summary taxonomy genes  ... knock_out function  \\\n",
       "0  H3.5_(Hominidae)  108    null     null  null  ...      null     null   \n",
       "\n",
       "  sequence localization deposition structure interactions disease caveats  \\\n",
       "0     null         null       null      null         null    null    null   \n",
       "\n",
       "  relations  \n",
       "0      None  \n",
       "\n",
       "[1 rows x 22 columns]"
      ]
     },
     "execution_count": 43,
     "metadata": {},
     "output_type": "execute_result"
    }
   ],
   "source": [
    "query = (\n",
    "    \"SELECT * FROM histone h LEFT JOIN histone_description hd \"\n",
    "    \"ON h.description = hd.id \"\n",
    "    \"WHERE h.id='H3.5_(Homo_sapiens)'\"\n",
    ")\n",
    "cursor.execute(query)\n",
    "df = pd.DataFrame(cursor.fetchall(), columns=[i[0] for i in cursor.description])\n",
    "df"
   ]
  },
  {
   "cell_type": "code",
   "execution_count": 44,
   "id": "b70f3ac8-eefc-4277-ba4a-487d4d983078",
   "metadata": {
    "collapsed": true,
    "jupyter": {
     "outputs_hidden": true
    },
    "tags": []
   },
   "outputs": [
    {
     "data": {
      "text/plain": [
       "[{'id': 108,\n",
       "  'level': 'variant',\n",
       "  'taxonomic_span': 'Homo sapiens',\n",
       "  'taxonomic_span_id': '9606',\n",
       "  'description': 108,\n",
       "  'parent': 'H3.5_(Hominidae)',\n",
       "  'summary': 'null',\n",
       "  'taxonomy': 'null',\n",
       "  'genes': 'null',\n",
       "  'evolution': 'null',\n",
       "  'expression': 'null',\n",
       "  'knock_out': 'null',\n",
       "  'function': 'null',\n",
       "  'sequence': 'null',\n",
       "  'localization': 'null',\n",
       "  'deposition': 'null',\n",
       "  'structure': 'null',\n",
       "  'interactions': 'null',\n",
       "  'disease': 'null',\n",
       "  'caveats': 'null',\n",
       "  'relations': None}]"
      ]
     },
     "execution_count": 44,
     "metadata": {},
     "output_type": "execute_result"
    }
   ],
   "source": [
    "df.to_dict(orient=\"records\")"
   ]
  },
  {
   "cell_type": "code",
   "execution_count": 46,
   "id": "e6593a0c-a3b1-47d0-9d90-00241bda7239",
   "metadata": {
    "tags": []
   },
   "outputs": [
    {
     "name": "stdout",
     "output_type": "stream",
     "text": [
      "UPDATE histone_description SET summary=\"H3.5_(Homo_sapiens) is a H3 histone variant expressed in the seminiferous tubules of human testes.\", genes=\"H3.5 is encoded by H3-5 gene on chromosome 12. Methylation of the CpG island in the promoter region of the gene plays a key role in its tissue-specific expression regulation [weil_histone_2024].\", expression=\"The highest expression of H3.5 is found in spermatocytes, while lower levels are present in early and late spermatids, and absent in mature spermatozoa [weil_histone_2024, ding_primate-specific_2021]. However, low-abundance H3.5 transcripts were also identified in leukocytes and hepatocytes [schenk_h35_2011].\", function=\"H3.5 plays a significant role in testicular cell differentiation, with potential implications in the pathogenesis of testicular diseases.\", sequence=\"H3.5 differs from H3.3 by five amino acid substitutions: Thr29, Cys33, Asn78, Val88, and Leu103 (which correspond to Ala29, Gly33, Lys79, Ile89, and Phe104 in H3.3, respectively) [urahama_histone_2016]. Furthermore, H3.5 lacks the lysine residue at position 37, which is present in the major H3 variants.\", localization=\"H3.5 localizes primarely at exons, 5'UTR, 3'UTR, promoters and introns. Although it enreached around transcription start sites (TSSs), H3.5 distribution is independent of gene expression levels [urahama_histone_2016].\", deposition=\"H3.5 physically interacts with histone chaperones Asf1a, Asf1b, HIRA, CAF-1 p150, and DAXX, suggesting its involvement in chromatin remodeling and gene regulation processes [weil_histone_2024]. An unpublished experiment by Ding et al. demonstrated that the chaperone NAP1L1 exhibits a higher binding affinity for the H3.5/H4 tetramer compared to the H3.3/H4 tetramer, attributable to amino acid alterations within the N-terminal region of H3.5 [ding_primate-specific_2021].\", structure=\"Nucleosomes containing histone variant H3.5 are less stable than H3.1 and H3.3 nucleosomes, but more stable than H3.4 nucleosome [urahama_histone_2016]. Notable, amino acid L in position 103 of H3.5 (amino acid F at the corresponding position in H3.3) reduces the number of hydrophobic bonds with histone H4 leading to instability of nucleosome [urahama_histone_2016].\", disease=\"Clinical data indicate that H3.5 mRNA levels are significantly lower in patients with nonobstructive azoospermia compared to those with obstructive azoospermia or normal individuals, suggesting H3.5's role in normal spermatogenesis and its regulation by gonadotropins [ding_primate-specific_2021]. Elevated H3.5 expression is observed in seminomas, and H3-5 gene copy number gain is associated with its increased expression in tumor tissues [weil_histone_2024].\" WHERE id = 108\n"
     ]
    }
   ],
   "source": [
    "desc_dict = {\n",
    "    \"summary\": \"H3.5_(Homo_sapiens) is a H3 histone variant expressed in the seminiferous tubules of human testes.\",\n",
    "    \"genes\": \"H3.5 is encoded by H3-5 gene on chromosome 12. Methylation of the CpG island in the promoter region of the gene plays a key role in its tissue-specific expression regulation [weil_histone_2024].\",\n",
    "    \"expression\": \"The highest expression of H3.5 is found in spermatocytes, while lower levels are present in early and late spermatids, and absent in mature spermatozoa [weil_histone_2024, ding_primate-specific_2021]. However, low-abundance H3.5 transcripts were also identified in leukocytes and hepatocytes [schenk_h35_2011].\",\n",
    "    \"function\": \"H3.5 plays a significant role in testicular cell differentiation, with potential implications in the pathogenesis of testicular diseases.\",\n",
    "    \"sequence\": \"H3.5 differs from H3.3 by five amino acid substitutions: Thr29, Cys33, Asn78, Val88, and Leu103 (which correspond to Ala29, Gly33, Lys79, Ile89, and Phe104 in H3.3, respectively) [urahama_histone_2016]. Furthermore, H3.5 lacks the lysine residue at position 37, which is present in the major H3 variants.\",\n",
    "    \"localization\": \"H3.5 localizes primarely at exons, 5'UTR, 3'UTR, promoters and introns. Although it enreached around transcription start sites (TSSs), H3.5 distribution is independent of gene expression levels [urahama_histone_2016].\",\n",
    "    \"deposition\": \"H3.5 physically interacts with histone chaperones Asf1a, Asf1b, HIRA, CAF-1 p150, and DAXX, suggesting its involvement in chromatin remodeling and gene regulation processes [weil_histone_2024]. An unpublished experiment by Ding et al. demonstrated that the chaperone NAP1L1 exhibits a higher binding affinity for the H3.5/H4 tetramer compared to the H3.3/H4 tetramer, attributable to amino acid alterations within the N-terminal region of H3.5 [ding_primate-specific_2021].\",\n",
    "    \"structure\": \"Nucleosomes containing histone variant H3.5 are less stable than H3.1 and H3.3 nucleosomes, but more stable than H3.4 nucleosome [urahama_histone_2016]. Notable, amino acid L in position 103 of H3.5 (amino acid F at the corresponding position in H3.3) reduces the number of hydrophobic bonds with histone H4 leading to instability of nucleosome [urahama_histone_2016].\",\n",
    "    \"disease\": \"Clinical data indicate that H3.5 mRNA levels are significantly lower in patients with nonobstructive azoospermia compared to those with obstructive azoospermia or normal individuals, suggesting H3.5's role in normal spermatogenesis and its regulation by gonadotropins [ding_primate-specific_2021]. Elevated H3.5 expression is observed in seminomas, and H3-5 gene copy number gain is associated with its increased expression in tumor tissues [weil_histone_2024].\",\n",
    "}\n",
    "desk_str = \", \".join([f'{k}=\"{v}\"' for k, v in desc_dict.items()])\n",
    "query = f\"UPDATE histone_description SET {desk_str} \" \"WHERE id = 108\"\n",
    "print(query)\n",
    "cursor.execute(query)"
   ]
  },
  {
   "cell_type": "code",
   "execution_count": 47,
   "id": "d874b82a-95fb-43c0-89ab-b2e97da5e18a",
   "metadata": {
    "tags": []
   },
   "outputs": [
    {
     "data": {
      "text/html": [
       "<div>\n",
       "<style scoped>\n",
       "    .dataframe tbody tr th:only-of-type {\n",
       "        vertical-align: middle;\n",
       "    }\n",
       "\n",
       "    .dataframe tbody tr th {\n",
       "        vertical-align: top;\n",
       "    }\n",
       "\n",
       "    .dataframe thead th {\n",
       "        text-align: right;\n",
       "    }\n",
       "</style>\n",
       "<table border=\"1\" class=\"dataframe\">\n",
       "  <thead>\n",
       "    <tr style=\"text-align: right;\">\n",
       "      <th></th>\n",
       "      <th>id</th>\n",
       "      <th>level</th>\n",
       "      <th>taxonomic_span</th>\n",
       "      <th>taxonomic_span_id</th>\n",
       "      <th>description</th>\n",
       "      <th>parent</th>\n",
       "      <th>id</th>\n",
       "      <th>summary</th>\n",
       "      <th>taxonomy</th>\n",
       "      <th>genes</th>\n",
       "      <th>...</th>\n",
       "      <th>knock_out</th>\n",
       "      <th>function</th>\n",
       "      <th>sequence</th>\n",
       "      <th>localization</th>\n",
       "      <th>deposition</th>\n",
       "      <th>structure</th>\n",
       "      <th>interactions</th>\n",
       "      <th>disease</th>\n",
       "      <th>caveats</th>\n",
       "      <th>relations</th>\n",
       "    </tr>\n",
       "  </thead>\n",
       "  <tbody>\n",
       "    <tr>\n",
       "      <th>0</th>\n",
       "      <td>H3.5_(Homo_sapiens)</td>\n",
       "      <td>variant</td>\n",
       "      <td>Homo sapiens</td>\n",
       "      <td>9606</td>\n",
       "      <td>108</td>\n",
       "      <td>H3.5_(Hominidae)</td>\n",
       "      <td>108</td>\n",
       "      <td>H3.5_(Homo_sapiens) is a H3 histone variant ex...</td>\n",
       "      <td>null</td>\n",
       "      <td>H3.5 is encoded by H3-5 gene on chromosome 12....</td>\n",
       "      <td>...</td>\n",
       "      <td>null</td>\n",
       "      <td>H3.5 plays a significant role in testicular ce...</td>\n",
       "      <td>H3.5 differs from H3.3 by five amino acid subs...</td>\n",
       "      <td>H3.5 localizes primarely at exons, 5'UTR, 3'UT...</td>\n",
       "      <td>H3.5 physically interacts with histone chapero...</td>\n",
       "      <td>Nucleosomes containing histone variant H3.5 ar...</td>\n",
       "      <td>null</td>\n",
       "      <td>Clinical data indicate that H3.5 mRNA levels a...</td>\n",
       "      <td>null</td>\n",
       "      <td>None</td>\n",
       "    </tr>\n",
       "  </tbody>\n",
       "</table>\n",
       "<p>1 rows × 22 columns</p>\n",
       "</div>"
      ],
      "text/plain": [
       "                    id    level taxonomic_span taxonomic_span_id  description  \\\n",
       "0  H3.5_(Homo_sapiens)  variant   Homo sapiens              9606          108   \n",
       "\n",
       "             parent   id                                            summary  \\\n",
       "0  H3.5_(Hominidae)  108  H3.5_(Homo_sapiens) is a H3 histone variant ex...   \n",
       "\n",
       "  taxonomy                                              genes  ... knock_out  \\\n",
       "0     null  H3.5 is encoded by H3-5 gene on chromosome 12....  ...      null   \n",
       "\n",
       "                                            function  \\\n",
       "0  H3.5 plays a significant role in testicular ce...   \n",
       "\n",
       "                                            sequence  \\\n",
       "0  H3.5 differs from H3.3 by five amino acid subs...   \n",
       "\n",
       "                                        localization  \\\n",
       "0  H3.5 localizes primarely at exons, 5'UTR, 3'UT...   \n",
       "\n",
       "                                          deposition  \\\n",
       "0  H3.5 physically interacts with histone chapero...   \n",
       "\n",
       "                                           structure interactions  \\\n",
       "0  Nucleosomes containing histone variant H3.5 ar...         null   \n",
       "\n",
       "                                             disease caveats relations  \n",
       "0  Clinical data indicate that H3.5 mRNA levels a...    null      None  \n",
       "\n",
       "[1 rows x 22 columns]"
      ]
     },
     "execution_count": 47,
     "metadata": {},
     "output_type": "execute_result"
    }
   ],
   "source": [
    "query = (\n",
    "    \"SELECT * FROM histone h LEFT JOIN histone_description hd \"\n",
    "    \"ON h.description = hd.id \"\n",
    "    \"WHERE h.id='H3.5_(Homo_sapiens)'\"\n",
    ")\n",
    "cursor.execute(query)\n",
    "df = pd.DataFrame(cursor.fetchall(), columns=[i[0] for i in cursor.description])\n",
    "df"
   ]
  },
  {
   "cell_type": "code",
   "execution_count": 48,
   "id": "22d09cad-b228-4612-868f-1c5d1e9f0723",
   "metadata": {
    "tags": []
   },
   "outputs": [
    {
     "data": {
      "text/plain": [
       "[{'id': 108,\n",
       "  'level': 'variant',\n",
       "  'taxonomic_span': 'Homo sapiens',\n",
       "  'taxonomic_span_id': '9606',\n",
       "  'description': 108,\n",
       "  'parent': 'H3.5_(Hominidae)',\n",
       "  'summary': 'H3.5_(Homo_sapiens) is a H3 histone variant expressed in the seminiferous tubules of human testes.',\n",
       "  'taxonomy': 'null',\n",
       "  'genes': 'H3.5 is encoded by H3-5 gene on chromosome 12. Methylation of the CpG island in the promoter region of the gene plays a key role in its tissue-specific expression regulation [weil_histone_2024].',\n",
       "  'evolution': 'null',\n",
       "  'expression': 'The highest expression of H3.5 is found in spermatocytes, while lower levels are present in early and late spermatids, and absent in mature spermatozoa [weil_histone_2024, ding_primate-specific_2021]. However, low-abundance H3.5 transcripts were also identified in leukocytes and hepatocytes [schenk_h35_2011].',\n",
       "  'knock_out': 'null',\n",
       "  'function': 'H3.5 plays a significant role in testicular cell differentiation, with potential implications in the pathogenesis of testicular diseases.',\n",
       "  'sequence': 'H3.5 differs from H3.3 by five amino acid substitutions: Thr29, Cys33, Asn78, Val88, and Leu103 (which correspond to Ala29, Gly33, Lys79, Ile89, and Phe104 in H3.3, respectively) [urahama_histone_2016]. Furthermore, H3.5 lacks the lysine residue at position 37, which is present in the major H3 variants.',\n",
       "  'localization': \"H3.5 localizes primarely at exons, 5'UTR, 3'UTR, promoters and introns. Although it enreached around transcription start sites (TSSs), H3.5 distribution is independent of gene expression levels [urahama_histone_2016].\",\n",
       "  'deposition': 'H3.5 physically interacts with histone chaperones Asf1a, Asf1b, HIRA, CAF-1 p150, and DAXX, suggesting its involvement in chromatin remodeling and gene regulation processes [weil_histone_2024]. An unpublished experiment by Ding et al. demonstrated that the chaperone NAP1L1 exhibits a higher binding affinity for the H3.5/H4 tetramer compared to the H3.3/H4 tetramer, attributable to amino acid alterations within the N-terminal region of H3.5 [ding_primate-specific_2021].',\n",
       "  'structure': 'Nucleosomes containing histone variant H3.5 are less stable than H3.1 and H3.3 nucleosomes, but more stable than H3.4 nucleosome [urahama_histone_2016]. Notable, amino acid L in position 103 of H3.5 (amino acid F at the corresponding position in H3.3) reduces the number of hydrophobic bonds with histone H4 leading to instability of nucleosome [urahama_histone_2016].',\n",
       "  'interactions': 'null',\n",
       "  'disease': \"Clinical data indicate that H3.5 mRNA levels are significantly lower in patients with nonobstructive azoospermia compared to those with obstructive azoospermia or normal individuals, suggesting H3.5's role in normal spermatogenesis and its regulation by gonadotropins [ding_primate-specific_2021]. Elevated H3.5 expression is observed in seminomas, and H3-5 gene copy number gain is associated with its increased expression in tumor tissues [weil_histone_2024].\",\n",
       "  'caveats': 'null',\n",
       "  'relations': None}]"
      ]
     },
     "execution_count": 48,
     "metadata": {},
     "output_type": "execute_result"
    }
   ],
   "source": [
    "df.to_dict(orient=\"records\")"
   ]
  },
  {
   "cell_type": "code",
   "execution_count": 49,
   "id": "8ab79639-358d-47ed-9337-5a5b9f8ff696",
   "metadata": {
    "tags": []
   },
   "outputs": [],
   "source": [
    "# Make sure data is committed to the database\n",
    "conn.commit()"
   ]
  },
  {
   "cell_type": "markdown",
   "id": "9e8bad07-ef74-40fd-a93b-e7897df0c591",
   "metadata": {
    "tags": []
   },
   "source": [
    "# Close connections"
   ]
  },
  {
   "cell_type": "code",
   "execution_count": 50,
   "id": "e5673501-5845-491a-bbb9-f5d213721d58",
   "metadata": {
    "tags": []
   },
   "outputs": [],
   "source": [
    "cursor.close()\n",
    "conn.close()\n",
    "tunnel.stop()"
   ]
  },
  {
   "cell_type": "code",
   "execution_count": null,
   "id": "2fa8c843-740e-4a12-b08a-6045f7cf3b21",
   "metadata": {},
   "outputs": [],
   "source": []
  }
 ],
 "metadata": {
  "kernelspec": {
   "display_name": ".conda-histdb_env",
   "language": "python",
   "name": "conda-env-.conda-histdb_env-py"
  },
  "language_info": {
   "codemirror_mode": {
    "name": "ipython",
    "version": 3
   },
   "file_extension": ".py",
   "mimetype": "text/x-python",
   "name": "python",
   "nbconvert_exporter": "python",
   "pygments_lexer": "ipython3",
   "version": "3.8.1"
  }
 },
 "nbformat": 4,
 "nbformat_minor": 5
}
