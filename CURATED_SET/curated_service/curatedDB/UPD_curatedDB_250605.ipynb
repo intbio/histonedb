{
 "cells": [
  {
   "cell_type": "code",
   "execution_count": 1,
   "id": "43b18eb8-8858-4c33-81b7-1c2113379592",
   "metadata": {
    "tags": []
   },
   "outputs": [],
   "source": [
    "import io\n",
    "\n",
    "import pandas as pd\n",
    "from Bio import Entrez, SeqIO\n",
    "from mysql.connector import connection\n",
    "from sshtunnel import SSHTunnelForwarder\n",
    "\n",
    "# Укажите ваш email (обязательно для использования Entrez)\n",
    "Entrez.email = \"your.email@example.com\""
   ]
  },
  {
   "cell_type": "code",
   "execution_count": 2,
   "id": "7e8e25fa-4428-4e60-882d-873e117e66d6",
   "metadata": {
    "tags": []
   },
   "outputs": [],
   "source": [
    "with open(\"db_curated_server_info.txt\", \"r\") as file:\n",
    "    lines = file.readlines()\n",
    "\n",
    "config = {}\n",
    "\n",
    "for line in lines:\n",
    "    line = line.strip()\n",
    "    if line and not line.startswith(\"#\"):\n",
    "        key, value = line.split(\"=\", 1)\n",
    "        config[key] = value.strip()\n",
    "\n",
    "server_name = config.get(\"server_name\")\n",
    "srever_port = int(config.get(\"srever_port\"))\n",
    "ssh_password = config.get(\"ssh_password\")\n",
    "ssh_username = config.get(\"ssh_username\")\n",
    "db_adress = config.get(\"db_adress\")\n",
    "db_port = int(config.get(\"db_port\"))"
   ]
  },
  {
   "cell_type": "code",
   "execution_count": 3,
   "id": "af779616-09dd-44f3-b34d-bc56f1f5a040",
   "metadata": {
    "tags": []
   },
   "outputs": [
    {
     "name": "stdout",
     "output_type": "stream",
     "text": [
      "34123\n"
     ]
    }
   ],
   "source": [
    "tunnel = SSHTunnelForwarder(\n",
    "    (server_name, srever_port),\n",
    "    ssh_password=ssh_password,\n",
    "    ssh_username=ssh_username,\n",
    "    remote_bind_address=(db_adress, db_port),\n",
    ")\n",
    "tunnel.start()\n",
    "print(tunnel.local_bind_port)"
   ]
  },
  {
   "cell_type": "code",
   "execution_count": 4,
   "id": "11929b77-b37f-428b-8121-c8128c6f9e82",
   "metadata": {
    "tags": []
   },
   "outputs": [],
   "source": [
    "conn = connection.MySQLConnection(\n",
    "    user=\"db_user\",\n",
    "    password=\"db_password\",\n",
    "    host=\"localhost\",\n",
    "    port=tunnel.local_bind_port,\n",
    "    database=\"db_name\",\n",
    ")\n",
    "cursor = conn.cursor()"
   ]
  },
  {
   "cell_type": "code",
   "execution_count": 5,
   "id": "60be0f60-5809-4e31-99f9-59fef177deef",
   "metadata": {
    "tags": []
   },
   "outputs": [
    {
     "data": {
      "text/plain": [
       "[('alternative_name',),\n",
       " ('histone',),\n",
       " ('histone_description',),\n",
       " ('histone_has_publication',),\n",
       " ('publication',),\n",
       " ('sequence',),\n",
       " ('sequence_has_publication',)]"
      ]
     },
     "execution_count": 5,
     "metadata": {},
     "output_type": "execute_result"
    }
   ],
   "source": [
    "query = \"SHOW TABLES;\"\n",
    "cursor.execute(query)\n",
    "cursor.fetchall()"
   ]
  },
  {
   "cell_type": "code",
   "execution_count": 6,
   "id": "487ab48b-f7a2-433d-b129-cbfc7809d782",
   "metadata": {
    "tags": []
   },
   "outputs": [],
   "source": [
    "# add_histone = (\n",
    "#     \"INSERT INTO histone \"\n",
    "#     \"(id, level, taxonomic_span, taxonomic_span_id, description, parent) \"\n",
    "#     \"VALUES (%(id)s, %(level)s, %(taxonomic_span)s, %(taxonomic_span_id)s, %(description)s, %(parent)s)\"\n",
    "# )\n",
    "# add_histone_description = (\n",
    "#     \"INSERT INTO histone_description \"\n",
    "#     \"(summary, taxonomy, genes, evolution, expression, knock_out, function, sequence, localization, deposition, structure, interactions, disease, caveats) \"\n",
    "#     \"VALUES (%s, %s, %s, %s, %s, %s, %s, %s, %s, %s, %s, %s, %s, %s)\"\n",
    "# )\n",
    "add_publication = (\n",
    "    \"INSERT INTO publication \"\n",
    "    \"(id, title, doi, author, year) \"\n",
    "    \"VALUES (%(id)s, %(title)s, %(doi)s, %(author)s, %(year)s)\"\n",
    ")\n",
    "# add_sequence = (\n",
    "#     \"INSERT INTO sequence \"\n",
    "#     \"(accession, variant, gi, ncbi_gene_id, hgnc_gene_name, taxonomy_id, organism, phylum, class, taxonomy_group, info, sequence, variant_under_consideration) \"\n",
    "#     \"VALUES (%(accession)s, %(variant)s, %(gi)s, %(ncbi_gene_id)s, %(hgnc_gene_name)s, %(taxonomy_id)s, %(organism)s, %(phylum)s, %(class)s, %(taxonomy_group)s, %(info)s, %(sequence)s, %(variant_under_consideration)s)\"\n",
    "# )\n",
    "# add_sequence_has_publication = (\n",
    "#     \"INSERT INTO sequence_has_publication \"\n",
    "#     \"(sequence_accession, publication_id) \"\n",
    "#     \"VALUES (%s, %s)\"\n",
    "# )\n",
    "add_alternate_names = (\n",
    "    \"INSERT INTO alternative_name \"\n",
    "    \"(name, taxonomy, gene, splice, histone) \"\n",
    "    \"VALUES (%(name)s, %(taxonomy)s, %(gene)s, %(splice)s, %(histone)s)\"\n",
    ")\n",
    "add_histone_has_publication = (\n",
    "    \"INSERT INTO histone_has_publication \"\n",
    "    \"(histone_id, publication_id) \"\n",
    "    \"VALUES (%s, %s)\"\n",
    ")"
   ]
  },
  {
   "cell_type": "markdown",
   "id": "86db9a35-3517-4b87-9a81-ebc2aea0af2d",
   "metadata": {},
   "source": [
    "# Update H2B.S\n",
    "\n",
    "buttress_histone_2022"
   ]
  },
  {
   "cell_type": "markdown",
   "id": "d3d89ab0-6c65-4122-a938-7ecc05b04ff3",
   "metadata": {},
   "source": [
    "## Update description"
   ]
  },
  {
   "cell_type": "code",
   "execution_count": 18,
   "id": "da1e185b-4712-42aa-85ac-42eaca26c081",
   "metadata": {
    "tags": []
   },
   "outputs": [
    {
     "data": {
      "text/html": [
       "<div>\n",
       "<style scoped>\n",
       "    .dataframe tbody tr th:only-of-type {\n",
       "        vertical-align: middle;\n",
       "    }\n",
       "\n",
       "    .dataframe tbody tr th {\n",
       "        vertical-align: top;\n",
       "    }\n",
       "\n",
       "    .dataframe thead th {\n",
       "        text-align: right;\n",
       "    }\n",
       "</style>\n",
       "<table border=\"1\" class=\"dataframe\">\n",
       "  <thead>\n",
       "    <tr style=\"text-align: right;\">\n",
       "      <th></th>\n",
       "      <th>id</th>\n",
       "      <th>level</th>\n",
       "      <th>taxonomic_span</th>\n",
       "      <th>taxonomic_span_id</th>\n",
       "      <th>description</th>\n",
       "      <th>parent</th>\n",
       "      <th>id</th>\n",
       "      <th>summary</th>\n",
       "      <th>taxonomy</th>\n",
       "      <th>genes</th>\n",
       "      <th>...</th>\n",
       "      <th>knock_out</th>\n",
       "      <th>function</th>\n",
       "      <th>sequence</th>\n",
       "      <th>localization</th>\n",
       "      <th>deposition</th>\n",
       "      <th>structure</th>\n",
       "      <th>interactions</th>\n",
       "      <th>disease</th>\n",
       "      <th>caveats</th>\n",
       "      <th>relations</th>\n",
       "    </tr>\n",
       "  </thead>\n",
       "  <tbody>\n",
       "    <tr>\n",
       "      <th>0</th>\n",
       "      <td>H2B.S_(Magnoliopsida)</td>\n",
       "      <td>variant_group</td>\n",
       "      <td>Magnoliopsida</td>\n",
       "      <td>3398</td>\n",
       "      <td>40</td>\n",
       "      <td>H2B</td>\n",
       "      <td>40</td>\n",
       "      <td>H2B.S_(Magnoliopsida)  is a class a new class ...</td>\n",
       "      <td>Flowering plants (angiosperms) [jiang_evolutio...</td>\n",
       "      <td>HTB8 gene in Arabidopsis, Solyc06g074750.1 in ...</td>\n",
       "      <td>...</td>\n",
       "      <td>null</td>\n",
       "      <td>For Arabidopsis an adaptive function in cell t...</td>\n",
       "      <td>The angiosperm-specific clade of Arabidopsis H...</td>\n",
       "      <td>null</td>\n",
       "      <td>null</td>\n",
       "      <td>Two HTB8 residues, Arg152 and Met179, were hig...</td>\n",
       "      <td>null</td>\n",
       "      <td>null</td>\n",
       "      <td>null</td>\n",
       "      <td>None</td>\n",
       "    </tr>\n",
       "  </tbody>\n",
       "</table>\n",
       "<p>1 rows × 22 columns</p>\n",
       "</div>"
      ],
      "text/plain": [
       "                      id          level taxonomic_span taxonomic_span_id  \\\n",
       "0  H2B.S_(Magnoliopsida)  variant_group  Magnoliopsida              3398   \n",
       "\n",
       "   description parent  id                                            summary  \\\n",
       "0           40    H2B  40  H2B.S_(Magnoliopsida)  is a class a new class ...   \n",
       "\n",
       "                                            taxonomy  \\\n",
       "0  Flowering plants (angiosperms) [jiang_evolutio...   \n",
       "\n",
       "                                               genes  ... knock_out  \\\n",
       "0  HTB8 gene in Arabidopsis, Solyc06g074750.1 in ...  ...      null   \n",
       "\n",
       "                                            function  \\\n",
       "0  For Arabidopsis an adaptive function in cell t...   \n",
       "\n",
       "                                            sequence localization deposition  \\\n",
       "0  The angiosperm-specific clade of Arabidopsis H...         null       null   \n",
       "\n",
       "                                           structure interactions disease  \\\n",
       "0  Two HTB8 residues, Arg152 and Met179, were hig...         null    null   \n",
       "\n",
       "  caveats relations  \n",
       "0    null      None  \n",
       "\n",
       "[1 rows x 22 columns]"
      ]
     },
     "execution_count": 18,
     "metadata": {},
     "output_type": "execute_result"
    }
   ],
   "source": [
    "query = (\n",
    "    \"SELECT * FROM histone h LEFT JOIN histone_description hd \"\n",
    "    \"ON h.description = hd.id \"\n",
    "    \"WHERE h.id='H2B.S_(Magnoliopsida)'\"\n",
    ")\n",
    "cursor.execute(query)\n",
    "df_h2bs = pd.DataFrame(cursor.fetchall(), columns=[i[0] for i in cursor.description])\n",
    "df_h2bs"
   ]
  },
  {
   "cell_type": "code",
   "execution_count": 12,
   "id": "5afe1b54-5176-46d0-9c28-087f75bb9468",
   "metadata": {
    "tags": []
   },
   "outputs": [
    {
     "data": {
      "text/plain": [
       "'H2B.S_(Magnoliopsida)  is a class a new class of highly divergent H2B variants identified by Jiang et al. that specifically accumulate during chromatin compaction of dry seed embryos in multiple species of flowering plants [jiang_evolution_2020].'"
      ]
     },
     "execution_count": 12,
     "metadata": {},
     "output_type": "execute_result"
    }
   ],
   "source": [
    "df_h2bs[\"summary\"].values[0]"
   ]
  },
  {
   "cell_type": "code",
   "execution_count": 19,
   "id": "6bb1b395-b5af-45ad-91c3-302ffaa8cb2e",
   "metadata": {
    "tags": []
   },
   "outputs": [
    {
     "name": "stdout",
     "output_type": "stream",
     "text": [
      "UPDATE histone_description SET summary='H2B.S_(Magnoliopsida) is a class a new class of highly divergent H2B variants identified by Jiang et al. that specifically accumulate during chromatin compaction of dry seed embryos in multiple species of flowering plants [jiang_evolution_2020, buttress_histone_2022].', function='The histone variant H2B.S has been shown to condense chromatin through its intrinsically disordered region (IDR) by selectively aggregating transcriptionally inactive AT-rich regions via phase separation, while excluding active genes to maintain transcriptional competence [buttress_histone_2022].' WHERE id=40\n"
     ]
    }
   ],
   "source": [
    "description = \"H2B.S_(Magnoliopsida) is a class a new class of highly divergent H2B variants identified by Jiang et al. that specifically accumulate during chromatin compaction of dry seed embryos in multiple species of flowering plants [jiang_evolution_2020, buttress_histone_2022].\"\n",
    "function = \"The histone variant H2B.S has been shown to condense chromatin through its intrinsically disordered region (IDR) by selectively aggregating transcriptionally inactive AT-rich regions via phase separation, while excluding active genes to maintain transcriptional competence [buttress_histone_2022].\"\n",
    "query = f\"UPDATE histone_description SET summary='{description}', function='{function}' WHERE id=40\"\n",
    "print(query)\n",
    "cursor.execute(query)"
   ]
  },
  {
   "cell_type": "code",
   "execution_count": 20,
   "id": "17058aeb-95a8-4879-83d9-b0a4c7351579",
   "metadata": {
    "tags": []
   },
   "outputs": [
    {
     "data": {
      "text/html": [
       "<div>\n",
       "<style scoped>\n",
       "    .dataframe tbody tr th:only-of-type {\n",
       "        vertical-align: middle;\n",
       "    }\n",
       "\n",
       "    .dataframe tbody tr th {\n",
       "        vertical-align: top;\n",
       "    }\n",
       "\n",
       "    .dataframe thead th {\n",
       "        text-align: right;\n",
       "    }\n",
       "</style>\n",
       "<table border=\"1\" class=\"dataframe\">\n",
       "  <thead>\n",
       "    <tr style=\"text-align: right;\">\n",
       "      <th></th>\n",
       "      <th>id</th>\n",
       "      <th>level</th>\n",
       "      <th>taxonomic_span</th>\n",
       "      <th>taxonomic_span_id</th>\n",
       "      <th>description</th>\n",
       "      <th>parent</th>\n",
       "      <th>id</th>\n",
       "      <th>summary</th>\n",
       "      <th>taxonomy</th>\n",
       "      <th>genes</th>\n",
       "      <th>...</th>\n",
       "      <th>knock_out</th>\n",
       "      <th>function</th>\n",
       "      <th>sequence</th>\n",
       "      <th>localization</th>\n",
       "      <th>deposition</th>\n",
       "      <th>structure</th>\n",
       "      <th>interactions</th>\n",
       "      <th>disease</th>\n",
       "      <th>caveats</th>\n",
       "      <th>relations</th>\n",
       "    </tr>\n",
       "  </thead>\n",
       "  <tbody>\n",
       "    <tr>\n",
       "      <th>0</th>\n",
       "      <td>H2B.S_(Magnoliopsida)</td>\n",
       "      <td>variant_group</td>\n",
       "      <td>Magnoliopsida</td>\n",
       "      <td>3398</td>\n",
       "      <td>40</td>\n",
       "      <td>H2B</td>\n",
       "      <td>40</td>\n",
       "      <td>H2B.S_(Magnoliopsida) is a class a new class o...</td>\n",
       "      <td>Flowering plants (angiosperms) [jiang_evolutio...</td>\n",
       "      <td>HTB8 gene in Arabidopsis, Solyc06g074750.1 in ...</td>\n",
       "      <td>...</td>\n",
       "      <td>null</td>\n",
       "      <td>The histone variant H2B.S has been shown to co...</td>\n",
       "      <td>The angiosperm-specific clade of Arabidopsis H...</td>\n",
       "      <td>null</td>\n",
       "      <td>null</td>\n",
       "      <td>Two HTB8 residues, Arg152 and Met179, were hig...</td>\n",
       "      <td>null</td>\n",
       "      <td>null</td>\n",
       "      <td>null</td>\n",
       "      <td>None</td>\n",
       "    </tr>\n",
       "  </tbody>\n",
       "</table>\n",
       "<p>1 rows × 22 columns</p>\n",
       "</div>"
      ],
      "text/plain": [
       "                      id          level taxonomic_span taxonomic_span_id  \\\n",
       "0  H2B.S_(Magnoliopsida)  variant_group  Magnoliopsida              3398   \n",
       "\n",
       "   description parent  id                                            summary  \\\n",
       "0           40    H2B  40  H2B.S_(Magnoliopsida) is a class a new class o...   \n",
       "\n",
       "                                            taxonomy  \\\n",
       "0  Flowering plants (angiosperms) [jiang_evolutio...   \n",
       "\n",
       "                                               genes  ... knock_out  \\\n",
       "0  HTB8 gene in Arabidopsis, Solyc06g074750.1 in ...  ...      null   \n",
       "\n",
       "                                            function  \\\n",
       "0  The histone variant H2B.S has been shown to co...   \n",
       "\n",
       "                                            sequence localization deposition  \\\n",
       "0  The angiosperm-specific clade of Arabidopsis H...         null       null   \n",
       "\n",
       "                                           structure interactions disease  \\\n",
       "0  Two HTB8 residues, Arg152 and Met179, were hig...         null    null   \n",
       "\n",
       "  caveats relations  \n",
       "0    null      None  \n",
       "\n",
       "[1 rows x 22 columns]"
      ]
     },
     "execution_count": 20,
     "metadata": {},
     "output_type": "execute_result"
    }
   ],
   "source": [
    "query = (\n",
    "    \"SELECT * FROM histone h LEFT JOIN histone_description hd \"\n",
    "    \"ON h.description = hd.id \"\n",
    "    \"WHERE h.id='H2B.S_(Magnoliopsida)'\"\n",
    ")\n",
    "cursor.execute(query)\n",
    "pd.DataFrame(cursor.fetchall(), columns=[i[0] for i in cursor.description])"
   ]
  },
  {
   "cell_type": "markdown",
   "id": "3d2bc825-432b-4b5e-b54d-ea3a70f24201",
   "metadata": {},
   "source": [
    "## Add histone publication"
   ]
  },
  {
   "cell_type": "code",
   "execution_count": 21,
   "id": "8e7a0aff-cb04-4ce7-95ef-51b90deec307",
   "metadata": {
    "tags": []
   },
   "outputs": [
    {
     "data": {
      "text/html": [
       "<div>\n",
       "<style scoped>\n",
       "    .dataframe tbody tr th:only-of-type {\n",
       "        vertical-align: middle;\n",
       "    }\n",
       "\n",
       "    .dataframe tbody tr th {\n",
       "        vertical-align: top;\n",
       "    }\n",
       "\n",
       "    .dataframe thead th {\n",
       "        text-align: right;\n",
       "    }\n",
       "</style>\n",
       "<table border=\"1\" class=\"dataframe\">\n",
       "  <thead>\n",
       "    <tr style=\"text-align: right;\">\n",
       "      <th></th>\n",
       "      <th>id</th>\n",
       "      <th>level</th>\n",
       "      <th>taxonomic_span</th>\n",
       "      <th>taxonomic_span_id</th>\n",
       "      <th>description</th>\n",
       "      <th>parent</th>\n",
       "      <th>histone_id</th>\n",
       "      <th>publication_id</th>\n",
       "    </tr>\n",
       "  </thead>\n",
       "  <tbody>\n",
       "    <tr>\n",
       "      <th>335</th>\n",
       "      <td>H2B.S_(Magnoliopsida)</td>\n",
       "      <td>variant_group</td>\n",
       "      <td>Magnoliopsida</td>\n",
       "      <td>3398</td>\n",
       "      <td>40.0</td>\n",
       "      <td>H2B</td>\n",
       "      <td>H2B.S_(Magnoliopsida)</td>\n",
       "      <td>jiang_evolution_2020</td>\n",
       "    </tr>\n",
       "  </tbody>\n",
       "</table>\n",
       "</div>"
      ],
      "text/plain": [
       "                        id          level taxonomic_span taxonomic_span_id  \\\n",
       "335  H2B.S_(Magnoliopsida)  variant_group  Magnoliopsida              3398   \n",
       "\n",
       "     description parent             histone_id        publication_id  \n",
       "335         40.0    H2B  H2B.S_(Magnoliopsida)  jiang_evolution_2020  "
      ]
     },
     "execution_count": 21,
     "metadata": {},
     "output_type": "execute_result"
    }
   ],
   "source": [
    "query = (\n",
    "    \"SELECT * FROM histone h LEFT JOIN histone_has_publication hp \"\n",
    "    \"ON h.id = hp.histone_id \"\n",
    ")\n",
    "cursor.execute(query)\n",
    "df = pd.DataFrame(cursor.fetchall(), columns=[i[0] for i in cursor.description])\n",
    "df[df[\"id\"].isin([\"H2B.S_(Magnoliopsida)\"])]"
   ]
  },
  {
   "cell_type": "code",
   "execution_count": 22,
   "id": "60c7b8ee-64b7-4f5f-b00b-514fea4cb4c1",
   "metadata": {
    "tags": []
   },
   "outputs": [
    {
     "data": {
      "text/html": [
       "<div>\n",
       "<style scoped>\n",
       "    .dataframe tbody tr th:only-of-type {\n",
       "        vertical-align: middle;\n",
       "    }\n",
       "\n",
       "    .dataframe tbody tr th {\n",
       "        vertical-align: top;\n",
       "    }\n",
       "\n",
       "    .dataframe thead th {\n",
       "        text-align: right;\n",
       "    }\n",
       "</style>\n",
       "<table border=\"1\" class=\"dataframe\">\n",
       "  <thead>\n",
       "    <tr style=\"text-align: right;\">\n",
       "      <th></th>\n",
       "      <th>id</th>\n",
       "      <th>title</th>\n",
       "      <th>doi</th>\n",
       "      <th>author</th>\n",
       "      <th>year</th>\n",
       "    </tr>\n",
       "  </thead>\n",
       "  <tbody>\n",
       "  </tbody>\n",
       "</table>\n",
       "</div>"
      ],
      "text/plain": [
       "Empty DataFrame\n",
       "Columns: [id, title, doi, author, year]\n",
       "Index: []"
      ]
     },
     "execution_count": 22,
     "metadata": {},
     "output_type": "execute_result"
    }
   ],
   "source": [
    "pid = \"buttress_histone_2022\"\n",
    "query = f\"SELECT * FROM publication WHERE id='{pid}'\"\n",
    "cursor.execute(query)\n",
    "pd.DataFrame(cursor.fetchall(), columns=[i[0] for i in cursor.description])"
   ]
  },
  {
   "cell_type": "code",
   "execution_count": 23,
   "id": "d3d68096-30f5-44b5-a1ca-3afe6321001c",
   "metadata": {
    "tags": []
   },
   "outputs": [],
   "source": [
    "data_publication = {\n",
    "    \"id\": pid,\n",
    "    \"title\": \"Histone H2B.8 compacts flowering plant sperm through chromatin phase separation\",\n",
    "    \"doi\": \"10.1038/s41586-022-05386-6\",\n",
    "    \"author\": None,\n",
    "    \"year\": \"2022\",\n",
    "}\n",
    "cursor.execute(add_publication, data_publication)"
   ]
  },
  {
   "cell_type": "code",
   "execution_count": 24,
   "id": "673572cd-3c4e-490b-bff2-b4428cc565eb",
   "metadata": {
    "tags": []
   },
   "outputs": [],
   "source": [
    "cursor.execute(add_histone_has_publication, (\"H2B.S_(Magnoliopsida)\", pid))"
   ]
  },
  {
   "cell_type": "code",
   "execution_count": 25,
   "id": "b05b1920-e9f6-4567-bf1f-daa7aca13103",
   "metadata": {
    "tags": []
   },
   "outputs": [
    {
     "data": {
      "text/html": [
       "<div>\n",
       "<style scoped>\n",
       "    .dataframe tbody tr th:only-of-type {\n",
       "        vertical-align: middle;\n",
       "    }\n",
       "\n",
       "    .dataframe tbody tr th {\n",
       "        vertical-align: top;\n",
       "    }\n",
       "\n",
       "    .dataframe thead th {\n",
       "        text-align: right;\n",
       "    }\n",
       "</style>\n",
       "<table border=\"1\" class=\"dataframe\">\n",
       "  <thead>\n",
       "    <tr style=\"text-align: right;\">\n",
       "      <th></th>\n",
       "      <th>id</th>\n",
       "      <th>level</th>\n",
       "      <th>taxonomic_span</th>\n",
       "      <th>taxonomic_span_id</th>\n",
       "      <th>description</th>\n",
       "      <th>parent</th>\n",
       "      <th>histone_id</th>\n",
       "      <th>publication_id</th>\n",
       "    </tr>\n",
       "  </thead>\n",
       "  <tbody>\n",
       "    <tr>\n",
       "      <th>335</th>\n",
       "      <td>H2B.S_(Magnoliopsida)</td>\n",
       "      <td>variant_group</td>\n",
       "      <td>Magnoliopsida</td>\n",
       "      <td>3398</td>\n",
       "      <td>40.0</td>\n",
       "      <td>H2B</td>\n",
       "      <td>H2B.S_(Magnoliopsida)</td>\n",
       "      <td>buttress_histone_2022</td>\n",
       "    </tr>\n",
       "    <tr>\n",
       "      <th>336</th>\n",
       "      <td>H2B.S_(Magnoliopsida)</td>\n",
       "      <td>variant_group</td>\n",
       "      <td>Magnoliopsida</td>\n",
       "      <td>3398</td>\n",
       "      <td>40.0</td>\n",
       "      <td>H2B</td>\n",
       "      <td>H2B.S_(Magnoliopsida)</td>\n",
       "      <td>jiang_evolution_2020</td>\n",
       "    </tr>\n",
       "  </tbody>\n",
       "</table>\n",
       "</div>"
      ],
      "text/plain": [
       "                        id          level taxonomic_span taxonomic_span_id  \\\n",
       "335  H2B.S_(Magnoliopsida)  variant_group  Magnoliopsida              3398   \n",
       "336  H2B.S_(Magnoliopsida)  variant_group  Magnoliopsida              3398   \n",
       "\n",
       "     description parent             histone_id         publication_id  \n",
       "335         40.0    H2B  H2B.S_(Magnoliopsida)  buttress_histone_2022  \n",
       "336         40.0    H2B  H2B.S_(Magnoliopsida)   jiang_evolution_2020  "
      ]
     },
     "execution_count": 25,
     "metadata": {},
     "output_type": "execute_result"
    }
   ],
   "source": [
    "query = (\n",
    "    \"SELECT * FROM histone h LEFT JOIN histone_has_publication hp \"\n",
    "    \"ON h.id = hp.histone_id \"\n",
    ")\n",
    "cursor.execute(query)\n",
    "df = pd.DataFrame(cursor.fetchall(), columns=[i[0] for i in cursor.description])\n",
    "df[df[\"id\"].isin([\"H2B.S_(Magnoliopsida)\"])]"
   ]
  },
  {
   "cell_type": "code",
   "execution_count": 26,
   "id": "3e14d388-ad46-48ad-93b1-f61cfaac0123",
   "metadata": {
    "tags": []
   },
   "outputs": [],
   "source": [
    "# Make sure data is committed to the database\n",
    "conn.commit()"
   ]
  },
  {
   "cell_type": "markdown",
   "id": "06e3eeda-a54d-445b-8401-5d9c085c7305",
   "metadata": {},
   "source": [
    "## Add alternate name"
   ]
  },
  {
   "cell_type": "code",
   "execution_count": 31,
   "id": "ab1a31d4-8b98-44b8-aa06-c4341698b74f",
   "metadata": {
    "tags": []
   },
   "outputs": [
    {
     "data": {
      "text/html": [
       "<div>\n",
       "<style scoped>\n",
       "    .dataframe tbody tr th:only-of-type {\n",
       "        vertical-align: middle;\n",
       "    }\n",
       "\n",
       "    .dataframe tbody tr th {\n",
       "        vertical-align: top;\n",
       "    }\n",
       "\n",
       "    .dataframe thead th {\n",
       "        text-align: right;\n",
       "    }\n",
       "</style>\n",
       "<table border=\"1\" class=\"dataframe\">\n",
       "  <thead>\n",
       "    <tr style=\"text-align: right;\">\n",
       "      <th></th>\n",
       "      <th>id</th>\n",
       "      <th>level</th>\n",
       "      <th>taxonomic_span</th>\n",
       "      <th>taxonomic_span_id</th>\n",
       "      <th>description</th>\n",
       "      <th>parent</th>\n",
       "      <th>id</th>\n",
       "      <th>name</th>\n",
       "      <th>taxonomy</th>\n",
       "      <th>gene</th>\n",
       "      <th>splice</th>\n",
       "      <th>histone</th>\n",
       "    </tr>\n",
       "  </thead>\n",
       "  <tbody>\n",
       "    <tr>\n",
       "      <th>0</th>\n",
       "      <td>H2B.S_(Magnoliopsida)</td>\n",
       "      <td>variant_group</td>\n",
       "      <td>Magnoliopsida</td>\n",
       "      <td>3398</td>\n",
       "      <td>40</td>\n",
       "      <td>H2B</td>\n",
       "      <td>None</td>\n",
       "      <td>None</td>\n",
       "      <td>None</td>\n",
       "      <td>None</td>\n",
       "      <td>None</td>\n",
       "      <td>None</td>\n",
       "    </tr>\n",
       "  </tbody>\n",
       "</table>\n",
       "</div>"
      ],
      "text/plain": [
       "                      id          level taxonomic_span taxonomic_span_id  \\\n",
       "0  H2B.S_(Magnoliopsida)  variant_group  Magnoliopsida              3398   \n",
       "\n",
       "   description parent    id  name taxonomy  gene splice histone  \n",
       "0           40    H2B  None  None     None  None   None    None  "
      ]
     },
     "execution_count": 31,
     "metadata": {},
     "output_type": "execute_result"
    }
   ],
   "source": [
    "query = (\n",
    "    \"SELECT * FROM histone h LEFT JOIN alternative_name ha \"\n",
    "    \"ON h.id = ha.histone \"\n",
    "    \"WHERE h.id = 'H2B.S_(Magnoliopsida)' \"\n",
    ")\n",
    "cursor.execute(query)\n",
    "pd.DataFrame(cursor.fetchall(), columns=[i[0] for i in cursor.description])"
   ]
  },
  {
   "cell_type": "code",
   "execution_count": 32,
   "id": "fb7f3c79-28be-4de3-abc2-ad2e9fde1fa1",
   "metadata": {
    "tags": []
   },
   "outputs": [],
   "source": [
    "data_alternate_name = {\n",
    "    \"name\": \"H2B.8\",\n",
    "    \"taxonomy\": None,\n",
    "    \"gene\": None,\n",
    "    \"splice\": None,\n",
    "    \"histone\": \"H2B.S_(Magnoliopsida)\",\n",
    "}\n",
    "cursor.execute(add_alternate_names, data_alternate_name)"
   ]
  },
  {
   "cell_type": "code",
   "execution_count": 33,
   "id": "07e9d273-0b04-4c3c-b3cb-77e46c183a7f",
   "metadata": {
    "tags": []
   },
   "outputs": [
    {
     "data": {
      "text/html": [
       "<div>\n",
       "<style scoped>\n",
       "    .dataframe tbody tr th:only-of-type {\n",
       "        vertical-align: middle;\n",
       "    }\n",
       "\n",
       "    .dataframe tbody tr th {\n",
       "        vertical-align: top;\n",
       "    }\n",
       "\n",
       "    .dataframe thead th {\n",
       "        text-align: right;\n",
       "    }\n",
       "</style>\n",
       "<table border=\"1\" class=\"dataframe\">\n",
       "  <thead>\n",
       "    <tr style=\"text-align: right;\">\n",
       "      <th></th>\n",
       "      <th>id</th>\n",
       "      <th>level</th>\n",
       "      <th>taxonomic_span</th>\n",
       "      <th>taxonomic_span_id</th>\n",
       "      <th>description</th>\n",
       "      <th>parent</th>\n",
       "      <th>id</th>\n",
       "      <th>name</th>\n",
       "      <th>taxonomy</th>\n",
       "      <th>gene</th>\n",
       "      <th>splice</th>\n",
       "      <th>histone</th>\n",
       "    </tr>\n",
       "  </thead>\n",
       "  <tbody>\n",
       "    <tr>\n",
       "      <th>0</th>\n",
       "      <td>H2B.S_(Magnoliopsida)</td>\n",
       "      <td>variant_group</td>\n",
       "      <td>Magnoliopsida</td>\n",
       "      <td>3398</td>\n",
       "      <td>40</td>\n",
       "      <td>H2B</td>\n",
       "      <td>90</td>\n",
       "      <td>H2B.8</td>\n",
       "      <td>None</td>\n",
       "      <td>None</td>\n",
       "      <td>None</td>\n",
       "      <td>H2B.S_(Magnoliopsida)</td>\n",
       "    </tr>\n",
       "  </tbody>\n",
       "</table>\n",
       "</div>"
      ],
      "text/plain": [
       "                      id          level taxonomic_span taxonomic_span_id  \\\n",
       "0  H2B.S_(Magnoliopsida)  variant_group  Magnoliopsida              3398   \n",
       "\n",
       "   description parent  id   name taxonomy  gene splice                histone  \n",
       "0           40    H2B  90  H2B.8     None  None   None  H2B.S_(Magnoliopsida)  "
      ]
     },
     "execution_count": 33,
     "metadata": {},
     "output_type": "execute_result"
    }
   ],
   "source": [
    "query = (\n",
    "    \"SELECT * FROM histone h LEFT JOIN alternative_name ha \"\n",
    "    \"ON h.id = ha.histone \"\n",
    "    \"WHERE h.id = 'H2B.S_(Magnoliopsida)' \"\n",
    ")\n",
    "cursor.execute(query)\n",
    "pd.DataFrame(cursor.fetchall(), columns=[i[0] for i in cursor.description])"
   ]
  },
  {
   "cell_type": "code",
   "execution_count": 34,
   "id": "5e903557-1b3e-445d-8af1-abd97099de00",
   "metadata": {
    "tags": []
   },
   "outputs": [],
   "source": [
    "# Make sure data is committed to the database\n",
    "conn.commit()"
   ]
  },
  {
   "cell_type": "markdown",
   "id": "f31b1767-b7b2-44c1-a051-b2e34ad99025",
   "metadata": {
    "tags": []
   },
   "source": [
    "# Close connections"
   ]
  },
  {
   "cell_type": "code",
   "execution_count": 35,
   "id": "d748887d-e723-4102-a06f-1ba158e09017",
   "metadata": {
    "tags": []
   },
   "outputs": [],
   "source": [
    "cursor.close()\n",
    "conn.close()\n",
    "tunnel.stop()"
   ]
  },
  {
   "cell_type": "code",
   "execution_count": null,
   "id": "f5b05fa5-c698-4e1e-945f-8602565045bf",
   "metadata": {},
   "outputs": [],
   "source": []
  }
 ],
 "metadata": {
  "kernelspec": {
   "display_name": ".conda-histdb_env",
   "language": "python",
   "name": "conda-env-.conda-histdb_env-py"
  },
  "language_info": {
   "codemirror_mode": {
    "name": "ipython",
    "version": 3
   },
   "file_extension": ".py",
   "mimetype": "text/x-python",
   "name": "python",
   "nbconvert_exporter": "python",
   "pygments_lexer": "ipython3",
   "version": "3.8.1"
  }
 },
 "nbformat": 4,
 "nbformat_minor": 5
}
