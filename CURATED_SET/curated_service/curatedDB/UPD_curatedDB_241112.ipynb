{
 "cells": [
  {
   "cell_type": "code",
   "execution_count": 15,
   "id": "fb32231a-293e-45b8-af7d-d996c91a4edd",
   "metadata": {
    "tags": []
   },
   "outputs": [],
   "source": [
    "import pandas as pd\n",
    "from mysql.connector import connection\n",
    "from sshtunnel import SSHTunnelForwarder\n",
    "\n",
    "from Bio import Entrez\n",
    "from Bio import SeqIO\n",
    "Entrez.email = \"l.singh@intbio.org\""
   ]
  },
  {
   "cell_type": "code",
   "execution_count": 2,
   "id": "d5fa78a7-4901-4e63-9d91-d9ed584d2f62",
   "metadata": {
    "tags": []
   },
   "outputs": [],
   "source": [
    "with open(\"db_curated_server_info.txt\", \"r\") as file:\n",
    "    lines = file.readlines()\n",
    "\n",
    "config = {}\n",
    "\n",
    "for line in lines:\n",
    "    line = line.strip()\n",
    "    if line and not line.startswith(\"#\"):\n",
    "        key, value = line.split(\"=\", 1)\n",
    "        config[key] = value.strip()\n",
    "\n",
    "server_name = config.get(\"server_name\")\n",
    "srever_port = int(config.get(\"srever_port\"))\n",
    "ssh_password = config.get(\"ssh_password\")\n",
    "ssh_username = config.get(\"ssh_username\")\n",
    "db_adress = config.get(\"db_adress\")\n",
    "db_port = int(config.get(\"db_port\"))"
   ]
  },
  {
   "cell_type": "code",
   "execution_count": 3,
   "id": "ebe3d2e8-9736-4fd9-b3f1-5ec2d255567d",
   "metadata": {
    "tags": []
   },
   "outputs": [
    {
     "name": "stdout",
     "output_type": "stream",
     "text": [
      "40079\n"
     ]
    }
   ],
   "source": [
    "tunnel = SSHTunnelForwarder(\n",
    "    (server_name, srever_port),\n",
    "    ssh_password=ssh_password,\n",
    "    ssh_username=ssh_username,\n",
    "    remote_bind_address=(db_adress, db_port),\n",
    ")\n",
    "tunnel.start()\n",
    "print(tunnel.local_bind_port)"
   ]
  },
  {
   "cell_type": "code",
   "execution_count": 4,
   "id": "0de93630-7502-40f3-ad24-42edf7a11eef",
   "metadata": {
    "tags": []
   },
   "outputs": [],
   "source": [
    "conn = connection.MySQLConnection(\n",
    "    user=\"db_user\",\n",
    "    password=\"db_password\",\n",
    "    host=\"localhost\",\n",
    "    port=tunnel.local_bind_port,\n",
    "    database=\"db_name\",\n",
    ")\n",
    "cursor = conn.cursor()"
   ]
  },
  {
   "cell_type": "code",
   "execution_count": 5,
   "id": "b4767ba0-4ea1-43ae-953f-f2575d9b7a69",
   "metadata": {
    "tags": []
   },
   "outputs": [
    {
     "data": {
      "text/plain": [
       "[('alternative_name',),\n",
       " ('histone',),\n",
       " ('histone_description',),\n",
       " ('histone_has_publication',),\n",
       " ('publication',),\n",
       " ('sequence',),\n",
       " ('sequence_has_publication',)]"
      ]
     },
     "execution_count": 5,
     "metadata": {},
     "output_type": "execute_result"
    }
   ],
   "source": [
    "query = \"SHOW TABLES;\"\n",
    "cursor.execute(query)\n",
    "cursor.fetchall()"
   ]
  },
  {
   "cell_type": "code",
   "execution_count": 52,
   "id": "c68d4b8f-c22c-4f8e-bb4f-71f95668656e",
   "metadata": {
    "tags": []
   },
   "outputs": [],
   "source": [
    "# add_histone = (\n",
    "#     \"INSERT INTO histone \"\n",
    "#     \"(id, level, taxonomic_span, taxonomic_span_id, description, parent) \"\n",
    "#     \"VALUES (%(id)s, %(level)s, %(taxonomic_span)s, %(taxonomic_span_id)s, %(description)s, %(parent)s)\"\n",
    "# )\n",
    "# add_histone_description = (\n",
    "#     \"INSERT INTO histone_description \"\n",
    "#     \"(summary, taxonomy, genes, evolution, expression, knock_out, function, sequence, localization, deposition, structure, interactions, disease, caveats) \"\n",
    "#     \"VALUES (%s, %s, %s, %s, %s, %s, %s, %s, %s, %s, %s, %s, %s, %s)\"\n",
    "# )\n",
    "add_sequence_has_publication = (\n",
    "    \"INSERT INTO sequence_has_publication \"\n",
    "    \"(sequence_accession, publication_id) \"\n",
    "    \"VALUES (%s, %s)\"\n",
    ")"
   ]
  },
  {
   "cell_type": "markdown",
   "id": "9ee8d736-63fd-43c4-8dd0-ee9699ce821b",
   "metadata": {},
   "source": [
    "# Update H2B.O sequences"
   ]
  },
  {
   "cell_type": "code",
   "execution_count": 6,
   "id": "a3c158b8-3485-47eb-bd95-45fb404b9e8c",
   "metadata": {
    "tags": []
   },
   "outputs": [
    {
     "data": {
      "text/html": [
       "<div>\n",
       "<style scoped>\n",
       "    .dataframe tbody tr th:only-of-type {\n",
       "        vertical-align: middle;\n",
       "    }\n",
       "\n",
       "    .dataframe tbody tr th {\n",
       "        vertical-align: top;\n",
       "    }\n",
       "\n",
       "    .dataframe thead th {\n",
       "        text-align: right;\n",
       "    }\n",
       "</style>\n",
       "<table border=\"1\" class=\"dataframe\">\n",
       "  <thead>\n",
       "    <tr style=\"text-align: right;\">\n",
       "      <th></th>\n",
       "      <th>accession</th>\n",
       "      <th>variant</th>\n",
       "      <th>gi</th>\n",
       "      <th>ncbi_gene_id</th>\n",
       "      <th>hgnc_gene_name</th>\n",
       "      <th>taxonomy_id</th>\n",
       "      <th>organism</th>\n",
       "      <th>phylum</th>\n",
       "      <th>class</th>\n",
       "      <th>taxonomy_group</th>\n",
       "      <th>info</th>\n",
       "      <th>sequence</th>\n",
       "      <th>variant_under_consideration</th>\n",
       "    </tr>\n",
       "  </thead>\n",
       "  <tbody>\n",
       "    <tr>\n",
       "      <th>0</th>\n",
       "      <td>XP_001511074.1</td>\n",
       "      <td>H2B.O</td>\n",
       "      <td>None</td>\n",
       "      <td>None</td>\n",
       "      <td>None</td>\n",
       "      <td>9258</td>\n",
       "      <td>Ornithorhynchus anatinus</td>\n",
       "      <td>Chordata</td>\n",
       "      <td>Mammalia</td>\n",
       "      <td>None</td>\n",
       "      <td>None</td>\n",
       "      <td>YSIYVYKVLKQVHPLTSISTKAVGIMDSFINDIFERIASEASRLAR...</td>\n",
       "      <td>None</td>\n",
       "    </tr>\n",
       "    <tr>\n",
       "      <th>1</th>\n",
       "      <td>XP_001521160.2</td>\n",
       "      <td>H2B.O</td>\n",
       "      <td>None</td>\n",
       "      <td>None</td>\n",
       "      <td>None</td>\n",
       "      <td>9258</td>\n",
       "      <td>Ornithorhynchus anatinus</td>\n",
       "      <td>Chordata</td>\n",
       "      <td>Mammalia</td>\n",
       "      <td>None</td>\n",
       "      <td>None</td>\n",
       "      <td>WENYVYKVLKQVHPLTSISTKAVGIVDSFIDIFKRITSDASHLARY...</td>\n",
       "      <td>None</td>\n",
       "    </tr>\n",
       "    <tr>\n",
       "      <th>2</th>\n",
       "      <td>XP_028926523.1</td>\n",
       "      <td>H2B.O</td>\n",
       "      <td>None</td>\n",
       "      <td>None</td>\n",
       "      <td>None</td>\n",
       "      <td>9258</td>\n",
       "      <td>Ornithorhynchus anatinus</td>\n",
       "      <td>Chordata</td>\n",
       "      <td>Mammalia</td>\n",
       "      <td>None</td>\n",
       "      <td>None</td>\n",
       "      <td>YSIYVYKVLKQVHPLTSISTKAVGIMDSFINDIFDRIASEASRLAR...</td>\n",
       "      <td>None</td>\n",
       "    </tr>\n",
       "  </tbody>\n",
       "</table>\n",
       "</div>"
      ],
      "text/plain": [
       "        accession variant    gi ncbi_gene_id hgnc_gene_name  taxonomy_id  \\\n",
       "0  XP_001511074.1   H2B.O  None         None           None         9258   \n",
       "1  XP_001521160.2   H2B.O  None         None           None         9258   \n",
       "2  XP_028926523.1   H2B.O  None         None           None         9258   \n",
       "\n",
       "                   organism    phylum     class taxonomy_group  info  \\\n",
       "0  Ornithorhynchus anatinus  Chordata  Mammalia           None  None   \n",
       "1  Ornithorhynchus anatinus  Chordata  Mammalia           None  None   \n",
       "2  Ornithorhynchus anatinus  Chordata  Mammalia           None  None   \n",
       "\n",
       "                                            sequence  \\\n",
       "0  YSIYVYKVLKQVHPLTSISTKAVGIMDSFINDIFERIASEASRLAR...   \n",
       "1  WENYVYKVLKQVHPLTSISTKAVGIVDSFIDIFKRITSDASHLARY...   \n",
       "2  YSIYVYKVLKQVHPLTSISTKAVGIMDSFINDIFDRIASEASRLAR...   \n",
       "\n",
       "  variant_under_consideration  \n",
       "0                        None  \n",
       "1                        None  \n",
       "2                        None  "
      ]
     },
     "execution_count": 6,
     "metadata": {},
     "output_type": "execute_result"
    }
   ],
   "source": [
    "query = \"SELECT * FROM sequence WHERE variant='H2B.O'\"\n",
    "cursor.execute(query)\n",
    "pd.DataFrame(cursor.fetchall(), columns=[i[0] for i in cursor.description])"
   ]
  },
  {
   "cell_type": "code",
   "execution_count": 11,
   "id": "14189c99-2a61-440a-ad1a-04e27e4e9d5a",
   "metadata": {
    "tags": []
   },
   "outputs": [
    {
     "data": {
      "text/plain": [
       "'XP_001511074.1,XP_001521160.2,XP_028926523.1'"
      ]
     },
     "execution_count": 11,
     "metadata": {},
     "output_type": "execute_result"
    }
   ],
   "source": [
    "query = \"SELECT accession FROM sequence WHERE variant='H2B.O'\"\n",
    "cursor.execute(query)\n",
    "accessions = \",\".join([a[0] for a in cursor.fetchall()])\n",
    "accessions"
   ]
  },
  {
   "cell_type": "code",
   "execution_count": 21,
   "id": "fcfb3761-f401-482f-8367-4e22e501e837",
   "metadata": {
    "tags": []
   },
   "outputs": [],
   "source": [
    "accessions = 'XP_001511074.1,XP_001521160.2,XP_028926540.1'"
   ]
  },
  {
   "cell_type": "markdown",
   "id": "2d3afa32-7072-401a-a5d4-5a7d0621a78b",
   "metadata": {},
   "source": [
    "## Get all sequence from NCBI"
   ]
  },
  {
   "cell_type": "code",
   "execution_count": 22,
   "id": "221eb569-1279-482a-833f-c22f0b001f1e",
   "metadata": {
    "tags": []
   },
   "outputs": [
    {
     "name": "stdout",
     "output_type": "stream",
     "text": [
      "[SeqRecord(seq=Seq('MSDSVKSVPVPTEGSWKAVTKDQKAREKRKHRRRENYSIYVYKVLKQVHPLTSI...SAK'), id='XP_001511074.1', name='XP_001511074', description='histone H2B type 1-P-like [Ornithorhynchus anatinus]', dbxrefs=['BioProject:PRJNA534073']), SeqRecord(seq=Seq('MPVPTEGSWKAVTKDQKTHKKRKHSCWENYVYKVLKQVHPLTSISTKAVGIVDS...TAK'), id='XP_001521160.2', name='XP_001521160', description='histone H2B type 2-E-like [Ornithorhynchus anatinus]', dbxrefs=['BioProject:PRJNA534073']), SeqRecord(seq=Seq('MSDTVKSVPVPTEGSWKAVAKDQKTRKKRKHSRRENYSIYVYKVLKQVHPLTSI...SAK'), id='XP_028926540.1', name='XP_028926540', description='histone H2B type 1-P-like [Ornithorhynchus anatinus]', dbxrefs=['BioProject:PRJNA534073'])]\n"
     ]
    }
   ],
   "source": [
    "with Entrez.efetch(\n",
    "    db=\"protein\", id=accessions, rettype=\"gb\", retmode=\"text\"\n",
    ") as handle:\n",
    "    records = list(SeqIO.parse(handle, \"genbank\"))\n",
    "    print(records)"
   ]
  },
  {
   "cell_type": "code",
   "execution_count": 23,
   "id": "5cea1911-e46e-4802-a402-90b0270e7dcb",
   "metadata": {
    "tags": []
   },
   "outputs": [
    {
     "name": "stdout",
     "output_type": "stream",
     "text": [
      "XP_001511074.1\n",
      "MSDSVKSVPVPTEGSWKAVTKDQKAREKRKHRRRENYSIYVYKVLKQVHPLTSISTKAVGIMDSFINDIFERIASEASRLARYNKRSTITSREIQTAVLLTLPGELARHAVSEGTKAITKYTSAK\n",
      "125\n",
      "XP_001521160.2\n",
      "MPVPTEGSWKAVTKDQKTHKKRKHSCWENYVYKVLKQVHPLTSISTKAVGIVDSFIDIFKRITSDASHLARYNKCSTITSREIQTAVQLMLPGELDRYAGSEGTKAITKYTTAK\n",
      "114\n",
      "XP_028926540.1\n",
      "MSDTVKSVPVPTEGSWKAVAKDQKTRKKRKHSRRENYSIYVYKVLKQVHPLTSISTKAVGIMDSFINDIFDRIASEASRLARYTKRSTIASREIQTAVLLTLPGELARHAVSEGTKAITKYTSAK\n",
      "125\n"
     ]
    }
   ],
   "source": [
    "for r in records:\n",
    "    print(r.id)\n",
    "    print(r.seq)\n",
    "    print(len(r.seq))"
   ]
  },
  {
   "cell_type": "markdown",
   "id": "ee4f4736-8b37-4c33-9d36-26955e7794a6",
   "metadata": {},
   "source": [
    "## Updating XP_001511074.1 and XP_001521160.2"
   ]
  },
  {
   "cell_type": "code",
   "execution_count": 33,
   "id": "3e6ac75d-2f5f-4d23-8a4e-70798473996d",
   "metadata": {
    "tags": []
   },
   "outputs": [
    {
     "name": "stdout",
     "output_type": "stream",
     "text": [
      "UPDATE sequence SET sequence='MSDSVKSVPVPTEGSWKAVTKDQKAREKRKHRRRENYSIYVYKVLKQVHPLTSISTKAVGIMDSFINDIFERIASEASRLARYNKRSTITSREIQTAVLLTLPGELARHAVSEGTKAITKYTSAK' WHERE accession='XP_001511074.1'\n"
     ]
    }
   ],
   "source": [
    "query = (\n",
    "    f\"UPDATE sequence SET sequence='{str(records[0].seq)}' \"\n",
    "    \"WHERE accession='XP_001511074.1'\"\n",
    ")\n",
    "print(query)"
   ]
  },
  {
   "cell_type": "code",
   "execution_count": 34,
   "id": "a3eca2ef-ba72-48f0-ac3d-1a8449bb7bb0",
   "metadata": {
    "tags": []
   },
   "outputs": [],
   "source": [
    "cursor.execute(query)"
   ]
  },
  {
   "cell_type": "code",
   "execution_count": 28,
   "id": "9402e1ca-499b-47db-bad7-012ede850cb6",
   "metadata": {
    "tags": []
   },
   "outputs": [
    {
     "name": "stdout",
     "output_type": "stream",
     "text": [
      "UPDATE sequence SET sequence='MPVPTEGSWKAVTKDQKTHKKRKHSCWENYVYKVLKQVHPLTSISTKAVGIVDSFIDIFKRITSDASHLARYNKCSTITSREIQTAVQLMLPGELDRYAGSEGTKAITKYTTAK' WHERE accession='XP_001521160.2'\n"
     ]
    }
   ],
   "source": [
    "query = (\n",
    "    f\"UPDATE sequence SET sequence='{str(records[1].seq)}' \"\n",
    "    \"WHERE accession='XP_001521160.2'\"\n",
    ")\n",
    "print(query)"
   ]
  },
  {
   "cell_type": "code",
   "execution_count": 29,
   "id": "f1e9a94e-9d06-4beb-b20a-8dffac1e4bf5",
   "metadata": {
    "tags": []
   },
   "outputs": [],
   "source": [
    "cursor.execute(query)"
   ]
  },
  {
   "cell_type": "code",
   "execution_count": 35,
   "id": "eb5ef9c2-304d-465a-8f35-abc597c6f68c",
   "metadata": {
    "tags": []
   },
   "outputs": [
    {
     "data": {
      "text/html": [
       "<div>\n",
       "<style scoped>\n",
       "    .dataframe tbody tr th:only-of-type {\n",
       "        vertical-align: middle;\n",
       "    }\n",
       "\n",
       "    .dataframe tbody tr th {\n",
       "        vertical-align: top;\n",
       "    }\n",
       "\n",
       "    .dataframe thead th {\n",
       "        text-align: right;\n",
       "    }\n",
       "</style>\n",
       "<table border=\"1\" class=\"dataframe\">\n",
       "  <thead>\n",
       "    <tr style=\"text-align: right;\">\n",
       "      <th></th>\n",
       "      <th>accession</th>\n",
       "      <th>variant</th>\n",
       "      <th>gi</th>\n",
       "      <th>ncbi_gene_id</th>\n",
       "      <th>hgnc_gene_name</th>\n",
       "      <th>taxonomy_id</th>\n",
       "      <th>organism</th>\n",
       "      <th>phylum</th>\n",
       "      <th>class</th>\n",
       "      <th>taxonomy_group</th>\n",
       "      <th>info</th>\n",
       "      <th>sequence</th>\n",
       "      <th>variant_under_consideration</th>\n",
       "    </tr>\n",
       "  </thead>\n",
       "  <tbody>\n",
       "    <tr>\n",
       "      <th>0</th>\n",
       "      <td>XP_001511074.1</td>\n",
       "      <td>H2B.O</td>\n",
       "      <td>None</td>\n",
       "      <td>None</td>\n",
       "      <td>None</td>\n",
       "      <td>9258</td>\n",
       "      <td>Ornithorhynchus anatinus</td>\n",
       "      <td>Chordata</td>\n",
       "      <td>Mammalia</td>\n",
       "      <td>None</td>\n",
       "      <td>None</td>\n",
       "      <td>MSDSVKSVPVPTEGSWKAVTKDQKAREKRKHRRRENYSIYVYKVLK...</td>\n",
       "      <td>None</td>\n",
       "    </tr>\n",
       "    <tr>\n",
       "      <th>1</th>\n",
       "      <td>XP_001521160.2</td>\n",
       "      <td>H2B.O</td>\n",
       "      <td>None</td>\n",
       "      <td>None</td>\n",
       "      <td>None</td>\n",
       "      <td>9258</td>\n",
       "      <td>Ornithorhynchus anatinus</td>\n",
       "      <td>Chordata</td>\n",
       "      <td>Mammalia</td>\n",
       "      <td>None</td>\n",
       "      <td>None</td>\n",
       "      <td>MPVPTEGSWKAVTKDQKTHKKRKHSCWENYVYKVLKQVHPLTSIST...</td>\n",
       "      <td>None</td>\n",
       "    </tr>\n",
       "    <tr>\n",
       "      <th>2</th>\n",
       "      <td>XP_028926523.1</td>\n",
       "      <td>H2B.O</td>\n",
       "      <td>None</td>\n",
       "      <td>None</td>\n",
       "      <td>None</td>\n",
       "      <td>9258</td>\n",
       "      <td>Ornithorhynchus anatinus</td>\n",
       "      <td>Chordata</td>\n",
       "      <td>Mammalia</td>\n",
       "      <td>None</td>\n",
       "      <td>None</td>\n",
       "      <td>YSIYVYKVLKQVHPLTSISTKAVGIMDSFINDIFDRIASEASRLAR...</td>\n",
       "      <td>None</td>\n",
       "    </tr>\n",
       "  </tbody>\n",
       "</table>\n",
       "</div>"
      ],
      "text/plain": [
       "        accession variant    gi ncbi_gene_id hgnc_gene_name  taxonomy_id  \\\n",
       "0  XP_001511074.1   H2B.O  None         None           None         9258   \n",
       "1  XP_001521160.2   H2B.O  None         None           None         9258   \n",
       "2  XP_028926523.1   H2B.O  None         None           None         9258   \n",
       "\n",
       "                   organism    phylum     class taxonomy_group  info  \\\n",
       "0  Ornithorhynchus anatinus  Chordata  Mammalia           None  None   \n",
       "1  Ornithorhynchus anatinus  Chordata  Mammalia           None  None   \n",
       "2  Ornithorhynchus anatinus  Chordata  Mammalia           None  None   \n",
       "\n",
       "                                            sequence  \\\n",
       "0  MSDSVKSVPVPTEGSWKAVTKDQKAREKRKHRRRENYSIYVYKVLK...   \n",
       "1  MPVPTEGSWKAVTKDQKTHKKRKHSCWENYVYKVLKQVHPLTSIST...   \n",
       "2  YSIYVYKVLKQVHPLTSISTKAVGIMDSFINDIFDRIASEASRLAR...   \n",
       "\n",
       "  variant_under_consideration  \n",
       "0                        None  \n",
       "1                        None  \n",
       "2                        None  "
      ]
     },
     "execution_count": 35,
     "metadata": {},
     "output_type": "execute_result"
    }
   ],
   "source": [
    "query = \"SELECT * FROM sequence WHERE variant='H2B.O'\"\n",
    "cursor.execute(query)\n",
    "pd.DataFrame(cursor.fetchall(), columns=[i[0] for i in cursor.description])"
   ]
  },
  {
   "cell_type": "code",
   "execution_count": 36,
   "id": "affb8ab5-5419-400e-8ad5-f5abe8803a80",
   "metadata": {
    "tags": []
   },
   "outputs": [],
   "source": [
    "# Make sure data is committed to the database\n",
    "conn.commit()"
   ]
  },
  {
   "cell_type": "markdown",
   "id": "b8e5ac24-5480-434f-bceb-6a9ddb8bd678",
   "metadata": {},
   "source": [
    "## Updating XP_028926540.1 (prev XP_028926523.1)"
   ]
  },
  {
   "cell_type": "code",
   "execution_count": 37,
   "id": "10d897fb-9905-4386-b4bd-05a218b26f81",
   "metadata": {
    "tags": []
   },
   "outputs": [
    {
     "data": {
      "text/html": [
       "<div>\n",
       "<style scoped>\n",
       "    .dataframe tbody tr th:only-of-type {\n",
       "        vertical-align: middle;\n",
       "    }\n",
       "\n",
       "    .dataframe tbody tr th {\n",
       "        vertical-align: top;\n",
       "    }\n",
       "\n",
       "    .dataframe thead th {\n",
       "        text-align: right;\n",
       "    }\n",
       "</style>\n",
       "<table border=\"1\" class=\"dataframe\">\n",
       "  <thead>\n",
       "    <tr style=\"text-align: right;\">\n",
       "      <th></th>\n",
       "      <th>accession</th>\n",
       "      <th>variant</th>\n",
       "      <th>gi</th>\n",
       "      <th>ncbi_gene_id</th>\n",
       "      <th>hgnc_gene_name</th>\n",
       "      <th>taxonomy_id</th>\n",
       "      <th>organism</th>\n",
       "      <th>phylum</th>\n",
       "      <th>class</th>\n",
       "      <th>taxonomy_group</th>\n",
       "      <th>info</th>\n",
       "      <th>sequence</th>\n",
       "      <th>variant_under_consideration</th>\n",
       "      <th>sequence_accession</th>\n",
       "      <th>publication_id</th>\n",
       "    </tr>\n",
       "  </thead>\n",
       "  <tbody>\n",
       "    <tr>\n",
       "      <th>0</th>\n",
       "      <td>XP_028926523.1</td>\n",
       "      <td>H2B.O</td>\n",
       "      <td>None</td>\n",
       "      <td>None</td>\n",
       "      <td>None</td>\n",
       "      <td>9258</td>\n",
       "      <td>Ornithorhynchus anatinus</td>\n",
       "      <td>Chordata</td>\n",
       "      <td>Mammalia</td>\n",
       "      <td>None</td>\n",
       "      <td>None</td>\n",
       "      <td>YSIYVYKVLKQVHPLTSISTKAVGIMDSFINDIFDRIASEASRLAR...</td>\n",
       "      <td>None</td>\n",
       "      <td>XP_028926523.1</td>\n",
       "      <td>35099534</td>\n",
       "    </tr>\n",
       "  </tbody>\n",
       "</table>\n",
       "</div>"
      ],
      "text/plain": [
       "        accession variant    gi ncbi_gene_id hgnc_gene_name  taxonomy_id  \\\n",
       "0  XP_028926523.1   H2B.O  None         None           None         9258   \n",
       "\n",
       "                   organism    phylum     class taxonomy_group  info  \\\n",
       "0  Ornithorhynchus anatinus  Chordata  Mammalia           None  None   \n",
       "\n",
       "                                            sequence  \\\n",
       "0  YSIYVYKVLKQVHPLTSISTKAVGIMDSFINDIFDRIASEASRLAR...   \n",
       "\n",
       "  variant_under_consideration sequence_accession publication_id  \n",
       "0                        None     XP_028926523.1       35099534  "
      ]
     },
     "execution_count": 37,
     "metadata": {},
     "output_type": "execute_result"
    }
   ],
   "source": [
    "query = (\n",
    "    \"SELECT * FROM sequence s LEFT JOIN sequence_has_publication sp \"\n",
    "    \"ON s.accession = sp.sequence_accession \"\n",
    "    \"WHERE s.accession='XP_028926523.1'\"\n",
    ")\n",
    "cursor.execute(query)\n",
    "df = pd.DataFrame(cursor.fetchall(), columns=[i[0] for i in cursor.description])\n",
    "df"
   ]
  },
  {
   "cell_type": "code",
   "execution_count": 38,
   "id": "9b805e82-3312-481f-91e4-711d566481c6",
   "metadata": {
    "tags": []
   },
   "outputs": [
    {
     "data": {
      "text/html": [
       "<div>\n",
       "<style scoped>\n",
       "    .dataframe tbody tr th:only-of-type {\n",
       "        vertical-align: middle;\n",
       "    }\n",
       "\n",
       "    .dataframe tbody tr th {\n",
       "        vertical-align: top;\n",
       "    }\n",
       "\n",
       "    .dataframe thead th {\n",
       "        text-align: right;\n",
       "    }\n",
       "</style>\n",
       "<table border=\"1\" class=\"dataframe\">\n",
       "  <thead>\n",
       "    <tr style=\"text-align: right;\">\n",
       "      <th></th>\n",
       "      <th>accession</th>\n",
       "      <th>publication_id</th>\n",
       "    </tr>\n",
       "  </thead>\n",
       "  <tbody>\n",
       "    <tr>\n",
       "      <th>0</th>\n",
       "      <td>XP_028926523.1</td>\n",
       "      <td>[35099534]</td>\n",
       "    </tr>\n",
       "  </tbody>\n",
       "</table>\n",
       "</div>"
      ],
      "text/plain": [
       "        accession publication_id\n",
       "0  XP_028926523.1     [35099534]"
      ]
     },
     "execution_count": 38,
     "metadata": {},
     "output_type": "execute_result"
    }
   ],
   "source": [
    "df.groupby([\"accession\"])[\"publication_id\"].apply(\n",
    "    lambda x: [] if x.dropna().empty else list(x.unique())\n",
    ").reset_index()"
   ]
  },
  {
   "cell_type": "markdown",
   "id": "e287da64-4cfd-4f70-8784-9e1173a5adf4",
   "metadata": {},
   "source": [
    "### Delete relations with publications befor updating sequence record"
   ]
  },
  {
   "cell_type": "code",
   "execution_count": 39,
   "id": "8e7b214c-48cc-400c-ab7a-23659926189b",
   "metadata": {
    "tags": []
   },
   "outputs": [],
   "source": [
    "publications = [\"35099534\"]"
   ]
  },
  {
   "cell_type": "code",
   "execution_count": 40,
   "id": "cf7171f5-309d-4df5-bdf0-4a23f5146afc",
   "metadata": {
    "tags": []
   },
   "outputs": [],
   "source": [
    "query = \"DELETE FROM sequence_has_publication WHERE sequence_accession='XP_028926523.1'\"\n",
    "cursor.execute(query)"
   ]
  },
  {
   "cell_type": "code",
   "execution_count": 41,
   "id": "caad80ed-9cac-4270-9b0c-16181c32d7fa",
   "metadata": {
    "tags": []
   },
   "outputs": [
    {
     "data": {
      "text/html": [
       "<div>\n",
       "<style scoped>\n",
       "    .dataframe tbody tr th:only-of-type {\n",
       "        vertical-align: middle;\n",
       "    }\n",
       "\n",
       "    .dataframe tbody tr th {\n",
       "        vertical-align: top;\n",
       "    }\n",
       "\n",
       "    .dataframe thead th {\n",
       "        text-align: right;\n",
       "    }\n",
       "</style>\n",
       "<table border=\"1\" class=\"dataframe\">\n",
       "  <thead>\n",
       "    <tr style=\"text-align: right;\">\n",
       "      <th></th>\n",
       "      <th>accession</th>\n",
       "      <th>publication_id</th>\n",
       "    </tr>\n",
       "  </thead>\n",
       "  <tbody>\n",
       "    <tr>\n",
       "      <th>0</th>\n",
       "      <td>XP_028926523.1</td>\n",
       "      <td>[]</td>\n",
       "    </tr>\n",
       "  </tbody>\n",
       "</table>\n",
       "</div>"
      ],
      "text/plain": [
       "        accession publication_id\n",
       "0  XP_028926523.1             []"
      ]
     },
     "execution_count": 41,
     "metadata": {},
     "output_type": "execute_result"
    }
   ],
   "source": [
    "query = (\n",
    "    \"SELECT * FROM sequence s LEFT JOIN sequence_has_publication sp \"\n",
    "    \"ON s.accession = sp.sequence_accession \"\n",
    "    \"WHERE s.accession='XP_028926523.1'\"\n",
    ")\n",
    "cursor.execute(query)\n",
    "df = pd.DataFrame(cursor.fetchall(), columns=[i[0] for i in cursor.description])\n",
    "df.groupby([\"accession\"])[\"publication_id\"].apply(\n",
    "    lambda x: [] if x.dropna().empty else list(x.unique())\n",
    ").reset_index()"
   ]
  },
  {
   "cell_type": "markdown",
   "id": "1159287f-86a3-4ae6-8a22-87c37d754d62",
   "metadata": {
    "tags": []
   },
   "source": [
    "### Updating"
   ]
  },
  {
   "cell_type": "code",
   "execution_count": 46,
   "id": "ff58c60f-f5af-4f73-b251-095e66d1c635",
   "metadata": {
    "tags": []
   },
   "outputs": [
    {
     "data": {
      "text/plain": [
       "('XP_028926540.1',\n",
       " 'MSDTVKSVPVPTEGSWKAVAKDQKTRKKRKHSRRENYSIYVYKVLKQVHPLTSISTKAVGIMDSFINDIFDRIASEASRLARYTKRSTIASREIQTAVLLTLPGELARHAVSEGTKAITKYTSAK')"
      ]
     },
     "execution_count": 46,
     "metadata": {},
     "output_type": "execute_result"
    }
   ],
   "source": [
    "str(records[2].id), str(records[2].seq)"
   ]
  },
  {
   "cell_type": "code",
   "execution_count": 47,
   "id": "73763f11-eb99-488e-80a6-4cb935af0902",
   "metadata": {
    "tags": []
   },
   "outputs": [
    {
     "name": "stdout",
     "output_type": "stream",
     "text": [
      "UPDATE sequence SET accession='XP_028926540.1', sequence='MSDTVKSVPVPTEGSWKAVAKDQKTRKKRKHSRRENYSIYVYKVLKQVHPLTSISTKAVGIMDSFINDIFDRIASEASRLARYTKRSTIASREIQTAVLLTLPGELARHAVSEGTKAITKYTSAK' WHERE accession='XP_028926523.1'\n"
     ]
    }
   ],
   "source": [
    "query = (\n",
    "    \"UPDATE sequence SET accession='XP_028926540.1', \"\n",
    "    f\"sequence='{str(records[2].seq)}' \"\n",
    "    \"WHERE accession='XP_028926523.1'\"\n",
    ")\n",
    "print(query)"
   ]
  },
  {
   "cell_type": "code",
   "execution_count": 48,
   "id": "faafa9f7-4d82-4ef1-a042-5f42fc0bd729",
   "metadata": {
    "tags": []
   },
   "outputs": [],
   "source": [
    "cursor.execute(query)"
   ]
  },
  {
   "cell_type": "code",
   "execution_count": 49,
   "id": "bacd033c-a392-4820-89bf-07c99e41e543",
   "metadata": {
    "tags": []
   },
   "outputs": [
    {
     "data": {
      "text/html": [
       "<div>\n",
       "<style scoped>\n",
       "    .dataframe tbody tr th:only-of-type {\n",
       "        vertical-align: middle;\n",
       "    }\n",
       "\n",
       "    .dataframe tbody tr th {\n",
       "        vertical-align: top;\n",
       "    }\n",
       "\n",
       "    .dataframe thead th {\n",
       "        text-align: right;\n",
       "    }\n",
       "</style>\n",
       "<table border=\"1\" class=\"dataframe\">\n",
       "  <thead>\n",
       "    <tr style=\"text-align: right;\">\n",
       "      <th></th>\n",
       "      <th>accession</th>\n",
       "      <th>variant</th>\n",
       "      <th>gi</th>\n",
       "      <th>ncbi_gene_id</th>\n",
       "      <th>hgnc_gene_name</th>\n",
       "      <th>taxonomy_id</th>\n",
       "      <th>organism</th>\n",
       "      <th>phylum</th>\n",
       "      <th>class</th>\n",
       "      <th>taxonomy_group</th>\n",
       "      <th>info</th>\n",
       "      <th>sequence</th>\n",
       "      <th>variant_under_consideration</th>\n",
       "      <th>sequence_accession</th>\n",
       "      <th>publication_id</th>\n",
       "    </tr>\n",
       "  </thead>\n",
       "  <tbody>\n",
       "  </tbody>\n",
       "</table>\n",
       "</div>"
      ],
      "text/plain": [
       "Empty DataFrame\n",
       "Columns: [accession, variant, gi, ncbi_gene_id, hgnc_gene_name, taxonomy_id, organism, phylum, class, taxonomy_group, info, sequence, variant_under_consideration, sequence_accession, publication_id]\n",
       "Index: []"
      ]
     },
     "execution_count": 49,
     "metadata": {},
     "output_type": "execute_result"
    }
   ],
   "source": [
    "query = (\n",
    "    \"SELECT * FROM sequence s LEFT JOIN sequence_has_publication sp \"\n",
    "    \"ON s.accession = sp.sequence_accession \"\n",
    "    \"WHERE s.accession='XP_028926523.1'\"\n",
    ")\n",
    "cursor.execute(query)\n",
    "df = pd.DataFrame(cursor.fetchall(), columns=[i[0] for i in cursor.description])\n",
    "df"
   ]
  },
  {
   "cell_type": "code",
   "execution_count": 50,
   "id": "02759470-79fc-4b85-97e7-a8ecb23d84e3",
   "metadata": {
    "tags": []
   },
   "outputs": [
    {
     "data": {
      "text/html": [
       "<div>\n",
       "<style scoped>\n",
       "    .dataframe tbody tr th:only-of-type {\n",
       "        vertical-align: middle;\n",
       "    }\n",
       "\n",
       "    .dataframe tbody tr th {\n",
       "        vertical-align: top;\n",
       "    }\n",
       "\n",
       "    .dataframe thead th {\n",
       "        text-align: right;\n",
       "    }\n",
       "</style>\n",
       "<table border=\"1\" class=\"dataframe\">\n",
       "  <thead>\n",
       "    <tr style=\"text-align: right;\">\n",
       "      <th></th>\n",
       "      <th>accession</th>\n",
       "      <th>variant</th>\n",
       "      <th>gi</th>\n",
       "      <th>ncbi_gene_id</th>\n",
       "      <th>hgnc_gene_name</th>\n",
       "      <th>taxonomy_id</th>\n",
       "      <th>organism</th>\n",
       "      <th>phylum</th>\n",
       "      <th>class</th>\n",
       "      <th>taxonomy_group</th>\n",
       "      <th>info</th>\n",
       "      <th>sequence</th>\n",
       "      <th>variant_under_consideration</th>\n",
       "      <th>sequence_accession</th>\n",
       "      <th>publication_id</th>\n",
       "    </tr>\n",
       "  </thead>\n",
       "  <tbody>\n",
       "    <tr>\n",
       "      <th>0</th>\n",
       "      <td>XP_028926540.1</td>\n",
       "      <td>H2B.O</td>\n",
       "      <td>None</td>\n",
       "      <td>None</td>\n",
       "      <td>None</td>\n",
       "      <td>9258</td>\n",
       "      <td>Ornithorhynchus anatinus</td>\n",
       "      <td>Chordata</td>\n",
       "      <td>Mammalia</td>\n",
       "      <td>None</td>\n",
       "      <td>None</td>\n",
       "      <td>MSDTVKSVPVPTEGSWKAVAKDQKTRKKRKHSRRENYSIYVYKVLK...</td>\n",
       "      <td>None</td>\n",
       "      <td>None</td>\n",
       "      <td>None</td>\n",
       "    </tr>\n",
       "  </tbody>\n",
       "</table>\n",
       "</div>"
      ],
      "text/plain": [
       "        accession variant    gi ncbi_gene_id hgnc_gene_name  taxonomy_id  \\\n",
       "0  XP_028926540.1   H2B.O  None         None           None         9258   \n",
       "\n",
       "                   organism    phylum     class taxonomy_group  info  \\\n",
       "0  Ornithorhynchus anatinus  Chordata  Mammalia           None  None   \n",
       "\n",
       "                                            sequence  \\\n",
       "0  MSDTVKSVPVPTEGSWKAVAKDQKTRKKRKHSRRENYSIYVYKVLK...   \n",
       "\n",
       "  variant_under_consideration sequence_accession publication_id  \n",
       "0                        None               None           None  "
      ]
     },
     "execution_count": 50,
     "metadata": {},
     "output_type": "execute_result"
    }
   ],
   "source": [
    "query = (\n",
    "    \"SELECT * FROM sequence s LEFT JOIN sequence_has_publication sp \"\n",
    "    \"ON s.accession = sp.sequence_accession \"\n",
    "    \"WHERE s.accession='XP_028926540.1'\"\n",
    ")\n",
    "cursor.execute(query)\n",
    "df = pd.DataFrame(cursor.fetchall(), columns=[i[0] for i in cursor.description])\n",
    "df"
   ]
  },
  {
   "cell_type": "markdown",
   "id": "1fd50131-3deb-45a0-bb08-c25ce8a1e139",
   "metadata": {},
   "source": [
    "### Return relations to publications"
   ]
  },
  {
   "cell_type": "code",
   "execution_count": 51,
   "id": "c67d1a07-7668-40f2-9752-f0770d99ea9e",
   "metadata": {
    "tags": []
   },
   "outputs": [
    {
     "data": {
      "text/plain": [
       "['35099534']"
      ]
     },
     "execution_count": 51,
     "metadata": {},
     "output_type": "execute_result"
    }
   ],
   "source": [
    "publications"
   ]
  },
  {
   "cell_type": "code",
   "execution_count": 53,
   "id": "d464685e-51c9-490d-8d32-ea3f65e74c1d",
   "metadata": {
    "tags": []
   },
   "outputs": [],
   "source": [
    "for pid in publications:\n",
    "    cursor.execute(add_sequence_has_publication, (\"XP_028926540.1\", pid))"
   ]
  },
  {
   "cell_type": "code",
   "execution_count": 54,
   "id": "b4e2ec4c-9da6-45c3-93d4-77ab15addb1e",
   "metadata": {
    "tags": []
   },
   "outputs": [
    {
     "data": {
      "text/html": [
       "<div>\n",
       "<style scoped>\n",
       "    .dataframe tbody tr th:only-of-type {\n",
       "        vertical-align: middle;\n",
       "    }\n",
       "\n",
       "    .dataframe tbody tr th {\n",
       "        vertical-align: top;\n",
       "    }\n",
       "\n",
       "    .dataframe thead th {\n",
       "        text-align: right;\n",
       "    }\n",
       "</style>\n",
       "<table border=\"1\" class=\"dataframe\">\n",
       "  <thead>\n",
       "    <tr style=\"text-align: right;\">\n",
       "      <th></th>\n",
       "      <th>accession</th>\n",
       "      <th>variant</th>\n",
       "      <th>gi</th>\n",
       "      <th>ncbi_gene_id</th>\n",
       "      <th>hgnc_gene_name</th>\n",
       "      <th>taxonomy_id</th>\n",
       "      <th>organism</th>\n",
       "      <th>phylum</th>\n",
       "      <th>class</th>\n",
       "      <th>taxonomy_group</th>\n",
       "      <th>info</th>\n",
       "      <th>sequence</th>\n",
       "      <th>variant_under_consideration</th>\n",
       "      <th>sequence_accession</th>\n",
       "      <th>publication_id</th>\n",
       "    </tr>\n",
       "  </thead>\n",
       "  <tbody>\n",
       "    <tr>\n",
       "      <th>0</th>\n",
       "      <td>XP_028926540.1</td>\n",
       "      <td>H2B.O</td>\n",
       "      <td>None</td>\n",
       "      <td>None</td>\n",
       "      <td>None</td>\n",
       "      <td>9258</td>\n",
       "      <td>Ornithorhynchus anatinus</td>\n",
       "      <td>Chordata</td>\n",
       "      <td>Mammalia</td>\n",
       "      <td>None</td>\n",
       "      <td>None</td>\n",
       "      <td>MSDTVKSVPVPTEGSWKAVAKDQKTRKKRKHSRRENYSIYVYKVLK...</td>\n",
       "      <td>None</td>\n",
       "      <td>XP_028926540.1</td>\n",
       "      <td>35099534</td>\n",
       "    </tr>\n",
       "  </tbody>\n",
       "</table>\n",
       "</div>"
      ],
      "text/plain": [
       "        accession variant    gi ncbi_gene_id hgnc_gene_name  taxonomy_id  \\\n",
       "0  XP_028926540.1   H2B.O  None         None           None         9258   \n",
       "\n",
       "                   organism    phylum     class taxonomy_group  info  \\\n",
       "0  Ornithorhynchus anatinus  Chordata  Mammalia           None  None   \n",
       "\n",
       "                                            sequence  \\\n",
       "0  MSDTVKSVPVPTEGSWKAVAKDQKTRKKRKHSRRENYSIYVYKVLK...   \n",
       "\n",
       "  variant_under_consideration sequence_accession publication_id  \n",
       "0                        None     XP_028926540.1       35099534  "
      ]
     },
     "execution_count": 54,
     "metadata": {},
     "output_type": "execute_result"
    }
   ],
   "source": [
    "query = (\n",
    "    \"SELECT * FROM sequence s LEFT JOIN sequence_has_publication sp \"\n",
    "    \"ON s.accession = sp.sequence_accession \"\n",
    "    \"WHERE s.accession='XP_028926540.1'\"\n",
    ")\n",
    "cursor.execute(query)\n",
    "df = pd.DataFrame(cursor.fetchall(), columns=[i[0] for i in cursor.description])\n",
    "df"
   ]
  },
  {
   "cell_type": "code",
   "execution_count": 55,
   "id": "d692637a-ac75-4a13-90b1-fc4ac584da0f",
   "metadata": {
    "tags": []
   },
   "outputs": [],
   "source": [
    "# Make sure data is committed to the database\n",
    "conn.commit()"
   ]
  },
  {
   "cell_type": "code",
   "execution_count": 56,
   "id": "215cadf0-2342-41cc-8ecf-a9d22c3b13a3",
   "metadata": {
    "tags": []
   },
   "outputs": [
    {
     "data": {
      "text/html": [
       "<div>\n",
       "<style scoped>\n",
       "    .dataframe tbody tr th:only-of-type {\n",
       "        vertical-align: middle;\n",
       "    }\n",
       "\n",
       "    .dataframe tbody tr th {\n",
       "        vertical-align: top;\n",
       "    }\n",
       "\n",
       "    .dataframe thead th {\n",
       "        text-align: right;\n",
       "    }\n",
       "</style>\n",
       "<table border=\"1\" class=\"dataframe\">\n",
       "  <thead>\n",
       "    <tr style=\"text-align: right;\">\n",
       "      <th></th>\n",
       "      <th>accession</th>\n",
       "      <th>variant</th>\n",
       "      <th>gi</th>\n",
       "      <th>ncbi_gene_id</th>\n",
       "      <th>hgnc_gene_name</th>\n",
       "      <th>taxonomy_id</th>\n",
       "      <th>organism</th>\n",
       "      <th>phylum</th>\n",
       "      <th>class</th>\n",
       "      <th>taxonomy_group</th>\n",
       "      <th>info</th>\n",
       "      <th>sequence</th>\n",
       "      <th>variant_under_consideration</th>\n",
       "    </tr>\n",
       "  </thead>\n",
       "  <tbody>\n",
       "    <tr>\n",
       "      <th>0</th>\n",
       "      <td>XP_001511074.1</td>\n",
       "      <td>H2B.O</td>\n",
       "      <td>None</td>\n",
       "      <td>None</td>\n",
       "      <td>None</td>\n",
       "      <td>9258</td>\n",
       "      <td>Ornithorhynchus anatinus</td>\n",
       "      <td>Chordata</td>\n",
       "      <td>Mammalia</td>\n",
       "      <td>None</td>\n",
       "      <td>None</td>\n",
       "      <td>MSDSVKSVPVPTEGSWKAVTKDQKAREKRKHRRRENYSIYVYKVLK...</td>\n",
       "      <td>None</td>\n",
       "    </tr>\n",
       "    <tr>\n",
       "      <th>1</th>\n",
       "      <td>XP_001521160.2</td>\n",
       "      <td>H2B.O</td>\n",
       "      <td>None</td>\n",
       "      <td>None</td>\n",
       "      <td>None</td>\n",
       "      <td>9258</td>\n",
       "      <td>Ornithorhynchus anatinus</td>\n",
       "      <td>Chordata</td>\n",
       "      <td>Mammalia</td>\n",
       "      <td>None</td>\n",
       "      <td>None</td>\n",
       "      <td>MPVPTEGSWKAVTKDQKTHKKRKHSCWENYVYKVLKQVHPLTSIST...</td>\n",
       "      <td>None</td>\n",
       "    </tr>\n",
       "    <tr>\n",
       "      <th>2</th>\n",
       "      <td>XP_028926540.1</td>\n",
       "      <td>H2B.O</td>\n",
       "      <td>None</td>\n",
       "      <td>None</td>\n",
       "      <td>None</td>\n",
       "      <td>9258</td>\n",
       "      <td>Ornithorhynchus anatinus</td>\n",
       "      <td>Chordata</td>\n",
       "      <td>Mammalia</td>\n",
       "      <td>None</td>\n",
       "      <td>None</td>\n",
       "      <td>MSDTVKSVPVPTEGSWKAVAKDQKTRKKRKHSRRENYSIYVYKVLK...</td>\n",
       "      <td>None</td>\n",
       "    </tr>\n",
       "  </tbody>\n",
       "</table>\n",
       "</div>"
      ],
      "text/plain": [
       "        accession variant    gi ncbi_gene_id hgnc_gene_name  taxonomy_id  \\\n",
       "0  XP_001511074.1   H2B.O  None         None           None         9258   \n",
       "1  XP_001521160.2   H2B.O  None         None           None         9258   \n",
       "2  XP_028926540.1   H2B.O  None         None           None         9258   \n",
       "\n",
       "                   organism    phylum     class taxonomy_group  info  \\\n",
       "0  Ornithorhynchus anatinus  Chordata  Mammalia           None  None   \n",
       "1  Ornithorhynchus anatinus  Chordata  Mammalia           None  None   \n",
       "2  Ornithorhynchus anatinus  Chordata  Mammalia           None  None   \n",
       "\n",
       "                                            sequence  \\\n",
       "0  MSDSVKSVPVPTEGSWKAVTKDQKAREKRKHRRRENYSIYVYKVLK...   \n",
       "1  MPVPTEGSWKAVTKDQKTHKKRKHSCWENYVYKVLKQVHPLTSIST...   \n",
       "2  MSDTVKSVPVPTEGSWKAVAKDQKTRKKRKHSRRENYSIYVYKVLK...   \n",
       "\n",
       "  variant_under_consideration  \n",
       "0                        None  \n",
       "1                        None  \n",
       "2                        None  "
      ]
     },
     "execution_count": 56,
     "metadata": {},
     "output_type": "execute_result"
    }
   ],
   "source": [
    "query = \"SELECT * FROM sequence WHERE variant='H2B.O'\"\n",
    "cursor.execute(query)\n",
    "pd.DataFrame(cursor.fetchall(), columns=[i[0] for i in cursor.description])"
   ]
  },
  {
   "cell_type": "markdown",
   "id": "d3c8a219-f508-46e1-936f-7d6040016e39",
   "metadata": {
    "tags": []
   },
   "source": [
    "# Close connections"
   ]
  },
  {
   "cell_type": "code",
   "execution_count": 57,
   "id": "572059d8-54f9-4ec7-a2c6-1c8066552845",
   "metadata": {
    "tags": []
   },
   "outputs": [],
   "source": [
    "cursor.close()\n",
    "conn.close()\n",
    "tunnel.stop()"
   ]
  },
  {
   "cell_type": "code",
   "execution_count": null,
   "id": "790ee020-09af-4dcc-9c36-f1b3f69ea8a7",
   "metadata": {},
   "outputs": [],
   "source": []
  }
 ],
 "metadata": {
  "kernelspec": {
   "display_name": ".conda-histdb_env",
   "language": "python",
   "name": "conda-env-.conda-histdb_env-py"
  },
  "language_info": {
   "codemirror_mode": {
    "name": "ipython",
    "version": 3
   },
   "file_extension": ".py",
   "mimetype": "text/x-python",
   "name": "python",
   "nbconvert_exporter": "python",
   "pygments_lexer": "ipython3",
   "version": "3.8.1"
  }
 },
 "nbformat": 4,
 "nbformat_minor": 5
}
