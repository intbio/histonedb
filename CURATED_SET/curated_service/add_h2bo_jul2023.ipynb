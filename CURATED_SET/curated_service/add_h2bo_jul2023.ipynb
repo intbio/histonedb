{
 "cells": [
  {
   "cell_type": "code",
   "execution_count": 1,
   "metadata": {},
   "outputs": [
    {
     "name": "stdout",
     "output_type": "stream",
     "text": [
      "/mnt/scratch/l_singh/hdb/project_dir/histonedb/CURATED_SET\n"
     ]
    }
   ],
   "source": [
    "%cd '..'"
   ]
  },
  {
   "cell_type": "code",
   "execution_count": 2,
   "metadata": {},
   "outputs": [],
   "source": [
    "import os, re, sys, inspect\n",
    "import pandas as pd\n",
    "\n",
    "from Bio import SeqIO, Entrez\n",
    "\n",
    "from curated_set_services import CuratedSet"
   ]
  },
  {
   "cell_type": "code",
   "execution_count": 3,
   "metadata": {},
   "outputs": [
    {
     "data": {
      "text/plain": [
       "((497, 16),\n",
       " Index(['accession', 'type', 'variant_group', 'variant', 'doublet', 'gi',\n",
       "        'ncbi_gene_id', 'hgnc_gene_name', 'taxonomy_id', 'organism', 'phylum',\n",
       "        'class', 'taxonomy_group', 'info', 'references', 'sequence'],\n",
       "       dtype='object'))"
      ]
     },
     "execution_count": 3,
     "metadata": {},
     "output_type": "execute_result"
    }
   ],
   "source": [
    "#Load data from histones.csv\n",
    "curated_set = CuratedSet()\n",
    "cs=curated_set\n",
    "\n",
    "cs.data.shape, cs.data.columns"
   ]
  },
  {
   "cell_type": "code",
   "execution_count": 4,
   "metadata": {},
   "outputs": [
    {
     "data": {
      "text/plain": [
       "[]"
      ]
     },
     "execution_count": 4,
     "metadata": {},
     "output_type": "execute_result"
    }
   ],
   "source": [
    "list(cs.has_duplicates())"
   ]
  },
  {
   "cell_type": "code",
   "execution_count": 5,
   "metadata": {},
   "outputs": [
    {
     "data": {
      "text/html": [
       "<div>\n",
       "<style scoped>\n",
       "    .dataframe tbody tr th:only-of-type {\n",
       "        vertical-align: middle;\n",
       "    }\n",
       "\n",
       "    .dataframe tbody tr th {\n",
       "        vertical-align: top;\n",
       "    }\n",
       "\n",
       "    .dataframe thead th {\n",
       "        text-align: right;\n",
       "    }\n",
       "</style>\n",
       "<table border=\"1\" class=\"dataframe\">\n",
       "  <thead>\n",
       "    <tr style=\"text-align: right;\">\n",
       "      <th></th>\n",
       "      <th>accession</th>\n",
       "      <th>type</th>\n",
       "      <th>variant_group</th>\n",
       "      <th>variant</th>\n",
       "      <th>doublet</th>\n",
       "      <th>gi</th>\n",
       "      <th>ncbi_gene_id</th>\n",
       "      <th>hgnc_gene_name</th>\n",
       "      <th>taxonomy_id</th>\n",
       "      <th>organism</th>\n",
       "      <th>phylum</th>\n",
       "      <th>class</th>\n",
       "      <th>taxonomy_group</th>\n",
       "      <th>info</th>\n",
       "      <th>references</th>\n",
       "      <th>sequence</th>\n",
       "    </tr>\n",
       "  </thead>\n",
       "  <tbody>\n",
       "    <tr>\n",
       "      <th>NP_505463.1</th>\n",
       "      <td>NP_505463.1</td>\n",
       "      <td>H2A</td>\n",
       "      <td>cH2A</td>\n",
       "      <td>cH2A_(Animals)</td>\n",
       "      <td></td>\n",
       "      <td>17562014</td>\n",
       "      <td></td>\n",
       "      <td></td>\n",
       "      <td>6239</td>\n",
       "      <td>Caenorhabditis elegans</td>\n",
       "      <td>Nematoda</td>\n",
       "      <td>Chromadorea</td>\n",
       "      <td></td>\n",
       "      <td></td>\n",
       "      <td>26989147 22650316(?)</td>\n",
       "      <td>MSGRGKGGKAKTGGKAKSRSSRAGLQFPVGRLHRILRKGNYAQRVG...</td>\n",
       "    </tr>\n",
       "    <tr>\n",
       "      <th>EEC09557.1</th>\n",
       "      <td>EEC09557.1</td>\n",
       "      <td>H2A</td>\n",
       "      <td>cH2A</td>\n",
       "      <td>cH2A_(Animals)</td>\n",
       "      <td></td>\n",
       "      <td>215500063</td>\n",
       "      <td></td>\n",
       "      <td></td>\n",
       "      <td>6945</td>\n",
       "      <td>Ixodes scapularis</td>\n",
       "      <td>Arthropoda</td>\n",
       "      <td>Arachnida</td>\n",
       "      <td></td>\n",
       "      <td></td>\n",
       "      <td>26989147 22650316(?)</td>\n",
       "      <td>MSGRGKGGKVKGKSKTRSSRAGLQFPVGRIHRLLRKGNYAERVGAG...</td>\n",
       "    </tr>\n",
       "    <tr>\n",
       "      <th>NP_724343.1</th>\n",
       "      <td>NP_724343.1</td>\n",
       "      <td>H2A</td>\n",
       "      <td>cH2A</td>\n",
       "      <td>cH2A_(Animals)</td>\n",
       "      <td></td>\n",
       "      <td>24585673</td>\n",
       "      <td></td>\n",
       "      <td></td>\n",
       "      <td>7227</td>\n",
       "      <td>Drosophila melanogaster</td>\n",
       "      <td>Arthropoda</td>\n",
       "      <td>Insecta</td>\n",
       "      <td></td>\n",
       "      <td></td>\n",
       "      <td>26989147 22650316(?)</td>\n",
       "      <td>MSGRGKGGKVKGKAKSRSNRAGLQFPVGRIHRLLRKGNYAERVGAG...</td>\n",
       "    </tr>\n",
       "    <tr>\n",
       "      <th>XP_001119899.1</th>\n",
       "      <td>XP_001119899.1</td>\n",
       "      <td>H2A</td>\n",
       "      <td>cH2A</td>\n",
       "      <td>cH2A_(Animals)</td>\n",
       "      <td></td>\n",
       "      <td>110764935</td>\n",
       "      <td></td>\n",
       "      <td></td>\n",
       "      <td>7460</td>\n",
       "      <td>Apis mellifera</td>\n",
       "      <td>Arthropoda</td>\n",
       "      <td>Insecta</td>\n",
       "      <td></td>\n",
       "      <td></td>\n",
       "      <td>26989147 22650316(?)</td>\n",
       "      <td>MSGRGKGGKAKAKAKSRSNRAGLQFPVGRIHRLLRKGNYAERVGAG...</td>\n",
       "    </tr>\n",
       "    <tr>\n",
       "      <th>EDO48405.1</th>\n",
       "      <td>EDO48405.1</td>\n",
       "      <td>H2A</td>\n",
       "      <td>cH2A</td>\n",
       "      <td>cH2A_(Animals)</td>\n",
       "      <td></td>\n",
       "      <td>156227602</td>\n",
       "      <td></td>\n",
       "      <td></td>\n",
       "      <td>45351</td>\n",
       "      <td>Nematostella vectensis</td>\n",
       "      <td>Cnidaria</td>\n",
       "      <td>Anthozoa</td>\n",
       "      <td></td>\n",
       "      <td></td>\n",
       "      <td>26989147 22650316(?)</td>\n",
       "      <td>MSGRGKGKAKGTKSKTRSSRAGLQFPVGRIHRHLRKGNYAERVGAG...</td>\n",
       "    </tr>\n",
       "  </tbody>\n",
       "</table>\n",
       "</div>"
      ],
      "text/plain": [
       "                     accession type variant_group         variant doublet  \\\n",
       "NP_505463.1        NP_505463.1  H2A          cH2A  cH2A_(Animals)           \n",
       "EEC09557.1          EEC09557.1  H2A          cH2A  cH2A_(Animals)           \n",
       "NP_724343.1        NP_724343.1  H2A          cH2A  cH2A_(Animals)           \n",
       "XP_001119899.1  XP_001119899.1  H2A          cH2A  cH2A_(Animals)           \n",
       "EDO48405.1          EDO48405.1  H2A          cH2A  cH2A_(Animals)           \n",
       "\n",
       "                       gi ncbi_gene_id hgnc_gene_name taxonomy_id  \\\n",
       "NP_505463.1      17562014                                    6239   \n",
       "EEC09557.1      215500063                                    6945   \n",
       "NP_724343.1      24585673                                    7227   \n",
       "XP_001119899.1  110764935                                    7460   \n",
       "EDO48405.1      156227602                                   45351   \n",
       "\n",
       "                               organism      phylum        class  \\\n",
       "NP_505463.1      Caenorhabditis elegans    Nematoda  Chromadorea   \n",
       "EEC09557.1            Ixodes scapularis  Arthropoda    Arachnida   \n",
       "NP_724343.1     Drosophila melanogaster  Arthropoda      Insecta   \n",
       "XP_001119899.1           Apis mellifera  Arthropoda      Insecta   \n",
       "EDO48405.1       Nematostella vectensis    Cnidaria     Anthozoa   \n",
       "\n",
       "               taxonomy_group info            references  \\\n",
       "NP_505463.1                         26989147 22650316(?)   \n",
       "EEC09557.1                          26989147 22650316(?)   \n",
       "NP_724343.1                         26989147 22650316(?)   \n",
       "XP_001119899.1                      26989147 22650316(?)   \n",
       "EDO48405.1                          26989147 22650316(?)   \n",
       "\n",
       "                                                         sequence  \n",
       "NP_505463.1     MSGRGKGGKAKTGGKAKSRSSRAGLQFPVGRLHRILRKGNYAQRVG...  \n",
       "EEC09557.1      MSGRGKGGKVKGKSKTRSSRAGLQFPVGRIHRLLRKGNYAERVGAG...  \n",
       "NP_724343.1     MSGRGKGGKVKGKAKSRSNRAGLQFPVGRIHRLLRKGNYAERVGAG...  \n",
       "XP_001119899.1  MSGRGKGGKAKAKAKSRSNRAGLQFPVGRIHRLLRKGNYAERVGAG...  \n",
       "EDO48405.1      MSGRGKGKAKGTKSKTRSSRAGLQFPVGRIHRHLRKGNYAERVGAG...  "
      ]
     },
     "execution_count": 5,
     "metadata": {},
     "output_type": "execute_result"
    }
   ],
   "source": [
    "cs.data.head()"
   ]
  },
  {
   "cell_type": "code",
   "execution_count": 6,
   "metadata": {},
   "outputs": [
    {
     "data": {
      "text/plain": [
       "((3, 3), Index(['name', 'sequence', 'accession'], dtype='object'))"
      ]
     },
     "execution_count": 6,
     "metadata": {},
     "output_type": "execute_result"
    }
   ],
   "source": [
    "df = pd.read_csv('curated_service/h2bo_histones.csv')\n",
    "df.index = df.accession\n",
    "df.shape, df.columns"
   ]
  },
  {
   "cell_type": "code",
   "execution_count": 7,
   "metadata": {},
   "outputs": [
    {
     "data": {
      "text/html": [
       "<div>\n",
       "<style scoped>\n",
       "    .dataframe tbody tr th:only-of-type {\n",
       "        vertical-align: middle;\n",
       "    }\n",
       "\n",
       "    .dataframe tbody tr th {\n",
       "        vertical-align: top;\n",
       "    }\n",
       "\n",
       "    .dataframe thead th {\n",
       "        text-align: right;\n",
       "    }\n",
       "</style>\n",
       "<table border=\"1\" class=\"dataframe\">\n",
       "  <thead>\n",
       "    <tr style=\"text-align: right;\">\n",
       "      <th></th>\n",
       "      <th>accession</th>\n",
       "      <th>type</th>\n",
       "      <th>variant_group</th>\n",
       "      <th>variant</th>\n",
       "      <th>references</th>\n",
       "      <th>sequence</th>\n",
       "    </tr>\n",
       "    <tr>\n",
       "      <th>accession</th>\n",
       "      <th></th>\n",
       "      <th></th>\n",
       "      <th></th>\n",
       "      <th></th>\n",
       "      <th></th>\n",
       "      <th></th>\n",
       "    </tr>\n",
       "  </thead>\n",
       "  <tbody>\n",
       "    <tr>\n",
       "      <th>XP_001521160.2</th>\n",
       "      <td>XP_001521160.2</td>\n",
       "      <td>H2B</td>\n",
       "      <td>H2B.O</td>\n",
       "      <td>H2B.O</td>\n",
       "      <td>35099534</td>\n",
       "      <td>WENYVYKVLKQVHPLTSISTKAVGIVDSFIDIFKRITSDASHLARY...</td>\n",
       "    </tr>\n",
       "    <tr>\n",
       "      <th>XP_001511074.1</th>\n",
       "      <td>XP_001511074.1</td>\n",
       "      <td>H2B</td>\n",
       "      <td>H2B.O</td>\n",
       "      <td>H2B.O</td>\n",
       "      <td>35099534</td>\n",
       "      <td>YSIYVYKVLKQVHPLTSISTKAVGIMDSFINDIFERIASEASRLAR...</td>\n",
       "    </tr>\n",
       "    <tr>\n",
       "      <th>XP_028926523.1</th>\n",
       "      <td>XP_028926523.1</td>\n",
       "      <td>H2B</td>\n",
       "      <td>H2B.O</td>\n",
       "      <td>H2B.O</td>\n",
       "      <td>35099534</td>\n",
       "      <td>YSIYVYKVLKQVHPLTSISTKAVGIMDSFINDIFDRIASEASRLAR...</td>\n",
       "    </tr>\n",
       "  </tbody>\n",
       "</table>\n",
       "</div>"
      ],
      "text/plain": [
       "                     accession type variant_group variant references  \\\n",
       "accession                                                              \n",
       "XP_001521160.2  XP_001521160.2  H2B         H2B.O   H2B.O   35099534   \n",
       "XP_001511074.1  XP_001511074.1  H2B         H2B.O   H2B.O   35099534   \n",
       "XP_028926523.1  XP_028926523.1  H2B         H2B.O   H2B.O   35099534   \n",
       "\n",
       "                                                         sequence  \n",
       "accession                                                          \n",
       "XP_001521160.2  WENYVYKVLKQVHPLTSISTKAVGIVDSFIDIFKRITSDASHLARY...  \n",
       "XP_001511074.1  YSIYVYKVLKQVHPLTSISTKAVGIMDSFINDIFERIASEASRLAR...  \n",
       "XP_028926523.1  YSIYVYKVLKQVHPLTSISTKAVGIMDSFINDIFDRIASEASRLAR...  "
      ]
     },
     "execution_count": 7,
     "metadata": {},
     "output_type": "execute_result"
    }
   ],
   "source": [
    "df = df[['accession', 'sequence']]\n",
    "df['type'] = ['H2B']*df.shape[0]\n",
    "df['variant_group'] = ['H2B.O']*df.shape[0]\n",
    "df['variant'] = ['H2B.O']*df.shape[0]\n",
    "df['references'] = ['35099534']*df.shape[0]\n",
    "df = df[['accession', 'type', 'variant_group', 'variant', 'references', 'sequence']]\n",
    "df.head()"
   ]
  },
  {
   "cell_type": "code",
   "execution_count": 8,
   "metadata": {},
   "outputs": [
    {
     "data": {
      "text/plain": [
       "((500, 16), [])"
      ]
     },
     "execution_count": 8,
     "metadata": {},
     "output_type": "execute_result"
    }
   ],
   "source": [
    "cs.data = pd.concat([cs.data, df]).fillna('')\n",
    "cs.data.shape, list(cs.has_duplicates())"
   ]
  },
  {
   "cell_type": "code",
   "execution_count": 9,
   "metadata": {},
   "outputs": [
    {
     "data": {
      "text/html": [
       "<div>\n",
       "<style scoped>\n",
       "    .dataframe tbody tr th:only-of-type {\n",
       "        vertical-align: middle;\n",
       "    }\n",
       "\n",
       "    .dataframe tbody tr th {\n",
       "        vertical-align: top;\n",
       "    }\n",
       "\n",
       "    .dataframe thead th {\n",
       "        text-align: right;\n",
       "    }\n",
       "</style>\n",
       "<table border=\"1\" class=\"dataframe\">\n",
       "  <thead>\n",
       "    <tr style=\"text-align: right;\">\n",
       "      <th></th>\n",
       "      <th>accession</th>\n",
       "      <th>type</th>\n",
       "      <th>variant_group</th>\n",
       "      <th>variant</th>\n",
       "      <th>doublet</th>\n",
       "      <th>gi</th>\n",
       "      <th>ncbi_gene_id</th>\n",
       "      <th>hgnc_gene_name</th>\n",
       "      <th>taxonomy_id</th>\n",
       "      <th>organism</th>\n",
       "      <th>phylum</th>\n",
       "      <th>class</th>\n",
       "      <th>taxonomy_group</th>\n",
       "      <th>info</th>\n",
       "      <th>references</th>\n",
       "      <th>sequence</th>\n",
       "    </tr>\n",
       "  </thead>\n",
       "  <tbody>\n",
       "    <tr>\n",
       "      <th>NP_005311.1</th>\n",
       "      <td>NP_005311.1</td>\n",
       "      <td>H1</td>\n",
       "      <td>H1.3</td>\n",
       "      <td>H1.3_(Homo_sapiens)__???</td>\n",
       "      <td></td>\n",
       "      <td></td>\n",
       "      <td>3007.0</td>\n",
       "      <td>H1-3</td>\n",
       "      <td>9606</td>\n",
       "      <td>Homo sapiens</td>\n",
       "      <td>Chordata</td>\n",
       "      <td>Mammalia</td>\n",
       "      <td>Mammalia</td>\n",
       "      <td></td>\n",
       "      <td>26689747</td>\n",
       "      <td>MSETAPLAPTIPAPAEKTPVKKKAKKAGATAGKRKASGPPVSELIT...</td>\n",
       "    </tr>\n",
       "    <tr>\n",
       "      <th>NP_861453.1</th>\n",
       "      <td>NP_861453.1</td>\n",
       "      <td>H1</td>\n",
       "      <td>H1.7</td>\n",
       "      <td>H1.7_(Homo_sapiens)__???</td>\n",
       "      <td></td>\n",
       "      <td></td>\n",
       "      <td>341567.0</td>\n",
       "      <td>H1-7</td>\n",
       "      <td>9606</td>\n",
       "      <td>Homo sapiens</td>\n",
       "      <td>Chordata</td>\n",
       "      <td>Mammalia</td>\n",
       "      <td>Mammalia</td>\n",
       "      <td></td>\n",
       "      <td>26689747</td>\n",
       "      <td>MEQALTGEAQSRWPRRGGSGAMAEAPGPSGESRGHSATQLPAEKTV...</td>\n",
       "    </tr>\n",
       "    <tr>\n",
       "      <th>XP_001521160.2</th>\n",
       "      <td>XP_001521160.2</td>\n",
       "      <td>H2B</td>\n",
       "      <td>H2B.O</td>\n",
       "      <td>H2B.O</td>\n",
       "      <td></td>\n",
       "      <td></td>\n",
       "      <td></td>\n",
       "      <td></td>\n",
       "      <td></td>\n",
       "      <td></td>\n",
       "      <td></td>\n",
       "      <td></td>\n",
       "      <td></td>\n",
       "      <td></td>\n",
       "      <td>35099534</td>\n",
       "      <td>WENYVYKVLKQVHPLTSISTKAVGIVDSFIDIFKRITSDASHLARY...</td>\n",
       "    </tr>\n",
       "    <tr>\n",
       "      <th>XP_001511074.1</th>\n",
       "      <td>XP_001511074.1</td>\n",
       "      <td>H2B</td>\n",
       "      <td>H2B.O</td>\n",
       "      <td>H2B.O</td>\n",
       "      <td></td>\n",
       "      <td></td>\n",
       "      <td></td>\n",
       "      <td></td>\n",
       "      <td></td>\n",
       "      <td></td>\n",
       "      <td></td>\n",
       "      <td></td>\n",
       "      <td></td>\n",
       "      <td></td>\n",
       "      <td>35099534</td>\n",
       "      <td>YSIYVYKVLKQVHPLTSISTKAVGIMDSFINDIFERIASEASRLAR...</td>\n",
       "    </tr>\n",
       "    <tr>\n",
       "      <th>XP_028926523.1</th>\n",
       "      <td>XP_028926523.1</td>\n",
       "      <td>H2B</td>\n",
       "      <td>H2B.O</td>\n",
       "      <td>H2B.O</td>\n",
       "      <td></td>\n",
       "      <td></td>\n",
       "      <td></td>\n",
       "      <td></td>\n",
       "      <td></td>\n",
       "      <td></td>\n",
       "      <td></td>\n",
       "      <td></td>\n",
       "      <td></td>\n",
       "      <td></td>\n",
       "      <td>35099534</td>\n",
       "      <td>YSIYVYKVLKQVHPLTSISTKAVGIMDSFINDIFDRIASEASRLAR...</td>\n",
       "    </tr>\n",
       "  </tbody>\n",
       "</table>\n",
       "</div>"
      ],
      "text/plain": [
       "                     accession type variant_group                   variant  \\\n",
       "NP_005311.1        NP_005311.1   H1          H1.3  H1.3_(Homo_sapiens)__???   \n",
       "NP_861453.1        NP_861453.1   H1          H1.7  H1.7_(Homo_sapiens)__???   \n",
       "XP_001521160.2  XP_001521160.2  H2B         H2B.O                     H2B.O   \n",
       "XP_001511074.1  XP_001511074.1  H2B         H2B.O                     H2B.O   \n",
       "XP_028926523.1  XP_028926523.1  H2B         H2B.O                     H2B.O   \n",
       "\n",
       "               doublet gi ncbi_gene_id hgnc_gene_name taxonomy_id  \\\n",
       "NP_005311.1                     3007.0           H1-3        9606   \n",
       "NP_861453.1                   341567.0           H1-7        9606   \n",
       "XP_001521160.2                                                      \n",
       "XP_001511074.1                                                      \n",
       "XP_028926523.1                                                      \n",
       "\n",
       "                    organism    phylum     class taxonomy_group info  \\\n",
       "NP_005311.1     Homo sapiens  Chordata  Mammalia       Mammalia        \n",
       "NP_861453.1     Homo sapiens  Chordata  Mammalia       Mammalia        \n",
       "XP_001521160.2                                                         \n",
       "XP_001511074.1                                                         \n",
       "XP_028926523.1                                                         \n",
       "\n",
       "               references                                           sequence  \n",
       "NP_005311.1      26689747  MSETAPLAPTIPAPAEKTPVKKKAKKAGATAGKRKASGPPVSELIT...  \n",
       "NP_861453.1      26689747  MEQALTGEAQSRWPRRGGSGAMAEAPGPSGESRGHSATQLPAEKTV...  \n",
       "XP_001521160.2   35099534  WENYVYKVLKQVHPLTSISTKAVGIVDSFIDIFKRITSDASHLARY...  \n",
       "XP_001511074.1   35099534  YSIYVYKVLKQVHPLTSISTKAVGIMDSFINDIFERIASEASRLAR...  \n",
       "XP_028926523.1   35099534  YSIYVYKVLKQVHPLTSISTKAVGIMDSFINDIFDRIASEASRLAR...  "
      ]
     },
     "execution_count": 9,
     "metadata": {},
     "output_type": "execute_result"
    }
   ],
   "source": [
    "cs.data.tail()"
   ]
  },
  {
   "cell_type": "code",
   "execution_count": 10,
   "metadata": {
    "tags": []
   },
   "outputs": [
    {
     "data": {
      "text/plain": [
       "(3, 16)"
      ]
     },
     "execution_count": 10,
     "metadata": {},
     "output_type": "execute_result"
    }
   ],
   "source": [
    "cs.data[cs.data['variant']=='H2B.O'].shape"
   ]
  },
  {
   "cell_type": "code",
   "execution_count": 11,
   "metadata": {},
   "outputs": [
    {
     "name": "stderr",
     "output_type": "stream",
     "text": [
      "/home/l_singh/.conda/envs/histdb_env/lib/python3.8/site-packages/Bio/Entrez/__init__.py:658: UserWarning: \n",
      "Email address is not specified.\n",
      "\n",
      "To make use of NCBI's E-utilities, NCBI requires you to specify your\n",
      "email address with each request.  As an example, if your email address\n",
      "is A.N.Other@example.com, you can specify it as follows:\n",
      "   from Bio import Entrez\n",
      "   Entrez.email = 'A.N.Other@example.com'\n",
      "In case of excessive usage of the E-utilities, NCBI will attempt to contact\n",
      "a user at the email address provided before blocking access to the\n",
      "E-utilities.\n",
      "  warnings.warn(\n",
      "/home/l_singh/.conda/envs/histdb_env/lib/python3.8/site-packages/Bio/GenBank/__init__.py:1143: BiopythonParserWarning: Dropping bond qualifier in feature location\n",
      "  warnings.warn(\n",
      "/mnt/scratch/l_singh/hdb/project_dir/histonedb/CURATED_SET/curated_set_services.py:267: SettingWithCopyWarning: \n",
      "A value is trying to be set on a copy of a slice from a DataFrame.\n",
      "Try using .loc[row_indexer,col_indexer] = value instead\n",
      "\n",
      "See the caveats in the documentation: https://pandas.pydata.org/pandas-docs/stable/user_guide/indexing.html#returning-a-view-versus-a-copy\n",
      "  updating_data['accession'] = new_accessions\n"
     ]
    }
   ],
   "source": [
    "cs.update_accession_version()\n",
    "cs.data=cs.data.set_index(cs.data.accession.values)"
   ]
  },
  {
   "cell_type": "code",
   "execution_count": 13,
   "metadata": {
    "tags": []
   },
   "outputs": [
    {
     "data": {
      "text/plain": [
       "(3, 16)"
      ]
     },
     "execution_count": 13,
     "metadata": {},
     "output_type": "execute_result"
    }
   ],
   "source": [
    "cs.data[cs.data['variant']=='H2B.O'].shape"
   ]
  },
  {
   "cell_type": "code",
   "execution_count": 14,
   "metadata": {
    "tags": []
   },
   "outputs": [
    {
     "name": "stdout",
     "output_type": "stream",
     "text": [
      "Fetched taxid from NCBI 9258\n",
      "Fetched taxid from NCBI 9258\n",
      "Fetched taxid from NCBI 9258\n",
      " changes to 9258\n",
      " changes to Ornithorhynchus anatinus\n",
      " changes to Chordata\n",
      " changes to Mammalia\n",
      " changes to 9258\n",
      " changes to Ornithorhynchus anatinus\n",
      " changes to Chordata\n",
      " changes to Mammalia\n",
      " changes to 9258\n",
      " changes to Ornithorhynchus anatinus\n",
      " changes to Chordata\n",
      " changes to Mammalia\n"
     ]
    }
   ],
   "source": [
    "curated_set.update_taxids(blank_data=True)"
   ]
  },
  {
   "cell_type": "code",
   "execution_count": 15,
   "metadata": {
    "tags": []
   },
   "outputs": [
    {
     "data": {
      "text/plain": [
       "(3, 16)"
      ]
     },
     "execution_count": 15,
     "metadata": {},
     "output_type": "execute_result"
    }
   ],
   "source": [
    "cs.data[cs.data['variant']=='H2B.O'].shape"
   ]
  },
  {
   "cell_type": "code",
   "execution_count": 16,
   "metadata": {
    "tags": []
   },
   "outputs": [
    {
     "data": {
      "text/html": [
       "<div>\n",
       "<style scoped>\n",
       "    .dataframe tbody tr th:only-of-type {\n",
       "        vertical-align: middle;\n",
       "    }\n",
       "\n",
       "    .dataframe tbody tr th {\n",
       "        vertical-align: top;\n",
       "    }\n",
       "\n",
       "    .dataframe thead th {\n",
       "        text-align: right;\n",
       "    }\n",
       "</style>\n",
       "<table border=\"1\" class=\"dataframe\">\n",
       "  <thead>\n",
       "    <tr style=\"text-align: right;\">\n",
       "      <th></th>\n",
       "      <th>accession</th>\n",
       "      <th>type</th>\n",
       "      <th>variant_group</th>\n",
       "      <th>variant</th>\n",
       "      <th>doublet</th>\n",
       "      <th>gi</th>\n",
       "      <th>ncbi_gene_id</th>\n",
       "      <th>hgnc_gene_name</th>\n",
       "      <th>taxonomy_id</th>\n",
       "      <th>organism</th>\n",
       "      <th>phylum</th>\n",
       "      <th>class</th>\n",
       "      <th>taxonomy_group</th>\n",
       "      <th>info</th>\n",
       "      <th>references</th>\n",
       "      <th>sequence</th>\n",
       "    </tr>\n",
       "  </thead>\n",
       "  <tbody>\n",
       "    <tr>\n",
       "      <th>XP_001521160.2</th>\n",
       "      <td>XP_001521160.2</td>\n",
       "      <td>H2B</td>\n",
       "      <td>H2B.O</td>\n",
       "      <td>H2B.O</td>\n",
       "      <td></td>\n",
       "      <td></td>\n",
       "      <td></td>\n",
       "      <td></td>\n",
       "      <td>9258</td>\n",
       "      <td>Ornithorhynchus anatinus</td>\n",
       "      <td>Chordata</td>\n",
       "      <td>Mammalia</td>\n",
       "      <td></td>\n",
       "      <td></td>\n",
       "      <td>35099534</td>\n",
       "      <td>WENYVYKVLKQVHPLTSISTKAVGIVDSFIDIFKRITSDASHLARY...</td>\n",
       "    </tr>\n",
       "    <tr>\n",
       "      <th>XP_001511074.1</th>\n",
       "      <td>XP_001511074.1</td>\n",
       "      <td>H2B</td>\n",
       "      <td>H2B.O</td>\n",
       "      <td>H2B.O</td>\n",
       "      <td></td>\n",
       "      <td></td>\n",
       "      <td></td>\n",
       "      <td></td>\n",
       "      <td>9258</td>\n",
       "      <td>Ornithorhynchus anatinus</td>\n",
       "      <td>Chordata</td>\n",
       "      <td>Mammalia</td>\n",
       "      <td></td>\n",
       "      <td></td>\n",
       "      <td>35099534</td>\n",
       "      <td>YSIYVYKVLKQVHPLTSISTKAVGIMDSFINDIFERIASEASRLAR...</td>\n",
       "    </tr>\n",
       "    <tr>\n",
       "      <th>XP_028926523.1</th>\n",
       "      <td>XP_028926523.1</td>\n",
       "      <td>H2B</td>\n",
       "      <td>H2B.O</td>\n",
       "      <td>H2B.O</td>\n",
       "      <td></td>\n",
       "      <td></td>\n",
       "      <td></td>\n",
       "      <td></td>\n",
       "      <td>9258</td>\n",
       "      <td>Ornithorhynchus anatinus</td>\n",
       "      <td>Chordata</td>\n",
       "      <td>Mammalia</td>\n",
       "      <td></td>\n",
       "      <td></td>\n",
       "      <td>35099534</td>\n",
       "      <td>YSIYVYKVLKQVHPLTSISTKAVGIMDSFINDIFDRIASEASRLAR...</td>\n",
       "    </tr>\n",
       "  </tbody>\n",
       "</table>\n",
       "</div>"
      ],
      "text/plain": [
       "                     accession type variant_group variant doublet gi  \\\n",
       "XP_001521160.2  XP_001521160.2  H2B         H2B.O   H2B.O              \n",
       "XP_001511074.1  XP_001511074.1  H2B         H2B.O   H2B.O              \n",
       "XP_028926523.1  XP_028926523.1  H2B         H2B.O   H2B.O              \n",
       "\n",
       "               ncbi_gene_id hgnc_gene_name taxonomy_id  \\\n",
       "XP_001521160.2                                    9258   \n",
       "XP_001511074.1                                    9258   \n",
       "XP_028926523.1                                    9258   \n",
       "\n",
       "                                organism    phylum     class taxonomy_group  \\\n",
       "XP_001521160.2  Ornithorhynchus anatinus  Chordata  Mammalia                  \n",
       "XP_001511074.1  Ornithorhynchus anatinus  Chordata  Mammalia                  \n",
       "XP_028926523.1  Ornithorhynchus anatinus  Chordata  Mammalia                  \n",
       "\n",
       "               info references  \\\n",
       "XP_001521160.2        35099534   \n",
       "XP_001511074.1        35099534   \n",
       "XP_028926523.1        35099534   \n",
       "\n",
       "                                                         sequence  \n",
       "XP_001521160.2  WENYVYKVLKQVHPLTSISTKAVGIVDSFIDIFKRITSDASHLARY...  \n",
       "XP_001511074.1  YSIYVYKVLKQVHPLTSISTKAVGIMDSFINDIFERIASEASRLAR...  \n",
       "XP_028926523.1  YSIYVYKVLKQVHPLTSISTKAVGIMDSFINDIFDRIASEASRLAR...  "
      ]
     },
     "execution_count": 16,
     "metadata": {},
     "output_type": "execute_result"
    }
   ],
   "source": [
    "cs.data[cs.data['variant']=='H2B.O']"
   ]
  },
  {
   "cell_type": "code",
   "execution_count": 17,
   "metadata": {},
   "outputs": [
    {
     "name": "stdout",
     "output_type": "stream",
     "text": [
      "Added sequence with accession XP_028926523.1\n",
      "Added sequence with accession XP_001511074.1\n",
      "Added sequence with accession XP_001521160.2\n",
      "cp histones.csv backups/histones.csv-Jul0423184814\n",
      "Previous data backuped to backups/histones.csv-Jul0423184814\n",
      "Results saved to histones.csv\n"
     ]
    }
   ],
   "source": [
    "cs.save()"
   ]
  },
  {
   "cell_type": "code",
   "execution_count": null,
   "metadata": {},
   "outputs": [],
   "source": []
  }
 ],
 "metadata": {
  "kernelspec": {
   "display_name": ".conda-histdb_env",
   "language": "python",
   "name": "conda-env-.conda-histdb_env-py"
  },
  "language_info": {
   "codemirror_mode": {
    "name": "ipython",
    "version": 3
   },
   "file_extension": ".py",
   "mimetype": "text/x-python",
   "name": "python",
   "nbconvert_exporter": "python",
   "pygments_lexer": "ipython3",
   "version": "3.8.1"
  }
 },
 "nbformat": 4,
 "nbformat_minor": 4
}
