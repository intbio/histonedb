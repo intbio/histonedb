{
 "cells": [
  {
   "cell_type": "code",
   "execution_count": 1,
   "metadata": {},
   "outputs": [],
   "source": [
    "import os, re, sys\n",
    "import pandas as pd\n",
    "\n",
    "from Bio import SeqIO, Entrez"
   ]
  },
  {
   "cell_type": "code",
   "execution_count": 23,
   "metadata": {},
   "outputs": [
    {
     "data": {
      "text/plain": [
       "SeqRecord(seq=Seq('MSGKKSHESSYQTQAHLITTELQVPVSYVDRLLQENQYNHPLSSSTTDFLLTML...RNG'), id='XP_002913536.1', name='XP_002913536', description='huntingtin-interacting protein M [Ailuropoda melanoleuca]', dbxrefs=['BioProject:PRJNA633539'])"
      ]
     },
     "execution_count": 23,
     "metadata": {},
     "output_type": "execute_result"
    }
   ],
   "source": [
    "handle= Entrez.efetch(db=\"protein\", id='XP_002913536.1', rettype=\"gb\", retmode=\"text\")\n",
    "data = list(SeqIO.parse(handle, \"gb\"))\n",
    "data[0]"
   ]
  },
  {
   "cell_type": "code",
   "execution_count": 7,
   "metadata": {},
   "outputs": [
    {
     "name": "stdout",
     "output_type": "stream",
     "text": [
      "ACCESSION XP_012928609.2\n",
      "['MFDVFGRDKGGKVLDKGRAKRHPKVLRGNIQGITKPAISRLARRSGVKRISGLICEETRGVLKVFRMETMIRDIVIYAEHAKRETVTAMDVVYTLKXQGRTLYGFGELSSCINREASQRFIRLLSVCSITHTKQAARKSTCGKTPRKQLATRAACKSXVKKPHRYRAGTEALREIRRYQKFTKLLIRKLPFQRLVREIAQDFKTDLRFQSSAVMALHEASEAYLVGLFEDTNLLLISSQLLAMSGRGKGGKGLGKGGAKRHRKVLRDNIQGITKPAIRRLARRGGVKRISGLIYEETRGVLKVFLENVIRDAVTYTEHAKRKTVTAMDVVYALKRQGRTLYGFGG']\n",
      "--------------------------------------------------------------------------------------------------------\n",
      "ACCESSION NP_001035891.1\n",
      "['MGPRRRSRKPEAPRRRSPSPTPTPGPSRRGPSLGASSHQHSRRRQGWLKEIRKLQKSTHLLIRKLPFSRLAAEAFLVHLFEDAYLLTLHAGRVTLFPKDVQLARRIRGLEEGLG']\n",
      "--------------------------------------------------------------------------------------------------------\n",
      "ACCESSION XP_002763866.2\n",
      "['MSERRSRRGSSAAGRRGHTRSRTARAELIFSVSKMERGLWEGHYAQRLSDNAPVYLAAVIQYLTAKILELAAKGADNRGERIITPRLLDMAVHNDGLLSTLFHAITISQVGPGPN']\n",
      "--------------------------------------------------------------------------------------------------------\n"
     ]
    }
   ],
   "source": [
    "for acc in ['XP_012928609.2', 'NP_001035891.1', 'XP_002763866.2']:\n",
    "    print(f\"ACCESSION {acc}\\n{cs.data.loc[cs.data['accession']==acc]['sequence'].values}\\n--------------------------------------------------------------------------------------------------------\")"
   ]
  },
  {
   "cell_type": "code",
   "execution_count": null,
   "metadata": {},
   "outputs": [],
   "source": []
  },
  {
   "cell_type": "code",
   "execution_count": 17,
   "metadata": {},
   "outputs": [
    {
     "data": {
      "text/html": [
       "<div>\n",
       "<style scoped>\n",
       "    .dataframe tbody tr th:only-of-type {\n",
       "        vertical-align: middle;\n",
       "    }\n",
       "\n",
       "    .dataframe tbody tr th {\n",
       "        vertical-align: top;\n",
       "    }\n",
       "\n",
       "    .dataframe thead th {\n",
       "        text-align: right;\n",
       "    }\n",
       "</style>\n",
       "<table border=\"1\" class=\"dataframe\">\n",
       "  <thead>\n",
       "    <tr style=\"text-align: right;\">\n",
       "      <th></th>\n",
       "      <th>A</th>\n",
       "      <th>B</th>\n",
       "      <th>C</th>\n",
       "    </tr>\n",
       "  </thead>\n",
       "  <tbody>\n",
       "    <tr>\n",
       "      <th>0</th>\n",
       "      <td>[1, 2, 3]</td>\n",
       "      <td>[1, 2, 3]</td>\n",
       "      <td>NaN</td>\n",
       "    </tr>\n",
       "  </tbody>\n",
       "</table>\n",
       "</div>"
      ],
      "text/plain": [
       "           A          B    C\n",
       "0  [1, 2, 3]  [1, 2, 3]  NaN"
      ]
     },
     "execution_count": 17,
     "metadata": {},
     "output_type": "execute_result"
    }
   ],
   "source": [
    "new_seqs = {'accession': [],\n",
    "            'type': [],\n",
    "            'variant_group': [],\n",
    "            'variant': [],\n",
    "            'doublet': [],\n",
    "            'references': [],\n",
    "            'sequence': []}\n",
    "# df = df.append({'A': [1,2,3], 'B': [1,2,3]}, ignore_index=True)"
   ]
  },
  {
   "cell_type": "code",
   "execution_count": 117,
   "metadata": {},
   "outputs": [
    {
     "data": {
      "text/plain": [
       "(120, 7)"
      ]
     },
     "execution_count": 117,
     "metadata": {},
     "output_type": "execute_result"
    }
   ],
   "source": [
    "df = pd.concat([pd.read_csv('viral_histones.csv').fillna(''), pd.read_csv('mag_histones.csv').fillna('')])\n",
    "df.shape"
   ]
  },
  {
   "cell_type": "code",
   "execution_count": 118,
   "metadata": {},
   "outputs": [
    {
     "data": {
      "text/html": [
       "<div>\n",
       "<style scoped>\n",
       "    .dataframe tbody tr th:only-of-type {\n",
       "        vertical-align: middle;\n",
       "    }\n",
       "\n",
       "    .dataframe tbody tr th {\n",
       "        vertical-align: top;\n",
       "    }\n",
       "\n",
       "    .dataframe thead th {\n",
       "        text-align: right;\n",
       "    }\n",
       "</style>\n",
       "<table border=\"1\" class=\"dataframe\">\n",
       "  <thead>\n",
       "    <tr style=\"text-align: right;\">\n",
       "      <th></th>\n",
       "      <th>accession</th>\n",
       "      <th>type</th>\n",
       "      <th>variant_group</th>\n",
       "      <th>variant</th>\n",
       "      <th>doublet</th>\n",
       "      <th>references</th>\n",
       "      <th>comment</th>\n",
       "    </tr>\n",
       "  </thead>\n",
       "  <tbody>\n",
       "    <tr>\n",
       "      <th>AAV98010</th>\n",
       "      <td>AAV98010.1</td>\n",
       "      <td>Viral_H4</td>\n",
       "      <td></td>\n",
       "      <td></td>\n",
       "      <td>singlet</td>\n",
       "      <td>35624484</td>\n",
       "      <td></td>\n",
       "    </tr>\n",
       "    <tr>\n",
       "      <th>YP_009665791</th>\n",
       "      <td>YP_009665791.1</td>\n",
       "      <td>Viral_H4</td>\n",
       "      <td></td>\n",
       "      <td></td>\n",
       "      <td>singlet</td>\n",
       "      <td>35624484</td>\n",
       "      <td></td>\n",
       "    </tr>\n",
       "    <tr>\n",
       "      <th>AGL91659</th>\n",
       "      <td>AGL91659.1</td>\n",
       "      <td>Viral_H4</td>\n",
       "      <td></td>\n",
       "      <td></td>\n",
       "      <td>singlet</td>\n",
       "      <td>35624484</td>\n",
       "      <td></td>\n",
       "    </tr>\n",
       "    <tr>\n",
       "      <th>AFN42307</th>\n",
       "      <td>AFN42307.1</td>\n",
       "      <td>Viral_H4</td>\n",
       "      <td></td>\n",
       "      <td></td>\n",
       "      <td>singlet</td>\n",
       "      <td>35624484</td>\n",
       "      <td></td>\n",
       "    </tr>\n",
       "    <tr>\n",
       "      <th>BCU02668</th>\n",
       "      <td>BCU02668.1</td>\n",
       "      <td>Viral_H2B</td>\n",
       "      <td></td>\n",
       "      <td></td>\n",
       "      <td>singlet</td>\n",
       "      <td>35624484</td>\n",
       "      <td></td>\n",
       "    </tr>\n",
       "  </tbody>\n",
       "</table>\n",
       "</div>"
      ],
      "text/plain": [
       "                   accession       type variant_group variant  doublet  \\\n",
       "AAV98010          AAV98010.1   Viral_H4                        singlet   \n",
       "YP_009665791  YP_009665791.1   Viral_H4                        singlet   \n",
       "AGL91659          AGL91659.1   Viral_H4                        singlet   \n",
       "AFN42307          AFN42307.1   Viral_H4                        singlet   \n",
       "BCU02668          BCU02668.1  Viral_H2B                        singlet   \n",
       "\n",
       "             references comment  \n",
       "AAV98010       35624484          \n",
       "YP_009665791   35624484          \n",
       "AGL91659       35624484          \n",
       "AFN42307       35624484          \n",
       "BCU02668       35624484          "
      ]
     },
     "execution_count": 118,
     "metadata": {},
     "output_type": "execute_result"
    }
   ],
   "source": [
    "df.index = list(map(lambda x: str(x).split('.')[0], df.accession))\n",
    "df.head()"
   ]
  },
  {
   "cell_type": "code",
   "execution_count": 73,
   "metadata": {
    "collapsed": true,
    "jupyter": {
     "outputs_hidden": true
    },
    "tags": []
   },
   "outputs": [
    {
     "name": "stderr",
     "output_type": "stream",
     "text": [
      "/home/l_singh/.conda/envs/histdb_env/lib/python3.8/site-packages/Bio/Entrez/__init__.py:658: UserWarning: \n",
      "Email address is not specified.\n",
      "\n",
      "To make use of NCBI's E-utilities, NCBI requires you to specify your\n",
      "email address with each request.  As an example, if your email address\n",
      "is A.N.Other@example.com, you can specify it as follows:\n",
      "   from Bio import Entrez\n",
      "   Entrez.email = 'A.N.Other@example.com'\n",
      "In case of excessive usage of the E-utilities, NCBI will attempt to contact\n",
      "a user at the email address provided before blocking access to the\n",
      "E-utilities.\n",
      "  warnings.warn(\n"
     ]
    }
   ],
   "source": [
    "handle= Entrez.efetch(db=\"protein\", id=','.join(df['accession']), rettype=\"gb\", retmode=\"text\")\n",
    "data = list(SeqIO.parse(handle, \"gb\"))"
   ]
  },
  {
   "cell_type": "code",
   "execution_count": 21,
   "metadata": {
    "collapsed": true,
    "jupyter": {
     "outputs_hidden": true
    },
    "tags": []
   },
   "outputs": [
    {
     "name": "stdout",
     "output_type": "stream",
     "text": [
      "AAV98010.1: Cotesia plutellae polydnavirus, 256130\n",
      "YP_009665791.1: Bracoviriform glomeratae, 257816\n",
      "AGL91659.1: Cotesia sesamiae bracovirus, 452647\n",
      "AFN42307.1: Cotesia sesamiae Mombasa bracovirus, 452649\n",
      "BCU02668.1: Pandoravirus japonicus, 2823154\n",
      "YP_008319525.2: Pandoravirus dulcis, 1349409\n",
      "YP_009483470.1: Pandoravirus quercus, 2107709\n",
      "QBZ81372.1: Pandoravirus celtis, 2568002\n",
      "YP_008437980.1: Pandoravirus salinus, 1349410\n",
      "YP_009481299.1: Pandoravirus macleodensis, 2107707\n",
      "YP_009482227.1: Pandoravirus neocaledonia, 2107708\n",
      "YP_009119582.1: Pandoravirus inopinatum, 1605721\n",
      "DAC81234.1: Manila clam xenomavirus, 2707311\n",
      "YP_009465730.1: Dishui lake phycodnavirus 1, 2079134\n",
      "YP_009046636.1: Armadillidium vulgare iridescent virus, 72201\n",
      "AAN04299.1: Heliothis zea nudivirus 1, 3116536\n",
      "YP_004956749.1: Helicoverpa zea nudivirus 2, 1128424\n",
      "YP_003407138.1: Marseillevirus marseillevirus, 694581\n",
      "YP_003407137.1: Marseillevirus marseillevirus, 694581\n",
      "YP_003406909.1: Marseillevirus marseillevirus, 694581\n",
      "YP_009094870.1: Melbournevirus, 1560514\n",
      "YP_009094869.1: Melbournevirus, 1560514\n",
      "YP_009094650.1: Melbournevirus, 1560514\n",
      "AGV01788.1: Cannes 8 virus, 1394979\n",
      "AGV01787.1: Cannes 8 virus, 1394979\n",
      "AGV01521.1: Cannes 8 virus, 1394979\n",
      "YP_009254841.1: Tokyovirus A1, 1826170\n",
      "YP_009254842.1: Tokyovirus A1, 1826170\n",
      "YP_009254950.1: Tokyovirus A1, 1826170\n",
      "YP_004347348.1: Lausannevirus, 999883\n",
      "YP_004347349.1: Lausannevirus, 999883\n",
      "YP_004347019.1: Lausannevirus, 999883\n",
      "ALH07047.1: Port-miou virus, 1733873\n",
      "ALH07048.1: Port-miou virus, 1733873\n",
      "ALH06745.1: Port-miou virus, 1733873\n",
      "AQQ73805.1: Kurlavirus BKC-1, 1958810\n",
      "AQQ73806.1: Kurlavirus BKC-1, 1958810\n",
      "AQQ73899.1: Kurlavirus BKC-1, 1958810\n",
      "YP_009345224.1: Noumeavirus, 1955558\n",
      "YP_009345223.1: Noumeavirus, 1955558\n",
      "YP_009345564.1: Noumeavirus, 1955558\n",
      "YP_009507074.1: Tunisvirus fontaine2, 1421067\n",
      "YP_009507075.1: Tunisvirus fontaine2, 1421067\n",
      "YP_009506807.1: Tunisvirus fontaine2, 1421067\n",
      "AHA45913.1: Insectomime virus, 1370065\n",
      "AHA45912.1: Insectomime virus, 1370065\n",
      "AHA46167.1: Insectomime virus, 1370065\n",
      "YP_009238942.1: Brazilian marseillevirus, 1813599\n",
      "YP_009238943.1: Brazilian marseillevirus, 1813599\n",
      "YP_009238664.1: Brazilian marseillevirus, 1813599\n",
      "YP_004732864.1: Wiseana iridescent virus, 68347\n",
      "YP_008357430.1: Invertebrate iridescent virus 22, 345198\n",
      "YP_009010674.1: Invertebrate iridovirus 25, 1301280\n",
      "CCV02330.1: Invertebrate iridescent virus 30, 345585\n",
      "YP_009021202.1: Anopheles minimus iridovirus, 1465751\n",
      "BBI30394.1: Acanthamoeba castellanii medusavirus J1, 3114988\n",
      "BBI30395.1: Acanthamoeba castellanii medusavirus J1, 3114988\n",
      "BBI30201.1: Acanthamoeba castellanii medusavirus J1, 3114988\n",
      "BBI30458.1: Acanthamoeba castellanii medusavirus J1, 3114988\n",
      "BBI30246.1: Acanthamoeba castellanii medusavirus J1, 3114988\n",
      "QPB44421.1: Medusavirus stheno T3, 3069717\n",
      "QPB44246.1: Medusavirus stheno T3, 3069717\n",
      "QPB44482.1: Medusavirus stheno T3, 3069717\n",
      "QYA18737.1: Clandestinovirus, 2831644\n",
      "QYA18687.1: Clandestinovirus, 2831644\n",
      "QYA18726.1: Clandestinovirus, 2831644\n",
      "QYA18369.1: Clandestinovirus, 2831644\n",
      "AYV87056.1: Sylvanvirus sp., 2487774\n",
      "QBK85672.1: Marseillevirus LCMAC101, 2506602\n",
      "QBK85671.1: Marseillevirus LCMAC101, 2506602\n",
      "QBK85837.1: Marseillevirus LCMAC101, 2506602\n",
      "QBK85747.1: Marseillevirus LCMAC101, 2506602\n",
      "QBK86460.1: Marseillevirus LCMAC102, 2506603\n",
      "QBK86552.1: Marseillevirus LCMAC102, 2506603\n",
      "QBK86551.1: Marseillevirus LCMAC102, 2506603\n",
      "QBK87604.1: Marseillevirus LCMAC201, 2506605\n",
      "QBK88134.1: Marseillevirus LCMAC202, 2506606\n",
      "QBK89657.1: Pithovirus LCPAC001, 2506585\n",
      "QBK90105.1: Pithovirus LCPAC102, 2506587\n",
      "QBK91701.1: Pithovirus LCPAC304, 2506594\n",
      "QBK91785.1: Pithovirus LCPAC304, 2506594\n",
      "QBK91702.1: Pithovirus LCPAC304, 2506594\n",
      "QBK91784.1: Pithovirus LCPAC304, 2506594\n",
      "QBK92361.1: Pithovirus LCPAC304, 2506594\n",
      "QBK91898.1: Pithovirus LCPAC304, 2506594\n",
      "ARF09917.1: Indivirus ILV1, 1977633\n",
      "ARF11920.1: Klosneuvirus KNV1, 1977640\n"
     ]
    }
   ],
   "source": [
    "for d in data:\n",
    "    print(f\"{d.id}: {d.features[0].qualifiers['organism'][0]}, {d.features[0].qualifiers['db_xref'][0].split(':')[1]}\")"
   ]
  },
  {
   "cell_type": "code",
   "execution_count": 119,
   "metadata": {},
   "outputs": [
    {
     "data": {
      "text/html": [
       "<div>\n",
       "<style scoped>\n",
       "    .dataframe tbody tr th:only-of-type {\n",
       "        vertical-align: middle;\n",
       "    }\n",
       "\n",
       "    .dataframe tbody tr th {\n",
       "        vertical-align: top;\n",
       "    }\n",
       "\n",
       "    .dataframe thead th {\n",
       "        text-align: right;\n",
       "    }\n",
       "</style>\n",
       "<table border=\"1\" class=\"dataframe\">\n",
       "  <thead>\n",
       "    <tr style=\"text-align: right;\">\n",
       "      <th></th>\n",
       "      <th>accession</th>\n",
       "      <th>type</th>\n",
       "      <th>variant_group</th>\n",
       "      <th>variant</th>\n",
       "      <th>doublet</th>\n",
       "      <th>references</th>\n",
       "      <th>comment</th>\n",
       "      <th>taxid</th>\n",
       "      <th>organism</th>\n",
       "    </tr>\n",
       "  </thead>\n",
       "  <tbody>\n",
       "    <tr>\n",
       "      <th>AAV98010</th>\n",
       "      <td>AAV98010.1</td>\n",
       "      <td>Viral_H4</td>\n",
       "      <td></td>\n",
       "      <td></td>\n",
       "      <td>singlet</td>\n",
       "      <td>35624484</td>\n",
       "      <td></td>\n",
       "      <td>256130</td>\n",
       "      <td>Cotesia plutellae polydnavirus</td>\n",
       "    </tr>\n",
       "    <tr>\n",
       "      <th>YP_009665791</th>\n",
       "      <td>YP_009665791.1</td>\n",
       "      <td>Viral_H4</td>\n",
       "      <td></td>\n",
       "      <td></td>\n",
       "      <td>singlet</td>\n",
       "      <td>35624484</td>\n",
       "      <td></td>\n",
       "      <td>257816</td>\n",
       "      <td>Bracoviriform glomeratae</td>\n",
       "    </tr>\n",
       "    <tr>\n",
       "      <th>AGL91659</th>\n",
       "      <td>AGL91659.1</td>\n",
       "      <td>Viral_H4</td>\n",
       "      <td></td>\n",
       "      <td></td>\n",
       "      <td>singlet</td>\n",
       "      <td>35624484</td>\n",
       "      <td></td>\n",
       "      <td>452647</td>\n",
       "      <td>Cotesia sesamiae bracovirus</td>\n",
       "    </tr>\n",
       "    <tr>\n",
       "      <th>AFN42307</th>\n",
       "      <td>AFN42307.1</td>\n",
       "      <td>Viral_H4</td>\n",
       "      <td></td>\n",
       "      <td></td>\n",
       "      <td>singlet</td>\n",
       "      <td>35624484</td>\n",
       "      <td></td>\n",
       "      <td>452649</td>\n",
       "      <td>Cotesia sesamiae Mombasa bracovirus</td>\n",
       "    </tr>\n",
       "    <tr>\n",
       "      <th>BCU02668</th>\n",
       "      <td>BCU02668.1</td>\n",
       "      <td>Viral_H2B</td>\n",
       "      <td></td>\n",
       "      <td></td>\n",
       "      <td>singlet</td>\n",
       "      <td>35624484</td>\n",
       "      <td></td>\n",
       "      <td>2823154</td>\n",
       "      <td>Pandoravirus japonicus</td>\n",
       "    </tr>\n",
       "  </tbody>\n",
       "</table>\n",
       "</div>"
      ],
      "text/plain": [
       "                   accession       type variant_group variant  doublet  \\\n",
       "AAV98010          AAV98010.1   Viral_H4                        singlet   \n",
       "YP_009665791  YP_009665791.1   Viral_H4                        singlet   \n",
       "AGL91659          AGL91659.1   Viral_H4                        singlet   \n",
       "AFN42307          AFN42307.1   Viral_H4                        singlet   \n",
       "BCU02668          BCU02668.1  Viral_H2B                        singlet   \n",
       "\n",
       "             references comment    taxid                             organism  \n",
       "AAV98010       35624484           256130       Cotesia plutellae polydnavirus  \n",
       "YP_009665791   35624484           257816             Bracoviriform glomeratae  \n",
       "AGL91659       35624484           452647          Cotesia sesamiae bracovirus  \n",
       "AFN42307       35624484           452649  Cotesia sesamiae Mombasa bracovirus  \n",
       "BCU02668       35624484          2823154               Pandoravirus japonicus  "
      ]
     },
     "execution_count": 119,
     "metadata": {},
     "output_type": "execute_result"
    }
   ],
   "source": [
    "organisms = []\n",
    "for d in data:\n",
    "    df.at[d.id.split('.')[0], 'taxid'] = d.features[0].qualifiers['db_xref'][0].split(':')[1]\n",
    "    df.at[d.id.split('.')[0], 'organism'] = d.features[0].qualifiers['organism'][0]\n",
    "df.head()"
   ]
  },
  {
   "cell_type": "code",
   "execution_count": 120,
   "metadata": {},
   "outputs": [
    {
     "data": {
      "text/html": [
       "<div>\n",
       "<style scoped>\n",
       "    .dataframe tbody tr th:only-of-type {\n",
       "        vertical-align: middle;\n",
       "    }\n",
       "\n",
       "    .dataframe tbody tr th {\n",
       "        vertical-align: top;\n",
       "    }\n",
       "\n",
       "    .dataframe thead th {\n",
       "        text-align: right;\n",
       "    }\n",
       "</style>\n",
       "<table border=\"1\" class=\"dataframe\">\n",
       "  <thead>\n",
       "    <tr style=\"text-align: right;\">\n",
       "      <th></th>\n",
       "      <th>accession</th>\n",
       "      <th>type</th>\n",
       "      <th>variant_group</th>\n",
       "      <th>variant</th>\n",
       "      <th>doublet</th>\n",
       "      <th>references</th>\n",
       "      <th>comment</th>\n",
       "      <th>taxid</th>\n",
       "      <th>organism</th>\n",
       "    </tr>\n",
       "  </thead>\n",
       "  <tbody>\n",
       "    <tr>\n",
       "      <th>contig_2859_48</th>\n",
       "      <td>contig_2859_48</td>\n",
       "      <td>MAG_other + (H2B?) + H2A</td>\n",
       "      <td></td>\n",
       "      <td></td>\n",
       "      <td>doublet</td>\n",
       "      <td>35624484 22891861</td>\n",
       "      <td></td>\n",
       "      <td>NaN</td>\n",
       "      <td>NaN</td>\n",
       "    </tr>\n",
       "    <tr>\n",
       "      <th>contig_44073_13</th>\n",
       "      <td>contig_44073_13</td>\n",
       "      <td>MAG_(HFD? + H2B? )+ H2A</td>\n",
       "      <td></td>\n",
       "      <td></td>\n",
       "      <td>doublet</td>\n",
       "      <td>35624484 22891861</td>\n",
       "      <td></td>\n",
       "      <td>NaN</td>\n",
       "      <td>NaN</td>\n",
       "    </tr>\n",
       "    <tr>\n",
       "      <th>ARF09917</th>\n",
       "      <td>ARF09917.1</td>\n",
       "      <td>MAG_H2A-H2B</td>\n",
       "      <td></td>\n",
       "      <td></td>\n",
       "      <td>doublet</td>\n",
       "      <td>35624484 16494962</td>\n",
       "      <td></td>\n",
       "      <td>1977633</td>\n",
       "      <td>Indivirus ILV1</td>\n",
       "    </tr>\n",
       "    <tr>\n",
       "      <th>ARF11920</th>\n",
       "      <td>ARF11920.1</td>\n",
       "      <td>MAG_H2A-H2B</td>\n",
       "      <td></td>\n",
       "      <td></td>\n",
       "      <td>doublet</td>\n",
       "      <td>35624484 16494962</td>\n",
       "      <td></td>\n",
       "      <td>1977640</td>\n",
       "      <td>Klosneuvirus KNV1</td>\n",
       "    </tr>\n",
       "    <tr>\n",
       "      <th></th>\n",
       "      <td></td>\n",
       "      <td></td>\n",
       "      <td></td>\n",
       "      <td></td>\n",
       "      <td></td>\n",
       "      <td></td>\n",
       "      <td></td>\n",
       "      <td>NaN</td>\n",
       "      <td>NaN</td>\n",
       "    </tr>\n",
       "  </tbody>\n",
       "</table>\n",
       "</div>"
      ],
      "text/plain": [
       "                       accession                      type variant_group  \\\n",
       "contig_2859_48    contig_2859_48  MAG_other + (H2B?) + H2A                 \n",
       "contig_44073_13  contig_44073_13   MAG_(HFD? + H2B? )+ H2A                 \n",
       "ARF09917              ARF09917.1               MAG_H2A-H2B                 \n",
       "ARF11920              ARF11920.1               MAG_H2A-H2B                 \n",
       "                                                                           \n",
       "\n",
       "                variant  doublet         references comment    taxid  \\\n",
       "contig_2859_48           doublet  35624484 22891861              NaN   \n",
       "contig_44073_13          doublet  35624484 22891861              NaN   \n",
       "ARF09917                 doublet  35624484 16494962          1977633   \n",
       "ARF11920                 doublet  35624484 16494962          1977640   \n",
       "                                                                 NaN   \n",
       "\n",
       "                          organism  \n",
       "contig_2859_48                 NaN  \n",
       "contig_44073_13                NaN  \n",
       "ARF09917            Indivirus ILV1  \n",
       "ARF11920         Klosneuvirus KNV1  \n",
       "                               NaN  "
      ]
     },
     "execution_count": 120,
     "metadata": {},
     "output_type": "execute_result"
    }
   ],
   "source": [
    "df.tail()"
   ]
  },
  {
   "cell_type": "code",
   "execution_count": 121,
   "metadata": {
    "tags": []
   },
   "outputs": [],
   "source": [
    "df = df[~df['accession'].str.startswith('contig')]\n",
    "# i = 0\n",
    "# for df_index in df.index:\n",
    "#     if df_index.startswith('contig'):\n",
    "#         df.at[df_index, 'accession'] = f'HISTDB_viral_{i}'\n",
    "#         i+=1\n",
    "# df.index = list(map(lambda x: str(x).split('.')[0], df.accession))\n",
    "# df.head()"
   ]
  },
  {
   "cell_type": "code",
   "execution_count": 122,
   "metadata": {
    "tags": []
   },
   "outputs": [
    {
     "data": {
      "text/html": [
       "<div>\n",
       "<style scoped>\n",
       "    .dataframe tbody tr th:only-of-type {\n",
       "        vertical-align: middle;\n",
       "    }\n",
       "\n",
       "    .dataframe tbody tr th {\n",
       "        vertical-align: top;\n",
       "    }\n",
       "\n",
       "    .dataframe thead th {\n",
       "        text-align: right;\n",
       "    }\n",
       "</style>\n",
       "<table border=\"1\" class=\"dataframe\">\n",
       "  <thead>\n",
       "    <tr style=\"text-align: right;\">\n",
       "      <th></th>\n",
       "      <th>accession</th>\n",
       "      <th>type</th>\n",
       "      <th>variant_group</th>\n",
       "      <th>variant</th>\n",
       "      <th>doublet</th>\n",
       "      <th>references</th>\n",
       "      <th>comment</th>\n",
       "      <th>taxid</th>\n",
       "      <th>organism</th>\n",
       "    </tr>\n",
       "  </thead>\n",
       "  <tbody>\n",
       "    <tr>\n",
       "      <th>QBK92361</th>\n",
       "      <td>QBK92361.1</td>\n",
       "      <td>MAG_H4</td>\n",
       "      <td></td>\n",
       "      <td></td>\n",
       "      <td>singlet</td>\n",
       "      <td>35624484 20551688</td>\n",
       "      <td></td>\n",
       "      <td>2506594</td>\n",
       "      <td>Pithovirus LCPAC304</td>\n",
       "    </tr>\n",
       "    <tr>\n",
       "      <th>QBK91898</th>\n",
       "      <td>QBK91898.1</td>\n",
       "      <td>MAG_H1 + WWE</td>\n",
       "      <td></td>\n",
       "      <td></td>\n",
       "      <td>singlet</td>\n",
       "      <td>35624484 20551688</td>\n",
       "      <td>Contains a WWE-domain, a protein interaction d...</td>\n",
       "      <td>2506594</td>\n",
       "      <td>Pithovirus LCPAC304</td>\n",
       "    </tr>\n",
       "    <tr>\n",
       "      <th>ARF09917</th>\n",
       "      <td>ARF09917.1</td>\n",
       "      <td>MAG_H2A-H2B</td>\n",
       "      <td></td>\n",
       "      <td></td>\n",
       "      <td>doublet</td>\n",
       "      <td>35624484 16494962</td>\n",
       "      <td></td>\n",
       "      <td>1977633</td>\n",
       "      <td>Indivirus ILV1</td>\n",
       "    </tr>\n",
       "    <tr>\n",
       "      <th>ARF11920</th>\n",
       "      <td>ARF11920.1</td>\n",
       "      <td>MAG_H2A-H2B</td>\n",
       "      <td></td>\n",
       "      <td></td>\n",
       "      <td>doublet</td>\n",
       "      <td>35624484 16494962</td>\n",
       "      <td></td>\n",
       "      <td>1977640</td>\n",
       "      <td>Klosneuvirus KNV1</td>\n",
       "    </tr>\n",
       "    <tr>\n",
       "      <th></th>\n",
       "      <td></td>\n",
       "      <td></td>\n",
       "      <td></td>\n",
       "      <td></td>\n",
       "      <td></td>\n",
       "      <td></td>\n",
       "      <td></td>\n",
       "      <td>NaN</td>\n",
       "      <td>NaN</td>\n",
       "    </tr>\n",
       "  </tbody>\n",
       "</table>\n",
       "</div>"
      ],
      "text/plain": [
       "           accession          type variant_group variant  doublet  \\\n",
       "QBK92361  QBK92361.1        MAG_H4                        singlet   \n",
       "QBK91898  QBK91898.1  MAG_H1 + WWE                        singlet   \n",
       "ARF09917  ARF09917.1   MAG_H2A-H2B                        doublet   \n",
       "ARF11920  ARF11920.1   MAG_H2A-H2B                        doublet   \n",
       "                                                                    \n",
       "\n",
       "                 references  \\\n",
       "QBK92361  35624484 20551688   \n",
       "QBK91898  35624484 20551688   \n",
       "ARF09917  35624484 16494962   \n",
       "ARF11920  35624484 16494962   \n",
       "                              \n",
       "\n",
       "                                                    comment    taxid  \\\n",
       "QBK92361                                                     2506594   \n",
       "QBK91898  Contains a WWE-domain, a protein interaction d...  2506594   \n",
       "ARF09917                                                     1977633   \n",
       "ARF11920                                                     1977640   \n",
       "                                                                 NaN   \n",
       "\n",
       "                     organism  \n",
       "QBK92361  Pithovirus LCPAC304  \n",
       "QBK91898  Pithovirus LCPAC304  \n",
       "ARF09917       Indivirus ILV1  \n",
       "ARF11920    Klosneuvirus KNV1  \n",
       "                          NaN  "
      ]
     },
     "execution_count": 122,
     "metadata": {},
     "output_type": "execute_result"
    }
   ],
   "source": [
    "df.tail()"
   ]
  },
  {
   "cell_type": "code",
   "execution_count": 123,
   "metadata": {
    "tags": []
   },
   "outputs": [],
   "source": [
    "replace_dict = {\n",
    "    'Viral_Hb-Ha': 'Viral_H2B-H2A',\n",
    "    'Viral_Hd-Hg': 'Viral_H4-H3',\n",
    "    'Viral_Hz-He': 'Viral_miniH2B-H2A',\n",
    "}\n",
    "df.type = df.type.replace(replace_dict)"
   ]
  },
  {
   "cell_type": "code",
   "execution_count": 124,
   "metadata": {
    "tags": []
   },
   "outputs": [],
   "source": [
    "df.at['QYA18369', 'type'] = 'Viral_H1'\n",
    "df.at['QBK91898', 'type'] = 'Viral_H1'"
   ]
  },
  {
   "cell_type": "code",
   "execution_count": 125,
   "metadata": {
    "tags": []
   },
   "outputs": [],
   "source": [
    "df.type = [t.replace('MAG', 'Viral').replace('+', '-') for t in df.type]"
   ]
  },
  {
   "cell_type": "code",
   "execution_count": 130,
   "metadata": {},
   "outputs": [],
   "source": [
    "df.at['KT835053', 'comment'] = ''"
   ]
  },
  {
   "cell_type": "code",
   "execution_count": 131,
   "metadata": {
    "tags": []
   },
   "outputs": [
    {
     "data": {
      "text/plain": [
       "{'',\n",
       " 'Viral_H1',\n",
       " 'Viral_H1-other',\n",
       " 'Viral_H2A',\n",
       " 'Viral_H2A-H2B',\n",
       " 'Viral_H2B',\n",
       " 'Viral_H2B-H2A',\n",
       " 'Viral_H2B-H2A-H3',\n",
       " 'Viral_H2B-H2A-H3-H4',\n",
       " 'Viral_H2B-H2A-other',\n",
       " 'Viral_H3',\n",
       " 'Viral_H3-H4',\n",
       " 'Viral_H4',\n",
       " 'Viral_H4-H3',\n",
       " 'Viral_miniH2B-H2A',\n",
       " 'Viral_other-H4-H3'}"
      ]
     },
     "execution_count": 131,
     "metadata": {},
     "output_type": "execute_result"
    }
   ],
   "source": [
    "set(df.type)"
   ]
  },
  {
   "cell_type": "code",
   "execution_count": 132,
   "metadata": {
    "tags": []
   },
   "outputs": [
    {
     "data": {
      "text/plain": [
       "{'', 35624484, '35624484 16494962', '35624484 20551688', '35624484 25150594'}"
      ]
     },
     "execution_count": 132,
     "metadata": {},
     "output_type": "execute_result"
    }
   ],
   "source": [
    "set(df.references)"
   ]
  },
  {
   "cell_type": "code",
   "execution_count": 133,
   "metadata": {
    "tags": []
   },
   "outputs": [
    {
     "data": {
      "text/plain": [
       "{'',\n",
       " 'Contains a WWE-domain, a protein interaction domain that is associated with enzymes in ubiquitin and ADP-ribose conjugation systems'}"
      ]
     },
     "execution_count": 133,
     "metadata": {},
     "output_type": "execute_result"
    }
   ],
   "source": [
    "set(df.comment)"
   ]
  },
  {
   "cell_type": "code",
   "execution_count": 135,
   "metadata": {
    "tags": []
   },
   "outputs": [
    {
     "data": {
      "text/plain": [
       "Index(['accession', 'type', 'variant_group', 'variant', 'doublet',\n",
       "       'references', 'comment', 'taxid', 'organism'],\n",
       "      dtype='object')"
      ]
     },
     "execution_count": 135,
     "metadata": {},
     "output_type": "execute_result"
    }
   ],
   "source": [
    "df.columns"
   ]
  },
  {
   "cell_type": "code",
   "execution_count": 136,
   "metadata": {
    "tags": []
   },
   "outputs": [],
   "source": [
    "df = df[['accession', 'type', 'variant_group', 'variant', 'doublet', 'taxid', 'organism', 'references', 'comment']]\n",
    "df.to_csv('viral_histones_all.csv', index=False)"
   ]
  },
  {
   "cell_type": "code",
   "execution_count": null,
   "metadata": {},
   "outputs": [],
   "source": []
  }
 ],
 "metadata": {
  "kernelspec": {
   "display_name": ".conda-histdb_env",
   "language": "python",
   "name": "conda-env-.conda-histdb_env-py"
  },
  "language_info": {
   "codemirror_mode": {
    "name": "ipython",
    "version": 3
   },
   "file_extension": ".py",
   "mimetype": "text/x-python",
   "name": "python",
   "nbconvert_exporter": "python",
   "pygments_lexer": "ipython3",
   "version": "3.8.1"
  }
 },
 "nbformat": 4,
 "nbformat_minor": 4
}
