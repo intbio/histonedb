{
 "cells": [
  {
   "cell_type": "code",
   "execution_count": 1,
   "id": "48c150f3-4e44-40a0-8160-70d02cf16822",
   "metadata": {
    "tags": []
   },
   "outputs": [
    {
     "name": "stdout",
     "output_type": "stream",
     "text": [
      "/mnt/scratch/l_singh/hdb/project_dir/histonedb/CURATED_SET\n"
     ]
    }
   ],
   "source": [
    "%cd '..'"
   ]
  },
  {
   "cell_type": "code",
   "execution_count": 2,
   "id": "34087a35-249d-414a-869d-d4431f9a4f33",
   "metadata": {
    "tags": []
   },
   "outputs": [],
   "source": [
    "import pandas as pd\n",
    "from Bio import Entrez, SeqIO\n",
    "from curated_set_services import CuratedSet"
   ]
  },
  {
   "cell_type": "code",
   "execution_count": 3,
   "id": "4fd7e5d1-a80c-4a76-99e6-f3672c02f6bc",
   "metadata": {
    "tags": []
   },
   "outputs": [],
   "source": [
    "from Bio import Entrez, SeqIO\n",
    "\n",
    "Entrez.email = \"test@test.com\""
   ]
  },
  {
   "cell_type": "code",
   "execution_count": 4,
   "id": "4d237eb9-d580-4949-bde7-7cd87cc2860c",
   "metadata": {
    "tags": []
   },
   "outputs": [
    {
     "data": {
      "text/plain": [
       "((568, 16),\n",
       " Index(['accession', 'type', 'variant_group', 'variant', 'doublet', 'gi',\n",
       "        'ncbi_gene_id', 'hgnc_gene_name', 'taxonomy_id', 'organism', 'phylum',\n",
       "        'class', 'taxonomy_group', 'info', 'references', 'sequence'],\n",
       "       dtype='object'))"
      ]
     },
     "execution_count": 4,
     "metadata": {},
     "output_type": "execute_result"
    }
   ],
   "source": [
    "curated_set = CuratedSet()\n",
    "cs = curated_set\n",
    "\n",
    "cs.data.shape, cs.data.columns"
   ]
  },
  {
   "cell_type": "code",
   "execution_count": 5,
   "id": "7e58b0ab-379f-4c35-99f8-81dea22ff413",
   "metadata": {
    "tags": []
   },
   "outputs": [],
   "source": [
    "lst = [line for line in cs.data[\"accession\"].to_list() if not \"HISTDB\" in line]"
   ]
  },
  {
   "cell_type": "code",
   "execution_count": 6,
   "id": "d4791983-9647-4a40-b4af-b5cbfae5b42d",
   "metadata": {
    "tags": []
   },
   "outputs": [
    {
     "data": {
      "text/plain": [
       "523"
      ]
     },
     "execution_count": 6,
     "metadata": {},
     "output_type": "execute_result"
    }
   ],
   "source": [
    "len(lst)"
   ]
  },
  {
   "cell_type": "code",
   "execution_count": 7,
   "id": "74febaae-2309-4a02-8f69-2a0fa0afc173",
   "metadata": {
    "tags": []
   },
   "outputs": [],
   "source": [
    "not_list = [line for line in cs.data[\"accession\"].tolist() if \"HISTDB\" in line]\n",
    "sup_dict = dict()\n",
    "for acsn in not_list:\n",
    "    sup_dict[acsn] = \"\""
   ]
  },
  {
   "cell_type": "code",
   "execution_count": 8,
   "id": "8d253aab-350a-4c25-a394-63e33b793743",
   "metadata": {
    "tags": []
   },
   "outputs": [
    {
     "data": {
      "text/plain": [
       "45"
      ]
     },
     "execution_count": 8,
     "metadata": {},
     "output_type": "execute_result"
    }
   ],
   "source": [
    "len(not_list)"
   ]
  },
  {
   "cell_type": "code",
   "execution_count": 9,
   "id": "527b1f0b-ffbf-4617-baff-0c2821be086c",
   "metadata": {
    "tags": []
   },
   "outputs": [
    {
     "data": {
      "text/plain": [
       "45"
      ]
     },
     "execution_count": 9,
     "metadata": {},
     "output_type": "execute_result"
    }
   ],
   "source": [
    "len(sup_dict)"
   ]
  },
  {
   "cell_type": "code",
   "execution_count": 14,
   "id": "b176ac96-99dc-41cf-bac3-7d6c68839ec6",
   "metadata": {
    "tags": []
   },
   "outputs": [],
   "source": [
    "def Function(my_list):\n",
    "    res_dict = dict()\n",
    "    for acc in my_list:\n",
    "        handle = Entrez.efetch(db=\"protein\", id=acc, rettype=\"gb\", retmode=\"text\")\n",
    "        record = SeqIO.read(handle, \"genbank\")\n",
    "        print(f'Gb data for {acc}')\n",
    "        for feature in record.features:\n",
    "            if feature.type == \"CDS\":\n",
    "                if \"db_xref\" in feature.qualifiers:\n",
    "                    L = [\n",
    "                        line\n",
    "                        for line in feature.qualifiers[\"db_xref\"]\n",
    "                        if \"GeneID\" in line\n",
    "                    ]\n",
    "                    if L:\n",
    "                        for i in L:\n",
    "                            res_dict[acc] = i.split(\":\")[1]\n",
    "                    else:\n",
    "                        res_dict[acc] = \"\"\n",
    "                        \n",
    "                else:\n",
    "                    res_dict[acc] = \"\"\n",
    "    return res_dict"
   ]
  },
  {
   "cell_type": "code",
   "execution_count": 17,
   "id": "2dea668a-5fda-44b4-afd1-07e401102e3e",
   "metadata": {
    "collapsed": true,
    "jupyter": {
     "outputs_hidden": true
    },
    "tags": []
   },
   "outputs": [
    {
     "name": "stdout",
     "output_type": "stream",
     "text": [
      "Gb data for NP_505463.1\n",
      "Gb data for EEC09557.1\n",
      "Gb data for NP_724343.1\n",
      "Gb data for XP_001119899.1\n",
      "Gb data for EDO48405.1\n",
      "Gb data for XP_009296490.1\n",
      "Gb data for NP_001087948.1\n",
      "Gb data for NP_001072943.1\n",
      "Gb data for XP_008992112.1\n",
      "Gb data for NP_001180653.1\n",
      "Gb data for XP_009448979.1\n",
      "Gb data for XP_005640150.1\n",
      "Gb data for XP_011215280.1\n",
      "Gb data for XP_003422330.1\n",
      "Gb data for XP_003356618.1\n",
      "Gb data for NP_001192525.1\n",
      "Gb data for XP_008246690.1\n",
      "Gb data for XP_007634672.1\n",
      "Gb data for NP_835489.1\n",
      "Gb data for NP_068612.2\n",
      "Gb data for XP_003478913.1\n",
      "Gb data for XP_004847876.1\n",
      "Gb data for XP_007485414.1\n",
      "Gb data for XP_004088806.1\n",
      "Gb data for NP_734466.1\n",
      "Gb data for NP_003504.2\n",
      "Gb data for NP_066390.1\n",
      "Gb data for NP_003503.1\n",
      "Gb data for NP_066409.1\n",
      "Gb data for NP_066408.1\n",
      "Gb data for NP_003500.1\n",
      "Gb data for NP_003501.1\n",
      "Gb data for NP_003502.1\n",
      "Gb data for NP_003505.1\n",
      "Gb data for NP_542163.1\n",
      "Gb data for NP_066544.1\n",
      "Gb data for NP_003507.1\n",
      "Gb data for NP_001035807.1\n",
      "Gb data for NP_003508.1\n",
      "Gb data for NP_778235.1\n",
      "Gb data for NP_254280.1\n",
      "Gb data for NP_783589.1\n",
      "Gb data for XP_010685819.1\n",
      "Gb data for NP_001190852.1\n",
      "Gb data for NP_175517.1\n",
      "Gb data for NP_188703.1\n",
      "Gb data for NP_200275.1\n",
      "Gb data for NP_001132837.1\n",
      "Gb data for NP_001141988.1\n",
      "Gb data for NP_001066688.1\n",
      "Gb data for XP_003080758.2\n",
      "Gb data for NP_584598.1\n",
      "Gb data for AAC37292.1\n",
      "Gb data for XP_845905.1\n",
      "Gb data for EER16127.1\n",
      "Gb data for XP_002365268.2\n",
      "Gb data for NP_175683.1\n",
      "Gb data for NP_181415.1\n",
      "Gb data for NP_191019.1\n",
      "Gb data for NP_193093.1\n",
      "Gb data for NP_001136523.1\n",
      "Gb data for NP_001141633.1\n",
      "Gb data for NP_595630.3\n",
      "Gb data for CAA33554.1\n",
      "Gb data for NP_524519.1\n",
      "Gb data for XP_002111498.1\n",
      "Gb data for NP_001051232.1\n",
      "Gb data for EDO46289.1\n",
      "Gb data for XP_846259.1\n",
      "Gb data for XP_626045.1\n",
      "Gb data for XP_002776752.1\n",
      "Gb data for XP_002784054.1\n",
      "Gb data for XP_002784055.1\n",
      "Gb data for XP_002371743.1\n",
      "Gb data for NP_014631.1\n",
      "Gb data for XP_637656.1\n",
      "Gb data for NP_001036788.1\n",
      "Gb data for NP_001026545.1\n",
      "Gb data for NP_002097.1\n",
      "Gb data for NP_705930.1\n",
      "Gb data for P02272.2\n",
      "Gb data for NP_036544.1\n",
      "Gb data for NP_958844.1\n",
      "Gb data for NP_958924.1\n",
      "Gb data for NP_619541.1\n",
      "Gb data for NP_958925.1\n",
      "Gb data for XP_624700.1\n",
      "Gb data for XP_002116274.1\n",
      "Gb data for NP_957367.1\n",
      "Gb data for NP_001073248.1\n",
      "Gb data for NP_001102761.1\n",
      "Gb data for XP_001370540.1\n",
      "Gb data for NP_002096.1\n",
      "Gb data for NP_034566.1\n",
      "Gb data for NP_172363.1\n",
      "Gb data for NP_175868.1\n",
      "Gb data for XP_008644553.1\n",
      "Gb data for XP_008662624.1\n",
      "Gb data for NP_001066920.1\n",
      "Gb data for NP_594421.1\n",
      "Gb data for XP_011387544.1\n",
      "Gb data for NP_009552.1\n",
      "Gb data for NP_010511.3\n",
      "Gb data for XP_001704715.1\n",
      "Gb data for AAC37291.1\n",
      "Gb data for XP_641587.1\n",
      "Gb data for XP_627120.1\n",
      "Gb data for XP_002784006.1\n",
      "Gb data for XP_002365290.1\n",
      "Gb data for XP_002403551.1\n",
      "Gb data for NP_001020673.1\n",
      "Gb data for AAC28846.1\n",
      "Gb data for NP_001264267.1\n",
      "Gb data for NP_990338.1\n",
      "Gb data for XP_002111582.1\n",
      "Gb data for XP_001637578.1\n",
      "Gb data for NP_613075.1\n",
      "Gb data for NP_613258.2\n",
      "Gb data for NP_001035248.1\n",
      "Gb data for NP_061119.1\n",
      "Gb data for XP_002763866.2\n",
      "Gb data for NP_001180843.1\n",
      "Gb data for XP_001145032.1\n",
      "Gb data for XP_011215272.1\n",
      "Gb data for XP_003421752.1\n",
      "Gb data for XP_003135571.1\n",
      "Gb data for NP_001069373.1\n",
      "Gb data for XP_003514308.1\n",
      "Gb data for XP_003515491.1\n",
      "Gb data for EHB05905.1\n",
      "Gb data for XP_003282204.1\n",
      "Gb data for NP_001017990.1\n",
      "Gb data for NP_001017991.1\n",
      "Gb data for NP_542451.1\n",
      "Gb data for NP_001268460.1\n",
      "Gb data for NP_001268459.1\n",
      "Gb data for NP_001096135.1\n",
      "Gb data for XP_548938.1\n",
      "Gb data for XP_548947.1\n",
      "Gb data for XP_002927211.2\n",
      "Gb data for XP_003360303.2\n",
      "Gb data for XP_003484147.1\n",
      "Gb data for NP_001071426.1\n",
      "Gb data for XP_875023.2\n",
      "Gb data for XP_002719866.1\n",
      "Gb data for XP_002720052.1\n",
      "Gb data for XP_003508207.1\n",
      "Gb data for XP_003469395.1\n",
      "Gb data for XP_003469399.1\n",
      "Gb data for EHB04253.1\n",
      "Gb data for EHB10563.1\n",
      "Gb data for EHB17227.1\n",
      "Gb data for NP_083864.1\n",
      "Gb data for NP_080903.1\n",
      "Gb data for Q9D4U4\n",
      "Gb data for EHH30639.1\n",
      "Gb data for XP_003317470.2\n",
      "Gb data for XP_005641297.1\n",
      "Gb data for XP_002913536.1\n",
      "Gb data for XP_003135058.1\n",
      "Gb data for XP_003508203.1\n",
      "Gb data for NP_001128070.1\n",
      "Gb data for EHB10562.1\n",
      "Gb data for NP_036406.1\n",
      "Gb data for NP_080372.1\n",
      "Gb data for XP_015107649.1\n",
      "Gb data for ELK02218.1\n",
      "Gb data for XP_010950849.1\n",
      "Gb data for XP_013966888.1\n",
      "Gb data for XP_010995375.1\n",
      "Gb data for XP_001380078.1\n",
      "Gb data for XP_003341803.1\n",
      "Gb data for XP_001519563.1\n",
      "Gb data for XP_003762607.1\n",
      "Gb data for XP_012399201.1\n",
      "Gb data for NP_808760.1\n",
      "Gb data for NP_198119.1\n",
      "Gb data for NP_200795.1\n",
      "Gb data for NP_001105357.1\n",
      "Gb data for NP_001141182.1\n",
      "Gb data for NP_001183143.1\n",
      "Gb data for NP_001183439.1\n",
      "Gb data for NP_001183510.1\n",
      "Gb data for NP_001278724.1\n",
      "Gb data for NP_001281214.1\n",
      "Gb data for XP_024376581.1\n",
      "Gb data for XP_024376580.1\n",
      "Gb data for XP_024377711.1\n",
      "Gb data for OAE20401.1\n",
      "Gb data for BAE47493.1\n",
      "Gb data for NP_505464.1\n",
      "Gb data for NP_724342.1\n",
      "Gb data for AAA30025.1\n",
      "Gb data for NP_999710.2\n",
      "Gb data for NP_001086753.1\n",
      "Gb data for NP_001073188.1\n",
      "Gb data for XP_011741102.1\n",
      "Gb data for XP_011216221.1\n",
      "Gb data for XP_003422331.1\n",
      "Gb data for XP_005610255.1\n",
      "Gb data for XP_005665716.1\n",
      "Gb data for NP_001032546.1\n",
      "Gb data for XP_008246696.1\n",
      "Gb data for XP_007634673.1\n",
      "Gb data for NP_072173.2\n",
      "Gb data for XP_013006892.1\n",
      "Gb data for XP_012928647.1\n",
      "Gb data for XP_007485418.1\n",
      "Gb data for XP_005640164.1\n",
      "Gb data for NP_783594.1\n",
      "Gb data for NP_072169.1\n",
      "Gb data for NP_733759.1\n",
      "Gb data for NP_066406.1\n",
      "Gb data for NP_003517.2\n",
      "Gb data for NP_003514.2\n",
      "Gb data for NP_003513.1\n",
      "Gb data for NP_003516.1\n",
      "Gb data for NP_003509.1\n",
      "Gb data for NP_066407.1\n",
      "Gb data for NP_003515.1\n",
      "Gb data for NP_066402.2\n",
      "Gb data for NP_001299582.1\n",
      "Gb data for NP_003510.1\n",
      "Gb data for NP_003512.1\n",
      "Gb data for NP_003511.1\n",
      "Gb data for NP_003518.2\n",
      "Gb data for NP_001019770.1\n",
      "Gb data for NP_001154806.1\n",
      "Gb data for NP_003519.1\n",
      "Gb data for NP_778225.1\n",
      "Gb data for NP_783595.1\n",
      "Gb data for Q9FFC0.3\n",
      "Gb data for Q9LQQ4.3\n",
      "Gb data for Q9LZ45.3\n",
      "Gb data for Q9LZT0.3\n",
      "Gb data for XP_001702223.2\n",
      "Gb data for XP_001691007.1\n",
      "Gb data for XP_001693722.1\n",
      "Gb data for XP_001693071.1\n",
      "Gb data for XP_001692948.1\n",
      "Gb data for XP_001691693.1\n",
      "Gb data for XP_001691541.1\n",
      "Gb data for XP_001696283.1\n",
      "Gb data for XP_042914553.1\n",
      "Gb data for XP_001700461.1\n",
      "Gb data for XP_001700403.1\n",
      "Gb data for XP_042914596.1\n",
      "Gb data for XP_001700194.1\n",
      "Gb data for XP_001696556.1\n",
      "Gb data for XP_001691162.1\n",
      "Gb data for XP_001696245.1\n",
      "Gb data for XP_042923653.1\n",
      "Gb data for XP_001690668.1\n",
      "Gb data for XP_005643701.1\n",
      "Gb data for XP_005643326.1\n",
      "Gb data for XP_003055512.1\n",
      "Gb data for XP_002503973.1\n",
      "Gb data for XP_002501781.1\n",
      "Gb data for XP_001419128.1\n",
      "Gb data for XP_002948472.1\n",
      "Gb data for XP_002955481.1\n",
      "Gb data for XP_002946213.1\n",
      "Gb data for XP_002946194.1\n",
      "Gb data for XP_002946193.1\n",
      "Gb data for XP_002951705.1\n",
      "Gb data for XP_002947842.1\n",
      "Gb data for XP_002948276.1\n",
      "Gb data for XP_002948133.1\n",
      "Gb data for XP_002956800.1\n",
      "Gb data for XP_002947412.1\n",
      "Gb data for NP_009553.1\n",
      "Gb data for NP_010510.3\n",
      "Gb data for XP_823266.1\n",
      "Gb data for XP_001095287.1\n",
      "Gb data for XP_002921383.1\n",
      "Gb data for XP_003407998.1\n",
      "Gb data for XP_001504072.2\n",
      "Gb data for XP_003134084.1\n",
      "Gb data for NP_991343.1\n",
      "Gb data for XP_003515979.1\n",
      "Gb data for NP_081340.1\n",
      "Gb data for XP_003461969.1\n",
      "Gb data for XP_004885290.1\n",
      "Gb data for XP_001366286.1\n",
      "Gb data for NP_001180847.1\n",
      "Gb data for XP_548517.2\n",
      "Gb data for XP_002925981.1\n",
      "Gb data for DAA13058.1\n",
      "Gb data for XP_002720211.1\n",
      "Gb data for NP_001002916.4\n",
      "Gb data for NP_001375393.1\n",
      "Gb data for NP_001356054.2\n",
      "Gb data for NP_001388269.1\n",
      "Gb data for XP_001521160.2\n",
      "Gb data for XP_001511074.1\n",
      "Gb data for XP_028926523.1\n",
      "Gb data for XP_006306103.1\n",
      "Gb data for XP_002892444.1\n",
      "Gb data for NP_172295.1\n",
      "Gb data for XP_006417719.1\n",
      "Gb data for CAF1924216.1\n",
      "Gb data for RID57103.1\n",
      "Gb data for XP_031483632.1\n",
      "Gb data for PIA54901.1\n",
      "Gb data for XP_004295898.2\n",
      "Gb data for XP_021901556.1\n",
      "Gb data for XP_002272312.1\n",
      "Gb data for PAN11031.1\n",
      "Gb data for XP_034583365.1\n",
      "Gb data for XP_022680431.1\n",
      "Gb data for XP_008670031.1\n",
      "Gb data for XP_002462010.1\n",
      "Gb data for XP_015612586.1\n",
      "Gb data for XP_014757906.1\n",
      "Gb data for XP_020113371.1\n",
      "Gb data for XP_003539797.1\n",
      "Gb data for KAH1159328.1\n",
      "Gb data for XP_007132352.1\n",
      "Gb data for XP_045802699.1\n",
      "Gb data for XP_013464866.1\n",
      "Gb data for XP_012838320.1\n",
      "Gb data for XP_017234272.1\n",
      "Gb data for XP_008359166.3\n",
      "Gb data for ONI00968.1\n",
      "Gb data for XP_006347209.1\n",
      "Gb data for XP_004241294.1\n",
      "Gb data for ESR37664.1\n",
      "Gb data for KDO60308.1\n",
      "Gb data for XP_021629190.1\n",
      "Gb data for XP_012484989.1\n",
      "Gb data for GBG60584.1\n",
      "Gb data for GBG59214.1\n",
      "Gb data for CUT18449.1\n",
      "Gb data for CUT18450.1\n",
      "Gb data for CUT18445.1\n",
      "Gb data for CUT18446.1\n",
      "Gb data for CUT18447.1\n",
      "Gb data for CUT18448.1\n",
      "Gb data for CUT18451.1\n",
      "Gb data for CUT18452.1\n",
      "Gb data for XP_013228334.1\n",
      "Gb data for CEM32013.1\n",
      "Gb data for XP_001610608.1\n",
      "Gb data for XP_011128492.1\n",
      "Gb data for XP_628349.1\n",
      "Gb data for XP_678689.1\n",
      "Gb data for XP_001349046.1\n",
      "Gb data for XP_002369740.1\n",
      "Gb data for AAO24603.1\n",
      "Gb data for AAB48832.1\n",
      "Gb data for P02289.2\n",
      "Gb data for P16889.3\n",
      "Gb data for P16888.2\n",
      "Gb data for P02290.2\n",
      "Gb data for P02292.2\n",
      "Gb data for P02291.2\n",
      "Gb data for Q27749.3\n",
      "Gb data for Q27750.3\n",
      "Gb data for NP_999706.1\n",
      "Gb data for NP_999721.1\n",
      "Gb data for NP_059141.1\n",
      "Gb data for NP_189372.1\n",
      "Gb data for XP_724814.1\n",
      "Gb data for NP_509344.1\n",
      "Gb data for CAA32434.1\n",
      "Gb data for NP_001027285.1\n",
      "Gb data for NP_001091119.1\n",
      "Gb data for NP_001268409.1\n",
      "Gb data for NP_001180643.1\n",
      "Gb data for XP_527254.2\n",
      "Gb data for NP_659539.1\n",
      "Gb data for NP_001044904.1\n",
      "Gb data for NP_001050276.1\n",
      "Gb data for XP_001713521.1\n",
      "Gb data for Q7XYZ0.3\n",
      "Gb data for XP_002977792.1\n",
      "Gb data for XP_001218942.1\n",
      "Gb data for XP_719887.1\n",
      "Gb data for XP_005537317.1\n",
      "Gb data for XP_460476.1\n",
      "Gb data for XP_002288694.1\n",
      "Gb data for XP_001016594.3\n",
      "Gb data for XP_002999294.1\n",
      "Gb data for XP_002788889.1\n",
      "Gb data for NP_003520.1\n",
      "Gb data for NP_003528.1\n",
      "Gb data for NP_003522.1\n",
      "Gb data for NP_003521.2\n",
      "Gb data for NP_003523.1\n",
      "Gb data for NP_066298.1\n",
      "Gb data for NP_003525.1\n",
      "Gb data for NP_003527.1\n",
      "Gb data for NP_003524.1\n",
      "Gb data for NP_003526.1\n",
      "Gb data for NP_001116847.1\n",
      "Gb data for NP_066403.2\n",
      "Gb data for NP_001005464.1\n",
      "Gb data for NP_195713.1\n",
      "Gb data for AAM95790.1\n",
      "Gb data for XP_725474.1\n",
      "Gb data for NP_511095.1\n",
      "Gb data for NP_032236.1\n",
      "Gb data for NP_446437.1\n",
      "Gb data for XP_966164.1\n",
      "Gb data for AAP80725.1\n",
      "Gb data for XP_567545.1\n",
      "Gb data for XP_713710.1\n",
      "Gb data for XP_456791.1\n",
      "Gb data for P10651.2\n",
      "Gb data for XP_002293701.1\n",
      "Gb data for XP_001008397.1\n",
      "Gb data for XP_956003.1\n",
      "Gb data for XP_002895320.1\n",
      "Gb data for XP_006969783.1\n",
      "Gb data for NP_009564.1\n",
      "Gb data for NP_002098.1\n",
      "Gb data for NP_005315.1\n",
      "Gb data for NP_001342338.1\n",
      "Gb data for XP_003954426.1\n",
      "Gb data for XP_003804825.1\n",
      "Gb data for NP_001342187.1\n",
      "Gb data for NP_001013721.2\n",
      "Gb data for NP_003484.1\n",
      "Gb data for NP_001358848.1\n",
      "Gb data for NP_001800.1\n",
      "Gb data for NP_001035891.1\n",
      "Gb data for NP_563627.1\n",
      "Gb data for NP_596473.1\n",
      "Gb data for NP_499128.1\n",
      "Gb data for NP_523730.2\n",
      "Gb data for NP_031707.1\n",
      "Gb data for XP_001350068.1\n",
      "Gb data for AAK39657.1\n",
      "Gb data for XP_009526809.1\n",
      "Gb data for XP_005535607.1\n",
      "Gb data for XP_002287626.1\n",
      "Gb data for XP_001011273.1\n",
      "Gb data for XP_002767160.1\n",
      "Gb data for NP_012875.2\n",
      "Gb data for NP_180441.1\n",
      "Gb data for NP_001131585.1\n",
      "Gb data for NP_492641.1\n",
      "Gb data for NP_001027352.1\n",
      "Gb data for NP_999707.1\n",
      "Gb data for NP_001087926.1\n",
      "Gb data for NP_001032934.1\n",
      "Gb data for NP_291074.1\n",
      "Gb data for XP_012928609.2\n",
      "Gb data for XP_951561.1\n",
      "Gb data for XP_001016593.1\n",
      "Gb data for NP_009563.1\n",
      "Gb data for NP_003529.1\n",
      "Gb data for NP_003535.1\n",
      "Gb data for NP_003533.1\n",
      "Gb data for NP_003530.1\n",
      "Gb data for NP_003536.1\n",
      "Gb data for NP_003531.1\n",
      "Gb data for NP_003534.1\n",
      "Gb data for NP_003486.1\n",
      "Gb data for NP_068803.1\n",
      "Gb data for NP_003532.1\n",
      "Gb data for NP_003537.1\n",
      "Gb data for NP_003539.1\n",
      "Gb data for NP_001029249.1\n",
      "Gb data for NP_778224.1\n",
      "Gb data for NP_003538.1\n",
      "Gb data for NP_172161.1\n",
      "Gb data for P23444.2\n",
      "Gb data for O17536.3\n",
      "Gb data for AAZ66580.1\n",
      "Gb data for NP_650383.2\n",
      "Gb data for NP_999714.1\n",
      "Gb data for NP_999720.1\n",
      "Gb data for NP_001081535.1\n",
      "Gb data for XP_425456.1\n",
      "Gb data for XP_010816821.1\n",
      "Gb data for NP_056601.1\n",
      "Gb data for NP_085112.1\n",
      "Gb data for NP_579819.1\n",
      "Gb data for NP_999722.1\n",
      "Gb data for XP_010887142.1\n",
      "Gb data for ACH70944.1\n",
      "Gb data for ACM08534.1\n",
      "Gb data for ACM09660.1\n",
      "Gb data for NP_998836.1\n",
      "Gb data for P06513.2\n",
      "Gb data for NP_001038138.1\n",
      "Gb data for NP_001127680.1\n",
      "Gb data for NP_001069955.1\n",
      "Gb data for NP_032223.2\n",
      "Gb data for NP_036710.1\n",
      "Gb data for XP_004175972.1\n",
      "Gb data for EED88841.1\n",
      "Gb data for ACM09522.1\n",
      "Gb data for NP_001087957.1\n",
      "Gb data for NP_001074230.1\n",
      "Gb data for XP_005640152.1\n",
      "Gb data for NP_001243880.1\n",
      "Gb data for NP_034507.2\n",
      "Gb data for NP_036711.1\n",
      "Gb data for NP_081580.2\n",
      "Gb data for NP_612184.1\n",
      "Gb data for NP_061262.1\n",
      "Gb data for NP_001103035.1\n",
      "Gb data for ACI22865.1\n",
      "Gb data for ACO09903.1\n",
      "Gb data for ACO07616.1\n",
      "Gb data for ACM09455.1\n",
      "Gb data for NP_001080265.1\n",
      "Gb data for ACO10502.1\n",
      "Gb data for NP_015198.1\n",
      "Gb data for XP_011105792.1\n",
      "Gb data for NP_861453.1\n",
      "Gb data for NP_005309.1\n",
      "Gb data for NP_005314.2\n",
      "Gb data for NP_005313.1\n",
      "Gb data for NP_005312.1\n",
      "Gb data for NP_005311.1\n",
      "Gb data for NP_005316.1\n",
      "Gb data for NP_005310.1\n",
      "Gb data for NP_006017.1\n",
      "Gb data for NP_722575.1\n",
      "Gb data for NP_001295191.1\n",
      "CPU times: user 11.5 s, sys: 510 ms, total: 12.1 s\n",
      "Wall time: 8min 44s\n"
     ]
    }
   ],
   "source": [
    "%%time\n",
    "res_dict = Function(lst)"
   ]
  },
  {
   "cell_type": "code",
   "execution_count": 19,
   "id": "fb6f05ee-7932-4ad2-8d82-d0290614a819",
   "metadata": {
    "tags": []
   },
   "outputs": [
    {
     "name": "stderr",
     "output_type": "stream",
     "text": [
      "/home/l_singh/.conda/envs/histdb_env/lib/python3.8/site-packages/Bio/GenBank/__init__.py:1143: BiopythonParserWarning: Dropping bond qualifier in feature location\n",
      "  warnings.warn(\n"
     ]
    }
   ],
   "source": [
    "d1 = Function(a1)"
   ]
  },
  {
   "cell_type": "code",
   "execution_count": 21,
   "id": "2caea9f0-038d-4fb5-b124-cab8f10cb065",
   "metadata": {
    "tags": []
   },
   "outputs": [],
   "source": [
    "d2 = Function(a2)"
   ]
  },
  {
   "cell_type": "code",
   "execution_count": 22,
   "id": "df7b83c4-d066-4c8d-9529-562d1b6066c6",
   "metadata": {
    "tags": []
   },
   "outputs": [],
   "source": [
    "d3 = Function(a3)"
   ]
  },
  {
   "cell_type": "code",
   "execution_count": 23,
   "id": "24e11e66-1e52-447c-980b-17d1e85b9c51",
   "metadata": {
    "tags": []
   },
   "outputs": [],
   "source": [
    "d4 = Function(a4)"
   ]
  },
  {
   "cell_type": "code",
   "execution_count": 41,
   "id": "67c564df-5387-458c-978d-e5a873ef253e",
   "metadata": {
    "tags": []
   },
   "outputs": [],
   "source": [
    "main_dict = {**d1, **d2, **d3, **d4}"
   ]
  },
  {
   "cell_type": "code",
   "execution_count": 42,
   "id": "f0dd9fc0-4446-4a87-87a4-5861c5f915e2",
   "metadata": {
    "tags": []
   },
   "outputs": [
    {
     "data": {
      "text/plain": [
       "506"
      ]
     },
     "execution_count": 42,
     "metadata": {},
     "output_type": "execute_result"
    }
   ],
   "source": [
    "len(main_dict)"
   ]
  },
  {
   "cell_type": "code",
   "execution_count": 26,
   "id": "91aa236c-61d6-4c95-8dfa-df543ff636f7",
   "metadata": {
    "tags": []
   },
   "outputs": [
    {
     "data": {
      "text/plain": [
       "526"
      ]
     },
     "execution_count": 26,
     "metadata": {},
     "output_type": "execute_result"
    }
   ],
   "source": [
    "len(lst)"
   ]
  },
  {
   "cell_type": "code",
   "execution_count": 30,
   "id": "857aabea-d52a-41f9-a021-87aa08ae635c",
   "metadata": {
    "tags": []
   },
   "outputs": [
    {
     "name": "stdout",
     "output_type": "stream",
     "text": [
      "127 132\n"
     ]
    }
   ],
   "source": [
    "print(len(d1), len(a1))"
   ]
  },
  {
   "cell_type": "code",
   "execution_count": 31,
   "id": "bae63062-1e42-454b-8db9-4bdc462857c6",
   "metadata": {
    "tags": []
   },
   "outputs": [
    {
     "name": "stdout",
     "output_type": "stream",
     "text": [
      "127 132\n"
     ]
    }
   ],
   "source": [
    "print(len(d2), len(a2))"
   ]
  },
  {
   "cell_type": "code",
   "execution_count": 33,
   "id": "82bef09c-a1af-49e4-9758-9a95c6bfd0ac",
   "metadata": {
    "tags": []
   },
   "outputs": [
    {
     "name": "stdout",
     "output_type": "stream",
     "text": [
      "126 131\n"
     ]
    }
   ],
   "source": [
    "print(len(d3), len(a3))"
   ]
  },
  {
   "cell_type": "code",
   "execution_count": 34,
   "id": "256e4cfa-aef2-4e06-b41f-9f5d0fc65493",
   "metadata": {
    "tags": []
   },
   "outputs": [
    {
     "name": "stdout",
     "output_type": "stream",
     "text": [
      "126 131\n"
     ]
    }
   ],
   "source": [
    "print(len(d4), len(a4))"
   ]
  },
  {
   "cell_type": "code",
   "execution_count": 7,
   "id": "361e6913-3e8c-406f-8d32-916ff72cd820",
   "metadata": {
    "tags": []
   },
   "outputs": [],
   "source": [
    "split = lambda lst, n: [lst[i::n] for i in range(n)]"
   ]
  },
  {
   "cell_type": "code",
   "execution_count": 11,
   "id": "99b7b854-81bb-4329-a177-bb129a890f24",
   "metadata": {
    "tags": []
   },
   "outputs": [],
   "source": [
    "n = 4"
   ]
  },
  {
   "cell_type": "code",
   "execution_count": 12,
   "id": "da9d3f5c-7cb6-481c-ab8b-722cd6c21a6a",
   "metadata": {
    "tags": []
   },
   "outputs": [],
   "source": [
    "List_of_lists = split(lst,n)"
   ]
  },
  {
   "cell_type": "code",
   "execution_count": 14,
   "id": "2d522dcc-6823-4d08-9259-e6f9416b0c72",
   "metadata": {
    "tags": []
   },
   "outputs": [],
   "source": [
    "a1, a2, a3, a4 = List_of_lists"
   ]
  },
  {
   "cell_type": "code",
   "execution_count": 9,
   "id": "4d0dd0f3-acd6-4f39-8608-ef1a3654bfbf",
   "metadata": {},
   "outputs": [],
   "source": [
    "Need = cs.data.query('variant_group == \"cH2A\"' ).query('organism == \"Homo sapiens\"')['accession'].tolist()\n",
    "# Для этих всё отлично работает =)"
   ]
  }
 ],
 "metadata": {
  "kernelspec": {
   "display_name": ".conda-histdb_env",
   "language": "python",
   "name": "conda-env-.conda-histdb_env-py"
  },
  "language_info": {
   "codemirror_mode": {
    "name": "ipython",
    "version": 3
   },
   "file_extension": ".py",
   "mimetype": "text/x-python",
   "name": "python",
   "nbconvert_exporter": "python",
   "pygments_lexer": "ipython3",
   "version": "3.8.1"
  }
 },
 "nbformat": 4,
 "nbformat_minor": 5
}
