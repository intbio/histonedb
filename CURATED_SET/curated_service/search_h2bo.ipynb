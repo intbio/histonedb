{
 "cells": [
  {
   "cell_type": "code",
   "execution_count": 4,
   "metadata": {},
   "outputs": [],
   "source": [
    "import pandas as pd\n",
    "import io, collections\n",
    "\n",
    "from Bio import SeqIO, Entrez, SearchIO\n",
    "from Bio.Seq import Seq\n",
    "from Bio.SeqRecord import SeqRecord\n",
    "from Bio.Blast import NCBIXML, NCBIWWW\n",
    "\n",
    "Entrez.email = \"A.N.Other@example.com\""
   ]
  },
  {
   "cell_type": "code",
   "execution_count": 27,
   "metadata": {
    "tags": []
   },
   "outputs": [
    {
     "name": "stdout",
     "output_type": "stream",
     "text": [
      ">Platypus_H2B.O.1\n",
      "WENYVYKVLKQVHPLTSISTKAVGIVDSFIDIFKRITSDASHLARYNKCSTITSREIQTAVQLMLPGELDRYAGSEGTKAITKYTT\n",
      ">Platypus_H2B.O.2\n",
      "YSIYVYKVLKQVHPLTSISTKAVGIMDSFINDIFERIASEASRLARYNKRSTITSREIQTAVLLTLPGELARHAVSEGTKAITKYTS\n",
      ">Platypus_H2B.O.3\n",
      "YSIYVYKVLKQVHPLTSISTKAVGIMDSFINDIFDRIASEASRLARYTKRSTIASREIQTAVLLTLPGELARHAVSEGTKAITKYTS\n"
     ]
    }
   ],
   "source": [
    "sequences = '''>Platypus_H2B.O.1\n",
    "WENYVYKVLKQVHPLTSISTKAVGIVDSFIDIFKRITSDASHLARYNKCSTITSREIQTAVQLMLPGELDRYAGSEGTKAITKYTT\n",
    ">Platypus_H2B.O.2\n",
    "YSIYVYKVLKQVHPLTSISTKAVGIMDSFINDIFERIASEASRLARYNKRSTITSREIQTAVLLTLPGELARHAVSEGTKAITKYTS\n",
    ">Platypus_H2B.O.3\n",
    "YSIYVYKVLKQVHPLTSISTKAVGIMDSFINDIFDRIASEASRLARYTKRSTIASREIQTAVLLTLPGELARHAVSEGTKAITKYTS'''\n",
    "print(sequences)"
   ]
  },
  {
   "cell_type": "code",
   "execution_count": 28,
   "metadata": {
    "tags": []
   },
   "outputs": [
    {
     "data": {
      "text/html": [
       "<div>\n",
       "<style scoped>\n",
       "    .dataframe tbody tr th:only-of-type {\n",
       "        vertical-align: middle;\n",
       "    }\n",
       "\n",
       "    .dataframe tbody tr th {\n",
       "        vertical-align: top;\n",
       "    }\n",
       "\n",
       "    .dataframe thead th {\n",
       "        text-align: right;\n",
       "    }\n",
       "</style>\n",
       "<table border=\"1\" class=\"dataframe\">\n",
       "  <thead>\n",
       "    <tr style=\"text-align: right;\">\n",
       "      <th></th>\n",
       "      <th>name</th>\n",
       "      <th>sequence</th>\n",
       "    </tr>\n",
       "    <tr>\n",
       "      <th>name</th>\n",
       "      <th></th>\n",
       "      <th></th>\n",
       "    </tr>\n",
       "  </thead>\n",
       "  <tbody>\n",
       "    <tr>\n",
       "      <th>Platypus_H2B.O.1</th>\n",
       "      <td>Platypus_H2B.O.1</td>\n",
       "      <td>WENYVYKVLKQVHPLTSISTKAVGIVDSFIDIFKRITSDASHLARY...</td>\n",
       "    </tr>\n",
       "    <tr>\n",
       "      <th>Platypus_H2B.O.2</th>\n",
       "      <td>Platypus_H2B.O.2</td>\n",
       "      <td>YSIYVYKVLKQVHPLTSISTKAVGIMDSFINDIFERIASEASRLAR...</td>\n",
       "    </tr>\n",
       "    <tr>\n",
       "      <th>Platypus_H2B.O.3</th>\n",
       "      <td>Platypus_H2B.O.3</td>\n",
       "      <td>YSIYVYKVLKQVHPLTSISTKAVGIMDSFINDIFDRIASEASRLAR...</td>\n",
       "    </tr>\n",
       "  </tbody>\n",
       "</table>\n",
       "</div>"
      ],
      "text/plain": [
       "                              name  \\\n",
       "name                                 \n",
       "Platypus_H2B.O.1  Platypus_H2B.O.1   \n",
       "Platypus_H2B.O.2  Platypus_H2B.O.2   \n",
       "Platypus_H2B.O.3  Platypus_H2B.O.3   \n",
       "\n",
       "                                                           sequence  \n",
       "name                                                                 \n",
       "Platypus_H2B.O.1  WENYVYKVLKQVHPLTSISTKAVGIVDSFIDIFKRITSDASHLARY...  \n",
       "Platypus_H2B.O.2  YSIYVYKVLKQVHPLTSISTKAVGIMDSFINDIFERIASEASRLAR...  \n",
       "Platypus_H2B.O.3  YSIYVYKVLKQVHPLTSISTKAVGIMDSFINDIFDRIASEASRLAR...  "
      ]
     },
     "execution_count": 28,
     "metadata": {},
     "output_type": "execute_result"
    }
   ],
   "source": [
    "df = pd.DataFrame([{'name': s.split('\\n')[0], 'sequence': s.split('\\n')[1].strip()} for s in sequences.split('>')[1:]])\n",
    "df.index = df.name\n",
    "df"
   ]
  },
  {
   "cell_type": "markdown",
   "metadata": {},
   "source": [
    "## ... Blast sequences"
   ]
  },
  {
   "cell_type": "code",
   "execution_count": 6,
   "metadata": {
    "tags": []
   },
   "outputs": [
    {
     "data": {
      "text/html": [
       "<div>\n",
       "<style scoped>\n",
       "    .dataframe tbody tr th:only-of-type {\n",
       "        vertical-align: middle;\n",
       "    }\n",
       "\n",
       "    .dataframe tbody tr th {\n",
       "        vertical-align: top;\n",
       "    }\n",
       "\n",
       "    .dataframe thead th {\n",
       "        text-align: right;\n",
       "    }\n",
       "</style>\n",
       "<table border=\"1\" class=\"dataframe\">\n",
       "  <thead>\n",
       "    <tr style=\"text-align: right;\">\n",
       "      <th></th>\n",
       "      <th>0</th>\n",
       "      <th>1</th>\n",
       "      <th>2</th>\n",
       "      <th>3</th>\n",
       "      <th>4</th>\n",
       "      <th>5</th>\n",
       "      <th>6</th>\n",
       "      <th>7</th>\n",
       "      <th>8</th>\n",
       "      <th>9</th>\n",
       "      <th>10</th>\n",
       "      <th>11</th>\n",
       "      <th>12</th>\n",
       "    </tr>\n",
       "  </thead>\n",
       "  <tbody>\n",
       "    <tr>\n",
       "      <th>0</th>\n",
       "      <td>Platypus_H2B.O.1</td>\n",
       "      <td>XP_001521160.2</td>\n",
       "      <td>100.000</td>\n",
       "      <td>86</td>\n",
       "      <td>0</td>\n",
       "      <td>0</td>\n",
       "      <td>1</td>\n",
       "      <td>86</td>\n",
       "      <td>27</td>\n",
       "      <td>112</td>\n",
       "      <td>4.510000e-56</td>\n",
       "      <td>179</td>\n",
       "      <td>100.00</td>\n",
       "    </tr>\n",
       "    <tr>\n",
       "      <th>1</th>\n",
       "      <td>Platypus_H2B.O.1</td>\n",
       "      <td>XP_001511074.1</td>\n",
       "      <td>84.524</td>\n",
       "      <td>84</td>\n",
       "      <td>12</td>\n",
       "      <td>1</td>\n",
       "      <td>4</td>\n",
       "      <td>86</td>\n",
       "      <td>40</td>\n",
       "      <td>123</td>\n",
       "      <td>3.410000e-39</td>\n",
       "      <td>136</td>\n",
       "      <td>90.48</td>\n",
       "    </tr>\n",
       "    <tr>\n",
       "      <th>2</th>\n",
       "      <td>Platypus_H2B.O.1</td>\n",
       "      <td>XP_038606306.1</td>\n",
       "      <td>83.333</td>\n",
       "      <td>84</td>\n",
       "      <td>13</td>\n",
       "      <td>1</td>\n",
       "      <td>4</td>\n",
       "      <td>86</td>\n",
       "      <td>40</td>\n",
       "      <td>123</td>\n",
       "      <td>8.260000e-38</td>\n",
       "      <td>133</td>\n",
       "      <td>89.29</td>\n",
       "    </tr>\n",
       "    <tr>\n",
       "      <th>3</th>\n",
       "      <td>Platypus_H2B.O.1</td>\n",
       "      <td>MXQ84858.1</td>\n",
       "      <td>75.000</td>\n",
       "      <td>84</td>\n",
       "      <td>20</td>\n",
       "      <td>1</td>\n",
       "      <td>4</td>\n",
       "      <td>86</td>\n",
       "      <td>41</td>\n",
       "      <td>124</td>\n",
       "      <td>2.460000e-37</td>\n",
       "      <td>132</td>\n",
       "      <td>90.48</td>\n",
       "    </tr>\n",
       "    <tr>\n",
       "      <th>4</th>\n",
       "      <td>Platypus_H2B.O.1</td>\n",
       "      <td>XP_028926540.1</td>\n",
       "      <td>82.143</td>\n",
       "      <td>84</td>\n",
       "      <td>14</td>\n",
       "      <td>1</td>\n",
       "      <td>4</td>\n",
       "      <td>86</td>\n",
       "      <td>40</td>\n",
       "      <td>123</td>\n",
       "      <td>3.620000e-37</td>\n",
       "      <td>131</td>\n",
       "      <td>86.90</td>\n",
       "    </tr>\n",
       "  </tbody>\n",
       "</table>\n",
       "</div>"
      ],
      "text/plain": [
       "                 0               1        2   3   4   5   6   7   8    9   \\\n",
       "0  Platypus_H2B.O.1  XP_001521160.2  100.000  86   0   0   1  86  27  112   \n",
       "1  Platypus_H2B.O.1  XP_001511074.1   84.524  84  12   1   4  86  40  123   \n",
       "2  Platypus_H2B.O.1  XP_038606306.1   83.333  84  13   1   4  86  40  123   \n",
       "3  Platypus_H2B.O.1      MXQ84858.1   75.000  84  20   1   4  86  41  124   \n",
       "4  Platypus_H2B.O.1  XP_028926540.1   82.143  84  14   1   4  86  40  123   \n",
       "\n",
       "             10   11      12  \n",
       "0  4.510000e-56  179  100.00  \n",
       "1  3.410000e-39  136   90.48  \n",
       "2  8.260000e-38  133   89.29  \n",
       "3  2.460000e-37  132   90.48  \n",
       "4  3.620000e-37  131   86.90  "
      ]
     },
     "execution_count": 6,
     "metadata": {},
     "output_type": "execute_result"
    }
   ],
   "source": [
    "df_blast = pd.read_csv(f\"A8MVKD6P013-Alignment-HitTable.csv\", header=None)\n",
    "df_blast.head()"
   ]
  },
  {
   "cell_type": "code",
   "execution_count": 29,
   "metadata": {
    "tags": []
   },
   "outputs": [
    {
     "data": {
      "text/html": [
       "<div>\n",
       "<style scoped>\n",
       "    .dataframe tbody tr th:only-of-type {\n",
       "        vertical-align: middle;\n",
       "    }\n",
       "\n",
       "    .dataframe tbody tr th {\n",
       "        vertical-align: top;\n",
       "    }\n",
       "\n",
       "    .dataframe thead th {\n",
       "        text-align: right;\n",
       "    }\n",
       "</style>\n",
       "<table border=\"1\" class=\"dataframe\">\n",
       "  <thead>\n",
       "    <tr style=\"text-align: right;\">\n",
       "      <th></th>\n",
       "      <th>0</th>\n",
       "      <th>1</th>\n",
       "      <th>2</th>\n",
       "      <th>3</th>\n",
       "      <th>4</th>\n",
       "      <th>5</th>\n",
       "      <th>6</th>\n",
       "      <th>7</th>\n",
       "    </tr>\n",
       "  </thead>\n",
       "  <tbody>\n",
       "    <tr>\n",
       "      <th>0</th>\n",
       "      <td>Platypus_H2B.O.1</td>\n",
       "      <td>XP_001521160.2</td>\n",
       "      <td>100.0</td>\n",
       "      <td>86</td>\n",
       "      <td>0</td>\n",
       "      <td>0</td>\n",
       "      <td>1</td>\n",
       "      <td>86</td>\n",
       "    </tr>\n",
       "    <tr>\n",
       "      <th>101</th>\n",
       "      <td>Platypus_H2B.O.2</td>\n",
       "      <td>XP_001511074.1</td>\n",
       "      <td>100.0</td>\n",
       "      <td>87</td>\n",
       "      <td>0</td>\n",
       "      <td>0</td>\n",
       "      <td>1</td>\n",
       "      <td>87</td>\n",
       "    </tr>\n",
       "    <tr>\n",
       "      <th>202</th>\n",
       "      <td>Platypus_H2B.O.3</td>\n",
       "      <td>XP_028926540.1</td>\n",
       "      <td>100.0</td>\n",
       "      <td>87</td>\n",
       "      <td>0</td>\n",
       "      <td>0</td>\n",
       "      <td>1</td>\n",
       "      <td>87</td>\n",
       "    </tr>\n",
       "    <tr>\n",
       "      <th>204</th>\n",
       "      <td>Platypus_H2B.O.3</td>\n",
       "      <td>XP_028926523.1</td>\n",
       "      <td>100.0</td>\n",
       "      <td>87</td>\n",
       "      <td>0</td>\n",
       "      <td>0</td>\n",
       "      <td>1</td>\n",
       "      <td>87</td>\n",
       "    </tr>\n",
       "    <tr>\n",
       "      <th>205</th>\n",
       "      <td>Platypus_H2B.O.3</td>\n",
       "      <td>XP_028926523.1</td>\n",
       "      <td>100.0</td>\n",
       "      <td>87</td>\n",
       "      <td>0</td>\n",
       "      <td>0</td>\n",
       "      <td>1</td>\n",
       "      <td>87</td>\n",
       "    </tr>\n",
       "  </tbody>\n",
       "</table>\n",
       "</div>"
      ],
      "text/plain": [
       "                    0               1      2   3  4  5  6   7\n",
       "0    Platypus_H2B.O.1  XP_001521160.2  100.0  86  0  0  1  86\n",
       "101  Platypus_H2B.O.2  XP_001511074.1  100.0  87  0  0  1  87\n",
       "202  Platypus_H2B.O.3  XP_028926540.1  100.0  87  0  0  1  87\n",
       "204  Platypus_H2B.O.3  XP_028926523.1  100.0  87  0  0  1  87\n",
       "205  Platypus_H2B.O.3  XP_028926523.1  100.0  87  0  0  1  87"
      ]
     },
     "execution_count": 29,
     "metadata": {},
     "output_type": "execute_result"
    }
   ],
   "source": [
    "df_blast = pd.read_csv(f\"A8MVKD6P013-Alignment-HitTable.csv\", header=None)\n",
    "df_blast = df_blast.iloc[:,:8]\n",
    "df_blast = df_blast[(df_blast[2]==100) & (df_blast[6]==1) & (df_blast[7]==df_blast[3])]\n",
    "for i, row in df_blast.iterrows():\n",
    "    if len(df.loc[row[0], 'sequence']) != row[3]: continue\n",
    "    df.at[row[0], 'accession'] = row[1]\n",
    "df_blast"
   ]
  },
  {
   "cell_type": "code",
   "execution_count": 30,
   "metadata": {
    "tags": []
   },
   "outputs": [
    {
     "data": {
      "text/plain": [
       "((5, 8), 3)"
      ]
     },
     "execution_count": 30,
     "metadata": {},
     "output_type": "execute_result"
    }
   ],
   "source": [
    "df_blast.shape, len(set(df_blast[0]))"
   ]
  },
  {
   "cell_type": "code",
   "execution_count": 31,
   "metadata": {
    "tags": []
   },
   "outputs": [
    {
     "data": {
      "text/html": [
       "<div>\n",
       "<style scoped>\n",
       "    .dataframe tbody tr th:only-of-type {\n",
       "        vertical-align: middle;\n",
       "    }\n",
       "\n",
       "    .dataframe tbody tr th {\n",
       "        vertical-align: top;\n",
       "    }\n",
       "\n",
       "    .dataframe thead th {\n",
       "        text-align: right;\n",
       "    }\n",
       "</style>\n",
       "<table border=\"1\" class=\"dataframe\">\n",
       "  <thead>\n",
       "    <tr style=\"text-align: right;\">\n",
       "      <th></th>\n",
       "      <th>0</th>\n",
       "      <th>1</th>\n",
       "      <th>2</th>\n",
       "      <th>3</th>\n",
       "      <th>4</th>\n",
       "      <th>5</th>\n",
       "      <th>6</th>\n",
       "      <th>7</th>\n",
       "    </tr>\n",
       "  </thead>\n",
       "  <tbody>\n",
       "    <tr>\n",
       "      <th>204</th>\n",
       "      <td>Platypus_H2B.O.3</td>\n",
       "      <td>XP_028926523.1</td>\n",
       "      <td>100.0</td>\n",
       "      <td>87</td>\n",
       "      <td>0</td>\n",
       "      <td>0</td>\n",
       "      <td>1</td>\n",
       "      <td>87</td>\n",
       "    </tr>\n",
       "    <tr>\n",
       "      <th>205</th>\n",
       "      <td>Platypus_H2B.O.3</td>\n",
       "      <td>XP_028926523.1</td>\n",
       "      <td>100.0</td>\n",
       "      <td>87</td>\n",
       "      <td>0</td>\n",
       "      <td>0</td>\n",
       "      <td>1</td>\n",
       "      <td>87</td>\n",
       "    </tr>\n",
       "  </tbody>\n",
       "</table>\n",
       "</div>"
      ],
      "text/plain": [
       "                    0               1      2   3  4  5  6   7\n",
       "204  Platypus_H2B.O.3  XP_028926523.1  100.0  87  0  0  1  87\n",
       "205  Platypus_H2B.O.3  XP_028926523.1  100.0  87  0  0  1  87"
      ]
     },
     "execution_count": 31,
     "metadata": {},
     "output_type": "execute_result"
    }
   ],
   "source": [
    "df_blast[df_blast[0].duplicated()]"
   ]
  },
  {
   "cell_type": "code",
   "execution_count": 32,
   "metadata": {
    "tags": []
   },
   "outputs": [
    {
     "data": {
      "text/html": [
       "<div>\n",
       "<style scoped>\n",
       "    .dataframe tbody tr th:only-of-type {\n",
       "        vertical-align: middle;\n",
       "    }\n",
       "\n",
       "    .dataframe tbody tr th {\n",
       "        vertical-align: top;\n",
       "    }\n",
       "\n",
       "    .dataframe thead th {\n",
       "        text-align: right;\n",
       "    }\n",
       "</style>\n",
       "<table border=\"1\" class=\"dataframe\">\n",
       "  <thead>\n",
       "    <tr style=\"text-align: right;\">\n",
       "      <th></th>\n",
       "      <th>0</th>\n",
       "      <th>1</th>\n",
       "      <th>2</th>\n",
       "      <th>3</th>\n",
       "      <th>4</th>\n",
       "      <th>5</th>\n",
       "      <th>6</th>\n",
       "      <th>7</th>\n",
       "    </tr>\n",
       "  </thead>\n",
       "  <tbody>\n",
       "    <tr>\n",
       "      <th>202</th>\n",
       "      <td>Platypus_H2B.O.3</td>\n",
       "      <td>XP_028926540.1</td>\n",
       "      <td>100.0</td>\n",
       "      <td>87</td>\n",
       "      <td>0</td>\n",
       "      <td>0</td>\n",
       "      <td>1</td>\n",
       "      <td>87</td>\n",
       "    </tr>\n",
       "    <tr>\n",
       "      <th>204</th>\n",
       "      <td>Platypus_H2B.O.3</td>\n",
       "      <td>XP_028926523.1</td>\n",
       "      <td>100.0</td>\n",
       "      <td>87</td>\n",
       "      <td>0</td>\n",
       "      <td>0</td>\n",
       "      <td>1</td>\n",
       "      <td>87</td>\n",
       "    </tr>\n",
       "    <tr>\n",
       "      <th>205</th>\n",
       "      <td>Platypus_H2B.O.3</td>\n",
       "      <td>XP_028926523.1</td>\n",
       "      <td>100.0</td>\n",
       "      <td>87</td>\n",
       "      <td>0</td>\n",
       "      <td>0</td>\n",
       "      <td>1</td>\n",
       "      <td>87</td>\n",
       "    </tr>\n",
       "  </tbody>\n",
       "</table>\n",
       "</div>"
      ],
      "text/plain": [
       "                    0               1      2   3  4  5  6   7\n",
       "202  Platypus_H2B.O.3  XP_028926540.1  100.0  87  0  0  1  87\n",
       "204  Platypus_H2B.O.3  XP_028926523.1  100.0  87  0  0  1  87\n",
       "205  Platypus_H2B.O.3  XP_028926523.1  100.0  87  0  0  1  87"
      ]
     },
     "execution_count": 32,
     "metadata": {},
     "output_type": "execute_result"
    }
   ],
   "source": [
    "df_blast[df_blast[0].isin(df_blast[df_blast[0].duplicated()][0])]"
   ]
  },
  {
   "cell_type": "code",
   "execution_count": 33,
   "metadata": {
    "tags": []
   },
   "outputs": [
    {
     "data": {
      "text/plain": [
       "name\n",
       "Platypus_H2B.O.3    XP_028926523.1\n",
       "Platypus_H2B.O.3    XP_028926523.1\n",
       "Name: accession, dtype: object"
      ]
     },
     "execution_count": 33,
     "metadata": {},
     "output_type": "execute_result"
    }
   ],
   "source": [
    "df.loc[df_blast[df_blast[0].duplicated()][0]]['accession']"
   ]
  },
  {
   "cell_type": "code",
   "execution_count": 34,
   "metadata": {
    "tags": []
   },
   "outputs": [],
   "source": [
    "for a in df['accession'].unique():\n",
    "    if df[df['accession']==a]['sequence'].unique().shape[0] == 1: continue\n",
    "    print(a)"
   ]
  },
  {
   "cell_type": "code",
   "execution_count": 35,
   "metadata": {
    "tags": []
   },
   "outputs": [
    {
     "data": {
      "text/plain": [
       "Index(['name', 'sequence', 'accession'], dtype='object')"
      ]
     },
     "execution_count": 35,
     "metadata": {},
     "output_type": "execute_result"
    }
   ],
   "source": [
    "df.columns"
   ]
  },
  {
   "cell_type": "code",
   "execution_count": 36,
   "metadata": {
    "tags": []
   },
   "outputs": [
    {
     "data": {
      "text/plain": [
       "3"
      ]
     },
     "execution_count": 36,
     "metadata": {},
     "output_type": "execute_result"
    }
   ],
   "source": [
    "df['sequence'].unique().shape[0]"
   ]
  },
  {
   "cell_type": "code",
   "execution_count": 37,
   "metadata": {
    "tags": []
   },
   "outputs": [
    {
     "data": {
      "text/html": [
       "<div>\n",
       "<style scoped>\n",
       "    .dataframe tbody tr th:only-of-type {\n",
       "        vertical-align: middle;\n",
       "    }\n",
       "\n",
       "    .dataframe tbody tr th {\n",
       "        vertical-align: top;\n",
       "    }\n",
       "\n",
       "    .dataframe thead th {\n",
       "        text-align: right;\n",
       "    }\n",
       "</style>\n",
       "<table border=\"1\" class=\"dataframe\">\n",
       "  <thead>\n",
       "    <tr style=\"text-align: right;\">\n",
       "      <th></th>\n",
       "      <th>name</th>\n",
       "      <th>sequence</th>\n",
       "      <th>accession</th>\n",
       "    </tr>\n",
       "    <tr>\n",
       "      <th>name</th>\n",
       "      <th></th>\n",
       "      <th></th>\n",
       "      <th></th>\n",
       "    </tr>\n",
       "  </thead>\n",
       "  <tbody>\n",
       "    <tr>\n",
       "      <th>Platypus_H2B.O.1</th>\n",
       "      <td>Platypus_H2B.O.1</td>\n",
       "      <td>WENYVYKVLKQVHPLTSISTKAVGIVDSFIDIFKRITSDASHLARY...</td>\n",
       "      <td>XP_001521160.2</td>\n",
       "    </tr>\n",
       "    <tr>\n",
       "      <th>Platypus_H2B.O.2</th>\n",
       "      <td>Platypus_H2B.O.2</td>\n",
       "      <td>YSIYVYKVLKQVHPLTSISTKAVGIMDSFINDIFERIASEASRLAR...</td>\n",
       "      <td>XP_001511074.1</td>\n",
       "    </tr>\n",
       "    <tr>\n",
       "      <th>Platypus_H2B.O.3</th>\n",
       "      <td>Platypus_H2B.O.3</td>\n",
       "      <td>YSIYVYKVLKQVHPLTSISTKAVGIMDSFINDIFDRIASEASRLAR...</td>\n",
       "      <td>XP_028926523.1</td>\n",
       "    </tr>\n",
       "  </tbody>\n",
       "</table>\n",
       "</div>"
      ],
      "text/plain": [
       "                              name  \\\n",
       "name                                 \n",
       "Platypus_H2B.O.1  Platypus_H2B.O.1   \n",
       "Platypus_H2B.O.2  Platypus_H2B.O.2   \n",
       "Platypus_H2B.O.3  Platypus_H2B.O.3   \n",
       "\n",
       "                                                           sequence  \\\n",
       "name                                                                  \n",
       "Platypus_H2B.O.1  WENYVYKVLKQVHPLTSISTKAVGIVDSFIDIFKRITSDASHLARY...   \n",
       "Platypus_H2B.O.2  YSIYVYKVLKQVHPLTSISTKAVGIMDSFINDIFERIASEASRLAR...   \n",
       "Platypus_H2B.O.3  YSIYVYKVLKQVHPLTSISTKAVGIMDSFINDIFDRIASEASRLAR...   \n",
       "\n",
       "                       accession  \n",
       "name                              \n",
       "Platypus_H2B.O.1  XP_001521160.2  \n",
       "Platypus_H2B.O.2  XP_001511074.1  \n",
       "Platypus_H2B.O.3  XP_028926523.1  "
      ]
     },
     "execution_count": 37,
     "metadata": {},
     "output_type": "execute_result"
    }
   ],
   "source": [
    "df"
   ]
  },
  {
   "cell_type": "code",
   "execution_count": 39,
   "metadata": {},
   "outputs": [],
   "source": [
    "df.to_csv('h2bo_histones.csv', index=False)"
   ]
  },
  {
   "cell_type": "code",
   "execution_count": null,
   "metadata": {},
   "outputs": [],
   "source": []
  }
 ],
 "metadata": {
  "kernelspec": {
   "display_name": ".conda-histdb_env",
   "language": "python",
   "name": "conda-env-.conda-histdb_env-py"
  },
  "language_info": {
   "codemirror_mode": {
    "name": "ipython",
    "version": 3
   },
   "file_extension": ".py",
   "mimetype": "text/x-python",
   "name": "python",
   "nbconvert_exporter": "python",
   "pygments_lexer": "ipython3",
   "version": "3.8.1"
  }
 },
 "nbformat": 4,
 "nbformat_minor": 4
}
