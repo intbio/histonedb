{
 "cells": [
  {
   "cell_type": "code",
   "execution_count": 1,
   "metadata": {},
   "outputs": [],
   "source": [
    "import pandas as pd\n",
    "import io, collections\n",
    "\n",
    "from Bio import SeqIO, Entrez, SearchIO\n",
    "from Bio.Seq import Seq\n",
    "from Bio.SeqRecord import SeqRecord\n",
    "from Bio.Blast import NCBIXML, NCBIWWW\n",
    "\n",
    "Entrez.email = \"A.N.Other@example.com\""
   ]
  },
  {
   "cell_type": "code",
   "execution_count": 2,
   "metadata": {},
   "outputs": [
    {
     "data": {
      "text/html": [
       "<div>\n",
       "<style scoped>\n",
       "    .dataframe tbody tr th:only-of-type {\n",
       "        vertical-align: middle;\n",
       "    }\n",
       "\n",
       "    .dataframe tbody tr th {\n",
       "        vertical-align: top;\n",
       "    }\n",
       "\n",
       "    .dataframe thead th {\n",
       "        text-align: right;\n",
       "    }\n",
       "</style>\n",
       "<table border=\"1\" class=\"dataframe\">\n",
       "  <thead>\n",
       "    <tr style=\"text-align: right;\">\n",
       "      <th></th>\n",
       "      <th>Species</th>\n",
       "      <th>Name</th>\n",
       "      <th>Sequence</th>\n",
       "      <th>accession</th>\n",
       "    </tr>\n",
       "    <tr>\n",
       "      <th>Name</th>\n",
       "      <th></th>\n",
       "      <th></th>\n",
       "      <th></th>\n",
       "      <th></th>\n",
       "    </tr>\n",
       "  </thead>\n",
       "  <tbody>\n",
       "    <tr>\n",
       "      <th>Pa_H2A.M</th>\n",
       "      <td>Picea abies</td>\n",
       "      <td>Pa_H2A.M</td>\n",
       "      <td>MEPATQGSGGRGGKKKPVSKSERAGLQFPVGRLARYLKKGRYAKRV...</td>\n",
       "      <td></td>\n",
       "    </tr>\n",
       "    <tr>\n",
       "      <th>Sm_H2A.M</th>\n",
       "      <td>Selaginella moellendorffii</td>\n",
       "      <td>Sm_H2A.M</td>\n",
       "      <td>MVVQGGGRKGKKKSVSKSARAGLQFPVGRLARYLKNGRYAKRVGSG...</td>\n",
       "      <td></td>\n",
       "    </tr>\n",
       "    <tr>\n",
       "      <th>Pp_H2A.M2</th>\n",
       "      <td>Physcomitrella patens</td>\n",
       "      <td>Pp_H2A.M2</td>\n",
       "      <td>MSGRGKGAGAAARKKSVTKSAKAGLQFPVGRLGRYLKKGRYAQRVG...</td>\n",
       "      <td></td>\n",
       "    </tr>\n",
       "    <tr>\n",
       "      <th>Pp_H2A.M3</th>\n",
       "      <td>Physcomitrella patens</td>\n",
       "      <td>Pp_H2A.M3</td>\n",
       "      <td>MSGRGKGAGAAARKKSVSRSAKAGLQFPVGRLGRYLKKGRYARRVG...</td>\n",
       "      <td></td>\n",
       "    </tr>\n",
       "    <tr>\n",
       "      <th>Pp_H2A.M1</th>\n",
       "      <td>Physcomitrella patens</td>\n",
       "      <td>Pp_H2A.M1</td>\n",
       "      <td>MSGRGKGAGAAARKKSVTKSAKAGLQFPVGRLGRYLKKGRYAQRVG...</td>\n",
       "      <td></td>\n",
       "    </tr>\n",
       "    <tr>\n",
       "      <th>Mp_H2A.M1</th>\n",
       "      <td>Marchantia polymorpha</td>\n",
       "      <td>Mp_H2A.M1</td>\n",
       "      <td>MSARSGTTAVKKKPVSKSQKAGLQFPVGRMARFLKNGRYAKRIGAG...</td>\n",
       "      <td></td>\n",
       "    </tr>\n",
       "    <tr>\n",
       "      <th>Mp_H2A.M2</th>\n",
       "      <td>Marchantia polymorpha</td>\n",
       "      <td>Mp_H2A.M2</td>\n",
       "      <td>MSGRGHSAKAKRKAISKSARAGLQFPVGRLARYLKNGRYAKRVGAG...</td>\n",
       "      <td></td>\n",
       "    </tr>\n",
       "  </tbody>\n",
       "</table>\n",
       "</div>"
      ],
      "text/plain": [
       "                              Species       Name  \\\n",
       "Name                                               \n",
       "Pa_H2A.M                  Picea abies   Pa_H2A.M   \n",
       "Sm_H2A.M   Selaginella moellendorffii   Sm_H2A.M   \n",
       "Pp_H2A.M2       Physcomitrella patens  Pp_H2A.M2   \n",
       "Pp_H2A.M3       Physcomitrella patens  Pp_H2A.M3   \n",
       "Pp_H2A.M1       Physcomitrella patens  Pp_H2A.M1   \n",
       "Mp_H2A.M1       Marchantia polymorpha  Mp_H2A.M1   \n",
       "Mp_H2A.M2       Marchantia polymorpha  Mp_H2A.M2   \n",
       "\n",
       "                                                    Sequence accession  \n",
       "Name                                                                    \n",
       "Pa_H2A.M   MEPATQGSGGRGGKKKPVSKSERAGLQFPVGRLARYLKKGRYAKRV...            \n",
       "Sm_H2A.M   MVVQGGGRKGKKKSVSKSARAGLQFPVGRLARYLKNGRYAKRVGSG...            \n",
       "Pp_H2A.M2  MSGRGKGAGAAARKKSVTKSAKAGLQFPVGRLGRYLKKGRYAQRVG...            \n",
       "Pp_H2A.M3  MSGRGKGAGAAARKKSVSRSAKAGLQFPVGRLGRYLKKGRYARRVG...            \n",
       "Pp_H2A.M1  MSGRGKGAGAAARKKSVTKSAKAGLQFPVGRLGRYLKKGRYAQRVG...            \n",
       "Mp_H2A.M1  MSARSGTTAVKKKPVSKSQKAGLQFPVGRMARFLKNGRYAKRIGAG...            \n",
       "Mp_H2A.M2  MSGRGHSAKAKRKAISKSARAGLQFPVGRLARYLKNGRYAKRVGAG...            "
      ]
     },
     "execution_count": 2,
     "metadata": {},
     "output_type": "execute_result"
    }
   ],
   "source": [
    "df = pd.read_csv('h2am_histones.csv')\n",
    "df = df[df['Name'].str.contains('H2A.M')]\n",
    "df['accession'] = ['']*df.shape[0]\n",
    "df.index = df.Name\n",
    "df"
   ]
  },
  {
   "cell_type": "code",
   "execution_count": 3,
   "metadata": {},
   "outputs": [
    {
     "data": {
      "text/plain": [
       "{'Marchantia polymorpha',\n",
       " 'Physcomitrella patens',\n",
       " 'Picea abies',\n",
       " 'Selaginella moellendorffii'}"
      ]
     },
     "execution_count": 3,
     "metadata": {},
     "output_type": "execute_result"
    }
   ],
   "source": [
    "set(df['Species'])"
   ]
  },
  {
   "cell_type": "code",
   "execution_count": 4,
   "metadata": {},
   "outputs": [],
   "source": [
    "species_iter = iter(set(df['Species']))"
   ]
  },
  {
   "cell_type": "code",
   "execution_count": 17,
   "metadata": {},
   "outputs": [
    {
     "ename": "StopIteration",
     "evalue": "",
     "output_type": "error",
     "traceback": [
      "\u001b[0;31m---------------------------------------------------------------------------\u001b[0m",
      "\u001b[0;31mStopIteration\u001b[0m                             Traceback (most recent call last)",
      "\u001b[0;32m<ipython-input-17-fc73c2c67bfa>\u001b[0m in \u001b[0;36m<module>\u001b[0;34m\u001b[0m\n\u001b[0;32m----> 1\u001b[0;31m \u001b[0mspecies\u001b[0m \u001b[0;34m=\u001b[0m \u001b[0mnext\u001b[0m\u001b[0;34m(\u001b[0m\u001b[0mspecies_iter\u001b[0m\u001b[0;34m)\u001b[0m\u001b[0;34m\u001b[0m\u001b[0;34m\u001b[0m\u001b[0m\n\u001b[0m\u001b[1;32m      2\u001b[0m sequences = \"\\n\".join([SeqRecord(Seq(row['Sequence']), id=row['Name'], name=row['Name'],\n\u001b[1;32m      3\u001b[0m                                  description=f\"organism={row['Species']}\").format(\"fasta\") for i, row in df[df['Species']==species].iterrows()])\n\u001b[1;32m      4\u001b[0m \u001b[0mprint\u001b[0m\u001b[0;34m(\u001b[0m\u001b[0msequences\u001b[0m\u001b[0;34m)\u001b[0m\u001b[0;34m\u001b[0m\u001b[0;34m\u001b[0m\u001b[0m\n",
      "\u001b[0;31mStopIteration\u001b[0m: "
     ]
    }
   ],
   "source": [
    "species = next(species_iter)\n",
    "sequences = \"\\n\".join([SeqRecord(Seq(row['Sequence']), id=row['Name'], name=row['Name'],\n",
    "                                 description=f\"organism={row['Species']}\").format(\"fasta\") for i, row in df[df['Species']==species].iterrows()])\n",
    "print(sequences)"
   ]
  },
  {
   "cell_type": "markdown",
   "metadata": {},
   "source": [
    "## ... Blast sequences explicitly for each species"
   ]
  },
  {
   "cell_type": "code",
   "execution_count": 15,
   "metadata": {},
   "outputs": [
    {
     "data": {
      "text/html": [
       "<div>\n",
       "<style scoped>\n",
       "    .dataframe tbody tr th:only-of-type {\n",
       "        vertical-align: middle;\n",
       "    }\n",
       "\n",
       "    .dataframe tbody tr th {\n",
       "        vertical-align: top;\n",
       "    }\n",
       "\n",
       "    .dataframe thead th {\n",
       "        text-align: right;\n",
       "    }\n",
       "</style>\n",
       "<table border=\"1\" class=\"dataframe\">\n",
       "  <thead>\n",
       "    <tr style=\"text-align: right;\">\n",
       "      <th></th>\n",
       "      <th>0</th>\n",
       "      <th>1</th>\n",
       "      <th>2</th>\n",
       "      <th>3</th>\n",
       "      <th>4</th>\n",
       "      <th>5</th>\n",
       "      <th>6</th>\n",
       "      <th>7</th>\n",
       "    </tr>\n",
       "  </thead>\n",
       "  <tbody>\n",
       "  </tbody>\n",
       "</table>\n",
       "</div>"
      ],
      "text/plain": [
       "Empty DataFrame\n",
       "Columns: [0, 1, 2, 3, 4, 5, 6, 7]\n",
       "Index: []"
      ]
     },
     "execution_count": 15,
     "metadata": {},
     "output_type": "execute_result"
    }
   ],
   "source": [
    "df_blast = pd.read_csv(f\"{species.replace(' ', '_')}-Alignment-HitTable.csv\", header=None)\n",
    "df_blast = df_blast.iloc[:,:8]\n",
    "df_blast = df_blast[(df_blast[2]==100) & (df_blast[6]==1) & (df_blast[7]==df_blast[3])]\n",
    "for i, row in df_blast.iterrows():\n",
    "    if len(df.loc[row[0], 'Sequence']) != row[3]: continue\n",
    "    df.at[row[0], 'accession'] = row[1]\n",
    "df_blast"
   ]
  },
  {
   "cell_type": "code",
   "execution_count": 16,
   "metadata": {},
   "outputs": [
    {
     "data": {
      "text/html": [
       "<div>\n",
       "<style scoped>\n",
       "    .dataframe tbody tr th:only-of-type {\n",
       "        vertical-align: middle;\n",
       "    }\n",
       "\n",
       "    .dataframe tbody tr th {\n",
       "        vertical-align: top;\n",
       "    }\n",
       "\n",
       "    .dataframe thead th {\n",
       "        text-align: right;\n",
       "    }\n",
       "</style>\n",
       "<table border=\"1\" class=\"dataframe\">\n",
       "  <thead>\n",
       "    <tr style=\"text-align: right;\">\n",
       "      <th></th>\n",
       "      <th>Species</th>\n",
       "      <th>Name</th>\n",
       "      <th>Sequence</th>\n",
       "      <th>accession</th>\n",
       "    </tr>\n",
       "    <tr>\n",
       "      <th>Name</th>\n",
       "      <th></th>\n",
       "      <th></th>\n",
       "      <th></th>\n",
       "      <th></th>\n",
       "    </tr>\n",
       "  </thead>\n",
       "  <tbody>\n",
       "    <tr>\n",
       "      <th>Sm_H2A.M</th>\n",
       "      <td>Selaginella moellendorffii</td>\n",
       "      <td>Sm_H2A.M</td>\n",
       "      <td>MVVQGGGRKGKKKSVSKSARAGLQFPVGRLARYLKNGRYAKRVGSG...</td>\n",
       "      <td></td>\n",
       "    </tr>\n",
       "  </tbody>\n",
       "</table>\n",
       "</div>"
      ],
      "text/plain": [
       "                             Species      Name  \\\n",
       "Name                                             \n",
       "Sm_H2A.M  Selaginella moellendorffii  Sm_H2A.M   \n",
       "\n",
       "                                                   Sequence accession  \n",
       "Name                                                                   \n",
       "Sm_H2A.M  MVVQGGGRKGKKKSVSKSARAGLQFPVGRLARYLKNGRYAKRVGSG...            "
      ]
     },
     "execution_count": 16,
     "metadata": {},
     "output_type": "execute_result"
    }
   ],
   "source": [
    "df[df['Species']==species]"
   ]
  },
  {
   "cell_type": "markdown",
   "metadata": {},
   "source": [
    "## Give HISTDB_H2A_M_\\<Number\\> accession for not found sequences "
   ]
  },
  {
   "cell_type": "code",
   "execution_count": 18,
   "metadata": {},
   "outputs": [
    {
     "data": {
      "text/plain": [
       "(3, 4)"
      ]
     },
     "execution_count": 18,
     "metadata": {},
     "output_type": "execute_result"
    }
   ],
   "source": [
    "df[df['accession']==''].shape"
   ]
  },
  {
   "cell_type": "code",
   "execution_count": 19,
   "metadata": {},
   "outputs": [],
   "source": [
    "histdb_accessions = iter([f'HISTDB_H2A_M_{i}' for i in range(df[df['accession']==''].shape[0])])"
   ]
  },
  {
   "cell_type": "code",
   "execution_count": 20,
   "metadata": {},
   "outputs": [
    {
     "data": {
      "text/plain": [
       "(3, 4)"
      ]
     },
     "execution_count": 20,
     "metadata": {},
     "output_type": "execute_result"
    }
   ],
   "source": [
    "df['accession'] = [a if a else next(histdb_accessions) for a in df['accession']]\n",
    "df[df['accession'].str.startswith('HISTDB')].shape"
   ]
  },
  {
   "cell_type": "code",
   "execution_count": 21,
   "metadata": {},
   "outputs": [
    {
     "data": {
      "text/html": [
       "<div>\n",
       "<style scoped>\n",
       "    .dataframe tbody tr th:only-of-type {\n",
       "        vertical-align: middle;\n",
       "    }\n",
       "\n",
       "    .dataframe tbody tr th {\n",
       "        vertical-align: top;\n",
       "    }\n",
       "\n",
       "    .dataframe thead th {\n",
       "        text-align: right;\n",
       "    }\n",
       "</style>\n",
       "<table border=\"1\" class=\"dataframe\">\n",
       "  <thead>\n",
       "    <tr style=\"text-align: right;\">\n",
       "      <th></th>\n",
       "      <th>Species</th>\n",
       "      <th>Name</th>\n",
       "      <th>Sequence</th>\n",
       "      <th>accession</th>\n",
       "    </tr>\n",
       "    <tr>\n",
       "      <th>Name</th>\n",
       "      <th></th>\n",
       "      <th></th>\n",
       "      <th></th>\n",
       "      <th></th>\n",
       "    </tr>\n",
       "  </thead>\n",
       "  <tbody>\n",
       "    <tr>\n",
       "      <th>Pa_H2A.M</th>\n",
       "      <td>Picea abies</td>\n",
       "      <td>Pa_H2A.M</td>\n",
       "      <td>MEPATQGSGGRGGKKKPVSKSERAGLQFPVGRLARYLKKGRYAKRV...</td>\n",
       "      <td>HISTDB_H2A_M_0</td>\n",
       "    </tr>\n",
       "    <tr>\n",
       "      <th>Sm_H2A.M</th>\n",
       "      <td>Selaginella moellendorffii</td>\n",
       "      <td>Sm_H2A.M</td>\n",
       "      <td>MVVQGGGRKGKKKSVSKSARAGLQFPVGRLARYLKNGRYAKRVGSG...</td>\n",
       "      <td>HISTDB_H2A_M_1</td>\n",
       "    </tr>\n",
       "    <tr>\n",
       "      <th>Mp_H2A.M2</th>\n",
       "      <td>Marchantia polymorpha</td>\n",
       "      <td>Mp_H2A.M2</td>\n",
       "      <td>MSGRGHSAKAKRKAISKSARAGLQFPVGRLARYLKNGRYAKRVGAG...</td>\n",
       "      <td>HISTDB_H2A_M_2</td>\n",
       "    </tr>\n",
       "  </tbody>\n",
       "</table>\n",
       "</div>"
      ],
      "text/plain": [
       "                              Species       Name  \\\n",
       "Name                                               \n",
       "Pa_H2A.M                  Picea abies   Pa_H2A.M   \n",
       "Sm_H2A.M   Selaginella moellendorffii   Sm_H2A.M   \n",
       "Mp_H2A.M2       Marchantia polymorpha  Mp_H2A.M2   \n",
       "\n",
       "                                                    Sequence       accession  \n",
       "Name                                                                          \n",
       "Pa_H2A.M   MEPATQGSGGRGGKKKPVSKSERAGLQFPVGRLARYLKKGRYAKRV...  HISTDB_H2A_M_0  \n",
       "Sm_H2A.M   MVVQGGGRKGKKKSVSKSARAGLQFPVGRLARYLKNGRYAKRVGSG...  HISTDB_H2A_M_1  \n",
       "Mp_H2A.M2  MSGRGHSAKAKRKAISKSARAGLQFPVGRLARYLKNGRYAKRVGAG...  HISTDB_H2A_M_2  "
      ]
     },
     "execution_count": 21,
     "metadata": {},
     "output_type": "execute_result"
    }
   ],
   "source": [
    "df[df['accession'].str.startswith('HISTDB')]"
   ]
  },
  {
   "cell_type": "code",
   "execution_count": 22,
   "metadata": {},
   "outputs": [
    {
     "data": {
      "text/html": [
       "<div>\n",
       "<style scoped>\n",
       "    .dataframe tbody tr th:only-of-type {\n",
       "        vertical-align: middle;\n",
       "    }\n",
       "\n",
       "    .dataframe tbody tr th {\n",
       "        vertical-align: top;\n",
       "    }\n",
       "\n",
       "    .dataframe thead th {\n",
       "        text-align: right;\n",
       "    }\n",
       "</style>\n",
       "<table border=\"1\" class=\"dataframe\">\n",
       "  <thead>\n",
       "    <tr style=\"text-align: right;\">\n",
       "      <th></th>\n",
       "      <th>Species</th>\n",
       "      <th>Name</th>\n",
       "      <th>Sequence</th>\n",
       "      <th>accession</th>\n",
       "    </tr>\n",
       "    <tr>\n",
       "      <th>Name</th>\n",
       "      <th></th>\n",
       "      <th></th>\n",
       "      <th></th>\n",
       "      <th></th>\n",
       "    </tr>\n",
       "  </thead>\n",
       "  <tbody>\n",
       "    <tr>\n",
       "      <th>Pa_H2A.M</th>\n",
       "      <td>Picea abies</td>\n",
       "      <td>Pa_H2A.M</td>\n",
       "      <td>MEPATQGSGGRGGKKKPVSKSERAGLQFPVGRLARYLKKGRYAKRV...</td>\n",
       "      <td>HISTDB_H2A_M_0</td>\n",
       "    </tr>\n",
       "    <tr>\n",
       "      <th>Sm_H2A.M</th>\n",
       "      <td>Selaginella moellendorffii</td>\n",
       "      <td>Sm_H2A.M</td>\n",
       "      <td>MVVQGGGRKGKKKSVSKSARAGLQFPVGRLARYLKNGRYAKRVGSG...</td>\n",
       "      <td>HISTDB_H2A_M_1</td>\n",
       "    </tr>\n",
       "    <tr>\n",
       "      <th>Pp_H2A.M2</th>\n",
       "      <td>Physcomitrella patens</td>\n",
       "      <td>Pp_H2A.M2</td>\n",
       "      <td>MSGRGKGAGAAARKKSVTKSAKAGLQFPVGRLGRYLKKGRYAQRVG...</td>\n",
       "      <td>XP_024376581.1</td>\n",
       "    </tr>\n",
       "    <tr>\n",
       "      <th>Pp_H2A.M3</th>\n",
       "      <td>Physcomitrella patens</td>\n",
       "      <td>Pp_H2A.M3</td>\n",
       "      <td>MSGRGKGAGAAARKKSVSRSAKAGLQFPVGRLGRYLKKGRYARRVG...</td>\n",
       "      <td>XP_024376580.1</td>\n",
       "    </tr>\n",
       "    <tr>\n",
       "      <th>Pp_H2A.M1</th>\n",
       "      <td>Physcomitrella patens</td>\n",
       "      <td>Pp_H2A.M1</td>\n",
       "      <td>MSGRGKGAGAAARKKSVTKSAKAGLQFPVGRLGRYLKKGRYAQRVG...</td>\n",
       "      <td>XP_024377711.1</td>\n",
       "    </tr>\n",
       "  </tbody>\n",
       "</table>\n",
       "</div>"
      ],
      "text/plain": [
       "                              Species       Name  \\\n",
       "Name                                               \n",
       "Pa_H2A.M                  Picea abies   Pa_H2A.M   \n",
       "Sm_H2A.M   Selaginella moellendorffii   Sm_H2A.M   \n",
       "Pp_H2A.M2       Physcomitrella patens  Pp_H2A.M2   \n",
       "Pp_H2A.M3       Physcomitrella patens  Pp_H2A.M3   \n",
       "Pp_H2A.M1       Physcomitrella patens  Pp_H2A.M1   \n",
       "\n",
       "                                                    Sequence       accession  \n",
       "Name                                                                          \n",
       "Pa_H2A.M   MEPATQGSGGRGGKKKPVSKSERAGLQFPVGRLARYLKKGRYAKRV...  HISTDB_H2A_M_0  \n",
       "Sm_H2A.M   MVVQGGGRKGKKKSVSKSARAGLQFPVGRLARYLKNGRYAKRVGSG...  HISTDB_H2A_M_1  \n",
       "Pp_H2A.M2  MSGRGKGAGAAARKKSVTKSAKAGLQFPVGRLGRYLKKGRYAQRVG...  XP_024376581.1  \n",
       "Pp_H2A.M3  MSGRGKGAGAAARKKSVSRSAKAGLQFPVGRLGRYLKKGRYARRVG...  XP_024376580.1  \n",
       "Pp_H2A.M1  MSGRGKGAGAAARKKSVTKSAKAGLQFPVGRLGRYLKKGRYAQRVG...  XP_024377711.1  "
      ]
     },
     "execution_count": 22,
     "metadata": {},
     "output_type": "execute_result"
    }
   ],
   "source": [
    "df.head()"
   ]
  },
  {
   "cell_type": "code",
   "execution_count": 23,
   "metadata": {},
   "outputs": [
    {
     "data": {
      "text/plain": [
       "7"
      ]
     },
     "execution_count": 23,
     "metadata": {},
     "output_type": "execute_result"
    }
   ],
   "source": [
    "len(set(df['accession']))"
   ]
  },
  {
   "cell_type": "code",
   "execution_count": 24,
   "metadata": {},
   "outputs": [
    {
     "data": {
      "text/plain": [
       "[]"
      ]
     },
     "execution_count": 24,
     "metadata": {},
     "output_type": "execute_result"
    }
   ],
   "source": [
    "c = collections.Counter(df['accession'])\n",
    "[ci[0] for ci in c.most_common() if ci[1]>1]"
   ]
  },
  {
   "cell_type": "code",
   "execution_count": 25,
   "metadata": {},
   "outputs": [],
   "source": [
    "df.to_csv('h2am_histones.csv', index=False)"
   ]
  },
  {
   "cell_type": "code",
   "execution_count": null,
   "metadata": {},
   "outputs": [],
   "source": []
  }
 ],
 "metadata": {
  "kernelspec": {
   "display_name": ".conda-histdb_env",
   "language": "python",
   "name": "conda-env-.conda-histdb_env-py"
  },
  "language_info": {
   "codemirror_mode": {
    "name": "ipython",
    "version": 3
   },
   "file_extension": ".py",
   "mimetype": "text/x-python",
   "name": "python",
   "nbconvert_exporter": "python",
   "pygments_lexer": "ipython3",
   "version": "3.8.1"
  }
 },
 "nbformat": 4,
 "nbformat_minor": 4
}
