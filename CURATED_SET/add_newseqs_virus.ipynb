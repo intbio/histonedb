{
 "cells": [
  {
   "cell_type": "code",
   "execution_count": 2,
   "metadata": {},
   "outputs": [],
   "source": [
    "import os, re, sys\n",
    "import pandas as pd\n",
    "\n",
    "from Bio import SeqIO, Entrez\n",
    "\n",
    "from curated_set_services import CuratedSet"
   ]
  },
  {
   "cell_type": "code",
   "execution_count": 3,
   "metadata": {},
   "outputs": [],
   "source": [
    "#Load data from histones.csv\n",
    "curated_set = CuratedSet()\n",
    "cs=curated_set"
   ]
  },
  {
   "cell_type": "code",
   "execution_count": 4,
   "metadata": {},
   "outputs": [
    {
     "data": {
      "text/html": [
       "<div>\n",
       "<style scoped>\n",
       "    .dataframe tbody tr th:only-of-type {\n",
       "        vertical-align: middle;\n",
       "    }\n",
       "\n",
       "    .dataframe tbody tr th {\n",
       "        vertical-align: top;\n",
       "    }\n",
       "\n",
       "    .dataframe thead th {\n",
       "        text-align: right;\n",
       "    }\n",
       "</style>\n",
       "<table border=\"1\" class=\"dataframe\">\n",
       "  <thead>\n",
       "    <tr style=\"text-align: right;\">\n",
       "      <th></th>\n",
       "      <th>accession</th>\n",
       "      <th>type</th>\n",
       "      <th>variant_group</th>\n",
       "      <th>variant</th>\n",
       "      <th>doublet</th>\n",
       "      <th>gi</th>\n",
       "      <th>ncbi_gene_id</th>\n",
       "      <th>hgnc_gene_name</th>\n",
       "      <th>taxonomy_id</th>\n",
       "      <th>organism</th>\n",
       "      <th>phylum</th>\n",
       "      <th>class</th>\n",
       "      <th>taxonomy_group</th>\n",
       "      <th>info</th>\n",
       "      <th>references</th>\n",
       "      <th>sequence</th>\n",
       "    </tr>\n",
       "  </thead>\n",
       "  <tbody>\n",
       "    <tr>\n",
       "      <th>XP_010685819.1</th>\n",
       "      <td>XP_010685819.1</td>\n",
       "      <td>H2A</td>\n",
       "      <td>cH2A</td>\n",
       "      <td>cH2A</td>\n",
       "      <td></td>\n",
       "      <td>731349093</td>\n",
       "      <td></td>\n",
       "      <td></td>\n",
       "      <td>3555</td>\n",
       "      <td>Beta vulgaris subsp. vulgaris</td>\n",
       "      <td>Streptophyta</td>\n",
       "      <td>Magnoliopsida</td>\n",
       "      <td></td>\n",
       "      <td></td>\n",
       "      <td></td>\n",
       "      <td>MDSTAGGKAKKGAGGRKGGGPKKKPVSRSVKAGLQFPVGRIGRYLK...</td>\n",
       "    </tr>\n",
       "    <tr>\n",
       "      <th>NP_563627.1</th>\n",
       "      <td>NP_563627.1</td>\n",
       "      <td>H3</td>\n",
       "      <td>cenH3</td>\n",
       "      <td>cenH3</td>\n",
       "      <td></td>\n",
       "      <td>18378832</td>\n",
       "      <td></td>\n",
       "      <td></td>\n",
       "      <td>3702</td>\n",
       "      <td>Arabidopsis thaliana</td>\n",
       "      <td>Streptophyta</td>\n",
       "      <td>Magnoliopsida</td>\n",
       "      <td></td>\n",
       "      <td></td>\n",
       "      <td></td>\n",
       "      <td>MARTKHRVTRSQPRNQTDAAGASSSQAAGPTTTPTRRGGEGGDNTQ...</td>\n",
       "    </tr>\n",
       "    <tr>\n",
       "      <th>NP_001190852.1</th>\n",
       "      <td>NP_001190852.1</td>\n",
       "      <td>H2A</td>\n",
       "      <td>cH2A</td>\n",
       "      <td>cH2A</td>\n",
       "      <td></td>\n",
       "      <td>334186954</td>\n",
       "      <td></td>\n",
       "      <td></td>\n",
       "      <td>3702</td>\n",
       "      <td>Arabidopsis thaliana</td>\n",
       "      <td>Streptophyta</td>\n",
       "      <td>Magnoliopsida</td>\n",
       "      <td></td>\n",
       "      <td></td>\n",
       "      <td></td>\n",
       "      <td>MAGRGKQLGSGAAKKSTSRSSKAGLQFPVGRIARFLKAGKYAERVG...</td>\n",
       "    </tr>\n",
       "    <tr>\n",
       "      <th>NP_175517.1</th>\n",
       "      <td>NP_175517.1</td>\n",
       "      <td>H2A</td>\n",
       "      <td>cH2A</td>\n",
       "      <td>cH2A</td>\n",
       "      <td></td>\n",
       "      <td>15223708</td>\n",
       "      <td></td>\n",
       "      <td></td>\n",
       "      <td>3702</td>\n",
       "      <td>Arabidopsis thaliana</td>\n",
       "      <td>Streptophyta</td>\n",
       "      <td>Magnoliopsida</td>\n",
       "      <td></td>\n",
       "      <td></td>\n",
       "      <td></td>\n",
       "      <td>MAGRGKTLGSGSAKKATTRSSKAGLQFPVGRIARFLKKGKYAERVG...</td>\n",
       "    </tr>\n",
       "    <tr>\n",
       "      <th>NP_188703.1</th>\n",
       "      <td>NP_188703.1</td>\n",
       "      <td>H2A</td>\n",
       "      <td>cH2A</td>\n",
       "      <td>cH2A</td>\n",
       "      <td></td>\n",
       "      <td>15232330</td>\n",
       "      <td></td>\n",
       "      <td></td>\n",
       "      <td>3702</td>\n",
       "      <td>Arabidopsis thaliana</td>\n",
       "      <td>Streptophyta</td>\n",
       "      <td>Magnoliopsida</td>\n",
       "      <td></td>\n",
       "      <td></td>\n",
       "      <td></td>\n",
       "      <td>MAGRGKTLGSGVAKKSTSRSSKAGLQFPVGRIARFLKNGKYATRVG...</td>\n",
       "    </tr>\n",
       "  </tbody>\n",
       "</table>\n",
       "</div>"
      ],
      "text/plain": [
       "                     accession type variant_group variant doublet         gi  \\\n",
       "XP_010685819.1  XP_010685819.1  H2A          cH2A    cH2A          731349093   \n",
       "NP_563627.1        NP_563627.1   H3         cenH3   cenH3           18378832   \n",
       "NP_001190852.1  NP_001190852.1  H2A          cH2A    cH2A          334186954   \n",
       "NP_175517.1        NP_175517.1  H2A          cH2A    cH2A           15223708   \n",
       "NP_188703.1        NP_188703.1  H2A          cH2A    cH2A           15232330   \n",
       "\n",
       "               ncbi_gene_id hgnc_gene_name taxonomy_id  \\\n",
       "XP_010685819.1                                    3555   \n",
       "NP_563627.1                                       3702   \n",
       "NP_001190852.1                                    3702   \n",
       "NP_175517.1                                       3702   \n",
       "NP_188703.1                                       3702   \n",
       "\n",
       "                                     organism        phylum          class  \\\n",
       "XP_010685819.1  Beta vulgaris subsp. vulgaris  Streptophyta  Magnoliopsida   \n",
       "NP_563627.1              Arabidopsis thaliana  Streptophyta  Magnoliopsida   \n",
       "NP_001190852.1           Arabidopsis thaliana  Streptophyta  Magnoliopsida   \n",
       "NP_175517.1              Arabidopsis thaliana  Streptophyta  Magnoliopsida   \n",
       "NP_188703.1              Arabidopsis thaliana  Streptophyta  Magnoliopsida   \n",
       "\n",
       "               taxonomy_group info references  \\\n",
       "XP_010685819.1                                  \n",
       "NP_563627.1                                     \n",
       "NP_001190852.1                                  \n",
       "NP_175517.1                                     \n",
       "NP_188703.1                                     \n",
       "\n",
       "                                                         sequence  \n",
       "XP_010685819.1  MDSTAGGKAKKGAGGRKGGGPKKKPVSRSVKAGLQFPVGRIGRYLK...  \n",
       "NP_563627.1     MARTKHRVTRSQPRNQTDAAGASSSQAAGPTTTPTRRGGEGGDNTQ...  \n",
       "NP_001190852.1  MAGRGKQLGSGAAKKSTSRSSKAGLQFPVGRIARFLKAGKYAERVG...  \n",
       "NP_175517.1     MAGRGKTLGSGSAKKATTRSSKAGLQFPVGRIARFLKKGKYAERVG...  \n",
       "NP_188703.1     MAGRGKTLGSGVAKKSTSRSSKAGLQFPVGRIARFLKNGKYATRVG...  "
      ]
     },
     "execution_count": 4,
     "metadata": {},
     "output_type": "execute_result"
    }
   ],
   "source": [
    "cs.data.head()"
   ]
  },
  {
   "cell_type": "code",
   "execution_count": 23,
   "metadata": {},
   "outputs": [
    {
     "data": {
      "text/plain": [
       "SeqRecord(seq=Seq('MSGKKSHESSYQTQAHLITTELQVPVSYVDRLLQENQYNHPLSSSTTDFLLTML...RNG'), id='XP_002913536.1', name='XP_002913536', description='huntingtin-interacting protein M [Ailuropoda melanoleuca]', dbxrefs=['BioProject:PRJNA633539'])"
      ]
     },
     "execution_count": 23,
     "metadata": {},
     "output_type": "execute_result"
    }
   ],
   "source": [
    "handle= Entrez.efetch(db=\"protein\", id='XP_002913536.1', rettype=\"gb\", retmode=\"text\")\n",
    "data = list(SeqIO.parse(handle, \"gb\"))\n",
    "data[0]"
   ]
  },
  {
   "cell_type": "code",
   "execution_count": 7,
   "metadata": {},
   "outputs": [
    {
     "name": "stdout",
     "output_type": "stream",
     "text": [
      "ACCESSION XP_012928609.2\n",
      "['MFDVFGRDKGGKVLDKGRAKRHPKVLRGNIQGITKPAISRLARRSGVKRISGLICEETRGVLKVFRMETMIRDIVIYAEHAKRETVTAMDVVYTLKXQGRTLYGFGELSSCINREASQRFIRLLSVCSITHTKQAARKSTCGKTPRKQLATRAACKSXVKKPHRYRAGTEALREIRRYQKFTKLLIRKLPFQRLVREIAQDFKTDLRFQSSAVMALHEASEAYLVGLFEDTNLLLISSQLLAMSGRGKGGKGLGKGGAKRHRKVLRDNIQGITKPAIRRLARRGGVKRISGLIYEETRGVLKVFLENVIRDAVTYTEHAKRKTVTAMDVVYALKRQGRTLYGFGG']\n",
      "--------------------------------------------------------------------------------------------------------\n",
      "ACCESSION NP_001035891.1\n",
      "['MGPRRRSRKPEAPRRRSPSPTPTPGPSRRGPSLGASSHQHSRRRQGWLKEIRKLQKSTHLLIRKLPFSRLAAEAFLVHLFEDAYLLTLHAGRVTLFPKDVQLARRIRGLEEGLG']\n",
      "--------------------------------------------------------------------------------------------------------\n",
      "ACCESSION XP_002763866.2\n",
      "['MSERRSRRGSSAAGRRGHTRSRTARAELIFSVSKMERGLWEGHYAQRLSDNAPVYLAAVIQYLTAKILELAAKGADNRGERIITPRLLDMAVHNDGLLSTLFHAITISQVGPGPN']\n",
      "--------------------------------------------------------------------------------------------------------\n"
     ]
    }
   ],
   "source": [
    "for acc in ['XP_012928609.2', 'NP_001035891.1', 'XP_002763866.2']:\n",
    "    print(f\"ACCESSION {acc}\\n{cs.data.loc[cs.data['accession']==acc]['sequence'].values}\\n--------------------------------------------------------------------------------------------------------\")"
   ]
  },
  {
   "cell_type": "code",
   "execution_count": null,
   "metadata": {},
   "outputs": [],
   "source": []
  },
  {
   "cell_type": "code",
   "execution_count": 44,
   "metadata": {},
   "outputs": [
    {
     "data": {
      "text/plain": [
       "{'H2A.1',\n",
       " 'H2A.B',\n",
       " 'H2A.B.1_(Homo_sapiens)',\n",
       " 'H2A.B.2.1_(Homo_sapiens)',\n",
       " 'H2A.B.2.2_(Homo_sapiens)',\n",
       " 'H2A.J_(Homo_sapiens)',\n",
       " 'H2A.L',\n",
       " 'H2A.P',\n",
       " 'H2A.P_(Homo_sapiens)',\n",
       " 'H2A.W',\n",
       " 'H2A.X',\n",
       " 'H2A.X_(Homo_sapiens)',\n",
       " 'H2A.Z',\n",
       " 'H2A.Z.1_(Homo_sapiens)',\n",
       " 'H2A.Z.2.s1_(Homo_sapiens)',\n",
       " 'H2A.Z.2.s2_(Homo_sapiens)',\n",
       " 'H2A.Z.2.s3_(Homo_sapiens)',\n",
       " 'H2A.Z.2.s4_(Homo_sapiens)',\n",
       " 'H2A.Z.2.s5_(Homo_sapiens)',\n",
       " 'cH2A',\n",
       " 'cH2A.1.1_(Homo_sapiens)',\n",
       " 'cH2A.1.2_(Homo_sapiens)',\n",
       " 'cH2A.1.3_(Homo_sapiens)',\n",
       " 'cH2A.1.4_(Homo_sapiens)',\n",
       " 'cH2A.1.5_(Homo_sapiens)',\n",
       " 'cH2A.1.6_(Homo_sapiens)',\n",
       " 'cH2A.1.7_(Homo_sapiens)',\n",
       " 'cH2A.1.8_(Homo_sapiens)',\n",
       " 'cH2A.1.9_(Homo_sapiens)',\n",
       " 'cH2A.2.1_(Homo_sapiens)',\n",
       " 'cH2A.2.2_(Homo_sapiens)',\n",
       " 'generic_H2A',\n",
       " 'macroH2A',\n",
       " 'macroH2A.1.s1_(Homo_sapiens)',\n",
       " 'macroH2A.1.s2_(Homo_sapiens)',\n",
       " 'macroH2A.1.s3_(Homo_sapiens)',\n",
       " 'macroH2A.2_(Homo_sapiens)'}"
      ]
     },
     "execution_count": 44,
     "metadata": {},
     "output_type": "execute_result"
    }
   ],
   "source": [
    "set(cs.data[cs.data['type']=='H2A']['variant'])"
   ]
  },
  {
   "cell_type": "code",
   "execution_count": null,
   "metadata": {},
   "outputs": [],
   "source": []
  },
  {
   "cell_type": "code",
   "execution_count": 8,
   "metadata": {},
   "outputs": [
    {
     "data": {
      "text/plain": [
       "{'H1', 'H2A', 'H2B', 'H3', 'H4'}"
      ]
     },
     "execution_count": 8,
     "metadata": {},
     "output_type": "execute_result"
    }
   ],
   "source": [
    "set(cs.data['type'])"
   ]
  },
  {
   "cell_type": "code",
   "execution_count": 18,
   "metadata": {},
   "outputs": [
    {
     "data": {
      "text/plain": [
       "Index(['accession', 'type', 'variant_group', 'variant', 'doublet', 'gi',\n",
       "       'ncbi_gene_id', 'hgnc_gene_name', 'taxonomy_id', 'organism', 'phylum',\n",
       "       'class', 'taxonomy_group', 'info', 'references', 'sequence'],\n",
       "      dtype='object')"
      ]
     },
     "execution_count": 18,
     "metadata": {},
     "output_type": "execute_result"
    }
   ],
   "source": [
    "cs.data.columns"
   ]
  },
  {
   "cell_type": "code",
   "execution_count": 17,
   "metadata": {},
   "outputs": [
    {
     "data": {
      "text/html": [
       "<div>\n",
       "<style scoped>\n",
       "    .dataframe tbody tr th:only-of-type {\n",
       "        vertical-align: middle;\n",
       "    }\n",
       "\n",
       "    .dataframe tbody tr th {\n",
       "        vertical-align: top;\n",
       "    }\n",
       "\n",
       "    .dataframe thead th {\n",
       "        text-align: right;\n",
       "    }\n",
       "</style>\n",
       "<table border=\"1\" class=\"dataframe\">\n",
       "  <thead>\n",
       "    <tr style=\"text-align: right;\">\n",
       "      <th></th>\n",
       "      <th>A</th>\n",
       "      <th>B</th>\n",
       "      <th>C</th>\n",
       "    </tr>\n",
       "  </thead>\n",
       "  <tbody>\n",
       "    <tr>\n",
       "      <th>0</th>\n",
       "      <td>[1, 2, 3]</td>\n",
       "      <td>[1, 2, 3]</td>\n",
       "      <td>NaN</td>\n",
       "    </tr>\n",
       "  </tbody>\n",
       "</table>\n",
       "</div>"
      ],
      "text/plain": [
       "           A          B    C\n",
       "0  [1, 2, 3]  [1, 2, 3]  NaN"
      ]
     },
     "execution_count": 17,
     "metadata": {},
     "output_type": "execute_result"
    }
   ],
   "source": [
    "new_seqs = {'accession': [],\n",
    "            'type': [],\n",
    "            'variant_group': [],\n",
    "            'variant': [],\n",
    "            'doublet': [],\n",
    "            'references': [],\n",
    "            'sequence': []}\n",
    "# df = df.append({'A': [1,2,3], 'B': [1,2,3]}, ignore_index=True)"
   ]
  },
  {
   "cell_type": "code",
   "execution_count": 22,
   "metadata": {},
   "outputs": [
    {
     "data": {
      "text/plain": [
       "(72, 6)"
      ]
     },
     "execution_count": 22,
     "metadata": {},
     "output_type": "execute_result"
    }
   ],
   "source": [
    "df = pd.read_csv('viral_histones.csv').fillna('')\n",
    "df.shape"
   ]
  },
  {
   "cell_type": "code",
   "execution_count": 23,
   "metadata": {},
   "outputs": [
    {
     "data": {
      "text/html": [
       "<div>\n",
       "<style scoped>\n",
       "    .dataframe tbody tr th:only-of-type {\n",
       "        vertical-align: middle;\n",
       "    }\n",
       "\n",
       "    .dataframe tbody tr th {\n",
       "        vertical-align: top;\n",
       "    }\n",
       "\n",
       "    .dataframe thead th {\n",
       "        text-align: right;\n",
       "    }\n",
       "</style>\n",
       "<table border=\"1\" class=\"dataframe\">\n",
       "  <thead>\n",
       "    <tr style=\"text-align: right;\">\n",
       "      <th></th>\n",
       "      <th>accession</th>\n",
       "      <th>type</th>\n",
       "      <th>variant_group</th>\n",
       "      <th>variant</th>\n",
       "      <th>doublet</th>\n",
       "      <th>references</th>\n",
       "    </tr>\n",
       "  </thead>\n",
       "  <tbody>\n",
       "    <tr>\n",
       "      <th>0</th>\n",
       "      <td>AAV98010.1</td>\n",
       "      <td>Viral_H4</td>\n",
       "      <td></td>\n",
       "      <td></td>\n",
       "      <td>False</td>\n",
       "      <td>35624484</td>\n",
       "    </tr>\n",
       "    <tr>\n",
       "      <th>1</th>\n",
       "      <td>YP_009665791.1</td>\n",
       "      <td>Viral_H4</td>\n",
       "      <td></td>\n",
       "      <td></td>\n",
       "      <td>False</td>\n",
       "      <td>35624484</td>\n",
       "    </tr>\n",
       "    <tr>\n",
       "      <th>2</th>\n",
       "      <td>AGL91659.1</td>\n",
       "      <td>Viral_H4</td>\n",
       "      <td></td>\n",
       "      <td></td>\n",
       "      <td>False</td>\n",
       "      <td>35624484</td>\n",
       "    </tr>\n",
       "    <tr>\n",
       "      <th>3</th>\n",
       "      <td>AFN42307.1</td>\n",
       "      <td>Viral_H4</td>\n",
       "      <td></td>\n",
       "      <td></td>\n",
       "      <td>False</td>\n",
       "      <td>35624484</td>\n",
       "    </tr>\n",
       "    <tr>\n",
       "      <th>4</th>\n",
       "      <td>BCU02668.1</td>\n",
       "      <td>Viral_H2B</td>\n",
       "      <td></td>\n",
       "      <td></td>\n",
       "      <td>False</td>\n",
       "      <td>35624484</td>\n",
       "    </tr>\n",
       "  </tbody>\n",
       "</table>\n",
       "</div>"
      ],
      "text/plain": [
       "        accession       type variant_group variant  doublet  references\n",
       "0      AAV98010.1   Viral_H4                          False    35624484\n",
       "1  YP_009665791.1   Viral_H4                          False    35624484\n",
       "2      AGL91659.1   Viral_H4                          False    35624484\n",
       "3      AFN42307.1   Viral_H4                          False    35624484\n",
       "4      BCU02668.1  Viral_H2B                          False    35624484"
      ]
     },
     "execution_count": 23,
     "metadata": {},
     "output_type": "execute_result"
    }
   ],
   "source": [
    "df.head()"
   ]
  },
  {
   "cell_type": "code",
   "execution_count": 24,
   "metadata": {},
   "outputs": [
    {
     "data": {
      "text/plain": [
       "{'Viral_H1',\n",
       " 'Viral_H1+WWE',\n",
       " 'Viral_H2A',\n",
       " 'Viral_H2B',\n",
       " 'Viral_H2B-H2A',\n",
       " 'Viral_H3',\n",
       " 'Viral_H3-H4',\n",
       " 'Viral_H4',\n",
       " 'Viral_H4-H3',\n",
       " 'Viral_Hb-Ha',\n",
       " 'Viral_Hd-Hg',\n",
       " 'Viral_Hz-He',\n",
       " 'Viral_other-H4-H3'}"
      ]
     },
     "execution_count": 24,
     "metadata": {},
     "output_type": "execute_result"
    }
   ],
   "source": [
    "set(df['type'])"
   ]
  },
  {
   "cell_type": "code",
   "execution_count": 34,
   "metadata": {},
   "outputs": [
    {
     "data": {
      "text/plain": [
       "(47, 6)"
      ]
     },
     "execution_count": 34,
     "metadata": {},
     "output_type": "execute_result"
    }
   ],
   "source": [
    "df = pd.read_csv('mag_histones.csv').fillna('')\n",
    "df.shape"
   ]
  },
  {
   "cell_type": "code",
   "execution_count": 35,
   "metadata": {},
   "outputs": [
    {
     "data": {
      "text/html": [
       "<div>\n",
       "<style scoped>\n",
       "    .dataframe tbody tr th:only-of-type {\n",
       "        vertical-align: middle;\n",
       "    }\n",
       "\n",
       "    .dataframe tbody tr th {\n",
       "        vertical-align: top;\n",
       "    }\n",
       "\n",
       "    .dataframe thead th {\n",
       "        text-align: right;\n",
       "    }\n",
       "</style>\n",
       "<table border=\"1\" class=\"dataframe\">\n",
       "  <thead>\n",
       "    <tr style=\"text-align: right;\">\n",
       "      <th></th>\n",
       "      <th>accession</th>\n",
       "      <th>type</th>\n",
       "      <th>variant_group</th>\n",
       "      <th>variant</th>\n",
       "      <th>doublet</th>\n",
       "      <th>references</th>\n",
       "    </tr>\n",
       "  </thead>\n",
       "  <tbody>\n",
       "    <tr>\n",
       "      <th>0</th>\n",
       "      <td>contig_7330_16</td>\n",
       "      <td>MAG_H4</td>\n",
       "      <td></td>\n",
       "      <td></td>\n",
       "      <td>singlet</td>\n",
       "      <td>35624484</td>\n",
       "    </tr>\n",
       "    <tr>\n",
       "      <th>1</th>\n",
       "      <td>contig_3395_2</td>\n",
       "      <td>MAG_H3</td>\n",
       "      <td></td>\n",
       "      <td></td>\n",
       "      <td>singlet</td>\n",
       "      <td>35624484</td>\n",
       "    </tr>\n",
       "    <tr>\n",
       "      <th>2</th>\n",
       "      <td>contig_64216_2</td>\n",
       "      <td>MAG_H3</td>\n",
       "      <td></td>\n",
       "      <td></td>\n",
       "      <td>singlet</td>\n",
       "      <td>35624484</td>\n",
       "    </tr>\n",
       "    <tr>\n",
       "      <th>3</th>\n",
       "      <td>contig_5075_47</td>\n",
       "      <td>MAG_H3</td>\n",
       "      <td></td>\n",
       "      <td></td>\n",
       "      <td>singlet</td>\n",
       "      <td>35624484</td>\n",
       "    </tr>\n",
       "    <tr>\n",
       "      <th>4</th>\n",
       "      <td>AYV87056.1</td>\n",
       "      <td>MAG_H3</td>\n",
       "      <td></td>\n",
       "      <td></td>\n",
       "      <td>singlet</td>\n",
       "      <td>35624484</td>\n",
       "    </tr>\n",
       "  </tbody>\n",
       "</table>\n",
       "</div>"
      ],
      "text/plain": [
       "        accession    type variant_group variant  doublet  references\n",
       "0  contig_7330_16  MAG_H4                        singlet    35624484\n",
       "1   contig_3395_2  MAG_H3                        singlet    35624484\n",
       "2  contig_64216_2  MAG_H3                        singlet    35624484\n",
       "3  contig_5075_47  MAG_H3                        singlet    35624484\n",
       "4      AYV87056.1  MAG_H3                        singlet    35624484"
      ]
     },
     "execution_count": 35,
     "metadata": {},
     "output_type": "execute_result"
    }
   ],
   "source": [
    "df.head()"
   ]
  },
  {
   "cell_type": "code",
   "execution_count": 36,
   "metadata": {},
   "outputs": [
    {
     "data": {
      "text/plain": [
       "{'MAG_(HFD? + H2B? )+ H2A',\n",
       " 'MAG_H1 + WWE',\n",
       " 'MAG_H1+other',\n",
       " 'MAG_H2A',\n",
       " 'MAG_H2A-H2B',\n",
       " 'MAG_H2B-H2A',\n",
       " 'MAG_H2B-H2A-H3',\n",
       " 'MAG_H2B-H2A-H3-H4',\n",
       " 'MAG_H2B-H2A-H4-H3',\n",
       " 'MAG_H2B-H2A-other',\n",
       " 'MAG_H3',\n",
       " 'MAG_H4',\n",
       " 'MAG_H4-H3',\n",
       " 'MAG_other + (H2B?) + H2A',\n",
       " 'MAG_other + H3'}"
      ]
     },
     "execution_count": 36,
     "metadata": {},
     "output_type": "execute_result"
    }
   ],
   "source": [
    "set(df['type'])"
   ]
  },
  {
   "cell_type": "code",
   "execution_count": 37,
   "metadata": {},
   "outputs": [
    {
     "name": "stderr",
     "output_type": "stream",
     "text": [
      "/home/l_singh/.conda/envs/histdb_env/lib/python3.8/site-packages/Bio/Entrez/__init__.py:658: UserWarning: \n",
      "Email address is not specified.\n",
      "\n",
      "To make use of NCBI's E-utilities, NCBI requires you to specify your\n",
      "email address with each request.  As an example, if your email address\n",
      "is A.N.Other@example.com, you can specify it as follows:\n",
      "   from Bio import Entrez\n",
      "   Entrez.email = 'A.N.Other@example.com'\n",
      "In case of excessive usage of the E-utilities, NCBI will attempt to contact\n",
      "a user at the email address provided before blocking access to the\n",
      "E-utilities.\n",
      "  warnings.warn(\n"
     ]
    },
    {
     "name": "stdout",
     "output_type": "stream",
     "text": [
      "['Sylvanvirus sp.']\n",
      "['Marseillevirus LCMAC101']\n",
      "['Marseillevirus LCMAC101']\n",
      "['Marseillevirus LCMAC101']\n",
      "['Marseillevirus LCMAC101']\n",
      "['Marseillevirus LCMAC102']\n",
      "['Marseillevirus LCMAC102']\n",
      "['Marseillevirus LCMAC102']\n",
      "['Marseillevirus LCMAC201']\n",
      "['Marseillevirus LCMAC202']\n",
      "['Pithovirus LCPAC001']\n",
      "['Pithovirus LCPAC102']\n",
      "['Pithovirus LCPAC304']\n",
      "['Pithovirus LCPAC304']\n",
      "['Pithovirus LCPAC304']\n",
      "['Pithovirus LCPAC304']\n",
      "['Pithovirus LCPAC304']\n",
      "['Pithovirus LCPAC304']\n",
      "['Indivirus ILV1']\n",
      "['Klosneuvirus KNV1']\n"
     ]
    }
   ],
   "source": [
    "handle= Entrez.efetch(db=\"protein\", id=','.join(df['accession']), rettype=\"gb\", retmode=\"text\")\n",
    "data = list(SeqIO.parse(handle, \"gb\"))\n",
    "for d in data:\n",
    "    print(d.features[0].qualifiers['organism'])"
   ]
  },
  {
   "cell_type": "code",
   "execution_count": null,
   "metadata": {},
   "outputs": [],
   "source": []
  },
  {
   "cell_type": "code",
   "execution_count": null,
   "metadata": {},
   "outputs": [],
   "source": []
  },
  {
   "cell_type": "code",
   "execution_count": null,
   "metadata": {},
   "outputs": [],
   "source": [
    "cs.update_accession_version()\n",
    "cs.data=cs.data.set_index(cs.data.accession.values)"
   ]
  },
  {
   "cell_type": "code",
   "execution_count": null,
   "metadata": {},
   "outputs": [],
   "source": []
  }
 ],
 "metadata": {
  "kernelspec": {
   "display_name": "Python [conda env:.conda-histdb_env]",
   "language": "python",
   "name": "conda-env-.conda-histdb_env-py"
  },
  "language_info": {
   "codemirror_mode": {
    "name": "ipython",
    "version": 3
   },
   "file_extension": ".py",
   "mimetype": "text/x-python",
   "name": "python",
   "nbconvert_exporter": "python",
   "pygments_lexer": "ipython3",
   "version": "3.8.1"
  }
 },
 "nbformat": 4,
 "nbformat_minor": 4
}
