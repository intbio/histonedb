{
 "cells": [
  {
   "cell_type": "code",
   "execution_count": 38,
   "metadata": {},
   "outputs": [],
   "source": [
    "import os\n",
    "import pandas as pd\n",
    "import requests\n",
    "\n",
    "from Bio import AlignIO"
   ]
  },
  {
   "cell_type": "code",
   "execution_count": 11,
   "metadata": {},
   "outputs": [],
   "source": [
    "path = os.getcwd()"
   ]
  },
  {
   "cell_type": "code",
   "execution_count": 102,
   "metadata": {},
   "outputs": [],
   "source": [
    "var_dict = {\n",
    "'H1.0':'H1.0',\n",
    "'H1.1':'H1.1',#new\n",
    "'H1.2':'H1.2',#new\n",
    "'H1.3':'H1.3',#new\n",
    "'H1.4':'H1.4',#new\n",
    "'H1.5':'H1.5',#new\n",
    "'TS H1.6':'TS_H1.6',\n",
    "'TS H1.7':'TS_H1.7',\n",
    "'OO H1.8':'OO_H1.8',\n",
    "'TS H1.9':'TS_H1.9',\n",
    "'H1.10':'H1.10',\n",
    "'TS H2A.1':'H2A.1',\n",
    "'canonical H2A':'canonical_H2A',\n",
    "'H2A.J(?)':'H2A.J',#new\n",
    "'H2A.X':'H2A.X',\n",
    "'H2A.Z.1':'H2A.Z',\n",
    "'H2A.Z.2':'H2A.Z',\n",
    "'macroH2A.1':'macroH2A',\n",
    "'macroH2A.2':'macroH2A',\n",
    "'H2A.B.1':'H2A.B',\n",
    "'H2A.B.2':'H2A.B',\n",
    "'H2A.P':'H2A.P',\n",
    "'TS H2B.1':'H2B.1', \n",
    "'canonical H2B':'canonical_H2B',\n",
    "'H2B.S(?)':'H2B.S',#new\n",
    "'H2B.W':'H2B.W',\n",
    "'?':'skip', #new, to change (add histone_type to variant name)\n",
    "'canonical H3.1':'canonical_H3',\n",
    "'canonical H3.2':'canonical_H3',\n",
    "'H3.Y.1':'H3.Y',\n",
    "'H3.Y.2':'H3.Y',\n",
    "'canonical H3(?)':'canonical_H3',\n",
    "'H3.3':'H3.3',\n",
    "'TS H3.4':'TS_H3.4',\n",
    "'H3.5':'H3.5',\n",
    "'cenH3':'cenH3',\n",
    "'canonical H4':'canonical_H4',\n",
    "}\n",
    "\n",
    "var_dict_reverse = {v: k for k, v in var_dict.items()}"
   ]
  },
  {
   "cell_type": "code",
   "execution_count": 62,
   "metadata": {},
   "outputs": [],
   "source": [
    "hist_prot = pd.read_csv(os.path.join(path, \"static/human_hist/info/\", \"human_hist_proteins.csv\"))\n",
    "hist_genes = pd.read_csv(os.path.join(path, \"static/human_hist/info/\", \"human_hist_genes.csv\"), usecols=['Histone type', 'Histone variant', 'HGNC Symbol'])\n",
    "\n",
    "hist_prot = pd.merge(hist_prot, hist_genes.drop_duplicates(), on='HGNC Symbol', how='left')"
   ]
  },
  {
   "cell_type": "code",
   "execution_count": 107,
   "metadata": {},
   "outputs": [
    {
     "name": "stdout",
     "output_type": "stream",
     "text": [
      "CPU times: user 349 ms, sys: 53.1 ms, total: 402 ms\n",
      "Wall time: 21.8 s\n"
     ]
    }
   ],
   "source": [
    "%%time\n",
    "\n",
    "seqs=[]\n",
    "\n",
    "for i in hist_prot['Protein stable ID']:\n",
    "    seq=requests.get('http://rest.ensembl.org/sequence/id/%s?content-type=text/plain'%i).content\n",
    "    seqs.append(seq.decode(\"utf-8\"))\n",
    "    \n",
    "hist_seq = dict(zip(hist_prot['RefSeq peptide ID'],seqs))\n",
    "hist_prot['seq']=seqs"
   ]
  },
  {
   "cell_type": "code",
   "execution_count": 134,
   "metadata": {},
   "outputs": [
    {
     "data": {
      "text/plain": [
       "101"
      ]
     },
     "execution_count": 134,
     "metadata": {},
     "output_type": "execute_result"
    }
   ],
   "source": [
    "len(hist_prot)"
   ]
  },
  {
   "cell_type": "code",
   "execution_count": 135,
   "metadata": {},
   "outputs": [
    {
     "data": {
      "text/plain": [
       "97"
      ]
     },
     "execution_count": 135,
     "metadata": {},
     "output_type": "execute_result"
    }
   ],
   "source": [
    "len(hist_seq)"
   ]
  },
  {
   "cell_type": "code",
   "execution_count": 137,
   "metadata": {},
   "outputs": [
    {
     "data": {
      "text/plain": [
       "NP_004884       2\n",
       "NP_542160       2\n",
       "NP_001299582    2\n",
       "NP_001035248    2\n",
       "NP_066390       1\n",
       "               ..\n",
       "NP_066409       1\n",
       "NP_613075       1\n",
       "NP_003486       1\n",
       "NP_958844       1\n",
       "NP_005313       1\n",
       "Name: RefSeq peptide ID, Length: 97, dtype: int64"
      ]
     },
     "execution_count": 137,
     "metadata": {},
     "output_type": "execute_result"
    }
   ],
   "source": [
    "hist_prot['RefSeq peptide ID'].value_counts()"
   ]
  },
  {
   "cell_type": "code",
   "execution_count": 141,
   "metadata": {},
   "outputs": [
    {
     "name": "stdout",
     "output_type": "stream",
     "text": [
      "1\n",
      "1\n",
      "1\n",
      "1\n"
     ]
    }
   ],
   "source": [
    "for i in ['NP_004884', 'NP_542160','NP_001299582','NP_001035248']:\n",
    "    print( hist_prot['seq'].loc[hist_prot['RefSeq peptide ID'] == i].nunique() )"
   ]
  },
  {
   "cell_type": "code",
   "execution_count": null,
   "metadata": {},
   "outputs": [],
   "source": [
    "\n",
    "\n",
    "# alignment = AlignIO.read(open(\"PF09395_seed.sth\"), \"stockholm\")\n",
    "# print(\"Alignment length %i\" % alignment.get_alignment_length())\n",
    "# for record in alignment:\n",
    "#     print(record.seq + \" \" + record.id)"
   ]
  },
  {
   "cell_type": "code",
   "execution_count": 186,
   "metadata": {},
   "outputs": [],
   "source": [
    "hist_type = 'H4'\n",
    "hist_var = 'canonical_H4'\n",
    "\n",
    "\n",
    "alignment = AlignIO.read(os.path.join(path,\"static/browse/seeds/{}/\".format(hist_type),\"{}.fasta\".format(hist_var)), \"fasta\")"
   ]
  },
  {
   "cell_type": "code",
   "execution_count": 187,
   "metadata": {},
   "outputs": [
    {
     "name": "stdout",
     "output_type": "stream",
     "text": [
      "NP_003529 not in file, added\n",
      "NP_003535 not in file, added\n",
      "NP_003533 not in file, added\n",
      "NP_003530 not in file, added\n",
      "NP_003536 not in file, added\n",
      "NP_003531 not in file, added\n",
      "NP_003538 in file\n",
      "NP_003534 not in file, added\n",
      "NP_003486 not in file, added\n",
      "NP_068803 not in file, added\n",
      "NP_003532 not in file, added\n",
      "NP_003537 not in file, added\n",
      "NP_003539 not in file, added\n",
      "NP_001029249 in file\n",
      "NP_778224 not in file, added\n"
     ]
    }
   ],
   "source": [
    "fasta_variant = []\n",
    "for record in alignment:\n",
    "    fasta_variant.append(record.id.split('|')[1].split('.')[0])\n",
    "\n",
    "var_list = hist_prot['RefSeq peptide ID'].loc[hist_prot['Histone variant']=='{}'.format(var_dict_reverse[hist_var])].values\n",
    "\n",
    "uniq_seq = set()\n",
    "for refseq in var_list:\n",
    "    if refseq in fasta_variant:\n",
    "        print(f'{refseq} in file')\n",
    "    else:\n",
    "        print(f'{refseq} not in file, added') \n",
    "        uniq_seq.add(hist_seq[refseq])\n",
    "        #alignment.add_sequence(f'Homo|{refseq}|{hist_var}', hist_seq[refseq])\n",
    "\n",
    "for i in uniq_seq:\n",
    "    refseqs = list(hist_prot['RefSeq peptide ID'].loc[hist_prot['seq']==i])\n",
    "    refseqs = ','.join(refseqs) \n",
    "    alignment.add_sequence(f'Homo|{refseqs}|{hist_var}', i)\n",
    "        "
   ]
  },
  {
   "cell_type": "code",
   "execution_count": 175,
   "metadata": {},
   "outputs": [],
   "source": []
  },
  {
   "cell_type": "code",
   "execution_count": 188,
   "metadata": {},
   "outputs": [
    {
     "name": "stdout",
     "output_type": "stream",
     "text": [
      "Arabidopsis|NP_180441.1|canonical_H4\n",
      "MSGRGKGGK-GLGKGGAKRH-RKVLRDNIQGITKPAIRRLARRGGVKRISGLIYEETRGVLKIFLENVIRDAVTYTEHARRKTVTAMDVVYALKRQGRTLYGFGG\n",
      "Caenorhabditis|NP_492641.1|canonical_H4\n",
      "MSGRGKGGK-GLGKGGAKRH-RKVLRDNIQGITKPAIRRLARRGGVKRISGLIYEETRGVLKVFLENVIRDAVTYCEHAKRKTVTAMDVVYALKRQGRTLYGFGG\n",
      "Drosophila|NP_001027352.1|canonical_H4\n",
      "MTGRGKGGK-GLGKGGAKRH-RKVLRDNIQGITKPAIRRLARRGGVKRISGLIYEETRGVLKVFLENVIRDAVTYTEHAKRKTVTALDVVYALKRQGRTLYGFGG\n",
      "Gallus|NP_001032934.1|canonical_H4\n",
      "MSGRGKGGK-GLGKGGAKRH-RKVLRDNIQGITKPAIRRLARRGGVKRISGLIYEETRGVLKVFLENVIRDAVTYTEHAKRKTVTAMDVVYALKRQGRTLYGFGG\n",
      "Heterocephalus|XP_012928609.1|canonical_H4\n",
      "MSGRGKGGK-GLGKGGAKRH-RKVLRDNIQGITKPAIRRLARRGGVKRISGLIYEETRGVLKVFLENVIRDAVTYTEHAKRKTVTAMDVVYALKRQGRTLYGFGG\n",
      "Homo|NP_003538.1|canonical_H4\n",
      "MSVRGKAGK-GLGKGGAKCH-RKVLSDNIQGITKCTIRRLARHGGVKRILGLIYEETRRVFKVFLENVIWYAVTNTEHAKRKTVTAMAVVYVLKRQGRTL-----\n",
      "Homo|NP_001029249.1|canonical_H4\n",
      "MSGRGKGGK-GLGKGGAKRH-RKVLRDNIQGITKPAIRRLARRGGVKRISGLIYEETRGVLKVFLENVIRDAVTYTEHAKRKTVTAMDVVYALKRQGRTLYGFGG\n",
      "Mus|NP_291074.1|canonical_H4\n",
      "MSGRGKGGK-GLGKGGAKRH-RKVLRDNIQGITKPAIRRLARRGGVKRISGLIYEETRGVLKVFLENVIRDAVTYTEHAKRKTVTAMDVVYALKRQGRTLYGFGG\n",
      "Saccharomyces|NP_009563.1|canonical_H4\n",
      "MSGRGKGGK-GLGKGGAKRH-RKILRDNIQGITKPAIRRLARRGGVKRISGLIYEEVRAVLKSFLESVIRDSVTYTEHAKRKTVTSLDVVYALKRQGRTLYGFGG\n",
      "Strongylocentrotus|NP_999707.1|canonical_H4\n",
      "MSGRGKGGK-GLGKGGAKRH-RKVLRDNIQGITKPAIRRLARRGGVKRISGLIYEETRGVLKVFLENVIRDAVTYCEHAKRKTVTAMDVVYALKRQGRTLYGFGG\n",
      "Tetrahymena|XP_001016593.1|canonical_H4\n",
      "MAG-GKGGK-GMGKVGAKRHSRKSNKASIEGITKPAIRRLARRGGVKRISSFIYDDSRQVLKSFLENVVRDAVTYTEHARRKTVTAMDVVYALKRQGRTLYGFGG\n",
      "Trypanosoma|XP_951561.1|canonical_H4\n",
      "---MAKGKRVGESKGAQKRQ-KKVLRDNVRGITRGSIRRLARRAGVKRISGVIYDEVRGVLKTFVESIVRDAGAYTEYSRKKTVTAAHVVFALRKRGKVLYGYD-\n",
      "Xenopus|NP_001087926.1|canonical_H4\n",
      "MSGRGKGGK-GLGKGGAKRH-RKVLRDNIQGITKPAIRRLARRGGVKRISGLIYEETRGVLKVFLENVIRDAVTYTEHAKRKTVTAMDVVYALKRQGRTLYGFGG\n",
      "Zea|NP_001131585.1|canonical_H4\n",
      "MSGRGKGGK-GLGKGGAKRH-RKVLRDNIQGITKPAIRRLARRGGVKRISGLIYEETRGVLKIFLENVIRDAVTYTEHARRKTVTAMDVVYALKRQGRTLYGFGG\n",
      "Homo|NP_003529,NP_003535,NP_003533,NP_003530,NP_003536,NP_003531,NP_003534,NP_003486,NP_068803,NP_003532,NP_003537,NP_003539,NP_001029249,NP_778224|canonical_H4\n",
      "MSGRGKGGKGLGKGGAKRHRKVLRDNIQGITKPAIRRLARRGGVKRISGLIYEETRGVLKVFLENVIRDAVTYTEHAKRKTVTAMDVVYALKRQGRTLYGFGG\n"
     ]
    }
   ],
   "source": [
    "for r in alignment:\n",
    "    print(r.id + \"\\n\" + r.seq)"
   ]
  },
  {
   "cell_type": "code",
   "execution_count": null,
   "metadata": {},
   "outputs": [],
   "source": []
  },
  {
   "cell_type": "code",
   "execution_count": null,
   "metadata": {},
   "outputs": [],
   "source": []
  }
 ],
 "metadata": {
  "kernelspec": {
   "display_name": "Python [conda env:.conda-chrombioinf]",
   "language": "python",
   "name": "conda-env-.conda-chrombioinf-py"
  },
  "language_info": {
   "codemirror_mode": {
    "name": "ipython",
    "version": 3
   },
   "file_extension": ".py",
   "mimetype": "text/x-python",
   "name": "python",
   "nbconvert_exporter": "python",
   "pygments_lexer": "ipython3",
   "version": "3.9.4"
  }
 },
 "nbformat": 4,
 "nbformat_minor": 4
}
